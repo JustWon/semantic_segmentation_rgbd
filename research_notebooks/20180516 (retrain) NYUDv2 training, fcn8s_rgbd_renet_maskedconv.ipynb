{
 "cells": [
  {
   "cell_type": "code",
   "execution_count": 1,
   "metadata": {},
   "outputs": [],
   "source": [
    "%matplotlib inline\n",
    "import os\n",
    "import collections\n",
    "import torch\n",
    "import torchvision\n",
    "import numpy as np\n",
    "import scipy.misc as m\n",
    "import scipy.io as io\n",
    "import matplotlib.pyplot as plt\n",
    "\n",
    "from NYUDv2Loader import *\n",
    "\n",
    "os.environ['CUDA_VISIBLE_DEVICES'] = '1'\n",
    "data_path = '/home/dongwonshin/Desktop/Datasets/NYUDv2/'\n",
    "arg_string = '--arch fcn8s_rgbd_renet_maskedconv --batch_size 1 --model_path fcn8s_rgbd_renet_maskedconv_NYUDv2_best_model.pkl'"
   ]
  },
  {
   "cell_type": "markdown",
   "metadata": {},
   "source": [
    "# Argument setting"
   ]
  },
  {
   "cell_type": "code",
   "execution_count": 2,
   "metadata": {},
   "outputs": [],
   "source": [
    "import sys, os\n",
    "import torch\n",
    "import visdom\n",
    "import argparse\n",
    "import numpy as np\n",
    "import torch.nn as nn\n",
    "import torch.nn.functional as F\n",
    "import torchvision.models as models\n",
    "\n",
    "from torch.autograd import Variable\n",
    "from torch.utils import data\n",
    "from tqdm import tqdm\n",
    "\n",
    "from ptsemseg.models import get_model\n",
    "from ptsemseg.loader import get_loader, get_data_path\n",
    "from ptsemseg.metrics import runningScore\n",
    "from ptsemseg.utils import convert_state_dict\n",
    "\n",
    "from ptsemseg.loss import *\n",
    "from ptsemseg.augmentations import *\n",
    "\n",
    "\n",
    "parser = argparse.ArgumentParser(description='Hyperparams')\n",
    "parser.add_argument('--arch', nargs='?', type=str, default='fcn8s', help='Architecture to use [\\'fcn8s, unet, segnet etc\\']')\n",
    "parser.add_argument('--img_rows', nargs='?', type=int, default=256, help='Height of the input image')\n",
    "parser.add_argument('--img_cols', nargs='?', type=int, default=256, help='Width of the input image')\n",
    "\n",
    "parser.add_argument('--img_norm', dest='img_norm', action='store_true', help='Enable input image scales normalization [0, 1] | True by default')\n",
    "parser.add_argument('--no-img_norm', dest='img_norm', action='store_false', help='Disable input image scales normalization [0, 1] | True by default')\n",
    "parser.set_defaults(img_norm=True)\n",
    "\n",
    "parser.add_argument('--n_epoch', nargs='?', type=int, default=100, help='# of the epochs')\n",
    "parser.add_argument('--batch_size', nargs='?', type=int, default=1, help='Batch Size')\n",
    "parser.add_argument('--l_rate', nargs='?', type=float, default=1e-5, help='Learning Rate')\n",
    "parser.add_argument('--feature_scale', nargs='?', type=int, default=1, help='Divider for # of features to use')\n",
    "parser.add_argument('--resume', nargs='?', type=str, default=None, help='Path to previous saved model to restart from')\n",
    "\n",
    "parser.add_argument('--visdom', dest='visdom', action='store_true', help='Enable visualization(s) on visdom | False by default')\n",
    "parser.add_argument('--no-visdom', dest='visdom', action='store_false', help='Disable visualization(s) on visdom | False by default')\n",
    "parser.add_argument('--model_path', nargs='?', type=str, default='fcn8s_pascal_1_26.pkl', help='Path to the saved model')\n",
    "parser.set_defaults(visdom=False)"
   ]
  },
  {
   "cell_type": "code",
   "execution_count": 3,
   "metadata": {},
   "outputs": [],
   "source": [
    "args = parser.parse_args(arg_string.split(' '))\n",
    "\n",
    "# Setup Augmentations\n",
    "data_aug= Compose([RandomRotate(10), RandomHorizontallyFlip()])\n",
    "\n",
    "# Setup Dataloader\n",
    "t_loader = NYUDv2Loader(data_path, is_transform=True)\n",
    "v_loader = NYUDv2Loader(data_path, is_transform=True, split='val')\n",
    "\n",
    "n_classes = t_loader.n_classes\n",
    "trainloader = data.DataLoader(t_loader, batch_size=args.batch_size, num_workers=16, shuffle=True)\n",
    "valloader = data.DataLoader(v_loader, batch_size=args.batch_size, num_workers=16)\n",
    "\n",
    "# Setup Metrics\n",
    "running_metrics = runningScore(n_classes)\n",
    "\n"
   ]
  },
  {
   "cell_type": "code",
   "execution_count": 4,
   "metadata": {},
   "outputs": [],
   "source": [
    "\n",
    "# Setup visdom for visualization\n",
    "if args.visdom:\n",
    "    vis = visdom.Visdom()\n",
    "\n",
    "    loss_window = vis.line(X=torch.zeros((1,)).cpu(),\n",
    "                       Y=torch.zeros((1)).cpu(),\n",
    "                       opts=dict(xlabel='minibatches',\n",
    "                                 ylabel='Loss',\n",
    "                                 title='Training Loss',\n",
    "                                 legend=['Loss']))\n"
   ]
  },
  {
   "cell_type": "code",
   "execution_count": 5,
   "metadata": {},
   "outputs": [
    {
     "data": {
      "text/plain": [
       "fcn8s_rgbd_renet_maskedconv(\n",
       "  (conv_block1): Sequential(\n",
       "    (0): Conv2d(3, 64, kernel_size=(3, 3), stride=(1, 1), padding=(100, 100))\n",
       "    (1): ReLU(inplace)\n",
       "    (2): Conv2d(64, 64, kernel_size=(3, 3), stride=(1, 1), padding=(1, 1))\n",
       "    (3): ReLU(inplace)\n",
       "    (4): MaxPool2d(kernel_size=(2, 2), stride=(2, 2), dilation=(1, 1), ceil_mode=True)\n",
       "  )\n",
       "  (depth_conv_block1): Sequential(\n",
       "    (0): Conv2d(1, 64, kernel_size=(3, 3), stride=(1, 1), padding=(100, 100))\n",
       "    (1): ReLU(inplace)\n",
       "    (2): Conv2d(64, 64, kernel_size=(3, 3), stride=(1, 1), padding=(1, 1))\n",
       "    (3): ReLU(inplace)\n",
       "    (4): MaxPool2d(kernel_size=(2, 2), stride=(2, 2), dilation=(1, 1), ceil_mode=True)\n",
       "  )\n",
       "  (conv_block2): Sequential(\n",
       "    (0): Conv2d(64, 128, kernel_size=(3, 3), stride=(1, 1), padding=(1, 1))\n",
       "    (1): ReLU(inplace)\n",
       "    (2): Conv2d(128, 128, kernel_size=(3, 3), stride=(1, 1), padding=(1, 1))\n",
       "    (3): ReLU(inplace)\n",
       "    (4): MaxPool2d(kernel_size=(2, 2), stride=(2, 2), dilation=(1, 1), ceil_mode=True)\n",
       "  )\n",
       "  (conv_block3): Sequential(\n",
       "    (0): Conv2d(128, 256, kernel_size=(3, 3), stride=(1, 1), padding=(1, 1))\n",
       "    (1): ReLU(inplace)\n",
       "    (2): Conv2d(256, 256, kernel_size=(3, 3), stride=(1, 1), padding=(1, 1))\n",
       "    (3): ReLU(inplace)\n",
       "    (4): Conv2d(256, 256, kernel_size=(3, 3), stride=(1, 1), padding=(1, 1))\n",
       "    (5): ReLU(inplace)\n",
       "    (6): MaxPool2d(kernel_size=(2, 2), stride=(2, 2), dilation=(1, 1), ceil_mode=True)\n",
       "  )\n",
       "  (conv_block4): Sequential(\n",
       "    (0): Conv2d(256, 512, kernel_size=(3, 3), stride=(1, 1), padding=(1, 1))\n",
       "    (1): ReLU(inplace)\n",
       "    (2): Conv2d(512, 512, kernel_size=(3, 3), stride=(1, 1), padding=(1, 1))\n",
       "    (3): ReLU(inplace)\n",
       "    (4): Conv2d(512, 512, kernel_size=(3, 3), stride=(1, 1), padding=(1, 1))\n",
       "    (5): ReLU(inplace)\n",
       "    (6): MaxPool2d(kernel_size=(2, 2), stride=(2, 2), dilation=(1, 1), ceil_mode=True)\n",
       "  )\n",
       "  (conv_block5): Sequential(\n",
       "    (0): Conv2d(512, 512, kernel_size=(3, 3), stride=(1, 1), padding=(1, 1))\n",
       "    (1): ReLU(inplace)\n",
       "    (2): Conv2d(512, 512, kernel_size=(3, 3), stride=(1, 1), padding=(1, 1))\n",
       "    (3): ReLU(inplace)\n",
       "    (4): Conv2d(512, 512, kernel_size=(3, 3), stride=(1, 1), padding=(1, 1))\n",
       "    (5): ReLU(inplace)\n",
       "    (6): MaxPool2d(kernel_size=(2, 2), stride=(2, 2), dilation=(1, 1), ceil_mode=True)\n",
       "  )\n",
       "  (masked_conv): Sequential(\n",
       "    (0): MaskedConv2d(512, 512, kernel_size=(7, 7), stride=(1, 1), padding=(3, 3), bias=False)\n",
       "    (1): BatchNorm2d(512, eps=1e-05, momentum=0.1, affine=True)\n",
       "    (2): ReLU(inplace)\n",
       "    (3): MaskedConv2d(512, 512, kernel_size=(7, 7), stride=(1, 1), padding=(3, 3), bias=False)\n",
       "    (4): BatchNorm2d(512, eps=1e-05, momentum=0.1, affine=True)\n",
       "    (5): ReLU(inplace)\n",
       "    (6): Conv2d(512, 512, kernel_size=(1, 1), stride=(1, 1))\n",
       "  )\n",
       "  (classifier): Sequential(\n",
       "    (0): Conv2d(512, 4096, kernel_size=(7, 7), stride=(1, 1))\n",
       "    (1): ReLU(inplace)\n",
       "    (2): Dropout2d(p=0.5)\n",
       "    (3): Conv2d(4096, 4096, kernel_size=(1, 1), stride=(1, 1))\n",
       "    (4): ReLU(inplace)\n",
       "    (5): Dropout2d(p=0.5)\n",
       "    (6): Conv2d(4096, 14, kernel_size=(1, 1), stride=(1, 1))\n",
       "  )\n",
       "  (score_pool4): Conv2d(512, 14, kernel_size=(1, 1), stride=(1, 1))\n",
       "  (score_pool3): Conv2d(256, 14, kernel_size=(1, 1), stride=(1, 1))\n",
       "  (renet): ReNet(\n",
       "    (rnn_hor): GRU(256, 128, batch_first=True, bidirectional=True)\n",
       "    (rnn_ver): GRU(256, 128, batch_first=True, bidirectional=True)\n",
       "  )\n",
       ")"
      ]
     },
     "execution_count": 5,
     "metadata": {},
     "output_type": "execute_result"
    }
   ],
   "source": [
    "# Setup Model\n",
    "model = get_model('fcn8s_rgbd_renet_maskedconv', n_classes)\n",
    "state = convert_state_dict(torch.load('fcn8s_rgbd_renet_maskedconv_NYUDv2_best_model.pkl')['model_state'])\n",
    "model.load_state_dict(state)\n",
    "model.cuda()"
   ]
  },
  {
   "cell_type": "code",
   "execution_count": 6,
   "metadata": {},
   "outputs": [],
   "source": [
    "\n",
    "model = torch.nn.DataParallel(model, device_ids=range(torch.cuda.device_count()))\n",
    "model.cuda()\n",
    "\n",
    "# Check if model has custom optimizer / loss\n",
    "if hasattr(model.module, 'optimizer'):\n",
    "    optimizer = model.module.optimizer\n",
    "else:\n",
    "    optimizer = torch.optim.SGD(model.parameters(), lr=args.l_rate, momentum=0.99, weight_decay=5e-4)\n",
    "\n",
    "if hasattr(model.module, 'loss'):\n",
    "    print('Using custom loss')\n",
    "    loss_fn = model.module.loss\n",
    "else:\n",
    "    loss_fn = cross_entropy2d\n",
    "\n",
    "if args.resume is not None:                                         \n",
    "    if os.path.isfile(args.resume):\n",
    "        print(\"Loading model and optimizer from checkpoint '{}'\".format(args.resume))\n",
    "        checkpoint = torch.load(args.resume)\n",
    "        model.load_state_dict(checkpoint['model_state'])\n",
    "        optimizer.load_state_dict(checkpoint['optimizer_state'])\n",
    "        print(\"Loaded checkpoint '{}' (epoch {})\"                    \n",
    "              .format(args.resume, checkpoint['epoch']))\n",
    "    else:\n",
    "        print(\"No checkpoint found at '{}'\".format(args.resume)) "
   ]
  },
  {
   "cell_type": "markdown",
   "metadata": {},
   "source": [
    "# Retraining"
   ]
  },
  {
   "cell_type": "code",
   "execution_count": null,
   "metadata": {},
   "outputs": [
    {
     "name": "stderr",
     "output_type": "stream",
     "text": [
      "/home/dongwonshin/.conda/envs/pytorch/lib/python3.6/site-packages/torch/nn/functional.py:1462: UserWarning: nn.functional.upsample_bilinear is deprecated. Use nn.functional.upsample instead.\n",
      "  warnings.warn(\"nn.functional.upsample_bilinear is deprecated. Use nn.functional.upsample instead.\")\n"
     ]
    },
    {
     "name": "stdout",
     "output_type": "stream",
     "text": [
      "Epoch [1/100] Loss: 0.6700\n",
      "Epoch [1/100] Loss: 0.4108\n",
      "Epoch [1/100] Loss: 0.3484\n",
      "Epoch [1/100] Loss: 0.5087\n",
      "Epoch [1/100] Loss: 0.6477\n",
      "Epoch [1/100] Loss: 0.5684\n",
      "Epoch [1/100] Loss: 0.4184\n",
      "Epoch [1/100] Loss: 0.2865\n",
      "Epoch [1/100] Loss: 0.6011\n",
      "Epoch [1/100] Loss: 0.5326\n",
      "Epoch [1/100] Loss: 0.3604\n",
      "Epoch [1/100] Loss: 0.8140\n",
      "Epoch [1/100] Loss: 0.3643\n",
      "Epoch [1/100] Loss: 0.5722\n",
      "Epoch [1/100] Loss: 0.6673\n",
      "Epoch [1/100] Loss: 0.4742\n",
      "Epoch [1/100] Loss: 0.6045\n",
      "Epoch [1/100] Loss: 0.3847\n",
      "Epoch [1/100] Loss: 0.3200\n",
      "Epoch [1/100] Loss: 0.6080\n",
      "Epoch [1/100] Loss: 0.6261\n",
      "Epoch [1/100] Loss: 0.4750\n",
      "Epoch [1/100] Loss: 0.6540\n",
      "Epoch [1/100] Loss: 0.5345\n",
      "Epoch [1/100] Loss: 0.4717\n",
      "Epoch [1/100] Loss: 0.6687\n",
      "Epoch [1/100] Loss: 0.3037\n",
      "Epoch [1/100] Loss: 0.2690\n",
      "Epoch [1/100] Loss: 0.4513\n",
      "Epoch [1/100] Loss: 0.5540\n",
      "Epoch [1/100] Loss: 0.4336\n",
      "Epoch [1/100] Loss: 0.6925\n",
      "Epoch [1/100] Loss: 0.7310\n",
      "Epoch [1/100] Loss: 0.5243\n",
      "Epoch [1/100] Loss: 0.4604\n",
      "Epoch [1/100] Loss: 0.4704\n",
      "Epoch [1/100] Loss: 0.3713\n",
      "Epoch [1/100] Loss: 0.5064\n",
      "Epoch [1/100] Loss: 0.6888\n"
     ]
    },
    {
     "name": "stderr",
     "output_type": "stream",
     "text": [
      "654it [01:49,  6.00it/s]\n"
     ]
    },
    {
     "name": "stdout",
     "output_type": "stream",
     "text": [
      "Overall Acc: \t 0.563596512447\n",
      "Mean Acc : \t 0.460810027112\n",
      "FreqW Acc : \t 0.396077814798\n",
      "Mean IoU : \t 0.333418897682\n",
      "Epoch [2/100] Loss: 0.5707\n",
      "Epoch [2/100] Loss: 0.4628\n",
      "Epoch [2/100] Loss: 0.9656\n",
      "Epoch [2/100] Loss: 0.4752\n",
      "Epoch [2/100] Loss: 0.3990\n",
      "Epoch [2/100] Loss: 0.8508\n",
      "Epoch [2/100] Loss: 0.4215\n",
      "Epoch [2/100] Loss: 0.6424\n",
      "Epoch [2/100] Loss: 0.6179\n",
      "Epoch [2/100] Loss: 0.4009\n",
      "Epoch [2/100] Loss: 0.4119\n",
      "Epoch [2/100] Loss: 0.3982\n",
      "Epoch [2/100] Loss: 0.6553\n",
      "Epoch [2/100] Loss: 0.4372\n",
      "Epoch [2/100] Loss: 0.3871\n",
      "Epoch [2/100] Loss: 0.7075\n",
      "Epoch [2/100] Loss: 0.6786\n",
      "Epoch [2/100] Loss: 0.4405\n",
      "Epoch [2/100] Loss: 0.4859\n",
      "Epoch [2/100] Loss: 0.5640\n",
      "Epoch [2/100] Loss: 0.4611\n",
      "Epoch [2/100] Loss: 0.5598\n",
      "Epoch [2/100] Loss: 0.8004\n",
      "Epoch [2/100] Loss: 0.4566\n",
      "Epoch [2/100] Loss: 0.6114\n",
      "Epoch [2/100] Loss: 0.8653\n",
      "Epoch [2/100] Loss: 0.5794\n",
      "Epoch [2/100] Loss: 0.4394\n",
      "Epoch [2/100] Loss: 0.5943\n",
      "Epoch [2/100] Loss: 0.7529\n",
      "Epoch [2/100] Loss: 0.4005\n",
      "Epoch [2/100] Loss: 0.4531\n",
      "Epoch [2/100] Loss: 0.6200\n",
      "Epoch [2/100] Loss: 0.3258\n",
      "Epoch [2/100] Loss: 0.6889\n",
      "Epoch [2/100] Loss: 0.7557\n",
      "Epoch [2/100] Loss: 0.3129\n",
      "Epoch [2/100] Loss: 0.7324\n",
      "Epoch [2/100] Loss: 0.2630\n"
     ]
    },
    {
     "name": "stderr",
     "output_type": "stream",
     "text": [
      "654it [01:48,  6.00it/s]\n"
     ]
    },
    {
     "name": "stdout",
     "output_type": "stream",
     "text": [
      "Overall Acc: \t 0.563983922058\n",
      "Mean Acc : \t 0.511999940667\n",
      "FreqW Acc : \t 0.406296560941\n",
      "Mean IoU : \t 0.347835211782\n",
      "Epoch [3/100] Loss: 0.5756\n",
      "Epoch [3/100] Loss: 0.4719\n",
      "Epoch [3/100] Loss: 0.6150\n",
      "Epoch [3/100] Loss: 0.7240\n",
      "Epoch [3/100] Loss: 0.6038\n",
      "Epoch [3/100] Loss: 0.5984\n",
      "Epoch [3/100] Loss: 0.4154\n",
      "Epoch [3/100] Loss: 0.4653\n",
      "Epoch [3/100] Loss: 0.4860\n",
      "Epoch [3/100] Loss: 0.3844\n",
      "Epoch [3/100] Loss: 0.4914\n",
      "Epoch [3/100] Loss: 0.4586\n",
      "Epoch [3/100] Loss: 0.5351\n",
      "Epoch [3/100] Loss: 0.3809\n",
      "Epoch [3/100] Loss: 0.3067\n",
      "Epoch [3/100] Loss: 0.4600\n",
      "Epoch [3/100] Loss: 0.2365\n",
      "Epoch [3/100] Loss: 0.5388\n",
      "Epoch [3/100] Loss: 0.8598\n",
      "Epoch [3/100] Loss: 0.6498\n",
      "Epoch [3/100] Loss: 0.6236\n",
      "Epoch [3/100] Loss: 0.5834\n",
      "Epoch [3/100] Loss: 0.7227\n",
      "Epoch [3/100] Loss: 0.5084\n",
      "Epoch [3/100] Loss: 0.3848\n",
      "Epoch [3/100] Loss: 0.3664\n",
      "Epoch [3/100] Loss: 0.3703\n",
      "Epoch [3/100] Loss: 0.3564\n",
      "Epoch [3/100] Loss: 0.4988\n",
      "Epoch [3/100] Loss: 0.5247\n",
      "Epoch [3/100] Loss: 0.4729\n",
      "Epoch [3/100] Loss: 0.4523\n",
      "Epoch [3/100] Loss: 0.5691\n",
      "Epoch [3/100] Loss: 0.5201\n",
      "Epoch [3/100] Loss: 0.7170\n",
      "Epoch [3/100] Loss: 0.3279\n",
      "Epoch [3/100] Loss: 0.6610\n",
      "Epoch [3/100] Loss: 0.5555\n",
      "Epoch [3/100] Loss: 0.5609\n"
     ]
    },
    {
     "name": "stderr",
     "output_type": "stream",
     "text": [
      "654it [01:48,  6.01it/s]"
     ]
    },
    {
     "name": "stdout",
     "output_type": "stream",
     "text": [
      "Overall Acc: \t 0.544722680141\n",
      "Mean Acc : \t 0.481754400759\n",
      "FreqW Acc : \t 0.393460931245\n",
      "Mean IoU : \t 0.328034104321\n"
     ]
    },
    {
     "name": "stderr",
     "output_type": "stream",
     "text": [
      "\n"
     ]
    },
    {
     "name": "stdout",
     "output_type": "stream",
     "text": [
      "Epoch [4/100] Loss: 0.6255\n",
      "Epoch [4/100] Loss: 0.3739\n",
      "Epoch [4/100] Loss: 0.7430\n",
      "Epoch [4/100] Loss: 0.4549\n",
      "Epoch [4/100] Loss: 0.4268\n",
      "Epoch [4/100] Loss: 0.3103\n",
      "Epoch [4/100] Loss: 0.3120\n",
      "Epoch [4/100] Loss: 0.5529\n",
      "Epoch [4/100] Loss: 0.4892\n",
      "Epoch [4/100] Loss: 0.3866\n",
      "Epoch [4/100] Loss: 0.5544\n",
      "Epoch [4/100] Loss: 0.5760\n",
      "Epoch [4/100] Loss: 0.3582\n",
      "Epoch [4/100] Loss: 0.5330\n",
      "Epoch [4/100] Loss: 0.3945\n",
      "Epoch [4/100] Loss: 0.5049\n",
      "Epoch [4/100] Loss: 0.3660\n",
      "Epoch [4/100] Loss: 0.5145\n",
      "Epoch [4/100] Loss: 0.2752\n",
      "Epoch [4/100] Loss: 0.3793\n",
      "Epoch [4/100] Loss: 0.5592\n",
      "Epoch [4/100] Loss: 0.4719\n",
      "Epoch [4/100] Loss: 0.6320\n",
      "Epoch [4/100] Loss: 0.4557\n",
      "Epoch [4/100] Loss: 0.4557\n",
      "Epoch [4/100] Loss: 0.5720\n",
      "Epoch [4/100] Loss: 0.4158\n",
      "Epoch [4/100] Loss: 0.2611\n",
      "Epoch [4/100] Loss: 0.4390\n",
      "Epoch [4/100] Loss: 0.3068\n",
      "Epoch [4/100] Loss: 0.5702\n",
      "Epoch [4/100] Loss: 0.5476\n",
      "Epoch [4/100] Loss: 0.1747\n",
      "Epoch [4/100] Loss: 0.5347\n",
      "Epoch [4/100] Loss: 0.5334\n",
      "Epoch [4/100] Loss: 0.3133\n",
      "Epoch [4/100] Loss: 0.5749\n",
      "Epoch [4/100] Loss: 0.6663\n",
      "Epoch [4/100] Loss: 0.3685\n"
     ]
    },
    {
     "name": "stderr",
     "output_type": "stream",
     "text": [
      "654it [01:48,  6.02it/s]"
     ]
    },
    {
     "name": "stdout",
     "output_type": "stream",
     "text": [
      "Overall Acc: \t 0.557500099548\n",
      "Mean Acc : \t 0.491237972212\n",
      "FreqW Acc : \t 0.400968415162\n",
      "Mean IoU : \t 0.339964740955\n"
     ]
    },
    {
     "name": "stderr",
     "output_type": "stream",
     "text": [
      "\n"
     ]
    },
    {
     "name": "stdout",
     "output_type": "stream",
     "text": [
      "Epoch [5/100] Loss: 0.3586\n",
      "Epoch [5/100] Loss: 0.6058\n",
      "Epoch [5/100] Loss: 0.4092\n",
      "Epoch [5/100] Loss: 0.7117\n",
      "Epoch [5/100] Loss: 0.5926\n",
      "Epoch [5/100] Loss: 0.3605\n",
      "Epoch [5/100] Loss: 0.3538\n",
      "Epoch [5/100] Loss: 0.5032\n",
      "Epoch [5/100] Loss: 0.4541\n",
      "Epoch [5/100] Loss: 0.4717\n",
      "Epoch [5/100] Loss: 0.4817\n",
      "Epoch [5/100] Loss: 0.4739\n",
      "Epoch [5/100] Loss: 0.4127\n",
      "Epoch [5/100] Loss: 0.3971\n",
      "Epoch [5/100] Loss: 0.3086\n",
      "Epoch [5/100] Loss: 0.3457\n",
      "Epoch [5/100] Loss: 0.6436\n",
      "Epoch [5/100] Loss: 0.6670\n",
      "Epoch [5/100] Loss: 0.5457\n",
      "Epoch [5/100] Loss: 0.3474\n",
      "Epoch [5/100] Loss: 0.4795\n",
      "Epoch [5/100] Loss: 0.3520\n",
      "Epoch [5/100] Loss: 0.6042\n",
      "Epoch [5/100] Loss: 0.5340\n",
      "Epoch [5/100] Loss: 0.6354\n",
      "Epoch [5/100] Loss: 0.6148\n",
      "Epoch [5/100] Loss: 0.4735\n",
      "Epoch [5/100] Loss: 0.5490\n",
      "Epoch [5/100] Loss: 0.4256\n",
      "Epoch [5/100] Loss: 0.4769\n",
      "Epoch [5/100] Loss: 0.3608\n",
      "Epoch [5/100] Loss: 0.6065\n",
      "Epoch [5/100] Loss: 0.5981\n",
      "Epoch [5/100] Loss: 0.4465\n",
      "Epoch [5/100] Loss: 0.6472\n",
      "Epoch [5/100] Loss: 0.6191\n",
      "Epoch [5/100] Loss: 0.4979\n",
      "Epoch [5/100] Loss: 0.2486\n",
      "Epoch [5/100] Loss: 0.7429\n"
     ]
    },
    {
     "name": "stderr",
     "output_type": "stream",
     "text": [
      "654it [01:49,  6.00it/s]"
     ]
    },
    {
     "name": "stdout",
     "output_type": "stream",
     "text": [
      "Overall Acc: \t 0.563007250056\n",
      "Mean Acc : \t 0.51403189291\n",
      "FreqW Acc : \t 0.400489980781\n",
      "Mean IoU : \t 0.335968409484\n"
     ]
    },
    {
     "name": "stderr",
     "output_type": "stream",
     "text": [
      "\n"
     ]
    },
    {
     "name": "stdout",
     "output_type": "stream",
     "text": [
      "Epoch [6/100] Loss: 0.5656\n",
      "Epoch [6/100] Loss: 0.3662\n",
      "Epoch [6/100] Loss: 0.3889\n",
      "Epoch [6/100] Loss: 0.2800\n",
      "Epoch [6/100] Loss: 0.2138\n",
      "Epoch [6/100] Loss: 0.6740\n",
      "Epoch [6/100] Loss: 0.4091\n",
      "Epoch [6/100] Loss: 0.3400\n",
      "Epoch [6/100] Loss: 0.4977\n",
      "Epoch [6/100] Loss: 0.4529\n",
      "Epoch [6/100] Loss: 0.1493\n",
      "Epoch [6/100] Loss: 0.2003\n",
      "Epoch [6/100] Loss: 0.4171\n",
      "Epoch [6/100] Loss: 0.5278\n",
      "Epoch [6/100] Loss: 0.2953\n",
      "Epoch [6/100] Loss: 0.2658\n",
      "Epoch [6/100] Loss: 0.5627\n",
      "Epoch [6/100] Loss: 0.3386\n",
      "Epoch [6/100] Loss: 0.4645\n",
      "Epoch [6/100] Loss: 0.3933\n",
      "Epoch [6/100] Loss: 0.2789\n",
      "Epoch [6/100] Loss: 0.7631\n",
      "Epoch [6/100] Loss: 0.2499\n",
      "Epoch [6/100] Loss: 0.3429\n",
      "Epoch [6/100] Loss: 0.3425\n",
      "Epoch [6/100] Loss: 0.3873\n",
      "Epoch [6/100] Loss: 0.2731\n",
      "Epoch [6/100] Loss: 0.4341\n",
      "Epoch [6/100] Loss: 0.3975\n",
      "Epoch [6/100] Loss: 0.3271\n",
      "Epoch [6/100] Loss: 0.2388\n",
      "Epoch [6/100] Loss: 0.4373\n",
      "Epoch [6/100] Loss: 0.3340\n",
      "Epoch [6/100] Loss: 0.4280\n",
      "Epoch [6/100] Loss: 0.2545\n",
      "Epoch [6/100] Loss: 0.3343\n",
      "Epoch [6/100] Loss: 0.4820\n",
      "Epoch [6/100] Loss: 0.4335\n",
      "Epoch [6/100] Loss: 0.4396\n"
     ]
    },
    {
     "name": "stderr",
     "output_type": "stream",
     "text": [
      "654it [01:49,  5.99it/s]"
     ]
    },
    {
     "name": "stdout",
     "output_type": "stream",
     "text": [
      "Overall Acc: \t 0.571137730154\n",
      "Mean Acc : \t 0.471339534544\n",
      "FreqW Acc : \t 0.406785907577\n",
      "Mean IoU : \t 0.344028468869\n"
     ]
    },
    {
     "name": "stderr",
     "output_type": "stream",
     "text": [
      "\n"
     ]
    },
    {
     "name": "stdout",
     "output_type": "stream",
     "text": [
      "Epoch [7/100] Loss: 0.4138\n",
      "Epoch [7/100] Loss: 0.2845\n",
      "Epoch [7/100] Loss: 0.3354\n",
      "Epoch [7/100] Loss: 0.3741\n",
      "Epoch [7/100] Loss: 0.4317\n",
      "Epoch [7/100] Loss: 0.3709\n",
      "Epoch [7/100] Loss: 0.3034\n",
      "Epoch [7/100] Loss: 0.5998\n",
      "Epoch [7/100] Loss: 0.2652\n",
      "Epoch [7/100] Loss: 0.4233\n",
      "Epoch [7/100] Loss: 0.3793\n",
      "Epoch [7/100] Loss: 0.4887\n",
      "Epoch [7/100] Loss: 0.7962\n",
      "Epoch [7/100] Loss: 0.5395\n",
      "Epoch [7/100] Loss: 0.3881\n",
      "Epoch [7/100] Loss: 0.4284\n",
      "Epoch [7/100] Loss: 0.4914\n",
      "Epoch [7/100] Loss: 0.6244\n",
      "Epoch [7/100] Loss: 0.3241\n",
      "Epoch [7/100] Loss: 0.5862\n",
      "Epoch [7/100] Loss: 0.7451\n",
      "Epoch [7/100] Loss: 0.4406\n",
      "Epoch [7/100] Loss: 0.3983\n",
      "Epoch [7/100] Loss: 0.5895\n",
      "Epoch [7/100] Loss: 0.3750\n",
      "Epoch [7/100] Loss: 0.3806\n",
      "Epoch [7/100] Loss: 0.6723\n",
      "Epoch [7/100] Loss: 0.4045\n",
      "Epoch [7/100] Loss: 0.4786\n",
      "Epoch [7/100] Loss: 0.6200\n",
      "Epoch [7/100] Loss: 0.5168\n",
      "Epoch [7/100] Loss: 0.3904\n",
      "Epoch [7/100] Loss: 0.6743\n",
      "Epoch [7/100] Loss: 0.4644\n",
      "Epoch [7/100] Loss: 0.7199\n",
      "Epoch [7/100] Loss: 0.4602\n",
      "Epoch [7/100] Loss: 0.2682\n",
      "Epoch [7/100] Loss: 0.2925\n",
      "Epoch [7/100] Loss: 0.7193\n"
     ]
    },
    {
     "name": "stderr",
     "output_type": "stream",
     "text": [
      "654it [01:49,  5.99it/s]"
     ]
    },
    {
     "name": "stdout",
     "output_type": "stream",
     "text": [
      "Overall Acc: \t 0.574262829702\n",
      "Mean Acc : \t 0.465525655682\n",
      "FreqW Acc : \t 0.412415634215\n",
      "Mean IoU : \t 0.341209362616\n"
     ]
    },
    {
     "name": "stderr",
     "output_type": "stream",
     "text": [
      "\n"
     ]
    },
    {
     "name": "stdout",
     "output_type": "stream",
     "text": [
      "Epoch [8/100] Loss: 0.8693\n",
      "Epoch [8/100] Loss: 0.5003\n",
      "Epoch [8/100] Loss: 0.5887\n",
      "Epoch [8/100] Loss: 0.5008\n",
      "Epoch [8/100] Loss: 0.3746\n",
      "Epoch [8/100] Loss: 0.3501\n",
      "Epoch [8/100] Loss: 0.4185\n",
      "Epoch [8/100] Loss: 0.4938\n",
      "Epoch [8/100] Loss: 0.5072\n",
      "Epoch [8/100] Loss: 0.4137\n",
      "Epoch [8/100] Loss: 0.3568\n",
      "Epoch [8/100] Loss: 0.4973\n",
      "Epoch [8/100] Loss: 0.5816\n",
      "Epoch [8/100] Loss: 0.4161\n",
      "Epoch [8/100] Loss: 0.6159\n",
      "Epoch [8/100] Loss: 0.5404\n",
      "Epoch [8/100] Loss: 0.4701\n",
      "Epoch [8/100] Loss: 0.2655\n",
      "Epoch [8/100] Loss: 0.4206\n",
      "Epoch [8/100] Loss: 0.5083\n",
      "Epoch [8/100] Loss: 0.4369\n",
      "Epoch [8/100] Loss: 0.4760\n",
      "Epoch [8/100] Loss: 0.3625\n",
      "Epoch [8/100] Loss: 0.6506\n",
      "Epoch [8/100] Loss: 0.4908\n",
      "Epoch [8/100] Loss: 0.4348\n",
      "Epoch [8/100] Loss: 0.6202\n",
      "Epoch [8/100] Loss: 0.4967\n",
      "Epoch [8/100] Loss: 0.3746\n",
      "Epoch [8/100] Loss: 0.4887\n",
      "Epoch [8/100] Loss: 0.2779\n",
      "Epoch [8/100] Loss: 0.3300\n",
      "Epoch [8/100] Loss: 0.2082\n",
      "Epoch [8/100] Loss: 0.3883\n",
      "Epoch [8/100] Loss: 0.3596\n",
      "Epoch [8/100] Loss: 0.5108\n",
      "Epoch [8/100] Loss: 0.2942\n",
      "Epoch [8/100] Loss: 0.3390\n",
      "Epoch [8/100] Loss: 0.3778\n"
     ]
    },
    {
     "name": "stderr",
     "output_type": "stream",
     "text": [
      "654it [01:49,  5.99it/s]"
     ]
    },
    {
     "name": "stdout",
     "output_type": "stream",
     "text": [
      "Overall Acc: \t 0.57268926498\n",
      "Mean Acc : \t 0.480036883564\n",
      "FreqW Acc : \t 0.412918511743\n",
      "Mean IoU : \t 0.345647798367\n"
     ]
    },
    {
     "name": "stderr",
     "output_type": "stream",
     "text": [
      "\n"
     ]
    },
    {
     "name": "stdout",
     "output_type": "stream",
     "text": [
      "Epoch [9/100] Loss: 0.4555\n",
      "Epoch [9/100] Loss: 0.2807\n",
      "Epoch [9/100] Loss: 0.3098\n",
      "Epoch [9/100] Loss: 0.6081\n",
      "Epoch [9/100] Loss: 0.3999\n",
      "Epoch [9/100] Loss: 0.5091\n",
      "Epoch [9/100] Loss: 0.3119\n",
      "Epoch [9/100] Loss: 0.4110\n",
      "Epoch [9/100] Loss: 0.3581\n",
      "Epoch [9/100] Loss: 0.8135\n",
      "Epoch [9/100] Loss: 0.2862\n",
      "Epoch [9/100] Loss: 0.6818\n",
      "Epoch [9/100] Loss: 0.5579\n",
      "Epoch [9/100] Loss: 0.4692\n",
      "Epoch [9/100] Loss: 0.3172\n",
      "Epoch [9/100] Loss: 0.3940\n",
      "Epoch [9/100] Loss: 0.5022\n",
      "Epoch [9/100] Loss: 0.4596\n",
      "Epoch [9/100] Loss: 0.5641\n",
      "Epoch [9/100] Loss: 0.2650\n",
      "Epoch [9/100] Loss: 0.4829\n",
      "Epoch [9/100] Loss: 0.2827\n",
      "Epoch [9/100] Loss: 0.2032\n",
      "Epoch [9/100] Loss: 0.5531\n",
      "Epoch [9/100] Loss: 0.2513\n",
      "Epoch [9/100] Loss: 0.5308\n",
      "Epoch [9/100] Loss: 0.3539\n",
      "Epoch [9/100] Loss: 0.6584\n",
      "Epoch [9/100] Loss: 0.5682\n",
      "Epoch [9/100] Loss: 0.6003\n",
      "Epoch [9/100] Loss: 0.4173\n",
      "Epoch [9/100] Loss: 0.2369\n",
      "Epoch [9/100] Loss: 0.3499\n",
      "Epoch [9/100] Loss: 0.3585\n",
      "Epoch [9/100] Loss: 0.2377\n",
      "Epoch [9/100] Loss: 0.4819\n",
      "Epoch [9/100] Loss: 0.7958\n",
      "Epoch [9/100] Loss: 0.4730\n",
      "Epoch [9/100] Loss: 0.5690\n"
     ]
    },
    {
     "name": "stderr",
     "output_type": "stream",
     "text": [
      "654it [01:48,  6.04it/s]\n"
     ]
    },
    {
     "name": "stdout",
     "output_type": "stream",
     "text": [
      "Overall Acc: \t 0.569578062285\n",
      "Mean Acc : \t 0.490608799705\n",
      "FreqW Acc : \t 0.410064244474\n",
      "Mean IoU : \t 0.348946552071\n",
      "Epoch [10/100] Loss: 0.3346\n",
      "Epoch [10/100] Loss: 0.6562\n",
      "Epoch [10/100] Loss: 0.4951\n",
      "Epoch [10/100] Loss: 0.3324\n",
      "Epoch [10/100] Loss: 0.6302\n",
      "Epoch [10/100] Loss: 0.3667\n",
      "Epoch [10/100] Loss: 0.3100\n",
      "Epoch [10/100] Loss: 0.3177\n",
      "Epoch [10/100] Loss: 0.3711\n",
      "Epoch [10/100] Loss: 0.3949\n",
      "Epoch [10/100] Loss: 0.6795\n",
      "Epoch [10/100] Loss: 0.2682\n",
      "Epoch [10/100] Loss: 0.3834\n",
      "Epoch [10/100] Loss: 0.3753\n",
      "Epoch [10/100] Loss: 0.2273\n",
      "Epoch [10/100] Loss: 0.6115\n",
      "Epoch [10/100] Loss: 0.3846\n",
      "Epoch [10/100] Loss: 0.5322\n",
      "Epoch [10/100] Loss: 0.3108\n",
      "Epoch [10/100] Loss: 0.6418\n",
      "Epoch [10/100] Loss: 0.5404\n",
      "Epoch [10/100] Loss: 0.5859\n",
      "Epoch [10/100] Loss: 0.6890\n",
      "Epoch [10/100] Loss: 0.3539\n",
      "Epoch [10/100] Loss: 0.4495\n",
      "Epoch [10/100] Loss: 0.5142\n",
      "Epoch [10/100] Loss: 0.2724\n",
      "Epoch [10/100] Loss: 0.4377\n",
      "Epoch [10/100] Loss: 0.6130\n",
      "Epoch [10/100] Loss: 0.3268\n",
      "Epoch [10/100] Loss: 0.4516\n",
      "Epoch [10/100] Loss: 0.2775\n",
      "Epoch [10/100] Loss: 0.5106\n",
      "Epoch [10/100] Loss: 0.2422\n",
      "Epoch [10/100] Loss: 0.5046\n",
      "Epoch [10/100] Loss: 0.3226\n",
      "Epoch [10/100] Loss: 0.5371\n",
      "Epoch [10/100] Loss: 0.2491\n",
      "Epoch [10/100] Loss: 0.5253\n"
     ]
    },
    {
     "name": "stderr",
     "output_type": "stream",
     "text": [
      "654it [01:49,  5.98it/s]"
     ]
    },
    {
     "name": "stdout",
     "output_type": "stream",
     "text": [
      "Overall Acc: \t 0.571259681009\n",
      "Mean Acc : \t 0.480636612209\n",
      "FreqW Acc : \t 0.413358780152\n",
      "Mean IoU : \t 0.341675137244\n"
     ]
    },
    {
     "name": "stderr",
     "output_type": "stream",
     "text": [
      "\n"
     ]
    },
    {
     "name": "stdout",
     "output_type": "stream",
     "text": [
      "Epoch [11/100] Loss: 0.5460\n",
      "Epoch [11/100] Loss: 0.5837\n",
      "Epoch [11/100] Loss: 0.1929\n",
      "Epoch [11/100] Loss: 0.2637\n",
      "Epoch [11/100] Loss: 0.4746\n",
      "Epoch [11/100] Loss: 0.4022\n",
      "Epoch [11/100] Loss: 0.2722\n",
      "Epoch [11/100] Loss: 0.3509\n",
      "Epoch [11/100] Loss: 0.4307\n",
      "Epoch [11/100] Loss: 0.5823\n",
      "Epoch [11/100] Loss: 0.3376\n",
      "Epoch [11/100] Loss: 0.4342\n",
      "Epoch [11/100] Loss: 0.2930\n",
      "Epoch [11/100] Loss: 0.4228\n",
      "Epoch [11/100] Loss: 0.5686\n",
      "Epoch [11/100] Loss: 0.2578\n",
      "Epoch [11/100] Loss: 0.2117\n",
      "Epoch [11/100] Loss: 0.3796\n",
      "Epoch [11/100] Loss: 0.6710\n",
      "Epoch [11/100] Loss: 0.3693\n",
      "Epoch [11/100] Loss: 0.5661\n",
      "Epoch [11/100] Loss: 0.4048\n",
      "Epoch [11/100] Loss: 0.2740\n",
      "Epoch [11/100] Loss: 0.2606\n",
      "Epoch [11/100] Loss: 0.2892\n",
      "Epoch [11/100] Loss: 0.6439\n",
      "Epoch [11/100] Loss: 0.2883\n",
      "Epoch [11/100] Loss: 0.4780\n",
      "Epoch [11/100] Loss: 0.3657\n",
      "Epoch [11/100] Loss: 0.3202\n",
      "Epoch [11/100] Loss: 0.5029\n",
      "Epoch [11/100] Loss: 0.4749\n",
      "Epoch [11/100] Loss: 0.4747\n",
      "Epoch [11/100] Loss: 0.5993\n",
      "Epoch [11/100] Loss: 0.4763\n",
      "Epoch [11/100] Loss: 0.2222\n",
      "Epoch [11/100] Loss: 0.1769\n",
      "Epoch [11/100] Loss: 0.3480\n",
      "Epoch [11/100] Loss: 0.5764\n"
     ]
    },
    {
     "name": "stderr",
     "output_type": "stream",
     "text": [
      "654it [01:49,  5.99it/s]"
     ]
    },
    {
     "name": "stdout",
     "output_type": "stream",
     "text": [
      "Overall Acc: \t 0.576151841034\n",
      "Mean Acc : \t 0.467684267347\n",
      "FreqW Acc : \t 0.416526553664\n",
      "Mean IoU : \t 0.344593377962\n"
     ]
    },
    {
     "name": "stderr",
     "output_type": "stream",
     "text": [
      "\n"
     ]
    },
    {
     "name": "stdout",
     "output_type": "stream",
     "text": [
      "Epoch [12/100] Loss: 0.3284\n",
      "Epoch [12/100] Loss: 0.6052\n",
      "Epoch [12/100] Loss: 0.3136\n",
      "Epoch [12/100] Loss: 0.3686\n",
      "Epoch [12/100] Loss: 0.6075\n",
      "Epoch [12/100] Loss: 0.6046\n",
      "Epoch [12/100] Loss: 0.3740\n",
      "Epoch [12/100] Loss: 0.4035\n",
      "Epoch [12/100] Loss: 0.1950\n",
      "Epoch [12/100] Loss: 0.2556\n",
      "Epoch [12/100] Loss: 0.4024\n",
      "Epoch [12/100] Loss: 0.2696\n",
      "Epoch [12/100] Loss: 0.2788\n",
      "Epoch [12/100] Loss: 0.3414\n",
      "Epoch [12/100] Loss: 0.4376\n",
      "Epoch [12/100] Loss: 0.5903\n",
      "Epoch [12/100] Loss: 0.3812\n",
      "Epoch [12/100] Loss: 0.2979\n",
      "Epoch [12/100] Loss: 0.3822\n",
      "Epoch [12/100] Loss: 0.5366\n",
      "Epoch [12/100] Loss: 0.1890\n",
      "Epoch [12/100] Loss: 0.4281\n",
      "Epoch [12/100] Loss: 0.4404\n",
      "Epoch [12/100] Loss: 0.4141\n",
      "Epoch [12/100] Loss: 0.2806\n",
      "Epoch [12/100] Loss: 0.5555\n",
      "Epoch [12/100] Loss: 0.1932\n",
      "Epoch [12/100] Loss: 0.3429\n",
      "Epoch [12/100] Loss: 0.2541\n",
      "Epoch [12/100] Loss: 0.1242\n",
      "Epoch [12/100] Loss: 0.5456\n",
      "Epoch [12/100] Loss: 0.1928\n",
      "Epoch [12/100] Loss: 0.5920\n",
      "Epoch [12/100] Loss: 0.5056\n",
      "Epoch [12/100] Loss: 0.2509\n",
      "Epoch [12/100] Loss: 0.2631\n",
      "Epoch [12/100] Loss: 0.4164\n",
      "Epoch [12/100] Loss: 0.2890\n",
      "Epoch [12/100] Loss: 0.4518\n"
     ]
    },
    {
     "name": "stderr",
     "output_type": "stream",
     "text": [
      "654it [01:48,  6.02it/s]\n"
     ]
    },
    {
     "name": "stdout",
     "output_type": "stream",
     "text": [
      "Overall Acc: \t 0.576806292208\n",
      "Mean Acc : \t 0.476441572496\n",
      "FreqW Acc : \t 0.416112455952\n",
      "Mean IoU : \t 0.351268995365\n",
      "Epoch [13/100] Loss: 0.4460\n",
      "Epoch [13/100] Loss: 0.6264\n",
      "Epoch [13/100] Loss: 0.2436\n",
      "Epoch [13/100] Loss: 0.6980\n",
      "Epoch [13/100] Loss: 0.2332\n",
      "Epoch [13/100] Loss: 0.4727\n",
      "Epoch [13/100] Loss: 0.2970\n",
      "Epoch [13/100] Loss: 0.7715\n",
      "Epoch [13/100] Loss: 0.3943\n",
      "Epoch [13/100] Loss: 0.2377\n",
      "Epoch [13/100] Loss: 0.4447\n",
      "Epoch [13/100] Loss: 0.4690\n",
      "Epoch [13/100] Loss: 0.5142\n",
      "Epoch [13/100] Loss: 0.3053\n",
      "Epoch [13/100] Loss: 0.4634\n",
      "Epoch [13/100] Loss: 0.4750\n",
      "Epoch [13/100] Loss: 0.6632\n",
      "Epoch [13/100] Loss: 0.3766\n",
      "Epoch [13/100] Loss: 0.3487\n",
      "Epoch [13/100] Loss: 0.4274\n",
      "Epoch [13/100] Loss: 0.3482\n",
      "Epoch [13/100] Loss: 0.5909\n",
      "Epoch [13/100] Loss: 0.2666\n",
      "Epoch [13/100] Loss: 0.6532\n",
      "Epoch [13/100] Loss: 0.3629\n",
      "Epoch [13/100] Loss: 0.3146\n",
      "Epoch [13/100] Loss: 0.4107\n",
      "Epoch [13/100] Loss: 0.5446\n",
      "Epoch [13/100] Loss: 0.1564\n",
      "Epoch [13/100] Loss: 0.2120\n",
      "Epoch [13/100] Loss: 0.2605\n",
      "Epoch [13/100] Loss: 0.5056\n",
      "Epoch [13/100] Loss: 0.2503\n",
      "Epoch [13/100] Loss: 0.5161\n",
      "Epoch [13/100] Loss: 0.4463\n",
      "Epoch [13/100] Loss: 0.3055\n",
      "Epoch [13/100] Loss: 0.5657\n",
      "Epoch [13/100] Loss: 0.5143\n",
      "Epoch [13/100] Loss: 0.5811\n"
     ]
    },
    {
     "name": "stderr",
     "output_type": "stream",
     "text": [
      "654it [01:49,  5.98it/s]"
     ]
    },
    {
     "name": "stdout",
     "output_type": "stream",
     "text": [
      "Overall Acc: \t 0.570127142266\n",
      "Mean Acc : \t 0.467811121034\n",
      "FreqW Acc : \t 0.412683967907\n",
      "Mean IoU : \t 0.343351433566\n"
     ]
    },
    {
     "name": "stderr",
     "output_type": "stream",
     "text": [
      "\n"
     ]
    },
    {
     "name": "stdout",
     "output_type": "stream",
     "text": [
      "Epoch [14/100] Loss: 0.4527\n",
      "Epoch [14/100] Loss: 0.4812\n",
      "Epoch [14/100] Loss: 0.4870\n",
      "Epoch [14/100] Loss: 0.3250\n",
      "Epoch [14/100] Loss: 0.3367\n",
      "Epoch [14/100] Loss: 0.5655\n",
      "Epoch [14/100] Loss: 0.3768\n",
      "Epoch [14/100] Loss: 0.5713\n",
      "Epoch [14/100] Loss: 0.3503\n",
      "Epoch [14/100] Loss: 0.5225\n",
      "Epoch [14/100] Loss: 0.2997\n",
      "Epoch [14/100] Loss: 0.3392\n",
      "Epoch [14/100] Loss: 0.3236\n",
      "Epoch [14/100] Loss: 0.5231\n",
      "Epoch [14/100] Loss: 0.3772\n",
      "Epoch [14/100] Loss: 0.4701\n",
      "Epoch [14/100] Loss: 0.3410\n",
      "Epoch [14/100] Loss: 0.7139\n",
      "Epoch [14/100] Loss: 0.5145\n",
      "Epoch [14/100] Loss: 0.3303\n",
      "Epoch [14/100] Loss: 0.2281\n",
      "Epoch [14/100] Loss: 0.3731\n",
      "Epoch [14/100] Loss: 0.6190\n",
      "Epoch [14/100] Loss: 0.2650\n",
      "Epoch [14/100] Loss: 0.3547\n",
      "Epoch [14/100] Loss: 0.4146\n",
      "Epoch [14/100] Loss: 0.2362\n",
      "Epoch [14/100] Loss: 0.4401\n",
      "Epoch [14/100] Loss: 0.7212\n",
      "Epoch [14/100] Loss: 0.5647\n",
      "Epoch [14/100] Loss: 0.5044\n",
      "Epoch [14/100] Loss: 0.4052\n",
      "Epoch [14/100] Loss: 0.5783\n",
      "Epoch [14/100] Loss: 0.3187\n",
      "Epoch [14/100] Loss: 0.4261\n",
      "Epoch [14/100] Loss: 0.3294\n",
      "Epoch [14/100] Loss: 0.3155\n",
      "Epoch [14/100] Loss: 0.4300\n",
      "Epoch [14/100] Loss: 0.4320\n"
     ]
    },
    {
     "name": "stderr",
     "output_type": "stream",
     "text": [
      "654it [01:49,  5.99it/s]\n"
     ]
    },
    {
     "name": "stdout",
     "output_type": "stream",
     "text": [
      "Overall Acc: \t 0.57557481305\n",
      "Mean Acc : \t 0.48081420926\n",
      "FreqW Acc : \t 0.416505725959\n",
      "Mean IoU : \t 0.352139807486\n",
      "Epoch [15/100] Loss: 0.6470\n",
      "Epoch [15/100] Loss: 0.3222\n",
      "Epoch [15/100] Loss: 0.5004\n",
      "Epoch [15/100] Loss: 0.4831\n",
      "Epoch [15/100] Loss: 0.2840\n",
      "Epoch [15/100] Loss: 0.5713\n",
      "Epoch [15/100] Loss: 0.4659\n",
      "Epoch [15/100] Loss: 0.3547\n",
      "Epoch [15/100] Loss: 0.2779\n",
      "Epoch [15/100] Loss: 0.2628\n",
      "Epoch [15/100] Loss: 0.3019\n",
      "Epoch [15/100] Loss: 0.2160\n",
      "Epoch [15/100] Loss: 0.3427\n",
      "Epoch [15/100] Loss: 0.4978\n",
      "Epoch [15/100] Loss: 0.3251\n",
      "Epoch [15/100] Loss: 0.3979\n",
      "Epoch [15/100] Loss: 0.3597\n",
      "Epoch [15/100] Loss: 0.3588\n",
      "Epoch [15/100] Loss: 0.6285\n",
      "Epoch [15/100] Loss: 0.6340\n",
      "Epoch [15/100] Loss: 0.5513\n",
      "Epoch [15/100] Loss: 0.3590\n",
      "Epoch [15/100] Loss: 0.2398\n",
      "Epoch [15/100] Loss: 0.4131\n",
      "Epoch [15/100] Loss: 0.2732\n",
      "Epoch [15/100] Loss: 0.3257\n",
      "Epoch [15/100] Loss: 0.5879\n",
      "Epoch [15/100] Loss: 0.3797\n",
      "Epoch [15/100] Loss: 0.3744\n",
      "Epoch [15/100] Loss: 0.2383\n",
      "Epoch [15/100] Loss: 0.1821\n",
      "Epoch [15/100] Loss: 0.5811\n",
      "Epoch [15/100] Loss: 0.5939\n",
      "Epoch [15/100] Loss: 0.5327\n",
      "Epoch [15/100] Loss: 0.4167\n",
      "Epoch [15/100] Loss: 0.4176\n",
      "Epoch [15/100] Loss: 0.3073\n",
      "Epoch [15/100] Loss: 0.2615\n",
      "Epoch [15/100] Loss: 0.3374\n"
     ]
    },
    {
     "name": "stderr",
     "output_type": "stream",
     "text": [
      "654it [01:49,  5.96it/s]"
     ]
    },
    {
     "name": "stdout",
     "output_type": "stream",
     "text": [
      "Overall Acc: \t 0.57129862903\n",
      "Mean Acc : \t 0.471609738729\n",
      "FreqW Acc : \t 0.412694847401\n",
      "Mean IoU : \t 0.346145007416\n"
     ]
    },
    {
     "name": "stderr",
     "output_type": "stream",
     "text": [
      "\n"
     ]
    },
    {
     "name": "stdout",
     "output_type": "stream",
     "text": [
      "Epoch [16/100] Loss: 0.4177\n",
      "Epoch [16/100] Loss: 0.1797\n",
      "Epoch [16/100] Loss: 0.4296\n",
      "Epoch [16/100] Loss: 0.5931\n",
      "Epoch [16/100] Loss: 0.2740\n",
      "Epoch [16/100] Loss: 0.3681\n",
      "Epoch [16/100] Loss: 0.5006\n",
      "Epoch [16/100] Loss: 0.3552\n",
      "Epoch [16/100] Loss: 0.2956\n",
      "Epoch [16/100] Loss: 0.3640\n",
      "Epoch [16/100] Loss: 0.3513\n",
      "Epoch [16/100] Loss: 0.1633\n",
      "Epoch [16/100] Loss: 0.2614\n",
      "Epoch [16/100] Loss: 0.4154\n",
      "Epoch [16/100] Loss: 0.3050\n",
      "Epoch [16/100] Loss: 0.4437\n",
      "Epoch [16/100] Loss: 0.2909\n",
      "Epoch [16/100] Loss: 0.2905\n",
      "Epoch [16/100] Loss: 0.5465\n",
      "Epoch [16/100] Loss: 0.5612\n",
      "Epoch [16/100] Loss: 0.4729\n",
      "Epoch [16/100] Loss: 0.3122\n",
      "Epoch [16/100] Loss: 0.4263\n",
      "Epoch [16/100] Loss: 0.1757\n",
      "Epoch [16/100] Loss: 0.5983\n",
      "Epoch [16/100] Loss: 0.5275\n",
      "Epoch [16/100] Loss: 0.5234\n",
      "Epoch [16/100] Loss: 0.4111\n",
      "Epoch [16/100] Loss: 0.4211\n",
      "Epoch [16/100] Loss: 0.3670\n",
      "Epoch [16/100] Loss: 0.7508\n",
      "Epoch [16/100] Loss: 0.2990\n",
      "Epoch [16/100] Loss: 0.4829\n",
      "Epoch [16/100] Loss: 0.7114\n",
      "Epoch [16/100] Loss: 0.3639\n",
      "Epoch [16/100] Loss: 0.2506\n",
      "Epoch [16/100] Loss: 0.3496\n",
      "Epoch [16/100] Loss: 0.3024\n",
      "Epoch [16/100] Loss: 0.4725\n"
     ]
    },
    {
     "name": "stderr",
     "output_type": "stream",
     "text": [
      "654it [01:48,  6.01it/s]"
     ]
    },
    {
     "name": "stdout",
     "output_type": "stream",
     "text": [
      "Overall Acc: \t 0.579235578531\n",
      "Mean Acc : \t 0.473911202117\n",
      "FreqW Acc : \t 0.418893473919\n",
      "Mean IoU : \t 0.344887273888\n"
     ]
    },
    {
     "name": "stderr",
     "output_type": "stream",
     "text": [
      "\n"
     ]
    },
    {
     "name": "stdout",
     "output_type": "stream",
     "text": [
      "Epoch [17/100] Loss: 0.3212\n",
      "Epoch [17/100] Loss: 0.4551\n",
      "Epoch [17/100] Loss: 0.3676\n",
      "Epoch [17/100] Loss: 0.2698\n",
      "Epoch [17/100] Loss: 0.4021\n",
      "Epoch [17/100] Loss: 0.3776\n",
      "Epoch [17/100] Loss: 0.3450\n",
      "Epoch [17/100] Loss: 0.3031\n",
      "Epoch [17/100] Loss: 0.5668\n",
      "Epoch [17/100] Loss: 0.4587\n",
      "Epoch [17/100] Loss: 0.4311\n",
      "Epoch [17/100] Loss: 0.2633\n",
      "Epoch [17/100] Loss: 0.4583\n",
      "Epoch [17/100] Loss: 0.3006\n",
      "Epoch [17/100] Loss: 0.2573\n",
      "Epoch [17/100] Loss: 0.3675\n",
      "Epoch [17/100] Loss: 0.3462\n",
      "Epoch [17/100] Loss: 0.3385\n",
      "Epoch [17/100] Loss: 0.4060\n",
      "Epoch [17/100] Loss: 0.3651\n",
      "Epoch [17/100] Loss: 0.5341\n",
      "Epoch [17/100] Loss: 0.3407\n",
      "Epoch [17/100] Loss: 0.2760\n",
      "Epoch [17/100] Loss: 0.4386\n",
      "Epoch [17/100] Loss: 0.2091\n",
      "Epoch [17/100] Loss: 0.4975\n",
      "Epoch [17/100] Loss: 0.5446\n",
      "Epoch [17/100] Loss: 0.2643\n",
      "Epoch [17/100] Loss: 0.4031\n",
      "Epoch [17/100] Loss: 0.4869\n",
      "Epoch [17/100] Loss: 0.4432\n",
      "Epoch [17/100] Loss: 0.5257\n",
      "Epoch [17/100] Loss: 0.2977\n",
      "Epoch [17/100] Loss: 0.2173\n",
      "Epoch [17/100] Loss: 0.3909\n",
      "Epoch [17/100] Loss: 0.3591\n",
      "Epoch [17/100] Loss: 0.4076\n",
      "Epoch [17/100] Loss: 0.3127\n",
      "Epoch [17/100] Loss: 0.3078\n"
     ]
    },
    {
     "name": "stderr",
     "output_type": "stream",
     "text": [
      "654it [01:49,  5.98it/s]"
     ]
    },
    {
     "name": "stdout",
     "output_type": "stream",
     "text": [
      "Overall Acc: \t 0.572968083031\n",
      "Mean Acc : \t 0.479050621661\n",
      "FreqW Acc : \t 0.417648029695\n",
      "Mean IoU : \t 0.347362590277\n"
     ]
    },
    {
     "name": "stderr",
     "output_type": "stream",
     "text": [
      "\n"
     ]
    },
    {
     "name": "stdout",
     "output_type": "stream",
     "text": [
      "Epoch [18/100] Loss: 0.8793\n",
      "Epoch [18/100] Loss: 0.5534\n",
      "Epoch [18/100] Loss: 0.4171\n",
      "Epoch [18/100] Loss: 0.3486\n",
      "Epoch [18/100] Loss: 0.3524\n",
      "Epoch [18/100] Loss: 0.2163\n",
      "Epoch [18/100] Loss: 0.2047\n",
      "Epoch [18/100] Loss: 0.5417\n",
      "Epoch [18/100] Loss: 0.4112\n",
      "Epoch [18/100] Loss: 0.4219\n",
      "Epoch [18/100] Loss: 0.2818\n",
      "Epoch [18/100] Loss: 0.3778\n",
      "Epoch [18/100] Loss: 0.2548\n",
      "Epoch [18/100] Loss: 0.4081\n",
      "Epoch [18/100] Loss: 0.7335\n",
      "Epoch [18/100] Loss: 0.2065\n",
      "Epoch [18/100] Loss: 0.5397\n",
      "Epoch [18/100] Loss: 0.3476\n",
      "Epoch [18/100] Loss: 0.5345\n",
      "Epoch [18/100] Loss: 0.2466\n",
      "Epoch [18/100] Loss: 0.1879\n",
      "Epoch [18/100] Loss: 0.6172\n",
      "Epoch [18/100] Loss: 0.5745\n",
      "Epoch [18/100] Loss: 0.3398\n",
      "Epoch [18/100] Loss: 0.4419\n",
      "Epoch [18/100] Loss: 0.4094\n",
      "Epoch [18/100] Loss: 0.3123\n",
      "Epoch [18/100] Loss: 0.5577\n",
      "Epoch [18/100] Loss: 0.2479\n",
      "Epoch [18/100] Loss: 0.5314\n",
      "Epoch [18/100] Loss: 0.2459\n",
      "Epoch [18/100] Loss: 0.4289\n",
      "Epoch [18/100] Loss: 0.6158\n",
      "Epoch [18/100] Loss: 0.3676\n",
      "Epoch [18/100] Loss: 0.4275\n",
      "Epoch [18/100] Loss: 0.7654\n",
      "Epoch [18/100] Loss: 0.2974\n",
      "Epoch [18/100] Loss: 0.3554\n",
      "Epoch [18/100] Loss: 0.3323\n"
     ]
    },
    {
     "name": "stderr",
     "output_type": "stream",
     "text": [
      "654it [01:49,  5.95it/s]"
     ]
    },
    {
     "name": "stdout",
     "output_type": "stream",
     "text": [
      "Overall Acc: \t 0.58183570854\n",
      "Mean Acc : \t 0.475724061637\n",
      "FreqW Acc : \t 0.422304998879\n",
      "Mean IoU : \t 0.351555456791\n"
     ]
    },
    {
     "name": "stderr",
     "output_type": "stream",
     "text": [
      "\n"
     ]
    },
    {
     "name": "stdout",
     "output_type": "stream",
     "text": [
      "Epoch [19/100] Loss: 0.2745\n",
      "Epoch [19/100] Loss: 0.3282\n",
      "Epoch [19/100] Loss: 0.3301\n",
      "Epoch [19/100] Loss: 0.2635\n",
      "Epoch [19/100] Loss: 0.3765\n",
      "Epoch [19/100] Loss: 0.4128\n",
      "Epoch [19/100] Loss: 0.3347\n",
      "Epoch [19/100] Loss: 0.3849\n",
      "Epoch [19/100] Loss: 0.4493\n",
      "Epoch [19/100] Loss: 0.3017\n",
      "Epoch [19/100] Loss: 0.4398\n",
      "Epoch [19/100] Loss: 0.3318\n",
      "Epoch [19/100] Loss: 0.2018\n",
      "Epoch [19/100] Loss: 0.5378\n",
      "Epoch [19/100] Loss: 0.2685\n",
      "Epoch [19/100] Loss: 0.5616\n",
      "Epoch [19/100] Loss: 0.2758\n",
      "Epoch [19/100] Loss: 0.6063\n",
      "Epoch [19/100] Loss: 0.3745\n",
      "Epoch [19/100] Loss: 0.4062\n",
      "Epoch [19/100] Loss: 0.4683\n",
      "Epoch [19/100] Loss: 0.2851\n",
      "Epoch [19/100] Loss: 0.2130\n",
      "Epoch [19/100] Loss: 0.2979\n",
      "Epoch [19/100] Loss: 0.3374\n",
      "Epoch [19/100] Loss: 0.2292\n",
      "Epoch [19/100] Loss: 0.3330\n",
      "Epoch [19/100] Loss: 0.5978\n",
      "Epoch [19/100] Loss: 0.4389\n",
      "Epoch [19/100] Loss: 0.3544\n",
      "Epoch [19/100] Loss: 0.3828\n",
      "Epoch [19/100] Loss: 0.3554\n",
      "Epoch [19/100] Loss: 0.3171\n",
      "Epoch [19/100] Loss: 0.4277\n",
      "Epoch [19/100] Loss: 0.4158\n",
      "Epoch [19/100] Loss: 0.4573\n",
      "Epoch [19/100] Loss: 0.2866\n",
      "Epoch [19/100] Loss: 0.3720\n",
      "Epoch [19/100] Loss: 0.3222\n"
     ]
    },
    {
     "name": "stderr",
     "output_type": "stream",
     "text": [
      "654it [01:48,  6.01it/s]\n"
     ]
    },
    {
     "name": "stdout",
     "output_type": "stream",
     "text": [
      "Overall Acc: \t 0.583922824685\n",
      "Mean Acc : \t 0.499558081188\n",
      "FreqW Acc : \t 0.419494517263\n",
      "Mean IoU : \t 0.355034327314\n",
      "Epoch [20/100] Loss: 0.4411\n",
      "Epoch [20/100] Loss: 0.4992\n",
      "Epoch [20/100] Loss: 0.4532\n",
      "Epoch [20/100] Loss: 0.6205\n",
      "Epoch [20/100] Loss: 0.2811\n",
      "Epoch [20/100] Loss: 0.3518\n",
      "Epoch [20/100] Loss: 0.3865\n",
      "Epoch [20/100] Loss: 0.5019\n",
      "Epoch [20/100] Loss: 0.3053\n",
      "Epoch [20/100] Loss: 0.4543\n",
      "Epoch [20/100] Loss: 0.5408\n",
      "Epoch [20/100] Loss: 0.4582\n",
      "Epoch [20/100] Loss: 0.2670\n",
      "Epoch [20/100] Loss: 0.3380\n",
      "Epoch [20/100] Loss: 0.5395\n",
      "Epoch [20/100] Loss: 0.2844\n",
      "Epoch [20/100] Loss: 0.3070\n",
      "Epoch [20/100] Loss: 0.2221\n",
      "Epoch [20/100] Loss: 0.3710\n",
      "Epoch [20/100] Loss: 0.2720\n",
      "Epoch [20/100] Loss: 0.3581\n",
      "Epoch [20/100] Loss: 0.3414\n",
      "Epoch [20/100] Loss: 0.2421\n",
      "Epoch [20/100] Loss: 0.3932\n",
      "Epoch [20/100] Loss: 0.5281\n",
      "Epoch [20/100] Loss: 0.2114\n",
      "Epoch [20/100] Loss: 0.4025\n",
      "Epoch [20/100] Loss: 0.3188\n",
      "Epoch [20/100] Loss: 0.4685\n",
      "Epoch [20/100] Loss: 0.3279\n",
      "Epoch [20/100] Loss: 0.3567\n",
      "Epoch [20/100] Loss: 0.4647\n",
      "Epoch [20/100] Loss: 0.2075\n",
      "Epoch [20/100] Loss: 0.4544\n",
      "Epoch [20/100] Loss: 0.3656\n",
      "Epoch [20/100] Loss: 0.2227\n",
      "Epoch [20/100] Loss: 0.3731\n",
      "Epoch [20/100] Loss: 0.3440\n",
      "Epoch [20/100] Loss: 0.4485\n"
     ]
    },
    {
     "name": "stderr",
     "output_type": "stream",
     "text": [
      "654it [01:49,  5.99it/s]"
     ]
    },
    {
     "name": "stdout",
     "output_type": "stream",
     "text": [
      "Overall Acc: \t 0.566350259421\n",
      "Mean Acc : \t 0.485556567522\n",
      "FreqW Acc : \t 0.412208551814\n",
      "Mean IoU : \t 0.347654625585\n"
     ]
    },
    {
     "name": "stderr",
     "output_type": "stream",
     "text": [
      "\n"
     ]
    },
    {
     "name": "stdout",
     "output_type": "stream",
     "text": [
      "Epoch [21/100] Loss: 0.4517\n",
      "Epoch [21/100] Loss: 0.2870\n",
      "Epoch [21/100] Loss: 0.4762\n",
      "Epoch [21/100] Loss: 0.2246\n",
      "Epoch [21/100] Loss: 0.3719\n",
      "Epoch [21/100] Loss: 0.4829\n",
      "Epoch [21/100] Loss: 0.3464\n",
      "Epoch [21/100] Loss: 0.6819\n",
      "Epoch [21/100] Loss: 0.3817\n",
      "Epoch [21/100] Loss: 0.2406\n",
      "Epoch [21/100] Loss: 0.3755\n",
      "Epoch [21/100] Loss: 0.4449\n",
      "Epoch [21/100] Loss: 0.5024\n",
      "Epoch [21/100] Loss: 0.3021\n",
      "Epoch [21/100] Loss: 0.2936\n",
      "Epoch [21/100] Loss: 0.4417\n",
      "Epoch [21/100] Loss: 0.3221\n",
      "Epoch [21/100] Loss: 0.5862\n",
      "Epoch [21/100] Loss: 0.4432\n",
      "Epoch [21/100] Loss: 0.3759\n",
      "Epoch [21/100] Loss: 0.2240\n",
      "Epoch [21/100] Loss: 0.4671\n",
      "Epoch [21/100] Loss: 0.2829\n",
      "Epoch [21/100] Loss: 0.5896\n",
      "Epoch [21/100] Loss: 0.4667\n",
      "Epoch [21/100] Loss: 0.3973\n",
      "Epoch [21/100] Loss: 0.4915\n",
      "Epoch [21/100] Loss: 0.4203\n",
      "Epoch [21/100] Loss: 0.4382\n",
      "Epoch [21/100] Loss: 0.3957\n",
      "Epoch [21/100] Loss: 0.3668\n",
      "Epoch [21/100] Loss: 0.3085\n",
      "Epoch [21/100] Loss: 0.3549\n",
      "Epoch [21/100] Loss: 0.2313\n",
      "Epoch [21/100] Loss: 0.3256\n",
      "Epoch [21/100] Loss: 0.3034\n",
      "Epoch [21/100] Loss: 0.3339\n",
      "Epoch [21/100] Loss: 0.3606\n",
      "Epoch [21/100] Loss: 0.3939\n"
     ]
    },
    {
     "name": "stderr",
     "output_type": "stream",
     "text": [
      "654it [01:49,  5.99it/s]"
     ]
    },
    {
     "name": "stdout",
     "output_type": "stream",
     "text": [
      "Overall Acc: \t 0.585776859948\n",
      "Mean Acc : \t 0.487997503667\n",
      "FreqW Acc : \t 0.42553948512\n",
      "Mean IoU : \t 0.35457553375\n"
     ]
    },
    {
     "name": "stderr",
     "output_type": "stream",
     "text": [
      "\n"
     ]
    },
    {
     "name": "stdout",
     "output_type": "stream",
     "text": [
      "Epoch [22/100] Loss: 0.4994\n",
      "Epoch [22/100] Loss: 0.2525\n",
      "Epoch [22/100] Loss: 0.3927\n",
      "Epoch [22/100] Loss: 0.3501\n",
      "Epoch [22/100] Loss: 0.2810\n",
      "Epoch [22/100] Loss: 0.3601\n",
      "Epoch [22/100] Loss: 0.4275\n",
      "Epoch [22/100] Loss: 0.2930\n",
      "Epoch [22/100] Loss: 0.2975\n",
      "Epoch [22/100] Loss: 0.4117\n",
      "Epoch [22/100] Loss: 0.6795\n",
      "Epoch [22/100] Loss: 0.1374\n",
      "Epoch [22/100] Loss: 0.4820\n",
      "Epoch [22/100] Loss: 0.4373\n",
      "Epoch [22/100] Loss: 0.3654\n",
      "Epoch [22/100] Loss: 0.4747\n",
      "Epoch [22/100] Loss: 0.2771\n",
      "Epoch [22/100] Loss: 0.3363\n",
      "Epoch [22/100] Loss: 0.5095\n",
      "Epoch [22/100] Loss: 0.4295\n",
      "Epoch [22/100] Loss: 0.2596\n",
      "Epoch [22/100] Loss: 0.4176\n",
      "Epoch [22/100] Loss: 0.2697\n",
      "Epoch [22/100] Loss: 0.2458\n",
      "Epoch [22/100] Loss: 0.1859\n",
      "Epoch [22/100] Loss: 0.6820\n",
      "Epoch [22/100] Loss: 0.4074\n",
      "Epoch [22/100] Loss: 0.4461\n",
      "Epoch [22/100] Loss: 0.3189\n",
      "Epoch [22/100] Loss: 0.3646\n",
      "Epoch [22/100] Loss: 0.2891\n",
      "Epoch [22/100] Loss: 0.3110\n",
      "Epoch [22/100] Loss: 0.4058\n",
      "Epoch [22/100] Loss: 0.3520\n",
      "Epoch [22/100] Loss: 0.3268\n",
      "Epoch [22/100] Loss: 0.2048\n",
      "Epoch [22/100] Loss: 0.4336\n",
      "Epoch [22/100] Loss: 0.3538\n",
      "Epoch [22/100] Loss: 0.4807\n"
     ]
    },
    {
     "name": "stderr",
     "output_type": "stream",
     "text": [
      "654it [01:49,  5.96it/s]"
     ]
    },
    {
     "name": "stdout",
     "output_type": "stream",
     "text": [
      "Overall Acc: \t 0.581828809888\n",
      "Mean Acc : \t 0.485481427468\n",
      "FreqW Acc : \t 0.415998472524\n",
      "Mean IoU : \t 0.351183460208\n"
     ]
    },
    {
     "name": "stderr",
     "output_type": "stream",
     "text": [
      "\n"
     ]
    },
    {
     "name": "stdout",
     "output_type": "stream",
     "text": [
      "Epoch [23/100] Loss: 0.4189\n",
      "Epoch [23/100] Loss: 0.3211\n",
      "Epoch [23/100] Loss: 0.4602\n",
      "Epoch [23/100] Loss: 0.3357\n",
      "Epoch [23/100] Loss: 0.1945\n",
      "Epoch [23/100] Loss: 0.3495\n",
      "Epoch [23/100] Loss: 0.2675\n",
      "Epoch [23/100] Loss: 0.1889\n",
      "Epoch [23/100] Loss: 0.2766\n",
      "Epoch [23/100] Loss: 0.3459\n",
      "Epoch [23/100] Loss: 0.3568\n",
      "Epoch [23/100] Loss: 0.2883\n",
      "Epoch [23/100] Loss: 0.3141\n",
      "Epoch [23/100] Loss: 0.2794\n",
      "Epoch [23/100] Loss: 0.5032\n",
      "Epoch [23/100] Loss: 0.2567\n",
      "Epoch [23/100] Loss: 0.1371\n",
      "Epoch [23/100] Loss: 0.5582\n",
      "Epoch [23/100] Loss: 0.2844\n",
      "Epoch [23/100] Loss: 0.2212\n",
      "Epoch [23/100] Loss: 0.3484\n",
      "Epoch [23/100] Loss: 0.5565\n",
      "Epoch [23/100] Loss: 0.1909\n",
      "Epoch [23/100] Loss: 0.4366\n",
      "Epoch [23/100] Loss: 0.2837\n",
      "Epoch [23/100] Loss: 0.3753\n",
      "Epoch [23/100] Loss: 0.4658\n",
      "Epoch [23/100] Loss: 0.3958\n",
      "Epoch [23/100] Loss: 0.5455\n",
      "Epoch [23/100] Loss: 0.3048\n",
      "Epoch [23/100] Loss: 0.3787\n",
      "Epoch [23/100] Loss: 0.3254\n",
      "Epoch [23/100] Loss: 0.3603\n",
      "Epoch [23/100] Loss: 0.1817\n",
      "Epoch [23/100] Loss: 0.4092\n",
      "Epoch [23/100] Loss: 0.3434\n",
      "Epoch [23/100] Loss: 0.2266\n",
      "Epoch [23/100] Loss: 0.5082\n",
      "Epoch [23/100] Loss: 0.3312\n"
     ]
    },
    {
     "name": "stderr",
     "output_type": "stream",
     "text": [
      "654it [01:49,  5.97it/s]\n"
     ]
    },
    {
     "name": "stdout",
     "output_type": "stream",
     "text": [
      "Overall Acc: \t 0.581799239257\n",
      "Mean Acc : \t 0.489328213343\n",
      "FreqW Acc : \t 0.422085185662\n",
      "Mean IoU : \t 0.356285791419\n",
      "Epoch [24/100] Loss: 0.3192\n",
      "Epoch [24/100] Loss: 0.4060\n",
      "Epoch [24/100] Loss: 0.3757\n",
      "Epoch [24/100] Loss: 0.4761\n",
      "Epoch [24/100] Loss: 0.3971\n",
      "Epoch [24/100] Loss: 0.2749\n",
      "Epoch [24/100] Loss: 0.2019\n",
      "Epoch [24/100] Loss: 0.3180\n",
      "Epoch [24/100] Loss: 0.2483\n",
      "Epoch [24/100] Loss: 0.6079\n",
      "Epoch [24/100] Loss: 0.5098\n",
      "Epoch [24/100] Loss: 0.5636\n",
      "Epoch [24/100] Loss: 0.6619\n",
      "Epoch [24/100] Loss: 0.2984\n",
      "Epoch [24/100] Loss: 0.4062\n",
      "Epoch [24/100] Loss: 0.3721\n",
      "Epoch [24/100] Loss: 0.2446\n",
      "Epoch [24/100] Loss: 0.3077\n",
      "Epoch [24/100] Loss: 0.6115\n",
      "Epoch [24/100] Loss: 0.3299\n",
      "Epoch [24/100] Loss: 0.3459\n",
      "Epoch [24/100] Loss: 0.3014\n",
      "Epoch [24/100] Loss: 0.5327\n",
      "Epoch [24/100] Loss: 0.2757\n",
      "Epoch [24/100] Loss: 0.3726\n",
      "Epoch [24/100] Loss: 0.4555\n",
      "Epoch [24/100] Loss: 0.2567\n",
      "Epoch [24/100] Loss: 0.1938\n",
      "Epoch [24/100] Loss: 0.2276\n",
      "Epoch [24/100] Loss: 0.2958\n",
      "Epoch [24/100] Loss: 0.3741\n",
      "Epoch [24/100] Loss: 0.4627\n",
      "Epoch [24/100] Loss: 0.5581\n",
      "Epoch [24/100] Loss: 0.3498\n",
      "Epoch [24/100] Loss: 0.2380\n",
      "Epoch [24/100] Loss: 0.3233\n",
      "Epoch [24/100] Loss: 0.1466\n",
      "Epoch [24/100] Loss: 0.2105\n",
      "Epoch [24/100] Loss: 0.5050\n"
     ]
    },
    {
     "name": "stderr",
     "output_type": "stream",
     "text": [
      "654it [01:48,  6.01it/s]"
     ]
    },
    {
     "name": "stdout",
     "output_type": "stream",
     "text": [
      "Overall Acc: \t 0.578730667845\n",
      "Mean Acc : \t 0.494455500518\n",
      "FreqW Acc : \t 0.419515400249\n",
      "Mean IoU : \t 0.352019681841\n"
     ]
    },
    {
     "name": "stderr",
     "output_type": "stream",
     "text": [
      "\n"
     ]
    },
    {
     "name": "stdout",
     "output_type": "stream",
     "text": [
      "Epoch [25/100] Loss: 0.3750\n",
      "Epoch [25/100] Loss: 0.3232\n",
      "Epoch [25/100] Loss: 0.3720\n",
      "Epoch [25/100] Loss: 0.2818\n",
      "Epoch [25/100] Loss: 0.1968\n",
      "Epoch [25/100] Loss: 0.2747\n",
      "Epoch [25/100] Loss: 0.3595\n",
      "Epoch [25/100] Loss: 0.2483\n",
      "Epoch [25/100] Loss: 0.6912\n",
      "Epoch [25/100] Loss: 0.2323\n",
      "Epoch [25/100] Loss: 0.4982\n",
      "Epoch [25/100] Loss: 0.4095\n",
      "Epoch [25/100] Loss: 0.6601\n",
      "Epoch [25/100] Loss: 0.3531\n",
      "Epoch [25/100] Loss: 0.2930\n",
      "Epoch [25/100] Loss: 0.2704\n",
      "Epoch [25/100] Loss: 0.5909\n",
      "Epoch [25/100] Loss: 0.2398\n",
      "Epoch [25/100] Loss: 0.3386\n",
      "Epoch [25/100] Loss: 0.3541\n",
      "Epoch [25/100] Loss: 0.4408\n",
      "Epoch [25/100] Loss: 0.4398\n",
      "Epoch [25/100] Loss: 0.3460\n",
      "Epoch [25/100] Loss: 0.3564\n",
      "Epoch [25/100] Loss: 0.2873\n",
      "Epoch [25/100] Loss: 0.3121\n",
      "Epoch [25/100] Loss: 0.5175\n",
      "Epoch [25/100] Loss: 0.3009\n",
      "Epoch [25/100] Loss: 0.3995\n",
      "Epoch [25/100] Loss: 0.5869\n",
      "Epoch [25/100] Loss: 0.3552\n",
      "Epoch [25/100] Loss: 0.3914\n",
      "Epoch [25/100] Loss: 0.3901\n",
      "Epoch [25/100] Loss: 0.6205\n",
      "Epoch [25/100] Loss: 0.1542\n",
      "Epoch [25/100] Loss: 0.2071\n",
      "Epoch [25/100] Loss: 0.4699\n",
      "Epoch [25/100] Loss: 0.1742\n",
      "Epoch [25/100] Loss: 0.3532\n"
     ]
    },
    {
     "name": "stderr",
     "output_type": "stream",
     "text": [
      "654it [01:48,  6.02it/s]"
     ]
    },
    {
     "name": "stdout",
     "output_type": "stream",
     "text": [
      "Overall Acc: \t 0.583843306017\n",
      "Mean Acc : \t 0.471095374689\n",
      "FreqW Acc : \t 0.425326948922\n",
      "Mean IoU : \t 0.349039643909\n"
     ]
    },
    {
     "name": "stderr",
     "output_type": "stream",
     "text": [
      "\n"
     ]
    },
    {
     "name": "stdout",
     "output_type": "stream",
     "text": [
      "Epoch [26/100] Loss: 0.2473\n",
      "Epoch [26/100] Loss: 0.3474\n",
      "Epoch [26/100] Loss: 0.3335\n",
      "Epoch [26/100] Loss: 0.4226\n",
      "Epoch [26/100] Loss: 0.2716\n",
      "Epoch [26/100] Loss: 0.2541\n",
      "Epoch [26/100] Loss: 0.4086\n",
      "Epoch [26/100] Loss: 0.3261\n",
      "Epoch [26/100] Loss: 0.5442\n",
      "Epoch [26/100] Loss: 0.3838\n",
      "Epoch [26/100] Loss: 0.3049\n",
      "Epoch [26/100] Loss: 0.4027\n",
      "Epoch [26/100] Loss: 0.2377\n",
      "Epoch [26/100] Loss: 0.2145\n",
      "Epoch [26/100] Loss: 0.2922\n",
      "Epoch [26/100] Loss: 0.3700\n",
      "Epoch [26/100] Loss: 0.5033\n",
      "Epoch [26/100] Loss: 0.2885\n",
      "Epoch [26/100] Loss: 0.2951\n",
      "Epoch [26/100] Loss: 0.3543\n",
      "Epoch [26/100] Loss: 0.1731\n",
      "Epoch [26/100] Loss: 0.5519\n",
      "Epoch [26/100] Loss: 0.2899\n",
      "Epoch [26/100] Loss: 0.3875\n",
      "Epoch [26/100] Loss: 0.4866\n",
      "Epoch [26/100] Loss: 0.3099\n",
      "Epoch [26/100] Loss: 0.3568\n",
      "Epoch [26/100] Loss: 0.1974\n",
      "Epoch [26/100] Loss: 0.4088\n",
      "Epoch [26/100] Loss: 0.2598\n",
      "Epoch [26/100] Loss: 0.2443\n",
      "Epoch [26/100] Loss: 0.5604\n",
      "Epoch [26/100] Loss: 0.2741\n",
      "Epoch [26/100] Loss: 0.3062\n",
      "Epoch [26/100] Loss: 0.4360\n",
      "Epoch [26/100] Loss: 0.3059\n",
      "Epoch [26/100] Loss: 0.1916\n",
      "Epoch [26/100] Loss: 0.1404\n",
      "Epoch [26/100] Loss: 0.2297\n"
     ]
    },
    {
     "name": "stderr",
     "output_type": "stream",
     "text": [
      "654it [01:49,  5.97it/s]"
     ]
    },
    {
     "name": "stdout",
     "output_type": "stream",
     "text": [
      "Overall Acc: \t 0.582734205769\n",
      "Mean Acc : \t 0.48421257108\n",
      "FreqW Acc : \t 0.422633892544\n",
      "Mean IoU : \t 0.346756809728\n"
     ]
    },
    {
     "name": "stderr",
     "output_type": "stream",
     "text": [
      "\n"
     ]
    },
    {
     "name": "stdout",
     "output_type": "stream",
     "text": [
      "Epoch [27/100] Loss: 0.5245\n",
      "Epoch [27/100] Loss: 0.5595\n",
      "Epoch [27/100] Loss: 0.2450\n",
      "Epoch [27/100] Loss: 0.3674\n",
      "Epoch [27/100] Loss: 0.4299\n",
      "Epoch [27/100] Loss: 0.3100\n",
      "Epoch [27/100] Loss: 0.2995\n",
      "Epoch [27/100] Loss: 0.4811\n",
      "Epoch [27/100] Loss: 0.3119\n",
      "Epoch [27/100] Loss: 0.4038\n",
      "Epoch [27/100] Loss: 0.1864\n",
      "Epoch [27/100] Loss: 0.3737\n",
      "Epoch [27/100] Loss: 0.5988\n",
      "Epoch [27/100] Loss: 0.3056\n",
      "Epoch [27/100] Loss: 0.3953\n",
      "Epoch [27/100] Loss: 0.3396\n",
      "Epoch [27/100] Loss: 0.2661\n",
      "Epoch [27/100] Loss: 0.3130\n",
      "Epoch [27/100] Loss: 0.1744\n",
      "Epoch [27/100] Loss: 0.3296\n",
      "Epoch [27/100] Loss: 0.3200\n",
      "Epoch [27/100] Loss: 0.2857\n",
      "Epoch [27/100] Loss: 0.2686\n",
      "Epoch [27/100] Loss: 0.3839\n",
      "Epoch [27/100] Loss: 0.3432\n",
      "Epoch [27/100] Loss: 0.2436\n",
      "Epoch [27/100] Loss: 0.1988\n",
      "Epoch [27/100] Loss: 0.3492\n",
      "Epoch [27/100] Loss: 0.4783\n",
      "Epoch [27/100] Loss: 0.1815\n",
      "Epoch [27/100] Loss: 0.3822\n",
      "Epoch [27/100] Loss: 0.4271\n",
      "Epoch [27/100] Loss: 0.4603\n",
      "Epoch [27/100] Loss: 0.4593\n",
      "Epoch [27/100] Loss: 0.5208\n",
      "Epoch [27/100] Loss: 0.4780\n",
      "Epoch [27/100] Loss: 0.4262\n",
      "Epoch [27/100] Loss: 0.3553\n",
      "Epoch [27/100] Loss: 0.3379\n"
     ]
    },
    {
     "name": "stderr",
     "output_type": "stream",
     "text": [
      "654it [01:48,  6.01it/s]"
     ]
    },
    {
     "name": "stdout",
     "output_type": "stream",
     "text": [
      "Overall Acc: \t 0.574011003998\n",
      "Mean Acc : \t 0.46991670091\n",
      "FreqW Acc : \t 0.416958923393\n",
      "Mean IoU : \t 0.343691677444\n"
     ]
    },
    {
     "name": "stderr",
     "output_type": "stream",
     "text": [
      "\n"
     ]
    },
    {
     "name": "stdout",
     "output_type": "stream",
     "text": [
      "Epoch [28/100] Loss: 0.3608\n",
      "Epoch [28/100] Loss: 0.2319\n",
      "Epoch [28/100] Loss: 0.2146\n",
      "Epoch [28/100] Loss: 0.3833\n",
      "Epoch [28/100] Loss: 0.2362\n",
      "Epoch [28/100] Loss: 0.2040\n",
      "Epoch [28/100] Loss: 0.2682\n",
      "Epoch [28/100] Loss: 0.2372\n",
      "Epoch [28/100] Loss: 0.3435\n",
      "Epoch [28/100] Loss: 0.3221\n",
      "Epoch [28/100] Loss: 0.4027\n",
      "Epoch [28/100] Loss: 0.4100\n",
      "Epoch [28/100] Loss: 0.1146\n",
      "Epoch [28/100] Loss: 0.4384\n",
      "Epoch [28/100] Loss: 0.3877\n",
      "Epoch [28/100] Loss: 0.3099\n",
      "Epoch [28/100] Loss: 0.2466\n",
      "Epoch [28/100] Loss: 0.3643\n",
      "Epoch [28/100] Loss: 0.3293\n",
      "Epoch [28/100] Loss: 0.6044\n",
      "Epoch [28/100] Loss: 0.6149\n",
      "Epoch [28/100] Loss: 0.2585\n",
      "Epoch [28/100] Loss: 0.2234\n",
      "Epoch [28/100] Loss: 0.4069\n",
      "Epoch [28/100] Loss: 0.2514\n",
      "Epoch [28/100] Loss: 0.2847\n",
      "Epoch [28/100] Loss: 0.3779\n",
      "Epoch [28/100] Loss: 0.1987\n",
      "Epoch [28/100] Loss: 0.3365\n",
      "Epoch [28/100] Loss: 0.4339\n",
      "Epoch [28/100] Loss: 0.3874\n",
      "Epoch [28/100] Loss: 0.4702\n",
      "Epoch [28/100] Loss: 0.2190\n",
      "Epoch [28/100] Loss: 0.3298\n",
      "Epoch [28/100] Loss: 0.4938\n",
      "Epoch [28/100] Loss: 0.5110\n",
      "Epoch [28/100] Loss: 0.2756\n",
      "Epoch [28/100] Loss: 0.4255\n",
      "Epoch [28/100] Loss: 0.3404\n"
     ]
    },
    {
     "name": "stderr",
     "output_type": "stream",
     "text": [
      "654it [01:49,  5.98it/s]"
     ]
    },
    {
     "name": "stdout",
     "output_type": "stream",
     "text": [
      "Overall Acc: \t 0.581097652268\n",
      "Mean Acc : \t 0.488389340725\n",
      "FreqW Acc : \t 0.423440228143\n",
      "Mean IoU : \t 0.350989920811\n"
     ]
    },
    {
     "name": "stderr",
     "output_type": "stream",
     "text": [
      "\n"
     ]
    },
    {
     "name": "stdout",
     "output_type": "stream",
     "text": [
      "Epoch [29/100] Loss: 0.2321\n",
      "Epoch [29/100] Loss: 0.2821\n",
      "Epoch [29/100] Loss: 0.2986\n",
      "Epoch [29/100] Loss: 0.3444\n",
      "Epoch [29/100] Loss: 0.2997\n",
      "Epoch [29/100] Loss: 0.1383\n",
      "Epoch [29/100] Loss: 0.3715\n",
      "Epoch [29/100] Loss: 0.5525\n",
      "Epoch [29/100] Loss: 0.5456\n",
      "Epoch [29/100] Loss: 0.1859\n",
      "Epoch [29/100] Loss: 0.2931\n",
      "Epoch [29/100] Loss: 0.3574\n",
      "Epoch [29/100] Loss: 0.2873\n",
      "Epoch [29/100] Loss: 0.3198\n",
      "Epoch [29/100] Loss: 0.3979\n",
      "Epoch [29/100] Loss: 0.3332\n",
      "Epoch [29/100] Loss: 0.3530\n",
      "Epoch [29/100] Loss: 0.2680\n",
      "Epoch [29/100] Loss: 0.2960\n",
      "Epoch [29/100] Loss: 0.1730\n",
      "Epoch [29/100] Loss: 0.2904\n",
      "Epoch [29/100] Loss: 0.4690\n",
      "Epoch [29/100] Loss: 0.2680\n",
      "Epoch [29/100] Loss: 0.5819\n",
      "Epoch [29/100] Loss: 0.4507\n",
      "Epoch [29/100] Loss: 0.3235\n",
      "Epoch [29/100] Loss: 0.2638\n",
      "Epoch [29/100] Loss: 0.3245\n",
      "Epoch [29/100] Loss: 0.4449\n",
      "Epoch [29/100] Loss: 0.1420\n",
      "Epoch [29/100] Loss: 0.2281\n",
      "Epoch [29/100] Loss: 0.4554\n",
      "Epoch [29/100] Loss: 0.3431\n",
      "Epoch [29/100] Loss: 0.4787\n",
      "Epoch [29/100] Loss: 0.5455\n",
      "Epoch [29/100] Loss: 0.3861\n",
      "Epoch [29/100] Loss: 0.2064\n",
      "Epoch [29/100] Loss: 0.2551\n",
      "Epoch [29/100] Loss: 0.4656\n"
     ]
    },
    {
     "name": "stderr",
     "output_type": "stream",
     "text": [
      "654it [01:49,  5.99it/s]\n"
     ]
    },
    {
     "name": "stdout",
     "output_type": "stream",
     "text": [
      "Overall Acc: \t 0.584231407484\n",
      "Mean Acc : \t 0.483248540838\n",
      "FreqW Acc : \t 0.426247213458\n",
      "Mean IoU : \t 0.358638281396\n",
      "Epoch [30/100] Loss: 0.4385\n",
      "Epoch [30/100] Loss: 0.2068\n",
      "Epoch [30/100] Loss: 0.4479\n",
      "Epoch [30/100] Loss: 0.2231\n",
      "Epoch [30/100] Loss: 0.5379\n",
      "Epoch [30/100] Loss: 0.3722\n",
      "Epoch [30/100] Loss: 0.2958\n",
      "Epoch [30/100] Loss: 0.2637\n",
      "Epoch [30/100] Loss: 0.4237\n",
      "Epoch [30/100] Loss: 0.3568\n",
      "Epoch [30/100] Loss: 0.3069\n",
      "Epoch [30/100] Loss: 0.4411\n",
      "Epoch [30/100] Loss: 0.3050\n",
      "Epoch [30/100] Loss: 0.1898\n",
      "Epoch [30/100] Loss: 0.3741\n",
      "Epoch [30/100] Loss: 0.4764\n",
      "Epoch [30/100] Loss: 0.3139\n",
      "Epoch [30/100] Loss: 0.4071\n",
      "Epoch [30/100] Loss: 0.5347\n",
      "Epoch [30/100] Loss: 0.3125\n",
      "Epoch [30/100] Loss: 0.2208\n",
      "Epoch [30/100] Loss: 0.2406\n",
      "Epoch [30/100] Loss: 0.3516\n",
      "Epoch [30/100] Loss: 0.2572\n",
      "Epoch [30/100] Loss: 0.2705\n",
      "Epoch [30/100] Loss: 0.3444\n",
      "Epoch [30/100] Loss: 0.2419\n",
      "Epoch [30/100] Loss: 0.1828\n",
      "Epoch [30/100] Loss: 0.3112\n",
      "Epoch [30/100] Loss: 0.2291\n",
      "Epoch [30/100] Loss: 0.3823\n",
      "Epoch [30/100] Loss: 0.4331\n",
      "Epoch [30/100] Loss: 0.3115\n",
      "Epoch [30/100] Loss: 0.3902\n",
      "Epoch [30/100] Loss: 0.3070\n",
      "Epoch [30/100] Loss: 0.3466\n",
      "Epoch [30/100] Loss: 0.2081\n",
      "Epoch [30/100] Loss: 0.3070\n",
      "Epoch [30/100] Loss: 0.3499\n"
     ]
    },
    {
     "name": "stderr",
     "output_type": "stream",
     "text": [
      "654it [01:49,  5.96it/s]"
     ]
    },
    {
     "name": "stdout",
     "output_type": "stream",
     "text": [
      "Overall Acc: \t 0.571165319787\n",
      "Mean Acc : \t 0.472194871906\n",
      "FreqW Acc : \t 0.413816642963\n",
      "Mean IoU : \t 0.340777328493\n"
     ]
    },
    {
     "name": "stderr",
     "output_type": "stream",
     "text": [
      "\n"
     ]
    },
    {
     "name": "stdout",
     "output_type": "stream",
     "text": [
      "Epoch [31/100] Loss: 0.2110\n",
      "Epoch [31/100] Loss: 0.4024\n",
      "Epoch [31/100] Loss: 0.3650\n",
      "Epoch [31/100] Loss: 0.3358\n",
      "Epoch [31/100] Loss: 0.2990\n",
      "Epoch [31/100] Loss: 0.3392\n",
      "Epoch [31/100] Loss: 0.2658\n",
      "Epoch [31/100] Loss: 0.3172\n",
      "Epoch [31/100] Loss: 0.5411\n",
      "Epoch [31/100] Loss: 0.2032\n",
      "Epoch [31/100] Loss: 0.4545\n",
      "Epoch [31/100] Loss: 0.2466\n",
      "Epoch [31/100] Loss: 0.3089\n",
      "Epoch [31/100] Loss: 0.2847\n",
      "Epoch [31/100] Loss: 0.3188\n",
      "Epoch [31/100] Loss: 0.4223\n",
      "Epoch [31/100] Loss: 0.4587\n",
      "Epoch [31/100] Loss: 0.3224\n",
      "Epoch [31/100] Loss: 0.4717\n",
      "Epoch [31/100] Loss: 0.1835\n",
      "Epoch [31/100] Loss: 0.1983\n",
      "Epoch [31/100] Loss: 0.4294\n",
      "Epoch [31/100] Loss: 0.2037\n",
      "Epoch [31/100] Loss: 0.4155\n",
      "Epoch [31/100] Loss: 0.3377\n",
      "Epoch [31/100] Loss: 0.4101\n",
      "Epoch [31/100] Loss: 0.4079\n",
      "Epoch [31/100] Loss: 0.3392\n",
      "Epoch [31/100] Loss: 0.3015\n",
      "Epoch [31/100] Loss: 0.4020\n",
      "Epoch [31/100] Loss: 0.2532\n",
      "Epoch [31/100] Loss: 0.3333\n",
      "Epoch [31/100] Loss: 0.2977\n",
      "Epoch [31/100] Loss: 0.2719\n",
      "Epoch [31/100] Loss: 0.2901\n",
      "Epoch [31/100] Loss: 0.3884\n",
      "Epoch [31/100] Loss: 0.3442\n",
      "Epoch [31/100] Loss: 0.4297\n",
      "Epoch [31/100] Loss: 0.3081\n"
     ]
    },
    {
     "name": "stderr",
     "output_type": "stream",
     "text": [
      "654it [01:49,  5.96it/s]"
     ]
    },
    {
     "name": "stdout",
     "output_type": "stream",
     "text": [
      "Overall Acc: \t 0.581491348313\n",
      "Mean Acc : \t 0.471484066555\n",
      "FreqW Acc : \t 0.422514134992\n",
      "Mean IoU : \t 0.34797106047\n"
     ]
    },
    {
     "name": "stderr",
     "output_type": "stream",
     "text": [
      "\n"
     ]
    },
    {
     "name": "stdout",
     "output_type": "stream",
     "text": [
      "Epoch [32/100] Loss: 0.3521\n",
      "Epoch [32/100] Loss: 0.3656\n",
      "Epoch [32/100] Loss: 0.3447\n",
      "Epoch [32/100] Loss: 0.2439\n",
      "Epoch [32/100] Loss: 0.4114\n",
      "Epoch [32/100] Loss: 0.3110\n",
      "Epoch [32/100] Loss: 0.4452\n",
      "Epoch [32/100] Loss: 0.3238\n",
      "Epoch [32/100] Loss: 0.4360\n",
      "Epoch [32/100] Loss: 0.2628\n",
      "Epoch [32/100] Loss: 0.2310\n",
      "Epoch [32/100] Loss: 0.2024\n",
      "Epoch [32/100] Loss: 0.3766\n",
      "Epoch [32/100] Loss: 0.2480\n",
      "Epoch [32/100] Loss: 0.3900\n",
      "Epoch [32/100] Loss: 0.2650\n",
      "Epoch [32/100] Loss: 0.3134\n",
      "Epoch [32/100] Loss: 0.2196\n",
      "Epoch [32/100] Loss: 0.3309\n",
      "Epoch [32/100] Loss: 0.3934\n",
      "Epoch [32/100] Loss: 0.2559\n",
      "Epoch [32/100] Loss: 0.3818\n",
      "Epoch [32/100] Loss: 0.2659\n",
      "Epoch [32/100] Loss: 0.1996\n",
      "Epoch [32/100] Loss: 0.4113\n",
      "Epoch [32/100] Loss: 0.3528\n",
      "Epoch [32/100] Loss: 0.5854\n",
      "Epoch [32/100] Loss: 0.3610\n",
      "Epoch [32/100] Loss: 0.4011\n",
      "Epoch [32/100] Loss: 0.3409\n",
      "Epoch [32/100] Loss: 0.3142\n",
      "Epoch [32/100] Loss: 0.4052\n",
      "Epoch [32/100] Loss: 0.3591\n",
      "Epoch [32/100] Loss: 0.6008\n",
      "Epoch [32/100] Loss: 0.3755\n",
      "Epoch [32/100] Loss: 0.3682\n",
      "Epoch [32/100] Loss: 0.5463\n",
      "Epoch [32/100] Loss: 0.2586\n",
      "Epoch [32/100] Loss: 0.4204\n"
     ]
    },
    {
     "name": "stderr",
     "output_type": "stream",
     "text": [
      "654it [01:48,  6.01it/s]"
     ]
    },
    {
     "name": "stdout",
     "output_type": "stream",
     "text": [
      "Overall Acc: \t 0.571312884254\n",
      "Mean Acc : \t 0.487454691809\n",
      "FreqW Acc : \t 0.417300259539\n",
      "Mean IoU : \t 0.350054087537\n"
     ]
    },
    {
     "name": "stderr",
     "output_type": "stream",
     "text": [
      "\n"
     ]
    },
    {
     "name": "stdout",
     "output_type": "stream",
     "text": [
      "Epoch [33/100] Loss: 0.4096\n",
      "Epoch [33/100] Loss: 0.2804\n",
      "Epoch [33/100] Loss: 0.5706\n",
      "Epoch [33/100] Loss: 0.5703\n",
      "Epoch [33/100] Loss: 0.4458\n",
      "Epoch [33/100] Loss: 0.4124\n",
      "Epoch [33/100] Loss: 0.4430\n",
      "Epoch [33/100] Loss: 0.3382\n",
      "Epoch [33/100] Loss: 0.2603\n",
      "Epoch [33/100] Loss: 0.4160\n",
      "Epoch [33/100] Loss: 0.3529\n",
      "Epoch [33/100] Loss: 0.3699\n",
      "Epoch [33/100] Loss: 0.2293\n",
      "Epoch [33/100] Loss: 0.2525\n",
      "Epoch [33/100] Loss: 0.3622\n",
      "Epoch [33/100] Loss: 0.3332\n",
      "Epoch [33/100] Loss: 0.2922\n",
      "Epoch [33/100] Loss: 0.4927\n",
      "Epoch [33/100] Loss: 0.2903\n",
      "Epoch [33/100] Loss: 0.2531\n",
      "Epoch [33/100] Loss: 0.4929\n",
      "Epoch [33/100] Loss: 0.4927\n",
      "Epoch [33/100] Loss: 0.4300\n",
      "Epoch [33/100] Loss: 0.5119\n",
      "Epoch [33/100] Loss: 0.3409\n",
      "Epoch [33/100] Loss: 0.3114\n",
      "Epoch [33/100] Loss: 0.3031\n",
      "Epoch [33/100] Loss: 0.3632\n",
      "Epoch [33/100] Loss: 0.3320\n",
      "Epoch [33/100] Loss: 0.3322\n",
      "Epoch [33/100] Loss: 0.3035\n",
      "Epoch [33/100] Loss: 0.4429\n",
      "Epoch [33/100] Loss: 0.2887\n",
      "Epoch [33/100] Loss: 0.3365\n",
      "Epoch [33/100] Loss: 0.4429\n",
      "Epoch [33/100] Loss: 0.5116\n",
      "Epoch [33/100] Loss: 0.2780\n",
      "Epoch [33/100] Loss: 0.1902\n",
      "Epoch [33/100] Loss: 0.1257\n"
     ]
    },
    {
     "name": "stderr",
     "output_type": "stream",
     "text": [
      "654it [01:49,  5.98it/s]"
     ]
    },
    {
     "name": "stdout",
     "output_type": "stream",
     "text": [
      "Overall Acc: \t 0.585165562683\n",
      "Mean Acc : \t 0.486037137014\n",
      "FreqW Acc : \t 0.420062255647\n",
      "Mean IoU : \t 0.358133122709\n"
     ]
    },
    {
     "name": "stderr",
     "output_type": "stream",
     "text": [
      "\n"
     ]
    },
    {
     "name": "stdout",
     "output_type": "stream",
     "text": [
      "Epoch [34/100] Loss: 0.4360\n",
      "Epoch [34/100] Loss: 0.3442\n",
      "Epoch [34/100] Loss: 0.3727\n",
      "Epoch [34/100] Loss: 0.3616\n",
      "Epoch [34/100] Loss: 0.3303\n",
      "Epoch [34/100] Loss: 0.2190\n",
      "Epoch [34/100] Loss: 0.3656\n",
      "Epoch [34/100] Loss: 0.5143\n",
      "Epoch [34/100] Loss: 0.1709\n",
      "Epoch [34/100] Loss: 0.4540\n",
      "Epoch [34/100] Loss: 0.2190\n",
      "Epoch [34/100] Loss: 0.3637\n",
      "Epoch [34/100] Loss: 0.2491\n",
      "Epoch [34/100] Loss: 0.3854\n",
      "Epoch [34/100] Loss: 0.3140\n",
      "Epoch [34/100] Loss: 0.1272\n",
      "Epoch [34/100] Loss: 0.2372\n",
      "Epoch [34/100] Loss: 0.4000\n",
      "Epoch [34/100] Loss: 0.3121\n",
      "Epoch [34/100] Loss: 0.2674\n",
      "Epoch [34/100] Loss: 0.2339\n",
      "Epoch [34/100] Loss: 0.1396\n",
      "Epoch [34/100] Loss: 0.3982\n",
      "Epoch [34/100] Loss: 0.2577\n",
      "Epoch [34/100] Loss: 0.2829\n",
      "Epoch [34/100] Loss: 0.3711\n",
      "Epoch [34/100] Loss: 0.4569\n",
      "Epoch [34/100] Loss: 0.5625\n",
      "Epoch [34/100] Loss: 0.3000\n",
      "Epoch [34/100] Loss: 0.4069\n",
      "Epoch [34/100] Loss: 0.3707\n",
      "Epoch [34/100] Loss: 0.4546\n",
      "Epoch [34/100] Loss: 0.3485\n",
      "Epoch [34/100] Loss: 0.4153\n",
      "Epoch [34/100] Loss: 0.3227\n",
      "Epoch [34/100] Loss: 0.3103\n",
      "Epoch [34/100] Loss: 0.3297\n",
      "Epoch [34/100] Loss: 0.1341\n",
      "Epoch [34/100] Loss: 0.3952\n"
     ]
    },
    {
     "name": "stderr",
     "output_type": "stream",
     "text": [
      "654it [01:48,  6.01it/s]"
     ]
    },
    {
     "name": "stdout",
     "output_type": "stream",
     "text": [
      "Overall Acc: \t 0.581173532468\n",
      "Mean Acc : \t 0.49201191451\n",
      "FreqW Acc : \t 0.422551079904\n",
      "Mean IoU : \t 0.356546496273\n"
     ]
    },
    {
     "name": "stderr",
     "output_type": "stream",
     "text": [
      "\n"
     ]
    },
    {
     "name": "stdout",
     "output_type": "stream",
     "text": [
      "Epoch [35/100] Loss: 0.4995\n",
      "Epoch [35/100] Loss: 0.7156\n",
      "Epoch [35/100] Loss: 0.1860\n",
      "Epoch [35/100] Loss: 0.3221\n",
      "Epoch [35/100] Loss: 0.3423\n",
      "Epoch [35/100] Loss: 0.4956\n",
      "Epoch [35/100] Loss: 0.2803\n",
      "Epoch [35/100] Loss: 0.3488\n",
      "Epoch [35/100] Loss: 0.5724\n",
      "Epoch [35/100] Loss: 0.2139\n",
      "Epoch [35/100] Loss: 0.6490\n",
      "Epoch [35/100] Loss: 0.2963\n",
      "Epoch [35/100] Loss: 0.4624\n",
      "Epoch [35/100] Loss: 0.5544\n",
      "Epoch [35/100] Loss: 0.3136\n",
      "Epoch [35/100] Loss: 0.3177\n",
      "Epoch [35/100] Loss: 0.3966\n",
      "Epoch [35/100] Loss: 0.3694\n",
      "Epoch [35/100] Loss: 0.3018\n",
      "Epoch [35/100] Loss: 0.2975\n",
      "Epoch [35/100] Loss: 0.3245\n",
      "Epoch [35/100] Loss: 0.2934\n",
      "Epoch [35/100] Loss: 0.2109\n",
      "Epoch [35/100] Loss: 0.3093\n",
      "Epoch [35/100] Loss: 0.3143\n",
      "Epoch [35/100] Loss: 0.4612\n",
      "Epoch [35/100] Loss: 0.3624\n",
      "Epoch [35/100] Loss: 0.4777\n",
      "Epoch [35/100] Loss: 0.3717\n",
      "Epoch [35/100] Loss: 0.2204\n",
      "Epoch [35/100] Loss: 0.4421\n",
      "Epoch [35/100] Loss: 0.2430\n",
      "Epoch [35/100] Loss: 0.2078\n",
      "Epoch [35/100] Loss: 0.3853\n",
      "Epoch [35/100] Loss: 0.2869\n",
      "Epoch [35/100] Loss: 0.4148\n",
      "Epoch [35/100] Loss: 0.3334\n",
      "Epoch [35/100] Loss: 0.2130\n",
      "Epoch [35/100] Loss: 0.2009\n"
     ]
    },
    {
     "name": "stderr",
     "output_type": "stream",
     "text": [
      "654it [01:48,  6.01it/s]"
     ]
    },
    {
     "name": "stdout",
     "output_type": "stream",
     "text": [
      "Overall Acc: \t 0.582780087283\n",
      "Mean Acc : \t 0.478243125617\n",
      "FreqW Acc : \t 0.420141319759\n",
      "Mean IoU : \t 0.349242207332\n"
     ]
    },
    {
     "name": "stderr",
     "output_type": "stream",
     "text": [
      "\n"
     ]
    },
    {
     "name": "stdout",
     "output_type": "stream",
     "text": [
      "Epoch [36/100] Loss: 0.2596\n",
      "Epoch [36/100] Loss: 0.4202\n",
      "Epoch [36/100] Loss: 0.2182\n",
      "Epoch [36/100] Loss: 0.3992\n",
      "Epoch [36/100] Loss: 0.4426\n",
      "Epoch [36/100] Loss: 0.3676\n",
      "Epoch [36/100] Loss: 0.3102\n",
      "Epoch [36/100] Loss: 0.1940\n",
      "Epoch [36/100] Loss: 0.4411\n",
      "Epoch [36/100] Loss: 0.2557\n",
      "Epoch [36/100] Loss: 0.5258\n",
      "Epoch [36/100] Loss: 0.1666\n",
      "Epoch [36/100] Loss: 0.3395\n",
      "Epoch [36/100] Loss: 0.2468\n",
      "Epoch [36/100] Loss: 0.3585\n",
      "Epoch [36/100] Loss: 0.3869\n",
      "Epoch [36/100] Loss: 0.4133\n",
      "Epoch [36/100] Loss: 0.4265\n",
      "Epoch [36/100] Loss: 0.2948\n",
      "Epoch [36/100] Loss: 0.3215\n",
      "Epoch [36/100] Loss: 0.2579\n",
      "Epoch [36/100] Loss: 0.2651\n",
      "Epoch [36/100] Loss: 0.3218\n",
      "Epoch [36/100] Loss: 0.3469\n",
      "Epoch [36/100] Loss: 0.3829\n",
      "Epoch [36/100] Loss: 0.3379\n",
      "Epoch [36/100] Loss: 0.2568\n",
      "Epoch [36/100] Loss: 0.3477\n",
      "Epoch [36/100] Loss: 0.2214\n",
      "Epoch [36/100] Loss: 0.3021\n",
      "Epoch [36/100] Loss: 0.3492\n",
      "Epoch [36/100] Loss: 0.3604\n",
      "Epoch [36/100] Loss: 0.3641\n",
      "Epoch [36/100] Loss: 0.3666\n",
      "Epoch [36/100] Loss: 0.4095\n",
      "Epoch [36/100] Loss: 0.1953\n",
      "Epoch [36/100] Loss: 0.2679\n",
      "Epoch [36/100] Loss: 0.4215\n",
      "Epoch [36/100] Loss: 0.1624\n"
     ]
    },
    {
     "name": "stderr",
     "output_type": "stream",
     "text": [
      "654it [01:48,  6.00it/s]"
     ]
    },
    {
     "name": "stdout",
     "output_type": "stream",
     "text": [
      "Overall Acc: \t 0.582578159842\n",
      "Mean Acc : \t 0.482342651567\n",
      "FreqW Acc : \t 0.425148601957\n",
      "Mean IoU : \t 0.350818362475\n"
     ]
    },
    {
     "name": "stderr",
     "output_type": "stream",
     "text": [
      "\n"
     ]
    },
    {
     "name": "stdout",
     "output_type": "stream",
     "text": [
      "Epoch [37/100] Loss: 0.3537\n",
      "Epoch [37/100] Loss: 0.1624\n",
      "Epoch [37/100] Loss: 0.4746\n",
      "Epoch [37/100] Loss: 0.3258\n",
      "Epoch [37/100] Loss: 0.4389\n",
      "Epoch [37/100] Loss: 0.2327\n",
      "Epoch [37/100] Loss: 0.3172\n",
      "Epoch [37/100] Loss: 0.3307\n",
      "Epoch [37/100] Loss: 0.2744\n",
      "Epoch [37/100] Loss: 0.2198\n",
      "Epoch [37/100] Loss: 0.5688\n",
      "Epoch [37/100] Loss: 0.2556\n",
      "Epoch [37/100] Loss: 0.2584\n",
      "Epoch [37/100] Loss: 0.2343\n",
      "Epoch [37/100] Loss: 0.2952\n",
      "Epoch [37/100] Loss: 0.3361\n",
      "Epoch [37/100] Loss: 0.4004\n",
      "Epoch [37/100] Loss: 0.4950\n",
      "Epoch [37/100] Loss: 0.2304\n",
      "Epoch [37/100] Loss: 0.3656\n",
      "Epoch [37/100] Loss: 0.2467\n",
      "Epoch [37/100] Loss: 0.3655\n",
      "Epoch [37/100] Loss: 0.3139\n",
      "Epoch [37/100] Loss: 0.4517\n",
      "Epoch [37/100] Loss: 0.3766\n",
      "Epoch [37/100] Loss: 0.4668\n",
      "Epoch [37/100] Loss: 0.4150\n",
      "Epoch [37/100] Loss: 0.2310\n",
      "Epoch [37/100] Loss: 0.3839\n",
      "Epoch [37/100] Loss: 0.2511\n",
      "Epoch [37/100] Loss: 0.3649\n",
      "Epoch [37/100] Loss: 0.3295\n",
      "Epoch [37/100] Loss: 0.4602\n",
      "Epoch [37/100] Loss: 0.2730\n",
      "Epoch [37/100] Loss: 0.5090\n",
      "Epoch [37/100] Loss: 0.2709\n",
      "Epoch [37/100] Loss: 0.2947\n",
      "Epoch [37/100] Loss: 0.2903\n",
      "Epoch [37/100] Loss: 0.1675\n"
     ]
    },
    {
     "name": "stderr",
     "output_type": "stream",
     "text": [
      "654it [01:49,  6.00it/s]"
     ]
    },
    {
     "name": "stdout",
     "output_type": "stream",
     "text": [
      "Overall Acc: \t 0.577559390131\n",
      "Mean Acc : \t 0.466688837351\n",
      "FreqW Acc : \t 0.418417023252\n",
      "Mean IoU : \t 0.342181676077\n"
     ]
    },
    {
     "name": "stderr",
     "output_type": "stream",
     "text": [
      "\n"
     ]
    },
    {
     "name": "stdout",
     "output_type": "stream",
     "text": [
      "Epoch [38/100] Loss: 0.4214\n",
      "Epoch [38/100] Loss: 0.3112\n",
      "Epoch [38/100] Loss: 0.2514\n",
      "Epoch [38/100] Loss: 0.3077\n",
      "Epoch [38/100] Loss: 0.2287\n",
      "Epoch [38/100] Loss: 0.2385\n",
      "Epoch [38/100] Loss: 0.2555\n",
      "Epoch [38/100] Loss: 0.3238\n",
      "Epoch [38/100] Loss: 0.3816\n",
      "Epoch [38/100] Loss: 0.2828\n",
      "Epoch [38/100] Loss: 0.3995\n",
      "Epoch [38/100] Loss: 0.3642\n",
      "Epoch [38/100] Loss: 0.2098\n",
      "Epoch [38/100] Loss: 0.3173\n",
      "Epoch [38/100] Loss: 0.3198\n",
      "Epoch [38/100] Loss: 0.3097\n",
      "Epoch [38/100] Loss: 0.2089\n",
      "Epoch [38/100] Loss: 0.2508\n",
      "Epoch [38/100] Loss: 0.1873\n",
      "Epoch [38/100] Loss: 0.3369\n",
      "Epoch [38/100] Loss: 0.2759\n",
      "Epoch [38/100] Loss: 0.1719\n",
      "Epoch [38/100] Loss: 0.2389\n",
      "Epoch [38/100] Loss: 0.6559\n",
      "Epoch [38/100] Loss: 0.3102\n",
      "Epoch [38/100] Loss: 0.2134\n",
      "Epoch [38/100] Loss: 0.4003\n",
      "Epoch [38/100] Loss: 0.4280\n",
      "Epoch [38/100] Loss: 0.1778\n",
      "Epoch [38/100] Loss: 0.2376\n",
      "Epoch [38/100] Loss: 0.2471\n",
      "Epoch [38/100] Loss: 0.4347\n",
      "Epoch [38/100] Loss: 0.4969\n",
      "Epoch [38/100] Loss: 0.3022\n",
      "Epoch [38/100] Loss: 0.2707\n",
      "Epoch [38/100] Loss: 0.2827\n",
      "Epoch [38/100] Loss: 0.5179\n",
      "Epoch [38/100] Loss: 0.4076\n",
      "Epoch [38/100] Loss: 0.3646\n"
     ]
    },
    {
     "name": "stderr",
     "output_type": "stream",
     "text": [
      "654it [01:49,  5.97it/s]"
     ]
    },
    {
     "name": "stdout",
     "output_type": "stream",
     "text": [
      "Overall Acc: \t 0.581722005208\n",
      "Mean Acc : \t 0.462204331253\n",
      "FreqW Acc : \t 0.415868331393\n",
      "Mean IoU : \t 0.34496789274\n"
     ]
    },
    {
     "name": "stderr",
     "output_type": "stream",
     "text": [
      "\n"
     ]
    },
    {
     "name": "stdout",
     "output_type": "stream",
     "text": [
      "Epoch [39/100] Loss: 0.3440\n",
      "Epoch [39/100] Loss: 0.3390\n",
      "Epoch [39/100] Loss: 0.4923\n",
      "Epoch [39/100] Loss: 0.3406\n",
      "Epoch [39/100] Loss: 0.4123\n",
      "Epoch [39/100] Loss: 0.3925\n",
      "Epoch [39/100] Loss: 0.2318\n",
      "Epoch [39/100] Loss: 0.5777\n",
      "Epoch [39/100] Loss: 0.3980\n",
      "Epoch [39/100] Loss: 0.2827\n",
      "Epoch [39/100] Loss: 0.2519\n",
      "Epoch [39/100] Loss: 0.2329\n",
      "Epoch [39/100] Loss: 0.2094\n",
      "Epoch [39/100] Loss: 0.2672\n",
      "Epoch [39/100] Loss: 0.3304\n",
      "Epoch [39/100] Loss: 0.3417\n",
      "Epoch [39/100] Loss: 0.4054\n",
      "Epoch [39/100] Loss: 0.5445\n",
      "Epoch [39/100] Loss: 0.2088\n",
      "Epoch [39/100] Loss: 0.2599\n",
      "Epoch [39/100] Loss: 0.2878\n",
      "Epoch [39/100] Loss: 0.1972\n",
      "Epoch [39/100] Loss: 0.3760\n",
      "Epoch [39/100] Loss: 0.3448\n",
      "Epoch [39/100] Loss: 0.3470\n",
      "Epoch [39/100] Loss: 0.4793\n",
      "Epoch [39/100] Loss: 0.1720\n",
      "Epoch [39/100] Loss: 0.2864\n",
      "Epoch [39/100] Loss: 0.4148\n",
      "Epoch [39/100] Loss: 0.2950\n",
      "Epoch [39/100] Loss: 0.1962\n",
      "Epoch [39/100] Loss: 0.4002\n",
      "Epoch [39/100] Loss: 0.2675\n",
      "Epoch [39/100] Loss: 0.3368\n",
      "Epoch [39/100] Loss: 0.3132\n",
      "Epoch [39/100] Loss: 0.2947\n",
      "Epoch [39/100] Loss: 0.2653\n",
      "Epoch [39/100] Loss: 0.3693\n",
      "Epoch [39/100] Loss: 0.4066\n"
     ]
    },
    {
     "name": "stderr",
     "output_type": "stream",
     "text": [
      "654it [01:49,  5.98it/s]\n"
     ]
    },
    {
     "name": "stdout",
     "output_type": "stream",
     "text": [
      "Overall Acc: \t 0.584476563495\n",
      "Mean Acc : \t 0.491269349953\n",
      "FreqW Acc : \t 0.425955575897\n",
      "Mean IoU : \t 0.358806922311\n",
      "Epoch [40/100] Loss: 0.2182\n",
      "Epoch [40/100] Loss: 0.3070\n",
      "Epoch [40/100] Loss: 0.2870\n",
      "Epoch [40/100] Loss: 0.2315\n",
      "Epoch [40/100] Loss: 0.1731\n",
      "Epoch [40/100] Loss: 0.1904\n",
      "Epoch [40/100] Loss: 0.3349\n",
      "Epoch [40/100] Loss: 0.4285\n",
      "Epoch [40/100] Loss: 0.1449\n",
      "Epoch [40/100] Loss: 0.1858\n",
      "Epoch [40/100] Loss: 0.3335\n",
      "Epoch [40/100] Loss: 0.3945\n",
      "Epoch [40/100] Loss: 0.1732\n",
      "Epoch [40/100] Loss: 0.3691\n",
      "Epoch [40/100] Loss: 0.4332\n",
      "Epoch [40/100] Loss: 0.1500\n",
      "Epoch [40/100] Loss: 0.2450\n",
      "Epoch [40/100] Loss: 0.3668\n",
      "Epoch [40/100] Loss: 0.2687\n",
      "Epoch [40/100] Loss: 0.2452\n",
      "Epoch [40/100] Loss: 0.3539\n",
      "Epoch [40/100] Loss: 0.3669\n",
      "Epoch [40/100] Loss: 0.2727\n",
      "Epoch [40/100] Loss: 0.2210\n",
      "Epoch [40/100] Loss: 0.4585\n",
      "Epoch [40/100] Loss: 0.3973\n",
      "Epoch [40/100] Loss: 0.3434\n",
      "Epoch [40/100] Loss: 0.3535\n",
      "Epoch [40/100] Loss: 0.3531\n",
      "Epoch [40/100] Loss: 0.3683\n",
      "Epoch [40/100] Loss: 0.2730\n",
      "Epoch [40/100] Loss: 0.1694\n",
      "Epoch [40/100] Loss: 0.4680\n",
      "Epoch [40/100] Loss: 0.2880\n",
      "Epoch [40/100] Loss: 0.3944\n",
      "Epoch [40/100] Loss: 0.2969\n",
      "Epoch [40/100] Loss: 0.4816\n",
      "Epoch [40/100] Loss: 0.3912\n",
      "Epoch [40/100] Loss: 0.3782\n"
     ]
    },
    {
     "name": "stderr",
     "output_type": "stream",
     "text": [
      "654it [01:49,  5.97it/s]"
     ]
    },
    {
     "name": "stdout",
     "output_type": "stream",
     "text": [
      "Overall Acc: \t 0.576657787016\n",
      "Mean Acc : \t 0.471907301319\n",
      "FreqW Acc : \t 0.417926722338\n",
      "Mean IoU : \t 0.345549544957\n"
     ]
    },
    {
     "name": "stderr",
     "output_type": "stream",
     "text": [
      "\n"
     ]
    },
    {
     "name": "stdout",
     "output_type": "stream",
     "text": [
      "Epoch [41/100] Loss: 0.3645\n",
      "Epoch [41/100] Loss: 0.2120\n",
      "Epoch [41/100] Loss: 0.2392\n",
      "Epoch [41/100] Loss: 0.3863\n",
      "Epoch [41/100] Loss: 0.2599\n",
      "Epoch [41/100] Loss: 0.3493\n",
      "Epoch [41/100] Loss: 0.6377\n",
      "Epoch [41/100] Loss: 0.2596\n",
      "Epoch [41/100] Loss: 0.3226\n",
      "Epoch [41/100] Loss: 0.3028\n",
      "Epoch [41/100] Loss: 0.4217\n",
      "Epoch [41/100] Loss: 0.3054\n",
      "Epoch [41/100] Loss: 0.4024\n",
      "Epoch [41/100] Loss: 0.4489\n",
      "Epoch [41/100] Loss: 0.3175\n",
      "Epoch [41/100] Loss: 0.3833\n",
      "Epoch [41/100] Loss: 0.2933\n",
      "Epoch [41/100] Loss: 0.1393\n",
      "Epoch [41/100] Loss: 0.2918\n",
      "Epoch [41/100] Loss: 0.3451\n",
      "Epoch [41/100] Loss: 0.3528\n",
      "Epoch [41/100] Loss: 0.3046\n",
      "Epoch [41/100] Loss: 0.2937\n",
      "Epoch [41/100] Loss: 0.2606\n",
      "Epoch [41/100] Loss: 0.3206\n",
      "Epoch [41/100] Loss: 0.1831\n",
      "Epoch [41/100] Loss: 0.5230\n",
      "Epoch [41/100] Loss: 0.3343\n",
      "Epoch [41/100] Loss: 0.1221\n",
      "Epoch [41/100] Loss: 0.2614\n",
      "Epoch [41/100] Loss: 0.2990\n",
      "Epoch [41/100] Loss: 0.2655\n",
      "Epoch [41/100] Loss: 0.3911\n",
      "Epoch [41/100] Loss: 0.2978\n",
      "Epoch [41/100] Loss: 0.1754\n",
      "Epoch [41/100] Loss: 0.4570\n",
      "Epoch [41/100] Loss: 0.2543\n",
      "Epoch [41/100] Loss: 0.3911\n",
      "Epoch [41/100] Loss: 0.1841\n"
     ]
    },
    {
     "name": "stderr",
     "output_type": "stream",
     "text": [
      "654it [01:49,  5.97it/s]"
     ]
    },
    {
     "name": "stdout",
     "output_type": "stream",
     "text": [
      "Overall Acc: \t 0.576746264972\n",
      "Mean Acc : \t 0.474671825943\n",
      "FreqW Acc : \t 0.418963990833\n",
      "Mean IoU : \t 0.34661480847\n"
     ]
    },
    {
     "name": "stderr",
     "output_type": "stream",
     "text": [
      "\n"
     ]
    },
    {
     "name": "stdout",
     "output_type": "stream",
     "text": [
      "Epoch [42/100] Loss: 0.2189\n",
      "Epoch [42/100] Loss: 0.1500\n",
      "Epoch [42/100] Loss: 0.4086\n",
      "Epoch [42/100] Loss: 0.1812\n",
      "Epoch [42/100] Loss: 0.2063\n",
      "Epoch [42/100] Loss: 0.4709\n",
      "Epoch [42/100] Loss: 0.4650\n",
      "Epoch [42/100] Loss: 0.4265\n",
      "Epoch [42/100] Loss: 0.3361\n",
      "Epoch [42/100] Loss: 0.2682\n",
      "Epoch [42/100] Loss: 0.3801\n",
      "Epoch [42/100] Loss: 0.4262\n",
      "Epoch [42/100] Loss: 0.2847\n",
      "Epoch [42/100] Loss: 0.3714\n",
      "Epoch [42/100] Loss: 0.5418\n",
      "Epoch [42/100] Loss: 0.2019\n",
      "Epoch [42/100] Loss: 0.3398\n",
      "Epoch [42/100] Loss: 0.2705\n",
      "Epoch [42/100] Loss: 0.5354\n",
      "Epoch [42/100] Loss: 0.2779\n",
      "Epoch [42/100] Loss: 0.3923\n",
      "Epoch [42/100] Loss: 0.1830\n",
      "Epoch [42/100] Loss: 0.4876\n",
      "Epoch [42/100] Loss: 0.3279\n",
      "Epoch [42/100] Loss: 0.2628\n",
      "Epoch [42/100] Loss: 0.2695\n",
      "Epoch [42/100] Loss: 0.3137\n",
      "Epoch [42/100] Loss: 0.2167\n",
      "Epoch [42/100] Loss: 0.3367\n",
      "Epoch [42/100] Loss: 0.3009\n",
      "Epoch [42/100] Loss: 0.3059\n",
      "Epoch [42/100] Loss: 0.3245\n",
      "Epoch [42/100] Loss: 0.2568\n",
      "Epoch [42/100] Loss: 0.2098\n",
      "Epoch [42/100] Loss: 0.2511\n",
      "Epoch [42/100] Loss: 0.2997\n",
      "Epoch [42/100] Loss: 0.2938\n",
      "Epoch [42/100] Loss: 0.3285\n",
      "Epoch [42/100] Loss: 0.2233\n"
     ]
    },
    {
     "name": "stderr",
     "output_type": "stream",
     "text": [
      "654it [01:49,  6.00it/s]"
     ]
    },
    {
     "name": "stdout",
     "output_type": "stream",
     "text": [
      "Overall Acc: \t 0.583007155485\n",
      "Mean Acc : \t 0.487463414119\n",
      "FreqW Acc : \t 0.424063120595\n",
      "Mean IoU : \t 0.347975172515\n"
     ]
    },
    {
     "name": "stderr",
     "output_type": "stream",
     "text": [
      "\n"
     ]
    },
    {
     "name": "stdout",
     "output_type": "stream",
     "text": [
      "Epoch [43/100] Loss: 0.3845\n",
      "Epoch [43/100] Loss: 0.3742\n",
      "Epoch [43/100] Loss: 0.2298\n",
      "Epoch [43/100] Loss: 0.5604\n",
      "Epoch [43/100] Loss: 0.3262\n",
      "Epoch [43/100] Loss: 0.2775\n",
      "Epoch [43/100] Loss: 0.2820\n",
      "Epoch [43/100] Loss: 0.2281\n",
      "Epoch [43/100] Loss: 0.3330\n",
      "Epoch [43/100] Loss: 0.1800\n",
      "Epoch [43/100] Loss: 0.2555\n",
      "Epoch [43/100] Loss: 0.2386\n",
      "Epoch [43/100] Loss: 0.5407\n",
      "Epoch [43/100] Loss: 0.2067\n",
      "Epoch [43/100] Loss: 0.2430\n",
      "Epoch [43/100] Loss: 0.2181\n",
      "Epoch [43/100] Loss: 0.2708\n",
      "Epoch [43/100] Loss: 0.3100\n",
      "Epoch [43/100] Loss: 0.1966\n",
      "Epoch [43/100] Loss: 0.3125\n",
      "Epoch [43/100] Loss: 0.4227\n",
      "Epoch [43/100] Loss: 0.2484\n",
      "Epoch [43/100] Loss: 0.2924\n",
      "Epoch [43/100] Loss: 0.3242\n",
      "Epoch [43/100] Loss: 0.2742\n",
      "Epoch [43/100] Loss: 0.2328\n",
      "Epoch [43/100] Loss: 0.2244\n",
      "Epoch [43/100] Loss: 0.2990\n",
      "Epoch [43/100] Loss: 0.1845\n",
      "Epoch [43/100] Loss: 0.2638\n",
      "Epoch [43/100] Loss: 0.2221\n",
      "Epoch [43/100] Loss: 0.4708\n",
      "Epoch [43/100] Loss: 0.2178\n",
      "Epoch [43/100] Loss: 0.1754\n",
      "Epoch [43/100] Loss: 0.5710\n",
      "Epoch [43/100] Loss: 0.2580\n",
      "Epoch [43/100] Loss: 0.3708\n",
      "Epoch [43/100] Loss: 0.2444\n",
      "Epoch [43/100] Loss: 0.2998\n"
     ]
    },
    {
     "name": "stderr",
     "output_type": "stream",
     "text": [
      "654it [01:48,  6.03it/s]"
     ]
    },
    {
     "name": "stdout",
     "output_type": "stream",
     "text": [
      "Overall Acc: \t 0.57025972481\n",
      "Mean Acc : \t 0.471292830375\n",
      "FreqW Acc : \t 0.415300379294\n",
      "Mean IoU : \t 0.345132439869\n"
     ]
    },
    {
     "name": "stderr",
     "output_type": "stream",
     "text": [
      "\n"
     ]
    },
    {
     "name": "stdout",
     "output_type": "stream",
     "text": [
      "Epoch [44/100] Loss: 0.5717\n",
      "Epoch [44/100] Loss: 0.2724\n",
      "Epoch [44/100] Loss: 0.2567\n",
      "Epoch [44/100] Loss: 0.3035\n",
      "Epoch [44/100] Loss: 0.2068\n",
      "Epoch [44/100] Loss: 0.4112\n",
      "Epoch [44/100] Loss: 0.2729\n",
      "Epoch [44/100] Loss: 0.4307\n",
      "Epoch [44/100] Loss: 0.3489\n",
      "Epoch [44/100] Loss: 0.2684\n",
      "Epoch [44/100] Loss: 0.2997\n",
      "Epoch [44/100] Loss: 0.3638\n",
      "Epoch [44/100] Loss: 0.2891\n",
      "Epoch [44/100] Loss: 0.2535\n",
      "Epoch [44/100] Loss: 0.4220\n",
      "Epoch [44/100] Loss: 0.3963\n",
      "Epoch [44/100] Loss: 0.2222\n",
      "Epoch [44/100] Loss: 0.3056\n",
      "Epoch [44/100] Loss: 0.3052\n",
      "Epoch [44/100] Loss: 0.3127\n",
      "Epoch [44/100] Loss: 0.3964\n",
      "Epoch [44/100] Loss: 0.2890\n",
      "Epoch [44/100] Loss: 0.1966\n",
      "Epoch [44/100] Loss: 0.3404\n",
      "Epoch [44/100] Loss: 0.4097\n",
      "Epoch [44/100] Loss: 0.3362\n",
      "Epoch [44/100] Loss: 0.1941\n",
      "Epoch [44/100] Loss: 0.1816\n",
      "Epoch [44/100] Loss: 0.3055\n",
      "Epoch [44/100] Loss: 0.2712\n",
      "Epoch [44/100] Loss: 0.2790\n",
      "Epoch [44/100] Loss: 0.4241\n",
      "Epoch [44/100] Loss: 0.2309\n",
      "Epoch [44/100] Loss: 0.2616\n",
      "Epoch [44/100] Loss: 0.2246\n",
      "Epoch [44/100] Loss: 0.3398\n",
      "Epoch [44/100] Loss: 0.1750\n",
      "Epoch [44/100] Loss: 0.2755\n",
      "Epoch [44/100] Loss: 0.3439\n"
     ]
    },
    {
     "name": "stderr",
     "output_type": "stream",
     "text": [
      "654it [01:49,  5.97it/s]"
     ]
    },
    {
     "name": "stdout",
     "output_type": "stream",
     "text": [
      "Overall Acc: \t 0.57899255284\n",
      "Mean Acc : \t 0.473027671514\n",
      "FreqW Acc : \t 0.421331148134\n",
      "Mean IoU : \t 0.351745690744\n"
     ]
    },
    {
     "name": "stderr",
     "output_type": "stream",
     "text": [
      "\n"
     ]
    },
    {
     "name": "stdout",
     "output_type": "stream",
     "text": [
      "Epoch [45/100] Loss: 0.3960\n",
      "Epoch [45/100] Loss: 0.3273\n",
      "Epoch [45/100] Loss: 0.2146\n",
      "Epoch [45/100] Loss: 0.1762\n",
      "Epoch [45/100] Loss: 0.2570\n",
      "Epoch [45/100] Loss: 0.4419\n",
      "Epoch [45/100] Loss: 0.3426\n",
      "Epoch [45/100] Loss: 0.2797\n",
      "Epoch [45/100] Loss: 0.3136\n",
      "Epoch [45/100] Loss: 0.1984\n",
      "Epoch [45/100] Loss: 0.3683\n",
      "Epoch [45/100] Loss: 0.3819\n",
      "Epoch [45/100] Loss: 0.4105\n",
      "Epoch [45/100] Loss: 0.1932\n",
      "Epoch [45/100] Loss: 0.3298\n",
      "Epoch [45/100] Loss: 0.2801\n",
      "Epoch [45/100] Loss: 0.2056\n",
      "Epoch [45/100] Loss: 0.3212\n",
      "Epoch [45/100] Loss: 0.2472\n",
      "Epoch [45/100] Loss: 0.2432\n",
      "Epoch [45/100] Loss: 0.2103\n",
      "Epoch [45/100] Loss: 0.4281\n",
      "Epoch [45/100] Loss: 0.6748\n",
      "Epoch [45/100] Loss: 0.4680\n",
      "Epoch [45/100] Loss: 0.2818\n",
      "Epoch [45/100] Loss: 0.3542\n",
      "Epoch [45/100] Loss: 0.3397\n",
      "Epoch [45/100] Loss: 0.3709\n",
      "Epoch [45/100] Loss: 0.1650\n",
      "Epoch [45/100] Loss: 0.3482\n",
      "Epoch [45/100] Loss: 0.1698\n",
      "Epoch [45/100] Loss: 0.4921\n",
      "Epoch [45/100] Loss: 0.2734\n",
      "Epoch [45/100] Loss: 0.4486\n",
      "Epoch [45/100] Loss: 0.3533\n",
      "Epoch [45/100] Loss: 0.3881\n",
      "Epoch [45/100] Loss: 0.3657\n",
      "Epoch [45/100] Loss: 0.3808\n",
      "Epoch [45/100] Loss: 0.2767\n"
     ]
    },
    {
     "name": "stderr",
     "output_type": "stream",
     "text": [
      "654it [01:50,  5.94it/s]"
     ]
    },
    {
     "name": "stdout",
     "output_type": "stream",
     "text": [
      "Overall Acc: \t 0.57702082736\n",
      "Mean Acc : \t 0.480850280027\n",
      "FreqW Acc : \t 0.422454552101\n",
      "Mean IoU : \t 0.349624936724\n"
     ]
    },
    {
     "name": "stderr",
     "output_type": "stream",
     "text": [
      "\n"
     ]
    },
    {
     "name": "stdout",
     "output_type": "stream",
     "text": [
      "Epoch [46/100] Loss: 0.1099\n",
      "Epoch [46/100] Loss: 0.3158\n",
      "Epoch [46/100] Loss: 0.3532\n",
      "Epoch [46/100] Loss: 0.1940\n",
      "Epoch [46/100] Loss: 0.3034\n",
      "Epoch [46/100] Loss: 0.2498\n",
      "Epoch [46/100] Loss: 0.3838\n",
      "Epoch [46/100] Loss: 0.2262\n",
      "Epoch [46/100] Loss: 0.2344\n",
      "Epoch [46/100] Loss: 0.2760\n",
      "Epoch [46/100] Loss: 0.4440\n",
      "Epoch [46/100] Loss: 0.4819\n",
      "Epoch [46/100] Loss: 0.1948\n",
      "Epoch [46/100] Loss: 0.2628\n",
      "Epoch [46/100] Loss: 0.2540\n",
      "Epoch [46/100] Loss: 0.3203\n",
      "Epoch [46/100] Loss: 0.2492\n",
      "Epoch [46/100] Loss: 0.4203\n",
      "Epoch [46/100] Loss: 0.2487\n",
      "Epoch [46/100] Loss: 0.2918\n",
      "Epoch [46/100] Loss: 0.3673\n",
      "Epoch [46/100] Loss: 0.2714\n",
      "Epoch [46/100] Loss: 0.1820\n",
      "Epoch [46/100] Loss: 0.2460\n",
      "Epoch [46/100] Loss: 0.2092\n",
      "Epoch [46/100] Loss: 0.3798\n",
      "Epoch [46/100] Loss: 0.2429\n",
      "Epoch [46/100] Loss: 0.1989\n",
      "Epoch [46/100] Loss: 0.3810\n",
      "Epoch [46/100] Loss: 0.2640\n",
      "Epoch [46/100] Loss: 0.1962\n",
      "Epoch [46/100] Loss: 0.2987\n",
      "Epoch [46/100] Loss: 0.2345\n",
      "Epoch [46/100] Loss: 0.3655\n",
      "Epoch [46/100] Loss: 0.2604\n",
      "Epoch [46/100] Loss: 0.2616\n",
      "Epoch [46/100] Loss: 0.2742\n",
      "Epoch [46/100] Loss: 0.5342\n",
      "Epoch [46/100] Loss: 0.2632\n"
     ]
    },
    {
     "name": "stderr",
     "output_type": "stream",
     "text": [
      "654it [01:49,  5.96it/s]"
     ]
    },
    {
     "name": "stdout",
     "output_type": "stream",
     "text": [
      "Overall Acc: \t 0.589455305094\n",
      "Mean Acc : \t 0.482983265047\n",
      "FreqW Acc : \t 0.42862815323\n",
      "Mean IoU : \t 0.35851646391\n"
     ]
    },
    {
     "name": "stderr",
     "output_type": "stream",
     "text": [
      "\n"
     ]
    },
    {
     "name": "stdout",
     "output_type": "stream",
     "text": [
      "Epoch [47/100] Loss: 0.4340\n",
      "Epoch [47/100] Loss: 0.2387\n",
      "Epoch [47/100] Loss: 0.2478\n",
      "Epoch [47/100] Loss: 0.3293\n",
      "Epoch [47/100] Loss: 0.2715\n",
      "Epoch [47/100] Loss: 0.2293\n",
      "Epoch [47/100] Loss: 0.2865\n",
      "Epoch [47/100] Loss: 0.3198\n",
      "Epoch [47/100] Loss: 0.3575\n",
      "Epoch [47/100] Loss: 0.2228\n",
      "Epoch [47/100] Loss: 0.1734\n",
      "Epoch [47/100] Loss: 0.2236\n",
      "Epoch [47/100] Loss: 0.4846\n",
      "Epoch [47/100] Loss: 0.3219\n",
      "Epoch [47/100] Loss: 0.4216\n",
      "Epoch [47/100] Loss: 0.1049\n",
      "Epoch [47/100] Loss: 0.2894\n",
      "Epoch [47/100] Loss: 0.2784\n",
      "Epoch [47/100] Loss: 0.3471\n",
      "Epoch [47/100] Loss: 0.1710\n",
      "Epoch [47/100] Loss: 0.2570\n",
      "Epoch [47/100] Loss: 0.3918\n",
      "Epoch [47/100] Loss: 0.2242\n",
      "Epoch [47/100] Loss: 0.4428\n",
      "Epoch [47/100] Loss: 0.2405\n",
      "Epoch [47/100] Loss: 0.2391\n",
      "Epoch [47/100] Loss: 0.3671\n",
      "Epoch [47/100] Loss: 0.2544\n",
      "Epoch [47/100] Loss: 0.3402\n",
      "Epoch [47/100] Loss: 0.3789\n",
      "Epoch [47/100] Loss: 0.2622\n",
      "Epoch [47/100] Loss: 0.2896\n",
      "Epoch [47/100] Loss: 0.3520\n",
      "Epoch [47/100] Loss: 0.2392\n",
      "Epoch [47/100] Loss: 0.4849\n",
      "Epoch [47/100] Loss: 0.3815\n",
      "Epoch [47/100] Loss: 0.2247\n",
      "Epoch [47/100] Loss: 0.2476\n",
      "Epoch [47/100] Loss: 0.3295\n"
     ]
    },
    {
     "name": "stderr",
     "output_type": "stream",
     "text": [
      "654it [01:48,  6.02it/s]"
     ]
    },
    {
     "name": "stdout",
     "output_type": "stream",
     "text": [
      "Overall Acc: \t 0.582091585834\n",
      "Mean Acc : \t 0.47520773896\n",
      "FreqW Acc : \t 0.42287006741\n",
      "Mean IoU : \t 0.350994278725\n"
     ]
    },
    {
     "name": "stderr",
     "output_type": "stream",
     "text": [
      "\n"
     ]
    },
    {
     "name": "stdout",
     "output_type": "stream",
     "text": [
      "Epoch [48/100] Loss: 0.2789\n",
      "Epoch [48/100] Loss: 0.2999\n",
      "Epoch [48/100] Loss: 0.3265\n",
      "Epoch [48/100] Loss: 0.2315\n",
      "Epoch [48/100] Loss: 0.1882\n",
      "Epoch [48/100] Loss: 0.2612\n",
      "Epoch [48/100] Loss: 0.1366\n",
      "Epoch [48/100] Loss: 0.3285\n",
      "Epoch [48/100] Loss: 0.5660\n",
      "Epoch [48/100] Loss: 0.2233\n",
      "Epoch [48/100] Loss: 0.4701\n",
      "Epoch [48/100] Loss: 0.1978\n",
      "Epoch [48/100] Loss: 0.3096\n",
      "Epoch [48/100] Loss: 0.0929\n",
      "Epoch [48/100] Loss: 0.3130\n",
      "Epoch [48/100] Loss: 0.4230\n",
      "Epoch [48/100] Loss: 0.1577\n",
      "Epoch [48/100] Loss: 0.1875\n",
      "Epoch [48/100] Loss: 0.1143\n",
      "Epoch [48/100] Loss: 0.3830\n",
      "Epoch [48/100] Loss: 0.2764\n",
      "Epoch [48/100] Loss: 0.5570\n",
      "Epoch [48/100] Loss: 0.4217\n",
      "Epoch [48/100] Loss: 0.1866\n",
      "Epoch [48/100] Loss: 0.3510\n",
      "Epoch [48/100] Loss: 0.2861\n",
      "Epoch [48/100] Loss: 0.2431\n",
      "Epoch [48/100] Loss: 0.2690\n",
      "Epoch [48/100] Loss: 0.1931\n",
      "Epoch [48/100] Loss: 0.5074\n",
      "Epoch [48/100] Loss: 0.4221\n",
      "Epoch [48/100] Loss: 0.2672\n",
      "Epoch [48/100] Loss: 0.3228\n",
      "Epoch [48/100] Loss: 0.2012\n",
      "Epoch [48/100] Loss: 0.3262\n",
      "Epoch [48/100] Loss: 0.4443\n",
      "Epoch [48/100] Loss: 0.3936\n",
      "Epoch [48/100] Loss: 0.2617\n",
      "Epoch [48/100] Loss: 0.2613\n"
     ]
    },
    {
     "name": "stderr",
     "output_type": "stream",
     "text": [
      "654it [01:48,  6.00it/s]"
     ]
    },
    {
     "name": "stdout",
     "output_type": "stream",
     "text": [
      "Overall Acc: \t 0.589244577639\n",
      "Mean Acc : \t 0.491381434025\n",
      "FreqW Acc : \t 0.427617907541\n",
      "Mean IoU : \t 0.357889702958\n"
     ]
    },
    {
     "name": "stderr",
     "output_type": "stream",
     "text": [
      "\n"
     ]
    },
    {
     "name": "stdout",
     "output_type": "stream",
     "text": [
      "Epoch [49/100] Loss: 0.3143\n",
      "Epoch [49/100] Loss: 0.3295\n",
      "Epoch [49/100] Loss: 0.3678\n",
      "Epoch [49/100] Loss: 0.2957\n",
      "Epoch [49/100] Loss: 0.2359\n",
      "Epoch [49/100] Loss: 0.3907\n",
      "Epoch [49/100] Loss: 0.2379\n",
      "Epoch [49/100] Loss: 0.1831\n",
      "Epoch [49/100] Loss: 0.4299\n",
      "Epoch [49/100] Loss: 0.3418\n",
      "Epoch [49/100] Loss: 0.4883\n",
      "Epoch [49/100] Loss: 0.3110\n",
      "Epoch [49/100] Loss: 0.2359\n",
      "Epoch [49/100] Loss: 0.4397\n",
      "Epoch [49/100] Loss: 0.2826\n",
      "Epoch [49/100] Loss: 0.3029\n",
      "Epoch [49/100] Loss: 0.2600\n",
      "Epoch [49/100] Loss: 0.3094\n",
      "Epoch [49/100] Loss: 0.3007\n",
      "Epoch [49/100] Loss: 0.3147\n",
      "Epoch [49/100] Loss: 0.2765\n",
      "Epoch [49/100] Loss: 0.2111\n",
      "Epoch [49/100] Loss: 0.0843\n",
      "Epoch [49/100] Loss: 0.3078\n",
      "Epoch [49/100] Loss: 0.2863\n",
      "Epoch [49/100] Loss: 0.3167\n",
      "Epoch [49/100] Loss: 0.1895\n",
      "Epoch [49/100] Loss: 0.2208\n",
      "Epoch [49/100] Loss: 0.2633\n",
      "Epoch [49/100] Loss: 0.5488\n",
      "Epoch [49/100] Loss: 0.5607\n",
      "Epoch [49/100] Loss: 0.4548\n",
      "Epoch [49/100] Loss: 0.2041\n",
      "Epoch [49/100] Loss: 0.3505\n",
      "Epoch [49/100] Loss: 0.3667\n",
      "Epoch [49/100] Loss: 0.4733\n",
      "Epoch [49/100] Loss: 0.2733\n",
      "Epoch [49/100] Loss: 0.2284\n",
      "Epoch [49/100] Loss: 0.1887\n"
     ]
    },
    {
     "name": "stderr",
     "output_type": "stream",
     "text": [
      "654it [01:49,  5.98it/s]"
     ]
    },
    {
     "name": "stdout",
     "output_type": "stream",
     "text": [
      "Overall Acc: \t 0.570956259756\n",
      "Mean Acc : \t 0.463750935474\n",
      "FreqW Acc : \t 0.416952264523\n",
      "Mean IoU : \t 0.347013550666\n"
     ]
    },
    {
     "name": "stderr",
     "output_type": "stream",
     "text": [
      "\n"
     ]
    },
    {
     "name": "stdout",
     "output_type": "stream",
     "text": [
      "Epoch [50/100] Loss: 0.5659\n",
      "Epoch [50/100] Loss: 0.1823\n",
      "Epoch [50/100] Loss: 0.3941\n",
      "Epoch [50/100] Loss: 0.2044\n",
      "Epoch [50/100] Loss: 0.2928\n",
      "Epoch [50/100] Loss: 0.3118\n",
      "Epoch [50/100] Loss: 0.2862\n",
      "Epoch [50/100] Loss: 0.1829\n",
      "Epoch [50/100] Loss: 0.2884\n",
      "Epoch [50/100] Loss: 0.2614\n",
      "Epoch [50/100] Loss: 0.3566\n",
      "Epoch [50/100] Loss: 0.4080\n",
      "Epoch [50/100] Loss: 0.2566\n",
      "Epoch [50/100] Loss: 0.4323\n",
      "Epoch [50/100] Loss: 0.3190\n",
      "Epoch [50/100] Loss: 0.2710\n",
      "Epoch [50/100] Loss: 0.1996\n",
      "Epoch [50/100] Loss: 0.2348\n",
      "Epoch [50/100] Loss: 0.4402\n",
      "Epoch [50/100] Loss: 0.2912\n",
      "Epoch [50/100] Loss: 0.2701\n",
      "Epoch [50/100] Loss: 0.2545\n",
      "Epoch [50/100] Loss: 0.4383\n",
      "Epoch [50/100] Loss: 0.3350\n",
      "Epoch [50/100] Loss: 0.2651\n",
      "Epoch [50/100] Loss: 0.2004\n",
      "Epoch [50/100] Loss: 0.3670\n",
      "Epoch [50/100] Loss: 0.2705\n",
      "Epoch [50/100] Loss: 0.2574\n",
      "Epoch [50/100] Loss: 0.4194\n",
      "Epoch [50/100] Loss: 0.5323\n",
      "Epoch [50/100] Loss: 0.2932\n",
      "Epoch [50/100] Loss: 0.2670\n",
      "Epoch [50/100] Loss: 0.2941\n",
      "Epoch [50/100] Loss: 0.1946\n",
      "Epoch [50/100] Loss: 0.3334\n",
      "Epoch [50/100] Loss: 0.2407\n",
      "Epoch [50/100] Loss: 0.2654\n",
      "Epoch [50/100] Loss: 0.2309\n"
     ]
    },
    {
     "name": "stderr",
     "output_type": "stream",
     "text": [
      "654it [01:49,  5.96it/s]"
     ]
    },
    {
     "name": "stdout",
     "output_type": "stream",
     "text": [
      "Overall Acc: \t 0.582404170449\n",
      "Mean Acc : \t 0.478233376405\n",
      "FreqW Acc : \t 0.423788139817\n",
      "Mean IoU : \t 0.348921555343\n"
     ]
    },
    {
     "name": "stderr",
     "output_type": "stream",
     "text": [
      "\n"
     ]
    },
    {
     "name": "stdout",
     "output_type": "stream",
     "text": [
      "Epoch [51/100] Loss: 0.2165\n",
      "Epoch [51/100] Loss: 0.3558\n",
      "Epoch [51/100] Loss: 0.3013\n",
      "Epoch [51/100] Loss: 0.2627\n",
      "Epoch [51/100] Loss: 0.3718\n",
      "Epoch [51/100] Loss: 0.2113\n",
      "Epoch [51/100] Loss: 0.2432\n",
      "Epoch [51/100] Loss: 0.3438\n",
      "Epoch [51/100] Loss: 0.3773\n",
      "Epoch [51/100] Loss: 0.4227\n",
      "Epoch [51/100] Loss: 0.4643\n",
      "Epoch [51/100] Loss: 0.3285\n",
      "Epoch [51/100] Loss: 0.3221\n",
      "Epoch [51/100] Loss: 0.3010\n",
      "Epoch [51/100] Loss: 0.1248\n",
      "Epoch [51/100] Loss: 0.4040\n",
      "Epoch [51/100] Loss: 0.2357\n",
      "Epoch [51/100] Loss: 0.1947\n",
      "Epoch [51/100] Loss: 0.3085\n",
      "Epoch [51/100] Loss: 0.1222\n",
      "Epoch [51/100] Loss: 0.2445\n",
      "Epoch [51/100] Loss: 0.1700\n",
      "Epoch [51/100] Loss: 0.2450\n",
      "Epoch [51/100] Loss: 0.3169\n",
      "Epoch [51/100] Loss: 0.3176\n",
      "Epoch [51/100] Loss: 0.2631\n",
      "Epoch [51/100] Loss: 0.3906\n",
      "Epoch [51/100] Loss: 0.1833\n",
      "Epoch [51/100] Loss: 0.2090\n",
      "Epoch [51/100] Loss: 0.2219\n",
      "Epoch [51/100] Loss: 0.3120\n",
      "Epoch [51/100] Loss: 0.2119\n",
      "Epoch [51/100] Loss: 0.3910\n",
      "Epoch [51/100] Loss: 0.2995\n",
      "Epoch [51/100] Loss: 0.1732\n",
      "Epoch [51/100] Loss: 0.4085\n",
      "Epoch [51/100] Loss: 0.1505\n",
      "Epoch [51/100] Loss: 0.3636\n",
      "Epoch [51/100] Loss: 0.3363\n"
     ]
    },
    {
     "name": "stderr",
     "output_type": "stream",
     "text": [
      "654it [01:49,  5.98it/s]"
     ]
    },
    {
     "name": "stdout",
     "output_type": "stream",
     "text": [
      "Overall Acc: \t 0.58740204013\n",
      "Mean Acc : \t 0.469169283606\n",
      "FreqW Acc : \t 0.424088512031\n",
      "Mean IoU : \t 0.349955918111\n"
     ]
    },
    {
     "name": "stderr",
     "output_type": "stream",
     "text": [
      "\n"
     ]
    },
    {
     "name": "stdout",
     "output_type": "stream",
     "text": [
      "Epoch [52/100] Loss: 0.2781\n",
      "Epoch [52/100] Loss: 0.2703\n",
      "Epoch [52/100] Loss: 0.4537\n",
      "Epoch [52/100] Loss: 0.2689\n",
      "Epoch [52/100] Loss: 0.4487\n",
      "Epoch [52/100] Loss: 0.3339\n",
      "Epoch [52/100] Loss: 0.1571\n",
      "Epoch [52/100] Loss: 0.2904\n",
      "Epoch [52/100] Loss: 0.1823\n",
      "Epoch [52/100] Loss: 0.3031\n",
      "Epoch [52/100] Loss: 0.2540\n",
      "Epoch [52/100] Loss: 0.2978\n",
      "Epoch [52/100] Loss: 0.1390\n",
      "Epoch [52/100] Loss: 0.3026\n",
      "Epoch [52/100] Loss: 0.3783\n",
      "Epoch [52/100] Loss: 0.4202\n",
      "Epoch [52/100] Loss: 0.3788\n",
      "Epoch [52/100] Loss: 0.1660\n",
      "Epoch [52/100] Loss: 0.2933\n",
      "Epoch [52/100] Loss: 0.4143\n",
      "Epoch [52/100] Loss: 0.1882\n",
      "Epoch [52/100] Loss: 0.1183\n",
      "Epoch [52/100] Loss: 0.2753\n",
      "Epoch [52/100] Loss: 0.3152\n",
      "Epoch [52/100] Loss: 0.2862\n",
      "Epoch [52/100] Loss: 0.3081\n",
      "Epoch [52/100] Loss: 0.2705\n",
      "Epoch [52/100] Loss: 0.2776\n",
      "Epoch [52/100] Loss: 0.2593\n",
      "Epoch [52/100] Loss: 0.2128\n",
      "Epoch [52/100] Loss: 0.2094\n",
      "Epoch [52/100] Loss: 0.3104\n",
      "Epoch [52/100] Loss: 0.2933\n",
      "Epoch [52/100] Loss: 0.2748\n",
      "Epoch [52/100] Loss: 0.2502\n",
      "Epoch [52/100] Loss: 0.2867\n",
      "Epoch [52/100] Loss: 0.1823\n",
      "Epoch [52/100] Loss: 0.2317\n",
      "Epoch [52/100] Loss: 0.2702\n"
     ]
    },
    {
     "name": "stderr",
     "output_type": "stream",
     "text": [
      "654it [01:49,  5.98it/s]"
     ]
    },
    {
     "name": "stdout",
     "output_type": "stream",
     "text": [
      "Overall Acc: \t 0.586628335842\n",
      "Mean Acc : \t 0.484379219305\n",
      "FreqW Acc : \t 0.428092265902\n",
      "Mean IoU : \t 0.35763406001\n"
     ]
    },
    {
     "name": "stderr",
     "output_type": "stream",
     "text": [
      "\n"
     ]
    },
    {
     "name": "stdout",
     "output_type": "stream",
     "text": [
      "Epoch [53/100] Loss: 0.3650\n",
      "Epoch [53/100] Loss: 0.2623\n",
      "Epoch [53/100] Loss: 0.4899\n",
      "Epoch [53/100] Loss: 0.2993\n",
      "Epoch [53/100] Loss: 0.2851\n",
      "Epoch [53/100] Loss: 0.3076\n",
      "Epoch [53/100] Loss: 0.2722\n",
      "Epoch [53/100] Loss: 0.2618\n",
      "Epoch [53/100] Loss: 0.3026\n",
      "Epoch [53/100] Loss: 0.1609\n",
      "Epoch [53/100] Loss: 0.3764\n",
      "Epoch [53/100] Loss: 0.1862\n",
      "Epoch [53/100] Loss: 0.3554\n",
      "Epoch [53/100] Loss: 0.2730\n",
      "Epoch [53/100] Loss: 0.4551\n",
      "Epoch [53/100] Loss: 0.2282\n",
      "Epoch [53/100] Loss: 0.3017\n",
      "Epoch [53/100] Loss: 0.2417\n",
      "Epoch [53/100] Loss: 0.3977\n",
      "Epoch [53/100] Loss: 0.3832\n",
      "Epoch [53/100] Loss: 0.1784\n",
      "Epoch [53/100] Loss: 0.3556\n",
      "Epoch [53/100] Loss: 0.3252\n",
      "Epoch [53/100] Loss: 0.2672\n",
      "Epoch [53/100] Loss: 0.3512\n",
      "Epoch [53/100] Loss: 0.2030\n",
      "Epoch [53/100] Loss: 0.2400\n",
      "Epoch [53/100] Loss: 0.3953\n",
      "Epoch [53/100] Loss: 0.2985\n",
      "Epoch [53/100] Loss: 0.3264\n",
      "Epoch [53/100] Loss: 0.3846\n",
      "Epoch [53/100] Loss: 0.4194\n",
      "Epoch [53/100] Loss: 0.2387\n",
      "Epoch [53/100] Loss: 0.2402\n",
      "Epoch [53/100] Loss: 0.3536\n",
      "Epoch [53/100] Loss: 0.4664\n",
      "Epoch [53/100] Loss: 0.2380\n",
      "Epoch [53/100] Loss: 0.3644\n",
      "Epoch [53/100] Loss: 0.2999\n"
     ]
    },
    {
     "name": "stderr",
     "output_type": "stream",
     "text": [
      "654it [01:49,  5.97it/s]"
     ]
    },
    {
     "name": "stdout",
     "output_type": "stream",
     "text": [
      "Overall Acc: \t 0.586008572049\n",
      "Mean Acc : \t 0.476342572972\n",
      "FreqW Acc : \t 0.42598588283\n",
      "Mean IoU : \t 0.349439349921\n"
     ]
    },
    {
     "name": "stderr",
     "output_type": "stream",
     "text": [
      "\n"
     ]
    },
    {
     "name": "stdout",
     "output_type": "stream",
     "text": [
      "Epoch [54/100] Loss: 0.3056\n",
      "Epoch [54/100] Loss: 0.1488\n",
      "Epoch [54/100] Loss: 0.3620\n",
      "Epoch [54/100] Loss: 0.3741\n",
      "Epoch [54/100] Loss: 0.5106\n",
      "Epoch [54/100] Loss: 0.2358\n",
      "Epoch [54/100] Loss: 0.2174\n",
      "Epoch [54/100] Loss: 0.1686\n",
      "Epoch [54/100] Loss: 0.2660\n",
      "Epoch [54/100] Loss: 0.3992\n",
      "Epoch [54/100] Loss: 0.2570\n",
      "Epoch [54/100] Loss: 0.3859\n",
      "Epoch [54/100] Loss: 0.1192\n",
      "Epoch [54/100] Loss: 0.2191\n",
      "Epoch [54/100] Loss: 0.3613\n",
      "Epoch [54/100] Loss: 0.2820\n",
      "Epoch [54/100] Loss: 0.3974\n",
      "Epoch [54/100] Loss: 0.4390\n",
      "Epoch [54/100] Loss: 0.2421\n",
      "Epoch [54/100] Loss: 0.3140\n",
      "Epoch [54/100] Loss: 0.2722\n",
      "Epoch [54/100] Loss: 0.2196\n",
      "Epoch [54/100] Loss: 0.2761\n",
      "Epoch [54/100] Loss: 0.3187\n",
      "Epoch [54/100] Loss: 0.2049\n",
      "Epoch [54/100] Loss: 0.4216\n",
      "Epoch [54/100] Loss: 0.2235\n",
      "Epoch [54/100] Loss: 0.2661\n",
      "Epoch [54/100] Loss: 0.2513\n",
      "Epoch [54/100] Loss: 0.2420\n",
      "Epoch [54/100] Loss: 0.4302\n",
      "Epoch [54/100] Loss: 0.1699\n",
      "Epoch [54/100] Loss: 0.2608\n",
      "Epoch [54/100] Loss: 0.2713\n",
      "Epoch [54/100] Loss: 0.3305\n",
      "Epoch [54/100] Loss: 0.2312\n",
      "Epoch [54/100] Loss: 0.4165\n",
      "Epoch [54/100] Loss: 0.4568\n",
      "Epoch [54/100] Loss: 0.1547\n"
     ]
    },
    {
     "name": "stderr",
     "output_type": "stream",
     "text": [
      "654it [01:48,  6.01it/s]"
     ]
    },
    {
     "name": "stdout",
     "output_type": "stream",
     "text": [
      "Overall Acc: \t 0.584782139956\n",
      "Mean Acc : \t 0.474295932931\n",
      "FreqW Acc : \t 0.422570846634\n",
      "Mean IoU : \t 0.35265345897\n"
     ]
    },
    {
     "name": "stderr",
     "output_type": "stream",
     "text": [
      "\n"
     ]
    },
    {
     "name": "stdout",
     "output_type": "stream",
     "text": [
      "Epoch [55/100] Loss: 0.2768\n",
      "Epoch [55/100] Loss: 0.2778\n",
      "Epoch [55/100] Loss: 0.2841\n",
      "Epoch [55/100] Loss: 0.2196\n",
      "Epoch [55/100] Loss: 0.2990\n",
      "Epoch [55/100] Loss: 0.2873\n",
      "Epoch [55/100] Loss: 0.3873\n",
      "Epoch [55/100] Loss: 0.2741\n",
      "Epoch [55/100] Loss: 0.2085\n",
      "Epoch [55/100] Loss: 0.2189\n",
      "Epoch [55/100] Loss: 0.3650\n",
      "Epoch [55/100] Loss: 0.1988\n",
      "Epoch [55/100] Loss: 0.3924\n",
      "Epoch [55/100] Loss: 0.2485\n",
      "Epoch [55/100] Loss: 0.3046\n",
      "Epoch [55/100] Loss: 0.3836\n",
      "Epoch [55/100] Loss: 0.2472\n",
      "Epoch [55/100] Loss: 0.2081\n",
      "Epoch [55/100] Loss: 0.2031\n",
      "Epoch [55/100] Loss: 0.5681\n",
      "Epoch [55/100] Loss: 0.2961\n",
      "Epoch [55/100] Loss: 0.2711\n",
      "Epoch [55/100] Loss: 0.1617\n",
      "Epoch [55/100] Loss: 0.4090\n",
      "Epoch [55/100] Loss: 0.1708\n",
      "Epoch [55/100] Loss: 0.2394\n",
      "Epoch [55/100] Loss: 0.1533\n",
      "Epoch [55/100] Loss: 0.4388\n",
      "Epoch [55/100] Loss: 0.4919\n",
      "Epoch [55/100] Loss: 0.1928\n",
      "Epoch [55/100] Loss: 0.2637\n",
      "Epoch [55/100] Loss: 0.4413\n",
      "Epoch [55/100] Loss: 0.1752\n",
      "Epoch [55/100] Loss: 0.4715\n"
     ]
    }
   ],
   "source": [
    "best_iou = -100.0 \n",
    "for epoch in range(args.n_epoch):\n",
    "    model.train()\n",
    "    for i, (color_imgs, depth_imgs, label_imgs) in enumerate(trainloader):\n",
    "        images = Variable(color_imgs.cuda())\n",
    "        depth_images = Variable(depth_imgs.cuda())\n",
    "        labels = Variable(label_imgs.cuda())\n",
    "\n",
    "        optimizer.zero_grad()\n",
    "        outputs = model(images,depth_images)\n",
    "\n",
    "        loss = loss_fn(input=outputs, target=labels)\n",
    "\n",
    "        loss.backward()\n",
    "        optimizer.step()\n",
    "\n",
    "        if args.visdom:\n",
    "            vis.line(\n",
    "                X=torch.ones((1, 1)).cpu() * i,\n",
    "                Y=torch.Tensor([loss.data[0]]).unsqueeze(0).cpu(),\n",
    "                win=loss_window,\n",
    "                update='append')\n",
    "\n",
    "        if (i+1) % 20 == 0:\n",
    "            print(\"Epoch [%d/%d] Loss: %.4f\" % (epoch+1, args.n_epoch, loss.data[0]))\n",
    "\n",
    "    model.eval()\n",
    "    for i_val, (color_images_val, depth_images_val, label_images_val) in tqdm(enumerate(valloader)):\n",
    "        color_images_val = Variable(color_images_val.cuda(), volatile=True)\n",
    "        depth_images_val = Variable(depth_images_val.cuda(), volatile=True)\n",
    "        label_images_val = Variable(label_images_val.cuda(), volatile=True)\n",
    "\n",
    "        outputs = model(color_images_val, depth_images_val)\n",
    "        pred = outputs.data.max(1)[1].cpu().numpy()\n",
    "        gt = label_images_val.data.cpu().numpy()\n",
    "        running_metrics.update(gt, pred)\n",
    "\n",
    "    score, class_iou = running_metrics.get_scores()\n",
    "    for k, v in score.items():\n",
    "        print(k, v)\n",
    "    running_metrics.reset()\n",
    "\n",
    "    if score['Mean IoU : \\t'] >= best_iou:\n",
    "        best_iou = score['Mean IoU : \\t']\n",
    "        state = {'epoch': epoch+1,\n",
    "                 'model_state': model.state_dict(),\n",
    "                 'optimizer_state' : optimizer.state_dict(),}\n",
    "        torch.save(state, \"../model_weights/{}_{}_best_model.pkl\".format(args.arch, 'NYUDv2'))"
   ]
  },
  {
   "cell_type": "markdown",
   "metadata": {},
   "source": [
    "# Training.. fcn8s_rgbd_renet_maskedconv on NYUDv2"
   ]
  },
  {
   "cell_type": "code",
   "execution_count": null,
   "metadata": {},
   "outputs": [],
   "source": []
  }
 ],
 "metadata": {
  "kernelspec": {
   "display_name": "Python [conda env:pytorch]",
   "language": "python",
   "name": "conda-env-pytorch-py"
  },
  "language_info": {
   "codemirror_mode": {
    "name": "ipython",
    "version": 3
   },
   "file_extension": ".py",
   "mimetype": "text/x-python",
   "name": "python",
   "nbconvert_exporter": "python",
   "pygments_lexer": "ipython3",
   "version": "3.6.3"
  }
 },
 "nbformat": 4,
 "nbformat_minor": 2
}
