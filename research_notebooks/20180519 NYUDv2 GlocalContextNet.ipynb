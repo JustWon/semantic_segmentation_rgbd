{
 "cells": [
  {
   "cell_type": "code",
   "execution_count": 1,
   "metadata": {},
   "outputs": [
    {
     "name": "stdout",
     "output_type": "stream",
     "text": [
      "Epoch [1/50] Loss: 2.6956\n"
     ]
    },
    {
     "name": "stderr",
     "output_type": "stream",
     "text": [
      "131it [00:30,  4.33it/s]\n"
     ]
    },
    {
     "name": "stdout",
     "output_type": "stream",
     "text": [
      "Overall Acc: \t 0.0875332140752\n",
      "Mean Acc : \t 0.0743294312306\n",
      "FreqW Acc : \t 0.0453548542643\n",
      "Mean IoU : \t 0.028177576071\n",
      "Epoch [2/50] Loss: 2.6749\n"
     ]
    },
    {
     "name": "stderr",
     "output_type": "stream",
     "text": [
      "131it [00:30,  4.32it/s]\n"
     ]
    },
    {
     "name": "stdout",
     "output_type": "stream",
     "text": [
      "Overall Acc: \t 0.093746879181\n",
      "Mean Acc : \t 0.0772275813658\n",
      "FreqW Acc : \t 0.0480810512086\n",
      "Mean IoU : \t 0.0298717966006\n",
      "Epoch [3/50] Loss: 2.6304\n"
     ]
    },
    {
     "name": "stderr",
     "output_type": "stream",
     "text": [
      "131it [00:29,  4.41it/s]\n"
     ]
    },
    {
     "name": "stdout",
     "output_type": "stream",
     "text": [
      "Overall Acc: \t 0.0969221208827\n",
      "Mean Acc : \t 0.0781585611427\n",
      "FreqW Acc : \t 0.0484272368162\n",
      "Mean IoU : \t 0.0309220916876\n",
      "Epoch [4/50] Loss: 2.6054\n"
     ]
    },
    {
     "name": "stderr",
     "output_type": "stream",
     "text": [
      "131it [00:30,  4.29it/s]"
     ]
    },
    {
     "name": "stdout",
     "output_type": "stream",
     "text": [
      "Overall Acc: \t 0.104871483977\n",
      "Mean Acc : \t 0.0783862238413\n",
      "FreqW Acc : \t 0.0478792496672\n",
      "Mean IoU : \t 0.0308067545065\n"
     ]
    },
    {
     "name": "stderr",
     "output_type": "stream",
     "text": [
      "\n"
     ]
    },
    {
     "name": "stdout",
     "output_type": "stream",
     "text": [
      "Epoch [5/50] Loss: 2.6203\n"
     ]
    },
    {
     "name": "stderr",
     "output_type": "stream",
     "text": [
      "131it [00:30,  4.33it/s]\n"
     ]
    },
    {
     "name": "stdout",
     "output_type": "stream",
     "text": [
      "Overall Acc: \t 0.118827811425\n",
      "Mean Acc : \t 0.0818340354056\n",
      "FreqW Acc : \t 0.0499799496731\n",
      "Mean IoU : \t 0.0319881543849\n",
      "Epoch [6/50] Loss: 2.5762\n"
     ]
    },
    {
     "name": "stderr",
     "output_type": "stream",
     "text": [
      "131it [00:30,  4.32it/s]\n"
     ]
    },
    {
     "name": "stdout",
     "output_type": "stream",
     "text": [
      "Overall Acc: \t 0.131593588733\n",
      "Mean Acc : \t 0.0854553627849\n",
      "FreqW Acc : \t 0.0531082514204\n",
      "Mean IoU : \t 0.0332946977427\n",
      "Epoch [7/50] Loss: 2.5264\n"
     ]
    },
    {
     "name": "stderr",
     "output_type": "stream",
     "text": [
      "131it [00:30,  4.27it/s]\n"
     ]
    },
    {
     "name": "stdout",
     "output_type": "stream",
     "text": [
      "Overall Acc: \t 0.142050915639\n",
      "Mean Acc : \t 0.086734325257\n",
      "FreqW Acc : \t 0.0566232906335\n",
      "Mean IoU : \t 0.0341874617687\n",
      "Epoch [8/50] Loss: 2.5735\n"
     ]
    },
    {
     "name": "stderr",
     "output_type": "stream",
     "text": [
      "131it [00:30,  4.30it/s]\n"
     ]
    },
    {
     "name": "stdout",
     "output_type": "stream",
     "text": [
      "Overall Acc: \t 0.151382726889\n",
      "Mean Acc : \t 0.0880923742318\n",
      "FreqW Acc : \t 0.0622345579825\n",
      "Mean IoU : \t 0.035692068158\n",
      "Epoch [9/50] Loss: 2.5439\n"
     ]
    },
    {
     "name": "stderr",
     "output_type": "stream",
     "text": [
      "131it [00:30,  4.29it/s]\n"
     ]
    },
    {
     "name": "stdout",
     "output_type": "stream",
     "text": [
      "Overall Acc: \t 0.162753194484\n",
      "Mean Acc : \t 0.0895286299311\n",
      "FreqW Acc : \t 0.0707655516043\n",
      "Mean IoU : \t 0.0379171485702\n",
      "Epoch [10/50] Loss: 2.5311\n"
     ]
    },
    {
     "name": "stderr",
     "output_type": "stream",
     "text": [
      "131it [00:30,  4.29it/s]\n"
     ]
    },
    {
     "name": "stdout",
     "output_type": "stream",
     "text": [
      "Overall Acc: \t 0.179334265099\n",
      "Mean Acc : \t 0.0940801845391\n",
      "FreqW Acc : \t 0.0843561922255\n",
      "Mean IoU : \t 0.0421827469044\n",
      "Epoch [11/50] Loss: 2.4681\n"
     ]
    },
    {
     "name": "stderr",
     "output_type": "stream",
     "text": [
      "131it [00:29,  4.39it/s]\n"
     ]
    },
    {
     "name": "stdout",
     "output_type": "stream",
     "text": [
      "Overall Acc: \t 0.199642514415\n",
      "Mean Acc : \t 0.0989359332782\n",
      "FreqW Acc : \t 0.0996185280179\n",
      "Mean IoU : \t 0.0466868491664\n",
      "Epoch [12/50] Loss: 2.5570\n"
     ]
    },
    {
     "name": "stderr",
     "output_type": "stream",
     "text": [
      "131it [00:29,  4.42it/s]\n"
     ]
    },
    {
     "name": "stdout",
     "output_type": "stream",
     "text": [
      "Overall Acc: \t 0.227667966759\n",
      "Mean Acc : \t 0.105728746494\n",
      "FreqW Acc : \t 0.117014605082\n",
      "Mean IoU : \t 0.0518871997716\n",
      "Epoch [13/50] Loss: 2.5229\n"
     ]
    },
    {
     "name": "stderr",
     "output_type": "stream",
     "text": [
      "131it [00:30,  4.36it/s]\n"
     ]
    },
    {
     "name": "stdout",
     "output_type": "stream",
     "text": [
      "Overall Acc: \t 0.252748565518\n",
      "Mean Acc : \t 0.112625695025\n",
      "FreqW Acc : \t 0.131356231059\n",
      "Mean IoU : \t 0.0563393601621\n",
      "Epoch [14/50] Loss: 2.4511\n"
     ]
    },
    {
     "name": "stderr",
     "output_type": "stream",
     "text": [
      "131it [00:30,  4.35it/s]\n"
     ]
    },
    {
     "name": "stdout",
     "output_type": "stream",
     "text": [
      "Overall Acc: \t 0.277943449963\n",
      "Mean Acc : \t 0.117858928461\n",
      "FreqW Acc : \t 0.141675993885\n",
      "Mean IoU : \t 0.0591773367295\n",
      "Epoch [15/50] Loss: 2.4092\n"
     ]
    },
    {
     "name": "stderr",
     "output_type": "stream",
     "text": [
      "131it [00:30,  4.35it/s]\n"
     ]
    },
    {
     "name": "stdout",
     "output_type": "stream",
     "text": [
      "Overall Acc: \t 0.284830564913\n",
      "Mean Acc : \t 0.120907356312\n",
      "FreqW Acc : \t 0.147805855796\n",
      "Mean IoU : \t 0.0611344979468\n",
      "Epoch [16/50] Loss: 2.5392\n"
     ]
    },
    {
     "name": "stderr",
     "output_type": "stream",
     "text": [
      "131it [00:30,  4.34it/s]\n"
     ]
    },
    {
     "name": "stdout",
     "output_type": "stream",
     "text": [
      "Overall Acc: \t 0.303456652969\n",
      "Mean Acc : \t 0.123539684662\n",
      "FreqW Acc : \t 0.152075822597\n",
      "Mean IoU : \t 0.0618095720492\n",
      "Epoch [17/50] Loss: 2.4578\n"
     ]
    },
    {
     "name": "stderr",
     "output_type": "stream",
     "text": [
      "131it [00:30,  4.37it/s]\n"
     ]
    },
    {
     "name": "stdout",
     "output_type": "stream",
     "text": [
      "Overall Acc: \t 0.305588341576\n",
      "Mean Acc : \t 0.124207431583\n",
      "FreqW Acc : \t 0.153630062515\n",
      "Mean IoU : \t 0.0618997962552\n",
      "Epoch [18/50] Loss: 2.4185\n"
     ]
    },
    {
     "name": "stderr",
     "output_type": "stream",
     "text": [
      "131it [00:30,  4.34it/s]\n"
     ]
    },
    {
     "name": "stdout",
     "output_type": "stream",
     "text": [
      "Overall Acc: \t 0.314732734455\n",
      "Mean Acc : \t 0.125776160342\n",
      "FreqW Acc : \t 0.155882771208\n",
      "Mean IoU : \t 0.0622371691866\n",
      "Epoch [19/50] Loss: 2.2579\n"
     ]
    },
    {
     "name": "stderr",
     "output_type": "stream",
     "text": [
      "131it [00:30,  4.32it/s]"
     ]
    },
    {
     "name": "stdout",
     "output_type": "stream",
     "text": [
      "Overall Acc: \t 0.319591103028\n",
      "Mean Acc : \t 0.125856801716\n",
      "FreqW Acc : \t 0.155387249778\n",
      "Mean IoU : \t 0.0617471649196\n"
     ]
    },
    {
     "name": "stderr",
     "output_type": "stream",
     "text": [
      "\n"
     ]
    },
    {
     "name": "stdout",
     "output_type": "stream",
     "text": [
      "Epoch [20/50] Loss: 2.4176\n"
     ]
    },
    {
     "name": "stderr",
     "output_type": "stream",
     "text": [
      "131it [00:30,  4.33it/s]"
     ]
    },
    {
     "name": "stdout",
     "output_type": "stream",
     "text": [
      "Overall Acc: \t 0.323518188352\n",
      "Mean Acc : \t 0.125748648024\n",
      "FreqW Acc : \t 0.15466578079\n",
      "Mean IoU : \t 0.0613142338906\n"
     ]
    },
    {
     "name": "stderr",
     "output_type": "stream",
     "text": [
      "\n"
     ]
    },
    {
     "name": "stdout",
     "output_type": "stream",
     "text": [
      "Epoch [21/50] Loss: 2.3629\n"
     ]
    },
    {
     "name": "stderr",
     "output_type": "stream",
     "text": [
      "131it [00:29,  4.38it/s]"
     ]
    },
    {
     "name": "stdout",
     "output_type": "stream",
     "text": [
      "Overall Acc: \t 0.323785817246\n",
      "Mean Acc : \t 0.126703168875\n",
      "FreqW Acc : \t 0.156228424313\n",
      "Mean IoU : \t 0.0619302007781\n"
     ]
    },
    {
     "name": "stderr",
     "output_type": "stream",
     "text": [
      "\n"
     ]
    },
    {
     "name": "stdout",
     "output_type": "stream",
     "text": [
      "Epoch [22/50] Loss: 2.2933\n"
     ]
    },
    {
     "name": "stderr",
     "output_type": "stream",
     "text": [
      "131it [00:30,  4.32it/s]\n"
     ]
    },
    {
     "name": "stdout",
     "output_type": "stream",
     "text": [
      "Overall Acc: \t 0.322579737672\n",
      "Mean Acc : \t 0.127538785407\n",
      "FreqW Acc : \t 0.158998440977\n",
      "Mean IoU : \t 0.0628577032162\n",
      "Epoch [23/50] Loss: 2.3440\n"
     ]
    },
    {
     "name": "stderr",
     "output_type": "stream",
     "text": [
      "131it [00:30,  4.28it/s]"
     ]
    },
    {
     "name": "stdout",
     "output_type": "stream",
     "text": [
      "Overall Acc: \t 0.326217572351\n",
      "Mean Acc : \t 0.127306556202\n",
      "FreqW Acc : \t 0.158052787749\n",
      "Mean IoU : \t 0.0624867134887\n"
     ]
    },
    {
     "name": "stderr",
     "output_type": "stream",
     "text": [
      "\n"
     ]
    },
    {
     "name": "stdout",
     "output_type": "stream",
     "text": [
      "Epoch [24/50] Loss: 2.3060\n"
     ]
    },
    {
     "name": "stderr",
     "output_type": "stream",
     "text": [
      "131it [00:30,  4.36it/s]"
     ]
    },
    {
     "name": "stdout",
     "output_type": "stream",
     "text": [
      "Overall Acc: \t 0.327816058829\n",
      "Mean Acc : \t 0.127639731605\n",
      "FreqW Acc : \t 0.158354599104\n",
      "Mean IoU : \t 0.0624930468559\n"
     ]
    },
    {
     "name": "stderr",
     "output_type": "stream",
     "text": [
      "\n"
     ]
    },
    {
     "name": "stdout",
     "output_type": "stream",
     "text": [
      "Epoch [25/50] Loss: 2.3411\n"
     ]
    },
    {
     "name": "stderr",
     "output_type": "stream",
     "text": [
      "131it [00:30,  4.35it/s]\n"
     ]
    },
    {
     "name": "stdout",
     "output_type": "stream",
     "text": [
      "Overall Acc: \t 0.327895179305\n",
      "Mean Acc : \t 0.128336815583\n",
      "FreqW Acc : \t 0.160346237207\n",
      "Mean IoU : \t 0.0632202021546\n",
      "Epoch [26/50] Loss: 2.2207\n"
     ]
    },
    {
     "name": "stderr",
     "output_type": "stream",
     "text": [
      "131it [00:30,  4.31it/s]"
     ]
    },
    {
     "name": "stdout",
     "output_type": "stream",
     "text": [
      "Overall Acc: \t 0.329477519153\n",
      "Mean Acc : \t 0.12834086287\n",
      "FreqW Acc : \t 0.160570421847\n",
      "Mean IoU : \t 0.0631144861543\n"
     ]
    },
    {
     "name": "stderr",
     "output_type": "stream",
     "text": [
      "\n"
     ]
    },
    {
     "name": "stdout",
     "output_type": "stream",
     "text": [
      "Epoch [27/50] Loss: 2.2314\n"
     ]
    },
    {
     "name": "stderr",
     "output_type": "stream",
     "text": [
      "131it [00:30,  4.35it/s]"
     ]
    },
    {
     "name": "stdout",
     "output_type": "stream",
     "text": [
      "Overall Acc: \t 0.33012237891\n",
      "Mean Acc : \t 0.12807940358\n",
      "FreqW Acc : \t 0.160339183997\n",
      "Mean IoU : \t 0.062854754848\n"
     ]
    },
    {
     "name": "stderr",
     "output_type": "stream",
     "text": [
      "\n"
     ]
    },
    {
     "name": "stdout",
     "output_type": "stream",
     "text": [
      "Epoch [28/50] Loss: 2.3379\n"
     ]
    },
    {
     "name": "stderr",
     "output_type": "stream",
     "text": [
      "131it [00:30,  4.33it/s]\n"
     ]
    },
    {
     "name": "stdout",
     "output_type": "stream",
     "text": [
      "Overall Acc: \t 0.330726449016\n",
      "Mean Acc : \t 0.129144874599\n",
      "FreqW Acc : \t 0.16294691119\n",
      "Mean IoU : \t 0.0637163385424\n",
      "Epoch [29/50] Loss: 2.2567\n"
     ]
    },
    {
     "name": "stderr",
     "output_type": "stream",
     "text": [
      "131it [00:30,  4.31it/s]\n"
     ]
    },
    {
     "name": "stdout",
     "output_type": "stream",
     "text": [
      "Overall Acc: \t 0.330998652125\n",
      "Mean Acc : \t 0.129012385572\n",
      "FreqW Acc : \t 0.163400125448\n",
      "Mean IoU : \t 0.0640093412827\n",
      "Epoch [30/50] Loss: 2.3485\n"
     ]
    },
    {
     "name": "stderr",
     "output_type": "stream",
     "text": [
      "131it [00:29,  4.37it/s]"
     ]
    },
    {
     "name": "stdout",
     "output_type": "stream",
     "text": [
      "Overall Acc: \t 0.333870318274\n",
      "Mean Acc : \t 0.129026069759\n",
      "FreqW Acc : \t 0.162498758738\n",
      "Mean IoU : \t 0.0637460573614\n"
     ]
    },
    {
     "name": "stderr",
     "output_type": "stream",
     "text": [
      "\n"
     ]
    },
    {
     "name": "stdout",
     "output_type": "stream",
     "text": [
      "Epoch [31/50] Loss: 2.1027\n"
     ]
    },
    {
     "name": "stderr",
     "output_type": "stream",
     "text": [
      "131it [00:30,  4.36it/s]\n"
     ]
    },
    {
     "name": "stdout",
     "output_type": "stream",
     "text": [
      "Overall Acc: \t 0.334711585555\n",
      "Mean Acc : \t 0.129667939199\n",
      "FreqW Acc : \t 0.164636259318\n",
      "Mean IoU : \t 0.0646715618344\n",
      "Epoch [32/50] Loss: 2.2958\n"
     ]
    },
    {
     "name": "stderr",
     "output_type": "stream",
     "text": [
      "131it [00:29,  4.38it/s]\n"
     ]
    },
    {
     "name": "stdout",
     "output_type": "stream",
     "text": [
      "Overall Acc: \t 0.336586540759\n",
      "Mean Acc : \t 0.132203212664\n",
      "FreqW Acc : \t 0.17054207776\n",
      "Mean IoU : \t 0.0675250371269\n",
      "Epoch [33/50] Loss: 2.1674\n"
     ]
    },
    {
     "name": "stderr",
     "output_type": "stream",
     "text": [
      "131it [00:30,  4.35it/s]\n"
     ]
    },
    {
     "name": "stdout",
     "output_type": "stream",
     "text": [
      "Overall Acc: \t 0.339835537318\n",
      "Mean Acc : \t 0.135486656879\n",
      "FreqW Acc : \t 0.177113432169\n",
      "Mean IoU : \t 0.0709627236791\n",
      "Epoch [34/50] Loss: 2.1617\n"
     ]
    },
    {
     "name": "stderr",
     "output_type": "stream",
     "text": [
      "131it [00:30,  4.36it/s]\n"
     ]
    },
    {
     "name": "stdout",
     "output_type": "stream",
     "text": [
      "Overall Acc: \t 0.344930898995\n",
      "Mean Acc : \t 0.138036694887\n",
      "FreqW Acc : \t 0.179527802804\n",
      "Mean IoU : \t 0.072668203154\n",
      "Epoch [35/50] Loss: 1.9793\n"
     ]
    },
    {
     "name": "stderr",
     "output_type": "stream",
     "text": [
      "131it [00:30,  4.34it/s]\n"
     ]
    },
    {
     "name": "stdout",
     "output_type": "stream",
     "text": [
      "Overall Acc: \t 0.350063088327\n",
      "Mean Acc : \t 0.144962357989\n",
      "FreqW Acc : \t 0.191373943035\n",
      "Mean IoU : \t 0.0785367450125\n",
      "Epoch [36/50] Loss: 2.1696\n"
     ]
    },
    {
     "name": "stderr",
     "output_type": "stream",
     "text": [
      "131it [00:30,  4.33it/s]\n"
     ]
    },
    {
     "name": "stdout",
     "output_type": "stream",
     "text": [
      "Overall Acc: \t 0.356587237592\n",
      "Mean Acc : \t 0.149528173361\n",
      "FreqW Acc : \t 0.195361664925\n",
      "Mean IoU : \t 0.0809531102364\n",
      "Epoch [37/50] Loss: 2.0389\n"
     ]
    },
    {
     "name": "stderr",
     "output_type": "stream",
     "text": [
      "131it [00:29,  4.39it/s]\n"
     ]
    },
    {
     "name": "stdout",
     "output_type": "stream",
     "text": [
      "Overall Acc: \t 0.364821894312\n",
      "Mean Acc : \t 0.153810708718\n",
      "FreqW Acc : \t 0.1990581437\n",
      "Mean IoU : \t 0.0832899486488\n",
      "Epoch [38/50] Loss: 2.1021\n"
     ]
    },
    {
     "name": "stderr",
     "output_type": "stream",
     "text": [
      "131it [00:29,  4.38it/s]\n"
     ]
    },
    {
     "name": "stdout",
     "output_type": "stream",
     "text": [
      "Overall Acc: \t 0.368367707139\n",
      "Mean Acc : \t 0.157450917667\n",
      "FreqW Acc : \t 0.203508210727\n",
      "Mean IoU : \t 0.0853733846154\n",
      "Epoch [39/50] Loss: 2.1151\n"
     ]
    },
    {
     "name": "stderr",
     "output_type": "stream",
     "text": [
      "131it [00:30,  4.34it/s]\n"
     ]
    },
    {
     "name": "stdout",
     "output_type": "stream",
     "text": [
      "Overall Acc: \t 0.37215174746\n",
      "Mean Acc : \t 0.159268804451\n",
      "FreqW Acc : \t 0.205396531537\n",
      "Mean IoU : \t 0.0864244741197\n",
      "Epoch [40/50] Loss: 2.0712\n"
     ]
    },
    {
     "name": "stderr",
     "output_type": "stream",
     "text": [
      "131it [00:30,  4.36it/s]\n"
     ]
    },
    {
     "name": "stdout",
     "output_type": "stream",
     "text": [
      "Overall Acc: \t 0.376757464083\n",
      "Mean Acc : \t 0.162721089586\n",
      "FreqW Acc : \t 0.207452933591\n",
      "Mean IoU : \t 0.0873226956033\n",
      "Epoch [41/50] Loss: 1.9987\n"
     ]
    },
    {
     "name": "stderr",
     "output_type": "stream",
     "text": [
      "131it [00:30,  4.30it/s]\n"
     ]
    },
    {
     "name": "stdout",
     "output_type": "stream",
     "text": [
      "Overall Acc: \t 0.375896436592\n",
      "Mean Acc : \t 0.164885708688\n",
      "FreqW Acc : \t 0.213450345623\n",
      "Mean IoU : \t 0.0902068083106\n",
      "Epoch [42/50] Loss: 1.9187\n"
     ]
    },
    {
     "name": "stderr",
     "output_type": "stream",
     "text": [
      "131it [00:30,  4.35it/s]\n"
     ]
    },
    {
     "name": "stdout",
     "output_type": "stream",
     "text": [
      "Overall Acc: \t 0.38261112007\n",
      "Mean Acc : \t 0.167906208593\n",
      "FreqW Acc : \t 0.214307480654\n",
      "Mean IoU : \t 0.0910721103926\n",
      "Epoch [43/50] Loss: 1.9624\n"
     ]
    },
    {
     "name": "stderr",
     "output_type": "stream",
     "text": [
      "131it [00:30,  4.27it/s]"
     ]
    },
    {
     "name": "stdout",
     "output_type": "stream",
     "text": [
      "Overall Acc: \t 0.384429532206\n",
      "Mean Acc : \t 0.16739860476\n",
      "FreqW Acc : \t 0.212896974945\n",
      "Mean IoU : \t 0.0901565018987\n"
     ]
    },
    {
     "name": "stderr",
     "output_type": "stream",
     "text": [
      "\n"
     ]
    },
    {
     "name": "stdout",
     "output_type": "stream",
     "text": [
      "Epoch [44/50] Loss: 2.1833\n"
     ]
    },
    {
     "name": "stderr",
     "output_type": "stream",
     "text": [
      "131it [00:30,  4.36it/s]\n"
     ]
    },
    {
     "name": "stdout",
     "output_type": "stream",
     "text": [
      "Overall Acc: \t 0.38358855859\n",
      "Mean Acc : \t 0.168692372002\n",
      "FreqW Acc : \t 0.217066218427\n",
      "Mean IoU : \t 0.0916124769848\n",
      "Epoch [45/50] Loss: 2.2489\n"
     ]
    },
    {
     "name": "stderr",
     "output_type": "stream",
     "text": [
      "131it [00:30,  4.33it/s]"
     ]
    },
    {
     "name": "stdout",
     "output_type": "stream",
     "text": [
      "Overall Acc: \t 0.386857205857\n",
      "Mean Acc : \t 0.169241473406\n",
      "FreqW Acc : \t 0.216413519351\n",
      "Mean IoU : \t 0.0914285725628\n"
     ]
    },
    {
     "name": "stderr",
     "output_type": "stream",
     "text": [
      "\n"
     ]
    },
    {
     "name": "stdout",
     "output_type": "stream",
     "text": [
      "Epoch [46/50] Loss: 2.1266\n"
     ]
    },
    {
     "name": "stderr",
     "output_type": "stream",
     "text": [
      "131it [00:30,  4.33it/s]\n"
     ]
    },
    {
     "name": "stdout",
     "output_type": "stream",
     "text": [
      "Overall Acc: \t 0.390650230353\n",
      "Mean Acc : \t 0.172085789093\n",
      "FreqW Acc : \t 0.220234640303\n",
      "Mean IoU : \t 0.0938830476441\n",
      "Epoch [47/50] Loss: 2.0488\n"
     ]
    },
    {
     "name": "stderr",
     "output_type": "stream",
     "text": [
      "131it [00:30,  4.35it/s]"
     ]
    },
    {
     "name": "stdout",
     "output_type": "stream",
     "text": [
      "Overall Acc: \t 0.392137278208\n",
      "Mean Acc : \t 0.172890366598\n",
      "FreqW Acc : \t 0.220134619043\n",
      "Mean IoU : \t 0.0937725376485\n"
     ]
    },
    {
     "name": "stderr",
     "output_type": "stream",
     "text": [
      "\n"
     ]
    },
    {
     "name": "stdout",
     "output_type": "stream",
     "text": [
      "Epoch [48/50] Loss: 2.1456\n"
     ]
    },
    {
     "name": "stderr",
     "output_type": "stream",
     "text": [
      "131it [00:30,  4.37it/s]"
     ]
    },
    {
     "name": "stdout",
     "output_type": "stream",
     "text": [
      "Overall Acc: \t 0.392931260353\n",
      "Mean Acc : \t 0.170067449342\n",
      "FreqW Acc : \t 0.215403798097\n",
      "Mean IoU : \t 0.0921144789015\n"
     ]
    },
    {
     "name": "stderr",
     "output_type": "stream",
     "text": [
      "\n"
     ]
    },
    {
     "name": "stdout",
     "output_type": "stream",
     "text": [
      "Epoch [49/50] Loss: 1.9641\n"
     ]
    },
    {
     "name": "stderr",
     "output_type": "stream",
     "text": [
      "131it [00:30,  4.31it/s]\n"
     ]
    },
    {
     "name": "stdout",
     "output_type": "stream",
     "text": [
      "Overall Acc: \t 0.393227862592\n",
      "Mean Acc : \t 0.17337500696\n",
      "FreqW Acc : \t 0.224603914482\n",
      "Mean IoU : \t 0.0955530081579\n",
      "Epoch [50/50] Loss: 1.8037\n"
     ]
    },
    {
     "name": "stderr",
     "output_type": "stream",
     "text": [
      "131it [00:30,  4.30it/s]\n"
     ]
    },
    {
     "name": "stdout",
     "output_type": "stream",
     "text": [
      "Overall Acc: \t 0.396542346577\n",
      "Mean Acc : \t 0.175464056114\n",
      "FreqW Acc : \t 0.225002162334\n",
      "Mean IoU : \t 0.0961466607985\n"
     ]
    }
   ],
   "source": [
    "from utils import *\n",
    "\n",
    "arg_str = '--gpu_idx 0 ' \\\n",
    "          '--arch GlocalContextNet ' \\\n",
    "          '--dataset NYUDv2 ' \\\n",
    "          '--batch_size 5 ' \\\n",
    "          '--n_epoch 50 ' \\\n",
    "          '--visdom'\n",
    "\n",
    "trainer = trainer(arg_str)\n",
    "trainer.model_init()\n",
    "trainer.training()"
   ]
  },
  {
   "cell_type": "code",
   "execution_count": null,
   "metadata": {},
   "outputs": [],
   "source": []
  }
 ],
 "metadata": {
  "kernelspec": {
   "display_name": "Python [conda env:pytorch]",
   "language": "python",
   "name": "conda-env-pytorch-py"
  },
  "language_info": {
   "codemirror_mode": {
    "name": "ipython",
    "version": 3
   },
   "file_extension": ".py",
   "mimetype": "text/x-python",
   "name": "python",
   "nbconvert_exporter": "python",
   "pygments_lexer": "ipython3",
   "version": "3.6.3"
  }
 },
 "nbformat": 4,
 "nbformat_minor": 2
}
