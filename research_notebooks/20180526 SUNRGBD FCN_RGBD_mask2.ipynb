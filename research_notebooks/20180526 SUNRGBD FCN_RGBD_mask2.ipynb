{
 "cells": [
  {
   "cell_type": "markdown",
   "metadata": {},
   "source": [
    "## 2018년 05월 21일 22시 00분 37초에 추가 ##\n",
    "- Training FCN_RGBD on SUNRGBD"
   ]
  },
  {
   "cell_type": "code",
   "execution_count": 1,
   "metadata": {},
   "outputs": [
    {
     "name": "stderr",
     "output_type": "stream",
     "text": [
      "/home/dongwonshin/.conda/envs/pytorch/lib/python3.6/site-packages/torch/nn/functional.py:1462: UserWarning: nn.functional.upsample_bilinear is deprecated. Use nn.functional.upsample instead.\n",
      "  warnings.warn(\"nn.functional.upsample_bilinear is deprecated. Use nn.functional.upsample instead.\")\n"
     ]
    },
    {
     "name": "stdout",
     "output_type": "stream",
     "text": [
      "Epoch [1/50] Loss: 2.0224\n",
      "Epoch [1/50] Loss: 1.6695\n",
      "Epoch [1/50] Loss: 2.5173\n",
      "Epoch [1/50] Loss: 1.6759\n",
      "Epoch [1/50] Loss: 2.0058\n",
      "Epoch [1/50] Loss: 2.1634\n",
      "Epoch [1/50] Loss: 1.6820\n",
      "Epoch [1/50] Loss: 1.7688\n",
      "Epoch [1/50] Loss: 1.6103\n",
      "Epoch [1/50] Loss: 2.1233\n",
      "Epoch [1/50] Loss: 2.1706\n",
      "Epoch [1/50] Loss: 1.7902\n",
      "Epoch [1/50] Loss: 2.2985\n",
      "Epoch [1/50] Loss: 1.5574\n",
      "Epoch [1/50] Loss: 1.4399\n",
      "Epoch [1/50] Loss: 1.3997\n",
      "Epoch [1/50] Loss: 1.3717\n"
     ]
    },
    {
     "name": "stderr",
     "output_type": "stream",
     "text": [
      "1683it [09:13,  3.04it/s]\n"
     ]
    },
    {
     "name": "stdout",
     "output_type": "stream",
     "text": [
      "Overall Acc: \t 0.501034165955\n",
      "Mean Acc : \t 0.0948364115179\n",
      "FreqW Acc : \t 0.308304231149\n",
      "Mean IoU : \t 0.0651789061626\n",
      "Epoch [2/50] Loss: 1.4157\n",
      "Epoch [2/50] Loss: 1.6845\n",
      "Epoch [2/50] Loss: 1.3480\n",
      "Epoch [2/50] Loss: 1.4527\n",
      "Epoch [2/50] Loss: 1.6203\n",
      "Epoch [2/50] Loss: 1.4477\n",
      "Epoch [2/50] Loss: 1.3558\n",
      "Epoch [2/50] Loss: 1.4648\n",
      "Epoch [2/50] Loss: 1.5723\n",
      "Epoch [2/50] Loss: 1.5313\n",
      "Epoch [2/50] Loss: 1.4525\n",
      "Epoch [2/50] Loss: 1.3144\n",
      "Epoch [2/50] Loss: 1.9865\n",
      "Epoch [2/50] Loss: 2.2412\n",
      "Epoch [2/50] Loss: 1.2342\n",
      "Epoch [2/50] Loss: 1.7026\n",
      "Epoch [2/50] Loss: 1.4927\n"
     ]
    },
    {
     "name": "stderr",
     "output_type": "stream",
     "text": [
      "1683it [09:13,  3.04it/s]\n"
     ]
    },
    {
     "name": "stdout",
     "output_type": "stream",
     "text": [
      "Overall Acc: \t 0.523837023472\n",
      "Mean Acc : \t 0.123194155472\n",
      "FreqW Acc : \t 0.345339841965\n",
      "Mean IoU : \t 0.0879109588509\n",
      "Epoch [3/50] Loss: 1.6566\n",
      "Epoch [3/50] Loss: 1.2260\n",
      "Epoch [3/50] Loss: 1.1807\n",
      "Epoch [3/50] Loss: 1.2937\n",
      "Epoch [3/50] Loss: 1.8131\n",
      "Epoch [3/50] Loss: 1.4012\n",
      "Epoch [3/50] Loss: 1.3805\n",
      "Epoch [3/50] Loss: 0.7885\n",
      "Epoch [3/50] Loss: 1.5653\n",
      "Epoch [3/50] Loss: 1.1554\n",
      "Epoch [3/50] Loss: 1.1667\n",
      "Epoch [3/50] Loss: 1.5483\n",
      "Epoch [3/50] Loss: 1.2449\n",
      "Epoch [3/50] Loss: 1.2210\n",
      "Epoch [3/50] Loss: 1.5707\n",
      "Epoch [3/50] Loss: 1.5490\n",
      "Epoch [3/50] Loss: 1.9073\n"
     ]
    },
    {
     "name": "stderr",
     "output_type": "stream",
     "text": [
      "1683it [09:16,  3.03it/s]\n"
     ]
    },
    {
     "name": "stdout",
     "output_type": "stream",
     "text": [
      "Overall Acc: \t 0.543336416401\n",
      "Mean Acc : \t 0.151519188359\n",
      "FreqW Acc : \t 0.368283379501\n",
      "Mean IoU : \t 0.11157517536\n",
      "Epoch [4/50] Loss: 1.1442\n",
      "Epoch [4/50] Loss: 1.6139\n",
      "Epoch [4/50] Loss: 1.2761\n",
      "Epoch [4/50] Loss: 1.3646\n",
      "Epoch [4/50] Loss: 1.7524\n",
      "Epoch [4/50] Loss: 1.2254\n",
      "Epoch [4/50] Loss: 1.2554\n",
      "Epoch [4/50] Loss: 1.6764\n",
      "Epoch [4/50] Loss: 1.1099\n",
      "Epoch [4/50] Loss: 1.3365\n",
      "Epoch [4/50] Loss: 1.8225\n",
      "Epoch [4/50] Loss: 0.9975\n",
      "Epoch [4/50] Loss: 1.6097\n",
      "Epoch [4/50] Loss: 1.3034\n",
      "Epoch [4/50] Loss: 1.1274\n",
      "Epoch [4/50] Loss: 0.9362\n",
      "Epoch [4/50] Loss: 1.8305\n"
     ]
    },
    {
     "name": "stderr",
     "output_type": "stream",
     "text": [
      "1683it [09:12,  3.04it/s]\n"
     ]
    },
    {
     "name": "stdout",
     "output_type": "stream",
     "text": [
      "Overall Acc: \t 0.553379001669\n",
      "Mean Acc : \t 0.173326737812\n",
      "FreqW Acc : \t 0.380533600652\n",
      "Mean IoU : \t 0.126864392951\n",
      "Epoch [5/50] Loss: 1.4520\n",
      "Epoch [5/50] Loss: 1.0025\n",
      "Epoch [5/50] Loss: 1.7466\n",
      "Epoch [5/50] Loss: 1.4658\n",
      "Epoch [5/50] Loss: 1.3771\n",
      "Epoch [5/50] Loss: 2.0104\n",
      "Epoch [5/50] Loss: 1.9189\n",
      "Epoch [5/50] Loss: 0.9990\n",
      "Epoch [5/50] Loss: 1.2223\n",
      "Epoch [5/50] Loss: 1.5942\n",
      "Epoch [5/50] Loss: 1.3790\n",
      "Epoch [5/50] Loss: 1.4116\n",
      "Epoch [5/50] Loss: 1.7567\n",
      "Epoch [5/50] Loss: 1.0356\n",
      "Epoch [5/50] Loss: 1.5180\n",
      "Epoch [5/50] Loss: 1.5004\n",
      "Epoch [5/50] Loss: 1.0399\n"
     ]
    },
    {
     "name": "stderr",
     "output_type": "stream",
     "text": [
      "1683it [09:14,  3.04it/s]\n"
     ]
    },
    {
     "name": "stdout",
     "output_type": "stream",
     "text": [
      "Overall Acc: \t 0.556783681381\n",
      "Mean Acc : \t 0.175476986747\n",
      "FreqW Acc : \t 0.378527025251\n",
      "Mean IoU : \t 0.130918154619\n",
      "Epoch [6/50] Loss: 1.5976\n",
      "Epoch [6/50] Loss: 1.1429\n",
      "Epoch [6/50] Loss: 1.9077\n",
      "Epoch [6/50] Loss: 1.1188\n",
      "Epoch [6/50] Loss: 1.2025\n",
      "Epoch [6/50] Loss: 1.5858\n",
      "Epoch [6/50] Loss: 1.4545\n",
      "Epoch [6/50] Loss: 1.1603\n",
      "Epoch [6/50] Loss: 1.3520\n",
      "Epoch [6/50] Loss: 1.7081\n",
      "Epoch [6/50] Loss: 1.1794\n",
      "Epoch [6/50] Loss: 1.5037\n",
      "Epoch [6/50] Loss: 1.0734\n",
      "Epoch [6/50] Loss: 1.2189\n",
      "Epoch [6/50] Loss: 1.7046\n",
      "Epoch [6/50] Loss: 1.0831\n",
      "Epoch [6/50] Loss: 1.1379\n"
     ]
    },
    {
     "name": "stderr",
     "output_type": "stream",
     "text": [
      "1683it [09:15,  3.03it/s]\n"
     ]
    },
    {
     "name": "stdout",
     "output_type": "stream",
     "text": [
      "Overall Acc: \t 0.564391362435\n",
      "Mean Acc : \t 0.195646857055\n",
      "FreqW Acc : \t 0.387804499802\n",
      "Mean IoU : \t 0.143806342988\n",
      "Epoch [7/50] Loss: 1.8630\n",
      "Epoch [7/50] Loss: 1.1903\n",
      "Epoch [7/50] Loss: 1.2070\n",
      "Epoch [7/50] Loss: 1.4278\n",
      "Epoch [7/50] Loss: 0.8210\n",
      "Epoch [7/50] Loss: 1.0429\n",
      "Epoch [7/50] Loss: 1.0688\n",
      "Epoch [7/50] Loss: 1.2969\n",
      "Epoch [7/50] Loss: 1.5433\n",
      "Epoch [7/50] Loss: 1.0380\n",
      "Epoch [7/50] Loss: 0.8415\n",
      "Epoch [7/50] Loss: 1.2132\n",
      "Epoch [7/50] Loss: 1.4238\n",
      "Epoch [7/50] Loss: 1.3903\n",
      "Epoch [7/50] Loss: 1.0562\n",
      "Epoch [7/50] Loss: 1.4671\n",
      "Epoch [7/50] Loss: 0.9857\n"
     ]
    },
    {
     "name": "stderr",
     "output_type": "stream",
     "text": [
      "1683it [09:15,  3.03it/s]\n"
     ]
    },
    {
     "name": "stdout",
     "output_type": "stream",
     "text": [
      "Overall Acc: \t 0.571841728405\n",
      "Mean Acc : \t 0.203610981845\n",
      "FreqW Acc : \t 0.399209162918\n",
      "Mean IoU : \t 0.147836196908\n",
      "Epoch [8/50] Loss: 1.5012\n",
      "Epoch [8/50] Loss: 1.0462\n",
      "Epoch [8/50] Loss: 1.2288\n",
      "Epoch [8/50] Loss: 1.3865\n",
      "Epoch [8/50] Loss: 1.2005\n",
      "Epoch [8/50] Loss: 1.1629\n",
      "Epoch [8/50] Loss: 1.3777\n",
      "Epoch [8/50] Loss: 1.1323\n",
      "Epoch [8/50] Loss: 1.5883\n",
      "Epoch [8/50] Loss: 1.3513\n",
      "Epoch [8/50] Loss: 1.0311\n",
      "Epoch [8/50] Loss: 1.2770\n",
      "Epoch [8/50] Loss: 1.1569\n",
      "Epoch [8/50] Loss: 1.2281\n",
      "Epoch [8/50] Loss: 1.1319\n",
      "Epoch [8/50] Loss: 1.4557\n",
      "Epoch [8/50] Loss: 1.3159\n"
     ]
    },
    {
     "name": "stderr",
     "output_type": "stream",
     "text": [
      "1683it [09:13,  3.04it/s]\n"
     ]
    },
    {
     "name": "stdout",
     "output_type": "stream",
     "text": [
      "Overall Acc: \t 0.569875858514\n",
      "Mean Acc : \t 0.209546499815\n",
      "FreqW Acc : \t 0.393638491102\n",
      "Mean IoU : \t 0.152971102187\n",
      "Epoch [9/50] Loss: 1.3960\n",
      "Epoch [9/50] Loss: 1.0749\n",
      "Epoch [9/50] Loss: 0.8423\n",
      "Epoch [9/50] Loss: 1.3916\n",
      "Epoch [9/50] Loss: 1.4423\n",
      "Epoch [9/50] Loss: 1.0550\n",
      "Epoch [9/50] Loss: 1.3163\n",
      "Epoch [9/50] Loss: 1.3319\n",
      "Epoch [9/50] Loss: 1.0466\n",
      "Epoch [9/50] Loss: 1.3296\n",
      "Epoch [9/50] Loss: 1.5530\n",
      "Epoch [9/50] Loss: 1.0131\n",
      "Epoch [9/50] Loss: 1.1632\n",
      "Epoch [9/50] Loss: 1.9306\n",
      "Epoch [9/50] Loss: 0.8824\n",
      "Epoch [9/50] Loss: 1.1165\n",
      "Epoch [9/50] Loss: 1.2075\n"
     ]
    },
    {
     "name": "stderr",
     "output_type": "stream",
     "text": [
      "1683it [09:13,  3.04it/s]\n"
     ]
    },
    {
     "name": "stdout",
     "output_type": "stream",
     "text": [
      "Overall Acc: \t 0.571919892734\n",
      "Mean Acc : \t 0.211343285334\n",
      "FreqW Acc : \t 0.401005265871\n",
      "Mean IoU : \t 0.157233863711\n",
      "Epoch [10/50] Loss: 1.4187\n",
      "Epoch [10/50] Loss: 0.9745\n",
      "Epoch [10/50] Loss: 1.1149\n",
      "Epoch [10/50] Loss: 1.2010\n",
      "Epoch [10/50] Loss: 1.1930\n",
      "Epoch [10/50] Loss: 1.5860\n",
      "Epoch [10/50] Loss: 0.9214\n",
      "Epoch [10/50] Loss: 0.8640\n",
      "Epoch [10/50] Loss: 1.3677\n",
      "Epoch [10/50] Loss: 0.9528\n",
      "Epoch [10/50] Loss: 1.2862\n",
      "Epoch [10/50] Loss: 1.1579\n",
      "Epoch [10/50] Loss: 1.3970\n",
      "Epoch [10/50] Loss: 1.2202\n",
      "Epoch [10/50] Loss: 1.4861\n",
      "Epoch [10/50] Loss: 1.5716\n",
      "Epoch [10/50] Loss: 1.1121\n"
     ]
    },
    {
     "name": "stderr",
     "output_type": "stream",
     "text": [
      "1683it [09:12,  3.05it/s]\n"
     ]
    },
    {
     "name": "stdout",
     "output_type": "stream",
     "text": [
      "Overall Acc: \t 0.575068613396\n",
      "Mean Acc : \t 0.238103412673\n",
      "FreqW Acc : \t 0.41027232484\n",
      "Mean IoU : \t 0.171272864634\n",
      "Epoch [11/50] Loss: 0.8843\n",
      "Epoch [11/50] Loss: 1.0490\n",
      "Epoch [11/50] Loss: 1.4917\n",
      "Epoch [11/50] Loss: 1.3270\n",
      "Epoch [11/50] Loss: 1.0512\n",
      "Epoch [11/50] Loss: 1.3400\n",
      "Epoch [11/50] Loss: 1.5345\n",
      "Epoch [11/50] Loss: 1.0816\n",
      "Epoch [11/50] Loss: 1.4695\n",
      "Epoch [11/50] Loss: 1.1739\n",
      "Epoch [11/50] Loss: 1.1363\n",
      "Epoch [11/50] Loss: 0.8978\n",
      "Epoch [11/50] Loss: 0.8194\n",
      "Epoch [11/50] Loss: 1.4229\n",
      "Epoch [11/50] Loss: 0.9830\n",
      "Epoch [11/50] Loss: 0.9600\n",
      "Epoch [11/50] Loss: 1.6769\n"
     ]
    },
    {
     "name": "stderr",
     "output_type": "stream",
     "text": [
      "1683it [09:13,  3.04it/s]\n"
     ]
    },
    {
     "name": "stdout",
     "output_type": "stream",
     "text": [
      "Overall Acc: \t 0.578049150874\n",
      "Mean Acc : \t 0.24627264875\n",
      "FreqW Acc : \t 0.408697988695\n",
      "Mean IoU : \t 0.175906273477\n",
      "Epoch [12/50] Loss: 0.9065\n",
      "Epoch [12/50] Loss: 0.4922\n",
      "Epoch [12/50] Loss: 1.2483\n",
      "Epoch [12/50] Loss: 1.6250\n",
      "Epoch [12/50] Loss: 0.9581\n",
      "Epoch [12/50] Loss: 1.2744\n",
      "Epoch [12/50] Loss: 1.6637\n",
      "Epoch [12/50] Loss: 1.2449\n",
      "Epoch [12/50] Loss: 1.4480\n",
      "Epoch [12/50] Loss: 0.9530\n",
      "Epoch [12/50] Loss: 1.3224\n",
      "Epoch [12/50] Loss: 1.6318\n",
      "Epoch [12/50] Loss: 1.0530\n",
      "Epoch [12/50] Loss: 1.6990\n",
      "Epoch [12/50] Loss: 1.1740\n",
      "Epoch [12/50] Loss: 1.3795\n",
      "Epoch [12/50] Loss: 1.2196\n"
     ]
    },
    {
     "name": "stderr",
     "output_type": "stream",
     "text": [
      "1683it [09:14,  3.03it/s]"
     ]
    },
    {
     "name": "stdout",
     "output_type": "stream",
     "text": [
      "Overall Acc: \t 0.579466804741\n",
      "Mean Acc : \t 0.244960830849\n",
      "FreqW Acc : \t 0.40889312456\n",
      "Mean IoU : \t 0.174538666981\n"
     ]
    },
    {
     "name": "stderr",
     "output_type": "stream",
     "text": [
      "\n"
     ]
    },
    {
     "name": "stdout",
     "output_type": "stream",
     "text": [
      "Epoch [13/50] Loss: 1.2757\n",
      "Epoch [13/50] Loss: 0.9685\n",
      "Epoch [13/50] Loss: 1.2222\n",
      "Epoch [13/50] Loss: 1.0932\n",
      "Epoch [13/50] Loss: 0.8896\n",
      "Epoch [13/50] Loss: 1.3248\n",
      "Epoch [13/50] Loss: 0.8300\n",
      "Epoch [13/50] Loss: 1.0767\n",
      "Epoch [13/50] Loss: 0.9482\n",
      "Epoch [13/50] Loss: 0.8842\n",
      "Epoch [13/50] Loss: 0.9223\n",
      "Epoch [13/50] Loss: 1.3548\n",
      "Epoch [13/50] Loss: 1.1677\n",
      "Epoch [13/50] Loss: 1.3056\n",
      "Epoch [13/50] Loss: 1.2642\n",
      "Epoch [13/50] Loss: 1.1940\n",
      "Epoch [13/50] Loss: 0.6974\n"
     ]
    },
    {
     "name": "stderr",
     "output_type": "stream",
     "text": [
      "1683it [09:15,  3.03it/s]\n"
     ]
    },
    {
     "name": "stdout",
     "output_type": "stream",
     "text": [
      "Overall Acc: \t 0.581104741889\n",
      "Mean Acc : \t 0.241496623697\n",
      "FreqW Acc : \t 0.414074086174\n",
      "Mean IoU : \t 0.177866811264\n",
      "Epoch [14/50] Loss: 1.1763\n",
      "Epoch [14/50] Loss: 1.0013\n",
      "Epoch [14/50] Loss: 1.0192\n",
      "Epoch [14/50] Loss: 0.8325\n",
      "Epoch [14/50] Loss: 1.3719\n",
      "Epoch [14/50] Loss: 0.9798\n",
      "Epoch [14/50] Loss: 1.9169\n",
      "Epoch [14/50] Loss: 1.4315\n",
      "Epoch [14/50] Loss: 1.0499\n",
      "Epoch [14/50] Loss: 1.2794\n",
      "Epoch [14/50] Loss: 1.0014\n",
      "Epoch [14/50] Loss: 0.8483\n",
      "Epoch [14/50] Loss: 1.0806\n",
      "Epoch [14/50] Loss: 1.6965\n",
      "Epoch [14/50] Loss: 1.0742\n",
      "Epoch [14/50] Loss: 1.3019\n",
      "Epoch [14/50] Loss: 1.3057\n"
     ]
    },
    {
     "name": "stderr",
     "output_type": "stream",
     "text": [
      "1683it [09:14,  3.03it/s]\n"
     ]
    },
    {
     "name": "stdout",
     "output_type": "stream",
     "text": [
      "Overall Acc: \t 0.570171869069\n",
      "Mean Acc : \t 0.264622831232\n",
      "FreqW Acc : \t 0.40400570058\n",
      "Mean IoU : \t 0.184926213589\n",
      "Epoch [15/50] Loss: 0.8404\n",
      "Epoch [15/50] Loss: 1.1407\n",
      "Epoch [15/50] Loss: 1.0478\n",
      "Epoch [15/50] Loss: 1.0664\n",
      "Epoch [15/50] Loss: 0.9479\n",
      "Epoch [15/50] Loss: 0.9737\n",
      "Epoch [15/50] Loss: 0.9314\n",
      "Epoch [15/50] Loss: 1.2657\n",
      "Epoch [15/50] Loss: 1.1088\n",
      "Epoch [15/50] Loss: 1.0935\n",
      "Epoch [15/50] Loss: 1.2006\n",
      "Epoch [15/50] Loss: 1.1149\n",
      "Epoch [15/50] Loss: 1.6434\n",
      "Epoch [15/50] Loss: 1.1924\n",
      "Epoch [15/50] Loss: 1.0677\n",
      "Epoch [15/50] Loss: 1.2276\n",
      "Epoch [15/50] Loss: 1.6537\n"
     ]
    },
    {
     "name": "stderr",
     "output_type": "stream",
     "text": [
      "1683it [09:17,  3.02it/s]"
     ]
    },
    {
     "name": "stdout",
     "output_type": "stream",
     "text": [
      "Overall Acc: \t 0.573590530896\n",
      "Mean Acc : \t 0.263446303129\n",
      "FreqW Acc : \t 0.408000903631\n",
      "Mean IoU : \t 0.184720539591\n"
     ]
    },
    {
     "name": "stderr",
     "output_type": "stream",
     "text": [
      "\n"
     ]
    },
    {
     "name": "stdout",
     "output_type": "stream",
     "text": [
      "Epoch [16/50] Loss: 0.9895\n",
      "Epoch [16/50] Loss: 0.8897\n",
      "Epoch [16/50] Loss: 1.3213\n",
      "Epoch [16/50] Loss: 1.1029\n",
      "Epoch [16/50] Loss: 1.1808\n",
      "Epoch [16/50] Loss: 0.8335\n",
      "Epoch [16/50] Loss: 1.1835\n",
      "Epoch [16/50] Loss: 1.1062\n",
      "Epoch [16/50] Loss: 1.1557\n",
      "Epoch [16/50] Loss: 1.0010\n",
      "Epoch [16/50] Loss: 0.9707\n",
      "Epoch [16/50] Loss: 0.9870\n",
      "Epoch [16/50] Loss: 1.1413\n",
      "Epoch [16/50] Loss: 1.0510\n",
      "Epoch [16/50] Loss: 0.8148\n",
      "Epoch [16/50] Loss: 1.0019\n",
      "Epoch [16/50] Loss: 1.0628\n"
     ]
    },
    {
     "name": "stderr",
     "output_type": "stream",
     "text": [
      "1683it [09:14,  3.04it/s]\n"
     ]
    },
    {
     "name": "stdout",
     "output_type": "stream",
     "text": [
      "Overall Acc: \t 0.586389382102\n",
      "Mean Acc : \t 0.2587877233\n",
      "FreqW Acc : \t 0.418211871363\n",
      "Mean IoU : \t 0.188889827777\n",
      "Epoch [17/50] Loss: 0.9755\n",
      "Epoch [17/50] Loss: 0.9614\n",
      "Epoch [17/50] Loss: 1.0347\n",
      "Epoch [17/50] Loss: 0.6549\n",
      "Epoch [17/50] Loss: 1.3141\n",
      "Epoch [17/50] Loss: 0.7815\n",
      "Epoch [17/50] Loss: 1.1559\n",
      "Epoch [17/50] Loss: 1.0495\n",
      "Epoch [17/50] Loss: 1.0676\n",
      "Epoch [17/50] Loss: 0.9666\n",
      "Epoch [17/50] Loss: 0.9212\n",
      "Epoch [17/50] Loss: 1.0111\n",
      "Epoch [17/50] Loss: 1.3094\n",
      "Epoch [17/50] Loss: 1.1154\n",
      "Epoch [17/50] Loss: 1.2524\n",
      "Epoch [17/50] Loss: 1.4235\n",
      "Epoch [17/50] Loss: 1.2072\n"
     ]
    },
    {
     "name": "stderr",
     "output_type": "stream",
     "text": [
      "1683it [09:15,  3.03it/s]\n"
     ]
    },
    {
     "name": "stdout",
     "output_type": "stream",
     "text": [
      "Overall Acc: \t 0.579156081598\n",
      "Mean Acc : \t 0.273481948895\n",
      "FreqW Acc : \t 0.416204311793\n",
      "Mean IoU : \t 0.193812497147\n",
      "Epoch [18/50] Loss: 0.9136\n",
      "Epoch [18/50] Loss: 1.1086\n",
      "Epoch [18/50] Loss: 0.9725\n",
      "Epoch [18/50] Loss: 1.8260\n",
      "Epoch [18/50] Loss: 0.8328\n",
      "Epoch [18/50] Loss: 0.8017\n",
      "Epoch [18/50] Loss: 1.3225\n",
      "Epoch [18/50] Loss: 1.0370\n",
      "Epoch [18/50] Loss: 0.7237\n",
      "Epoch [18/50] Loss: 0.8541\n",
      "Epoch [18/50] Loss: 0.8541\n",
      "Epoch [18/50] Loss: 1.2076\n",
      "Epoch [18/50] Loss: 0.9812\n",
      "Epoch [18/50] Loss: 0.9991\n",
      "Epoch [18/50] Loss: 1.4400\n",
      "Epoch [18/50] Loss: 0.7463\n",
      "Epoch [18/50] Loss: 1.4541\n"
     ]
    },
    {
     "name": "stderr",
     "output_type": "stream",
     "text": [
      "1683it [09:16,  3.03it/s]"
     ]
    },
    {
     "name": "stdout",
     "output_type": "stream",
     "text": [
      "Overall Acc: \t 0.579466501721\n",
      "Mean Acc : \t 0.263166500755\n",
      "FreqW Acc : \t 0.418752090096\n",
      "Mean IoU : \t 0.189512960312\n"
     ]
    },
    {
     "name": "stderr",
     "output_type": "stream",
     "text": [
      "\n"
     ]
    },
    {
     "name": "stdout",
     "output_type": "stream",
     "text": [
      "Epoch [19/50] Loss: 0.8210\n",
      "Epoch [19/50] Loss: 0.7749\n",
      "Epoch [19/50] Loss: 0.7967\n",
      "Epoch [19/50] Loss: 1.4490\n",
      "Epoch [19/50] Loss: 0.9991\n",
      "Epoch [19/50] Loss: 0.9561\n",
      "Epoch [19/50] Loss: 1.2420\n",
      "Epoch [19/50] Loss: 1.2783\n",
      "Epoch [19/50] Loss: 0.8292\n",
      "Epoch [19/50] Loss: 1.0812\n",
      "Epoch [19/50] Loss: 1.1686\n",
      "Epoch [19/50] Loss: 0.8281\n",
      "Epoch [19/50] Loss: 1.1158\n",
      "Epoch [19/50] Loss: 0.9895\n",
      "Epoch [19/50] Loss: 1.0181\n",
      "Epoch [19/50] Loss: 0.5778\n",
      "Epoch [19/50] Loss: 1.3332\n"
     ]
    },
    {
     "name": "stderr",
     "output_type": "stream",
     "text": [
      "1683it [09:13,  3.04it/s]"
     ]
    },
    {
     "name": "stdout",
     "output_type": "stream",
     "text": [
      "Overall Acc: \t 0.57562045599\n",
      "Mean Acc : \t 0.26933234808\n",
      "FreqW Acc : \t 0.411066365535\n",
      "Mean IoU : \t 0.192996923634\n"
     ]
    },
    {
     "name": "stderr",
     "output_type": "stream",
     "text": [
      "\n"
     ]
    },
    {
     "name": "stdout",
     "output_type": "stream",
     "text": [
      "Epoch [20/50] Loss: 1.0991\n",
      "Epoch [20/50] Loss: 1.0768\n",
      "Epoch [20/50] Loss: 1.3761\n",
      "Epoch [20/50] Loss: 0.9615\n",
      "Epoch [20/50] Loss: 0.8338\n",
      "Epoch [20/50] Loss: 1.0056\n",
      "Epoch [20/50] Loss: 0.9183\n",
      "Epoch [20/50] Loss: 1.0628\n",
      "Epoch [20/50] Loss: 0.7571\n",
      "Epoch [20/50] Loss: 0.6548\n",
      "Epoch [20/50] Loss: 1.1820\n",
      "Epoch [20/50] Loss: 0.9117\n",
      "Epoch [20/50] Loss: 1.3547\n",
      "Epoch [20/50] Loss: 1.1387\n",
      "Epoch [20/50] Loss: 0.7666\n",
      "Epoch [20/50] Loss: 1.1271\n",
      "Epoch [20/50] Loss: 1.0450\n"
     ]
    },
    {
     "name": "stderr",
     "output_type": "stream",
     "text": [
      "1683it [09:15,  3.03it/s]"
     ]
    },
    {
     "name": "stdout",
     "output_type": "stream",
     "text": [
      "Overall Acc: \t 0.578254729304\n",
      "Mean Acc : \t 0.269593617419\n",
      "FreqW Acc : \t 0.411505171122\n",
      "Mean IoU : \t 0.19268259498\n"
     ]
    },
    {
     "name": "stderr",
     "output_type": "stream",
     "text": [
      "\n"
     ]
    },
    {
     "name": "stdout",
     "output_type": "stream",
     "text": [
      "Epoch [21/50] Loss: 1.1011\n",
      "Epoch [21/50] Loss: 0.9309\n",
      "Epoch [21/50] Loss: 0.8571\n",
      "Epoch [21/50] Loss: 1.3666\n",
      "Epoch [21/50] Loss: 0.6354\n",
      "Epoch [21/50] Loss: 1.0467\n",
      "Epoch [21/50] Loss: 0.7186\n",
      "Epoch [21/50] Loss: 1.0011\n",
      "Epoch [21/50] Loss: 0.7539\n",
      "Epoch [21/50] Loss: 0.9763\n",
      "Epoch [21/50] Loss: 1.0836\n",
      "Epoch [21/50] Loss: 1.1206\n",
      "Epoch [21/50] Loss: 1.0215\n",
      "Epoch [21/50] Loss: 1.1498\n",
      "Epoch [21/50] Loss: 0.7065\n",
      "Epoch [21/50] Loss: 0.8592\n",
      "Epoch [21/50] Loss: 1.1777\n"
     ]
    },
    {
     "name": "stderr",
     "output_type": "stream",
     "text": [
      "1683it [09:12,  3.04it/s]"
     ]
    },
    {
     "name": "stdout",
     "output_type": "stream",
     "text": [
      "Overall Acc: \t 0.573881296626\n",
      "Mean Acc : \t 0.266582700415\n",
      "FreqW Acc : \t 0.403343291048\n",
      "Mean IoU : \t 0.191239836444\n"
     ]
    },
    {
     "name": "stderr",
     "output_type": "stream",
     "text": [
      "\n"
     ]
    },
    {
     "name": "stdout",
     "output_type": "stream",
     "text": [
      "Epoch [22/50] Loss: 1.0534\n",
      "Epoch [22/50] Loss: 0.9983\n",
      "Epoch [22/50] Loss: 1.0512\n",
      "Epoch [22/50] Loss: 1.0741\n",
      "Epoch [22/50] Loss: 1.0342\n",
      "Epoch [22/50] Loss: 1.0273\n",
      "Epoch [22/50] Loss: 1.1151\n",
      "Epoch [22/50] Loss: 1.0761\n",
      "Epoch [22/50] Loss: 1.1963\n",
      "Epoch [22/50] Loss: 0.9291\n",
      "Epoch [22/50] Loss: 0.9276\n",
      "Epoch [22/50] Loss: 1.0570\n",
      "Epoch [22/50] Loss: 0.8201\n",
      "Epoch [22/50] Loss: 1.0211\n",
      "Epoch [22/50] Loss: 1.1033\n",
      "Epoch [22/50] Loss: 1.1845\n",
      "Epoch [22/50] Loss: 0.8191\n"
     ]
    },
    {
     "name": "stderr",
     "output_type": "stream",
     "text": [
      "1683it [09:10,  3.05it/s]\n"
     ]
    },
    {
     "name": "stdout",
     "output_type": "stream",
     "text": [
      "Overall Acc: \t 0.578762710721\n",
      "Mean Acc : \t 0.285647726621\n",
      "FreqW Acc : \t 0.41109790249\n",
      "Mean IoU : \t 0.201925430995\n",
      "Epoch [23/50] Loss: 0.6313\n",
      "Epoch [23/50] Loss: 1.1110\n",
      "Epoch [23/50] Loss: 1.0993\n",
      "Epoch [23/50] Loss: 0.7228\n",
      "Epoch [23/50] Loss: 0.7377\n",
      "Epoch [23/50] Loss: 1.0467\n",
      "Epoch [23/50] Loss: 0.7346\n",
      "Epoch [23/50] Loss: 0.6348\n",
      "Epoch [23/50] Loss: 0.8390\n",
      "Epoch [23/50] Loss: 1.6399\n",
      "Epoch [23/50] Loss: 0.8219\n",
      "Epoch [23/50] Loss: 1.0090\n",
      "Epoch [23/50] Loss: 0.6966\n",
      "Epoch [23/50] Loss: 1.2625\n",
      "Epoch [23/50] Loss: 1.1450\n",
      "Epoch [23/50] Loss: 0.8163\n",
      "Epoch [23/50] Loss: 0.9059\n"
     ]
    },
    {
     "name": "stderr",
     "output_type": "stream",
     "text": [
      "1683it [09:10,  3.06it/s]"
     ]
    },
    {
     "name": "stdout",
     "output_type": "stream",
     "text": [
      "Overall Acc: \t 0.579448098737\n",
      "Mean Acc : \t 0.266545709351\n",
      "FreqW Acc : \t 0.410503298349\n",
      "Mean IoU : \t 0.194914569572\n"
     ]
    },
    {
     "name": "stderr",
     "output_type": "stream",
     "text": [
      "\n"
     ]
    },
    {
     "name": "stdout",
     "output_type": "stream",
     "text": [
      "Epoch [24/50] Loss: 0.8694\n",
      "Epoch [24/50] Loss: 0.6236\n",
      "Epoch [24/50] Loss: 0.8391\n",
      "Epoch [24/50] Loss: 0.6114\n",
      "Epoch [24/50] Loss: 0.8228\n",
      "Epoch [24/50] Loss: 1.0201\n",
      "Epoch [24/50] Loss: 0.9499\n",
      "Epoch [24/50] Loss: 0.8155\n",
      "Epoch [24/50] Loss: 0.9522\n",
      "Epoch [24/50] Loss: 1.1574\n",
      "Epoch [24/50] Loss: 0.7706\n",
      "Epoch [24/50] Loss: 1.1761\n",
      "Epoch [24/50] Loss: 0.7917\n",
      "Epoch [24/50] Loss: 0.7299\n",
      "Epoch [24/50] Loss: 0.5683\n",
      "Epoch [24/50] Loss: 1.2225\n",
      "Epoch [24/50] Loss: 0.6691\n"
     ]
    },
    {
     "name": "stderr",
     "output_type": "stream",
     "text": [
      "1683it [09:12,  3.04it/s]"
     ]
    },
    {
     "name": "stdout",
     "output_type": "stream",
     "text": [
      "Overall Acc: \t 0.566972741998\n",
      "Mean Acc : \t 0.267441507545\n",
      "FreqW Acc : \t 0.405124017505\n",
      "Mean IoU : \t 0.1944879271\n"
     ]
    },
    {
     "name": "stderr",
     "output_type": "stream",
     "text": [
      "\n"
     ]
    },
    {
     "name": "stdout",
     "output_type": "stream",
     "text": [
      "Epoch [25/50] Loss: 0.7081\n",
      "Epoch [25/50] Loss: 0.9698\n",
      "Epoch [25/50] Loss: 1.0286\n",
      "Epoch [25/50] Loss: 0.8470\n",
      "Epoch [25/50] Loss: 0.9997\n",
      "Epoch [25/50] Loss: 1.1032\n",
      "Epoch [25/50] Loss: 0.7575\n",
      "Epoch [25/50] Loss: 0.8133\n",
      "Epoch [25/50] Loss: 1.0208\n",
      "Epoch [25/50] Loss: 1.2512\n",
      "Epoch [25/50] Loss: 1.7122\n",
      "Epoch [25/50] Loss: 0.7017\n",
      "Epoch [25/50] Loss: 0.9663\n",
      "Epoch [25/50] Loss: 0.7450\n",
      "Epoch [25/50] Loss: 1.2583\n",
      "Epoch [25/50] Loss: 1.3587\n",
      "Epoch [25/50] Loss: 0.9820\n"
     ]
    },
    {
     "name": "stderr",
     "output_type": "stream",
     "text": [
      "1683it [09:10,  3.06it/s]\n"
     ]
    },
    {
     "name": "stdout",
     "output_type": "stream",
     "text": [
      "Overall Acc: \t 0.572789372483\n",
      "Mean Acc : \t 0.287307592178\n",
      "FreqW Acc : \t 0.409761149438\n",
      "Mean IoU : \t 0.202248770503\n",
      "Epoch [26/50] Loss: 1.1493\n",
      "Epoch [26/50] Loss: 1.1003\n",
      "Epoch [26/50] Loss: 0.8371\n",
      "Epoch [26/50] Loss: 0.5622\n",
      "Epoch [26/50] Loss: 0.9604\n",
      "Epoch [26/50] Loss: 1.2289\n",
      "Epoch [26/50] Loss: 0.7643\n",
      "Epoch [26/50] Loss: 1.5184\n",
      "Epoch [26/50] Loss: 1.4055\n",
      "Epoch [26/50] Loss: 1.2477\n",
      "Epoch [26/50] Loss: 0.7929\n",
      "Epoch [26/50] Loss: 0.9981\n",
      "Epoch [26/50] Loss: 0.6931\n",
      "Epoch [26/50] Loss: 0.6123\n",
      "Epoch [26/50] Loss: 1.0301\n",
      "Epoch [26/50] Loss: 1.0761\n",
      "Epoch [26/50] Loss: 1.1839\n"
     ]
    },
    {
     "name": "stderr",
     "output_type": "stream",
     "text": [
      "1683it [09:11,  3.05it/s]"
     ]
    },
    {
     "name": "stdout",
     "output_type": "stream",
     "text": [
      "Overall Acc: \t 0.576732086748\n",
      "Mean Acc : \t 0.275369999329\n",
      "FreqW Acc : \t 0.406833362238\n",
      "Mean IoU : \t 0.198357148812\n"
     ]
    },
    {
     "name": "stderr",
     "output_type": "stream",
     "text": [
      "\n"
     ]
    },
    {
     "name": "stdout",
     "output_type": "stream",
     "text": [
      "Epoch [27/50] Loss: 0.9463\n",
      "Epoch [27/50] Loss: 1.5793\n",
      "Epoch [27/50] Loss: 0.9943\n",
      "Epoch [27/50] Loss: 1.1935\n",
      "Epoch [27/50] Loss: 1.0324\n",
      "Epoch [27/50] Loss: 1.3188\n",
      "Epoch [27/50] Loss: 0.9020\n",
      "Epoch [27/50] Loss: 0.9738\n",
      "Epoch [27/50] Loss: 0.7524\n",
      "Epoch [27/50] Loss: 0.7449\n",
      "Epoch [27/50] Loss: 1.1257\n",
      "Epoch [27/50] Loss: 0.9434\n",
      "Epoch [27/50] Loss: 1.0185\n",
      "Epoch [27/50] Loss: 1.0131\n",
      "Epoch [27/50] Loss: 0.6366\n",
      "Epoch [27/50] Loss: 0.8657\n",
      "Epoch [27/50] Loss: 1.1121\n"
     ]
    },
    {
     "name": "stderr",
     "output_type": "stream",
     "text": [
      "1683it [09:12,  3.05it/s]\n"
     ]
    },
    {
     "name": "stdout",
     "output_type": "stream",
     "text": [
      "Overall Acc: \t 0.565749982206\n",
      "Mean Acc : \t 0.29252851775\n",
      "FreqW Acc : \t 0.401317449628\n",
      "Mean IoU : \t 0.203233684132\n",
      "Epoch [28/50] Loss: 0.7799\n",
      "Epoch [28/50] Loss: 0.9170\n",
      "Epoch [28/50] Loss: 0.7807\n",
      "Epoch [28/50] Loss: 1.1569\n",
      "Epoch [28/50] Loss: 1.0687\n",
      "Epoch [28/50] Loss: 1.1736\n",
      "Epoch [28/50] Loss: 0.9008\n",
      "Epoch [28/50] Loss: 0.6672\n",
      "Epoch [28/50] Loss: 1.0455\n",
      "Epoch [28/50] Loss: 0.6669\n",
      "Epoch [28/50] Loss: 0.5806\n",
      "Epoch [28/50] Loss: 1.2014\n",
      "Epoch [28/50] Loss: 0.6587\n",
      "Epoch [28/50] Loss: 0.9314\n",
      "Epoch [28/50] Loss: 0.8666\n",
      "Epoch [28/50] Loss: 0.9070\n",
      "Epoch [28/50] Loss: 0.9960\n"
     ]
    },
    {
     "name": "stderr",
     "output_type": "stream",
     "text": [
      "1683it [09:12,  3.05it/s]"
     ]
    },
    {
     "name": "stdout",
     "output_type": "stream",
     "text": [
      "Overall Acc: \t 0.581644050415\n",
      "Mean Acc : \t 0.278773341683\n",
      "FreqW Acc : \t 0.418363424989\n",
      "Mean IoU : \t 0.202485900548\n"
     ]
    },
    {
     "name": "stderr",
     "output_type": "stream",
     "text": [
      "\n"
     ]
    },
    {
     "name": "stdout",
     "output_type": "stream",
     "text": [
      "Epoch [29/50] Loss: 0.6110\n",
      "Epoch [29/50] Loss: 1.0413\n",
      "Epoch [29/50] Loss: 0.8992\n",
      "Epoch [29/50] Loss: 0.8013\n",
      "Epoch [29/50] Loss: 0.9515\n",
      "Epoch [29/50] Loss: 0.7629\n",
      "Epoch [29/50] Loss: 0.9245\n",
      "Epoch [29/50] Loss: 0.3898\n",
      "Epoch [29/50] Loss: 0.9511\n",
      "Epoch [29/50] Loss: 1.6298\n",
      "Epoch [29/50] Loss: 1.0094\n",
      "Epoch [29/50] Loss: 0.7080\n",
      "Epoch [29/50] Loss: 0.9042\n",
      "Epoch [29/50] Loss: 0.6639\n",
      "Epoch [29/50] Loss: 0.9086\n",
      "Epoch [29/50] Loss: 0.8332\n",
      "Epoch [29/50] Loss: 0.5960\n"
     ]
    },
    {
     "name": "stderr",
     "output_type": "stream",
     "text": [
      "1683it [09:11,  3.05it/s]"
     ]
    },
    {
     "name": "stdout",
     "output_type": "stream",
     "text": [
      "Overall Acc: \t 0.576458242427\n",
      "Mean Acc : \t 0.274738606102\n",
      "FreqW Acc : \t 0.409775858926\n",
      "Mean IoU : \t 0.198855134307\n"
     ]
    },
    {
     "name": "stderr",
     "output_type": "stream",
     "text": [
      "\n"
     ]
    },
    {
     "name": "stdout",
     "output_type": "stream",
     "text": [
      "Epoch [30/50] Loss: 0.8064\n",
      "Epoch [30/50] Loss: 1.1405\n",
      "Epoch [30/50] Loss: 0.9476\n",
      "Epoch [30/50] Loss: 1.0382\n",
      "Epoch [30/50] Loss: 0.8638\n",
      "Epoch [30/50] Loss: 0.8110\n",
      "Epoch [30/50] Loss: 0.9299\n",
      "Epoch [30/50] Loss: 0.8966\n",
      "Epoch [30/50] Loss: 1.0031\n",
      "Epoch [30/50] Loss: 0.8417\n",
      "Epoch [30/50] Loss: 1.2065\n",
      "Epoch [30/50] Loss: 1.1795\n",
      "Epoch [30/50] Loss: 0.9455\n",
      "Epoch [30/50] Loss: 1.2643\n",
      "Epoch [30/50] Loss: 0.6415\n",
      "Epoch [30/50] Loss: 0.8107\n",
      "Epoch [30/50] Loss: 1.2548\n"
     ]
    },
    {
     "name": "stderr",
     "output_type": "stream",
     "text": [
      "1683it [09:13,  3.04it/s]\n"
     ]
    },
    {
     "name": "stdout",
     "output_type": "stream",
     "text": [
      "Overall Acc: \t 0.574221752477\n",
      "Mean Acc : \t 0.300365811328\n",
      "FreqW Acc : \t 0.415479178886\n",
      "Mean IoU : \t 0.20967382077\n",
      "Epoch [31/50] Loss: 0.7599\n",
      "Epoch [31/50] Loss: 0.8349\n",
      "Epoch [31/50] Loss: 0.9175\n",
      "Epoch [31/50] Loss: 0.7701\n",
      "Epoch [31/50] Loss: 0.8589\n",
      "Epoch [31/50] Loss: 0.9159\n",
      "Epoch [31/50] Loss: 0.9603\n",
      "Epoch [31/50] Loss: 0.8959\n",
      "Epoch [31/50] Loss: 1.0483\n",
      "Epoch [31/50] Loss: 0.7910\n",
      "Epoch [31/50] Loss: 0.8961\n",
      "Epoch [31/50] Loss: 0.7066\n",
      "Epoch [31/50] Loss: 0.6740\n",
      "Epoch [31/50] Loss: 0.6698\n",
      "Epoch [31/50] Loss: 1.1648\n",
      "Epoch [31/50] Loss: 0.9409\n",
      "Epoch [31/50] Loss: 0.8557\n"
     ]
    },
    {
     "name": "stderr",
     "output_type": "stream",
     "text": [
      "1683it [09:10,  3.05it/s]"
     ]
    },
    {
     "name": "stdout",
     "output_type": "stream",
     "text": [
      "Overall Acc: \t 0.572392613585\n",
      "Mean Acc : \t 0.281224717669\n",
      "FreqW Acc : \t 0.409749596205\n",
      "Mean IoU : \t 0.202849872959\n"
     ]
    },
    {
     "name": "stderr",
     "output_type": "stream",
     "text": [
      "\n"
     ]
    },
    {
     "name": "stdout",
     "output_type": "stream",
     "text": [
      "Epoch [32/50] Loss: 1.3316\n",
      "Epoch [32/50] Loss: 1.0831\n",
      "Epoch [32/50] Loss: 0.7044\n",
      "Epoch [32/50] Loss: 0.8858\n",
      "Epoch [32/50] Loss: 0.5229\n",
      "Epoch [32/50] Loss: 0.8044\n",
      "Epoch [32/50] Loss: 1.1320\n",
      "Epoch [32/50] Loss: 0.8570\n",
      "Epoch [32/50] Loss: 1.0163\n",
      "Epoch [32/50] Loss: 0.6435\n",
      "Epoch [32/50] Loss: 0.8102\n",
      "Epoch [32/50] Loss: 0.6449\n",
      "Epoch [32/50] Loss: 0.7110\n",
      "Epoch [32/50] Loss: 0.9183\n",
      "Epoch [32/50] Loss: 0.8992\n",
      "Epoch [32/50] Loss: 0.7542\n",
      "Epoch [32/50] Loss: 0.9160\n"
     ]
    },
    {
     "name": "stderr",
     "output_type": "stream",
     "text": [
      "1683it [09:10,  3.05it/s]"
     ]
    },
    {
     "name": "stdout",
     "output_type": "stream",
     "text": [
      "Overall Acc: \t 0.572444422266\n",
      "Mean Acc : \t 0.291189886932\n",
      "FreqW Acc : \t 0.407995905093\n",
      "Mean IoU : \t 0.206298087074\n"
     ]
    },
    {
     "name": "stderr",
     "output_type": "stream",
     "text": [
      "\n"
     ]
    },
    {
     "name": "stdout",
     "output_type": "stream",
     "text": [
      "Epoch [33/50] Loss: 0.9442\n",
      "Epoch [33/50] Loss: 1.0559\n",
      "Epoch [33/50] Loss: 0.8880\n",
      "Epoch [33/50] Loss: 0.7168\n",
      "Epoch [33/50] Loss: 0.7423\n",
      "Epoch [33/50] Loss: 1.1277\n",
      "Epoch [33/50] Loss: 1.0223\n",
      "Epoch [33/50] Loss: 0.8640\n",
      "Epoch [33/50] Loss: 0.7474\n",
      "Epoch [33/50] Loss: 0.8025\n",
      "Epoch [33/50] Loss: 1.0455\n",
      "Epoch [33/50] Loss: 1.1029\n",
      "Epoch [33/50] Loss: 0.7520\n",
      "Epoch [33/50] Loss: 0.6029\n",
      "Epoch [33/50] Loss: 1.0107\n",
      "Epoch [33/50] Loss: 0.8890\n",
      "Epoch [33/50] Loss: 0.7852\n"
     ]
    },
    {
     "name": "stderr",
     "output_type": "stream",
     "text": [
      "1683it [09:12,  3.05it/s]"
     ]
    },
    {
     "name": "stdout",
     "output_type": "stream",
     "text": [
      "Overall Acc: \t 0.570887994271\n",
      "Mean Acc : \t 0.295546169746\n",
      "FreqW Acc : \t 0.404203223231\n",
      "Mean IoU : \t 0.205838497868\n"
     ]
    },
    {
     "name": "stderr",
     "output_type": "stream",
     "text": [
      "\n"
     ]
    },
    {
     "name": "stdout",
     "output_type": "stream",
     "text": [
      "Epoch [34/50] Loss: 0.6729\n",
      "Epoch [34/50] Loss: 0.9486\n",
      "Epoch [34/50] Loss: 0.9909\n",
      "Epoch [34/50] Loss: 1.0412\n",
      "Epoch [34/50] Loss: 1.1414\n",
      "Epoch [34/50] Loss: 0.6628\n",
      "Epoch [34/50] Loss: 0.6309\n",
      "Epoch [34/50] Loss: 0.7735\n",
      "Epoch [34/50] Loss: 1.3762\n",
      "Epoch [34/50] Loss: 0.7617\n",
      "Epoch [34/50] Loss: 0.6081\n",
      "Epoch [34/50] Loss: 0.8668\n",
      "Epoch [34/50] Loss: 0.9732\n",
      "Epoch [34/50] Loss: 1.0437\n",
      "Epoch [34/50] Loss: 0.8776\n",
      "Epoch [34/50] Loss: 1.1782\n",
      "Epoch [34/50] Loss: 0.7689\n"
     ]
    },
    {
     "name": "stderr",
     "output_type": "stream",
     "text": [
      "1683it [09:11,  3.05it/s]"
     ]
    },
    {
     "name": "stdout",
     "output_type": "stream",
     "text": [
      "Overall Acc: \t 0.579801614748\n",
      "Mean Acc : \t 0.288968410029\n",
      "FreqW Acc : \t 0.415717241222\n",
      "Mean IoU : \t 0.207124395359\n"
     ]
    },
    {
     "name": "stderr",
     "output_type": "stream",
     "text": [
      "\n"
     ]
    },
    {
     "name": "stdout",
     "output_type": "stream",
     "text": [
      "Epoch [35/50] Loss: 0.7431\n",
      "Epoch [35/50] Loss: 0.8581\n",
      "Epoch [35/50] Loss: 0.6501\n",
      "Epoch [35/50] Loss: 0.9157\n",
      "Epoch [35/50] Loss: 0.8253\n",
      "Epoch [35/50] Loss: 0.8327\n",
      "Epoch [35/50] Loss: 1.1958\n",
      "Epoch [35/50] Loss: 0.8893\n",
      "Epoch [35/50] Loss: 0.7526\n",
      "Epoch [35/50] Loss: 0.5286\n",
      "Epoch [35/50] Loss: 0.4824\n",
      "Epoch [35/50] Loss: 0.5826\n",
      "Epoch [35/50] Loss: 1.0132\n",
      "Epoch [35/50] Loss: 0.9737\n",
      "Epoch [35/50] Loss: 0.8495\n",
      "Epoch [35/50] Loss: 0.8129\n",
      "Epoch [35/50] Loss: 1.0687\n"
     ]
    },
    {
     "name": "stderr",
     "output_type": "stream",
     "text": [
      "1683it [09:12,  3.05it/s]"
     ]
    },
    {
     "name": "stdout",
     "output_type": "stream",
     "text": [
      "Overall Acc: \t 0.56246882698\n",
      "Mean Acc : \t 0.289542499579\n",
      "FreqW Acc : \t 0.402177176156\n",
      "Mean IoU : \t 0.204129223789\n"
     ]
    },
    {
     "name": "stderr",
     "output_type": "stream",
     "text": [
      "\n"
     ]
    },
    {
     "name": "stdout",
     "output_type": "stream",
     "text": [
      "Epoch [36/50] Loss: 0.8257\n",
      "Epoch [36/50] Loss: 0.8320\n",
      "Epoch [36/50] Loss: 0.6102\n",
      "Epoch [36/50] Loss: 1.0203\n",
      "Epoch [36/50] Loss: 0.6115\n",
      "Epoch [36/50] Loss: 0.8874\n",
      "Epoch [36/50] Loss: 1.2723\n",
      "Epoch [36/50] Loss: 0.8900\n",
      "Epoch [36/50] Loss: 0.7193\n",
      "Epoch [36/50] Loss: 0.8135\n",
      "Epoch [36/50] Loss: 0.5969\n",
      "Epoch [36/50] Loss: 0.9225\n",
      "Epoch [36/50] Loss: 0.6052\n",
      "Epoch [36/50] Loss: 1.0356\n",
      "Epoch [36/50] Loss: 0.8892\n",
      "Epoch [36/50] Loss: 0.6421\n",
      "Epoch [36/50] Loss: 0.8733\n"
     ]
    },
    {
     "name": "stderr",
     "output_type": "stream",
     "text": [
      "1683it [09:13,  3.04it/s]"
     ]
    },
    {
     "name": "stdout",
     "output_type": "stream",
     "text": [
      "Overall Acc: \t 0.564717749776\n",
      "Mean Acc : \t 0.281499787672\n",
      "FreqW Acc : \t 0.396985662243\n",
      "Mean IoU : \t 0.202485898617\n"
     ]
    },
    {
     "name": "stderr",
     "output_type": "stream",
     "text": [
      "\n"
     ]
    },
    {
     "name": "stdout",
     "output_type": "stream",
     "text": [
      "Epoch [37/50] Loss: 1.2678\n",
      "Epoch [37/50] Loss: 0.7086\n",
      "Epoch [37/50] Loss: 0.6536\n",
      "Epoch [37/50] Loss: 1.4138\n",
      "Epoch [37/50] Loss: 0.7088\n",
      "Epoch [37/50] Loss: 0.8582\n",
      "Epoch [37/50] Loss: 0.8359\n",
      "Epoch [37/50] Loss: 0.9375\n",
      "Epoch [37/50] Loss: 0.9108\n",
      "Epoch [37/50] Loss: 0.7946\n",
      "Epoch [37/50] Loss: 0.8460\n",
      "Epoch [37/50] Loss: 0.6054\n",
      "Epoch [37/50] Loss: 0.9381\n",
      "Epoch [37/50] Loss: 0.5582\n",
      "Epoch [37/50] Loss: 0.8028\n",
      "Epoch [37/50] Loss: 0.6122\n",
      "Epoch [37/50] Loss: 0.6023\n"
     ]
    },
    {
     "name": "stderr",
     "output_type": "stream",
     "text": [
      "1683it [09:13,  3.04it/s]"
     ]
    },
    {
     "name": "stdout",
     "output_type": "stream",
     "text": [
      "Overall Acc: \t 0.571895029621\n",
      "Mean Acc : \t 0.295319273367\n",
      "FreqW Acc : \t 0.402478118013\n",
      "Mean IoU : \t 0.207631396862\n"
     ]
    },
    {
     "name": "stderr",
     "output_type": "stream",
     "text": [
      "\n"
     ]
    },
    {
     "name": "stdout",
     "output_type": "stream",
     "text": [
      "Epoch [38/50] Loss: 0.7274\n",
      "Epoch [38/50] Loss: 0.6534\n",
      "Epoch [38/50] Loss: 0.9312\n",
      "Epoch [38/50] Loss: 0.8334\n",
      "Epoch [38/50] Loss: 0.7303\n",
      "Epoch [38/50] Loss: 0.6685\n",
      "Epoch [38/50] Loss: 1.0554\n",
      "Epoch [38/50] Loss: 1.2740\n",
      "Epoch [38/50] Loss: 0.6804\n",
      "Epoch [38/50] Loss: 0.7869\n",
      "Epoch [38/50] Loss: 0.7368\n",
      "Epoch [38/50] Loss: 0.8716\n",
      "Epoch [38/50] Loss: 0.5873\n",
      "Epoch [38/50] Loss: 0.6962\n",
      "Epoch [38/50] Loss: 0.8595\n",
      "Epoch [38/50] Loss: 0.9486\n",
      "Epoch [38/50] Loss: 0.9306\n"
     ]
    },
    {
     "name": "stderr",
     "output_type": "stream",
     "text": [
      "1683it [09:02,  3.10it/s]"
     ]
    },
    {
     "name": "stdout",
     "output_type": "stream",
     "text": [
      "Overall Acc: \t 0.572456336754\n",
      "Mean Acc : \t 0.295515420418\n",
      "FreqW Acc : \t 0.406377574061\n",
      "Mean IoU : \t 0.208853343247\n"
     ]
    },
    {
     "name": "stderr",
     "output_type": "stream",
     "text": [
      "\n"
     ]
    },
    {
     "name": "stdout",
     "output_type": "stream",
     "text": [
      "Epoch [39/50] Loss: 0.8689\n",
      "Epoch [39/50] Loss: 0.6098\n",
      "Epoch [39/50] Loss: 0.6074\n",
      "Epoch [39/50] Loss: 0.5819\n",
      "Epoch [39/50] Loss: 0.7811\n",
      "Epoch [39/50] Loss: 0.5880\n",
      "Epoch [39/50] Loss: 1.0268\n",
      "Epoch [39/50] Loss: 0.8062\n",
      "Epoch [39/50] Loss: 0.6929\n",
      "Epoch [39/50] Loss: 0.7502\n",
      "Epoch [39/50] Loss: 0.7807\n",
      "Epoch [39/50] Loss: 0.9239\n",
      "Epoch [39/50] Loss: 0.6129\n",
      "Epoch [39/50] Loss: 0.5351\n",
      "Epoch [39/50] Loss: 0.7004\n",
      "Epoch [39/50] Loss: 0.5909\n",
      "Epoch [39/50] Loss: 0.7787\n"
     ]
    },
    {
     "name": "stderr",
     "output_type": "stream",
     "text": [
      "1683it [09:02,  3.10it/s]"
     ]
    },
    {
     "name": "stdout",
     "output_type": "stream",
     "text": [
      "Overall Acc: \t 0.568897014982\n",
      "Mean Acc : \t 0.288879165739\n",
      "FreqW Acc : \t 0.404751442288\n",
      "Mean IoU : \t 0.205301246606\n"
     ]
    },
    {
     "name": "stderr",
     "output_type": "stream",
     "text": [
      "\n"
     ]
    },
    {
     "name": "stdout",
     "output_type": "stream",
     "text": [
      "Epoch [40/50] Loss: 0.8829\n",
      "Epoch [40/50] Loss: 0.6070\n",
      "Epoch [40/50] Loss: 0.5223\n",
      "Epoch [40/50] Loss: 0.6042\n",
      "Epoch [40/50] Loss: 0.7918\n",
      "Epoch [40/50] Loss: 0.6743\n",
      "Epoch [40/50] Loss: 0.6166\n",
      "Epoch [40/50] Loss: 0.8825\n",
      "Epoch [40/50] Loss: 0.6039\n",
      "Epoch [40/50] Loss: 0.7914\n",
      "Epoch [40/50] Loss: 0.6332\n",
      "Epoch [40/50] Loss: 0.8487\n",
      "Epoch [40/50] Loss: 0.5222\n",
      "Epoch [40/50] Loss: 1.0645\n",
      "Epoch [40/50] Loss: 0.6685\n",
      "Epoch [40/50] Loss: 0.4974\n",
      "Epoch [40/50] Loss: 0.6934\n"
     ]
    },
    {
     "name": "stderr",
     "output_type": "stream",
     "text": [
      "1683it [09:01,  3.11it/s]"
     ]
    },
    {
     "name": "stdout",
     "output_type": "stream",
     "text": [
      "Overall Acc: \t 0.558470606545\n",
      "Mean Acc : \t 0.290894104145\n",
      "FreqW Acc : \t 0.392224859364\n",
      "Mean IoU : \t 0.205860861219\n"
     ]
    },
    {
     "name": "stderr",
     "output_type": "stream",
     "text": [
      "\n"
     ]
    },
    {
     "name": "stdout",
     "output_type": "stream",
     "text": [
      "Epoch [41/50] Loss: 0.6196\n",
      "Epoch [41/50] Loss: 0.8447\n",
      "Epoch [41/50] Loss: 1.0704\n",
      "Epoch [41/50] Loss: 0.6296\n",
      "Epoch [41/50] Loss: 0.7113\n",
      "Epoch [41/50] Loss: 0.8546\n",
      "Epoch [41/50] Loss: 0.6058\n",
      "Epoch [41/50] Loss: 0.9851\n",
      "Epoch [41/50] Loss: 0.8923\n",
      "Epoch [41/50] Loss: 1.3206\n",
      "Epoch [41/50] Loss: 0.7462\n",
      "Epoch [41/50] Loss: 0.6712\n",
      "Epoch [41/50] Loss: 0.6902\n",
      "Epoch [41/50] Loss: 0.8820\n",
      "Epoch [41/50] Loss: 0.7408\n",
      "Epoch [41/50] Loss: 0.5595\n",
      "Epoch [41/50] Loss: 0.9924\n"
     ]
    },
    {
     "name": "stderr",
     "output_type": "stream",
     "text": [
      "1683it [09:04,  3.09it/s]\n"
     ]
    },
    {
     "name": "stdout",
     "output_type": "stream",
     "text": [
      "Overall Acc: \t 0.570677457918\n",
      "Mean Acc : \t 0.300289820706\n",
      "FreqW Acc : \t 0.408932434325\n",
      "Mean IoU : \t 0.211071630087\n",
      "Epoch [42/50] Loss: 1.0224\n",
      "Epoch [42/50] Loss: 0.7020\n",
      "Epoch [42/50] Loss: 0.6294\n",
      "Epoch [42/50] Loss: 0.8232\n",
      "Epoch [42/50] Loss: 0.4783\n",
      "Epoch [42/50] Loss: 0.7298\n",
      "Epoch [42/50] Loss: 0.5940\n",
      "Epoch [42/50] Loss: 0.7202\n",
      "Epoch [42/50] Loss: 1.1570\n",
      "Epoch [42/50] Loss: 0.7379\n",
      "Epoch [42/50] Loss: 0.6316\n",
      "Epoch [42/50] Loss: 0.9068\n",
      "Epoch [42/50] Loss: 0.8209\n",
      "Epoch [42/50] Loss: 0.6781\n",
      "Epoch [42/50] Loss: 0.8106\n",
      "Epoch [42/50] Loss: 0.8015\n",
      "Epoch [42/50] Loss: 0.9210\n"
     ]
    },
    {
     "name": "stderr",
     "output_type": "stream",
     "text": [
      "1683it [09:02,  3.10it/s]"
     ]
    },
    {
     "name": "stdout",
     "output_type": "stream",
     "text": [
      "Overall Acc: \t 0.569503192283\n",
      "Mean Acc : \t 0.290569796256\n",
      "FreqW Acc : \t 0.408659247997\n",
      "Mean IoU : \t 0.207652446633\n"
     ]
    },
    {
     "name": "stderr",
     "output_type": "stream",
     "text": [
      "\n"
     ]
    },
    {
     "name": "stdout",
     "output_type": "stream",
     "text": [
      "Epoch [43/50] Loss: 0.4793\n",
      "Epoch [43/50] Loss: 0.7231\n",
      "Epoch [43/50] Loss: 0.5750\n",
      "Epoch [43/50] Loss: 0.9431\n",
      "Epoch [43/50] Loss: 0.8139\n",
      "Epoch [43/50] Loss: 0.8458\n",
      "Epoch [43/50] Loss: 0.5767\n",
      "Epoch [43/50] Loss: 1.2890\n",
      "Epoch [43/50] Loss: 0.6867\n",
      "Epoch [43/50] Loss: 0.8025\n",
      "Epoch [43/50] Loss: 0.6291\n",
      "Epoch [43/50] Loss: 0.8625\n",
      "Epoch [43/50] Loss: 0.8606\n",
      "Epoch [43/50] Loss: 0.5702\n",
      "Epoch [43/50] Loss: 0.7690\n",
      "Epoch [43/50] Loss: 0.8305\n",
      "Epoch [43/50] Loss: 0.6576\n"
     ]
    },
    {
     "name": "stderr",
     "output_type": "stream",
     "text": [
      "1683it [09:02,  3.10it/s]"
     ]
    },
    {
     "name": "stdout",
     "output_type": "stream",
     "text": [
      "Overall Acc: \t 0.57172494966\n",
      "Mean Acc : \t 0.293977611016\n",
      "FreqW Acc : \t 0.405103346804\n",
      "Mean IoU : \t 0.207806429945\n"
     ]
    },
    {
     "name": "stderr",
     "output_type": "stream",
     "text": [
      "\n"
     ]
    },
    {
     "name": "stdout",
     "output_type": "stream",
     "text": [
      "Epoch [44/50] Loss: 0.8171\n",
      "Epoch [44/50] Loss: 0.8244\n",
      "Epoch [44/50] Loss: 0.7413\n",
      "Epoch [44/50] Loss: 0.7481\n",
      "Epoch [44/50] Loss: 0.6811\n",
      "Epoch [44/50] Loss: 0.5238\n",
      "Epoch [44/50] Loss: 0.9172\n",
      "Epoch [44/50] Loss: 0.7585\n",
      "Epoch [44/50] Loss: 0.5985\n",
      "Epoch [44/50] Loss: 1.0464\n",
      "Epoch [44/50] Loss: 0.5921\n",
      "Epoch [44/50] Loss: 0.5388\n",
      "Epoch [44/50] Loss: 0.8975\n",
      "Epoch [44/50] Loss: 0.6123\n",
      "Epoch [44/50] Loss: 1.0560\n",
      "Epoch [44/50] Loss: 0.7077\n",
      "Epoch [44/50] Loss: 0.8744\n"
     ]
    },
    {
     "name": "stderr",
     "output_type": "stream",
     "text": [
      "1683it [09:02,  3.10it/s]\n"
     ]
    },
    {
     "name": "stdout",
     "output_type": "stream",
     "text": [
      "Overall Acc: \t 0.552979574261\n",
      "Mean Acc : \t 0.3083177215\n",
      "FreqW Acc : \t 0.392892908564\n",
      "Mean IoU : \t 0.211142673599\n",
      "Epoch [45/50] Loss: 0.5345\n",
      "Epoch [45/50] Loss: 0.7476\n",
      "Epoch [45/50] Loss: 0.7828\n",
      "Epoch [45/50] Loss: 0.7416\n",
      "Epoch [45/50] Loss: 0.7163\n",
      "Epoch [45/50] Loss: 0.7097\n",
      "Epoch [45/50] Loss: 0.6373\n",
      "Epoch [45/50] Loss: 1.0837\n",
      "Epoch [45/50] Loss: 0.7383\n",
      "Epoch [45/50] Loss: 0.6632\n",
      "Epoch [45/50] Loss: 0.6749\n",
      "Epoch [45/50] Loss: 0.8173\n",
      "Epoch [45/50] Loss: 0.6979\n",
      "Epoch [45/50] Loss: 0.4298\n",
      "Epoch [45/50] Loss: 0.7286\n",
      "Epoch [45/50] Loss: 0.8938\n",
      "Epoch [45/50] Loss: 0.9916\n"
     ]
    },
    {
     "name": "stderr",
     "output_type": "stream",
     "text": [
      "1683it [09:01,  3.11it/s]\n"
     ]
    },
    {
     "name": "stdout",
     "output_type": "stream",
     "text": [
      "Overall Acc: \t 0.565680896872\n",
      "Mean Acc : \t 0.31475171017\n",
      "FreqW Acc : \t 0.404915520807\n",
      "Mean IoU : \t 0.216231152342\n",
      "Epoch [46/50] Loss: 0.6748\n",
      "Epoch [46/50] Loss: 0.7250\n",
      "Epoch [46/50] Loss: 0.7976\n",
      "Epoch [46/50] Loss: 0.7245\n",
      "Epoch [46/50] Loss: 0.6698\n",
      "Epoch [46/50] Loss: 0.6673\n",
      "Epoch [46/50] Loss: 0.6758\n",
      "Epoch [46/50] Loss: 0.8817\n",
      "Epoch [46/50] Loss: 0.6693\n",
      "Epoch [46/50] Loss: 0.7233\n",
      "Epoch [46/50] Loss: 0.8538\n",
      "Epoch [46/50] Loss: 0.4982\n",
      "Epoch [46/50] Loss: 0.7966\n",
      "Epoch [46/50] Loss: 0.9247\n",
      "Epoch [46/50] Loss: 0.7275\n",
      "Epoch [46/50] Loss: 0.6716\n",
      "Epoch [46/50] Loss: 0.8115\n"
     ]
    },
    {
     "name": "stderr",
     "output_type": "stream",
     "text": [
      "1683it [09:03,  3.10it/s]"
     ]
    },
    {
     "name": "stdout",
     "output_type": "stream",
     "text": [
      "Overall Acc: \t 0.562342858348\n",
      "Mean Acc : \t 0.312518921732\n",
      "FreqW Acc : \t 0.402533304458\n",
      "Mean IoU : \t 0.213053270901\n"
     ]
    },
    {
     "name": "stderr",
     "output_type": "stream",
     "text": [
      "\n"
     ]
    },
    {
     "name": "stdout",
     "output_type": "stream",
     "text": [
      "Epoch [47/50] Loss: 0.8302\n",
      "Epoch [47/50] Loss: 0.4689\n",
      "Epoch [47/50] Loss: 0.6861\n",
      "Epoch [47/50] Loss: 1.0897\n",
      "Epoch [47/50] Loss: 0.5751\n",
      "Epoch [47/50] Loss: 0.7716\n",
      "Epoch [47/50] Loss: 0.6285\n",
      "Epoch [47/50] Loss: 0.8746\n",
      "Epoch [47/50] Loss: 0.8781\n",
      "Epoch [47/50] Loss: 0.7629\n",
      "Epoch [47/50] Loss: 0.8532\n",
      "Epoch [47/50] Loss: 0.4433\n",
      "Epoch [47/50] Loss: 0.6915\n",
      "Epoch [47/50] Loss: 0.6125\n",
      "Epoch [47/50] Loss: 0.7916\n",
      "Epoch [47/50] Loss: 0.6455\n",
      "Epoch [47/50] Loss: 0.6386\n"
     ]
    },
    {
     "name": "stderr",
     "output_type": "stream",
     "text": [
      "1683it [09:01,  3.11it/s]"
     ]
    },
    {
     "name": "stdout",
     "output_type": "stream",
     "text": [
      "Overall Acc: \t 0.547523086255\n",
      "Mean Acc : \t 0.289322603076\n",
      "FreqW Acc : \t 0.378645232577\n",
      "Mean IoU : \t 0.203230221736\n"
     ]
    },
    {
     "name": "stderr",
     "output_type": "stream",
     "text": [
      "\n"
     ]
    },
    {
     "name": "stdout",
     "output_type": "stream",
     "text": [
      "Epoch [48/50] Loss: 0.6942\n",
      "Epoch [48/50] Loss: 0.8474\n",
      "Epoch [48/50] Loss: 0.8144\n",
      "Epoch [48/50] Loss: 0.6373\n",
      "Epoch [48/50] Loss: 0.6740\n",
      "Epoch [48/50] Loss: 0.7569\n",
      "Epoch [48/50] Loss: 0.8587\n",
      "Epoch [48/50] Loss: 0.6831\n",
      "Epoch [48/50] Loss: 0.5671\n",
      "Epoch [48/50] Loss: 0.8975\n",
      "Epoch [48/50] Loss: 0.5189\n",
      "Epoch [48/50] Loss: 0.6034\n",
      "Epoch [48/50] Loss: 0.5478\n",
      "Epoch [48/50] Loss: 0.6967\n",
      "Epoch [48/50] Loss: 0.6731\n",
      "Epoch [48/50] Loss: 0.7208\n",
      "Epoch [48/50] Loss: 0.8857\n"
     ]
    },
    {
     "name": "stderr",
     "output_type": "stream",
     "text": [
      "1683it [09:03,  3.10it/s]"
     ]
    },
    {
     "name": "stdout",
     "output_type": "stream",
     "text": [
      "Overall Acc: \t 0.566017829309\n",
      "Mean Acc : \t 0.299101208611\n",
      "FreqW Acc : \t 0.399569178767\n",
      "Mean IoU : \t 0.209058146932\n"
     ]
    },
    {
     "name": "stderr",
     "output_type": "stream",
     "text": [
      "\n"
     ]
    },
    {
     "name": "stdout",
     "output_type": "stream",
     "text": [
      "Epoch [49/50] Loss: 0.6373\n",
      "Epoch [49/50] Loss: 0.5448\n",
      "Epoch [49/50] Loss: 0.5344\n",
      "Epoch [49/50] Loss: 0.6786\n",
      "Epoch [49/50] Loss: 0.7943\n",
      "Epoch [49/50] Loss: 0.5206\n",
      "Epoch [49/50] Loss: 0.9259\n",
      "Epoch [49/50] Loss: 0.4850\n",
      "Epoch [49/50] Loss: 0.4679\n",
      "Epoch [49/50] Loss: 0.8412\n",
      "Epoch [49/50] Loss: 0.3704\n",
      "Epoch [49/50] Loss: 0.7002\n",
      "Epoch [49/50] Loss: 0.4515\n",
      "Epoch [49/50] Loss: 0.6656\n",
      "Epoch [49/50] Loss: 0.6629\n",
      "Epoch [49/50] Loss: 0.7261\n",
      "Epoch [49/50] Loss: 0.7931\n"
     ]
    },
    {
     "name": "stderr",
     "output_type": "stream",
     "text": [
      "1683it [09:02,  3.10it/s]"
     ]
    },
    {
     "name": "stdout",
     "output_type": "stream",
     "text": [
      "Overall Acc: \t 0.563646478701\n",
      "Mean Acc : \t 0.288443997259\n",
      "FreqW Acc : \t 0.397245437406\n",
      "Mean IoU : \t 0.206315386498\n"
     ]
    },
    {
     "name": "stderr",
     "output_type": "stream",
     "text": [
      "\n"
     ]
    },
    {
     "name": "stdout",
     "output_type": "stream",
     "text": [
      "Epoch [50/50] Loss: 0.5310\n",
      "Epoch [50/50] Loss: 0.4511\n",
      "Epoch [50/50] Loss: 0.6767\n",
      "Epoch [50/50] Loss: 0.7164\n",
      "Epoch [50/50] Loss: 0.5900\n",
      "Epoch [50/50] Loss: 0.7586\n",
      "Epoch [50/50] Loss: 0.5191\n",
      "Epoch [50/50] Loss: 0.6922\n",
      "Epoch [50/50] Loss: 0.6902\n",
      "Epoch [50/50] Loss: 0.4986\n",
      "Epoch [50/50] Loss: 0.7633\n",
      "Epoch [50/50] Loss: 0.6470\n",
      "Epoch [50/50] Loss: 0.5856\n",
      "Epoch [50/50] Loss: 0.7763\n",
      "Epoch [50/50] Loss: 0.7489\n",
      "Epoch [50/50] Loss: 0.7714\n",
      "Epoch [50/50] Loss: 0.6348\n"
     ]
    },
    {
     "name": "stderr",
     "output_type": "stream",
     "text": [
      "1683it [09:05,  3.09it/s]"
     ]
    },
    {
     "name": "stdout",
     "output_type": "stream",
     "text": [
      "Overall Acc: \t 0.566193530614\n",
      "Mean Acc : \t 0.291676569728\n",
      "FreqW Acc : \t 0.399230578254\n",
      "Mean IoU : \t 0.206015083182\n"
     ]
    },
    {
     "name": "stderr",
     "output_type": "stream",
     "text": [
      "\n"
     ]
    }
   ],
   "source": [
    "from utils import *\n",
    "\n",
    "arg_str = '--gpu_idx 3 ' \\\n",
    "          '--arch FCN_RGBD_mask2 ' \\\n",
    "          '--input_type RGBD ' \\\n",
    "          '--dataset SUNRGBD ' \\\n",
    "          '--batch_size 3 ' \\\n",
    "          '--n_epoch 50'\n",
    "\n",
    "trainer = trainer(arg_str)\n",
    "trainer.model_init()\n",
    "trainer.training()"
   ]
  },
  {
   "cell_type": "code",
   "execution_count": null,
   "metadata": {},
   "outputs": [],
   "source": []
  }
 ],
 "metadata": {
  "kernelspec": {
   "display_name": "Python [conda env:pytorch]",
   "language": "python",
   "name": "conda-env-pytorch-py"
  },
  "language_info": {
   "codemirror_mode": {
    "name": "ipython",
    "version": 3
   },
   "file_extension": ".py",
   "mimetype": "text/x-python",
   "name": "python",
   "nbconvert_exporter": "python",
   "pygments_lexer": "ipython3",
   "version": "3.6.3"
  }
 },
 "nbformat": 4,
 "nbformat_minor": 2
}
