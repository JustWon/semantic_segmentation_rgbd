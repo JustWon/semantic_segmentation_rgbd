{
 "cells": [
  {
   "cell_type": "markdown",
   "metadata": {},
   "source": [
    "## 2018년 05월 21일 22시 00분 37초에 추가 ##\n",
    "- Training FCN_RGBD on SUNRGBD"
   ]
  },
  {
   "cell_type": "code",
   "execution_count": 1,
   "metadata": {},
   "outputs": [
    {
     "name": "stderr",
     "output_type": "stream",
     "text": [
      "/home/dongwonshin/.conda/envs/pytorch/lib/python3.6/site-packages/torch/nn/functional.py:1462: UserWarning: nn.functional.upsample_bilinear is deprecated. Use nn.functional.upsample instead.\n",
      "  warnings.warn(\"nn.functional.upsample_bilinear is deprecated. Use nn.functional.upsample instead.\")\n"
     ]
    },
    {
     "name": "stdout",
     "output_type": "stream",
     "text": [
      "Epoch [1/50] Loss: 2.1621\n",
      "Epoch [1/50] Loss: 1.6917\n",
      "Epoch [1/50] Loss: 2.0824\n",
      "Epoch [1/50] Loss: 2.0953\n",
      "Epoch [1/50] Loss: 2.4306\n",
      "Epoch [1/50] Loss: 2.5988\n",
      "Epoch [1/50] Loss: 1.5427\n",
      "Epoch [1/50] Loss: 1.8952\n",
      "Epoch [1/50] Loss: 1.9599\n",
      "Epoch [1/50] Loss: 1.8175\n",
      "Epoch [1/50] Loss: 2.4074\n",
      "Epoch [1/50] Loss: 1.6254\n",
      "Epoch [1/50] Loss: 2.3575\n",
      "Epoch [1/50] Loss: 2.1073\n",
      "Epoch [1/50] Loss: 1.6102\n",
      "Epoch [1/50] Loss: 1.8990\n",
      "Epoch [1/50] Loss: 1.4461\n"
     ]
    },
    {
     "name": "stderr",
     "output_type": "stream",
     "text": [
      "1683it [06:40,  4.20it/s]\n"
     ]
    },
    {
     "name": "stdout",
     "output_type": "stream",
     "text": [
      "Overall Acc: \t 0.482203447877\n",
      "Mean Acc : \t 0.0725599389158\n",
      "FreqW Acc : \t 0.286888626533\n",
      "Mean IoU : \t 0.0460571605658\n",
      "Epoch [2/50] Loss: 2.6731\n",
      "Epoch [2/50] Loss: 1.4411\n",
      "Epoch [2/50] Loss: 2.4709\n",
      "Epoch [2/50] Loss: 2.2659\n",
      "Epoch [2/50] Loss: 1.6945\n",
      "Epoch [2/50] Loss: 2.5477\n",
      "Epoch [2/50] Loss: 1.7496\n",
      "Epoch [2/50] Loss: 1.6445\n",
      "Epoch [2/50] Loss: 2.0937\n",
      "Epoch [2/50] Loss: 1.3395\n",
      "Epoch [2/50] Loss: 2.3069\n",
      "Epoch [2/50] Loss: 1.7660\n",
      "Epoch [2/50] Loss: 1.9553\n",
      "Epoch [2/50] Loss: 1.9265\n",
      "Epoch [2/50] Loss: 1.6595\n",
      "Epoch [2/50] Loss: 1.3107\n",
      "Epoch [2/50] Loss: 1.0306\n"
     ]
    },
    {
     "name": "stderr",
     "output_type": "stream",
     "text": [
      "1683it [06:42,  4.18it/s]\n"
     ]
    },
    {
     "name": "stdout",
     "output_type": "stream",
     "text": [
      "Overall Acc: \t 0.510749088619\n",
      "Mean Acc : \t 0.0957479996033\n",
      "FreqW Acc : \t 0.32938673297\n",
      "Mean IoU : \t 0.06510859189\n",
      "Epoch [3/50] Loss: 1.4086\n",
      "Epoch [3/50] Loss: 1.9064\n",
      "Epoch [3/50] Loss: 1.2689\n",
      "Epoch [3/50] Loss: 2.0675\n",
      "Epoch [3/50] Loss: 2.2394\n",
      "Epoch [3/50] Loss: 1.9507\n",
      "Epoch [3/50] Loss: 2.1887\n",
      "Epoch [3/50] Loss: 2.2201\n",
      "Epoch [3/50] Loss: 1.8203\n",
      "Epoch [3/50] Loss: 1.5849\n",
      "Epoch [3/50] Loss: 1.7274\n",
      "Epoch [3/50] Loss: 1.9672\n",
      "Epoch [3/50] Loss: 2.5132\n",
      "Epoch [3/50] Loss: 1.5977\n",
      "Epoch [3/50] Loss: 1.5965\n",
      "Epoch [3/50] Loss: 1.4386\n",
      "Epoch [3/50] Loss: 0.9779\n"
     ]
    },
    {
     "name": "stderr",
     "output_type": "stream",
     "text": [
      "1683it [06:41,  4.19it/s]\n"
     ]
    },
    {
     "name": "stdout",
     "output_type": "stream",
     "text": [
      "Overall Acc: \t 0.526659000906\n",
      "Mean Acc : \t 0.108953350383\n",
      "FreqW Acc : \t 0.340412804279\n",
      "Mean IoU : \t 0.0759762501693\n",
      "Epoch [4/50] Loss: 1.4844\n",
      "Epoch [4/50] Loss: 0.9879\n",
      "Epoch [4/50] Loss: 1.1890\n",
      "Epoch [4/50] Loss: 1.4679\n",
      "Epoch [4/50] Loss: 1.9096\n",
      "Epoch [4/50] Loss: 1.4882\n",
      "Epoch [4/50] Loss: 1.9178\n",
      "Epoch [4/50] Loss: 1.5085\n",
      "Epoch [4/50] Loss: 1.8180\n",
      "Epoch [4/50] Loss: 1.0518\n",
      "Epoch [4/50] Loss: 1.2944\n",
      "Epoch [4/50] Loss: 1.9806\n",
      "Epoch [4/50] Loss: 1.5676\n",
      "Epoch [4/50] Loss: 1.5352\n",
      "Epoch [4/50] Loss: 1.7683\n",
      "Epoch [4/50] Loss: 1.3230\n",
      "Epoch [4/50] Loss: 1.4115\n"
     ]
    },
    {
     "name": "stderr",
     "output_type": "stream",
     "text": [
      "1683it [06:43,  4.17it/s]\n"
     ]
    },
    {
     "name": "stdout",
     "output_type": "stream",
     "text": [
      "Overall Acc: \t 0.542446082429\n",
      "Mean Acc : \t 0.124598302257\n",
      "FreqW Acc : \t 0.360783513625\n",
      "Mean IoU : \t 0.0898356203004\n",
      "Epoch [5/50] Loss: 1.1329\n",
      "Epoch [5/50] Loss: 0.9991\n",
      "Epoch [5/50] Loss: 1.1722\n",
      "Epoch [5/50] Loss: 1.2752\n",
      "Epoch [5/50] Loss: 1.5742\n",
      "Epoch [5/50] Loss: 1.8639\n",
      "Epoch [5/50] Loss: 0.9718\n",
      "Epoch [5/50] Loss: 1.5417\n",
      "Epoch [5/50] Loss: 1.1195\n",
      "Epoch [5/50] Loss: 1.8222\n",
      "Epoch [5/50] Loss: 1.3915\n",
      "Epoch [5/50] Loss: 1.3146\n",
      "Epoch [5/50] Loss: 1.4342\n",
      "Epoch [5/50] Loss: 1.7645\n",
      "Epoch [5/50] Loss: 1.4068\n",
      "Epoch [5/50] Loss: 1.8037\n",
      "Epoch [5/50] Loss: 1.2473\n"
     ]
    },
    {
     "name": "stderr",
     "output_type": "stream",
     "text": [
      "1683it [06:41,  4.19it/s]\n"
     ]
    },
    {
     "name": "stdout",
     "output_type": "stream",
     "text": [
      "Overall Acc: \t 0.54738028454\n",
      "Mean Acc : \t 0.135679415115\n",
      "FreqW Acc : \t 0.368341791901\n",
      "Mean IoU : \t 0.0993485215878\n",
      "Epoch [6/50] Loss: 2.0625\n",
      "Epoch [6/50] Loss: 1.7367\n",
      "Epoch [6/50] Loss: 1.2022\n",
      "Epoch [6/50] Loss: 1.2162\n",
      "Epoch [6/50] Loss: 1.8765\n",
      "Epoch [6/50] Loss: 1.9255\n",
      "Epoch [6/50] Loss: 1.6530\n",
      "Epoch [6/50] Loss: 1.5306\n",
      "Epoch [6/50] Loss: 2.1567\n",
      "Epoch [6/50] Loss: 1.7871\n",
      "Epoch [6/50] Loss: 1.7634\n",
      "Epoch [6/50] Loss: 1.1724\n",
      "Epoch [6/50] Loss: 1.1259\n",
      "Epoch [6/50] Loss: 1.2320\n",
      "Epoch [6/50] Loss: 0.9316\n",
      "Epoch [6/50] Loss: 1.1671\n",
      "Epoch [6/50] Loss: 1.1282\n"
     ]
    },
    {
     "name": "stderr",
     "output_type": "stream",
     "text": [
      "1683it [06:44,  4.16it/s]\n"
     ]
    },
    {
     "name": "stdout",
     "output_type": "stream",
     "text": [
      "Overall Acc: \t 0.551455083283\n",
      "Mean Acc : \t 0.150440610641\n",
      "FreqW Acc : \t 0.369808908992\n",
      "Mean IoU : \t 0.109776461358\n",
      "Epoch [7/50] Loss: 1.4246\n",
      "Epoch [7/50] Loss: 1.8587\n",
      "Epoch [7/50] Loss: 2.3173\n",
      "Epoch [7/50] Loss: 1.2178\n",
      "Epoch [7/50] Loss: 1.0662\n",
      "Epoch [7/50] Loss: 1.6044\n",
      "Epoch [7/50] Loss: 2.1108\n",
      "Epoch [7/50] Loss: 1.0576\n",
      "Epoch [7/50] Loss: 1.5855\n",
      "Epoch [7/50] Loss: 1.5062\n",
      "Epoch [7/50] Loss: 1.2381\n",
      "Epoch [7/50] Loss: 1.1986\n",
      "Epoch [7/50] Loss: 1.3521\n",
      "Epoch [7/50] Loss: 1.4002\n",
      "Epoch [7/50] Loss: 1.7585\n",
      "Epoch [7/50] Loss: 1.3975\n",
      "Epoch [7/50] Loss: 1.2319\n"
     ]
    },
    {
     "name": "stderr",
     "output_type": "stream",
     "text": [
      "1683it [06:43,  4.17it/s]\n"
     ]
    },
    {
     "name": "stdout",
     "output_type": "stream",
     "text": [
      "Overall Acc: \t 0.553279651086\n",
      "Mean Acc : \t 0.152351466103\n",
      "FreqW Acc : \t 0.371885445388\n",
      "Mean IoU : \t 0.112325972717\n",
      "Epoch [8/50] Loss: 1.4370\n",
      "Epoch [8/50] Loss: 1.5739\n",
      "Epoch [8/50] Loss: 1.4819\n",
      "Epoch [8/50] Loss: 1.1814\n",
      "Epoch [8/50] Loss: 1.1730\n",
      "Epoch [8/50] Loss: 1.4589\n",
      "Epoch [8/50] Loss: 1.5801\n",
      "Epoch [8/50] Loss: 1.1539\n",
      "Epoch [8/50] Loss: 1.7425\n",
      "Epoch [8/50] Loss: 1.0434\n",
      "Epoch [8/50] Loss: 1.1709\n",
      "Epoch [8/50] Loss: 1.6392\n",
      "Epoch [8/50] Loss: 1.4277\n",
      "Epoch [8/50] Loss: 1.5678\n",
      "Epoch [8/50] Loss: 1.3165\n",
      "Epoch [8/50] Loss: 1.2891\n",
      "Epoch [8/50] Loss: 1.2579\n"
     ]
    },
    {
     "name": "stderr",
     "output_type": "stream",
     "text": [
      "1683it [06:43,  4.17it/s]\n"
     ]
    },
    {
     "name": "stdout",
     "output_type": "stream",
     "text": [
      "Overall Acc: \t 0.565588778151\n",
      "Mean Acc : \t 0.168788015962\n",
      "FreqW Acc : \t 0.389360926999\n",
      "Mean IoU : \t 0.124955283324\n",
      "Epoch [9/50] Loss: 1.0890\n",
      "Epoch [9/50] Loss: 0.7149\n",
      "Epoch [9/50] Loss: 1.3376\n",
      "Epoch [9/50] Loss: 1.0946\n",
      "Epoch [9/50] Loss: 1.7150\n",
      "Epoch [9/50] Loss: 1.3823\n",
      "Epoch [9/50] Loss: 1.0899\n",
      "Epoch [9/50] Loss: 1.7142\n",
      "Epoch [9/50] Loss: 0.8888\n",
      "Epoch [9/50] Loss: 1.0073\n",
      "Epoch [9/50] Loss: 1.1734\n",
      "Epoch [9/50] Loss: 1.9527\n",
      "Epoch [9/50] Loss: 1.5314\n",
      "Epoch [9/50] Loss: 0.8962\n",
      "Epoch [9/50] Loss: 1.4942\n",
      "Epoch [9/50] Loss: 1.3002\n",
      "Epoch [9/50] Loss: 1.4299\n"
     ]
    },
    {
     "name": "stderr",
     "output_type": "stream",
     "text": [
      "1683it [06:41,  4.20it/s]\n"
     ]
    },
    {
     "name": "stdout",
     "output_type": "stream",
     "text": [
      "Overall Acc: \t 0.567473801021\n",
      "Mean Acc : \t 0.187625692108\n",
      "FreqW Acc : \t 0.391250670655\n",
      "Mean IoU : \t 0.133680523326\n",
      "Epoch [10/50] Loss: 1.2716\n",
      "Epoch [10/50] Loss: 1.4803\n",
      "Epoch [10/50] Loss: 1.1884\n",
      "Epoch [10/50] Loss: 0.9838\n",
      "Epoch [10/50] Loss: 0.9718\n",
      "Epoch [10/50] Loss: 1.0983\n",
      "Epoch [10/50] Loss: 1.4565\n",
      "Epoch [10/50] Loss: 1.5671\n",
      "Epoch [10/50] Loss: 1.2387\n",
      "Epoch [10/50] Loss: 1.8064\n",
      "Epoch [10/50] Loss: 1.6790\n",
      "Epoch [10/50] Loss: 1.6698\n",
      "Epoch [10/50] Loss: 1.2079\n",
      "Epoch [10/50] Loss: 1.3719\n",
      "Epoch [10/50] Loss: 0.8788\n",
      "Epoch [10/50] Loss: 1.3142\n",
      "Epoch [10/50] Loss: 1.4469\n"
     ]
    },
    {
     "name": "stderr",
     "output_type": "stream",
     "text": [
      "1683it [06:42,  4.18it/s]\n"
     ]
    },
    {
     "name": "stdout",
     "output_type": "stream",
     "text": [
      "Overall Acc: \t 0.570663386185\n",
      "Mean Acc : \t 0.191211742017\n",
      "FreqW Acc : \t 0.400953869173\n",
      "Mean IoU : \t 0.139849389019\n",
      "Epoch [11/50] Loss: 1.3088\n",
      "Epoch [11/50] Loss: 0.8798\n",
      "Epoch [11/50] Loss: 2.0470\n",
      "Epoch [11/50] Loss: 1.4811\n",
      "Epoch [11/50] Loss: 1.2009\n",
      "Epoch [11/50] Loss: 1.1193\n",
      "Epoch [11/50] Loss: 1.1830\n",
      "Epoch [11/50] Loss: 1.3503\n",
      "Epoch [11/50] Loss: 1.1675\n",
      "Epoch [11/50] Loss: 1.4165\n",
      "Epoch [11/50] Loss: 1.0377\n",
      "Epoch [11/50] Loss: 1.2933\n",
      "Epoch [11/50] Loss: 1.5643\n",
      "Epoch [11/50] Loss: 1.2666\n",
      "Epoch [11/50] Loss: 1.4292\n",
      "Epoch [11/50] Loss: 1.1658\n",
      "Epoch [11/50] Loss: 0.9374\n"
     ]
    },
    {
     "name": "stderr",
     "output_type": "stream",
     "text": [
      "1683it [06:43,  4.17it/s]\n"
     ]
    },
    {
     "name": "stdout",
     "output_type": "stream",
     "text": [
      "Overall Acc: \t 0.575312612182\n",
      "Mean Acc : \t 0.203215164603\n",
      "FreqW Acc : \t 0.403881065073\n",
      "Mean IoU : \t 0.147822341392\n",
      "Epoch [12/50] Loss: 1.4518\n",
      "Epoch [12/50] Loss: 1.1454\n",
      "Epoch [12/50] Loss: 1.0223\n",
      "Epoch [12/50] Loss: 1.5787\n",
      "Epoch [12/50] Loss: 1.3444\n",
      "Epoch [12/50] Loss: 1.5133\n",
      "Epoch [12/50] Loss: 1.6262\n",
      "Epoch [12/50] Loss: 1.1461\n",
      "Epoch [12/50] Loss: 1.4508\n",
      "Epoch [12/50] Loss: 1.0467\n",
      "Epoch [12/50] Loss: 0.8926\n",
      "Epoch [12/50] Loss: 1.1352\n",
      "Epoch [12/50] Loss: 0.7819\n",
      "Epoch [12/50] Loss: 1.0153\n",
      "Epoch [12/50] Loss: 1.3603\n",
      "Epoch [12/50] Loss: 1.2662\n",
      "Epoch [12/50] Loss: 1.4201\n"
     ]
    },
    {
     "name": "stderr",
     "output_type": "stream",
     "text": [
      "1683it [06:43,  4.17it/s]\n"
     ]
    },
    {
     "name": "stdout",
     "output_type": "stream",
     "text": [
      "Overall Acc: \t 0.57437780906\n",
      "Mean Acc : \t 0.205286134067\n",
      "FreqW Acc : \t 0.404665093944\n",
      "Mean IoU : \t 0.149514970316\n",
      "Epoch [13/50] Loss: 0.8892\n",
      "Epoch [13/50] Loss: 0.8765\n",
      "Epoch [13/50] Loss: 0.9607\n",
      "Epoch [13/50] Loss: 0.9740\n",
      "Epoch [13/50] Loss: 0.9277\n",
      "Epoch [13/50] Loss: 1.0560\n",
      "Epoch [13/50] Loss: 1.9625\n",
      "Epoch [13/50] Loss: 1.1116\n",
      "Epoch [13/50] Loss: 1.2246\n",
      "Epoch [13/50] Loss: 0.9184\n",
      "Epoch [13/50] Loss: 1.0409\n",
      "Epoch [13/50] Loss: 0.9950\n",
      "Epoch [13/50] Loss: 1.6794\n",
      "Epoch [13/50] Loss: 1.2210\n",
      "Epoch [13/50] Loss: 0.9197\n",
      "Epoch [13/50] Loss: 1.0306\n",
      "Epoch [13/50] Loss: 1.6296\n"
     ]
    },
    {
     "name": "stderr",
     "output_type": "stream",
     "text": [
      "1683it [06:43,  4.17it/s]\n"
     ]
    },
    {
     "name": "stdout",
     "output_type": "stream",
     "text": [
      "Overall Acc: \t 0.578657333909\n",
      "Mean Acc : \t 0.21742136236\n",
      "FreqW Acc : \t 0.401532689613\n",
      "Mean IoU : \t 0.156163917446\n",
      "Epoch [14/50] Loss: 1.8901\n",
      "Epoch [14/50] Loss: 1.2532\n",
      "Epoch [14/50] Loss: 1.2919\n",
      "Epoch [14/50] Loss: 1.0058\n",
      "Epoch [14/50] Loss: 0.8701\n",
      "Epoch [14/50] Loss: 1.2100\n",
      "Epoch [14/50] Loss: 1.2459\n",
      "Epoch [14/50] Loss: 1.2100\n",
      "Epoch [14/50] Loss: 1.0963\n",
      "Epoch [14/50] Loss: 2.0402\n",
      "Epoch [14/50] Loss: 1.4018\n",
      "Epoch [14/50] Loss: 1.2719\n",
      "Epoch [14/50] Loss: 1.2940\n",
      "Epoch [14/50] Loss: 0.9456\n",
      "Epoch [14/50] Loss: 0.9325\n",
      "Epoch [14/50] Loss: 0.7849\n",
      "Epoch [14/50] Loss: 1.0640\n"
     ]
    },
    {
     "name": "stderr",
     "output_type": "stream",
     "text": [
      "1683it [06:43,  4.18it/s]"
     ]
    },
    {
     "name": "stdout",
     "output_type": "stream",
     "text": [
      "Overall Acc: \t 0.581446471068\n",
      "Mean Acc : \t 0.203587041975\n",
      "FreqW Acc : \t 0.408855057359\n",
      "Mean IoU : \t 0.151091188593\n"
     ]
    },
    {
     "name": "stderr",
     "output_type": "stream",
     "text": [
      "\n"
     ]
    },
    {
     "name": "stdout",
     "output_type": "stream",
     "text": [
      "Epoch [15/50] Loss: 0.8605\n",
      "Epoch [15/50] Loss: 1.0654\n",
      "Epoch [15/50] Loss: 0.9691\n",
      "Epoch [15/50] Loss: 1.4156\n",
      "Epoch [15/50] Loss: 1.2238\n",
      "Epoch [15/50] Loss: 1.2461\n",
      "Epoch [15/50] Loss: 1.4415\n",
      "Epoch [15/50] Loss: 1.8249\n",
      "Epoch [15/50] Loss: 0.9986\n",
      "Epoch [15/50] Loss: 1.1859\n",
      "Epoch [15/50] Loss: 1.7152\n",
      "Epoch [15/50] Loss: 0.9822\n",
      "Epoch [15/50] Loss: 1.1442\n",
      "Epoch [15/50] Loss: 0.7297\n",
      "Epoch [15/50] Loss: 2.2974\n",
      "Epoch [15/50] Loss: 1.1416\n",
      "Epoch [15/50] Loss: 1.0580\n"
     ]
    },
    {
     "name": "stderr",
     "output_type": "stream",
     "text": [
      "1683it [06:42,  4.18it/s]"
     ]
    },
    {
     "name": "stdout",
     "output_type": "stream",
     "text": [
      "Overall Acc: \t 0.583258729812\n",
      "Mean Acc : \t 0.202478402158\n",
      "FreqW Acc : \t 0.412765984301\n",
      "Mean IoU : \t 0.153812408823\n"
     ]
    },
    {
     "name": "stderr",
     "output_type": "stream",
     "text": [
      "\n"
     ]
    },
    {
     "name": "stdout",
     "output_type": "stream",
     "text": [
      "Epoch [16/50] Loss: 1.5265\n",
      "Epoch [16/50] Loss: 1.7474\n",
      "Epoch [16/50] Loss: 1.0522\n",
      "Epoch [16/50] Loss: 1.1616\n",
      "Epoch [16/50] Loss: 0.9776\n",
      "Epoch [16/50] Loss: 1.6751\n",
      "Epoch [16/50] Loss: 1.3840\n",
      "Epoch [16/50] Loss: 1.3970\n",
      "Epoch [16/50] Loss: 1.2552\n",
      "Epoch [16/50] Loss: 0.8313\n",
      "Epoch [16/50] Loss: 1.2698\n",
      "Epoch [16/50] Loss: 1.2254\n",
      "Epoch [16/50] Loss: 1.4481\n",
      "Epoch [16/50] Loss: 1.3856\n",
      "Epoch [16/50] Loss: 1.0219\n",
      "Epoch [16/50] Loss: 1.1965\n",
      "Epoch [16/50] Loss: 1.1166\n"
     ]
    },
    {
     "name": "stderr",
     "output_type": "stream",
     "text": [
      "1683it [06:43,  4.17it/s]"
     ]
    },
    {
     "name": "stdout",
     "output_type": "stream",
     "text": [
      "Overall Acc: \t 0.585927607364\n",
      "Mean Acc : \t 0.203838156799\n",
      "FreqW Acc : \t 0.410706152493\n",
      "Mean IoU : \t 0.154224609694\n"
     ]
    },
    {
     "name": "stderr",
     "output_type": "stream",
     "text": [
      "\n"
     ]
    },
    {
     "name": "stdout",
     "output_type": "stream",
     "text": [
      "Epoch [17/50] Loss: 1.2125\n",
      "Epoch [17/50] Loss: 1.4631\n",
      "Epoch [17/50] Loss: 1.5649\n",
      "Epoch [17/50] Loss: 1.0357\n",
      "Epoch [17/50] Loss: 0.9660\n",
      "Epoch [17/50] Loss: 1.4326\n",
      "Epoch [17/50] Loss: 0.8488\n",
      "Epoch [17/50] Loss: 0.9606\n",
      "Epoch [17/50] Loss: 1.9724\n",
      "Epoch [17/50] Loss: 1.7881\n",
      "Epoch [17/50] Loss: 1.2792\n",
      "Epoch [17/50] Loss: 0.9458\n",
      "Epoch [17/50] Loss: 1.5426\n",
      "Epoch [17/50] Loss: 1.4060\n",
      "Epoch [17/50] Loss: 1.0601\n",
      "Epoch [17/50] Loss: 1.1572\n",
      "Epoch [17/50] Loss: 0.7905\n"
     ]
    },
    {
     "name": "stderr",
     "output_type": "stream",
     "text": [
      "1683it [06:44,  4.16it/s]\n"
     ]
    },
    {
     "name": "stdout",
     "output_type": "stream",
     "text": [
      "Overall Acc: \t 0.58588468555\n",
      "Mean Acc : \t 0.228925691931\n",
      "FreqW Acc : \t 0.416281331514\n",
      "Mean IoU : \t 0.168013768945\n",
      "Epoch [18/50] Loss: 0.9768\n",
      "Epoch [18/50] Loss: 1.1748\n",
      "Epoch [18/50] Loss: 1.6007\n",
      "Epoch [18/50] Loss: 1.0887\n",
      "Epoch [18/50] Loss: 0.9347\n",
      "Epoch [18/50] Loss: 1.0040\n",
      "Epoch [18/50] Loss: 0.8755\n",
      "Epoch [18/50] Loss: 1.1313\n",
      "Epoch [18/50] Loss: 1.1315\n",
      "Epoch [18/50] Loss: 1.3456\n",
      "Epoch [18/50] Loss: 1.0636\n",
      "Epoch [18/50] Loss: 1.1050\n",
      "Epoch [18/50] Loss: 1.3168\n",
      "Epoch [18/50] Loss: 1.1803\n",
      "Epoch [18/50] Loss: 1.0222\n",
      "Epoch [18/50] Loss: 1.0480\n",
      "Epoch [18/50] Loss: 0.7025\n"
     ]
    },
    {
     "name": "stderr",
     "output_type": "stream",
     "text": [
      "1683it [06:42,  4.18it/s]\n"
     ]
    },
    {
     "name": "stdout",
     "output_type": "stream",
     "text": [
      "Overall Acc: \t 0.590400311324\n",
      "Mean Acc : \t 0.233123774372\n",
      "FreqW Acc : \t 0.421385380166\n",
      "Mean IoU : \t 0.171213409108\n",
      "Epoch [19/50] Loss: 1.2188\n",
      "Epoch [19/50] Loss: 0.7428\n",
      "Epoch [19/50] Loss: 0.8809\n",
      "Epoch [19/50] Loss: 1.2897\n",
      "Epoch [19/50] Loss: 1.3710\n",
      "Epoch [19/50] Loss: 1.4461\n",
      "Epoch [19/50] Loss: 1.3935\n",
      "Epoch [19/50] Loss: 1.1740\n",
      "Epoch [19/50] Loss: 1.3449\n",
      "Epoch [19/50] Loss: 1.2533\n",
      "Epoch [19/50] Loss: 1.1599\n",
      "Epoch [19/50] Loss: 0.8255\n",
      "Epoch [19/50] Loss: 0.9444\n",
      "Epoch [19/50] Loss: 0.6920\n",
      "Epoch [19/50] Loss: 1.1157\n",
      "Epoch [19/50] Loss: 1.4351\n",
      "Epoch [19/50] Loss: 1.2522\n"
     ]
    },
    {
     "name": "stderr",
     "output_type": "stream",
     "text": [
      "1683it [06:43,  4.17it/s]\n"
     ]
    },
    {
     "name": "stdout",
     "output_type": "stream",
     "text": [
      "Overall Acc: \t 0.58245049556\n",
      "Mean Acc : \t 0.234632058704\n",
      "FreqW Acc : \t 0.417258664114\n",
      "Mean IoU : \t 0.171384993173\n",
      "Epoch [20/50] Loss: 0.9489\n",
      "Epoch [20/50] Loss: 1.0855\n",
      "Epoch [20/50] Loss: 1.1470\n",
      "Epoch [20/50] Loss: 1.4112\n",
      "Epoch [20/50] Loss: 0.8832\n",
      "Epoch [20/50] Loss: 1.1880\n",
      "Epoch [20/50] Loss: 1.2307\n",
      "Epoch [20/50] Loss: 0.8179\n",
      "Epoch [20/50] Loss: 1.0790\n",
      "Epoch [20/50] Loss: 1.2012\n",
      "Epoch [20/50] Loss: 1.3406\n",
      "Epoch [20/50] Loss: 1.6403\n",
      "Epoch [20/50] Loss: 1.1591\n",
      "Epoch [20/50] Loss: 0.8596\n",
      "Epoch [20/50] Loss: 1.0108\n",
      "Epoch [20/50] Loss: 1.2703\n",
      "Epoch [20/50] Loss: 1.5450\n"
     ]
    },
    {
     "name": "stderr",
     "output_type": "stream",
     "text": [
      "1683it [06:41,  4.19it/s]\n"
     ]
    },
    {
     "name": "stdout",
     "output_type": "stream",
     "text": [
      "Overall Acc: \t 0.590909183749\n",
      "Mean Acc : \t 0.244140162045\n",
      "FreqW Acc : \t 0.424702340532\n",
      "Mean IoU : \t 0.179292543266\n",
      "Epoch [21/50] Loss: 1.3065\n",
      "Epoch [21/50] Loss: 1.2777\n",
      "Epoch [21/50] Loss: 0.9951\n",
      "Epoch [21/50] Loss: 1.2687\n",
      "Epoch [21/50] Loss: 1.0209\n",
      "Epoch [21/50] Loss: 1.1321\n",
      "Epoch [21/50] Loss: 1.0228\n",
      "Epoch [21/50] Loss: 1.1556\n",
      "Epoch [21/50] Loss: 1.0537\n",
      "Epoch [21/50] Loss: 1.1454\n",
      "Epoch [21/50] Loss: 1.0950\n",
      "Epoch [21/50] Loss: 1.1906\n",
      "Epoch [21/50] Loss: 0.8373\n",
      "Epoch [21/50] Loss: 1.6826\n",
      "Epoch [21/50] Loss: 1.0872\n",
      "Epoch [21/50] Loss: 0.8857\n",
      "Epoch [21/50] Loss: 1.3829\n"
     ]
    },
    {
     "name": "stderr",
     "output_type": "stream",
     "text": [
      "1683it [06:43,  4.17it/s]\n"
     ]
    },
    {
     "name": "stdout",
     "output_type": "stream",
     "text": [
      "Overall Acc: \t 0.590135337108\n",
      "Mean Acc : \t 0.249718579287\n",
      "FreqW Acc : \t 0.42300793296\n",
      "Mean IoU : \t 0.180450259021\n",
      "Epoch [22/50] Loss: 0.9923\n",
      "Epoch [22/50] Loss: 0.7762\n",
      "Epoch [22/50] Loss: 1.3313\n",
      "Epoch [22/50] Loss: 0.9044\n",
      "Epoch [22/50] Loss: 0.6946\n",
      "Epoch [22/50] Loss: 1.1691\n",
      "Epoch [22/50] Loss: 1.2934\n",
      "Epoch [22/50] Loss: 1.0710\n",
      "Epoch [22/50] Loss: 1.3209\n",
      "Epoch [22/50] Loss: 1.1497\n",
      "Epoch [22/50] Loss: 1.0463\n",
      "Epoch [22/50] Loss: 1.2397\n",
      "Epoch [22/50] Loss: 0.6695\n",
      "Epoch [22/50] Loss: 1.3628\n",
      "Epoch [22/50] Loss: 0.9470\n",
      "Epoch [22/50] Loss: 0.7561\n",
      "Epoch [22/50] Loss: 0.8810\n"
     ]
    },
    {
     "name": "stderr",
     "output_type": "stream",
     "text": [
      "1683it [06:42,  4.18it/s]"
     ]
    },
    {
     "name": "stdout",
     "output_type": "stream",
     "text": [
      "Overall Acc: \t 0.593445619646\n",
      "Mean Acc : \t 0.233139719056\n",
      "FreqW Acc : \t 0.421765813491\n",
      "Mean IoU : \t 0.173410964597\n"
     ]
    },
    {
     "name": "stderr",
     "output_type": "stream",
     "text": [
      "\n"
     ]
    },
    {
     "name": "stdout",
     "output_type": "stream",
     "text": [
      "Epoch [23/50] Loss: 1.3231\n",
      "Epoch [23/50] Loss: 1.1371\n",
      "Epoch [23/50] Loss: 1.3839\n",
      "Epoch [23/50] Loss: 1.1476\n",
      "Epoch [23/50] Loss: 0.8115\n",
      "Epoch [23/50] Loss: 0.8442\n",
      "Epoch [23/50] Loss: 1.3605\n",
      "Epoch [23/50] Loss: 1.2912\n",
      "Epoch [23/50] Loss: 1.5349\n",
      "Epoch [23/50] Loss: 0.8528\n",
      "Epoch [23/50] Loss: 0.8012\n",
      "Epoch [23/50] Loss: 1.2973\n",
      "Epoch [23/50] Loss: 0.7765\n",
      "Epoch [23/50] Loss: 1.1578\n",
      "Epoch [23/50] Loss: 0.9334\n",
      "Epoch [23/50] Loss: 0.8315\n",
      "Epoch [23/50] Loss: 1.3838\n"
     ]
    },
    {
     "name": "stderr",
     "output_type": "stream",
     "text": [
      "1683it [06:43,  4.17it/s]"
     ]
    },
    {
     "name": "stdout",
     "output_type": "stream",
     "text": [
      "Overall Acc: \t 0.59585080985\n",
      "Mean Acc : \t 0.23749431004\n",
      "FreqW Acc : \t 0.424839942293\n",
      "Mean IoU : \t 0.177906593261\n"
     ]
    },
    {
     "name": "stderr",
     "output_type": "stream",
     "text": [
      "\n"
     ]
    },
    {
     "name": "stdout",
     "output_type": "stream",
     "text": [
      "Epoch [24/50] Loss: 1.0263\n",
      "Epoch [24/50] Loss: 0.8365\n",
      "Epoch [24/50] Loss: 1.2286\n",
      "Epoch [24/50] Loss: 0.9948\n",
      "Epoch [24/50] Loss: 1.0721\n",
      "Epoch [24/50] Loss: 1.1149\n",
      "Epoch [24/50] Loss: 1.1316\n",
      "Epoch [24/50] Loss: 1.2952\n",
      "Epoch [24/50] Loss: 0.9792\n",
      "Epoch [24/50] Loss: 1.3631\n",
      "Epoch [24/50] Loss: 1.0661\n",
      "Epoch [24/50] Loss: 1.1142\n",
      "Epoch [24/50] Loss: 0.8429\n",
      "Epoch [24/50] Loss: 1.0648\n",
      "Epoch [24/50] Loss: 0.6425\n",
      "Epoch [24/50] Loss: 1.1155\n",
      "Epoch [24/50] Loss: 0.8449\n"
     ]
    },
    {
     "name": "stderr",
     "output_type": "stream",
     "text": [
      "1683it [06:42,  4.18it/s]\n"
     ]
    },
    {
     "name": "stdout",
     "output_type": "stream",
     "text": [
      "Overall Acc: \t 0.592597183023\n",
      "Mean Acc : \t 0.258492684037\n",
      "FreqW Acc : \t 0.427501798949\n",
      "Mean IoU : \t 0.184990273923\n",
      "Epoch [25/50] Loss: 1.1716\n",
      "Epoch [25/50] Loss: 1.1121\n",
      "Epoch [25/50] Loss: 0.8769\n",
      "Epoch [25/50] Loss: 1.1161\n",
      "Epoch [25/50] Loss: 1.1014\n",
      "Epoch [25/50] Loss: 1.3457\n",
      "Epoch [25/50] Loss: 0.8239\n",
      "Epoch [25/50] Loss: 1.0356\n",
      "Epoch [25/50] Loss: 1.3018\n",
      "Epoch [25/50] Loss: 1.4042\n",
      "Epoch [25/50] Loss: 0.9369\n",
      "Epoch [25/50] Loss: 1.6652\n",
      "Epoch [25/50] Loss: 1.1384\n",
      "Epoch [25/50] Loss: 1.0476\n",
      "Epoch [25/50] Loss: 0.8187\n",
      "Epoch [25/50] Loss: 1.4012\n",
      "Epoch [25/50] Loss: 1.1304\n"
     ]
    },
    {
     "name": "stderr",
     "output_type": "stream",
     "text": [
      "1683it [06:43,  4.17it/s]"
     ]
    },
    {
     "name": "stdout",
     "output_type": "stream",
     "text": [
      "Overall Acc: \t 0.59479635574\n",
      "Mean Acc : \t 0.246464695942\n",
      "FreqW Acc : \t 0.425834826587\n",
      "Mean IoU : \t 0.179868243349\n"
     ]
    },
    {
     "name": "stderr",
     "output_type": "stream",
     "text": [
      "\n"
     ]
    },
    {
     "name": "stdout",
     "output_type": "stream",
     "text": [
      "Epoch [26/50] Loss: 1.0643\n",
      "Epoch [26/50] Loss: 1.0628\n",
      "Epoch [26/50] Loss: 1.1724\n",
      "Epoch [26/50] Loss: 0.9823\n",
      "Epoch [26/50] Loss: 1.7090\n",
      "Epoch [26/50] Loss: 0.6971\n",
      "Epoch [26/50] Loss: 1.0078\n",
      "Epoch [26/50] Loss: 0.8751\n",
      "Epoch [26/50] Loss: 1.1398\n",
      "Epoch [26/50] Loss: 0.8178\n",
      "Epoch [26/50] Loss: 0.6234\n",
      "Epoch [26/50] Loss: 1.1466\n",
      "Epoch [26/50] Loss: 0.8418\n",
      "Epoch [26/50] Loss: 1.0605\n",
      "Epoch [26/50] Loss: 0.6812\n",
      "Epoch [26/50] Loss: 0.9733\n",
      "Epoch [26/50] Loss: 1.2415\n"
     ]
    },
    {
     "name": "stderr",
     "output_type": "stream",
     "text": [
      "1683it [06:42,  4.18it/s]"
     ]
    },
    {
     "name": "stdout",
     "output_type": "stream",
     "text": [
      "Overall Acc: \t 0.592418011818\n",
      "Mean Acc : \t 0.238247356713\n",
      "FreqW Acc : \t 0.42009744159\n",
      "Mean IoU : \t 0.176706771026\n"
     ]
    },
    {
     "name": "stderr",
     "output_type": "stream",
     "text": [
      "\n"
     ]
    },
    {
     "name": "stdout",
     "output_type": "stream",
     "text": [
      "Epoch [27/50] Loss: 0.7724\n",
      "Epoch [27/50] Loss: 0.6851\n",
      "Epoch [27/50] Loss: 1.0936\n",
      "Epoch [27/50] Loss: 1.2268\n",
      "Epoch [27/50] Loss: 0.8460\n",
      "Epoch [27/50] Loss: 1.4885\n",
      "Epoch [27/50] Loss: 1.5581\n",
      "Epoch [27/50] Loss: 1.1654\n",
      "Epoch [27/50] Loss: 1.0974\n",
      "Epoch [27/50] Loss: 0.9532\n",
      "Epoch [27/50] Loss: 1.1358\n",
      "Epoch [27/50] Loss: 0.9547\n",
      "Epoch [27/50] Loss: 1.2004\n",
      "Epoch [27/50] Loss: 0.9856\n",
      "Epoch [27/50] Loss: 0.8943\n",
      "Epoch [27/50] Loss: 1.3164\n",
      "Epoch [27/50] Loss: 1.0298\n"
     ]
    },
    {
     "name": "stderr",
     "output_type": "stream",
     "text": [
      "1683it [06:41,  4.19it/s]\n"
     ]
    },
    {
     "name": "stdout",
     "output_type": "stream",
     "text": [
      "Overall Acc: \t 0.593611146571\n",
      "Mean Acc : \t 0.265095280931\n",
      "FreqW Acc : \t 0.423920477823\n",
      "Mean IoU : \t 0.188986549377\n",
      "Epoch [28/50] Loss: 0.9999\n",
      "Epoch [28/50] Loss: 0.7045\n",
      "Epoch [28/50] Loss: 0.7810\n",
      "Epoch [28/50] Loss: 0.6201\n",
      "Epoch [28/50] Loss: 0.8770\n",
      "Epoch [28/50] Loss: 0.8958\n",
      "Epoch [28/50] Loss: 1.7022\n",
      "Epoch [28/50] Loss: 0.8461\n",
      "Epoch [28/50] Loss: 1.4321\n",
      "Epoch [28/50] Loss: 0.9988\n",
      "Epoch [28/50] Loss: 0.8336\n",
      "Epoch [28/50] Loss: 1.1933\n",
      "Epoch [28/50] Loss: 0.9167\n",
      "Epoch [28/50] Loss: 0.7525\n",
      "Epoch [28/50] Loss: 0.7404\n",
      "Epoch [28/50] Loss: 0.9513\n",
      "Epoch [28/50] Loss: 1.2195\n"
     ]
    },
    {
     "name": "stderr",
     "output_type": "stream",
     "text": [
      "1683it [06:41,  4.19it/s]"
     ]
    },
    {
     "name": "stdout",
     "output_type": "stream",
     "text": [
      "Overall Acc: \t 0.596170775747\n",
      "Mean Acc : \t 0.254148996418\n",
      "FreqW Acc : \t 0.425528896977\n",
      "Mean IoU : \t 0.184987550659\n"
     ]
    },
    {
     "name": "stderr",
     "output_type": "stream",
     "text": [
      "\n"
     ]
    },
    {
     "name": "stdout",
     "output_type": "stream",
     "text": [
      "Epoch [29/50] Loss: 1.3170\n",
      "Epoch [29/50] Loss: 1.2930\n",
      "Epoch [29/50] Loss: 0.7993\n",
      "Epoch [29/50] Loss: 1.1047\n",
      "Epoch [29/50] Loss: 0.6432\n",
      "Epoch [29/50] Loss: 0.7878\n",
      "Epoch [29/50] Loss: 1.1585\n",
      "Epoch [29/50] Loss: 1.1385\n",
      "Epoch [29/50] Loss: 1.0847\n",
      "Epoch [29/50] Loss: 1.0872\n",
      "Epoch [29/50] Loss: 0.9461\n",
      "Epoch [29/50] Loss: 1.3800\n",
      "Epoch [29/50] Loss: 1.0162\n",
      "Epoch [29/50] Loss: 0.7346\n",
      "Epoch [29/50] Loss: 1.0424\n",
      "Epoch [29/50] Loss: 0.7884\n",
      "Epoch [29/50] Loss: 1.3375\n"
     ]
    },
    {
     "name": "stderr",
     "output_type": "stream",
     "text": [
      "1683it [06:42,  4.18it/s]"
     ]
    },
    {
     "name": "stdout",
     "output_type": "stream",
     "text": [
      "Overall Acc: \t 0.594634304519\n",
      "Mean Acc : \t 0.258140375632\n",
      "FreqW Acc : \t 0.423151744778\n",
      "Mean IoU : \t 0.1886488031\n"
     ]
    },
    {
     "name": "stderr",
     "output_type": "stream",
     "text": [
      "\n"
     ]
    },
    {
     "name": "stdout",
     "output_type": "stream",
     "text": [
      "Epoch [30/50] Loss: 1.0512\n",
      "Epoch [30/50] Loss: 1.3405\n",
      "Epoch [30/50] Loss: 0.9665\n",
      "Epoch [30/50] Loss: 1.1121\n",
      "Epoch [30/50] Loss: 1.3407\n",
      "Epoch [30/50] Loss: 0.9464\n",
      "Epoch [30/50] Loss: 0.7887\n",
      "Epoch [30/50] Loss: 1.0062\n",
      "Epoch [30/50] Loss: 1.0837\n",
      "Epoch [30/50] Loss: 0.6557\n",
      "Epoch [30/50] Loss: 1.1042\n",
      "Epoch [30/50] Loss: 0.8605\n",
      "Epoch [30/50] Loss: 1.2984\n",
      "Epoch [30/50] Loss: 0.6989\n",
      "Epoch [30/50] Loss: 1.0286\n",
      "Epoch [30/50] Loss: 1.0984\n",
      "Epoch [30/50] Loss: 1.2158\n"
     ]
    },
    {
     "name": "stderr",
     "output_type": "stream",
     "text": [
      "1683it [06:42,  4.18it/s]\n"
     ]
    },
    {
     "name": "stdout",
     "output_type": "stream",
     "text": [
      "Overall Acc: \t 0.59535613101\n",
      "Mean Acc : \t 0.26531064487\n",
      "FreqW Acc : \t 0.428993580992\n",
      "Mean IoU : \t 0.190360294631\n",
      "Epoch [31/50] Loss: 0.8131\n",
      "Epoch [31/50] Loss: 1.0649\n",
      "Epoch [31/50] Loss: 0.7006\n",
      "Epoch [31/50] Loss: 0.8475\n",
      "Epoch [31/50] Loss: 0.9058\n",
      "Epoch [31/50] Loss: 1.3985\n",
      "Epoch [31/50] Loss: 1.0042\n",
      "Epoch [31/50] Loss: 1.2050\n",
      "Epoch [31/50] Loss: 0.9930\n",
      "Epoch [31/50] Loss: 1.4847\n",
      "Epoch [31/50] Loss: 0.9803\n",
      "Epoch [31/50] Loss: 0.9070\n",
      "Epoch [31/50] Loss: 1.5565\n",
      "Epoch [31/50] Loss: 0.7896\n",
      "Epoch [31/50] Loss: 1.0898\n",
      "Epoch [31/50] Loss: 0.9897\n",
      "Epoch [31/50] Loss: 1.1485\n"
     ]
    },
    {
     "name": "stderr",
     "output_type": "stream",
     "text": [
      "1683it [06:42,  4.18it/s]"
     ]
    },
    {
     "name": "stdout",
     "output_type": "stream",
     "text": [
      "Overall Acc: \t 0.598438235629\n",
      "Mean Acc : \t 0.253655523512\n",
      "FreqW Acc : \t 0.429827668525\n",
      "Mean IoU : \t 0.187570597793\n"
     ]
    },
    {
     "name": "stderr",
     "output_type": "stream",
     "text": [
      "\n"
     ]
    },
    {
     "name": "stdout",
     "output_type": "stream",
     "text": [
      "Epoch [32/50] Loss: 0.9657\n",
      "Epoch [32/50] Loss: 0.9866\n",
      "Epoch [32/50] Loss: 1.0020\n",
      "Epoch [32/50] Loss: 1.1166\n",
      "Epoch [32/50] Loss: 0.9056\n",
      "Epoch [32/50] Loss: 1.4777\n",
      "Epoch [32/50] Loss: 0.9040\n",
      "Epoch [32/50] Loss: 0.8215\n",
      "Epoch [32/50] Loss: 0.9121\n",
      "Epoch [32/50] Loss: 0.9217\n",
      "Epoch [32/50] Loss: 1.1021\n",
      "Epoch [32/50] Loss: 1.1366\n",
      "Epoch [32/50] Loss: 1.3612\n",
      "Epoch [32/50] Loss: 1.0262\n",
      "Epoch [32/50] Loss: 0.7210\n",
      "Epoch [32/50] Loss: 0.9608\n",
      "Epoch [32/50] Loss: 1.2163\n"
     ]
    },
    {
     "name": "stderr",
     "output_type": "stream",
     "text": [
      "1683it [06:44,  4.16it/s]\n"
     ]
    },
    {
     "name": "stdout",
     "output_type": "stream",
     "text": [
      "Overall Acc: \t 0.595205442394\n",
      "Mean Acc : \t 0.267215646231\n",
      "FreqW Acc : \t 0.431976880581\n",
      "Mean IoU : \t 0.193623533634\n",
      "Epoch [33/50] Loss: 0.6740\n",
      "Epoch [33/50] Loss: 0.6793\n",
      "Epoch [33/50] Loss: 1.3033\n",
      "Epoch [33/50] Loss: 0.8941\n",
      "Epoch [33/50] Loss: 1.6329\n",
      "Epoch [33/50] Loss: 0.9732\n",
      "Epoch [33/50] Loss: 1.2394\n",
      "Epoch [33/50] Loss: 0.9407\n",
      "Epoch [33/50] Loss: 0.9423\n",
      "Epoch [33/50] Loss: 0.5403\n",
      "Epoch [33/50] Loss: 1.1659\n",
      "Epoch [33/50] Loss: 0.8699\n",
      "Epoch [33/50] Loss: 1.1412\n",
      "Epoch [33/50] Loss: 0.8063\n",
      "Epoch [33/50] Loss: 1.0747\n",
      "Epoch [33/50] Loss: 1.0103\n",
      "Epoch [33/50] Loss: 0.9018\n"
     ]
    },
    {
     "name": "stderr",
     "output_type": "stream",
     "text": [
      "1683it [06:41,  4.19it/s]"
     ]
    },
    {
     "name": "stdout",
     "output_type": "stream",
     "text": [
      "Overall Acc: \t 0.597961834697\n",
      "Mean Acc : \t 0.264382195375\n",
      "FreqW Acc : \t 0.430329577635\n",
      "Mean IoU : \t 0.192690119679\n"
     ]
    },
    {
     "name": "stderr",
     "output_type": "stream",
     "text": [
      "\n"
     ]
    },
    {
     "name": "stdout",
     "output_type": "stream",
     "text": [
      "Epoch [34/50] Loss: 0.7675\n",
      "Epoch [34/50] Loss: 0.7947\n",
      "Epoch [34/50] Loss: 1.2595\n",
      "Epoch [34/50] Loss: 0.8486\n",
      "Epoch [34/50] Loss: 1.1625\n",
      "Epoch [34/50] Loss: 1.0821\n",
      "Epoch [34/50] Loss: 0.8152\n",
      "Epoch [34/50] Loss: 1.2342\n",
      "Epoch [34/50] Loss: 0.7303\n",
      "Epoch [34/50] Loss: 0.8647\n",
      "Epoch [34/50] Loss: 0.7957\n",
      "Epoch [34/50] Loss: 0.7279\n",
      "Epoch [34/50] Loss: 1.1481\n",
      "Epoch [34/50] Loss: 0.6811\n",
      "Epoch [34/50] Loss: 1.2223\n",
      "Epoch [34/50] Loss: 1.2675\n",
      "Epoch [34/50] Loss: 1.3044\n"
     ]
    },
    {
     "name": "stderr",
     "output_type": "stream",
     "text": [
      "1683it [06:41,  4.20it/s]"
     ]
    },
    {
     "name": "stdout",
     "output_type": "stream",
     "text": [
      "Overall Acc: \t 0.599073745265\n",
      "Mean Acc : \t 0.257486644895\n",
      "FreqW Acc : \t 0.432847880417\n",
      "Mean IoU : \t 0.188764016463\n"
     ]
    },
    {
     "name": "stderr",
     "output_type": "stream",
     "text": [
      "\n"
     ]
    },
    {
     "name": "stdout",
     "output_type": "stream",
     "text": [
      "Epoch [35/50] Loss: 0.9589\n",
      "Epoch [35/50] Loss: 1.2989\n",
      "Epoch [35/50] Loss: 0.9173\n",
      "Epoch [35/50] Loss: 0.9446\n",
      "Epoch [35/50] Loss: 0.8726\n",
      "Epoch [35/50] Loss: 0.7191\n",
      "Epoch [35/50] Loss: 0.7860\n",
      "Epoch [35/50] Loss: 0.8310\n",
      "Epoch [35/50] Loss: 0.5938\n",
      "Epoch [35/50] Loss: 0.8134\n",
      "Epoch [35/50] Loss: 0.8775\n",
      "Epoch [35/50] Loss: 0.8638\n",
      "Epoch [35/50] Loss: 0.6846\n",
      "Epoch [35/50] Loss: 1.4456\n",
      "Epoch [35/50] Loss: 1.1871\n",
      "Epoch [35/50] Loss: 1.0983\n",
      "Epoch [35/50] Loss: 1.0966\n"
     ]
    },
    {
     "name": "stderr",
     "output_type": "stream",
     "text": [
      "1683it [06:38,  4.22it/s]\n"
     ]
    },
    {
     "name": "stdout",
     "output_type": "stream",
     "text": [
      "Overall Acc: \t 0.594140653368\n",
      "Mean Acc : \t 0.275583259824\n",
      "FreqW Acc : \t 0.430267442956\n",
      "Mean IoU : \t 0.197414312814\n",
      "Epoch [36/50] Loss: 1.2157\n",
      "Epoch [36/50] Loss: 1.1061\n",
      "Epoch [36/50] Loss: 0.8520\n",
      "Epoch [36/50] Loss: 0.9393\n",
      "Epoch [36/50] Loss: 0.9802\n",
      "Epoch [36/50] Loss: 0.9126\n",
      "Epoch [36/50] Loss: 0.9879\n",
      "Epoch [36/50] Loss: 0.9613\n",
      "Epoch [36/50] Loss: 0.8840\n",
      "Epoch [36/50] Loss: 1.1871\n",
      "Epoch [36/50] Loss: 1.0165\n",
      "Epoch [36/50] Loss: 0.8716\n",
      "Epoch [36/50] Loss: 1.1664\n",
      "Epoch [36/50] Loss: 0.6662\n",
      "Epoch [36/50] Loss: 1.0269\n",
      "Epoch [36/50] Loss: 0.5620\n",
      "Epoch [36/50] Loss: 0.6114\n"
     ]
    },
    {
     "name": "stderr",
     "output_type": "stream",
     "text": [
      "1683it [06:41,  4.20it/s]"
     ]
    },
    {
     "name": "stdout",
     "output_type": "stream",
     "text": [
      "Overall Acc: \t 0.596893375261\n",
      "Mean Acc : \t 0.259042462698\n",
      "FreqW Acc : \t 0.428216404345\n",
      "Mean IoU : \t 0.191297653209\n"
     ]
    },
    {
     "name": "stderr",
     "output_type": "stream",
     "text": [
      "\n"
     ]
    },
    {
     "name": "stdout",
     "output_type": "stream",
     "text": [
      "Epoch [37/50] Loss: 0.9009\n",
      "Epoch [37/50] Loss: 1.1335\n",
      "Epoch [37/50] Loss: 0.9684\n",
      "Epoch [37/50] Loss: 1.5170\n",
      "Epoch [37/50] Loss: 0.8477\n",
      "Epoch [37/50] Loss: 0.5939\n",
      "Epoch [37/50] Loss: 1.0073\n",
      "Epoch [37/50] Loss: 0.5870\n",
      "Epoch [37/50] Loss: 0.9740\n",
      "Epoch [37/50] Loss: 1.1114\n",
      "Epoch [37/50] Loss: 0.9448\n",
      "Epoch [37/50] Loss: 0.8657\n",
      "Epoch [37/50] Loss: 0.9365\n",
      "Epoch [37/50] Loss: 1.0710\n",
      "Epoch [37/50] Loss: 1.0168\n",
      "Epoch [37/50] Loss: 1.3893\n",
      "Epoch [37/50] Loss: 1.4288\n"
     ]
    },
    {
     "name": "stderr",
     "output_type": "stream",
     "text": [
      "1683it [06:39,  4.21it/s]"
     ]
    },
    {
     "name": "stdout",
     "output_type": "stream",
     "text": [
      "Overall Acc: \t 0.595085332363\n",
      "Mean Acc : \t 0.2525080833\n",
      "FreqW Acc : \t 0.429972356357\n",
      "Mean IoU : \t 0.18918976904\n"
     ]
    },
    {
     "name": "stderr",
     "output_type": "stream",
     "text": [
      "\n"
     ]
    },
    {
     "name": "stdout",
     "output_type": "stream",
     "text": [
      "Epoch [38/50] Loss: 0.6309\n",
      "Epoch [38/50] Loss: 0.8992\n",
      "Epoch [38/50] Loss: 0.6540\n",
      "Epoch [38/50] Loss: 1.0326\n",
      "Epoch [38/50] Loss: 1.1318\n",
      "Epoch [38/50] Loss: 1.2424\n",
      "Epoch [38/50] Loss: 1.0657\n",
      "Epoch [38/50] Loss: 0.9119\n",
      "Epoch [38/50] Loss: 1.0426\n",
      "Epoch [38/50] Loss: 0.3882\n",
      "Epoch [38/50] Loss: 0.6441\n",
      "Epoch [38/50] Loss: 0.8338\n",
      "Epoch [38/50] Loss: 1.3492\n",
      "Epoch [38/50] Loss: 0.7095\n",
      "Epoch [38/50] Loss: 0.8189\n",
      "Epoch [38/50] Loss: 1.1805\n",
      "Epoch [38/50] Loss: 0.9575\n"
     ]
    },
    {
     "name": "stderr",
     "output_type": "stream",
     "text": [
      "1683it [06:39,  4.21it/s]"
     ]
    },
    {
     "name": "stdout",
     "output_type": "stream",
     "text": [
      "Overall Acc: \t 0.59924448091\n",
      "Mean Acc : \t 0.265300482625\n",
      "FreqW Acc : \t 0.436557724357\n",
      "Mean IoU : \t 0.195240140149\n"
     ]
    },
    {
     "name": "stderr",
     "output_type": "stream",
     "text": [
      "\n"
     ]
    },
    {
     "name": "stdout",
     "output_type": "stream",
     "text": [
      "Epoch [39/50] Loss: 0.6927\n",
      "Epoch [39/50] Loss: 0.6106\n",
      "Epoch [39/50] Loss: 0.7557\n",
      "Epoch [39/50] Loss: 0.9716\n",
      "Epoch [39/50] Loss: 0.9502\n",
      "Epoch [39/50] Loss: 1.0237\n",
      "Epoch [39/50] Loss: 1.0321\n",
      "Epoch [39/50] Loss: 0.9447\n",
      "Epoch [39/50] Loss: 0.9437\n",
      "Epoch [39/50] Loss: 0.9187\n",
      "Epoch [39/50] Loss: 1.0890\n",
      "Epoch [39/50] Loss: 0.8375\n",
      "Epoch [39/50] Loss: 0.9801\n",
      "Epoch [39/50] Loss: 0.9293\n",
      "Epoch [39/50] Loss: 0.6665\n",
      "Epoch [39/50] Loss: 1.2131\n",
      "Epoch [39/50] Loss: 0.8554\n"
     ]
    },
    {
     "name": "stderr",
     "output_type": "stream",
     "text": [
      "1683it [06:39,  4.22it/s]\n"
     ]
    },
    {
     "name": "stdout",
     "output_type": "stream",
     "text": [
      "Overall Acc: \t 0.593649424443\n",
      "Mean Acc : \t 0.273417708551\n",
      "FreqW Acc : \t 0.434665126679\n",
      "Mean IoU : \t 0.198434299763\n",
      "Epoch [40/50] Loss: 0.6720\n",
      "Epoch [40/50] Loss: 0.9389\n",
      "Epoch [40/50] Loss: 0.7932\n",
      "Epoch [40/50] Loss: 1.2656\n",
      "Epoch [40/50] Loss: 1.1070\n",
      "Epoch [40/50] Loss: 0.7399\n",
      "Epoch [40/50] Loss: 0.7817\n",
      "Epoch [40/50] Loss: 0.8529\n",
      "Epoch [40/50] Loss: 0.6404\n",
      "Epoch [40/50] Loss: 1.0514\n",
      "Epoch [40/50] Loss: 1.0320\n",
      "Epoch [40/50] Loss: 1.0530\n",
      "Epoch [40/50] Loss: 0.6493\n",
      "Epoch [40/50] Loss: 1.0387\n",
      "Epoch [40/50] Loss: 1.0984\n",
      "Epoch [40/50] Loss: 0.9024\n",
      "Epoch [40/50] Loss: 1.0974\n"
     ]
    },
    {
     "name": "stderr",
     "output_type": "stream",
     "text": [
      "1683it [06:40,  4.20it/s]"
     ]
    },
    {
     "name": "stdout",
     "output_type": "stream",
     "text": [
      "Overall Acc: \t 0.59820106253\n",
      "Mean Acc : \t 0.261282981714\n",
      "FreqW Acc : \t 0.430772045637\n",
      "Mean IoU : \t 0.193488948604\n"
     ]
    },
    {
     "name": "stderr",
     "output_type": "stream",
     "text": [
      "\n"
     ]
    },
    {
     "name": "stdout",
     "output_type": "stream",
     "text": [
      "Epoch [41/50] Loss: 0.9868\n",
      "Epoch [41/50] Loss: 1.1750\n",
      "Epoch [41/50] Loss: 0.6181\n",
      "Epoch [41/50] Loss: 0.9738\n",
      "Epoch [41/50] Loss: 0.9903\n",
      "Epoch [41/50] Loss: 0.9377\n",
      "Epoch [41/50] Loss: 0.8723\n",
      "Epoch [41/50] Loss: 0.8406\n",
      "Epoch [41/50] Loss: 0.9195\n",
      "Epoch [41/50] Loss: 0.9398\n",
      "Epoch [41/50] Loss: 0.7672\n",
      "Epoch [41/50] Loss: 0.8412\n",
      "Epoch [41/50] Loss: 0.8129\n",
      "Epoch [41/50] Loss: 1.1299\n",
      "Epoch [41/50] Loss: 1.1706\n",
      "Epoch [41/50] Loss: 0.4503\n",
      "Epoch [41/50] Loss: 0.4697\n"
     ]
    },
    {
     "name": "stderr",
     "output_type": "stream",
     "text": [
      "1683it [06:39,  4.21it/s]"
     ]
    },
    {
     "name": "stdout",
     "output_type": "stream",
     "text": [
      "Overall Acc: \t 0.595796417117\n",
      "Mean Acc : \t 0.268494958507\n",
      "FreqW Acc : \t 0.432751511698\n",
      "Mean IoU : \t 0.1956196189\n"
     ]
    },
    {
     "name": "stderr",
     "output_type": "stream",
     "text": [
      "\n"
     ]
    },
    {
     "name": "stdout",
     "output_type": "stream",
     "text": [
      "Epoch [42/50] Loss: 1.0007\n",
      "Epoch [42/50] Loss: 0.6950\n",
      "Epoch [42/50] Loss: 0.9598\n",
      "Epoch [42/50] Loss: 0.8547\n",
      "Epoch [42/50] Loss: 0.8634\n",
      "Epoch [42/50] Loss: 0.9638\n",
      "Epoch [42/50] Loss: 0.8518\n",
      "Epoch [42/50] Loss: 0.4754\n",
      "Epoch [42/50] Loss: 0.7404\n",
      "Epoch [42/50] Loss: 0.8407\n",
      "Epoch [42/50] Loss: 0.7572\n",
      "Epoch [42/50] Loss: 1.0285\n",
      "Epoch [42/50] Loss: 0.6957\n",
      "Epoch [42/50] Loss: 0.7127\n",
      "Epoch [42/50] Loss: 0.7954\n",
      "Epoch [42/50] Loss: 1.0277\n",
      "Epoch [42/50] Loss: 0.8933\n"
     ]
    },
    {
     "name": "stderr",
     "output_type": "stream",
     "text": [
      "1683it [06:39,  4.22it/s]"
     ]
    },
    {
     "name": "stdout",
     "output_type": "stream",
     "text": [
      "Overall Acc: \t 0.597388978634\n",
      "Mean Acc : \t 0.268029479538\n",
      "FreqW Acc : \t 0.431924401725\n",
      "Mean IoU : \t 0.19740225434\n"
     ]
    },
    {
     "name": "stderr",
     "output_type": "stream",
     "text": [
      "\n"
     ]
    },
    {
     "name": "stdout",
     "output_type": "stream",
     "text": [
      "Epoch [43/50] Loss: 1.0560\n",
      "Epoch [43/50] Loss: 0.9760\n",
      "Epoch [43/50] Loss: 0.8548\n",
      "Epoch [43/50] Loss: 0.6877\n",
      "Epoch [43/50] Loss: 0.6261\n",
      "Epoch [43/50] Loss: 0.9893\n",
      "Epoch [43/50] Loss: 0.7559\n",
      "Epoch [43/50] Loss: 0.7924\n",
      "Epoch [43/50] Loss: 0.8966\n",
      "Epoch [43/50] Loss: 0.9125\n",
      "Epoch [43/50] Loss: 0.8440\n",
      "Epoch [43/50] Loss: 0.6413\n",
      "Epoch [43/50] Loss: 0.8733\n",
      "Epoch [43/50] Loss: 0.7388\n",
      "Epoch [43/50] Loss: 0.8312\n",
      "Epoch [43/50] Loss: 0.8252\n",
      "Epoch [43/50] Loss: 0.8939\n"
     ]
    },
    {
     "name": "stderr",
     "output_type": "stream",
     "text": [
      "1683it [06:38,  4.22it/s]"
     ]
    },
    {
     "name": "stdout",
     "output_type": "stream",
     "text": [
      "Overall Acc: \t 0.596215633665\n",
      "Mean Acc : \t 0.268155951004\n",
      "FreqW Acc : \t 0.433711220222\n",
      "Mean IoU : \t 0.194831605642\n"
     ]
    },
    {
     "name": "stderr",
     "output_type": "stream",
     "text": [
      "\n"
     ]
    },
    {
     "name": "stdout",
     "output_type": "stream",
     "text": [
      "Epoch [44/50] Loss: 1.1028\n",
      "Epoch [44/50] Loss: 0.8640\n",
      "Epoch [44/50] Loss: 1.0197\n",
      "Epoch [44/50] Loss: 0.8416\n",
      "Epoch [44/50] Loss: 0.8746\n",
      "Epoch [44/50] Loss: 0.8504\n",
      "Epoch [44/50] Loss: 0.7346\n",
      "Epoch [44/50] Loss: 0.6972\n",
      "Epoch [44/50] Loss: 0.9618\n",
      "Epoch [44/50] Loss: 0.6321\n",
      "Epoch [44/50] Loss: 0.7317\n",
      "Epoch [44/50] Loss: 0.6817\n",
      "Epoch [44/50] Loss: 1.4376\n",
      "Epoch [44/50] Loss: 0.8248\n",
      "Epoch [44/50] Loss: 0.6132\n",
      "Epoch [44/50] Loss: 1.2240\n",
      "Epoch [44/50] Loss: 0.9593\n"
     ]
    },
    {
     "name": "stderr",
     "output_type": "stream",
     "text": [
      "1683it [06:40,  4.20it/s]\n"
     ]
    },
    {
     "name": "stdout",
     "output_type": "stream",
     "text": [
      "Overall Acc: \t 0.595536356983\n",
      "Mean Acc : \t 0.277287178197\n",
      "FreqW Acc : \t 0.432809634251\n",
      "Mean IoU : \t 0.200988595425\n",
      "Epoch [45/50] Loss: 0.6754\n",
      "Epoch [45/50] Loss: 0.8932\n",
      "Epoch [45/50] Loss: 0.9079\n",
      "Epoch [45/50] Loss: 0.6613\n",
      "Epoch [45/50] Loss: 0.7316\n",
      "Epoch [45/50] Loss: 0.9832\n",
      "Epoch [45/50] Loss: 0.7562\n",
      "Epoch [45/50] Loss: 0.8820\n",
      "Epoch [45/50] Loss: 0.9166\n",
      "Epoch [45/50] Loss: 0.8801\n",
      "Epoch [45/50] Loss: 1.0334\n",
      "Epoch [45/50] Loss: 0.9289\n",
      "Epoch [45/50] Loss: 0.6138\n",
      "Epoch [45/50] Loss: 1.4183\n",
      "Epoch [45/50] Loss: 0.9330\n",
      "Epoch [45/50] Loss: 0.9950\n",
      "Epoch [45/50] Loss: 0.7364\n"
     ]
    },
    {
     "name": "stderr",
     "output_type": "stream",
     "text": [
      "1683it [06:41,  4.19it/s]\n"
     ]
    },
    {
     "name": "stdout",
     "output_type": "stream",
     "text": [
      "Overall Acc: \t 0.595124479966\n",
      "Mean Acc : \t 0.282322495808\n",
      "FreqW Acc : \t 0.435482667642\n",
      "Mean IoU : \t 0.203326478888\n",
      "Epoch [46/50] Loss: 1.1589\n",
      "Epoch [46/50] Loss: 0.9035\n",
      "Epoch [46/50] Loss: 1.0157\n",
      "Epoch [46/50] Loss: 0.9576\n",
      "Epoch [46/50] Loss: 0.8364\n",
      "Epoch [46/50] Loss: 0.9025\n",
      "Epoch [46/50] Loss: 1.1631\n",
      "Epoch [46/50] Loss: 0.9994\n",
      "Epoch [46/50] Loss: 0.6984\n",
      "Epoch [46/50] Loss: 0.7809\n",
      "Epoch [46/50] Loss: 0.9448\n",
      "Epoch [46/50] Loss: 1.2548\n",
      "Epoch [46/50] Loss: 0.8829\n",
      "Epoch [46/50] Loss: 0.6124\n",
      "Epoch [46/50] Loss: 0.6891\n",
      "Epoch [46/50] Loss: 0.9471\n",
      "Epoch [46/50] Loss: 0.7499\n"
     ]
    },
    {
     "name": "stderr",
     "output_type": "stream",
     "text": [
      "1683it [06:39,  4.21it/s]\n"
     ]
    },
    {
     "name": "stdout",
     "output_type": "stream",
     "text": [
      "Overall Acc: \t 0.596685081901\n",
      "Mean Acc : \t 0.284999441125\n",
      "FreqW Acc : \t 0.435013080656\n",
      "Mean IoU : \t 0.205847854503\n",
      "Epoch [47/50] Loss: 1.1251\n",
      "Epoch [47/50] Loss: 0.7796\n",
      "Epoch [47/50] Loss: 0.7453\n",
      "Epoch [47/50] Loss: 0.8678\n",
      "Epoch [47/50] Loss: 0.9335\n",
      "Epoch [47/50] Loss: 1.1618\n",
      "Epoch [47/50] Loss: 0.8686\n",
      "Epoch [47/50] Loss: 0.9266\n",
      "Epoch [47/50] Loss: 0.6220\n",
      "Epoch [47/50] Loss: 0.7546\n",
      "Epoch [47/50] Loss: 0.6141\n",
      "Epoch [47/50] Loss: 1.1502\n",
      "Epoch [47/50] Loss: 0.6433\n",
      "Epoch [47/50] Loss: 0.8581\n",
      "Epoch [47/50] Loss: 0.8750\n",
      "Epoch [47/50] Loss: 0.8957\n",
      "Epoch [47/50] Loss: 1.0417\n"
     ]
    },
    {
     "name": "stderr",
     "output_type": "stream",
     "text": [
      "1683it [06:40,  4.21it/s]"
     ]
    },
    {
     "name": "stdout",
     "output_type": "stream",
     "text": [
      "Overall Acc: \t 0.596548584935\n",
      "Mean Acc : \t 0.270906256349\n",
      "FreqW Acc : \t 0.428570892946\n",
      "Mean IoU : \t 0.198663740333\n"
     ]
    },
    {
     "name": "stderr",
     "output_type": "stream",
     "text": [
      "\n"
     ]
    },
    {
     "name": "stdout",
     "output_type": "stream",
     "text": [
      "Epoch [48/50] Loss: 0.8663\n",
      "Epoch [48/50] Loss: 1.0621\n",
      "Epoch [48/50] Loss: 1.0290\n",
      "Epoch [48/50] Loss: 1.0147\n",
      "Epoch [48/50] Loss: 0.5629\n",
      "Epoch [48/50] Loss: 1.0384\n",
      "Epoch [48/50] Loss: 0.5760\n",
      "Epoch [48/50] Loss: 0.8500\n",
      "Epoch [48/50] Loss: 0.5939\n",
      "Epoch [48/50] Loss: 1.0139\n",
      "Epoch [48/50] Loss: 0.7066\n",
      "Epoch [48/50] Loss: 0.7596\n",
      "Epoch [48/50] Loss: 0.8504\n",
      "Epoch [48/50] Loss: 0.7681\n",
      "Epoch [48/50] Loss: 0.8012\n",
      "Epoch [48/50] Loss: 0.5984\n",
      "Epoch [48/50] Loss: 0.9198\n"
     ]
    },
    {
     "name": "stderr",
     "output_type": "stream",
     "text": [
      "1683it [06:40,  4.20it/s]"
     ]
    },
    {
     "name": "stdout",
     "output_type": "stream",
     "text": [
      "Overall Acc: \t 0.595939100848\n",
      "Mean Acc : \t 0.265737118638\n",
      "FreqW Acc : \t 0.432616938272\n",
      "Mean IoU : \t 0.197775591214\n"
     ]
    },
    {
     "name": "stderr",
     "output_type": "stream",
     "text": [
      "\n"
     ]
    },
    {
     "name": "stdout",
     "output_type": "stream",
     "text": [
      "Epoch [49/50] Loss: 0.8654\n",
      "Epoch [49/50] Loss: 0.8081\n",
      "Epoch [49/50] Loss: 0.5989\n",
      "Epoch [49/50] Loss: 0.8152\n",
      "Epoch [49/50] Loss: 1.1049\n",
      "Epoch [49/50] Loss: 0.6723\n",
      "Epoch [49/50] Loss: 0.9918\n",
      "Epoch [49/50] Loss: 0.6890\n",
      "Epoch [49/50] Loss: 0.9896\n",
      "Epoch [49/50] Loss: 0.7082\n",
      "Epoch [49/50] Loss: 0.6723\n",
      "Epoch [49/50] Loss: 0.7465\n",
      "Epoch [49/50] Loss: 0.8422\n",
      "Epoch [49/50] Loss: 0.3774\n",
      "Epoch [49/50] Loss: 0.8473\n",
      "Epoch [49/50] Loss: 0.7981\n",
      "Epoch [49/50] Loss: 0.9358\n"
     ]
    },
    {
     "name": "stderr",
     "output_type": "stream",
     "text": [
      "1683it [06:40,  4.20it/s]"
     ]
    },
    {
     "name": "stdout",
     "output_type": "stream",
     "text": [
      "Overall Acc: \t 0.595915472381\n",
      "Mean Acc : \t 0.279923044014\n",
      "FreqW Acc : \t 0.433155771443\n",
      "Mean IoU : \t 0.203634896233\n"
     ]
    },
    {
     "name": "stderr",
     "output_type": "stream",
     "text": [
      "\n"
     ]
    },
    {
     "name": "stdout",
     "output_type": "stream",
     "text": [
      "Epoch [50/50] Loss: 0.6486\n",
      "Epoch [50/50] Loss: 0.6982\n",
      "Epoch [50/50] Loss: 0.8258\n",
      "Epoch [50/50] Loss: 0.8845\n",
      "Epoch [50/50] Loss: 0.5496\n",
      "Epoch [50/50] Loss: 0.6695\n",
      "Epoch [50/50] Loss: 0.5790\n",
      "Epoch [50/50] Loss: 0.5490\n",
      "Epoch [50/50] Loss: 0.8968\n",
      "Epoch [50/50] Loss: 0.6816\n",
      "Epoch [50/50] Loss: 0.8140\n",
      "Epoch [50/50] Loss: 0.4668\n",
      "Epoch [50/50] Loss: 0.8659\n",
      "Epoch [50/50] Loss: 1.0316\n",
      "Epoch [50/50] Loss: 1.1996\n",
      "Epoch [50/50] Loss: 0.8018\n",
      "Epoch [50/50] Loss: 0.6807\n"
     ]
    },
    {
     "name": "stderr",
     "output_type": "stream",
     "text": [
      "1683it [06:40,  4.20it/s]"
     ]
    },
    {
     "name": "stdout",
     "output_type": "stream",
     "text": [
      "Overall Acc: \t 0.597306285125\n",
      "Mean Acc : \t 0.269263972576\n",
      "FreqW Acc : \t 0.431293021004\n",
      "Mean IoU : \t 0.197802806767\n"
     ]
    },
    {
     "name": "stderr",
     "output_type": "stream",
     "text": [
      "\n"
     ]
    }
   ],
   "source": [
    "from utils import *\n",
    "\n",
    "arg_str = '--gpu_idx 2 ' \\\n",
    "          '--arch FCN_RGBD_renet ' \\\n",
    "          '--input_type RGBD ' \\\n",
    "          '--dataset SUNRGBD ' \\\n",
    "          '--batch_size 3 ' \\\n",
    "          '--n_epoch 50'\n",
    "\n",
    "trainer = trainer(arg_str)\n",
    "trainer.model_init()\n",
    "trainer.training()"
   ]
  },
  {
   "cell_type": "code",
   "execution_count": null,
   "metadata": {},
   "outputs": [],
   "source": []
  }
 ],
 "metadata": {
  "kernelspec": {
   "display_name": "Python [conda env:pytorch]",
   "language": "python",
   "name": "conda-env-pytorch-py"
  },
  "language_info": {
   "codemirror_mode": {
    "name": "ipython",
    "version": 3
   },
   "file_extension": ".py",
   "mimetype": "text/x-python",
   "name": "python",
   "nbconvert_exporter": "python",
   "pygments_lexer": "ipython3",
   "version": "3.6.3"
  }
 },
 "nbformat": 4,
 "nbformat_minor": 2
}
