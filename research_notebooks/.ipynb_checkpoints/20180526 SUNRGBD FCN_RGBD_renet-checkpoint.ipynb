{
 "cells": [
  {
   "cell_type": "markdown",
   "metadata": {},
   "source": [
    "## 2018년 05월 21일 22시 00분 37초에 추가 ##\n",
    "- Training FCN_RGBD on SUNRGBD"
   ]
  },
  {
   "cell_type": "code",
   "execution_count": 1,
   "metadata": {},
   "outputs": [
    {
     "name": "stderr",
     "output_type": "stream",
     "text": [
      "/home/dongwonshin/.conda/envs/pytorch/lib/python3.6/site-packages/torch/nn/functional.py:1462: UserWarning: nn.functional.upsample_bilinear is deprecated. Use nn.functional.upsample instead.\n",
      "  warnings.warn(\"nn.functional.upsample_bilinear is deprecated. Use nn.functional.upsample instead.\")\n"
     ]
    },
    {
     "name": "stdout",
     "output_type": "stream",
     "text": [
      "Epoch [1/50] Loss: 2.7484\n",
      "Epoch [1/50] Loss: 2.5039\n",
      "Epoch [1/50] Loss: 2.5501\n",
      "Epoch [1/50] Loss: 2.6841\n",
      "Epoch [1/50] Loss: 2.3068\n",
      "Epoch [1/50] Loss: 1.8198\n",
      "Epoch [1/50] Loss: 2.1487\n",
      "Epoch [1/50] Loss: 1.6680\n",
      "Epoch [1/50] Loss: 1.5189\n",
      "Epoch [1/50] Loss: 2.0033\n",
      "Epoch [1/50] Loss: 2.3168\n",
      "Epoch [1/50] Loss: 2.2118\n",
      "Epoch [1/50] Loss: 2.7226\n",
      "Epoch [1/50] Loss: 1.8205\n",
      "Epoch [1/50] Loss: 1.4618\n",
      "Epoch [1/50] Loss: 2.4428\n",
      "Epoch [1/50] Loss: 1.5526\n"
     ]
    },
    {
     "name": "stderr",
     "output_type": "stream",
     "text": [
      "1683it [05:13,  5.37it/s]\n"
     ]
    },
    {
     "name": "stdout",
     "output_type": "stream",
     "text": [
      "Overall Acc: \t 0.479301388064\n",
      "Mean Acc : \t 0.0721016647493\n",
      "FreqW Acc : \t 0.284858621909\n",
      "Mean IoU : \t 0.046029210776\n",
      "Epoch [2/50] Loss: 2.4172\n",
      "Epoch [2/50] Loss: 2.0093\n",
      "Epoch [2/50] Loss: 1.0541\n",
      "Epoch [2/50] Loss: 1.4361\n",
      "Epoch [2/50] Loss: 2.4112\n",
      "Epoch [2/50] Loss: 1.5407\n",
      "Epoch [2/50] Loss: 1.5339\n",
      "Epoch [2/50] Loss: 1.5342\n",
      "Epoch [2/50] Loss: 1.4796\n",
      "Epoch [2/50] Loss: 1.3373\n",
      "Epoch [2/50] Loss: 1.9694\n",
      "Epoch [2/50] Loss: 1.5696\n",
      "Epoch [2/50] Loss: 2.2133\n",
      "Epoch [2/50] Loss: 1.0768\n",
      "Epoch [2/50] Loss: 2.2320\n",
      "Epoch [2/50] Loss: 1.7262\n",
      "Epoch [2/50] Loss: 1.7373\n"
     ]
    },
    {
     "name": "stderr",
     "output_type": "stream",
     "text": [
      "1683it [05:14,  5.36it/s]\n"
     ]
    },
    {
     "name": "stdout",
     "output_type": "stream",
     "text": [
      "Overall Acc: \t 0.506176194002\n",
      "Mean Acc : \t 0.0867847139397\n",
      "FreqW Acc : \t 0.311991859797\n",
      "Mean IoU : \t 0.0579662913515\n",
      "Epoch [3/50] Loss: 2.2080\n",
      "Epoch [3/50] Loss: 1.4413\n",
      "Epoch [3/50] Loss: 1.4706\n",
      "Epoch [3/50] Loss: 1.6866\n",
      "Epoch [3/50] Loss: 1.5866\n",
      "Epoch [3/50] Loss: 1.1313\n",
      "Epoch [3/50] Loss: 1.5990\n",
      "Epoch [3/50] Loss: 1.9930\n",
      "Epoch [3/50] Loss: 1.1711\n",
      "Epoch [3/50] Loss: 2.3683\n",
      "Epoch [3/50] Loss: 1.6811\n",
      "Epoch [3/50] Loss: 1.8751\n",
      "Epoch [3/50] Loss: 1.4418\n",
      "Epoch [3/50] Loss: 1.7968\n",
      "Epoch [3/50] Loss: 1.8455\n",
      "Epoch [3/50] Loss: 1.3522\n",
      "Epoch [3/50] Loss: 1.7673\n"
     ]
    },
    {
     "name": "stderr",
     "output_type": "stream",
     "text": [
      "1683it [05:16,  5.32it/s]\n"
     ]
    },
    {
     "name": "stdout",
     "output_type": "stream",
     "text": [
      "Overall Acc: \t 0.531285492667\n",
      "Mean Acc : \t 0.113817071777\n",
      "FreqW Acc : \t 0.349644551026\n",
      "Mean IoU : \t 0.079676078133\n",
      "Epoch [4/50] Loss: 1.0718\n",
      "Epoch [4/50] Loss: 1.5186\n",
      "Epoch [4/50] Loss: 1.2350\n",
      "Epoch [4/50] Loss: 1.9731\n",
      "Epoch [4/50] Loss: 1.4122\n",
      "Epoch [4/50] Loss: 1.5979\n",
      "Epoch [4/50] Loss: 1.1214\n",
      "Epoch [4/50] Loss: 1.5019\n",
      "Epoch [4/50] Loss: 1.5054\n",
      "Epoch [4/50] Loss: 1.7006\n",
      "Epoch [4/50] Loss: 2.0163\n",
      "Epoch [4/50] Loss: 1.4140\n",
      "Epoch [4/50] Loss: 0.7626\n",
      "Epoch [4/50] Loss: 1.4529\n",
      "Epoch [4/50] Loss: 1.6966\n",
      "Epoch [4/50] Loss: 1.1196\n",
      "Epoch [4/50] Loss: 1.5760\n"
     ]
    },
    {
     "name": "stderr",
     "output_type": "stream",
     "text": [
      "1683it [05:15,  5.33it/s]\n"
     ]
    },
    {
     "name": "stdout",
     "output_type": "stream",
     "text": [
      "Overall Acc: \t 0.536642728732\n",
      "Mean Acc : \t 0.128427286034\n",
      "FreqW Acc : \t 0.353253955529\n",
      "Mean IoU : \t 0.0898564416938\n",
      "Epoch [5/50] Loss: 1.6686\n",
      "Epoch [5/50] Loss: 1.6883\n",
      "Epoch [5/50] Loss: 1.5320\n",
      "Epoch [5/50] Loss: 1.7690\n",
      "Epoch [5/50] Loss: 1.5550\n",
      "Epoch [5/50] Loss: 1.4614\n",
      "Epoch [5/50] Loss: 1.9619\n",
      "Epoch [5/50] Loss: 1.4653\n",
      "Epoch [5/50] Loss: 1.9050\n",
      "Epoch [5/50] Loss: 1.1352\n",
      "Epoch [5/50] Loss: 1.5998\n",
      "Epoch [5/50] Loss: 1.5261\n",
      "Epoch [5/50] Loss: 1.3091\n",
      "Epoch [5/50] Loss: 1.1908\n",
      "Epoch [5/50] Loss: 1.9694\n",
      "Epoch [5/50] Loss: 1.2577\n",
      "Epoch [5/50] Loss: 1.3907\n"
     ]
    },
    {
     "name": "stderr",
     "output_type": "stream",
     "text": [
      "1683it [05:13,  5.37it/s]\n"
     ]
    },
    {
     "name": "stdout",
     "output_type": "stream",
     "text": [
      "Overall Acc: \t 0.546330702604\n",
      "Mean Acc : \t 0.137271799431\n",
      "FreqW Acc : \t 0.367217639237\n",
      "Mean IoU : \t 0.0985580034691\n",
      "Epoch [6/50] Loss: 1.2526\n",
      "Epoch [6/50] Loss: 1.5463\n",
      "Epoch [6/50] Loss: 2.0055\n",
      "Epoch [6/50] Loss: 1.6780\n",
      "Epoch [6/50] Loss: 1.8071\n",
      "Epoch [6/50] Loss: 1.2430\n",
      "Epoch [6/50] Loss: 1.2985\n",
      "Epoch [6/50] Loss: 1.5636\n",
      "Epoch [6/50] Loss: 2.4847\n",
      "Epoch [6/50] Loss: 1.0878\n",
      "Epoch [6/50] Loss: 1.1509\n",
      "Epoch [6/50] Loss: 1.3968\n",
      "Epoch [6/50] Loss: 1.0255\n",
      "Epoch [6/50] Loss: 1.2887\n",
      "Epoch [6/50] Loss: 1.1939\n",
      "Epoch [6/50] Loss: 1.2706\n",
      "Epoch [6/50] Loss: 1.3609\n"
     ]
    },
    {
     "name": "stderr",
     "output_type": "stream",
     "text": [
      "1683it [05:13,  5.37it/s]\n"
     ]
    },
    {
     "name": "stdout",
     "output_type": "stream",
     "text": [
      "Overall Acc: \t 0.552623129915\n",
      "Mean Acc : \t 0.15163746922\n",
      "FreqW Acc : \t 0.372687680797\n",
      "Mean IoU : \t 0.108303659931\n",
      "Epoch [7/50] Loss: 1.0590\n",
      "Epoch [7/50] Loss: 1.3854\n",
      "Epoch [7/50] Loss: 1.6453\n",
      "Epoch [7/50] Loss: 1.6761\n",
      "Epoch [7/50] Loss: 1.3796\n",
      "Epoch [7/50] Loss: 1.4481\n",
      "Epoch [7/50] Loss: 1.2081\n",
      "Epoch [7/50] Loss: 1.3217\n",
      "Epoch [7/50] Loss: 1.0970\n",
      "Epoch [7/50] Loss: 1.3589\n",
      "Epoch [7/50] Loss: 1.6884\n",
      "Epoch [7/50] Loss: 1.4567\n",
      "Epoch [7/50] Loss: 1.5954\n",
      "Epoch [7/50] Loss: 1.2177\n",
      "Epoch [7/50] Loss: 1.5000\n",
      "Epoch [7/50] Loss: 1.3845\n",
      "Epoch [7/50] Loss: 1.7744\n"
     ]
    },
    {
     "name": "stderr",
     "output_type": "stream",
     "text": [
      "1683it [05:12,  5.38it/s]\n"
     ]
    },
    {
     "name": "stdout",
     "output_type": "stream",
     "text": [
      "Overall Acc: \t 0.557942485904\n",
      "Mean Acc : \t 0.160326911927\n",
      "FreqW Acc : \t 0.382073798934\n",
      "Mean IoU : \t 0.117141496802\n",
      "Epoch [8/50] Loss: 1.8573\n",
      "Epoch [8/50] Loss: 2.0832\n",
      "Epoch [8/50] Loss: 1.7630\n",
      "Epoch [8/50] Loss: 1.5068\n",
      "Epoch [8/50] Loss: 2.0111\n",
      "Epoch [8/50] Loss: 1.0914\n",
      "Epoch [8/50] Loss: 1.2342\n",
      "Epoch [8/50] Loss: 1.5425\n",
      "Epoch [8/50] Loss: 1.3297\n",
      "Epoch [8/50] Loss: 1.0000\n",
      "Epoch [8/50] Loss: 1.0483\n",
      "Epoch [8/50] Loss: 1.1013\n",
      "Epoch [8/50] Loss: 0.9184\n",
      "Epoch [8/50] Loss: 1.4331\n",
      "Epoch [8/50] Loss: 1.0622\n",
      "Epoch [8/50] Loss: 1.4722\n",
      "Epoch [8/50] Loss: 1.8051\n"
     ]
    },
    {
     "name": "stderr",
     "output_type": "stream",
     "text": [
      "1683it [05:14,  5.35it/s]\n"
     ]
    },
    {
     "name": "stdout",
     "output_type": "stream",
     "text": [
      "Overall Acc: \t 0.561748556206\n",
      "Mean Acc : \t 0.170990868234\n",
      "FreqW Acc : \t 0.385988514246\n",
      "Mean IoU : \t 0.125435060058\n",
      "Epoch [9/50] Loss: 1.2019\n",
      "Epoch [9/50] Loss: 1.1889\n",
      "Epoch [9/50] Loss: 1.0157\n",
      "Epoch [9/50] Loss: 1.7467\n",
      "Epoch [9/50] Loss: 1.0416\n",
      "Epoch [9/50] Loss: 0.8817\n",
      "Epoch [9/50] Loss: 1.3974\n",
      "Epoch [9/50] Loss: 1.3128\n",
      "Epoch [9/50] Loss: 1.7017\n",
      "Epoch [9/50] Loss: 1.0463\n",
      "Epoch [9/50] Loss: 1.5792\n",
      "Epoch [9/50] Loss: 1.1759\n",
      "Epoch [9/50] Loss: 1.3545\n",
      "Epoch [9/50] Loss: 1.0626\n",
      "Epoch [9/50] Loss: 1.2622\n",
      "Epoch [9/50] Loss: 1.4701\n",
      "Epoch [9/50] Loss: 1.2312\n"
     ]
    },
    {
     "name": "stderr",
     "output_type": "stream",
     "text": [
      "1683it [05:12,  5.38it/s]\n"
     ]
    },
    {
     "name": "stdout",
     "output_type": "stream",
     "text": [
      "Overall Acc: \t 0.561841032749\n",
      "Mean Acc : \t 0.186913751766\n",
      "FreqW Acc : \t 0.385548969227\n",
      "Mean IoU : \t 0.135512203245\n",
      "Epoch [10/50] Loss: 1.8104\n",
      "Epoch [10/50] Loss: 1.8130\n",
      "Epoch [10/50] Loss: 1.6716\n",
      "Epoch [10/50] Loss: 1.2498\n",
      "Epoch [10/50] Loss: 2.0237\n",
      "Epoch [10/50] Loss: 0.9228\n",
      "Epoch [10/50] Loss: 1.2226\n",
      "Epoch [10/50] Loss: 1.0521\n",
      "Epoch [10/50] Loss: 1.2433\n",
      "Epoch [10/50] Loss: 2.0923\n",
      "Epoch [10/50] Loss: 1.5270\n",
      "Epoch [10/50] Loss: 0.7193\n",
      "Epoch [10/50] Loss: 1.3639\n",
      "Epoch [10/50] Loss: 1.3880\n",
      "Epoch [10/50] Loss: 2.0056\n",
      "Epoch [10/50] Loss: 1.5121\n",
      "Epoch [10/50] Loss: 1.0439\n"
     ]
    },
    {
     "name": "stderr",
     "output_type": "stream",
     "text": [
      "1683it [05:13,  5.37it/s]\n"
     ]
    },
    {
     "name": "stdout",
     "output_type": "stream",
     "text": [
      "Overall Acc: \t 0.564178922213\n",
      "Mean Acc : \t 0.186872683972\n",
      "FreqW Acc : \t 0.390172659419\n",
      "Mean IoU : \t 0.137647364973\n",
      "Epoch [11/50] Loss: 1.4410\n",
      "Epoch [11/50] Loss: 1.5140\n",
      "Epoch [11/50] Loss: 1.4144\n",
      "Epoch [11/50] Loss: 1.3524\n",
      "Epoch [11/50] Loss: 0.9072\n",
      "Epoch [11/50] Loss: 1.4052\n",
      "Epoch [11/50] Loss: 1.2300\n",
      "Epoch [11/50] Loss: 1.5259\n",
      "Epoch [11/50] Loss: 1.3997\n",
      "Epoch [11/50] Loss: 1.3379\n",
      "Epoch [11/50] Loss: 2.0054\n",
      "Epoch [11/50] Loss: 1.2057\n",
      "Epoch [11/50] Loss: 1.2853\n",
      "Epoch [11/50] Loss: 1.3722\n",
      "Epoch [11/50] Loss: 1.0958\n",
      "Epoch [11/50] Loss: 1.0767\n",
      "Epoch [11/50] Loss: 1.5251\n"
     ]
    },
    {
     "name": "stderr",
     "output_type": "stream",
     "text": [
      "1683it [05:14,  5.36it/s]"
     ]
    },
    {
     "name": "stdout",
     "output_type": "stream",
     "text": [
      "Overall Acc: \t 0.569368257483\n",
      "Mean Acc : \t 0.180819095881\n",
      "FreqW Acc : \t 0.394009960747\n",
      "Mean IoU : \t 0.135896674688\n"
     ]
    },
    {
     "name": "stderr",
     "output_type": "stream",
     "text": [
      "\n"
     ]
    },
    {
     "name": "stdout",
     "output_type": "stream",
     "text": [
      "Epoch [12/50] Loss: 0.9803\n",
      "Epoch [12/50] Loss: 1.2380\n",
      "Epoch [12/50] Loss: 1.6423\n",
      "Epoch [12/50] Loss: 1.0986\n",
      "Epoch [12/50] Loss: 1.0583\n",
      "Epoch [12/50] Loss: 1.1810\n",
      "Epoch [12/50] Loss: 1.2476\n",
      "Epoch [12/50] Loss: 1.2182\n",
      "Epoch [12/50] Loss: 0.9058\n",
      "Epoch [12/50] Loss: 1.7622\n",
      "Epoch [12/50] Loss: 1.4432\n",
      "Epoch [12/50] Loss: 1.3154\n",
      "Epoch [12/50] Loss: 0.8377\n",
      "Epoch [12/50] Loss: 1.1698\n",
      "Epoch [12/50] Loss: 1.9143\n",
      "Epoch [12/50] Loss: 1.5945\n",
      "Epoch [12/50] Loss: 0.9536\n"
     ]
    },
    {
     "name": "stderr",
     "output_type": "stream",
     "text": [
      "1683it [05:14,  5.35it/s]\n"
     ]
    },
    {
     "name": "stdout",
     "output_type": "stream",
     "text": [
      "Overall Acc: \t 0.570343833556\n",
      "Mean Acc : \t 0.203721045781\n",
      "FreqW Acc : \t 0.402297543344\n",
      "Mean IoU : \t 0.148989273191\n",
      "Epoch [13/50] Loss: 1.0112\n",
      "Epoch [13/50] Loss: 1.2086\n",
      "Epoch [13/50] Loss: 1.0164\n",
      "Epoch [13/50] Loss: 1.2586\n",
      "Epoch [13/50] Loss: 1.0300\n",
      "Epoch [13/50] Loss: 1.4094\n",
      "Epoch [13/50] Loss: 1.5510\n",
      "Epoch [13/50] Loss: 1.8209\n",
      "Epoch [13/50] Loss: 1.2120\n",
      "Epoch [13/50] Loss: 1.6236\n",
      "Epoch [13/50] Loss: 0.9927\n",
      "Epoch [13/50] Loss: 1.3975\n",
      "Epoch [13/50] Loss: 1.3730\n",
      "Epoch [13/50] Loss: 1.3882\n",
      "Epoch [13/50] Loss: 1.3029\n",
      "Epoch [13/50] Loss: 1.4246\n",
      "Epoch [13/50] Loss: 0.9769\n"
     ]
    },
    {
     "name": "stderr",
     "output_type": "stream",
     "text": [
      "1683it [05:15,  5.34it/s]\n"
     ]
    },
    {
     "name": "stdout",
     "output_type": "stream",
     "text": [
      "Overall Acc: \t 0.577505594909\n",
      "Mean Acc : \t 0.215543572281\n",
      "FreqW Acc : \t 0.405610796287\n",
      "Mean IoU : \t 0.158386407033\n",
      "Epoch [14/50] Loss: 1.0289\n",
      "Epoch [14/50] Loss: 0.9696\n",
      "Epoch [14/50] Loss: 1.1541\n",
      "Epoch [14/50] Loss: 1.8043\n",
      "Epoch [14/50] Loss: 1.5632\n",
      "Epoch [14/50] Loss: 1.7182\n",
      "Epoch [14/50] Loss: 1.3870\n",
      "Epoch [14/50] Loss: 1.2383\n",
      "Epoch [14/50] Loss: 1.0538\n",
      "Epoch [14/50] Loss: 1.3254\n",
      "Epoch [14/50] Loss: 1.5720\n",
      "Epoch [14/50] Loss: 1.0307\n",
      "Epoch [14/50] Loss: 1.3085\n",
      "Epoch [14/50] Loss: 1.8002\n",
      "Epoch [14/50] Loss: 1.5935\n",
      "Epoch [14/50] Loss: 1.4650\n",
      "Epoch [14/50] Loss: 1.1557\n"
     ]
    },
    {
     "name": "stderr",
     "output_type": "stream",
     "text": [
      "1683it [05:15,  5.33it/s]"
     ]
    },
    {
     "name": "stdout",
     "output_type": "stream",
     "text": [
      "Overall Acc: \t 0.573003160176\n",
      "Mean Acc : \t 0.209484503842\n",
      "FreqW Acc : \t 0.402805177044\n",
      "Mean IoU : \t 0.155916572684\n"
     ]
    },
    {
     "name": "stderr",
     "output_type": "stream",
     "text": [
      "\n"
     ]
    },
    {
     "name": "stdout",
     "output_type": "stream",
     "text": [
      "Epoch [15/50] Loss: 1.2412\n",
      "Epoch [15/50] Loss: 1.2599\n",
      "Epoch [15/50] Loss: 1.2787\n",
      "Epoch [15/50] Loss: 1.0921\n",
      "Epoch [15/50] Loss: 1.1990\n",
      "Epoch [15/50] Loss: 1.5962\n",
      "Epoch [15/50] Loss: 1.1053\n",
      "Epoch [15/50] Loss: 0.9259\n",
      "Epoch [15/50] Loss: 1.0846\n",
      "Epoch [15/50] Loss: 1.2250\n",
      "Epoch [15/50] Loss: 1.3835\n",
      "Epoch [15/50] Loss: 1.5763\n",
      "Epoch [15/50] Loss: 1.4834\n",
      "Epoch [15/50] Loss: 0.8779\n",
      "Epoch [15/50] Loss: 1.1631\n",
      "Epoch [15/50] Loss: 1.1911\n",
      "Epoch [15/50] Loss: 1.0347\n"
     ]
    },
    {
     "name": "stderr",
     "output_type": "stream",
     "text": [
      "1683it [05:12,  5.38it/s]\n"
     ]
    },
    {
     "name": "stdout",
     "output_type": "stream",
     "text": [
      "Overall Acc: \t 0.576947249636\n",
      "Mean Acc : \t 0.215602893187\n",
      "FreqW Acc : \t 0.405763455827\n",
      "Mean IoU : \t 0.159544868037\n",
      "Epoch [16/50] Loss: 0.9739\n",
      "Epoch [16/50] Loss: 1.4748\n",
      "Epoch [16/50] Loss: 1.1256\n",
      "Epoch [16/50] Loss: 1.6063\n",
      "Epoch [16/50] Loss: 1.5187\n",
      "Epoch [16/50] Loss: 1.1674\n",
      "Epoch [16/50] Loss: 1.6178\n",
      "Epoch [16/50] Loss: 1.2172\n",
      "Epoch [16/50] Loss: 1.2588\n",
      "Epoch [16/50] Loss: 1.3616\n",
      "Epoch [16/50] Loss: 1.3859\n",
      "Epoch [16/50] Loss: 1.2013\n",
      "Epoch [16/50] Loss: 1.5350\n",
      "Epoch [16/50] Loss: 0.7974\n",
      "Epoch [16/50] Loss: 1.3145\n",
      "Epoch [16/50] Loss: 0.8727\n",
      "Epoch [16/50] Loss: 1.3665\n"
     ]
    },
    {
     "name": "stderr",
     "output_type": "stream",
     "text": [
      "1683it [05:13,  5.37it/s]\n"
     ]
    },
    {
     "name": "stdout",
     "output_type": "stream",
     "text": [
      "Overall Acc: \t 0.579011791217\n",
      "Mean Acc : \t 0.228771797214\n",
      "FreqW Acc : \t 0.406391411016\n",
      "Mean IoU : \t 0.165104993746\n",
      "Epoch [17/50] Loss: 1.6655\n",
      "Epoch [17/50] Loss: 1.4197\n",
      "Epoch [17/50] Loss: 1.3709\n",
      "Epoch [17/50] Loss: 1.1051\n",
      "Epoch [17/50] Loss: 1.4852\n",
      "Epoch [17/50] Loss: 1.3561\n",
      "Epoch [17/50] Loss: 1.3050\n",
      "Epoch [17/50] Loss: 1.6310\n",
      "Epoch [17/50] Loss: 0.9619\n",
      "Epoch [17/50] Loss: 0.8882\n",
      "Epoch [17/50] Loss: 1.5127\n",
      "Epoch [17/50] Loss: 1.2353\n",
      "Epoch [17/50] Loss: 1.7209\n",
      "Epoch [17/50] Loss: 1.2322\n",
      "Epoch [17/50] Loss: 1.1388\n",
      "Epoch [17/50] Loss: 1.2244\n",
      "Epoch [17/50] Loss: 1.3908\n"
     ]
    },
    {
     "name": "stderr",
     "output_type": "stream",
     "text": [
      "1683it [05:14,  5.35it/s]\n"
     ]
    },
    {
     "name": "stdout",
     "output_type": "stream",
     "text": [
      "Overall Acc: \t 0.581030057778\n",
      "Mean Acc : \t 0.225126809468\n",
      "FreqW Acc : \t 0.407163615074\n",
      "Mean IoU : \t 0.165120949426\n",
      "Epoch [18/50] Loss: 1.2800\n",
      "Epoch [18/50] Loss: 1.5896\n",
      "Epoch [18/50] Loss: 1.4998\n",
      "Epoch [18/50] Loss: 1.3319\n",
      "Epoch [18/50] Loss: 1.3870\n",
      "Epoch [18/50] Loss: 1.2400\n",
      "Epoch [18/50] Loss: 1.1393\n",
      "Epoch [18/50] Loss: 0.9488\n",
      "Epoch [18/50] Loss: 1.3704\n",
      "Epoch [18/50] Loss: 1.4286\n",
      "Epoch [18/50] Loss: 1.1783\n",
      "Epoch [18/50] Loss: 1.7005\n",
      "Epoch [18/50] Loss: 0.9348\n",
      "Epoch [18/50] Loss: 1.3381\n",
      "Epoch [18/50] Loss: 1.3842\n",
      "Epoch [18/50] Loss: 1.3750\n",
      "Epoch [18/50] Loss: 1.2537\n"
     ]
    },
    {
     "name": "stderr",
     "output_type": "stream",
     "text": [
      "1683it [05:13,  5.37it/s]\n"
     ]
    },
    {
     "name": "stdout",
     "output_type": "stream",
     "text": [
      "Overall Acc: \t 0.58402840187\n",
      "Mean Acc : \t 0.233126351389\n",
      "FreqW Acc : \t 0.413455479119\n",
      "Mean IoU : \t 0.171320330781\n",
      "Epoch [19/50] Loss: 1.4318\n",
      "Epoch [19/50] Loss: 1.2588\n",
      "Epoch [19/50] Loss: 1.9344\n",
      "Epoch [19/50] Loss: 0.9594\n",
      "Epoch [19/50] Loss: 0.9658\n",
      "Epoch [19/50] Loss: 1.0481\n",
      "Epoch [19/50] Loss: 1.6884\n",
      "Epoch [19/50] Loss: 0.6736\n",
      "Epoch [19/50] Loss: 1.1643\n",
      "Epoch [19/50] Loss: 1.0084\n",
      "Epoch [19/50] Loss: 0.7903\n",
      "Epoch [19/50] Loss: 0.9647\n",
      "Epoch [19/50] Loss: 1.0945\n",
      "Epoch [19/50] Loss: 1.4823\n",
      "Epoch [19/50] Loss: 0.6905\n",
      "Epoch [19/50] Loss: 1.1986\n",
      "Epoch [19/50] Loss: 1.3073\n"
     ]
    },
    {
     "name": "stderr",
     "output_type": "stream",
     "text": [
      "1683it [05:12,  5.38it/s]"
     ]
    },
    {
     "name": "stdout",
     "output_type": "stream",
     "text": [
      "Overall Acc: \t 0.585620127181\n",
      "Mean Acc : \t 0.221567110939\n",
      "FreqW Acc : \t 0.414337420042\n",
      "Mean IoU : \t 0.168296220317\n"
     ]
    },
    {
     "name": "stderr",
     "output_type": "stream",
     "text": [
      "\n"
     ]
    },
    {
     "name": "stdout",
     "output_type": "stream",
     "text": [
      "Epoch [20/50] Loss: 1.6231\n",
      "Epoch [20/50] Loss: 0.7062\n",
      "Epoch [20/50] Loss: 1.1894\n",
      "Epoch [20/50] Loss: 1.5270\n",
      "Epoch [20/50] Loss: 1.2335\n",
      "Epoch [20/50] Loss: 1.1912\n",
      "Epoch [20/50] Loss: 1.2834\n",
      "Epoch [20/50] Loss: 1.2671\n",
      "Epoch [20/50] Loss: 1.0225\n",
      "Epoch [20/50] Loss: 0.7317\n",
      "Epoch [20/50] Loss: 1.1044\n",
      "Epoch [20/50] Loss: 1.2125\n",
      "Epoch [20/50] Loss: 1.3740\n",
      "Epoch [20/50] Loss: 1.1751\n",
      "Epoch [20/50] Loss: 1.1913\n",
      "Epoch [20/50] Loss: 0.7577\n",
      "Epoch [20/50] Loss: 0.7788\n"
     ]
    },
    {
     "name": "stderr",
     "output_type": "stream",
     "text": [
      "1683it [05:12,  5.38it/s]\n"
     ]
    },
    {
     "name": "stdout",
     "output_type": "stream",
     "text": [
      "Overall Acc: \t 0.587061795059\n",
      "Mean Acc : \t 0.237208809522\n",
      "FreqW Acc : \t 0.417345987394\n",
      "Mean IoU : \t 0.176804045979\n",
      "Epoch [21/50] Loss: 0.8501\n",
      "Epoch [21/50] Loss: 0.8527\n",
      "Epoch [21/50] Loss: 1.2113\n",
      "Epoch [21/50] Loss: 1.4445\n",
      "Epoch [21/50] Loss: 1.0923\n",
      "Epoch [21/50] Loss: 1.1643\n",
      "Epoch [21/50] Loss: 1.2132\n",
      "Epoch [21/50] Loss: 1.4145\n",
      "Epoch [21/50] Loss: 1.1914\n",
      "Epoch [21/50] Loss: 1.6078\n",
      "Epoch [21/50] Loss: 1.5559\n",
      "Epoch [21/50] Loss: 1.1572\n",
      "Epoch [21/50] Loss: 1.2496\n",
      "Epoch [21/50] Loss: 0.8779\n",
      "Epoch [21/50] Loss: 1.1537\n",
      "Epoch [21/50] Loss: 1.2470\n",
      "Epoch [21/50] Loss: 0.9239\n"
     ]
    },
    {
     "name": "stderr",
     "output_type": "stream",
     "text": [
      "1683it [05:13,  5.36it/s]\n"
     ]
    },
    {
     "name": "stdout",
     "output_type": "stream",
     "text": [
      "Overall Acc: \t 0.585409692694\n",
      "Mean Acc : \t 0.259941418801\n",
      "FreqW Acc : \t 0.416812556161\n",
      "Mean IoU : \t 0.183137218688\n",
      "Epoch [22/50] Loss: 1.4247\n",
      "Epoch [22/50] Loss: 1.0787\n",
      "Epoch [22/50] Loss: 1.0049\n",
      "Epoch [22/50] Loss: 0.6995\n",
      "Epoch [22/50] Loss: 0.9487\n",
      "Epoch [22/50] Loss: 1.4972\n",
      "Epoch [22/50] Loss: 0.9864\n",
      "Epoch [22/50] Loss: 1.2918\n",
      "Epoch [22/50] Loss: 1.2424\n",
      "Epoch [22/50] Loss: 0.9264\n",
      "Epoch [22/50] Loss: 1.3671\n",
      "Epoch [22/50] Loss: 0.8921\n",
      "Epoch [22/50] Loss: 0.9771\n",
      "Epoch [22/50] Loss: 1.0113\n",
      "Epoch [22/50] Loss: 1.0010\n",
      "Epoch [22/50] Loss: 0.9556\n",
      "Epoch [22/50] Loss: 1.1992\n"
     ]
    },
    {
     "name": "stderr",
     "output_type": "stream",
     "text": [
      "1683it [05:14,  5.35it/s]\n"
     ]
    },
    {
     "name": "stdout",
     "output_type": "stream",
     "text": [
      "Overall Acc: \t 0.586411442602\n",
      "Mean Acc : \t 0.254826943915\n",
      "FreqW Acc : \t 0.421052063545\n",
      "Mean IoU : \t 0.185608128424\n",
      "Epoch [23/50] Loss: 1.1771\n",
      "Epoch [23/50] Loss: 1.2681\n",
      "Epoch [23/50] Loss: 1.2497\n",
      "Epoch [23/50] Loss: 1.4054\n",
      "Epoch [23/50] Loss: 0.5867\n",
      "Epoch [23/50] Loss: 0.8538\n",
      "Epoch [23/50] Loss: 1.4708\n",
      "Epoch [23/50] Loss: 1.0273\n",
      "Epoch [23/50] Loss: 0.9603\n",
      "Epoch [23/50] Loss: 1.0633\n",
      "Epoch [23/50] Loss: 0.8208\n",
      "Epoch [23/50] Loss: 1.5605\n",
      "Epoch [23/50] Loss: 1.2412\n",
      "Epoch [23/50] Loss: 1.4642\n",
      "Epoch [23/50] Loss: 0.8799\n",
      "Epoch [23/50] Loss: 0.9701\n",
      "Epoch [23/50] Loss: 0.7472\n"
     ]
    },
    {
     "name": "stderr",
     "output_type": "stream",
     "text": [
      "1683it [05:14,  5.35it/s]"
     ]
    },
    {
     "name": "stdout",
     "output_type": "stream",
     "text": [
      "Overall Acc: \t 0.589687149915\n",
      "Mean Acc : \t 0.240645858937\n",
      "FreqW Acc : \t 0.419425182194\n",
      "Mean IoU : \t 0.18003633178\n"
     ]
    },
    {
     "name": "stderr",
     "output_type": "stream",
     "text": [
      "\n"
     ]
    },
    {
     "name": "stdout",
     "output_type": "stream",
     "text": [
      "Epoch [24/50] Loss: 1.0292\n",
      "Epoch [24/50] Loss: 0.8280\n",
      "Epoch [24/50] Loss: 1.1472\n",
      "Epoch [24/50] Loss: 1.5777\n",
      "Epoch [24/50] Loss: 1.8907\n",
      "Epoch [24/50] Loss: 1.1347\n",
      "Epoch [24/50] Loss: 1.5006\n",
      "Epoch [24/50] Loss: 0.8171\n",
      "Epoch [24/50] Loss: 1.0805\n",
      "Epoch [24/50] Loss: 1.2406\n",
      "Epoch [24/50] Loss: 0.7452\n",
      "Epoch [24/50] Loss: 1.3950\n",
      "Epoch [24/50] Loss: 0.8286\n",
      "Epoch [24/50] Loss: 1.0319\n",
      "Epoch [24/50] Loss: 1.3505\n",
      "Epoch [24/50] Loss: 1.3655\n",
      "Epoch [24/50] Loss: 0.8780\n"
     ]
    },
    {
     "name": "stderr",
     "output_type": "stream",
     "text": [
      "1683it [05:12,  5.39it/s]"
     ]
    },
    {
     "name": "stdout",
     "output_type": "stream",
     "text": [
      "Overall Acc: \t 0.587715025562\n",
      "Mean Acc : \t 0.242454941048\n",
      "FreqW Acc : \t 0.415304153745\n",
      "Mean IoU : \t 0.179597217886\n"
     ]
    },
    {
     "name": "stderr",
     "output_type": "stream",
     "text": [
      "\n"
     ]
    },
    {
     "name": "stdout",
     "output_type": "stream",
     "text": [
      "Epoch [25/50] Loss: 1.2769\n",
      "Epoch [25/50] Loss: 0.8381\n",
      "Epoch [25/50] Loss: 0.7577\n",
      "Epoch [25/50] Loss: 0.7916\n",
      "Epoch [25/50] Loss: 1.4473\n",
      "Epoch [25/50] Loss: 1.1324\n",
      "Epoch [25/50] Loss: 1.3272\n",
      "Epoch [25/50] Loss: 1.4745\n",
      "Epoch [25/50] Loss: 0.8161\n",
      "Epoch [25/50] Loss: 0.8338\n",
      "Epoch [25/50] Loss: 1.3616\n",
      "Epoch [25/50] Loss: 0.8488\n",
      "Epoch [25/50] Loss: 1.0398\n",
      "Epoch [25/50] Loss: 1.1364\n",
      "Epoch [25/50] Loss: 1.6187\n",
      "Epoch [25/50] Loss: 0.9400\n",
      "Epoch [25/50] Loss: 0.8942\n"
     ]
    },
    {
     "name": "stderr",
     "output_type": "stream",
     "text": [
      "1683it [05:13,  5.37it/s]\n"
     ]
    },
    {
     "name": "stdout",
     "output_type": "stream",
     "text": [
      "Overall Acc: \t 0.590736856927\n",
      "Mean Acc : \t 0.256372133768\n",
      "FreqW Acc : \t 0.42257739106\n",
      "Mean IoU : \t 0.1866710397\n",
      "Epoch [26/50] Loss: 1.0209\n",
      "Epoch [26/50] Loss: 0.8508\n",
      "Epoch [26/50] Loss: 0.9349\n",
      "Epoch [26/50] Loss: 0.7178\n",
      "Epoch [26/50] Loss: 1.2303\n",
      "Epoch [26/50] Loss: 0.9340\n",
      "Epoch [26/50] Loss: 0.9797\n",
      "Epoch [26/50] Loss: 1.0211\n",
      "Epoch [26/50] Loss: 0.9837\n",
      "Epoch [26/50] Loss: 0.7492\n",
      "Epoch [26/50] Loss: 0.9959\n",
      "Epoch [26/50] Loss: 1.0556\n",
      "Epoch [26/50] Loss: 0.7674\n",
      "Epoch [26/50] Loss: 0.8816\n",
      "Epoch [26/50] Loss: 0.9353\n",
      "Epoch [26/50] Loss: 1.2046\n",
      "Epoch [26/50] Loss: 1.0577\n"
     ]
    },
    {
     "name": "stderr",
     "output_type": "stream",
     "text": [
      "1683it [05:13,  5.38it/s]"
     ]
    },
    {
     "name": "stdout",
     "output_type": "stream",
     "text": [
      "Overall Acc: \t 0.59375382192\n",
      "Mean Acc : \t 0.24828990093\n",
      "FreqW Acc : \t 0.422772046952\n",
      "Mean IoU : \t 0.185441008326\n"
     ]
    },
    {
     "name": "stderr",
     "output_type": "stream",
     "text": [
      "\n"
     ]
    },
    {
     "name": "stdout",
     "output_type": "stream",
     "text": [
      "Epoch [27/50] Loss: 0.7297\n",
      "Epoch [27/50] Loss: 0.9923\n",
      "Epoch [27/50] Loss: 0.7647\n",
      "Epoch [27/50] Loss: 1.2281\n",
      "Epoch [27/50] Loss: 1.3967\n",
      "Epoch [27/50] Loss: 1.1521\n",
      "Epoch [27/50] Loss: 1.0924\n",
      "Epoch [27/50] Loss: 0.8160\n",
      "Epoch [27/50] Loss: 0.8606\n",
      "Epoch [27/50] Loss: 0.8121\n",
      "Epoch [27/50] Loss: 1.0667\n",
      "Epoch [27/50] Loss: 1.2530\n",
      "Epoch [27/50] Loss: 0.9149\n",
      "Epoch [27/50] Loss: 1.2489\n",
      "Epoch [27/50] Loss: 1.1949\n",
      "Epoch [27/50] Loss: 1.3002\n",
      "Epoch [27/50] Loss: 1.1585\n"
     ]
    },
    {
     "name": "stderr",
     "output_type": "stream",
     "text": [
      "1683it [05:12,  5.39it/s]"
     ]
    },
    {
     "name": "stdout",
     "output_type": "stream",
     "text": [
      "Overall Acc: \t 0.590760780033\n",
      "Mean Acc : \t 0.251148087369\n",
      "FreqW Acc : \t 0.425297422557\n",
      "Mean IoU : \t 0.186442701406\n"
     ]
    },
    {
     "name": "stderr",
     "output_type": "stream",
     "text": [
      "\n"
     ]
    },
    {
     "name": "stdout",
     "output_type": "stream",
     "text": [
      "Epoch [28/50] Loss: 0.8846\n",
      "Epoch [28/50] Loss: 0.8792\n",
      "Epoch [28/50] Loss: 0.8988\n",
      "Epoch [28/50] Loss: 1.1891\n",
      "Epoch [28/50] Loss: 1.0253\n",
      "Epoch [28/50] Loss: 0.7616\n",
      "Epoch [28/50] Loss: 1.0632\n",
      "Epoch [28/50] Loss: 0.9582\n",
      "Epoch [28/50] Loss: 0.8517\n",
      "Epoch [28/50] Loss: 1.4146\n",
      "Epoch [28/50] Loss: 1.4471\n",
      "Epoch [28/50] Loss: 1.1742\n",
      "Epoch [28/50] Loss: 1.3914\n",
      "Epoch [28/50] Loss: 1.0013\n",
      "Epoch [28/50] Loss: 1.2225\n",
      "Epoch [28/50] Loss: 0.8061\n",
      "Epoch [28/50] Loss: 1.3507\n"
     ]
    },
    {
     "name": "stderr",
     "output_type": "stream",
     "text": [
      "1683it [05:13,  5.37it/s]\n"
     ]
    },
    {
     "name": "stdout",
     "output_type": "stream",
     "text": [
      "Overall Acc: \t 0.594143466296\n",
      "Mean Acc : \t 0.265164468115\n",
      "FreqW Acc : \t 0.428181154087\n",
      "Mean IoU : \t 0.193363145819\n",
      "Epoch [29/50] Loss: 1.0422\n",
      "Epoch [29/50] Loss: 1.0683\n",
      "Epoch [29/50] Loss: 0.7796\n",
      "Epoch [29/50] Loss: 1.0220\n",
      "Epoch [29/50] Loss: 1.4620\n",
      "Epoch [29/50] Loss: 0.7636\n",
      "Epoch [29/50] Loss: 1.1312\n",
      "Epoch [29/50] Loss: 1.3163\n",
      "Epoch [29/50] Loss: 0.9846\n",
      "Epoch [29/50] Loss: 1.5250\n",
      "Epoch [29/50] Loss: 0.9522\n",
      "Epoch [29/50] Loss: 1.0558\n",
      "Epoch [29/50] Loss: 0.8637\n",
      "Epoch [29/50] Loss: 0.8105\n",
      "Epoch [29/50] Loss: 0.9536\n",
      "Epoch [29/50] Loss: 0.8049\n",
      "Epoch [29/50] Loss: 0.9965\n"
     ]
    },
    {
     "name": "stderr",
     "output_type": "stream",
     "text": [
      "1683it [05:12,  5.38it/s]\n"
     ]
    },
    {
     "name": "stdout",
     "output_type": "stream",
     "text": [
      "Overall Acc: \t 0.595212380907\n",
      "Mean Acc : \t 0.268029852841\n",
      "FreqW Acc : \t 0.429021190223\n",
      "Mean IoU : \t 0.195205866698\n",
      "Epoch [30/50] Loss: 0.9061\n",
      "Epoch [30/50] Loss: 1.2499\n",
      "Epoch [30/50] Loss: 0.9706\n",
      "Epoch [30/50] Loss: 1.9267\n",
      "Epoch [30/50] Loss: 1.1270\n",
      "Epoch [30/50] Loss: 0.9199\n",
      "Epoch [30/50] Loss: 1.2817\n",
      "Epoch [30/50] Loss: 1.0848\n",
      "Epoch [30/50] Loss: 1.4812\n",
      "Epoch [30/50] Loss: 1.1735\n",
      "Epoch [30/50] Loss: 0.7257\n",
      "Epoch [30/50] Loss: 0.8251\n",
      "Epoch [30/50] Loss: 1.0678\n",
      "Epoch [30/50] Loss: 1.5984\n",
      "Epoch [30/50] Loss: 0.9316\n",
      "Epoch [30/50] Loss: 1.1825\n",
      "Epoch [30/50] Loss: 1.0707\n"
     ]
    },
    {
     "name": "stderr",
     "output_type": "stream",
     "text": [
      "1683it [05:13,  5.38it/s]\n"
     ]
    },
    {
     "name": "stdout",
     "output_type": "stream",
     "text": [
      "Overall Acc: \t 0.59558449332\n",
      "Mean Acc : \t 0.274147341214\n",
      "FreqW Acc : \t 0.430426403375\n",
      "Mean IoU : \t 0.198957364451\n",
      "Epoch [31/50] Loss: 1.2594\n",
      "Epoch [31/50] Loss: 1.2236\n",
      "Epoch [31/50] Loss: 1.3654\n",
      "Epoch [31/50] Loss: 0.8963\n",
      "Epoch [31/50] Loss: 1.2317\n",
      "Epoch [31/50] Loss: 0.8437\n",
      "Epoch [31/50] Loss: 1.0240\n",
      "Epoch [31/50] Loss: 1.0978\n",
      "Epoch [31/50] Loss: 1.5578\n",
      "Epoch [31/50] Loss: 1.0755\n",
      "Epoch [31/50] Loss: 0.8028\n",
      "Epoch [31/50] Loss: 1.0318\n",
      "Epoch [31/50] Loss: 0.6038\n",
      "Epoch [31/50] Loss: 0.8138\n",
      "Epoch [31/50] Loss: 1.2452\n",
      "Epoch [31/50] Loss: 0.8716\n",
      "Epoch [31/50] Loss: 1.1300\n"
     ]
    },
    {
     "name": "stderr",
     "output_type": "stream",
     "text": [
      "1683it [05:10,  5.42it/s]"
     ]
    },
    {
     "name": "stdout",
     "output_type": "stream",
     "text": [
      "Overall Acc: \t 0.591262323243\n",
      "Mean Acc : \t 0.266644604007\n",
      "FreqW Acc : \t 0.423987599572\n",
      "Mean IoU : \t 0.194099860117\n"
     ]
    },
    {
     "name": "stderr",
     "output_type": "stream",
     "text": [
      "\n"
     ]
    },
    {
     "name": "stdout",
     "output_type": "stream",
     "text": [
      "Epoch [32/50] Loss: 0.9965\n",
      "Epoch [32/50] Loss: 0.9972\n",
      "Epoch [32/50] Loss: 0.8978\n",
      "Epoch [32/50] Loss: 1.4231\n",
      "Epoch [32/50] Loss: 0.7619\n",
      "Epoch [32/50] Loss: 1.1758\n",
      "Epoch [32/50] Loss: 1.1809\n",
      "Epoch [32/50] Loss: 1.2243\n",
      "Epoch [32/50] Loss: 0.9941\n",
      "Epoch [32/50] Loss: 0.9059\n",
      "Epoch [32/50] Loss: 1.6633\n",
      "Epoch [32/50] Loss: 0.9671\n",
      "Epoch [32/50] Loss: 1.4226\n",
      "Epoch [32/50] Loss: 0.9256\n",
      "Epoch [32/50] Loss: 1.4199\n",
      "Epoch [32/50] Loss: 0.7470\n",
      "Epoch [32/50] Loss: 0.8469\n"
     ]
    },
    {
     "name": "stderr",
     "output_type": "stream",
     "text": [
      "1683it [05:10,  5.42it/s]"
     ]
    },
    {
     "name": "stdout",
     "output_type": "stream",
     "text": [
      "Overall Acc: \t 0.596830242014\n",
      "Mean Acc : \t 0.265197927493\n",
      "FreqW Acc : \t 0.431650717024\n",
      "Mean IoU : \t 0.196103715259\n"
     ]
    },
    {
     "name": "stderr",
     "output_type": "stream",
     "text": [
      "\n"
     ]
    },
    {
     "name": "stdout",
     "output_type": "stream",
     "text": [
      "Epoch [33/50] Loss: 0.9257\n",
      "Epoch [33/50] Loss: 1.2007\n",
      "Epoch [33/50] Loss: 0.7394\n",
      "Epoch [33/50] Loss: 0.9166\n",
      "Epoch [33/50] Loss: 1.2066\n",
      "Epoch [33/50] Loss: 1.3904\n",
      "Epoch [33/50] Loss: 0.6789\n",
      "Epoch [33/50] Loss: 1.1011\n",
      "Epoch [33/50] Loss: 0.9509\n",
      "Epoch [33/50] Loss: 0.7527\n",
      "Epoch [33/50] Loss: 0.7889\n",
      "Epoch [33/50] Loss: 1.4936\n",
      "Epoch [33/50] Loss: 0.8059\n",
      "Epoch [33/50] Loss: 1.6823\n",
      "Epoch [33/50] Loss: 0.9358\n",
      "Epoch [33/50] Loss: 0.9181\n",
      "Epoch [33/50] Loss: 0.8689\n"
     ]
    },
    {
     "name": "stderr",
     "output_type": "stream",
     "text": [
      "1683it [05:09,  5.44it/s]"
     ]
    },
    {
     "name": "stdout",
     "output_type": "stream",
     "text": [
      "Overall Acc: \t 0.593959614399\n",
      "Mean Acc : \t 0.251305039331\n",
      "FreqW Acc : \t 0.426740070331\n",
      "Mean IoU : \t 0.189695147204\n"
     ]
    },
    {
     "name": "stderr",
     "output_type": "stream",
     "text": [
      "\n"
     ]
    },
    {
     "name": "stdout",
     "output_type": "stream",
     "text": [
      "Epoch [34/50] Loss: 0.9711\n",
      "Epoch [34/50] Loss: 0.7049\n",
      "Epoch [34/50] Loss: 0.7972\n",
      "Epoch [34/50] Loss: 1.1967\n",
      "Epoch [34/50] Loss: 0.9654\n",
      "Epoch [34/50] Loss: 1.2798\n",
      "Epoch [34/50] Loss: 1.0141\n",
      "Epoch [34/50] Loss: 0.9990\n",
      "Epoch [34/50] Loss: 1.1179\n",
      "Epoch [34/50] Loss: 1.2602\n",
      "Epoch [34/50] Loss: 0.9472\n",
      "Epoch [34/50] Loss: 0.7540\n",
      "Epoch [34/50] Loss: 0.9529\n",
      "Epoch [34/50] Loss: 0.9029\n",
      "Epoch [34/50] Loss: 1.0671\n",
      "Epoch [34/50] Loss: 0.9587\n",
      "Epoch [34/50] Loss: 1.3287\n"
     ]
    },
    {
     "name": "stderr",
     "output_type": "stream",
     "text": [
      "1683it [05:09,  5.44it/s]"
     ]
    },
    {
     "name": "stdout",
     "output_type": "stream",
     "text": [
      "Overall Acc: \t 0.592107147481\n",
      "Mean Acc : \t 0.26202995341\n",
      "FreqW Acc : \t 0.429354027483\n",
      "Mean IoU : \t 0.195329749725\n"
     ]
    },
    {
     "name": "stderr",
     "output_type": "stream",
     "text": [
      "\n"
     ]
    },
    {
     "name": "stdout",
     "output_type": "stream",
     "text": [
      "Epoch [35/50] Loss: 0.8515\n",
      "Epoch [35/50] Loss: 0.7496\n",
      "Epoch [35/50] Loss: 1.1497\n",
      "Epoch [35/50] Loss: 0.9304\n",
      "Epoch [35/50] Loss: 0.8990\n",
      "Epoch [35/50] Loss: 0.5911\n",
      "Epoch [35/50] Loss: 1.1072\n",
      "Epoch [35/50] Loss: 0.8692\n",
      "Epoch [35/50] Loss: 1.0907\n",
      "Epoch [35/50] Loss: 0.8352\n",
      "Epoch [35/50] Loss: 0.8007\n",
      "Epoch [35/50] Loss: 1.2206\n",
      "Epoch [35/50] Loss: 1.4741\n",
      "Epoch [35/50] Loss: 0.8076\n",
      "Epoch [35/50] Loss: 1.0533\n",
      "Epoch [35/50] Loss: 0.8207\n",
      "Epoch [35/50] Loss: 0.9499\n"
     ]
    },
    {
     "name": "stderr",
     "output_type": "stream",
     "text": [
      "1683it [05:10,  5.42it/s]"
     ]
    },
    {
     "name": "stdout",
     "output_type": "stream",
     "text": [
      "Overall Acc: \t 0.595458429913\n",
      "Mean Acc : \t 0.256092278812\n",
      "FreqW Acc : \t 0.427954503332\n",
      "Mean IoU : \t 0.19066328543\n"
     ]
    },
    {
     "name": "stderr",
     "output_type": "stream",
     "text": [
      "\n"
     ]
    },
    {
     "name": "stdout",
     "output_type": "stream",
     "text": [
      "Epoch [36/50] Loss: 1.3100\n",
      "Epoch [36/50] Loss: 1.0041\n",
      "Epoch [36/50] Loss: 0.9246\n",
      "Epoch [36/50] Loss: 1.0431\n",
      "Epoch [36/50] Loss: 1.1965\n",
      "Epoch [36/50] Loss: 1.1513\n",
      "Epoch [36/50] Loss: 1.1418\n",
      "Epoch [36/50] Loss: 0.7290\n",
      "Epoch [36/50] Loss: 0.8003\n",
      "Epoch [36/50] Loss: 0.7194\n",
      "Epoch [36/50] Loss: 1.1501\n",
      "Epoch [36/50] Loss: 0.9105\n",
      "Epoch [36/50] Loss: 1.6106\n",
      "Epoch [36/50] Loss: 1.0179\n",
      "Epoch [36/50] Loss: 0.7598\n",
      "Epoch [36/50] Loss: 1.1617\n",
      "Epoch [36/50] Loss: 1.0926\n"
     ]
    },
    {
     "name": "stderr",
     "output_type": "stream",
     "text": [
      "1683it [05:10,  5.42it/s]"
     ]
    },
    {
     "name": "stdout",
     "output_type": "stream",
     "text": [
      "Overall Acc: \t 0.59709939855\n",
      "Mean Acc : \t 0.269546836066\n",
      "FreqW Acc : \t 0.432428351627\n",
      "Mean IoU : \t 0.198179457624\n"
     ]
    },
    {
     "name": "stderr",
     "output_type": "stream",
     "text": [
      "\n"
     ]
    },
    {
     "name": "stdout",
     "output_type": "stream",
     "text": [
      "Epoch [37/50] Loss: 0.7515\n",
      "Epoch [37/50] Loss: 1.1682\n",
      "Epoch [37/50] Loss: 0.6624\n",
      "Epoch [37/50] Loss: 1.3598\n",
      "Epoch [37/50] Loss: 1.0811\n",
      "Epoch [37/50] Loss: 1.1552\n",
      "Epoch [37/50] Loss: 0.6787\n",
      "Epoch [37/50] Loss: 0.9501\n",
      "Epoch [37/50] Loss: 0.9128\n",
      "Epoch [37/50] Loss: 0.4604\n",
      "Epoch [37/50] Loss: 1.2577\n",
      "Epoch [37/50] Loss: 1.0010\n",
      "Epoch [37/50] Loss: 0.6647\n",
      "Epoch [37/50] Loss: 0.8046\n",
      "Epoch [37/50] Loss: 0.7648\n",
      "Epoch [37/50] Loss: 0.9740\n",
      "Epoch [37/50] Loss: 1.5786\n"
     ]
    },
    {
     "name": "stderr",
     "output_type": "stream",
     "text": [
      "1683it [05:10,  5.43it/s]\n"
     ]
    },
    {
     "name": "stdout",
     "output_type": "stream",
     "text": [
      "Overall Acc: \t 0.593850191302\n",
      "Mean Acc : \t 0.272810539446\n",
      "FreqW Acc : \t 0.426580544308\n",
      "Mean IoU : \t 0.198962783714\n",
      "Epoch [38/50] Loss: 0.9259\n",
      "Epoch [38/50] Loss: 0.7586\n",
      "Epoch [38/50] Loss: 1.0770\n",
      "Epoch [38/50] Loss: 1.0859\n",
      "Epoch [38/50] Loss: 1.3106\n",
      "Epoch [38/50] Loss: 1.2764\n",
      "Epoch [38/50] Loss: 1.0386\n",
      "Epoch [38/50] Loss: 1.3686\n",
      "Epoch [38/50] Loss: 0.9038\n",
      "Epoch [38/50] Loss: 1.0067\n",
      "Epoch [38/50] Loss: 1.1818\n",
      "Epoch [38/50] Loss: 1.1436\n",
      "Epoch [38/50] Loss: 1.2545\n",
      "Epoch [38/50] Loss: 0.9571\n",
      "Epoch [38/50] Loss: 0.8147\n",
      "Epoch [38/50] Loss: 1.0667\n",
      "Epoch [38/50] Loss: 0.8590\n"
     ]
    },
    {
     "name": "stderr",
     "output_type": "stream",
     "text": [
      "1683it [05:09,  5.44it/s]\n"
     ]
    },
    {
     "name": "stdout",
     "output_type": "stream",
     "text": [
      "Overall Acc: \t 0.59473086345\n",
      "Mean Acc : \t 0.275317920059\n",
      "FreqW Acc : \t 0.429689960214\n",
      "Mean IoU : \t 0.19988150537\n",
      "Epoch [39/50] Loss: 1.3476\n",
      "Epoch [39/50] Loss: 0.6266\n",
      "Epoch [39/50] Loss: 1.2027\n",
      "Epoch [39/50] Loss: 1.2049\n",
      "Epoch [39/50] Loss: 0.8620\n",
      "Epoch [39/50] Loss: 1.0972\n",
      "Epoch [39/50] Loss: 0.8096\n",
      "Epoch [39/50] Loss: 0.8685\n",
      "Epoch [39/50] Loss: 0.9982\n",
      "Epoch [39/50] Loss: 1.1435\n",
      "Epoch [39/50] Loss: 0.8696\n",
      "Epoch [39/50] Loss: 1.9057\n",
      "Epoch [39/50] Loss: 0.5904\n",
      "Epoch [39/50] Loss: 1.2719\n",
      "Epoch [39/50] Loss: 0.9878\n",
      "Epoch [39/50] Loss: 1.0179\n",
      "Epoch [39/50] Loss: 1.2450\n"
     ]
    },
    {
     "name": "stderr",
     "output_type": "stream",
     "text": [
      "1683it [05:10,  5.41it/s]\n"
     ]
    },
    {
     "name": "stdout",
     "output_type": "stream",
     "text": [
      "Overall Acc: \t 0.592090551656\n",
      "Mean Acc : \t 0.290389856404\n",
      "FreqW Acc : \t 0.425679912015\n",
      "Mean IoU : \t 0.205576855842\n",
      "Epoch [40/50] Loss: 0.8579\n",
      "Epoch [40/50] Loss: 1.1015\n",
      "Epoch [40/50] Loss: 0.8834\n",
      "Epoch [40/50] Loss: 1.2514\n",
      "Epoch [40/50] Loss: 0.8029\n",
      "Epoch [40/50] Loss: 1.4402\n",
      "Epoch [40/50] Loss: 0.6454\n",
      "Epoch [40/50] Loss: 0.7684\n",
      "Epoch [40/50] Loss: 0.7721\n",
      "Epoch [40/50] Loss: 1.0113\n",
      "Epoch [40/50] Loss: 0.7393\n",
      "Epoch [40/50] Loss: 1.1187\n",
      "Epoch [40/50] Loss: 1.3692\n",
      "Epoch [40/50] Loss: 0.9150\n",
      "Epoch [40/50] Loss: 0.8511\n",
      "Epoch [40/50] Loss: 0.8196\n",
      "Epoch [40/50] Loss: 0.6088\n"
     ]
    },
    {
     "name": "stderr",
     "output_type": "stream",
     "text": [
      "1683it [05:10,  5.42it/s]"
     ]
    },
    {
     "name": "stdout",
     "output_type": "stream",
     "text": [
      "Overall Acc: \t 0.596401695029\n",
      "Mean Acc : \t 0.27605785113\n",
      "FreqW Acc : \t 0.427968622121\n",
      "Mean IoU : \t 0.202390207437\n"
     ]
    },
    {
     "name": "stderr",
     "output_type": "stream",
     "text": [
      "\n"
     ]
    },
    {
     "name": "stdout",
     "output_type": "stream",
     "text": [
      "Epoch [41/50] Loss: 0.7719\n",
      "Epoch [41/50] Loss: 0.8279\n",
      "Epoch [41/50] Loss: 0.6390\n",
      "Epoch [41/50] Loss: 1.1514\n",
      "Epoch [41/50] Loss: 0.9366\n",
      "Epoch [41/50] Loss: 0.9617\n",
      "Epoch [41/50] Loss: 1.1193\n",
      "Epoch [41/50] Loss: 0.8365\n",
      "Epoch [41/50] Loss: 0.7082\n",
      "Epoch [41/50] Loss: 1.0602\n",
      "Epoch [41/50] Loss: 0.4486\n",
      "Epoch [41/50] Loss: 1.0057\n",
      "Epoch [41/50] Loss: 0.7457\n",
      "Epoch [41/50] Loss: 0.8621\n",
      "Epoch [41/50] Loss: 0.8990\n",
      "Epoch [41/50] Loss: 0.7837\n",
      "Epoch [41/50] Loss: 1.0483\n"
     ]
    },
    {
     "name": "stderr",
     "output_type": "stream",
     "text": [
      "1683it [05:10,  5.43it/s]\n"
     ]
    },
    {
     "name": "stdout",
     "output_type": "stream",
     "text": [
      "Overall Acc: \t 0.593259034767\n",
      "Mean Acc : \t 0.288298615413\n",
      "FreqW Acc : \t 0.431756321063\n",
      "Mean IoU : \t 0.20693518733\n",
      "Epoch [42/50] Loss: 0.7734\n",
      "Epoch [42/50] Loss: 0.6146\n",
      "Epoch [42/50] Loss: 1.0801\n",
      "Epoch [42/50] Loss: 1.0142\n",
      "Epoch [42/50] Loss: 1.1306\n",
      "Epoch [42/50] Loss: 0.8773\n",
      "Epoch [42/50] Loss: 1.1811\n",
      "Epoch [42/50] Loss: 0.8137\n",
      "Epoch [42/50] Loss: 1.0679\n",
      "Epoch [42/50] Loss: 0.8861\n",
      "Epoch [42/50] Loss: 1.1098\n",
      "Epoch [42/50] Loss: 0.7685\n",
      "Epoch [42/50] Loss: 0.8763\n",
      "Epoch [42/50] Loss: 1.1019\n",
      "Epoch [42/50] Loss: 1.0665\n",
      "Epoch [42/50] Loss: 0.7220\n",
      "Epoch [42/50] Loss: 0.8621\n"
     ]
    },
    {
     "name": "stderr",
     "output_type": "stream",
     "text": [
      "1683it [05:09,  5.43it/s]\n"
     ]
    },
    {
     "name": "stdout",
     "output_type": "stream",
     "text": [
      "Overall Acc: \t 0.594028836414\n",
      "Mean Acc : \t 0.291699409167\n",
      "FreqW Acc : \t 0.431328606284\n",
      "Mean IoU : \t 0.207171489528\n",
      "Epoch [43/50] Loss: 1.0541\n",
      "Epoch [43/50] Loss: 0.9394\n",
      "Epoch [43/50] Loss: 0.5991\n",
      "Epoch [43/50] Loss: 1.1074\n",
      "Epoch [43/50] Loss: 0.9930\n",
      "Epoch [43/50] Loss: 0.9959\n",
      "Epoch [43/50] Loss: 1.1121\n",
      "Epoch [43/50] Loss: 1.0018\n",
      "Epoch [43/50] Loss: 0.9270\n",
      "Epoch [43/50] Loss: 0.7834\n",
      "Epoch [43/50] Loss: 0.7434\n",
      "Epoch [43/50] Loss: 0.8251\n",
      "Epoch [43/50] Loss: 0.7450\n",
      "Epoch [43/50] Loss: 0.6904\n",
      "Epoch [43/50] Loss: 1.0053\n",
      "Epoch [43/50] Loss: 0.8460\n",
      "Epoch [43/50] Loss: 0.8081\n"
     ]
    },
    {
     "name": "stderr",
     "output_type": "stream",
     "text": [
      "1683it [05:10,  5.42it/s]"
     ]
    },
    {
     "name": "stdout",
     "output_type": "stream",
     "text": [
      "Overall Acc: \t 0.59119839892\n",
      "Mean Acc : \t 0.282117729007\n",
      "FreqW Acc : \t 0.43106910151\n",
      "Mean IoU : \t 0.20386095924\n"
     ]
    },
    {
     "name": "stderr",
     "output_type": "stream",
     "text": [
      "\n"
     ]
    },
    {
     "name": "stdout",
     "output_type": "stream",
     "text": [
      "Epoch [44/50] Loss: 0.7425\n",
      "Epoch [44/50] Loss: 0.9918\n",
      "Epoch [44/50] Loss: 0.8911\n",
      "Epoch [44/50] Loss: 0.9219\n",
      "Epoch [44/50] Loss: 1.0982\n",
      "Epoch [44/50] Loss: 0.7892\n",
      "Epoch [44/50] Loss: 0.6689\n",
      "Epoch [44/50] Loss: 0.9166\n",
      "Epoch [44/50] Loss: 0.7857\n",
      "Epoch [44/50] Loss: 0.8927\n",
      "Epoch [44/50] Loss: 0.5295\n",
      "Epoch [44/50] Loss: 0.6504\n",
      "Epoch [44/50] Loss: 1.1191\n",
      "Epoch [44/50] Loss: 1.4825\n",
      "Epoch [44/50] Loss: 0.6684\n",
      "Epoch [44/50] Loss: 0.8493\n",
      "Epoch [44/50] Loss: 1.0979\n"
     ]
    },
    {
     "name": "stderr",
     "output_type": "stream",
     "text": [
      "1683it [05:10,  5.41it/s]"
     ]
    },
    {
     "name": "stdout",
     "output_type": "stream",
     "text": [
      "Overall Acc: \t 0.593033180431\n",
      "Mean Acc : \t 0.28004013116\n",
      "FreqW Acc : \t 0.430610336629\n",
      "Mean IoU : \t 0.204591914796\n"
     ]
    },
    {
     "name": "stderr",
     "output_type": "stream",
     "text": [
      "\n"
     ]
    },
    {
     "name": "stdout",
     "output_type": "stream",
     "text": [
      "Epoch [45/50] Loss: 0.8318\n",
      "Epoch [45/50] Loss: 0.6630\n",
      "Epoch [45/50] Loss: 0.8222\n",
      "Epoch [45/50] Loss: 0.6906\n",
      "Epoch [45/50] Loss: 0.9227\n",
      "Epoch [45/50] Loss: 0.6942\n",
      "Epoch [45/50] Loss: 0.9658\n",
      "Epoch [45/50] Loss: 0.5657\n",
      "Epoch [45/50] Loss: 0.7008\n",
      "Epoch [45/50] Loss: 1.0819\n",
      "Epoch [45/50] Loss: 1.0424\n",
      "Epoch [45/50] Loss: 1.1269\n",
      "Epoch [45/50] Loss: 1.0691\n",
      "Epoch [45/50] Loss: 1.0704\n",
      "Epoch [45/50] Loss: 1.1037\n",
      "Epoch [45/50] Loss: 0.9253\n",
      "Epoch [45/50] Loss: 0.6930\n"
     ]
    },
    {
     "name": "stderr",
     "output_type": "stream",
     "text": [
      "1683it [05:10,  5.41it/s]\n"
     ]
    },
    {
     "name": "stdout",
     "output_type": "stream",
     "text": [
      "Overall Acc: \t 0.593112375027\n",
      "Mean Acc : \t 0.293088467953\n",
      "FreqW Acc : \t 0.422892298371\n",
      "Mean IoU : \t 0.208329351123\n",
      "Epoch [46/50] Loss: 1.3745\n",
      "Epoch [46/50] Loss: 1.2068\n",
      "Epoch [46/50] Loss: 1.0155\n",
      "Epoch [46/50] Loss: 1.2965\n",
      "Epoch [46/50] Loss: 1.1542\n",
      "Epoch [46/50] Loss: 0.9707\n",
      "Epoch [46/50] Loss: 0.9734\n",
      "Epoch [46/50] Loss: 0.9811\n",
      "Epoch [46/50] Loss: 0.9563\n",
      "Epoch [46/50] Loss: 0.7211\n",
      "Epoch [46/50] Loss: 0.8016\n",
      "Epoch [46/50] Loss: 0.7399\n",
      "Epoch [46/50] Loss: 1.0019\n",
      "Epoch [46/50] Loss: 0.6976\n",
      "Epoch [46/50] Loss: 1.0403\n",
      "Epoch [46/50] Loss: 0.7801\n",
      "Epoch [46/50] Loss: 0.7804\n"
     ]
    },
    {
     "name": "stderr",
     "output_type": "stream",
     "text": [
      "1683it [05:09,  5.44it/s]"
     ]
    },
    {
     "name": "stdout",
     "output_type": "stream",
     "text": [
      "Overall Acc: \t 0.591550406279\n",
      "Mean Acc : \t 0.273917057728\n",
      "FreqW Acc : \t 0.426909690112\n",
      "Mean IoU : \t 0.202688284441\n"
     ]
    },
    {
     "name": "stderr",
     "output_type": "stream",
     "text": [
      "\n"
     ]
    },
    {
     "name": "stdout",
     "output_type": "stream",
     "text": [
      "Epoch [47/50] Loss: 0.8351\n",
      "Epoch [47/50] Loss: 0.8722\n",
      "Epoch [47/50] Loss: 1.0591\n",
      "Epoch [47/50] Loss: 0.8493\n",
      "Epoch [47/50] Loss: 0.8462\n",
      "Epoch [47/50] Loss: 0.9032\n",
      "Epoch [47/50] Loss: 0.8905\n",
      "Epoch [47/50] Loss: 1.0927\n",
      "Epoch [47/50] Loss: 0.6418\n",
      "Epoch [47/50] Loss: 0.9569\n",
      "Epoch [47/50] Loss: 0.7600\n",
      "Epoch [47/50] Loss: 1.1157\n",
      "Epoch [47/50] Loss: 0.7023\n",
      "Epoch [47/50] Loss: 1.2737\n",
      "Epoch [47/50] Loss: 0.7647\n",
      "Epoch [47/50] Loss: 1.2704\n",
      "Epoch [47/50] Loss: 0.7836\n"
     ]
    },
    {
     "name": "stderr",
     "output_type": "stream",
     "text": [
      "1683it [05:11,  5.40it/s]"
     ]
    },
    {
     "name": "stdout",
     "output_type": "stream",
     "text": [
      "Overall Acc: \t 0.598297315862\n",
      "Mean Acc : \t 0.278675281209\n",
      "FreqW Acc : \t 0.432322360512\n",
      "Mean IoU : \t 0.205636394477\n"
     ]
    },
    {
     "name": "stderr",
     "output_type": "stream",
     "text": [
      "\n"
     ]
    },
    {
     "name": "stdout",
     "output_type": "stream",
     "text": [
      "Epoch [48/50] Loss: 0.6808\n",
      "Epoch [48/50] Loss: 1.2805\n",
      "Epoch [48/50] Loss: 0.9187\n",
      "Epoch [48/50] Loss: 0.7854\n",
      "Epoch [48/50] Loss: 0.7835\n",
      "Epoch [48/50] Loss: 1.1806\n",
      "Epoch [48/50] Loss: 0.9047\n",
      "Epoch [48/50] Loss: 0.6137\n",
      "Epoch [48/50] Loss: 0.8048\n",
      "Epoch [48/50] Loss: 0.6510\n",
      "Epoch [48/50] Loss: 0.9787\n",
      "Epoch [48/50] Loss: 0.6547\n",
      "Epoch [48/50] Loss: 1.0293\n",
      "Epoch [48/50] Loss: 0.7533\n",
      "Epoch [48/50] Loss: 0.7345\n",
      "Epoch [48/50] Loss: 0.9710\n",
      "Epoch [48/50] Loss: 0.7074\n"
     ]
    },
    {
     "name": "stderr",
     "output_type": "stream",
     "text": [
      "1683it [05:10,  5.41it/s]"
     ]
    },
    {
     "name": "stdout",
     "output_type": "stream",
     "text": [
      "Overall Acc: \t 0.591604262602\n",
      "Mean Acc : \t 0.287471818225\n",
      "FreqW Acc : \t 0.422034507086\n",
      "Mean IoU : \t 0.205156941612\n"
     ]
    },
    {
     "name": "stderr",
     "output_type": "stream",
     "text": [
      "\n"
     ]
    },
    {
     "name": "stdout",
     "output_type": "stream",
     "text": [
      "Epoch [49/50] Loss: 0.6350\n",
      "Epoch [49/50] Loss: 0.9682\n",
      "Epoch [49/50] Loss: 0.8573\n",
      "Epoch [49/50] Loss: 0.9701\n",
      "Epoch [49/50] Loss: 1.0662\n",
      "Epoch [49/50] Loss: 0.6817\n",
      "Epoch [49/50] Loss: 1.1804\n",
      "Epoch [49/50] Loss: 0.8391\n",
      "Epoch [49/50] Loss: 0.7289\n",
      "Epoch [49/50] Loss: 1.0563\n",
      "Epoch [49/50] Loss: 0.9508\n",
      "Epoch [49/50] Loss: 0.9219\n",
      "Epoch [49/50] Loss: 0.9063\n",
      "Epoch [49/50] Loss: 0.7762\n",
      "Epoch [49/50] Loss: 0.7819\n",
      "Epoch [49/50] Loss: 0.8210\n",
      "Epoch [49/50] Loss: 0.7842\n"
     ]
    },
    {
     "name": "stderr",
     "output_type": "stream",
     "text": [
      "1683it [05:10,  5.42it/s]\n"
     ]
    },
    {
     "name": "stdout",
     "output_type": "stream",
     "text": [
      "Overall Acc: \t 0.594775384822\n",
      "Mean Acc : \t 0.295611676625\n",
      "FreqW Acc : \t 0.430634660392\n",
      "Mean IoU : \t 0.212194543666\n",
      "Epoch [50/50] Loss: 0.8092\n",
      "Epoch [50/50] Loss: 0.6266\n",
      "Epoch [50/50] Loss: 0.8920\n",
      "Epoch [50/50] Loss: 0.7324\n",
      "Epoch [50/50] Loss: 0.7330\n",
      "Epoch [50/50] Loss: 1.2612\n",
      "Epoch [50/50] Loss: 0.5905\n",
      "Epoch [50/50] Loss: 0.4071\n",
      "Epoch [50/50] Loss: 0.7496\n",
      "Epoch [50/50] Loss: 1.1053\n",
      "Epoch [50/50] Loss: 0.6498\n",
      "Epoch [50/50] Loss: 1.2012\n",
      "Epoch [50/50] Loss: 0.9013\n",
      "Epoch [50/50] Loss: 0.7791\n",
      "Epoch [50/50] Loss: 1.0212\n",
      "Epoch [50/50] Loss: 0.5875\n",
      "Epoch [50/50] Loss: 0.7524\n"
     ]
    },
    {
     "name": "stderr",
     "output_type": "stream",
     "text": [
      "1683it [05:11,  5.40it/s]"
     ]
    },
    {
     "name": "stdout",
     "output_type": "stream",
     "text": [
      "Overall Acc: \t 0.594159656589\n",
      "Mean Acc : \t 0.285426731124\n",
      "FreqW Acc : \t 0.429297046587\n",
      "Mean IoU : \t 0.206516303954\n"
     ]
    },
    {
     "name": "stderr",
     "output_type": "stream",
     "text": [
      "\n"
     ]
    }
   ],
   "source": [
    "from utils import *\n",
    "\n",
    "arg_str = '--gpu_idx 1 ' \\\n",
    "          '--arch FCN_RGBD ' \\\n",
    "          '--input_type RGBD ' \\\n",
    "          '--dataset SUNRGBD ' \\\n",
    "          '--batch_size 3 ' \\\n",
    "          '--n_epoch 50'\n",
    "\n",
    "trainer = trainer(arg_str)\n",
    "trainer.model_init()\n",
    "trainer.training()"
   ]
  },
  {
   "cell_type": "code",
   "execution_count": null,
   "metadata": {},
   "outputs": [],
   "source": []
  }
 ],
 "metadata": {
  "kernelspec": {
   "display_name": "Python [conda env:pytorch]",
   "language": "python",
   "name": "conda-env-pytorch-py"
  },
  "language_info": {
   "codemirror_mode": {
    "name": "ipython",
    "version": 3
   },
   "file_extension": ".py",
   "mimetype": "text/x-python",
   "name": "python",
   "nbconvert_exporter": "python",
   "pygments_lexer": "ipython3",
   "version": "3.6.3"
  }
 },
 "nbformat": 4,
 "nbformat_minor": 2
}
