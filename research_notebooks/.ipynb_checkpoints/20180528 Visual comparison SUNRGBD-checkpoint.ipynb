{
 "cells": [
  {
   "cell_type": "code",
   "execution_count": 1,
   "metadata": {},
   "outputs": [],
   "source": [
    "import sys, os\n",
    "import torch\n",
    "import visdom\n",
    "import argparse\n",
    "import timeit\n",
    "import numpy as np\n",
    "import scipy.misc as misc\n",
    "import torch.nn as nn\n",
    "import torch.nn.functional as F\n",
    "import torchvision.models as models\n",
    "\n",
    "from torch.autograd import Variable\n",
    "from torch.utils import data\n",
    "from tqdm import tqdm\n",
    "\n",
    "from ptsemseg.models import get_model\n",
    "from ptsemseg.loader import get_loader, get_data_path\n",
    "from ptsemseg.utils import convert_state_dict\n",
    "\n",
    "%matplotlib inline\n",
    "import matplotlib.pyplot as plt\n",
    "\n",
    "from SUNRGBDLoader import *\n",
    "from SUNRGBDLoader_HHA import *"
   ]
  },
  {
   "cell_type": "code",
   "execution_count": 2,
   "metadata": {},
   "outputs": [
    {
     "data": {
      "text/plain": [
       "_StoreAction(option_strings=['--out_path'], dest='out_path', nargs='?', const=None, default=None, type=<class 'str'>, choices=None, help='Path of the output segmap', metavar=None)"
      ]
     },
     "execution_count": 2,
     "metadata": {},
     "output_type": "execute_result"
    }
   ],
   "source": [
    "parser = argparse.ArgumentParser(description='Params')\n",
    "parser.add_argument('--model_path', nargs='?', type=str, default='fcn8s_pascal_1_26.pkl', help='Path to the saved model')\n",
    "parser.add_argument('--model_name', nargs='?', type=str, help='model name')\n",
    "parser.add_argument('--dataset', nargs='?', type=str, default='pascal', help='Dataset to use [\\'pascal, camvid, ade20k etc\\']')\n",
    "\n",
    "parser.add_argument('--img_norm', dest='img_norm', action='store_true', help='Enable input image scales normalization [0, 1] | True by default')\n",
    "parser.add_argument('--no-img_norm', dest='img_norm', action='store_false', help='Disable input image scales normalization [0, 1] | True by default')\n",
    "parser.set_defaults(img_norm=True)\n",
    "\n",
    "parser.add_argument('--dcrf', dest='dcrf', action='store_true', help='Enable DenseCRF based post-processing | False by default')\n",
    "parser.add_argument('--no-dcrf', dest='dcrf', action='store_false', help='Disable DenseCRF based post-processing | False by default')\n",
    "parser.set_defaults(dcrf=False)\n",
    "\n",
    "parser.add_argument('--color_path', nargs='?', type=str, default=None, help='Path of the input color image')\n",
    "parser.add_argument('--depth_path', nargs='?', type=str, default=None, help='Path of the input depth image')\n",
    "parser.add_argument('--out_path', nargs='?', type=str, default=None, help='Path of the output segmap')"
   ]
  },
  {
   "cell_type": "code",
   "execution_count": 12,
   "metadata": {},
   "outputs": [],
   "source": [
    "def test(args):\n",
    "    model_file_name = os.path.split(args.model_path)[1]\n",
    "    model_name = args.model_name\n",
    "\n",
    "    # Setup image\n",
    "    print(\"Read Input color image from : {}\".format(args.color_path))\n",
    "    img = misc.imread(args.color_path)\n",
    "    if (args.depth_path is not None):\n",
    "        print(\"Read Input depth image from : {}\".format(args.depth_path))\n",
    "        depth_img = misc.imread(args.depth_path)\n",
    "    \n",
    "    if (args.dataset == 'NYUDv2'):\n",
    "        data_path = '/home/dongwonshin/Desktop/Datasets/NYUDv2/'\n",
    "        loader = NYUDv2Loader(data_path, is_transform=True, split='val')\n",
    "    elif (args.dataset == 'NYUDv2_HHA'):\n",
    "        data_path = '/home/dongwonshin/Desktop/Datasets/NYUDv2/'\n",
    "        loader = NYUDv2Loader_HHA(data_path, is_transform=True, split='val')\n",
    "    elif (args.dataset == 'SUNRGBD'):\n",
    "        data_path = '/home/dongwonshin/Desktop/Datasets/SUNRGBD/SUNRGBD/'\n",
    "        loader = SUNRGBDLoader(data_path, is_transform=True, split='val')\n",
    "    elif (args.dataset == 'SUNRGBD_HHA'):\n",
    "        data_path = '/home/dongwonshin/Desktop/Datasets/SUNRGBD/SUNRGBD/'\n",
    "        loader = SUNRGBDLoader_HHA(data_path, is_transform=True, split='val')\n",
    "    \n",
    "    n_classes = loader.n_classes\n",
    "    \n",
    "    # preprocessing\n",
    "    resized_img = misc.imresize(img, (loader.img_size[0], loader.img_size[1]), interp='bicubic')\n",
    "    orig_size = img.shape[:-1]\n",
    "    img = misc.imresize(img, (loader.img_size[0], loader.img_size[1]))\n",
    "    img = img[:, :, ::-1]\n",
    "    img = img.astype(np.float64)\n",
    "    img -= loader.mean\n",
    "    if args.img_norm:\n",
    "        img = img.astype(float) / 255.0\n",
    "    # NHWC -> NCHW\n",
    "    img = img.transpose(2, 0, 1)\n",
    "    img = np.expand_dims(img, 0)\n",
    "    img = torch.from_numpy(img).float()\n",
    "\n",
    "    if (args.depth_path is not None):\n",
    "        depth_img = m.imresize(depth_img, (loader.img_size[0], loader.img_size[1]))\n",
    "        depth_img = depth_img.astype(np.float64)\n",
    "        if (args.dataset in ['NYUDv2_HHA','SUNRGBD_HHA']):\n",
    "            depth_img = depth_img[np.newaxis,:]\n",
    "        depth_img -= loader.depth_mean\n",
    "        if args.img_norm:\n",
    "            # Resize scales images from 0 to 255, thus we need\n",
    "            # to divide by 255.0\n",
    "            depth_img = depth_img.astype(float) / 255.0\n",
    "        depth_img = np.expand_dims(depth_img, 0)\n",
    "        depth_img = torch.from_numpy(depth_img).float()\n",
    "    \n",
    "    \n",
    "    # Setup Model\n",
    "    model = get_model(model_name, n_classes, version=args.dataset)\n",
    "    state = convert_state_dict(torch.load(args.model_path)['model_state'])\n",
    "    model.load_state_dict(state)\n",
    "    model.eval()\n",
    "\n",
    "    model.cuda(0)\n",
    "    images = Variable(img.cuda(0), volatile=True)\n",
    "    if (args.depth_path is not None):\n",
    "        depths = Variable(depth_img.cuda(0), volatile=True)\n",
    "\n",
    "    if (model_name in ['FCN_RGB', 'FCN_RGB_renet', 'FCN_RGB_mask2']):\n",
    "        outputs = model(images)\n",
    "    else:\n",
    "        outputs = model(images, depths)\n",
    "    #outputs = F.softmax(outputs, dim=1)\n",
    "\n",
    "    pred = np.squeeze(outputs.data.max(1)[1].cpu().numpy(), axis=0)\n",
    "    decoded = loader.decode_segmap(pred)\n",
    "    print('Classes found: ', np.unique(pred))\n",
    "    plt.imshow(decoded)\n",
    "    plt.imsave(os.path.join('../inference_result/output_images/NYUDv2/','%s_%s.png' % (args.model_name,args.dataset)), decoded)\n",
    "    print(\"Segmentation Mask Saved at: {}\".format(args.out_path))\n",
    "    \n",
    "    return pred"
   ]
  },
  {
   "cell_type": "code",
   "execution_count": 4,
   "metadata": {},
   "outputs": [
    {
     "name": "stdout",
     "output_type": "stream",
     "text": [
      "Read Input color image from : ../inference_result/input_images/SUNRGBD/test_color.jpg\n"
     ]
    },
    {
     "name": "stderr",
     "output_type": "stream",
     "text": [
      "/home/dongwonshin/.conda/envs/pytorch/lib/python3.6/site-packages/torch/nn/functional.py:1462: UserWarning: nn.functional.upsample_bilinear is deprecated. Use nn.functional.upsample instead.\n",
      "  warnings.warn(\"nn.functional.upsample_bilinear is deprecated. Use nn.functional.upsample instead.\")\n"
     ]
    },
    {
     "name": "stdout",
     "output_type": "stream",
     "text": [
      "Classes found:  [ 0  1  2  3  4  5 11 17 18 19 21 22 26 27 35 37]\n",
      "Segmentation Mask Saved at: None\n"
     ]
    },
    {
     "data": {
      "image/png": "[encoded data removed]",
      "text/plain": [
       "<matplotlib.figure.Figure at 0x7f12717b2160>"
      ]
     },
     "metadata": {},
     "output_type": "display_data"
    }
   ],
   "source": [
    "test(parser.parse_args('--model_path ../model_weights/FCN_RGB_SUNRGBD_best_model.pkl ' \\\n",
    "                       '--model_name FCN_RGB ' \\\n",
    "                       '--dataset SUNRGBD ' \\\n",
    "                       '--color_path ../inference_result/input_images/SUNRGBD/test_color.jpg'.split(' ')))"
   ]
  },
  {
   "cell_type": "code",
   "execution_count": 5,
   "metadata": {},
   "outputs": [
    {
     "name": "stdout",
     "output_type": "stream",
     "text": [
      "Read Input color image from : ../inference_result/input_images/SUNRGBD/test_color.jpg\n"
     ]
    },
    {
     "name": "stderr",
     "output_type": "stream",
     "text": [
      "/home/dongwonshin/.conda/envs/pytorch/lib/python3.6/site-packages/torch/nn/functional.py:1462: UserWarning: nn.functional.upsample_bilinear is deprecated. Use nn.functional.upsample instead.\n",
      "  warnings.warn(\"nn.functional.upsample_bilinear is deprecated. Use nn.functional.upsample instead.\")\n"
     ]
    },
    {
     "name": "stdout",
     "output_type": "stream",
     "text": [
      "Classes found:  [ 0  1  2  3  4 17 21 22]\n",
      "Segmentation Mask Saved at: None\n"
     ]
    },
    {
     "data": {
      "image/png": "[encoded data removed]",
      "text/plain": [
       "<matplotlib.figure.Figure at 0x7f12716d4cf8>"
      ]
     },
     "metadata": {},
     "output_type": "display_data"
    }
   ],
   "source": [
    "test(parser.parse_args('--model_path ../model_weights/FCN_RGB_renet_SUNRGBD_best_model.pkl ' \\\n",
    "                       '--model_name FCN_RGB_renet ' \\\n",
    "                       '--dataset SUNRGBD ' \\\n",
    "                       '--color_path ../inference_result/input_images/SUNRGBD/test_color.jpg'.split(' ')))"
   ]
  },
  {
   "cell_type": "code",
   "execution_count": 6,
   "metadata": {},
   "outputs": [
    {
     "name": "stdout",
     "output_type": "stream",
     "text": [
      "Read Input color image from : ../inference_result/input_images/SUNRGBD/test_color.jpg\n"
     ]
    },
    {
     "name": "stderr",
     "output_type": "stream",
     "text": [
      "/home/dongwonshin/.conda/envs/pytorch/lib/python3.6/site-packages/torch/nn/functional.py:1462: UserWarning: nn.functional.upsample_bilinear is deprecated. Use nn.functional.upsample instead.\n",
      "  warnings.warn(\"nn.functional.upsample_bilinear is deprecated. Use nn.functional.upsample instead.\")\n"
     ]
    },
    {
     "name": "stdout",
     "output_type": "stream",
     "text": [
      "Classes found:  [ 0  1  2  3  4  5  9 13 17 18 22 35]\n",
      "Segmentation Mask Saved at: None\n"
     ]
    },
    {
     "data": {
      "image/png": "[encoded data removed]",
      "text/plain": [
       "<matplotlib.figure.Figure at 0x7f1271598940>"
      ]
     },
     "metadata": {},
     "output_type": "display_data"
    }
   ],
   "source": [
    "test(parser.parse_args('--model_path ../model_weights/FCN_RGB_mask2_SUNRGBD_best_model.pkl ' \\\n",
    "                       '--model_name FCN_RGB_mask2 ' \\\n",
    "                       '--dataset SUNRGBD ' \\\n",
    "                       '--color_path ../inference_result/input_images/SUNRGBD/test_color.jpg'.split(' ')))"
   ]
  },
  {
   "cell_type": "code",
   "execution_count": 7,
   "metadata": {},
   "outputs": [
    {
     "name": "stdout",
     "output_type": "stream",
     "text": [
      "Read Input color image from : ../inference_result/input_images/SUNRGBD/test_color.jpg\n",
      "Read Input depth image from : ../inference_result/input_images/SUNRGBD/test_depth.png\n"
     ]
    },
    {
     "name": "stderr",
     "output_type": "stream",
     "text": [
      "/home/dongwonshin/.conda/envs/pytorch/lib/python3.6/site-packages/torch/nn/functional.py:1462: UserWarning: nn.functional.upsample_bilinear is deprecated. Use nn.functional.upsample instead.\n",
      "  warnings.warn(\"nn.functional.upsample_bilinear is deprecated. Use nn.functional.upsample instead.\")\n"
     ]
    },
    {
     "name": "stdout",
     "output_type": "stream",
     "text": [
      "Classes found:  [ 0  1  2  3  4  5  9 16 17 18 19 21 22 31 32 35 37]\n",
      "Segmentation Mask Saved at: None\n"
     ]
    },
    {
     "data": {
      "image/png": "[encoded data removed]",
      "text/plain": [
       "<matplotlib.figure.Figure at 0x7f1271861d30>"
      ]
     },
     "metadata": {},
     "output_type": "display_data"
    }
   ],
   "source": [
    "test(parser.parse_args('--model_path ../model_weights/FCN_RGBD_SUNRGBD_best_model.pkl ' \\\n",
    "                       '--model_name FCN_RGBD ' \\\n",
    "                       '--dataset SUNRGBD ' \\\n",
    "                       '--color_path ../inference_result/input_images/SUNRGBD/test_color.jpg ' \\\n",
    "                       '--depth_path ../inference_result/input_images/SUNRGBD/test_depth.png'.split(' ')))"
   ]
  },
  {
   "cell_type": "code",
   "execution_count": 8,
   "metadata": {},
   "outputs": [
    {
     "name": "stdout",
     "output_type": "stream",
     "text": [
      "Read Input color image from : ../inference_result/input_images/SUNRGBD/test_color.jpg\n",
      "Read Input depth image from : ../inference_result/input_images/SUNRGBD/test_depth.png\n"
     ]
    },
    {
     "name": "stderr",
     "output_type": "stream",
     "text": [
      "/home/dongwonshin/.conda/envs/pytorch/lib/python3.6/site-packages/torch/nn/functional.py:1462: UserWarning: nn.functional.upsample_bilinear is deprecated. Use nn.functional.upsample instead.\n",
      "  warnings.warn(\"nn.functional.upsample_bilinear is deprecated. Use nn.functional.upsample instead.\")\n"
     ]
    },
    {
     "name": "stdout",
     "output_type": "stream",
     "text": [
      "Classes found:  [ 0  1  2  3  4 17 19 22]\n",
      "Segmentation Mask Saved at: None\n"
     ]
    },
    {
     "data": {
      "image/png": "[encoded data removed]",
      "text/plain": [
       "<matplotlib.figure.Figure at 0x7f1271870518>"
      ]
     },
     "metadata": {},
     "output_type": "display_data"
    }
   ],
   "source": [
    "test(parser.parse_args('--model_path ../model_weights/FCN_RGBD_renet_SUNRGBD_best_model.pkl ' \\\n",
    "                       '--model_name FCN_RGBD_renet ' \\\n",
    "                       '--dataset SUNRGBD ' \\\n",
    "                       '--color_path ../inference_result/input_images/SUNRGBD/test_color.jpg ' \\\n",
    "                       '--depth_path ../inference_result/input_images/SUNRGBD/test_depth.png'.split(' ')))"
   ]
  },
  {
   "cell_type": "code",
   "execution_count": 13,
   "metadata": {},
   "outputs": [
    {
     "name": "stdout",
     "output_type": "stream",
     "text": [
      "Read Input color image from : ../inference_result/input_images/SUNRGBD/test_color.jpg\n",
      "Read Input depth image from : ../inference_result/input_images/SUNRGBD/test_depth.png\n"
     ]
    },
    {
     "name": "stderr",
     "output_type": "stream",
     "text": [
      "/home/dongwonshin/.conda/envs/pytorch/lib/python3.6/site-packages/torch/nn/functional.py:1462: UserWarning: nn.functional.upsample_bilinear is deprecated. Use nn.functional.upsample instead.\n",
      "  warnings.warn(\"nn.functional.upsample_bilinear is deprecated. Use nn.functional.upsample instead.\")\n"
     ]
    },
    {
     "name": "stdout",
     "output_type": "stream",
     "text": [
      "Classes found:  [ 0  1  2  4 16 17 18 21 22 35]\n",
      "Segmentation Mask Saved at: None\n"
     ]
    },
    {
     "data": {
      "image/png": "[encoded data removed]",
      "text/plain": [
       "<matplotlib.figure.Figure at 0x7f1270447b38>"
      ]
     },
     "metadata": {},
     "output_type": "display_data"
    }
   ],
   "source": [
    "test(parser.parse_args('--model_path ../model_weights/FCN_RGBD_mask2_SUNRGBD_best_model.pkl ' \\\n",
    "                       '--model_name FCN_RGBD_mask2 ' \\\n",
    "                       '--dataset SUNRGBD ' \\\n",
    "                       '--color_path ../inference_result/input_images/SUNRGBD/test_color.jpg ' \\\n",
    "                       '--depth_path ../inference_result/input_images/SUNRGBD/test_depth.png'.split(' ')))"
   ]
  },
  {
   "cell_type": "code",
   "execution_count": 21,
   "metadata": {},
   "outputs": [
    {
     "name": "stdout",
     "output_type": "stream",
     "text": [
      "Read Input color image from : ../inference_result/input_images/SUNRGBD/img-000001.jpg\n",
      "Read Input depth image from : ../inference_result/input_images/SUNRGBD/HHA_000001.png\n"
     ]
    },
    {
     "name": "stderr",
     "output_type": "stream",
     "text": [
      "/home/dongwonshin/.conda/envs/pytorch/lib/python3.6/site-packages/torch/nn/functional.py:1462: UserWarning: nn.functional.upsample_bilinear is deprecated. Use nn.functional.upsample instead.\n",
      "  warnings.warn(\"nn.functional.upsample_bilinear is deprecated. Use nn.functional.upsample instead.\")\n"
     ]
    },
    {
     "ename": "ValueError",
     "evalue": "Expected 4D tensor as input, got 5D tensor instead.",
     "output_type": "error",
     "traceback": [
      "\u001b[0;31m---------------------------------------------------------------------------\u001b[0m",
      "\u001b[0;31mValueError\u001b[0m                                Traceback (most recent call last)",
      "\u001b[0;32m<ipython-input-21-1b4083e15730>\u001b[0m in \u001b[0;36m<module>\u001b[0;34m()\u001b[0m\n\u001b[0;32m----> 1\u001b[0;31m \u001b[0mtest\u001b[0m\u001b[0;34m(\u001b[0m\u001b[0mparser\u001b[0m\u001b[0;34m.\u001b[0m\u001b[0mparse_args\u001b[0m\u001b[0;34m(\u001b[0m\u001b[0;34m'--model_path ../model_weights/FCN_RGBHHA_renet_SUNRGBD_best_model.pkl '\u001b[0m                        \u001b[0;34m'--model_name FCN_RGBHHA_renet '\u001b[0m                        \u001b[0;34m'--dataset SUNRGBD_HHA '\u001b[0m                        \u001b[0;34m'--color_path ../inference_result/input_images/SUNRGBD/img-000001.jpg '\u001b[0m                        \u001b[0;34m'--depth_path ../inference_result/input_images/SUNRGBD/HHA_000001.png'\u001b[0m\u001b[0;34m.\u001b[0m\u001b[0msplit\u001b[0m\u001b[0;34m(\u001b[0m\u001b[0;34m' '\u001b[0m\u001b[0;34m)\u001b[0m\u001b[0;34m)\u001b[0m\u001b[0;34m)\u001b[0m\u001b[0;34m\u001b[0m\u001b[0m\n\u001b[0m",
      "\u001b[0;32m<ipython-input-12-2acca0f77bd6>\u001b[0m in \u001b[0;36mtest\u001b[0;34m(args)\u001b[0m\n\u001b[1;32m     66\u001b[0m         \u001b[0moutputs\u001b[0m \u001b[0;34m=\u001b[0m \u001b[0mmodel\u001b[0m\u001b[0;34m(\u001b[0m\u001b[0mimages\u001b[0m\u001b[0;34m)\u001b[0m\u001b[0;34m\u001b[0m\u001b[0m\n\u001b[1;32m     67\u001b[0m     \u001b[0;32melse\u001b[0m\u001b[0;34m:\u001b[0m\u001b[0;34m\u001b[0m\u001b[0m\n\u001b[0;32m---> 68\u001b[0;31m         \u001b[0moutputs\u001b[0m \u001b[0;34m=\u001b[0m \u001b[0mmodel\u001b[0m\u001b[0;34m(\u001b[0m\u001b[0mimages\u001b[0m\u001b[0;34m,\u001b[0m \u001b[0mdepths\u001b[0m\u001b[0;34m)\u001b[0m\u001b[0;34m\u001b[0m\u001b[0m\n\u001b[0m\u001b[1;32m     69\u001b[0m     \u001b[0;31m#outputs = F.softmax(outputs, dim=1)\u001b[0m\u001b[0;34m\u001b[0m\u001b[0;34m\u001b[0m\u001b[0m\n\u001b[1;32m     70\u001b[0m \u001b[0;34m\u001b[0m\u001b[0m\n",
      "\u001b[0;32m~/.conda/envs/pytorch/lib/python3.6/site-packages/torch/nn/modules/module.py\u001b[0m in \u001b[0;36m__call__\u001b[0;34m(self, *input, **kwargs)\u001b[0m\n\u001b[1;32m    355\u001b[0m             \u001b[0mresult\u001b[0m \u001b[0;34m=\u001b[0m \u001b[0mself\u001b[0m\u001b[0;34m.\u001b[0m\u001b[0m_slow_forward\u001b[0m\u001b[0;34m(\u001b[0m\u001b[0;34m*\u001b[0m\u001b[0minput\u001b[0m\u001b[0;34m,\u001b[0m \u001b[0;34m**\u001b[0m\u001b[0mkwargs\u001b[0m\u001b[0;34m)\u001b[0m\u001b[0;34m\u001b[0m\u001b[0m\n\u001b[1;32m    356\u001b[0m         \u001b[0;32melse\u001b[0m\u001b[0;34m:\u001b[0m\u001b[0;34m\u001b[0m\u001b[0m\n\u001b[0;32m--> 357\u001b[0;31m             \u001b[0mresult\u001b[0m \u001b[0;34m=\u001b[0m \u001b[0mself\u001b[0m\u001b[0;34m.\u001b[0m\u001b[0mforward\u001b[0m\u001b[0;34m(\u001b[0m\u001b[0;34m*\u001b[0m\u001b[0minput\u001b[0m\u001b[0;34m,\u001b[0m \u001b[0;34m**\u001b[0m\u001b[0mkwargs\u001b[0m\u001b[0;34m)\u001b[0m\u001b[0;34m\u001b[0m\u001b[0m\n\u001b[0m\u001b[1;32m    358\u001b[0m         \u001b[0;32mfor\u001b[0m \u001b[0mhook\u001b[0m \u001b[0;32min\u001b[0m \u001b[0mself\u001b[0m\u001b[0;34m.\u001b[0m\u001b[0m_forward_hooks\u001b[0m\u001b[0;34m.\u001b[0m\u001b[0mvalues\u001b[0m\u001b[0;34m(\u001b[0m\u001b[0;34m)\u001b[0m\u001b[0;34m:\u001b[0m\u001b[0;34m\u001b[0m\u001b[0m\n\u001b[1;32m    359\u001b[0m             \u001b[0mhook_result\u001b[0m \u001b[0;34m=\u001b[0m \u001b[0mhook\u001b[0m\u001b[0;34m(\u001b[0m\u001b[0mself\u001b[0m\u001b[0;34m,\u001b[0m \u001b[0minput\u001b[0m\u001b[0;34m,\u001b[0m \u001b[0mresult\u001b[0m\u001b[0;34m)\u001b[0m\u001b[0;34m\u001b[0m\u001b[0m\n",
      "\u001b[0;32m~/Desktop/semantic_segmentation_rgbd/research_notebooks/ptsemseg/models/FCN_RGBHHA_renet.py\u001b[0m in \u001b[0;36mforward\u001b[0;34m(self, color, depth)\u001b[0m\n\u001b[1;32m    179\u001b[0m         \u001b[0mscore\u001b[0m \u001b[0;34m+=\u001b[0m \u001b[0mscore_pool3\u001b[0m\u001b[0;34m\u001b[0m\u001b[0m\n\u001b[1;32m    180\u001b[0m \u001b[0;34m\u001b[0m\u001b[0m\n\u001b[0;32m--> 181\u001b[0;31m         \u001b[0mdepth_conv1\u001b[0m \u001b[0;34m=\u001b[0m \u001b[0mself\u001b[0m\u001b[0;34m.\u001b[0m\u001b[0mdepth_conv_block1\u001b[0m\u001b[0;34m(\u001b[0m\u001b[0mdepth\u001b[0m\u001b[0;34m)\u001b[0m\u001b[0;34m\u001b[0m\u001b[0m\n\u001b[0m\u001b[1;32m    182\u001b[0m         \u001b[0mdepth_conv2\u001b[0m \u001b[0;34m=\u001b[0m \u001b[0mself\u001b[0m\u001b[0;34m.\u001b[0m\u001b[0mconv_block2\u001b[0m\u001b[0;34m(\u001b[0m\u001b[0mdepth_conv1\u001b[0m\u001b[0;34m)\u001b[0m\u001b[0;34m\u001b[0m\u001b[0m\n\u001b[1;32m    183\u001b[0m         \u001b[0mdepth_conv3\u001b[0m \u001b[0;34m=\u001b[0m \u001b[0mself\u001b[0m\u001b[0;34m.\u001b[0m\u001b[0mconv_block3\u001b[0m\u001b[0;34m(\u001b[0m\u001b[0mdepth_conv2\u001b[0m\u001b[0;34m)\u001b[0m\u001b[0;34m\u001b[0m\u001b[0m\n",
      "\u001b[0;32m~/.conda/envs/pytorch/lib/python3.6/site-packages/torch/nn/modules/module.py\u001b[0m in \u001b[0;36m__call__\u001b[0;34m(self, *input, **kwargs)\u001b[0m\n\u001b[1;32m    355\u001b[0m             \u001b[0mresult\u001b[0m \u001b[0;34m=\u001b[0m \u001b[0mself\u001b[0m\u001b[0;34m.\u001b[0m\u001b[0m_slow_forward\u001b[0m\u001b[0;34m(\u001b[0m\u001b[0;34m*\u001b[0m\u001b[0minput\u001b[0m\u001b[0;34m,\u001b[0m \u001b[0;34m**\u001b[0m\u001b[0mkwargs\u001b[0m\u001b[0;34m)\u001b[0m\u001b[0;34m\u001b[0m\u001b[0m\n\u001b[1;32m    356\u001b[0m         \u001b[0;32melse\u001b[0m\u001b[0;34m:\u001b[0m\u001b[0;34m\u001b[0m\u001b[0m\n\u001b[0;32m--> 357\u001b[0;31m             \u001b[0mresult\u001b[0m \u001b[0;34m=\u001b[0m \u001b[0mself\u001b[0m\u001b[0;34m.\u001b[0m\u001b[0mforward\u001b[0m\u001b[0;34m(\u001b[0m\u001b[0;34m*\u001b[0m\u001b[0minput\u001b[0m\u001b[0;34m,\u001b[0m \u001b[0;34m**\u001b[0m\u001b[0mkwargs\u001b[0m\u001b[0;34m)\u001b[0m\u001b[0;34m\u001b[0m\u001b[0m\n\u001b[0m\u001b[1;32m    358\u001b[0m         \u001b[0;32mfor\u001b[0m \u001b[0mhook\u001b[0m \u001b[0;32min\u001b[0m \u001b[0mself\u001b[0m\u001b[0;34m.\u001b[0m\u001b[0m_forward_hooks\u001b[0m\u001b[0;34m.\u001b[0m\u001b[0mvalues\u001b[0m\u001b[0;34m(\u001b[0m\u001b[0;34m)\u001b[0m\u001b[0;34m:\u001b[0m\u001b[0;34m\u001b[0m\u001b[0m\n\u001b[1;32m    359\u001b[0m             \u001b[0mhook_result\u001b[0m \u001b[0;34m=\u001b[0m \u001b[0mhook\u001b[0m\u001b[0;34m(\u001b[0m\u001b[0mself\u001b[0m\u001b[0;34m,\u001b[0m \u001b[0minput\u001b[0m\u001b[0;34m,\u001b[0m \u001b[0mresult\u001b[0m\u001b[0;34m)\u001b[0m\u001b[0;34m\u001b[0m\u001b[0m\n",
      "\u001b[0;32m~/.conda/envs/pytorch/lib/python3.6/site-packages/torch/nn/modules/container.py\u001b[0m in \u001b[0;36mforward\u001b[0;34m(self, input)\u001b[0m\n\u001b[1;32m     65\u001b[0m     \u001b[0;32mdef\u001b[0m \u001b[0mforward\u001b[0m\u001b[0;34m(\u001b[0m\u001b[0mself\u001b[0m\u001b[0;34m,\u001b[0m \u001b[0minput\u001b[0m\u001b[0;34m)\u001b[0m\u001b[0;34m:\u001b[0m\u001b[0;34m\u001b[0m\u001b[0m\n\u001b[1;32m     66\u001b[0m         \u001b[0;32mfor\u001b[0m \u001b[0mmodule\u001b[0m \u001b[0;32min\u001b[0m \u001b[0mself\u001b[0m\u001b[0;34m.\u001b[0m\u001b[0m_modules\u001b[0m\u001b[0;34m.\u001b[0m\u001b[0mvalues\u001b[0m\u001b[0;34m(\u001b[0m\u001b[0;34m)\u001b[0m\u001b[0;34m:\u001b[0m\u001b[0;34m\u001b[0m\u001b[0m\n\u001b[0;32m---> 67\u001b[0;31m             \u001b[0minput\u001b[0m \u001b[0;34m=\u001b[0m \u001b[0mmodule\u001b[0m\u001b[0;34m(\u001b[0m\u001b[0minput\u001b[0m\u001b[0;34m)\u001b[0m\u001b[0;34m\u001b[0m\u001b[0m\n\u001b[0m\u001b[1;32m     68\u001b[0m         \u001b[0;32mreturn\u001b[0m \u001b[0minput\u001b[0m\u001b[0;34m\u001b[0m\u001b[0m\n\u001b[1;32m     69\u001b[0m \u001b[0;34m\u001b[0m\u001b[0m\n",
      "\u001b[0;32m~/.conda/envs/pytorch/lib/python3.6/site-packages/torch/nn/modules/module.py\u001b[0m in \u001b[0;36m__call__\u001b[0;34m(self, *input, **kwargs)\u001b[0m\n\u001b[1;32m    355\u001b[0m             \u001b[0mresult\u001b[0m \u001b[0;34m=\u001b[0m \u001b[0mself\u001b[0m\u001b[0;34m.\u001b[0m\u001b[0m_slow_forward\u001b[0m\u001b[0;34m(\u001b[0m\u001b[0;34m*\u001b[0m\u001b[0minput\u001b[0m\u001b[0;34m,\u001b[0m \u001b[0;34m**\u001b[0m\u001b[0mkwargs\u001b[0m\u001b[0;34m)\u001b[0m\u001b[0;34m\u001b[0m\u001b[0m\n\u001b[1;32m    356\u001b[0m         \u001b[0;32melse\u001b[0m\u001b[0;34m:\u001b[0m\u001b[0;34m\u001b[0m\u001b[0m\n\u001b[0;32m--> 357\u001b[0;31m             \u001b[0mresult\u001b[0m \u001b[0;34m=\u001b[0m \u001b[0mself\u001b[0m\u001b[0;34m.\u001b[0m\u001b[0mforward\u001b[0m\u001b[0;34m(\u001b[0m\u001b[0;34m*\u001b[0m\u001b[0minput\u001b[0m\u001b[0;34m,\u001b[0m \u001b[0;34m**\u001b[0m\u001b[0mkwargs\u001b[0m\u001b[0;34m)\u001b[0m\u001b[0;34m\u001b[0m\u001b[0m\n\u001b[0m\u001b[1;32m    358\u001b[0m         \u001b[0;32mfor\u001b[0m \u001b[0mhook\u001b[0m \u001b[0;32min\u001b[0m \u001b[0mself\u001b[0m\u001b[0;34m.\u001b[0m\u001b[0m_forward_hooks\u001b[0m\u001b[0;34m.\u001b[0m\u001b[0mvalues\u001b[0m\u001b[0;34m(\u001b[0m\u001b[0;34m)\u001b[0m\u001b[0;34m:\u001b[0m\u001b[0;34m\u001b[0m\u001b[0m\n\u001b[1;32m    359\u001b[0m             \u001b[0mhook_result\u001b[0m \u001b[0;34m=\u001b[0m \u001b[0mhook\u001b[0m\u001b[0;34m(\u001b[0m\u001b[0mself\u001b[0m\u001b[0;34m,\u001b[0m \u001b[0minput\u001b[0m\u001b[0;34m,\u001b[0m \u001b[0mresult\u001b[0m\u001b[0;34m)\u001b[0m\u001b[0;34m\u001b[0m\u001b[0m\n",
      "\u001b[0;32m~/.conda/envs/pytorch/lib/python3.6/site-packages/torch/nn/modules/conv.py\u001b[0m in \u001b[0;36mforward\u001b[0;34m(self, input)\u001b[0m\n\u001b[1;32m    280\u001b[0m     \u001b[0;32mdef\u001b[0m \u001b[0mforward\u001b[0m\u001b[0;34m(\u001b[0m\u001b[0mself\u001b[0m\u001b[0;34m,\u001b[0m \u001b[0minput\u001b[0m\u001b[0;34m)\u001b[0m\u001b[0;34m:\u001b[0m\u001b[0;34m\u001b[0m\u001b[0m\n\u001b[1;32m    281\u001b[0m         return F.conv2d(input, self.weight, self.bias, self.stride,\n\u001b[0;32m--> 282\u001b[0;31m                         self.padding, self.dilation, self.groups)\n\u001b[0m\u001b[1;32m    283\u001b[0m \u001b[0;34m\u001b[0m\u001b[0m\n\u001b[1;32m    284\u001b[0m \u001b[0;34m\u001b[0m\u001b[0m\n",
      "\u001b[0;32m~/.conda/envs/pytorch/lib/python3.6/site-packages/torch/nn/functional.py\u001b[0m in \u001b[0;36mconv2d\u001b[0;34m(input, weight, bias, stride, padding, dilation, groups)\u001b[0m\n\u001b[1;32m     83\u001b[0m     \"\"\"\n\u001b[1;32m     84\u001b[0m     \u001b[0;32mif\u001b[0m \u001b[0minput\u001b[0m \u001b[0;32mis\u001b[0m \u001b[0;32mnot\u001b[0m \u001b[0;32mNone\u001b[0m \u001b[0;32mand\u001b[0m \u001b[0minput\u001b[0m\u001b[0;34m.\u001b[0m\u001b[0mdim\u001b[0m\u001b[0;34m(\u001b[0m\u001b[0;34m)\u001b[0m \u001b[0;34m!=\u001b[0m \u001b[0;36m4\u001b[0m\u001b[0;34m:\u001b[0m\u001b[0;34m\u001b[0m\u001b[0m\n\u001b[0;32m---> 85\u001b[0;31m         \u001b[0;32mraise\u001b[0m \u001b[0mValueError\u001b[0m\u001b[0;34m(\u001b[0m\u001b[0;34m\"Expected 4D tensor as input, got {}D tensor instead.\"\u001b[0m\u001b[0;34m.\u001b[0m\u001b[0mformat\u001b[0m\u001b[0;34m(\u001b[0m\u001b[0minput\u001b[0m\u001b[0;34m.\u001b[0m\u001b[0mdim\u001b[0m\u001b[0;34m(\u001b[0m\u001b[0;34m)\u001b[0m\u001b[0;34m)\u001b[0m\u001b[0;34m)\u001b[0m\u001b[0;34m\u001b[0m\u001b[0m\n\u001b[0m\u001b[1;32m     86\u001b[0m \u001b[0;34m\u001b[0m\u001b[0m\n\u001b[1;32m     87\u001b[0m     f = _ConvNd(_pair(stride), _pair(padding), _pair(dilation), False,\n",
      "\u001b[0;31mValueError\u001b[0m: Expected 4D tensor as input, got 5D tensor instead."
     ]
    }
   ],
   "source": [
    "test(parser.parse_args('--model_path ../model_weights/FCN_RGBHHA_renet_SUNRGBD_best_model.pkl ' \\\n",
    "                       '--model_name FCN_RGBHHA_renet ' \\\n",
    "                       '--dataset SUNRGBD_HHA ' \\\n",
    "                       '--color_path ../inference_result/input_images/SUNRGBD/img-000001.jpg ' \\\n",
    "                       '--depth_path ../inference_result/input_images/SUNRGBD/HHA_000001.png'.split(' ')))"
   ]
  },
  {
   "cell_type": "code",
   "execution_count": null,
   "metadata": {},
   "outputs": [],
   "source": [
    "test(parser.parse_args('--model_path ../model_weights/FCN_RGBHHA_mask2_SUNRGBD_best_model.pkl ' \\\n",
    "                       '--model_name FCN_RGBHHA_mask2 ' \\\n",
    "                       '--dataset SUNRGBD_HHA ' \\\n",
    "                       '--color_path ../inference_result/input_images/SUNRGBD/img-000001.jpg ' \\\n",
    "                       '--depth_path ../inference_result/input_images/SUNRGBD/HHA_000001.png'.split(' ')))"
   ]
  },
  {
   "cell_type": "code",
   "execution_count": 20,
   "metadata": {},
   "outputs": [
    {
     "data": {
      "image/png": "[encoded data removed]",
      "text/plain": [
       "<matplotlib.figure.Figure at 0x7f1270464cc0>"
      ]
     },
     "metadata": {},
     "output_type": "display_data"
    }
   ],
   "source": [
    "data_path = '/home/dongwonshin/Desktop/Datasets/SUNRGBD/SUNRGBD/'\n",
    "loader = SUNRGBDLoader(data_path, is_transform=True, split='val')\n",
    "label_img = misc.imread('../inference_result/input_images/SUNRGBD/label-000001.png')\n",
    "decoded = loader.decode_segmap(label_img)\n",
    "plt.imshow(decoded)\n",
    "plt.imsave('../inference_result/input_images/SUNRGBD/label-000001(decoded).png',decoded)"
   ]
  },
  {
   "cell_type": "code",
   "execution_count": null,
   "metadata": {},
   "outputs": [],
   "source": []
  }
 ],
 "metadata": {
  "kernelspec": {
   "display_name": "Python [conda env:pytorch]",
   "language": "python",
   "name": "conda-env-pytorch-py"
  },
  "language_info": {
   "codemirror_mode": {
    "name": "ipython",
    "version": 3
   },
   "file_extension": ".py",
   "mimetype": "text/x-python",
   "name": "python",
   "nbconvert_exporter": "python",
   "pygments_lexer": "ipython3",
   "version": "3.6.3"
  }
 },
 "nbformat": 4,
 "nbformat_minor": 2
}
