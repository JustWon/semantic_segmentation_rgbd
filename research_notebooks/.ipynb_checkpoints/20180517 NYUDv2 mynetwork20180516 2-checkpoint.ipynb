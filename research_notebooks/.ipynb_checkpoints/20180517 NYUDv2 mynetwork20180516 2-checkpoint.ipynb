{
 "cells": [
  {
   "cell_type": "markdown",
   "metadata": {},
   "source": [
    "## 2018년 05월 17일 16시 08분 58초에 추가 ##\n",
    "\n",
    "뎁스 영상 png로 바꿔서 학습시키기\n"
   ]
  },
  {
   "cell_type": "code",
   "execution_count": 1,
   "metadata": {},
   "outputs": [],
   "source": [
    "%matplotlib inline\n",
    "import os\n",
    "import collections\n",
    "import torch\n",
    "import torchvision\n",
    "import numpy as np\n",
    "import scipy.misc as m\n",
    "import scipy.io as io\n",
    "import matplotlib.pyplot as plt\n",
    "\n",
    "from NYUDv2Loader import *\n",
    "\n",
    "os.environ['CUDA_VISIBLE_DEVICES'] = '0'\n",
    "data_path = '/home/dongwonshin/Desktop/Datasets/NYUDv2/'\n",
    "arg_string = '--arch mynetwork20180516 --batch_size 3'"
   ]
  },
  {
   "cell_type": "markdown",
   "metadata": {},
   "source": [
    "# Argument setting"
   ]
  },
  {
   "cell_type": "code",
   "execution_count": 2,
   "metadata": {},
   "outputs": [],
   "source": [
    "import sys, os\n",
    "import torch\n",
    "import visdom\n",
    "import argparse\n",
    "import numpy as np\n",
    "import torch.nn as nn\n",
    "import torch.nn.functional as F\n",
    "import torchvision.models as models\n",
    "\n",
    "from torch.autograd import Variable\n",
    "from torch.utils import data\n",
    "from tqdm import tqdm\n",
    "\n",
    "from ptsemseg.models import get_model\n",
    "from ptsemseg.loader import get_loader, get_data_path\n",
    "from ptsemseg.metrics import runningScore\n",
    "from ptsemseg.loss import *\n",
    "from ptsemseg.augmentations import *\n",
    "\n",
    "\n",
    "parser = argparse.ArgumentParser(description='Hyperparams')\n",
    "parser.add_argument('--arch', nargs='?', type=str, default='fcn8s', help='Architecture to use [\\'fcn8s, unet, segnet etc\\']')\n",
    "parser.add_argument('--img_rows', nargs='?', type=int, default=256, help='Height of the input image')\n",
    "parser.add_argument('--img_cols', nargs='?', type=int, default=256, help='Width of the input image')\n",
    "\n",
    "parser.add_argument('--img_norm', dest='img_norm', action='store_true', help='Enable input image scales normalization [0, 1] | True by default')\n",
    "parser.add_argument('--no-img_norm', dest='img_norm', action='store_false', help='Disable input image scales normalization [0, 1] | True by default')\n",
    "parser.set_defaults(img_norm=True)\n",
    "\n",
    "parser.add_argument('--n_epoch', nargs='?', type=int, default=100, help='# of the epochs')\n",
    "parser.add_argument('--batch_size', nargs='?', type=int, default=1, help='Batch Size')\n",
    "parser.add_argument('--l_rate', nargs='?', type=float, default=1e-5, help='Learning Rate')\n",
    "parser.add_argument('--feature_scale', nargs='?', type=int, default=1, help='Divider for # of features to use')\n",
    "parser.add_argument('--resume', nargs='?', type=str, default=None, help='Path to previous saved model to restart from')\n",
    "\n",
    "parser.add_argument('--visdom', dest='visdom', action='store_true', help='Enable visualization(s) on visdom | False by default')\n",
    "parser.add_argument('--no-visdom', dest='visdom', action='store_false', help='Disable visualization(s) on visdom | False by default')\n",
    "parser.set_defaults(visdom=False)"
   ]
  },
  {
   "cell_type": "code",
   "execution_count": null,
   "metadata": {},
   "outputs": [],
   "source": [
    "args = parser.parse_args(arg_string.split(' '))\n",
    "\n",
    "# Setup Augmentations\n",
    "data_aug= Compose([RandomRotate(10), RandomHorizontallyFlip()])\n",
    "\n",
    "# Setup Dataloader\n",
    "t_loader = NYUDv2Loader(data_path, is_transform=True)\n",
    "v_loader = NYUDv2Loader(data_path, is_transform=True, split='val')\n",
    "\n",
    "n_classes = t_loader.n_classes\n",
    "trainloader = data.DataLoader(t_loader, batch_size=args.batch_size, num_workers=16, shuffle=True)\n",
    "valloader = data.DataLoader(v_loader, batch_size=args.batch_size, num_workers=16)\n",
    "\n",
    "# Setup Metrics\n",
    "running_metrics = runningScore(n_classes)\n",
    "\n",
    "# Setup visdom for visualization\n",
    "if args.visdom:\n",
    "    vis = visdom.Visdom()\n",
    "\n",
    "    loss_window = vis.line(X=torch.zeros((1,)).cpu(),\n",
    "                       Y=torch.zeros((1)).cpu(),\n",
    "                       opts=dict(xlabel='minibatches',\n",
    "                                 ylabel='Loss',\n",
    "                                 title='Training Loss',\n",
    "                                 legend=['Loss']))\n",
    "\n",
    "# Setup Model\n",
    "model = get_model(args.arch, n_classes)\n",
    "\n",
    "model = torch.nn.DataParallel(model, device_ids=range(torch.cuda.device_count()))\n",
    "model.cuda()\n",
    "\n",
    "# Check if model has custom optimizer / loss\n",
    "if hasattr(model.module, 'optimizer'):\n",
    "    optimizer = model.module.optimizer\n",
    "else:\n",
    "    optimizer = torch.optim.SGD(model.parameters(), lr=args.l_rate, momentum=0.99, weight_decay=5e-4)\n",
    "\n",
    "if hasattr(model.module, 'loss'):\n",
    "    print('Using custom loss')\n",
    "    loss_fn = model.module.loss\n",
    "else:\n",
    "    loss_fn = cross_entropy2d\n",
    "\n",
    "if args.resume is not None:                                         \n",
    "    if os.path.isfile(args.resume):\n",
    "        print(\"Loading model and optimizer from checkpoint '{}'\".format(args.resume))\n",
    "        checkpoint = torch.load(args.resume)\n",
    "        model.load_state_dict(checkpoint['model_state'])\n",
    "        optimizer.load_state_dict(checkpoint['optimizer_state'])\n",
    "        print(\"Loaded checkpoint '{}' (epoch {})\"                    \n",
    "              .format(args.resume, checkpoint['epoch']))\n",
    "    else:\n",
    "        print(\"No checkpoint found at '{}'\".format(args.resume)) \n"
   ]
  },
  {
   "cell_type": "markdown",
   "metadata": {},
   "source": [
    "# Training"
   ]
  },
  {
   "cell_type": "code",
   "execution_count": null,
   "metadata": {},
   "outputs": [
    {
     "name": "stderr",
     "output_type": "stream",
     "text": [
      "/home/dongwonshin/.conda/envs/pytorch/lib/python3.6/site-packages/torch/nn/functional.py:1462: UserWarning: nn.functional.upsample_bilinear is deprecated. Use nn.functional.upsample instead.\n",
      "  warnings.warn(\"nn.functional.upsample_bilinear is deprecated. Use nn.functional.upsample instead.\")\n"
     ]
    },
    {
     "name": "stdout",
     "output_type": "stream",
     "text": [
      "Epoch [1/100] Loss: 2.9325\n",
      "Epoch [1/100] Loss: 2.4268\n",
      "Epoch [1/100] Loss: 2.4916\n",
      "Epoch [1/100] Loss: 1.9755\n",
      "Epoch [1/100] Loss: 2.1923\n",
      "Epoch [1/100] Loss: 1.9943\n",
      "Epoch [1/100] Loss: 1.8814\n",
      "Epoch [1/100] Loss: 2.1083\n",
      "Epoch [1/100] Loss: 1.7646\n",
      "Epoch [1/100] Loss: 2.1619\n",
      "Epoch [1/100] Loss: 2.0777\n",
      "Epoch [1/100] Loss: 2.2310\n",
      "Epoch [1/100] Loss: 1.8409\n"
     ]
    },
    {
     "name": "stderr",
     "output_type": "stream",
     "text": [
      "218it [01:13,  2.98it/s]\n"
     ]
    },
    {
     "name": "stdout",
     "output_type": "stream",
     "text": [
      "Overall Acc: \t 0.369595443306\n",
      "Mean Acc : \t 0.154271897028\n",
      "FreqW Acc : \t 0.192365349002\n",
      "Mean IoU : \t 0.0894625555176\n",
      "Epoch [2/100] Loss: 1.8133\n",
      "Epoch [2/100] Loss: 1.5728\n",
      "Epoch [2/100] Loss: 1.9179\n",
      "Epoch [2/100] Loss: 1.8672\n",
      "Epoch [2/100] Loss: 1.5793\n",
      "Epoch [2/100] Loss: 1.8723\n",
      "Epoch [2/100] Loss: 1.5456\n",
      "Epoch [2/100] Loss: 1.7754\n",
      "Epoch [2/100] Loss: 1.5642\n",
      "Epoch [2/100] Loss: 1.5351\n",
      "Epoch [2/100] Loss: 1.8607\n",
      "Epoch [2/100] Loss: 1.4176\n",
      "Epoch [2/100] Loss: 1.9216\n"
     ]
    },
    {
     "name": "stderr",
     "output_type": "stream",
     "text": [
      "218it [01:13,  2.95it/s]\n"
     ]
    },
    {
     "name": "stdout",
     "output_type": "stream",
     "text": [
      "Overall Acc: \t 0.414536570822\n",
      "Mean Acc : \t 0.20309548645\n",
      "FreqW Acc : \t 0.235199989868\n",
      "Mean IoU : \t 0.129641914081\n",
      "Epoch [3/100] Loss: 1.2141\n",
      "Epoch [3/100] Loss: 1.3038\n",
      "Epoch [3/100] Loss: 1.6932\n",
      "Epoch [3/100] Loss: 1.5484\n",
      "Epoch [3/100] Loss: 1.7577\n",
      "Epoch [3/100] Loss: 1.6153\n",
      "Epoch [3/100] Loss: 1.7135\n",
      "Epoch [3/100] Loss: 1.6702\n",
      "Epoch [3/100] Loss: 1.4786\n",
      "Epoch [3/100] Loss: 1.6388\n",
      "Epoch [3/100] Loss: 1.4125\n",
      "Epoch [3/100] Loss: 1.5235\n",
      "Epoch [3/100] Loss: 1.5885\n"
     ]
    },
    {
     "name": "stderr",
     "output_type": "stream",
     "text": [
      "218it [01:14,  2.92it/s]\n"
     ]
    },
    {
     "name": "stdout",
     "output_type": "stream",
     "text": [
      "Overall Acc: \t 0.446497171851\n",
      "Mean Acc : \t 0.25072047962\n",
      "FreqW Acc : \t 0.270153782059\n",
      "Mean IoU : \t 0.172143692907\n",
      "Epoch [4/100] Loss: 2.0730\n",
      "Epoch [4/100] Loss: 1.9274\n",
      "Epoch [4/100] Loss: 1.5513\n",
      "Epoch [4/100] Loss: 1.0032\n",
      "Epoch [4/100] Loss: 1.4340\n",
      "Epoch [4/100] Loss: 1.4895\n",
      "Epoch [4/100] Loss: 1.5093\n",
      "Epoch [4/100] Loss: 1.6308\n",
      "Epoch [4/100] Loss: 1.3865\n",
      "Epoch [4/100] Loss: 1.3887\n",
      "Epoch [4/100] Loss: 1.1703\n",
      "Epoch [4/100] Loss: 1.5608\n",
      "Epoch [4/100] Loss: 1.3581\n"
     ]
    },
    {
     "name": "stderr",
     "output_type": "stream",
     "text": [
      "218it [01:14,  2.92it/s]\n"
     ]
    },
    {
     "name": "stdout",
     "output_type": "stream",
     "text": [
      "Overall Acc: \t 0.493629592133\n",
      "Mean Acc : \t 0.322728866837\n",
      "FreqW Acc : \t 0.326002174219\n",
      "Mean IoU : \t 0.225253643463\n",
      "Epoch [5/100] Loss: 1.2984\n",
      "Epoch [5/100] Loss: 1.3484\n",
      "Epoch [5/100] Loss: 1.2132\n",
      "Epoch [5/100] Loss: 1.4207\n",
      "Epoch [5/100] Loss: 1.2062\n",
      "Epoch [5/100] Loss: 1.3904\n",
      "Epoch [5/100] Loss: 1.2521\n",
      "Epoch [5/100] Loss: 1.4211\n",
      "Epoch [5/100] Loss: 1.1325\n",
      "Epoch [5/100] Loss: 1.1740\n",
      "Epoch [5/100] Loss: 1.5337\n",
      "Epoch [5/100] Loss: 1.4513\n",
      "Epoch [5/100] Loss: 1.0780\n"
     ]
    },
    {
     "name": "stderr",
     "output_type": "stream",
     "text": [
      "218it [01:14,  2.93it/s]\n"
     ]
    },
    {
     "name": "stdout",
     "output_type": "stream",
     "text": [
      "Overall Acc: \t 0.504734138077\n",
      "Mean Acc : \t 0.324159025019\n",
      "FreqW Acc : \t 0.333332450105\n",
      "Mean IoU : \t 0.233202296249\n",
      "Epoch [6/100] Loss: 1.0221\n",
      "Epoch [6/100] Loss: 1.5587\n",
      "Epoch [6/100] Loss: 1.6319\n",
      "Epoch [6/100] Loss: 1.2835\n",
      "Epoch [6/100] Loss: 1.0947\n",
      "Epoch [6/100] Loss: 1.0769\n",
      "Epoch [6/100] Loss: 1.0423\n",
      "Epoch [6/100] Loss: 1.2834\n",
      "Epoch [6/100] Loss: 1.1481\n",
      "Epoch [6/100] Loss: 1.3073\n",
      "Epoch [6/100] Loss: 1.1547\n",
      "Epoch [6/100] Loss: 1.2832\n",
      "Epoch [6/100] Loss: 1.0394\n"
     ]
    },
    {
     "name": "stderr",
     "output_type": "stream",
     "text": [
      "218it [01:14,  2.93it/s]\n"
     ]
    },
    {
     "name": "stdout",
     "output_type": "stream",
     "text": [
      "Overall Acc: \t 0.514084390529\n",
      "Mean Acc : \t 0.361207320679\n",
      "FreqW Acc : \t 0.345240940136\n",
      "Mean IoU : \t 0.253884713816\n",
      "Epoch [7/100] Loss: 0.9548\n",
      "Epoch [7/100] Loss: 1.1680\n",
      "Epoch [7/100] Loss: 1.2266\n",
      "Epoch [7/100] Loss: 1.2889\n",
      "Epoch [7/100] Loss: 1.3042\n",
      "Epoch [7/100] Loss: 0.9656\n",
      "Epoch [7/100] Loss: 1.1662\n",
      "Epoch [7/100] Loss: 1.2334\n",
      "Epoch [7/100] Loss: 0.8314\n",
      "Epoch [7/100] Loss: 1.3052\n",
      "Epoch [7/100] Loss: 1.1931\n",
      "Epoch [7/100] Loss: 1.4725\n",
      "Epoch [7/100] Loss: 1.2287\n"
     ]
    },
    {
     "name": "stderr",
     "output_type": "stream",
     "text": [
      "218it [01:14,  2.92it/s]\n"
     ]
    },
    {
     "name": "stdout",
     "output_type": "stream",
     "text": [
      "Overall Acc: \t 0.514195221912\n",
      "Mean Acc : \t 0.365991773911\n",
      "FreqW Acc : \t 0.350926571643\n",
      "Mean IoU : \t 0.261529274736\n",
      "Epoch [8/100] Loss: 0.9913\n",
      "Epoch [8/100] Loss: 1.0194\n",
      "Epoch [8/100] Loss: 1.0847\n",
      "Epoch [8/100] Loss: 1.0407\n",
      "Epoch [8/100] Loss: 1.0949\n",
      "Epoch [8/100] Loss: 1.2680\n",
      "Epoch [8/100] Loss: 1.0054\n",
      "Epoch [8/100] Loss: 1.1091\n",
      "Epoch [8/100] Loss: 1.0545\n",
      "Epoch [8/100] Loss: 1.1522\n",
      "Epoch [8/100] Loss: 1.1521\n",
      "Epoch [8/100] Loss: 0.7498\n",
      "Epoch [8/100] Loss: 1.3735\n"
     ]
    },
    {
     "name": "stderr",
     "output_type": "stream",
     "text": [
      "218it [01:15,  2.90it/s]\n"
     ]
    },
    {
     "name": "stdout",
     "output_type": "stream",
     "text": [
      "Overall Acc: \t 0.527316946794\n",
      "Mean Acc : \t 0.375846894003\n",
      "FreqW Acc : \t 0.353364038928\n",
      "Mean IoU : \t 0.267789220322\n",
      "Epoch [9/100] Loss: 1.1668\n",
      "Epoch [9/100] Loss: 1.2106\n",
      "Epoch [9/100] Loss: 0.9389\n",
      "Epoch [9/100] Loss: 1.1959\n",
      "Epoch [9/100] Loss: 1.1807\n",
      "Epoch [9/100] Loss: 1.3404\n",
      "Epoch [9/100] Loss: 0.9045\n",
      "Epoch [9/100] Loss: 1.2259\n",
      "Epoch [9/100] Loss: 0.8798\n",
      "Epoch [9/100] Loss: 0.8316\n",
      "Epoch [9/100] Loss: 0.8128\n",
      "Epoch [9/100] Loss: 1.0443\n",
      "Epoch [9/100] Loss: 0.8906\n"
     ]
    },
    {
     "name": "stderr",
     "output_type": "stream",
     "text": [
      "218it [01:14,  2.92it/s]\n"
     ]
    },
    {
     "name": "stdout",
     "output_type": "stream",
     "text": [
      "Overall Acc: \t 0.529086456143\n",
      "Mean Acc : \t 0.408919602835\n",
      "FreqW Acc : \t 0.36778396903\n",
      "Mean IoU : \t 0.294320575522\n",
      "Epoch [10/100] Loss: 0.8959\n",
      "Epoch [10/100] Loss: 0.8792\n",
      "Epoch [10/100] Loss: 0.9773\n",
      "Epoch [10/100] Loss: 1.0405\n",
      "Epoch [10/100] Loss: 1.1406\n",
      "Epoch [10/100] Loss: 0.9801\n",
      "Epoch [10/100] Loss: 0.9139\n",
      "Epoch [10/100] Loss: 0.9446\n",
      "Epoch [10/100] Loss: 0.9490\n",
      "Epoch [10/100] Loss: 0.9009\n",
      "Epoch [10/100] Loss: 1.0731\n",
      "Epoch [10/100] Loss: 1.0148\n",
      "Epoch [10/100] Loss: 1.1806\n"
     ]
    },
    {
     "name": "stderr",
     "output_type": "stream",
     "text": [
      "218it [01:14,  2.91it/s]"
     ]
    },
    {
     "name": "stdout",
     "output_type": "stream",
     "text": [
      "Overall Acc: \t 0.538631184896\n",
      "Mean Acc : \t 0.395773808369\n",
      "FreqW Acc : \t 0.368421309778\n",
      "Mean IoU : \t 0.287850829286\n"
     ]
    },
    {
     "name": "stderr",
     "output_type": "stream",
     "text": [
      "\n"
     ]
    },
    {
     "name": "stdout",
     "output_type": "stream",
     "text": [
      "Epoch [11/100] Loss: 0.9476\n",
      "Epoch [11/100] Loss: 1.1258\n",
      "Epoch [11/100] Loss: 1.0345\n",
      "Epoch [11/100] Loss: 0.8644\n",
      "Epoch [11/100] Loss: 0.9687\n",
      "Epoch [11/100] Loss: 0.9819\n",
      "Epoch [11/100] Loss: 1.0388\n",
      "Epoch [11/100] Loss: 0.8479\n",
      "Epoch [11/100] Loss: 0.9067\n",
      "Epoch [11/100] Loss: 1.0239\n",
      "Epoch [11/100] Loss: 0.7889\n",
      "Epoch [11/100] Loss: 0.9924\n",
      "Epoch [11/100] Loss: 0.8322\n"
     ]
    },
    {
     "name": "stderr",
     "output_type": "stream",
     "text": [
      "218it [01:14,  2.91it/s]\n"
     ]
    },
    {
     "name": "stdout",
     "output_type": "stream",
     "text": [
      "Overall Acc: \t 0.536216188639\n",
      "Mean Acc : \t 0.426241835023\n",
      "FreqW Acc : \t 0.37444349418\n",
      "Mean IoU : \t 0.304041159501\n",
      "Epoch [12/100] Loss: 0.9211\n",
      "Epoch [12/100] Loss: 0.7307\n",
      "Epoch [12/100] Loss: 0.9950\n",
      "Epoch [12/100] Loss: 0.8895\n",
      "Epoch [12/100] Loss: 1.1217\n",
      "Epoch [12/100] Loss: 0.6526\n",
      "Epoch [12/100] Loss: 0.8559\n",
      "Epoch [12/100] Loss: 0.6753\n",
      "Epoch [12/100] Loss: 0.5759\n",
      "Epoch [12/100] Loss: 0.8647\n",
      "Epoch [12/100] Loss: 0.8957\n",
      "Epoch [12/100] Loss: 1.0401\n",
      "Epoch [12/100] Loss: 0.9861\n"
     ]
    },
    {
     "name": "stderr",
     "output_type": "stream",
     "text": [
      "218it [01:14,  2.91it/s]\n"
     ]
    },
    {
     "name": "stdout",
     "output_type": "stream",
     "text": [
      "Overall Acc: \t 0.544514764908\n",
      "Mean Acc : \t 0.423737614237\n",
      "FreqW Acc : \t 0.378428835927\n",
      "Mean IoU : \t 0.309652506911\n",
      "Epoch [13/100] Loss: 0.7563\n",
      "Epoch [13/100] Loss: 0.8525\n",
      "Epoch [13/100] Loss: 0.8608\n",
      "Epoch [13/100] Loss: 0.8082\n",
      "Epoch [13/100] Loss: 1.0051\n",
      "Epoch [13/100] Loss: 0.8867\n",
      "Epoch [13/100] Loss: 0.9036\n",
      "Epoch [13/100] Loss: 0.8338\n",
      "Epoch [13/100] Loss: 0.8661\n",
      "Epoch [13/100] Loss: 0.7244\n",
      "Epoch [13/100] Loss: 0.8739\n",
      "Epoch [13/100] Loss: 0.8074\n",
      "Epoch [13/100] Loss: 0.9209\n"
     ]
    },
    {
     "name": "stderr",
     "output_type": "stream",
     "text": [
      "218it [01:15,  2.90it/s]\n"
     ]
    },
    {
     "name": "stdout",
     "output_type": "stream",
     "text": [
      "Overall Acc: \t 0.548740667407\n",
      "Mean Acc : \t 0.426391332666\n",
      "FreqW Acc : \t 0.38204325997\n",
      "Mean IoU : \t 0.310932294106\n",
      "Epoch [14/100] Loss: 1.0452\n",
      "Epoch [14/100] Loss: 0.9576\n",
      "Epoch [14/100] Loss: 0.8685\n",
      "Epoch [14/100] Loss: 0.9850\n",
      "Epoch [14/100] Loss: 0.8401\n",
      "Epoch [14/100] Loss: 0.9463\n",
      "Epoch [14/100] Loss: 0.8961\n",
      "Epoch [14/100] Loss: 0.8474\n",
      "Epoch [14/100] Loss: 0.9035\n",
      "Epoch [14/100] Loss: 0.9290\n",
      "Epoch [14/100] Loss: 0.8451\n",
      "Epoch [14/100] Loss: 0.5972\n",
      "Epoch [14/100] Loss: 0.8545\n"
     ]
    },
    {
     "name": "stderr",
     "output_type": "stream",
     "text": [
      "218it [01:14,  2.92it/s]"
     ]
    },
    {
     "name": "stdout",
     "output_type": "stream",
     "text": [
      "Overall Acc: \t 0.547264908257\n",
      "Mean Acc : \t 0.422762575152\n",
      "FreqW Acc : \t 0.383652229124\n",
      "Mean IoU : \t 0.310811263955\n"
     ]
    },
    {
     "name": "stderr",
     "output_type": "stream",
     "text": [
      "\n"
     ]
    },
    {
     "name": "stdout",
     "output_type": "stream",
     "text": [
      "Epoch [15/100] Loss: 0.8560\n",
      "Epoch [15/100] Loss: 0.7678\n",
      "Epoch [15/100] Loss: 0.7372\n",
      "Epoch [15/100] Loss: 0.7018\n",
      "Epoch [15/100] Loss: 0.7902\n",
      "Epoch [15/100] Loss: 0.5967\n",
      "Epoch [15/100] Loss: 0.8619\n",
      "Epoch [15/100] Loss: 1.0753\n",
      "Epoch [15/100] Loss: 0.8237\n",
      "Epoch [15/100] Loss: 0.9034\n",
      "Epoch [15/100] Loss: 0.8864\n",
      "Epoch [15/100] Loss: 0.6481\n",
      "Epoch [15/100] Loss: 0.7924\n"
     ]
    },
    {
     "name": "stderr",
     "output_type": "stream",
     "text": [
      "218it [01:15,  2.91it/s]\n"
     ]
    },
    {
     "name": "stdout",
     "output_type": "stream",
     "text": [
      "Overall Acc: \t 0.532526997324\n",
      "Mean Acc : \t 0.431093791367\n",
      "FreqW Acc : \t 0.37429568904\n",
      "Mean IoU : \t 0.315189123971\n",
      "Epoch [16/100] Loss: 0.7274\n",
      "Epoch [16/100] Loss: 0.6374\n",
      "Epoch [16/100] Loss: 0.7659\n",
      "Epoch [16/100] Loss: 0.8710\n",
      "Epoch [16/100] Loss: 0.8131\n",
      "Epoch [16/100] Loss: 0.7390\n",
      "Epoch [16/100] Loss: 0.8861\n",
      "Epoch [16/100] Loss: 0.8710\n",
      "Epoch [16/100] Loss: 0.5518\n",
      "Epoch [16/100] Loss: 0.8386\n",
      "Epoch [16/100] Loss: 0.7336\n",
      "Epoch [16/100] Loss: 0.8224\n",
      "Epoch [16/100] Loss: 0.9502\n"
     ]
    },
    {
     "name": "stderr",
     "output_type": "stream",
     "text": [
      "218it [01:14,  2.92it/s]"
     ]
    },
    {
     "name": "stdout",
     "output_type": "stream",
     "text": [
      "Overall Acc: \t 0.54453963689\n",
      "Mean Acc : \t 0.423589274278\n",
      "FreqW Acc : \t 0.381717612344\n",
      "Mean IoU : \t 0.309852999638\n"
     ]
    },
    {
     "name": "stderr",
     "output_type": "stream",
     "text": [
      "\n"
     ]
    },
    {
     "name": "stdout",
     "output_type": "stream",
     "text": [
      "Epoch [17/100] Loss: 0.5300\n",
      "Epoch [17/100] Loss: 0.6315\n",
      "Epoch [17/100] Loss: 0.7957\n",
      "Epoch [17/100] Loss: 0.7165\n",
      "Epoch [17/100] Loss: 1.0773\n",
      "Epoch [17/100] Loss: 0.7746\n",
      "Epoch [17/100] Loss: 0.9883\n",
      "Epoch [17/100] Loss: 0.7903\n",
      "Epoch [17/100] Loss: 0.8546\n",
      "Epoch [17/100] Loss: 0.7475\n",
      "Epoch [17/100] Loss: 0.8009\n",
      "Epoch [17/100] Loss: 0.7055\n",
      "Epoch [17/100] Loss: 0.7546\n"
     ]
    },
    {
     "name": "stderr",
     "output_type": "stream",
     "text": [
      "218it [01:14,  2.91it/s]\n"
     ]
    },
    {
     "name": "stdout",
     "output_type": "stream",
     "text": [
      "Overall Acc: \t 0.54094134254\n",
      "Mean Acc : \t 0.43176901505\n",
      "FreqW Acc : \t 0.381036578093\n",
      "Mean IoU : \t 0.316916139273\n",
      "Epoch [18/100] Loss: 0.7283\n",
      "Epoch [18/100] Loss: 0.6407\n",
      "Epoch [18/100] Loss: 0.7218\n",
      "Epoch [18/100] Loss: 0.6751\n",
      "Epoch [18/100] Loss: 0.6001\n",
      "Epoch [18/100] Loss: 0.7450\n",
      "Epoch [18/100] Loss: 0.9109\n",
      "Epoch [18/100] Loss: 0.6781\n",
      "Epoch [18/100] Loss: 0.7224\n",
      "Epoch [18/100] Loss: 0.6269\n",
      "Epoch [18/100] Loss: 0.6294\n",
      "Epoch [18/100] Loss: 0.6568\n",
      "Epoch [18/100] Loss: 0.7375\n"
     ]
    },
    {
     "name": "stderr",
     "output_type": "stream",
     "text": [
      "218it [01:14,  2.93it/s]"
     ]
    },
    {
     "name": "stdout",
     "output_type": "stream",
     "text": [
      "Overall Acc: \t 0.546562395475\n",
      "Mean Acc : \t 0.416295067953\n",
      "FreqW Acc : \t 0.38050492042\n",
      "Mean IoU : \t 0.306919108466\n"
     ]
    },
    {
     "name": "stderr",
     "output_type": "stream",
     "text": [
      "\n"
     ]
    },
    {
     "name": "stdout",
     "output_type": "stream",
     "text": [
      "Epoch [19/100] Loss: 0.8047\n",
      "Epoch [19/100] Loss: 0.7630\n",
      "Epoch [19/100] Loss: 0.5994\n",
      "Epoch [19/100] Loss: 0.6549\n",
      "Epoch [19/100] Loss: 0.6882\n",
      "Epoch [19/100] Loss: 0.7737\n",
      "Epoch [19/100] Loss: 0.7479\n",
      "Epoch [19/100] Loss: 0.7619\n",
      "Epoch [19/100] Loss: 0.6757\n",
      "Epoch [19/100] Loss: 0.7673\n",
      "Epoch [19/100] Loss: 0.6209\n",
      "Epoch [19/100] Loss: 0.8961\n",
      "Epoch [19/100] Loss: 0.6994\n"
     ]
    },
    {
     "name": "stderr",
     "output_type": "stream",
     "text": [
      "218it [01:14,  2.91it/s]"
     ]
    },
    {
     "name": "stdout",
     "output_type": "stream",
     "text": [
      "Overall Acc: \t 0.540725762137\n",
      "Mean Acc : \t 0.439098867879\n",
      "FreqW Acc : \t 0.38066214903\n",
      "Mean IoU : \t 0.314093460909\n"
     ]
    },
    {
     "name": "stderr",
     "output_type": "stream",
     "text": [
      "\n"
     ]
    },
    {
     "name": "stdout",
     "output_type": "stream",
     "text": [
      "Epoch [20/100] Loss: 0.7055\n",
      "Epoch [20/100] Loss: 0.7045\n",
      "Epoch [20/100] Loss: 0.4675\n",
      "Epoch [20/100] Loss: 0.6653\n",
      "Epoch [20/100] Loss: 0.6266\n",
      "Epoch [20/100] Loss: 0.6816\n",
      "Epoch [20/100] Loss: 0.6422\n",
      "Epoch [20/100] Loss: 0.8205\n",
      "Epoch [20/100] Loss: 0.5649\n",
      "Epoch [20/100] Loss: 0.7823\n",
      "Epoch [20/100] Loss: 0.7462\n",
      "Epoch [20/100] Loss: 0.4646\n",
      "Epoch [20/100] Loss: 0.8854\n"
     ]
    },
    {
     "name": "stderr",
     "output_type": "stream",
     "text": [
      "218it [01:18,  2.79it/s]\n"
     ]
    },
    {
     "name": "stdout",
     "output_type": "stream",
     "text": [
      "Overall Acc: \t 0.544438800092\n",
      "Mean Acc : \t 0.424505856891\n",
      "FreqW Acc : \t 0.384637844226\n",
      "Mean IoU : \t 0.317883526903\n",
      "Epoch [21/100] Loss: 0.6470\n",
      "Epoch [21/100] Loss: 0.5360\n",
      "Epoch [21/100] Loss: 0.7247\n",
      "Epoch [21/100] Loss: 0.5869\n",
      "Epoch [21/100] Loss: 0.6279\n",
      "Epoch [21/100] Loss: 0.6397\n",
      "Epoch [21/100] Loss: 0.6400\n",
      "Epoch [21/100] Loss: 0.7454\n",
      "Epoch [21/100] Loss: 0.7021\n",
      "Epoch [21/100] Loss: 0.7694\n",
      "Epoch [21/100] Loss: 0.7127\n",
      "Epoch [21/100] Loss: 0.5789\n",
      "Epoch [21/100] Loss: 0.6282\n"
     ]
    },
    {
     "name": "stderr",
     "output_type": "stream",
     "text": [
      "218it [01:15,  2.90it/s]\n"
     ]
    },
    {
     "name": "stdout",
     "output_type": "stream",
     "text": [
      "Overall Acc: \t 0.551066175299\n",
      "Mean Acc : \t 0.440093419434\n",
      "FreqW Acc : \t 0.389036763181\n",
      "Mean IoU : \t 0.324489406618\n",
      "Epoch [22/100] Loss: 0.5337\n",
      "Epoch [22/100] Loss: 0.5996\n",
      "Epoch [22/100] Loss: 0.6087\n",
      "Epoch [22/100] Loss: 0.6885\n",
      "Epoch [22/100] Loss: 0.6778\n",
      "Epoch [22/100] Loss: 0.6453\n",
      "Epoch [22/100] Loss: 0.6769\n",
      "Epoch [22/100] Loss: 0.7935\n",
      "Epoch [22/100] Loss: 0.8768\n",
      "Epoch [22/100] Loss: 0.5734\n",
      "Epoch [22/100] Loss: 0.7631\n",
      "Epoch [22/100] Loss: 0.7845\n",
      "Epoch [22/100] Loss: 0.4928\n"
     ]
    },
    {
     "name": "stderr",
     "output_type": "stream",
     "text": [
      "218it [01:15,  2.91it/s]"
     ]
    },
    {
     "name": "stdout",
     "output_type": "stream",
     "text": [
      "Overall Acc: \t 0.532885403725\n",
      "Mean Acc : \t 0.397937263385\n",
      "FreqW Acc : \t 0.372150336915\n",
      "Mean IoU : \t 0.2978240431\n"
     ]
    },
    {
     "name": "stderr",
     "output_type": "stream",
     "text": [
      "\n"
     ]
    },
    {
     "name": "stdout",
     "output_type": "stream",
     "text": [
      "Epoch [23/100] Loss: 0.7041\n",
      "Epoch [23/100] Loss: 0.6315\n",
      "Epoch [23/100] Loss: 0.6837\n",
      "Epoch [23/100] Loss: 0.5546\n",
      "Epoch [23/100] Loss: 0.9385\n",
      "Epoch [23/100] Loss: 0.7411\n",
      "Epoch [23/100] Loss: 0.4814\n",
      "Epoch [23/100] Loss: 0.5841\n",
      "Epoch [23/100] Loss: 0.6531\n",
      "Epoch [23/100] Loss: 0.6945\n",
      "Epoch [23/100] Loss: 0.4870\n",
      "Epoch [23/100] Loss: 0.7749\n",
      "Epoch [23/100] Loss: 0.5483\n"
     ]
    },
    {
     "name": "stderr",
     "output_type": "stream",
     "text": [
      "218it [01:14,  2.91it/s]"
     ]
    },
    {
     "name": "stdout",
     "output_type": "stream",
     "text": [
      "Overall Acc: \t 0.532083895778\n",
      "Mean Acc : \t 0.416326327599\n",
      "FreqW Acc : \t 0.37483036654\n",
      "Mean IoU : \t 0.310940565823\n"
     ]
    },
    {
     "name": "stderr",
     "output_type": "stream",
     "text": [
      "\n"
     ]
    },
    {
     "name": "stdout",
     "output_type": "stream",
     "text": [
      "Epoch [24/100] Loss: 0.6177\n",
      "Epoch [24/100] Loss: 0.5152\n",
      "Epoch [24/100] Loss: 0.9214\n",
      "Epoch [24/100] Loss: 0.7558\n",
      "Epoch [24/100] Loss: 0.5748\n",
      "Epoch [24/100] Loss: 0.5710\n",
      "Epoch [24/100] Loss: 0.5604\n",
      "Epoch [24/100] Loss: 0.6929\n",
      "Epoch [24/100] Loss: 0.6760\n",
      "Epoch [24/100] Loss: 0.6190\n",
      "Epoch [24/100] Loss: 0.7100\n",
      "Epoch [24/100] Loss: 0.6986\n",
      "Epoch [24/100] Loss: 0.7119\n"
     ]
    },
    {
     "name": "stderr",
     "output_type": "stream",
     "text": [
      "218it [01:14,  2.91it/s]"
     ]
    },
    {
     "name": "stdout",
     "output_type": "stream",
     "text": [
      "Overall Acc: \t 0.544427720438\n",
      "Mean Acc : \t 0.416116301869\n",
      "FreqW Acc : \t 0.381603913625\n",
      "Mean IoU : \t 0.312955377217\n"
     ]
    },
    {
     "name": "stderr",
     "output_type": "stream",
     "text": [
      "\n"
     ]
    },
    {
     "name": "stdout",
     "output_type": "stream",
     "text": [
      "Epoch [25/100] Loss: 0.6646\n",
      "Epoch [25/100] Loss: 0.5267\n",
      "Epoch [25/100] Loss: 0.5627\n",
      "Epoch [25/100] Loss: 0.4957\n",
      "Epoch [25/100] Loss: 0.6443\n",
      "Epoch [25/100] Loss: 0.6802\n",
      "Epoch [25/100] Loss: 0.6301\n",
      "Epoch [25/100] Loss: 0.5571\n",
      "Epoch [25/100] Loss: 0.6518\n",
      "Epoch [25/100] Loss: 0.7210\n",
      "Epoch [25/100] Loss: 0.6680\n",
      "Epoch [25/100] Loss: 0.4833\n",
      "Epoch [25/100] Loss: 0.8320\n"
     ]
    },
    {
     "name": "stderr",
     "output_type": "stream",
     "text": [
      "218it [01:15,  2.89it/s]"
     ]
    },
    {
     "name": "stdout",
     "output_type": "stream",
     "text": [
      "Overall Acc: \t 0.543859343145\n",
      "Mean Acc : \t 0.421145643752\n",
      "FreqW Acc : \t 0.383529855587\n",
      "Mean IoU : \t 0.314730015277\n"
     ]
    },
    {
     "name": "stderr",
     "output_type": "stream",
     "text": [
      "\n"
     ]
    },
    {
     "name": "stdout",
     "output_type": "stream",
     "text": [
      "Epoch [26/100] Loss: 0.6355\n",
      "Epoch [26/100] Loss: 0.4732\n",
      "Epoch [26/100] Loss: 0.7290\n",
      "Epoch [26/100] Loss: 0.6311\n",
      "Epoch [26/100] Loss: 0.6220\n",
      "Epoch [26/100] Loss: 0.4944\n",
      "Epoch [26/100] Loss: 0.5996\n",
      "Epoch [26/100] Loss: 0.6491\n",
      "Epoch [26/100] Loss: 0.5983\n",
      "Epoch [26/100] Loss: 0.6538\n",
      "Epoch [26/100] Loss: 0.7958\n",
      "Epoch [26/100] Loss: 0.4913\n",
      "Epoch [26/100] Loss: 0.4472\n"
     ]
    },
    {
     "name": "stderr",
     "output_type": "stream",
     "text": [
      "218it [01:14,  2.91it/s]"
     ]
    },
    {
     "name": "stdout",
     "output_type": "stream",
     "text": [
      "Overall Acc: \t 0.547932096553\n",
      "Mean Acc : \t 0.43661525988\n",
      "FreqW Acc : \t 0.387598643333\n",
      "Mean IoU : \t 0.323882400575\n"
     ]
    },
    {
     "name": "stderr",
     "output_type": "stream",
     "text": [
      "\n"
     ]
    },
    {
     "name": "stdout",
     "output_type": "stream",
     "text": [
      "Epoch [27/100] Loss: 0.3930\n",
      "Epoch [27/100] Loss: 0.5905\n",
      "Epoch [27/100] Loss: 0.5608\n",
      "Epoch [27/100] Loss: 0.6176\n",
      "Epoch [27/100] Loss: 0.4477\n",
      "Epoch [27/100] Loss: 0.5719\n",
      "Epoch [27/100] Loss: 0.4794\n",
      "Epoch [27/100] Loss: 0.6796\n",
      "Epoch [27/100] Loss: 0.6667\n",
      "Epoch [27/100] Loss: 0.6060\n",
      "Epoch [27/100] Loss: 0.5566\n",
      "Epoch [27/100] Loss: 0.6259\n",
      "Epoch [27/100] Loss: 0.6324\n"
     ]
    },
    {
     "name": "stderr",
     "output_type": "stream",
     "text": [
      "218it [01:14,  2.91it/s]"
     ]
    },
    {
     "name": "stdout",
     "output_type": "stream",
     "text": [
      "Overall Acc: \t 0.536368098361\n",
      "Mean Acc : \t 0.418996856452\n",
      "FreqW Acc : \t 0.382675298285\n",
      "Mean IoU : \t 0.311534051451\n"
     ]
    },
    {
     "name": "stderr",
     "output_type": "stream",
     "text": [
      "\n"
     ]
    },
    {
     "name": "stdout",
     "output_type": "stream",
     "text": [
      "Epoch [28/100] Loss: 0.5903\n",
      "Epoch [28/100] Loss: 0.7104\n",
      "Epoch [28/100] Loss: 0.5243\n",
      "Epoch [28/100] Loss: 0.7021\n",
      "Epoch [28/100] Loss: 0.6066\n",
      "Epoch [28/100] Loss: 0.6214\n",
      "Epoch [28/100] Loss: 0.4971\n",
      "Epoch [28/100] Loss: 0.7483\n",
      "Epoch [28/100] Loss: 0.7135\n",
      "Epoch [28/100] Loss: 0.5944\n",
      "Epoch [28/100] Loss: 0.5616\n",
      "Epoch [28/100] Loss: 0.4996\n",
      "Epoch [28/100] Loss: 0.6657\n"
     ]
    },
    {
     "name": "stderr",
     "output_type": "stream",
     "text": [
      "218it [01:14,  2.93it/s]"
     ]
    },
    {
     "name": "stdout",
     "output_type": "stream",
     "text": [
      "Overall Acc: \t 0.545576833867\n",
      "Mean Acc : \t 0.419163495829\n",
      "FreqW Acc : \t 0.382732168884\n",
      "Mean IoU : \t 0.312493310296\n"
     ]
    },
    {
     "name": "stderr",
     "output_type": "stream",
     "text": [
      "\n"
     ]
    },
    {
     "name": "stdout",
     "output_type": "stream",
     "text": [
      "Epoch [29/100] Loss: 0.5400\n",
      "Epoch [29/100] Loss: 0.6602\n",
      "Epoch [29/100] Loss: 0.6829\n",
      "Epoch [29/100] Loss: 0.4888\n",
      "Epoch [29/100] Loss: 0.5045\n",
      "Epoch [29/100] Loss: 0.4242\n",
      "Epoch [29/100] Loss: 0.6748\n",
      "Epoch [29/100] Loss: 0.6951\n",
      "Epoch [29/100] Loss: 0.5453\n",
      "Epoch [29/100] Loss: 0.5895\n",
      "Epoch [29/100] Loss: 0.6893\n",
      "Epoch [29/100] Loss: 0.4561\n",
      "Epoch [29/100] Loss: 0.5491\n"
     ]
    },
    {
     "name": "stderr",
     "output_type": "stream",
     "text": [
      "218it [01:14,  2.92it/s]"
     ]
    },
    {
     "name": "stdout",
     "output_type": "stream",
     "text": [
      "Overall Acc: \t 0.524504078467\n",
      "Mean Acc : \t 0.399580678244\n",
      "FreqW Acc : \t 0.367756871309\n",
      "Mean IoU : \t 0.306041087194\n"
     ]
    },
    {
     "name": "stderr",
     "output_type": "stream",
     "text": [
      "\n"
     ]
    },
    {
     "name": "stdout",
     "output_type": "stream",
     "text": [
      "Epoch [30/100] Loss: 0.5975\n",
      "Epoch [30/100] Loss: 0.5108\n",
      "Epoch [30/100] Loss: 0.4318\n",
      "Epoch [30/100] Loss: 0.4238\n",
      "Epoch [30/100] Loss: 0.7113\n",
      "Epoch [30/100] Loss: 0.4470\n",
      "Epoch [30/100] Loss: 0.5373\n",
      "Epoch [30/100] Loss: 0.4223\n",
      "Epoch [30/100] Loss: 0.6284\n",
      "Epoch [30/100] Loss: 0.7131\n",
      "Epoch [30/100] Loss: 0.4588\n",
      "Epoch [30/100] Loss: 0.5779\n",
      "Epoch [30/100] Loss: 0.3297\n"
     ]
    },
    {
     "name": "stderr",
     "output_type": "stream",
     "text": [
      "218it [01:14,  2.91it/s]\n"
     ]
    },
    {
     "name": "stdout",
     "output_type": "stream",
     "text": [
      "Overall Acc: \t 0.545442782994\n",
      "Mean Acc : \t 0.44676395773\n",
      "FreqW Acc : \t 0.391203214608\n",
      "Mean IoU : \t 0.330454484812\n",
      "Epoch [31/100] Loss: 0.5322\n",
      "Epoch [31/100] Loss: 0.5432\n",
      "Epoch [31/100] Loss: 0.6249\n",
      "Epoch [31/100] Loss: 0.5268\n",
      "Epoch [31/100] Loss: 0.6187\n",
      "Epoch [31/100] Loss: 0.4206\n",
      "Epoch [31/100] Loss: 0.5824\n",
      "Epoch [31/100] Loss: 0.6588\n",
      "Epoch [31/100] Loss: 0.5844\n",
      "Epoch [31/100] Loss: 0.5387\n",
      "Epoch [31/100] Loss: 0.5858\n",
      "Epoch [31/100] Loss: 0.5470\n",
      "Epoch [31/100] Loss: 0.5128\n"
     ]
    },
    {
     "name": "stderr",
     "output_type": "stream",
     "text": [
      "218it [01:14,  2.92it/s]"
     ]
    },
    {
     "name": "stdout",
     "output_type": "stream",
     "text": [
      "Overall Acc: \t 0.541001822718\n",
      "Mean Acc : \t 0.415597667315\n",
      "FreqW Acc : \t 0.383845841781\n",
      "Mean IoU : \t 0.312149952022\n"
     ]
    },
    {
     "name": "stderr",
     "output_type": "stream",
     "text": [
      "\n"
     ]
    },
    {
     "name": "stdout",
     "output_type": "stream",
     "text": [
      "Epoch [32/100] Loss: 0.6445\n",
      "Epoch [32/100] Loss: 0.5811\n",
      "Epoch [32/100] Loss: 0.5250\n",
      "Epoch [32/100] Loss: 0.6306\n",
      "Epoch [32/100] Loss: 0.3615\n",
      "Epoch [32/100] Loss: 0.6406\n",
      "Epoch [32/100] Loss: 0.5212\n",
      "Epoch [32/100] Loss: 0.5324\n",
      "Epoch [32/100] Loss: 0.5178\n",
      "Epoch [32/100] Loss: 0.5113\n",
      "Epoch [32/100] Loss: 0.5925\n",
      "Epoch [32/100] Loss: 0.5326\n",
      "Epoch [32/100] Loss: 0.6493\n"
     ]
    },
    {
     "name": "stderr",
     "output_type": "stream",
     "text": [
      "218it [01:14,  2.92it/s]"
     ]
    },
    {
     "name": "stdout",
     "output_type": "stream",
     "text": [
      "Overall Acc: \t 0.53919031919\n",
      "Mean Acc : \t 0.408013674504\n",
      "FreqW Acc : \t 0.381878853894\n",
      "Mean IoU : \t 0.311250960947\n"
     ]
    },
    {
     "name": "stderr",
     "output_type": "stream",
     "text": [
      "\n"
     ]
    },
    {
     "name": "stdout",
     "output_type": "stream",
     "text": [
      "Epoch [33/100] Loss: 0.6866\n",
      "Epoch [33/100] Loss: 0.6982\n",
      "Epoch [33/100] Loss: 0.5201\n",
      "Epoch [33/100] Loss: 0.3013\n",
      "Epoch [33/100] Loss: 0.5360\n",
      "Epoch [33/100] Loss: 0.5528\n",
      "Epoch [33/100] Loss: 0.4043\n",
      "Epoch [33/100] Loss: 0.5067\n",
      "Epoch [33/100] Loss: 0.3905\n",
      "Epoch [33/100] Loss: 0.5101\n",
      "Epoch [33/100] Loss: 0.6952\n",
      "Epoch [33/100] Loss: 0.5268\n",
      "Epoch [33/100] Loss: 0.5732\n"
     ]
    },
    {
     "name": "stderr",
     "output_type": "stream",
     "text": [
      "218it [01:14,  2.93it/s]"
     ]
    },
    {
     "name": "stdout",
     "output_type": "stream",
     "text": [
      "Overall Acc: \t 0.525676008219\n",
      "Mean Acc : \t 0.404169904809\n",
      "FreqW Acc : \t 0.373836997435\n",
      "Mean IoU : \t 0.304779427751\n"
     ]
    },
    {
     "name": "stderr",
     "output_type": "stream",
     "text": [
      "\n"
     ]
    },
    {
     "name": "stdout",
     "output_type": "stream",
     "text": [
      "Epoch [34/100] Loss: 0.4833\n",
      "Epoch [34/100] Loss: 0.3829\n",
      "Epoch [34/100] Loss: 0.4625\n",
      "Epoch [34/100] Loss: 0.5191\n",
      "Epoch [34/100] Loss: 0.5899\n",
      "Epoch [34/100] Loss: 0.5028\n",
      "Epoch [34/100] Loss: 0.5829\n",
      "Epoch [34/100] Loss: 0.5930\n",
      "Epoch [34/100] Loss: 0.5003\n",
      "Epoch [34/100] Loss: 0.5379\n",
      "Epoch [34/100] Loss: 0.5713\n",
      "Epoch [34/100] Loss: 0.4567\n",
      "Epoch [34/100] Loss: 0.6002\n"
     ]
    },
    {
     "name": "stderr",
     "output_type": "stream",
     "text": [
      "218it [01:14,  2.94it/s]"
     ]
    },
    {
     "name": "stdout",
     "output_type": "stream",
     "text": [
      "Overall Acc: \t 0.54460733925\n",
      "Mean Acc : \t 0.425355976372\n",
      "FreqW Acc : \t 0.388772405234\n",
      "Mean IoU : \t 0.320590830742\n"
     ]
    },
    {
     "name": "stderr",
     "output_type": "stream",
     "text": [
      "\n"
     ]
    },
    {
     "name": "stdout",
     "output_type": "stream",
     "text": [
      "Epoch [35/100] Loss: 0.4517\n",
      "Epoch [35/100] Loss: 0.4523\n",
      "Epoch [35/100] Loss: 0.6711\n",
      "Epoch [35/100] Loss: 0.6364\n",
      "Epoch [35/100] Loss: 0.4591\n",
      "Epoch [35/100] Loss: 0.5294\n",
      "Epoch [35/100] Loss: 0.6842\n",
      "Epoch [35/100] Loss: 0.5869\n",
      "Epoch [35/100] Loss: 0.6400\n",
      "Epoch [35/100] Loss: 0.7952\n",
      "Epoch [35/100] Loss: 0.4046\n",
      "Epoch [35/100] Loss: 0.6114\n",
      "Epoch [35/100] Loss: 0.5488\n"
     ]
    },
    {
     "name": "stderr",
     "output_type": "stream",
     "text": [
      "218it [01:14,  2.94it/s]"
     ]
    },
    {
     "name": "stdout",
     "output_type": "stream",
     "text": [
      "Overall Acc: \t 0.522385555038\n",
      "Mean Acc : \t 0.397685310233\n",
      "FreqW Acc : \t 0.370873569121\n",
      "Mean IoU : \t 0.301618449199\n"
     ]
    },
    {
     "name": "stderr",
     "output_type": "stream",
     "text": [
      "\n"
     ]
    },
    {
     "name": "stdout",
     "output_type": "stream",
     "text": [
      "Epoch [36/100] Loss: 0.4499\n",
      "Epoch [36/100] Loss: 0.3096\n",
      "Epoch [36/100] Loss: 0.4066\n",
      "Epoch [36/100] Loss: 0.5003\n",
      "Epoch [36/100] Loss: 0.4897\n",
      "Epoch [36/100] Loss: 0.4898\n",
      "Epoch [36/100] Loss: 0.5087\n",
      "Epoch [36/100] Loss: 0.5456\n",
      "Epoch [36/100] Loss: 0.3947\n",
      "Epoch [36/100] Loss: 0.5604\n",
      "Epoch [36/100] Loss: 0.5459\n",
      "Epoch [36/100] Loss: 0.3943\n",
      "Epoch [36/100] Loss: 0.4492\n"
     ]
    },
    {
     "name": "stderr",
     "output_type": "stream",
     "text": [
      "218it [01:14,  2.92it/s]"
     ]
    },
    {
     "name": "stdout",
     "output_type": "stream",
     "text": [
      "Overall Acc: \t 0.529797037263\n",
      "Mean Acc : \t 0.407205291247\n",
      "FreqW Acc : \t 0.377964888563\n",
      "Mean IoU : \t 0.308560369133\n"
     ]
    },
    {
     "name": "stderr",
     "output_type": "stream",
     "text": [
      "\n"
     ]
    },
    {
     "name": "stdout",
     "output_type": "stream",
     "text": [
      "Epoch [37/100] Loss: 0.4454\n",
      "Epoch [37/100] Loss: 0.6129\n",
      "Epoch [37/100] Loss: 0.5004\n",
      "Epoch [37/100] Loss: 0.4352\n",
      "Epoch [37/100] Loss: 0.5926\n",
      "Epoch [37/100] Loss: 0.5578\n",
      "Epoch [37/100] Loss: 0.4470\n",
      "Epoch [37/100] Loss: 0.5054\n",
      "Epoch [37/100] Loss: 0.4816\n",
      "Epoch [37/100] Loss: 0.6579\n",
      "Epoch [37/100] Loss: 0.5277\n",
      "Epoch [37/100] Loss: 0.5460\n",
      "Epoch [37/100] Loss: 0.5036\n"
     ]
    },
    {
     "name": "stderr",
     "output_type": "stream",
     "text": [
      "218it [01:14,  2.92it/s]"
     ]
    },
    {
     "name": "stdout",
     "output_type": "stream",
     "text": [
      "Overall Acc: \t 0.53443382271\n",
      "Mean Acc : \t 0.422089083801\n",
      "FreqW Acc : \t 0.381893851135\n",
      "Mean IoU : \t 0.31581201612\n"
     ]
    },
    {
     "name": "stderr",
     "output_type": "stream",
     "text": [
      "\n"
     ]
    },
    {
     "name": "stdout",
     "output_type": "stream",
     "text": [
      "Epoch [38/100] Loss: 0.4373\n",
      "Epoch [38/100] Loss: 0.4541\n",
      "Epoch [38/100] Loss: 0.6268\n",
      "Epoch [38/100] Loss: 0.4975\n",
      "Epoch [38/100] Loss: 0.5558\n",
      "Epoch [38/100] Loss: 0.5722\n",
      "Epoch [38/100] Loss: 0.4405\n",
      "Epoch [38/100] Loss: 0.4571\n",
      "Epoch [38/100] Loss: 0.5247\n",
      "Epoch [38/100] Loss: 0.6053\n",
      "Epoch [38/100] Loss: 0.5007\n",
      "Epoch [38/100] Loss: 0.5122\n",
      "Epoch [38/100] Loss: 0.4698\n"
     ]
    },
    {
     "name": "stderr",
     "output_type": "stream",
     "text": [
      "218it [01:14,  2.91it/s]"
     ]
    },
    {
     "name": "stdout",
     "output_type": "stream",
     "text": [
      "Overall Acc: \t 0.505650976961\n",
      "Mean Acc : \t 0.400415350204\n",
      "FreqW Acc : \t 0.359782038486\n",
      "Mean IoU : \t 0.301089928841\n"
     ]
    },
    {
     "name": "stderr",
     "output_type": "stream",
     "text": [
      "\n"
     ]
    },
    {
     "name": "stdout",
     "output_type": "stream",
     "text": [
      "Epoch [39/100] Loss: 0.4606\n",
      "Epoch [39/100] Loss: 0.5660\n",
      "Epoch [39/100] Loss: 0.7209\n",
      "Epoch [39/100] Loss: 0.4483\n",
      "Epoch [39/100] Loss: 0.5035\n",
      "Epoch [39/100] Loss: 0.4729\n",
      "Epoch [39/100] Loss: 0.5942\n",
      "Epoch [39/100] Loss: 0.5480\n",
      "Epoch [39/100] Loss: 0.5369\n",
      "Epoch [39/100] Loss: 0.4359\n",
      "Epoch [39/100] Loss: 0.4013\n",
      "Epoch [39/100] Loss: 0.5794\n",
      "Epoch [39/100] Loss: 0.3923\n"
     ]
    },
    {
     "name": "stderr",
     "output_type": "stream",
     "text": [
      "218it [01:14,  2.91it/s]"
     ]
    },
    {
     "name": "stdout",
     "output_type": "stream",
     "text": [
      "Overall Acc: \t 0.546311774298\n",
      "Mean Acc : \t 0.41686802626\n",
      "FreqW Acc : \t 0.388728335133\n",
      "Mean IoU : \t 0.317646633619\n"
     ]
    },
    {
     "name": "stderr",
     "output_type": "stream",
     "text": [
      "\n"
     ]
    },
    {
     "name": "stdout",
     "output_type": "stream",
     "text": [
      "Epoch [40/100] Loss: 0.5595\n",
      "Epoch [40/100] Loss: 0.4281\n",
      "Epoch [40/100] Loss: 0.4566\n",
      "Epoch [40/100] Loss: 0.4669\n",
      "Epoch [40/100] Loss: 0.4795\n",
      "Epoch [40/100] Loss: 0.5284\n",
      "Epoch [40/100] Loss: 0.4500\n",
      "Epoch [40/100] Loss: 0.4655\n",
      "Epoch [40/100] Loss: 0.5211\n",
      "Epoch [40/100] Loss: 0.5381\n",
      "Epoch [40/100] Loss: 0.3804\n",
      "Epoch [40/100] Loss: 0.4877\n",
      "Epoch [40/100] Loss: 0.5160\n"
     ]
    },
    {
     "name": "stderr",
     "output_type": "stream",
     "text": [
      "218it [01:14,  2.92it/s]"
     ]
    },
    {
     "name": "stdout",
     "output_type": "stream",
     "text": [
      "Overall Acc: \t 0.55556893476\n",
      "Mean Acc : \t 0.43129553937\n",
      "FreqW Acc : \t 0.397202475816\n",
      "Mean IoU : \t 0.324394048847\n"
     ]
    },
    {
     "name": "stderr",
     "output_type": "stream",
     "text": [
      "\n"
     ]
    },
    {
     "name": "stdout",
     "output_type": "stream",
     "text": [
      "Epoch [41/100] Loss: 0.4168\n",
      "Epoch [41/100] Loss: 0.4006\n",
      "Epoch [41/100] Loss: 0.4966\n",
      "Epoch [41/100] Loss: 0.4732\n",
      "Epoch [41/100] Loss: 0.4760\n",
      "Epoch [41/100] Loss: 0.5201\n",
      "Epoch [41/100] Loss: 0.5365\n",
      "Epoch [41/100] Loss: 0.6240\n",
      "Epoch [41/100] Loss: 0.6121\n",
      "Epoch [41/100] Loss: 0.5430\n",
      "Epoch [41/100] Loss: 0.4311\n",
      "Epoch [41/100] Loss: 0.5036\n",
      "Epoch [41/100] Loss: 0.4646\n"
     ]
    },
    {
     "name": "stderr",
     "output_type": "stream",
     "text": [
      "218it [01:14,  2.92it/s]"
     ]
    },
    {
     "name": "stdout",
     "output_type": "stream",
     "text": [
      "Overall Acc: \t 0.54514915723\n",
      "Mean Acc : \t 0.423423769555\n",
      "FreqW Acc : \t 0.388855566523\n",
      "Mean IoU : \t 0.316919249618\n"
     ]
    },
    {
     "name": "stderr",
     "output_type": "stream",
     "text": [
      "\n"
     ]
    },
    {
     "name": "stdout",
     "output_type": "stream",
     "text": [
      "Epoch [42/100] Loss: 0.5519\n",
      "Epoch [42/100] Loss: 0.5574\n",
      "Epoch [42/100] Loss: 0.4446\n",
      "Epoch [42/100] Loss: 0.5304\n",
      "Epoch [42/100] Loss: 0.5649\n",
      "Epoch [42/100] Loss: 0.5231\n",
      "Epoch [42/100] Loss: 0.6857\n",
      "Epoch [42/100] Loss: 0.4759\n",
      "Epoch [42/100] Loss: 0.6332\n",
      "Epoch [42/100] Loss: 0.5732\n",
      "Epoch [42/100] Loss: 0.4067\n",
      "Epoch [42/100] Loss: 0.5433\n",
      "Epoch [42/100] Loss: 0.4596\n"
     ]
    },
    {
     "name": "stderr",
     "output_type": "stream",
     "text": [
      "218it [01:14,  2.91it/s]"
     ]
    },
    {
     "name": "stdout",
     "output_type": "stream",
     "text": [
      "Overall Acc: \t 0.529124602805\n",
      "Mean Acc : \t 0.410322782151\n",
      "FreqW Acc : \t 0.377320311823\n",
      "Mean IoU : \t 0.311139855585\n"
     ]
    },
    {
     "name": "stderr",
     "output_type": "stream",
     "text": [
      "\n"
     ]
    },
    {
     "name": "stdout",
     "output_type": "stream",
     "text": [
      "Epoch [43/100] Loss: 0.4711\n",
      "Epoch [43/100] Loss: 0.4888\n",
      "Epoch [43/100] Loss: 0.6606\n",
      "Epoch [43/100] Loss: 0.6346\n",
      "Epoch [43/100] Loss: 0.4347\n",
      "Epoch [43/100] Loss: 0.4397\n",
      "Epoch [43/100] Loss: 0.5635\n",
      "Epoch [43/100] Loss: 0.4557\n",
      "Epoch [43/100] Loss: 0.5543\n",
      "Epoch [43/100] Loss: 0.5423\n",
      "Epoch [43/100] Loss: 0.5015\n",
      "Epoch [43/100] Loss: 0.5268\n",
      "Epoch [43/100] Loss: 0.3606\n"
     ]
    },
    {
     "name": "stderr",
     "output_type": "stream",
     "text": [
      "218it [01:14,  2.92it/s]"
     ]
    },
    {
     "name": "stdout",
     "output_type": "stream",
     "text": [
      "Overall Acc: \t 0.51995182889\n",
      "Mean Acc : \t 0.406330617145\n",
      "FreqW Acc : \t 0.371642790791\n",
      "Mean IoU : \t 0.306759887172\n"
     ]
    },
    {
     "name": "stderr",
     "output_type": "stream",
     "text": [
      "\n"
     ]
    },
    {
     "name": "stdout",
     "output_type": "stream",
     "text": [
      "Epoch [44/100] Loss: 0.5505\n",
      "Epoch [44/100] Loss: 0.5323\n",
      "Epoch [44/100] Loss: 0.5823\n",
      "Epoch [44/100] Loss: 0.4797\n",
      "Epoch [44/100] Loss: 0.4422\n",
      "Epoch [44/100] Loss: 0.4379\n",
      "Epoch [44/100] Loss: 0.4400\n",
      "Epoch [44/100] Loss: 0.5430\n",
      "Epoch [44/100] Loss: 0.5625\n",
      "Epoch [44/100] Loss: 0.4683\n",
      "Epoch [44/100] Loss: 0.4427\n",
      "Epoch [44/100] Loss: 0.4979\n",
      "Epoch [44/100] Loss: 0.4095\n"
     ]
    },
    {
     "name": "stderr",
     "output_type": "stream",
     "text": [
      "218it [01:14,  2.93it/s]"
     ]
    },
    {
     "name": "stdout",
     "output_type": "stream",
     "text": [
      "Overall Acc: \t 0.532807861079\n",
      "Mean Acc : \t 0.416315864412\n",
      "FreqW Acc : \t 0.380815737289\n",
      "Mean IoU : \t 0.31550818143\n"
     ]
    },
    {
     "name": "stderr",
     "output_type": "stream",
     "text": [
      "\n"
     ]
    },
    {
     "name": "stdout",
     "output_type": "stream",
     "text": [
      "Epoch [45/100] Loss: 0.5623\n",
      "Epoch [45/100] Loss: 0.4185\n",
      "Epoch [45/100] Loss: 0.5869\n",
      "Epoch [45/100] Loss: 0.5600\n",
      "Epoch [45/100] Loss: 0.3630\n",
      "Epoch [45/100] Loss: 0.4934\n",
      "Epoch [45/100] Loss: 0.4693\n",
      "Epoch [45/100] Loss: 0.5976\n",
      "Epoch [45/100] Loss: 0.4278\n",
      "Epoch [45/100] Loss: 0.4666\n",
      "Epoch [45/100] Loss: 0.4807\n",
      "Epoch [45/100] Loss: 0.4312\n",
      "Epoch [45/100] Loss: 0.4917\n"
     ]
    },
    {
     "name": "stderr",
     "output_type": "stream",
     "text": [
      "218it [01:14,  2.92it/s]"
     ]
    },
    {
     "name": "stdout",
     "output_type": "stream",
     "text": [
      "Overall Acc: \t 0.521220623487\n",
      "Mean Acc : \t 0.418487373387\n",
      "FreqW Acc : \t 0.372215380387\n",
      "Mean IoU : \t 0.313531242123\n"
     ]
    },
    {
     "name": "stderr",
     "output_type": "stream",
     "text": [
      "\n"
     ]
    },
    {
     "name": "stdout",
     "output_type": "stream",
     "text": [
      "Epoch [46/100] Loss: 0.6209\n",
      "Epoch [46/100] Loss: 0.4653\n",
      "Epoch [46/100] Loss: 0.5663\n",
      "Epoch [46/100] Loss: 0.5753\n",
      "Epoch [46/100] Loss: 0.6551\n",
      "Epoch [46/100] Loss: 0.4782\n",
      "Epoch [46/100] Loss: 0.4944\n",
      "Epoch [46/100] Loss: 0.3687\n",
      "Epoch [46/100] Loss: 0.5160\n",
      "Epoch [46/100] Loss: 0.3556\n",
      "Epoch [46/100] Loss: 0.5283\n",
      "Epoch [46/100] Loss: 0.4043\n",
      "Epoch [46/100] Loss: 0.5728\n"
     ]
    },
    {
     "name": "stderr",
     "output_type": "stream",
     "text": [
      "218it [01:14,  2.93it/s]"
     ]
    },
    {
     "name": "stdout",
     "output_type": "stream",
     "text": [
      "Overall Acc: \t 0.517089420672\n",
      "Mean Acc : \t 0.394618121852\n",
      "FreqW Acc : \t 0.367776727469\n",
      "Mean IoU : \t 0.300852855535\n"
     ]
    },
    {
     "name": "stderr",
     "output_type": "stream",
     "text": [
      "\n"
     ]
    },
    {
     "name": "stdout",
     "output_type": "stream",
     "text": [
      "Epoch [47/100] Loss: 0.4453\n",
      "Epoch [47/100] Loss: 0.5354\n",
      "Epoch [47/100] Loss: 0.5613\n",
      "Epoch [47/100] Loss: 0.4232\n",
      "Epoch [47/100] Loss: 0.6576\n",
      "Epoch [47/100] Loss: 0.4384\n",
      "Epoch [47/100] Loss: 0.5096\n",
      "Epoch [47/100] Loss: 0.4913\n",
      "Epoch [47/100] Loss: 0.5063\n",
      "Epoch [47/100] Loss: 0.4572\n",
      "Epoch [47/100] Loss: 0.4520\n",
      "Epoch [47/100] Loss: 0.4406\n",
      "Epoch [47/100] Loss: 0.5664\n"
     ]
    },
    {
     "name": "stderr",
     "output_type": "stream",
     "text": [
      "218it [01:14,  2.92it/s]"
     ]
    },
    {
     "name": "stdout",
     "output_type": "stream",
     "text": [
      "Overall Acc: \t 0.512935625518\n",
      "Mean Acc : \t 0.402261833583\n",
      "FreqW Acc : \t 0.367220439463\n",
      "Mean IoU : \t 0.302527790471\n"
     ]
    },
    {
     "name": "stderr",
     "output_type": "stream",
     "text": [
      "\n"
     ]
    },
    {
     "name": "stdout",
     "output_type": "stream",
     "text": [
      "Epoch [48/100] Loss: 0.5469\n",
      "Epoch [48/100] Loss: 0.4632\n",
      "Epoch [48/100] Loss: 0.4840\n",
      "Epoch [48/100] Loss: 0.6755\n",
      "Epoch [48/100] Loss: 0.4180\n",
      "Epoch [48/100] Loss: 0.4485\n",
      "Epoch [48/100] Loss: 0.4719\n",
      "Epoch [48/100] Loss: 0.5057\n",
      "Epoch [48/100] Loss: 0.5693\n",
      "Epoch [48/100] Loss: 0.3842\n",
      "Epoch [48/100] Loss: 0.6601\n",
      "Epoch [48/100] Loss: 0.4661\n",
      "Epoch [48/100] Loss: 0.4454\n"
     ]
    },
    {
     "name": "stderr",
     "output_type": "stream",
     "text": [
      "218it [01:14,  2.94it/s]"
     ]
    },
    {
     "name": "stdout",
     "output_type": "stream",
     "text": [
      "Overall Acc: \t 0.545729619608\n",
      "Mean Acc : \t 0.415760989358\n",
      "FreqW Acc : \t 0.390021465048\n",
      "Mean IoU : \t 0.317020714417\n"
     ]
    },
    {
     "name": "stderr",
     "output_type": "stream",
     "text": [
      "\n"
     ]
    },
    {
     "name": "stdout",
     "output_type": "stream",
     "text": [
      "Epoch [49/100] Loss: 0.5417\n",
      "Epoch [49/100] Loss: 0.3943\n",
      "Epoch [49/100] Loss: 0.4875\n",
      "Epoch [49/100] Loss: 0.4905\n",
      "Epoch [49/100] Loss: 0.5303\n",
      "Epoch [49/100] Loss: 0.5034\n",
      "Epoch [49/100] Loss: 0.4170\n",
      "Epoch [49/100] Loss: 0.5879\n",
      "Epoch [49/100] Loss: 0.3891\n",
      "Epoch [49/100] Loss: 0.4972\n",
      "Epoch [49/100] Loss: 0.5356\n",
      "Epoch [49/100] Loss: 0.6814\n",
      "Epoch [49/100] Loss: 0.5218\n"
     ]
    },
    {
     "name": "stderr",
     "output_type": "stream",
     "text": [
      "218it [01:14,  2.94it/s]"
     ]
    },
    {
     "name": "stdout",
     "output_type": "stream",
     "text": [
      "Overall Acc: \t 0.525602412637\n",
      "Mean Acc : \t 0.428853623858\n",
      "FreqW Acc : \t 0.374510427099\n",
      "Mean IoU : \t 0.31018803145\n"
     ]
    },
    {
     "name": "stderr",
     "output_type": "stream",
     "text": [
      "\n"
     ]
    },
    {
     "name": "stdout",
     "output_type": "stream",
     "text": [
      "Epoch [50/100] Loss: 0.4837\n",
      "Epoch [50/100] Loss: 0.6124\n",
      "Epoch [50/100] Loss: 0.4589\n",
      "Epoch [50/100] Loss: 0.4503\n",
      "Epoch [50/100] Loss: 0.5661\n",
      "Epoch [50/100] Loss: 0.4266\n",
      "Epoch [50/100] Loss: 0.4879\n",
      "Epoch [50/100] Loss: 0.4774\n",
      "Epoch [50/100] Loss: 0.4932\n",
      "Epoch [50/100] Loss: 0.3940\n",
      "Epoch [50/100] Loss: 0.4564\n",
      "Epoch [50/100] Loss: 0.5284\n",
      "Epoch [50/100] Loss: 0.4173\n"
     ]
    },
    {
     "name": "stderr",
     "output_type": "stream",
     "text": [
      "218it [01:14,  2.93it/s]"
     ]
    },
    {
     "name": "stdout",
     "output_type": "stream",
     "text": [
      "Overall Acc: \t 0.540414974357\n",
      "Mean Acc : \t 0.443843897266\n",
      "FreqW Acc : \t 0.389037914145\n",
      "Mean IoU : \t 0.326252995844\n"
     ]
    },
    {
     "name": "stderr",
     "output_type": "stream",
     "text": [
      "\n"
     ]
    },
    {
     "name": "stdout",
     "output_type": "stream",
     "text": [
      "Epoch [51/100] Loss: 0.4285\n",
      "Epoch [51/100] Loss: 0.5206\n",
      "Epoch [51/100] Loss: 0.4579\n",
      "Epoch [51/100] Loss: 0.3997\n",
      "Epoch [51/100] Loss: 0.4610\n",
      "Epoch [51/100] Loss: 0.4249\n",
      "Epoch [51/100] Loss: 0.4120\n",
      "Epoch [51/100] Loss: 0.4072\n",
      "Epoch [51/100] Loss: 0.3942\n",
      "Epoch [51/100] Loss: 0.5446\n",
      "Epoch [51/100] Loss: 0.3928\n",
      "Epoch [51/100] Loss: 0.4566\n",
      "Epoch [51/100] Loss: 0.4975\n"
     ]
    },
    {
     "name": "stderr",
     "output_type": "stream",
     "text": [
      "218it [01:14,  2.93it/s]"
     ]
    },
    {
     "name": "stdout",
     "output_type": "stream",
     "text": [
      "Overall Acc: \t 0.540396712339\n",
      "Mean Acc : \t 0.428244712569\n",
      "FreqW Acc : \t 0.388721241213\n",
      "Mean IoU : \t 0.318306533951\n"
     ]
    },
    {
     "name": "stderr",
     "output_type": "stream",
     "text": [
      "\n"
     ]
    },
    {
     "name": "stdout",
     "output_type": "stream",
     "text": [
      "Epoch [52/100] Loss: 0.4585\n",
      "Epoch [52/100] Loss: 0.4343\n",
      "Epoch [52/100] Loss: 0.4127\n",
      "Epoch [52/100] Loss: 0.5712\n",
      "Epoch [52/100] Loss: 0.4018\n",
      "Epoch [52/100] Loss: 0.4646\n",
      "Epoch [52/100] Loss: 0.4155\n",
      "Epoch [52/100] Loss: 0.5465\n",
      "Epoch [52/100] Loss: 0.4327\n",
      "Epoch [52/100] Loss: 0.3301\n",
      "Epoch [52/100] Loss: 0.4433\n",
      "Epoch [52/100] Loss: 0.3847\n",
      "Epoch [52/100] Loss: 0.4452\n"
     ]
    },
    {
     "name": "stderr",
     "output_type": "stream",
     "text": [
      "218it [01:14,  2.94it/s]"
     ]
    },
    {
     "name": "stdout",
     "output_type": "stream",
     "text": [
      "Overall Acc: \t 0.53453963689\n",
      "Mean Acc : \t 0.426747686338\n",
      "FreqW Acc : \t 0.384266401021\n",
      "Mean IoU : \t 0.317183639946\n"
     ]
    },
    {
     "name": "stderr",
     "output_type": "stream",
     "text": [
      "\n"
     ]
    },
    {
     "name": "stdout",
     "output_type": "stream",
     "text": [
      "Epoch [53/100] Loss: 0.4652\n",
      "Epoch [53/100] Loss: 0.5031\n",
      "Epoch [53/100] Loss: 0.4475\n",
      "Epoch [53/100] Loss: 0.3839\n",
      "Epoch [53/100] Loss: 0.5256\n",
      "Epoch [53/100] Loss: 0.4383\n",
      "Epoch [53/100] Loss: 0.4547\n",
      "Epoch [53/100] Loss: 0.4505\n",
      "Epoch [53/100] Loss: 0.4785\n",
      "Epoch [53/100] Loss: 0.3861\n",
      "Epoch [53/100] Loss: 0.5070\n",
      "Epoch [53/100] Loss: 0.5487\n",
      "Epoch [53/100] Loss: 0.6353\n"
     ]
    },
    {
     "name": "stderr",
     "output_type": "stream",
     "text": [
      "218it [01:14,  2.94it/s]"
     ]
    },
    {
     "name": "stdout",
     "output_type": "stream",
     "text": [
      "Overall Acc: \t 0.534664091369\n",
      "Mean Acc : \t 0.408865503256\n",
      "FreqW Acc : \t 0.38291453144\n",
      "Mean IoU : \t 0.311557004183\n"
     ]
    },
    {
     "name": "stderr",
     "output_type": "stream",
     "text": [
      "\n"
     ]
    },
    {
     "name": "stdout",
     "output_type": "stream",
     "text": [
      "Epoch [54/100] Loss: 0.4086\n",
      "Epoch [54/100] Loss: 0.3617\n",
      "Epoch [54/100] Loss: 0.4029\n",
      "Epoch [54/100] Loss: 0.4512\n",
      "Epoch [54/100] Loss: 0.4186\n",
      "Epoch [54/100] Loss: 0.5162\n",
      "Epoch [54/100] Loss: 0.5266\n",
      "Epoch [54/100] Loss: 0.3961\n",
      "Epoch [54/100] Loss: 0.4181\n",
      "Epoch [54/100] Loss: 0.5686\n",
      "Epoch [54/100] Loss: 0.4240\n",
      "Epoch [54/100] Loss: 0.4979\n",
      "Epoch [54/100] Loss: 0.3678\n"
     ]
    },
    {
     "name": "stderr",
     "output_type": "stream",
     "text": [
      "218it [01:14,  2.93it/s]"
     ]
    },
    {
     "name": "stdout",
     "output_type": "stream",
     "text": [
      "Overall Acc: \t 0.515341771988\n",
      "Mean Acc : \t 0.388446261238\n",
      "FreqW Acc : \t 0.366359257264\n",
      "Mean IoU : \t 0.296158887996\n"
     ]
    },
    {
     "name": "stderr",
     "output_type": "stream",
     "text": [
      "\n"
     ]
    },
    {
     "name": "stdout",
     "output_type": "stream",
     "text": [
      "Epoch [55/100] Loss: 0.6259\n",
      "Epoch [55/100] Loss: 0.4466\n",
      "Epoch [55/100] Loss: 0.4565\n",
      "Epoch [55/100] Loss: 0.5038\n",
      "Epoch [55/100] Loss: 0.6144\n",
      "Epoch [55/100] Loss: 0.5436\n",
      "Epoch [55/100] Loss: 0.4647\n",
      "Epoch [55/100] Loss: 0.5447\n",
      "Epoch [55/100] Loss: 0.5496\n",
      "Epoch [55/100] Loss: 0.4618\n",
      "Epoch [55/100] Loss: 0.5648\n",
      "Epoch [55/100] Loss: 0.3794\n",
      "Epoch [55/100] Loss: 0.4946\n"
     ]
    },
    {
     "name": "stderr",
     "output_type": "stream",
     "text": [
      "218it [01:15,  2.90it/s]"
     ]
    },
    {
     "name": "stdout",
     "output_type": "stream",
     "text": [
      "Overall Acc: \t 0.530077980656\n",
      "Mean Acc : \t 0.417655251564\n",
      "FreqW Acc : \t 0.377484422261\n",
      "Mean IoU : \t 0.309007881185\n"
     ]
    },
    {
     "name": "stderr",
     "output_type": "stream",
     "text": [
      "\n"
     ]
    },
    {
     "name": "stdout",
     "output_type": "stream",
     "text": [
      "Epoch [56/100] Loss: 0.3207\n",
      "Epoch [56/100] Loss: 0.4305\n",
      "Epoch [56/100] Loss: 0.5176\n",
      "Epoch [56/100] Loss: 0.4474\n",
      "Epoch [56/100] Loss: 0.3622\n",
      "Epoch [56/100] Loss: 0.5590\n",
      "Epoch [56/100] Loss: 0.5279\n",
      "Epoch [56/100] Loss: 0.4193\n",
      "Epoch [56/100] Loss: 0.3263\n",
      "Epoch [56/100] Loss: 0.3945\n",
      "Epoch [56/100] Loss: 0.4847\n",
      "Epoch [56/100] Loss: 0.4415\n",
      "Epoch [56/100] Loss: 0.4490\n"
     ]
    },
    {
     "name": "stderr",
     "output_type": "stream",
     "text": [
      "218it [01:14,  2.92it/s]"
     ]
    },
    {
     "name": "stdout",
     "output_type": "stream",
     "text": [
      "Overall Acc: \t 0.531860809482\n",
      "Mean Acc : \t 0.434620363627\n",
      "FreqW Acc : \t 0.381710720368\n",
      "Mean IoU : \t 0.322198486112\n"
     ]
    },
    {
     "name": "stderr",
     "output_type": "stream",
     "text": [
      "\n"
     ]
    },
    {
     "name": "stdout",
     "output_type": "stream",
     "text": [
      "Epoch [57/100] Loss: 0.4902\n",
      "Epoch [57/100] Loss: 0.4418\n",
      "Epoch [57/100] Loss: 0.5037\n",
      "Epoch [57/100] Loss: 0.5101\n",
      "Epoch [57/100] Loss: 0.4695\n",
      "Epoch [57/100] Loss: 0.4545\n",
      "Epoch [57/100] Loss: 0.6026\n",
      "Epoch [57/100] Loss: 0.4862\n",
      "Epoch [57/100] Loss: 0.3241\n",
      "Epoch [57/100] Loss: 0.4536\n",
      "Epoch [57/100] Loss: 0.4706\n",
      "Epoch [57/100] Loss: 0.4300\n",
      "Epoch [57/100] Loss: 0.4869\n"
     ]
    },
    {
     "name": "stderr",
     "output_type": "stream",
     "text": [
      "218it [01:14,  2.92it/s]"
     ]
    },
    {
     "name": "stdout",
     "output_type": "stream",
     "text": [
      "Overall Acc: \t 0.538067675483\n",
      "Mean Acc : \t 0.419267014506\n",
      "FreqW Acc : \t 0.38690963049\n",
      "Mean IoU : \t 0.318227262548\n"
     ]
    },
    {
     "name": "stderr",
     "output_type": "stream",
     "text": [
      "\n"
     ]
    },
    {
     "name": "stdout",
     "output_type": "stream",
     "text": [
      "Epoch [58/100] Loss: 0.3543\n",
      "Epoch [58/100] Loss: 0.5476\n",
      "Epoch [58/100] Loss: 0.4876\n",
      "Epoch [58/100] Loss: 0.5357\n",
      "Epoch [58/100] Loss: 0.3912\n",
      "Epoch [58/100] Loss: 0.3921\n",
      "Epoch [58/100] Loss: 0.4150\n",
      "Epoch [58/100] Loss: 0.5064\n",
      "Epoch [58/100] Loss: 0.4299\n",
      "Epoch [58/100] Loss: 0.3626\n",
      "Epoch [58/100] Loss: 0.4654\n",
      "Epoch [58/100] Loss: 0.4643\n",
      "Epoch [58/100] Loss: 0.3479\n"
     ]
    },
    {
     "name": "stderr",
     "output_type": "stream",
     "text": [
      "218it [01:14,  2.94it/s]\n"
     ]
    },
    {
     "name": "stdout",
     "output_type": "stream",
     "text": [
      "Overall Acc: \t 0.551668045402\n",
      "Mean Acc : \t 0.44334311218\n",
      "FreqW Acc : \t 0.398287439864\n",
      "Mean IoU : \t 0.332042831331\n",
      "Epoch [59/100] Loss: 0.3197\n",
      "Epoch [59/100] Loss: 0.3457\n",
      "Epoch [59/100] Loss: 0.4353\n",
      "Epoch [59/100] Loss: 0.4185\n",
      "Epoch [59/100] Loss: 0.3749\n",
      "Epoch [59/100] Loss: 0.4293\n",
      "Epoch [59/100] Loss: 0.4695\n",
      "Epoch [59/100] Loss: 0.3823\n",
      "Epoch [59/100] Loss: 0.4395\n",
      "Epoch [59/100] Loss: 0.4380\n",
      "Epoch [59/100] Loss: 0.4614\n",
      "Epoch [59/100] Loss: 0.5100\n",
      "Epoch [59/100] Loss: 0.4309\n"
     ]
    },
    {
     "name": "stderr",
     "output_type": "stream",
     "text": [
      "218it [01:14,  2.93it/s]"
     ]
    },
    {
     "name": "stdout",
     "output_type": "stream",
     "text": [
      "Overall Acc: \t 0.536039879786\n",
      "Mean Acc : \t 0.41607775542\n",
      "FreqW Acc : \t 0.385993912287\n",
      "Mean IoU : \t 0.315251097509\n"
     ]
    },
    {
     "name": "stderr",
     "output_type": "stream",
     "text": [
      "\n"
     ]
    },
    {
     "name": "stdout",
     "output_type": "stream",
     "text": [
      "Epoch [60/100] Loss: 0.3540\n",
      "Epoch [60/100] Loss: 0.3718\n",
      "Epoch [60/100] Loss: 0.3967\n",
      "Epoch [60/100] Loss: 0.3449\n",
      "Epoch [60/100] Loss: 0.3871\n",
      "Epoch [60/100] Loss: 0.5102\n",
      "Epoch [60/100] Loss: 0.3780\n",
      "Epoch [60/100] Loss: 0.4630\n",
      "Epoch [60/100] Loss: 0.4008\n",
      "Epoch [60/100] Loss: 0.4940\n",
      "Epoch [60/100] Loss: 0.4678\n",
      "Epoch [60/100] Loss: 0.3944\n",
      "Epoch [60/100] Loss: 0.4108\n"
     ]
    },
    {
     "name": "stderr",
     "output_type": "stream",
     "text": [
      "218it [01:14,  2.94it/s]"
     ]
    },
    {
     "name": "stdout",
     "output_type": "stream",
     "text": [
      "Overall Acc: \t 0.534598479509\n",
      "Mean Acc : \t 0.43308505265\n",
      "FreqW Acc : \t 0.384593999138\n",
      "Mean IoU : \t 0.32254360176\n"
     ]
    },
    {
     "name": "stderr",
     "output_type": "stream",
     "text": [
      "\n"
     ]
    },
    {
     "name": "stdout",
     "output_type": "stream",
     "text": [
      "Epoch [61/100] Loss: 0.4530\n",
      "Epoch [61/100] Loss: 0.3894\n",
      "Epoch [61/100] Loss: 0.4194\n",
      "Epoch [61/100] Loss: 0.4934\n",
      "Epoch [61/100] Loss: 0.6006\n",
      "Epoch [61/100] Loss: 0.4580\n",
      "Epoch [61/100] Loss: 0.3793\n",
      "Epoch [61/100] Loss: 0.5497\n",
      "Epoch [61/100] Loss: 0.4329\n",
      "Epoch [61/100] Loss: 0.4414\n",
      "Epoch [61/100] Loss: 0.4561\n",
      "Epoch [61/100] Loss: 0.3661\n",
      "Epoch [61/100] Loss: 0.4127\n"
     ]
    },
    {
     "name": "stderr",
     "output_type": "stream",
     "text": [
      "218it [01:14,  2.92it/s]"
     ]
    },
    {
     "name": "stdout",
     "output_type": "stream",
     "text": [
      "Overall Acc: \t 0.540518568624\n",
      "Mean Acc : \t 0.434973097441\n",
      "FreqW Acc : \t 0.389376443681\n",
      "Mean IoU : \t 0.324883100511\n"
     ]
    },
    {
     "name": "stderr",
     "output_type": "stream",
     "text": [
      "\n"
     ]
    },
    {
     "name": "stdout",
     "output_type": "stream",
     "text": [
      "Epoch [62/100] Loss: 0.5630\n",
      "Epoch [62/100] Loss: 0.4580\n",
      "Epoch [62/100] Loss: 0.4717\n",
      "Epoch [62/100] Loss: 0.5250\n",
      "Epoch [62/100] Loss: 0.5175\n",
      "Epoch [62/100] Loss: 0.4248\n",
      "Epoch [62/100] Loss: 0.3271\n",
      "Epoch [62/100] Loss: 0.4690\n",
      "Epoch [62/100] Loss: 0.4480\n",
      "Epoch [62/100] Loss: 0.4306\n",
      "Epoch [62/100] Loss: 0.3841\n",
      "Epoch [62/100] Loss: 0.4385\n",
      "Epoch [62/100] Loss: 0.4205\n"
     ]
    },
    {
     "name": "stderr",
     "output_type": "stream",
     "text": [
      "218it [01:13,  2.95it/s]"
     ]
    },
    {
     "name": "stdout",
     "output_type": "stream",
     "text": [
      "Overall Acc: \t 0.521276857957\n",
      "Mean Acc : \t 0.404225706307\n",
      "FreqW Acc : \t 0.373422865189\n",
      "Mean IoU : \t 0.309184970186\n"
     ]
    },
    {
     "name": "stderr",
     "output_type": "stream",
     "text": [
      "\n"
     ]
    },
    {
     "name": "stdout",
     "output_type": "stream",
     "text": [
      "Epoch [63/100] Loss: 0.4017\n",
      "Epoch [63/100] Loss: 0.3619\n",
      "Epoch [63/100] Loss: 0.4754\n",
      "Epoch [63/100] Loss: 0.4346\n",
      "Epoch [63/100] Loss: 0.3984\n",
      "Epoch [63/100] Loss: 0.5567\n",
      "Epoch [63/100] Loss: 0.5015\n",
      "Epoch [63/100] Loss: 0.4261\n",
      "Epoch [63/100] Loss: 0.4775\n",
      "Epoch [63/100] Loss: 0.3717\n",
      "Epoch [63/100] Loss: 0.4199\n",
      "Epoch [63/100] Loss: 0.4000\n",
      "Epoch [63/100] Loss: 0.4774\n"
     ]
    },
    {
     "name": "stderr",
     "output_type": "stream",
     "text": [
      "218it [01:14,  2.93it/s]"
     ]
    },
    {
     "name": "stdout",
     "output_type": "stream",
     "text": [
      "Overall Acc: \t 0.529841226467\n",
      "Mean Acc : \t 0.398807833177\n",
      "FreqW Acc : \t 0.376334582665\n",
      "Mean IoU : \t 0.301278858212\n"
     ]
    },
    {
     "name": "stderr",
     "output_type": "stream",
     "text": [
      "\n"
     ]
    },
    {
     "name": "stdout",
     "output_type": "stream",
     "text": [
      "Epoch [64/100] Loss: 0.5055\n",
      "Epoch [64/100] Loss: 0.3810\n",
      "Epoch [64/100] Loss: 0.4656\n",
      "Epoch [64/100] Loss: 0.4293\n",
      "Epoch [64/100] Loss: 0.4201\n",
      "Epoch [64/100] Loss: 0.3901\n",
      "Epoch [64/100] Loss: 0.2600\n",
      "Epoch [64/100] Loss: 0.4925\n",
      "Epoch [64/100] Loss: 0.3379\n",
      "Epoch [64/100] Loss: 0.4377\n",
      "Epoch [64/100] Loss: 0.5875\n",
      "Epoch [64/100] Loss: 0.5431\n",
      "Epoch [64/100] Loss: 0.5321\n"
     ]
    },
    {
     "name": "stderr",
     "output_type": "stream",
     "text": [
      "218it [01:14,  2.93it/s]"
     ]
    },
    {
     "name": "stdout",
     "output_type": "stream",
     "text": [
      "Overall Acc: \t 0.540448138658\n",
      "Mean Acc : \t 0.418116290176\n",
      "FreqW Acc : \t 0.386124224336\n",
      "Mean IoU : \t 0.314268648355\n"
     ]
    },
    {
     "name": "stderr",
     "output_type": "stream",
     "text": [
      "\n"
     ]
    },
    {
     "name": "stdout",
     "output_type": "stream",
     "text": [
      "Epoch [65/100] Loss: 0.4508\n",
      "Epoch [65/100] Loss: 0.4775\n",
      "Epoch [65/100] Loss: 0.3985\n",
      "Epoch [65/100] Loss: 0.5426\n",
      "Epoch [65/100] Loss: 0.4973\n",
      "Epoch [65/100] Loss: 0.2806\n",
      "Epoch [65/100] Loss: 0.4210\n",
      "Epoch [65/100] Loss: 0.4989\n",
      "Epoch [65/100] Loss: 0.4096\n",
      "Epoch [65/100] Loss: 0.3006\n",
      "Epoch [65/100] Loss: 0.4891\n",
      "Epoch [65/100] Loss: 0.3912\n",
      "Epoch [65/100] Loss: 0.3701\n"
     ]
    },
    {
     "name": "stderr",
     "output_type": "stream",
     "text": [
      "218it [01:14,  2.93it/s]"
     ]
    },
    {
     "name": "stdout",
     "output_type": "stream",
     "text": [
      "Overall Acc: \t 0.546568866073\n",
      "Mean Acc : \t 0.417437134495\n",
      "FreqW Acc : \t 0.392584189209\n",
      "Mean IoU : \t 0.317521893526\n"
     ]
    },
    {
     "name": "stderr",
     "output_type": "stream",
     "text": [
      "\n"
     ]
    },
    {
     "name": "stdout",
     "output_type": "stream",
     "text": [
      "Epoch [66/100] Loss: 0.4315\n",
      "Epoch [66/100] Loss: 0.4850\n",
      "Epoch [66/100] Loss: 0.4030\n",
      "Epoch [66/100] Loss: 0.3989\n",
      "Epoch [66/100] Loss: 0.3111\n",
      "Epoch [66/100] Loss: 0.3729\n",
      "Epoch [66/100] Loss: 0.4706\n",
      "Epoch [66/100] Loss: 0.3599\n",
      "Epoch [66/100] Loss: 0.3975\n",
      "Epoch [66/100] Loss: 0.4460\n",
      "Epoch [66/100] Loss: 0.3526\n",
      "Epoch [66/100] Loss: 0.5313\n",
      "Epoch [66/100] Loss: 0.3827\n"
     ]
    },
    {
     "name": "stderr",
     "output_type": "stream",
     "text": [
      "218it [01:14,  2.93it/s]"
     ]
    },
    {
     "name": "stdout",
     "output_type": "stream",
     "text": [
      "Overall Acc: \t 0.531734797082\n",
      "Mean Acc : \t 0.421124270175\n",
      "FreqW Acc : \t 0.382337961225\n",
      "Mean IoU : \t 0.317555100996\n"
     ]
    },
    {
     "name": "stderr",
     "output_type": "stream",
     "text": [
      "\n"
     ]
    },
    {
     "name": "stdout",
     "output_type": "stream",
     "text": [
      "Epoch [67/100] Loss: 0.4287\n",
      "Epoch [67/100] Loss: 0.4422\n",
      "Epoch [67/100] Loss: 0.4415\n",
      "Epoch [67/100] Loss: 0.3251\n",
      "Epoch [67/100] Loss: 0.4053\n",
      "Epoch [67/100] Loss: 0.3222\n",
      "Epoch [67/100] Loss: 0.4961\n",
      "Epoch [67/100] Loss: 0.4607\n",
      "Epoch [67/100] Loss: 0.4360\n",
      "Epoch [67/100] Loss: 0.3298\n",
      "Epoch [67/100] Loss: 0.4650\n",
      "Epoch [67/100] Loss: 0.5117\n",
      "Epoch [67/100] Loss: 0.3880\n"
     ]
    },
    {
     "name": "stderr",
     "output_type": "stream",
     "text": [
      "218it [01:14,  2.93it/s]"
     ]
    },
    {
     "name": "stdout",
     "output_type": "stream",
     "text": [
      "Overall Acc: \t 0.52505159555\n",
      "Mean Acc : \t 0.419551733644\n",
      "FreqW Acc : \t 0.376992679432\n",
      "Mean IoU : \t 0.316054589667\n"
     ]
    },
    {
     "name": "stderr",
     "output_type": "stream",
     "text": [
      "\n"
     ]
    },
    {
     "name": "stdout",
     "output_type": "stream",
     "text": [
      "Epoch [68/100] Loss: 0.4168\n",
      "Epoch [68/100] Loss: 0.4192\n",
      "Epoch [68/100] Loss: 0.2979\n",
      "Epoch [68/100] Loss: 0.4031\n",
      "Epoch [68/100] Loss: 0.4062\n",
      "Epoch [68/100] Loss: 0.3705\n",
      "Epoch [68/100] Loss: 0.3811\n",
      "Epoch [68/100] Loss: 0.3717\n",
      "Epoch [68/100] Loss: 0.4726\n",
      "Epoch [68/100] Loss: 0.5474\n",
      "Epoch [68/100] Loss: 0.3199\n",
      "Epoch [68/100] Loss: 0.3400\n",
      "Epoch [68/100] Loss: 0.3374\n"
     ]
    },
    {
     "name": "stderr",
     "output_type": "stream",
     "text": [
      "218it [01:14,  2.93it/s]"
     ]
    },
    {
     "name": "stdout",
     "output_type": "stream",
     "text": [
      "Overall Acc: \t 0.509597827472\n",
      "Mean Acc : \t 0.401197909815\n",
      "FreqW Acc : \t 0.363119884169\n",
      "Mean IoU : \t 0.300690898001\n"
     ]
    },
    {
     "name": "stderr",
     "output_type": "stream",
     "text": [
      "\n"
     ]
    },
    {
     "name": "stdout",
     "output_type": "stream",
     "text": [
      "Epoch [69/100] Loss: 0.4225\n",
      "Epoch [69/100] Loss: 0.4193\n",
      "Epoch [69/100] Loss: 0.3989\n",
      "Epoch [69/100] Loss: 0.3796\n",
      "Epoch [69/100] Loss: 0.4956\n",
      "Epoch [69/100] Loss: 0.3308\n",
      "Epoch [69/100] Loss: 0.3666\n",
      "Epoch [69/100] Loss: 0.4273\n",
      "Epoch [69/100] Loss: 0.5314\n",
      "Epoch [69/100] Loss: 0.6203\n",
      "Epoch [69/100] Loss: 0.5714\n",
      "Epoch [69/100] Loss: 0.4546\n",
      "Epoch [69/100] Loss: 0.4898\n"
     ]
    },
    {
     "name": "stderr",
     "output_type": "stream",
     "text": [
      "218it [01:14,  2.94it/s]"
     ]
    },
    {
     "name": "stdout",
     "output_type": "stream",
     "text": [
      "Overall Acc: \t 0.515422848576\n",
      "Mean Acc : \t 0.410772984959\n",
      "FreqW Acc : \t 0.369040102377\n",
      "Mean IoU : \t 0.30722323766\n"
     ]
    },
    {
     "name": "stderr",
     "output_type": "stream",
     "text": [
      "\n"
     ]
    },
    {
     "name": "stdout",
     "output_type": "stream",
     "text": [
      "Epoch [70/100] Loss: 0.3811\n",
      "Epoch [70/100] Loss: 0.4532\n",
      "Epoch [70/100] Loss: 0.3874\n",
      "Epoch [70/100] Loss: 0.3829\n",
      "Epoch [70/100] Loss: 0.2890\n",
      "Epoch [70/100] Loss: 0.4910\n",
      "Epoch [70/100] Loss: 0.4793\n",
      "Epoch [70/100] Loss: 0.3193\n",
      "Epoch [70/100] Loss: 0.4106\n",
      "Epoch [70/100] Loss: 0.5177\n",
      "Epoch [70/100] Loss: 0.4508\n",
      "Epoch [70/100] Loss: 0.4247\n",
      "Epoch [70/100] Loss: 0.4339\n"
     ]
    },
    {
     "name": "stderr",
     "output_type": "stream",
     "text": [
      "218it [01:14,  2.93it/s]"
     ]
    },
    {
     "name": "stdout",
     "output_type": "stream",
     "text": [
      "Overall Acc: \t 0.541362006045\n",
      "Mean Acc : \t 0.437476452472\n",
      "FreqW Acc : \t 0.390200958912\n",
      "Mean IoU : \t 0.324897068393\n"
     ]
    },
    {
     "name": "stderr",
     "output_type": "stream",
     "text": [
      "\n"
     ]
    },
    {
     "name": "stdout",
     "output_type": "stream",
     "text": [
      "Epoch [71/100] Loss: 0.3973\n",
      "Epoch [71/100] Loss: 0.4633\n",
      "Epoch [71/100] Loss: 0.4463\n",
      "Epoch [71/100] Loss: 0.3200\n",
      "Epoch [71/100] Loss: 0.4180\n",
      "Epoch [71/100] Loss: 0.4226\n",
      "Epoch [71/100] Loss: 0.4908\n",
      "Epoch [71/100] Loss: 0.2868\n",
      "Epoch [71/100] Loss: 0.5155\n",
      "Epoch [71/100] Loss: 0.3813\n",
      "Epoch [71/100] Loss: 0.5069\n",
      "Epoch [71/100] Loss: 0.5306\n",
      "Epoch [71/100] Loss: 0.4749\n"
     ]
    },
    {
     "name": "stderr",
     "output_type": "stream",
     "text": [
      "218it [01:14,  2.93it/s]"
     ]
    },
    {
     "name": "stdout",
     "output_type": "stream",
     "text": [
      "Overall Acc: \t 0.541275892345\n",
      "Mean Acc : \t 0.430170954036\n",
      "FreqW Acc : \t 0.390345947648\n",
      "Mean IoU : \t 0.327534857171\n"
     ]
    },
    {
     "name": "stderr",
     "output_type": "stream",
     "text": [
      "\n"
     ]
    },
    {
     "name": "stdout",
     "output_type": "stream",
     "text": [
      "Epoch [72/100] Loss: 0.2627\n",
      "Epoch [72/100] Loss: 0.5204\n",
      "Epoch [72/100] Loss: 0.4508\n",
      "Epoch [72/100] Loss: 0.4452\n",
      "Epoch [72/100] Loss: 0.5189\n",
      "Epoch [72/100] Loss: 0.3592\n",
      "Epoch [72/100] Loss: 0.5452\n",
      "Epoch [72/100] Loss: 0.4291\n",
      "Epoch [72/100] Loss: 0.3465\n",
      "Epoch [72/100] Loss: 0.4181\n",
      "Epoch [72/100] Loss: 0.5133\n",
      "Epoch [72/100] Loss: 0.3605\n",
      "Epoch [72/100] Loss: 0.3734\n"
     ]
    },
    {
     "name": "stderr",
     "output_type": "stream",
     "text": [
      "218it [01:14,  2.94it/s]"
     ]
    },
    {
     "name": "stdout",
     "output_type": "stream",
     "text": [
      "Overall Acc: \t 0.53396389307\n",
      "Mean Acc : \t 0.419001161159\n",
      "FreqW Acc : \t 0.383826072924\n",
      "Mean IoU : \t 0.314605777854\n"
     ]
    },
    {
     "name": "stderr",
     "output_type": "stream",
     "text": [
      "\n"
     ]
    },
    {
     "name": "stdout",
     "output_type": "stream",
     "text": [
      "Epoch [73/100] Loss: 0.3931\n",
      "Epoch [73/100] Loss: 0.3210\n",
      "Epoch [73/100] Loss: 0.3179\n",
      "Epoch [73/100] Loss: 0.3938\n",
      "Epoch [73/100] Loss: 0.5045\n",
      "Epoch [73/100] Loss: 0.4388\n",
      "Epoch [73/100] Loss: 0.3566\n",
      "Epoch [73/100] Loss: 0.3650\n",
      "Epoch [73/100] Loss: 0.3902\n",
      "Epoch [73/100] Loss: 0.4667\n",
      "Epoch [73/100] Loss: 0.3772\n",
      "Epoch [73/100] Loss: 0.4387\n",
      "Epoch [73/100] Loss: 0.3466\n"
     ]
    },
    {
     "name": "stderr",
     "output_type": "stream",
     "text": [
      "218it [01:14,  2.94it/s]"
     ]
    },
    {
     "name": "stdout",
     "output_type": "stream",
     "text": [
      "Overall Acc: \t 0.529652971896\n",
      "Mean Acc : \t 0.414814024682\n",
      "FreqW Acc : \t 0.380786949228\n",
      "Mean IoU : \t 0.311552440325\n"
     ]
    },
    {
     "name": "stderr",
     "output_type": "stream",
     "text": [
      "\n"
     ]
    },
    {
     "name": "stdout",
     "output_type": "stream",
     "text": [
      "Epoch [74/100] Loss: 0.4329\n",
      "Epoch [74/100] Loss: 0.3152\n",
      "Epoch [74/100] Loss: 0.4348\n",
      "Epoch [74/100] Loss: 0.4153\n",
      "Epoch [74/100] Loss: 0.3221\n",
      "Epoch [74/100] Loss: 0.4289\n",
      "Epoch [74/100] Loss: 0.2538\n",
      "Epoch [74/100] Loss: 0.3416\n",
      "Epoch [74/100] Loss: 0.4746\n",
      "Epoch [74/100] Loss: 0.2858\n",
      "Epoch [74/100] Loss: 0.4091\n",
      "Epoch [74/100] Loss: 0.5262\n",
      "Epoch [74/100] Loss: 0.4156\n"
     ]
    },
    {
     "name": "stderr",
     "output_type": "stream",
     "text": [
      "218it [01:14,  2.94it/s]"
     ]
    },
    {
     "name": "stdout",
     "output_type": "stream",
     "text": [
      "Overall Acc: \t 0.553240515099\n",
      "Mean Acc : \t 0.425543633542\n",
      "FreqW Acc : \t 0.39511338524\n",
      "Mean IoU : \t 0.322217948166\n"
     ]
    },
    {
     "name": "stderr",
     "output_type": "stream",
     "text": [
      "\n"
     ]
    },
    {
     "name": "stdout",
     "output_type": "stream",
     "text": [
      "Epoch [75/100] Loss: 0.3010\n",
      "Epoch [75/100] Loss: 0.3353\n",
      "Epoch [75/100] Loss: 0.3998\n",
      "Epoch [75/100] Loss: 0.4279\n",
      "Epoch [75/100] Loss: 0.4965\n",
      "Epoch [75/100] Loss: 0.3286\n",
      "Epoch [75/100] Loss: 0.2765\n",
      "Epoch [75/100] Loss: 0.4096\n",
      "Epoch [75/100] Loss: 0.3368\n",
      "Epoch [75/100] Loss: 0.3941\n",
      "Epoch [75/100] Loss: 0.3263\n",
      "Epoch [75/100] Loss: 0.3465\n",
      "Epoch [75/100] Loss: 0.3218\n"
     ]
    },
    {
     "name": "stderr",
     "output_type": "stream",
     "text": [
      "218it [01:14,  2.93it/s]"
     ]
    },
    {
     "name": "stdout",
     "output_type": "stream",
     "text": [
      "Overall Acc: \t 0.54039530374\n",
      "Mean Acc : \t 0.426026578394\n",
      "FreqW Acc : \t 0.389678376764\n",
      "Mean IoU : \t 0.320972111217\n"
     ]
    },
    {
     "name": "stderr",
     "output_type": "stream",
     "text": [
      "\n"
     ]
    },
    {
     "name": "stdout",
     "output_type": "stream",
     "text": [
      "Epoch [76/100] Loss: 0.4290\n",
      "Epoch [76/100] Loss: 0.4653\n",
      "Epoch [76/100] Loss: 0.3578\n",
      "Epoch [76/100] Loss: 0.4383\n",
      "Epoch [76/100] Loss: 0.4349\n",
      "Epoch [76/100] Loss: 0.4636\n",
      "Epoch [76/100] Loss: 0.4100\n",
      "Epoch [76/100] Loss: 0.4405\n",
      "Epoch [76/100] Loss: 0.3205\n",
      "Epoch [76/100] Loss: 0.3286\n",
      "Epoch [76/100] Loss: 0.4027\n",
      "Epoch [76/100] Loss: 0.3285\n",
      "Epoch [76/100] Loss: 0.4223\n"
     ]
    },
    {
     "name": "stderr",
     "output_type": "stream",
     "text": [
      "218it [01:14,  2.93it/s]"
     ]
    },
    {
     "name": "stdout",
     "output_type": "stream",
     "text": [
      "Overall Acc: \t 0.554779447192\n",
      "Mean Acc : \t 0.441806947617\n",
      "FreqW Acc : \t 0.399026682049\n",
      "Mean IoU : \t 0.330851668332\n"
     ]
    },
    {
     "name": "stderr",
     "output_type": "stream",
     "text": [
      "\n"
     ]
    },
    {
     "name": "stdout",
     "output_type": "stream",
     "text": [
      "Epoch [77/100] Loss: 0.4904\n",
      "Epoch [77/100] Loss: 0.4074\n",
      "Epoch [77/100] Loss: 0.4208\n",
      "Epoch [77/100] Loss: 0.3920\n",
      "Epoch [77/100] Loss: 0.3645\n",
      "Epoch [77/100] Loss: 0.5192\n",
      "Epoch [77/100] Loss: 0.4214\n",
      "Epoch [77/100] Loss: 0.3888\n",
      "Epoch [77/100] Loss: 0.3450\n",
      "Epoch [77/100] Loss: 0.4375\n",
      "Epoch [77/100] Loss: 0.5025\n",
      "Epoch [77/100] Loss: 0.2662\n",
      "Epoch [77/100] Loss: 0.5795\n"
     ]
    },
    {
     "name": "stderr",
     "output_type": "stream",
     "text": [
      "218it [01:14,  2.95it/s]"
     ]
    },
    {
     "name": "stdout",
     "output_type": "stream",
     "text": [
      "Overall Acc: \t 0.531617246233\n",
      "Mean Acc : \t 0.419546820065\n",
      "FreqW Acc : \t 0.382934601853\n",
      "Mean IoU : \t 0.316418616492\n"
     ]
    },
    {
     "name": "stderr",
     "output_type": "stream",
     "text": [
      "\n"
     ]
    },
    {
     "name": "stdout",
     "output_type": "stream",
     "text": [
      "Epoch [78/100] Loss: 0.4569\n",
      "Epoch [78/100] Loss: 0.4445\n",
      "Epoch [78/100] Loss: 0.4121\n",
      "Epoch [78/100] Loss: 0.3888\n",
      "Epoch [78/100] Loss: 0.4357\n",
      "Epoch [78/100] Loss: 0.4174\n",
      "Epoch [78/100] Loss: 0.3847\n",
      "Epoch [78/100] Loss: 0.3961\n",
      "Epoch [78/100] Loss: 0.4784\n",
      "Epoch [78/100] Loss: 0.3218\n",
      "Epoch [78/100] Loss: 0.3947\n",
      "Epoch [78/100] Loss: 0.4316\n",
      "Epoch [78/100] Loss: 0.2996\n"
     ]
    },
    {
     "name": "stderr",
     "output_type": "stream",
     "text": [
      "218it [01:14,  2.94it/s]"
     ]
    },
    {
     "name": "stdout",
     "output_type": "stream",
     "text": [
      "Overall Acc: \t 0.540849445121\n",
      "Mean Acc : \t 0.42395474015\n",
      "FreqW Acc : \t 0.387828910961\n",
      "Mean IoU : \t 0.314581264341\n"
     ]
    },
    {
     "name": "stderr",
     "output_type": "stream",
     "text": [
      "\n"
     ]
    },
    {
     "name": "stdout",
     "output_type": "stream",
     "text": [
      "Epoch [79/100] Loss: 0.4352\n",
      "Epoch [79/100] Loss: 0.3956\n",
      "Epoch [79/100] Loss: 0.4278\n",
      "Epoch [79/100] Loss: 0.2743\n",
      "Epoch [79/100] Loss: 0.4185\n",
      "Epoch [79/100] Loss: 0.5665\n",
      "Epoch [79/100] Loss: 0.3839\n",
      "Epoch [79/100] Loss: 0.4381\n",
      "Epoch [79/100] Loss: 0.3517\n",
      "Epoch [79/100] Loss: 0.4994\n",
      "Epoch [79/100] Loss: 0.3815\n",
      "Epoch [79/100] Loss: 0.4468\n",
      "Epoch [79/100] Loss: 0.2961\n"
     ]
    },
    {
     "name": "stderr",
     "output_type": "stream",
     "text": [
      "218it [01:14,  2.94it/s]"
     ]
    },
    {
     "name": "stdout",
     "output_type": "stream",
     "text": [
      "Overall Acc: \t 0.535975676526\n",
      "Mean Acc : \t 0.420924299097\n",
      "FreqW Acc : \t 0.386421907344\n",
      "Mean IoU : \t 0.319606822474\n"
     ]
    },
    {
     "name": "stderr",
     "output_type": "stream",
     "text": [
      "\n"
     ]
    },
    {
     "name": "stdout",
     "output_type": "stream",
     "text": [
      "Epoch [80/100] Loss: 0.3776\n",
      "Epoch [80/100] Loss: 0.2726\n",
      "Epoch [80/100] Loss: 0.3295\n",
      "Epoch [80/100] Loss: 0.4987\n",
      "Epoch [80/100] Loss: 0.3495\n",
      "Epoch [80/100] Loss: 0.4313\n",
      "Epoch [80/100] Loss: 0.3443\n",
      "Epoch [80/100] Loss: 0.3521\n",
      "Epoch [80/100] Loss: 0.4621\n",
      "Epoch [80/100] Loss: 0.4641\n",
      "Epoch [80/100] Loss: 0.3103\n",
      "Epoch [80/100] Loss: 0.4139\n",
      "Epoch [80/100] Loss: 0.3143\n"
     ]
    },
    {
     "name": "stderr",
     "output_type": "stream",
     "text": [
      "218it [01:14,  2.92it/s]"
     ]
    },
    {
     "name": "stdout",
     "output_type": "stream",
     "text": [
      "Overall Acc: \t 0.540555829312\n",
      "Mean Acc : \t 0.428694898545\n",
      "FreqW Acc : \t 0.38956346359\n",
      "Mean IoU : \t 0.322546836216\n"
     ]
    },
    {
     "name": "stderr",
     "output_type": "stream",
     "text": [
      "\n"
     ]
    },
    {
     "name": "stdout",
     "output_type": "stream",
     "text": [
      "Epoch [81/100] Loss: 0.2998\n",
      "Epoch [81/100] Loss: 0.2779\n",
      "Epoch [81/100] Loss: 0.3903\n",
      "Epoch [81/100] Loss: 0.3354\n",
      "Epoch [81/100] Loss: 0.4581\n",
      "Epoch [81/100] Loss: 0.3987\n",
      "Epoch [81/100] Loss: 0.4709\n",
      "Epoch [81/100] Loss: 0.4040\n",
      "Epoch [81/100] Loss: 0.3908\n",
      "Epoch [81/100] Loss: 0.3734\n",
      "Epoch [81/100] Loss: 0.3562\n",
      "Epoch [81/100] Loss: 0.3610\n",
      "Epoch [81/100] Loss: 0.4006\n"
     ]
    },
    {
     "name": "stderr",
     "output_type": "stream",
     "text": [
      "218it [01:14,  2.92it/s]"
     ]
    },
    {
     "name": "stdout",
     "output_type": "stream",
     "text": [
      "Overall Acc: \t 0.529086655239\n",
      "Mean Acc : \t 0.438527467276\n",
      "FreqW Acc : \t 0.379993494401\n",
      "Mean IoU : \t 0.321637596202\n"
     ]
    },
    {
     "name": "stderr",
     "output_type": "stream",
     "text": [
      "\n"
     ]
    },
    {
     "name": "stdout",
     "output_type": "stream",
     "text": [
      "Epoch [82/100] Loss: 0.3582\n",
      "Epoch [82/100] Loss: 0.3766\n",
      "Epoch [82/100] Loss: 0.3323\n",
      "Epoch [82/100] Loss: 0.3656\n",
      "Epoch [82/100] Loss: 0.2920\n",
      "Epoch [82/100] Loss: 0.3834\n",
      "Epoch [82/100] Loss: 0.3340\n",
      "Epoch [82/100] Loss: 0.3930\n",
      "Epoch [82/100] Loss: 0.4187\n",
      "Epoch [82/100] Loss: 0.3017\n",
      "Epoch [82/100] Loss: 0.3947\n",
      "Epoch [82/100] Loss: 0.4308\n",
      "Epoch [82/100] Loss: 0.3863\n"
     ]
    },
    {
     "name": "stderr",
     "output_type": "stream",
     "text": [
      "218it [01:14,  2.92it/s]"
     ]
    },
    {
     "name": "stdout",
     "output_type": "stream",
     "text": [
      "Overall Acc: \t 0.524501196563\n",
      "Mean Acc : \t 0.405161244982\n",
      "FreqW Acc : \t 0.377266455924\n",
      "Mean IoU : \t 0.311022136491\n"
     ]
    },
    {
     "name": "stderr",
     "output_type": "stream",
     "text": [
      "\n"
     ]
    },
    {
     "name": "stdout",
     "output_type": "stream",
     "text": [
      "Epoch [83/100] Loss: 0.3447\n",
      "Epoch [83/100] Loss: 0.3298\n",
      "Epoch [83/100] Loss: 0.4399\n",
      "Epoch [83/100] Loss: 0.5090\n",
      "Epoch [83/100] Loss: 0.4048\n",
      "Epoch [83/100] Loss: 0.3570\n",
      "Epoch [83/100] Loss: 0.3710\n",
      "Epoch [83/100] Loss: 0.4782\n",
      "Epoch [83/100] Loss: 0.4285\n",
      "Epoch [83/100] Loss: 0.3954\n",
      "Epoch [83/100] Loss: 0.5724\n",
      "Epoch [83/100] Loss: 0.2791\n",
      "Epoch [83/100] Loss: 0.6067\n"
     ]
    },
    {
     "name": "stderr",
     "output_type": "stream",
     "text": [
      "218it [01:14,  2.93it/s]"
     ]
    },
    {
     "name": "stdout",
     "output_type": "stream",
     "text": [
      "Overall Acc: \t 0.55903513435\n",
      "Mean Acc : \t 0.450723289774\n",
      "FreqW Acc : \t 0.402239211878\n",
      "Mean IoU : \t 0.331466062004\n"
     ]
    },
    {
     "name": "stderr",
     "output_type": "stream",
     "text": [
      "\n"
     ]
    },
    {
     "name": "stdout",
     "output_type": "stream",
     "text": [
      "Epoch [84/100] Loss: 0.3709\n",
      "Epoch [84/100] Loss: 0.2795\n",
      "Epoch [84/100] Loss: 0.3560\n",
      "Epoch [84/100] Loss: 0.4287\n",
      "Epoch [84/100] Loss: 0.3160\n",
      "Epoch [84/100] Loss: 0.2704\n",
      "Epoch [84/100] Loss: 0.2975\n",
      "Epoch [84/100] Loss: 0.3945\n",
      "Epoch [84/100] Loss: 0.4730\n",
      "Epoch [84/100] Loss: 0.3401\n",
      "Epoch [84/100] Loss: 0.3890\n",
      "Epoch [84/100] Loss: 0.3448\n",
      "Epoch [84/100] Loss: 0.3641\n"
     ]
    },
    {
     "name": "stderr",
     "output_type": "stream",
     "text": [
      "218it [01:14,  2.92it/s]"
     ]
    },
    {
     "name": "stdout",
     "output_type": "stream",
     "text": [
      "Overall Acc: \t 0.533777067008\n",
      "Mean Acc : \t 0.428041400992\n",
      "FreqW Acc : \t 0.385568477186\n",
      "Mean IoU : \t 0.32470274881\n"
     ]
    },
    {
     "name": "stderr",
     "output_type": "stream",
     "text": [
      "\n"
     ]
    },
    {
     "name": "stdout",
     "output_type": "stream",
     "text": [
      "Epoch [85/100] Loss: 0.3553\n",
      "Epoch [85/100] Loss: 0.4473\n",
      "Epoch [85/100] Loss: 0.4167\n",
      "Epoch [85/100] Loss: 0.4565\n",
      "Epoch [85/100] Loss: 0.4705\n",
      "Epoch [85/100] Loss: 0.4139\n",
      "Epoch [85/100] Loss: 0.5699\n",
      "Epoch [85/100] Loss: 0.2605\n",
      "Epoch [85/100] Loss: 0.3690\n",
      "Epoch [85/100] Loss: 0.4158\n",
      "Epoch [85/100] Loss: 0.5386\n",
      "Epoch [85/100] Loss: 0.3722\n",
      "Epoch [85/100] Loss: 0.3549\n"
     ]
    },
    {
     "name": "stderr",
     "output_type": "stream",
     "text": [
      "218it [01:14,  2.93it/s]"
     ]
    },
    {
     "name": "stdout",
     "output_type": "stream",
     "text": [
      "Overall Acc: \t 0.520900916237\n",
      "Mean Acc : \t 0.408325656703\n",
      "FreqW Acc : \t 0.374341798832\n",
      "Mean IoU : \t 0.307139937926\n"
     ]
    },
    {
     "name": "stderr",
     "output_type": "stream",
     "text": [
      "\n"
     ]
    },
    {
     "name": "stdout",
     "output_type": "stream",
     "text": [
      "Epoch [86/100] Loss: 0.4478\n",
      "Epoch [86/100] Loss: 0.3201\n",
      "Epoch [86/100] Loss: 0.3377\n",
      "Epoch [86/100] Loss: 0.4103\n",
      "Epoch [86/100] Loss: 0.4133\n",
      "Epoch [86/100] Loss: 0.2860\n",
      "Epoch [86/100] Loss: 0.4546\n",
      "Epoch [86/100] Loss: 0.3560\n",
      "Epoch [86/100] Loss: 0.4637\n",
      "Epoch [86/100] Loss: 0.3107\n",
      "Epoch [86/100] Loss: 0.3554\n",
      "Epoch [86/100] Loss: 0.3690\n",
      "Epoch [86/100] Loss: 0.2788\n"
     ]
    },
    {
     "name": "stderr",
     "output_type": "stream",
     "text": [
      "218it [01:14,  2.94it/s]"
     ]
    },
    {
     "name": "stdout",
     "output_type": "stream",
     "text": [
      "Overall Acc: \t 0.546846210818\n",
      "Mean Acc : \t 0.429737371673\n",
      "FreqW Acc : \t 0.39340092333\n",
      "Mean IoU : \t 0.324717142504\n"
     ]
    },
    {
     "name": "stderr",
     "output_type": "stream",
     "text": [
      "\n"
     ]
    },
    {
     "name": "stdout",
     "output_type": "stream",
     "text": [
      "Epoch [87/100] Loss: 0.3796\n",
      "Epoch [87/100] Loss: 0.3990\n",
      "Epoch [87/100] Loss: 0.4594\n",
      "Epoch [87/100] Loss: 0.3430\n",
      "Epoch [87/100] Loss: 0.3447\n",
      "Epoch [87/100] Loss: 0.3075\n",
      "Epoch [87/100] Loss: 0.3116\n",
      "Epoch [87/100] Loss: 0.4862\n",
      "Epoch [87/100] Loss: 0.4190\n",
      "Epoch [87/100] Loss: 0.3556\n",
      "Epoch [87/100] Loss: 0.3776\n",
      "Epoch [87/100] Loss: 0.3185\n",
      "Epoch [87/100] Loss: 0.4113\n"
     ]
    },
    {
     "name": "stderr",
     "output_type": "stream",
     "text": [
      "218it [01:14,  2.93it/s]"
     ]
    },
    {
     "name": "stdout",
     "output_type": "stream",
     "text": [
      "Overall Acc: \t 0.543255213311\n",
      "Mean Acc : \t 0.431718618577\n",
      "FreqW Acc : \t 0.391528788201\n",
      "Mean IoU : \t 0.32212863134\n"
     ]
    },
    {
     "name": "stderr",
     "output_type": "stream",
     "text": [
      "\n"
     ]
    },
    {
     "name": "stdout",
     "output_type": "stream",
     "text": [
      "Epoch [88/100] Loss: 0.4307\n",
      "Epoch [88/100] Loss: 0.2937\n",
      "Epoch [88/100] Loss: 0.4898\n",
      "Epoch [88/100] Loss: 0.2471\n",
      "Epoch [88/100] Loss: 0.3257\n",
      "Epoch [88/100] Loss: 0.3531\n",
      "Epoch [88/100] Loss: 0.4426\n",
      "Epoch [88/100] Loss: 0.3290\n",
      "Epoch [88/100] Loss: 0.3957\n",
      "Epoch [88/100] Loss: 0.4038\n",
      "Epoch [88/100] Loss: 0.3729\n",
      "Epoch [88/100] Loss: 0.3563\n",
      "Epoch [88/100] Loss: 0.2981\n"
     ]
    },
    {
     "name": "stderr",
     "output_type": "stream",
     "text": [
      "218it [01:14,  2.94it/s]"
     ]
    },
    {
     "name": "stdout",
     "output_type": "stream",
     "text": [
      "Overall Acc: \t 0.518951509342\n",
      "Mean Acc : \t 0.412237210577\n",
      "FreqW Acc : \t 0.37304771579\n",
      "Mean IoU : \t 0.311886809347\n"
     ]
    },
    {
     "name": "stderr",
     "output_type": "stream",
     "text": [
      "\n"
     ]
    },
    {
     "name": "stdout",
     "output_type": "stream",
     "text": [
      "Epoch [89/100] Loss: 0.4318\n",
      "Epoch [89/100] Loss: 0.4159\n",
      "Epoch [89/100] Loss: 0.3839\n",
      "Epoch [89/100] Loss: 0.3713\n",
      "Epoch [89/100] Loss: 0.3412\n",
      "Epoch [89/100] Loss: 0.3987\n",
      "Epoch [89/100] Loss: 0.3964\n",
      "Epoch [89/100] Loss: 0.4561\n",
      "Epoch [89/100] Loss: 0.4355\n",
      "Epoch [89/100] Loss: 0.3107\n",
      "Epoch [89/100] Loss: 0.3505\n",
      "Epoch [89/100] Loss: 0.2817\n"
     ]
    }
   ],
   "source": [
    "best_iou = -100.0 \n",
    "for epoch in range(args.n_epoch):\n",
    "    model.train()\n",
    "    for i, (color_imgs, depth_imgs, label_imgs) in enumerate(trainloader):\n",
    "        color_imgs = Variable(color_imgs.cuda())\n",
    "        depth_imgs = Variable(depth_imgs.cuda())\n",
    "        label_imgs = Variable(label_imgs.cuda())\n",
    "\n",
    "        optimizer.zero_grad()\n",
    "        outputs = model(color_imgs,depth_imgs)\n",
    "\n",
    "        loss = loss_fn(input=outputs, target=label_imgs)\n",
    "\n",
    "        loss.backward()\n",
    "        optimizer.step()\n",
    "\n",
    "        if args.visdom:\n",
    "            vis.line(\n",
    "                X=torch.ones((1, 1)).cpu() * i,\n",
    "                Y=torch.Tensor([loss.data[0]]).unsqueeze(0).cpu(),\n",
    "                win=loss_window,\n",
    "                update='append')\n",
    "\n",
    "        if (i+1) % 20 == 0:\n",
    "            print(\"Epoch [%d/%d] Loss: %.4f\" % (epoch+1, args.n_epoch, loss.data[0]))\n",
    "\n",
    "    model.eval()\n",
    "    for i_val, (color_images_val, depth_images_val, label_images_val) in tqdm(enumerate(valloader)):\n",
    "        color_images_val = Variable(color_images_val.cuda(), volatile=True)\n",
    "        depth_images_val = Variable(depth_images_val.cuda(), volatile=True)\n",
    "        label_images_val = Variable(label_images_val.cuda(), volatile=True)\n",
    "\n",
    "        outputs = model(color_images_val, depth_images_val)\n",
    "        pred = outputs.data.max(1)[1].cpu().numpy()\n",
    "        gt = label_images_val.data.cpu().numpy()\n",
    "        running_metrics.update(gt, pred)\n",
    "\n",
    "    score, class_iou = running_metrics.get_scores()\n",
    "    for k, v in score.items():\n",
    "        print(k, v)\n",
    "    running_metrics.reset()\n",
    "\n",
    "    if score['Mean IoU : \\t'] >= best_iou:\n",
    "        best_iou = score['Mean IoU : \\t']\n",
    "        state = {'epoch': epoch+1,\n",
    "                 'model_state': model.state_dict(),\n",
    "                 'optimizer_state' : optimizer.state_dict(),}\n",
    "        torch.save(state, \"../model_weights/{}_{}_best_model.pkl\".format(args.arch, 'NYUDv2'))"
   ]
  },
  {
   "cell_type": "markdown",
   "metadata": {},
   "source": [
    "# Training.. fcn8s_rgbd_maskedconv on NYUDv2"
   ]
  },
  {
   "cell_type": "markdown",
   "metadata": {},
   "source": [
    "학습시키다가.. 도중에 npy를 png로 바꿔서.. 중단됨 \n",
    "근데 어차피.. 잘 학습 되지 않았던거 같아서..\n",
    "멈춰도됨..\n",
    "뎁스영상 png로 했으니.. 다시 학습시켜볼까..\n",
    "\n",
    "HHA 영상도 만들어야하는데.."
   ]
  },
  {
   "cell_type": "code",
   "execution_count": null,
   "metadata": {},
   "outputs": [],
   "source": []
  }
 ],
 "metadata": {
  "kernelspec": {
   "display_name": "Python [conda env:pytorch]",
   "language": "python",
   "name": "conda-env-pytorch-py"
  },
  "language_info": {
   "codemirror_mode": {
    "name": "ipython",
    "version": 3
   },
   "file_extension": ".py",
   "mimetype": "text/x-python",
   "name": "python",
   "nbconvert_exporter": "python",
   "pygments_lexer": "ipython3",
   "version": "3.6.3"
  }
 },
 "nbformat": 4,
 "nbformat_minor": 2
}
