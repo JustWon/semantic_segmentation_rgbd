{
 "cells": [
  {
   "cell_type": "code",
   "execution_count": 1,
   "metadata": {},
   "outputs": [
    {
     "name": "stdout",
     "output_type": "stream",
     "text": [
      "Epoch [1/50] Loss: 2.6724\n"
     ]
    },
    {
     "name": "stderr",
     "output_type": "stream",
     "text": [
      "131it [00:29,  4.49it/s]\n"
     ]
    },
    {
     "name": "stdout",
     "output_type": "stream",
     "text": [
      "Overall Acc: \t 0.11243864878\n",
      "Mean Acc : \t 0.0823843556389\n",
      "FreqW Acc : \t 0.0514488148315\n",
      "Mean IoU : \t 0.0322582778506\n",
      "Epoch [2/50] Loss: 2.5160\n"
     ]
    },
    {
     "name": "stderr",
     "output_type": "stream",
     "text": [
      "131it [00:29,  4.49it/s]\n"
     ]
    },
    {
     "name": "stdout",
     "output_type": "stream",
     "text": [
      "Overall Acc: \t 0.230743163067\n",
      "Mean Acc : \t 0.0978668225782\n",
      "FreqW Acc : \t 0.104472806535\n",
      "Mean IoU : \t 0.0452270258792\n",
      "Epoch [3/50] Loss: 2.4491\n"
     ]
    },
    {
     "name": "stderr",
     "output_type": "stream",
     "text": [
      "131it [00:28,  4.52it/s]"
     ]
    },
    {
     "name": "stdout",
     "output_type": "stream",
     "text": [
      "Overall Acc: \t 0.266450245086\n",
      "Mean Acc : \t 0.0997071150532\n",
      "FreqW Acc : \t 0.0968669275711\n",
      "Mean IoU : \t 0.038725546195\n"
     ]
    },
    {
     "name": "stderr",
     "output_type": "stream",
     "text": [
      "\n"
     ]
    },
    {
     "name": "stdout",
     "output_type": "stream",
     "text": [
      "Epoch [4/50] Loss: 2.4179\n"
     ]
    },
    {
     "name": "stderr",
     "output_type": "stream",
     "text": [
      "131it [00:29,  4.47it/s]"
     ]
    },
    {
     "name": "stdout",
     "output_type": "stream",
     "text": [
      "Overall Acc: \t 0.275242269129\n",
      "Mean Acc : \t 0.101669895033\n",
      "FreqW Acc : \t 0.104304428681\n",
      "Mean IoU : \t 0.0405086771336\n"
     ]
    },
    {
     "name": "stderr",
     "output_type": "stream",
     "text": [
      "\n"
     ]
    },
    {
     "name": "stdout",
     "output_type": "stream",
     "text": [
      "Epoch [5/50] Loss: 2.4064\n"
     ]
    },
    {
     "name": "stderr",
     "output_type": "stream",
     "text": [
      "131it [00:29,  4.43it/s]\n"
     ]
    },
    {
     "name": "stdout",
     "output_type": "stream",
     "text": [
      "Overall Acc: \t 0.314109979254\n",
      "Mean Acc : \t 0.117415082086\n",
      "FreqW Acc : \t 0.148442332929\n",
      "Mean IoU : \t 0.0558467306184\n",
      "Epoch [6/50] Loss: 2.2562\n"
     ]
    },
    {
     "name": "stderr",
     "output_type": "stream",
     "text": [
      "131it [00:29,  4.42it/s]\n"
     ]
    },
    {
     "name": "stdout",
     "output_type": "stream",
     "text": [
      "Overall Acc: \t 0.335678715915\n",
      "Mean Acc : \t 0.125616566949\n",
      "FreqW Acc : \t 0.163404402306\n",
      "Mean IoU : \t 0.0607971502943\n",
      "Epoch [7/50] Loss: 2.0256\n"
     ]
    },
    {
     "name": "stderr",
     "output_type": "stream",
     "text": [
      "131it [00:29,  4.49it/s]\n"
     ]
    },
    {
     "name": "stdout",
     "output_type": "stream",
     "text": [
      "Overall Acc: \t 0.346932583341\n",
      "Mean Acc : \t 0.130072841955\n",
      "FreqW Acc : \t 0.171778703225\n",
      "Mean IoU : \t 0.0639372420325\n",
      "Epoch [8/50] Loss: 2.0526\n"
     ]
    },
    {
     "name": "stderr",
     "output_type": "stream",
     "text": [
      "131it [00:29,  4.45it/s]\n"
     ]
    },
    {
     "name": "stdout",
     "output_type": "stream",
     "text": [
      "Overall Acc: \t 0.355390595136\n",
      "Mean Acc : \t 0.133893420484\n",
      "FreqW Acc : \t 0.179515791681\n",
      "Mean IoU : \t 0.0662623488125\n",
      "Epoch [9/50] Loss: 2.1958\n"
     ]
    },
    {
     "name": "stderr",
     "output_type": "stream",
     "text": [
      "131it [00:29,  4.45it/s]\n"
     ]
    },
    {
     "name": "stdout",
     "output_type": "stream",
     "text": [
      "Overall Acc: \t 0.363524748543\n",
      "Mean Acc : \t 0.139764372746\n",
      "FreqW Acc : \t 0.189163444782\n",
      "Mean IoU : \t 0.0726466014411\n",
      "Epoch [10/50] Loss: 1.8728\n"
     ]
    },
    {
     "name": "stderr",
     "output_type": "stream",
     "text": [
      "131it [00:29,  4.50it/s]\n"
     ]
    },
    {
     "name": "stdout",
     "output_type": "stream",
     "text": [
      "Overall Acc: \t 0.386308046238\n",
      "Mean Acc : \t 0.159544004031\n",
      "FreqW Acc : \t 0.209440882891\n",
      "Mean IoU : \t 0.0869070904181\n",
      "Epoch [11/50] Loss: 1.7643\n"
     ]
    },
    {
     "name": "stderr",
     "output_type": "stream",
     "text": [
      "131it [00:29,  4.50it/s]\n"
     ]
    },
    {
     "name": "stdout",
     "output_type": "stream",
     "text": [
      "Overall Acc: \t 0.397369159539\n",
      "Mean Acc : \t 0.166149921693\n",
      "FreqW Acc : \t 0.214187512157\n",
      "Mean IoU : \t 0.0898627585092\n",
      "Epoch [12/50] Loss: 1.8558\n"
     ]
    },
    {
     "name": "stderr",
     "output_type": "stream",
     "text": [
      "131it [00:29,  4.47it/s]\n"
     ]
    },
    {
     "name": "stdout",
     "output_type": "stream",
     "text": [
      "Overall Acc: \t 0.403036467293\n",
      "Mean Acc : \t 0.172645165106\n",
      "FreqW Acc : \t 0.223747067483\n",
      "Mean IoU : \t 0.0944963476781\n",
      "Epoch [13/50] Loss: 1.8876\n"
     ]
    },
    {
     "name": "stderr",
     "output_type": "stream",
     "text": [
      "131it [00:29,  4.45it/s]\n"
     ]
    },
    {
     "name": "stdout",
     "output_type": "stream",
     "text": [
      "Overall Acc: \t 0.41121029044\n",
      "Mean Acc : \t 0.178663714794\n",
      "FreqW Acc : \t 0.227636322144\n",
      "Mean IoU : \t 0.0975175492175\n",
      "Epoch [14/50] Loss: 1.8527\n"
     ]
    },
    {
     "name": "stderr",
     "output_type": "stream",
     "text": [
      "131it [00:29,  4.42it/s]\n"
     ]
    },
    {
     "name": "stdout",
     "output_type": "stream",
     "text": [
      "Overall Acc: \t 0.417113775006\n",
      "Mean Acc : \t 0.183965707414\n",
      "FreqW Acc : \t 0.241816437238\n",
      "Mean IoU : \t 0.103449570574\n",
      "Epoch [15/50] Loss: 1.7759\n"
     ]
    },
    {
     "name": "stderr",
     "output_type": "stream",
     "text": [
      "131it [00:29,  4.48it/s]\n"
     ]
    },
    {
     "name": "stdout",
     "output_type": "stream",
     "text": [
      "Overall Acc: \t 0.422701927442\n",
      "Mean Acc : \t 0.187332068217\n",
      "FreqW Acc : \t 0.250643151944\n",
      "Mean IoU : \t 0.108023163697\n",
      "Epoch [16/50] Loss: 1.8263\n"
     ]
    },
    {
     "name": "stderr",
     "output_type": "stream",
     "text": [
      "131it [00:29,  4.42it/s]\n"
     ]
    },
    {
     "name": "stdout",
     "output_type": "stream",
     "text": [
      "Overall Acc: \t 0.42984365543\n",
      "Mean Acc : \t 0.189403535021\n",
      "FreqW Acc : \t 0.251077169442\n",
      "Mean IoU : \t 0.108760076091\n",
      "Epoch [17/50] Loss: 1.6412\n"
     ]
    },
    {
     "name": "stderr",
     "output_type": "stream",
     "text": [
      "131it [00:29,  4.52it/s]"
     ]
    },
    {
     "name": "stdout",
     "output_type": "stream",
     "text": [
      "Overall Acc: \t 0.432782083214\n",
      "Mean Acc : \t 0.188975019467\n",
      "FreqW Acc : \t 0.246315750899\n",
      "Mean IoU : \t 0.108261114332\n"
     ]
    },
    {
     "name": "stderr",
     "output_type": "stream",
     "text": [
      "\n"
     ]
    },
    {
     "name": "stdout",
     "output_type": "stream",
     "text": [
      "Epoch [18/50] Loss: 1.8722\n"
     ]
    },
    {
     "name": "stderr",
     "output_type": "stream",
     "text": [
      "131it [00:29,  4.44it/s]\n"
     ]
    },
    {
     "name": "stdout",
     "output_type": "stream",
     "text": [
      "Overall Acc: \t 0.437176056997\n",
      "Mean Acc : \t 0.189319258771\n",
      "FreqW Acc : \t 0.253450087644\n",
      "Mean IoU : \t 0.111368298427\n",
      "Epoch [19/50] Loss: 1.7469\n"
     ]
    },
    {
     "name": "stderr",
     "output_type": "stream",
     "text": [
      "131it [00:29,  4.39it/s]\n"
     ]
    },
    {
     "name": "stdout",
     "output_type": "stream",
     "text": [
      "Overall Acc: \t 0.449402266103\n",
      "Mean Acc : \t 0.199816951162\n",
      "FreqW Acc : \t 0.266384524342\n",
      "Mean IoU : \t 0.117040933646\n",
      "Epoch [20/50] Loss: 1.8497\n"
     ]
    },
    {
     "name": "stderr",
     "output_type": "stream",
     "text": [
      "131it [00:29,  4.51it/s]\n"
     ]
    },
    {
     "name": "stdout",
     "output_type": "stream",
     "text": [
      "Overall Acc: \t 0.452367387591\n",
      "Mean Acc : \t 0.202489106405\n",
      "FreqW Acc : \t 0.272647052772\n",
      "Mean IoU : \t 0.120771069924\n",
      "Epoch [21/50] Loss: 1.8073\n"
     ]
    },
    {
     "name": "stderr",
     "output_type": "stream",
     "text": [
      "131it [00:29,  4.45it/s]"
     ]
    },
    {
     "name": "stdout",
     "output_type": "stream",
     "text": [
      "Overall Acc: \t 0.452774726642\n",
      "Mean Acc : \t 0.203109601486\n",
      "FreqW Acc : \t 0.270519781406\n",
      "Mean IoU : \t 0.119785818325\n"
     ]
    },
    {
     "name": "stderr",
     "output_type": "stream",
     "text": [
      "\n"
     ]
    },
    {
     "name": "stdout",
     "output_type": "stream",
     "text": [
      "Epoch [22/50] Loss: 1.7729\n"
     ]
    },
    {
     "name": "stderr",
     "output_type": "stream",
     "text": [
      "131it [00:29,  4.43it/s]\n"
     ]
    },
    {
     "name": "stdout",
     "output_type": "stream",
     "text": [
      "Overall Acc: \t 0.462799364687\n",
      "Mean Acc : \t 0.209952650737\n",
      "FreqW Acc : \t 0.280007987635\n",
      "Mean IoU : \t 0.124689555641\n",
      "Epoch [23/50] Loss: 1.7519\n"
     ]
    },
    {
     "name": "stderr",
     "output_type": "stream",
     "text": [
      "131it [00:29,  4.49it/s]\n"
     ]
    },
    {
     "name": "stdout",
     "output_type": "stream",
     "text": [
      "Overall Acc: \t 0.469793941331\n",
      "Mean Acc : \t 0.231189941183\n",
      "FreqW Acc : \t 0.293622770702\n",
      "Mean IoU : \t 0.138832546563\n",
      "Epoch [24/50] Loss: 1.6597\n"
     ]
    },
    {
     "name": "stderr",
     "output_type": "stream",
     "text": [
      "131it [00:29,  4.49it/s]\n"
     ]
    },
    {
     "name": "stdout",
     "output_type": "stream",
     "text": [
      "Overall Acc: \t 0.483824795131\n",
      "Mean Acc : \t 0.244563068081\n",
      "FreqW Acc : \t 0.312837583951\n",
      "Mean IoU : \t 0.154501333225\n",
      "Epoch [25/50] Loss: 1.5826\n"
     ]
    },
    {
     "name": "stderr",
     "output_type": "stream",
     "text": [
      "131it [00:29,  4.46it/s]\n"
     ]
    },
    {
     "name": "stdout",
     "output_type": "stream",
     "text": [
      "Overall Acc: \t 0.486610337626\n",
      "Mean Acc : \t 0.248400433513\n",
      "FreqW Acc : \t 0.31853663379\n",
      "Mean IoU : \t 0.15769414921\n",
      "Epoch [26/50] Loss: 1.6156\n"
     ]
    },
    {
     "name": "stderr",
     "output_type": "stream",
     "text": [
      "131it [00:29,  4.42it/s]\n"
     ]
    },
    {
     "name": "stdout",
     "output_type": "stream",
     "text": [
      "Overall Acc: \t 0.491755657293\n",
      "Mean Acc : \t 0.250377045108\n",
      "FreqW Acc : \t 0.319342901704\n",
      "Mean IoU : \t 0.160674378564\n",
      "Epoch [27/50] Loss: 1.3988\n"
     ]
    },
    {
     "name": "stderr",
     "output_type": "stream",
     "text": [
      "131it [00:29,  4.48it/s]\n"
     ]
    },
    {
     "name": "stdout",
     "output_type": "stream",
     "text": [
      "Overall Acc: \t 0.495629210866\n",
      "Mean Acc : \t 0.257678271691\n",
      "FreqW Acc : \t 0.327275041023\n",
      "Mean IoU : \t 0.166561782145\n",
      "Epoch [28/50] Loss: 1.5843\n"
     ]
    },
    {
     "name": "stderr",
     "output_type": "stream",
     "text": [
      "131it [00:29,  4.41it/s]\n"
     ]
    },
    {
     "name": "stdout",
     "output_type": "stream",
     "text": [
      "Overall Acc: \t 0.502150821666\n",
      "Mean Acc : \t 0.258222578697\n",
      "FreqW Acc : \t 0.328941928491\n",
      "Mean IoU : \t 0.16769004613\n",
      "Epoch [29/50] Loss: 1.5383\n"
     ]
    },
    {
     "name": "stderr",
     "output_type": "stream",
     "text": [
      "131it [00:29,  4.50it/s]\n"
     ]
    },
    {
     "name": "stdout",
     "output_type": "stream",
     "text": [
      "Overall Acc: \t 0.508589773071\n",
      "Mean Acc : \t 0.268701110747\n",
      "FreqW Acc : \t 0.338075453952\n",
      "Mean IoU : \t 0.177266713379\n",
      "Epoch [30/50] Loss: 1.4586\n"
     ]
    },
    {
     "name": "stderr",
     "output_type": "stream",
     "text": [
      "131it [00:29,  4.52it/s]\n"
     ]
    },
    {
     "name": "stdout",
     "output_type": "stream",
     "text": [
      "Overall Acc: \t 0.508445553405\n",
      "Mean Acc : \t 0.272666394202\n",
      "FreqW Acc : \t 0.342782067605\n",
      "Mean IoU : \t 0.180041497926\n",
      "Epoch [31/50] Loss: 1.6248\n"
     ]
    },
    {
     "name": "stderr",
     "output_type": "stream",
     "text": [
      "131it [00:29,  4.47it/s]\n"
     ]
    },
    {
     "name": "stdout",
     "output_type": "stream",
     "text": [
      "Overall Acc: \t 0.517881511412\n",
      "Mean Acc : \t 0.278107010057\n",
      "FreqW Acc : \t 0.340679781876\n",
      "Mean IoU : \t 0.181222335549\n",
      "Epoch [32/50] Loss: 1.4133\n"
     ]
    },
    {
     "name": "stderr",
     "output_type": "stream",
     "text": [
      "131it [00:29,  4.37it/s]\n"
     ]
    },
    {
     "name": "stdout",
     "output_type": "stream",
     "text": [
      "Overall Acc: \t 0.516186941538\n",
      "Mean Acc : \t 0.274079017212\n",
      "FreqW Acc : \t 0.346736118681\n",
      "Mean IoU : \t 0.185300015737\n",
      "Epoch [33/50] Loss: 1.6059\n"
     ]
    },
    {
     "name": "stderr",
     "output_type": "stream",
     "text": [
      "131it [00:29,  4.47it/s]\n"
     ]
    },
    {
     "name": "stdout",
     "output_type": "stream",
     "text": [
      "Overall Acc: \t 0.517939219188\n",
      "Mean Acc : \t 0.28382885828\n",
      "FreqW Acc : \t 0.353381767337\n",
      "Mean IoU : \t 0.190753813588\n",
      "Epoch [34/50] Loss: 1.2436\n"
     ]
    },
    {
     "name": "stderr",
     "output_type": "stream",
     "text": [
      "131it [00:29,  4.49it/s]\n"
     ]
    },
    {
     "name": "stdout",
     "output_type": "stream",
     "text": [
      "Overall Acc: \t 0.524794687938\n",
      "Mean Acc : \t 0.289305804593\n",
      "FreqW Acc : \t 0.351523243807\n",
      "Mean IoU : \t 0.191194941521\n",
      "Epoch [35/50] Loss: 1.1584\n"
     ]
    },
    {
     "name": "stderr",
     "output_type": "stream",
     "text": [
      "131it [00:28,  4.53it/s]\n"
     ]
    },
    {
     "name": "stdout",
     "output_type": "stream",
     "text": [
      "Overall Acc: \t 0.527939796564\n",
      "Mean Acc : \t 0.294373010175\n",
      "FreqW Acc : \t 0.353951206174\n",
      "Mean IoU : \t 0.194715549788\n",
      "Epoch [36/50] Loss: 1.4998\n"
     ]
    },
    {
     "name": "stderr",
     "output_type": "stream",
     "text": [
      "131it [00:29,  4.45it/s]\n"
     ]
    },
    {
     "name": "stdout",
     "output_type": "stream",
     "text": [
      "Overall Acc: \t 0.522173986406\n",
      "Mean Acc : \t 0.29437039781\n",
      "FreqW Acc : \t 0.357057861827\n",
      "Mean IoU : \t 0.19626081824\n",
      "Epoch [37/50] Loss: 1.3948\n"
     ]
    },
    {
     "name": "stderr",
     "output_type": "stream",
     "text": [
      "131it [00:29,  4.47it/s]\n"
     ]
    },
    {
     "name": "stdout",
     "output_type": "stream",
     "text": [
      "Overall Acc: \t 0.528022555508\n",
      "Mean Acc : \t 0.296699278483\n",
      "FreqW Acc : \t 0.361756742869\n",
      "Mean IoU : \t 0.199930886717\n",
      "Epoch [38/50] Loss: 1.0196\n"
     ]
    },
    {
     "name": "stderr",
     "output_type": "stream",
     "text": [
      "131it [00:29,  4.50it/s]\n"
     ]
    },
    {
     "name": "stdout",
     "output_type": "stream",
     "text": [
      "Overall Acc: \t 0.52568720733\n",
      "Mean Acc : \t 0.303472721683\n",
      "FreqW Acc : \t 0.360569192886\n",
      "Mean IoU : \t 0.201216364975\n",
      "Epoch [39/50] Loss: 1.2716\n"
     ]
    },
    {
     "name": "stderr",
     "output_type": "stream",
     "text": [
      "131it [00:28,  4.55it/s]"
     ]
    },
    {
     "name": "stdout",
     "output_type": "stream",
     "text": [
      "Overall Acc: \t 0.525660458875\n",
      "Mean Acc : \t 0.290378238362\n",
      "FreqW Acc : \t 0.351690548643\n",
      "Mean IoU : \t 0.194031353373\n"
     ]
    },
    {
     "name": "stderr",
     "output_type": "stream",
     "text": [
      "\n"
     ]
    },
    {
     "name": "stdout",
     "output_type": "stream",
     "text": [
      "Epoch [40/50] Loss: 1.1731\n"
     ]
    },
    {
     "name": "stderr",
     "output_type": "stream",
     "text": [
      "131it [00:28,  4.58it/s]\n"
     ]
    },
    {
     "name": "stdout",
     "output_type": "stream",
     "text": [
      "Overall Acc: \t 0.524501992944\n",
      "Mean Acc : \t 0.304262823145\n",
      "FreqW Acc : \t 0.364795481067\n",
      "Mean IoU : \t 0.201908103106\n",
      "Epoch [41/50] Loss: 1.2747\n"
     ]
    },
    {
     "name": "stderr",
     "output_type": "stream",
     "text": [
      "131it [00:28,  4.56it/s]\n"
     ]
    },
    {
     "name": "stdout",
     "output_type": "stream",
     "text": [
      "Overall Acc: \t 0.525880812588\n",
      "Mean Acc : \t 0.313779242531\n",
      "FreqW Acc : \t 0.35745604033\n",
      "Mean IoU : \t 0.203401280132\n",
      "Epoch [42/50] Loss: 1.2564\n"
     ]
    },
    {
     "name": "stderr",
     "output_type": "stream",
     "text": [
      "131it [00:28,  4.57it/s]"
     ]
    },
    {
     "name": "stdout",
     "output_type": "stream",
     "text": [
      "Overall Acc: \t 0.52778499996\n",
      "Mean Acc : \t 0.29617062083\n",
      "FreqW Acc : \t 0.355590293362\n",
      "Mean IoU : \t 0.202199826413\n"
     ]
    },
    {
     "name": "stderr",
     "output_type": "stream",
     "text": [
      "\n"
     ]
    },
    {
     "name": "stdout",
     "output_type": "stream",
     "text": [
      "Epoch [43/50] Loss: 1.1886\n"
     ]
    },
    {
     "name": "stderr",
     "output_type": "stream",
     "text": [
      "131it [00:28,  4.58it/s]\n"
     ]
    },
    {
     "name": "stdout",
     "output_type": "stream",
     "text": [
      "Overall Acc: \t 0.525131960372\n",
      "Mean Acc : \t 0.318809483633\n",
      "FreqW Acc : \t 0.369203779604\n",
      "Mean IoU : \t 0.213355390438\n",
      "Epoch [44/50] Loss: 1.0600\n"
     ]
    },
    {
     "name": "stderr",
     "output_type": "stream",
     "text": [
      "131it [00:29,  4.50it/s]"
     ]
    },
    {
     "name": "stdout",
     "output_type": "stream",
     "text": [
      "Overall Acc: \t 0.529859657715\n",
      "Mean Acc : \t 0.293853602272\n",
      "FreqW Acc : \t 0.357469621521\n",
      "Mean IoU : \t 0.201481119056\n"
     ]
    },
    {
     "name": "stderr",
     "output_type": "stream",
     "text": [
      "\n"
     ]
    },
    {
     "name": "stdout",
     "output_type": "stream",
     "text": [
      "Epoch [45/50] Loss: 1.2221\n"
     ]
    },
    {
     "name": "stderr",
     "output_type": "stream",
     "text": [
      "131it [00:28,  4.54it/s]"
     ]
    },
    {
     "name": "stdout",
     "output_type": "stream",
     "text": [
      "Overall Acc: \t 0.53329114006\n",
      "Mean Acc : \t 0.3164428352\n",
      "FreqW Acc : \t 0.36722458013\n",
      "Mean IoU : \t 0.213007039823\n"
     ]
    },
    {
     "name": "stderr",
     "output_type": "stream",
     "text": [
      "\n"
     ]
    },
    {
     "name": "stdout",
     "output_type": "stream",
     "text": [
      "Epoch [46/50] Loss: 1.2023\n"
     ]
    },
    {
     "name": "stderr",
     "output_type": "stream",
     "text": [
      "131it [00:28,  4.57it/s]\n"
     ]
    },
    {
     "name": "stdout",
     "output_type": "stream",
     "text": [
      "Overall Acc: \t 0.53458082971\n",
      "Mean Acc : \t 0.328775534298\n",
      "FreqW Acc : \t 0.373022279392\n",
      "Mean IoU : \t 0.223647737068\n",
      "Epoch [47/50] Loss: 1.0399\n"
     ]
    },
    {
     "name": "stderr",
     "output_type": "stream",
     "text": [
      "131it [00:28,  4.55it/s]\n"
     ]
    },
    {
     "name": "stdout",
     "output_type": "stream",
     "text": [
      "Overall Acc: \t 0.533373008051\n",
      "Mean Acc : \t 0.33150831007\n",
      "FreqW Acc : \t 0.373823253727\n",
      "Mean IoU : \t 0.22816061421\n",
      "Epoch [48/50] Loss: 1.1331\n"
     ]
    },
    {
     "name": "stderr",
     "output_type": "stream",
     "text": [
      "131it [00:29,  4.49it/s]\n"
     ]
    },
    {
     "name": "stdout",
     "output_type": "stream",
     "text": [
      "Overall Acc: \t 0.53209269579\n",
      "Mean Acc : \t 0.339101094425\n",
      "FreqW Acc : \t 0.367581598549\n",
      "Mean IoU : \t 0.229032131284\n",
      "Epoch [49/50] Loss: 0.9616\n"
     ]
    },
    {
     "name": "stderr",
     "output_type": "stream",
     "text": [
      "131it [00:28,  4.57it/s]"
     ]
    },
    {
     "name": "stdout",
     "output_type": "stream",
     "text": [
      "Overall Acc: \t 0.534673354278\n",
      "Mean Acc : \t 0.338960469837\n",
      "FreqW Acc : \t 0.364365213881\n",
      "Mean IoU : \t 0.225478265093\n"
     ]
    },
    {
     "name": "stderr",
     "output_type": "stream",
     "text": [
      "\n"
     ]
    },
    {
     "name": "stdout",
     "output_type": "stream",
     "text": [
      "Epoch [50/50] Loss: 1.0795\n"
     ]
    },
    {
     "name": "stderr",
     "output_type": "stream",
     "text": [
      "131it [00:28,  4.55it/s]\n"
     ]
    },
    {
     "name": "stdout",
     "output_type": "stream",
     "text": [
      "Overall Acc: \t 0.536658623216\n",
      "Mean Acc : \t 0.3381998256\n",
      "FreqW Acc : \t 0.377566044792\n",
      "Mean IoU : \t 0.233577875768\n"
     ]
    }
   ],
   "source": [
    "from utils import *\n",
    "\n",
    "arg_str = '--gpu_idx 1 ' \\\n",
    "          '--arch segnet ' \\\n",
    "          '--dataset NYUDv2 ' \\\n",
    "          '--batch_size 5 ' \\\n",
    "          '--l_rate 1e-4 ' \\\n",
    "          '--n_epoch 50 ' \\\n",
    "          '--resume ../model_weights/segnet_NYUDv2_best_model.pkl'\n",
    "          '--visdom'\n",
    "\n",
    "trainer = trainer(arg_str)\n",
    "trainer.model_init()\n",
    "trainer.training()"
   ]
  },
  {
   "cell_type": "markdown",
   "metadata": {},
   "source": [
    "# Second training"
   ]
  },
  {
   "cell_type": "code",
   "execution_count": 1,
   "metadata": {},
   "outputs": [
    {
     "ename": "IndentationError",
     "evalue": "unexpected indent (<ipython-input-1-b6b4a742b84f>, line 2)",
     "output_type": "error",
     "traceback": [
      "\u001b[0;36m  File \u001b[0;32m\"<ipython-input-1-b6b4a742b84f>\"\u001b[0;36m, line \u001b[0;32m2\u001b[0m\n\u001b[0;31m    '--visdom'\u001b[0m\n\u001b[0m    ^\u001b[0m\n\u001b[0;31mIndentationError\u001b[0m\u001b[0;31m:\u001b[0m unexpected indent\n"
     ]
    }
   ],
   "source": [
    "arg_str = '--gpu_idx 1 ' \\\n",
    "          '--arch segnet ' \\\n",
    "          '--dataset NYUDv2 ' \\\n",
    "          '--batch_size 5 ' \\\n",
    "          '--l_rate 1e-4 ' \\\n",
    "          '--n_epoch 50 ' \\\n",
    "          '--resume ../model_weights/segnet_NYUDv2_best_model.pkl ' \\\n",
    "          '--visdom'\n",
    "\n",
    "trainer = trainer(arg_str)\n",
    "trainer.model_init()\n",
    "trainer.training()"
   ]
  },
  {
   "cell_type": "code",
   "execution_count": null,
   "metadata": {},
   "outputs": [],
   "source": []
  }
 ],
 "metadata": {
  "kernelspec": {
   "display_name": "Python [conda env:pytorch]",
   "language": "python",
   "name": "conda-env-pytorch-py"
  },
  "language_info": {
   "codemirror_mode": {
    "name": "ipython",
    "version": 3
   },
   "file_extension": ".py",
   "mimetype": "text/x-python",
   "name": "python",
   "nbconvert_exporter": "python",
   "pygments_lexer": "ipython3",
   "version": "3.6.3"
  }
 },
 "nbformat": 4,
 "nbformat_minor": 2
}
