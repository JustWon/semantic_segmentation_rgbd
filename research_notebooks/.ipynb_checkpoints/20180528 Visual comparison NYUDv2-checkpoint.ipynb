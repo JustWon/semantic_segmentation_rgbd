{
 "cells": [
  {
   "cell_type": "code",
   "execution_count": 37,
   "metadata": {},
   "outputs": [],
   "source": [
    "import sys, os\n",
    "import torch\n",
    "import visdom\n",
    "import argparse\n",
    "import timeit\n",
    "import numpy as np\n",
    "import scipy.misc as misc\n",
    "import torch.nn as nn\n",
    "import torch.nn.functional as F\n",
    "import torchvision.models as models\n",
    "\n",
    "from torch.autograd import Variable\n",
    "from torch.utils import data\n",
    "from tqdm import tqdm\n",
    "\n",
    "from ptsemseg.models import get_model\n",
    "from ptsemseg.loader import get_loader, get_data_path\n",
    "from ptsemseg.utils import convert_state_dict\n",
    "\n",
    "%matplotlib inline\n",
    "import matplotlib.pyplot as plt\n",
    "\n",
    "from NYUDv2Loader import *\n",
    "\n"
   ]
  },
  {
   "cell_type": "code",
   "execution_count": 58,
   "metadata": {},
   "outputs": [
    {
     "data": {
      "text/plain": [
       "_StoreAction(option_strings=['--out_path'], dest='out_path', nargs='?', const=None, default=None, type=<class 'str'>, choices=None, help='Path of the output segmap', metavar=None)"
      ]
     },
     "execution_count": 58,
     "metadata": {},
     "output_type": "execute_result"
    }
   ],
   "source": [
    "parser = argparse.ArgumentParser(description='Params')\n",
    "parser.add_argument('--model_path', nargs='?', type=str, default='fcn8s_pascal_1_26.pkl', help='Path to the saved model')\n",
    "parser.add_argument('--model_name', nargs='?', type=str, help='model name')\n",
    "parser.add_argument('--dataset', nargs='?', type=str, default='pascal', help='Dataset to use [\\'pascal, camvid, ade20k etc\\']')\n",
    "\n",
    "parser.add_argument('--img_norm', dest='img_norm', action='store_true', help='Enable input image scales normalization [0, 1] | True by default')\n",
    "parser.add_argument('--no-img_norm', dest='img_norm', action='store_false', help='Disable input image scales normalization [0, 1] | True by default')\n",
    "parser.set_defaults(img_norm=True)\n",
    "\n",
    "parser.add_argument('--dcrf', dest='dcrf', action='store_true', help='Enable DenseCRF based post-processing | False by default')\n",
    "parser.add_argument('--no-dcrf', dest='dcrf', action='store_false', help='Disable DenseCRF based post-processing | False by default')\n",
    "parser.set_defaults(dcrf=False)\n",
    "\n",
    "parser.add_argument('--color_path', nargs='?', type=str, default=None, help='Path of the input color image')\n",
    "parser.add_argument('--depth_path', nargs='?', type=str, default=None, help='Path of the input depth image')\n",
    "parser.add_argument('--out_path', nargs='?', type=str, default=None, help='Path of the output segmap')"
   ]
  },
  {
   "cell_type": "code",
   "execution_count": 80,
   "metadata": {},
   "outputs": [],
   "source": [
    "def test(args):\n",
    "    model_file_name = os.path.split(args.model_path)[1]\n",
    "    model_name = args.model_name\n",
    "\n",
    "    # Setup image\n",
    "    print(\"Read Input color image from : {}\".format(args.color_path))\n",
    "    img = misc.imread(args.color_path)\n",
    "    if (args.depth_path is not None):\n",
    "        print(\"Read Input depth image from : {}\".format(args.depth_path))\n",
    "        depth_img = misc.imread(args.depth_path)\n",
    "    \n",
    "    if (args.dataset == 'NYUDv2'):\n",
    "        data_path = '/home/dongwonshin/Desktop/Datasets/NYUDv2/'\n",
    "        loader = NYUDv2Loader(data_path, is_transform=True, split='val')\n",
    "    elif (args.dataset == 'NYUDv2_HHA'):\n",
    "        data_path = '/home/dongwonshin/Desktop/Datasets/NYUDv2/'\n",
    "        loader = NYUDv2Loader_HHA(data_path, is_transform=True, split='val')\n",
    "    elif (args.dataset == 'SUNRGBD'):\n",
    "        data_path = '/home/dongwonshin/Desktop/Datasets/SUNRGBD/SUNRGBD/'\n",
    "        loader = SUNRGBDLoader(data_path, is_transform=True, split='val')\n",
    "    elif (args.dataset == 'SUNRGBD_HHA'):\n",
    "        data_path = '/home/dongwonshin/Desktop/Datasets/SUNRGBD/SUNRGBD/'\n",
    "        loader = SUNRGBDLoader_HHA(data_path, is_transform=True, split='val')\n",
    "    \n",
    "    n_classes = loader.n_classes\n",
    "    \n",
    "    # preprocessing\n",
    "    resized_img = misc.imresize(img, (loader.img_size[0], loader.img_size[1]), interp='bicubic')\n",
    "    orig_size = img.shape[:-1]\n",
    "    img = misc.imresize(img, (loader.img_size[0], loader.img_size[1]))\n",
    "    img = img[:, :, ::-1]\n",
    "    img = img.astype(np.float64)\n",
    "    img -= loader.mean\n",
    "    if args.img_norm:\n",
    "        img = img.astype(float) / 255.0\n",
    "    # NHWC -> NCHW\n",
    "    img = img.transpose(2, 0, 1)\n",
    "    img = np.expand_dims(img, 0)\n",
    "    img = torch.from_numpy(img).float()\n",
    "\n",
    "    if (args.depth_path is not None):\n",
    "        depth_img = m.imresize(depth_img, (loader.img_size[0], loader.img_size[1]))\n",
    "        depth_img = depth_img.astype(np.float64)\n",
    "        depth_img = depth_img[np.newaxis,:]\n",
    "        depth_img -= loader.depth_mean\n",
    "        if args.img_norm:\n",
    "            # Resize scales images from 0 to 255, thus we need\n",
    "            # to divide by 255.0\n",
    "            depth_img = depth_img.astype(float) / 255.0\n",
    "        depth_img = np.expand_dims(depth_img, 0)\n",
    "        depth_img = torch.from_numpy(depth_img).float()\n",
    "    \n",
    "    \n",
    "    # Setup Model\n",
    "    model = get_model(model_name, n_classes, version=args.dataset)\n",
    "    state = convert_state_dict(torch.load(args.model_path)['model_state'])\n",
    "    model.load_state_dict(state)\n",
    "    model.eval()\n",
    "\n",
    "    model.cuda(0)\n",
    "    images = Variable(img.cuda(0), volatile=True)\n",
    "    if (args.depth_path is not None):\n",
    "        depths = Variable(depth_img.cuda(0), volatile=True)\n",
    "\n",
    "    if (model_name in ['FCN_RGB', 'FCN_RGB_renet', 'FCN_RGB_mask2']):\n",
    "        outputs = model(images)\n",
    "    else:\n",
    "        outputs = model(images, depths)\n",
    "    #outputs = F.softmax(outputs, dim=1)\n",
    "\n",
    "    pred = np.squeeze(outputs.data.max(1)[1].cpu().numpy(), axis=0)\n",
    "    decoded = loader.decode_segmap(pred)\n",
    "    print('Classes found: ', np.unique(pred))\n",
    "    plt.imshow(decoded)\n",
    "    misc.imsave(os.path.join('../output_images/','%s_%s.png' % (args.model_name,args.dataset)), decoded)\n",
    "    print(\"Segmentation Mask Saved at: {}\".format(args.out_path))"
   ]
  },
  {
   "cell_type": "code",
   "execution_count": 65,
   "metadata": {},
   "outputs": [
    {
     "name": "stdout",
     "output_type": "stream",
     "text": [
      "Read Input Image from : ../test_color.jpg\n"
     ]
    },
    {
     "name": "stderr",
     "output_type": "stream",
     "text": [
      "/home/dongwonshin/.conda/envs/pytorch/lib/python3.6/site-packages/torch/nn/functional.py:1462: UserWarning: nn.functional.upsample_bilinear is deprecated. Use nn.functional.upsample instead.\n",
      "  warnings.warn(\"nn.functional.upsample_bilinear is deprecated. Use nn.functional.upsample instead.\")\n"
     ]
    },
    {
     "name": "stdout",
     "output_type": "stream",
     "text": [
      "Classes found:  [ 0  4  5  6  7  8 10 12 13]\n",
      "Segmentation Mask Saved at: None\n"
     ]
    },
    {
     "data": {
      "image/png": "[encoded data removed]",
      "text/plain": [
       "<matplotlib.figure.Figure at 0x7fe7f3483898>"
      ]
     },
     "metadata": {},
     "output_type": "display_data"
    }
   ],
   "source": [
    "test(parser.parse_args('--model_path ../model_weights/FCN_RGB_NYUDv2_best_model.pkl ' \\\n",
    "                       '--model_name FCN_RGB ' \\\n",
    "                       '--dataset NYUDv2 ' \\\n",
    "                       '--color_path ../test_color.jpg'.split(' ')))"
   ]
  },
  {
   "cell_type": "code",
   "execution_count": 53,
   "metadata": {},
   "outputs": [
    {
     "name": "stdout",
     "output_type": "stream",
     "text": [
      "Read Input Image from : ../test_color.jpg\n",
      "Classes found:  [ 0  1  4  5  6  7 12 13]\n",
      "Segmentation Mask Saved at: None\n"
     ]
    },
    {
     "name": "stderr",
     "output_type": "stream",
     "text": [
      "/home/dongwonshin/.conda/envs/pytorch/lib/python3.6/site-packages/torch/nn/functional.py:1462: UserWarning: nn.functional.upsample_bilinear is deprecated. Use nn.functional.upsample instead.\n",
      "  warnings.warn(\"nn.functional.upsample_bilinear is deprecated. Use nn.functional.upsample instead.\")\n"
     ]
    },
    {
     "data": {
      "image/png": "[encoded data removed]",
      "text/plain": [
       "<matplotlib.figure.Figure at 0x7fe7f2c22cf8>"
      ]
     },
     "metadata": {},
     "output_type": "display_data"
    }
   ],
   "source": [
    "test(parser.parse_args('--model_path ../model_weights/FCN_RGB_renet_NYUDv2_best_model.pkl ' \\\n",
    "                       '--model_name FCN_RGB_renet ' \\\n",
    "                       '--dataset NYUDv2 ' \\\n",
    "                       '--color_path ../test_color.jpg'.split(' ')))"
   ]
  },
  {
   "cell_type": "code",
   "execution_count": 54,
   "metadata": {},
   "outputs": [
    {
     "name": "stdout",
     "output_type": "stream",
     "text": [
      "Read Input Image from : ../test_color.jpg\n"
     ]
    },
    {
     "name": "stderr",
     "output_type": "stream",
     "text": [
      "/home/dongwonshin/.conda/envs/pytorch/lib/python3.6/site-packages/torch/nn/functional.py:1462: UserWarning: nn.functional.upsample_bilinear is deprecated. Use nn.functional.upsample instead.\n",
      "  warnings.warn(\"nn.functional.upsample_bilinear is deprecated. Use nn.functional.upsample instead.\")\n"
     ]
    },
    {
     "name": "stdout",
     "output_type": "stream",
     "text": [
      "Classes found:  [ 0  3  4  5  6  7 10 12 13]\n",
      "Segmentation Mask Saved at: None\n"
     ]
    },
    {
     "data": {
      "image/png": "[encoded data removed]",
      "text/plain": [
       "<matplotlib.figure.Figure at 0x7fe7f2b32dd8>"
      ]
     },
     "metadata": {},
     "output_type": "display_data"
    }
   ],
   "source": [
    "test(parser.parse_args('--model_path ../model_weights/FCN_RGB_mask2_NYUDv2_best_model.pkl ' \\\n",
    "                       '--model_name FCN_RGB_mask2 ' \\\n",
    "                       '--dataset NYUDv2 ' \\\n",
    "                       '--color_path ../test_color.jpg'.split(' ')))"
   ]
  },
  {
   "cell_type": "code",
   "execution_count": 81,
   "metadata": {},
   "outputs": [
    {
     "name": "stdout",
     "output_type": "stream",
     "text": [
      "Read Input color image from : ../test_color.jpg\n",
      "Read Input depth image from : ../test_depth.png\n"
     ]
    },
    {
     "name": "stderr",
     "output_type": "stream",
     "text": [
      "/home/dongwonshin/.conda/envs/pytorch/lib/python3.6/site-packages/torch/nn/functional.py:1462: UserWarning: nn.functional.upsample_bilinear is deprecated. Use nn.functional.upsample instead.\n",
      "  warnings.warn(\"nn.functional.upsample_bilinear is deprecated. Use nn.functional.upsample instead.\")\n"
     ]
    },
    {
     "name": "stdout",
     "output_type": "stream",
     "text": [
      "Classes found:  [ 0  3  4  5  6  7  8  9 10 11 12 13]\n",
      "Segmentation Mask Saved at: None\n"
     ]
    },
    {
     "data": {
      "image/png": "[encoded data removed]",
      "text/plain": [
       "<matplotlib.figure.Figure at 0x7fe7f2a121d0>"
      ]
     },
     "metadata": {},
     "output_type": "display_data"
    }
   ],
   "source": [
    "test(parser.parse_args('--model_path ../model_weights/FCN_RGBD_NYUDv2_best_model.pkl ' \\\n",
    "                       '--model_name FCN_RGBD ' \\\n",
    "                       '--dataset NYUDv2 ' \\\n",
    "                       '--color_path ../test_color.jpg ' \\\n",
    "                       '--depth_path ../test_depth.png'.split(' ')))"
   ]
  },
  {
   "cell_type": "code",
   "execution_count": 82,
   "metadata": {},
   "outputs": [
    {
     "name": "stdout",
     "output_type": "stream",
     "text": [
      "Read Input color image from : ../test_color.jpg\n",
      "Read Input depth image from : ../test_depth.png\n"
     ]
    },
    {
     "name": "stderr",
     "output_type": "stream",
     "text": [
      "/home/dongwonshin/.conda/envs/pytorch/lib/python3.6/site-packages/torch/nn/functional.py:1462: UserWarning: nn.functional.upsample_bilinear is deprecated. Use nn.functional.upsample instead.\n",
      "  warnings.warn(\"nn.functional.upsample_bilinear is deprecated. Use nn.functional.upsample instead.\")\n"
     ]
    },
    {
     "name": "stdout",
     "output_type": "stream",
     "text": [
      "Classes found:  [ 0  1  3  4  5  6  7  8 12 13]\n",
      "Segmentation Mask Saved at: None\n"
     ]
    },
    {
     "data": {
      "image/png": "[encoded data removed]",
      "text/plain": [
       "<matplotlib.figure.Figure at 0x7fe7f349d550>"
      ]
     },
     "metadata": {},
     "output_type": "display_data"
    }
   ],
   "source": [
    "test(parser.parse_args('--model_path ../model_weights/FCN_RGBD_renet_NYUDv2_best_model.pkl ' \\\n",
    "                       '--model_name FCN_RGBD_renet ' \\\n",
    "                       '--dataset NYUDv2 ' \\\n",
    "                       '--color_path ../test_color.jpg ' \\\n",
    "                       '--depth_path ../test_depth.png'.split(' ')))"
   ]
  },
  {
   "cell_type": "code",
   "execution_count": 83,
   "metadata": {},
   "outputs": [
    {
     "name": "stdout",
     "output_type": "stream",
     "text": [
      "Read Input color image from : ../test_color.jpg\n",
      "Read Input depth image from : ../test_depth.png\n"
     ]
    },
    {
     "name": "stderr",
     "output_type": "stream",
     "text": [
      "/home/dongwonshin/.conda/envs/pytorch/lib/python3.6/site-packages/torch/nn/functional.py:1462: UserWarning: nn.functional.upsample_bilinear is deprecated. Use nn.functional.upsample instead.\n",
      "  warnings.warn(\"nn.functional.upsample_bilinear is deprecated. Use nn.functional.upsample instead.\")\n"
     ]
    },
    {
     "name": "stdout",
     "output_type": "stream",
     "text": [
      "Classes found:  [ 0  1  4  5  6  7  9 10 12 13]\n",
      "Segmentation Mask Saved at: None\n"
     ]
    },
    {
     "data": {
      "image/png": "[encoded data removed]",
      "text/plain": [
       "<matplotlib.figure.Figure at 0x7fe7f3474080>"
      ]
     },
     "metadata": {},
     "output_type": "display_data"
    }
   ],
   "source": [
    "test(parser.parse_args('--model_path ../model_weights/FCN_RGBD_mask2_NYUDv2_best_model.pkl ' \\\n",
    "                       '--model_name FCN_RGBD_mask2 ' \\\n",
    "                       '--dataset NYUDv2 ' \\\n",
    "                       '--color_path ../test_color.jpg ' \\\n",
    "                       '--depth_path ../test_depth.png'.split(' ')))"
   ]
  },
  {
   "cell_type": "code",
   "execution_count": 86,
   "metadata": {},
   "outputs": [
    {
     "name": "stdout",
     "output_type": "stream",
     "text": [
      "Read Input color image from : ../test_color.jpg\n"
     ]
    },
    {
     "ename": "NameError",
     "evalue": "name 'NYUDv2Loader_HHA' is not defined",
     "output_type": "error",
     "traceback": [
      "\u001b[0;31m---------------------------------------------------------------------------\u001b[0m",
      "\u001b[0;31mNameError\u001b[0m                                 Traceback (most recent call last)",
      "\u001b[0;32m<ipython-input-86-168463a8b234>\u001b[0m in \u001b[0;36m<module>\u001b[0;34m()\u001b[0m\n\u001b[0;32m----> 1\u001b[0;31m \u001b[0mtest\u001b[0m\u001b[0;34m(\u001b[0m\u001b[0mparser\u001b[0m\u001b[0;34m.\u001b[0m\u001b[0mparse_args\u001b[0m\u001b[0;34m(\u001b[0m\u001b[0;34m'--model_path ../model_weights/FCN_RGBHHA_NYUDv2_best_model.pkl '\u001b[0m                        \u001b[0;34m'--model_name FCN_RGBHHA '\u001b[0m                        \u001b[0;34m'--dataset NYUDv2_HHA '\u001b[0m                        \u001b[0;34m'--color_path ../test_color.jpg'\u001b[0m\u001b[0;34m.\u001b[0m\u001b[0msplit\u001b[0m\u001b[0;34m(\u001b[0m\u001b[0;34m' '\u001b[0m\u001b[0;34m)\u001b[0m\u001b[0;34m)\u001b[0m\u001b[0;34m)\u001b[0m\u001b[0;34m\u001b[0m\u001b[0m\n\u001b[0m",
      "\u001b[0;32m<ipython-input-80-2a90edb3dd27>\u001b[0m in \u001b[0;36mtest\u001b[0;34m(args)\u001b[0m\n\u001b[1;32m     15\u001b[0m     \u001b[0;32melif\u001b[0m \u001b[0;34m(\u001b[0m\u001b[0margs\u001b[0m\u001b[0;34m.\u001b[0m\u001b[0mdataset\u001b[0m \u001b[0;34m==\u001b[0m \u001b[0;34m'NYUDv2_HHA'\u001b[0m\u001b[0;34m)\u001b[0m\u001b[0;34m:\u001b[0m\u001b[0;34m\u001b[0m\u001b[0m\n\u001b[1;32m     16\u001b[0m         \u001b[0mdata_path\u001b[0m \u001b[0;34m=\u001b[0m \u001b[0;34m'/home/dongwonshin/Desktop/Datasets/NYUDv2/'\u001b[0m\u001b[0;34m\u001b[0m\u001b[0m\n\u001b[0;32m---> 17\u001b[0;31m         \u001b[0mloader\u001b[0m \u001b[0;34m=\u001b[0m \u001b[0mNYUDv2Loader_HHA\u001b[0m\u001b[0;34m(\u001b[0m\u001b[0mdata_path\u001b[0m\u001b[0;34m,\u001b[0m \u001b[0mis_transform\u001b[0m\u001b[0;34m=\u001b[0m\u001b[0;32mTrue\u001b[0m\u001b[0;34m,\u001b[0m \u001b[0msplit\u001b[0m\u001b[0;34m=\u001b[0m\u001b[0;34m'val'\u001b[0m\u001b[0;34m)\u001b[0m\u001b[0;34m\u001b[0m\u001b[0m\n\u001b[0m\u001b[1;32m     18\u001b[0m     \u001b[0;32melif\u001b[0m \u001b[0;34m(\u001b[0m\u001b[0margs\u001b[0m\u001b[0;34m.\u001b[0m\u001b[0mdataset\u001b[0m \u001b[0;34m==\u001b[0m \u001b[0;34m'SUNRGBD'\u001b[0m\u001b[0;34m)\u001b[0m\u001b[0;34m:\u001b[0m\u001b[0;34m\u001b[0m\u001b[0m\n\u001b[1;32m     19\u001b[0m         \u001b[0mdata_path\u001b[0m \u001b[0;34m=\u001b[0m \u001b[0;34m'/home/dongwonshin/Desktop/Datasets/SUNRGBD/SUNRGBD/'\u001b[0m\u001b[0;34m\u001b[0m\u001b[0m\n",
      "\u001b[0;31mNameError\u001b[0m: name 'NYUDv2Loader_HHA' is not defined"
     ]
    }
   ],
   "source": [
    "test(parser.parse_args('--model_path ../model_weights/FCN_RGBHHA_NYUDv2_best_model.pkl ' \\\n",
    "                       '--model_name FCN_RGBHHA ' \\\n",
    "                       '--dataset NYUDv2_HHA ' \\\n",
    "                       '--color_path ../test_color.jpg'.split(' ')))"
   ]
  },
  {
   "cell_type": "code",
   "execution_count": null,
   "metadata": {},
   "outputs": [],
   "source": [
    "test(parser.parse_args('--model_path ../model_weights/FCN_RGBHHA_renet_NYUDv2_best_model.pkl ' \\\n",
    "                       '--model_name FCN_RGBHHA_renet ' \\\n",
    "                       '--dataset NYUDv2_HHA ' \\\n",
    "                       '--color_path ../test_color.jpg'.split(' ')))"
   ]
  }
 ],
 "metadata": {
  "kernelspec": {
   "display_name": "Python [conda env:pytorch]",
   "language": "python",
   "name": "conda-env-pytorch-py"
  },
  "language_info": {
   "codemirror_mode": {
    "name": "ipython",
    "version": 3
   },
   "file_extension": ".py",
   "mimetype": "text/x-python",
   "name": "python",
   "nbconvert_exporter": "python",
   "pygments_lexer": "ipython3",
   "version": "3.6.3"
  }
 },
 "nbformat": 4,
 "nbformat_minor": 2
}
