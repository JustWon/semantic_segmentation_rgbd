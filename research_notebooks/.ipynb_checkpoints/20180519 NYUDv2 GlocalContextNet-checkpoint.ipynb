{
 "cells": [
  {
   "cell_type": "code",
   "execution_count": null,
   "metadata": {},
   "outputs": [
    {
     "name": "stdout",
     "output_type": "stream",
     "text": [
      "Epoch [1/50] Loss: 2.6835\n"
     ]
    },
    {
     "name": "stderr",
     "output_type": "stream",
     "text": [
      "131it [00:31,  4.20it/s]\n"
     ]
    },
    {
     "name": "stdout",
     "output_type": "stream",
     "text": [
      "Overall Acc: \t 0.093295176717\n",
      "Mean Acc : \t 0.0747280245485\n",
      "FreqW Acc : \t 0.0520091314171\n",
      "Mean IoU : \t 0.0301403740481\n",
      "Epoch [2/50] Loss: 2.6669\n"
     ]
    },
    {
     "name": "stderr",
     "output_type": "stream",
     "text": [
      "131it [00:30,  4.27it/s]\n"
     ]
    },
    {
     "name": "stdout",
     "output_type": "stream",
     "text": [
      "Overall Acc: \t 0.10484546222\n",
      "Mean Acc : \t 0.0788474364419\n",
      "FreqW Acc : \t 0.0593010707563\n",
      "Mean IoU : \t 0.0331100742089\n",
      "Epoch [3/50] Loss: 2.6306\n"
     ]
    },
    {
     "name": "stderr",
     "output_type": "stream",
     "text": [
      "131it [00:30,  4.34it/s]\n"
     ]
    },
    {
     "name": "stdout",
     "output_type": "stream",
     "text": [
      "Overall Acc: \t 0.119940346067\n",
      "Mean Acc : \t 0.08427314588\n",
      "FreqW Acc : \t 0.0685836789915\n",
      "Mean IoU : \t 0.0370544313516\n",
      "Epoch [4/50] Loss: 2.6313\n"
     ]
    },
    {
     "name": "stderr",
     "output_type": "stream",
     "text": [
      "131it [00:29,  4.40it/s]\n"
     ]
    },
    {
     "name": "stdout",
     "output_type": "stream",
     "text": [
      "Overall Acc: \t 0.134988810844\n",
      "Mean Acc : \t 0.0889324974711\n",
      "FreqW Acc : \t 0.0767556718842\n",
      "Mean IoU : \t 0.0403264789542\n",
      "Epoch [5/50] Loss: 2.6382\n"
     ]
    },
    {
     "name": "stderr",
     "output_type": "stream",
     "text": [
      "131it [00:30,  4.28it/s]\n"
     ]
    },
    {
     "name": "stdout",
     "output_type": "stream",
     "text": [
      "Overall Acc: \t 0.145429911482\n",
      "Mean Acc : \t 0.091168506172\n",
      "FreqW Acc : \t 0.0822919195357\n",
      "Mean IoU : \t 0.0424318411852\n",
      "Epoch [6/50] Loss: 2.5911\n"
     ]
    },
    {
     "name": "stderr",
     "output_type": "stream",
     "text": [
      "97it [00:22,  4.28it/s]"
     ]
    }
   ],
   "source": [
    "from utils import *\n",
    "\n",
    "arg_str = '--gpu_idx 0 ' \\\n",
    "          '--arch GlocalContextNet ' \\\n",
    "          '--dataset NYUDv2 ' \\\n",
    "          '--batch_size 5 ' \\\n",
    "          '--n_epoch 50 ' \\\n",
    "          '--visdom'\n",
    "\n",
    "trainer = trainer(arg_str)\n",
    "trainer.model_init()\n",
    "trainer.training()"
   ]
  },
  {
   "cell_type": "code",
   "execution_count": null,
   "metadata": {},
   "outputs": [],
   "source": []
  }
 ],
 "metadata": {
  "kernelspec": {
   "display_name": "Python [conda env:pytorch]",
   "language": "python",
   "name": "conda-env-pytorch-py"
  },
  "language_info": {
   "codemirror_mode": {
    "name": "ipython",
    "version": 3
   },
   "file_extension": ".py",
   "mimetype": "text/x-python",
   "name": "python",
   "nbconvert_exporter": "python",
   "pygments_lexer": "ipython3",
   "version": "3.6.3"
  }
 },
 "nbformat": 4,
 "nbformat_minor": 2
}
