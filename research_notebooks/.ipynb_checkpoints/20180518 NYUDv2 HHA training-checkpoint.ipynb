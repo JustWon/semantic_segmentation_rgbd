{
 "cells": [
  {
   "cell_type": "markdown",
   "metadata": {},
   "source": [
    "## 2018년 05월 18일 01시 32분 11초에 추가 ##\n",
    "- HHA 이미지로 학습시키기"
   ]
  },
  {
   "cell_type": "code",
   "execution_count": 1,
   "metadata": {},
   "outputs": [],
   "source": [
    "%matplotlib inline\n",
    "import os\n",
    "import collections\n",
    "import torch\n",
    "import torchvision\n",
    "import numpy as np\n",
    "import scipy.misc as m\n",
    "import scipy.io as io\n",
    "import matplotlib.pyplot as plt\n",
    "\n",
    "from NYUDv2Loader_HHA import *\n",
    "\n",
    "os.environ['CUDA_VISIBLE_DEVICES'] = '2'\n",
    "data_path = '/home/dongwonshin/Desktop/Datasets/NYUDv2/'\n",
    "arg_string = '--arch fcn_hha --batch_size 3'"
   ]
  },
  {
   "cell_type": "markdown",
   "metadata": {},
   "source": [
    "# Argument setting"
   ]
  },
  {
   "cell_type": "code",
   "execution_count": 2,
   "metadata": {},
   "outputs": [],
   "source": [
    "import sys, os\n",
    "import torch\n",
    "import visdom\n",
    "import argparse\n",
    "import numpy as np\n",
    "import torch.nn as nn\n",
    "import torch.nn.functional as F\n",
    "import torchvision.models as models\n",
    "\n",
    "from torch.autograd import Variable\n",
    "from torch.utils import data\n",
    "from tqdm import tqdm\n",
    "\n",
    "from ptsemseg.models import get_model\n",
    "from ptsemseg.loader import get_loader, get_data_path\n",
    "from ptsemseg.metrics import runningScore\n",
    "from ptsemseg.loss import *\n",
    "from ptsemseg.augmentations import *\n",
    "\n",
    "\n",
    "parser = argparse.ArgumentParser(description='Hyperparams')\n",
    "parser.add_argument('--arch', nargs='?', type=str, default='fcn8s', help='Architecture to use [\\'fcn8s, unet, segnet etc\\']')\n",
    "parser.add_argument('--img_rows', nargs='?', type=int, default=256, help='Height of the input image')\n",
    "parser.add_argument('--img_cols', nargs='?', type=int, default=256, help='Width of the input image')\n",
    "\n",
    "parser.add_argument('--img_norm', dest='img_norm', action='store_true', help='Enable input image scales normalization [0, 1] | True by default')\n",
    "parser.add_argument('--no-img_norm', dest='img_norm', action='store_false', help='Disable input image scales normalization [0, 1] | True by default')\n",
    "parser.set_defaults(img_norm=True)\n",
    "\n",
    "parser.add_argument('--n_epoch', nargs='?', type=int, default=100, help='# of the epochs')\n",
    "parser.add_argument('--batch_size', nargs='?', type=int, default=1, help='Batch Size')\n",
    "parser.add_argument('--l_rate', nargs='?', type=float, default=1e-5, help='Learning Rate')\n",
    "parser.add_argument('--feature_scale', nargs='?', type=int, default=1, help='Divider for # of features to use')\n",
    "parser.add_argument('--resume', nargs='?', type=str, default=None, help='Path to previous saved model to restart from')\n",
    "\n",
    "parser.add_argument('--visdom', dest='visdom', action='store_true', help='Enable visualization(s) on visdom | False by default')\n",
    "parser.add_argument('--no-visdom', dest='visdom', action='store_false', help='Disable visualization(s) on visdom | False by default')\n",
    "parser.set_defaults(visdom=False)"
   ]
  },
  {
   "cell_type": "code",
   "execution_count": 3,
   "metadata": {},
   "outputs": [],
   "source": [
    "args = parser.parse_args(arg_string.split(' '))\n",
    "\n",
    "# Setup Augmentations\n",
    "data_aug= Compose([RandomRotate(10), RandomHorizontallyFlip()])\n",
    "\n",
    "# Setup Dataloader\n",
    "t_loader = NYUDv2Loader_HHA(data_path, is_transform=True)\n",
    "v_loader = NYUDv2Loader_HHA(data_path, is_transform=True, split='val')\n",
    "\n",
    "n_classes = t_loader.n_classes\n",
    "trainloader = data.DataLoader(t_loader, batch_size=args.batch_size, num_workers=16, shuffle=True)\n",
    "valloader = data.DataLoader(v_loader, batch_size=args.batch_size, num_workers=16)\n",
    "\n",
    "# Setup Metrics\n",
    "running_metrics = runningScore(n_classes)\n",
    "\n",
    "# Setup visdom for visualization\n",
    "if args.visdom:\n",
    "    vis = visdom.Visdom()\n",
    "\n",
    "    loss_window = vis.line(X=torch.zeros((1,)).cpu(),\n",
    "                       Y=torch.zeros((1)).cpu(),\n",
    "                       opts=dict(xlabel='minibatches',\n",
    "                                 ylabel='Loss',\n",
    "                                 title='Training Loss',\n",
    "                                 legend=['Loss']))\n",
    "\n",
    "# Setup Model\n",
    "model = get_model(args.arch, n_classes)\n",
    "\n",
    "model = torch.nn.DataParallel(model, device_ids=range(torch.cuda.device_count()))\n",
    "model.cuda()\n",
    "\n",
    "# Check if model has custom optimizer / loss\n",
    "if hasattr(model.module, 'optimizer'):\n",
    "    optimizer = model.module.optimizer\n",
    "else:\n",
    "    optimizer = torch.optim.SGD(model.parameters(), lr=args.l_rate, momentum=0.99, weight_decay=5e-4)\n",
    "\n",
    "if hasattr(model.module, 'loss'):\n",
    "    print('Using custom loss')\n",
    "    loss_fn = model.module.loss\n",
    "else:\n",
    "    loss_fn = cross_entropy2d\n",
    "\n",
    "if args.resume is not None:                                         \n",
    "    if os.path.isfile(args.resume):\n",
    "        print(\"Loading model and optimizer from checkpoint '{}'\".format(args.resume))\n",
    "        checkpoint = torch.load(args.resume)\n",
    "        model.load_state_dict(checkpoint['model_state'])\n",
    "        optimizer.load_state_dict(checkpoint['optimizer_state'])\n",
    "        print(\"Loaded checkpoint '{}' (epoch {})\"                    \n",
    "              .format(args.resume, checkpoint['epoch']))\n",
    "    else:\n",
    "        print(\"No checkpoint found at '{}'\".format(args.resume)) \n"
   ]
  },
  {
   "cell_type": "markdown",
   "metadata": {},
   "source": [
    "# Training"
   ]
  },
  {
   "cell_type": "code",
   "execution_count": 4,
   "metadata": {},
   "outputs": [
    {
     "name": "stderr",
     "output_type": "stream",
     "text": [
      "/home/dongwonshin/.conda/envs/pytorch/lib/python3.6/site-packages/torch/nn/functional.py:1462: UserWarning: nn.functional.upsample_bilinear is deprecated. Use nn.functional.upsample instead.\n",
      "  warnings.warn(\"nn.functional.upsample_bilinear is deprecated. Use nn.functional.upsample instead.\")\n"
     ]
    },
    {
     "name": "stdout",
     "output_type": "stream",
     "text": [
      "Epoch [1/100] Loss: 2.9461\n",
      "Epoch [1/100] Loss: 2.5800\n",
      "Epoch [1/100] Loss: 2.2530\n",
      "Epoch [1/100] Loss: 2.1810\n",
      "Epoch [1/100] Loss: 1.9991\n",
      "Epoch [1/100] Loss: 2.5030\n",
      "Epoch [1/100] Loss: 2.1029\n",
      "Epoch [1/100] Loss: 2.2210\n",
      "Epoch [1/100] Loss: 1.8838\n",
      "Epoch [1/100] Loss: 2.0365\n",
      "Epoch [1/100] Loss: 1.6182\n",
      "Epoch [1/100] Loss: 1.9812\n",
      "Epoch [1/100] Loss: 1.8352\n"
     ]
    },
    {
     "name": "stderr",
     "output_type": "stream",
     "text": [
      "218it [00:48,  4.46it/s]\n"
     ]
    },
    {
     "name": "stdout",
     "output_type": "stream",
     "text": [
      "Overall Acc: \t 0.407752437922\n",
      "Mean Acc : \t 0.194640308927\n",
      "FreqW Acc : \t 0.235909692221\n",
      "Mean IoU : \t 0.120795013148\n",
      "Epoch [2/100] Loss: 1.4093\n",
      "Epoch [2/100] Loss: 1.7438\n",
      "Epoch [2/100] Loss: 1.8399\n",
      "Epoch [2/100] Loss: 1.5092\n",
      "Epoch [2/100] Loss: 1.8128\n",
      "Epoch [2/100] Loss: 1.4615\n",
      "Epoch [2/100] Loss: 1.7916\n",
      "Epoch [2/100] Loss: 1.8657\n",
      "Epoch [2/100] Loss: 1.5886\n",
      "Epoch [2/100] Loss: 1.5768\n",
      "Epoch [2/100] Loss: 1.5257\n",
      "Epoch [2/100] Loss: 1.6277\n",
      "Epoch [2/100] Loss: 1.5148\n"
     ]
    },
    {
     "name": "stderr",
     "output_type": "stream",
     "text": [
      "218it [00:48,  4.48it/s]\n"
     ]
    },
    {
     "name": "stdout",
     "output_type": "stream",
     "text": [
      "Overall Acc: \t 0.445994371576\n",
      "Mean Acc : \t 0.241930951601\n",
      "FreqW Acc : \t 0.275179095874\n",
      "Mean IoU : \t 0.154857857952\n",
      "Epoch [3/100] Loss: 1.6595\n",
      "Epoch [3/100] Loss: 1.3199\n",
      "Epoch [3/100] Loss: 1.5136\n",
      "Epoch [3/100] Loss: 1.5562\n",
      "Epoch [3/100] Loss: 1.6123\n",
      "Epoch [3/100] Loss: 1.1268\n",
      "Epoch [3/100] Loss: 1.3539\n",
      "Epoch [3/100] Loss: 1.6374\n",
      "Epoch [3/100] Loss: 1.5211\n",
      "Epoch [3/100] Loss: 1.3609\n",
      "Epoch [3/100] Loss: 1.4979\n",
      "Epoch [3/100] Loss: 1.9908\n",
      "Epoch [3/100] Loss: 1.3983\n"
     ]
    },
    {
     "name": "stderr",
     "output_type": "stream",
     "text": [
      "218it [00:49,  4.41it/s]\n"
     ]
    },
    {
     "name": "stdout",
     "output_type": "stream",
     "text": [
      "Overall Acc: \t 0.448359320249\n",
      "Mean Acc : \t 0.266112263458\n",
      "FreqW Acc : \t 0.277783730365\n",
      "Mean IoU : \t 0.175430195796\n",
      "Epoch [4/100] Loss: 1.3177\n",
      "Epoch [4/100] Loss: 1.4978\n",
      "Epoch [4/100] Loss: 1.1612\n",
      "Epoch [4/100] Loss: 1.1893\n",
      "Epoch [4/100] Loss: 1.4536\n",
      "Epoch [4/100] Loss: 1.4666\n",
      "Epoch [4/100] Loss: 1.3296\n",
      "Epoch [4/100] Loss: 1.3803\n",
      "Epoch [4/100] Loss: 1.4430\n",
      "Epoch [4/100] Loss: 1.2024\n",
      "Epoch [4/100] Loss: 1.3689\n",
      "Epoch [4/100] Loss: 1.5642\n",
      "Epoch [4/100] Loss: 1.3397\n"
     ]
    },
    {
     "name": "stderr",
     "output_type": "stream",
     "text": [
      "218it [00:48,  4.47it/s]\n"
     ]
    },
    {
     "name": "stdout",
     "output_type": "stream",
     "text": [
      "Overall Acc: \t 0.494403699589\n",
      "Mean Acc : \t 0.31654438322\n",
      "FreqW Acc : \t 0.328593671576\n",
      "Mean IoU : \t 0.222375900542\n",
      "Epoch [5/100] Loss: 1.4916\n",
      "Epoch [5/100] Loss: 1.3825\n",
      "Epoch [5/100] Loss: 1.5483\n",
      "Epoch [5/100] Loss: 1.2439\n",
      "Epoch [5/100] Loss: 1.3063\n",
      "Epoch [5/100] Loss: 1.1448\n",
      "Epoch [5/100] Loss: 1.1770\n",
      "Epoch [5/100] Loss: 1.2622\n",
      "Epoch [5/100] Loss: 1.3335\n",
      "Epoch [5/100] Loss: 1.1697\n",
      "Epoch [5/100] Loss: 1.4450\n",
      "Epoch [5/100] Loss: 1.2830\n",
      "Epoch [5/100] Loss: 1.6728\n"
     ]
    },
    {
     "name": "stderr",
     "output_type": "stream",
     "text": [
      "218it [00:48,  4.45it/s]"
     ]
    },
    {
     "name": "stdout",
     "output_type": "stream",
     "text": [
      "Overall Acc: \t 0.481488854644\n",
      "Mean Acc : \t 0.324204176189\n",
      "FreqW Acc : \t 0.319828085024\n",
      "Mean IoU : \t 0.217689961543\n"
     ]
    },
    {
     "name": "stderr",
     "output_type": "stream",
     "text": [
      "\n"
     ]
    },
    {
     "name": "stdout",
     "output_type": "stream",
     "text": [
      "Epoch [6/100] Loss: 1.1792\n",
      "Epoch [6/100] Loss: 1.5457\n",
      "Epoch [6/100] Loss: 1.1927\n",
      "Epoch [6/100] Loss: 1.0356\n",
      "Epoch [6/100] Loss: 1.1702\n",
      "Epoch [6/100] Loss: 1.1838\n",
      "Epoch [6/100] Loss: 1.0745\n",
      "Epoch [6/100] Loss: 1.3177\n",
      "Epoch [6/100] Loss: 1.2957\n",
      "Epoch [6/100] Loss: 0.8760\n",
      "Epoch [6/100] Loss: 1.0127\n",
      "Epoch [6/100] Loss: 0.9878\n",
      "Epoch [6/100] Loss: 0.8598\n"
     ]
    },
    {
     "name": "stderr",
     "output_type": "stream",
     "text": [
      "218it [00:48,  4.50it/s]\n"
     ]
    },
    {
     "name": "stdout",
     "output_type": "stream",
     "text": [
      "Overall Acc: \t 0.511412466751\n",
      "Mean Acc : \t 0.359708556115\n",
      "FreqW Acc : \t 0.352513692359\n",
      "Mean IoU : \t 0.250706641932\n",
      "Epoch [7/100] Loss: 0.8072\n",
      "Epoch [7/100] Loss: 1.1219\n",
      "Epoch [7/100] Loss: 1.0114\n",
      "Epoch [7/100] Loss: 1.2827\n",
      "Epoch [7/100] Loss: 1.1851\n",
      "Epoch [7/100] Loss: 1.1035\n",
      "Epoch [7/100] Loss: 1.2008\n",
      "Epoch [7/100] Loss: 1.1601\n",
      "Epoch [7/100] Loss: 1.0375\n",
      "Epoch [7/100] Loss: 1.3135\n",
      "Epoch [7/100] Loss: 1.2123\n",
      "Epoch [7/100] Loss: 1.1030\n",
      "Epoch [7/100] Loss: 1.2401\n"
     ]
    },
    {
     "name": "stderr",
     "output_type": "stream",
     "text": [
      "218it [00:48,  4.46it/s]\n"
     ]
    },
    {
     "name": "stdout",
     "output_type": "stream",
     "text": [
      "Overall Acc: \t 0.524976880057\n",
      "Mean Acc : \t 0.352351265598\n",
      "FreqW Acc : \t 0.360226225047\n",
      "Mean IoU : \t 0.254988308288\n",
      "Epoch [8/100] Loss: 0.9722\n",
      "Epoch [8/100] Loss: 0.7516\n",
      "Epoch [8/100] Loss: 0.9965\n",
      "Epoch [8/100] Loss: 1.0896\n",
      "Epoch [8/100] Loss: 0.9295\n",
      "Epoch [8/100] Loss: 1.0242\n",
      "Epoch [8/100] Loss: 0.7704\n",
      "Epoch [8/100] Loss: 1.0928\n",
      "Epoch [8/100] Loss: 1.5349\n",
      "Epoch [8/100] Loss: 1.0187\n",
      "Epoch [8/100] Loss: 1.1794\n",
      "Epoch [8/100] Loss: 1.2744\n",
      "Epoch [8/100] Loss: 0.9722\n"
     ]
    },
    {
     "name": "stderr",
     "output_type": "stream",
     "text": [
      "218it [00:49,  4.42it/s]\n"
     ]
    },
    {
     "name": "stdout",
     "output_type": "stream",
     "text": [
      "Overall Acc: \t 0.527644518309\n",
      "Mean Acc : \t 0.375671888699\n",
      "FreqW Acc : \t 0.366940267704\n",
      "Mean IoU : \t 0.27807895017\n",
      "Epoch [9/100] Loss: 1.0257\n",
      "Epoch [9/100] Loss: 0.9424\n",
      "Epoch [9/100] Loss: 1.0915\n",
      "Epoch [9/100] Loss: 1.0997\n",
      "Epoch [9/100] Loss: 0.9826\n",
      "Epoch [9/100] Loss: 1.2973\n",
      "Epoch [9/100] Loss: 0.9748\n",
      "Epoch [9/100] Loss: 0.9606\n",
      "Epoch [9/100] Loss: 0.9538\n",
      "Epoch [9/100] Loss: 0.8564\n",
      "Epoch [9/100] Loss: 1.0727\n",
      "Epoch [9/100] Loss: 1.0781\n",
      "Epoch [9/100] Loss: 0.9808\n"
     ]
    },
    {
     "name": "stderr",
     "output_type": "stream",
     "text": [
      "218it [00:49,  4.43it/s]\n"
     ]
    },
    {
     "name": "stdout",
     "output_type": "stream",
     "text": [
      "Overall Acc: \t 0.528100670553\n",
      "Mean Acc : \t 0.385159668037\n",
      "FreqW Acc : \t 0.369855231788\n",
      "Mean IoU : \t 0.282279567606\n",
      "Epoch [10/100] Loss: 1.0729\n",
      "Epoch [10/100] Loss: 1.0009\n",
      "Epoch [10/100] Loss: 0.7388\n",
      "Epoch [10/100] Loss: 0.7764\n",
      "Epoch [10/100] Loss: 0.8407\n",
      "Epoch [10/100] Loss: 1.0397\n",
      "Epoch [10/100] Loss: 0.9209\n",
      "Epoch [10/100] Loss: 0.8595\n",
      "Epoch [10/100] Loss: 1.1128\n",
      "Epoch [10/100] Loss: 0.9373\n",
      "Epoch [10/100] Loss: 1.0515\n",
      "Epoch [10/100] Loss: 1.0242\n",
      "Epoch [10/100] Loss: 0.9215\n"
     ]
    },
    {
     "name": "stderr",
     "output_type": "stream",
     "text": [
      "218it [00:49,  4.44it/s]\n"
     ]
    },
    {
     "name": "stdout",
     "output_type": "stream",
     "text": [
      "Overall Acc: \t 0.542689936927\n",
      "Mean Acc : \t 0.389060104153\n",
      "FreqW Acc : \t 0.378387187361\n",
      "Mean IoU : \t 0.284728782465\n",
      "Epoch [11/100] Loss: 0.8987\n",
      "Epoch [11/100] Loss: 0.8639\n",
      "Epoch [11/100] Loss: 0.8268\n",
      "Epoch [11/100] Loss: 1.0867\n",
      "Epoch [11/100] Loss: 1.3635\n",
      "Epoch [11/100] Loss: 0.9764\n",
      "Epoch [11/100] Loss: 0.8063\n",
      "Epoch [11/100] Loss: 0.8023\n",
      "Epoch [11/100] Loss: 0.9196\n",
      "Epoch [11/100] Loss: 0.9407\n",
      "Epoch [11/100] Loss: 1.0209\n",
      "Epoch [11/100] Loss: 0.9074\n",
      "Epoch [11/100] Loss: 0.6827\n"
     ]
    },
    {
     "name": "stderr",
     "output_type": "stream",
     "text": [
      "218it [00:48,  4.47it/s]\n"
     ]
    },
    {
     "name": "stdout",
     "output_type": "stream",
     "text": [
      "Overall Acc: \t 0.535072470693\n",
      "Mean Acc : \t 0.40246086735\n",
      "FreqW Acc : \t 0.377758519831\n",
      "Mean IoU : \t 0.296971831447\n",
      "Epoch [12/100] Loss: 0.9537\n",
      "Epoch [12/100] Loss: 0.7172\n",
      "Epoch [12/100] Loss: 1.0455\n",
      "Epoch [12/100] Loss: 0.9285\n",
      "Epoch [12/100] Loss: 0.9453\n",
      "Epoch [12/100] Loss: 0.8493\n",
      "Epoch [12/100] Loss: 0.9985\n",
      "Epoch [12/100] Loss: 0.8771\n",
      "Epoch [12/100] Loss: 1.0566\n",
      "Epoch [12/100] Loss: 0.8534\n",
      "Epoch [12/100] Loss: 0.8973\n",
      "Epoch [12/100] Loss: 1.0900\n",
      "Epoch [12/100] Loss: 1.0231\n"
     ]
    },
    {
     "name": "stderr",
     "output_type": "stream",
     "text": [
      "218it [00:48,  4.46it/s]\n"
     ]
    },
    {
     "name": "stdout",
     "output_type": "stream",
     "text": [
      "Overall Acc: \t 0.546618973385\n",
      "Mean Acc : \t 0.410216377513\n",
      "FreqW Acc : \t 0.380479432932\n",
      "Mean IoU : \t 0.299634045697\n",
      "Epoch [13/100] Loss: 0.6542\n",
      "Epoch [13/100] Loss: 0.6285\n",
      "Epoch [13/100] Loss: 0.9821\n",
      "Epoch [13/100] Loss: 0.8436\n",
      "Epoch [13/100] Loss: 0.8023\n",
      "Epoch [13/100] Loss: 0.8556\n",
      "Epoch [13/100] Loss: 0.9382\n",
      "Epoch [13/100] Loss: 0.9478\n",
      "Epoch [13/100] Loss: 1.1366\n",
      "Epoch [13/100] Loss: 0.8680\n",
      "Epoch [13/100] Loss: 0.7612\n",
      "Epoch [13/100] Loss: 0.8080\n",
      "Epoch [13/100] Loss: 0.9167\n"
     ]
    },
    {
     "name": "stderr",
     "output_type": "stream",
     "text": [
      "218it [00:49,  4.42it/s]\n"
     ]
    },
    {
     "name": "stdout",
     "output_type": "stream",
     "text": [
      "Overall Acc: \t 0.549366214919\n",
      "Mean Acc : \t 0.419834147976\n",
      "FreqW Acc : \t 0.390647258068\n",
      "Mean IoU : \t 0.309509569081\n",
      "Epoch [14/100] Loss: 0.9012\n",
      "Epoch [14/100] Loss: 0.8586\n",
      "Epoch [14/100] Loss: 0.6758\n",
      "Epoch [14/100] Loss: 0.9629\n",
      "Epoch [14/100] Loss: 0.7871\n",
      "Epoch [14/100] Loss: 0.7564\n",
      "Epoch [14/100] Loss: 0.6817\n",
      "Epoch [14/100] Loss: 0.6257\n",
      "Epoch [14/100] Loss: 0.5837\n",
      "Epoch [14/100] Loss: 0.9305\n",
      "Epoch [14/100] Loss: 1.0386\n",
      "Epoch [14/100] Loss: 0.8101\n",
      "Epoch [14/100] Loss: 0.7857\n"
     ]
    },
    {
     "name": "stderr",
     "output_type": "stream",
     "text": [
      "218it [00:48,  4.46it/s]"
     ]
    },
    {
     "name": "stdout",
     "output_type": "stream",
     "text": [
      "Overall Acc: \t 0.54172500657\n",
      "Mean Acc : \t 0.406156788679\n",
      "FreqW Acc : \t 0.385324138608\n",
      "Mean IoU : \t 0.301280567658\n"
     ]
    },
    {
     "name": "stderr",
     "output_type": "stream",
     "text": [
      "\n"
     ]
    },
    {
     "name": "stdout",
     "output_type": "stream",
     "text": [
      "Epoch [15/100] Loss: 0.7489\n",
      "Epoch [15/100] Loss: 0.9959\n",
      "Epoch [15/100] Loss: 1.2221\n",
      "Epoch [15/100] Loss: 0.7928\n",
      "Epoch [15/100] Loss: 0.6742\n",
      "Epoch [15/100] Loss: 0.6700\n",
      "Epoch [15/100] Loss: 1.0417\n",
      "Epoch [15/100] Loss: 0.8885\n",
      "Epoch [15/100] Loss: 0.7251\n",
      "Epoch [15/100] Loss: 0.7202\n",
      "Epoch [15/100] Loss: 0.7979\n",
      "Epoch [15/100] Loss: 0.8369\n",
      "Epoch [15/100] Loss: 0.7029\n"
     ]
    },
    {
     "name": "stderr",
     "output_type": "stream",
     "text": [
      "218it [00:49,  4.41it/s]"
     ]
    },
    {
     "name": "stdout",
     "output_type": "stream",
     "text": [
      "Overall Acc: \t 0.544973828921\n",
      "Mean Acc : \t 0.401001251101\n",
      "FreqW Acc : \t 0.376769837062\n",
      "Mean IoU : \t 0.295206041128\n"
     ]
    },
    {
     "name": "stderr",
     "output_type": "stream",
     "text": [
      "\n"
     ]
    },
    {
     "name": "stdout",
     "output_type": "stream",
     "text": [
      "Epoch [16/100] Loss: 0.7665\n",
      "Epoch [16/100] Loss: 0.7035\n",
      "Epoch [16/100] Loss: 0.4335\n",
      "Epoch [16/100] Loss: 1.0211\n",
      "Epoch [16/100] Loss: 0.8560\n",
      "Epoch [16/100] Loss: 0.6665\n",
      "Epoch [16/100] Loss: 0.7994\n",
      "Epoch [16/100] Loss: 0.6673\n",
      "Epoch [16/100] Loss: 0.6580\n",
      "Epoch [16/100] Loss: 0.7551\n",
      "Epoch [16/100] Loss: 0.7179\n",
      "Epoch [16/100] Loss: 0.7802\n",
      "Epoch [16/100] Loss: 0.8761\n"
     ]
    },
    {
     "name": "stderr",
     "output_type": "stream",
     "text": [
      "218it [00:49,  4.40it/s]"
     ]
    },
    {
     "name": "stdout",
     "output_type": "stream",
     "text": [
      "Overall Acc: \t 0.540910263761\n",
      "Mean Acc : \t 0.377736458884\n",
      "FreqW Acc : \t 0.374185032611\n",
      "Mean IoU : \t 0.284400004727\n"
     ]
    },
    {
     "name": "stderr",
     "output_type": "stream",
     "text": [
      "\n"
     ]
    },
    {
     "name": "stdout",
     "output_type": "stream",
     "text": [
      "Epoch [17/100] Loss: 0.8808\n",
      "Epoch [17/100] Loss: 0.8349\n",
      "Epoch [17/100] Loss: 0.8238\n",
      "Epoch [17/100] Loss: 0.5202\n",
      "Epoch [17/100] Loss: 0.5964\n",
      "Epoch [17/100] Loss: 0.7151\n",
      "Epoch [17/100] Loss: 0.7213\n",
      "Epoch [17/100] Loss: 0.5854\n",
      "Epoch [17/100] Loss: 0.7876\n",
      "Epoch [17/100] Loss: 0.8217\n",
      "Epoch [17/100] Loss: 0.6792\n",
      "Epoch [17/100] Loss: 0.7657\n",
      "Epoch [17/100] Loss: 0.7473\n"
     ]
    },
    {
     "name": "stderr",
     "output_type": "stream",
     "text": [
      "218it [00:49,  4.45it/s]"
     ]
    },
    {
     "name": "stdout",
     "output_type": "stream",
     "text": [
      "Overall Acc: \t 0.540206740571\n",
      "Mean Acc : \t 0.398980447716\n",
      "FreqW Acc : \t 0.383376914629\n",
      "Mean IoU : \t 0.29793589286\n"
     ]
    },
    {
     "name": "stderr",
     "output_type": "stream",
     "text": [
      "\n"
     ]
    },
    {
     "name": "stdout",
     "output_type": "stream",
     "text": [
      "Epoch [18/100] Loss: 0.8087\n",
      "Epoch [18/100] Loss: 0.7749\n",
      "Epoch [18/100] Loss: 0.7547\n",
      "Epoch [18/100] Loss: 0.9592\n",
      "Epoch [18/100] Loss: 0.6237\n",
      "Epoch [18/100] Loss: 0.9573\n",
      "Epoch [18/100] Loss: 0.6505\n",
      "Epoch [18/100] Loss: 0.7288\n",
      "Epoch [18/100] Loss: 0.6307\n",
      "Epoch [18/100] Loss: 0.5760\n",
      "Epoch [18/100] Loss: 0.7138\n",
      "Epoch [18/100] Loss: 0.6807\n",
      "Epoch [18/100] Loss: 0.7432\n"
     ]
    },
    {
     "name": "stderr",
     "output_type": "stream",
     "text": [
      "218it [00:49,  4.43it/s]\n"
     ]
    },
    {
     "name": "stdout",
     "output_type": "stream",
     "text": [
      "Overall Acc: \t 0.555015011786\n",
      "Mean Acc : \t 0.425036260435\n",
      "FreqW Acc : \t 0.395979436693\n",
      "Mean IoU : \t 0.312319415337\n",
      "Epoch [19/100] Loss: 0.9891\n",
      "Epoch [19/100] Loss: 0.5706\n",
      "Epoch [19/100] Loss: 0.9677\n",
      "Epoch [19/100] Loss: 0.6962\n",
      "Epoch [19/100] Loss: 0.8078\n",
      "Epoch [19/100] Loss: 0.7160\n",
      "Epoch [19/100] Loss: 0.5669\n",
      "Epoch [19/100] Loss: 0.6919\n",
      "Epoch [19/100] Loss: 0.8266\n",
      "Epoch [19/100] Loss: 0.7736\n",
      "Epoch [19/100] Loss: 0.7784\n",
      "Epoch [19/100] Loss: 0.7151\n",
      "Epoch [19/100] Loss: 0.6359\n"
     ]
    },
    {
     "name": "stderr",
     "output_type": "stream",
     "text": [
      "218it [00:48,  4.46it/s]"
     ]
    },
    {
     "name": "stdout",
     "output_type": "stream",
     "text": [
      "Overall Acc: \t 0.547740805779\n",
      "Mean Acc : \t 0.413085819867\n",
      "FreqW Acc : \t 0.385022153964\n",
      "Mean IoU : \t 0.306736367039\n"
     ]
    },
    {
     "name": "stderr",
     "output_type": "stream",
     "text": [
      "\n"
     ]
    },
    {
     "name": "stdout",
     "output_type": "stream",
     "text": [
      "Epoch [20/100] Loss: 0.8487\n",
      "Epoch [20/100] Loss: 0.6950\n",
      "Epoch [20/100] Loss: 0.9693\n",
      "Epoch [20/100] Loss: 0.8148\n",
      "Epoch [20/100] Loss: 0.7747\n",
      "Epoch [20/100] Loss: 0.5420\n",
      "Epoch [20/100] Loss: 0.7003\n",
      "Epoch [20/100] Loss: 0.6220\n",
      "Epoch [20/100] Loss: 0.6993\n",
      "Epoch [20/100] Loss: 0.8215\n",
      "Epoch [20/100] Loss: 0.6987\n",
      "Epoch [20/100] Loss: 0.6624\n",
      "Epoch [20/100] Loss: 0.5320\n"
     ]
    },
    {
     "name": "stderr",
     "output_type": "stream",
     "text": [
      "218it [00:49,  4.42it/s]"
     ]
    },
    {
     "name": "stdout",
     "output_type": "stream",
     "text": [
      "Overall Acc: \t 0.549144004643\n",
      "Mean Acc : \t 0.398365995482\n",
      "FreqW Acc : \t 0.386670678775\n",
      "Mean IoU : \t 0.299603122869\n"
     ]
    },
    {
     "name": "stderr",
     "output_type": "stream",
     "text": [
      "\n"
     ]
    },
    {
     "name": "stdout",
     "output_type": "stream",
     "text": [
      "Epoch [21/100] Loss: 0.5693\n",
      "Epoch [21/100] Loss: 0.8111\n",
      "Epoch [21/100] Loss: 0.6924\n",
      "Epoch [21/100] Loss: 0.6248\n",
      "Epoch [21/100] Loss: 0.6417\n",
      "Epoch [21/100] Loss: 0.6661\n",
      "Epoch [21/100] Loss: 0.6027\n",
      "Epoch [21/100] Loss: 0.5540\n",
      "Epoch [21/100] Loss: 0.6213\n",
      "Epoch [21/100] Loss: 0.8575\n",
      "Epoch [21/100] Loss: 0.6651\n",
      "Epoch [21/100] Loss: 0.6780\n",
      "Epoch [21/100] Loss: 0.7474\n"
     ]
    },
    {
     "name": "stderr",
     "output_type": "stream",
     "text": [
      "218it [00:49,  4.44it/s]"
     ]
    },
    {
     "name": "stdout",
     "output_type": "stream",
     "text": [
      "Overall Acc: \t 0.556032010544\n",
      "Mean Acc : \t 0.41134799067\n",
      "FreqW Acc : \t 0.39167385118\n",
      "Mean IoU : \t 0.306445324528\n"
     ]
    },
    {
     "name": "stderr",
     "output_type": "stream",
     "text": [
      "\n"
     ]
    },
    {
     "name": "stdout",
     "output_type": "stream",
     "text": [
      "Epoch [22/100] Loss: 0.5904\n",
      "Epoch [22/100] Loss: 0.6347\n",
      "Epoch [22/100] Loss: 0.5512\n",
      "Epoch [22/100] Loss: 0.7295\n",
      "Epoch [22/100] Loss: 0.6786\n",
      "Epoch [22/100] Loss: 0.8058\n",
      "Epoch [22/100] Loss: 0.6189\n",
      "Epoch [22/100] Loss: 0.5009\n",
      "Epoch [22/100] Loss: 0.8554\n",
      "Epoch [22/100] Loss: 0.6351\n",
      "Epoch [22/100] Loss: 0.8462\n",
      "Epoch [22/100] Loss: 0.6510\n",
      "Epoch [22/100] Loss: 0.7615\n"
     ]
    },
    {
     "name": "stderr",
     "output_type": "stream",
     "text": [
      "218it [00:49,  4.42it/s]"
     ]
    },
    {
     "name": "stdout",
     "output_type": "stream",
     "text": [
      "Overall Acc: \t 0.555374572941\n",
      "Mean Acc : \t 0.414500915474\n",
      "FreqW Acc : \t 0.390448870272\n",
      "Mean IoU : \t 0.308381622939\n"
     ]
    },
    {
     "name": "stderr",
     "output_type": "stream",
     "text": [
      "\n"
     ]
    },
    {
     "name": "stdout",
     "output_type": "stream",
     "text": [
      "Epoch [23/100] Loss: 0.7457\n",
      "Epoch [23/100] Loss: 0.6222\n",
      "Epoch [23/100] Loss: 0.6248\n",
      "Epoch [23/100] Loss: 0.7038\n",
      "Epoch [23/100] Loss: 0.7528\n",
      "Epoch [23/100] Loss: 0.5460\n",
      "Epoch [23/100] Loss: 0.5373\n",
      "Epoch [23/100] Loss: 0.6736\n",
      "Epoch [23/100] Loss: 0.5827\n",
      "Epoch [23/100] Loss: 0.6173\n",
      "Epoch [23/100] Loss: 0.6856\n",
      "Epoch [23/100] Loss: 0.6664\n",
      "Epoch [23/100] Loss: 0.5400\n"
     ]
    },
    {
     "name": "stderr",
     "output_type": "stream",
     "text": [
      "218it [00:49,  4.45it/s]"
     ]
    },
    {
     "name": "stdout",
     "output_type": "stream",
     "text": [
      "Overall Acc: \t 0.55054166368\n",
      "Mean Acc : \t 0.410961187922\n",
      "FreqW Acc : \t 0.384901971193\n",
      "Mean IoU : \t 0.303538640102\n"
     ]
    },
    {
     "name": "stderr",
     "output_type": "stream",
     "text": [
      "\n"
     ]
    },
    {
     "name": "stdout",
     "output_type": "stream",
     "text": [
      "Epoch [24/100] Loss: 0.7898\n",
      "Epoch [24/100] Loss: 0.8462\n",
      "Epoch [24/100] Loss: 0.8673\n",
      "Epoch [24/100] Loss: 0.6068\n",
      "Epoch [24/100] Loss: 0.4647\n",
      "Epoch [24/100] Loss: 0.5640\n",
      "Epoch [24/100] Loss: 0.6581\n",
      "Epoch [24/100] Loss: 0.7267\n",
      "Epoch [24/100] Loss: 0.5131\n",
      "Epoch [24/100] Loss: 0.6074\n",
      "Epoch [24/100] Loss: 0.5952\n",
      "Epoch [24/100] Loss: 0.6308\n",
      "Epoch [24/100] Loss: 0.5233\n"
     ]
    },
    {
     "name": "stderr",
     "output_type": "stream",
     "text": [
      "218it [00:49,  4.43it/s]\n"
     ]
    },
    {
     "name": "stdout",
     "output_type": "stream",
     "text": [
      "Overall Acc: \t 0.554194261277\n",
      "Mean Acc : \t 0.430137420393\n",
      "FreqW Acc : \t 0.395898054257\n",
      "Mean IoU : \t 0.317401569238\n",
      "Epoch [25/100] Loss: 0.6962\n",
      "Epoch [25/100] Loss: 0.6404\n",
      "Epoch [25/100] Loss: 0.5209\n",
      "Epoch [25/100] Loss: 0.3337\n",
      "Epoch [25/100] Loss: 0.7380\n",
      "Epoch [25/100] Loss: 0.4211\n",
      "Epoch [25/100] Loss: 0.7105\n",
      "Epoch [25/100] Loss: 0.7432\n",
      "Epoch [25/100] Loss: 0.9012\n",
      "Epoch [25/100] Loss: 0.3996\n",
      "Epoch [25/100] Loss: 0.6893\n",
      "Epoch [25/100] Loss: 0.5798\n",
      "Epoch [25/100] Loss: 0.6555\n"
     ]
    },
    {
     "name": "stderr",
     "output_type": "stream",
     "text": [
      "218it [00:48,  4.45it/s]"
     ]
    },
    {
     "name": "stdout",
     "output_type": "stream",
     "text": [
      "Overall Acc: \t 0.553533274799\n",
      "Mean Acc : \t 0.39485061525\n",
      "FreqW Acc : \t 0.389630704162\n",
      "Mean IoU : \t 0.298732004462\n"
     ]
    },
    {
     "name": "stderr",
     "output_type": "stream",
     "text": [
      "\n"
     ]
    },
    {
     "name": "stdout",
     "output_type": "stream",
     "text": [
      "Epoch [26/100] Loss: 0.6575\n",
      "Epoch [26/100] Loss: 0.7944\n",
      "Epoch [26/100] Loss: 0.5951\n",
      "Epoch [26/100] Loss: 0.5717\n",
      "Epoch [26/100] Loss: 0.6047\n",
      "Epoch [26/100] Loss: 0.6348\n",
      "Epoch [26/100] Loss: 0.7146\n",
      "Epoch [26/100] Loss: 0.7839\n",
      "Epoch [26/100] Loss: 0.7109\n",
      "Epoch [26/100] Loss: 0.4233\n",
      "Epoch [26/100] Loss: 0.5683\n",
      "Epoch [26/100] Loss: 0.5176\n",
      "Epoch [26/100] Loss: 0.7199\n"
     ]
    },
    {
     "name": "stderr",
     "output_type": "stream",
     "text": [
      "218it [00:49,  4.43it/s]"
     ]
    },
    {
     "name": "stdout",
     "output_type": "stream",
     "text": [
      "Overall Acc: \t 0.547096354167\n",
      "Mean Acc : \t 0.411117340748\n",
      "FreqW Acc : \t 0.388460190381\n",
      "Mean IoU : \t 0.310204367259\n"
     ]
    },
    {
     "name": "stderr",
     "output_type": "stream",
     "text": [
      "\n"
     ]
    },
    {
     "name": "stdout",
     "output_type": "stream",
     "text": [
      "Epoch [27/100] Loss: 0.6602\n",
      "Epoch [27/100] Loss: 0.5806\n",
      "Epoch [27/100] Loss: 0.4841\n",
      "Epoch [27/100] Loss: 0.8148\n",
      "Epoch [27/100] Loss: 0.5222\n",
      "Epoch [27/100] Loss: 0.5929\n",
      "Epoch [27/100] Loss: 0.5793\n",
      "Epoch [27/100] Loss: 0.6611\n",
      "Epoch [27/100] Loss: 0.5731\n",
      "Epoch [27/100] Loss: 0.7084\n",
      "Epoch [27/100] Loss: 0.6407\n",
      "Epoch [27/100] Loss: 0.7350\n",
      "Epoch [27/100] Loss: 0.5439\n"
     ]
    },
    {
     "name": "stderr",
     "output_type": "stream",
     "text": [
      "218it [00:49,  4.41it/s]"
     ]
    },
    {
     "name": "stdout",
     "output_type": "stream",
     "text": [
      "Overall Acc: \t 0.560576813957\n",
      "Mean Acc : \t 0.413667521044\n",
      "FreqW Acc : \t 0.391809812042\n",
      "Mean IoU : \t 0.308897154483\n"
     ]
    },
    {
     "name": "stderr",
     "output_type": "stream",
     "text": [
      "\n"
     ]
    },
    {
     "name": "stdout",
     "output_type": "stream",
     "text": [
      "Epoch [28/100] Loss: 0.6323\n",
      "Epoch [28/100] Loss: 0.4991\n",
      "Epoch [28/100] Loss: 0.5475\n",
      "Epoch [28/100] Loss: 0.6754\n",
      "Epoch [28/100] Loss: 0.6317\n",
      "Epoch [28/100] Loss: 0.6168\n",
      "Epoch [28/100] Loss: 0.5906\n",
      "Epoch [28/100] Loss: 0.5950\n",
      "Epoch [28/100] Loss: 0.7192\n",
      "Epoch [28/100] Loss: 0.4796\n",
      "Epoch [28/100] Loss: 0.5881\n",
      "Epoch [28/100] Loss: 0.5874\n",
      "Epoch [28/100] Loss: 0.5012\n"
     ]
    },
    {
     "name": "stderr",
     "output_type": "stream",
     "text": [
      "218it [00:49,  4.43it/s]"
     ]
    },
    {
     "name": "stdout",
     "output_type": "stream",
     "text": [
      "Overall Acc: \t 0.565221667742\n",
      "Mean Acc : \t 0.428273672922\n",
      "FreqW Acc : \t 0.397247905961\n",
      "Mean IoU : \t 0.315319705527\n"
     ]
    },
    {
     "name": "stderr",
     "output_type": "stream",
     "text": [
      "\n"
     ]
    },
    {
     "name": "stdout",
     "output_type": "stream",
     "text": [
      "Epoch [29/100] Loss: 0.4766\n",
      "Epoch [29/100] Loss: 0.7116\n",
      "Epoch [29/100] Loss: 0.4786\n",
      "Epoch [29/100] Loss: 0.5006\n",
      "Epoch [29/100] Loss: 0.5773\n",
      "Epoch [29/100] Loss: 0.4452\n",
      "Epoch [29/100] Loss: 0.6430\n",
      "Epoch [29/100] Loss: 0.6008\n",
      "Epoch [29/100] Loss: 0.5859\n",
      "Epoch [29/100] Loss: 0.8233\n",
      "Epoch [29/100] Loss: 0.6408\n",
      "Epoch [29/100] Loss: 0.7204\n",
      "Epoch [29/100] Loss: 0.4151\n"
     ]
    },
    {
     "name": "stderr",
     "output_type": "stream",
     "text": [
      "218it [00:49,  4.42it/s]"
     ]
    },
    {
     "name": "stdout",
     "output_type": "stream",
     "text": [
      "Overall Acc: \t 0.558512728163\n",
      "Mean Acc : \t 0.417333870623\n",
      "FreqW Acc : \t 0.387656400921\n",
      "Mean IoU : \t 0.30653806263\n"
     ]
    },
    {
     "name": "stderr",
     "output_type": "stream",
     "text": [
      "\n"
     ]
    },
    {
     "name": "stdout",
     "output_type": "stream",
     "text": [
      "Epoch [30/100] Loss: 0.5118\n",
      "Epoch [30/100] Loss: 0.5195\n",
      "Epoch [30/100] Loss: 0.5680\n",
      "Epoch [30/100] Loss: 0.6519\n",
      "Epoch [30/100] Loss: 0.7080\n",
      "Epoch [30/100] Loss: 0.5982\n",
      "Epoch [30/100] Loss: 0.6353\n",
      "Epoch [30/100] Loss: 0.7408\n",
      "Epoch [30/100] Loss: 0.4482\n",
      "Epoch [30/100] Loss: 0.7347\n",
      "Epoch [30/100] Loss: 0.6242\n",
      "Epoch [30/100] Loss: 0.5526\n",
      "Epoch [30/100] Loss: 0.5358\n"
     ]
    },
    {
     "name": "stderr",
     "output_type": "stream",
     "text": [
      "218it [00:49,  4.40it/s]"
     ]
    },
    {
     "name": "stdout",
     "output_type": "stream",
     "text": [
      "Overall Acc: \t 0.554736074278\n",
      "Mean Acc : \t 0.425344627254\n",
      "FreqW Acc : \t 0.389036563756\n",
      "Mean IoU : \t 0.307809737197\n"
     ]
    },
    {
     "name": "stderr",
     "output_type": "stream",
     "text": [
      "\n"
     ]
    },
    {
     "name": "stdout",
     "output_type": "stream",
     "text": [
      "Epoch [31/100] Loss: 0.6034\n",
      "Epoch [31/100] Loss: 0.5266\n",
      "Epoch [31/100] Loss: 0.5179\n",
      "Epoch [31/100] Loss: 0.6916\n",
      "Epoch [31/100] Loss: 0.4518\n",
      "Epoch [31/100] Loss: 0.6380\n",
      "Epoch [31/100] Loss: 0.6048\n",
      "Epoch [31/100] Loss: 0.4105\n",
      "Epoch [31/100] Loss: 0.6599\n",
      "Epoch [31/100] Loss: 0.5025\n",
      "Epoch [31/100] Loss: 0.5444\n",
      "Epoch [31/100] Loss: 0.6434\n",
      "Epoch [31/100] Loss: 0.6100\n"
     ]
    },
    {
     "name": "stderr",
     "output_type": "stream",
     "text": [
      "218it [00:49,  4.44it/s]"
     ]
    },
    {
     "name": "stdout",
     "output_type": "stream",
     "text": [
      "Overall Acc: \t 0.556548329391\n",
      "Mean Acc : \t 0.417105207177\n",
      "FreqW Acc : \t 0.391206220918\n",
      "Mean IoU : \t 0.303237841173\n"
     ]
    },
    {
     "name": "stderr",
     "output_type": "stream",
     "text": [
      "\n"
     ]
    },
    {
     "name": "stdout",
     "output_type": "stream",
     "text": [
      "Epoch [32/100] Loss: 0.6205\n",
      "Epoch [32/100] Loss: 0.6311\n",
      "Epoch [32/100] Loss: 0.5205\n",
      "Epoch [32/100] Loss: 0.4775\n",
      "Epoch [32/100] Loss: 0.4443\n",
      "Epoch [32/100] Loss: 0.5468\n",
      "Epoch [32/100] Loss: 0.4357\n",
      "Epoch [32/100] Loss: 0.4575\n",
      "Epoch [32/100] Loss: 0.5630\n",
      "Epoch [32/100] Loss: 0.5726\n",
      "Epoch [32/100] Loss: 0.5055\n",
      "Epoch [32/100] Loss: 0.7247\n",
      "Epoch [32/100] Loss: 0.6930\n"
     ]
    },
    {
     "name": "stderr",
     "output_type": "stream",
     "text": [
      "218it [00:49,  4.42it/s]"
     ]
    },
    {
     "name": "stdout",
     "output_type": "stream",
     "text": [
      "Overall Acc: \t 0.568870865786\n",
      "Mean Acc : \t 0.426379417144\n",
      "FreqW Acc : \t 0.399128996347\n",
      "Mean IoU : \t 0.314364688428\n"
     ]
    },
    {
     "name": "stderr",
     "output_type": "stream",
     "text": [
      "\n"
     ]
    },
    {
     "name": "stdout",
     "output_type": "stream",
     "text": [
      "Epoch [33/100] Loss: 0.4705\n",
      "Epoch [33/100] Loss: 0.5064\n",
      "Epoch [33/100] Loss: 0.5573\n",
      "Epoch [33/100] Loss: 0.4893\n",
      "Epoch [33/100] Loss: 0.5571\n",
      "Epoch [33/100] Loss: 0.5177\n",
      "Epoch [33/100] Loss: 0.5395\n",
      "Epoch [33/100] Loss: 0.5159\n",
      "Epoch [33/100] Loss: 0.5286\n",
      "Epoch [33/100] Loss: 0.7159\n",
      "Epoch [33/100] Loss: 0.5771\n",
      "Epoch [33/100] Loss: 0.5679\n",
      "Epoch [33/100] Loss: 0.5625\n"
     ]
    },
    {
     "name": "stderr",
     "output_type": "stream",
     "text": [
      "218it [00:49,  4.42it/s]"
     ]
    },
    {
     "name": "stdout",
     "output_type": "stream",
     "text": [
      "Overall Acc: \t 0.553379483626\n",
      "Mean Acc : \t 0.411044112216\n",
      "FreqW Acc : \t 0.38896371002\n",
      "Mean IoU : \t 0.302355183759\n"
     ]
    },
    {
     "name": "stderr",
     "output_type": "stream",
     "text": [
      "\n"
     ]
    },
    {
     "name": "stdout",
     "output_type": "stream",
     "text": [
      "Epoch [34/100] Loss: 0.4264\n",
      "Epoch [34/100] Loss: 0.5720\n",
      "Epoch [34/100] Loss: 0.5461\n",
      "Epoch [34/100] Loss: 0.5678\n",
      "Epoch [34/100] Loss: 0.5123\n",
      "Epoch [34/100] Loss: 0.4792\n",
      "Epoch [34/100] Loss: 0.4658\n",
      "Epoch [34/100] Loss: 0.7040\n",
      "Epoch [34/100] Loss: 0.4356\n",
      "Epoch [34/100] Loss: 0.4849\n",
      "Epoch [34/100] Loss: 0.6040\n",
      "Epoch [34/100] Loss: 0.4296\n",
      "Epoch [34/100] Loss: 0.5192\n"
     ]
    },
    {
     "name": "stderr",
     "output_type": "stream",
     "text": [
      "218it [00:49,  4.42it/s]"
     ]
    },
    {
     "name": "stdout",
     "output_type": "stream",
     "text": [
      "Overall Acc: \t 0.55500743621\n",
      "Mean Acc : \t 0.416957665561\n",
      "FreqW Acc : \t 0.387933027171\n",
      "Mean IoU : \t 0.308428673548\n"
     ]
    },
    {
     "name": "stderr",
     "output_type": "stream",
     "text": [
      "\n"
     ]
    },
    {
     "name": "stdout",
     "output_type": "stream",
     "text": [
      "Epoch [35/100] Loss: 0.5420\n",
      "Epoch [35/100] Loss: 0.5883\n",
      "Epoch [35/100] Loss: 0.7566\n",
      "Epoch [35/100] Loss: 0.5889\n",
      "Epoch [35/100] Loss: 0.4921\n",
      "Epoch [35/100] Loss: 0.5464\n",
      "Epoch [35/100] Loss: 0.5531\n",
      "Epoch [35/100] Loss: 0.5320\n",
      "Epoch [35/100] Loss: 0.4564\n",
      "Epoch [35/100] Loss: 0.6422\n",
      "Epoch [35/100] Loss: 0.5657\n",
      "Epoch [35/100] Loss: 0.4728\n",
      "Epoch [35/100] Loss: 0.5752\n"
     ]
    },
    {
     "name": "stderr",
     "output_type": "stream",
     "text": [
      "218it [00:49,  4.43it/s]"
     ]
    },
    {
     "name": "stdout",
     "output_type": "stream",
     "text": [
      "Overall Acc: \t 0.561544835269\n",
      "Mean Acc : \t 0.415818930345\n",
      "FreqW Acc : \t 0.393261350555\n",
      "Mean IoU : \t 0.304546141549\n"
     ]
    },
    {
     "name": "stderr",
     "output_type": "stream",
     "text": [
      "\n"
     ]
    },
    {
     "name": "stdout",
     "output_type": "stream",
     "text": [
      "Epoch [36/100] Loss: 0.5901\n",
      "Epoch [36/100] Loss: 0.4931\n",
      "Epoch [36/100] Loss: 0.4092\n",
      "Epoch [36/100] Loss: 0.5678\n",
      "Epoch [36/100] Loss: 0.4564\n",
      "Epoch [36/100] Loss: 0.5159\n",
      "Epoch [36/100] Loss: 0.4762\n",
      "Epoch [36/100] Loss: 0.5849\n",
      "Epoch [36/100] Loss: 0.6765\n",
      "Epoch [36/100] Loss: 0.6598\n",
      "Epoch [36/100] Loss: 0.5145\n",
      "Epoch [36/100] Loss: 0.6339\n",
      "Epoch [36/100] Loss: 0.6857\n"
     ]
    },
    {
     "name": "stderr",
     "output_type": "stream",
     "text": [
      "218it [00:48,  4.46it/s]"
     ]
    },
    {
     "name": "stdout",
     "output_type": "stream",
     "text": [
      "Overall Acc: \t 0.563304384875\n",
      "Mean Acc : \t 0.435573646307\n",
      "FreqW Acc : \t 0.3992563123\n",
      "Mean IoU : \t 0.316578501068\n"
     ]
    },
    {
     "name": "stderr",
     "output_type": "stream",
     "text": [
      "\n"
     ]
    },
    {
     "name": "stdout",
     "output_type": "stream",
     "text": [
      "Epoch [37/100] Loss: 0.4785\n",
      "Epoch [37/100] Loss: 0.6394\n",
      "Epoch [37/100] Loss: 0.5064\n",
      "Epoch [37/100] Loss: 0.6695\n",
      "Epoch [37/100] Loss: 0.6082\n",
      "Epoch [37/100] Loss: 0.5807\n",
      "Epoch [37/100] Loss: 0.7304\n",
      "Epoch [37/100] Loss: 0.4184\n",
      "Epoch [37/100] Loss: 0.4041\n",
      "Epoch [37/100] Loss: 0.6520\n",
      "Epoch [37/100] Loss: 0.6254\n",
      "Epoch [37/100] Loss: 0.3768\n",
      "Epoch [37/100] Loss: 0.5249\n"
     ]
    },
    {
     "name": "stderr",
     "output_type": "stream",
     "text": [
      "218it [00:49,  4.44it/s]"
     ]
    },
    {
     "name": "stdout",
     "output_type": "stream",
     "text": [
      "Overall Acc: \t 0.561283791452\n",
      "Mean Acc : \t 0.406110756278\n",
      "FreqW Acc : \t 0.396675444395\n",
      "Mean IoU : \t 0.308720790215\n"
     ]
    },
    {
     "name": "stderr",
     "output_type": "stream",
     "text": [
      "\n"
     ]
    },
    {
     "name": "stdout",
     "output_type": "stream",
     "text": [
      "Epoch [38/100] Loss: 0.3676\n",
      "Epoch [38/100] Loss: 0.3989\n",
      "Epoch [38/100] Loss: 0.5485\n",
      "Epoch [38/100] Loss: 0.6401\n",
      "Epoch [38/100] Loss: 0.5285\n",
      "Epoch [38/100] Loss: 0.5399\n",
      "Epoch [38/100] Loss: 0.2834\n",
      "Epoch [38/100] Loss: 0.7055\n",
      "Epoch [38/100] Loss: 0.5885\n",
      "Epoch [38/100] Loss: 0.6161\n",
      "Epoch [38/100] Loss: 0.4737\n",
      "Epoch [38/100] Loss: 0.5540\n",
      "Epoch [38/100] Loss: 0.5422\n"
     ]
    },
    {
     "name": "stderr",
     "output_type": "stream",
     "text": [
      "218it [00:49,  4.44it/s]"
     ]
    },
    {
     "name": "stdout",
     "output_type": "stream",
     "text": [
      "Overall Acc: \t 0.567761929791\n",
      "Mean Acc : \t 0.422406743147\n",
      "FreqW Acc : \t 0.400547652339\n",
      "Mean IoU : \t 0.314675074365\n"
     ]
    },
    {
     "name": "stderr",
     "output_type": "stream",
     "text": [
      "\n"
     ]
    },
    {
     "name": "stdout",
     "output_type": "stream",
     "text": [
      "Epoch [39/100] Loss: 0.5435\n",
      "Epoch [39/100] Loss: 0.5773\n",
      "Epoch [39/100] Loss: 0.4942\n",
      "Epoch [39/100] Loss: 0.4580\n",
      "Epoch [39/100] Loss: 0.5686\n",
      "Epoch [39/100] Loss: 0.5310\n",
      "Epoch [39/100] Loss: 0.3970\n",
      "Epoch [39/100] Loss: 0.4071\n",
      "Epoch [39/100] Loss: 0.4523\n",
      "Epoch [39/100] Loss: 0.5628\n",
      "Epoch [39/100] Loss: 0.4859\n",
      "Epoch [39/100] Loss: 0.4764\n",
      "Epoch [39/100] Loss: 0.5780\n"
     ]
    },
    {
     "name": "stderr",
     "output_type": "stream",
     "text": [
      "218it [00:48,  4.48it/s]\n"
     ]
    },
    {
     "name": "stdout",
     "output_type": "stream",
     "text": [
      "Overall Acc: \t 0.570718221402\n",
      "Mean Acc : \t 0.44147379874\n",
      "FreqW Acc : \t 0.408738037731\n",
      "Mean IoU : \t 0.327842143798\n",
      "Epoch [40/100] Loss: 0.3652\n",
      "Epoch [40/100] Loss: 0.5615\n",
      "Epoch [40/100] Loss: 0.4818\n",
      "Epoch [40/100] Loss: 0.4659\n",
      "Epoch [40/100] Loss: 0.4915\n",
      "Epoch [40/100] Loss: 0.6574\n",
      "Epoch [40/100] Loss: 0.4080\n",
      "Epoch [40/100] Loss: 0.8258\n",
      "Epoch [40/100] Loss: 0.5004\n",
      "Epoch [40/100] Loss: 0.4243\n",
      "Epoch [40/100] Loss: 0.4838\n",
      "Epoch [40/100] Loss: 0.4077\n",
      "Epoch [40/100] Loss: 0.5399\n"
     ]
    },
    {
     "name": "stderr",
     "output_type": "stream",
     "text": [
      "218it [00:49,  4.41it/s]"
     ]
    },
    {
     "name": "stdout",
     "output_type": "stream",
     "text": [
      "Overall Acc: \t 0.551099857249\n",
      "Mean Acc : \t 0.402609874271\n",
      "FreqW Acc : \t 0.389687504649\n",
      "Mean IoU : \t 0.303072147877\n"
     ]
    },
    {
     "name": "stderr",
     "output_type": "stream",
     "text": [
      "\n"
     ]
    },
    {
     "name": "stdout",
     "output_type": "stream",
     "text": [
      "Epoch [41/100] Loss: 0.4612\n",
      "Epoch [41/100] Loss: 0.5262\n",
      "Epoch [41/100] Loss: 0.3708\n",
      "Epoch [41/100] Loss: 0.6110\n",
      "Epoch [41/100] Loss: 0.5275\n",
      "Epoch [41/100] Loss: 0.4008\n",
      "Epoch [41/100] Loss: 0.5077\n",
      "Epoch [41/100] Loss: 0.3926\n",
      "Epoch [41/100] Loss: 0.4989\n",
      "Epoch [41/100] Loss: 0.4650\n",
      "Epoch [41/100] Loss: 0.5550\n",
      "Epoch [41/100] Loss: 0.5193\n",
      "Epoch [41/100] Loss: 0.5880\n"
     ]
    },
    {
     "name": "stderr",
     "output_type": "stream",
     "text": [
      "218it [00:49,  4.43it/s]"
     ]
    },
    {
     "name": "stdout",
     "output_type": "stream",
     "text": [
      "Overall Acc: \t 0.56093048189\n",
      "Mean Acc : \t 0.427368952082\n",
      "FreqW Acc : \t 0.391398770593\n",
      "Mean IoU : \t 0.315888770648\n"
     ]
    },
    {
     "name": "stderr",
     "output_type": "stream",
     "text": [
      "\n"
     ]
    },
    {
     "name": "stdout",
     "output_type": "stream",
     "text": [
      "Epoch [42/100] Loss: 0.4872\n",
      "Epoch [42/100] Loss: 0.4616\n",
      "Epoch [42/100] Loss: 0.4897\n",
      "Epoch [42/100] Loss: 0.5118\n",
      "Epoch [42/100] Loss: 0.6263\n",
      "Epoch [42/100] Loss: 0.5785\n",
      "Epoch [42/100] Loss: 0.4401\n",
      "Epoch [42/100] Loss: 0.5553\n",
      "Epoch [42/100] Loss: 0.6104\n",
      "Epoch [42/100] Loss: 0.4442\n",
      "Epoch [42/100] Loss: 0.6502\n",
      "Epoch [42/100] Loss: 0.5262\n",
      "Epoch [42/100] Loss: 0.4198\n"
     ]
    },
    {
     "name": "stderr",
     "output_type": "stream",
     "text": [
      "218it [00:49,  4.42it/s]"
     ]
    },
    {
     "name": "stdout",
     "output_type": "stream",
     "text": [
      "Overall Acc: \t 0.563650666372\n",
      "Mean Acc : \t 0.421764293126\n",
      "FreqW Acc : \t 0.401099901143\n",
      "Mean IoU : \t 0.314952237337\n"
     ]
    },
    {
     "name": "stderr",
     "output_type": "stream",
     "text": [
      "\n"
     ]
    },
    {
     "name": "stdout",
     "output_type": "stream",
     "text": [
      "Epoch [43/100] Loss: 0.4683\n",
      "Epoch [43/100] Loss: 0.5278\n",
      "Epoch [43/100] Loss: 0.5613\n",
      "Epoch [43/100] Loss: 0.6125\n",
      "Epoch [43/100] Loss: 0.5732\n",
      "Epoch [43/100] Loss: 0.6917\n",
      "Epoch [43/100] Loss: 0.7648\n",
      "Epoch [43/100] Loss: 0.6872\n",
      "Epoch [43/100] Loss: 0.4604\n",
      "Epoch [43/100] Loss: 0.5196\n",
      "Epoch [43/100] Loss: 0.5251\n",
      "Epoch [43/100] Loss: 0.4389\n",
      "Epoch [43/100] Loss: 0.4494\n"
     ]
    },
    {
     "name": "stderr",
     "output_type": "stream",
     "text": [
      "218it [00:49,  4.37it/s]"
     ]
    },
    {
     "name": "stdout",
     "output_type": "stream",
     "text": [
      "Overall Acc: \t 0.566207597676\n",
      "Mean Acc : \t 0.425463566671\n",
      "FreqW Acc : \t 0.401601092166\n",
      "Mean IoU : \t 0.316612580259\n"
     ]
    },
    {
     "name": "stderr",
     "output_type": "stream",
     "text": [
      "\n"
     ]
    },
    {
     "name": "stdout",
     "output_type": "stream",
     "text": [
      "Epoch [44/100] Loss: 0.5235\n",
      "Epoch [44/100] Loss: 0.4096\n",
      "Epoch [44/100] Loss: 0.5207\n",
      "Epoch [44/100] Loss: 0.5967\n",
      "Epoch [44/100] Loss: 0.5195\n",
      "Epoch [44/100] Loss: 0.5421\n",
      "Epoch [44/100] Loss: 0.4194\n",
      "Epoch [44/100] Loss: 0.4743\n",
      "Epoch [44/100] Loss: 0.3880\n",
      "Epoch [44/100] Loss: 0.5060\n",
      "Epoch [44/100] Loss: 0.5880\n",
      "Epoch [44/100] Loss: 0.4666\n",
      "Epoch [44/100] Loss: 0.4094\n"
     ]
    },
    {
     "name": "stderr",
     "output_type": "stream",
     "text": [
      "218it [00:48,  4.45it/s]"
     ]
    },
    {
     "name": "stdout",
     "output_type": "stream",
     "text": [
      "Overall Acc: \t 0.570776954519\n",
      "Mean Acc : \t 0.440356711278\n",
      "FreqW Acc : \t 0.406711763158\n",
      "Mean IoU : \t 0.324077537274\n"
     ]
    },
    {
     "name": "stderr",
     "output_type": "stream",
     "text": [
      "\n"
     ]
    },
    {
     "name": "stdout",
     "output_type": "stream",
     "text": [
      "Epoch [45/100] Loss: 0.3914\n",
      "Epoch [45/100] Loss: 0.5412\n",
      "Epoch [45/100] Loss: 0.4856\n",
      "Epoch [45/100] Loss: 0.5642\n",
      "Epoch [45/100] Loss: 0.4558\n",
      "Epoch [45/100] Loss: 0.5413\n",
      "Epoch [45/100] Loss: 0.3811\n",
      "Epoch [45/100] Loss: 0.5010\n",
      "Epoch [45/100] Loss: 0.3993\n",
      "Epoch [45/100] Loss: 0.6841\n",
      "Epoch [45/100] Loss: 0.6586\n",
      "Epoch [45/100] Loss: 0.5446\n",
      "Epoch [45/100] Loss: 0.4533\n"
     ]
    },
    {
     "name": "stderr",
     "output_type": "stream",
     "text": [
      "218it [00:49,  4.39it/s]"
     ]
    },
    {
     "name": "stdout",
     "output_type": "stream",
     "text": [
      "Overall Acc: \t 0.559495845876\n",
      "Mean Acc : \t 0.420253157749\n",
      "FreqW Acc : \t 0.396276406598\n",
      "Mean IoU : \t 0.312253916987\n"
     ]
    },
    {
     "name": "stderr",
     "output_type": "stream",
     "text": [
      "\n"
     ]
    },
    {
     "name": "stdout",
     "output_type": "stream",
     "text": [
      "Epoch [46/100] Loss: 0.4523\n",
      "Epoch [46/100] Loss: 0.6437\n",
      "Epoch [46/100] Loss: 0.5488\n",
      "Epoch [46/100] Loss: 0.4039\n",
      "Epoch [46/100] Loss: 0.4845\n",
      "Epoch [46/100] Loss: 0.5502\n",
      "Epoch [46/100] Loss: 0.4089\n",
      "Epoch [46/100] Loss: 0.5339\n",
      "Epoch [46/100] Loss: 0.5228\n",
      "Epoch [46/100] Loss: 0.3881\n",
      "Epoch [46/100] Loss: 0.5990\n",
      "Epoch [46/100] Loss: 0.4602\n",
      "Epoch [46/100] Loss: 0.5210\n"
     ]
    },
    {
     "name": "stderr",
     "output_type": "stream",
     "text": [
      "218it [00:48,  4.45it/s]"
     ]
    },
    {
     "name": "stdout",
     "output_type": "stream",
     "text": [
      "Overall Acc: \t 0.551412382136\n",
      "Mean Acc : \t 0.421974476789\n",
      "FreqW Acc : \t 0.389946373408\n",
      "Mean IoU : \t 0.31418549146\n"
     ]
    },
    {
     "name": "stderr",
     "output_type": "stream",
     "text": [
      "\n"
     ]
    },
    {
     "name": "stdout",
     "output_type": "stream",
     "text": [
      "Epoch [47/100] Loss: 0.3928\n",
      "Epoch [47/100] Loss: 0.4348\n",
      "Epoch [47/100] Loss: 0.5195\n",
      "Epoch [47/100] Loss: 0.5353\n",
      "Epoch [47/100] Loss: 0.6160\n",
      "Epoch [47/100] Loss: 0.3641\n",
      "Epoch [47/100] Loss: 0.6059\n",
      "Epoch [47/100] Loss: 0.5865\n",
      "Epoch [47/100] Loss: 0.3859\n",
      "Epoch [47/100] Loss: 0.5669\n",
      "Epoch [47/100] Loss: 0.5646\n",
      "Epoch [47/100] Loss: 0.5877\n",
      "Epoch [47/100] Loss: 0.4291\n"
     ]
    },
    {
     "name": "stderr",
     "output_type": "stream",
     "text": [
      "218it [00:49,  4.39it/s]"
     ]
    },
    {
     "name": "stdout",
     "output_type": "stream",
     "text": [
      "Overall Acc: \t 0.556088777595\n",
      "Mean Acc : \t 0.407597006424\n",
      "FreqW Acc : \t 0.390336299137\n",
      "Mean IoU : \t 0.306044223981\n"
     ]
    },
    {
     "name": "stderr",
     "output_type": "stream",
     "text": [
      "\n"
     ]
    },
    {
     "name": "stdout",
     "output_type": "stream",
     "text": [
      "Epoch [48/100] Loss: 0.3165\n",
      "Epoch [48/100] Loss: 0.3623\n",
      "Epoch [48/100] Loss: 0.5526\n",
      "Epoch [48/100] Loss: 0.6003\n",
      "Epoch [48/100] Loss: 0.4863\n",
      "Epoch [48/100] Loss: 0.3679\n",
      "Epoch [48/100] Loss: 0.5343\n",
      "Epoch [48/100] Loss: 0.5208\n",
      "Epoch [48/100] Loss: 0.4727\n",
      "Epoch [48/100] Loss: 0.4799\n",
      "Epoch [48/100] Loss: 0.4194\n",
      "Epoch [48/100] Loss: 0.5558\n",
      "Epoch [48/100] Loss: 0.4815\n"
     ]
    },
    {
     "name": "stderr",
     "output_type": "stream",
     "text": [
      "218it [00:49,  4.40it/s]"
     ]
    },
    {
     "name": "stdout",
     "output_type": "stream",
     "text": [
      "Overall Acc: \t 0.558367119808\n",
      "Mean Acc : \t 0.429987521334\n",
      "FreqW Acc : \t 0.395900431766\n",
      "Mean IoU : \t 0.31267082626\n"
     ]
    },
    {
     "name": "stderr",
     "output_type": "stream",
     "text": [
      "\n"
     ]
    },
    {
     "name": "stdout",
     "output_type": "stream",
     "text": [
      "Epoch [49/100] Loss: 0.5558\n",
      "Epoch [49/100] Loss: 0.5999\n",
      "Epoch [49/100] Loss: 0.3275\n",
      "Epoch [49/100] Loss: 0.5803\n",
      "Epoch [49/100] Loss: 0.5022\n",
      "Epoch [49/100] Loss: 0.5616\n",
      "Epoch [49/100] Loss: 0.4848\n",
      "Epoch [49/100] Loss: 0.4120\n",
      "Epoch [49/100] Loss: 0.4445\n",
      "Epoch [49/100] Loss: 0.3728\n",
      "Epoch [49/100] Loss: 0.4899\n",
      "Epoch [49/100] Loss: 0.4723\n",
      "Epoch [49/100] Loss: 0.4989\n"
     ]
    },
    {
     "name": "stderr",
     "output_type": "stream",
     "text": [
      "218it [00:49,  4.44it/s]"
     ]
    },
    {
     "name": "stdout",
     "output_type": "stream",
     "text": [
      "Overall Acc: \t 0.562264380654\n",
      "Mean Acc : \t 0.421920915548\n",
      "FreqW Acc : \t 0.39793469017\n",
      "Mean IoU : \t 0.312892740921\n"
     ]
    },
    {
     "name": "stderr",
     "output_type": "stream",
     "text": [
      "\n"
     ]
    },
    {
     "name": "stdout",
     "output_type": "stream",
     "text": [
      "Epoch [50/100] Loss: 0.4907\n",
      "Epoch [50/100] Loss: 0.5222\n",
      "Epoch [50/100] Loss: 0.5528\n",
      "Epoch [50/100] Loss: 0.5501\n",
      "Epoch [50/100] Loss: 0.4521\n",
      "Epoch [50/100] Loss: 0.5418\n",
      "Epoch [50/100] Loss: 0.3419\n",
      "Epoch [50/100] Loss: 0.4685\n",
      "Epoch [50/100] Loss: 0.5622\n",
      "Epoch [50/100] Loss: 0.4913\n",
      "Epoch [50/100] Loss: 0.3763\n",
      "Epoch [50/100] Loss: 0.5669\n",
      "Epoch [50/100] Loss: 0.7351\n"
     ]
    },
    {
     "name": "stderr",
     "output_type": "stream",
     "text": [
      "218it [00:49,  4.42it/s]"
     ]
    },
    {
     "name": "stdout",
     "output_type": "stream",
     "text": [
      "Overall Acc: \t 0.5638400309\n",
      "Mean Acc : \t 0.429200457734\n",
      "FreqW Acc : \t 0.398769524819\n",
      "Mean IoU : \t 0.316057606459\n"
     ]
    },
    {
     "name": "stderr",
     "output_type": "stream",
     "text": [
      "\n"
     ]
    },
    {
     "name": "stdout",
     "output_type": "stream",
     "text": [
      "Epoch [51/100] Loss: 0.5873\n",
      "Epoch [51/100] Loss: 0.4141\n",
      "Epoch [51/100] Loss: 0.4752\n",
      "Epoch [51/100] Loss: 0.5778\n",
      "Epoch [51/100] Loss: 0.5248\n",
      "Epoch [51/100] Loss: 0.5144\n",
      "Epoch [51/100] Loss: 0.4974\n",
      "Epoch [51/100] Loss: 0.4742\n",
      "Epoch [51/100] Loss: 0.4085\n",
      "Epoch [51/100] Loss: 0.4386\n",
      "Epoch [51/100] Loss: 0.5356\n",
      "Epoch [51/100] Loss: 0.4937\n",
      "Epoch [51/100] Loss: 0.6539\n"
     ]
    },
    {
     "name": "stderr",
     "output_type": "stream",
     "text": [
      "218it [00:49,  4.44it/s]"
     ]
    },
    {
     "name": "stdout",
     "output_type": "stream",
     "text": [
      "Overall Acc: \t 0.567770839306\n",
      "Mean Acc : \t 0.428050473292\n",
      "FreqW Acc : \t 0.403267261729\n",
      "Mean IoU : \t 0.315289794865\n"
     ]
    },
    {
     "name": "stderr",
     "output_type": "stream",
     "text": [
      "\n"
     ]
    },
    {
     "name": "stdout",
     "output_type": "stream",
     "text": [
      "Epoch [52/100] Loss: 0.4394\n",
      "Epoch [52/100] Loss: 0.3819\n",
      "Epoch [52/100] Loss: 0.3949\n",
      "Epoch [52/100] Loss: 0.3014\n",
      "Epoch [52/100] Loss: 0.4673\n",
      "Epoch [52/100] Loss: 0.4678\n",
      "Epoch [52/100] Loss: 0.4769\n",
      "Epoch [52/100] Loss: 0.4365\n",
      "Epoch [52/100] Loss: 0.4728\n",
      "Epoch [52/100] Loss: 0.4034\n",
      "Epoch [52/100] Loss: 0.3127\n",
      "Epoch [52/100] Loss: 0.3714\n",
      "Epoch [52/100] Loss: 0.5438\n"
     ]
    },
    {
     "name": "stderr",
     "output_type": "stream",
     "text": [
      "218it [00:49,  4.41it/s]"
     ]
    },
    {
     "name": "stdout",
     "output_type": "stream",
     "text": [
      "Overall Acc: \t 0.563082119847\n",
      "Mean Acc : \t 0.414233376224\n",
      "FreqW Acc : \t 0.397957527655\n",
      "Mean IoU : \t 0.30573953751\n"
     ]
    },
    {
     "name": "stderr",
     "output_type": "stream",
     "text": [
      "\n"
     ]
    },
    {
     "name": "stdout",
     "output_type": "stream",
     "text": [
      "Epoch [53/100] Loss: 0.4885\n",
      "Epoch [53/100] Loss: 0.2886\n",
      "Epoch [53/100] Loss: 0.6628\n",
      "Epoch [53/100] Loss: 0.4949\n",
      "Epoch [53/100] Loss: 0.4482\n",
      "Epoch [53/100] Loss: 0.3458\n",
      "Epoch [53/100] Loss: 0.4929\n",
      "Epoch [53/100] Loss: 0.5454\n",
      "Epoch [53/100] Loss: 0.4493\n",
      "Epoch [53/100] Loss: 0.4554\n",
      "Epoch [53/100] Loss: 0.4469\n",
      "Epoch [53/100] Loss: 0.6024\n",
      "Epoch [53/100] Loss: 0.4648\n"
     ]
    },
    {
     "name": "stderr",
     "output_type": "stream",
     "text": [
      "218it [00:49,  4.42it/s]"
     ]
    },
    {
     "name": "stdout",
     "output_type": "stream",
     "text": [
      "Overall Acc: \t 0.561975881594\n",
      "Mean Acc : \t 0.429651722168\n",
      "FreqW Acc : \t 0.399758230793\n",
      "Mean IoU : \t 0.314415931072\n"
     ]
    },
    {
     "name": "stderr",
     "output_type": "stream",
     "text": [
      "\n"
     ]
    },
    {
     "name": "stdout",
     "output_type": "stream",
     "text": [
      "Epoch [54/100] Loss: 0.5434\n",
      "Epoch [54/100] Loss: 0.5227\n",
      "Epoch [54/100] Loss: 0.4388\n",
      "Epoch [54/100] Loss: 0.4082\n",
      "Epoch [54/100] Loss: 0.4451\n",
      "Epoch [54/100] Loss: 0.5615\n",
      "Epoch [54/100] Loss: 0.4264\n",
      "Epoch [54/100] Loss: 0.4458\n",
      "Epoch [54/100] Loss: 0.3338\n",
      "Epoch [54/100] Loss: 0.3908\n",
      "Epoch [54/100] Loss: 0.4409\n",
      "Epoch [54/100] Loss: 0.4885\n",
      "Epoch [54/100] Loss: 0.4804\n"
     ]
    },
    {
     "name": "stderr",
     "output_type": "stream",
     "text": [
      "218it [00:48,  4.46it/s]"
     ]
    },
    {
     "name": "stdout",
     "output_type": "stream",
     "text": [
      "Overall Acc: \t 0.560386677935\n",
      "Mean Acc : \t 0.410156396931\n",
      "FreqW Acc : \t 0.392706535326\n",
      "Mean IoU : \t 0.307073451347\n"
     ]
    },
    {
     "name": "stderr",
     "output_type": "stream",
     "text": [
      "\n"
     ]
    },
    {
     "name": "stdout",
     "output_type": "stream",
     "text": [
      "Epoch [55/100] Loss: 0.4730\n",
      "Epoch [55/100] Loss: 0.5878\n",
      "Epoch [55/100] Loss: 0.3654\n",
      "Epoch [55/100] Loss: 0.5091\n",
      "Epoch [55/100] Loss: 0.4253\n",
      "Epoch [55/100] Loss: 0.4477\n",
      "Epoch [55/100] Loss: 0.5578\n",
      "Epoch [55/100] Loss: 0.3468\n",
      "Epoch [55/100] Loss: 0.3244\n",
      "Epoch [55/100] Loss: 0.3752\n",
      "Epoch [55/100] Loss: 0.4548\n",
      "Epoch [55/100] Loss: 0.4767\n",
      "Epoch [55/100] Loss: 0.3947\n"
     ]
    },
    {
     "name": "stderr",
     "output_type": "stream",
     "text": [
      "218it [00:49,  4.43it/s]\n"
     ]
    },
    {
     "name": "stdout",
     "output_type": "stream",
     "text": [
      "Overall Acc: \t 0.561401008816\n",
      "Mean Acc : \t 0.414497539586\n",
      "FreqW Acc : \t 0.392500689476\n",
      "Mean IoU : \t 0.307082074502\n",
      "Epoch [56/100] Loss: 0.3473\n",
      "Epoch [56/100] Loss: 0.4248\n",
      "Epoch [56/100] Loss: 0.6842\n",
      "Epoch [56/100] Loss: 0.4782\n",
      "Epoch [56/100] Loss: 0.4449\n",
      "Epoch [56/100] Loss: 0.5528\n",
      "Epoch [56/100] Loss: 0.3833\n",
      "Epoch [56/100] Loss: 0.4023\n",
      "Epoch [56/100] Loss: 0.4011\n",
      "Epoch [56/100] Loss: 0.5001\n",
      "Epoch [56/100] Loss: 0.6218\n",
      "Epoch [56/100] Loss: 0.5053\n",
      "Epoch [56/100] Loss: 0.5007\n"
     ]
    },
    {
     "name": "stderr",
     "output_type": "stream",
     "text": [
      "218it [00:49,  4.43it/s]"
     ]
    },
    {
     "name": "stdout",
     "output_type": "stream",
     "text": [
      "Overall Acc: \t 0.559563374028\n",
      "Mean Acc : \t 0.416950833702\n",
      "FreqW Acc : \t 0.396679576561\n",
      "Mean IoU : \t 0.310965944982\n"
     ]
    },
    {
     "name": "stderr",
     "output_type": "stream",
     "text": [
      "\n"
     ]
    },
    {
     "name": "stdout",
     "output_type": "stream",
     "text": [
      "Epoch [57/100] Loss: 0.4185\n",
      "Epoch [57/100] Loss: 0.3829\n",
      "Epoch [57/100] Loss: 0.4393\n",
      "Epoch [57/100] Loss: 0.4578\n",
      "Epoch [57/100] Loss: 0.4165\n",
      "Epoch [57/100] Loss: 0.3950\n",
      "Epoch [57/100] Loss: 0.3600\n",
      "Epoch [57/100] Loss: 0.3990\n",
      "Epoch [57/100] Loss: 0.6717\n",
      "Epoch [57/100] Loss: 0.3240\n",
      "Epoch [57/100] Loss: 0.3863\n",
      "Epoch [57/100] Loss: 0.3550\n",
      "Epoch [57/100] Loss: 0.5737\n"
     ]
    },
    {
     "name": "stderr",
     "output_type": "stream",
     "text": [
      "218it [00:49,  4.40it/s]"
     ]
    },
    {
     "name": "stdout",
     "output_type": "stream",
     "text": [
      "Overall Acc: \t 0.563806224516\n",
      "Mean Acc : \t 0.432968163575\n",
      "FreqW Acc : \t 0.397055916684\n",
      "Mean IoU : \t 0.313665890749\n"
     ]
    },
    {
     "name": "stderr",
     "output_type": "stream",
     "text": [
      "\n"
     ]
    },
    {
     "name": "stdout",
     "output_type": "stream",
     "text": [
      "Epoch [58/100] Loss: 0.4015\n",
      "Epoch [58/100] Loss: 0.4468\n",
      "Epoch [58/100] Loss: 0.4947\n",
      "Epoch [58/100] Loss: 0.3439\n",
      "Epoch [58/100] Loss: 0.4863\n",
      "Epoch [58/100] Loss: 0.3793\n",
      "Epoch [58/100] Loss: 0.4705\n",
      "Epoch [58/100] Loss: 0.5111\n",
      "Epoch [58/100] Loss: 0.4199\n",
      "Epoch [58/100] Loss: 0.5658\n",
      "Epoch [58/100] Loss: 0.3696\n",
      "Epoch [58/100] Loss: 0.5373\n",
      "Epoch [58/100] Loss: 0.5070\n"
     ]
    },
    {
     "name": "stderr",
     "output_type": "stream",
     "text": [
      "218it [00:49,  4.44it/s]"
     ]
    },
    {
     "name": "stdout",
     "output_type": "stream",
     "text": [
      "Overall Acc: \t 0.555693279737\n",
      "Mean Acc : \t 0.391984729473\n",
      "FreqW Acc : \t 0.388330013293\n",
      "Mean IoU : \t 0.295674266512\n"
     ]
    },
    {
     "name": "stderr",
     "output_type": "stream",
     "text": [
      "\n"
     ]
    },
    {
     "name": "stdout",
     "output_type": "stream",
     "text": [
      "Epoch [59/100] Loss: 0.3758\n",
      "Epoch [59/100] Loss: 0.4860\n",
      "Epoch [59/100] Loss: 0.4937\n",
      "Epoch [59/100] Loss: 0.3639\n",
      "Epoch [59/100] Loss: 0.6154\n",
      "Epoch [59/100] Loss: 0.3814\n",
      "Epoch [59/100] Loss: 0.4265\n",
      "Epoch [59/100] Loss: 0.3824\n",
      "Epoch [59/100] Loss: 0.4812\n",
      "Epoch [59/100] Loss: 0.6057\n",
      "Epoch [59/100] Loss: 0.4373\n",
      "Epoch [59/100] Loss: 0.4799\n",
      "Epoch [59/100] Loss: 0.4712\n"
     ]
    },
    {
     "name": "stderr",
     "output_type": "stream",
     "text": [
      "218it [00:49,  4.43it/s]"
     ]
    },
    {
     "name": "stdout",
     "output_type": "stream",
     "text": [
      "Overall Acc: \t 0.563644310254\n",
      "Mean Acc : \t 0.432199026245\n",
      "FreqW Acc : \t 0.397381364121\n",
      "Mean IoU : \t 0.318397055209\n"
     ]
    },
    {
     "name": "stderr",
     "output_type": "stream",
     "text": [
      "\n"
     ]
    },
    {
     "name": "stdout",
     "output_type": "stream",
     "text": [
      "Epoch [60/100] Loss: 0.4612\n",
      "Epoch [60/100] Loss: 0.3592\n",
      "Epoch [60/100] Loss: 0.4806\n",
      "Epoch [60/100] Loss: 0.4082\n",
      "Epoch [60/100] Loss: 0.3111\n",
      "Epoch [60/100] Loss: 0.4570\n",
      "Epoch [60/100] Loss: 0.4974\n",
      "Epoch [60/100] Loss: 0.4232\n",
      "Epoch [60/100] Loss: 0.5058\n",
      "Epoch [60/100] Loss: 0.4078\n",
      "Epoch [60/100] Loss: 0.4364\n",
      "Epoch [60/100] Loss: 0.5017\n",
      "Epoch [60/100] Loss: 0.2541\n"
     ]
    },
    {
     "name": "stderr",
     "output_type": "stream",
     "text": [
      "218it [00:48,  4.46it/s]"
     ]
    },
    {
     "name": "stdout",
     "output_type": "stream",
     "text": [
      "Overall Acc: \t 0.558584760847\n",
      "Mean Acc : \t 0.408340107699\n",
      "FreqW Acc : \t 0.391107505123\n",
      "Mean IoU : \t 0.305497718494\n"
     ]
    },
    {
     "name": "stderr",
     "output_type": "stream",
     "text": [
      "\n"
     ]
    },
    {
     "name": "stdout",
     "output_type": "stream",
     "text": [
      "Epoch [61/100] Loss: 0.5861\n",
      "Epoch [61/100] Loss: 0.4049\n",
      "Epoch [61/100] Loss: 0.4511\n",
      "Epoch [61/100] Loss: 0.3251\n",
      "Epoch [61/100] Loss: 0.4866\n",
      "Epoch [61/100] Loss: 0.4602\n",
      "Epoch [61/100] Loss: 0.5311\n",
      "Epoch [61/100] Loss: 0.4802\n",
      "Epoch [61/100] Loss: 0.4903\n",
      "Epoch [61/100] Loss: 0.3875\n",
      "Epoch [61/100] Loss: 0.4149\n",
      "Epoch [61/100] Loss: 0.4358\n",
      "Epoch [61/100] Loss: 0.4875\n"
     ]
    },
    {
     "name": "stderr",
     "output_type": "stream",
     "text": [
      "218it [00:49,  4.45it/s]"
     ]
    },
    {
     "name": "stdout",
     "output_type": "stream",
     "text": [
      "Overall Acc: \t 0.567105084496\n",
      "Mean Acc : \t 0.435985107737\n",
      "FreqW Acc : \t 0.402207703646\n",
      "Mean IoU : \t 0.318114006737\n"
     ]
    },
    {
     "name": "stderr",
     "output_type": "stream",
     "text": [
      "\n"
     ]
    },
    {
     "name": "stdout",
     "output_type": "stream",
     "text": [
      "Epoch [62/100] Loss: 0.4993\n",
      "Epoch [62/100] Loss: 0.3592\n",
      "Epoch [62/100] Loss: 0.4043\n",
      "Epoch [62/100] Loss: 0.4406\n",
      "Epoch [62/100] Loss: 0.5452\n",
      "Epoch [62/100] Loss: 0.3511\n",
      "Epoch [62/100] Loss: 0.5093\n",
      "Epoch [62/100] Loss: 0.5138\n",
      "Epoch [62/100] Loss: 0.4428\n",
      "Epoch [62/100] Loss: 0.4804\n",
      "Epoch [62/100] Loss: 0.4244\n",
      "Epoch [62/100] Loss: 0.4660\n",
      "Epoch [62/100] Loss: 0.5087\n"
     ]
    },
    {
     "name": "stderr",
     "output_type": "stream",
     "text": [
      "218it [00:48,  4.46it/s]"
     ]
    },
    {
     "name": "stdout",
     "output_type": "stream",
     "text": [
      "Overall Acc: \t 0.565368968408\n",
      "Mean Acc : \t 0.425682388259\n",
      "FreqW Acc : \t 0.397500248888\n",
      "Mean IoU : \t 0.311467786155\n"
     ]
    },
    {
     "name": "stderr",
     "output_type": "stream",
     "text": [
      "\n"
     ]
    },
    {
     "name": "stdout",
     "output_type": "stream",
     "text": [
      "Epoch [63/100] Loss: 0.4161\n",
      "Epoch [63/100] Loss: 0.4313\n",
      "Epoch [63/100] Loss: 0.4653\n",
      "Epoch [63/100] Loss: 0.3246\n",
      "Epoch [63/100] Loss: 0.3726\n",
      "Epoch [63/100] Loss: 0.3266\n",
      "Epoch [63/100] Loss: 0.4737\n",
      "Epoch [63/100] Loss: 0.4831\n",
      "Epoch [63/100] Loss: 0.2598\n",
      "Epoch [63/100] Loss: 0.4722\n",
      "Epoch [63/100] Loss: 0.3810\n",
      "Epoch [63/100] Loss: 0.4158\n",
      "Epoch [63/100] Loss: 0.3963\n"
     ]
    },
    {
     "name": "stderr",
     "output_type": "stream",
     "text": [
      "218it [00:49,  4.40it/s]"
     ]
    },
    {
     "name": "stdout",
     "output_type": "stream",
     "text": [
      "Overall Acc: \t 0.561270183287\n",
      "Mean Acc : \t 0.428530853622\n",
      "FreqW Acc : \t 0.396952475625\n",
      "Mean IoU : \t 0.31605007916\n"
     ]
    },
    {
     "name": "stderr",
     "output_type": "stream",
     "text": [
      "\n"
     ]
    },
    {
     "name": "stdout",
     "output_type": "stream",
     "text": [
      "Epoch [64/100] Loss: 0.3928\n",
      "Epoch [64/100] Loss: 0.5002\n",
      "Epoch [64/100] Loss: 0.4179\n",
      "Epoch [64/100] Loss: 0.3992\n",
      "Epoch [64/100] Loss: 0.4578\n",
      "Epoch [64/100] Loss: 0.4079\n",
      "Epoch [64/100] Loss: 0.2989\n",
      "Epoch [64/100] Loss: 0.4928\n",
      "Epoch [64/100] Loss: 0.4863\n",
      "Epoch [64/100] Loss: 0.5351\n",
      "Epoch [64/100] Loss: 0.3866\n",
      "Epoch [64/100] Loss: 0.3165\n",
      "Epoch [64/100] Loss: 0.3553\n"
     ]
    },
    {
     "name": "stderr",
     "output_type": "stream",
     "text": [
      "218it [00:49,  4.45it/s]"
     ]
    },
    {
     "name": "stdout",
     "output_type": "stream",
     "text": [
      "Overall Acc: \t 0.567036824669\n",
      "Mean Acc : \t 0.424046112001\n",
      "FreqW Acc : \t 0.401044254723\n",
      "Mean IoU : \t 0.314703932144\n"
     ]
    },
    {
     "name": "stderr",
     "output_type": "stream",
     "text": [
      "\n"
     ]
    },
    {
     "name": "stdout",
     "output_type": "stream",
     "text": [
      "Epoch [65/100] Loss: 0.5078\n",
      "Epoch [65/100] Loss: 0.4913\n",
      "Epoch [65/100] Loss: 0.5197\n",
      "Epoch [65/100] Loss: 0.4461\n",
      "Epoch [65/100] Loss: 0.3719\n",
      "Epoch [65/100] Loss: 0.4366\n",
      "Epoch [65/100] Loss: 0.5664\n",
      "Epoch [65/100] Loss: 0.4908\n",
      "Epoch [65/100] Loss: 0.3239\n",
      "Epoch [65/100] Loss: 0.4550\n",
      "Epoch [65/100] Loss: 0.3587\n",
      "Epoch [65/100] Loss: 0.4409\n",
      "Epoch [65/100] Loss: 0.3422\n"
     ]
    },
    {
     "name": "stderr",
     "output_type": "stream",
     "text": [
      "218it [00:49,  4.39it/s]"
     ]
    },
    {
     "name": "stdout",
     "output_type": "stream",
     "text": [
      "Overall Acc: \t 0.570579725726\n",
      "Mean Acc : \t 0.42638989053\n",
      "FreqW Acc : \t 0.405320918602\n",
      "Mean IoU : \t 0.318727068546\n"
     ]
    },
    {
     "name": "stderr",
     "output_type": "stream",
     "text": [
      "\n"
     ]
    },
    {
     "name": "stdout",
     "output_type": "stream",
     "text": [
      "Epoch [66/100] Loss: 0.2868\n",
      "Epoch [66/100] Loss: 0.3877\n",
      "Epoch [66/100] Loss: 0.4228\n",
      "Epoch [66/100] Loss: 0.3038\n",
      "Epoch [66/100] Loss: 0.4048\n",
      "Epoch [66/100] Loss: 0.6025\n",
      "Epoch [66/100] Loss: 0.4439\n",
      "Epoch [66/100] Loss: 0.4292\n",
      "Epoch [66/100] Loss: 0.4347\n",
      "Epoch [66/100] Loss: 0.4351\n",
      "Epoch [66/100] Loss: 0.5633\n",
      "Epoch [66/100] Loss: 0.3929\n",
      "Epoch [66/100] Loss: 0.3265\n"
     ]
    },
    {
     "name": "stderr",
     "output_type": "stream",
     "text": [
      "218it [00:49,  4.43it/s]"
     ]
    },
    {
     "name": "stdout",
     "output_type": "stream",
     "text": [
      "Overall Acc: \t 0.566115978991\n",
      "Mean Acc : \t 0.413304797931\n",
      "FreqW Acc : \t 0.398199855632\n",
      "Mean IoU : \t 0.306622741664\n"
     ]
    },
    {
     "name": "stderr",
     "output_type": "stream",
     "text": [
      "\n"
     ]
    },
    {
     "name": "stdout",
     "output_type": "stream",
     "text": [
      "Epoch [67/100] Loss: 0.3945\n",
      "Epoch [67/100] Loss: 0.5152\n",
      "Epoch [67/100] Loss: 0.4996\n",
      "Epoch [67/100] Loss: 0.4433\n",
      "Epoch [67/100] Loss: 0.5033\n",
      "Epoch [67/100] Loss: 0.5124\n",
      "Epoch [67/100] Loss: 0.3086\n",
      "Epoch [67/100] Loss: 0.3647\n",
      "Epoch [67/100] Loss: 0.3433\n",
      "Epoch [67/100] Loss: 0.4528\n",
      "Epoch [67/100] Loss: 0.4215\n",
      "Epoch [67/100] Loss: 0.3500\n",
      "Epoch [67/100] Loss: 0.4143\n"
     ]
    },
    {
     "name": "stderr",
     "output_type": "stream",
     "text": [
      "218it [00:49,  4.39it/s]"
     ]
    },
    {
     "name": "stdout",
     "output_type": "stream",
     "text": [
      "Overall Acc: \t 0.570633277388\n",
      "Mean Acc : \t 0.440995595664\n",
      "FreqW Acc : \t 0.403559542225\n",
      "Mean IoU : \t 0.324549803649\n"
     ]
    },
    {
     "name": "stderr",
     "output_type": "stream",
     "text": [
      "\n"
     ]
    },
    {
     "name": "stdout",
     "output_type": "stream",
     "text": [
      "Epoch [68/100] Loss: 0.4319\n",
      "Epoch [68/100] Loss: 0.5681\n",
      "Epoch [68/100] Loss: 0.4274\n",
      "Epoch [68/100] Loss: 0.4931\n",
      "Epoch [68/100] Loss: 0.5935\n",
      "Epoch [68/100] Loss: 0.4708\n",
      "Epoch [68/100] Loss: 0.4309\n",
      "Epoch [68/100] Loss: 0.5050\n",
      "Epoch [68/100] Loss: 0.4956\n",
      "Epoch [68/100] Loss: 0.4909\n",
      "Epoch [68/100] Loss: 0.3600\n",
      "Epoch [68/100] Loss: 0.4475\n",
      "Epoch [68/100] Loss: 0.4871\n"
     ]
    },
    {
     "name": "stderr",
     "output_type": "stream",
     "text": [
      "218it [00:49,  4.43it/s]"
     ]
    },
    {
     "name": "stdout",
     "output_type": "stream",
     "text": [
      "Overall Acc: \t 0.565813075385\n",
      "Mean Acc : \t 0.416789579966\n",
      "FreqW Acc : \t 0.39946161729\n",
      "Mean IoU : \t 0.312194719227\n"
     ]
    },
    {
     "name": "stderr",
     "output_type": "stream",
     "text": [
      "\n"
     ]
    },
    {
     "name": "stdout",
     "output_type": "stream",
     "text": [
      "Epoch [69/100] Loss: 0.5348\n",
      "Epoch [69/100] Loss: 0.5918\n",
      "Epoch [69/100] Loss: 0.4586\n",
      "Epoch [69/100] Loss: 0.4784\n",
      "Epoch [69/100] Loss: 0.4046\n",
      "Epoch [69/100] Loss: 0.5270\n",
      "Epoch [69/100] Loss: 0.3552\n",
      "Epoch [69/100] Loss: 0.5070\n",
      "Epoch [69/100] Loss: 0.4767\n",
      "Epoch [69/100] Loss: 0.3834\n",
      "Epoch [69/100] Loss: 0.4106\n",
      "Epoch [69/100] Loss: 0.3767\n",
      "Epoch [69/100] Loss: 0.4137\n"
     ]
    },
    {
     "name": "stderr",
     "output_type": "stream",
     "text": [
      "218it [00:49,  4.42it/s]"
     ]
    },
    {
     "name": "stdout",
     "output_type": "stream",
     "text": [
      "Overall Acc: \t 0.567619835468\n",
      "Mean Acc : \t 0.415882993343\n",
      "FreqW Acc : \t 0.401096265911\n",
      "Mean IoU : \t 0.313768823808\n"
     ]
    },
    {
     "name": "stderr",
     "output_type": "stream",
     "text": [
      "\n"
     ]
    },
    {
     "name": "stdout",
     "output_type": "stream",
     "text": [
      "Epoch [70/100] Loss: 0.4821\n",
      "Epoch [70/100] Loss: 0.3783\n",
      "Epoch [70/100] Loss: 0.4740\n",
      "Epoch [70/100] Loss: 0.4028\n",
      "Epoch [70/100] Loss: 0.6112\n",
      "Epoch [70/100] Loss: 0.4915\n",
      "Epoch [70/100] Loss: 0.3828\n",
      "Epoch [70/100] Loss: 0.4925\n",
      "Epoch [70/100] Loss: 0.4099\n",
      "Epoch [70/100] Loss: 0.3774\n",
      "Epoch [70/100] Loss: 0.3816\n",
      "Epoch [70/100] Loss: 0.4032\n",
      "Epoch [70/100] Loss: 0.5157\n"
     ]
    },
    {
     "name": "stderr",
     "output_type": "stream",
     "text": [
      "218it [00:49,  4.44it/s]"
     ]
    },
    {
     "name": "stdout",
     "output_type": "stream",
     "text": [
      "Overall Acc: \t 0.56537832091\n",
      "Mean Acc : \t 0.429879115707\n",
      "FreqW Acc : \t 0.398834516217\n",
      "Mean IoU : \t 0.317345895065\n"
     ]
    },
    {
     "name": "stderr",
     "output_type": "stream",
     "text": [
      "\n"
     ]
    },
    {
     "name": "stdout",
     "output_type": "stream",
     "text": [
      "Epoch [71/100] Loss: 0.6089\n",
      "Epoch [71/100] Loss: 0.3809\n",
      "Epoch [71/100] Loss: 0.4785\n",
      "Epoch [71/100] Loss: 0.4008\n",
      "Epoch [71/100] Loss: 0.5317\n",
      "Epoch [71/100] Loss: 0.3924\n",
      "Epoch [71/100] Loss: 0.5089\n",
      "Epoch [71/100] Loss: 0.4185\n",
      "Epoch [71/100] Loss: 0.4776\n",
      "Epoch [71/100] Loss: 0.3075\n",
      "Epoch [71/100] Loss: 0.4213\n",
      "Epoch [71/100] Loss: 0.3758\n",
      "Epoch [71/100] Loss: 0.4294\n"
     ]
    },
    {
     "name": "stderr",
     "output_type": "stream",
     "text": [
      "218it [00:49,  4.42it/s]"
     ]
    },
    {
     "name": "stdout",
     "output_type": "stream",
     "text": [
      "Overall Acc: \t 0.555222513897\n",
      "Mean Acc : \t 0.399612024288\n",
      "FreqW Acc : \t 0.387414855309\n",
      "Mean IoU : \t 0.298598151201\n"
     ]
    },
    {
     "name": "stderr",
     "output_type": "stream",
     "text": [
      "\n"
     ]
    },
    {
     "name": "stdout",
     "output_type": "stream",
     "text": [
      "Epoch [72/100] Loss: 0.5465\n",
      "Epoch [72/100] Loss: 0.3997\n",
      "Epoch [72/100] Loss: 0.3912\n",
      "Epoch [72/100] Loss: 0.3968\n",
      "Epoch [72/100] Loss: 0.5244\n",
      "Epoch [72/100] Loss: 0.3445\n",
      "Epoch [72/100] Loss: 0.4552\n",
      "Epoch [72/100] Loss: 0.3286\n",
      "Epoch [72/100] Loss: 0.3542\n",
      "Epoch [72/100] Loss: 0.2976\n",
      "Epoch [72/100] Loss: 0.3452\n",
      "Epoch [72/100] Loss: 0.4440\n",
      "Epoch [72/100] Loss: 0.5210\n"
     ]
    },
    {
     "name": "stderr",
     "output_type": "stream",
     "text": [
      "218it [00:49,  4.43it/s]"
     ]
    },
    {
     "name": "stdout",
     "output_type": "stream",
     "text": [
      "Overall Acc: \t 0.558414987298\n",
      "Mean Acc : \t 0.412488815092\n",
      "FreqW Acc : \t 0.394226537996\n",
      "Mean IoU : \t 0.305496616469\n"
     ]
    },
    {
     "name": "stderr",
     "output_type": "stream",
     "text": [
      "\n"
     ]
    },
    {
     "name": "stdout",
     "output_type": "stream",
     "text": [
      "Epoch [73/100] Loss: 0.3988\n",
      "Epoch [73/100] Loss: 0.5624\n",
      "Epoch [73/100] Loss: 0.4717\n",
      "Epoch [73/100] Loss: 0.3285\n",
      "Epoch [73/100] Loss: 0.3597\n",
      "Epoch [73/100] Loss: 0.3349\n",
      "Epoch [73/100] Loss: 0.4209\n",
      "Epoch [73/100] Loss: 0.3985\n",
      "Epoch [73/100] Loss: 0.3832\n",
      "Epoch [73/100] Loss: 0.4627\n",
      "Epoch [73/100] Loss: 0.4268\n",
      "Epoch [73/100] Loss: 0.4579\n",
      "Epoch [73/100] Loss: 0.5193\n"
     ]
    },
    {
     "name": "stderr",
     "output_type": "stream",
     "text": [
      "218it [00:49,  4.37it/s]"
     ]
    },
    {
     "name": "stdout",
     "output_type": "stream",
     "text": [
      "Overall Acc: \t 0.563281498869\n",
      "Mean Acc : \t 0.412371260289\n",
      "FreqW Acc : \t 0.396871022232\n",
      "Mean IoU : \t 0.307504851245\n"
     ]
    },
    {
     "name": "stderr",
     "output_type": "stream",
     "text": [
      "\n"
     ]
    },
    {
     "name": "stdout",
     "output_type": "stream",
     "text": [
      "Epoch [74/100] Loss: 0.3209\n",
      "Epoch [74/100] Loss: 0.3292\n",
      "Epoch [74/100] Loss: 0.4509\n",
      "Epoch [74/100] Loss: 0.4146\n",
      "Epoch [74/100] Loss: 0.3065\n",
      "Epoch [74/100] Loss: 0.3768\n",
      "Epoch [74/100] Loss: 0.3203\n",
      "Epoch [74/100] Loss: 0.4187\n",
      "Epoch [74/100] Loss: 0.5045\n",
      "Epoch [74/100] Loss: 0.4423\n",
      "Epoch [74/100] Loss: 0.3087\n",
      "Epoch [74/100] Loss: 0.4901\n",
      "Epoch [74/100] Loss: 0.4204\n"
     ]
    },
    {
     "name": "stderr",
     "output_type": "stream",
     "text": [
      "218it [00:49,  4.41it/s]"
     ]
    },
    {
     "name": "stdout",
     "output_type": "stream",
     "text": [
      "Overall Acc: \t 0.564690869688\n",
      "Mean Acc : \t 0.411672771933\n",
      "FreqW Acc : \t 0.39516982688\n",
      "Mean IoU : \t 0.30571794185\n"
     ]
    },
    {
     "name": "stderr",
     "output_type": "stream",
     "text": [
      "\n"
     ]
    },
    {
     "name": "stdout",
     "output_type": "stream",
     "text": [
      "Epoch [75/100] Loss: 0.4092\n",
      "Epoch [75/100] Loss: 0.4690\n",
      "Epoch [75/100] Loss: 0.3386\n",
      "Epoch [75/100] Loss: 0.4920\n",
      "Epoch [75/100] Loss: 0.3822\n",
      "Epoch [75/100] Loss: 0.3197\n",
      "Epoch [75/100] Loss: 0.4502\n",
      "Epoch [75/100] Loss: 0.3519\n",
      "Epoch [75/100] Loss: 0.3218\n",
      "Epoch [75/100] Loss: 0.3478\n",
      "Epoch [75/100] Loss: 0.3991\n",
      "Epoch [75/100] Loss: 0.4003\n",
      "Epoch [75/100] Loss: 0.5007\n"
     ]
    },
    {
     "name": "stderr",
     "output_type": "stream",
     "text": [
      "218it [00:49,  4.41it/s]"
     ]
    },
    {
     "name": "stdout",
     "output_type": "stream",
     "text": [
      "Overall Acc: \t 0.571554118087\n",
      "Mean Acc : \t 0.42567357844\n",
      "FreqW Acc : \t 0.405351153557\n",
      "Mean IoU : \t 0.31720355469\n"
     ]
    },
    {
     "name": "stderr",
     "output_type": "stream",
     "text": [
      "\n"
     ]
    },
    {
     "name": "stdout",
     "output_type": "stream",
     "text": [
      "Epoch [76/100] Loss: 0.5475\n",
      "Epoch [76/100] Loss: 0.3732\n",
      "Epoch [76/100] Loss: 0.5019\n",
      "Epoch [76/100] Loss: 0.3904\n",
      "Epoch [76/100] Loss: 0.4947\n",
      "Epoch [76/100] Loss: 0.4270\n",
      "Epoch [76/100] Loss: 0.4165\n",
      "Epoch [76/100] Loss: 0.4386\n",
      "Epoch [76/100] Loss: 0.4141\n",
      "Epoch [76/100] Loss: 0.5213\n",
      "Epoch [76/100] Loss: 0.4313\n",
      "Epoch [76/100] Loss: 0.4676\n",
      "Epoch [76/100] Loss: 0.4866\n"
     ]
    },
    {
     "name": "stderr",
     "output_type": "stream",
     "text": [
      "218it [00:49,  4.40it/s]"
     ]
    },
    {
     "name": "stdout",
     "output_type": "stream",
     "text": [
      "Overall Acc: \t 0.554830928262\n",
      "Mean Acc : \t 0.396608656564\n",
      "FreqW Acc : \t 0.388811969701\n",
      "Mean IoU : \t 0.295525096113\n"
     ]
    },
    {
     "name": "stderr",
     "output_type": "stream",
     "text": [
      "\n"
     ]
    },
    {
     "name": "stdout",
     "output_type": "stream",
     "text": [
      "Epoch [77/100] Loss: 0.3349\n",
      "Epoch [77/100] Loss: 0.3123\n",
      "Epoch [77/100] Loss: 0.3408\n",
      "Epoch [77/100] Loss: 0.3098\n",
      "Epoch [77/100] Loss: 0.3267\n",
      "Epoch [77/100] Loss: 0.3692\n",
      "Epoch [77/100] Loss: 0.4807\n",
      "Epoch [77/100] Loss: 0.4046\n",
      "Epoch [77/100] Loss: 0.3999\n",
      "Epoch [77/100] Loss: 0.5033\n",
      "Epoch [77/100] Loss: 0.4660\n",
      "Epoch [77/100] Loss: 0.3962\n",
      "Epoch [77/100] Loss: 0.4284\n"
     ]
    },
    {
     "name": "stderr",
     "output_type": "stream",
     "text": [
      "218it [00:49,  4.41it/s]"
     ]
    },
    {
     "name": "stdout",
     "output_type": "stream",
     "text": [
      "Overall Acc: \t 0.562220873351\n",
      "Mean Acc : \t 0.417961856742\n",
      "FreqW Acc : \t 0.391547425402\n",
      "Mean IoU : \t 0.306810924237\n"
     ]
    },
    {
     "name": "stderr",
     "output_type": "stream",
     "text": [
      "\n"
     ]
    },
    {
     "name": "stdout",
     "output_type": "stream",
     "text": [
      "Epoch [78/100] Loss: 0.4504\n",
      "Epoch [78/100] Loss: 0.3612\n",
      "Epoch [78/100] Loss: 0.5069\n",
      "Epoch [78/100] Loss: 0.3275\n",
      "Epoch [78/100] Loss: 0.4649\n",
      "Epoch [78/100] Loss: 0.3855\n",
      "Epoch [78/100] Loss: 0.4019\n",
      "Epoch [78/100] Loss: 0.4383\n",
      "Epoch [78/100] Loss: 0.4390\n",
      "Epoch [78/100] Loss: 0.3821\n",
      "Epoch [78/100] Loss: 0.4499\n",
      "Epoch [78/100] Loss: 0.3290\n",
      "Epoch [78/100] Loss: 0.3968\n"
     ]
    },
    {
     "name": "stderr",
     "output_type": "stream",
     "text": [
      "218it [00:49,  4.42it/s]"
     ]
    },
    {
     "name": "stdout",
     "output_type": "stream",
     "text": [
      "Overall Acc: \t 0.565812144615\n",
      "Mean Acc : \t 0.429308206397\n",
      "FreqW Acc : \t 0.398890616788\n",
      "Mean IoU : \t 0.317106447391\n"
     ]
    },
    {
     "name": "stderr",
     "output_type": "stream",
     "text": [
      "\n"
     ]
    },
    {
     "name": "stdout",
     "output_type": "stream",
     "text": [
      "Epoch [79/100] Loss: 0.4667\n",
      "Epoch [79/100] Loss: 0.4342\n",
      "Epoch [79/100] Loss: 0.4865\n",
      "Epoch [79/100] Loss: 0.3212\n",
      "Epoch [79/100] Loss: 0.4524\n",
      "Epoch [79/100] Loss: 0.3067\n",
      "Epoch [79/100] Loss: 0.3287\n",
      "Epoch [79/100] Loss: 0.4102\n",
      "Epoch [79/100] Loss: 0.6053\n",
      "Epoch [79/100] Loss: 0.3303\n",
      "Epoch [79/100] Loss: 0.3438\n",
      "Epoch [79/100] Loss: 0.4325\n",
      "Epoch [79/100] Loss: 0.3977\n"
     ]
    },
    {
     "name": "stderr",
     "output_type": "stream",
     "text": [
      "218it [00:49,  4.42it/s]"
     ]
    },
    {
     "name": "stdout",
     "output_type": "stream",
     "text": [
      "Overall Acc: \t 0.564335021662\n",
      "Mean Acc : \t 0.428084769545\n",
      "FreqW Acc : \t 0.400070917936\n",
      "Mean IoU : \t 0.317550867673\n"
     ]
    },
    {
     "name": "stderr",
     "output_type": "stream",
     "text": [
      "\n"
     ]
    },
    {
     "name": "stdout",
     "output_type": "stream",
     "text": [
      "Epoch [80/100] Loss: 0.3052\n",
      "Epoch [80/100] Loss: 0.3798\n",
      "Epoch [80/100] Loss: 0.4095\n",
      "Epoch [80/100] Loss: 0.4282\n",
      "Epoch [80/100] Loss: 0.3261\n",
      "Epoch [80/100] Loss: 0.4003\n",
      "Epoch [80/100] Loss: 0.3511\n",
      "Epoch [80/100] Loss: 0.2779\n",
      "Epoch [80/100] Loss: 0.3649\n",
      "Epoch [80/100] Loss: 0.4466\n",
      "Epoch [80/100] Loss: 0.4699\n",
      "Epoch [80/100] Loss: 0.3908\n",
      "Epoch [80/100] Loss: 0.3213\n"
     ]
    },
    {
     "name": "stderr",
     "output_type": "stream",
     "text": [
      "218it [00:48,  4.47it/s]"
     ]
    },
    {
     "name": "stdout",
     "output_type": "stream",
     "text": [
      "Overall Acc: \t 0.56561556786\n",
      "Mean Acc : \t 0.422530140381\n",
      "FreqW Acc : \t 0.398509679535\n",
      "Mean IoU : \t 0.313073528947\n"
     ]
    },
    {
     "name": "stderr",
     "output_type": "stream",
     "text": [
      "\n"
     ]
    },
    {
     "name": "stdout",
     "output_type": "stream",
     "text": [
      "Epoch [81/100] Loss: 0.4464\n",
      "Epoch [81/100] Loss: 0.3977\n",
      "Epoch [81/100] Loss: 0.3371\n",
      "Epoch [81/100] Loss: 0.4225\n",
      "Epoch [81/100] Loss: 0.5135\n",
      "Epoch [81/100] Loss: 0.5761\n",
      "Epoch [81/100] Loss: 0.3924\n",
      "Epoch [81/100] Loss: 0.3677\n",
      "Epoch [81/100] Loss: 0.3713\n",
      "Epoch [81/100] Loss: 0.3892\n",
      "Epoch [81/100] Loss: 0.4641\n",
      "Epoch [81/100] Loss: 0.2497\n",
      "Epoch [81/100] Loss: 0.3949\n"
     ]
    },
    {
     "name": "stderr",
     "output_type": "stream",
     "text": [
      "218it [00:49,  4.41it/s]"
     ]
    },
    {
     "name": "stdout",
     "output_type": "stream",
     "text": [
      "Overall Acc: \t 0.564561965429\n",
      "Mean Acc : \t 0.406290478127\n",
      "FreqW Acc : \t 0.396667022848\n",
      "Mean IoU : \t 0.307681467351\n"
     ]
    },
    {
     "name": "stderr",
     "output_type": "stream",
     "text": [
      "\n"
     ]
    },
    {
     "name": "stdout",
     "output_type": "stream",
     "text": [
      "Epoch [82/100] Loss: 0.3228\n",
      "Epoch [82/100] Loss: 0.3560\n",
      "Epoch [82/100] Loss: 0.4433\n",
      "Epoch [82/100] Loss: 0.3481\n",
      "Epoch [82/100] Loss: 0.4497\n",
      "Epoch [82/100] Loss: 0.3694\n",
      "Epoch [82/100] Loss: 0.5326\n",
      "Epoch [82/100] Loss: 0.3571\n",
      "Epoch [82/100] Loss: 0.4065\n",
      "Epoch [82/100] Loss: 0.4090\n",
      "Epoch [82/100] Loss: 0.3368\n",
      "Epoch [82/100] Loss: 0.4563\n",
      "Epoch [82/100] Loss: 0.5677\n"
     ]
    },
    {
     "name": "stderr",
     "output_type": "stream",
     "text": [
      "218it [00:49,  4.44it/s]"
     ]
    },
    {
     "name": "stdout",
     "output_type": "stream",
     "text": [
      "Overall Acc: \t 0.562598124124\n",
      "Mean Acc : \t 0.417830795617\n",
      "FreqW Acc : \t 0.396490030298\n",
      "Mean IoU : \t 0.310161750493\n"
     ]
    },
    {
     "name": "stderr",
     "output_type": "stream",
     "text": [
      "\n"
     ]
    },
    {
     "name": "stdout",
     "output_type": "stream",
     "text": [
      "Epoch [83/100] Loss: 0.5679\n",
      "Epoch [83/100] Loss: 0.3198\n",
      "Epoch [83/100] Loss: 0.3716\n",
      "Epoch [83/100] Loss: 0.2812\n",
      "Epoch [83/100] Loss: 0.4470\n",
      "Epoch [83/100] Loss: 0.5187\n",
      "Epoch [83/100] Loss: 0.2605\n",
      "Epoch [83/100] Loss: 0.4068\n",
      "Epoch [83/100] Loss: 0.4206\n",
      "Epoch [83/100] Loss: 0.3407\n",
      "Epoch [83/100] Loss: 0.4470\n",
      "Epoch [83/100] Loss: 0.3156\n",
      "Epoch [83/100] Loss: 0.4023\n"
     ]
    },
    {
     "name": "stderr",
     "output_type": "stream",
     "text": [
      "218it [00:49,  4.43it/s]"
     ]
    },
    {
     "name": "stdout",
     "output_type": "stream",
     "text": [
      "Overall Acc: \t 0.565519215684\n",
      "Mean Acc : \t 0.427184618853\n",
      "FreqW Acc : \t 0.396943362088\n",
      "Mean IoU : \t 0.315111901939\n"
     ]
    },
    {
     "name": "stderr",
     "output_type": "stream",
     "text": [
      "\n"
     ]
    },
    {
     "name": "stdout",
     "output_type": "stream",
     "text": [
      "Epoch [84/100] Loss: 0.3638\n",
      "Epoch [84/100] Loss: 0.3598\n",
      "Epoch [84/100] Loss: 0.3379\n",
      "Epoch [84/100] Loss: 0.3407\n",
      "Epoch [84/100] Loss: 0.4237\n",
      "Epoch [84/100] Loss: 0.4199\n",
      "Epoch [84/100] Loss: 0.3353\n",
      "Epoch [84/100] Loss: 0.4076\n",
      "Epoch [84/100] Loss: 0.4112\n",
      "Epoch [84/100] Loss: 0.4886\n",
      "Epoch [84/100] Loss: 0.3649\n",
      "Epoch [84/100] Loss: 0.3882\n",
      "Epoch [84/100] Loss: 0.4191\n"
     ]
    },
    {
     "name": "stderr",
     "output_type": "stream",
     "text": [
      "218it [00:49,  4.40it/s]"
     ]
    },
    {
     "name": "stdout",
     "output_type": "stream",
     "text": [
      "Overall Acc: \t 0.560666586033\n",
      "Mean Acc : \t 0.397656867056\n",
      "FreqW Acc : \t 0.394202574187\n",
      "Mean IoU : \t 0.301574782626\n"
     ]
    },
    {
     "name": "stderr",
     "output_type": "stream",
     "text": [
      "\n"
     ]
    },
    {
     "name": "stdout",
     "output_type": "stream",
     "text": [
      "Epoch [85/100] Loss: 0.3337\n",
      "Epoch [85/100] Loss: 0.6377\n",
      "Epoch [85/100] Loss: 0.4418\n",
      "Epoch [85/100] Loss: 0.3863\n",
      "Epoch [85/100] Loss: 0.4373\n",
      "Epoch [85/100] Loss: 0.2655\n",
      "Epoch [85/100] Loss: 0.4531\n",
      "Epoch [85/100] Loss: 0.3612\n",
      "Epoch [85/100] Loss: 0.4153\n",
      "Epoch [85/100] Loss: 0.4191\n",
      "Epoch [85/100] Loss: 0.4319\n",
      "Epoch [85/100] Loss: 0.4577\n",
      "Epoch [85/100] Loss: 0.4113\n"
     ]
    },
    {
     "name": "stderr",
     "output_type": "stream",
     "text": [
      "218it [00:49,  4.42it/s]"
     ]
    },
    {
     "name": "stdout",
     "output_type": "stream",
     "text": [
      "Overall Acc: \t 0.557859725408\n",
      "Mean Acc : \t 0.423940738495\n",
      "FreqW Acc : \t 0.392476757008\n",
      "Mean IoU : \t 0.314442266383\n"
     ]
    },
    {
     "name": "stderr",
     "output_type": "stream",
     "text": [
      "\n"
     ]
    },
    {
     "name": "stdout",
     "output_type": "stream",
     "text": [
      "Epoch [86/100] Loss: 0.3252\n",
      "Epoch [86/100] Loss: 0.3379\n",
      "Epoch [86/100] Loss: 0.4534\n",
      "Epoch [86/100] Loss: 0.3268\n",
      "Epoch [86/100] Loss: 0.4459\n",
      "Epoch [86/100] Loss: 0.3357\n",
      "Epoch [86/100] Loss: 0.4582\n",
      "Epoch [86/100] Loss: 0.3619\n",
      "Epoch [86/100] Loss: 0.3283\n",
      "Epoch [86/100] Loss: 0.4280\n",
      "Epoch [86/100] Loss: 0.4182\n",
      "Epoch [86/100] Loss: 0.3935\n",
      "Epoch [86/100] Loss: 0.3843\n"
     ]
    },
    {
     "name": "stderr",
     "output_type": "stream",
     "text": [
      "218it [00:49,  4.45it/s]"
     ]
    },
    {
     "name": "stdout",
     "output_type": "stream",
     "text": [
      "Overall Acc: \t 0.56330076134\n",
      "Mean Acc : \t 0.410596311336\n",
      "FreqW Acc : \t 0.400580066127\n",
      "Mean IoU : \t 0.308842449739\n"
     ]
    },
    {
     "name": "stderr",
     "output_type": "stream",
     "text": [
      "\n"
     ]
    },
    {
     "name": "stdout",
     "output_type": "stream",
     "text": [
      "Epoch [87/100] Loss: 0.2957\n",
      "Epoch [87/100] Loss: 0.4469\n",
      "Epoch [87/100] Loss: 0.3821\n",
      "Epoch [87/100] Loss: 0.4524\n",
      "Epoch [87/100] Loss: 0.4017\n",
      "Epoch [87/100] Loss: 0.3087\n",
      "Epoch [87/100] Loss: 0.3759\n",
      "Epoch [87/100] Loss: 0.5029\n",
      "Epoch [87/100] Loss: 0.3716\n",
      "Epoch [87/100] Loss: 0.3417\n",
      "Epoch [87/100] Loss: 0.4339\n",
      "Epoch [87/100] Loss: 0.2766\n",
      "Epoch [87/100] Loss: 0.4403\n"
     ]
    },
    {
     "name": "stderr",
     "output_type": "stream",
     "text": [
      "218it [00:49,  4.44it/s]"
     ]
    },
    {
     "name": "stdout",
     "output_type": "stream",
     "text": [
      "Overall Acc: \t 0.567571923181\n",
      "Mean Acc : \t 0.41977099519\n",
      "FreqW Acc : \t 0.398905410113\n",
      "Mean IoU : \t 0.313888357145\n"
     ]
    },
    {
     "name": "stderr",
     "output_type": "stream",
     "text": [
      "\n"
     ]
    },
    {
     "name": "stdout",
     "output_type": "stream",
     "text": [
      "Epoch [88/100] Loss: 0.4318\n",
      "Epoch [88/100] Loss: 0.3126\n",
      "Epoch [88/100] Loss: 0.4182\n",
      "Epoch [88/100] Loss: 0.2921\n",
      "Epoch [88/100] Loss: 0.4876\n",
      "Epoch [88/100] Loss: 0.5349\n",
      "Epoch [88/100] Loss: 0.4152\n",
      "Epoch [88/100] Loss: 0.5185\n",
      "Epoch [88/100] Loss: 0.4754\n",
      "Epoch [88/100] Loss: 0.3241\n",
      "Epoch [88/100] Loss: 0.5234\n",
      "Epoch [88/100] Loss: 0.3242\n",
      "Epoch [88/100] Loss: 0.3134\n"
     ]
    },
    {
     "name": "stderr",
     "output_type": "stream",
     "text": [
      "218it [00:49,  4.42it/s]"
     ]
    },
    {
     "name": "stdout",
     "output_type": "stream",
     "text": [
      "Overall Acc: \t 0.558567683446\n",
      "Mean Acc : \t 0.422905078947\n",
      "FreqW Acc : \t 0.391624489905\n",
      "Mean IoU : \t 0.313587158728\n"
     ]
    },
    {
     "name": "stderr",
     "output_type": "stream",
     "text": [
      "\n"
     ]
    },
    {
     "name": "stdout",
     "output_type": "stream",
     "text": [
      "Epoch [89/100] Loss: 0.3431\n",
      "Epoch [89/100] Loss: 0.4045\n",
      "Epoch [89/100] Loss: 0.4911\n",
      "Epoch [89/100] Loss: 0.4471\n",
      "Epoch [89/100] Loss: 0.4682\n",
      "Epoch [89/100] Loss: 0.4311\n",
      "Epoch [89/100] Loss: 0.3402\n",
      "Epoch [89/100] Loss: 0.3911\n",
      "Epoch [89/100] Loss: 0.4930\n",
      "Epoch [89/100] Loss: 0.4774\n",
      "Epoch [89/100] Loss: 0.4543\n",
      "Epoch [89/100] Loss: 0.3990\n",
      "Epoch [89/100] Loss: 0.4313\n"
     ]
    },
    {
     "name": "stderr",
     "output_type": "stream",
     "text": [
      "218it [00:49,  4.41it/s]"
     ]
    },
    {
     "name": "stdout",
     "output_type": "stream",
     "text": [
      "Overall Acc: \t 0.56400548408\n",
      "Mean Acc : \t 0.417312078273\n",
      "FreqW Acc : \t 0.399532552416\n",
      "Mean IoU : \t 0.313507194629\n"
     ]
    },
    {
     "name": "stderr",
     "output_type": "stream",
     "text": [
      "\n"
     ]
    },
    {
     "name": "stdout",
     "output_type": "stream",
     "text": [
      "Epoch [90/100] Loss: 0.3302\n",
      "Epoch [90/100] Loss: 0.4358\n",
      "Epoch [90/100] Loss: 0.4107\n",
      "Epoch [90/100] Loss: 0.4516\n",
      "Epoch [90/100] Loss: 0.3526\n",
      "Epoch [90/100] Loss: 0.4147\n",
      "Epoch [90/100] Loss: 0.5033\n",
      "Epoch [90/100] Loss: 0.5010\n",
      "Epoch [90/100] Loss: 0.2469\n",
      "Epoch [90/100] Loss: 0.4783\n",
      "Epoch [90/100] Loss: 0.3252\n",
      "Epoch [90/100] Loss: 0.4252\n",
      "Epoch [90/100] Loss: 0.2493\n"
     ]
    },
    {
     "name": "stderr",
     "output_type": "stream",
     "text": [
      "218it [00:48,  4.46it/s]"
     ]
    },
    {
     "name": "stdout",
     "output_type": "stream",
     "text": [
      "Overall Acc: \t 0.561103256801\n",
      "Mean Acc : \t 0.402614989502\n",
      "FreqW Acc : \t 0.393631054976\n",
      "Mean IoU : \t 0.304371389552\n"
     ]
    },
    {
     "name": "stderr",
     "output_type": "stream",
     "text": [
      "\n"
     ]
    },
    {
     "name": "stdout",
     "output_type": "stream",
     "text": [
      "Epoch [91/100] Loss: 0.5225\n",
      "Epoch [91/100] Loss: 0.2611\n",
      "Epoch [91/100] Loss: 0.5006\n",
      "Epoch [91/100] Loss: 0.4527\n",
      "Epoch [91/100] Loss: 0.3739\n",
      "Epoch [91/100] Loss: 0.3715\n",
      "Epoch [91/100] Loss: 0.4687\n",
      "Epoch [91/100] Loss: 0.4165\n",
      "Epoch [91/100] Loss: 0.4651\n",
      "Epoch [91/100] Loss: 0.3687\n",
      "Epoch [91/100] Loss: 0.2916\n",
      "Epoch [91/100] Loss: 0.3558\n",
      "Epoch [91/100] Loss: 0.4214\n"
     ]
    },
    {
     "name": "stderr",
     "output_type": "stream",
     "text": [
      "218it [00:49,  4.44it/s]"
     ]
    },
    {
     "name": "stdout",
     "output_type": "stream",
     "text": [
      "Overall Acc: \t 0.555331035773\n",
      "Mean Acc : \t 0.40594923679\n",
      "FreqW Acc : \t 0.38988434215\n",
      "Mean IoU : \t 0.299029485373\n"
     ]
    },
    {
     "name": "stderr",
     "output_type": "stream",
     "text": [
      "\n"
     ]
    },
    {
     "name": "stdout",
     "output_type": "stream",
     "text": [
      "Epoch [92/100] Loss: 0.3648\n",
      "Epoch [92/100] Loss: 0.4008\n",
      "Epoch [92/100] Loss: 0.2962\n",
      "Epoch [92/100] Loss: 0.4317\n",
      "Epoch [92/100] Loss: 0.3550\n",
      "Epoch [92/100] Loss: 0.2271\n",
      "Epoch [92/100] Loss: 0.3286\n",
      "Epoch [92/100] Loss: 0.2607\n",
      "Epoch [92/100] Loss: 0.5126\n",
      "Epoch [92/100] Loss: 0.4208\n",
      "Epoch [92/100] Loss: 0.2945\n",
      "Epoch [92/100] Loss: 0.3450\n",
      "Epoch [92/100] Loss: 0.5264\n"
     ]
    },
    {
     "name": "stderr",
     "output_type": "stream",
     "text": [
      "218it [00:49,  4.38it/s]"
     ]
    },
    {
     "name": "stdout",
     "output_type": "stream",
     "text": [
      "Overall Acc: \t 0.56277596601\n",
      "Mean Acc : \t 0.416095905325\n",
      "FreqW Acc : \t 0.396954854513\n",
      "Mean IoU : \t 0.307892516833\n"
     ]
    },
    {
     "name": "stderr",
     "output_type": "stream",
     "text": [
      "\n"
     ]
    },
    {
     "name": "stdout",
     "output_type": "stream",
     "text": [
      "Epoch [93/100] Loss: 0.5219\n",
      "Epoch [93/100] Loss: 0.3327\n",
      "Epoch [93/100] Loss: 0.4077\n",
      "Epoch [93/100] Loss: 0.2864\n",
      "Epoch [93/100] Loss: 0.3845\n",
      "Epoch [93/100] Loss: 0.3925\n",
      "Epoch [93/100] Loss: 0.3759\n",
      "Epoch [93/100] Loss: 0.2328\n",
      "Epoch [93/100] Loss: 0.3733\n",
      "Epoch [93/100] Loss: 0.3555\n",
      "Epoch [93/100] Loss: 0.2300\n",
      "Epoch [93/100] Loss: 0.3756\n",
      "Epoch [93/100] Loss: 0.4369\n"
     ]
    },
    {
     "name": "stderr",
     "output_type": "stream",
     "text": [
      "218it [00:49,  4.38it/s]"
     ]
    },
    {
     "name": "stdout",
     "output_type": "stream",
     "text": [
      "Overall Acc: \t 0.555691154394\n",
      "Mean Acc : \t 0.411995693239\n",
      "FreqW Acc : \t 0.394508204054\n",
      "Mean IoU : \t 0.311366670477\n"
     ]
    },
    {
     "name": "stderr",
     "output_type": "stream",
     "text": [
      "\n"
     ]
    },
    {
     "name": "stdout",
     "output_type": "stream",
     "text": [
      "Epoch [94/100] Loss: 0.2668\n",
      "Epoch [94/100] Loss: 0.3648\n",
      "Epoch [94/100] Loss: 0.3347\n",
      "Epoch [94/100] Loss: 0.3032\n",
      "Epoch [94/100] Loss: 0.4385\n",
      "Epoch [94/100] Loss: 0.4226\n",
      "Epoch [94/100] Loss: 0.4193\n",
      "Epoch [94/100] Loss: 0.2551\n",
      "Epoch [94/100] Loss: 0.3393\n",
      "Epoch [94/100] Loss: 0.3985\n",
      "Epoch [94/100] Loss: 0.4059\n",
      "Epoch [94/100] Loss: 0.2870\n",
      "Epoch [94/100] Loss: 0.3355\n"
     ]
    },
    {
     "name": "stderr",
     "output_type": "stream",
     "text": [
      "218it [00:49,  4.44it/s]"
     ]
    },
    {
     "name": "stdout",
     "output_type": "stream",
     "text": [
      "Overall Acc: \t 0.560845289007\n",
      "Mean Acc : \t 0.418191095366\n",
      "FreqW Acc : \t 0.391964875039\n",
      "Mean IoU : \t 0.310283220191\n"
     ]
    },
    {
     "name": "stderr",
     "output_type": "stream",
     "text": [
      "\n"
     ]
    },
    {
     "name": "stdout",
     "output_type": "stream",
     "text": [
      "Epoch [95/100] Loss: 0.3332\n",
      "Epoch [95/100] Loss: 0.2818\n",
      "Epoch [95/100] Loss: 0.3377\n",
      "Epoch [95/100] Loss: 0.3369\n",
      "Epoch [95/100] Loss: 0.4654\n",
      "Epoch [95/100] Loss: 0.3042\n",
      "Epoch [95/100] Loss: 0.3654\n",
      "Epoch [95/100] Loss: 0.4017\n",
      "Epoch [95/100] Loss: 0.3689\n",
      "Epoch [95/100] Loss: 0.4006\n",
      "Epoch [95/100] Loss: 0.3610\n",
      "Epoch [95/100] Loss: 0.3073\n",
      "Epoch [95/100] Loss: 0.4401\n"
     ]
    },
    {
     "name": "stderr",
     "output_type": "stream",
     "text": [
      "218it [00:49,  4.42it/s]"
     ]
    },
    {
     "name": "stdout",
     "output_type": "stream",
     "text": [
      "Overall Acc: \t 0.564681960173\n",
      "Mean Acc : \t 0.429918201903\n",
      "FreqW Acc : \t 0.401341653619\n",
      "Mean IoU : \t 0.319397219028\n"
     ]
    },
    {
     "name": "stderr",
     "output_type": "stream",
     "text": [
      "\n"
     ]
    },
    {
     "name": "stdout",
     "output_type": "stream",
     "text": [
      "Epoch [96/100] Loss: 0.3795\n",
      "Epoch [96/100] Loss: 0.3795\n",
      "Epoch [96/100] Loss: 0.4021\n",
      "Epoch [96/100] Loss: 0.3866\n",
      "Epoch [96/100] Loss: 0.3782\n",
      "Epoch [96/100] Loss: 0.3900\n",
      "Epoch [96/100] Loss: 0.5181\n",
      "Epoch [96/100] Loss: 0.3512\n",
      "Epoch [96/100] Loss: 0.4196\n",
      "Epoch [96/100] Loss: 0.4677\n",
      "Epoch [96/100] Loss: 0.4311\n",
      "Epoch [96/100] Loss: 0.3542\n",
      "Epoch [96/100] Loss: 0.3408\n"
     ]
    },
    {
     "name": "stderr",
     "output_type": "stream",
     "text": [
      "218it [00:49,  4.40it/s]"
     ]
    },
    {
     "name": "stdout",
     "output_type": "stream",
     "text": [
      "Overall Acc: \t 0.560818062723\n",
      "Mean Acc : \t 0.403711487109\n",
      "FreqW Acc : \t 0.393690131891\n",
      "Mean IoU : \t 0.300614933346\n"
     ]
    },
    {
     "name": "stderr",
     "output_type": "stream",
     "text": [
      "\n"
     ]
    },
    {
     "name": "stdout",
     "output_type": "stream",
     "text": [
      "Epoch [97/100] Loss: 0.3783\n",
      "Epoch [97/100] Loss: 0.4676\n",
      "Epoch [97/100] Loss: 0.4200\n",
      "Epoch [97/100] Loss: 0.3409\n",
      "Epoch [97/100] Loss: 0.2576\n",
      "Epoch [97/100] Loss: 0.3453\n",
      "Epoch [97/100] Loss: 0.2744\n",
      "Epoch [97/100] Loss: 0.3718\n",
      "Epoch [97/100] Loss: 0.4284\n",
      "Epoch [97/100] Loss: 0.3620\n",
      "Epoch [97/100] Loss: 0.3540\n",
      "Epoch [97/100] Loss: 0.3910\n",
      "Epoch [97/100] Loss: 0.5785\n"
     ]
    },
    {
     "name": "stderr",
     "output_type": "stream",
     "text": [
      "218it [00:49,  4.42it/s]"
     ]
    },
    {
     "name": "stdout",
     "output_type": "stream",
     "text": [
      "Overall Acc: \t 0.570246624339\n",
      "Mean Acc : \t 0.434449727191\n",
      "FreqW Acc : \t 0.400829831127\n",
      "Mean IoU : \t 0.31946836522\n"
     ]
    },
    {
     "name": "stderr",
     "output_type": "stream",
     "text": [
      "\n"
     ]
    },
    {
     "name": "stdout",
     "output_type": "stream",
     "text": [
      "Epoch [98/100] Loss: 0.2957\n",
      "Epoch [98/100] Loss: 0.2750\n",
      "Epoch [98/100] Loss: 0.2946\n",
      "Epoch [98/100] Loss: 0.3664\n",
      "Epoch [98/100] Loss: 0.4907\n",
      "Epoch [98/100] Loss: 0.4920\n",
      "Epoch [98/100] Loss: 0.3274\n",
      "Epoch [98/100] Loss: 0.4808\n",
      "Epoch [98/100] Loss: 0.2891\n",
      "Epoch [98/100] Loss: 0.3568\n",
      "Epoch [98/100] Loss: 0.2890\n",
      "Epoch [98/100] Loss: 0.3278\n",
      "Epoch [98/100] Loss: 0.3292\n"
     ]
    },
    {
     "name": "stderr",
     "output_type": "stream",
     "text": [
      "218it [00:49,  4.45it/s]"
     ]
    },
    {
     "name": "stdout",
     "output_type": "stream",
     "text": [
      "Overall Acc: \t 0.5648143486\n",
      "Mean Acc : \t 0.41694765533\n",
      "FreqW Acc : \t 0.399325962994\n",
      "Mean IoU : \t 0.31355190166\n"
     ]
    },
    {
     "name": "stderr",
     "output_type": "stream",
     "text": [
      "\n"
     ]
    },
    {
     "name": "stdout",
     "output_type": "stream",
     "text": [
      "Epoch [99/100] Loss: 0.4152\n",
      "Epoch [99/100] Loss: 0.2841\n",
      "Epoch [99/100] Loss: 0.3719\n",
      "Epoch [99/100] Loss: 0.3633\n",
      "Epoch [99/100] Loss: 0.4392\n",
      "Epoch [99/100] Loss: 0.3702\n",
      "Epoch [99/100] Loss: 0.3556\n",
      "Epoch [99/100] Loss: 0.3182\n",
      "Epoch [99/100] Loss: 0.2592\n",
      "Epoch [99/100] Loss: 0.3076\n",
      "Epoch [99/100] Loss: 0.3689\n",
      "Epoch [99/100] Loss: 0.4170\n",
      "Epoch [99/100] Loss: 0.3524\n"
     ]
    },
    {
     "name": "stderr",
     "output_type": "stream",
     "text": [
      "218it [00:49,  4.43it/s]"
     ]
    },
    {
     "name": "stdout",
     "output_type": "stream",
     "text": [
      "Overall Acc: \t 0.569915379515\n",
      "Mean Acc : \t 0.428382190098\n",
      "FreqW Acc : \t 0.402049483341\n",
      "Mean IoU : \t 0.320547212157\n"
     ]
    },
    {
     "name": "stderr",
     "output_type": "stream",
     "text": [
      "\n"
     ]
    },
    {
     "name": "stdout",
     "output_type": "stream",
     "text": [
      "Epoch [100/100] Loss: 0.3848\n",
      "Epoch [100/100] Loss: 0.4147\n",
      "Epoch [100/100] Loss: 0.4140\n",
      "Epoch [100/100] Loss: 0.3513\n",
      "Epoch [100/100] Loss: 0.2785\n",
      "Epoch [100/100] Loss: 0.2577\n",
      "Epoch [100/100] Loss: 0.4538\n",
      "Epoch [100/100] Loss: 0.4043\n",
      "Epoch [100/100] Loss: 0.3455\n",
      "Epoch [100/100] Loss: 0.3329\n",
      "Epoch [100/100] Loss: 0.2858\n",
      "Epoch [100/100] Loss: 0.4156\n",
      "Epoch [100/100] Loss: 0.3618\n"
     ]
    },
    {
     "name": "stderr",
     "output_type": "stream",
     "text": [
      "218it [00:49,  4.41it/s]"
     ]
    },
    {
     "name": "stdout",
     "output_type": "stream",
     "text": [
      "Overall Acc: \t 0.562834231253\n",
      "Mean Acc : \t 0.424420806848\n",
      "FreqW Acc : \t 0.400449627758\n",
      "Mean IoU : \t 0.316227414527\n"
     ]
    },
    {
     "name": "stderr",
     "output_type": "stream",
     "text": [
      "\n"
     ]
    }
   ],
   "source": [
    "best_iou = -100.0 \n",
    "for epoch in range(args.n_epoch):\n",
    "    model.train()\n",
    "    for i, (color_imgs, depth_imgs, label_imgs) in enumerate(trainloader):\n",
    "        color_imgs = Variable(color_imgs.cuda())\n",
    "        depth_imgs = Variable(depth_imgs.cuda())\n",
    "        label_imgs = Variable(label_imgs.cuda())\n",
    "\n",
    "        optimizer.zero_grad()\n",
    "        outputs = model(color_imgs,depth_imgs)\n",
    "\n",
    "        loss = loss_fn(input=outputs, target=label_imgs)\n",
    "\n",
    "        loss.backward()\n",
    "        optimizer.step()\n",
    "\n",
    "        if args.visdom:\n",
    "            vis.line(\n",
    "                X=torch.ones((1, 1)).cpu() * i,\n",
    "                Y=torch.Tensor([loss.data[0]]).unsqueeze(0).cpu(),\n",
    "                win=loss_window,\n",
    "                update='append')\n",
    "\n",
    "        if (i+1) % 20 == 0:\n",
    "            print(\"Epoch [%d/%d] Loss: %.4f\" % (epoch+1, args.n_epoch, loss.data[0]))\n",
    "\n",
    "    model.eval()\n",
    "    for i_val, (color_images_val, depth_images_val, label_images_val) in tqdm(enumerate(valloader)):\n",
    "        color_images_val = Variable(color_images_val.cuda(), volatile=True)\n",
    "        depth_images_val = Variable(depth_images_val.cuda(), volatile=True)\n",
    "        label_images_val = Variable(label_images_val.cuda(), volatile=True)\n",
    "\n",
    "        outputs = model(color_images_val, depth_images_val)\n",
    "        pred = outputs.data.max(1)[1].cpu().numpy()\n",
    "        gt = label_images_val.data.cpu().numpy()\n",
    "        running_metrics.update(gt, pred)\n",
    "\n",
    "    score, class_iou = running_metrics.get_scores()\n",
    "    for k, v in score.items():\n",
    "        print(k, v)\n",
    "    running_metrics.reset()\n",
    "\n",
    "    if score['Mean IoU : \\t'] >= best_iou:\n",
    "        best_iou = score['Mean IoU : \\t']\n",
    "        state = {'epoch': epoch+1,\n",
    "                 'model_state': model.state_dict(),\n",
    "                 'optimizer_state' : optimizer.state_dict(),}\n",
    "        torch.save(state, \"../model_weights/{}_{}_best_model.pkl\".format(args.arch, 'NYUDv2'))"
   ]
  },
  {
   "cell_type": "markdown",
   "metadata": {},
   "source": [
    "# Training.. fcn_hha on NYUDv2"
   ]
  },
  {
   "cell_type": "markdown",
   "metadata": {},
   "source": [
    "결과가 별로 안좋네..?\n",
    "그냥 뎁스 쓴거보다.. hha쓴게 더 안좋아.. 흠..."
   ]
  },
  {
   "cell_type": "code",
   "execution_count": null,
   "metadata": {},
   "outputs": [],
   "source": []
  }
 ],
 "metadata": {
  "kernelspec": {
   "display_name": "Python [conda env:pytorch]",
   "language": "python",
   "name": "conda-env-pytorch-py"
  },
  "language_info": {
   "codemirror_mode": {
    "name": "ipython",
    "version": 3
   },
   "file_extension": ".py",
   "mimetype": "text/x-python",
   "name": "python",
   "nbconvert_exporter": "python",
   "pygments_lexer": "ipython3",
   "version": "3.6.3"
  }
 },
 "nbformat": 4,
 "nbformat_minor": 2
}
