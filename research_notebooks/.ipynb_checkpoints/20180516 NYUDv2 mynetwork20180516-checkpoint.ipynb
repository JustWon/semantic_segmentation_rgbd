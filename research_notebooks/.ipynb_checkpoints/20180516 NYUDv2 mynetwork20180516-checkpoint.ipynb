{
 "cells": [
  {
   "cell_type": "code",
   "execution_count": null,
   "metadata": {},
   "outputs": [],
   "source": [
    "%matplotlib inline\n",
    "import os\n",
    "import collections\n",
    "import torch\n",
    "import torchvision\n",
    "import numpy as np\n",
    "import scipy.misc as m\n",
    "import scipy.io as io\n",
    "import matplotlib.pyplot as plt\n",
    "\n",
    "from NYUDv2Loader import *\n",
    "\n",
    "os.environ['CUDA_VISIBLE_DEVICES'] = '3'\n",
    "data_path = '/home/dongwonshin/Desktop/Datasets/NYUDv2/'\n",
    "arg_string = '--arch mynetwork20180516 --batch_size 3'"
   ]
  },
  {
   "cell_type": "markdown",
   "metadata": {},
   "source": [
    "# Argument setting"
   ]
  },
  {
   "cell_type": "code",
   "execution_count": null,
   "metadata": {},
   "outputs": [],
   "source": [
    "import sys, os\n",
    "import torch\n",
    "import visdom\n",
    "import argparse\n",
    "import numpy as np\n",
    "import torch.nn as nn\n",
    "import torch.nn.functional as F\n",
    "import torchvision.models as models\n",
    "\n",
    "from torch.autograd import Variable\n",
    "from torch.utils import data\n",
    "from tqdm import tqdm\n",
    "\n",
    "from ptsemseg.models import get_model\n",
    "from ptsemseg.loader import get_loader, get_data_path\n",
    "from ptsemseg.metrics import runningScore\n",
    "from ptsemseg.loss import *\n",
    "from ptsemseg.augmentations import *\n",
    "\n",
    "\n",
    "parser = argparse.ArgumentParser(description='Hyperparams')\n",
    "parser.add_argument('--arch', nargs='?', type=str, default='fcn8s', help='Architecture to use [\\'fcn8s, unet, segnet etc\\']')\n",
    "parser.add_argument('--img_rows', nargs='?', type=int, default=256, help='Height of the input image')\n",
    "parser.add_argument('--img_cols', nargs='?', type=int, default=256, help='Width of the input image')\n",
    "\n",
    "parser.add_argument('--img_norm', dest='img_norm', action='store_true', help='Enable input image scales normalization [0, 1] | True by default')\n",
    "parser.add_argument('--no-img_norm', dest='img_norm', action='store_false', help='Disable input image scales normalization [0, 1] | True by default')\n",
    "parser.set_defaults(img_norm=True)\n",
    "\n",
    "parser.add_argument('--n_epoch', nargs='?', type=int, default=100, help='# of the epochs')\n",
    "parser.add_argument('--batch_size', nargs='?', type=int, default=1, help='Batch Size')\n",
    "parser.add_argument('--l_rate', nargs='?', type=float, default=1e-5, help='Learning Rate')\n",
    "parser.add_argument('--feature_scale', nargs='?', type=int, default=1, help='Divider for # of features to use')\n",
    "parser.add_argument('--resume', nargs='?', type=str, default=None, help='Path to previous saved model to restart from')\n",
    "\n",
    "parser.add_argument('--visdom', dest='visdom', action='store_true', help='Enable visualization(s) on visdom | False by default')\n",
    "parser.add_argument('--no-visdom', dest='visdom', action='store_false', help='Disable visualization(s) on visdom | False by default')\n",
    "parser.set_defaults(visdom=False)"
   ]
  },
  {
   "cell_type": "code",
   "execution_count": null,
   "metadata": {},
   "outputs": [],
   "source": [
    "args = parser.parse_args(arg_string.split(' '))\n",
    "\n",
    "# Setup Augmentations\n",
    "data_aug= Compose([RandomRotate(10), RandomHorizontallyFlip()])\n",
    "\n",
    "# Setup Dataloader\n",
    "t_loader = NYUDv2Loader(data_path, is_transform=True)\n",
    "v_loader = NYUDv2Loader(data_path, is_transform=True, split='val')\n",
    "\n",
    "n_classes = t_loader.n_classes\n",
    "trainloader = data.DataLoader(t_loader, batch_size=args.batch_size, num_workers=16, shuffle=True)\n",
    "valloader = data.DataLoader(v_loader, batch_size=args.batch_size, num_workers=16)\n",
    "\n",
    "# Setup Metrics\n",
    "running_metrics = runningScore(n_classes)\n",
    "\n",
    "# Setup visdom for visualization\n",
    "if args.visdom:\n",
    "    vis = visdom.Visdom()\n",
    "\n",
    "    loss_window = vis.line(X=torch.zeros((1,)).cpu(),\n",
    "                       Y=torch.zeros((1)).cpu(),\n",
    "                       opts=dict(xlabel='minibatches',\n",
    "                                 ylabel='Loss',\n",
    "                                 title='Training Loss',\n",
    "                                 legend=['Loss']))\n",
    "\n",
    "# Setup Model\n",
    "model = get_model(args.arch, n_classes)\n",
    "\n",
    "model = torch.nn.DataParallel(model, device_ids=range(torch.cuda.device_count()))\n",
    "model.cuda()\n",
    "\n",
    "# Check if model has custom optimizer / loss\n",
    "if hasattr(model.module, 'optimizer'):\n",
    "    optimizer = model.module.optimizer\n",
    "else:\n",
    "    optimizer = torch.optim.SGD(model.parameters(), lr=args.l_rate, momentum=0.99, weight_decay=5e-4)\n",
    "\n",
    "if hasattr(model.module, 'loss'):\n",
    "    print('Using custom loss')\n",
    "    loss_fn = model.module.loss\n",
    "else:\n",
    "    loss_fn = cross_entropy2d\n",
    "\n",
    "if args.resume is not None:                                         \n",
    "    if os.path.isfile(args.resume):\n",
    "        print(\"Loading model and optimizer from checkpoint '{}'\".format(args.resume))\n",
    "        checkpoint = torch.load(args.resume)\n",
    "        model.load_state_dict(checkpoint['model_state'])\n",
    "        optimizer.load_state_dict(checkpoint['optimizer_state'])\n",
    "        print(\"Loaded checkpoint '{}' (epoch {})\"                    \n",
    "              .format(args.resume, checkpoint['epoch']))\n",
    "    else:\n",
    "        print(\"No checkpoint found at '{}'\".format(args.resume)) \n"
   ]
  },
  {
   "cell_type": "markdown",
   "metadata": {},
   "source": [
    "# Training"
   ]
  },
  {
   "cell_type": "code",
   "execution_count": 4,
   "metadata": {},
   "outputs": [
    {
     "name": "stderr",
     "output_type": "stream",
     "text": [
      "/home/dongwonshin/.conda/envs/pytorch/lib/python3.6/site-packages/torch/nn/functional.py:1462: UserWarning: nn.functional.upsample_bilinear is deprecated. Use nn.functional.upsample instead.\n",
      "  warnings.warn(\"nn.functional.upsample_bilinear is deprecated. Use nn.functional.upsample instead.\")\n"
     ]
    },
    {
     "name": "stdout",
     "output_type": "stream",
     "text": [
      "Epoch [1/100] Loss: 2.8422\n",
      "Epoch [1/100] Loss: 2.6983\n",
      "Epoch [1/100] Loss: 2.3194\n",
      "Epoch [1/100] Loss: 2.2438\n",
      "Epoch [1/100] Loss: 2.1617\n",
      "Epoch [1/100] Loss: 2.1678\n",
      "Epoch [1/100] Loss: 2.0041\n",
      "Epoch [1/100] Loss: 2.2329\n",
      "Epoch [1/100] Loss: 1.7923\n",
      "Epoch [1/100] Loss: 2.3825\n",
      "Epoch [1/100] Loss: 1.9300\n",
      "Epoch [1/100] Loss: 2.0714\n",
      "Epoch [1/100] Loss: 1.7420\n"
     ]
    },
    {
     "name": "stderr",
     "output_type": "stream",
     "text": [
      "218it [01:17,  2.80it/s]\n"
     ]
    },
    {
     "name": "stdout",
     "output_type": "stream",
     "text": [
      "Overall Acc: \t 0.36505382044\n",
      "Mean Acc : \t 0.159812093713\n",
      "FreqW Acc : \t 0.188816917521\n",
      "Mean IoU : \t 0.0936807503324\n",
      "Epoch [2/100] Loss: 1.6343\n",
      "Epoch [2/100] Loss: 2.0092\n",
      "Epoch [2/100] Loss: 1.5485\n",
      "Epoch [2/100] Loss: 1.6400\n",
      "Epoch [2/100] Loss: 2.0799\n",
      "Epoch [2/100] Loss: 1.7801\n",
      "Epoch [2/100] Loss: 1.8832\n",
      "Epoch [2/100] Loss: 1.3745\n",
      "Epoch [2/100] Loss: 1.6287\n",
      "Epoch [2/100] Loss: 1.9575\n",
      "Epoch [2/100] Loss: 1.5432\n",
      "Epoch [2/100] Loss: 1.3620\n",
      "Epoch [2/100] Loss: 1.6892\n"
     ]
    },
    {
     "name": "stderr",
     "output_type": "stream",
     "text": [
      "218it [01:16,  2.85it/s]\n"
     ]
    },
    {
     "name": "stdout",
     "output_type": "stream",
     "text": [
      "Overall Acc: \t 0.441720810636\n",
      "Mean Acc : \t 0.247612846745\n",
      "FreqW Acc : \t 0.266906932457\n",
      "Mean IoU : \t 0.161428516363\n",
      "Epoch [3/100] Loss: 1.6653\n",
      "Epoch [3/100] Loss: 1.5619\n",
      "Epoch [3/100] Loss: 1.7617\n",
      "Epoch [3/100] Loss: 1.4344\n",
      "Epoch [3/100] Loss: 1.4535\n",
      "Epoch [3/100] Loss: 1.6523\n",
      "Epoch [3/100] Loss: 1.5780\n",
      "Epoch [3/100] Loss: 1.3838\n",
      "Epoch [3/100] Loss: 1.3881\n",
      "Epoch [3/100] Loss: 1.4501\n",
      "Epoch [3/100] Loss: 1.2707\n",
      "Epoch [3/100] Loss: 1.5073\n",
      "Epoch [3/100] Loss: 1.1897\n"
     ]
    },
    {
     "name": "stderr",
     "output_type": "stream",
     "text": [
      "218it [01:16,  2.85it/s]\n"
     ]
    },
    {
     "name": "stdout",
     "output_type": "stream",
     "text": [
      "Overall Acc: \t 0.481990579805\n",
      "Mean Acc : \t 0.314961044267\n",
      "FreqW Acc : \t 0.315260609502\n",
      "Mean IoU : \t 0.211985163425\n",
      "Epoch [4/100] Loss: 1.7082\n",
      "Epoch [4/100] Loss: 1.3791\n",
      "Epoch [4/100] Loss: 2.0528\n",
      "Epoch [4/100] Loss: 1.6400\n",
      "Epoch [4/100] Loss: 1.3773\n",
      "Epoch [4/100] Loss: 1.7290\n",
      "Epoch [4/100] Loss: 1.4296\n",
      "Epoch [4/100] Loss: 1.2794\n",
      "Epoch [4/100] Loss: 1.0608\n",
      "Epoch [4/100] Loss: 1.3812\n",
      "Epoch [4/100] Loss: 1.2921\n",
      "Epoch [4/100] Loss: 1.1913\n",
      "Epoch [4/100] Loss: 1.6051\n"
     ]
    },
    {
     "name": "stderr",
     "output_type": "stream",
     "text": [
      "218it [01:17,  2.82it/s]\n"
     ]
    },
    {
     "name": "stdout",
     "output_type": "stream",
     "text": [
      "Overall Acc: \t 0.505625313575\n",
      "Mean Acc : \t 0.34464581978\n",
      "FreqW Acc : \t 0.327873710972\n",
      "Mean IoU : \t 0.228784153601\n",
      "Epoch [5/100] Loss: 1.2887\n",
      "Epoch [5/100] Loss: 1.3927\n",
      "Epoch [5/100] Loss: 1.5226\n",
      "Epoch [5/100] Loss: 1.3059\n",
      "Epoch [5/100] Loss: 1.4948\n",
      "Epoch [5/100] Loss: 1.2716\n",
      "Epoch [5/100] Loss: 1.3181\n",
      "Epoch [5/100] Loss: 1.0781\n",
      "Epoch [5/100] Loss: 1.2314\n",
      "Epoch [5/100] Loss: 1.0633\n",
      "Epoch [5/100] Loss: 1.3880\n",
      "Epoch [5/100] Loss: 1.4347\n",
      "Epoch [5/100] Loss: 1.1894\n"
     ]
    },
    {
     "name": "stderr",
     "output_type": "stream",
     "text": [
      "218it [01:18,  2.79it/s]\n"
     ]
    },
    {
     "name": "stdout",
     "output_type": "stream",
     "text": [
      "Overall Acc: \t 0.504441746703\n",
      "Mean Acc : \t 0.355751700503\n",
      "FreqW Acc : \t 0.335452563469\n",
      "Mean IoU : \t 0.248048863397\n",
      "Epoch [6/100] Loss: 1.3488\n",
      "Epoch [6/100] Loss: 1.1833\n",
      "Epoch [6/100] Loss: 1.0737\n",
      "Epoch [6/100] Loss: 1.3469\n",
      "Epoch [6/100] Loss: 1.0298\n",
      "Epoch [6/100] Loss: 0.9446\n",
      "Epoch [6/100] Loss: 0.9964\n",
      "Epoch [6/100] Loss: 0.7994\n",
      "Epoch [6/100] Loss: 1.1187\n",
      "Epoch [6/100] Loss: 1.5355\n",
      "Epoch [6/100] Loss: 1.4216\n",
      "Epoch [6/100] Loss: 1.2923\n",
      "Epoch [6/100] Loss: 1.1767\n"
     ]
    },
    {
     "name": "stderr",
     "output_type": "stream",
     "text": [
      "218it [01:18,  2.78it/s]\n"
     ]
    },
    {
     "name": "stdout",
     "output_type": "stream",
     "text": [
      "Overall Acc: \t 0.527743662796\n",
      "Mean Acc : \t 0.387156266367\n",
      "FreqW Acc : \t 0.359909964875\n",
      "Mean IoU : \t 0.271912317095\n",
      "Epoch [7/100] Loss: 1.1713\n",
      "Epoch [7/100] Loss: 1.3980\n",
      "Epoch [7/100] Loss: 1.1147\n",
      "Epoch [7/100] Loss: 0.9104\n",
      "Epoch [7/100] Loss: 1.1718\n",
      "Epoch [7/100] Loss: 1.1530\n",
      "Epoch [7/100] Loss: 1.2796\n",
      "Epoch [7/100] Loss: 1.0477\n",
      "Epoch [7/100] Loss: 0.9796\n",
      "Epoch [7/100] Loss: 1.0524\n",
      "Epoch [7/100] Loss: 1.3668\n",
      "Epoch [7/100] Loss: 1.0224\n",
      "Epoch [7/100] Loss: 1.1125\n"
     ]
    },
    {
     "name": "stderr",
     "output_type": "stream",
     "text": [
      "218it [01:19,  2.75it/s]\n"
     ]
    },
    {
     "name": "stdout",
     "output_type": "stream",
     "text": [
      "Overall Acc: \t 0.514591132892\n",
      "Mean Acc : \t 0.391738513906\n",
      "FreqW Acc : \t 0.356378865295\n",
      "Mean IoU : \t 0.281239884823\n",
      "Epoch [8/100] Loss: 0.8635\n",
      "Epoch [8/100] Loss: 1.3000\n",
      "Epoch [8/100] Loss: 0.9326\n",
      "Epoch [8/100] Loss: 1.2545\n",
      "Epoch [8/100] Loss: 1.3178\n",
      "Epoch [8/100] Loss: 1.0451\n",
      "Epoch [8/100] Loss: 1.2223\n",
      "Epoch [8/100] Loss: 0.8119\n",
      "Epoch [8/100] Loss: 1.1885\n",
      "Epoch [8/100] Loss: 1.0337\n",
      "Epoch [8/100] Loss: 0.9071\n",
      "Epoch [8/100] Loss: 1.1537\n",
      "Epoch [8/100] Loss: 0.9410\n"
     ]
    },
    {
     "name": "stderr",
     "output_type": "stream",
     "text": [
      "218it [01:18,  2.78it/s]\n"
     ]
    },
    {
     "name": "stdout",
     "output_type": "stream",
     "text": [
      "Overall Acc: \t 0.530948674224\n",
      "Mean Acc : \t 0.417717201034\n",
      "FreqW Acc : \t 0.365777367431\n",
      "Mean IoU : \t 0.288633130794\n",
      "Epoch [9/100] Loss: 0.6603\n",
      "Epoch [9/100] Loss: 1.0105\n",
      "Epoch [9/100] Loss: 0.9807\n",
      "Epoch [9/100] Loss: 0.7696\n",
      "Epoch [9/100] Loss: 1.1800\n",
      "Epoch [9/100] Loss: 1.0843\n",
      "Epoch [9/100] Loss: 1.0073\n",
      "Epoch [9/100] Loss: 0.9709\n",
      "Epoch [9/100] Loss: 1.1646\n",
      "Epoch [9/100] Loss: 1.1547\n",
      "Epoch [9/100] Loss: 0.9796\n",
      "Epoch [9/100] Loss: 0.9454\n",
      "Epoch [9/100] Loss: 1.0626\n"
     ]
    },
    {
     "name": "stderr",
     "output_type": "stream",
     "text": [
      "218it [01:18,  2.79it/s]"
     ]
    },
    {
     "name": "stdout",
     "output_type": "stream",
     "text": [
      "Overall Acc: \t 0.53025698725\n",
      "Mean Acc : \t 0.404060316938\n",
      "FreqW Acc : \t 0.366247577278\n",
      "Mean IoU : \t 0.283901117075\n"
     ]
    },
    {
     "name": "stderr",
     "output_type": "stream",
     "text": [
      "\n"
     ]
    },
    {
     "name": "stdout",
     "output_type": "stream",
     "text": [
      "Epoch [10/100] Loss: 0.8708\n",
      "Epoch [10/100] Loss: 0.8689\n",
      "Epoch [10/100] Loss: 1.0589\n",
      "Epoch [10/100] Loss: 1.0310\n",
      "Epoch [10/100] Loss: 0.9337\n",
      "Epoch [10/100] Loss: 1.2066\n",
      "Epoch [10/100] Loss: 1.1858\n",
      "Epoch [10/100] Loss: 0.9203\n",
      "Epoch [10/100] Loss: 0.7942\n",
      "Epoch [10/100] Loss: 0.7693\n",
      "Epoch [10/100] Loss: 1.1072\n",
      "Epoch [10/100] Loss: 0.9105\n",
      "Epoch [10/100] Loss: 0.9175\n"
     ]
    },
    {
     "name": "stderr",
     "output_type": "stream",
     "text": [
      "218it [01:19,  2.76it/s]\n"
     ]
    },
    {
     "name": "stdout",
     "output_type": "stream",
     "text": [
      "Overall Acc: \t 0.54338367956\n",
      "Mean Acc : \t 0.447093547612\n",
      "FreqW Acc : \t 0.379359757191\n",
      "Mean IoU : \t 0.312747552552\n",
      "Epoch [11/100] Loss: 1.1100\n",
      "Epoch [11/100] Loss: 1.0796\n",
      "Epoch [11/100] Loss: 1.0993\n",
      "Epoch [11/100] Loss: 0.8663\n",
      "Epoch [11/100] Loss: 0.9287\n",
      "Epoch [11/100] Loss: 0.8193\n",
      "Epoch [11/100] Loss: 0.7862\n",
      "Epoch [11/100] Loss: 0.8100\n",
      "Epoch [11/100] Loss: 0.8065\n",
      "Epoch [11/100] Loss: 1.0152\n",
      "Epoch [11/100] Loss: 0.7393\n",
      "Epoch [11/100] Loss: 0.7056\n",
      "Epoch [11/100] Loss: 1.0517\n"
     ]
    },
    {
     "name": "stderr",
     "output_type": "stream",
     "text": [
      "218it [01:18,  2.77it/s]"
     ]
    },
    {
     "name": "stdout",
     "output_type": "stream",
     "text": [
      "Overall Acc: \t 0.536628619553\n",
      "Mean Acc : \t 0.417873065541\n",
      "FreqW Acc : \t 0.372082945153\n",
      "Mean IoU : \t 0.298054238797\n"
     ]
    },
    {
     "name": "stderr",
     "output_type": "stream",
     "text": [
      "\n"
     ]
    },
    {
     "name": "stdout",
     "output_type": "stream",
     "text": [
      "Epoch [12/100] Loss: 0.9423\n",
      "Epoch [12/100] Loss: 1.1989\n",
      "Epoch [12/100] Loss: 0.7349\n",
      "Epoch [12/100] Loss: 1.0229\n",
      "Epoch [12/100] Loss: 1.0671\n",
      "Epoch [12/100] Loss: 0.7324\n",
      "Epoch [12/100] Loss: 1.0004\n",
      "Epoch [12/100] Loss: 0.8888\n",
      "Epoch [12/100] Loss: 1.0993\n",
      "Epoch [12/100] Loss: 0.7512\n",
      "Epoch [12/100] Loss: 0.6734\n",
      "Epoch [12/100] Loss: 0.8156\n",
      "Epoch [12/100] Loss: 0.9147\n"
     ]
    },
    {
     "name": "stderr",
     "output_type": "stream",
     "text": [
      "218it [01:18,  2.78it/s]"
     ]
    },
    {
     "name": "stdout",
     "output_type": "stream",
     "text": [
      "Overall Acc: \t 0.540140705634\n",
      "Mean Acc : \t 0.418505135429\n",
      "FreqW Acc : \t 0.373763406464\n",
      "Mean IoU : \t 0.299703846255\n"
     ]
    },
    {
     "name": "stderr",
     "output_type": "stream",
     "text": [
      "\n"
     ]
    },
    {
     "name": "stdout",
     "output_type": "stream",
     "text": [
      "Epoch [13/100] Loss: 0.8473\n",
      "Epoch [13/100] Loss: 0.7153\n",
      "Epoch [13/100] Loss: 0.8442\n",
      "Epoch [13/100] Loss: 0.9313\n",
      "Epoch [13/100] Loss: 0.6762\n",
      "Epoch [13/100] Loss: 0.8192\n",
      "Epoch [13/100] Loss: 0.7862\n",
      "Epoch [13/100] Loss: 0.8363\n",
      "Epoch [13/100] Loss: 0.7193\n",
      "Epoch [13/100] Loss: 0.8987\n",
      "Epoch [13/100] Loss: 0.8228\n",
      "Epoch [13/100] Loss: 0.7394\n",
      "Epoch [13/100] Loss: 0.7388\n"
     ]
    },
    {
     "name": "stderr",
     "output_type": "stream",
     "text": [
      "218it [01:19,  2.76it/s]"
     ]
    },
    {
     "name": "stdout",
     "output_type": "stream",
     "text": [
      "Overall Acc: \t 0.525514960022\n",
      "Mean Acc : \t 0.439097123303\n",
      "FreqW Acc : \t 0.364199539115\n",
      "Mean IoU : \t 0.306765810137\n"
     ]
    },
    {
     "name": "stderr",
     "output_type": "stream",
     "text": [
      "\n"
     ]
    },
    {
     "name": "stdout",
     "output_type": "stream",
     "text": [
      "Epoch [14/100] Loss: 0.8516\n",
      "Epoch [14/100] Loss: 0.8222\n",
      "Epoch [14/100] Loss: 0.9437\n",
      "Epoch [14/100] Loss: 0.8386\n",
      "Epoch [14/100] Loss: 0.8624\n",
      "Epoch [14/100] Loss: 0.8371\n",
      "Epoch [14/100] Loss: 0.7325\n",
      "Epoch [14/100] Loss: 0.8529\n",
      "Epoch [14/100] Loss: 0.7048\n",
      "Epoch [14/100] Loss: 0.8224\n",
      "Epoch [14/100] Loss: 0.8298\n",
      "Epoch [14/100] Loss: 0.8734\n",
      "Epoch [14/100] Loss: 0.8684\n"
     ]
    },
    {
     "name": "stderr",
     "output_type": "stream",
     "text": [
      "218it [01:18,  2.77it/s]"
     ]
    },
    {
     "name": "stdout",
     "output_type": "stream",
     "text": [
      "Overall Acc: \t 0.526925784236\n",
      "Mean Acc : \t 0.439317577517\n",
      "FreqW Acc : \t 0.364084760298\n",
      "Mean IoU : \t 0.302733101431\n"
     ]
    },
    {
     "name": "stderr",
     "output_type": "stream",
     "text": [
      "\n"
     ]
    },
    {
     "name": "stdout",
     "output_type": "stream",
     "text": [
      "Epoch [15/100] Loss: 0.8635\n",
      "Epoch [15/100] Loss: 1.0037\n",
      "Epoch [15/100] Loss: 0.5927\n",
      "Epoch [15/100] Loss: 0.8234\n",
      "Epoch [15/100] Loss: 0.8647\n",
      "Epoch [15/100] Loss: 0.7087\n",
      "Epoch [15/100] Loss: 0.8108\n",
      "Epoch [15/100] Loss: 0.7588\n",
      "Epoch [15/100] Loss: 0.9249\n",
      "Epoch [15/100] Loss: 0.9008\n",
      "Epoch [15/100] Loss: 0.8236\n",
      "Epoch [15/100] Loss: 0.5557\n",
      "Epoch [15/100] Loss: 1.0422\n"
     ]
    },
    {
     "name": "stderr",
     "output_type": "stream",
     "text": [
      "218it [01:19,  2.75it/s]\n"
     ]
    },
    {
     "name": "stdout",
     "output_type": "stream",
     "text": [
      "Overall Acc: \t 0.541238726228\n",
      "Mean Acc : \t 0.449560436029\n",
      "FreqW Acc : \t 0.382321982664\n",
      "Mean IoU : \t 0.315566635068\n",
      "Epoch [16/100] Loss: 0.8459\n",
      "Epoch [16/100] Loss: 0.7199\n",
      "Epoch [16/100] Loss: 0.7674\n",
      "Epoch [16/100] Loss: 0.7325\n",
      "Epoch [16/100] Loss: 0.9222\n",
      "Epoch [16/100] Loss: 0.7178\n",
      "Epoch [16/100] Loss: 0.7490\n",
      "Epoch [16/100] Loss: 0.7402\n",
      "Epoch [16/100] Loss: 0.7222\n",
      "Epoch [16/100] Loss: 0.8886\n",
      "Epoch [16/100] Loss: 0.8473\n",
      "Epoch [16/100] Loss: 0.8749\n",
      "Epoch [16/100] Loss: 0.6129\n"
     ]
    },
    {
     "name": "stderr",
     "output_type": "stream",
     "text": [
      "218it [01:18,  2.78it/s]\n"
     ]
    },
    {
     "name": "stdout",
     "output_type": "stream",
     "text": [
      "Overall Acc: \t 0.554737811385\n",
      "Mean Acc : \t 0.463177350464\n",
      "FreqW Acc : \t 0.391875549416\n",
      "Mean IoU : \t 0.327656973385\n",
      "Epoch [17/100] Loss: 0.8615\n",
      "Epoch [17/100] Loss: 0.8086\n",
      "Epoch [17/100] Loss: 0.6761\n",
      "Epoch [17/100] Loss: 0.8985\n",
      "Epoch [17/100] Loss: 0.6820\n",
      "Epoch [17/100] Loss: 0.8066\n",
      "Epoch [17/100] Loss: 0.6502\n",
      "Epoch [17/100] Loss: 0.8216\n",
      "Epoch [17/100] Loss: 0.7382\n",
      "Epoch [17/100] Loss: 0.5863\n",
      "Epoch [17/100] Loss: 0.7849\n",
      "Epoch [17/100] Loss: 0.7324\n",
      "Epoch [17/100] Loss: 0.6172\n"
     ]
    },
    {
     "name": "stderr",
     "output_type": "stream",
     "text": [
      "218it [01:18,  2.77it/s]"
     ]
    },
    {
     "name": "stdout",
     "output_type": "stream",
     "text": [
      "Overall Acc: \t 0.55597273987\n",
      "Mean Acc : \t 0.459065481956\n",
      "FreqW Acc : \t 0.386330067178\n",
      "Mean IoU : \t 0.32311512996\n"
     ]
    },
    {
     "name": "stderr",
     "output_type": "stream",
     "text": [
      "\n"
     ]
    },
    {
     "name": "stdout",
     "output_type": "stream",
     "text": [
      "Epoch [18/100] Loss: 0.7524\n",
      "Epoch [18/100] Loss: 0.5653\n",
      "Epoch [18/100] Loss: 0.6048\n",
      "Epoch [18/100] Loss: 0.5910\n",
      "Epoch [18/100] Loss: 0.6273\n",
      "Epoch [18/100] Loss: 0.8225\n",
      "Epoch [18/100] Loss: 0.8234\n",
      "Epoch [18/100] Loss: 0.9503\n",
      "Epoch [18/100] Loss: 0.8598\n",
      "Epoch [18/100] Loss: 0.5796\n",
      "Epoch [18/100] Loss: 0.6096\n",
      "Epoch [18/100] Loss: 0.6169\n",
      "Epoch [18/100] Loss: 0.7744\n"
     ]
    },
    {
     "name": "stderr",
     "output_type": "stream",
     "text": [
      "218it [01:18,  2.79it/s]"
     ]
    },
    {
     "name": "stdout",
     "output_type": "stream",
     "text": [
      "Overall Acc: \t 0.543955476316\n",
      "Mean Acc : \t 0.458844989868\n",
      "FreqW Acc : \t 0.387491916594\n",
      "Mean IoU : \t 0.321306690384\n"
     ]
    },
    {
     "name": "stderr",
     "output_type": "stream",
     "text": [
      "\n"
     ]
    },
    {
     "name": "stdout",
     "output_type": "stream",
     "text": [
      "Epoch [19/100] Loss: 0.5660\n",
      "Epoch [19/100] Loss: 0.6796\n",
      "Epoch [19/100] Loss: 0.4657\n",
      "Epoch [19/100] Loss: 0.5682\n",
      "Epoch [19/100] Loss: 0.6493\n",
      "Epoch [19/100] Loss: 0.6136\n",
      "Epoch [19/100] Loss: 0.6401\n",
      "Epoch [19/100] Loss: 0.8431\n",
      "Epoch [19/100] Loss: 0.7689\n",
      "Epoch [19/100] Loss: 0.7521\n",
      "Epoch [19/100] Loss: 0.6497\n",
      "Epoch [19/100] Loss: 0.8039\n",
      "Epoch [19/100] Loss: 0.7184\n"
     ]
    },
    {
     "name": "stderr",
     "output_type": "stream",
     "text": [
      "218it [01:21,  2.68it/s]"
     ]
    },
    {
     "name": "stdout",
     "output_type": "stream",
     "text": [
      "Overall Acc: \t 0.527239891931\n",
      "Mean Acc : \t 0.449664932975\n",
      "FreqW Acc : \t 0.373643578615\n",
      "Mean IoU : \t 0.312257481949\n"
     ]
    },
    {
     "name": "stderr",
     "output_type": "stream",
     "text": [
      "\n"
     ]
    },
    {
     "name": "stdout",
     "output_type": "stream",
     "text": [
      "Epoch [20/100] Loss: 0.5851\n",
      "Epoch [20/100] Loss: 0.8189\n",
      "Epoch [20/100] Loss: 0.6559\n",
      "Epoch [20/100] Loss: 0.7579\n",
      "Epoch [20/100] Loss: 0.6374\n",
      "Epoch [20/100] Loss: 0.7511\n",
      "Epoch [20/100] Loss: 0.6491\n",
      "Epoch [20/100] Loss: 0.7004\n",
      "Epoch [20/100] Loss: 0.8463\n",
      "Epoch [20/100] Loss: 0.6373\n",
      "Epoch [20/100] Loss: 0.6299\n",
      "Epoch [20/100] Loss: 0.6219\n",
      "Epoch [20/100] Loss: 0.7110\n"
     ]
    },
    {
     "name": "stderr",
     "output_type": "stream",
     "text": [
      "218it [01:20,  2.71it/s]"
     ]
    },
    {
     "name": "stdout",
     "output_type": "stream",
     "text": [
      "Overall Acc: \t 0.548592734614\n",
      "Mean Acc : \t 0.456447143214\n",
      "FreqW Acc : \t 0.387019801211\n",
      "Mean IoU : \t 0.318874543053\n"
     ]
    },
    {
     "name": "stderr",
     "output_type": "stream",
     "text": [
      "\n"
     ]
    },
    {
     "name": "stdout",
     "output_type": "stream",
     "text": [
      "Epoch [21/100] Loss: 0.5336\n",
      "Epoch [21/100] Loss: 0.5838\n",
      "Epoch [21/100] Loss: 0.6279\n",
      "Epoch [21/100] Loss: 0.7253\n",
      "Epoch [21/100] Loss: 0.5760\n",
      "Epoch [21/100] Loss: 0.5860\n",
      "Epoch [21/100] Loss: 0.6639\n",
      "Epoch [21/100] Loss: 0.5922\n",
      "Epoch [21/100] Loss: 0.6218\n",
      "Epoch [21/100] Loss: 0.6406\n",
      "Epoch [21/100] Loss: 0.6573\n",
      "Epoch [21/100] Loss: 0.5629\n",
      "Epoch [21/100] Loss: 0.5658\n"
     ]
    },
    {
     "name": "stderr",
     "output_type": "stream",
     "text": [
      "218it [01:18,  2.78it/s]"
     ]
    },
    {
     "name": "stdout",
     "output_type": "stream",
     "text": [
      "Overall Acc: \t 0.530763570336\n",
      "Mean Acc : \t 0.456664099137\n",
      "FreqW Acc : \t 0.369080442703\n",
      "Mean IoU : \t 0.31333777273\n"
     ]
    },
    {
     "name": "stderr",
     "output_type": "stream",
     "text": [
      "\n"
     ]
    },
    {
     "name": "stdout",
     "output_type": "stream",
     "text": [
      "Epoch [22/100] Loss: 0.7593\n",
      "Epoch [22/100] Loss: 0.6899\n",
      "Epoch [22/100] Loss: 0.5788\n",
      "Epoch [22/100] Loss: 0.5774\n",
      "Epoch [22/100] Loss: 0.6612\n",
      "Epoch [22/100] Loss: 0.5133\n",
      "Epoch [22/100] Loss: 0.5049\n",
      "Epoch [22/100] Loss: 0.6629\n",
      "Epoch [22/100] Loss: 0.6927\n",
      "Epoch [22/100] Loss: 0.7097\n",
      "Epoch [22/100] Loss: 0.6411\n",
      "Epoch [22/100] Loss: 0.8296\n",
      "Epoch [22/100] Loss: 0.6471\n"
     ]
    },
    {
     "name": "stderr",
     "output_type": "stream",
     "text": [
      "218it [01:18,  2.79it/s]"
     ]
    },
    {
     "name": "stdout",
     "output_type": "stream",
     "text": [
      "Overall Acc: \t 0.549639672329\n",
      "Mean Acc : \t 0.442176685217\n",
      "FreqW Acc : \t 0.378958173288\n",
      "Mean IoU : \t 0.312500286488\n"
     ]
    },
    {
     "name": "stderr",
     "output_type": "stream",
     "text": [
      "\n"
     ]
    },
    {
     "name": "stdout",
     "output_type": "stream",
     "text": [
      "Epoch [23/100] Loss: 0.5512\n",
      "Epoch [23/100] Loss: 0.4832\n",
      "Epoch [23/100] Loss: 0.5695\n",
      "Epoch [23/100] Loss: 0.4397\n",
      "Epoch [23/100] Loss: 0.5653\n",
      "Epoch [23/100] Loss: 0.5272\n",
      "Epoch [23/100] Loss: 0.6622\n",
      "Epoch [23/100] Loss: 0.6925\n",
      "Epoch [23/100] Loss: 0.7676\n",
      "Epoch [23/100] Loss: 0.5454\n",
      "Epoch [23/100] Loss: 0.7188\n",
      "Epoch [23/100] Loss: 0.5330\n",
      "Epoch [23/100] Loss: 0.6972\n"
     ]
    },
    {
     "name": "stderr",
     "output_type": "stream",
     "text": [
      "218it [01:18,  2.79it/s]"
     ]
    },
    {
     "name": "stdout",
     "output_type": "stream",
     "text": [
      "Overall Acc: \t 0.542828054321\n",
      "Mean Acc : \t 0.452015550799\n",
      "FreqW Acc : \t 0.378358603726\n",
      "Mean IoU : \t 0.314640664083\n"
     ]
    },
    {
     "name": "stderr",
     "output_type": "stream",
     "text": [
      "\n"
     ]
    },
    {
     "name": "stdout",
     "output_type": "stream",
     "text": [
      "Epoch [24/100] Loss: 0.8541\n",
      "Epoch [24/100] Loss: 0.4526\n",
      "Epoch [24/100] Loss: 0.7959\n",
      "Epoch [24/100] Loss: 0.5454\n",
      "Epoch [24/100] Loss: 0.7512\n",
      "Epoch [24/100] Loss: 0.6597\n",
      "Epoch [24/100] Loss: 0.6002\n",
      "Epoch [24/100] Loss: 0.7105\n",
      "Epoch [24/100] Loss: 0.7774\n",
      "Epoch [24/100] Loss: 0.5463\n",
      "Epoch [24/100] Loss: 0.5003\n",
      "Epoch [24/100] Loss: 0.7944\n",
      "Epoch [24/100] Loss: 0.6512\n"
     ]
    },
    {
     "name": "stderr",
     "output_type": "stream",
     "text": [
      "218it [01:18,  2.79it/s]\n"
     ]
    },
    {
     "name": "stdout",
     "output_type": "stream",
     "text": [
      "Overall Acc: \t 0.565365842611\n",
      "Mean Acc : \t 0.471659214019\n",
      "FreqW Acc : \t 0.399810440247\n",
      "Mean IoU : \t 0.328302773128\n",
      "Epoch [25/100] Loss: 0.4922\n",
      "Epoch [25/100] Loss: 0.5690\n",
      "Epoch [25/100] Loss: 0.5948\n",
      "Epoch [25/100] Loss: 0.5197\n",
      "Epoch [25/100] Loss: 0.6043\n",
      "Epoch [25/100] Loss: 0.5933\n",
      "Epoch [25/100] Loss: 0.6873\n",
      "Epoch [25/100] Loss: 0.5234\n",
      "Epoch [25/100] Loss: 0.5721\n",
      "Epoch [25/100] Loss: 0.6705\n",
      "Epoch [25/100] Loss: 0.5762\n",
      "Epoch [25/100] Loss: 0.7908\n",
      "Epoch [25/100] Loss: 0.4673\n"
     ]
    },
    {
     "name": "stderr",
     "output_type": "stream",
     "text": [
      "218it [01:37,  2.23it/s]\n"
     ]
    },
    {
     "name": "stdout",
     "output_type": "stream",
     "text": [
      "Overall Acc: \t 0.564962062389\n",
      "Mean Acc : \t 0.46226560218\n",
      "FreqW Acc : \t 0.404154295395\n",
      "Mean IoU : \t 0.334708857682\n",
      "Epoch [26/100] Loss: 0.6322\n",
      "Epoch [26/100] Loss: 0.5397\n",
      "Epoch [26/100] Loss: 0.7149\n",
      "Epoch [26/100] Loss: 0.6263\n",
      "Epoch [26/100] Loss: 0.6604\n",
      "Epoch [26/100] Loss: 0.6623\n",
      "Epoch [26/100] Loss: 0.6348\n",
      "Epoch [26/100] Loss: 0.5844\n",
      "Epoch [26/100] Loss: 0.6781\n",
      "Epoch [26/100] Loss: 0.6029\n",
      "Epoch [26/100] Loss: 0.5549\n",
      "Epoch [26/100] Loss: 0.5178\n",
      "Epoch [26/100] Loss: 0.6401\n"
     ]
    },
    {
     "name": "stderr",
     "output_type": "stream",
     "text": [
      "218it [01:17,  2.80it/s]"
     ]
    },
    {
     "name": "stdout",
     "output_type": "stream",
     "text": [
      "Overall Acc: \t 0.548757087793\n",
      "Mean Acc : \t 0.452760489362\n",
      "FreqW Acc : \t 0.385702778165\n",
      "Mean IoU : \t 0.323525711749\n"
     ]
    },
    {
     "name": "stderr",
     "output_type": "stream",
     "text": [
      "\n"
     ]
    },
    {
     "name": "stdout",
     "output_type": "stream",
     "text": [
      "Epoch [27/100] Loss: 0.7194\n",
      "Epoch [27/100] Loss: 0.5188\n",
      "Epoch [27/100] Loss: 0.7021\n",
      "Epoch [27/100] Loss: 0.6442\n",
      "Epoch [27/100] Loss: 0.6128\n",
      "Epoch [27/100] Loss: 0.5055\n",
      "Epoch [27/100] Loss: 0.5632\n",
      "Epoch [27/100] Loss: 0.5576\n",
      "Epoch [27/100] Loss: 0.6320\n",
      "Epoch [27/100] Loss: 0.5361\n",
      "Epoch [27/100] Loss: 0.5334\n",
      "Epoch [27/100] Loss: 0.7452\n",
      "Epoch [27/100] Loss: 0.6180\n"
     ]
    },
    {
     "name": "stderr",
     "output_type": "stream",
     "text": [
      "218it [01:16,  2.86it/s]"
     ]
    },
    {
     "name": "stdout",
     "output_type": "stream",
     "text": [
      "Overall Acc: \t 0.535461358587\n",
      "Mean Acc : \t 0.433016009926\n",
      "FreqW Acc : \t 0.374942690513\n",
      "Mean IoU : \t 0.318931158457\n"
     ]
    },
    {
     "name": "stderr",
     "output_type": "stream",
     "text": [
      "\n"
     ]
    },
    {
     "name": "stdout",
     "output_type": "stream",
     "text": [
      "Epoch [28/100] Loss: 0.6507\n",
      "Epoch [28/100] Loss: 0.6044\n",
      "Epoch [28/100] Loss: 0.7629\n",
      "Epoch [28/100] Loss: 0.5809\n",
      "Epoch [28/100] Loss: 0.7671\n",
      "Epoch [28/100] Loss: 0.6164\n",
      "Epoch [28/100] Loss: 0.4347\n",
      "Epoch [28/100] Loss: 0.5968\n",
      "Epoch [28/100] Loss: 0.7257\n",
      "Epoch [28/100] Loss: 0.7292\n",
      "Epoch [28/100] Loss: 0.6025\n",
      "Epoch [28/100] Loss: 0.8275\n",
      "Epoch [28/100] Loss: 0.5365\n"
     ]
    },
    {
     "name": "stderr",
     "output_type": "stream",
     "text": [
      "218it [01:17,  2.81it/s]"
     ]
    },
    {
     "name": "stdout",
     "output_type": "stream",
     "text": [
      "Overall Acc: \t 0.561917631283\n",
      "Mean Acc : \t 0.478349911301\n",
      "FreqW Acc : \t 0.398218996852\n",
      "Mean IoU : \t 0.334383430762\n"
     ]
    },
    {
     "name": "stderr",
     "output_type": "stream",
     "text": [
      "\n"
     ]
    },
    {
     "name": "stdout",
     "output_type": "stream",
     "text": [
      "Epoch [29/100] Loss: 0.5885\n",
      "Epoch [29/100] Loss: 0.5411\n",
      "Epoch [29/100] Loss: 0.5709\n",
      "Epoch [29/100] Loss: 0.5899\n",
      "Epoch [29/100] Loss: 0.6860\n",
      "Epoch [29/100] Loss: 0.7918\n",
      "Epoch [29/100] Loss: 0.5806\n",
      "Epoch [29/100] Loss: 0.7479\n",
      "Epoch [29/100] Loss: 0.4820\n",
      "Epoch [29/100] Loss: 0.5728\n",
      "Epoch [29/100] Loss: 0.4691\n",
      "Epoch [29/100] Loss: 0.7234\n",
      "Epoch [29/100] Loss: 0.5885\n"
     ]
    },
    {
     "name": "stderr",
     "output_type": "stream",
     "text": [
      "218it [01:17,  2.81it/s]"
     ]
    },
    {
     "name": "stdout",
     "output_type": "stream",
     "text": [
      "Overall Acc: \t 0.554631947431\n",
      "Mean Acc : \t 0.467904080219\n",
      "FreqW Acc : \t 0.392298090518\n",
      "Mean IoU : \t 0.331185292695\n"
     ]
    },
    {
     "name": "stderr",
     "output_type": "stream",
     "text": [
      "\n"
     ]
    },
    {
     "name": "stdout",
     "output_type": "stream",
     "text": [
      "Epoch [30/100] Loss: 0.6754\n",
      "Epoch [30/100] Loss: 0.5407\n",
      "Epoch [30/100] Loss: 0.6140\n",
      "Epoch [30/100] Loss: 0.6459\n",
      "Epoch [30/100] Loss: 0.5602\n",
      "Epoch [30/100] Loss: 0.4299\n",
      "Epoch [30/100] Loss: 0.6944\n",
      "Epoch [30/100] Loss: 0.4493\n",
      "Epoch [30/100] Loss: 0.5507\n",
      "Epoch [30/100] Loss: 0.4657\n",
      "Epoch [30/100] Loss: 0.6309\n",
      "Epoch [30/100] Loss: 0.5124\n",
      "Epoch [30/100] Loss: 0.5689\n"
     ]
    },
    {
     "name": "stderr",
     "output_type": "stream",
     "text": [
      "218it [01:18,  2.78it/s]"
     ]
    },
    {
     "name": "stdout",
     "output_type": "stream",
     "text": [
      "Overall Acc: \t 0.562412034714\n",
      "Mean Acc : \t 0.469130611026\n",
      "FreqW Acc : \t 0.392828165297\n",
      "Mean IoU : \t 0.333266568623\n"
     ]
    },
    {
     "name": "stderr",
     "output_type": "stream",
     "text": [
      "\n"
     ]
    },
    {
     "name": "stdout",
     "output_type": "stream",
     "text": [
      "Epoch [31/100] Loss: 0.4330\n",
      "Epoch [31/100] Loss: 0.7332\n",
      "Epoch [31/100] Loss: 0.6611\n",
      "Epoch [31/100] Loss: 0.5643\n",
      "Epoch [31/100] Loss: 0.4904\n",
      "Epoch [31/100] Loss: 0.5962\n",
      "Epoch [31/100] Loss: 0.4098\n",
      "Epoch [31/100] Loss: 0.5934\n",
      "Epoch [31/100] Loss: 0.6517\n",
      "Epoch [31/100] Loss: 0.6296\n",
      "Epoch [31/100] Loss: 0.7289\n",
      "Epoch [31/100] Loss: 0.6176\n",
      "Epoch [31/100] Loss: 0.4432\n"
     ]
    },
    {
     "name": "stderr",
     "output_type": "stream",
     "text": [
      "218it [01:17,  2.81it/s]"
     ]
    },
    {
     "name": "stdout",
     "output_type": "stream",
     "text": [
      "Overall Acc: \t 0.548903537326\n",
      "Mean Acc : \t 0.453873891919\n",
      "FreqW Acc : \t 0.392368044851\n",
      "Mean IoU : \t 0.325536439933\n"
     ]
    },
    {
     "name": "stderr",
     "output_type": "stream",
     "text": [
      "\n"
     ]
    },
    {
     "name": "stdout",
     "output_type": "stream",
     "text": [
      "Epoch [32/100] Loss: 0.5733\n",
      "Epoch [32/100] Loss: 0.5566\n",
      "Epoch [32/100] Loss: 0.5116\n",
      "Epoch [32/100] Loss: 0.4840\n",
      "Epoch [32/100] Loss: 0.3365\n",
      "Epoch [32/100] Loss: 0.6308\n",
      "Epoch [32/100] Loss: 0.4442\n",
      "Epoch [32/100] Loss: 0.6528\n",
      "Epoch [32/100] Loss: 0.6611\n",
      "Epoch [32/100] Loss: 0.6550\n",
      "Epoch [32/100] Loss: 0.6854\n",
      "Epoch [32/100] Loss: 0.4729\n",
      "Epoch [32/100] Loss: 0.7164\n"
     ]
    },
    {
     "name": "stderr",
     "output_type": "stream",
     "text": [
      "218it [01:18,  2.77it/s]"
     ]
    },
    {
     "name": "stdout",
     "output_type": "stream",
     "text": [
      "Overall Acc: \t 0.558236179799\n",
      "Mean Acc : \t 0.465269280401\n",
      "FreqW Acc : \t 0.396981231692\n",
      "Mean IoU : \t 0.331376081501\n"
     ]
    },
    {
     "name": "stderr",
     "output_type": "stream",
     "text": [
      "\n"
     ]
    },
    {
     "name": "stdout",
     "output_type": "stream",
     "text": [
      "Epoch [33/100] Loss: 0.4362\n",
      "Epoch [33/100] Loss: 0.4341\n",
      "Epoch [33/100] Loss: 0.3953\n",
      "Epoch [33/100] Loss: 0.6149\n",
      "Epoch [33/100] Loss: 0.6436\n",
      "Epoch [33/100] Loss: 0.5580\n",
      "Epoch [33/100] Loss: 0.4235\n",
      "Epoch [33/100] Loss: 0.4255\n",
      "Epoch [33/100] Loss: 0.6346\n",
      "Epoch [33/100] Loss: 0.5524\n",
      "Epoch [33/100] Loss: 0.5680\n",
      "Epoch [33/100] Loss: 0.5331\n",
      "Epoch [33/100] Loss: 0.4180\n"
     ]
    },
    {
     "name": "stderr",
     "output_type": "stream",
     "text": [
      "218it [01:18,  2.78it/s]"
     ]
    },
    {
     "name": "stdout",
     "output_type": "stream",
     "text": [
      "Overall Acc: \t 0.545451826899\n",
      "Mean Acc : \t 0.441080145265\n",
      "FreqW Acc : \t 0.387941743008\n",
      "Mean IoU : \t 0.32334508593\n"
     ]
    },
    {
     "name": "stderr",
     "output_type": "stream",
     "text": [
      "\n"
     ]
    },
    {
     "name": "stdout",
     "output_type": "stream",
     "text": [
      "Epoch [34/100] Loss: 0.5357\n",
      "Epoch [34/100] Loss: 0.4783\n",
      "Epoch [34/100] Loss: 0.4822\n",
      "Epoch [34/100] Loss: 0.4877\n",
      "Epoch [34/100] Loss: 0.5346\n",
      "Epoch [34/100] Loss: 0.5872\n",
      "Epoch [34/100] Loss: 0.5850\n",
      "Epoch [34/100] Loss: 0.4323\n",
      "Epoch [34/100] Loss: 0.4948\n",
      "Epoch [34/100] Loss: 0.3717\n",
      "Epoch [34/100] Loss: 0.5949\n",
      "Epoch [34/100] Loss: 0.6861\n",
      "Epoch [34/100] Loss: 0.5474\n"
     ]
    },
    {
     "name": "stderr",
     "output_type": "stream",
     "text": [
      "218it [01:17,  2.82it/s]"
     ]
    },
    {
     "name": "stdout",
     "output_type": "stream",
     "text": [
      "Overall Acc: \t 0.556598093264\n",
      "Mean Acc : \t 0.468582221024\n",
      "FreqW Acc : \t 0.396092854497\n",
      "Mean IoU : \t 0.332627612496\n"
     ]
    },
    {
     "name": "stderr",
     "output_type": "stream",
     "text": [
      "\n"
     ]
    },
    {
     "name": "stdout",
     "output_type": "stream",
     "text": [
      "Epoch [35/100] Loss: 0.3892\n",
      "Epoch [35/100] Loss: 0.4820\n",
      "Epoch [35/100] Loss: 0.5932\n",
      "Epoch [35/100] Loss: 0.4399\n",
      "Epoch [35/100] Loss: 0.4361\n",
      "Epoch [35/100] Loss: 0.5295\n",
      "Epoch [35/100] Loss: 0.4679\n",
      "Epoch [35/100] Loss: 0.4989\n",
      "Epoch [35/100] Loss: 0.5811\n",
      "Epoch [35/100] Loss: 0.5096\n",
      "Epoch [35/100] Loss: 0.4653\n",
      "Epoch [35/100] Loss: 0.5959\n",
      "Epoch [35/100] Loss: 0.4507\n"
     ]
    },
    {
     "name": "stderr",
     "output_type": "stream",
     "text": [
      "218it [01:56,  1.88it/s]"
     ]
    },
    {
     "name": "stdout",
     "output_type": "stream",
     "text": [
      "Overall Acc: \t 0.556352056256\n",
      "Mean Acc : \t 0.460757604121\n",
      "FreqW Acc : \t 0.397901784484\n",
      "Mean IoU : \t 0.331263482004\n"
     ]
    },
    {
     "name": "stderr",
     "output_type": "stream",
     "text": [
      "\n"
     ]
    },
    {
     "name": "stdout",
     "output_type": "stream",
     "text": [
      "Epoch [36/100] Loss: 0.5416\n",
      "Epoch [36/100] Loss: 0.4724\n",
      "Epoch [36/100] Loss: 0.5837\n",
      "Epoch [36/100] Loss: 0.4529\n",
      "Epoch [36/100] Loss: 0.3159\n",
      "Epoch [36/100] Loss: 0.5060\n",
      "Epoch [36/100] Loss: 0.5849\n",
      "Epoch [36/100] Loss: 0.5091\n",
      "Epoch [36/100] Loss: 0.4440\n",
      "Epoch [36/100] Loss: 0.4393\n",
      "Epoch [36/100] Loss: 0.6330\n",
      "Epoch [36/100] Loss: 0.5867\n",
      "Epoch [36/100] Loss: 0.5261\n"
     ]
    },
    {
     "name": "stderr",
     "output_type": "stream",
     "text": [
      "218it [01:20,  2.71it/s]\n"
     ]
    },
    {
     "name": "stdout",
     "output_type": "stream",
     "text": [
      "Overall Acc: \t 0.54587306778\n",
      "Mean Acc : \t 0.461247150285\n",
      "FreqW Acc : \t 0.388844235887\n",
      "Mean IoU : \t 0.325412241234\n",
      "Epoch [37/100] Loss: 0.6067\n",
      "Epoch [37/100] Loss: 0.3901\n",
      "Epoch [37/100] Loss: 0.5669\n",
      "Epoch [37/100] Loss: 0.5440\n",
      "Epoch [37/100] Loss: 0.6096\n",
      "Epoch [37/100] Loss: 0.5035\n",
      "Epoch [37/100] Loss: 0.5517\n",
      "Epoch [37/100] Loss: 0.4664\n",
      "Epoch [37/100] Loss: 0.4237\n",
      "Epoch [37/100] Loss: 0.5551\n",
      "Epoch [37/100] Loss: 0.3834\n",
      "Epoch [37/100] Loss: 0.6878\n",
      "Epoch [37/100] Loss: 0.6009\n"
     ]
    },
    {
     "name": "stderr",
     "output_type": "stream",
     "text": [
      "218it [01:18,  2.76it/s]\n"
     ]
    },
    {
     "name": "stdout",
     "output_type": "stream",
     "text": [
      "Overall Acc: \t 0.563799778805\n",
      "Mean Acc : \t 0.486014177091\n",
      "FreqW Acc : \t 0.404156481933\n",
      "Mean IoU : \t 0.339511697023\n",
      "Epoch [38/100] Loss: 0.4887\n",
      "Epoch [38/100] Loss: 0.5665\n",
      "Epoch [38/100] Loss: 0.5173\n",
      "Epoch [38/100] Loss: 0.5368\n",
      "Epoch [38/100] Loss: 0.4713\n",
      "Epoch [38/100] Loss: 0.4405\n",
      "Epoch [38/100] Loss: 0.3814\n",
      "Epoch [38/100] Loss: 0.4839\n",
      "Epoch [38/100] Loss: 0.4558\n",
      "Epoch [38/100] Loss: 0.5419\n",
      "Epoch [38/100] Loss: 0.4107\n",
      "Epoch [38/100] Loss: 0.5807\n",
      "Epoch [38/100] Loss: 0.4970\n"
     ]
    },
    {
     "name": "stderr",
     "output_type": "stream",
     "text": [
      "218it [01:30,  2.42it/s]"
     ]
    },
    {
     "name": "stdout",
     "output_type": "stream",
     "text": [
      "Overall Acc: \t 0.560383099197\n",
      "Mean Acc : \t 0.462292956367\n",
      "FreqW Acc : \t 0.396617501287\n",
      "Mean IoU : \t 0.332170414295\n"
     ]
    },
    {
     "name": "stderr",
     "output_type": "stream",
     "text": [
      "\n"
     ]
    },
    {
     "name": "stdout",
     "output_type": "stream",
     "text": [
      "Epoch [39/100] Loss: 0.5122\n",
      "Epoch [39/100] Loss: 0.4961\n",
      "Epoch [39/100] Loss: 0.5952\n",
      "Epoch [39/100] Loss: 0.5469\n",
      "Epoch [39/100] Loss: 0.5200\n",
      "Epoch [39/100] Loss: 0.4737\n",
      "Epoch [39/100] Loss: 0.4200\n",
      "Epoch [39/100] Loss: 0.5248\n",
      "Epoch [39/100] Loss: 0.4313\n",
      "Epoch [39/100] Loss: 0.5492\n",
      "Epoch [39/100] Loss: 0.5503\n",
      "Epoch [39/100] Loss: 0.5646\n",
      "Epoch [39/100] Loss: 0.5708\n"
     ]
    },
    {
     "name": "stderr",
     "output_type": "stream",
     "text": [
      "218it [01:18,  2.77it/s]\n"
     ]
    },
    {
     "name": "stdout",
     "output_type": "stream",
     "text": [
      "Overall Acc: \t 0.566192690415\n",
      "Mean Acc : \t 0.47837048452\n",
      "FreqW Acc : \t 0.40244938755\n",
      "Mean IoU : \t 0.341933265967\n",
      "Epoch [40/100] Loss: 0.4710\n",
      "Epoch [40/100] Loss: 0.4552\n",
      "Epoch [40/100] Loss: 0.5468\n",
      "Epoch [40/100] Loss: 0.4832\n",
      "Epoch [40/100] Loss: 0.5029\n",
      "Epoch [40/100] Loss: 0.4757\n",
      "Epoch [40/100] Loss: 0.3992\n",
      "Epoch [40/100] Loss: 0.6436\n",
      "Epoch [40/100] Loss: 0.4452\n",
      "Epoch [40/100] Loss: 0.6110\n",
      "Epoch [40/100] Loss: 0.5065\n",
      "Epoch [40/100] Loss: 0.5205\n",
      "Epoch [40/100] Loss: 0.4541\n"
     ]
    },
    {
     "name": "stderr",
     "output_type": "stream",
     "text": [
      "218it [01:18,  2.79it/s]"
     ]
    },
    {
     "name": "stdout",
     "output_type": "stream",
     "text": [
      "Overall Acc: \t 0.522134426167\n",
      "Mean Acc : \t 0.446727867732\n",
      "FreqW Acc : \t 0.369705577367\n",
      "Mean IoU : \t 0.316363451664\n"
     ]
    },
    {
     "name": "stderr",
     "output_type": "stream",
     "text": [
      "\n"
     ]
    },
    {
     "name": "stdout",
     "output_type": "stream",
     "text": [
      "Epoch [41/100] Loss: 0.3974\n",
      "Epoch [41/100] Loss: 0.3041\n",
      "Epoch [41/100] Loss: 0.4476\n",
      "Epoch [41/100] Loss: 0.4064\n",
      "Epoch [41/100] Loss: 0.6666\n",
      "Epoch [41/100] Loss: 0.5440\n",
      "Epoch [41/100] Loss: 0.5032\n",
      "Epoch [41/100] Loss: 0.4381\n",
      "Epoch [41/100] Loss: 0.4429\n",
      "Epoch [41/100] Loss: 0.5027\n",
      "Epoch [41/100] Loss: 0.4238\n",
      "Epoch [41/100] Loss: 0.4490\n",
      "Epoch [41/100] Loss: 0.4192\n"
     ]
    },
    {
     "name": "stderr",
     "output_type": "stream",
     "text": [
      "218it [01:34,  2.31it/s]"
     ]
    },
    {
     "name": "stdout",
     "output_type": "stream",
     "text": [
      "Overall Acc: \t 0.554482844953\n",
      "Mean Acc : \t 0.458438946636\n",
      "FreqW Acc : \t 0.397354011726\n",
      "Mean IoU : \t 0.331315369878\n"
     ]
    },
    {
     "name": "stderr",
     "output_type": "stream",
     "text": [
      "\n"
     ]
    },
    {
     "name": "stdout",
     "output_type": "stream",
     "text": [
      "Epoch [42/100] Loss: 0.4747\n",
      "Epoch [42/100] Loss: 0.4667\n",
      "Epoch [42/100] Loss: 0.5416\n",
      "Epoch [42/100] Loss: 0.4690\n",
      "Epoch [42/100] Loss: 0.4496\n",
      "Epoch [42/100] Loss: 0.5275\n",
      "Epoch [42/100] Loss: 0.4164\n",
      "Epoch [42/100] Loss: 0.3899\n",
      "Epoch [42/100] Loss: 0.4896\n",
      "Epoch [42/100] Loss: 0.4096\n",
      "Epoch [42/100] Loss: 0.3024\n",
      "Epoch [42/100] Loss: 0.4721\n",
      "Epoch [42/100] Loss: 0.4636\n"
     ]
    },
    {
     "name": "stderr",
     "output_type": "stream",
     "text": [
      "218it [02:11,  1.66it/s]\n"
     ]
    },
    {
     "name": "stdout",
     "output_type": "stream",
     "text": [
      "Overall Acc: \t 0.554144641748\n",
      "Mean Acc : \t 0.472860422115\n",
      "FreqW Acc : \t 0.392649228088\n",
      "Mean IoU : \t 0.330358583394\n",
      "Epoch [43/100] Loss: 0.4894\n",
      "Epoch [43/100] Loss: 0.3579\n",
      "Epoch [43/100] Loss: 0.5437\n",
      "Epoch [43/100] Loss: 0.3851\n",
      "Epoch [43/100] Loss: 0.5364\n",
      "Epoch [43/100] Loss: 0.4564\n",
      "Epoch [43/100] Loss: 0.4729\n",
      "Epoch [43/100] Loss: 0.3774\n",
      "Epoch [43/100] Loss: 0.5230\n",
      "Epoch [43/100] Loss: 0.6223\n",
      "Epoch [43/100] Loss: 0.5213\n",
      "Epoch [43/100] Loss: 0.4160\n",
      "Epoch [43/100] Loss: 0.3405\n"
     ]
    },
    {
     "name": "stderr",
     "output_type": "stream",
     "text": [
      "218it [01:34,  2.31it/s]\n"
     ]
    },
    {
     "name": "stdout",
     "output_type": "stream",
     "text": [
      "Overall Acc: \t 0.546037420959\n",
      "Mean Acc : \t 0.466433032737\n",
      "FreqW Acc : \t 0.391032919393\n",
      "Mean IoU : \t 0.323836700535\n",
      "Epoch [44/100] Loss: 0.4434\n",
      "Epoch [44/100] Loss: 0.4342\n",
      "Epoch [44/100] Loss: 0.4823\n",
      "Epoch [44/100] Loss: 0.4296\n",
      "Epoch [44/100] Loss: 0.5413\n",
      "Epoch [44/100] Loss: 0.4763\n",
      "Epoch [44/100] Loss: 0.3935\n",
      "Epoch [44/100] Loss: 0.4080\n",
      "Epoch [44/100] Loss: 0.4799\n",
      "Epoch [44/100] Loss: 0.4714\n",
      "Epoch [44/100] Loss: 0.3411\n",
      "Epoch [44/100] Loss: 0.4287\n",
      "Epoch [44/100] Loss: 0.4274\n"
     ]
    },
    {
     "name": "stderr",
     "output_type": "stream",
     "text": [
      "218it [01:18,  2.78it/s]"
     ]
    },
    {
     "name": "stdout",
     "output_type": "stream",
     "text": [
      "Overall Acc: \t 0.568035143309\n",
      "Mean Acc : \t 0.468039272862\n",
      "FreqW Acc : \t 0.40551234373\n",
      "Mean IoU : \t 0.339387227619\n"
     ]
    },
    {
     "name": "stderr",
     "output_type": "stream",
     "text": [
      "\n"
     ]
    },
    {
     "name": "stdout",
     "output_type": "stream",
     "text": [
      "Epoch [45/100] Loss: 0.4595\n",
      "Epoch [45/100] Loss: 0.4514\n",
      "Epoch [45/100] Loss: 0.5818\n",
      "Epoch [45/100] Loss: 0.5738\n",
      "Epoch [45/100] Loss: 0.5088\n",
      "Epoch [45/100] Loss: 0.6653\n",
      "Epoch [45/100] Loss: 0.4688\n",
      "Epoch [45/100] Loss: 0.4189\n",
      "Epoch [45/100] Loss: 0.4004\n",
      "Epoch [45/100] Loss: 0.3852\n",
      "Epoch [45/100] Loss: 0.4208\n",
      "Epoch [45/100] Loss: 0.3594\n",
      "Epoch [45/100] Loss: 0.5743\n"
     ]
    },
    {
     "name": "stderr",
     "output_type": "stream",
     "text": [
      "218it [01:30,  2.41it/s]"
     ]
    },
    {
     "name": "stdout",
     "output_type": "stream",
     "text": [
      "Overall Acc: \t 0.548351207115\n",
      "Mean Acc : \t 0.469221013148\n",
      "FreqW Acc : \t 0.392651402722\n",
      "Mean IoU : \t 0.330792086166\n"
     ]
    },
    {
     "name": "stderr",
     "output_type": "stream",
     "text": [
      "\n"
     ]
    },
    {
     "name": "stdout",
     "output_type": "stream",
     "text": [
      "Epoch [46/100] Loss: 0.5732\n",
      "Epoch [46/100] Loss: 0.3902\n",
      "Epoch [46/100] Loss: 0.4541\n",
      "Epoch [46/100] Loss: 0.3873\n",
      "Epoch [46/100] Loss: 0.3722\n",
      "Epoch [46/100] Loss: 0.4559\n",
      "Epoch [46/100] Loss: 0.4448\n",
      "Epoch [46/100] Loss: 0.3089\n",
      "Epoch [46/100] Loss: 0.3685\n",
      "Epoch [46/100] Loss: 0.4017\n",
      "Epoch [46/100] Loss: 0.3080\n",
      "Epoch [46/100] Loss: 0.4323\n",
      "Epoch [46/100] Loss: 0.4120\n"
     ]
    },
    {
     "name": "stderr",
     "output_type": "stream",
     "text": [
      "218it [01:32,  2.36it/s]"
     ]
    },
    {
     "name": "stdout",
     "output_type": "stream",
     "text": [
      "Overall Acc: \t 0.558626421541\n",
      "Mean Acc : \t 0.46251045886\n",
      "FreqW Acc : \t 0.396616826787\n",
      "Mean IoU : \t 0.336288342748\n"
     ]
    },
    {
     "name": "stderr",
     "output_type": "stream",
     "text": [
      "\n"
     ]
    },
    {
     "name": "stdout",
     "output_type": "stream",
     "text": [
      "Epoch [47/100] Loss: 0.4153\n",
      "Epoch [47/100] Loss: 0.5598\n",
      "Epoch [47/100] Loss: 0.4218\n",
      "Epoch [47/100] Loss: 0.5778\n",
      "Epoch [47/100] Loss: 0.5423\n",
      "Epoch [47/100] Loss: 0.4101\n",
      "Epoch [47/100] Loss: 0.3693\n",
      "Epoch [47/100] Loss: 0.3962\n",
      "Epoch [47/100] Loss: 0.3957\n",
      "Epoch [47/100] Loss: 0.4841\n",
      "Epoch [47/100] Loss: 0.5177\n",
      "Epoch [47/100] Loss: 0.3901\n",
      "Epoch [47/100] Loss: 0.6371\n"
     ]
    },
    {
     "name": "stderr",
     "output_type": "stream",
     "text": [
      "218it [01:18,  2.78it/s]"
     ]
    },
    {
     "name": "stdout",
     "output_type": "stream",
     "text": [
      "Overall Acc: \t 0.556552694556\n",
      "Mean Acc : \t 0.470156089713\n",
      "FreqW Acc : \t 0.398097861098\n",
      "Mean IoU : \t 0.332713742771\n"
     ]
    },
    {
     "name": "stderr",
     "output_type": "stream",
     "text": [
      "\n"
     ]
    },
    {
     "name": "stdout",
     "output_type": "stream",
     "text": [
      "Epoch [48/100] Loss: 0.4662\n",
      "Epoch [48/100] Loss: 0.4350\n",
      "Epoch [48/100] Loss: 0.4287\n",
      "Epoch [48/100] Loss: 0.4103\n",
      "Epoch [48/100] Loss: 0.4839\n",
      "Epoch [48/100] Loss: 0.3492\n",
      "Epoch [48/100] Loss: 0.4934\n",
      "Epoch [48/100] Loss: 0.4922\n",
      "Epoch [48/100] Loss: 0.5300\n",
      "Epoch [48/100] Loss: 0.4035\n",
      "Epoch [48/100] Loss: 0.6463\n",
      "Epoch [48/100] Loss: 0.3886\n",
      "Epoch [48/100] Loss: 0.4784\n"
     ]
    },
    {
     "name": "stderr",
     "output_type": "stream",
     "text": [
      "218it [01:21,  2.67it/s]"
     ]
    },
    {
     "name": "stdout",
     "output_type": "stream",
     "text": [
      "Overall Acc: \t 0.563366567318\n",
      "Mean Acc : \t 0.472335765173\n",
      "FreqW Acc : \t 0.405463865808\n",
      "Mean IoU : \t 0.339132163006\n"
     ]
    },
    {
     "name": "stderr",
     "output_type": "stream",
     "text": [
      "\n"
     ]
    },
    {
     "name": "stdout",
     "output_type": "stream",
     "text": [
      "Epoch [49/100] Loss: 0.4177\n",
      "Epoch [49/100] Loss: 0.4031\n",
      "Epoch [49/100] Loss: 0.3656\n",
      "Epoch [49/100] Loss: 0.5977\n",
      "Epoch [49/100] Loss: 0.5168\n",
      "Epoch [49/100] Loss: 0.4106\n",
      "Epoch [49/100] Loss: 0.5342\n",
      "Epoch [49/100] Loss: 0.4764\n",
      "Epoch [49/100] Loss: 0.4310\n",
      "Epoch [49/100] Loss: 0.5313\n",
      "Epoch [49/100] Loss: 0.3408\n",
      "Epoch [49/100] Loss: 0.4351\n",
      "Epoch [49/100] Loss: 0.4536\n"
     ]
    },
    {
     "name": "stderr",
     "output_type": "stream",
     "text": [
      "218it [01:45,  2.06it/s]"
     ]
    },
    {
     "name": "stdout",
     "output_type": "stream",
     "text": [
      "Overall Acc: \t 0.550793235538\n",
      "Mean Acc : \t 0.462294856396\n",
      "FreqW Acc : \t 0.396653564815\n",
      "Mean IoU : \t 0.332923158543\n"
     ]
    },
    {
     "name": "stderr",
     "output_type": "stream",
     "text": [
      "\n"
     ]
    },
    {
     "name": "stdout",
     "output_type": "stream",
     "text": [
      "Epoch [50/100] Loss: 0.5213\n",
      "Epoch [50/100] Loss: 0.5134\n",
      "Epoch [50/100] Loss: 0.3336\n",
      "Epoch [50/100] Loss: 0.4821\n",
      "Epoch [50/100] Loss: 0.4543\n",
      "Epoch [50/100] Loss: 0.4745\n",
      "Epoch [50/100] Loss: 0.4311\n",
      "Epoch [50/100] Loss: 0.4094\n",
      "Epoch [50/100] Loss: 0.3564\n",
      "Epoch [50/100] Loss: 0.3629\n",
      "Epoch [50/100] Loss: 0.4151\n",
      "Epoch [50/100] Loss: 0.4745\n",
      "Epoch [50/100] Loss: 0.4883\n"
     ]
    },
    {
     "name": "stderr",
     "output_type": "stream",
     "text": [
      "218it [01:19,  2.73it/s]"
     ]
    },
    {
     "name": "stdout",
     "output_type": "stream",
     "text": [
      "Overall Acc: \t 0.556341598775\n",
      "Mean Acc : \t 0.472924878419\n",
      "FreqW Acc : \t 0.401178792955\n",
      "Mean IoU : \t 0.337533131307\n"
     ]
    },
    {
     "name": "stderr",
     "output_type": "stream",
     "text": [
      "\n"
     ]
    },
    {
     "name": "stdout",
     "output_type": "stream",
     "text": [
      "Epoch [51/100] Loss: 0.3830\n",
      "Epoch [51/100] Loss: 0.6280\n",
      "Epoch [51/100] Loss: 0.5146\n",
      "Epoch [51/100] Loss: 0.5218\n",
      "Epoch [51/100] Loss: 0.4084\n",
      "Epoch [51/100] Loss: 0.4888\n",
      "Epoch [51/100] Loss: 0.4516\n",
      "Epoch [51/100] Loss: 0.6261\n",
      "Epoch [51/100] Loss: 0.4718\n",
      "Epoch [51/100] Loss: 0.5225\n",
      "Epoch [51/100] Loss: 0.4142\n",
      "Epoch [51/100] Loss: 0.4014\n",
      "Epoch [51/100] Loss: 0.4517\n"
     ]
    },
    {
     "name": "stderr",
     "output_type": "stream",
     "text": [
      "218it [01:24,  2.59it/s]\n"
     ]
    },
    {
     "name": "stdout",
     "output_type": "stream",
     "text": [
      "Overall Acc: \t 0.554775529992\n",
      "Mean Acc : \t 0.476547134826\n",
      "FreqW Acc : \t 0.399883599786\n",
      "Mean IoU : \t 0.335825789646\n",
      "Epoch [52/100] Loss: 0.5037\n",
      "Epoch [52/100] Loss: 0.4399\n",
      "Epoch [52/100] Loss: 0.4289\n",
      "Epoch [52/100] Loss: 0.3408\n",
      "Epoch [52/100] Loss: 0.4432\n",
      "Epoch [52/100] Loss: 0.5718\n",
      "Epoch [52/100] Loss: 0.3319\n",
      "Epoch [52/100] Loss: 0.4858\n",
      "Epoch [52/100] Loss: 0.4059\n",
      "Epoch [52/100] Loss: 0.3960\n",
      "Epoch [52/100] Loss: 0.4534\n",
      "Epoch [52/100] Loss: 0.4524\n",
      "Epoch [52/100] Loss: 0.5641\n"
     ]
    },
    {
     "name": "stderr",
     "output_type": "stream",
     "text": [
      "218it [01:21,  2.67it/s]"
     ]
    },
    {
     "name": "stdout",
     "output_type": "stream",
     "text": [
      "Overall Acc: \t 0.548536082043\n",
      "Mean Acc : \t 0.461360569593\n",
      "FreqW Acc : \t 0.394993745585\n",
      "Mean IoU : \t 0.331706647326\n"
     ]
    },
    {
     "name": "stderr",
     "output_type": "stream",
     "text": [
      "\n"
     ]
    },
    {
     "name": "stdout",
     "output_type": "stream",
     "text": [
      "Epoch [53/100] Loss: 0.5076\n",
      "Epoch [53/100] Loss: 0.6127\n",
      "Epoch [53/100] Loss: 0.3164\n",
      "Epoch [53/100] Loss: 0.4492\n",
      "Epoch [53/100] Loss: 0.3400\n",
      "Epoch [53/100] Loss: 0.3393\n",
      "Epoch [53/100] Loss: 0.4378\n",
      "Epoch [53/100] Loss: 0.4428\n",
      "Epoch [53/100] Loss: 0.4861\n",
      "Epoch [53/100] Loss: 0.4247\n",
      "Epoch [53/100] Loss: 0.4581\n",
      "Epoch [53/100] Loss: 0.5102\n",
      "Epoch [53/100] Loss: 0.5567\n"
     ]
    },
    {
     "name": "stderr",
     "output_type": "stream",
     "text": [
      "218it [01:43,  2.10it/s]\n"
     ]
    },
    {
     "name": "stdout",
     "output_type": "stream",
     "text": [
      "Overall Acc: \t 0.56573176486\n",
      "Mean Acc : \t 0.475054185932\n",
      "FreqW Acc : \t 0.403697267219\n",
      "Mean IoU : \t 0.341677577537\n",
      "Epoch [54/100] Loss: 0.4634\n",
      "Epoch [54/100] Loss: 0.4559\n",
      "Epoch [54/100] Loss: 0.5368\n",
      "Epoch [54/100] Loss: 0.3462\n",
      "Epoch [54/100] Loss: 0.4466\n",
      "Epoch [54/100] Loss: 0.5325\n",
      "Epoch [54/100] Loss: 0.4260\n",
      "Epoch [54/100] Loss: 0.4812\n",
      "Epoch [54/100] Loss: 0.3564\n",
      "Epoch [54/100] Loss: 0.5535\n",
      "Epoch [54/100] Loss: 0.3913\n",
      "Epoch [54/100] Loss: 0.4126\n",
      "Epoch [54/100] Loss: 0.4018\n"
     ]
    },
    {
     "name": "stderr",
     "output_type": "stream",
     "text": [
      "218it [01:18,  2.77it/s]\n"
     ]
    },
    {
     "name": "stdout",
     "output_type": "stream",
     "text": [
      "Overall Acc: \t 0.568117737999\n",
      "Mean Acc : \t 0.463918510745\n",
      "FreqW Acc : \t 0.405781814438\n",
      "Mean IoU : \t 0.335051982785\n",
      "Epoch [55/100] Loss: 0.4251\n",
      "Epoch [55/100] Loss: 0.3926\n",
      "Epoch [55/100] Loss: 0.3438\n",
      "Epoch [55/100] Loss: 0.3848\n",
      "Epoch [55/100] Loss: 0.4458\n",
      "Epoch [55/100] Loss: 0.2971\n",
      "Epoch [55/100] Loss: 0.4197\n",
      "Epoch [55/100] Loss: 0.3892\n",
      "Epoch [55/100] Loss: 0.3476\n",
      "Epoch [55/100] Loss: 0.4097\n",
      "Epoch [55/100] Loss: 0.4649\n",
      "Epoch [55/100] Loss: 0.3927\n",
      "Epoch [55/100] Loss: 0.3412\n"
     ]
    },
    {
     "name": "stderr",
     "output_type": "stream",
     "text": [
      "218it [01:18,  2.77it/s]\n"
     ]
    },
    {
     "name": "stdout",
     "output_type": "stream",
     "text": [
      "Overall Acc: \t 0.563182976555\n",
      "Mean Acc : \t 0.476708394395\n",
      "FreqW Acc : \t 0.406975954127\n",
      "Mean IoU : \t 0.342015612955\n",
      "Epoch [56/100] Loss: 0.3830\n",
      "Epoch [56/100] Loss: 0.5262\n",
      "Epoch [56/100] Loss: 0.4297\n",
      "Epoch [56/100] Loss: 0.4326\n",
      "Epoch [56/100] Loss: 0.3543\n",
      "Epoch [56/100] Loss: 0.4436\n",
      "Epoch [56/100] Loss: 0.2796\n",
      "Epoch [56/100] Loss: 0.4076\n",
      "Epoch [56/100] Loss: 0.3911\n",
      "Epoch [56/100] Loss: 0.4226\n",
      "Epoch [56/100] Loss: 0.4601\n",
      "Epoch [56/100] Loss: 0.4662\n",
      "Epoch [56/100] Loss: 0.4172\n"
     ]
    },
    {
     "name": "stderr",
     "output_type": "stream",
     "text": [
      "218it [01:21,  2.69it/s]"
     ]
    },
    {
     "name": "stdout",
     "output_type": "stream",
     "text": [
      "Overall Acc: \t 0.561346317334\n",
      "Mean Acc : \t 0.454549530762\n",
      "FreqW Acc : \t 0.402883277718\n",
      "Mean IoU : \t 0.337679893781\n"
     ]
    },
    {
     "name": "stderr",
     "output_type": "stream",
     "text": [
      "\n"
     ]
    },
    {
     "name": "stdout",
     "output_type": "stream",
     "text": [
      "Epoch [57/100] Loss: 0.5308\n",
      "Epoch [57/100] Loss: 0.5556\n",
      "Epoch [57/100] Loss: 0.3996\n",
      "Epoch [57/100] Loss: 0.5367\n",
      "Epoch [57/100] Loss: 0.4296\n",
      "Epoch [57/100] Loss: 0.5350\n",
      "Epoch [57/100] Loss: 0.3952\n",
      "Epoch [57/100] Loss: 0.4480\n",
      "Epoch [57/100] Loss: 0.3779\n",
      "Epoch [57/100] Loss: 0.4178\n",
      "Epoch [57/100] Loss: 0.5391\n",
      "Epoch [57/100] Loss: 0.4376\n",
      "Epoch [57/100] Loss: 0.4365\n"
     ]
    },
    {
     "name": "stderr",
     "output_type": "stream",
     "text": [
      "218it [01:18,  2.77it/s]"
     ]
    },
    {
     "name": "stdout",
     "output_type": "stream",
     "text": [
      "Overall Acc: \t 0.556076383912\n",
      "Mean Acc : \t 0.444537696519\n",
      "FreqW Acc : \t 0.397771606358\n",
      "Mean IoU : \t 0.326248440058\n"
     ]
    },
    {
     "name": "stderr",
     "output_type": "stream",
     "text": [
      "\n"
     ]
    },
    {
     "name": "stdout",
     "output_type": "stream",
     "text": [
      "Epoch [58/100] Loss: 0.4886\n",
      "Epoch [58/100] Loss: 0.4917\n",
      "Epoch [58/100] Loss: 0.3629\n",
      "Epoch [58/100] Loss: 0.3888\n",
      "Epoch [58/100] Loss: 0.4044\n",
      "Epoch [58/100] Loss: 0.3429\n",
      "Epoch [58/100] Loss: 0.4317\n",
      "Epoch [58/100] Loss: 0.3639\n",
      "Epoch [58/100] Loss: 0.5645\n",
      "Epoch [58/100] Loss: 0.4358\n",
      "Epoch [58/100] Loss: 0.3385\n",
      "Epoch [58/100] Loss: 0.4261\n",
      "Epoch [58/100] Loss: 0.4408\n"
     ]
    },
    {
     "name": "stderr",
     "output_type": "stream",
     "text": [
      "218it [01:18,  2.77it/s]"
     ]
    },
    {
     "name": "stdout",
     "output_type": "stream",
     "text": [
      "Overall Acc: \t 0.562039905669\n",
      "Mean Acc : \t 0.483631499854\n",
      "FreqW Acc : \t 0.403180110017\n",
      "Mean IoU : \t 0.34164313502\n"
     ]
    },
    {
     "name": "stderr",
     "output_type": "stream",
     "text": [
      "\n"
     ]
    },
    {
     "name": "stdout",
     "output_type": "stream",
     "text": [
      "Epoch [59/100] Loss: 0.5528\n",
      "Epoch [59/100] Loss: 0.3356\n",
      "Epoch [59/100] Loss: 0.3964\n",
      "Epoch [59/100] Loss: 0.3695\n",
      "Epoch [59/100] Loss: 0.4485\n",
      "Epoch [59/100] Loss: 0.6018\n",
      "Epoch [59/100] Loss: 0.4689\n",
      "Epoch [59/100] Loss: 0.4641\n",
      "Epoch [59/100] Loss: 0.4557\n",
      "Epoch [59/100] Loss: 0.4704\n",
      "Epoch [59/100] Loss: 0.3116\n",
      "Epoch [59/100] Loss: 0.3375\n",
      "Epoch [59/100] Loss: 0.5507\n"
     ]
    },
    {
     "name": "stderr",
     "output_type": "stream",
     "text": [
      "218it [01:31,  2.37it/s]\n"
     ]
    },
    {
     "name": "stdout",
     "output_type": "stream",
     "text": [
      "Overall Acc: \t 0.573354293092\n",
      "Mean Acc : \t 0.470236470862\n",
      "FreqW Acc : \t 0.40904411781\n",
      "Mean IoU : \t 0.337886903549\n",
      "Epoch [60/100] Loss: 0.3893\n",
      "Epoch [60/100] Loss: 0.5910\n",
      "Epoch [60/100] Loss: 0.4143\n",
      "Epoch [60/100] Loss: 0.4041\n",
      "Epoch [60/100] Loss: 0.4571\n",
      "Epoch [60/100] Loss: 0.4074\n",
      "Epoch [60/100] Loss: 0.3406\n",
      "Epoch [60/100] Loss: 0.3655\n",
      "Epoch [60/100] Loss: 0.3368\n",
      "Epoch [60/100] Loss: 0.3646\n",
      "Epoch [60/100] Loss: 0.4492\n",
      "Epoch [60/100] Loss: 0.4317\n",
      "Epoch [60/100] Loss: 0.5437\n"
     ]
    },
    {
     "name": "stderr",
     "output_type": "stream",
     "text": [
      "218it [02:30,  1.45it/s]\n"
     ]
    },
    {
     "name": "stdout",
     "output_type": "stream",
     "text": [
      "Overall Acc: \t 0.573956203014\n",
      "Mean Acc : \t 0.480256224241\n",
      "FreqW Acc : \t 0.408689306641\n",
      "Mean IoU : \t 0.343418818296\n",
      "Epoch [61/100] Loss: 0.3649\n",
      "Epoch [61/100] Loss: 0.4532\n",
      "Epoch [61/100] Loss: 0.4130\n",
      "Epoch [61/100] Loss: 0.5448\n",
      "Epoch [61/100] Loss: 0.3665\n",
      "Epoch [61/100] Loss: 0.4398\n",
      "Epoch [61/100] Loss: 0.4401\n",
      "Epoch [61/100] Loss: 0.3651\n",
      "Epoch [61/100] Loss: 0.4380\n",
      "Epoch [61/100] Loss: 0.3505\n",
      "Epoch [61/100] Loss: 0.4202\n",
      "Epoch [61/100] Loss: 0.5077\n",
      "Epoch [61/100] Loss: 0.3821\n"
     ]
    },
    {
     "name": "stderr",
     "output_type": "stream",
     "text": [
      "218it [01:22,  2.66it/s]\n"
     ]
    },
    {
     "name": "stdout",
     "output_type": "stream",
     "text": [
      "Overall Acc: \t 0.568425474643\n",
      "Mean Acc : \t 0.481773993075\n",
      "FreqW Acc : \t 0.408201007122\n",
      "Mean IoU : \t 0.34435576451\n",
      "Epoch [62/100] Loss: 0.4391\n",
      "Epoch [62/100] Loss: 0.4721\n",
      "Epoch [62/100] Loss: 0.3950\n",
      "Epoch [62/100] Loss: 0.4065\n",
      "Epoch [62/100] Loss: 0.3843\n",
      "Epoch [62/100] Loss: 0.3410\n",
      "Epoch [62/100] Loss: 0.3354\n",
      "Epoch [62/100] Loss: 0.4665\n",
      "Epoch [62/100] Loss: 0.4749\n",
      "Epoch [62/100] Loss: 0.4856\n",
      "Epoch [62/100] Loss: 0.4548\n",
      "Epoch [62/100] Loss: 0.3612\n",
      "Epoch [62/100] Loss: 0.4134\n"
     ]
    },
    {
     "name": "stderr",
     "output_type": "stream",
     "text": [
      "218it [02:14,  1.62it/s]\n"
     ]
    },
    {
     "name": "stdout",
     "output_type": "stream",
     "text": [
      "Overall Acc: \t 0.559930401257\n",
      "Mean Acc : \t 0.47029615291\n",
      "FreqW Acc : \t 0.401633849499\n",
      "Mean IoU : \t 0.340013533645\n",
      "Epoch [63/100] Loss: 0.4867\n",
      "Epoch [63/100] Loss: 0.2127\n",
      "Epoch [63/100] Loss: 0.5110\n",
      "Epoch [63/100] Loss: 0.4137\n",
      "Epoch [63/100] Loss: 0.3972\n",
      "Epoch [63/100] Loss: 0.4960\n",
      "Epoch [63/100] Loss: 0.4491\n",
      "Epoch [63/100] Loss: 0.3873\n",
      "Epoch [63/100] Loss: 0.3612\n",
      "Epoch [63/100] Loss: 0.3152\n",
      "Epoch [63/100] Loss: 0.3609\n",
      "Epoch [63/100] Loss: 0.3547\n",
      "Epoch [63/100] Loss: 0.3777\n"
     ]
    },
    {
     "name": "stderr",
     "output_type": "stream",
     "text": [
      "218it [01:18,  2.78it/s]"
     ]
    },
    {
     "name": "stdout",
     "output_type": "stream",
     "text": [
      "Overall Acc: \t 0.555165418339\n",
      "Mean Acc : \t 0.466440193243\n",
      "FreqW Acc : \t 0.401955059248\n",
      "Mean IoU : \t 0.335527842846\n"
     ]
    },
    {
     "name": "stderr",
     "output_type": "stream",
     "text": [
      "\n"
     ]
    },
    {
     "name": "stdout",
     "output_type": "stream",
     "text": [
      "Epoch [64/100] Loss: 0.3937\n",
      "Epoch [64/100] Loss: 0.3998\n",
      "Epoch [64/100] Loss: 0.4635\n",
      "Epoch [64/100] Loss: 0.2400\n",
      "Epoch [64/100] Loss: 0.4407\n",
      "Epoch [64/100] Loss: 0.4709\n",
      "Epoch [64/100] Loss: 0.4077\n",
      "Epoch [64/100] Loss: 0.3836\n",
      "Epoch [64/100] Loss: 0.4477\n",
      "Epoch [64/100] Loss: 0.5712\n",
      "Epoch [64/100] Loss: 0.4283\n",
      "Epoch [64/100] Loss: 0.3220\n",
      "Epoch [64/100] Loss: 0.4292\n"
     ]
    },
    {
     "name": "stderr",
     "output_type": "stream",
     "text": [
      "218it [05:06,  1.41s/it]\n"
     ]
    },
    {
     "name": "stdout",
     "output_type": "stream",
     "text": [
      "Overall Acc: \t 0.55775126326\n",
      "Mean Acc : \t 0.480101432574\n",
      "FreqW Acc : \t 0.401938701893\n",
      "Mean IoU : \t 0.340092753382\n",
      "Epoch [65/100] Loss: 0.4883\n",
      "Epoch [65/100] Loss: 0.4256\n",
      "Epoch [65/100] Loss: 0.4796\n",
      "Epoch [65/100] Loss: 0.4028\n",
      "Epoch [65/100] Loss: 0.2713\n",
      "Epoch [65/100] Loss: 0.5102\n",
      "Epoch [65/100] Loss: 0.5080\n",
      "Epoch [65/100] Loss: 0.3609\n",
      "Epoch [65/100] Loss: 0.3282\n",
      "Epoch [65/100] Loss: 0.3776\n",
      "Epoch [65/100] Loss: 0.3046\n",
      "Epoch [65/100] Loss: 0.4963\n",
      "Epoch [65/100] Loss: 0.4482\n"
     ]
    },
    {
     "name": "stderr",
     "output_type": "stream",
     "text": [
      "218it [01:19,  2.74it/s]"
     ]
    },
    {
     "name": "stdout",
     "output_type": "stream",
     "text": [
      "Overall Acc: \t 0.558203836766\n",
      "Mean Acc : \t 0.465501979731\n",
      "FreqW Acc : \t 0.399231476584\n",
      "Mean IoU : \t 0.331992585382\n"
     ]
    },
    {
     "name": "stderr",
     "output_type": "stream",
     "text": [
      "\n"
     ]
    },
    {
     "name": "stdout",
     "output_type": "stream",
     "text": [
      "Epoch [66/100] Loss: 0.2661\n",
      "Epoch [66/100] Loss: 0.3928\n",
      "Epoch [66/100] Loss: 0.5077\n",
      "Epoch [66/100] Loss: 0.3908\n",
      "Epoch [66/100] Loss: 0.3597\n",
      "Epoch [66/100] Loss: 0.3750\n",
      "Epoch [66/100] Loss: 0.3226\n",
      "Epoch [66/100] Loss: 0.3150\n",
      "Epoch [66/100] Loss: 0.4824\n",
      "Epoch [66/100] Loss: 0.4328\n",
      "Epoch [66/100] Loss: 0.3479\n",
      "Epoch [66/100] Loss: 0.5395\n",
      "Epoch [66/100] Loss: 0.5097\n"
     ]
    },
    {
     "name": "stderr",
     "output_type": "stream",
     "text": [
      "218it [02:17,  1.59it/s]\n"
     ]
    },
    {
     "name": "stdout",
     "output_type": "stream",
     "text": [
      "Overall Acc: \t 0.557295280247\n",
      "Mean Acc : \t 0.469253115826\n",
      "FreqW Acc : \t 0.401496473699\n",
      "Mean IoU : \t 0.334993795729\n",
      "Epoch [67/100] Loss: 0.2942\n",
      "Epoch [67/100] Loss: 0.3642\n",
      "Epoch [67/100] Loss: 0.4054\n",
      "Epoch [67/100] Loss: 0.4325\n",
      "Epoch [67/100] Loss: 0.4243\n",
      "Epoch [67/100] Loss: 0.3401\n",
      "Epoch [67/100] Loss: 0.5640\n",
      "Epoch [67/100] Loss: 0.3799\n",
      "Epoch [67/100] Loss: 0.4199\n",
      "Epoch [67/100] Loss: 0.3094\n",
      "Epoch [67/100] Loss: 0.4561\n",
      "Epoch [67/100] Loss: 0.4118\n",
      "Epoch [67/100] Loss: 0.3537\n"
     ]
    },
    {
     "name": "stderr",
     "output_type": "stream",
     "text": [
      "218it [01:37,  2.25it/s]\n"
     ]
    },
    {
     "name": "stdout",
     "output_type": "stream",
     "text": [
      "Overall Acc: \t 0.556446556846\n",
      "Mean Acc : \t 0.460048441823\n",
      "FreqW Acc : \t 0.401047976463\n",
      "Mean IoU : \t 0.331854078849\n",
      "Epoch [68/100] Loss: 0.3688\n",
      "Epoch [68/100] Loss: 0.3172\n",
      "Epoch [68/100] Loss: 0.5134\n",
      "Epoch [68/100] Loss: 0.4030\n",
      "Epoch [68/100] Loss: 0.4958\n",
      "Epoch [68/100] Loss: 0.4885\n",
      "Epoch [68/100] Loss: 0.4327\n",
      "Epoch [68/100] Loss: 0.4116\n",
      "Epoch [68/100] Loss: 0.3918\n",
      "Epoch [68/100] Loss: 0.3037\n",
      "Epoch [68/100] Loss: 0.4162\n",
      "Epoch [68/100] Loss: 0.3978\n",
      "Epoch [68/100] Loss: 0.4318\n"
     ]
    },
    {
     "name": "stderr",
     "output_type": "stream",
     "text": [
      "218it [01:49,  1.98it/s]\n"
     ]
    },
    {
     "name": "stdout",
     "output_type": "stream",
     "text": [
      "Overall Acc: \t 0.566881027611\n",
      "Mean Acc : \t 0.469930485316\n",
      "FreqW Acc : \t 0.408299712449\n",
      "Mean IoU : \t 0.339285690311\n",
      "Epoch [69/100] Loss: 0.4065\n",
      "Epoch [69/100] Loss: 0.3625\n",
      "Epoch [69/100] Loss: 0.3345\n",
      "Epoch [69/100] Loss: 0.3950\n",
      "Epoch [69/100] Loss: 0.2601\n",
      "Epoch [69/100] Loss: 0.5146\n",
      "Epoch [69/100] Loss: 0.3357\n",
      "Epoch [69/100] Loss: 0.3167\n",
      "Epoch [69/100] Loss: 0.4539\n",
      "Epoch [69/100] Loss: 0.3792\n",
      "Epoch [69/100] Loss: 0.4424\n",
      "Epoch [69/100] Loss: 0.3335\n",
      "Epoch [69/100] Loss: 0.3015\n"
     ]
    },
    {
     "name": "stderr",
     "output_type": "stream",
     "text": [
      "218it [01:30,  2.40it/s]\n"
     ]
    },
    {
     "name": "stdout",
     "output_type": "stream",
     "text": [
      "Overall Acc: \t 0.569271241479\n",
      "Mean Acc : \t 0.472604940323\n",
      "FreqW Acc : \t 0.407107832273\n",
      "Mean IoU : \t 0.34059077301\n",
      "Epoch [70/100] Loss: 0.3786\n",
      "Epoch [70/100] Loss: 0.3583\n",
      "Epoch [70/100] Loss: 0.4458\n",
      "Epoch [70/100] Loss: 0.3292\n",
      "Epoch [70/100] Loss: 0.4232\n",
      "Epoch [70/100] Loss: 0.3721\n",
      "Epoch [70/100] Loss: 0.3087\n",
      "Epoch [70/100] Loss: 0.3539\n",
      "Epoch [70/100] Loss: 0.2969\n",
      "Epoch [70/100] Loss: 0.4286\n",
      "Epoch [70/100] Loss: 0.4639\n",
      "Epoch [70/100] Loss: 0.4470\n",
      "Epoch [70/100] Loss: 0.4171\n"
     ]
    },
    {
     "ename": "OSError",
     "evalue": "[Errno 12] Cannot allocate memory",
     "output_type": "error",
     "traceback": [
      "\u001b[0;31m---------------------------------------------------------------------------\u001b[0m",
      "\u001b[0;31mOSError\u001b[0m                                   Traceback (most recent call last)",
      "\u001b[0;32m<ipython-input-4-5fb70452cfd6>\u001b[0m in \u001b[0;36m<module>\u001b[0;34m()\u001b[0m\n\u001b[1;32m     26\u001b[0m \u001b[0;34m\u001b[0m\u001b[0m\n\u001b[1;32m     27\u001b[0m     \u001b[0mmodel\u001b[0m\u001b[0;34m.\u001b[0m\u001b[0meval\u001b[0m\u001b[0;34m(\u001b[0m\u001b[0;34m)\u001b[0m\u001b[0;34m\u001b[0m\u001b[0m\n\u001b[0;32m---> 28\u001b[0;31m     \u001b[0;32mfor\u001b[0m \u001b[0mi_val\u001b[0m\u001b[0;34m,\u001b[0m \u001b[0;34m(\u001b[0m\u001b[0mcolor_images_val\u001b[0m\u001b[0;34m,\u001b[0m \u001b[0mdepth_images_val\u001b[0m\u001b[0;34m,\u001b[0m \u001b[0mlabel_images_val\u001b[0m\u001b[0;34m)\u001b[0m \u001b[0;32min\u001b[0m \u001b[0mtqdm\u001b[0m\u001b[0;34m(\u001b[0m\u001b[0menumerate\u001b[0m\u001b[0;34m(\u001b[0m\u001b[0mvalloader\u001b[0m\u001b[0;34m)\u001b[0m\u001b[0;34m)\u001b[0m\u001b[0;34m:\u001b[0m\u001b[0;34m\u001b[0m\u001b[0m\n\u001b[0m\u001b[1;32m     29\u001b[0m         \u001b[0mcolor_images_val\u001b[0m \u001b[0;34m=\u001b[0m \u001b[0mVariable\u001b[0m\u001b[0;34m(\u001b[0m\u001b[0mcolor_images_val\u001b[0m\u001b[0;34m.\u001b[0m\u001b[0mcuda\u001b[0m\u001b[0;34m(\u001b[0m\u001b[0;34m)\u001b[0m\u001b[0;34m,\u001b[0m \u001b[0mvolatile\u001b[0m\u001b[0;34m=\u001b[0m\u001b[0;32mTrue\u001b[0m\u001b[0;34m)\u001b[0m\u001b[0;34m\u001b[0m\u001b[0m\n\u001b[1;32m     30\u001b[0m         \u001b[0mdepth_images_val\u001b[0m \u001b[0;34m=\u001b[0m \u001b[0mVariable\u001b[0m\u001b[0;34m(\u001b[0m\u001b[0mdepth_images_val\u001b[0m\u001b[0;34m.\u001b[0m\u001b[0mcuda\u001b[0m\u001b[0;34m(\u001b[0m\u001b[0;34m)\u001b[0m\u001b[0;34m,\u001b[0m \u001b[0mvolatile\u001b[0m\u001b[0;34m=\u001b[0m\u001b[0;32mTrue\u001b[0m\u001b[0;34m)\u001b[0m\u001b[0;34m\u001b[0m\u001b[0m\n",
      "\u001b[0;32m~/.conda/envs/pytorch/lib/python3.6/site-packages/torch/utils/data/dataloader.py\u001b[0m in \u001b[0;36m__iter__\u001b[0;34m(self)\u001b[0m\n\u001b[1;32m    415\u001b[0m \u001b[0;34m\u001b[0m\u001b[0m\n\u001b[1;32m    416\u001b[0m     \u001b[0;32mdef\u001b[0m \u001b[0m__iter__\u001b[0m\u001b[0;34m(\u001b[0m\u001b[0mself\u001b[0m\u001b[0;34m)\u001b[0m\u001b[0;34m:\u001b[0m\u001b[0;34m\u001b[0m\u001b[0m\n\u001b[0;32m--> 417\u001b[0;31m         \u001b[0;32mreturn\u001b[0m \u001b[0mDataLoaderIter\u001b[0m\u001b[0;34m(\u001b[0m\u001b[0mself\u001b[0m\u001b[0;34m)\u001b[0m\u001b[0;34m\u001b[0m\u001b[0m\n\u001b[0m\u001b[1;32m    418\u001b[0m \u001b[0;34m\u001b[0m\u001b[0m\n\u001b[1;32m    419\u001b[0m     \u001b[0;32mdef\u001b[0m \u001b[0m__len__\u001b[0m\u001b[0;34m(\u001b[0m\u001b[0mself\u001b[0m\u001b[0;34m)\u001b[0m\u001b[0;34m:\u001b[0m\u001b[0;34m\u001b[0m\u001b[0m\n",
      "\u001b[0;32m~/.conda/envs/pytorch/lib/python3.6/site-packages/torch/utils/data/dataloader.py\u001b[0m in \u001b[0;36m__init__\u001b[0;34m(self, loader)\u001b[0m\n\u001b[1;32m    232\u001b[0m             \u001b[0;32mfor\u001b[0m \u001b[0mw\u001b[0m \u001b[0;32min\u001b[0m \u001b[0mself\u001b[0m\u001b[0;34m.\u001b[0m\u001b[0mworkers\u001b[0m\u001b[0;34m:\u001b[0m\u001b[0;34m\u001b[0m\u001b[0m\n\u001b[1;32m    233\u001b[0m                 \u001b[0mw\u001b[0m\u001b[0;34m.\u001b[0m\u001b[0mdaemon\u001b[0m \u001b[0;34m=\u001b[0m \u001b[0;32mTrue\u001b[0m  \u001b[0;31m# ensure that the worker exits on process exit\u001b[0m\u001b[0;34m\u001b[0m\u001b[0m\n\u001b[0;32m--> 234\u001b[0;31m                 \u001b[0mw\u001b[0m\u001b[0;34m.\u001b[0m\u001b[0mstart\u001b[0m\u001b[0;34m(\u001b[0m\u001b[0;34m)\u001b[0m\u001b[0;34m\u001b[0m\u001b[0m\n\u001b[0m\u001b[1;32m    235\u001b[0m \u001b[0;34m\u001b[0m\u001b[0m\n\u001b[1;32m    236\u001b[0m             \u001b[0m_update_worker_pids\u001b[0m\u001b[0;34m(\u001b[0m\u001b[0mid\u001b[0m\u001b[0;34m(\u001b[0m\u001b[0mself\u001b[0m\u001b[0;34m)\u001b[0m\u001b[0;34m,\u001b[0m \u001b[0mtuple\u001b[0m\u001b[0;34m(\u001b[0m\u001b[0mw\u001b[0m\u001b[0;34m.\u001b[0m\u001b[0mpid\u001b[0m \u001b[0;32mfor\u001b[0m \u001b[0mw\u001b[0m \u001b[0;32min\u001b[0m \u001b[0mself\u001b[0m\u001b[0;34m.\u001b[0m\u001b[0mworkers\u001b[0m\u001b[0;34m)\u001b[0m\u001b[0;34m)\u001b[0m\u001b[0;34m\u001b[0m\u001b[0m\n",
      "\u001b[0;32m~/.conda/envs/pytorch/lib/python3.6/multiprocessing/process.py\u001b[0m in \u001b[0;36mstart\u001b[0;34m(self)\u001b[0m\n\u001b[1;32m    103\u001b[0m                \u001b[0;34m'daemonic processes are not allowed to have children'\u001b[0m\u001b[0;34m\u001b[0m\u001b[0m\n\u001b[1;32m    104\u001b[0m         \u001b[0m_cleanup\u001b[0m\u001b[0;34m(\u001b[0m\u001b[0;34m)\u001b[0m\u001b[0;34m\u001b[0m\u001b[0m\n\u001b[0;32m--> 105\u001b[0;31m         \u001b[0mself\u001b[0m\u001b[0;34m.\u001b[0m\u001b[0m_popen\u001b[0m \u001b[0;34m=\u001b[0m \u001b[0mself\u001b[0m\u001b[0;34m.\u001b[0m\u001b[0m_Popen\u001b[0m\u001b[0;34m(\u001b[0m\u001b[0mself\u001b[0m\u001b[0;34m)\u001b[0m\u001b[0;34m\u001b[0m\u001b[0m\n\u001b[0m\u001b[1;32m    106\u001b[0m         \u001b[0mself\u001b[0m\u001b[0;34m.\u001b[0m\u001b[0m_sentinel\u001b[0m \u001b[0;34m=\u001b[0m \u001b[0mself\u001b[0m\u001b[0;34m.\u001b[0m\u001b[0m_popen\u001b[0m\u001b[0;34m.\u001b[0m\u001b[0msentinel\u001b[0m\u001b[0;34m\u001b[0m\u001b[0m\n\u001b[1;32m    107\u001b[0m         \u001b[0;31m# Avoid a refcycle if the target function holds an indirect\u001b[0m\u001b[0;34m\u001b[0m\u001b[0;34m\u001b[0m\u001b[0m\n",
      "\u001b[0;32m~/.conda/envs/pytorch/lib/python3.6/multiprocessing/context.py\u001b[0m in \u001b[0;36m_Popen\u001b[0;34m(process_obj)\u001b[0m\n\u001b[1;32m    221\u001b[0m     \u001b[0;34m@\u001b[0m\u001b[0mstaticmethod\u001b[0m\u001b[0;34m\u001b[0m\u001b[0m\n\u001b[1;32m    222\u001b[0m     \u001b[0;32mdef\u001b[0m \u001b[0m_Popen\u001b[0m\u001b[0;34m(\u001b[0m\u001b[0mprocess_obj\u001b[0m\u001b[0;34m)\u001b[0m\u001b[0;34m:\u001b[0m\u001b[0;34m\u001b[0m\u001b[0m\n\u001b[0;32m--> 223\u001b[0;31m         \u001b[0;32mreturn\u001b[0m \u001b[0m_default_context\u001b[0m\u001b[0;34m.\u001b[0m\u001b[0mget_context\u001b[0m\u001b[0;34m(\u001b[0m\u001b[0;34m)\u001b[0m\u001b[0;34m.\u001b[0m\u001b[0mProcess\u001b[0m\u001b[0;34m.\u001b[0m\u001b[0m_Popen\u001b[0m\u001b[0;34m(\u001b[0m\u001b[0mprocess_obj\u001b[0m\u001b[0;34m)\u001b[0m\u001b[0;34m\u001b[0m\u001b[0m\n\u001b[0m\u001b[1;32m    224\u001b[0m \u001b[0;34m\u001b[0m\u001b[0m\n\u001b[1;32m    225\u001b[0m \u001b[0;32mclass\u001b[0m \u001b[0mDefaultContext\u001b[0m\u001b[0;34m(\u001b[0m\u001b[0mBaseContext\u001b[0m\u001b[0;34m)\u001b[0m\u001b[0;34m:\u001b[0m\u001b[0;34m\u001b[0m\u001b[0m\n",
      "\u001b[0;32m~/.conda/envs/pytorch/lib/python3.6/multiprocessing/context.py\u001b[0m in \u001b[0;36m_Popen\u001b[0;34m(process_obj)\u001b[0m\n\u001b[1;32m    275\u001b[0m         \u001b[0;32mdef\u001b[0m \u001b[0m_Popen\u001b[0m\u001b[0;34m(\u001b[0m\u001b[0mprocess_obj\u001b[0m\u001b[0;34m)\u001b[0m\u001b[0;34m:\u001b[0m\u001b[0;34m\u001b[0m\u001b[0m\n\u001b[1;32m    276\u001b[0m             \u001b[0;32mfrom\u001b[0m \u001b[0;34m.\u001b[0m\u001b[0mpopen_fork\u001b[0m \u001b[0;32mimport\u001b[0m \u001b[0mPopen\u001b[0m\u001b[0;34m\u001b[0m\u001b[0m\n\u001b[0;32m--> 277\u001b[0;31m             \u001b[0;32mreturn\u001b[0m \u001b[0mPopen\u001b[0m\u001b[0;34m(\u001b[0m\u001b[0mprocess_obj\u001b[0m\u001b[0;34m)\u001b[0m\u001b[0;34m\u001b[0m\u001b[0m\n\u001b[0m\u001b[1;32m    278\u001b[0m \u001b[0;34m\u001b[0m\u001b[0m\n\u001b[1;32m    279\u001b[0m     \u001b[0;32mclass\u001b[0m \u001b[0mSpawnProcess\u001b[0m\u001b[0;34m(\u001b[0m\u001b[0mprocess\u001b[0m\u001b[0;34m.\u001b[0m\u001b[0mBaseProcess\u001b[0m\u001b[0;34m)\u001b[0m\u001b[0;34m:\u001b[0m\u001b[0;34m\u001b[0m\u001b[0m\n",
      "\u001b[0;32m~/.conda/envs/pytorch/lib/python3.6/multiprocessing/popen_fork.py\u001b[0m in \u001b[0;36m__init__\u001b[0;34m(self, process_obj)\u001b[0m\n\u001b[1;32m     18\u001b[0m         \u001b[0msys\u001b[0m\u001b[0;34m.\u001b[0m\u001b[0mstderr\u001b[0m\u001b[0;34m.\u001b[0m\u001b[0mflush\u001b[0m\u001b[0;34m(\u001b[0m\u001b[0;34m)\u001b[0m\u001b[0;34m\u001b[0m\u001b[0m\n\u001b[1;32m     19\u001b[0m         \u001b[0mself\u001b[0m\u001b[0;34m.\u001b[0m\u001b[0mreturncode\u001b[0m \u001b[0;34m=\u001b[0m \u001b[0;32mNone\u001b[0m\u001b[0;34m\u001b[0m\u001b[0m\n\u001b[0;32m---> 20\u001b[0;31m         \u001b[0mself\u001b[0m\u001b[0;34m.\u001b[0m\u001b[0m_launch\u001b[0m\u001b[0;34m(\u001b[0m\u001b[0mprocess_obj\u001b[0m\u001b[0;34m)\u001b[0m\u001b[0;34m\u001b[0m\u001b[0m\n\u001b[0m\u001b[1;32m     21\u001b[0m \u001b[0;34m\u001b[0m\u001b[0m\n\u001b[1;32m     22\u001b[0m     \u001b[0;32mdef\u001b[0m \u001b[0mduplicate_for_child\u001b[0m\u001b[0;34m(\u001b[0m\u001b[0mself\u001b[0m\u001b[0;34m,\u001b[0m \u001b[0mfd\u001b[0m\u001b[0;34m)\u001b[0m\u001b[0;34m:\u001b[0m\u001b[0;34m\u001b[0m\u001b[0m\n",
      "\u001b[0;32m~/.conda/envs/pytorch/lib/python3.6/multiprocessing/popen_fork.py\u001b[0m in \u001b[0;36m_launch\u001b[0;34m(self, process_obj)\u001b[0m\n\u001b[1;32m     65\u001b[0m         \u001b[0mcode\u001b[0m \u001b[0;34m=\u001b[0m \u001b[0;36m1\u001b[0m\u001b[0;34m\u001b[0m\u001b[0m\n\u001b[1;32m     66\u001b[0m         \u001b[0mparent_r\u001b[0m\u001b[0;34m,\u001b[0m \u001b[0mchild_w\u001b[0m \u001b[0;34m=\u001b[0m \u001b[0mos\u001b[0m\u001b[0;34m.\u001b[0m\u001b[0mpipe\u001b[0m\u001b[0;34m(\u001b[0m\u001b[0;34m)\u001b[0m\u001b[0;34m\u001b[0m\u001b[0m\n\u001b[0;32m---> 67\u001b[0;31m         \u001b[0mself\u001b[0m\u001b[0;34m.\u001b[0m\u001b[0mpid\u001b[0m \u001b[0;34m=\u001b[0m \u001b[0mos\u001b[0m\u001b[0;34m.\u001b[0m\u001b[0mfork\u001b[0m\u001b[0;34m(\u001b[0m\u001b[0;34m)\u001b[0m\u001b[0;34m\u001b[0m\u001b[0m\n\u001b[0m\u001b[1;32m     68\u001b[0m         \u001b[0;32mif\u001b[0m \u001b[0mself\u001b[0m\u001b[0;34m.\u001b[0m\u001b[0mpid\u001b[0m \u001b[0;34m==\u001b[0m \u001b[0;36m0\u001b[0m\u001b[0;34m:\u001b[0m\u001b[0;34m\u001b[0m\u001b[0m\n\u001b[1;32m     69\u001b[0m             \u001b[0;32mtry\u001b[0m\u001b[0;34m:\u001b[0m\u001b[0;34m\u001b[0m\u001b[0m\n",
      "\u001b[0;31mOSError\u001b[0m: [Errno 12] Cannot allocate memory"
     ]
    }
   ],
   "source": [
    "best_iou = -100.0 \n",
    "for epoch in range(args.n_epoch):\n",
    "    model.train()\n",
    "    for i, (color_imgs, depth_imgs, label_imgs) in enumerate(trainloader):\n",
    "        images = Variable(color_imgs.cuda())\n",
    "        depth_images = Variable(depth_imgs.cuda())\n",
    "        labels = Variable(label_imgs.cuda())\n",
    "\n",
    "        optimizer.zero_grad()\n",
    "        outputs = model(images,depth_images)\n",
    "\n",
    "        loss = loss_fn(input=outputs, target=labels)\n",
    "\n",
    "        loss.backward()\n",
    "        optimizer.step()\n",
    "\n",
    "        if args.visdom:\n",
    "            vis.line(\n",
    "                X=torch.ones((1, 1)).cpu() * i,\n",
    "                Y=torch.Tensor([loss.data[0]]).unsqueeze(0).cpu(),\n",
    "                win=loss_window,\n",
    "                update='append')\n",
    "\n",
    "        if (i+1) % 20 == 0:\n",
    "            print(\"Epoch [%d/%d] Loss: %.4f\" % (epoch+1, args.n_epoch, loss.data[0]))\n",
    "\n",
    "    model.eval()\n",
    "    for i_val, (color_images_val, depth_images_val, label_images_val) in tqdm(enumerate(valloader)):\n",
    "        color_images_val = Variable(color_images_val.cuda(), volatile=True)\n",
    "        depth_images_val = Variable(depth_images_val.cuda(), volatile=True)\n",
    "        label_images_val = Variable(label_images_val.cuda(), volatile=True)\n",
    "\n",
    "        outputs = model(color_images_val, depth_images_val)\n",
    "        pred = outputs.data.max(1)[1].cpu().numpy()\n",
    "        gt = label_images_val.data.cpu().numpy()\n",
    "        running_metrics.update(gt, pred)\n",
    "\n",
    "    score, class_iou = running_metrics.get_scores()\n",
    "    for k, v in score.items():\n",
    "        print(k, v)\n",
    "    running_metrics.reset()\n",
    "\n",
    "    if score['Mean IoU : \\t'] >= best_iou:\n",
    "        best_iou = score['Mean IoU : \\t']\n",
    "        state = {'epoch': epoch+1,\n",
    "                 'model_state': model.state_dict(),\n",
    "                 'optimizer_state' : optimizer.state_dict(),}\n",
    "        torch.save(state, \"../model_weights/{}_{}_best_model.pkl\".format(args.arch, 'NYUDv2'))"
   ]
  },
  {
   "cell_type": "markdown",
   "metadata": {},
   "source": [
    "# Training.. fcn8s_rgbd_renet_maskedconv on NYUDv2"
   ]
  },
  {
   "cell_type": "code",
   "execution_count": null,
   "metadata": {},
   "outputs": [],
   "source": []
  }
 ],
 "metadata": {
  "kernelspec": {
   "display_name": "Python [conda env:pytorch]",
   "language": "python",
   "name": "conda-env-pytorch-py"
  },
  "language_info": {
   "codemirror_mode": {
    "name": "ipython",
    "version": 3
   },
   "file_extension": ".py",
   "mimetype": "text/x-python",
   "name": "python",
   "nbconvert_exporter": "python",
   "pygments_lexer": "ipython3",
   "version": "3.6.3"
  }
 },
 "nbformat": 4,
 "nbformat_minor": 2
}
