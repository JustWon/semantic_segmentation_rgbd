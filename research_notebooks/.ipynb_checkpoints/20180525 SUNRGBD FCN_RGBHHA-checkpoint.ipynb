{
 "cells": [
  {
   "cell_type": "code",
   "execution_count": 1,
   "metadata": {},
   "outputs": [
    {
     "name": "stderr",
     "output_type": "stream",
     "text": [
      "/home/dongwonshin/.conda/envs/pytorch/lib/python3.6/site-packages/torch/nn/functional.py:1462: UserWarning: nn.functional.upsample_bilinear is deprecated. Use nn.functional.upsample instead.\n",
      "  warnings.warn(\"nn.functional.upsample_bilinear is deprecated. Use nn.functional.upsample instead.\")\n"
     ]
    },
    {
     "name": "stdout",
     "output_type": "stream",
     "text": [
      "Epoch [1/50] Loss: 2.1275\n",
      "Epoch [1/50] Loss: 2.2890\n",
      "Epoch [1/50] Loss: 1.9994\n",
      "Epoch [1/50] Loss: 1.9082\n",
      "Epoch [1/50] Loss: 2.5473\n",
      "Epoch [1/50] Loss: 2.1595\n",
      "Epoch [1/50] Loss: 2.0623\n",
      "Epoch [1/50] Loss: 1.8020\n",
      "Epoch [1/50] Loss: 1.9303\n",
      "Epoch [1/50] Loss: 1.9221\n"
     ]
    },
    {
     "name": "stderr",
     "output_type": "stream",
     "text": [
      "1010it [03:13,  5.22it/s]\n"
     ]
    },
    {
     "name": "stdout",
     "output_type": "stream",
     "text": [
      "Overall Acc: \t 0.45046221186\n",
      "Mean Acc : \t 0.0649485215683\n",
      "FreqW Acc : \t 0.256708230323\n",
      "Mean IoU : \t 0.0381150641538\n",
      "Epoch [2/50] Loss: 1.8697\n",
      "Epoch [2/50] Loss: 1.9962\n",
      "Epoch [2/50] Loss: 2.0380\n",
      "Epoch [2/50] Loss: 2.0833\n",
      "Epoch [2/50] Loss: 1.9787\n",
      "Epoch [2/50] Loss: 1.5633\n",
      "Epoch [2/50] Loss: 2.0445\n",
      "Epoch [2/50] Loss: 1.8678\n",
      "Epoch [2/50] Loss: 2.1576\n",
      "Epoch [2/50] Loss: 1.6426\n"
     ]
    },
    {
     "name": "stderr",
     "output_type": "stream",
     "text": [
      "1010it [03:13,  5.22it/s]\n"
     ]
    },
    {
     "name": "stdout",
     "output_type": "stream",
     "text": [
      "Overall Acc: \t 0.480625681473\n",
      "Mean Acc : \t 0.075065116651\n",
      "FreqW Acc : \t 0.292423444079\n",
      "Mean IoU : \t 0.0486081963543\n",
      "Epoch [3/50] Loss: 1.8870\n",
      "Epoch [3/50] Loss: 2.0821\n",
      "Epoch [3/50] Loss: 1.6835\n",
      "Epoch [3/50] Loss: 1.7627\n",
      "Epoch [3/50] Loss: 1.7394\n",
      "Epoch [3/50] Loss: 2.1731\n",
      "Epoch [3/50] Loss: 1.7119\n",
      "Epoch [3/50] Loss: 1.4676\n",
      "Epoch [3/50] Loss: 1.8610\n",
      "Epoch [3/50] Loss: 1.8601\n"
     ]
    },
    {
     "name": "stderr",
     "output_type": "stream",
     "text": [
      "1010it [03:13,  5.21it/s]\n"
     ]
    },
    {
     "name": "stdout",
     "output_type": "stream",
     "text": [
      "Overall Acc: \t 0.4969686119\n",
      "Mean Acc : \t 0.0892122664662\n",
      "FreqW Acc : \t 0.306293957993\n",
      "Mean IoU : \t 0.0597925413136\n",
      "Epoch [4/50] Loss: 1.7303\n",
      "Epoch [4/50] Loss: 1.7784\n",
      "Epoch [4/50] Loss: 1.8314\n",
      "Epoch [4/50] Loss: 1.2730\n",
      "Epoch [4/50] Loss: 1.9721\n",
      "Epoch [4/50] Loss: 1.8399\n",
      "Epoch [4/50] Loss: 1.4006\n",
      "Epoch [4/50] Loss: 1.9034\n",
      "Epoch [4/50] Loss: 1.6507\n",
      "Epoch [4/50] Loss: 1.7678\n"
     ]
    },
    {
     "name": "stderr",
     "output_type": "stream",
     "text": [
      "1010it [03:13,  5.23it/s]\n"
     ]
    },
    {
     "name": "stdout",
     "output_type": "stream",
     "text": [
      "Overall Acc: \t 0.506967564225\n",
      "Mean Acc : \t 0.0986598938672\n",
      "FreqW Acc : \t 0.317940063397\n",
      "Mean IoU : \t 0.0675468976444\n",
      "Epoch [5/50] Loss: 1.9103\n",
      "Epoch [5/50] Loss: 1.5427\n",
      "Epoch [5/50] Loss: 1.6217\n",
      "Epoch [5/50] Loss: 1.4279\n",
      "Epoch [5/50] Loss: 1.9801\n",
      "Epoch [5/50] Loss: 1.9899\n",
      "Epoch [5/50] Loss: 1.6535\n",
      "Epoch [5/50] Loss: 1.5360\n",
      "Epoch [5/50] Loss: 2.0722\n",
      "Epoch [5/50] Loss: 1.7804\n"
     ]
    },
    {
     "name": "stderr",
     "output_type": "stream",
     "text": [
      "1010it [03:14,  5.19it/s]\n"
     ]
    },
    {
     "name": "stdout",
     "output_type": "stream",
     "text": [
      "Overall Acc: \t 0.518324003541\n",
      "Mean Acc : \t 0.110766912266\n",
      "FreqW Acc : \t 0.333861670855\n",
      "Mean IoU : \t 0.0762400302164\n",
      "Epoch [6/50] Loss: 1.4473\n",
      "Epoch [6/50] Loss: 1.6229\n",
      "Epoch [6/50] Loss: 1.5319\n",
      "Epoch [6/50] Loss: 1.7596\n",
      "Epoch [6/50] Loss: 1.6377\n",
      "Epoch [6/50] Loss: 1.7236\n",
      "Epoch [6/50] Loss: 1.5057\n",
      "Epoch [6/50] Loss: 1.7036\n",
      "Epoch [6/50] Loss: 1.4403\n",
      "Epoch [6/50] Loss: 1.8883\n"
     ]
    },
    {
     "name": "stderr",
     "output_type": "stream",
     "text": [
      "1010it [03:13,  5.22it/s]\n"
     ]
    },
    {
     "name": "stdout",
     "output_type": "stream",
     "text": [
      "Overall Acc: \t 0.523839593984\n",
      "Mean Acc : \t 0.119292917563\n",
      "FreqW Acc : \t 0.342196400694\n",
      "Mean IoU : \t 0.0815413127516\n",
      "Epoch [7/50] Loss: 1.8850\n",
      "Epoch [7/50] Loss: 1.6734\n",
      "Epoch [7/50] Loss: 1.4368\n",
      "Epoch [7/50] Loss: 1.6092\n",
      "Epoch [7/50] Loss: 1.9080\n",
      "Epoch [7/50] Loss: 1.7274\n",
      "Epoch [7/50] Loss: 1.5306\n",
      "Epoch [7/50] Loss: 1.6171\n",
      "Epoch [7/50] Loss: 1.5028\n",
      "Epoch [7/50] Loss: 1.7112\n"
     ]
    },
    {
     "name": "stderr",
     "output_type": "stream",
     "text": [
      "1010it [03:10,  5.29it/s]\n"
     ]
    },
    {
     "name": "stdout",
     "output_type": "stream",
     "text": [
      "Overall Acc: \t 0.529336078694\n",
      "Mean Acc : \t 0.117806336792\n",
      "FreqW Acc : \t 0.348287643201\n",
      "Mean IoU : \t 0.0837516339915\n",
      "Epoch [8/50] Loss: 1.3327\n",
      "Epoch [8/50] Loss: 1.6873\n",
      "Epoch [8/50] Loss: 1.2344\n",
      "Epoch [8/50] Loss: 1.4446\n",
      "Epoch [8/50] Loss: 1.5073\n",
      "Epoch [8/50] Loss: 1.4864\n",
      "Epoch [8/50] Loss: 1.4502\n",
      "Epoch [8/50] Loss: 1.7051\n",
      "Epoch [8/50] Loss: 1.7891\n",
      "Epoch [8/50] Loss: 1.7909\n"
     ]
    },
    {
     "name": "stderr",
     "output_type": "stream",
     "text": [
      "1010it [03:11,  5.27it/s]\n"
     ]
    },
    {
     "name": "stdout",
     "output_type": "stream",
     "text": [
      "Overall Acc: \t 0.53369821195\n",
      "Mean Acc : \t 0.12575585841\n",
      "FreqW Acc : \t 0.354897349537\n",
      "Mean IoU : \t 0.089424529583\n",
      "Epoch [9/50] Loss: 1.6840\n",
      "Epoch [9/50] Loss: 1.1800\n",
      "Epoch [9/50] Loss: 1.6422\n",
      "Epoch [9/50] Loss: 1.1080\n",
      "Epoch [9/50] Loss: 1.3426\n",
      "Epoch [9/50] Loss: 1.5293\n",
      "Epoch [9/50] Loss: 1.5437\n",
      "Epoch [9/50] Loss: 1.6742\n",
      "Epoch [9/50] Loss: 1.5891\n",
      "Epoch [9/50] Loss: 1.4360\n"
     ]
    },
    {
     "name": "stderr",
     "output_type": "stream",
     "text": [
      "1010it [03:12,  5.24it/s]\n"
     ]
    },
    {
     "name": "stdout",
     "output_type": "stream",
     "text": [
      "Overall Acc: \t 0.540559501263\n",
      "Mean Acc : \t 0.142406325815\n",
      "FreqW Acc : \t 0.362047723987\n",
      "Mean IoU : \t 0.102014745931\n",
      "Epoch [10/50] Loss: 1.8833\n",
      "Epoch [10/50] Loss: 1.2547\n",
      "Epoch [10/50] Loss: 1.6845\n",
      "Epoch [10/50] Loss: 1.6379\n",
      "Epoch [10/50] Loss: 1.4980\n",
      "Epoch [10/50] Loss: 1.6512\n",
      "Epoch [10/50] Loss: 1.4565\n",
      "Epoch [10/50] Loss: 1.4328\n",
      "Epoch [10/50] Loss: 1.5260\n",
      "Epoch [10/50] Loss: 1.5030\n"
     ]
    },
    {
     "name": "stderr",
     "output_type": "stream",
     "text": [
      "1010it [03:13,  5.21it/s]\n"
     ]
    },
    {
     "name": "stdout",
     "output_type": "stream",
     "text": [
      "Overall Acc: \t 0.54404600991\n",
      "Mean Acc : \t 0.146149007856\n",
      "FreqW Acc : \t 0.367095013245\n",
      "Mean IoU : \t 0.106765878671\n",
      "Epoch [11/50] Loss: 1.5779\n",
      "Epoch [11/50] Loss: 1.1893\n",
      "Epoch [11/50] Loss: 1.3445\n",
      "Epoch [11/50] Loss: 1.8757\n",
      "Epoch [11/50] Loss: 1.6228\n",
      "Epoch [11/50] Loss: 1.5063\n",
      "Epoch [11/50] Loss: 1.7815\n",
      "Epoch [11/50] Loss: 2.0416\n",
      "Epoch [11/50] Loss: 1.5448\n",
      "Epoch [11/50] Loss: 1.4470\n"
     ]
    },
    {
     "name": "stderr",
     "output_type": "stream",
     "text": [
      "1010it [03:12,  5.25it/s]\n"
     ]
    },
    {
     "name": "stdout",
     "output_type": "stream",
     "text": [
      "Overall Acc: \t 0.544791716955\n",
      "Mean Acc : \t 0.149015423675\n",
      "FreqW Acc : \t 0.366268900007\n",
      "Mean IoU : \t 0.108208171921\n",
      "Epoch [12/50] Loss: 1.4889\n",
      "Epoch [12/50] Loss: 1.4573\n",
      "Epoch [12/50] Loss: 1.1989\n",
      "Epoch [12/50] Loss: 1.3895\n",
      "Epoch [12/50] Loss: 1.3341\n",
      "Epoch [12/50] Loss: 1.2583\n",
      "Epoch [12/50] Loss: 1.7038\n",
      "Epoch [12/50] Loss: 1.2392\n",
      "Epoch [12/50] Loss: 1.6483\n",
      "Epoch [12/50] Loss: 1.3326\n"
     ]
    },
    {
     "name": "stderr",
     "output_type": "stream",
     "text": [
      "1010it [03:13,  5.22it/s]\n"
     ]
    },
    {
     "name": "stdout",
     "output_type": "stream",
     "text": [
      "Overall Acc: \t 0.548601154003\n",
      "Mean Acc : \t 0.156570972104\n",
      "FreqW Acc : \t 0.370749918957\n",
      "Mean IoU : \t 0.114000253927\n",
      "Epoch [13/50] Loss: 1.4750\n",
      "Epoch [13/50] Loss: 1.8720\n",
      "Epoch [13/50] Loss: 1.5238\n",
      "Epoch [13/50] Loss: 1.1693\n",
      "Epoch [13/50] Loss: 1.6149\n",
      "Epoch [13/50] Loss: 1.6143\n",
      "Epoch [13/50] Loss: 1.2820\n",
      "Epoch [13/50] Loss: 1.0648\n",
      "Epoch [13/50] Loss: 1.4946\n",
      "Epoch [13/50] Loss: 1.5516\n"
     ]
    },
    {
     "name": "stderr",
     "output_type": "stream",
     "text": [
      "1010it [03:13,  5.23it/s]\n"
     ]
    },
    {
     "name": "stdout",
     "output_type": "stream",
     "text": [
      "Overall Acc: \t 0.549391933015\n",
      "Mean Acc : \t 0.157468428672\n",
      "FreqW Acc : \t 0.371507227326\n",
      "Mean IoU : \t 0.115866774004\n",
      "Epoch [14/50] Loss: 1.4466\n",
      "Epoch [14/50] Loss: 1.3551\n",
      "Epoch [14/50] Loss: 1.4534\n",
      "Epoch [14/50] Loss: 1.6082\n",
      "Epoch [14/50] Loss: 1.3400\n",
      "Epoch [14/50] Loss: 1.1345\n",
      "Epoch [14/50] Loss: 1.3539\n",
      "Epoch [14/50] Loss: 1.4294\n",
      "Epoch [14/50] Loss: 1.2259\n",
      "Epoch [14/50] Loss: 1.7644\n"
     ]
    },
    {
     "name": "stderr",
     "output_type": "stream",
     "text": [
      "1010it [03:11,  5.27it/s]\n"
     ]
    },
    {
     "name": "stdout",
     "output_type": "stream",
     "text": [
      "Overall Acc: \t 0.552841489987\n",
      "Mean Acc : \t 0.180091610878\n",
      "FreqW Acc : \t 0.379343646788\n",
      "Mean IoU : \t 0.128155853717\n",
      "Epoch [15/50] Loss: 1.1688\n",
      "Epoch [15/50] Loss: 1.5234\n",
      "Epoch [15/50] Loss: 1.0562\n",
      "Epoch [15/50] Loss: 1.4086\n",
      "Epoch [15/50] Loss: 1.5660\n",
      "Epoch [15/50] Loss: 1.1751\n",
      "Epoch [15/50] Loss: 1.2899\n",
      "Epoch [15/50] Loss: 1.1087\n",
      "Epoch [15/50] Loss: 1.5938\n",
      "Epoch [15/50] Loss: 1.4808\n"
     ]
    },
    {
     "name": "stderr",
     "output_type": "stream",
     "text": [
      "1010it [03:12,  5.24it/s]\n"
     ]
    },
    {
     "name": "stdout",
     "output_type": "stream",
     "text": [
      "Overall Acc: \t 0.554141661715\n",
      "Mean Acc : \t 0.181153306822\n",
      "FreqW Acc : \t 0.37551129763\n",
      "Mean IoU : \t 0.129450734313\n",
      "Epoch [16/50] Loss: 1.3913\n",
      "Epoch [16/50] Loss: 1.5170\n",
      "Epoch [16/50] Loss: 1.2750\n",
      "Epoch [16/50] Loss: 1.3753\n",
      "Epoch [16/50] Loss: 1.7608\n",
      "Epoch [16/50] Loss: 1.4450\n",
      "Epoch [16/50] Loss: 1.4233\n",
      "Epoch [16/50] Loss: 1.5428\n",
      "Epoch [16/50] Loss: 1.5705\n",
      "Epoch [16/50] Loss: 1.5886\n"
     ]
    },
    {
     "name": "stderr",
     "output_type": "stream",
     "text": [
      "1010it [03:12,  5.25it/s]\n"
     ]
    },
    {
     "name": "stdout",
     "output_type": "stream",
     "text": [
      "Overall Acc: \t 0.556940752114\n",
      "Mean Acc : \t 0.178730964323\n",
      "FreqW Acc : \t 0.380473415013\n",
      "Mean IoU : \t 0.130207278121\n",
      "Epoch [17/50] Loss: 1.4065\n",
      "Epoch [17/50] Loss: 1.1273\n",
      "Epoch [17/50] Loss: 1.0024\n",
      "Epoch [17/50] Loss: 1.0446\n",
      "Epoch [17/50] Loss: 1.4888\n",
      "Epoch [17/50] Loss: 1.1144\n",
      "Epoch [17/50] Loss: 1.4418\n",
      "Epoch [17/50] Loss: 1.0375\n",
      "Epoch [17/50] Loss: 1.2837\n",
      "Epoch [17/50] Loss: 1.2258\n"
     ]
    },
    {
     "name": "stderr",
     "output_type": "stream",
     "text": [
      "1010it [03:12,  5.25it/s]\n"
     ]
    },
    {
     "name": "stdout",
     "output_type": "stream",
     "text": [
      "Overall Acc: \t 0.555353576616\n",
      "Mean Acc : \t 0.189802101994\n",
      "FreqW Acc : \t 0.37916651523\n",
      "Mean IoU : \t 0.13479382819\n",
      "Epoch [18/50] Loss: 1.3547\n",
      "Epoch [18/50] Loss: 1.5946\n",
      "Epoch [18/50] Loss: 1.5311\n",
      "Epoch [18/50] Loss: 0.9398\n",
      "Epoch [18/50] Loss: 1.2268\n",
      "Epoch [18/50] Loss: 1.3851\n",
      "Epoch [18/50] Loss: 1.6247\n",
      "Epoch [18/50] Loss: 1.4588\n",
      "Epoch [18/50] Loss: 1.4812\n",
      "Epoch [18/50] Loss: 1.2001\n"
     ]
    },
    {
     "name": "stderr",
     "output_type": "stream",
     "text": [
      "1010it [03:14,  5.20it/s]\n"
     ]
    },
    {
     "name": "stdout",
     "output_type": "stream",
     "text": [
      "Overall Acc: \t 0.553499951775\n",
      "Mean Acc : \t 0.190014988732\n",
      "FreqW Acc : \t 0.383572270982\n",
      "Mean IoU : \t 0.13895850057\n",
      "Epoch [19/50] Loss: 1.3649\n",
      "Epoch [19/50] Loss: 1.3890\n",
      "Epoch [19/50] Loss: 1.0323\n",
      "Epoch [19/50] Loss: 1.1750\n",
      "Epoch [19/50] Loss: 0.9976\n",
      "Epoch [19/50] Loss: 1.6338\n",
      "Epoch [19/50] Loss: 1.4699\n",
      "Epoch [19/50] Loss: 1.4494\n",
      "Epoch [19/50] Loss: 1.3517\n",
      "Epoch [19/50] Loss: 1.3069\n"
     ]
    },
    {
     "name": "stderr",
     "output_type": "stream",
     "text": [
      "1010it [03:10,  5.29it/s]\n"
     ]
    },
    {
     "name": "stdout",
     "output_type": "stream",
     "text": [
      "Overall Acc: \t 0.560188756953\n",
      "Mean Acc : \t 0.205189734058\n",
      "FreqW Acc : \t 0.389915759464\n",
      "Mean IoU : \t 0.14453645813\n",
      "Epoch [20/50] Loss: 1.1317\n",
      "Epoch [20/50] Loss: 1.2025\n",
      "Epoch [20/50] Loss: 1.5175\n",
      "Epoch [20/50] Loss: 1.5277\n",
      "Epoch [20/50] Loss: 1.0772\n",
      "Epoch [20/50] Loss: 1.3673\n",
      "Epoch [20/50] Loss: 1.2690\n",
      "Epoch [20/50] Loss: 1.1627\n",
      "Epoch [20/50] Loss: 1.2501\n",
      "Epoch [20/50] Loss: 1.2189\n"
     ]
    },
    {
     "name": "stderr",
     "output_type": "stream",
     "text": [
      "1010it [03:12,  5.26it/s]"
     ]
    },
    {
     "name": "stdout",
     "output_type": "stream",
     "text": [
      "Overall Acc: \t 0.56108819055\n",
      "Mean Acc : \t 0.189480970966\n",
      "FreqW Acc : \t 0.386622674456\n",
      "Mean IoU : \t 0.138059017637\n"
     ]
    },
    {
     "name": "stderr",
     "output_type": "stream",
     "text": [
      "\n"
     ]
    },
    {
     "name": "stdout",
     "output_type": "stream",
     "text": [
      "Epoch [21/50] Loss: 1.2256\n",
      "Epoch [21/50] Loss: 1.0893\n",
      "Epoch [21/50] Loss: 1.0412\n",
      "Epoch [21/50] Loss: 1.2468\n",
      "Epoch [21/50] Loss: 1.4920\n",
      "Epoch [21/50] Loss: 1.3227\n",
      "Epoch [21/50] Loss: 1.1982\n",
      "Epoch [21/50] Loss: 1.6908\n",
      "Epoch [21/50] Loss: 1.3648\n",
      "Epoch [21/50] Loss: 1.1215\n"
     ]
    },
    {
     "name": "stderr",
     "output_type": "stream",
     "text": [
      "1010it [03:10,  5.30it/s]"
     ]
    },
    {
     "name": "stdout",
     "output_type": "stream",
     "text": [
      "Overall Acc: \t 0.563001403305\n",
      "Mean Acc : \t 0.196419431428\n",
      "FreqW Acc : \t 0.389509092458\n",
      "Mean IoU : \t 0.144292121145\n"
     ]
    },
    {
     "name": "stderr",
     "output_type": "stream",
     "text": [
      "\n"
     ]
    },
    {
     "name": "stdout",
     "output_type": "stream",
     "text": [
      "Epoch [22/50] Loss: 1.2755\n",
      "Epoch [22/50] Loss: 1.4284\n",
      "Epoch [22/50] Loss: 0.8372\n",
      "Epoch [22/50] Loss: 1.3320\n",
      "Epoch [22/50] Loss: 1.6664\n",
      "Epoch [22/50] Loss: 1.4229\n",
      "Epoch [22/50] Loss: 1.3548\n",
      "Epoch [22/50] Loss: 1.4942\n",
      "Epoch [22/50] Loss: 1.0372\n",
      "Epoch [22/50] Loss: 1.5456\n"
     ]
    },
    {
     "name": "stderr",
     "output_type": "stream",
     "text": [
      "1010it [03:11,  5.28it/s]"
     ]
    },
    {
     "name": "stdout",
     "output_type": "stream",
     "text": [
      "Overall Acc: \t 0.562583458152\n",
      "Mean Acc : \t 0.198782816513\n",
      "FreqW Acc : \t 0.388410723826\n",
      "Mean IoU : \t 0.142499630181\n"
     ]
    },
    {
     "name": "stderr",
     "output_type": "stream",
     "text": [
      "\n"
     ]
    },
    {
     "name": "stdout",
     "output_type": "stream",
     "text": [
      "Epoch [23/50] Loss: 1.0311\n",
      "Epoch [23/50] Loss: 1.4675\n",
      "Epoch [23/50] Loss: 1.0256\n",
      "Epoch [23/50] Loss: 1.3630\n",
      "Epoch [23/50] Loss: 1.6684\n",
      "Epoch [23/50] Loss: 1.1028\n",
      "Epoch [23/50] Loss: 1.2271\n",
      "Epoch [23/50] Loss: 1.5473\n",
      "Epoch [23/50] Loss: 1.5452\n",
      "Epoch [23/50] Loss: 1.2590\n"
     ]
    },
    {
     "name": "stderr",
     "output_type": "stream",
     "text": [
      "1010it [03:13,  5.23it/s]\n"
     ]
    },
    {
     "name": "stdout",
     "output_type": "stream",
     "text": [
      "Overall Acc: \t 0.564728069863\n",
      "Mean Acc : \t 0.19883362901\n",
      "FreqW Acc : \t 0.390203566569\n",
      "Mean IoU : \t 0.145533234227\n",
      "Epoch [24/50] Loss: 1.1453\n",
      "Epoch [24/50] Loss: 1.7312\n",
      "Epoch [24/50] Loss: 1.2329\n",
      "Epoch [24/50] Loss: 1.2169\n",
      "Epoch [24/50] Loss: 1.5222\n",
      "Epoch [24/50] Loss: 1.1353\n",
      "Epoch [24/50] Loss: 1.6188\n",
      "Epoch [24/50] Loss: 1.1556\n",
      "Epoch [24/50] Loss: 1.3806\n",
      "Epoch [24/50] Loss: 1.2586\n"
     ]
    },
    {
     "name": "stderr",
     "output_type": "stream",
     "text": [
      "1010it [03:10,  5.30it/s]\n"
     ]
    },
    {
     "name": "stdout",
     "output_type": "stream",
     "text": [
      "Overall Acc: \t 0.563922061196\n",
      "Mean Acc : \t 0.21556779807\n",
      "FreqW Acc : \t 0.396280204953\n",
      "Mean IoU : \t 0.154639423988\n",
      "Epoch [25/50] Loss: 1.6529\n",
      "Epoch [25/50] Loss: 0.9844\n",
      "Epoch [25/50] Loss: 1.1941\n",
      "Epoch [25/50] Loss: 1.6302\n",
      "Epoch [25/50] Loss: 1.0610\n",
      "Epoch [25/50] Loss: 1.2104\n",
      "Epoch [25/50] Loss: 1.2492\n",
      "Epoch [25/50] Loss: 1.1391\n",
      "Epoch [25/50] Loss: 0.8999\n",
      "Epoch [25/50] Loss: 1.2512\n"
     ]
    },
    {
     "name": "stderr",
     "output_type": "stream",
     "text": [
      "1010it [03:13,  5.23it/s]"
     ]
    },
    {
     "name": "stdout",
     "output_type": "stream",
     "text": [
      "Overall Acc: \t 0.566907997587\n",
      "Mean Acc : \t 0.211579009833\n",
      "FreqW Acc : \t 0.392225521319\n",
      "Mean IoU : \t 0.153321031408\n"
     ]
    },
    {
     "name": "stderr",
     "output_type": "stream",
     "text": [
      "\n"
     ]
    },
    {
     "name": "stdout",
     "output_type": "stream",
     "text": [
      "Epoch [26/50] Loss: 1.2131\n",
      "Epoch [26/50] Loss: 1.2304\n",
      "Epoch [26/50] Loss: 0.9672\n",
      "Epoch [26/50] Loss: 1.1256\n",
      "Epoch [26/50] Loss: 1.2241\n",
      "Epoch [26/50] Loss: 1.3026\n",
      "Epoch [26/50] Loss: 1.3510\n",
      "Epoch [26/50] Loss: 0.9424\n",
      "Epoch [26/50] Loss: 1.7879\n",
      "Epoch [26/50] Loss: 1.7954\n"
     ]
    },
    {
     "name": "stderr",
     "output_type": "stream",
     "text": [
      "1010it [03:11,  5.27it/s]"
     ]
    },
    {
     "name": "stdout",
     "output_type": "stream",
     "text": [
      "Overall Acc: \t 0.568076013273\n",
      "Mean Acc : \t 0.20668294343\n",
      "FreqW Acc : \t 0.394831727979\n",
      "Mean IoU : \t 0.151323586069\n"
     ]
    },
    {
     "name": "stderr",
     "output_type": "stream",
     "text": [
      "\n"
     ]
    },
    {
     "name": "stdout",
     "output_type": "stream",
     "text": [
      "Epoch [27/50] Loss: 1.3040\n",
      "Epoch [27/50] Loss: 1.2153\n",
      "Epoch [27/50] Loss: 1.2101\n",
      "Epoch [27/50] Loss: 1.3915\n",
      "Epoch [27/50] Loss: 0.9899\n",
      "Epoch [27/50] Loss: 1.3122\n",
      "Epoch [27/50] Loss: 1.0808\n",
      "Epoch [27/50] Loss: 1.1566\n",
      "Epoch [27/50] Loss: 1.2135\n",
      "Epoch [27/50] Loss: 1.0079\n"
     ]
    },
    {
     "name": "stderr",
     "output_type": "stream",
     "text": [
      "1010it [03:15,  5.17it/s]"
     ]
    },
    {
     "name": "stdout",
     "output_type": "stream",
     "text": [
      "Overall Acc: \t 0.56412792266\n",
      "Mean Acc : \t 0.211412155861\n",
      "FreqW Acc : \t 0.386394084944\n",
      "Mean IoU : \t 0.151783995367\n"
     ]
    },
    {
     "name": "stderr",
     "output_type": "stream",
     "text": [
      "\n"
     ]
    },
    {
     "name": "stdout",
     "output_type": "stream",
     "text": [
      "Epoch [28/50] Loss: 1.4437\n",
      "Epoch [28/50] Loss: 1.3035\n",
      "Epoch [28/50] Loss: 1.1886\n",
      "Epoch [28/50] Loss: 1.4969\n",
      "Epoch [28/50] Loss: 1.4083\n",
      "Epoch [28/50] Loss: 1.2123\n",
      "Epoch [28/50] Loss: 1.3891\n",
      "Epoch [28/50] Loss: 0.8456\n",
      "Epoch [28/50] Loss: 1.0653\n",
      "Epoch [28/50] Loss: 1.2571\n"
     ]
    },
    {
     "name": "stderr",
     "output_type": "stream",
     "text": [
      "1010it [03:12,  5.24it/s]\n"
     ]
    },
    {
     "name": "stdout",
     "output_type": "stream",
     "text": [
      "Overall Acc: \t 0.567733863734\n",
      "Mean Acc : \t 0.231345619331\n",
      "FreqW Acc : \t 0.3954699945\n",
      "Mean IoU : \t 0.164046747397\n",
      "Epoch [29/50] Loss: 1.1645\n",
      "Epoch [29/50] Loss: 1.2325\n",
      "Epoch [29/50] Loss: 1.3043\n",
      "Epoch [29/50] Loss: 1.1182\n",
      "Epoch [29/50] Loss: 1.0483\n",
      "Epoch [29/50] Loss: 1.2314\n",
      "Epoch [29/50] Loss: 1.0285\n",
      "Epoch [29/50] Loss: 0.7771\n",
      "Epoch [29/50] Loss: 1.1333\n",
      "Epoch [29/50] Loss: 1.1568\n"
     ]
    },
    {
     "name": "stderr",
     "output_type": "stream",
     "text": [
      "1010it [03:09,  5.32it/s]"
     ]
    },
    {
     "name": "stdout",
     "output_type": "stream",
     "text": [
      "Overall Acc: \t 0.569358062472\n",
      "Mean Acc : \t 0.212496072209\n",
      "FreqW Acc : \t 0.396918569134\n",
      "Mean IoU : \t 0.155791819285\n"
     ]
    },
    {
     "name": "stderr",
     "output_type": "stream",
     "text": [
      "\n"
     ]
    },
    {
     "name": "stdout",
     "output_type": "stream",
     "text": [
      "Epoch [30/50] Loss: 1.1285\n",
      "Epoch [30/50] Loss: 1.0862\n",
      "Epoch [30/50] Loss: 1.2912\n",
      "Epoch [30/50] Loss: 0.9854\n",
      "Epoch [30/50] Loss: 1.0205\n",
      "Epoch [30/50] Loss: 0.9857\n",
      "Epoch [30/50] Loss: 1.0828\n",
      "Epoch [30/50] Loss: 1.5551\n",
      "Epoch [30/50] Loss: 1.1805\n",
      "Epoch [30/50] Loss: 1.2322\n"
     ]
    },
    {
     "name": "stderr",
     "output_type": "stream",
     "text": [
      "1010it [03:15,  5.18it/s]"
     ]
    },
    {
     "name": "stdout",
     "output_type": "stream",
     "text": [
      "Overall Acc: \t 0.571120901236\n",
      "Mean Acc : \t 0.227108064174\n",
      "FreqW Acc : \t 0.400584030944\n",
      "Mean IoU : \t 0.163987997452\n"
     ]
    },
    {
     "name": "stderr",
     "output_type": "stream",
     "text": [
      "\n"
     ]
    },
    {
     "name": "stdout",
     "output_type": "stream",
     "text": [
      "Epoch [31/50] Loss: 1.0219\n",
      "Epoch [31/50] Loss: 2.0173\n",
      "Epoch [31/50] Loss: 1.1388\n",
      "Epoch [31/50] Loss: 0.9717\n",
      "Epoch [31/50] Loss: 1.2572\n",
      "Epoch [31/50] Loss: 1.3872\n",
      "Epoch [31/50] Loss: 1.3629\n",
      "Epoch [31/50] Loss: 1.2600\n",
      "Epoch [31/50] Loss: 1.2991\n",
      "Epoch [31/50] Loss: 1.3791\n"
     ]
    },
    {
     "name": "stderr",
     "output_type": "stream",
     "text": [
      "1010it [03:13,  5.22it/s]"
     ]
    },
    {
     "name": "stdout",
     "output_type": "stream",
     "text": [
      "Overall Acc: \t 0.570867280598\n",
      "Mean Acc : \t 0.214224424711\n",
      "FreqW Acc : \t 0.398380546311\n",
      "Mean IoU : \t 0.159719538369\n"
     ]
    },
    {
     "name": "stderr",
     "output_type": "stream",
     "text": [
      "\n"
     ]
    },
    {
     "name": "stdout",
     "output_type": "stream",
     "text": [
      "Epoch [32/50] Loss: 0.7943\n",
      "Epoch [32/50] Loss: 1.1338\n",
      "Epoch [32/50] Loss: 1.4455\n",
      "Epoch [32/50] Loss: 1.5130\n",
      "Epoch [32/50] Loss: 1.0197\n",
      "Epoch [32/50] Loss: 1.2339\n",
      "Epoch [32/50] Loss: 1.3843\n",
      "Epoch [32/50] Loss: 0.8577\n",
      "Epoch [32/50] Loss: 1.3084\n",
      "Epoch [32/50] Loss: 1.2665\n"
     ]
    },
    {
     "name": "stderr",
     "output_type": "stream",
     "text": [
      "1010it [03:12,  5.25it/s]\n"
     ]
    },
    {
     "name": "stdout",
     "output_type": "stream",
     "text": [
      "Overall Acc: \t 0.570894153958\n",
      "Mean Acc : \t 0.222636552676\n",
      "FreqW Acc : \t 0.402913248299\n",
      "Mean IoU : \t 0.16441684177\n",
      "Epoch [33/50] Loss: 1.0997\n",
      "Epoch [33/50] Loss: 1.2297\n",
      "Epoch [33/50] Loss: 1.2289\n",
      "Epoch [33/50] Loss: 1.1739\n",
      "Epoch [33/50] Loss: 1.0922\n",
      "Epoch [33/50] Loss: 1.3978\n",
      "Epoch [33/50] Loss: 1.0525\n",
      "Epoch [33/50] Loss: 1.3907\n",
      "Epoch [33/50] Loss: 1.1974\n",
      "Epoch [33/50] Loss: 1.2840\n"
     ]
    },
    {
     "name": "stderr",
     "output_type": "stream",
     "text": [
      "1010it [03:13,  5.21it/s]\n"
     ]
    },
    {
     "name": "stdout",
     "output_type": "stream",
     "text": [
      "Overall Acc: \t 0.570426005485\n",
      "Mean Acc : \t 0.229619765488\n",
      "FreqW Acc : \t 0.400719092816\n",
      "Mean IoU : \t 0.165755495638\n",
      "Epoch [34/50] Loss: 1.0862\n",
      "Epoch [34/50] Loss: 1.1601\n",
      "Epoch [34/50] Loss: 1.2290\n",
      "Epoch [34/50] Loss: 1.3592\n",
      "Epoch [34/50] Loss: 0.9455\n",
      "Epoch [34/50] Loss: 1.4158\n",
      "Epoch [34/50] Loss: 0.9587\n",
      "Epoch [34/50] Loss: 1.0494\n",
      "Epoch [34/50] Loss: 1.2235\n",
      "Epoch [34/50] Loss: 1.0365\n"
     ]
    },
    {
     "name": "stderr",
     "output_type": "stream",
     "text": [
      "1010it [03:11,  5.27it/s]\n"
     ]
    },
    {
     "name": "stdout",
     "output_type": "stream",
     "text": [
      "Overall Acc: \t 0.572252223135\n",
      "Mean Acc : \t 0.226892557078\n",
      "FreqW Acc : \t 0.405376704975\n",
      "Mean IoU : \t 0.167955948557\n",
      "Epoch [35/50] Loss: 1.3563\n",
      "Epoch [35/50] Loss: 1.1458\n",
      "Epoch [35/50] Loss: 0.9177\n",
      "Epoch [35/50] Loss: 1.2134\n",
      "Epoch [35/50] Loss: 1.3638\n",
      "Epoch [35/50] Loss: 1.5702\n",
      "Epoch [35/50] Loss: 1.1590\n",
      "Epoch [35/50] Loss: 1.3383\n",
      "Epoch [35/50] Loss: 1.4377\n",
      "Epoch [35/50] Loss: 1.3906\n"
     ]
    },
    {
     "name": "stderr",
     "output_type": "stream",
     "text": [
      "1010it [03:12,  5.25it/s]"
     ]
    },
    {
     "name": "stdout",
     "output_type": "stream",
     "text": [
      "Overall Acc: \t 0.570513371305\n",
      "Mean Acc : \t 0.227934957184\n",
      "FreqW Acc : \t 0.397276335972\n",
      "Mean IoU : \t 0.165225637405\n"
     ]
    },
    {
     "name": "stderr",
     "output_type": "stream",
     "text": [
      "\n"
     ]
    },
    {
     "name": "stdout",
     "output_type": "stream",
     "text": [
      "Epoch [36/50] Loss: 1.1680\n",
      "Epoch [36/50] Loss: 1.3303\n",
      "Epoch [36/50] Loss: 1.3365\n",
      "Epoch [36/50] Loss: 0.9558\n",
      "Epoch [36/50] Loss: 0.8636\n",
      "Epoch [36/50] Loss: 0.9031\n",
      "Epoch [36/50] Loss: 1.2709\n",
      "Epoch [36/50] Loss: 0.9625\n",
      "Epoch [36/50] Loss: 1.2541\n",
      "Epoch [36/50] Loss: 1.1475\n"
     ]
    },
    {
     "name": "stderr",
     "output_type": "stream",
     "text": [
      "1010it [03:12,  5.24it/s]"
     ]
    },
    {
     "name": "stdout",
     "output_type": "stream",
     "text": [
      "Overall Acc: \t 0.571800943205\n",
      "Mean Acc : \t 0.213706515612\n",
      "FreqW Acc : \t 0.396488253378\n",
      "Mean IoU : \t 0.158853701572\n"
     ]
    },
    {
     "name": "stderr",
     "output_type": "stream",
     "text": [
      "\n"
     ]
    },
    {
     "name": "stdout",
     "output_type": "stream",
     "text": [
      "Epoch [37/50] Loss: 1.1616\n",
      "Epoch [37/50] Loss: 1.1301\n",
      "Epoch [37/50] Loss: 0.9144\n",
      "Epoch [37/50] Loss: 0.8382\n",
      "Epoch [37/50] Loss: 0.9638\n",
      "Epoch [37/50] Loss: 1.1708\n",
      "Epoch [37/50] Loss: 1.3504\n",
      "Epoch [37/50] Loss: 1.0599\n",
      "Epoch [37/50] Loss: 1.5065\n",
      "Epoch [37/50] Loss: 1.0831\n"
     ]
    },
    {
     "name": "stderr",
     "output_type": "stream",
     "text": [
      "1010it [03:16,  5.14it/s]"
     ]
    },
    {
     "name": "stdout",
     "output_type": "stream",
     "text": [
      "Overall Acc: \t 0.572192035629\n",
      "Mean Acc : \t 0.221749818934\n",
      "FreqW Acc : \t 0.398973440605\n",
      "Mean IoU : \t 0.163684722622\n"
     ]
    },
    {
     "name": "stderr",
     "output_type": "stream",
     "text": [
      "\n"
     ]
    },
    {
     "name": "stdout",
     "output_type": "stream",
     "text": [
      "Epoch [38/50] Loss: 1.3256\n",
      "Epoch [38/50] Loss: 1.2934\n",
      "Epoch [38/50] Loss: 1.1069\n",
      "Epoch [38/50] Loss: 0.9898\n",
      "Epoch [38/50] Loss: 1.0136\n",
      "Epoch [38/50] Loss: 1.2029\n",
      "Epoch [38/50] Loss: 1.0741\n",
      "Epoch [38/50] Loss: 1.2445\n",
      "Epoch [38/50] Loss: 1.2196\n",
      "Epoch [38/50] Loss: 1.1022\n"
     ]
    },
    {
     "name": "stderr",
     "output_type": "stream",
     "text": [
      "1010it [03:12,  5.25it/s]\n"
     ]
    },
    {
     "name": "stdout",
     "output_type": "stream",
     "text": [
      "Overall Acc: \t 0.57491257551\n",
      "Mean Acc : \t 0.240236362587\n",
      "FreqW Acc : \t 0.404956727549\n",
      "Mean IoU : \t 0.173928881015\n",
      "Epoch [39/50] Loss: 1.0177\n",
      "Epoch [39/50] Loss: 1.2688\n",
      "Epoch [39/50] Loss: 1.0572\n",
      "Epoch [39/50] Loss: 1.0187\n",
      "Epoch [39/50] Loss: 1.3481\n",
      "Epoch [39/50] Loss: 1.2342\n",
      "Epoch [39/50] Loss: 1.1868\n",
      "Epoch [39/50] Loss: 1.1919\n",
      "Epoch [39/50] Loss: 1.3054\n",
      "Epoch [39/50] Loss: 1.0510\n"
     ]
    },
    {
     "name": "stderr",
     "output_type": "stream",
     "text": [
      "1010it [03:14,  5.20it/s]"
     ]
    },
    {
     "name": "stdout",
     "output_type": "stream",
     "text": [
      "Overall Acc: \t 0.574165282446\n",
      "Mean Acc : \t 0.224584424564\n",
      "FreqW Acc : \t 0.404018528315\n",
      "Mean IoU : \t 0.165966014931\n"
     ]
    },
    {
     "name": "stderr",
     "output_type": "stream",
     "text": [
      "\n"
     ]
    },
    {
     "name": "stdout",
     "output_type": "stream",
     "text": [
      "Epoch [40/50] Loss: 1.1856\n",
      "Epoch [40/50] Loss: 1.6376\n",
      "Epoch [40/50] Loss: 0.8482\n",
      "Epoch [40/50] Loss: 1.1759\n",
      "Epoch [40/50] Loss: 1.1075\n",
      "Epoch [40/50] Loss: 1.2285\n",
      "Epoch [40/50] Loss: 1.4336\n",
      "Epoch [40/50] Loss: 0.8038\n",
      "Epoch [40/50] Loss: 1.2885\n",
      "Epoch [40/50] Loss: 1.1934\n"
     ]
    },
    {
     "name": "stderr",
     "output_type": "stream",
     "text": [
      "1010it [03:11,  5.27it/s]"
     ]
    },
    {
     "name": "stdout",
     "output_type": "stream",
     "text": [
      "Overall Acc: \t 0.572746289488\n",
      "Mean Acc : \t 0.233808668989\n",
      "FreqW Acc : \t 0.40713310658\n",
      "Mean IoU : \t 0.172651795295\n"
     ]
    },
    {
     "name": "stderr",
     "output_type": "stream",
     "text": [
      "\n"
     ]
    },
    {
     "name": "stdout",
     "output_type": "stream",
     "text": [
      "Epoch [41/50] Loss: 1.3297\n",
      "Epoch [41/50] Loss: 1.1939\n",
      "Epoch [41/50] Loss: 0.8988\n",
      "Epoch [41/50] Loss: 1.2874\n",
      "Epoch [41/50] Loss: 0.9726\n",
      "Epoch [41/50] Loss: 1.4053\n",
      "Epoch [41/50] Loss: 1.0793\n",
      "Epoch [41/50] Loss: 0.8912\n",
      "Epoch [41/50] Loss: 0.8943\n",
      "Epoch [41/50] Loss: 1.0701\n"
     ]
    },
    {
     "name": "stderr",
     "output_type": "stream",
     "text": [
      "1010it [03:13,  5.22it/s]"
     ]
    },
    {
     "name": "stdout",
     "output_type": "stream",
     "text": [
      "Overall Acc: \t 0.569532154547\n",
      "Mean Acc : \t 0.236385871507\n",
      "FreqW Acc : \t 0.402424419032\n",
      "Mean IoU : \t 0.169527831498\n"
     ]
    },
    {
     "name": "stderr",
     "output_type": "stream",
     "text": [
      "\n"
     ]
    },
    {
     "name": "stdout",
     "output_type": "stream",
     "text": [
      "Epoch [42/50] Loss: 0.9323\n",
      "Epoch [42/50] Loss: 0.9530\n",
      "Epoch [42/50] Loss: 1.2147\n",
      "Epoch [42/50] Loss: 1.2203\n",
      "Epoch [42/50] Loss: 1.3631\n",
      "Epoch [42/50] Loss: 1.0364\n",
      "Epoch [42/50] Loss: 0.9845\n",
      "Epoch [42/50] Loss: 1.3245\n",
      "Epoch [42/50] Loss: 0.9452\n",
      "Epoch [42/50] Loss: 1.2078\n"
     ]
    },
    {
     "name": "stderr",
     "output_type": "stream",
     "text": [
      "1010it [03:14,  5.19it/s]"
     ]
    },
    {
     "name": "stdout",
     "output_type": "stream",
     "text": [
      "Overall Acc: \t 0.574442050587\n",
      "Mean Acc : \t 0.23385477974\n",
      "FreqW Acc : \t 0.406896336144\n",
      "Mean IoU : \t 0.172740904921\n"
     ]
    },
    {
     "name": "stderr",
     "output_type": "stream",
     "text": [
      "\n"
     ]
    },
    {
     "name": "stdout",
     "output_type": "stream",
     "text": [
      "Epoch [43/50] Loss: 1.1235\n",
      "Epoch [43/50] Loss: 1.2610\n",
      "Epoch [43/50] Loss: 1.1775\n",
      "Epoch [43/50] Loss: 1.2829\n",
      "Epoch [43/50] Loss: 1.4089\n",
      "Epoch [43/50] Loss: 0.7569\n",
      "Epoch [43/50] Loss: 1.0462\n",
      "Epoch [43/50] Loss: 1.1495\n",
      "Epoch [43/50] Loss: 0.8715\n",
      "Epoch [43/50] Loss: 1.1322\n"
     ]
    },
    {
     "name": "stderr",
     "output_type": "stream",
     "text": [
      "1010it [03:11,  5.27it/s]\n"
     ]
    },
    {
     "name": "stdout",
     "output_type": "stream",
     "text": [
      "Overall Acc: \t 0.57538053379\n",
      "Mean Acc : \t 0.245450440581\n",
      "FreqW Acc : \t 0.409239265216\n",
      "Mean IoU : \t 0.178361046652\n",
      "Epoch [44/50] Loss: 1.7241\n",
      "Epoch [44/50] Loss: 0.8226\n",
      "Epoch [44/50] Loss: 1.0963\n",
      "Epoch [44/50] Loss: 1.1633\n",
      "Epoch [44/50] Loss: 0.9316\n",
      "Epoch [44/50] Loss: 0.9786\n",
      "Epoch [44/50] Loss: 1.1796\n",
      "Epoch [44/50] Loss: 1.0012\n",
      "Epoch [44/50] Loss: 1.2036\n",
      "Epoch [44/50] Loss: 1.0446\n"
     ]
    },
    {
     "name": "stderr",
     "output_type": "stream",
     "text": [
      "1010it [03:13,  5.22it/s]\n"
     ]
    },
    {
     "name": "stdout",
     "output_type": "stream",
     "text": [
      "Overall Acc: \t 0.576875112827\n",
      "Mean Acc : \t 0.242283753351\n",
      "FreqW Acc : \t 0.409321973732\n",
      "Mean IoU : \t 0.178667997359\n",
      "Epoch [45/50] Loss: 1.0468\n",
      "Epoch [45/50] Loss: 1.2731\n",
      "Epoch [45/50] Loss: 1.4789\n",
      "Epoch [45/50] Loss: 0.8726\n",
      "Epoch [45/50] Loss: 1.0600\n",
      "Epoch [45/50] Loss: 1.5749\n",
      "Epoch [45/50] Loss: 0.8750\n",
      "Epoch [45/50] Loss: 1.1582\n",
      "Epoch [45/50] Loss: 1.1674\n",
      "Epoch [45/50] Loss: 0.8011\n"
     ]
    },
    {
     "name": "stderr",
     "output_type": "stream",
     "text": [
      "1010it [03:13,  5.22it/s]"
     ]
    },
    {
     "name": "stdout",
     "output_type": "stream",
     "text": [
      "Overall Acc: \t 0.577212907904\n",
      "Mean Acc : \t 0.234969775142\n",
      "FreqW Acc : \t 0.408410005338\n",
      "Mean IoU : \t 0.174227223069\n"
     ]
    },
    {
     "name": "stderr",
     "output_type": "stream",
     "text": [
      "\n"
     ]
    },
    {
     "name": "stdout",
     "output_type": "stream",
     "text": [
      "Epoch [46/50] Loss: 0.9005\n",
      "Epoch [46/50] Loss: 1.2582\n",
      "Epoch [46/50] Loss: 1.0923\n",
      "Epoch [46/50] Loss: 1.2492\n",
      "Epoch [46/50] Loss: 0.8993\n",
      "Epoch [46/50] Loss: 0.9952\n",
      "Epoch [46/50] Loss: 1.0656\n",
      "Epoch [46/50] Loss: 1.0006\n",
      "Epoch [46/50] Loss: 1.2116\n",
      "Epoch [46/50] Loss: 1.1122\n"
     ]
    },
    {
     "name": "stderr",
     "output_type": "stream",
     "text": [
      "1010it [03:13,  5.22it/s]\n"
     ]
    },
    {
     "name": "stdout",
     "output_type": "stream",
     "text": [
      "Overall Acc: \t 0.574379890872\n",
      "Mean Acc : \t 0.2509760288\n",
      "FreqW Acc : \t 0.409882815473\n",
      "Mean IoU : \t 0.181815792191\n",
      "Epoch [47/50] Loss: 1.0055\n",
      "Epoch [47/50] Loss: 1.0160\n",
      "Epoch [47/50] Loss: 0.9537\n",
      "Epoch [47/50] Loss: 1.0675\n",
      "Epoch [47/50] Loss: 0.8740\n",
      "Epoch [47/50] Loss: 0.9542\n",
      "Epoch [47/50] Loss: 1.3343\n",
      "Epoch [47/50] Loss: 1.1180\n",
      "Epoch [47/50] Loss: 1.1326\n",
      "Epoch [47/50] Loss: 1.0077\n"
     ]
    },
    {
     "name": "stderr",
     "output_type": "stream",
     "text": [
      "1010it [03:13,  5.21it/s]"
     ]
    },
    {
     "name": "stdout",
     "output_type": "stream",
     "text": [
      "Overall Acc: \t 0.576090280099\n",
      "Mean Acc : \t 0.245440769988\n",
      "FreqW Acc : \t 0.408372442832\n",
      "Mean IoU : \t 0.178753961501\n"
     ]
    },
    {
     "name": "stderr",
     "output_type": "stream",
     "text": [
      "\n"
     ]
    },
    {
     "name": "stdout",
     "output_type": "stream",
     "text": [
      "Epoch [48/50] Loss: 1.1413\n",
      "Epoch [48/50] Loss: 0.9598\n",
      "Epoch [48/50] Loss: 0.8008\n",
      "Epoch [48/50] Loss: 1.2991\n",
      "Epoch [48/50] Loss: 0.9033\n",
      "Epoch [48/50] Loss: 1.1802\n",
      "Epoch [48/50] Loss: 1.0557\n",
      "Epoch [48/50] Loss: 1.2512\n",
      "Epoch [48/50] Loss: 0.9908\n",
      "Epoch [48/50] Loss: 1.2288\n"
     ]
    },
    {
     "name": "stderr",
     "output_type": "stream",
     "text": [
      "1010it [03:13,  5.21it/s]"
     ]
    },
    {
     "name": "stdout",
     "output_type": "stream",
     "text": [
      "Overall Acc: \t 0.57772839777\n",
      "Mean Acc : \t 0.241551472141\n",
      "FreqW Acc : \t 0.40554667915\n",
      "Mean IoU : \t 0.176614947329\n"
     ]
    },
    {
     "name": "stderr",
     "output_type": "stream",
     "text": [
      "\n"
     ]
    },
    {
     "name": "stdout",
     "output_type": "stream",
     "text": [
      "Epoch [49/50] Loss: 0.9493\n",
      "Epoch [49/50] Loss: 0.8742\n",
      "Epoch [49/50] Loss: 0.9813\n",
      "Epoch [49/50] Loss: 1.1485\n",
      "Epoch [49/50] Loss: 0.8815\n",
      "Epoch [49/50] Loss: 1.0751\n",
      "Epoch [49/50] Loss: 0.8820\n",
      "Epoch [49/50] Loss: 0.9223\n",
      "Epoch [49/50] Loss: 1.1316\n",
      "Epoch [49/50] Loss: 0.8729\n"
     ]
    },
    {
     "name": "stderr",
     "output_type": "stream",
     "text": [
      "1010it [03:13,  5.23it/s]\n"
     ]
    },
    {
     "name": "stdout",
     "output_type": "stream",
     "text": [
      "Overall Acc: \t 0.578969871948\n",
      "Mean Acc : \t 0.251178618387\n",
      "FreqW Acc : \t 0.411834893605\n",
      "Mean IoU : \t 0.182820056031\n",
      "Epoch [50/50] Loss: 0.6932\n",
      "Epoch [50/50] Loss: 1.3592\n",
      "Epoch [50/50] Loss: 0.8504\n",
      "Epoch [50/50] Loss: 1.0091\n",
      "Epoch [50/50] Loss: 1.1899\n",
      "Epoch [50/50] Loss: 0.8921\n",
      "Epoch [50/50] Loss: 1.1456\n",
      "Epoch [50/50] Loss: 1.5861\n",
      "Epoch [50/50] Loss: 1.1190\n",
      "Epoch [50/50] Loss: 1.3409\n"
     ]
    },
    {
     "name": "stderr",
     "output_type": "stream",
     "text": [
      "1010it [03:14,  5.18it/s]"
     ]
    },
    {
     "name": "stdout",
     "output_type": "stream",
     "text": [
      "Overall Acc: \t 0.577051478841\n",
      "Mean Acc : \t 0.247424613309\n",
      "FreqW Acc : \t 0.410510429439\n",
      "Mean IoU : \t 0.181258443739\n"
     ]
    },
    {
     "name": "stderr",
     "output_type": "stream",
     "text": [
      "\n"
     ]
    }
   ],
   "source": [
    "from utils import *\n",
    "\n",
    "arg_str = '--gpu_idx 0 ' \\\n",
    "          '--arch FCN_RGBHHA ' \\\n",
    "          '--input_type RGBD ' \\\n",
    "          '--dataset SUNRGBD ' \\\n",
    "          '--batch_size 5 ' \\\n",
    "          '--n_epoch 50'\n",
    "\n",
    "trainer = trainer(arg_str)\n",
    "trainer.model_init()\n",
    "trainer.training()"
   ]
  },
  {
   "cell_type": "code",
   "execution_count": null,
   "metadata": {},
   "outputs": [],
   "source": []
  }
 ],
 "metadata": {
  "kernelspec": {
   "display_name": "Python [conda env:pytorch]",
   "language": "python",
   "name": "conda-env-pytorch-py"
  },
  "language_info": {
   "codemirror_mode": {
    "name": "ipython",
    "version": 3
   },
   "file_extension": ".py",
   "mimetype": "text/x-python",
   "name": "python",
   "nbconvert_exporter": "python",
   "pygments_lexer": "ipython3",
   "version": "3.6.3"
  }
 },
 "nbformat": 4,
 "nbformat_minor": 2
}
