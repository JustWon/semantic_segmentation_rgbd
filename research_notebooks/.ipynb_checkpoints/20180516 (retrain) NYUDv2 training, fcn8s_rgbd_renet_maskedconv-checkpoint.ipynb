{
 "cells": [
  {
   "cell_type": "code",
   "execution_count": 1,
   "metadata": {},
   "outputs": [],
   "source": [
    "%matplotlib inline\n",
    "import os\n",
    "import collections\n",
    "import torch\n",
    "import torchvision\n",
    "import numpy as np\n",
    "import scipy.misc as m\n",
    "import scipy.io as io\n",
    "import matplotlib.pyplot as plt\n",
    "\n",
    "from NYUDv2Loader import *\n",
    "\n",
    "os.environ['CUDA_VISIBLE_DEVICES'] = '3'\n",
    "data_path = '/home/dongwonshin/Desktop/Datasets/NYUDv2/'\n",
    "arg_string = '--arch fcn8s_rgbd_renet_maskedconv --batch_size 1 --model_path fcn8s_rgbd_renet_maskedconv_NYUDv2_best_model.pkl'"
   ]
  },
  {
   "cell_type": "markdown",
   "metadata": {},
   "source": [
    "# Argument setting"
   ]
  },
  {
   "cell_type": "code",
   "execution_count": 2,
   "metadata": {},
   "outputs": [],
   "source": [
    "import sys, os\n",
    "import torch\n",
    "import visdom\n",
    "import argparse\n",
    "import numpy as np\n",
    "import torch.nn as nn\n",
    "import torch.nn.functional as F\n",
    "import torchvision.models as models\n",
    "\n",
    "from torch.autograd import Variable\n",
    "from torch.utils import data\n",
    "from tqdm import tqdm\n",
    "\n",
    "from ptsemseg.models import get_model\n",
    "from ptsemseg.loader import get_loader, get_data_path\n",
    "from ptsemseg.metrics import runningScore\n",
    "from ptsemseg.utils import convert_state_dict\n",
    "\n",
    "from ptsemseg.loss import *\n",
    "from ptsemseg.augmentations import *\n",
    "\n",
    "\n",
    "parser = argparse.ArgumentParser(description='Hyperparams')\n",
    "parser.add_argument('--arch', nargs='?', type=str, default='fcn8s', help='Architecture to use [\\'fcn8s, unet, segnet etc\\']')\n",
    "parser.add_argument('--img_rows', nargs='?', type=int, default=256, help='Height of the input image')\n",
    "parser.add_argument('--img_cols', nargs='?', type=int, default=256, help='Width of the input image')\n",
    "\n",
    "parser.add_argument('--img_norm', dest='img_norm', action='store_true', help='Enable input image scales normalization [0, 1] | True by default')\n",
    "parser.add_argument('--no-img_norm', dest='img_norm', action='store_false', help='Disable input image scales normalization [0, 1] | True by default')\n",
    "parser.set_defaults(img_norm=True)\n",
    "\n",
    "parser.add_argument('--n_epoch', nargs='?', type=int, default=100, help='# of the epochs')\n",
    "parser.add_argument('--batch_size', nargs='?', type=int, default=1, help='Batch Size')\n",
    "parser.add_argument('--l_rate', nargs='?', type=float, default=1e-5, help='Learning Rate')\n",
    "parser.add_argument('--feature_scale', nargs='?', type=int, default=1, help='Divider for # of features to use')\n",
    "parser.add_argument('--resume', nargs='?', type=str, default=None, help='Path to previous saved model to restart from')\n",
    "\n",
    "parser.add_argument('--visdom', dest='visdom', action='store_true', help='Enable visualization(s) on visdom | False by default')\n",
    "parser.add_argument('--no-visdom', dest='visdom', action='store_false', help='Disable visualization(s) on visdom | False by default')\n",
    "parser.add_argument('--model_path', nargs='?', type=str, default='fcn8s_pascal_1_26.pkl', help='Path to the saved model')\n",
    "parser.set_defaults(visdom=False)"
   ]
  },
  {
   "cell_type": "code",
   "execution_count": 3,
   "metadata": {},
   "outputs": [],
   "source": [
    "args = parser.parse_args(arg_string.split(' '))\n",
    "\n",
    "# Setup Augmentations\n",
    "data_aug= Compose([RandomRotate(10), RandomHorizontallyFlip()])\n",
    "\n",
    "# Setup Dataloader\n",
    "t_loader = NYUDv2Loader(data_path, is_transform=True)\n",
    "v_loader = NYUDv2Loader(data_path, is_transform=True, split='val')\n",
    "\n",
    "n_classes = t_loader.n_classes\n",
    "trainloader = data.DataLoader(t_loader, batch_size=args.batch_size, num_workers=16, shuffle=True)\n",
    "valloader = data.DataLoader(v_loader, batch_size=args.batch_size, num_workers=16)\n",
    "\n",
    "# Setup Metrics\n",
    "running_metrics = runningScore(n_classes)\n",
    "\n"
   ]
  },
  {
   "cell_type": "code",
   "execution_count": 4,
   "metadata": {},
   "outputs": [],
   "source": [
    "\n",
    "# Setup visdom for visualization\n",
    "if args.visdom:\n",
    "    vis = visdom.Visdom()\n",
    "\n",
    "    loss_window = vis.line(X=torch.zeros((1,)).cpu(),\n",
    "                       Y=torch.zeros((1)).cpu(),\n",
    "                       opts=dict(xlabel='minibatches',\n",
    "                                 ylabel='Loss',\n",
    "                                 title='Training Loss',\n",
    "                                 legend=['Loss']))\n"
   ]
  },
  {
   "cell_type": "code",
   "execution_count": 5,
   "metadata": {},
   "outputs": [
    {
     "data": {
      "text/plain": [
       "fcn8s_rgbd_renet_maskedconv(\n",
       "  (conv_block1): Sequential(\n",
       "    (0): Conv2d(3, 64, kernel_size=(3, 3), stride=(1, 1), padding=(100, 100))\n",
       "    (1): ReLU(inplace)\n",
       "    (2): Conv2d(64, 64, kernel_size=(3, 3), stride=(1, 1), padding=(1, 1))\n",
       "    (3): ReLU(inplace)\n",
       "    (4): MaxPool2d(kernel_size=(2, 2), stride=(2, 2), dilation=(1, 1), ceil_mode=True)\n",
       "  )\n",
       "  (depth_conv_block1): Sequential(\n",
       "    (0): Conv2d(1, 64, kernel_size=(3, 3), stride=(1, 1), padding=(100, 100))\n",
       "    (1): ReLU(inplace)\n",
       "    (2): Conv2d(64, 64, kernel_size=(3, 3), stride=(1, 1), padding=(1, 1))\n",
       "    (3): ReLU(inplace)\n",
       "    (4): MaxPool2d(kernel_size=(2, 2), stride=(2, 2), dilation=(1, 1), ceil_mode=True)\n",
       "  )\n",
       "  (conv_block2): Sequential(\n",
       "    (0): Conv2d(64, 128, kernel_size=(3, 3), stride=(1, 1), padding=(1, 1))\n",
       "    (1): ReLU(inplace)\n",
       "    (2): Conv2d(128, 128, kernel_size=(3, 3), stride=(1, 1), padding=(1, 1))\n",
       "    (3): ReLU(inplace)\n",
       "    (4): MaxPool2d(kernel_size=(2, 2), stride=(2, 2), dilation=(1, 1), ceil_mode=True)\n",
       "  )\n",
       "  (conv_block3): Sequential(\n",
       "    (0): Conv2d(128, 256, kernel_size=(3, 3), stride=(1, 1), padding=(1, 1))\n",
       "    (1): ReLU(inplace)\n",
       "    (2): Conv2d(256, 256, kernel_size=(3, 3), stride=(1, 1), padding=(1, 1))\n",
       "    (3): ReLU(inplace)\n",
       "    (4): Conv2d(256, 256, kernel_size=(3, 3), stride=(1, 1), padding=(1, 1))\n",
       "    (5): ReLU(inplace)\n",
       "    (6): MaxPool2d(kernel_size=(2, 2), stride=(2, 2), dilation=(1, 1), ceil_mode=True)\n",
       "  )\n",
       "  (conv_block4): Sequential(\n",
       "    (0): Conv2d(256, 512, kernel_size=(3, 3), stride=(1, 1), padding=(1, 1))\n",
       "    (1): ReLU(inplace)\n",
       "    (2): Conv2d(512, 512, kernel_size=(3, 3), stride=(1, 1), padding=(1, 1))\n",
       "    (3): ReLU(inplace)\n",
       "    (4): Conv2d(512, 512, kernel_size=(3, 3), stride=(1, 1), padding=(1, 1))\n",
       "    (5): ReLU(inplace)\n",
       "    (6): MaxPool2d(kernel_size=(2, 2), stride=(2, 2), dilation=(1, 1), ceil_mode=True)\n",
       "  )\n",
       "  (conv_block5): Sequential(\n",
       "    (0): Conv2d(512, 512, kernel_size=(3, 3), stride=(1, 1), padding=(1, 1))\n",
       "    (1): ReLU(inplace)\n",
       "    (2): Conv2d(512, 512, kernel_size=(3, 3), stride=(1, 1), padding=(1, 1))\n",
       "    (3): ReLU(inplace)\n",
       "    (4): Conv2d(512, 512, kernel_size=(3, 3), stride=(1, 1), padding=(1, 1))\n",
       "    (5): ReLU(inplace)\n",
       "    (6): MaxPool2d(kernel_size=(2, 2), stride=(2, 2), dilation=(1, 1), ceil_mode=True)\n",
       "  )\n",
       "  (masked_conv): Sequential(\n",
       "    (0): MaskedConv2d(512, 512, kernel_size=(7, 7), stride=(1, 1), padding=(3, 3), bias=False)\n",
       "    (1): BatchNorm2d(512, eps=1e-05, momentum=0.1, affine=True)\n",
       "    (2): ReLU(inplace)\n",
       "    (3): MaskedConv2d(512, 512, kernel_size=(7, 7), stride=(1, 1), padding=(3, 3), bias=False)\n",
       "    (4): BatchNorm2d(512, eps=1e-05, momentum=0.1, affine=True)\n",
       "    (5): ReLU(inplace)\n",
       "    (6): Conv2d(512, 512, kernel_size=(1, 1), stride=(1, 1))\n",
       "  )\n",
       "  (classifier): Sequential(\n",
       "    (0): Conv2d(512, 4096, kernel_size=(7, 7), stride=(1, 1))\n",
       "    (1): ReLU(inplace)\n",
       "    (2): Dropout2d(p=0.5)\n",
       "    (3): Conv2d(4096, 4096, kernel_size=(1, 1), stride=(1, 1))\n",
       "    (4): ReLU(inplace)\n",
       "    (5): Dropout2d(p=0.5)\n",
       "    (6): Conv2d(4096, 14, kernel_size=(1, 1), stride=(1, 1))\n",
       "  )\n",
       "  (score_pool4): Conv2d(512, 14, kernel_size=(1, 1), stride=(1, 1))\n",
       "  (score_pool3): Conv2d(256, 14, kernel_size=(1, 1), stride=(1, 1))\n",
       "  (renet): ReNet(\n",
       "    (rnn_hor): GRU(256, 128, batch_first=True, bidirectional=True)\n",
       "    (rnn_ver): GRU(256, 128, batch_first=True, bidirectional=True)\n",
       "  )\n",
       ")"
      ]
     },
     "execution_count": 5,
     "metadata": {},
     "output_type": "execute_result"
    }
   ],
   "source": [
    "# Setup Model\n",
    "model = get_model('fcn8s_rgbd_renet_maskedconv', n_classes)\n",
    "state = convert_state_dict(torch.load('fcn8s_rgbd_renet_maskedconv_NYUDv2_best_model.pkl')['model_state'])\n",
    "model.load_state_dict(state)\n",
    "model.cuda()"
   ]
  },
  {
   "cell_type": "code",
   "execution_count": null,
   "metadata": {},
   "outputs": [],
   "source": [
    "\n",
    "model = torch.nn.DataParallel(model, device_ids=range(torch.cuda.device_count()))\n",
    "model.cuda()\n",
    "\n",
    "# Check if model has custom optimizer / loss\n",
    "if hasattr(model.module, 'optimizer'):\n",
    "    optimizer = model.module.optimizer\n",
    "else:\n",
    "    optimizer = torch.optim.SGD(model.parameters(), lr=args.l_rate, momentum=0.99, weight_decay=5e-4)\n",
    "\n",
    "if hasattr(model.module, 'loss'):\n",
    "    print('Using custom loss')\n",
    "    loss_fn = model.module.loss\n",
    "else:\n",
    "    loss_fn = cross_entropy2d\n",
    "\n",
    "if args.resume is not None:                                         \n",
    "    if os.path.isfile(args.resume):\n",
    "        print(\"Loading model and optimizer from checkpoint '{}'\".format(args.resume))\n",
    "        checkpoint = torch.load(args.resume)\n",
    "        model.load_state_dict(checkpoint['model_state'])\n",
    "        optimizer.load_state_dict(checkpoint['optimizer_state'])\n",
    "        print(\"Loaded checkpoint '{}' (epoch {})\"                    \n",
    "              .format(args.resume, checkpoint['epoch']))\n",
    "    else:\n",
    "        print(\"No checkpoint found at '{}'\".format(args.resume)) "
   ]
  },
  {
   "cell_type": "markdown",
   "metadata": {},
   "source": [
    "# Retraining"
   ]
  },
  {
   "cell_type": "code",
   "execution_count": null,
   "metadata": {},
   "outputs": [
    {
     "name": "stderr",
     "output_type": "stream",
     "text": [
      "/home/dongwonshin/.conda/envs/pytorch/lib/python3.6/site-packages/torch/nn/functional.py:1462: UserWarning: nn.functional.upsample_bilinear is deprecated. Use nn.functional.upsample instead.\n",
      "  warnings.warn(\"nn.functional.upsample_bilinear is deprecated. Use nn.functional.upsample instead.\")\n"
     ]
    },
    {
     "name": "stdout",
     "output_type": "stream",
     "text": [
      "Epoch [1/100] Loss: 0.6032\n",
      "Epoch [1/100] Loss: 0.4469\n",
      "Epoch [1/100] Loss: 0.3549\n",
      "Epoch [1/100] Loss: 0.4057\n",
      "Epoch [1/100] Loss: 0.5516\n",
      "Epoch [1/100] Loss: 0.3113\n",
      "Epoch [1/100] Loss: 0.3953\n",
      "Epoch [1/100] Loss: 0.7690\n",
      "Epoch [1/100] Loss: 0.4534\n",
      "Epoch [1/100] Loss: 0.4567\n",
      "Epoch [1/100] Loss: 0.4526\n",
      "Epoch [1/100] Loss: 0.3275\n",
      "Epoch [1/100] Loss: 0.5586\n",
      "Epoch [1/100] Loss: 0.5215\n",
      "Epoch [1/100] Loss: 0.6747\n",
      "Epoch [1/100] Loss: 0.4511\n",
      "Epoch [1/100] Loss: 0.4628\n",
      "Epoch [1/100] Loss: 0.4525\n",
      "Epoch [1/100] Loss: 0.7657\n",
      "Epoch [1/100] Loss: 0.5708\n",
      "Epoch [1/100] Loss: 0.3496\n",
      "Epoch [1/100] Loss: 0.3921\n",
      "Epoch [1/100] Loss: 0.4482\n",
      "Epoch [1/100] Loss: 0.7906\n",
      "Epoch [1/100] Loss: 0.3581\n",
      "Epoch [1/100] Loss: 0.5586\n",
      "Epoch [1/100] Loss: 0.3572\n",
      "Epoch [1/100] Loss: 0.3741\n",
      "Epoch [1/100] Loss: 0.8268\n",
      "Epoch [1/100] Loss: 0.3821\n",
      "Epoch [1/100] Loss: 0.3934\n",
      "Epoch [1/100] Loss: 0.2928\n",
      "Epoch [1/100] Loss: 0.5128\n",
      "Epoch [1/100] Loss: 0.3471\n",
      "Epoch [1/100] Loss: 0.3127\n",
      "Epoch [1/100] Loss: 0.4778\n",
      "Epoch [1/100] Loss: 0.4174\n",
      "Epoch [1/100] Loss: 0.6653\n",
      "Epoch [1/100] Loss: 0.5857\n"
     ]
    },
    {
     "name": "stderr",
     "output_type": "stream",
     "text": [
      "654it [01:47,  6.09it/s]\n"
     ]
    },
    {
     "name": "stdout",
     "output_type": "stream",
     "text": [
      "Overall Acc: \t 0.558468653439\n",
      "Mean Acc : \t 0.476036521252\n",
      "FreqW Acc : \t 0.394457186624\n",
      "Mean IoU : \t 0.334671653397\n",
      "Epoch [2/100] Loss: 0.6395\n",
      "Epoch [2/100] Loss: 0.7869\n",
      "Epoch [2/100] Loss: 0.3153\n",
      "Epoch [2/100] Loss: 0.4666\n",
      "Epoch [2/100] Loss: 0.9090\n",
      "Epoch [2/100] Loss: 0.5237\n",
      "Epoch [2/100] Loss: 0.5395\n",
      "Epoch [2/100] Loss: 1.0220\n",
      "Epoch [2/100] Loss: 0.4570\n",
      "Epoch [2/100] Loss: 0.4956\n",
      "Epoch [2/100] Loss: 0.3355\n",
      "Epoch [2/100] Loss: 0.5660\n",
      "Epoch [2/100] Loss: 0.7032\n",
      "Epoch [2/100] Loss: 0.5244\n",
      "Epoch [2/100] Loss: 0.8036\n",
      "Epoch [2/100] Loss: 0.6724\n",
      "Epoch [2/100] Loss: 0.4972\n",
      "Epoch [2/100] Loss: 0.4579\n",
      "Epoch [2/100] Loss: 0.3813\n",
      "Epoch [2/100] Loss: 0.5268\n",
      "Epoch [2/100] Loss: 0.6755\n",
      "Epoch [2/100] Loss: 1.0673\n",
      "Epoch [2/100] Loss: 0.6235\n",
      "Epoch [2/100] Loss: 0.5300\n",
      "Epoch [2/100] Loss: 0.8107\n",
      "Epoch [2/100] Loss: 0.3371\n",
      "Epoch [2/100] Loss: 0.8887\n",
      "Epoch [2/100] Loss: 0.6057\n",
      "Epoch [2/100] Loss: 0.5451\n",
      "Epoch [2/100] Loss: 0.5352\n",
      "Epoch [2/100] Loss: 0.6957\n",
      "Epoch [2/100] Loss: 0.4031\n",
      "Epoch [2/100] Loss: 0.5861\n",
      "Epoch [2/100] Loss: 0.4797\n",
      "Epoch [2/100] Loss: 0.5064\n",
      "Epoch [2/100] Loss: 0.3224\n",
      "Epoch [2/100] Loss: 0.5167\n",
      "Epoch [2/100] Loss: 0.6452\n",
      "Epoch [2/100] Loss: 0.5981\n"
     ]
    },
    {
     "name": "stderr",
     "output_type": "stream",
     "text": [
      "654it [01:47,  6.08it/s]"
     ]
    },
    {
     "name": "stdout",
     "output_type": "stream",
     "text": [
      "Overall Acc: \t 0.541075044996\n",
      "Mean Acc : \t 0.477608717159\n",
      "FreqW Acc : \t 0.381463670889\n",
      "Mean IoU : \t 0.330233238644\n"
     ]
    },
    {
     "name": "stderr",
     "output_type": "stream",
     "text": [
      "\n"
     ]
    },
    {
     "name": "stdout",
     "output_type": "stream",
     "text": [
      "Epoch [3/100] Loss: 0.3353\n",
      "Epoch [3/100] Loss: 0.6391\n",
      "Epoch [3/100] Loss: 0.6638\n",
      "Epoch [3/100] Loss: 0.7103\n",
      "Epoch [3/100] Loss: 0.5709\n",
      "Epoch [3/100] Loss: 0.4231\n",
      "Epoch [3/100] Loss: 0.4121\n",
      "Epoch [3/100] Loss: 0.2039\n",
      "Epoch [3/100] Loss: 0.3614\n",
      "Epoch [3/100] Loss: 0.4491\n",
      "Epoch [3/100] Loss: 0.6792\n",
      "Epoch [3/100] Loss: 0.6798\n",
      "Epoch [3/100] Loss: 0.6260\n",
      "Epoch [3/100] Loss: 0.7341\n",
      "Epoch [3/100] Loss: 0.3525\n",
      "Epoch [3/100] Loss: 0.6445\n",
      "Epoch [3/100] Loss: 0.5495\n",
      "Epoch [3/100] Loss: 0.3343\n",
      "Epoch [3/100] Loss: 0.4350\n",
      "Epoch [3/100] Loss: 0.5648\n",
      "Epoch [3/100] Loss: 0.3432\n",
      "Epoch [3/100] Loss: 0.5880\n",
      "Epoch [3/100] Loss: 0.3566\n",
      "Epoch [3/100] Loss: 0.4874\n",
      "Epoch [3/100] Loss: 0.3151\n",
      "Epoch [3/100] Loss: 0.5682\n",
      "Epoch [3/100] Loss: 0.3826\n",
      "Epoch [3/100] Loss: 0.6114\n",
      "Epoch [3/100] Loss: 0.8685\n",
      "Epoch [3/100] Loss: 0.4167\n",
      "Epoch [3/100] Loss: 0.5813\n",
      "Epoch [3/100] Loss: 0.4397\n",
      "Epoch [3/100] Loss: 0.4026\n",
      "Epoch [3/100] Loss: 0.6498\n",
      "Epoch [3/100] Loss: 0.6967\n",
      "Epoch [3/100] Loss: 0.4448\n",
      "Epoch [3/100] Loss: 0.5618\n",
      "Epoch [3/100] Loss: 0.4152\n",
      "Epoch [3/100] Loss: 0.6538\n"
     ]
    },
    {
     "name": "stderr",
     "output_type": "stream",
     "text": [
      "654it [01:47,  6.09it/s]"
     ]
    },
    {
     "name": "stdout",
     "output_type": "stream",
     "text": [
      "Overall Acc: \t 0.556400675331\n",
      "Mean Acc : \t 0.483043480884\n",
      "FreqW Acc : \t 0.393626375055\n",
      "Mean IoU : \t 0.32729920974\n"
     ]
    },
    {
     "name": "stderr",
     "output_type": "stream",
     "text": [
      "\n"
     ]
    },
    {
     "name": "stdout",
     "output_type": "stream",
     "text": [
      "Epoch [4/100] Loss: 0.7272\n",
      "Epoch [4/100] Loss: 0.4552\n",
      "Epoch [4/100] Loss: 0.6165\n",
      "Epoch [4/100] Loss: 0.3527\n",
      "Epoch [4/100] Loss: 0.2620\n",
      "Epoch [4/100] Loss: 0.2629\n",
      "Epoch [4/100] Loss: 0.7291\n",
      "Epoch [4/100] Loss: 0.2759\n",
      "Epoch [4/100] Loss: 0.5145\n",
      "Epoch [4/100] Loss: 0.6133\n",
      "Epoch [4/100] Loss: 0.3727\n",
      "Epoch [4/100] Loss: 0.3442\n",
      "Epoch [4/100] Loss: 0.4537\n",
      "Epoch [4/100] Loss: 0.4117\n",
      "Epoch [4/100] Loss: 0.4187\n",
      "Epoch [4/100] Loss: 0.3888\n",
      "Epoch [4/100] Loss: 0.4835\n",
      "Epoch [4/100] Loss: 0.4639\n",
      "Epoch [4/100] Loss: 0.4749\n",
      "Epoch [4/100] Loss: 0.3236\n",
      "Epoch [4/100] Loss: 0.5720\n",
      "Epoch [4/100] Loss: 0.3783\n",
      "Epoch [4/100] Loss: 0.2647\n",
      "Epoch [4/100] Loss: 0.7462\n",
      "Epoch [4/100] Loss: 0.3909\n",
      "Epoch [4/100] Loss: 0.7246\n",
      "Epoch [4/100] Loss: 0.4869\n",
      "Epoch [4/100] Loss: 0.5972\n",
      "Epoch [4/100] Loss: 0.3286\n",
      "Epoch [4/100] Loss: 0.5409\n",
      "Epoch [4/100] Loss: 0.5378\n",
      "Epoch [4/100] Loss: 0.4189\n",
      "Epoch [4/100] Loss: 0.5656\n",
      "Epoch [4/100] Loss: 0.5567\n",
      "Epoch [4/100] Loss: 0.3734\n",
      "Epoch [4/100] Loss: 0.6526\n",
      "Epoch [4/100] Loss: 0.5406\n",
      "Epoch [4/100] Loss: 0.4582\n",
      "Epoch [4/100] Loss: 0.3838\n"
     ]
    },
    {
     "name": "stderr",
     "output_type": "stream",
     "text": [
      "654it [01:47,  6.06it/s]\n"
     ]
    },
    {
     "name": "stdout",
     "output_type": "stream",
     "text": [
      "Overall Acc: \t 0.571092540496\n",
      "Mean Acc : \t 0.501058015844\n",
      "FreqW Acc : \t 0.407590914689\n",
      "Mean IoU : \t 0.341971429496\n",
      "Epoch [5/100] Loss: 0.3888\n",
      "Epoch [5/100] Loss: 0.2440\n",
      "Epoch [5/100] Loss: 0.4635\n",
      "Epoch [5/100] Loss: 0.4421\n",
      "Epoch [5/100] Loss: 0.3028\n",
      "Epoch [5/100] Loss: 0.6987\n",
      "Epoch [5/100] Loss: 0.8016\n",
      "Epoch [5/100] Loss: 0.6565\n",
      "Epoch [5/100] Loss: 0.3561\n",
      "Epoch [5/100] Loss: 0.3967\n",
      "Epoch [5/100] Loss: 0.4199\n",
      "Epoch [5/100] Loss: 0.3278\n",
      "Epoch [5/100] Loss: 0.4654\n",
      "Epoch [5/100] Loss: 0.4409\n",
      "Epoch [5/100] Loss: 0.2658\n",
      "Epoch [5/100] Loss: 0.6161\n",
      "Epoch [5/100] Loss: 0.4679\n",
      "Epoch [5/100] Loss: 0.5943\n",
      "Epoch [5/100] Loss: 0.4133\n",
      "Epoch [5/100] Loss: 0.4709\n",
      "Epoch [5/100] Loss: 0.5992\n",
      "Epoch [5/100] Loss: 0.3503\n",
      "Epoch [5/100] Loss: 0.4251\n",
      "Epoch [5/100] Loss: 0.3095\n",
      "Epoch [5/100] Loss: 0.5157\n",
      "Epoch [5/100] Loss: 0.5786\n",
      "Epoch [5/100] Loss: 0.3866\n",
      "Epoch [5/100] Loss: 0.3168\n",
      "Epoch [5/100] Loss: 0.5131\n",
      "Epoch [5/100] Loss: 0.3952\n",
      "Epoch [5/100] Loss: 0.4567\n",
      "Epoch [5/100] Loss: 0.5226\n",
      "Epoch [5/100] Loss: 0.4101\n",
      "Epoch [5/100] Loss: 0.4096\n",
      "Epoch [5/100] Loss: 0.4837\n",
      "Epoch [5/100] Loss: 0.5192\n",
      "Epoch [5/100] Loss: 0.6961\n",
      "Epoch [5/100] Loss: 0.3882\n",
      "Epoch [5/100] Loss: 0.2618\n"
     ]
    },
    {
     "name": "stderr",
     "output_type": "stream",
     "text": [
      "654it [01:47,  6.07it/s]"
     ]
    },
    {
     "name": "stdout",
     "output_type": "stream",
     "text": [
      "Overall Acc: \t 0.554915175443\n",
      "Mean Acc : \t 0.488363363631\n",
      "FreqW Acc : \t 0.397702460939\n",
      "Mean IoU : \t 0.334787367745\n"
     ]
    },
    {
     "name": "stderr",
     "output_type": "stream",
     "text": [
      "\n"
     ]
    },
    {
     "name": "stdout",
     "output_type": "stream",
     "text": [
      "Epoch [6/100] Loss: 0.5090\n",
      "Epoch [6/100] Loss: 0.3743\n",
      "Epoch [6/100] Loss: 0.3122\n",
      "Epoch [6/100] Loss: 0.3693\n",
      "Epoch [6/100] Loss: 0.5419\n",
      "Epoch [6/100] Loss: 0.3411\n",
      "Epoch [6/100] Loss: 0.3709\n",
      "Epoch [6/100] Loss: 0.3989\n",
      "Epoch [6/100] Loss: 0.3475\n",
      "Epoch [6/100] Loss: 0.4686\n",
      "Epoch [6/100] Loss: 0.3737\n",
      "Epoch [6/100] Loss: 0.3016\n",
      "Epoch [6/100] Loss: 0.7112\n",
      "Epoch [6/100] Loss: 0.5082\n",
      "Epoch [6/100] Loss: 0.7531\n",
      "Epoch [6/100] Loss: 0.5877\n",
      "Epoch [6/100] Loss: 0.6686\n",
      "Epoch [6/100] Loss: 0.2571\n",
      "Epoch [6/100] Loss: 0.5681\n",
      "Epoch [6/100] Loss: 0.3758\n",
      "Epoch [6/100] Loss: 0.3263\n",
      "Epoch [6/100] Loss: 0.5669\n",
      "Epoch [6/100] Loss: 0.3522\n",
      "Epoch [6/100] Loss: 0.4184\n",
      "Epoch [6/100] Loss: 0.3060\n",
      "Epoch [6/100] Loss: 0.4622\n",
      "Epoch [6/100] Loss: 0.5158\n",
      "Epoch [6/100] Loss: 0.6108\n",
      "Epoch [6/100] Loss: 0.5632\n",
      "Epoch [6/100] Loss: 0.4425\n",
      "Epoch [6/100] Loss: 0.5526\n",
      "Epoch [6/100] Loss: 0.5098\n",
      "Epoch [6/100] Loss: 0.3442\n",
      "Epoch [6/100] Loss: 0.3793\n",
      "Epoch [6/100] Loss: 0.7592\n",
      "Epoch [6/100] Loss: 0.4769\n",
      "Epoch [6/100] Loss: 0.4338\n",
      "Epoch [6/100] Loss: 0.5668\n",
      "Epoch [6/100] Loss: 0.4038\n"
     ]
    },
    {
     "name": "stderr",
     "output_type": "stream",
     "text": [
      "654it [01:47,  6.08it/s]"
     ]
    },
    {
     "name": "stdout",
     "output_type": "stream",
     "text": [
      "Overall Acc: \t 0.559017091337\n",
      "Mean Acc : \t 0.491953101732\n",
      "FreqW Acc : \t 0.398319115355\n",
      "Mean IoU : \t 0.327960639646\n"
     ]
    },
    {
     "name": "stderr",
     "output_type": "stream",
     "text": [
      "\n"
     ]
    },
    {
     "name": "stdout",
     "output_type": "stream",
     "text": [
      "Epoch [7/100] Loss: 0.6840\n",
      "Epoch [7/100] Loss: 0.2457\n",
      "Epoch [7/100] Loss: 0.6249\n",
      "Epoch [7/100] Loss: 0.4537\n",
      "Epoch [7/100] Loss: 0.6726\n",
      "Epoch [7/100] Loss: 0.5579\n",
      "Epoch [7/100] Loss: 0.6678\n",
      "Epoch [7/100] Loss: 0.6483\n",
      "Epoch [7/100] Loss: 0.1998\n",
      "Epoch [7/100] Loss: 0.4524\n",
      "Epoch [7/100] Loss: 0.5601\n",
      "Epoch [7/100] Loss: 0.6272\n",
      "Epoch [7/100] Loss: 0.4213\n",
      "Epoch [7/100] Loss: 0.3194\n",
      "Epoch [7/100] Loss: 0.5020\n",
      "Epoch [7/100] Loss: 0.5059\n",
      "Epoch [7/100] Loss: 0.4155\n",
      "Epoch [7/100] Loss: 0.2530\n",
      "Epoch [7/100] Loss: 0.3075\n",
      "Epoch [7/100] Loss: 0.4503\n",
      "Epoch [7/100] Loss: 0.5770\n",
      "Epoch [7/100] Loss: 0.4696\n",
      "Epoch [7/100] Loss: 0.3098\n",
      "Epoch [7/100] Loss: 0.4938\n",
      "Epoch [7/100] Loss: 0.5401\n",
      "Epoch [7/100] Loss: 0.3301\n",
      "Epoch [7/100] Loss: 0.7277\n",
      "Epoch [7/100] Loss: 0.3245\n",
      "Epoch [7/100] Loss: 0.5662\n",
      "Epoch [7/100] Loss: 0.4582\n",
      "Epoch [7/100] Loss: 0.2735\n",
      "Epoch [7/100] Loss: 0.4019\n",
      "Epoch [7/100] Loss: 0.3553\n",
      "Epoch [7/100] Loss: 0.3935\n",
      "Epoch [7/100] Loss: 0.3755\n",
      "Epoch [7/100] Loss: 0.4597\n",
      "Epoch [7/100] Loss: 0.6085\n",
      "Epoch [7/100] Loss: 0.2740\n",
      "Epoch [7/100] Loss: 0.4354\n"
     ]
    },
    {
     "name": "stderr",
     "output_type": "stream",
     "text": [
      "654it [01:48,  6.02it/s]"
     ]
    },
    {
     "name": "stdout",
     "output_type": "stream",
     "text": [
      "Overall Acc: \t 0.544684239814\n",
      "Mean Acc : \t 0.473051394935\n",
      "FreqW Acc : \t 0.387442106584\n",
      "Mean IoU : \t 0.326320499771\n"
     ]
    },
    {
     "name": "stderr",
     "output_type": "stream",
     "text": [
      "\n"
     ]
    },
    {
     "name": "stdout",
     "output_type": "stream",
     "text": [
      "Epoch [8/100] Loss: 0.4180\n",
      "Epoch [8/100] Loss: 0.2921\n",
      "Epoch [8/100] Loss: 0.4126\n",
      "Epoch [8/100] Loss: 0.8007\n",
      "Epoch [8/100] Loss: 0.5295\n",
      "Epoch [8/100] Loss: 0.3592\n",
      "Epoch [8/100] Loss: 0.4318\n",
      "Epoch [8/100] Loss: 0.7832\n",
      "Epoch [8/100] Loss: 0.5677\n",
      "Epoch [8/100] Loss: 0.6370\n",
      "Epoch [8/100] Loss: 0.4301\n",
      "Epoch [8/100] Loss: 0.5872\n",
      "Epoch [8/100] Loss: 0.4193\n",
      "Epoch [8/100] Loss: 0.3868\n",
      "Epoch [8/100] Loss: 0.4770\n",
      "Epoch [8/100] Loss: 0.5251\n",
      "Epoch [8/100] Loss: 0.5900\n",
      "Epoch [8/100] Loss: 0.3694\n",
      "Epoch [8/100] Loss: 0.4590\n",
      "Epoch [8/100] Loss: 0.3757\n",
      "Epoch [8/100] Loss: 0.2813\n",
      "Epoch [8/100] Loss: 0.5236\n",
      "Epoch [8/100] Loss: 0.5829\n",
      "Epoch [8/100] Loss: 0.5222\n",
      "Epoch [8/100] Loss: 0.6417\n",
      "Epoch [8/100] Loss: 0.2460\n",
      "Epoch [8/100] Loss: 0.4594\n",
      "Epoch [8/100] Loss: 0.3361\n",
      "Epoch [8/100] Loss: 0.4944\n",
      "Epoch [8/100] Loss: 0.5034\n",
      "Epoch [8/100] Loss: 0.6951\n",
      "Epoch [8/100] Loss: 0.5733\n",
      "Epoch [8/100] Loss: 0.3936\n",
      "Epoch [8/100] Loss: 0.5544\n",
      "Epoch [8/100] Loss: 0.2959\n",
      "Epoch [8/100] Loss: 0.6244\n",
      "Epoch [8/100] Loss: 0.4888\n",
      "Epoch [8/100] Loss: 0.4582\n",
      "Epoch [8/100] Loss: 0.3322\n"
     ]
    },
    {
     "name": "stderr",
     "output_type": "stream",
     "text": [
      "654it [01:47,  6.11it/s]"
     ]
    },
    {
     "name": "stdout",
     "output_type": "stream",
     "text": [
      "Overall Acc: \t 0.549044880065\n",
      "Mean Acc : \t 0.489662509847\n",
      "FreqW Acc : \t 0.396989636919\n",
      "Mean IoU : \t 0.341428020088\n"
     ]
    },
    {
     "name": "stderr",
     "output_type": "stream",
     "text": [
      "\n"
     ]
    },
    {
     "name": "stdout",
     "output_type": "stream",
     "text": [
      "Epoch [9/100] Loss: 0.3725\n",
      "Epoch [9/100] Loss: 0.6375\n",
      "Epoch [9/100] Loss: 0.4058\n",
      "Epoch [9/100] Loss: 0.3635\n",
      "Epoch [9/100] Loss: 0.2553\n",
      "Epoch [9/100] Loss: 0.5384\n",
      "Epoch [9/100] Loss: 0.4128\n",
      "Epoch [9/100] Loss: 0.5693\n",
      "Epoch [9/100] Loss: 0.6145\n",
      "Epoch [9/100] Loss: 0.4939\n",
      "Epoch [9/100] Loss: 0.3974\n",
      "Epoch [9/100] Loss: 0.6040\n",
      "Epoch [9/100] Loss: 0.3038\n",
      "Epoch [9/100] Loss: 0.3755\n",
      "Epoch [9/100] Loss: 0.4353\n",
      "Epoch [9/100] Loss: 0.5427\n",
      "Epoch [9/100] Loss: 0.4926\n",
      "Epoch [9/100] Loss: 0.4126\n",
      "Epoch [9/100] Loss: 0.4530\n",
      "Epoch [9/100] Loss: 0.4146\n",
      "Epoch [9/100] Loss: 0.4195\n",
      "Epoch [9/100] Loss: 0.3199\n",
      "Epoch [9/100] Loss: 0.4267\n",
      "Epoch [9/100] Loss: 0.5805\n",
      "Epoch [9/100] Loss: 0.3236\n",
      "Epoch [9/100] Loss: 0.5286\n",
      "Epoch [9/100] Loss: 0.3324\n",
      "Epoch [9/100] Loss: 0.4580\n",
      "Epoch [9/100] Loss: 0.2192\n",
      "Epoch [9/100] Loss: 0.3658\n",
      "Epoch [9/100] Loss: 0.4597\n",
      "Epoch [9/100] Loss: 0.3514\n",
      "Epoch [9/100] Loss: 0.2520\n",
      "Epoch [9/100] Loss: 0.2710\n",
      "Epoch [9/100] Loss: 0.5858\n",
      "Epoch [9/100] Loss: 0.5221\n",
      "Epoch [9/100] Loss: 0.2776\n",
      "Epoch [9/100] Loss: 0.6585\n",
      "Epoch [9/100] Loss: 0.4571\n"
     ]
    },
    {
     "name": "stderr",
     "output_type": "stream",
     "text": [
      "654it [01:47,  6.10it/s]"
     ]
    },
    {
     "name": "stdout",
     "output_type": "stream",
     "text": [
      "Overall Acc: \t 0.568992766867\n",
      "Mean Acc : \t 0.466859652128\n",
      "FreqW Acc : \t 0.4093816823\n",
      "Mean IoU : \t 0.334098296603\n"
     ]
    },
    {
     "name": "stderr",
     "output_type": "stream",
     "text": [
      "\n"
     ]
    },
    {
     "name": "stdout",
     "output_type": "stream",
     "text": [
      "Epoch [10/100] Loss: 0.5043\n",
      "Epoch [10/100] Loss: 0.5232\n",
      "Epoch [10/100] Loss: 0.2800\n",
      "Epoch [10/100] Loss: 0.2600\n",
      "Epoch [10/100] Loss: 0.6485\n",
      "Epoch [10/100] Loss: 0.3790\n",
      "Epoch [10/100] Loss: 0.4679\n",
      "Epoch [10/100] Loss: 0.2565\n",
      "Epoch [10/100] Loss: 0.4772\n",
      "Epoch [10/100] Loss: 0.6264\n",
      "Epoch [10/100] Loss: 0.3591\n",
      "Epoch [10/100] Loss: 0.3231\n",
      "Epoch [10/100] Loss: 0.2967\n",
      "Epoch [10/100] Loss: 0.4545\n",
      "Epoch [10/100] Loss: 0.6850\n",
      "Epoch [10/100] Loss: 0.3263\n",
      "Epoch [10/100] Loss: 0.4906\n",
      "Epoch [10/100] Loss: 0.5808\n",
      "Epoch [10/100] Loss: 0.2572\n",
      "Epoch [10/100] Loss: 0.3302\n",
      "Epoch [10/100] Loss: 0.6697\n",
      "Epoch [10/100] Loss: 0.3119\n",
      "Epoch [10/100] Loss: 0.3305\n",
      "Epoch [10/100] Loss: 0.4529\n",
      "Epoch [10/100] Loss: 0.5347\n",
      "Epoch [10/100] Loss: 0.6074\n",
      "Epoch [10/100] Loss: 0.3235\n",
      "Epoch [10/100] Loss: 0.5149\n",
      "Epoch [10/100] Loss: 0.2711\n",
      "Epoch [10/100] Loss: 0.5163\n",
      "Epoch [10/100] Loss: 0.4581\n",
      "Epoch [10/100] Loss: 0.2258\n",
      "Epoch [10/100] Loss: 0.7830\n",
      "Epoch [10/100] Loss: 0.6634\n",
      "Epoch [10/100] Loss: 0.3365\n",
      "Epoch [10/100] Loss: 0.3247\n",
      "Epoch [10/100] Loss: 0.4400\n",
      "Epoch [10/100] Loss: 0.5611\n",
      "Epoch [10/100] Loss: 0.2609\n"
     ]
    },
    {
     "name": "stderr",
     "output_type": "stream",
     "text": [
      "654it [01:47,  6.08it/s]"
     ]
    },
    {
     "name": "stdout",
     "output_type": "stream",
     "text": [
      "Overall Acc: \t 0.574887750064\n",
      "Mean Acc : \t 0.498502723095\n",
      "FreqW Acc : \t 0.414541764364\n",
      "Mean IoU : \t 0.339415301946\n"
     ]
    },
    {
     "name": "stderr",
     "output_type": "stream",
     "text": [
      "\n"
     ]
    },
    {
     "name": "stdout",
     "output_type": "stream",
     "text": [
      "Epoch [11/100] Loss: 0.6277\n",
      "Epoch [11/100] Loss: 0.4348\n",
      "Epoch [11/100] Loss: 0.3883\n",
      "Epoch [11/100] Loss: 0.4060\n",
      "Epoch [11/100] Loss: 0.2824\n",
      "Epoch [11/100] Loss: 0.6376\n",
      "Epoch [11/100] Loss: 0.3099\n",
      "Epoch [11/100] Loss: 0.4361\n",
      "Epoch [11/100] Loss: 0.3955\n",
      "Epoch [11/100] Loss: 0.2217\n",
      "Epoch [11/100] Loss: 0.5321\n",
      "Epoch [11/100] Loss: 0.6206\n",
      "Epoch [11/100] Loss: 0.4250\n",
      "Epoch [11/100] Loss: 0.4717\n",
      "Epoch [11/100] Loss: 0.2264\n",
      "Epoch [11/100] Loss: 0.3375\n",
      "Epoch [11/100] Loss: 0.3635\n",
      "Epoch [11/100] Loss: 0.4509\n",
      "Epoch [11/100] Loss: 0.4927\n",
      "Epoch [11/100] Loss: 0.4271\n",
      "Epoch [11/100] Loss: 0.2688\n",
      "Epoch [11/100] Loss: 0.3076\n",
      "Epoch [11/100] Loss: 0.5391\n",
      "Epoch [11/100] Loss: 0.4066\n",
      "Epoch [11/100] Loss: 0.5012\n",
      "Epoch [11/100] Loss: 0.4144\n",
      "Epoch [11/100] Loss: 0.2593\n",
      "Epoch [11/100] Loss: 0.5278\n",
      "Epoch [11/100] Loss: 0.4689\n",
      "Epoch [11/100] Loss: 0.2298\n",
      "Epoch [11/100] Loss: 0.5160\n",
      "Epoch [11/100] Loss: 0.3681\n",
      "Epoch [11/100] Loss: 0.4449\n",
      "Epoch [11/100] Loss: 0.3804\n",
      "Epoch [11/100] Loss: 0.3832\n",
      "Epoch [11/100] Loss: 0.2818\n",
      "Epoch [11/100] Loss: 0.4445\n",
      "Epoch [11/100] Loss: 0.4951\n",
      "Epoch [11/100] Loss: 0.2510\n"
     ]
    },
    {
     "name": "stderr",
     "output_type": "stream",
     "text": [
      "654it [01:47,  6.09it/s]"
     ]
    },
    {
     "name": "stdout",
     "output_type": "stream",
     "text": [
      "Overall Acc: \t 0.58151250219\n",
      "Mean Acc : \t 0.486353744981\n",
      "FreqW Acc : \t 0.419841995656\n",
      "Mean IoU : \t 0.34173522932\n"
     ]
    },
    {
     "name": "stderr",
     "output_type": "stream",
     "text": [
      "\n"
     ]
    },
    {
     "name": "stdout",
     "output_type": "stream",
     "text": [
      "Epoch [12/100] Loss: 0.6258\n",
      "Epoch [12/100] Loss: 0.5393\n",
      "Epoch [12/100] Loss: 0.2672\n",
      "Epoch [12/100] Loss: 0.3663\n",
      "Epoch [12/100] Loss: 0.2466\n",
      "Epoch [12/100] Loss: 0.3044\n",
      "Epoch [12/100] Loss: 0.2693\n",
      "Epoch [12/100] Loss: 0.4150\n",
      "Epoch [12/100] Loss: 0.2159\n",
      "Epoch [12/100] Loss: 0.2500\n",
      "Epoch [12/100] Loss: 0.4926\n",
      "Epoch [12/100] Loss: 0.5543\n",
      "Epoch [12/100] Loss: 0.4018\n",
      "Epoch [12/100] Loss: 0.2909\n",
      "Epoch [12/100] Loss: 0.4492\n",
      "Epoch [12/100] Loss: 0.3367\n",
      "Epoch [12/100] Loss: 0.7225\n",
      "Epoch [12/100] Loss: 0.4717\n",
      "Epoch [12/100] Loss: 0.3214\n",
      "Epoch [12/100] Loss: 0.2377\n",
      "Epoch [12/100] Loss: 0.4569\n",
      "Epoch [12/100] Loss: 0.2516\n",
      "Epoch [12/100] Loss: 0.2484\n",
      "Epoch [12/100] Loss: 0.3073\n",
      "Epoch [12/100] Loss: 0.3972\n",
      "Epoch [12/100] Loss: 0.3564\n",
      "Epoch [12/100] Loss: 0.2998\n",
      "Epoch [12/100] Loss: 0.5726\n",
      "Epoch [12/100] Loss: 0.2309\n",
      "Epoch [12/100] Loss: 0.4500\n",
      "Epoch [12/100] Loss: 0.1891\n",
      "Epoch [12/100] Loss: 0.4787\n",
      "Epoch [12/100] Loss: 0.2983\n",
      "Epoch [12/100] Loss: 0.2569\n",
      "Epoch [12/100] Loss: 0.5784\n",
      "Epoch [12/100] Loss: 0.4614\n",
      "Epoch [12/100] Loss: 0.3983\n",
      "Epoch [12/100] Loss: 0.3994\n",
      "Epoch [12/100] Loss: 0.2575\n"
     ]
    },
    {
     "name": "stderr",
     "output_type": "stream",
     "text": [
      "654it [01:47,  6.10it/s]"
     ]
    },
    {
     "name": "stdout",
     "output_type": "stream",
     "text": [
      "Overall Acc: \t 0.557260115037\n",
      "Mean Acc : \t 0.476732999438\n",
      "FreqW Acc : \t 0.403353242311\n",
      "Mean IoU : \t 0.329256188721\n"
     ]
    },
    {
     "name": "stderr",
     "output_type": "stream",
     "text": [
      "\n"
     ]
    },
    {
     "name": "stdout",
     "output_type": "stream",
     "text": [
      "Epoch [13/100] Loss: 0.3081\n",
      "Epoch [13/100] Loss: 0.5427\n",
      "Epoch [13/100] Loss: 0.2704\n",
      "Epoch [13/100] Loss: 0.5733\n",
      "Epoch [13/100] Loss: 0.4873\n",
      "Epoch [13/100] Loss: 0.2357\n",
      "Epoch [13/100] Loss: 0.4020\n",
      "Epoch [13/100] Loss: 0.3459\n",
      "Epoch [13/100] Loss: 0.3723\n",
      "Epoch [13/100] Loss: 0.3259\n",
      "Epoch [13/100] Loss: 0.4021\n",
      "Epoch [13/100] Loss: 0.5132\n",
      "Epoch [13/100] Loss: 0.3783\n",
      "Epoch [13/100] Loss: 0.5025\n",
      "Epoch [13/100] Loss: 0.6879\n",
      "Epoch [13/100] Loss: 0.4284\n",
      "Epoch [13/100] Loss: 0.3372\n",
      "Epoch [13/100] Loss: 0.5025\n",
      "Epoch [13/100] Loss: 0.4735\n",
      "Epoch [13/100] Loss: 0.6006\n",
      "Epoch [13/100] Loss: 0.2969\n",
      "Epoch [13/100] Loss: 0.3680\n",
      "Epoch [13/100] Loss: 0.2736\n",
      "Epoch [13/100] Loss: 0.2398\n",
      "Epoch [13/100] Loss: 0.3916\n",
      "Epoch [13/100] Loss: 0.3652\n",
      "Epoch [13/100] Loss: 0.3648\n",
      "Epoch [13/100] Loss: 0.3517\n",
      "Epoch [13/100] Loss: 0.5299\n",
      "Epoch [13/100] Loss: 0.1460\n",
      "Epoch [13/100] Loss: 0.7266\n",
      "Epoch [13/100] Loss: 0.2337\n",
      "Epoch [13/100] Loss: 0.4304\n",
      "Epoch [13/100] Loss: 0.3786\n",
      "Epoch [13/100] Loss: 0.5433\n",
      "Epoch [13/100] Loss: 0.2881\n",
      "Epoch [13/100] Loss: 0.3166\n",
      "Epoch [13/100] Loss: 0.3918\n",
      "Epoch [13/100] Loss: 0.3379\n"
     ]
    },
    {
     "name": "stderr",
     "output_type": "stream",
     "text": [
      "654it [01:47,  6.07it/s]\n"
     ]
    },
    {
     "name": "stdout",
     "output_type": "stream",
     "text": [
      "Overall Acc: \t 0.579441935844\n",
      "Mean Acc : \t 0.494554079221\n",
      "FreqW Acc : \t 0.417795457389\n",
      "Mean IoU : \t 0.348025214275\n",
      "Epoch [14/100] Loss: 0.4206\n",
      "Epoch [14/100] Loss: 0.3238\n",
      "Epoch [14/100] Loss: 0.1605\n",
      "Epoch [14/100] Loss: 0.1893\n",
      "Epoch [14/100] Loss: 0.4022\n",
      "Epoch [14/100] Loss: 0.2597\n",
      "Epoch [14/100] Loss: 0.2516\n",
      "Epoch [14/100] Loss: 0.2845\n",
      "Epoch [14/100] Loss: 0.3394\n",
      "Epoch [14/100] Loss: 0.4257\n",
      "Epoch [14/100] Loss: 0.3370\n",
      "Epoch [14/100] Loss: 0.2035\n",
      "Epoch [14/100] Loss: 0.2765\n",
      "Epoch [14/100] Loss: 0.1531\n",
      "Epoch [14/100] Loss: 0.3679\n",
      "Epoch [14/100] Loss: 0.7411\n",
      "Epoch [14/100] Loss: 0.4145\n",
      "Epoch [14/100] Loss: 0.3647\n",
      "Epoch [14/100] Loss: 0.2820\n",
      "Epoch [14/100] Loss: 0.6406\n",
      "Epoch [14/100] Loss: 0.3959\n",
      "Epoch [14/100] Loss: 0.5873\n",
      "Epoch [14/100] Loss: 0.4158\n",
      "Epoch [14/100] Loss: 0.4858\n",
      "Epoch [14/100] Loss: 0.2831\n",
      "Epoch [14/100] Loss: 0.6279\n",
      "Epoch [14/100] Loss: 0.3966\n",
      "Epoch [14/100] Loss: 0.3613\n",
      "Epoch [14/100] Loss: 0.4047\n",
      "Epoch [14/100] Loss: 0.6049\n",
      "Epoch [14/100] Loss: 0.3203\n",
      "Epoch [14/100] Loss: 0.2893\n",
      "Epoch [14/100] Loss: 0.4178\n",
      "Epoch [14/100] Loss: 0.2849\n",
      "Epoch [14/100] Loss: 0.4635\n",
      "Epoch [14/100] Loss: 0.4752\n",
      "Epoch [14/100] Loss: 0.3710\n",
      "Epoch [14/100] Loss: 0.3353\n",
      "Epoch [14/100] Loss: 0.4420\n"
     ]
    },
    {
     "name": "stderr",
     "output_type": "stream",
     "text": [
      "654it [01:47,  6.07it/s]"
     ]
    },
    {
     "name": "stdout",
     "output_type": "stream",
     "text": [
      "Overall Acc: \t 0.567553472023\n",
      "Mean Acc : \t 0.490658577628\n",
      "FreqW Acc : \t 0.409390335111\n",
      "Mean IoU : \t 0.343744539722\n"
     ]
    },
    {
     "name": "stderr",
     "output_type": "stream",
     "text": [
      "\n"
     ]
    },
    {
     "name": "stdout",
     "output_type": "stream",
     "text": [
      "Epoch [15/100] Loss: 0.1778\n",
      "Epoch [15/100] Loss: 0.2741\n",
      "Epoch [15/100] Loss: 0.2695\n",
      "Epoch [15/100] Loss: 0.4419\n",
      "Epoch [15/100] Loss: 0.3534\n",
      "Epoch [15/100] Loss: 0.2767\n",
      "Epoch [15/100] Loss: 0.2916\n",
      "Epoch [15/100] Loss: 0.3429\n",
      "Epoch [15/100] Loss: 0.1955\n",
      "Epoch [15/100] Loss: 0.3578\n",
      "Epoch [15/100] Loss: 0.2305\n",
      "Epoch [15/100] Loss: 0.2269\n",
      "Epoch [15/100] Loss: 0.3431\n",
      "Epoch [15/100] Loss: 0.4708\n",
      "Epoch [15/100] Loss: 0.4071\n",
      "Epoch [15/100] Loss: 0.4949\n",
      "Epoch [15/100] Loss: 0.2458\n",
      "Epoch [15/100] Loss: 0.2666\n",
      "Epoch [15/100] Loss: 0.5604\n",
      "Epoch [15/100] Loss: 0.3654\n",
      "Epoch [15/100] Loss: 0.3156\n",
      "Epoch [15/100] Loss: 0.4664\n",
      "Epoch [15/100] Loss: 0.2891\n",
      "Epoch [15/100] Loss: 0.3704\n",
      "Epoch [15/100] Loss: 0.5545\n",
      "Epoch [15/100] Loss: 0.3470\n",
      "Epoch [15/100] Loss: 0.2151\n",
      "Epoch [15/100] Loss: 0.5758\n",
      "Epoch [15/100] Loss: 0.2463\n",
      "Epoch [15/100] Loss: 0.3343\n",
      "Epoch [15/100] Loss: 0.4205\n",
      "Epoch [15/100] Loss: 0.4777\n",
      "Epoch [15/100] Loss: 0.5542\n",
      "Epoch [15/100] Loss: 0.2030\n",
      "Epoch [15/100] Loss: 0.4501\n",
      "Epoch [15/100] Loss: 0.4896\n",
      "Epoch [15/100] Loss: 0.3235\n",
      "Epoch [15/100] Loss: 0.4883\n",
      "Epoch [15/100] Loss: 0.4898\n"
     ]
    },
    {
     "name": "stderr",
     "output_type": "stream",
     "text": [
      "654it [01:47,  6.08it/s]"
     ]
    },
    {
     "name": "stdout",
     "output_type": "stream",
     "text": [
      "Overall Acc: \t 0.559268792606\n",
      "Mean Acc : \t 0.487100734589\n",
      "FreqW Acc : \t 0.406633135353\n",
      "Mean IoU : \t 0.341244185955\n"
     ]
    },
    {
     "name": "stderr",
     "output_type": "stream",
     "text": [
      "\n"
     ]
    },
    {
     "name": "stdout",
     "output_type": "stream",
     "text": [
      "Epoch [16/100] Loss: 0.3375\n",
      "Epoch [16/100] Loss: 0.6539\n",
      "Epoch [16/100] Loss: 0.3536\n",
      "Epoch [16/100] Loss: 0.3294\n",
      "Epoch [16/100] Loss: 0.3879\n",
      "Epoch [16/100] Loss: 0.4108\n",
      "Epoch [16/100] Loss: 0.2735\n",
      "Epoch [16/100] Loss: 0.4369\n",
      "Epoch [16/100] Loss: 0.4970\n",
      "Epoch [16/100] Loss: 0.4845\n",
      "Epoch [16/100] Loss: 0.4088\n",
      "Epoch [16/100] Loss: 0.2867\n",
      "Epoch [16/100] Loss: 0.2853\n",
      "Epoch [16/100] Loss: 0.4207\n",
      "Epoch [16/100] Loss: 0.2414\n",
      "Epoch [16/100] Loss: 0.4295\n",
      "Epoch [16/100] Loss: 0.2423\n",
      "Epoch [16/100] Loss: 0.4401\n",
      "Epoch [16/100] Loss: 0.4712\n",
      "Epoch [16/100] Loss: 0.3104\n",
      "Epoch [16/100] Loss: 0.3436\n",
      "Epoch [16/100] Loss: 0.5317\n",
      "Epoch [16/100] Loss: 0.3642\n",
      "Epoch [16/100] Loss: 0.2782\n",
      "Epoch [16/100] Loss: 0.2519\n",
      "Epoch [16/100] Loss: 0.4302\n",
      "Epoch [16/100] Loss: 0.4485\n",
      "Epoch [16/100] Loss: 0.3847\n",
      "Epoch [16/100] Loss: 0.8014\n",
      "Epoch [16/100] Loss: 0.4012\n",
      "Epoch [16/100] Loss: 0.6290\n",
      "Epoch [16/100] Loss: 0.5597\n",
      "Epoch [16/100] Loss: 0.2696\n",
      "Epoch [16/100] Loss: 0.4179\n",
      "Epoch [16/100] Loss: 0.3889\n",
      "Epoch [16/100] Loss: 0.3174\n",
      "Epoch [16/100] Loss: 0.3374\n",
      "Epoch [16/100] Loss: 0.7694\n",
      "Epoch [16/100] Loss: 0.2930\n"
     ]
    },
    {
     "name": "stderr",
     "output_type": "stream",
     "text": [
      "654it [01:47,  6.06it/s]\n"
     ]
    },
    {
     "name": "stdout",
     "output_type": "stream",
     "text": [
      "Overall Acc: \t 0.582825894137\n",
      "Mean Acc : \t 0.485165668737\n",
      "FreqW Acc : \t 0.421127211738\n",
      "Mean IoU : \t 0.350488131006\n",
      "Epoch [17/100] Loss: 0.3496\n",
      "Epoch [17/100] Loss: 0.3675\n",
      "Epoch [17/100] Loss: 0.4235\n",
      "Epoch [17/100] Loss: 0.3764\n",
      "Epoch [17/100] Loss: 0.6952\n",
      "Epoch [17/100] Loss: 0.3564\n",
      "Epoch [17/100] Loss: 0.3358\n",
      "Epoch [17/100] Loss: 0.3324\n",
      "Epoch [17/100] Loss: 0.5426\n",
      "Epoch [17/100] Loss: 0.4152\n",
      "Epoch [17/100] Loss: 0.2504\n",
      "Epoch [17/100] Loss: 0.3770\n",
      "Epoch [17/100] Loss: 0.4097\n",
      "Epoch [17/100] Loss: 0.2676\n",
      "Epoch [17/100] Loss: 0.3853\n",
      "Epoch [17/100] Loss: 0.3329\n",
      "Epoch [17/100] Loss: 0.3458\n",
      "Epoch [17/100] Loss: 0.3120\n",
      "Epoch [17/100] Loss: 0.4972\n",
      "Epoch [17/100] Loss: 0.3779\n",
      "Epoch [17/100] Loss: 0.4531\n",
      "Epoch [17/100] Loss: 0.4400\n",
      "Epoch [17/100] Loss: 0.3961\n",
      "Epoch [17/100] Loss: 0.2711\n",
      "Epoch [17/100] Loss: 0.3224\n",
      "Epoch [17/100] Loss: 0.1359\n",
      "Epoch [17/100] Loss: 0.3159\n",
      "Epoch [17/100] Loss: 0.3782\n",
      "Epoch [17/100] Loss: 0.3597\n",
      "Epoch [17/100] Loss: 0.3524\n",
      "Epoch [17/100] Loss: 0.2419\n",
      "Epoch [17/100] Loss: 0.3328\n",
      "Epoch [17/100] Loss: 0.4624\n",
      "Epoch [17/100] Loss: 0.2383\n",
      "Epoch [17/100] Loss: 0.3399\n",
      "Epoch [17/100] Loss: 0.6270\n",
      "Epoch [17/100] Loss: 0.1691\n",
      "Epoch [17/100] Loss: 0.3765\n",
      "Epoch [17/100] Loss: 0.4059\n"
     ]
    },
    {
     "name": "stderr",
     "output_type": "stream",
     "text": [
      "654it [01:47,  6.09it/s]"
     ]
    },
    {
     "name": "stdout",
     "output_type": "stream",
     "text": [
      "Overall Acc: \t 0.566018790615\n",
      "Mean Acc : \t 0.501351302851\n",
      "FreqW Acc : \t 0.409190044457\n",
      "Mean IoU : \t 0.344164985378\n"
     ]
    },
    {
     "name": "stderr",
     "output_type": "stream",
     "text": [
      "\n"
     ]
    },
    {
     "name": "stdout",
     "output_type": "stream",
     "text": [
      "Epoch [18/100] Loss: 0.3401\n",
      "Epoch [18/100] Loss: 0.3849\n",
      "Epoch [18/100] Loss: 0.3451\n",
      "Epoch [18/100] Loss: 0.3421\n",
      "Epoch [18/100] Loss: 0.6774\n",
      "Epoch [18/100] Loss: 0.2774\n",
      "Epoch [18/100] Loss: 0.2966\n",
      "Epoch [18/100] Loss: 0.5785\n",
      "Epoch [18/100] Loss: 0.3483\n",
      "Epoch [18/100] Loss: 0.3344\n",
      "Epoch [18/100] Loss: 0.1872\n",
      "Epoch [18/100] Loss: 0.4313\n",
      "Epoch [18/100] Loss: 0.4717\n",
      "Epoch [18/100] Loss: 0.3026\n",
      "Epoch [18/100] Loss: 0.1889\n",
      "Epoch [18/100] Loss: 0.4124\n",
      "Epoch [18/100] Loss: 0.3443\n",
      "Epoch [18/100] Loss: 0.3378\n",
      "Epoch [18/100] Loss: 0.2603\n",
      "Epoch [18/100] Loss: 0.3906\n",
      "Epoch [18/100] Loss: 0.3760\n",
      "Epoch [18/100] Loss: 0.4149\n",
      "Epoch [18/100] Loss: 0.5132\n",
      "Epoch [18/100] Loss: 0.4615\n",
      "Epoch [18/100] Loss: 0.2040\n",
      "Epoch [18/100] Loss: 0.4409\n",
      "Epoch [18/100] Loss: 0.4316\n",
      "Epoch [18/100] Loss: 0.4406\n",
      "Epoch [18/100] Loss: 0.6445\n",
      "Epoch [18/100] Loss: 0.3350\n",
      "Epoch [18/100] Loss: 0.3720\n",
      "Epoch [18/100] Loss: 0.2325\n",
      "Epoch [18/100] Loss: 0.3352\n",
      "Epoch [18/100] Loss: 0.2035\n",
      "Epoch [18/100] Loss: 0.5445\n",
      "Epoch [18/100] Loss: 0.4403\n",
      "Epoch [18/100] Loss: 0.3588\n",
      "Epoch [18/100] Loss: 0.4142\n",
      "Epoch [18/100] Loss: 0.3623\n"
     ]
    },
    {
     "name": "stderr",
     "output_type": "stream",
     "text": [
      "654it [01:47,  6.08it/s]"
     ]
    },
    {
     "name": "stdout",
     "output_type": "stream",
     "text": [
      "Overall Acc: \t 0.556908925841\n",
      "Mean Acc : \t 0.474742230672\n",
      "FreqW Acc : \t 0.401334537237\n",
      "Mean IoU : \t 0.333277993765\n"
     ]
    },
    {
     "name": "stderr",
     "output_type": "stream",
     "text": [
      "\n"
     ]
    },
    {
     "name": "stdout",
     "output_type": "stream",
     "text": [
      "Epoch [19/100] Loss: 0.2740\n",
      "Epoch [19/100] Loss: 0.2271\n",
      "Epoch [19/100] Loss: 0.3634\n",
      "Epoch [19/100] Loss: 0.3314\n",
      "Epoch [19/100] Loss: 0.2904\n",
      "Epoch [19/100] Loss: 0.3384\n",
      "Epoch [19/100] Loss: 0.4259\n",
      "Epoch [19/100] Loss: 0.4968\n",
      "Epoch [19/100] Loss: 0.5527\n",
      "Epoch [19/100] Loss: 0.4558\n",
      "Epoch [19/100] Loss: 0.4992\n",
      "Epoch [19/100] Loss: 0.3214\n",
      "Epoch [19/100] Loss: 0.3016\n",
      "Epoch [19/100] Loss: 0.4862\n",
      "Epoch [19/100] Loss: 0.2671\n",
      "Epoch [19/100] Loss: 0.3001\n",
      "Epoch [19/100] Loss: 0.4502\n",
      "Epoch [19/100] Loss: 0.3297\n",
      "Epoch [19/100] Loss: 0.3581\n",
      "Epoch [19/100] Loss: 0.2349\n",
      "Epoch [19/100] Loss: 0.3489\n",
      "Epoch [19/100] Loss: 0.2616\n",
      "Epoch [19/100] Loss: 0.2963\n",
      "Epoch [19/100] Loss: 0.3397\n",
      "Epoch [19/100] Loss: 0.2382\n",
      "Epoch [19/100] Loss: 0.4732\n",
      "Epoch [19/100] Loss: 0.3572\n",
      "Epoch [19/100] Loss: 0.2993\n",
      "Epoch [19/100] Loss: 0.2706\n",
      "Epoch [19/100] Loss: 0.2529\n",
      "Epoch [19/100] Loss: 0.3853\n",
      "Epoch [19/100] Loss: 0.5217\n",
      "Epoch [19/100] Loss: 0.2521\n",
      "Epoch [19/100] Loss: 0.5121\n",
      "Epoch [19/100] Loss: 0.3596\n",
      "Epoch [19/100] Loss: 0.5042\n",
      "Epoch [19/100] Loss: 0.3355\n",
      "Epoch [19/100] Loss: 0.5249\n",
      "Epoch [19/100] Loss: 0.4349\n"
     ]
    },
    {
     "name": "stderr",
     "output_type": "stream",
     "text": [
      "654it [02:02,  5.34it/s]\n"
     ]
    },
    {
     "name": "stdout",
     "output_type": "stream",
     "text": [
      "Overall Acc: \t 0.580957524011\n",
      "Mean Acc : \t 0.494439422082\n",
      "FreqW Acc : \t 0.417904859024\n",
      "Mean IoU : \t 0.354284862014\n",
      "Epoch [20/100] Loss: 0.5595\n",
      "Epoch [20/100] Loss: 0.6717\n",
      "Epoch [20/100] Loss: 0.2775\n",
      "Epoch [20/100] Loss: 0.4414\n",
      "Epoch [20/100] Loss: 0.3881\n",
      "Epoch [20/100] Loss: 0.4317\n",
      "Epoch [20/100] Loss: 0.2203\n",
      "Epoch [20/100] Loss: 0.2446\n",
      "Epoch [20/100] Loss: 0.4851\n",
      "Epoch [20/100] Loss: 0.3811\n",
      "Epoch [20/100] Loss: 0.5609\n",
      "Epoch [20/100] Loss: 0.2290\n",
      "Epoch [20/100] Loss: 0.3215\n",
      "Epoch [20/100] Loss: 0.2937\n",
      "Epoch [20/100] Loss: 0.2568\n",
      "Epoch [20/100] Loss: 0.4705\n",
      "Epoch [20/100] Loss: 0.4661\n",
      "Epoch [20/100] Loss: 0.3152\n",
      "Epoch [20/100] Loss: 0.2244\n",
      "Epoch [20/100] Loss: 0.4366\n",
      "Epoch [20/100] Loss: 0.5965\n",
      "Epoch [20/100] Loss: 0.5883\n",
      "Epoch [20/100] Loss: 0.5024\n",
      "Epoch [20/100] Loss: 0.3710\n",
      "Epoch [20/100] Loss: 0.5191\n",
      "Epoch [20/100] Loss: 0.3986\n",
      "Epoch [20/100] Loss: 0.3676\n",
      "Epoch [20/100] Loss: 0.3071\n",
      "Epoch [20/100] Loss: 0.5784\n",
      "Epoch [20/100] Loss: 0.6136\n",
      "Epoch [20/100] Loss: 0.2045\n",
      "Epoch [20/100] Loss: 0.4510\n",
      "Epoch [20/100] Loss: 0.2607\n",
      "Epoch [20/100] Loss: 0.2728\n",
      "Epoch [20/100] Loss: 0.2351\n",
      "Epoch [20/100] Loss: 0.3483\n",
      "Epoch [20/100] Loss: 0.3797\n",
      "Epoch [20/100] Loss: 0.3261\n",
      "Epoch [20/100] Loss: 0.3714\n"
     ]
    },
    {
     "name": "stderr",
     "output_type": "stream",
     "text": [
      "654it [02:05,  5.22it/s]"
     ]
    },
    {
     "name": "stdout",
     "output_type": "stream",
     "text": [
      "Overall Acc: \t 0.574351053811\n",
      "Mean Acc : \t 0.480256542749\n",
      "FreqW Acc : \t 0.416252166257\n",
      "Mean IoU : \t 0.345600127873\n"
     ]
    },
    {
     "name": "stderr",
     "output_type": "stream",
     "text": [
      "\n"
     ]
    },
    {
     "name": "stdout",
     "output_type": "stream",
     "text": [
      "Epoch [21/100] Loss: 0.1510\n",
      "Epoch [21/100] Loss: 0.3499\n",
      "Epoch [21/100] Loss: 0.3000\n",
      "Epoch [21/100] Loss: 0.3288\n",
      "Epoch [21/100] Loss: 0.3127\n",
      "Epoch [21/100] Loss: 0.4513\n",
      "Epoch [21/100] Loss: 0.8066\n",
      "Epoch [21/100] Loss: 0.3644\n",
      "Epoch [21/100] Loss: 0.3421\n",
      "Epoch [21/100] Loss: 0.4190\n",
      "Epoch [21/100] Loss: 0.3946\n",
      "Epoch [21/100] Loss: 0.3230\n",
      "Epoch [21/100] Loss: 0.4186\n",
      "Epoch [21/100] Loss: 0.2957\n",
      "Epoch [21/100] Loss: 0.4432\n",
      "Epoch [21/100] Loss: 0.4144\n",
      "Epoch [21/100] Loss: 0.3695\n",
      "Epoch [21/100] Loss: 0.4127\n",
      "Epoch [21/100] Loss: 0.2155\n",
      "Epoch [21/100] Loss: 0.3091\n",
      "Epoch [21/100] Loss: 0.2054\n",
      "Epoch [21/100] Loss: 0.2616\n",
      "Epoch [21/100] Loss: 0.2595\n",
      "Epoch [21/100] Loss: 0.5754\n",
      "Epoch [21/100] Loss: 0.4395\n",
      "Epoch [21/100] Loss: 0.2179\n",
      "Epoch [21/100] Loss: 0.2363\n",
      "Epoch [21/100] Loss: 0.3203\n",
      "Epoch [21/100] Loss: 0.5782\n",
      "Epoch [21/100] Loss: 0.4150\n",
      "Epoch [21/100] Loss: 0.4403\n",
      "Epoch [21/100] Loss: 0.2081\n",
      "Epoch [21/100] Loss: 0.3451\n",
      "Epoch [21/100] Loss: 0.6200\n",
      "Epoch [21/100] Loss: 0.2878\n",
      "Epoch [21/100] Loss: 0.3496\n",
      "Epoch [21/100] Loss: 0.2323\n",
      "Epoch [21/100] Loss: 0.4248\n",
      "Epoch [21/100] Loss: 0.3223\n"
     ]
    },
    {
     "name": "stderr",
     "output_type": "stream",
     "text": [
      "654it [02:04,  5.24it/s]"
     ]
    },
    {
     "name": "stdout",
     "output_type": "stream",
     "text": [
      "Overall Acc: \t 0.571236874642\n",
      "Mean Acc : \t 0.463711677655\n",
      "FreqW Acc : \t 0.413247077534\n",
      "Mean IoU : \t 0.34497869638\n"
     ]
    },
    {
     "name": "stderr",
     "output_type": "stream",
     "text": [
      "\n"
     ]
    },
    {
     "name": "stdout",
     "output_type": "stream",
     "text": [
      "Epoch [22/100] Loss: 0.4880\n",
      "Epoch [22/100] Loss: 0.2833\n",
      "Epoch [22/100] Loss: 0.2968\n",
      "Epoch [22/100] Loss: 0.3742\n",
      "Epoch [22/100] Loss: 0.2471\n",
      "Epoch [22/100] Loss: 0.2752\n",
      "Epoch [22/100] Loss: 0.2838\n",
      "Epoch [22/100] Loss: 0.4282\n",
      "Epoch [22/100] Loss: 0.3909\n",
      "Epoch [22/100] Loss: 0.3970\n",
      "Epoch [22/100] Loss: 0.3116\n",
      "Epoch [22/100] Loss: 0.2791\n",
      "Epoch [22/100] Loss: 0.4215\n",
      "Epoch [22/100] Loss: 0.5065\n",
      "Epoch [22/100] Loss: 0.3240\n",
      "Epoch [22/100] Loss: 0.4681\n",
      "Epoch [22/100] Loss: 0.3946\n",
      "Epoch [22/100] Loss: 0.2995\n",
      "Epoch [22/100] Loss: 0.2205\n",
      "Epoch [22/100] Loss: 0.4181\n",
      "Epoch [22/100] Loss: 0.3740\n",
      "Epoch [22/100] Loss: 0.3208\n",
      "Epoch [22/100] Loss: 0.4857\n",
      "Epoch [22/100] Loss: 0.3429\n",
      "Epoch [22/100] Loss: 0.5979\n",
      "Epoch [22/100] Loss: 0.2958\n",
      "Epoch [22/100] Loss: 0.2686\n",
      "Epoch [22/100] Loss: 0.3987\n",
      "Epoch [22/100] Loss: 0.5229\n",
      "Epoch [22/100] Loss: 0.4204\n",
      "Epoch [22/100] Loss: 0.2553\n",
      "Epoch [22/100] Loss: 0.4025\n",
      "Epoch [22/100] Loss: 0.3561\n",
      "Epoch [22/100] Loss: 0.5420\n",
      "Epoch [22/100] Loss: 0.5349\n",
      "Epoch [22/100] Loss: 0.3165\n",
      "Epoch [22/100] Loss: 0.3289\n",
      "Epoch [22/100] Loss: 0.2487\n",
      "Epoch [22/100] Loss: 0.3873\n"
     ]
    },
    {
     "name": "stderr",
     "output_type": "stream",
     "text": [
      "654it [02:05,  5.22it/s]"
     ]
    },
    {
     "name": "stdout",
     "output_type": "stream",
     "text": [
      "Overall Acc: \t 0.576571548882\n",
      "Mean Acc : \t 0.476847422975\n",
      "FreqW Acc : \t 0.418805307585\n",
      "Mean IoU : \t 0.342248601788\n"
     ]
    },
    {
     "name": "stderr",
     "output_type": "stream",
     "text": [
      "\n"
     ]
    },
    {
     "name": "stdout",
     "output_type": "stream",
     "text": [
      "Epoch [23/100] Loss: 0.4154\n",
      "Epoch [23/100] Loss: 0.4283\n",
      "Epoch [23/100] Loss: 0.4868\n",
      "Epoch [23/100] Loss: 0.4376\n",
      "Epoch [23/100] Loss: 0.3057\n",
      "Epoch [23/100] Loss: 0.3990\n",
      "Epoch [23/100] Loss: 0.3968\n",
      "Epoch [23/100] Loss: 0.2786\n",
      "Epoch [23/100] Loss: 0.2656\n",
      "Epoch [23/100] Loss: 0.5727\n",
      "Epoch [23/100] Loss: 0.2061\n",
      "Epoch [23/100] Loss: 0.3167\n",
      "Epoch [23/100] Loss: 0.3130\n",
      "Epoch [23/100] Loss: 0.3965\n",
      "Epoch [23/100] Loss: 0.2271\n",
      "Epoch [23/100] Loss: 0.4277\n",
      "Epoch [23/100] Loss: 0.4311\n",
      "Epoch [23/100] Loss: 0.4138\n",
      "Epoch [23/100] Loss: 0.2274\n",
      "Epoch [23/100] Loss: 0.5752\n",
      "Epoch [23/100] Loss: 0.3188\n",
      "Epoch [23/100] Loss: 0.1418\n",
      "Epoch [23/100] Loss: 0.2646\n",
      "Epoch [23/100] Loss: 0.4686\n",
      "Epoch [23/100] Loss: 0.1599\n",
      "Epoch [23/100] Loss: 0.2915\n",
      "Epoch [23/100] Loss: 0.3593\n",
      "Epoch [23/100] Loss: 0.3933\n",
      "Epoch [23/100] Loss: 0.3845\n",
      "Epoch [23/100] Loss: 0.2837\n",
      "Epoch [23/100] Loss: 0.5019\n",
      "Epoch [23/100] Loss: 0.1783\n",
      "Epoch [23/100] Loss: 0.3436\n",
      "Epoch [23/100] Loss: 0.6672\n",
      "Epoch [23/100] Loss: 0.2015\n",
      "Epoch [23/100] Loss: 0.2913\n",
      "Epoch [23/100] Loss: 0.3485\n",
      "Epoch [23/100] Loss: 0.4542\n",
      "Epoch [23/100] Loss: 0.2078\n"
     ]
    },
    {
     "name": "stderr",
     "output_type": "stream",
     "text": [
      "654it [02:00,  5.42it/s]"
     ]
    },
    {
     "name": "stdout",
     "output_type": "stream",
     "text": [
      "Overall Acc: \t 0.57909275751\n",
      "Mean Acc : \t 0.482718981821\n",
      "FreqW Acc : \t 0.417293344413\n",
      "Mean IoU : \t 0.348517241678\n"
     ]
    },
    {
     "name": "stderr",
     "output_type": "stream",
     "text": [
      "\n"
     ]
    },
    {
     "name": "stdout",
     "output_type": "stream",
     "text": [
      "Epoch [24/100] Loss: 0.3559\n",
      "Epoch [24/100] Loss: 0.2626\n",
      "Epoch [24/100] Loss: 0.3695\n",
      "Epoch [24/100] Loss: 0.5797\n",
      "Epoch [24/100] Loss: 0.4819\n",
      "Epoch [24/100] Loss: 0.4447\n",
      "Epoch [24/100] Loss: 0.4187\n",
      "Epoch [24/100] Loss: 0.3629\n",
      "Epoch [24/100] Loss: 0.1453\n",
      "Epoch [24/100] Loss: 0.3215\n",
      "Epoch [24/100] Loss: 0.4057\n",
      "Epoch [24/100] Loss: 0.2069\n",
      "Epoch [24/100] Loss: 0.4767\n",
      "Epoch [24/100] Loss: 0.2681\n",
      "Epoch [24/100] Loss: 0.4216\n",
      "Epoch [24/100] Loss: 0.2837\n",
      "Epoch [24/100] Loss: 0.5673\n",
      "Epoch [24/100] Loss: 0.2135\n",
      "Epoch [24/100] Loss: 0.4075\n",
      "Epoch [24/100] Loss: 0.1895\n",
      "Epoch [24/100] Loss: 0.2000\n",
      "Epoch [24/100] Loss: 0.2414\n",
      "Epoch [24/100] Loss: 0.2726\n",
      "Epoch [24/100] Loss: 0.1829\n",
      "Epoch [24/100] Loss: 0.3587\n",
      "Epoch [24/100] Loss: 0.3433\n",
      "Epoch [24/100] Loss: 0.4471\n",
      "Epoch [24/100] Loss: 0.2054\n",
      "Epoch [24/100] Loss: 0.3709\n",
      "Epoch [24/100] Loss: 0.2312\n",
      "Epoch [24/100] Loss: 0.2172\n",
      "Epoch [24/100] Loss: 0.3186\n",
      "Epoch [24/100] Loss: 0.4422\n",
      "Epoch [24/100] Loss: 0.3352\n",
      "Epoch [24/100] Loss: 0.3390\n",
      "Epoch [24/100] Loss: 0.2905\n",
      "Epoch [24/100] Loss: 0.3625\n",
      "Epoch [24/100] Loss: 0.2001\n",
      "Epoch [24/100] Loss: 0.3518\n"
     ]
    },
    {
     "name": "stderr",
     "output_type": "stream",
     "text": [
      "654it [02:02,  5.34it/s]"
     ]
    },
    {
     "name": "stdout",
     "output_type": "stream",
     "text": [
      "Overall Acc: \t 0.579644873694\n",
      "Mean Acc : \t 0.473952944646\n",
      "FreqW Acc : \t 0.417619015441\n",
      "Mean IoU : \t 0.346783277553\n"
     ]
    },
    {
     "name": "stderr",
     "output_type": "stream",
     "text": [
      "\n"
     ]
    },
    {
     "name": "stdout",
     "output_type": "stream",
     "text": [
      "Epoch [25/100] Loss: 0.2478\n",
      "Epoch [25/100] Loss: 0.3617\n",
      "Epoch [25/100] Loss: 0.2800\n",
      "Epoch [25/100] Loss: 0.2655\n",
      "Epoch [25/100] Loss: 0.2805\n",
      "Epoch [25/100] Loss: 0.3726\n",
      "Epoch [25/100] Loss: 0.3539\n",
      "Epoch [25/100] Loss: 0.4008\n",
      "Epoch [25/100] Loss: 0.3283\n",
      "Epoch [25/100] Loss: 0.3212\n",
      "Epoch [25/100] Loss: 0.3709\n",
      "Epoch [25/100] Loss: 0.2188\n",
      "Epoch [25/100] Loss: 0.4467\n",
      "Epoch [25/100] Loss: 0.5719\n",
      "Epoch [25/100] Loss: 0.5325\n",
      "Epoch [25/100] Loss: 0.3459\n",
      "Epoch [25/100] Loss: 0.3334\n",
      "Epoch [25/100] Loss: 0.2039\n",
      "Epoch [25/100] Loss: 0.2989\n",
      "Epoch [25/100] Loss: 0.2568\n",
      "Epoch [25/100] Loss: 0.4435\n",
      "Epoch [25/100] Loss: 0.2649\n",
      "Epoch [25/100] Loss: 0.2316\n",
      "Epoch [25/100] Loss: 0.5107\n",
      "Epoch [25/100] Loss: 0.3355\n",
      "Epoch [25/100] Loss: 0.3922\n",
      "Epoch [25/100] Loss: 0.3108\n",
      "Epoch [25/100] Loss: 0.2994\n",
      "Epoch [25/100] Loss: 0.3736\n",
      "Epoch [25/100] Loss: 0.2500\n",
      "Epoch [25/100] Loss: 0.3530\n",
      "Epoch [25/100] Loss: 0.5313\n",
      "Epoch [25/100] Loss: 0.2281\n",
      "Epoch [25/100] Loss: 0.3960\n",
      "Epoch [25/100] Loss: 0.4743\n",
      "Epoch [25/100] Loss: 0.4224\n",
      "Epoch [25/100] Loss: 0.5602\n",
      "Epoch [25/100] Loss: 0.2220\n",
      "Epoch [25/100] Loss: 0.3658\n"
     ]
    },
    {
     "name": "stderr",
     "output_type": "stream",
     "text": [
      "654it [02:04,  5.25it/s]"
     ]
    },
    {
     "name": "stdout",
     "output_type": "stream",
     "text": [
      "Overall Acc: \t 0.584070493677\n",
      "Mean Acc : \t 0.473279302118\n",
      "FreqW Acc : \t 0.418759671968\n",
      "Mean IoU : \t 0.345950899787\n"
     ]
    },
    {
     "name": "stderr",
     "output_type": "stream",
     "text": [
      "\n"
     ]
    },
    {
     "name": "stdout",
     "output_type": "stream",
     "text": [
      "Epoch [26/100] Loss: 0.2963\n",
      "Epoch [26/100] Loss: 0.2762\n",
      "Epoch [26/100] Loss: 0.3869\n",
      "Epoch [26/100] Loss: 0.4040\n",
      "Epoch [26/100] Loss: 0.3566\n",
      "Epoch [26/100] Loss: 0.3624\n",
      "Epoch [26/100] Loss: 0.4358\n",
      "Epoch [26/100] Loss: 0.3023\n",
      "Epoch [26/100] Loss: 0.3571\n",
      "Epoch [26/100] Loss: 0.2840\n",
      "Epoch [26/100] Loss: 0.2881\n",
      "Epoch [26/100] Loss: 0.1788\n",
      "Epoch [26/100] Loss: 0.5122\n",
      "Epoch [26/100] Loss: 0.3783\n",
      "Epoch [26/100] Loss: 0.3688\n",
      "Epoch [26/100] Loss: 0.3990\n",
      "Epoch [26/100] Loss: 0.3251\n",
      "Epoch [26/100] Loss: 0.3001\n",
      "Epoch [26/100] Loss: 0.5287\n",
      "Epoch [26/100] Loss: 0.2330\n",
      "Epoch [26/100] Loss: 0.3846\n",
      "Epoch [26/100] Loss: 0.3859\n",
      "Epoch [26/100] Loss: 0.3813\n",
      "Epoch [26/100] Loss: 0.2396\n",
      "Epoch [26/100] Loss: 0.2449\n",
      "Epoch [26/100] Loss: 0.2338\n",
      "Epoch [26/100] Loss: 0.3209\n",
      "Epoch [26/100] Loss: 0.2898\n",
      "Epoch [26/100] Loss: 0.1943\n",
      "Epoch [26/100] Loss: 0.3427\n",
      "Epoch [26/100] Loss: 0.3643\n",
      "Epoch [26/100] Loss: 0.3604\n",
      "Epoch [26/100] Loss: 0.3517\n",
      "Epoch [26/100] Loss: 0.4217\n",
      "Epoch [26/100] Loss: 0.3954\n",
      "Epoch [26/100] Loss: 0.4339\n",
      "Epoch [26/100] Loss: 0.2420\n",
      "Epoch [26/100] Loss: 0.2516\n",
      "Epoch [26/100] Loss: 0.1255\n"
     ]
    },
    {
     "name": "stderr",
     "output_type": "stream",
     "text": [
      "654it [02:05,  5.21it/s]\n"
     ]
    },
    {
     "name": "stdout",
     "output_type": "stream",
     "text": [
      "Overall Acc: \t 0.583204349436\n",
      "Mean Acc : \t 0.505303903641\n",
      "FreqW Acc : \t 0.423161891975\n",
      "Mean IoU : \t 0.356662202044\n",
      "Epoch [27/100] Loss: 0.5390\n",
      "Epoch [27/100] Loss: 0.3513\n",
      "Epoch [27/100] Loss: 0.4231\n",
      "Epoch [27/100] Loss: 0.3142\n",
      "Epoch [27/100] Loss: 0.3464\n",
      "Epoch [27/100] Loss: 0.4073\n",
      "Epoch [27/100] Loss: 0.1909\n",
      "Epoch [27/100] Loss: 0.3394\n",
      "Epoch [27/100] Loss: 0.2980\n",
      "Epoch [27/100] Loss: 0.3870\n",
      "Epoch [27/100] Loss: 0.2578\n",
      "Epoch [27/100] Loss: 0.4631\n",
      "Epoch [27/100] Loss: 0.3140\n",
      "Epoch [27/100] Loss: 0.1995\n",
      "Epoch [27/100] Loss: 0.2409\n",
      "Epoch [27/100] Loss: 0.4213\n",
      "Epoch [27/100] Loss: 0.3430\n",
      "Epoch [27/100] Loss: 0.2504\n",
      "Epoch [27/100] Loss: 0.3364\n",
      "Epoch [27/100] Loss: 0.2462\n",
      "Epoch [27/100] Loss: 0.2528\n",
      "Epoch [27/100] Loss: 0.2668\n",
      "Epoch [27/100] Loss: 0.4280\n",
      "Epoch [27/100] Loss: 0.3703\n",
      "Epoch [27/100] Loss: 0.3073\n",
      "Epoch [27/100] Loss: 0.3209\n",
      "Epoch [27/100] Loss: 0.3933\n",
      "Epoch [27/100] Loss: 0.2600\n",
      "Epoch [27/100] Loss: 0.4074\n",
      "Epoch [27/100] Loss: 0.3592\n",
      "Epoch [27/100] Loss: 0.2456\n",
      "Epoch [27/100] Loss: 0.3231\n",
      "Epoch [27/100] Loss: 0.4245\n",
      "Epoch [27/100] Loss: 0.4731\n",
      "Epoch [27/100] Loss: 0.3093\n",
      "Epoch [27/100] Loss: 0.2641\n",
      "Epoch [27/100] Loss: 0.4902\n",
      "Epoch [27/100] Loss: 0.2446\n",
      "Epoch [27/100] Loss: 0.4099\n"
     ]
    },
    {
     "name": "stderr",
     "output_type": "stream",
     "text": [
      "654it [02:05,  5.23it/s]"
     ]
    },
    {
     "name": "stdout",
     "output_type": "stream",
     "text": [
      "Overall Acc: \t 0.577543771104\n",
      "Mean Acc : \t 0.465034599538\n",
      "FreqW Acc : \t 0.415846929741\n",
      "Mean IoU : \t 0.335785536995\n"
     ]
    },
    {
     "name": "stderr",
     "output_type": "stream",
     "text": [
      "\n"
     ]
    },
    {
     "name": "stdout",
     "output_type": "stream",
     "text": [
      "Epoch [28/100] Loss: 0.1875\n",
      "Epoch [28/100] Loss: 0.2388\n",
      "Epoch [28/100] Loss: 0.4302\n",
      "Epoch [28/100] Loss: 0.2335\n",
      "Epoch [28/100] Loss: 0.2959\n",
      "Epoch [28/100] Loss: 0.4505\n",
      "Epoch [28/100] Loss: 0.2955\n",
      "Epoch [28/100] Loss: 0.3259\n",
      "Epoch [28/100] Loss: 0.3764\n",
      "Epoch [28/100] Loss: 0.4084\n",
      "Epoch [28/100] Loss: 0.5380\n",
      "Epoch [28/100] Loss: 0.2770\n",
      "Epoch [28/100] Loss: 0.2530\n",
      "Epoch [28/100] Loss: 0.4267\n",
      "Epoch [28/100] Loss: 0.5867\n",
      "Epoch [28/100] Loss: 0.2437\n",
      "Epoch [28/100] Loss: 0.3664\n",
      "Epoch [28/100] Loss: 0.2627\n",
      "Epoch [28/100] Loss: 0.1934\n",
      "Epoch [28/100] Loss: 0.4887\n",
      "Epoch [28/100] Loss: 0.2569\n",
      "Epoch [28/100] Loss: 0.3449\n",
      "Epoch [28/100] Loss: 0.3611\n",
      "Epoch [28/100] Loss: 0.3258\n",
      "Epoch [28/100] Loss: 0.2963\n",
      "Epoch [28/100] Loss: 0.2025\n",
      "Epoch [28/100] Loss: 0.2196\n",
      "Epoch [28/100] Loss: 0.2255\n",
      "Epoch [28/100] Loss: 0.2713\n",
      "Epoch [28/100] Loss: 0.3833\n",
      "Epoch [28/100] Loss: 0.3499\n",
      "Epoch [28/100] Loss: 0.4329\n",
      "Epoch [28/100] Loss: 0.2559\n",
      "Epoch [28/100] Loss: 0.3315\n",
      "Epoch [28/100] Loss: 0.4087\n",
      "Epoch [28/100] Loss: 0.4855\n",
      "Epoch [28/100] Loss: 0.4081\n",
      "Epoch [28/100] Loss: 0.3342\n",
      "Epoch [28/100] Loss: 0.3501\n"
     ]
    },
    {
     "name": "stderr",
     "output_type": "stream",
     "text": [
      "654it [02:04,  5.24it/s]"
     ]
    },
    {
     "name": "stdout",
     "output_type": "stream",
     "text": [
      "Overall Acc: \t 0.569540542774\n",
      "Mean Acc : \t 0.466170649181\n",
      "FreqW Acc : \t 0.412976222158\n",
      "Mean IoU : \t 0.343384526841\n"
     ]
    },
    {
     "name": "stderr",
     "output_type": "stream",
     "text": [
      "\n"
     ]
    },
    {
     "name": "stdout",
     "output_type": "stream",
     "text": [
      "Epoch [29/100] Loss: 0.2387\n",
      "Epoch [29/100] Loss: 0.5377\n",
      "Epoch [29/100] Loss: 0.4089\n",
      "Epoch [29/100] Loss: 0.2914\n",
      "Epoch [29/100] Loss: 0.4115\n",
      "Epoch [29/100] Loss: 0.2598\n",
      "Epoch [29/100] Loss: 0.4182\n",
      "Epoch [29/100] Loss: 0.4116\n",
      "Epoch [29/100] Loss: 0.3214\n",
      "Epoch [29/100] Loss: 0.4136\n",
      "Epoch [29/100] Loss: 0.3639\n",
      "Epoch [29/100] Loss: 0.2691\n",
      "Epoch [29/100] Loss: 0.3216\n",
      "Epoch [29/100] Loss: 0.2750\n",
      "Epoch [29/100] Loss: 0.2493\n",
      "Epoch [29/100] Loss: 0.3274\n",
      "Epoch [29/100] Loss: 0.2261\n",
      "Epoch [29/100] Loss: 0.2538\n",
      "Epoch [29/100] Loss: 0.3967\n",
      "Epoch [29/100] Loss: 0.4642\n",
      "Epoch [29/100] Loss: 0.5227\n",
      "Epoch [29/100] Loss: 0.2726\n",
      "Epoch [29/100] Loss: 0.3413\n",
      "Epoch [29/100] Loss: 0.3702\n",
      "Epoch [29/100] Loss: 0.3544\n",
      "Epoch [29/100] Loss: 0.3403\n",
      "Epoch [29/100] Loss: 0.2569\n",
      "Epoch [29/100] Loss: 0.1692\n",
      "Epoch [29/100] Loss: 0.1971\n",
      "Epoch [29/100] Loss: 0.5092\n",
      "Epoch [29/100] Loss: 0.3274\n",
      "Epoch [29/100] Loss: 0.3225\n",
      "Epoch [29/100] Loss: 0.1989\n",
      "Epoch [29/100] Loss: 0.3944\n",
      "Epoch [29/100] Loss: 0.4624\n",
      "Epoch [29/100] Loss: 0.3746\n",
      "Epoch [29/100] Loss: 0.4199\n",
      "Epoch [29/100] Loss: 0.2338\n",
      "Epoch [29/100] Loss: 0.3018\n"
     ]
    },
    {
     "name": "stderr",
     "output_type": "stream",
     "text": [
      "654it [02:05,  5.22it/s]"
     ]
    },
    {
     "name": "stdout",
     "output_type": "stream",
     "text": [
      "Overall Acc: \t 0.567973259509\n",
      "Mean Acc : \t 0.480651753133\n",
      "FreqW Acc : \t 0.41169905466\n",
      "Mean IoU : \t 0.337352688858\n"
     ]
    },
    {
     "name": "stderr",
     "output_type": "stream",
     "text": [
      "\n"
     ]
    },
    {
     "name": "stdout",
     "output_type": "stream",
     "text": [
      "Epoch [30/100] Loss: 0.2771\n",
      "Epoch [30/100] Loss: 0.2535\n",
      "Epoch [30/100] Loss: 0.2860\n",
      "Epoch [30/100] Loss: 0.3861\n",
      "Epoch [30/100] Loss: 0.3076\n",
      "Epoch [30/100] Loss: 0.3587\n",
      "Epoch [30/100] Loss: 0.3765\n",
      "Epoch [30/100] Loss: 0.5401\n",
      "Epoch [30/100] Loss: 0.2636\n",
      "Epoch [30/100] Loss: 0.3222\n",
      "Epoch [30/100] Loss: 0.4146\n",
      "Epoch [30/100] Loss: 0.4622\n",
      "Epoch [30/100] Loss: 0.4619\n",
      "Epoch [30/100] Loss: 0.2318\n",
      "Epoch [30/100] Loss: 0.2433\n",
      "Epoch [30/100] Loss: 0.2441\n",
      "Epoch [30/100] Loss: 0.3481\n",
      "Epoch [30/100] Loss: 0.2555\n",
      "Epoch [30/100] Loss: 0.4762\n",
      "Epoch [30/100] Loss: 0.4053\n",
      "Epoch [30/100] Loss: 0.2343\n",
      "Epoch [30/100] Loss: 0.4305\n",
      "Epoch [30/100] Loss: 0.3796\n",
      "Epoch [30/100] Loss: 0.3867\n",
      "Epoch [30/100] Loss: 0.2580\n",
      "Epoch [30/100] Loss: 0.2902\n",
      "Epoch [30/100] Loss: 0.2565\n",
      "Epoch [30/100] Loss: 0.3947\n",
      "Epoch [30/100] Loss: 0.2951\n",
      "Epoch [30/100] Loss: 0.2012\n",
      "Epoch [30/100] Loss: 0.4405\n",
      "Epoch [30/100] Loss: 0.2903\n",
      "Epoch [30/100] Loss: 0.3828\n",
      "Epoch [30/100] Loss: 0.2859\n",
      "Epoch [30/100] Loss: 0.6371\n",
      "Epoch [30/100] Loss: 0.3618\n",
      "Epoch [30/100] Loss: 0.3747\n",
      "Epoch [30/100] Loss: 0.3474\n",
      "Epoch [30/100] Loss: 0.4615\n"
     ]
    },
    {
     "name": "stderr",
     "output_type": "stream",
     "text": [
      "654it [02:00,  5.41it/s]\n"
     ]
    },
    {
     "name": "stdout",
     "output_type": "stream",
     "text": [
      "Overall Acc: \t 0.584938723441\n",
      "Mean Acc : \t 0.488177779171\n",
      "FreqW Acc : \t 0.425301135895\n",
      "Mean IoU : \t 0.357124600446\n",
      "Epoch [31/100] Loss: 0.4363\n",
      "Epoch [31/100] Loss: 0.2613\n",
      "Epoch [31/100] Loss: 0.6282\n",
      "Epoch [31/100] Loss: 0.2422\n",
      "Epoch [31/100] Loss: 0.2141\n",
      "Epoch [31/100] Loss: 0.2954\n",
      "Epoch [31/100] Loss: 0.3247\n",
      "Epoch [31/100] Loss: 0.3411\n",
      "Epoch [31/100] Loss: 0.3667\n",
      "Epoch [31/100] Loss: 0.2817\n",
      "Epoch [31/100] Loss: 0.3514\n",
      "Epoch [31/100] Loss: 0.4206\n",
      "Epoch [31/100] Loss: 0.2851\n",
      "Epoch [31/100] Loss: 0.3069\n",
      "Epoch [31/100] Loss: 0.4170\n",
      "Epoch [31/100] Loss: 0.2600\n",
      "Epoch [31/100] Loss: 0.2199\n",
      "Epoch [31/100] Loss: 0.4580\n",
      "Epoch [31/100] Loss: 0.4150\n",
      "Epoch [31/100] Loss: 0.1649\n",
      "Epoch [31/100] Loss: 0.4968\n",
      "Epoch [31/100] Loss: 0.3517\n",
      "Epoch [31/100] Loss: 0.2154\n",
      "Epoch [31/100] Loss: 0.3563\n",
      "Epoch [31/100] Loss: 0.2455\n",
      "Epoch [31/100] Loss: 0.2247\n",
      "Epoch [31/100] Loss: 0.3006\n",
      "Epoch [31/100] Loss: 0.3952\n",
      "Epoch [31/100] Loss: 0.3182\n",
      "Epoch [31/100] Loss: 0.4802\n",
      "Epoch [31/100] Loss: 0.5238\n",
      "Epoch [31/100] Loss: 0.2643\n",
      "Epoch [31/100] Loss: 0.3351\n",
      "Epoch [31/100] Loss: 0.3549\n",
      "Epoch [31/100] Loss: 0.4984\n",
      "Epoch [31/100] Loss: 0.4802\n",
      "Epoch [31/100] Loss: 0.2262\n",
      "Epoch [31/100] Loss: 0.4892\n",
      "Epoch [31/100] Loss: 0.2875\n"
     ]
    },
    {
     "name": "stderr",
     "output_type": "stream",
     "text": [
      "654it [02:01,  5.37it/s]"
     ]
    },
    {
     "name": "stdout",
     "output_type": "stream",
     "text": [
      "Overall Acc: \t 0.588697403996\n",
      "Mean Acc : \t 0.494183720303\n",
      "FreqW Acc : \t 0.425119253073\n",
      "Mean IoU : \t 0.344868962423\n"
     ]
    },
    {
     "name": "stderr",
     "output_type": "stream",
     "text": [
      "\n"
     ]
    },
    {
     "name": "stdout",
     "output_type": "stream",
     "text": [
      "Epoch [32/100] Loss: 0.3190\n",
      "Epoch [32/100] Loss: 0.3989\n",
      "Epoch [32/100] Loss: 0.3773\n",
      "Epoch [32/100] Loss: 0.3250\n",
      "Epoch [32/100] Loss: 0.5773\n",
      "Epoch [32/100] Loss: 0.4814\n",
      "Epoch [32/100] Loss: 0.5039\n",
      "Epoch [32/100] Loss: 0.2013\n",
      "Epoch [32/100] Loss: 0.3145\n",
      "Epoch [32/100] Loss: 0.4664\n",
      "Epoch [32/100] Loss: 0.1765\n",
      "Epoch [32/100] Loss: 0.1742\n",
      "Epoch [32/100] Loss: 0.3317\n",
      "Epoch [32/100] Loss: 0.3492\n",
      "Epoch [32/100] Loss: 0.3739\n",
      "Epoch [32/100] Loss: 0.2617\n",
      "Epoch [32/100] Loss: 0.2495\n",
      "Epoch [32/100] Loss: 0.3129\n",
      "Epoch [32/100] Loss: 0.4857\n",
      "Epoch [32/100] Loss: 0.2729\n",
      "Epoch [32/100] Loss: 0.2077\n",
      "Epoch [32/100] Loss: 0.5414\n",
      "Epoch [32/100] Loss: 0.1518\n",
      "Epoch [32/100] Loss: 0.2743\n",
      "Epoch [32/100] Loss: 0.2795\n",
      "Epoch [32/100] Loss: 0.2575\n",
      "Epoch [32/100] Loss: 0.3771\n",
      "Epoch [32/100] Loss: 0.2602\n",
      "Epoch [32/100] Loss: 0.3098\n",
      "Epoch [32/100] Loss: 0.3241\n",
      "Epoch [32/100] Loss: 0.4221\n",
      "Epoch [32/100] Loss: 0.2265\n",
      "Epoch [32/100] Loss: 0.3347\n",
      "Epoch [32/100] Loss: 0.4889\n",
      "Epoch [32/100] Loss: 0.3508\n",
      "Epoch [32/100] Loss: 0.4149\n",
      "Epoch [32/100] Loss: 0.3644\n",
      "Epoch [32/100] Loss: 0.2149\n",
      "Epoch [32/100] Loss: 0.2957\n"
     ]
    },
    {
     "name": "stderr",
     "output_type": "stream",
     "text": [
      "654it [01:50,  5.91it/s]"
     ]
    },
    {
     "name": "stdout",
     "output_type": "stream",
     "text": [
      "Overall Acc: \t 0.577568518651\n",
      "Mean Acc : \t 0.468958530466\n",
      "FreqW Acc : \t 0.41869808505\n",
      "Mean IoU : \t 0.339775737269\n"
     ]
    },
    {
     "name": "stderr",
     "output_type": "stream",
     "text": [
      "\n"
     ]
    },
    {
     "name": "stdout",
     "output_type": "stream",
     "text": [
      "Epoch [33/100] Loss: 0.3033\n",
      "Epoch [33/100] Loss: 0.3341\n",
      "Epoch [33/100] Loss: 0.3866\n",
      "Epoch [33/100] Loss: 0.3328\n",
      "Epoch [33/100] Loss: 0.2258\n",
      "Epoch [33/100] Loss: 0.3610\n",
      "Epoch [33/100] Loss: 0.2875\n",
      "Epoch [33/100] Loss: 0.6357\n",
      "Epoch [33/100] Loss: 0.3614\n",
      "Epoch [33/100] Loss: 0.3052\n",
      "Epoch [33/100] Loss: 0.3375\n",
      "Epoch [33/100] Loss: 0.4924\n",
      "Epoch [33/100] Loss: 0.1693\n",
      "Epoch [33/100] Loss: 0.2426\n",
      "Epoch [33/100] Loss: 0.2837\n",
      "Epoch [33/100] Loss: 0.0930\n",
      "Epoch [33/100] Loss: 0.4408\n",
      "Epoch [33/100] Loss: 0.3170\n",
      "Epoch [33/100] Loss: 0.3300\n",
      "Epoch [33/100] Loss: 0.4690\n",
      "Epoch [33/100] Loss: 0.3807\n",
      "Epoch [33/100] Loss: 0.1450\n",
      "Epoch [33/100] Loss: 0.2975\n",
      "Epoch [33/100] Loss: 0.3427\n",
      "Epoch [33/100] Loss: 0.5002\n",
      "Epoch [33/100] Loss: 0.3398\n",
      "Epoch [33/100] Loss: 0.2652\n",
      "Epoch [33/100] Loss: 0.3234\n",
      "Epoch [33/100] Loss: 0.3829\n",
      "Epoch [33/100] Loss: 0.4866\n",
      "Epoch [33/100] Loss: 0.3865\n",
      "Epoch [33/100] Loss: 0.3873\n",
      "Epoch [33/100] Loss: 0.2419\n",
      "Epoch [33/100] Loss: 0.2872\n",
      "Epoch [33/100] Loss: 0.3074\n",
      "Epoch [33/100] Loss: 0.2282\n",
      "Epoch [33/100] Loss: 0.4048\n",
      "Epoch [33/100] Loss: 0.2661\n",
      "Epoch [33/100] Loss: 0.3010\n"
     ]
    },
    {
     "name": "stderr",
     "output_type": "stream",
     "text": [
      "654it [01:48,  6.01it/s]"
     ]
    },
    {
     "name": "stdout",
     "output_type": "stream",
     "text": [
      "Overall Acc: \t 0.578187734932\n",
      "Mean Acc : \t 0.467867447506\n",
      "FreqW Acc : \t 0.418907762104\n",
      "Mean IoU : \t 0.3455200881\n"
     ]
    },
    {
     "name": "stderr",
     "output_type": "stream",
     "text": [
      "\n"
     ]
    },
    {
     "name": "stdout",
     "output_type": "stream",
     "text": [
      "Epoch [34/100] Loss: 0.2666\n",
      "Epoch [34/100] Loss: 0.3505\n",
      "Epoch [34/100] Loss: 0.2785\n",
      "Epoch [34/100] Loss: 0.3529\n",
      "Epoch [34/100] Loss: 0.3050\n",
      "Epoch [34/100] Loss: 0.3125\n",
      "Epoch [34/100] Loss: 0.4198\n",
      "Epoch [34/100] Loss: 0.2986\n",
      "Epoch [34/100] Loss: 0.3418\n",
      "Epoch [34/100] Loss: 0.3037\n",
      "Epoch [34/100] Loss: 0.3925\n",
      "Epoch [34/100] Loss: 0.4242\n",
      "Epoch [34/100] Loss: 0.2868\n",
      "Epoch [34/100] Loss: 0.4024\n",
      "Epoch [34/100] Loss: 0.3181\n",
      "Epoch [34/100] Loss: 0.3088\n",
      "Epoch [34/100] Loss: 0.3028\n",
      "Epoch [34/100] Loss: 0.3963\n",
      "Epoch [34/100] Loss: 0.2726\n",
      "Epoch [34/100] Loss: 0.2700\n",
      "Epoch [34/100] Loss: 0.4322\n",
      "Epoch [34/100] Loss: 0.1703\n",
      "Epoch [34/100] Loss: 0.4412\n",
      "Epoch [34/100] Loss: 0.5136\n",
      "Epoch [34/100] Loss: 0.1924\n",
      "Epoch [34/100] Loss: 0.3065\n",
      "Epoch [34/100] Loss: 0.3091\n",
      "Epoch [34/100] Loss: 0.2012\n",
      "Epoch [34/100] Loss: 0.2015\n",
      "Epoch [34/100] Loss: 0.3967\n",
      "Epoch [34/100] Loss: 0.3587\n",
      "Epoch [34/100] Loss: 0.4637\n",
      "Epoch [34/100] Loss: 0.2660\n",
      "Epoch [34/100] Loss: 0.2868\n",
      "Epoch [34/100] Loss: 0.2809\n",
      "Epoch [34/100] Loss: 0.3936\n",
      "Epoch [34/100] Loss: 0.2430\n",
      "Epoch [34/100] Loss: 0.2359\n",
      "Epoch [34/100] Loss: 0.2238\n"
     ]
    },
    {
     "name": "stderr",
     "output_type": "stream",
     "text": [
      "654it [01:47,  6.08it/s]"
     ]
    },
    {
     "name": "stdout",
     "output_type": "stream",
     "text": [
      "Overall Acc: \t 0.578338280852\n",
      "Mean Acc : \t 0.478315972214\n",
      "FreqW Acc : \t 0.422222879441\n",
      "Mean IoU : \t 0.353904374934\n"
     ]
    },
    {
     "name": "stderr",
     "output_type": "stream",
     "text": [
      "\n"
     ]
    },
    {
     "name": "stdout",
     "output_type": "stream",
     "text": [
      "Epoch [35/100] Loss: 0.2358\n",
      "Epoch [35/100] Loss: 0.3662\n",
      "Epoch [35/100] Loss: 0.3691\n",
      "Epoch [35/100] Loss: 0.5322\n",
      "Epoch [35/100] Loss: 0.1812\n",
      "Epoch [35/100] Loss: 0.2779\n",
      "Epoch [35/100] Loss: 0.2267\n",
      "Epoch [35/100] Loss: 0.3481\n",
      "Epoch [35/100] Loss: 0.2500\n",
      "Epoch [35/100] Loss: 0.2768\n",
      "Epoch [35/100] Loss: 0.2385\n",
      "Epoch [35/100] Loss: 0.1558\n",
      "Epoch [35/100] Loss: 0.2122\n",
      "Epoch [35/100] Loss: 0.2896\n",
      "Epoch [35/100] Loss: 0.4700\n",
      "Epoch [35/100] Loss: 0.3203\n",
      "Epoch [35/100] Loss: 0.3560\n",
      "Epoch [35/100] Loss: 0.3943\n",
      "Epoch [35/100] Loss: 0.3467\n",
      "Epoch [35/100] Loss: 0.2947\n",
      "Epoch [35/100] Loss: 0.3689\n",
      "Epoch [35/100] Loss: 0.1358\n",
      "Epoch [35/100] Loss: 0.2864\n",
      "Epoch [35/100] Loss: 0.3056\n",
      "Epoch [35/100] Loss: 0.3008\n",
      "Epoch [35/100] Loss: 0.3784\n",
      "Epoch [35/100] Loss: 0.3171\n",
      "Epoch [35/100] Loss: 0.1681\n",
      "Epoch [35/100] Loss: 0.1947\n",
      "Epoch [35/100] Loss: 0.2536\n",
      "Epoch [35/100] Loss: 0.3561\n",
      "Epoch [35/100] Loss: 0.3264\n",
      "Epoch [35/100] Loss: 0.4290\n",
      "Epoch [35/100] Loss: 0.2501\n",
      "Epoch [35/100] Loss: 0.4652\n",
      "Epoch [35/100] Loss: 0.2942\n",
      "Epoch [35/100] Loss: 0.2828\n",
      "Epoch [35/100] Loss: 0.2834\n",
      "Epoch [35/100] Loss: 0.2745\n"
     ]
    },
    {
     "name": "stderr",
     "output_type": "stream",
     "text": [
      "654it [01:47,  6.08it/s]"
     ]
    },
    {
     "name": "stdout",
     "output_type": "stream",
     "text": [
      "Overall Acc: \t 0.577828293236\n",
      "Mean Acc : \t 0.471621172248\n",
      "FreqW Acc : \t 0.419858227056\n",
      "Mean IoU : \t 0.346064966819\n"
     ]
    },
    {
     "name": "stderr",
     "output_type": "stream",
     "text": [
      "\n"
     ]
    },
    {
     "name": "stdout",
     "output_type": "stream",
     "text": [
      "Epoch [36/100] Loss: 0.2778\n",
      "Epoch [36/100] Loss: 0.3219\n",
      "Epoch [36/100] Loss: 0.2811\n",
      "Epoch [36/100] Loss: 0.2677\n",
      "Epoch [36/100] Loss: 0.1427\n",
      "Epoch [36/100] Loss: 0.3163\n",
      "Epoch [36/100] Loss: 0.2247\n",
      "Epoch [36/100] Loss: 0.3913\n",
      "Epoch [36/100] Loss: 0.3985\n",
      "Epoch [36/100] Loss: 0.3142\n",
      "Epoch [36/100] Loss: 0.2343\n",
      "Epoch [36/100] Loss: 0.2248\n",
      "Epoch [36/100] Loss: 0.2554\n",
      "Epoch [36/100] Loss: 0.5897\n",
      "Epoch [36/100] Loss: 0.5540\n",
      "Epoch [36/100] Loss: 0.4662\n",
      "Epoch [36/100] Loss: 0.2901\n",
      "Epoch [36/100] Loss: 0.3174\n",
      "Epoch [36/100] Loss: 0.1937\n",
      "Epoch [36/100] Loss: 0.1229\n",
      "Epoch [36/100] Loss: 0.3706\n",
      "Epoch [36/100] Loss: 0.3720\n",
      "Epoch [36/100] Loss: 0.5611\n",
      "Epoch [36/100] Loss: 0.4994\n",
      "Epoch [36/100] Loss: 0.4962\n",
      "Epoch [36/100] Loss: 0.4166\n",
      "Epoch [36/100] Loss: 0.2542\n",
      "Epoch [36/100] Loss: 0.3910\n",
      "Epoch [36/100] Loss: 0.3022\n",
      "Epoch [36/100] Loss: 0.2137\n",
      "Epoch [36/100] Loss: 0.2118\n",
      "Epoch [36/100] Loss: 0.2157\n",
      "Epoch [36/100] Loss: 0.2683\n",
      "Epoch [36/100] Loss: 0.4251\n",
      "Epoch [36/100] Loss: 0.2267\n",
      "Epoch [36/100] Loss: 0.3221\n",
      "Epoch [36/100] Loss: 0.2630\n",
      "Epoch [36/100] Loss: 0.4062\n",
      "Epoch [36/100] Loss: 0.3249\n"
     ]
    },
    {
     "name": "stderr",
     "output_type": "stream",
     "text": [
      "654it [01:47,  6.07it/s]"
     ]
    },
    {
     "name": "stdout",
     "output_type": "stream",
     "text": [
      "Overall Acc: \t 0.586847883219\n",
      "Mean Acc : \t 0.462382959048\n",
      "FreqW Acc : \t 0.421176462641\n",
      "Mean IoU : \t 0.347210198507\n"
     ]
    },
    {
     "name": "stderr",
     "output_type": "stream",
     "text": [
      "\n"
     ]
    },
    {
     "name": "stdout",
     "output_type": "stream",
     "text": [
      "Epoch [37/100] Loss: 0.2412\n",
      "Epoch [37/100] Loss: 0.2734\n",
      "Epoch [37/100] Loss: 0.3278\n",
      "Epoch [37/100] Loss: 0.4284\n",
      "Epoch [37/100] Loss: 0.4324\n",
      "Epoch [37/100] Loss: 0.2254\n",
      "Epoch [37/100] Loss: 0.4214\n",
      "Epoch [37/100] Loss: 0.2973\n",
      "Epoch [37/100] Loss: 0.3217\n",
      "Epoch [37/100] Loss: 0.2507\n",
      "Epoch [37/100] Loss: 0.6312\n",
      "Epoch [37/100] Loss: 0.2936\n",
      "Epoch [37/100] Loss: 0.3100\n",
      "Epoch [37/100] Loss: 0.2728\n",
      "Epoch [37/100] Loss: 0.1393\n",
      "Epoch [37/100] Loss: 0.2957\n",
      "Epoch [37/100] Loss: 0.1673\n",
      "Epoch [37/100] Loss: 0.1970\n",
      "Epoch [37/100] Loss: 0.2078\n",
      "Epoch [37/100] Loss: 0.4460\n",
      "Epoch [37/100] Loss: 0.3323\n",
      "Epoch [37/100] Loss: 0.2300\n",
      "Epoch [37/100] Loss: 0.4236\n",
      "Epoch [37/100] Loss: 0.2912\n",
      "Epoch [37/100] Loss: 0.3159\n",
      "Epoch [37/100] Loss: 0.4141\n",
      "Epoch [37/100] Loss: 0.4639\n",
      "Epoch [37/100] Loss: 0.3814\n",
      "Epoch [37/100] Loss: 0.3364\n",
      "Epoch [37/100] Loss: 0.3252\n",
      "Epoch [37/100] Loss: 0.2747\n",
      "Epoch [37/100] Loss: 0.2973\n",
      "Epoch [37/100] Loss: 0.1404\n",
      "Epoch [37/100] Loss: 0.4958\n",
      "Epoch [37/100] Loss: 0.3500\n",
      "Epoch [37/100] Loss: 0.2975\n",
      "Epoch [37/100] Loss: 0.3242\n",
      "Epoch [37/100] Loss: 0.2386\n",
      "Epoch [37/100] Loss: 0.3821\n"
     ]
    },
    {
     "name": "stderr",
     "output_type": "stream",
     "text": [
      "654it [01:47,  6.08it/s]"
     ]
    },
    {
     "name": "stdout",
     "output_type": "stream",
     "text": [
      "Overall Acc: \t 0.580474429194\n",
      "Mean Acc : \t 0.477614041794\n",
      "FreqW Acc : \t 0.422714005098\n",
      "Mean IoU : \t 0.345797946856\n"
     ]
    },
    {
     "name": "stderr",
     "output_type": "stream",
     "text": [
      "\n"
     ]
    },
    {
     "name": "stdout",
     "output_type": "stream",
     "text": [
      "Epoch [38/100] Loss: 0.3302\n",
      "Epoch [38/100] Loss: 0.3693\n",
      "Epoch [38/100] Loss: 0.4814\n",
      "Epoch [38/100] Loss: 0.4289\n",
      "Epoch [38/100] Loss: 0.5274\n",
      "Epoch [38/100] Loss: 0.2929\n",
      "Epoch [38/100] Loss: 0.3843\n",
      "Epoch [38/100] Loss: 0.1897\n",
      "Epoch [38/100] Loss: 0.3688\n",
      "Epoch [38/100] Loss: 0.4274\n",
      "Epoch [38/100] Loss: 0.2622\n",
      "Epoch [38/100] Loss: 0.1818\n",
      "Epoch [38/100] Loss: 0.2587\n",
      "Epoch [38/100] Loss: 0.2854\n",
      "Epoch [38/100] Loss: 0.6224\n",
      "Epoch [38/100] Loss: 0.3366\n",
      "Epoch [38/100] Loss: 0.3663\n",
      "Epoch [38/100] Loss: 0.1929\n",
      "Epoch [38/100] Loss: 0.4832\n",
      "Epoch [38/100] Loss: 0.3787\n",
      "Epoch [38/100] Loss: 0.2721\n",
      "Epoch [38/100] Loss: 0.3458\n",
      "Epoch [38/100] Loss: 0.3755\n",
      "Epoch [38/100] Loss: 0.2527\n",
      "Epoch [38/100] Loss: 0.3979\n",
      "Epoch [38/100] Loss: 0.2566\n",
      "Epoch [38/100] Loss: 0.1899\n",
      "Epoch [38/100] Loss: 0.3254\n",
      "Epoch [38/100] Loss: 0.3066\n",
      "Epoch [38/100] Loss: 0.3675\n",
      "Epoch [38/100] Loss: 0.1908\n",
      "Epoch [38/100] Loss: 0.3639\n",
      "Epoch [38/100] Loss: 0.3090\n",
      "Epoch [38/100] Loss: 0.2761\n",
      "Epoch [38/100] Loss: 0.2538\n",
      "Epoch [38/100] Loss: 0.3850\n",
      "Epoch [38/100] Loss: 0.4113\n",
      "Epoch [38/100] Loss: 0.3639\n",
      "Epoch [38/100] Loss: 0.2323\n"
     ]
    },
    {
     "name": "stderr",
     "output_type": "stream",
     "text": [
      "654it [01:47,  6.06it/s]"
     ]
    },
    {
     "name": "stdout",
     "output_type": "stream",
     "text": [
      "Overall Acc: \t 0.581183422528\n",
      "Mean Acc : \t 0.484802287448\n",
      "FreqW Acc : \t 0.424355682768\n",
      "Mean IoU : \t 0.353899159947\n"
     ]
    },
    {
     "name": "stderr",
     "output_type": "stream",
     "text": [
      "\n"
     ]
    },
    {
     "name": "stdout",
     "output_type": "stream",
     "text": [
      "Epoch [39/100] Loss: 0.2592\n",
      "Epoch [39/100] Loss: 0.4466\n",
      "Epoch [39/100] Loss: 0.4943\n",
      "Epoch [39/100] Loss: 0.2604\n",
      "Epoch [39/100] Loss: 0.2752\n",
      "Epoch [39/100] Loss: 0.4200\n",
      "Epoch [39/100] Loss: 0.2236\n",
      "Epoch [39/100] Loss: 0.3388\n",
      "Epoch [39/100] Loss: 0.3248\n",
      "Epoch [39/100] Loss: 0.4113\n",
      "Epoch [39/100] Loss: 0.5349\n",
      "Epoch [39/100] Loss: 0.3624\n",
      "Epoch [39/100] Loss: 0.1507\n",
      "Epoch [39/100] Loss: 0.1870\n",
      "Epoch [39/100] Loss: 0.4536\n",
      "Epoch [39/100] Loss: 0.4540\n",
      "Epoch [39/100] Loss: 0.3326\n",
      "Epoch [39/100] Loss: 0.1794\n",
      "Epoch [39/100] Loss: 0.2789\n",
      "Epoch [39/100] Loss: 0.2669\n",
      "Epoch [39/100] Loss: 0.3318\n",
      "Epoch [39/100] Loss: 0.2716\n",
      "Epoch [39/100] Loss: 0.2821\n",
      "Epoch [39/100] Loss: 0.1461\n",
      "Epoch [39/100] Loss: 0.2226\n",
      "Epoch [39/100] Loss: 0.1908\n",
      "Epoch [39/100] Loss: 0.5546\n",
      "Epoch [39/100] Loss: 0.2378\n",
      "Epoch [39/100] Loss: 0.3010\n",
      "Epoch [39/100] Loss: 0.1687\n",
      "Epoch [39/100] Loss: 0.3598\n",
      "Epoch [39/100] Loss: 0.4144\n",
      "Epoch [39/100] Loss: 0.3511\n",
      "Epoch [39/100] Loss: 0.3325\n",
      "Epoch [39/100] Loss: 0.2344\n",
      "Epoch [39/100] Loss: 0.3812\n",
      "Epoch [39/100] Loss: 0.3071\n",
      "Epoch [39/100] Loss: 0.2093\n",
      "Epoch [39/100] Loss: 0.1805\n"
     ]
    },
    {
     "name": "stderr",
     "output_type": "stream",
     "text": [
      "654it [01:48,  6.01it/s]"
     ]
    },
    {
     "name": "stdout",
     "output_type": "stream",
     "text": [
      "Overall Acc: \t 0.584302360076\n",
      "Mean Acc : \t 0.486950616142\n",
      "FreqW Acc : \t 0.419853101442\n",
      "Mean IoU : \t 0.345918979435\n"
     ]
    },
    {
     "name": "stderr",
     "output_type": "stream",
     "text": [
      "\n"
     ]
    },
    {
     "name": "stdout",
     "output_type": "stream",
     "text": [
      "Epoch [40/100] Loss: 0.3064\n",
      "Epoch [40/100] Loss: 0.1999\n",
      "Epoch [40/100] Loss: 0.2873\n",
      "Epoch [40/100] Loss: 0.2635\n",
      "Epoch [40/100] Loss: 0.3695\n",
      "Epoch [40/100] Loss: 0.1971\n",
      "Epoch [40/100] Loss: 0.2475\n",
      "Epoch [40/100] Loss: 0.2978\n",
      "Epoch [40/100] Loss: 0.2766\n",
      "Epoch [40/100] Loss: 0.3069\n",
      "Epoch [40/100] Loss: 0.1498\n",
      "Epoch [40/100] Loss: 0.2455\n",
      "Epoch [40/100] Loss: 0.2035\n",
      "Epoch [40/100] Loss: 0.2967\n",
      "Epoch [40/100] Loss: 0.5538\n",
      "Epoch [40/100] Loss: 0.1935\n",
      "Epoch [40/100] Loss: 0.4203\n",
      "Epoch [40/100] Loss: 0.4470\n",
      "Epoch [40/100] Loss: 0.3867\n",
      "Epoch [40/100] Loss: 0.3131\n",
      "Epoch [40/100] Loss: 0.3769\n",
      "Epoch [40/100] Loss: 0.2472\n",
      "Epoch [40/100] Loss: 0.4199\n",
      "Epoch [40/100] Loss: 0.2301\n",
      "Epoch [40/100] Loss: 0.1925\n",
      "Epoch [40/100] Loss: 0.5970\n",
      "Epoch [40/100] Loss: 0.4071\n",
      "Epoch [40/100] Loss: 0.4084\n",
      "Epoch [40/100] Loss: 0.3834\n",
      "Epoch [40/100] Loss: 0.3803\n",
      "Epoch [40/100] Loss: 0.3461\n",
      "Epoch [40/100] Loss: 0.1006\n",
      "Epoch [40/100] Loss: 0.3185\n",
      "Epoch [40/100] Loss: 0.3129\n",
      "Epoch [40/100] Loss: 0.2161\n",
      "Epoch [40/100] Loss: 0.4149\n",
      "Epoch [40/100] Loss: 0.1724\n",
      "Epoch [40/100] Loss: 0.3163\n",
      "Epoch [40/100] Loss: 0.3384\n"
     ]
    },
    {
     "name": "stderr",
     "output_type": "stream",
     "text": [
      "654it [01:49,  6.00it/s]"
     ]
    },
    {
     "name": "stdout",
     "output_type": "stream",
     "text": [
      "Overall Acc: \t 0.573941808423\n",
      "Mean Acc : \t 0.493526794041\n",
      "FreqW Acc : \t 0.418469244362\n",
      "Mean IoU : \t 0.351685978214\n"
     ]
    },
    {
     "name": "stderr",
     "output_type": "stream",
     "text": [
      "\n"
     ]
    },
    {
     "name": "stdout",
     "output_type": "stream",
     "text": [
      "Epoch [41/100] Loss: 0.3180\n",
      "Epoch [41/100] Loss: 0.4909\n",
      "Epoch [41/100] Loss: 0.2413\n",
      "Epoch [41/100] Loss: 0.3722\n",
      "Epoch [41/100] Loss: 0.1984\n",
      "Epoch [41/100] Loss: 0.3555\n",
      "Epoch [41/100] Loss: 0.2189\n",
      "Epoch [41/100] Loss: 0.2336\n",
      "Epoch [41/100] Loss: 0.4194\n",
      "Epoch [41/100] Loss: 0.1163\n",
      "Epoch [41/100] Loss: 0.2938\n",
      "Epoch [41/100] Loss: 0.3967\n",
      "Epoch [41/100] Loss: 0.3773\n",
      "Epoch [41/100] Loss: 0.3136\n",
      "Epoch [41/100] Loss: 0.1704\n",
      "Epoch [41/100] Loss: 0.2180\n",
      "Epoch [41/100] Loss: 0.2745\n",
      "Epoch [41/100] Loss: 0.1644\n",
      "Epoch [41/100] Loss: 0.4010\n",
      "Epoch [41/100] Loss: 0.4314\n",
      "Epoch [41/100] Loss: 0.2415\n",
      "Epoch [41/100] Loss: 0.2718\n",
      "Epoch [41/100] Loss: 0.4882\n",
      "Epoch [41/100] Loss: 0.3529\n",
      "Epoch [41/100] Loss: 0.2683\n",
      "Epoch [41/100] Loss: 0.1810\n",
      "Epoch [41/100] Loss: 0.2152\n",
      "Epoch [41/100] Loss: 0.2882\n",
      "Epoch [41/100] Loss: 0.3862\n",
      "Epoch [41/100] Loss: 0.2309\n",
      "Epoch [41/100] Loss: 0.4061\n",
      "Epoch [41/100] Loss: 0.2657\n",
      "Epoch [41/100] Loss: 0.3058\n",
      "Epoch [41/100] Loss: 0.3824\n",
      "Epoch [41/100] Loss: 0.1780\n",
      "Epoch [41/100] Loss: 0.4238\n",
      "Epoch [41/100] Loss: 0.1666\n",
      "Epoch [41/100] Loss: 0.4373\n",
      "Epoch [41/100] Loss: 0.2595\n"
     ]
    },
    {
     "name": "stderr",
     "output_type": "stream",
     "text": [
      "654it [01:48,  6.02it/s]"
     ]
    },
    {
     "name": "stdout",
     "output_type": "stream",
     "text": [
      "Overall Acc: \t 0.571751735116\n",
      "Mean Acc : \t 0.507023634249\n",
      "FreqW Acc : \t 0.417794889027\n",
      "Mean IoU : \t 0.352785680952\n"
     ]
    },
    {
     "name": "stderr",
     "output_type": "stream",
     "text": [
      "\n"
     ]
    },
    {
     "name": "stdout",
     "output_type": "stream",
     "text": [
      "Epoch [42/100] Loss: 0.3267\n",
      "Epoch [42/100] Loss: 0.3621\n",
      "Epoch [42/100] Loss: 0.3123\n",
      "Epoch [42/100] Loss: 0.3781\n",
      "Epoch [42/100] Loss: 0.3717\n",
      "Epoch [42/100] Loss: 0.1418\n",
      "Epoch [42/100] Loss: 0.4590\n",
      "Epoch [42/100] Loss: 0.1179\n",
      "Epoch [42/100] Loss: 0.3526\n",
      "Epoch [42/100] Loss: 0.2250\n",
      "Epoch [42/100] Loss: 0.3526\n",
      "Epoch [42/100] Loss: 0.2708\n",
      "Epoch [42/100] Loss: 0.3156\n",
      "Epoch [42/100] Loss: 0.3224\n",
      "Epoch [42/100] Loss: 0.4048\n",
      "Epoch [42/100] Loss: 0.2440\n",
      "Epoch [42/100] Loss: 0.4510\n",
      "Epoch [42/100] Loss: 0.2968\n",
      "Epoch [42/100] Loss: 0.3506\n",
      "Epoch [42/100] Loss: 0.0878\n",
      "Epoch [42/100] Loss: 0.3520\n",
      "Epoch [42/100] Loss: 0.5463\n",
      "Epoch [42/100] Loss: 0.1175\n",
      "Epoch [42/100] Loss: 0.3043\n",
      "Epoch [42/100] Loss: 0.5352\n",
      "Epoch [42/100] Loss: 0.2430\n",
      "Epoch [42/100] Loss: 0.2086\n",
      "Epoch [42/100] Loss: 0.4961\n",
      "Epoch [42/100] Loss: 0.4272\n",
      "Epoch [42/100] Loss: 0.3828\n",
      "Epoch [42/100] Loss: 0.5324\n",
      "Epoch [42/100] Loss: 0.2789\n",
      "Epoch [42/100] Loss: 0.3009\n",
      "Epoch [42/100] Loss: 0.2420\n",
      "Epoch [42/100] Loss: 0.3932\n",
      "Epoch [42/100] Loss: 0.2852\n",
      "Epoch [42/100] Loss: 0.2910\n",
      "Epoch [42/100] Loss: 0.2908\n",
      "Epoch [42/100] Loss: 0.3991\n"
     ]
    },
    {
     "name": "stderr",
     "output_type": "stream",
     "text": [
      "654it [01:48,  6.03it/s]"
     ]
    },
    {
     "name": "stdout",
     "output_type": "stream",
     "text": [
      "Overall Acc: \t 0.578306360896\n",
      "Mean Acc : \t 0.483070718741\n",
      "FreqW Acc : \t 0.422273864129\n",
      "Mean IoU : \t 0.354900133364\n"
     ]
    },
    {
     "name": "stderr",
     "output_type": "stream",
     "text": [
      "\n"
     ]
    },
    {
     "name": "stdout",
     "output_type": "stream",
     "text": [
      "Epoch [43/100] Loss: 0.1819\n",
      "Epoch [43/100] Loss: 0.1569\n",
      "Epoch [43/100] Loss: 0.2331\n",
      "Epoch [43/100] Loss: 0.2910\n",
      "Epoch [43/100] Loss: 0.3900\n",
      "Epoch [43/100] Loss: 0.3497\n",
      "Epoch [43/100] Loss: 0.4618\n",
      "Epoch [43/100] Loss: 0.2596\n",
      "Epoch [43/100] Loss: 0.2762\n",
      "Epoch [43/100] Loss: 0.3300\n",
      "Epoch [43/100] Loss: 0.1783\n",
      "Epoch [43/100] Loss: 0.3918\n",
      "Epoch [43/100] Loss: 0.3914\n",
      "Epoch [43/100] Loss: 0.3897\n",
      "Epoch [43/100] Loss: 0.5763\n",
      "Epoch [43/100] Loss: 0.1325\n",
      "Epoch [43/100] Loss: 0.1932\n",
      "Epoch [43/100] Loss: 0.3907\n",
      "Epoch [43/100] Loss: 0.2555\n",
      "Epoch [43/100] Loss: 0.4401\n",
      "Epoch [43/100] Loss: 0.2058\n",
      "Epoch [43/100] Loss: 0.3820\n",
      "Epoch [43/100] Loss: 0.3543\n",
      "Epoch [43/100] Loss: 0.4037\n",
      "Epoch [43/100] Loss: 0.4720\n",
      "Epoch [43/100] Loss: 0.4432\n",
      "Epoch [43/100] Loss: 0.3469\n",
      "Epoch [43/100] Loss: 0.4592\n",
      "Epoch [43/100] Loss: 0.2574\n",
      "Epoch [43/100] Loss: 0.4508\n",
      "Epoch [43/100] Loss: 0.2114\n",
      "Epoch [43/100] Loss: 0.4434\n",
      "Epoch [43/100] Loss: 0.2993\n",
      "Epoch [43/100] Loss: 0.2369\n",
      "Epoch [43/100] Loss: 0.3272\n",
      "Epoch [43/100] Loss: 0.2193\n",
      "Epoch [43/100] Loss: 0.3808\n",
      "Epoch [43/100] Loss: 0.2625\n",
      "Epoch [43/100] Loss: 0.2748\n"
     ]
    },
    {
     "name": "stderr",
     "output_type": "stream",
     "text": [
      "654it [01:49,  5.99it/s]\n"
     ]
    },
    {
     "name": "stdout",
     "output_type": "stream",
     "text": [
      "Overall Acc: \t 0.591450080833\n",
      "Mean Acc : \t 0.497525602235\n",
      "FreqW Acc : \t 0.429777759902\n",
      "Mean IoU : \t 0.362915573277\n",
      "Epoch [44/100] Loss: 0.3685\n",
      "Epoch [44/100] Loss: 0.2626\n",
      "Epoch [44/100] Loss: 0.6080\n",
      "Epoch [44/100] Loss: 0.1902\n",
      "Epoch [44/100] Loss: 0.4504\n",
      "Epoch [44/100] Loss: 0.3390\n",
      "Epoch [44/100] Loss: 0.2784\n",
      "Epoch [44/100] Loss: 0.1843\n",
      "Epoch [44/100] Loss: 0.5102\n",
      "Epoch [44/100] Loss: 0.3442\n",
      "Epoch [44/100] Loss: 0.3029\n",
      "Epoch [44/100] Loss: 0.5082\n",
      "Epoch [44/100] Loss: 0.3297\n",
      "Epoch [44/100] Loss: 0.3244\n",
      "Epoch [44/100] Loss: 0.2393\n",
      "Epoch [44/100] Loss: 0.2372\n",
      "Epoch [44/100] Loss: 0.1392\n",
      "Epoch [44/100] Loss: 0.3122\n",
      "Epoch [44/100] Loss: 0.4449\n",
      "Epoch [44/100] Loss: 0.3385\n",
      "Epoch [44/100] Loss: 0.1786\n",
      "Epoch [44/100] Loss: 0.2774\n",
      "Epoch [44/100] Loss: 0.2386\n",
      "Epoch [44/100] Loss: 0.4109\n",
      "Epoch [44/100] Loss: 0.3375\n",
      "Epoch [44/100] Loss: 0.1938\n",
      "Epoch [44/100] Loss: 0.4857\n",
      "Epoch [44/100] Loss: 0.2900\n",
      "Epoch [44/100] Loss: 0.3621\n",
      "Epoch [44/100] Loss: 0.2734\n",
      "Epoch [44/100] Loss: 0.3045\n",
      "Epoch [44/100] Loss: 0.2605\n",
      "Epoch [44/100] Loss: 0.2438\n",
      "Epoch [44/100] Loss: 0.5165\n",
      "Epoch [44/100] Loss: 0.2487\n",
      "Epoch [44/100] Loss: 0.2354\n",
      "Epoch [44/100] Loss: 0.1990\n",
      "Epoch [44/100] Loss: 0.2611\n",
      "Epoch [44/100] Loss: 0.2500\n"
     ]
    },
    {
     "name": "stderr",
     "output_type": "stream",
     "text": [
      "654it [01:48,  6.02it/s]"
     ]
    },
    {
     "name": "stdout",
     "output_type": "stream",
     "text": [
      "Overall Acc: \t 0.580167359518\n",
      "Mean Acc : \t 0.525356242718\n",
      "FreqW Acc : \t 0.424552587281\n",
      "Mean IoU : \t 0.36102547175\n"
     ]
    },
    {
     "name": "stderr",
     "output_type": "stream",
     "text": [
      "\n"
     ]
    },
    {
     "name": "stdout",
     "output_type": "stream",
     "text": [
      "Epoch [45/100] Loss: 0.2694\n",
      "Epoch [45/100] Loss: 0.4320\n",
      "Epoch [45/100] Loss: 0.3154\n",
      "Epoch [45/100] Loss: 0.1946\n",
      "Epoch [45/100] Loss: 0.1965\n",
      "Epoch [45/100] Loss: 0.2295\n",
      "Epoch [45/100] Loss: 0.5404\n",
      "Epoch [45/100] Loss: 0.3014\n",
      "Epoch [45/100] Loss: 0.3805\n",
      "Epoch [45/100] Loss: 0.3597\n",
      "Epoch [45/100] Loss: 0.2130\n",
      "Epoch [45/100] Loss: 0.2763\n",
      "Epoch [45/100] Loss: 0.3457\n",
      "Epoch [45/100] Loss: 0.4155\n",
      "Epoch [45/100] Loss: 0.2270\n",
      "Epoch [45/100] Loss: 0.2804\n",
      "Epoch [45/100] Loss: 0.2205\n",
      "Epoch [45/100] Loss: 0.6305\n",
      "Epoch [45/100] Loss: 0.3899\n",
      "Epoch [45/100] Loss: 0.3065\n",
      "Epoch [45/100] Loss: 0.5325\n",
      "Epoch [45/100] Loss: 0.3383\n",
      "Epoch [45/100] Loss: 0.2332\n",
      "Epoch [45/100] Loss: 0.1726\n",
      "Epoch [45/100] Loss: 0.2946\n",
      "Epoch [45/100] Loss: 0.3599\n",
      "Epoch [45/100] Loss: 0.4653\n",
      "Epoch [45/100] Loss: 0.3232\n",
      "Epoch [45/100] Loss: 0.4480\n",
      "Epoch [45/100] Loss: 0.3283\n",
      "Epoch [45/100] Loss: 0.3138\n",
      "Epoch [45/100] Loss: 0.4325\n",
      "Epoch [45/100] Loss: 0.3405\n",
      "Epoch [45/100] Loss: 0.3842\n",
      "Epoch [45/100] Loss: 0.3622\n",
      "Epoch [45/100] Loss: 0.3056\n",
      "Epoch [45/100] Loss: 0.3248\n",
      "Epoch [45/100] Loss: 0.4483\n",
      "Epoch [45/100] Loss: 0.2962\n"
     ]
    },
    {
     "name": "stderr",
     "output_type": "stream",
     "text": [
      "654it [01:48,  6.02it/s]"
     ]
    },
    {
     "name": "stdout",
     "output_type": "stream",
     "text": [
      "Overall Acc: \t 0.585502421994\n",
      "Mean Acc : \t 0.487177581866\n",
      "FreqW Acc : \t 0.425987618115\n",
      "Mean IoU : \t 0.353237458016\n"
     ]
    },
    {
     "name": "stderr",
     "output_type": "stream",
     "text": [
      "\n"
     ]
    },
    {
     "name": "stdout",
     "output_type": "stream",
     "text": [
      "Epoch [46/100] Loss: 0.4847\n",
      "Epoch [46/100] Loss: 0.2999\n",
      "Epoch [46/100] Loss: 0.3745\n",
      "Epoch [46/100] Loss: 0.3562\n",
      "Epoch [46/100] Loss: 0.4894\n",
      "Epoch [46/100] Loss: 0.3877\n",
      "Epoch [46/100] Loss: 0.4449\n",
      "Epoch [46/100] Loss: 0.3646\n",
      "Epoch [46/100] Loss: 0.2214\n",
      "Epoch [46/100] Loss: 0.2433\n",
      "Epoch [46/100] Loss: 0.2023\n",
      "Epoch [46/100] Loss: 0.3478\n",
      "Epoch [46/100] Loss: 0.2544\n",
      "Epoch [46/100] Loss: 0.3480\n",
      "Epoch [46/100] Loss: 0.2747\n",
      "Epoch [46/100] Loss: 0.3533\n",
      "Epoch [46/100] Loss: 0.2914\n",
      "Epoch [46/100] Loss: 0.2799\n",
      "Epoch [46/100] Loss: 0.4541\n",
      "Epoch [46/100] Loss: 0.4288\n",
      "Epoch [46/100] Loss: 0.3630\n",
      "Epoch [46/100] Loss: 0.5000\n",
      "Epoch [46/100] Loss: 0.1333\n",
      "Epoch [46/100] Loss: 0.2769\n",
      "Epoch [46/100] Loss: 0.2364\n",
      "Epoch [46/100] Loss: 0.3681\n",
      "Epoch [46/100] Loss: 0.1789\n",
      "Epoch [46/100] Loss: 0.3208\n",
      "Epoch [46/100] Loss: 0.3328\n",
      "Epoch [46/100] Loss: 0.3270\n",
      "Epoch [46/100] Loss: 0.3869\n",
      "Epoch [46/100] Loss: 0.3271\n",
      "Epoch [46/100] Loss: 0.2471\n",
      "Epoch [46/100] Loss: 0.2245\n",
      "Epoch [46/100] Loss: 0.1511\n",
      "Epoch [46/100] Loss: 0.2553\n",
      "Epoch [46/100] Loss: 0.1891\n",
      "Epoch [46/100] Loss: 0.1806\n",
      "Epoch [46/100] Loss: 0.5339\n"
     ]
    },
    {
     "name": "stderr",
     "output_type": "stream",
     "text": [
      "654it [01:47,  6.06it/s]"
     ]
    },
    {
     "name": "stdout",
     "output_type": "stream",
     "text": [
      "Overall Acc: \t 0.58488867088\n",
      "Mean Acc : \t 0.483084581679\n",
      "FreqW Acc : \t 0.424981377536\n",
      "Mean IoU : \t 0.354220055353\n"
     ]
    },
    {
     "name": "stderr",
     "output_type": "stream",
     "text": [
      "\n"
     ]
    },
    {
     "name": "stdout",
     "output_type": "stream",
     "text": [
      "Epoch [47/100] Loss: 0.4113\n",
      "Epoch [47/100] Loss: 0.3091\n",
      "Epoch [47/100] Loss: 0.3261\n",
      "Epoch [47/100] Loss: 0.3520\n",
      "Epoch [47/100] Loss: 0.2871\n",
      "Epoch [47/100] Loss: 0.2888\n",
      "Epoch [47/100] Loss: 0.3369\n",
      "Epoch [47/100] Loss: 0.2533\n",
      "Epoch [47/100] Loss: 0.3579\n",
      "Epoch [47/100] Loss: 0.2965\n",
      "Epoch [47/100] Loss: 0.1082\n",
      "Epoch [47/100] Loss: 0.1891\n",
      "Epoch [47/100] Loss: 0.2977\n",
      "Epoch [47/100] Loss: 0.1643\n",
      "Epoch [47/100] Loss: 0.3129\n",
      "Epoch [47/100] Loss: 0.2290\n",
      "Epoch [47/100] Loss: 0.5457\n",
      "Epoch [47/100] Loss: 0.3860\n",
      "Epoch [47/100] Loss: 0.2438\n",
      "Epoch [47/100] Loss: 0.1734\n",
      "Epoch [47/100] Loss: 0.2576\n",
      "Epoch [47/100] Loss: 0.3014\n",
      "Epoch [47/100] Loss: 0.2817\n",
      "Epoch [47/100] Loss: 0.2907\n",
      "Epoch [47/100] Loss: 0.3095\n",
      "Epoch [47/100] Loss: 0.2531\n",
      "Epoch [47/100] Loss: 0.2763\n",
      "Epoch [47/100] Loss: 0.2208\n",
      "Epoch [47/100] Loss: 0.2005\n",
      "Epoch [47/100] Loss: 0.2768\n",
      "Epoch [47/100] Loss: 0.3049\n",
      "Epoch [47/100] Loss: 0.4183\n",
      "Epoch [47/100] Loss: 0.4354\n",
      "Epoch [47/100] Loss: 0.2788\n",
      "Epoch [47/100] Loss: 0.3081\n",
      "Epoch [47/100] Loss: 0.2826\n",
      "Epoch [47/100] Loss: 0.2320\n",
      "Epoch [47/100] Loss: 0.1926\n",
      "Epoch [47/100] Loss: 0.2419\n"
     ]
    },
    {
     "name": "stderr",
     "output_type": "stream",
     "text": [
      "654it [01:48,  6.04it/s]"
     ]
    },
    {
     "name": "stdout",
     "output_type": "stream",
     "text": [
      "Overall Acc: \t 0.576704922831\n",
      "Mean Acc : \t 0.486327743965\n",
      "FreqW Acc : \t 0.421163761635\n",
      "Mean IoU : \t 0.354350433393\n"
     ]
    },
    {
     "name": "stderr",
     "output_type": "stream",
     "text": [
      "\n"
     ]
    },
    {
     "name": "stdout",
     "output_type": "stream",
     "text": [
      "Epoch [48/100] Loss: 0.4087\n",
      "Epoch [48/100] Loss: 0.2588\n",
      "Epoch [48/100] Loss: 0.2370\n",
      "Epoch [48/100] Loss: 0.4336\n",
      "Epoch [48/100] Loss: 0.2851\n",
      "Epoch [48/100] Loss: 0.3657\n",
      "Epoch [48/100] Loss: 0.3171\n",
      "Epoch [48/100] Loss: 0.3225\n",
      "Epoch [48/100] Loss: 0.2302\n",
      "Epoch [48/100] Loss: 0.3240\n",
      "Epoch [48/100] Loss: 0.2858\n",
      "Epoch [48/100] Loss: 0.1767\n",
      "Epoch [48/100] Loss: 0.2957\n",
      "Epoch [48/100] Loss: 0.2966\n",
      "Epoch [48/100] Loss: 0.2668\n",
      "Epoch [48/100] Loss: 0.2745\n",
      "Epoch [48/100] Loss: 0.2176\n",
      "Epoch [48/100] Loss: 0.4261\n",
      "Epoch [48/100] Loss: 0.3110\n",
      "Epoch [48/100] Loss: 0.1993\n",
      "Epoch [48/100] Loss: 0.2579\n",
      "Epoch [48/100] Loss: 0.2681\n",
      "Epoch [48/100] Loss: 0.3138\n",
      "Epoch [48/100] Loss: 0.4297\n",
      "Epoch [48/100] Loss: 0.3138\n",
      "Epoch [48/100] Loss: 0.2741\n",
      "Epoch [48/100] Loss: 0.3011\n",
      "Epoch [48/100] Loss: 0.1899\n",
      "Epoch [48/100] Loss: 0.1574\n",
      "Epoch [48/100] Loss: 0.3469\n",
      "Epoch [48/100] Loss: 0.3054\n",
      "Epoch [48/100] Loss: 0.3573\n",
      "Epoch [48/100] Loss: 0.1934\n",
      "Epoch [48/100] Loss: 0.3465\n",
      "Epoch [48/100] Loss: 0.2606\n",
      "Epoch [48/100] Loss: 0.2989\n",
      "Epoch [48/100] Loss: 0.2653\n",
      "Epoch [48/100] Loss: 0.3973\n",
      "Epoch [48/100] Loss: 0.3182\n"
     ]
    },
    {
     "name": "stderr",
     "output_type": "stream",
     "text": [
      "654it [01:48,  6.02it/s]"
     ]
    },
    {
     "name": "stdout",
     "output_type": "stream",
     "text": [
      "Overall Acc: \t 0.586042811465\n",
      "Mean Acc : \t 0.482987325925\n",
      "FreqW Acc : \t 0.424644937215\n",
      "Mean IoU : \t 0.352187649196\n"
     ]
    },
    {
     "name": "stderr",
     "output_type": "stream",
     "text": [
      "\n"
     ]
    },
    {
     "name": "stdout",
     "output_type": "stream",
     "text": [
      "Epoch [49/100] Loss: 0.4997\n",
      "Epoch [49/100] Loss: 0.4377\n",
      "Epoch [49/100] Loss: 0.4331\n",
      "Epoch [49/100] Loss: 0.3980\n",
      "Epoch [49/100] Loss: 0.3354\n",
      "Epoch [49/100] Loss: 0.3846\n",
      "Epoch [49/100] Loss: 0.4840\n",
      "Epoch [49/100] Loss: 0.2209\n",
      "Epoch [49/100] Loss: 0.4525\n",
      "Epoch [49/100] Loss: 0.3743\n",
      "Epoch [49/100] Loss: 0.3921\n",
      "Epoch [49/100] Loss: 0.3933\n",
      "Epoch [49/100] Loss: 0.5008\n",
      "Epoch [49/100] Loss: 0.4028\n",
      "Epoch [49/100] Loss: 0.3345\n",
      "Epoch [49/100] Loss: 0.2700\n",
      "Epoch [49/100] Loss: 0.2155\n",
      "Epoch [49/100] Loss: 0.1509\n",
      "Epoch [49/100] Loss: 0.4091\n",
      "Epoch [49/100] Loss: 0.2389\n",
      "Epoch [49/100] Loss: 0.2863\n",
      "Epoch [49/100] Loss: 0.3489\n",
      "Epoch [49/100] Loss: 0.1948\n",
      "Epoch [49/100] Loss: 0.2889\n",
      "Epoch [49/100] Loss: 0.2190\n",
      "Epoch [49/100] Loss: 0.3102\n",
      "Epoch [49/100] Loss: 0.1488\n",
      "Epoch [49/100] Loss: 0.2709\n",
      "Epoch [49/100] Loss: 0.1656\n",
      "Epoch [49/100] Loss: 0.3676\n",
      "Epoch [49/100] Loss: 0.2860\n",
      "Epoch [49/100] Loss: 0.2564\n",
      "Epoch [49/100] Loss: 0.2985\n",
      "Epoch [49/100] Loss: 0.1804\n",
      "Epoch [49/100] Loss: 0.4210\n",
      "Epoch [49/100] Loss: 0.1943\n",
      "Epoch [49/100] Loss: 0.4043\n",
      "Epoch [49/100] Loss: 0.2365\n",
      "Epoch [49/100] Loss: 0.3693\n"
     ]
    },
    {
     "name": "stderr",
     "output_type": "stream",
     "text": [
      "654it [01:48,  6.04it/s]"
     ]
    },
    {
     "name": "stdout",
     "output_type": "stream",
     "text": [
      "Overall Acc: \t 0.585205565909\n",
      "Mean Acc : \t 0.492462164247\n",
      "FreqW Acc : \t 0.425815523324\n",
      "Mean IoU : \t 0.359952959058\n"
     ]
    },
    {
     "name": "stderr",
     "output_type": "stream",
     "text": [
      "\n"
     ]
    },
    {
     "name": "stdout",
     "output_type": "stream",
     "text": [
      "Epoch [50/100] Loss: 0.3648\n",
      "Epoch [50/100] Loss: 0.2363\n",
      "Epoch [50/100] Loss: 0.3823\n",
      "Epoch [50/100] Loss: 0.2441\n",
      "Epoch [50/100] Loss: 0.3414\n",
      "Epoch [50/100] Loss: 0.3348\n",
      "Epoch [50/100] Loss: 0.2201\n",
      "Epoch [50/100] Loss: 0.2561\n",
      "Epoch [50/100] Loss: 0.3027\n",
      "Epoch [50/100] Loss: 0.1121\n",
      "Epoch [50/100] Loss: 0.2961\n",
      "Epoch [50/100] Loss: 0.2705\n",
      "Epoch [50/100] Loss: 0.2700\n",
      "Epoch [50/100] Loss: 0.3351\n",
      "Epoch [50/100] Loss: 0.3033\n",
      "Epoch [50/100] Loss: 0.3837\n",
      "Epoch [50/100] Loss: 0.3833\n",
      "Epoch [50/100] Loss: 0.3362\n",
      "Epoch [50/100] Loss: 0.1676\n",
      "Epoch [50/100] Loss: 0.3890\n",
      "Epoch [50/100] Loss: 0.1608\n",
      "Epoch [50/100] Loss: 0.4085\n",
      "Epoch [50/100] Loss: 0.4012\n",
      "Epoch [50/100] Loss: 0.2700\n",
      "Epoch [50/100] Loss: 0.4013\n",
      "Epoch [50/100] Loss: 0.2977\n",
      "Epoch [50/100] Loss: 0.1980\n",
      "Epoch [50/100] Loss: 0.2843\n",
      "Epoch [50/100] Loss: 0.1910\n",
      "Epoch [50/100] Loss: 0.2903\n",
      "Epoch [50/100] Loss: 0.2623\n",
      "Epoch [50/100] Loss: 0.2839\n",
      "Epoch [50/100] Loss: 0.3886\n",
      "Epoch [50/100] Loss: 0.3642\n",
      "Epoch [50/100] Loss: 0.3221\n",
      "Epoch [50/100] Loss: 0.3474\n",
      "Epoch [50/100] Loss: 0.3560\n",
      "Epoch [50/100] Loss: 0.2785\n",
      "Epoch [50/100] Loss: 0.3824\n"
     ]
    },
    {
     "name": "stderr",
     "output_type": "stream",
     "text": [
      "654it [01:48,  6.02it/s]"
     ]
    },
    {
     "name": "stdout",
     "output_type": "stream",
     "text": [
      "Overall Acc: \t 0.586872123073\n",
      "Mean Acc : \t 0.505662360676\n",
      "FreqW Acc : \t 0.427890248643\n",
      "Mean IoU : \t 0.361311595452\n"
     ]
    },
    {
     "name": "stderr",
     "output_type": "stream",
     "text": [
      "\n"
     ]
    },
    {
     "name": "stdout",
     "output_type": "stream",
     "text": [
      "Epoch [51/100] Loss: 0.4214\n",
      "Epoch [51/100] Loss: 0.2541\n",
      "Epoch [51/100] Loss: 0.3872\n",
      "Epoch [51/100] Loss: 0.3236\n",
      "Epoch [51/100] Loss: 0.2645\n",
      "Epoch [51/100] Loss: 0.2292\n",
      "Epoch [51/100] Loss: 0.3746\n",
      "Epoch [51/100] Loss: 0.2153\n",
      "Epoch [51/100] Loss: 0.2859\n",
      "Epoch [51/100] Loss: 0.2220\n",
      "Epoch [51/100] Loss: 0.2459\n",
      "Epoch [51/100] Loss: 0.2626\n",
      "Epoch [51/100] Loss: 0.6047\n",
      "Epoch [51/100] Loss: 0.3612\n",
      "Epoch [51/100] Loss: 0.4818\n",
      "Epoch [51/100] Loss: 0.3145\n",
      "Epoch [51/100] Loss: 0.3302\n",
      "Epoch [51/100] Loss: 0.4291\n",
      "Epoch [51/100] Loss: 0.2083\n",
      "Epoch [51/100] Loss: 0.2333\n",
      "Epoch [51/100] Loss: 0.4249\n",
      "Epoch [51/100] Loss: 0.3328\n",
      "Epoch [51/100] Loss: 0.3690\n",
      "Epoch [51/100] Loss: 0.2946\n",
      "Epoch [51/100] Loss: 0.4797\n",
      "Epoch [51/100] Loss: 0.2572\n",
      "Epoch [51/100] Loss: 0.2401\n",
      "Epoch [51/100] Loss: 0.1708\n",
      "Epoch [51/100] Loss: 0.2348\n",
      "Epoch [51/100] Loss: 0.3266\n",
      "Epoch [51/100] Loss: 0.3490\n",
      "Epoch [51/100] Loss: 0.3337\n",
      "Epoch [51/100] Loss: 0.3923\n",
      "Epoch [51/100] Loss: 0.3176\n",
      "Epoch [51/100] Loss: 0.2197\n",
      "Epoch [51/100] Loss: 0.2673\n",
      "Epoch [51/100] Loss: 0.1924\n",
      "Epoch [51/100] Loss: 0.2792\n",
      "Epoch [51/100] Loss: 0.3438\n"
     ]
    },
    {
     "name": "stderr",
     "output_type": "stream",
     "text": [
      "654it [01:48,  6.01it/s]"
     ]
    },
    {
     "name": "stdout",
     "output_type": "stream",
     "text": [
      "Overall Acc: \t 0.579111467492\n",
      "Mean Acc : \t 0.482895429502\n",
      "FreqW Acc : \t 0.420904541466\n",
      "Mean IoU : \t 0.352744841263\n"
     ]
    },
    {
     "name": "stderr",
     "output_type": "stream",
     "text": [
      "\n"
     ]
    },
    {
     "name": "stdout",
     "output_type": "stream",
     "text": [
      "Epoch [52/100] Loss: 0.2035\n",
      "Epoch [52/100] Loss: 0.3541\n",
      "Epoch [52/100] Loss: 0.3369\n",
      "Epoch [52/100] Loss: 0.4003\n",
      "Epoch [52/100] Loss: 0.2931\n",
      "Epoch [52/100] Loss: 0.1992\n",
      "Epoch [52/100] Loss: 0.4230\n",
      "Epoch [52/100] Loss: 0.3399\n",
      "Epoch [52/100] Loss: 0.4763\n",
      "Epoch [52/100] Loss: 0.5039\n",
      "Epoch [52/100] Loss: 0.4104\n",
      "Epoch [52/100] Loss: 0.2733\n",
      "Epoch [52/100] Loss: 0.3043\n",
      "Epoch [52/100] Loss: 0.2997\n",
      "Epoch [52/100] Loss: 0.2579\n",
      "Epoch [52/100] Loss: 0.3074\n",
      "Epoch [52/100] Loss: 0.4182\n",
      "Epoch [52/100] Loss: 0.1867\n",
      "Epoch [52/100] Loss: 0.3226\n",
      "Epoch [52/100] Loss: 0.1882\n",
      "Epoch [52/100] Loss: 0.1761\n",
      "Epoch [52/100] Loss: 0.3471\n",
      "Epoch [52/100] Loss: 0.1713\n",
      "Epoch [52/100] Loss: 0.1758\n",
      "Epoch [52/100] Loss: 0.3763\n",
      "Epoch [52/100] Loss: 0.1929\n",
      "Epoch [52/100] Loss: 0.1989\n",
      "Epoch [52/100] Loss: 0.2038\n",
      "Epoch [52/100] Loss: 0.2434\n",
      "Epoch [52/100] Loss: 0.4157\n",
      "Epoch [52/100] Loss: 0.3977\n",
      "Epoch [52/100] Loss: 0.2822\n",
      "Epoch [52/100] Loss: 0.2469\n",
      "Epoch [52/100] Loss: 0.2554\n",
      "Epoch [52/100] Loss: 0.3094\n",
      "Epoch [52/100] Loss: 0.3267\n",
      "Epoch [52/100] Loss: 0.2674\n",
      "Epoch [52/100] Loss: 0.4024\n",
      "Epoch [52/100] Loss: 0.2974\n"
     ]
    },
    {
     "name": "stderr",
     "output_type": "stream",
     "text": [
      "654it [01:49,  6.00it/s]"
     ]
    },
    {
     "name": "stdout",
     "output_type": "stream",
     "text": [
      "Overall Acc: \t 0.584728130376\n",
      "Mean Acc : \t 0.48719791468\n",
      "FreqW Acc : \t 0.426333890426\n",
      "Mean IoU : \t 0.355519410005\n"
     ]
    },
    {
     "name": "stderr",
     "output_type": "stream",
     "text": [
      "\n"
     ]
    },
    {
     "name": "stdout",
     "output_type": "stream",
     "text": [
      "Epoch [53/100] Loss: 0.3576\n",
      "Epoch [53/100] Loss: 0.3059\n",
      "Epoch [53/100] Loss: 0.3281\n",
      "Epoch [53/100] Loss: 0.5657\n",
      "Epoch [53/100] Loss: 0.2999\n",
      "Epoch [53/100] Loss: 0.3419\n",
      "Epoch [53/100] Loss: 0.2682\n",
      "Epoch [53/100] Loss: 0.3487\n",
      "Epoch [53/100] Loss: 0.3160\n",
      "Epoch [53/100] Loss: 0.3537\n",
      "Epoch [53/100] Loss: 0.3726\n",
      "Epoch [53/100] Loss: 0.2718\n",
      "Epoch [53/100] Loss: 0.2475\n",
      "Epoch [53/100] Loss: 0.3731\n",
      "Epoch [53/100] Loss: 0.3271\n",
      "Epoch [53/100] Loss: 0.1582\n",
      "Epoch [53/100] Loss: 0.2736\n",
      "Epoch [53/100] Loss: 0.3607\n",
      "Epoch [53/100] Loss: 0.3258\n",
      "Epoch [53/100] Loss: 0.2677\n",
      "Epoch [53/100] Loss: 0.2491\n",
      "Epoch [53/100] Loss: 0.5405\n",
      "Epoch [53/100] Loss: 0.2095\n",
      "Epoch [53/100] Loss: 0.3469\n",
      "Epoch [53/100] Loss: 0.3708\n",
      "Epoch [53/100] Loss: 0.3327\n",
      "Epoch [53/100] Loss: 0.4005\n",
      "Epoch [53/100] Loss: 0.2864\n",
      "Epoch [53/100] Loss: 0.2804\n",
      "Epoch [53/100] Loss: 0.2054\n",
      "Epoch [53/100] Loss: 0.2377\n",
      "Epoch [53/100] Loss: 0.2261\n",
      "Epoch [53/100] Loss: 0.2945\n",
      "Epoch [53/100] Loss: 0.2411\n",
      "Epoch [53/100] Loss: 0.2064\n",
      "Epoch [53/100] Loss: 0.1289\n",
      "Epoch [53/100] Loss: 0.2361\n",
      "Epoch [53/100] Loss: 0.1937\n",
      "Epoch [53/100] Loss: 0.3935\n"
     ]
    },
    {
     "name": "stderr",
     "output_type": "stream",
     "text": [
      "654it [01:48,  6.03it/s]"
     ]
    },
    {
     "name": "stdout",
     "output_type": "stream",
     "text": [
      "Overall Acc: \t 0.588277686194\n",
      "Mean Acc : \t 0.477129589008\n",
      "FreqW Acc : \t 0.424328871556\n",
      "Mean IoU : \t 0.350269294143\n"
     ]
    },
    {
     "name": "stderr",
     "output_type": "stream",
     "text": [
      "\n"
     ]
    },
    {
     "name": "stdout",
     "output_type": "stream",
     "text": [
      "Epoch [54/100] Loss: 0.4573\n",
      "Epoch [54/100] Loss: 0.2847\n",
      "Epoch [54/100] Loss: 0.2772\n",
      "Epoch [54/100] Loss: 0.2155\n",
      "Epoch [54/100] Loss: 0.5598\n",
      "Epoch [54/100] Loss: 0.5574\n",
      "Epoch [54/100] Loss: 0.1553\n",
      "Epoch [54/100] Loss: 0.3578\n",
      "Epoch [54/100] Loss: 0.1124\n",
      "Epoch [54/100] Loss: 0.3017\n",
      "Epoch [54/100] Loss: 0.3179\n",
      "Epoch [54/100] Loss: 0.4656\n",
      "Epoch [54/100] Loss: 0.4256\n",
      "Epoch [54/100] Loss: 0.1709\n",
      "Epoch [54/100] Loss: 0.2058\n",
      "Epoch [54/100] Loss: 0.2191\n",
      "Epoch [54/100] Loss: 0.2395\n",
      "Epoch [54/100] Loss: 0.2373\n",
      "Epoch [54/100] Loss: 0.2958\n",
      "Epoch [54/100] Loss: 0.2533\n",
      "Epoch [54/100] Loss: 0.2806\n",
      "Epoch [54/100] Loss: 0.3620\n",
      "Epoch [54/100] Loss: 0.2195\n",
      "Epoch [54/100] Loss: 0.2471\n",
      "Epoch [54/100] Loss: 0.3496\n",
      "Epoch [54/100] Loss: 0.2904\n",
      "Epoch [54/100] Loss: 0.3265\n",
      "Epoch [54/100] Loss: 0.3271\n",
      "Epoch [54/100] Loss: 0.3610\n",
      "Epoch [54/100] Loss: 0.2170\n",
      "Epoch [54/100] Loss: 0.1848\n",
      "Epoch [54/100] Loss: 0.2482\n",
      "Epoch [54/100] Loss: 0.2615\n",
      "Epoch [54/100] Loss: 0.3619\n",
      "Epoch [54/100] Loss: 0.3705\n",
      "Epoch [54/100] Loss: 0.3271\n",
      "Epoch [54/100] Loss: 0.2481\n",
      "Epoch [54/100] Loss: 0.2460\n",
      "Epoch [54/100] Loss: 0.2196\n"
     ]
    },
    {
     "name": "stderr",
     "output_type": "stream",
     "text": [
      "654it [01:49,  5.99it/s]"
     ]
    },
    {
     "name": "stdout",
     "output_type": "stream",
     "text": [
      "Overall Acc: \t 0.584617089943\n",
      "Mean Acc : \t 0.498780204609\n",
      "FreqW Acc : \t 0.425483252107\n",
      "Mean IoU : \t 0.35826390741\n"
     ]
    },
    {
     "name": "stderr",
     "output_type": "stream",
     "text": [
      "\n"
     ]
    },
    {
     "name": "stdout",
     "output_type": "stream",
     "text": [
      "Epoch [55/100] Loss: 0.4045\n",
      "Epoch [55/100] Loss: 0.3851\n",
      "Epoch [55/100] Loss: 0.5030\n",
      "Epoch [55/100] Loss: 0.3454\n",
      "Epoch [55/100] Loss: 0.2883\n",
      "Epoch [55/100] Loss: 0.2519\n",
      "Epoch [55/100] Loss: 0.2616\n",
      "Epoch [55/100] Loss: 0.4426\n",
      "Epoch [55/100] Loss: 0.3171\n",
      "Epoch [55/100] Loss: 0.1845\n",
      "Epoch [55/100] Loss: 0.1630\n",
      "Epoch [55/100] Loss: 0.2701\n",
      "Epoch [55/100] Loss: 0.2435\n",
      "Epoch [55/100] Loss: 0.3524\n",
      "Epoch [55/100] Loss: 0.5314\n",
      "Epoch [55/100] Loss: 0.3137\n",
      "Epoch [55/100] Loss: 0.2968\n",
      "Epoch [55/100] Loss: 0.2128\n",
      "Epoch [55/100] Loss: 0.2171\n",
      "Epoch [55/100] Loss: 0.4552\n",
      "Epoch [55/100] Loss: 0.3130\n",
      "Epoch [55/100] Loss: 0.3884\n",
      "Epoch [55/100] Loss: 0.2623\n",
      "Epoch [55/100] Loss: 0.3044\n",
      "Epoch [55/100] Loss: 0.3240\n",
      "Epoch [55/100] Loss: 0.1878\n",
      "Epoch [55/100] Loss: 0.4248\n",
      "Epoch [55/100] Loss: 0.1774\n",
      "Epoch [55/100] Loss: 0.2768\n",
      "Epoch [55/100] Loss: 0.2704\n",
      "Epoch [55/100] Loss: 0.2472\n",
      "Epoch [55/100] Loss: 0.4940\n",
      "Epoch [55/100] Loss: 0.4428\n",
      "Epoch [55/100] Loss: 0.1858\n",
      "Epoch [55/100] Loss: 0.2442\n",
      "Epoch [55/100] Loss: 0.2581\n",
      "Epoch [55/100] Loss: 0.5200\n",
      "Epoch [55/100] Loss: 0.1237\n",
      "Epoch [55/100] Loss: 0.3043\n"
     ]
    },
    {
     "name": "stderr",
     "output_type": "stream",
     "text": [
      "654it [01:48,  6.01it/s]"
     ]
    },
    {
     "name": "stdout",
     "output_type": "stream",
     "text": [
      "Overall Acc: \t 0.589343781855\n",
      "Mean Acc : \t 0.50071320047\n",
      "FreqW Acc : \t 0.42828677349\n",
      "Mean IoU : \t 0.359912540691\n"
     ]
    },
    {
     "name": "stderr",
     "output_type": "stream",
     "text": [
      "\n"
     ]
    },
    {
     "name": "stdout",
     "output_type": "stream",
     "text": [
      "Epoch [56/100] Loss: 0.2287\n",
      "Epoch [56/100] Loss: 0.3435\n",
      "Epoch [56/100] Loss: 0.3211\n",
      "Epoch [56/100] Loss: 0.3740\n",
      "Epoch [56/100] Loss: 0.2429\n",
      "Epoch [56/100] Loss: 0.1826\n",
      "Epoch [56/100] Loss: 0.5459\n",
      "Epoch [56/100] Loss: 0.2664\n",
      "Epoch [56/100] Loss: 0.2539\n",
      "Epoch [56/100] Loss: 0.2655\n",
      "Epoch [56/100] Loss: 0.4580\n",
      "Epoch [56/100] Loss: 0.3257\n",
      "Epoch [56/100] Loss: 0.2774\n",
      "Epoch [56/100] Loss: 0.3328\n",
      "Epoch [56/100] Loss: 0.2014\n",
      "Epoch [56/100] Loss: 0.2238\n",
      "Epoch [56/100] Loss: 0.3347\n",
      "Epoch [56/100] Loss: 0.2189\n",
      "Epoch [56/100] Loss: 0.3699\n",
      "Epoch [56/100] Loss: 0.2900\n",
      "Epoch [56/100] Loss: 0.2822\n",
      "Epoch [56/100] Loss: 0.1158\n",
      "Epoch [56/100] Loss: 0.3197\n",
      "Epoch [56/100] Loss: 0.2797\n",
      "Epoch [56/100] Loss: 0.3307\n",
      "Epoch [56/100] Loss: 0.2845\n",
      "Epoch [56/100] Loss: 0.2883\n",
      "Epoch [56/100] Loss: 0.3191\n",
      "Epoch [56/100] Loss: 0.2547\n",
      "Epoch [56/100] Loss: 0.1894\n",
      "Epoch [56/100] Loss: 0.1897\n",
      "Epoch [56/100] Loss: 0.1317\n",
      "Epoch [56/100] Loss: 0.4261\n",
      "Epoch [56/100] Loss: 0.1994\n",
      "Epoch [56/100] Loss: 0.3380\n",
      "Epoch [56/100] Loss: 0.1990\n",
      "Epoch [56/100] Loss: 0.3941\n",
      "Epoch [56/100] Loss: 0.1483\n",
      "Epoch [56/100] Loss: 0.2051\n"
     ]
    },
    {
     "name": "stderr",
     "output_type": "stream",
     "text": [
      "654it [01:48,  6.02it/s]"
     ]
    },
    {
     "name": "stdout",
     "output_type": "stream",
     "text": [
      "Overall Acc: \t 0.579323658297\n",
      "Mean Acc : \t 0.484781791589\n",
      "FreqW Acc : \t 0.422956521558\n",
      "Mean IoU : \t 0.354499121849\n"
     ]
    },
    {
     "name": "stderr",
     "output_type": "stream",
     "text": [
      "\n"
     ]
    },
    {
     "name": "stdout",
     "output_type": "stream",
     "text": [
      "Epoch [57/100] Loss: 0.3347\n",
      "Epoch [57/100] Loss: 0.3633\n",
      "Epoch [57/100] Loss: 0.3335\n",
      "Epoch [57/100] Loss: 0.2943\n",
      "Epoch [57/100] Loss: 0.2615\n",
      "Epoch [57/100] Loss: 0.3765\n",
      "Epoch [57/100] Loss: 0.3411\n",
      "Epoch [57/100] Loss: 0.2951\n",
      "Epoch [57/100] Loss: 0.2138\n",
      "Epoch [57/100] Loss: 0.4888\n",
      "Epoch [57/100] Loss: 0.2659\n",
      "Epoch [57/100] Loss: 0.3582\n",
      "Epoch [57/100] Loss: 0.4196\n",
      "Epoch [57/100] Loss: 0.3413\n",
      "Epoch [57/100] Loss: 0.3011\n",
      "Epoch [57/100] Loss: 0.2546\n",
      "Epoch [57/100] Loss: 0.1370\n",
      "Epoch [57/100] Loss: 0.2342\n",
      "Epoch [57/100] Loss: 0.3044\n",
      "Epoch [57/100] Loss: 0.1717\n",
      "Epoch [57/100] Loss: 0.2126\n",
      "Epoch [57/100] Loss: 0.3376\n",
      "Epoch [57/100] Loss: 0.1922\n",
      "Epoch [57/100] Loss: 0.2437\n",
      "Epoch [57/100] Loss: 0.1997\n",
      "Epoch [57/100] Loss: 0.2113\n",
      "Epoch [57/100] Loss: 0.2446\n",
      "Epoch [57/100] Loss: 0.3993\n",
      "Epoch [57/100] Loss: 0.1622\n",
      "Epoch [57/100] Loss: 0.2355\n",
      "Epoch [57/100] Loss: 0.2896\n",
      "Epoch [57/100] Loss: 0.3845\n",
      "Epoch [57/100] Loss: 0.4439\n",
      "Epoch [57/100] Loss: 0.3847\n",
      "Epoch [57/100] Loss: 0.2612\n",
      "Epoch [57/100] Loss: 0.2782\n",
      "Epoch [57/100] Loss: 0.3215\n",
      "Epoch [57/100] Loss: 0.3450\n",
      "Epoch [57/100] Loss: 0.4273\n"
     ]
    },
    {
     "name": "stderr",
     "output_type": "stream",
     "text": [
      "654it [01:48,  6.01it/s]"
     ]
    },
    {
     "name": "stdout",
     "output_type": "stream",
     "text": [
      "Overall Acc: \t 0.569739822248\n",
      "Mean Acc : \t 0.492243871324\n",
      "FreqW Acc : \t 0.417488441188\n",
      "Mean IoU : \t 0.357943915528\n"
     ]
    },
    {
     "name": "stderr",
     "output_type": "stream",
     "text": [
      "\n"
     ]
    },
    {
     "name": "stdout",
     "output_type": "stream",
     "text": [
      "Epoch [58/100] Loss: 0.2144\n",
      "Epoch [58/100] Loss: 0.3692\n",
      "Epoch [58/100] Loss: 0.4331\n",
      "Epoch [58/100] Loss: 0.3183\n",
      "Epoch [58/100] Loss: 0.1969\n",
      "Epoch [58/100] Loss: 0.2941\n",
      "Epoch [58/100] Loss: 0.2134\n",
      "Epoch [58/100] Loss: 0.4761\n",
      "Epoch [58/100] Loss: 0.2808\n",
      "Epoch [58/100] Loss: 0.2382\n",
      "Epoch [58/100] Loss: 0.4456\n",
      "Epoch [58/100] Loss: 0.2273\n",
      "Epoch [58/100] Loss: 0.2812\n",
      "Epoch [58/100] Loss: 0.2815\n",
      "Epoch [58/100] Loss: 0.5536\n",
      "Epoch [58/100] Loss: 0.3871\n",
      "Epoch [58/100] Loss: 0.2793\n",
      "Epoch [58/100] Loss: 0.3213\n",
      "Epoch [58/100] Loss: 0.3744\n",
      "Epoch [58/100] Loss: 0.2068\n",
      "Epoch [58/100] Loss: 0.2586\n",
      "Epoch [58/100] Loss: 0.2057\n",
      "Epoch [58/100] Loss: 0.2392\n",
      "Epoch [58/100] Loss: 0.3098\n",
      "Epoch [58/100] Loss: 0.3368\n",
      "Epoch [58/100] Loss: 0.3043\n",
      "Epoch [58/100] Loss: 0.2461\n",
      "Epoch [58/100] Loss: 0.2499\n",
      "Epoch [58/100] Loss: 0.3745\n",
      "Epoch [58/100] Loss: 0.3804\n",
      "Epoch [58/100] Loss: 0.2645\n",
      "Epoch [58/100] Loss: 0.2291\n",
      "Epoch [58/100] Loss: 0.2632\n",
      "Epoch [58/100] Loss: 0.3688\n",
      "Epoch [58/100] Loss: 0.2888\n",
      "Epoch [58/100] Loss: 0.3939\n",
      "Epoch [58/100] Loss: 0.1908\n",
      "Epoch [58/100] Loss: 0.2297\n",
      "Epoch [58/100] Loss: 0.3650\n"
     ]
    },
    {
     "name": "stderr",
     "output_type": "stream",
     "text": [
      "654it [01:48,  6.00it/s]"
     ]
    },
    {
     "name": "stdout",
     "output_type": "stream",
     "text": [
      "Overall Acc: \t 0.579760050331\n",
      "Mean Acc : \t 0.484369132691\n",
      "FreqW Acc : \t 0.420769091725\n",
      "Mean IoU : \t 0.352435369728\n"
     ]
    },
    {
     "name": "stderr",
     "output_type": "stream",
     "text": [
      "\n"
     ]
    },
    {
     "name": "stdout",
     "output_type": "stream",
     "text": [
      "Epoch [59/100] Loss: 0.2704\n",
      "Epoch [59/100] Loss: 0.3344\n",
      "Epoch [59/100] Loss: 0.1778\n",
      "Epoch [59/100] Loss: 0.4129\n",
      "Epoch [59/100] Loss: 0.4446\n",
      "Epoch [59/100] Loss: 0.2687\n",
      "Epoch [59/100] Loss: 0.5279\n",
      "Epoch [59/100] Loss: 0.3478\n",
      "Epoch [59/100] Loss: 0.2245\n",
      "Epoch [59/100] Loss: 0.2235\n",
      "Epoch [59/100] Loss: 0.2014\n",
      "Epoch [59/100] Loss: 0.1866\n",
      "Epoch [59/100] Loss: 0.2885\n",
      "Epoch [59/100] Loss: 0.4083\n",
      "Epoch [59/100] Loss: 0.3180\n",
      "Epoch [59/100] Loss: 0.2974\n",
      "Epoch [59/100] Loss: 0.1857\n",
      "Epoch [59/100] Loss: 0.3005\n",
      "Epoch [59/100] Loss: 0.2650\n",
      "Epoch [59/100] Loss: 0.3246\n",
      "Epoch [59/100] Loss: 0.3779\n",
      "Epoch [59/100] Loss: 0.2366\n",
      "Epoch [59/100] Loss: 0.4769\n",
      "Epoch [59/100] Loss: 0.4132\n",
      "Epoch [59/100] Loss: 0.3429\n",
      "Epoch [59/100] Loss: 0.3806\n",
      "Epoch [59/100] Loss: 0.3793\n",
      "Epoch [59/100] Loss: 0.2553\n",
      "Epoch [59/100] Loss: 0.2269\n",
      "Epoch [59/100] Loss: 0.1443\n",
      "Epoch [59/100] Loss: 0.2915\n",
      "Epoch [59/100] Loss: 0.1923\n",
      "Epoch [59/100] Loss: 0.2613\n",
      "Epoch [59/100] Loss: 0.4515\n",
      "Epoch [59/100] Loss: 0.5228\n",
      "Epoch [59/100] Loss: 0.2224\n",
      "Epoch [59/100] Loss: 0.3347\n",
      "Epoch [59/100] Loss: 0.3798\n",
      "Epoch [59/100] Loss: 0.2358\n"
     ]
    },
    {
     "name": "stderr",
     "output_type": "stream",
     "text": [
      "654it [01:49,  5.98it/s]"
     ]
    },
    {
     "name": "stdout",
     "output_type": "stream",
     "text": [
      "Overall Acc: \t 0.581586560668\n",
      "Mean Acc : \t 0.488193847592\n",
      "FreqW Acc : \t 0.424904278438\n",
      "Mean IoU : \t 0.350292749513\n"
     ]
    },
    {
     "name": "stderr",
     "output_type": "stream",
     "text": [
      "\n"
     ]
    },
    {
     "name": "stdout",
     "output_type": "stream",
     "text": [
      "Epoch [60/100] Loss: 0.2378\n",
      "Epoch [60/100] Loss: 0.2264\n",
      "Epoch [60/100] Loss: 0.3090\n",
      "Epoch [60/100] Loss: 0.1820\n",
      "Epoch [60/100] Loss: 0.4025\n",
      "Epoch [60/100] Loss: 0.3075\n",
      "Epoch [60/100] Loss: 0.2452\n",
      "Epoch [60/100] Loss: 0.2355\n",
      "Epoch [60/100] Loss: 0.2196\n",
      "Epoch [60/100] Loss: 0.2083\n",
      "Epoch [60/100] Loss: 0.2552\n",
      "Epoch [60/100] Loss: 0.2915\n",
      "Epoch [60/100] Loss: 0.2718\n",
      "Epoch [60/100] Loss: 0.3054\n",
      "Epoch [60/100] Loss: 0.4233\n",
      "Epoch [60/100] Loss: 0.2241\n",
      "Epoch [60/100] Loss: 0.2931\n",
      "Epoch [60/100] Loss: 0.2634\n",
      "Epoch [60/100] Loss: 0.3079\n",
      "Epoch [60/100] Loss: 0.4210\n",
      "Epoch [60/100] Loss: 0.2960\n",
      "Epoch [60/100] Loss: 0.4390\n",
      "Epoch [60/100] Loss: 0.2439\n",
      "Epoch [60/100] Loss: 0.3512\n",
      "Epoch [60/100] Loss: 0.3229\n",
      "Epoch [60/100] Loss: 0.1204\n",
      "Epoch [60/100] Loss: 0.1935\n",
      "Epoch [60/100] Loss: 0.1938\n",
      "Epoch [60/100] Loss: 0.2161\n",
      "Epoch [60/100] Loss: 0.2544\n",
      "Epoch [60/100] Loss: 0.4883\n",
      "Epoch [60/100] Loss: 0.4125\n",
      "Epoch [60/100] Loss: 0.3564\n",
      "Epoch [60/100] Loss: 0.3225\n",
      "Epoch [60/100] Loss: 0.2233\n",
      "Epoch [60/100] Loss: 0.1764\n",
      "Epoch [60/100] Loss: 0.4586\n",
      "Epoch [60/100] Loss: 0.1978\n",
      "Epoch [60/100] Loss: 0.2551\n"
     ]
    },
    {
     "name": "stderr",
     "output_type": "stream",
     "text": [
      "654it [01:48,  6.02it/s]\n"
     ]
    },
    {
     "name": "stdout",
     "output_type": "stream",
     "text": [
      "Overall Acc: \t 0.587864936728\n",
      "Mean Acc : \t 0.495373750332\n",
      "FreqW Acc : \t 0.428595562658\n",
      "Mean IoU : \t 0.363383833033\n",
      "Epoch [61/100] Loss: 0.2714\n",
      "Epoch [61/100] Loss: 0.2889\n",
      "Epoch [61/100] Loss: 0.2642\n",
      "Epoch [61/100] Loss: 0.3116\n",
      "Epoch [61/100] Loss: 0.1908\n",
      "Epoch [61/100] Loss: 0.1968\n",
      "Epoch [61/100] Loss: 0.2656\n",
      "Epoch [61/100] Loss: 0.2129\n",
      "Epoch [61/100] Loss: 0.1108\n",
      "Epoch [61/100] Loss: 0.3208\n",
      "Epoch [61/100] Loss: 0.3214\n",
      "Epoch [61/100] Loss: 0.3980\n",
      "Epoch [61/100] Loss: 0.2590\n",
      "Epoch [61/100] Loss: 0.3024\n",
      "Epoch [61/100] Loss: 0.3057\n",
      "Epoch [61/100] Loss: 0.4294\n",
      "Epoch [61/100] Loss: 0.2090\n",
      "Epoch [61/100] Loss: 0.3246\n",
      "Epoch [61/100] Loss: 0.2967\n",
      "Epoch [61/100] Loss: 0.2697\n",
      "Epoch [61/100] Loss: 0.2236\n",
      "Epoch [61/100] Loss: 0.1960\n",
      "Epoch [61/100] Loss: 0.2496\n",
      "Epoch [61/100] Loss: 0.1677\n",
      "Epoch [61/100] Loss: 0.4301\n",
      "Epoch [61/100] Loss: 0.3560\n",
      "Epoch [61/100] Loss: 0.1102\n",
      "Epoch [61/100] Loss: 0.2397\n",
      "Epoch [61/100] Loss: 0.4906\n",
      "Epoch [61/100] Loss: 0.1792\n",
      "Epoch [61/100] Loss: 0.4064\n",
      "Epoch [61/100] Loss: 0.2870\n",
      "Epoch [61/100] Loss: 0.3010\n",
      "Epoch [61/100] Loss: 0.4307\n",
      "Epoch [61/100] Loss: 0.3530\n",
      "Epoch [61/100] Loss: 0.1687\n",
      "Epoch [61/100] Loss: 0.3870\n",
      "Epoch [61/100] Loss: 0.4164\n",
      "Epoch [61/100] Loss: 0.1423\n"
     ]
    },
    {
     "name": "stderr",
     "output_type": "stream",
     "text": [
      "654it [01:48,  6.04it/s]\n"
     ]
    },
    {
     "name": "stdout",
     "output_type": "stream",
     "text": [
      "Overall Acc: \t 0.590123065789\n",
      "Mean Acc : \t 0.500673892126\n",
      "FreqW Acc : \t 0.430685517859\n",
      "Mean IoU : \t 0.363577027522\n",
      "Epoch [62/100] Loss: 0.2588\n",
      "Epoch [62/100] Loss: 0.4593\n",
      "Epoch [62/100] Loss: 0.3526\n",
      "Epoch [62/100] Loss: 0.2188\n",
      "Epoch [62/100] Loss: 0.5490\n",
      "Epoch [62/100] Loss: 0.2515\n",
      "Epoch [62/100] Loss: 0.3801\n",
      "Epoch [62/100] Loss: 0.2476\n",
      "Epoch [62/100] Loss: 0.3044\n",
      "Epoch [62/100] Loss: 0.2380\n",
      "Epoch [62/100] Loss: 0.1729\n",
      "Epoch [62/100] Loss: 0.3208\n",
      "Epoch [62/100] Loss: 0.4678\n",
      "Epoch [62/100] Loss: 0.3267\n",
      "Epoch [62/100] Loss: 0.4066\n",
      "Epoch [62/100] Loss: 0.2674\n",
      "Epoch [62/100] Loss: 0.1728\n",
      "Epoch [62/100] Loss: 0.4126\n",
      "Epoch [62/100] Loss: 0.3116\n",
      "Epoch [62/100] Loss: 0.4367\n",
      "Epoch [62/100] Loss: 0.3736\n",
      "Epoch [62/100] Loss: 0.2708\n",
      "Epoch [62/100] Loss: 0.2756\n",
      "Epoch [62/100] Loss: 0.2814\n",
      "Epoch [62/100] Loss: 0.4738\n",
      "Epoch [62/100] Loss: 0.2428\n",
      "Epoch [62/100] Loss: 0.4826\n",
      "Epoch [62/100] Loss: 0.1927\n",
      "Epoch [62/100] Loss: 0.2439\n",
      "Epoch [62/100] Loss: 0.3307\n",
      "Epoch [62/100] Loss: 0.2218\n",
      "Epoch [62/100] Loss: 0.4978\n",
      "Epoch [62/100] Loss: 0.3713\n",
      "Epoch [62/100] Loss: 0.3608\n",
      "Epoch [62/100] Loss: 0.3061\n",
      "Epoch [62/100] Loss: 0.2405\n",
      "Epoch [62/100] Loss: 0.3386\n",
      "Epoch [62/100] Loss: 0.2525\n",
      "Epoch [62/100] Loss: 0.3055\n"
     ]
    },
    {
     "name": "stderr",
     "output_type": "stream",
     "text": [
      "654it [01:48,  6.05it/s]"
     ]
    },
    {
     "name": "stdout",
     "output_type": "stream",
     "text": [
      "Overall Acc: \t 0.589025114878\n",
      "Mean Acc : \t 0.479867945404\n",
      "FreqW Acc : \t 0.425706608262\n",
      "Mean IoU : \t 0.353707228283\n"
     ]
    },
    {
     "name": "stderr",
     "output_type": "stream",
     "text": [
      "\n"
     ]
    },
    {
     "name": "stdout",
     "output_type": "stream",
     "text": [
      "Epoch [63/100] Loss: 0.2751\n",
      "Epoch [63/100] Loss: 0.2546\n",
      "Epoch [63/100] Loss: 0.5023\n",
      "Epoch [63/100] Loss: 0.2771\n",
      "Epoch [63/100] Loss: 0.1892\n",
      "Epoch [63/100] Loss: 0.2424\n",
      "Epoch [63/100] Loss: 0.4009\n",
      "Epoch [63/100] Loss: 0.3833\n",
      "Epoch [63/100] Loss: 0.3713\n",
      "Epoch [63/100] Loss: 0.2597\n",
      "Epoch [63/100] Loss: 0.3383\n",
      "Epoch [63/100] Loss: 0.3538\n",
      "Epoch [63/100] Loss: 0.4414\n",
      "Epoch [63/100] Loss: 0.3676\n",
      "Epoch [63/100] Loss: 0.3578\n",
      "Epoch [63/100] Loss: 0.2332\n",
      "Epoch [63/100] Loss: 0.2689\n",
      "Epoch [63/100] Loss: 0.2246\n",
      "Epoch [63/100] Loss: 0.2655\n",
      "Epoch [63/100] Loss: 0.3054\n",
      "Epoch [63/100] Loss: 0.4825\n",
      "Epoch [63/100] Loss: 0.4119\n",
      "Epoch [63/100] Loss: 0.2231\n",
      "Epoch [63/100] Loss: 0.3723\n",
      "Epoch [63/100] Loss: 0.3161\n",
      "Epoch [63/100] Loss: 0.2400\n",
      "Epoch [63/100] Loss: 0.2350\n",
      "Epoch [63/100] Loss: 0.3397\n",
      "Epoch [63/100] Loss: 0.3095\n",
      "Epoch [63/100] Loss: 0.2009\n",
      "Epoch [63/100] Loss: 0.3367\n",
      "Epoch [63/100] Loss: 0.2310\n",
      "Epoch [63/100] Loss: 0.3262\n",
      "Epoch [63/100] Loss: 0.3669\n",
      "Epoch [63/100] Loss: 0.2083\n",
      "Epoch [63/100] Loss: 0.2744\n",
      "Epoch [63/100] Loss: 0.2813\n",
      "Epoch [63/100] Loss: 0.3170\n",
      "Epoch [63/100] Loss: 0.1639\n"
     ]
    },
    {
     "name": "stderr",
     "output_type": "stream",
     "text": [
      "654it [01:47,  6.07it/s]"
     ]
    },
    {
     "name": "stdout",
     "output_type": "stream",
     "text": [
      "Overall Acc: \t 0.582775398589\n",
      "Mean Acc : \t 0.490123958771\n",
      "FreqW Acc : \t 0.423872055811\n",
      "Mean IoU : \t 0.35945693604\n"
     ]
    },
    {
     "name": "stderr",
     "output_type": "stream",
     "text": [
      "\n"
     ]
    },
    {
     "name": "stdout",
     "output_type": "stream",
     "text": [
      "Epoch [64/100] Loss: 0.2340\n",
      "Epoch [64/100] Loss: 0.3885\n",
      "Epoch [64/100] Loss: 0.2207\n",
      "Epoch [64/100] Loss: 0.2827\n",
      "Epoch [64/100] Loss: 0.2741\n",
      "Epoch [64/100] Loss: 0.4149\n",
      "Epoch [64/100] Loss: 0.2735\n",
      "Epoch [64/100] Loss: 0.3745\n",
      "Epoch [64/100] Loss: 0.1996\n",
      "Epoch [64/100] Loss: 0.1720\n",
      "Epoch [64/100] Loss: 0.2847\n",
      "Epoch [64/100] Loss: 0.3957\n",
      "Epoch [64/100] Loss: 0.2902\n",
      "Epoch [64/100] Loss: 0.2660\n",
      "Epoch [64/100] Loss: 0.5478\n",
      "Epoch [64/100] Loss: 0.1665\n",
      "Epoch [64/100] Loss: 0.2347\n",
      "Epoch [64/100] Loss: 0.1584\n",
      "Epoch [64/100] Loss: 0.3177\n",
      "Epoch [64/100] Loss: 0.2632\n",
      "Epoch [64/100] Loss: 0.4278\n",
      "Epoch [64/100] Loss: 0.1934\n",
      "Epoch [64/100] Loss: 0.4594\n",
      "Epoch [64/100] Loss: 0.2333\n",
      "Epoch [64/100] Loss: 0.3870\n",
      "Epoch [64/100] Loss: 0.3089\n",
      "Epoch [64/100] Loss: 0.2423\n",
      "Epoch [64/100] Loss: 0.1099\n",
      "Epoch [64/100] Loss: 0.3506\n",
      "Epoch [64/100] Loss: 0.1907\n",
      "Epoch [64/100] Loss: 0.3786\n",
      "Epoch [64/100] Loss: 0.4472\n",
      "Epoch [64/100] Loss: 0.4035\n",
      "Epoch [64/100] Loss: 0.3005\n",
      "Epoch [64/100] Loss: 0.1601\n",
      "Epoch [64/100] Loss: 0.2042\n",
      "Epoch [64/100] Loss: 0.3555\n",
      "Epoch [64/100] Loss: 0.0983\n",
      "Epoch [64/100] Loss: 0.4176\n"
     ]
    },
    {
     "name": "stderr",
     "output_type": "stream",
     "text": [
      "654it [01:47,  6.07it/s]"
     ]
    },
    {
     "name": "stdout",
     "output_type": "stream",
     "text": [
      "Overall Acc: \t 0.591286822678\n",
      "Mean Acc : \t 0.496121602121\n",
      "FreqW Acc : \t 0.428517221099\n",
      "Mean IoU : \t 0.358572281765\n"
     ]
    },
    {
     "name": "stderr",
     "output_type": "stream",
     "text": [
      "\n"
     ]
    },
    {
     "name": "stdout",
     "output_type": "stream",
     "text": [
      "Epoch [65/100] Loss: 0.2406\n",
      "Epoch [65/100] Loss: 0.3192\n",
      "Epoch [65/100] Loss: 0.2789\n",
      "Epoch [65/100] Loss: 0.3947\n",
      "Epoch [65/100] Loss: 0.3518\n",
      "Epoch [65/100] Loss: 0.1740\n",
      "Epoch [65/100] Loss: 0.2740\n",
      "Epoch [65/100] Loss: 0.2398\n",
      "Epoch [65/100] Loss: 0.3441\n",
      "Epoch [65/100] Loss: 0.1718\n",
      "Epoch [65/100] Loss: 0.4489\n",
      "Epoch [65/100] Loss: 0.3897\n",
      "Epoch [65/100] Loss: 0.2969\n",
      "Epoch [65/100] Loss: 0.2149\n",
      "Epoch [65/100] Loss: 0.3443\n",
      "Epoch [65/100] Loss: 0.2096\n",
      "Epoch [65/100] Loss: 0.3144\n",
      "Epoch [65/100] Loss: 0.2708\n",
      "Epoch [65/100] Loss: 0.3453\n",
      "Epoch [65/100] Loss: 0.2719\n",
      "Epoch [65/100] Loss: 0.2627\n",
      "Epoch [65/100] Loss: 0.2391\n",
      "Epoch [65/100] Loss: 0.2391\n",
      "Epoch [65/100] Loss: 0.5570\n",
      "Epoch [65/100] Loss: 0.2764\n",
      "Epoch [65/100] Loss: 0.4122\n",
      "Epoch [65/100] Loss: 0.2487\n",
      "Epoch [65/100] Loss: 0.3997\n",
      "Epoch [65/100] Loss: 0.4888\n",
      "Epoch [65/100] Loss: 0.2271\n",
      "Epoch [65/100] Loss: 0.1620\n",
      "Epoch [65/100] Loss: 0.1901\n",
      "Epoch [65/100] Loss: 0.3117\n",
      "Epoch [65/100] Loss: 0.1873\n",
      "Epoch [65/100] Loss: 0.4331\n",
      "Epoch [65/100] Loss: 0.1198\n",
      "Epoch [65/100] Loss: 0.3028\n",
      "Epoch [65/100] Loss: 0.2163\n",
      "Epoch [65/100] Loss: 0.3285\n"
     ]
    },
    {
     "name": "stderr",
     "output_type": "stream",
     "text": [
      "654it [01:47,  6.09it/s]"
     ]
    },
    {
     "name": "stdout",
     "output_type": "stream",
     "text": [
      "Overall Acc: \t 0.583048248758\n",
      "Mean Acc : \t 0.489296838986\n",
      "FreqW Acc : \t 0.425220874694\n",
      "Mean IoU : \t 0.356506588506\n"
     ]
    },
    {
     "name": "stderr",
     "output_type": "stream",
     "text": [
      "\n"
     ]
    },
    {
     "name": "stdout",
     "output_type": "stream",
     "text": [
      "Epoch [66/100] Loss: 0.2847\n",
      "Epoch [66/100] Loss: 0.3750\n",
      "Epoch [66/100] Loss: 0.3940\n",
      "Epoch [66/100] Loss: 0.2979\n",
      "Epoch [66/100] Loss: 0.2485\n",
      "Epoch [66/100] Loss: 0.1717\n",
      "Epoch [66/100] Loss: 0.2556\n",
      "Epoch [66/100] Loss: 0.1917\n",
      "Epoch [66/100] Loss: 0.3599\n",
      "Epoch [66/100] Loss: 0.3037\n",
      "Epoch [66/100] Loss: 0.4069\n",
      "Epoch [66/100] Loss: 0.3535\n",
      "Epoch [66/100] Loss: 0.3435\n",
      "Epoch [66/100] Loss: 0.3619\n",
      "Epoch [66/100] Loss: 0.2430\n",
      "Epoch [66/100] Loss: 0.3188\n",
      "Epoch [66/100] Loss: 0.1692\n",
      "Epoch [66/100] Loss: 0.2465\n",
      "Epoch [66/100] Loss: 0.2662\n",
      "Epoch [66/100] Loss: 0.3200\n",
      "Epoch [66/100] Loss: 0.2019\n",
      "Epoch [66/100] Loss: 0.1847\n",
      "Epoch [66/100] Loss: 0.2453\n",
      "Epoch [66/100] Loss: 0.4263\n",
      "Epoch [66/100] Loss: 0.4490\n",
      "Epoch [66/100] Loss: 0.2621\n",
      "Epoch [66/100] Loss: 0.2429\n",
      "Epoch [66/100] Loss: 0.2245\n",
      "Epoch [66/100] Loss: 0.2208\n",
      "Epoch [66/100] Loss: 0.3612\n",
      "Epoch [66/100] Loss: 0.2456\n",
      "Epoch [66/100] Loss: 0.2378\n",
      "Epoch [66/100] Loss: 0.3107\n",
      "Epoch [66/100] Loss: 0.2056\n",
      "Epoch [66/100] Loss: 0.2378\n",
      "Epoch [66/100] Loss: 0.2477\n",
      "Epoch [66/100] Loss: 0.3968\n",
      "Epoch [66/100] Loss: 0.3008\n",
      "Epoch [66/100] Loss: 0.3212\n"
     ]
    },
    {
     "name": "stderr",
     "output_type": "stream",
     "text": [
      "654it [02:06,  5.15it/s]\n"
     ]
    },
    {
     "name": "stdout",
     "output_type": "stream",
     "text": [
      "Overall Acc: \t 0.579224175347\n",
      "Mean Acc : \t 0.478455541558\n",
      "FreqW Acc : \t 0.422942518313\n",
      "Mean IoU : \t 0.351089526199\n",
      "Epoch [67/100] Loss: 0.2372\n",
      "Epoch [67/100] Loss: 0.1718\n",
      "Epoch [67/100] Loss: 0.3266\n",
      "Epoch [67/100] Loss: 0.3025\n",
      "Epoch [67/100] Loss: 0.2938\n",
      "Epoch [67/100] Loss: 0.2423\n",
      "Epoch [67/100] Loss: 0.2597\n",
      "Epoch [67/100] Loss: 0.2699\n",
      "Epoch [67/100] Loss: 0.1642\n",
      "Epoch [67/100] Loss: 0.3085\n",
      "Epoch [67/100] Loss: 0.1988\n",
      "Epoch [67/100] Loss: 0.3959\n",
      "Epoch [67/100] Loss: 0.3983\n",
      "Epoch [67/100] Loss: 0.2599\n",
      "Epoch [67/100] Loss: 0.3376\n",
      "Epoch [67/100] Loss: 0.1964\n",
      "Epoch [67/100] Loss: 0.4755\n",
      "Epoch [67/100] Loss: 0.4340\n",
      "Epoch [67/100] Loss: 0.3375\n",
      "Epoch [67/100] Loss: 0.2247\n",
      "Epoch [67/100] Loss: 0.2758\n",
      "Epoch [67/100] Loss: 0.4195\n",
      "Epoch [67/100] Loss: 0.1749\n",
      "Epoch [67/100] Loss: 0.2676\n",
      "Epoch [67/100] Loss: 0.4067\n",
      "Epoch [67/100] Loss: 0.3686\n",
      "Epoch [67/100] Loss: 0.2422\n",
      "Epoch [67/100] Loss: 0.2511\n",
      "Epoch [67/100] Loss: 0.3402\n",
      "Epoch [67/100] Loss: 0.3200\n",
      "Epoch [67/100] Loss: 0.2737\n",
      "Epoch [67/100] Loss: 0.3056\n",
      "Epoch [67/100] Loss: 0.3094\n",
      "Epoch [67/100] Loss: 0.2899\n",
      "Epoch [67/100] Loss: 0.3770\n",
      "Epoch [67/100] Loss: 0.2911\n",
      "Epoch [67/100] Loss: 0.2159\n",
      "Epoch [67/100] Loss: 0.2082\n",
      "Epoch [67/100] Loss: 0.2597\n"
     ]
    },
    {
     "name": "stderr",
     "output_type": "stream",
     "text": [
      "654it [01:48,  6.03it/s]\n"
     ]
    },
    {
     "name": "stdout",
     "output_type": "stream",
     "text": [
      "Overall Acc: \t 0.575657382852\n",
      "Mean Acc : \t 0.479598664951\n",
      "FreqW Acc : \t 0.421481741577\n",
      "Mean IoU : \t 0.350248270508\n",
      "Epoch [68/100] Loss: 0.4046\n",
      "Epoch [68/100] Loss: 0.3523\n",
      "Epoch [68/100] Loss: 0.3792\n",
      "Epoch [68/100] Loss: 0.4330\n",
      "Epoch [68/100] Loss: 0.1728\n",
      "Epoch [68/100] Loss: 0.4408\n",
      "Epoch [68/100] Loss: 0.2694\n",
      "Epoch [68/100] Loss: 0.2918\n",
      "Epoch [68/100] Loss: 0.3626\n",
      "Epoch [68/100] Loss: 0.2974\n",
      "Epoch [68/100] Loss: 0.4286\n",
      "Epoch [68/100] Loss: 0.2119\n",
      "Epoch [68/100] Loss: 0.2023\n",
      "Epoch [68/100] Loss: 0.3053\n",
      "Epoch [68/100] Loss: 0.2531\n",
      "Epoch [68/100] Loss: 0.2853\n",
      "Epoch [68/100] Loss: 0.3457\n",
      "Epoch [68/100] Loss: 0.4547\n",
      "Epoch [68/100] Loss: 0.3057\n",
      "Epoch [68/100] Loss: 0.3004\n",
      "Epoch [68/100] Loss: 0.3872\n",
      "Epoch [68/100] Loss: 0.2624\n",
      "Epoch [68/100] Loss: 0.2979\n",
      "Epoch [68/100] Loss: 0.2512\n",
      "Epoch [68/100] Loss: 0.2397\n",
      "Epoch [68/100] Loss: 0.1850\n",
      "Epoch [68/100] Loss: 0.2360\n",
      "Epoch [68/100] Loss: 0.2950\n",
      "Epoch [68/100] Loss: 0.1711\n",
      "Epoch [68/100] Loss: 0.3221\n",
      "Epoch [68/100] Loss: 0.1672\n",
      "Epoch [68/100] Loss: 0.2604\n",
      "Epoch [68/100] Loss: 0.4324\n",
      "Epoch [68/100] Loss: 0.3946\n",
      "Epoch [68/100] Loss: 0.4030\n",
      "Epoch [68/100] Loss: 0.2252\n",
      "Epoch [68/100] Loss: 0.3443\n",
      "Epoch [68/100] Loss: 0.3503\n",
      "Epoch [68/100] Loss: 0.3613\n"
     ]
    },
    {
     "name": "stderr",
     "output_type": "stream",
     "text": [
      "654it [01:49,  5.95it/s]"
     ]
    },
    {
     "name": "stdout",
     "output_type": "stream",
     "text": [
      "Overall Acc: \t 0.584606303955\n",
      "Mean Acc : \t 0.504806188313\n",
      "FreqW Acc : \t 0.425297675756\n",
      "Mean IoU : \t 0.359994089534\n"
     ]
    },
    {
     "name": "stderr",
     "output_type": "stream",
     "text": [
      "\n"
     ]
    },
    {
     "name": "stdout",
     "output_type": "stream",
     "text": [
      "Epoch [69/100] Loss: 0.3501\n",
      "Epoch [69/100] Loss: 0.2839\n",
      "Epoch [69/100] Loss: 0.2184\n",
      "Epoch [69/100] Loss: 0.2178\n",
      "Epoch [69/100] Loss: 0.2256\n",
      "Epoch [69/100] Loss: 0.3721\n",
      "Epoch [69/100] Loss: 0.2540\n",
      "Epoch [69/100] Loss: 0.2752\n",
      "Epoch [69/100] Loss: 0.3068\n",
      "Epoch [69/100] Loss: 0.2494\n",
      "Epoch [69/100] Loss: 0.2124\n",
      "Epoch [69/100] Loss: 0.3830\n",
      "Epoch [69/100] Loss: 0.6755\n",
      "Epoch [69/100] Loss: 0.2795\n",
      "Epoch [69/100] Loss: 0.2563\n",
      "Epoch [69/100] Loss: 0.2028\n",
      "Epoch [69/100] Loss: 0.3990\n",
      "Epoch [69/100] Loss: 0.1625\n",
      "Epoch [69/100] Loss: 0.2954\n",
      "Epoch [69/100] Loss: 0.3653\n",
      "Epoch [69/100] Loss: 0.3710\n",
      "Epoch [69/100] Loss: 0.4193\n",
      "Epoch [69/100] Loss: 0.1667\n",
      "Epoch [69/100] Loss: 0.2472\n",
      "Epoch [69/100] Loss: 0.3033\n",
      "Epoch [69/100] Loss: 0.2678\n",
      "Epoch [69/100] Loss: 0.3652\n",
      "Epoch [69/100] Loss: 0.2335\n",
      "Epoch [69/100] Loss: 0.3449\n",
      "Epoch [69/100] Loss: 0.1662\n",
      "Epoch [69/100] Loss: 0.4456\n",
      "Epoch [69/100] Loss: 0.1768\n",
      "Epoch [69/100] Loss: 0.2247\n",
      "Epoch [69/100] Loss: 0.2227\n",
      "Epoch [69/100] Loss: 0.3090\n",
      "Epoch [69/100] Loss: 0.3614\n",
      "Epoch [69/100] Loss: 0.2321\n",
      "Epoch [69/100] Loss: 0.1999\n",
      "Epoch [69/100] Loss: 0.2179\n"
     ]
    },
    {
     "name": "stderr",
     "output_type": "stream",
     "text": [
      "654it [01:49,  5.96it/s]"
     ]
    },
    {
     "name": "stdout",
     "output_type": "stream",
     "text": [
      "Overall Acc: \t 0.587049860434\n",
      "Mean Acc : \t 0.481393668709\n",
      "FreqW Acc : \t 0.426233228224\n",
      "Mean IoU : \t 0.3550017122\n"
     ]
    },
    {
     "name": "stderr",
     "output_type": "stream",
     "text": [
      "\n"
     ]
    },
    {
     "name": "stdout",
     "output_type": "stream",
     "text": [
      "Epoch [70/100] Loss: 0.3376\n",
      "Epoch [70/100] Loss: 0.2784\n",
      "Epoch [70/100] Loss: 0.2728\n",
      "Epoch [70/100] Loss: 0.2631\n",
      "Epoch [70/100] Loss: 0.3310\n",
      "Epoch [70/100] Loss: 0.2153\n",
      "Epoch [70/100] Loss: 0.2043\n",
      "Epoch [70/100] Loss: 0.2309\n",
      "Epoch [70/100] Loss: 0.2981\n",
      "Epoch [70/100] Loss: 0.2697\n",
      "Epoch [70/100] Loss: 0.2481\n",
      "Epoch [70/100] Loss: 0.3313\n",
      "Epoch [70/100] Loss: 0.2480\n",
      "Epoch [70/100] Loss: 0.1818\n",
      "Epoch [70/100] Loss: 0.4067\n",
      "Epoch [70/100] Loss: 0.2237\n"
     ]
    },
    {
     "name": "stderr",
     "output_type": "stream",
     "text": [
      "Exception ignored in: <bound method DataLoaderIter.__del__ of <torch.utils.data.dataloader.DataLoaderIter object at 0x7efec4f22cc0>>\n",
      "Traceback (most recent call last):\n",
      "  File \"/home/dongwonshin/.conda/envs/pytorch/lib/python3.6/site-packages/torch/utils/data/dataloader.py\", line 333, in __del__\n",
      "    self._shutdown_workers()\n",
      "  File \"/home/dongwonshin/.conda/envs/pytorch/lib/python3.6/site-packages/torch/utils/data/dataloader.py\", line 319, in _shutdown_workers\n",
      "    self.data_queue.get()\n",
      "  File \"/home/dongwonshin/.conda/envs/pytorch/lib/python3.6/multiprocessing/queues.py\", line 337, in get\n",
      "Process Process-2218:\n",
      "    return _ForkingPickler.loads(res)\n",
      "  File \"/home/dongwonshin/.conda/envs/pytorch/lib/python3.6/site-packages/torch/multiprocessing/reductions.py\", line 70, in rebuild_storage_fd\n",
      "    fd = df.detach()\n",
      "  File \"/home/dongwonshin/.conda/envs/pytorch/lib/python3.6/multiprocessing/resource_sharer.py\", line 57, in detach\n",
      "    with _resource_sharer.get_connection(self._id) as conn:\n",
      "  File \"/home/dongwonshin/.conda/envs/pytorch/lib/python3.6/multiprocessing/resource_sharer.py\", line 87, in get_connection\n",
      "    c = Client(address, authkey=process.current_process().authkey)\n",
      "  File \"/home/dongwonshin/.conda/envs/pytorch/lib/python3.6/multiprocessing/connection.py\", line 487, in Client\n",
      "    c = SocketClient(address)\n",
      "  File \"/home/dongwonshin/.conda/envs/pytorch/lib/python3.6/multiprocessing/connection.py\", line 614, in SocketClient\n",
      "    s.connect(address)\n",
      "FileNotFoundError: [Errno 2] No such file or directory\n",
      "Process Process-2209:\n",
      "Process Process-2215:\n",
      "Process Process-2212:\n",
      "Process Process-2220:\n",
      "Process Process-2216:\n",
      "Process Process-2221:\n",
      "Process Process-2222:\n",
      "Process Process-2224:\n",
      "Process Process-2217:\n",
      "Process Process-2223:\n",
      "Process Process-2210:\n",
      "Process Process-2213:\n",
      "Process Process-2211:\n",
      "Process Process-2219:\n",
      "Traceback (most recent call last):\n",
      "  File \"/home/dongwonshin/.conda/envs/pytorch/lib/python3.6/multiprocessing/process.py\", line 258, in _bootstrap\n",
      "    self.run()\n",
      "  File \"/home/dongwonshin/.conda/envs/pytorch/lib/python3.6/multiprocessing/process.py\", line 93, in run\n",
      "    self._target(*self._args, **self._kwargs)\n",
      "  File \"/home/dongwonshin/.conda/envs/pytorch/lib/python3.6/site-packages/torch/utils/data/dataloader.py\", line 50, in _worker_loop\n",
      "    r = index_queue.get()\n",
      "  File \"/home/dongwonshin/.conda/envs/pytorch/lib/python3.6/multiprocessing/queues.py\", line 335, in get\n",
      "    res = self._reader.recv_bytes()\n",
      "  File \"/home/dongwonshin/.conda/envs/pytorch/lib/python3.6/multiprocessing/connection.py\", line 216, in recv_bytes\n",
      "    buf = self._recv_bytes(maxlength)\n",
      "  File \"/home/dongwonshin/.conda/envs/pytorch/lib/python3.6/multiprocessing/connection.py\", line 407, in _recv_bytes\n",
      "    buf = self._recv(4)\n",
      "  File \"/home/dongwonshin/.conda/envs/pytorch/lib/python3.6/multiprocessing/connection.py\", line 379, in _recv\n",
      "    chunk = read(handle, remaining)\n",
      "KeyboardInterrupt\n",
      "Traceback (most recent call last):\n",
      "Traceback (most recent call last):\n",
      "Traceback (most recent call last):\n",
      "Traceback (most recent call last):\n",
      "Traceback (most recent call last):\n",
      "Traceback (most recent call last):\n",
      "Traceback (most recent call last):\n",
      "Traceback (most recent call last):\n",
      "Traceback (most recent call last):\n",
      "Traceback (most recent call last):\n",
      "Traceback (most recent call last):\n",
      "  File \"/home/dongwonshin/.conda/envs/pytorch/lib/python3.6/multiprocessing/process.py\", line 258, in _bootstrap\n",
      "    self.run()\n",
      "Traceback (most recent call last):\n",
      "Traceback (most recent call last):\n",
      "Traceback (most recent call last):\n",
      "  File \"/home/dongwonshin/.conda/envs/pytorch/lib/python3.6/multiprocessing/process.py\", line 258, in _bootstrap\n",
      "    self.run()\n",
      "  File \"/home/dongwonshin/.conda/envs/pytorch/lib/python3.6/multiprocessing/process.py\", line 258, in _bootstrap\n",
      "    self.run()\n",
      "  File \"/home/dongwonshin/.conda/envs/pytorch/lib/python3.6/multiprocessing/process.py\", line 258, in _bootstrap\n",
      "    self.run()\n",
      "  File \"/home/dongwonshin/.conda/envs/pytorch/lib/python3.6/multiprocessing/process.py\", line 258, in _bootstrap\n",
      "    self.run()\n",
      "  File \"/home/dongwonshin/.conda/envs/pytorch/lib/python3.6/multiprocessing/process.py\", line 258, in _bootstrap\n",
      "    self.run()\n",
      "  File \"/home/dongwonshin/.conda/envs/pytorch/lib/python3.6/multiprocessing/process.py\", line 258, in _bootstrap\n",
      "    self.run()\n",
      "  File \"/home/dongwonshin/.conda/envs/pytorch/lib/python3.6/multiprocessing/process.py\", line 93, in run\n",
      "    self._target(*self._args, **self._kwargs)\n",
      "  File \"/home/dongwonshin/.conda/envs/pytorch/lib/python3.6/multiprocessing/process.py\", line 258, in _bootstrap\n",
      "    self.run()\n",
      "  File \"/home/dongwonshin/.conda/envs/pytorch/lib/python3.6/multiprocessing/process.py\", line 258, in _bootstrap\n",
      "    self.run()\n",
      "  File \"/home/dongwonshin/.conda/envs/pytorch/lib/python3.6/multiprocessing/process.py\", line 258, in _bootstrap\n",
      "    self.run()\n",
      "  File \"/home/dongwonshin/.conda/envs/pytorch/lib/python3.6/multiprocessing/process.py\", line 258, in _bootstrap\n",
      "    self.run()\n",
      "  File \"/home/dongwonshin/.conda/envs/pytorch/lib/python3.6/multiprocessing/process.py\", line 258, in _bootstrap\n",
      "    self.run()\n",
      "  File \"/home/dongwonshin/.conda/envs/pytorch/lib/python3.6/multiprocessing/process.py\", line 258, in _bootstrap\n",
      "    self.run()\n",
      "  File \"/home/dongwonshin/.conda/envs/pytorch/lib/python3.6/multiprocessing/process.py\", line 93, in run\n",
      "    self._target(*self._args, **self._kwargs)\n",
      "  File \"/home/dongwonshin/.conda/envs/pytorch/lib/python3.6/multiprocessing/process.py\", line 93, in run\n",
      "    self._target(*self._args, **self._kwargs)\n",
      "  File \"/home/dongwonshin/.conda/envs/pytorch/lib/python3.6/multiprocessing/process.py\", line 258, in _bootstrap\n",
      "    self.run()\n",
      "  File \"/home/dongwonshin/.conda/envs/pytorch/lib/python3.6/multiprocessing/process.py\", line 93, in run\n",
      "    self._target(*self._args, **self._kwargs)\n",
      "  File \"/home/dongwonshin/.conda/envs/pytorch/lib/python3.6/site-packages/torch/utils/data/dataloader.py\", line 50, in _worker_loop\n",
      "    r = index_queue.get()\n",
      "  File \"/home/dongwonshin/.conda/envs/pytorch/lib/python3.6/multiprocessing/process.py\", line 93, in run\n",
      "    self._target(*self._args, **self._kwargs)\n",
      "  File \"/home/dongwonshin/.conda/envs/pytorch/lib/python3.6/multiprocessing/process.py\", line 93, in run\n",
      "    self._target(*self._args, **self._kwargs)\n",
      "  File \"/home/dongwonshin/.conda/envs/pytorch/lib/python3.6/multiprocessing/process.py\", line 93, in run\n",
      "    self._target(*self._args, **self._kwargs)\n",
      "  File \"/home/dongwonshin/.conda/envs/pytorch/lib/python3.6/multiprocessing/process.py\", line 93, in run\n",
      "    self._target(*self._args, **self._kwargs)\n",
      "  File \"/home/dongwonshin/.conda/envs/pytorch/lib/python3.6/multiprocessing/process.py\", line 93, in run\n",
      "    self._target(*self._args, **self._kwargs)\n",
      "  File \"/home/dongwonshin/.conda/envs/pytorch/lib/python3.6/multiprocessing/process.py\", line 93, in run\n",
      "    self._target(*self._args, **self._kwargs)\n",
      "  File \"/home/dongwonshin/.conda/envs/pytorch/lib/python3.6/multiprocessing/process.py\", line 93, in run\n",
      "    self._target(*self._args, **self._kwargs)\n",
      "  File \"/home/dongwonshin/.conda/envs/pytorch/lib/python3.6/site-packages/torch/utils/data/dataloader.py\", line 50, in _worker_loop\n",
      "    r = index_queue.get()\n",
      "  File \"/home/dongwonshin/.conda/envs/pytorch/lib/python3.6/multiprocessing/process.py\", line 93, in run\n",
      "    self._target(*self._args, **self._kwargs)\n",
      "  File \"/home/dongwonshin/.conda/envs/pytorch/lib/python3.6/site-packages/torch/utils/data/dataloader.py\", line 50, in _worker_loop\n",
      "    r = index_queue.get()\n",
      "  File \"/home/dongwonshin/.conda/envs/pytorch/lib/python3.6/multiprocessing/queues.py\", line 334, in get\n",
      "    with self._rlock:\n",
      "  File \"/home/dongwonshin/.conda/envs/pytorch/lib/python3.6/multiprocessing/process.py\", line 93, in run\n",
      "    self._target(*self._args, **self._kwargs)\n",
      "  File \"/home/dongwonshin/.conda/envs/pytorch/lib/python3.6/multiprocessing/process.py\", line 93, in run\n",
      "    self._target(*self._args, **self._kwargs)\n",
      "  File \"/home/dongwonshin/.conda/envs/pytorch/lib/python3.6/site-packages/torch/utils/data/dataloader.py\", line 50, in _worker_loop\n",
      "    r = index_queue.get()\n",
      "  File \"/home/dongwonshin/.conda/envs/pytorch/lib/python3.6/site-packages/torch/utils/data/dataloader.py\", line 50, in _worker_loop\n",
      "    r = index_queue.get()\n",
      "  File \"/home/dongwonshin/.conda/envs/pytorch/lib/python3.6/site-packages/torch/utils/data/dataloader.py\", line 50, in _worker_loop\n",
      "    r = index_queue.get()\n",
      "  File \"/home/dongwonshin/.conda/envs/pytorch/lib/python3.6/site-packages/torch/utils/data/dataloader.py\", line 50, in _worker_loop\n",
      "    r = index_queue.get()\n",
      "  File \"/home/dongwonshin/.conda/envs/pytorch/lib/python3.6/site-packages/torch/utils/data/dataloader.py\", line 50, in _worker_loop\n",
      "    r = index_queue.get()\n",
      "  File \"/home/dongwonshin/.conda/envs/pytorch/lib/python3.6/site-packages/torch/utils/data/dataloader.py\", line 50, in _worker_loop\n",
      "    r = index_queue.get()\n",
      "  File \"/home/dongwonshin/.conda/envs/pytorch/lib/python3.6/multiprocessing/synchronize.py\", line 96, in __enter__\n",
      "    return self._semlock.__enter__()\n",
      "  File \"/home/dongwonshin/.conda/envs/pytorch/lib/python3.6/multiprocessing/queues.py\", line 334, in get\n",
      "    with self._rlock:\n",
      "  File \"/home/dongwonshin/.conda/envs/pytorch/lib/python3.6/multiprocessing/queues.py\", line 334, in get\n",
      "    with self._rlock:\n",
      "  File \"/home/dongwonshin/.conda/envs/pytorch/lib/python3.6/site-packages/torch/utils/data/dataloader.py\", line 50, in _worker_loop\n",
      "    r = index_queue.get()\n",
      "  File \"/home/dongwonshin/.conda/envs/pytorch/lib/python3.6/site-packages/torch/utils/data/dataloader.py\", line 50, in _worker_loop\n",
      "    r = index_queue.get()\n",
      "  File \"/home/dongwonshin/.conda/envs/pytorch/lib/python3.6/site-packages/torch/utils/data/dataloader.py\", line 50, in _worker_loop\n",
      "    r = index_queue.get()\n",
      "  File \"/home/dongwonshin/.conda/envs/pytorch/lib/python3.6/multiprocessing/queues.py\", line 334, in get\n",
      "    with self._rlock:\n",
      "  File \"/home/dongwonshin/.conda/envs/pytorch/lib/python3.6/site-packages/torch/utils/data/dataloader.py\", line 50, in _worker_loop\n",
      "    r = index_queue.get()\n",
      "  File \"/home/dongwonshin/.conda/envs/pytorch/lib/python3.6/multiprocessing/queues.py\", line 334, in get\n",
      "    with self._rlock:\n",
      "  File \"/home/dongwonshin/.conda/envs/pytorch/lib/python3.6/multiprocessing/queues.py\", line 334, in get\n",
      "    with self._rlock:\n",
      "  File \"/home/dongwonshin/.conda/envs/pytorch/lib/python3.6/multiprocessing/queues.py\", line 334, in get\n",
      "    with self._rlock:\n",
      "  File \"/home/dongwonshin/.conda/envs/pytorch/lib/python3.6/multiprocessing/queues.py\", line 334, in get\n",
      "    with self._rlock:\n",
      "  File \"/home/dongwonshin/.conda/envs/pytorch/lib/python3.6/multiprocessing/queues.py\", line 334, in get\n",
      "    with self._rlock:\n",
      "  File \"/home/dongwonshin/.conda/envs/pytorch/lib/python3.6/multiprocessing/synchronize.py\", line 96, in __enter__\n",
      "    return self._semlock.__enter__()\n",
      "  File \"/home/dongwonshin/.conda/envs/pytorch/lib/python3.6/multiprocessing/synchronize.py\", line 96, in __enter__\n",
      "    return self._semlock.__enter__()\n",
      "KeyboardInterrupt\n",
      "  File \"/home/dongwonshin/.conda/envs/pytorch/lib/python3.6/multiprocessing/queues.py\", line 334, in get\n",
      "    with self._rlock:\n",
      "  File \"/home/dongwonshin/.conda/envs/pytorch/lib/python3.6/multiprocessing/synchronize.py\", line 96, in __enter__\n",
      "    return self._semlock.__enter__()\n",
      "  File \"/home/dongwonshin/.conda/envs/pytorch/lib/python3.6/multiprocessing/queues.py\", line 334, in get\n",
      "    with self._rlock:\n",
      "  File \"/home/dongwonshin/.conda/envs/pytorch/lib/python3.6/multiprocessing/queues.py\", line 334, in get\n",
      "    with self._rlock:\n",
      "  File \"/home/dongwonshin/.conda/envs/pytorch/lib/python3.6/multiprocessing/queues.py\", line 334, in get\n",
      "    with self._rlock:\n",
      "  File \"/home/dongwonshin/.conda/envs/pytorch/lib/python3.6/site-packages/torch/utils/data/dataloader.py\", line 50, in _worker_loop\n",
      "    r = index_queue.get()\n",
      "  File \"/home/dongwonshin/.conda/envs/pytorch/lib/python3.6/multiprocessing/synchronize.py\", line 96, in __enter__\n",
      "    return self._semlock.__enter__()\n",
      "  File \"/home/dongwonshin/.conda/envs/pytorch/lib/python3.6/multiprocessing/synchronize.py\", line 96, in __enter__\n",
      "    return self._semlock.__enter__()\n",
      "  File \"/home/dongwonshin/.conda/envs/pytorch/lib/python3.6/multiprocessing/synchronize.py\", line 96, in __enter__\n",
      "    return self._semlock.__enter__()\n",
      "  File \"/home/dongwonshin/.conda/envs/pytorch/lib/python3.6/multiprocessing/synchronize.py\", line 96, in __enter__\n",
      "    return self._semlock.__enter__()\n",
      "  File \"/home/dongwonshin/.conda/envs/pytorch/lib/python3.6/multiprocessing/synchronize.py\", line 96, in __enter__\n",
      "    return self._semlock.__enter__()\n",
      "KeyboardInterrupt\n",
      "KeyboardInterrupt\n",
      "KeyboardInterrupt\n",
      "  File \"/home/dongwonshin/.conda/envs/pytorch/lib/python3.6/multiprocessing/synchronize.py\", line 96, in __enter__\n",
      "    return self._semlock.__enter__()\n",
      "  File \"/home/dongwonshin/.conda/envs/pytorch/lib/python3.6/multiprocessing/synchronize.py\", line 96, in __enter__\n",
      "    return self._semlock.__enter__()\n",
      "  File \"/home/dongwonshin/.conda/envs/pytorch/lib/python3.6/multiprocessing/synchronize.py\", line 96, in __enter__\n",
      "    return self._semlock.__enter__()\n",
      "  File \"/home/dongwonshin/.conda/envs/pytorch/lib/python3.6/multiprocessing/synchronize.py\", line 96, in __enter__\n",
      "    return self._semlock.__enter__()\n",
      "  File \"/home/dongwonshin/.conda/envs/pytorch/lib/python3.6/multiprocessing/queues.py\", line 334, in get\n",
      "    with self._rlock:\n",
      "KeyboardInterrupt\n",
      "KeyboardInterrupt\n",
      "KeyboardInterrupt\n",
      "KeyboardInterrupt\n",
      "KeyboardInterrupt\n",
      "KeyboardInterrupt\n",
      "KeyboardInterrupt\n",
      "KeyboardInterrupt\n",
      "  File \"/home/dongwonshin/.conda/envs/pytorch/lib/python3.6/multiprocessing/synchronize.py\", line 96, in __enter__\n",
      "    return self._semlock.__enter__()\n",
      "KeyboardInterrupt\n",
      "KeyboardInterrupt\n"
     ]
    }
   ],
   "source": [
    "best_iou = -100.0 \n",
    "for epoch in range(args.n_epoch):\n",
    "    model.train()\n",
    "    for i, (color_imgs, depth_imgs, label_imgs) in enumerate(trainloader):\n",
    "        images = Variable(color_imgs.cuda())\n",
    "        depth_images = Variable(depth_imgs.cuda())\n",
    "        labels = Variable(label_imgs.cuda())\n",
    "\n",
    "        optimizer.zero_grad()\n",
    "        outputs = model(images,depth_images)\n",
    "\n",
    "        loss = loss_fn(input=outputs, target=labels)\n",
    "\n",
    "        loss.backward()\n",
    "        optimizer.step()\n",
    "\n",
    "        if args.visdom:\n",
    "            vis.line(\n",
    "                X=torch.ones((1, 1)).cpu() * i,\n",
    "                Y=torch.Tensor([loss.data[0]]).unsqueeze(0).cpu(),\n",
    "                win=loss_window,\n",
    "                update='append')\n",
    "\n",
    "        if (i+1) % 20 == 0:\n",
    "            print(\"Epoch [%d/%d] Loss: %.4f\" % (epoch+1, args.n_epoch, loss.data[0]))\n",
    "\n",
    "    model.eval()\n",
    "    for i_val, (color_images_val, depth_images_val, label_images_val) in tqdm(enumerate(valloader)):\n",
    "        color_images_val = Variable(color_images_val.cuda(), volatile=True)\n",
    "        depth_images_val = Variable(depth_images_val.cuda(), volatile=True)\n",
    "        label_images_val = Variable(label_images_val.cuda(), volatile=True)\n",
    "\n",
    "        outputs = model(color_images_val, depth_images_val)\n",
    "        pred = outputs.data.max(1)[1].cpu().numpy()\n",
    "        gt = label_images_val.data.cpu().numpy()\n",
    "        running_metrics.update(gt, pred)\n",
    "\n",
    "    score, class_iou = running_metrics.get_scores()\n",
    "    for k, v in score.items():\n",
    "        print(k, v)\n",
    "    running_metrics.reset()\n",
    "\n",
    "    if score['Mean IoU : \\t'] >= best_iou:\n",
    "        best_iou = score['Mean IoU : \\t']\n",
    "        state = {'epoch': epoch+1,\n",
    "                 'model_state': model.state_dict(),\n",
    "                 'optimizer_state' : optimizer.state_dict(),}\n",
    "        torch.save(state, \"../model_weights/{}_{}_best_model.pkl\".format(args.arch, 'NYUDv2'))"
   ]
  },
  {
   "cell_type": "markdown",
   "metadata": {},
   "source": [
    "# Training.. fcn8s_rgbd_renet_maskedconv on NYUDv2"
   ]
  },
  {
   "cell_type": "markdown",
   "metadata": {},
   "source": [
    "# 30 iterations to go"
   ]
  },
  {
   "cell_type": "code",
   "execution_count": null,
   "metadata": {},
   "outputs": [],
   "source": []
  }
 ],
 "metadata": {
  "kernelspec": {
   "display_name": "Python [conda env:pytorch]",
   "language": "python",
   "name": "conda-env-pytorch-py"
  },
  "language_info": {
   "codemirror_mode": {
    "name": "ipython",
    "version": 3
   },
   "file_extension": ".py",
   "mimetype": "text/x-python",
   "name": "python",
   "nbconvert_exporter": "python",
   "pygments_lexer": "ipython3",
   "version": "3.6.3"
  }
 },
 "nbformat": 4,
 "nbformat_minor": 2
}
