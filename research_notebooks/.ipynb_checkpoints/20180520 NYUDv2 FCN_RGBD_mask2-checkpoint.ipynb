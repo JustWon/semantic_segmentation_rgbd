{
 "cells": [
  {
   "cell_type": "markdown",
   "metadata": {},
   "source": [
    "## 2018년 05월 20일 20시 59분 30초에 추가 ##\n",
    "- Training FCN_RGBD_mask2 on NYUDv2"
   ]
  },
  {
   "cell_type": "code",
   "execution_count": 1,
   "metadata": {},
   "outputs": [
    {
     "name": "stderr",
     "output_type": "stream",
     "text": [
      "/home/dongwonshin/.conda/envs/pytorch/lib/python3.6/site-packages/torch/nn/functional.py:1462: UserWarning: nn.functional.upsample_bilinear is deprecated. Use nn.functional.upsample instead.\n",
      "  warnings.warn(\"nn.functional.upsample_bilinear is deprecated. Use nn.functional.upsample instead.\")\n"
     ]
    },
    {
     "name": "stdout",
     "output_type": "stream",
     "text": [
      "Epoch [1/50] Loss: 2.1050\n",
      "Epoch [1/50] Loss: 1.8151\n"
     ]
    },
    {
     "name": "stderr",
     "output_type": "stream",
     "text": [
      "218it [01:07,  3.24it/s]\n"
     ]
    },
    {
     "name": "stdout",
     "output_type": "stream",
     "text": [
      "Overall Acc: \t 0.367175509485\n",
      "Mean Acc : \t 0.14815753269\n",
      "FreqW Acc : \t 0.188815915861\n",
      "Mean IoU : \t 0.0802334436509\n",
      "Epoch [2/50] Loss: 1.4329\n",
      "Epoch [2/50] Loss: 1.6819\n"
     ]
    },
    {
     "name": "stderr",
     "output_type": "stream",
     "text": [
      "218it [01:07,  3.24it/s]\n"
     ]
    },
    {
     "name": "stdout",
     "output_type": "stream",
     "text": [
      "Overall Acc: \t 0.439841251354\n",
      "Mean Acc : \t 0.217610867306\n",
      "FreqW Acc : \t 0.265896883647\n",
      "Mean IoU : \t 0.138202617432\n",
      "Epoch [3/50] Loss: 1.5426\n",
      "Epoch [3/50] Loss: 1.7475\n"
     ]
    },
    {
     "name": "stderr",
     "output_type": "stream",
     "text": [
      "218it [01:07,  3.25it/s]\n"
     ]
    },
    {
     "name": "stdout",
     "output_type": "stream",
     "text": [
      "Overall Acc: \t 0.464402763841\n",
      "Mean Acc : \t 0.250245846528\n",
      "FreqW Acc : \t 0.285676883181\n",
      "Mean IoU : \t 0.157501207922\n",
      "Epoch [4/50] Loss: 1.5661\n",
      "Epoch [4/50] Loss: 1.4409\n"
     ]
    },
    {
     "name": "stderr",
     "output_type": "stream",
     "text": [
      "218it [01:07,  3.25it/s]\n"
     ]
    },
    {
     "name": "stdout",
     "output_type": "stream",
     "text": [
      "Overall Acc: \t 0.481362080705\n",
      "Mean Acc : \t 0.276989966128\n",
      "FreqW Acc : \t 0.308337366902\n",
      "Mean IoU : \t 0.177562169545\n",
      "Epoch [5/50] Loss: 1.1616\n",
      "Epoch [5/50] Loss: 1.1982\n"
     ]
    },
    {
     "name": "stderr",
     "output_type": "stream",
     "text": [
      "218it [01:07,  3.24it/s]\n"
     ]
    },
    {
     "name": "stdout",
     "output_type": "stream",
     "text": [
      "Overall Acc: \t 0.494645938854\n",
      "Mean Acc : \t 0.30176394617\n",
      "FreqW Acc : \t 0.325940366522\n",
      "Mean IoU : \t 0.196088996226\n",
      "Epoch [6/50] Loss: 1.2179\n",
      "Epoch [6/50] Loss: 1.0565\n"
     ]
    },
    {
     "name": "stderr",
     "output_type": "stream",
     "text": [
      "218it [01:06,  3.30it/s]\n"
     ]
    },
    {
     "name": "stdout",
     "output_type": "stream",
     "text": [
      "Overall Acc: \t 0.508248668052\n",
      "Mean Acc : \t 0.311146761882\n",
      "FreqW Acc : \t 0.334907182171\n",
      "Mean IoU : \t 0.205701735905\n",
      "Epoch [7/50] Loss: 1.1388\n",
      "Epoch [7/50] Loss: 1.0511\n"
     ]
    },
    {
     "name": "stderr",
     "output_type": "stream",
     "text": [
      "218it [01:06,  3.30it/s]\n"
     ]
    },
    {
     "name": "stdout",
     "output_type": "stream",
     "text": [
      "Overall Acc: \t 0.515476410192\n",
      "Mean Acc : \t 0.334327987123\n",
      "FreqW Acc : \t 0.347464995949\n",
      "Mean IoU : \t 0.222118930996\n",
      "Epoch [8/50] Loss: 1.1902\n",
      "Epoch [8/50] Loss: 1.1196\n"
     ]
    },
    {
     "name": "stderr",
     "output_type": "stream",
     "text": [
      "218it [01:06,  3.30it/s]\n"
     ]
    },
    {
     "name": "stdout",
     "output_type": "stream",
     "text": [
      "Overall Acc: \t 0.526036883402\n",
      "Mean Acc : \t 0.347328459738\n",
      "FreqW Acc : \t 0.356835233331\n",
      "Mean IoU : \t 0.236231327797\n",
      "Epoch [9/50] Loss: 1.3373\n",
      "Epoch [9/50] Loss: 1.1029\n"
     ]
    },
    {
     "name": "stderr",
     "output_type": "stream",
     "text": [
      "218it [01:07,  3.24it/s]\n"
     ]
    },
    {
     "name": "stdout",
     "output_type": "stream",
     "text": [
      "Overall Acc: \t 0.533168273366\n",
      "Mean Acc : \t 0.354200889736\n",
      "FreqW Acc : \t 0.362897386856\n",
      "Mean IoU : \t 0.243247776264\n",
      "Epoch [10/50] Loss: 1.0455\n",
      "Epoch [10/50] Loss: 0.8009\n"
     ]
    },
    {
     "name": "stderr",
     "output_type": "stream",
     "text": [
      "218it [01:07,  3.23it/s]\n"
     ]
    },
    {
     "name": "stdout",
     "output_type": "stream",
     "text": [
      "Overall Acc: \t 0.536721646837\n",
      "Mean Acc : \t 0.362373522984\n",
      "FreqW Acc : \t 0.367880209715\n",
      "Mean IoU : \t 0.248670336235\n",
      "Epoch [11/50] Loss: 1.1895\n",
      "Epoch [11/50] Loss: 1.0398\n"
     ]
    },
    {
     "name": "stderr",
     "output_type": "stream",
     "text": [
      "218it [01:07,  3.23it/s]\n"
     ]
    },
    {
     "name": "stdout",
     "output_type": "stream",
     "text": [
      "Overall Acc: \t 0.536066080729\n",
      "Mean Acc : \t 0.360617142637\n",
      "FreqW Acc : \t 0.369484330342\n",
      "Mean IoU : \t 0.249102178585\n",
      "Epoch [12/50] Loss: 0.7107\n",
      "Epoch [12/50] Loss: 1.0610\n"
     ]
    },
    {
     "name": "stderr",
     "output_type": "stream",
     "text": [
      "218it [01:07,  3.24it/s]\n"
     ]
    },
    {
     "name": "stdout",
     "output_type": "stream",
     "text": [
      "Overall Acc: \t 0.546698133681\n",
      "Mean Acc : \t 0.380638642896\n",
      "FreqW Acc : \t 0.376729298504\n",
      "Mean IoU : \t 0.265432118275\n",
      "Epoch [13/50] Loss: 1.4279\n",
      "Epoch [13/50] Loss: 0.9821\n"
     ]
    },
    {
     "name": "stderr",
     "output_type": "stream",
     "text": [
      "218it [01:07,  3.23it/s]\n"
     ]
    },
    {
     "name": "stdout",
     "output_type": "stream",
     "text": [
      "Overall Acc: \t 0.546342086559\n",
      "Mean Acc : \t 0.397452844943\n",
      "FreqW Acc : \t 0.382089570892\n",
      "Mean IoU : \t 0.274531982305\n",
      "Epoch [14/50] Loss: 1.2042\n",
      "Epoch [14/50] Loss: 1.1590\n"
     ]
    },
    {
     "name": "stderr",
     "output_type": "stream",
     "text": [
      "218it [01:07,  3.23it/s]\n"
     ]
    },
    {
     "name": "stdout",
     "output_type": "stream",
     "text": [
      "Overall Acc: \t 0.555132353585\n",
      "Mean Acc : \t 0.394912041407\n",
      "FreqW Acc : \t 0.390003486025\n",
      "Mean IoU : \t 0.283961921368\n",
      "Epoch [15/50] Loss: 0.8858\n",
      "Epoch [15/50] Loss: 0.8533\n"
     ]
    },
    {
     "name": "stderr",
     "output_type": "stream",
     "text": [
      "218it [01:07,  3.23it/s]"
     ]
    },
    {
     "name": "stdout",
     "output_type": "stream",
     "text": [
      "Overall Acc: \t 0.554912114352\n",
      "Mean Acc : \t 0.387138610525\n",
      "FreqW Acc : \t 0.384998317188\n",
      "Mean IoU : \t 0.277113690982\n"
     ]
    },
    {
     "name": "stderr",
     "output_type": "stream",
     "text": [
      "\n"
     ]
    },
    {
     "name": "stdout",
     "output_type": "stream",
     "text": [
      "Epoch [16/50] Loss: 1.0873\n",
      "Epoch [16/50] Loss: 0.9068\n"
     ]
    },
    {
     "name": "stderr",
     "output_type": "stream",
     "text": [
      "218it [01:07,  3.23it/s]\n"
     ]
    },
    {
     "name": "stdout",
     "output_type": "stream",
     "text": [
      "Overall Acc: \t 0.561506190869\n",
      "Mean Acc : \t 0.398534852152\n",
      "FreqW Acc : \t 0.395385175313\n",
      "Mean IoU : \t 0.289564471565\n",
      "Epoch [17/50] Loss: 0.9234\n",
      "Epoch [17/50] Loss: 0.9574\n"
     ]
    },
    {
     "name": "stderr",
     "output_type": "stream",
     "text": [
      "218it [01:07,  3.23it/s]\n"
     ]
    },
    {
     "name": "stdout",
     "output_type": "stream",
     "text": [
      "Overall Acc: \t 0.56115841118\n",
      "Mean Acc : \t 0.412103941313\n",
      "FreqW Acc : \t 0.394885765401\n",
      "Mean IoU : \t 0.297105539061\n",
      "Epoch [18/50] Loss: 0.9216\n",
      "Epoch [18/50] Loss: 0.9904\n"
     ]
    },
    {
     "name": "stderr",
     "output_type": "stream",
     "text": [
      "218it [01:07,  3.24it/s]\n"
     ]
    },
    {
     "name": "stdout",
     "output_type": "stream",
     "text": [
      "Overall Acc: \t 0.562382842364\n",
      "Mean Acc : \t 0.416729973162\n",
      "FreqW Acc : \t 0.397420501082\n",
      "Mean IoU : \t 0.302151030152\n",
      "Epoch [19/50] Loss: 0.8181\n",
      "Epoch [19/50] Loss: 1.0626\n"
     ]
    },
    {
     "name": "stderr",
     "output_type": "stream",
     "text": [
      "218it [01:07,  3.23it/s]\n"
     ]
    },
    {
     "name": "stdout",
     "output_type": "stream",
     "text": [
      "Overall Acc: \t 0.566358651289\n",
      "Mean Acc : \t 0.423000565928\n",
      "FreqW Acc : \t 0.401336809171\n",
      "Mean IoU : \t 0.307169045293\n",
      "Epoch [20/50] Loss: 0.9686\n",
      "Epoch [20/50] Loss: 0.8471\n"
     ]
    },
    {
     "name": "stderr",
     "output_type": "stream",
     "text": [
      "218it [01:09,  3.13it/s]"
     ]
    },
    {
     "name": "stdout",
     "output_type": "stream",
     "text": [
      "Overall Acc: \t 0.565201195766\n",
      "Mean Acc : \t 0.43202224437\n",
      "FreqW Acc : \t 0.401920716544\n",
      "Mean IoU : \t 0.306469236533\n"
     ]
    },
    {
     "name": "stderr",
     "output_type": "stream",
     "text": [
      "\n"
     ]
    },
    {
     "name": "stdout",
     "output_type": "stream",
     "text": [
      "Epoch [21/50] Loss: 1.0684\n",
      "Epoch [21/50] Loss: 0.9528\n"
     ]
    },
    {
     "name": "stderr",
     "output_type": "stream",
     "text": [
      "218it [01:09,  3.12it/s]\n"
     ]
    },
    {
     "name": "stdout",
     "output_type": "stream",
     "text": [
      "Overall Acc: \t 0.569712068361\n",
      "Mean Acc : \t 0.430187372207\n",
      "FreqW Acc : \t 0.405183951841\n",
      "Mean IoU : \t 0.310737700107\n",
      "Epoch [22/50] Loss: 0.7827\n",
      "Epoch [22/50] Loss: 1.0649\n"
     ]
    },
    {
     "name": "stderr",
     "output_type": "stream",
     "text": [
      "218it [01:08,  3.17it/s]\n"
     ]
    },
    {
     "name": "stdout",
     "output_type": "stream",
     "text": [
      "Overall Acc: \t 0.56313867287\n",
      "Mean Acc : \t 0.449406247057\n",
      "FreqW Acc : \t 0.402288430913\n",
      "Mean IoU : \t 0.318739392885\n",
      "Epoch [23/50] Loss: 0.8869\n",
      "Epoch [23/50] Loss: 1.2646\n"
     ]
    },
    {
     "name": "stderr",
     "output_type": "stream",
     "text": [
      "218it [01:10,  3.10it/s]\n"
     ]
    },
    {
     "name": "stdout",
     "output_type": "stream",
     "text": [
      "Overall Acc: \t 0.568806538091\n",
      "Mean Acc : \t 0.43735615993\n",
      "FreqW Acc : \t 0.40588374927\n",
      "Mean IoU : \t 0.319671402082\n",
      "Epoch [24/50] Loss: 0.8563\n",
      "Epoch [24/50] Loss: 0.9138\n"
     ]
    },
    {
     "name": "stderr",
     "output_type": "stream",
     "text": [
      "218it [01:09,  3.12it/s]"
     ]
    },
    {
     "name": "stdout",
     "output_type": "stream",
     "text": [
      "Overall Acc: \t 0.571925744417\n",
      "Mean Acc : \t 0.432371198515\n",
      "FreqW Acc : \t 0.407008273787\n",
      "Mean IoU : \t 0.315219761196\n"
     ]
    },
    {
     "name": "stderr",
     "output_type": "stream",
     "text": [
      "\n"
     ]
    },
    {
     "name": "stdout",
     "output_type": "stream",
     "text": [
      "Epoch [25/50] Loss: 1.0671\n",
      "Epoch [25/50] Loss: 0.9422\n"
     ]
    },
    {
     "name": "stderr",
     "output_type": "stream",
     "text": [
      "218it [01:11,  3.06it/s]\n"
     ]
    },
    {
     "name": "stdout",
     "output_type": "stream",
     "text": [
      "Overall Acc: \t 0.574310522984\n",
      "Mean Acc : \t 0.453409626896\n",
      "FreqW Acc : \t 0.413289227356\n",
      "Mean IoU : \t 0.329356848999\n",
      "Epoch [26/50] Loss: 1.0096\n",
      "Epoch [26/50] Loss: 0.9100\n"
     ]
    },
    {
     "name": "stderr",
     "output_type": "stream",
     "text": [
      "218it [01:12,  3.01it/s]\n"
     ]
    },
    {
     "name": "stdout",
     "output_type": "stream",
     "text": [
      "Overall Acc: \t 0.576506021638\n",
      "Mean Acc : \t 0.45738368861\n",
      "FreqW Acc : \t 0.413114670592\n",
      "Mean IoU : \t 0.329396894613\n",
      "Epoch [27/50] Loss: 0.7483\n",
      "Epoch [27/50] Loss: 0.6888\n"
     ]
    },
    {
     "name": "stderr",
     "output_type": "stream",
     "text": [
      "218it [01:10,  3.10it/s]\n"
     ]
    },
    {
     "name": "stdout",
     "output_type": "stream",
     "text": [
      "Overall Acc: \t 0.578809748503\n",
      "Mean Acc : \t 0.458782310402\n",
      "FreqW Acc : \t 0.41249570121\n",
      "Mean IoU : \t 0.331673937282\n",
      "Epoch [28/50] Loss: 0.6553\n",
      "Epoch [28/50] Loss: 0.8837\n"
     ]
    },
    {
     "name": "stderr",
     "output_type": "stream",
     "text": [
      "218it [01:08,  3.18it/s]"
     ]
    },
    {
     "name": "stdout",
     "output_type": "stream",
     "text": [
      "Overall Acc: \t 0.574719101403\n",
      "Mean Acc : \t 0.457827490334\n",
      "FreqW Acc : \t 0.412864083888\n",
      "Mean IoU : \t 0.330090683097\n"
     ]
    },
    {
     "name": "stderr",
     "output_type": "stream",
     "text": [
      "\n"
     ]
    },
    {
     "name": "stdout",
     "output_type": "stream",
     "text": [
      "Epoch [29/50] Loss: 0.9990\n",
      "Epoch [29/50] Loss: 0.9021\n"
     ]
    },
    {
     "name": "stderr",
     "output_type": "stream",
     "text": [
      "218it [01:06,  3.27it/s]"
     ]
    },
    {
     "name": "stdout",
     "output_type": "stream",
     "text": [
      "Overall Acc: \t 0.571881251593\n",
      "Mean Acc : \t 0.44404730575\n",
      "FreqW Acc : \t 0.40955185465\n",
      "Mean IoU : \t 0.324897321223\n"
     ]
    },
    {
     "name": "stderr",
     "output_type": "stream",
     "text": [
      "\n"
     ]
    },
    {
     "name": "stdout",
     "output_type": "stream",
     "text": [
      "Epoch [30/50] Loss: 0.9794\n",
      "Epoch [30/50] Loss: 1.0614\n"
     ]
    },
    {
     "name": "stderr",
     "output_type": "stream",
     "text": [
      "218it [01:06,  3.25it/s]\n"
     ]
    },
    {
     "name": "stdout",
     "output_type": "stream",
     "text": [
      "Overall Acc: \t 0.57810143707\n",
      "Mean Acc : \t 0.459276907315\n",
      "FreqW Acc : \t 0.416611172052\n",
      "Mean IoU : \t 0.335701243057\n",
      "Epoch [31/50] Loss: 0.9490\n",
      "Epoch [31/50] Loss: 0.8276\n"
     ]
    },
    {
     "name": "stderr",
     "output_type": "stream",
     "text": [
      "218it [01:06,  3.26it/s]\n"
     ]
    },
    {
     "name": "stdout",
     "output_type": "stream",
     "text": [
      "Overall Acc: \t 0.579430647139\n",
      "Mean Acc : \t 0.464556601707\n",
      "FreqW Acc : \t 0.416945401814\n",
      "Mean IoU : \t 0.337824939208\n",
      "Epoch [32/50] Loss: 1.0095\n",
      "Epoch [32/50] Loss: 0.8047\n"
     ]
    },
    {
     "name": "stderr",
     "output_type": "stream",
     "text": [
      "218it [01:07,  3.25it/s]\n"
     ]
    },
    {
     "name": "stdout",
     "output_type": "stream",
     "text": [
      "Overall Acc: \t 0.576418359972\n",
      "Mean Acc : \t 0.469949763642\n",
      "FreqW Acc : \t 0.417462903106\n",
      "Mean IoU : \t 0.339028816337\n",
      "Epoch [33/50] Loss: 0.8005\n",
      "Epoch [33/50] Loss: 0.9772\n"
     ]
    },
    {
     "name": "stderr",
     "output_type": "stream",
     "text": [
      "218it [01:07,  3.23it/s]\n"
     ]
    },
    {
     "name": "stdout",
     "output_type": "stream",
     "text": [
      "Overall Acc: \t 0.576643601475\n",
      "Mean Acc : \t 0.47643715372\n",
      "FreqW Acc : \t 0.416579538757\n",
      "Mean IoU : \t 0.340571960486\n",
      "Epoch [34/50] Loss: 0.9055\n",
      "Epoch [34/50] Loss: 0.8869\n"
     ]
    },
    {
     "name": "stderr",
     "output_type": "stream",
     "text": [
      "218it [01:07,  3.22it/s]"
     ]
    },
    {
     "name": "stdout",
     "output_type": "stream",
     "text": [
      "Overall Acc: \t 0.576005580642\n",
      "Mean Acc : \t 0.46091028009\n",
      "FreqW Acc : \t 0.415533339517\n",
      "Mean IoU : \t 0.338048240346\n"
     ]
    },
    {
     "name": "stderr",
     "output_type": "stream",
     "text": [
      "\n"
     ]
    },
    {
     "name": "stdout",
     "output_type": "stream",
     "text": [
      "Epoch [35/50] Loss: 0.7933\n",
      "Epoch [35/50] Loss: 0.9347\n"
     ]
    },
    {
     "name": "stderr",
     "output_type": "stream",
     "text": [
      "218it [01:07,  3.23it/s]\n"
     ]
    },
    {
     "name": "stdout",
     "output_type": "stream",
     "text": [
      "Overall Acc: \t 0.580490053198\n",
      "Mean Acc : \t 0.473354154939\n",
      "FreqW Acc : \t 0.419222156268\n",
      "Mean IoU : \t 0.342887778672\n",
      "Epoch [36/50] Loss: 0.6827\n",
      "Epoch [36/50] Loss: 0.7595\n"
     ]
    },
    {
     "name": "stderr",
     "output_type": "stream",
     "text": [
      "218it [01:06,  3.26it/s]\n"
     ]
    },
    {
     "name": "stdout",
     "output_type": "stream",
     "text": [
      "Overall Acc: \t 0.580290873272\n",
      "Mean Acc : \t 0.478518349883\n",
      "FreqW Acc : \t 0.418659906855\n",
      "Mean IoU : \t 0.344350146192\n",
      "Epoch [37/50] Loss: 0.6963\n",
      "Epoch [37/50] Loss: 0.9061\n"
     ]
    },
    {
     "name": "stderr",
     "output_type": "stream",
     "text": [
      "218it [01:06,  3.28it/s]"
     ]
    },
    {
     "name": "stdout",
     "output_type": "stream",
     "text": [
      "Overall Acc: \t 0.578475656616\n",
      "Mean Acc : \t 0.479472371117\n",
      "FreqW Acc : \t 0.417385282466\n",
      "Mean IoU : \t 0.343804744427\n"
     ]
    },
    {
     "name": "stderr",
     "output_type": "stream",
     "text": [
      "\n"
     ]
    },
    {
     "name": "stdout",
     "output_type": "stream",
     "text": [
      "Epoch [38/50] Loss: 0.8741\n",
      "Epoch [38/50] Loss: 1.0999\n"
     ]
    },
    {
     "name": "stderr",
     "output_type": "stream",
     "text": [
      "218it [01:07,  3.25it/s]\n"
     ]
    },
    {
     "name": "stdout",
     "output_type": "stream",
     "text": [
      "Overall Acc: \t 0.579254149146\n",
      "Mean Acc : \t 0.479092357917\n",
      "FreqW Acc : \t 0.419848039587\n",
      "Mean IoU : \t 0.34513109195\n",
      "Epoch [39/50] Loss: 0.9152\n",
      "Epoch [39/50] Loss: 0.5050\n"
     ]
    },
    {
     "name": "stderr",
     "output_type": "stream",
     "text": [
      "218it [01:08,  3.20it/s]\n"
     ]
    },
    {
     "name": "stdout",
     "output_type": "stream",
     "text": [
      "Overall Acc: \t 0.572835351164\n",
      "Mean Acc : \t 0.477685684669\n",
      "FreqW Acc : \t 0.417983809554\n",
      "Mean IoU : \t 0.345850057531\n",
      "Epoch [40/50] Loss: 0.9318\n",
      "Epoch [40/50] Loss: 0.9892\n"
     ]
    },
    {
     "name": "stderr",
     "output_type": "stream",
     "text": [
      "218it [01:06,  3.26it/s]"
     ]
    },
    {
     "name": "stdout",
     "output_type": "stream",
     "text": [
      "Overall Acc: \t 0.579272465915\n",
      "Mean Acc : \t 0.464584118594\n",
      "FreqW Acc : \t 0.419577658348\n",
      "Mean IoU : \t 0.341305113562\n"
     ]
    },
    {
     "name": "stderr",
     "output_type": "stream",
     "text": [
      "\n"
     ]
    },
    {
     "name": "stdout",
     "output_type": "stream",
     "text": [
      "Epoch [41/50] Loss: 0.6899\n",
      "Epoch [41/50] Loss: 0.5451\n"
     ]
    },
    {
     "name": "stderr",
     "output_type": "stream",
     "text": [
      "218it [01:06,  3.27it/s]"
     ]
    },
    {
     "name": "stdout",
     "output_type": "stream",
     "text": [
      "Overall Acc: \t 0.574932521622\n",
      "Mean Acc : \t 0.475080527822\n",
      "FreqW Acc : \t 0.418879059589\n",
      "Mean IoU : \t 0.345776125673\n"
     ]
    },
    {
     "name": "stderr",
     "output_type": "stream",
     "text": [
      "\n"
     ]
    },
    {
     "name": "stdout",
     "output_type": "stream",
     "text": [
      "Epoch [42/50] Loss: 0.6143\n",
      "Epoch [42/50] Loss: 0.9195\n"
     ]
    },
    {
     "name": "stderr",
     "output_type": "stream",
     "text": [
      "218it [01:06,  3.29it/s]\n"
     ]
    },
    {
     "name": "stdout",
     "output_type": "stream",
     "text": [
      "Overall Acc: \t 0.578067366885\n",
      "Mean Acc : \t 0.486307401056\n",
      "FreqW Acc : \t 0.420451247659\n",
      "Mean IoU : \t 0.349965143781\n",
      "Epoch [43/50] Loss: 0.7662\n",
      "Epoch [43/50] Loss: 0.5267\n"
     ]
    },
    {
     "name": "stderr",
     "output_type": "stream",
     "text": [
      "218it [01:06,  3.26it/s]"
     ]
    },
    {
     "name": "stdout",
     "output_type": "stream",
     "text": [
      "Overall Acc: \t 0.572680300714\n",
      "Mean Acc : \t 0.491151991882\n",
      "FreqW Acc : \t 0.415858840175\n",
      "Mean IoU : \t 0.348020985983\n"
     ]
    },
    {
     "name": "stderr",
     "output_type": "stream",
     "text": [
      "\n"
     ]
    },
    {
     "name": "stdout",
     "output_type": "stream",
     "text": [
      "Epoch [44/50] Loss: 0.6690\n",
      "Epoch [44/50] Loss: 0.8418\n"
     ]
    },
    {
     "name": "stderr",
     "output_type": "stream",
     "text": [
      "218it [01:06,  3.27it/s]"
     ]
    },
    {
     "name": "stdout",
     "output_type": "stream",
     "text": [
      "Overall Acc: \t 0.575145906999\n",
      "Mean Acc : \t 0.481275994741\n",
      "FreqW Acc : \t 0.418712668385\n",
      "Mean IoU : \t 0.347678341293\n"
     ]
    },
    {
     "name": "stderr",
     "output_type": "stream",
     "text": [
      "\n"
     ]
    },
    {
     "name": "stdout",
     "output_type": "stream",
     "text": [
      "Epoch [45/50] Loss: 0.6062\n",
      "Epoch [45/50] Loss: 0.6919\n"
     ]
    },
    {
     "name": "stderr",
     "output_type": "stream",
     "text": [
      "218it [01:07,  3.25it/s]"
     ]
    },
    {
     "name": "stdout",
     "output_type": "stream",
     "text": [
      "Overall Acc: \t 0.573637182642\n",
      "Mean Acc : \t 0.476524190458\n",
      "FreqW Acc : \t 0.417580194653\n",
      "Mean IoU : \t 0.347247405546\n"
     ]
    },
    {
     "name": "stderr",
     "output_type": "stream",
     "text": [
      "\n"
     ]
    },
    {
     "name": "stdout",
     "output_type": "stream",
     "text": [
      "Epoch [46/50] Loss: 0.4756\n",
      "Epoch [46/50] Loss: 0.7145\n"
     ]
    },
    {
     "name": "stderr",
     "output_type": "stream",
     "text": [
      "218it [01:06,  3.26it/s]"
     ]
    },
    {
     "name": "stdout",
     "output_type": "stream",
     "text": [
      "Overall Acc: \t 0.577036929194\n",
      "Mean Acc : \t 0.477370051068\n",
      "FreqW Acc : \t 0.417926429843\n",
      "Mean IoU : \t 0.344988360999\n"
     ]
    },
    {
     "name": "stderr",
     "output_type": "stream",
     "text": [
      "\n"
     ]
    },
    {
     "name": "stdout",
     "output_type": "stream",
     "text": [
      "Epoch [47/50] Loss: 0.7061\n",
      "Epoch [47/50] Loss: 0.6670\n"
     ]
    },
    {
     "name": "stderr",
     "output_type": "stream",
     "text": [
      "218it [01:06,  3.26it/s]"
     ]
    },
    {
     "name": "stdout",
     "output_type": "stream",
     "text": [
      "Overall Acc: \t 0.569430044876\n",
      "Mean Acc : \t 0.476736728687\n",
      "FreqW Acc : \t 0.413799948498\n",
      "Mean IoU : \t 0.342386862778\n"
     ]
    },
    {
     "name": "stderr",
     "output_type": "stream",
     "text": [
      "\n"
     ]
    },
    {
     "name": "stdout",
     "output_type": "stream",
     "text": [
      "Epoch [48/50] Loss: 0.7325\n",
      "Epoch [48/50] Loss: 0.8316\n"
     ]
    },
    {
     "name": "stderr",
     "output_type": "stream",
     "text": [
      "218it [01:06,  3.27it/s]"
     ]
    },
    {
     "name": "stdout",
     "output_type": "stream",
     "text": [
      "Overall Acc: \t 0.573021674511\n",
      "Mean Acc : \t 0.471361403487\n",
      "FreqW Acc : \t 0.417616774847\n",
      "Mean IoU : \t 0.345074429221\n"
     ]
    },
    {
     "name": "stderr",
     "output_type": "stream",
     "text": [
      "\n"
     ]
    },
    {
     "name": "stdout",
     "output_type": "stream",
     "text": [
      "Epoch [49/50] Loss: 0.6611\n",
      "Epoch [49/50] Loss: 0.6221\n"
     ]
    },
    {
     "name": "stderr",
     "output_type": "stream",
     "text": [
      "218it [01:07,  3.25it/s]"
     ]
    },
    {
     "name": "stdout",
     "output_type": "stream",
     "text": [
      "Overall Acc: \t 0.568369772753\n",
      "Mean Acc : \t 0.489445931403\n",
      "FreqW Acc : \t 0.41290423353\n",
      "Mean IoU : \t 0.347270132532\n"
     ]
    },
    {
     "name": "stderr",
     "output_type": "stream",
     "text": [
      "\n"
     ]
    },
    {
     "name": "stdout",
     "output_type": "stream",
     "text": [
      "Epoch [50/50] Loss: 0.6970\n",
      "Epoch [50/50] Loss: 0.7141\n"
     ]
    },
    {
     "name": "stderr",
     "output_type": "stream",
     "text": [
      "218it [01:06,  3.26it/s]"
     ]
    },
    {
     "name": "stdout",
     "output_type": "stream",
     "text": [
      "Overall Acc: \t 0.564074022641\n",
      "Mean Acc : \t 0.484845928212\n",
      "FreqW Acc : \t 0.411179167593\n",
      "Mean IoU : \t 0.346439660273\n"
     ]
    },
    {
     "name": "stderr",
     "output_type": "stream",
     "text": [
      "\n"
     ]
    }
   ],
   "source": [
    "from utils import *\n",
    "\n",
    "arg_str = '--gpu_idx 7 ' \\\n",
    "          '--arch FCN_RGBD_mask2 ' \\\n",
    "          '--input_type RGBD ' \\\n",
    "          '--dataset NYUDv2 ' \\\n",
    "          '--batch_size 3 ' \\\n",
    "          '--n_epoch 50 ' \\\n",
    "          '--visdom'\n",
    "\n",
    "trainer = trainer(arg_str)\n",
    "trainer.model_init()\n",
    "trainer.training()"
   ]
  },
  {
   "cell_type": "code",
   "execution_count": null,
   "metadata": {},
   "outputs": [],
   "source": [
    "from utils import *\n",
    "\n",
    "arg_str = '--gpu_idx 2 ' \\\n",
    "          '--arch FCN_RGBD_mask2 ' \\\n",
    "          '--input_type RGBD ' \\\n",
    "          '--dataset NYUDv2 ' \\\n",
    "          '--batch_size 3 ' \\\n",
    "          '--n_epoch 50 ' \\\n",
    "          '--resume ../model_weights/FCN_RGBD_mask2_NYUDv2_best_model.pkl ' \\\n",
    "          '--visdom'\n",
    "\n",
    "trainer = trainer(arg_str)\n",
    "trainer.model_init()\n",
    "trainer.training()"
   ]
  }
 ],
 "metadata": {
  "kernelspec": {
   "display_name": "Python [conda env:pytorch]",
   "language": "python",
   "name": "conda-env-pytorch-py"
  },
  "language_info": {
   "codemirror_mode": {
    "name": "ipython",
    "version": 3
   },
   "file_extension": ".py",
   "mimetype": "text/x-python",
   "name": "python",
   "nbconvert_exporter": "python",
   "pygments_lexer": "ipython3",
   "version": "3.6.3"
  }
 },
 "nbformat": 4,
 "nbformat_minor": 2
}
