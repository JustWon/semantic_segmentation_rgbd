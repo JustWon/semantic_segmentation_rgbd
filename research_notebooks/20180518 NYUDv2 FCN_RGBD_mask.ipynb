{
 "cells": [
  {
   "cell_type": "markdown",
   "metadata": {},
   "source": [
    "## 2018년 05월 18일 16시 16분 28초에 추가 ##\n",
    "- Training FCN_RGBD_mask on NYUDv2"
   ]
  },
  {
   "cell_type": "code",
   "execution_count": 1,
   "metadata": {},
   "outputs": [],
   "source": [
    "%matplotlib inline\n",
    "import os\n",
    "import collections\n",
    "import torch\n",
    "import torchvision\n",
    "import numpy as np\n",
    "import scipy.misc as m\n",
    "import scipy.io as io\n",
    "import matplotlib.pyplot as plt\n",
    "\n",
    "from NYUDv2Loader import *\n",
    "\n",
    "os.environ['CUDA_VISIBLE_DEVICES'] = '4'\n",
    "data_path = '/home/dongwonshin/Desktop/Datasets/NYUDv2/'\n",
    "arg_string = '--arch FCN_RGBD_mask --batch_size 3 --n_epoch 50'"
   ]
  },
  {
   "cell_type": "markdown",
   "metadata": {},
   "source": [
    "# Argument setting"
   ]
  },
  {
   "cell_type": "code",
   "execution_count": 2,
   "metadata": {},
   "outputs": [],
   "source": [
    "import sys, os\n",
    "import torch\n",
    "import visdom\n",
    "import argparse\n",
    "import numpy as np\n",
    "import torch.nn as nn\n",
    "import torch.nn.functional as F\n",
    "import torchvision.models as models\n",
    "\n",
    "from torch.autograd import Variable\n",
    "from torch.utils import data\n",
    "from tqdm import tqdm\n",
    "\n",
    "from ptsemseg.models import get_model\n",
    "from ptsemseg.loader import get_loader, get_data_path\n",
    "from ptsemseg.metrics import runningScore\n",
    "from ptsemseg.loss import *\n",
    "from ptsemseg.augmentations import *\n",
    "\n",
    "\n",
    "parser = argparse.ArgumentParser(description='Hyperparams')\n",
    "parser.add_argument('--arch', nargs='?', type=str, default='fcn8s', help='Architecture to use [\\'fcn8s, unet, segnet etc\\']')\n",
    "parser.add_argument('--img_rows', nargs='?', type=int, default=256, help='Height of the input image')\n",
    "parser.add_argument('--img_cols', nargs='?', type=int, default=256, help='Width of the input image')\n",
    "\n",
    "parser.add_argument('--img_norm', dest='img_norm', action='store_true', help='Enable input image scales normalization [0, 1] | True by default')\n",
    "parser.add_argument('--no-img_norm', dest='img_norm', action='store_false', help='Disable input image scales normalization [0, 1] | True by default')\n",
    "parser.set_defaults(img_norm=True)\n",
    "\n",
    "parser.add_argument('--n_epoch', nargs='?', type=int, default=10, help='# of the epochs')\n",
    "parser.add_argument('--batch_size', nargs='?', type=int, default=1, help='Batch Size')\n",
    "parser.add_argument('--l_rate', nargs='?', type=float, default=1e-5, help='Learning Rate')\n",
    "parser.add_argument('--feature_scale', nargs='?', type=int, default=1, help='Divider for # of features to use')\n",
    "parser.add_argument('--resume', nargs='?', type=str, default=None, help='Path to previous saved model to restart from')\n",
    "\n",
    "parser.add_argument('--visdom', dest='visdom', action='store_true', help='Enable visualization(s) on visdom | False by default')\n",
    "parser.add_argument('--no-visdom', dest='visdom', action='store_false', help='Disable visualization(s) on visdom | False by default')\n",
    "parser.set_defaults(visdom=False)"
   ]
  },
  {
   "cell_type": "markdown",
   "metadata": {},
   "source": [
    "# Model init"
   ]
  },
  {
   "cell_type": "code",
   "execution_count": 3,
   "metadata": {},
   "outputs": [],
   "source": [
    "args = parser.parse_args(arg_string.split(' '))\n",
    "\n",
    "# Setup Dataloader\n",
    "t_loader = NYUDv2Loader(data_path, is_transform=True)\n",
    "v_loader = NYUDv2Loader(data_path, is_transform=True, split='val')\n",
    "\n",
    "n_classes = t_loader.n_classes\n",
    "trainloader = data.DataLoader(t_loader, batch_size=args.batch_size, num_workers=16, shuffle=True)\n",
    "valloader = data.DataLoader(v_loader, batch_size=args.batch_size, num_workers=16)\n",
    "\n",
    "# Setup Metrics\n",
    "running_metrics = runningScore(n_classes)\n",
    "\n",
    "# Setup visdom for visualization\n",
    "if args.visdom:\n",
    "    vis = visdom.Visdom()\n",
    "\n",
    "    loss_window = vis.line(X=torch.zeros((1,)).cpu(),\n",
    "                       Y=torch.zeros((1)).cpu(),\n",
    "                       opts=dict(xlabel='minibatches',\n",
    "                                 ylabel='Loss',\n",
    "                                 title='Training Loss',\n",
    "                                 legend=['Loss']))\n",
    "\n",
    "# Setup Model\n",
    "model = get_model(args.arch, n_classes)\n",
    "\n",
    "model = torch.nn.DataParallel(model, device_ids=range(torch.cuda.device_count()))\n",
    "model.cuda()\n",
    "\n",
    "# Check if model has custom optimizer / loss\n",
    "if hasattr(model.module, 'optimizer'):\n",
    "    optimizer = model.module.optimizer\n",
    "else:\n",
    "    optimizer = torch.optim.SGD(model.parameters(), lr=args.l_rate, momentum=0.99, weight_decay=5e-4)\n",
    "\n",
    "if hasattr(model.module, 'loss'):\n",
    "    print('Using custom loss')\n",
    "    loss_fn = model.module.loss\n",
    "else:\n",
    "    loss_fn = cross_entropy2d\n",
    "\n",
    "if args.resume is not None:                                         \n",
    "    if os.path.isfile(args.resume):\n",
    "        print(\"Loading model and optimizer from checkpoint '{}'\".format(args.resume))\n",
    "        checkpoint = torch.load(args.resume)\n",
    "        model.load_state_dict(checkpoint['model_state'])\n",
    "        optimizer.load_state_dict(checkpoint['optimizer_state'])\n",
    "        print(\"Loaded checkpoint '{}' (epoch {})\"                    \n",
    "              .format(args.resume, checkpoint['epoch']))\n",
    "    else:\n",
    "        print(\"No checkpoint found at '{}'\".format(args.resume)) \n"
   ]
  },
  {
   "cell_type": "markdown",
   "metadata": {},
   "source": [
    "# Training"
   ]
  },
  {
   "cell_type": "code",
   "execution_count": 4,
   "metadata": {},
   "outputs": [
    {
     "name": "stderr",
     "output_type": "stream",
     "text": [
      "/home/dongwonshin/.conda/envs/pytorch/lib/python3.6/site-packages/torch/nn/functional.py:1462: UserWarning: nn.functional.upsample_bilinear is deprecated. Use nn.functional.upsample instead.\n",
      "  warnings.warn(\"nn.functional.upsample_bilinear is deprecated. Use nn.functional.upsample instead.\")\n"
     ]
    },
    {
     "name": "stdout",
     "output_type": "stream",
     "text": [
      "Epoch [1/50] Loss: 2.2600\n",
      "Epoch [1/50] Loss: 1.7502\n"
     ]
    },
    {
     "name": "stderr",
     "output_type": "stream",
     "text": [
      "218it [00:48,  4.47it/s]\n"
     ]
    },
    {
     "name": "stdout",
     "output_type": "stream",
     "text": [
      "Overall Acc: \t 0.360651290536\n",
      "Mean Acc : \t 0.146081358539\n",
      "FreqW Acc : \t 0.182544077038\n",
      "Mean IoU : \t 0.0826764512769\n",
      "Epoch [2/50] Loss: 1.8407\n",
      "Epoch [2/50] Loss: 1.5466\n"
     ]
    },
    {
     "name": "stderr",
     "output_type": "stream",
     "text": [
      "218it [00:49,  4.41it/s]\n"
     ]
    },
    {
     "name": "stdout",
     "output_type": "stream",
     "text": [
      "Overall Acc: \t 0.43092953121\n",
      "Mean Acc : \t 0.204908571309\n",
      "FreqW Acc : \t 0.25289787353\n",
      "Mean IoU : \t 0.128276483192\n",
      "Epoch [3/50] Loss: 1.7585\n",
      "Epoch [3/50] Loss: 1.4196\n"
     ]
    },
    {
     "name": "stderr",
     "output_type": "stream",
     "text": [
      "218it [00:48,  4.45it/s]\n"
     ]
    },
    {
     "name": "stdout",
     "output_type": "stream",
     "text": [
      "Overall Acc: \t 0.470274149266\n",
      "Mean Acc : \t 0.257924798032\n",
      "FreqW Acc : \t 0.296627954492\n",
      "Mean IoU : \t 0.168691868787\n",
      "Epoch [4/50] Loss: 1.2167\n",
      "Epoch [4/50] Loss: 1.4307\n"
     ]
    },
    {
     "name": "stderr",
     "output_type": "stream",
     "text": [
      "218it [00:48,  4.51it/s]\n"
     ]
    },
    {
     "name": "stdout",
     "output_type": "stream",
     "text": [
      "Overall Acc: \t 0.465148764016\n",
      "Mean Acc : \t 0.27175698655\n",
      "FreqW Acc : \t 0.300382982412\n",
      "Mean IoU : \t 0.185827779643\n",
      "Epoch [5/50] Loss: 1.6333\n",
      "Epoch [5/50] Loss: 1.2832\n"
     ]
    },
    {
     "name": "stderr",
     "output_type": "stream",
     "text": [
      "218it [00:48,  4.49it/s]\n"
     ]
    },
    {
     "name": "stdout",
     "output_type": "stream",
     "text": [
      "Overall Acc: \t 0.5052795995\n",
      "Mean Acc : \t 0.34143165877\n",
      "FreqW Acc : \t 0.341724765835\n",
      "Mean IoU : \t 0.233754153887\n",
      "Epoch [6/50] Loss: 1.1032\n",
      "Epoch [6/50] Loss: 1.1207\n"
     ]
    },
    {
     "name": "stderr",
     "output_type": "stream",
     "text": [
      "218it [00:48,  4.51it/s]\n"
     ]
    },
    {
     "name": "stdout",
     "output_type": "stream",
     "text": [
      "Overall Acc: \t 0.516128437381\n",
      "Mean Acc : \t 0.334125036254\n",
      "FreqW Acc : \t 0.346326493804\n",
      "Mean IoU : \t 0.235470767821\n",
      "Epoch [7/50] Loss: 1.1053\n",
      "Epoch [7/50] Loss: 1.3300\n"
     ]
    },
    {
     "name": "stderr",
     "output_type": "stream",
     "text": [
      "218it [00:51,  4.24it/s]\n"
     ]
    },
    {
     "name": "stdout",
     "output_type": "stream",
     "text": [
      "Overall Acc: \t 0.519310084974\n",
      "Mean Acc : \t 0.349737829801\n",
      "FreqW Acc : \t 0.353962165104\n",
      "Mean IoU : \t 0.249555492073\n",
      "Epoch [8/50] Loss: 1.0024\n",
      "Epoch [8/50] Loss: 0.8824\n"
     ]
    },
    {
     "name": "stderr",
     "output_type": "stream",
     "text": [
      "218it [00:48,  4.50it/s]\n"
     ]
    },
    {
     "name": "stdout",
     "output_type": "stream",
     "text": [
      "Overall Acc: \t 0.520805962705\n",
      "Mean Acc : \t 0.356928851805\n",
      "FreqW Acc : \t 0.354672778949\n",
      "Mean IoU : \t 0.253471943891\n",
      "Epoch [9/50] Loss: 0.7689\n",
      "Epoch [9/50] Loss: 1.1777\n"
     ]
    },
    {
     "name": "stderr",
     "output_type": "stream",
     "text": [
      "218it [00:48,  4.53it/s]\n"
     ]
    },
    {
     "name": "stdout",
     "output_type": "stream",
     "text": [
      "Overall Acc: \t 0.523571585715\n",
      "Mean Acc : \t 0.369023497915\n",
      "FreqW Acc : \t 0.359880649868\n",
      "Mean IoU : \t 0.260539746594\n",
      "Epoch [10/50] Loss: 0.9607\n",
      "Epoch [10/50] Loss: 1.1255\n"
     ]
    },
    {
     "name": "stderr",
     "output_type": "stream",
     "text": [
      "218it [00:48,  4.51it/s]\n"
     ]
    },
    {
     "name": "stdout",
     "output_type": "stream",
     "text": [
      "Overall Acc: \t 0.534241322431\n",
      "Mean Acc : \t 0.402626711482\n",
      "FreqW Acc : \t 0.372878369997\n",
      "Mean IoU : \t 0.277704302055\n",
      "Epoch [11/50] Loss: 0.9650\n",
      "Epoch [11/50] Loss: 0.9557\n"
     ]
    },
    {
     "name": "stderr",
     "output_type": "stream",
     "text": [
      "218it [00:48,  4.52it/s]"
     ]
    },
    {
     "name": "stdout",
     "output_type": "stream",
     "text": [
      "Overall Acc: \t 0.533771308176\n",
      "Mean Acc : \t 0.389373719025\n",
      "FreqW Acc : \t 0.368927694317\n",
      "Mean IoU : \t 0.273299957278\n"
     ]
    },
    {
     "name": "stderr",
     "output_type": "stream",
     "text": [
      "\n"
     ]
    },
    {
     "name": "stdout",
     "output_type": "stream",
     "text": [
      "Epoch [12/50] Loss: 0.8861\n",
      "Epoch [12/50] Loss: 0.9686\n"
     ]
    },
    {
     "name": "stderr",
     "output_type": "stream",
     "text": [
      "218it [00:48,  4.54it/s]"
     ]
    },
    {
     "name": "stdout",
     "output_type": "stream",
     "text": [
      "Overall Acc: \t 0.531976712817\n",
      "Mean Acc : \t 0.370501373068\n",
      "FreqW Acc : \t 0.364408516198\n",
      "Mean IoU : \t 0.266028522418\n"
     ]
    },
    {
     "name": "stderr",
     "output_type": "stream",
     "text": [
      "\n"
     ]
    },
    {
     "name": "stdout",
     "output_type": "stream",
     "text": [
      "Epoch [13/50] Loss: 0.7569\n",
      "Epoch [13/50] Loss: 0.8659\n"
     ]
    },
    {
     "name": "stderr",
     "output_type": "stream",
     "text": [
      "218it [00:48,  4.52it/s]\n"
     ]
    },
    {
     "name": "stdout",
     "output_type": "stream",
     "text": [
      "Overall Acc: \t 0.528007060915\n",
      "Mean Acc : \t 0.393073727416\n",
      "FreqW Acc : \t 0.372116936531\n",
      "Mean IoU : \t 0.280395832952\n",
      "Epoch [14/50] Loss: 0.8512\n",
      "Epoch [14/50] Loss: 0.9859\n"
     ]
    },
    {
     "name": "stderr",
     "output_type": "stream",
     "text": [
      "218it [00:48,  4.52it/s]\n"
     ]
    },
    {
     "name": "stdout",
     "output_type": "stream",
     "text": [
      "Overall Acc: \t 0.540165313814\n",
      "Mean Acc : \t 0.405833142057\n",
      "FreqW Acc : \t 0.377110971901\n",
      "Mean IoU : \t 0.283909185824\n",
      "Epoch [15/50] Loss: 0.7233\n",
      "Epoch [15/50] Loss: 1.0498\n"
     ]
    },
    {
     "name": "stderr",
     "output_type": "stream",
     "text": [
      "218it [00:48,  4.51it/s]"
     ]
    },
    {
     "name": "stdout",
     "output_type": "stream",
     "text": [
      "Overall Acc: \t 0.540621948864\n",
      "Mean Acc : \t 0.380047812411\n",
      "FreqW Acc : \t 0.375320181786\n",
      "Mean IoU : \t 0.278557586167\n"
     ]
    },
    {
     "name": "stderr",
     "output_type": "stream",
     "text": [
      "\n"
     ]
    },
    {
     "name": "stdout",
     "output_type": "stream",
     "text": [
      "Epoch [16/50] Loss: 0.7273\n",
      "Epoch [16/50] Loss: 0.7381\n"
     ]
    },
    {
     "name": "stderr",
     "output_type": "stream",
     "text": [
      "218it [00:47,  4.56it/s]\n"
     ]
    },
    {
     "name": "stdout",
     "output_type": "stream",
     "text": [
      "Overall Acc: \t 0.545467460858\n",
      "Mean Acc : \t 0.416278338962\n",
      "FreqW Acc : \t 0.380973549154\n",
      "Mean IoU : \t 0.293440130459\n",
      "Epoch [17/50] Loss: 0.7418\n",
      "Epoch [17/50] Loss: 0.9190\n"
     ]
    },
    {
     "name": "stderr",
     "output_type": "stream",
     "text": [
      "218it [00:48,  4.52it/s]"
     ]
    },
    {
     "name": "stdout",
     "output_type": "stream",
     "text": [
      "Overall Acc: \t 0.546264957035\n",
      "Mean Acc : \t 0.396587259791\n",
      "FreqW Acc : \t 0.374996916247\n",
      "Mean IoU : \t 0.288977692099\n"
     ]
    },
    {
     "name": "stderr",
     "output_type": "stream",
     "text": [
      "\n"
     ]
    },
    {
     "name": "stdout",
     "output_type": "stream",
     "text": [
      "Epoch [18/50] Loss: 0.7833\n",
      "Epoch [18/50] Loss: 0.6786\n"
     ]
    },
    {
     "name": "stderr",
     "output_type": "stream",
     "text": [
      "218it [00:48,  4.53it/s]\n"
     ]
    },
    {
     "name": "stdout",
     "output_type": "stream",
     "text": [
      "Overall Acc: \t 0.54728781915\n",
      "Mean Acc : \t 0.410355765538\n",
      "FreqW Acc : \t 0.385007683852\n",
      "Mean IoU : \t 0.296221390304\n",
      "Epoch [19/50] Loss: 0.7671\n",
      "Epoch [19/50] Loss: 0.7304\n"
     ]
    },
    {
     "name": "stderr",
     "output_type": "stream",
     "text": [
      "218it [00:48,  4.52it/s]"
     ]
    },
    {
     "name": "stdout",
     "output_type": "stream",
     "text": [
      "Overall Acc: \t 0.550493004786\n",
      "Mean Acc : \t 0.41336242539\n",
      "FreqW Acc : \t 0.383195156909\n",
      "Mean IoU : \t 0.2939674021\n"
     ]
    },
    {
     "name": "stderr",
     "output_type": "stream",
     "text": [
      "\n"
     ]
    },
    {
     "name": "stdout",
     "output_type": "stream",
     "text": [
      "Epoch [20/50] Loss: 0.7808\n",
      "Epoch [20/50] Loss: 0.9228\n"
     ]
    },
    {
     "name": "stderr",
     "output_type": "stream",
     "text": [
      "218it [00:47,  4.55it/s]"
     ]
    },
    {
     "name": "stdout",
     "output_type": "stream",
     "text": [
      "Overall Acc: \t 0.549510265354\n",
      "Mean Acc : \t 0.406612829567\n",
      "FreqW Acc : \t 0.380939700683\n",
      "Mean IoU : \t 0.286120879848\n"
     ]
    },
    {
     "name": "stderr",
     "output_type": "stream",
     "text": [
      "\n"
     ]
    },
    {
     "name": "stdout",
     "output_type": "stream",
     "text": [
      "Epoch [21/50] Loss: 0.5904\n",
      "Epoch [21/50] Loss: 0.5720\n"
     ]
    },
    {
     "name": "stderr",
     "output_type": "stream",
     "text": [
      "218it [00:48,  4.50it/s]"
     ]
    },
    {
     "name": "stdout",
     "output_type": "stream",
     "text": [
      "Overall Acc: \t 0.548368249673\n",
      "Mean Acc : \t 0.421514590544\n",
      "FreqW Acc : \t 0.385019595326\n",
      "Mean IoU : \t 0.29574615913\n"
     ]
    },
    {
     "name": "stderr",
     "output_type": "stream",
     "text": [
      "\n"
     ]
    },
    {
     "name": "stdout",
     "output_type": "stream",
     "text": [
      "Epoch [22/50] Loss: 0.7847\n",
      "Epoch [22/50] Loss: 0.5304\n"
     ]
    },
    {
     "name": "stderr",
     "output_type": "stream",
     "text": [
      "218it [00:47,  4.54it/s]\n"
     ]
    },
    {
     "name": "stdout",
     "output_type": "stream",
     "text": [
      "Overall Acc: \t 0.549325375494\n",
      "Mean Acc : \t 0.41675474593\n",
      "FreqW Acc : \t 0.382898221445\n",
      "Mean IoU : \t 0.300047465328\n",
      "Epoch [23/50] Loss: 0.5146\n",
      "Epoch [23/50] Loss: 0.6902\n"
     ]
    },
    {
     "name": "stderr",
     "output_type": "stream",
     "text": [
      "218it [00:48,  4.52it/s]"
     ]
    },
    {
     "name": "stdout",
     "output_type": "stream",
     "text": [
      "Overall Acc: \t 0.546294950744\n",
      "Mean Acc : \t 0.433711581581\n",
      "FreqW Acc : \t 0.380622548158\n",
      "Mean IoU : \t 0.29809279933\n"
     ]
    },
    {
     "name": "stderr",
     "output_type": "stream",
     "text": [
      "\n"
     ]
    },
    {
     "name": "stdout",
     "output_type": "stream",
     "text": [
      "Epoch [24/50] Loss: 0.6907\n",
      "Epoch [24/50] Loss: 0.7978\n"
     ]
    },
    {
     "name": "stderr",
     "output_type": "stream",
     "text": [
      "218it [00:48,  4.50it/s]"
     ]
    },
    {
     "name": "stdout",
     "output_type": "stream",
     "text": [
      "Overall Acc: \t 0.552143370524\n",
      "Mean Acc : \t 0.425987575651\n",
      "FreqW Acc : \t 0.388022250692\n",
      "Mean IoU : \t 0.290732151208\n"
     ]
    },
    {
     "name": "stderr",
     "output_type": "stream",
     "text": [
      "\n"
     ]
    },
    {
     "name": "stdout",
     "output_type": "stream",
     "text": [
      "Epoch [25/50] Loss: 0.5708\n",
      "Epoch [25/50] Loss: 0.7960\n"
     ]
    },
    {
     "name": "stderr",
     "output_type": "stream",
     "text": [
      "218it [00:48,  4.52it/s]"
     ]
    },
    {
     "name": "stdout",
     "output_type": "stream",
     "text": [
      "Overall Acc: \t 0.553803651209\n",
      "Mean Acc : \t 0.436589147877\n",
      "FreqW Acc : \t 0.382268620949\n",
      "Mean IoU : \t 0.297729156419\n"
     ]
    },
    {
     "name": "stderr",
     "output_type": "stream",
     "text": [
      "\n"
     ]
    },
    {
     "name": "stdout",
     "output_type": "stream",
     "text": [
      "Epoch [26/50] Loss: 0.6243\n",
      "Epoch [26/50] Loss: 0.8057\n"
     ]
    },
    {
     "name": "stderr",
     "output_type": "stream",
     "text": [
      "218it [00:48,  4.52it/s]\n"
     ]
    },
    {
     "name": "stdout",
     "output_type": "stream",
     "text": [
      "Overall Acc: \t 0.555307144336\n",
      "Mean Acc : \t 0.427127242555\n",
      "FreqW Acc : \t 0.389541217\n",
      "Mean IoU : \t 0.300055202612\n",
      "Epoch [27/50] Loss: 0.5877\n",
      "Epoch [27/50] Loss: 0.6471\n"
     ]
    },
    {
     "name": "stderr",
     "output_type": "stream",
     "text": [
      "218it [00:48,  4.52it/s]"
     ]
    },
    {
     "name": "stdout",
     "output_type": "stream",
     "text": [
      "Overall Acc: \t 0.543681008497\n",
      "Mean Acc : \t 0.397596323772\n",
      "FreqW Acc : \t 0.379631720896\n",
      "Mean IoU : \t 0.287238579457\n"
     ]
    },
    {
     "name": "stderr",
     "output_type": "stream",
     "text": [
      "\n"
     ]
    },
    {
     "name": "stdout",
     "output_type": "stream",
     "text": [
      "Epoch [28/50] Loss: 0.4139\n",
      "Epoch [28/50] Loss: 0.5865\n"
     ]
    },
    {
     "name": "stderr",
     "output_type": "stream",
     "text": [
      "218it [00:47,  4.56it/s]\n"
     ]
    },
    {
     "name": "stdout",
     "output_type": "stream",
     "text": [
      "Overall Acc: \t 0.558644937404\n",
      "Mean Acc : \t 0.429904569427\n",
      "FreqW Acc : \t 0.388351615634\n",
      "Mean IoU : \t 0.30259707494\n",
      "Epoch [29/50] Loss: 0.6534\n",
      "Epoch [29/50] Loss: 0.5640\n"
     ]
    },
    {
     "name": "stderr",
     "output_type": "stream",
     "text": [
      "218it [00:48,  4.54it/s]\n"
     ]
    },
    {
     "name": "stdout",
     "output_type": "stream",
     "text": [
      "Overall Acc: \t 0.552655782126\n",
      "Mean Acc : \t 0.446650160211\n",
      "FreqW Acc : \t 0.382370344689\n",
      "Mean IoU : \t 0.307401365517\n",
      "Epoch [30/50] Loss: 0.5532\n",
      "Epoch [30/50] Loss: 0.6405\n"
     ]
    },
    {
     "name": "stderr",
     "output_type": "stream",
     "text": [
      "218it [00:47,  4.55it/s]"
     ]
    },
    {
     "name": "stdout",
     "output_type": "stream",
     "text": [
      "Overall Acc: \t 0.555156414254\n",
      "Mean Acc : \t 0.412550497558\n",
      "FreqW Acc : \t 0.388094055679\n",
      "Mean IoU : \t 0.295073446982\n"
     ]
    },
    {
     "name": "stderr",
     "output_type": "stream",
     "text": [
      "\n"
     ]
    },
    {
     "name": "stdout",
     "output_type": "stream",
     "text": [
      "Epoch [31/50] Loss: 0.5832\n",
      "Epoch [31/50] Loss: 0.4142\n"
     ]
    },
    {
     "name": "stderr",
     "output_type": "stream",
     "text": [
      "218it [00:48,  4.54it/s]"
     ]
    },
    {
     "name": "stdout",
     "output_type": "stream",
     "text": [
      "Overall Acc: \t 0.551450817485\n",
      "Mean Acc : \t 0.403014040921\n",
      "FreqW Acc : \t 0.38022079114\n",
      "Mean IoU : \t 0.291087131789\n"
     ]
    },
    {
     "name": "stderr",
     "output_type": "stream",
     "text": [
      "\n"
     ]
    },
    {
     "name": "stdout",
     "output_type": "stream",
     "text": [
      "Epoch [32/50] Loss: 0.6369\n",
      "Epoch [32/50] Loss: 0.5674\n"
     ]
    },
    {
     "name": "stderr",
     "output_type": "stream",
     "text": [
      "218it [00:48,  4.52it/s]"
     ]
    },
    {
     "name": "stdout",
     "output_type": "stream",
     "text": [
      "Overall Acc: \t 0.554947254675\n",
      "Mean Acc : \t 0.409736094672\n",
      "FreqW Acc : \t 0.386829958123\n",
      "Mean IoU : \t 0.294889425424\n"
     ]
    },
    {
     "name": "stderr",
     "output_type": "stream",
     "text": [
      "\n"
     ]
    },
    {
     "name": "stdout",
     "output_type": "stream",
     "text": [
      "Epoch [33/50] Loss: 0.6189\n",
      "Epoch [33/50] Loss: 0.7555\n"
     ]
    },
    {
     "name": "stderr",
     "output_type": "stream",
     "text": [
      "218it [00:47,  4.58it/s]"
     ]
    },
    {
     "name": "stdout",
     "output_type": "stream",
     "text": [
      "Overall Acc: \t 0.553802536275\n",
      "Mean Acc : \t 0.418937161901\n",
      "FreqW Acc : \t 0.387127118505\n",
      "Mean IoU : \t 0.305517332643\n"
     ]
    },
    {
     "name": "stderr",
     "output_type": "stream",
     "text": [
      "\n"
     ]
    },
    {
     "name": "stdout",
     "output_type": "stream",
     "text": [
      "Epoch [34/50] Loss: 0.5794\n",
      "Epoch [34/50] Loss: 0.5418\n"
     ]
    },
    {
     "name": "stderr",
     "output_type": "stream",
     "text": [
      "218it [00:48,  4.52it/s]"
     ]
    },
    {
     "name": "stdout",
     "output_type": "stream",
     "text": [
      "Overall Acc: \t 0.55472452675\n",
      "Mean Acc : \t 0.434114622092\n",
      "FreqW Acc : \t 0.386000855163\n",
      "Mean IoU : \t 0.301857323056\n"
     ]
    },
    {
     "name": "stderr",
     "output_type": "stream",
     "text": [
      "\n"
     ]
    },
    {
     "name": "stdout",
     "output_type": "stream",
     "text": [
      "Epoch [35/50] Loss: 0.8342\n",
      "Epoch [35/50] Loss: 0.6185\n"
     ]
    },
    {
     "name": "stderr",
     "output_type": "stream",
     "text": [
      "218it [00:47,  4.56it/s]"
     ]
    },
    {
     "name": "stdout",
     "output_type": "stream",
     "text": [
      "Overall Acc: \t 0.560630166523\n",
      "Mean Acc : \t 0.422284020638\n",
      "FreqW Acc : \t 0.395953397437\n",
      "Mean IoU : \t 0.303911959264\n"
     ]
    },
    {
     "name": "stderr",
     "output_type": "stream",
     "text": [
      "\n"
     ]
    },
    {
     "name": "stdout",
     "output_type": "stream",
     "text": [
      "Epoch [36/50] Loss: 0.6606\n",
      "Epoch [36/50] Loss: 0.5311\n"
     ]
    },
    {
     "name": "stderr",
     "output_type": "stream",
     "text": [
      "218it [00:47,  4.59it/s]"
     ]
    },
    {
     "name": "stdout",
     "output_type": "stream",
     "text": [
      "Overall Acc: \t 0.557188814029\n",
      "Mean Acc : \t 0.425554677621\n",
      "FreqW Acc : \t 0.387618114952\n",
      "Mean IoU : \t 0.301785980685\n"
     ]
    },
    {
     "name": "stderr",
     "output_type": "stream",
     "text": [
      "\n"
     ]
    },
    {
     "name": "stdout",
     "output_type": "stream",
     "text": [
      "Epoch [37/50] Loss: 0.5241\n",
      "Epoch [37/50] Loss: 0.5453\n"
     ]
    },
    {
     "name": "stderr",
     "output_type": "stream",
     "text": [
      "218it [00:47,  4.55it/s]\n"
     ]
    },
    {
     "name": "stdout",
     "output_type": "stream",
     "text": [
      "Overall Acc: \t 0.559162356253\n",
      "Mean Acc : \t 0.433721956283\n",
      "FreqW Acc : \t 0.396057570996\n",
      "Mean IoU : \t 0.308588811299\n",
      "Epoch [38/50] Loss: 0.5482\n",
      "Epoch [38/50] Loss: 0.5443\n"
     ]
    },
    {
     "name": "stderr",
     "output_type": "stream",
     "text": [
      "218it [00:47,  4.58it/s]"
     ]
    },
    {
     "name": "stdout",
     "output_type": "stream",
     "text": [
      "Overall Acc: \t 0.560886481827\n",
      "Mean Acc : \t 0.416169039034\n",
      "FreqW Acc : \t 0.393917994067\n",
      "Mean IoU : \t 0.302181502698\n"
     ]
    },
    {
     "name": "stderr",
     "output_type": "stream",
     "text": [
      "\n"
     ]
    },
    {
     "name": "stdout",
     "output_type": "stream",
     "text": [
      "Epoch [39/50] Loss: 0.4910\n",
      "Epoch [39/50] Loss: 0.3981\n"
     ]
    },
    {
     "name": "stderr",
     "output_type": "stream",
     "text": [
      "218it [00:47,  4.59it/s]"
     ]
    },
    {
     "name": "stdout",
     "output_type": "stream",
     "text": [
      "Overall Acc: \t 0.556554615826\n",
      "Mean Acc : \t 0.42212402011\n",
      "FreqW Acc : \t 0.388191787598\n",
      "Mean IoU : \t 0.296917382781\n"
     ]
    },
    {
     "name": "stderr",
     "output_type": "stream",
     "text": [
      "\n"
     ]
    },
    {
     "name": "stdout",
     "output_type": "stream",
     "text": [
      "Epoch [40/50] Loss: 0.5043\n",
      "Epoch [40/50] Loss: 0.4547\n"
     ]
    },
    {
     "name": "stderr",
     "output_type": "stream",
     "text": [
      "218it [00:48,  4.54it/s]"
     ]
    },
    {
     "name": "stdout",
     "output_type": "stream",
     "text": [
      "Overall Acc: \t 0.546396160845\n",
      "Mean Acc : \t 0.41428337418\n",
      "FreqW Acc : \t 0.379134121151\n",
      "Mean IoU : \t 0.295483283332\n"
     ]
    },
    {
     "name": "stderr",
     "output_type": "stream",
     "text": [
      "\n"
     ]
    },
    {
     "name": "stdout",
     "output_type": "stream",
     "text": [
      "Epoch [41/50] Loss: 0.6174\n",
      "Epoch [41/50] Loss: 0.6562\n"
     ]
    },
    {
     "name": "stderr",
     "output_type": "stream",
     "text": [
      "218it [00:47,  4.55it/s]\n"
     ]
    },
    {
     "name": "stdout",
     "output_type": "stream",
     "text": [
      "Overall Acc: \t 0.563088948817\n",
      "Mean Acc : \t 0.427049933355\n",
      "FreqW Acc : \t 0.396713337102\n",
      "Mean IoU : \t 0.311044492625\n",
      "Epoch [42/50] Loss: 0.5304\n",
      "Epoch [42/50] Loss: 0.6011\n"
     ]
    },
    {
     "name": "stderr",
     "output_type": "stream",
     "text": [
      "218it [00:47,  4.56it/s]\n"
     ]
    },
    {
     "name": "stdout",
     "output_type": "stream",
     "text": [
      "Overall Acc: \t 0.564629841998\n",
      "Mean Acc : \t 0.441627952027\n",
      "FreqW Acc : \t 0.396326762704\n",
      "Mean IoU : \t 0.311808035862\n",
      "Epoch [43/50] Loss: 0.5042\n",
      "Epoch [43/50] Loss: 0.4986\n"
     ]
    },
    {
     "name": "stderr",
     "output_type": "stream",
     "text": [
      "218it [00:47,  4.57it/s]\n"
     ]
    },
    {
     "name": "stdout",
     "output_type": "stream",
     "text": [
      "Overall Acc: \t 0.560682478816\n",
      "Mean Acc : \t 0.424586990531\n",
      "FreqW Acc : \t 0.393003579532\n",
      "Mean IoU : \t 0.303696937164\n",
      "Epoch [44/50] Loss: 0.4013\n",
      "Epoch [44/50] Loss: 0.5803\n"
     ]
    },
    {
     "name": "stderr",
     "output_type": "stream",
     "text": [
      "218it [00:47,  4.54it/s]"
     ]
    },
    {
     "name": "stdout",
     "output_type": "stream",
     "text": [
      "Overall Acc: \t 0.557953812874\n",
      "Mean Acc : \t 0.426632631104\n",
      "FreqW Acc : \t 0.390958315453\n",
      "Mean IoU : \t 0.30461748482\n"
     ]
    },
    {
     "name": "stderr",
     "output_type": "stream",
     "text": [
      "\n"
     ]
    },
    {
     "name": "stdout",
     "output_type": "stream",
     "text": [
      "Epoch [45/50] Loss: 0.5691\n",
      "Epoch [45/50] Loss: 0.6122\n"
     ]
    },
    {
     "name": "stderr",
     "output_type": "stream",
     "text": [
      "218it [00:47,  4.59it/s]"
     ]
    },
    {
     "name": "stdout",
     "output_type": "stream",
     "text": [
      "Overall Acc: \t 0.557334362656\n",
      "Mean Acc : \t 0.414652126783\n",
      "FreqW Acc : \t 0.394120293775\n",
      "Mean IoU : \t 0.302488955082\n"
     ]
    },
    {
     "name": "stderr",
     "output_type": "stream",
     "text": [
      "\n"
     ]
    },
    {
     "name": "stdout",
     "output_type": "stream",
     "text": [
      "Epoch [46/50] Loss: 0.4637\n",
      "Epoch [46/50] Loss: 0.4740\n"
     ]
    },
    {
     "name": "stderr",
     "output_type": "stream",
     "text": [
      "218it [00:47,  4.57it/s]"
     ]
    },
    {
     "name": "stdout",
     "output_type": "stream",
     "text": [
      "Overall Acc: \t 0.561042199247\n",
      "Mean Acc : \t 0.420263081668\n",
      "FreqW Acc : \t 0.392140676143\n",
      "Mean IoU : \t 0.301419980425\n"
     ]
    },
    {
     "name": "stderr",
     "output_type": "stream",
     "text": [
      "\n"
     ]
    },
    {
     "name": "stdout",
     "output_type": "stream",
     "text": [
      "Epoch [47/50] Loss: 0.4409\n",
      "Epoch [47/50] Loss: 0.5961\n"
     ]
    },
    {
     "name": "stderr",
     "output_type": "stream",
     "text": [
      "218it [00:47,  4.61it/s]"
     ]
    },
    {
     "name": "stdout",
     "output_type": "stream",
     "text": [
      "Overall Acc: \t 0.551135102096\n",
      "Mean Acc : \t 0.407213070321\n",
      "FreqW Acc : \t 0.38073151533\n",
      "Mean IoU : \t 0.290972214189\n"
     ]
    },
    {
     "name": "stderr",
     "output_type": "stream",
     "text": [
      "\n"
     ]
    },
    {
     "name": "stdout",
     "output_type": "stream",
     "text": [
      "Epoch [48/50] Loss: 0.5603\n",
      "Epoch [48/50] Loss: 0.4579\n"
     ]
    },
    {
     "name": "stderr",
     "output_type": "stream",
     "text": [
      "218it [00:47,  4.59it/s]\n"
     ]
    },
    {
     "name": "stdout",
     "output_type": "stream",
     "text": [
      "Overall Acc: \t 0.559455329981\n",
      "Mean Acc : \t 0.432801734463\n",
      "FreqW Acc : \t 0.393217552697\n",
      "Mean IoU : \t 0.312949681607\n",
      "Epoch [49/50] Loss: 0.4740\n",
      "Epoch [49/50] Loss: 0.5616\n"
     ]
    },
    {
     "name": "stderr",
     "output_type": "stream",
     "text": [
      "218it [00:47,  4.62it/s]"
     ]
    },
    {
     "name": "stdout",
     "output_type": "stream",
     "text": [
      "Overall Acc: \t 0.561395946818\n",
      "Mean Acc : \t 0.423430433847\n",
      "FreqW Acc : \t 0.390411840041\n",
      "Mean IoU : \t 0.306472327399\n"
     ]
    },
    {
     "name": "stderr",
     "output_type": "stream",
     "text": [
      "\n"
     ]
    },
    {
     "name": "stdout",
     "output_type": "stream",
     "text": [
      "Epoch [50/50] Loss: 0.3438\n",
      "Epoch [50/50] Loss: 0.5382\n"
     ]
    },
    {
     "name": "stderr",
     "output_type": "stream",
     "text": [
      "218it [00:48,  4.53it/s]"
     ]
    },
    {
     "name": "stdout",
     "output_type": "stream",
     "text": [
      "Overall Acc: \t 0.557292940877\n",
      "Mean Acc : \t 0.416918694219\n",
      "FreqW Acc : \t 0.38905375984\n",
      "Mean IoU : \t 0.300570813611\n"
     ]
    },
    {
     "name": "stderr",
     "output_type": "stream",
     "text": [
      "\n"
     ]
    }
   ],
   "source": [
    "best_iou = -100.0 \n",
    "for epoch in range(args.n_epoch):\n",
    "    model.train()\n",
    "    for i, (color_imgs, depth_imgs, label_imgs) in enumerate(trainloader):\n",
    "        color_imgs = Variable(color_imgs.cuda())\n",
    "        depth_imgs = Variable(depth_imgs.cuda())\n",
    "        label_imgs = Variable(label_imgs.cuda())\n",
    "\n",
    "        optimizer.zero_grad()\n",
    "        outputs = model(color_imgs, depth_imgs)\n",
    "\n",
    "        loss = loss_fn(input=outputs, target=label_imgs)\n",
    "\n",
    "        loss.backward()\n",
    "        optimizer.step()\n",
    "\n",
    "        if args.visdom:\n",
    "            vis.line(\n",
    "                X=torch.ones((1, 1)).cpu() * i,\n",
    "                Y=torch.Tensor([loss.data[0]]).unsqueeze(0).cpu(),\n",
    "                win=loss_window,\n",
    "                update='append')\n",
    "\n",
    "        if (i+1) % 100 == 0:\n",
    "            print(\"Epoch [%d/%d] Loss: %.4f\" % (epoch+1, args.n_epoch, loss.data[0]))\n",
    "\n",
    "    model.eval()\n",
    "    for i_val, (color_images_val, depth_images_val, label_images_val) in tqdm(enumerate(valloader)):\n",
    "        color_images_val = Variable(color_images_val.cuda(), volatile=True)\n",
    "        depth_images_val = Variable(depth_images_val.cuda(), volatile=True)\n",
    "        label_images_val = Variable(label_images_val.cuda(), volatile=True)\n",
    "\n",
    "        outputs = model(color_images_val, depth_images_val)\n",
    "        pred = outputs.data.max(1)[1].cpu().numpy()\n",
    "        gt = label_images_val.data.cpu().numpy()\n",
    "        running_metrics.update(gt, pred)\n",
    "\n",
    "    score, class_iou = running_metrics.get_scores()\n",
    "    for k, v in score.items():\n",
    "        print(k, v)\n",
    "    running_metrics.reset()\n",
    "\n",
    "    if score['Mean IoU : \\t'] >= best_iou:\n",
    "        best_iou = score['Mean IoU : \\t']\n",
    "        state = {'epoch': epoch+1,\n",
    "                 'model_state': model.state_dict(),\n",
    "                 'optimizer_state' : optimizer.state_dict(),}\n",
    "        torch.save(state, \"../model_weights/{}_{}_best_model.pkl\".format(args.arch, 'NYUDv2'))"
   ]
  },
  {
   "cell_type": "markdown",
   "metadata": {},
   "source": [
    "# Training FCN_RGBD_mask on NYUDv2"
   ]
  },
  {
   "cell_type": "code",
   "execution_count": 1,
   "metadata": {},
   "outputs": [
    {
     "name": "stdout",
     "output_type": "stream",
     "text": [
      "Loading model and optimizer from checkpoint '../model_weights/FCN_RGBD_mask_NYUDv2_best_model.pkl'\n",
      "Loaded checkpoint '../model_weights/FCN_RGBD_mask_NYUDv2_best_model.pkl' (epoch 48)\n"
     ]
    },
    {
     "name": "stderr",
     "output_type": "stream",
     "text": [
      "/home/dongwonshin/.conda/envs/pytorch/lib/python3.6/site-packages/torch/nn/functional.py:1462: UserWarning: nn.functional.upsample_bilinear is deprecated. Use nn.functional.upsample instead.\n",
      "  warnings.warn(\"nn.functional.upsample_bilinear is deprecated. Use nn.functional.upsample instead.\")\n"
     ]
    },
    {
     "name": "stdout",
     "output_type": "stream",
     "text": [
      "Epoch [1/50] Loss: 0.4383\n",
      "Epoch [1/50] Loss: 0.5308\n"
     ]
    },
    {
     "name": "stderr",
     "output_type": "stream",
     "text": [
      "218it [00:48,  4.49it/s]\n"
     ]
    },
    {
     "name": "stdout",
     "output_type": "stream",
     "text": [
      "Overall Acc: \t 0.558090491805\n",
      "Mean Acc : \t 0.42221959107\n",
      "FreqW Acc : \t 0.393947037101\n",
      "Mean IoU : \t 0.309476837565\n",
      "Epoch [2/50] Loss: 0.3156\n",
      "Epoch [2/50] Loss: 0.5294\n"
     ]
    },
    {
     "name": "stderr",
     "output_type": "stream",
     "text": [
      "218it [00:49,  4.43it/s]"
     ]
    },
    {
     "name": "stdout",
     "output_type": "stream",
     "text": [
      "Overall Acc: \t 0.554844307467\n",
      "Mean Acc : \t 0.414739790281\n",
      "FreqW Acc : \t 0.3850362301\n",
      "Mean IoU : \t 0.297541097409\n"
     ]
    },
    {
     "name": "stderr",
     "output_type": "stream",
     "text": [
      "\n"
     ]
    },
    {
     "name": "stdout",
     "output_type": "stream",
     "text": [
      "Epoch [3/50] Loss: 0.5288\n",
      "Epoch [3/50] Loss: 0.4344\n"
     ]
    },
    {
     "name": "stderr",
     "output_type": "stream",
     "text": [
      "218it [00:48,  4.46it/s]"
     ]
    },
    {
     "name": "stdout",
     "output_type": "stream",
     "text": [
      "Overall Acc: \t 0.557744573657\n",
      "Mean Acc : \t 0.415783482734\n",
      "FreqW Acc : \t 0.389248167587\n",
      "Mean IoU : \t 0.302548765052\n"
     ]
    },
    {
     "name": "stderr",
     "output_type": "stream",
     "text": [
      "\n"
     ]
    },
    {
     "name": "stdout",
     "output_type": "stream",
     "text": [
      "Epoch [4/50] Loss: 0.5107\n",
      "Epoch [4/50] Loss: 0.3910\n"
     ]
    },
    {
     "name": "stderr",
     "output_type": "stream",
     "text": [
      "218it [00:49,  4.40it/s]"
     ]
    },
    {
     "name": "stdout",
     "output_type": "stream",
     "text": [
      "Overall Acc: \t 0.558259867164\n",
      "Mean Acc : \t 0.407889692672\n",
      "FreqW Acc : \t 0.390707873889\n",
      "Mean IoU : \t 0.29731620041\n"
     ]
    },
    {
     "name": "stderr",
     "output_type": "stream",
     "text": [
      "\n"
     ]
    },
    {
     "name": "stdout",
     "output_type": "stream",
     "text": [
      "Epoch [5/50] Loss: 0.5048\n",
      "Epoch [5/50] Loss: 0.5286\n"
     ]
    },
    {
     "name": "stderr",
     "output_type": "stream",
     "text": [
      "218it [00:49,  4.40it/s]"
     ]
    },
    {
     "name": "stdout",
     "output_type": "stream",
     "text": [
      "Overall Acc: \t 0.562943206072\n",
      "Mean Acc : \t 0.412234675329\n",
      "FreqW Acc : \t 0.395748057684\n",
      "Mean IoU : \t 0.301020264659\n"
     ]
    },
    {
     "name": "stderr",
     "output_type": "stream",
     "text": [
      "\n"
     ]
    },
    {
     "name": "stdout",
     "output_type": "stream",
     "text": [
      "Epoch [6/50] Loss: 0.3775\n",
      "Epoch [6/50] Loss: 0.4704\n"
     ]
    },
    {
     "name": "stderr",
     "output_type": "stream",
     "text": [
      "218it [00:49,  4.45it/s]"
     ]
    },
    {
     "name": "stdout",
     "output_type": "stream",
     "text": [
      "Overall Acc: \t 0.559769014598\n",
      "Mean Acc : \t 0.420201394994\n",
      "FreqW Acc : \t 0.392016558716\n",
      "Mean IoU : \t 0.304230639187\n"
     ]
    },
    {
     "name": "stderr",
     "output_type": "stream",
     "text": [
      "\n"
     ]
    },
    {
     "name": "stdout",
     "output_type": "stream",
     "text": [
      "Epoch [7/50] Loss: 0.4750\n",
      "Epoch [7/50] Loss: 0.3198\n"
     ]
    },
    {
     "name": "stderr",
     "output_type": "stream",
     "text": [
      "218it [00:49,  4.44it/s]"
     ]
    },
    {
     "name": "stdout",
     "output_type": "stream",
     "text": [
      "Overall Acc: \t 0.55886547528\n",
      "Mean Acc : \t 0.416129846903\n",
      "FreqW Acc : \t 0.391121512859\n",
      "Mean IoU : \t 0.301268237382\n"
     ]
    },
    {
     "name": "stderr",
     "output_type": "stream",
     "text": [
      "\n"
     ]
    },
    {
     "name": "stdout",
     "output_type": "stream",
     "text": [
      "Epoch [8/50] Loss: 0.5906\n",
      "Epoch [8/50] Loss: 0.5129\n"
     ]
    },
    {
     "name": "stderr",
     "output_type": "stream",
     "text": [
      "218it [00:48,  4.45it/s]"
     ]
    },
    {
     "name": "stdout",
     "output_type": "stream",
     "text": [
      "Overall Acc: \t 0.562255272044\n",
      "Mean Acc : \t 0.412341321859\n",
      "FreqW Acc : \t 0.390398725128\n",
      "Mean IoU : \t 0.301124723227\n"
     ]
    },
    {
     "name": "stderr",
     "output_type": "stream",
     "text": [
      "\n"
     ]
    },
    {
     "name": "stdout",
     "output_type": "stream",
     "text": [
      "Epoch [9/50] Loss: 0.4289\n",
      "Epoch [9/50] Loss: 0.3992\n"
     ]
    },
    {
     "name": "stderr",
     "output_type": "stream",
     "text": [
      "218it [00:48,  4.47it/s]"
     ]
    },
    {
     "name": "stdout",
     "output_type": "stream",
     "text": [
      "Overall Acc: \t 0.553641557762\n",
      "Mean Acc : \t 0.4056846335\n",
      "FreqW Acc : \t 0.386060014502\n",
      "Mean IoU : \t 0.295156911478\n"
     ]
    },
    {
     "name": "stderr",
     "output_type": "stream",
     "text": [
      "\n"
     ]
    },
    {
     "name": "stdout",
     "output_type": "stream",
     "text": [
      "Epoch [10/50] Loss: 0.5184\n",
      "Epoch [10/50] Loss: 0.4925\n"
     ]
    },
    {
     "name": "stderr",
     "output_type": "stream",
     "text": [
      "218it [00:49,  4.43it/s]"
     ]
    },
    {
     "name": "stdout",
     "output_type": "stream",
     "text": [
      "Overall Acc: \t 0.543619074924\n",
      "Mean Acc : \t 0.411688182023\n",
      "FreqW Acc : \t 0.380883026769\n",
      "Mean IoU : \t 0.299264402429\n"
     ]
    },
    {
     "name": "stderr",
     "output_type": "stream",
     "text": [
      "\n"
     ]
    },
    {
     "name": "stdout",
     "output_type": "stream",
     "text": [
      "Epoch [11/50] Loss: 0.5257\n",
      "Epoch [11/50] Loss: 0.5249\n"
     ]
    },
    {
     "name": "stderr",
     "output_type": "stream",
     "text": [
      "218it [00:49,  4.40it/s]"
     ]
    },
    {
     "name": "stdout",
     "output_type": "stream",
     "text": [
      "Overall Acc: \t 0.558476253902\n",
      "Mean Acc : \t 0.412587193709\n",
      "FreqW Acc : \t 0.389056057307\n",
      "Mean IoU : \t 0.299228879884\n"
     ]
    },
    {
     "name": "stderr",
     "output_type": "stream",
     "text": [
      "\n"
     ]
    },
    {
     "name": "stdout",
     "output_type": "stream",
     "text": [
      "Epoch [12/50] Loss: 0.4805\n",
      "Epoch [12/50] Loss: 0.4042\n"
     ]
    },
    {
     "name": "stderr",
     "output_type": "stream",
     "text": [
      "218it [00:49,  4.42it/s]"
     ]
    },
    {
     "name": "stdout",
     "output_type": "stream",
     "text": [
      "Overall Acc: \t 0.557954858125\n",
      "Mean Acc : \t 0.419590738388\n",
      "FreqW Acc : \t 0.388602781671\n",
      "Mean IoU : \t 0.300271505773\n"
     ]
    },
    {
     "name": "stderr",
     "output_type": "stream",
     "text": [
      "\n"
     ]
    },
    {
     "name": "stdout",
     "output_type": "stream",
     "text": [
      "Epoch [13/50] Loss: 0.2943\n",
      "Epoch [13/50] Loss: 0.4665\n"
     ]
    },
    {
     "name": "stderr",
     "output_type": "stream",
     "text": [
      "218it [00:48,  4.50it/s]"
     ]
    },
    {
     "name": "stdout",
     "output_type": "stream",
     "text": [
      "Overall Acc: \t 0.559300578173\n",
      "Mean Acc : \t 0.434130970881\n",
      "FreqW Acc : \t 0.39362184589\n",
      "Mean IoU : \t 0.309034896615\n"
     ]
    },
    {
     "name": "stderr",
     "output_type": "stream",
     "text": [
      "\n"
     ]
    },
    {
     "name": "stdout",
     "output_type": "stream",
     "text": [
      "Epoch [14/50] Loss: 0.5356\n",
      "Epoch [14/50] Loss: 0.3546\n"
     ]
    },
    {
     "name": "stderr",
     "output_type": "stream",
     "text": [
      "218it [00:49,  4.45it/s]"
     ]
    },
    {
     "name": "stdout",
     "output_type": "stream",
     "text": [
      "Overall Acc: \t 0.557986738261\n",
      "Mean Acc : \t 0.416952941854\n",
      "FreqW Acc : \t 0.387601905761\n",
      "Mean IoU : \t 0.30182273256\n"
     ]
    },
    {
     "name": "stderr",
     "output_type": "stream",
     "text": [
      "\n"
     ]
    },
    {
     "name": "stdout",
     "output_type": "stream",
     "text": [
      "Epoch [15/50] Loss: 0.5150\n",
      "Epoch [15/50] Loss: 0.4132\n"
     ]
    },
    {
     "name": "stderr",
     "output_type": "stream",
     "text": [
      "218it [00:48,  4.51it/s]"
     ]
    },
    {
     "name": "stdout",
     "output_type": "stream",
     "text": [
      "Overall Acc: \t 0.556104376712\n",
      "Mean Acc : \t 0.414146968804\n",
      "FreqW Acc : \t 0.389324263194\n",
      "Mean IoU : \t 0.301050325379\n"
     ]
    },
    {
     "name": "stderr",
     "output_type": "stream",
     "text": [
      "\n"
     ]
    },
    {
     "name": "stdout",
     "output_type": "stream",
     "text": [
      "Epoch [16/50] Loss: 0.4679\n",
      "Epoch [16/50] Loss: 0.5082\n"
     ]
    },
    {
     "name": "stderr",
     "output_type": "stream",
     "text": [
      "218it [00:48,  4.48it/s]"
     ]
    },
    {
     "name": "stdout",
     "output_type": "stream",
     "text": [
      "Overall Acc: \t 0.555176025142\n",
      "Mean Acc : \t 0.41397203329\n",
      "FreqW Acc : \t 0.385443037206\n",
      "Mean IoU : \t 0.298456773186\n"
     ]
    },
    {
     "name": "stderr",
     "output_type": "stream",
     "text": [
      "\n"
     ]
    },
    {
     "name": "stdout",
     "output_type": "stream",
     "text": [
      "Epoch [17/50] Loss: 0.5513\n",
      "Epoch [17/50] Loss: 0.3812\n"
     ]
    },
    {
     "name": "stderr",
     "output_type": "stream",
     "text": [
      "218it [00:49,  4.44it/s]"
     ]
    },
    {
     "name": "stdout",
     "output_type": "stream",
     "text": [
      "Overall Acc: \t 0.556737529665\n",
      "Mean Acc : \t 0.415261515539\n",
      "FreqW Acc : \t 0.387546709226\n",
      "Mean IoU : \t 0.301471805377\n"
     ]
    },
    {
     "name": "stderr",
     "output_type": "stream",
     "text": [
      "\n"
     ]
    },
    {
     "name": "stdout",
     "output_type": "stream",
     "text": [
      "Epoch [18/50] Loss: 0.4368\n",
      "Epoch [18/50] Loss: 0.4871\n"
     ]
    },
    {
     "name": "stderr",
     "output_type": "stream",
     "text": [
      "218it [00:49,  4.43it/s]\n"
     ]
    },
    {
     "name": "stdout",
     "output_type": "stream",
     "text": [
      "Overall Acc: \t 0.560312942987\n",
      "Mean Acc : \t 0.435368758012\n",
      "FreqW Acc : \t 0.392703138709\n",
      "Mean IoU : \t 0.313640048865\n",
      "Epoch [19/50] Loss: 0.4209\n",
      "Epoch [19/50] Loss: 0.4214\n"
     ]
    },
    {
     "name": "stderr",
     "output_type": "stream",
     "text": [
      "218it [00:48,  4.47it/s]"
     ]
    },
    {
     "name": "stdout",
     "output_type": "stream",
     "text": [
      "Overall Acc: \t 0.551288146662\n",
      "Mean Acc : \t 0.411716411188\n",
      "FreqW Acc : \t 0.386467468018\n",
      "Mean IoU : \t 0.30010799923\n"
     ]
    },
    {
     "name": "stderr",
     "output_type": "stream",
     "text": [
      "\n"
     ]
    },
    {
     "name": "stdout",
     "output_type": "stream",
     "text": [
      "Epoch [20/50] Loss: 0.3690\n",
      "Epoch [20/50] Loss: 0.3697\n"
     ]
    },
    {
     "name": "stderr",
     "output_type": "stream",
     "text": [
      "218it [00:50,  4.28it/s]"
     ]
    },
    {
     "name": "stdout",
     "output_type": "stream",
     "text": [
      "Overall Acc: \t 0.559477494266\n",
      "Mean Acc : \t 0.421135909204\n",
      "FreqW Acc : \t 0.393124459662\n",
      "Mean IoU : \t 0.301915488217\n"
     ]
    },
    {
     "name": "stderr",
     "output_type": "stream",
     "text": [
      "\n"
     ]
    },
    {
     "name": "stdout",
     "output_type": "stream",
     "text": [
      "Epoch [21/50] Loss: 0.3455\n",
      "Epoch [21/50] Loss: 0.4195\n"
     ]
    },
    {
     "name": "stderr",
     "output_type": "stream",
     "text": [
      "218it [00:50,  4.28it/s]"
     ]
    },
    {
     "name": "stdout",
     "output_type": "stream",
     "text": [
      "Overall Acc: \t 0.555171550475\n",
      "Mean Acc : \t 0.406439010386\n",
      "FreqW Acc : \t 0.389720615609\n",
      "Mean IoU : \t 0.298638038202\n"
     ]
    },
    {
     "name": "stderr",
     "output_type": "stream",
     "text": [
      "\n"
     ]
    },
    {
     "name": "stdout",
     "output_type": "stream",
     "text": [
      "Epoch [22/50] Loss: 0.4208\n",
      "Epoch [22/50] Loss: 0.4182\n"
     ]
    },
    {
     "name": "stderr",
     "output_type": "stream",
     "text": [
      "218it [00:50,  4.30it/s]"
     ]
    },
    {
     "name": "stdout",
     "output_type": "stream",
     "text": [
      "Overall Acc: \t 0.557981745946\n",
      "Mean Acc : \t 0.425820789691\n",
      "FreqW Acc : \t 0.387649127065\n",
      "Mean IoU : \t 0.306284707281\n"
     ]
    },
    {
     "name": "stderr",
     "output_type": "stream",
     "text": [
      "\n"
     ]
    },
    {
     "name": "stdout",
     "output_type": "stream",
     "text": [
      "Epoch [23/50] Loss: 0.4075\n",
      "Epoch [23/50] Loss: 0.4329\n"
     ]
    },
    {
     "name": "stderr",
     "output_type": "stream",
     "text": [
      "218it [00:50,  4.34it/s]"
     ]
    },
    {
     "name": "stdout",
     "output_type": "stream",
     "text": [
      "Overall Acc: \t 0.558353208023\n",
      "Mean Acc : \t 0.417174047305\n",
      "FreqW Acc : \t 0.392163869978\n",
      "Mean IoU : \t 0.30069225582\n"
     ]
    },
    {
     "name": "stderr",
     "output_type": "stream",
     "text": [
      "\n"
     ]
    },
    {
     "name": "stdout",
     "output_type": "stream",
     "text": [
      "Epoch [24/50] Loss: 0.4666\n",
      "Epoch [24/50] Loss: 0.2953\n"
     ]
    },
    {
     "name": "stderr",
     "output_type": "stream",
     "text": [
      "218it [00:50,  4.33it/s]"
     ]
    },
    {
     "name": "stdout",
     "output_type": "stream",
     "text": [
      "Overall Acc: \t 0.561517962379\n",
      "Mean Acc : \t 0.426177157152\n",
      "FreqW Acc : \t 0.391294400686\n",
      "Mean IoU : \t 0.30848554734\n"
     ]
    },
    {
     "name": "stderr",
     "output_type": "stream",
     "text": [
      "\n"
     ]
    },
    {
     "name": "stdout",
     "output_type": "stream",
     "text": [
      "Epoch [25/50] Loss: 0.3805\n",
      "Epoch [25/50] Loss: 0.2993\n"
     ]
    },
    {
     "name": "stderr",
     "output_type": "stream",
     "text": [
      "218it [00:50,  4.34it/s]"
     ]
    },
    {
     "name": "stdout",
     "output_type": "stream",
     "text": [
      "Overall Acc: \t 0.554924428397\n",
      "Mean Acc : \t 0.421304989333\n",
      "FreqW Acc : \t 0.383217115992\n",
      "Mean IoU : \t 0.300942566116\n"
     ]
    },
    {
     "name": "stderr",
     "output_type": "stream",
     "text": [
      "\n"
     ]
    },
    {
     "name": "stdout",
     "output_type": "stream",
     "text": [
      "Epoch [26/50] Loss: 0.3971\n",
      "Epoch [26/50] Loss: 0.4193\n"
     ]
    },
    {
     "name": "stderr",
     "output_type": "stream",
     "text": [
      "218it [00:50,  4.31it/s]"
     ]
    },
    {
     "name": "stdout",
     "output_type": "stream",
     "text": [
      "Overall Acc: \t 0.56130889737\n",
      "Mean Acc : \t 0.413507377528\n",
      "FreqW Acc : \t 0.39674680319\n",
      "Mean IoU : \t 0.306052368398\n"
     ]
    },
    {
     "name": "stderr",
     "output_type": "stream",
     "text": [
      "\n"
     ]
    },
    {
     "name": "stdout",
     "output_type": "stream",
     "text": [
      "Epoch [27/50] Loss: 0.4463\n",
      "Epoch [27/50] Loss: 0.6088\n"
     ]
    },
    {
     "name": "stderr",
     "output_type": "stream",
     "text": [
      "218it [00:50,  4.31it/s]"
     ]
    },
    {
     "name": "stdout",
     "output_type": "stream",
     "text": [
      "Overall Acc: \t 0.559762777937\n",
      "Mean Acc : \t 0.433401137738\n",
      "FreqW Acc : \t 0.388803329051\n",
      "Mean IoU : \t 0.308359887241\n"
     ]
    },
    {
     "name": "stderr",
     "output_type": "stream",
     "text": [
      "\n"
     ]
    },
    {
     "name": "stdout",
     "output_type": "stream",
     "text": [
      "Epoch [28/50] Loss: 0.2953\n",
      "Epoch [28/50] Loss: 0.4262\n"
     ]
    },
    {
     "name": "stderr",
     "output_type": "stream",
     "text": [
      "218it [00:50,  4.34it/s]"
     ]
    },
    {
     "name": "stdout",
     "output_type": "stream",
     "text": [
      "Overall Acc: \t 0.562480423954\n",
      "Mean Acc : \t 0.427728159716\n",
      "FreqW Acc : \t 0.39337311057\n",
      "Mean IoU : \t 0.309281776013\n"
     ]
    },
    {
     "name": "stderr",
     "output_type": "stream",
     "text": [
      "\n",
      "Process Process-903:\n",
      "Process Process-898:\n",
      "Process Process-901:\n",
      "Process Process-897:\n",
      "Process Process-905:\n",
      "Process Process-906:\n",
      "Process Process-911:\n",
      "Process Process-912:\n",
      "Process Process-899:\n",
      "Process Process-908:\n",
      "Process Process-910:\n",
      "Process Process-904:\n",
      "Process Process-907:\n",
      "Process Process-900:\n",
      "Process Process-902:\n",
      "Traceback (most recent call last):\n",
      "Traceback (most recent call last):\n",
      "Traceback (most recent call last):\n",
      "Traceback (most recent call last):\n",
      "Traceback (most recent call last):\n",
      "Process Process-909:\n",
      "Traceback (most recent call last):\n",
      "Traceback (most recent call last):\n",
      "Traceback (most recent call last):\n",
      "Traceback (most recent call last):\n",
      "  File \"/home/dongwonshin/.conda/envs/pytorch/lib/python3.6/multiprocessing/process.py\", line 258, in _bootstrap\n",
      "    self.run()\n",
      "Traceback (most recent call last):\n",
      "  File \"/home/dongwonshin/.conda/envs/pytorch/lib/python3.6/multiprocessing/process.py\", line 258, in _bootstrap\n",
      "    self.run()\n",
      "Traceback (most recent call last):\n",
      "Traceback (most recent call last):\n",
      "  File \"/home/dongwonshin/.conda/envs/pytorch/lib/python3.6/multiprocessing/process.py\", line 258, in _bootstrap\n",
      "    self.run()\n",
      "  File \"/home/dongwonshin/.conda/envs/pytorch/lib/python3.6/multiprocessing/process.py\", line 258, in _bootstrap\n",
      "    self.run()\n",
      "  File \"/home/dongwonshin/.conda/envs/pytorch/lib/python3.6/multiprocessing/process.py\", line 258, in _bootstrap\n",
      "    self.run()\n",
      "  File \"/home/dongwonshin/.conda/envs/pytorch/lib/python3.6/multiprocessing/process.py\", line 258, in _bootstrap\n",
      "    self.run()\n",
      "  File \"/home/dongwonshin/.conda/envs/pytorch/lib/python3.6/multiprocessing/process.py\", line 93, in run\n",
      "    self._target(*self._args, **self._kwargs)\n",
      "  File \"/home/dongwonshin/.conda/envs/pytorch/lib/python3.6/multiprocessing/process.py\", line 258, in _bootstrap\n",
      "    self.run()\n",
      "  File \"/home/dongwonshin/.conda/envs/pytorch/lib/python3.6/multiprocessing/process.py\", line 258, in _bootstrap\n",
      "    self.run()\n",
      "  File \"/home/dongwonshin/.conda/envs/pytorch/lib/python3.6/multiprocessing/process.py\", line 93, in run\n",
      "    self._target(*self._args, **self._kwargs)\n",
      "Traceback (most recent call last):\n",
      "Traceback (most recent call last):\n",
      "  File \"/home/dongwonshin/.conda/envs/pytorch/lib/python3.6/multiprocessing/process.py\", line 258, in _bootstrap\n",
      "    self.run()\n",
      "  File \"/home/dongwonshin/.conda/envs/pytorch/lib/python3.6/multiprocessing/process.py\", line 93, in run\n",
      "    self._target(*self._args, **self._kwargs)\n",
      "  File \"/home/dongwonshin/.conda/envs/pytorch/lib/python3.6/multiprocessing/process.py\", line 258, in _bootstrap\n",
      "    self.run()\n",
      "  File \"/home/dongwonshin/.conda/envs/pytorch/lib/python3.6/multiprocessing/process.py\", line 93, in run\n",
      "    self._target(*self._args, **self._kwargs)\n",
      "  File \"/home/dongwonshin/.conda/envs/pytorch/lib/python3.6/multiprocessing/process.py\", line 93, in run\n",
      "    self._target(*self._args, **self._kwargs)\n",
      "Traceback (most recent call last):\n",
      "  File \"/home/dongwonshin/.conda/envs/pytorch/lib/python3.6/multiprocessing/process.py\", line 93, in run\n",
      "    self._target(*self._args, **self._kwargs)\n",
      "  File \"/home/dongwonshin/.conda/envs/pytorch/lib/python3.6/multiprocessing/process.py\", line 93, in run\n",
      "    self._target(*self._args, **self._kwargs)\n",
      "Traceback (most recent call last):\n",
      "  File \"/home/dongwonshin/.conda/envs/pytorch/lib/python3.6/site-packages/torch/utils/data/dataloader.py\", line 50, in _worker_loop\n",
      "    r = index_queue.get()\n",
      "  File \"/home/dongwonshin/.conda/envs/pytorch/lib/python3.6/multiprocessing/process.py\", line 258, in _bootstrap\n",
      "    self.run()\n",
      "  File \"/home/dongwonshin/.conda/envs/pytorch/lib/python3.6/multiprocessing/process.py\", line 258, in _bootstrap\n",
      "    self.run()\n",
      "  File \"/home/dongwonshin/.conda/envs/pytorch/lib/python3.6/multiprocessing/process.py\", line 93, in run\n",
      "    self._target(*self._args, **self._kwargs)\n",
      "  File \"/home/dongwonshin/.conda/envs/pytorch/lib/python3.6/site-packages/torch/utils/data/dataloader.py\", line 50, in _worker_loop\n",
      "    r = index_queue.get()\n",
      "  File \"/home/dongwonshin/.conda/envs/pytorch/lib/python3.6/multiprocessing/process.py\", line 93, in run\n",
      "    self._target(*self._args, **self._kwargs)\n",
      "  File \"/home/dongwonshin/.conda/envs/pytorch/lib/python3.6/multiprocessing/process.py\", line 258, in _bootstrap\n",
      "    self.run()\n",
      "  File \"/home/dongwonshin/.conda/envs/pytorch/lib/python3.6/site-packages/torch/utils/data/dataloader.py\", line 50, in _worker_loop\n",
      "    r = index_queue.get()\n",
      "  File \"/home/dongwonshin/.conda/envs/pytorch/lib/python3.6/site-packages/torch/utils/data/dataloader.py\", line 50, in _worker_loop\n",
      "    r = index_queue.get()\n",
      "  File \"/home/dongwonshin/.conda/envs/pytorch/lib/python3.6/multiprocessing/process.py\", line 258, in _bootstrap\n",
      "    self.run()\n",
      "  File \"/home/dongwonshin/.conda/envs/pytorch/lib/python3.6/site-packages/torch/utils/data/dataloader.py\", line 50, in _worker_loop\n",
      "    r = index_queue.get()\n",
      "  File \"/home/dongwonshin/.conda/envs/pytorch/lib/python3.6/multiprocessing/process.py\", line 258, in _bootstrap\n",
      "    self.run()\n",
      "  File \"/home/dongwonshin/.conda/envs/pytorch/lib/python3.6/site-packages/torch/utils/data/dataloader.py\", line 50, in _worker_loop\n",
      "    r = index_queue.get()\n",
      "  File \"/home/dongwonshin/.conda/envs/pytorch/lib/python3.6/multiprocessing/process.py\", line 93, in run\n",
      "    self._target(*self._args, **self._kwargs)\n",
      "  File \"/home/dongwonshin/.conda/envs/pytorch/lib/python3.6/multiprocessing/process.py\", line 93, in run\n",
      "    self._target(*self._args, **self._kwargs)\n",
      "  File \"/home/dongwonshin/.conda/envs/pytorch/lib/python3.6/multiprocessing/queues.py\", line 335, in get\n",
      "    res = self._reader.recv_bytes()\n",
      "  File \"/home/dongwonshin/.conda/envs/pytorch/lib/python3.6/multiprocessing/process.py\", line 258, in _bootstrap\n",
      "    self.run()\n",
      "  File \"/home/dongwonshin/.conda/envs/pytorch/lib/python3.6/multiprocessing/process.py\", line 93, in run\n",
      "    self._target(*self._args, **self._kwargs)\n",
      "  File \"/home/dongwonshin/.conda/envs/pytorch/lib/python3.6/site-packages/torch/utils/data/dataloader.py\", line 50, in _worker_loop\n",
      "    r = index_queue.get()\n",
      "  File \"/home/dongwonshin/.conda/envs/pytorch/lib/python3.6/site-packages/torch/utils/data/dataloader.py\", line 50, in _worker_loop\n",
      "    r = index_queue.get()\n",
      "  File \"/home/dongwonshin/.conda/envs/pytorch/lib/python3.6/site-packages/torch/utils/data/dataloader.py\", line 50, in _worker_loop\n",
      "    r = index_queue.get()\n",
      "  File \"/home/dongwonshin/.conda/envs/pytorch/lib/python3.6/multiprocessing/process.py\", line 93, in run\n",
      "    self._target(*self._args, **self._kwargs)\n",
      "  File \"/home/dongwonshin/.conda/envs/pytorch/lib/python3.6/multiprocessing/queues.py\", line 334, in get\n",
      "    with self._rlock:\n",
      "  File \"/home/dongwonshin/.conda/envs/pytorch/lib/python3.6/multiprocessing/queues.py\", line 334, in get\n",
      "    with self._rlock:\n",
      "  File \"/home/dongwonshin/.conda/envs/pytorch/lib/python3.6/multiprocessing/queues.py\", line 334, in get\n",
      "    with self._rlock:\n",
      "  File \"/home/dongwonshin/.conda/envs/pytorch/lib/python3.6/multiprocessing/queues.py\", line 334, in get\n",
      "    with self._rlock:\n",
      "  File \"/home/dongwonshin/.conda/envs/pytorch/lib/python3.6/multiprocessing/process.py\", line 93, in run\n",
      "    self._target(*self._args, **self._kwargs)\n",
      "  File \"/home/dongwonshin/.conda/envs/pytorch/lib/python3.6/multiprocessing/queues.py\", line 334, in get\n",
      "    with self._rlock:\n",
      "  File \"/home/dongwonshin/.conda/envs/pytorch/lib/python3.6/multiprocessing/process.py\", line 93, in run\n",
      "    self._target(*self._args, **self._kwargs)\n",
      "  File \"/home/dongwonshin/.conda/envs/pytorch/lib/python3.6/site-packages/torch/utils/data/dataloader.py\", line 50, in _worker_loop\n",
      "    r = index_queue.get()\n",
      "  File \"/home/dongwonshin/.conda/envs/pytorch/lib/python3.6/site-packages/torch/utils/data/dataloader.py\", line 50, in _worker_loop\n",
      "    r = index_queue.get()\n",
      "  File \"/home/dongwonshin/.conda/envs/pytorch/lib/python3.6/multiprocessing/connection.py\", line 216, in recv_bytes\n",
      "    buf = self._recv_bytes(maxlength)\n",
      "  File \"/home/dongwonshin/.conda/envs/pytorch/lib/python3.6/site-packages/torch/utils/data/dataloader.py\", line 50, in _worker_loop\n",
      "    r = index_queue.get()\n",
      "  File \"/home/dongwonshin/.conda/envs/pytorch/lib/python3.6/multiprocessing/queues.py\", line 334, in get\n",
      "    with self._rlock:\n",
      "  File \"/home/dongwonshin/.conda/envs/pytorch/lib/python3.6/multiprocessing/process.py\", line 93, in run\n",
      "    self._target(*self._args, **self._kwargs)\n",
      "  File \"/home/dongwonshin/.conda/envs/pytorch/lib/python3.6/multiprocessing/queues.py\", line 334, in get\n",
      "    with self._rlock:\n",
      "  File \"/home/dongwonshin/.conda/envs/pytorch/lib/python3.6/site-packages/torch/utils/data/dataloader.py\", line 50, in _worker_loop\n",
      "    r = index_queue.get()\n",
      "  File \"/home/dongwonshin/.conda/envs/pytorch/lib/python3.6/multiprocessing/synchronize.py\", line 96, in __enter__\n",
      "    return self._semlock.__enter__()\n",
      "  File \"/home/dongwonshin/.conda/envs/pytorch/lib/python3.6/multiprocessing/queues.py\", line 334, in get\n",
      "    with self._rlock:\n",
      "  File \"/home/dongwonshin/.conda/envs/pytorch/lib/python3.6/multiprocessing/synchronize.py\", line 96, in __enter__\n",
      "    return self._semlock.__enter__()\n",
      "  File \"/home/dongwonshin/.conda/envs/pytorch/lib/python3.6/multiprocessing/synchronize.py\", line 96, in __enter__\n",
      "    return self._semlock.__enter__()\n",
      "  File \"/home/dongwonshin/.conda/envs/pytorch/lib/python3.6/multiprocessing/synchronize.py\", line 96, in __enter__\n",
      "    return self._semlock.__enter__()\n",
      "  File \"/home/dongwonshin/.conda/envs/pytorch/lib/python3.6/site-packages/torch/utils/data/dataloader.py\", line 50, in _worker_loop\n",
      "    r = index_queue.get()\n",
      "  File \"/home/dongwonshin/.conda/envs/pytorch/lib/python3.6/multiprocessing/synchronize.py\", line 96, in __enter__\n",
      "    return self._semlock.__enter__()\n",
      "  File \"/home/dongwonshin/.conda/envs/pytorch/lib/python3.6/multiprocessing/queues.py\", line 334, in get\n",
      "    with self._rlock:\n",
      "  File \"/home/dongwonshin/.conda/envs/pytorch/lib/python3.6/multiprocessing/queues.py\", line 334, in get\n",
      "    with self._rlock:\n",
      "  File \"/home/dongwonshin/.conda/envs/pytorch/lib/python3.6/site-packages/torch/utils/data/dataloader.py\", line 50, in _worker_loop\n",
      "    r = index_queue.get()\n",
      "  File \"/home/dongwonshin/.conda/envs/pytorch/lib/python3.6/multiprocessing/connection.py\", line 407, in _recv_bytes\n",
      "    buf = self._recv(4)\n",
      "  File \"/home/dongwonshin/.conda/envs/pytorch/lib/python3.6/multiprocessing/synchronize.py\", line 96, in __enter__\n",
      "    return self._semlock.__enter__()\n",
      "  File \"/home/dongwonshin/.conda/envs/pytorch/lib/python3.6/multiprocessing/queues.py\", line 334, in get\n",
      "    with self._rlock:\n",
      "  File \"/home/dongwonshin/.conda/envs/pytorch/lib/python3.6/multiprocessing/synchronize.py\", line 96, in __enter__\n",
      "    return self._semlock.__enter__()\n",
      "  File \"/home/dongwonshin/.conda/envs/pytorch/lib/python3.6/site-packages/torch/utils/data/dataloader.py\", line 50, in _worker_loop\n",
      "    r = index_queue.get()\n",
      "  File \"/home/dongwonshin/.conda/envs/pytorch/lib/python3.6/multiprocessing/queues.py\", line 334, in get\n",
      "    with self._rlock:\n",
      "KeyboardInterrupt\n",
      "  File \"/home/dongwonshin/.conda/envs/pytorch/lib/python3.6/multiprocessing/synchronize.py\", line 96, in __enter__\n",
      "    return self._semlock.__enter__()\n",
      "KeyboardInterrupt\n",
      "KeyboardInterrupt\n",
      "KeyboardInterrupt\n",
      "  File \"/home/dongwonshin/.conda/envs/pytorch/lib/python3.6/multiprocessing/queues.py\", line 334, in get\n",
      "    with self._rlock:\n",
      "KeyboardInterrupt\n",
      "  File \"/home/dongwonshin/.conda/envs/pytorch/lib/python3.6/multiprocessing/synchronize.py\", line 96, in __enter__\n",
      "    return self._semlock.__enter__()\n",
      "  File \"/home/dongwonshin/.conda/envs/pytorch/lib/python3.6/multiprocessing/synchronize.py\", line 96, in __enter__\n",
      "    return self._semlock.__enter__()\n",
      "  File \"/home/dongwonshin/.conda/envs/pytorch/lib/python3.6/multiprocessing/connection.py\", line 379, in _recv\n",
      "    chunk = read(handle, remaining)\n",
      "  File \"/home/dongwonshin/.conda/envs/pytorch/lib/python3.6/multiprocessing/queues.py\", line 334, in get\n",
      "    with self._rlock:\n",
      "  File \"/home/dongwonshin/.conda/envs/pytorch/lib/python3.6/multiprocessing/synchronize.py\", line 96, in __enter__\n",
      "    return self._semlock.__enter__()\n",
      "KeyboardInterrupt\n",
      "  File \"/home/dongwonshin/.conda/envs/pytorch/lib/python3.6/multiprocessing/queues.py\", line 334, in get\n",
      "    with self._rlock:\n",
      "  File \"/home/dongwonshin/.conda/envs/pytorch/lib/python3.6/multiprocessing/synchronize.py\", line 96, in __enter__\n",
      "    return self._semlock.__enter__()\n",
      "KeyboardInterrupt\n",
      "KeyboardInterrupt\n",
      "  File \"/home/dongwonshin/.conda/envs/pytorch/lib/python3.6/multiprocessing/synchronize.py\", line 96, in __enter__\n",
      "    return self._semlock.__enter__()\n",
      "KeyboardInterrupt\n",
      "KeyboardInterrupt\n",
      "KeyboardInterrupt\n",
      "  File \"/home/dongwonshin/.conda/envs/pytorch/lib/python3.6/multiprocessing/synchronize.py\", line 96, in __enter__\n",
      "    return self._semlock.__enter__()\n",
      "  File \"/home/dongwonshin/.conda/envs/pytorch/lib/python3.6/multiprocessing/synchronize.py\", line 96, in __enter__\n",
      "    return self._semlock.__enter__()\n",
      "KeyboardInterrupt\n",
      "KeyboardInterrupt\n",
      "KeyboardInterrupt\n",
      "KeyboardInterrupt\n",
      "KeyboardInterrupt\n",
      "Exception ignored in: <bound method DataLoaderIter.__del__ of <torch.utils.data.dataloader.DataLoaderIter object at 0x7fb970f6df60>>\n",
      "Traceback (most recent call last):\n",
      "  File \"/home/dongwonshin/.conda/envs/pytorch/lib/python3.6/site-packages/torch/utils/data/dataloader.py\", line 331, in __del__\n",
      "    def __del__(self):\n",
      "  File \"/home/dongwonshin/.conda/envs/pytorch/lib/python3.6/site-packages/torch/utils/data/dataloader.py\", line 175, in handler\n",
      "    _error_if_any_worker_fails()\n",
      "RuntimeError: DataLoader worker (pid 12720) exited unexpectedly with exit code 1.\n"
     ]
    },
    {
     "ename": "KeyboardInterrupt",
     "evalue": "",
     "output_type": "error",
     "traceback": [
      "\u001b[0;31m---------------------------------------------------------------------------\u001b[0m",
      "\u001b[0;31mKeyboardInterrupt\u001b[0m                         Traceback (most recent call last)",
      "\u001b[0;32m<ipython-input-1-bf1f3a82a68a>\u001b[0m in \u001b[0;36m<module>\u001b[0;34m()\u001b[0m\n\u001b[1;32m      5\u001b[0m \u001b[0mtrainer\u001b[0m \u001b[0;34m=\u001b[0m \u001b[0mtrainer\u001b[0m\u001b[0;34m(\u001b[0m\u001b[0marg_str\u001b[0m\u001b[0;34m)\u001b[0m\u001b[0;34m\u001b[0m\u001b[0m\n\u001b[1;32m      6\u001b[0m \u001b[0mtrainer\u001b[0m\u001b[0;34m.\u001b[0m\u001b[0mmodel_init\u001b[0m\u001b[0;34m(\u001b[0m\u001b[0;34m)\u001b[0m\u001b[0;34m\u001b[0m\u001b[0m\n\u001b[0;32m----> 7\u001b[0;31m \u001b[0mtrainer\u001b[0m\u001b[0;34m.\u001b[0m\u001b[0mtraining\u001b[0m\u001b[0;34m(\u001b[0m\u001b[0;34m)\u001b[0m\u001b[0;34m\u001b[0m\u001b[0m\n\u001b[0m",
      "\u001b[0;32m~/Desktop/semantic_segmentation_rgbd/research_notebooks/utils.py\u001b[0m in \u001b[0;36mtraining\u001b[0;34m(self)\u001b[0m\n\u001b[1;32m    131\u001b[0m                     self.vis.line(\n\u001b[1;32m    132\u001b[0m                         \u001b[0mX\u001b[0m\u001b[0;34m=\u001b[0m\u001b[0mtorch\u001b[0m\u001b[0;34m.\u001b[0m\u001b[0mones\u001b[0m\u001b[0;34m(\u001b[0m\u001b[0;34m(\u001b[0m\u001b[0;36m1\u001b[0m\u001b[0;34m,\u001b[0m \u001b[0;36m1\u001b[0m\u001b[0;34m)\u001b[0m\u001b[0;34m)\u001b[0m\u001b[0;34m.\u001b[0m\u001b[0mcpu\u001b[0m\u001b[0;34m(\u001b[0m\u001b[0;34m)\u001b[0m \u001b[0;34m*\u001b[0m \u001b[0mx_pos\u001b[0m\u001b[0;34m,\u001b[0m\u001b[0;34m\u001b[0m\u001b[0m\n\u001b[0;32m--> 133\u001b[0;31m                         \u001b[0mY\u001b[0m\u001b[0;34m=\u001b[0m\u001b[0mtorch\u001b[0m\u001b[0;34m.\u001b[0m\u001b[0mTensor\u001b[0m\u001b[0;34m(\u001b[0m\u001b[0;34m[\u001b[0m\u001b[0mloss\u001b[0m\u001b[0;34m.\u001b[0m\u001b[0mdata\u001b[0m\u001b[0;34m[\u001b[0m\u001b[0;36m0\u001b[0m\u001b[0;34m]\u001b[0m\u001b[0;34m]\u001b[0m\u001b[0;34m)\u001b[0m\u001b[0;34m.\u001b[0m\u001b[0munsqueeze\u001b[0m\u001b[0;34m(\u001b[0m\u001b[0;36m0\u001b[0m\u001b[0;34m)\u001b[0m\u001b[0;34m.\u001b[0m\u001b[0mcpu\u001b[0m\u001b[0;34m(\u001b[0m\u001b[0;34m)\u001b[0m\u001b[0;34m,\u001b[0m\u001b[0;34m\u001b[0m\u001b[0m\n\u001b[0m\u001b[1;32m    134\u001b[0m                         \u001b[0mwin\u001b[0m\u001b[0;34m=\u001b[0m\u001b[0mself\u001b[0m\u001b[0;34m.\u001b[0m\u001b[0mloss_window\u001b[0m\u001b[0;34m,\u001b[0m\u001b[0;34m\u001b[0m\u001b[0m\n\u001b[1;32m    135\u001b[0m                         update='append')\n",
      "\u001b[0;31mKeyboardInterrupt\u001b[0m: "
     ]
    }
   ],
   "source": [
    "from utils import *\n",
    "\n",
    "arg_str = '--gpu_idx 4 ' \\\n",
    "          '--arch FCN_RGBD_mask ' \\\n",
    "          '--input_type RGBD ' \\\n",
    "          '--dataset NYUDv2 ' \\\n",
    "          '--batch_size 3 ' \\\n",
    "          '--n_epoch 50 ' \\\n",
    "          '--resume ../model_weights/FCN_RGBD_mask_NYUDv2_best_model.pkl ' \\\n",
    "          '--visdom'\n",
    "\n",
    "trainer = trainer(arg_str)\n",
    "trainer.model_init()\n",
    "trainer.training()"
   ]
  },
  {
   "cell_type": "code",
   "execution_count": null,
   "metadata": {},
   "outputs": [],
   "source": []
  }
 ],
 "metadata": {
  "kernelspec": {
   "display_name": "Python [conda env:pytorch]",
   "language": "python",
   "name": "conda-env-pytorch-py"
  },
  "language_info": {
   "codemirror_mode": {
    "name": "ipython",
    "version": 3
   },
   "file_extension": ".py",
   "mimetype": "text/x-python",
   "name": "python",
   "nbconvert_exporter": "python",
   "pygments_lexer": "ipython3",
   "version": "3.6.3"
  }
 },
 "nbformat": 4,
 "nbformat_minor": 2
}
