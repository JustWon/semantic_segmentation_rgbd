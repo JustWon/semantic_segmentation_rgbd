{
 "cells": [
  {
   "cell_type": "code",
   "execution_count": 1,
   "metadata": {},
   "outputs": [],
   "source": [
    "%matplotlib inline\n",
    "import os\n",
    "import collections\n",
    "import torch\n",
    "import torchvision\n",
    "import numpy as np\n",
    "import scipy.misc as m\n",
    "import scipy.io as io\n",
    "import matplotlib.pyplot as plt\n",
    "\n",
    "from NYUDv2Loader import *\n",
    "\n",
    "os.environ['CUDA_VISIBLE_DEVICES'] = '3'\n",
    "data_path = '/home/dongwonshin/Desktop/Datasets/NYUDv2/'\n",
    "arg_string = '--arch fcn8s_rgbd_renet --batch_size 3'"
   ]
  },
  {
   "cell_type": "markdown",
   "metadata": {},
   "source": [
    "# Argument setting"
   ]
  },
  {
   "cell_type": "code",
   "execution_count": 2,
   "metadata": {},
   "outputs": [],
   "source": [
    "import sys, os\n",
    "import torch\n",
    "import visdom\n",
    "import argparse\n",
    "import numpy as np\n",
    "import torch.nn as nn\n",
    "import torch.nn.functional as F\n",
    "import torchvision.models as models\n",
    "\n",
    "from torch.autograd import Variable\n",
    "from torch.utils import data\n",
    "from tqdm import tqdm\n",
    "\n",
    "from ptsemseg.models import get_model\n",
    "from ptsemseg.loader import get_loader, get_data_path\n",
    "from ptsemseg.metrics import runningScore\n",
    "from ptsemseg.loss import *\n",
    "from ptsemseg.augmentations import *\n",
    "\n",
    "\n",
    "parser = argparse.ArgumentParser(description='Hyperparams')\n",
    "parser.add_argument('--arch', nargs='?', type=str, default='fcn8s', help='Architecture to use [\\'fcn8s, unet, segnet etc\\']')\n",
    "parser.add_argument('--img_rows', nargs='?', type=int, default=256, help='Height of the input image')\n",
    "parser.add_argument('--img_cols', nargs='?', type=int, default=256, help='Width of the input image')\n",
    "\n",
    "parser.add_argument('--img_norm', dest='img_norm', action='store_true', help='Enable input image scales normalization [0, 1] | True by default')\n",
    "parser.add_argument('--no-img_norm', dest='img_norm', action='store_false', help='Disable input image scales normalization [0, 1] | True by default')\n",
    "parser.set_defaults(img_norm=True)\n",
    "\n",
    "parser.add_argument('--n_epoch', nargs='?', type=int, default=100, help='# of the epochs')\n",
    "parser.add_argument('--batch_size', nargs='?', type=int, default=1, help='Batch Size')\n",
    "parser.add_argument('--l_rate', nargs='?', type=float, default=1e-5, help='Learning Rate')\n",
    "parser.add_argument('--feature_scale', nargs='?', type=int, default=1, help='Divider for # of features to use')\n",
    "parser.add_argument('--resume', nargs='?', type=str, default=None, help='Path to previous saved model to restart from')\n",
    "\n",
    "parser.add_argument('--visdom', dest='visdom', action='store_true', help='Enable visualization(s) on visdom | False by default')\n",
    "parser.add_argument('--no-visdom', dest='visdom', action='store_false', help='Disable visualization(s) on visdom | False by default')\n",
    "parser.set_defaults(visdom=False)"
   ]
  },
  {
   "cell_type": "code",
   "execution_count": 3,
   "metadata": {},
   "outputs": [],
   "source": [
    "args = parser.parse_args(arg_string.split(' '))\n",
    "\n",
    "# Setup Augmentations\n",
    "data_aug= Compose([RandomRotate(10), RandomHorizontallyFlip()])\n",
    "\n",
    "# Setup Dataloader\n",
    "t_loader = NYUDv2Loader(data_path, is_transform=True)\n",
    "v_loader = NYUDv2Loader(data_path, is_transform=True, split='val')\n",
    "\n",
    "n_classes = t_loader.n_classes\n",
    "trainloader = data.DataLoader(t_loader, batch_size=args.batch_size, num_workers=16, shuffle=True)\n",
    "valloader = data.DataLoader(v_loader, batch_size=args.batch_size, num_workers=16)\n",
    "\n",
    "# Setup Metrics\n",
    "running_metrics = runningScore(n_classes)\n",
    "\n",
    "# Setup visdom for visualization\n",
    "if args.visdom:\n",
    "    vis = visdom.Visdom()\n",
    "\n",
    "    loss_window = vis.line(X=torch.zeros((1,)).cpu(),\n",
    "                       Y=torch.zeros((1)).cpu(),\n",
    "                       opts=dict(xlabel='minibatches',\n",
    "                                 ylabel='Loss',\n",
    "                                 title='Training Loss',\n",
    "                                 legend=['Loss']))\n",
    "\n",
    "# Setup Model\n",
    "model = get_model(args.arch, n_classes)\n",
    "\n",
    "model = torch.nn.DataParallel(model, device_ids=range(torch.cuda.device_count()))\n",
    "model.cuda()\n",
    "\n",
    "# Check if model has custom optimizer / loss\n",
    "if hasattr(model.module, 'optimizer'):\n",
    "    optimizer = model.module.optimizer\n",
    "else:\n",
    "    optimizer = torch.optim.SGD(model.parameters(), lr=args.l_rate, momentum=0.99, weight_decay=5e-4)\n",
    "\n",
    "if hasattr(model.module, 'loss'):\n",
    "    print('Using custom loss')\n",
    "    loss_fn = model.module.loss\n",
    "else:\n",
    "    loss_fn = cross_entropy2d\n",
    "\n",
    "if args.resume is not None:                                         \n",
    "    if os.path.isfile(args.resume):\n",
    "        print(\"Loading model and optimizer from checkpoint '{}'\".format(args.resume))\n",
    "        checkpoint = torch.load(args.resume)\n",
    "        model.load_state_dict(checkpoint['model_state'])\n",
    "        optimizer.load_state_dict(checkpoint['optimizer_state'])\n",
    "        print(\"Loaded checkpoint '{}' (epoch {})\"                    \n",
    "              .format(args.resume, checkpoint['epoch']))\n",
    "    else:\n",
    "        print(\"No checkpoint found at '{}'\".format(args.resume)) \n"
   ]
  },
  {
   "cell_type": "markdown",
   "metadata": {},
   "source": [
    "# Training"
   ]
  },
  {
   "cell_type": "code",
   "execution_count": 4,
   "metadata": {},
   "outputs": [
    {
     "name": "stderr",
     "output_type": "stream",
     "text": [
      "/home/dongwonshin/.conda/envs/pytorch/lib/python3.6/site-packages/torch/nn/functional.py:1462: UserWarning: nn.functional.upsample_bilinear is deprecated. Use nn.functional.upsample instead.\n",
      "  warnings.warn(\"nn.functional.upsample_bilinear is deprecated. Use nn.functional.upsample instead.\")\n"
     ]
    },
    {
     "name": "stdout",
     "output_type": "stream",
     "text": [
      "Epoch [1/100] Loss: 2.8223\n",
      "Epoch [1/100] Loss: 2.7707\n",
      "Epoch [1/100] Loss: 2.2866\n",
      "Epoch [1/100] Loss: 2.6855\n",
      "Epoch [1/100] Loss: 2.2286\n",
      "Epoch [1/100] Loss: 2.2721\n",
      "Epoch [1/100] Loss: 2.0192\n",
      "Epoch [1/100] Loss: 2.0519\n",
      "Epoch [1/100] Loss: 2.1019\n",
      "Epoch [1/100] Loss: 1.9484\n",
      "Epoch [1/100] Loss: 1.7170\n",
      "Epoch [1/100] Loss: 2.1335\n",
      "Epoch [1/100] Loss: 2.0073\n"
     ]
    },
    {
     "name": "stderr",
     "output_type": "stream",
     "text": [
      "218it [01:09,  3.12it/s]\n"
     ]
    },
    {
     "name": "stdout",
     "output_type": "stream",
     "text": [
      "Overall Acc: \t 0.34535749554\n",
      "Mean Acc : \t 0.148755437557\n",
      "FreqW Acc : \t 0.175323779791\n",
      "Mean IoU : \t 0.0765410621489\n",
      "Epoch [2/100] Loss: 2.0023\n",
      "Epoch [2/100] Loss: 2.2467\n",
      "Epoch [2/100] Loss: 1.7664\n",
      "Epoch [2/100] Loss: 2.0660\n",
      "Epoch [2/100] Loss: 1.8743\n",
      "Epoch [2/100] Loss: 2.1356\n",
      "Epoch [2/100] Loss: 1.8393\n",
      "Epoch [2/100] Loss: 1.8988\n",
      "Epoch [2/100] Loss: 1.8578\n",
      "Epoch [2/100] Loss: 1.8351\n",
      "Epoch [2/100] Loss: 2.0277\n",
      "Epoch [2/100] Loss: 1.7773\n",
      "Epoch [2/100] Loss: 1.8238\n"
     ]
    },
    {
     "name": "stderr",
     "output_type": "stream",
     "text": [
      "218it [01:10,  3.09it/s]\n"
     ]
    },
    {
     "name": "stdout",
     "output_type": "stream",
     "text": [
      "Overall Acc: \t 0.38472464123\n",
      "Mean Acc : \t 0.170219727469\n",
      "FreqW Acc : \t 0.217634482429\n",
      "Mean IoU : \t 0.0991177622536\n",
      "Epoch [3/100] Loss: 1.7351\n",
      "Epoch [3/100] Loss: 1.7483\n",
      "Epoch [3/100] Loss: 2.0667\n",
      "Epoch [3/100] Loss: 1.6060\n",
      "Epoch [3/100] Loss: 1.7909\n",
      "Epoch [3/100] Loss: 1.6755\n",
      "Epoch [3/100] Loss: 1.7433\n",
      "Epoch [3/100] Loss: 1.7195\n",
      "Epoch [3/100] Loss: 1.7841\n",
      "Epoch [3/100] Loss: 1.8623\n",
      "Epoch [3/100] Loss: 1.8680\n",
      "Epoch [3/100] Loss: 1.7580\n",
      "Epoch [3/100] Loss: 1.7716\n"
     ]
    },
    {
     "name": "stderr",
     "output_type": "stream",
     "text": [
      "218it [01:10,  3.07it/s]\n"
     ]
    },
    {
     "name": "stdout",
     "output_type": "stream",
     "text": [
      "Overall Acc: \t 0.41972901635\n",
      "Mean Acc : \t 0.205904484406\n",
      "FreqW Acc : \t 0.242796405842\n",
      "Mean IoU : \t 0.121682437797\n",
      "Epoch [4/100] Loss: 1.6742\n",
      "Epoch [4/100] Loss: 1.5536\n",
      "Epoch [4/100] Loss: 1.4812\n",
      "Epoch [4/100] Loss: 1.5132\n",
      "Epoch [4/100] Loss: 1.6414\n",
      "Epoch [4/100] Loss: 1.6000\n",
      "Epoch [4/100] Loss: 2.0642\n",
      "Epoch [4/100] Loss: 1.6660\n",
      "Epoch [4/100] Loss: 1.5205\n",
      "Epoch [4/100] Loss: 1.4977\n",
      "Epoch [4/100] Loss: 1.7578\n",
      "Epoch [4/100] Loss: 1.6732\n",
      "Epoch [4/100] Loss: 1.9923\n"
     ]
    },
    {
     "name": "stderr",
     "output_type": "stream",
     "text": [
      "218it [01:11,  3.05it/s]\n"
     ]
    },
    {
     "name": "stdout",
     "output_type": "stream",
     "text": [
      "Overall Acc: \t 0.443160249825\n",
      "Mean Acc : \t 0.235922690259\n",
      "FreqW Acc : \t 0.267442665654\n",
      "Mean IoU : \t 0.145968057772\n",
      "Epoch [5/100] Loss: 1.6311\n",
      "Epoch [5/100] Loss: 1.7194\n",
      "Epoch [5/100] Loss: 1.4746\n",
      "Epoch [5/100] Loss: 1.5417\n",
      "Epoch [5/100] Loss: 1.2758\n",
      "Epoch [5/100] Loss: 1.3241\n",
      "Epoch [5/100] Loss: 1.3959\n",
      "Epoch [5/100] Loss: 1.3835\n",
      "Epoch [5/100] Loss: 1.5792\n",
      "Epoch [5/100] Loss: 1.5264\n",
      "Epoch [5/100] Loss: 1.4831\n",
      "Epoch [5/100] Loss: 1.6235\n",
      "Epoch [5/100] Loss: 1.7546\n"
     ]
    },
    {
     "name": "stderr",
     "output_type": "stream",
     "text": [
      "218it [01:11,  3.04it/s]\n"
     ]
    },
    {
     "name": "stdout",
     "output_type": "stream",
     "text": [
      "Overall Acc: \t 0.453301094825\n",
      "Mean Acc : \t 0.247615944633\n",
      "FreqW Acc : \t 0.272060357504\n",
      "Mean IoU : \t 0.151805814289\n",
      "Epoch [6/100] Loss: 1.8825\n",
      "Epoch [6/100] Loss: 1.6359\n",
      "Epoch [6/100] Loss: 1.9251\n",
      "Epoch [6/100] Loss: 1.4764\n",
      "Epoch [6/100] Loss: 1.4282\n",
      "Epoch [6/100] Loss: 1.7852\n",
      "Epoch [6/100] Loss: 1.3910\n",
      "Epoch [6/100] Loss: 1.6879\n",
      "Epoch [6/100] Loss: 1.5521\n",
      "Epoch [6/100] Loss: 1.3879\n",
      "Epoch [6/100] Loss: 1.7041\n",
      "Epoch [6/100] Loss: 1.6501\n",
      "Epoch [6/100] Loss: 1.4465\n"
     ]
    },
    {
     "name": "stderr",
     "output_type": "stream",
     "text": [
      "218it [01:11,  3.05it/s]\n"
     ]
    },
    {
     "name": "stdout",
     "output_type": "stream",
     "text": [
      "Overall Acc: \t 0.468737128488\n",
      "Mean Acc : \t 0.282656711922\n",
      "FreqW Acc : \t 0.292841938961\n",
      "Mean IoU : \t 0.181479617416\n",
      "Epoch [7/100] Loss: 1.4750\n",
      "Epoch [7/100] Loss: 1.5449\n",
      "Epoch [7/100] Loss: 1.3802\n",
      "Epoch [7/100] Loss: 1.5064\n",
      "Epoch [7/100] Loss: 1.6115\n",
      "Epoch [7/100] Loss: 1.7490\n",
      "Epoch [7/100] Loss: 1.6469\n",
      "Epoch [7/100] Loss: 1.6533\n",
      "Epoch [7/100] Loss: 1.7591\n",
      "Epoch [7/100] Loss: 1.5488\n",
      "Epoch [7/100] Loss: 1.4800\n",
      "Epoch [7/100] Loss: 1.5863\n",
      "Epoch [7/100] Loss: 1.5623\n"
     ]
    },
    {
     "name": "stderr",
     "output_type": "stream",
     "text": [
      "218it [01:11,  3.04it/s]\n"
     ]
    },
    {
     "name": "stdout",
     "output_type": "stream",
     "text": [
      "Overall Acc: \t 0.485094301494\n",
      "Mean Acc : \t 0.302997523887\n",
      "FreqW Acc : \t 0.309683145282\n",
      "Mean IoU : \t 0.20004357992\n",
      "Epoch [8/100] Loss: 1.6307\n",
      "Epoch [8/100] Loss: 1.2992\n",
      "Epoch [8/100] Loss: 1.4320\n",
      "Epoch [8/100] Loss: 1.6055\n",
      "Epoch [8/100] Loss: 1.4078\n",
      "Epoch [8/100] Loss: 1.5726\n",
      "Epoch [8/100] Loss: 1.6345\n",
      "Epoch [8/100] Loss: 1.2700\n",
      "Epoch [8/100] Loss: 1.4608\n",
      "Epoch [8/100] Loss: 1.3781\n",
      "Epoch [8/100] Loss: 1.5806\n",
      "Epoch [8/100] Loss: 1.5398\n",
      "Epoch [8/100] Loss: 1.6307\n"
     ]
    },
    {
     "name": "stderr",
     "output_type": "stream",
     "text": [
      "218it [01:11,  3.04it/s]\n"
     ]
    },
    {
     "name": "stdout",
     "output_type": "stream",
     "text": [
      "Overall Acc: \t 0.499608220247\n",
      "Mean Acc : \t 0.321107518702\n",
      "FreqW Acc : \t 0.32076341504\n",
      "Mean IoU : \t 0.21526069011\n",
      "Epoch [9/100] Loss: 1.2524\n",
      "Epoch [9/100] Loss: 1.3671\n",
      "Epoch [9/100] Loss: 1.2102\n",
      "Epoch [9/100] Loss: 1.3590\n",
      "Epoch [9/100] Loss: 1.6888\n",
      "Epoch [9/100] Loss: 2.0692\n",
      "Epoch [9/100] Loss: 1.7319\n",
      "Epoch [9/100] Loss: 1.4999\n",
      "Epoch [9/100] Loss: 1.0859\n",
      "Epoch [9/100] Loss: 1.5251\n",
      "Epoch [9/100] Loss: 1.3614\n",
      "Epoch [9/100] Loss: 1.1834\n",
      "Epoch [9/100] Loss: 1.2080\n"
     ]
    },
    {
     "name": "stderr",
     "output_type": "stream",
     "text": [
      "218it [01:11,  3.07it/s]\n"
     ]
    },
    {
     "name": "stdout",
     "output_type": "stream",
     "text": [
      "Overall Acc: \t 0.504011626171\n",
      "Mean Acc : \t 0.325045150277\n",
      "FreqW Acc : \t 0.330761981546\n",
      "Mean IoU : \t 0.221418087976\n",
      "Epoch [10/100] Loss: 1.4069\n",
      "Epoch [10/100] Loss: 1.5504\n",
      "Epoch [10/100] Loss: 1.4821\n",
      "Epoch [10/100] Loss: 1.0400\n",
      "Epoch [10/100] Loss: 1.4464\n",
      "Epoch [10/100] Loss: 1.4482\n",
      "Epoch [10/100] Loss: 1.8135\n",
      "Epoch [10/100] Loss: 1.0456\n",
      "Epoch [10/100] Loss: 1.2626\n",
      "Epoch [10/100] Loss: 1.3130\n",
      "Epoch [10/100] Loss: 1.6059\n",
      "Epoch [10/100] Loss: 1.4089\n",
      "Epoch [10/100] Loss: 1.1815\n"
     ]
    },
    {
     "name": "stderr",
     "output_type": "stream",
     "text": [
      "218it [01:11,  3.05it/s]\n"
     ]
    },
    {
     "name": "stdout",
     "output_type": "stream",
     "text": [
      "Overall Acc: \t 0.515852725217\n",
      "Mean Acc : \t 0.349110994\n",
      "FreqW Acc : \t 0.3412173707\n",
      "Mean IoU : \t 0.23779808084\n",
      "Epoch [11/100] Loss: 1.3130\n",
      "Epoch [11/100] Loss: 1.3871\n",
      "Epoch [11/100] Loss: 1.6470\n",
      "Epoch [11/100] Loss: 1.3096\n",
      "Epoch [11/100] Loss: 1.1949\n",
      "Epoch [11/100] Loss: 1.6572\n",
      "Epoch [11/100] Loss: 1.6382\n",
      "Epoch [11/100] Loss: 1.3772\n",
      "Epoch [11/100] Loss: 1.2069\n",
      "Epoch [11/100] Loss: 1.3397\n",
      "Epoch [11/100] Loss: 1.3042\n",
      "Epoch [11/100] Loss: 1.4985\n",
      "Epoch [11/100] Loss: 1.2690\n"
     ]
    },
    {
     "name": "stderr",
     "output_type": "stream",
     "text": [
      "218it [01:11,  3.04it/s]\n"
     ]
    },
    {
     "name": "stdout",
     "output_type": "stream",
     "text": [
      "Overall Acc: \t 0.521798198984\n",
      "Mean Acc : \t 0.361632514882\n",
      "FreqW Acc : \t 0.349673274913\n",
      "Mean IoU : \t 0.249651098056\n",
      "Epoch [12/100] Loss: 1.4482\n",
      "Epoch [12/100] Loss: 1.3262\n",
      "Epoch [12/100] Loss: 1.1898\n",
      "Epoch [12/100] Loss: 1.6979\n",
      "Epoch [12/100] Loss: 1.0110\n",
      "Epoch [12/100] Loss: 1.6499\n",
      "Epoch [12/100] Loss: 1.3692\n",
      "Epoch [12/100] Loss: 1.5638\n",
      "Epoch [12/100] Loss: 1.3350\n",
      "Epoch [12/100] Loss: 1.6023\n",
      "Epoch [12/100] Loss: 1.9383\n",
      "Epoch [12/100] Loss: 1.2984\n",
      "Epoch [12/100] Loss: 1.3308\n"
     ]
    },
    {
     "name": "stderr",
     "output_type": "stream",
     "text": [
      "218it [01:11,  3.04it/s]"
     ]
    },
    {
     "name": "stdout",
     "output_type": "stream",
     "text": [
      "Overall Acc: \t 0.523965645109\n",
      "Mean Acc : \t 0.352666306838\n",
      "FreqW Acc : \t 0.347256615329\n",
      "Mean IoU : \t 0.244445404027\n"
     ]
    },
    {
     "name": "stderr",
     "output_type": "stream",
     "text": [
      "\n"
     ]
    },
    {
     "name": "stdout",
     "output_type": "stream",
     "text": [
      "Epoch [13/100] Loss: 1.0632\n",
      "Epoch [13/100] Loss: 1.1770\n",
      "Epoch [13/100] Loss: 1.3590\n",
      "Epoch [13/100] Loss: 1.3313\n",
      "Epoch [13/100] Loss: 1.4503\n",
      "Epoch [13/100] Loss: 1.3562\n",
      "Epoch [13/100] Loss: 1.4797\n",
      "Epoch [13/100] Loss: 1.2401\n",
      "Epoch [13/100] Loss: 1.8031\n",
      "Epoch [13/100] Loss: 1.2321\n",
      "Epoch [13/100] Loss: 1.1918\n",
      "Epoch [13/100] Loss: 1.2494\n",
      "Epoch [13/100] Loss: 1.3682\n"
     ]
    },
    {
     "name": "stderr",
     "output_type": "stream",
     "text": [
      "218it [01:11,  3.04it/s]\n"
     ]
    },
    {
     "name": "stdout",
     "output_type": "stream",
     "text": [
      "Overall Acc: \t 0.530057727685\n",
      "Mean Acc : \t 0.372655877053\n",
      "FreqW Acc : \t 0.351217836679\n",
      "Mean IoU : \t 0.25357418145\n",
      "Epoch [14/100] Loss: 1.2805\n",
      "Epoch [14/100] Loss: 1.3278\n",
      "Epoch [14/100] Loss: 1.2821\n",
      "Epoch [14/100] Loss: 1.4612\n",
      "Epoch [14/100] Loss: 1.3846\n",
      "Epoch [14/100] Loss: 1.5522\n",
      "Epoch [14/100] Loss: 1.3711\n",
      "Epoch [14/100] Loss: 1.2950\n",
      "Epoch [14/100] Loss: 1.6120\n",
      "Epoch [14/100] Loss: 0.9766\n",
      "Epoch [14/100] Loss: 1.2241\n",
      "Epoch [14/100] Loss: 1.1125\n",
      "Epoch [14/100] Loss: 1.2198\n"
     ]
    },
    {
     "name": "stderr",
     "output_type": "stream",
     "text": [
      "218it [01:11,  3.05it/s]\n"
     ]
    },
    {
     "name": "stdout",
     "output_type": "stream",
     "text": [
      "Overall Acc: \t 0.534332010345\n",
      "Mean Acc : \t 0.378587542262\n",
      "FreqW Acc : \t 0.359290804424\n",
      "Mean IoU : \t 0.261446684783\n",
      "Epoch [15/100] Loss: 1.6128\n",
      "Epoch [15/100] Loss: 1.5607\n",
      "Epoch [15/100] Loss: 1.3420\n",
      "Epoch [15/100] Loss: 1.2568\n",
      "Epoch [15/100] Loss: 1.3905\n",
      "Epoch [15/100] Loss: 1.1932\n",
      "Epoch [15/100] Loss: 1.2905\n",
      "Epoch [15/100] Loss: 1.2346\n",
      "Epoch [15/100] Loss: 1.3233\n",
      "Epoch [15/100] Loss: 1.5609\n",
      "Epoch [15/100] Loss: 0.9851\n",
      "Epoch [15/100] Loss: 1.0614\n",
      "Epoch [15/100] Loss: 1.1138\n"
     ]
    },
    {
     "name": "stderr",
     "output_type": "stream",
     "text": [
      "218it [01:11,  3.05it/s]\n"
     ]
    },
    {
     "name": "stdout",
     "output_type": "stream",
     "text": [
      "Overall Acc: \t 0.539048951564\n",
      "Mean Acc : \t 0.383915719917\n",
      "FreqW Acc : \t 0.366106188189\n",
      "Mean IoU : \t 0.267910152756\n",
      "Epoch [16/100] Loss: 1.1935\n",
      "Epoch [16/100] Loss: 1.3729\n",
      "Epoch [16/100] Loss: 1.5367\n",
      "Epoch [16/100] Loss: 1.4267\n",
      "Epoch [16/100] Loss: 0.9676\n",
      "Epoch [16/100] Loss: 0.9279\n",
      "Epoch [16/100] Loss: 1.4451\n",
      "Epoch [16/100] Loss: 0.8235\n",
      "Epoch [16/100] Loss: 1.1482\n",
      "Epoch [16/100] Loss: 1.4135\n",
      "Epoch [16/100] Loss: 1.2251\n",
      "Epoch [16/100] Loss: 1.0053\n",
      "Epoch [16/100] Loss: 1.5096\n"
     ]
    },
    {
     "name": "stderr",
     "output_type": "stream",
     "text": [
      "218it [02:09,  1.68it/s]\n"
     ]
    },
    {
     "name": "stdout",
     "output_type": "stream",
     "text": [
      "Overall Acc: \t 0.541687054027\n",
      "Mean Acc : \t 0.404587814572\n",
      "FreqW Acc : \t 0.367860661474\n",
      "Mean IoU : \t 0.277000816107\n",
      "Epoch [17/100] Loss: 1.1856\n",
      "Epoch [17/100] Loss: 1.1477\n",
      "Epoch [17/100] Loss: 1.0401\n",
      "Epoch [17/100] Loss: 1.3285\n",
      "Epoch [17/100] Loss: 1.6320\n",
      "Epoch [17/100] Loss: 1.3527\n",
      "Epoch [17/100] Loss: 1.2015\n",
      "Epoch [17/100] Loss: 1.5148\n",
      "Epoch [17/100] Loss: 1.1982\n",
      "Epoch [17/100] Loss: 1.2609\n",
      "Epoch [17/100] Loss: 1.3984\n",
      "Epoch [17/100] Loss: 1.0227\n",
      "Epoch [17/100] Loss: 1.1045\n"
     ]
    },
    {
     "name": "stderr",
     "output_type": "stream",
     "text": [
      "218it [01:24,  2.57it/s]\n"
     ]
    },
    {
     "name": "stdout",
     "output_type": "stream",
     "text": [
      "Overall Acc: \t 0.545291246576\n",
      "Mean Acc : \t 0.397790443305\n",
      "FreqW Acc : \t 0.372087475846\n",
      "Mean IoU : \t 0.280617158879\n",
      "Epoch [18/100] Loss: 1.2971\n",
      "Epoch [18/100] Loss: 1.2604\n",
      "Epoch [18/100] Loss: 1.2691\n",
      "Epoch [18/100] Loss: 1.1802\n",
      "Epoch [18/100] Loss: 0.8485\n",
      "Epoch [18/100] Loss: 1.1124\n",
      "Epoch [18/100] Loss: 1.2095\n",
      "Epoch [18/100] Loss: 1.2575\n",
      "Epoch [18/100] Loss: 1.1371\n",
      "Epoch [18/100] Loss: 0.9577\n",
      "Epoch [18/100] Loss: 1.2121\n",
      "Epoch [18/100] Loss: 1.2080\n",
      "Epoch [18/100] Loss: 1.0412\n"
     ]
    },
    {
     "name": "stderr",
     "output_type": "stream",
     "text": [
      "218it [01:13,  2.96it/s]"
     ]
    },
    {
     "name": "stdout",
     "output_type": "stream",
     "text": [
      "Overall Acc: \t 0.545205267266\n",
      "Mean Acc : \t 0.391511908243\n",
      "FreqW Acc : \t 0.367758763004\n",
      "Mean IoU : \t 0.273452271295\n"
     ]
    },
    {
     "name": "stderr",
     "output_type": "stream",
     "text": [
      "\n"
     ]
    },
    {
     "name": "stdout",
     "output_type": "stream",
     "text": [
      "Epoch [19/100] Loss: 1.1856\n",
      "Epoch [19/100] Loss: 1.1968\n",
      "Epoch [19/100] Loss: 0.8388\n",
      "Epoch [19/100] Loss: 1.0568\n",
      "Epoch [19/100] Loss: 1.3100\n",
      "Epoch [19/100] Loss: 1.2067\n",
      "Epoch [19/100] Loss: 1.6221\n",
      "Epoch [19/100] Loss: 1.2231\n",
      "Epoch [19/100] Loss: 1.1218\n",
      "Epoch [19/100] Loss: 1.0689\n",
      "Epoch [19/100] Loss: 1.0469\n",
      "Epoch [19/100] Loss: 1.1831\n",
      "Epoch [19/100] Loss: 1.1574\n"
     ]
    },
    {
     "name": "stderr",
     "output_type": "stream",
     "text": [
      "218it [01:11,  3.03it/s]\n"
     ]
    },
    {
     "name": "stdout",
     "output_type": "stream",
     "text": [
      "Overall Acc: \t 0.549417686035\n",
      "Mean Acc : \t 0.400720050506\n",
      "FreqW Acc : \t 0.371704223754\n",
      "Mean IoU : \t 0.281887148805\n",
      "Epoch [20/100] Loss: 1.1668\n",
      "Epoch [20/100] Loss: 1.0982\n",
      "Epoch [20/100] Loss: 1.1643\n",
      "Epoch [20/100] Loss: 1.3636\n",
      "Epoch [20/100] Loss: 1.4319\n",
      "Epoch [20/100] Loss: 1.0953\n",
      "Epoch [20/100] Loss: 1.4198\n",
      "Epoch [20/100] Loss: 1.5610\n",
      "Epoch [20/100] Loss: 1.1510\n",
      "Epoch [20/100] Loss: 1.3174\n",
      "Epoch [20/100] Loss: 1.0307\n",
      "Epoch [20/100] Loss: 1.2616\n",
      "Epoch [20/100] Loss: 1.2063\n"
     ]
    },
    {
     "name": "stderr",
     "output_type": "stream",
     "text": [
      "218it [01:13,  2.98it/s]\n"
     ]
    },
    {
     "name": "stdout",
     "output_type": "stream",
     "text": [
      "Overall Acc: \t 0.551103137344\n",
      "Mean Acc : \t 0.420346254975\n",
      "FreqW Acc : \t 0.380809382316\n",
      "Mean IoU : \t 0.291268721746\n",
      "Epoch [21/100] Loss: 1.4867\n",
      "Epoch [21/100] Loss: 1.2134\n",
      "Epoch [21/100] Loss: 1.5338\n",
      "Epoch [21/100] Loss: 1.1638\n",
      "Epoch [21/100] Loss: 1.4106\n",
      "Epoch [21/100] Loss: 1.3380\n",
      "Epoch [21/100] Loss: 1.1867\n",
      "Epoch [21/100] Loss: 1.3518\n",
      "Epoch [21/100] Loss: 1.3873\n",
      "Epoch [21/100] Loss: 1.0689\n",
      "Epoch [21/100] Loss: 1.4943\n",
      "Epoch [21/100] Loss: 1.1892\n",
      "Epoch [21/100] Loss: 1.1242\n"
     ]
    },
    {
     "name": "stderr",
     "output_type": "stream",
     "text": [
      "218it [01:13,  2.98it/s]\n"
     ]
    },
    {
     "name": "stdout",
     "output_type": "stream",
     "text": [
      "Overall Acc: \t 0.556369218272\n",
      "Mean Acc : \t 0.415580178871\n",
      "FreqW Acc : \t 0.381053655847\n",
      "Mean IoU : \t 0.292526193156\n",
      "Epoch [22/100] Loss: 1.2024\n",
      "Epoch [22/100] Loss: 1.4038\n",
      "Epoch [22/100] Loss: 1.0468\n",
      "Epoch [22/100] Loss: 1.0543\n",
      "Epoch [22/100] Loss: 1.0599\n",
      "Epoch [22/100] Loss: 1.0973\n",
      "Epoch [22/100] Loss: 0.9494\n",
      "Epoch [22/100] Loss: 1.1214\n",
      "Epoch [22/100] Loss: 1.3764\n",
      "Epoch [22/100] Loss: 1.0755\n",
      "Epoch [22/100] Loss: 1.0733\n",
      "Epoch [22/100] Loss: 1.3504\n",
      "Epoch [22/100] Loss: 1.0976\n"
     ]
    },
    {
     "name": "stderr",
     "output_type": "stream",
     "text": [
      "218it [01:13,  2.97it/s]"
     ]
    },
    {
     "name": "stdout",
     "output_type": "stream",
     "text": [
      "Overall Acc: \t 0.552439888148\n",
      "Mean Acc : \t 0.420352509162\n",
      "FreqW Acc : \t 0.382139610285\n",
      "Mean IoU : \t 0.289020716971\n"
     ]
    },
    {
     "name": "stderr",
     "output_type": "stream",
     "text": [
      "\n"
     ]
    },
    {
     "name": "stdout",
     "output_type": "stream",
     "text": [
      "Epoch [23/100] Loss: 1.3065\n",
      "Epoch [23/100] Loss: 1.3444\n",
      "Epoch [23/100] Loss: 1.0376\n",
      "Epoch [23/100] Loss: 1.3154\n",
      "Epoch [23/100] Loss: 1.1077\n",
      "Epoch [23/100] Loss: 1.2909\n",
      "Epoch [23/100] Loss: 1.0028\n",
      "Epoch [23/100] Loss: 0.9636\n",
      "Epoch [23/100] Loss: 1.2544\n",
      "Epoch [23/100] Loss: 1.0962\n",
      "Epoch [23/100] Loss: 1.2655\n",
      "Epoch [23/100] Loss: 1.2535\n",
      "Epoch [23/100] Loss: 1.1128\n"
     ]
    },
    {
     "name": "stderr",
     "output_type": "stream",
     "text": [
      "218it [01:12,  2.99it/s]"
     ]
    },
    {
     "name": "stdout",
     "output_type": "stream",
     "text": [
      "Overall Acc: \t 0.55631751322\n",
      "Mean Acc : \t 0.418571809196\n",
      "FreqW Acc : \t 0.379853418203\n",
      "Mean IoU : \t 0.29154019091\n"
     ]
    },
    {
     "name": "stderr",
     "output_type": "stream",
     "text": [
      "\n"
     ]
    },
    {
     "name": "stdout",
     "output_type": "stream",
     "text": [
      "Epoch [24/100] Loss: 1.4709\n",
      "Epoch [24/100] Loss: 0.9097\n",
      "Epoch [24/100] Loss: 1.1855\n",
      "Epoch [24/100] Loss: 1.1937\n",
      "Epoch [24/100] Loss: 1.2443\n",
      "Epoch [24/100] Loss: 1.0956\n",
      "Epoch [24/100] Loss: 1.1095\n",
      "Epoch [24/100] Loss: 1.3575\n",
      "Epoch [24/100] Loss: 1.2490\n",
      "Epoch [24/100] Loss: 1.1342\n",
      "Epoch [24/100] Loss: 1.2763\n",
      "Epoch [24/100] Loss: 1.2045\n",
      "Epoch [24/100] Loss: 0.9922\n"
     ]
    },
    {
     "name": "stderr",
     "output_type": "stream",
     "text": [
      "218it [01:12,  2.99it/s]\n"
     ]
    },
    {
     "name": "stdout",
     "output_type": "stream",
     "text": [
      "Overall Acc: \t 0.56273321527\n",
      "Mean Acc : \t 0.420884626614\n",
      "FreqW Acc : \t 0.388072645214\n",
      "Mean IoU : \t 0.296405633187\n",
      "Epoch [25/100] Loss: 1.3765\n",
      "Epoch [25/100] Loss: 1.0676\n",
      "Epoch [25/100] Loss: 0.8744\n",
      "Epoch [25/100] Loss: 0.9766\n",
      "Epoch [25/100] Loss: 1.2062\n",
      "Epoch [25/100] Loss: 1.3581\n",
      "Epoch [25/100] Loss: 1.1353\n",
      "Epoch [25/100] Loss: 1.2028\n",
      "Epoch [25/100] Loss: 1.0440\n",
      "Epoch [25/100] Loss: 1.1666\n",
      "Epoch [25/100] Loss: 1.2152\n",
      "Epoch [25/100] Loss: 0.9054\n",
      "Epoch [25/100] Loss: 1.1493\n"
     ]
    },
    {
     "name": "stderr",
     "output_type": "stream",
     "text": [
      "218it [01:12,  3.00it/s]\n"
     ]
    },
    {
     "name": "stdout",
     "output_type": "stream",
     "text": [
      "Overall Acc: \t 0.563810350766\n",
      "Mean Acc : \t 0.434142715386\n",
      "FreqW Acc : \t 0.39177452527\n",
      "Mean IoU : \t 0.302686701258\n",
      "Epoch [26/100] Loss: 1.0055\n",
      "Epoch [26/100] Loss: 1.2218\n",
      "Epoch [26/100] Loss: 1.2226\n",
      "Epoch [26/100] Loss: 0.7145\n",
      "Epoch [26/100] Loss: 1.0704\n",
      "Epoch [26/100] Loss: 1.0874\n",
      "Epoch [26/100] Loss: 1.1511\n",
      "Epoch [26/100] Loss: 1.0494\n",
      "Epoch [26/100] Loss: 1.5326\n",
      "Epoch [26/100] Loss: 1.1740\n",
      "Epoch [26/100] Loss: 1.1142\n",
      "Epoch [26/100] Loss: 1.3169\n",
      "Epoch [26/100] Loss: 1.1977\n"
     ]
    },
    {
     "name": "stderr",
     "output_type": "stream",
     "text": [
      "218it [01:13,  2.98it/s]\n"
     ]
    },
    {
     "name": "stdout",
     "output_type": "stream",
     "text": [
      "Overall Acc: \t 0.56645965234\n",
      "Mean Acc : \t 0.445558985114\n",
      "FreqW Acc : \t 0.396342017043\n",
      "Mean IoU : \t 0.309400712474\n",
      "Epoch [27/100] Loss: 0.9929\n",
      "Epoch [27/100] Loss: 1.3278\n",
      "Epoch [27/100] Loss: 1.1757\n",
      "Epoch [27/100] Loss: 1.2247\n",
      "Epoch [27/100] Loss: 1.0342\n",
      "Epoch [27/100] Loss: 1.1463\n",
      "Epoch [27/100] Loss: 1.2601\n",
      "Epoch [27/100] Loss: 1.1430\n",
      "Epoch [27/100] Loss: 1.2653\n",
      "Epoch [27/100] Loss: 1.2878\n",
      "Epoch [27/100] Loss: 1.2073\n",
      "Epoch [27/100] Loss: 1.0815\n",
      "Epoch [27/100] Loss: 1.3013\n"
     ]
    },
    {
     "name": "stderr",
     "output_type": "stream",
     "text": [
      "218it [01:13,  2.98it/s]"
     ]
    },
    {
     "name": "stdout",
     "output_type": "stream",
     "text": [
      "Overall Acc: \t 0.567033519687\n",
      "Mean Acc : \t 0.437729639855\n",
      "FreqW Acc : \t 0.393210951197\n",
      "Mean IoU : \t 0.305813462444\n"
     ]
    },
    {
     "name": "stderr",
     "output_type": "stream",
     "text": [
      "\n"
     ]
    },
    {
     "name": "stdout",
     "output_type": "stream",
     "text": [
      "Epoch [28/100] Loss: 1.2127\n",
      "Epoch [28/100] Loss: 1.0368\n",
      "Epoch [28/100] Loss: 1.1118\n",
      "Epoch [28/100] Loss: 1.1081\n",
      "Epoch [28/100] Loss: 1.2128\n",
      "Epoch [28/100] Loss: 1.1797\n",
      "Epoch [28/100] Loss: 0.9319\n",
      "Epoch [28/100] Loss: 0.9344\n",
      "Epoch [28/100] Loss: 1.3912\n",
      "Epoch [28/100] Loss: 0.9369\n",
      "Epoch [28/100] Loss: 1.1208\n",
      "Epoch [28/100] Loss: 1.3431\n",
      "Epoch [28/100] Loss: 1.0985\n"
     ]
    },
    {
     "name": "stderr",
     "output_type": "stream",
     "text": [
      "218it [01:13,  2.98it/s]"
     ]
    },
    {
     "name": "stdout",
     "output_type": "stream",
     "text": [
      "Overall Acc: \t 0.570142507446\n",
      "Mean Acc : \t 0.433287182365\n",
      "FreqW Acc : \t 0.395332010861\n",
      "Mean IoU : \t 0.307139210141\n"
     ]
    },
    {
     "name": "stderr",
     "output_type": "stream",
     "text": [
      "\n"
     ]
    },
    {
     "name": "stdout",
     "output_type": "stream",
     "text": [
      "Epoch [29/100] Loss: 1.2719\n",
      "Epoch [29/100] Loss: 0.9944\n",
      "Epoch [29/100] Loss: 1.4137\n",
      "Epoch [29/100] Loss: 0.8487\n",
      "Epoch [29/100] Loss: 0.9476\n",
      "Epoch [29/100] Loss: 1.0256\n",
      "Epoch [29/100] Loss: 1.0192\n",
      "Epoch [29/100] Loss: 1.0729\n",
      "Epoch [29/100] Loss: 1.0226\n",
      "Epoch [29/100] Loss: 1.0361\n",
      "Epoch [29/100] Loss: 1.0615\n",
      "Epoch [29/100] Loss: 1.0931\n",
      "Epoch [29/100] Loss: 1.1542\n"
     ]
    },
    {
     "name": "stderr",
     "output_type": "stream",
     "text": [
      "218it [01:13,  2.98it/s]\n"
     ]
    },
    {
     "name": "stdout",
     "output_type": "stream",
     "text": [
      "Overall Acc: \t 0.569466329996\n",
      "Mean Acc : \t 0.45023067434\n",
      "FreqW Acc : \t 0.397303739962\n",
      "Mean IoU : \t 0.311963750012\n",
      "Epoch [30/100] Loss: 1.3329\n",
      "Epoch [30/100] Loss: 0.9864\n",
      "Epoch [30/100] Loss: 0.8630\n",
      "Epoch [30/100] Loss: 0.8182\n",
      "Epoch [30/100] Loss: 1.1604\n",
      "Epoch [30/100] Loss: 1.1230\n",
      "Epoch [30/100] Loss: 0.9108\n",
      "Epoch [30/100] Loss: 1.4595\n",
      "Epoch [30/100] Loss: 1.2829\n",
      "Epoch [30/100] Loss: 1.2048\n",
      "Epoch [30/100] Loss: 0.9729\n",
      "Epoch [30/100] Loss: 1.3619\n",
      "Epoch [30/100] Loss: 0.8789\n"
     ]
    },
    {
     "name": "stderr",
     "output_type": "stream",
     "text": [
      "218it [01:11,  3.04it/s]"
     ]
    },
    {
     "name": "stdout",
     "output_type": "stream",
     "text": [
      "Overall Acc: \t 0.572009439109\n",
      "Mean Acc : \t 0.441496169915\n",
      "FreqW Acc : \t 0.398309987139\n",
      "Mean IoU : \t 0.309650714679\n"
     ]
    },
    {
     "name": "stderr",
     "output_type": "stream",
     "text": [
      "\n"
     ]
    },
    {
     "name": "stdout",
     "output_type": "stream",
     "text": [
      "Epoch [31/100] Loss: 1.0629\n",
      "Epoch [31/100] Loss: 1.0416\n",
      "Epoch [31/100] Loss: 1.2575\n",
      "Epoch [31/100] Loss: 0.9221\n",
      "Epoch [31/100] Loss: 0.8673\n",
      "Epoch [31/100] Loss: 0.9993\n",
      "Epoch [31/100] Loss: 1.2132\n",
      "Epoch [31/100] Loss: 1.1267\n",
      "Epoch [31/100] Loss: 0.9822\n",
      "Epoch [31/100] Loss: 1.0940\n",
      "Epoch [31/100] Loss: 1.1183\n",
      "Epoch [31/100] Loss: 1.1142\n",
      "Epoch [31/100] Loss: 1.0219\n"
     ]
    },
    {
     "name": "stderr",
     "output_type": "stream",
     "text": [
      "218it [01:16,  2.85it/s]\n"
     ]
    },
    {
     "name": "stdout",
     "output_type": "stream",
     "text": [
      "Overall Acc: \t 0.571451708437\n",
      "Mean Acc : \t 0.450773186827\n",
      "FreqW Acc : \t 0.399731126404\n",
      "Mean IoU : \t 0.312564123767\n",
      "Epoch [32/100] Loss: 1.1690\n",
      "Epoch [32/100] Loss: 1.2059\n",
      "Epoch [32/100] Loss: 1.1670\n",
      "Epoch [32/100] Loss: 1.2458\n",
      "Epoch [32/100] Loss: 1.0274\n",
      "Epoch [32/100] Loss: 1.0553\n",
      "Epoch [32/100] Loss: 0.8220\n",
      "Epoch [32/100] Loss: 1.2347\n",
      "Epoch [32/100] Loss: 0.8180\n",
      "Epoch [32/100] Loss: 1.3196\n",
      "Epoch [32/100] Loss: 0.8981\n",
      "Epoch [32/100] Loss: 1.2445\n",
      "Epoch [32/100] Loss: 1.0623\n"
     ]
    },
    {
     "name": "stderr",
     "output_type": "stream",
     "text": [
      "218it [01:12,  3.00it/s]\n"
     ]
    },
    {
     "name": "stdout",
     "output_type": "stream",
     "text": [
      "Overall Acc: \t 0.574813049503\n",
      "Mean Acc : \t 0.449081550546\n",
      "FreqW Acc : \t 0.403420127499\n",
      "Mean IoU : \t 0.316233297671\n",
      "Epoch [33/100] Loss: 1.0996\n",
      "Epoch [33/100] Loss: 1.0572\n",
      "Epoch [33/100] Loss: 0.8819\n",
      "Epoch [33/100] Loss: 0.8869\n",
      "Epoch [33/100] Loss: 0.9927\n",
      "Epoch [33/100] Loss: 0.8052\n",
      "Epoch [33/100] Loss: 0.8770\n",
      "Epoch [33/100] Loss: 1.2958\n",
      "Epoch [33/100] Loss: 0.9871\n",
      "Epoch [33/100] Loss: 1.2804\n",
      "Epoch [33/100] Loss: 1.0327\n",
      "Epoch [33/100] Loss: 1.0400\n",
      "Epoch [33/100] Loss: 1.0115\n"
     ]
    },
    {
     "name": "stderr",
     "output_type": "stream",
     "text": [
      "218it [01:12,  3.01it/s]\n"
     ]
    },
    {
     "name": "stdout",
     "output_type": "stream",
     "text": [
      "Overall Acc: \t 0.575947489607\n",
      "Mean Acc : \t 0.447981638472\n",
      "FreqW Acc : \t 0.406265488652\n",
      "Mean IoU : \t 0.319396933246\n",
      "Epoch [34/100] Loss: 1.0214\n",
      "Epoch [34/100] Loss: 1.1777\n",
      "Epoch [34/100] Loss: 1.2484\n",
      "Epoch [34/100] Loss: 0.8896\n",
      "Epoch [34/100] Loss: 1.1107\n",
      "Epoch [34/100] Loss: 1.0910\n",
      "Epoch [34/100] Loss: 1.0188\n",
      "Epoch [34/100] Loss: 1.0892\n",
      "Epoch [34/100] Loss: 0.8091\n",
      "Epoch [34/100] Loss: 1.0604\n",
      "Epoch [34/100] Loss: 1.0349\n",
      "Epoch [34/100] Loss: 1.2188\n",
      "Epoch [34/100] Loss: 1.0092\n"
     ]
    },
    {
     "name": "stderr",
     "output_type": "stream",
     "text": [
      "218it [01:11,  3.04it/s]\n"
     ]
    },
    {
     "name": "stdout",
     "output_type": "stream",
     "text": [
      "Overall Acc: \t 0.577209236231\n",
      "Mean Acc : \t 0.463737780959\n",
      "FreqW Acc : \t 0.409114179238\n",
      "Mean IoU : \t 0.322556014985\n",
      "Epoch [35/100] Loss: 1.2233\n",
      "Epoch [35/100] Loss: 1.2359\n",
      "Epoch [35/100] Loss: 0.9306\n",
      "Epoch [35/100] Loss: 1.0974\n",
      "Epoch [35/100] Loss: 1.1383\n",
      "Epoch [35/100] Loss: 0.9451\n",
      "Epoch [35/100] Loss: 0.9420\n",
      "Epoch [35/100] Loss: 1.0762\n",
      "Epoch [35/100] Loss: 1.0045\n",
      "Epoch [35/100] Loss: 0.5844\n",
      "Epoch [35/100] Loss: 1.2873\n",
      "Epoch [35/100] Loss: 0.9763\n",
      "Epoch [35/100] Loss: 0.9651\n"
     ]
    },
    {
     "name": "stderr",
     "output_type": "stream",
     "text": [
      "218it [01:11,  3.06it/s]"
     ]
    },
    {
     "name": "stdout",
     "output_type": "stream",
     "text": [
      "Overall Acc: \t 0.576514189523\n",
      "Mean Acc : \t 0.45263785953\n",
      "FreqW Acc : \t 0.401878428377\n",
      "Mean IoU : \t 0.316676868814\n"
     ]
    },
    {
     "name": "stderr",
     "output_type": "stream",
     "text": [
      "\n"
     ]
    },
    {
     "name": "stdout",
     "output_type": "stream",
     "text": [
      "Epoch [36/100] Loss: 1.1917\n",
      "Epoch [36/100] Loss: 1.0953\n",
      "Epoch [36/100] Loss: 0.7115\n",
      "Epoch [36/100] Loss: 0.9633\n",
      "Epoch [36/100] Loss: 1.0684\n",
      "Epoch [36/100] Loss: 1.0123\n",
      "Epoch [36/100] Loss: 1.0345\n",
      "Epoch [36/100] Loss: 1.1215\n",
      "Epoch [36/100] Loss: 1.0002\n",
      "Epoch [36/100] Loss: 1.2054\n",
      "Epoch [36/100] Loss: 0.8442\n",
      "Epoch [36/100] Loss: 0.9609\n",
      "Epoch [36/100] Loss: 0.9931\n"
     ]
    },
    {
     "name": "stderr",
     "output_type": "stream",
     "text": [
      "218it [01:11,  3.06it/s]"
     ]
    },
    {
     "name": "stdout",
     "output_type": "stream",
     "text": [
      "Overall Acc: \t 0.576965170266\n",
      "Mean Acc : \t 0.459430303699\n",
      "FreqW Acc : \t 0.406381298586\n",
      "Mean IoU : \t 0.322087219633\n"
     ]
    },
    {
     "name": "stderr",
     "output_type": "stream",
     "text": [
      "\n"
     ]
    },
    {
     "name": "stdout",
     "output_type": "stream",
     "text": [
      "Epoch [37/100] Loss: 0.9543\n",
      "Epoch [37/100] Loss: 1.0021\n",
      "Epoch [37/100] Loss: 1.1143\n",
      "Epoch [37/100] Loss: 0.8973\n",
      "Epoch [37/100] Loss: 1.4916\n",
      "Epoch [37/100] Loss: 0.9179\n",
      "Epoch [37/100] Loss: 0.9674\n",
      "Epoch [37/100] Loss: 0.8857\n",
      "Epoch [37/100] Loss: 0.7307\n",
      "Epoch [37/100] Loss: 0.9696\n",
      "Epoch [37/100] Loss: 1.1798\n",
      "Epoch [37/100] Loss: 1.1547\n",
      "Epoch [37/100] Loss: 1.0699\n"
     ]
    },
    {
     "name": "stderr",
     "output_type": "stream",
     "text": [
      "218it [01:11,  3.06it/s]\n"
     ]
    },
    {
     "name": "stdout",
     "output_type": "stream",
     "text": [
      "Overall Acc: \t 0.578120654745\n",
      "Mean Acc : \t 0.473378700497\n",
      "FreqW Acc : \t 0.409420636026\n",
      "Mean IoU : \t 0.328211186719\n",
      "Epoch [38/100] Loss: 1.2988\n",
      "Epoch [38/100] Loss: 0.8042\n",
      "Epoch [38/100] Loss: 0.9215\n",
      "Epoch [38/100] Loss: 0.8517\n",
      "Epoch [38/100] Loss: 1.1102\n",
      "Epoch [38/100] Loss: 1.0101\n",
      "Epoch [38/100] Loss: 0.8372\n",
      "Epoch [38/100] Loss: 1.0164\n",
      "Epoch [38/100] Loss: 1.0262\n",
      "Epoch [38/100] Loss: 1.0393\n",
      "Epoch [38/100] Loss: 1.1667\n",
      "Epoch [38/100] Loss: 1.0093\n",
      "Epoch [38/100] Loss: 1.0119\n"
     ]
    },
    {
     "name": "stderr",
     "output_type": "stream",
     "text": [
      "218it [01:11,  3.06it/s]\n"
     ]
    },
    {
     "name": "stdout",
     "output_type": "stream",
     "text": [
      "Overall Acc: \t 0.581091395698\n",
      "Mean Acc : \t 0.475476160737\n",
      "FreqW Acc : \t 0.413413119631\n",
      "Mean IoU : \t 0.332191188076\n",
      "Epoch [39/100] Loss: 1.0152\n",
      "Epoch [39/100] Loss: 1.0017\n",
      "Epoch [39/100] Loss: 1.1789\n",
      "Epoch [39/100] Loss: 0.8983\n",
      "Epoch [39/100] Loss: 0.8703\n",
      "Epoch [39/100] Loss: 1.0253\n",
      "Epoch [39/100] Loss: 0.9891\n",
      "Epoch [39/100] Loss: 0.8868\n",
      "Epoch [39/100] Loss: 0.9558\n",
      "Epoch [39/100] Loss: 1.0764\n",
      "Epoch [39/100] Loss: 1.3133\n",
      "Epoch [39/100] Loss: 0.8777\n",
      "Epoch [39/100] Loss: 0.8631\n"
     ]
    },
    {
     "name": "stderr",
     "output_type": "stream",
     "text": [
      "218it [01:11,  3.06it/s]"
     ]
    },
    {
     "name": "stdout",
     "output_type": "stream",
     "text": [
      "Overall Acc: \t 0.581478566394\n",
      "Mean Acc : \t 0.461553660754\n",
      "FreqW Acc : \t 0.410669115762\n",
      "Mean IoU : \t 0.329481745251\n"
     ]
    },
    {
     "name": "stderr",
     "output_type": "stream",
     "text": [
      "\n"
     ]
    },
    {
     "name": "stdout",
     "output_type": "stream",
     "text": [
      "Epoch [40/100] Loss: 0.9402\n",
      "Epoch [40/100] Loss: 0.7741\n",
      "Epoch [40/100] Loss: 1.1443\n",
      "Epoch [40/100] Loss: 1.0244\n",
      "Epoch [40/100] Loss: 0.7433\n",
      "Epoch [40/100] Loss: 0.9076\n",
      "Epoch [40/100] Loss: 0.9493\n",
      "Epoch [40/100] Loss: 0.8087\n",
      "Epoch [40/100] Loss: 1.1273\n",
      "Epoch [40/100] Loss: 0.8395\n",
      "Epoch [40/100] Loss: 1.2675\n",
      "Epoch [40/100] Loss: 1.0285\n",
      "Epoch [40/100] Loss: 1.3646\n"
     ]
    },
    {
     "name": "stderr",
     "output_type": "stream",
     "text": [
      "218it [01:11,  3.05it/s]"
     ]
    },
    {
     "name": "stdout",
     "output_type": "stream",
     "text": [
      "Overall Acc: \t 0.584042331645\n",
      "Mean Acc : \t 0.465092555046\n",
      "FreqW Acc : \t 0.409335404269\n",
      "Mean IoU : \t 0.327810316397\n"
     ]
    },
    {
     "name": "stderr",
     "output_type": "stream",
     "text": [
      "\n"
     ]
    },
    {
     "name": "stdout",
     "output_type": "stream",
     "text": [
      "Epoch [41/100] Loss: 0.9505\n",
      "Epoch [41/100] Loss: 0.8584\n",
      "Epoch [41/100] Loss: 0.7757\n",
      "Epoch [41/100] Loss: 1.0258\n",
      "Epoch [41/100] Loss: 0.9363\n",
      "Epoch [41/100] Loss: 0.8095\n",
      "Epoch [41/100] Loss: 1.0287\n",
      "Epoch [41/100] Loss: 1.3465\n",
      "Epoch [41/100] Loss: 1.0966\n",
      "Epoch [41/100] Loss: 1.2962\n",
      "Epoch [41/100] Loss: 0.8348\n",
      "Epoch [41/100] Loss: 1.0593\n",
      "Epoch [41/100] Loss: 1.2613\n"
     ]
    },
    {
     "name": "stderr",
     "output_type": "stream",
     "text": [
      "218it [01:11,  3.06it/s]"
     ]
    },
    {
     "name": "stdout",
     "output_type": "stream",
     "text": [
      "Overall Acc: \t 0.582681186688\n",
      "Mean Acc : \t 0.461163499719\n",
      "FreqW Acc : \t 0.414255412752\n",
      "Mean IoU : \t 0.330510898087\n"
     ]
    },
    {
     "name": "stderr",
     "output_type": "stream",
     "text": [
      "\n"
     ]
    },
    {
     "name": "stdout",
     "output_type": "stream",
     "text": [
      "Epoch [42/100] Loss: 0.6919\n",
      "Epoch [42/100] Loss: 0.8819\n",
      "Epoch [42/100] Loss: 1.1506\n",
      "Epoch [42/100] Loss: 0.8998\n",
      "Epoch [42/100] Loss: 1.1875\n",
      "Epoch [42/100] Loss: 1.1349\n",
      "Epoch [42/100] Loss: 0.9690\n",
      "Epoch [42/100] Loss: 1.0984\n",
      "Epoch [42/100] Loss: 0.8539\n",
      "Epoch [42/100] Loss: 0.8438\n",
      "Epoch [42/100] Loss: 0.8967\n",
      "Epoch [42/100] Loss: 0.9707\n",
      "Epoch [42/100] Loss: 0.9676\n"
     ]
    },
    {
     "name": "stderr",
     "output_type": "stream",
     "text": [
      "218it [01:11,  3.06it/s]\n"
     ]
    },
    {
     "name": "stdout",
     "output_type": "stream",
     "text": [
      "Overall Acc: \t 0.585736478442\n",
      "Mean Acc : \t 0.478411548356\n",
      "FreqW Acc : \t 0.418551684903\n",
      "Mean IoU : \t 0.337599957618\n",
      "Epoch [43/100] Loss: 0.8930\n",
      "Epoch [43/100] Loss: 0.7503\n",
      "Epoch [43/100] Loss: 0.8554\n",
      "Epoch [43/100] Loss: 0.9909\n",
      "Epoch [43/100] Loss: 1.0937\n",
      "Epoch [43/100] Loss: 1.1227\n",
      "Epoch [43/100] Loss: 0.8484\n",
      "Epoch [43/100] Loss: 0.9373\n",
      "Epoch [43/100] Loss: 0.9580\n",
      "Epoch [43/100] Loss: 1.0650\n",
      "Epoch [43/100] Loss: 0.9680\n",
      "Epoch [43/100] Loss: 0.9579\n",
      "Epoch [43/100] Loss: 0.9314\n"
     ]
    },
    {
     "name": "stderr",
     "output_type": "stream",
     "text": [
      "218it [01:11,  3.05it/s]\n"
     ]
    },
    {
     "name": "stdout",
     "output_type": "stream",
     "text": [
      "Overall Acc: \t 0.583712425737\n",
      "Mean Acc : \t 0.473474050866\n",
      "FreqW Acc : \t 0.418795254697\n",
      "Mean IoU : \t 0.339138152768\n",
      "Epoch [44/100] Loss: 1.3830\n",
      "Epoch [44/100] Loss: 0.8591\n",
      "Epoch [44/100] Loss: 1.1975\n",
      "Epoch [44/100] Loss: 1.1043\n",
      "Epoch [44/100] Loss: 1.0184\n",
      "Epoch [44/100] Loss: 1.0953\n",
      "Epoch [44/100] Loss: 0.9588\n",
      "Epoch [44/100] Loss: 0.7155\n",
      "Epoch [44/100] Loss: 1.0062\n",
      "Epoch [44/100] Loss: 1.0431\n",
      "Epoch [44/100] Loss: 0.9073\n",
      "Epoch [44/100] Loss: 0.9941\n",
      "Epoch [44/100] Loss: 0.8595\n"
     ]
    },
    {
     "name": "stderr",
     "output_type": "stream",
     "text": [
      "218it [01:11,  3.06it/s]"
     ]
    },
    {
     "name": "stdout",
     "output_type": "stream",
     "text": [
      "Overall Acc: \t 0.586820009875\n",
      "Mean Acc : \t 0.473281557414\n",
      "FreqW Acc : \t 0.415341729141\n",
      "Mean IoU : \t 0.336368597185\n"
     ]
    },
    {
     "name": "stderr",
     "output_type": "stream",
     "text": [
      "\n"
     ]
    },
    {
     "name": "stdout",
     "output_type": "stream",
     "text": [
      "Epoch [45/100] Loss: 0.8546\n",
      "Epoch [45/100] Loss: 0.9158\n",
      "Epoch [45/100] Loss: 0.8307\n",
      "Epoch [45/100] Loss: 1.1592\n",
      "Epoch [45/100] Loss: 0.7339\n",
      "Epoch [45/100] Loss: 0.8226\n",
      "Epoch [45/100] Loss: 0.9584\n",
      "Epoch [45/100] Loss: 1.1539\n",
      "Epoch [45/100] Loss: 0.9941\n",
      "Epoch [45/100] Loss: 1.2677\n",
      "Epoch [45/100] Loss: 0.7896\n",
      "Epoch [45/100] Loss: 1.0254\n",
      "Epoch [45/100] Loss: 0.9776\n"
     ]
    },
    {
     "name": "stderr",
     "output_type": "stream",
     "text": [
      "218it [01:11,  3.06it/s]\n"
     ]
    },
    {
     "name": "stdout",
     "output_type": "stream",
     "text": [
      "Overall Acc: \t 0.587803690032\n",
      "Mean Acc : \t 0.47959964883\n",
      "FreqW Acc : \t 0.417781630604\n",
      "Mean IoU : \t 0.339362848912\n",
      "Epoch [46/100] Loss: 0.9796\n",
      "Epoch [46/100] Loss: 0.7708\n",
      "Epoch [46/100] Loss: 1.1638\n",
      "Epoch [46/100] Loss: 0.9445\n",
      "Epoch [46/100] Loss: 1.0394\n",
      "Epoch [46/100] Loss: 1.0320\n",
      "Epoch [46/100] Loss: 0.8666\n",
      "Epoch [46/100] Loss: 0.8685\n",
      "Epoch [46/100] Loss: 0.8787\n",
      "Epoch [46/100] Loss: 0.6355\n",
      "Epoch [46/100] Loss: 0.9732\n",
      "Epoch [46/100] Loss: 0.9198\n",
      "Epoch [46/100] Loss: 0.7987\n"
     ]
    },
    {
     "name": "stderr",
     "output_type": "stream",
     "text": [
      "218it [01:11,  3.07it/s]\n"
     ]
    },
    {
     "name": "stdout",
     "output_type": "stream",
     "text": [
      "Overall Acc: \t 0.585512610697\n",
      "Mean Acc : \t 0.47794693416\n",
      "FreqW Acc : \t 0.417690596951\n",
      "Mean IoU : \t 0.340132803541\n",
      "Epoch [47/100] Loss: 0.8507\n",
      "Epoch [47/100] Loss: 0.9802\n",
      "Epoch [47/100] Loss: 0.7059\n",
      "Epoch [47/100] Loss: 1.3741\n",
      "Epoch [47/100] Loss: 0.9690\n",
      "Epoch [47/100] Loss: 1.2353\n",
      "Epoch [47/100] Loss: 1.0568\n",
      "Epoch [47/100] Loss: 1.0298\n",
      "Epoch [47/100] Loss: 0.9522\n",
      "Epoch [47/100] Loss: 0.8605\n",
      "Epoch [47/100] Loss: 0.7065\n",
      "Epoch [47/100] Loss: 0.9361\n",
      "Epoch [47/100] Loss: 0.7734\n"
     ]
    },
    {
     "name": "stderr",
     "output_type": "stream",
     "text": [
      "218it [01:11,  3.06it/s]\n"
     ]
    },
    {
     "name": "stdout",
     "output_type": "stream",
     "text": [
      "Overall Acc: \t 0.58629490097\n",
      "Mean Acc : \t 0.484846378312\n",
      "FreqW Acc : \t 0.418393749022\n",
      "Mean IoU : \t 0.341728669327\n",
      "Epoch [48/100] Loss: 0.8483\n",
      "Epoch [48/100] Loss: 0.9242\n",
      "Epoch [48/100] Loss: 0.8284\n",
      "Epoch [48/100] Loss: 1.0221\n",
      "Epoch [48/100] Loss: 0.7136\n",
      "Epoch [48/100] Loss: 1.1147\n",
      "Epoch [48/100] Loss: 1.1296\n",
      "Epoch [48/100] Loss: 0.6359\n",
      "Epoch [48/100] Loss: 1.0407\n",
      "Epoch [48/100] Loss: 0.9653\n",
      "Epoch [48/100] Loss: 0.9430\n",
      "Epoch [48/100] Loss: 1.0266\n",
      "Epoch [48/100] Loss: 1.2790\n"
     ]
    },
    {
     "name": "stderr",
     "output_type": "stream",
     "text": [
      "218it [01:11,  3.06it/s]"
     ]
    },
    {
     "name": "stdout",
     "output_type": "stream",
     "text": [
      "Overall Acc: \t 0.584194012408\n",
      "Mean Acc : \t 0.484942687936\n",
      "FreqW Acc : \t 0.417767173903\n",
      "Mean IoU : \t 0.34119177915\n"
     ]
    },
    {
     "name": "stderr",
     "output_type": "stream",
     "text": [
      "\n"
     ]
    },
    {
     "name": "stdout",
     "output_type": "stream",
     "text": [
      "Epoch [49/100] Loss: 0.6714\n",
      "Epoch [49/100] Loss: 1.1031\n",
      "Epoch [49/100] Loss: 0.8099\n",
      "Epoch [49/100] Loss: 1.0069\n",
      "Epoch [49/100] Loss: 0.8818\n",
      "Epoch [49/100] Loss: 0.7924\n",
      "Epoch [49/100] Loss: 1.1022\n",
      "Epoch [49/100] Loss: 0.9472\n",
      "Epoch [49/100] Loss: 0.9405\n",
      "Epoch [49/100] Loss: 1.0510\n",
      "Epoch [49/100] Loss: 1.1787\n",
      "Epoch [49/100] Loss: 1.0319\n",
      "Epoch [49/100] Loss: 0.8101\n"
     ]
    },
    {
     "name": "stderr",
     "output_type": "stream",
     "text": [
      "218it [01:11,  3.07it/s]"
     ]
    },
    {
     "name": "stdout",
     "output_type": "stream",
     "text": [
      "Overall Acc: \t 0.589622281354\n",
      "Mean Acc : \t 0.478080760455\n",
      "FreqW Acc : \t 0.419259942766\n",
      "Mean IoU : \t 0.341364400718\n"
     ]
    },
    {
     "name": "stderr",
     "output_type": "stream",
     "text": [
      "\n"
     ]
    },
    {
     "name": "stdout",
     "output_type": "stream",
     "text": [
      "Epoch [50/100] Loss: 1.2014\n",
      "Epoch [50/100] Loss: 0.8254\n",
      "Epoch [50/100] Loss: 1.0047\n",
      "Epoch [50/100] Loss: 0.6883\n",
      "Epoch [50/100] Loss: 0.9234\n",
      "Epoch [50/100] Loss: 0.9837\n",
      "Epoch [50/100] Loss: 0.9426\n",
      "Epoch [50/100] Loss: 1.0314\n",
      "Epoch [50/100] Loss: 0.9117\n",
      "Epoch [50/100] Loss: 1.2448\n",
      "Epoch [50/100] Loss: 1.0650\n",
      "Epoch [50/100] Loss: 0.9451\n",
      "Epoch [50/100] Loss: 0.9292\n"
     ]
    },
    {
     "name": "stderr",
     "output_type": "stream",
     "text": [
      "218it [01:10,  3.08it/s]\n"
     ]
    },
    {
     "name": "stdout",
     "output_type": "stream",
     "text": [
      "Overall Acc: \t 0.588924472198\n",
      "Mean Acc : \t 0.485599953403\n",
      "FreqW Acc : \t 0.421061701762\n",
      "Mean IoU : \t 0.346032333297\n",
      "Epoch [51/100] Loss: 1.0474\n",
      "Epoch [51/100] Loss: 0.8427\n",
      "Epoch [51/100] Loss: 0.8101\n",
      "Epoch [51/100] Loss: 0.7398\n",
      "Epoch [51/100] Loss: 1.0158\n",
      "Epoch [51/100] Loss: 1.1629\n",
      "Epoch [51/100] Loss: 1.4145\n",
      "Epoch [51/100] Loss: 1.0294\n",
      "Epoch [51/100] Loss: 0.9416\n",
      "Epoch [51/100] Loss: 0.8548\n",
      "Epoch [51/100] Loss: 0.9040\n",
      "Epoch [51/100] Loss: 0.9792\n",
      "Epoch [51/100] Loss: 0.7004\n"
     ]
    },
    {
     "name": "stderr",
     "output_type": "stream",
     "text": [
      "218it [01:10,  3.07it/s]\n"
     ]
    },
    {
     "name": "stdout",
     "output_type": "stream",
     "text": [
      "Overall Acc: \t 0.589439616383\n",
      "Mean Acc : \t 0.487811932671\n",
      "FreqW Acc : \t 0.42118549588\n",
      "Mean IoU : \t 0.34776172827\n",
      "Epoch [52/100] Loss: 0.9201\n",
      "Epoch [52/100] Loss: 0.6776\n",
      "Epoch [52/100] Loss: 0.9024\n",
      "Epoch [52/100] Loss: 0.9185\n",
      "Epoch [52/100] Loss: 1.2702\n",
      "Epoch [52/100] Loss: 0.7749\n",
      "Epoch [52/100] Loss: 0.6676\n",
      "Epoch [52/100] Loss: 0.9315\n",
      "Epoch [52/100] Loss: 0.9717\n",
      "Epoch [52/100] Loss: 0.8770\n",
      "Epoch [52/100] Loss: 1.0879\n",
      "Epoch [52/100] Loss: 0.9484\n",
      "Epoch [52/100] Loss: 1.0155\n"
     ]
    },
    {
     "name": "stderr",
     "output_type": "stream",
     "text": [
      "218it [01:10,  3.08it/s]"
     ]
    },
    {
     "name": "stdout",
     "output_type": "stream",
     "text": [
      "Overall Acc: \t 0.59180400759\n",
      "Mean Acc : \t 0.488273773422\n",
      "FreqW Acc : \t 0.421975966384\n",
      "Mean IoU : \t 0.346245790189\n"
     ]
    },
    {
     "name": "stderr",
     "output_type": "stream",
     "text": [
      "\n"
     ]
    },
    {
     "name": "stdout",
     "output_type": "stream",
     "text": [
      "Epoch [53/100] Loss: 0.9366\n",
      "Epoch [53/100] Loss: 0.7955\n",
      "Epoch [53/100] Loss: 1.0289\n",
      "Epoch [53/100] Loss: 1.1137\n",
      "Epoch [53/100] Loss: 0.8140\n",
      "Epoch [53/100] Loss: 0.7558\n",
      "Epoch [53/100] Loss: 0.9283\n",
      "Epoch [53/100] Loss: 0.9888\n",
      "Epoch [53/100] Loss: 0.9945\n",
      "Epoch [53/100] Loss: 1.1160\n",
      "Epoch [53/100] Loss: 0.7660\n",
      "Epoch [53/100] Loss: 0.8882\n",
      "Epoch [53/100] Loss: 1.0194\n"
     ]
    },
    {
     "name": "stderr",
     "output_type": "stream",
     "text": [
      "218it [01:10,  3.07it/s]\n"
     ]
    },
    {
     "name": "stdout",
     "output_type": "stream",
     "text": [
      "Overall Acc: \t 0.592594634979\n",
      "Mean Acc : \t 0.485930985477\n",
      "FreqW Acc : \t 0.423092217804\n",
      "Mean IoU : \t 0.348501014874\n",
      "Epoch [54/100] Loss: 0.8467\n",
      "Epoch [54/100] Loss: 0.8091\n",
      "Epoch [54/100] Loss: 0.9837\n",
      "Epoch [54/100] Loss: 0.8531\n",
      "Epoch [54/100] Loss: 1.2832\n",
      "Epoch [54/100] Loss: 0.5977\n",
      "Epoch [54/100] Loss: 1.0083\n",
      "Epoch [54/100] Loss: 0.9236\n",
      "Epoch [54/100] Loss: 0.8408\n",
      "Epoch [54/100] Loss: 1.0336\n",
      "Epoch [54/100] Loss: 0.8950\n",
      "Epoch [54/100] Loss: 0.8782\n",
      "Epoch [54/100] Loss: 0.6358\n"
     ]
    },
    {
     "name": "stderr",
     "output_type": "stream",
     "text": [
      "218it [01:10,  3.08it/s]"
     ]
    },
    {
     "name": "stdout",
     "output_type": "stream",
     "text": [
      "Overall Acc: \t 0.590833577225\n",
      "Mean Acc : \t 0.486669497438\n",
      "FreqW Acc : \t 0.42286834116\n",
      "Mean IoU : \t 0.347027514114\n"
     ]
    },
    {
     "name": "stderr",
     "output_type": "stream",
     "text": [
      "\n"
     ]
    },
    {
     "name": "stdout",
     "output_type": "stream",
     "text": [
      "Epoch [55/100] Loss: 0.7688\n",
      "Epoch [55/100] Loss: 0.7356\n",
      "Epoch [55/100] Loss: 0.4451\n",
      "Epoch [55/100] Loss: 0.8013\n",
      "Epoch [55/100] Loss: 0.7583\n",
      "Epoch [55/100] Loss: 0.8739\n",
      "Epoch [55/100] Loss: 0.7873\n",
      "Epoch [55/100] Loss: 0.8122\n",
      "Epoch [55/100] Loss: 0.8934\n",
      "Epoch [55/100] Loss: 0.9656\n",
      "Epoch [55/100] Loss: 0.9567\n",
      "Epoch [55/100] Loss: 0.7237\n",
      "Epoch [55/100] Loss: 0.7765\n"
     ]
    },
    {
     "name": "stderr",
     "output_type": "stream",
     "text": [
      "218it [01:11,  3.06it/s]"
     ]
    },
    {
     "name": "stdout",
     "output_type": "stream",
     "text": [
      "Overall Acc: \t 0.592092436966\n",
      "Mean Acc : \t 0.48499907257\n",
      "FreqW Acc : \t 0.420735865451\n",
      "Mean IoU : \t 0.345923734015\n"
     ]
    },
    {
     "name": "stderr",
     "output_type": "stream",
     "text": [
      "\n"
     ]
    },
    {
     "name": "stdout",
     "output_type": "stream",
     "text": [
      "Epoch [56/100] Loss: 0.9383\n",
      "Epoch [56/100] Loss: 1.0571\n",
      "Epoch [56/100] Loss: 0.9751\n",
      "Epoch [56/100] Loss: 1.0699\n",
      "Epoch [56/100] Loss: 0.9983\n",
      "Epoch [56/100] Loss: 0.7206\n",
      "Epoch [56/100] Loss: 0.6795\n",
      "Epoch [56/100] Loss: 0.9083\n",
      "Epoch [56/100] Loss: 0.9703\n",
      "Epoch [56/100] Loss: 0.9116\n",
      "Epoch [56/100] Loss: 0.9307\n",
      "Epoch [56/100] Loss: 0.7567\n",
      "Epoch [56/100] Loss: 1.0734\n"
     ]
    },
    {
     "name": "stderr",
     "output_type": "stream",
     "text": [
      "218it [01:10,  3.07it/s]\n"
     ]
    },
    {
     "name": "stdout",
     "output_type": "stream",
     "text": [
      "Overall Acc: \t 0.59411027292\n",
      "Mean Acc : \t 0.490391638838\n",
      "FreqW Acc : \t 0.425460634665\n",
      "Mean IoU : \t 0.34971334841\n",
      "Epoch [57/100] Loss: 0.7350\n",
      "Epoch [57/100] Loss: 0.7370\n",
      "Epoch [57/100] Loss: 0.9274\n",
      "Epoch [57/100] Loss: 0.6807\n",
      "Epoch [57/100] Loss: 0.6854\n",
      "Epoch [57/100] Loss: 0.8789\n",
      "Epoch [57/100] Loss: 0.9786\n",
      "Epoch [57/100] Loss: 0.9834\n",
      "Epoch [57/100] Loss: 0.8165\n",
      "Epoch [57/100] Loss: 0.8475\n",
      "Epoch [57/100] Loss: 0.8030\n",
      "Epoch [57/100] Loss: 0.8945\n",
      "Epoch [57/100] Loss: 0.8576\n"
     ]
    },
    {
     "name": "stderr",
     "output_type": "stream",
     "text": [
      "218it [01:10,  3.07it/s]"
     ]
    },
    {
     "name": "stdout",
     "output_type": "stream",
     "text": [
      "Overall Acc: \t 0.592964130989\n",
      "Mean Acc : \t 0.488938501038\n",
      "FreqW Acc : \t 0.425336024149\n",
      "Mean IoU : \t 0.349311347441\n"
     ]
    },
    {
     "name": "stderr",
     "output_type": "stream",
     "text": [
      "\n"
     ]
    },
    {
     "name": "stdout",
     "output_type": "stream",
     "text": [
      "Epoch [58/100] Loss: 0.9080\n",
      "Epoch [58/100] Loss: 0.8934\n",
      "Epoch [58/100] Loss: 0.7753\n",
      "Epoch [58/100] Loss: 1.0151\n",
      "Epoch [58/100] Loss: 0.9097\n",
      "Epoch [58/100] Loss: 0.8238\n",
      "Epoch [58/100] Loss: 0.9189\n",
      "Epoch [58/100] Loss: 0.8239\n",
      "Epoch [58/100] Loss: 1.2897\n",
      "Epoch [58/100] Loss: 0.8697\n",
      "Epoch [58/100] Loss: 1.0095\n",
      "Epoch [58/100] Loss: 0.9318\n",
      "Epoch [58/100] Loss: 0.9271\n"
     ]
    },
    {
     "name": "stderr",
     "output_type": "stream",
     "text": [
      "218it [01:10,  3.08it/s]\n"
     ]
    },
    {
     "name": "stdout",
     "output_type": "stream",
     "text": [
      "Overall Acc: \t 0.592100156887\n",
      "Mean Acc : \t 0.494390313996\n",
      "FreqW Acc : \t 0.423643836276\n",
      "Mean IoU : \t 0.351408061465\n",
      "Epoch [59/100] Loss: 0.9285\n",
      "Epoch [59/100] Loss: 0.7961\n",
      "Epoch [59/100] Loss: 0.7751\n",
      "Epoch [59/100] Loss: 0.8691\n",
      "Epoch [59/100] Loss: 0.7627\n",
      "Epoch [59/100] Loss: 0.9889\n",
      "Epoch [59/100] Loss: 0.6899\n",
      "Epoch [59/100] Loss: 0.8897\n",
      "Epoch [59/100] Loss: 0.6606\n",
      "Epoch [59/100] Loss: 0.7031\n",
      "Epoch [59/100] Loss: 0.6976\n",
      "Epoch [59/100] Loss: 0.8661\n",
      "Epoch [59/100] Loss: 0.8773\n"
     ]
    },
    {
     "name": "stderr",
     "output_type": "stream",
     "text": [
      "218it [01:10,  3.07it/s]"
     ]
    },
    {
     "name": "stdout",
     "output_type": "stream",
     "text": [
      "Overall Acc: \t 0.592694590779\n",
      "Mean Acc : \t 0.489761208532\n",
      "FreqW Acc : \t 0.420057375389\n",
      "Mean IoU : \t 0.34992402266\n"
     ]
    },
    {
     "name": "stderr",
     "output_type": "stream",
     "text": [
      "\n"
     ]
    },
    {
     "name": "stdout",
     "output_type": "stream",
     "text": [
      "Epoch [60/100] Loss: 0.8465\n",
      "Epoch [60/100] Loss: 0.8467\n",
      "Epoch [60/100] Loss: 0.8108\n",
      "Epoch [60/100] Loss: 0.7763\n",
      "Epoch [60/100] Loss: 0.9100\n",
      "Epoch [60/100] Loss: 0.9845\n",
      "Epoch [60/100] Loss: 1.0179\n",
      "Epoch [60/100] Loss: 0.8891\n",
      "Epoch [60/100] Loss: 0.6386\n",
      "Epoch [60/100] Loss: 0.8401\n",
      "Epoch [60/100] Loss: 0.6507\n",
      "Epoch [60/100] Loss: 0.8982\n",
      "Epoch [60/100] Loss: 0.9153\n"
     ]
    },
    {
     "name": "stderr",
     "output_type": "stream",
     "text": [
      "218it [01:10,  3.07it/s]"
     ]
    },
    {
     "name": "stdout",
     "output_type": "stream",
     "text": [
      "Overall Acc: \t 0.591480935629\n",
      "Mean Acc : \t 0.483152317446\n",
      "FreqW Acc : \t 0.42355318648\n",
      "Mean IoU : \t 0.34606452786\n"
     ]
    },
    {
     "name": "stderr",
     "output_type": "stream",
     "text": [
      "\n"
     ]
    },
    {
     "name": "stdout",
     "output_type": "stream",
     "text": [
      "Epoch [61/100] Loss: 0.7886\n",
      "Epoch [61/100] Loss: 0.8251\n",
      "Epoch [61/100] Loss: 0.9305\n",
      "Epoch [61/100] Loss: 1.0101\n",
      "Epoch [61/100] Loss: 0.8712\n",
      "Epoch [61/100] Loss: 0.8994\n",
      "Epoch [61/100] Loss: 0.8593\n",
      "Epoch [61/100] Loss: 0.6788\n",
      "Epoch [61/100] Loss: 1.1768\n",
      "Epoch [61/100] Loss: 0.7918\n",
      "Epoch [61/100] Loss: 0.6957\n",
      "Epoch [61/100] Loss: 0.9726\n",
      "Epoch [61/100] Loss: 0.7775\n"
     ]
    },
    {
     "name": "stderr",
     "output_type": "stream",
     "text": [
      "218it [01:11,  3.06it/s]\n"
     ]
    },
    {
     "name": "stdout",
     "output_type": "stream",
     "text": [
      "Overall Acc: \t 0.592657225567\n",
      "Mean Acc : \t 0.493934736563\n",
      "FreqW Acc : \t 0.426824994771\n",
      "Mean IoU : \t 0.352287955144\n",
      "Epoch [62/100] Loss: 0.9906\n",
      "Epoch [62/100] Loss: 0.7095\n",
      "Epoch [62/100] Loss: 0.8150\n",
      "Epoch [62/100] Loss: 0.6847\n",
      "Epoch [62/100] Loss: 0.7900\n",
      "Epoch [62/100] Loss: 0.8456\n",
      "Epoch [62/100] Loss: 0.7952\n",
      "Epoch [62/100] Loss: 1.0547\n",
      "Epoch [62/100] Loss: 0.7670\n",
      "Epoch [62/100] Loss: 0.8237\n",
      "Epoch [62/100] Loss: 0.8583\n",
      "Epoch [62/100] Loss: 0.9358\n",
      "Epoch [62/100] Loss: 0.9711\n"
     ]
    },
    {
     "name": "stderr",
     "output_type": "stream",
     "text": [
      "218it [01:10,  3.07it/s]\n"
     ]
    },
    {
     "name": "stdout",
     "output_type": "stream",
     "text": [
      "Overall Acc: \t 0.594462129085\n",
      "Mean Acc : \t 0.498625640784\n",
      "FreqW Acc : \t 0.425210651605\n",
      "Mean IoU : \t 0.354094148476\n",
      "Epoch [63/100] Loss: 0.8518\n",
      "Epoch [63/100] Loss: 0.6761\n",
      "Epoch [63/100] Loss: 0.8035\n",
      "Epoch [63/100] Loss: 0.9145\n",
      "Epoch [63/100] Loss: 0.9132\n",
      "Epoch [63/100] Loss: 0.8857\n",
      "Epoch [63/100] Loss: 0.8773\n",
      "Epoch [63/100] Loss: 0.7453\n",
      "Epoch [63/100] Loss: 0.8540\n",
      "Epoch [63/100] Loss: 0.8700\n",
      "Epoch [63/100] Loss: 0.7894\n",
      "Epoch [63/100] Loss: 0.7920\n",
      "Epoch [63/100] Loss: 0.7339\n"
     ]
    },
    {
     "name": "stderr",
     "output_type": "stream",
     "text": [
      "218it [01:10,  3.09it/s]"
     ]
    },
    {
     "name": "stdout",
     "output_type": "stream",
     "text": [
      "Overall Acc: \t 0.592154340676\n",
      "Mean Acc : \t 0.505377726095\n",
      "FreqW Acc : \t 0.423820986506\n",
      "Mean IoU : \t 0.353899264685\n"
     ]
    },
    {
     "name": "stderr",
     "output_type": "stream",
     "text": [
      "\n"
     ]
    },
    {
     "name": "stdout",
     "output_type": "stream",
     "text": [
      "Epoch [64/100] Loss: 0.7730\n",
      "Epoch [64/100] Loss: 0.7334\n",
      "Epoch [64/100] Loss: 0.8263\n",
      "Epoch [64/100] Loss: 0.8527\n",
      "Epoch [64/100] Loss: 1.0054\n",
      "Epoch [64/100] Loss: 0.9180\n",
      "Epoch [64/100] Loss: 0.7473\n",
      "Epoch [64/100] Loss: 0.6972\n",
      "Epoch [64/100] Loss: 0.7077\n",
      "Epoch [64/100] Loss: 0.7750\n",
      "Epoch [64/100] Loss: 0.9825\n",
      "Epoch [64/100] Loss: 0.7765\n",
      "Epoch [64/100] Loss: 0.8491\n"
     ]
    },
    {
     "name": "stderr",
     "output_type": "stream",
     "text": [
      "218it [01:10,  3.08it/s]\n"
     ]
    },
    {
     "name": "stdout",
     "output_type": "stream",
     "text": [
      "Overall Acc: \t 0.59449971828\n",
      "Mean Acc : \t 0.492896483788\n",
      "FreqW Acc : \t 0.427405828874\n",
      "Mean IoU : \t 0.354642336834\n",
      "Epoch [65/100] Loss: 0.8612\n",
      "Epoch [65/100] Loss: 0.6705\n",
      "Epoch [65/100] Loss: 0.8436\n",
      "Epoch [65/100] Loss: 0.7662\n",
      "Epoch [65/100] Loss: 0.8238\n",
      "Epoch [65/100] Loss: 0.7761\n",
      "Epoch [65/100] Loss: 1.1038\n",
      "Epoch [65/100] Loss: 0.8576\n",
      "Epoch [65/100] Loss: 0.9781\n",
      "Epoch [65/100] Loss: 0.6915\n",
      "Epoch [65/100] Loss: 0.8897\n",
      "Epoch [65/100] Loss: 1.0653\n",
      "Epoch [65/100] Loss: 1.0218\n"
     ]
    },
    {
     "name": "stderr",
     "output_type": "stream",
     "text": [
      "218it [01:11,  3.07it/s]"
     ]
    },
    {
     "name": "stdout",
     "output_type": "stream",
     "text": [
      "Overall Acc: \t 0.592418455538\n",
      "Mean Acc : \t 0.492753172703\n",
      "FreqW Acc : \t 0.428065419338\n",
      "Mean IoU : \t 0.354545905287\n"
     ]
    },
    {
     "name": "stderr",
     "output_type": "stream",
     "text": [
      "\n"
     ]
    },
    {
     "name": "stdout",
     "output_type": "stream",
     "text": [
      "Epoch [66/100] Loss: 0.8555\n",
      "Epoch [66/100] Loss: 0.7220\n",
      "Epoch [66/100] Loss: 0.6777\n",
      "Epoch [66/100] Loss: 0.7331\n",
      "Epoch [66/100] Loss: 0.8296\n",
      "Epoch [66/100] Loss: 0.7189\n",
      "Epoch [66/100] Loss: 0.7747\n",
      "Epoch [66/100] Loss: 1.0003\n",
      "Epoch [66/100] Loss: 0.7418\n",
      "Epoch [66/100] Loss: 0.8994\n",
      "Epoch [66/100] Loss: 0.8658\n",
      "Epoch [66/100] Loss: 0.7343\n",
      "Epoch [66/100] Loss: 0.9096\n"
     ]
    },
    {
     "name": "stderr",
     "output_type": "stream",
     "text": [
      "218it [01:10,  3.07it/s]\n"
     ]
    },
    {
     "name": "stdout",
     "output_type": "stream",
     "text": [
      "Overall Acc: \t 0.592529247101\n",
      "Mean Acc : \t 0.500209264386\n",
      "FreqW Acc : \t 0.42600056467\n",
      "Mean IoU : \t 0.35584227091\n",
      "Epoch [67/100] Loss: 0.6265\n",
      "Epoch [67/100] Loss: 0.4966\n",
      "Epoch [67/100] Loss: 0.9452\n",
      "Epoch [67/100] Loss: 0.6454\n",
      "Epoch [67/100] Loss: 0.9081\n",
      "Epoch [67/100] Loss: 0.7331\n",
      "Epoch [67/100] Loss: 0.8873\n",
      "Epoch [67/100] Loss: 0.7509\n",
      "Epoch [67/100] Loss: 0.9912\n",
      "Epoch [67/100] Loss: 0.8965\n",
      "Epoch [67/100] Loss: 0.8461\n",
      "Epoch [67/100] Loss: 0.6382\n",
      "Epoch [67/100] Loss: 0.8767\n"
     ]
    },
    {
     "name": "stderr",
     "output_type": "stream",
     "text": [
      "218it [01:10,  3.07it/s]"
     ]
    },
    {
     "name": "stdout",
     "output_type": "stream",
     "text": [
      "Overall Acc: \t 0.59619713024\n",
      "Mean Acc : \t 0.49175890553\n",
      "FreqW Acc : \t 0.42836245673\n",
      "Mean IoU : \t 0.354429038947\n"
     ]
    },
    {
     "name": "stderr",
     "output_type": "stream",
     "text": [
      "\n"
     ]
    },
    {
     "name": "stdout",
     "output_type": "stream",
     "text": [
      "Epoch [68/100] Loss: 0.8284\n",
      "Epoch [68/100] Loss: 0.9707\n",
      "Epoch [68/100] Loss: 0.8194\n",
      "Epoch [68/100] Loss: 0.9372\n",
      "Epoch [68/100] Loss: 0.7294\n",
      "Epoch [68/100] Loss: 0.9652\n",
      "Epoch [68/100] Loss: 0.6645\n",
      "Epoch [68/100] Loss: 0.7363\n",
      "Epoch [68/100] Loss: 0.6814\n",
      "Epoch [68/100] Loss: 0.7623\n",
      "Epoch [68/100] Loss: 0.7074\n",
      "Epoch [68/100] Loss: 0.9244\n",
      "Epoch [68/100] Loss: 0.7343\n"
     ]
    },
    {
     "name": "stderr",
     "output_type": "stream",
     "text": [
      "218it [01:11,  3.07it/s]\n"
     ]
    },
    {
     "name": "stdout",
     "output_type": "stream",
     "text": [
      "Overall Acc: \t 0.594510205626\n",
      "Mean Acc : \t 0.496083458581\n",
      "FreqW Acc : \t 0.427434950344\n",
      "Mean IoU : \t 0.356148726664\n",
      "Epoch [69/100] Loss: 0.5472\n",
      "Epoch [69/100] Loss: 0.9535\n",
      "Epoch [69/100] Loss: 0.6173\n",
      "Epoch [69/100] Loss: 0.7376\n",
      "Epoch [69/100] Loss: 0.9707\n",
      "Epoch [69/100] Loss: 0.8692\n",
      "Epoch [69/100] Loss: 0.7186\n",
      "Epoch [69/100] Loss: 0.8115\n",
      "Epoch [69/100] Loss: 0.8363\n",
      "Epoch [69/100] Loss: 0.8209\n",
      "Epoch [69/100] Loss: 0.7895\n",
      "Epoch [69/100] Loss: 0.5952\n",
      "Epoch [69/100] Loss: 0.7718\n"
     ]
    },
    {
     "name": "stderr",
     "output_type": "stream",
     "text": [
      "218it [01:11,  3.07it/s]\n"
     ]
    },
    {
     "name": "stdout",
     "output_type": "stream",
     "text": [
      "Overall Acc: \t 0.596864612202\n",
      "Mean Acc : \t 0.501615093679\n",
      "FreqW Acc : \t 0.430136270897\n",
      "Mean IoU : \t 0.359515512458\n",
      "Epoch [70/100] Loss: 0.6533\n",
      "Epoch [70/100] Loss: 0.7814\n",
      "Epoch [70/100] Loss: 0.8923\n",
      "Epoch [70/100] Loss: 0.7148\n",
      "Epoch [70/100] Loss: 0.7902\n",
      "Epoch [70/100] Loss: 0.5041\n",
      "Epoch [70/100] Loss: 0.9408\n",
      "Epoch [70/100] Loss: 0.8883\n",
      "Epoch [70/100] Loss: 0.7506\n",
      "Epoch [70/100] Loss: 1.1273\n",
      "Epoch [70/100] Loss: 0.8048\n",
      "Epoch [70/100] Loss: 1.0258\n",
      "Epoch [70/100] Loss: 0.9273\n"
     ]
    },
    {
     "name": "stderr",
     "output_type": "stream",
     "text": [
      "218it [01:11,  3.06it/s]"
     ]
    },
    {
     "name": "stdout",
     "output_type": "stream",
     "text": [
      "Overall Acc: \t 0.598060463255\n",
      "Mean Acc : \t 0.496192155588\n",
      "FreqW Acc : \t 0.430046514694\n",
      "Mean IoU : \t 0.357901909054\n"
     ]
    },
    {
     "name": "stderr",
     "output_type": "stream",
     "text": [
      "\n"
     ]
    },
    {
     "name": "stdout",
     "output_type": "stream",
     "text": [
      "Epoch [71/100] Loss: 0.6604\n",
      "Epoch [71/100] Loss: 1.0163\n",
      "Epoch [71/100] Loss: 0.7490\n",
      "Epoch [71/100] Loss: 0.7631\n",
      "Epoch [71/100] Loss: 0.7066\n",
      "Epoch [71/100] Loss: 0.8258\n",
      "Epoch [71/100] Loss: 0.6518\n",
      "Epoch [71/100] Loss: 0.6684\n",
      "Epoch [71/100] Loss: 0.7103\n",
      "Epoch [71/100] Loss: 0.7819\n",
      "Epoch [71/100] Loss: 0.6361\n",
      "Epoch [71/100] Loss: 0.6544\n",
      "Epoch [71/100] Loss: 0.7012\n"
     ]
    },
    {
     "name": "stderr",
     "output_type": "stream",
     "text": [
      "218it [01:11,  3.07it/s]\n"
     ]
    },
    {
     "name": "stdout",
     "output_type": "stream",
     "text": [
      "Overall Acc: \t 0.598056511213\n",
      "Mean Acc : \t 0.504477697383\n",
      "FreqW Acc : \t 0.429104661154\n",
      "Mean IoU : \t 0.360471182754\n",
      "Epoch [72/100] Loss: 0.6628\n",
      "Epoch [72/100] Loss: 0.6583\n",
      "Epoch [72/100] Loss: 0.5718\n",
      "Epoch [72/100] Loss: 0.8695\n",
      "Epoch [72/100] Loss: 0.9705\n",
      "Epoch [72/100] Loss: 0.7166\n",
      "Epoch [72/100] Loss: 0.9513\n",
      "Epoch [72/100] Loss: 0.9134\n",
      "Epoch [72/100] Loss: 0.9622\n",
      "Epoch [72/100] Loss: 0.7602\n",
      "Epoch [72/100] Loss: 0.7698\n",
      "Epoch [72/100] Loss: 0.7839\n",
      "Epoch [72/100] Loss: 0.8118\n"
     ]
    },
    {
     "name": "stderr",
     "output_type": "stream",
     "text": [
      "218it [01:11,  3.03it/s]"
     ]
    },
    {
     "name": "stdout",
     "output_type": "stream",
     "text": [
      "Overall Acc: \t 0.597377212944\n",
      "Mean Acc : \t 0.503007242927\n",
      "FreqW Acc : \t 0.427944183922\n",
      "Mean IoU : \t 0.358556138529\n"
     ]
    },
    {
     "name": "stderr",
     "output_type": "stream",
     "text": [
      "\n"
     ]
    },
    {
     "name": "stdout",
     "output_type": "stream",
     "text": [
      "Epoch [73/100] Loss: 0.4848\n",
      "Epoch [73/100] Loss: 0.8949\n",
      "Epoch [73/100] Loss: 0.7070\n",
      "Epoch [73/100] Loss: 0.7862\n",
      "Epoch [73/100] Loss: 0.5933\n",
      "Epoch [73/100] Loss: 0.6776\n",
      "Epoch [73/100] Loss: 0.9657\n",
      "Epoch [73/100] Loss: 0.7727\n",
      "Epoch [73/100] Loss: 0.9402\n",
      "Epoch [73/100] Loss: 1.0174\n",
      "Epoch [73/100] Loss: 0.6951\n",
      "Epoch [73/100] Loss: 0.8057\n",
      "Epoch [73/100] Loss: 0.6134\n"
     ]
    },
    {
     "name": "stderr",
     "output_type": "stream",
     "text": [
      "218it [01:11,  3.06it/s]"
     ]
    },
    {
     "name": "stdout",
     "output_type": "stream",
     "text": [
      "Overall Acc: \t 0.597159074167\n",
      "Mean Acc : \t 0.498127857709\n",
      "FreqW Acc : \t 0.430306153547\n",
      "Mean IoU : \t 0.358208726411\n"
     ]
    },
    {
     "name": "stderr",
     "output_type": "stream",
     "text": [
      "\n"
     ]
    },
    {
     "name": "stdout",
     "output_type": "stream",
     "text": [
      "Epoch [74/100] Loss: 0.6879\n",
      "Epoch [74/100] Loss: 0.7237\n",
      "Epoch [74/100] Loss: 0.6883\n",
      "Epoch [74/100] Loss: 0.8468\n",
      "Epoch [74/100] Loss: 0.8059\n",
      "Epoch [74/100] Loss: 0.7254\n",
      "Epoch [74/100] Loss: 0.5866\n",
      "Epoch [74/100] Loss: 0.7308\n",
      "Epoch [74/100] Loss: 0.5973\n",
      "Epoch [74/100] Loss: 0.9546\n",
      "Epoch [74/100] Loss: 0.9171\n",
      "Epoch [74/100] Loss: 0.9564\n",
      "Epoch [74/100] Loss: 0.7219\n"
     ]
    },
    {
     "name": "stderr",
     "output_type": "stream",
     "text": [
      "218it [01:11,  3.06it/s]"
     ]
    },
    {
     "name": "stdout",
     "output_type": "stream",
     "text": [
      "Overall Acc: \t 0.594938474572\n",
      "Mean Acc : \t 0.495783351385\n",
      "FreqW Acc : \t 0.430081125913\n",
      "Mean IoU : \t 0.358736511639\n"
     ]
    },
    {
     "name": "stderr",
     "output_type": "stream",
     "text": [
      "\n"
     ]
    },
    {
     "name": "stdout",
     "output_type": "stream",
     "text": [
      "Epoch [75/100] Loss: 0.5903\n",
      "Epoch [75/100] Loss: 0.7906\n",
      "Epoch [75/100] Loss: 0.5926\n",
      "Epoch [75/100] Loss: 0.8487\n",
      "Epoch [75/100] Loss: 0.9674\n",
      "Epoch [75/100] Loss: 0.9911\n",
      "Epoch [75/100] Loss: 0.6940\n",
      "Epoch [75/100] Loss: 0.7180\n",
      "Epoch [75/100] Loss: 0.8004\n",
      "Epoch [75/100] Loss: 0.8941\n",
      "Epoch [75/100] Loss: 0.8583\n",
      "Epoch [75/100] Loss: 0.7614\n",
      "Epoch [75/100] Loss: 1.1836\n"
     ]
    },
    {
     "name": "stderr",
     "output_type": "stream",
     "text": [
      "218it [01:11,  3.05it/s]\n"
     ]
    },
    {
     "name": "stdout",
     "output_type": "stream",
     "text": [
      "Overall Acc: \t 0.596883088247\n",
      "Mean Acc : \t 0.512202446224\n",
      "FreqW Acc : \t 0.428957046721\n",
      "Mean IoU : \t 0.360996954452\n",
      "Epoch [76/100] Loss: 0.5783\n",
      "Epoch [76/100] Loss: 0.6495\n",
      "Epoch [76/100] Loss: 0.9480\n",
      "Epoch [76/100] Loss: 0.5851\n",
      "Epoch [76/100] Loss: 0.6998\n",
      "Epoch [76/100] Loss: 0.9253\n",
      "Epoch [76/100] Loss: 0.7174\n",
      "Epoch [76/100] Loss: 0.7014\n",
      "Epoch [76/100] Loss: 0.6986\n",
      "Epoch [76/100] Loss: 0.8823\n",
      "Epoch [76/100] Loss: 0.8333\n",
      "Epoch [76/100] Loss: 0.7895\n",
      "Epoch [76/100] Loss: 0.6940\n"
     ]
    },
    {
     "name": "stderr",
     "output_type": "stream",
     "text": [
      "218it [01:11,  3.05it/s]"
     ]
    },
    {
     "name": "stdout",
     "output_type": "stream",
     "text": [
      "Overall Acc: \t 0.597217135337\n",
      "Mean Acc : \t 0.502999171001\n",
      "FreqW Acc : \t 0.429298261313\n",
      "Mean IoU : \t 0.360181829198\n"
     ]
    },
    {
     "name": "stderr",
     "output_type": "stream",
     "text": [
      "\n"
     ]
    },
    {
     "name": "stdout",
     "output_type": "stream",
     "text": [
      "Epoch [77/100] Loss: 0.8050\n",
      "Epoch [77/100] Loss: 0.6194\n",
      "Epoch [77/100] Loss: 0.5463\n",
      "Epoch [77/100] Loss: 0.6481\n",
      "Epoch [77/100] Loss: 0.6976\n",
      "Epoch [77/100] Loss: 0.6509\n",
      "Epoch [77/100] Loss: 0.7053\n",
      "Epoch [77/100] Loss: 0.7029\n",
      "Epoch [77/100] Loss: 1.0901\n",
      "Epoch [77/100] Loss: 0.6983\n",
      "Epoch [77/100] Loss: 0.7368\n",
      "Epoch [77/100] Loss: 0.9240\n",
      "Epoch [77/100] Loss: 0.6437\n"
     ]
    },
    {
     "name": "stderr",
     "output_type": "stream",
     "text": [
      "218it [01:11,  3.06it/s]"
     ]
    },
    {
     "name": "stdout",
     "output_type": "stream",
     "text": [
      "Overall Acc: \t 0.596995930492\n",
      "Mean Acc : \t 0.50502395311\n",
      "FreqW Acc : \t 0.428623344515\n",
      "Mean IoU : \t 0.360531546933\n"
     ]
    },
    {
     "name": "stderr",
     "output_type": "stream",
     "text": [
      "\n"
     ]
    },
    {
     "name": "stdout",
     "output_type": "stream",
     "text": [
      "Epoch [78/100] Loss: 0.6814\n",
      "Epoch [78/100] Loss: 0.7195\n",
      "Epoch [78/100] Loss: 0.8152\n",
      "Epoch [78/100] Loss: 0.5616\n",
      "Epoch [78/100] Loss: 0.6857\n",
      "Epoch [78/100] Loss: 0.7092\n",
      "Epoch [78/100] Loss: 0.7773\n",
      "Epoch [78/100] Loss: 0.7018\n",
      "Epoch [78/100] Loss: 0.8054\n",
      "Epoch [78/100] Loss: 0.8867\n",
      "Epoch [78/100] Loss: 0.8972\n",
      "Epoch [78/100] Loss: 0.5818\n",
      "Epoch [78/100] Loss: 0.7518\n"
     ]
    },
    {
     "name": "stderr",
     "output_type": "stream",
     "text": [
      "218it [01:11,  3.06it/s]"
     ]
    },
    {
     "name": "stdout",
     "output_type": "stream",
     "text": [
      "Overall Acc: \t 0.597104741057\n",
      "Mean Acc : \t 0.498993713873\n",
      "FreqW Acc : \t 0.430965236895\n",
      "Mean IoU : \t 0.36038711092\n"
     ]
    },
    {
     "name": "stderr",
     "output_type": "stream",
     "text": [
      "\n"
     ]
    },
    {
     "name": "stdout",
     "output_type": "stream",
     "text": [
      "Epoch [79/100] Loss: 0.7567\n",
      "Epoch [79/100] Loss: 0.6152\n",
      "Epoch [79/100] Loss: 0.6872\n",
      "Epoch [79/100] Loss: 0.8982\n",
      "Epoch [79/100] Loss: 0.6542\n",
      "Epoch [79/100] Loss: 0.4833\n",
      "Epoch [79/100] Loss: 0.8187\n",
      "Epoch [79/100] Loss: 0.7243\n",
      "Epoch [79/100] Loss: 0.8923\n",
      "Epoch [79/100] Loss: 0.9274\n",
      "Epoch [79/100] Loss: 0.9211\n",
      "Epoch [79/100] Loss: 0.8541\n",
      "Epoch [79/100] Loss: 0.9083\n"
     ]
    },
    {
     "name": "stderr",
     "output_type": "stream",
     "text": [
      "218it [01:11,  3.06it/s]"
     ]
    },
    {
     "name": "stdout",
     "output_type": "stream",
     "text": [
      "Overall Acc: \t 0.597470409459\n",
      "Mean Acc : \t 0.494245875146\n",
      "FreqW Acc : \t 0.427822032587\n",
      "Mean IoU : \t 0.358115987033\n"
     ]
    },
    {
     "name": "stderr",
     "output_type": "stream",
     "text": [
      "\n"
     ]
    },
    {
     "name": "stdout",
     "output_type": "stream",
     "text": [
      "Epoch [80/100] Loss: 0.8552\n",
      "Epoch [80/100] Loss: 0.9092\n",
      "Epoch [80/100] Loss: 0.7644\n",
      "Epoch [80/100] Loss: 0.9634\n",
      "Epoch [80/100] Loss: 0.5741\n",
      "Epoch [80/100] Loss: 1.0161\n",
      "Epoch [80/100] Loss: 0.6055\n",
      "Epoch [80/100] Loss: 0.9722\n",
      "Epoch [80/100] Loss: 0.9718\n",
      "Epoch [80/100] Loss: 0.7674\n",
      "Epoch [80/100] Loss: 0.7233\n",
      "Epoch [80/100] Loss: 0.6078\n",
      "Epoch [80/100] Loss: 0.7324\n"
     ]
    },
    {
     "name": "stderr",
     "output_type": "stream",
     "text": [
      "218it [01:21,  2.69it/s]"
     ]
    },
    {
     "name": "stdout",
     "output_type": "stream",
     "text": [
      "Overall Acc: \t 0.597476327568\n",
      "Mean Acc : \t 0.502452981778\n",
      "FreqW Acc : \t 0.43167523143\n",
      "Mean IoU : \t 0.360618411556\n"
     ]
    },
    {
     "name": "stderr",
     "output_type": "stream",
     "text": [
      "\n"
     ]
    },
    {
     "name": "stdout",
     "output_type": "stream",
     "text": [
      "Epoch [81/100] Loss: 1.0017\n",
      "Epoch [81/100] Loss: 0.5501\n",
      "Epoch [81/100] Loss: 0.5979\n",
      "Epoch [81/100] Loss: 0.7267\n",
      "Epoch [81/100] Loss: 0.7049\n",
      "Epoch [81/100] Loss: 0.8514\n",
      "Epoch [81/100] Loss: 0.6100\n",
      "Epoch [81/100] Loss: 0.7025\n",
      "Epoch [81/100] Loss: 0.5029\n",
      "Epoch [81/100] Loss: 0.6582\n",
      "Epoch [81/100] Loss: 0.8543\n",
      "Epoch [81/100] Loss: 0.6396\n",
      "Epoch [81/100] Loss: 0.7010\n"
     ]
    },
    {
     "name": "stderr",
     "output_type": "stream",
     "text": [
      "218it [01:21,  2.69it/s]\n"
     ]
    },
    {
     "name": "stdout",
     "output_type": "stream",
     "text": [
      "Overall Acc: \t 0.59818229963\n",
      "Mean Acc : \t 0.510577497749\n",
      "FreqW Acc : \t 0.430268055633\n",
      "Mean IoU : \t 0.362780564303\n",
      "Epoch [82/100] Loss: 0.7418\n",
      "Epoch [82/100] Loss: 0.7123\n",
      "Epoch [82/100] Loss: 0.7007\n",
      "Epoch [82/100] Loss: 0.6702\n",
      "Epoch [82/100] Loss: 0.5963\n",
      "Epoch [82/100] Loss: 0.8501\n",
      "Epoch [82/100] Loss: 0.5551\n",
      "Epoch [82/100] Loss: 0.6799\n",
      "Epoch [82/100] Loss: 0.9300\n",
      "Epoch [82/100] Loss: 0.6448\n",
      "Epoch [82/100] Loss: 0.6773\n",
      "Epoch [82/100] Loss: 0.7191\n",
      "Epoch [82/100] Loss: 0.8773\n"
     ]
    },
    {
     "name": "stderr",
     "output_type": "stream",
     "text": [
      "218it [01:20,  2.69it/s]"
     ]
    },
    {
     "name": "stdout",
     "output_type": "stream",
     "text": [
      "Overall Acc: \t 0.600005783719\n",
      "Mean Acc : \t 0.507328005097\n",
      "FreqW Acc : \t 0.429802736673\n",
      "Mean IoU : \t 0.362668982396\n"
     ]
    },
    {
     "name": "stderr",
     "output_type": "stream",
     "text": [
      "\n"
     ]
    },
    {
     "name": "stdout",
     "output_type": "stream",
     "text": [
      "Epoch [83/100] Loss: 0.7719\n",
      "Epoch [83/100] Loss: 0.8982\n",
      "Epoch [83/100] Loss: 0.5816\n",
      "Epoch [83/100] Loss: 0.7099\n",
      "Epoch [83/100] Loss: 0.6213\n",
      "Epoch [83/100] Loss: 0.9297\n",
      "Epoch [83/100] Loss: 0.6146\n",
      "Epoch [83/100] Loss: 0.8014\n",
      "Epoch [83/100] Loss: 0.6914\n",
      "Epoch [83/100] Loss: 0.7956\n",
      "Epoch [83/100] Loss: 1.0702\n",
      "Epoch [83/100] Loss: 0.9648\n",
      "Epoch [83/100] Loss: 0.6714\n"
     ]
    },
    {
     "name": "stderr",
     "output_type": "stream",
     "text": [
      "218it [01:21,  2.68it/s]\n"
     ]
    },
    {
     "name": "stdout",
     "output_type": "stream",
     "text": [
      "Overall Acc: \t 0.597492996822\n",
      "Mean Acc : \t 0.512526840784\n",
      "FreqW Acc : \t 0.431310737878\n",
      "Mean IoU : \t 0.363118700742\n",
      "Epoch [84/100] Loss: 0.9919\n",
      "Epoch [84/100] Loss: 0.7296\n",
      "Epoch [84/100] Loss: 0.6586\n",
      "Epoch [84/100] Loss: 0.8624\n",
      "Epoch [84/100] Loss: 0.6877\n",
      "Epoch [84/100] Loss: 0.6716\n",
      "Epoch [84/100] Loss: 0.8332\n",
      "Epoch [84/100] Loss: 0.6878\n",
      "Epoch [84/100] Loss: 0.8950\n",
      "Epoch [84/100] Loss: 0.7432\n",
      "Epoch [84/100] Loss: 0.8386\n",
      "Epoch [84/100] Loss: 0.7084\n",
      "Epoch [84/100] Loss: 0.7516\n"
     ]
    },
    {
     "name": "stderr",
     "output_type": "stream",
     "text": [
      "218it [01:21,  2.66it/s]\n"
     ]
    },
    {
     "name": "stdout",
     "output_type": "stream",
     "text": [
      "Overall Acc: \t 0.59620595514\n",
      "Mean Acc : \t 0.511529584995\n",
      "FreqW Acc : \t 0.429601616213\n",
      "Mean IoU : \t 0.365149243975\n",
      "Epoch [85/100] Loss: 0.6016\n",
      "Epoch [85/100] Loss: 0.8020\n",
      "Epoch [85/100] Loss: 0.8649\n",
      "Epoch [85/100] Loss: 0.8176\n",
      "Epoch [85/100] Loss: 0.4996\n",
      "Epoch [85/100] Loss: 0.5230\n",
      "Epoch [85/100] Loss: 0.8714\n",
      "Epoch [85/100] Loss: 0.5204\n",
      "Epoch [85/100] Loss: 0.7904\n",
      "Epoch [85/100] Loss: 0.8333\n",
      "Epoch [85/100] Loss: 0.8327\n",
      "Epoch [85/100] Loss: 0.6836\n",
      "Epoch [85/100] Loss: 0.6340\n"
     ]
    },
    {
     "name": "stderr",
     "output_type": "stream",
     "text": [
      "218it [01:21,  2.68it/s]\n"
     ]
    },
    {
     "name": "stdout",
     "output_type": "stream",
     "text": [
      "Overall Acc: \t 0.60021845733\n",
      "Mean Acc : \t 0.515355912574\n",
      "FreqW Acc : \t 0.433748220273\n",
      "Mean IoU : \t 0.368162406999\n",
      "Epoch [86/100] Loss: 0.8465\n",
      "Epoch [86/100] Loss: 0.8059\n",
      "Epoch [86/100] Loss: 0.5867\n",
      "Epoch [86/100] Loss: 0.6973\n",
      "Epoch [86/100] Loss: 0.7949\n",
      "Epoch [86/100] Loss: 0.8426\n",
      "Epoch [86/100] Loss: 0.4863\n",
      "Epoch [86/100] Loss: 0.7640\n",
      "Epoch [86/100] Loss: 0.5827\n",
      "Epoch [86/100] Loss: 0.8112\n",
      "Epoch [86/100] Loss: 0.9805\n",
      "Epoch [86/100] Loss: 0.9086\n",
      "Epoch [86/100] Loss: 0.7987\n"
     ]
    },
    {
     "name": "stderr",
     "output_type": "stream",
     "text": [
      "218it [01:20,  2.70it/s]"
     ]
    },
    {
     "name": "stdout",
     "output_type": "stream",
     "text": [
      "Overall Acc: \t 0.597907065295\n",
      "Mean Acc : \t 0.512637143907\n",
      "FreqW Acc : \t 0.428840233213\n",
      "Mean IoU : \t 0.364889675769\n"
     ]
    },
    {
     "name": "stderr",
     "output_type": "stream",
     "text": [
      "\n"
     ]
    },
    {
     "name": "stdout",
     "output_type": "stream",
     "text": [
      "Epoch [87/100] Loss: 0.6349\n",
      "Epoch [87/100] Loss: 0.6473\n",
      "Epoch [87/100] Loss: 0.9155\n",
      "Epoch [87/100] Loss: 0.6938\n",
      "Epoch [87/100] Loss: 0.9296\n",
      "Epoch [87/100] Loss: 0.7021\n",
      "Epoch [87/100] Loss: 0.6505\n",
      "Epoch [87/100] Loss: 0.5983\n",
      "Epoch [87/100] Loss: 0.5621\n",
      "Epoch [87/100] Loss: 0.6948\n",
      "Epoch [87/100] Loss: 0.7259\n",
      "Epoch [87/100] Loss: 0.9048\n",
      "Epoch [87/100] Loss: 0.6597\n"
     ]
    },
    {
     "name": "stderr",
     "output_type": "stream",
     "text": [
      "218it [01:20,  2.70it/s]"
     ]
    },
    {
     "name": "stdout",
     "output_type": "stream",
     "text": [
      "Overall Acc: \t 0.597612419167\n",
      "Mean Acc : \t 0.521538753411\n",
      "FreqW Acc : \t 0.433553928253\n",
      "Mean IoU : \t 0.366857052973\n"
     ]
    },
    {
     "name": "stderr",
     "output_type": "stream",
     "text": [
      "\n"
     ]
    },
    {
     "name": "stdout",
     "output_type": "stream",
     "text": [
      "Epoch [88/100] Loss: 0.6720\n",
      "Epoch [88/100] Loss: 0.9603\n",
      "Epoch [88/100] Loss: 0.7277\n",
      "Epoch [88/100] Loss: 0.6074\n",
      "Epoch [88/100] Loss: 0.6579\n",
      "Epoch [88/100] Loss: 0.7425\n",
      "Epoch [88/100] Loss: 0.6214\n",
      "Epoch [88/100] Loss: 0.6149\n",
      "Epoch [88/100] Loss: 0.6168\n",
      "Epoch [88/100] Loss: 0.7632\n",
      "Epoch [88/100] Loss: 0.6449\n",
      "Epoch [88/100] Loss: 0.5701\n",
      "Epoch [88/100] Loss: 0.6098\n"
     ]
    },
    {
     "name": "stderr",
     "output_type": "stream",
     "text": [
      "218it [01:20,  2.72it/s]"
     ]
    },
    {
     "name": "stdout",
     "output_type": "stream",
     "text": [
      "Overall Acc: \t 0.598228325489\n",
      "Mean Acc : \t 0.51619139422\n",
      "FreqW Acc : \t 0.433795126907\n",
      "Mean IoU : \t 0.367466934533\n"
     ]
    },
    {
     "name": "stderr",
     "output_type": "stream",
     "text": [
      "\n"
     ]
    },
    {
     "name": "stdout",
     "output_type": "stream",
     "text": [
      "Epoch [89/100] Loss: 0.7234\n",
      "Epoch [89/100] Loss: 0.8328\n",
      "Epoch [89/100] Loss: 0.7675\n",
      "Epoch [89/100] Loss: 0.8227\n",
      "Epoch [89/100] Loss: 0.6567\n",
      "Epoch [89/100] Loss: 0.6656\n",
      "Epoch [89/100] Loss: 0.7039\n",
      "Epoch [89/100] Loss: 0.7383\n",
      "Epoch [89/100] Loss: 0.6677\n",
      "Epoch [89/100] Loss: 0.7954\n",
      "Epoch [89/100] Loss: 0.8864\n",
      "Epoch [89/100] Loss: 0.7697\n",
      "Epoch [89/100] Loss: 0.8044\n"
     ]
    },
    {
     "name": "stderr",
     "output_type": "stream",
     "text": [
      "218it [01:20,  2.70it/s]"
     ]
    },
    {
     "name": "stdout",
     "output_type": "stream",
     "text": [
      "Overall Acc: \t 0.599067333039\n",
      "Mean Acc : \t 0.509562019921\n",
      "FreqW Acc : \t 0.432700864105\n",
      "Mean IoU : \t 0.364724607708\n"
     ]
    },
    {
     "name": "stderr",
     "output_type": "stream",
     "text": [
      "\n"
     ]
    },
    {
     "name": "stdout",
     "output_type": "stream",
     "text": [
      "Epoch [90/100] Loss: 0.7184\n",
      "Epoch [90/100] Loss: 0.7167\n",
      "Epoch [90/100] Loss: 0.8161\n",
      "Epoch [90/100] Loss: 0.6585\n",
      "Epoch [90/100] Loss: 0.6688\n",
      "Epoch [90/100] Loss: 0.6699\n",
      "Epoch [90/100] Loss: 0.6795\n",
      "Epoch [90/100] Loss: 0.6041\n",
      "Epoch [90/100] Loss: 0.7695\n",
      "Epoch [90/100] Loss: 0.7857\n",
      "Epoch [90/100] Loss: 0.7356\n",
      "Epoch [90/100] Loss: 0.6945\n",
      "Epoch [90/100] Loss: 0.7431\n"
     ]
    },
    {
     "name": "stderr",
     "output_type": "stream",
     "text": [
      "218it [01:20,  2.70it/s]"
     ]
    },
    {
     "name": "stdout",
     "output_type": "stream",
     "text": [
      "Overall Acc: \t 0.600925633919\n",
      "Mean Acc : \t 0.505826547393\n",
      "FreqW Acc : \t 0.432171412319\n",
      "Mean IoU : \t 0.364768081611\n"
     ]
    },
    {
     "name": "stderr",
     "output_type": "stream",
     "text": [
      "\n"
     ]
    },
    {
     "name": "stdout",
     "output_type": "stream",
     "text": [
      "Epoch [91/100] Loss: 0.6933\n",
      "Epoch [91/100] Loss: 0.7380\n",
      "Epoch [91/100] Loss: 0.4636\n",
      "Epoch [91/100] Loss: 0.5306\n",
      "Epoch [91/100] Loss: 0.7808\n",
      "Epoch [91/100] Loss: 0.6626\n",
      "Epoch [91/100] Loss: 0.6700\n",
      "Epoch [91/100] Loss: 0.6307\n",
      "Epoch [91/100] Loss: 0.6719\n",
      "Epoch [91/100] Loss: 0.7800\n",
      "Epoch [91/100] Loss: 0.7034\n",
      "Epoch [91/100] Loss: 0.7573\n",
      "Epoch [91/100] Loss: 0.8155\n"
     ]
    },
    {
     "name": "stderr",
     "output_type": "stream",
     "text": [
      "218it [01:20,  2.69it/s]"
     ]
    },
    {
     "name": "stdout",
     "output_type": "stream",
     "text": [
      "Overall Acc: \t 0.599681830761\n",
      "Mean Acc : \t 0.513790659965\n",
      "FreqW Acc : \t 0.434101177747\n",
      "Mean IoU : \t 0.367534988975\n"
     ]
    },
    {
     "name": "stderr",
     "output_type": "stream",
     "text": [
      "\n"
     ]
    },
    {
     "name": "stdout",
     "output_type": "stream",
     "text": [
      "Epoch [92/100] Loss: 0.7473\n",
      "Epoch [92/100] Loss: 0.8713\n",
      "Epoch [92/100] Loss: 0.5844\n",
      "Epoch [92/100] Loss: 0.8021\n",
      "Epoch [92/100] Loss: 0.5938\n",
      "Epoch [92/100] Loss: 0.7917\n",
      "Epoch [92/100] Loss: 0.5128\n",
      "Epoch [92/100] Loss: 0.6242\n",
      "Epoch [92/100] Loss: 0.6392\n",
      "Epoch [92/100] Loss: 0.6059\n",
      "Epoch [92/100] Loss: 0.8631\n",
      "Epoch [92/100] Loss: 0.4853\n",
      "Epoch [92/100] Loss: 0.7077\n"
     ]
    },
    {
     "name": "stderr",
     "output_type": "stream",
     "text": [
      "218it [01:20,  2.71it/s]"
     ]
    },
    {
     "name": "stdout",
     "output_type": "stream",
     "text": [
      "Overall Acc: \t 0.599209750892\n",
      "Mean Acc : \t 0.521421048673\n",
      "FreqW Acc : \t 0.433348562941\n",
      "Mean IoU : \t 0.3678086761\n"
     ]
    },
    {
     "name": "stderr",
     "output_type": "stream",
     "text": [
      "\n"
     ]
    },
    {
     "name": "stdout",
     "output_type": "stream",
     "text": [
      "Epoch [93/100] Loss: 0.7872\n",
      "Epoch [93/100] Loss: 0.6295\n",
      "Epoch [93/100] Loss: 0.7703\n",
      "Epoch [93/100] Loss: 0.6131\n",
      "Epoch [93/100] Loss: 0.7233\n",
      "Epoch [93/100] Loss: 0.5766\n",
      "Epoch [93/100] Loss: 0.7883\n",
      "Epoch [93/100] Loss: 0.5900\n",
      "Epoch [93/100] Loss: 0.7086\n",
      "Epoch [93/100] Loss: 0.5456\n",
      "Epoch [93/100] Loss: 0.6281\n",
      "Epoch [93/100] Loss: 0.7668\n",
      "Epoch [93/100] Loss: 0.5262\n"
     ]
    },
    {
     "name": "stderr",
     "output_type": "stream",
     "text": [
      "218it [01:20,  2.71it/s]"
     ]
    },
    {
     "name": "stdout",
     "output_type": "stream",
     "text": [
      "Overall Acc: \t 0.599589211622\n",
      "Mean Acc : \t 0.51319955042\n",
      "FreqW Acc : \t 0.433544811803\n",
      "Mean IoU : \t 0.367585281184\n"
     ]
    },
    {
     "name": "stderr",
     "output_type": "stream",
     "text": [
      "\n"
     ]
    },
    {
     "name": "stdout",
     "output_type": "stream",
     "text": [
      "Epoch [94/100] Loss: 0.9058\n",
      "Epoch [94/100] Loss: 0.6239\n",
      "Epoch [94/100] Loss: 0.7016\n",
      "Epoch [94/100] Loss: 0.6584\n",
      "Epoch [94/100] Loss: 0.7424\n",
      "Epoch [94/100] Loss: 0.7259\n",
      "Epoch [94/100] Loss: 0.4578\n",
      "Epoch [94/100] Loss: 0.7754\n",
      "Epoch [94/100] Loss: 0.5226\n",
      "Epoch [94/100] Loss: 0.8326\n",
      "Epoch [94/100] Loss: 0.9054\n",
      "Epoch [94/100] Loss: 0.6268\n",
      "Epoch [94/100] Loss: 0.7653\n"
     ]
    },
    {
     "name": "stderr",
     "output_type": "stream",
     "text": [
      "218it [01:19,  2.74it/s]"
     ]
    },
    {
     "name": "stdout",
     "output_type": "stream",
     "text": [
      "Overall Acc: \t 0.598142928533\n",
      "Mean Acc : \t 0.505858800803\n",
      "FreqW Acc : \t 0.430202778605\n",
      "Mean IoU : \t 0.363115902938\n"
     ]
    },
    {
     "name": "stderr",
     "output_type": "stream",
     "text": [
      "\n"
     ]
    },
    {
     "name": "stdout",
     "output_type": "stream",
     "text": [
      "Epoch [95/100] Loss: 0.6753\n",
      "Epoch [95/100] Loss: 0.7169\n",
      "Epoch [95/100] Loss: 0.6124\n",
      "Epoch [95/100] Loss: 0.5475\n",
      "Epoch [95/100] Loss: 0.6569\n",
      "Epoch [95/100] Loss: 0.6074\n",
      "Epoch [95/100] Loss: 0.6027\n",
      "Epoch [95/100] Loss: 0.5293\n",
      "Epoch [95/100] Loss: 0.7452\n",
      "Epoch [95/100] Loss: 0.8343\n",
      "Epoch [95/100] Loss: 0.7681\n",
      "Epoch [95/100] Loss: 0.6325\n",
      "Epoch [95/100] Loss: 0.5204\n"
     ]
    },
    {
     "name": "stderr",
     "output_type": "stream",
     "text": [
      "218it [01:20,  2.72it/s]\n"
     ]
    },
    {
     "name": "stdout",
     "output_type": "stream",
     "text": [
      "Overall Acc: \t 0.600353961598\n",
      "Mean Acc : \t 0.510227957765\n",
      "FreqW Acc : \t 0.434491435464\n",
      "Mean IoU : \t 0.368743749108\n",
      "Epoch [96/100] Loss: 0.7534\n",
      "Epoch [96/100] Loss: 0.8459\n",
      "Epoch [96/100] Loss: 0.9706\n",
      "Epoch [96/100] Loss: 0.7888\n",
      "Epoch [96/100] Loss: 0.6321\n",
      "Epoch [96/100] Loss: 0.5340\n",
      "Epoch [96/100] Loss: 0.8059\n",
      "Epoch [96/100] Loss: 0.6611\n",
      "Epoch [96/100] Loss: 0.8754\n",
      "Epoch [96/100] Loss: 0.8310\n",
      "Epoch [96/100] Loss: 0.9084\n",
      "Epoch [96/100] Loss: 0.4893\n",
      "Epoch [96/100] Loss: 0.5515\n"
     ]
    },
    {
     "name": "stderr",
     "output_type": "stream",
     "text": [
      "218it [01:19,  2.73it/s]\n"
     ]
    },
    {
     "name": "stdout",
     "output_type": "stream",
     "text": [
      "Overall Acc: \t 0.600038962952\n",
      "Mean Acc : \t 0.516928139508\n",
      "FreqW Acc : \t 0.433263412158\n",
      "Mean IoU : \t 0.36890738538\n",
      "Epoch [97/100] Loss: 0.6500\n",
      "Epoch [97/100] Loss: 0.7034\n",
      "Epoch [97/100] Loss: 0.8083\n",
      "Epoch [97/100] Loss: 0.5649\n",
      "Epoch [97/100] Loss: 0.6412\n",
      "Epoch [97/100] Loss: 0.7377\n",
      "Epoch [97/100] Loss: 0.7217\n",
      "Epoch [97/100] Loss: 0.8854\n",
      "Epoch [97/100] Loss: 0.7113\n",
      "Epoch [97/100] Loss: 0.7591\n",
      "Epoch [97/100] Loss: 0.7153\n",
      "Epoch [97/100] Loss: 0.6050\n",
      "Epoch [97/100] Loss: 0.5077\n"
     ]
    },
    {
     "name": "stderr",
     "output_type": "stream",
     "text": [
      "218it [01:19,  2.75it/s]\n"
     ]
    },
    {
     "name": "stdout",
     "output_type": "stream",
     "text": [
      "Overall Acc: \t 0.600936126242\n",
      "Mean Acc : \t 0.502872502621\n",
      "FreqW Acc : \t 0.432608267714\n",
      "Mean IoU : \t 0.364601822539\n",
      "Epoch [98/100] Loss: 0.6973\n",
      "Epoch [98/100] Loss: 0.6380\n",
      "Epoch [98/100] Loss: 0.4875\n",
      "Epoch [98/100] Loss: 0.5694\n",
      "Epoch [98/100] Loss: 0.7884\n",
      "Epoch [98/100] Loss: 0.4979\n",
      "Epoch [98/100] Loss: 0.7645\n",
      "Epoch [98/100] Loss: 0.5482\n",
      "Epoch [98/100] Loss: 0.5384\n",
      "Epoch [98/100] Loss: 0.7704\n",
      "Epoch [98/100] Loss: 0.6675\n",
      "Epoch [98/100] Loss: 0.5908\n",
      "Epoch [98/100] Loss: 0.7436\n"
     ]
    },
    {
     "name": "stderr",
     "output_type": "stream",
     "text": [
      "218it [01:19,  2.74it/s]"
     ]
    },
    {
     "name": "stdout",
     "output_type": "stream",
     "text": [
      "Overall Acc: \t 0.600362019981\n",
      "Mean Acc : \t 0.517228601623\n",
      "FreqW Acc : \t 0.433235311603\n",
      "Mean IoU : \t 0.368497704575\n"
     ]
    },
    {
     "name": "stderr",
     "output_type": "stream",
     "text": [
      "\n"
     ]
    },
    {
     "name": "stdout",
     "output_type": "stream",
     "text": [
      "Epoch [99/100] Loss: 0.7058\n",
      "Epoch [99/100] Loss: 0.9780\n",
      "Epoch [99/100] Loss: 0.7261\n",
      "Epoch [99/100] Loss: 0.7207\n",
      "Epoch [99/100] Loss: 0.7806\n",
      "Epoch [99/100] Loss: 0.5626\n",
      "Epoch [99/100] Loss: 0.6376\n",
      "Epoch [99/100] Loss: 0.7682\n",
      "Epoch [99/100] Loss: 0.5846\n",
      "Epoch [99/100] Loss: 0.4472\n",
      "Epoch [99/100] Loss: 0.4848\n",
      "Epoch [99/100] Loss: 0.6517\n",
      "Epoch [99/100] Loss: 0.7669\n"
     ]
    },
    {
     "name": "stderr",
     "output_type": "stream",
     "text": [
      "218it [01:20,  2.72it/s]"
     ]
    },
    {
     "name": "stdout",
     "output_type": "stream",
     "text": [
      "Overall Acc: \t 0.599847771725\n",
      "Mean Acc : \t 0.517307754364\n",
      "FreqW Acc : \t 0.434426979508\n",
      "Mean IoU : \t 0.367134936536\n"
     ]
    },
    {
     "name": "stderr",
     "output_type": "stream",
     "text": [
      "\n"
     ]
    },
    {
     "name": "stdout",
     "output_type": "stream",
     "text": [
      "Epoch [100/100] Loss: 0.7526\n",
      "Epoch [100/100] Loss: 0.6284\n",
      "Epoch [100/100] Loss: 0.7253\n",
      "Epoch [100/100] Loss: 0.9254\n",
      "Epoch [100/100] Loss: 0.8458\n",
      "Epoch [100/100] Loss: 0.6649\n",
      "Epoch [100/100] Loss: 0.7817\n",
      "Epoch [100/100] Loss: 0.5830\n",
      "Epoch [100/100] Loss: 0.7217\n",
      "Epoch [100/100] Loss: 0.7451\n",
      "Epoch [100/100] Loss: 0.7379\n",
      "Epoch [100/100] Loss: 0.5664\n",
      "Epoch [100/100] Loss: 0.8588\n"
     ]
    },
    {
     "name": "stderr",
     "output_type": "stream",
     "text": [
      "218it [01:21,  2.69it/s]\n"
     ]
    },
    {
     "name": "stdout",
     "output_type": "stream",
     "text": [
      "Overall Acc: \t 0.600411027292\n",
      "Mean Acc : \t 0.521929005893\n",
      "FreqW Acc : \t 0.431652652283\n",
      "Mean IoU : \t 0.369132175642\n"
     ]
    }
   ],
   "source": [
    "best_iou = -100.0 \n",
    "for epoch in range(args.n_epoch):\n",
    "    model.train()\n",
    "    for i, (color_imgs, depth_imgs, label_imgs) in enumerate(trainloader):\n",
    "        images = Variable(color_imgs.cuda())\n",
    "        depth_images = Variable(depth_imgs.cuda())\n",
    "        labels = Variable(label_imgs.cuda())\n",
    "\n",
    "        optimizer.zero_grad()\n",
    "        outputs = model(images,depth_images)\n",
    "\n",
    "        loss = loss_fn(input=outputs, target=labels)\n",
    "\n",
    "        loss.backward()\n",
    "        optimizer.step()\n",
    "\n",
    "        if args.visdom:\n",
    "            vis.line(\n",
    "                X=torch.ones((1, 1)).cpu() * i,\n",
    "                Y=torch.Tensor([loss.data[0]]).unsqueeze(0).cpu(),\n",
    "                win=loss_window,\n",
    "                update='append')\n",
    "\n",
    "        if (i+1) % 20 == 0:\n",
    "            print(\"Epoch [%d/%d] Loss: %.4f\" % (epoch+1, args.n_epoch, loss.data[0]))\n",
    "\n",
    "    model.eval()\n",
    "    for i_val, (color_images_val, depth_images_val, label_images_val) in tqdm(enumerate(valloader)):\n",
    "        color_images_val = Variable(color_images_val.cuda(), volatile=True)\n",
    "        depth_images_val = Variable(depth_images_val.cuda(), volatile=True)\n",
    "        label_images_val = Variable(label_images_val.cuda(), volatile=True)\n",
    "\n",
    "        outputs = model(color_images_val, depth_images_val)\n",
    "        pred = outputs.data.max(1)[1].cpu().numpy()\n",
    "        gt = label_images_val.data.cpu().numpy()\n",
    "        running_metrics.update(gt, pred)\n",
    "\n",
    "    score, class_iou = running_metrics.get_scores()\n",
    "    for k, v in score.items():\n",
    "        print(k, v)\n",
    "    running_metrics.reset()\n",
    "\n",
    "    if score['Mean IoU : \\t'] >= best_iou:\n",
    "        best_iou = score['Mean IoU : \\t']\n",
    "        state = {'epoch': epoch+1,\n",
    "                 'model_state': model.state_dict(),\n",
    "                 'optimizer_state' : optimizer.state_dict(),}\n",
    "        torch.save(state, \"{}_{}_best_model.pkl\".format(args.arch, 'NYUDv2'))"
   ]
  },
  {
   "cell_type": "markdown",
   "metadata": {},
   "source": [
    "# Training.. NYUDv2 fcn8s_rgbd_renet"
   ]
  },
  {
   "cell_type": "code",
   "execution_count": null,
   "metadata": {},
   "outputs": [],
   "source": []
  }
 ],
 "metadata": {
  "kernelspec": {
   "display_name": "Python [conda env:pytorch]",
   "language": "python",
   "name": "conda-env-pytorch-py"
  },
  "language_info": {
   "codemirror_mode": {
    "name": "ipython",
    "version": 3
   },
   "file_extension": ".py",
   "mimetype": "text/x-python",
   "name": "python",
   "nbconvert_exporter": "python",
   "pygments_lexer": "ipython3",
   "version": "3.6.3"
  }
 },
 "nbformat": 4,
 "nbformat_minor": 2
}
