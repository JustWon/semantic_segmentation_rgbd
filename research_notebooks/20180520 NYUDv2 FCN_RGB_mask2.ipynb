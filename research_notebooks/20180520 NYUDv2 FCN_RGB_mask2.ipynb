{
 "cells": [
  {
   "cell_type": "markdown",
   "metadata": {},
   "source": [
    "## 2018년 05월 20일 20시 47분 56초에 추가 ##\n",
    "- Training FCN_RGB_mask2 on NYUDv2  \n",
    "FCN_RGB_mask 구조 바꿔서  \n",
    "renet추가한거랑 동일한 위치에 masked conv를 넣어서 학습"
   ]
  },
  {
   "cell_type": "code",
   "execution_count": 1,
   "metadata": {},
   "outputs": [
    {
     "name": "stderr",
     "output_type": "stream",
     "text": [
      "/home/dongwonshin/.conda/envs/pytorch/lib/python3.6/site-packages/torch/nn/functional.py:1462: UserWarning: nn.functional.upsample_bilinear is deprecated. Use nn.functional.upsample instead.\n",
      "  warnings.warn(\"nn.functional.upsample_bilinear is deprecated. Use nn.functional.upsample instead.\")\n"
     ]
    },
    {
     "name": "stdout",
     "output_type": "stream",
     "text": [
      "Epoch [1/50] Loss: 2.3038\n",
      "Epoch [1/50] Loss: 2.0176\n"
     ]
    },
    {
     "name": "stderr",
     "output_type": "stream",
     "text": [
      "218it [00:39,  5.56it/s]\n"
     ]
    },
    {
     "name": "stdout",
     "output_type": "stream",
     "text": [
      "Overall Acc: \t 0.389902587642\n",
      "Mean Acc : \t 0.169654802307\n",
      "FreqW Acc : \t 0.216002086227\n",
      "Mean IoU : \t 0.095085083035\n",
      "Epoch [2/50] Loss: 1.6127\n",
      "Epoch [2/50] Loss: 1.7035\n"
     ]
    },
    {
     "name": "stderr",
     "output_type": "stream",
     "text": [
      "218it [00:39,  5.52it/s]\n"
     ]
    },
    {
     "name": "stdout",
     "output_type": "stream",
     "text": [
      "Overall Acc: \t 0.453826975225\n",
      "Mean Acc : \t 0.234618388452\n",
      "FreqW Acc : \t 0.278084022744\n",
      "Mean IoU : \t 0.146961822071\n",
      "Epoch [3/50] Loss: 1.6967\n",
      "Epoch [3/50] Loss: 1.4365\n"
     ]
    },
    {
     "name": "stderr",
     "output_type": "stream",
     "text": [
      "218it [00:39,  5.56it/s]\n"
     ]
    },
    {
     "name": "stdout",
     "output_type": "stream",
     "text": [
      "Overall Acc: \t 0.483257597477\n",
      "Mean Acc : \t 0.269001539026\n",
      "FreqW Acc : \t 0.302370739273\n",
      "Mean IoU : \t 0.173731760897\n",
      "Epoch [4/50] Loss: 1.4459\n",
      "Epoch [4/50] Loss: 1.2530\n"
     ]
    },
    {
     "name": "stderr",
     "output_type": "stream",
     "text": [
      "218it [00:39,  5.54it/s]\n"
     ]
    },
    {
     "name": "stdout",
     "output_type": "stream",
     "text": [
      "Overall Acc: \t 0.502493370126\n",
      "Mean Acc : \t 0.29839141432\n",
      "FreqW Acc : \t 0.322603454412\n",
      "Mean IoU : \t 0.197642986579\n",
      "Epoch [5/50] Loss: 1.4613\n",
      "Epoch [5/50] Loss: 1.2892\n"
     ]
    },
    {
     "name": "stderr",
     "output_type": "stream",
     "text": [
      "218it [00:39,  5.49it/s]\n"
     ]
    },
    {
     "name": "stdout",
     "output_type": "stream",
     "text": [
      "Overall Acc: \t 0.519891468169\n",
      "Mean Acc : \t 0.32946459036\n",
      "FreqW Acc : \t 0.343151119831\n",
      "Mean IoU : \t 0.222751690112\n",
      "Epoch [6/50] Loss: 1.0929\n",
      "Epoch [6/50] Loss: 1.2744\n"
     ]
    },
    {
     "name": "stderr",
     "output_type": "stream",
     "text": [
      "218it [00:40,  5.44it/s]\n"
     ]
    },
    {
     "name": "stdout",
     "output_type": "stream",
     "text": [
      "Overall Acc: \t 0.530805599357\n",
      "Mean Acc : \t 0.345541215264\n",
      "FreqW Acc : \t 0.355229793938\n",
      "Mean IoU : \t 0.237452205451\n",
      "Epoch [7/50] Loss: 1.3218\n",
      "Epoch [7/50] Loss: 1.0752\n"
     ]
    },
    {
     "name": "stderr",
     "output_type": "stream",
     "text": [
      "218it [00:41,  5.30it/s]\n"
     ]
    },
    {
     "name": "stdout",
     "output_type": "stream",
     "text": [
      "Overall Acc: \t 0.539466106014\n",
      "Mean Acc : \t 0.361890429995\n",
      "FreqW Acc : \t 0.366069030285\n",
      "Mean IoU : \t 0.252480067084\n",
      "Epoch [8/50] Loss: 1.0354\n",
      "Epoch [8/50] Loss: 1.2223\n"
     ]
    },
    {
     "name": "stderr",
     "output_type": "stream",
     "text": [
      "218it [00:39,  5.48it/s]\n"
     ]
    },
    {
     "name": "stdout",
     "output_type": "stream",
     "text": [
      "Overall Acc: \t 0.547197833047\n",
      "Mean Acc : \t 0.378387232661\n",
      "FreqW Acc : \t 0.372722182452\n",
      "Mean IoU : \t 0.263198266586\n",
      "Epoch [9/50] Loss: 1.4112\n",
      "Epoch [9/50] Loss: 1.3963\n"
     ]
    },
    {
     "name": "stderr",
     "output_type": "stream",
     "text": [
      "218it [00:39,  5.55it/s]\n"
     ]
    },
    {
     "name": "stdout",
     "output_type": "stream",
     "text": [
      "Overall Acc: \t 0.551389068075\n",
      "Mean Acc : \t 0.387373065435\n",
      "FreqW Acc : \t 0.37961746556\n",
      "Mean IoU : \t 0.271588374774\n",
      "Epoch [10/50] Loss: 1.1809\n",
      "Epoch [10/50] Loss: 1.5860\n"
     ]
    },
    {
     "name": "stderr",
     "output_type": "stream",
     "text": [
      "218it [00:39,  5.45it/s]\n"
     ]
    },
    {
     "name": "stdout",
     "output_type": "stream",
     "text": [
      "Overall Acc: \t 0.556547537987\n",
      "Mean Acc : \t 0.4018202153\n",
      "FreqW Acc : \t 0.383618194343\n",
      "Mean IoU : \t 0.277353169113\n",
      "Epoch [11/50] Loss: 1.3005\n",
      "Epoch [11/50] Loss: 1.4268\n"
     ]
    },
    {
     "name": "stderr",
     "output_type": "stream",
     "text": [
      "218it [00:40,  5.38it/s]\n"
     ]
    },
    {
     "name": "stdout",
     "output_type": "stream",
     "text": [
      "Overall Acc: \t 0.562837750263\n",
      "Mean Acc : \t 0.412979154869\n",
      "FreqW Acc : \t 0.394152995968\n",
      "Mean IoU : \t 0.289690683788\n",
      "Epoch [12/50] Loss: 1.1710\n",
      "Epoch [12/50] Loss: 1.6613\n"
     ]
    },
    {
     "name": "stderr",
     "output_type": "stream",
     "text": [
      "218it [00:39,  5.57it/s]\n"
     ]
    },
    {
     "name": "stdout",
     "output_type": "stream",
     "text": [
      "Overall Acc: \t 0.565526885831\n",
      "Mean Acc : \t 0.419522719619\n",
      "FreqW Acc : \t 0.394156189859\n",
      "Mean IoU : \t 0.291972982658\n",
      "Epoch [13/50] Loss: 0.9880\n",
      "Epoch [13/50] Loss: 1.3314\n"
     ]
    },
    {
     "name": "stderr",
     "output_type": "stream",
     "text": [
      "218it [00:38,  5.59it/s]\n"
     ]
    },
    {
     "name": "stdout",
     "output_type": "stream",
     "text": [
      "Overall Acc: \t 0.570742914198\n",
      "Mean Acc : \t 0.430907094496\n",
      "FreqW Acc : \t 0.40225183864\n",
      "Mean IoU : \t 0.303898395247\n",
      "Epoch [14/50] Loss: 1.1492\n",
      "Epoch [14/50] Loss: 0.9146\n"
     ]
    },
    {
     "name": "stderr",
     "output_type": "stream",
     "text": [
      "218it [00:38,  5.60it/s]"
     ]
    },
    {
     "name": "stdout",
     "output_type": "stream",
     "text": [
      "Overall Acc: \t 0.570785122404\n",
      "Mean Acc : \t 0.432339733049\n",
      "FreqW Acc : \t 0.399528944265\n",
      "Mean IoU : \t 0.303062405113\n"
     ]
    },
    {
     "name": "stderr",
     "output_type": "stream",
     "text": [
      "\n"
     ]
    },
    {
     "name": "stdout",
     "output_type": "stream",
     "text": [
      "Epoch [15/50] Loss: 1.2068\n",
      "Epoch [15/50] Loss: 1.1709\n"
     ]
    },
    {
     "name": "stderr",
     "output_type": "stream",
     "text": [
      "218it [00:38,  5.61it/s]\n"
     ]
    },
    {
     "name": "stdout",
     "output_type": "stream",
     "text": [
      "Overall Acc: \t 0.5758971832\n",
      "Mean Acc : \t 0.435411341017\n",
      "FreqW Acc : \t 0.405696379787\n",
      "Mean IoU : \t 0.309695808672\n",
      "Epoch [16/50] Loss: 0.8955\n",
      "Epoch [16/50] Loss: 1.5386\n"
     ]
    },
    {
     "name": "stderr",
     "output_type": "stream",
     "text": [
      "218it [00:40,  5.33it/s]"
     ]
    },
    {
     "name": "stdout",
     "output_type": "stream",
     "text": [
      "Overall Acc: \t 0.572358348664\n",
      "Mean Acc : \t 0.428906247561\n",
      "FreqW Acc : \t 0.396768214375\n",
      "Mean IoU : \t 0.303375252571\n"
     ]
    },
    {
     "name": "stderr",
     "output_type": "stream",
     "text": [
      "\n"
     ]
    },
    {
     "name": "stdout",
     "output_type": "stream",
     "text": [
      "Epoch [17/50] Loss: 1.0980\n",
      "Epoch [17/50] Loss: 1.0412\n"
     ]
    },
    {
     "name": "stderr",
     "output_type": "stream",
     "text": [
      "218it [00:40,  5.35it/s]\n"
     ]
    },
    {
     "name": "stdout",
     "output_type": "stream",
     "text": [
      "Overall Acc: \t 0.577408147378\n",
      "Mean Acc : \t 0.448046984137\n",
      "FreqW Acc : \t 0.406386446441\n",
      "Mean IoU : \t 0.315828178767\n",
      "Epoch [18/50] Loss: 0.8180\n",
      "Epoch [18/50] Loss: 0.6869\n"
     ]
    },
    {
     "name": "stderr",
     "output_type": "stream",
     "text": [
      "218it [00:38,  5.65it/s]\n"
     ]
    },
    {
     "name": "stdout",
     "output_type": "stream",
     "text": [
      "Overall Acc: \t 0.581628539915\n",
      "Mean Acc : \t 0.452371734192\n",
      "FreqW Acc : \t 0.413122237182\n",
      "Mean IoU : \t 0.320460336007\n",
      "Epoch [19/50] Loss: 1.1656\n",
      "Epoch [19/50] Loss: 0.7691\n"
     ]
    },
    {
     "name": "stderr",
     "output_type": "stream",
     "text": [
      "218it [00:38,  5.67it/s]\n"
     ]
    },
    {
     "name": "stdout",
     "output_type": "stream",
     "text": [
      "Overall Acc: \t 0.583319590779\n",
      "Mean Acc : \t 0.4602829568\n",
      "FreqW Acc : \t 0.414759299174\n",
      "Mean IoU : \t 0.325357494123\n",
      "Epoch [20/50] Loss: 0.9305\n",
      "Epoch [20/50] Loss: 0.8408\n"
     ]
    },
    {
     "name": "stderr",
     "output_type": "stream",
     "text": [
      "218it [00:38,  5.62it/s]\n"
     ]
    },
    {
     "name": "stdout",
     "output_type": "stream",
     "text": [
      "Overall Acc: \t 0.584156258959\n",
      "Mean Acc : \t 0.460917578735\n",
      "FreqW Acc : \t 0.417103460674\n",
      "Mean IoU : \t 0.32861459734\n",
      "Epoch [21/50] Loss: 0.7447\n",
      "Epoch [21/50] Loss: 0.9039\n"
     ]
    },
    {
     "name": "stderr",
     "output_type": "stream",
     "text": [
      "218it [00:38,  5.67it/s]\n"
     ]
    },
    {
     "name": "stdout",
     "output_type": "stream",
     "text": [
      "Overall Acc: \t 0.587675890752\n",
      "Mean Acc : \t 0.46055131785\n",
      "FreqW Acc : \t 0.417261614429\n",
      "Mean IoU : \t 0.331178432385\n",
      "Epoch [22/50] Loss: 1.1555\n",
      "Epoch [22/50] Loss: 0.7636\n"
     ]
    },
    {
     "name": "stderr",
     "output_type": "stream",
     "text": [
      "218it [00:38,  5.61it/s]\n"
     ]
    },
    {
     "name": "stdout",
     "output_type": "stream",
     "text": [
      "Overall Acc: \t 0.588482893731\n",
      "Mean Acc : \t 0.460038766009\n",
      "FreqW Acc : \t 0.419406824167\n",
      "Mean IoU : \t 0.332202683673\n",
      "Epoch [23/50] Loss: 0.7692\n",
      "Epoch [23/50] Loss: 0.9841\n"
     ]
    },
    {
     "name": "stderr",
     "output_type": "stream",
     "text": [
      "218it [00:38,  5.61it/s]\n"
     ]
    },
    {
     "name": "stdout",
     "output_type": "stream",
     "text": [
      "Overall Acc: \t 0.587390348258\n",
      "Mean Acc : \t 0.466449255466\n",
      "FreqW Acc : \t 0.418758883217\n",
      "Mean IoU : \t 0.333572517961\n",
      "Epoch [24/50] Loss: 0.6814\n",
      "Epoch [24/50] Loss: 0.9127\n"
     ]
    },
    {
     "name": "stderr",
     "output_type": "stream",
     "text": [
      "218it [00:38,  5.67it/s]\n"
     ]
    },
    {
     "name": "stdout",
     "output_type": "stream",
     "text": [
      "Overall Acc: \t 0.591328149887\n",
      "Mean Acc : \t 0.480176823301\n",
      "FreqW Acc : \t 0.425166625598\n",
      "Mean IoU : \t 0.341218573299\n",
      "Epoch [25/50] Loss: 0.9035\n",
      "Epoch [25/50] Loss: 1.0016\n"
     ]
    },
    {
     "name": "stderr",
     "output_type": "stream",
     "text": [
      "218it [00:38,  5.63it/s]"
     ]
    },
    {
     "name": "stdout",
     "output_type": "stream",
     "text": [
      "Overall Acc: \t 0.592204990523\n",
      "Mean Acc : \t 0.467832903661\n",
      "FreqW Acc : \t 0.424316384608\n",
      "Mean IoU : \t 0.340773288136\n"
     ]
    },
    {
     "name": "stderr",
     "output_type": "stream",
     "text": [
      "\n"
     ]
    },
    {
     "name": "stdout",
     "output_type": "stream",
     "text": [
      "Epoch [26/50] Loss: 1.0801\n",
      "Epoch [26/50] Loss: 0.8664\n"
     ]
    },
    {
     "name": "stderr",
     "output_type": "stream",
     "text": [
      "218it [00:38,  5.65it/s]"
     ]
    },
    {
     "name": "stdout",
     "output_type": "stream",
     "text": [
      "Overall Acc: \t 0.594303206231\n",
      "Mean Acc : \t 0.473043312762\n",
      "FreqW Acc : \t 0.424534755904\n",
      "Mean IoU : \t 0.341016247038\n"
     ]
    },
    {
     "name": "stderr",
     "output_type": "stream",
     "text": [
      "\n"
     ]
    },
    {
     "name": "stdout",
     "output_type": "stream",
     "text": [
      "Epoch [27/50] Loss: 0.8975\n",
      "Epoch [27/50] Loss: 0.9723\n"
     ]
    },
    {
     "name": "stderr",
     "output_type": "stream",
     "text": [
      "218it [00:38,  5.65it/s]"
     ]
    },
    {
     "name": "stdout",
     "output_type": "stream",
     "text": [
      "Overall Acc: \t 0.593736919438\n",
      "Mean Acc : \t 0.478295356573\n",
      "FreqW Acc : \t 0.423138458738\n",
      "Mean IoU : \t 0.340523030294\n"
     ]
    },
    {
     "name": "stderr",
     "output_type": "stream",
     "text": [
      "\n"
     ]
    },
    {
     "name": "stdout",
     "output_type": "stream",
     "text": [
      "Epoch [28/50] Loss: 1.0473\n",
      "Epoch [28/50] Loss: 1.0382\n"
     ]
    },
    {
     "name": "stderr",
     "output_type": "stream",
     "text": [
      "218it [00:38,  5.62it/s]\n"
     ]
    },
    {
     "name": "stdout",
     "output_type": "stream",
     "text": [
      "Overall Acc: \t 0.595883893588\n",
      "Mean Acc : \t 0.496495804009\n",
      "FreqW Acc : \t 0.430593050583\n",
      "Mean IoU : \t 0.351491919277\n",
      "Epoch [29/50] Loss: 0.7007\n",
      "Epoch [29/50] Loss: 0.8417\n"
     ]
    },
    {
     "name": "stderr",
     "output_type": "stream",
     "text": [
      "218it [00:38,  5.68it/s]"
     ]
    },
    {
     "name": "stdout",
     "output_type": "stream",
     "text": [
      "Overall Acc: \t 0.595611894551\n",
      "Mean Acc : \t 0.492603644585\n",
      "FreqW Acc : \t 0.428614395165\n",
      "Mean IoU : \t 0.349810071789\n"
     ]
    },
    {
     "name": "stderr",
     "output_type": "stream",
     "text": [
      "\n"
     ]
    },
    {
     "name": "stdout",
     "output_type": "stream",
     "text": [
      "Epoch [30/50] Loss: 0.8804\n",
      "Epoch [30/50] Loss: 0.6167\n"
     ]
    },
    {
     "name": "stderr",
     "output_type": "stream",
     "text": [
      "218it [00:39,  5.57it/s]\n"
     ]
    },
    {
     "name": "stdout",
     "output_type": "stream",
     "text": [
      "Overall Acc: \t 0.594387309068\n",
      "Mean Acc : \t 0.489219883063\n",
      "FreqW Acc : \t 0.431212893211\n",
      "Mean IoU : \t 0.352370505177\n",
      "Epoch [31/50] Loss: 1.0574\n",
      "Epoch [31/50] Loss: 0.9641\n"
     ]
    },
    {
     "name": "stderr",
     "output_type": "stream",
     "text": [
      "218it [00:38,  5.64it/s]"
     ]
    },
    {
     "name": "stdout",
     "output_type": "stream",
     "text": [
      "Overall Acc: \t 0.596897149353\n",
      "Mean Acc : \t 0.490442768585\n",
      "FreqW Acc : \t 0.431221826395\n",
      "Mean IoU : \t 0.351688748226\n"
     ]
    },
    {
     "name": "stderr",
     "output_type": "stream",
     "text": [
      "\n"
     ]
    },
    {
     "name": "stdout",
     "output_type": "stream",
     "text": [
      "Epoch [32/50] Loss: 0.9016\n",
      "Epoch [32/50] Loss: 0.7501\n"
     ]
    },
    {
     "name": "stderr",
     "output_type": "stream",
     "text": [
      "218it [00:38,  5.64it/s]\n"
     ]
    },
    {
     "name": "stdout",
     "output_type": "stream",
     "text": [
      "Overall Acc: \t 0.596494314833\n",
      "Mean Acc : \t 0.49239450357\n",
      "FreqW Acc : \t 0.430015870263\n",
      "Mean IoU : \t 0.352953024928\n",
      "Epoch [33/50] Loss: 0.8134\n",
      "Epoch [33/50] Loss: 0.8328\n"
     ]
    },
    {
     "name": "stderr",
     "output_type": "stream",
     "text": [
      "218it [00:38,  5.64it/s]\n"
     ]
    },
    {
     "name": "stdout",
     "output_type": "stream",
     "text": [
      "Overall Acc: \t 0.599272645101\n",
      "Mean Acc : \t 0.492614168143\n",
      "FreqW Acc : \t 0.434252253285\n",
      "Mean IoU : \t 0.356341446417\n",
      "Epoch [34/50] Loss: 0.8298\n",
      "Epoch [34/50] Loss: 1.0161\n"
     ]
    },
    {
     "name": "stderr",
     "output_type": "stream",
     "text": [
      "218it [00:38,  5.65it/s]"
     ]
    },
    {
     "name": "stdout",
     "output_type": "stream",
     "text": [
      "Overall Acc: \t 0.598489110482\n",
      "Mean Acc : \t 0.491151181742\n",
      "FreqW Acc : \t 0.432503109028\n",
      "Mean IoU : \t 0.353819367725\n"
     ]
    },
    {
     "name": "stderr",
     "output_type": "stream",
     "text": [
      "\n"
     ]
    },
    {
     "name": "stdout",
     "output_type": "stream",
     "text": [
      "Epoch [35/50] Loss: 0.9239\n",
      "Epoch [35/50] Loss: 1.0619\n"
     ]
    },
    {
     "name": "stderr",
     "output_type": "stream",
     "text": [
      "218it [00:38,  5.65it/s]"
     ]
    },
    {
     "name": "stdout",
     "output_type": "stream",
     "text": [
      "Overall Acc: \t 0.598386367347\n",
      "Mean Acc : \t 0.495953856983\n",
      "FreqW Acc : \t 0.433387815345\n",
      "Mean IoU : \t 0.355073152689\n"
     ]
    },
    {
     "name": "stderr",
     "output_type": "stream",
     "text": [
      "\n"
     ]
    },
    {
     "name": "stdout",
     "output_type": "stream",
     "text": [
      "Epoch [36/50] Loss: 0.9520\n",
      "Epoch [36/50] Loss: 0.8729\n"
     ]
    },
    {
     "name": "stderr",
     "output_type": "stream",
     "text": [
      "218it [00:38,  5.67it/s]"
     ]
    },
    {
     "name": "stdout",
     "output_type": "stream",
     "text": [
      "Overall Acc: \t 0.599265855951\n",
      "Mean Acc : \t 0.485806650298\n",
      "FreqW Acc : \t 0.432664517093\n",
      "Mean IoU : \t 0.353140696389\n"
     ]
    },
    {
     "name": "stderr",
     "output_type": "stream",
     "text": [
      "\n"
     ]
    },
    {
     "name": "stdout",
     "output_type": "stream",
     "text": [
      "Epoch [37/50] Loss: 0.7323\n",
      "Epoch [37/50] Loss: 1.1481\n"
     ]
    },
    {
     "name": "stderr",
     "output_type": "stream",
     "text": [
      "218it [00:39,  5.59it/s]"
     ]
    },
    {
     "name": "stdout",
     "output_type": "stream",
     "text": [
      "Overall Acc: \t 0.599542060875\n",
      "Mean Acc : \t 0.487728939338\n",
      "FreqW Acc : \t 0.431808293776\n",
      "Mean IoU : \t 0.354646164783\n"
     ]
    },
    {
     "name": "stderr",
     "output_type": "stream",
     "text": [
      "\n"
     ]
    },
    {
     "name": "stdout",
     "output_type": "stream",
     "text": [
      "Epoch [38/50] Loss: 0.8971\n",
      "Epoch [38/50] Loss: 0.8352\n"
     ]
    },
    {
     "name": "stderr",
     "output_type": "stream",
     "text": [
      "218it [00:39,  5.59it/s]\n"
     ]
    },
    {
     "name": "stdout",
     "output_type": "stream",
     "text": [
      "Overall Acc: \t 0.598943152316\n",
      "Mean Acc : \t 0.503092814417\n",
      "FreqW Acc : \t 0.435090108814\n",
      "Mean IoU : \t 0.359424311303\n",
      "Epoch [39/50] Loss: 0.5557\n",
      "Epoch [39/50] Loss: 0.7110\n"
     ]
    },
    {
     "name": "stderr",
     "output_type": "stream",
     "text": [
      "218it [00:38,  5.61it/s]\n"
     ]
    },
    {
     "name": "stdout",
     "output_type": "stream",
     "text": [
      "Overall Acc: \t 0.600803986685\n",
      "Mean Acc : \t 0.497655652681\n",
      "FreqW Acc : \t 0.43192859313\n",
      "Mean IoU : \t 0.359441547985\n",
      "Epoch [40/50] Loss: 0.9829\n",
      "Epoch [40/50] Loss: 0.6666\n"
     ]
    },
    {
     "name": "stderr",
     "output_type": "stream",
     "text": [
      "218it [00:38,  5.60it/s]\n"
     ]
    },
    {
     "name": "stdout",
     "output_type": "stream",
     "text": [
      "Overall Acc: \t 0.59976488337\n",
      "Mean Acc : \t 0.498672389123\n",
      "FreqW Acc : \t 0.431838602073\n",
      "Mean IoU : \t 0.360324475569\n",
      "Epoch [41/50] Loss: 0.6840\n",
      "Epoch [41/50] Loss: 0.7107\n"
     ]
    },
    {
     "name": "stderr",
     "output_type": "stream",
     "text": [
      "218it [00:38,  5.62it/s]\n"
     ]
    },
    {
     "name": "stdout",
     "output_type": "stream",
     "text": [
      "Overall Acc: \t 0.600103843137\n",
      "Mean Acc : \t 0.50438291522\n",
      "FreqW Acc : \t 0.434359795419\n",
      "Mean IoU : \t 0.361553838676\n",
      "Epoch [42/50] Loss: 0.9625\n",
      "Epoch [42/50] Loss: 0.7216\n"
     ]
    },
    {
     "name": "stderr",
     "output_type": "stream",
     "text": [
      "218it [00:39,  5.52it/s]"
     ]
    },
    {
     "name": "stdout",
     "output_type": "stream",
     "text": [
      "Overall Acc: \t 0.599706190072\n",
      "Mean Acc : \t 0.501007334302\n",
      "FreqW Acc : \t 0.434568742395\n",
      "Mean IoU : \t 0.360634824852\n"
     ]
    },
    {
     "name": "stderr",
     "output_type": "stream",
     "text": [
      "\n"
     ]
    },
    {
     "name": "stdout",
     "output_type": "stream",
     "text": [
      "Epoch [43/50] Loss: 1.1235\n",
      "Epoch [43/50] Loss: 0.7208\n"
     ]
    },
    {
     "name": "stderr",
     "output_type": "stream",
     "text": [
      "218it [00:39,  5.54it/s]\n"
     ]
    },
    {
     "name": "stdout",
     "output_type": "stream",
     "text": [
      "Overall Acc: \t 0.600089548093\n",
      "Mean Acc : \t 0.505264143349\n",
      "FreqW Acc : \t 0.432987226661\n",
      "Mean IoU : \t 0.362489793019\n",
      "Epoch [44/50] Loss: 0.4959\n",
      "Epoch [44/50] Loss: 0.8412\n"
     ]
    },
    {
     "name": "stderr",
     "output_type": "stream",
     "text": [
      "218it [00:39,  5.49it/s]\n"
     ]
    },
    {
     "name": "stdout",
     "output_type": "stream",
     "text": [
      "Overall Acc: \t 0.602616794287\n",
      "Mean Acc : \t 0.503882592557\n",
      "FreqW Acc : \t 0.438496464688\n",
      "Mean IoU : \t 0.365054550378\n",
      "Epoch [45/50] Loss: 0.5486\n",
      "Epoch [45/50] Loss: 0.8879\n"
     ]
    },
    {
     "name": "stderr",
     "output_type": "stream",
     "text": [
      "218it [00:38,  5.66it/s]\n"
     ]
    },
    {
     "name": "stdout",
     "output_type": "stream",
     "text": [
      "Overall Acc: \t 0.601900767911\n",
      "Mean Acc : \t 0.508580583349\n",
      "FreqW Acc : \t 0.437403899922\n",
      "Mean IoU : \t 0.366646000025\n",
      "Epoch [46/50] Loss: 0.7078\n",
      "Epoch [46/50] Loss: 0.7282\n"
     ]
    },
    {
     "name": "stderr",
     "output_type": "stream",
     "text": [
      "218it [00:38,  5.63it/s]"
     ]
    },
    {
     "name": "stdout",
     "output_type": "stream",
     "text": [
      "Overall Acc: \t 0.601207413513\n",
      "Mean Acc : \t 0.502788416595\n",
      "FreqW Acc : \t 0.435304168635\n",
      "Mean IoU : \t 0.363849189719\n"
     ]
    },
    {
     "name": "stderr",
     "output_type": "stream",
     "text": [
      "\n"
     ]
    },
    {
     "name": "stdout",
     "output_type": "stream",
     "text": [
      "Epoch [47/50] Loss: 0.6689\n",
      "Epoch [47/50] Loss: 0.7620\n"
     ]
    },
    {
     "name": "stderr",
     "output_type": "stream",
     "text": [
      "218it [00:38,  5.65it/s]"
     ]
    },
    {
     "name": "stdout",
     "output_type": "stream",
     "text": [
      "Overall Acc: \t 0.601385036395\n",
      "Mean Acc : \t 0.511578136303\n",
      "FreqW Acc : \t 0.438670729418\n",
      "Mean IoU : \t 0.365756627259\n"
     ]
    },
    {
     "name": "stderr",
     "output_type": "stream",
     "text": [
      "\n"
     ]
    },
    {
     "name": "stdout",
     "output_type": "stream",
     "text": [
      "Epoch [48/50] Loss: 0.6764\n",
      "Epoch [48/50] Loss: 0.5837\n"
     ]
    },
    {
     "name": "stderr",
     "output_type": "stream",
     "text": [
      "218it [00:39,  5.50it/s]"
     ]
    },
    {
     "name": "stdout",
     "output_type": "stream",
     "text": [
      "Overall Acc: \t 0.603123133481\n",
      "Mean Acc : \t 0.506345304339\n",
      "FreqW Acc : \t 0.435123039958\n",
      "Mean IoU : \t 0.364137498632\n"
     ]
    },
    {
     "name": "stderr",
     "output_type": "stream",
     "text": [
      "\n"
     ]
    },
    {
     "name": "stdout",
     "output_type": "stream",
     "text": [
      "Epoch [49/50] Loss: 0.5303\n",
      "Epoch [49/50] Loss: 0.5991\n"
     ]
    },
    {
     "name": "stderr",
     "output_type": "stream",
     "text": [
      "218it [00:39,  5.49it/s]\n"
     ]
    },
    {
     "name": "stdout",
     "output_type": "stream",
     "text": [
      "Overall Acc: \t 0.601780947375\n",
      "Mean Acc : \t 0.508478471649\n",
      "FreqW Acc : \t 0.436246229893\n",
      "Mean IoU : \t 0.367774679465\n",
      "Epoch [50/50] Loss: 0.5153\n",
      "Epoch [50/50] Loss: 0.5800\n"
     ]
    },
    {
     "name": "stderr",
     "output_type": "stream",
     "text": [
      "218it [00:39,  5.48it/s]"
     ]
    },
    {
     "name": "stdout",
     "output_type": "stream",
     "text": [
      "Overall Acc: \t 0.601669259883\n",
      "Mean Acc : \t 0.510280166657\n",
      "FreqW Acc : \t 0.434924010109\n",
      "Mean IoU : \t 0.366377994756\n"
     ]
    },
    {
     "name": "stderr",
     "output_type": "stream",
     "text": [
      "\n"
     ]
    }
   ],
   "source": [
    "from utils import *\n",
    "\n",
    "arg_str = '--gpu_idx 6 ' \\\n",
    "          '--arch FCN_RGB_mask2 ' \\\n",
    "          '--input_type RGB ' \\\n",
    "          '--dataset NYUDv2 ' \\\n",
    "          '--batch_size 3 ' \\\n",
    "          '--n_epoch 50 ' \\\n",
    "          '--visdom'\n",
    "\n",
    "trainer = trainer(arg_str)\n",
    "trainer.model_init()\n",
    "trainer.training()"
   ]
  },
  {
   "cell_type": "markdown",
   "metadata": {},
   "source": [
    "# Second round"
   ]
  },
  {
   "cell_type": "code",
   "execution_count": 1,
   "metadata": {},
   "outputs": [
    {
     "name": "stdout",
     "output_type": "stream",
     "text": [
      "Loading model and optimizer from checkpoint '../model_weights/FCN_RGB_mask2_NYUDv2_best_model.pkl'\n",
      "Loaded checkpoint '../model_weights/FCN_RGB_mask2_NYUDv2_best_model.pkl' (epoch 49)\n"
     ]
    },
    {
     "name": "stderr",
     "output_type": "stream",
     "text": [
      "/home/dongwonshin/.conda/envs/pytorch/lib/python3.6/site-packages/torch/nn/functional.py:1462: UserWarning: nn.functional.upsample_bilinear is deprecated. Use nn.functional.upsample instead.\n",
      "  warnings.warn(\"nn.functional.upsample_bilinear is deprecated. Use nn.functional.upsample instead.\")\n"
     ]
    },
    {
     "name": "stdout",
     "output_type": "stream",
     "text": [
      "Epoch [1/50] Loss: 0.6190\n",
      "Epoch [1/50] Loss: 0.5718\n"
     ]
    },
    {
     "name": "stderr",
     "output_type": "stream",
     "text": [
      "218it [00:36,  6.01it/s]\n"
     ]
    },
    {
     "name": "stdout",
     "output_type": "stream",
     "text": [
      "Overall Acc: \t 0.601390984367\n",
      "Mean Acc : \t 0.512123739717\n",
      "FreqW Acc : \t 0.438686998031\n",
      "Mean IoU : \t 0.367641981707\n",
      "Epoch [2/50] Loss: 0.7340\n",
      "Epoch [2/50] Loss: 0.5263\n"
     ]
    },
    {
     "name": "stderr",
     "output_type": "stream",
     "text": [
      "218it [00:36,  6.00it/s]"
     ]
    },
    {
     "name": "stdout",
     "output_type": "stream",
     "text": [
      "Overall Acc: \t 0.601950646263\n",
      "Mean Acc : \t 0.50914409489\n",
      "FreqW Acc : \t 0.437607752203\n",
      "Mean IoU : \t 0.366409440447\n"
     ]
    },
    {
     "name": "stderr",
     "output_type": "stream",
     "text": [
      "\n"
     ]
    },
    {
     "name": "stdout",
     "output_type": "stream",
     "text": [
      "Epoch [3/50] Loss: 0.7089\n",
      "Epoch [3/50] Loss: 0.6618\n"
     ]
    },
    {
     "name": "stderr",
     "output_type": "stream",
     "text": [
      "218it [00:35,  6.06it/s]"
     ]
    },
    {
     "name": "stdout",
     "output_type": "stream",
     "text": [
      "Overall Acc: \t 0.600627414031\n",
      "Mean Acc : \t 0.508696945569\n",
      "FreqW Acc : \t 0.433821983839\n",
      "Mean IoU : \t 0.3657574951\n"
     ]
    },
    {
     "name": "stderr",
     "output_type": "stream",
     "text": [
      "\n"
     ]
    },
    {
     "name": "stdout",
     "output_type": "stream",
     "text": [
      "Epoch [4/50] Loss: 0.6756\n",
      "Epoch [4/50] Loss: 0.6059\n"
     ]
    },
    {
     "name": "stderr",
     "output_type": "stream",
     "text": [
      "218it [00:35,  6.08it/s]"
     ]
    },
    {
     "name": "stdout",
     "output_type": "stream",
     "text": [
      "Overall Acc: \t 0.6003507263\n",
      "Mean Acc : \t 0.502465622424\n",
      "FreqW Acc : \t 0.438883073394\n",
      "Mean IoU : \t 0.36688669797\n"
     ]
    },
    {
     "name": "stderr",
     "output_type": "stream",
     "text": [
      "\n"
     ]
    },
    {
     "name": "stdout",
     "output_type": "stream",
     "text": [
      "Epoch [5/50] Loss: 0.8904\n",
      "Epoch [5/50] Loss: 0.8164\n"
     ]
    },
    {
     "name": "stderr",
     "output_type": "stream",
     "text": [
      "218it [00:35,  6.08it/s]\n"
     ]
    },
    {
     "name": "stdout",
     "output_type": "stream",
     "text": [
      "Overall Acc: \t 0.602320137296\n",
      "Mean Acc : \t 0.521937778661\n",
      "FreqW Acc : \t 0.438972203346\n",
      "Mean IoU : \t 0.370897317616\n",
      "Epoch [6/50] Loss: 0.6293\n",
      "Epoch [6/50] Loss: 0.5993\n"
     ]
    },
    {
     "name": "stderr",
     "output_type": "stream",
     "text": [
      "218it [00:36,  5.98it/s]"
     ]
    },
    {
     "name": "stdout",
     "output_type": "stream",
     "text": [
      "Overall Acc: \t 0.602445263722\n",
      "Mean Acc : \t 0.511000117904\n",
      "FreqW Acc : \t 0.435814212152\n",
      "Mean IoU : \t 0.369369152596\n"
     ]
    },
    {
     "name": "stderr",
     "output_type": "stream",
     "text": [
      "\n"
     ]
    },
    {
     "name": "stdout",
     "output_type": "stream",
     "text": [
      "Epoch [7/50] Loss: 0.5003\n",
      "Epoch [7/50] Loss: 0.6687\n"
     ]
    },
    {
     "name": "stderr",
     "output_type": "stream",
     "text": [
      "218it [00:35,  6.10it/s]"
     ]
    },
    {
     "name": "stdout",
     "output_type": "stream",
     "text": [
      "Overall Acc: \t 0.602127587244\n",
      "Mean Acc : \t 0.509085229811\n",
      "FreqW Acc : \t 0.439763276467\n",
      "Mean IoU : \t 0.369114279084\n"
     ]
    },
    {
     "name": "stderr",
     "output_type": "stream",
     "text": [
      "\n"
     ]
    },
    {
     "name": "stdout",
     "output_type": "stream",
     "text": [
      "Epoch [8/50] Loss: 0.6872\n",
      "Epoch [8/50] Loss: 0.7683\n"
     ]
    },
    {
     "name": "stderr",
     "output_type": "stream",
     "text": [
      "218it [00:36,  6.03it/s]"
     ]
    },
    {
     "name": "stdout",
     "output_type": "stream",
     "text": [
      "Overall Acc: \t 0.598841130901\n",
      "Mean Acc : \t 0.518007859425\n",
      "FreqW Acc : \t 0.435350286392\n",
      "Mean IoU : \t 0.368327416983\n"
     ]
    },
    {
     "name": "stderr",
     "output_type": "stream",
     "text": [
      "\n"
     ]
    },
    {
     "name": "stdout",
     "output_type": "stream",
     "text": [
      "Epoch [9/50] Loss: 0.4624\n",
      "Epoch [9/50] Loss: 0.4419\n"
     ]
    },
    {
     "name": "stderr",
     "output_type": "stream",
     "text": [
      "218it [00:36,  6.04it/s]"
     ]
    },
    {
     "name": "stdout",
     "output_type": "stream",
     "text": [
      "Overall Acc: \t 0.602609840883\n",
      "Mean Acc : \t 0.502707208996\n",
      "FreqW Acc : \t 0.436195998181\n",
      "Mean IoU : \t 0.365732128689\n"
     ]
    },
    {
     "name": "stderr",
     "output_type": "stream",
     "text": [
      "\n"
     ]
    },
    {
     "name": "stdout",
     "output_type": "stream",
     "text": [
      "Epoch [10/50] Loss: 0.7173\n",
      "Epoch [10/50] Loss: 0.5759\n"
     ]
    },
    {
     "name": "stderr",
     "output_type": "stream",
     "text": [
      "218it [00:36,  6.00it/s]"
     ]
    },
    {
     "name": "stdout",
     "output_type": "stream",
     "text": [
      "Overall Acc: \t 0.602722444213\n",
      "Mean Acc : \t 0.506613919179\n",
      "FreqW Acc : \t 0.436928622353\n",
      "Mean IoU : \t 0.367662665015\n"
     ]
    },
    {
     "name": "stderr",
     "output_type": "stream",
     "text": [
      "\n"
     ]
    },
    {
     "name": "stdout",
     "output_type": "stream",
     "text": [
      "Epoch [11/50] Loss: 0.5001\n",
      "Epoch [11/50] Loss: 0.5390\n"
     ]
    },
    {
     "name": "stderr",
     "output_type": "stream",
     "text": [
      "218it [00:35,  6.08it/s]"
     ]
    },
    {
     "name": "stdout",
     "output_type": "stream",
     "text": [
      "Overall Acc: \t 0.600324460651\n",
      "Mean Acc : \t 0.519309138711\n",
      "FreqW Acc : \t 0.437206292275\n",
      "Mean IoU : \t 0.369744600113\n"
     ]
    },
    {
     "name": "stderr",
     "output_type": "stream",
     "text": [
      "\n"
     ]
    },
    {
     "name": "stdout",
     "output_type": "stream",
     "text": [
      "Epoch [12/50] Loss: 0.5231\n",
      "Epoch [12/50] Loss: 0.5458\n"
     ]
    },
    {
     "name": "stderr",
     "output_type": "stream",
     "text": [
      "218it [00:36,  6.01it/s]"
     ]
    },
    {
     "name": "stdout",
     "output_type": "stream",
     "text": [
      "Overall Acc: \t 0.599297566856\n",
      "Mean Acc : \t 0.516947587744\n",
      "FreqW Acc : \t 0.435277766667\n",
      "Mean IoU : \t 0.369225286904\n"
     ]
    },
    {
     "name": "stderr",
     "output_type": "stream",
     "text": [
      "\n"
     ]
    },
    {
     "name": "stdout",
     "output_type": "stream",
     "text": [
      "Epoch [13/50] Loss: 0.5155\n",
      "Epoch [13/50] Loss: 0.7476\n"
     ]
    },
    {
     "name": "stderr",
     "output_type": "stream",
     "text": [
      "218it [00:35,  6.08it/s]"
     ]
    },
    {
     "name": "stdout",
     "output_type": "stream",
     "text": [
      "Overall Acc: \t 0.600372800992\n",
      "Mean Acc : \t 0.514123478985\n",
      "FreqW Acc : \t 0.433081946222\n",
      "Mean IoU : \t 0.366681839635\n"
     ]
    },
    {
     "name": "stderr",
     "output_type": "stream",
     "text": [
      "\n"
     ]
    },
    {
     "name": "stdout",
     "output_type": "stream",
     "text": [
      "Epoch [14/50] Loss: 0.4560\n",
      "Epoch [14/50] Loss: 0.5567\n"
     ]
    },
    {
     "name": "stderr",
     "output_type": "stream",
     "text": [
      "218it [00:35,  6.09it/s]"
     ]
    },
    {
     "name": "stdout",
     "output_type": "stream",
     "text": [
      "Overall Acc: \t 0.599514401559\n",
      "Mean Acc : \t 0.513398488676\n",
      "FreqW Acc : \t 0.434888269622\n",
      "Mean IoU : \t 0.368898286942\n"
     ]
    },
    {
     "name": "stderr",
     "output_type": "stream",
     "text": [
      "\n"
     ]
    },
    {
     "name": "stdout",
     "output_type": "stream",
     "text": [
      "Epoch [15/50] Loss: 0.5587\n",
      "Epoch [15/50] Loss: 0.5271\n"
     ]
    },
    {
     "name": "stderr",
     "output_type": "stream",
     "text": [
      "218it [00:35,  6.08it/s]"
     ]
    },
    {
     "name": "stdout",
     "output_type": "stream",
     "text": [
      "Overall Acc: \t 0.599591769997\n",
      "Mean Acc : \t 0.506711015453\n",
      "FreqW Acc : \t 0.433567188948\n",
      "Mean IoU : \t 0.36637996059\n"
     ]
    },
    {
     "name": "stderr",
     "output_type": "stream",
     "text": [
      "\n"
     ]
    },
    {
     "name": "stdout",
     "output_type": "stream",
     "text": [
      "Epoch [16/50] Loss: 0.6565\n",
      "Epoch [16/50] Loss: 0.6793\n"
     ]
    },
    {
     "name": "stderr",
     "output_type": "stream",
     "text": [
      "218it [00:35,  6.10it/s]"
     ]
    },
    {
     "name": "stdout",
     "output_type": "stream",
     "text": [
      "Overall Acc: \t 0.601571464266\n",
      "Mean Acc : \t 0.514216892266\n",
      "FreqW Acc : \t 0.435321228395\n",
      "Mean IoU : \t 0.37076446\n"
     ]
    },
    {
     "name": "stderr",
     "output_type": "stream",
     "text": [
      "\n"
     ]
    },
    {
     "name": "stdout",
     "output_type": "stream",
     "text": [
      "Epoch [17/50] Loss: 0.6450\n",
      "Epoch [17/50] Loss: 0.6474\n"
     ]
    },
    {
     "name": "stderr",
     "output_type": "stream",
     "text": [
      "218it [00:35,  6.09it/s]\n"
     ]
    },
    {
     "name": "stdout",
     "output_type": "stream",
     "text": [
      "Overall Acc: \t 0.60137078117\n",
      "Mean Acc : \t 0.517692194853\n",
      "FreqW Acc : \t 0.439633343351\n",
      "Mean IoU : \t 0.371336030917\n",
      "Epoch [18/50] Loss: 0.6244\n",
      "Epoch [18/50] Loss: 0.5304\n"
     ]
    },
    {
     "name": "stderr",
     "output_type": "stream",
     "text": [
      "218it [00:35,  6.08it/s]"
     ]
    },
    {
     "name": "stdout",
     "output_type": "stream",
     "text": [
      "Overall Acc: \t 0.598531891087\n",
      "Mean Acc : \t 0.514457593366\n",
      "FreqW Acc : \t 0.436597556606\n",
      "Mean IoU : \t 0.369317192525\n"
     ]
    },
    {
     "name": "stderr",
     "output_type": "stream",
     "text": [
      "\n"
     ]
    },
    {
     "name": "stdout",
     "output_type": "stream",
     "text": [
      "Epoch [19/50] Loss: 0.7130\n",
      "Epoch [19/50] Loss: 0.5924\n"
     ]
    },
    {
     "name": "stderr",
     "output_type": "stream",
     "text": [
      "218it [00:36,  6.03it/s]"
     ]
    },
    {
     "name": "stdout",
     "output_type": "stream",
     "text": [
      "Overall Acc: \t 0.598017971338\n",
      "Mean Acc : \t 0.515761953807\n",
      "FreqW Acc : \t 0.432232701056\n",
      "Mean IoU : \t 0.368402177232\n"
     ]
    },
    {
     "name": "stderr",
     "output_type": "stream",
     "text": [
      "\n"
     ]
    },
    {
     "name": "stdout",
     "output_type": "stream",
     "text": [
      "Epoch [20/50] Loss: 0.4710\n",
      "Epoch [20/50] Loss: 0.5084\n"
     ]
    },
    {
     "name": "stderr",
     "output_type": "stream",
     "text": [
      "218it [00:35,  6.08it/s]\n"
     ]
    },
    {
     "name": "stdout",
     "output_type": "stream",
     "text": [
      "Overall Acc: \t 0.599125822264\n",
      "Mean Acc : \t 0.516833594531\n",
      "FreqW Acc : \t 0.438678857023\n",
      "Mean IoU : \t 0.37157776641\n",
      "Epoch [21/50] Loss: 0.5849\n",
      "Epoch [21/50] Loss: 0.4384\n"
     ]
    },
    {
     "name": "stderr",
     "output_type": "stream",
     "text": [
      "218it [00:35,  6.08it/s]"
     ]
    },
    {
     "name": "stdout",
     "output_type": "stream",
     "text": [
      "Overall Acc: \t 0.600157623758\n",
      "Mean Acc : \t 0.506873700588\n",
      "FreqW Acc : \t 0.433374693786\n",
      "Mean IoU : \t 0.368499324689\n"
     ]
    },
    {
     "name": "stderr",
     "output_type": "stream",
     "text": [
      "\n"
     ]
    },
    {
     "name": "stdout",
     "output_type": "stream",
     "text": [
      "Epoch [22/50] Loss: 0.6055\n",
      "Epoch [22/50] Loss: 0.6945\n"
     ]
    },
    {
     "name": "stderr",
     "output_type": "stream",
     "text": [
      "218it [00:35,  6.08it/s]"
     ]
    },
    {
     "name": "stdout",
     "output_type": "stream",
     "text": [
      "Overall Acc: \t 0.598100147928\n",
      "Mean Acc : \t 0.524095796698\n",
      "FreqW Acc : \t 0.433664092423\n",
      "Mean IoU : \t 0.3704219546\n"
     ]
    },
    {
     "name": "stderr",
     "output_type": "stream",
     "text": [
      "\n"
     ]
    },
    {
     "name": "stdout",
     "output_type": "stream",
     "text": [
      "Epoch [23/50] Loss: 0.4501\n",
      "Epoch [23/50] Loss: 0.6354\n"
     ]
    },
    {
     "name": "stderr",
     "output_type": "stream",
     "text": [
      "218it [00:36,  6.03it/s]"
     ]
    },
    {
     "name": "stdout",
     "output_type": "stream",
     "text": [
      "Overall Acc: \t 0.599908381315\n",
      "Mean Acc : \t 0.511713287581\n",
      "FreqW Acc : \t 0.437085724541\n",
      "Mean IoU : \t 0.368288955822\n"
     ]
    },
    {
     "name": "stderr",
     "output_type": "stream",
     "text": [
      "\n"
     ]
    },
    {
     "name": "stdout",
     "output_type": "stream",
     "text": [
      "Epoch [24/50] Loss: 0.5683\n",
      "Epoch [24/50] Loss: 0.4868\n"
     ]
    },
    {
     "name": "stderr",
     "output_type": "stream",
     "text": [
      "218it [00:35,  6.07it/s]"
     ]
    },
    {
     "name": "stdout",
     "output_type": "stream",
     "text": [
      "Overall Acc: \t 0.600402620492\n",
      "Mean Acc : \t 0.512361906048\n",
      "FreqW Acc : \t 0.438459137369\n",
      "Mean IoU : \t 0.371063014276\n"
     ]
    },
    {
     "name": "stderr",
     "output_type": "stream",
     "text": [
      "\n"
     ]
    },
    {
     "name": "stdout",
     "output_type": "stream",
     "text": [
      "Epoch [25/50] Loss: 0.4597\n",
      "Epoch [25/50] Loss: 0.3702\n"
     ]
    },
    {
     "name": "stderr",
     "output_type": "stream",
     "text": [
      "218it [00:36,  6.05it/s]"
     ]
    },
    {
     "name": "stdout",
     "output_type": "stream",
     "text": [
      "Overall Acc: \t 0.600293207664\n",
      "Mean Acc : \t 0.514395213247\n",
      "FreqW Acc : \t 0.433997743066\n",
      "Mean IoU : \t 0.369763432063\n"
     ]
    },
    {
     "name": "stderr",
     "output_type": "stream",
     "text": [
      "\n"
     ]
    },
    {
     "name": "stdout",
     "output_type": "stream",
     "text": [
      "Epoch [26/50] Loss: 0.5815\n",
      "Epoch [26/50] Loss: 0.5851\n"
     ]
    },
    {
     "name": "stderr",
     "output_type": "stream",
     "text": [
      "218it [00:35,  6.08it/s]"
     ]
    },
    {
     "name": "stdout",
     "output_type": "stream",
     "text": [
      "Overall Acc: \t 0.599189567605\n",
      "Mean Acc : \t 0.513158552636\n",
      "FreqW Acc : \t 0.433233467966\n",
      "Mean IoU : \t 0.370519154724\n"
     ]
    },
    {
     "name": "stderr",
     "output_type": "stream",
     "text": [
      "\n"
     ]
    },
    {
     "name": "stdout",
     "output_type": "stream",
     "text": [
      "Epoch [27/50] Loss: 0.4195\n",
      "Epoch [27/50] Loss: 0.3976\n"
     ]
    },
    {
     "name": "stderr",
     "output_type": "stream",
     "text": [
      "218it [00:36,  6.05it/s]"
     ]
    },
    {
     "name": "stdout",
     "output_type": "stream",
     "text": [
      "Overall Acc: \t 0.598715576421\n",
      "Mean Acc : \t 0.510399169161\n",
      "FreqW Acc : \t 0.436335618949\n",
      "Mean IoU : \t 0.368639925296\n"
     ]
    },
    {
     "name": "stderr",
     "output_type": "stream",
     "text": [
      "\n"
     ]
    },
    {
     "name": "stdout",
     "output_type": "stream",
     "text": [
      "Epoch [28/50] Loss: 0.4961\n",
      "Epoch [28/50] Loss: 0.4709\n"
     ]
    },
    {
     "name": "stderr",
     "output_type": "stream",
     "text": [
      "218it [00:35,  6.08it/s]"
     ]
    },
    {
     "name": "stdout",
     "output_type": "stream",
     "text": [
      "Overall Acc: \t 0.598239783424\n",
      "Mean Acc : \t 0.512516134174\n",
      "FreqW Acc : \t 0.436325998922\n",
      "Mean IoU : \t 0.36983402126\n"
     ]
    },
    {
     "name": "stderr",
     "output_type": "stream",
     "text": [
      "\n"
     ]
    },
    {
     "name": "stdout",
     "output_type": "stream",
     "text": [
      "Epoch [29/50] Loss: 0.4119\n",
      "Epoch [29/50] Loss: 0.4949\n"
     ]
    },
    {
     "name": "stderr",
     "output_type": "stream",
     "text": [
      "218it [00:35,  6.12it/s]"
     ]
    },
    {
     "name": "stdout",
     "output_type": "stream",
     "text": [
      "Overall Acc: \t 0.600196312954\n",
      "Mean Acc : \t 0.51508299544\n",
      "FreqW Acc : \t 0.437912881771\n",
      "Mean IoU : \t 0.371350206498\n"
     ]
    },
    {
     "name": "stderr",
     "output_type": "stream",
     "text": [
      "\n"
     ]
    },
    {
     "name": "stdout",
     "output_type": "stream",
     "text": [
      "Epoch [30/50] Loss: 0.5984\n",
      "Epoch [30/50] Loss: 0.5361\n"
     ]
    },
    {
     "name": "stderr",
     "output_type": "stream",
     "text": [
      "218it [00:36,  6.04it/s]"
     ]
    },
    {
     "name": "stdout",
     "output_type": "stream",
     "text": [
      "Overall Acc: \t 0.600016236223\n",
      "Mean Acc : \t 0.512110785529\n",
      "FreqW Acc : \t 0.434632019529\n",
      "Mean IoU : \t 0.36961573444\n"
     ]
    },
    {
     "name": "stderr",
     "output_type": "stream",
     "text": [
      "\n"
     ]
    },
    {
     "name": "stdout",
     "output_type": "stream",
     "text": [
      "Epoch [31/50] Loss: 0.4782\n",
      "Epoch [31/50] Loss: 0.5083\n"
     ]
    },
    {
     "name": "stderr",
     "output_type": "stream",
     "text": [
      "218it [00:35,  6.09it/s]"
     ]
    },
    {
     "name": "stdout",
     "output_type": "stream",
     "text": [
      "Overall Acc: \t 0.597727117976\n",
      "Mean Acc : \t 0.51632708103\n",
      "FreqW Acc : \t 0.434830764057\n",
      "Mean IoU : \t 0.368080897161\n"
     ]
    },
    {
     "name": "stderr",
     "output_type": "stream",
     "text": [
      "\n"
     ]
    },
    {
     "name": "stdout",
     "output_type": "stream",
     "text": [
      "Epoch [32/50] Loss: 0.5710\n",
      "Epoch [32/50] Loss: 0.4159\n"
     ]
    },
    {
     "name": "stderr",
     "output_type": "stream",
     "text": [
      "218it [00:35,  6.06it/s]\n"
     ]
    },
    {
     "name": "stdout",
     "output_type": "stream",
     "text": [
      "Overall Acc: \t 0.599967870994\n",
      "Mean Acc : \t 0.518976380477\n",
      "FreqW Acc : \t 0.43723702847\n",
      "Mean IoU : \t 0.372316612983\n",
      "Epoch [33/50] Loss: 0.3068\n",
      "Epoch [33/50] Loss: 0.5088\n"
     ]
    },
    {
     "name": "stderr",
     "output_type": "stream",
     "text": [
      "218it [00:36,  6.04it/s]"
     ]
    },
    {
     "name": "stdout",
     "output_type": "stream",
     "text": [
      "Overall Acc: \t 0.600129531409\n",
      "Mean Acc : \t 0.514841288404\n",
      "FreqW Acc : \t 0.436147294385\n",
      "Mean IoU : \t 0.369354236115\n"
     ]
    },
    {
     "name": "stderr",
     "output_type": "stream",
     "text": [
      "\n"
     ]
    },
    {
     "name": "stdout",
     "output_type": "stream",
     "text": [
      "Epoch [34/50] Loss: 0.4425\n",
      "Epoch [34/50] Loss: 0.5290\n"
     ]
    },
    {
     "name": "stderr",
     "output_type": "stream",
     "text": [
      "218it [00:36,  6.03it/s]"
     ]
    },
    {
     "name": "stdout",
     "output_type": "stream",
     "text": [
      "Overall Acc: \t 0.598005064985\n",
      "Mean Acc : \t 0.51565614884\n",
      "FreqW Acc : \t 0.434156450511\n",
      "Mean IoU : \t 0.371085163757\n"
     ]
    },
    {
     "name": "stderr",
     "output_type": "stream",
     "text": [
      "\n"
     ]
    },
    {
     "name": "stdout",
     "output_type": "stream",
     "text": [
      "Epoch [35/50] Loss: 0.4919\n",
      "Epoch [35/50] Loss: 0.3961\n"
     ]
    },
    {
     "name": "stderr",
     "output_type": "stream",
     "text": [
      "218it [00:35,  6.10it/s]\n"
     ]
    },
    {
     "name": "stdout",
     "output_type": "stream",
     "text": [
      "Overall Acc: \t 0.599262521104\n",
      "Mean Acc : \t 0.518799923301\n",
      "FreqW Acc : \t 0.43778940225\n",
      "Mean IoU : \t 0.372466870478\n",
      "Epoch [36/50] Loss: 0.6092\n",
      "Epoch [36/50] Loss: 0.4216\n"
     ]
    },
    {
     "name": "stderr",
     "output_type": "stream",
     "text": [
      "218it [00:36,  6.05it/s]"
     ]
    },
    {
     "name": "stdout",
     "output_type": "stream",
     "text": [
      "Overall Acc: \t 0.597697801191\n",
      "Mean Acc : \t 0.510185604101\n",
      "FreqW Acc : \t 0.435145720403\n",
      "Mean IoU : \t 0.369723191085\n"
     ]
    },
    {
     "name": "stderr",
     "output_type": "stream",
     "text": [
      "\n"
     ]
    },
    {
     "name": "stdout",
     "output_type": "stream",
     "text": [
      "Epoch [37/50] Loss: 0.3466\n",
      "Epoch [37/50] Loss: 0.6177\n"
     ]
    },
    {
     "name": "stderr",
     "output_type": "stream",
     "text": [
      "218it [00:35,  6.09it/s]\n"
     ]
    },
    {
     "name": "stdout",
     "output_type": "stream",
     "text": [
      "Overall Acc: \t 0.598001132852\n",
      "Mean Acc : \t 0.522883415029\n",
      "FreqW Acc : \t 0.436054203779\n",
      "Mean IoU : \t 0.373899099544\n",
      "Epoch [38/50] Loss: 0.4520\n",
      "Epoch [38/50] Loss: 0.3406\n"
     ]
    },
    {
     "name": "stderr",
     "output_type": "stream",
     "text": [
      "218it [00:35,  6.06it/s]"
     ]
    },
    {
     "name": "stdout",
     "output_type": "stream",
     "text": [
      "Overall Acc: \t 0.596701418753\n",
      "Mean Acc : \t 0.51119887045\n",
      "FreqW Acc : \t 0.433368308087\n",
      "Mean IoU : \t 0.369836921563\n"
     ]
    },
    {
     "name": "stderr",
     "output_type": "stream",
     "text": [
      "\n"
     ]
    },
    {
     "name": "stdout",
     "output_type": "stream",
     "text": [
      "Epoch [39/50] Loss: 0.5270\n",
      "Epoch [39/50] Loss: 0.5052\n"
     ]
    },
    {
     "name": "stderr",
     "output_type": "stream",
     "text": [
      "218it [00:35,  6.11it/s]"
     ]
    },
    {
     "name": "stdout",
     "output_type": "stream",
     "text": [
      "Overall Acc: \t 0.596460339219\n",
      "Mean Acc : \t 0.513024467523\n",
      "FreqW Acc : \t 0.434412131275\n",
      "Mean IoU : \t 0.369499285817\n"
     ]
    },
    {
     "name": "stderr",
     "output_type": "stream",
     "text": [
      "\n"
     ]
    },
    {
     "name": "stdout",
     "output_type": "stream",
     "text": [
      "Epoch [40/50] Loss: 0.3703\n",
      "Epoch [40/50] Loss: 0.5446\n"
     ]
    },
    {
     "name": "stderr",
     "output_type": "stream",
     "text": [
      "218it [00:35,  6.08it/s]"
     ]
    },
    {
     "name": "stdout",
     "output_type": "stream",
     "text": [
      "Overall Acc: \t 0.599870916555\n",
      "Mean Acc : \t 0.515602047448\n",
      "FreqW Acc : \t 0.433865460929\n",
      "Mean IoU : \t 0.371664212584\n"
     ]
    },
    {
     "name": "stderr",
     "output_type": "stream",
     "text": [
      "\n"
     ]
    },
    {
     "name": "stdout",
     "output_type": "stream",
     "text": [
      "Epoch [41/50] Loss: 0.4576\n",
      "Epoch [41/50] Loss: 0.3886\n"
     ]
    },
    {
     "name": "stderr",
     "output_type": "stream",
     "text": [
      "218it [00:36,  6.03it/s]"
     ]
    },
    {
     "name": "stdout",
     "output_type": "stream",
     "text": [
      "Overall Acc: \t 0.59826755722\n",
      "Mean Acc : \t 0.517118171312\n",
      "FreqW Acc : \t 0.435745726932\n",
      "Mean IoU : \t 0.373051988169\n"
     ]
    },
    {
     "name": "stderr",
     "output_type": "stream",
     "text": [
      "\n"
     ]
    },
    {
     "name": "stdout",
     "output_type": "stream",
     "text": [
      "Epoch [42/50] Loss: 0.4682\n",
      "Epoch [42/50] Loss: 0.5133\n"
     ]
    },
    {
     "name": "stderr",
     "output_type": "stream",
     "text": [
      "218it [00:35,  6.06it/s]"
     ]
    },
    {
     "name": "stdout",
     "output_type": "stream",
     "text": [
      "Overall Acc: \t 0.59638542463\n",
      "Mean Acc : \t 0.513203243748\n",
      "FreqW Acc : \t 0.431627679693\n",
      "Mean IoU : \t 0.370038841686\n"
     ]
    },
    {
     "name": "stderr",
     "output_type": "stream",
     "text": [
      "\n"
     ]
    },
    {
     "name": "stdout",
     "output_type": "stream",
     "text": [
      "Epoch [43/50] Loss: 0.4898\n",
      "Epoch [43/50] Loss: 0.3833\n"
     ]
    },
    {
     "name": "stderr",
     "output_type": "stream",
     "text": [
      "218it [00:36,  6.04it/s]"
     ]
    },
    {
     "name": "stdout",
     "output_type": "stream",
     "text": [
      "Overall Acc: \t 0.596401416961\n",
      "Mean Acc : \t 0.512509899437\n",
      "FreqW Acc : \t 0.434553798938\n",
      "Mean IoU : \t 0.371718649772\n"
     ]
    },
    {
     "name": "stderr",
     "output_type": "stream",
     "text": [
      "\n"
     ]
    },
    {
     "name": "stdout",
     "output_type": "stream",
     "text": [
      "Epoch [44/50] Loss: 0.4126\n",
      "Epoch [44/50] Loss: 0.5117\n"
     ]
    },
    {
     "name": "stderr",
     "output_type": "stream",
     "text": [
      "218it [00:35,  6.07it/s]"
     ]
    },
    {
     "name": "stdout",
     "output_type": "stream",
     "text": [
      "Overall Acc: \t 0.596838436146\n",
      "Mean Acc : \t 0.512054996355\n",
      "FreqW Acc : \t 0.431823229142\n",
      "Mean IoU : \t 0.368180087776\n"
     ]
    },
    {
     "name": "stderr",
     "output_type": "stream",
     "text": [
      "\n"
     ]
    },
    {
     "name": "stdout",
     "output_type": "stream",
     "text": [
      "Epoch [45/50] Loss: 0.4933\n",
      "Epoch [45/50] Loss: 0.5512\n"
     ]
    },
    {
     "name": "stderr",
     "output_type": "stream",
     "text": [
      "218it [00:35,  6.13it/s]"
     ]
    },
    {
     "name": "stdout",
     "output_type": "stream",
     "text": [
      "Overall Acc: \t 0.596742283066\n",
      "Mean Acc : \t 0.519926785337\n",
      "FreqW Acc : \t 0.434832931528\n",
      "Mean IoU : \t 0.372078301402\n"
     ]
    },
    {
     "name": "stderr",
     "output_type": "stream",
     "text": [
      "\n"
     ]
    },
    {
     "name": "stdout",
     "output_type": "stream",
     "text": [
      "Epoch [46/50] Loss: 0.3159\n",
      "Epoch [46/50] Loss: 0.3235\n"
     ]
    },
    {
     "name": "stderr",
     "output_type": "stream",
     "text": [
      "218it [00:35,  6.08it/s]"
     ]
    },
    {
     "name": "stdout",
     "output_type": "stream",
     "text": [
      "Overall Acc: \t 0.597811703619\n",
      "Mean Acc : \t 0.515145880589\n",
      "FreqW Acc : \t 0.435656176454\n",
      "Mean IoU : \t 0.37136885201\n"
     ]
    },
    {
     "name": "stderr",
     "output_type": "stream",
     "text": [
      "\n"
     ]
    },
    {
     "name": "stdout",
     "output_type": "stream",
     "text": [
      "Epoch [47/50] Loss: 0.3280\n",
      "Epoch [47/50] Loss: 0.2667\n"
     ]
    },
    {
     "name": "stderr",
     "output_type": "stream",
     "text": [
      "218it [00:36,  6.03it/s]"
     ]
    },
    {
     "name": "stdout",
     "output_type": "stream",
     "text": [
      "Overall Acc: \t 0.596492398541\n",
      "Mean Acc : \t 0.516032828694\n",
      "FreqW Acc : \t 0.43340853073\n",
      "Mean IoU : \t 0.36926009897\n"
     ]
    },
    {
     "name": "stderr",
     "output_type": "stream",
     "text": [
      "\n"
     ]
    },
    {
     "name": "stdout",
     "output_type": "stream",
     "text": [
      "Epoch [48/50] Loss: 0.3174\n",
      "Epoch [48/50] Loss: 0.5552\n"
     ]
    },
    {
     "name": "stderr",
     "output_type": "stream",
     "text": [
      "218it [00:35,  6.07it/s]"
     ]
    },
    {
     "name": "stdout",
     "output_type": "stream",
     "text": [
      "Overall Acc: \t 0.593785951636\n",
      "Mean Acc : \t 0.509367583576\n",
      "FreqW Acc : \t 0.427077514248\n",
      "Mean IoU : \t 0.366857768711\n"
     ]
    },
    {
     "name": "stderr",
     "output_type": "stream",
     "text": [
      "\n"
     ]
    },
    {
     "name": "stdout",
     "output_type": "stream",
     "text": [
      "Epoch [49/50] Loss: 0.3064\n",
      "Epoch [49/50] Loss: 0.3509\n"
     ]
    },
    {
     "name": "stderr",
     "output_type": "stream",
     "text": [
      "218it [00:35,  6.08it/s]"
     ]
    },
    {
     "name": "stdout",
     "output_type": "stream",
     "text": [
      "Overall Acc: \t 0.597708831072\n",
      "Mean Acc : \t 0.517454545974\n",
      "FreqW Acc : \t 0.43407741365\n",
      "Mean IoU : \t 0.370500318107\n"
     ]
    },
    {
     "name": "stderr",
     "output_type": "stream",
     "text": [
      "\n"
     ]
    },
    {
     "name": "stdout",
     "output_type": "stream",
     "text": [
      "Epoch [50/50] Loss: 0.3036\n",
      "Epoch [50/50] Loss: 0.3259\n"
     ]
    },
    {
     "name": "stderr",
     "output_type": "stream",
     "text": [
      "218it [00:36,  5.98it/s]"
     ]
    },
    {
     "name": "stdout",
     "output_type": "stream",
     "text": [
      "Overall Acc: \t 0.594483735904\n",
      "Mean Acc : \t 0.509454834636\n",
      "FreqW Acc : \t 0.432501216371\n",
      "Mean IoU : \t 0.368089710412\n"
     ]
    },
    {
     "name": "stderr",
     "output_type": "stream",
     "text": [
      "\n"
     ]
    }
   ],
   "source": [
    "from utils import *\n",
    "\n",
    "arg_str = '--gpu_idx 1 ' \\\n",
    "          '--arch FCN_RGB_mask2 ' \\\n",
    "          '--input_type RGB ' \\\n",
    "          '--dataset NYUDv2 ' \\\n",
    "          '--batch_size 3 ' \\\n",
    "          '--n_epoch 50 ' \\\n",
    "          '--resume ../model_weights/FCN_RGB_mask2_NYUDv2_best_model.pkl ' \\\n",
    "          '--visdom'\n",
    "\n",
    "trainer = trainer(arg_str)\n",
    "trainer.model_init()\n",
    "trainer.training()"
   ]
  },
  {
   "cell_type": "code",
   "execution_count": null,
   "metadata": {},
   "outputs": [],
   "source": []
  }
 ],
 "metadata": {
  "kernelspec": {
   "display_name": "Python [conda env:pytorch]",
   "language": "python",
   "name": "conda-env-pytorch-py"
  },
  "language_info": {
   "codemirror_mode": {
    "name": "ipython",
    "version": 3
   },
   "file_extension": ".py",
   "mimetype": "text/x-python",
   "name": "python",
   "nbconvert_exporter": "python",
   "pygments_lexer": "ipython3",
   "version": "3.6.3"
  }
 },
 "nbformat": 4,
 "nbformat_minor": 2
}
