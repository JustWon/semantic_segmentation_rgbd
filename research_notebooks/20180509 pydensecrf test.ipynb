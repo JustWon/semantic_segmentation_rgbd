{
 "cells": [
  {
   "cell_type": "code",
   "execution_count": 1,
   "metadata": {},
   "outputs": [
    {
     "ename": "ModuleNotFoundError",
     "evalue": "No module named 'pydensecdrf'",
     "output_type": "error",
     "traceback": [
      "\u001b[0;31m---------------------------------------------------------------------------\u001b[0m",
      "\u001b[0;31mModuleNotFoundError\u001b[0m                       Traceback (most recent call last)",
      "\u001b[0;32m<ipython-input-1-e4114ff634fa>\u001b[0m in \u001b[0;36m<module>\u001b[0;34m()\u001b[0m\n\u001b[1;32m     10\u001b[0m \u001b[0;32mimport\u001b[0m \u001b[0mtorchvision\u001b[0m\u001b[0;34m.\u001b[0m\u001b[0mmodels\u001b[0m \u001b[0;32mas\u001b[0m \u001b[0mmodels\u001b[0m\u001b[0;34m\u001b[0m\u001b[0m\n\u001b[1;32m     11\u001b[0m \u001b[0;34m\u001b[0m\u001b[0m\n\u001b[0;32m---> 12\u001b[0;31m \u001b[0;32mimport\u001b[0m \u001b[0mpydensecdrf\u001b[0m\u001b[0;34m.\u001b[0m\u001b[0mdensecrf\u001b[0m \u001b[0;32mas\u001b[0m \u001b[0mdcrf\u001b[0m\u001b[0;34m\u001b[0m\u001b[0m\n\u001b[0m",
      "\u001b[0;31mModuleNotFoundError\u001b[0m: No module named 'pydensecdrf'"
     ]
    }
   ],
   "source": [
    "import sys, os\n",
    "import torch\n",
    "import visdom\n",
    "import argparse\n",
    "import timeit\n",
    "import numpy as np\n",
    "import scipy.misc as misc\n",
    "import torch.nn as nn\n",
    "import torch.nn.functional as F\n",
    "import torchvision.models as models\n",
    "import pydensecdrf.densecrf as dcrf"
   ]
  },
  {
   "cell_type": "code",
   "execution_count": null,
   "metadata": {},
   "outputs": [],
   "source": [
    "img = misc.imread('test_color.jpg')\n",
    "resized_img = misc.imresize(img, (loader.img_size[0], loader.img_size[1]), \n",
    "\n",
    "unary = outputs.data.cpu().numpy()\n",
    "unary = np.squeeze(unary, 0)\n",
    "unary = -np.log(unary)\n",
    "unary = unary.transpose(2, 1, 0)\n",
    "w, h, c = unary.shape\n",
    "unary = unary.transpose(2, 0, 1).reshape(loader.n_classes, -1)\n",
    "unary = np.ascontiguousarray(unary)\n",
    "\n",
    "resized_img = np.ascontiguousarray(resized_img)\n",
    "\n",
    "d = dcrf.DenseCRF2D(w, h, loader.n_classes)\n",
    "d.setUnaryEnergy(unary)\n",
    "d.addPairwiseBilateral(sxy=5, srgb=3, rgbim=resized_img, compat=1)\n",
    "\n",
    "q = d.inference(50)\n",
    "mask = np.argmax(q, axis=0).reshape(w, h).transpose(1, 0)\n",
    "decoded_crf = loader.decode_segmap(np.array(mask, dtype=np.uint8))\n",
    "dcrf_path = args.out_path[:-4] + '_drf.png'\n",
    "misc.imsave(dcrf_path, decoded_crf)\n",
    "print(\"Dense CRF Processed Mask Saved at: {}\".format(dcrf_path))"
   ]
  }
 ],
 "metadata": {
  "kernelspec": {
   "display_name": "Python [conda env:tf_py27]",
   "language": "python",
   "name": "conda-env-tf_py27-py"
  },
  "language_info": {
   "codemirror_mode": {
    "name": "ipython",
    "version": 2
   },
   "file_extension": ".py",
   "mimetype": "text/x-python",
   "name": "python",
   "nbconvert_exporter": "python",
   "pygments_lexer": "ipython2",
   "version": "2.7.14"
  }
 },
 "nbformat": 4,
 "nbformat_minor": 2
}
