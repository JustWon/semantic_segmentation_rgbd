{
 "cells": [
  {
   "cell_type": "code",
   "execution_count": 1,
   "metadata": {},
   "outputs": [
    {
     "name": "stderr",
     "output_type": "stream",
     "text": [
      "/home/dongwonshin/.conda/envs/pytorch/lib/python3.6/site-packages/torch/nn/functional.py:1462: UserWarning: nn.functional.upsample_bilinear is deprecated. Use nn.functional.upsample instead.\n",
      "  warnings.warn(\"nn.functional.upsample_bilinear is deprecated. Use nn.functional.upsample instead.\")\n"
     ]
    },
    {
     "name": "stdout",
     "output_type": "stream",
     "text": [
      "Epoch [1/50] Loss: 2.6830\n",
      "Epoch [1/50] Loss: 2.0459\n",
      "Epoch [1/50] Loss: 2.0998\n",
      "Epoch [1/50] Loss: 2.1098\n",
      "Epoch [1/50] Loss: 1.7945\n",
      "Epoch [1/50] Loss: 2.3163\n",
      "Epoch [1/50] Loss: 1.5654\n",
      "Epoch [1/50] Loss: 2.5401\n",
      "Epoch [1/50] Loss: 1.8680\n",
      "Epoch [1/50] Loss: 2.2464\n"
     ]
    },
    {
     "name": "stderr",
     "output_type": "stream",
     "text": [
      "1010it [05:38,  2.99it/s]\n"
     ]
    },
    {
     "name": "stdout",
     "output_type": "stream",
     "text": [
      "Overall Acc: \t 0.479277143886\n",
      "Mean Acc : \t 0.0682423043458\n",
      "FreqW Acc : \t 0.284958258319\n",
      "Mean IoU : \t 0.0427591987921\n",
      "Epoch [2/50] Loss: 1.4813\n",
      "Epoch [2/50] Loss: 1.9998\n",
      "Epoch [2/50] Loss: 1.7484\n",
      "Epoch [2/50] Loss: 1.6194\n",
      "Epoch [2/50] Loss: 1.7190\n",
      "Epoch [2/50] Loss: 1.9337\n",
      "Epoch [2/50] Loss: 1.9152\n",
      "Epoch [2/50] Loss: 1.8174\n",
      "Epoch [2/50] Loss: 1.5863\n",
      "Epoch [2/50] Loss: 1.6521\n"
     ]
    },
    {
     "name": "stderr",
     "output_type": "stream",
     "text": [
      "1010it [05:36,  3.00it/s]\n"
     ]
    },
    {
     "name": "stdout",
     "output_type": "stream",
     "text": [
      "Overall Acc: \t 0.503234400531\n",
      "Mean Acc : \t 0.082043665588\n",
      "FreqW Acc : \t 0.310973165619\n",
      "Mean IoU : \t 0.0547717132775\n",
      "Epoch [3/50] Loss: 2.0272\n",
      "Epoch [3/50] Loss: 1.9509\n",
      "Epoch [3/50] Loss: 1.5524\n",
      "Epoch [3/50] Loss: 1.5573\n",
      "Epoch [3/50] Loss: 1.8037\n",
      "Epoch [3/50] Loss: 1.3386\n",
      "Epoch [3/50] Loss: 1.8489\n",
      "Epoch [3/50] Loss: 1.8653\n",
      "Epoch [3/50] Loss: 1.7666\n",
      "Epoch [3/50] Loss: 1.5502\n"
     ]
    },
    {
     "name": "stderr",
     "output_type": "stream",
     "text": [
      "1010it [05:39,  2.97it/s]\n"
     ]
    },
    {
     "name": "stdout",
     "output_type": "stream",
     "text": [
      "Overall Acc: \t 0.521099684679\n",
      "Mean Acc : \t 0.100621630014\n",
      "FreqW Acc : \t 0.335253277749\n",
      "Mean IoU : \t 0.0691183846099\n",
      "Epoch [4/50] Loss: 2.0248\n",
      "Epoch [4/50] Loss: 1.5371\n",
      "Epoch [4/50] Loss: 1.6081\n",
      "Epoch [4/50] Loss: 1.7859\n",
      "Epoch [4/50] Loss: 1.5844\n",
      "Epoch [4/50] Loss: 1.9273\n",
      "Epoch [4/50] Loss: 1.4713\n",
      "Epoch [4/50] Loss: 1.3977\n",
      "Epoch [4/50] Loss: 1.6278\n",
      "Epoch [4/50] Loss: 1.7925\n"
     ]
    },
    {
     "name": "stderr",
     "output_type": "stream",
     "text": [
      "1010it [05:39,  2.98it/s]\n"
     ]
    },
    {
     "name": "stdout",
     "output_type": "stream",
     "text": [
      "Overall Acc: \t 0.534730354118\n",
      "Mean Acc : \t 0.114551921545\n",
      "FreqW Acc : \t 0.35478629699\n",
      "Mean IoU : \t 0.0808603785403\n",
      "Epoch [5/50] Loss: 1.0786\n",
      "Epoch [5/50] Loss: 1.5670\n",
      "Epoch [5/50] Loss: 2.0559\n",
      "Epoch [5/50] Loss: 1.6138\n",
      "Epoch [5/50] Loss: 1.2560\n",
      "Epoch [5/50] Loss: 1.9480\n",
      "Epoch [5/50] Loss: 1.6764\n",
      "Epoch [5/50] Loss: 1.8446\n",
      "Epoch [5/50] Loss: 1.5491\n",
      "Epoch [5/50] Loss: 1.5905\n"
     ]
    },
    {
     "name": "stderr",
     "output_type": "stream",
     "text": [
      "1010it [05:38,  2.98it/s]\n"
     ]
    },
    {
     "name": "stdout",
     "output_type": "stream",
     "text": [
      "Overall Acc: \t 0.544570458207\n",
      "Mean Acc : \t 0.122974905051\n",
      "FreqW Acc : \t 0.364909392038\n",
      "Mean IoU : \t 0.0863111698403\n",
      "Epoch [6/50] Loss: 1.6474\n",
      "Epoch [6/50] Loss: 2.1015\n",
      "Epoch [6/50] Loss: 1.4497\n",
      "Epoch [6/50] Loss: 1.4168\n",
      "Epoch [6/50] Loss: 1.5580\n",
      "Epoch [6/50] Loss: 1.8453\n",
      "Epoch [6/50] Loss: 1.2952\n",
      "Epoch [6/50] Loss: 1.2084\n",
      "Epoch [6/50] Loss: 2.0944\n",
      "Epoch [6/50] Loss: 1.4680\n"
     ]
    },
    {
     "name": "stderr",
     "output_type": "stream",
     "text": [
      "1010it [05:39,  2.98it/s]\n"
     ]
    },
    {
     "name": "stdout",
     "output_type": "stream",
     "text": [
      "Overall Acc: \t 0.547852309734\n",
      "Mean Acc : \t 0.132892146429\n",
      "FreqW Acc : \t 0.369429604737\n",
      "Mean IoU : \t 0.0932880079638\n",
      "Epoch [7/50] Loss: 2.0344\n",
      "Epoch [7/50] Loss: 1.9374\n",
      "Epoch [7/50] Loss: 1.3019\n",
      "Epoch [7/50] Loss: 1.2802\n",
      "Epoch [7/50] Loss: 1.2702\n",
      "Epoch [7/50] Loss: 1.5261\n",
      "Epoch [7/50] Loss: 1.6912\n",
      "Epoch [7/50] Loss: 1.5698\n",
      "Epoch [7/50] Loss: 1.5523\n",
      "Epoch [7/50] Loss: 2.1518\n"
     ]
    },
    {
     "name": "stderr",
     "output_type": "stream",
     "text": [
      "1010it [05:40,  2.96it/s]\n"
     ]
    },
    {
     "name": "stdout",
     "output_type": "stream",
     "text": [
      "Overall Acc: \t 0.553605879826\n",
      "Mean Acc : \t 0.136399478331\n",
      "FreqW Acc : \t 0.376682159022\n",
      "Mean IoU : \t 0.0985222267403\n",
      "Epoch [8/50] Loss: 1.8500\n",
      "Epoch [8/50] Loss: 1.5547\n",
      "Epoch [8/50] Loss: 1.2902\n",
      "Epoch [8/50] Loss: 1.6685\n",
      "Epoch [8/50] Loss: 1.1730\n",
      "Epoch [8/50] Loss: 1.6845\n",
      "Epoch [8/50] Loss: 1.2988\n",
      "Epoch [8/50] Loss: 1.5427\n",
      "Epoch [8/50] Loss: 1.3650\n",
      "Epoch [8/50] Loss: 1.5010\n"
     ]
    },
    {
     "name": "stderr",
     "output_type": "stream",
     "text": [
      "1010it [05:38,  2.99it/s]\n"
     ]
    },
    {
     "name": "stdout",
     "output_type": "stream",
     "text": [
      "Overall Acc: \t 0.557553007222\n",
      "Mean Acc : \t 0.143016458991\n",
      "FreqW Acc : \t 0.381891238574\n",
      "Mean IoU : \t 0.104021444048\n",
      "Epoch [9/50] Loss: 1.4439\n",
      "Epoch [9/50] Loss: 1.4737\n",
      "Epoch [9/50] Loss: 1.4701\n",
      "Epoch [9/50] Loss: 1.2591\n",
      "Epoch [9/50] Loss: 1.2069\n",
      "Epoch [9/50] Loss: 1.3079\n",
      "Epoch [9/50] Loss: 1.3376\n",
      "Epoch [9/50] Loss: 1.2963\n",
      "Epoch [9/50] Loss: 1.7391\n",
      "Epoch [9/50] Loss: 1.5946\n"
     ]
    },
    {
     "name": "stderr",
     "output_type": "stream",
     "text": [
      "1010it [05:39,  2.98it/s]\n"
     ]
    },
    {
     "name": "stdout",
     "output_type": "stream",
     "text": [
      "Overall Acc: \t 0.561258745673\n",
      "Mean Acc : \t 0.151909123438\n",
      "FreqW Acc : \t 0.38263072392\n",
      "Mean IoU : \t 0.109910790051\n",
      "Epoch [10/50] Loss: 1.7725\n",
      "Epoch [10/50] Loss: 1.4182\n",
      "Epoch [10/50] Loss: 1.2880\n",
      "Epoch [10/50] Loss: 1.1219\n",
      "Epoch [10/50] Loss: 1.5013\n",
      "Epoch [10/50] Loss: 1.2400\n",
      "Epoch [10/50] Loss: 1.6215\n",
      "Epoch [10/50] Loss: 1.1212\n",
      "Epoch [10/50] Loss: 1.9191\n",
      "Epoch [10/50] Loss: 1.1122\n"
     ]
    },
    {
     "name": "stderr",
     "output_type": "stream",
     "text": [
      "1010it [05:42,  2.95it/s]\n"
     ]
    },
    {
     "name": "stdout",
     "output_type": "stream",
     "text": [
      "Overall Acc: \t 0.56696003579\n",
      "Mean Acc : \t 0.165096123026\n",
      "FreqW Acc : \t 0.391086797806\n",
      "Mean IoU : \t 0.117868953284\n",
      "Epoch [11/50] Loss: 1.5809\n",
      "Epoch [11/50] Loss: 1.3116\n",
      "Epoch [11/50] Loss: 1.7693\n",
      "Epoch [11/50] Loss: 1.3816\n",
      "Epoch [11/50] Loss: 1.2149\n",
      "Epoch [11/50] Loss: 1.0842\n",
      "Epoch [11/50] Loss: 1.4243\n",
      "Epoch [11/50] Loss: 1.3275\n",
      "Epoch [11/50] Loss: 1.3610\n",
      "Epoch [11/50] Loss: 1.2518\n"
     ]
    },
    {
     "name": "stderr",
     "output_type": "stream",
     "text": [
      "1010it [05:39,  2.97it/s]\n"
     ]
    },
    {
     "name": "stdout",
     "output_type": "stream",
     "text": [
      "Overall Acc: \t 0.562889293002\n",
      "Mean Acc : \t 0.161241846484\n",
      "FreqW Acc : \t 0.389724596536\n",
      "Mean IoU : \t 0.119367443494\n",
      "Epoch [12/50] Loss: 1.4050\n",
      "Epoch [12/50] Loss: 1.4588\n",
      "Epoch [12/50] Loss: 1.6562\n",
      "Epoch [12/50] Loss: 0.9781\n",
      "Epoch [12/50] Loss: 1.4771\n",
      "Epoch [12/50] Loss: 1.5831\n",
      "Epoch [12/50] Loss: 1.4740\n",
      "Epoch [12/50] Loss: 1.4189\n",
      "Epoch [12/50] Loss: 1.2075\n",
      "Epoch [12/50] Loss: 2.1801\n"
     ]
    },
    {
     "name": "stderr",
     "output_type": "stream",
     "text": [
      "1010it [05:40,  2.96it/s]\n"
     ]
    },
    {
     "name": "stdout",
     "output_type": "stream",
     "text": [
      "Overall Acc: \t 0.569189734224\n",
      "Mean Acc : \t 0.170894260423\n",
      "FreqW Acc : \t 0.392383487852\n",
      "Mean IoU : \t 0.125500244989\n",
      "Epoch [13/50] Loss: 1.0712\n",
      "Epoch [13/50] Loss: 1.2185\n",
      "Epoch [13/50] Loss: 1.5410\n",
      "Epoch [13/50] Loss: 1.2343\n",
      "Epoch [13/50] Loss: 1.2464\n",
      "Epoch [13/50] Loss: 1.5956\n",
      "Epoch [13/50] Loss: 1.3481\n",
      "Epoch [13/50] Loss: 1.4907\n",
      "Epoch [13/50] Loss: 1.1679\n",
      "Epoch [13/50] Loss: 1.2607\n"
     ]
    },
    {
     "name": "stderr",
     "output_type": "stream",
     "text": [
      "1010it [05:39,  2.97it/s]\n"
     ]
    },
    {
     "name": "stdout",
     "output_type": "stream",
     "text": [
      "Overall Acc: \t 0.571973584652\n",
      "Mean Acc : \t 0.200275333803\n",
      "FreqW Acc : \t 0.399347696887\n",
      "Mean IoU : \t 0.140519749083\n",
      "Epoch [14/50] Loss: 1.1996\n",
      "Epoch [14/50] Loss: 1.3150\n",
      "Epoch [14/50] Loss: 1.4013\n",
      "Epoch [14/50] Loss: 1.2761\n",
      "Epoch [14/50] Loss: 0.9674\n",
      "Epoch [14/50] Loss: 1.4841\n",
      "Epoch [14/50] Loss: 1.0972\n",
      "Epoch [14/50] Loss: 1.1122\n",
      "Epoch [14/50] Loss: 1.5500\n",
      "Epoch [14/50] Loss: 1.5200\n"
     ]
    },
    {
     "name": "stderr",
     "output_type": "stream",
     "text": [
      "1010it [05:39,  2.98it/s]"
     ]
    },
    {
     "name": "stdout",
     "output_type": "stream",
     "text": [
      "Overall Acc: \t 0.567096849314\n",
      "Mean Acc : \t 0.182539890984\n",
      "FreqW Acc : \t 0.392373765095\n",
      "Mean IoU : \t 0.134674850888\n"
     ]
    },
    {
     "name": "stderr",
     "output_type": "stream",
     "text": [
      "\n"
     ]
    },
    {
     "name": "stdout",
     "output_type": "stream",
     "text": [
      "Epoch [15/50] Loss: 1.2171\n",
      "Epoch [15/50] Loss: 1.1192\n",
      "Epoch [15/50] Loss: 1.8398\n",
      "Epoch [15/50] Loss: 1.3279\n",
      "Epoch [15/50] Loss: 1.7052\n",
      "Epoch [15/50] Loss: 1.3003\n",
      "Epoch [15/50] Loss: 1.4781\n",
      "Epoch [15/50] Loss: 1.1099\n",
      "Epoch [15/50] Loss: 1.2071\n",
      "Epoch [15/50] Loss: 1.7225\n"
     ]
    },
    {
     "name": "stderr",
     "output_type": "stream",
     "text": [
      "1010it [05:38,  2.99it/s]"
     ]
    },
    {
     "name": "stdout",
     "output_type": "stream",
     "text": [
      "Overall Acc: \t 0.575391309696\n",
      "Mean Acc : \t 0.187405589437\n",
      "FreqW Acc : \t 0.401707574252\n",
      "Mean IoU : \t 0.139503964135\n"
     ]
    },
    {
     "name": "stderr",
     "output_type": "stream",
     "text": [
      "\n"
     ]
    },
    {
     "name": "stdout",
     "output_type": "stream",
     "text": [
      "Epoch [16/50] Loss: 1.3118\n",
      "Epoch [16/50] Loss: 1.1785\n",
      "Epoch [16/50] Loss: 1.7397\n",
      "Epoch [16/50] Loss: 1.0151\n",
      "Epoch [16/50] Loss: 1.4996\n",
      "Epoch [16/50] Loss: 1.3414\n",
      "Epoch [16/50] Loss: 1.2104\n",
      "Epoch [16/50] Loss: 1.5603\n",
      "Epoch [16/50] Loss: 1.4015\n",
      "Epoch [16/50] Loss: 0.9929\n"
     ]
    },
    {
     "name": "stderr",
     "output_type": "stream",
     "text": [
      "1010it [05:38,  2.99it/s]\n"
     ]
    },
    {
     "name": "stdout",
     "output_type": "stream",
     "text": [
      "Overall Acc: \t 0.571708830286\n",
      "Mean Acc : \t 0.191025141798\n",
      "FreqW Acc : \t 0.398776936856\n",
      "Mean IoU : \t 0.141144334211\n",
      "Epoch [17/50] Loss: 1.2380\n",
      "Epoch [17/50] Loss: 1.3806\n",
      "Epoch [17/50] Loss: 1.2939\n",
      "Epoch [17/50] Loss: 1.7435\n",
      "Epoch [17/50] Loss: 1.2157\n",
      "Epoch [17/50] Loss: 1.2798\n",
      "Epoch [17/50] Loss: 1.3436\n",
      "Epoch [17/50] Loss: 1.0716\n",
      "Epoch [17/50] Loss: 1.8944\n",
      "Epoch [17/50] Loss: 1.4877\n"
     ]
    },
    {
     "name": "stderr",
     "output_type": "stream",
     "text": [
      "1010it [05:37,  2.99it/s]\n"
     ]
    },
    {
     "name": "stdout",
     "output_type": "stream",
     "text": [
      "Overall Acc: \t 0.578935579756\n",
      "Mean Acc : \t 0.206366596713\n",
      "FreqW Acc : \t 0.410454100879\n",
      "Mean IoU : \t 0.147683249061\n",
      "Epoch [18/50] Loss: 0.9803\n",
      "Epoch [18/50] Loss: 1.3563\n",
      "Epoch [18/50] Loss: 1.2663\n",
      "Epoch [18/50] Loss: 1.2629\n",
      "Epoch [18/50] Loss: 1.3877\n",
      "Epoch [18/50] Loss: 1.4552\n",
      "Epoch [18/50] Loss: 1.5029\n",
      "Epoch [18/50] Loss: 1.1427\n",
      "Epoch [18/50] Loss: 1.1436\n",
      "Epoch [18/50] Loss: 1.4594\n"
     ]
    },
    {
     "name": "stderr",
     "output_type": "stream",
     "text": [
      "1010it [05:39,  2.97it/s]"
     ]
    },
    {
     "name": "stdout",
     "output_type": "stream",
     "text": [
      "Overall Acc: \t 0.578517019537\n",
      "Mean Acc : \t 0.188464301497\n",
      "FreqW Acc : \t 0.406604952129\n",
      "Mean IoU : \t 0.141917509514\n"
     ]
    },
    {
     "name": "stderr",
     "output_type": "stream",
     "text": [
      "\n"
     ]
    },
    {
     "name": "stdout",
     "output_type": "stream",
     "text": [
      "Epoch [19/50] Loss: 1.2225\n",
      "Epoch [19/50] Loss: 1.1571\n",
      "Epoch [19/50] Loss: 1.2625\n",
      "Epoch [19/50] Loss: 1.1116\n",
      "Epoch [19/50] Loss: 0.6700\n",
      "Epoch [19/50] Loss: 1.4212\n",
      "Epoch [19/50] Loss: 1.2549\n",
      "Epoch [19/50] Loss: 1.0985\n",
      "Epoch [19/50] Loss: 1.4399\n",
      "Epoch [19/50] Loss: 1.0651\n"
     ]
    },
    {
     "name": "stderr",
     "output_type": "stream",
     "text": [
      "1010it [05:40,  2.97it/s]"
     ]
    },
    {
     "name": "stdout",
     "output_type": "stream",
     "text": [
      "Overall Acc: \t 0.57849474112\n",
      "Mean Acc : \t 0.198831581758\n",
      "FreqW Acc : \t 0.40555844046\n",
      "Mean IoU : \t 0.146381572368\n"
     ]
    },
    {
     "name": "stderr",
     "output_type": "stream",
     "text": [
      "\n"
     ]
    },
    {
     "name": "stdout",
     "output_type": "stream",
     "text": [
      "Epoch [20/50] Loss: 1.3011\n",
      "Epoch [20/50] Loss: 1.2000\n",
      "Epoch [20/50] Loss: 1.5640\n",
      "Epoch [20/50] Loss: 1.4075\n",
      "Epoch [20/50] Loss: 1.6376\n",
      "Epoch [20/50] Loss: 1.0654\n",
      "Epoch [20/50] Loss: 0.9458\n",
      "Epoch [20/50] Loss: 1.1171\n",
      "Epoch [20/50] Loss: 1.4852\n",
      "Epoch [20/50] Loss: 0.9434\n"
     ]
    },
    {
     "name": "stderr",
     "output_type": "stream",
     "text": [
      "1010it [05:43,  2.94it/s]\n"
     ]
    },
    {
     "name": "stdout",
     "output_type": "stream",
     "text": [
      "Overall Acc: \t 0.583364708152\n",
      "Mean Acc : \t 0.207370517698\n",
      "FreqW Acc : \t 0.41311825593\n",
      "Mean IoU : \t 0.152088273927\n",
      "Epoch [21/50] Loss: 1.4633\n",
      "Epoch [21/50] Loss: 1.4701\n",
      "Epoch [21/50] Loss: 1.3283\n",
      "Epoch [21/50] Loss: 1.9013\n",
      "Epoch [21/50] Loss: 1.0741\n",
      "Epoch [21/50] Loss: 1.0817\n",
      "Epoch [21/50] Loss: 0.9729\n",
      "Epoch [21/50] Loss: 1.1046\n",
      "Epoch [21/50] Loss: 1.4271\n",
      "Epoch [21/50] Loss: 1.2289\n"
     ]
    },
    {
     "name": "stderr",
     "output_type": "stream",
     "text": [
      "1010it [05:39,  2.98it/s]\n"
     ]
    },
    {
     "name": "stdout",
     "output_type": "stream",
     "text": [
      "Overall Acc: \t 0.586098483559\n",
      "Mean Acc : \t 0.204171274863\n",
      "FreqW Acc : \t 0.412573104391\n",
      "Mean IoU : \t 0.153544410825\n",
      "Epoch [22/50] Loss: 1.0273\n",
      "Epoch [22/50] Loss: 1.2436\n",
      "Epoch [22/50] Loss: 1.3399\n",
      "Epoch [22/50] Loss: 1.2008\n",
      "Epoch [22/50] Loss: 1.0467\n",
      "Epoch [22/50] Loss: 1.2039\n",
      "Epoch [22/50] Loss: 1.4283\n",
      "Epoch [22/50] Loss: 0.7626\n",
      "Epoch [22/50] Loss: 1.3358\n",
      "Epoch [22/50] Loss: 1.1296\n"
     ]
    },
    {
     "name": "stderr",
     "output_type": "stream",
     "text": [
      "1010it [05:40,  2.97it/s]\n"
     ]
    },
    {
     "name": "stdout",
     "output_type": "stream",
     "text": [
      "Overall Acc: \t 0.584012185788\n",
      "Mean Acc : \t 0.210523217638\n",
      "FreqW Acc : \t 0.414560260821\n",
      "Mean IoU : \t 0.157747649178\n",
      "Epoch [23/50] Loss: 1.3998\n",
      "Epoch [23/50] Loss: 1.5688\n",
      "Epoch [23/50] Loss: 1.3566\n",
      "Epoch [23/50] Loss: 1.2421\n",
      "Epoch [23/50] Loss: 1.2511\n",
      "Epoch [23/50] Loss: 1.4080\n",
      "Epoch [23/50] Loss: 1.1275\n",
      "Epoch [23/50] Loss: 1.1523\n",
      "Epoch [23/50] Loss: 0.8571\n",
      "Epoch [23/50] Loss: 0.8396\n"
     ]
    },
    {
     "name": "stderr",
     "output_type": "stream",
     "text": [
      "1010it [05:39,  2.97it/s]"
     ]
    },
    {
     "name": "stdout",
     "output_type": "stream",
     "text": [
      "Overall Acc: \t 0.584993910588\n",
      "Mean Acc : \t 0.20648723914\n",
      "FreqW Acc : \t 0.412202195586\n",
      "Mean IoU : \t 0.154362830081\n"
     ]
    },
    {
     "name": "stderr",
     "output_type": "stream",
     "text": [
      "\n"
     ]
    },
    {
     "name": "stdout",
     "output_type": "stream",
     "text": [
      "Epoch [24/50] Loss: 1.2222\n",
      "Epoch [24/50] Loss: 1.1009\n",
      "Epoch [24/50] Loss: 1.2128\n",
      "Epoch [24/50] Loss: 1.3739\n",
      "Epoch [24/50] Loss: 1.4480\n",
      "Epoch [24/50] Loss: 0.9841\n",
      "Epoch [24/50] Loss: 1.4185\n",
      "Epoch [24/50] Loss: 0.8096\n",
      "Epoch [24/50] Loss: 1.1271\n",
      "Epoch [24/50] Loss: 1.3331\n"
     ]
    },
    {
     "name": "stderr",
     "output_type": "stream",
     "text": [
      "1010it [05:39,  2.98it/s]\n"
     ]
    },
    {
     "name": "stdout",
     "output_type": "stream",
     "text": [
      "Overall Acc: \t 0.584331832546\n",
      "Mean Acc : \t 0.211625990023\n",
      "FreqW Acc : \t 0.414203137997\n",
      "Mean IoU : \t 0.158230226112\n",
      "Epoch [25/50] Loss: 1.2271\n",
      "Epoch [25/50] Loss: 1.3433\n",
      "Epoch [25/50] Loss: 1.1711\n",
      "Epoch [25/50] Loss: 1.1349\n",
      "Epoch [25/50] Loss: 1.0750\n",
      "Epoch [25/50] Loss: 0.6794\n",
      "Epoch [25/50] Loss: 1.5118\n",
      "Epoch [25/50] Loss: 1.4836\n",
      "Epoch [25/50] Loss: 1.4919\n",
      "Epoch [25/50] Loss: 1.1167\n"
     ]
    },
    {
     "name": "stderr",
     "output_type": "stream",
     "text": [
      "1010it [05:40,  2.97it/s]\n"
     ]
    },
    {
     "name": "stdout",
     "output_type": "stream",
     "text": [
      "Overall Acc: \t 0.585357230263\n",
      "Mean Acc : \t 0.219002981235\n",
      "FreqW Acc : \t 0.417155631874\n",
      "Mean IoU : \t 0.16373900576\n",
      "Epoch [26/50] Loss: 1.1342\n",
      "Epoch [26/50] Loss: 1.0306\n",
      "Epoch [26/50] Loss: 1.2310\n",
      "Epoch [26/50] Loss: 1.5024\n",
      "Epoch [26/50] Loss: 1.4017\n",
      "Epoch [26/50] Loss: 1.0974\n",
      "Epoch [26/50] Loss: 0.8552\n",
      "Epoch [26/50] Loss: 1.3144\n",
      "Epoch [26/50] Loss: 1.2906\n",
      "Epoch [26/50] Loss: 1.4331\n"
     ]
    },
    {
     "name": "stderr",
     "output_type": "stream",
     "text": [
      "1010it [05:39,  2.97it/s]\n"
     ]
    },
    {
     "name": "stdout",
     "output_type": "stream",
     "text": [
      "Overall Acc: \t 0.587803582831\n",
      "Mean Acc : \t 0.236576026563\n",
      "FreqW Acc : \t 0.420426066369\n",
      "Mean IoU : \t 0.172744907714\n",
      "Epoch [27/50] Loss: 0.9513\n",
      "Epoch [27/50] Loss: 1.0994\n",
      "Epoch [27/50] Loss: 1.0164\n",
      "Epoch [27/50] Loss: 1.2239\n",
      "Epoch [27/50] Loss: 1.6304\n",
      "Epoch [27/50] Loss: 1.2993\n",
      "Epoch [27/50] Loss: 0.9983\n",
      "Epoch [27/50] Loss: 1.0404\n",
      "Epoch [27/50] Loss: 1.1737\n",
      "Epoch [27/50] Loss: 0.9526\n"
     ]
    },
    {
     "name": "stderr",
     "output_type": "stream",
     "text": [
      "1010it [05:40,  2.97it/s]"
     ]
    },
    {
     "name": "stdout",
     "output_type": "stream",
     "text": [
      "Overall Acc: \t 0.590164755191\n",
      "Mean Acc : \t 0.235669656842\n",
      "FreqW Acc : \t 0.42339601678\n",
      "Mean IoU : \t 0.17115454172\n"
     ]
    },
    {
     "name": "stderr",
     "output_type": "stream",
     "text": [
      "\n"
     ]
    },
    {
     "name": "stdout",
     "output_type": "stream",
     "text": [
      "Epoch [28/50] Loss: 1.2628\n",
      "Epoch [28/50] Loss: 1.1647\n",
      "Epoch [28/50] Loss: 1.1034\n",
      "Epoch [28/50] Loss: 1.1712\n",
      "Epoch [28/50] Loss: 1.5263\n",
      "Epoch [28/50] Loss: 1.2926\n",
      "Epoch [28/50] Loss: 1.0601\n",
      "Epoch [28/50] Loss: 1.3218\n",
      "Epoch [28/50] Loss: 0.9179\n",
      "Epoch [28/50] Loss: 1.0888\n"
     ]
    },
    {
     "name": "stderr",
     "output_type": "stream",
     "text": [
      "1010it [05:38,  2.98it/s]"
     ]
    },
    {
     "name": "stdout",
     "output_type": "stream",
     "text": [
      "Overall Acc: \t 0.587745933601\n",
      "Mean Acc : \t 0.220722438789\n",
      "FreqW Acc : \t 0.416022575128\n",
      "Mean IoU : \t 0.165522129954\n"
     ]
    },
    {
     "name": "stderr",
     "output_type": "stream",
     "text": [
      "\n"
     ]
    },
    {
     "name": "stdout",
     "output_type": "stream",
     "text": [
      "Epoch [29/50] Loss: 0.9904\n",
      "Epoch [29/50] Loss: 0.9878\n",
      "Epoch [29/50] Loss: 1.2601\n",
      "Epoch [29/50] Loss: 1.0985\n",
      "Epoch [29/50] Loss: 1.3511\n",
      "Epoch [29/50] Loss: 1.2794\n",
      "Epoch [29/50] Loss: 1.3009\n",
      "Epoch [29/50] Loss: 0.9750\n",
      "Epoch [29/50] Loss: 1.2845\n",
      "Epoch [29/50] Loss: 1.2402\n"
     ]
    },
    {
     "name": "stderr",
     "output_type": "stream",
     "text": [
      "1010it [05:40,  2.97it/s]"
     ]
    },
    {
     "name": "stdout",
     "output_type": "stream",
     "text": [
      "Overall Acc: \t 0.592244049977\n",
      "Mean Acc : \t 0.22518121943\n",
      "FreqW Acc : \t 0.425335073005\n",
      "Mean IoU : \t 0.169078507839\n"
     ]
    },
    {
     "name": "stderr",
     "output_type": "stream",
     "text": [
      "\n"
     ]
    },
    {
     "name": "stdout",
     "output_type": "stream",
     "text": [
      "Epoch [30/50] Loss: 1.0632\n",
      "Epoch [30/50] Loss: 0.9893\n",
      "Epoch [30/50] Loss: 1.0634\n",
      "Epoch [30/50] Loss: 0.9549\n",
      "Epoch [30/50] Loss: 1.1625\n",
      "Epoch [30/50] Loss: 1.0423\n",
      "Epoch [30/50] Loss: 1.1910\n",
      "Epoch [30/50] Loss: 0.8152\n",
      "Epoch [30/50] Loss: 1.4770\n",
      "Epoch [30/50] Loss: 1.0860\n"
     ]
    },
    {
     "name": "stderr",
     "output_type": "stream",
     "text": [
      "1010it [05:38,  2.98it/s]"
     ]
    },
    {
     "name": "stdout",
     "output_type": "stream",
     "text": [
      "Overall Acc: \t 0.590390728156\n",
      "Mean Acc : \t 0.22165740483\n",
      "FreqW Acc : \t 0.422775935484\n",
      "Mean IoU : \t 0.168925000161\n"
     ]
    },
    {
     "name": "stderr",
     "output_type": "stream",
     "text": [
      "\n"
     ]
    },
    {
     "name": "stdout",
     "output_type": "stream",
     "text": [
      "Epoch [31/50] Loss: 0.7958\n",
      "Epoch [31/50] Loss: 1.1554\n",
      "Epoch [31/50] Loss: 1.0536\n",
      "Epoch [31/50] Loss: 0.8772\n",
      "Epoch [31/50] Loss: 1.7765\n",
      "Epoch [31/50] Loss: 1.3926\n",
      "Epoch [31/50] Loss: 1.4835\n",
      "Epoch [31/50] Loss: 1.4550\n",
      "Epoch [31/50] Loss: 1.5766\n",
      "Epoch [31/50] Loss: 1.2452\n"
     ]
    },
    {
     "name": "stderr",
     "output_type": "stream",
     "text": [
      "1010it [05:39,  2.98it/s]\n"
     ]
    },
    {
     "name": "stdout",
     "output_type": "stream",
     "text": [
      "Overall Acc: \t 0.590004622667\n",
      "Mean Acc : \t 0.238292620257\n",
      "FreqW Acc : \t 0.426359945452\n",
      "Mean IoU : \t 0.17776821373\n",
      "Epoch [32/50] Loss: 1.0061\n",
      "Epoch [32/50] Loss: 1.0204\n",
      "Epoch [32/50] Loss: 1.2129\n",
      "Epoch [32/50] Loss: 1.0781\n",
      "Epoch [32/50] Loss: 1.1801\n",
      "Epoch [32/50] Loss: 1.3048\n",
      "Epoch [32/50] Loss: 1.0095\n",
      "Epoch [32/50] Loss: 1.0944\n",
      "Epoch [32/50] Loss: 1.1405\n",
      "Epoch [32/50] Loss: 1.1404\n"
     ]
    },
    {
     "name": "stderr",
     "output_type": "stream",
     "text": [
      "1010it [05:41,  2.96it/s]"
     ]
    },
    {
     "name": "stdout",
     "output_type": "stream",
     "text": [
      "Overall Acc: \t 0.59260449741\n",
      "Mean Acc : \t 0.234354198626\n",
      "FreqW Acc : \t 0.423501139958\n",
      "Mean IoU : \t 0.173420805203\n"
     ]
    },
    {
     "name": "stderr",
     "output_type": "stream",
     "text": [
      "\n"
     ]
    },
    {
     "name": "stdout",
     "output_type": "stream",
     "text": [
      "Epoch [33/50] Loss: 1.4506\n",
      "Epoch [33/50] Loss: 1.0210\n",
      "Epoch [33/50] Loss: 1.1595\n",
      "Epoch [33/50] Loss: 0.9896\n",
      "Epoch [33/50] Loss: 1.6026\n",
      "Epoch [33/50] Loss: 0.9297\n",
      "Epoch [33/50] Loss: 0.9005\n",
      "Epoch [33/50] Loss: 1.0221\n",
      "Epoch [33/50] Loss: 0.9314\n",
      "Epoch [33/50] Loss: 1.1497\n"
     ]
    },
    {
     "name": "stderr",
     "output_type": "stream",
     "text": [
      "1010it [05:40,  2.96it/s]"
     ]
    },
    {
     "name": "stdout",
     "output_type": "stream",
     "text": [
      "Overall Acc: \t 0.594079197691\n",
      "Mean Acc : \t 0.236686085103\n",
      "FreqW Acc : \t 0.423408389983\n",
      "Mean IoU : \t 0.175818966009\n"
     ]
    },
    {
     "name": "stderr",
     "output_type": "stream",
     "text": [
      "\n"
     ]
    },
    {
     "name": "stdout",
     "output_type": "stream",
     "text": [
      "Epoch [34/50] Loss: 0.9646\n",
      "Epoch [34/50] Loss: 0.8387\n",
      "Epoch [34/50] Loss: 1.0212\n",
      "Epoch [34/50] Loss: 1.1504\n",
      "Epoch [34/50] Loss: 1.2653\n",
      "Epoch [34/50] Loss: 1.1186\n",
      "Epoch [34/50] Loss: 1.1194\n",
      "Epoch [34/50] Loss: 0.8820\n",
      "Epoch [34/50] Loss: 1.0633\n",
      "Epoch [34/50] Loss: 1.1099\n"
     ]
    },
    {
     "name": "stderr",
     "output_type": "stream",
     "text": [
      "1010it [05:41,  2.96it/s]"
     ]
    },
    {
     "name": "stdout",
     "output_type": "stream",
     "text": [
      "Overall Acc: \t 0.593804554558\n",
      "Mean Acc : \t 0.238053489159\n",
      "FreqW Acc : \t 0.427995119855\n",
      "Mean IoU : \t 0.177201737602\n"
     ]
    },
    {
     "name": "stderr",
     "output_type": "stream",
     "text": [
      "\n"
     ]
    },
    {
     "name": "stdout",
     "output_type": "stream",
     "text": [
      "Epoch [35/50] Loss: 1.0871\n",
      "Epoch [35/50] Loss: 1.0288\n",
      "Epoch [35/50] Loss: 0.8407\n",
      "Epoch [35/50] Loss: 1.2576\n",
      "Epoch [35/50] Loss: 1.2831\n",
      "Epoch [35/50] Loss: 1.0217\n",
      "Epoch [35/50] Loss: 1.1944\n",
      "Epoch [35/50] Loss: 1.1200\n",
      "Epoch [35/50] Loss: 0.9116\n",
      "Epoch [35/50] Loss: 1.0240\n"
     ]
    },
    {
     "name": "stderr",
     "output_type": "stream",
     "text": [
      "1010it [05:39,  2.97it/s]\n"
     ]
    },
    {
     "name": "stdout",
     "output_type": "stream",
     "text": [
      "Overall Acc: \t 0.594539604326\n",
      "Mean Acc : \t 0.241296897376\n",
      "FreqW Acc : \t 0.425873188163\n",
      "Mean IoU : \t 0.179638497072\n",
      "Epoch [36/50] Loss: 0.7993\n",
      "Epoch [36/50] Loss: 1.3350\n",
      "Epoch [36/50] Loss: 1.5033\n",
      "Epoch [36/50] Loss: 1.2826\n",
      "Epoch [36/50] Loss: 0.8868\n",
      "Epoch [36/50] Loss: 1.0973\n",
      "Epoch [36/50] Loss: 1.0694\n",
      "Epoch [36/50] Loss: 1.1708\n",
      "Epoch [36/50] Loss: 1.6182\n",
      "Epoch [36/50] Loss: 1.0199\n"
     ]
    },
    {
     "name": "stderr",
     "output_type": "stream",
     "text": [
      "1010it [05:39,  2.97it/s]"
     ]
    },
    {
     "name": "stdout",
     "output_type": "stream",
     "text": [
      "Overall Acc: \t 0.59448459008\n",
      "Mean Acc : \t 0.233090618597\n",
      "FreqW Acc : \t 0.425596694372\n",
      "Mean IoU : \t 0.176137185703\n"
     ]
    },
    {
     "name": "stderr",
     "output_type": "stream",
     "text": [
      "\n"
     ]
    },
    {
     "name": "stdout",
     "output_type": "stream",
     "text": [
      "Epoch [37/50] Loss: 1.0623\n",
      "Epoch [37/50] Loss: 1.1884\n",
      "Epoch [37/50] Loss: 1.0269\n",
      "Epoch [37/50] Loss: 1.2129\n",
      "Epoch [37/50] Loss: 0.8489\n",
      "Epoch [37/50] Loss: 1.0017\n",
      "Epoch [37/50] Loss: 1.1449\n",
      "Epoch [37/50] Loss: 0.9045\n",
      "Epoch [37/50] Loss: 0.8309\n",
      "Epoch [37/50] Loss: 1.3212\n"
     ]
    },
    {
     "name": "stderr",
     "output_type": "stream",
     "text": [
      "1010it [05:39,  2.97it/s]\n"
     ]
    },
    {
     "name": "stdout",
     "output_type": "stream",
     "text": [
      "Overall Acc: \t 0.595667071424\n",
      "Mean Acc : \t 0.241275514894\n",
      "FreqW Acc : \t 0.427566133176\n",
      "Mean IoU : \t 0.181225562585\n",
      "Epoch [38/50] Loss: 0.9728\n",
      "Epoch [38/50] Loss: 1.0124\n",
      "Epoch [38/50] Loss: 0.9534\n",
      "Epoch [38/50] Loss: 1.1441\n",
      "Epoch [38/50] Loss: 1.4374\n",
      "Epoch [38/50] Loss: 1.0688\n",
      "Epoch [38/50] Loss: 0.8787\n",
      "Epoch [38/50] Loss: 1.1799\n",
      "Epoch [38/50] Loss: 1.1185\n",
      "Epoch [38/50] Loss: 1.0652\n"
     ]
    },
    {
     "name": "stderr",
     "output_type": "stream",
     "text": [
      "1010it [05:38,  2.98it/s]"
     ]
    },
    {
     "name": "stdout",
     "output_type": "stream",
     "text": [
      "Overall Acc: \t 0.594936040217\n",
      "Mean Acc : \t 0.237023257417\n",
      "FreqW Acc : \t 0.431547346296\n",
      "Mean IoU : \t 0.180519585708\n"
     ]
    },
    {
     "name": "stderr",
     "output_type": "stream",
     "text": [
      "\n"
     ]
    },
    {
     "name": "stdout",
     "output_type": "stream",
     "text": [
      "Epoch [39/50] Loss: 0.8406\n",
      "Epoch [39/50] Loss: 1.1254\n",
      "Epoch [39/50] Loss: 1.2960\n",
      "Epoch [39/50] Loss: 1.2247\n",
      "Epoch [39/50] Loss: 1.1630\n",
      "Epoch [39/50] Loss: 1.0886\n",
      "Epoch [39/50] Loss: 1.1310\n",
      "Epoch [39/50] Loss: 0.8346\n",
      "Epoch [39/50] Loss: 1.2914\n",
      "Epoch [39/50] Loss: 1.1052\n"
     ]
    },
    {
     "name": "stderr",
     "output_type": "stream",
     "text": [
      "1010it [05:39,  2.98it/s]\n"
     ]
    },
    {
     "name": "stdout",
     "output_type": "stream",
     "text": [
      "Overall Acc: \t 0.595276142115\n",
      "Mean Acc : \t 0.246042793018\n",
      "FreqW Acc : \t 0.426843069534\n",
      "Mean IoU : \t 0.182816458472\n",
      "Epoch [40/50] Loss: 0.9728\n",
      "Epoch [40/50] Loss: 1.0691\n",
      "Epoch [40/50] Loss: 1.0252\n",
      "Epoch [40/50] Loss: 1.3343\n",
      "Epoch [40/50] Loss: 0.8196\n",
      "Epoch [40/50] Loss: 0.8575\n",
      "Epoch [40/50] Loss: 1.3953\n",
      "Epoch [40/50] Loss: 0.9924\n",
      "Epoch [40/50] Loss: 1.3187\n",
      "Epoch [40/50] Loss: 1.2797\n"
     ]
    },
    {
     "name": "stderr",
     "output_type": "stream",
     "text": [
      "1010it [05:39,  2.98it/s]\n"
     ]
    },
    {
     "name": "stdout",
     "output_type": "stream",
     "text": [
      "Overall Acc: \t 0.595665247502\n",
      "Mean Acc : \t 0.249174999741\n",
      "FreqW Acc : \t 0.428094750306\n",
      "Mean IoU : \t 0.184107447765\n",
      "Epoch [41/50] Loss: 0.9042\n",
      "Epoch [41/50] Loss: 0.9993\n",
      "Epoch [41/50] Loss: 0.9581\n",
      "Epoch [41/50] Loss: 1.1771\n",
      "Epoch [41/50] Loss: 1.3205\n",
      "Epoch [41/50] Loss: 0.9415\n",
      "Epoch [41/50] Loss: 1.1727\n",
      "Epoch [41/50] Loss: 0.7909\n",
      "Epoch [41/50] Loss: 1.4836\n",
      "Epoch [41/50] Loss: 0.9008\n"
     ]
    },
    {
     "name": "stderr",
     "output_type": "stream",
     "text": [
      "1010it [05:38,  2.98it/s]\n"
     ]
    },
    {
     "name": "stdout",
     "output_type": "stream",
     "text": [
      "Overall Acc: \t 0.59588597951\n",
      "Mean Acc : \t 0.254591642463\n",
      "FreqW Acc : \t 0.426761117243\n",
      "Mean IoU : \t 0.188092889261\n",
      "Epoch [42/50] Loss: 1.0080\n",
      "Epoch [42/50] Loss: 0.8039\n",
      "Epoch [42/50] Loss: 1.2007\n",
      "Epoch [42/50] Loss: 1.0341\n",
      "Epoch [42/50] Loss: 1.0817\n",
      "Epoch [42/50] Loss: 1.0375\n",
      "Epoch [42/50] Loss: 1.1468\n",
      "Epoch [42/50] Loss: 1.2209\n",
      "Epoch [42/50] Loss: 1.1550\n",
      "Epoch [42/50] Loss: 1.1641\n"
     ]
    },
    {
     "name": "stderr",
     "output_type": "stream",
     "text": [
      "1010it [05:39,  2.98it/s]"
     ]
    },
    {
     "name": "stdout",
     "output_type": "stream",
     "text": [
      "Overall Acc: \t 0.596603495381\n",
      "Mean Acc : \t 0.255763138818\n",
      "FreqW Acc : \t 0.425112847526\n",
      "Mean IoU : \t 0.187721697554\n"
     ]
    },
    {
     "name": "stderr",
     "output_type": "stream",
     "text": [
      "\n"
     ]
    },
    {
     "name": "stdout",
     "output_type": "stream",
     "text": [
      "Epoch [43/50] Loss: 0.8113\n",
      "Epoch [43/50] Loss: 1.1610\n",
      "Epoch [43/50] Loss: 1.1744\n",
      "Epoch [43/50] Loss: 1.1596\n",
      "Epoch [43/50] Loss: 0.8405\n",
      "Epoch [43/50] Loss: 0.8828\n",
      "Epoch [43/50] Loss: 1.0391\n",
      "Epoch [43/50] Loss: 1.0738\n",
      "Epoch [43/50] Loss: 0.9414\n",
      "Epoch [43/50] Loss: 1.2191\n"
     ]
    },
    {
     "name": "stderr",
     "output_type": "stream",
     "text": [
      "1010it [05:40,  2.97it/s]\n"
     ]
    },
    {
     "name": "stdout",
     "output_type": "stream",
     "text": [
      "Overall Acc: \t 0.594851737478\n",
      "Mean Acc : \t 0.260512037551\n",
      "FreqW Acc : \t 0.432788849393\n",
      "Mean IoU : \t 0.19044246129\n",
      "Epoch [44/50] Loss: 0.8269\n",
      "Epoch [44/50] Loss: 1.6390\n",
      "Epoch [44/50] Loss: 0.8116\n",
      "Epoch [44/50] Loss: 1.0345\n",
      "Epoch [44/50] Loss: 0.8619\n",
      "Epoch [44/50] Loss: 0.9450\n",
      "Epoch [44/50] Loss: 1.2291\n",
      "Epoch [44/50] Loss: 1.2107\n",
      "Epoch [44/50] Loss: 1.2581\n",
      "Epoch [44/50] Loss: 1.0258\n"
     ]
    },
    {
     "name": "stderr",
     "output_type": "stream",
     "text": [
      "1010it [05:41,  2.96it/s]\n"
     ]
    },
    {
     "name": "stdout",
     "output_type": "stream",
     "text": [
      "Overall Acc: \t 0.59460140493\n",
      "Mean Acc : \t 0.265863611434\n",
      "FreqW Acc : \t 0.427331397077\n",
      "Mean IoU : \t 0.192407172291\n",
      "Epoch [45/50] Loss: 1.0571\n",
      "Epoch [45/50] Loss: 1.1211\n",
      "Epoch [45/50] Loss: 0.9917\n",
      "Epoch [45/50] Loss: 0.8285\n",
      "Epoch [45/50] Loss: 1.1321\n",
      "Epoch [45/50] Loss: 0.8534\n",
      "Epoch [45/50] Loss: 0.7892\n",
      "Epoch [45/50] Loss: 0.7604\n",
      "Epoch [45/50] Loss: 1.0149\n",
      "Epoch [45/50] Loss: 1.2490\n"
     ]
    },
    {
     "name": "stderr",
     "output_type": "stream",
     "text": [
      "1010it [05:38,  2.99it/s]"
     ]
    },
    {
     "name": "stdout",
     "output_type": "stream",
     "text": [
      "Overall Acc: \t 0.594538927366\n",
      "Mean Acc : \t 0.256300535105\n",
      "FreqW Acc : \t 0.431975320132\n",
      "Mean IoU : \t 0.19077222857\n"
     ]
    },
    {
     "name": "stderr",
     "output_type": "stream",
     "text": [
      "\n"
     ]
    },
    {
     "name": "stdout",
     "output_type": "stream",
     "text": [
      "Epoch [46/50] Loss: 1.1521\n",
      "Epoch [46/50] Loss: 0.8106\n",
      "Epoch [46/50] Loss: 1.0781\n",
      "Epoch [46/50] Loss: 0.8234\n",
      "Epoch [46/50] Loss: 1.0715\n",
      "Epoch [46/50] Loss: 1.0789\n",
      "Epoch [46/50] Loss: 0.8752\n",
      "Epoch [46/50] Loss: 0.8466\n",
      "Epoch [46/50] Loss: 1.1365\n",
      "Epoch [46/50] Loss: 1.2844\n"
     ]
    },
    {
     "name": "stderr",
     "output_type": "stream",
     "text": [
      "1010it [05:38,  2.99it/s]"
     ]
    },
    {
     "name": "stdout",
     "output_type": "stream",
     "text": [
      "Overall Acc: \t 0.596362618345\n",
      "Mean Acc : \t 0.256142695479\n",
      "FreqW Acc : \t 0.431163394169\n",
      "Mean IoU : \t 0.189800561041\n"
     ]
    },
    {
     "name": "stderr",
     "output_type": "stream",
     "text": [
      "\n"
     ]
    },
    {
     "name": "stdout",
     "output_type": "stream",
     "text": [
      "Epoch [47/50] Loss: 0.7687\n",
      "Epoch [47/50] Loss: 0.7803\n",
      "Epoch [47/50] Loss: 0.6407\n",
      "Epoch [47/50] Loss: 1.0907\n",
      "Epoch [47/50] Loss: 1.1568\n",
      "Epoch [47/50] Loss: 0.8959\n",
      "Epoch [47/50] Loss: 0.9766\n",
      "Epoch [47/50] Loss: 1.2378\n",
      "Epoch [47/50] Loss: 0.7774\n",
      "Epoch [47/50] Loss: 0.9893\n"
     ]
    },
    {
     "name": "stderr",
     "output_type": "stream",
     "text": [
      "1010it [05:39,  2.97it/s]"
     ]
    },
    {
     "name": "stdout",
     "output_type": "stream",
     "text": [
      "Overall Acc: \t 0.597011947627\n",
      "Mean Acc : \t 0.264714036947\n",
      "FreqW Acc : \t 0.429910231999\n",
      "Mean IoU : \t 0.192276925463\n"
     ]
    },
    {
     "name": "stderr",
     "output_type": "stream",
     "text": [
      "\n"
     ]
    },
    {
     "name": "stdout",
     "output_type": "stream",
     "text": [
      "Epoch [48/50] Loss: 0.7732\n",
      "Epoch [48/50] Loss: 1.2540\n",
      "Epoch [48/50] Loss: 1.1372\n",
      "Epoch [48/50] Loss: 1.3680\n",
      "Epoch [48/50] Loss: 1.0050\n",
      "Epoch [48/50] Loss: 1.0420\n",
      "Epoch [48/50] Loss: 1.6446\n",
      "Epoch [48/50] Loss: 1.0908\n",
      "Epoch [48/50] Loss: 1.0341\n",
      "Epoch [48/50] Loss: 1.1297\n"
     ]
    },
    {
     "name": "stderr",
     "output_type": "stream",
     "text": [
      "1010it [05:38,  2.99it/s]\n"
     ]
    },
    {
     "name": "stdout",
     "output_type": "stream",
     "text": [
      "Overall Acc: \t 0.595837446024\n",
      "Mean Acc : \t 0.266454547827\n",
      "FreqW Acc : \t 0.433031108989\n",
      "Mean IoU : \t 0.195879720508\n",
      "Epoch [49/50] Loss: 0.8625\n",
      "Epoch [49/50] Loss: 0.8402\n",
      "Epoch [49/50] Loss: 0.8020\n",
      "Epoch [49/50] Loss: 1.0411\n",
      "Epoch [49/50] Loss: 1.0786\n",
      "Epoch [49/50] Loss: 1.1443\n",
      "Epoch [49/50] Loss: 1.1664\n",
      "Epoch [49/50] Loss: 1.1501\n",
      "Epoch [49/50] Loss: 1.2347\n",
      "Epoch [49/50] Loss: 0.9981\n"
     ]
    },
    {
     "name": "stderr",
     "output_type": "stream",
     "text": [
      "1010it [05:38,  2.98it/s]"
     ]
    },
    {
     "name": "stdout",
     "output_type": "stream",
     "text": [
      "Overall Acc: \t 0.59462570133\n",
      "Mean Acc : \t 0.258528418765\n",
      "FreqW Acc : \t 0.431819533728\n",
      "Mean IoU : \t 0.193144523576\n"
     ]
    },
    {
     "name": "stderr",
     "output_type": "stream",
     "text": [
      "\n"
     ]
    },
    {
     "name": "stdout",
     "output_type": "stream",
     "text": [
      "Epoch [50/50] Loss: 1.0764\n",
      "Epoch [50/50] Loss: 1.1849\n",
      "Epoch [50/50] Loss: 0.8979\n",
      "Epoch [50/50] Loss: 1.2864\n",
      "Epoch [50/50] Loss: 1.1036\n",
      "Epoch [50/50] Loss: 1.0558\n",
      "Epoch [50/50] Loss: 1.1574\n",
      "Epoch [50/50] Loss: 0.7344\n",
      "Epoch [50/50] Loss: 0.7038\n",
      "Epoch [50/50] Loss: 0.7423\n"
     ]
    },
    {
     "name": "stderr",
     "output_type": "stream",
     "text": [
      "1010it [05:40,  2.97it/s]\n"
     ]
    },
    {
     "name": "stdout",
     "output_type": "stream",
     "text": [
      "Overall Acc: \t 0.596151815722\n",
      "Mean Acc : \t 0.269922399062\n",
      "FreqW Acc : \t 0.432927836178\n",
      "Mean IoU : \t 0.199392760557\n"
     ]
    }
   ],
   "source": [
    "from utils import *\n",
    "\n",
    "arg_str = '--gpu_idx 0 ' \\\n",
    "          '--arch FCN_RGBHHA ' \\\n",
    "          '--input_type RGBHHA ' \\\n",
    "          '--dataset SUNRGBD ' \\\n",
    "          '--batch_size 5 ' \\\n",
    "          '--n_epoch 50'\n",
    "\n",
    "trainer = trainer(arg_str)\n",
    "trainer.model_init()\n",
    "trainer.training()"
   ]
  },
  {
   "cell_type": "code",
   "execution_count": null,
   "metadata": {},
   "outputs": [],
   "source": []
  }
 ],
 "metadata": {
  "kernelspec": {
   "display_name": "Python [conda env:pytorch]",
   "language": "python",
   "name": "conda-env-pytorch-py"
  },
  "language_info": {
   "codemirror_mode": {
    "name": "ipython",
    "version": 3
   },
   "file_extension": ".py",
   "mimetype": "text/x-python",
   "name": "python",
   "nbconvert_exporter": "python",
   "pygments_lexer": "ipython3",
   "version": "3.6.3"
  }
 },
 "nbformat": 4,
 "nbformat_minor": 2
}
