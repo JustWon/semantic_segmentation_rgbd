{
 "cells": [
  {
   "cell_type": "markdown",
   "metadata": {},
   "source": [
    "## 2018년 05월 21일 16시 55분 23초에 추가 ##\n",
    "- FCN_RGBD_Hybrid\n",
    "컬러 브랜치에는 masked conv\n",
    "뎁스 브랜치에는 renet layer \n",
    "해서 학습"
   ]
  },
  {
   "cell_type": "code",
   "execution_count": 1,
   "metadata": {},
   "outputs": [
    {
     "name": "stderr",
     "output_type": "stream",
     "text": [
      "/home/dongwonshin/.conda/envs/pytorch/lib/python3.6/site-packages/torch/nn/functional.py:1462: UserWarning: nn.functional.upsample_bilinear is deprecated. Use nn.functional.upsample instead.\n",
      "  warnings.warn(\"nn.functional.upsample_bilinear is deprecated. Use nn.functional.upsample instead.\")\n"
     ]
    },
    {
     "name": "stdout",
     "output_type": "stream",
     "text": [
      "Epoch [1/50] Loss: 2.5656\n",
      "Epoch [1/50] Loss: 1.7276\n"
     ]
    },
    {
     "name": "stderr",
     "output_type": "stream",
     "text": [
      "218it [01:01,  3.52it/s]\n"
     ]
    },
    {
     "name": "stdout",
     "output_type": "stream",
     "text": [
      "Overall Acc: \t 0.385788392544\n",
      "Mean Acc : \t 0.166959180007\n",
      "FreqW Acc : \t 0.208498683801\n",
      "Mean IoU : \t 0.0948465410911\n",
      "Epoch [2/50] Loss: 1.6246\n",
      "Epoch [2/50] Loss: 1.7362\n"
     ]
    },
    {
     "name": "stderr",
     "output_type": "stream",
     "text": [
      "218it [01:02,  3.50it/s]\n"
     ]
    },
    {
     "name": "stdout",
     "output_type": "stream",
     "text": [
      "Overall Acc: \t 0.453210416866\n",
      "Mean Acc : \t 0.232400954985\n",
      "FreqW Acc : \t 0.274281359344\n",
      "Mean IoU : \t 0.145834377284\n",
      "Epoch [3/50] Loss: 1.5821\n",
      "Epoch [3/50] Loss: 1.5631\n"
     ]
    },
    {
     "name": "stderr",
     "output_type": "stream",
     "text": [
      "218it [01:02,  3.51it/s]\n"
     ]
    },
    {
     "name": "stdout",
     "output_type": "stream",
     "text": [
      "Overall Acc: \t 0.483708563288\n",
      "Mean Acc : \t 0.26865294801\n",
      "FreqW Acc : \t 0.302389639474\n",
      "Mean IoU : \t 0.172910637649\n",
      "Epoch [4/50] Loss: 1.3592\n",
      "Epoch [4/50] Loss: 0.9907\n"
     ]
    },
    {
     "name": "stderr",
     "output_type": "stream",
     "text": [
      "218it [01:01,  3.53it/s]\n"
     ]
    },
    {
     "name": "stdout",
     "output_type": "stream",
     "text": [
      "Overall Acc: \t 0.505094744481\n",
      "Mean Acc : \t 0.311423038802\n",
      "FreqW Acc : \t 0.332276260176\n",
      "Mean IoU : \t 0.209728425179\n",
      "Epoch [5/50] Loss: 1.2637\n",
      "Epoch [5/50] Loss: 1.5769\n"
     ]
    },
    {
     "name": "stderr",
     "output_type": "stream",
     "text": [
      "218it [01:01,  3.55it/s]\n"
     ]
    },
    {
     "name": "stdout",
     "output_type": "stream",
     "text": [
      "Overall Acc: \t 0.52213050399\n",
      "Mean Acc : \t 0.334300181691\n",
      "FreqW Acc : \t 0.344257193308\n",
      "Mean IoU : \t 0.227185263317\n",
      "Epoch [6/50] Loss: 1.5565\n",
      "Epoch [6/50] Loss: 1.1889\n"
     ]
    },
    {
     "name": "stderr",
     "output_type": "stream",
     "text": [
      "218it [01:01,  3.52it/s]\n"
     ]
    },
    {
     "name": "stdout",
     "output_type": "stream",
     "text": [
      "Overall Acc: \t 0.537254376115\n",
      "Mean Acc : \t 0.359049850501\n",
      "FreqW Acc : \t 0.364386339457\n",
      "Mean IoU : \t 0.249873630235\n",
      "Epoch [7/50] Loss: 1.3174\n",
      "Epoch [7/50] Loss: 1.3691\n"
     ]
    },
    {
     "name": "stderr",
     "output_type": "stream",
     "text": [
      "218it [01:02,  3.51it/s]\n"
     ]
    },
    {
     "name": "stdout",
     "output_type": "stream",
     "text": [
      "Overall Acc: \t 0.545493223791\n",
      "Mean Acc : \t 0.366707380049\n",
      "FreqW Acc : \t 0.369902165971\n",
      "Mean IoU : \t 0.258042034774\n",
      "Epoch [8/50] Loss: 1.2365\n",
      "Epoch [8/50] Loss: 1.2947\n"
     ]
    },
    {
     "name": "stderr",
     "output_type": "stream",
     "text": [
      "218it [01:02,  3.51it/s]\n"
     ]
    },
    {
     "name": "stdout",
     "output_type": "stream",
     "text": [
      "Overall Acc: \t 0.552543761149\n",
      "Mean Acc : \t 0.382657570275\n",
      "FreqW Acc : \t 0.378926269904\n",
      "Mean IoU : \t 0.268017873003\n",
      "Epoch [9/50] Loss: 1.1438\n",
      "Epoch [9/50] Loss: 0.8709\n"
     ]
    },
    {
     "name": "stderr",
     "output_type": "stream",
     "text": [
      "218it [01:02,  3.51it/s]\n"
     ]
    },
    {
     "name": "stdout",
     "output_type": "stream",
     "text": [
      "Overall Acc: \t 0.55836127636\n",
      "Mean Acc : \t 0.395580768191\n",
      "FreqW Acc : \t 0.383348261122\n",
      "Mean IoU : \t 0.275243019686\n",
      "Epoch [10/50] Loss: 0.8611\n",
      "Epoch [10/50] Loss: 1.1937\n"
     ]
    },
    {
     "name": "stderr",
     "output_type": "stream",
     "text": [
      "218it [01:02,  3.51it/s]\n"
     ]
    },
    {
     "name": "stdout",
     "output_type": "stream",
     "text": [
      "Overall Acc: \t 0.564041774178\n",
      "Mean Acc : \t 0.404762792404\n",
      "FreqW Acc : \t 0.390170726576\n",
      "Mean IoU : \t 0.285308415325\n",
      "Epoch [11/50] Loss: 1.0331\n",
      "Epoch [11/50] Loss: 1.1818\n"
     ]
    },
    {
     "name": "stderr",
     "output_type": "stream",
     "text": [
      "218it [01:02,  3.50it/s]\n"
     ]
    },
    {
     "name": "stdout",
     "output_type": "stream",
     "text": [
      "Overall Acc: \t 0.569911163672\n",
      "Mean Acc : \t 0.4178687336\n",
      "FreqW Acc : \t 0.401202600264\n",
      "Mean IoU : \t 0.295932820566\n",
      "Epoch [12/50] Loss: 1.5595\n",
      "Epoch [12/50] Loss: 1.3330\n"
     ]
    },
    {
     "name": "stderr",
     "output_type": "stream",
     "text": [
      "218it [01:01,  3.55it/s]\n"
     ]
    },
    {
     "name": "stdout",
     "output_type": "stream",
     "text": [
      "Overall Acc: \t 0.571388983459\n",
      "Mean Acc : \t 0.419085434849\n",
      "FreqW Acc : \t 0.398299227759\n",
      "Mean IoU : \t 0.295993993021\n",
      "Epoch [13/50] Loss: 1.0019\n",
      "Epoch [13/50] Loss: 0.9794\n"
     ]
    },
    {
     "name": "stderr",
     "output_type": "stream",
     "text": [
      "218it [01:01,  3.55it/s]\n"
     ]
    },
    {
     "name": "stdout",
     "output_type": "stream",
     "text": [
      "Overall Acc: \t 0.576144897585\n",
      "Mean Acc : \t 0.423859682111\n",
      "FreqW Acc : \t 0.4067368568\n",
      "Mean IoU : \t 0.303727695086\n",
      "Epoch [14/50] Loss: 1.1266\n",
      "Epoch [14/50] Loss: 1.3152\n"
     ]
    },
    {
     "name": "stderr",
     "output_type": "stream",
     "text": [
      "218it [01:01,  3.53it/s]\n"
     ]
    },
    {
     "name": "stdout",
     "output_type": "stream",
     "text": [
      "Overall Acc: \t 0.580058877461\n",
      "Mean Acc : \t 0.434264163326\n",
      "FreqW Acc : \t 0.411117175447\n",
      "Mean IoU : \t 0.312420510539\n",
      "Epoch [15/50] Loss: 0.9326\n",
      "Epoch [15/50] Loss: 1.0964\n"
     ]
    },
    {
     "name": "stderr",
     "output_type": "stream",
     "text": [
      "218it [01:02,  3.49it/s]"
     ]
    },
    {
     "name": "stdout",
     "output_type": "stream",
     "text": [
      "Overall Acc: \t 0.581491676821\n",
      "Mean Acc : \t 0.428880916142\n",
      "FreqW Acc : \t 0.409871095929\n",
      "Mean IoU : \t 0.308795415462\n"
     ]
    },
    {
     "name": "stderr",
     "output_type": "stream",
     "text": [
      "\n"
     ]
    },
    {
     "name": "stdout",
     "output_type": "stream",
     "text": [
      "Epoch [16/50] Loss: 0.9868\n",
      "Epoch [16/50] Loss: 0.9659\n"
     ]
    },
    {
     "name": "stderr",
     "output_type": "stream",
     "text": [
      "218it [01:01,  3.54it/s]\n"
     ]
    },
    {
     "name": "stdout",
     "output_type": "stream",
     "text": [
      "Overall Acc: \t 0.584385641644\n",
      "Mean Acc : \t 0.448862962346\n",
      "FreqW Acc : \t 0.413746930106\n",
      "Mean IoU : \t 0.317927251686\n",
      "Epoch [17/50] Loss: 0.9992\n",
      "Epoch [17/50] Loss: 1.1783\n"
     ]
    },
    {
     "name": "stderr",
     "output_type": "stream",
     "text": [
      "218it [01:01,  3.53it/s]\n"
     ]
    },
    {
     "name": "stdout",
     "output_type": "stream",
     "text": [
      "Overall Acc: \t 0.587523667455\n",
      "Mean Acc : \t 0.448857009999\n",
      "FreqW Acc : \t 0.419134341171\n",
      "Mean IoU : \t 0.322834887512\n",
      "Epoch [18/50] Loss: 1.2879\n",
      "Epoch [18/50] Loss: 1.0330\n"
     ]
    },
    {
     "name": "stderr",
     "output_type": "stream",
     "text": [
      "218it [01:01,  3.54it/s]\n"
     ]
    },
    {
     "name": "stdout",
     "output_type": "stream",
     "text": [
      "Overall Acc: \t 0.588236408759\n",
      "Mean Acc : \t 0.449988312999\n",
      "FreqW Acc : \t 0.419628043697\n",
      "Mean IoU : \t 0.325906437705\n",
      "Epoch [19/50] Loss: 1.1725\n",
      "Epoch [19/50] Loss: 1.1844\n"
     ]
    },
    {
     "name": "stderr",
     "output_type": "stream",
     "text": [
      "218it [01:02,  3.51it/s]\n"
     ]
    },
    {
     "name": "stdout",
     "output_type": "stream",
     "text": [
      "Overall Acc: \t 0.592296838167\n",
      "Mean Acc : \t 0.462870958368\n",
      "FreqW Acc : \t 0.424466121416\n",
      "Mean IoU : \t 0.33206711259\n",
      "Epoch [20/50] Loss: 0.9871\n",
      "Epoch [20/50] Loss: 0.9691\n"
     ]
    },
    {
     "name": "stderr",
     "output_type": "stream",
     "text": [
      "218it [01:01,  3.52it/s]"
     ]
    },
    {
     "name": "stdout",
     "output_type": "stream",
     "text": [
      "Overall Acc: \t 0.59278235697\n",
      "Mean Acc : \t 0.46383066211\n",
      "FreqW Acc : \t 0.421213222251\n",
      "Mean IoU : \t 0.331470112991\n"
     ]
    },
    {
     "name": "stderr",
     "output_type": "stream",
     "text": [
      "\n"
     ]
    },
    {
     "name": "stdout",
     "output_type": "stream",
     "text": [
      "Epoch [21/50] Loss: 0.9994\n",
      "Epoch [21/50] Loss: 1.0172\n"
     ]
    },
    {
     "name": "stderr",
     "output_type": "stream",
     "text": [
      "218it [01:01,  3.55it/s]"
     ]
    },
    {
     "name": "stdout",
     "output_type": "stream",
     "text": [
      "Overall Acc: \t 0.591194532046\n",
      "Mean Acc : \t 0.454984993042\n",
      "FreqW Acc : \t 0.419521951287\n",
      "Mean IoU : \t 0.328376337529\n"
     ]
    },
    {
     "name": "stderr",
     "output_type": "stream",
     "text": [
      "\n"
     ]
    },
    {
     "name": "stdout",
     "output_type": "stream",
     "text": [
      "Epoch [22/50] Loss: 1.2725\n",
      "Epoch [22/50] Loss: 1.0611\n"
     ]
    },
    {
     "name": "stderr",
     "output_type": "stream",
     "text": [
      "218it [01:01,  3.52it/s]\n"
     ]
    },
    {
     "name": "stdout",
     "output_type": "stream",
     "text": [
      "Overall Acc: \t 0.59655285881\n",
      "Mean Acc : \t 0.469018847335\n",
      "FreqW Acc : \t 0.425995025665\n",
      "Mean IoU : \t 0.337647226239\n",
      "Epoch [23/50] Loss: 1.0658\n",
      "Epoch [23/50] Loss: 1.1450\n"
     ]
    },
    {
     "name": "stderr",
     "output_type": "stream",
     "text": [
      "218it [01:01,  3.53it/s]"
     ]
    },
    {
     "name": "stdout",
     "output_type": "stream",
     "text": [
      "Overall Acc: \t 0.595221080411\n",
      "Mean Acc : \t 0.467167313904\n",
      "FreqW Acc : \t 0.426183873259\n",
      "Mean IoU : \t 0.337388742135\n"
     ]
    },
    {
     "name": "stderr",
     "output_type": "stream",
     "text": [
      "\n"
     ]
    },
    {
     "name": "stdout",
     "output_type": "stream",
     "text": [
      "Epoch [24/50] Loss: 0.9138\n",
      "Epoch [24/50] Loss: 0.8324\n"
     ]
    },
    {
     "name": "stderr",
     "output_type": "stream",
     "text": [
      "218it [01:01,  3.55it/s]\n"
     ]
    },
    {
     "name": "stdout",
     "output_type": "stream",
     "text": [
      "Overall Acc: \t 0.598181204606\n",
      "Mean Acc : \t 0.47312091177\n",
      "FreqW Acc : \t 0.432159761604\n",
      "Mean IoU : \t 0.342904931007\n",
      "Epoch [25/50] Loss: 1.1514\n",
      "Epoch [25/50] Loss: 0.7723\n"
     ]
    },
    {
     "name": "stderr",
     "output_type": "stream",
     "text": [
      "218it [01:01,  3.52it/s]\n"
     ]
    },
    {
     "name": "stdout",
     "output_type": "stream",
     "text": [
      "Overall Acc: \t 0.600325978753\n",
      "Mean Acc : \t 0.47575965308\n",
      "FreqW Acc : \t 0.431941483827\n",
      "Mean IoU : \t 0.345383382404\n",
      "Epoch [26/50] Loss: 0.8861\n",
      "Epoch [26/50] Loss: 1.0050\n"
     ]
    },
    {
     "name": "stderr",
     "output_type": "stream",
     "text": [
      "218it [01:02,  3.51it/s]"
     ]
    },
    {
     "name": "stdout",
     "output_type": "stream",
     "text": [
      "Overall Acc: \t 0.597638804273\n",
      "Mean Acc : \t 0.474757434728\n",
      "FreqW Acc : \t 0.424675899328\n",
      "Mean IoU : \t 0.341017160889\n"
     ]
    },
    {
     "name": "stderr",
     "output_type": "stream",
     "text": [
      "\n"
     ]
    },
    {
     "name": "stdout",
     "output_type": "stream",
     "text": [
      "Epoch [27/50] Loss: 0.8300\n",
      "Epoch [27/50] Loss: 0.7981\n"
     ]
    },
    {
     "name": "stderr",
     "output_type": "stream",
     "text": [
      "218it [01:02,  3.51it/s]\n"
     ]
    },
    {
     "name": "stdout",
     "output_type": "stream",
     "text": [
      "Overall Acc: \t 0.603667435175\n",
      "Mean Acc : \t 0.486458939005\n",
      "FreqW Acc : \t 0.43721876641\n",
      "Mean IoU : \t 0.352971823689\n",
      "Epoch [28/50] Loss: 0.9891\n",
      "Epoch [28/50] Loss: 0.9222\n"
     ]
    },
    {
     "name": "stderr",
     "output_type": "stream",
     "text": [
      "218it [01:02,  3.51it/s]\n"
     ]
    },
    {
     "name": "stdout",
     "output_type": "stream",
     "text": [
      "Overall Acc: \t 0.603411622587\n",
      "Mean Acc : \t 0.499849936763\n",
      "FreqW Acc : \t 0.437097764711\n",
      "Mean IoU : \t 0.357431766408\n",
      "Epoch [29/50] Loss: 0.9163\n",
      "Epoch [29/50] Loss: 0.8101\n"
     ]
    },
    {
     "name": "stderr",
     "output_type": "stream",
     "text": [
      "218it [01:01,  3.53it/s]"
     ]
    },
    {
     "name": "stdout",
     "output_type": "stream",
     "text": [
      "Overall Acc: \t 0.603058258274\n",
      "Mean Acc : \t 0.487013376431\n",
      "FreqW Acc : \t 0.434095522041\n",
      "Mean IoU : \t 0.350690600042\n"
     ]
    },
    {
     "name": "stderr",
     "output_type": "stream",
     "text": [
      "\n"
     ]
    },
    {
     "name": "stdout",
     "output_type": "stream",
     "text": [
      "Epoch [30/50] Loss: 1.0140\n",
      "Epoch [30/50] Loss: 0.8648\n"
     ]
    },
    {
     "name": "stderr",
     "output_type": "stream",
     "text": [
      "218it [01:02,  3.50it/s]"
     ]
    },
    {
     "name": "stdout",
     "output_type": "stream",
     "text": [
      "Overall Acc: \t 0.604638233865\n",
      "Mean Acc : \t 0.488952909582\n",
      "FreqW Acc : \t 0.436281998904\n",
      "Mean IoU : \t 0.354628020805\n"
     ]
    },
    {
     "name": "stderr",
     "output_type": "stream",
     "text": [
      "\n"
     ]
    },
    {
     "name": "stdout",
     "output_type": "stream",
     "text": [
      "Epoch [31/50] Loss: 0.7564\n",
      "Epoch [31/50] Loss: 0.7536\n"
     ]
    },
    {
     "name": "stderr",
     "output_type": "stream",
     "text": [
      "218it [01:02,  3.49it/s]\n"
     ]
    },
    {
     "name": "stdout",
     "output_type": "stream",
     "text": [
      "Overall Acc: \t 0.605596942493\n",
      "Mean Acc : \t 0.498991556902\n",
      "FreqW Acc : \t 0.439035935819\n",
      "Mean IoU : \t 0.360038671955\n",
      "Epoch [32/50] Loss: 0.7455\n",
      "Epoch [32/50] Loss: 0.8127\n"
     ]
    },
    {
     "name": "stderr",
     "output_type": "stream",
     "text": [
      "218it [01:02,  3.50it/s]\n"
     ]
    },
    {
     "name": "stdout",
     "output_type": "stream",
     "text": [
      "Overall Acc: \t 0.605571876394\n",
      "Mean Acc : \t 0.495169384516\n",
      "FreqW Acc : \t 0.441260701161\n",
      "Mean IoU : \t 0.361531361859\n",
      "Epoch [33/50] Loss: 0.8682\n",
      "Epoch [33/50] Loss: 1.0270\n"
     ]
    },
    {
     "name": "stderr",
     "output_type": "stream",
     "text": [
      "218it [01:02,  3.49it/s]"
     ]
    },
    {
     "name": "stdout",
     "output_type": "stream",
     "text": [
      "Overall Acc: \t 0.605590835245\n",
      "Mean Acc : \t 0.497171058387\n",
      "FreqW Acc : \t 0.440089736835\n",
      "Mean IoU : \t 0.360733284299\n"
     ]
    },
    {
     "name": "stderr",
     "output_type": "stream",
     "text": [
      "\n"
     ]
    },
    {
     "name": "stdout",
     "output_type": "stream",
     "text": [
      "Epoch [34/50] Loss: 1.0271\n",
      "Epoch [34/50] Loss: 1.0011\n"
     ]
    },
    {
     "name": "stderr",
     "output_type": "stream",
     "text": [
      "218it [01:01,  3.52it/s]"
     ]
    },
    {
     "name": "stdout",
     "output_type": "stream",
     "text": [
      "Overall Acc: \t 0.606039357161\n",
      "Mean Acc : \t 0.505322432247\n",
      "FreqW Acc : \t 0.437702347111\n",
      "Mean IoU : \t 0.361354663519\n"
     ]
    },
    {
     "name": "stderr",
     "output_type": "stream",
     "text": [
      "\n"
     ]
    },
    {
     "name": "stdout",
     "output_type": "stream",
     "text": [
      "Epoch [35/50] Loss: 0.8541\n",
      "Epoch [35/50] Loss: 0.8854\n"
     ]
    },
    {
     "name": "stderr",
     "output_type": "stream",
     "text": [
      "218it [01:01,  3.53it/s]\n"
     ]
    },
    {
     "name": "stdout",
     "output_type": "stream",
     "text": [
      "Overall Acc: \t 0.606928835372\n",
      "Mean Acc : \t 0.490252773594\n",
      "FreqW Acc : \t 0.441118693649\n",
      "Mean IoU : \t 0.362173743205\n",
      "Epoch [36/50] Loss: 0.9333\n",
      "Epoch [36/50] Loss: 0.8511\n"
     ]
    },
    {
     "name": "stderr",
     "output_type": "stream",
     "text": [
      "218it [01:02,  3.50it/s]\n"
     ]
    },
    {
     "name": "stdout",
     "output_type": "stream",
     "text": [
      "Overall Acc: \t 0.60671726674\n",
      "Mean Acc : \t 0.495529878502\n",
      "FreqW Acc : \t 0.438889322979\n",
      "Mean IoU : \t 0.362212553651\n",
      "Epoch [37/50] Loss: 0.8433\n",
      "Epoch [37/50] Loss: 0.6100\n"
     ]
    },
    {
     "name": "stderr",
     "output_type": "stream",
     "text": [
      "218it [01:01,  3.53it/s]\n"
     ]
    },
    {
     "name": "stdout",
     "output_type": "stream",
     "text": [
      "Overall Acc: \t 0.607923704686\n",
      "Mean Acc : \t 0.502479835966\n",
      "FreqW Acc : \t 0.444460961838\n",
      "Mean IoU : \t 0.366842653065\n",
      "Epoch [38/50] Loss: 0.9023\n",
      "Epoch [38/50] Loss: 0.7932\n"
     ]
    },
    {
     "name": "stderr",
     "output_type": "stream",
     "text": [
      "218it [01:01,  3.52it/s]"
     ]
    },
    {
     "name": "stdout",
     "output_type": "stream",
     "text": [
      "Overall Acc: \t 0.608465144384\n",
      "Mean Acc : \t 0.507809884945\n",
      "FreqW Acc : \t 0.440955026424\n",
      "Mean IoU : \t 0.365558475007\n"
     ]
    },
    {
     "name": "stderr",
     "output_type": "stream",
     "text": [
      "\n"
     ]
    },
    {
     "name": "stdout",
     "output_type": "stream",
     "text": [
      "Epoch [39/50] Loss: 0.9122\n",
      "Epoch [39/50] Loss: 0.8219\n"
     ]
    },
    {
     "name": "stderr",
     "output_type": "stream",
     "text": [
      "218it [01:02,  3.51it/s]"
     ]
    },
    {
     "name": "stdout",
     "output_type": "stream",
     "text": [
      "Overall Acc: \t 0.608004129237\n",
      "Mean Acc : \t 0.498830305262\n",
      "FreqW Acc : \t 0.440565544646\n",
      "Mean IoU : \t 0.363291628918\n"
     ]
    },
    {
     "name": "stderr",
     "output_type": "stream",
     "text": [
      "\n"
     ]
    },
    {
     "name": "stdout",
     "output_type": "stream",
     "text": [
      "Epoch [40/50] Loss: 0.7971\n",
      "Epoch [40/50] Loss: 0.6663\n"
     ]
    },
    {
     "name": "stderr",
     "output_type": "stream",
     "text": [
      "218it [01:02,  3.51it/s]\n"
     ]
    },
    {
     "name": "stdout",
     "output_type": "stream",
     "text": [
      "Overall Acc: \t 0.609037254715\n",
      "Mean Acc : \t 0.512195272845\n",
      "FreqW Acc : \t 0.443730737902\n",
      "Mean IoU : \t 0.370248702024\n",
      "Epoch [41/50] Loss: 0.5134\n",
      "Epoch [41/50] Loss: 0.8302\n"
     ]
    },
    {
     "name": "stderr",
     "output_type": "stream",
     "text": [
      "218it [01:01,  3.52it/s]"
     ]
    },
    {
     "name": "stdout",
     "output_type": "stream",
     "text": [
      "Overall Acc: \t 0.609637681376\n",
      "Mean Acc : \t 0.509321386331\n",
      "FreqW Acc : \t 0.444460044851\n",
      "Mean IoU : \t 0.369923121451\n"
     ]
    },
    {
     "name": "stderr",
     "output_type": "stream",
     "text": [
      "\n"
     ]
    },
    {
     "name": "stdout",
     "output_type": "stream",
     "text": [
      "Epoch [42/50] Loss: 0.7295\n",
      "Epoch [42/50] Loss: 0.7872\n"
     ]
    },
    {
     "name": "stderr",
     "output_type": "stream",
     "text": [
      "218it [01:02,  3.51it/s]\n"
     ]
    },
    {
     "name": "stdout",
     "output_type": "stream",
     "text": [
      "Overall Acc: \t 0.607271816864\n",
      "Mean Acc : \t 0.514129167872\n",
      "FreqW Acc : \t 0.445473198649\n",
      "Mean IoU : \t 0.373355328351\n",
      "Epoch [43/50] Loss: 0.7936\n",
      "Epoch [43/50] Loss: 0.5879\n"
     ]
    },
    {
     "name": "stderr",
     "output_type": "stream",
     "text": [
      "218it [01:01,  3.52it/s]"
     ]
    },
    {
     "name": "stdout",
     "output_type": "stream",
     "text": [
      "Overall Acc: \t 0.609885291237\n",
      "Mean Acc : \t 0.506890238985\n",
      "FreqW Acc : \t 0.445356112032\n",
      "Mean IoU : \t 0.368835634667\n"
     ]
    },
    {
     "name": "stderr",
     "output_type": "stream",
     "text": [
      "\n"
     ]
    },
    {
     "name": "stdout",
     "output_type": "stream",
     "text": [
      "Epoch [44/50] Loss: 0.5115\n",
      "Epoch [44/50] Loss: 0.7727\n"
     ]
    },
    {
     "name": "stderr",
     "output_type": "stream",
     "text": [
      "218it [01:01,  3.54it/s]"
     ]
    },
    {
     "name": "stdout",
     "output_type": "stream",
     "text": [
      "Overall Acc: \t 0.608612106588\n",
      "Mean Acc : \t 0.5080676674\n",
      "FreqW Acc : \t 0.444806496748\n",
      "Mean IoU : \t 0.369838366436\n"
     ]
    },
    {
     "name": "stderr",
     "output_type": "stream",
     "text": [
      "\n"
     ]
    },
    {
     "name": "stdout",
     "output_type": "stream",
     "text": [
      "Epoch [45/50] Loss: 0.5906\n",
      "Epoch [45/50] Loss: 0.6138\n"
     ]
    },
    {
     "name": "stderr",
     "output_type": "stream",
     "text": [
      "218it [01:02,  3.51it/s]\n"
     ]
    },
    {
     "name": "stdout",
     "output_type": "stream",
     "text": [
      "Overall Acc: \t 0.608740577814\n",
      "Mean Acc : \t 0.516277299418\n",
      "FreqW Acc : \t 0.445798071882\n",
      "Mean IoU : \t 0.374486322508\n",
      "Epoch [46/50] Loss: 0.7880\n",
      "Epoch [46/50] Loss: 0.6813\n"
     ]
    },
    {
     "name": "stderr",
     "output_type": "stream",
     "text": [
      "218it [01:02,  3.50it/s]"
     ]
    },
    {
     "name": "stdout",
     "output_type": "stream",
     "text": [
      "Overall Acc: \t 0.608136154315\n",
      "Mean Acc : \t 0.514996662405\n",
      "FreqW Acc : \t 0.442996454163\n",
      "Mean IoU : \t 0.372822198581\n"
     ]
    },
    {
     "name": "stderr",
     "output_type": "stream",
     "text": [
      "\n"
     ]
    },
    {
     "name": "stdout",
     "output_type": "stream",
     "text": [
      "Epoch [47/50] Loss: 0.8513\n",
      "Epoch [47/50] Loss: 0.6949\n"
     ]
    },
    {
     "name": "stderr",
     "output_type": "stream",
     "text": [
      "218it [01:02,  3.51it/s]"
     ]
    },
    {
     "name": "stdout",
     "output_type": "stream",
     "text": [
      "Overall Acc: \t 0.608334637408\n",
      "Mean Acc : \t 0.510942177427\n",
      "FreqW Acc : \t 0.443404553569\n",
      "Mean IoU : \t 0.372117429943\n"
     ]
    },
    {
     "name": "stderr",
     "output_type": "stream",
     "text": [
      "\n"
     ]
    },
    {
     "name": "stdout",
     "output_type": "stream",
     "text": [
      "Epoch [48/50] Loss: 0.4494\n",
      "Epoch [48/50] Loss: 0.7126\n"
     ]
    },
    {
     "name": "stderr",
     "output_type": "stream",
     "text": [
      "218it [01:01,  3.52it/s]\n"
     ]
    },
    {
     "name": "stdout",
     "output_type": "stream",
     "text": [
      "Overall Acc: \t 0.611353693815\n",
      "Mean Acc : \t 0.515199767619\n",
      "FreqW Acc : \t 0.446539304752\n",
      "Mean IoU : \t 0.375823503575\n",
      "Epoch [49/50] Loss: 0.5278\n",
      "Epoch [49/50] Loss: 0.5635\n"
     ]
    },
    {
     "name": "stderr",
     "output_type": "stream",
     "text": [
      "218it [01:01,  3.52it/s]"
     ]
    },
    {
     "name": "stdout",
     "output_type": "stream",
     "text": [
      "Overall Acc: \t 0.611546318529\n",
      "Mean Acc : \t 0.514748021061\n",
      "FreqW Acc : \t 0.445228444636\n",
      "Mean IoU : \t 0.374909144141\n"
     ]
    },
    {
     "name": "stderr",
     "output_type": "stream",
     "text": [
      "\n"
     ]
    },
    {
     "name": "stdout",
     "output_type": "stream",
     "text": [
      "Epoch [50/50] Loss: 0.8171\n",
      "Epoch [50/50] Loss: 0.5862\n"
     ]
    },
    {
     "name": "stderr",
     "output_type": "stream",
     "text": [
      "218it [01:01,  3.52it/s]"
     ]
    },
    {
     "name": "stdout",
     "output_type": "stream",
     "text": [
      "Overall Acc: \t 0.607348627835\n",
      "Mean Acc : \t 0.519520547232\n",
      "FreqW Acc : \t 0.441862392188\n",
      "Mean IoU : \t 0.373020033395\n"
     ]
    },
    {
     "name": "stderr",
     "output_type": "stream",
     "text": [
      "\n"
     ]
    }
   ],
   "source": [
    "from utils import *\n",
    "\n",
    "arg_str = '--gpu_idx 0 ' \\\n",
    "          '--arch FCN_RGBD_Hybrid ' \\\n",
    "          '--input_type RGBD ' \\\n",
    "          '--dataset NYUDv2 ' \\\n",
    "          '--batch_size 3 ' \\\n",
    "          '--n_epoch 50 ' \\\n",
    "          '--visdom'\n",
    "\n",
    "trainer = trainer(arg_str)\n",
    "trainer.model_init()\n",
    "trainer.training()"
   ]
  },
  {
   "cell_type": "code",
   "execution_count": null,
   "metadata": {},
   "outputs": [],
   "source": []
  }
 ],
 "metadata": {
  "kernelspec": {
   "display_name": "Python [conda env:pytorch]",
   "language": "python",
   "name": "conda-env-pytorch-py"
  },
  "language_info": {
   "codemirror_mode": {
    "name": "ipython",
    "version": 3
   },
   "file_extension": ".py",
   "mimetype": "text/x-python",
   "name": "python",
   "nbconvert_exporter": "python",
   "pygments_lexer": "ipython3",
   "version": "3.6.3"
  }
 },
 "nbformat": 4,
 "nbformat_minor": 2
}
