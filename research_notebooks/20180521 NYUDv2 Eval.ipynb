{
 "cells": [
  {
   "cell_type": "code",
   "execution_count": 1,
   "metadata": {},
   "outputs": [],
   "source": [
    "%matplotlib inline\n",
    "import os\n",
    "import numpy as np\n",
    "import argparse\n",
    "from validate import *\n",
    "\n",
    "os.environ['CUDA_VISIBLE_DEVICES'] = '0'"
   ]
  },
  {
   "cell_type": "code",
   "execution_count": 2,
   "metadata": {},
   "outputs": [],
   "source": [
    "parser = argparse.ArgumentParser(description='Hyperparams')\n",
    "parser.add_argument('--model_path', nargs='?', type=str, default='fcn8s_pascal_1_26.pkl', help='Path to the saved model')\n",
    "parser.add_argument('--model_name', nargs='?', type=str, default='fcn8s', help='model name')\n",
    "parser.add_argument('--dataset', nargs='?', type=str, default='pascal', help='Dataset to use [\\'pascal, camvid, ade20k etc\\']')\n",
    "parser.add_argument('--img_rows', nargs='?', type=int, default=256, help='Height of the input image')\n",
    "parser.add_argument('--img_cols', nargs='?', type=int, default=256, help='Width of the input image')\n",
    "\n",
    "parser.add_argument('--img_norm', dest='img_norm', action='store_true', help='Enable input image scales normalization [0, 1] | True by default')\n",
    "parser.add_argument('--no-img_norm', dest='img_norm', action='store_false', help='Disable input image scales normalization [0, 1] | True by default')\n",
    "parser.set_defaults(img_norm=True)\n",
    "\n",
    "parser.add_argument('--eval_flip', dest='eval_flip', action='store_true', help='Enable evaluation with flipped image | True by default')\n",
    "parser.add_argument('--no-eval_flip', dest='eval_flip', action='store_false', help='Disable evaluation with flipped image | True by default')\n",
    "parser.set_defaults(eval_flip=True)\n",
    "\n",
    "parser.add_argument('--batch_size', nargs='?', type=int, default=1, help='Batch Size')\n",
    "parser.add_argument('--split', nargs='?', type=str, default='val', help='Split of dataset to test on')\n",
    "\n",
    "parser.add_argument('--measure_time', dest='measure_time', action='store_true', help='Enable evaluation with time (fps) measurement | True by default')\n",
    "parser.add_argument('--no-measure_time', dest='measure_time', action='store_false', help='Disable evaluation with time (fps) measurement | True by default')\n",
    "parser.set_defaults(measure_time=True)"
   ]
  },
  {
   "cell_type": "code",
   "execution_count": 3,
   "metadata": {},
   "outputs": [
    {
     "name": "stdout",
     "output_type": "stream",
     "text": [
      "FCN_RGB\n"
     ]
    },
    {
     "name": "stderr",
     "output_type": "stream",
     "text": [
      "/home/dongwonshin/.conda/envs/pytorch/lib/python3.6/site-packages/torch/nn/functional.py:1462: UserWarning: nn.functional.upsample_bilinear is deprecated. Use nn.functional.upsample instead.\n",
      "  warnings.warn(\"nn.functional.upsample_bilinear is deprecated. Use nn.functional.upsample instead.\")\n"
     ]
    },
    {
     "name": "stdout",
     "output_type": "stream",
     "text": [
      "..........................................................................................................................................................................................................................Overall Acc: \t 0.580659095072\n",
      "Mean Acc : \t 0.486402725488\n",
      "FreqW Acc : \t 0.417790518162\n",
      "Mean IoU : \t 0.349844535847\n",
      "0 0.347549327765\n",
      "1 0.393771065504\n",
      "2 0.178868085756\n",
      "3 0.421173192473\n",
      "4 0.284640906886\n",
      "5 0.628156851874\n",
      "6 0.346245586607\n",
      "7 0.268002693101\n",
      "8 0.366458993665\n",
      "9 0.293736916927\n",
      "10 0.179519960221\n",
      "11 0.204848504208\n",
      "12 0.596508960875\n",
      "13 0.388342455999\n"
     ]
    }
   ],
   "source": [
    "validate(parser.parse_args('--model_path ../model_weights/FCN_RGB_NYUDv2_best_model.pkl --model_name FCN_RGB --dataset NYUDv2 --batch_size 3'.split(' ')))"
   ]
  },
  {
   "cell_type": "code",
   "execution_count": 8,
   "metadata": {},
   "outputs": [
    {
     "name": "stdout",
     "output_type": "stream",
     "text": [
      "FCN_RGB_mask2\n"
     ]
    },
    {
     "name": "stderr",
     "output_type": "stream",
     "text": [
      "/home/dongwonshin/.conda/envs/pytorch/lib/python3.6/site-packages/torch/nn/functional.py:1462: UserWarning: nn.functional.upsample_bilinear is deprecated. Use nn.functional.upsample instead.\n",
      "  warnings.warn(\"nn.functional.upsample_bilinear is deprecated. Use nn.functional.upsample instead.\")\n"
     ]
    },
    {
     "name": "stdout",
     "output_type": "stream",
     "text": [
      "..........................................................................................................................................................................................................................Overall Acc: \t 0.598001132852\n",
      "Mean Acc : \t 0.522883415029\n",
      "FreqW Acc : \t 0.436054203779\n",
      "Mean IoU : \t 0.373899099544\n",
      "0 0.349836858865\n",
      "1 0.45263815511\n",
      "2 0.182363687081\n",
      "3 0.420845465644\n",
      "4 0.302887875836\n",
      "5 0.651010790508\n",
      "6 0.363033085172\n",
      "7 0.280601559591\n",
      "8 0.416371988927\n",
      "9 0.354216014974\n",
      "10 0.214025472046\n",
      "11 0.21339884848\n",
      "12 0.607846958918\n",
      "13 0.42551063247\n"
     ]
    }
   ],
   "source": [
    "validate(parser.parse_args('--model_path ../model_weights/FCN_RGB_mask2_NYUDv2_best_model.pkl --model_name FCN_RGB_mask2 --dataset NYUDv2 --batch_size 3'.split(' ')))"
   ]
  },
  {
   "cell_type": "code",
   "execution_count": 4,
   "metadata": {},
   "outputs": [
    {
     "name": "stdout",
     "output_type": "stream",
     "text": [
      "FCN_RGB_renet\n"
     ]
    },
    {
     "name": "stderr",
     "output_type": "stream",
     "text": [
      "/home/dongwonshin/.conda/envs/pytorch/lib/python3.6/site-packages/torch/nn/functional.py:1462: UserWarning: nn.functional.upsample_bilinear is deprecated. Use nn.functional.upsample instead.\n",
      "  warnings.warn(\"nn.functional.upsample_bilinear is deprecated. Use nn.functional.upsample instead.\")\n"
     ]
    },
    {
     "name": "stdout",
     "output_type": "stream",
     "text": [
      "..........................................................................................................................................................................................................................Overall Acc: \t 0.574977163768\n",
      "Mean Acc : \t 0.483448707411\n",
      "FreqW Acc : \t 0.413634043205\n",
      "Mean IoU : \t 0.336421024838\n",
      "0 0.34199694234\n",
      "1 0.403476820781\n",
      "2 0.125333155365\n",
      "3 0.379854200536\n",
      "4 0.268992337684\n",
      "5 0.621328116161\n",
      "6 0.353757078302\n",
      "7 0.264104259015\n",
      "8 0.350862123522\n",
      "9 0.304779209526\n",
      "10 0.189212582968\n",
      "11 0.126934828617\n",
      "12 0.586558142783\n",
      "13 0.392704550134\n"
     ]
    }
   ],
   "source": [
    "validate(parser.parse_args('--model_path ../model_weights/FCN_RGB_renet_NYUDv2_best_model.pkl --model_name FCN_RGB_renet --dataset NYUDv2 --batch_size 3'.split(' ')))"
   ]
  },
  {
   "cell_type": "code",
   "execution_count": 5,
   "metadata": {},
   "outputs": [
    {
     "name": "stdout",
     "output_type": "stream",
     "text": [
      "FCN_RGBD\n"
     ]
    },
    {
     "name": "stderr",
     "output_type": "stream",
     "text": [
      "/home/dongwonshin/.conda/envs/pytorch/lib/python3.6/site-packages/torch/nn/functional.py:1462: UserWarning: nn.functional.upsample_bilinear is deprecated. Use nn.functional.upsample instead.\n",
      "  warnings.warn(\"nn.functional.upsample_bilinear is deprecated. Use nn.functional.upsample instead.\")\n"
     ]
    },
    {
     "name": "stdout",
     "output_type": "stream",
     "text": [
      "..........................................................................................................................................................................................................................Overall Acc: \t 0.60334503516\n",
      "Mean Acc : \t 0.51368087833\n",
      "FreqW Acc : \t 0.443126457299\n",
      "Mean IoU : \t 0.369410255885\n",
      "0 0.363600838756\n",
      "1 0.429004313984\n",
      "2 0.164008816644\n",
      "3 0.439148229679\n",
      "4 0.30797129453\n",
      "5 0.708649937495\n",
      "6 0.376481001034\n",
      "7 0.265748528957\n",
      "8 0.385159730714\n",
      "9 0.328802879767\n",
      "10 0.213038932527\n",
      "11 0.14740318183\n",
      "12 0.613217764271\n",
      "13 0.429508132208\n"
     ]
    }
   ],
   "source": [
    "validate(parser.parse_args('--model_path ../model_weights/FCN_RGBD_NYUDv2_best_model.pkl --model_name FCN_RGBD --dataset NYUDv2 --batch_size 3'.split(' ')))"
   ]
  },
  {
   "cell_type": "code",
   "execution_count": 9,
   "metadata": {},
   "outputs": [
    {
     "name": "stdout",
     "output_type": "stream",
     "text": [
      "FCN_RGBD_mask2\n"
     ]
    },
    {
     "name": "stderr",
     "output_type": "stream",
     "text": [
      "/home/dongwonshin/.conda/envs/pytorch/lib/python3.6/site-packages/torch/nn/functional.py:1462: UserWarning: nn.functional.upsample_bilinear is deprecated. Use nn.functional.upsample instead.\n",
      "  warnings.warn(\"nn.functional.upsample_bilinear is deprecated. Use nn.functional.upsample instead.\")\n"
     ]
    },
    {
     "name": "stdout",
     "output_type": "stream",
     "text": [
      "..........................................................................................................................................................................................................................Overall Acc: \t 0.57530335157\n",
      "Mean Acc : \t 0.487051079715\n",
      "FreqW Acc : \t 0.4186500788\n",
      "Mean IoU : \t 0.350879687998\n",
      "0 0.329109149683\n",
      "1 0.440669409009\n",
      "2 0.188622266315\n",
      "3 0.331292868981\n",
      "4 0.289147244023\n",
      "5 0.6147697105\n",
      "6 0.352844972245\n",
      "7 0.284515228899\n",
      "8 0.377321707377\n",
      "9 0.340355491973\n",
      "10 0.181052920976\n",
      "11 0.192094301982\n",
      "12 0.593720280041\n",
      "13 0.396800079963\n"
     ]
    }
   ],
   "source": [
    "validate(parser.parse_args('--model_path ../model_weights/FCN_RGBD_mask2_NYUDv2_best_model.pkl --model_name FCN_RGBD_mask2 --dataset NYUDv2 --batch_size 3'.split(' ')))"
   ]
  },
  {
   "cell_type": "code",
   "execution_count": 7,
   "metadata": {},
   "outputs": [
    {
     "name": "stdout",
     "output_type": "stream",
     "text": [
      "FCN_RGBD_renet\n"
     ]
    },
    {
     "name": "stderr",
     "output_type": "stream",
     "text": [
      "/home/dongwonshin/.conda/envs/pytorch/lib/python3.6/site-packages/torch/nn/functional.py:1462: UserWarning: nn.functional.upsample_bilinear is deprecated. Use nn.functional.upsample instead.\n",
      "  warnings.warn(\"nn.functional.upsample_bilinear is deprecated. Use nn.functional.upsample instead.\")\n"
     ]
    },
    {
     "name": "stdout",
     "output_type": "stream",
     "text": [
      "..........................................................................................................................................................................................................................Overall Acc: \t 0.591705540026\n",
      "Mean Acc : \t 0.499700591269\n",
      "FreqW Acc : \t 0.430410903226\n",
      "Mean IoU : \t 0.356076929656\n",
      "0 0.3528605241\n",
      "1 0.438587627188\n",
      "2 0.124012924232\n",
      "3 0.381278001441\n",
      "4 0.289932113823\n",
      "5 0.687370944492\n",
      "6 0.359009292161\n",
      "7 0.272041975165\n",
      "8 0.351382759361\n",
      "9 0.313811745042\n",
      "10 0.204586052728\n",
      "11 0.208410981926\n",
      "12 0.59911121021\n",
      "13 0.40268086331\n"
     ]
    }
   ],
   "source": [
    "validate(parser.parse_args('--model_path ../model_weights/FCN_RGBD_renet_NYUDv2_best_model.pkl --model_name FCN_RGBD_renet --dataset NYUDv2 --batch_size 3'.split(' ')))"
   ]
  },
  {
   "cell_type": "code",
   "execution_count": null,
   "metadata": {},
   "outputs": [],
   "source": []
  }
 ],
 "metadata": {
  "kernelspec": {
   "display_name": "Python [conda env:pytorch]",
   "language": "python",
   "name": "conda-env-pytorch-py"
  },
  "language_info": {
   "codemirror_mode": {
    "name": "ipython",
    "version": 3
   },
   "file_extension": ".py",
   "mimetype": "text/x-python",
   "name": "python",
   "nbconvert_exporter": "python",
   "pygments_lexer": "ipython3",
   "version": "3.6.3"
  }
 },
 "nbformat": 4,
 "nbformat_minor": 2
}
