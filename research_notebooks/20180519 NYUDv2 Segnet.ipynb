{
 "cells": [
  {
   "cell_type": "code",
   "execution_count": 1,
   "metadata": {},
   "outputs": [
    {
     "name": "stdout",
     "output_type": "stream",
     "text": [
      "Epoch [1/50] Loss: 2.6724\n"
     ]
    },
    {
     "name": "stderr",
     "output_type": "stream",
     "text": [
      "131it [00:29,  4.49it/s]\n"
     ]
    },
    {
     "name": "stdout",
     "output_type": "stream",
     "text": [
      "Overall Acc: \t 0.11243864878\n",
      "Mean Acc : \t 0.0823843556389\n",
      "FreqW Acc : \t 0.0514488148315\n",
      "Mean IoU : \t 0.0322582778506\n",
      "Epoch [2/50] Loss: 2.5160\n"
     ]
    },
    {
     "name": "stderr",
     "output_type": "stream",
     "text": [
      "131it [00:29,  4.49it/s]\n"
     ]
    },
    {
     "name": "stdout",
     "output_type": "stream",
     "text": [
      "Overall Acc: \t 0.230743163067\n",
      "Mean Acc : \t 0.0978668225782\n",
      "FreqW Acc : \t 0.104472806535\n",
      "Mean IoU : \t 0.0452270258792\n",
      "Epoch [3/50] Loss: 2.4491\n"
     ]
    },
    {
     "name": "stderr",
     "output_type": "stream",
     "text": [
      "131it [00:28,  4.52it/s]"
     ]
    },
    {
     "name": "stdout",
     "output_type": "stream",
     "text": [
      "Overall Acc: \t 0.266450245086\n",
      "Mean Acc : \t 0.0997071150532\n",
      "FreqW Acc : \t 0.0968669275711\n",
      "Mean IoU : \t 0.038725546195\n"
     ]
    },
    {
     "name": "stderr",
     "output_type": "stream",
     "text": [
      "\n"
     ]
    },
    {
     "name": "stdout",
     "output_type": "stream",
     "text": [
      "Epoch [4/50] Loss: 2.4179\n"
     ]
    },
    {
     "name": "stderr",
     "output_type": "stream",
     "text": [
      "131it [00:29,  4.47it/s]"
     ]
    },
    {
     "name": "stdout",
     "output_type": "stream",
     "text": [
      "Overall Acc: \t 0.275242269129\n",
      "Mean Acc : \t 0.101669895033\n",
      "FreqW Acc : \t 0.104304428681\n",
      "Mean IoU : \t 0.0405086771336\n"
     ]
    },
    {
     "name": "stderr",
     "output_type": "stream",
     "text": [
      "\n"
     ]
    },
    {
     "name": "stdout",
     "output_type": "stream",
     "text": [
      "Epoch [5/50] Loss: 2.4064\n"
     ]
    },
    {
     "name": "stderr",
     "output_type": "stream",
     "text": [
      "131it [00:29,  4.43it/s]\n"
     ]
    },
    {
     "name": "stdout",
     "output_type": "stream",
     "text": [
      "Overall Acc: \t 0.314109979254\n",
      "Mean Acc : \t 0.117415082086\n",
      "FreqW Acc : \t 0.148442332929\n",
      "Mean IoU : \t 0.0558467306184\n",
      "Epoch [6/50] Loss: 2.2562\n"
     ]
    },
    {
     "name": "stderr",
     "output_type": "stream",
     "text": [
      "131it [00:29,  4.42it/s]\n"
     ]
    },
    {
     "name": "stdout",
     "output_type": "stream",
     "text": [
      "Overall Acc: \t 0.335678715915\n",
      "Mean Acc : \t 0.125616566949\n",
      "FreqW Acc : \t 0.163404402306\n",
      "Mean IoU : \t 0.0607971502943\n",
      "Epoch [7/50] Loss: 2.0256\n"
     ]
    },
    {
     "name": "stderr",
     "output_type": "stream",
     "text": [
      "131it [00:29,  4.49it/s]\n"
     ]
    },
    {
     "name": "stdout",
     "output_type": "stream",
     "text": [
      "Overall Acc: \t 0.346932583341\n",
      "Mean Acc : \t 0.130072841955\n",
      "FreqW Acc : \t 0.171778703225\n",
      "Mean IoU : \t 0.0639372420325\n",
      "Epoch [8/50] Loss: 2.0526\n"
     ]
    },
    {
     "name": "stderr",
     "output_type": "stream",
     "text": [
      "131it [00:29,  4.45it/s]\n"
     ]
    },
    {
     "name": "stdout",
     "output_type": "stream",
     "text": [
      "Overall Acc: \t 0.355390595136\n",
      "Mean Acc : \t 0.133893420484\n",
      "FreqW Acc : \t 0.179515791681\n",
      "Mean IoU : \t 0.0662623488125\n",
      "Epoch [9/50] Loss: 2.1958\n"
     ]
    },
    {
     "name": "stderr",
     "output_type": "stream",
     "text": [
      "131it [00:29,  4.45it/s]\n"
     ]
    },
    {
     "name": "stdout",
     "output_type": "stream",
     "text": [
      "Overall Acc: \t 0.363524748543\n",
      "Mean Acc : \t 0.139764372746\n",
      "FreqW Acc : \t 0.189163444782\n",
      "Mean IoU : \t 0.0726466014411\n",
      "Epoch [10/50] Loss: 1.8728\n"
     ]
    },
    {
     "name": "stderr",
     "output_type": "stream",
     "text": [
      "131it [00:29,  4.50it/s]\n"
     ]
    },
    {
     "name": "stdout",
     "output_type": "stream",
     "text": [
      "Overall Acc: \t 0.386308046238\n",
      "Mean Acc : \t 0.159544004031\n",
      "FreqW Acc : \t 0.209440882891\n",
      "Mean IoU : \t 0.0869070904181\n",
      "Epoch [11/50] Loss: 1.7643\n"
     ]
    },
    {
     "name": "stderr",
     "output_type": "stream",
     "text": [
      "131it [00:29,  4.50it/s]\n"
     ]
    },
    {
     "name": "stdout",
     "output_type": "stream",
     "text": [
      "Overall Acc: \t 0.397369159539\n",
      "Mean Acc : \t 0.166149921693\n",
      "FreqW Acc : \t 0.214187512157\n",
      "Mean IoU : \t 0.0898627585092\n",
      "Epoch [12/50] Loss: 1.8558\n"
     ]
    },
    {
     "name": "stderr",
     "output_type": "stream",
     "text": [
      "131it [00:29,  4.47it/s]\n"
     ]
    },
    {
     "name": "stdout",
     "output_type": "stream",
     "text": [
      "Overall Acc: \t 0.403036467293\n",
      "Mean Acc : \t 0.172645165106\n",
      "FreqW Acc : \t 0.223747067483\n",
      "Mean IoU : \t 0.0944963476781\n",
      "Epoch [13/50] Loss: 1.8876\n"
     ]
    },
    {
     "name": "stderr",
     "output_type": "stream",
     "text": [
      "131it [00:29,  4.45it/s]\n"
     ]
    },
    {
     "name": "stdout",
     "output_type": "stream",
     "text": [
      "Overall Acc: \t 0.41121029044\n",
      "Mean Acc : \t 0.178663714794\n",
      "FreqW Acc : \t 0.227636322144\n",
      "Mean IoU : \t 0.0975175492175\n",
      "Epoch [14/50] Loss: 1.8527\n"
     ]
    },
    {
     "name": "stderr",
     "output_type": "stream",
     "text": [
      "131it [00:29,  4.42it/s]\n"
     ]
    },
    {
     "name": "stdout",
     "output_type": "stream",
     "text": [
      "Overall Acc: \t 0.417113775006\n",
      "Mean Acc : \t 0.183965707414\n",
      "FreqW Acc : \t 0.241816437238\n",
      "Mean IoU : \t 0.103449570574\n",
      "Epoch [15/50] Loss: 1.7759\n"
     ]
    },
    {
     "name": "stderr",
     "output_type": "stream",
     "text": [
      "131it [00:29,  4.48it/s]\n"
     ]
    },
    {
     "name": "stdout",
     "output_type": "stream",
     "text": [
      "Overall Acc: \t 0.422701927442\n",
      "Mean Acc : \t 0.187332068217\n",
      "FreqW Acc : \t 0.250643151944\n",
      "Mean IoU : \t 0.108023163697\n",
      "Epoch [16/50] Loss: 1.8263\n"
     ]
    },
    {
     "name": "stderr",
     "output_type": "stream",
     "text": [
      "131it [00:29,  4.42it/s]\n"
     ]
    },
    {
     "name": "stdout",
     "output_type": "stream",
     "text": [
      "Overall Acc: \t 0.42984365543\n",
      "Mean Acc : \t 0.189403535021\n",
      "FreqW Acc : \t 0.251077169442\n",
      "Mean IoU : \t 0.108760076091\n",
      "Epoch [17/50] Loss: 1.6412\n"
     ]
    },
    {
     "name": "stderr",
     "output_type": "stream",
     "text": [
      "131it [00:29,  4.52it/s]"
     ]
    },
    {
     "name": "stdout",
     "output_type": "stream",
     "text": [
      "Overall Acc: \t 0.432782083214\n",
      "Mean Acc : \t 0.188975019467\n",
      "FreqW Acc : \t 0.246315750899\n",
      "Mean IoU : \t 0.108261114332\n"
     ]
    },
    {
     "name": "stderr",
     "output_type": "stream",
     "text": [
      "\n"
     ]
    },
    {
     "name": "stdout",
     "output_type": "stream",
     "text": [
      "Epoch [18/50] Loss: 1.8722\n"
     ]
    },
    {
     "name": "stderr",
     "output_type": "stream",
     "text": [
      "131it [00:29,  4.44it/s]\n"
     ]
    },
    {
     "name": "stdout",
     "output_type": "stream",
     "text": [
      "Overall Acc: \t 0.437176056997\n",
      "Mean Acc : \t 0.189319258771\n",
      "FreqW Acc : \t 0.253450087644\n",
      "Mean IoU : \t 0.111368298427\n",
      "Epoch [19/50] Loss: 1.7469\n"
     ]
    },
    {
     "name": "stderr",
     "output_type": "stream",
     "text": [
      "131it [00:29,  4.39it/s]\n"
     ]
    },
    {
     "name": "stdout",
     "output_type": "stream",
     "text": [
      "Overall Acc: \t 0.449402266103\n",
      "Mean Acc : \t 0.199816951162\n",
      "FreqW Acc : \t 0.266384524342\n",
      "Mean IoU : \t 0.117040933646\n",
      "Epoch [20/50] Loss: 1.8497\n"
     ]
    },
    {
     "name": "stderr",
     "output_type": "stream",
     "text": [
      "131it [00:29,  4.51it/s]\n"
     ]
    },
    {
     "name": "stdout",
     "output_type": "stream",
     "text": [
      "Overall Acc: \t 0.452367387591\n",
      "Mean Acc : \t 0.202489106405\n",
      "FreqW Acc : \t 0.272647052772\n",
      "Mean IoU : \t 0.120771069924\n",
      "Epoch [21/50] Loss: 1.8073\n"
     ]
    },
    {
     "name": "stderr",
     "output_type": "stream",
     "text": [
      "131it [00:29,  4.45it/s]"
     ]
    },
    {
     "name": "stdout",
     "output_type": "stream",
     "text": [
      "Overall Acc: \t 0.452774726642\n",
      "Mean Acc : \t 0.203109601486\n",
      "FreqW Acc : \t 0.270519781406\n",
      "Mean IoU : \t 0.119785818325\n"
     ]
    },
    {
     "name": "stderr",
     "output_type": "stream",
     "text": [
      "\n"
     ]
    },
    {
     "name": "stdout",
     "output_type": "stream",
     "text": [
      "Epoch [22/50] Loss: 1.7729\n"
     ]
    },
    {
     "name": "stderr",
     "output_type": "stream",
     "text": [
      "131it [00:29,  4.43it/s]\n"
     ]
    },
    {
     "name": "stdout",
     "output_type": "stream",
     "text": [
      "Overall Acc: \t 0.462799364687\n",
      "Mean Acc : \t 0.209952650737\n",
      "FreqW Acc : \t 0.280007987635\n",
      "Mean IoU : \t 0.124689555641\n",
      "Epoch [23/50] Loss: 1.7519\n"
     ]
    },
    {
     "name": "stderr",
     "output_type": "stream",
     "text": [
      "131it [00:29,  4.49it/s]\n"
     ]
    },
    {
     "name": "stdout",
     "output_type": "stream",
     "text": [
      "Overall Acc: \t 0.469793941331\n",
      "Mean Acc : \t 0.231189941183\n",
      "FreqW Acc : \t 0.293622770702\n",
      "Mean IoU : \t 0.138832546563\n",
      "Epoch [24/50] Loss: 1.6597\n"
     ]
    },
    {
     "name": "stderr",
     "output_type": "stream",
     "text": [
      "131it [00:29,  4.49it/s]\n"
     ]
    },
    {
     "name": "stdout",
     "output_type": "stream",
     "text": [
      "Overall Acc: \t 0.483824795131\n",
      "Mean Acc : \t 0.244563068081\n",
      "FreqW Acc : \t 0.312837583951\n",
      "Mean IoU : \t 0.154501333225\n",
      "Epoch [25/50] Loss: 1.5826\n"
     ]
    },
    {
     "name": "stderr",
     "output_type": "stream",
     "text": [
      "131it [00:29,  4.46it/s]\n"
     ]
    },
    {
     "name": "stdout",
     "output_type": "stream",
     "text": [
      "Overall Acc: \t 0.486610337626\n",
      "Mean Acc : \t 0.248400433513\n",
      "FreqW Acc : \t 0.31853663379\n",
      "Mean IoU : \t 0.15769414921\n",
      "Epoch [26/50] Loss: 1.6156\n"
     ]
    },
    {
     "name": "stderr",
     "output_type": "stream",
     "text": [
      "131it [00:29,  4.42it/s]\n"
     ]
    },
    {
     "name": "stdout",
     "output_type": "stream",
     "text": [
      "Overall Acc: \t 0.491755657293\n",
      "Mean Acc : \t 0.250377045108\n",
      "FreqW Acc : \t 0.319342901704\n",
      "Mean IoU : \t 0.160674378564\n",
      "Epoch [27/50] Loss: 1.3988\n"
     ]
    },
    {
     "name": "stderr",
     "output_type": "stream",
     "text": [
      "131it [00:29,  4.48it/s]\n"
     ]
    },
    {
     "name": "stdout",
     "output_type": "stream",
     "text": [
      "Overall Acc: \t 0.495629210866\n",
      "Mean Acc : \t 0.257678271691\n",
      "FreqW Acc : \t 0.327275041023\n",
      "Mean IoU : \t 0.166561782145\n",
      "Epoch [28/50] Loss: 1.5843\n"
     ]
    },
    {
     "name": "stderr",
     "output_type": "stream",
     "text": [
      "131it [00:29,  4.41it/s]\n"
     ]
    },
    {
     "name": "stdout",
     "output_type": "stream",
     "text": [
      "Overall Acc: \t 0.502150821666\n",
      "Mean Acc : \t 0.258222578697\n",
      "FreqW Acc : \t 0.328941928491\n",
      "Mean IoU : \t 0.16769004613\n",
      "Epoch [29/50] Loss: 1.5383\n"
     ]
    },
    {
     "name": "stderr",
     "output_type": "stream",
     "text": [
      "131it [00:29,  4.50it/s]\n"
     ]
    },
    {
     "name": "stdout",
     "output_type": "stream",
     "text": [
      "Overall Acc: \t 0.508589773071\n",
      "Mean Acc : \t 0.268701110747\n",
      "FreqW Acc : \t 0.338075453952\n",
      "Mean IoU : \t 0.177266713379\n",
      "Epoch [30/50] Loss: 1.4586\n"
     ]
    },
    {
     "name": "stderr",
     "output_type": "stream",
     "text": [
      "131it [00:29,  4.52it/s]\n"
     ]
    },
    {
     "name": "stdout",
     "output_type": "stream",
     "text": [
      "Overall Acc: \t 0.508445553405\n",
      "Mean Acc : \t 0.272666394202\n",
      "FreqW Acc : \t 0.342782067605\n",
      "Mean IoU : \t 0.180041497926\n",
      "Epoch [31/50] Loss: 1.6248\n"
     ]
    },
    {
     "name": "stderr",
     "output_type": "stream",
     "text": [
      "131it [00:29,  4.47it/s]\n"
     ]
    },
    {
     "name": "stdout",
     "output_type": "stream",
     "text": [
      "Overall Acc: \t 0.517881511412\n",
      "Mean Acc : \t 0.278107010057\n",
      "FreqW Acc : \t 0.340679781876\n",
      "Mean IoU : \t 0.181222335549\n",
      "Epoch [32/50] Loss: 1.4133\n"
     ]
    },
    {
     "name": "stderr",
     "output_type": "stream",
     "text": [
      "131it [00:29,  4.37it/s]\n"
     ]
    },
    {
     "name": "stdout",
     "output_type": "stream",
     "text": [
      "Overall Acc: \t 0.516186941538\n",
      "Mean Acc : \t 0.274079017212\n",
      "FreqW Acc : \t 0.346736118681\n",
      "Mean IoU : \t 0.185300015737\n",
      "Epoch [33/50] Loss: 1.6059\n"
     ]
    },
    {
     "name": "stderr",
     "output_type": "stream",
     "text": [
      "131it [00:29,  4.47it/s]\n"
     ]
    },
    {
     "name": "stdout",
     "output_type": "stream",
     "text": [
      "Overall Acc: \t 0.517939219188\n",
      "Mean Acc : \t 0.28382885828\n",
      "FreqW Acc : \t 0.353381767337\n",
      "Mean IoU : \t 0.190753813588\n",
      "Epoch [34/50] Loss: 1.2436\n"
     ]
    },
    {
     "name": "stderr",
     "output_type": "stream",
     "text": [
      "131it [00:29,  4.49it/s]\n"
     ]
    },
    {
     "name": "stdout",
     "output_type": "stream",
     "text": [
      "Overall Acc: \t 0.524794687938\n",
      "Mean Acc : \t 0.289305804593\n",
      "FreqW Acc : \t 0.351523243807\n",
      "Mean IoU : \t 0.191194941521\n",
      "Epoch [35/50] Loss: 1.1584\n"
     ]
    },
    {
     "name": "stderr",
     "output_type": "stream",
     "text": [
      "131it [00:28,  4.53it/s]\n"
     ]
    },
    {
     "name": "stdout",
     "output_type": "stream",
     "text": [
      "Overall Acc: \t 0.527939796564\n",
      "Mean Acc : \t 0.294373010175\n",
      "FreqW Acc : \t 0.353951206174\n",
      "Mean IoU : \t 0.194715549788\n",
      "Epoch [36/50] Loss: 1.4998\n"
     ]
    },
    {
     "name": "stderr",
     "output_type": "stream",
     "text": [
      "131it [00:29,  4.45it/s]\n"
     ]
    },
    {
     "name": "stdout",
     "output_type": "stream",
     "text": [
      "Overall Acc: \t 0.522173986406\n",
      "Mean Acc : \t 0.29437039781\n",
      "FreqW Acc : \t 0.357057861827\n",
      "Mean IoU : \t 0.19626081824\n",
      "Epoch [37/50] Loss: 1.3948\n"
     ]
    },
    {
     "name": "stderr",
     "output_type": "stream",
     "text": [
      "131it [00:29,  4.47it/s]\n"
     ]
    },
    {
     "name": "stdout",
     "output_type": "stream",
     "text": [
      "Overall Acc: \t 0.528022555508\n",
      "Mean Acc : \t 0.296699278483\n",
      "FreqW Acc : \t 0.361756742869\n",
      "Mean IoU : \t 0.199930886717\n",
      "Epoch [38/50] Loss: 1.0196\n"
     ]
    },
    {
     "name": "stderr",
     "output_type": "stream",
     "text": [
      "131it [00:29,  4.50it/s]\n"
     ]
    },
    {
     "name": "stdout",
     "output_type": "stream",
     "text": [
      "Overall Acc: \t 0.52568720733\n",
      "Mean Acc : \t 0.303472721683\n",
      "FreqW Acc : \t 0.360569192886\n",
      "Mean IoU : \t 0.201216364975\n",
      "Epoch [39/50] Loss: 1.2716\n"
     ]
    },
    {
     "name": "stderr",
     "output_type": "stream",
     "text": [
      "131it [00:28,  4.55it/s]"
     ]
    },
    {
     "name": "stdout",
     "output_type": "stream",
     "text": [
      "Overall Acc: \t 0.525660458875\n",
      "Mean Acc : \t 0.290378238362\n",
      "FreqW Acc : \t 0.351690548643\n",
      "Mean IoU : \t 0.194031353373\n"
     ]
    },
    {
     "name": "stderr",
     "output_type": "stream",
     "text": [
      "\n"
     ]
    },
    {
     "name": "stdout",
     "output_type": "stream",
     "text": [
      "Epoch [40/50] Loss: 1.1731\n"
     ]
    },
    {
     "name": "stderr",
     "output_type": "stream",
     "text": [
      "131it [00:28,  4.58it/s]\n"
     ]
    },
    {
     "name": "stdout",
     "output_type": "stream",
     "text": [
      "Overall Acc: \t 0.524501992944\n",
      "Mean Acc : \t 0.304262823145\n",
      "FreqW Acc : \t 0.364795481067\n",
      "Mean IoU : \t 0.201908103106\n",
      "Epoch [41/50] Loss: 1.2747\n"
     ]
    },
    {
     "name": "stderr",
     "output_type": "stream",
     "text": [
      "131it [00:28,  4.56it/s]\n"
     ]
    },
    {
     "name": "stdout",
     "output_type": "stream",
     "text": [
      "Overall Acc: \t 0.525880812588\n",
      "Mean Acc : \t 0.313779242531\n",
      "FreqW Acc : \t 0.35745604033\n",
      "Mean IoU : \t 0.203401280132\n",
      "Epoch [42/50] Loss: 1.2564\n"
     ]
    },
    {
     "name": "stderr",
     "output_type": "stream",
     "text": [
      "131it [00:28,  4.57it/s]"
     ]
    },
    {
     "name": "stdout",
     "output_type": "stream",
     "text": [
      "Overall Acc: \t 0.52778499996\n",
      "Mean Acc : \t 0.29617062083\n",
      "FreqW Acc : \t 0.355590293362\n",
      "Mean IoU : \t 0.202199826413\n"
     ]
    },
    {
     "name": "stderr",
     "output_type": "stream",
     "text": [
      "\n"
     ]
    },
    {
     "name": "stdout",
     "output_type": "stream",
     "text": [
      "Epoch [43/50] Loss: 1.1886\n"
     ]
    },
    {
     "name": "stderr",
     "output_type": "stream",
     "text": [
      "131it [00:28,  4.58it/s]\n"
     ]
    },
    {
     "name": "stdout",
     "output_type": "stream",
     "text": [
      "Overall Acc: \t 0.525131960372\n",
      "Mean Acc : \t 0.318809483633\n",
      "FreqW Acc : \t 0.369203779604\n",
      "Mean IoU : \t 0.213355390438\n",
      "Epoch [44/50] Loss: 1.0600\n"
     ]
    },
    {
     "name": "stderr",
     "output_type": "stream",
     "text": [
      "131it [00:29,  4.50it/s]"
     ]
    },
    {
     "name": "stdout",
     "output_type": "stream",
     "text": [
      "Overall Acc: \t 0.529859657715\n",
      "Mean Acc : \t 0.293853602272\n",
      "FreqW Acc : \t 0.357469621521\n",
      "Mean IoU : \t 0.201481119056\n"
     ]
    },
    {
     "name": "stderr",
     "output_type": "stream",
     "text": [
      "\n"
     ]
    },
    {
     "name": "stdout",
     "output_type": "stream",
     "text": [
      "Epoch [45/50] Loss: 1.2221\n"
     ]
    },
    {
     "name": "stderr",
     "output_type": "stream",
     "text": [
      "131it [00:28,  4.54it/s]"
     ]
    },
    {
     "name": "stdout",
     "output_type": "stream",
     "text": [
      "Overall Acc: \t 0.53329114006\n",
      "Mean Acc : \t 0.3164428352\n",
      "FreqW Acc : \t 0.36722458013\n",
      "Mean IoU : \t 0.213007039823\n"
     ]
    },
    {
     "name": "stderr",
     "output_type": "stream",
     "text": [
      "\n"
     ]
    },
    {
     "name": "stdout",
     "output_type": "stream",
     "text": [
      "Epoch [46/50] Loss: 1.2023\n"
     ]
    },
    {
     "name": "stderr",
     "output_type": "stream",
     "text": [
      "131it [00:28,  4.57it/s]\n"
     ]
    },
    {
     "name": "stdout",
     "output_type": "stream",
     "text": [
      "Overall Acc: \t 0.53458082971\n",
      "Mean Acc : \t 0.328775534298\n",
      "FreqW Acc : \t 0.373022279392\n",
      "Mean IoU : \t 0.223647737068\n",
      "Epoch [47/50] Loss: 1.0399\n"
     ]
    },
    {
     "name": "stderr",
     "output_type": "stream",
     "text": [
      "131it [00:28,  4.55it/s]\n"
     ]
    },
    {
     "name": "stdout",
     "output_type": "stream",
     "text": [
      "Overall Acc: \t 0.533373008051\n",
      "Mean Acc : \t 0.33150831007\n",
      "FreqW Acc : \t 0.373823253727\n",
      "Mean IoU : \t 0.22816061421\n",
      "Epoch [48/50] Loss: 1.1331\n"
     ]
    },
    {
     "name": "stderr",
     "output_type": "stream",
     "text": [
      "131it [00:29,  4.49it/s]\n"
     ]
    },
    {
     "name": "stdout",
     "output_type": "stream",
     "text": [
      "Overall Acc: \t 0.53209269579\n",
      "Mean Acc : \t 0.339101094425\n",
      "FreqW Acc : \t 0.367581598549\n",
      "Mean IoU : \t 0.229032131284\n",
      "Epoch [49/50] Loss: 0.9616\n"
     ]
    },
    {
     "name": "stderr",
     "output_type": "stream",
     "text": [
      "131it [00:28,  4.57it/s]"
     ]
    },
    {
     "name": "stdout",
     "output_type": "stream",
     "text": [
      "Overall Acc: \t 0.534673354278\n",
      "Mean Acc : \t 0.338960469837\n",
      "FreqW Acc : \t 0.364365213881\n",
      "Mean IoU : \t 0.225478265093\n"
     ]
    },
    {
     "name": "stderr",
     "output_type": "stream",
     "text": [
      "\n"
     ]
    },
    {
     "name": "stdout",
     "output_type": "stream",
     "text": [
      "Epoch [50/50] Loss: 1.0795\n"
     ]
    },
    {
     "name": "stderr",
     "output_type": "stream",
     "text": [
      "131it [00:28,  4.55it/s]\n"
     ]
    },
    {
     "name": "stdout",
     "output_type": "stream",
     "text": [
      "Overall Acc: \t 0.536658623216\n",
      "Mean Acc : \t 0.3381998256\n",
      "FreqW Acc : \t 0.377566044792\n",
      "Mean IoU : \t 0.233577875768\n"
     ]
    }
   ],
   "source": [
    "from utils import *\n",
    "\n",
    "arg_str = '--gpu_idx 1 ' \\\n",
    "          '--arch segnet ' \\\n",
    "          '--dataset NYUDv2 ' \\\n",
    "          '--batch_size 5 ' \\\n",
    "          '--l_rate 1e-4 ' \\\n",
    "          '--n_epoch 50 ' \\\n",
    "          '--resume ../model_weights/segnet_NYUDv2_best_model.pkl'\n",
    "          '--visdom'\n",
    "\n",
    "trainer = trainer(arg_str)\n",
    "trainer.model_init()\n",
    "trainer.training()"
   ]
  },
  {
   "cell_type": "markdown",
   "metadata": {},
   "source": [
    "# Second training"
   ]
  },
  {
   "cell_type": "code",
   "execution_count": 2,
   "metadata": {},
   "outputs": [
    {
     "name": "stdout",
     "output_type": "stream",
     "text": [
      "Loading model and optimizer from checkpoint '../model_weights/segnet_NYUDv2_best_model.pkl'\n",
      "Loaded checkpoint '../model_weights/segnet_NYUDv2_best_model.pkl' (epoch 50)\n",
      "Epoch [1/50] Loss: 1.1618\n"
     ]
    },
    {
     "name": "stderr",
     "output_type": "stream",
     "text": [
      "131it [00:29,  4.41it/s]\n"
     ]
    },
    {
     "name": "stdout",
     "output_type": "stream",
     "text": [
      "Overall Acc: \t 0.526999549049\n",
      "Mean Acc : \t 0.337332372054\n",
      "FreqW Acc : \t 0.376389424012\n",
      "Mean IoU : \t 0.233763896856\n",
      "Epoch [2/50] Loss: 0.8229\n"
     ]
    },
    {
     "name": "stderr",
     "output_type": "stream",
     "text": [
      "131it [00:28,  4.57it/s]"
     ]
    },
    {
     "name": "stdout",
     "output_type": "stream",
     "text": [
      "Overall Acc: \t 0.532925083421\n",
      "Mean Acc : \t 0.353999986082\n",
      "FreqW Acc : \t 0.373610898252\n",
      "Mean IoU : \t 0.232601955874\n"
     ]
    },
    {
     "name": "stderr",
     "output_type": "stream",
     "text": [
      "\n"
     ]
    },
    {
     "name": "stdout",
     "output_type": "stream",
     "text": [
      "Epoch [3/50] Loss: 0.7887\n"
     ]
    },
    {
     "name": "stderr",
     "output_type": "stream",
     "text": [
      "131it [00:28,  4.52it/s]\n"
     ]
    },
    {
     "name": "stdout",
     "output_type": "stream",
     "text": [
      "Overall Acc: \t 0.536889076038\n",
      "Mean Acc : \t 0.345195135241\n",
      "FreqW Acc : \t 0.368575861143\n",
      "Mean IoU : \t 0.235127512613\n",
      "Epoch [4/50] Loss: 0.8997\n"
     ]
    },
    {
     "name": "stderr",
     "output_type": "stream",
     "text": [
      "131it [00:28,  4.58it/s]\n"
     ]
    },
    {
     "name": "stdout",
     "output_type": "stream",
     "text": [
      "Overall Acc: \t 0.534964043387\n",
      "Mean Acc : \t 0.350803131893\n",
      "FreqW Acc : \t 0.378223543077\n",
      "Mean IoU : \t 0.23851389712\n",
      "Epoch [5/50] Loss: 0.9340\n"
     ]
    },
    {
     "name": "stderr",
     "output_type": "stream",
     "text": [
      "131it [00:28,  4.55it/s]"
     ]
    },
    {
     "name": "stdout",
     "output_type": "stream",
     "text": [
      "Overall Acc: \t 0.537735216178\n",
      "Mean Acc : \t 0.341538140812\n",
      "FreqW Acc : \t 0.369509468833\n",
      "Mean IoU : \t 0.235763140401\n"
     ]
    },
    {
     "name": "stderr",
     "output_type": "stream",
     "text": [
      "\n"
     ]
    },
    {
     "name": "stdout",
     "output_type": "stream",
     "text": [
      "Epoch [6/50] Loss: 0.9471\n"
     ]
    },
    {
     "name": "stderr",
     "output_type": "stream",
     "text": [
      "131it [00:29,  4.46it/s]\n"
     ]
    },
    {
     "name": "stdout",
     "output_type": "stream",
     "text": [
      "Overall Acc: \t 0.535557954654\n",
      "Mean Acc : \t 0.362729458563\n",
      "FreqW Acc : \t 0.380510755412\n",
      "Mean IoU : \t 0.247118324779\n",
      "Epoch [7/50] Loss: 1.0010\n"
     ]
    },
    {
     "name": "stderr",
     "output_type": "stream",
     "text": [
      "131it [00:28,  4.57it/s]"
     ]
    },
    {
     "name": "stdout",
     "output_type": "stream",
     "text": [
      "Overall Acc: \t 0.541154593527\n",
      "Mean Acc : \t 0.360267500011\n",
      "FreqW Acc : \t 0.37336153008\n",
      "Mean IoU : \t 0.238898165032\n"
     ]
    },
    {
     "name": "stderr",
     "output_type": "stream",
     "text": [
      "\n"
     ]
    },
    {
     "name": "stdout",
     "output_type": "stream",
     "text": [
      "Epoch [8/50] Loss: 1.0129\n"
     ]
    },
    {
     "name": "stderr",
     "output_type": "stream",
     "text": [
      "131it [00:28,  4.56it/s]\n"
     ]
    },
    {
     "name": "stdout",
     "output_type": "stream",
     "text": [
      "Overall Acc: \t 0.540359307308\n",
      "Mean Acc : \t 0.37263172037\n",
      "FreqW Acc : \t 0.38003752966\n",
      "Mean IoU : \t 0.24855621391\n",
      "Epoch [9/50] Loss: 0.7475\n"
     ]
    },
    {
     "name": "stderr",
     "output_type": "stream",
     "text": [
      "131it [00:28,  4.54it/s]"
     ]
    },
    {
     "name": "stdout",
     "output_type": "stream",
     "text": [
      "Overall Acc: \t 0.536743178995\n",
      "Mean Acc : \t 0.368871327418\n",
      "FreqW Acc : \t 0.375704153426\n",
      "Mean IoU : \t 0.241407188671\n"
     ]
    },
    {
     "name": "stderr",
     "output_type": "stream",
     "text": [
      "\n"
     ]
    },
    {
     "name": "stdout",
     "output_type": "stream",
     "text": [
      "Epoch [10/50] Loss: 0.8876\n"
     ]
    },
    {
     "name": "stderr",
     "output_type": "stream",
     "text": [
      "131it [00:28,  4.58it/s]"
     ]
    },
    {
     "name": "stdout",
     "output_type": "stream",
     "text": [
      "Overall Acc: \t 0.540115430484\n",
      "Mean Acc : \t 0.347379824226\n",
      "FreqW Acc : \t 0.378609777744\n",
      "Mean IoU : \t 0.243301306034\n"
     ]
    },
    {
     "name": "stderr",
     "output_type": "stream",
     "text": [
      "\n"
     ]
    },
    {
     "name": "stdout",
     "output_type": "stream",
     "text": [
      "Epoch [11/50] Loss: 0.6406\n"
     ]
    },
    {
     "name": "stderr",
     "output_type": "stream",
     "text": [
      "131it [00:28,  4.58it/s]"
     ]
    },
    {
     "name": "stdout",
     "output_type": "stream",
     "text": [
      "Overall Acc: \t 0.544278249634\n",
      "Mean Acc : \t 0.359160845282\n",
      "FreqW Acc : \t 0.378854507932\n",
      "Mean IoU : \t 0.248136023773\n"
     ]
    },
    {
     "name": "stderr",
     "output_type": "stream",
     "text": [
      "\n"
     ]
    },
    {
     "name": "stdout",
     "output_type": "stream",
     "text": [
      "Epoch [12/50] Loss: 1.0096\n"
     ]
    },
    {
     "name": "stderr",
     "output_type": "stream",
     "text": [
      "131it [00:28,  4.58it/s]\n"
     ]
    },
    {
     "name": "stdout",
     "output_type": "stream",
     "text": [
      "Overall Acc: \t 0.541032179775\n",
      "Mean Acc : \t 0.367173500754\n",
      "FreqW Acc : \t 0.387749985993\n",
      "Mean IoU : \t 0.254500826432\n",
      "Epoch [13/50] Loss: 0.6340\n"
     ]
    },
    {
     "name": "stderr",
     "output_type": "stream",
     "text": [
      "131it [00:28,  4.57it/s]"
     ]
    },
    {
     "name": "stdout",
     "output_type": "stream",
     "text": [
      "Overall Acc: \t 0.543139777849\n",
      "Mean Acc : \t 0.358817784301\n",
      "FreqW Acc : \t 0.383219200191\n",
      "Mean IoU : \t 0.249868997542\n"
     ]
    },
    {
     "name": "stderr",
     "output_type": "stream",
     "text": [
      "\n"
     ]
    },
    {
     "name": "stdout",
     "output_type": "stream",
     "text": [
      "Epoch [14/50] Loss: 0.7405\n"
     ]
    },
    {
     "name": "stderr",
     "output_type": "stream",
     "text": [
      "131it [00:29,  4.51it/s]"
     ]
    },
    {
     "name": "stdout",
     "output_type": "stream",
     "text": [
      "Overall Acc: \t 0.546372578006\n",
      "Mean Acc : \t 0.363783100512\n",
      "FreqW Acc : \t 0.387528302444\n",
      "Mean IoU : \t 0.253541886086\n"
     ]
    },
    {
     "name": "stderr",
     "output_type": "stream",
     "text": [
      "\n"
     ]
    },
    {
     "name": "stdout",
     "output_type": "stream",
     "text": [
      "Epoch [15/50] Loss: 0.6802\n"
     ]
    },
    {
     "name": "stderr",
     "output_type": "stream",
     "text": [
      "131it [00:29,  4.46it/s]"
     ]
    },
    {
     "name": "stdout",
     "output_type": "stream",
     "text": [
      "Overall Acc: \t 0.543702640203\n",
      "Mean Acc : \t 0.373292309437\n",
      "FreqW Acc : \t 0.381904648929\n",
      "Mean IoU : \t 0.24834137186\n"
     ]
    },
    {
     "name": "stderr",
     "output_type": "stream",
     "text": [
      "\n"
     ]
    },
    {
     "name": "stdout",
     "output_type": "stream",
     "text": [
      "Epoch [16/50] Loss: 0.8247\n"
     ]
    },
    {
     "name": "stderr",
     "output_type": "stream",
     "text": [
      "131it [00:29,  4.39it/s]"
     ]
    },
    {
     "name": "stdout",
     "output_type": "stream",
     "text": [
      "Overall Acc: \t 0.538124726244\n",
      "Mean Acc : \t 0.350942048585\n",
      "FreqW Acc : \t 0.374932721884\n",
      "Mean IoU : \t 0.238773861566\n"
     ]
    },
    {
     "name": "stderr",
     "output_type": "stream",
     "text": [
      "\n"
     ]
    },
    {
     "name": "stdout",
     "output_type": "stream",
     "text": [
      "Epoch [17/50] Loss: 0.9413\n"
     ]
    },
    {
     "name": "stderr",
     "output_type": "stream",
     "text": [
      "131it [00:29,  4.43it/s]\n"
     ]
    },
    {
     "name": "stdout",
     "output_type": "stream",
     "text": [
      "Overall Acc: \t 0.545514417487\n",
      "Mean Acc : \t 0.376317585929\n",
      "FreqW Acc : \t 0.38994654469\n",
      "Mean IoU : \t 0.258165906098\n",
      "Epoch [18/50] Loss: 0.7571\n"
     ]
    },
    {
     "name": "stderr",
     "output_type": "stream",
     "text": [
      "131it [00:29,  4.37it/s]"
     ]
    },
    {
     "name": "stdout",
     "output_type": "stream",
     "text": [
      "Overall Acc: \t 0.544619603522\n",
      "Mean Acc : \t 0.370990272124\n",
      "FreqW Acc : \t 0.388721881377\n",
      "Mean IoU : \t 0.257285367931\n"
     ]
    },
    {
     "name": "stderr",
     "output_type": "stream",
     "text": [
      "\n"
     ]
    },
    {
     "name": "stdout",
     "output_type": "stream",
     "text": [
      "Epoch [19/50] Loss: 0.8204\n"
     ]
    },
    {
     "name": "stderr",
     "output_type": "stream",
     "text": [
      "131it [00:29,  4.47it/s]"
     ]
    },
    {
     "name": "stdout",
     "output_type": "stream",
     "text": [
      "Overall Acc: \t 0.544681427593\n",
      "Mean Acc : \t 0.35817412762\n",
      "FreqW Acc : \t 0.379506767025\n",
      "Mean IoU : \t 0.251483781604\n"
     ]
    },
    {
     "name": "stderr",
     "output_type": "stream",
     "text": [
      "\n"
     ]
    },
    {
     "name": "stdout",
     "output_type": "stream",
     "text": [
      "Epoch [20/50] Loss: 0.6671\n"
     ]
    },
    {
     "name": "stderr",
     "output_type": "stream",
     "text": [
      "131it [00:29,  4.43it/s]\n"
     ]
    },
    {
     "name": "stdout",
     "output_type": "stream",
     "text": [
      "Overall Acc: \t 0.545773365826\n",
      "Mean Acc : \t 0.382359802257\n",
      "FreqW Acc : \t 0.390636172264\n",
      "Mean IoU : \t 0.263871759893\n",
      "Epoch [21/50] Loss: 0.6814\n"
     ]
    },
    {
     "name": "stderr",
     "output_type": "stream",
     "text": [
      "131it [00:29,  4.51it/s]"
     ]
    },
    {
     "name": "stdout",
     "output_type": "stream",
     "text": [
      "Overall Acc: \t 0.54209290484\n",
      "Mean Acc : \t 0.358806470408\n",
      "FreqW Acc : \t 0.385371888694\n",
      "Mean IoU : \t 0.255014281587\n"
     ]
    },
    {
     "name": "stderr",
     "output_type": "stream",
     "text": [
      "\n"
     ]
    },
    {
     "name": "stdout",
     "output_type": "stream",
     "text": [
      "Epoch [22/50] Loss: 0.9457\n"
     ]
    },
    {
     "name": "stderr",
     "output_type": "stream",
     "text": [
      "131it [00:29,  4.45it/s]"
     ]
    },
    {
     "name": "stdout",
     "output_type": "stream",
     "text": [
      "Overall Acc: \t 0.543242162613\n",
      "Mean Acc : \t 0.353858488237\n",
      "FreqW Acc : \t 0.381841597434\n",
      "Mean IoU : \t 0.254305444553\n"
     ]
    },
    {
     "name": "stderr",
     "output_type": "stream",
     "text": [
      "\n"
     ]
    },
    {
     "name": "stdout",
     "output_type": "stream",
     "text": [
      "Epoch [23/50] Loss: 0.7596\n"
     ]
    },
    {
     "name": "stderr",
     "output_type": "stream",
     "text": [
      "131it [00:29,  4.42it/s]"
     ]
    },
    {
     "name": "stdout",
     "output_type": "stream",
     "text": [
      "Overall Acc: \t 0.546791106213\n",
      "Mean Acc : \t 0.378984346486\n",
      "FreqW Acc : \t 0.386427988302\n",
      "Mean IoU : \t 0.253790469631\n"
     ]
    },
    {
     "name": "stderr",
     "output_type": "stream",
     "text": [
      "\n"
     ]
    },
    {
     "name": "stdout",
     "output_type": "stream",
     "text": [
      "Epoch [24/50] Loss: 0.5989\n"
     ]
    },
    {
     "name": "stderr",
     "output_type": "stream",
     "text": [
      "131it [00:29,  4.45it/s]"
     ]
    },
    {
     "name": "stdout",
     "output_type": "stream",
     "text": [
      "Overall Acc: \t 0.549795150835\n",
      "Mean Acc : \t 0.38811077958\n",
      "FreqW Acc : \t 0.389928758588\n",
      "Mean IoU : \t 0.261869851227\n"
     ]
    },
    {
     "name": "stderr",
     "output_type": "stream",
     "text": [
      "\n"
     ]
    },
    {
     "name": "stdout",
     "output_type": "stream",
     "text": [
      "Epoch [25/50] Loss: 0.5794\n"
     ]
    },
    {
     "name": "stderr",
     "output_type": "stream",
     "text": [
      "131it [00:29,  4.45it/s]"
     ]
    },
    {
     "name": "stdout",
     "output_type": "stream",
     "text": [
      "Overall Acc: \t 0.546346795163\n",
      "Mean Acc : \t 0.379567006228\n",
      "FreqW Acc : \t 0.381272898563\n",
      "Mean IoU : \t 0.254422726702\n"
     ]
    },
    {
     "name": "stderr",
     "output_type": "stream",
     "text": [
      "\n"
     ]
    },
    {
     "name": "stdout",
     "output_type": "stream",
     "text": [
      "Epoch [26/50] Loss: 0.5326\n"
     ]
    },
    {
     "name": "stderr",
     "output_type": "stream",
     "text": [
      "131it [00:29,  4.45it/s]\n"
     ]
    },
    {
     "name": "stdout",
     "output_type": "stream",
     "text": [
      "Overall Acc: \t 0.551608451198\n",
      "Mean Acc : \t 0.388248597681\n",
      "FreqW Acc : \t 0.391774413523\n",
      "Mean IoU : \t 0.265391414321\n",
      "Epoch [27/50] Loss: 0.7027\n"
     ]
    },
    {
     "name": "stderr",
     "output_type": "stream",
     "text": [
      "131it [00:28,  4.55it/s]"
     ]
    },
    {
     "name": "stdout",
     "output_type": "stream",
     "text": [
      "Overall Acc: \t 0.549766496042\n",
      "Mean Acc : \t 0.368599930387\n",
      "FreqW Acc : \t 0.382278918149\n",
      "Mean IoU : \t 0.253818032756\n"
     ]
    },
    {
     "name": "stderr",
     "output_type": "stream",
     "text": [
      "\n"
     ]
    },
    {
     "name": "stdout",
     "output_type": "stream",
     "text": [
      "Epoch [28/50] Loss: 0.4712\n"
     ]
    },
    {
     "name": "stderr",
     "output_type": "stream",
     "text": [
      "131it [00:28,  4.58it/s]\n"
     ]
    },
    {
     "name": "stdout",
     "output_type": "stream",
     "text": [
      "Overall Acc: \t 0.553222666205\n",
      "Mean Acc : \t 0.393712942893\n",
      "FreqW Acc : \t 0.394069421401\n",
      "Mean IoU : \t 0.266226951619\n",
      "Epoch [29/50] Loss: 0.5382\n"
     ]
    },
    {
     "name": "stderr",
     "output_type": "stream",
     "text": [
      "131it [00:28,  4.56it/s]"
     ]
    },
    {
     "name": "stdout",
     "output_type": "stream",
     "text": [
      "Overall Acc: \t 0.550380889239\n",
      "Mean Acc : \t 0.369406984351\n",
      "FreqW Acc : \t 0.386832387637\n",
      "Mean IoU : \t 0.259822765833\n"
     ]
    },
    {
     "name": "stderr",
     "output_type": "stream",
     "text": [
      "\n"
     ]
    },
    {
     "name": "stdout",
     "output_type": "stream",
     "text": [
      "Epoch [30/50] Loss: 0.5842\n"
     ]
    },
    {
     "name": "stderr",
     "output_type": "stream",
     "text": [
      "131it [00:28,  4.52it/s]"
     ]
    },
    {
     "name": "stdout",
     "output_type": "stream",
     "text": [
      "Overall Acc: \t 0.555177339171\n",
      "Mean Acc : \t 0.382566442081\n",
      "FreqW Acc : \t 0.390019548623\n",
      "Mean IoU : \t 0.263401665735\n"
     ]
    },
    {
     "name": "stderr",
     "output_type": "stream",
     "text": [
      "\n"
     ]
    },
    {
     "name": "stdout",
     "output_type": "stream",
     "text": [
      "Epoch [31/50] Loss: 0.6132\n"
     ]
    },
    {
     "name": "stderr",
     "output_type": "stream",
     "text": [
      "131it [00:29,  4.47it/s]"
     ]
    },
    {
     "name": "stdout",
     "output_type": "stream",
     "text": [
      "Overall Acc: \t 0.553380708063\n",
      "Mean Acc : \t 0.38005066997\n",
      "FreqW Acc : \t 0.392347815324\n",
      "Mean IoU : \t 0.261994972915\n"
     ]
    },
    {
     "name": "stderr",
     "output_type": "stream",
     "text": [
      "\n"
     ]
    },
    {
     "name": "stdout",
     "output_type": "stream",
     "text": [
      "Epoch [32/50] Loss: 0.5823\n"
     ]
    },
    {
     "name": "stderr",
     "output_type": "stream",
     "text": [
      "131it [00:28,  4.54it/s]"
     ]
    },
    {
     "name": "stdout",
     "output_type": "stream",
     "text": [
      "Overall Acc: \t 0.546179475463\n",
      "Mean Acc : \t 0.367875931544\n",
      "FreqW Acc : \t 0.383824272972\n",
      "Mean IoU : \t 0.259591001438\n"
     ]
    },
    {
     "name": "stderr",
     "output_type": "stream",
     "text": [
      "\n"
     ]
    },
    {
     "name": "stdout",
     "output_type": "stream",
     "text": [
      "Epoch [33/50] Loss: 0.4930\n"
     ]
    },
    {
     "name": "stderr",
     "output_type": "stream",
     "text": [
      "131it [00:28,  4.57it/s]"
     ]
    },
    {
     "name": "stdout",
     "output_type": "stream",
     "text": [
      "Overall Acc: \t 0.552312765792\n",
      "Mean Acc : \t 0.358460145663\n",
      "FreqW Acc : \t 0.386040833141\n",
      "Mean IoU : \t 0.256297608876\n"
     ]
    },
    {
     "name": "stderr",
     "output_type": "stream",
     "text": [
      "\n"
     ]
    },
    {
     "name": "stdout",
     "output_type": "stream",
     "text": [
      "Epoch [34/50] Loss: 0.4061\n"
     ]
    },
    {
     "name": "stderr",
     "output_type": "stream",
     "text": [
      "131it [00:28,  4.56it/s]\n"
     ]
    },
    {
     "name": "stdout",
     "output_type": "stream",
     "text": [
      "Overall Acc: \t 0.556069649513\n",
      "Mean Acc : \t 0.380161355204\n",
      "FreqW Acc : \t 0.392770149084\n",
      "Mean IoU : \t 0.267762201033\n",
      "Epoch [35/50] Loss: 0.6333\n"
     ]
    },
    {
     "name": "stderr",
     "output_type": "stream",
     "text": [
      "131it [00:28,  4.57it/s]"
     ]
    },
    {
     "name": "stdout",
     "output_type": "stream",
     "text": [
      "Overall Acc: \t 0.550466480313\n",
      "Mean Acc : \t 0.392878449948\n",
      "FreqW Acc : \t 0.387401930988\n",
      "Mean IoU : \t 0.263858039259\n"
     ]
    },
    {
     "name": "stderr",
     "output_type": "stream",
     "text": [
      "\n"
     ]
    },
    {
     "name": "stdout",
     "output_type": "stream",
     "text": [
      "Epoch [36/50] Loss: 0.5242\n"
     ]
    },
    {
     "name": "stderr",
     "output_type": "stream",
     "text": [
      "131it [00:28,  4.59it/s]"
     ]
    },
    {
     "name": "stdout",
     "output_type": "stream",
     "text": [
      "Overall Acc: \t 0.556156713892\n",
      "Mean Acc : \t 0.379348978951\n",
      "FreqW Acc : \t 0.393646371783\n",
      "Mean IoU : \t 0.264302539509\n"
     ]
    },
    {
     "name": "stderr",
     "output_type": "stream",
     "text": [
      "\n"
     ]
    },
    {
     "name": "stdout",
     "output_type": "stream",
     "text": [
      "Epoch [37/50] Loss: 0.4918\n"
     ]
    },
    {
     "name": "stderr",
     "output_type": "stream",
     "text": [
      "131it [00:28,  4.61it/s]"
     ]
    },
    {
     "name": "stdout",
     "output_type": "stream",
     "text": [
      "Overall Acc: \t 0.554851972636\n",
      "Mean Acc : \t 0.391210208078\n",
      "FreqW Acc : \t 0.388934001772\n",
      "Mean IoU : \t 0.265728556217\n"
     ]
    },
    {
     "name": "stderr",
     "output_type": "stream",
     "text": [
      "\n"
     ]
    },
    {
     "name": "stdout",
     "output_type": "stream",
     "text": [
      "Epoch [38/50] Loss: 0.4569\n"
     ]
    },
    {
     "name": "stderr",
     "output_type": "stream",
     "text": [
      "131it [00:28,  4.57it/s]"
     ]
    },
    {
     "name": "stdout",
     "output_type": "stream",
     "text": [
      "Overall Acc: \t 0.542090495787\n",
      "Mean Acc : \t 0.355612791217\n",
      "FreqW Acc : \t 0.363027643469\n",
      "Mean IoU : \t 0.244916256563\n"
     ]
    },
    {
     "name": "stderr",
     "output_type": "stream",
     "text": [
      "\n"
     ]
    },
    {
     "name": "stdout",
     "output_type": "stream",
     "text": [
      "Epoch [39/50] Loss: 0.4990\n"
     ]
    },
    {
     "name": "stderr",
     "output_type": "stream",
     "text": [
      "131it [00:28,  4.56it/s]"
     ]
    },
    {
     "name": "stdout",
     "output_type": "stream",
     "text": [
      "Overall Acc: \t 0.547916368024\n",
      "Mean Acc : \t 0.373647420668\n",
      "FreqW Acc : \t 0.392292411908\n",
      "Mean IoU : \t 0.264839545995\n"
     ]
    },
    {
     "name": "stderr",
     "output_type": "stream",
     "text": [
      "\n"
     ]
    },
    {
     "name": "stdout",
     "output_type": "stream",
     "text": [
      "Epoch [40/50] Loss: 0.5967\n"
     ]
    },
    {
     "name": "stderr",
     "output_type": "stream",
     "text": [
      "131it [00:28,  4.61it/s]"
     ]
    },
    {
     "name": "stdout",
     "output_type": "stream",
     "text": [
      "Overall Acc: \t 0.554492048133\n",
      "Mean Acc : \t 0.382892360318\n",
      "FreqW Acc : \t 0.392855418941\n",
      "Mean IoU : \t 0.265906861817\n"
     ]
    },
    {
     "name": "stderr",
     "output_type": "stream",
     "text": [
      "\n"
     ]
    },
    {
     "name": "stdout",
     "output_type": "stream",
     "text": [
      "Epoch [41/50] Loss: 0.4149\n"
     ]
    },
    {
     "name": "stderr",
     "output_type": "stream",
     "text": [
      "131it [00:29,  4.47it/s]"
     ]
    },
    {
     "name": "stdout",
     "output_type": "stream",
     "text": [
      "Overall Acc: \t 0.54928924965\n",
      "Mean Acc : \t 0.374373944569\n",
      "FreqW Acc : \t 0.389116612311\n",
      "Mean IoU : \t 0.263255757449\n"
     ]
    },
    {
     "name": "stderr",
     "output_type": "stream",
     "text": [
      "\n"
     ]
    },
    {
     "name": "stdout",
     "output_type": "stream",
     "text": [
      "Epoch [42/50] Loss: 0.4096\n"
     ]
    },
    {
     "name": "stderr",
     "output_type": "stream",
     "text": [
      "131it [00:28,  4.56it/s]"
     ]
    },
    {
     "name": "stdout",
     "output_type": "stream",
     "text": [
      "Overall Acc: \t 0.552036028287\n",
      "Mean Acc : \t 0.387426431147\n",
      "FreqW Acc : \t 0.395784010096\n",
      "Mean IoU : \t 0.265998833862\n"
     ]
    },
    {
     "name": "stderr",
     "output_type": "stream",
     "text": [
      "\n"
     ]
    },
    {
     "name": "stdout",
     "output_type": "stream",
     "text": [
      "Epoch [43/50] Loss: 0.4331\n"
     ]
    },
    {
     "name": "stderr",
     "output_type": "stream",
     "text": [
      "131it [00:29,  4.52it/s]"
     ]
    },
    {
     "name": "stdout",
     "output_type": "stream",
     "text": [
      "Overall Acc: \t 0.555698092866\n",
      "Mean Acc : \t 0.374564236795\n",
      "FreqW Acc : \t 0.392878696391\n",
      "Mean IoU : \t 0.267628249676\n"
     ]
    },
    {
     "name": "stderr",
     "output_type": "stream",
     "text": [
      "\n"
     ]
    },
    {
     "name": "stdout",
     "output_type": "stream",
     "text": [
      "Epoch [44/50] Loss: 0.4160\n"
     ]
    },
    {
     "name": "stderr",
     "output_type": "stream",
     "text": [
      "131it [00:28,  4.53it/s]"
     ]
    },
    {
     "name": "stdout",
     "output_type": "stream",
     "text": [
      "Overall Acc: \t 0.554721117243\n",
      "Mean Acc : \t 0.373006894542\n",
      "FreqW Acc : \t 0.392935797067\n",
      "Mean IoU : \t 0.265885506018\n"
     ]
    },
    {
     "name": "stderr",
     "output_type": "stream",
     "text": [
      "\n"
     ]
    },
    {
     "name": "stdout",
     "output_type": "stream",
     "text": [
      "Epoch [45/50] Loss: 0.5009\n"
     ]
    },
    {
     "name": "stderr",
     "output_type": "stream",
     "text": [
      "131it [00:29,  4.44it/s]\n"
     ]
    },
    {
     "name": "stdout",
     "output_type": "stream",
     "text": [
      "Overall Acc: \t 0.557642776225\n",
      "Mean Acc : \t 0.400264626663\n",
      "FreqW Acc : \t 0.395013104062\n",
      "Mean IoU : \t 0.271731926887\n",
      "Epoch [46/50] Loss: 0.4460\n"
     ]
    },
    {
     "name": "stderr",
     "output_type": "stream",
     "text": [
      "131it [00:28,  4.53it/s]\n"
     ]
    },
    {
     "name": "stdout",
     "output_type": "stream",
     "text": [
      "Overall Acc: \t 0.557687577647\n",
      "Mean Acc : \t 0.393636893271\n",
      "FreqW Acc : \t 0.397821849856\n",
      "Mean IoU : \t 0.272151979656\n",
      "Epoch [47/50] Loss: 0.4675\n"
     ]
    },
    {
     "name": "stderr",
     "output_type": "stream",
     "text": [
      "131it [00:28,  4.59it/s]"
     ]
    },
    {
     "name": "stdout",
     "output_type": "stream",
     "text": [
      "Overall Acc: \t 0.55834758358\n",
      "Mean Acc : \t 0.391963869536\n",
      "FreqW Acc : \t 0.392969235303\n",
      "Mean IoU : \t 0.269404638822\n"
     ]
    },
    {
     "name": "stderr",
     "output_type": "stream",
     "text": [
      "\n"
     ]
    },
    {
     "name": "stdout",
     "output_type": "stream",
     "text": [
      "Epoch [48/50] Loss: 0.3613\n"
     ]
    },
    {
     "name": "stderr",
     "output_type": "stream",
     "text": [
      "131it [00:28,  4.57it/s]"
     ]
    },
    {
     "name": "stdout",
     "output_type": "stream",
     "text": [
      "Overall Acc: \t 0.556778035606\n",
      "Mean Acc : \t 0.380050725073\n",
      "FreqW Acc : \t 0.393796932307\n",
      "Mean IoU : \t 0.268279024862\n"
     ]
    },
    {
     "name": "stderr",
     "output_type": "stream",
     "text": [
      "\n"
     ]
    },
    {
     "name": "stdout",
     "output_type": "stream",
     "text": [
      "Epoch [49/50] Loss: 0.3318\n"
     ]
    },
    {
     "name": "stderr",
     "output_type": "stream",
     "text": [
      "131it [00:29,  4.50it/s]"
     ]
    },
    {
     "name": "stdout",
     "output_type": "stream",
     "text": [
      "Overall Acc: \t 0.550133806981\n",
      "Mean Acc : \t 0.378750366161\n",
      "FreqW Acc : \t 0.395412523687\n",
      "Mean IoU : \t 0.267466503217\n"
     ]
    },
    {
     "name": "stderr",
     "output_type": "stream",
     "text": [
      "\n"
     ]
    },
    {
     "name": "stdout",
     "output_type": "stream",
     "text": [
      "Epoch [50/50] Loss: 0.3739\n"
     ]
    },
    {
     "name": "stderr",
     "output_type": "stream",
     "text": [
      "131it [00:28,  4.61it/s]"
     ]
    },
    {
     "name": "stdout",
     "output_type": "stream",
     "text": [
      "Overall Acc: \t 0.556645970709\n",
      "Mean Acc : \t 0.375051292704\n",
      "FreqW Acc : \t 0.388207053796\n",
      "Mean IoU : \t 0.265750955218\n"
     ]
    },
    {
     "name": "stderr",
     "output_type": "stream",
     "text": [
      "\n"
     ]
    }
   ],
   "source": [
    "from utils import *\n",
    "\n",
    "arg_str = '--gpu_idx 1 ' \\\n",
    "          '--arch segnet ' \\\n",
    "          '--dataset NYUDv2 ' \\\n",
    "          '--batch_size 5 ' \\\n",
    "          '--l_rate 1e-4 ' \\\n",
    "          '--n_epoch 50 ' \\\n",
    "          '--resume ../model_weights/segnet_NYUDv2_best_model.pkl ' \\\n",
    "          '--visdom'\n",
    "\n",
    "trainer = trainer(arg_str)\n",
    "trainer.model_init()\n",
    "trainer.training()"
   ]
  },
  {
   "cell_type": "markdown",
   "metadata": {},
   "source": [
    "# Third round"
   ]
  },
  {
   "cell_type": "code",
   "execution_count": 3,
   "metadata": {},
   "outputs": [
    {
     "name": "stdout",
     "output_type": "stream",
     "text": [
      "Epoch [1/50] Loss: 0.3718\n"
     ]
    },
    {
     "name": "stderr",
     "output_type": "stream",
     "text": [
      "131it [00:27,  4.69it/s]\n"
     ]
    },
    {
     "name": "stdout",
     "output_type": "stream",
     "text": [
      "Overall Acc: \t 0.552821041189\n",
      "Mean Acc : \t 0.387851926509\n",
      "FreqW Acc : \t 0.397469392945\n",
      "Mean IoU : \t 0.271388728082\n",
      "Epoch [2/50] Loss: 0.3501\n"
     ]
    },
    {
     "name": "stderr",
     "output_type": "stream",
     "text": [
      "131it [00:27,  4.72it/s]\n"
     ]
    },
    {
     "name": "stdout",
     "output_type": "stream",
     "text": [
      "Overall Acc: \t 0.555372532214\n",
      "Mean Acc : \t 0.394172553536\n",
      "FreqW Acc : \t 0.395974554461\n",
      "Mean IoU : \t 0.272127929937\n",
      "Epoch [3/50] Loss: 0.4971\n"
     ]
    },
    {
     "name": "stderr",
     "output_type": "stream",
     "text": [
      "131it [00:28,  4.65it/s]"
     ]
    },
    {
     "name": "stdout",
     "output_type": "stream",
     "text": [
      "Overall Acc: \t 0.550930506777\n",
      "Mean Acc : \t 0.37928285077\n",
      "FreqW Acc : \t 0.38450168054\n",
      "Mean IoU : \t 0.265303420152\n"
     ]
    },
    {
     "name": "stderr",
     "output_type": "stream",
     "text": [
      "\n"
     ]
    },
    {
     "name": "stdout",
     "output_type": "stream",
     "text": [
      "Epoch [4/50] Loss: 0.3477\n"
     ]
    },
    {
     "name": "stderr",
     "output_type": "stream",
     "text": [
      "131it [00:28,  4.67it/s]"
     ]
    },
    {
     "name": "stdout",
     "output_type": "stream",
     "text": [
      "Overall Acc: \t 0.553451894591\n",
      "Mean Acc : \t 0.398707599097\n",
      "FreqW Acc : \t 0.395050187601\n",
      "Mean IoU : \t 0.270093782099\n"
     ]
    },
    {
     "name": "stderr",
     "output_type": "stream",
     "text": [
      "\n"
     ]
    },
    {
     "name": "stdout",
     "output_type": "stream",
     "text": [
      "Epoch [5/50] Loss: 0.3728\n"
     ]
    },
    {
     "name": "stderr",
     "output_type": "stream",
     "text": [
      "131it [00:28,  4.60it/s]"
     ]
    },
    {
     "name": "stdout",
     "output_type": "stream",
     "text": [
      "Overall Acc: \t 0.556708068537\n",
      "Mean Acc : \t 0.372516604568\n",
      "FreqW Acc : \t 0.394948555853\n",
      "Mean IoU : \t 0.267019515878\n"
     ]
    },
    {
     "name": "stderr",
     "output_type": "stream",
     "text": [
      "\n"
     ]
    },
    {
     "name": "stdout",
     "output_type": "stream",
     "text": [
      "Epoch [6/50] Loss: 0.5123\n"
     ]
    },
    {
     "name": "stderr",
     "output_type": "stream",
     "text": [
      "131it [00:28,  4.67it/s]"
     ]
    },
    {
     "name": "stdout",
     "output_type": "stream",
     "text": [
      "Overall Acc: \t 0.558082089983\n",
      "Mean Acc : \t 0.387299709266\n",
      "FreqW Acc : \t 0.397836532268\n",
      "Mean IoU : \t 0.267285201769\n"
     ]
    },
    {
     "name": "stderr",
     "output_type": "stream",
     "text": [
      "\n"
     ]
    },
    {
     "name": "stdout",
     "output_type": "stream",
     "text": [
      "Epoch [7/50] Loss: 0.3896\n"
     ]
    },
    {
     "name": "stderr",
     "output_type": "stream",
     "text": [
      "131it [00:28,  4.60it/s]"
     ]
    },
    {
     "name": "stdout",
     "output_type": "stream",
     "text": [
      "Overall Acc: \t 0.55534604756\n",
      "Mean Acc : \t 0.37358578847\n",
      "FreqW Acc : \t 0.392341174184\n",
      "Mean IoU : \t 0.266854002105\n"
     ]
    },
    {
     "name": "stderr",
     "output_type": "stream",
     "text": [
      "\n"
     ]
    },
    {
     "name": "stdout",
     "output_type": "stream",
     "text": [
      "Epoch [8/50] Loss: 0.4160\n"
     ]
    },
    {
     "name": "stderr",
     "output_type": "stream",
     "text": [
      "131it [00:28,  4.65it/s]"
     ]
    },
    {
     "name": "stdout",
     "output_type": "stream",
     "text": [
      "Overall Acc: \t 0.556777099858\n",
      "Mean Acc : \t 0.382183810173\n",
      "FreqW Acc : \t 0.397850071194\n",
      "Mean IoU : \t 0.271632919348\n"
     ]
    },
    {
     "name": "stderr",
     "output_type": "stream",
     "text": [
      "\n"
     ]
    },
    {
     "name": "stdout",
     "output_type": "stream",
     "text": [
      "Epoch [9/50] Loss: 0.4007\n"
     ]
    },
    {
     "name": "stderr",
     "output_type": "stream",
     "text": [
      "131it [00:28,  4.61it/s]"
     ]
    },
    {
     "name": "stdout",
     "output_type": "stream",
     "text": [
      "Overall Acc: \t 0.550357744409\n",
      "Mean Acc : \t 0.377131168342\n",
      "FreqW Acc : \t 0.392673242403\n",
      "Mean IoU : \t 0.270430266548\n"
     ]
    },
    {
     "name": "stderr",
     "output_type": "stream",
     "text": [
      "\n"
     ]
    },
    {
     "name": "stdout",
     "output_type": "stream",
     "text": [
      "Epoch [10/50] Loss: 0.4093\n"
     ]
    },
    {
     "name": "stderr",
     "output_type": "stream",
     "text": [
      "131it [00:28,  4.64it/s]"
     ]
    },
    {
     "name": "stdout",
     "output_type": "stream",
     "text": [
      "Overall Acc: \t 0.55178192792\n",
      "Mean Acc : \t 0.381833886156\n",
      "FreqW Acc : \t 0.392984069455\n",
      "Mean IoU : \t 0.269741083157\n"
     ]
    },
    {
     "name": "stderr",
     "output_type": "stream",
     "text": [
      "\n"
     ]
    },
    {
     "name": "stdout",
     "output_type": "stream",
     "text": [
      "Epoch [11/50] Loss: 0.4042\n"
     ]
    },
    {
     "name": "stderr",
     "output_type": "stream",
     "text": [
      "131it [00:28,  4.55it/s]"
     ]
    },
    {
     "name": "stdout",
     "output_type": "stream",
     "text": [
      "Overall Acc: \t 0.556341165743\n",
      "Mean Acc : \t 0.372242549317\n",
      "FreqW Acc : \t 0.39158312781\n",
      "Mean IoU : \t 0.267265550448\n"
     ]
    },
    {
     "name": "stderr",
     "output_type": "stream",
     "text": [
      "\n"
     ]
    },
    {
     "name": "stdout",
     "output_type": "stream",
     "text": [
      "Epoch [12/50] Loss: 0.3168\n"
     ]
    },
    {
     "name": "stderr",
     "output_type": "stream",
     "text": [
      "131it [00:28,  4.58it/s]"
     ]
    },
    {
     "name": "stdout",
     "output_type": "stream",
     "text": [
      "Overall Acc: \t 0.556286777881\n",
      "Mean Acc : \t 0.376003780988\n",
      "FreqW Acc : \t 0.394845624887\n",
      "Mean IoU : \t 0.270120389117\n"
     ]
    },
    {
     "name": "stderr",
     "output_type": "stream",
     "text": [
      "\n"
     ]
    },
    {
     "name": "stdout",
     "output_type": "stream",
     "text": [
      "Epoch [13/50] Loss: 0.3674\n"
     ]
    },
    {
     "name": "stderr",
     "output_type": "stream",
     "text": [
      "131it [00:28,  4.53it/s]"
     ]
    },
    {
     "name": "stdout",
     "output_type": "stream",
     "text": [
      "Overall Acc: \t 0.554188004707\n",
      "Mean Acc : \t 0.376100739389\n",
      "FreqW Acc : \t 0.397813187971\n",
      "Mean IoU : \t 0.271779901935\n"
     ]
    },
    {
     "name": "stderr",
     "output_type": "stream",
     "text": [
      "\n"
     ]
    },
    {
     "name": "stdout",
     "output_type": "stream",
     "text": [
      "Epoch [14/50] Loss: 0.4152\n"
     ]
    },
    {
     "name": "stderr",
     "output_type": "stream",
     "text": [
      "131it [00:28,  4.59it/s]\n"
     ]
    },
    {
     "name": "stdout",
     "output_type": "stream",
     "text": [
      "Overall Acc: \t 0.557545040337\n",
      "Mean Acc : \t 0.395007531648\n",
      "FreqW Acc : \t 0.396218283695\n",
      "Mean IoU : \t 0.273835624535\n",
      "Epoch [15/50] Loss: 0.3348\n"
     ]
    },
    {
     "name": "stderr",
     "output_type": "stream",
     "text": [
      "131it [00:28,  4.64it/s]\n"
     ]
    },
    {
     "name": "stdout",
     "output_type": "stream",
     "text": [
      "Overall Acc: \t 0.554922337897\n",
      "Mean Acc : \t 0.392967040937\n",
      "FreqW Acc : \t 0.396914806297\n",
      "Mean IoU : \t 0.274606836796\n",
      "Epoch [16/50] Loss: 0.2701\n"
     ]
    },
    {
     "name": "stderr",
     "output_type": "stream",
     "text": [
      "131it [00:28,  4.63it/s]\n"
     ]
    },
    {
     "name": "stdout",
     "output_type": "stream",
     "text": [
      "Overall Acc: \t 0.560388066625\n",
      "Mean Acc : \t 0.389944718154\n",
      "FreqW Acc : \t 0.398175071766\n",
      "Mean IoU : \t 0.275796600267\n",
      "Epoch [17/50] Loss: 0.3007\n"
     ]
    },
    {
     "name": "stderr",
     "output_type": "stream",
     "text": [
      "131it [00:28,  4.59it/s]"
     ]
    },
    {
     "name": "stdout",
     "output_type": "stream",
     "text": [
      "Overall Acc: \t 0.559719086471\n",
      "Mean Acc : \t 0.391680525793\n",
      "FreqW Acc : \t 0.39742360133\n",
      "Mean IoU : \t 0.273481801435\n"
     ]
    },
    {
     "name": "stderr",
     "output_type": "stream",
     "text": [
      "\n"
     ]
    },
    {
     "name": "stdout",
     "output_type": "stream",
     "text": [
      "Epoch [18/50] Loss: 0.2770\n"
     ]
    },
    {
     "name": "stderr",
     "output_type": "stream",
     "text": [
      "131it [00:28,  4.64it/s]\n"
     ]
    },
    {
     "name": "stdout",
     "output_type": "stream",
     "text": [
      "Overall Acc: \t 0.556000170226\n",
      "Mean Acc : \t 0.396495393288\n",
      "FreqW Acc : \t 0.400372883668\n",
      "Mean IoU : \t 0.276959952471\n",
      "Epoch [19/50] Loss: 0.3342\n"
     ]
    },
    {
     "name": "stderr",
     "output_type": "stream",
     "text": [
      "131it [00:28,  4.57it/s]"
     ]
    },
    {
     "name": "stdout",
     "output_type": "stream",
     "text": [
      "Overall Acc: \t 0.556964388817\n",
      "Mean Acc : \t 0.382299423824\n",
      "FreqW Acc : \t 0.39717972475\n",
      "Mean IoU : \t 0.273080901144\n"
     ]
    },
    {
     "name": "stderr",
     "output_type": "stream",
     "text": [
      "\n"
     ]
    },
    {
     "name": "stdout",
     "output_type": "stream",
     "text": [
      "Epoch [20/50] Loss: 0.2615\n"
     ]
    },
    {
     "name": "stderr",
     "output_type": "stream",
     "text": [
      "131it [00:28,  4.63it/s]"
     ]
    },
    {
     "name": "stdout",
     "output_type": "stream",
     "text": [
      "Overall Acc: \t 0.558245875741\n",
      "Mean Acc : \t 0.387584158857\n",
      "FreqW Acc : \t 0.396824549277\n",
      "Mean IoU : \t 0.271828272494\n"
     ]
    },
    {
     "name": "stderr",
     "output_type": "stream",
     "text": [
      "\n"
     ]
    },
    {
     "name": "stdout",
     "output_type": "stream",
     "text": [
      "Epoch [21/50] Loss: 0.4442\n"
     ]
    },
    {
     "name": "stderr",
     "output_type": "stream",
     "text": [
      "131it [00:28,  4.64it/s]"
     ]
    },
    {
     "name": "stdout",
     "output_type": "stream",
     "text": [
      "Overall Acc: \t 0.557722051\n",
      "Mean Acc : \t 0.407103119374\n",
      "FreqW Acc : \t 0.396934282356\n",
      "Mean IoU : \t 0.276288690964\n"
     ]
    },
    {
     "name": "stderr",
     "output_type": "stream",
     "text": [
      "\n"
     ]
    },
    {
     "name": "stdout",
     "output_type": "stream",
     "text": [
      "Epoch [22/50] Loss: 0.3398\n"
     ]
    },
    {
     "name": "stderr",
     "output_type": "stream",
     "text": [
      "131it [00:29,  4.51it/s]"
     ]
    },
    {
     "name": "stdout",
     "output_type": "stream",
     "text": [
      "Overall Acc: \t 0.552771775054\n",
      "Mean Acc : \t 0.366219303317\n",
      "FreqW Acc : \t 0.386890842696\n",
      "Mean IoU : \t 0.264074686755\n"
     ]
    },
    {
     "name": "stderr",
     "output_type": "stream",
     "text": [
      "\n"
     ]
    },
    {
     "name": "stdout",
     "output_type": "stream",
     "text": [
      "Epoch [23/50] Loss: 0.3485\n"
     ]
    },
    {
     "name": "stderr",
     "output_type": "stream",
     "text": [
      "131it [00:28,  4.68it/s]"
     ]
    },
    {
     "name": "stdout",
     "output_type": "stream",
     "text": [
      "Overall Acc: \t 0.554473173898\n",
      "Mean Acc : \t 0.382677051437\n",
      "FreqW Acc : \t 0.396307716894\n",
      "Mean IoU : \t 0.273509107819\n"
     ]
    },
    {
     "name": "stderr",
     "output_type": "stream",
     "text": [
      "\n"
     ]
    },
    {
     "name": "stdout",
     "output_type": "stream",
     "text": [
      "Epoch [24/50] Loss: 0.3635\n"
     ]
    },
    {
     "name": "stderr",
     "output_type": "stream",
     "text": [
      "131it [00:27,  4.68it/s]\n"
     ]
    },
    {
     "name": "stdout",
     "output_type": "stream",
     "text": [
      "Overall Acc: \t 0.560041227662\n",
      "Mean Acc : \t 0.400751252434\n",
      "FreqW Acc : \t 0.403555919353\n",
      "Mean IoU : \t 0.279293242424\n",
      "Epoch [25/50] Loss: 0.3937\n"
     ]
    },
    {
     "name": "stderr",
     "output_type": "stream",
     "text": [
      "131it [00:28,  4.60it/s]"
     ]
    },
    {
     "name": "stdout",
     "output_type": "stream",
     "text": [
      "Overall Acc: \t 0.556543879611\n",
      "Mean Acc : \t 0.400849174476\n",
      "FreqW Acc : \t 0.396837166494\n",
      "Mean IoU : \t 0.275825958112\n"
     ]
    },
    {
     "name": "stderr",
     "output_type": "stream",
     "text": [
      "\n"
     ]
    },
    {
     "name": "stdout",
     "output_type": "stream",
     "text": [
      "Epoch [26/50] Loss: 0.3370\n"
     ]
    },
    {
     "name": "stderr",
     "output_type": "stream",
     "text": [
      "131it [00:28,  4.67it/s]"
     ]
    },
    {
     "name": "stdout",
     "output_type": "stream",
     "text": [
      "Overall Acc: \t 0.560282536156\n",
      "Mean Acc : \t 0.396106991252\n",
      "FreqW Acc : \t 0.397868555232\n",
      "Mean IoU : \t 0.276931998857\n"
     ]
    },
    {
     "name": "stderr",
     "output_type": "stream",
     "text": [
      "\n"
     ]
    },
    {
     "name": "stdout",
     "output_type": "stream",
     "text": [
      "Epoch [27/50] Loss: 0.2363\n"
     ]
    },
    {
     "name": "stderr",
     "output_type": "stream",
     "text": [
      "131it [00:28,  4.62it/s]"
     ]
    },
    {
     "name": "stdout",
     "output_type": "stream",
     "text": [
      "Overall Acc: \t 0.55659264303\n",
      "Mean Acc : \t 0.385509314599\n",
      "FreqW Acc : \t 0.397700608601\n",
      "Mean IoU : \t 0.274215128828\n"
     ]
    },
    {
     "name": "stderr",
     "output_type": "stream",
     "text": [
      "\n"
     ]
    },
    {
     "name": "stdout",
     "output_type": "stream",
     "text": [
      "Epoch [28/50] Loss: 0.3696\n"
     ]
    },
    {
     "name": "stderr",
     "output_type": "stream",
     "text": [
      "131it [00:28,  4.58it/s]"
     ]
    },
    {
     "name": "stdout",
     "output_type": "stream",
     "text": [
      "Overall Acc: \t 0.558468563846\n",
      "Mean Acc : \t 0.379627353138\n",
      "FreqW Acc : \t 0.392000777606\n",
      "Mean IoU : \t 0.269280728617\n"
     ]
    },
    {
     "name": "stderr",
     "output_type": "stream",
     "text": [
      "\n"
     ]
    },
    {
     "name": "stdout",
     "output_type": "stream",
     "text": [
      "Epoch [29/50] Loss: 0.3435\n"
     ]
    },
    {
     "name": "stderr",
     "output_type": "stream",
     "text": [
      "131it [00:28,  4.60it/s]"
     ]
    },
    {
     "name": "stdout",
     "output_type": "stream",
     "text": [
      "Overall Acc: \t 0.557179486414\n",
      "Mean Acc : \t 0.392269693143\n",
      "FreqW Acc : \t 0.400234151374\n",
      "Mean IoU : \t 0.275484373136\n"
     ]
    },
    {
     "name": "stderr",
     "output_type": "stream",
     "text": [
      "\n"
     ]
    },
    {
     "name": "stdout",
     "output_type": "stream",
     "text": [
      "Epoch [30/50] Loss: 0.3111\n"
     ]
    },
    {
     "name": "stderr",
     "output_type": "stream",
     "text": [
      "131it [00:28,  4.64it/s]"
     ]
    },
    {
     "name": "stdout",
     "output_type": "stream",
     "text": [
      "Overall Acc: \t 0.561068853131\n",
      "Mean Acc : \t 0.392363386913\n",
      "FreqW Acc : \t 0.399702470594\n",
      "Mean IoU : \t 0.276386865041\n"
     ]
    },
    {
     "name": "stderr",
     "output_type": "stream",
     "text": [
      "\n"
     ]
    },
    {
     "name": "stdout",
     "output_type": "stream",
     "text": [
      "Epoch [31/50] Loss: 0.2716\n"
     ]
    },
    {
     "name": "stderr",
     "output_type": "stream",
     "text": [
      "131it [00:28,  4.62it/s]"
     ]
    },
    {
     "name": "stdout",
     "output_type": "stream",
     "text": [
      "Overall Acc: \t 0.556912126298\n",
      "Mean Acc : \t 0.392776690442\n",
      "FreqW Acc : \t 0.401326567628\n",
      "Mean IoU : \t 0.277909915927\n"
     ]
    },
    {
     "name": "stderr",
     "output_type": "stream",
     "text": [
      "\n"
     ]
    },
    {
     "name": "stdout",
     "output_type": "stream",
     "text": [
      "Epoch [32/50] Loss: 0.3723\n"
     ]
    },
    {
     "name": "stderr",
     "output_type": "stream",
     "text": [
      "131it [00:28,  4.60it/s]"
     ]
    },
    {
     "name": "stdout",
     "output_type": "stream",
     "text": [
      "Overall Acc: \t 0.557526693704\n",
      "Mean Acc : \t 0.390808723234\n",
      "FreqW Acc : \t 0.397230710611\n",
      "Mean IoU : \t 0.274905205743\n"
     ]
    },
    {
     "name": "stderr",
     "output_type": "stream",
     "text": [
      "\n"
     ]
    },
    {
     "name": "stdout",
     "output_type": "stream",
     "text": [
      "Epoch [33/50] Loss: 0.3650\n"
     ]
    },
    {
     "name": "stderr",
     "output_type": "stream",
     "text": [
      "131it [00:28,  4.64it/s]"
     ]
    },
    {
     "name": "stdout",
     "output_type": "stream",
     "text": [
      "Overall Acc: \t 0.556476441052\n",
      "Mean Acc : \t 0.389107671314\n",
      "FreqW Acc : \t 0.395268205884\n",
      "Mean IoU : \t 0.274334264681\n"
     ]
    },
    {
     "name": "stderr",
     "output_type": "stream",
     "text": [
      "\n"
     ]
    },
    {
     "name": "stdout",
     "output_type": "stream",
     "text": [
      "Epoch [34/50] Loss: 0.3904\n"
     ]
    },
    {
     "name": "stderr",
     "output_type": "stream",
     "text": [
      "131it [00:28,  4.60it/s]\n"
     ]
    },
    {
     "name": "stdout",
     "output_type": "stream",
     "text": [
      "Overall Acc: \t 0.55918274859\n",
      "Mean Acc : \t 0.394896726586\n",
      "FreqW Acc : \t 0.403946389727\n",
      "Mean IoU : \t 0.279523958626\n",
      "Epoch [35/50] Loss: 0.3145\n"
     ]
    },
    {
     "name": "stderr",
     "output_type": "stream",
     "text": [
      "131it [00:28,  4.59it/s]"
     ]
    },
    {
     "name": "stdout",
     "output_type": "stream",
     "text": [
      "Overall Acc: \t 0.556513497667\n",
      "Mean Acc : \t 0.39617103244\n",
      "FreqW Acc : \t 0.397015515014\n",
      "Mean IoU : \t 0.277172412827\n"
     ]
    },
    {
     "name": "stderr",
     "output_type": "stream",
     "text": [
      "\n"
     ]
    },
    {
     "name": "stdout",
     "output_type": "stream",
     "text": [
      "Epoch [36/50] Loss: 0.3183\n"
     ]
    },
    {
     "name": "stderr",
     "output_type": "stream",
     "text": [
      "131it [00:28,  4.54it/s]"
     ]
    },
    {
     "name": "stdout",
     "output_type": "stream",
     "text": [
      "Overall Acc: \t 0.555129138196\n",
      "Mean Acc : \t 0.381376503282\n",
      "FreqW Acc : \t 0.390922399187\n",
      "Mean IoU : \t 0.271093161765\n"
     ]
    },
    {
     "name": "stderr",
     "output_type": "stream",
     "text": [
      "\n"
     ]
    },
    {
     "name": "stdout",
     "output_type": "stream",
     "text": [
      "Epoch [37/50] Loss: 0.3104\n"
     ]
    },
    {
     "name": "stderr",
     "output_type": "stream",
     "text": [
      "131it [00:29,  4.50it/s]"
     ]
    },
    {
     "name": "stdout",
     "output_type": "stream",
     "text": [
      "Overall Acc: \t 0.554138713685\n",
      "Mean Acc : \t 0.399458239721\n",
      "FreqW Acc : \t 0.400850158521\n",
      "Mean IoU : \t 0.278463639386\n"
     ]
    },
    {
     "name": "stderr",
     "output_type": "stream",
     "text": [
      "\n"
     ]
    },
    {
     "name": "stdout",
     "output_type": "stream",
     "text": [
      "Epoch [38/50] Loss: 0.3272\n"
     ]
    },
    {
     "name": "stderr",
     "output_type": "stream",
     "text": [
      "131it [00:28,  4.57it/s]"
     ]
    },
    {
     "name": "stdout",
     "output_type": "stream",
     "text": [
      "Overall Acc: \t 0.559612137447\n",
      "Mean Acc : \t 0.38924767768\n",
      "FreqW Acc : \t 0.399543759403\n",
      "Mean IoU : \t 0.277864959606\n"
     ]
    },
    {
     "name": "stderr",
     "output_type": "stream",
     "text": [
      "\n"
     ]
    },
    {
     "name": "stdout",
     "output_type": "stream",
     "text": [
      "Epoch [39/50] Loss: 0.2968\n"
     ]
    },
    {
     "name": "stderr",
     "output_type": "stream",
     "text": [
      "131it [00:28,  4.59it/s]"
     ]
    },
    {
     "name": "stdout",
     "output_type": "stream",
     "text": [
      "Overall Acc: \t 0.554648542025\n",
      "Mean Acc : \t 0.405986113735\n",
      "FreqW Acc : \t 0.400738493654\n",
      "Mean IoU : \t 0.27946129441\n"
     ]
    },
    {
     "name": "stderr",
     "output_type": "stream",
     "text": [
      "\n"
     ]
    },
    {
     "name": "stdout",
     "output_type": "stream",
     "text": [
      "Epoch [40/50] Loss: 0.3036\n"
     ]
    },
    {
     "name": "stderr",
     "output_type": "stream",
     "text": [
      "131it [00:28,  4.59it/s]"
     ]
    },
    {
     "name": "stdout",
     "output_type": "stream",
     "text": [
      "Overall Acc: \t 0.558516854414\n",
      "Mean Acc : \t 0.397275798903\n",
      "FreqW Acc : \t 0.397462412541\n",
      "Mean IoU : \t 0.274222402707\n"
     ]
    },
    {
     "name": "stderr",
     "output_type": "stream",
     "text": [
      "\n"
     ]
    },
    {
     "name": "stdout",
     "output_type": "stream",
     "text": [
      "Epoch [41/50] Loss: 0.3036\n"
     ]
    },
    {
     "name": "stderr",
     "output_type": "stream",
     "text": [
      "131it [00:28,  4.66it/s]\n"
     ]
    },
    {
     "name": "stdout",
     "output_type": "stream",
     "text": [
      "Overall Acc: \t 0.556180336551\n",
      "Mean Acc : \t 0.412661235721\n",
      "FreqW Acc : \t 0.400625972323\n",
      "Mean IoU : \t 0.283720608722\n",
      "Epoch [42/50] Loss: 0.3329\n"
     ]
    },
    {
     "name": "stderr",
     "output_type": "stream",
     "text": [
      "131it [00:28,  4.64it/s]"
     ]
    },
    {
     "name": "stdout",
     "output_type": "stream",
     "text": [
      "Overall Acc: \t 0.556899040759\n",
      "Mean Acc : \t 0.403205948511\n",
      "FreqW Acc : \t 0.395328121271\n",
      "Mean IoU : \t 0.279011613551\n"
     ]
    },
    {
     "name": "stderr",
     "output_type": "stream",
     "text": [
      "\n"
     ]
    },
    {
     "name": "stdout",
     "output_type": "stream",
     "text": [
      "Epoch [43/50] Loss: 0.3370\n"
     ]
    },
    {
     "name": "stderr",
     "output_type": "stream",
     "text": [
      "131it [00:28,  4.64it/s]"
     ]
    },
    {
     "name": "stdout",
     "output_type": "stream",
     "text": [
      "Overall Acc: \t 0.557231460245\n",
      "Mean Acc : \t 0.405349977497\n",
      "FreqW Acc : \t 0.402647297919\n",
      "Mean IoU : \t 0.282199388757\n"
     ]
    },
    {
     "name": "stderr",
     "output_type": "stream",
     "text": [
      "\n"
     ]
    },
    {
     "name": "stdout",
     "output_type": "stream",
     "text": [
      "Epoch [44/50] Loss: 0.2670\n"
     ]
    },
    {
     "name": "stderr",
     "output_type": "stream",
     "text": [
      "131it [00:28,  4.66it/s]"
     ]
    },
    {
     "name": "stdout",
     "output_type": "stream",
     "text": [
      "Overall Acc: \t 0.55758692999\n",
      "Mean Acc : \t 0.401846036435\n",
      "FreqW Acc : \t 0.393031934148\n",
      "Mean IoU : \t 0.276952391069\n"
     ]
    },
    {
     "name": "stderr",
     "output_type": "stream",
     "text": [
      "\n"
     ]
    },
    {
     "name": "stdout",
     "output_type": "stream",
     "text": [
      "Epoch [45/50] Loss: 0.3526\n"
     ]
    },
    {
     "name": "stderr",
     "output_type": "stream",
     "text": [
      "131it [00:28,  4.58it/s]"
     ]
    },
    {
     "name": "stdout",
     "output_type": "stream",
     "text": [
      "Overall Acc: \t 0.557136297663\n",
      "Mean Acc : \t 0.390767277599\n",
      "FreqW Acc : \t 0.396662836575\n",
      "Mean IoU : \t 0.276459736558\n"
     ]
    },
    {
     "name": "stderr",
     "output_type": "stream",
     "text": [
      "\n"
     ]
    },
    {
     "name": "stdout",
     "output_type": "stream",
     "text": [
      "Epoch [46/50] Loss: 0.2359\n"
     ]
    },
    {
     "name": "stderr",
     "output_type": "stream",
     "text": [
      "131it [00:27,  4.68it/s]"
     ]
    },
    {
     "name": "stdout",
     "output_type": "stream",
     "text": [
      "Overall Acc: \t 0.555251188599\n",
      "Mean Acc : \t 0.40872373926\n",
      "FreqW Acc : \t 0.399697315933\n",
      "Mean IoU : \t 0.279927914966\n"
     ]
    },
    {
     "name": "stderr",
     "output_type": "stream",
     "text": [
      "\n"
     ]
    },
    {
     "name": "stdout",
     "output_type": "stream",
     "text": [
      "Epoch [47/50] Loss: 0.2507\n"
     ]
    },
    {
     "name": "stderr",
     "output_type": "stream",
     "text": [
      "131it [00:28,  4.66it/s]"
     ]
    },
    {
     "name": "stdout",
     "output_type": "stream",
     "text": [
      "Overall Acc: \t 0.559459929082\n",
      "Mean Acc : \t 0.406310093766\n",
      "FreqW Acc : \t 0.399621929259\n",
      "Mean IoU : \t 0.28020026376\n"
     ]
    },
    {
     "name": "stderr",
     "output_type": "stream",
     "text": [
      "\n"
     ]
    },
    {
     "name": "stdout",
     "output_type": "stream",
     "text": [
      "Epoch [48/50] Loss: 0.3673\n"
     ]
    },
    {
     "name": "stderr",
     "output_type": "stream",
     "text": [
      "131it [00:28,  4.59it/s]\n"
     ]
    },
    {
     "name": "stdout",
     "output_type": "stream",
     "text": [
      "Overall Acc: \t 0.556691200186\n",
      "Mean Acc : \t 0.423205759425\n",
      "FreqW Acc : \t 0.401602987259\n",
      "Mean IoU : \t 0.284669807145\n",
      "Epoch [49/50] Loss: 0.3699\n"
     ]
    },
    {
     "name": "stderr",
     "output_type": "stream",
     "text": [
      "131it [00:28,  4.57it/s]"
     ]
    },
    {
     "name": "stdout",
     "output_type": "stream",
     "text": [
      "Overall Acc: \t 0.563051314825\n",
      "Mean Acc : \t 0.403257055006\n",
      "FreqW Acc : \t 0.404340537558\n",
      "Mean IoU : \t 0.283710994319\n"
     ]
    },
    {
     "name": "stderr",
     "output_type": "stream",
     "text": [
      "\n"
     ]
    },
    {
     "name": "stdout",
     "output_type": "stream",
     "text": [
      "Epoch [50/50] Loss: 0.3511\n"
     ]
    },
    {
     "name": "stderr",
     "output_type": "stream",
     "text": [
      "131it [00:28,  4.64it/s]"
     ]
    },
    {
     "name": "stdout",
     "output_type": "stream",
     "text": [
      "Overall Acc: \t 0.563048821157\n",
      "Mean Acc : \t 0.402198732503\n",
      "FreqW Acc : \t 0.400072242611\n",
      "Mean IoU : \t 0.281677229777\n"
     ]
    },
    {
     "name": "stderr",
     "output_type": "stream",
     "text": [
      "\n"
     ]
    }
   ],
   "source": [
    "trainer.training()"
   ]
  },
  {
   "cell_type": "code",
   "execution_count": null,
   "metadata": {},
   "outputs": [],
   "source": []
  }
 ],
 "metadata": {
  "kernelspec": {
   "display_name": "Python [conda env:pytorch]",
   "language": "python",
   "name": "conda-env-pytorch-py"
  },
  "language_info": {
   "codemirror_mode": {
    "name": "ipython",
    "version": 3
   },
   "file_extension": ".py",
   "mimetype": "text/x-python",
   "name": "python",
   "nbconvert_exporter": "python",
   "pygments_lexer": "ipython3",
   "version": "3.6.3"
  }
 },
 "nbformat": 4,
 "nbformat_minor": 2
}
