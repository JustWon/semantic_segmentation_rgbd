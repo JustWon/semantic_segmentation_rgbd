{
 "cells": [
  {
   "cell_type": "markdown",
   "metadata": {},
   "source": [
    "## 2018년 05월 18일 16시 21분 30초에 추가 ##\n",
    "- Training FCN_RGBD_renet on NYUDv2"
   ]
  },
  {
   "cell_type": "code",
   "execution_count": 1,
   "metadata": {},
   "outputs": [],
   "source": [
    "%matplotlib inline\n",
    "import os\n",
    "import collections\n",
    "import torch\n",
    "import torchvision\n",
    "import numpy as np\n",
    "import scipy.misc as m\n",
    "import scipy.io as io\n",
    "import matplotlib.pyplot as plt\n",
    "\n",
    "from NYUDv2Loader import *\n",
    "\n",
    "os.environ['CUDA_VISIBLE_DEVICES'] = '5'\n",
    "data_path = '/home/dongwonshin/Desktop/Datasets/NYUDv2/'\n",
    "arg_string = '--arch FCN_RGBD_renet --batch_size 3 --n_epoch 50'"
   ]
  },
  {
   "cell_type": "markdown",
   "metadata": {},
   "source": [
    "# Argument setting"
   ]
  },
  {
   "cell_type": "code",
   "execution_count": 2,
   "metadata": {},
   "outputs": [],
   "source": [
    "import sys, os\n",
    "import torch\n",
    "import visdom\n",
    "import argparse\n",
    "import numpy as np\n",
    "import torch.nn as nn\n",
    "import torch.nn.functional as F\n",
    "import torchvision.models as models\n",
    "\n",
    "from torch.autograd import Variable\n",
    "from torch.utils import data\n",
    "from tqdm import tqdm\n",
    "\n",
    "from ptsemseg.models import get_model\n",
    "from ptsemseg.loader import get_loader, get_data_path\n",
    "from ptsemseg.metrics import runningScore\n",
    "from ptsemseg.loss import *\n",
    "from ptsemseg.augmentations import *\n",
    "\n",
    "\n",
    "parser = argparse.ArgumentParser(description='Hyperparams')\n",
    "parser.add_argument('--arch', nargs='?', type=str, default='fcn8s', help='Architecture to use [\\'fcn8s, unet, segnet etc\\']')\n",
    "parser.add_argument('--img_rows', nargs='?', type=int, default=256, help='Height of the input image')\n",
    "parser.add_argument('--img_cols', nargs='?', type=int, default=256, help='Width of the input image')\n",
    "\n",
    "parser.add_argument('--img_norm', dest='img_norm', action='store_true', help='Enable input image scales normalization [0, 1] | True by default')\n",
    "parser.add_argument('--no-img_norm', dest='img_norm', action='store_false', help='Disable input image scales normalization [0, 1] | True by default')\n",
    "parser.set_defaults(img_norm=True)\n",
    "\n",
    "parser.add_argument('--n_epoch', nargs='?', type=int, default=10, help='# of the epochs')\n",
    "parser.add_argument('--batch_size', nargs='?', type=int, default=1, help='Batch Size')\n",
    "parser.add_argument('--l_rate', nargs='?', type=float, default=1e-5, help='Learning Rate')\n",
    "parser.add_argument('--feature_scale', nargs='?', type=int, default=1, help='Divider for # of features to use')\n",
    "parser.add_argument('--resume', nargs='?', type=str, default=None, help='Path to previous saved model to restart from')\n",
    "\n",
    "parser.add_argument('--visdom', dest='visdom', action='store_true', help='Enable visualization(s) on visdom | False by default')\n",
    "parser.add_argument('--no-visdom', dest='visdom', action='store_false', help='Disable visualization(s) on visdom | False by default')\n",
    "parser.set_defaults(visdom=False)"
   ]
  },
  {
   "cell_type": "markdown",
   "metadata": {},
   "source": [
    "# Model init"
   ]
  },
  {
   "cell_type": "code",
   "execution_count": 3,
   "metadata": {},
   "outputs": [],
   "source": [
    "args = parser.parse_args(arg_string.split(' '))\n",
    "\n",
    "# Setup Dataloader\n",
    "t_loader = NYUDv2Loader(data_path, is_transform=True)\n",
    "v_loader = NYUDv2Loader(data_path, is_transform=True, split='val')\n",
    "\n",
    "n_classes = t_loader.n_classes\n",
    "trainloader = data.DataLoader(t_loader, batch_size=args.batch_size, num_workers=16, shuffle=True)\n",
    "valloader = data.DataLoader(v_loader, batch_size=args.batch_size, num_workers=16)\n",
    "\n",
    "# Setup Metrics\n",
    "running_metrics = runningScore(n_classes)\n",
    "\n",
    "# Setup visdom for visualization\n",
    "if args.visdom:\n",
    "    vis = visdom.Visdom()\n",
    "\n",
    "    loss_window = vis.line(X=torch.zeros((1,)).cpu(),\n",
    "                       Y=torch.zeros((1)).cpu(),\n",
    "                       opts=dict(xlabel='minibatches',\n",
    "                                 ylabel='Loss',\n",
    "                                 title='Training Loss',\n",
    "                                 legend=['Loss']))\n",
    "\n",
    "# Setup Model\n",
    "model = get_model(args.arch, n_classes)\n",
    "\n",
    "model = torch.nn.DataParallel(model, device_ids=range(torch.cuda.device_count()))\n",
    "model.cuda()\n",
    "\n",
    "# Check if model has custom optimizer / loss\n",
    "if hasattr(model.module, 'optimizer'):\n",
    "    optimizer = model.module.optimizer\n",
    "else:\n",
    "    optimizer = torch.optim.SGD(model.parameters(), lr=args.l_rate, momentum=0.99, weight_decay=5e-4)\n",
    "\n",
    "if hasattr(model.module, 'loss'):\n",
    "    print('Using custom loss')\n",
    "    loss_fn = model.module.loss\n",
    "else:\n",
    "    loss_fn = cross_entropy2d\n",
    "\n",
    "if args.resume is not None:                                         \n",
    "    if os.path.isfile(args.resume):\n",
    "        print(\"Loading model and optimizer from checkpoint '{}'\".format(args.resume))\n",
    "        checkpoint = torch.load(args.resume)\n",
    "        model.load_state_dict(checkpoint['model_state'])\n",
    "        optimizer.load_state_dict(checkpoint['optimizer_state'])\n",
    "        print(\"Loaded checkpoint '{}' (epoch {})\"                    \n",
    "              .format(args.resume, checkpoint['epoch']))\n",
    "    else:\n",
    "        print(\"No checkpoint found at '{}'\".format(args.resume)) \n"
   ]
  },
  {
   "cell_type": "markdown",
   "metadata": {},
   "source": [
    "# Training"
   ]
  },
  {
   "cell_type": "code",
   "execution_count": 4,
   "metadata": {},
   "outputs": [
    {
     "name": "stderr",
     "output_type": "stream",
     "text": [
      "/home/dongwonshin/.conda/envs/pytorch/lib/python3.6/site-packages/torch/nn/functional.py:1462: UserWarning: nn.functional.upsample_bilinear is deprecated. Use nn.functional.upsample instead.\n",
      "  warnings.warn(\"nn.functional.upsample_bilinear is deprecated. Use nn.functional.upsample instead.\")\n"
     ]
    },
    {
     "name": "stdout",
     "output_type": "stream",
     "text": [
      "Epoch [1/50] Loss: 2.2531\n",
      "Epoch [1/50] Loss: 2.0094\n"
     ]
    },
    {
     "name": "stderr",
     "output_type": "stream",
     "text": [
      "218it [00:48,  4.50it/s]\n"
     ]
    },
    {
     "name": "stdout",
     "output_type": "stream",
     "text": [
      "Overall Acc: \t 0.326301132653\n",
      "Mean Acc : \t 0.123291945813\n",
      "FreqW Acc : \t 0.156236735006\n",
      "Mean IoU : \t 0.0636114287806\n",
      "Epoch [2/50] Loss: 1.7268\n",
      "Epoch [2/50] Loss: 1.8402\n"
     ]
    },
    {
     "name": "stderr",
     "output_type": "stream",
     "text": [
      "218it [00:48,  4.46it/s]\n"
     ]
    },
    {
     "name": "stdout",
     "output_type": "stream",
     "text": [
      "Overall Acc: \t 0.372960671708\n",
      "Mean Acc : \t 0.151892112064\n",
      "FreqW Acc : \t 0.204148830252\n",
      "Mean IoU : \t 0.085096121965\n",
      "Epoch [3/50] Loss: 1.7506\n",
      "Epoch [3/50] Loss: 1.7429\n"
     ]
    },
    {
     "name": "stderr",
     "output_type": "stream",
     "text": [
      "218it [00:48,  4.50it/s]\n"
     ]
    },
    {
     "name": "stdout",
     "output_type": "stream",
     "text": [
      "Overall Acc: \t 0.422661665392\n",
      "Mean Acc : \t 0.201016299491\n",
      "FreqW Acc : \t 0.248437624709\n",
      "Mean IoU : \t 0.124030193885\n",
      "Epoch [4/50] Loss: 1.7795\n",
      "Epoch [4/50] Loss: 1.7651\n"
     ]
    },
    {
     "name": "stderr",
     "output_type": "stream",
     "text": [
      "218it [00:48,  4.50it/s]\n"
     ]
    },
    {
     "name": "stdout",
     "output_type": "stream",
     "text": [
      "Overall Acc: \t 0.452760003544\n",
      "Mean Acc : \t 0.249636828681\n",
      "FreqW Acc : \t 0.277215394706\n",
      "Mean IoU : \t 0.154632817362\n",
      "Epoch [5/50] Loss: 2.1855\n",
      "Epoch [5/50] Loss: 1.5850\n"
     ]
    },
    {
     "name": "stderr",
     "output_type": "stream",
     "text": [
      "218it [00:48,  4.52it/s]\n"
     ]
    },
    {
     "name": "stdout",
     "output_type": "stream",
     "text": [
      "Overall Acc: \t 0.473674025229\n",
      "Mean Acc : \t 0.26944594943\n",
      "FreqW Acc : \t 0.294550211352\n",
      "Mean IoU : \t 0.178121234106\n",
      "Epoch [6/50] Loss: 1.5832\n",
      "Epoch [6/50] Loss: 1.3626\n"
     ]
    },
    {
     "name": "stderr",
     "output_type": "stream",
     "text": [
      "218it [00:48,  4.48it/s]\n"
     ]
    },
    {
     "name": "stdout",
     "output_type": "stream",
     "text": [
      "Overall Acc: \t 0.489682467866\n",
      "Mean Acc : \t 0.291108615921\n",
      "FreqW Acc : \t 0.313475969337\n",
      "Mean IoU : \t 0.192805028642\n",
      "Epoch [7/50] Loss: 1.6771\n",
      "Epoch [7/50] Loss: 1.5760\n"
     ]
    },
    {
     "name": "stderr",
     "output_type": "stream",
     "text": [
      "218it [00:48,  4.49it/s]\n"
     ]
    },
    {
     "name": "stdout",
     "output_type": "stream",
     "text": [
      "Overall Acc: \t 0.498772736685\n",
      "Mean Acc : \t 0.305408846438\n",
      "FreqW Acc : \t 0.322675241308\n",
      "Mean IoU : \t 0.203173251256\n",
      "Epoch [8/50] Loss: 1.7269\n",
      "Epoch [8/50] Loss: 1.4646\n"
     ]
    },
    {
     "name": "stderr",
     "output_type": "stream",
     "text": [
      "218it [00:48,  4.54it/s]\n"
     ]
    },
    {
     "name": "stdout",
     "output_type": "stream",
     "text": [
      "Overall Acc: \t 0.509740504149\n",
      "Mean Acc : \t 0.316237748696\n",
      "FreqW Acc : \t 0.335479353907\n",
      "Mean IoU : \t 0.213087797285\n",
      "Epoch [9/50] Loss: 1.2506\n",
      "Epoch [9/50] Loss: 1.1340\n"
     ]
    },
    {
     "name": "stderr",
     "output_type": "stream",
     "text": [
      "218it [00:48,  4.52it/s]\n"
     ]
    },
    {
     "name": "stdout",
     "output_type": "stream",
     "text": [
      "Overall Acc: \t 0.511815236565\n",
      "Mean Acc : \t 0.316545242404\n",
      "FreqW Acc : \t 0.332999872037\n",
      "Mean IoU : \t 0.215819009213\n",
      "Epoch [10/50] Loss: 1.5122\n",
      "Epoch [10/50] Loss: 1.4629\n"
     ]
    },
    {
     "name": "stderr",
     "output_type": "stream",
     "text": [
      "218it [00:48,  4.52it/s]\n"
     ]
    },
    {
     "name": "stdout",
     "output_type": "stream",
     "text": [
      "Overall Acc: \t 0.522860586495\n",
      "Mean Acc : \t 0.341179057917\n",
      "FreqW Acc : \t 0.348717729658\n",
      "Mean IoU : \t 0.233671141728\n",
      "Epoch [11/50] Loss: 1.1131\n",
      "Epoch [11/50] Loss: 1.4300\n"
     ]
    },
    {
     "name": "stderr",
     "output_type": "stream",
     "text": [
      "218it [00:47,  4.54it/s]\n"
     ]
    },
    {
     "name": "stdout",
     "output_type": "stream",
     "text": [
      "Overall Acc: \t 0.528945591233\n",
      "Mean Acc : \t 0.362956402259\n",
      "FreqW Acc : \t 0.358850648137\n",
      "Mean IoU : \t 0.249020629406\n",
      "Epoch [12/50] Loss: 1.4047\n",
      "Epoch [12/50] Loss: 1.4026\n"
     ]
    },
    {
     "name": "stderr",
     "output_type": "stream",
     "text": [
      "218it [00:48,  4.51it/s]\n"
     ]
    },
    {
     "name": "stdout",
     "output_type": "stream",
     "text": [
      "Overall Acc: \t 0.534543270379\n",
      "Mean Acc : \t 0.360594212165\n",
      "FreqW Acc : \t 0.363062308225\n",
      "Mean IoU : \t 0.253912602502\n",
      "Epoch [13/50] Loss: 1.4356\n",
      "Epoch [13/50] Loss: 1.3193\n"
     ]
    },
    {
     "name": "stderr",
     "output_type": "stream",
     "text": [
      "218it [00:47,  4.55it/s]\n"
     ]
    },
    {
     "name": "stdout",
     "output_type": "stream",
     "text": [
      "Overall Acc: \t 0.536464186735\n",
      "Mean Acc : \t 0.377907121434\n",
      "FreqW Acc : \t 0.363760143251\n",
      "Mean IoU : \t 0.26051503783\n",
      "Epoch [14/50] Loss: 1.3113\n",
      "Epoch [14/50] Loss: 1.1115\n"
     ]
    },
    {
     "name": "stderr",
     "output_type": "stream",
     "text": [
      "218it [00:47,  4.55it/s]\n"
     ]
    },
    {
     "name": "stdout",
     "output_type": "stream",
     "text": [
      "Overall Acc: \t 0.543476627206\n",
      "Mean Acc : \t 0.389053953803\n",
      "FreqW Acc : \t 0.374446305638\n",
      "Mean IoU : \t 0.272808312391\n",
      "Epoch [15/50] Loss: 1.2134\n",
      "Epoch [15/50] Loss: 1.1988\n"
     ]
    },
    {
     "name": "stderr",
     "output_type": "stream",
     "text": [
      "218it [00:47,  4.61it/s]\n"
     ]
    },
    {
     "name": "stdout",
     "output_type": "stream",
     "text": [
      "Overall Acc: \t 0.548022724739\n",
      "Mean Acc : \t 0.408733208468\n",
      "FreqW Acc : \t 0.380548107309\n",
      "Mean IoU : \t 0.283216357656\n",
      "Epoch [16/50] Loss: 1.1175\n",
      "Epoch [16/50] Loss: 2.0094\n"
     ]
    },
    {
     "name": "stderr",
     "output_type": "stream",
     "text": [
      "218it [00:47,  4.55it/s]"
     ]
    },
    {
     "name": "stdout",
     "output_type": "stream",
     "text": [
      "Overall Acc: \t 0.548328659571\n",
      "Mean Acc : \t 0.383211481145\n",
      "FreqW Acc : \t 0.374535052705\n",
      "Mean IoU : \t 0.27342441612\n"
     ]
    },
    {
     "name": "stderr",
     "output_type": "stream",
     "text": [
      "\n"
     ]
    },
    {
     "name": "stdout",
     "output_type": "stream",
     "text": [
      "Epoch [17/50] Loss: 1.3820\n",
      "Epoch [17/50] Loss: 1.1289\n"
     ]
    },
    {
     "name": "stderr",
     "output_type": "stream",
     "text": [
      "218it [00:48,  4.54it/s]"
     ]
    },
    {
     "name": "stdout",
     "output_type": "stream",
     "text": [
      "Overall Acc: \t 0.55217181129\n",
      "Mean Acc : \t 0.397748298789\n",
      "FreqW Acc : \t 0.379833572994\n",
      "Mean IoU : \t 0.280692817918\n"
     ]
    },
    {
     "name": "stderr",
     "output_type": "stream",
     "text": [
      "\n"
     ]
    },
    {
     "name": "stdout",
     "output_type": "stream",
     "text": [
      "Epoch [18/50] Loss: 1.2237\n",
      "Epoch [18/50] Loss: 1.4158\n"
     ]
    },
    {
     "name": "stderr",
     "output_type": "stream",
     "text": [
      "218it [00:48,  4.50it/s]\n"
     ]
    },
    {
     "name": "stdout",
     "output_type": "stream",
     "text": [
      "Overall Acc: \t 0.554501569867\n",
      "Mean Acc : \t 0.406947289179\n",
      "FreqW Acc : \t 0.386949920344\n",
      "Mean IoU : \t 0.287333345045\n",
      "Epoch [19/50] Loss: 1.1435\n",
      "Epoch [19/50] Loss: 1.3299\n"
     ]
    },
    {
     "name": "stderr",
     "output_type": "stream",
     "text": [
      "218it [00:47,  4.56it/s]"
     ]
    },
    {
     "name": "stdout",
     "output_type": "stream",
     "text": [
      "Overall Acc: \t 0.555423605138\n",
      "Mean Acc : \t 0.404263988424\n",
      "FreqW Acc : \t 0.382443235201\n",
      "Mean IoU : \t 0.28593893979\n"
     ]
    },
    {
     "name": "stderr",
     "output_type": "stream",
     "text": [
      "\n"
     ]
    },
    {
     "name": "stdout",
     "output_type": "stream",
     "text": [
      "Epoch [20/50] Loss: 1.2256\n",
      "Epoch [20/50] Loss: 1.1663\n"
     ]
    },
    {
     "name": "stderr",
     "output_type": "stream",
     "text": [
      "218it [00:47,  4.55it/s]\n"
     ]
    },
    {
     "name": "stdout",
     "output_type": "stream",
     "text": [
      "Overall Acc: \t 0.560715006013\n",
      "Mean Acc : \t 0.416162472516\n",
      "FreqW Acc : \t 0.390704508893\n",
      "Mean IoU : \t 0.293081545878\n",
      "Epoch [21/50] Loss: 0.9687\n",
      "Epoch [21/50] Loss: 1.3340\n"
     ]
    },
    {
     "name": "stderr",
     "output_type": "stream",
     "text": [
      "218it [00:47,  4.55it/s]\n"
     ]
    },
    {
     "name": "stdout",
     "output_type": "stream",
     "text": [
      "Overall Acc: \t 0.563720653351\n",
      "Mean Acc : \t 0.423354009402\n",
      "FreqW Acc : \t 0.396068234948\n",
      "Mean IoU : \t 0.297704662494\n",
      "Epoch [22/50] Loss: 1.1518\n",
      "Epoch [22/50] Loss: 1.3957\n"
     ]
    },
    {
     "name": "stderr",
     "output_type": "stream",
     "text": [
      "218it [00:47,  4.56it/s]\n"
     ]
    },
    {
     "name": "stdout",
     "output_type": "stream",
     "text": [
      "Overall Acc: \t 0.564755132677\n",
      "Mean Acc : \t 0.422787550962\n",
      "FreqW Acc : \t 0.397431583421\n",
      "Mean IoU : \t 0.300902592887\n",
      "Epoch [23/50] Loss: 1.1387\n",
      "Epoch [23/50] Loss: 0.7871\n"
     ]
    },
    {
     "name": "stderr",
     "output_type": "stream",
     "text": [
      "218it [00:47,  4.56it/s]"
     ]
    },
    {
     "name": "stdout",
     "output_type": "stream",
     "text": [
      "Overall Acc: \t 0.565454390251\n",
      "Mean Acc : \t 0.4245358361\n",
      "FreqW Acc : \t 0.393764451627\n",
      "Mean IoU : \t 0.297572746684\n"
     ]
    },
    {
     "name": "stderr",
     "output_type": "stream",
     "text": [
      "\n"
     ]
    },
    {
     "name": "stdout",
     "output_type": "stream",
     "text": [
      "Epoch [24/50] Loss: 1.2390\n",
      "Epoch [24/50] Loss: 1.1085\n"
     ]
    },
    {
     "name": "stderr",
     "output_type": "stream",
     "text": [
      "218it [00:48,  4.54it/s]\n"
     ]
    },
    {
     "name": "stdout",
     "output_type": "stream",
     "text": [
      "Overall Acc: \t 0.567769495413\n",
      "Mean Acc : \t 0.425499416687\n",
      "FreqW Acc : \t 0.401549990536\n",
      "Mean IoU : \t 0.304236491867\n",
      "Epoch [25/50] Loss: 1.1644\n",
      "Epoch [25/50] Loss: 1.2466\n"
     ]
    },
    {
     "name": "stderr",
     "output_type": "stream",
     "text": [
      "218it [00:48,  4.51it/s]\n"
     ]
    },
    {
     "name": "stdout",
     "output_type": "stream",
     "text": [
      "Overall Acc: \t 0.570698555763\n",
      "Mean Acc : \t 0.434894165266\n",
      "FreqW Acc : \t 0.402783630289\n",
      "Mean IoU : \t 0.30832605442\n",
      "Epoch [26/50] Loss: 1.1330\n",
      "Epoch [26/50] Loss: 0.8983\n"
     ]
    },
    {
     "name": "stderr",
     "output_type": "stream",
     "text": [
      "218it [00:48,  4.50it/s]\n"
     ]
    },
    {
     "name": "stdout",
     "output_type": "stream",
     "text": [
      "Overall Acc: \t 0.571072028702\n",
      "Mean Acc : \t 0.444391803055\n",
      "FreqW Acc : \t 0.406088063217\n",
      "Mean IoU : \t 0.310497616682\n",
      "Epoch [27/50] Loss: 0.9650\n",
      "Epoch [27/50] Loss: 1.6611\n"
     ]
    },
    {
     "name": "stderr",
     "output_type": "stream",
     "text": [
      "218it [00:48,  4.50it/s]"
     ]
    },
    {
     "name": "stdout",
     "output_type": "stream",
     "text": [
      "Overall Acc: \t 0.570542022052\n",
      "Mean Acc : \t 0.429854466794\n",
      "FreqW Acc : \t 0.400576712341\n",
      "Mean IoU : \t 0.307256057231\n"
     ]
    },
    {
     "name": "stderr",
     "output_type": "stream",
     "text": [
      "\n"
     ]
    },
    {
     "name": "stdout",
     "output_type": "stream",
     "text": [
      "Epoch [28/50] Loss: 0.8578\n",
      "Epoch [28/50] Loss: 1.1171\n"
     ]
    },
    {
     "name": "stderr",
     "output_type": "stream",
     "text": [
      "218it [00:47,  4.56it/s]"
     ]
    },
    {
     "name": "stdout",
     "output_type": "stream",
     "text": [
      "Overall Acc: \t 0.572807477821\n",
      "Mean Acc : \t 0.436051725838\n",
      "FreqW Acc : \t 0.401954208447\n",
      "Mean IoU : \t 0.308464407419\n"
     ]
    },
    {
     "name": "stderr",
     "output_type": "stream",
     "text": [
      "\n"
     ]
    },
    {
     "name": "stdout",
     "output_type": "stream",
     "text": [
      "Epoch [29/50] Loss: 1.0509\n",
      "Epoch [29/50] Loss: 1.0682\n"
     ]
    },
    {
     "name": "stderr",
     "output_type": "stream",
     "text": [
      "218it [00:48,  4.53it/s]\n"
     ]
    },
    {
     "name": "stdout",
     "output_type": "stream",
     "text": [
      "Overall Acc: \t 0.5755631162\n",
      "Mean Acc : \t 0.441615836951\n",
      "FreqW Acc : \t 0.406833717303\n",
      "Mean IoU : \t 0.314418327307\n",
      "Epoch [30/50] Loss: 1.0010\n",
      "Epoch [30/50] Loss: 1.0385\n"
     ]
    },
    {
     "name": "stderr",
     "output_type": "stream",
     "text": [
      "218it [00:48,  4.52it/s]"
     ]
    },
    {
     "name": "stdout",
     "output_type": "stream",
     "text": [
      "Overall Acc: \t 0.575300225774\n",
      "Mean Acc : \t 0.443217662933\n",
      "FreqW Acc : \t 0.408188254612\n",
      "Mean IoU : \t 0.313858204\n"
     ]
    },
    {
     "name": "stderr",
     "output_type": "stream",
     "text": [
      "\n"
     ]
    },
    {
     "name": "stdout",
     "output_type": "stream",
     "text": [
      "Epoch [31/50] Loss: 0.8934\n",
      "Epoch [31/50] Loss: 0.9008\n"
     ]
    },
    {
     "name": "stderr",
     "output_type": "stream",
     "text": [
      "218it [00:48,  4.50it/s]"
     ]
    },
    {
     "name": "stdout",
     "output_type": "stream",
     "text": [
      "Overall Acc: \t 0.574366931663\n",
      "Mean Acc : \t 0.439017263155\n",
      "FreqW Acc : \t 0.401654505333\n",
      "Mean IoU : \t 0.309377597339\n"
     ]
    },
    {
     "name": "stderr",
     "output_type": "stream",
     "text": [
      "\n"
     ]
    },
    {
     "name": "stdout",
     "output_type": "stream",
     "text": [
      "Epoch [32/50] Loss: 1.2762\n",
      "Epoch [32/50] Loss: 0.9281\n"
     ]
    },
    {
     "name": "stderr",
     "output_type": "stream",
     "text": [
      "218it [00:48,  4.51it/s]\n"
     ]
    },
    {
     "name": "stdout",
     "output_type": "stream",
     "text": [
      "Overall Acc: \t 0.577780694524\n",
      "Mean Acc : \t 0.442525950959\n",
      "FreqW Acc : \t 0.413346836535\n",
      "Mean IoU : \t 0.317585361473\n",
      "Epoch [33/50] Loss: 1.0615\n",
      "Epoch [33/50] Loss: 1.1330\n"
     ]
    },
    {
     "name": "stderr",
     "output_type": "stream",
     "text": [
      "218it [00:48,  4.48it/s]\n"
     ]
    },
    {
     "name": "stdout",
     "output_type": "stream",
     "text": [
      "Overall Acc: \t 0.579834556774\n",
      "Mean Acc : \t 0.448587895929\n",
      "FreqW Acc : \t 0.412571839787\n",
      "Mean IoU : \t 0.320752174188\n",
      "Epoch [34/50] Loss: 1.1577\n",
      "Epoch [34/50] Loss: 0.8077\n"
     ]
    },
    {
     "name": "stderr",
     "output_type": "stream",
     "text": [
      "218it [00:48,  4.51it/s]"
     ]
    },
    {
     "name": "stdout",
     "output_type": "stream",
     "text": [
      "Overall Acc: \t 0.580532047377\n",
      "Mean Acc : \t 0.448835868155\n",
      "FreqW Acc : \t 0.411440764499\n",
      "Mean IoU : \t 0.319714094047\n"
     ]
    },
    {
     "name": "stderr",
     "output_type": "stream",
     "text": [
      "\n"
     ]
    },
    {
     "name": "stdout",
     "output_type": "stream",
     "text": [
      "Epoch [35/50] Loss: 1.0215\n",
      "Epoch [35/50] Loss: 0.9649\n"
     ]
    },
    {
     "name": "stderr",
     "output_type": "stream",
     "text": [
      "218it [00:47,  4.56it/s]"
     ]
    },
    {
     "name": "stdout",
     "output_type": "stream",
     "text": [
      "Overall Acc: \t 0.579089611804\n",
      "Mean Acc : \t 0.447815595254\n",
      "FreqW Acc : \t 0.408323756085\n",
      "Mean IoU : \t 0.318169620605\n"
     ]
    },
    {
     "name": "stderr",
     "output_type": "stream",
     "text": [
      "\n"
     ]
    },
    {
     "name": "stdout",
     "output_type": "stream",
     "text": [
      "Epoch [36/50] Loss: 0.8982\n",
      "Epoch [36/50] Loss: 1.0057\n"
     ]
    },
    {
     "name": "stderr",
     "output_type": "stream",
     "text": [
      "218it [00:48,  4.48it/s]"
     ]
    },
    {
     "name": "stdout",
     "output_type": "stream",
     "text": [
      "Overall Acc: \t 0.58022895463\n",
      "Mean Acc : \t 0.442905558103\n",
      "FreqW Acc : \t 0.408602963186\n",
      "Mean IoU : \t 0.317188561722\n"
     ]
    },
    {
     "name": "stderr",
     "output_type": "stream",
     "text": [
      "\n"
     ]
    },
    {
     "name": "stdout",
     "output_type": "stream",
     "text": [
      "Epoch [37/50] Loss: 1.3056\n",
      "Epoch [37/50] Loss: 1.2126\n"
     ]
    },
    {
     "name": "stderr",
     "output_type": "stream",
     "text": [
      "218it [00:48,  4.51it/s]\n"
     ]
    },
    {
     "name": "stdout",
     "output_type": "stream",
     "text": [
      "Overall Acc: \t 0.581634438113\n",
      "Mean Acc : \t 0.45816036473\n",
      "FreqW Acc : \t 0.413485787488\n",
      "Mean IoU : \t 0.323300450578\n",
      "Epoch [38/50] Loss: 1.0532\n",
      "Epoch [38/50] Loss: 1.1128\n"
     ]
    },
    {
     "name": "stderr",
     "output_type": "stream",
     "text": [
      "218it [00:48,  4.49it/s]"
     ]
    },
    {
     "name": "stdout",
     "output_type": "stream",
     "text": [
      "Overall Acc: \t 0.580160998423\n",
      "Mean Acc : \t 0.459546267538\n",
      "FreqW Acc : \t 0.410561868703\n",
      "Mean IoU : \t 0.322492764552\n"
     ]
    },
    {
     "name": "stderr",
     "output_type": "stream",
     "text": [
      "\n"
     ]
    },
    {
     "name": "stdout",
     "output_type": "stream",
     "text": [
      "Epoch [39/50] Loss: 0.6665\n",
      "Epoch [39/50] Loss: 1.1183\n"
     ]
    },
    {
     "name": "stderr",
     "output_type": "stream",
     "text": [
      "218it [00:48,  4.51it/s]\n"
     ]
    },
    {
     "name": "stdout",
     "output_type": "stream",
     "text": [
      "Overall Acc: \t 0.581557711758\n",
      "Mean Acc : \t 0.454317665654\n",
      "FreqW Acc : \t 0.415481693354\n",
      "Mean IoU : \t 0.32523089178\n",
      "Epoch [40/50] Loss: 1.0939\n",
      "Epoch [40/50] Loss: 0.9261\n"
     ]
    },
    {
     "name": "stderr",
     "output_type": "stream",
     "text": [
      "218it [00:48,  4.50it/s]"
     ]
    },
    {
     "name": "stdout",
     "output_type": "stream",
     "text": [
      "Overall Acc: \t 0.581258461551\n",
      "Mean Acc : \t 0.453000951971\n",
      "FreqW Acc : \t 0.4117264447\n",
      "Mean IoU : \t 0.323373824523\n"
     ]
    },
    {
     "name": "stderr",
     "output_type": "stream",
     "text": [
      "\n"
     ]
    },
    {
     "name": "stdout",
     "output_type": "stream",
     "text": [
      "Epoch [41/50] Loss: 1.1227\n",
      "Epoch [41/50] Loss: 1.6574\n"
     ]
    },
    {
     "name": "stderr",
     "output_type": "stream",
     "text": [
      "218it [00:48,  4.47it/s]\n"
     ]
    },
    {
     "name": "stdout",
     "output_type": "stream",
     "text": [
      "Overall Acc: \t 0.584897814332\n",
      "Mean Acc : \t 0.457913493084\n",
      "FreqW Acc : \t 0.417084179815\n",
      "Mean IoU : \t 0.327117778353\n",
      "Epoch [42/50] Loss: 1.0160\n",
      "Epoch [42/50] Loss: 1.0697\n"
     ]
    },
    {
     "name": "stderr",
     "output_type": "stream",
     "text": [
      "218it [00:48,  4.49it/s]"
     ]
    },
    {
     "name": "stdout",
     "output_type": "stream",
     "text": [
      "Overall Acc: \t 0.58521218085\n",
      "Mean Acc : \t 0.447999417562\n",
      "FreqW Acc : \t 0.415686468682\n",
      "Mean IoU : \t 0.324185906112\n"
     ]
    },
    {
     "name": "stderr",
     "output_type": "stream",
     "text": [
      "\n"
     ]
    },
    {
     "name": "stdout",
     "output_type": "stream",
     "text": [
      "Epoch [43/50] Loss: 0.8688\n",
      "Epoch [43/50] Loss: 1.1714\n"
     ]
    },
    {
     "name": "stderr",
     "output_type": "stream",
     "text": [
      "218it [00:48,  4.53it/s]"
     ]
    },
    {
     "name": "stdout",
     "output_type": "stream",
     "text": [
      "Overall Acc: \t 0.583019136046\n",
      "Mean Acc : \t 0.447725496938\n",
      "FreqW Acc : \t 0.410954525603\n",
      "Mean IoU : \t 0.322704865249\n"
     ]
    },
    {
     "name": "stderr",
     "output_type": "stream",
     "text": [
      "\n"
     ]
    },
    {
     "name": "stdout",
     "output_type": "stream",
     "text": [
      "Epoch [44/50] Loss: 0.7669\n",
      "Epoch [44/50] Loss: 1.2120\n"
     ]
    },
    {
     "name": "stderr",
     "output_type": "stream",
     "text": [
      "218it [00:48,  4.49it/s]\n"
     ]
    },
    {
     "name": "stdout",
     "output_type": "stream",
     "text": [
      "Overall Acc: \t 0.585180828316\n",
      "Mean Acc : \t 0.474134274456\n",
      "FreqW Acc : \t 0.418692774804\n",
      "Mean IoU : \t 0.332561518458\n",
      "Epoch [45/50] Loss: 0.8481\n",
      "Epoch [45/50] Loss: 0.9943\n"
     ]
    },
    {
     "name": "stderr",
     "output_type": "stream",
     "text": [
      "218it [00:48,  4.50it/s]\n"
     ]
    },
    {
     "name": "stdout",
     "output_type": "stream",
     "text": [
      "Overall Acc: \t 0.583711639311\n",
      "Mean Acc : \t 0.476045591334\n",
      "FreqW Acc : \t 0.420865544301\n",
      "Mean IoU : \t 0.334047478852\n",
      "Epoch [46/50] Loss: 0.9349\n",
      "Epoch [46/50] Loss: 0.9936\n"
     ]
    },
    {
     "name": "stderr",
     "output_type": "stream",
     "text": [
      "218it [00:48,  4.53it/s]"
     ]
    },
    {
     "name": "stdout",
     "output_type": "stream",
     "text": [
      "Overall Acc: \t 0.587301840437\n",
      "Mean Acc : \t 0.460384711144\n",
      "FreqW Acc : \t 0.418277499474\n",
      "Mean IoU : \t 0.330041010021\n"
     ]
    },
    {
     "name": "stderr",
     "output_type": "stream",
     "text": [
      "\n"
     ]
    },
    {
     "name": "stdout",
     "output_type": "stream",
     "text": [
      "Epoch [47/50] Loss: 0.8662\n",
      "Epoch [47/50] Loss: 0.8632\n"
     ]
    },
    {
     "name": "stderr",
     "output_type": "stream",
     "text": [
      "218it [00:48,  4.50it/s]"
     ]
    },
    {
     "name": "stdout",
     "output_type": "stream",
     "text": [
      "Overall Acc: \t 0.585668074271\n",
      "Mean Acc : \t 0.466019744453\n",
      "FreqW Acc : \t 0.416510650496\n",
      "Mean IoU : \t 0.330922623476\n"
     ]
    },
    {
     "name": "stderr",
     "output_type": "stream",
     "text": [
      "\n"
     ]
    },
    {
     "name": "stdout",
     "output_type": "stream",
     "text": [
      "Epoch [48/50] Loss: 1.1642\n",
      "Epoch [48/50] Loss: 0.8938\n"
     ]
    },
    {
     "name": "stderr",
     "output_type": "stream",
     "text": [
      "218it [00:48,  4.52it/s]"
     ]
    },
    {
     "name": "stdout",
     "output_type": "stream",
     "text": [
      "Overall Acc: \t 0.58644401838\n",
      "Mean Acc : \t 0.462160385069\n",
      "FreqW Acc : \t 0.416292061028\n",
      "Mean IoU : \t 0.330562916175\n"
     ]
    },
    {
     "name": "stderr",
     "output_type": "stream",
     "text": [
      "\n"
     ]
    },
    {
     "name": "stdout",
     "output_type": "stream",
     "text": [
      "Epoch [49/50] Loss: 0.7468\n",
      "Epoch [49/50] Loss: 0.8478\n"
     ]
    },
    {
     "name": "stderr",
     "output_type": "stream",
     "text": [
      "218it [00:48,  4.53it/s]\n"
     ]
    },
    {
     "name": "stdout",
     "output_type": "stream",
     "text": [
      "Overall Acc: \t 0.589420085133\n",
      "Mean Acc : \t 0.472638649861\n",
      "FreqW Acc : \t 0.421250140231\n",
      "Mean IoU : \t 0.336415397128\n",
      "Epoch [50/50] Loss: 0.9531\n",
      "Epoch [50/50] Loss: 0.7069\n"
     ]
    },
    {
     "name": "stderr",
     "output_type": "stream",
     "text": [
      "218it [00:48,  4.50it/s]\n"
     ]
    },
    {
     "name": "stdout",
     "output_type": "stream",
     "text": [
      "Overall Acc: \t 0.588800376091\n",
      "Mean Acc : \t 0.4748038501\n",
      "FreqW Acc : \t 0.421557183685\n",
      "Mean IoU : \t 0.338027093385\n"
     ]
    }
   ],
   "source": [
    "best_iou = -100.0 \n",
    "for epoch in range(args.n_epoch):\n",
    "    model.train()\n",
    "    for i, (color_imgs, depth_imgs, label_imgs) in enumerate(trainloader):\n",
    "        color_imgs = Variable(color_imgs.cuda())\n",
    "        depth_imgs = Variable(depth_imgs.cuda())\n",
    "        label_imgs = Variable(label_imgs.cuda())\n",
    "\n",
    "        optimizer.zero_grad()\n",
    "        outputs = model(color_imgs, depth_imgs)\n",
    "\n",
    "        loss = loss_fn(input=outputs, target=label_imgs)\n",
    "\n",
    "        loss.backward()\n",
    "        optimizer.step()\n",
    "\n",
    "        if args.visdom:\n",
    "            vis.line(\n",
    "                X=torch.ones((1, 1)).cpu() * i,\n",
    "                Y=torch.Tensor([loss.data[0]]).unsqueeze(0).cpu(),\n",
    "                win=loss_window,\n",
    "                update='append')\n",
    "\n",
    "        if (i+1) % 100 == 0:\n",
    "            print(\"Epoch [%d/%d] Loss: %.4f\" % (epoch+1, args.n_epoch, loss.data[0]))\n",
    "\n",
    "    model.eval()\n",
    "    for i_val, (color_images_val, depth_images_val, label_images_val) in tqdm(enumerate(valloader)):\n",
    "        color_images_val = Variable(color_images_val.cuda(), volatile=True)\n",
    "        depth_images_val = Variable(depth_images_val.cuda(), volatile=True)\n",
    "        label_images_val = Variable(label_images_val.cuda(), volatile=True)\n",
    "\n",
    "        outputs = model(color_images_val, depth_images_val)\n",
    "        pred = outputs.data.max(1)[1].cpu().numpy()\n",
    "        gt = label_images_val.data.cpu().numpy()\n",
    "        running_metrics.update(gt, pred)\n",
    "\n",
    "    score, class_iou = running_metrics.get_scores()\n",
    "    for k, v in score.items():\n",
    "        print(k, v)\n",
    "    running_metrics.reset()\n",
    "\n",
    "    if score['Mean IoU : \\t'] >= best_iou:\n",
    "        best_iou = score['Mean IoU : \\t']\n",
    "        state = {'epoch': epoch+1,\n",
    "                 'model_state': model.state_dict(),\n",
    "                 'optimizer_state' : optimizer.state_dict(),}\n",
    "        torch.save(state, \"../model_weights/{}_{}_best_model.pkl\".format(args.arch, 'NYUDv2'))"
   ]
  },
  {
   "cell_type": "markdown",
   "metadata": {},
   "source": [
    "# Training FCN_RGBD_renet on NYUDv2"
   ]
  },
  {
   "cell_type": "code",
   "execution_count": 1,
   "metadata": {},
   "outputs": [
    {
     "name": "stdout",
     "output_type": "stream",
     "text": [
      "Loading model and optimizer from checkpoint '../model_weights/FCN_RGBD_renet_NYUDv2_best_model.pkl'\n",
      "Loaded checkpoint '../model_weights/FCN_RGBD_renet_NYUDv2_best_model.pkl' (epoch 50)\n"
     ]
    },
    {
     "name": "stderr",
     "output_type": "stream",
     "text": [
      "/home/dongwonshin/.conda/envs/pytorch/lib/python3.6/site-packages/torch/nn/functional.py:1462: UserWarning: nn.functional.upsample_bilinear is deprecated. Use nn.functional.upsample instead.\n",
      "  warnings.warn(\"nn.functional.upsample_bilinear is deprecated. Use nn.functional.upsample instead.\")\n"
     ]
    },
    {
     "name": "stdout",
     "output_type": "stream",
     "text": [
      "Epoch [1/50] Loss: 0.8584\n",
      "Epoch [1/50] Loss: 1.1243\n"
     ]
    },
    {
     "name": "stderr",
     "output_type": "stream",
     "text": [
      "218it [00:48,  4.47it/s]\n"
     ]
    },
    {
     "name": "stdout",
     "output_type": "stream",
     "text": [
      "Overall Acc: \t 0.586108816538\n",
      "Mean Acc : \t 0.469668014034\n",
      "FreqW Acc : \t 0.41813099861\n",
      "Mean IoU : \t 0.334304552603\n",
      "Epoch [2/50] Loss: 0.8170\n",
      "Epoch [2/50] Loss: 0.8036\n"
     ]
    },
    {
     "name": "stderr",
     "output_type": "stream",
     "text": [
      "218it [00:49,  4.41it/s]\n"
     ]
    },
    {
     "name": "stdout",
     "output_type": "stream",
     "text": [
      "Overall Acc: \t 0.588116185055\n",
      "Mean Acc : \t 0.482952620638\n",
      "FreqW Acc : \t 0.423232314818\n",
      "Mean IoU : \t 0.341283309745\n",
      "Epoch [3/50] Loss: 0.9503\n",
      "Epoch [3/50] Loss: 0.7533\n"
     ]
    },
    {
     "name": "stderr",
     "output_type": "stream",
     "text": [
      "218it [00:49,  4.42it/s]"
     ]
    },
    {
     "name": "stdout",
     "output_type": "stream",
     "text": [
      "Overall Acc: \t 0.589010282277\n",
      "Mean Acc : \t 0.47260179905\n",
      "FreqW Acc : \t 0.421543931209\n",
      "Mean IoU : \t 0.338650396347\n"
     ]
    },
    {
     "name": "stderr",
     "output_type": "stream",
     "text": [
      "\n"
     ]
    },
    {
     "name": "stdout",
     "output_type": "stream",
     "text": [
      "Epoch [4/50] Loss: 0.8096\n",
      "Epoch [4/50] Loss: 0.7809\n"
     ]
    },
    {
     "name": "stderr",
     "output_type": "stream",
     "text": [
      "218it [00:48,  4.45it/s]"
     ]
    },
    {
     "name": "stdout",
     "output_type": "stream",
     "text": [
      "Overall Acc: \t 0.5904827464\n",
      "Mean Acc : \t 0.473719242139\n",
      "FreqW Acc : \t 0.425637017118\n",
      "Mean IoU : \t 0.341136550512\n"
     ]
    },
    {
     "name": "stderr",
     "output_type": "stream",
     "text": [
      "\n"
     ]
    },
    {
     "name": "stdout",
     "output_type": "stream",
     "text": [
      "Epoch [5/50] Loss: 0.8831\n",
      "Epoch [5/50] Loss: 0.8773\n"
     ]
    },
    {
     "name": "stderr",
     "output_type": "stream",
     "text": [
      "218it [00:49,  4.42it/s]"
     ]
    },
    {
     "name": "stdout",
     "output_type": "stream",
     "text": [
      "Overall Acc: \t 0.588856112823\n",
      "Mean Acc : \t 0.468159794892\n",
      "FreqW Acc : \t 0.422173192547\n",
      "Mean IoU : \t 0.337925721187\n"
     ]
    },
    {
     "name": "stderr",
     "output_type": "stream",
     "text": [
      "\n"
     ]
    },
    {
     "name": "stdout",
     "output_type": "stream",
     "text": [
      "Epoch [6/50] Loss: 0.6977\n",
      "Epoch [6/50] Loss: 0.8644\n"
     ]
    },
    {
     "name": "stderr",
     "output_type": "stream",
     "text": [
      "218it [00:49,  4.42it/s]"
     ]
    },
    {
     "name": "stdout",
     "output_type": "stream",
     "text": [
      "Overall Acc: \t 0.589385024449\n",
      "Mean Acc : \t 0.46853549163\n",
      "FreqW Acc : \t 0.422852683955\n",
      "Mean IoU : \t 0.338231092679\n"
     ]
    },
    {
     "name": "stderr",
     "output_type": "stream",
     "text": [
      "\n"
     ]
    },
    {
     "name": "stdout",
     "output_type": "stream",
     "text": [
      "Epoch [7/50] Loss: 0.8419\n",
      "Epoch [7/50] Loss: 0.9018\n"
     ]
    },
    {
     "name": "stderr",
     "output_type": "stream",
     "text": [
      "218it [00:48,  4.45it/s]"
     ]
    },
    {
     "name": "stdout",
     "output_type": "stream",
     "text": [
      "Overall Acc: \t 0.589916598974\n",
      "Mean Acc : \t 0.472771296403\n",
      "FreqW Acc : \t 0.421102627995\n",
      "Mean IoU : \t 0.338928690096\n"
     ]
    },
    {
     "name": "stderr",
     "output_type": "stream",
     "text": [
      "\n"
     ]
    },
    {
     "name": "stdout",
     "output_type": "stream",
     "text": [
      "Epoch [8/50] Loss: 1.1547\n",
      "Epoch [8/50] Loss: 0.4859\n"
     ]
    },
    {
     "name": "stderr",
     "output_type": "stream",
     "text": [
      "218it [00:48,  4.48it/s]\n"
     ]
    },
    {
     "name": "stdout",
     "output_type": "stream",
     "text": [
      "Overall Acc: \t 0.589590684928\n",
      "Mean Acc : \t 0.480190480136\n",
      "FreqW Acc : \t 0.425312574282\n",
      "Mean IoU : \t 0.344338962362\n",
      "Epoch [9/50] Loss: 0.9303\n",
      "Epoch [9/50] Loss: 0.8633\n"
     ]
    },
    {
     "name": "stderr",
     "output_type": "stream",
     "text": [
      "218it [00:48,  4.48it/s]"
     ]
    },
    {
     "name": "stdout",
     "output_type": "stream",
     "text": [
      "Overall Acc: \t 0.58813593531\n",
      "Mean Acc : \t 0.473637877347\n",
      "FreqW Acc : \t 0.418587961773\n",
      "Mean IoU : \t 0.339202275101\n"
     ]
    },
    {
     "name": "stderr",
     "output_type": "stream",
     "text": [
      "\n"
     ]
    },
    {
     "name": "stdout",
     "output_type": "stream",
     "text": [
      "Epoch [10/50] Loss: 0.8314\n",
      "Epoch [10/50] Loss: 0.8540\n"
     ]
    },
    {
     "name": "stderr",
     "output_type": "stream",
     "text": [
      "218it [00:49,  4.43it/s]\n"
     ]
    },
    {
     "name": "stdout",
     "output_type": "stream",
     "text": [
      "Overall Acc: \t 0.587032917423\n",
      "Mean Acc : \t 0.4843413494\n",
      "FreqW Acc : \t 0.426887865562\n",
      "Mean IoU : \t 0.345759240174\n",
      "Epoch [11/50] Loss: 0.8865\n",
      "Epoch [11/50] Loss: 0.6110\n"
     ]
    },
    {
     "name": "stderr",
     "output_type": "stream",
     "text": [
      "218it [00:49,  4.44it/s]"
     ]
    },
    {
     "name": "stdout",
     "output_type": "stream",
     "text": [
      "Overall Acc: \t 0.58965170764\n",
      "Mean Acc : \t 0.474612087382\n",
      "FreqW Acc : \t 0.423196175012\n",
      "Mean IoU : \t 0.341856262328\n"
     ]
    },
    {
     "name": "stderr",
     "output_type": "stream",
     "text": [
      "\n"
     ]
    },
    {
     "name": "stdout",
     "output_type": "stream",
     "text": [
      "Epoch [12/50] Loss: 0.7775\n",
      "Epoch [12/50] Loss: 0.5876\n"
     ]
    },
    {
     "name": "stderr",
     "output_type": "stream",
     "text": [
      "218it [00:49,  4.40it/s]"
     ]
    },
    {
     "name": "stdout",
     "output_type": "stream",
     "text": [
      "Overall Acc: \t 0.591354156712\n",
      "Mean Acc : \t 0.480207265025\n",
      "FreqW Acc : \t 0.426461709116\n",
      "Mean IoU : \t 0.345195956778\n"
     ]
    },
    {
     "name": "stderr",
     "output_type": "stream",
     "text": [
      "\n"
     ]
    },
    {
     "name": "stdout",
     "output_type": "stream",
     "text": [
      "Epoch [13/50] Loss: 0.7214\n",
      "Epoch [13/50] Loss: 0.9951\n"
     ]
    },
    {
     "name": "stderr",
     "output_type": "stream",
     "text": [
      "218it [00:48,  4.48it/s]"
     ]
    },
    {
     "name": "stdout",
     "output_type": "stream",
     "text": [
      "Overall Acc: \t 0.590003782811\n",
      "Mean Acc : \t 0.481963920752\n",
      "FreqW Acc : \t 0.422244891289\n",
      "Mean IoU : \t 0.344206988055\n"
     ]
    },
    {
     "name": "stderr",
     "output_type": "stream",
     "text": [
      "\n"
     ]
    },
    {
     "name": "stdout",
     "output_type": "stream",
     "text": [
      "Epoch [14/50] Loss: 0.9412\n",
      "Epoch [14/50] Loss: 0.6813\n"
     ]
    },
    {
     "name": "stderr",
     "output_type": "stream",
     "text": [
      "218it [00:49,  4.43it/s]"
     ]
    },
    {
     "name": "stdout",
     "output_type": "stream",
     "text": [
      "Overall Acc: \t 0.590969081494\n",
      "Mean Acc : \t 0.479730043152\n",
      "FreqW Acc : \t 0.426033874493\n",
      "Mean IoU : \t 0.344124785887\n"
     ]
    },
    {
     "name": "stderr",
     "output_type": "stream",
     "text": [
      "\n"
     ]
    },
    {
     "name": "stdout",
     "output_type": "stream",
     "text": [
      "Epoch [15/50] Loss: 0.7499\n",
      "Epoch [15/50] Loss: 0.5597\n"
     ]
    },
    {
     "name": "stderr",
     "output_type": "stream",
     "text": [
      "218it [00:49,  4.43it/s]\n"
     ]
    },
    {
     "name": "stdout",
     "output_type": "stream",
     "text": [
      "Overall Acc: \t 0.589070911777\n",
      "Mean Acc : \t 0.486016200629\n",
      "FreqW Acc : \t 0.424999511574\n",
      "Mean IoU : \t 0.346143999294\n",
      "Epoch [16/50] Loss: 0.7637\n",
      "Epoch [16/50] Loss: 0.8349\n"
     ]
    },
    {
     "name": "stderr",
     "output_type": "stream",
     "text": [
      "218it [00:48,  4.46it/s]"
     ]
    },
    {
     "name": "stdout",
     "output_type": "stream",
     "text": [
      "Overall Acc: \t 0.590088786554\n",
      "Mean Acc : \t 0.482318581855\n",
      "FreqW Acc : \t 0.424125390652\n",
      "Mean IoU : \t 0.34432839192\n"
     ]
    },
    {
     "name": "stderr",
     "output_type": "stream",
     "text": [
      "\n"
     ]
    },
    {
     "name": "stdout",
     "output_type": "stream",
     "text": [
      "Epoch [17/50] Loss: 0.4688\n",
      "Epoch [17/50] Loss: 0.7456\n"
     ]
    },
    {
     "name": "stderr",
     "output_type": "stream",
     "text": [
      "218it [00:49,  4.40it/s]"
     ]
    },
    {
     "name": "stdout",
     "output_type": "stream",
     "text": [
      "Overall Acc: \t 0.587799354732\n",
      "Mean Acc : \t 0.490058924985\n",
      "FreqW Acc : \t 0.420975413815\n",
      "Mean IoU : \t 0.341823292456\n"
     ]
    },
    {
     "name": "stderr",
     "output_type": "stream",
     "text": [
      "\n"
     ]
    },
    {
     "name": "stdout",
     "output_type": "stream",
     "text": [
      "Epoch [18/50] Loss: 0.9347\n",
      "Epoch [18/50] Loss: 0.8734\n"
     ]
    },
    {
     "name": "stderr",
     "output_type": "stream",
     "text": [
      "218it [00:49,  4.37it/s]"
     ]
    },
    {
     "name": "stdout",
     "output_type": "stream",
     "text": [
      "Overall Acc: \t 0.588987266859\n",
      "Mean Acc : \t 0.466272358532\n",
      "FreqW Acc : \t 0.416893682578\n",
      "Mean IoU : \t 0.338635488525\n"
     ]
    },
    {
     "name": "stderr",
     "output_type": "stream",
     "text": [
      "\n"
     ]
    },
    {
     "name": "stdout",
     "output_type": "stream",
     "text": [
      "Epoch [19/50] Loss: 0.9917\n",
      "Epoch [19/50] Loss: 0.8096\n"
     ]
    },
    {
     "name": "stderr",
     "output_type": "stream",
     "text": [
      "218it [00:48,  4.48it/s]\n"
     ]
    },
    {
     "name": "stdout",
     "output_type": "stream",
     "text": [
      "Overall Acc: \t 0.588576354047\n",
      "Mean Acc : \t 0.481295557439\n",
      "FreqW Acc : \t 0.424670205106\n",
      "Mean IoU : \t 0.347434706598\n",
      "Epoch [20/50] Loss: 0.6659\n",
      "Epoch [20/50] Loss: 0.8219\n"
     ]
    },
    {
     "name": "stderr",
     "output_type": "stream",
     "text": [
      "218it [00:48,  4.49it/s]"
     ]
    },
    {
     "name": "stdout",
     "output_type": "stream",
     "text": [
      "Overall Acc: \t 0.592878679281\n",
      "Mean Acc : \t 0.47117166169\n",
      "FreqW Acc : \t 0.425806542355\n",
      "Mean IoU : \t 0.34318763764\n"
     ]
    },
    {
     "name": "stderr",
     "output_type": "stream",
     "text": [
      "\n"
     ]
    },
    {
     "name": "stdout",
     "output_type": "stream",
     "text": [
      "Epoch [21/50] Loss: 0.9052\n",
      "Epoch [21/50] Loss: 0.9084\n"
     ]
    },
    {
     "name": "stderr",
     "output_type": "stream",
     "text": [
      "218it [00:48,  4.45it/s]"
     ]
    },
    {
     "name": "stdout",
     "output_type": "stream",
     "text": [
      "Overall Acc: \t 0.590809342348\n",
      "Mean Acc : \t 0.478673043326\n",
      "FreqW Acc : \t 0.423522411844\n",
      "Mean IoU : \t 0.345879002489\n"
     ]
    },
    {
     "name": "stderr",
     "output_type": "stream",
     "text": [
      "\n"
     ]
    },
    {
     "name": "stdout",
     "output_type": "stream",
     "text": [
      "Epoch [22/50] Loss: 0.6771\n",
      "Epoch [22/50] Loss: 0.7755\n"
     ]
    },
    {
     "name": "stderr",
     "output_type": "stream",
     "text": [
      "218it [00:48,  4.45it/s]"
     ]
    },
    {
     "name": "stdout",
     "output_type": "stream",
     "text": [
      "Overall Acc: \t 0.590387235402\n",
      "Mean Acc : \t 0.47129755781\n",
      "FreqW Acc : \t 0.420198660976\n",
      "Mean IoU : \t 0.342162734486\n"
     ]
    },
    {
     "name": "stderr",
     "output_type": "stream",
     "text": [
      "\n"
     ]
    },
    {
     "name": "stdout",
     "output_type": "stream",
     "text": [
      "Epoch [23/50] Loss: 0.8651\n",
      "Epoch [23/50] Loss: 0.6428\n"
     ]
    },
    {
     "name": "stderr",
     "output_type": "stream",
     "text": [
      "218it [00:48,  4.45it/s]"
     ]
    },
    {
     "name": "stdout",
     "output_type": "stream",
     "text": [
      "Overall Acc: \t 0.591609979254\n",
      "Mean Acc : \t 0.484815694815\n",
      "FreqW Acc : \t 0.426583201485\n",
      "Mean IoU : \t 0.34689900763\n"
     ]
    },
    {
     "name": "stderr",
     "output_type": "stream",
     "text": [
      "\n"
     ]
    },
    {
     "name": "stdout",
     "output_type": "stream",
     "text": [
      "Epoch [24/50] Loss: 0.8211\n",
      "Epoch [24/50] Loss: 0.8369\n"
     ]
    },
    {
     "name": "stderr",
     "output_type": "stream",
     "text": [
      "218it [00:48,  4.45it/s]\n"
     ]
    },
    {
     "name": "stdout",
     "output_type": "stream",
     "text": [
      "Overall Acc: \t 0.590920691378\n",
      "Mean Acc : \t 0.490508976305\n",
      "FreqW Acc : \t 0.426175715933\n",
      "Mean IoU : \t 0.348498850529\n",
      "Epoch [25/50] Loss: 0.6918\n",
      "Epoch [25/50] Loss: 0.8086\n"
     ]
    },
    {
     "name": "stderr",
     "output_type": "stream",
     "text": [
      "218it [00:48,  4.50it/s]"
     ]
    },
    {
     "name": "stdout",
     "output_type": "stream",
     "text": [
      "Overall Acc: \t 0.59068741638\n",
      "Mean Acc : \t 0.482816255482\n",
      "FreqW Acc : \t 0.420676788838\n",
      "Mean IoU : \t 0.345205056475\n"
     ]
    },
    {
     "name": "stderr",
     "output_type": "stream",
     "text": [
      "\n"
     ]
    },
    {
     "name": "stdout",
     "output_type": "stream",
     "text": [
      "Epoch [26/50] Loss: 0.7445\n",
      "Epoch [26/50] Loss: 0.6545\n"
     ]
    },
    {
     "name": "stderr",
     "output_type": "stream",
     "text": [
      "218it [00:48,  4.46it/s]"
     ]
    },
    {
     "name": "stdout",
     "output_type": "stream",
     "text": [
      "Overall Acc: \t 0.592745594021\n",
      "Mean Acc : \t 0.484701858293\n",
      "FreqW Acc : \t 0.426440661489\n",
      "Mean IoU : \t 0.346425743024\n"
     ]
    },
    {
     "name": "stderr",
     "output_type": "stream",
     "text": [
      "\n"
     ]
    },
    {
     "name": "stdout",
     "output_type": "stream",
     "text": [
      "Epoch [27/50] Loss: 0.9314\n",
      "Epoch [27/50] Loss: 0.7050\n"
     ]
    },
    {
     "name": "stderr",
     "output_type": "stream",
     "text": [
      "218it [00:48,  4.48it/s]"
     ]
    },
    {
     "name": "stdout",
     "output_type": "stream",
     "text": [
      "Overall Acc: \t 0.592433308048\n",
      "Mean Acc : \t 0.484953532699\n",
      "FreqW Acc : \t 0.424081370516\n",
      "Mean IoU : \t 0.346332161014\n"
     ]
    },
    {
     "name": "stderr",
     "output_type": "stream",
     "text": [
      "\n"
     ]
    },
    {
     "name": "stdout",
     "output_type": "stream",
     "text": [
      "Epoch [28/50] Loss: 0.7069\n",
      "Epoch [28/50] Loss: 0.7475\n"
     ]
    },
    {
     "name": "stderr",
     "output_type": "stream",
     "text": [
      "218it [00:48,  4.47it/s]\n"
     ]
    },
    {
     "name": "stdout",
     "output_type": "stream",
     "text": [
      "Overall Acc: \t 0.592795875542\n",
      "Mean Acc : \t 0.487718360036\n",
      "FreqW Acc : \t 0.428029895864\n",
      "Mean IoU : \t 0.349779804999\n",
      "Epoch [29/50] Loss: 0.8020\n",
      "Epoch [29/50] Loss: 0.7144\n"
     ]
    },
    {
     "name": "stderr",
     "output_type": "stream",
     "text": [
      "218it [00:48,  4.46it/s]\n"
     ]
    },
    {
     "name": "stdout",
     "output_type": "stream",
     "text": [
      "Overall Acc: \t 0.589892747356\n",
      "Mean Acc : \t 0.490602418547\n",
      "FreqW Acc : \t 0.428014872021\n",
      "Mean IoU : \t 0.350470728473\n",
      "Epoch [30/50] Loss: 0.7388\n",
      "Epoch [30/50] Loss: 0.4113\n"
     ]
    },
    {
     "name": "stderr",
     "output_type": "stream",
     "text": [
      "218it [00:47,  4.55it/s]"
     ]
    },
    {
     "name": "stdout",
     "output_type": "stream",
     "text": [
      "Overall Acc: \t 0.590652251171\n",
      "Mean Acc : \t 0.480886089241\n",
      "FreqW Acc : \t 0.425315297436\n",
      "Mean IoU : \t 0.346011522933\n"
     ]
    },
    {
     "name": "stderr",
     "output_type": "stream",
     "text": [
      "\n"
     ]
    },
    {
     "name": "stdout",
     "output_type": "stream",
     "text": [
      "Epoch [31/50] Loss: 0.7823\n",
      "Epoch [31/50] Loss: 0.8174\n"
     ]
    },
    {
     "name": "stderr",
     "output_type": "stream",
     "text": [
      "218it [00:47,  4.57it/s]\n"
     ]
    },
    {
     "name": "stdout",
     "output_type": "stream",
     "text": [
      "Overall Acc: \t 0.590915141597\n",
      "Mean Acc : \t 0.485704475393\n",
      "FreqW Acc : \t 0.428771754965\n",
      "Mean IoU : \t 0.351444476122\n",
      "Epoch [32/50] Loss: 0.6220\n",
      "Epoch [32/50] Loss: 0.5110\n"
     ]
    },
    {
     "name": "stderr",
     "output_type": "stream",
     "text": [
      "218it [00:47,  4.55it/s]"
     ]
    },
    {
     "name": "stdout",
     "output_type": "stream",
     "text": [
      "Overall Acc: \t 0.591936017735\n",
      "Mean Acc : \t 0.48799142679\n",
      "FreqW Acc : \t 0.426346968811\n",
      "Mean IoU : \t 0.34968388791\n"
     ]
    },
    {
     "name": "stderr",
     "output_type": "stream",
     "text": [
      "\n"
     ]
    },
    {
     "name": "stdout",
     "output_type": "stream",
     "text": [
      "Epoch [33/50] Loss: 0.8099\n",
      "Epoch [33/50] Loss: 0.6605\n"
     ]
    },
    {
     "name": "stderr",
     "output_type": "stream",
     "text": [
      "218it [00:47,  4.57it/s]"
     ]
    },
    {
     "name": "stdout",
     "output_type": "stream",
     "text": [
      "Overall Acc: \t 0.591698681193\n",
      "Mean Acc : \t 0.475310528105\n",
      "FreqW Acc : \t 0.42477114059\n",
      "Mean IoU : \t 0.345385423447\n"
     ]
    },
    {
     "name": "stderr",
     "output_type": "stream",
     "text": [
      "\n"
     ]
    },
    {
     "name": "stdout",
     "output_type": "stream",
     "text": [
      "Epoch [34/50] Loss: 0.7416\n",
      "Epoch [34/50] Loss: 0.5719\n"
     ]
    },
    {
     "name": "stderr",
     "output_type": "stream",
     "text": [
      "218it [00:47,  4.58it/s]"
     ]
    },
    {
     "name": "stdout",
     "output_type": "stream",
     "text": [
      "Overall Acc: \t 0.591594444843\n",
      "Mean Acc : \t 0.487722423148\n",
      "FreqW Acc : \t 0.42332402872\n",
      "Mean IoU : \t 0.34990061168\n"
     ]
    },
    {
     "name": "stderr",
     "output_type": "stream",
     "text": [
      "\n"
     ]
    },
    {
     "name": "stdout",
     "output_type": "stream",
     "text": [
      "Epoch [35/50] Loss: 0.7863\n",
      "Epoch [35/50] Loss: 0.7009\n"
     ]
    },
    {
     "name": "stderr",
     "output_type": "stream",
     "text": [
      "218it [00:48,  4.53it/s]\n"
     ]
    },
    {
     "name": "stdout",
     "output_type": "stream",
     "text": [
      "Overall Acc: \t 0.593553796548\n",
      "Mean Acc : \t 0.495769311132\n",
      "FreqW Acc : \t 0.429140641369\n",
      "Mean IoU : \t 0.352220280244\n",
      "Epoch [36/50] Loss: 0.6103\n",
      "Epoch [36/50] Loss: 0.6114\n"
     ]
    },
    {
     "name": "stderr",
     "output_type": "stream",
     "text": [
      "218it [00:48,  4.54it/s]\n"
     ]
    },
    {
     "name": "stdout",
     "output_type": "stream",
     "text": [
      "Overall Acc: \t 0.591823603545\n",
      "Mean Acc : \t 0.49026872282\n",
      "FreqW Acc : \t 0.428982670118\n",
      "Mean IoU : \t 0.353384625949\n",
      "Epoch [37/50] Loss: 0.7132\n",
      "Epoch [37/50] Loss: 0.6239\n"
     ]
    },
    {
     "name": "stderr",
     "output_type": "stream",
     "text": [
      "218it [00:47,  4.57it/s]"
     ]
    },
    {
     "name": "stdout",
     "output_type": "stream",
     "text": [
      "Overall Acc: \t 0.592534577878\n",
      "Mean Acc : \t 0.493662749086\n",
      "FreqW Acc : \t 0.428038187873\n",
      "Mean IoU : \t 0.352433617961\n"
     ]
    },
    {
     "name": "stderr",
     "output_type": "stream",
     "text": [
      "\n"
     ]
    },
    {
     "name": "stdout",
     "output_type": "stream",
     "text": [
      "Epoch [38/50] Loss: 0.5299\n",
      "Epoch [38/50] Loss: 0.7293\n"
     ]
    },
    {
     "name": "stderr",
     "output_type": "stream",
     "text": [
      "218it [00:47,  4.56it/s]"
     ]
    },
    {
     "name": "stdout",
     "output_type": "stream",
     "text": [
      "Overall Acc: \t 0.593120231667\n",
      "Mean Acc : \t 0.487353361226\n",
      "FreqW Acc : \t 0.429239626518\n",
      "Mean IoU : \t 0.350549922528\n"
     ]
    },
    {
     "name": "stderr",
     "output_type": "stream",
     "text": [
      "\n"
     ]
    },
    {
     "name": "stdout",
     "output_type": "stream",
     "text": [
      "Epoch [39/50] Loss: 0.6642\n",
      "Epoch [39/50] Loss: 0.7574\n"
     ]
    },
    {
     "name": "stderr",
     "output_type": "stream",
     "text": [
      "218it [00:47,  4.56it/s]"
     ]
    },
    {
     "name": "stdout",
     "output_type": "stream",
     "text": [
      "Overall Acc: \t 0.59322001326\n",
      "Mean Acc : \t 0.493129507029\n",
      "FreqW Acc : \t 0.429501436108\n",
      "Mean IoU : \t 0.351800855594\n"
     ]
    },
    {
     "name": "stderr",
     "output_type": "stream",
     "text": [
      "\n"
     ]
    },
    {
     "name": "stdout",
     "output_type": "stream",
     "text": [
      "Epoch [40/50] Loss: 0.7087\n",
      "Epoch [40/50] Loss: 0.5931\n"
     ]
    },
    {
     "name": "stderr",
     "output_type": "stream",
     "text": [
      "218it [00:47,  4.60it/s]"
     ]
    },
    {
     "name": "stdout",
     "output_type": "stream",
     "text": [
      "Overall Acc: \t 0.592949910606\n",
      "Mean Acc : \t 0.484168062784\n",
      "FreqW Acc : \t 0.428072460747\n",
      "Mean IoU : \t 0.349287922398\n"
     ]
    },
    {
     "name": "stderr",
     "output_type": "stream",
     "text": [
      "\n"
     ]
    },
    {
     "name": "stdout",
     "output_type": "stream",
     "text": [
      "Epoch [41/50] Loss: 0.7742\n",
      "Epoch [41/50] Loss: 0.7298\n"
     ]
    },
    {
     "name": "stderr",
     "output_type": "stream",
     "text": [
      "218it [00:47,  4.55it/s]\n"
     ]
    },
    {
     "name": "stdout",
     "output_type": "stream",
     "text": [
      "Overall Acc: \t 0.591705540026\n",
      "Mean Acc : \t 0.499700591269\n",
      "FreqW Acc : \t 0.430410903226\n",
      "Mean IoU : \t 0.356076929656\n",
      "Epoch [42/50] Loss: 0.5088\n",
      "Epoch [42/50] Loss: 0.9410\n"
     ]
    },
    {
     "name": "stderr",
     "output_type": "stream",
     "text": [
      "218it [00:47,  4.55it/s]"
     ]
    },
    {
     "name": "stdout",
     "output_type": "stream",
     "text": [
      "Overall Acc: \t 0.59068252859\n",
      "Mean Acc : \t 0.489059678831\n",
      "FreqW Acc : \t 0.425904511528\n",
      "Mean IoU : \t 0.349483776675\n"
     ]
    },
    {
     "name": "stderr",
     "output_type": "stream",
     "text": [
      "\n"
     ]
    },
    {
     "name": "stdout",
     "output_type": "stream",
     "text": [
      "Epoch [43/50] Loss: 0.4768\n",
      "Epoch [43/50] Loss: 0.4611\n"
     ]
    },
    {
     "name": "stderr",
     "output_type": "stream",
     "text": [
      "218it [00:47,  4.60it/s]"
     ]
    },
    {
     "name": "stdout",
     "output_type": "stream",
     "text": [
      "Overall Acc: \t 0.591715967643\n",
      "Mean Acc : \t 0.49167954944\n",
      "FreqW Acc : \t 0.42506872671\n",
      "Mean IoU : \t 0.350641837955\n"
     ]
    },
    {
     "name": "stderr",
     "output_type": "stream",
     "text": [
      "\n"
     ]
    },
    {
     "name": "stdout",
     "output_type": "stream",
     "text": [
      "Epoch [44/50] Loss: 0.3794\n",
      "Epoch [44/50] Loss: 0.5995\n"
     ]
    },
    {
     "name": "stderr",
     "output_type": "stream",
     "text": [
      "218it [00:47,  4.58it/s]"
     ]
    },
    {
     "name": "stdout",
     "output_type": "stream",
     "text": [
      "Overall Acc: \t 0.593405400858\n",
      "Mean Acc : \t 0.488883869444\n",
      "FreqW Acc : \t 0.42820168287\n",
      "Mean IoU : \t 0.351733611845\n"
     ]
    },
    {
     "name": "stderr",
     "output_type": "stream",
     "text": [
      "\n"
     ]
    },
    {
     "name": "stdout",
     "output_type": "stream",
     "text": [
      "Epoch [45/50] Loss: 0.4207\n",
      "Epoch [45/50] Loss: 0.6077\n"
     ]
    },
    {
     "name": "stderr",
     "output_type": "stream",
     "text": [
      "218it [00:47,  4.57it/s]"
     ]
    },
    {
     "name": "stdout",
     "output_type": "stream",
     "text": [
      "Overall Acc: \t 0.593233263053\n",
      "Mean Acc : \t 0.4896657877\n",
      "FreqW Acc : \t 0.426678022956\n",
      "Mean IoU : \t 0.350889456021\n"
     ]
    },
    {
     "name": "stderr",
     "output_type": "stream",
     "text": [
      "\n"
     ]
    },
    {
     "name": "stdout",
     "output_type": "stream",
     "text": [
      "Epoch [46/50] Loss: 0.4882\n",
      "Epoch [46/50] Loss: 0.5491\n"
     ]
    },
    {
     "name": "stderr",
     "output_type": "stream",
     "text": [
      "218it [00:47,  4.57it/s]"
     ]
    },
    {
     "name": "stdout",
     "output_type": "stream",
     "text": [
      "Overall Acc: \t 0.593140166085\n",
      "Mean Acc : \t 0.488639241184\n",
      "FreqW Acc : \t 0.427345238111\n",
      "Mean IoU : \t 0.351220781715\n"
     ]
    },
    {
     "name": "stderr",
     "output_type": "stream",
     "text": [
      "\n"
     ]
    },
    {
     "name": "stdout",
     "output_type": "stream",
     "text": [
      "Epoch [47/50] Loss: 0.6682\n",
      "Epoch [47/50] Loss: 0.6911\n"
     ]
    },
    {
     "name": "stderr",
     "output_type": "stream",
     "text": [
      "218it [00:47,  4.59it/s]"
     ]
    },
    {
     "name": "stdout",
     "output_type": "stream",
     "text": [
      "Overall Acc: \t 0.590866208947\n",
      "Mean Acc : \t 0.4936430324\n",
      "FreqW Acc : \t 0.426332749693\n",
      "Mean IoU : \t 0.351738227076\n"
     ]
    },
    {
     "name": "stderr",
     "output_type": "stream",
     "text": [
      "\n"
     ]
    },
    {
     "name": "stdout",
     "output_type": "stream",
     "text": [
      "Epoch [48/50] Loss: 0.5566\n",
      "Epoch [48/50] Loss: 0.6402\n"
     ]
    },
    {
     "name": "stderr",
     "output_type": "stream",
     "text": [
      "218it [00:47,  4.57it/s]"
     ]
    },
    {
     "name": "stdout",
     "output_type": "stream",
     "text": [
      "Overall Acc: \t 0.59189251541\n",
      "Mean Acc : \t 0.48290945052\n",
      "FreqW Acc : \t 0.427323732464\n",
      "Mean IoU : \t 0.347835648588\n"
     ]
    },
    {
     "name": "stderr",
     "output_type": "stream",
     "text": [
      "\n"
     ]
    },
    {
     "name": "stdout",
     "output_type": "stream",
     "text": [
      "Epoch [49/50] Loss: 0.4946\n",
      "Epoch [49/50] Loss: 0.4348\n"
     ]
    },
    {
     "name": "stderr",
     "output_type": "stream",
     "text": [
      "218it [00:47,  4.57it/s]"
     ]
    },
    {
     "name": "stdout",
     "output_type": "stream",
     "text": [
      "Overall Acc: \t 0.592969143213\n",
      "Mean Acc : \t 0.487782789225\n",
      "FreqW Acc : \t 0.428180962533\n",
      "Mean IoU : \t 0.350377787173\n"
     ]
    },
    {
     "name": "stderr",
     "output_type": "stream",
     "text": [
      "\n"
     ]
    },
    {
     "name": "stdout",
     "output_type": "stream",
     "text": [
      "Epoch [50/50] Loss: 0.6987\n",
      "Epoch [50/50] Loss: 0.6318\n"
     ]
    },
    {
     "name": "stderr",
     "output_type": "stream",
     "text": [
      "218it [00:47,  4.63it/s]"
     ]
    },
    {
     "name": "stdout",
     "output_type": "stream",
     "text": [
      "Overall Acc: \t 0.591348865754\n",
      "Mean Acc : \t 0.49042064355\n",
      "FreqW Acc : \t 0.428717851351\n",
      "Mean IoU : \t 0.352527767546\n"
     ]
    },
    {
     "name": "stderr",
     "output_type": "stream",
     "text": [
      "\n"
     ]
    }
   ],
   "source": [
    "from utils import *\n",
    "\n",
    "arg_str = '--gpu_idx 5 ' \\\n",
    "          '--arch FCN_RGBD_renet ' \\\n",
    "          '--input_type RGBD ' \\\n",
    "          '--dataset NYUDv2 ' \\\n",
    "          '--batch_size 3 ' \\\n",
    "          '--n_epoch 50 ' \\\n",
    "          '--resume ../model_weights/FCN_RGBD_renet_NYUDv2_best_model.pkl ' \\\n",
    "          '--visdom'\n",
    "\n",
    "trainer = trainer(arg_str)\n",
    "trainer.model_init()\n",
    "trainer.training()"
   ]
  },
  {
   "cell_type": "code",
   "execution_count": null,
   "metadata": {},
   "outputs": [],
   "source": []
  }
 ],
 "metadata": {
  "kernelspec": {
   "display_name": "Python [conda env:pytorch]",
   "language": "python",
   "name": "conda-env-pytorch-py"
  },
  "language_info": {
   "codemirror_mode": {
    "name": "ipython",
    "version": 3
   },
   "file_extension": ".py",
   "mimetype": "text/x-python",
   "name": "python",
   "nbconvert_exporter": "python",
   "pygments_lexer": "ipython3",
   "version": "3.6.3"
  }
 },
 "nbformat": 4,
 "nbformat_minor": 2
}
