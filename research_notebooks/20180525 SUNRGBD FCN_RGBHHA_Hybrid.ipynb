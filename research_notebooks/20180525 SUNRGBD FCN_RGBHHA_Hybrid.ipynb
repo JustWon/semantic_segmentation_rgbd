{
 "cells": [
  {
   "cell_type": "code",
   "execution_count": 1,
   "metadata": {},
   "outputs": [
    {
     "name": "stderr",
     "output_type": "stream",
     "text": [
      "/home/dongwonshin/.conda/envs/pytorch/lib/python3.6/site-packages/torch/nn/functional.py:1462: UserWarning: nn.functional.upsample_bilinear is deprecated. Use nn.functional.upsample instead.\n",
      "  warnings.warn(\"nn.functional.upsample_bilinear is deprecated. Use nn.functional.upsample instead.\")\n"
     ]
    },
    {
     "name": "stdout",
     "output_type": "stream",
     "text": [
      "Epoch [1/50] Loss: 2.1046\n",
      "Epoch [1/50] Loss: 2.1159\n",
      "Epoch [1/50] Loss: 1.8219\n",
      "Epoch [1/50] Loss: 1.6699\n",
      "Epoch [1/50] Loss: 2.0236\n",
      "Epoch [1/50] Loss: 1.9794\n",
      "Epoch [1/50] Loss: 1.4928\n",
      "Epoch [1/50] Loss: 1.7304\n",
      "Epoch [1/50] Loss: 1.5448\n",
      "Epoch [1/50] Loss: 2.1201\n",
      "Epoch [1/50] Loss: 1.8989\n",
      "Epoch [1/50] Loss: 2.0680\n",
      "Epoch [1/50] Loss: 2.4452\n",
      "Epoch [1/50] Loss: 1.3467\n",
      "Epoch [1/50] Loss: 0.9294\n",
      "Epoch [1/50] Loss: 1.5322\n",
      "Epoch [1/50] Loss: 2.1232\n"
     ]
    },
    {
     "name": "stderr",
     "output_type": "stream",
     "text": [
      "1683it [07:27,  3.76it/s]\n"
     ]
    },
    {
     "name": "stdout",
     "output_type": "stream",
     "text": [
      "Overall Acc: \t 0.525487875074\n",
      "Mean Acc : \t 0.0990657035979\n",
      "FreqW Acc : \t 0.342089137829\n",
      "Mean IoU : \t 0.070551142686\n",
      "Epoch [2/50] Loss: 1.6328\n",
      "Epoch [2/50] Loss: 1.1612\n",
      "Epoch [2/50] Loss: 1.7693\n",
      "Epoch [2/50] Loss: 1.3999\n",
      "Epoch [2/50] Loss: 2.4289\n",
      "Epoch [2/50] Loss: 2.0466\n",
      "Epoch [2/50] Loss: 1.8929\n",
      "Epoch [2/50] Loss: 2.1333\n",
      "Epoch [2/50] Loss: 1.5531\n",
      "Epoch [2/50] Loss: 1.5450\n",
      "Epoch [2/50] Loss: 1.7663\n",
      "Epoch [2/50] Loss: 1.2709\n",
      "Epoch [2/50] Loss: 1.9242\n",
      "Epoch [2/50] Loss: 1.9161\n",
      "Epoch [2/50] Loss: 1.8370\n",
      "Epoch [2/50] Loss: 1.4709\n",
      "Epoch [2/50] Loss: 1.7908\n"
     ]
    },
    {
     "name": "stderr",
     "output_type": "stream",
     "text": [
      "1683it [07:51,  3.57it/s]\n"
     ]
    },
    {
     "name": "stdout",
     "output_type": "stream",
     "text": [
      "Overall Acc: \t 0.549560846671\n",
      "Mean Acc : \t 0.141134523383\n",
      "FreqW Acc : \t 0.367603761532\n",
      "Mean IoU : \t 0.099127967145\n",
      "Epoch [3/50] Loss: 1.3245\n",
      "Epoch [3/50] Loss: 1.9973\n",
      "Epoch [3/50] Loss: 1.0987\n",
      "Epoch [3/50] Loss: 1.8665\n",
      "Epoch [3/50] Loss: 1.6968\n",
      "Epoch [3/50] Loss: 2.0970\n",
      "Epoch [3/50] Loss: 1.6171\n",
      "Epoch [3/50] Loss: 1.4754\n",
      "Epoch [3/50] Loss: 0.8857\n",
      "Epoch [3/50] Loss: 1.9120\n",
      "Epoch [3/50] Loss: 2.1400\n",
      "Epoch [3/50] Loss: 1.3577\n",
      "Epoch [3/50] Loss: 1.2405\n",
      "Epoch [3/50] Loss: 1.4565\n",
      "Epoch [3/50] Loss: 1.4337\n",
      "Epoch [3/50] Loss: 1.8658\n",
      "Epoch [3/50] Loss: 1.8258\n"
     ]
    },
    {
     "name": "stderr",
     "output_type": "stream",
     "text": [
      "1683it [07:51,  3.57it/s]\n"
     ]
    },
    {
     "name": "stdout",
     "output_type": "stream",
     "text": [
      "Overall Acc: \t 0.560308472413\n",
      "Mean Acc : \t 0.147648594449\n",
      "FreqW Acc : \t 0.384061188455\n",
      "Mean IoU : \t 0.107925698852\n",
      "Epoch [4/50] Loss: 1.1649\n",
      "Epoch [4/50] Loss: 1.1925\n",
      "Epoch [4/50] Loss: 1.0334\n",
      "Epoch [4/50] Loss: 1.4281\n",
      "Epoch [4/50] Loss: 1.7819\n",
      "Epoch [4/50] Loss: 1.5802\n",
      "Epoch [4/50] Loss: 1.3972\n",
      "Epoch [4/50] Loss: 1.4970\n",
      "Epoch [4/50] Loss: 1.9099\n",
      "Epoch [4/50] Loss: 1.4377\n",
      "Epoch [4/50] Loss: 1.3031\n",
      "Epoch [4/50] Loss: 1.1836\n",
      "Epoch [4/50] Loss: 1.1826\n",
      "Epoch [4/50] Loss: 1.4750\n",
      "Epoch [4/50] Loss: 1.4974\n",
      "Epoch [4/50] Loss: 1.4350\n",
      "Epoch [4/50] Loss: 1.3697\n"
     ]
    },
    {
     "name": "stderr",
     "output_type": "stream",
     "text": [
      "1683it [07:52,  3.56it/s]\n"
     ]
    },
    {
     "name": "stdout",
     "output_type": "stream",
     "text": [
      "Overall Acc: \t 0.568585114575\n",
      "Mean Acc : \t 0.16414750779\n",
      "FreqW Acc : \t 0.392093049656\n",
      "Mean IoU : \t 0.120579256267\n",
      "Epoch [5/50] Loss: 1.3304\n",
      "Epoch [5/50] Loss: 1.4596\n",
      "Epoch [5/50] Loss: 1.6004\n",
      "Epoch [5/50] Loss: 1.8177\n",
      "Epoch [5/50] Loss: 1.1978\n",
      "Epoch [5/50] Loss: 1.6036\n",
      "Epoch [5/50] Loss: 1.7057\n",
      "Epoch [5/50] Loss: 1.8032\n",
      "Epoch [5/50] Loss: 0.9769\n",
      "Epoch [5/50] Loss: 2.1417\n",
      "Epoch [5/50] Loss: 1.6973\n",
      "Epoch [5/50] Loss: 1.5625\n",
      "Epoch [5/50] Loss: 1.0801\n",
      "Epoch [5/50] Loss: 1.1984\n",
      "Epoch [5/50] Loss: 1.1799\n",
      "Epoch [5/50] Loss: 1.0078\n",
      "Epoch [5/50] Loss: 1.3344\n"
     ]
    },
    {
     "name": "stderr",
     "output_type": "stream",
     "text": [
      "1683it [07:51,  3.57it/s]\n"
     ]
    },
    {
     "name": "stdout",
     "output_type": "stream",
     "text": [
      "Overall Acc: \t 0.575905239976\n",
      "Mean Acc : \t 0.187857992375\n",
      "FreqW Acc : \t 0.402772026663\n",
      "Mean IoU : \t 0.138477632854\n",
      "Epoch [6/50] Loss: 1.5051\n",
      "Epoch [6/50] Loss: 1.1170\n",
      "Epoch [6/50] Loss: 1.4470\n",
      "Epoch [6/50] Loss: 1.0834\n",
      "Epoch [6/50] Loss: 1.1087\n",
      "Epoch [6/50] Loss: 1.1756\n",
      "Epoch [6/50] Loss: 1.1458\n",
      "Epoch [6/50] Loss: 1.0759\n",
      "Epoch [6/50] Loss: 1.2384\n",
      "Epoch [6/50] Loss: 1.3865\n",
      "Epoch [6/50] Loss: 1.3625\n",
      "Epoch [6/50] Loss: 1.3120\n",
      "Epoch [6/50] Loss: 0.7787\n",
      "Epoch [6/50] Loss: 1.2837\n",
      "Epoch [6/50] Loss: 1.0538\n",
      "Epoch [6/50] Loss: 1.2062\n",
      "Epoch [6/50] Loss: 1.9298\n"
     ]
    },
    {
     "name": "stderr",
     "output_type": "stream",
     "text": [
      "1683it [07:51,  3.57it/s]\n"
     ]
    },
    {
     "name": "stdout",
     "output_type": "stream",
     "text": [
      "Overall Acc: \t 0.58284980305\n",
      "Mean Acc : \t 0.199639663055\n",
      "FreqW Acc : \t 0.411058626489\n",
      "Mean IoU : \t 0.147082403836\n",
      "Epoch [7/50] Loss: 0.9868\n",
      "Epoch [7/50] Loss: 1.2367\n",
      "Epoch [7/50] Loss: 1.4375\n",
      "Epoch [7/50] Loss: 1.2476\n",
      "Epoch [7/50] Loss: 1.4117\n",
      "Epoch [7/50] Loss: 1.0767\n",
      "Epoch [7/50] Loss: 1.3554\n",
      "Epoch [7/50] Loss: 1.6458\n",
      "Epoch [7/50] Loss: 1.4243\n",
      "Epoch [7/50] Loss: 1.1620\n",
      "Epoch [7/50] Loss: 1.0238\n",
      "Epoch [7/50] Loss: 1.6849\n",
      "Epoch [7/50] Loss: 1.1060\n",
      "Epoch [7/50] Loss: 1.5289\n",
      "Epoch [7/50] Loss: 1.4338\n",
      "Epoch [7/50] Loss: 1.6236\n",
      "Epoch [7/50] Loss: 1.1885\n"
     ]
    },
    {
     "name": "stderr",
     "output_type": "stream",
     "text": [
      "1683it [07:50,  3.58it/s]\n"
     ]
    },
    {
     "name": "stdout",
     "output_type": "stream",
     "text": [
      "Overall Acc: \t 0.584404547672\n",
      "Mean Acc : \t 0.196471955341\n",
      "FreqW Acc : \t 0.414108411391\n",
      "Mean IoU : \t 0.149597117612\n",
      "Epoch [8/50] Loss: 1.3939\n",
      "Epoch [8/50] Loss: 1.5489\n",
      "Epoch [8/50] Loss: 1.5535\n",
      "Epoch [8/50] Loss: 1.6254\n",
      "Epoch [8/50] Loss: 1.1068\n",
      "Epoch [8/50] Loss: 1.1089\n",
      "Epoch [8/50] Loss: 1.2588\n",
      "Epoch [8/50] Loss: 0.9837\n",
      "Epoch [8/50] Loss: 1.0566\n",
      "Epoch [8/50] Loss: 1.1432\n",
      "Epoch [8/50] Loss: 1.1403\n",
      "Epoch [8/50] Loss: 1.7268\n",
      "Epoch [8/50] Loss: 1.6958\n",
      "Epoch [8/50] Loss: 1.1642\n",
      "Epoch [8/50] Loss: 1.2323\n",
      "Epoch [8/50] Loss: 1.2846\n",
      "Epoch [8/50] Loss: 1.6348\n"
     ]
    },
    {
     "name": "stderr",
     "output_type": "stream",
     "text": [
      "1683it [07:50,  3.58it/s]\n"
     ]
    },
    {
     "name": "stdout",
     "output_type": "stream",
     "text": [
      "Overall Acc: \t 0.589779911425\n",
      "Mean Acc : \t 0.225635811975\n",
      "FreqW Acc : \t 0.418888554451\n",
      "Mean IoU : \t 0.16431655643\n",
      "Epoch [9/50] Loss: 2.3677\n",
      "Epoch [9/50] Loss: 1.1207\n",
      "Epoch [9/50] Loss: 1.4472\n",
      "Epoch [9/50] Loss: 1.1340\n",
      "Epoch [9/50] Loss: 1.3405\n",
      "Epoch [9/50] Loss: 0.9697\n",
      "Epoch [9/50] Loss: 1.4207\n",
      "Epoch [9/50] Loss: 0.9466\n",
      "Epoch [9/50] Loss: 1.4275\n",
      "Epoch [9/50] Loss: 1.2811\n",
      "Epoch [9/50] Loss: 1.6515\n",
      "Epoch [9/50] Loss: 1.0838\n",
      "Epoch [9/50] Loss: 1.3410\n",
      "Epoch [9/50] Loss: 1.0245\n",
      "Epoch [9/50] Loss: 1.0991\n",
      "Epoch [9/50] Loss: 1.1560\n",
      "Epoch [9/50] Loss: 1.3334\n"
     ]
    },
    {
     "name": "stderr",
     "output_type": "stream",
     "text": [
      "1683it [07:50,  3.58it/s]\n"
     ]
    },
    {
     "name": "stdout",
     "output_type": "stream",
     "text": [
      "Overall Acc: \t 0.592188184696\n",
      "Mean Acc : \t 0.224836286617\n",
      "FreqW Acc : \t 0.41831749666\n",
      "Mean IoU : \t 0.16607826158\n",
      "Epoch [10/50] Loss: 1.2248\n",
      "Epoch [10/50] Loss: 1.3565\n",
      "Epoch [10/50] Loss: 1.4665\n",
      "Epoch [10/50] Loss: 1.1959\n",
      "Epoch [10/50] Loss: 1.0626\n",
      "Epoch [10/50] Loss: 0.9581\n",
      "Epoch [10/50] Loss: 1.7241\n",
      "Epoch [10/50] Loss: 1.3392\n",
      "Epoch [10/50] Loss: 1.0205\n",
      "Epoch [10/50] Loss: 0.8731\n",
      "Epoch [10/50] Loss: 0.9699\n",
      "Epoch [10/50] Loss: 1.0243\n",
      "Epoch [10/50] Loss: 0.9938\n",
      "Epoch [10/50] Loss: 1.1320\n",
      "Epoch [10/50] Loss: 1.3586\n",
      "Epoch [10/50] Loss: 0.9683\n",
      "Epoch [10/50] Loss: 1.0246\n"
     ]
    },
    {
     "name": "stderr",
     "output_type": "stream",
     "text": [
      "1683it [07:51,  3.57it/s]\n"
     ]
    },
    {
     "name": "stdout",
     "output_type": "stream",
     "text": [
      "Overall Acc: \t 0.593127509263\n",
      "Mean Acc : \t 0.243030498525\n",
      "FreqW Acc : \t 0.420898375315\n",
      "Mean IoU : \t 0.17628837149\n",
      "Epoch [11/50] Loss: 1.9595\n",
      "Epoch [11/50] Loss: 1.4210\n",
      "Epoch [11/50] Loss: 1.2427\n",
      "Epoch [11/50] Loss: 0.8856\n",
      "Epoch [11/50] Loss: 1.0753\n",
      "Epoch [11/50] Loss: 1.0297\n",
      "Epoch [11/50] Loss: 1.3712\n",
      "Epoch [11/50] Loss: 0.8045\n",
      "Epoch [11/50] Loss: 1.5243\n",
      "Epoch [11/50] Loss: 1.1844\n",
      "Epoch [11/50] Loss: 1.5110\n",
      "Epoch [11/50] Loss: 1.4131\n",
      "Epoch [11/50] Loss: 0.9941\n",
      "Epoch [11/50] Loss: 1.4889\n",
      "Epoch [11/50] Loss: 1.2101\n",
      "Epoch [11/50] Loss: 1.3223\n",
      "Epoch [11/50] Loss: 0.6557\n"
     ]
    },
    {
     "name": "stderr",
     "output_type": "stream",
     "text": [
      "1683it [07:50,  3.58it/s]"
     ]
    },
    {
     "name": "stdout",
     "output_type": "stream",
     "text": [
      "Overall Acc: \t 0.594174344677\n",
      "Mean Acc : \t 0.227128007114\n",
      "FreqW Acc : \t 0.425310649266\n",
      "Mean IoU : \t 0.17287721808\n"
     ]
    },
    {
     "name": "stderr",
     "output_type": "stream",
     "text": [
      "\n"
     ]
    },
    {
     "name": "stdout",
     "output_type": "stream",
     "text": [
      "Epoch [12/50] Loss: 1.1171\n",
      "Epoch [12/50] Loss: 1.0098\n",
      "Epoch [12/50] Loss: 1.0442\n",
      "Epoch [12/50] Loss: 1.4991\n",
      "Epoch [12/50] Loss: 0.9135\n",
      "Epoch [12/50] Loss: 0.9623\n",
      "Epoch [12/50] Loss: 1.0020\n",
      "Epoch [12/50] Loss: 1.5160\n",
      "Epoch [12/50] Loss: 1.3265\n",
      "Epoch [12/50] Loss: 0.8823\n",
      "Epoch [12/50] Loss: 1.1499\n",
      "Epoch [12/50] Loss: 1.5277\n",
      "Epoch [12/50] Loss: 0.9008\n",
      "Epoch [12/50] Loss: 1.1191\n",
      "Epoch [12/50] Loss: 1.1383\n",
      "Epoch [12/50] Loss: 1.0077\n",
      "Epoch [12/50] Loss: 1.3099\n"
     ]
    },
    {
     "name": "stderr",
     "output_type": "stream",
     "text": [
      "1683it [07:51,  3.57it/s]"
     ]
    },
    {
     "name": "stdout",
     "output_type": "stream",
     "text": [
      "Overall Acc: \t 0.597725413345\n",
      "Mean Acc : \t 0.234224678855\n",
      "FreqW Acc : \t 0.427303246385\n",
      "Mean IoU : \t 0.175953098559\n"
     ]
    },
    {
     "name": "stderr",
     "output_type": "stream",
     "text": [
      "\n"
     ]
    },
    {
     "name": "stdout",
     "output_type": "stream",
     "text": [
      "Epoch [13/50] Loss: 1.5778\n",
      "Epoch [13/50] Loss: 1.3515\n",
      "Epoch [13/50] Loss: 1.1972\n",
      "Epoch [13/50] Loss: 1.0172\n",
      "Epoch [13/50] Loss: 1.2359\n",
      "Epoch [13/50] Loss: 0.6642\n",
      "Epoch [13/50] Loss: 1.2621\n",
      "Epoch [13/50] Loss: 1.5138\n",
      "Epoch [13/50] Loss: 1.2163\n",
      "Epoch [13/50] Loss: 1.1415\n",
      "Epoch [13/50] Loss: 1.4540\n",
      "Epoch [13/50] Loss: 1.3549\n",
      "Epoch [13/50] Loss: 1.1927\n",
      "Epoch [13/50] Loss: 1.8198\n",
      "Epoch [13/50] Loss: 1.3129\n",
      "Epoch [13/50] Loss: 1.0106\n",
      "Epoch [13/50] Loss: 0.6835\n"
     ]
    },
    {
     "name": "stderr",
     "output_type": "stream",
     "text": [
      "1683it [07:50,  3.58it/s]\n"
     ]
    },
    {
     "name": "stdout",
     "output_type": "stream",
     "text": [
      "Overall Acc: \t 0.59935603933\n",
      "Mean Acc : \t 0.240671798566\n",
      "FreqW Acc : \t 0.433372098687\n",
      "Mean IoU : \t 0.181797698003\n",
      "Epoch [14/50] Loss: 1.0597\n",
      "Epoch [14/50] Loss: 1.5049\n",
      "Epoch [14/50] Loss: 1.1513\n",
      "Epoch [14/50] Loss: 0.9359\n",
      "Epoch [14/50] Loss: 1.0132\n",
      "Epoch [14/50] Loss: 1.2814\n",
      "Epoch [14/50] Loss: 0.8657\n",
      "Epoch [14/50] Loss: 1.4036\n",
      "Epoch [14/50] Loss: 0.7801\n",
      "Epoch [14/50] Loss: 1.0860\n",
      "Epoch [14/50] Loss: 1.0281\n",
      "Epoch [14/50] Loss: 0.9312\n",
      "Epoch [14/50] Loss: 1.2834\n",
      "Epoch [14/50] Loss: 0.7288\n",
      "Epoch [14/50] Loss: 1.0787\n",
      "Epoch [14/50] Loss: 0.9640\n",
      "Epoch [14/50] Loss: 0.7740\n"
     ]
    },
    {
     "name": "stderr",
     "output_type": "stream",
     "text": [
      "1683it [07:51,  3.57it/s]\n"
     ]
    },
    {
     "name": "stdout",
     "output_type": "stream",
     "text": [
      "Overall Acc: \t 0.601541009436\n",
      "Mean Acc : \t 0.24800337545\n",
      "FreqW Acc : \t 0.430328239089\n",
      "Mean IoU : \t 0.184970024871\n",
      "Epoch [15/50] Loss: 0.9012\n",
      "Epoch [15/50] Loss: 0.9827\n",
      "Epoch [15/50] Loss: 1.5889\n",
      "Epoch [15/50] Loss: 1.1016\n",
      "Epoch [15/50] Loss: 1.0848\n",
      "Epoch [15/50] Loss: 1.3110\n",
      "Epoch [15/50] Loss: 0.9532\n",
      "Epoch [15/50] Loss: 0.9855\n",
      "Epoch [15/50] Loss: 1.1826\n",
      "Epoch [15/50] Loss: 0.8859\n",
      "Epoch [15/50] Loss: 0.8015\n",
      "Epoch [15/50] Loss: 1.1429\n",
      "Epoch [15/50] Loss: 1.6604\n",
      "Epoch [15/50] Loss: 1.4366\n",
      "Epoch [15/50] Loss: 1.2313\n",
      "Epoch [15/50] Loss: 1.0879\n",
      "Epoch [15/50] Loss: 0.9605\n"
     ]
    },
    {
     "name": "stderr",
     "output_type": "stream",
     "text": [
      "1683it [07:50,  3.58it/s]\n"
     ]
    },
    {
     "name": "stdout",
     "output_type": "stream",
     "text": [
      "Overall Acc: \t 0.601664018788\n",
      "Mean Acc : \t 0.255607216467\n",
      "FreqW Acc : \t 0.433009057968\n",
      "Mean IoU : \t 0.190631822348\n",
      "Epoch [16/50] Loss: 0.9311\n",
      "Epoch [16/50] Loss: 1.0167\n",
      "Epoch [16/50] Loss: 1.0275\n",
      "Epoch [16/50] Loss: 1.2316\n",
      "Epoch [16/50] Loss: 1.1973\n",
      "Epoch [16/50] Loss: 1.5365\n",
      "Epoch [16/50] Loss: 1.0523\n",
      "Epoch [16/50] Loss: 1.4540\n",
      "Epoch [16/50] Loss: 0.9054\n",
      "Epoch [16/50] Loss: 1.0708\n",
      "Epoch [16/50] Loss: 0.8044\n",
      "Epoch [16/50] Loss: 0.7037\n",
      "Epoch [16/50] Loss: 0.9527\n",
      "Epoch [16/50] Loss: 0.6788\n",
      "Epoch [16/50] Loss: 1.4803\n",
      "Epoch [16/50] Loss: 1.0683\n",
      "Epoch [16/50] Loss: 1.0419\n"
     ]
    },
    {
     "name": "stderr",
     "output_type": "stream",
     "text": [
      "1683it [07:50,  3.57it/s]\n"
     ]
    },
    {
     "name": "stdout",
     "output_type": "stream",
     "text": [
      "Overall Acc: \t 0.599660069599\n",
      "Mean Acc : \t 0.268472644747\n",
      "FreqW Acc : \t 0.43652150244\n",
      "Mean IoU : \t 0.197207487279\n",
      "Epoch [17/50] Loss: 0.6922\n",
      "Epoch [17/50] Loss: 0.8315\n",
      "Epoch [17/50] Loss: 1.4643\n",
      "Epoch [17/50] Loss: 0.5974\n",
      "Epoch [17/50] Loss: 0.9122\n",
      "Epoch [17/50] Loss: 1.1311\n",
      "Epoch [17/50] Loss: 1.3691\n",
      "Epoch [17/50] Loss: 0.8933\n",
      "Epoch [17/50] Loss: 0.9867\n",
      "Epoch [17/50] Loss: 1.2650\n",
      "Epoch [17/50] Loss: 1.1395\n",
      "Epoch [17/50] Loss: 1.1623\n",
      "Epoch [17/50] Loss: 0.9597\n",
      "Epoch [17/50] Loss: 1.5663\n",
      "Epoch [17/50] Loss: 1.3627\n",
      "Epoch [17/50] Loss: 0.7071\n",
      "Epoch [17/50] Loss: 1.1195\n"
     ]
    },
    {
     "name": "stderr",
     "output_type": "stream",
     "text": [
      "1683it [07:50,  3.58it/s]"
     ]
    },
    {
     "name": "stdout",
     "output_type": "stream",
     "text": [
      "Overall Acc: \t 0.604000338351\n",
      "Mean Acc : \t 0.251635549882\n",
      "FreqW Acc : \t 0.438584977314\n",
      "Mean IoU : \t 0.191243496011\n"
     ]
    },
    {
     "name": "stderr",
     "output_type": "stream",
     "text": [
      "\n"
     ]
    },
    {
     "name": "stdout",
     "output_type": "stream",
     "text": [
      "Epoch [18/50] Loss: 0.7562\n",
      "Epoch [18/50] Loss: 1.3263\n",
      "Epoch [18/50] Loss: 1.0725\n",
      "Epoch [18/50] Loss: 0.8835\n",
      "Epoch [18/50] Loss: 1.2125\n",
      "Epoch [18/50] Loss: 0.9810\n",
      "Epoch [18/50] Loss: 0.9155\n",
      "Epoch [18/50] Loss: 1.4126\n",
      "Epoch [18/50] Loss: 1.3123\n",
      "Epoch [18/50] Loss: 1.7762\n",
      "Epoch [18/50] Loss: 1.4398\n",
      "Epoch [18/50] Loss: 1.1128\n",
      "Epoch [18/50] Loss: 0.9996\n",
      "Epoch [18/50] Loss: 0.8932\n",
      "Epoch [18/50] Loss: 0.6572\n",
      "Epoch [18/50] Loss: 1.1100\n",
      "Epoch [18/50] Loss: 1.2092\n"
     ]
    },
    {
     "name": "stderr",
     "output_type": "stream",
     "text": [
      "1683it [07:51,  3.57it/s]\n"
     ]
    },
    {
     "name": "stdout",
     "output_type": "stream",
     "text": [
      "Overall Acc: \t 0.60250859932\n",
      "Mean Acc : \t 0.270190851594\n",
      "FreqW Acc : \t 0.439811900239\n",
      "Mean IoU : \t 0.200117278967\n",
      "Epoch [19/50] Loss: 0.9413\n",
      "Epoch [19/50] Loss: 1.0897\n",
      "Epoch [19/50] Loss: 1.1528\n",
      "Epoch [19/50] Loss: 0.6093\n",
      "Epoch [19/50] Loss: 1.1242\n",
      "Epoch [19/50] Loss: 1.4103\n",
      "Epoch [19/50] Loss: 0.8808\n",
      "Epoch [19/50] Loss: 1.1549\n",
      "Epoch [19/50] Loss: 1.2232\n",
      "Epoch [19/50] Loss: 0.7521\n",
      "Epoch [19/50] Loss: 0.8322\n",
      "Epoch [19/50] Loss: 1.1322\n",
      "Epoch [19/50] Loss: 0.7157\n",
      "Epoch [19/50] Loss: 1.1326\n",
      "Epoch [19/50] Loss: 1.1931\n",
      "Epoch [19/50] Loss: 1.0755\n",
      "Epoch [19/50] Loss: 1.4386\n"
     ]
    },
    {
     "name": "stderr",
     "output_type": "stream",
     "text": [
      "1683it [07:51,  3.57it/s]\n"
     ]
    },
    {
     "name": "stdout",
     "output_type": "stream",
     "text": [
      "Overall Acc: \t 0.599549288715\n",
      "Mean Acc : \t 0.278834367003\n",
      "FreqW Acc : \t 0.438736106886\n",
      "Mean IoU : \t 0.204008510019\n",
      "Epoch [20/50] Loss: 0.7493\n",
      "Epoch [20/50] Loss: 1.3433\n",
      "Epoch [20/50] Loss: 1.0483\n",
      "Epoch [20/50] Loss: 1.0364\n",
      "Epoch [20/50] Loss: 1.4381\n",
      "Epoch [20/50] Loss: 0.9886\n",
      "Epoch [20/50] Loss: 0.9006\n",
      "Epoch [20/50] Loss: 0.6587\n",
      "Epoch [20/50] Loss: 1.4020\n",
      "Epoch [20/50] Loss: 1.0692\n",
      "Epoch [20/50] Loss: 1.3964\n",
      "Epoch [20/50] Loss: 0.6136\n",
      "Epoch [20/50] Loss: 1.5066\n",
      "Epoch [20/50] Loss: 0.8577\n",
      "Epoch [20/50] Loss: 1.4857\n",
      "Epoch [20/50] Loss: 0.9453\n",
      "Epoch [20/50] Loss: 1.0042\n"
     ]
    },
    {
     "name": "stderr",
     "output_type": "stream",
     "text": [
      "1683it [07:51,  3.57it/s]"
     ]
    },
    {
     "name": "stdout",
     "output_type": "stream",
     "text": [
      "Overall Acc: \t 0.604926609204\n",
      "Mean Acc : \t 0.28019166562\n",
      "FreqW Acc : \t 0.440516717362\n",
      "Mean IoU : \t 0.203728054424\n"
     ]
    },
    {
     "name": "stderr",
     "output_type": "stream",
     "text": [
      "\n"
     ]
    },
    {
     "name": "stdout",
     "output_type": "stream",
     "text": [
      "Epoch [21/50] Loss: 0.8739\n",
      "Epoch [21/50] Loss: 1.1783\n",
      "Epoch [21/50] Loss: 0.9672\n",
      "Epoch [21/50] Loss: 1.3016\n",
      "Epoch [21/50] Loss: 1.1292\n",
      "Epoch [21/50] Loss: 0.8443\n",
      "Epoch [21/50] Loss: 0.8105\n",
      "Epoch [21/50] Loss: 0.7913\n",
      "Epoch [21/50] Loss: 0.8681\n",
      "Epoch [21/50] Loss: 1.3864\n",
      "Epoch [21/50] Loss: 1.2614\n",
      "Epoch [21/50] Loss: 1.0931\n",
      "Epoch [21/50] Loss: 0.8375\n",
      "Epoch [21/50] Loss: 0.7063\n",
      "Epoch [21/50] Loss: 1.3669\n",
      "Epoch [21/50] Loss: 1.2369\n",
      "Epoch [21/50] Loss: 1.2415\n"
     ]
    },
    {
     "name": "stderr",
     "output_type": "stream",
     "text": [
      "1683it [07:50,  3.57it/s]\n"
     ]
    },
    {
     "name": "stdout",
     "output_type": "stream",
     "text": [
      "Overall Acc: \t 0.607656718069\n",
      "Mean Acc : \t 0.278624799287\n",
      "FreqW Acc : \t 0.439785864631\n",
      "Mean IoU : \t 0.206319072671\n",
      "Epoch [22/50] Loss: 0.9276\n",
      "Epoch [22/50] Loss: 0.9956\n",
      "Epoch [22/50] Loss: 0.9773\n",
      "Epoch [22/50] Loss: 1.2250\n",
      "Epoch [22/50] Loss: 1.1501\n",
      "Epoch [22/50] Loss: 1.1731\n",
      "Epoch [22/50] Loss: 0.7258\n",
      "Epoch [22/50] Loss: 1.2186\n",
      "Epoch [22/50] Loss: 0.9783\n",
      "Epoch [22/50] Loss: 0.6595\n",
      "Epoch [22/50] Loss: 0.8966\n",
      "Epoch [22/50] Loss: 0.8296\n",
      "Epoch [22/50] Loss: 1.1067\n",
      "Epoch [22/50] Loss: 0.9772\n",
      "Epoch [22/50] Loss: 1.8149\n",
      "Epoch [22/50] Loss: 1.0270\n",
      "Epoch [22/50] Loss: 0.9383\n"
     ]
    },
    {
     "name": "stderr",
     "output_type": "stream",
     "text": [
      "1683it [07:51,  3.57it/s]\n"
     ]
    },
    {
     "name": "stdout",
     "output_type": "stream",
     "text": [
      "Overall Acc: \t 0.606980620518\n",
      "Mean Acc : \t 0.27961187186\n",
      "FreqW Acc : \t 0.442264022907\n",
      "Mean IoU : \t 0.206895328285\n",
      "Epoch [23/50] Loss: 0.8746\n",
      "Epoch [23/50] Loss: 0.9557\n",
      "Epoch [23/50] Loss: 1.0732\n",
      "Epoch [23/50] Loss: 1.1583\n",
      "Epoch [23/50] Loss: 0.9900\n",
      "Epoch [23/50] Loss: 0.7100\n",
      "Epoch [23/50] Loss: 1.1455\n",
      "Epoch [23/50] Loss: 0.9476\n",
      "Epoch [23/50] Loss: 0.8038\n",
      "Epoch [23/50] Loss: 0.9471\n",
      "Epoch [23/50] Loss: 1.0079\n",
      "Epoch [23/50] Loss: 0.7641\n",
      "Epoch [23/50] Loss: 1.2302\n",
      "Epoch [23/50] Loss: 0.9587\n",
      "Epoch [23/50] Loss: 0.8625\n",
      "Epoch [23/50] Loss: 0.6911\n",
      "Epoch [23/50] Loss: 0.7659\n"
     ]
    },
    {
     "name": "stderr",
     "output_type": "stream",
     "text": [
      "1683it [07:51,  3.57it/s]"
     ]
    },
    {
     "name": "stdout",
     "output_type": "stream",
     "text": [
      "Overall Acc: \t 0.605963332776\n",
      "Mean Acc : \t 0.267257166029\n",
      "FreqW Acc : \t 0.438198592596\n",
      "Mean IoU : \t 0.199940869831\n"
     ]
    },
    {
     "name": "stderr",
     "output_type": "stream",
     "text": [
      "\n"
     ]
    },
    {
     "name": "stdout",
     "output_type": "stream",
     "text": [
      "Epoch [24/50] Loss: 0.8928\n",
      "Epoch [24/50] Loss: 1.1980\n",
      "Epoch [24/50] Loss: 1.2899\n",
      "Epoch [24/50] Loss: 1.2596\n",
      "Epoch [24/50] Loss: 1.0382\n",
      "Epoch [24/50] Loss: 1.1258\n",
      "Epoch [24/50] Loss: 1.0593\n",
      "Epoch [24/50] Loss: 1.6644\n",
      "Epoch [24/50] Loss: 1.1382\n",
      "Epoch [24/50] Loss: 1.1555\n",
      "Epoch [24/50] Loss: 0.7110\n",
      "Epoch [24/50] Loss: 1.2540\n",
      "Epoch [24/50] Loss: 0.8790\n",
      "Epoch [24/50] Loss: 1.1834\n",
      "Epoch [24/50] Loss: 1.0474\n",
      "Epoch [24/50] Loss: 1.1751\n",
      "Epoch [24/50] Loss: 0.8977\n"
     ]
    },
    {
     "name": "stderr",
     "output_type": "stream",
     "text": [
      "1683it [07:52,  3.56it/s]"
     ]
    },
    {
     "name": "stdout",
     "output_type": "stream",
     "text": [
      "Overall Acc: \t 0.608021608936\n",
      "Mean Acc : \t 0.273421410783\n",
      "FreqW Acc : \t 0.443366177327\n",
      "Mean IoU : \t 0.204918098316\n"
     ]
    },
    {
     "name": "stderr",
     "output_type": "stream",
     "text": [
      "\n"
     ]
    },
    {
     "name": "stdout",
     "output_type": "stream",
     "text": [
      "Epoch [25/50] Loss: 1.4710\n",
      "Epoch [25/50] Loss: 1.0919\n",
      "Epoch [25/50] Loss: 0.8886\n",
      "Epoch [25/50] Loss: 0.9511\n",
      "Epoch [25/50] Loss: 0.9293\n",
      "Epoch [25/50] Loss: 0.7049\n",
      "Epoch [25/50] Loss: 1.1671\n",
      "Epoch [25/50] Loss: 0.8942\n",
      "Epoch [25/50] Loss: 0.9118\n",
      "Epoch [25/50] Loss: 1.1849\n",
      "Epoch [25/50] Loss: 0.8408\n",
      "Epoch [25/50] Loss: 0.9474\n",
      "Epoch [25/50] Loss: 0.7124\n",
      "Epoch [25/50] Loss: 0.7592\n",
      "Epoch [25/50] Loss: 0.9888\n",
      "Epoch [25/50] Loss: 1.4706\n",
      "Epoch [25/50] Loss: 0.8642\n"
     ]
    },
    {
     "name": "stderr",
     "output_type": "stream",
     "text": [
      "1683it [07:49,  3.58it/s]\n"
     ]
    },
    {
     "name": "stdout",
     "output_type": "stream",
     "text": [
      "Overall Acc: \t 0.60596863885\n",
      "Mean Acc : \t 0.290091126891\n",
      "FreqW Acc : \t 0.44461261764\n",
      "Mean IoU : \t 0.21327987917\n",
      "Epoch [26/50] Loss: 0.7700\n",
      "Epoch [26/50] Loss: 0.6331\n",
      "Epoch [26/50] Loss: 1.0025\n",
      "Epoch [26/50] Loss: 0.8867\n",
      "Epoch [26/50] Loss: 1.3048\n",
      "Epoch [26/50] Loss: 1.1895\n",
      "Epoch [26/50] Loss: 1.0553\n",
      "Epoch [26/50] Loss: 0.9919\n",
      "Epoch [26/50] Loss: 0.7961\n",
      "Epoch [26/50] Loss: 0.8150\n",
      "Epoch [26/50] Loss: 1.3035\n",
      "Epoch [26/50] Loss: 0.9132\n",
      "Epoch [26/50] Loss: 0.9170\n",
      "Epoch [26/50] Loss: 1.3168\n",
      "Epoch [26/50] Loss: 0.9411\n",
      "Epoch [26/50] Loss: 0.8780\n",
      "Epoch [26/50] Loss: 0.8534\n"
     ]
    },
    {
     "name": "stderr",
     "output_type": "stream",
     "text": [
      "1683it [07:51,  3.57it/s]"
     ]
    },
    {
     "name": "stdout",
     "output_type": "stream",
     "text": [
      "Overall Acc: \t 0.607655500831\n",
      "Mean Acc : \t 0.28299804396\n",
      "FreqW Acc : \t 0.444477753003\n",
      "Mean IoU : \t 0.210576487455\n"
     ]
    },
    {
     "name": "stderr",
     "output_type": "stream",
     "text": [
      "\n"
     ]
    },
    {
     "name": "stdout",
     "output_type": "stream",
     "text": [
      "Epoch [27/50] Loss: 1.2789\n",
      "Epoch [27/50] Loss: 0.7165\n",
      "Epoch [27/50] Loss: 0.9905\n",
      "Epoch [27/50] Loss: 0.6928\n",
      "Epoch [27/50] Loss: 1.0638\n",
      "Epoch [27/50] Loss: 0.9426\n",
      "Epoch [27/50] Loss: 0.7345\n",
      "Epoch [27/50] Loss: 1.0094\n",
      "Epoch [27/50] Loss: 0.8762\n",
      "Epoch [27/50] Loss: 0.9295\n",
      "Epoch [27/50] Loss: 0.9157\n",
      "Epoch [27/50] Loss: 1.6148\n",
      "Epoch [27/50] Loss: 1.0939\n",
      "Epoch [27/50] Loss: 0.8781\n",
      "Epoch [27/50] Loss: 0.8037\n",
      "Epoch [27/50] Loss: 0.9567\n",
      "Epoch [27/50] Loss: 0.6309\n"
     ]
    },
    {
     "name": "stderr",
     "output_type": "stream",
     "text": [
      "1683it [07:52,  3.56it/s]"
     ]
    },
    {
     "name": "stdout",
     "output_type": "stream",
     "text": [
      "Overall Acc: \t 0.60823699103\n",
      "Mean Acc : \t 0.279483892693\n",
      "FreqW Acc : \t 0.442864993437\n",
      "Mean IoU : \t 0.208277834624\n"
     ]
    },
    {
     "name": "stderr",
     "output_type": "stream",
     "text": [
      "\n"
     ]
    },
    {
     "name": "stdout",
     "output_type": "stream",
     "text": [
      "Epoch [28/50] Loss: 0.7938\n",
      "Epoch [28/50] Loss: 0.7104\n",
      "Epoch [28/50] Loss: 0.8985\n",
      "Epoch [28/50] Loss: 0.9400\n",
      "Epoch [28/50] Loss: 1.2485\n",
      "Epoch [28/50] Loss: 0.8677\n",
      "Epoch [28/50] Loss: 1.0489\n",
      "Epoch [28/50] Loss: 0.9290\n",
      "Epoch [28/50] Loss: 1.0160\n",
      "Epoch [28/50] Loss: 1.3375\n",
      "Epoch [28/50] Loss: 0.9539\n",
      "Epoch [28/50] Loss: 1.7030\n",
      "Epoch [28/50] Loss: 0.7122\n",
      "Epoch [28/50] Loss: 1.0613\n",
      "Epoch [28/50] Loss: 1.3843\n",
      "Epoch [28/50] Loss: 0.8011\n",
      "Epoch [28/50] Loss: 0.9951\n"
     ]
    },
    {
     "name": "stderr",
     "output_type": "stream",
     "text": [
      "1683it [07:50,  3.58it/s]\n"
     ]
    },
    {
     "name": "stdout",
     "output_type": "stream",
     "text": [
      "Overall Acc: \t 0.607084126343\n",
      "Mean Acc : \t 0.295301283538\n",
      "FreqW Acc : \t 0.444861921453\n",
      "Mean IoU : \t 0.21673391597\n",
      "Epoch [29/50] Loss: 0.8217\n",
      "Epoch [29/50] Loss: 0.9495\n",
      "Epoch [29/50] Loss: 0.9368\n",
      "Epoch [29/50] Loss: 1.2187\n",
      "Epoch [29/50] Loss: 1.1461\n",
      "Epoch [29/50] Loss: 0.7719\n",
      "Epoch [29/50] Loss: 1.0710\n",
      "Epoch [29/50] Loss: 1.1343\n",
      "Epoch [29/50] Loss: 0.5814\n",
      "Epoch [29/50] Loss: 1.2243\n",
      "Epoch [29/50] Loss: 1.0038\n",
      "Epoch [29/50] Loss: 0.7585\n",
      "Epoch [29/50] Loss: 0.8776\n",
      "Epoch [29/50] Loss: 0.8444\n",
      "Epoch [29/50] Loss: 0.8996\n",
      "Epoch [29/50] Loss: 1.1336\n",
      "Epoch [29/50] Loss: 0.8427\n"
     ]
    },
    {
     "name": "stderr",
     "output_type": "stream",
     "text": [
      "1683it [07:53,  3.56it/s]"
     ]
    },
    {
     "name": "stdout",
     "output_type": "stream",
     "text": [
      "Overall Acc: \t 0.607837930469\n",
      "Mean Acc : \t 0.29123263736\n",
      "FreqW Acc : \t 0.441266104577\n",
      "Mean IoU : \t 0.21257226531\n"
     ]
    },
    {
     "name": "stderr",
     "output_type": "stream",
     "text": [
      "\n"
     ]
    },
    {
     "name": "stdout",
     "output_type": "stream",
     "text": [
      "Epoch [30/50] Loss: 1.1842\n",
      "Epoch [30/50] Loss: 0.8141\n",
      "Epoch [30/50] Loss: 0.8207\n",
      "Epoch [30/50] Loss: 0.7616\n",
      "Epoch [30/50] Loss: 0.9065\n",
      "Epoch [30/50] Loss: 0.7957\n",
      "Epoch [30/50] Loss: 0.8583\n",
      "Epoch [30/50] Loss: 0.7551\n",
      "Epoch [30/50] Loss: 1.1513\n",
      "Epoch [30/50] Loss: 0.9873\n",
      "Epoch [30/50] Loss: 1.2622\n",
      "Epoch [30/50] Loss: 0.9757\n",
      "Epoch [30/50] Loss: 1.2154\n",
      "Epoch [30/50] Loss: 0.8323\n",
      "Epoch [30/50] Loss: 0.8329\n",
      "Epoch [30/50] Loss: 0.5678\n",
      "Epoch [30/50] Loss: 0.8493\n"
     ]
    },
    {
     "name": "stderr",
     "output_type": "stream",
     "text": [
      "1683it [07:51,  3.57it/s]"
     ]
    },
    {
     "name": "stdout",
     "output_type": "stream",
     "text": [
      "Overall Acc: \t 0.604322541438\n",
      "Mean Acc : \t 0.292660921194\n",
      "FreqW Acc : \t 0.442661234964\n",
      "Mean IoU : \t 0.213881186074\n"
     ]
    },
    {
     "name": "stderr",
     "output_type": "stream",
     "text": [
      "\n"
     ]
    },
    {
     "name": "stdout",
     "output_type": "stream",
     "text": [
      "Epoch [31/50] Loss: 0.9001\n",
      "Epoch [31/50] Loss: 0.8850\n",
      "Epoch [31/50] Loss: 1.3931\n",
      "Epoch [31/50] Loss: 0.8456\n",
      "Epoch [31/50] Loss: 1.0304\n",
      "Epoch [31/50] Loss: 1.0370\n",
      "Epoch [31/50] Loss: 0.6622\n",
      "Epoch [31/50] Loss: 0.9751\n",
      "Epoch [31/50] Loss: 1.3045\n",
      "Epoch [31/50] Loss: 0.9538\n",
      "Epoch [31/50] Loss: 1.0678\n",
      "Epoch [31/50] Loss: 0.7138\n",
      "Epoch [31/50] Loss: 0.8622\n",
      "Epoch [31/50] Loss: 1.0349\n",
      "Epoch [31/50] Loss: 1.0292\n",
      "Epoch [31/50] Loss: 1.1037\n",
      "Epoch [31/50] Loss: 0.9457\n"
     ]
    },
    {
     "name": "stderr",
     "output_type": "stream",
     "text": [
      "1683it [07:51,  3.57it/s]\n"
     ]
    },
    {
     "name": "stdout",
     "output_type": "stream",
     "text": [
      "Overall Acc: \t 0.606034243322\n",
      "Mean Acc : \t 0.302479702121\n",
      "FreqW Acc : \t 0.440666241414\n",
      "Mean IoU : \t 0.220679303211\n",
      "Epoch [32/50] Loss: 0.7275\n",
      "Epoch [32/50] Loss: 0.7203\n",
      "Epoch [32/50] Loss: 0.5998\n",
      "Epoch [32/50] Loss: 0.7944\n",
      "Epoch [32/50] Loss: 0.7396\n",
      "Epoch [32/50] Loss: 0.8926\n",
      "Epoch [32/50] Loss: 1.2885\n",
      "Epoch [32/50] Loss: 1.0540\n",
      "Epoch [32/50] Loss: 0.7459\n",
      "Epoch [32/50] Loss: 0.6481\n",
      "Epoch [32/50] Loss: 1.0564\n",
      "Epoch [32/50] Loss: 1.0504\n",
      "Epoch [32/50] Loss: 0.7366\n",
      "Epoch [32/50] Loss: 0.6984\n",
      "Epoch [32/50] Loss: 1.1068\n",
      "Epoch [32/50] Loss: 1.0904\n",
      "Epoch [32/50] Loss: 1.1550\n"
     ]
    },
    {
     "name": "stderr",
     "output_type": "stream",
     "text": [
      "1683it [07:51,  3.57it/s]"
     ]
    },
    {
     "name": "stdout",
     "output_type": "stream",
     "text": [
      "Overall Acc: \t 0.60826502747\n",
      "Mean Acc : \t 0.296627636002\n",
      "FreqW Acc : \t 0.443644076052\n",
      "Mean IoU : \t 0.218776776777\n"
     ]
    },
    {
     "name": "stderr",
     "output_type": "stream",
     "text": [
      "\n"
     ]
    },
    {
     "name": "stdout",
     "output_type": "stream",
     "text": [
      "Epoch [33/50] Loss: 0.7633\n",
      "Epoch [33/50] Loss: 1.0339\n",
      "Epoch [33/50] Loss: 0.7560\n",
      "Epoch [33/50] Loss: 0.7413\n",
      "Epoch [33/50] Loss: 0.6989\n",
      "Epoch [33/50] Loss: 0.9832\n",
      "Epoch [33/50] Loss: 0.7883\n",
      "Epoch [33/50] Loss: 0.6616\n",
      "Epoch [33/50] Loss: 1.1644\n",
      "Epoch [33/50] Loss: 0.7355\n",
      "Epoch [33/50] Loss: 0.6845\n",
      "Epoch [33/50] Loss: 1.0083\n",
      "Epoch [33/50] Loss: 0.7886\n",
      "Epoch [33/50] Loss: 0.9794\n",
      "Epoch [33/50] Loss: 0.8457\n",
      "Epoch [33/50] Loss: 0.5760\n",
      "Epoch [33/50] Loss: 0.8204\n"
     ]
    },
    {
     "name": "stderr",
     "output_type": "stream",
     "text": [
      "1683it [07:52,  3.56it/s]"
     ]
    },
    {
     "name": "stdout",
     "output_type": "stream",
     "text": [
      "Overall Acc: \t 0.604086020154\n",
      "Mean Acc : \t 0.291171362712\n",
      "FreqW Acc : \t 0.443953099282\n",
      "Mean IoU : \t 0.215248627151\n"
     ]
    },
    {
     "name": "stderr",
     "output_type": "stream",
     "text": [
      "\n"
     ]
    },
    {
     "name": "stdout",
     "output_type": "stream",
     "text": [
      "Epoch [34/50] Loss: 0.7935\n",
      "Epoch [34/50] Loss: 0.9104\n",
      "Epoch [34/50] Loss: 0.7103\n",
      "Epoch [34/50] Loss: 0.8439\n",
      "Epoch [34/50] Loss: 1.0111\n",
      "Epoch [34/50] Loss: 0.8357\n",
      "Epoch [34/50] Loss: 0.9106\n",
      "Epoch [34/50] Loss: 0.9776\n",
      "Epoch [34/50] Loss: 0.9796\n",
      "Epoch [34/50] Loss: 0.7891\n",
      "Epoch [34/50] Loss: 0.7594\n",
      "Epoch [34/50] Loss: 1.0371\n",
      "Epoch [34/50] Loss: 0.9906\n",
      "Epoch [34/50] Loss: 0.9068\n",
      "Epoch [34/50] Loss: 0.6601\n",
      "Epoch [34/50] Loss: 1.0218\n",
      "Epoch [34/50] Loss: 0.5626\n"
     ]
    },
    {
     "name": "stderr",
     "output_type": "stream",
     "text": [
      "1683it [07:52,  3.56it/s]\n"
     ]
    },
    {
     "name": "stdout",
     "output_type": "stream",
     "text": [
      "Overall Acc: \t 0.606210299224\n",
      "Mean Acc : \t 0.306138067799\n",
      "FreqW Acc : \t 0.44517824222\n",
      "Mean IoU : \t 0.221894110244\n",
      "Epoch [35/50] Loss: 0.9087\n",
      "Epoch [35/50] Loss: 0.9183\n",
      "Epoch [35/50] Loss: 0.7735\n",
      "Epoch [35/50] Loss: 0.7691\n",
      "Epoch [35/50] Loss: 0.9272\n",
      "Epoch [35/50] Loss: 1.8226\n",
      "Epoch [35/50] Loss: 0.6397\n",
      "Epoch [35/50] Loss: 0.7254\n",
      "Epoch [35/50] Loss: 0.8426\n",
      "Epoch [35/50] Loss: 1.1569\n",
      "Epoch [35/50] Loss: 0.6932\n",
      "Epoch [35/50] Loss: 0.7416\n",
      "Epoch [35/50] Loss: 0.8742\n",
      "Epoch [35/50] Loss: 0.8476\n",
      "Epoch [35/50] Loss: 0.9550\n",
      "Epoch [35/50] Loss: 0.8761\n",
      "Epoch [35/50] Loss: 0.9135\n"
     ]
    },
    {
     "name": "stderr",
     "output_type": "stream",
     "text": [
      "1683it [07:52,  3.56it/s]"
     ]
    },
    {
     "name": "stdout",
     "output_type": "stream",
     "text": [
      "Overall Acc: \t 0.604411351438\n",
      "Mean Acc : \t 0.289308150402\n",
      "FreqW Acc : \t 0.438140392887\n",
      "Mean IoU : \t 0.216613054782\n"
     ]
    },
    {
     "name": "stderr",
     "output_type": "stream",
     "text": [
      "\n"
     ]
    },
    {
     "name": "stdout",
     "output_type": "stream",
     "text": [
      "Epoch [36/50] Loss: 1.0025\n",
      "Epoch [36/50] Loss: 0.6766\n",
      "Epoch [36/50] Loss: 1.4658\n",
      "Epoch [36/50] Loss: 0.7020\n",
      "Epoch [36/50] Loss: 1.2349\n",
      "Epoch [36/50] Loss: 0.8194\n",
      "Epoch [36/50] Loss: 0.6866\n",
      "Epoch [36/50] Loss: 0.8599\n",
      "Epoch [36/50] Loss: 0.8875\n",
      "Epoch [36/50] Loss: 0.7437\n",
      "Epoch [36/50] Loss: 0.7816\n",
      "Epoch [36/50] Loss: 0.6459\n",
      "Epoch [36/50] Loss: 0.5453\n",
      "Epoch [36/50] Loss: 0.6842\n",
      "Epoch [36/50] Loss: 0.8991\n",
      "Epoch [36/50] Loss: 0.5741\n",
      "Epoch [36/50] Loss: 0.6434\n"
     ]
    },
    {
     "name": "stderr",
     "output_type": "stream",
     "text": [
      "1683it [07:52,  3.56it/s]"
     ]
    },
    {
     "name": "stdout",
     "output_type": "stream",
     "text": [
      "Overall Acc: \t 0.60657380458\n",
      "Mean Acc : \t 0.303625512456\n",
      "FreqW Acc : \t 0.442670062443\n",
      "Mean IoU : \t 0.220938742193\n"
     ]
    },
    {
     "name": "stderr",
     "output_type": "stream",
     "text": [
      "\n"
     ]
    },
    {
     "name": "stdout",
     "output_type": "stream",
     "text": [
      "Epoch [37/50] Loss: 0.7418\n",
      "Epoch [37/50] Loss: 0.8984\n",
      "Epoch [37/50] Loss: 0.9614\n",
      "Epoch [37/50] Loss: 0.8400\n",
      "Epoch [37/50] Loss: 0.7073\n",
      "Epoch [37/50] Loss: 0.8601\n",
      "Epoch [37/50] Loss: 0.9310\n",
      "Epoch [37/50] Loss: 0.7765\n",
      "Epoch [37/50] Loss: 0.8460\n",
      "Epoch [37/50] Loss: 0.9242\n",
      "Epoch [37/50] Loss: 1.0906\n",
      "Epoch [37/50] Loss: 0.4966\n",
      "Epoch [37/50] Loss: 1.0046\n",
      "Epoch [37/50] Loss: 0.6491\n",
      "Epoch [37/50] Loss: 0.6069\n",
      "Epoch [37/50] Loss: 0.5084\n",
      "Epoch [37/50] Loss: 0.6447\n"
     ]
    },
    {
     "name": "stderr",
     "output_type": "stream",
     "text": [
      "1683it [07:50,  3.58it/s]"
     ]
    },
    {
     "name": "stdout",
     "output_type": "stream",
     "text": [
      "Overall Acc: \t 0.597180232678\n",
      "Mean Acc : \t 0.298681432301\n",
      "FreqW Acc : \t 0.432128260586\n",
      "Mean IoU : \t 0.215718083313\n"
     ]
    },
    {
     "name": "stderr",
     "output_type": "stream",
     "text": [
      "\n"
     ]
    },
    {
     "name": "stdout",
     "output_type": "stream",
     "text": [
      "Epoch [38/50] Loss: 0.9622\n",
      "Epoch [38/50] Loss: 0.5473\n",
      "Epoch [38/50] Loss: 0.7081\n",
      "Epoch [38/50] Loss: 0.6466\n",
      "Epoch [38/50] Loss: 0.5666\n",
      "Epoch [38/50] Loss: 1.0487\n",
      "Epoch [38/50] Loss: 0.9672\n",
      "Epoch [38/50] Loss: 1.4140\n",
      "Epoch [38/50] Loss: 0.9250\n",
      "Epoch [38/50] Loss: 0.7599\n",
      "Epoch [38/50] Loss: 0.9641\n",
      "Epoch [38/50] Loss: 0.4672\n",
      "Epoch [38/50] Loss: 0.6676\n",
      "Epoch [38/50] Loss: 0.7213\n",
      "Epoch [38/50] Loss: 0.8982\n",
      "Epoch [38/50] Loss: 0.9633\n",
      "Epoch [38/50] Loss: 0.7159\n"
     ]
    },
    {
     "name": "stderr",
     "output_type": "stream",
     "text": [
      "1683it [07:52,  3.56it/s]"
     ]
    },
    {
     "name": "stdout",
     "output_type": "stream",
     "text": [
      "Overall Acc: \t 0.603183953506\n",
      "Mean Acc : \t 0.299323908292\n",
      "FreqW Acc : \t 0.440134376349\n",
      "Mean IoU : \t 0.21954778136\n"
     ]
    },
    {
     "name": "stderr",
     "output_type": "stream",
     "text": [
      "\n"
     ]
    },
    {
     "name": "stdout",
     "output_type": "stream",
     "text": [
      "Epoch [39/50] Loss: 0.7525\n",
      "Epoch [39/50] Loss: 0.6025\n",
      "Epoch [39/50] Loss: 0.6415\n",
      "Epoch [39/50] Loss: 0.8415\n",
      "Epoch [39/50] Loss: 0.8579\n",
      "Epoch [39/50] Loss: 0.9344\n",
      "Epoch [39/50] Loss: 0.5493\n",
      "Epoch [39/50] Loss: 0.8084\n",
      "Epoch [39/50] Loss: 0.8399\n",
      "Epoch [39/50] Loss: 0.6233\n",
      "Epoch [39/50] Loss: 0.8337\n",
      "Epoch [39/50] Loss: 0.9742\n",
      "Epoch [39/50] Loss: 0.7945\n",
      "Epoch [39/50] Loss: 0.8535\n",
      "Epoch [39/50] Loss: 0.6758\n",
      "Epoch [39/50] Loss: 0.6676\n",
      "Epoch [39/50] Loss: 0.7586\n"
     ]
    },
    {
     "name": "stderr",
     "output_type": "stream",
     "text": [
      "1683it [07:51,  3.57it/s]\n"
     ]
    },
    {
     "name": "stdout",
     "output_type": "stream",
     "text": [
      "Overall Acc: \t 0.599737616927\n",
      "Mean Acc : \t 0.319927176542\n",
      "FreqW Acc : \t 0.440816719761\n",
      "Mean IoU : \t 0.228701602807\n",
      "Epoch [40/50] Loss: 0.6311\n",
      "Epoch [40/50] Loss: 0.6111\n",
      "Epoch [40/50] Loss: 0.5586\n",
      "Epoch [40/50] Loss: 0.9394\n",
      "Epoch [40/50] Loss: 0.9761\n",
      "Epoch [40/50] Loss: 0.5999\n",
      "Epoch [40/50] Loss: 0.6574\n",
      "Epoch [40/50] Loss: 0.6692\n",
      "Epoch [40/50] Loss: 0.5278\n",
      "Epoch [40/50] Loss: 0.8749\n",
      "Epoch [40/50] Loss: 0.5649\n",
      "Epoch [40/50] Loss: 0.7375\n",
      "Epoch [40/50] Loss: 1.0482\n",
      "Epoch [40/50] Loss: 0.8436\n",
      "Epoch [40/50] Loss: 0.6015\n",
      "Epoch [40/50] Loss: 1.3100\n",
      "Epoch [40/50] Loss: 0.6341\n"
     ]
    },
    {
     "name": "stderr",
     "output_type": "stream",
     "text": [
      "1683it [07:51,  3.57it/s]"
     ]
    },
    {
     "name": "stdout",
     "output_type": "stream",
     "text": [
      "Overall Acc: \t 0.604610687012\n",
      "Mean Acc : \t 0.306550568334\n",
      "FreqW Acc : \t 0.44089555429\n",
      "Mean IoU : \t 0.222575034878\n"
     ]
    },
    {
     "name": "stderr",
     "output_type": "stream",
     "text": [
      "\n"
     ]
    },
    {
     "name": "stdout",
     "output_type": "stream",
     "text": [
      "Epoch [41/50] Loss: 0.6398\n",
      "Epoch [41/50] Loss: 0.7541\n",
      "Epoch [41/50] Loss: 0.7974\n",
      "Epoch [41/50] Loss: 0.5537\n",
      "Epoch [41/50] Loss: 0.5070\n",
      "Epoch [41/50] Loss: 0.7142\n",
      "Epoch [41/50] Loss: 0.5311\n",
      "Epoch [41/50] Loss: 0.9736\n",
      "Epoch [41/50] Loss: 0.6558\n",
      "Epoch [41/50] Loss: 0.7314\n",
      "Epoch [41/50] Loss: 0.7335\n",
      "Epoch [41/50] Loss: 0.8369\n",
      "Epoch [41/50] Loss: 0.6437\n",
      "Epoch [41/50] Loss: 0.9412\n",
      "Epoch [41/50] Loss: 0.7809\n",
      "Epoch [41/50] Loss: 0.6255\n",
      "Epoch [41/50] Loss: 0.6674\n"
     ]
    },
    {
     "name": "stderr",
     "output_type": "stream",
     "text": [
      "1683it [07:52,  3.56it/s]"
     ]
    },
    {
     "name": "stdout",
     "output_type": "stream",
     "text": [
      "Overall Acc: \t 0.600894373164\n",
      "Mean Acc : \t 0.312210322336\n",
      "FreqW Acc : \t 0.43732250667\n",
      "Mean IoU : \t 0.223928490089\n"
     ]
    },
    {
     "name": "stderr",
     "output_type": "stream",
     "text": [
      "\n"
     ]
    },
    {
     "name": "stdout",
     "output_type": "stream",
     "text": [
      "Epoch [42/50] Loss: 0.7097\n",
      "Epoch [42/50] Loss: 0.6019\n",
      "Epoch [42/50] Loss: 0.7750\n",
      "Epoch [42/50] Loss: 0.4944\n",
      "Epoch [42/50] Loss: 0.8994\n",
      "Epoch [42/50] Loss: 0.6647\n",
      "Epoch [42/50] Loss: 0.7229\n",
      "Epoch [42/50] Loss: 0.7637\n",
      "Epoch [42/50] Loss: 0.8444\n",
      "Epoch [42/50] Loss: 0.7838\n",
      "Epoch [42/50] Loss: 0.6605\n",
      "Epoch [42/50] Loss: 0.8469\n",
      "Epoch [42/50] Loss: 0.9592\n",
      "Epoch [42/50] Loss: 0.7575\n",
      "Epoch [42/50] Loss: 0.7484\n",
      "Epoch [42/50] Loss: 0.7584\n",
      "Epoch [42/50] Loss: 0.5904\n"
     ]
    },
    {
     "name": "stderr",
     "output_type": "stream",
     "text": [
      "1683it [07:51,  3.57it/s]"
     ]
    },
    {
     "name": "stdout",
     "output_type": "stream",
     "text": [
      "Overall Acc: \t 0.604722318286\n",
      "Mean Acc : \t 0.301284496113\n",
      "FreqW Acc : \t 0.442171193109\n",
      "Mean IoU : \t 0.221584818059\n"
     ]
    },
    {
     "name": "stderr",
     "output_type": "stream",
     "text": [
      "\n"
     ]
    },
    {
     "name": "stdout",
     "output_type": "stream",
     "text": [
      "Epoch [43/50] Loss: 0.6811\n",
      "Epoch [43/50] Loss: 0.6040\n",
      "Epoch [43/50] Loss: 0.7465\n",
      "Epoch [43/50] Loss: 0.7256\n",
      "Epoch [43/50] Loss: 0.9346\n",
      "Epoch [43/50] Loss: 0.9065\n",
      "Epoch [43/50] Loss: 0.7591\n",
      "Epoch [43/50] Loss: 0.4670\n",
      "Epoch [43/50] Loss: 0.6347\n",
      "Epoch [43/50] Loss: 0.4930\n",
      "Epoch [43/50] Loss: 0.5472\n",
      "Epoch [43/50] Loss: 0.5436\n",
      "Epoch [43/50] Loss: 0.6083\n",
      "Epoch [43/50] Loss: 0.7868\n",
      "Epoch [43/50] Loss: 0.7218\n",
      "Epoch [43/50] Loss: 0.8750\n",
      "Epoch [43/50] Loss: 0.7371\n"
     ]
    },
    {
     "name": "stderr",
     "output_type": "stream",
     "text": [
      "1683it [07:51,  3.57it/s]"
     ]
    },
    {
     "name": "stdout",
     "output_type": "stream",
     "text": [
      "Overall Acc: \t 0.602877667994\n",
      "Mean Acc : \t 0.303072768626\n",
      "FreqW Acc : \t 0.44107344123\n",
      "Mean IoU : \t 0.220923099334\n"
     ]
    },
    {
     "name": "stderr",
     "output_type": "stream",
     "text": [
      "\n"
     ]
    },
    {
     "name": "stdout",
     "output_type": "stream",
     "text": [
      "Epoch [44/50] Loss: 0.6739\n",
      "Epoch [44/50] Loss: 0.7212\n",
      "Epoch [44/50] Loss: 0.8528\n",
      "Epoch [44/50] Loss: 0.5604\n",
      "Epoch [44/50] Loss: 0.7702\n",
      "Epoch [44/50] Loss: 0.7730\n",
      "Epoch [44/50] Loss: 0.7110\n",
      "Epoch [44/50] Loss: 0.7534\n",
      "Epoch [44/50] Loss: 1.2312\n",
      "Epoch [44/50] Loss: 0.6611\n",
      "Epoch [44/50] Loss: 0.7175\n",
      "Epoch [44/50] Loss: 1.1124\n",
      "Epoch [44/50] Loss: 0.6159\n",
      "Epoch [44/50] Loss: 0.8054\n",
      "Epoch [44/50] Loss: 1.1090\n",
      "Epoch [44/50] Loss: 0.6559\n",
      "Epoch [44/50] Loss: 0.7678\n"
     ]
    },
    {
     "name": "stderr",
     "output_type": "stream",
     "text": [
      "1683it [07:52,  3.56it/s]"
     ]
    },
    {
     "name": "stdout",
     "output_type": "stream",
     "text": [
      "Overall Acc: \t 0.597868817232\n",
      "Mean Acc : \t 0.306376922707\n",
      "FreqW Acc : \t 0.437528909842\n",
      "Mean IoU : \t 0.223940780704\n"
     ]
    },
    {
     "name": "stderr",
     "output_type": "stream",
     "text": [
      "\n"
     ]
    },
    {
     "name": "stdout",
     "output_type": "stream",
     "text": [
      "Epoch [45/50] Loss: 0.5691\n",
      "Epoch [45/50] Loss: 0.9900\n",
      "Epoch [45/50] Loss: 1.1756\n",
      "Epoch [45/50] Loss: 0.6282\n",
      "Epoch [45/50] Loss: 0.7866\n",
      "Epoch [45/50] Loss: 0.5617\n",
      "Epoch [45/50] Loss: 0.4851\n",
      "Epoch [45/50] Loss: 0.6590\n",
      "Epoch [45/50] Loss: 0.4922\n",
      "Epoch [45/50] Loss: 0.6043\n",
      "Epoch [45/50] Loss: 0.6010\n",
      "Epoch [45/50] Loss: 0.7754\n",
      "Epoch [45/50] Loss: 0.5685\n",
      "Epoch [45/50] Loss: 1.1298\n",
      "Epoch [45/50] Loss: 0.8632\n",
      "Epoch [45/50] Loss: 0.6966\n",
      "Epoch [45/50] Loss: 1.0173\n"
     ]
    },
    {
     "name": "stderr",
     "output_type": "stream",
     "text": [
      "1683it [07:51,  3.57it/s]"
     ]
    },
    {
     "name": "stdout",
     "output_type": "stream",
     "text": [
      "Overall Acc: \t 0.599633239436\n",
      "Mean Acc : \t 0.297021670586\n",
      "FreqW Acc : \t 0.441056853448\n",
      "Mean IoU : \t 0.222007671208\n"
     ]
    },
    {
     "name": "stderr",
     "output_type": "stream",
     "text": [
      "\n"
     ]
    },
    {
     "name": "stdout",
     "output_type": "stream",
     "text": [
      "Epoch [46/50] Loss: 0.5701\n",
      "Epoch [46/50] Loss: 0.4906\n",
      "Epoch [46/50] Loss: 0.8965\n",
      "Epoch [46/50] Loss: 0.4787\n",
      "Epoch [46/50] Loss: 0.7007\n",
      "Epoch [46/50] Loss: 0.6719\n",
      "Epoch [46/50] Loss: 0.7222\n",
      "Epoch [46/50] Loss: 0.5067\n",
      "Epoch [46/50] Loss: 0.6835\n",
      "Epoch [46/50] Loss: 0.9640\n",
      "Epoch [46/50] Loss: 0.6129\n",
      "Epoch [46/50] Loss: 0.4981\n",
      "Epoch [46/50] Loss: 0.4461\n",
      "Epoch [46/50] Loss: 0.8416\n",
      "Epoch [46/50] Loss: 0.7120\n",
      "Epoch [46/50] Loss: 0.5167\n",
      "Epoch [46/50] Loss: 0.4593\n"
     ]
    },
    {
     "name": "stderr",
     "output_type": "stream",
     "text": [
      "1683it [07:52,  3.56it/s]"
     ]
    },
    {
     "name": "stdout",
     "output_type": "stream",
     "text": [
      "Overall Acc: \t 0.597245227887\n",
      "Mean Acc : \t 0.309260726012\n",
      "FreqW Acc : \t 0.435403561211\n",
      "Mean IoU : \t 0.223312153041\n"
     ]
    },
    {
     "name": "stderr",
     "output_type": "stream",
     "text": [
      "\n"
     ]
    },
    {
     "name": "stdout",
     "output_type": "stream",
     "text": [
      "Epoch [47/50] Loss: 0.6239\n",
      "Epoch [47/50] Loss: 0.4954\n",
      "Epoch [47/50] Loss: 0.6209\n",
      "Epoch [47/50] Loss: 0.6584\n",
      "Epoch [47/50] Loss: 0.8231\n",
      "Epoch [47/50] Loss: 0.7564\n",
      "Epoch [47/50] Loss: 0.5269\n",
      "Epoch [47/50] Loss: 0.7775\n",
      "Epoch [47/50] Loss: 0.7319\n",
      "Epoch [47/50] Loss: 0.5799\n",
      "Epoch [47/50] Loss: 0.5159\n",
      "Epoch [47/50] Loss: 0.5653\n",
      "Epoch [47/50] Loss: 0.6039\n",
      "Epoch [47/50] Loss: 0.7176\n",
      "Epoch [47/50] Loss: 0.4822\n",
      "Epoch [47/50] Loss: 0.5448\n",
      "Epoch [47/50] Loss: 0.4960\n"
     ]
    },
    {
     "name": "stderr",
     "output_type": "stream",
     "text": [
      "1683it [07:51,  3.57it/s]"
     ]
    },
    {
     "name": "stdout",
     "output_type": "stream",
     "text": [
      "Overall Acc: \t 0.593461853781\n",
      "Mean Acc : \t 0.306135574291\n",
      "FreqW Acc : \t 0.434353591097\n",
      "Mean IoU : \t 0.22229177886\n"
     ]
    },
    {
     "name": "stderr",
     "output_type": "stream",
     "text": [
      "\n"
     ]
    },
    {
     "name": "stdout",
     "output_type": "stream",
     "text": [
      "Epoch [48/50] Loss: 0.6373\n",
      "Epoch [48/50] Loss: 0.7249\n",
      "Epoch [48/50] Loss: 0.8024\n",
      "Epoch [48/50] Loss: 0.7792\n",
      "Epoch [48/50] Loss: 0.5967\n",
      "Epoch [48/50] Loss: 0.7974\n",
      "Epoch [48/50] Loss: 0.5346\n",
      "Epoch [48/50] Loss: 0.5282\n",
      "Epoch [48/50] Loss: 0.8924\n",
      "Epoch [48/50] Loss: 0.6646\n",
      "Epoch [48/50] Loss: 0.3865\n",
      "Epoch [48/50] Loss: 0.7923\n",
      "Epoch [48/50] Loss: 0.6012\n",
      "Epoch [48/50] Loss: 0.5966\n",
      "Epoch [48/50] Loss: 0.3950\n",
      "Epoch [48/50] Loss: 0.4956\n",
      "Epoch [48/50] Loss: 0.6446\n"
     ]
    },
    {
     "name": "stderr",
     "output_type": "stream",
     "text": [
      "1683it [07:51,  3.57it/s]"
     ]
    },
    {
     "name": "stdout",
     "output_type": "stream",
     "text": [
      "Overall Acc: \t 0.595715397954\n",
      "Mean Acc : \t 0.299721007417\n",
      "FreqW Acc : \t 0.433320348401\n",
      "Mean IoU : \t 0.219789021403\n"
     ]
    },
    {
     "name": "stderr",
     "output_type": "stream",
     "text": [
      "\n"
     ]
    },
    {
     "name": "stdout",
     "output_type": "stream",
     "text": [
      "Epoch [49/50] Loss: 0.5546\n",
      "Epoch [49/50] Loss: 0.7485\n",
      "Epoch [49/50] Loss: 0.6579\n",
      "Epoch [49/50] Loss: 0.5075\n",
      "Epoch [49/50] Loss: 0.7414\n",
      "Epoch [49/50] Loss: 0.7973\n",
      "Epoch [49/50] Loss: 0.5155\n",
      "Epoch [49/50] Loss: 0.8308\n",
      "Epoch [49/50] Loss: 0.6813\n",
      "Epoch [49/50] Loss: 0.7220\n",
      "Epoch [49/50] Loss: 0.6178\n",
      "Epoch [49/50] Loss: 0.9529\n",
      "Epoch [49/50] Loss: 0.5300\n",
      "Epoch [49/50] Loss: 0.6187\n",
      "Epoch [49/50] Loss: 0.7438\n",
      "Epoch [49/50] Loss: 0.7227\n",
      "Epoch [49/50] Loss: 0.5535\n"
     ]
    },
    {
     "name": "stderr",
     "output_type": "stream",
     "text": [
      "1683it [07:51,  3.57it/s]\n"
     ]
    },
    {
     "name": "stdout",
     "output_type": "stream",
     "text": [
      "Overall Acc: \t 0.596578979774\n",
      "Mean Acc : \t 0.324415704542\n",
      "FreqW Acc : \t 0.433228101166\n",
      "Mean IoU : \t 0.229852704159\n",
      "Epoch [50/50] Loss: 0.5724\n",
      "Epoch [50/50] Loss: 0.6335\n",
      "Epoch [50/50] Loss: 0.8083\n",
      "Epoch [50/50] Loss: 0.7632\n",
      "Epoch [50/50] Loss: 0.6791\n",
      "Epoch [50/50] Loss: 0.4903\n",
      "Epoch [50/50] Loss: 0.5919\n",
      "Epoch [50/50] Loss: 0.6335\n",
      "Epoch [50/50] Loss: 0.7141\n",
      "Epoch [50/50] Loss: 0.8164\n",
      "Epoch [50/50] Loss: 0.5594\n",
      "Epoch [50/50] Loss: 0.6637\n",
      "Epoch [50/50] Loss: 0.5980\n",
      "Epoch [50/50] Loss: 0.6550\n",
      "Epoch [50/50] Loss: 0.6074\n",
      "Epoch [50/50] Loss: 0.8060\n",
      "Epoch [50/50] Loss: 0.6074\n"
     ]
    },
    {
     "name": "stderr",
     "output_type": "stream",
     "text": [
      "1683it [07:51,  3.57it/s]\n"
     ]
    },
    {
     "name": "stdout",
     "output_type": "stream",
     "text": [
      "Overall Acc: \t 0.596000553946\n",
      "Mean Acc : \t 0.32083613316\n",
      "FreqW Acc : \t 0.436254897171\n",
      "Mean IoU : \t 0.229954082669\n"
     ]
    }
   ],
   "source": [
    "from utils import *\n",
    "\n",
    "arg_str = '--gpu_idx 1 ' \\\n",
    "          '--arch FCN_RGBHHA_Hybrid ' \\\n",
    "          '--input_type RGBHHA ' \\\n",
    "          '--dataset SUNRGBD ' \\\n",
    "          '--batch_size 3 ' \\\n",
    "          '--n_epoch 50'\n",
    "\n",
    "trainer = trainer(arg_str)\n",
    "trainer.model_init()\n",
    "trainer.training()"
   ]
  },
  {
   "cell_type": "code",
   "execution_count": null,
   "metadata": {},
   "outputs": [],
   "source": []
  }
 ],
 "metadata": {
  "kernelspec": {
   "display_name": "Python [conda env:pytorch]",
   "language": "python",
   "name": "conda-env-pytorch-py"
  },
  "language_info": {
   "codemirror_mode": {
    "name": "ipython",
    "version": 3
   },
   "file_extension": ".py",
   "mimetype": "text/x-python",
   "name": "python",
   "nbconvert_exporter": "python",
   "pygments_lexer": "ipython3",
   "version": "3.6.3"
  }
 },
 "nbformat": 4,
 "nbformat_minor": 2
}
