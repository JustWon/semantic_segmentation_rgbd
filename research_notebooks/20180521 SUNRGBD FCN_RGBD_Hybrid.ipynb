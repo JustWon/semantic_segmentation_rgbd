{
 "cells": [
  {
   "cell_type": "code",
   "execution_count": 1,
   "metadata": {},
   "outputs": [
    {
     "name": "stderr",
     "output_type": "stream",
     "text": [
      "/home/dongwonshin/.conda/envs/pytorch/lib/python3.6/site-packages/torch/nn/functional.py:1462: UserWarning: nn.functional.upsample_bilinear is deprecated. Use nn.functional.upsample instead.\n",
      "  warnings.warn(\"nn.functional.upsample_bilinear is deprecated. Use nn.functional.upsample instead.\")\n"
     ]
    },
    {
     "name": "stdout",
     "output_type": "stream",
     "text": [
      "Epoch [1/50] Loss: 2.3502\n",
      "Epoch [1/50] Loss: 2.4025\n",
      "Epoch [1/50] Loss: 2.6094\n",
      "Epoch [1/50] Loss: 2.1699\n",
      "Epoch [1/50] Loss: 1.9379\n",
      "Epoch [1/50] Loss: 3.1028\n",
      "Epoch [1/50] Loss: 2.7767\n",
      "Epoch [1/50] Loss: 2.3342\n",
      "Epoch [1/50] Loss: 1.3603\n",
      "Epoch [1/50] Loss: 2.2303\n",
      "Epoch [1/50] Loss: 1.7818\n",
      "Epoch [1/50] Loss: 1.5986\n",
      "Epoch [1/50] Loss: 1.9897\n",
      "Epoch [1/50] Loss: 1.4830\n",
      "Epoch [1/50] Loss: 1.5161\n",
      "Epoch [1/50] Loss: 1.7318\n",
      "Epoch [1/50] Loss: 1.9960\n"
     ]
    },
    {
     "name": "stderr",
     "output_type": "stream",
     "text": [
      "1683it [07:54,  3.55it/s]\n"
     ]
    },
    {
     "name": "stdout",
     "output_type": "stream",
     "text": [
      "Overall Acc: \t 0.504615618501\n",
      "Mean Acc : \t 0.0979926935833\n",
      "FreqW Acc : \t 0.314038469323\n",
      "Mean IoU : \t 0.0667051490371\n",
      "Epoch [2/50] Loss: 1.8406\n",
      "Epoch [2/50] Loss: 1.4458\n",
      "Epoch [2/50] Loss: 2.6344\n",
      "Epoch [2/50] Loss: 1.5935\n",
      "Epoch [2/50] Loss: 1.7761\n",
      "Epoch [2/50] Loss: 1.6070\n",
      "Epoch [2/50] Loss: 1.2950\n",
      "Epoch [2/50] Loss: 2.0896\n",
      "Epoch [2/50] Loss: 1.3195\n",
      "Epoch [2/50] Loss: 1.4012\n",
      "Epoch [2/50] Loss: 1.8090\n",
      "Epoch [2/50] Loss: 1.9211\n",
      "Epoch [2/50] Loss: 1.3612\n",
      "Epoch [2/50] Loss: 1.6412\n",
      "Epoch [2/50] Loss: 1.7692\n",
      "Epoch [2/50] Loss: 1.0606\n",
      "Epoch [2/50] Loss: 1.5044\n"
     ]
    },
    {
     "name": "stderr",
     "output_type": "stream",
     "text": [
      "1683it [07:54,  3.55it/s]\n"
     ]
    },
    {
     "name": "stdout",
     "output_type": "stream",
     "text": [
      "Overall Acc: \t 0.540798288749\n",
      "Mean Acc : \t 0.128416351747\n",
      "FreqW Acc : \t 0.359319153751\n",
      "Mean IoU : \t 0.0925383652714\n",
      "Epoch [3/50] Loss: 1.0015\n",
      "Epoch [3/50] Loss: 1.7202\n",
      "Epoch [3/50] Loss: 1.4085\n",
      "Epoch [3/50] Loss: 1.4258\n",
      "Epoch [3/50] Loss: 2.0077\n",
      "Epoch [3/50] Loss: 1.2740\n",
      "Epoch [3/50] Loss: 1.3013\n",
      "Epoch [3/50] Loss: 1.2849\n",
      "Epoch [3/50] Loss: 1.1433\n",
      "Epoch [3/50] Loss: 1.1826\n",
      "Epoch [3/50] Loss: 1.7136\n",
      "Epoch [3/50] Loss: 1.3543\n",
      "Epoch [3/50] Loss: 2.0476\n",
      "Epoch [3/50] Loss: 2.0864\n",
      "Epoch [3/50] Loss: 1.6356\n",
      "Epoch [3/50] Loss: 1.1637\n",
      "Epoch [3/50] Loss: 1.2252\n"
     ]
    },
    {
     "name": "stderr",
     "output_type": "stream",
     "text": [
      "1683it [07:57,  3.53it/s]\n"
     ]
    },
    {
     "name": "stdout",
     "output_type": "stream",
     "text": [
      "Overall Acc: \t 0.553106321074\n",
      "Mean Acc : \t 0.151626407646\n",
      "FreqW Acc : \t 0.371556650324\n",
      "Mean IoU : \t 0.107205415971\n",
      "Epoch [4/50] Loss: 2.0853\n",
      "Epoch [4/50] Loss: 1.7728\n",
      "Epoch [4/50] Loss: 1.4465\n",
      "Epoch [4/50] Loss: 1.5647\n",
      "Epoch [4/50] Loss: 1.4405\n",
      "Epoch [4/50] Loss: 1.6072\n",
      "Epoch [4/50] Loss: 1.3965\n",
      "Epoch [4/50] Loss: 1.5942\n",
      "Epoch [4/50] Loss: 1.4631\n",
      "Epoch [4/50] Loss: 1.7692\n",
      "Epoch [4/50] Loss: 1.5551\n",
      "Epoch [4/50] Loss: 1.9054\n",
      "Epoch [4/50] Loss: 1.1838\n",
      "Epoch [4/50] Loss: 1.2361\n",
      "Epoch [4/50] Loss: 1.6455\n",
      "Epoch [4/50] Loss: 1.0105\n",
      "Epoch [4/50] Loss: 1.5337\n"
     ]
    },
    {
     "name": "stderr",
     "output_type": "stream",
     "text": [
      "1683it [07:54,  3.55it/s]\n"
     ]
    },
    {
     "name": "stdout",
     "output_type": "stream",
     "text": [
      "Overall Acc: \t 0.558574139449\n",
      "Mean Acc : \t 0.162423393202\n",
      "FreqW Acc : \t 0.382929034632\n",
      "Mean IoU : \t 0.120038344988\n",
      "Epoch [5/50] Loss: 1.6964\n",
      "Epoch [5/50] Loss: 1.8674\n",
      "Epoch [5/50] Loss: 1.4696\n",
      "Epoch [5/50] Loss: 1.1608\n",
      "Epoch [5/50] Loss: 1.5089\n",
      "Epoch [5/50] Loss: 1.2307\n",
      "Epoch [5/50] Loss: 2.2929\n",
      "Epoch [5/50] Loss: 1.0727\n",
      "Epoch [5/50] Loss: 1.4641\n",
      "Epoch [5/50] Loss: 1.6742\n",
      "Epoch [5/50] Loss: 1.2843\n",
      "Epoch [5/50] Loss: 1.5258\n",
      "Epoch [5/50] Loss: 1.4946\n",
      "Epoch [5/50] Loss: 0.7168\n",
      "Epoch [5/50] Loss: 1.4855\n",
      "Epoch [5/50] Loss: 1.2950\n",
      "Epoch [5/50] Loss: 1.4153\n"
     ]
    },
    {
     "name": "stderr",
     "output_type": "stream",
     "text": [
      "1683it [07:56,  3.53it/s]\n"
     ]
    },
    {
     "name": "stdout",
     "output_type": "stream",
     "text": [
      "Overall Acc: \t 0.568685667567\n",
      "Mean Acc : \t 0.185126540692\n",
      "FreqW Acc : \t 0.393432768321\n",
      "Mean IoU : \t 0.135254298531\n",
      "Epoch [6/50] Loss: 1.4015\n",
      "Epoch [6/50] Loss: 1.2093\n",
      "Epoch [6/50] Loss: 1.0494\n",
      "Epoch [6/50] Loss: 1.6142\n",
      "Epoch [6/50] Loss: 1.2184\n",
      "Epoch [6/50] Loss: 1.0105\n",
      "Epoch [6/50] Loss: 1.6696\n",
      "Epoch [6/50] Loss: 1.4231\n",
      "Epoch [6/50] Loss: 1.5127\n",
      "Epoch [6/50] Loss: 1.5732\n",
      "Epoch [6/50] Loss: 1.3109\n",
      "Epoch [6/50] Loss: 0.8440\n",
      "Epoch [6/50] Loss: 1.7795\n",
      "Epoch [6/50] Loss: 1.6780\n",
      "Epoch [6/50] Loss: 1.1432\n",
      "Epoch [6/50] Loss: 1.5046\n",
      "Epoch [6/50] Loss: 1.5596\n"
     ]
    },
    {
     "name": "stderr",
     "output_type": "stream",
     "text": [
      "1683it [07:54,  3.55it/s]\n"
     ]
    },
    {
     "name": "stdout",
     "output_type": "stream",
     "text": [
      "Overall Acc: \t 0.574737268132\n",
      "Mean Acc : \t 0.196453561934\n",
      "FreqW Acc : \t 0.397642015716\n",
      "Mean IoU : \t 0.144834255057\n",
      "Epoch [7/50] Loss: 1.2424\n",
      "Epoch [7/50] Loss: 0.9819\n",
      "Epoch [7/50] Loss: 1.3739\n",
      "Epoch [7/50] Loss: 1.0500\n",
      "Epoch [7/50] Loss: 1.1057\n",
      "Epoch [7/50] Loss: 1.4048\n",
      "Epoch [7/50] Loss: 1.7207\n",
      "Epoch [7/50] Loss: 1.2297\n",
      "Epoch [7/50] Loss: 1.5156\n",
      "Epoch [7/50] Loss: 1.1626\n",
      "Epoch [7/50] Loss: 1.9334\n",
      "Epoch [7/50] Loss: 1.1248\n",
      "Epoch [7/50] Loss: 1.3675\n",
      "Epoch [7/50] Loss: 1.0063\n",
      "Epoch [7/50] Loss: 1.3174\n",
      "Epoch [7/50] Loss: 1.1134\n",
      "Epoch [7/50] Loss: 1.1940\n"
     ]
    },
    {
     "name": "stderr",
     "output_type": "stream",
     "text": [
      "1683it [07:54,  3.55it/s]\n"
     ]
    },
    {
     "name": "stdout",
     "output_type": "stream",
     "text": [
      "Overall Acc: \t 0.576378693878\n",
      "Mean Acc : \t 0.206490633348\n",
      "FreqW Acc : \t 0.40413268804\n",
      "Mean IoU : \t 0.152597593199\n",
      "Epoch [8/50] Loss: 1.5964\n",
      "Epoch [8/50] Loss: 1.3608\n",
      "Epoch [8/50] Loss: 0.9870\n",
      "Epoch [8/50] Loss: 1.4097\n",
      "Epoch [8/50] Loss: 1.3508\n",
      "Epoch [8/50] Loss: 1.2870\n",
      "Epoch [8/50] Loss: 1.2882\n",
      "Epoch [8/50] Loss: 1.1350\n",
      "Epoch [8/50] Loss: 1.3948\n",
      "Epoch [8/50] Loss: 1.4921\n",
      "Epoch [8/50] Loss: 1.1374\n",
      "Epoch [8/50] Loss: 1.3595\n",
      "Epoch [8/50] Loss: 1.2487\n",
      "Epoch [8/50] Loss: 1.1040\n",
      "Epoch [8/50] Loss: 1.7730\n",
      "Epoch [8/50] Loss: 1.3990\n",
      "Epoch [8/50] Loss: 1.1297\n"
     ]
    },
    {
     "name": "stderr",
     "output_type": "stream",
     "text": [
      "1683it [07:57,  3.52it/s]\n"
     ]
    },
    {
     "name": "stdout",
     "output_type": "stream",
     "text": [
      "Overall Acc: \t 0.581097716338\n",
      "Mean Acc : \t 0.208458815091\n",
      "FreqW Acc : \t 0.406648137542\n",
      "Mean IoU : \t 0.156125716262\n",
      "Epoch [9/50] Loss: 1.8170\n",
      "Epoch [9/50] Loss: 1.2082\n",
      "Epoch [9/50] Loss: 1.4800\n",
      "Epoch [9/50] Loss: 1.4301\n",
      "Epoch [9/50] Loss: 1.1087\n",
      "Epoch [9/50] Loss: 1.8015\n",
      "Epoch [9/50] Loss: 1.3631\n",
      "Epoch [9/50] Loss: 1.5149\n",
      "Epoch [9/50] Loss: 1.8100\n",
      "Epoch [9/50] Loss: 1.7059\n",
      "Epoch [9/50] Loss: 0.8372\n",
      "Epoch [9/50] Loss: 1.2324\n",
      "Epoch [9/50] Loss: 1.4451\n",
      "Epoch [9/50] Loss: 1.1760\n",
      "Epoch [9/50] Loss: 0.7793\n",
      "Epoch [9/50] Loss: 1.2572\n",
      "Epoch [9/50] Loss: 1.2879\n"
     ]
    },
    {
     "name": "stderr",
     "output_type": "stream",
     "text": [
      "1683it [07:59,  3.51it/s]\n"
     ]
    },
    {
     "name": "stdout",
     "output_type": "stream",
     "text": [
      "Overall Acc: \t 0.585728535482\n",
      "Mean Acc : \t 0.216741358682\n",
      "FreqW Acc : \t 0.411351810394\n",
      "Mean IoU : \t 0.16117242496\n",
      "Epoch [10/50] Loss: 1.2915\n",
      "Epoch [10/50] Loss: 0.9029\n",
      "Epoch [10/50] Loss: 0.9968\n",
      "Epoch [10/50] Loss: 1.5737\n",
      "Epoch [10/50] Loss: 0.9554\n",
      "Epoch [10/50] Loss: 1.3883\n",
      "Epoch [10/50] Loss: 1.2701\n",
      "Epoch [10/50] Loss: 1.2176\n",
      "Epoch [10/50] Loss: 1.0396\n",
      "Epoch [10/50] Loss: 1.2751\n",
      "Epoch [10/50] Loss: 1.3734\n",
      "Epoch [10/50] Loss: 0.9529\n",
      "Epoch [10/50] Loss: 0.8454\n",
      "Epoch [10/50] Loss: 1.2820\n",
      "Epoch [10/50] Loss: 1.6095\n",
      "Epoch [10/50] Loss: 1.3370\n",
      "Epoch [10/50] Loss: 1.2414\n"
     ]
    },
    {
     "name": "stderr",
     "output_type": "stream",
     "text": [
      "1683it [07:56,  3.53it/s]\n"
     ]
    },
    {
     "name": "stdout",
     "output_type": "stream",
     "text": [
      "Overall Acc: \t 0.583619117286\n",
      "Mean Acc : \t 0.2341205864\n",
      "FreqW Acc : \t 0.41174092288\n",
      "Mean IoU : \t 0.173247642555\n",
      "Epoch [11/50] Loss: 1.7740\n",
      "Epoch [11/50] Loss: 1.1903\n",
      "Epoch [11/50] Loss: 1.1847\n",
      "Epoch [11/50] Loss: 1.1381\n",
      "Epoch [11/50] Loss: 1.4958\n",
      "Epoch [11/50] Loss: 0.9911\n",
      "Epoch [11/50] Loss: 1.2811\n",
      "Epoch [11/50] Loss: 1.0977\n",
      "Epoch [11/50] Loss: 0.9645\n",
      "Epoch [11/50] Loss: 1.0116\n",
      "Epoch [11/50] Loss: 0.6830\n",
      "Epoch [11/50] Loss: 1.2562\n",
      "Epoch [11/50] Loss: 1.1884\n",
      "Epoch [11/50] Loss: 1.5508\n",
      "Epoch [11/50] Loss: 1.6005\n",
      "Epoch [11/50] Loss: 1.3197\n",
      "Epoch [11/50] Loss: 1.3013\n"
     ]
    },
    {
     "name": "stderr",
     "output_type": "stream",
     "text": [
      "1683it [07:59,  3.51it/s]\n"
     ]
    },
    {
     "name": "stdout",
     "output_type": "stream",
     "text": [
      "Overall Acc: \t 0.589844328962\n",
      "Mean Acc : \t 0.252756871915\n",
      "FreqW Acc : \t 0.421478593426\n",
      "Mean IoU : \t 0.182494697014\n",
      "Epoch [12/50] Loss: 1.6286\n",
      "Epoch [12/50] Loss: 1.1981\n",
      "Epoch [12/50] Loss: 1.4675\n",
      "Epoch [12/50] Loss: 1.2303\n",
      "Epoch [12/50] Loss: 1.4211\n",
      "Epoch [12/50] Loss: 1.0960\n",
      "Epoch [12/50] Loss: 0.9109\n",
      "Epoch [12/50] Loss: 1.7721\n",
      "Epoch [12/50] Loss: 1.2900\n",
      "Epoch [12/50] Loss: 1.2455\n",
      "Epoch [12/50] Loss: 1.3527\n",
      "Epoch [12/50] Loss: 0.7841\n",
      "Epoch [12/50] Loss: 1.3145\n",
      "Epoch [12/50] Loss: 0.7623\n",
      "Epoch [12/50] Loss: 1.5866\n",
      "Epoch [12/50] Loss: 1.7681\n",
      "Epoch [12/50] Loss: 0.9141\n"
     ]
    },
    {
     "name": "stderr",
     "output_type": "stream",
     "text": [
      "1683it [07:56,  3.53it/s]"
     ]
    },
    {
     "name": "stdout",
     "output_type": "stream",
     "text": [
      "Overall Acc: \t 0.591726604665\n",
      "Mean Acc : \t 0.249081887244\n",
      "FreqW Acc : \t 0.421375129233\n",
      "Mean IoU : \t 0.18215360598\n"
     ]
    },
    {
     "name": "stderr",
     "output_type": "stream",
     "text": [
      "\n"
     ]
    },
    {
     "name": "stdout",
     "output_type": "stream",
     "text": [
      "Epoch [13/50] Loss: 1.3506\n",
      "Epoch [13/50] Loss: 1.1366\n",
      "Epoch [13/50] Loss: 1.3750\n",
      "Epoch [13/50] Loss: 1.6371\n",
      "Epoch [13/50] Loss: 1.3700\n",
      "Epoch [13/50] Loss: 0.9148\n",
      "Epoch [13/50] Loss: 1.5099\n",
      "Epoch [13/50] Loss: 0.7723\n",
      "Epoch [13/50] Loss: 1.2343\n",
      "Epoch [13/50] Loss: 1.1657\n",
      "Epoch [13/50] Loss: 1.7393\n",
      "Epoch [13/50] Loss: 1.1819\n",
      "Epoch [13/50] Loss: 1.2345\n",
      "Epoch [13/50] Loss: 1.2340\n",
      "Epoch [13/50] Loss: 1.4102\n",
      "Epoch [13/50] Loss: 0.9727\n",
      "Epoch [13/50] Loss: 0.9367\n"
     ]
    },
    {
     "name": "stderr",
     "output_type": "stream",
     "text": [
      "1683it [07:56,  3.53it/s]\n"
     ]
    },
    {
     "name": "stdout",
     "output_type": "stream",
     "text": [
      "Overall Acc: \t 0.591584608854\n",
      "Mean Acc : \t 0.26474648677\n",
      "FreqW Acc : \t 0.424161661069\n",
      "Mean IoU : \t 0.191279962068\n",
      "Epoch [14/50] Loss: 1.4903\n",
      "Epoch [14/50] Loss: 1.3578\n",
      "Epoch [14/50] Loss: 1.4688\n",
      "Epoch [14/50] Loss: 0.9370\n",
      "Epoch [14/50] Loss: 1.4186\n",
      "Epoch [14/50] Loss: 1.0319\n",
      "Epoch [14/50] Loss: 1.2030\n",
      "Epoch [14/50] Loss: 0.9580\n",
      "Epoch [14/50] Loss: 1.3560\n",
      "Epoch [14/50] Loss: 1.3731\n",
      "Epoch [14/50] Loss: 1.3825\n",
      "Epoch [14/50] Loss: 1.3618\n",
      "Epoch [14/50] Loss: 1.1449\n",
      "Epoch [14/50] Loss: 1.0735\n",
      "Epoch [14/50] Loss: 1.1647\n",
      "Epoch [14/50] Loss: 1.5010\n",
      "Epoch [14/50] Loss: 1.0652\n"
     ]
    },
    {
     "name": "stderr",
     "output_type": "stream",
     "text": [
      "1683it [07:58,  3.52it/s]"
     ]
    },
    {
     "name": "stdout",
     "output_type": "stream",
     "text": [
      "Overall Acc: \t 0.593677669774\n",
      "Mean Acc : \t 0.260808014662\n",
      "FreqW Acc : \t 0.428361124273\n",
      "Mean IoU : \t 0.19042797508\n"
     ]
    },
    {
     "name": "stderr",
     "output_type": "stream",
     "text": [
      "\n"
     ]
    },
    {
     "name": "stdout",
     "output_type": "stream",
     "text": [
      "Epoch [15/50] Loss: 1.1164\n",
      "Epoch [15/50] Loss: 1.2299\n",
      "Epoch [15/50] Loss: 0.9835\n",
      "Epoch [15/50] Loss: 0.9880\n",
      "Epoch [15/50] Loss: 1.1294\n",
      "Epoch [15/50] Loss: 1.3076\n",
      "Epoch [15/50] Loss: 0.7983\n",
      "Epoch [15/50] Loss: 1.4010\n",
      "Epoch [15/50] Loss: 1.3178\n",
      "Epoch [15/50] Loss: 1.2066\n",
      "Epoch [15/50] Loss: 0.8662\n",
      "Epoch [15/50] Loss: 1.7870\n",
      "Epoch [15/50] Loss: 0.7925\n",
      "Epoch [15/50] Loss: 0.7434\n",
      "Epoch [15/50] Loss: 1.4868\n",
      "Epoch [15/50] Loss: 1.2115\n",
      "Epoch [15/50] Loss: 1.1121\n"
     ]
    },
    {
     "name": "stderr",
     "output_type": "stream",
     "text": [
      "1683it [07:58,  3.52it/s]"
     ]
    },
    {
     "name": "stdout",
     "output_type": "stream",
     "text": [
      "Overall Acc: \t 0.593335940595\n",
      "Mean Acc : \t 0.24485365463\n",
      "FreqW Acc : \t 0.426450273429\n",
      "Mean IoU : \t 0.185301294738\n"
     ]
    },
    {
     "name": "stderr",
     "output_type": "stream",
     "text": [
      "\n"
     ]
    },
    {
     "name": "stdout",
     "output_type": "stream",
     "text": [
      "Epoch [16/50] Loss: 1.1488\n",
      "Epoch [16/50] Loss: 1.1434\n",
      "Epoch [16/50] Loss: 1.1768\n",
      "Epoch [16/50] Loss: 1.1511\n",
      "Epoch [16/50] Loss: 0.9712\n",
      "Epoch [16/50] Loss: 1.3545\n",
      "Epoch [16/50] Loss: 1.8472\n",
      "Epoch [16/50] Loss: 1.0304\n",
      "Epoch [16/50] Loss: 0.8772\n",
      "Epoch [16/50] Loss: 1.3958\n",
      "Epoch [16/50] Loss: 1.3610\n",
      "Epoch [16/50] Loss: 1.0360\n",
      "Epoch [16/50] Loss: 1.2557\n",
      "Epoch [16/50] Loss: 0.9939\n",
      "Epoch [16/50] Loss: 1.3871\n",
      "Epoch [16/50] Loss: 1.2085\n",
      "Epoch [16/50] Loss: 0.9210\n"
     ]
    },
    {
     "name": "stderr",
     "output_type": "stream",
     "text": [
      "1683it [07:58,  3.51it/s]\n"
     ]
    },
    {
     "name": "stdout",
     "output_type": "stream",
     "text": [
      "Overall Acc: \t 0.596014237555\n",
      "Mean Acc : \t 0.263387088288\n",
      "FreqW Acc : \t 0.429156052865\n",
      "Mean IoU : \t 0.192617121653\n",
      "Epoch [17/50] Loss: 1.0657\n",
      "Epoch [17/50] Loss: 0.9754\n",
      "Epoch [17/50] Loss: 1.6875\n",
      "Epoch [17/50] Loss: 1.0025\n",
      "Epoch [17/50] Loss: 0.7474\n",
      "Epoch [17/50] Loss: 1.5332\n",
      "Epoch [17/50] Loss: 0.9784\n",
      "Epoch [17/50] Loss: 0.9467\n",
      "Epoch [17/50] Loss: 1.5262\n",
      "Epoch [17/50] Loss: 1.7399\n",
      "Epoch [17/50] Loss: 1.3258\n",
      "Epoch [17/50] Loss: 1.0623\n",
      "Epoch [17/50] Loss: 0.9305\n",
      "Epoch [17/50] Loss: 1.1355\n",
      "Epoch [17/50] Loss: 0.9536\n",
      "Epoch [17/50] Loss: 1.1973\n",
      "Epoch [17/50] Loss: 0.9392\n"
     ]
    },
    {
     "name": "stderr",
     "output_type": "stream",
     "text": [
      "1683it [07:56,  3.53it/s]\n"
     ]
    },
    {
     "name": "stdout",
     "output_type": "stream",
     "text": [
      "Overall Acc: \t 0.596491642967\n",
      "Mean Acc : \t 0.265997579489\n",
      "FreqW Acc : \t 0.430898943825\n",
      "Mean IoU : \t 0.196220995521\n",
      "Epoch [18/50] Loss: 1.0103\n",
      "Epoch [18/50] Loss: 1.1947\n",
      "Epoch [18/50] Loss: 0.7632\n",
      "Epoch [18/50] Loss: 1.6626\n",
      "Epoch [18/50] Loss: 1.2936\n",
      "Epoch [18/50] Loss: 0.7579\n",
      "Epoch [18/50] Loss: 1.0240\n",
      "Epoch [18/50] Loss: 0.9778\n",
      "Epoch [18/50] Loss: 0.9312\n",
      "Epoch [18/50] Loss: 0.8486\n",
      "Epoch [18/50] Loss: 0.7804\n",
      "Epoch [18/50] Loss: 1.0576\n",
      "Epoch [18/50] Loss: 0.7204\n",
      "Epoch [18/50] Loss: 1.1506\n",
      "Epoch [18/50] Loss: 0.9362\n",
      "Epoch [18/50] Loss: 1.0579\n",
      "Epoch [18/50] Loss: 1.0763\n"
     ]
    },
    {
     "name": "stderr",
     "output_type": "stream",
     "text": [
      "1683it [08:00,  3.50it/s]\n"
     ]
    },
    {
     "name": "stdout",
     "output_type": "stream",
     "text": [
      "Overall Acc: \t 0.594803286516\n",
      "Mean Acc : \t 0.273258522526\n",
      "FreqW Acc : \t 0.429043718881\n",
      "Mean IoU : \t 0.198963576916\n",
      "Epoch [19/50] Loss: 0.7378\n",
      "Epoch [19/50] Loss: 0.9059\n",
      "Epoch [19/50] Loss: 0.7747\n",
      "Epoch [19/50] Loss: 1.3528\n",
      "Epoch [19/50] Loss: 1.4884\n",
      "Epoch [19/50] Loss: 1.3210\n",
      "Epoch [19/50] Loss: 0.5673\n",
      "Epoch [19/50] Loss: 1.4020\n",
      "Epoch [19/50] Loss: 0.9836\n",
      "Epoch [19/50] Loss: 1.0184\n",
      "Epoch [19/50] Loss: 1.0745\n",
      "Epoch [19/50] Loss: 1.3484\n",
      "Epoch [19/50] Loss: 0.9230\n",
      "Epoch [19/50] Loss: 1.2907\n",
      "Epoch [19/50] Loss: 1.1669\n",
      "Epoch [19/50] Loss: 1.2198\n",
      "Epoch [19/50] Loss: 0.8960\n"
     ]
    },
    {
     "name": "stderr",
     "output_type": "stream",
     "text": [
      "1683it [07:57,  3.52it/s]\n"
     ]
    },
    {
     "name": "stdout",
     "output_type": "stream",
     "text": [
      "Overall Acc: \t 0.597657037207\n",
      "Mean Acc : \t 0.287590029624\n",
      "FreqW Acc : \t 0.433035270787\n",
      "Mean IoU : \t 0.20653617256\n",
      "Epoch [20/50] Loss: 0.8789\n",
      "Epoch [20/50] Loss: 1.4539\n",
      "Epoch [20/50] Loss: 1.0733\n",
      "Epoch [20/50] Loss: 0.9291\n",
      "Epoch [20/50] Loss: 1.2164\n",
      "Epoch [20/50] Loss: 0.8830\n",
      "Epoch [20/50] Loss: 1.3148\n",
      "Epoch [20/50] Loss: 1.0301\n",
      "Epoch [20/50] Loss: 1.3368\n",
      "Epoch [20/50] Loss: 1.1330\n",
      "Epoch [20/50] Loss: 0.7279\n",
      "Epoch [20/50] Loss: 0.6003\n",
      "Epoch [20/50] Loss: 0.8908\n",
      "Epoch [20/50] Loss: 1.6704\n",
      "Epoch [20/50] Loss: 1.0288\n",
      "Epoch [20/50] Loss: 0.8421\n",
      "Epoch [20/50] Loss: 1.7900\n"
     ]
    },
    {
     "name": "stderr",
     "output_type": "stream",
     "text": [
      "1683it [07:53,  3.55it/s]\n"
     ]
    },
    {
     "name": "stdout",
     "output_type": "stream",
     "text": [
      "Overall Acc: \t 0.597951649357\n",
      "Mean Acc : \t 0.287880486764\n",
      "FreqW Acc : \t 0.432209320296\n",
      "Mean IoU : \t 0.207044137385\n",
      "Epoch [21/50] Loss: 0.7204\n",
      "Epoch [21/50] Loss: 0.9315\n",
      "Epoch [21/50] Loss: 0.7922\n",
      "Epoch [21/50] Loss: 0.8292\n",
      "Epoch [21/50] Loss: 1.1247\n",
      "Epoch [21/50] Loss: 0.8139\n",
      "Epoch [21/50] Loss: 0.9582\n",
      "Epoch [21/50] Loss: 1.0927\n",
      "Epoch [21/50] Loss: 1.0481\n",
      "Epoch [21/50] Loss: 1.3096\n",
      "Epoch [21/50] Loss: 0.8245\n",
      "Epoch [21/50] Loss: 1.0471\n",
      "Epoch [21/50] Loss: 0.7111\n",
      "Epoch [21/50] Loss: 0.8124\n",
      "Epoch [21/50] Loss: 1.1335\n",
      "Epoch [21/50] Loss: 1.2461\n",
      "Epoch [21/50] Loss: 1.1706\n"
     ]
    },
    {
     "name": "stderr",
     "output_type": "stream",
     "text": [
      "1683it [07:54,  3.55it/s]"
     ]
    },
    {
     "name": "stdout",
     "output_type": "stream",
     "text": [
      "Overall Acc: \t 0.598322986168\n",
      "Mean Acc : \t 0.270853033668\n",
      "FreqW Acc : \t 0.432312432509\n",
      "Mean IoU : \t 0.202992674355\n"
     ]
    },
    {
     "name": "stderr",
     "output_type": "stream",
     "text": [
      "\n"
     ]
    },
    {
     "name": "stdout",
     "output_type": "stream",
     "text": [
      "Epoch [22/50] Loss: 1.0184\n",
      "Epoch [22/50] Loss: 1.1140\n",
      "Epoch [22/50] Loss: 0.6612\n",
      "Epoch [22/50] Loss: 1.3101\n",
      "Epoch [22/50] Loss: 0.7028\n",
      "Epoch [22/50] Loss: 1.0978\n",
      "Epoch [22/50] Loss: 1.0106\n",
      "Epoch [22/50] Loss: 0.9006\n",
      "Epoch [22/50] Loss: 0.6920\n",
      "Epoch [22/50] Loss: 1.1673\n",
      "Epoch [22/50] Loss: 1.1459\n",
      "Epoch [22/50] Loss: 0.8203\n",
      "Epoch [22/50] Loss: 1.0172\n",
      "Epoch [22/50] Loss: 0.6826\n",
      "Epoch [22/50] Loss: 0.9155\n",
      "Epoch [22/50] Loss: 1.1067\n",
      "Epoch [22/50] Loss: 1.0139\n"
     ]
    },
    {
     "name": "stderr",
     "output_type": "stream",
     "text": [
      "1683it [07:52,  3.56it/s]\n"
     ]
    },
    {
     "name": "stdout",
     "output_type": "stream",
     "text": [
      "Overall Acc: \t 0.599505044574\n",
      "Mean Acc : \t 0.283796657653\n",
      "FreqW Acc : \t 0.4337361443\n",
      "Mean IoU : \t 0.208296491419\n",
      "Epoch [23/50] Loss: 0.9712\n",
      "Epoch [23/50] Loss: 0.9481\n",
      "Epoch [23/50] Loss: 0.6521\n",
      "Epoch [23/50] Loss: 0.9430\n",
      "Epoch [23/50] Loss: 0.8673\n",
      "Epoch [23/50] Loss: 0.9839\n",
      "Epoch [23/50] Loss: 1.0965\n",
      "Epoch [23/50] Loss: 1.1016\n",
      "Epoch [23/50] Loss: 1.2791\n",
      "Epoch [23/50] Loss: 1.0725\n",
      "Epoch [23/50] Loss: 1.1205\n",
      "Epoch [23/50] Loss: 0.9001\n",
      "Epoch [23/50] Loss: 0.7707\n",
      "Epoch [23/50] Loss: 0.8643\n",
      "Epoch [23/50] Loss: 0.9095\n",
      "Epoch [23/50] Loss: 0.9706\n",
      "Epoch [23/50] Loss: 1.0082\n"
     ]
    },
    {
     "name": "stderr",
     "output_type": "stream",
     "text": [
      "1683it [07:54,  3.55it/s]\n"
     ]
    },
    {
     "name": "stdout",
     "output_type": "stream",
     "text": [
      "Overall Acc: \t 0.599678185037\n",
      "Mean Acc : \t 0.305670622379\n",
      "FreqW Acc : \t 0.43452880746\n",
      "Mean IoU : \t 0.215737939003\n",
      "Epoch [24/50] Loss: 1.0660\n",
      "Epoch [24/50] Loss: 1.1843\n",
      "Epoch [24/50] Loss: 1.0026\n",
      "Epoch [24/50] Loss: 1.0642\n",
      "Epoch [24/50] Loss: 0.7523\n",
      "Epoch [24/50] Loss: 0.8832\n",
      "Epoch [24/50] Loss: 0.6513\n",
      "Epoch [24/50] Loss: 1.1373\n",
      "Epoch [24/50] Loss: 0.9911\n",
      "Epoch [24/50] Loss: 1.4262\n",
      "Epoch [24/50] Loss: 0.8022\n",
      "Epoch [24/50] Loss: 1.4309\n",
      "Epoch [24/50] Loss: 1.0346\n",
      "Epoch [24/50] Loss: 0.8374\n",
      "Epoch [24/50] Loss: 1.1459\n",
      "Epoch [24/50] Loss: 0.8675\n",
      "Epoch [24/50] Loss: 0.9311\n"
     ]
    },
    {
     "name": "stderr",
     "output_type": "stream",
     "text": [
      "1683it [07:54,  3.55it/s]"
     ]
    },
    {
     "name": "stdout",
     "output_type": "stream",
     "text": [
      "Overall Acc: \t 0.598942100488\n",
      "Mean Acc : \t 0.285085142721\n",
      "FreqW Acc : \t 0.426407847952\n",
      "Mean IoU : \t 0.206696265\n"
     ]
    },
    {
     "name": "stderr",
     "output_type": "stream",
     "text": [
      "\n"
     ]
    },
    {
     "name": "stdout",
     "output_type": "stream",
     "text": [
      "Epoch [25/50] Loss: 1.2297\n",
      "Epoch [25/50] Loss: 1.1331\n",
      "Epoch [25/50] Loss: 1.1362\n",
      "Epoch [25/50] Loss: 1.3838\n",
      "Epoch [25/50] Loss: 0.9371\n",
      "Epoch [25/50] Loss: 0.8658\n",
      "Epoch [25/50] Loss: 1.0543\n",
      "Epoch [25/50] Loss: 0.9442\n",
      "Epoch [25/50] Loss: 0.6353\n",
      "Epoch [25/50] Loss: 0.7140\n",
      "Epoch [25/50] Loss: 0.8504\n",
      "Epoch [25/50] Loss: 1.1802\n",
      "Epoch [25/50] Loss: 0.8445\n",
      "Epoch [25/50] Loss: 1.5181\n",
      "Epoch [25/50] Loss: 0.7182\n",
      "Epoch [25/50] Loss: 0.9823\n",
      "Epoch [25/50] Loss: 0.7232\n"
     ]
    },
    {
     "name": "stderr",
     "output_type": "stream",
     "text": [
      "1683it [07:54,  3.55it/s]"
     ]
    },
    {
     "name": "stdout",
     "output_type": "stream",
     "text": [
      "Overall Acc: \t 0.601040137383\n",
      "Mean Acc : \t 0.283421560854\n",
      "FreqW Acc : \t 0.434738340955\n",
      "Mean IoU : \t 0.208525681394\n"
     ]
    },
    {
     "name": "stderr",
     "output_type": "stream",
     "text": [
      "\n"
     ]
    },
    {
     "name": "stdout",
     "output_type": "stream",
     "text": [
      "Epoch [26/50] Loss: 1.0236\n",
      "Epoch [26/50] Loss: 0.8642\n",
      "Epoch [26/50] Loss: 1.4145\n",
      "Epoch [26/50] Loss: 0.5803\n",
      "Epoch [26/50] Loss: 1.1655\n",
      "Epoch [26/50] Loss: 1.1279\n",
      "Epoch [26/50] Loss: 0.9796\n",
      "Epoch [26/50] Loss: 0.8515\n",
      "Epoch [26/50] Loss: 1.2143\n",
      "Epoch [26/50] Loss: 0.9443\n",
      "Epoch [26/50] Loss: 0.9443\n",
      "Epoch [26/50] Loss: 0.9106\n",
      "Epoch [26/50] Loss: 1.0102\n",
      "Epoch [26/50] Loss: 1.0333\n",
      "Epoch [26/50] Loss: 0.6073\n",
      "Epoch [26/50] Loss: 0.9818\n",
      "Epoch [26/50] Loss: 0.9308\n"
     ]
    },
    {
     "name": "stderr",
     "output_type": "stream",
     "text": [
      "1683it [07:54,  3.54it/s]"
     ]
    },
    {
     "name": "stdout",
     "output_type": "stream",
     "text": [
      "Overall Acc: \t 0.599418421475\n",
      "Mean Acc : \t 0.273087201363\n",
      "FreqW Acc : \t 0.435668628649\n",
      "Mean IoU : \t 0.20366745638\n"
     ]
    },
    {
     "name": "stderr",
     "output_type": "stream",
     "text": [
      "\n"
     ]
    },
    {
     "name": "stdout",
     "output_type": "stream",
     "text": [
      "Epoch [27/50] Loss: 0.8738\n",
      "Epoch [27/50] Loss: 0.9367\n",
      "Epoch [27/50] Loss: 0.9869\n",
      "Epoch [27/50] Loss: 0.9060\n",
      "Epoch [27/50] Loss: 0.9522\n",
      "Epoch [27/50] Loss: 0.9069\n",
      "Epoch [27/50] Loss: 0.7783\n",
      "Epoch [27/50] Loss: 0.9278\n",
      "Epoch [27/50] Loss: 0.8018\n",
      "Epoch [27/50] Loss: 0.4910\n",
      "Epoch [27/50] Loss: 1.0870\n",
      "Epoch [27/50] Loss: 1.0832\n",
      "Epoch [27/50] Loss: 1.0059\n",
      "Epoch [27/50] Loss: 1.1786\n",
      "Epoch [27/50] Loss: 0.9941\n",
      "Epoch [27/50] Loss: 0.5103\n",
      "Epoch [27/50] Loss: 1.3812\n"
     ]
    },
    {
     "name": "stderr",
     "output_type": "stream",
     "text": [
      "1683it [07:53,  3.55it/s]"
     ]
    },
    {
     "name": "stdout",
     "output_type": "stream",
     "text": [
      "Overall Acc: \t 0.600447002836\n",
      "Mean Acc : \t 0.279767157669\n",
      "FreqW Acc : \t 0.431206572004\n",
      "Mean IoU : \t 0.208545842786\n"
     ]
    },
    {
     "name": "stderr",
     "output_type": "stream",
     "text": [
      "\n"
     ]
    },
    {
     "name": "stdout",
     "output_type": "stream",
     "text": [
      "Epoch [28/50] Loss: 0.6688\n",
      "Epoch [28/50] Loss: 0.7469\n",
      "Epoch [28/50] Loss: 1.1950\n",
      "Epoch [28/50] Loss: 0.7460\n",
      "Epoch [28/50] Loss: 0.8187\n",
      "Epoch [28/50] Loss: 1.0015\n",
      "Epoch [28/50] Loss: 1.1228\n",
      "Epoch [28/50] Loss: 0.9986\n",
      "Epoch [28/50] Loss: 0.7369\n",
      "Epoch [28/50] Loss: 0.8662\n",
      "Epoch [28/50] Loss: 0.8661\n",
      "Epoch [28/50] Loss: 0.8807\n",
      "Epoch [28/50] Loss: 0.8016\n",
      "Epoch [28/50] Loss: 0.5713\n",
      "Epoch [28/50] Loss: 0.7752\n",
      "Epoch [28/50] Loss: 0.8300\n",
      "Epoch [28/50] Loss: 1.1652\n"
     ]
    },
    {
     "name": "stderr",
     "output_type": "stream",
     "text": [
      "1683it [07:53,  3.56it/s]"
     ]
    },
    {
     "name": "stdout",
     "output_type": "stream",
     "text": [
      "Overall Acc: \t 0.597068640088\n",
      "Mean Acc : \t 0.281928280626\n",
      "FreqW Acc : \t 0.432169075714\n",
      "Mean IoU : \t 0.207644121753\n"
     ]
    },
    {
     "name": "stderr",
     "output_type": "stream",
     "text": [
      "\n"
     ]
    },
    {
     "name": "stdout",
     "output_type": "stream",
     "text": [
      "Epoch [29/50] Loss: 1.0660\n",
      "Epoch [29/50] Loss: 0.9997\n",
      "Epoch [29/50] Loss: 0.9397\n",
      "Epoch [29/50] Loss: 1.6024\n",
      "Epoch [29/50] Loss: 0.8099\n",
      "Epoch [29/50] Loss: 0.9780\n",
      "Epoch [29/50] Loss: 0.7468\n",
      "Epoch [29/50] Loss: 1.0851\n",
      "Epoch [29/50] Loss: 1.2505\n",
      "Epoch [29/50] Loss: 1.0909\n",
      "Epoch [29/50] Loss: 0.7771\n",
      "Epoch [29/50] Loss: 1.2240\n",
      "Epoch [29/50] Loss: 0.7921\n",
      "Epoch [29/50] Loss: 0.6298\n",
      "Epoch [29/50] Loss: 0.9913\n",
      "Epoch [29/50] Loss: 0.9432\n",
      "Epoch [29/50] Loss: 0.7315\n"
     ]
    },
    {
     "name": "stderr",
     "output_type": "stream",
     "text": [
      "1683it [07:55,  3.54it/s]"
     ]
    },
    {
     "name": "stdout",
     "output_type": "stream",
     "text": [
      "Overall Acc: \t 0.595866164582\n",
      "Mean Acc : \t 0.28606530624\n",
      "FreqW Acc : \t 0.431047569538\n",
      "Mean IoU : \t 0.210187619681\n"
     ]
    },
    {
     "name": "stderr",
     "output_type": "stream",
     "text": [
      "\n"
     ]
    },
    {
     "name": "stdout",
     "output_type": "stream",
     "text": [
      "Epoch [30/50] Loss: 0.8949\n",
      "Epoch [30/50] Loss: 0.9077\n",
      "Epoch [30/50] Loss: 1.1105\n",
      "Epoch [30/50] Loss: 0.7454\n",
      "Epoch [30/50] Loss: 0.8350\n",
      "Epoch [30/50] Loss: 0.8537\n",
      "Epoch [30/50] Loss: 0.8145\n",
      "Epoch [30/50] Loss: 0.9226\n",
      "Epoch [30/50] Loss: 0.9759\n",
      "Epoch [30/50] Loss: 0.9941\n",
      "Epoch [30/50] Loss: 0.9710\n",
      "Epoch [30/50] Loss: 0.9096\n",
      "Epoch [30/50] Loss: 0.8294\n",
      "Epoch [30/50] Loss: 0.6027\n",
      "Epoch [30/50] Loss: 0.8289\n",
      "Epoch [30/50] Loss: 1.0568\n",
      "Epoch [30/50] Loss: 0.8002\n"
     ]
    },
    {
     "name": "stderr",
     "output_type": "stream",
     "text": [
      "1683it [07:54,  3.55it/s]"
     ]
    },
    {
     "name": "stdout",
     "output_type": "stream",
     "text": [
      "Overall Acc: \t 0.594534339514\n",
      "Mean Acc : \t 0.291504753008\n",
      "FreqW Acc : \t 0.434074418638\n",
      "Mean IoU : \t 0.214824359319\n"
     ]
    },
    {
     "name": "stderr",
     "output_type": "stream",
     "text": [
      "\n"
     ]
    },
    {
     "name": "stdout",
     "output_type": "stream",
     "text": [
      "Epoch [31/50] Loss: 1.0139\n",
      "Epoch [31/50] Loss: 0.9359\n",
      "Epoch [31/50] Loss: 0.7657\n",
      "Epoch [31/50] Loss: 0.9274\n",
      "Epoch [31/50] Loss: 1.1130\n",
      "Epoch [31/50] Loss: 1.0537\n",
      "Epoch [31/50] Loss: 0.7660\n",
      "Epoch [31/50] Loss: 0.8301\n",
      "Epoch [31/50] Loss: 0.7895\n",
      "Epoch [31/50] Loss: 0.7423\n",
      "Epoch [31/50] Loss: 0.6117\n",
      "Epoch [31/50] Loss: 0.9162\n",
      "Epoch [31/50] Loss: 1.2123\n",
      "Epoch [31/50] Loss: 0.7844\n",
      "Epoch [31/50] Loss: 0.6773\n",
      "Epoch [31/50] Loss: 0.7501\n",
      "Epoch [31/50] Loss: 1.0820\n"
     ]
    },
    {
     "name": "stderr",
     "output_type": "stream",
     "text": [
      "1683it [07:54,  3.54it/s]\n"
     ]
    },
    {
     "name": "stdout",
     "output_type": "stream",
     "text": [
      "Overall Acc: \t 0.595063970743\n",
      "Mean Acc : \t 0.301884970312\n",
      "FreqW Acc : \t 0.431475553106\n",
      "Mean IoU : \t 0.217302210614\n",
      "Epoch [32/50] Loss: 1.0021\n",
      "Epoch [32/50] Loss: 0.9225\n",
      "Epoch [32/50] Loss: 0.7035\n",
      "Epoch [32/50] Loss: 1.1270\n",
      "Epoch [32/50] Loss: 1.0721\n",
      "Epoch [32/50] Loss: 0.6412\n",
      "Epoch [32/50] Loss: 0.9230\n",
      "Epoch [32/50] Loss: 0.7634\n",
      "Epoch [32/50] Loss: 0.8740\n",
      "Epoch [32/50] Loss: 0.5746\n",
      "Epoch [32/50] Loss: 0.7314\n",
      "Epoch [32/50] Loss: 0.9201\n",
      "Epoch [32/50] Loss: 0.6636\n",
      "Epoch [32/50] Loss: 0.9412\n",
      "Epoch [32/50] Loss: 1.2217\n",
      "Epoch [32/50] Loss: 0.8752\n",
      "Epoch [32/50] Loss: 1.4550\n"
     ]
    },
    {
     "name": "stderr",
     "output_type": "stream",
     "text": [
      "1683it [07:53,  3.55it/s]"
     ]
    },
    {
     "name": "stdout",
     "output_type": "stream",
     "text": [
      "Overall Acc: \t 0.600459976604\n",
      "Mean Acc : \t 0.293797460966\n",
      "FreqW Acc : \t 0.435370903893\n",
      "Mean IoU : \t 0.216424090198\n"
     ]
    },
    {
     "name": "stderr",
     "output_type": "stream",
     "text": [
      "\n"
     ]
    },
    {
     "name": "stdout",
     "output_type": "stream",
     "text": [
      "Epoch [33/50] Loss: 1.0203\n",
      "Epoch [33/50] Loss: 1.0754\n",
      "Epoch [33/50] Loss: 0.9012\n",
      "Epoch [33/50] Loss: 0.5872\n",
      "Epoch [33/50] Loss: 1.5877\n",
      "Epoch [33/50] Loss: 0.8969\n",
      "Epoch [33/50] Loss: 0.6971\n",
      "Epoch [33/50] Loss: 0.8218\n",
      "Epoch [33/50] Loss: 0.8561\n",
      "Epoch [33/50] Loss: 0.8213\n",
      "Epoch [33/50] Loss: 0.8089\n",
      "Epoch [33/50] Loss: 0.7293\n",
      "Epoch [33/50] Loss: 0.6254\n",
      "Epoch [33/50] Loss: 0.9194\n",
      "Epoch [33/50] Loss: 0.6269\n",
      "Epoch [33/50] Loss: 0.8876\n",
      "Epoch [33/50] Loss: 0.7659\n"
     ]
    },
    {
     "name": "stderr",
     "output_type": "stream",
     "text": [
      "1683it [07:54,  3.55it/s]\n"
     ]
    },
    {
     "name": "stdout",
     "output_type": "stream",
     "text": [
      "Overall Acc: \t 0.598253329609\n",
      "Mean Acc : \t 0.304816363439\n",
      "FreqW Acc : \t 0.434173161121\n",
      "Mean IoU : \t 0.217979009179\n",
      "Epoch [34/50] Loss: 0.6411\n",
      "Epoch [34/50] Loss: 0.8847\n",
      "Epoch [34/50] Loss: 0.6539\n",
      "Epoch [34/50] Loss: 1.0536\n",
      "Epoch [34/50] Loss: 0.9400\n",
      "Epoch [34/50] Loss: 0.4176\n",
      "Epoch [34/50] Loss: 1.1211\n",
      "Epoch [34/50] Loss: 0.7842\n",
      "Epoch [34/50] Loss: 1.8532\n",
      "Epoch [34/50] Loss: 1.1722\n",
      "Epoch [34/50] Loss: 0.8168\n",
      "Epoch [34/50] Loss: 0.6836\n",
      "Epoch [34/50] Loss: 1.0059\n",
      "Epoch [34/50] Loss: 0.9131\n",
      "Epoch [34/50] Loss: 0.6167\n",
      "Epoch [34/50] Loss: 1.2890\n",
      "Epoch [34/50] Loss: 1.1307\n"
     ]
    },
    {
     "name": "stderr",
     "output_type": "stream",
     "text": [
      "1683it [07:53,  3.55it/s]"
     ]
    },
    {
     "name": "stdout",
     "output_type": "stream",
     "text": [
      "Overall Acc: \t 0.600310707669\n",
      "Mean Acc : \t 0.298681371674\n",
      "FreqW Acc : \t 0.436206885174\n",
      "Mean IoU : \t 0.21716381013\n"
     ]
    },
    {
     "name": "stderr",
     "output_type": "stream",
     "text": [
      "\n"
     ]
    },
    {
     "name": "stdout",
     "output_type": "stream",
     "text": [
      "Epoch [35/50] Loss: 0.7951\n",
      "Epoch [35/50] Loss: 0.5998\n",
      "Epoch [35/50] Loss: 0.7912\n",
      "Epoch [35/50] Loss: 1.0914\n",
      "Epoch [35/50] Loss: 0.9419\n",
      "Epoch [35/50] Loss: 1.0581\n",
      "Epoch [35/50] Loss: 0.8047\n",
      "Epoch [35/50] Loss: 0.8864\n",
      "Epoch [35/50] Loss: 0.6988\n",
      "Epoch [35/50] Loss: 0.7470\n",
      "Epoch [35/50] Loss: 1.3042\n",
      "Epoch [35/50] Loss: 0.6877\n",
      "Epoch [35/50] Loss: 0.6361\n",
      "Epoch [35/50] Loss: 0.9299\n",
      "Epoch [35/50] Loss: 0.8803\n",
      "Epoch [35/50] Loss: 0.6538\n",
      "Epoch [35/50] Loss: 0.7742\n"
     ]
    },
    {
     "name": "stderr",
     "output_type": "stream",
     "text": [
      "1683it [07:55,  3.54it/s]"
     ]
    },
    {
     "name": "stdout",
     "output_type": "stream",
     "text": [
      "Overall Acc: \t 0.595073717026\n",
      "Mean Acc : \t 0.273861168775\n",
      "FreqW Acc : \t 0.431299791123\n",
      "Mean IoU : \t 0.20730509893\n"
     ]
    },
    {
     "name": "stderr",
     "output_type": "stream",
     "text": [
      "\n"
     ]
    },
    {
     "name": "stdout",
     "output_type": "stream",
     "text": [
      "Epoch [36/50] Loss: 0.7980\n",
      "Epoch [36/50] Loss: 1.3672\n",
      "Epoch [36/50] Loss: 0.8219\n",
      "Epoch [36/50] Loss: 0.9933\n",
      "Epoch [36/50] Loss: 0.8390\n",
      "Epoch [36/50] Loss: 0.9365\n",
      "Epoch [36/50] Loss: 0.6197\n",
      "Epoch [36/50] Loss: 0.6600\n",
      "Epoch [36/50] Loss: 0.7884\n",
      "Epoch [36/50] Loss: 0.7490\n",
      "Epoch [36/50] Loss: 0.7105\n",
      "Epoch [36/50] Loss: 0.5863\n",
      "Epoch [36/50] Loss: 0.5680\n",
      "Epoch [36/50] Loss: 0.7500\n",
      "Epoch [36/50] Loss: 0.8463\n",
      "Epoch [36/50] Loss: 0.7422\n",
      "Epoch [36/50] Loss: 0.7888\n"
     ]
    },
    {
     "name": "stderr",
     "output_type": "stream",
     "text": [
      "1683it [07:56,  3.53it/s]"
     ]
    },
    {
     "name": "stdout",
     "output_type": "stream",
     "text": [
      "Overall Acc: \t 0.600059368063\n",
      "Mean Acc : \t 0.294591854778\n",
      "FreqW Acc : \t 0.433089890645\n",
      "Mean IoU : \t 0.217062773093\n"
     ]
    },
    {
     "name": "stderr",
     "output_type": "stream",
     "text": [
      "\n"
     ]
    },
    {
     "name": "stdout",
     "output_type": "stream",
     "text": [
      "Epoch [37/50] Loss: 0.7029\n",
      "Epoch [37/50] Loss: 0.9785\n",
      "Epoch [37/50] Loss: 0.5098\n",
      "Epoch [37/50] Loss: 0.7384\n",
      "Epoch [37/50] Loss: 1.1618\n",
      "Epoch [37/50] Loss: 0.9540\n",
      "Epoch [37/50] Loss: 0.3872\n",
      "Epoch [37/50] Loss: 0.5914\n",
      "Epoch [37/50] Loss: 0.6770\n",
      "Epoch [37/50] Loss: 0.7871\n",
      "Epoch [37/50] Loss: 0.5186\n",
      "Epoch [37/50] Loss: 0.9471\n",
      "Epoch [37/50] Loss: 0.7733\n",
      "Epoch [37/50] Loss: 1.0423\n",
      "Epoch [37/50] Loss: 0.8157\n",
      "Epoch [37/50] Loss: 0.9964\n",
      "Epoch [37/50] Loss: 0.8617\n"
     ]
    },
    {
     "name": "stderr",
     "output_type": "stream",
     "text": [
      "1683it [07:54,  3.55it/s]"
     ]
    },
    {
     "name": "stdout",
     "output_type": "stream",
     "text": [
      "Overall Acc: \t 0.599808528762\n",
      "Mean Acc : \t 0.296665893893\n",
      "FreqW Acc : \t 0.437478379033\n",
      "Mean IoU : \t 0.21705802434\n"
     ]
    },
    {
     "name": "stderr",
     "output_type": "stream",
     "text": [
      "\n"
     ]
    },
    {
     "name": "stdout",
     "output_type": "stream",
     "text": [
      "Epoch [38/50] Loss: 0.4723\n",
      "Epoch [38/50] Loss: 0.8857\n",
      "Epoch [38/50] Loss: 0.6970\n",
      "Epoch [38/50] Loss: 0.6358\n",
      "Epoch [38/50] Loss: 1.0714\n",
      "Epoch [38/50] Loss: 0.7444\n",
      "Epoch [38/50] Loss: 0.7477\n",
      "Epoch [38/50] Loss: 0.6569\n",
      "Epoch [38/50] Loss: 0.9553\n",
      "Epoch [38/50] Loss: 1.6672\n",
      "Epoch [38/50] Loss: 0.8315\n",
      "Epoch [38/50] Loss: 0.8834\n",
      "Epoch [38/50] Loss: 1.0796\n",
      "Epoch [38/50] Loss: 0.6243\n",
      "Epoch [38/50] Loss: 0.9203\n",
      "Epoch [38/50] Loss: 0.9863\n",
      "Epoch [38/50] Loss: 0.6412\n"
     ]
    },
    {
     "name": "stderr",
     "output_type": "stream",
     "text": [
      "1683it [07:54,  3.55it/s]"
     ]
    },
    {
     "name": "stdout",
     "output_type": "stream",
     "text": [
      "Overall Acc: \t 0.592865240306\n",
      "Mean Acc : \t 0.281017236552\n",
      "FreqW Acc : \t 0.428390211171\n",
      "Mean IoU : \t 0.210205219641\n"
     ]
    },
    {
     "name": "stderr",
     "output_type": "stream",
     "text": [
      "\n"
     ]
    },
    {
     "name": "stdout",
     "output_type": "stream",
     "text": [
      "Epoch [39/50] Loss: 1.0456\n",
      "Epoch [39/50] Loss: 0.8965\n",
      "Epoch [39/50] Loss: 1.0320\n",
      "Epoch [39/50] Loss: 0.7872\n",
      "Epoch [39/50] Loss: 0.7388\n",
      "Epoch [39/50] Loss: 1.5156\n",
      "Epoch [39/50] Loss: 0.6608\n",
      "Epoch [39/50] Loss: 0.5943\n",
      "Epoch [39/50] Loss: 0.7314\n",
      "Epoch [39/50] Loss: 0.6848\n",
      "Epoch [39/50] Loss: 0.7516\n",
      "Epoch [39/50] Loss: 0.6508\n",
      "Epoch [39/50] Loss: 0.9844\n",
      "Epoch [39/50] Loss: 0.4261\n",
      "Epoch [39/50] Loss: 0.8143\n",
      "Epoch [39/50] Loss: 0.8571\n",
      "Epoch [39/50] Loss: 0.7030\n"
     ]
    },
    {
     "name": "stderr",
     "output_type": "stream",
     "text": [
      "1683it [07:55,  3.54it/s]\n"
     ]
    },
    {
     "name": "stdout",
     "output_type": "stream",
     "text": [
      "Overall Acc: \t 0.597601554892\n",
      "Mean Acc : \t 0.303415061474\n",
      "FreqW Acc : \t 0.434044715432\n",
      "Mean IoU : \t 0.221088212916\n",
      "Epoch [40/50] Loss: 1.0477\n",
      "Epoch [40/50] Loss: 0.7377\n",
      "Epoch [40/50] Loss: 0.7216\n",
      "Epoch [40/50] Loss: 0.6213\n",
      "Epoch [40/50] Loss: 0.6580\n",
      "Epoch [40/50] Loss: 0.5750\n",
      "Epoch [40/50] Loss: 0.8708\n",
      "Epoch [40/50] Loss: 0.9265\n",
      "Epoch [40/50] Loss: 0.8688\n",
      "Epoch [40/50] Loss: 0.6097\n",
      "Epoch [40/50] Loss: 1.0486\n",
      "Epoch [40/50] Loss: 0.7038\n",
      "Epoch [40/50] Loss: 0.6343\n",
      "Epoch [40/50] Loss: 1.0646\n",
      "Epoch [40/50] Loss: 0.9331\n",
      "Epoch [40/50] Loss: 0.6634\n",
      "Epoch [40/50] Loss: 0.7387\n"
     ]
    },
    {
     "name": "stderr",
     "output_type": "stream",
     "text": [
      "1683it [07:52,  3.56it/s]"
     ]
    },
    {
     "name": "stdout",
     "output_type": "stream",
     "text": [
      "Overall Acc: \t 0.595374409562\n",
      "Mean Acc : \t 0.305984651499\n",
      "FreqW Acc : \t 0.434405968507\n",
      "Mean IoU : \t 0.220605363705\n"
     ]
    },
    {
     "name": "stderr",
     "output_type": "stream",
     "text": [
      "\n"
     ]
    },
    {
     "name": "stdout",
     "output_type": "stream",
     "text": [
      "Epoch [41/50] Loss: 0.7067\n",
      "Epoch [41/50] Loss: 0.7363\n",
      "Epoch [41/50] Loss: 0.9808\n",
      "Epoch [41/50] Loss: 0.7182\n",
      "Epoch [41/50] Loss: 0.5511\n",
      "Epoch [41/50] Loss: 0.9715\n",
      "Epoch [41/50] Loss: 0.7003\n",
      "Epoch [41/50] Loss: 0.9145\n",
      "Epoch [41/50] Loss: 0.6647\n",
      "Epoch [41/50] Loss: 0.6907\n",
      "Epoch [41/50] Loss: 0.7715\n",
      "Epoch [41/50] Loss: 0.8357\n",
      "Epoch [41/50] Loss: 0.6925\n",
      "Epoch [41/50] Loss: 0.7527\n",
      "Epoch [41/50] Loss: 0.6745\n",
      "Epoch [41/50] Loss: 0.6788\n",
      "Epoch [41/50] Loss: 0.8085\n"
     ]
    },
    {
     "name": "stderr",
     "output_type": "stream",
     "text": [
      "1683it [07:55,  3.54it/s]"
     ]
    },
    {
     "name": "stdout",
     "output_type": "stream",
     "text": [
      "Overall Acc: \t 0.59520622122\n",
      "Mean Acc : \t 0.303624815465\n",
      "FreqW Acc : \t 0.430953679209\n",
      "Mean IoU : \t 0.21977152062\n"
     ]
    },
    {
     "name": "stderr",
     "output_type": "stream",
     "text": [
      "\n"
     ]
    },
    {
     "name": "stdout",
     "output_type": "stream",
     "text": [
      "Epoch [42/50] Loss: 0.8430\n",
      "Epoch [42/50] Loss: 0.7985\n",
      "Epoch [42/50] Loss: 0.5501\n",
      "Epoch [42/50] Loss: 0.6104\n",
      "Epoch [42/50] Loss: 0.8940\n",
      "Epoch [42/50] Loss: 0.4358\n",
      "Epoch [42/50] Loss: 0.7854\n",
      "Epoch [42/50] Loss: 1.2185\n",
      "Epoch [42/50] Loss: 0.5335\n",
      "Epoch [42/50] Loss: 0.5677\n",
      "Epoch [42/50] Loss: 0.7657\n",
      "Epoch [42/50] Loss: 0.7858\n",
      "Epoch [42/50] Loss: 0.6482\n",
      "Epoch [42/50] Loss: 0.7459\n",
      "Epoch [42/50] Loss: 0.7063\n",
      "Epoch [42/50] Loss: 0.7076\n",
      "Epoch [42/50] Loss: 0.7409\n"
     ]
    },
    {
     "name": "stderr",
     "output_type": "stream",
     "text": [
      "1683it [07:54,  3.55it/s]"
     ]
    },
    {
     "name": "stdout",
     "output_type": "stream",
     "text": [
      "Overall Acc: \t 0.589595641103\n",
      "Mean Acc : \t 0.306449814298\n",
      "FreqW Acc : \t 0.427500061763\n",
      "Mean IoU : \t 0.218771539559\n"
     ]
    },
    {
     "name": "stderr",
     "output_type": "stream",
     "text": [
      "\n"
     ]
    },
    {
     "name": "stdout",
     "output_type": "stream",
     "text": [
      "Epoch [43/50] Loss: 0.8083\n",
      "Epoch [43/50] Loss: 0.5062\n",
      "Epoch [43/50] Loss: 0.7095\n",
      "Epoch [43/50] Loss: 0.9775\n",
      "Epoch [43/50] Loss: 0.7277\n",
      "Epoch [43/50] Loss: 0.9019\n",
      "Epoch [43/50] Loss: 0.7739\n",
      "Epoch [43/50] Loss: 0.8882\n",
      "Epoch [43/50] Loss: 1.1689\n",
      "Epoch [43/50] Loss: 0.6589\n",
      "Epoch [43/50] Loss: 0.7428\n",
      "Epoch [43/50] Loss: 0.6501\n",
      "Epoch [43/50] Loss: 0.9643\n",
      "Epoch [43/50] Loss: 0.9165\n",
      "Epoch [43/50] Loss: 0.9628\n",
      "Epoch [43/50] Loss: 0.7473\n",
      "Epoch [43/50] Loss: 0.6052\n"
     ]
    },
    {
     "name": "stderr",
     "output_type": "stream",
     "text": [
      "1683it [07:56,  3.53it/s]"
     ]
    },
    {
     "name": "stdout",
     "output_type": "stream",
     "text": [
      "Overall Acc: \t 0.593918041991\n",
      "Mean Acc : \t 0.298019778168\n",
      "FreqW Acc : \t 0.428435263914\n",
      "Mean IoU : \t 0.217583765804\n"
     ]
    },
    {
     "name": "stderr",
     "output_type": "stream",
     "text": [
      "\n"
     ]
    },
    {
     "name": "stdout",
     "output_type": "stream",
     "text": [
      "Epoch [44/50] Loss: 0.8181\n",
      "Epoch [44/50] Loss: 0.8261\n",
      "Epoch [44/50] Loss: 0.8158\n",
      "Epoch [44/50] Loss: 0.5218\n",
      "Epoch [44/50] Loss: 1.1116\n",
      "Epoch [44/50] Loss: 0.4425\n",
      "Epoch [44/50] Loss: 0.7401\n",
      "Epoch [44/50] Loss: 0.8390\n",
      "Epoch [44/50] Loss: 0.7106\n",
      "Epoch [44/50] Loss: 0.5607\n",
      "Epoch [44/50] Loss: 0.7519\n",
      "Epoch [44/50] Loss: 0.8433\n",
      "Epoch [44/50] Loss: 0.5856\n",
      "Epoch [44/50] Loss: 1.0283\n",
      "Epoch [44/50] Loss: 1.1118\n",
      "Epoch [44/50] Loss: 0.5975\n",
      "Epoch [44/50] Loss: 0.8897\n"
     ]
    },
    {
     "name": "stderr",
     "output_type": "stream",
     "text": [
      "1683it [07:54,  3.55it/s]"
     ]
    },
    {
     "name": "stdout",
     "output_type": "stream",
     "text": [
      "Overall Acc: \t 0.595753080746\n",
      "Mean Acc : \t 0.295764311267\n",
      "FreqW Acc : \t 0.431773814013\n",
      "Mean IoU : \t 0.21766334555\n"
     ]
    },
    {
     "name": "stderr",
     "output_type": "stream",
     "text": [
      "\n"
     ]
    },
    {
     "name": "stdout",
     "output_type": "stream",
     "text": [
      "Epoch [45/50] Loss: 0.6160\n",
      "Epoch [45/50] Loss: 0.4755\n",
      "Epoch [45/50] Loss: 0.7291\n",
      "Epoch [45/50] Loss: 0.4907\n",
      "Epoch [45/50] Loss: 0.4594\n",
      "Epoch [45/50] Loss: 1.1309\n",
      "Epoch [45/50] Loss: 0.6561\n",
      "Epoch [45/50] Loss: 0.7937\n",
      "Epoch [45/50] Loss: 0.5226\n",
      "Epoch [45/50] Loss: 0.8929\n",
      "Epoch [45/50] Loss: 0.6775\n",
      "Epoch [45/50] Loss: 0.5724\n",
      "Epoch [45/50] Loss: 0.7709\n",
      "Epoch [45/50] Loss: 0.6082\n",
      "Epoch [45/50] Loss: 0.6445\n",
      "Epoch [45/50] Loss: 0.7213\n",
      "Epoch [45/50] Loss: 0.6864\n"
     ]
    },
    {
     "name": "stderr",
     "output_type": "stream",
     "text": [
      "1683it [07:54,  3.55it/s]"
     ]
    },
    {
     "name": "stdout",
     "output_type": "stream",
     "text": [
      "Overall Acc: \t 0.593881584173\n",
      "Mean Acc : \t 0.292760391475\n",
      "FreqW Acc : \t 0.432075636938\n",
      "Mean IoU : \t 0.216253187282\n"
     ]
    },
    {
     "name": "stderr",
     "output_type": "stream",
     "text": [
      "\n"
     ]
    },
    {
     "name": "stdout",
     "output_type": "stream",
     "text": [
      "Epoch [46/50] Loss: 0.5820\n",
      "Epoch [46/50] Loss: 0.8187\n",
      "Epoch [46/50] Loss: 0.6395\n",
      "Epoch [46/50] Loss: 0.4372\n",
      "Epoch [46/50] Loss: 0.7055\n",
      "Epoch [46/50] Loss: 0.5267\n",
      "Epoch [46/50] Loss: 0.7103\n",
      "Epoch [46/50] Loss: 0.4759\n",
      "Epoch [46/50] Loss: 0.7799\n",
      "Epoch [46/50] Loss: 0.8443\n",
      "Epoch [46/50] Loss: 0.6688\n",
      "Epoch [46/50] Loss: 0.7726\n",
      "Epoch [46/50] Loss: 0.8176\n",
      "Epoch [46/50] Loss: 0.6301\n",
      "Epoch [46/50] Loss: 0.6387\n",
      "Epoch [46/50] Loss: 0.7285\n",
      "Epoch [46/50] Loss: 0.5932\n"
     ]
    },
    {
     "name": "stderr",
     "output_type": "stream",
     "text": [
      "1683it [07:41,  3.64it/s]\n"
     ]
    },
    {
     "name": "stdout",
     "output_type": "stream",
     "text": [
      "Overall Acc: \t 0.591965004673\n",
      "Mean Acc : \t 0.311207432811\n",
      "FreqW Acc : \t 0.429989981118\n",
      "Mean IoU : \t 0.222981182262\n",
      "Epoch [47/50] Loss: 0.7798\n",
      "Epoch [47/50] Loss: 0.6806\n",
      "Epoch [47/50] Loss: 0.5024\n",
      "Epoch [47/50] Loss: 0.6721\n",
      "Epoch [47/50] Loss: 0.6786\n",
      "Epoch [47/50] Loss: 0.5416\n",
      "Epoch [47/50] Loss: 0.6567\n",
      "Epoch [47/50] Loss: 0.5201\n",
      "Epoch [47/50] Loss: 0.6725\n",
      "Epoch [47/50] Loss: 0.9422\n",
      "Epoch [47/50] Loss: 0.7742\n",
      "Epoch [47/50] Loss: 0.9245\n",
      "Epoch [47/50] Loss: 0.9942\n",
      "Epoch [47/50] Loss: 0.6883\n",
      "Epoch [47/50] Loss: 0.6278\n",
      "Epoch [47/50] Loss: 0.5883\n",
      "Epoch [47/50] Loss: 0.8579\n"
     ]
    },
    {
     "name": "stderr",
     "output_type": "stream",
     "text": [
      "1683it [07:56,  3.54it/s]\n"
     ]
    },
    {
     "name": "stdout",
     "output_type": "stream",
     "text": [
      "Overall Acc: \t 0.593587495539\n",
      "Mean Acc : \t 0.313709852228\n",
      "FreqW Acc : \t 0.432830433659\n",
      "Mean IoU : \t 0.224675886398\n",
      "Epoch [48/50] Loss: 0.6684\n",
      "Epoch [48/50] Loss: 0.7064\n",
      "Epoch [48/50] Loss: 0.5033\n",
      "Epoch [48/50] Loss: 0.9206\n",
      "Epoch [48/50] Loss: 0.5271\n",
      "Epoch [48/50] Loss: 1.0288\n",
      "Epoch [48/50] Loss: 0.7628\n",
      "Epoch [48/50] Loss: 0.8063\n",
      "Epoch [48/50] Loss: 0.6879\n",
      "Epoch [48/50] Loss: 0.6798\n",
      "Epoch [48/50] Loss: 0.6157\n",
      "Epoch [48/50] Loss: 0.4632\n",
      "Epoch [48/50] Loss: 0.5802\n",
      "Epoch [48/50] Loss: 0.9510\n",
      "Epoch [48/50] Loss: 0.5377\n",
      "Epoch [48/50] Loss: 1.0429\n",
      "Epoch [48/50] Loss: 0.7109\n"
     ]
    },
    {
     "name": "stderr",
     "output_type": "stream",
     "text": [
      "1683it [08:00,  3.51it/s]"
     ]
    },
    {
     "name": "stdout",
     "output_type": "stream",
     "text": [
      "Overall Acc: \t 0.592990311484\n",
      "Mean Acc : \t 0.310785732567\n",
      "FreqW Acc : \t 0.431433833872\n",
      "Mean IoU : \t 0.223020525746\n"
     ]
    },
    {
     "name": "stderr",
     "output_type": "stream",
     "text": [
      "\n"
     ]
    },
    {
     "name": "stdout",
     "output_type": "stream",
     "text": [
      "Epoch [49/50] Loss: 0.7744\n",
      "Epoch [49/50] Loss: 0.7348\n",
      "Epoch [49/50] Loss: 0.6352\n",
      "Epoch [49/50] Loss: 0.7003\n",
      "Epoch [49/50] Loss: 0.4861\n",
      "Epoch [49/50] Loss: 0.5689\n",
      "Epoch [49/50] Loss: 0.6712\n",
      "Epoch [49/50] Loss: 0.5125\n",
      "Epoch [49/50] Loss: 0.7949\n",
      "Epoch [49/50] Loss: 0.6377\n",
      "Epoch [49/50] Loss: 0.7711\n",
      "Epoch [49/50] Loss: 0.7102\n",
      "Epoch [49/50] Loss: 0.6496\n",
      "Epoch [49/50] Loss: 0.7029\n",
      "Epoch [49/50] Loss: 0.7979\n",
      "Epoch [49/50] Loss: 0.6625\n",
      "Epoch [49/50] Loss: 0.5575\n"
     ]
    },
    {
     "name": "stderr",
     "output_type": "stream",
     "text": [
      "1683it [07:58,  3.52it/s]"
     ]
    },
    {
     "name": "stdout",
     "output_type": "stream",
     "text": [
      "Overall Acc: \t 0.592820559687\n",
      "Mean Acc : \t 0.305595462293\n",
      "FreqW Acc : \t 0.430447320882\n",
      "Mean IoU : \t 0.22117403307\n"
     ]
    },
    {
     "name": "stderr",
     "output_type": "stream",
     "text": [
      "\n"
     ]
    },
    {
     "name": "stdout",
     "output_type": "stream",
     "text": [
      "Epoch [50/50] Loss: 0.5172\n",
      "Epoch [50/50] Loss: 0.7992\n",
      "Epoch [50/50] Loss: 0.5003\n",
      "Epoch [50/50] Loss: 0.7198\n",
      "Epoch [50/50] Loss: 0.4192\n",
      "Epoch [50/50] Loss: 0.7123\n",
      "Epoch [50/50] Loss: 0.6464\n",
      "Epoch [50/50] Loss: 0.5528\n",
      "Epoch [50/50] Loss: 1.0350\n",
      "Epoch [50/50] Loss: 0.7634\n",
      "Epoch [50/50] Loss: 0.6942\n",
      "Epoch [50/50] Loss: 0.9366\n",
      "Epoch [50/50] Loss: 0.6750\n",
      "Epoch [50/50] Loss: 0.7714\n",
      "Epoch [50/50] Loss: 0.7622\n",
      "Epoch [50/50] Loss: 0.9131\n",
      "Epoch [50/50] Loss: 0.6371\n"
     ]
    },
    {
     "name": "stderr",
     "output_type": "stream",
     "text": [
      "1683it [07:56,  3.53it/s]"
     ]
    },
    {
     "name": "stdout",
     "output_type": "stream",
     "text": [
      "Overall Acc: \t 0.585150344334\n",
      "Mean Acc : \t 0.305717746763\n",
      "FreqW Acc : \t 0.426388034887\n",
      "Mean IoU : \t 0.220315082262\n"
     ]
    },
    {
     "name": "stderr",
     "output_type": "stream",
     "text": [
      "\n"
     ]
    }
   ],
   "source": [
    "from utils import *\n",
    "\n",
    "arg_str = '--gpu_idx 2 ' \\\n",
    "          '--arch FCN_RGBD_Hybrid ' \\\n",
    "          '--input_type RGBD ' \\\n",
    "          '--dataset SUNRGBD ' \\\n",
    "          '--batch_size 3 ' \\\n",
    "          '--n_epoch 50'\n",
    "\n",
    "trainer = trainer(arg_str)\n",
    "trainer.model_init()\n",
    "trainer.training()"
   ]
  },
  {
   "cell_type": "code",
   "execution_count": null,
   "metadata": {},
   "outputs": [],
   "source": []
  }
 ],
 "metadata": {
  "kernelspec": {
   "display_name": "Python [conda env:pytorch]",
   "language": "python",
   "name": "conda-env-pytorch-py"
  },
  "language_info": {
   "codemirror_mode": {
    "name": "ipython",
    "version": 3
   },
   "file_extension": ".py",
   "mimetype": "text/x-python",
   "name": "python",
   "nbconvert_exporter": "python",
   "pygments_lexer": "ipython3",
   "version": "3.6.3"
  }
 },
 "nbformat": 4,
 "nbformat_minor": 2
}
