{
 "cells": [
  {
   "cell_type": "code",
   "execution_count": 1,
   "metadata": {},
   "outputs": [
    {
     "name": "stderr",
     "output_type": "stream",
     "text": [
      "/home/dongwonshin/.conda/envs/pytorch/lib/python3.6/site-packages/torch/nn/functional.py:1462: UserWarning: nn.functional.upsample_bilinear is deprecated. Use nn.functional.upsample instead.\n",
      "  warnings.warn(\"nn.functional.upsample_bilinear is deprecated. Use nn.functional.upsample instead.\")\n"
     ]
    },
    {
     "name": "stdout",
     "output_type": "stream",
     "text": [
      "Epoch [1/50] Loss: 2.4658\n",
      "Epoch [1/50] Loss: 2.5080\n",
      "Epoch [1/50] Loss: 2.1659\n",
      "Epoch [1/50] Loss: 1.6064\n",
      "Epoch [1/50] Loss: 1.9754\n",
      "Epoch [1/50] Loss: 1.9889\n",
      "Epoch [1/50] Loss: 2.0293\n",
      "Epoch [1/50] Loss: 1.3963\n",
      "Epoch [1/50] Loss: 2.2985\n",
      "Epoch [1/50] Loss: 1.7265\n",
      "Epoch [1/50] Loss: 2.0434\n",
      "Epoch [1/50] Loss: 1.2566\n",
      "Epoch [1/50] Loss: 1.6866\n",
      "Epoch [1/50] Loss: 1.8881\n",
      "Epoch [1/50] Loss: 1.5060\n",
      "Epoch [1/50] Loss: 1.9546\n",
      "Epoch [1/50] Loss: 2.2646\n"
     ]
    },
    {
     "name": "stderr",
     "output_type": "stream",
     "text": [
      "1683it [09:09,  3.06it/s]\n"
     ]
    },
    {
     "name": "stdout",
     "output_type": "stream",
     "text": [
      "Overall Acc: \t 0.508975012327\n",
      "Mean Acc : \t 0.107331986863\n",
      "FreqW Acc : \t 0.325848963516\n",
      "Mean IoU : \t 0.0725043022384\n",
      "Epoch [2/50] Loss: 1.8101\n",
      "Epoch [2/50] Loss: 1.7410\n",
      "Epoch [2/50] Loss: 1.1128\n",
      "Epoch [2/50] Loss: 1.9175\n",
      "Epoch [2/50] Loss: 1.1654\n",
      "Epoch [2/50] Loss: 1.3899\n",
      "Epoch [2/50] Loss: 2.8041\n",
      "Epoch [2/50] Loss: 1.6989\n",
      "Epoch [2/50] Loss: 1.7109\n",
      "Epoch [2/50] Loss: 1.6790\n",
      "Epoch [2/50] Loss: 1.5317\n",
      "Epoch [2/50] Loss: 1.4279\n",
      "Epoch [2/50] Loss: 1.2715\n",
      "Epoch [2/50] Loss: 1.1887\n",
      "Epoch [2/50] Loss: 1.4255\n",
      "Epoch [2/50] Loss: 1.4384\n",
      "Epoch [2/50] Loss: 1.4261\n"
     ]
    },
    {
     "name": "stderr",
     "output_type": "stream",
     "text": [
      "1683it [09:11,  3.05it/s]\n"
     ]
    },
    {
     "name": "stdout",
     "output_type": "stream",
     "text": [
      "Overall Acc: \t 0.536770472933\n",
      "Mean Acc : \t 0.120259306359\n",
      "FreqW Acc : \t 0.357155895316\n",
      "Mean IoU : \t 0.0874710739501\n",
      "Epoch [3/50] Loss: 1.5870\n",
      "Epoch [3/50] Loss: 1.0004\n",
      "Epoch [3/50] Loss: 1.6434\n",
      "Epoch [3/50] Loss: 1.2948\n",
      "Epoch [3/50] Loss: 1.4744\n",
      "Epoch [3/50] Loss: 2.0172\n",
      "Epoch [3/50] Loss: 2.1615\n",
      "Epoch [3/50] Loss: 1.4784\n",
      "Epoch [3/50] Loss: 1.7672\n",
      "Epoch [3/50] Loss: 2.4395\n",
      "Epoch [3/50] Loss: 1.2724\n",
      "Epoch [3/50] Loss: 1.5582\n",
      "Epoch [3/50] Loss: 1.2779\n",
      "Epoch [3/50] Loss: 1.6000\n",
      "Epoch [3/50] Loss: 1.5939\n",
      "Epoch [3/50] Loss: 1.2250\n",
      "Epoch [3/50] Loss: 1.8818\n"
     ]
    },
    {
     "name": "stderr",
     "output_type": "stream",
     "text": [
      "1683it [09:13,  3.04it/s]\n"
     ]
    },
    {
     "name": "stdout",
     "output_type": "stream",
     "text": [
      "Overall Acc: \t 0.54955226089\n",
      "Mean Acc : \t 0.137146112146\n",
      "FreqW Acc : \t 0.371287003479\n",
      "Mean IoU : \t 0.0994031240779\n",
      "Epoch [4/50] Loss: 1.1957\n",
      "Epoch [4/50] Loss: 1.2758\n",
      "Epoch [4/50] Loss: 1.6681\n",
      "Epoch [4/50] Loss: 1.3735\n",
      "Epoch [4/50] Loss: 1.6559\n",
      "Epoch [4/50] Loss: 1.5489\n",
      "Epoch [4/50] Loss: 1.2790\n",
      "Epoch [4/50] Loss: 1.5150\n",
      "Epoch [4/50] Loss: 1.1945\n",
      "Epoch [4/50] Loss: 1.7578\n",
      "Epoch [4/50] Loss: 1.2531\n",
      "Epoch [4/50] Loss: 1.8841\n",
      "Epoch [4/50] Loss: 1.4210\n",
      "Epoch [4/50] Loss: 1.4311\n",
      "Epoch [4/50] Loss: 1.1549\n",
      "Epoch [4/50] Loss: 1.1862\n",
      "Epoch [4/50] Loss: 1.5806\n"
     ]
    },
    {
     "name": "stderr",
     "output_type": "stream",
     "text": [
      "1683it [09:11,  3.05it/s]\n"
     ]
    },
    {
     "name": "stdout",
     "output_type": "stream",
     "text": [
      "Overall Acc: \t 0.556836676998\n",
      "Mean Acc : \t 0.157463593791\n",
      "FreqW Acc : \t 0.378644320627\n",
      "Mean IoU : \t 0.116073067456\n",
      "Epoch [5/50] Loss: 1.4578\n",
      "Epoch [5/50] Loss: 1.7489\n",
      "Epoch [5/50] Loss: 1.1291\n",
      "Epoch [5/50] Loss: 1.2771\n",
      "Epoch [5/50] Loss: 1.6224\n",
      "Epoch [5/50] Loss: 0.9072\n",
      "Epoch [5/50] Loss: 1.3589\n",
      "Epoch [5/50] Loss: 1.3005\n",
      "Epoch [5/50] Loss: 1.1088\n",
      "Epoch [5/50] Loss: 1.2536\n",
      "Epoch [5/50] Loss: 1.0171\n",
      "Epoch [5/50] Loss: 0.9579\n",
      "Epoch [5/50] Loss: 1.2140\n",
      "Epoch [5/50] Loss: 1.3705\n",
      "Epoch [5/50] Loss: 1.1465\n",
      "Epoch [5/50] Loss: 0.9976\n",
      "Epoch [5/50] Loss: 2.1709\n"
     ]
    },
    {
     "name": "stderr",
     "output_type": "stream",
     "text": [
      "1683it [09:12,  3.05it/s]\n"
     ]
    },
    {
     "name": "stdout",
     "output_type": "stream",
     "text": [
      "Overall Acc: \t 0.564475807013\n",
      "Mean Acc : \t 0.16620512533\n",
      "FreqW Acc : \t 0.391067908465\n",
      "Mean IoU : \t 0.12725037933\n",
      "Epoch [6/50] Loss: 1.2105\n",
      "Epoch [6/50] Loss: 1.6917\n",
      "Epoch [6/50] Loss: 1.2909\n",
      "Epoch [6/50] Loss: 1.7699\n",
      "Epoch [6/50] Loss: 1.4751\n",
      "Epoch [6/50] Loss: 1.2448\n",
      "Epoch [6/50] Loss: 1.7474\n",
      "Epoch [6/50] Loss: 1.1063\n",
      "Epoch [6/50] Loss: 1.1773\n",
      "Epoch [6/50] Loss: 1.4361\n",
      "Epoch [6/50] Loss: 1.5861\n",
      "Epoch [6/50] Loss: 1.1553\n",
      "Epoch [6/50] Loss: 1.5566\n",
      "Epoch [6/50] Loss: 1.3733\n",
      "Epoch [6/50] Loss: 1.3090\n",
      "Epoch [6/50] Loss: 1.2740\n",
      "Epoch [6/50] Loss: 1.3549\n"
     ]
    },
    {
     "name": "stderr",
     "output_type": "stream",
     "text": [
      "1683it [09:13,  3.04it/s]\n"
     ]
    },
    {
     "name": "stdout",
     "output_type": "stream",
     "text": [
      "Overall Acc: \t 0.575027007462\n",
      "Mean Acc : \t 0.179659893994\n",
      "FreqW Acc : \t 0.398747836612\n",
      "Mean IoU : \t 0.135670054882\n",
      "Epoch [7/50] Loss: 0.9221\n",
      "Epoch [7/50] Loss: 0.8075\n",
      "Epoch [7/50] Loss: 1.4976\n",
      "Epoch [7/50] Loss: 1.1321\n",
      "Epoch [7/50] Loss: 1.1247\n",
      "Epoch [7/50] Loss: 1.1184\n",
      "Epoch [7/50] Loss: 1.0917\n",
      "Epoch [7/50] Loss: 0.8522\n",
      "Epoch [7/50] Loss: 0.9238\n",
      "Epoch [7/50] Loss: 0.9020\n",
      "Epoch [7/50] Loss: 1.1898\n",
      "Epoch [7/50] Loss: 0.9958\n",
      "Epoch [7/50] Loss: 1.4021\n",
      "Epoch [7/50] Loss: 1.5586\n",
      "Epoch [7/50] Loss: 1.3865\n",
      "Epoch [7/50] Loss: 0.9113\n",
      "Epoch [7/50] Loss: 1.0588\n"
     ]
    },
    {
     "name": "stderr",
     "output_type": "stream",
     "text": [
      "1683it [09:11,  3.05it/s]\n"
     ]
    },
    {
     "name": "stdout",
     "output_type": "stream",
     "text": [
      "Overall Acc: \t 0.572760690029\n",
      "Mean Acc : \t 0.190070732123\n",
      "FreqW Acc : \t 0.403945367533\n",
      "Mean IoU : \t 0.144990576783\n",
      "Epoch [8/50] Loss: 1.2320\n",
      "Epoch [8/50] Loss: 1.5525\n",
      "Epoch [8/50] Loss: 0.9962\n",
      "Epoch [8/50] Loss: 1.9663\n",
      "Epoch [8/50] Loss: 1.7350\n",
      "Epoch [8/50] Loss: 1.0329\n",
      "Epoch [8/50] Loss: 1.3393\n",
      "Epoch [8/50] Loss: 1.0931\n",
      "Epoch [8/50] Loss: 1.3108\n",
      "Epoch [8/50] Loss: 1.2520\n",
      "Epoch [8/50] Loss: 1.9219\n",
      "Epoch [8/50] Loss: 1.3077\n",
      "Epoch [8/50] Loss: 1.7328\n",
      "Epoch [8/50] Loss: 1.1998\n",
      "Epoch [8/50] Loss: 1.2090\n",
      "Epoch [8/50] Loss: 1.6929\n",
      "Epoch [8/50] Loss: 1.0147\n"
     ]
    },
    {
     "name": "stderr",
     "output_type": "stream",
     "text": [
      "1683it [09:11,  3.05it/s]\n"
     ]
    },
    {
     "name": "stdout",
     "output_type": "stream",
     "text": [
      "Overall Acc: \t 0.577399351589\n",
      "Mean Acc : \t 0.206074152558\n",
      "FreqW Acc : \t 0.410208655989\n",
      "Mean IoU : \t 0.154295248483\n",
      "Epoch [9/50] Loss: 1.2444\n",
      "Epoch [9/50] Loss: 1.9588\n",
      "Epoch [9/50] Loss: 1.1597\n",
      "Epoch [9/50] Loss: 1.7314\n",
      "Epoch [9/50] Loss: 0.9821\n",
      "Epoch [9/50] Loss: 1.1350\n",
      "Epoch [9/50] Loss: 1.2342\n",
      "Epoch [9/50] Loss: 0.6229\n",
      "Epoch [9/50] Loss: 0.6788\n",
      "Epoch [9/50] Loss: 0.9759\n",
      "Epoch [9/50] Loss: 1.7279\n",
      "Epoch [9/50] Loss: 0.8743\n",
      "Epoch [9/50] Loss: 1.3564\n",
      "Epoch [9/50] Loss: 1.3151\n",
      "Epoch [9/50] Loss: 1.2882\n",
      "Epoch [9/50] Loss: 0.9699\n",
      "Epoch [9/50] Loss: 1.0985\n"
     ]
    },
    {
     "name": "stderr",
     "output_type": "stream",
     "text": [
      "1683it [09:09,  3.06it/s]\n"
     ]
    },
    {
     "name": "stdout",
     "output_type": "stream",
     "text": [
      "Overall Acc: \t 0.581083847049\n",
      "Mean Acc : \t 0.203822928876\n",
      "FreqW Acc : \t 0.413058943228\n",
      "Mean IoU : \t 0.154523808498\n",
      "Epoch [10/50] Loss: 1.4920\n",
      "Epoch [10/50] Loss: 1.7866\n",
      "Epoch [10/50] Loss: 1.2410\n",
      "Epoch [10/50] Loss: 0.9742\n",
      "Epoch [10/50] Loss: 1.1990\n",
      "Epoch [10/50] Loss: 0.9375\n",
      "Epoch [10/50] Loss: 0.8732\n",
      "Epoch [10/50] Loss: 1.0096\n",
      "Epoch [10/50] Loss: 1.4881\n",
      "Epoch [10/50] Loss: 1.4394\n",
      "Epoch [10/50] Loss: 1.6288\n",
      "Epoch [10/50] Loss: 0.9145\n",
      "Epoch [10/50] Loss: 1.3337\n",
      "Epoch [10/50] Loss: 0.8306\n",
      "Epoch [10/50] Loss: 2.0119\n",
      "Epoch [10/50] Loss: 2.1934\n",
      "Epoch [10/50] Loss: 0.7890\n"
     ]
    },
    {
     "name": "stderr",
     "output_type": "stream",
     "text": [
      "1683it [09:12,  3.05it/s]\n"
     ]
    },
    {
     "name": "stdout",
     "output_type": "stream",
     "text": [
      "Overall Acc: \t 0.578526394459\n",
      "Mean Acc : \t 0.214734499994\n",
      "FreqW Acc : \t 0.410155973741\n",
      "Mean IoU : \t 0.160832706529\n",
      "Epoch [11/50] Loss: 1.0929\n",
      "Epoch [11/50] Loss: 0.9560\n",
      "Epoch [11/50] Loss: 1.4649\n",
      "Epoch [11/50] Loss: 1.2819\n",
      "Epoch [11/50] Loss: 0.7090\n",
      "Epoch [11/50] Loss: 1.3888\n",
      "Epoch [11/50] Loss: 1.1243\n",
      "Epoch [11/50] Loss: 1.1457\n",
      "Epoch [11/50] Loss: 0.9289\n",
      "Epoch [11/50] Loss: 1.1197\n",
      "Epoch [11/50] Loss: 1.2624\n",
      "Epoch [11/50] Loss: 0.8969\n",
      "Epoch [11/50] Loss: 0.6774\n",
      "Epoch [11/50] Loss: 1.4358\n",
      "Epoch [11/50] Loss: 1.2355\n",
      "Epoch [11/50] Loss: 1.6818\n",
      "Epoch [11/50] Loss: 1.0058\n"
     ]
    },
    {
     "name": "stderr",
     "output_type": "stream",
     "text": [
      "1683it [09:10,  3.06it/s]\n"
     ]
    },
    {
     "name": "stdout",
     "output_type": "stream",
     "text": [
      "Overall Acc: \t 0.580078442849\n",
      "Mean Acc : \t 0.21757663264\n",
      "FreqW Acc : \t 0.412849668078\n",
      "Mean IoU : \t 0.163709894865\n",
      "Epoch [12/50] Loss: 1.2846\n",
      "Epoch [12/50] Loss: 0.8061\n",
      "Epoch [12/50] Loss: 0.9884\n",
      "Epoch [12/50] Loss: 1.4533\n",
      "Epoch [12/50] Loss: 1.2022\n",
      "Epoch [12/50] Loss: 1.0547\n",
      "Epoch [12/50] Loss: 1.8679\n",
      "Epoch [12/50] Loss: 1.1724\n",
      "Epoch [12/50] Loss: 1.7336\n",
      "Epoch [12/50] Loss: 0.8588\n",
      "Epoch [12/50] Loss: 0.9104\n",
      "Epoch [12/50] Loss: 0.8188\n",
      "Epoch [12/50] Loss: 0.9002\n",
      "Epoch [12/50] Loss: 0.9000\n",
      "Epoch [12/50] Loss: 1.0338\n",
      "Epoch [12/50] Loss: 1.3221\n",
      "Epoch [12/50] Loss: 1.0492\n"
     ]
    },
    {
     "name": "stderr",
     "output_type": "stream",
     "text": [
      "1683it [09:13,  3.04it/s]\n"
     ]
    },
    {
     "name": "stdout",
     "output_type": "stream",
     "text": [
      "Overall Acc: \t 0.588930388443\n",
      "Mean Acc : \t 0.23030536446\n",
      "FreqW Acc : \t 0.419475275222\n",
      "Mean IoU : \t 0.170336618722\n",
      "Epoch [13/50] Loss: 1.3811\n",
      "Epoch [13/50] Loss: 0.9961\n",
      "Epoch [13/50] Loss: 1.4261\n",
      "Epoch [13/50] Loss: 1.6958\n",
      "Epoch [13/50] Loss: 1.1199\n",
      "Epoch [13/50] Loss: 1.3485\n",
      "Epoch [13/50] Loss: 0.8392\n",
      "Epoch [13/50] Loss: 1.7359\n",
      "Epoch [13/50] Loss: 0.9503\n",
      "Epoch [13/50] Loss: 0.8085\n",
      "Epoch [13/50] Loss: 1.1568\n",
      "Epoch [13/50] Loss: 0.8588\n",
      "Epoch [13/50] Loss: 1.2405\n",
      "Epoch [13/50] Loss: 1.5134\n",
      "Epoch [13/50] Loss: 1.0062\n",
      "Epoch [13/50] Loss: 1.0161\n",
      "Epoch [13/50] Loss: 1.4712\n"
     ]
    },
    {
     "name": "stderr",
     "output_type": "stream",
     "text": [
      "1683it [09:11,  3.05it/s]\n"
     ]
    },
    {
     "name": "stdout",
     "output_type": "stream",
     "text": [
      "Overall Acc: \t 0.589888722034\n",
      "Mean Acc : \t 0.240002971692\n",
      "FreqW Acc : \t 0.423168407816\n",
      "Mean IoU : \t 0.177511385148\n",
      "Epoch [14/50] Loss: 1.0434\n",
      "Epoch [14/50] Loss: 0.7378\n",
      "Epoch [14/50] Loss: 0.7261\n",
      "Epoch [14/50] Loss: 0.6196\n",
      "Epoch [14/50] Loss: 1.2884\n",
      "Epoch [14/50] Loss: 1.0358\n",
      "Epoch [14/50] Loss: 1.0253\n",
      "Epoch [14/50] Loss: 1.3077\n",
      "Epoch [14/50] Loss: 1.3187\n",
      "Epoch [14/50] Loss: 1.3029\n",
      "Epoch [14/50] Loss: 1.1788\n",
      "Epoch [14/50] Loss: 0.9896\n",
      "Epoch [14/50] Loss: 0.8678\n",
      "Epoch [14/50] Loss: 0.9120\n",
      "Epoch [14/50] Loss: 1.0211\n",
      "Epoch [14/50] Loss: 1.1012\n",
      "Epoch [14/50] Loss: 1.1663\n"
     ]
    },
    {
     "name": "stderr",
     "output_type": "stream",
     "text": [
      "1683it [09:10,  3.06it/s]\n"
     ]
    },
    {
     "name": "stdout",
     "output_type": "stream",
     "text": [
      "Overall Acc: \t 0.587455377406\n",
      "Mean Acc : \t 0.244987667418\n",
      "FreqW Acc : \t 0.419489554749\n",
      "Mean IoU : \t 0.178758873914\n",
      "Epoch [15/50] Loss: 1.7714\n",
      "Epoch [15/50] Loss: 1.4189\n",
      "Epoch [15/50] Loss: 1.0862\n",
      "Epoch [15/50] Loss: 0.6603\n",
      "Epoch [15/50] Loss: 1.3775\n",
      "Epoch [15/50] Loss: 0.7886\n",
      "Epoch [15/50] Loss: 1.1009\n",
      "Epoch [15/50] Loss: 0.8607\n",
      "Epoch [15/50] Loss: 0.9737\n",
      "Epoch [15/50] Loss: 0.9434\n",
      "Epoch [15/50] Loss: 1.2996\n",
      "Epoch [15/50] Loss: 1.2192\n",
      "Epoch [15/50] Loss: 1.2957\n",
      "Epoch [15/50] Loss: 1.3307\n",
      "Epoch [15/50] Loss: 0.9769\n",
      "Epoch [15/50] Loss: 0.8035\n",
      "Epoch [15/50] Loss: 0.9327\n"
     ]
    },
    {
     "name": "stderr",
     "output_type": "stream",
     "text": [
      "1683it [09:12,  3.05it/s]\n"
     ]
    },
    {
     "name": "stdout",
     "output_type": "stream",
     "text": [
      "Overall Acc: \t 0.590018424905\n",
      "Mean Acc : \t 0.245987843595\n",
      "FreqW Acc : \t 0.419728018569\n",
      "Mean IoU : \t 0.181357520529\n",
      "Epoch [16/50] Loss: 1.1167\n",
      "Epoch [16/50] Loss: 0.8906\n",
      "Epoch [16/50] Loss: 1.2857\n",
      "Epoch [16/50] Loss: 1.1072\n",
      "Epoch [16/50] Loss: 0.9135\n",
      "Epoch [16/50] Loss: 0.8426\n",
      "Epoch [16/50] Loss: 1.1218\n",
      "Epoch [16/50] Loss: 1.1546\n",
      "Epoch [16/50] Loss: 0.8441\n",
      "Epoch [16/50] Loss: 1.0259\n",
      "Epoch [16/50] Loss: 0.7374\n",
      "Epoch [16/50] Loss: 0.8394\n",
      "Epoch [16/50] Loss: 1.1286\n",
      "Epoch [16/50] Loss: 1.4062\n",
      "Epoch [16/50] Loss: 1.0416\n",
      "Epoch [16/50] Loss: 1.1456\n",
      "Epoch [16/50] Loss: 0.9136\n"
     ]
    },
    {
     "name": "stderr",
     "output_type": "stream",
     "text": [
      "1683it [09:10,  3.06it/s]\n"
     ]
    },
    {
     "name": "stdout",
     "output_type": "stream",
     "text": [
      "Overall Acc: \t 0.587927254314\n",
      "Mean Acc : \t 0.25287213822\n",
      "FreqW Acc : \t 0.418952975954\n",
      "Mean IoU : \t 0.185056531069\n",
      "Epoch [17/50] Loss: 1.1980\n",
      "Epoch [17/50] Loss: 0.9890\n",
      "Epoch [17/50] Loss: 1.1014\n",
      "Epoch [17/50] Loss: 1.0813\n",
      "Epoch [17/50] Loss: 1.0284\n",
      "Epoch [17/50] Loss: 1.2058\n",
      "Epoch [17/50] Loss: 1.1042\n",
      "Epoch [17/50] Loss: 0.6768\n",
      "Epoch [17/50] Loss: 1.8244\n",
      "Epoch [17/50] Loss: 1.1164\n",
      "Epoch [17/50] Loss: 0.8093\n",
      "Epoch [17/50] Loss: 0.8922\n",
      "Epoch [17/50] Loss: 1.1803\n",
      "Epoch [17/50] Loss: 0.9923\n",
      "Epoch [17/50] Loss: 0.9833\n",
      "Epoch [17/50] Loss: 1.3771\n",
      "Epoch [17/50] Loss: 1.1238\n"
     ]
    },
    {
     "name": "stderr",
     "output_type": "stream",
     "text": [
      "1683it [09:10,  3.06it/s]"
     ]
    },
    {
     "name": "stdout",
     "output_type": "stream",
     "text": [
      "Overall Acc: \t 0.590103995815\n",
      "Mean Acc : \t 0.251882740513\n",
      "FreqW Acc : \t 0.42059008707\n",
      "Mean IoU : \t 0.183760970238\n"
     ]
    },
    {
     "name": "stderr",
     "output_type": "stream",
     "text": [
      "\n"
     ]
    },
    {
     "name": "stdout",
     "output_type": "stream",
     "text": [
      "Epoch [18/50] Loss: 0.6276\n",
      "Epoch [18/50] Loss: 0.8155\n",
      "Epoch [18/50] Loss: 1.1328\n",
      "Epoch [18/50] Loss: 1.0788\n",
      "Epoch [18/50] Loss: 0.8430\n",
      "Epoch [18/50] Loss: 1.2455\n",
      "Epoch [18/50] Loss: 1.1490\n",
      "Epoch [18/50] Loss: 0.8855\n",
      "Epoch [18/50] Loss: 0.9774\n",
      "Epoch [18/50] Loss: 0.9952\n",
      "Epoch [18/50] Loss: 0.9407\n",
      "Epoch [18/50] Loss: 0.7657\n",
      "Epoch [18/50] Loss: 0.6915\n",
      "Epoch [18/50] Loss: 1.1911\n",
      "Epoch [18/50] Loss: 1.1619\n",
      "Epoch [18/50] Loss: 1.0840\n",
      "Epoch [18/50] Loss: 0.9433\n"
     ]
    },
    {
     "name": "stderr",
     "output_type": "stream",
     "text": [
      "1683it [09:12,  3.05it/s]"
     ]
    },
    {
     "name": "stdout",
     "output_type": "stream",
     "text": [
      "Overall Acc: \t 0.588150973326\n",
      "Mean Acc : \t 0.243343058003\n",
      "FreqW Acc : \t 0.41683118841\n",
      "Mean IoU : \t 0.181977479189\n"
     ]
    },
    {
     "name": "stderr",
     "output_type": "stream",
     "text": [
      "\n"
     ]
    },
    {
     "name": "stdout",
     "output_type": "stream",
     "text": [
      "Epoch [19/50] Loss: 1.1293\n",
      "Epoch [19/50] Loss: 0.8453\n",
      "Epoch [19/50] Loss: 0.8332\n",
      "Epoch [19/50] Loss: 0.8585\n",
      "Epoch [19/50] Loss: 0.9779\n",
      "Epoch [19/50] Loss: 0.8007\n",
      "Epoch [19/50] Loss: 0.9004\n",
      "Epoch [19/50] Loss: 2.0006\n",
      "Epoch [19/50] Loss: 0.9447\n",
      "Epoch [19/50] Loss: 0.6059\n",
      "Epoch [19/50] Loss: 0.9513\n",
      "Epoch [19/50] Loss: 0.8082\n",
      "Epoch [19/50] Loss: 0.6657\n",
      "Epoch [19/50] Loss: 1.0133\n",
      "Epoch [19/50] Loss: 1.0499\n",
      "Epoch [19/50] Loss: 0.8975\n",
      "Epoch [19/50] Loss: 0.9541\n"
     ]
    },
    {
     "name": "stderr",
     "output_type": "stream",
     "text": [
      "1683it [09:10,  3.06it/s]\n"
     ]
    },
    {
     "name": "stdout",
     "output_type": "stream",
     "text": [
      "Overall Acc: \t 0.592488942994\n",
      "Mean Acc : \t 0.266788926788\n",
      "FreqW Acc : \t 0.425573429847\n",
      "Mean IoU : \t 0.195700972064\n",
      "Epoch [20/50] Loss: 1.0423\n",
      "Epoch [20/50] Loss: 1.0268\n",
      "Epoch [20/50] Loss: 0.6975\n",
      "Epoch [20/50] Loss: 1.0700\n",
      "Epoch [20/50] Loss: 0.9689\n",
      "Epoch [20/50] Loss: 1.3029\n",
      "Epoch [20/50] Loss: 0.9365\n",
      "Epoch [20/50] Loss: 1.0889\n",
      "Epoch [20/50] Loss: 0.8017\n",
      "Epoch [20/50] Loss: 1.1544\n",
      "Epoch [20/50] Loss: 1.2453\n",
      "Epoch [20/50] Loss: 0.6152\n",
      "Epoch [20/50] Loss: 1.0310\n",
      "Epoch [20/50] Loss: 0.8017\n",
      "Epoch [20/50] Loss: 1.0220\n",
      "Epoch [20/50] Loss: 1.2387\n",
      "Epoch [20/50] Loss: 0.7103\n"
     ]
    },
    {
     "name": "stderr",
     "output_type": "stream",
     "text": [
      "1683it [09:11,  3.05it/s]"
     ]
    },
    {
     "name": "stdout",
     "output_type": "stream",
     "text": [
      "Overall Acc: \t 0.577912005317\n",
      "Mean Acc : \t 0.262528643547\n",
      "FreqW Acc : \t 0.41875119221\n",
      "Mean IoU : \t 0.191703097937\n"
     ]
    },
    {
     "name": "stderr",
     "output_type": "stream",
     "text": [
      "\n"
     ]
    },
    {
     "name": "stdout",
     "output_type": "stream",
     "text": [
      "Epoch [21/50] Loss: 0.6612\n",
      "Epoch [21/50] Loss: 0.7816\n",
      "Epoch [21/50] Loss: 1.0101\n",
      "Epoch [21/50] Loss: 0.9938\n",
      "Epoch [21/50] Loss: 0.7494\n",
      "Epoch [21/50] Loss: 0.8728\n",
      "Epoch [21/50] Loss: 1.1376\n",
      "Epoch [21/50] Loss: 1.3895\n",
      "Epoch [21/50] Loss: 0.9362\n",
      "Epoch [21/50] Loss: 1.0924\n",
      "Epoch [21/50] Loss: 1.0489\n",
      "Epoch [21/50] Loss: 0.9125\n",
      "Epoch [21/50] Loss: 1.0018\n",
      "Epoch [21/50] Loss: 1.0706\n",
      "Epoch [21/50] Loss: 1.0389\n",
      "Epoch [21/50] Loss: 1.0497\n",
      "Epoch [21/50] Loss: 1.0142\n"
     ]
    },
    {
     "name": "stderr",
     "output_type": "stream",
     "text": [
      "1683it [09:13,  3.04it/s]"
     ]
    },
    {
     "name": "stdout",
     "output_type": "stream",
     "text": [
      "Overall Acc: \t 0.589349784224\n",
      "Mean Acc : \t 0.261720825261\n",
      "FreqW Acc : \t 0.420620334935\n",
      "Mean IoU : \t 0.191987895161\n"
     ]
    },
    {
     "name": "stderr",
     "output_type": "stream",
     "text": [
      "\n"
     ]
    },
    {
     "name": "stdout",
     "output_type": "stream",
     "text": [
      "Epoch [22/50] Loss: 1.0786\n",
      "Epoch [22/50] Loss: 0.9457\n",
      "Epoch [22/50] Loss: 0.9915\n",
      "Epoch [22/50] Loss: 0.6318\n",
      "Epoch [22/50] Loss: 1.0408\n",
      "Epoch [22/50] Loss: 0.8734\n",
      "Epoch [22/50] Loss: 0.6458\n",
      "Epoch [22/50] Loss: 0.8370\n",
      "Epoch [22/50] Loss: 0.6642\n",
      "Epoch [22/50] Loss: 1.0670\n",
      "Epoch [22/50] Loss: 0.8975\n",
      "Epoch [22/50] Loss: 1.0057\n",
      "Epoch [22/50] Loss: 0.7933\n",
      "Epoch [22/50] Loss: 1.3064\n",
      "Epoch [22/50] Loss: 0.7581\n",
      "Epoch [22/50] Loss: 0.5461\n",
      "Epoch [22/50] Loss: 0.9078\n"
     ]
    },
    {
     "name": "stderr",
     "output_type": "stream",
     "text": [
      "1683it [09:11,  3.05it/s]"
     ]
    },
    {
     "name": "stdout",
     "output_type": "stream",
     "text": [
      "Overall Acc: \t 0.576591499013\n",
      "Mean Acc : \t 0.261032564038\n",
      "FreqW Acc : \t 0.410414202868\n",
      "Mean IoU : \t 0.18989380392\n"
     ]
    },
    {
     "name": "stderr",
     "output_type": "stream",
     "text": [
      "\n"
     ]
    },
    {
     "name": "stdout",
     "output_type": "stream",
     "text": [
      "Epoch [23/50] Loss: 1.3182\n",
      "Epoch [23/50] Loss: 1.4444\n",
      "Epoch [23/50] Loss: 1.1844\n",
      "Epoch [23/50] Loss: 1.0961\n",
      "Epoch [23/50] Loss: 1.2876\n",
      "Epoch [23/50] Loss: 0.9407\n",
      "Epoch [23/50] Loss: 0.9703\n",
      "Epoch [23/50] Loss: 1.1848\n",
      "Epoch [23/50] Loss: 1.4226\n",
      "Epoch [23/50] Loss: 1.1604\n",
      "Epoch [23/50] Loss: 0.8280\n",
      "Epoch [23/50] Loss: 1.0702\n",
      "Epoch [23/50] Loss: 0.8624\n",
      "Epoch [23/50] Loss: 1.3959\n",
      "Epoch [23/50] Loss: 1.0251\n",
      "Epoch [23/50] Loss: 0.9835\n",
      "Epoch [23/50] Loss: 1.1962\n"
     ]
    },
    {
     "name": "stderr",
     "output_type": "stream",
     "text": [
      "1683it [09:13,  3.04it/s]\n"
     ]
    },
    {
     "name": "stdout",
     "output_type": "stream",
     "text": [
      "Overall Acc: \t 0.582447184261\n",
      "Mean Acc : \t 0.273226800527\n",
      "FreqW Acc : \t 0.417801728197\n",
      "Mean IoU : \t 0.199745854205\n",
      "Epoch [24/50] Loss: 0.4627\n",
      "Epoch [24/50] Loss: 0.6721\n",
      "Epoch [24/50] Loss: 0.8247\n",
      "Epoch [24/50] Loss: 0.7465\n",
      "Epoch [24/50] Loss: 0.8972\n",
      "Epoch [24/50] Loss: 1.2928\n",
      "Epoch [24/50] Loss: 0.8598\n",
      "Epoch [24/50] Loss: 0.6610\n",
      "Epoch [24/50] Loss: 1.2478\n",
      "Epoch [24/50] Loss: 0.8919\n",
      "Epoch [24/50] Loss: 1.0737\n",
      "Epoch [24/50] Loss: 0.8165\n",
      "Epoch [24/50] Loss: 0.7555\n",
      "Epoch [24/50] Loss: 1.0957\n",
      "Epoch [24/50] Loss: 1.0084\n",
      "Epoch [24/50] Loss: 0.6943\n",
      "Epoch [24/50] Loss: 0.9137\n"
     ]
    },
    {
     "name": "stderr",
     "output_type": "stream",
     "text": [
      "1683it [09:13,  3.04it/s]"
     ]
    },
    {
     "name": "stdout",
     "output_type": "stream",
     "text": [
      "Overall Acc: \t 0.584698747199\n",
      "Mean Acc : \t 0.268205285878\n",
      "FreqW Acc : \t 0.418842321231\n",
      "Mean IoU : \t 0.198293359568\n"
     ]
    },
    {
     "name": "stderr",
     "output_type": "stream",
     "text": [
      "\n"
     ]
    },
    {
     "name": "stdout",
     "output_type": "stream",
     "text": [
      "Epoch [25/50] Loss: 0.7739\n",
      "Epoch [25/50] Loss: 1.2323\n",
      "Epoch [25/50] Loss: 0.6655\n",
      "Epoch [25/50] Loss: 1.1931\n",
      "Epoch [25/50] Loss: 0.5360\n",
      "Epoch [25/50] Loss: 1.1472\n",
      "Epoch [25/50] Loss: 0.7214\n",
      "Epoch [25/50] Loss: 0.8416\n",
      "Epoch [25/50] Loss: 0.7020\n",
      "Epoch [25/50] Loss: 0.6650\n",
      "Epoch [25/50] Loss: 0.9343\n",
      "Epoch [25/50] Loss: 0.7233\n",
      "Epoch [25/50] Loss: 1.2400\n",
      "Epoch [25/50] Loss: 0.6405\n",
      "Epoch [25/50] Loss: 0.9068\n",
      "Epoch [25/50] Loss: 1.4363\n",
      "Epoch [25/50] Loss: 1.1089\n"
     ]
    },
    {
     "name": "stderr",
     "output_type": "stream",
     "text": [
      "1683it [09:13,  3.04it/s]\n"
     ]
    },
    {
     "name": "stdout",
     "output_type": "stream",
     "text": [
      "Overall Acc: \t 0.579552991362\n",
      "Mean Acc : \t 0.272965982591\n",
      "FreqW Acc : \t 0.412400565916\n",
      "Mean IoU : \t 0.199965715279\n",
      "Epoch [26/50] Loss: 0.7812\n",
      "Epoch [26/50] Loss: 1.0725\n",
      "Epoch [26/50] Loss: 0.9774\n",
      "Epoch [26/50] Loss: 0.7709\n",
      "Epoch [26/50] Loss: 0.8456\n",
      "Epoch [26/50] Loss: 1.0647\n",
      "Epoch [26/50] Loss: 0.9827\n",
      "Epoch [26/50] Loss: 0.8350\n",
      "Epoch [26/50] Loss: 0.8201\n",
      "Epoch [26/50] Loss: 0.9379\n",
      "Epoch [26/50] Loss: 0.9702\n",
      "Epoch [26/50] Loss: 0.8665\n",
      "Epoch [26/50] Loss: 0.7111\n",
      "Epoch [26/50] Loss: 0.6868\n",
      "Epoch [26/50] Loss: 0.9522\n",
      "Epoch [26/50] Loss: 1.0591\n",
      "Epoch [26/50] Loss: 0.9166\n"
     ]
    },
    {
     "name": "stderr",
     "output_type": "stream",
     "text": [
      "1683it [09:09,  3.06it/s]"
     ]
    },
    {
     "name": "stdout",
     "output_type": "stream",
     "text": [
      "Overall Acc: \t 0.58829227477\n",
      "Mean Acc : \t 0.267945825146\n",
      "FreqW Acc : \t 0.424727261338\n",
      "Mean IoU : \t 0.197433909092\n"
     ]
    },
    {
     "name": "stderr",
     "output_type": "stream",
     "text": [
      "\n"
     ]
    },
    {
     "name": "stdout",
     "output_type": "stream",
     "text": [
      "Epoch [27/50] Loss: 1.0229\n",
      "Epoch [27/50] Loss: 1.0465\n",
      "Epoch [27/50] Loss: 0.8613\n",
      "Epoch [27/50] Loss: 0.8080\n",
      "Epoch [27/50] Loss: 0.7764\n",
      "Epoch [27/50] Loss: 0.9403\n",
      "Epoch [27/50] Loss: 0.7118\n",
      "Epoch [27/50] Loss: 1.2167\n",
      "Epoch [27/50] Loss: 0.7015\n",
      "Epoch [27/50] Loss: 1.0729\n",
      "Epoch [27/50] Loss: 0.9806\n",
      "Epoch [27/50] Loss: 0.8172\n",
      "Epoch [27/50] Loss: 1.0857\n",
      "Epoch [27/50] Loss: 0.8609\n",
      "Epoch [27/50] Loss: 1.2207\n",
      "Epoch [27/50] Loss: 1.0782\n",
      "Epoch [27/50] Loss: 0.6842\n"
     ]
    },
    {
     "name": "stderr",
     "output_type": "stream",
     "text": [
      "1683it [09:12,  3.05it/s]"
     ]
    },
    {
     "name": "stdout",
     "output_type": "stream",
     "text": [
      "Overall Acc: \t 0.582512528909\n",
      "Mean Acc : \t 0.259260671412\n",
      "FreqW Acc : \t 0.415726938815\n",
      "Mean IoU : \t 0.191672936548\n"
     ]
    },
    {
     "name": "stderr",
     "output_type": "stream",
     "text": [
      "\n"
     ]
    },
    {
     "name": "stdout",
     "output_type": "stream",
     "text": [
      "Epoch [28/50] Loss: 0.6684\n",
      "Epoch [28/50] Loss: 1.2735\n",
      "Epoch [28/50] Loss: 1.0592\n",
      "Epoch [28/50] Loss: 0.8865\n",
      "Epoch [28/50] Loss: 0.5866\n",
      "Epoch [28/50] Loss: 0.7310\n",
      "Epoch [28/50] Loss: 0.4722\n",
      "Epoch [28/50] Loss: 0.8072\n",
      "Epoch [28/50] Loss: 0.8259\n",
      "Epoch [28/50] Loss: 0.8662\n",
      "Epoch [28/50] Loss: 1.0022\n",
      "Epoch [28/50] Loss: 1.3562\n",
      "Epoch [28/50] Loss: 0.9732\n",
      "Epoch [28/50] Loss: 0.7093\n",
      "Epoch [28/50] Loss: 1.1474\n",
      "Epoch [28/50] Loss: 0.9086\n",
      "Epoch [28/50] Loss: 0.8487\n"
     ]
    },
    {
     "name": "stderr",
     "output_type": "stream",
     "text": [
      "1683it [09:11,  3.05it/s]\n"
     ]
    },
    {
     "name": "stdout",
     "output_type": "stream",
     "text": [
      "Overall Acc: \t 0.581666599615\n",
      "Mean Acc : \t 0.291259679755\n",
      "FreqW Acc : \t 0.418923235052\n",
      "Mean IoU : \t 0.208608494609\n",
      "Epoch [29/50] Loss: 1.0638\n",
      "Epoch [29/50] Loss: 0.7136\n",
      "Epoch [29/50] Loss: 1.0896\n",
      "Epoch [29/50] Loss: 0.7908\n",
      "Epoch [29/50] Loss: 1.0801\n",
      "Epoch [29/50] Loss: 0.9365\n",
      "Epoch [29/50] Loss: 0.9737\n",
      "Epoch [29/50] Loss: 0.6266\n",
      "Epoch [29/50] Loss: 0.7741\n",
      "Epoch [29/50] Loss: 0.6905\n",
      "Epoch [29/50] Loss: 1.0126\n",
      "Epoch [29/50] Loss: 0.5631\n",
      "Epoch [29/50] Loss: 0.7430\n",
      "Epoch [29/50] Loss: 1.3034\n",
      "Epoch [29/50] Loss: 0.6484\n",
      "Epoch [29/50] Loss: 0.9122\n",
      "Epoch [29/50] Loss: 0.8030\n"
     ]
    },
    {
     "name": "stderr",
     "output_type": "stream",
     "text": [
      "1683it [09:11,  3.05it/s]"
     ]
    },
    {
     "name": "stdout",
     "output_type": "stream",
     "text": [
      "Overall Acc: \t 0.582876910444\n",
      "Mean Acc : \t 0.284192520795\n",
      "FreqW Acc : \t 0.422140723253\n",
      "Mean IoU : \t 0.20587786659\n"
     ]
    },
    {
     "name": "stderr",
     "output_type": "stream",
     "text": [
      "\n"
     ]
    },
    {
     "name": "stdout",
     "output_type": "stream",
     "text": [
      "Epoch [30/50] Loss: 0.7502\n",
      "Epoch [30/50] Loss: 0.5970\n",
      "Epoch [30/50] Loss: 0.9556\n",
      "Epoch [30/50] Loss: 0.6759\n",
      "Epoch [30/50] Loss: 0.7595\n",
      "Epoch [30/50] Loss: 0.9630\n",
      "Epoch [30/50] Loss: 0.9455\n",
      "Epoch [30/50] Loss: 0.9655\n",
      "Epoch [30/50] Loss: 0.6566\n",
      "Epoch [30/50] Loss: 0.7960\n",
      "Epoch [30/50] Loss: 1.1630\n",
      "Epoch [30/50] Loss: 0.6134\n",
      "Epoch [30/50] Loss: 1.3668\n",
      "Epoch [30/50] Loss: 0.8135\n",
      "Epoch [30/50] Loss: 0.9237\n",
      "Epoch [30/50] Loss: 1.4072\n",
      "Epoch [30/50] Loss: 1.1663\n"
     ]
    },
    {
     "name": "stderr",
     "output_type": "stream",
     "text": [
      "1683it [09:11,  3.05it/s]"
     ]
    },
    {
     "name": "stdout",
     "output_type": "stream",
     "text": [
      "Overall Acc: \t 0.571973935381\n",
      "Mean Acc : \t 0.277019463589\n",
      "FreqW Acc : \t 0.411162289463\n",
      "Mean IoU : \t 0.202310479681\n"
     ]
    },
    {
     "name": "stderr",
     "output_type": "stream",
     "text": [
      "\n"
     ]
    },
    {
     "name": "stdout",
     "output_type": "stream",
     "text": [
      "Epoch [31/50] Loss: 0.6270\n",
      "Epoch [31/50] Loss: 0.8326\n",
      "Epoch [31/50] Loss: 0.7738\n",
      "Epoch [31/50] Loss: 0.7015\n",
      "Epoch [31/50] Loss: 0.7464\n",
      "Epoch [31/50] Loss: 1.1851\n",
      "Epoch [31/50] Loss: 0.9840\n",
      "Epoch [31/50] Loss: 0.6082\n",
      "Epoch [31/50] Loss: 0.8693\n",
      "Epoch [31/50] Loss: 0.8060\n",
      "Epoch [31/50] Loss: 1.1067\n",
      "Epoch [31/50] Loss: 0.9034\n",
      "Epoch [31/50] Loss: 0.6530\n",
      "Epoch [31/50] Loss: 0.8851\n",
      "Epoch [31/50] Loss: 1.0644\n",
      "Epoch [31/50] Loss: 0.9559\n",
      "Epoch [31/50] Loss: 1.0029\n"
     ]
    },
    {
     "name": "stderr",
     "output_type": "stream",
     "text": [
      "1683it [09:11,  3.05it/s]"
     ]
    },
    {
     "name": "stdout",
     "output_type": "stream",
     "text": [
      "Overall Acc: \t 0.586354826863\n",
      "Mean Acc : \t 0.278770744626\n",
      "FreqW Acc : \t 0.421440078072\n",
      "Mean IoU : \t 0.203631872246\n"
     ]
    },
    {
     "name": "stderr",
     "output_type": "stream",
     "text": [
      "\n"
     ]
    },
    {
     "name": "stdout",
     "output_type": "stream",
     "text": [
      "Epoch [32/50] Loss: 0.9683\n",
      "Epoch [32/50] Loss: 0.8014\n",
      "Epoch [32/50] Loss: 1.0698\n",
      "Epoch [32/50] Loss: 0.8364\n",
      "Epoch [32/50] Loss: 0.7210\n",
      "Epoch [32/50] Loss: 0.8202\n",
      "Epoch [32/50] Loss: 0.8659\n",
      "Epoch [32/50] Loss: 0.7506\n",
      "Epoch [32/50] Loss: 0.7852\n",
      "Epoch [32/50] Loss: 0.6683\n",
      "Epoch [32/50] Loss: 0.7811\n",
      "Epoch [32/50] Loss: 0.5555\n",
      "Epoch [32/50] Loss: 0.9561\n",
      "Epoch [32/50] Loss: 0.5661\n",
      "Epoch [32/50] Loss: 0.6732\n",
      "Epoch [32/50] Loss: 0.9552\n",
      "Epoch [32/50] Loss: 1.5476\n"
     ]
    },
    {
     "name": "stderr",
     "output_type": "stream",
     "text": [
      "1683it [09:10,  3.06it/s]"
     ]
    },
    {
     "name": "stdout",
     "output_type": "stream",
     "text": [
      "Overall Acc: \t 0.575085980954\n",
      "Mean Acc : \t 0.273031265544\n",
      "FreqW Acc : \t 0.40453092773\n",
      "Mean IoU : \t 0.198644215675\n"
     ]
    },
    {
     "name": "stderr",
     "output_type": "stream",
     "text": [
      "\n"
     ]
    },
    {
     "name": "stdout",
     "output_type": "stream",
     "text": [
      "Epoch [33/50] Loss: 0.6385\n",
      "Epoch [33/50] Loss: 0.5920\n",
      "Epoch [33/50] Loss: 0.9065\n",
      "Epoch [33/50] Loss: 0.7099\n",
      "Epoch [33/50] Loss: 0.5825\n",
      "Epoch [33/50] Loss: 0.8002\n",
      "Epoch [33/50] Loss: 0.8194\n",
      "Epoch [33/50] Loss: 0.7689\n",
      "Epoch [33/50] Loss: 0.9991\n",
      "Epoch [33/50] Loss: 0.5898\n",
      "Epoch [33/50] Loss: 0.7641\n",
      "Epoch [33/50] Loss: 0.8656\n",
      "Epoch [33/50] Loss: 0.8619\n",
      "Epoch [33/50] Loss: 0.6311\n",
      "Epoch [33/50] Loss: 1.0992\n",
      "Epoch [33/50] Loss: 0.8553\n",
      "Epoch [33/50] Loss: 0.7195\n"
     ]
    },
    {
     "name": "stderr",
     "output_type": "stream",
     "text": [
      "1683it [09:11,  3.05it/s]"
     ]
    },
    {
     "name": "stdout",
     "output_type": "stream",
     "text": [
      "Overall Acc: \t 0.568835845562\n",
      "Mean Acc : \t 0.284092297539\n",
      "FreqW Acc : \t 0.408501863965\n",
      "Mean IoU : \t 0.203161225699\n"
     ]
    },
    {
     "name": "stderr",
     "output_type": "stream",
     "text": [
      "\n"
     ]
    },
    {
     "name": "stdout",
     "output_type": "stream",
     "text": [
      "Epoch [34/50] Loss: 1.1405\n",
      "Epoch [34/50] Loss: 1.0298\n",
      "Epoch [34/50] Loss: 0.6612\n",
      "Epoch [34/50] Loss: 1.0575\n",
      "Epoch [34/50] Loss: 0.6542\n",
      "Epoch [34/50] Loss: 0.8686\n",
      "Epoch [34/50] Loss: 0.7389\n",
      "Epoch [34/50] Loss: 0.9593\n",
      "Epoch [34/50] Loss: 0.8409\n",
      "Epoch [34/50] Loss: 0.6884\n",
      "Epoch [34/50] Loss: 0.6535\n",
      "Epoch [34/50] Loss: 1.0121\n",
      "Epoch [34/50] Loss: 0.7241\n",
      "Epoch [34/50] Loss: 0.7942\n",
      "Epoch [34/50] Loss: 0.9432\n",
      "Epoch [34/50] Loss: 0.7732\n",
      "Epoch [34/50] Loss: 0.8613\n"
     ]
    },
    {
     "name": "stderr",
     "output_type": "stream",
     "text": [
      "1683it [09:10,  3.06it/s]"
     ]
    },
    {
     "name": "stdout",
     "output_type": "stream",
     "text": [
      "Overall Acc: \t 0.576634883094\n",
      "Mean Acc : \t 0.286549255831\n",
      "FreqW Acc : \t 0.417442350202\n",
      "Mean IoU : \t 0.205281005999\n"
     ]
    },
    {
     "name": "stderr",
     "output_type": "stream",
     "text": [
      "\n"
     ]
    },
    {
     "name": "stdout",
     "output_type": "stream",
     "text": [
      "Epoch [35/50] Loss: 1.0113\n",
      "Epoch [35/50] Loss: 0.7472\n",
      "Epoch [35/50] Loss: 0.8943\n",
      "Epoch [35/50] Loss: 0.9375\n",
      "Epoch [35/50] Loss: 1.0795\n",
      "Epoch [35/50] Loss: 0.7419\n",
      "Epoch [35/50] Loss: 1.0502\n",
      "Epoch [35/50] Loss: 1.0645\n",
      "Epoch [35/50] Loss: 0.5348\n",
      "Epoch [35/50] Loss: 1.0031\n",
      "Epoch [35/50] Loss: 0.7745\n",
      "Epoch [35/50] Loss: 0.7410\n",
      "Epoch [35/50] Loss: 0.9006\n",
      "Epoch [35/50] Loss: 0.9249\n",
      "Epoch [35/50] Loss: 0.8530\n",
      "Epoch [35/50] Loss: 0.6755\n",
      "Epoch [35/50] Loss: 0.7905\n"
     ]
    },
    {
     "name": "stderr",
     "output_type": "stream",
     "text": [
      "1683it [09:09,  3.06it/s]"
     ]
    },
    {
     "name": "stdout",
     "output_type": "stream",
     "text": [
      "Overall Acc: \t 0.579523662251\n",
      "Mean Acc : \t 0.278455537074\n",
      "FreqW Acc : \t 0.41453818386\n",
      "Mean IoU : \t 0.20316842744\n"
     ]
    },
    {
     "name": "stderr",
     "output_type": "stream",
     "text": [
      "\n"
     ]
    },
    {
     "name": "stdout",
     "output_type": "stream",
     "text": [
      "Epoch [36/50] Loss: 0.9775\n",
      "Epoch [36/50] Loss: 0.9135\n",
      "Epoch [36/50] Loss: 0.8083\n",
      "Epoch [36/50] Loss: 1.1226\n",
      "Epoch [36/50] Loss: 0.6911\n",
      "Epoch [36/50] Loss: 0.8192\n",
      "Epoch [36/50] Loss: 0.7081\n",
      "Epoch [36/50] Loss: 1.1077\n",
      "Epoch [36/50] Loss: 1.0359\n",
      "Epoch [36/50] Loss: 0.5955\n",
      "Epoch [36/50] Loss: 0.6666\n",
      "Epoch [36/50] Loss: 0.7169\n",
      "Epoch [36/50] Loss: 0.6767\n",
      "Epoch [36/50] Loss: 0.7935\n",
      "Epoch [36/50] Loss: 0.8805\n",
      "Epoch [36/50] Loss: 0.5158\n",
      "Epoch [36/50] Loss: 0.7545\n"
     ]
    },
    {
     "name": "stderr",
     "output_type": "stream",
     "text": [
      "1683it [09:10,  3.06it/s]"
     ]
    },
    {
     "name": "stdout",
     "output_type": "stream",
     "text": [
      "Overall Acc: \t 0.576187798378\n",
      "Mean Acc : \t 0.284460595376\n",
      "FreqW Acc : \t 0.413878623942\n",
      "Mean IoU : \t 0.206465036798\n"
     ]
    },
    {
     "name": "stderr",
     "output_type": "stream",
     "text": [
      "\n"
     ]
    },
    {
     "name": "stdout",
     "output_type": "stream",
     "text": [
      "Epoch [37/50] Loss: 0.4652\n",
      "Epoch [37/50] Loss: 0.7222\n",
      "Epoch [37/50] Loss: 0.6642\n",
      "Epoch [37/50] Loss: 0.7740\n",
      "Epoch [37/50] Loss: 0.8477\n",
      "Epoch [37/50] Loss: 0.8648\n",
      "Epoch [37/50] Loss: 0.8995\n",
      "Epoch [37/50] Loss: 0.9449\n",
      "Epoch [37/50] Loss: 1.2425\n",
      "Epoch [37/50] Loss: 0.8675\n",
      "Epoch [37/50] Loss: 0.6607\n",
      "Epoch [37/50] Loss: 0.9468\n",
      "Epoch [37/50] Loss: 0.6669\n",
      "Epoch [37/50] Loss: 0.9926\n",
      "Epoch [37/50] Loss: 0.7849\n",
      "Epoch [37/50] Loss: 0.7959\n",
      "Epoch [37/50] Loss: 0.8129\n"
     ]
    },
    {
     "name": "stderr",
     "output_type": "stream",
     "text": [
      "1683it [09:09,  3.06it/s]"
     ]
    },
    {
     "name": "stdout",
     "output_type": "stream",
     "text": [
      "Overall Acc: \t 0.574447581668\n",
      "Mean Acc : \t 0.292777393032\n",
      "FreqW Acc : \t 0.41238474444\n",
      "Mean IoU : \t 0.208059743053\n"
     ]
    },
    {
     "name": "stderr",
     "output_type": "stream",
     "text": [
      "\n"
     ]
    },
    {
     "name": "stdout",
     "output_type": "stream",
     "text": [
      "Epoch [38/50] Loss: 1.0823\n",
      "Epoch [38/50] Loss: 0.9165\n",
      "Epoch [38/50] Loss: 0.5664\n",
      "Epoch [38/50] Loss: 0.8233\n",
      "Epoch [38/50] Loss: 0.9750\n",
      "Epoch [38/50] Loss: 0.6569\n",
      "Epoch [38/50] Loss: 0.9901\n",
      "Epoch [38/50] Loss: 0.5811\n",
      "Epoch [38/50] Loss: 0.8294\n",
      "Epoch [38/50] Loss: 0.7904\n",
      "Epoch [38/50] Loss: 0.7847\n",
      "Epoch [38/50] Loss: 0.9351\n",
      "Epoch [38/50] Loss: 0.6515\n",
      "Epoch [38/50] Loss: 1.0257\n",
      "Epoch [38/50] Loss: 0.8708\n",
      "Epoch [38/50] Loss: 0.5133\n",
      "Epoch [38/50] Loss: 0.8544\n"
     ]
    },
    {
     "name": "stderr",
     "output_type": "stream",
     "text": [
      "1683it [09:07,  3.07it/s]"
     ]
    },
    {
     "name": "stdout",
     "output_type": "stream",
     "text": [
      "Overall Acc: \t 0.568968833298\n",
      "Mean Acc : \t 0.254779254329\n",
      "FreqW Acc : \t 0.401153871723\n",
      "Mean IoU : \t 0.190510963399\n"
     ]
    },
    {
     "name": "stderr",
     "output_type": "stream",
     "text": [
      "\n"
     ]
    },
    {
     "name": "stdout",
     "output_type": "stream",
     "text": [
      "Epoch [39/50] Loss: 0.6273\n",
      "Epoch [39/50] Loss: 0.8671\n",
      "Epoch [39/50] Loss: 0.5604\n",
      "Epoch [39/50] Loss: 0.8579\n",
      "Epoch [39/50] Loss: 0.5251\n",
      "Epoch [39/50] Loss: 0.8282\n",
      "Epoch [39/50] Loss: 0.8227\n",
      "Epoch [39/50] Loss: 0.6008\n",
      "Epoch [39/50] Loss: 1.1236\n",
      "Epoch [39/50] Loss: 0.5114\n",
      "Epoch [39/50] Loss: 0.5982\n",
      "Epoch [39/50] Loss: 0.6730\n",
      "Epoch [39/50] Loss: 0.6611\n",
      "Epoch [39/50] Loss: 0.6015\n",
      "Epoch [39/50] Loss: 0.5567\n",
      "Epoch [39/50] Loss: 0.7741\n",
      "Epoch [39/50] Loss: 1.0714\n"
     ]
    },
    {
     "name": "stderr",
     "output_type": "stream",
     "text": [
      "1683it [09:05,  3.08it/s]"
     ]
    },
    {
     "name": "stdout",
     "output_type": "stream",
     "text": [
      "Overall Acc: \t 0.57092640689\n",
      "Mean Acc : \t 0.271449205166\n",
      "FreqW Acc : \t 0.408123757266\n",
      "Mean IoU : \t 0.198921858346\n"
     ]
    },
    {
     "name": "stderr",
     "output_type": "stream",
     "text": [
      "\n"
     ]
    },
    {
     "name": "stdout",
     "output_type": "stream",
     "text": [
      "Epoch [40/50] Loss: 0.8212\n",
      "Epoch [40/50] Loss: 0.6306\n",
      "Epoch [40/50] Loss: 0.6837\n",
      "Epoch [40/50] Loss: 0.7210\n",
      "Epoch [40/50] Loss: 0.7045\n",
      "Epoch [40/50] Loss: 0.8505\n",
      "Epoch [40/50] Loss: 0.7717\n",
      "Epoch [40/50] Loss: 0.7138\n",
      "Epoch [40/50] Loss: 0.9087\n",
      "Epoch [40/50] Loss: 0.7748\n",
      "Epoch [40/50] Loss: 0.5635\n",
      "Epoch [40/50] Loss: 0.8895\n",
      "Epoch [40/50] Loss: 0.6014\n",
      "Epoch [40/50] Loss: 0.7299\n",
      "Epoch [40/50] Loss: 0.4881\n",
      "Epoch [40/50] Loss: 0.7445\n",
      "Epoch [40/50] Loss: 0.7543\n"
     ]
    },
    {
     "name": "stderr",
     "output_type": "stream",
     "text": [
      "1683it [09:05,  3.09it/s]"
     ]
    },
    {
     "name": "stdout",
     "output_type": "stream",
     "text": [
      "Overall Acc: \t 0.569600196718\n",
      "Mean Acc : \t 0.293744313314\n",
      "FreqW Acc : \t 0.404451180469\n",
      "Mean IoU : \t 0.207112002137\n"
     ]
    },
    {
     "name": "stderr",
     "output_type": "stream",
     "text": [
      "\n"
     ]
    },
    {
     "name": "stdout",
     "output_type": "stream",
     "text": [
      "Epoch [41/50] Loss: 0.5513\n",
      "Epoch [41/50] Loss: 0.6775\n",
      "Epoch [41/50] Loss: 0.5510\n",
      "Epoch [41/50] Loss: 0.6056\n",
      "Epoch [41/50] Loss: 0.8354\n",
      "Epoch [41/50] Loss: 0.8373\n",
      "Epoch [41/50] Loss: 0.6387\n",
      "Epoch [41/50] Loss: 0.4433\n",
      "Epoch [41/50] Loss: 0.8718\n",
      "Epoch [41/50] Loss: 0.6253\n",
      "Epoch [41/50] Loss: 0.8512\n",
      "Epoch [41/50] Loss: 0.9691\n",
      "Epoch [41/50] Loss: 0.8008\n",
      "Epoch [41/50] Loss: 0.7682\n",
      "Epoch [41/50] Loss: 0.6209\n",
      "Epoch [41/50] Loss: 0.6652\n",
      "Epoch [41/50] Loss: 0.8724\n"
     ]
    },
    {
     "name": "stderr",
     "output_type": "stream",
     "text": [
      "1683it [09:05,  3.09it/s]"
     ]
    },
    {
     "name": "stdout",
     "output_type": "stream",
     "text": [
      "Overall Acc: \t 0.552605073792\n",
      "Mean Acc : \t 0.27742323424\n",
      "FreqW Acc : \t 0.388695677388\n",
      "Mean IoU : \t 0.200224057131\n"
     ]
    },
    {
     "name": "stderr",
     "output_type": "stream",
     "text": [
      "\n"
     ]
    },
    {
     "name": "stdout",
     "output_type": "stream",
     "text": [
      "Epoch [42/50] Loss: 1.1809\n",
      "Epoch [42/50] Loss: 0.7627\n",
      "Epoch [42/50] Loss: 0.9864\n",
      "Epoch [42/50] Loss: 0.6379\n",
      "Epoch [42/50] Loss: 0.4437\n",
      "Epoch [42/50] Loss: 0.8294\n",
      "Epoch [42/50] Loss: 0.7847\n",
      "Epoch [42/50] Loss: 0.7395\n",
      "Epoch [42/50] Loss: 0.7541\n",
      "Epoch [42/50] Loss: 0.6750\n",
      "Epoch [42/50] Loss: 0.5925\n",
      "Epoch [42/50] Loss: 0.7094\n",
      "Epoch [42/50] Loss: 0.8389\n",
      "Epoch [42/50] Loss: 0.7680\n",
      "Epoch [42/50] Loss: 0.7198\n",
      "Epoch [42/50] Loss: 0.7136\n",
      "Epoch [42/50] Loss: 0.6559\n"
     ]
    },
    {
     "name": "stderr",
     "output_type": "stream",
     "text": [
      "1683it [09:04,  3.09it/s]"
     ]
    },
    {
     "name": "stdout",
     "output_type": "stream",
     "text": [
      "Overall Acc: \t 0.55500180716\n",
      "Mean Acc : \t 0.271692990516\n",
      "FreqW Acc : \t 0.389864866837\n",
      "Mean IoU : \t 0.195808792724\n"
     ]
    },
    {
     "name": "stderr",
     "output_type": "stream",
     "text": [
      "\n"
     ]
    },
    {
     "name": "stdout",
     "output_type": "stream",
     "text": [
      "Epoch [43/50] Loss: 0.5725\n",
      "Epoch [43/50] Loss: 0.6297\n",
      "Epoch [43/50] Loss: 0.5521\n",
      "Epoch [43/50] Loss: 0.9095\n",
      "Epoch [43/50] Loss: 0.7859\n",
      "Epoch [43/50] Loss: 1.1409\n",
      "Epoch [43/50] Loss: 0.4162\n",
      "Epoch [43/50] Loss: 0.8423\n",
      "Epoch [43/50] Loss: 0.5836\n",
      "Epoch [43/50] Loss: 0.5000\n",
      "Epoch [43/50] Loss: 0.7582\n",
      "Epoch [43/50] Loss: 0.8515\n",
      "Epoch [43/50] Loss: 0.8614\n",
      "Epoch [43/50] Loss: 0.6875\n",
      "Epoch [43/50] Loss: 0.9188\n",
      "Epoch [43/50] Loss: 0.7354\n",
      "Epoch [43/50] Loss: 0.6398\n"
     ]
    },
    {
     "name": "stderr",
     "output_type": "stream",
     "text": [
      "1683it [09:05,  3.08it/s]"
     ]
    },
    {
     "name": "stdout",
     "output_type": "stream",
     "text": [
      "Overall Acc: \t 0.568548425302\n",
      "Mean Acc : \t 0.278264472588\n",
      "FreqW Acc : \t 0.401676302289\n",
      "Mean IoU : \t 0.202850315626\n"
     ]
    },
    {
     "name": "stderr",
     "output_type": "stream",
     "text": [
      "\n"
     ]
    },
    {
     "name": "stdout",
     "output_type": "stream",
     "text": [
      "Epoch [44/50] Loss: 0.4676\n",
      "Epoch [44/50] Loss: 0.5217\n",
      "Epoch [44/50] Loss: 0.9558\n",
      "Epoch [44/50] Loss: 0.6802\n",
      "Epoch [44/50] Loss: 0.8233\n",
      "Epoch [44/50] Loss: 0.8474\n",
      "Epoch [44/50] Loss: 0.5048\n",
      "Epoch [44/50] Loss: 0.9812\n",
      "Epoch [44/50] Loss: 0.6926\n",
      "Epoch [44/50] Loss: 0.5555\n",
      "Epoch [44/50] Loss: 0.6383\n",
      "Epoch [44/50] Loss: 0.7626\n",
      "Epoch [44/50] Loss: 0.7930\n",
      "Epoch [44/50] Loss: 1.1776\n",
      "Epoch [44/50] Loss: 0.7376\n",
      "Epoch [44/50] Loss: 0.6794\n",
      "Epoch [44/50] Loss: 0.7984\n"
     ]
    },
    {
     "name": "stderr",
     "output_type": "stream",
     "text": [
      "1683it [09:05,  3.09it/s]"
     ]
    },
    {
     "name": "stdout",
     "output_type": "stream",
     "text": [
      "Overall Acc: \t 0.557666023362\n",
      "Mean Acc : \t 0.275463116241\n",
      "FreqW Acc : \t 0.391044341106\n",
      "Mean IoU : \t 0.19862875801\n"
     ]
    },
    {
     "name": "stderr",
     "output_type": "stream",
     "text": [
      "\n"
     ]
    },
    {
     "name": "stdout",
     "output_type": "stream",
     "text": [
      "Epoch [45/50] Loss: 0.4818\n",
      "Epoch [45/50] Loss: 0.5247\n",
      "Epoch [45/50] Loss: 0.9109\n",
      "Epoch [45/50] Loss: 0.6814\n",
      "Epoch [45/50] Loss: 1.0903\n",
      "Epoch [45/50] Loss: 0.7664\n",
      "Epoch [45/50] Loss: 0.5343\n",
      "Epoch [45/50] Loss: 1.0380\n",
      "Epoch [45/50] Loss: 0.7542\n",
      "Epoch [45/50] Loss: 0.4821\n",
      "Epoch [45/50] Loss: 0.7088\n",
      "Epoch [45/50] Loss: 0.5843\n",
      "Epoch [45/50] Loss: 0.7536\n",
      "Epoch [45/50] Loss: 0.9793\n",
      "Epoch [45/50] Loss: 0.8947\n",
      "Epoch [45/50] Loss: 0.8287\n",
      "Epoch [45/50] Loss: 0.3945\n"
     ]
    },
    {
     "name": "stderr",
     "output_type": "stream",
     "text": [
      "1683it [09:05,  3.09it/s]"
     ]
    },
    {
     "name": "stdout",
     "output_type": "stream",
     "text": [
      "Overall Acc: \t 0.565517148739\n",
      "Mean Acc : \t 0.273992663909\n",
      "FreqW Acc : \t 0.398876725865\n",
      "Mean IoU : \t 0.200470992212\n"
     ]
    },
    {
     "name": "stderr",
     "output_type": "stream",
     "text": [
      "\n"
     ]
    },
    {
     "name": "stdout",
     "output_type": "stream",
     "text": [
      "Epoch [46/50] Loss: 0.5749\n",
      "Epoch [46/50] Loss: 0.7947\n",
      "Epoch [46/50] Loss: 0.7609\n",
      "Epoch [46/50] Loss: 0.7038\n",
      "Epoch [46/50] Loss: 0.6019\n",
      "Epoch [46/50] Loss: 0.6926\n",
      "Epoch [46/50] Loss: 0.5289\n",
      "Epoch [46/50] Loss: 0.9378\n",
      "Epoch [46/50] Loss: 0.5667\n",
      "Epoch [46/50] Loss: 0.5164\n",
      "Epoch [46/50] Loss: 0.7411\n",
      "Epoch [46/50] Loss: 0.4944\n",
      "Epoch [46/50] Loss: 0.6118\n",
      "Epoch [46/50] Loss: 0.6325\n",
      "Epoch [46/50] Loss: 0.7217\n",
      "Epoch [46/50] Loss: 0.6722\n",
      "Epoch [46/50] Loss: 0.7720\n"
     ]
    },
    {
     "name": "stderr",
     "output_type": "stream",
     "text": [
      "1683it [09:05,  3.08it/s]"
     ]
    },
    {
     "name": "stdout",
     "output_type": "stream",
     "text": [
      "Overall Acc: \t 0.565094435212\n",
      "Mean Acc : \t 0.290400328668\n",
      "FreqW Acc : \t 0.401598614742\n",
      "Mean IoU : \t 0.206009510794\n"
     ]
    },
    {
     "name": "stderr",
     "output_type": "stream",
     "text": [
      "\n"
     ]
    },
    {
     "name": "stdout",
     "output_type": "stream",
     "text": [
      "Epoch [47/50] Loss: 0.6170\n",
      "Epoch [47/50] Loss: 0.5282\n",
      "Epoch [47/50] Loss: 0.7642\n",
      "Epoch [47/50] Loss: 0.7270\n",
      "Epoch [47/50] Loss: 0.9969\n",
      "Epoch [47/50] Loss: 0.5515\n",
      "Epoch [47/50] Loss: 0.9003\n",
      "Epoch [47/50] Loss: 1.0875\n",
      "Epoch [47/50] Loss: 0.5284\n",
      "Epoch [47/50] Loss: 0.7406\n",
      "Epoch [47/50] Loss: 0.4861\n",
      "Epoch [47/50] Loss: 0.5730\n",
      "Epoch [47/50] Loss: 0.6056\n",
      "Epoch [47/50] Loss: 0.6519\n",
      "Epoch [47/50] Loss: 0.7727\n",
      "Epoch [47/50] Loss: 0.7560\n",
      "Epoch [47/50] Loss: 1.1350\n"
     ]
    },
    {
     "name": "stderr",
     "output_type": "stream",
     "text": [
      "1683it [09:04,  3.09it/s]"
     ]
    },
    {
     "name": "stdout",
     "output_type": "stream",
     "text": [
      "Overall Acc: \t 0.567115100144\n",
      "Mean Acc : \t 0.291271787403\n",
      "FreqW Acc : \t 0.400229351242\n",
      "Mean IoU : \t 0.206457085407\n"
     ]
    },
    {
     "name": "stderr",
     "output_type": "stream",
     "text": [
      "\n"
     ]
    },
    {
     "name": "stdout",
     "output_type": "stream",
     "text": [
      "Epoch [48/50] Loss: 0.6023\n",
      "Epoch [48/50] Loss: 0.8392\n",
      "Epoch [48/50] Loss: 0.8041\n",
      "Epoch [48/50] Loss: 0.4179\n",
      "Epoch [48/50] Loss: 0.7714\n",
      "Epoch [48/50] Loss: 0.3213\n",
      "Epoch [48/50] Loss: 0.7804\n",
      "Epoch [48/50] Loss: 0.7072\n",
      "Epoch [48/50] Loss: 0.5018\n",
      "Epoch [48/50] Loss: 0.9342\n",
      "Epoch [48/50] Loss: 0.5910\n",
      "Epoch [48/50] Loss: 0.5118\n",
      "Epoch [48/50] Loss: 0.8031\n",
      "Epoch [48/50] Loss: 0.6141\n",
      "Epoch [48/50] Loss: 0.7678\n",
      "Epoch [48/50] Loss: 0.9235\n",
      "Epoch [48/50] Loss: 0.4584\n"
     ]
    },
    {
     "name": "stderr",
     "output_type": "stream",
     "text": [
      "1683it [09:05,  3.09it/s]"
     ]
    },
    {
     "name": "stdout",
     "output_type": "stream",
     "text": [
      "Overall Acc: \t 0.563095951988\n",
      "Mean Acc : \t 0.275219233465\n",
      "FreqW Acc : \t 0.397688725568\n",
      "Mean IoU : \t 0.199106463114\n"
     ]
    },
    {
     "name": "stderr",
     "output_type": "stream",
     "text": [
      "\n"
     ]
    },
    {
     "name": "stdout",
     "output_type": "stream",
     "text": [
      "Epoch [49/50] Loss: 0.6703\n",
      "Epoch [49/50] Loss: 0.7976\n",
      "Epoch [49/50] Loss: 0.7113\n",
      "Epoch [49/50] Loss: 0.5676\n",
      "Epoch [49/50] Loss: 0.6977\n",
      "Epoch [49/50] Loss: 0.7374\n",
      "Epoch [49/50] Loss: 0.7232\n",
      "Epoch [49/50] Loss: 0.8340\n",
      "Epoch [49/50] Loss: 0.7326\n",
      "Epoch [49/50] Loss: 0.6442\n",
      "Epoch [49/50] Loss: 0.6581\n",
      "Epoch [49/50] Loss: 0.6960\n",
      "Epoch [49/50] Loss: 0.6122\n",
      "Epoch [49/50] Loss: 0.5144\n",
      "Epoch [49/50] Loss: 0.7110\n",
      "Epoch [49/50] Loss: 0.7143\n",
      "Epoch [49/50] Loss: 0.4719\n"
     ]
    },
    {
     "name": "stderr",
     "output_type": "stream",
     "text": [
      "1683it [09:04,  3.09it/s]"
     ]
    },
    {
     "name": "stdout",
     "output_type": "stream",
     "text": [
      "Overall Acc: \t 0.567961808263\n",
      "Mean Acc : \t 0.280441460585\n",
      "FreqW Acc : \t 0.404057186602\n",
      "Mean IoU : \t 0.202107068763\n"
     ]
    },
    {
     "name": "stderr",
     "output_type": "stream",
     "text": [
      "\n"
     ]
    },
    {
     "name": "stdout",
     "output_type": "stream",
     "text": [
      "Epoch [50/50] Loss: 0.9288\n",
      "Epoch [50/50] Loss: 0.5528\n",
      "Epoch [50/50] Loss: 0.6652\n",
      "Epoch [50/50] Loss: 0.5677\n",
      "Epoch [50/50] Loss: 0.4329\n",
      "Epoch [50/50] Loss: 0.9222\n",
      "Epoch [50/50] Loss: 1.1663\n",
      "Epoch [50/50] Loss: 0.6254\n",
      "Epoch [50/50] Loss: 0.6076\n",
      "Epoch [50/50] Loss: 0.8622\n",
      "Epoch [50/50] Loss: 0.6594\n",
      "Epoch [50/50] Loss: 0.4958\n",
      "Epoch [50/50] Loss: 0.8927\n",
      "Epoch [50/50] Loss: 0.7676\n",
      "Epoch [50/50] Loss: 0.6161\n",
      "Epoch [50/50] Loss: 0.5552\n",
      "Epoch [50/50] Loss: 0.5256\n"
     ]
    },
    {
     "name": "stderr",
     "output_type": "stream",
     "text": [
      "1683it [09:04,  3.09it/s]"
     ]
    },
    {
     "name": "stdout",
     "output_type": "stream",
     "text": [
      "Overall Acc: \t 0.562988787358\n",
      "Mean Acc : \t 0.284099123727\n",
      "FreqW Acc : \t 0.400232572438\n",
      "Mean IoU : \t 0.202935138986\n"
     ]
    },
    {
     "name": "stderr",
     "output_type": "stream",
     "text": [
      "\n"
     ]
    }
   ],
   "source": [
    "from utils import *\n",
    "\n",
    "arg_str = '--gpu_idx 5 ' \\\n",
    "          '--arch FCN_RGBHHA_mask2 ' \\\n",
    "          '--input_type RGBHHA ' \\\n",
    "          '--dataset SUNRGBD ' \\\n",
    "          '--batch_size 3 ' \\\n",
    "          '--n_epoch 50'\n",
    "\n",
    "trainer = trainer(arg_str)\n",
    "trainer.model_init()\n",
    "trainer.training()"
   ]
  },
  {
   "cell_type": "code",
   "execution_count": null,
   "metadata": {},
   "outputs": [],
   "source": []
  }
 ],
 "metadata": {
  "kernelspec": {
   "display_name": "Python [conda env:pytorch]",
   "language": "python",
   "name": "conda-env-pytorch-py"
  },
  "language_info": {
   "codemirror_mode": {
    "name": "ipython",
    "version": 3
   },
   "file_extension": ".py",
   "mimetype": "text/x-python",
   "name": "python",
   "nbconvert_exporter": "python",
   "pygments_lexer": "ipython3",
   "version": "3.6.3"
  }
 },
 "nbformat": 4,
 "nbformat_minor": 2
}
