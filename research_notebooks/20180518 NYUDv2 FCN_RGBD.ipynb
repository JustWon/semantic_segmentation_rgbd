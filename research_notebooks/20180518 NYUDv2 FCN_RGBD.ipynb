{
 "cells": [
  {
   "cell_type": "markdown",
   "metadata": {},
   "source": [
    "## 2018년 05월 18일 16시 05분 25초에 추가 ##\n",
    "- Training FCN_RGBD on NYUDv2"
   ]
  },
  {
   "cell_type": "code",
   "execution_count": 4,
   "metadata": {},
   "outputs": [],
   "source": [
    "%matplotlib inline\n",
    "import os\n",
    "import collections\n",
    "import torch\n",
    "import torchvision\n",
    "import numpy as np\n",
    "import scipy.misc as m\n",
    "import scipy.io as io\n",
    "import matplotlib.pyplot as plt\n",
    "\n",
    "from NYUDv2Loader import *\n",
    "\n",
    "os.environ['CUDA_VISIBLE_DEVICES'] = '3'\n",
    "data_path = '/home/dongwonshin/Desktop/Datasets/NYUDv2/'\n",
    "arg_string = '--arch FCN_RGBD --batch_size 3 --n_epoch 50'"
   ]
  },
  {
   "cell_type": "markdown",
   "metadata": {},
   "source": [
    "# Argument setting"
   ]
  },
  {
   "cell_type": "code",
   "execution_count": 5,
   "metadata": {},
   "outputs": [],
   "source": [
    "import sys, os\n",
    "import torch\n",
    "import visdom\n",
    "import argparse\n",
    "import numpy as np\n",
    "import torch.nn as nn\n",
    "import torch.nn.functional as F\n",
    "import torchvision.models as models\n",
    "\n",
    "from torch.autograd import Variable\n",
    "from torch.utils import data\n",
    "from tqdm import tqdm\n",
    "\n",
    "from ptsemseg.models import get_model\n",
    "from ptsemseg.loader import get_loader, get_data_path\n",
    "from ptsemseg.metrics import runningScore\n",
    "from ptsemseg.loss import *\n",
    "from ptsemseg.augmentations import *\n",
    "\n",
    "\n",
    "parser = argparse.ArgumentParser(description='Hyperparams')\n",
    "parser.add_argument('--arch', nargs='?', type=str, default='fcn8s', help='Architecture to use [\\'fcn8s, unet, segnet etc\\']')\n",
    "parser.add_argument('--img_rows', nargs='?', type=int, default=256, help='Height of the input image')\n",
    "parser.add_argument('--img_cols', nargs='?', type=int, default=256, help='Width of the input image')\n",
    "\n",
    "parser.add_argument('--img_norm', dest='img_norm', action='store_true', help='Enable input image scales normalization [0, 1] | True by default')\n",
    "parser.add_argument('--no-img_norm', dest='img_norm', action='store_false', help='Disable input image scales normalization [0, 1] | True by default')\n",
    "parser.set_defaults(img_norm=True)\n",
    "\n",
    "parser.add_argument('--n_epoch', nargs='?', type=int, default=10, help='# of the epochs')\n",
    "parser.add_argument('--batch_size', nargs='?', type=int, default=1, help='Batch Size')\n",
    "parser.add_argument('--l_rate', nargs='?', type=float, default=1e-5, help='Learning Rate')\n",
    "parser.add_argument('--feature_scale', nargs='?', type=int, default=1, help='Divider for # of features to use')\n",
    "parser.add_argument('--resume', nargs='?', type=str, default=None, help='Path to previous saved model to restart from')\n",
    "\n",
    "parser.add_argument('--visdom', dest='visdom', action='store_true', help='Enable visualization(s) on visdom | False by default')\n",
    "parser.add_argument('--no-visdom', dest='visdom', action='store_false', help='Disable visualization(s) on visdom | False by default')\n",
    "parser.set_defaults(visdom=False)"
   ]
  },
  {
   "cell_type": "markdown",
   "metadata": {},
   "source": [
    "# Model init"
   ]
  },
  {
   "cell_type": "code",
   "execution_count": 6,
   "metadata": {},
   "outputs": [],
   "source": [
    "args = parser.parse_args(arg_string.split(' '))\n",
    "\n",
    "# Setup Dataloader\n",
    "t_loader = NYUDv2Loader(data_path, is_transform=True)\n",
    "v_loader = NYUDv2Loader(data_path, is_transform=True, split='val')\n",
    "\n",
    "n_classes = t_loader.n_classes\n",
    "trainloader = data.DataLoader(t_loader, batch_size=args.batch_size, num_workers=16, shuffle=True)\n",
    "valloader = data.DataLoader(v_loader, batch_size=args.batch_size, num_workers=16)\n",
    "\n",
    "# Setup Metrics\n",
    "running_metrics = runningScore(n_classes)\n",
    "\n",
    "# Setup visdom for visualization\n",
    "if args.visdom:\n",
    "    vis = visdom.Visdom()\n",
    "\n",
    "    loss_window = vis.line(X=torch.zeros((1,)).cpu(),\n",
    "                       Y=torch.zeros((1)).cpu(),\n",
    "                       opts=dict(xlabel='minibatches',\n",
    "                                 ylabel='Loss',\n",
    "                                 title='Training Loss',\n",
    "                                 legend=['Loss']))\n",
    "\n",
    "# Setup Model\n",
    "model = get_model(args.arch, n_classes)\n",
    "\n",
    "model = torch.nn.DataParallel(model, device_ids=range(torch.cuda.device_count()))\n",
    "model.cuda()\n",
    "\n",
    "# Check if model has custom optimizer / loss\n",
    "if hasattr(model.module, 'optimizer'):\n",
    "    optimizer = model.module.optimizer\n",
    "else:\n",
    "    optimizer = torch.optim.SGD(model.parameters(), lr=args.l_rate, momentum=0.99, weight_decay=5e-4)\n",
    "\n",
    "if hasattr(model.module, 'loss'):\n",
    "    print('Using custom loss')\n",
    "    loss_fn = model.module.loss\n",
    "else:\n",
    "    loss_fn = cross_entropy2d\n",
    "\n",
    "if args.resume is not None:                                         \n",
    "    if os.path.isfile(args.resume):\n",
    "        print(\"Loading model and optimizer from checkpoint '{}'\".format(args.resume))\n",
    "        checkpoint = torch.load(args.resume)\n",
    "        model.load_state_dict(checkpoint['model_state'])\n",
    "        optimizer.load_state_dict(checkpoint['optimizer_state'])\n",
    "        print(\"Loaded checkpoint '{}' (epoch {})\"                    \n",
    "              .format(args.resume, checkpoint['epoch']))\n",
    "    else:\n",
    "        print(\"No checkpoint found at '{}'\".format(args.resume)) \n"
   ]
  },
  {
   "cell_type": "markdown",
   "metadata": {},
   "source": [
    "# Training"
   ]
  },
  {
   "cell_type": "code",
   "execution_count": 7,
   "metadata": {},
   "outputs": [
    {
     "name": "stderr",
     "output_type": "stream",
     "text": [
      "/home/dongwonshin/.conda/envs/pytorch/lib/python3.6/site-packages/torch/nn/functional.py:1462: UserWarning: nn.functional.upsample_bilinear is deprecated. Use nn.functional.upsample instead.\n",
      "  warnings.warn(\"nn.functional.upsample_bilinear is deprecated. Use nn.functional.upsample instead.\")\n"
     ]
    },
    {
     "name": "stdout",
     "output_type": "stream",
     "text": [
      "Epoch [1/50] Loss: 2.3112\n",
      "Epoch [1/50] Loss: 2.2654\n"
     ]
    },
    {
     "name": "stderr",
     "output_type": "stream",
     "text": [
      "218it [00:41,  5.29it/s]\n"
     ]
    },
    {
     "name": "stdout",
     "output_type": "stream",
     "text": [
      "Overall Acc: \t 0.347520671071\n",
      "Mean Acc : \t 0.139138345263\n",
      "FreqW Acc : \t 0.183825079674\n",
      "Mean IoU : \t 0.0763241112238\n",
      "Epoch [2/50] Loss: 1.9979\n",
      "Epoch [2/50] Loss: 1.6211\n"
     ]
    },
    {
     "name": "stderr",
     "output_type": "stream",
     "text": [
      "218it [00:42,  5.12it/s]\n"
     ]
    },
    {
     "name": "stdout",
     "output_type": "stream",
     "text": [
      "Overall Acc: \t 0.400101170282\n",
      "Mean Acc : \t 0.172493448369\n",
      "FreqW Acc : \t 0.226262248918\n",
      "Mean IoU : \t 0.0995061671583\n",
      "Epoch [3/50] Loss: 1.6641\n",
      "Epoch [3/50] Loss: 1.6872\n"
     ]
    },
    {
     "name": "stderr",
     "output_type": "stream",
     "text": [
      "218it [00:42,  5.10it/s]\n"
     ]
    },
    {
     "name": "stdout",
     "output_type": "stream",
     "text": [
      "Overall Acc: \t 0.430492760894\n",
      "Mean Acc : \t 0.199604622119\n",
      "FreqW Acc : \t 0.249282594194\n",
      "Mean IoU : \t 0.119666232691\n",
      "Epoch [4/50] Loss: 1.6537\n",
      "Epoch [4/50] Loss: 1.5730\n"
     ]
    },
    {
     "name": "stderr",
     "output_type": "stream",
     "text": [
      "218it [00:42,  5.18it/s]\n"
     ]
    },
    {
     "name": "stdout",
     "output_type": "stream",
     "text": [
      "Overall Acc: \t 0.459630369601\n",
      "Mean Acc : \t 0.237699241396\n",
      "FreqW Acc : \t 0.287654351124\n",
      "Mean IoU : \t 0.150539380983\n",
      "Epoch [5/50] Loss: 1.4840\n",
      "Epoch [5/50] Loss: 1.4580\n"
     ]
    },
    {
     "name": "stderr",
     "output_type": "stream",
     "text": [
      "218it [00:41,  5.19it/s]\n"
     ]
    },
    {
     "name": "stdout",
     "output_type": "stream",
     "text": [
      "Overall Acc: \t 0.473887609702\n",
      "Mean Acc : \t 0.263391358273\n",
      "FreqW Acc : \t 0.304724262954\n",
      "Mean IoU : \t 0.169093754154\n",
      "Epoch [6/50] Loss: 1.3657\n",
      "Epoch [6/50] Loss: 1.6433\n"
     ]
    },
    {
     "name": "stderr",
     "output_type": "stream",
     "text": [
      "218it [00:41,  5.28it/s]\n"
     ]
    },
    {
     "name": "stdout",
     "output_type": "stream",
     "text": [
      "Overall Acc: \t 0.491334421389\n",
      "Mean Acc : \t 0.283708861246\n",
      "FreqW Acc : \t 0.319111048013\n",
      "Mean IoU : \t 0.190506750217\n",
      "Epoch [7/50] Loss: 1.6170\n",
      "Epoch [7/50] Loss: 1.4206\n"
     ]
    },
    {
     "name": "stderr",
     "output_type": "stream",
     "text": [
      "218it [00:42,  5.17it/s]\n"
     ]
    },
    {
     "name": "stdout",
     "output_type": "stream",
     "text": [
      "Overall Acc: \t 0.498322646893\n",
      "Mean Acc : \t 0.299300544558\n",
      "FreqW Acc : \t 0.327069871198\n",
      "Mean IoU : \t 0.200820982944\n",
      "Epoch [8/50] Loss: 1.7452\n",
      "Epoch [8/50] Loss: 1.4025\n"
     ]
    },
    {
     "name": "stderr",
     "output_type": "stream",
     "text": [
      "218it [00:42,  5.17it/s]\n"
     ]
    },
    {
     "name": "stdout",
     "output_type": "stream",
     "text": [
      "Overall Acc: \t 0.509351193178\n",
      "Mean Acc : \t 0.319653298668\n",
      "FreqW Acc : \t 0.335399243526\n",
      "Mean IoU : \t 0.213687108208\n",
      "Epoch [9/50] Loss: 1.2433\n",
      "Epoch [9/50] Loss: 1.2014\n"
     ]
    },
    {
     "name": "stderr",
     "output_type": "stream",
     "text": [
      "218it [00:42,  5.19it/s]\n"
     ]
    },
    {
     "name": "stdout",
     "output_type": "stream",
     "text": [
      "Overall Acc: \t 0.521219926653\n",
      "Mean Acc : \t 0.33588105453\n",
      "FreqW Acc : \t 0.346611515643\n",
      "Mean IoU : \t 0.228515119492\n",
      "Epoch [10/50] Loss: 1.4777\n",
      "Epoch [10/50] Loss: 1.6878\n"
     ]
    },
    {
     "name": "stderr",
     "output_type": "stream",
     "text": [
      "218it [00:41,  5.20it/s]\n"
     ]
    },
    {
     "name": "stdout",
     "output_type": "stream",
     "text": [
      "Overall Acc: \t 0.529780039501\n",
      "Mean Acc : \t 0.349284348576\n",
      "FreqW Acc : \t 0.358809784096\n",
      "Mean IoU : \t 0.241378554908\n",
      "Epoch [11/50] Loss: 1.3125\n",
      "Epoch [11/50] Loss: 1.4193\n"
     ]
    },
    {
     "name": "stderr",
     "output_type": "stream",
     "text": [
      "218it [00:41,  5.22it/s]"
     ]
    },
    {
     "name": "stdout",
     "output_type": "stream",
     "text": [
      "Overall Acc: \t 0.52972137109\n",
      "Mean Acc : \t 0.343610387779\n",
      "FreqW Acc : \t 0.354582247406\n",
      "Mean IoU : \t 0.240702047301\n"
     ]
    },
    {
     "name": "stderr",
     "output_type": "stream",
     "text": [
      "\n"
     ]
    },
    {
     "name": "stdout",
     "output_type": "stream",
     "text": [
      "Epoch [12/50] Loss: 1.2950\n",
      "Epoch [12/50] Loss: 1.3002\n"
     ]
    },
    {
     "name": "stderr",
     "output_type": "stream",
     "text": [
      "218it [00:42,  5.18it/s]\n"
     ]
    },
    {
     "name": "stdout",
     "output_type": "stream",
     "text": [
      "Overall Acc: \t 0.535532828826\n",
      "Mean Acc : \t 0.354111325903\n",
      "FreqW Acc : \t 0.362193560933\n",
      "Mean IoU : \t 0.248418080092\n",
      "Epoch [13/50] Loss: 1.3337\n",
      "Epoch [13/50] Loss: 1.1509\n"
     ]
    },
    {
     "name": "stderr",
     "output_type": "stream",
     "text": [
      "218it [00:41,  5.28it/s]\n"
     ]
    },
    {
     "name": "stdout",
     "output_type": "stream",
     "text": [
      "Overall Acc: \t 0.54455928262\n",
      "Mean Acc : \t 0.385838858172\n",
      "FreqW Acc : \t 0.378256462773\n",
      "Mean IoU : \t 0.270047016837\n",
      "Epoch [14/50] Loss: 1.3089\n",
      "Epoch [14/50] Loss: 1.2582\n"
     ]
    },
    {
     "name": "stderr",
     "output_type": "stream",
     "text": [
      "218it [00:42,  5.19it/s]\n"
     ]
    },
    {
     "name": "stdout",
     "output_type": "stream",
     "text": [
      "Overall Acc: \t 0.551278814069\n",
      "Mean Acc : \t 0.397509946507\n",
      "FreqW Acc : \t 0.385517119827\n",
      "Mean IoU : \t 0.280175943726\n",
      "Epoch [15/50] Loss: 1.3688\n",
      "Epoch [15/50] Loss: 0.9480\n"
     ]
    },
    {
     "name": "stderr",
     "output_type": "stream",
     "text": [
      "218it [00:41,  5.19it/s]\n"
     ]
    },
    {
     "name": "stdout",
     "output_type": "stream",
     "text": [
      "Overall Acc: \t 0.553181189674\n",
      "Mean Acc : \t 0.401975698706\n",
      "FreqW Acc : \t 0.386528347398\n",
      "Mean IoU : \t 0.282494090062\n",
      "Epoch [16/50] Loss: 1.1085\n",
      "Epoch [16/50] Loss: 1.4447\n"
     ]
    },
    {
     "name": "stderr",
     "output_type": "stream",
     "text": [
      "218it [00:42,  5.17it/s]"
     ]
    },
    {
     "name": "stdout",
     "output_type": "stream",
     "text": [
      "Overall Acc: \t 0.551812817557\n",
      "Mean Acc : \t 0.398001137759\n",
      "FreqW Acc : \t 0.38125683032\n",
      "Mean IoU : \t 0.281482429385\n"
     ]
    },
    {
     "name": "stderr",
     "output_type": "stream",
     "text": [
      "\n"
     ]
    },
    {
     "name": "stdout",
     "output_type": "stream",
     "text": [
      "Epoch [17/50] Loss: 1.3853\n",
      "Epoch [17/50] Loss: 1.1036\n"
     ]
    },
    {
     "name": "stderr",
     "output_type": "stream",
     "text": [
      "218it [00:42,  5.19it/s]\n"
     ]
    },
    {
     "name": "stdout",
     "output_type": "stream",
     "text": [
      "Overall Acc: \t 0.558986336089\n",
      "Mean Acc : \t 0.412468715125\n",
      "FreqW Acc : \t 0.386693707869\n",
      "Mean IoU : \t 0.288727969355\n",
      "Epoch [18/50] Loss: 1.5807\n",
      "Epoch [18/50] Loss: 1.6723\n"
     ]
    },
    {
     "name": "stderr",
     "output_type": "stream",
     "text": [
      "218it [00:42,  5.11it/s]\n"
     ]
    },
    {
     "name": "stdout",
     "output_type": "stream",
     "text": [
      "Overall Acc: \t 0.561693290687\n",
      "Mean Acc : \t 0.413688978019\n",
      "FreqW Acc : \t 0.391583537856\n",
      "Mean IoU : \t 0.29382358118\n",
      "Epoch [19/50] Loss: 1.0024\n",
      "Epoch [19/50] Loss: 1.2609\n"
     ]
    },
    {
     "name": "stderr",
     "output_type": "stream",
     "text": [
      "218it [00:42,  5.19it/s]\n"
     ]
    },
    {
     "name": "stdout",
     "output_type": "stream",
     "text": [
      "Overall Acc: \t 0.564071613588\n",
      "Mean Acc : \t 0.417591839622\n",
      "FreqW Acc : \t 0.397984120627\n",
      "Mean IoU : \t 0.299014430354\n",
      "Epoch [20/50] Loss: 1.1381\n",
      "Epoch [20/50] Loss: 1.0936\n"
     ]
    },
    {
     "name": "stderr",
     "output_type": "stream",
     "text": [
      "218it [00:42,  5.15it/s]\n"
     ]
    },
    {
     "name": "stdout",
     "output_type": "stream",
     "text": [
      "Overall Acc: \t 0.564682876011\n",
      "Mean Acc : \t 0.41533011082\n",
      "FreqW Acc : \t 0.397272730523\n",
      "Mean IoU : \t 0.29915026463\n",
      "Epoch [21/50] Loss: 1.0127\n",
      "Epoch [21/50] Loss: 1.2555\n"
     ]
    },
    {
     "name": "stderr",
     "output_type": "stream",
     "text": [
      "218it [00:41,  5.23it/s]\n"
     ]
    },
    {
     "name": "stdout",
     "output_type": "stream",
     "text": [
      "Overall Acc: \t 0.570234653733\n",
      "Mean Acc : \t 0.420167701741\n",
      "FreqW Acc : \t 0.401260128794\n",
      "Mean IoU : \t 0.302124911658\n",
      "Epoch [22/50] Loss: 1.0255\n",
      "Epoch [22/50] Loss: 1.6226\n"
     ]
    },
    {
     "name": "stderr",
     "output_type": "stream",
     "text": [
      "218it [00:41,  5.19it/s]\n"
     ]
    },
    {
     "name": "stdout",
     "output_type": "stream",
     "text": [
      "Overall Acc: \t 0.56778372575\n",
      "Mean Acc : \t 0.439539720321\n",
      "FreqW Acc : \t 0.39689547617\n",
      "Mean IoU : \t 0.306236115572\n",
      "Epoch [23/50] Loss: 1.1305\n",
      "Epoch [23/50] Loss: 1.2096\n"
     ]
    },
    {
     "name": "stderr",
     "output_type": "stream",
     "text": [
      "218it [00:41,  5.22it/s]\n"
     ]
    },
    {
     "name": "stdout",
     "output_type": "stream",
     "text": [
      "Overall Acc: \t 0.571215442031\n",
      "Mean Acc : \t 0.443475735732\n",
      "FreqW Acc : \t 0.403439031662\n",
      "Mean IoU : \t 0.313733843456\n",
      "Epoch [24/50] Loss: 1.0408\n",
      "Epoch [24/50] Loss: 1.1184\n"
     ]
    },
    {
     "name": "stderr",
     "output_type": "stream",
     "text": [
      "218it [00:42,  5.15it/s]\n"
     ]
    },
    {
     "name": "stdout",
     "output_type": "stream",
     "text": [
      "Overall Acc: \t 0.572415802593\n",
      "Mean Acc : \t 0.446386058041\n",
      "FreqW Acc : \t 0.407381392126\n",
      "Mean IoU : \t 0.315636823824\n",
      "Epoch [25/50] Loss: 0.9122\n",
      "Epoch [25/50] Loss: 0.6476\n"
     ]
    },
    {
     "name": "stderr",
     "output_type": "stream",
     "text": [
      "218it [00:41,  5.19it/s]"
     ]
    },
    {
     "name": "stdout",
     "output_type": "stream",
     "text": [
      "Overall Acc: \t 0.571709696141\n",
      "Mean Acc : \t 0.441890778906\n",
      "FreqW Acc : \t 0.401820187504\n",
      "Mean IoU : \t 0.313049165064\n"
     ]
    },
    {
     "name": "stderr",
     "output_type": "stream",
     "text": [
      "\n"
     ]
    },
    {
     "name": "stdout",
     "output_type": "stream",
     "text": [
      "Epoch [26/50] Loss: 0.9076\n",
      "Epoch [26/50] Loss: 1.0273\n"
     ]
    },
    {
     "name": "stderr",
     "output_type": "stream",
     "text": [
      "218it [00:42,  5.15it/s]\n"
     ]
    },
    {
     "name": "stdout",
     "output_type": "stream",
     "text": [
      "Overall Acc: \t 0.576230598162\n",
      "Mean Acc : \t 0.459559600039\n",
      "FreqW Acc : \t 0.408556153375\n",
      "Mean IoU : \t 0.320213958842\n",
      "Epoch [27/50] Loss: 1.0834\n",
      "Epoch [27/50] Loss: 1.0665\n"
     ]
    },
    {
     "name": "stderr",
     "output_type": "stream",
     "text": [
      "218it [00:42,  5.17it/s]\n"
     ]
    },
    {
     "name": "stdout",
     "output_type": "stream",
     "text": [
      "Overall Acc: \t 0.581655522307\n",
      "Mean Acc : \t 0.456857321543\n",
      "FreqW Acc : \t 0.41285885101\n",
      "Mean IoU : \t 0.324331233188\n",
      "Epoch [28/50] Loss: 1.0561\n",
      "Epoch [28/50] Loss: 0.8392\n"
     ]
    },
    {
     "name": "stderr",
     "output_type": "stream",
     "text": [
      "218it [00:42,  5.18it/s]\n"
     ]
    },
    {
     "name": "stdout",
     "output_type": "stream",
     "text": [
      "Overall Acc: \t 0.580878756929\n",
      "Mean Acc : \t 0.45360379892\n",
      "FreqW Acc : \t 0.41185260318\n",
      "Mean IoU : \t 0.323513895794\n",
      "Epoch [29/50] Loss: 0.8233\n",
      "Epoch [29/50] Loss: 0.9787\n"
     ]
    },
    {
     "name": "stderr",
     "output_type": "stream",
     "text": [
      "218it [00:42,  5.15it/s]"
     ]
    },
    {
     "name": "stdout",
     "output_type": "stream",
     "text": [
      "Overall Acc: \t 0.577310336829\n",
      "Mean Acc : \t 0.44108389557\n",
      "FreqW Acc : \t 0.409930802452\n",
      "Mean IoU : \t 0.320031829232\n"
     ]
    },
    {
     "name": "stderr",
     "output_type": "stream",
     "text": [
      "\n"
     ]
    },
    {
     "name": "stdout",
     "output_type": "stream",
     "text": [
      "Epoch [30/50] Loss: 0.9582\n",
      "Epoch [30/50] Loss: 0.6122\n"
     ]
    },
    {
     "name": "stderr",
     "output_type": "stream",
     "text": [
      "218it [00:41,  5.27it/s]\n"
     ]
    },
    {
     "name": "stdout",
     "output_type": "stream",
     "text": [
      "Overall Acc: \t 0.580501531043\n",
      "Mean Acc : \t 0.457209755519\n",
      "FreqW Acc : \t 0.415355973539\n",
      "Mean IoU : \t 0.32761343841\n",
      "Epoch [31/50] Loss: 0.8788\n",
      "Epoch [31/50] Loss: 1.1120\n"
     ]
    },
    {
     "name": "stderr",
     "output_type": "stream",
     "text": [
      "218it [00:42,  5.16it/s]"
     ]
    },
    {
     "name": "stdout",
     "output_type": "stream",
     "text": [
      "Overall Acc: \t 0.579700824454\n",
      "Mean Acc : \t 0.444951778956\n",
      "FreqW Acc : \t 0.413878321011\n",
      "Mean IoU : \t 0.322583677779\n"
     ]
    },
    {
     "name": "stderr",
     "output_type": "stream",
     "text": [
      "\n"
     ]
    },
    {
     "name": "stdout",
     "output_type": "stream",
     "text": [
      "Epoch [32/50] Loss: 0.9145\n",
      "Epoch [32/50] Loss: 1.2970\n"
     ]
    },
    {
     "name": "stderr",
     "output_type": "stream",
     "text": [
      "218it [00:41,  5.27it/s]\n"
     ]
    },
    {
     "name": "stdout",
     "output_type": "stream",
     "text": [
      "Overall Acc: \t 0.582427379985\n",
      "Mean Acc : \t 0.45758617157\n",
      "FreqW Acc : \t 0.413116688431\n",
      "Mean IoU : \t 0.327721467965\n",
      "Epoch [33/50] Loss: 0.9450\n",
      "Epoch [33/50] Loss: 1.1602\n"
     ]
    },
    {
     "name": "stderr",
     "output_type": "stream",
     "text": [
      "218it [00:42,  5.18it/s]\n"
     ]
    },
    {
     "name": "stdout",
     "output_type": "stream",
     "text": [
      "Overall Acc: \t 0.585028863843\n",
      "Mean Acc : \t 0.470812404874\n",
      "FreqW Acc : \t 0.421683601607\n",
      "Mean IoU : \t 0.33613281083\n",
      "Epoch [34/50] Loss: 1.0348\n",
      "Epoch [34/50] Loss: 1.1897\n"
     ]
    },
    {
     "name": "stderr",
     "output_type": "stream",
     "text": [
      "218it [00:41,  5.30it/s]"
     ]
    },
    {
     "name": "stdout",
     "output_type": "stream",
     "text": [
      "Overall Acc: \t 0.58689805026\n",
      "Mean Acc : \t 0.461653344189\n",
      "FreqW Acc : \t 0.421495292658\n",
      "Mean IoU : \t 0.332673578067\n"
     ]
    },
    {
     "name": "stderr",
     "output_type": "stream",
     "text": [
      "\n"
     ]
    },
    {
     "name": "stdout",
     "output_type": "stream",
     "text": [
      "Epoch [35/50] Loss: 0.7193\n",
      "Epoch [35/50] Loss: 0.9900\n"
     ]
    },
    {
     "name": "stderr",
     "output_type": "stream",
     "text": [
      "218it [00:41,  5.31it/s]"
     ]
    },
    {
     "name": "stdout",
     "output_type": "stream",
     "text": [
      "Overall Acc: \t 0.585538199422\n",
      "Mean Acc : \t 0.463308715413\n",
      "FreqW Acc : \t 0.423433072354\n",
      "Mean IoU : \t 0.335899412317\n"
     ]
    },
    {
     "name": "stderr",
     "output_type": "stream",
     "text": [
      "\n"
     ]
    },
    {
     "name": "stdout",
     "output_type": "stream",
     "text": [
      "Epoch [36/50] Loss: 1.2401\n",
      "Epoch [36/50] Loss: 0.8301\n"
     ]
    },
    {
     "name": "stderr",
     "output_type": "stream",
     "text": [
      "218it [00:40,  5.37it/s]\n"
     ]
    },
    {
     "name": "stdout",
     "output_type": "stream",
     "text": [
      "Overall Acc: \t 0.588765096402\n",
      "Mean Acc : \t 0.468826778222\n",
      "FreqW Acc : \t 0.424918762191\n",
      "Mean IoU : \t 0.337052907462\n",
      "Epoch [37/50] Loss: 1.1213\n",
      "Epoch [37/50] Loss: 1.4633\n"
     ]
    },
    {
     "name": "stderr",
     "output_type": "stream",
     "text": [
      "218it [00:40,  5.40it/s]"
     ]
    },
    {
     "name": "stdout",
     "output_type": "stream",
     "text": [
      "Overall Acc: \t 0.590680353474\n",
      "Mean Acc : \t 0.463830309017\n",
      "FreqW Acc : \t 0.421442982466\n",
      "Mean IoU : \t 0.335063586818\n"
     ]
    },
    {
     "name": "stderr",
     "output_type": "stream",
     "text": [
      "\n"
     ]
    },
    {
     "name": "stdout",
     "output_type": "stream",
     "text": [
      "Epoch [38/50] Loss: 1.3778\n",
      "Epoch [38/50] Loss: 1.0442\n"
     ]
    },
    {
     "name": "stderr",
     "output_type": "stream",
     "text": [
      "218it [00:40,  5.42it/s]\n"
     ]
    },
    {
     "name": "stdout",
     "output_type": "stream",
     "text": [
      "Overall Acc: \t 0.586239492745\n",
      "Mean Acc : \t 0.47141517044\n",
      "FreqW Acc : \t 0.424455110323\n",
      "Mean IoU : \t 0.337314789176\n",
      "Epoch [39/50] Loss: 0.7159\n",
      "Epoch [39/50] Loss: 0.7531\n"
     ]
    },
    {
     "name": "stderr",
     "output_type": "stream",
     "text": [
      "218it [00:39,  5.47it/s]"
     ]
    },
    {
     "name": "stdout",
     "output_type": "stream",
     "text": [
      "Overall Acc: \t 0.588462670625\n",
      "Mean Acc : \t 0.463303640018\n",
      "FreqW Acc : \t 0.423854715259\n",
      "Mean IoU : \t 0.336655409618\n"
     ]
    },
    {
     "name": "stderr",
     "output_type": "stream",
     "text": [
      "\n"
     ]
    },
    {
     "name": "stdout",
     "output_type": "stream",
     "text": [
      "Epoch [40/50] Loss: 0.7569\n",
      "Epoch [40/50] Loss: 1.0109\n"
     ]
    },
    {
     "name": "stderr",
     "output_type": "stream",
     "text": [
      "218it [00:40,  5.44it/s]"
     ]
    },
    {
     "name": "stdout",
     "output_type": "stream",
     "text": [
      "Overall Acc: \t 0.585682135377\n",
      "Mean Acc : \t 0.464486898973\n",
      "FreqW Acc : \t 0.421838325581\n",
      "Mean IoU : \t 0.334035765026\n"
     ]
    },
    {
     "name": "stderr",
     "output_type": "stream",
     "text": [
      "\n"
     ]
    },
    {
     "name": "stdout",
     "output_type": "stream",
     "text": [
      "Epoch [41/50] Loss: 0.4383\n",
      "Epoch [41/50] Loss: 1.0641\n"
     ]
    },
    {
     "name": "stderr",
     "output_type": "stream",
     "text": [
      "218it [00:39,  5.48it/s]\n"
     ]
    },
    {
     "name": "stdout",
     "output_type": "stream",
     "text": [
      "Overall Acc: \t 0.59152514972\n",
      "Mean Acc : \t 0.475934241508\n",
      "FreqW Acc : \t 0.426419134101\n",
      "Mean IoU : \t 0.343941605004\n",
      "Epoch [42/50] Loss: 0.9390\n",
      "Epoch [42/50] Loss: 1.1100\n"
     ]
    },
    {
     "name": "stderr",
     "output_type": "stream",
     "text": [
      "218it [00:40,  5.43it/s]"
     ]
    },
    {
     "name": "stdout",
     "output_type": "stream",
     "text": [
      "Overall Acc: \t 0.591805630216\n",
      "Mean Acc : \t 0.479567628129\n",
      "FreqW Acc : \t 0.427223376013\n",
      "Mean IoU : \t 0.343558414052\n"
     ]
    },
    {
     "name": "stderr",
     "output_type": "stream",
     "text": [
      "\n"
     ]
    },
    {
     "name": "stdout",
     "output_type": "stream",
     "text": [
      "Epoch [43/50] Loss: 0.9457\n",
      "Epoch [43/50] Loss: 1.1029\n"
     ]
    },
    {
     "name": "stderr",
     "output_type": "stream",
     "text": [
      "218it [00:39,  5.50it/s]"
     ]
    },
    {
     "name": "stdout",
     "output_type": "stream",
     "text": [
      "Overall Acc: \t 0.590858324772\n",
      "Mean Acc : \t 0.479102851876\n",
      "FreqW Acc : \t 0.424024893725\n",
      "Mean IoU : \t 0.341742583025\n"
     ]
    },
    {
     "name": "stderr",
     "output_type": "stream",
     "text": [
      "\n"
     ]
    },
    {
     "name": "stdout",
     "output_type": "stream",
     "text": [
      "Epoch [44/50] Loss: 0.6576\n",
      "Epoch [44/50] Loss: 0.8384\n"
     ]
    },
    {
     "name": "stderr",
     "output_type": "stream",
     "text": [
      "218it [00:39,  5.50it/s]\n"
     ]
    },
    {
     "name": "stdout",
     "output_type": "stream",
     "text": [
      "Overall Acc: \t 0.589587678588\n",
      "Mean Acc : \t 0.482578026254\n",
      "FreqW Acc : \t 0.425609882659\n",
      "Mean IoU : \t 0.344376469202\n",
      "Epoch [45/50] Loss: 0.8526\n",
      "Epoch [45/50] Loss: 0.9413\n"
     ]
    },
    {
     "name": "stderr",
     "output_type": "stream",
     "text": [
      "218it [00:39,  5.48it/s]"
     ]
    },
    {
     "name": "stdout",
     "output_type": "stream",
     "text": [
      "Overall Acc: \t 0.59147809852\n",
      "Mean Acc : \t 0.478325902473\n",
      "FreqW Acc : \t 0.423562150598\n",
      "Mean IoU : \t 0.340301477396\n"
     ]
    },
    {
     "name": "stderr",
     "output_type": "stream",
     "text": [
      "\n"
     ]
    },
    {
     "name": "stdout",
     "output_type": "stream",
     "text": [
      "Epoch [46/50] Loss: 0.8686\n",
      "Epoch [46/50] Loss: 0.8186\n"
     ]
    },
    {
     "name": "stderr",
     "output_type": "stream",
     "text": [
      "218it [00:39,  5.48it/s]"
     ]
    },
    {
     "name": "stdout",
     "output_type": "stream",
     "text": [
      "Overall Acc: \t 0.591454814324\n",
      "Mean Acc : \t 0.469642701999\n",
      "FreqW Acc : \t 0.424735330836\n",
      "Mean IoU : \t 0.341177093704\n"
     ]
    },
    {
     "name": "stderr",
     "output_type": "stream",
     "text": [
      "\n"
     ]
    },
    {
     "name": "stdout",
     "output_type": "stream",
     "text": [
      "Epoch [47/50] Loss: 0.7041\n",
      "Epoch [47/50] Loss: 0.8830\n"
     ]
    },
    {
     "name": "stderr",
     "output_type": "stream",
     "text": [
      "218it [00:39,  5.46it/s]\n"
     ]
    },
    {
     "name": "stdout",
     "output_type": "stream",
     "text": [
      "Overall Acc: \t 0.595065372945\n",
      "Mean Acc : \t 0.481257167475\n",
      "FreqW Acc : \t 0.431395046798\n",
      "Mean IoU : \t 0.346924263433\n",
      "Epoch [48/50] Loss: 0.9253\n",
      "Epoch [48/50] Loss: 0.7510\n"
     ]
    },
    {
     "name": "stderr",
     "output_type": "stream",
     "text": [
      "218it [00:39,  5.48it/s]\n"
     ]
    },
    {
     "name": "stdout",
     "output_type": "stream",
     "text": [
      "Overall Acc: \t 0.590149530533\n",
      "Mean Acc : \t 0.484639654429\n",
      "FreqW Acc : \t 0.427097735054\n",
      "Mean IoU : \t 0.348198134395\n",
      "Epoch [49/50] Loss: 0.8724\n",
      "Epoch [49/50] Loss: 1.0597\n"
     ]
    },
    {
     "name": "stderr",
     "output_type": "stream",
     "text": [
      "218it [00:40,  5.42it/s]\n"
     ]
    },
    {
     "name": "stdout",
     "output_type": "stream",
     "text": [
      "Overall Acc: \t 0.593502036745\n",
      "Mean Acc : \t 0.481300496336\n",
      "FreqW Acc : \t 0.431064348192\n",
      "Mean IoU : \t 0.348385639414\n",
      "Epoch [50/50] Loss: 0.6809\n",
      "Epoch [50/50] Loss: 0.9400\n"
     ]
    },
    {
     "name": "stderr",
     "output_type": "stream",
     "text": [
      "218it [00:40,  5.44it/s]\n"
     ]
    },
    {
     "name": "stdout",
     "output_type": "stream",
     "text": [
      "Overall Acc: \t 0.594224459058\n",
      "Mean Acc : \t 0.487527392633\n",
      "FreqW Acc : \t 0.428498215849\n",
      "Mean IoU : \t 0.349465411661\n"
     ]
    }
   ],
   "source": [
    "best_iou = -100.0 \n",
    "for epoch in range(args.n_epoch):\n",
    "    model.train()\n",
    "    for i, (color_imgs, depth_imgs, label_imgs) in enumerate(trainloader):\n",
    "        color_imgs = Variable(color_imgs.cuda())\n",
    "        depth_imgs = Variable(depth_imgs.cuda())\n",
    "        label_imgs = Variable(label_imgs.cuda())\n",
    "\n",
    "        optimizer.zero_grad()\n",
    "        outputs = model(color_imgs, depth_imgs)\n",
    "\n",
    "        loss = loss_fn(input=outputs, target=label_imgs)\n",
    "\n",
    "        loss.backward()\n",
    "        optimizer.step()\n",
    "\n",
    "        if args.visdom:\n",
    "            vis.line(\n",
    "                X=torch.ones((1, 1)).cpu() * i,\n",
    "                Y=torch.Tensor([loss.data[0]]).unsqueeze(0).cpu(),\n",
    "                win=loss_window,\n",
    "                update='append')\n",
    "\n",
    "        if (i+1) % 100 == 0:\n",
    "            print(\"Epoch [%d/%d] Loss: %.4f\" % (epoch+1, args.n_epoch, loss.data[0]))\n",
    "\n",
    "    model.eval()\n",
    "    for i_val, (color_images_val, depth_images_val, label_images_val) in tqdm(enumerate(valloader)):\n",
    "        color_images_val = Variable(color_images_val.cuda(), volatile=True)\n",
    "        depth_images_val = Variable(depth_images_val.cuda(), volatile=True)\n",
    "        label_images_val = Variable(label_images_val.cuda(), volatile=True)\n",
    "\n",
    "        outputs = model(color_images_val, depth_images_val)\n",
    "        pred = outputs.data.max(1)[1].cpu().numpy()\n",
    "        gt = label_images_val.data.cpu().numpy()\n",
    "        running_metrics.update(gt, pred)\n",
    "\n",
    "    score, class_iou = running_metrics.get_scores()\n",
    "    for k, v in score.items():\n",
    "        print(k, v)\n",
    "    running_metrics.reset()\n",
    "\n",
    "    if score['Mean IoU : \\t'] >= best_iou:\n",
    "        best_iou = score['Mean IoU : \\t']\n",
    "        state = {'epoch': epoch+1,\n",
    "                 'model_state': model.state_dict(),\n",
    "                 'optimizer_state' : optimizer.state_dict(),}\n",
    "        torch.save(state, \"../model_weights/{}_{}_best_model.pkl\".format(args.arch, 'NYUDv2'))"
   ]
  },
  {
   "cell_type": "markdown",
   "metadata": {},
   "source": [
    "# Training FCN_RGBD on NYUDv2"
   ]
  },
  {
   "cell_type": "code",
   "execution_count": 1,
   "metadata": {},
   "outputs": [
    {
     "name": "stdout",
     "output_type": "stream",
     "text": [
      "Loading model and optimizer from checkpoint '../model_weights/FCN_RGBD_NYUDv2_best_model.pkl'\n",
      "Loaded checkpoint '../model_weights/FCN_RGBD_NYUDv2_best_model.pkl' (epoch 50)\n"
     ]
    },
    {
     "name": "stderr",
     "output_type": "stream",
     "text": [
      "/home/dongwonshin/.conda/envs/pytorch/lib/python3.6/site-packages/torch/nn/functional.py:1462: UserWarning: nn.functional.upsample_bilinear is deprecated. Use nn.functional.upsample instead.\n",
      "  warnings.warn(\"nn.functional.upsample_bilinear is deprecated. Use nn.functional.upsample instead.\")\n"
     ]
    },
    {
     "name": "stdout",
     "output_type": "stream",
     "text": [
      "Epoch [1/50] Loss: 0.7909\n",
      "Epoch [1/50] Loss: 0.8919\n"
     ]
    },
    {
     "name": "stderr",
     "output_type": "stream",
     "text": [
      "218it [00:40,  5.39it/s]\n"
     ]
    },
    {
     "name": "stdout",
     "output_type": "stream",
     "text": [
      "Overall Acc: \t 0.591510038386\n",
      "Mean Acc : \t 0.474321064137\n",
      "FreqW Acc : \t 0.428383823618\n",
      "Mean IoU : \t 0.345614257447\n",
      "Epoch [2/50] Loss: 1.0540\n",
      "Epoch [2/50] Loss: 0.7499\n"
     ]
    },
    {
     "name": "stderr",
     "output_type": "stream",
     "text": [
      "218it [00:40,  5.32it/s]\n"
     ]
    },
    {
     "name": "stdout",
     "output_type": "stream",
     "text": [
      "Overall Acc: \t 0.595326809975\n",
      "Mean Acc : \t 0.472352243113\n",
      "FreqW Acc : \t 0.42814528246\n",
      "Mean IoU : \t 0.345660354999\n",
      "Epoch [3/50] Loss: 0.7187\n",
      "Epoch [3/50] Loss: 0.8364\n"
     ]
    },
    {
     "name": "stderr",
     "output_type": "stream",
     "text": [
      "218it [00:41,  5.22it/s]\n"
     ]
    },
    {
     "name": "stdout",
     "output_type": "stream",
     "text": [
      "Overall Acc: \t 0.5934200045\n",
      "Mean Acc : \t 0.483082521104\n",
      "FreqW Acc : \t 0.433669090418\n",
      "Mean IoU : \t 0.350751109337\n",
      "Epoch [4/50] Loss: 0.9562\n",
      "Epoch [4/50] Loss: 0.7554\n"
     ]
    },
    {
     "name": "stderr",
     "output_type": "stream",
     "text": [
      "218it [00:41,  5.27it/s]\n"
     ]
    },
    {
     "name": "stdout",
     "output_type": "stream",
     "text": [
      "Overall Acc: \t 0.595160022856\n",
      "Mean Acc : \t 0.493245875128\n",
      "FreqW Acc : \t 0.430107960208\n",
      "Mean IoU : \t 0.353235320758\n",
      "Epoch [5/50] Loss: 0.8665\n",
      "Epoch [5/50] Loss: 0.8077\n"
     ]
    },
    {
     "name": "stderr",
     "output_type": "stream",
     "text": [
      "218it [00:41,  5.29it/s]"
     ]
    },
    {
     "name": "stdout",
     "output_type": "stream",
     "text": [
      "Overall Acc: \t 0.594599489918\n",
      "Mean Acc : \t 0.486933878774\n",
      "FreqW Acc : \t 0.432777331269\n",
      "Mean IoU : \t 0.351166161299\n"
     ]
    },
    {
     "name": "stderr",
     "output_type": "stream",
     "text": [
      "\n"
     ]
    },
    {
     "name": "stdout",
     "output_type": "stream",
     "text": [
      "Epoch [6/50] Loss: 0.9263\n",
      "Epoch [6/50] Loss: 0.7521\n"
     ]
    },
    {
     "name": "stderr",
     "output_type": "stream",
     "text": [
      "218it [00:41,  5.19it/s]"
     ]
    },
    {
     "name": "stdout",
     "output_type": "stream",
     "text": [
      "Overall Acc: \t 0.597484704503\n",
      "Mean Acc : \t 0.488255512527\n",
      "FreqW Acc : \t 0.432873392946\n",
      "Mean IoU : \t 0.352123497434\n"
     ]
    },
    {
     "name": "stderr",
     "output_type": "stream",
     "text": [
      "\n"
     ]
    },
    {
     "name": "stdout",
     "output_type": "stream",
     "text": [
      "Epoch [7/50] Loss: 0.7456\n",
      "Epoch [7/50] Loss: 0.8600\n"
     ]
    },
    {
     "name": "stderr",
     "output_type": "stream",
     "text": [
      "218it [00:40,  5.35it/s]"
     ]
    },
    {
     "name": "stdout",
     "output_type": "stream",
     "text": [
      "Overall Acc: \t 0.596854528025\n",
      "Mean Acc : \t 0.490507777239\n",
      "FreqW Acc : \t 0.430912176755\n",
      "Mean IoU : \t 0.351168289659\n"
     ]
    },
    {
     "name": "stderr",
     "output_type": "stream",
     "text": [
      "\n"
     ]
    },
    {
     "name": "stdout",
     "output_type": "stream",
     "text": [
      "Epoch [8/50] Loss: 0.6092\n",
      "Epoch [8/50] Loss: 1.0320\n"
     ]
    },
    {
     "name": "stderr",
     "output_type": "stream",
     "text": [
      "218it [00:41,  5.23it/s]\n"
     ]
    },
    {
     "name": "stdout",
     "output_type": "stream",
     "text": [
      "Overall Acc: \t 0.597714410718\n",
      "Mean Acc : \t 0.489927204726\n",
      "FreqW Acc : \t 0.434536018024\n",
      "Mean IoU : \t 0.355752813182\n",
      "Epoch [9/50] Loss: 0.8936\n",
      "Epoch [9/50] Loss: 0.9057\n"
     ]
    },
    {
     "name": "stderr",
     "output_type": "stream",
     "text": [
      "218it [00:40,  5.32it/s]"
     ]
    },
    {
     "name": "stdout",
     "output_type": "stream",
     "text": [
      "Overall Acc: \t 0.597160910821\n",
      "Mean Acc : \t 0.500375660969\n",
      "FreqW Acc : \t 0.433040538008\n",
      "Mean IoU : \t 0.354460873903\n"
     ]
    },
    {
     "name": "stderr",
     "output_type": "stream",
     "text": [
      "\n"
     ]
    },
    {
     "name": "stdout",
     "output_type": "stream",
     "text": [
      "Epoch [10/50] Loss: 0.7905\n",
      "Epoch [10/50] Loss: 0.8714\n"
     ]
    },
    {
     "name": "stderr",
     "output_type": "stream",
     "text": [
      "218it [00:41,  5.24it/s]\n"
     ]
    },
    {
     "name": "stdout",
     "output_type": "stream",
     "text": [
      "Overall Acc: \t 0.597228662956\n",
      "Mean Acc : \t 0.505496210153\n",
      "FreqW Acc : \t 0.437585217227\n",
      "Mean IoU : \t 0.361294916598\n",
      "Epoch [11/50] Loss: 0.9415\n",
      "Epoch [11/50] Loss: 0.7128\n"
     ]
    },
    {
     "name": "stderr",
     "output_type": "stream",
     "text": [
      "218it [00:41,  5.31it/s]"
     ]
    },
    {
     "name": "stdout",
     "output_type": "stream",
     "text": [
      "Overall Acc: \t 0.598575557666\n",
      "Mean Acc : \t 0.495608030865\n",
      "FreqW Acc : \t 0.433894971992\n",
      "Mean IoU : \t 0.35612686693\n"
     ]
    },
    {
     "name": "stderr",
     "output_type": "stream",
     "text": [
      "\n"
     ]
    },
    {
     "name": "stdout",
     "output_type": "stream",
     "text": [
      "Epoch [12/50] Loss: 0.7218\n",
      "Epoch [12/50] Loss: 0.7395\n"
     ]
    },
    {
     "name": "stderr",
     "output_type": "stream",
     "text": [
      "218it [00:41,  5.31it/s]"
     ]
    },
    {
     "name": "stdout",
     "output_type": "stream",
     "text": [
      "Overall Acc: \t 0.597092272713\n",
      "Mean Acc : \t 0.475350826006\n",
      "FreqW Acc : \t 0.432853406868\n",
      "Mean IoU : \t 0.351067668927\n"
     ]
    },
    {
     "name": "stderr",
     "output_type": "stream",
     "text": [
      "\n"
     ]
    },
    {
     "name": "stdout",
     "output_type": "stream",
     "text": [
      "Epoch [13/50] Loss: 1.0589\n",
      "Epoch [13/50] Loss: 0.6192\n"
     ]
    },
    {
     "name": "stderr",
     "output_type": "stream",
     "text": [
      "218it [00:42,  5.19it/s]"
     ]
    },
    {
     "name": "stdout",
     "output_type": "stream",
     "text": [
      "Overall Acc: \t 0.597149945647\n",
      "Mean Acc : \t 0.485151796379\n",
      "FreqW Acc : \t 0.43499928089\n",
      "Mean IoU : \t 0.353917205028\n"
     ]
    },
    {
     "name": "stderr",
     "output_type": "stream",
     "text": [
      "\n"
     ]
    },
    {
     "name": "stdout",
     "output_type": "stream",
     "text": [
      "Epoch [14/50] Loss: 0.8394\n",
      "Epoch [14/50] Loss: 0.7435\n"
     ]
    },
    {
     "name": "stderr",
     "output_type": "stream",
     "text": [
      "218it [00:41,  5.25it/s]"
     ]
    },
    {
     "name": "stdout",
     "output_type": "stream",
     "text": [
      "Overall Acc: \t 0.599090074701\n",
      "Mean Acc : \t 0.495208895687\n",
      "FreqW Acc : \t 0.434113752096\n",
      "Mean IoU : \t 0.355617212261\n"
     ]
    },
    {
     "name": "stderr",
     "output_type": "stream",
     "text": [
      "\n"
     ]
    },
    {
     "name": "stdout",
     "output_type": "stream",
     "text": [
      "Epoch [15/50] Loss: 0.5789\n",
      "Epoch [15/50] Loss: 0.6928\n"
     ]
    },
    {
     "name": "stderr",
     "output_type": "stream",
     "text": [
      "218it [00:41,  5.28it/s]"
     ]
    },
    {
     "name": "stdout",
     "output_type": "stream",
     "text": [
      "Overall Acc: \t 0.598914193903\n",
      "Mean Acc : \t 0.496184687343\n",
      "FreqW Acc : \t 0.434929645554\n",
      "Mean IoU : \t 0.355717456157\n"
     ]
    },
    {
     "name": "stderr",
     "output_type": "stream",
     "text": [
      "\n"
     ]
    },
    {
     "name": "stdout",
     "output_type": "stream",
     "text": [
      "Epoch [16/50] Loss: 0.7721\n",
      "Epoch [16/50] Loss: 1.0676\n"
     ]
    },
    {
     "name": "stderr",
     "output_type": "stream",
     "text": [
      "218it [00:41,  5.30it/s]"
     ]
    },
    {
     "name": "stdout",
     "output_type": "stream",
     "text": [
      "Overall Acc: \t 0.598545812827\n",
      "Mean Acc : \t 0.486419980294\n",
      "FreqW Acc : \t 0.434683448087\n",
      "Mean IoU : \t 0.355492065797\n"
     ]
    },
    {
     "name": "stderr",
     "output_type": "stream",
     "text": [
      "\n"
     ]
    },
    {
     "name": "stdout",
     "output_type": "stream",
     "text": [
      "Epoch [17/50] Loss: 0.7673\n",
      "Epoch [17/50] Loss: 0.7420\n"
     ]
    },
    {
     "name": "stderr",
     "output_type": "stream",
     "text": [
      "218it [00:40,  5.37it/s]"
     ]
    },
    {
     "name": "stdout",
     "output_type": "stream",
     "text": [
      "Overall Acc: \t 0.599488817812\n",
      "Mean Acc : \t 0.499155675074\n",
      "FreqW Acc : \t 0.436433865131\n",
      "Mean IoU : \t 0.358665286699\n"
     ]
    },
    {
     "name": "stderr",
     "output_type": "stream",
     "text": [
      "\n"
     ]
    },
    {
     "name": "stdout",
     "output_type": "stream",
     "text": [
      "Epoch [18/50] Loss: 0.7465\n",
      "Epoch [18/50] Loss: 0.6004\n"
     ]
    },
    {
     "name": "stderr",
     "output_type": "stream",
     "text": [
      "218it [00:40,  5.33it/s]"
     ]
    },
    {
     "name": "stdout",
     "output_type": "stream",
     "text": [
      "Overall Acc: \t 0.598235174368\n",
      "Mean Acc : \t 0.484872760065\n",
      "FreqW Acc : \t 0.432460449963\n",
      "Mean IoU : \t 0.353379196785\n"
     ]
    },
    {
     "name": "stderr",
     "output_type": "stream",
     "text": [
      "\n"
     ]
    },
    {
     "name": "stdout",
     "output_type": "stream",
     "text": [
      "Epoch [19/50] Loss: 0.8469\n",
      "Epoch [19/50] Loss: 0.7046\n"
     ]
    },
    {
     "name": "stderr",
     "output_type": "stream",
     "text": [
      "218it [00:40,  5.32it/s]"
     ]
    },
    {
     "name": "stdout",
     "output_type": "stream",
     "text": [
      "Overall Acc: \t 0.599194948156\n",
      "Mean Acc : \t 0.505412205688\n",
      "FreqW Acc : \t 0.436601410018\n",
      "Mean IoU : \t 0.359201332861\n"
     ]
    },
    {
     "name": "stderr",
     "output_type": "stream",
     "text": [
      "\n"
     ]
    },
    {
     "name": "stdout",
     "output_type": "stream",
     "text": [
      "Epoch [20/50] Loss: 0.6151\n",
      "Epoch [20/50] Loss: 0.9231\n"
     ]
    },
    {
     "name": "stderr",
     "output_type": "stream",
     "text": [
      "218it [00:41,  5.22it/s]"
     ]
    },
    {
     "name": "stdout",
     "output_type": "stream",
     "text": [
      "Overall Acc: \t 0.600035229915\n",
      "Mean Acc : \t 0.490931952767\n",
      "FreqW Acc : \t 0.430809214992\n",
      "Mean IoU : \t 0.352201728143\n"
     ]
    },
    {
     "name": "stderr",
     "output_type": "stream",
     "text": [
      "\n"
     ]
    },
    {
     "name": "stdout",
     "output_type": "stream",
     "text": [
      "Epoch [21/50] Loss: 1.0760\n",
      "Epoch [21/50] Loss: 0.5556\n"
     ]
    },
    {
     "name": "stderr",
     "output_type": "stream",
     "text": [
      "218it [00:40,  5.35it/s]"
     ]
    },
    {
     "name": "stdout",
     "output_type": "stream",
     "text": [
      "Overall Acc: \t 0.599346195886\n",
      "Mean Acc : \t 0.489667124421\n",
      "FreqW Acc : \t 0.436929288262\n",
      "Mean IoU : \t 0.357084687185\n"
     ]
    },
    {
     "name": "stderr",
     "output_type": "stream",
     "text": [
      "\n"
     ]
    },
    {
     "name": "stdout",
     "output_type": "stream",
     "text": [
      "Epoch [22/50] Loss: 0.8302\n",
      "Epoch [22/50] Loss: 0.4995\n"
     ]
    },
    {
     "name": "stderr",
     "output_type": "stream",
     "text": [
      "218it [00:40,  5.32it/s]"
     ]
    },
    {
     "name": "stdout",
     "output_type": "stream",
     "text": [
      "Overall Acc: \t 0.601187608507\n",
      "Mean Acc : \t 0.499040718192\n",
      "FreqW Acc : \t 0.436437067018\n",
      "Mean IoU : \t 0.360318918868\n"
     ]
    },
    {
     "name": "stderr",
     "output_type": "stream",
     "text": [
      "\n"
     ]
    },
    {
     "name": "stdout",
     "output_type": "stream",
     "text": [
      "Epoch [23/50] Loss: 0.6965\n",
      "Epoch [23/50] Loss: 0.7175\n"
     ]
    },
    {
     "name": "stderr",
     "output_type": "stream",
     "text": [
      "218it [00:40,  5.34it/s]"
     ]
    },
    {
     "name": "stdout",
     "output_type": "stream",
     "text": [
      "Overall Acc: \t 0.598801018173\n",
      "Mean Acc : \t 0.504207771797\n",
      "FreqW Acc : \t 0.438125816842\n",
      "Mean IoU : \t 0.360633155075\n"
     ]
    },
    {
     "name": "stderr",
     "output_type": "stream",
     "text": [
      "\n"
     ]
    },
    {
     "name": "stdout",
     "output_type": "stream",
     "text": [
      "Epoch [24/50] Loss: 0.7782\n",
      "Epoch [24/50] Loss: 0.8267\n"
     ]
    },
    {
     "name": "stderr",
     "output_type": "stream",
     "text": [
      "218it [00:40,  5.34it/s]"
     ]
    },
    {
     "name": "stdout",
     "output_type": "stream",
     "text": [
      "Overall Acc: \t 0.600174740977\n",
      "Mean Acc : \t 0.49943196932\n",
      "FreqW Acc : \t 0.43303482417\n",
      "Mean IoU : \t 0.359881745302\n"
     ]
    },
    {
     "name": "stderr",
     "output_type": "stream",
     "text": [
      "\n"
     ]
    },
    {
     "name": "stdout",
     "output_type": "stream",
     "text": [
      "Epoch [25/50] Loss: 0.9744\n",
      "Epoch [25/50] Loss: 0.6172\n"
     ]
    },
    {
     "name": "stderr",
     "output_type": "stream",
     "text": [
      "218it [00:41,  5.31it/s]"
     ]
    },
    {
     "name": "stdout",
     "output_type": "stream",
     "text": [
      "Overall Acc: \t 0.599264880384\n",
      "Mean Acc : \t 0.499277555317\n",
      "FreqW Acc : \t 0.43953509588\n",
      "Mean IoU : \t 0.361132162989\n"
     ]
    },
    {
     "name": "stderr",
     "output_type": "stream",
     "text": [
      "\n"
     ]
    },
    {
     "name": "stdout",
     "output_type": "stream",
     "text": [
      "Epoch [26/50] Loss: 0.6008\n",
      "Epoch [26/50] Loss: 0.8592\n"
     ]
    },
    {
     "name": "stderr",
     "output_type": "stream",
     "text": [
      "218it [00:41,  5.31it/s]"
     ]
    },
    {
     "name": "stdout",
     "output_type": "stream",
     "text": [
      "Overall Acc: \t 0.595852600782\n",
      "Mean Acc : \t 0.483159101053\n",
      "FreqW Acc : \t 0.43290022745\n",
      "Mean IoU : \t 0.355917084498\n"
     ]
    },
    {
     "name": "stderr",
     "output_type": "stream",
     "text": [
      "\n"
     ]
    },
    {
     "name": "stdout",
     "output_type": "stream",
     "text": [
      "Epoch [27/50] Loss: 0.7817\n",
      "Epoch [27/50] Loss: 0.6196\n"
     ]
    },
    {
     "name": "stderr",
     "output_type": "stream",
     "text": [
      "218it [00:41,  5.27it/s]\n"
     ]
    },
    {
     "name": "stdout",
     "output_type": "stream",
     "text": [
      "Overall Acc: \t 0.602124371854\n",
      "Mean Acc : \t 0.496525524012\n",
      "FreqW Acc : \t 0.437587354477\n",
      "Mean IoU : \t 0.36144458697\n",
      "Epoch [28/50] Loss: 0.6441\n",
      "Epoch [28/50] Loss: 0.6363\n"
     ]
    },
    {
     "name": "stderr",
     "output_type": "stream",
     "text": [
      "218it [00:40,  5.37it/s]\n"
     ]
    },
    {
     "name": "stdout",
     "output_type": "stream",
     "text": [
      "Overall Acc: \t 0.593482873821\n",
      "Mean Acc : \t 0.497772082609\n",
      "FreqW Acc : \t 0.435216837545\n",
      "Mean IoU : \t 0.362047812477\n",
      "Epoch [29/50] Loss: 0.7422\n",
      "Epoch [29/50] Loss: 0.9214\n"
     ]
    },
    {
     "name": "stderr",
     "output_type": "stream",
     "text": [
      "218it [00:40,  5.42it/s]"
     ]
    },
    {
     "name": "stdout",
     "output_type": "stream",
     "text": [
      "Overall Acc: \t 0.598381111231\n",
      "Mean Acc : \t 0.48742491547\n",
      "FreqW Acc : \t 0.435670684037\n",
      "Mean IoU : \t 0.357678728135\n"
     ]
    },
    {
     "name": "stderr",
     "output_type": "stream",
     "text": [
      "\n"
     ]
    },
    {
     "name": "stdout",
     "output_type": "stream",
     "text": [
      "Epoch [30/50] Loss: 0.9007\n",
      "Epoch [30/50] Loss: 0.7493\n"
     ]
    },
    {
     "name": "stderr",
     "output_type": "stream",
     "text": [
      "218it [00:40,  5.43it/s]\n"
     ]
    },
    {
     "name": "stdout",
     "output_type": "stream",
     "text": [
      "Overall Acc: \t 0.600703732241\n",
      "Mean Acc : \t 0.504137024645\n",
      "FreqW Acc : \t 0.43937742085\n",
      "Mean IoU : \t 0.364837572378\n",
      "Epoch [31/50] Loss: 0.7006\n",
      "Epoch [31/50] Loss: 0.7514\n"
     ]
    },
    {
     "name": "stderr",
     "output_type": "stream",
     "text": [
      "218it [00:40,  5.39it/s]"
     ]
    },
    {
     "name": "stdout",
     "output_type": "stream",
     "text": [
      "Overall Acc: \t 0.602127472764\n",
      "Mean Acc : \t 0.491929358115\n",
      "FreqW Acc : \t 0.435804117228\n",
      "Mean IoU : \t 0.358968917721\n"
     ]
    },
    {
     "name": "stderr",
     "output_type": "stream",
     "text": [
      "\n"
     ]
    },
    {
     "name": "stdout",
     "output_type": "stream",
     "text": [
      "Epoch [32/50] Loss: 0.5977\n",
      "Epoch [32/50] Loss: 0.6611\n"
     ]
    },
    {
     "name": "stderr",
     "output_type": "stream",
     "text": [
      "218it [00:40,  5.42it/s]"
     ]
    },
    {
     "name": "stdout",
     "output_type": "stream",
     "text": [
      "Overall Acc: \t 0.600585489536\n",
      "Mean Acc : \t 0.50114294017\n",
      "FreqW Acc : \t 0.439708743166\n",
      "Mean IoU : \t 0.362616094064\n"
     ]
    },
    {
     "name": "stderr",
     "output_type": "stream",
     "text": [
      "\n"
     ]
    },
    {
     "name": "stdout",
     "output_type": "stream",
     "text": [
      "Epoch [33/50] Loss: 0.6892\n",
      "Epoch [33/50] Loss: 0.6096\n"
     ]
    },
    {
     "name": "stderr",
     "output_type": "stream",
     "text": [
      "218it [00:40,  5.43it/s]"
     ]
    },
    {
     "name": "stdout",
     "output_type": "stream",
     "text": [
      "Overall Acc: \t 0.601292611374\n",
      "Mean Acc : \t 0.503560589\n",
      "FreqW Acc : \t 0.43871839464\n",
      "Mean IoU : \t 0.363665133501\n"
     ]
    },
    {
     "name": "stderr",
     "output_type": "stream",
     "text": [
      "\n"
     ]
    },
    {
     "name": "stdout",
     "output_type": "stream",
     "text": [
      "Epoch [34/50] Loss: 0.6190\n",
      "Epoch [34/50] Loss: 0.7784\n"
     ]
    },
    {
     "name": "stderr",
     "output_type": "stream",
     "text": [
      "218it [00:40,  5.43it/s]"
     ]
    },
    {
     "name": "stdout",
     "output_type": "stream",
     "text": [
      "Overall Acc: \t 0.601082222381\n",
      "Mean Acc : \t 0.495664233819\n",
      "FreqW Acc : \t 0.436821353686\n",
      "Mean IoU : \t 0.361462607433\n"
     ]
    },
    {
     "name": "stderr",
     "output_type": "stream",
     "text": [
      "\n"
     ]
    },
    {
     "name": "stdout",
     "output_type": "stream",
     "text": [
      "Epoch [35/50] Loss: 0.6207\n",
      "Epoch [35/50] Loss: 0.6995\n"
     ]
    },
    {
     "name": "stderr",
     "output_type": "stream",
     "text": [
      "218it [00:39,  5.50it/s]"
     ]
    },
    {
     "name": "stdout",
     "output_type": "stream",
     "text": [
      "Overall Acc: \t 0.598897813336\n",
      "Mean Acc : \t 0.503746901241\n",
      "FreqW Acc : \t 0.437218519018\n",
      "Mean IoU : \t 0.363954428098\n"
     ]
    },
    {
     "name": "stderr",
     "output_type": "stream",
     "text": [
      "\n"
     ]
    },
    {
     "name": "stdout",
     "output_type": "stream",
     "text": [
      "Epoch [36/50] Loss: 0.3866\n",
      "Epoch [36/50] Loss: 0.4722\n"
     ]
    },
    {
     "name": "stderr",
     "output_type": "stream",
     "text": [
      "218it [00:39,  5.48it/s]"
     ]
    },
    {
     "name": "stdout",
     "output_type": "stream",
     "text": [
      "Overall Acc: \t 0.599383103179\n",
      "Mean Acc : \t 0.507892924205\n",
      "FreqW Acc : \t 0.438116944246\n",
      "Mean IoU : \t 0.364243543112\n"
     ]
    },
    {
     "name": "stderr",
     "output_type": "stream",
     "text": [
      "\n"
     ]
    },
    {
     "name": "stdout",
     "output_type": "stream",
     "text": [
      "Epoch [37/50] Loss: 0.8381\n",
      "Epoch [37/50] Loss: 0.8467\n"
     ]
    },
    {
     "name": "stderr",
     "output_type": "stream",
     "text": [
      "218it [00:39,  5.48it/s]"
     ]
    },
    {
     "name": "stdout",
     "output_type": "stream",
     "text": [
      "Overall Acc: \t 0.600185079001\n",
      "Mean Acc : \t 0.496259264389\n",
      "FreqW Acc : \t 0.437918427203\n",
      "Mean IoU : \t 0.363311520398\n"
     ]
    },
    {
     "name": "stderr",
     "output_type": "stream",
     "text": [
      "\n"
     ]
    },
    {
     "name": "stdout",
     "output_type": "stream",
     "text": [
      "Epoch [38/50] Loss: 1.1521\n",
      "Epoch [38/50] Loss: 0.7422\n"
     ]
    },
    {
     "name": "stderr",
     "output_type": "stream",
     "text": [
      "218it [00:39,  5.48it/s]\n"
     ]
    },
    {
     "name": "stdout",
     "output_type": "stream",
     "text": [
      "Overall Acc: \t 0.600537412995\n",
      "Mean Acc : \t 0.500145323687\n",
      "FreqW Acc : \t 0.43894696295\n",
      "Mean IoU : \t 0.365539518224\n",
      "Epoch [39/50] Loss: 0.7115\n",
      "Epoch [39/50] Loss: 0.7323\n"
     ]
    },
    {
     "name": "stderr",
     "output_type": "stream",
     "text": [
      "218it [00:40,  5.42it/s]"
     ]
    },
    {
     "name": "stdout",
     "output_type": "stream",
     "text": [
      "Overall Acc: \t 0.601189947877\n",
      "Mean Acc : \t 0.510196026137\n",
      "FreqW Acc : \t 0.435271162452\n",
      "Mean IoU : \t 0.364282532309\n"
     ]
    },
    {
     "name": "stderr",
     "output_type": "stream",
     "text": [
      "\n"
     ]
    },
    {
     "name": "stdout",
     "output_type": "stream",
     "text": [
      "Epoch [40/50] Loss: 0.5559\n",
      "Epoch [40/50] Loss: 0.7213\n"
     ]
    },
    {
     "name": "stderr",
     "output_type": "stream",
     "text": [
      "218it [00:39,  5.48it/s]"
     ]
    },
    {
     "name": "stdout",
     "output_type": "stream",
     "text": [
      "Overall Acc: \t 0.598877699732\n",
      "Mean Acc : \t 0.486379482506\n",
      "FreqW Acc : \t 0.436569960075\n",
      "Mean IoU : \t 0.358550641832\n"
     ]
    },
    {
     "name": "stderr",
     "output_type": "stream",
     "text": [
      "\n"
     ]
    },
    {
     "name": "stdout",
     "output_type": "stream",
     "text": [
      "Epoch [41/50] Loss: 0.7602\n",
      "Epoch [41/50] Loss: 0.7745\n"
     ]
    },
    {
     "name": "stderr",
     "output_type": "stream",
     "text": [
      "218it [00:39,  5.46it/s]\n"
     ]
    },
    {
     "name": "stdout",
     "output_type": "stream",
     "text": [
      "Overall Acc: \t 0.605133617841\n",
      "Mean Acc : \t 0.510858151342\n",
      "FreqW Acc : \t 0.442055591234\n",
      "Mean IoU : \t 0.368916487822\n",
      "Epoch [42/50] Loss: 0.4469\n",
      "Epoch [42/50] Loss: 0.6952\n"
     ]
    },
    {
     "name": "stderr",
     "output_type": "stream",
     "text": [
      "218it [00:39,  5.48it/s]"
     ]
    },
    {
     "name": "stdout",
     "output_type": "stream",
     "text": [
      "Overall Acc: \t 0.603093065112\n",
      "Mean Acc : \t 0.491922097204\n",
      "FreqW Acc : \t 0.437747489712\n",
      "Mean IoU : \t 0.362413132125\n"
     ]
    },
    {
     "name": "stderr",
     "output_type": "stream",
     "text": [
      "\n"
     ]
    },
    {
     "name": "stdout",
     "output_type": "stream",
     "text": [
      "Epoch [43/50] Loss: 0.6895\n",
      "Epoch [43/50] Loss: 0.7128\n"
     ]
    },
    {
     "name": "stderr",
     "output_type": "stream",
     "text": [
      "218it [00:39,  5.46it/s]"
     ]
    },
    {
     "name": "stdout",
     "output_type": "stream",
     "text": [
      "Overall Acc: \t 0.600777019225\n",
      "Mean Acc : \t 0.510963225718\n",
      "FreqW Acc : \t 0.44113160806\n",
      "Mean IoU : \t 0.367530278393\n"
     ]
    },
    {
     "name": "stderr",
     "output_type": "stream",
     "text": [
      "\n"
     ]
    },
    {
     "name": "stdout",
     "output_type": "stream",
     "text": [
      "Epoch [44/50] Loss: 0.7653\n",
      "Epoch [44/50] Loss: 0.6973\n"
     ]
    },
    {
     "name": "stderr",
     "output_type": "stream",
     "text": [
      "218it [00:40,  5.43it/s]"
     ]
    },
    {
     "name": "stdout",
     "output_type": "stream",
     "text": [
      "Overall Acc: \t 0.597940005614\n",
      "Mean Acc : \t 0.507519639376\n",
      "FreqW Acc : \t 0.437386277157\n",
      "Mean IoU : \t 0.365742527434\n"
     ]
    },
    {
     "name": "stderr",
     "output_type": "stream",
     "text": [
      "\n"
     ]
    },
    {
     "name": "stdout",
     "output_type": "stream",
     "text": [
      "Epoch [45/50] Loss: 0.5402\n",
      "Epoch [45/50] Loss: 0.5303\n"
     ]
    },
    {
     "name": "stderr",
     "output_type": "stream",
     "text": [
      "218it [00:40,  5.44it/s]"
     ]
    },
    {
     "name": "stdout",
     "output_type": "stream",
     "text": [
      "Overall Acc: \t 0.600556889494\n",
      "Mean Acc : \t 0.503778305646\n",
      "FreqW Acc : \t 0.439274109991\n",
      "Mean IoU : \t 0.365777863399\n"
     ]
    },
    {
     "name": "stderr",
     "output_type": "stream",
     "text": [
      "\n"
     ]
    },
    {
     "name": "stdout",
     "output_type": "stream",
     "text": [
      "Epoch [46/50] Loss: 0.9010\n",
      "Epoch [46/50] Loss: 0.5504\n"
     ]
    },
    {
     "name": "stderr",
     "output_type": "stream",
     "text": [
      "218it [00:39,  5.46it/s]"
     ]
    },
    {
     "name": "stdout",
     "output_type": "stream",
     "text": [
      "Overall Acc: \t 0.598409173715\n",
      "Mean Acc : \t 0.500198802548\n",
      "FreqW Acc : \t 0.436717581213\n",
      "Mean IoU : \t 0.36230405394\n"
     ]
    },
    {
     "name": "stderr",
     "output_type": "stream",
     "text": [
      "\n"
     ]
    },
    {
     "name": "stdout",
     "output_type": "stream",
     "text": [
      "Epoch [47/50] Loss: 0.7951\n",
      "Epoch [47/50] Loss: 0.6933\n"
     ]
    },
    {
     "name": "stderr",
     "output_type": "stream",
     "text": [
      "218it [00:39,  5.47it/s]"
     ]
    },
    {
     "name": "stdout",
     "output_type": "stream",
     "text": [
      "Overall Acc: \t 0.602944754038\n",
      "Mean Acc : \t 0.504071042843\n",
      "FreqW Acc : \t 0.440369518419\n",
      "Mean IoU : \t 0.367581291844\n"
     ]
    },
    {
     "name": "stderr",
     "output_type": "stream",
     "text": [
      "\n"
     ]
    },
    {
     "name": "stdout",
     "output_type": "stream",
     "text": [
      "Epoch [48/50] Loss: 0.8897\n",
      "Epoch [48/50] Loss: 0.7067\n"
     ]
    },
    {
     "name": "stderr",
     "output_type": "stream",
     "text": [
      "218it [00:39,  5.46it/s]\n"
     ]
    },
    {
     "name": "stdout",
     "output_type": "stream",
     "text": [
      "Overall Acc: \t 0.60334503516\n",
      "Mean Acc : \t 0.51368087833\n",
      "FreqW Acc : \t 0.443126457299\n",
      "Mean IoU : \t 0.369410255885\n",
      "Epoch [49/50] Loss: 0.6710\n",
      "Epoch [49/50] Loss: 0.5373\n"
     ]
    },
    {
     "name": "stderr",
     "output_type": "stream",
     "text": [
      "218it [00:39,  5.45it/s]"
     ]
    },
    {
     "name": "stdout",
     "output_type": "stream",
     "text": [
      "Overall Acc: \t 0.601251677378\n",
      "Mean Acc : \t 0.507521247042\n",
      "FreqW Acc : \t 0.440996242142\n",
      "Mean IoU : \t 0.369239724045\n"
     ]
    },
    {
     "name": "stderr",
     "output_type": "stream",
     "text": [
      "\n"
     ]
    },
    {
     "name": "stdout",
     "output_type": "stream",
     "text": [
      "Epoch [50/50] Loss: 0.7572\n",
      "Epoch [50/50] Loss: 0.8322\n"
     ]
    },
    {
     "name": "stderr",
     "output_type": "stream",
     "text": [
      "218it [00:40,  5.42it/s]"
     ]
    },
    {
     "name": "stdout",
     "output_type": "stream",
     "text": [
      "Overall Acc: \t 0.601129990324\n",
      "Mean Acc : \t 0.503467727915\n",
      "FreqW Acc : \t 0.441349798325\n",
      "Mean IoU : \t 0.367706483136\n"
     ]
    },
    {
     "name": "stderr",
     "output_type": "stream",
     "text": [
      "\n"
     ]
    }
   ],
   "source": [
    "from utils import *\n",
    "\n",
    "arg_str = '--gpu_idx 3 ' \\\n",
    "          '--arch FCN_RGBD ' \\\n",
    "          '--input_type RGBD ' \\\n",
    "          '--dataset NYUDv2 ' \\\n",
    "          '--batch_size 3 ' \\\n",
    "          '--n_epoch 50 ' \\\n",
    "          '--resume ../model_weights/FCN_RGBD_NYUDv2_best_model.pkl ' \\\n",
    "          '--visdom'\n",
    "\n",
    "trainer = trainer(arg_str)\n",
    "trainer.model_init()\n",
    "trainer.training()"
   ]
  },
  {
   "cell_type": "code",
   "execution_count": null,
   "metadata": {},
   "outputs": [],
   "source": []
  }
 ],
 "metadata": {
  "kernelspec": {
   "display_name": "Python [conda env:pytorch]",
   "language": "python",
   "name": "conda-env-pytorch-py"
  },
  "language_info": {
   "codemirror_mode": {
    "name": "ipython",
    "version": 3
   },
   "file_extension": ".py",
   "mimetype": "text/x-python",
   "name": "python",
   "nbconvert_exporter": "python",
   "pygments_lexer": "ipython3",
   "version": "3.6.3"
  }
 },
 "nbformat": 4,
 "nbformat_minor": 2
}
