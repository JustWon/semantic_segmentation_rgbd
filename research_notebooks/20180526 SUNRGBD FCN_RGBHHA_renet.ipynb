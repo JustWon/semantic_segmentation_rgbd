{
 "cells": [
  {
   "cell_type": "code",
   "execution_count": 1,
   "metadata": {},
   "outputs": [
    {
     "name": "stderr",
     "output_type": "stream",
     "text": [
      "/home/dongwonshin/.conda/envs/pytorch/lib/python3.6/site-packages/torch/nn/functional.py:1462: UserWarning: nn.functional.upsample_bilinear is deprecated. Use nn.functional.upsample instead.\n",
      "  warnings.warn(\"nn.functional.upsample_bilinear is deprecated. Use nn.functional.upsample instead.\")\n"
     ]
    },
    {
     "name": "stdout",
     "output_type": "stream",
     "text": [
      "Epoch [1/50] Loss: 2.6631\n",
      "Epoch [1/50] Loss: 2.3512\n",
      "Epoch [1/50] Loss: 2.8488\n",
      "Epoch [1/50] Loss: 1.6980\n",
      "Epoch [1/50] Loss: 2.5415\n",
      "Epoch [1/50] Loss: 2.4097\n",
      "Epoch [1/50] Loss: 1.3633\n",
      "Epoch [1/50] Loss: 1.6709\n",
      "Epoch [1/50] Loss: 1.9803\n",
      "Epoch [1/50] Loss: 1.9207\n",
      "Epoch [1/50] Loss: 1.6918\n",
      "Epoch [1/50] Loss: 2.2361\n",
      "Epoch [1/50] Loss: 1.1768\n",
      "Epoch [1/50] Loss: 1.5021\n",
      "Epoch [1/50] Loss: 1.9458\n",
      "Epoch [1/50] Loss: 1.9697\n",
      "Epoch [1/50] Loss: 1.8425\n"
     ]
    },
    {
     "name": "stderr",
     "output_type": "stream",
     "text": [
      "1683it [06:49,  4.11it/s]\n"
     ]
    },
    {
     "name": "stdout",
     "output_type": "stream",
     "text": [
      "Overall Acc: \t 0.495461676095\n",
      "Mean Acc : \t 0.080984261908\n",
      "FreqW Acc : \t 0.308541168151\n",
      "Mean IoU : \t 0.0539027412386\n",
      "Epoch [2/50] Loss: 1.9452\n",
      "Epoch [2/50] Loss: 2.0047\n",
      "Epoch [2/50] Loss: 1.7620\n",
      "Epoch [2/50] Loss: 1.9556\n",
      "Epoch [2/50] Loss: 1.5961\n",
      "Epoch [2/50] Loss: 1.7105\n",
      "Epoch [2/50] Loss: 1.8061\n",
      "Epoch [2/50] Loss: 1.7846\n",
      "Epoch [2/50] Loss: 1.3908\n",
      "Epoch [2/50] Loss: 1.6670\n",
      "Epoch [2/50] Loss: 1.4442\n",
      "Epoch [2/50] Loss: 1.2014\n",
      "Epoch [2/50] Loss: 2.2798\n",
      "Epoch [2/50] Loss: 1.6022\n",
      "Epoch [2/50] Loss: 1.4776\n",
      "Epoch [2/50] Loss: 1.4065\n",
      "Epoch [2/50] Loss: 1.8231\n"
     ]
    },
    {
     "name": "stderr",
     "output_type": "stream",
     "text": [
      "1683it [06:47,  4.13it/s]\n"
     ]
    },
    {
     "name": "stdout",
     "output_type": "stream",
     "text": [
      "Overall Acc: \t 0.519719728432\n",
      "Mean Acc : \t 0.0992750493028\n",
      "FreqW Acc : \t 0.330378687358\n",
      "Mean IoU : \t 0.0665985224562\n",
      "Epoch [3/50] Loss: 2.2334\n",
      "Epoch [3/50] Loss: 2.3025\n",
      "Epoch [3/50] Loss: 1.7360\n",
      "Epoch [3/50] Loss: 1.6003\n",
      "Epoch [3/50] Loss: 1.8268\n",
      "Epoch [3/50] Loss: 1.7730\n",
      "Epoch [3/50] Loss: 1.2408\n",
      "Epoch [3/50] Loss: 1.9917\n",
      "Epoch [3/50] Loss: 1.7026\n",
      "Epoch [3/50] Loss: 1.4792\n",
      "Epoch [3/50] Loss: 1.6350\n",
      "Epoch [3/50] Loss: 1.5357\n",
      "Epoch [3/50] Loss: 1.6599\n",
      "Epoch [3/50] Loss: 1.3248\n",
      "Epoch [3/50] Loss: 1.0676\n",
      "Epoch [3/50] Loss: 1.1526\n",
      "Epoch [3/50] Loss: 1.8435\n"
     ]
    },
    {
     "name": "stderr",
     "output_type": "stream",
     "text": [
      "1683it [06:47,  4.13it/s]\n"
     ]
    },
    {
     "name": "stdout",
     "output_type": "stream",
     "text": [
      "Overall Acc: \t 0.535863142119\n",
      "Mean Acc : \t 0.10617131198\n",
      "FreqW Acc : \t 0.353185030639\n",
      "Mean IoU : \t 0.076049637286\n",
      "Epoch [4/50] Loss: 2.2007\n",
      "Epoch [4/50] Loss: 1.2013\n",
      "Epoch [4/50] Loss: 1.2021\n",
      "Epoch [4/50] Loss: 1.6055\n",
      "Epoch [4/50] Loss: 2.6587\n",
      "Epoch [4/50] Loss: 1.4502\n",
      "Epoch [4/50] Loss: 1.3612\n",
      "Epoch [4/50] Loss: 1.9147\n",
      "Epoch [4/50] Loss: 1.8446\n",
      "Epoch [4/50] Loss: 1.9928\n",
      "Epoch [4/50] Loss: 1.7884\n",
      "Epoch [4/50] Loss: 1.0652\n",
      "Epoch [4/50] Loss: 1.4074\n",
      "Epoch [4/50] Loss: 1.2215\n",
      "Epoch [4/50] Loss: 1.6124\n",
      "Epoch [4/50] Loss: 2.0169\n",
      "Epoch [4/50] Loss: 0.8809\n"
     ]
    },
    {
     "name": "stderr",
     "output_type": "stream",
     "text": [
      "1683it [06:47,  4.13it/s]\n"
     ]
    },
    {
     "name": "stdout",
     "output_type": "stream",
     "text": [
      "Overall Acc: \t 0.537559226868\n",
      "Mean Acc : \t 0.142678089547\n",
      "FreqW Acc : \t 0.352040211787\n",
      "Mean IoU : \t 0.0962194209499\n",
      "Epoch [5/50] Loss: 1.3042\n",
      "Epoch [5/50] Loss: 1.0776\n",
      "Epoch [5/50] Loss: 1.1206\n",
      "Epoch [5/50] Loss: 2.1649\n",
      "Epoch [5/50] Loss: 1.3850\n",
      "Epoch [5/50] Loss: 1.3958\n",
      "Epoch [5/50] Loss: 1.1585\n",
      "Epoch [5/50] Loss: 1.4430\n",
      "Epoch [5/50] Loss: 1.4623\n",
      "Epoch [5/50] Loss: 1.3635\n",
      "Epoch [5/50] Loss: 1.1875\n",
      "Epoch [5/50] Loss: 1.4373\n",
      "Epoch [5/50] Loss: 1.6210\n",
      "Epoch [5/50] Loss: 1.5540\n",
      "Epoch [5/50] Loss: 1.5040\n",
      "Epoch [5/50] Loss: 1.3722\n",
      "Epoch [5/50] Loss: 1.0943\n"
     ]
    },
    {
     "name": "stderr",
     "output_type": "stream",
     "text": [
      "1683it [06:47,  4.13it/s]\n"
     ]
    },
    {
     "name": "stdout",
     "output_type": "stream",
     "text": [
      "Overall Acc: \t 0.553426710554\n",
      "Mean Acc : \t 0.148809220581\n",
      "FreqW Acc : \t 0.377881134252\n",
      "Mean IoU : \t 0.107899929276\n",
      "Epoch [6/50] Loss: 1.3303\n",
      "Epoch [6/50] Loss: 1.0718\n",
      "Epoch [6/50] Loss: 0.9341\n",
      "Epoch [6/50] Loss: 1.3697\n",
      "Epoch [6/50] Loss: 1.5453\n",
      "Epoch [6/50] Loss: 1.4520\n",
      "Epoch [6/50] Loss: 2.0814\n",
      "Epoch [6/50] Loss: 1.3298\n",
      "Epoch [6/50] Loss: 1.2864\n",
      "Epoch [6/50] Loss: 0.9548\n",
      "Epoch [6/50] Loss: 1.7748\n",
      "Epoch [6/50] Loss: 1.8157\n",
      "Epoch [6/50] Loss: 1.1525\n",
      "Epoch [6/50] Loss: 1.3220\n",
      "Epoch [6/50] Loss: 1.2649\n",
      "Epoch [6/50] Loss: 1.8581\n",
      "Epoch [6/50] Loss: 1.0192\n"
     ]
    },
    {
     "name": "stderr",
     "output_type": "stream",
     "text": [
      "1683it [06:46,  4.15it/s]\n"
     ]
    },
    {
     "name": "stdout",
     "output_type": "stream",
     "text": [
      "Overall Acc: \t 0.560489281216\n",
      "Mean Acc : \t 0.153935103847\n",
      "FreqW Acc : \t 0.383651525149\n",
      "Mean IoU : \t 0.1109949966\n",
      "Epoch [7/50] Loss: 1.7743\n",
      "Epoch [7/50] Loss: 1.8103\n",
      "Epoch [7/50] Loss: 1.5535\n",
      "Epoch [7/50] Loss: 1.5015\n",
      "Epoch [7/50] Loss: 1.2524\n",
      "Epoch [7/50] Loss: 1.2945\n",
      "Epoch [7/50] Loss: 1.1769\n",
      "Epoch [7/50] Loss: 1.2604\n",
      "Epoch [7/50] Loss: 1.4074\n",
      "Epoch [7/50] Loss: 1.2170\n",
      "Epoch [7/50] Loss: 1.4086\n",
      "Epoch [7/50] Loss: 1.9099\n",
      "Epoch [7/50] Loss: 1.9419\n",
      "Epoch [7/50] Loss: 1.2814\n",
      "Epoch [7/50] Loss: 1.3513\n",
      "Epoch [7/50] Loss: 1.3934\n",
      "Epoch [7/50] Loss: 0.8964\n"
     ]
    },
    {
     "name": "stderr",
     "output_type": "stream",
     "text": [
      "1683it [06:47,  4.13it/s]\n"
     ]
    },
    {
     "name": "stdout",
     "output_type": "stream",
     "text": [
      "Overall Acc: \t 0.565990774137\n",
      "Mean Acc : \t 0.178773534012\n",
      "FreqW Acc : \t 0.392860683009\n",
      "Mean IoU : \t 0.126527618513\n",
      "Epoch [8/50] Loss: 1.8910\n",
      "Epoch [8/50] Loss: 1.5169\n",
      "Epoch [8/50] Loss: 1.6888\n",
      "Epoch [8/50] Loss: 1.3483\n",
      "Epoch [8/50] Loss: 0.9395\n",
      "Epoch [8/50] Loss: 0.8219\n",
      "Epoch [8/50] Loss: 1.4410\n",
      "Epoch [8/50] Loss: 1.2893\n",
      "Epoch [8/50] Loss: 1.0451\n",
      "Epoch [8/50] Loss: 1.1150\n",
      "Epoch [8/50] Loss: 0.9415\n",
      "Epoch [8/50] Loss: 1.3287\n",
      "Epoch [8/50] Loss: 1.6556\n",
      "Epoch [8/50] Loss: 1.2941\n",
      "Epoch [8/50] Loss: 1.0433\n",
      "Epoch [8/50] Loss: 0.8409\n",
      "Epoch [8/50] Loss: 1.3906\n"
     ]
    },
    {
     "name": "stderr",
     "output_type": "stream",
     "text": [
      "1683it [06:48,  4.12it/s]"
     ]
    },
    {
     "name": "stdout",
     "output_type": "stream",
     "text": [
      "Overall Acc: \t 0.566819043813\n",
      "Mean Acc : \t 0.174112943609\n",
      "FreqW Acc : \t 0.384006068282\n",
      "Mean IoU : \t 0.123353874963\n"
     ]
    },
    {
     "name": "stderr",
     "output_type": "stream",
     "text": [
      "\n"
     ]
    },
    {
     "name": "stdout",
     "output_type": "stream",
     "text": [
      "Epoch [9/50] Loss: 1.0002\n",
      "Epoch [9/50] Loss: 0.9191\n",
      "Epoch [9/50] Loss: 1.3610\n",
      "Epoch [9/50] Loss: 0.9444\n",
      "Epoch [9/50] Loss: 1.0679\n",
      "Epoch [9/50] Loss: 1.5351\n",
      "Epoch [9/50] Loss: 1.0411\n",
      "Epoch [9/50] Loss: 1.0955\n",
      "Epoch [9/50] Loss: 0.9901\n",
      "Epoch [9/50] Loss: 1.6744\n",
      "Epoch [9/50] Loss: 2.4358\n",
      "Epoch [9/50] Loss: 1.8573\n",
      "Epoch [9/50] Loss: 1.1459\n",
      "Epoch [9/50] Loss: 1.0407\n",
      "Epoch [9/50] Loss: 1.1642\n",
      "Epoch [9/50] Loss: 1.0437\n",
      "Epoch [9/50] Loss: 1.3032\n"
     ]
    },
    {
     "name": "stderr",
     "output_type": "stream",
     "text": [
      "1683it [06:48,  4.12it/s]\n"
     ]
    },
    {
     "name": "stdout",
     "output_type": "stream",
     "text": [
      "Overall Acc: \t 0.572709388746\n",
      "Mean Acc : \t 0.191426506242\n",
      "FreqW Acc : \t 0.398230014301\n",
      "Mean IoU : \t 0.136330750503\n",
      "Epoch [10/50] Loss: 1.7053\n",
      "Epoch [10/50] Loss: 1.4518\n",
      "Epoch [10/50] Loss: 1.1957\n",
      "Epoch [10/50] Loss: 1.3864\n",
      "Epoch [10/50] Loss: 1.2942\n",
      "Epoch [10/50] Loss: 0.9073\n",
      "Epoch [10/50] Loss: 1.1479\n",
      "Epoch [10/50] Loss: 1.6591\n",
      "Epoch [10/50] Loss: 0.9017\n",
      "Epoch [10/50] Loss: 1.6013\n",
      "Epoch [10/50] Loss: 1.2469\n",
      "Epoch [10/50] Loss: 1.4668\n",
      "Epoch [10/50] Loss: 1.2049\n",
      "Epoch [10/50] Loss: 1.5714\n",
      "Epoch [10/50] Loss: 0.8738\n",
      "Epoch [10/50] Loss: 1.0453\n",
      "Epoch [10/50] Loss: 1.1717\n"
     ]
    },
    {
     "name": "stderr",
     "output_type": "stream",
     "text": [
      "1683it [06:47,  4.13it/s]"
     ]
    },
    {
     "name": "stdout",
     "output_type": "stream",
     "text": [
      "Overall Acc: \t 0.577760626846\n",
      "Mean Acc : \t 0.182666004557\n",
      "FreqW Acc : \t 0.40613221976\n",
      "Mean IoU : \t 0.134930499184\n"
     ]
    },
    {
     "name": "stderr",
     "output_type": "stream",
     "text": [
      "\n"
     ]
    },
    {
     "name": "stdout",
     "output_type": "stream",
     "text": [
      "Epoch [11/50] Loss: 0.7889\n",
      "Epoch [11/50] Loss: 1.7294\n",
      "Epoch [11/50] Loss: 1.1785\n",
      "Epoch [11/50] Loss: 1.2050\n",
      "Epoch [11/50] Loss: 1.6039\n",
      "Epoch [11/50] Loss: 1.0521\n",
      "Epoch [11/50] Loss: 1.6406\n",
      "Epoch [11/50] Loss: 1.2178\n",
      "Epoch [11/50] Loss: 1.5097\n",
      "Epoch [11/50] Loss: 1.2393\n",
      "Epoch [11/50] Loss: 0.8158\n",
      "Epoch [11/50] Loss: 1.2216\n",
      "Epoch [11/50] Loss: 1.0596\n",
      "Epoch [11/50] Loss: 1.3391\n",
      "Epoch [11/50] Loss: 0.9884\n",
      "Epoch [11/50] Loss: 0.9781\n",
      "Epoch [11/50] Loss: 1.1678\n"
     ]
    },
    {
     "name": "stderr",
     "output_type": "stream",
     "text": [
      "1683it [06:46,  4.14it/s]\n"
     ]
    },
    {
     "name": "stdout",
     "output_type": "stream",
     "text": [
      "Overall Acc: \t 0.581715015762\n",
      "Mean Acc : \t 0.192656577541\n",
      "FreqW Acc : \t 0.413266306813\n",
      "Mean IoU : \t 0.145102451819\n",
      "Epoch [12/50] Loss: 0.9448\n",
      "Epoch [12/50] Loss: 1.0355\n",
      "Epoch [12/50] Loss: 0.9756\n",
      "Epoch [12/50] Loss: 1.2157\n",
      "Epoch [12/50] Loss: 1.3644\n",
      "Epoch [12/50] Loss: 1.2263\n",
      "Epoch [12/50] Loss: 1.0091\n",
      "Epoch [12/50] Loss: 1.8716\n",
      "Epoch [12/50] Loss: 1.2398\n",
      "Epoch [12/50] Loss: 0.8974\n",
      "Epoch [12/50] Loss: 1.0214\n",
      "Epoch [12/50] Loss: 1.4785\n",
      "Epoch [12/50] Loss: 1.1126\n",
      "Epoch [12/50] Loss: 1.7735\n",
      "Epoch [12/50] Loss: 0.9479\n",
      "Epoch [12/50] Loss: 1.5218\n",
      "Epoch [12/50] Loss: 0.9848\n"
     ]
    },
    {
     "name": "stderr",
     "output_type": "stream",
     "text": [
      "1683it [06:46,  4.14it/s]\n"
     ]
    },
    {
     "name": "stdout",
     "output_type": "stream",
     "text": [
      "Overall Acc: \t 0.57699373677\n",
      "Mean Acc : \t 0.196747066112\n",
      "FreqW Acc : \t 0.395995454782\n",
      "Mean IoU : \t 0.146155581207\n",
      "Epoch [13/50] Loss: 1.0557\n",
      "Epoch [13/50] Loss: 1.2242\n",
      "Epoch [13/50] Loss: 1.2184\n",
      "Epoch [13/50] Loss: 0.9340\n",
      "Epoch [13/50] Loss: 0.9524\n",
      "Epoch [13/50] Loss: 0.7771\n",
      "Epoch [13/50] Loss: 1.1230\n",
      "Epoch [13/50] Loss: 0.8244\n",
      "Epoch [13/50] Loss: 0.8640\n",
      "Epoch [13/50] Loss: 1.1165\n",
      "Epoch [13/50] Loss: 0.9381\n",
      "Epoch [13/50] Loss: 0.9635\n",
      "Epoch [13/50] Loss: 1.0197\n",
      "Epoch [13/50] Loss: 1.4391\n",
      "Epoch [13/50] Loss: 1.2729\n",
      "Epoch [13/50] Loss: 1.0492\n",
      "Epoch [13/50] Loss: 1.1232\n"
     ]
    },
    {
     "name": "stderr",
     "output_type": "stream",
     "text": [
      "1683it [06:48,  4.12it/s]\n"
     ]
    },
    {
     "name": "stdout",
     "output_type": "stream",
     "text": [
      "Overall Acc: \t 0.584792190182\n",
      "Mean Acc : \t 0.204550938509\n",
      "FreqW Acc : \t 0.408018996946\n",
      "Mean IoU : \t 0.152027659616\n",
      "Epoch [14/50] Loss: 1.2660\n",
      "Epoch [14/50] Loss: 0.6781\n",
      "Epoch [14/50] Loss: 1.2675\n",
      "Epoch [14/50] Loss: 1.1096\n",
      "Epoch [14/50] Loss: 1.0317\n",
      "Epoch [14/50] Loss: 1.1175\n",
      "Epoch [14/50] Loss: 1.4061\n",
      "Epoch [14/50] Loss: 1.2794\n",
      "Epoch [14/50] Loss: 0.9029\n",
      "Epoch [14/50] Loss: 1.2487\n",
      "Epoch [14/50] Loss: 1.5694\n",
      "Epoch [14/50] Loss: 1.2529\n",
      "Epoch [14/50] Loss: 1.4212\n",
      "Epoch [14/50] Loss: 0.7674\n",
      "Epoch [14/50] Loss: 1.6513\n",
      "Epoch [14/50] Loss: 1.1806\n",
      "Epoch [14/50] Loss: 1.1939\n"
     ]
    },
    {
     "name": "stderr",
     "output_type": "stream",
     "text": [
      "1683it [06:46,  4.14it/s]\n"
     ]
    },
    {
     "name": "stdout",
     "output_type": "stream",
     "text": [
      "Overall Acc: \t 0.583839283227\n",
      "Mean Acc : \t 0.22737503287\n",
      "FreqW Acc : \t 0.406432060145\n",
      "Mean IoU : \t 0.16254287668\n",
      "Epoch [15/50] Loss: 1.0307\n",
      "Epoch [15/50] Loss: 1.1578\n",
      "Epoch [15/50] Loss: 1.3032\n",
      "Epoch [15/50] Loss: 1.3440\n",
      "Epoch [15/50] Loss: 0.9314\n",
      "Epoch [15/50] Loss: 0.9910\n",
      "Epoch [15/50] Loss: 1.5195\n",
      "Epoch [15/50] Loss: 1.0229\n",
      "Epoch [15/50] Loss: 1.6244\n",
      "Epoch [15/50] Loss: 1.0579\n",
      "Epoch [15/50] Loss: 1.5941\n",
      "Epoch [15/50] Loss: 1.5040\n",
      "Epoch [15/50] Loss: 0.6838\n",
      "Epoch [15/50] Loss: 0.9501\n",
      "Epoch [15/50] Loss: 1.2632\n",
      "Epoch [15/50] Loss: 0.9272\n",
      "Epoch [15/50] Loss: 1.2741\n"
     ]
    },
    {
     "name": "stderr",
     "output_type": "stream",
     "text": [
      "1683it [06:48,  4.12it/s]\n"
     ]
    },
    {
     "name": "stdout",
     "output_type": "stream",
     "text": [
      "Overall Acc: \t 0.586598935252\n",
      "Mean Acc : \t 0.227733169951\n",
      "FreqW Acc : \t 0.414823019736\n",
      "Mean IoU : \t 0.166925938756\n",
      "Epoch [16/50] Loss: 1.1112\n",
      "Epoch [16/50] Loss: 1.0017\n",
      "Epoch [16/50] Loss: 1.2388\n",
      "Epoch [16/50] Loss: 1.0595\n",
      "Epoch [16/50] Loss: 0.9826\n",
      "Epoch [16/50] Loss: 1.2036\n",
      "Epoch [16/50] Loss: 1.0152\n",
      "Epoch [16/50] Loss: 1.6054\n",
      "Epoch [16/50] Loss: 1.1602\n",
      "Epoch [16/50] Loss: 1.7885\n",
      "Epoch [16/50] Loss: 1.1575\n",
      "Epoch [16/50] Loss: 0.9559\n",
      "Epoch [16/50] Loss: 1.0279\n",
      "Epoch [16/50] Loss: 1.4958\n",
      "Epoch [16/50] Loss: 0.8381\n",
      "Epoch [16/50] Loss: 1.6246\n",
      "Epoch [16/50] Loss: 1.1519\n"
     ]
    },
    {
     "name": "stderr",
     "output_type": "stream",
     "text": [
      "1683it [06:48,  4.12it/s]\n"
     ]
    },
    {
     "name": "stdout",
     "output_type": "stream",
     "text": [
      "Overall Acc: \t 0.585332155037\n",
      "Mean Acc : \t 0.235429439159\n",
      "FreqW Acc : \t 0.411847550718\n",
      "Mean IoU : \t 0.170839713396\n",
      "Epoch [17/50] Loss: 1.2280\n",
      "Epoch [17/50] Loss: 1.0740\n",
      "Epoch [17/50] Loss: 0.6164\n",
      "Epoch [17/50] Loss: 0.9890\n",
      "Epoch [17/50] Loss: 1.0185\n",
      "Epoch [17/50] Loss: 1.2960\n",
      "Epoch [17/50] Loss: 1.2712\n",
      "Epoch [17/50] Loss: 1.1210\n",
      "Epoch [17/50] Loss: 1.3726\n",
      "Epoch [17/50] Loss: 2.1566\n",
      "Epoch [17/50] Loss: 1.5152\n",
      "Epoch [17/50] Loss: 1.8479\n",
      "Epoch [17/50] Loss: 1.1464\n",
      "Epoch [17/50] Loss: 0.8202\n",
      "Epoch [17/50] Loss: 1.0682\n",
      "Epoch [17/50] Loss: 1.1900\n",
      "Epoch [17/50] Loss: 1.1895\n"
     ]
    },
    {
     "name": "stderr",
     "output_type": "stream",
     "text": [
      "1683it [06:47,  4.13it/s]\n"
     ]
    },
    {
     "name": "stdout",
     "output_type": "stream",
     "text": [
      "Overall Acc: \t 0.592862201725\n",
      "Mean Acc : \t 0.245379583645\n",
      "FreqW Acc : \t 0.424236937186\n",
      "Mean IoU : \t 0.176859470935\n",
      "Epoch [18/50] Loss: 1.1390\n",
      "Epoch [18/50] Loss: 1.4678\n",
      "Epoch [18/50] Loss: 1.0158\n",
      "Epoch [18/50] Loss: 1.0064\n",
      "Epoch [18/50] Loss: 1.2296\n",
      "Epoch [18/50] Loss: 0.8886\n",
      "Epoch [18/50] Loss: 1.1034\n",
      "Epoch [18/50] Loss: 1.0323\n",
      "Epoch [18/50] Loss: 0.7019\n",
      "Epoch [18/50] Loss: 1.2030\n",
      "Epoch [18/50] Loss: 1.0845\n",
      "Epoch [18/50] Loss: 1.3873\n",
      "Epoch [18/50] Loss: 1.1209\n",
      "Epoch [18/50] Loss: 1.2613\n",
      "Epoch [18/50] Loss: 1.5058\n",
      "Epoch [18/50] Loss: 0.9874\n",
      "Epoch [18/50] Loss: 1.2114\n"
     ]
    },
    {
     "name": "stderr",
     "output_type": "stream",
     "text": [
      "1683it [06:45,  4.15it/s]"
     ]
    },
    {
     "name": "stdout",
     "output_type": "stream",
     "text": [
      "Overall Acc: \t 0.593507310647\n",
      "Mean Acc : \t 0.22231860437\n",
      "FreqW Acc : \t 0.422734794978\n",
      "Mean IoU : \t 0.167084768649\n"
     ]
    },
    {
     "name": "stderr",
     "output_type": "stream",
     "text": [
      "\n"
     ]
    },
    {
     "name": "stdout",
     "output_type": "stream",
     "text": [
      "Epoch [19/50] Loss: 0.8631\n",
      "Epoch [19/50] Loss: 0.9188\n",
      "Epoch [19/50] Loss: 1.3868\n",
      "Epoch [19/50] Loss: 0.8710\n",
      "Epoch [19/50] Loss: 0.7318\n",
      "Epoch [19/50] Loss: 0.9086\n",
      "Epoch [19/50] Loss: 1.0442\n",
      "Epoch [19/50] Loss: 0.9081\n",
      "Epoch [19/50] Loss: 0.7495\n",
      "Epoch [19/50] Loss: 1.3107\n",
      "Epoch [19/50] Loss: 0.8983\n",
      "Epoch [19/50] Loss: 1.0022\n",
      "Epoch [19/50] Loss: 1.0058\n",
      "Epoch [19/50] Loss: 1.0915\n",
      "Epoch [19/50] Loss: 0.7319\n",
      "Epoch [19/50] Loss: 0.6944\n",
      "Epoch [19/50] Loss: 0.7655\n"
     ]
    },
    {
     "name": "stderr",
     "output_type": "stream",
     "text": [
      "1683it [06:47,  4.13it/s]"
     ]
    },
    {
     "name": "stdout",
     "output_type": "stream",
     "text": [
      "Overall Acc: \t 0.596292187474\n",
      "Mean Acc : \t 0.234631121108\n",
      "FreqW Acc : \t 0.427752738168\n",
      "Mean IoU : \t 0.1750453689\n"
     ]
    },
    {
     "name": "stderr",
     "output_type": "stream",
     "text": [
      "\n"
     ]
    },
    {
     "name": "stdout",
     "output_type": "stream",
     "text": [
      "Epoch [20/50] Loss: 1.0687\n",
      "Epoch [20/50] Loss: 1.4769\n",
      "Epoch [20/50] Loss: 0.9168\n",
      "Epoch [20/50] Loss: 0.9765\n",
      "Epoch [20/50] Loss: 1.0643\n",
      "Epoch [20/50] Loss: 1.1999\n",
      "Epoch [20/50] Loss: 0.7531\n",
      "Epoch [20/50] Loss: 1.0240\n",
      "Epoch [20/50] Loss: 1.0735\n",
      "Epoch [20/50] Loss: 1.0993\n",
      "Epoch [20/50] Loss: 1.3582\n",
      "Epoch [20/50] Loss: 0.9305\n",
      "Epoch [20/50] Loss: 1.6048\n",
      "Epoch [20/50] Loss: 1.9248\n",
      "Epoch [20/50] Loss: 0.7869\n",
      "Epoch [20/50] Loss: 0.9719\n",
      "Epoch [20/50] Loss: 1.7602\n"
     ]
    },
    {
     "name": "stderr",
     "output_type": "stream",
     "text": [
      "1683it [06:49,  4.11it/s]\n"
     ]
    },
    {
     "name": "stdout",
     "output_type": "stream",
     "text": [
      "Overall Acc: \t 0.595997330974\n",
      "Mean Acc : \t 0.246548526004\n",
      "FreqW Acc : \t 0.42853165676\n",
      "Mean IoU : \t 0.181358364885\n",
      "Epoch [21/50] Loss: 1.1787\n",
      "Epoch [21/50] Loss: 1.1675\n",
      "Epoch [21/50] Loss: 0.9495\n",
      "Epoch [21/50] Loss: 0.7335\n",
      "Epoch [21/50] Loss: 1.0466\n",
      "Epoch [21/50] Loss: 1.3377\n",
      "Epoch [21/50] Loss: 1.0165\n",
      "Epoch [21/50] Loss: 1.2568\n",
      "Epoch [21/50] Loss: 1.2146\n",
      "Epoch [21/50] Loss: 0.8398\n",
      "Epoch [21/50] Loss: 1.1076\n",
      "Epoch [21/50] Loss: 1.2166\n",
      "Epoch [21/50] Loss: 1.4688\n",
      "Epoch [21/50] Loss: 1.0130\n",
      "Epoch [21/50] Loss: 0.6896\n",
      "Epoch [21/50] Loss: 0.9727\n",
      "Epoch [21/50] Loss: 1.2927\n"
     ]
    },
    {
     "name": "stderr",
     "output_type": "stream",
     "text": [
      "1683it [06:49,  4.11it/s]\n"
     ]
    },
    {
     "name": "stdout",
     "output_type": "stream",
     "text": [
      "Overall Acc: \t 0.593219198599\n",
      "Mean Acc : \t 0.25265291295\n",
      "FreqW Acc : \t 0.427714024634\n",
      "Mean IoU : \t 0.183523724148\n",
      "Epoch [22/50] Loss: 1.5487\n",
      "Epoch [22/50] Loss: 1.1771\n",
      "Epoch [22/50] Loss: 1.3221\n",
      "Epoch [22/50] Loss: 0.9975\n",
      "Epoch [22/50] Loss: 1.2929\n",
      "Epoch [22/50] Loss: 1.0761\n",
      "Epoch [22/50] Loss: 0.8773\n",
      "Epoch [22/50] Loss: 0.9355\n",
      "Epoch [22/50] Loss: 1.0001\n",
      "Epoch [22/50] Loss: 0.8879\n",
      "Epoch [22/50] Loss: 0.8668\n",
      "Epoch [22/50] Loss: 1.2935\n",
      "Epoch [22/50] Loss: 1.3146\n",
      "Epoch [22/50] Loss: 1.4816\n",
      "Epoch [22/50] Loss: 1.1692\n",
      "Epoch [22/50] Loss: 1.3163\n",
      "Epoch [22/50] Loss: 1.1408\n"
     ]
    },
    {
     "name": "stderr",
     "output_type": "stream",
     "text": [
      "1683it [06:48,  4.12it/s]"
     ]
    },
    {
     "name": "stdout",
     "output_type": "stream",
     "text": [
      "Overall Acc: \t 0.596421729808\n",
      "Mean Acc : \t 0.236081883289\n",
      "FreqW Acc : \t 0.428198969327\n",
      "Mean IoU : \t 0.176496648406\n"
     ]
    },
    {
     "name": "stderr",
     "output_type": "stream",
     "text": [
      "\n"
     ]
    },
    {
     "name": "stdout",
     "output_type": "stream",
     "text": [
      "Epoch [23/50] Loss: 1.0900\n",
      "Epoch [23/50] Loss: 0.8633\n",
      "Epoch [23/50] Loss: 1.3803\n",
      "Epoch [23/50] Loss: 1.0798\n",
      "Epoch [23/50] Loss: 0.7793\n",
      "Epoch [23/50] Loss: 1.3670\n",
      "Epoch [23/50] Loss: 1.0070\n",
      "Epoch [23/50] Loss: 1.1390\n",
      "Epoch [23/50] Loss: 0.8066\n",
      "Epoch [23/50] Loss: 0.9177\n",
      "Epoch [23/50] Loss: 0.9524\n",
      "Epoch [23/50] Loss: 1.2487\n",
      "Epoch [23/50] Loss: 1.0929\n",
      "Epoch [23/50] Loss: 1.1662\n",
      "Epoch [23/50] Loss: 1.0046\n",
      "Epoch [23/50] Loss: 0.8015\n",
      "Epoch [23/50] Loss: 1.3281\n"
     ]
    },
    {
     "name": "stderr",
     "output_type": "stream",
     "text": [
      "1683it [06:45,  4.15it/s]"
     ]
    },
    {
     "name": "stdout",
     "output_type": "stream",
     "text": [
      "Overall Acc: \t 0.598141189004\n",
      "Mean Acc : \t 0.239436075723\n",
      "FreqW Acc : \t 0.429635064542\n",
      "Mean IoU : \t 0.180570395465\n"
     ]
    },
    {
     "name": "stderr",
     "output_type": "stream",
     "text": [
      "\n"
     ]
    },
    {
     "name": "stdout",
     "output_type": "stream",
     "text": [
      "Epoch [24/50] Loss: 1.2306\n",
      "Epoch [24/50] Loss: 1.0134\n",
      "Epoch [24/50] Loss: 0.9020\n",
      "Epoch [24/50] Loss: 0.9679\n",
      "Epoch [24/50] Loss: 1.1522\n",
      "Epoch [24/50] Loss: 1.3428\n",
      "Epoch [24/50] Loss: 1.1178\n",
      "Epoch [24/50] Loss: 0.9956\n",
      "Epoch [24/50] Loss: 1.2523\n",
      "Epoch [24/50] Loss: 1.5668\n",
      "Epoch [24/50] Loss: 0.9964\n",
      "Epoch [24/50] Loss: 1.0723\n",
      "Epoch [24/50] Loss: 1.1087\n",
      "Epoch [24/50] Loss: 1.1967\n",
      "Epoch [24/50] Loss: 1.1496\n",
      "Epoch [24/50] Loss: 1.0435\n",
      "Epoch [24/50] Loss: 1.2247\n"
     ]
    },
    {
     "name": "stderr",
     "output_type": "stream",
     "text": [
      "1683it [06:46,  4.14it/s]\n"
     ]
    },
    {
     "name": "stdout",
     "output_type": "stream",
     "text": [
      "Overall Acc: \t 0.594620030343\n",
      "Mean Acc : \t 0.267123234197\n",
      "FreqW Acc : \t 0.432271498742\n",
      "Mean IoU : \t 0.191996531602\n",
      "Epoch [25/50] Loss: 0.7313\n",
      "Epoch [25/50] Loss: 0.9371\n",
      "Epoch [25/50] Loss: 1.2951\n",
      "Epoch [25/50] Loss: 0.9284\n",
      "Epoch [25/50] Loss: 1.1239\n",
      "Epoch [25/50] Loss: 1.2262\n",
      "Epoch [25/50] Loss: 1.1675\n",
      "Epoch [25/50] Loss: 1.2220\n",
      "Epoch [25/50] Loss: 1.3890\n",
      "Epoch [25/50] Loss: 1.1217\n",
      "Epoch [25/50] Loss: 0.8112\n",
      "Epoch [25/50] Loss: 0.7581\n",
      "Epoch [25/50] Loss: 1.1335\n",
      "Epoch [25/50] Loss: 0.9265\n",
      "Epoch [25/50] Loss: 1.2093\n",
      "Epoch [25/50] Loss: 0.9909\n",
      "Epoch [25/50] Loss: 1.0397\n"
     ]
    },
    {
     "name": "stderr",
     "output_type": "stream",
     "text": [
      "1683it [06:46,  4.14it/s]\n"
     ]
    },
    {
     "name": "stdout",
     "output_type": "stream",
     "text": [
      "Overall Acc: \t 0.595804728247\n",
      "Mean Acc : \t 0.26770541223\n",
      "FreqW Acc : \t 0.434751131533\n",
      "Mean IoU : \t 0.195002842338\n",
      "Epoch [26/50] Loss: 1.0493\n",
      "Epoch [26/50] Loss: 0.9693\n",
      "Epoch [26/50] Loss: 1.0696\n",
      "Epoch [26/50] Loss: 1.5101\n",
      "Epoch [26/50] Loss: 1.1835\n",
      "Epoch [26/50] Loss: 1.2096\n",
      "Epoch [26/50] Loss: 1.2692\n",
      "Epoch [26/50] Loss: 1.0495\n",
      "Epoch [26/50] Loss: 1.2405\n",
      "Epoch [26/50] Loss: 1.1108\n",
      "Epoch [26/50] Loss: 0.5995\n",
      "Epoch [26/50] Loss: 1.1605\n",
      "Epoch [26/50] Loss: 0.9771\n",
      "Epoch [26/50] Loss: 1.1561\n",
      "Epoch [26/50] Loss: 1.1045\n",
      "Epoch [26/50] Loss: 1.2566\n",
      "Epoch [26/50] Loss: 1.2321\n"
     ]
    },
    {
     "name": "stderr",
     "output_type": "stream",
     "text": [
      "1683it [06:48,  4.12it/s]"
     ]
    },
    {
     "name": "stdout",
     "output_type": "stream",
     "text": [
      "Overall Acc: \t 0.596232921922\n",
      "Mean Acc : \t 0.256338370195\n",
      "FreqW Acc : \t 0.42760610531\n",
      "Mean IoU : \t 0.191018015682\n"
     ]
    },
    {
     "name": "stderr",
     "output_type": "stream",
     "text": [
      "\n"
     ]
    },
    {
     "name": "stdout",
     "output_type": "stream",
     "text": [
      "Epoch [27/50] Loss: 0.8036\n",
      "Epoch [27/50] Loss: 0.8665\n",
      "Epoch [27/50] Loss: 1.1717\n",
      "Epoch [27/50] Loss: 1.5779\n",
      "Epoch [27/50] Loss: 0.7840\n",
      "Epoch [27/50] Loss: 1.0711\n",
      "Epoch [27/50] Loss: 0.9506\n",
      "Epoch [27/50] Loss: 0.8471\n",
      "Epoch [27/50] Loss: 0.8216\n",
      "Epoch [27/50] Loss: 1.2053\n",
      "Epoch [27/50] Loss: 1.0815\n",
      "Epoch [27/50] Loss: 0.9488\n",
      "Epoch [27/50] Loss: 1.2244\n",
      "Epoch [27/50] Loss: 1.1326\n",
      "Epoch [27/50] Loss: 0.8926\n",
      "Epoch [27/50] Loss: 0.8147\n",
      "Epoch [27/50] Loss: 1.1104\n"
     ]
    },
    {
     "name": "stderr",
     "output_type": "stream",
     "text": [
      "1683it [06:48,  4.12it/s]\n"
     ]
    },
    {
     "name": "stdout",
     "output_type": "stream",
     "text": [
      "Overall Acc: \t 0.600674898366\n",
      "Mean Acc : \t 0.270880588867\n",
      "FreqW Acc : \t 0.436812793998\n",
      "Mean IoU : \t 0.199141620527\n",
      "Epoch [28/50] Loss: 1.3714\n",
      "Epoch [28/50] Loss: 1.0926\n",
      "Epoch [28/50] Loss: 0.8883\n",
      "Epoch [28/50] Loss: 1.3372\n",
      "Epoch [28/50] Loss: 0.9157\n",
      "Epoch [28/50] Loss: 1.2826\n",
      "Epoch [28/50] Loss: 0.9999\n",
      "Epoch [28/50] Loss: 0.8213\n",
      "Epoch [28/50] Loss: 1.2277\n",
      "Epoch [28/50] Loss: 1.0567\n",
      "Epoch [28/50] Loss: 1.1345\n",
      "Epoch [28/50] Loss: 0.9443\n",
      "Epoch [28/50] Loss: 0.6329\n",
      "Epoch [28/50] Loss: 0.9175\n",
      "Epoch [28/50] Loss: 1.6195\n",
      "Epoch [28/50] Loss: 1.0061\n",
      "Epoch [28/50] Loss: 1.1410\n"
     ]
    },
    {
     "name": "stderr",
     "output_type": "stream",
     "text": [
      "1683it [06:47,  4.13it/s]"
     ]
    },
    {
     "name": "stdout",
     "output_type": "stream",
     "text": [
      "Overall Acc: \t 0.597500923244\n",
      "Mean Acc : \t 0.255850155014\n",
      "FreqW Acc : \t 0.435094557448\n",
      "Mean IoU : \t 0.190068082198\n"
     ]
    },
    {
     "name": "stderr",
     "output_type": "stream",
     "text": [
      "\n"
     ]
    },
    {
     "name": "stdout",
     "output_type": "stream",
     "text": [
      "Epoch [29/50] Loss: 0.9890\n",
      "Epoch [29/50] Loss: 0.9887\n",
      "Epoch [29/50] Loss: 1.1806\n",
      "Epoch [29/50] Loss: 1.1157\n",
      "Epoch [29/50] Loss: 0.9820\n",
      "Epoch [29/50] Loss: 0.9653\n",
      "Epoch [29/50] Loss: 0.9891\n",
      "Epoch [29/50] Loss: 0.8360\n",
      "Epoch [29/50] Loss: 1.3819\n",
      "Epoch [29/50] Loss: 1.0072\n",
      "Epoch [29/50] Loss: 1.0588\n",
      "Epoch [29/50] Loss: 0.8979\n",
      "Epoch [29/50] Loss: 0.6986\n",
      "Epoch [29/50] Loss: 0.9286\n",
      "Epoch [29/50] Loss: 0.7198\n",
      "Epoch [29/50] Loss: 0.9016\n",
      "Epoch [29/50] Loss: 0.7792\n"
     ]
    },
    {
     "name": "stderr",
     "output_type": "stream",
     "text": [
      "1683it [06:45,  4.15it/s]"
     ]
    },
    {
     "name": "stdout",
     "output_type": "stream",
     "text": [
      "Overall Acc: \t 0.597498816288\n",
      "Mean Acc : \t 0.256499866878\n",
      "FreqW Acc : \t 0.430962796387\n",
      "Mean IoU : \t 0.189028108157\n"
     ]
    },
    {
     "name": "stderr",
     "output_type": "stream",
     "text": [
      "\n"
     ]
    },
    {
     "name": "stdout",
     "output_type": "stream",
     "text": [
      "Epoch [30/50] Loss: 0.9455\n",
      "Epoch [30/50] Loss: 1.2755\n",
      "Epoch [30/50] Loss: 0.8393\n",
      "Epoch [30/50] Loss: 1.2673\n",
      "Epoch [30/50] Loss: 0.8217\n",
      "Epoch [30/50] Loss: 0.9184\n",
      "Epoch [30/50] Loss: 1.0129\n",
      "Epoch [30/50] Loss: 0.6255\n",
      "Epoch [30/50] Loss: 1.3082\n",
      "Epoch [30/50] Loss: 0.8021\n",
      "Epoch [30/50] Loss: 1.1181\n",
      "Epoch [30/50] Loss: 1.2576\n",
      "Epoch [30/50] Loss: 1.5020\n",
      "Epoch [30/50] Loss: 0.8013\n",
      "Epoch [30/50] Loss: 0.8845\n",
      "Epoch [30/50] Loss: 0.9938\n",
      "Epoch [30/50] Loss: 0.9506\n"
     ]
    },
    {
     "name": "stderr",
     "output_type": "stream",
     "text": [
      "1683it [06:47,  4.13it/s]"
     ]
    },
    {
     "name": "stdout",
     "output_type": "stream",
     "text": [
      "Overall Acc: \t 0.601366619499\n",
      "Mean Acc : \t 0.253520042197\n",
      "FreqW Acc : \t 0.436419816276\n",
      "Mean IoU : \t 0.190639648495\n"
     ]
    },
    {
     "name": "stderr",
     "output_type": "stream",
     "text": [
      "\n"
     ]
    },
    {
     "name": "stdout",
     "output_type": "stream",
     "text": [
      "Epoch [31/50] Loss: 1.1117\n",
      "Epoch [31/50] Loss: 1.3620\n",
      "Epoch [31/50] Loss: 0.7138\n",
      "Epoch [31/50] Loss: 0.9445\n",
      "Epoch [31/50] Loss: 0.8719\n",
      "Epoch [31/50] Loss: 0.9865\n",
      "Epoch [31/50] Loss: 0.9716\n",
      "Epoch [31/50] Loss: 0.8838\n",
      "Epoch [31/50] Loss: 0.5634\n",
      "Epoch [31/50] Loss: 0.9688\n",
      "Epoch [31/50] Loss: 0.8210\n",
      "Epoch [31/50] Loss: 0.6242\n",
      "Epoch [31/50] Loss: 0.7360\n",
      "Epoch [31/50] Loss: 1.0242\n",
      "Epoch [31/50] Loss: 0.8974\n",
      "Epoch [31/50] Loss: 1.1198\n",
      "Epoch [31/50] Loss: 1.3248\n"
     ]
    },
    {
     "name": "stderr",
     "output_type": "stream",
     "text": [
      "1683it [06:46,  4.14it/s]"
     ]
    },
    {
     "name": "stdout",
     "output_type": "stream",
     "text": [
      "Overall Acc: \t 0.602762398546\n",
      "Mean Acc : \t 0.26680982547\n",
      "FreqW Acc : \t 0.437275445644\n",
      "Mean IoU : \t 0.197821483532\n"
     ]
    },
    {
     "name": "stderr",
     "output_type": "stream",
     "text": [
      "\n"
     ]
    },
    {
     "name": "stdout",
     "output_type": "stream",
     "text": [
      "Epoch [32/50] Loss: 0.8550\n",
      "Epoch [32/50] Loss: 1.0172\n",
      "Epoch [32/50] Loss: 0.6705\n",
      "Epoch [32/50] Loss: 0.9517\n",
      "Epoch [32/50] Loss: 0.9401\n",
      "Epoch [32/50] Loss: 1.0273\n",
      "Epoch [32/50] Loss: 1.0775\n",
      "Epoch [32/50] Loss: 0.6212\n",
      "Epoch [32/50] Loss: 1.3362\n",
      "Epoch [32/50] Loss: 0.5810\n",
      "Epoch [32/50] Loss: 0.9072\n",
      "Epoch [32/50] Loss: 0.7524\n",
      "Epoch [32/50] Loss: 0.8355\n",
      "Epoch [32/50] Loss: 0.9849\n",
      "Epoch [32/50] Loss: 0.7778\n",
      "Epoch [32/50] Loss: 1.2025\n",
      "Epoch [32/50] Loss: 0.7770\n"
     ]
    },
    {
     "name": "stderr",
     "output_type": "stream",
     "text": [
      "1683it [06:46,  4.14it/s]"
     ]
    },
    {
     "name": "stdout",
     "output_type": "stream",
     "text": [
      "Overall Acc: \t 0.599267649689\n",
      "Mean Acc : \t 0.275346839984\n",
      "FreqW Acc : \t 0.430552266572\n",
      "Mean IoU : \t 0.198456995546\n"
     ]
    },
    {
     "name": "stderr",
     "output_type": "stream",
     "text": [
      "\n"
     ]
    },
    {
     "name": "stdout",
     "output_type": "stream",
     "text": [
      "Epoch [33/50] Loss: 0.8023\n",
      "Epoch [33/50] Loss: 1.0919\n",
      "Epoch [33/50] Loss: 1.0152\n",
      "Epoch [33/50] Loss: 1.2254\n",
      "Epoch [33/50] Loss: 1.1068\n",
      "Epoch [33/50] Loss: 0.7059\n",
      "Epoch [33/50] Loss: 0.7658\n",
      "Epoch [33/50] Loss: 0.9103\n",
      "Epoch [33/50] Loss: 0.8322\n",
      "Epoch [33/50] Loss: 0.8702\n",
      "Epoch [33/50] Loss: 1.0418\n",
      "Epoch [33/50] Loss: 1.2031\n",
      "Epoch [33/50] Loss: 0.8353\n",
      "Epoch [33/50] Loss: 0.9063\n",
      "Epoch [33/50] Loss: 1.2435\n",
      "Epoch [33/50] Loss: 1.1562\n",
      "Epoch [33/50] Loss: 0.9659\n"
     ]
    },
    {
     "name": "stderr",
     "output_type": "stream",
     "text": [
      "1683it [06:46,  4.14it/s]\n"
     ]
    },
    {
     "name": "stdout",
     "output_type": "stream",
     "text": [
      "Overall Acc: \t 0.600206601606\n",
      "Mean Acc : \t 0.279333216925\n",
      "FreqW Acc : \t 0.434346943839\n",
      "Mean IoU : \t 0.202780707195\n",
      "Epoch [34/50] Loss: 0.8325\n",
      "Epoch [34/50] Loss: 1.5050\n",
      "Epoch [34/50] Loss: 1.1996\n",
      "Epoch [34/50] Loss: 0.7318\n",
      "Epoch [34/50] Loss: 0.7155\n",
      "Epoch [34/50] Loss: 1.0703\n",
      "Epoch [34/50] Loss: 1.2614\n",
      "Epoch [34/50] Loss: 0.7730\n",
      "Epoch [34/50] Loss: 0.9105\n",
      "Epoch [34/50] Loss: 0.8932\n",
      "Epoch [34/50] Loss: 0.6868\n",
      "Epoch [34/50] Loss: 1.0163\n",
      "Epoch [34/50] Loss: 1.1561\n",
      "Epoch [34/50] Loss: 0.9888\n",
      "Epoch [34/50] Loss: 0.8646\n",
      "Epoch [34/50] Loss: 0.8718\n",
      "Epoch [34/50] Loss: 1.5125\n"
     ]
    },
    {
     "name": "stderr",
     "output_type": "stream",
     "text": [
      "1683it [06:45,  4.15it/s]"
     ]
    },
    {
     "name": "stdout",
     "output_type": "stream",
     "text": [
      "Overall Acc: \t 0.600202866724\n",
      "Mean Acc : \t 0.27285037442\n",
      "FreqW Acc : \t 0.437435447847\n",
      "Mean IoU : \t 0.201080196661\n"
     ]
    },
    {
     "name": "stderr",
     "output_type": "stream",
     "text": [
      "\n"
     ]
    },
    {
     "name": "stdout",
     "output_type": "stream",
     "text": [
      "Epoch [35/50] Loss: 1.1472\n",
      "Epoch [35/50] Loss: 0.8676\n",
      "Epoch [35/50] Loss: 0.7889\n",
      "Epoch [35/50] Loss: 0.9386\n",
      "Epoch [35/50] Loss: 0.8038\n",
      "Epoch [35/50] Loss: 0.8223\n",
      "Epoch [35/50] Loss: 0.7813\n",
      "Epoch [35/50] Loss: 0.6943\n",
      "Epoch [35/50] Loss: 0.7146\n",
      "Epoch [35/50] Loss: 1.0596\n",
      "Epoch [35/50] Loss: 0.9550\n",
      "Epoch [35/50] Loss: 1.3815\n",
      "Epoch [35/50] Loss: 0.9044\n",
      "Epoch [35/50] Loss: 1.1189\n",
      "Epoch [35/50] Loss: 0.9133\n",
      "Epoch [35/50] Loss: 0.7987\n",
      "Epoch [35/50] Loss: 0.9177\n"
     ]
    },
    {
     "name": "stderr",
     "output_type": "stream",
     "text": [
      "1683it [06:45,  4.15it/s]"
     ]
    },
    {
     "name": "stdout",
     "output_type": "stream",
     "text": [
      "Overall Acc: \t 0.601562510316\n",
      "Mean Acc : \t 0.278531134168\n",
      "FreqW Acc : \t 0.435207253816\n",
      "Mean IoU : \t 0.199727210652\n"
     ]
    },
    {
     "name": "stderr",
     "output_type": "stream",
     "text": [
      "\n"
     ]
    },
    {
     "name": "stdout",
     "output_type": "stream",
     "text": [
      "Epoch [36/50] Loss: 0.9777\n",
      "Epoch [36/50] Loss: 0.7498\n",
      "Epoch [36/50] Loss: 0.9800\n",
      "Epoch [36/50] Loss: 0.9751\n",
      "Epoch [36/50] Loss: 0.8218\n",
      "Epoch [36/50] Loss: 1.2681\n",
      "Epoch [36/50] Loss: 0.7271\n",
      "Epoch [36/50] Loss: 1.1304\n",
      "Epoch [36/50] Loss: 0.8075\n",
      "Epoch [36/50] Loss: 1.1210\n",
      "Epoch [36/50] Loss: 1.0541\n",
      "Epoch [36/50] Loss: 0.9313\n",
      "Epoch [36/50] Loss: 0.8674\n",
      "Epoch [36/50] Loss: 1.0352\n",
      "Epoch [36/50] Loss: 1.0070\n",
      "Epoch [36/50] Loss: 0.7009\n",
      "Epoch [36/50] Loss: 0.5247\n"
     ]
    },
    {
     "name": "stderr",
     "output_type": "stream",
     "text": [
      "1683it [06:46,  4.14it/s]"
     ]
    },
    {
     "name": "stdout",
     "output_type": "stream",
     "text": [
      "Overall Acc: \t 0.59885161872\n",
      "Mean Acc : \t 0.279426928754\n",
      "FreqW Acc : \t 0.432260355799\n",
      "Mean IoU : \t 0.201588085978\n"
     ]
    },
    {
     "name": "stderr",
     "output_type": "stream",
     "text": [
      "\n"
     ]
    },
    {
     "name": "stdout",
     "output_type": "stream",
     "text": [
      "Epoch [37/50] Loss: 0.7252\n",
      "Epoch [37/50] Loss: 0.5331\n",
      "Epoch [37/50] Loss: 0.7968\n",
      "Epoch [37/50] Loss: 0.6247\n",
      "Epoch [37/50] Loss: 0.9157\n",
      "Epoch [37/50] Loss: 0.7605\n",
      "Epoch [37/50] Loss: 1.1448\n",
      "Epoch [37/50] Loss: 0.8210\n",
      "Epoch [37/50] Loss: 1.3442\n",
      "Epoch [37/50] Loss: 0.9413\n",
      "Epoch [37/50] Loss: 1.0275\n",
      "Epoch [37/50] Loss: 0.7727\n",
      "Epoch [37/50] Loss: 0.7850\n",
      "Epoch [37/50] Loss: 1.0199\n",
      "Epoch [37/50] Loss: 1.0810\n",
      "Epoch [37/50] Loss: 1.1128\n",
      "Epoch [37/50] Loss: 1.0958\n"
     ]
    },
    {
     "name": "stderr",
     "output_type": "stream",
     "text": [
      "1683it [06:46,  4.14it/s]\n"
     ]
    },
    {
     "name": "stdout",
     "output_type": "stream",
     "text": [
      "Overall Acc: \t 0.60020668542\n",
      "Mean Acc : \t 0.286355889539\n",
      "FreqW Acc : \t 0.440240722397\n",
      "Mean IoU : \t 0.208183483988\n",
      "Epoch [38/50] Loss: 0.9115\n",
      "Epoch [38/50] Loss: 1.1370\n",
      "Epoch [38/50] Loss: 0.8392\n",
      "Epoch [38/50] Loss: 0.6636\n",
      "Epoch [38/50] Loss: 1.1269\n",
      "Epoch [38/50] Loss: 0.6048\n",
      "Epoch [38/50] Loss: 1.2510\n",
      "Epoch [38/50] Loss: 0.8564\n",
      "Epoch [38/50] Loss: 0.8926\n",
      "Epoch [38/50] Loss: 1.0193\n",
      "Epoch [38/50] Loss: 0.7683\n",
      "Epoch [38/50] Loss: 0.8103\n",
      "Epoch [38/50] Loss: 0.5583\n",
      "Epoch [38/50] Loss: 0.8523\n",
      "Epoch [38/50] Loss: 1.0261\n",
      "Epoch [38/50] Loss: 1.0131\n",
      "Epoch [38/50] Loss: 0.9954\n"
     ]
    },
    {
     "name": "stderr",
     "output_type": "stream",
     "text": [
      "1683it [06:45,  4.15it/s]"
     ]
    },
    {
     "name": "stdout",
     "output_type": "stream",
     "text": [
      "Overall Acc: \t 0.59794270382\n",
      "Mean Acc : \t 0.273336205727\n",
      "FreqW Acc : \t 0.434038461316\n",
      "Mean IoU : \t 0.198879534425\n"
     ]
    },
    {
     "name": "stderr",
     "output_type": "stream",
     "text": [
      "\n"
     ]
    },
    {
     "name": "stdout",
     "output_type": "stream",
     "text": [
      "Epoch [39/50] Loss: 0.7326\n",
      "Epoch [39/50] Loss: 0.7327\n",
      "Epoch [39/50] Loss: 0.8319\n",
      "Epoch [39/50] Loss: 0.8041\n",
      "Epoch [39/50] Loss: 1.0464\n",
      "Epoch [39/50] Loss: 0.8537\n",
      "Epoch [39/50] Loss: 0.8162\n",
      "Epoch [39/50] Loss: 0.8643\n",
      "Epoch [39/50] Loss: 1.1013\n",
      "Epoch [39/50] Loss: 0.8797\n",
      "Epoch [39/50] Loss: 1.0294\n",
      "Epoch [39/50] Loss: 0.8686\n",
      "Epoch [39/50] Loss: 0.6852\n",
      "Epoch [39/50] Loss: 1.0063\n",
      "Epoch [39/50] Loss: 0.8958\n",
      "Epoch [39/50] Loss: 0.9874\n",
      "Epoch [39/50] Loss: 0.7425\n"
     ]
    },
    {
     "name": "stderr",
     "output_type": "stream",
     "text": [
      "1683it [06:45,  4.15it/s]"
     ]
    },
    {
     "name": "stdout",
     "output_type": "stream",
     "text": [
      "Overall Acc: \t 0.598238079323\n",
      "Mean Acc : \t 0.270576136635\n",
      "FreqW Acc : \t 0.431563248635\n",
      "Mean IoU : \t 0.196169518285\n"
     ]
    },
    {
     "name": "stderr",
     "output_type": "stream",
     "text": [
      "\n"
     ]
    },
    {
     "name": "stdout",
     "output_type": "stream",
     "text": [
      "Epoch [40/50] Loss: 0.7487\n",
      "Epoch [40/50] Loss: 0.6620\n",
      "Epoch [40/50] Loss: 0.5754\n",
      "Epoch [40/50] Loss: 1.0281\n",
      "Epoch [40/50] Loss: 0.7073\n",
      "Epoch [40/50] Loss: 1.0590\n",
      "Epoch [40/50] Loss: 0.6291\n",
      "Epoch [40/50] Loss: 0.9672\n",
      "Epoch [40/50] Loss: 0.7458\n",
      "Epoch [40/50] Loss: 1.0119\n",
      "Epoch [40/50] Loss: 1.1471\n",
      "Epoch [40/50] Loss: 1.0278\n",
      "Epoch [40/50] Loss: 0.6897\n",
      "Epoch [40/50] Loss: 0.8332\n",
      "Epoch [40/50] Loss: 0.8818\n",
      "Epoch [40/50] Loss: 0.7351\n",
      "Epoch [40/50] Loss: 0.8254\n"
     ]
    },
    {
     "name": "stderr",
     "output_type": "stream",
     "text": [
      "1683it [06:46,  4.14it/s]"
     ]
    },
    {
     "name": "stdout",
     "output_type": "stream",
     "text": [
      "Overall Acc: \t 0.600610278386\n",
      "Mean Acc : \t 0.289599801013\n",
      "FreqW Acc : \t 0.437754442786\n",
      "Mean IoU : \t 0.207706065045\n"
     ]
    },
    {
     "name": "stderr",
     "output_type": "stream",
     "text": [
      "\n"
     ]
    },
    {
     "name": "stdout",
     "output_type": "stream",
     "text": [
      "Epoch [41/50] Loss: 0.7646\n",
      "Epoch [41/50] Loss: 0.9312\n",
      "Epoch [41/50] Loss: 0.9275\n",
      "Epoch [41/50] Loss: 1.0133\n",
      "Epoch [41/50] Loss: 0.6582\n",
      "Epoch [41/50] Loss: 0.7292\n",
      "Epoch [41/50] Loss: 0.8592\n",
      "Epoch [41/50] Loss: 1.1214\n",
      "Epoch [41/50] Loss: 0.9995\n",
      "Epoch [41/50] Loss: 0.8778\n",
      "Epoch [41/50] Loss: 1.3858\n",
      "Epoch [41/50] Loss: 0.9691\n",
      "Epoch [41/50] Loss: 0.9350\n",
      "Epoch [41/50] Loss: 1.0409\n",
      "Epoch [41/50] Loss: 1.2877\n",
      "Epoch [41/50] Loss: 0.9079\n",
      "Epoch [41/50] Loss: 0.8171\n"
     ]
    },
    {
     "name": "stderr",
     "output_type": "stream",
     "text": [
      "1683it [06:45,  4.16it/s]"
     ]
    },
    {
     "name": "stdout",
     "output_type": "stream",
     "text": [
      "Overall Acc: \t 0.598709577778\n",
      "Mean Acc : \t 0.293241262978\n",
      "FreqW Acc : \t 0.433287298468\n",
      "Mean IoU : \t 0.206407806854\n"
     ]
    },
    {
     "name": "stderr",
     "output_type": "stream",
     "text": [
      "\n"
     ]
    },
    {
     "name": "stdout",
     "output_type": "stream",
     "text": [
      "Epoch [42/50] Loss: 0.9887\n",
      "Epoch [42/50] Loss: 0.8166\n",
      "Epoch [42/50] Loss: 1.0526\n",
      "Epoch [42/50] Loss: 0.6849\n",
      "Epoch [42/50] Loss: 0.7637\n",
      "Epoch [42/50] Loss: 0.7752\n",
      "Epoch [42/50] Loss: 0.9904\n",
      "Epoch [42/50] Loss: 0.9453\n",
      "Epoch [42/50] Loss: 0.8162\n",
      "Epoch [42/50] Loss: 0.7089\n",
      "Epoch [42/50] Loss: 0.7224\n",
      "Epoch [42/50] Loss: 1.1143\n",
      "Epoch [42/50] Loss: 0.8653\n",
      "Epoch [42/50] Loss: 1.0826\n",
      "Epoch [42/50] Loss: 1.0418\n",
      "Epoch [42/50] Loss: 0.8598\n",
      "Epoch [42/50] Loss: 0.8108\n"
     ]
    },
    {
     "name": "stderr",
     "output_type": "stream",
     "text": [
      "1683it [06:46,  4.14it/s]"
     ]
    },
    {
     "name": "stdout",
     "output_type": "stream",
     "text": [
      "Overall Acc: \t 0.59973615405\n",
      "Mean Acc : \t 0.267227990238\n",
      "FreqW Acc : \t 0.434512427628\n",
      "Mean IoU : \t 0.199830010181\n"
     ]
    },
    {
     "name": "stderr",
     "output_type": "stream",
     "text": [
      "\n"
     ]
    },
    {
     "name": "stdout",
     "output_type": "stream",
     "text": [
      "Epoch [43/50] Loss: 0.8575\n",
      "Epoch [43/50] Loss: 0.9316\n",
      "Epoch [43/50] Loss: 0.7367\n",
      "Epoch [43/50] Loss: 0.8788\n",
      "Epoch [43/50] Loss: 0.6750\n",
      "Epoch [43/50] Loss: 1.0137\n",
      "Epoch [43/50] Loss: 0.7560\n",
      "Epoch [43/50] Loss: 0.7264\n",
      "Epoch [43/50] Loss: 0.7597\n",
      "Epoch [43/50] Loss: 1.0545\n",
      "Epoch [43/50] Loss: 0.7586\n",
      "Epoch [43/50] Loss: 0.8689\n",
      "Epoch [43/50] Loss: 0.9475\n",
      "Epoch [43/50] Loss: 0.9976\n",
      "Epoch [43/50] Loss: 0.7075\n",
      "Epoch [43/50] Loss: 0.9538\n",
      "Epoch [43/50] Loss: 0.8475\n"
     ]
    },
    {
     "name": "stderr",
     "output_type": "stream",
     "text": [
      "1683it [06:46,  4.14it/s]"
     ]
    },
    {
     "name": "stdout",
     "output_type": "stream",
     "text": [
      "Overall Acc: \t 0.59791706575\n",
      "Mean Acc : \t 0.271879163631\n",
      "FreqW Acc : \t 0.429679908543\n",
      "Mean IoU : \t 0.202091348329\n"
     ]
    },
    {
     "name": "stderr",
     "output_type": "stream",
     "text": [
      "\n"
     ]
    },
    {
     "name": "stdout",
     "output_type": "stream",
     "text": [
      "Epoch [44/50] Loss: 0.8275\n",
      "Epoch [44/50] Loss: 0.7754\n",
      "Epoch [44/50] Loss: 0.6027\n",
      "Epoch [44/50] Loss: 0.9683\n",
      "Epoch [44/50] Loss: 0.5253\n",
      "Epoch [44/50] Loss: 0.7997\n",
      "Epoch [44/50] Loss: 0.9224\n",
      "Epoch [44/50] Loss: 1.0118\n",
      "Epoch [44/50] Loss: 0.6804\n",
      "Epoch [44/50] Loss: 0.9658\n",
      "Epoch [44/50] Loss: 0.9151\n",
      "Epoch [44/50] Loss: 0.8805\n",
      "Epoch [44/50] Loss: 0.8838\n",
      "Epoch [44/50] Loss: 1.0001\n",
      "Epoch [44/50] Loss: 0.9791\n",
      "Epoch [44/50] Loss: 1.0369\n",
      "Epoch [44/50] Loss: 0.6569\n"
     ]
    },
    {
     "name": "stderr",
     "output_type": "stream",
     "text": [
      "1683it [06:46,  4.14it/s]"
     ]
    },
    {
     "name": "stdout",
     "output_type": "stream",
     "text": [
      "Overall Acc: \t 0.600713077595\n",
      "Mean Acc : \t 0.281008982891\n",
      "FreqW Acc : \t 0.438321514495\n",
      "Mean IoU : \t 0.205755176435\n"
     ]
    },
    {
     "name": "stderr",
     "output_type": "stream",
     "text": [
      "\n"
     ]
    },
    {
     "name": "stdout",
     "output_type": "stream",
     "text": [
      "Epoch [45/50] Loss: 0.4932\n",
      "Epoch [45/50] Loss: 0.9808\n",
      "Epoch [45/50] Loss: 0.7010\n",
      "Epoch [45/50] Loss: 1.2313\n",
      "Epoch [45/50] Loss: 0.7926\n",
      "Epoch [45/50] Loss: 0.6775\n",
      "Epoch [45/50] Loss: 0.9788\n",
      "Epoch [45/50] Loss: 0.6113\n",
      "Epoch [45/50] Loss: 1.2764\n",
      "Epoch [45/50] Loss: 0.7630\n",
      "Epoch [45/50] Loss: 0.9163\n",
      "Epoch [45/50] Loss: 0.9316\n",
      "Epoch [45/50] Loss: 0.9773\n",
      "Epoch [45/50] Loss: 0.7991\n",
      "Epoch [45/50] Loss: 0.5843\n",
      "Epoch [45/50] Loss: 0.8090\n",
      "Epoch [45/50] Loss: 0.6069\n"
     ]
    },
    {
     "name": "stderr",
     "output_type": "stream",
     "text": [
      "1683it [06:45,  4.15it/s]"
     ]
    },
    {
     "name": "stdout",
     "output_type": "stream",
     "text": [
      "Overall Acc: \t 0.600116282953\n",
      "Mean Acc : \t 0.270194596988\n",
      "FreqW Acc : \t 0.437031415258\n",
      "Mean IoU : \t 0.201624561191\n"
     ]
    },
    {
     "name": "stderr",
     "output_type": "stream",
     "text": [
      "\n"
     ]
    },
    {
     "name": "stdout",
     "output_type": "stream",
     "text": [
      "Epoch [46/50] Loss: 0.8513\n",
      "Epoch [46/50] Loss: 0.5560\n",
      "Epoch [46/50] Loss: 0.7921\n",
      "Epoch [46/50] Loss: 1.2118\n",
      "Epoch [46/50] Loss: 0.8440\n",
      "Epoch [46/50] Loss: 0.5580\n",
      "Epoch [46/50] Loss: 0.5221\n",
      "Epoch [46/50] Loss: 0.8947\n",
      "Epoch [46/50] Loss: 0.8653\n",
      "Epoch [46/50] Loss: 0.6153\n",
      "Epoch [46/50] Loss: 0.6469\n",
      "Epoch [46/50] Loss: 1.0842\n",
      "Epoch [46/50] Loss: 0.5994\n",
      "Epoch [46/50] Loss: 0.7416\n",
      "Epoch [46/50] Loss: 0.5589\n",
      "Epoch [46/50] Loss: 0.7179\n",
      "Epoch [46/50] Loss: 0.7422\n"
     ]
    },
    {
     "name": "stderr",
     "output_type": "stream",
     "text": [
      "1683it [06:46,  4.14it/s]\n"
     ]
    },
    {
     "name": "stdout",
     "output_type": "stream",
     "text": [
      "Overall Acc: \t 0.598977765296\n",
      "Mean Acc : \t 0.300843073869\n",
      "FreqW Acc : \t 0.439872480616\n",
      "Mean IoU : \t 0.215503510022\n",
      "Epoch [47/50] Loss: 1.0374\n",
      "Epoch [47/50] Loss: 0.9626\n",
      "Epoch [47/50] Loss: 0.7626\n",
      "Epoch [47/50] Loss: 0.9196\n",
      "Epoch [47/50] Loss: 0.6356\n",
      "Epoch [47/50] Loss: 0.9137\n",
      "Epoch [47/50] Loss: 0.6908\n",
      "Epoch [47/50] Loss: 0.6531\n",
      "Epoch [47/50] Loss: 0.7522\n",
      "Epoch [47/50] Loss: 0.7471\n",
      "Epoch [47/50] Loss: 0.7911\n",
      "Epoch [47/50] Loss: 0.5527\n",
      "Epoch [47/50] Loss: 0.6851\n",
      "Epoch [47/50] Loss: 0.8859\n",
      "Epoch [47/50] Loss: 0.9677\n",
      "Epoch [47/50] Loss: 0.6839\n",
      "Epoch [47/50] Loss: 1.1820\n"
     ]
    },
    {
     "name": "stderr",
     "output_type": "stream",
     "text": [
      "1683it [06:46,  4.14it/s]"
     ]
    },
    {
     "name": "stdout",
     "output_type": "stream",
     "text": [
      "Overall Acc: \t 0.597443537705\n",
      "Mean Acc : \t 0.28742193288\n",
      "FreqW Acc : \t 0.439673931492\n",
      "Mean IoU : \t 0.209061444531\n"
     ]
    },
    {
     "name": "stderr",
     "output_type": "stream",
     "text": [
      "\n"
     ]
    },
    {
     "name": "stdout",
     "output_type": "stream",
     "text": [
      "Epoch [48/50] Loss: 0.5534\n",
      "Epoch [48/50] Loss: 0.8953\n",
      "Epoch [48/50] Loss: 0.6746\n",
      "Epoch [48/50] Loss: 0.9529\n",
      "Epoch [48/50] Loss: 1.1455\n",
      "Epoch [48/50] Loss: 0.8236\n",
      "Epoch [48/50] Loss: 0.8756\n",
      "Epoch [48/50] Loss: 0.7316\n",
      "Epoch [48/50] Loss: 0.8799\n",
      "Epoch [48/50] Loss: 0.9037\n",
      "Epoch [48/50] Loss: 0.8773\n",
      "Epoch [48/50] Loss: 0.9768\n",
      "Epoch [48/50] Loss: 0.6365\n",
      "Epoch [48/50] Loss: 0.3931\n",
      "Epoch [48/50] Loss: 0.5887\n",
      "Epoch [48/50] Loss: 0.8405\n",
      "Epoch [48/50] Loss: 0.7307\n"
     ]
    },
    {
     "name": "stderr",
     "output_type": "stream",
     "text": [
      "1683it [06:47,  4.14it/s]"
     ]
    },
    {
     "name": "stdout",
     "output_type": "stream",
     "text": [
      "Overall Acc: \t 0.599851634967\n",
      "Mean Acc : \t 0.29831861045\n",
      "FreqW Acc : \t 0.435000392083\n",
      "Mean IoU : \t 0.212517525622\n"
     ]
    },
    {
     "name": "stderr",
     "output_type": "stream",
     "text": [
      "\n"
     ]
    },
    {
     "name": "stdout",
     "output_type": "stream",
     "text": [
      "Epoch [49/50] Loss: 1.1120\n",
      "Epoch [49/50] Loss: 0.7326\n",
      "Epoch [49/50] Loss: 0.8184\n",
      "Epoch [49/50] Loss: 0.7748\n",
      "Epoch [49/50] Loss: 0.5025\n",
      "Epoch [49/50] Loss: 0.7980\n",
      "Epoch [49/50] Loss: 0.8222\n",
      "Epoch [49/50] Loss: 0.6765\n",
      "Epoch [49/50] Loss: 1.1426\n",
      "Epoch [49/50] Loss: 0.7619\n",
      "Epoch [49/50] Loss: 0.7933\n",
      "Epoch [49/50] Loss: 0.9530\n",
      "Epoch [49/50] Loss: 1.0363\n",
      "Epoch [49/50] Loss: 0.5712\n",
      "Epoch [49/50] Loss: 0.6576\n",
      "Epoch [49/50] Loss: 0.6588\n",
      "Epoch [49/50] Loss: 0.9356\n"
     ]
    },
    {
     "name": "stderr",
     "output_type": "stream",
     "text": [
      "1683it [06:46,  4.14it/s]"
     ]
    },
    {
     "name": "stdout",
     "output_type": "stream",
     "text": [
      "Overall Acc: \t 0.596622663651\n",
      "Mean Acc : \t 0.278013378291\n",
      "FreqW Acc : \t 0.434047107027\n",
      "Mean IoU : \t 0.204309101395\n"
     ]
    },
    {
     "name": "stderr",
     "output_type": "stream",
     "text": [
      "\n"
     ]
    },
    {
     "name": "stdout",
     "output_type": "stream",
     "text": [
      "Epoch [50/50] Loss: 0.8679\n",
      "Epoch [50/50] Loss: 0.5126\n",
      "Epoch [50/50] Loss: 0.9234\n",
      "Epoch [50/50] Loss: 0.7566\n",
      "Epoch [50/50] Loss: 0.7630\n",
      "Epoch [50/50] Loss: 0.8362\n",
      "Epoch [50/50] Loss: 0.7577\n",
      "Epoch [50/50] Loss: 0.7325\n",
      "Epoch [50/50] Loss: 0.6391\n",
      "Epoch [50/50] Loss: 0.7130\n",
      "Epoch [50/50] Loss: 0.6062\n",
      "Epoch [50/50] Loss: 0.8387\n",
      "Epoch [50/50] Loss: 0.8684\n",
      "Epoch [50/50] Loss: 0.9820\n",
      "Epoch [50/50] Loss: 0.5290\n",
      "Epoch [50/50] Loss: 0.7520\n",
      "Epoch [50/50] Loss: 0.9668\n"
     ]
    },
    {
     "name": "stderr",
     "output_type": "stream",
     "text": [
      "1683it [06:47,  4.13it/s]"
     ]
    },
    {
     "name": "stdout",
     "output_type": "stream",
     "text": [
      "Overall Acc: \t 0.597215995484\n",
      "Mean Acc : \t 0.283559096746\n",
      "FreqW Acc : \t 0.436317535944\n",
      "Mean IoU : \t 0.207589381809\n"
     ]
    },
    {
     "name": "stderr",
     "output_type": "stream",
     "text": [
      "\n"
     ]
    }
   ],
   "source": [
    "from utils import *\n",
    "\n",
    "arg_str = '--gpu_idx 4 ' \\\n",
    "          '--arch FCN_RGBHHA_renet ' \\\n",
    "          '--input_type RGBHHA ' \\\n",
    "          '--dataset SUNRGBD ' \\\n",
    "          '--batch_size 3 ' \\\n",
    "          '--n_epoch 50'\n",
    "\n",
    "trainer = trainer(arg_str)\n",
    "trainer.model_init()\n",
    "trainer.training()"
   ]
  },
  {
   "cell_type": "code",
   "execution_count": null,
   "metadata": {},
   "outputs": [],
   "source": []
  }
 ],
 "metadata": {
  "kernelspec": {
   "display_name": "Python [conda env:pytorch]",
   "language": "python",
   "name": "conda-env-pytorch-py"
  },
  "language_info": {
   "codemirror_mode": {
    "name": "ipython",
    "version": 3
   },
   "file_extension": ".py",
   "mimetype": "text/x-python",
   "name": "python",
   "nbconvert_exporter": "python",
   "pygments_lexer": "ipython3",
   "version": "3.6.3"
  }
 },
 "nbformat": 4,
 "nbformat_minor": 2
}
