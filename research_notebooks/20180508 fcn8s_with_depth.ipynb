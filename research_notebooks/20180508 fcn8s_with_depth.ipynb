{
 "cells": [
  {
   "cell_type": "code",
   "execution_count": 1,
   "metadata": {},
   "outputs": [],
   "source": [
    "%matplotlib inline\n",
    "import os\n",
    "import collections\n",
    "import torch\n",
    "import torchvision\n",
    "import numpy as np\n",
    "import scipy.misc as m\n",
    "import scipy.io as io\n",
    "import matplotlib.pyplot as plt\n",
    "\n",
    "from SUNRGBDLoader import *\n",
    "\n",
    "os.environ['CUDA_VISIBLE_DEVICES'] = '3'\n",
    "data_path = '/home/dongwonshin/Desktop/Datasets/SUNRGBD/SUNRGBD(light)/'"
   ]
  },
  {
   "cell_type": "code",
   "execution_count": 2,
   "metadata": {},
   "outputs": [],
   "source": [
    "import sys, os\n",
    "import torch\n",
    "import visdom\n",
    "import argparse\n",
    "import numpy as np\n",
    "import torch.nn as nn\n",
    "import torch.nn.functional as F\n",
    "import torchvision.models as models\n",
    "\n",
    "from torch.autograd import Variable\n",
    "from torch.utils import data\n",
    "from tqdm import tqdm\n",
    "\n",
    "from ptsemseg.models import get_model\n",
    "from ptsemseg.loader import get_loader, get_data_path\n",
    "from ptsemseg.metrics import runningScore\n",
    "from ptsemseg.loss import *\n",
    "from ptsemseg.augmentations import *\n",
    "\n",
    "\n",
    "parser = argparse.ArgumentParser(description='Hyperparams')\n",
    "parser.add_argument('--arch', nargs='?', type=str, default='fcn8s', \n",
    "                    help='Architecture to use [\\'fcn8s, unet, segnet etc\\']')\n",
    "parser.add_argument('--img_rows', nargs='?', type=int, default=256, \n",
    "                    help='Height of the input image')\n",
    "parser.add_argument('--img_cols', nargs='?', type=int, default=256, \n",
    "                    help='Width of the input image')\n",
    "\n",
    "parser.add_argument('--img_norm', dest='img_norm', action='store_true', \n",
    "                    help='Enable input image scales normalization [0, 1] | True by default')\n",
    "parser.add_argument('--no-img_norm', dest='img_norm', action='store_false', \n",
    "                    help='Disable input image scales normalization [0, 1] | True by default')\n",
    "parser.set_defaults(img_norm=True)\n",
    "\n",
    "parser.add_argument('--n_epoch', nargs='?', type=int, default=100, \n",
    "                    help='# of the epochs')\n",
    "parser.add_argument('--batch_size', nargs='?', type=int, default=1, \n",
    "                    help='Batch Size')\n",
    "parser.add_argument('--l_rate', nargs='?', type=float, default=1e-5, \n",
    "                    help='Learning Rate')\n",
    "parser.add_argument('--feature_scale', nargs='?', type=int, default=1, \n",
    "                    help='Divider for # of features to use')\n",
    "parser.add_argument('--resume', nargs='?', type=str, default=None,    \n",
    "                    help='Path to previous saved model to restart from')\n",
    "\n",
    "parser.add_argument('--visdom', dest='visdom', action='store_true', \n",
    "                    help='Enable visualization(s) on visdom | False by default')\n",
    "parser.add_argument('--no-visdom', dest='visdom', action='store_false', \n",
    "                    help='Disable visualization(s) on visdom | False by default')\n",
    "parser.set_defaults(visdom=False)\n"
   ]
  },
  {
   "cell_type": "code",
   "execution_count": 3,
   "metadata": {},
   "outputs": [],
   "source": [
    "args = parser.parse_args('--arch fcn8s_with_rgbd --batch_size 3'.split(' '))\n",
    "\n",
    "# Setup Augmentations\n",
    "data_aug= Compose([RandomRotate(10),                                        \n",
    "                   RandomHorizontallyFlip()])\n",
    "\n",
    "# Setup Dataloader\n",
    "t_loader = SUNRGBDLoader(data_path, is_transform=True)\n",
    "v_loader = SUNRGBDLoader(data_path, is_transform=True, split='val')\n",
    "\n",
    "n_classes = t_loader.n_classes\n",
    "trainloader = data.DataLoader(t_loader, batch_size=args.batch_size, num_workers=16, shuffle=True)\n",
    "valloader = data.DataLoader(v_loader, batch_size=args.batch_size, num_workers=16)\n",
    "\n",
    "# Setup Metrics\n",
    "running_metrics = runningScore(n_classes)\n",
    "\n",
    "# Setup visdom for visualization\n",
    "if args.visdom:\n",
    "    vis = visdom.Visdom()\n",
    "\n",
    "    loss_window = vis.line(X=torch.zeros((1,)).cpu(),\n",
    "                       Y=torch.zeros((1)).cpu(),\n",
    "                       opts=dict(xlabel='minibatches',\n",
    "                                 ylabel='Loss',\n",
    "                                 title='Training Loss',\n",
    "                                 legend=['Loss']))\n",
    "\n",
    "# Setup Model\n",
    "model = get_model(args.arch, n_classes)\n",
    "\n",
    "model = torch.nn.DataParallel(model, device_ids=range(torch.cuda.device_count()))\n",
    "model.cuda()\n",
    "\n",
    "# Check if model has custom optimizer / loss\n",
    "if hasattr(model.module, 'optimizer'):\n",
    "    optimizer = model.module.optimizer\n",
    "else:\n",
    "    optimizer = torch.optim.SGD(model.parameters(), lr=args.l_rate, momentum=0.99, weight_decay=5e-4)\n",
    "\n",
    "if hasattr(model.module, 'loss'):\n",
    "    print('Using custom loss')\n",
    "    loss_fn = model.module.loss\n",
    "else:\n",
    "    loss_fn = cross_entropy2d\n",
    "\n",
    "if args.resume is not None:                                         \n",
    "    if os.path.isfile(args.resume):\n",
    "        print(\"Loading model and optimizer from checkpoint '{}'\".format(args.resume))\n",
    "        checkpoint = torch.load(args.resume)\n",
    "        model.load_state_dict(checkpoint['model_state'])\n",
    "        optimizer.load_state_dict(checkpoint['optimizer_state'])\n",
    "        print(\"Loaded checkpoint '{}' (epoch {})\"                    \n",
    "              .format(args.resume, checkpoint['epoch']))\n",
    "    else:\n",
    "        print(\"No checkpoint found at '{}'\".format(args.resume)) \n"
   ]
  },
  {
   "cell_type": "markdown",
   "metadata": {},
   "source": [
    "# Training"
   ]
  },
  {
   "cell_type": "code",
   "execution_count": 4,
   "metadata": {},
   "outputs": [
    {
     "name": "stderr",
     "output_type": "stream",
     "text": [
      "/home/dongwonshin/.conda/envs/pytorch/lib/python3.6/site-packages/torch/nn/functional.py:1462: UserWarning: nn.functional.upsample_bilinear is deprecated. Use nn.functional.upsample instead.\n",
      "  warnings.warn(\"nn.functional.upsample_bilinear is deprecated. Use nn.functional.upsample instead.\")\n",
      "34it [00:09,  3.54it/s]\n",
      "/home/dongwonshin/Desktop/pytorch_dataloader/ptsemseg/metrics.py:32: RuntimeWarning: invalid value encountered in true_divide\n",
      "  acc_cls = np.diag(hist) / hist.sum(axis=1)\n"
     ]
    },
    {
     "name": "stdout",
     "output_type": "stream",
     "text": [
      "Overall Acc: \t 0.23416233724\n",
      "Mean Acc : \t 0.0293097372544\n",
      "FreqW Acc : \t 0.0851465839923\n",
      "Mean IoU : \t 0.0104907123174\n"
     ]
    },
    {
     "name": "stderr",
     "output_type": "stream",
     "text": [
      "34it [00:09,  3.50it/s]\n"
     ]
    },
    {
     "name": "stdout",
     "output_type": "stream",
     "text": [
      "Overall Acc: \t 0.2410546875\n",
      "Mean Acc : \t 0.0375389928892\n",
      "FreqW Acc : \t 0.112106973269\n",
      "Mean IoU : \t 0.0150067536102\n"
     ]
    },
    {
     "name": "stderr",
     "output_type": "stream",
     "text": [
      "34it [00:09,  3.51it/s]\n"
     ]
    },
    {
     "name": "stdout",
     "output_type": "stream",
     "text": [
      "Overall Acc: \t 0.263959049479\n",
      "Mean Acc : \t 0.0354059293281\n",
      "FreqW Acc : \t 0.121498442741\n",
      "Mean IoU : \t 0.0157769954508\n"
     ]
    },
    {
     "name": "stderr",
     "output_type": "stream",
     "text": [
      "34it [00:09,  3.48it/s]\n"
     ]
    },
    {
     "name": "stdout",
     "output_type": "stream",
     "text": [
      "Overall Acc: \t 0.321692578125\n",
      "Mean Acc : \t 0.0464266792203\n",
      "FreqW Acc : \t 0.162848994832\n",
      "Mean IoU : \t 0.0224192334332\n"
     ]
    },
    {
     "name": "stderr",
     "output_type": "stream",
     "text": [
      "34it [00:09,  3.48it/s]\n"
     ]
    },
    {
     "name": "stdout",
     "output_type": "stream",
     "text": [
      "Overall Acc: \t 0.332193359375\n",
      "Mean Acc : \t 0.0474002033287\n",
      "FreqW Acc : \t 0.1731419086\n",
      "Mean IoU : \t 0.0236286051052\n"
     ]
    },
    {
     "name": "stderr",
     "output_type": "stream",
     "text": [
      "34it [00:09,  3.43it/s]\n"
     ]
    },
    {
     "name": "stdout",
     "output_type": "stream",
     "text": [
      "Overall Acc: \t 0.344064811198\n",
      "Mean Acc : \t 0.0547672152862\n",
      "FreqW Acc : \t 0.183403840417\n",
      "Mean IoU : \t 0.0264143150888\n"
     ]
    },
    {
     "name": "stderr",
     "output_type": "stream",
     "text": [
      "34it [00:09,  3.52it/s]\n"
     ]
    },
    {
     "name": "stdout",
     "output_type": "stream",
     "text": [
      "Overall Acc: \t 0.357891503906\n",
      "Mean Acc : \t 0.0563824520452\n",
      "FreqW Acc : \t 0.190404996909\n",
      "Mean IoU : \t 0.0270777032444\n"
     ]
    },
    {
     "name": "stderr",
     "output_type": "stream",
     "text": [
      "34it [00:09,  3.49it/s]\n"
     ]
    },
    {
     "name": "stdout",
     "output_type": "stream",
     "text": [
      "Overall Acc: \t 0.369480338542\n",
      "Mean Acc : \t 0.0565937032072\n",
      "FreqW Acc : \t 0.197530913602\n",
      "Mean IoU : \t 0.0280309513566\n"
     ]
    },
    {
     "name": "stderr",
     "output_type": "stream",
     "text": [
      "34it [00:09,  3.40it/s]\n"
     ]
    },
    {
     "name": "stdout",
     "output_type": "stream",
     "text": [
      "Overall Acc: \t 0.378033528646\n",
      "Mean Acc : \t 0.0579613469424\n",
      "FreqW Acc : \t 0.207123430271\n",
      "Mean IoU : \t 0.0292728161329\n"
     ]
    },
    {
     "name": "stderr",
     "output_type": "stream",
     "text": [
      "34it [00:10,  3.38it/s]\n",
      "/home/dongwonshin/Desktop/pytorch_dataloader/ptsemseg/metrics.py:34: RuntimeWarning: invalid value encountered in true_divide\n",
      "  iu = np.diag(hist) / (hist.sum(axis=1) + hist.sum(axis=0) - np.diag(hist))\n"
     ]
    },
    {
     "name": "stdout",
     "output_type": "stream",
     "text": [
      "Overall Acc: \t 0.381512565104\n",
      "Mean Acc : \t 0.0595493071016\n",
      "FreqW Acc : \t 0.20689638338\n",
      "Mean IoU : \t 0.0305484350734\n"
     ]
    },
    {
     "name": "stderr",
     "output_type": "stream",
     "text": [
      "34it [00:09,  3.45it/s]\n"
     ]
    },
    {
     "name": "stdout",
     "output_type": "stream",
     "text": [
      "Overall Acc: \t 0.389553841146\n",
      "Mean Acc : \t 0.061010200559\n",
      "FreqW Acc : \t 0.213432792035\n",
      "Mean IoU : \t 0.0327784871986\n"
     ]
    },
    {
     "name": "stderr",
     "output_type": "stream",
     "text": [
      "34it [00:09,  3.41it/s]\n"
     ]
    },
    {
     "name": "stdout",
     "output_type": "stream",
     "text": [
      "Overall Acc: \t 0.397558072917\n",
      "Mean Acc : \t 0.0629571461119\n",
      "FreqW Acc : \t 0.219922874111\n",
      "Mean IoU : \t 0.0340846507319\n"
     ]
    },
    {
     "name": "stderr",
     "output_type": "stream",
     "text": [
      "34it [00:09,  3.41it/s]"
     ]
    },
    {
     "name": "stdout",
     "output_type": "stream",
     "text": [
      "Overall Acc: \t 0.393727441406\n",
      "Mean Acc : \t 0.0636156621518\n",
      "FreqW Acc : \t 0.21614426161\n",
      "Mean IoU : \t 0.0340662144269\n"
     ]
    },
    {
     "name": "stderr",
     "output_type": "stream",
     "text": [
      "\n",
      "34it [00:09,  3.42it/s]\n"
     ]
    },
    {
     "name": "stdout",
     "output_type": "stream",
     "text": [
      "Overall Acc: \t 0.402873307292\n",
      "Mean Acc : \t 0.0651133004559\n",
      "FreqW Acc : \t 0.225664982443\n",
      "Mean IoU : \t 0.0359320784375\n"
     ]
    },
    {
     "name": "stderr",
     "output_type": "stream",
     "text": [
      "34it [00:10,  3.40it/s]"
     ]
    },
    {
     "name": "stdout",
     "output_type": "stream",
     "text": [
      "Overall Acc: \t 0.402261035156\n",
      "Mean Acc : \t 0.0645975810129\n",
      "FreqW Acc : \t 0.221018455144\n",
      "Mean IoU : \t 0.034859719011\n"
     ]
    },
    {
     "name": "stderr",
     "output_type": "stream",
     "text": [
      "\n",
      "34it [00:09,  3.40it/s]\n"
     ]
    },
    {
     "name": "stdout",
     "output_type": "stream",
     "text": [
      "Overall Acc: \t 0.410844661458\n",
      "Mean Acc : \t 0.0667336963859\n",
      "FreqW Acc : \t 0.231427569029\n",
      "Mean IoU : \t 0.0370168716706\n"
     ]
    },
    {
     "name": "stderr",
     "output_type": "stream",
     "text": [
      "34it [00:09,  3.43it/s]\n"
     ]
    },
    {
     "name": "stdout",
     "output_type": "stream",
     "text": [
      "Overall Acc: \t 0.41315546875\n",
      "Mean Acc : \t 0.0667589707708\n",
      "FreqW Acc : \t 0.237046036858\n",
      "Mean IoU : \t 0.0380435541077\n"
     ]
    },
    {
     "name": "stderr",
     "output_type": "stream",
     "text": [
      "34it [00:10,  3.37it/s]"
     ]
    },
    {
     "name": "stdout",
     "output_type": "stream",
     "text": [
      "Overall Acc: \t 0.409915885417\n",
      "Mean Acc : \t 0.0683384095788\n",
      "FreqW Acc : \t 0.227843108058\n",
      "Mean IoU : \t 0.0374272049485\n"
     ]
    },
    {
     "name": "stderr",
     "output_type": "stream",
     "text": [
      "\n",
      "34it [00:09,  3.41it/s]\n"
     ]
    },
    {
     "name": "stdout",
     "output_type": "stream",
     "text": [
      "Overall Acc: \t 0.415777832031\n",
      "Mean Acc : \t 0.0682922581728\n",
      "FreqW Acc : \t 0.236961491997\n",
      "Mean IoU : \t 0.0386263700978\n"
     ]
    },
    {
     "name": "stderr",
     "output_type": "stream",
     "text": [
      "34it [00:09,  3.43it/s]"
     ]
    },
    {
     "name": "stdout",
     "output_type": "stream",
     "text": [
      "Overall Acc: \t 0.403286197917\n",
      "Mean Acc : \t 0.0685068157603\n",
      "FreqW Acc : \t 0.219498080003\n",
      "Mean IoU : \t 0.0367372922683\n"
     ]
    },
    {
     "name": "stderr",
     "output_type": "stream",
     "text": [
      "\n",
      "34it [00:10,  3.39it/s]\n"
     ]
    },
    {
     "name": "stdout",
     "output_type": "stream",
     "text": [
      "Overall Acc: \t 0.420475390625\n",
      "Mean Acc : \t 0.0690440339035\n",
      "FreqW Acc : \t 0.243238500974\n",
      "Mean IoU : \t 0.040093318588\n"
     ]
    },
    {
     "name": "stderr",
     "output_type": "stream",
     "text": [
      "34it [00:10,  3.39it/s]"
     ]
    },
    {
     "name": "stdout",
     "output_type": "stream",
     "text": [
      "Overall Acc: \t 0.417841666667\n",
      "Mean Acc : \t 0.0698513105085\n",
      "FreqW Acc : \t 0.238576243894\n",
      "Mean IoU : \t 0.0396314415114\n"
     ]
    },
    {
     "name": "stderr",
     "output_type": "stream",
     "text": [
      "\n",
      "34it [00:10,  3.39it/s]\n"
     ]
    },
    {
     "name": "stdout",
     "output_type": "stream",
     "text": [
      "Overall Acc: \t 0.420810709635\n",
      "Mean Acc : \t 0.072477764045\n",
      "FreqW Acc : \t 0.241270885811\n",
      "Mean IoU : \t 0.0410309417769\n"
     ]
    },
    {
     "name": "stderr",
     "output_type": "stream",
     "text": [
      "34it [00:10,  3.39it/s]"
     ]
    },
    {
     "name": "stdout",
     "output_type": "stream",
     "text": [
      "Overall Acc: \t 0.42459140625\n",
      "Mean Acc : \t 0.0701928908612\n",
      "FreqW Acc : \t 0.244776893488\n",
      "Mean IoU : \t 0.0406961990958\n"
     ]
    },
    {
     "name": "stderr",
     "output_type": "stream",
     "text": [
      "\n",
      "34it [00:10,  3.40it/s]\n"
     ]
    },
    {
     "name": "stdout",
     "output_type": "stream",
     "text": [
      "Overall Acc: \t 0.421459179688\n",
      "Mean Acc : \t 0.0726908835284\n",
      "FreqW Acc : \t 0.239697235293\n",
      "Mean IoU : \t 0.0411048319095\n"
     ]
    },
    {
     "name": "stderr",
     "output_type": "stream",
     "text": [
      "34it [00:09,  3.40it/s]\n"
     ]
    },
    {
     "name": "stdout",
     "output_type": "stream",
     "text": [
      "Overall Acc: \t 0.42101640625\n",
      "Mean Acc : \t 0.0758748073936\n",
      "FreqW Acc : \t 0.23764482258\n",
      "Mean IoU : \t 0.0419583115993\n"
     ]
    },
    {
     "name": "stderr",
     "output_type": "stream",
     "text": [
      "34it [00:09,  3.41it/s]"
     ]
    },
    {
     "name": "stdout",
     "output_type": "stream",
     "text": [
      "Overall Acc: \t 0.428633268229\n",
      "Mean Acc : \t 0.0713106807644\n",
      "FreqW Acc : \t 0.248337197804\n",
      "Mean IoU : \t 0.0414775252686\n"
     ]
    },
    {
     "name": "stderr",
     "output_type": "stream",
     "text": [
      "\n",
      "34it [00:10,  3.39it/s]\n"
     ]
    },
    {
     "name": "stdout",
     "output_type": "stream",
     "text": [
      "Overall Acc: \t 0.428812792969\n",
      "Mean Acc : \t 0.0749665831887\n",
      "FreqW Acc : \t 0.246313076832\n",
      "Mean IoU : \t 0.0430913417624\n"
     ]
    },
    {
     "name": "stderr",
     "output_type": "stream",
     "text": [
      "34it [00:10,  3.36it/s]\n"
     ]
    },
    {
     "name": "stdout",
     "output_type": "stream",
     "text": [
      "Overall Acc: \t 0.427486751302\n",
      "Mean Acc : \t 0.0751568072794\n",
      "FreqW Acc : \t 0.245434689796\n",
      "Mean IoU : \t 0.0430937221351\n"
     ]
    },
    {
     "name": "stderr",
     "output_type": "stream",
     "text": [
      "34it [00:10,  3.39it/s]"
     ]
    },
    {
     "name": "stdout",
     "output_type": "stream",
     "text": [
      "Overall Acc: \t 0.430725488281\n",
      "Mean Acc : \t 0.0748738815666\n",
      "FreqW Acc : \t 0.249107214835\n",
      "Mean IoU : \t 0.0430549395428\n"
     ]
    },
    {
     "name": "stderr",
     "output_type": "stream",
     "text": [
      "\n",
      "34it [00:10,  3.30it/s]\n"
     ]
    },
    {
     "name": "stdout",
     "output_type": "stream",
     "text": [
      "Overall Acc: \t 0.432274121094\n",
      "Mean Acc : \t 0.0757745951816\n",
      "FreqW Acc : \t 0.253040864731\n",
      "Mean IoU : \t 0.0441244011118\n"
     ]
    },
    {
     "name": "stderr",
     "output_type": "stream",
     "text": [
      "34it [00:10,  3.40it/s]"
     ]
    },
    {
     "name": "stdout",
     "output_type": "stream",
     "text": [
      "Overall Acc: \t 0.429735416667\n",
      "Mean Acc : \t 0.0755253658002\n",
      "FreqW Acc : \t 0.249838015455\n",
      "Mean IoU : \t 0.0438005135817\n"
     ]
    },
    {
     "name": "stderr",
     "output_type": "stream",
     "text": [
      "\n",
      "34it [00:10,  3.40it/s]"
     ]
    },
    {
     "name": "stdout",
     "output_type": "stream",
     "text": [
      "Overall Acc: \t 0.43280625\n",
      "Mean Acc : \t 0.0753682856208\n",
      "FreqW Acc : \t 0.251734165241\n",
      "Mean IoU : \t 0.0438702506987\n"
     ]
    },
    {
     "name": "stderr",
     "output_type": "stream",
     "text": [
      "\n",
      "34it [00:10,  3.36it/s]"
     ]
    },
    {
     "name": "stdout",
     "output_type": "stream",
     "text": [
      "Overall Acc: \t 0.429328027344\n",
      "Mean Acc : \t 0.0756328701617\n",
      "FreqW Acc : \t 0.248453274659\n",
      "Mean IoU : \t 0.0438132161163\n"
     ]
    },
    {
     "name": "stderr",
     "output_type": "stream",
     "text": [
      "\n",
      "34it [00:10,  3.34it/s]\n"
     ]
    },
    {
     "name": "stdout",
     "output_type": "stream",
     "text": [
      "Overall Acc: \t 0.433985611979\n",
      "Mean Acc : \t 0.0770606402487\n",
      "FreqW Acc : \t 0.255229696522\n",
      "Mean IoU : \t 0.045048177757\n"
     ]
    },
    {
     "name": "stderr",
     "output_type": "stream",
     "text": [
      "34it [00:10,  3.33it/s]"
     ]
    },
    {
     "name": "stdout",
     "output_type": "stream",
     "text": [
      "Overall Acc: \t 0.429705338542\n",
      "Mean Acc : \t 0.0772960674178\n",
      "FreqW Acc : \t 0.249033010216\n",
      "Mean IoU : \t 0.0445826153865\n"
     ]
    },
    {
     "name": "stderr",
     "output_type": "stream",
     "text": [
      "\n",
      "34it [00:10,  3.39it/s]\n"
     ]
    },
    {
     "name": "stdout",
     "output_type": "stream",
     "text": [
      "Overall Acc: \t 0.436009505208\n",
      "Mean Acc : \t 0.0780219102559\n",
      "FreqW Acc : \t 0.257595681818\n",
      "Mean IoU : \t 0.0464065427627\n"
     ]
    },
    {
     "name": "stderr",
     "output_type": "stream",
     "text": [
      "34it [00:10,  3.39it/s]"
     ]
    },
    {
     "name": "stdout",
     "output_type": "stream",
     "text": [
      "Overall Acc: \t 0.431901367187\n",
      "Mean Acc : \t 0.0773298500253\n",
      "FreqW Acc : \t 0.252206025421\n",
      "Mean IoU : \t 0.0452256910319\n"
     ]
    },
    {
     "name": "stderr",
     "output_type": "stream",
     "text": [
      "\n",
      "34it [00:10,  3.36it/s]\n"
     ]
    },
    {
     "name": "stdout",
     "output_type": "stream",
     "text": [
      "Overall Acc: \t 0.434526985677\n",
      "Mean Acc : \t 0.0792342786159\n",
      "FreqW Acc : \t 0.256177463288\n",
      "Mean IoU : \t 0.0468870209155\n"
     ]
    },
    {
     "name": "stderr",
     "output_type": "stream",
     "text": [
      "34it [00:10,  3.37it/s]"
     ]
    },
    {
     "name": "stdout",
     "output_type": "stream",
     "text": [
      "Overall Acc: \t 0.432788964844\n",
      "Mean Acc : \t 0.0759647164437\n",
      "FreqW Acc : \t 0.252590149319\n",
      "Mean IoU : \t 0.0446679308857\n"
     ]
    },
    {
     "name": "stderr",
     "output_type": "stream",
     "text": [
      "\n",
      "34it [00:09,  3.43it/s]\n"
     ]
    },
    {
     "name": "stdout",
     "output_type": "stream",
     "text": [
      "Overall Acc: \t 0.435131933594\n",
      "Mean Acc : \t 0.0808187766877\n",
      "FreqW Acc : \t 0.255460486688\n",
      "Mean IoU : \t 0.0476632267042\n"
     ]
    },
    {
     "name": "stderr",
     "output_type": "stream",
     "text": [
      "34it [00:10,  3.40it/s]"
     ]
    },
    {
     "name": "stdout",
     "output_type": "stream",
     "text": [
      "Overall Acc: \t 0.432819986979\n",
      "Mean Acc : \t 0.0803733578729\n",
      "FreqW Acc : \t 0.253063493218\n",
      "Mean IoU : \t 0.0471325133238\n"
     ]
    },
    {
     "name": "stderr",
     "output_type": "stream",
     "text": [
      "\n",
      "34it [00:10,  3.36it/s]"
     ]
    },
    {
     "name": "stdout",
     "output_type": "stream",
     "text": [
      "Overall Acc: \t 0.439196061198\n",
      "Mean Acc : \t 0.0793778951193\n",
      "FreqW Acc : \t 0.261315141972\n",
      "Mean IoU : \t 0.0473104762873\n"
     ]
    },
    {
     "name": "stderr",
     "output_type": "stream",
     "text": [
      "\n",
      "34it [00:10,  3.37it/s]"
     ]
    },
    {
     "name": "stdout",
     "output_type": "stream",
     "text": [
      "Overall Acc: \t 0.434860611979\n",
      "Mean Acc : \t 0.0782824292848\n",
      "FreqW Acc : \t 0.256211958182\n",
      "Mean IoU : \t 0.0465503660168\n"
     ]
    },
    {
     "name": "stderr",
     "output_type": "stream",
     "text": [
      "\n",
      "34it [00:10,  3.35it/s]\n"
     ]
    },
    {
     "name": "stdout",
     "output_type": "stream",
     "text": [
      "Overall Acc: \t 0.435396940104\n",
      "Mean Acc : \t 0.0812973378382\n",
      "FreqW Acc : \t 0.256149434781\n",
      "Mean IoU : \t 0.0480157757222\n"
     ]
    },
    {
     "name": "stderr",
     "output_type": "stream",
     "text": [
      "34it [00:09,  3.42it/s]\n"
     ]
    },
    {
     "name": "stdout",
     "output_type": "stream",
     "text": [
      "Overall Acc: \t 0.438720084635\n",
      "Mean Acc : \t 0.0814443412462\n",
      "FreqW Acc : \t 0.262276350056\n",
      "Mean IoU : \t 0.0491069011665\n"
     ]
    },
    {
     "name": "stderr",
     "output_type": "stream",
     "text": [
      "34it [00:10,  3.28it/s]\n"
     ]
    },
    {
     "name": "stdout",
     "output_type": "stream",
     "text": [
      "Overall Acc: \t 0.428003222656\n",
      "Mean Acc : \t 0.0834571840953\n",
      "FreqW Acc : \t 0.248841584589\n",
      "Mean IoU : \t 0.0491311678466\n"
     ]
    },
    {
     "name": "stderr",
     "output_type": "stream",
     "text": [
      "34it [00:10,  3.28it/s]\n"
     ]
    },
    {
     "name": "stdout",
     "output_type": "stream",
     "text": [
      "Overall Acc: \t 0.438964257812\n",
      "Mean Acc : \t 0.0828998970932\n",
      "FreqW Acc : \t 0.262036315848\n",
      "Mean IoU : \t 0.0501060223848\n"
     ]
    },
    {
     "name": "stderr",
     "output_type": "stream",
     "text": [
      "34it [00:10,  3.32it/s]"
     ]
    },
    {
     "name": "stdout",
     "output_type": "stream",
     "text": [
      "Overall Acc: \t 0.435761165365\n",
      "Mean Acc : \t 0.0816371465168\n",
      "FreqW Acc : \t 0.256660694245\n",
      "Mean IoU : \t 0.0481904140939\n"
     ]
    },
    {
     "name": "stderr",
     "output_type": "stream",
     "text": [
      "\n",
      "34it [00:10,  3.33it/s]\n"
     ]
    },
    {
     "name": "stdout",
     "output_type": "stream",
     "text": [
      "Overall Acc: \t 0.43590452474\n",
      "Mean Acc : \t 0.0895256324426\n",
      "FreqW Acc : \t 0.25916168784\n",
      "Mean IoU : \t 0.0539389953121\n"
     ]
    },
    {
     "name": "stderr",
     "output_type": "stream",
     "text": [
      "34it [00:10,  3.31it/s]"
     ]
    },
    {
     "name": "stdout",
     "output_type": "stream",
     "text": [
      "Overall Acc: \t 0.435543880208\n",
      "Mean Acc : \t 0.0819844904458\n",
      "FreqW Acc : \t 0.258912294556\n",
      "Mean IoU : \t 0.0500913143933\n"
     ]
    },
    {
     "name": "stderr",
     "output_type": "stream",
     "text": [
      "\n",
      "34it [00:10,  3.40it/s]"
     ]
    },
    {
     "name": "stdout",
     "output_type": "stream",
     "text": [
      "Overall Acc: \t 0.43568733724\n",
      "Mean Acc : \t 0.0863286906601\n",
      "FreqW Acc : \t 0.256986506779\n",
      "Mean IoU : \t 0.0517456728733\n"
     ]
    },
    {
     "name": "stderr",
     "output_type": "stream",
     "text": [
      "\n",
      "34it [00:10,  3.36it/s]"
     ]
    },
    {
     "name": "stdout",
     "output_type": "stream",
     "text": [
      "Overall Acc: \t 0.436363378906\n",
      "Mean Acc : \t 0.0862638291275\n",
      "FreqW Acc : \t 0.257471755214\n",
      "Mean IoU : \t 0.051126516993\n"
     ]
    },
    {
     "name": "stderr",
     "output_type": "stream",
     "text": [
      "\n",
      "34it [00:10,  3.38it/s]\n"
     ]
    },
    {
     "name": "stdout",
     "output_type": "stream",
     "text": [
      "Overall Acc: \t 0.438044759115\n",
      "Mean Acc : \t 0.0905733857481\n",
      "FreqW Acc : \t 0.261457453563\n",
      "Mean IoU : \t 0.0546615947857\n"
     ]
    },
    {
     "name": "stderr",
     "output_type": "stream",
     "text": [
      "34it [00:10,  3.40it/s]"
     ]
    },
    {
     "name": "stdout",
     "output_type": "stream",
     "text": [
      "Overall Acc: \t 0.440018977865\n",
      "Mean Acc : \t 0.0868076283238\n",
      "FreqW Acc : \t 0.26164535862\n",
      "Mean IoU : \t 0.0530895413898\n"
     ]
    },
    {
     "name": "stderr",
     "output_type": "stream",
     "text": [
      "\n",
      "34it [00:09,  3.42it/s]"
     ]
    },
    {
     "name": "stdout",
     "output_type": "stream",
     "text": [
      "Overall Acc: \t 0.44089202474\n",
      "Mean Acc : \t 0.0873121829792\n",
      "FreqW Acc : \t 0.263704624018\n",
      "Mean IoU : \t 0.0536488748657\n"
     ]
    },
    {
     "name": "stderr",
     "output_type": "stream",
     "text": [
      "\n",
      "34it [00:09,  3.41it/s]\n"
     ]
    },
    {
     "name": "stdout",
     "output_type": "stream",
     "text": [
      "Overall Acc: \t 0.43481344401\n",
      "Mean Acc : \t 0.0931149448654\n",
      "FreqW Acc : \t 0.256515044465\n",
      "Mean IoU : \t 0.0553564515039\n"
     ]
    },
    {
     "name": "stderr",
     "output_type": "stream",
     "text": [
      "34it [00:09,  3.41it/s]"
     ]
    },
    {
     "name": "stdout",
     "output_type": "stream",
     "text": [
      "Overall Acc: \t 0.442908496094\n",
      "Mean Acc : \t 0.0864031608832\n",
      "FreqW Acc : \t 0.264201886553\n",
      "Mean IoU : \t 0.0528794654261\n"
     ]
    },
    {
     "name": "stderr",
     "output_type": "stream",
     "text": [
      "\n",
      "34it [00:09,  3.42it/s]"
     ]
    },
    {
     "name": "stdout",
     "output_type": "stream",
     "text": [
      "Overall Acc: \t 0.442592936198\n",
      "Mean Acc : \t 0.0888813271077\n",
      "FreqW Acc : \t 0.265286755852\n",
      "Mean IoU : \t 0.0552066856956\n"
     ]
    },
    {
     "name": "stderr",
     "output_type": "stream",
     "text": [
      "\n",
      "34it [00:10,  3.39it/s]\n"
     ]
    },
    {
     "name": "stdout",
     "output_type": "stream",
     "text": [
      "Overall Acc: \t 0.434692220052\n",
      "Mean Acc : \t 0.0973421824362\n",
      "FreqW Acc : \t 0.257454108944\n",
      "Mean IoU : \t 0.0584366706953\n"
     ]
    },
    {
     "name": "stderr",
     "output_type": "stream",
     "text": [
      "34it [00:09,  3.42it/s]"
     ]
    },
    {
     "name": "stdout",
     "output_type": "stream",
     "text": [
      "Overall Acc: \t 0.44306031901\n",
      "Mean Acc : \t 0.0890556682801\n",
      "FreqW Acc : \t 0.265956126329\n",
      "Mean IoU : \t 0.0544363798353\n"
     ]
    },
    {
     "name": "stderr",
     "output_type": "stream",
     "text": [
      "\n",
      "34it [00:10,  3.38it/s]"
     ]
    },
    {
     "name": "stdout",
     "output_type": "stream",
     "text": [
      "Overall Acc: \t 0.433763313802\n",
      "Mean Acc : \t 0.092630450098\n",
      "FreqW Acc : \t 0.256499461548\n",
      "Mean IoU : \t 0.0553462908197\n"
     ]
    },
    {
     "name": "stderr",
     "output_type": "stream",
     "text": [
      "\n",
      "34it [00:10,  3.40it/s]"
     ]
    },
    {
     "name": "stdout",
     "output_type": "stream",
     "text": [
      "Overall Acc: \t 0.440926985677\n",
      "Mean Acc : \t 0.0946036814033\n",
      "FreqW Acc : \t 0.265428590008\n",
      "Mean IoU : \t 0.0578001797067\n"
     ]
    },
    {
     "name": "stderr",
     "output_type": "stream",
     "text": [
      "\n",
      "34it [00:09,  3.41it/s]"
     ]
    },
    {
     "name": "stdout",
     "output_type": "stream",
     "text": [
      "Overall Acc: \t 0.43739436849\n",
      "Mean Acc : \t 0.0933594137148\n",
      "FreqW Acc : \t 0.26019188902\n",
      "Mean IoU : \t 0.0571013706381\n"
     ]
    },
    {
     "name": "stderr",
     "output_type": "stream",
     "text": [
      "\n",
      "34it [00:09,  3.40it/s]\n"
     ]
    },
    {
     "name": "stdout",
     "output_type": "stream",
     "text": [
      "Overall Acc: \t 0.440105338542\n",
      "Mean Acc : \t 0.0963023222377\n",
      "FreqW Acc : \t 0.263163732097\n",
      "Mean IoU : \t 0.058551832002\n"
     ]
    },
    {
     "name": "stderr",
     "output_type": "stream",
     "text": [
      "34it [00:09,  3.45it/s]\n"
     ]
    },
    {
     "name": "stdout",
     "output_type": "stream",
     "text": [
      "Overall Acc: \t 0.441051888021\n",
      "Mean Acc : \t 0.0957118974553\n",
      "FreqW Acc : \t 0.265008851322\n",
      "Mean IoU : \t 0.0588363206817\n"
     ]
    },
    {
     "name": "stderr",
     "output_type": "stream",
     "text": [
      "34it [00:10,  3.37it/s]\n"
     ]
    },
    {
     "name": "stdout",
     "output_type": "stream",
     "text": [
      "Overall Acc: \t 0.441926204427\n",
      "Mean Acc : \t 0.0971461604918\n",
      "FreqW Acc : \t 0.267046411118\n",
      "Mean IoU : \t 0.0603932775699\n"
     ]
    },
    {
     "name": "stderr",
     "output_type": "stream",
     "text": [
      "34it [00:10,  3.35it/s]\n"
     ]
    },
    {
     "name": "stdout",
     "output_type": "stream",
     "text": [
      "Overall Acc: \t 0.436608268229\n",
      "Mean Acc : \t 0.0996646660957\n",
      "FreqW Acc : \t 0.259487742556\n",
      "Mean IoU : \t 0.0605187774006\n"
     ]
    },
    {
     "name": "stderr",
     "output_type": "stream",
     "text": [
      "34it [00:10,  3.38it/s]"
     ]
    },
    {
     "name": "stdout",
     "output_type": "stream",
     "text": [
      "Overall Acc: \t 0.439196289063\n",
      "Mean Acc : \t 0.0956165089745\n",
      "FreqW Acc : \t 0.26091945512\n",
      "Mean IoU : \t 0.0579997230583\n"
     ]
    },
    {
     "name": "stderr",
     "output_type": "stream",
     "text": [
      "\n",
      "34it [00:09,  3.41it/s]"
     ]
    },
    {
     "name": "stdout",
     "output_type": "stream",
     "text": [
      "Overall Acc: \t 0.440588769531\n",
      "Mean Acc : \t 0.0976275425508\n",
      "FreqW Acc : \t 0.266344142222\n",
      "Mean IoU : \t 0.0595631092725\n"
     ]
    },
    {
     "name": "stderr",
     "output_type": "stream",
     "text": [
      "\n",
      "34it [00:09,  3.42it/s]"
     ]
    },
    {
     "name": "stdout",
     "output_type": "stream",
     "text": [
      "Overall Acc: \t 0.442277018229\n",
      "Mean Acc : \t 0.0979838608914\n",
      "FreqW Acc : \t 0.265470900028\n",
      "Mean IoU : \t 0.0601892569769\n"
     ]
    },
    {
     "name": "stderr",
     "output_type": "stream",
     "text": [
      "\n",
      "34it [00:10,  3.36it/s]"
     ]
    },
    {
     "name": "stdout",
     "output_type": "stream",
     "text": [
      "Overall Acc: \t 0.439280501302\n",
      "Mean Acc : \t 0.098043887672\n",
      "FreqW Acc : \t 0.26171450125\n",
      "Mean IoU : \t 0.0600464960575\n"
     ]
    },
    {
     "name": "stderr",
     "output_type": "stream",
     "text": [
      "\n",
      "34it [00:10,  3.39it/s]"
     ]
    },
    {
     "name": "stdout",
     "output_type": "stream",
     "text": [
      "Overall Acc: \t 0.44411656901\n",
      "Mean Acc : \t 0.094604211323\n",
      "FreqW Acc : \t 0.268815595055\n",
      "Mean IoU : \t 0.0582716914446\n"
     ]
    },
    {
     "name": "stderr",
     "output_type": "stream",
     "text": [
      "\n",
      "34it [00:09,  3.40it/s]\n"
     ]
    },
    {
     "name": "stdout",
     "output_type": "stream",
     "text": [
      "Overall Acc: \t 0.440176074219\n",
      "Mean Acc : \t 0.10051224941\n",
      "FreqW Acc : \t 0.265239495944\n",
      "Mean IoU : \t 0.0612184475389\n"
     ]
    },
    {
     "name": "stderr",
     "output_type": "stream",
     "text": [
      "34it [00:10,  3.38it/s]"
     ]
    },
    {
     "name": "stdout",
     "output_type": "stream",
     "text": [
      "Overall Acc: \t 0.43712405599\n",
      "Mean Acc : \t 0.0979444634817\n",
      "FreqW Acc : \t 0.258877625824\n",
      "Mean IoU : \t 0.0592694713553\n"
     ]
    },
    {
     "name": "stderr",
     "output_type": "stream",
     "text": [
      "\n",
      "34it [00:10,  3.36it/s]"
     ]
    },
    {
     "name": "stdout",
     "output_type": "stream",
     "text": [
      "Overall Acc: \t 0.44317828776\n",
      "Mean Acc : \t 0.098499355193\n",
      "FreqW Acc : \t 0.268721408518\n",
      "Mean IoU : \t 0.06043425329\n"
     ]
    },
    {
     "name": "stderr",
     "output_type": "stream",
     "text": [
      "\n",
      "34it [00:10,  3.37it/s]\n"
     ]
    },
    {
     "name": "stdout",
     "output_type": "stream",
     "text": [
      "Overall Acc: \t 0.436705664062\n",
      "Mean Acc : \t 0.102093383526\n",
      "FreqW Acc : \t 0.2602727519\n",
      "Mean IoU : \t 0.0612877674614\n"
     ]
    },
    {
     "name": "stderr",
     "output_type": "stream",
     "text": [
      "34it [00:10,  3.39it/s]\n"
     ]
    },
    {
     "name": "stdout",
     "output_type": "stream",
     "text": [
      "Overall Acc: \t 0.44261031901\n",
      "Mean Acc : \t 0.100597858411\n",
      "FreqW Acc : \t 0.266109363632\n",
      "Mean IoU : \t 0.0619194405965\n"
     ]
    },
    {
     "name": "stderr",
     "output_type": "stream",
     "text": [
      "34it [00:09,  3.42it/s]"
     ]
    },
    {
     "name": "stdout",
     "output_type": "stream",
     "text": [
      "Overall Acc: \t 0.442793554687\n",
      "Mean Acc : \t 0.0971346383401\n",
      "FreqW Acc : \t 0.265428907931\n",
      "Mean IoU : \t 0.060170643813\n"
     ]
    },
    {
     "name": "stderr",
     "output_type": "stream",
     "text": [
      "\n",
      "34it [00:10,  3.37it/s]\n"
     ]
    },
    {
     "name": "stdout",
     "output_type": "stream",
     "text": [
      "Overall Acc: \t 0.438360351562\n",
      "Mean Acc : \t 0.105638776999\n",
      "FreqW Acc : \t 0.263129356405\n",
      "Mean IoU : \t 0.0620177781309\n"
     ]
    },
    {
     "name": "stderr",
     "output_type": "stream",
     "text": [
      "34it [00:10,  3.37it/s]"
     ]
    },
    {
     "name": "stdout",
     "output_type": "stream",
     "text": [
      "Overall Acc: \t 0.442173339844\n",
      "Mean Acc : \t 0.0982393395651\n",
      "FreqW Acc : \t 0.266946624196\n",
      "Mean IoU : \t 0.0603185387278\n"
     ]
    },
    {
     "name": "stderr",
     "output_type": "stream",
     "text": [
      "\n",
      "34it [00:10,  3.39it/s]\n"
     ]
    },
    {
     "name": "stdout",
     "output_type": "stream",
     "text": [
      "Overall Acc: \t 0.439852604167\n",
      "Mean Acc : \t 0.105566690139\n",
      "FreqW Acc : \t 0.26323247816\n",
      "Mean IoU : \t 0.0632942375514\n"
     ]
    },
    {
     "name": "stderr",
     "output_type": "stream",
     "text": [
      "34it [00:10,  3.38it/s]"
     ]
    },
    {
     "name": "stdout",
     "output_type": "stream",
     "text": [
      "Overall Acc: \t 0.443460807292\n",
      "Mean Acc : \t 0.102129775572\n",
      "FreqW Acc : \t 0.269468209078\n",
      "Mean IoU : \t 0.0627820001013\n"
     ]
    },
    {
     "name": "stderr",
     "output_type": "stream",
     "text": [
      "\n",
      "34it [00:10,  3.39it/s]"
     ]
    },
    {
     "name": "stdout",
     "output_type": "stream",
     "text": [
      "Overall Acc: \t 0.441064420573\n",
      "Mean Acc : \t 0.100811337108\n",
      "FreqW Acc : \t 0.264577595121\n",
      "Mean IoU : \t 0.0615662306831\n"
     ]
    },
    {
     "name": "stderr",
     "output_type": "stream",
     "text": [
      "\n",
      "34it [00:10,  3.37it/s]"
     ]
    },
    {
     "name": "stdout",
     "output_type": "stream",
     "text": [
      "Overall Acc: \t 0.443411197917\n",
      "Mean Acc : \t 0.101692354765\n",
      "FreqW Acc : \t 0.267149074686\n",
      "Mean IoU : \t 0.0618041905775\n"
     ]
    },
    {
     "name": "stderr",
     "output_type": "stream",
     "text": [
      "\n",
      "34it [00:10,  3.38it/s]"
     ]
    },
    {
     "name": "stdout",
     "output_type": "stream",
     "text": [
      "Overall Acc: \t 0.440316601563\n",
      "Mean Acc : \t 0.102032532378\n",
      "FreqW Acc : \t 0.265103417832\n",
      "Mean IoU : \t 0.0621955664937\n"
     ]
    },
    {
     "name": "stderr",
     "output_type": "stream",
     "text": [
      "\n",
      "34it [00:10,  3.40it/s]\n"
     ]
    },
    {
     "name": "stdout",
     "output_type": "stream",
     "text": [
      "Overall Acc: \t 0.442617415365\n",
      "Mean Acc : \t 0.104005906512\n",
      "FreqW Acc : \t 0.268353103057\n",
      "Mean IoU : \t 0.0634738557768\n"
     ]
    },
    {
     "name": "stderr",
     "output_type": "stream",
     "text": [
      "34it [00:10,  3.35it/s]"
     ]
    },
    {
     "name": "stdout",
     "output_type": "stream",
     "text": [
      "Overall Acc: \t 0.44096858724\n",
      "Mean Acc : \t 0.101839856226\n",
      "FreqW Acc : \t 0.261432921874\n",
      "Mean IoU : \t 0.0611854677676\n"
     ]
    },
    {
     "name": "stderr",
     "output_type": "stream",
     "text": [
      "\n",
      "34it [00:10,  3.38it/s]"
     ]
    },
    {
     "name": "stdout",
     "output_type": "stream",
     "text": [
      "Overall Acc: \t 0.443664095052\n",
      "Mean Acc : \t 0.102715040021\n",
      "FreqW Acc : \t 0.269575246286\n",
      "Mean IoU : \t 0.0628344036465\n"
     ]
    },
    {
     "name": "stderr",
     "output_type": "stream",
     "text": [
      "\n",
      "34it [00:10,  3.33it/s]\n"
     ]
    },
    {
     "name": "stdout",
     "output_type": "stream",
     "text": [
      "Overall Acc: \t 0.439603320312\n",
      "Mean Acc : \t 0.103943059348\n",
      "FreqW Acc : \t 0.265426540762\n",
      "Mean IoU : \t 0.0637810733911\n"
     ]
    },
    {
     "name": "stderr",
     "output_type": "stream",
     "text": [
      "34it [00:09,  3.41it/s]"
     ]
    },
    {
     "name": "stdout",
     "output_type": "stream",
     "text": [
      "Overall Acc: \t 0.442729036458\n",
      "Mean Acc : \t 0.104259043174\n",
      "FreqW Acc : \t 0.268338014418\n",
      "Mean IoU : \t 0.0630465585487\n"
     ]
    },
    {
     "name": "stderr",
     "output_type": "stream",
     "text": [
      "\n",
      "34it [00:10,  3.40it/s]\n"
     ]
    },
    {
     "name": "stdout",
     "output_type": "stream",
     "text": [
      "Overall Acc: \t 0.439113932292\n",
      "Mean Acc : \t 0.106293027482\n",
      "FreqW Acc : \t 0.264951892569\n",
      "Mean IoU : \t 0.0644216332429\n"
     ]
    },
    {
     "name": "stderr",
     "output_type": "stream",
     "text": [
      "34it [00:10,  3.36it/s]\n"
     ]
    },
    {
     "name": "stdout",
     "output_type": "stream",
     "text": [
      "Overall Acc: \t 0.44011656901\n",
      "Mean Acc : \t 0.11045726581\n",
      "FreqW Acc : \t 0.265374134817\n",
      "Mean IoU : \t 0.066229933286\n"
     ]
    },
    {
     "name": "stderr",
     "output_type": "stream",
     "text": [
      "34it [00:10,  3.39it/s]"
     ]
    },
    {
     "name": "stdout",
     "output_type": "stream",
     "text": [
      "Overall Acc: \t 0.443523079427\n",
      "Mean Acc : \t 0.101054479586\n",
      "FreqW Acc : \t 0.268213584485\n",
      "Mean IoU : \t 0.0625548018566\n"
     ]
    },
    {
     "name": "stderr",
     "output_type": "stream",
     "text": [
      "\n",
      "34it [00:09,  3.41it/s]"
     ]
    },
    {
     "name": "stdout",
     "output_type": "stream",
     "text": [
      "Overall Acc: \t 0.438945247396\n",
      "Mean Acc : \t 0.108201999268\n",
      "FreqW Acc : \t 0.267466145451\n",
      "Mean IoU : \t 0.0652833176611\n"
     ]
    },
    {
     "name": "stderr",
     "output_type": "stream",
     "text": [
      "\n",
      "34it [00:10,  3.39it/s]"
     ]
    },
    {
     "name": "stdout",
     "output_type": "stream",
     "text": [
      "Overall Acc: \t 0.441313313802\n",
      "Mean Acc : \t 0.105041325023\n",
      "FreqW Acc : \t 0.267162439304\n",
      "Mean IoU : \t 0.0642016603898\n"
     ]
    },
    {
     "name": "stderr",
     "output_type": "stream",
     "text": [
      "\n",
      "34it [00:09,  3.40it/s]"
     ]
    },
    {
     "name": "stdout",
     "output_type": "stream",
     "text": [
      "Overall Acc: \t 0.441553580729\n",
      "Mean Acc : \t 0.103763950162\n",
      "FreqW Acc : \t 0.266275398803\n",
      "Mean IoU : \t 0.0632674497648\n"
     ]
    },
    {
     "name": "stderr",
     "output_type": "stream",
     "text": [
      "\n",
      "34it [00:10,  3.37it/s]"
     ]
    },
    {
     "name": "stdout",
     "output_type": "stream",
     "text": [
      "Overall Acc: \t 0.442111197917\n",
      "Mean Acc : \t 0.107169026787\n",
      "FreqW Acc : \t 0.268509957717\n",
      "Mean IoU : \t 0.0634664893844\n"
     ]
    },
    {
     "name": "stderr",
     "output_type": "stream",
     "text": [
      "\n",
      "34it [00:10,  3.36it/s]"
     ]
    },
    {
     "name": "stdout",
     "output_type": "stream",
     "text": [
      "Overall Acc: \t 0.440293880208\n",
      "Mean Acc : \t 0.108669660606\n",
      "FreqW Acc : \t 0.264300004478\n",
      "Mean IoU : \t 0.0633291478978\n"
     ]
    },
    {
     "name": "stderr",
     "output_type": "stream",
     "text": [
      "\n",
      "34it [00:10,  3.35it/s]"
     ]
    },
    {
     "name": "stdout",
     "output_type": "stream",
     "text": [
      "Overall Acc: \t 0.445684635417\n",
      "Mean Acc : \t 0.104823765249\n",
      "FreqW Acc : \t 0.270531719317\n",
      "Mean IoU : \t 0.0632215599314\n"
     ]
    },
    {
     "name": "stderr",
     "output_type": "stream",
     "text": [
      "\n"
     ]
    }
   ],
   "source": [
    "best_iou = -100.0 \n",
    "for epoch in range(args.n_epoch):\n",
    "    model.train()\n",
    "    for i, (color_imgs, depth_imgs, label_imgs) in enumerate(trainloader):\n",
    "        images = Variable(color_imgs.cuda())\n",
    "        depth_images = Variable(depth_imgs.cuda())\n",
    "        labels = Variable(label_imgs.cuda())\n",
    "\n",
    "        optimizer.zero_grad()\n",
    "        outputs = model(images,depth_images)\n",
    "\n",
    "        loss = loss_fn(input=outputs, target=labels)\n",
    "\n",
    "        loss.backward()\n",
    "        optimizer.step()\n",
    "\n",
    "        if args.visdom:\n",
    "            vis.line(\n",
    "                X=torch.ones((1, 1)).cpu() * i,\n",
    "                Y=torch.Tensor([loss.data[0]]).unsqueeze(0).cpu(),\n",
    "                win=loss_window,\n",
    "                update='append')\n",
    "\n",
    "        if (i+1) % 100 == 0:\n",
    "            print(\"Epoch [%d/%d] Loss: %.4f\" % (epoch+1, args.n_epoch, loss.data[0]))\n",
    "\n",
    "    model.eval()\n",
    "    for i_val, (color_images_val, depth_images_val, label_images_val) in tqdm(enumerate(valloader)):\n",
    "        color_images_val = Variable(color_images_val.cuda(), volatile=True)\n",
    "        depth_images_val = Variable(depth_images_val.cuda(), volatile=True)\n",
    "        label_images_val = Variable(label_images_val.cuda(), volatile=True)\n",
    "\n",
    "        outputs = model(color_images_val, depth_images_val)\n",
    "        pred = outputs.data.max(1)[1].cpu().numpy()\n",
    "        gt = label_images_val.data.cpu().numpy()\n",
    "        running_metrics.update(gt, pred)\n",
    "\n",
    "    score, class_iou = running_metrics.get_scores()\n",
    "    for k, v in score.items():\n",
    "        print(k, v)\n",
    "    running_metrics.reset()\n",
    "\n",
    "    if score['Mean IoU : \\t'] >= best_iou:\n",
    "        best_iou = score['Mean IoU : \\t']\n",
    "        state = {'epoch': epoch+1,\n",
    "                 'model_state': model.state_dict(),\n",
    "                 'optimizer_state' : optimizer.state_dict(),}\n",
    "        torch.save(state, \"{}_{}_best_model.pkl\".format(args.arch, 'SUNRGBD'))"
   ]
  },
  {
   "cell_type": "code",
   "execution_count": null,
   "metadata": {},
   "outputs": [],
   "source": []
  }
 ],
 "metadata": {
  "kernelspec": {
   "display_name": "Python [conda env:pytorch]",
   "language": "python",
   "name": "conda-env-pytorch-py"
  },
  "language_info": {
   "codemirror_mode": {
    "name": "ipython",
    "version": 3
   },
   "file_extension": ".py",
   "mimetype": "text/x-python",
   "name": "python",
   "nbconvert_exporter": "python",
   "pygments_lexer": "ipython3",
   "version": "3.6.3"
  }
 },
 "nbformat": 4,
 "nbformat_minor": 2
}
