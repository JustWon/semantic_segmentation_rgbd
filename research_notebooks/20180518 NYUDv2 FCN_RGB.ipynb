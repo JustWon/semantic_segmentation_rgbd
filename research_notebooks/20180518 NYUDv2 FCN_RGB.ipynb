{
 "cells": [
  {
   "cell_type": "markdown",
   "metadata": {},
   "source": [
    "## 2018년 05월 18일 15시 09분 36초에 추가 ##\n",
    "- Training FCN_RGB on NYUDv2"
   ]
  },
  {
   "cell_type": "code",
   "execution_count": 1,
   "metadata": {},
   "outputs": [],
   "source": [
    "%matplotlib inline\n",
    "import os\n",
    "import collections\n",
    "import torch\n",
    "import torchvision\n",
    "import numpy as np\n",
    "import scipy.misc as m\n",
    "import scipy.io as io\n",
    "import matplotlib.pyplot as plt\n",
    "\n",
    "from NYUDv2Loader import *\n",
    "\n",
    "os.environ['CUDA_VISIBLE_DEVICES'] = '0'\n",
    "data_path = '/home/dongwonshin/Desktop/Datasets/NYUDv2/'\n",
    "arg_string = '--arch FCN_RGB --batch_size 3 --n_epoch 50'"
   ]
  },
  {
   "cell_type": "markdown",
   "metadata": {},
   "source": [
    "# Argument setting"
   ]
  },
  {
   "cell_type": "code",
   "execution_count": 2,
   "metadata": {},
   "outputs": [],
   "source": [
    "import sys, os\n",
    "import torch\n",
    "import visdom\n",
    "import argparse\n",
    "import numpy as np\n",
    "import torch.nn as nn\n",
    "import torch.nn.functional as F\n",
    "import torchvision.models as models\n",
    "\n",
    "from torch.autograd import Variable\n",
    "from torch.utils import data\n",
    "from tqdm import tqdm\n",
    "\n",
    "from ptsemseg.models import get_model\n",
    "from ptsemseg.loader import get_loader, get_data_path\n",
    "from ptsemseg.metrics import runningScore\n",
    "from ptsemseg.loss import *\n",
    "from ptsemseg.augmentations import *\n",
    "\n",
    "\n",
    "parser = argparse.ArgumentParser(description='Hyperparams')\n",
    "parser.add_argument('--arch', nargs='?', type=str, default='fcn8s', help='Architecture to use [\\'fcn8s, unet, segnet etc\\']')\n",
    "parser.add_argument('--img_rows', nargs='?', type=int, default=256, help='Height of the input image')\n",
    "parser.add_argument('--img_cols', nargs='?', type=int, default=256, help='Width of the input image')\n",
    "\n",
    "parser.add_argument('--img_norm', dest='img_norm', action='store_true', help='Enable input image scales normalization [0, 1] | True by default')\n",
    "parser.add_argument('--no-img_norm', dest='img_norm', action='store_false', help='Disable input image scales normalization [0, 1] | True by default')\n",
    "parser.set_defaults(img_norm=True)\n",
    "\n",
    "parser.add_argument('--n_epoch', nargs='?', type=int, default=10, help='# of the epochs')\n",
    "parser.add_argument('--batch_size', nargs='?', type=int, default=1, help='Batch Size')\n",
    "parser.add_argument('--l_rate', nargs='?', type=float, default=1e-5, help='Learning Rate')\n",
    "parser.add_argument('--feature_scale', nargs='?', type=int, default=1, help='Divider for # of features to use')\n",
    "parser.add_argument('--resume', nargs='?', type=str, default=None, help='Path to previous saved model to restart from')\n",
    "\n",
    "parser.add_argument('--visdom', dest='visdom', action='store_true', help='Enable visualization(s) on visdom | False by default')\n",
    "parser.add_argument('--no-visdom', dest='visdom', action='store_false', help='Disable visualization(s) on visdom | False by default')\n",
    "parser.set_defaults(visdom=False)"
   ]
  },
  {
   "cell_type": "markdown",
   "metadata": {},
   "source": [
    "# Model init"
   ]
  },
  {
   "cell_type": "code",
   "execution_count": 3,
   "metadata": {},
   "outputs": [],
   "source": [
    "args = parser.parse_args(arg_string.split(' '))\n",
    "\n",
    "# Setup Dataloader\n",
    "t_loader = NYUDv2Loader(data_path, is_transform=True)\n",
    "v_loader = NYUDv2Loader(data_path, is_transform=True, split='val')\n",
    "\n",
    "n_classes = t_loader.n_classes\n",
    "trainloader = data.DataLoader(t_loader, batch_size=args.batch_size, num_workers=16, shuffle=True)\n",
    "valloader = data.DataLoader(v_loader, batch_size=args.batch_size, num_workers=16)\n",
    "\n",
    "# Setup Metrics\n",
    "running_metrics = runningScore(n_classes)\n",
    "\n",
    "# Setup visdom for visualization\n",
    "if args.visdom:\n",
    "    vis = visdom.Visdom()\n",
    "\n",
    "    loss_window = vis.line(X=torch.zeros((1,)).cpu(),\n",
    "                       Y=torch.zeros((1)).cpu(),\n",
    "                       opts=dict(xlabel='minibatches',\n",
    "                                 ylabel='Loss',\n",
    "                                 title='Training Loss',\n",
    "                                 legend=['Loss']))\n",
    "\n",
    "# Setup Model\n",
    "model = get_model(args.arch, n_classes)\n",
    "\n",
    "model = torch.nn.DataParallel(model, device_ids=range(torch.cuda.device_count()))\n",
    "model.cuda()\n",
    "\n",
    "# Check if model has custom optimizer / loss\n",
    "if hasattr(model.module, 'optimizer'):\n",
    "    optimizer = model.module.optimizer\n",
    "else:\n",
    "    optimizer = torch.optim.SGD(model.parameters(), lr=args.l_rate, momentum=0.99, weight_decay=5e-4)\n",
    "\n",
    "if hasattr(model.module, 'loss'):\n",
    "    print('Using custom loss')\n",
    "    loss_fn = model.module.loss\n",
    "else:\n",
    "    loss_fn = cross_entropy2d\n",
    "\n",
    "if args.resume is not None:                                         \n",
    "    if os.path.isfile(args.resume):\n",
    "        print(\"Loading model and optimizer from checkpoint '{}'\".format(args.resume))\n",
    "        checkpoint = torch.load(args.resume)\n",
    "        model.load_state_dict(checkpoint['model_state'])\n",
    "        optimizer.load_state_dict(checkpoint['optimizer_state'])\n",
    "        print(\"Loaded checkpoint '{}' (epoch {})\"                    \n",
    "              .format(args.resume, checkpoint['epoch']))\n",
    "    else:\n",
    "        print(\"No checkpoint found at '{}'\".format(args.resume)) \n"
   ]
  },
  {
   "cell_type": "markdown",
   "metadata": {},
   "source": [
    "# Training"
   ]
  },
  {
   "cell_type": "code",
   "execution_count": 4,
   "metadata": {},
   "outputs": [
    {
     "name": "stderr",
     "output_type": "stream",
     "text": [
      "/home/dongwonshin/.conda/envs/pytorch/lib/python3.6/site-packages/torch/nn/functional.py:1462: UserWarning: nn.functional.upsample_bilinear is deprecated. Use nn.functional.upsample instead.\n",
      "  warnings.warn(\"nn.functional.upsample_bilinear is deprecated. Use nn.functional.upsample instead.\")\n"
     ]
    },
    {
     "name": "stdout",
     "output_type": "stream",
     "text": [
      "Epoch [1/50] Loss: 2.2732\n",
      "Epoch [1/50] Loss: 1.9622\n"
     ]
    },
    {
     "name": "stderr",
     "output_type": "stream",
     "text": [
      "218it [00:25,  8.67it/s]\n"
     ]
    },
    {
     "name": "stdout",
     "output_type": "stream",
     "text": [
      "Overall Acc: \t 0.342780395881\n",
      "Mean Acc : \t 0.134631616316\n",
      "FreqW Acc : \t 0.17698283708\n",
      "Mean IoU : \t 0.0716676765573\n",
      "Epoch [2/50] Loss: 2.2530\n",
      "Epoch [2/50] Loss: 1.7566\n"
     ]
    },
    {
     "name": "stderr",
     "output_type": "stream",
     "text": [
      "218it [00:25,  8.56it/s]\n"
     ]
    },
    {
     "name": "stdout",
     "output_type": "stream",
     "text": [
      "Overall Acc: \t 0.385025708182\n",
      "Mean Acc : \t 0.160995349042\n",
      "FreqW Acc : \t 0.216883826272\n",
      "Mean IoU : \t 0.0929314644064\n",
      "Epoch [3/50] Loss: 1.8089\n",
      "Epoch [3/50] Loss: 1.8645\n"
     ]
    },
    {
     "name": "stderr",
     "output_type": "stream",
     "text": [
      "218it [00:25,  8.62it/s]\n"
     ]
    },
    {
     "name": "stdout",
     "output_type": "stream",
     "text": [
      "Overall Acc: \t 0.421318842181\n",
      "Mean Acc : \t 0.193193977882\n",
      "FreqW Acc : \t 0.247149765975\n",
      "Mean IoU : \t 0.116429093073\n",
      "Epoch [4/50] Loss: 1.3550\n",
      "Epoch [4/50] Loss: 1.8460\n"
     ]
    },
    {
     "name": "stderr",
     "output_type": "stream",
     "text": [
      "218it [00:25,  8.56it/s]\n"
     ]
    },
    {
     "name": "stdout",
     "output_type": "stream",
     "text": [
      "Overall Acc: \t 0.443724550642\n",
      "Mean Acc : \t 0.21930887432\n",
      "FreqW Acc : \t 0.270531798454\n",
      "Mean IoU : \t 0.137369249244\n",
      "Epoch [5/50] Loss: 1.6435\n",
      "Epoch [5/50] Loss: 1.5343\n"
     ]
    },
    {
     "name": "stderr",
     "output_type": "stream",
     "text": [
      "218it [00:25,  8.68it/s]\n"
     ]
    },
    {
     "name": "stdout",
     "output_type": "stream",
     "text": [
      "Overall Acc: \t 0.462894557132\n",
      "Mean Acc : \t 0.249626537392\n",
      "FreqW Acc : \t 0.287242919429\n",
      "Mean IoU : \t 0.157498471853\n",
      "Epoch [6/50] Loss: 1.5137\n",
      "Epoch [6/50] Loss: 1.7433\n"
     ]
    },
    {
     "name": "stderr",
     "output_type": "stream",
     "text": [
      "218it [00:25,  8.69it/s]\n"
     ]
    },
    {
     "name": "stdout",
     "output_type": "stream",
     "text": [
      "Overall Acc: \t 0.47734215226\n",
      "Mean Acc : \t 0.265158134644\n",
      "FreqW Acc : \t 0.302449848001\n",
      "Mean IoU : \t 0.172763064865\n",
      "Epoch [7/50] Loss: 1.5395\n",
      "Epoch [7/50] Loss: 1.1851\n"
     ]
    },
    {
     "name": "stderr",
     "output_type": "stream",
     "text": [
      "218it [00:25,  8.62it/s]\n"
     ]
    },
    {
     "name": "stdout",
     "output_type": "stream",
     "text": [
      "Overall Acc: \t 0.487925695639\n",
      "Mean Acc : \t 0.285933067958\n",
      "FreqW Acc : \t 0.318555782988\n",
      "Mean IoU : \t 0.187385053703\n",
      "Epoch [8/50] Loss: 1.2460\n",
      "Epoch [8/50] Loss: 1.5233\n"
     ]
    },
    {
     "name": "stderr",
     "output_type": "stream",
     "text": [
      "218it [00:25,  8.53it/s]\n"
     ]
    },
    {
     "name": "stdout",
     "output_type": "stream",
     "text": [
      "Overall Acc: \t 0.493909599779\n",
      "Mean Acc : \t 0.293007812597\n",
      "FreqW Acc : \t 0.317989553343\n",
      "Mean IoU : \t 0.194539921353\n",
      "Epoch [9/50] Loss: 1.4307\n",
      "Epoch [9/50] Loss: 1.6032\n"
     ]
    },
    {
     "name": "stderr",
     "output_type": "stream",
     "text": [
      "218it [00:25,  8.51it/s]\n"
     ]
    },
    {
     "name": "stdout",
     "output_type": "stream",
     "text": [
      "Overall Acc: \t 0.506776263658\n",
      "Mean Acc : \t 0.320661439369\n",
      "FreqW Acc : \t 0.335232820507\n",
      "Mean IoU : \t 0.213733460821\n",
      "Epoch [10/50] Loss: 1.2795\n",
      "Epoch [10/50] Loss: 1.2057\n"
     ]
    },
    {
     "name": "stderr",
     "output_type": "stream",
     "text": [
      "218it [00:25,  8.57it/s]\n"
     ]
    },
    {
     "name": "stdout",
     "output_type": "stream",
     "text": [
      "Overall Acc: \t 0.510371915018\n",
      "Mean Acc : \t 0.321937359427\n",
      "FreqW Acc : \t 0.337143990243\n",
      "Mean IoU : \t 0.217488652695\n",
      "Epoch [11/50] Loss: 1.3493\n",
      "Epoch [11/50] Loss: 1.2659\n"
     ]
    },
    {
     "name": "stderr",
     "output_type": "stream",
     "text": [
      "218it [00:24,  8.79it/s]\n"
     ]
    },
    {
     "name": "stdout",
     "output_type": "stream",
     "text": [
      "Overall Acc: \t 0.516240881435\n",
      "Mean Acc : \t 0.339562200745\n",
      "FreqW Acc : \t 0.344157913161\n",
      "Mean IoU : \t 0.229920037644\n",
      "Epoch [12/50] Loss: 1.4803\n",
      "Epoch [12/50] Loss: 1.3783\n"
     ]
    },
    {
     "name": "stderr",
     "output_type": "stream",
     "text": [
      "218it [00:25,  8.62it/s]\n"
     ]
    },
    {
     "name": "stdout",
     "output_type": "stream",
     "text": [
      "Overall Acc: \t 0.522759271869\n",
      "Mean Acc : \t 0.350114098275\n",
      "FreqW Acc : \t 0.351802533145\n",
      "Mean IoU : \t 0.240643319471\n",
      "Epoch [13/50] Loss: 1.2659\n",
      "Epoch [13/50] Loss: 1.4368\n"
     ]
    },
    {
     "name": "stderr",
     "output_type": "stream",
     "text": [
      "218it [00:25,  8.68it/s]\n"
     ]
    },
    {
     "name": "stdout",
     "output_type": "stream",
     "text": [
      "Overall Acc: \t 0.525553728856\n",
      "Mean Acc : \t 0.357465914089\n",
      "FreqW Acc : \t 0.352811889772\n",
      "Mean IoU : \t 0.245686624622\n",
      "Epoch [14/50] Loss: 1.5561\n",
      "Epoch [14/50] Loss: 1.3967\n"
     ]
    },
    {
     "name": "stderr",
     "output_type": "stream",
     "text": [
      "218it [00:25,  8.56it/s]\n"
     ]
    },
    {
     "name": "stdout",
     "output_type": "stream",
     "text": [
      "Overall Acc: \t 0.53163817115\n",
      "Mean Acc : \t 0.369480516616\n",
      "FreqW Acc : \t 0.363069443319\n",
      "Mean IoU : \t 0.256372395594\n",
      "Epoch [15/50] Loss: 1.1565\n",
      "Epoch [15/50] Loss: 1.2545\n"
     ]
    },
    {
     "name": "stderr",
     "output_type": "stream",
     "text": [
      "218it [00:25,  8.61it/s]\n"
     ]
    },
    {
     "name": "stdout",
     "output_type": "stream",
     "text": [
      "Overall Acc: \t 0.535504213852\n",
      "Mean Acc : \t 0.372318119198\n",
      "FreqW Acc : \t 0.36827441381\n",
      "Mean IoU : \t 0.261241359045\n",
      "Epoch [16/50] Loss: 1.4243\n",
      "Epoch [16/50] Loss: 1.6432\n"
     ]
    },
    {
     "name": "stderr",
     "output_type": "stream",
     "text": [
      "218it [00:25,  8.69it/s]"
     ]
    },
    {
     "name": "stdout",
     "output_type": "stream",
     "text": [
      "Overall Acc: \t 0.533691784531\n",
      "Mean Acc : \t 0.36794481631\n",
      "FreqW Acc : \t 0.363827226899\n",
      "Mean IoU : \t 0.258506233327\n"
     ]
    },
    {
     "name": "stderr",
     "output_type": "stream",
     "text": [
      "\n"
     ]
    },
    {
     "name": "stdout",
     "output_type": "stream",
     "text": [
      "Epoch [17/50] Loss: 1.2811\n",
      "Epoch [17/50] Loss: 1.2695\n"
     ]
    },
    {
     "name": "stderr",
     "output_type": "stream",
     "text": [
      "218it [00:25,  8.45it/s]\n"
     ]
    },
    {
     "name": "stdout",
     "output_type": "stream",
     "text": [
      "Overall Acc: \t 0.539084171525\n",
      "Mean Acc : \t 0.388784533339\n",
      "FreqW Acc : \t 0.370027377093\n",
      "Mean IoU : \t 0.270088976492\n",
      "Epoch [18/50] Loss: 1.2625\n",
      "Epoch [18/50] Loss: 1.3625\n"
     ]
    },
    {
     "name": "stderr",
     "output_type": "stream",
     "text": [
      "218it [00:25,  8.62it/s]\n"
     ]
    },
    {
     "name": "stdout",
     "output_type": "stream",
     "text": [
      "Overall Acc: \t 0.543300417901\n",
      "Mean Acc : \t 0.404687340078\n",
      "FreqW Acc : \t 0.374528852652\n",
      "Mean IoU : \t 0.27633876677\n",
      "Epoch [19/50] Loss: 1.3019\n",
      "Epoch [19/50] Loss: 1.1482\n"
     ]
    },
    {
     "name": "stderr",
     "output_type": "stream",
     "text": [
      "218it [00:26,  8.32it/s]"
     ]
    },
    {
     "name": "stdout",
     "output_type": "stream",
     "text": [
      "Overall Acc: \t 0.545686694659\n",
      "Mean Acc : \t 0.401179471834\n",
      "FreqW Acc : \t 0.373159376356\n",
      "Mean IoU : \t 0.274704582879\n"
     ]
    },
    {
     "name": "stderr",
     "output_type": "stream",
     "text": [
      "\n"
     ]
    },
    {
     "name": "stdout",
     "output_type": "stream",
     "text": [
      "Epoch [20/50] Loss: 0.8751\n",
      "Epoch [20/50] Loss: 1.0367\n"
     ]
    },
    {
     "name": "stderr",
     "output_type": "stream",
     "text": [
      "218it [00:24,  8.77it/s]\n"
     ]
    },
    {
     "name": "stdout",
     "output_type": "stream",
     "text": [
      "Overall Acc: \t 0.549356807666\n",
      "Mean Acc : \t 0.414885082907\n",
      "FreqW Acc : \t 0.380829292252\n",
      "Mean IoU : \t 0.285018856519\n",
      "Epoch [21/50] Loss: 1.1850\n",
      "Epoch [21/50] Loss: 1.3408\n"
     ]
    },
    {
     "name": "stderr",
     "output_type": "stream",
     "text": [
      "218it [00:24,  8.81it/s]"
     ]
    },
    {
     "name": "stdout",
     "output_type": "stream",
     "text": [
      "Overall Acc: \t 0.548484999164\n",
      "Mean Acc : \t 0.409451493204\n",
      "FreqW Acc : \t 0.376916078259\n",
      "Mean IoU : \t 0.280968114665\n"
     ]
    },
    {
     "name": "stderr",
     "output_type": "stream",
     "text": [
      "\n"
     ]
    },
    {
     "name": "stdout",
     "output_type": "stream",
     "text": [
      "Epoch [22/50] Loss: 1.2368\n",
      "Epoch [22/50] Loss: 1.1396\n"
     ]
    },
    {
     "name": "stderr",
     "output_type": "stream",
     "text": [
      "218it [00:25,  8.70it/s]\n"
     ]
    },
    {
     "name": "stdout",
     "output_type": "stream",
     "text": [
      "Overall Acc: \t 0.554362959711\n",
      "Mean Acc : \t 0.418084143553\n",
      "FreqW Acc : \t 0.384840697767\n",
      "Mean IoU : \t 0.290832086447\n",
      "Epoch [23/50] Loss: 1.5123\n",
      "Epoch [23/50] Loss: 1.4549\n"
     ]
    },
    {
     "name": "stderr",
     "output_type": "stream",
     "text": [
      "218it [00:25,  8.71it/s]\n"
     ]
    },
    {
     "name": "stdout",
     "output_type": "stream",
     "text": [
      "Overall Acc: \t 0.554058776918\n",
      "Mean Acc : \t 0.422160180855\n",
      "FreqW Acc : \t 0.385889193316\n",
      "Mean IoU : \t 0.292795051007\n",
      "Epoch [24/50] Loss: 1.1473\n",
      "Epoch [24/50] Loss: 1.1509\n"
     ]
    },
    {
     "name": "stderr",
     "output_type": "stream",
     "text": [
      "218it [00:24,  8.79it/s]"
     ]
    },
    {
     "name": "stdout",
     "output_type": "stream",
     "text": [
      "Overall Acc: \t 0.553252221904\n",
      "Mean Acc : \t 0.403728358925\n",
      "FreqW Acc : \t 0.380496932128\n",
      "Mean IoU : \t 0.285068569427\n"
     ]
    },
    {
     "name": "stderr",
     "output_type": "stream",
     "text": [
      "\n"
     ]
    },
    {
     "name": "stdout",
     "output_type": "stream",
     "text": [
      "Epoch [25/50] Loss: 1.2665\n",
      "Epoch [25/50] Loss: 1.1646\n"
     ]
    },
    {
     "name": "stderr",
     "output_type": "stream",
     "text": [
      "218it [00:25,  8.65it/s]"
     ]
    },
    {
     "name": "stdout",
     "output_type": "stream",
     "text": [
      "Overall Acc: \t 0.557785846115\n",
      "Mean Acc : \t 0.415386715665\n",
      "FreqW Acc : \t 0.386806355982\n",
      "Mean IoU : \t 0.292172317499\n"
     ]
    },
    {
     "name": "stderr",
     "output_type": "stream",
     "text": [
      "\n"
     ]
    },
    {
     "name": "stdout",
     "output_type": "stream",
     "text": [
      "Epoch [26/50] Loss: 1.0960\n",
      "Epoch [26/50] Loss: 0.9892\n"
     ]
    },
    {
     "name": "stderr",
     "output_type": "stream",
     "text": [
      "218it [00:25,  8.66it/s]\n"
     ]
    },
    {
     "name": "stdout",
     "output_type": "stream",
     "text": [
      "Overall Acc: \t 0.55876318011\n",
      "Mean Acc : \t 0.422215309171\n",
      "FreqW Acc : \t 0.389724697796\n",
      "Mean IoU : \t 0.29596901437\n",
      "Epoch [27/50] Loss: 1.2172\n",
      "Epoch [27/50] Loss: 1.3761\n"
     ]
    },
    {
     "name": "stderr",
     "output_type": "stream",
     "text": [
      "218it [00:25,  8.55it/s]\n"
     ]
    },
    {
     "name": "stdout",
     "output_type": "stream",
     "text": [
      "Overall Acc: \t 0.561292053907\n",
      "Mean Acc : \t 0.428011983774\n",
      "FreqW Acc : \t 0.393502110762\n",
      "Mean IoU : \t 0.299289900764\n",
      "Epoch [28/50] Loss: 1.1460\n",
      "Epoch [28/50] Loss: 1.0314\n"
     ]
    },
    {
     "name": "stderr",
     "output_type": "stream",
     "text": [
      "218it [00:25,  8.63it/s]\n"
     ]
    },
    {
     "name": "stdout",
     "output_type": "stream",
     "text": [
      "Overall Acc: \t 0.561985423237\n",
      "Mean Acc : \t 0.422589365528\n",
      "FreqW Acc : \t 0.394456615736\n",
      "Mean IoU : \t 0.301330263216\n",
      "Epoch [29/50] Loss: 0.8305\n",
      "Epoch [29/50] Loss: 0.9462\n"
     ]
    },
    {
     "name": "stderr",
     "output_type": "stream",
     "text": [
      "218it [00:24,  8.79it/s]\n"
     ]
    },
    {
     "name": "stdout",
     "output_type": "stream",
     "text": [
      "Overall Acc: \t 0.563282937333\n",
      "Mean Acc : \t 0.433036736201\n",
      "FreqW Acc : \t 0.395834619575\n",
      "Mean IoU : \t 0.304757991086\n",
      "Epoch [30/50] Loss: 1.2404\n",
      "Epoch [30/50] Loss: 1.1371\n"
     ]
    },
    {
     "name": "stderr",
     "output_type": "stream",
     "text": [
      "218it [00:25,  8.64it/s]"
     ]
    },
    {
     "name": "stdout",
     "output_type": "stream",
     "text": [
      "Overall Acc: \t 0.559760055309\n",
      "Mean Acc : \t 0.434184075734\n",
      "FreqW Acc : \t 0.390780539247\n",
      "Mean IoU : \t 0.302758053679\n"
     ]
    },
    {
     "name": "stderr",
     "output_type": "stream",
     "text": [
      "\n"
     ]
    },
    {
     "name": "stdout",
     "output_type": "stream",
     "text": [
      "Epoch [31/50] Loss: 0.9664\n",
      "Epoch [31/50] Loss: 1.0313\n"
     ]
    },
    {
     "name": "stderr",
     "output_type": "stream",
     "text": [
      "218it [00:25,  8.69it/s]"
     ]
    },
    {
     "name": "stdout",
     "output_type": "stream",
     "text": [
      "Overall Acc: \t 0.557119095829\n",
      "Mean Acc : \t 0.42732017149\n",
      "FreqW Acc : \t 0.384847706398\n",
      "Mean IoU : \t 0.300637458826\n"
     ]
    },
    {
     "name": "stderr",
     "output_type": "stream",
     "text": [
      "\n"
     ]
    },
    {
     "name": "stdout",
     "output_type": "stream",
     "text": [
      "Epoch [32/50] Loss: 1.1991\n",
      "Epoch [32/50] Loss: 1.4900\n"
     ]
    },
    {
     "name": "stderr",
     "output_type": "stream",
     "text": [
      "218it [00:24,  8.73it/s]\n"
     ]
    },
    {
     "name": "stdout",
     "output_type": "stream",
     "text": [
      "Overall Acc: \t 0.564109551199\n",
      "Mean Acc : \t 0.441895408216\n",
      "FreqW Acc : \t 0.393353334047\n",
      "Mean IoU : \t 0.306815327789\n",
      "Epoch [33/50] Loss: 0.9962\n",
      "Epoch [33/50] Loss: 1.0200\n"
     ]
    },
    {
     "name": "stderr",
     "output_type": "stream",
     "text": [
      "218it [00:25,  8.64it/s]"
     ]
    },
    {
     "name": "stdout",
     "output_type": "stream",
     "text": [
      "Overall Acc: \t 0.559634814403\n",
      "Mean Acc : \t 0.437479819005\n",
      "FreqW Acc : \t 0.390090486237\n",
      "Mean IoU : \t 0.304120125981\n"
     ]
    },
    {
     "name": "stderr",
     "output_type": "stream",
     "text": [
      "\n"
     ]
    },
    {
     "name": "stdout",
     "output_type": "stream",
     "text": [
      "Epoch [34/50] Loss: 0.9712\n",
      "Epoch [34/50] Loss: 1.3906\n"
     ]
    },
    {
     "name": "stderr",
     "output_type": "stream",
     "text": [
      "218it [00:25,  8.64it/s]\n"
     ]
    },
    {
     "name": "stdout",
     "output_type": "stream",
     "text": [
      "Overall Acc: \t 0.567276112346\n",
      "Mean Acc : \t 0.436149836688\n",
      "FreqW Acc : \t 0.395535974609\n",
      "Mean IoU : \t 0.308099866169\n",
      "Epoch [35/50] Loss: 1.2098\n",
      "Epoch [35/50] Loss: 1.1539\n"
     ]
    },
    {
     "name": "stderr",
     "output_type": "stream",
     "text": [
      "218it [00:25,  8.63it/s]\n"
     ]
    },
    {
     "name": "stdout",
     "output_type": "stream",
     "text": [
      "Overall Acc: \t 0.569620793116\n",
      "Mean Acc : \t 0.445705544893\n",
      "FreqW Acc : \t 0.402181616198\n",
      "Mean IoU : \t 0.315795630824\n",
      "Epoch [36/50] Loss: 0.9074\n",
      "Epoch [36/50] Loss: 0.9399\n"
     ]
    },
    {
     "name": "stderr",
     "output_type": "stream",
     "text": [
      "218it [00:25,  8.65it/s]"
     ]
    },
    {
     "name": "stdout",
     "output_type": "stream",
     "text": [
      "Overall Acc: \t 0.566925629938\n",
      "Mean Acc : \t 0.443786679425\n",
      "FreqW Acc : \t 0.397117470192\n",
      "Mean IoU : \t 0.312896325719\n"
     ]
    },
    {
     "name": "stderr",
     "output_type": "stream",
     "text": [
      "\n"
     ]
    },
    {
     "name": "stdout",
     "output_type": "stream",
     "text": [
      "Epoch [37/50] Loss: 1.1420\n",
      "Epoch [37/50] Loss: 1.0458\n"
     ]
    },
    {
     "name": "stderr",
     "output_type": "stream",
     "text": [
      "218it [00:25,  8.58it/s]"
     ]
    },
    {
     "name": "stdout",
     "output_type": "stream",
     "text": [
      "Overall Acc: \t 0.570249202623\n",
      "Mean Acc : \t 0.44773185065\n",
      "FreqW Acc : \t 0.401388500949\n",
      "Mean IoU : \t 0.315716616626\n"
     ]
    },
    {
     "name": "stderr",
     "output_type": "stream",
     "text": [
      "\n"
     ]
    },
    {
     "name": "stdout",
     "output_type": "stream",
     "text": [
      "Epoch [38/50] Loss: 1.1267\n",
      "Epoch [38/50] Loss: 1.4377\n"
     ]
    },
    {
     "name": "stderr",
     "output_type": "stream",
     "text": [
      "218it [00:24,  8.86it/s]\n"
     ]
    },
    {
     "name": "stdout",
     "output_type": "stream",
     "text": [
      "Overall Acc: \t 0.572706486724\n",
      "Mean Acc : \t 0.451692291776\n",
      "FreqW Acc : \t 0.406349871586\n",
      "Mean IoU : \t 0.318864706884\n",
      "Epoch [39/50] Loss: 1.0872\n",
      "Epoch [39/50] Loss: 1.0443\n"
     ]
    },
    {
     "name": "stderr",
     "output_type": "stream",
     "text": [
      "218it [00:25,  8.70it/s]"
     ]
    },
    {
     "name": "stdout",
     "output_type": "stream",
     "text": [
      "Overall Acc: \t 0.569507492952\n",
      "Mean Acc : \t 0.455887653292\n",
      "FreqW Acc : \t 0.399500710007\n",
      "Mean IoU : \t 0.316760050968\n"
     ]
    },
    {
     "name": "stderr",
     "output_type": "stream",
     "text": [
      "\n"
     ]
    },
    {
     "name": "stdout",
     "output_type": "stream",
     "text": [
      "Epoch [40/50] Loss: 0.6150\n",
      "Epoch [40/50] Loss: 1.1864\n"
     ]
    },
    {
     "name": "stderr",
     "output_type": "stream",
     "text": [
      "218it [00:25,  8.67it/s]\n"
     ]
    },
    {
     "name": "stdout",
     "output_type": "stream",
     "text": [
      "Overall Acc: \t 0.574375482806\n",
      "Mean Acc : \t 0.455129339218\n",
      "FreqW Acc : \t 0.406940184994\n",
      "Mean IoU : \t 0.323005022267\n",
      "Epoch [41/50] Loss: 0.8432\n",
      "Epoch [41/50] Loss: 0.7861\n"
     ]
    },
    {
     "name": "stderr",
     "output_type": "stream",
     "text": [
      "218it [00:25,  8.57it/s]\n"
     ]
    },
    {
     "name": "stdout",
     "output_type": "stream",
     "text": [
      "Overall Acc: \t 0.571571300013\n",
      "Mean Acc : \t 0.461703504841\n",
      "FreqW Acc : \t 0.40745153447\n",
      "Mean IoU : \t 0.324137180674\n",
      "Epoch [42/50] Loss: 0.8236\n",
      "Epoch [42/50] Loss: 1.1706\n"
     ]
    },
    {
     "name": "stderr",
     "output_type": "stream",
     "text": [
      "218it [00:25,  8.63it/s]"
     ]
    },
    {
     "name": "stdout",
     "output_type": "stream",
     "text": [
      "Overall Acc: \t 0.572915720964\n",
      "Mean Acc : \t 0.454169736027\n",
      "FreqW Acc : \t 0.402526592658\n",
      "Mean IoU : \t 0.319769190712\n"
     ]
    },
    {
     "name": "stderr",
     "output_type": "stream",
     "text": [
      "\n"
     ]
    },
    {
     "name": "stdout",
     "output_type": "stream",
     "text": [
      "Epoch [43/50] Loss: 0.8196\n",
      "Epoch [43/50] Loss: 0.8041\n"
     ]
    },
    {
     "name": "stderr",
     "output_type": "stream",
     "text": [
      "218it [00:25,  8.66it/s]"
     ]
    },
    {
     "name": "stdout",
     "output_type": "stream",
     "text": [
      "Overall Acc: \t 0.573825676128\n",
      "Mean Acc : \t 0.456177402146\n",
      "FreqW Acc : \t 0.404249777571\n",
      "Mean IoU : \t 0.322479682496\n"
     ]
    },
    {
     "name": "stderr",
     "output_type": "stream",
     "text": [
      "\n"
     ]
    },
    {
     "name": "stdout",
     "output_type": "stream",
     "text": [
      "Epoch [44/50] Loss: 0.9538\n",
      "Epoch [44/50] Loss: 0.8938\n"
     ]
    },
    {
     "name": "stderr",
     "output_type": "stream",
     "text": [
      "218it [00:25,  8.63it/s]\n"
     ]
    },
    {
     "name": "stdout",
     "output_type": "stream",
     "text": [
      "Overall Acc: \t 0.575522520666\n",
      "Mean Acc : \t 0.458321992624\n",
      "FreqW Acc : \t 0.40796158141\n",
      "Mean IoU : \t 0.325339443606\n",
      "Epoch [45/50] Loss: 0.8957\n",
      "Epoch [45/50] Loss: 1.6173\n"
     ]
    },
    {
     "name": "stderr",
     "output_type": "stream",
     "text": [
      "218it [00:25,  8.56it/s]\n"
     ]
    },
    {
     "name": "stdout",
     "output_type": "stream",
     "text": [
      "Overall Acc: \t 0.575798397084\n",
      "Mean Acc : \t 0.465832961308\n",
      "FreqW Acc : \t 0.409208259674\n",
      "Mean IoU : \t 0.326997959765\n",
      "Epoch [46/50] Loss: 0.8887\n",
      "Epoch [46/50] Loss: 1.0185\n"
     ]
    },
    {
     "name": "stderr",
     "output_type": "stream",
     "text": [
      "218it [00:25,  8.65it/s]"
     ]
    },
    {
     "name": "stdout",
     "output_type": "stream",
     "text": [
      "Overall Acc: \t 0.575688655748\n",
      "Mean Acc : \t 0.46117534815\n",
      "FreqW Acc : \t 0.40659150743\n",
      "Mean IoU : \t 0.326147830282\n"
     ]
    },
    {
     "name": "stderr",
     "output_type": "stream",
     "text": [
      "\n"
     ]
    },
    {
     "name": "stdout",
     "output_type": "stream",
     "text": [
      "Epoch [47/50] Loss: 1.2024\n",
      "Epoch [47/50] Loss: 1.2190\n"
     ]
    },
    {
     "name": "stderr",
     "output_type": "stream",
     "text": [
      "218it [00:25,  8.52it/s]\n"
     ]
    },
    {
     "name": "stdout",
     "output_type": "stream",
     "text": [
      "Overall Acc: \t 0.575560557825\n",
      "Mean Acc : \t 0.466477106516\n",
      "FreqW Acc : \t 0.409951645287\n",
      "Mean IoU : \t 0.328704597429\n",
      "Epoch [48/50] Loss: 0.7915\n",
      "Epoch [48/50] Loss: 0.8921\n"
     ]
    },
    {
     "name": "stderr",
     "output_type": "stream",
     "text": [
      "218it [00:25,  8.69it/s]"
     ]
    },
    {
     "name": "stdout",
     "output_type": "stream",
     "text": [
      "Overall Acc: \t 0.57527345741\n",
      "Mean Acc : \t 0.454411822118\n",
      "FreqW Acc : \t 0.40673758325\n",
      "Mean IoU : \t 0.323728713652\n"
     ]
    },
    {
     "name": "stderr",
     "output_type": "stream",
     "text": [
      "\n"
     ]
    },
    {
     "name": "stdout",
     "output_type": "stream",
     "text": [
      "Epoch [49/50] Loss: 0.9023\n",
      "Epoch [49/50] Loss: 1.0889\n"
     ]
    },
    {
     "name": "stderr",
     "output_type": "stream",
     "text": [
      "218it [00:25,  8.47it/s]"
     ]
    },
    {
     "name": "stdout",
     "output_type": "stream",
     "text": [
      "Overall Acc: \t 0.572238791929\n",
      "Mean Acc : \t 0.442995109541\n",
      "FreqW Acc : \t 0.405022677128\n",
      "Mean IoU : \t 0.321354635472\n"
     ]
    },
    {
     "name": "stderr",
     "output_type": "stream",
     "text": [
      "\n"
     ]
    },
    {
     "name": "stdout",
     "output_type": "stream",
     "text": [
      "Epoch [50/50] Loss: 0.7283\n",
      "Epoch [50/50] Loss: 0.7384\n"
     ]
    },
    {
     "name": "stderr",
     "output_type": "stream",
     "text": [
      "218it [00:25,  8.68it/s]\n"
     ]
    },
    {
     "name": "stdout",
     "output_type": "stream",
     "text": [
      "Overall Acc: \t 0.576334471163\n",
      "Mean Acc : \t 0.468214265835\n",
      "FreqW Acc : \t 0.410716455771\n",
      "Mean IoU : \t 0.330127568796\n"
     ]
    }
   ],
   "source": [
    "best_iou = -100.0 \n",
    "for epoch in range(args.n_epoch):\n",
    "    model.train()\n",
    "    for i, (color_imgs, depth_imgs, label_imgs) in enumerate(trainloader):\n",
    "        color_imgs = Variable(color_imgs.cuda())\n",
    "        depth_imgs = Variable(depth_imgs.cuda())\n",
    "        label_imgs = Variable(label_imgs.cuda())\n",
    "\n",
    "        optimizer.zero_grad()\n",
    "        outputs = model(color_imgs)\n",
    "\n",
    "        loss = loss_fn(input=outputs, target=label_imgs)\n",
    "\n",
    "        loss.backward()\n",
    "        optimizer.step()\n",
    "\n",
    "        if args.visdom:\n",
    "            vis.line(\n",
    "                X=torch.ones((1, 1)).cpu() * i,\n",
    "                Y=torch.Tensor([loss.data[0]]).unsqueeze(0).cpu(),\n",
    "                win=loss_window,\n",
    "                update='append')\n",
    "\n",
    "        if (i+1) % 100 == 0:\n",
    "            print(\"Epoch [%d/%d] Loss: %.4f\" % (epoch+1, args.n_epoch, loss.data[0]))\n",
    "\n",
    "    model.eval()\n",
    "    for i_val, (color_images_val, depth_images_val, label_images_val) in tqdm(enumerate(valloader)):\n",
    "        color_images_val = Variable(color_images_val.cuda(), volatile=True)\n",
    "        depth_images_val = Variable(depth_images_val.cuda(), volatile=True)\n",
    "        label_images_val = Variable(label_images_val.cuda(), volatile=True)\n",
    "\n",
    "        outputs = model(color_images_val)\n",
    "        pred = outputs.data.max(1)[1].cpu().numpy()\n",
    "        gt = label_images_val.data.cpu().numpy()\n",
    "        running_metrics.update(gt, pred)\n",
    "\n",
    "    score, class_iou = running_metrics.get_scores()\n",
    "    for k, v in score.items():\n",
    "        print(k, v)\n",
    "    running_metrics.reset()\n",
    "\n",
    "    if score['Mean IoU : \\t'] >= best_iou:\n",
    "        best_iou = score['Mean IoU : \\t']\n",
    "        state = {'epoch': epoch+1,\n",
    "                 'model_state': model.state_dict(),\n",
    "                 'optimizer_state' : optimizer.state_dict(),}\n",
    "        torch.save(state, \"../model_weights/{}_{}_best_model.pkl\".format(args.arch, 'NYUDv2'))"
   ]
  },
  {
   "cell_type": "markdown",
   "metadata": {},
   "source": [
    "# Training FCN_RGB on NYUDv2"
   ]
  },
  {
   "cell_type": "markdown",
   "metadata": {},
   "source": [
    "# Second round"
   ]
  },
  {
   "cell_type": "code",
   "execution_count": 1,
   "metadata": {},
   "outputs": [
    {
     "name": "stdout",
     "output_type": "stream",
     "text": [
      "Loading model and optimizer from checkpoint '../model_weights/FCN_RGB_NYUDv2_best_model.pkl'\n",
      "Loaded checkpoint '../model_weights/FCN_RGB_NYUDv2_best_model.pkl' (epoch 50)\n"
     ]
    },
    {
     "name": "stderr",
     "output_type": "stream",
     "text": [
      "/home/dongwonshin/.conda/envs/pytorch/lib/python3.6/site-packages/torch/nn/functional.py:1462: UserWarning: nn.functional.upsample_bilinear is deprecated. Use nn.functional.upsample instead.\n",
      "  warnings.warn(\"nn.functional.upsample_bilinear is deprecated. Use nn.functional.upsample instead.\")\n"
     ]
    },
    {
     "name": "stdout",
     "output_type": "stream",
     "text": [
      "Epoch [1/50] Loss: 0.8969\n",
      "Epoch [1/50] Loss: 1.0645\n"
     ]
    },
    {
     "name": "stderr",
     "output_type": "stream",
     "text": [
      "218it [00:24,  8.75it/s]\n"
     ]
    },
    {
     "name": "stdout",
     "output_type": "stream",
     "text": [
      "Overall Acc: \t 0.574953854684\n",
      "Mean Acc : \t 0.455462676677\n",
      "FreqW Acc : \t 0.406740557506\n",
      "Mean IoU : \t 0.324854994087\n",
      "Epoch [2/50] Loss: 0.9917\n",
      "Epoch [2/50] Loss: 1.0931\n"
     ]
    },
    {
     "name": "stderr",
     "output_type": "stream",
     "text": [
      "218it [00:24,  8.89it/s]\n"
     ]
    },
    {
     "name": "stdout",
     "output_type": "stream",
     "text": [
      "Overall Acc: \t 0.577488880527\n",
      "Mean Acc : \t 0.457040368597\n",
      "FreqW Acc : \t 0.410425361983\n",
      "Mean IoU : \t 0.327523978084\n",
      "Epoch [3/50] Loss: 0.9256\n",
      "Epoch [3/50] Loss: 1.0060\n"
     ]
    },
    {
     "name": "stderr",
     "output_type": "stream",
     "text": [
      "218it [00:25,  8.69it/s]"
     ]
    },
    {
     "name": "stdout",
     "output_type": "stream",
     "text": [
      "Overall Acc: \t 0.574666913545\n",
      "Mean Acc : \t 0.447702204236\n",
      "FreqW Acc : \t 0.407469022739\n",
      "Mean IoU : \t 0.323657374402\n"
     ]
    },
    {
     "name": "stderr",
     "output_type": "stream",
     "text": [
      "\n"
     ]
    },
    {
     "name": "stdout",
     "output_type": "stream",
     "text": [
      "Epoch [4/50] Loss: 0.7192\n",
      "Epoch [4/50] Loss: 0.8358\n"
     ]
    },
    {
     "name": "stderr",
     "output_type": "stream",
     "text": [
      "218it [00:25,  8.55it/s]\n"
     ]
    },
    {
     "name": "stdout",
     "output_type": "stream",
     "text": [
      "Overall Acc: \t 0.577493051574\n",
      "Mean Acc : \t 0.471749461417\n",
      "FreqW Acc : \t 0.410475974279\n",
      "Mean IoU : \t 0.332408739939\n",
      "Epoch [5/50] Loss: 0.9564\n",
      "Epoch [5/50] Loss: 0.8392\n"
     ]
    },
    {
     "name": "stderr",
     "output_type": "stream",
     "text": [
      "218it [00:25,  8.55it/s]"
     ]
    },
    {
     "name": "stdout",
     "output_type": "stream",
     "text": [
      "Overall Acc: \t 0.57729078567\n",
      "Mean Acc : \t 0.462773793979\n",
      "FreqW Acc : \t 0.408642994094\n",
      "Mean IoU : \t 0.328906686066\n"
     ]
    },
    {
     "name": "stderr",
     "output_type": "stream",
     "text": [
      "\n"
     ]
    },
    {
     "name": "stdout",
     "output_type": "stream",
     "text": [
      "Epoch [6/50] Loss: 0.8468\n",
      "Epoch [6/50] Loss: 0.8692\n"
     ]
    },
    {
     "name": "stderr",
     "output_type": "stream",
     "text": [
      "218it [00:25,  8.63it/s]"
     ]
    },
    {
     "name": "stdout",
     "output_type": "stream",
     "text": [
      "Overall Acc: \t 0.577993721529\n",
      "Mean Acc : \t 0.464602316023\n",
      "FreqW Acc : \t 0.410383512856\n",
      "Mean IoU : \t 0.331183326936\n"
     ]
    },
    {
     "name": "stderr",
     "output_type": "stream",
     "text": [
      "\n"
     ]
    },
    {
     "name": "stdout",
     "output_type": "stream",
     "text": [
      "Epoch [7/50] Loss: 0.7588\n",
      "Epoch [7/50] Loss: 0.9647\n"
     ]
    },
    {
     "name": "stderr",
     "output_type": "stream",
     "text": [
      "218it [00:25,  8.58it/s]"
     ]
    },
    {
     "name": "stdout",
     "output_type": "stream",
     "text": [
      "Overall Acc: \t 0.576338806463\n",
      "Mean Acc : \t 0.465052401461\n",
      "FreqW Acc : \t 0.407452349972\n",
      "Mean IoU : \t 0.328201473107\n"
     ]
    },
    {
     "name": "stderr",
     "output_type": "stream",
     "text": [
      "\n"
     ]
    },
    {
     "name": "stdout",
     "output_type": "stream",
     "text": [
      "Epoch [8/50] Loss: 0.9127\n",
      "Epoch [8/50] Loss: 1.3355\n"
     ]
    },
    {
     "name": "stderr",
     "output_type": "stream",
     "text": [
      "218it [00:25,  8.66it/s]"
     ]
    },
    {
     "name": "stdout",
     "output_type": "stream",
     "text": [
      "Overall Acc: \t 0.573358090835\n",
      "Mean Acc : \t 0.477622032077\n",
      "FreqW Acc : \t 0.405056872705\n",
      "Mean IoU : \t 0.330722746815\n"
     ]
    },
    {
     "name": "stderr",
     "output_type": "stream",
     "text": [
      "\n"
     ]
    },
    {
     "name": "stdout",
     "output_type": "stream",
     "text": [
      "Epoch [9/50] Loss: 0.7248\n",
      "Epoch [9/50] Loss: 0.8361\n"
     ]
    },
    {
     "name": "stderr",
     "output_type": "stream",
     "text": [
      "218it [00:25,  8.70it/s]"
     ]
    },
    {
     "name": "stdout",
     "output_type": "stream",
     "text": [
      "Overall Acc: \t 0.57664613994\n",
      "Mean Acc : \t 0.467307439376\n",
      "FreqW Acc : \t 0.410879707404\n",
      "Mean IoU : \t 0.332335285123\n"
     ]
    },
    {
     "name": "stderr",
     "output_type": "stream",
     "text": [
      "\n"
     ]
    },
    {
     "name": "stdout",
     "output_type": "stream",
     "text": [
      "Epoch [10/50] Loss: 0.5682\n",
      "Epoch [10/50] Loss: 1.0544\n"
     ]
    },
    {
     "name": "stderr",
     "output_type": "stream",
     "text": [
      "218it [00:24,  8.81it/s]\n"
     ]
    },
    {
     "name": "stdout",
     "output_type": "stream",
     "text": [
      "Overall Acc: \t 0.576803972748\n",
      "Mean Acc : \t 0.46991227891\n",
      "FreqW Acc : \t 0.410953795143\n",
      "Mean IoU : \t 0.333751164925\n",
      "Epoch [11/50] Loss: 0.8927\n",
      "Epoch [11/50] Loss: 0.6322\n"
     ]
    },
    {
     "name": "stderr",
     "output_type": "stream",
     "text": [
      "218it [00:25,  8.64it/s]"
     ]
    },
    {
     "name": "stdout",
     "output_type": "stream",
     "text": [
      "Overall Acc: \t 0.577457294056\n",
      "Mean Acc : \t 0.473296555196\n",
      "FreqW Acc : \t 0.408702377949\n",
      "Mean IoU : \t 0.333503711695\n"
     ]
    },
    {
     "name": "stderr",
     "output_type": "stream",
     "text": [
      "\n"
     ]
    },
    {
     "name": "stdout",
     "output_type": "stream",
     "text": [
      "Epoch [12/50] Loss: 0.6762\n",
      "Epoch [12/50] Loss: 1.0646\n"
     ]
    },
    {
     "name": "stderr",
     "output_type": "stream",
     "text": [
      "218it [00:25,  8.68it/s]"
     ]
    },
    {
     "name": "stdout",
     "output_type": "stream",
     "text": [
      "Overall Acc: \t 0.578202323641\n",
      "Mean Acc : \t 0.473802508366\n",
      "FreqW Acc : \t 0.410458299447\n",
      "Mean IoU : \t 0.333305778588\n"
     ]
    },
    {
     "name": "stderr",
     "output_type": "stream",
     "text": [
      "\n"
     ]
    },
    {
     "name": "stdout",
     "output_type": "stream",
     "text": [
      "Epoch [13/50] Loss: 0.7444\n",
      "Epoch [13/50] Loss: 0.9716\n"
     ]
    },
    {
     "name": "stderr",
     "output_type": "stream",
     "text": [
      "218it [00:25,  8.57it/s]\n"
     ]
    },
    {
     "name": "stdout",
     "output_type": "stream",
     "text": [
      "Overall Acc: \t 0.579519453603\n",
      "Mean Acc : \t 0.470483318251\n",
      "FreqW Acc : \t 0.412362525192\n",
      "Mean IoU : \t 0.335509539793\n",
      "Epoch [14/50] Loss: 0.7479\n",
      "Epoch [14/50] Loss: 0.7020\n"
     ]
    },
    {
     "name": "stderr",
     "output_type": "stream",
     "text": [
      "218it [00:25,  8.57it/s]\n"
     ]
    },
    {
     "name": "stdout",
     "output_type": "stream",
     "text": [
      "Overall Acc: \t 0.57994800626\n",
      "Mean Acc : \t 0.472320343037\n",
      "FreqW Acc : \t 0.414352688233\n",
      "Mean IoU : \t 0.33894535731\n",
      "Epoch [15/50] Loss: 0.6784\n",
      "Epoch [15/50] Loss: 0.6675\n"
     ]
    },
    {
     "name": "stderr",
     "output_type": "stream",
     "text": [
      "218it [00:25,  8.52it/s]"
     ]
    },
    {
     "name": "stdout",
     "output_type": "stream",
     "text": [
      "Overall Acc: \t 0.577137815765\n",
      "Mean Acc : \t 0.468431316972\n",
      "FreqW Acc : \t 0.408152622331\n",
      "Mean IoU : \t 0.33302797248\n"
     ]
    },
    {
     "name": "stderr",
     "output_type": "stream",
     "text": [
      "\n"
     ]
    },
    {
     "name": "stdout",
     "output_type": "stream",
     "text": [
      "Epoch [16/50] Loss: 1.0166\n",
      "Epoch [16/50] Loss: 0.8735\n"
     ]
    },
    {
     "name": "stderr",
     "output_type": "stream",
     "text": [
      "218it [00:24,  8.80it/s]"
     ]
    },
    {
     "name": "stdout",
     "output_type": "stream",
     "text": [
      "Overall Acc: \t 0.577957769894\n",
      "Mean Acc : \t 0.47264496778\n",
      "FreqW Acc : \t 0.410223717753\n",
      "Mean IoU : \t 0.335830088744\n"
     ]
    },
    {
     "name": "stderr",
     "output_type": "stream",
     "text": [
      "\n"
     ]
    },
    {
     "name": "stdout",
     "output_type": "stream",
     "text": [
      "Epoch [17/50] Loss: 0.8853\n",
      "Epoch [17/50] Loss: 0.7311\n"
     ]
    },
    {
     "name": "stderr",
     "output_type": "stream",
     "text": [
      "218it [00:25,  8.67it/s]\n"
     ]
    },
    {
     "name": "stdout",
     "output_type": "stream",
     "text": [
      "Overall Acc: \t 0.580165940964\n",
      "Mean Acc : \t 0.489929656248\n",
      "FreqW Acc : \t 0.415317209672\n",
      "Mean IoU : \t 0.343163596119\n",
      "Epoch [18/50] Loss: 0.8189\n",
      "Epoch [18/50] Loss: 0.7284\n"
     ]
    },
    {
     "name": "stderr",
     "output_type": "stream",
     "text": [
      "218it [00:25,  8.62it/s]"
     ]
    },
    {
     "name": "stdout",
     "output_type": "stream",
     "text": [
      "Overall Acc: \t 0.581931777005\n",
      "Mean Acc : \t 0.480878303361\n",
      "FreqW Acc : \t 0.414369602764\n",
      "Mean IoU : \t 0.340014893063\n"
     ]
    },
    {
     "name": "stderr",
     "output_type": "stream",
     "text": [
      "\n"
     ]
    },
    {
     "name": "stdout",
     "output_type": "stream",
     "text": [
      "Epoch [19/50] Loss: 0.7897\n",
      "Epoch [19/50] Loss: 0.8612\n"
     ]
    },
    {
     "name": "stderr",
     "output_type": "stream",
     "text": [
      "218it [00:25,  8.69it/s]"
     ]
    },
    {
     "name": "stdout",
     "output_type": "stream",
     "text": [
      "Overall Acc: \t 0.57649519583\n",
      "Mean Acc : \t 0.462611570051\n",
      "FreqW Acc : \t 0.405751615176\n",
      "Mean IoU : \t 0.329850700212\n"
     ]
    },
    {
     "name": "stderr",
     "output_type": "stream",
     "text": [
      "\n"
     ]
    },
    {
     "name": "stdout",
     "output_type": "stream",
     "text": [
      "Epoch [20/50] Loss: 0.6535\n",
      "Epoch [20/50] Loss: 0.8310\n"
     ]
    },
    {
     "name": "stderr",
     "output_type": "stream",
     "text": [
      "218it [00:25,  8.59it/s]"
     ]
    },
    {
     "name": "stdout",
     "output_type": "stream",
     "text": [
      "Overall Acc: \t 0.581667308749\n",
      "Mean Acc : \t 0.482557316317\n",
      "FreqW Acc : \t 0.412678215064\n",
      "Mean IoU : \t 0.341275863919\n"
     ]
    },
    {
     "name": "stderr",
     "output_type": "stream",
     "text": [
      "\n"
     ]
    },
    {
     "name": "stdout",
     "output_type": "stream",
     "text": [
      "Epoch [21/50] Loss: 0.6275\n",
      "Epoch [21/50] Loss: 0.9536\n"
     ]
    },
    {
     "name": "stderr",
     "output_type": "stream",
     "text": [
      "218it [00:25,  8.68it/s]"
     ]
    },
    {
     "name": "stdout",
     "output_type": "stream",
     "text": [
      "Overall Acc: \t 0.580541419788\n",
      "Mean Acc : \t 0.473724994474\n",
      "FreqW Acc : \t 0.412895737803\n",
      "Mean IoU : \t 0.340307515157\n"
     ]
    },
    {
     "name": "stderr",
     "output_type": "stream",
     "text": [
      "\n"
     ]
    },
    {
     "name": "stdout",
     "output_type": "stream",
     "text": [
      "Epoch [22/50] Loss: 0.7050\n",
      "Epoch [22/50] Loss: 0.9308\n"
     ]
    },
    {
     "name": "stderr",
     "output_type": "stream",
     "text": [
      "218it [00:25,  8.57it/s]"
     ]
    },
    {
     "name": "stdout",
     "output_type": "stream",
     "text": [
      "Overall Acc: \t 0.58034039823\n",
      "Mean Acc : \t 0.478584549714\n",
      "FreqW Acc : \t 0.411081779448\n",
      "Mean IoU : \t 0.339861451458\n"
     ]
    },
    {
     "name": "stderr",
     "output_type": "stream",
     "text": [
      "\n"
     ]
    },
    {
     "name": "stdout",
     "output_type": "stream",
     "text": [
      "Epoch [23/50] Loss: 0.9737\n",
      "Epoch [23/50] Loss: 0.9852\n"
     ]
    },
    {
     "name": "stderr",
     "output_type": "stream",
     "text": [
      "218it [00:25,  8.58it/s]"
     ]
    },
    {
     "name": "stdout",
     "output_type": "stream",
     "text": [
      "Overall Acc: \t 0.580801483061\n",
      "Mean Acc : \t 0.483254351804\n",
      "FreqW Acc : \t 0.416523896999\n",
      "Mean IoU : \t 0.342936785117\n"
     ]
    },
    {
     "name": "stderr",
     "output_type": "stream",
     "text": [
      "\n"
     ]
    },
    {
     "name": "stdout",
     "output_type": "stream",
     "text": [
      "Epoch [24/50] Loss: 0.7384\n",
      "Epoch [24/50] Loss: 0.8820\n"
     ]
    },
    {
     "name": "stderr",
     "output_type": "stream",
     "text": [
      "218it [00:25,  8.71it/s]"
     ]
    },
    {
     "name": "stdout",
     "output_type": "stream",
     "text": [
      "Overall Acc: \t 0.580375215023\n",
      "Mean Acc : \t 0.467785601998\n",
      "FreqW Acc : \t 0.414146580648\n",
      "Mean IoU : \t 0.339173508349\n"
     ]
    },
    {
     "name": "stderr",
     "output_type": "stream",
     "text": [
      "\n"
     ]
    },
    {
     "name": "stdout",
     "output_type": "stream",
     "text": [
      "Epoch [25/50] Loss: 0.6540\n",
      "Epoch [25/50] Loss: 0.6480\n"
     ]
    },
    {
     "name": "stderr",
     "output_type": "stream",
     "text": [
      "218it [00:24,  8.77it/s]"
     ]
    },
    {
     "name": "stdout",
     "output_type": "stream",
     "text": [
      "Overall Acc: \t 0.580445391143\n",
      "Mean Acc : \t 0.476913175288\n",
      "FreqW Acc : \t 0.412931078836\n",
      "Mean IoU : \t 0.340163984752\n"
     ]
    },
    {
     "name": "stderr",
     "output_type": "stream",
     "text": [
      "\n"
     ]
    },
    {
     "name": "stdout",
     "output_type": "stream",
     "text": [
      "Epoch [26/50] Loss: 0.9025\n",
      "Epoch [26/50] Loss: 1.0623\n"
     ]
    },
    {
     "name": "stderr",
     "output_type": "stream",
     "text": [
      "218it [00:24,  8.79it/s]"
     ]
    },
    {
     "name": "stdout",
     "output_type": "stream",
     "text": [
      "Overall Acc: \t 0.580013433956\n",
      "Mean Acc : \t 0.477275888569\n",
      "FreqW Acc : \t 0.412149853704\n",
      "Mean IoU : \t 0.340594338863\n"
     ]
    },
    {
     "name": "stderr",
     "output_type": "stream",
     "text": [
      "\n"
     ]
    },
    {
     "name": "stdout",
     "output_type": "stream",
     "text": [
      "Epoch [27/50] Loss: 1.0555\n",
      "Epoch [27/50] Loss: 0.7797\n"
     ]
    },
    {
     "name": "stderr",
     "output_type": "stream",
     "text": [
      "218it [00:24,  8.82it/s]\n"
     ]
    },
    {
     "name": "stdout",
     "output_type": "stream",
     "text": [
      "Overall Acc: \t 0.581508156935\n",
      "Mean Acc : \t 0.48000339141\n",
      "FreqW Acc : \t 0.41467809989\n",
      "Mean IoU : \t 0.344551508125\n",
      "Epoch [28/50] Loss: 0.7798\n",
      "Epoch [28/50] Loss: 0.7971\n"
     ]
    },
    {
     "name": "stderr",
     "output_type": "stream",
     "text": [
      "218it [00:24,  8.74it/s]"
     ]
    },
    {
     "name": "stdout",
     "output_type": "stream",
     "text": [
      "Overall Acc: \t 0.58077965226\n",
      "Mean Acc : \t 0.488626958425\n",
      "FreqW Acc : \t 0.413392642935\n",
      "Mean IoU : \t 0.342369903049\n"
     ]
    },
    {
     "name": "stderr",
     "output_type": "stream",
     "text": [
      "\n"
     ]
    },
    {
     "name": "stdout",
     "output_type": "stream",
     "text": [
      "Epoch [29/50] Loss: 0.7090\n",
      "Epoch [29/50] Loss: 0.5560\n"
     ]
    },
    {
     "name": "stderr",
     "output_type": "stream",
     "text": [
      "218it [00:25,  8.72it/s]"
     ]
    },
    {
     "name": "stdout",
     "output_type": "stream",
     "text": [
      "Overall Acc: \t 0.582383205713\n",
      "Mean Acc : \t 0.480519038189\n",
      "FreqW Acc : \t 0.412900829777\n",
      "Mean IoU : \t 0.342314814122\n"
     ]
    },
    {
     "name": "stderr",
     "output_type": "stream",
     "text": [
      "\n"
     ]
    },
    {
     "name": "stdout",
     "output_type": "stream",
     "text": [
      "Epoch [30/50] Loss: 0.7619\n",
      "Epoch [30/50] Loss: 0.9727\n"
     ]
    },
    {
     "name": "stderr",
     "output_type": "stream",
     "text": [
      "218it [00:25,  8.71it/s]"
     ]
    },
    {
     "name": "stdout",
     "output_type": "stream",
     "text": [
      "Overall Acc: \t 0.582573943998\n",
      "Mean Acc : \t 0.481800435843\n",
      "FreqW Acc : \t 0.415170981849\n",
      "Mean IoU : \t 0.344400181614\n"
     ]
    },
    {
     "name": "stderr",
     "output_type": "stream",
     "text": [
      "\n"
     ]
    },
    {
     "name": "stdout",
     "output_type": "stream",
     "text": [
      "Epoch [31/50] Loss: 0.7159\n",
      "Epoch [31/50] Loss: 0.9815\n"
     ]
    },
    {
     "name": "stderr",
     "output_type": "stream",
     "text": [
      "218it [00:25,  8.51it/s]"
     ]
    },
    {
     "name": "stdout",
     "output_type": "stream",
     "text": [
      "Overall Acc: \t 0.579575264996\n",
      "Mean Acc : \t 0.485323299546\n",
      "FreqW Acc : \t 0.414350060552\n",
      "Mean IoU : \t 0.343563470127\n"
     ]
    },
    {
     "name": "stderr",
     "output_type": "stream",
     "text": [
      "\n"
     ]
    },
    {
     "name": "stdout",
     "output_type": "stream",
     "text": [
      "Epoch [32/50] Loss: 0.6358\n",
      "Epoch [32/50] Loss: 0.8853\n"
     ]
    },
    {
     "name": "stderr",
     "output_type": "stream",
     "text": [
      "218it [00:25,  8.59it/s]\n"
     ]
    },
    {
     "name": "stdout",
     "output_type": "stream",
     "text": [
      "Overall Acc: \t 0.582292000151\n",
      "Mean Acc : \t 0.490314872849\n",
      "FreqW Acc : \t 0.414601644249\n",
      "Mean IoU : \t 0.347028612032\n",
      "Epoch [33/50] Loss: 0.8865\n",
      "Epoch [33/50] Loss: 0.7731\n"
     ]
    },
    {
     "name": "stderr",
     "output_type": "stream",
     "text": [
      "218it [00:25,  8.50it/s]"
     ]
    },
    {
     "name": "stdout",
     "output_type": "stream",
     "text": [
      "Overall Acc: \t 0.581470289007\n",
      "Mean Acc : \t 0.485930376137\n",
      "FreqW Acc : \t 0.412870561319\n",
      "Mean IoU : \t 0.34467687813\n"
     ]
    },
    {
     "name": "stderr",
     "output_type": "stream",
     "text": [
      "\n"
     ]
    },
    {
     "name": "stdout",
     "output_type": "stream",
     "text": [
      "Epoch [34/50] Loss: 0.5697\n",
      "Epoch [34/50] Loss: 0.4955\n"
     ]
    },
    {
     "name": "stderr",
     "output_type": "stream",
     "text": [
      "218it [00:25,  8.69it/s]\n"
     ]
    },
    {
     "name": "stdout",
     "output_type": "stream",
     "text": [
      "Overall Acc: \t 0.581298728577\n",
      "Mean Acc : \t 0.479697564542\n",
      "FreqW Acc : \t 0.412244142271\n",
      "Mean IoU : \t 0.34008996216\n",
      "Epoch [35/50] Loss: 0.8302\n",
      "Epoch [35/50] Loss: 0.7593\n"
     ]
    },
    {
     "name": "stderr",
     "output_type": "stream",
     "text": [
      "218it [00:25,  8.69it/s]"
     ]
    },
    {
     "name": "stdout",
     "output_type": "stream",
     "text": [
      "Overall Acc: \t 0.581913913179\n",
      "Mean Acc : \t 0.477678269441\n",
      "FreqW Acc : \t 0.416388036216\n",
      "Mean IoU : \t 0.343664793409\n"
     ]
    },
    {
     "name": "stderr",
     "output_type": "stream",
     "text": [
      "\n"
     ]
    },
    {
     "name": "stdout",
     "output_type": "stream",
     "text": [
      "Epoch [36/50] Loss: 0.3261\n",
      "Epoch [36/50] Loss: 0.7380\n"
     ]
    },
    {
     "name": "stderr",
     "output_type": "stream",
     "text": [
      "218it [00:25,  8.71it/s]"
     ]
    },
    {
     "name": "stdout",
     "output_type": "stream",
     "text": [
      "Overall Acc: \t 0.581909966114\n",
      "Mean Acc : \t 0.481610094195\n",
      "FreqW Acc : \t 0.414843371188\n",
      "Mean IoU : \t 0.345331408201\n"
     ]
    },
    {
     "name": "stderr",
     "output_type": "stream",
     "text": [
      "\n"
     ]
    },
    {
     "name": "stdout",
     "output_type": "stream",
     "text": [
      "Epoch [37/50] Loss: 0.6617\n",
      "Epoch [37/50] Loss: 0.6414\n"
     ]
    },
    {
     "name": "stderr",
     "output_type": "stream",
     "text": [
      "218it [00:25,  8.59it/s]\n"
     ]
    },
    {
     "name": "stdout",
     "output_type": "stream",
     "text": [
      "Overall Acc: \t 0.58121519814\n",
      "Mean Acc : \t 0.489973085419\n",
      "FreqW Acc : \t 0.419145451944\n",
      "Mean IoU : \t 0.348686876914\n",
      "Epoch [38/50] Loss: 0.6956\n",
      "Epoch [38/50] Loss: 0.7642\n"
     ]
    },
    {
     "name": "stderr",
     "output_type": "stream",
     "text": [
      "218it [00:25,  8.63it/s]"
     ]
    },
    {
     "name": "stdout",
     "output_type": "stream",
     "text": [
      "Overall Acc: \t 0.577647440032\n",
      "Mean Acc : \t 0.487442357759\n",
      "FreqW Acc : \t 0.411594151444\n",
      "Mean IoU : \t 0.343299140682\n"
     ]
    },
    {
     "name": "stderr",
     "output_type": "stream",
     "text": [
      "\n"
     ]
    },
    {
     "name": "stdout",
     "output_type": "stream",
     "text": [
      "Epoch [39/50] Loss: 0.9742\n",
      "Epoch [39/50] Loss: 0.6316\n"
     ]
    },
    {
     "name": "stderr",
     "output_type": "stream",
     "text": [
      "218it [00:25,  8.62it/s]"
     ]
    },
    {
     "name": "stdout",
     "output_type": "stream",
     "text": [
      "Overall Acc: \t 0.582189704981\n",
      "Mean Acc : \t 0.493378105826\n",
      "FreqW Acc : \t 0.415025745393\n",
      "Mean IoU : \t 0.346074466592\n"
     ]
    },
    {
     "name": "stderr",
     "output_type": "stream",
     "text": [
      "\n"
     ]
    },
    {
     "name": "stdout",
     "output_type": "stream",
     "text": [
      "Epoch [40/50] Loss: 0.7685\n",
      "Epoch [40/50] Loss: 0.6406\n"
     ]
    },
    {
     "name": "stderr",
     "output_type": "stream",
     "text": [
      "218it [00:24,  8.81it/s]"
     ]
    },
    {
     "name": "stdout",
     "output_type": "stream",
     "text": [
      "Overall Acc: \t 0.581339662573\n",
      "Mean Acc : \t 0.488023935228\n",
      "FreqW Acc : \t 0.415242251394\n",
      "Mean IoU : \t 0.345313199945\n"
     ]
    },
    {
     "name": "stderr",
     "output_type": "stream",
     "text": [
      "\n"
     ]
    },
    {
     "name": "stdout",
     "output_type": "stream",
     "text": [
      "Epoch [41/50] Loss: 0.7181\n",
      "Epoch [41/50] Loss: 0.7652\n"
     ]
    },
    {
     "name": "stderr",
     "output_type": "stream",
     "text": [
      "218it [00:24,  8.79it/s]"
     ]
    },
    {
     "name": "stdout",
     "output_type": "stream",
     "text": [
      "Overall Acc: \t 0.583394161928\n",
      "Mean Acc : \t 0.486501798234\n",
      "FreqW Acc : \t 0.416618482933\n",
      "Mean IoU : \t 0.347176609086\n"
     ]
    },
    {
     "name": "stderr",
     "output_type": "stream",
     "text": [
      "\n"
     ]
    },
    {
     "name": "stdout",
     "output_type": "stream",
     "text": [
      "Epoch [42/50] Loss: 0.7087\n",
      "Epoch [42/50] Loss: 0.6415\n"
     ]
    },
    {
     "name": "stderr",
     "output_type": "stream",
     "text": [
      "218it [00:25,  8.63it/s]"
     ]
    },
    {
     "name": "stdout",
     "output_type": "stream",
     "text": [
      "Overall Acc: \t 0.578388074589\n",
      "Mean Acc : \t 0.478068732781\n",
      "FreqW Acc : \t 0.412067140776\n",
      "Mean IoU : \t 0.343568972789\n"
     ]
    },
    {
     "name": "stderr",
     "output_type": "stream",
     "text": [
      "\n"
     ]
    },
    {
     "name": "stdout",
     "output_type": "stream",
     "text": [
      "Epoch [43/50] Loss: 0.5943\n",
      "Epoch [43/50] Loss: 0.8026\n"
     ]
    },
    {
     "name": "stderr",
     "output_type": "stream",
     "text": [
      "218it [00:24,  8.75it/s]"
     ]
    },
    {
     "name": "stdout",
     "output_type": "stream",
     "text": [
      "Overall Acc: \t 0.583882617387\n",
      "Mean Acc : \t 0.49215735791\n",
      "FreqW Acc : \t 0.416448773215\n",
      "Mean IoU : \t 0.348525861499\n"
     ]
    },
    {
     "name": "stderr",
     "output_type": "stream",
     "text": [
      "\n"
     ]
    },
    {
     "name": "stdout",
     "output_type": "stream",
     "text": [
      "Epoch [44/50] Loss: 0.5800\n",
      "Epoch [44/50] Loss: 0.7554\n"
     ]
    },
    {
     "name": "stderr",
     "output_type": "stream",
     "text": [
      "218it [00:24,  8.80it/s]"
     ]
    },
    {
     "name": "stdout",
     "output_type": "stream",
     "text": [
      "Overall Acc: \t 0.581545994999\n",
      "Mean Acc : \t 0.492365540111\n",
      "FreqW Acc : \t 0.416447589288\n",
      "Mean IoU : \t 0.348021155695\n"
     ]
    },
    {
     "name": "stderr",
     "output_type": "stream",
     "text": [
      "\n"
     ]
    },
    {
     "name": "stdout",
     "output_type": "stream",
     "text": [
      "Epoch [45/50] Loss: 0.8049\n",
      "Epoch [45/50] Loss: 0.5095\n"
     ]
    },
    {
     "name": "stderr",
     "output_type": "stream",
     "text": [
      "218it [00:24,  8.97it/s]"
     ]
    },
    {
     "name": "stdout",
     "output_type": "stream",
     "text": [
      "Overall Acc: \t 0.580992544876\n",
      "Mean Acc : \t 0.491468818917\n",
      "FreqW Acc : \t 0.415070625356\n",
      "Mean IoU : \t 0.347777647182\n"
     ]
    },
    {
     "name": "stderr",
     "output_type": "stream",
     "text": [
      "\n"
     ]
    },
    {
     "name": "stdout",
     "output_type": "stream",
     "text": [
      "Epoch [46/50] Loss: 0.7744\n",
      "Epoch [46/50] Loss: 0.7743\n"
     ]
    },
    {
     "name": "stderr",
     "output_type": "stream",
     "text": [
      "218it [00:24,  8.73it/s]"
     ]
    },
    {
     "name": "stdout",
     "output_type": "stream",
     "text": [
      "Overall Acc: \t 0.581988728219\n",
      "Mean Acc : \t 0.487666515886\n",
      "FreqW Acc : \t 0.415886254953\n",
      "Mean IoU : \t 0.347863562747\n"
     ]
    },
    {
     "name": "stderr",
     "output_type": "stream",
     "text": [
      "\n"
     ]
    },
    {
     "name": "stdout",
     "output_type": "stream",
     "text": [
      "Epoch [47/50] Loss: 0.8474\n",
      "Epoch [47/50] Loss: 0.7128\n"
     ]
    },
    {
     "name": "stderr",
     "output_type": "stream",
     "text": [
      "218it [00:24,  8.94it/s]\n"
     ]
    },
    {
     "name": "stdout",
     "output_type": "stream",
     "text": [
      "Overall Acc: \t 0.582288774807\n",
      "Mean Acc : \t 0.485783170148\n",
      "FreqW Acc : \t 0.415321322809\n",
      "Mean IoU : \t 0.34759760831\n",
      "Epoch [48/50] Loss: 0.5844\n",
      "Epoch [48/50] Loss: 0.7597\n"
     ]
    },
    {
     "name": "stderr",
     "output_type": "stream",
     "text": [
      "218it [00:24,  8.78it/s]"
     ]
    },
    {
     "name": "stdout",
     "output_type": "stream",
     "text": [
      "Overall Acc: \t 0.582939373487\n",
      "Mean Acc : \t 0.483975225732\n",
      "FreqW Acc : \t 0.416344219823\n",
      "Mean IoU : \t 0.347176595168\n"
     ]
    },
    {
     "name": "stderr",
     "output_type": "stream",
     "text": [
      "\n"
     ]
    },
    {
     "name": "stdout",
     "output_type": "stream",
     "text": [
      "Epoch [49/50] Loss: 0.6590\n",
      "Epoch [49/50] Loss: 0.6924\n"
     ]
    },
    {
     "name": "stderr",
     "output_type": "stream",
     "text": [
      "218it [00:25,  8.65it/s]\n"
     ]
    },
    {
     "name": "stdout",
     "output_type": "stream",
     "text": [
      "Overall Acc: \t 0.583667684044\n",
      "Mean Acc : \t 0.483018677581\n",
      "FreqW Acc : \t 0.418539167729\n",
      "Mean IoU : \t 0.349213968762\n",
      "Epoch [50/50] Loss: 0.7339\n",
      "Epoch [50/50] Loss: 0.7823\n"
     ]
    },
    {
     "name": "stderr",
     "output_type": "stream",
     "text": [
      "218it [00:24,  8.99it/s]\n"
     ]
    },
    {
     "name": "stdout",
     "output_type": "stream",
     "text": [
      "Overall Acc: \t 0.580659095072\n",
      "Mean Acc : \t 0.486402725488\n",
      "FreqW Acc : \t 0.417790518162\n",
      "Mean IoU : \t 0.349844535847\n"
     ]
    }
   ],
   "source": [
    "from utils import *\n",
    "\n",
    "arg_str = '--gpu_idx 0 ' \\\n",
    "          '--arch FCN_RGB ' \\\n",
    "          '--dataset NYUDv2 ' \\\n",
    "          '--batch_size 3 ' \\\n",
    "          '--n_epoch 50 ' \\\n",
    "          '--resume ../model_weights/FCN_RGB_NYUDv2_best_model.pkl ' \\\n",
    "          '--visdom'\n",
    "\n",
    "trainer = trainer(arg_str)\n",
    "trainer.model_init()\n",
    "trainer.training()"
   ]
  },
  {
   "cell_type": "code",
   "execution_count": null,
   "metadata": {},
   "outputs": [],
   "source": []
  }
 ],
 "metadata": {
  "kernelspec": {
   "display_name": "Python [conda env:pytorch]",
   "language": "python",
   "name": "conda-env-pytorch-py"
  },
  "language_info": {
   "codemirror_mode": {
    "name": "ipython",
    "version": 3
   },
   "file_extension": ".py",
   "mimetype": "text/x-python",
   "name": "python",
   "nbconvert_exporter": "python",
   "pygments_lexer": "ipython3",
   "version": "3.6.3"
  }
 },
 "nbformat": 4,
 "nbformat_minor": 2
}
