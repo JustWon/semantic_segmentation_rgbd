{
 "cells": [
  {
   "cell_type": "code",
   "execution_count": 1,
   "metadata": {},
   "outputs": [],
   "source": [
    "%matplotlib inline\n",
    "import os\n",
    "import collections\n",
    "import torch\n",
    "import torchvision\n",
    "import numpy as np\n",
    "import scipy.misc as m\n",
    "import scipy.io as io\n",
    "import matplotlib.pyplot as plt\n",
    "\n",
    "from NYUDv2Loader import *\n",
    "\n",
    "os.environ['CUDA_VISIBLE_DEVICES'] = '3'\n",
    "data_path = '/home/dongwonshin/Desktop/Datasets/NYUDv2/'\n",
    "arg_string = '--arch mynetwork20180516 --batch_size 3'"
   ]
  },
  {
   "cell_type": "markdown",
   "metadata": {},
   "source": [
    "# Argument setting"
   ]
  },
  {
   "cell_type": "code",
   "execution_count": 2,
   "metadata": {},
   "outputs": [],
   "source": [
    "import sys, os\n",
    "import torch\n",
    "import visdom\n",
    "import argparse\n",
    "import numpy as np\n",
    "import torch.nn as nn\n",
    "import torch.nn.functional as F\n",
    "import torchvision.models as models\n",
    "\n",
    "from torch.autograd import Variable\n",
    "from torch.utils import data\n",
    "from tqdm import tqdm\n",
    "\n",
    "from ptsemseg.models import get_model\n",
    "from ptsemseg.loader import get_loader, get_data_path\n",
    "from ptsemseg.metrics import runningScore\n",
    "from ptsemseg.loss import *\n",
    "from ptsemseg.augmentations import *\n",
    "\n",
    "\n",
    "parser = argparse.ArgumentParser(description='Hyperparams')\n",
    "parser.add_argument('--arch', nargs='?', type=str, default='fcn8s', help='Architecture to use [\\'fcn8s, unet, segnet etc\\']')\n",
    "parser.add_argument('--img_rows', nargs='?', type=int, default=256, help='Height of the input image')\n",
    "parser.add_argument('--img_cols', nargs='?', type=int, default=256, help='Width of the input image')\n",
    "\n",
    "parser.add_argument('--img_norm', dest='img_norm', action='store_true', help='Enable input image scales normalization [0, 1] | True by default')\n",
    "parser.add_argument('--no-img_norm', dest='img_norm', action='store_false', help='Disable input image scales normalization [0, 1] | True by default')\n",
    "parser.set_defaults(img_norm=True)\n",
    "\n",
    "parser.add_argument('--n_epoch', nargs='?', type=int, default=100, help='# of the epochs')\n",
    "parser.add_argument('--batch_size', nargs='?', type=int, default=1, help='Batch Size')\n",
    "parser.add_argument('--l_rate', nargs='?', type=float, default=1e-5, help='Learning Rate')\n",
    "parser.add_argument('--feature_scale', nargs='?', type=int, default=1, help='Divider for # of features to use')\n",
    "parser.add_argument('--resume', nargs='?', type=str, default=None, help='Path to previous saved model to restart from')\n",
    "\n",
    "parser.add_argument('--visdom', dest='visdom', action='store_true', help='Enable visualization(s) on visdom | False by default')\n",
    "parser.add_argument('--no-visdom', dest='visdom', action='store_false', help='Disable visualization(s) on visdom | False by default')\n",
    "parser.set_defaults(visdom=False)"
   ]
  },
  {
   "cell_type": "code",
   "execution_count": 3,
   "metadata": {},
   "outputs": [],
   "source": [
    "args = parser.parse_args(arg_string.split(' '))\n",
    "\n",
    "# Setup Augmentations\n",
    "data_aug= Compose([RandomRotate(10), RandomHorizontallyFlip()])\n",
    "\n",
    "# Setup Dataloader\n",
    "t_loader = NYUDv2Loader(data_path, is_transform=True)\n",
    "v_loader = NYUDv2Loader(data_path, is_transform=True, split='val')\n",
    "\n",
    "n_classes = t_loader.n_classes\n",
    "trainloader = data.DataLoader(t_loader, batch_size=args.batch_size, num_workers=16, shuffle=True)\n",
    "valloader = data.DataLoader(v_loader, batch_size=args.batch_size, num_workers=16)\n",
    "\n",
    "# Setup Metrics\n",
    "running_metrics = runningScore(n_classes)\n",
    "\n",
    "# Setup visdom for visualization\n",
    "if args.visdom:\n",
    "    vis = visdom.Visdom()\n",
    "\n",
    "    loss_window = vis.line(X=torch.zeros((1,)).cpu(),\n",
    "                       Y=torch.zeros((1)).cpu(),\n",
    "                       opts=dict(xlabel='minibatches',\n",
    "                                 ylabel='Loss',\n",
    "                                 title='Training Loss',\n",
    "                                 legend=['Loss']))\n",
    "\n",
    "# Setup Model\n",
    "model = get_model(args.arch, n_classes)\n",
    "\n",
    "model = torch.nn.DataParallel(model, device_ids=range(torch.cuda.device_count()))\n",
    "model.cuda()\n",
    "\n",
    "# Check if model has custom optimizer / loss\n",
    "if hasattr(model.module, 'optimizer'):\n",
    "    optimizer = model.module.optimizer\n",
    "else:\n",
    "    optimizer = torch.optim.SGD(model.parameters(), lr=args.l_rate, momentum=0.99, weight_decay=5e-4)\n",
    "\n",
    "if hasattr(model.module, 'loss'):\n",
    "    print('Using custom loss')\n",
    "    loss_fn = model.module.loss\n",
    "else:\n",
    "    loss_fn = cross_entropy2d\n",
    "\n",
    "if args.resume is not None:                                         \n",
    "    if os.path.isfile(args.resume):\n",
    "        print(\"Loading model and optimizer from checkpoint '{}'\".format(args.resume))\n",
    "        checkpoint = torch.load(args.resume)\n",
    "        model.load_state_dict(checkpoint['model_state'])\n",
    "        optimizer.load_state_dict(checkpoint['optimizer_state'])\n",
    "        print(\"Loaded checkpoint '{}' (epoch {})\"                    \n",
    "              .format(args.resume, checkpoint['epoch']))\n",
    "    else:\n",
    "        print(\"No checkpoint found at '{}'\".format(args.resume)) \n"
   ]
  },
  {
   "cell_type": "markdown",
   "metadata": {},
   "source": [
    "# Training"
   ]
  },
  {
   "cell_type": "code",
   "execution_count": 4,
   "metadata": {},
   "outputs": [
    {
     "name": "stderr",
     "output_type": "stream",
     "text": [
      "/home/dongwonshin/.conda/envs/pytorch/lib/python3.6/site-packages/torch/nn/functional.py:1462: UserWarning: nn.functional.upsample_bilinear is deprecated. Use nn.functional.upsample instead.\n",
      "  warnings.warn(\"nn.functional.upsample_bilinear is deprecated. Use nn.functional.upsample instead.\")\n"
     ]
    },
    {
     "name": "stdout",
     "output_type": "stream",
     "text": [
      "Epoch [1/100] Loss: 2.9554\n",
      "Epoch [1/100] Loss: 2.5272\n",
      "Epoch [1/100] Loss: 2.4025\n",
      "Epoch [1/100] Loss: 2.0798\n",
      "Epoch [1/100] Loss: 2.0811\n",
      "Epoch [1/100] Loss: 2.2976\n",
      "Epoch [1/100] Loss: 2.2072\n",
      "Epoch [1/100] Loss: 2.0583\n",
      "Epoch [1/100] Loss: 2.3417\n",
      "Epoch [1/100] Loss: 1.6881\n",
      "Epoch [1/100] Loss: 1.5705\n",
      "Epoch [1/100] Loss: 1.7858\n",
      "Epoch [1/100] Loss: 1.6432\n"
     ]
    },
    {
     "name": "stderr",
     "output_type": "stream",
     "text": [
      "218it [01:07,  3.23it/s]\n"
     ]
    },
    {
     "name": "stdout",
     "output_type": "stream",
     "text": [
      "Overall Acc: \t 0.375063735386\n",
      "Mean Acc : \t 0.164711411726\n",
      "FreqW Acc : \t 0.199694344237\n",
      "Mean IoU : \t 0.0979635496264\n",
      "Epoch [2/100] Loss: 1.6958\n",
      "Epoch [2/100] Loss: 1.4962\n",
      "Epoch [2/100] Loss: 1.5690\n",
      "Epoch [2/100] Loss: 1.8898\n",
      "Epoch [2/100] Loss: 1.8617\n",
      "Epoch [2/100] Loss: 1.8130\n",
      "Epoch [2/100] Loss: 1.6321\n",
      "Epoch [2/100] Loss: 1.5643\n",
      "Epoch [2/100] Loss: 1.4530\n",
      "Epoch [2/100] Loss: 1.4526\n",
      "Epoch [2/100] Loss: 1.3476\n",
      "Epoch [2/100] Loss: 1.5633\n",
      "Epoch [2/100] Loss: 2.0625\n"
     ]
    },
    {
     "name": "stderr",
     "output_type": "stream",
     "text": [
      "218it [01:08,  3.20it/s]\n"
     ]
    },
    {
     "name": "stdout",
     "output_type": "stream",
     "text": [
      "Overall Acc: \t 0.421932294653\n",
      "Mean Acc : \t 0.211738920954\n",
      "FreqW Acc : \t 0.246361108001\n",
      "Mean IoU : \t 0.137220258892\n",
      "Epoch [3/100] Loss: 1.7109\n",
      "Epoch [3/100] Loss: 1.7410\n",
      "Epoch [3/100] Loss: 1.4430\n",
      "Epoch [3/100] Loss: 1.5082\n",
      "Epoch [3/100] Loss: 1.4706\n",
      "Epoch [3/100] Loss: 1.7059\n",
      "Epoch [3/100] Loss: 1.9650\n",
      "Epoch [3/100] Loss: 1.5398\n",
      "Epoch [3/100] Loss: 1.6077\n",
      "Epoch [3/100] Loss: 1.7427\n",
      "Epoch [3/100] Loss: 1.6156\n",
      "Epoch [3/100] Loss: 1.3356\n",
      "Epoch [3/100] Loss: 1.1442\n"
     ]
    },
    {
     "name": "stderr",
     "output_type": "stream",
     "text": [
      "218it [01:08,  3.18it/s]\n"
     ]
    },
    {
     "name": "stdout",
     "output_type": "stream",
     "text": [
      "Overall Acc: \t 0.44451257486\n",
      "Mean Acc : \t 0.254255779487\n",
      "FreqW Acc : \t 0.270580454868\n",
      "Mean IoU : \t 0.173395953501\n",
      "Epoch [4/100] Loss: 1.4606\n",
      "Epoch [4/100] Loss: 1.6295\n",
      "Epoch [4/100] Loss: 1.2971\n",
      "Epoch [4/100] Loss: 1.2017\n",
      "Epoch [4/100] Loss: 1.4579\n",
      "Epoch [4/100] Loss: 1.2516\n",
      "Epoch [4/100] Loss: 1.4352\n",
      "Epoch [4/100] Loss: 1.5566\n",
      "Epoch [4/100] Loss: 1.6296\n",
      "Epoch [4/100] Loss: 1.3030\n",
      "Epoch [4/100] Loss: 1.4036\n",
      "Epoch [4/100] Loss: 0.9983\n",
      "Epoch [4/100] Loss: 1.1470\n"
     ]
    },
    {
     "name": "stderr",
     "output_type": "stream",
     "text": [
      "218it [01:08,  3.17it/s]\n"
     ]
    },
    {
     "name": "stdout",
     "output_type": "stream",
     "text": [
      "Overall Acc: \t 0.483309765426\n",
      "Mean Acc : \t 0.319676077658\n",
      "FreqW Acc : \t 0.313789936271\n",
      "Mean IoU : \t 0.219737876357\n",
      "Epoch [5/100] Loss: 1.2477\n",
      "Epoch [5/100] Loss: 1.3878\n",
      "Epoch [5/100] Loss: 1.0089\n",
      "Epoch [5/100] Loss: 1.5549\n",
      "Epoch [5/100] Loss: 1.3466\n",
      "Epoch [5/100] Loss: 1.0207\n",
      "Epoch [5/100] Loss: 0.9611\n",
      "Epoch [5/100] Loss: 1.3202\n",
      "Epoch [5/100] Loss: 1.1527\n",
      "Epoch [5/100] Loss: 0.8869\n",
      "Epoch [5/100] Loss: 1.4696\n",
      "Epoch [5/100] Loss: 1.2575\n",
      "Epoch [5/100] Loss: 1.2111\n"
     ]
    },
    {
     "name": "stderr",
     "output_type": "stream",
     "text": [
      "218it [01:09,  3.15it/s]\n"
     ]
    },
    {
     "name": "stdout",
     "output_type": "stream",
     "text": [
      "Overall Acc: \t 0.50574323275\n",
      "Mean Acc : \t 0.358206326426\n",
      "FreqW Acc : \t 0.334214404825\n",
      "Mean IoU : \t 0.24477817083\n",
      "Epoch [6/100] Loss: 1.0485\n",
      "Epoch [6/100] Loss: 1.4773\n",
      "Epoch [6/100] Loss: 1.1670\n",
      "Epoch [6/100] Loss: 1.2228\n",
      "Epoch [6/100] Loss: 1.2979\n",
      "Epoch [6/100] Loss: 1.1312\n",
      "Epoch [6/100] Loss: 1.1228\n",
      "Epoch [6/100] Loss: 1.4191\n",
      "Epoch [6/100] Loss: 1.4207\n",
      "Epoch [6/100] Loss: 1.1703\n",
      "Epoch [6/100] Loss: 1.4951\n",
      "Epoch [6/100] Loss: 1.1122\n",
      "Epoch [6/100] Loss: 1.0653\n"
     ]
    },
    {
     "name": "stderr",
     "output_type": "stream",
     "text": [
      "218it [01:08,  3.18it/s]\n"
     ]
    },
    {
     "name": "stdout",
     "output_type": "stream",
     "text": [
      "Overall Acc: \t 0.510804882613\n",
      "Mean Acc : \t 0.37465251608\n",
      "FreqW Acc : \t 0.349823181145\n",
      "Mean IoU : \t 0.267191409809\n",
      "Epoch [7/100] Loss: 1.1735\n",
      "Epoch [7/100] Loss: 1.3414\n",
      "Epoch [7/100] Loss: 1.2473\n",
      "Epoch [7/100] Loss: 1.0504\n",
      "Epoch [7/100] Loss: 1.1741\n",
      "Epoch [7/100] Loss: 1.0726\n",
      "Epoch [7/100] Loss: 1.2059\n",
      "Epoch [7/100] Loss: 1.3573\n",
      "Epoch [7/100] Loss: 0.9823\n",
      "Epoch [7/100] Loss: 1.3356\n",
      "Epoch [7/100] Loss: 1.1369\n",
      "Epoch [7/100] Loss: 1.5577\n",
      "Epoch [7/100] Loss: 0.9776\n"
     ]
    },
    {
     "name": "stderr",
     "output_type": "stream",
     "text": [
      "218it [01:09,  3.14it/s]\n"
     ]
    },
    {
     "name": "stdout",
     "output_type": "stream",
     "text": [
      "Overall Acc: \t 0.519321129786\n",
      "Mean Acc : \t 0.415035091462\n",
      "FreqW Acc : \t 0.362032668803\n",
      "Mean IoU : \t 0.288287498668\n",
      "Epoch [8/100] Loss: 1.0100\n",
      "Epoch [8/100] Loss: 0.9211\n",
      "Epoch [8/100] Loss: 0.9482\n",
      "Epoch [8/100] Loss: 1.1689\n",
      "Epoch [8/100] Loss: 1.2561\n",
      "Epoch [8/100] Loss: 1.0378\n",
      "Epoch [8/100] Loss: 1.0565\n",
      "Epoch [8/100] Loss: 1.0568\n",
      "Epoch [8/100] Loss: 1.2468\n",
      "Epoch [8/100] Loss: 1.0075\n",
      "Epoch [8/100] Loss: 0.9368\n",
      "Epoch [8/100] Loss: 0.9781\n",
      "Epoch [8/100] Loss: 1.0265\n"
     ]
    },
    {
     "name": "stderr",
     "output_type": "stream",
     "text": [
      "218it [01:09,  3.14it/s]"
     ]
    },
    {
     "name": "stdout",
     "output_type": "stream",
     "text": [
      "Overall Acc: \t 0.511024673882\n",
      "Mean Acc : \t 0.388840442748\n",
      "FreqW Acc : \t 0.356622257446\n",
      "Mean IoU : \t 0.279309913116\n"
     ]
    },
    {
     "name": "stderr",
     "output_type": "stream",
     "text": [
      "\n"
     ]
    },
    {
     "name": "stdout",
     "output_type": "stream",
     "text": [
      "Epoch [9/100] Loss: 0.9685\n",
      "Epoch [9/100] Loss: 1.1285\n",
      "Epoch [9/100] Loss: 0.8461\n",
      "Epoch [9/100] Loss: 1.2134\n",
      "Epoch [9/100] Loss: 1.1419\n",
      "Epoch [9/100] Loss: 1.1113\n",
      "Epoch [9/100] Loss: 1.0575\n",
      "Epoch [9/100] Loss: 1.2397\n",
      "Epoch [9/100] Loss: 1.2470\n",
      "Epoch [9/100] Loss: 0.9085\n",
      "Epoch [9/100] Loss: 1.2066\n",
      "Epoch [9/100] Loss: 1.1824\n",
      "Epoch [9/100] Loss: 1.1045\n"
     ]
    },
    {
     "name": "stderr",
     "output_type": "stream",
     "text": [
      "218it [01:09,  3.14it/s]\n"
     ]
    },
    {
     "name": "stdout",
     "output_type": "stream",
     "text": [
      "Overall Acc: \t 0.527233749841\n",
      "Mean Acc : \t 0.431190244885\n",
      "FreqW Acc : \t 0.368231083155\n",
      "Mean IoU : \t 0.301481115447\n",
      "Epoch [10/100] Loss: 0.8398\n",
      "Epoch [10/100] Loss: 1.0015\n",
      "Epoch [10/100] Loss: 0.7505\n",
      "Epoch [10/100] Loss: 1.2235\n",
      "Epoch [10/100] Loss: 1.1238\n",
      "Epoch [10/100] Loss: 0.8926\n",
      "Epoch [10/100] Loss: 1.2040\n",
      "Epoch [10/100] Loss: 1.0127\n",
      "Epoch [10/100] Loss: 0.9872\n",
      "Epoch [10/100] Loss: 1.0607\n",
      "Epoch [10/100] Loss: 0.8728\n",
      "Epoch [10/100] Loss: 1.0749\n",
      "Epoch [10/100] Loss: 0.8636\n"
     ]
    },
    {
     "name": "stderr",
     "output_type": "stream",
     "text": [
      "218it [01:09,  3.14it/s]"
     ]
    },
    {
     "name": "stdout",
     "output_type": "stream",
     "text": [
      "Overall Acc: \t 0.542940587968\n",
      "Mean Acc : \t 0.416777253613\n",
      "FreqW Acc : \t 0.371552315431\n",
      "Mean IoU : \t 0.293574573273\n"
     ]
    },
    {
     "name": "stderr",
     "output_type": "stream",
     "text": [
      "\n"
     ]
    },
    {
     "name": "stdout",
     "output_type": "stream",
     "text": [
      "Epoch [11/100] Loss: 0.8451\n",
      "Epoch [11/100] Loss: 0.9643\n",
      "Epoch [11/100] Loss: 1.1233\n",
      "Epoch [11/100] Loss: 1.0490\n",
      "Epoch [11/100] Loss: 0.7759\n",
      "Epoch [11/100] Loss: 0.8890\n",
      "Epoch [11/100] Loss: 0.9659\n",
      "Epoch [11/100] Loss: 1.1221\n",
      "Epoch [11/100] Loss: 0.8173\n",
      "Epoch [11/100] Loss: 1.0155\n",
      "Epoch [11/100] Loss: 0.9590\n",
      "Epoch [11/100] Loss: 0.9586\n",
      "Epoch [11/100] Loss: 0.7928\n"
     ]
    },
    {
     "name": "stderr",
     "output_type": "stream",
     "text": [
      "218it [01:09,  3.15it/s]\n"
     ]
    },
    {
     "name": "stdout",
     "output_type": "stream",
     "text": [
      "Overall Acc: \t 0.546814649234\n",
      "Mean Acc : \t 0.458606760546\n",
      "FreqW Acc : \t 0.384994672139\n",
      "Mean IoU : \t 0.320883367927\n",
      "Epoch [12/100] Loss: 0.7687\n",
      "Epoch [12/100] Loss: 0.8917\n",
      "Epoch [12/100] Loss: 0.9754\n",
      "Epoch [12/100] Loss: 0.7680\n",
      "Epoch [12/100] Loss: 0.8296\n",
      "Epoch [12/100] Loss: 1.0389\n",
      "Epoch [12/100] Loss: 0.7655\n",
      "Epoch [12/100] Loss: 1.1187\n",
      "Epoch [12/100] Loss: 0.9417\n",
      "Epoch [12/100] Loss: 0.8561\n",
      "Epoch [12/100] Loss: 0.9499\n",
      "Epoch [12/100] Loss: 0.9219\n",
      "Epoch [12/100] Loss: 0.7699\n"
     ]
    },
    {
     "name": "stderr",
     "output_type": "stream",
     "text": [
      "218it [01:09,  3.14it/s]"
     ]
    },
    {
     "name": "stdout",
     "output_type": "stream",
     "text": [
      "Overall Acc: \t 0.539224548651\n",
      "Mean Acc : \t 0.427794734041\n",
      "FreqW Acc : \t 0.375560062585\n",
      "Mean IoU : \t 0.304879457236\n"
     ]
    },
    {
     "name": "stderr",
     "output_type": "stream",
     "text": [
      "\n"
     ]
    },
    {
     "name": "stdout",
     "output_type": "stream",
     "text": [
      "Epoch [13/100] Loss: 0.9506\n",
      "Epoch [13/100] Loss: 1.0604\n",
      "Epoch [13/100] Loss: 1.0920\n",
      "Epoch [13/100] Loss: 0.7883\n",
      "Epoch [13/100] Loss: 0.8713\n",
      "Epoch [13/100] Loss: 0.7127\n",
      "Epoch [13/100] Loss: 1.0238\n",
      "Epoch [13/100] Loss: 0.9154\n",
      "Epoch [13/100] Loss: 0.9628\n",
      "Epoch [13/100] Loss: 0.7921\n",
      "Epoch [13/100] Loss: 0.8750\n",
      "Epoch [13/100] Loss: 0.8635\n",
      "Epoch [13/100] Loss: 0.7177\n"
     ]
    },
    {
     "name": "stderr",
     "output_type": "stream",
     "text": [
      "218it [01:09,  3.15it/s]"
     ]
    },
    {
     "name": "stdout",
     "output_type": "stream",
     "text": [
      "Overall Acc: \t 0.528362122515\n",
      "Mean Acc : \t 0.431963436043\n",
      "FreqW Acc : \t 0.373636157362\n",
      "Mean IoU : \t 0.308154844722\n"
     ]
    },
    {
     "name": "stderr",
     "output_type": "stream",
     "text": [
      "\n"
     ]
    },
    {
     "name": "stdout",
     "output_type": "stream",
     "text": [
      "Epoch [14/100] Loss: 0.6328\n",
      "Epoch [14/100] Loss: 0.9780\n",
      "Epoch [14/100] Loss: 0.7273\n",
      "Epoch [14/100] Loss: 0.6921\n",
      "Epoch [14/100] Loss: 0.7033\n",
      "Epoch [14/100] Loss: 0.8112\n",
      "Epoch [14/100] Loss: 0.8235\n",
      "Epoch [14/100] Loss: 0.8278\n",
      "Epoch [14/100] Loss: 0.9181\n",
      "Epoch [14/100] Loss: 0.8273\n",
      "Epoch [14/100] Loss: 0.6223\n",
      "Epoch [14/100] Loss: 0.8812\n",
      "Epoch [14/100] Loss: 0.9278\n"
     ]
    },
    {
     "name": "stderr",
     "output_type": "stream",
     "text": [
      "218it [01:09,  3.15it/s]"
     ]
    },
    {
     "name": "stdout",
     "output_type": "stream",
     "text": [
      "Overall Acc: \t 0.5436858714\n",
      "Mean Acc : \t 0.457792295761\n",
      "FreqW Acc : \t 0.382175107933\n",
      "Mean IoU : \t 0.317979583968\n"
     ]
    },
    {
     "name": "stderr",
     "output_type": "stream",
     "text": [
      "\n"
     ]
    },
    {
     "name": "stdout",
     "output_type": "stream",
     "text": [
      "Epoch [15/100] Loss: 0.9008\n",
      "Epoch [15/100] Loss: 0.7222\n",
      "Epoch [15/100] Loss: 0.7303\n",
      "Epoch [15/100] Loss: 0.7833\n",
      "Epoch [15/100] Loss: 0.7765\n",
      "Epoch [15/100] Loss: 0.8429\n",
      "Epoch [15/100] Loss: 0.5662\n",
      "Epoch [15/100] Loss: 0.7259\n",
      "Epoch [15/100] Loss: 0.9171\n",
      "Epoch [15/100] Loss: 0.8081\n",
      "Epoch [15/100] Loss: 0.8103\n",
      "Epoch [15/100] Loss: 0.6487\n",
      "Epoch [15/100] Loss: 0.7468\n"
     ]
    },
    {
     "name": "stderr",
     "output_type": "stream",
     "text": [
      "218it [01:09,  3.15it/s]"
     ]
    },
    {
     "name": "stdout",
     "output_type": "stream",
     "text": [
      "Overall Acc: \t 0.538992582704\n",
      "Mean Acc : \t 0.458912004868\n",
      "FreqW Acc : \t 0.378264080761\n",
      "Mean IoU : \t 0.314013138442\n"
     ]
    },
    {
     "name": "stderr",
     "output_type": "stream",
     "text": [
      "\n"
     ]
    },
    {
     "name": "stdout",
     "output_type": "stream",
     "text": [
      "Epoch [16/100] Loss: 0.6957\n",
      "Epoch [16/100] Loss: 0.6842\n",
      "Epoch [16/100] Loss: 0.7184\n",
      "Epoch [16/100] Loss: 0.6455\n",
      "Epoch [16/100] Loss: 1.0009\n",
      "Epoch [16/100] Loss: 0.8480\n",
      "Epoch [16/100] Loss: 0.8049\n",
      "Epoch [16/100] Loss: 0.7134\n",
      "Epoch [16/100] Loss: 0.6565\n",
      "Epoch [16/100] Loss: 0.9372\n",
      "Epoch [16/100] Loss: 0.8144\n",
      "Epoch [16/100] Loss: 0.9729\n",
      "Epoch [16/100] Loss: 0.8474\n"
     ]
    },
    {
     "name": "stderr",
     "output_type": "stream",
     "text": [
      "218it [01:09,  3.15it/s]"
     ]
    },
    {
     "name": "stdout",
     "output_type": "stream",
     "text": [
      "Overall Acc: \t 0.522710692613\n",
      "Mean Acc : \t 0.437108059266\n",
      "FreqW Acc : \t 0.370505429445\n",
      "Mean IoU : \t 0.313621391567\n"
     ]
    },
    {
     "name": "stderr",
     "output_type": "stream",
     "text": [
      "\n"
     ]
    },
    {
     "name": "stdout",
     "output_type": "stream",
     "text": [
      "Epoch [17/100] Loss: 0.6135\n",
      "Epoch [17/100] Loss: 0.6106\n",
      "Epoch [17/100] Loss: 0.8319\n",
      "Epoch [17/100] Loss: 0.7863\n",
      "Epoch [17/100] Loss: 0.6596\n",
      "Epoch [17/100] Loss: 0.8025\n",
      "Epoch [17/100] Loss: 0.8210\n",
      "Epoch [17/100] Loss: 0.7481\n",
      "Epoch [17/100] Loss: 0.8254\n",
      "Epoch [17/100] Loss: 0.8490\n",
      "Epoch [17/100] Loss: 0.8237\n",
      "Epoch [17/100] Loss: 0.6484\n",
      "Epoch [17/100] Loss: 0.6812\n"
     ]
    },
    {
     "name": "stderr",
     "output_type": "stream",
     "text": [
      "218it [01:09,  3.15it/s]\n"
     ]
    },
    {
     "name": "stdout",
     "output_type": "stream",
     "text": [
      "Overall Acc: \t 0.541511178206\n",
      "Mean Acc : \t 0.470144259066\n",
      "FreqW Acc : \t 0.385382972495\n",
      "Mean IoU : \t 0.329440347181\n",
      "Epoch [18/100] Loss: 0.7630\n",
      "Epoch [18/100] Loss: 0.5528\n",
      "Epoch [18/100] Loss: 0.5851\n",
      "Epoch [18/100] Loss: 0.8742\n",
      "Epoch [18/100] Loss: 0.7085\n",
      "Epoch [18/100] Loss: 0.7656\n",
      "Epoch [18/100] Loss: 0.8814\n",
      "Epoch [18/100] Loss: 0.6236\n",
      "Epoch [18/100] Loss: 1.0048\n",
      "Epoch [18/100] Loss: 0.6001\n",
      "Epoch [18/100] Loss: 0.6586\n",
      "Epoch [18/100] Loss: 0.4904\n",
      "Epoch [18/100] Loss: 0.6103\n"
     ]
    },
    {
     "name": "stderr",
     "output_type": "stream",
     "text": [
      "218it [01:09,  3.13it/s]"
     ]
    },
    {
     "name": "stdout",
     "output_type": "stream",
     "text": [
      "Overall Acc: \t 0.539558799814\n",
      "Mean Acc : \t 0.451996986865\n",
      "FreqW Acc : \t 0.386052127111\n",
      "Mean IoU : \t 0.3211457807\n"
     ]
    },
    {
     "name": "stderr",
     "output_type": "stream",
     "text": [
      "\n"
     ]
    },
    {
     "name": "stdout",
     "output_type": "stream",
     "text": [
      "Epoch [19/100] Loss: 0.8219\n",
      "Epoch [19/100] Loss: 0.6773\n",
      "Epoch [19/100] Loss: 0.6916\n",
      "Epoch [19/100] Loss: 0.6086\n",
      "Epoch [19/100] Loss: 0.6919\n",
      "Epoch [19/100] Loss: 0.8255\n",
      "Epoch [19/100] Loss: 0.7668\n",
      "Epoch [19/100] Loss: 0.7865\n",
      "Epoch [19/100] Loss: 0.6073\n",
      "Epoch [19/100] Loss: 0.8902\n",
      "Epoch [19/100] Loss: 0.7007\n",
      "Epoch [19/100] Loss: 0.7300\n",
      "Epoch [19/100] Loss: 0.7569\n"
     ]
    },
    {
     "name": "stderr",
     "output_type": "stream",
     "text": [
      "218it [01:09,  3.15it/s]"
     ]
    },
    {
     "name": "stdout",
     "output_type": "stream",
     "text": [
      "Overall Acc: \t 0.550960326277\n",
      "Mean Acc : \t 0.467166921117\n",
      "FreqW Acc : \t 0.388076422069\n",
      "Mean IoU : \t 0.326491034459\n"
     ]
    },
    {
     "name": "stderr",
     "output_type": "stream",
     "text": [
      "\n"
     ]
    },
    {
     "name": "stdout",
     "output_type": "stream",
     "text": [
      "Epoch [20/100] Loss: 0.6128\n",
      "Epoch [20/100] Loss: 0.7332\n",
      "Epoch [20/100] Loss: 0.6126\n",
      "Epoch [20/100] Loss: 0.7895\n",
      "Epoch [20/100] Loss: 0.8991\n",
      "Epoch [20/100] Loss: 0.5463\n",
      "Epoch [20/100] Loss: 0.7376\n",
      "Epoch [20/100] Loss: 0.6265\n",
      "Epoch [20/100] Loss: 0.7377\n",
      "Epoch [20/100] Loss: 0.6368\n",
      "Epoch [20/100] Loss: 0.6028\n",
      "Epoch [20/100] Loss: 0.8053\n",
      "Epoch [20/100] Loss: 0.6985\n"
     ]
    },
    {
     "name": "stderr",
     "output_type": "stream",
     "text": [
      "218it [01:09,  3.16it/s]\n"
     ]
    },
    {
     "name": "stdout",
     "output_type": "stream",
     "text": [
      "Overall Acc: \t 0.554295113006\n",
      "Mean Acc : \t 0.469289393161\n",
      "FreqW Acc : \t 0.394134042431\n",
      "Mean IoU : \t 0.330865015163\n",
      "Epoch [21/100] Loss: 0.5928\n",
      "Epoch [21/100] Loss: 0.6593\n",
      "Epoch [21/100] Loss: 0.5912\n",
      "Epoch [21/100] Loss: 0.6584\n",
      "Epoch [21/100] Loss: 0.9567\n",
      "Epoch [21/100] Loss: 0.7770\n",
      "Epoch [21/100] Loss: 0.6102\n",
      "Epoch [21/100] Loss: 0.5962\n",
      "Epoch [21/100] Loss: 0.9179\n",
      "Epoch [21/100] Loss: 0.5213\n",
      "Epoch [21/100] Loss: 0.6931\n",
      "Epoch [21/100] Loss: 0.5306\n",
      "Epoch [21/100] Loss: 0.6774\n"
     ]
    },
    {
     "name": "stderr",
     "output_type": "stream",
     "text": [
      "218it [01:09,  3.14it/s]\n"
     ]
    },
    {
     "name": "stdout",
     "output_type": "stream",
     "text": [
      "Overall Acc: \t 0.557301392473\n",
      "Mean Acc : \t 0.474727309831\n",
      "FreqW Acc : \t 0.394703241645\n",
      "Mean IoU : \t 0.331887642484\n",
      "Epoch [22/100] Loss: 0.6383\n",
      "Epoch [22/100] Loss: 0.7722\n",
      "Epoch [22/100] Loss: 0.6705\n",
      "Epoch [22/100] Loss: 0.7468\n",
      "Epoch [22/100] Loss: 0.7157\n",
      "Epoch [22/100] Loss: 0.5690\n",
      "Epoch [22/100] Loss: 0.5978\n",
      "Epoch [22/100] Loss: 0.5557\n",
      "Epoch [22/100] Loss: 0.6920\n",
      "Epoch [22/100] Loss: 0.5242\n",
      "Epoch [22/100] Loss: 0.7689\n",
      "Epoch [22/100] Loss: 0.6617\n",
      "Epoch [22/100] Loss: 0.6541\n"
     ]
    },
    {
     "name": "stderr",
     "output_type": "stream",
     "text": [
      "218it [01:09,  3.14it/s]"
     ]
    },
    {
     "name": "stdout",
     "output_type": "stream",
     "text": [
      "Overall Acc: \t 0.551380302904\n",
      "Mean Acc : \t 0.458502195048\n",
      "FreqW Acc : \t 0.393047983716\n",
      "Mean IoU : \t 0.331340519698\n"
     ]
    },
    {
     "name": "stderr",
     "output_type": "stream",
     "text": [
      "\n"
     ]
    },
    {
     "name": "stdout",
     "output_type": "stream",
     "text": [
      "Epoch [23/100] Loss: 0.7987\n",
      "Epoch [23/100] Loss: 0.6407\n",
      "Epoch [23/100] Loss: 0.5304\n",
      "Epoch [23/100] Loss: 0.7206\n",
      "Epoch [23/100] Loss: 0.7060\n",
      "Epoch [23/100] Loss: 0.7244\n",
      "Epoch [23/100] Loss: 0.5854\n",
      "Epoch [23/100] Loss: 0.5937\n",
      "Epoch [23/100] Loss: 0.6942\n",
      "Epoch [23/100] Loss: 0.6167\n",
      "Epoch [23/100] Loss: 0.7540\n",
      "Epoch [23/100] Loss: 0.7702\n",
      "Epoch [23/100] Loss: 0.6497\n"
     ]
    },
    {
     "name": "stderr",
     "output_type": "stream",
     "text": [
      "218it [01:09,  3.14it/s]"
     ]
    },
    {
     "name": "stdout",
     "output_type": "stream",
     "text": [
      "Overall Acc: \t 0.553236687492\n",
      "Mean Acc : \t 0.455188673868\n",
      "FreqW Acc : \t 0.389586243707\n",
      "Mean IoU : \t 0.321812391088\n"
     ]
    },
    {
     "name": "stderr",
     "output_type": "stream",
     "text": [
      "\n"
     ]
    },
    {
     "name": "stdout",
     "output_type": "stream",
     "text": [
      "Epoch [24/100] Loss: 0.6227\n",
      "Epoch [24/100] Loss: 0.5873\n",
      "Epoch [24/100] Loss: 0.8065\n",
      "Epoch [24/100] Loss: 0.6463\n",
      "Epoch [24/100] Loss: 0.6150\n",
      "Epoch [24/100] Loss: 0.5745\n",
      "Epoch [24/100] Loss: 0.5980\n",
      "Epoch [24/100] Loss: 0.5357\n",
      "Epoch [24/100] Loss: 0.4626\n",
      "Epoch [24/100] Loss: 0.6814\n",
      "Epoch [24/100] Loss: 0.6745\n",
      "Epoch [24/100] Loss: 0.6043\n",
      "Epoch [24/100] Loss: 0.7288\n"
     ]
    },
    {
     "name": "stderr",
     "output_type": "stream",
     "text": [
      "218it [01:09,  3.14it/s]\n"
     ]
    },
    {
     "name": "stdout",
     "output_type": "stream",
     "text": [
      "Overall Acc: \t 0.561274777411\n",
      "Mean Acc : \t 0.462790358983\n",
      "FreqW Acc : \t 0.397794402008\n",
      "Mean IoU : \t 0.332939676212\n",
      "Epoch [25/100] Loss: 0.6969\n",
      "Epoch [25/100] Loss: 0.6147\n",
      "Epoch [25/100] Loss: 0.5244\n",
      "Epoch [25/100] Loss: 0.5401\n",
      "Epoch [25/100] Loss: 0.7593\n",
      "Epoch [25/100] Loss: 0.5686\n",
      "Epoch [25/100] Loss: 0.4993\n",
      "Epoch [25/100] Loss: 0.6204\n",
      "Epoch [25/100] Loss: 0.7036\n",
      "Epoch [25/100] Loss: 0.6391\n",
      "Epoch [25/100] Loss: 0.5396\n",
      "Epoch [25/100] Loss: 0.7016\n",
      "Epoch [25/100] Loss: 0.6226\n"
     ]
    },
    {
     "name": "stderr",
     "output_type": "stream",
     "text": [
      "218it [01:09,  3.13it/s]"
     ]
    },
    {
     "name": "stdout",
     "output_type": "stream",
     "text": [
      "Overall Acc: \t 0.535571114854\n",
      "Mean Acc : \t 0.472369957625\n",
      "FreqW Acc : \t 0.382548330951\n",
      "Mean IoU : \t 0.327388428878\n"
     ]
    },
    {
     "name": "stderr",
     "output_type": "stream",
     "text": [
      "\n"
     ]
    },
    {
     "name": "stdout",
     "output_type": "stream",
     "text": [
      "Epoch [26/100] Loss: 0.6843\n",
      "Epoch [26/100] Loss: 0.6654\n",
      "Epoch [26/100] Loss: 0.7497\n",
      "Epoch [26/100] Loss: 0.6041\n",
      "Epoch [26/100] Loss: 0.4874\n",
      "Epoch [26/100] Loss: 0.6962\n",
      "Epoch [26/100] Loss: 0.5715\n",
      "Epoch [26/100] Loss: 0.7786\n",
      "Epoch [26/100] Loss: 0.7742\n",
      "Epoch [26/100] Loss: 0.8087\n",
      "Epoch [26/100] Loss: 0.4616\n",
      "Epoch [26/100] Loss: 0.6529\n",
      "Epoch [26/100] Loss: 0.5660\n"
     ]
    },
    {
     "name": "stderr",
     "output_type": "stream",
     "text": [
      "218it [01:09,  3.15it/s]"
     ]
    },
    {
     "name": "stdout",
     "output_type": "stream",
     "text": [
      "Overall Acc: \t 0.537411183582\n",
      "Mean Acc : \t 0.447493248967\n",
      "FreqW Acc : \t 0.385305167897\n",
      "Mean IoU : \t 0.322037116705\n"
     ]
    },
    {
     "name": "stderr",
     "output_type": "stream",
     "text": [
      "\n"
     ]
    },
    {
     "name": "stdout",
     "output_type": "stream",
     "text": [
      "Epoch [27/100] Loss: 0.4780\n",
      "Epoch [27/100] Loss: 0.6433\n",
      "Epoch [27/100] Loss: 0.6946\n",
      "Epoch [27/100] Loss: 0.6944\n",
      "Epoch [27/100] Loss: 0.8235\n",
      "Epoch [27/100] Loss: 0.7889\n",
      "Epoch [27/100] Loss: 0.5946\n",
      "Epoch [27/100] Loss: 0.5310\n",
      "Epoch [27/100] Loss: 0.6710\n",
      "Epoch [27/100] Loss: 0.6684\n",
      "Epoch [27/100] Loss: 0.6676\n",
      "Epoch [27/100] Loss: 0.5186\n",
      "Epoch [27/100] Loss: 0.5590\n"
     ]
    },
    {
     "name": "stderr",
     "output_type": "stream",
     "text": [
      "218it [01:09,  3.12it/s]"
     ]
    },
    {
     "name": "stdout",
     "output_type": "stream",
     "text": [
      "Overall Acc: \t 0.543872652666\n",
      "Mean Acc : \t 0.461026769885\n",
      "FreqW Acc : \t 0.390167527957\n",
      "Mean IoU : \t 0.3312372501\n"
     ]
    },
    {
     "name": "stderr",
     "output_type": "stream",
     "text": [
      "\n"
     ]
    },
    {
     "name": "stdout",
     "output_type": "stream",
     "text": [
      "Epoch [28/100] Loss: 0.5290\n",
      "Epoch [28/100] Loss: 0.4339\n",
      "Epoch [28/100] Loss: 0.6411\n",
      "Epoch [28/100] Loss: 0.4827\n",
      "Epoch [28/100] Loss: 0.5639\n",
      "Epoch [28/100] Loss: 0.6049\n",
      "Epoch [28/100] Loss: 0.5001\n",
      "Epoch [28/100] Loss: 0.5421\n",
      "Epoch [28/100] Loss: 0.4589\n",
      "Epoch [28/100] Loss: 0.5628\n",
      "Epoch [28/100] Loss: 0.6146\n",
      "Epoch [28/100] Loss: 0.5653\n",
      "Epoch [28/100] Loss: 0.5534\n"
     ]
    },
    {
     "name": "stderr",
     "output_type": "stream",
     "text": [
      "218it [01:09,  3.14it/s]\n"
     ]
    },
    {
     "name": "stdout",
     "output_type": "stream",
     "text": [
      "Overall Acc: \t 0.553639059115\n",
      "Mean Acc : \t 0.471797368428\n",
      "FreqW Acc : \t 0.396072718926\n",
      "Mean IoU : \t 0.338074324109\n",
      "Epoch [29/100] Loss: 0.3927\n",
      "Epoch [29/100] Loss: 0.6659\n",
      "Epoch [29/100] Loss: 0.6690\n",
      "Epoch [29/100] Loss: 0.5349\n",
      "Epoch [29/100] Loss: 0.6114\n",
      "Epoch [29/100] Loss: 0.6862\n",
      "Epoch [29/100] Loss: 0.5713\n",
      "Epoch [29/100] Loss: 0.4898\n",
      "Epoch [29/100] Loss: 0.6050\n",
      "Epoch [29/100] Loss: 0.5852\n",
      "Epoch [29/100] Loss: 0.4033\n",
      "Epoch [29/100] Loss: 0.5801\n",
      "Epoch [29/100] Loss: 0.6999\n"
     ]
    },
    {
     "name": "stderr",
     "output_type": "stream",
     "text": [
      "218it [01:09,  3.14it/s]"
     ]
    },
    {
     "name": "stdout",
     "output_type": "stream",
     "text": [
      "Overall Acc: \t 0.555548691745\n",
      "Mean Acc : \t 0.464406809149\n",
      "FreqW Acc : \t 0.395913961806\n",
      "Mean IoU : \t 0.332317672371\n"
     ]
    },
    {
     "name": "stderr",
     "output_type": "stream",
     "text": [
      "\n"
     ]
    },
    {
     "name": "stdout",
     "output_type": "stream",
     "text": [
      "Epoch [30/100] Loss: 0.4696\n",
      "Epoch [30/100] Loss: 0.6293\n",
      "Epoch [30/100] Loss: 0.6578\n",
      "Epoch [30/100] Loss: 0.4254\n",
      "Epoch [30/100] Loss: 0.5017\n",
      "Epoch [30/100] Loss: 0.6406\n",
      "Epoch [30/100] Loss: 0.4507\n",
      "Epoch [30/100] Loss: 0.6640\n",
      "Epoch [30/100] Loss: 0.7005\n",
      "Epoch [30/100] Loss: 0.3991\n",
      "Epoch [30/100] Loss: 0.5458\n",
      "Epoch [30/100] Loss: 0.5693\n",
      "Epoch [30/100] Loss: 0.5934\n"
     ]
    },
    {
     "name": "stderr",
     "output_type": "stream",
     "text": [
      "218it [01:09,  3.13it/s]"
     ]
    },
    {
     "name": "stdout",
     "output_type": "stream",
     "text": [
      "Overall Acc: \t 0.544961106731\n",
      "Mean Acc : \t 0.449787384158\n",
      "FreqW Acc : \t 0.390939354711\n",
      "Mean IoU : \t 0.32754304331\n"
     ]
    },
    {
     "name": "stderr",
     "output_type": "stream",
     "text": [
      "\n"
     ]
    },
    {
     "name": "stdout",
     "output_type": "stream",
     "text": [
      "Epoch [31/100] Loss: 0.6251\n",
      "Epoch [31/100] Loss: 0.4926\n",
      "Epoch [31/100] Loss: 0.5368\n",
      "Epoch [31/100] Loss: 0.7199\n",
      "Epoch [31/100] Loss: 0.4280\n",
      "Epoch [31/100] Loss: 0.6506\n",
      "Epoch [31/100] Loss: 0.6221\n",
      "Epoch [31/100] Loss: 0.5182\n",
      "Epoch [31/100] Loss: 0.5652\n",
      "Epoch [31/100] Loss: 0.4911\n",
      "Epoch [31/100] Loss: 0.6385\n",
      "Epoch [31/100] Loss: 0.4706\n",
      "Epoch [31/100] Loss: 0.5893\n"
     ]
    },
    {
     "name": "stderr",
     "output_type": "stream",
     "text": [
      "218it [01:09,  3.13it/s]"
     ]
    },
    {
     "name": "stdout",
     "output_type": "stream",
     "text": [
      "Overall Acc: \t 0.54536004396\n",
      "Mean Acc : \t 0.456195561142\n",
      "FreqW Acc : \t 0.389887814309\n",
      "Mean IoU : \t 0.330313317667\n"
     ]
    },
    {
     "name": "stderr",
     "output_type": "stream",
     "text": [
      "\n"
     ]
    },
    {
     "name": "stdout",
     "output_type": "stream",
     "text": [
      "Epoch [32/100] Loss: 0.4869\n",
      "Epoch [32/100] Loss: 0.6894\n",
      "Epoch [32/100] Loss: 0.5952\n",
      "Epoch [32/100] Loss: 0.4211\n",
      "Epoch [32/100] Loss: 0.5735\n",
      "Epoch [32/100] Loss: 0.5093\n",
      "Epoch [32/100] Loss: 0.5789\n",
      "Epoch [32/100] Loss: 0.5390\n",
      "Epoch [32/100] Loss: 0.5369\n",
      "Epoch [32/100] Loss: 0.4748\n",
      "Epoch [32/100] Loss: 0.5152\n",
      "Epoch [32/100] Loss: 0.5149\n",
      "Epoch [32/100] Loss: 0.6174\n"
     ]
    },
    {
     "name": "stderr",
     "output_type": "stream",
     "text": [
      "218it [01:09,  3.16it/s]"
     ]
    },
    {
     "name": "stdout",
     "output_type": "stream",
     "text": [
      "Overall Acc: \t 0.522641964911\n",
      "Mean Acc : \t 0.440456599056\n",
      "FreqW Acc : \t 0.370399492518\n",
      "Mean IoU : \t 0.318784305454\n"
     ]
    },
    {
     "name": "stderr",
     "output_type": "stream",
     "text": [
      "\n"
     ]
    },
    {
     "name": "stdout",
     "output_type": "stream",
     "text": [
      "Epoch [33/100] Loss: 0.5658\n",
      "Epoch [33/100] Loss: 0.5712\n",
      "Epoch [33/100] Loss: 0.5487\n",
      "Epoch [33/100] Loss: 0.6869\n",
      "Epoch [33/100] Loss: 0.4621\n",
      "Epoch [33/100] Loss: 0.4124\n",
      "Epoch [33/100] Loss: 0.4028\n",
      "Epoch [33/100] Loss: 0.4226\n",
      "Epoch [33/100] Loss: 0.5132\n",
      "Epoch [33/100] Loss: 0.6246\n",
      "Epoch [33/100] Loss: 0.6418\n",
      "Epoch [33/100] Loss: 0.5985\n",
      "Epoch [33/100] Loss: 0.3636\n"
     ]
    },
    {
     "name": "stderr",
     "output_type": "stream",
     "text": [
      "218it [01:09,  3.13it/s]"
     ]
    },
    {
     "name": "stdout",
     "output_type": "stream",
     "text": [
      "Overall Acc: \t 0.548729657437\n",
      "Mean Acc : \t 0.455842395052\n",
      "FreqW Acc : \t 0.389044177598\n",
      "Mean IoU : \t 0.323974273785\n"
     ]
    },
    {
     "name": "stderr",
     "output_type": "stream",
     "text": [
      "\n"
     ]
    },
    {
     "name": "stdout",
     "output_type": "stream",
     "text": [
      "Epoch [34/100] Loss: 0.5629\n",
      "Epoch [34/100] Loss: 0.6731\n",
      "Epoch [34/100] Loss: 0.4920\n",
      "Epoch [34/100] Loss: 0.6561\n",
      "Epoch [34/100] Loss: 0.4734\n",
      "Epoch [34/100] Loss: 0.5484\n",
      "Epoch [34/100] Loss: 0.5207\n",
      "Epoch [34/100] Loss: 0.4679\n",
      "Epoch [34/100] Loss: 0.4821\n",
      "Epoch [34/100] Loss: 0.6402\n",
      "Epoch [34/100] Loss: 0.4675\n",
      "Epoch [34/100] Loss: 0.6041\n",
      "Epoch [34/100] Loss: 0.5689\n"
     ]
    },
    {
     "name": "stderr",
     "output_type": "stream",
     "text": [
      "218it [01:09,  3.13it/s]\n"
     ]
    },
    {
     "name": "stdout",
     "output_type": "stream",
     "text": [
      "Overall Acc: \t 0.555475628743\n",
      "Mean Acc : \t 0.46745737185\n",
      "FreqW Acc : \t 0.399182813483\n",
      "Mean IoU : \t 0.34112913226\n",
      "Epoch [35/100] Loss: 0.5197\n",
      "Epoch [35/100] Loss: 0.5718\n",
      "Epoch [35/100] Loss: 0.4239\n",
      "Epoch [35/100] Loss: 0.4550\n",
      "Epoch [35/100] Loss: 0.6410\n",
      "Epoch [35/100] Loss: 0.6033\n",
      "Epoch [35/100] Loss: 0.6488\n",
      "Epoch [35/100] Loss: 0.5187\n",
      "Epoch [35/100] Loss: 0.5589\n",
      "Epoch [35/100] Loss: 0.5794\n",
      "Epoch [35/100] Loss: 0.5413\n",
      "Epoch [35/100] Loss: 0.5482\n",
      "Epoch [35/100] Loss: 0.5714\n"
     ]
    },
    {
     "name": "stderr",
     "output_type": "stream",
     "text": [
      "218it [01:09,  3.13it/s]"
     ]
    },
    {
     "name": "stdout",
     "output_type": "stream",
     "text": [
      "Overall Acc: \t 0.550762146805\n",
      "Mean Acc : \t 0.460897716189\n",
      "FreqW Acc : \t 0.39758221606\n",
      "Mean IoU : \t 0.333257843258\n"
     ]
    },
    {
     "name": "stderr",
     "output_type": "stream",
     "text": [
      "\n"
     ]
    },
    {
     "name": "stdout",
     "output_type": "stream",
     "text": [
      "Epoch [36/100] Loss: 0.6448\n",
      "Epoch [36/100] Loss: 0.4368\n",
      "Epoch [36/100] Loss: 0.4850\n",
      "Epoch [36/100] Loss: 0.5073\n",
      "Epoch [36/100] Loss: 0.5401\n",
      "Epoch [36/100] Loss: 0.4919\n",
      "Epoch [36/100] Loss: 0.7767\n",
      "Epoch [36/100] Loss: 0.5773\n",
      "Epoch [36/100] Loss: 0.6201\n",
      "Epoch [36/100] Loss: 0.6159\n",
      "Epoch [36/100] Loss: 0.5981\n",
      "Epoch [36/100] Loss: 0.3809\n",
      "Epoch [36/100] Loss: 0.4863\n"
     ]
    },
    {
     "name": "stderr",
     "output_type": "stream",
     "text": [
      "218it [01:09,  3.12it/s]\n"
     ]
    },
    {
     "name": "stdout",
     "output_type": "stream",
     "text": [
      "Overall Acc: \t 0.564381037565\n",
      "Mean Acc : \t 0.484062611512\n",
      "FreqW Acc : \t 0.405653849035\n",
      "Mean IoU : \t 0.346831392073\n",
      "Epoch [37/100] Loss: 0.4528\n",
      "Epoch [37/100] Loss: 0.6684\n",
      "Epoch [37/100] Loss: 0.5344\n",
      "Epoch [37/100] Loss: 0.5011\n",
      "Epoch [37/100] Loss: 0.4421\n",
      "Epoch [37/100] Loss: 0.3992\n",
      "Epoch [37/100] Loss: 0.5477\n",
      "Epoch [37/100] Loss: 0.4233\n",
      "Epoch [37/100] Loss: 0.6290\n",
      "Epoch [37/100] Loss: 0.5855\n",
      "Epoch [37/100] Loss: 0.5234\n",
      "Epoch [37/100] Loss: 0.6894\n",
      "Epoch [37/100] Loss: 0.4469\n"
     ]
    },
    {
     "name": "stderr",
     "output_type": "stream",
     "text": [
      "218it [01:09,  3.14it/s]"
     ]
    },
    {
     "name": "stdout",
     "output_type": "stream",
     "text": [
      "Overall Acc: \t 0.550631774218\n",
      "Mean Acc : \t 0.460233860441\n",
      "FreqW Acc : \t 0.393972989016\n",
      "Mean IoU : \t 0.327921642338\n"
     ]
    },
    {
     "name": "stderr",
     "output_type": "stream",
     "text": [
      "\n"
     ]
    },
    {
     "name": "stdout",
     "output_type": "stream",
     "text": [
      "Epoch [38/100] Loss: 0.6298\n",
      "Epoch [38/100] Loss: 0.5178\n",
      "Epoch [38/100] Loss: 0.4458\n",
      "Epoch [38/100] Loss: 0.3617\n",
      "Epoch [38/100] Loss: 0.5816\n",
      "Epoch [38/100] Loss: 0.6934\n",
      "Epoch [38/100] Loss: 0.5667\n",
      "Epoch [38/100] Loss: 0.4632\n",
      "Epoch [38/100] Loss: 0.6122\n",
      "Epoch [38/100] Loss: 0.5895\n",
      "Epoch [38/100] Loss: 0.5104\n",
      "Epoch [38/100] Loss: 0.5213\n",
      "Epoch [38/100] Loss: 0.5188\n"
     ]
    },
    {
     "name": "stderr",
     "output_type": "stream",
     "text": [
      "218it [01:09,  3.14it/s]"
     ]
    },
    {
     "name": "stdout",
     "output_type": "stream",
     "text": [
      "Overall Acc: \t 0.535896108085\n",
      "Mean Acc : \t 0.447109073546\n",
      "FreqW Acc : \t 0.384810749398\n",
      "Mean IoU : \t 0.327586542389\n"
     ]
    },
    {
     "name": "stderr",
     "output_type": "stream",
     "text": [
      "\n"
     ]
    },
    {
     "name": "stdout",
     "output_type": "stream",
     "text": [
      "Epoch [39/100] Loss: 0.5270\n",
      "Epoch [39/100] Loss: 0.4547\n",
      "Epoch [39/100] Loss: 0.4013\n",
      "Epoch [39/100] Loss: 0.6237\n",
      "Epoch [39/100] Loss: 0.6483\n",
      "Epoch [39/100] Loss: 0.4587\n",
      "Epoch [39/100] Loss: 0.5520\n",
      "Epoch [39/100] Loss: 0.6030\n",
      "Epoch [39/100] Loss: 0.5217\n",
      "Epoch [39/100] Loss: 0.5065\n",
      "Epoch [39/100] Loss: 0.4361\n",
      "Epoch [39/100] Loss: 0.5281\n",
      "Epoch [39/100] Loss: 0.4323\n"
     ]
    },
    {
     "name": "stderr",
     "output_type": "stream",
     "text": [
      "218it [01:09,  3.16it/s]"
     ]
    },
    {
     "name": "stdout",
     "output_type": "stream",
     "text": [
      "Overall Acc: \t 0.541267062468\n",
      "Mean Acc : \t 0.454663395305\n",
      "FreqW Acc : \t 0.390450356943\n",
      "Mean IoU : \t 0.332834758668\n"
     ]
    },
    {
     "name": "stderr",
     "output_type": "stream",
     "text": [
      "\n"
     ]
    },
    {
     "name": "stdout",
     "output_type": "stream",
     "text": [
      "Epoch [40/100] Loss: 0.5067\n",
      "Epoch [40/100] Loss: 0.5342\n",
      "Epoch [40/100] Loss: 0.5977\n",
      "Epoch [40/100] Loss: 0.4623\n",
      "Epoch [40/100] Loss: 0.5482\n",
      "Epoch [40/100] Loss: 0.5582\n",
      "Epoch [40/100] Loss: 0.5617\n",
      "Epoch [40/100] Loss: 0.4973\n",
      "Epoch [40/100] Loss: 0.6113\n",
      "Epoch [40/100] Loss: 0.5156\n",
      "Epoch [40/100] Loss: 0.4196\n",
      "Epoch [40/100] Loss: 0.3866\n",
      "Epoch [40/100] Loss: 0.3467\n"
     ]
    },
    {
     "name": "stderr",
     "output_type": "stream",
     "text": [
      "218it [01:09,  3.15it/s]"
     ]
    },
    {
     "name": "stdout",
     "output_type": "stream",
     "text": [
      "Overall Acc: \t 0.531811394026\n",
      "Mean Acc : \t 0.432415610679\n",
      "FreqW Acc : \t 0.377572699138\n",
      "Mean IoU : \t 0.319305933821\n"
     ]
    },
    {
     "name": "stderr",
     "output_type": "stream",
     "text": [
      "\n"
     ]
    },
    {
     "name": "stdout",
     "output_type": "stream",
     "text": [
      "Epoch [41/100] Loss: 0.6531\n",
      "Epoch [41/100] Loss: 0.4734\n",
      "Epoch [41/100] Loss: 0.6408\n",
      "Epoch [41/100] Loss: 0.4175\n",
      "Epoch [41/100] Loss: 0.5671\n",
      "Epoch [41/100] Loss: 0.3423\n",
      "Epoch [41/100] Loss: 0.5645\n",
      "Epoch [41/100] Loss: 0.5560\n",
      "Epoch [41/100] Loss: 0.6095\n",
      "Epoch [41/100] Loss: 0.5037\n",
      "Epoch [41/100] Loss: 0.5895\n",
      "Epoch [41/100] Loss: 0.5046\n",
      "Epoch [41/100] Loss: 0.5087\n"
     ]
    },
    {
     "name": "stderr",
     "output_type": "stream",
     "text": [
      "218it [01:09,  3.15it/s]"
     ]
    },
    {
     "name": "stdout",
     "output_type": "stream",
     "text": [
      "Overall Acc: \t 0.53161599691\n",
      "Mean Acc : \t 0.444309706207\n",
      "FreqW Acc : \t 0.385089154497\n",
      "Mean IoU : \t 0.324829448423\n"
     ]
    },
    {
     "name": "stderr",
     "output_type": "stream",
     "text": [
      "\n"
     ]
    },
    {
     "name": "stdout",
     "output_type": "stream",
     "text": [
      "Epoch [42/100] Loss: 0.4127\n",
      "Epoch [42/100] Loss: 0.5290\n",
      "Epoch [42/100] Loss: 0.5645\n",
      "Epoch [42/100] Loss: 0.4946\n",
      "Epoch [42/100] Loss: 0.5494\n",
      "Epoch [42/100] Loss: 0.4084\n",
      "Epoch [42/100] Loss: 0.5348\n",
      "Epoch [42/100] Loss: 0.6696\n",
      "Epoch [42/100] Loss: 0.4445\n",
      "Epoch [42/100] Loss: 0.5864\n",
      "Epoch [42/100] Loss: 0.5360\n",
      "Epoch [42/100] Loss: 0.4068\n",
      "Epoch [42/100] Loss: 0.5672\n"
     ]
    },
    {
     "name": "stderr",
     "output_type": "stream",
     "text": [
      "218it [01:09,  3.14it/s]"
     ]
    },
    {
     "name": "stdout",
     "output_type": "stream",
     "text": [
      "Overall Acc: \t 0.550272670983\n",
      "Mean Acc : \t 0.476102517724\n",
      "FreqW Acc : \t 0.39731096676\n",
      "Mean IoU : \t 0.338209747097\n"
     ]
    },
    {
     "name": "stderr",
     "output_type": "stream",
     "text": [
      "\n"
     ]
    },
    {
     "name": "stdout",
     "output_type": "stream",
     "text": [
      "Epoch [43/100] Loss: 0.3769\n",
      "Epoch [43/100] Loss: 0.6341\n",
      "Epoch [43/100] Loss: 0.6143\n",
      "Epoch [43/100] Loss: 0.3233\n",
      "Epoch [43/100] Loss: 0.5561\n",
      "Epoch [43/100] Loss: 0.4696\n",
      "Epoch [43/100] Loss: 0.4345\n",
      "Epoch [43/100] Loss: 0.3874\n",
      "Epoch [43/100] Loss: 0.3734\n",
      "Epoch [43/100] Loss: 0.4610\n",
      "Epoch [43/100] Loss: 0.5472\n",
      "Epoch [43/100] Loss: 0.4574\n",
      "Epoch [43/100] Loss: 0.4416\n"
     ]
    },
    {
     "name": "stderr",
     "output_type": "stream",
     "text": [
      "218it [01:09,  3.15it/s]"
     ]
    },
    {
     "name": "stdout",
     "output_type": "stream",
     "text": [
      "Overall Acc: \t 0.553320501641\n",
      "Mean Acc : \t 0.471176655821\n",
      "FreqW Acc : \t 0.400624745544\n",
      "Mean IoU : \t 0.342291316635\n"
     ]
    },
    {
     "name": "stderr",
     "output_type": "stream",
     "text": [
      "\n"
     ]
    },
    {
     "name": "stdout",
     "output_type": "stream",
     "text": [
      "Epoch [44/100] Loss: 0.3367\n",
      "Epoch [44/100] Loss: 0.4825\n",
      "Epoch [44/100] Loss: 0.5075\n",
      "Epoch [44/100] Loss: 0.5926\n",
      "Epoch [44/100] Loss: 0.4835\n",
      "Epoch [44/100] Loss: 0.6063\n",
      "Epoch [44/100] Loss: 0.6767\n",
      "Epoch [44/100] Loss: 0.3988\n",
      "Epoch [44/100] Loss: 0.4942\n",
      "Epoch [44/100] Loss: 0.4507\n",
      "Epoch [44/100] Loss: 0.4314\n",
      "Epoch [44/100] Loss: 0.4950\n",
      "Epoch [44/100] Loss: 0.4845\n"
     ]
    },
    {
     "name": "stderr",
     "output_type": "stream",
     "text": [
      "218it [01:09,  3.15it/s]"
     ]
    },
    {
     "name": "stdout",
     "output_type": "stream",
     "text": [
      "Overall Acc: \t 0.538187013212\n",
      "Mean Acc : \t 0.433738277905\n",
      "FreqW Acc : \t 0.386881154088\n",
      "Mean IoU : \t 0.318822742385\n"
     ]
    },
    {
     "name": "stderr",
     "output_type": "stream",
     "text": [
      "\n"
     ]
    },
    {
     "name": "stdout",
     "output_type": "stream",
     "text": [
      "Epoch [45/100] Loss: 0.4897\n",
      "Epoch [45/100] Loss: 0.3983\n",
      "Epoch [45/100] Loss: 0.4216\n",
      "Epoch [45/100] Loss: 0.5354\n",
      "Epoch [45/100] Loss: 0.4053\n",
      "Epoch [45/100] Loss: 0.4971\n",
      "Epoch [45/100] Loss: 0.3680\n",
      "Epoch [45/100] Loss: 0.5272\n",
      "Epoch [45/100] Loss: 0.4750\n",
      "Epoch [45/100] Loss: 0.7294\n",
      "Epoch [45/100] Loss: 0.3798\n",
      "Epoch [45/100] Loss: 0.6934\n",
      "Epoch [45/100] Loss: 0.5607\n"
     ]
    },
    {
     "name": "stderr",
     "output_type": "stream",
     "text": [
      "218it [01:09,  3.14it/s]"
     ]
    },
    {
     "name": "stdout",
     "output_type": "stream",
     "text": [
      "Overall Acc: \t 0.548696821642\n",
      "Mean Acc : \t 0.445845910248\n",
      "FreqW Acc : \t 0.395505121397\n",
      "Mean IoU : \t 0.333123992791\n"
     ]
    },
    {
     "name": "stderr",
     "output_type": "stream",
     "text": [
      "\n"
     ]
    },
    {
     "name": "stdout",
     "output_type": "stream",
     "text": [
      "Epoch [46/100] Loss: 0.5117\n",
      "Epoch [46/100] Loss: 0.5599\n",
      "Epoch [46/100] Loss: 0.4323\n",
      "Epoch [46/100] Loss: 0.5071\n",
      "Epoch [46/100] Loss: 0.5115\n",
      "Epoch [46/100] Loss: 0.4985\n",
      "Epoch [46/100] Loss: 0.4978\n",
      "Epoch [46/100] Loss: 0.4876\n",
      "Epoch [46/100] Loss: 0.5022\n",
      "Epoch [46/100] Loss: 0.3806\n",
      "Epoch [46/100] Loss: 0.4385\n",
      "Epoch [46/100] Loss: 0.4794\n",
      "Epoch [46/100] Loss: 0.3926\n"
     ]
    },
    {
     "name": "stderr",
     "output_type": "stream",
     "text": [
      "218it [01:09,  3.13it/s]"
     ]
    },
    {
     "name": "stdout",
     "output_type": "stream",
     "text": [
      "Overall Acc: \t 0.553011988524\n",
      "Mean Acc : \t 0.472290218288\n",
      "FreqW Acc : \t 0.40052014455\n",
      "Mean IoU : \t 0.341796901198\n"
     ]
    },
    {
     "name": "stderr",
     "output_type": "stream",
     "text": [
      "\n"
     ]
    },
    {
     "name": "stdout",
     "output_type": "stream",
     "text": [
      "Epoch [47/100] Loss: 0.5020\n",
      "Epoch [47/100] Loss: 0.4203\n",
      "Epoch [47/100] Loss: 0.5229\n",
      "Epoch [47/100] Loss: 0.5956\n",
      "Epoch [47/100] Loss: 0.5207\n",
      "Epoch [47/100] Loss: 0.5611\n",
      "Epoch [47/100] Loss: 0.4654\n",
      "Epoch [47/100] Loss: 0.3044\n",
      "Epoch [47/100] Loss: 0.5029\n",
      "Epoch [47/100] Loss: 0.4296\n",
      "Epoch [47/100] Loss: 0.3911\n",
      "Epoch [47/100] Loss: 0.4508\n",
      "Epoch [47/100] Loss: 0.5189\n"
     ]
    },
    {
     "name": "stderr",
     "output_type": "stream",
     "text": [
      "218it [01:09,  3.14it/s]"
     ]
    },
    {
     "name": "stdout",
     "output_type": "stream",
     "text": [
      "Overall Acc: \t 0.54949545764\n",
      "Mean Acc : \t 0.44910671641\n",
      "FreqW Acc : \t 0.396945532253\n",
      "Mean IoU : \t 0.329055916163\n"
     ]
    },
    {
     "name": "stderr",
     "output_type": "stream",
     "text": [
      "\n"
     ]
    },
    {
     "name": "stdout",
     "output_type": "stream",
     "text": [
      "Epoch [48/100] Loss: 0.4537\n",
      "Epoch [48/100] Loss: 0.4127\n",
      "Epoch [48/100] Loss: 0.4263\n",
      "Epoch [48/100] Loss: 0.4413\n",
      "Epoch [48/100] Loss: 0.3782\n",
      "Epoch [48/100] Loss: 0.4081\n",
      "Epoch [48/100] Loss: 0.4054\n",
      "Epoch [48/100] Loss: 0.6011\n",
      "Epoch [48/100] Loss: 0.3316\n",
      "Epoch [48/100] Loss: 0.4215\n",
      "Epoch [48/100] Loss: 0.4146\n",
      "Epoch [48/100] Loss: 0.4009\n",
      "Epoch [48/100] Loss: 0.5161\n"
     ]
    },
    {
     "name": "stderr",
     "output_type": "stream",
     "text": [
      "218it [01:09,  3.14it/s]"
     ]
    },
    {
     "name": "stdout",
     "output_type": "stream",
     "text": [
      "Overall Acc: \t 0.543840185198\n",
      "Mean Acc : \t 0.445113004692\n",
      "FreqW Acc : \t 0.393200135958\n",
      "Mean IoU : \t 0.331463391574\n"
     ]
    },
    {
     "name": "stderr",
     "output_type": "stream",
     "text": [
      "\n"
     ]
    },
    {
     "name": "stdout",
     "output_type": "stream",
     "text": [
      "Epoch [49/100] Loss: 0.4564\n",
      "Epoch [49/100] Loss: 0.4848\n",
      "Epoch [49/100] Loss: 0.3749\n",
      "Epoch [49/100] Loss: 0.3968\n",
      "Epoch [49/100] Loss: 0.5683\n",
      "Epoch [49/100] Loss: 0.4482\n",
      "Epoch [49/100] Loss: 0.5045\n",
      "Epoch [49/100] Loss: 0.4251\n",
      "Epoch [49/100] Loss: 0.4358\n",
      "Epoch [49/100] Loss: 0.4671\n",
      "Epoch [49/100] Loss: 0.4321\n",
      "Epoch [49/100] Loss: 0.3612\n",
      "Epoch [49/100] Loss: 0.4487\n"
     ]
    },
    {
     "name": "stderr",
     "output_type": "stream",
     "text": [
      "218it [01:09,  3.15it/s]"
     ]
    },
    {
     "name": "stdout",
     "output_type": "stream",
     "text": [
      "Overall Acc: \t 0.539401220852\n",
      "Mean Acc : \t 0.451993741768\n",
      "FreqW Acc : \t 0.38729250252\n",
      "Mean IoU : \t 0.331734989208\n"
     ]
    },
    {
     "name": "stderr",
     "output_type": "stream",
     "text": [
      "\n"
     ]
    },
    {
     "name": "stdout",
     "output_type": "stream",
     "text": [
      "Epoch [50/100] Loss: 0.5041\n",
      "Epoch [50/100] Loss: 0.4343\n",
      "Epoch [50/100] Loss: 0.5619\n",
      "Epoch [50/100] Loss: 0.3847\n",
      "Epoch [50/100] Loss: 0.4633\n",
      "Epoch [50/100] Loss: 0.4494\n",
      "Epoch [50/100] Loss: 0.5847\n",
      "Epoch [50/100] Loss: 0.5465\n",
      "Epoch [50/100] Loss: 0.5597\n",
      "Epoch [50/100] Loss: 0.4061\n",
      "Epoch [50/100] Loss: 0.4879\n",
      "Epoch [50/100] Loss: 0.4805\n",
      "Epoch [50/100] Loss: 0.3533\n"
     ]
    },
    {
     "name": "stderr",
     "output_type": "stream",
     "text": [
      "218it [01:09,  3.15it/s]"
     ]
    },
    {
     "name": "stdout",
     "output_type": "stream",
     "text": [
      "Overall Acc: \t 0.54762173185\n",
      "Mean Acc : \t 0.467947473992\n",
      "FreqW Acc : \t 0.394420743492\n",
      "Mean IoU : \t 0.339071006533\n"
     ]
    },
    {
     "name": "stderr",
     "output_type": "stream",
     "text": [
      "\n"
     ]
    },
    {
     "name": "stdout",
     "output_type": "stream",
     "text": [
      "Epoch [51/100] Loss: 0.4533\n",
      "Epoch [51/100] Loss: 0.3576\n",
      "Epoch [51/100] Loss: 0.4084\n",
      "Epoch [51/100] Loss: 0.5036\n",
      "Epoch [51/100] Loss: 0.4162\n",
      "Epoch [51/100] Loss: 0.4311\n",
      "Epoch [51/100] Loss: 0.4826\n",
      "Epoch [51/100] Loss: 0.4000\n",
      "Epoch [51/100] Loss: 0.4687\n",
      "Epoch [51/100] Loss: 0.5136\n",
      "Epoch [51/100] Loss: 0.4210\n",
      "Epoch [51/100] Loss: 0.6065\n",
      "Epoch [51/100] Loss: 0.3391\n"
     ]
    },
    {
     "name": "stderr",
     "output_type": "stream",
     "text": [
      "218it [01:09,  3.15it/s]"
     ]
    },
    {
     "name": "stdout",
     "output_type": "stream",
     "text": [
      "Overall Acc: \t 0.544365737091\n",
      "Mean Acc : \t 0.459253660011\n",
      "FreqW Acc : \t 0.391772792194\n",
      "Mean IoU : \t 0.333553764242\n"
     ]
    },
    {
     "name": "stderr",
     "output_type": "stream",
     "text": [
      "\n"
     ]
    },
    {
     "name": "stdout",
     "output_type": "stream",
     "text": [
      "Epoch [52/100] Loss: 0.4046\n",
      "Epoch [52/100] Loss: 0.6626\n",
      "Epoch [52/100] Loss: 0.4880\n",
      "Epoch [52/100] Loss: 0.4624\n",
      "Epoch [52/100] Loss: 0.3947\n",
      "Epoch [52/100] Loss: 0.4056\n",
      "Epoch [52/100] Loss: 0.4674\n",
      "Epoch [52/100] Loss: 0.5064\n",
      "Epoch [52/100] Loss: 0.4880\n",
      "Epoch [52/100] Loss: 0.2819\n",
      "Epoch [52/100] Loss: 0.6022\n",
      "Epoch [52/100] Loss: 0.4726\n",
      "Epoch [52/100] Loss: 0.6357\n"
     ]
    },
    {
     "name": "stderr",
     "output_type": "stream",
     "text": [
      "218it [01:09,  3.13it/s]"
     ]
    },
    {
     "name": "stdout",
     "output_type": "stream",
     "text": [
      "Overall Acc: \t 0.553605715628\n",
      "Mean Acc : \t 0.488825336346\n",
      "FreqW Acc : \t 0.399127165139\n",
      "Mean IoU : \t 0.345942409868\n"
     ]
    },
    {
     "name": "stderr",
     "output_type": "stream",
     "text": [
      "\n"
     ]
    },
    {
     "name": "stdout",
     "output_type": "stream",
     "text": [
      "Epoch [53/100] Loss: 0.5007\n",
      "Epoch [53/100] Loss: 0.5648\n",
      "Epoch [53/100] Loss: 0.6225\n",
      "Epoch [53/100] Loss: 0.4860\n",
      "Epoch [53/100] Loss: 0.4208\n",
      "Epoch [53/100] Loss: 0.4298\n",
      "Epoch [53/100] Loss: 0.4026\n",
      "Epoch [53/100] Loss: 0.3087\n",
      "Epoch [53/100] Loss: 0.3951\n",
      "Epoch [53/100] Loss: 0.4586\n",
      "Epoch [53/100] Loss: 0.3986\n",
      "Epoch [53/100] Loss: 0.3573\n",
      "Epoch [53/100] Loss: 0.5389\n"
     ]
    },
    {
     "name": "stderr",
     "output_type": "stream",
     "text": [
      "218it [01:09,  3.15it/s]"
     ]
    },
    {
     "name": "stdout",
     "output_type": "stream",
     "text": [
      "Overall Acc: \t 0.552333616049\n",
      "Mean Acc : \t 0.480433394193\n",
      "FreqW Acc : \t 0.40014936718\n",
      "Mean IoU : \t 0.345620529097\n"
     ]
    },
    {
     "name": "stderr",
     "output_type": "stream",
     "text": [
      "\n"
     ]
    },
    {
     "name": "stdout",
     "output_type": "stream",
     "text": [
      "Epoch [54/100] Loss: 0.5032\n",
      "Epoch [54/100] Loss: 0.5304\n",
      "Epoch [54/100] Loss: 0.4957\n",
      "Epoch [54/100] Loss: 0.4931\n",
      "Epoch [54/100] Loss: 0.4390\n",
      "Epoch [54/100] Loss: 0.4414\n",
      "Epoch [54/100] Loss: 0.2857\n",
      "Epoch [54/100] Loss: 0.4975\n",
      "Epoch [54/100] Loss: 0.4718\n",
      "Epoch [54/100] Loss: 0.4842\n",
      "Epoch [54/100] Loss: 0.6041\n",
      "Epoch [54/100] Loss: 0.4646\n",
      "Epoch [54/100] Loss: 0.4107\n"
     ]
    },
    {
     "name": "stderr",
     "output_type": "stream",
     "text": [
      "218it [01:09,  3.16it/s]"
     ]
    },
    {
     "name": "stdout",
     "output_type": "stream",
     "text": [
      "Overall Acc: \t 0.548339131984\n",
      "Mean Acc : \t 0.469687232163\n",
      "FreqW Acc : \t 0.39744410677\n",
      "Mean IoU : \t 0.342175985296\n"
     ]
    },
    {
     "name": "stderr",
     "output_type": "stream",
     "text": [
      "\n"
     ]
    },
    {
     "name": "stdout",
     "output_type": "stream",
     "text": [
      "Epoch [55/100] Loss: 0.4924\n",
      "Epoch [55/100] Loss: 0.4261\n",
      "Epoch [55/100] Loss: 0.5168\n",
      "Epoch [55/100] Loss: 0.4179\n",
      "Epoch [55/100] Loss: 0.4552\n",
      "Epoch [55/100] Loss: 0.5216\n",
      "Epoch [55/100] Loss: 0.3639\n",
      "Epoch [55/100] Loss: 0.3774\n",
      "Epoch [55/100] Loss: 0.4512\n",
      "Epoch [55/100] Loss: 0.4507\n",
      "Epoch [55/100] Loss: 0.3553\n",
      "Epoch [55/100] Loss: 0.5809\n",
      "Epoch [55/100] Loss: 0.5356\n"
     ]
    },
    {
     "name": "stderr",
     "output_type": "stream",
     "text": [
      "218it [01:09,  3.15it/s]"
     ]
    },
    {
     "name": "stdout",
     "output_type": "stream",
     "text": [
      "Overall Acc: \t 0.554233990746\n",
      "Mean Acc : \t 0.468760809095\n",
      "FreqW Acc : \t 0.400216191147\n",
      "Mean IoU : \t 0.343121415174\n"
     ]
    },
    {
     "name": "stderr",
     "output_type": "stream",
     "text": [
      "\n"
     ]
    },
    {
     "name": "stdout",
     "output_type": "stream",
     "text": [
      "Epoch [56/100] Loss: 0.2809\n",
      "Epoch [56/100] Loss: 0.4832\n",
      "Epoch [56/100] Loss: 0.5174\n",
      "Epoch [56/100] Loss: 0.4406\n",
      "Epoch [56/100] Loss: 0.5389\n",
      "Epoch [56/100] Loss: 0.4755\n",
      "Epoch [56/100] Loss: 0.5382\n",
      "Epoch [56/100] Loss: 0.4515\n",
      "Epoch [56/100] Loss: 0.3172\n",
      "Epoch [56/100] Loss: 0.5039\n",
      "Epoch [56/100] Loss: 0.5074\n",
      "Epoch [56/100] Loss: 0.4726\n",
      "Epoch [56/100] Loss: 0.4982\n"
     ]
    },
    {
     "name": "stderr",
     "output_type": "stream",
     "text": [
      "218it [01:09,  3.14it/s]"
     ]
    },
    {
     "name": "stdout",
     "output_type": "stream",
     "text": [
      "Overall Acc: \t 0.541056310127\n",
      "Mean Acc : \t 0.450760626814\n",
      "FreqW Acc : \t 0.388333809731\n",
      "Mean IoU : \t 0.325810991662\n"
     ]
    },
    {
     "name": "stderr",
     "output_type": "stream",
     "text": [
      "\n"
     ]
    },
    {
     "name": "stdout",
     "output_type": "stream",
     "text": [
      "Epoch [57/100] Loss: 0.5766\n",
      "Epoch [57/100] Loss: 0.4794\n",
      "Epoch [57/100] Loss: 0.3710\n",
      "Epoch [57/100] Loss: 0.4556\n",
      "Epoch [57/100] Loss: 0.4912\n",
      "Epoch [57/100] Loss: 0.4472\n",
      "Epoch [57/100] Loss: 0.4538\n",
      "Epoch [57/100] Loss: 0.4873\n",
      "Epoch [57/100] Loss: 0.4884\n",
      "Epoch [57/100] Loss: 0.4234\n",
      "Epoch [57/100] Loss: 0.5303\n",
      "Epoch [57/100] Loss: 0.4727\n",
      "Epoch [57/100] Loss: 0.4099\n"
     ]
    },
    {
     "name": "stderr",
     "output_type": "stream",
     "text": [
      "218it [01:09,  3.14it/s]"
     ]
    },
    {
     "name": "stdout",
     "output_type": "stream",
     "text": [
      "Overall Acc: \t 0.547279666197\n",
      "Mean Acc : \t 0.455463010326\n",
      "FreqW Acc : \t 0.395639081677\n",
      "Mean IoU : \t 0.337893033703\n"
     ]
    },
    {
     "name": "stderr",
     "output_type": "stream",
     "text": [
      "\n"
     ]
    },
    {
     "name": "stdout",
     "output_type": "stream",
     "text": [
      "Epoch [58/100] Loss: 0.4566\n",
      "Epoch [58/100] Loss: 0.6305\n",
      "Epoch [58/100] Loss: 0.4388\n",
      "Epoch [58/100] Loss: 0.4524\n",
      "Epoch [58/100] Loss: 0.2791\n",
      "Epoch [58/100] Loss: 0.5911\n",
      "Epoch [58/100] Loss: 0.4127\n",
      "Epoch [58/100] Loss: 0.4207\n",
      "Epoch [58/100] Loss: 0.4426\n",
      "Epoch [58/100] Loss: 0.3901\n",
      "Epoch [58/100] Loss: 0.4285\n",
      "Epoch [58/100] Loss: 0.4485\n",
      "Epoch [58/100] Loss: 0.5749\n"
     ]
    },
    {
     "name": "stderr",
     "output_type": "stream",
     "text": [
      "218it [01:09,  3.14it/s]"
     ]
    },
    {
     "name": "stdout",
     "output_type": "stream",
     "text": [
      "Overall Acc: \t 0.558044889024\n",
      "Mean Acc : \t 0.46363692765\n",
      "FreqW Acc : \t 0.404682894264\n",
      "Mean IoU : \t 0.342794203655\n"
     ]
    },
    {
     "name": "stderr",
     "output_type": "stream",
     "text": [
      "\n"
     ]
    },
    {
     "name": "stdout",
     "output_type": "stream",
     "text": [
      "Epoch [59/100] Loss: 0.3623\n",
      "Epoch [59/100] Loss: 0.3382\n",
      "Epoch [59/100] Loss: 0.4808\n",
      "Epoch [59/100] Loss: 0.4053\n",
      "Epoch [59/100] Loss: 0.4594\n",
      "Epoch [59/100] Loss: 0.3621\n",
      "Epoch [59/100] Loss: 0.5696\n",
      "Epoch [59/100] Loss: 0.3760\n",
      "Epoch [59/100] Loss: 0.3632\n",
      "Epoch [59/100] Loss: 0.4151\n",
      "Epoch [59/100] Loss: 0.4903\n",
      "Epoch [59/100] Loss: 0.4228\n",
      "Epoch [59/100] Loss: 0.3259\n"
     ]
    },
    {
     "name": "stderr",
     "output_type": "stream",
     "text": [
      "218it [01:09,  3.13it/s]"
     ]
    },
    {
     "name": "stdout",
     "output_type": "stream",
     "text": [
      "Overall Acc: \t 0.545328810883\n",
      "Mean Acc : \t 0.444047974301\n",
      "FreqW Acc : \t 0.395279997064\n",
      "Mean IoU : \t 0.333826712754\n"
     ]
    },
    {
     "name": "stderr",
     "output_type": "stream",
     "text": [
      "\n"
     ]
    },
    {
     "name": "stdout",
     "output_type": "stream",
     "text": [
      "Epoch [60/100] Loss: 0.5254\n",
      "Epoch [60/100] Loss: 0.4175\n",
      "Epoch [60/100] Loss: 0.3599\n",
      "Epoch [60/100] Loss: 0.3482\n",
      "Epoch [60/100] Loss: 0.4994\n",
      "Epoch [60/100] Loss: 0.4862\n",
      "Epoch [60/100] Loss: 0.4443\n",
      "Epoch [60/100] Loss: 0.5059\n",
      "Epoch [60/100] Loss: 0.3930\n",
      "Epoch [60/100] Loss: 0.3809\n",
      "Epoch [60/100] Loss: 0.3799\n",
      "Epoch [60/100] Loss: 0.5325\n",
      "Epoch [60/100] Loss: 0.3386\n"
     ]
    },
    {
     "name": "stderr",
     "output_type": "stream",
     "text": [
      "218it [01:09,  3.14it/s]"
     ]
    },
    {
     "name": "stdout",
     "output_type": "stream",
     "text": [
      "Overall Acc: \t 0.55391918124\n",
      "Mean Acc : \t 0.45311533661\n",
      "FreqW Acc : \t 0.401335490525\n",
      "Mean IoU : \t 0.337973632961\n"
     ]
    },
    {
     "name": "stderr",
     "output_type": "stream",
     "text": [
      "\n"
     ]
    },
    {
     "name": "stdout",
     "output_type": "stream",
     "text": [
      "Epoch [61/100] Loss: 0.3783\n",
      "Epoch [61/100] Loss: 0.3871\n",
      "Epoch [61/100] Loss: 0.4220\n",
      "Epoch [61/100] Loss: 0.4229\n",
      "Epoch [61/100] Loss: 0.4829\n",
      "Epoch [61/100] Loss: 0.2973\n",
      "Epoch [61/100] Loss: 0.4879\n",
      "Epoch [61/100] Loss: 0.5099\n",
      "Epoch [61/100] Loss: 0.4269\n",
      "Epoch [61/100] Loss: 0.4472\n",
      "Epoch [61/100] Loss: 0.4088\n",
      "Epoch [61/100] Loss: 0.3234\n",
      "Epoch [61/100] Loss: 0.4449\n"
     ]
    },
    {
     "name": "stderr",
     "output_type": "stream",
     "text": [
      "218it [01:09,  3.13it/s]\n"
     ]
    },
    {
     "name": "stdout",
     "output_type": "stream",
     "text": [
      "Overall Acc: \t 0.566945151233\n",
      "Mean Acc : \t 0.481044248853\n",
      "FreqW Acc : \t 0.409128080021\n",
      "Mean IoU : \t 0.349615004812\n",
      "Epoch [62/100] Loss: 0.3861\n",
      "Epoch [62/100] Loss: 0.4082\n",
      "Epoch [62/100] Loss: 0.4167\n"
     ]
    },
    {
     "ename": "FileNotFoundError",
     "evalue": "Traceback (most recent call last):\n  File \"/home/dongwonshin/.conda/envs/pytorch/lib/python3.6/site-packages/torch/utils/data/dataloader.py\", line 55, in _worker_loop\n    samples = collate_fn([dataset[i] for i in batch_indices])\n  File \"/home/dongwonshin/.conda/envs/pytorch/lib/python3.6/site-packages/torch/utils/data/dataloader.py\", line 55, in <listcomp>\n    samples = collate_fn([dataset[i] for i in batch_indices])\n  File \"/home/dongwonshin/Desktop/semantic_segmentation_rgbd/research_notebooks/NYUDv2Loader.py\", line 59, in __getitem__\n    depth_img = np.load(depth_path)\n  File \"/home/dongwonshin/.conda/envs/pytorch/lib/python3.6/site-packages/numpy/lib/npyio.py\", line 370, in load\n    fid = open(file, \"rb\")\nFileNotFoundError: [Errno 2] No such file or directory: '/home/dongwonshin/Desktop/Datasets/NYUDv2/train/depth/nyu_depth_0369.npy'\n",
     "output_type": "error",
     "traceback": [
      "\u001b[0;31m---------------------------------------------------------------------------\u001b[0m",
      "\u001b[0;31mFileNotFoundError\u001b[0m                         Traceback (most recent call last)",
      "\u001b[0;32m<ipython-input-4-63788d3e9bc0>\u001b[0m in \u001b[0;36m<module>\u001b[0;34m()\u001b[0m\n\u001b[1;32m      2\u001b[0m \u001b[0;32mfor\u001b[0m \u001b[0mepoch\u001b[0m \u001b[0;32min\u001b[0m \u001b[0mrange\u001b[0m\u001b[0;34m(\u001b[0m\u001b[0margs\u001b[0m\u001b[0;34m.\u001b[0m\u001b[0mn_epoch\u001b[0m\u001b[0;34m)\u001b[0m\u001b[0;34m:\u001b[0m\u001b[0;34m\u001b[0m\u001b[0m\n\u001b[1;32m      3\u001b[0m     \u001b[0mmodel\u001b[0m\u001b[0;34m.\u001b[0m\u001b[0mtrain\u001b[0m\u001b[0;34m(\u001b[0m\u001b[0;34m)\u001b[0m\u001b[0;34m\u001b[0m\u001b[0m\n\u001b[0;32m----> 4\u001b[0;31m     \u001b[0;32mfor\u001b[0m \u001b[0mi\u001b[0m\u001b[0;34m,\u001b[0m \u001b[0;34m(\u001b[0m\u001b[0mcolor_imgs\u001b[0m\u001b[0;34m,\u001b[0m \u001b[0mdepth_imgs\u001b[0m\u001b[0;34m,\u001b[0m \u001b[0mlabel_imgs\u001b[0m\u001b[0;34m)\u001b[0m \u001b[0;32min\u001b[0m \u001b[0menumerate\u001b[0m\u001b[0;34m(\u001b[0m\u001b[0mtrainloader\u001b[0m\u001b[0;34m)\u001b[0m\u001b[0;34m:\u001b[0m\u001b[0;34m\u001b[0m\u001b[0m\n\u001b[0m\u001b[1;32m      5\u001b[0m         \u001b[0mimages\u001b[0m \u001b[0;34m=\u001b[0m \u001b[0mVariable\u001b[0m\u001b[0;34m(\u001b[0m\u001b[0mcolor_imgs\u001b[0m\u001b[0;34m.\u001b[0m\u001b[0mcuda\u001b[0m\u001b[0;34m(\u001b[0m\u001b[0;34m)\u001b[0m\u001b[0;34m)\u001b[0m\u001b[0;34m\u001b[0m\u001b[0m\n\u001b[1;32m      6\u001b[0m         \u001b[0mdepth_images\u001b[0m \u001b[0;34m=\u001b[0m \u001b[0mVariable\u001b[0m\u001b[0;34m(\u001b[0m\u001b[0mdepth_imgs\u001b[0m\u001b[0;34m.\u001b[0m\u001b[0mcuda\u001b[0m\u001b[0;34m(\u001b[0m\u001b[0;34m)\u001b[0m\u001b[0;34m)\u001b[0m\u001b[0;34m\u001b[0m\u001b[0m\n",
      "\u001b[0;32m~/.conda/envs/pytorch/lib/python3.6/site-packages/torch/utils/data/dataloader.py\u001b[0m in \u001b[0;36m__next__\u001b[0;34m(self)\u001b[0m\n\u001b[1;32m    279\u001b[0m                 \u001b[0mself\u001b[0m\u001b[0;34m.\u001b[0m\u001b[0mreorder_dict\u001b[0m\u001b[0;34m[\u001b[0m\u001b[0midx\u001b[0m\u001b[0;34m]\u001b[0m \u001b[0;34m=\u001b[0m \u001b[0mbatch\u001b[0m\u001b[0;34m\u001b[0m\u001b[0m\n\u001b[1;32m    280\u001b[0m                 \u001b[0;32mcontinue\u001b[0m\u001b[0;34m\u001b[0m\u001b[0m\n\u001b[0;32m--> 281\u001b[0;31m             \u001b[0;32mreturn\u001b[0m \u001b[0mself\u001b[0m\u001b[0;34m.\u001b[0m\u001b[0m_process_next_batch\u001b[0m\u001b[0;34m(\u001b[0m\u001b[0mbatch\u001b[0m\u001b[0;34m)\u001b[0m\u001b[0;34m\u001b[0m\u001b[0m\n\u001b[0m\u001b[1;32m    282\u001b[0m \u001b[0;34m\u001b[0m\u001b[0m\n\u001b[1;32m    283\u001b[0m     \u001b[0mnext\u001b[0m \u001b[0;34m=\u001b[0m \u001b[0m__next__\u001b[0m  \u001b[0;31m# Python 2 compatibility\u001b[0m\u001b[0;34m\u001b[0m\u001b[0m\n",
      "\u001b[0;32m~/.conda/envs/pytorch/lib/python3.6/site-packages/torch/utils/data/dataloader.py\u001b[0m in \u001b[0;36m_process_next_batch\u001b[0;34m(self, batch)\u001b[0m\n\u001b[1;32m    299\u001b[0m         \u001b[0mself\u001b[0m\u001b[0;34m.\u001b[0m\u001b[0m_put_indices\u001b[0m\u001b[0;34m(\u001b[0m\u001b[0;34m)\u001b[0m\u001b[0;34m\u001b[0m\u001b[0m\n\u001b[1;32m    300\u001b[0m         \u001b[0;32mif\u001b[0m \u001b[0misinstance\u001b[0m\u001b[0;34m(\u001b[0m\u001b[0mbatch\u001b[0m\u001b[0;34m,\u001b[0m \u001b[0mExceptionWrapper\u001b[0m\u001b[0;34m)\u001b[0m\u001b[0;34m:\u001b[0m\u001b[0;34m\u001b[0m\u001b[0m\n\u001b[0;32m--> 301\u001b[0;31m             \u001b[0;32mraise\u001b[0m \u001b[0mbatch\u001b[0m\u001b[0;34m.\u001b[0m\u001b[0mexc_type\u001b[0m\u001b[0;34m(\u001b[0m\u001b[0mbatch\u001b[0m\u001b[0;34m.\u001b[0m\u001b[0mexc_msg\u001b[0m\u001b[0;34m)\u001b[0m\u001b[0;34m\u001b[0m\u001b[0m\n\u001b[0m\u001b[1;32m    302\u001b[0m         \u001b[0;32mreturn\u001b[0m \u001b[0mbatch\u001b[0m\u001b[0;34m\u001b[0m\u001b[0m\n\u001b[1;32m    303\u001b[0m \u001b[0;34m\u001b[0m\u001b[0m\n",
      "\u001b[0;31mFileNotFoundError\u001b[0m: Traceback (most recent call last):\n  File \"/home/dongwonshin/.conda/envs/pytorch/lib/python3.6/site-packages/torch/utils/data/dataloader.py\", line 55, in _worker_loop\n    samples = collate_fn([dataset[i] for i in batch_indices])\n  File \"/home/dongwonshin/.conda/envs/pytorch/lib/python3.6/site-packages/torch/utils/data/dataloader.py\", line 55, in <listcomp>\n    samples = collate_fn([dataset[i] for i in batch_indices])\n  File \"/home/dongwonshin/Desktop/semantic_segmentation_rgbd/research_notebooks/NYUDv2Loader.py\", line 59, in __getitem__\n    depth_img = np.load(depth_path)\n  File \"/home/dongwonshin/.conda/envs/pytorch/lib/python3.6/site-packages/numpy/lib/npyio.py\", line 370, in load\n    fid = open(file, \"rb\")\nFileNotFoundError: [Errno 2] No such file or directory: '/home/dongwonshin/Desktop/Datasets/NYUDv2/train/depth/nyu_depth_0369.npy'\n"
     ]
    }
   ],
   "source": [
    "best_iou = -100.0 \n",
    "for epoch in range(args.n_epoch):\n",
    "    model.train()\n",
    "    for i, (color_imgs, depth_imgs, label_imgs) in enumerate(trainloader):\n",
    "        images = Variable(color_imgs.cuda())\n",
    "        depth_images = Variable(depth_imgs.cuda())\n",
    "        labels = Variable(label_imgs.cuda())\n",
    "\n",
    "        optimizer.zero_grad()\n",
    "        outputs = model(images,depth_images)\n",
    "\n",
    "        loss = loss_fn(input=outputs, target=labels)\n",
    "\n",
    "        loss.backward()\n",
    "        optimizer.step()\n",
    "\n",
    "        if args.visdom:\n",
    "            vis.line(\n",
    "                X=torch.ones((1, 1)).cpu() * i,\n",
    "                Y=torch.Tensor([loss.data[0]]).unsqueeze(0).cpu(),\n",
    "                win=loss_window,\n",
    "                update='append')\n",
    "\n",
    "        if (i+1) % 20 == 0:\n",
    "            print(\"Epoch [%d/%d] Loss: %.4f\" % (epoch+1, args.n_epoch, loss.data[0]))\n",
    "\n",
    "    model.eval()\n",
    "    for i_val, (color_images_val, depth_images_val, label_images_val) in tqdm(enumerate(valloader)):\n",
    "        color_images_val = Variable(color_images_val.cuda(), volatile=True)\n",
    "        depth_images_val = Variable(depth_images_val.cuda(), volatile=True)\n",
    "        label_images_val = Variable(label_images_val.cuda(), volatile=True)\n",
    "\n",
    "        outputs = model(color_images_val, depth_images_val)\n",
    "        pred = outputs.data.max(1)[1].cpu().numpy()\n",
    "        gt = label_images_val.data.cpu().numpy()\n",
    "        running_metrics.update(gt, pred)\n",
    "\n",
    "    score, class_iou = running_metrics.get_scores()\n",
    "    for k, v in score.items():\n",
    "        print(k, v)\n",
    "    running_metrics.reset()\n",
    "\n",
    "    if score['Mean IoU : \\t'] >= best_iou:\n",
    "        best_iou = score['Mean IoU : \\t']\n",
    "        state = {'epoch': epoch+1,\n",
    "                 'model_state': model.state_dict(),\n",
    "                 'optimizer_state' : optimizer.state_dict(),}\n",
    "        torch.save(state, \"../model_weights/{}_{}_best_model.pkl\".format(args.arch, 'NYUDv2'))"
   ]
  },
  {
   "cell_type": "markdown",
   "metadata": {},
   "source": [
    "# Training.. fcn8s_rgbd_maskedconv on NYUDv2"
   ]
  },
  {
   "cell_type": "markdown",
   "metadata": {},
   "source": [
    "학습시키다가.. 도중에 npy를 png로 바꿔서.. 중단됨 \n",
    "근데 어차피.. 잘 학습 되지 않았던거 같아서..\n",
    "멈춰도됨..\n",
    "뎁스영상 png로 했으니.. 다시 학습시켜볼까..\n",
    "\n",
    "HHA 영상도 만들어야하는데.."
   ]
  },
  {
   "cell_type": "code",
   "execution_count": null,
   "metadata": {},
   "outputs": [],
   "source": []
  }
 ],
 "metadata": {
  "kernelspec": {
   "display_name": "Python [conda env:pytorch]",
   "language": "python",
   "name": "conda-env-pytorch-py"
  },
  "language_info": {
   "codemirror_mode": {
    "name": "ipython",
    "version": 3
   },
   "file_extension": ".py",
   "mimetype": "text/x-python",
   "name": "python",
   "nbconvert_exporter": "python",
   "pygments_lexer": "ipython3",
   "version": "3.6.3"
  }
 },
 "nbformat": 4,
 "nbformat_minor": 2
}
