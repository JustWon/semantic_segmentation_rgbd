{
 "cells": [
  {
   "cell_type": "markdown",
   "metadata": {},
   "source": [
    "## 2018년 05월 21일 21시 59분 15초에 추가 ##\n",
    "- Training FCN_RGB on SUNRGBD"
   ]
  },
  {
   "cell_type": "code",
   "execution_count": 1,
   "metadata": {},
   "outputs": [
    {
     "name": "stderr",
     "output_type": "stream",
     "text": [
      "/home/dongwonshin/.conda/envs/pytorch/lib/python3.6/site-packages/torch/nn/functional.py:1462: UserWarning: nn.functional.upsample_bilinear is deprecated. Use nn.functional.upsample instead.\n",
      "  warnings.warn(\"nn.functional.upsample_bilinear is deprecated. Use nn.functional.upsample instead.\")\n"
     ]
    },
    {
     "name": "stdout",
     "output_type": "stream",
     "text": [
      "Epoch [1/50] Loss: 2.1827\n",
      "Epoch [1/50] Loss: 2.6304\n",
      "Epoch [1/50] Loss: 2.5022\n",
      "Epoch [1/50] Loss: 1.8793\n",
      "Epoch [1/50] Loss: 2.1657\n",
      "Epoch [1/50] Loss: 1.9942\n",
      "Epoch [1/50] Loss: 2.0034\n",
      "Epoch [1/50] Loss: 2.1503\n",
      "Epoch [1/50] Loss: 1.9104\n",
      "Epoch [1/50] Loss: 1.8750\n"
     ]
    },
    {
     "name": "stderr",
     "output_type": "stream",
     "text": [
      "1010it [04:22,  3.85it/s]\n"
     ]
    },
    {
     "name": "stdout",
     "output_type": "stream",
     "text": [
      "Overall Acc: \t 0.483604749626\n",
      "Mean Acc : \t 0.0825379427911\n",
      "FreqW Acc : \t 0.292019286751\n",
      "Mean IoU : \t 0.0534692725849\n",
      "Epoch [2/50] Loss: 2.1078\n",
      "Epoch [2/50] Loss: 1.7269\n",
      "Epoch [2/50] Loss: 1.9677\n",
      "Epoch [2/50] Loss: 2.2963\n",
      "Epoch [2/50] Loss: 1.3068\n",
      "Epoch [2/50] Loss: 1.8803\n",
      "Epoch [2/50] Loss: 1.7126\n",
      "Epoch [2/50] Loss: 1.8067\n",
      "Epoch [2/50] Loss: 2.0364\n",
      "Epoch [2/50] Loss: 2.0532\n"
     ]
    },
    {
     "name": "stderr",
     "output_type": "stream",
     "text": [
      "1010it [04:24,  3.82it/s]\n"
     ]
    },
    {
     "name": "stdout",
     "output_type": "stream",
     "text": [
      "Overall Acc: \t 0.514752379158\n",
      "Mean Acc : \t 0.100160081169\n",
      "FreqW Acc : \t 0.326030728199\n",
      "Mean IoU : \t 0.069456651997\n",
      "Epoch [3/50] Loss: 1.5902\n",
      "Epoch [3/50] Loss: 1.8192\n",
      "Epoch [3/50] Loss: 1.5402\n",
      "Epoch [3/50] Loss: 1.9837\n",
      "Epoch [3/50] Loss: 1.2153\n",
      "Epoch [3/50] Loss: 1.5679\n",
      "Epoch [3/50] Loss: 1.4555\n",
      "Epoch [3/50] Loss: 1.8444\n",
      "Epoch [3/50] Loss: 1.7432\n",
      "Epoch [3/50] Loss: 1.4640\n"
     ]
    },
    {
     "name": "stderr",
     "output_type": "stream",
     "text": [
      "1010it [04:24,  3.82it/s]\n"
     ]
    },
    {
     "name": "stdout",
     "output_type": "stream",
     "text": [
      "Overall Acc: \t 0.531742444874\n",
      "Mean Acc : \t 0.121694963453\n",
      "FreqW Acc : \t 0.346002587565\n",
      "Mean IoU : \t 0.0859500960734\n",
      "Epoch [4/50] Loss: 1.5657\n",
      "Epoch [4/50] Loss: 1.6042\n",
      "Epoch [4/50] Loss: 1.6754\n",
      "Epoch [4/50] Loss: 1.2492\n",
      "Epoch [4/50] Loss: 1.6750\n",
      "Epoch [4/50] Loss: 1.5824\n",
      "Epoch [4/50] Loss: 1.5845\n",
      "Epoch [4/50] Loss: 1.1768\n",
      "Epoch [4/50] Loss: 1.3205\n",
      "Epoch [4/50] Loss: 1.3347\n"
     ]
    },
    {
     "name": "stderr",
     "output_type": "stream",
     "text": [
      "1010it [04:24,  3.82it/s]\n"
     ]
    },
    {
     "name": "stdout",
     "output_type": "stream",
     "text": [
      "Overall Acc: \t 0.539080679265\n",
      "Mean Acc : \t 0.128236129744\n",
      "FreqW Acc : \t 0.353064750208\n",
      "Mean IoU : \t 0.092403742315\n",
      "Epoch [5/50] Loss: 1.5823\n",
      "Epoch [5/50] Loss: 1.4734\n",
      "Epoch [5/50] Loss: 1.3555\n",
      "Epoch [5/50] Loss: 1.6443\n",
      "Epoch [5/50] Loss: 1.4507\n",
      "Epoch [5/50] Loss: 1.4625\n",
      "Epoch [5/50] Loss: 1.5530\n",
      "Epoch [5/50] Loss: 1.5479\n",
      "Epoch [5/50] Loss: 1.6251\n",
      "Epoch [5/50] Loss: 1.4825\n"
     ]
    },
    {
     "name": "stderr",
     "output_type": "stream",
     "text": [
      "1010it [04:22,  3.84it/s]\n"
     ]
    },
    {
     "name": "stdout",
     "output_type": "stream",
     "text": [
      "Overall Acc: \t 0.545871302382\n",
      "Mean Acc : \t 0.14444031224\n",
      "FreqW Acc : \t 0.365685456124\n",
      "Mean IoU : \t 0.103707503644\n",
      "Epoch [6/50] Loss: 1.7121\n",
      "Epoch [6/50] Loss: 1.7360\n",
      "Epoch [6/50] Loss: 1.5186\n",
      "Epoch [6/50] Loss: 1.1900\n",
      "Epoch [6/50] Loss: 1.2942\n",
      "Epoch [6/50] Loss: 1.2022\n",
      "Epoch [6/50] Loss: 1.4149\n",
      "Epoch [6/50] Loss: 1.6824\n",
      "Epoch [6/50] Loss: 1.4717\n",
      "Epoch [6/50] Loss: 1.5024\n"
     ]
    },
    {
     "name": "stderr",
     "output_type": "stream",
     "text": [
      "1010it [04:25,  3.81it/s]\n"
     ]
    },
    {
     "name": "stdout",
     "output_type": "stream",
     "text": [
      "Overall Acc: \t 0.553205810918\n",
      "Mean Acc : \t 0.153576680362\n",
      "FreqW Acc : \t 0.373726782445\n",
      "Mean IoU : \t 0.111630623201\n",
      "Epoch [7/50] Loss: 1.4933\n",
      "Epoch [7/50] Loss: 1.3903\n",
      "Epoch [7/50] Loss: 1.6265\n",
      "Epoch [7/50] Loss: 1.6882\n",
      "Epoch [7/50] Loss: 1.4175\n",
      "Epoch [7/50] Loss: 1.4834\n",
      "Epoch [7/50] Loss: 1.4690\n",
      "Epoch [7/50] Loss: 1.6399\n",
      "Epoch [7/50] Loss: 1.4259\n",
      "Epoch [7/50] Loss: 1.2307\n"
     ]
    },
    {
     "name": "stderr",
     "output_type": "stream",
     "text": [
      "1010it [04:23,  3.84it/s]\n"
     ]
    },
    {
     "name": "stdout",
     "output_type": "stream",
     "text": [
      "Overall Acc: \t 0.558682658643\n",
      "Mean Acc : \t 0.168184578448\n",
      "FreqW Acc : \t 0.379433484589\n",
      "Mean IoU : \t 0.122657926989\n",
      "Epoch [8/50] Loss: 1.6174\n",
      "Epoch [8/50] Loss: 1.7877\n",
      "Epoch [8/50] Loss: 1.6112\n",
      "Epoch [8/50] Loss: 1.6477\n",
      "Epoch [8/50] Loss: 1.0226\n",
      "Epoch [8/50] Loss: 1.3133\n",
      "Epoch [8/50] Loss: 1.0495\n",
      "Epoch [8/50] Loss: 1.3307\n",
      "Epoch [8/50] Loss: 1.4450\n",
      "Epoch [8/50] Loss: 1.6413\n"
     ]
    },
    {
     "name": "stderr",
     "output_type": "stream",
     "text": [
      "1010it [04:25,  3.80it/s]\n"
     ]
    },
    {
     "name": "stdout",
     "output_type": "stream",
     "text": [
      "Overall Acc: \t 0.562506620664\n",
      "Mean Acc : \t 0.181552237197\n",
      "FreqW Acc : \t 0.385481331449\n",
      "Mean IoU : \t 0.129884675887\n",
      "Epoch [9/50] Loss: 1.2921\n",
      "Epoch [9/50] Loss: 1.3272\n",
      "Epoch [9/50] Loss: 1.3650\n",
      "Epoch [9/50] Loss: 1.3581\n",
      "Epoch [9/50] Loss: 1.0124\n",
      "Epoch [9/50] Loss: 1.1398\n",
      "Epoch [9/50] Loss: 1.3131\n",
      "Epoch [9/50] Loss: 1.1493\n",
      "Epoch [9/50] Loss: 1.2754\n",
      "Epoch [9/50] Loss: 1.5644\n"
     ]
    },
    {
     "name": "stderr",
     "output_type": "stream",
     "text": [
      "1010it [04:24,  3.82it/s]\n"
     ]
    },
    {
     "name": "stdout",
     "output_type": "stream",
     "text": [
      "Overall Acc: \t 0.566004030295\n",
      "Mean Acc : \t 0.17949643363\n",
      "FreqW Acc : \t 0.387316271202\n",
      "Mean IoU : \t 0.132355261347\n",
      "Epoch [10/50] Loss: 1.0810\n",
      "Epoch [10/50] Loss: 1.6230\n",
      "Epoch [10/50] Loss: 1.0920\n",
      "Epoch [10/50] Loss: 1.7560\n",
      "Epoch [10/50] Loss: 1.8088\n",
      "Epoch [10/50] Loss: 1.6683\n",
      "Epoch [10/50] Loss: 1.2873\n",
      "Epoch [10/50] Loss: 1.5485\n",
      "Epoch [10/50] Loss: 1.4387\n",
      "Epoch [10/50] Loss: 1.3675\n"
     ]
    },
    {
     "name": "stderr",
     "output_type": "stream",
     "text": [
      "1010it [04:24,  3.82it/s]\n"
     ]
    },
    {
     "name": "stdout",
     "output_type": "stream",
     "text": [
      "Overall Acc: \t 0.570612224806\n",
      "Mean Acc : \t 0.201200061856\n",
      "FreqW Acc : \t 0.39642351323\n",
      "Mean IoU : \t 0.144223676733\n",
      "Epoch [11/50] Loss: 1.5897\n",
      "Epoch [11/50] Loss: 1.6065\n",
      "Epoch [11/50] Loss: 1.2064\n",
      "Epoch [11/50] Loss: 1.1381\n",
      "Epoch [11/50] Loss: 1.3496\n",
      "Epoch [11/50] Loss: 1.4218\n",
      "Epoch [11/50] Loss: 1.4426\n",
      "Epoch [11/50] Loss: 1.1933\n",
      "Epoch [11/50] Loss: 1.5483\n",
      "Epoch [11/50] Loss: 1.5335\n"
     ]
    },
    {
     "name": "stderr",
     "output_type": "stream",
     "text": [
      "1010it [04:23,  3.84it/s]\n"
     ]
    },
    {
     "name": "stdout",
     "output_type": "stream",
     "text": [
      "Overall Acc: \t 0.57324369164\n",
      "Mean Acc : \t 0.197692069547\n",
      "FreqW Acc : \t 0.399647460552\n",
      "Mean IoU : \t 0.146286629977\n",
      "Epoch [12/50] Loss: 1.6445\n",
      "Epoch [12/50] Loss: 0.9565\n",
      "Epoch [12/50] Loss: 0.9068\n",
      "Epoch [12/50] Loss: 1.2572\n",
      "Epoch [12/50] Loss: 1.3479\n",
      "Epoch [12/50] Loss: 1.4829\n",
      "Epoch [12/50] Loss: 1.2785\n",
      "Epoch [12/50] Loss: 1.3805\n",
      "Epoch [12/50] Loss: 1.2255\n",
      "Epoch [12/50] Loss: 1.3592\n"
     ]
    },
    {
     "name": "stderr",
     "output_type": "stream",
     "text": [
      "1010it [04:26,  3.79it/s]\n"
     ]
    },
    {
     "name": "stdout",
     "output_type": "stream",
     "text": [
      "Overall Acc: \t 0.574545755631\n",
      "Mean Acc : \t 0.204109855986\n",
      "FreqW Acc : \t 0.398636412948\n",
      "Mean IoU : \t 0.14998918502\n",
      "Epoch [13/50] Loss: 1.2712\n",
      "Epoch [13/50] Loss: 1.2464\n",
      "Epoch [13/50] Loss: 1.3633\n",
      "Epoch [13/50] Loss: 1.5344\n",
      "Epoch [13/50] Loss: 1.5152\n",
      "Epoch [13/50] Loss: 1.3842\n",
      "Epoch [13/50] Loss: 1.6289\n",
      "Epoch [13/50] Loss: 1.1758\n",
      "Epoch [13/50] Loss: 1.3471\n",
      "Epoch [13/50] Loss: 1.2108\n"
     ]
    },
    {
     "name": "stderr",
     "output_type": "stream",
     "text": [
      "1010it [04:23,  3.83it/s]\n"
     ]
    },
    {
     "name": "stdout",
     "output_type": "stream",
     "text": [
      "Overall Acc: \t 0.575202877684\n",
      "Mean Acc : \t 0.208913968592\n",
      "FreqW Acc : \t 0.403134578214\n",
      "Mean IoU : \t 0.154306876767\n",
      "Epoch [14/50] Loss: 1.2299\n",
      "Epoch [14/50] Loss: 1.0944\n",
      "Epoch [14/50] Loss: 1.3873\n",
      "Epoch [14/50] Loss: 1.1292\n",
      "Epoch [14/50] Loss: 1.4939\n",
      "Epoch [14/50] Loss: 1.6804\n",
      "Epoch [14/50] Loss: 1.5800\n",
      "Epoch [14/50] Loss: 1.4725\n",
      "Epoch [14/50] Loss: 0.9819\n",
      "Epoch [14/50] Loss: 1.1683\n"
     ]
    },
    {
     "name": "stderr",
     "output_type": "stream",
     "text": [
      "1010it [04:24,  3.82it/s]\n"
     ]
    },
    {
     "name": "stdout",
     "output_type": "stream",
     "text": [
      "Overall Acc: \t 0.579220120037\n",
      "Mean Acc : \t 0.208110301857\n",
      "FreqW Acc : \t 0.402788788852\n",
      "Mean IoU : \t 0.154764616207\n",
      "Epoch [15/50] Loss: 1.0768\n",
      "Epoch [15/50] Loss: 1.1099\n",
      "Epoch [15/50] Loss: 1.1632\n",
      "Epoch [15/50] Loss: 0.9627\n",
      "Epoch [15/50] Loss: 1.2396\n",
      "Epoch [15/50] Loss: 1.1291\n",
      "Epoch [15/50] Loss: 1.2667\n",
      "Epoch [15/50] Loss: 1.2308\n",
      "Epoch [15/50] Loss: 1.0809\n",
      "Epoch [15/50] Loss: 1.2639\n"
     ]
    },
    {
     "name": "stderr",
     "output_type": "stream",
     "text": [
      "1010it [04:24,  3.82it/s]\n"
     ]
    },
    {
     "name": "stdout",
     "output_type": "stream",
     "text": [
      "Overall Acc: \t 0.580660715741\n",
      "Mean Acc : \t 0.220644998101\n",
      "FreqW Acc : \t 0.407506681215\n",
      "Mean IoU : \t 0.159772748311\n",
      "Epoch [16/50] Loss: 1.2792\n",
      "Epoch [16/50] Loss: 1.4016\n",
      "Epoch [16/50] Loss: 1.4235\n",
      "Epoch [16/50] Loss: 1.4912\n",
      "Epoch [16/50] Loss: 1.5959\n",
      "Epoch [16/50] Loss: 1.1712\n",
      "Epoch [16/50] Loss: 1.3813\n",
      "Epoch [16/50] Loss: 1.1586\n",
      "Epoch [16/50] Loss: 0.8561\n",
      "Epoch [16/50] Loss: 1.1883\n"
     ]
    },
    {
     "name": "stderr",
     "output_type": "stream",
     "text": [
      "1010it [04:25,  3.80it/s]\n"
     ]
    },
    {
     "name": "stdout",
     "output_type": "stream",
     "text": [
      "Overall Acc: \t 0.582834814521\n",
      "Mean Acc : \t 0.220026100648\n",
      "FreqW Acc : \t 0.410736176117\n",
      "Mean IoU : \t 0.16206678913\n",
      "Epoch [17/50] Loss: 1.1595\n",
      "Epoch [17/50] Loss: 1.6138\n",
      "Epoch [17/50] Loss: 1.0017\n",
      "Epoch [17/50] Loss: 1.2165\n",
      "Epoch [17/50] Loss: 1.3215\n",
      "Epoch [17/50] Loss: 1.2718\n",
      "Epoch [17/50] Loss: 1.2551\n",
      "Epoch [17/50] Loss: 0.9635\n",
      "Epoch [17/50] Loss: 1.0073\n",
      "Epoch [17/50] Loss: 1.3042\n"
     ]
    },
    {
     "name": "stderr",
     "output_type": "stream",
     "text": [
      "1010it [04:23,  3.84it/s]\n"
     ]
    },
    {
     "name": "stdout",
     "output_type": "stream",
     "text": [
      "Overall Acc: \t 0.581241166\n",
      "Mean Acc : \t 0.22211445139\n",
      "FreqW Acc : \t 0.408377793423\n",
      "Mean IoU : \t 0.163142837584\n",
      "Epoch [18/50] Loss: 1.1276\n",
      "Epoch [18/50] Loss: 1.2892\n",
      "Epoch [18/50] Loss: 1.2027\n",
      "Epoch [18/50] Loss: 0.7950\n",
      "Epoch [18/50] Loss: 0.9070\n",
      "Epoch [18/50] Loss: 1.4579\n",
      "Epoch [18/50] Loss: 1.2079\n",
      "Epoch [18/50] Loss: 0.9751\n",
      "Epoch [18/50] Loss: 1.5430\n",
      "Epoch [18/50] Loss: 1.3378\n"
     ]
    },
    {
     "name": "stderr",
     "output_type": "stream",
     "text": [
      "1010it [04:24,  3.82it/s]\n"
     ]
    },
    {
     "name": "stdout",
     "output_type": "stream",
     "text": [
      "Overall Acc: \t 0.584153173896\n",
      "Mean Acc : \t 0.228721216964\n",
      "FreqW Acc : \t 0.414703728777\n",
      "Mean IoU : \t 0.168453882358\n",
      "Epoch [19/50] Loss: 1.1903\n",
      "Epoch [19/50] Loss: 1.5313\n",
      "Epoch [19/50] Loss: 1.6422\n",
      "Epoch [19/50] Loss: 1.0771\n",
      "Epoch [19/50] Loss: 1.3568\n",
      "Epoch [19/50] Loss: 1.0523\n",
      "Epoch [19/50] Loss: 1.3973\n",
      "Epoch [19/50] Loss: 1.1860\n",
      "Epoch [19/50] Loss: 1.7188\n",
      "Epoch [19/50] Loss: 1.1532\n"
     ]
    },
    {
     "name": "stderr",
     "output_type": "stream",
     "text": [
      "1010it [04:23,  3.83it/s]\n"
     ]
    },
    {
     "name": "stdout",
     "output_type": "stream",
     "text": [
      "Overall Acc: \t 0.584255046637\n",
      "Mean Acc : \t 0.23710463172\n",
      "FreqW Acc : \t 0.413735841308\n",
      "Mean IoU : \t 0.171476036088\n",
      "Epoch [20/50] Loss: 0.9714\n",
      "Epoch [20/50] Loss: 1.2142\n",
      "Epoch [20/50] Loss: 1.0407\n",
      "Epoch [20/50] Loss: 1.2082\n",
      "Epoch [20/50] Loss: 1.1154\n",
      "Epoch [20/50] Loss: 1.6990\n",
      "Epoch [20/50] Loss: 0.8692\n",
      "Epoch [20/50] Loss: 1.2672\n",
      "Epoch [20/50] Loss: 1.0748\n",
      "Epoch [20/50] Loss: 1.2342\n"
     ]
    },
    {
     "name": "stderr",
     "output_type": "stream",
     "text": [
      "1010it [04:24,  3.82it/s]\n"
     ]
    },
    {
     "name": "stdout",
     "output_type": "stream",
     "text": [
      "Overall Acc: \t 0.585561902212\n",
      "Mean Acc : \t 0.2473810868\n",
      "FreqW Acc : \t 0.415686054413\n",
      "Mean IoU : \t 0.177832794173\n",
      "Epoch [21/50] Loss: 1.2430\n",
      "Epoch [21/50] Loss: 1.3763\n",
      "Epoch [21/50] Loss: 1.1114\n",
      "Epoch [21/50] Loss: 1.2876\n",
      "Epoch [21/50] Loss: 1.1530\n",
      "Epoch [21/50] Loss: 1.0135\n",
      "Epoch [21/50] Loss: 1.0883\n",
      "Epoch [21/50] Loss: 1.7736\n",
      "Epoch [21/50] Loss: 0.9907\n",
      "Epoch [21/50] Loss: 0.9905\n"
     ]
    },
    {
     "name": "stderr",
     "output_type": "stream",
     "text": [
      "1010it [04:23,  3.83it/s]"
     ]
    },
    {
     "name": "stdout",
     "output_type": "stream",
     "text": [
      "Overall Acc: \t 0.588322977142\n",
      "Mean Acc : \t 0.232538865481\n",
      "FreqW Acc : \t 0.41470375584\n",
      "Mean IoU : \t 0.171661785838\n"
     ]
    },
    {
     "name": "stderr",
     "output_type": "stream",
     "text": [
      "\n"
     ]
    },
    {
     "name": "stdout",
     "output_type": "stream",
     "text": [
      "Epoch [22/50] Loss: 1.4014\n",
      "Epoch [22/50] Loss: 0.9736\n",
      "Epoch [22/50] Loss: 1.0293\n",
      "Epoch [22/50] Loss: 1.0351\n",
      "Epoch [22/50] Loss: 1.2644\n",
      "Epoch [22/50] Loss: 1.1687\n",
      "Epoch [22/50] Loss: 1.0145\n",
      "Epoch [22/50] Loss: 1.1186\n",
      "Epoch [22/50] Loss: 1.3929\n",
      "Epoch [22/50] Loss: 1.3541\n"
     ]
    },
    {
     "name": "stderr",
     "output_type": "stream",
     "text": [
      "1010it [04:23,  3.83it/s]\n"
     ]
    },
    {
     "name": "stdout",
     "output_type": "stream",
     "text": [
      "Overall Acc: \t 0.58817932955\n",
      "Mean Acc : \t 0.234113243\n",
      "FreqW Acc : \t 0.41354893012\n",
      "Mean IoU : \t 0.173038561786\n",
      "Epoch [23/50] Loss: 1.0630\n",
      "Epoch [23/50] Loss: 1.0987\n",
      "Epoch [23/50] Loss: 0.9907\n",
      "Epoch [23/50] Loss: 1.0202\n",
      "Epoch [23/50] Loss: 1.3768\n",
      "Epoch [23/50] Loss: 1.2258\n",
      "Epoch [23/50] Loss: 1.1950\n",
      "Epoch [23/50] Loss: 1.0589\n",
      "Epoch [23/50] Loss: 0.9676\n",
      "Epoch [23/50] Loss: 1.0082\n"
     ]
    },
    {
     "name": "stderr",
     "output_type": "stream",
     "text": [
      "1010it [04:23,  3.84it/s]\n"
     ]
    },
    {
     "name": "stdout",
     "output_type": "stream",
     "text": [
      "Overall Acc: \t 0.587152762304\n",
      "Mean Acc : \t 0.251054057862\n",
      "FreqW Acc : \t 0.417452401511\n",
      "Mean IoU : \t 0.181668157735\n",
      "Epoch [24/50] Loss: 0.9353\n",
      "Epoch [24/50] Loss: 1.3265\n",
      "Epoch [24/50] Loss: 0.9103\n",
      "Epoch [24/50] Loss: 1.0108\n",
      "Epoch [24/50] Loss: 0.9935\n",
      "Epoch [24/50] Loss: 1.2372\n",
      "Epoch [24/50] Loss: 1.4080\n",
      "Epoch [24/50] Loss: 0.9498\n",
      "Epoch [24/50] Loss: 0.9862\n",
      "Epoch [24/50] Loss: 0.9277\n"
     ]
    },
    {
     "name": "stderr",
     "output_type": "stream",
     "text": [
      "1010it [04:24,  3.83it/s]\n"
     ]
    },
    {
     "name": "stdout",
     "output_type": "stream",
     "text": [
      "Overall Acc: \t 0.588616213452\n",
      "Mean Acc : \t 0.248986319904\n",
      "FreqW Acc : \t 0.418409606095\n",
      "Mean IoU : \t 0.180807059561\n",
      "Epoch [25/50] Loss: 1.0388\n",
      "Epoch [25/50] Loss: 1.0111\n",
      "Epoch [25/50] Loss: 1.0864\n",
      "Epoch [25/50] Loss: 1.1623\n",
      "Epoch [25/50] Loss: 1.3620\n",
      "Epoch [25/50] Loss: 0.8686\n",
      "Epoch [25/50] Loss: 1.1170\n",
      "Epoch [25/50] Loss: 0.8470\n",
      "Epoch [25/50] Loss: 1.0866\n",
      "Epoch [25/50] Loss: 1.0681\n"
     ]
    },
    {
     "name": "stderr",
     "output_type": "stream",
     "text": [
      "1010it [04:24,  3.82it/s]\n"
     ]
    },
    {
     "name": "stdout",
     "output_type": "stream",
     "text": [
      "Overall Acc: \t 0.589007954468\n",
      "Mean Acc : \t 0.24789937141\n",
      "FreqW Acc : \t 0.421857114111\n",
      "Mean IoU : \t 0.182695792627\n",
      "Epoch [26/50] Loss: 1.3725\n",
      "Epoch [26/50] Loss: 0.9232\n",
      "Epoch [26/50] Loss: 1.3721\n",
      "Epoch [26/50] Loss: 1.2392\n",
      "Epoch [26/50] Loss: 0.9146\n",
      "Epoch [26/50] Loss: 1.5136\n",
      "Epoch [26/50] Loss: 0.8849\n",
      "Epoch [26/50] Loss: 0.9842\n",
      "Epoch [26/50] Loss: 1.2378\n",
      "Epoch [26/50] Loss: 1.4582\n"
     ]
    },
    {
     "name": "stderr",
     "output_type": "stream",
     "text": [
      "1010it [04:23,  3.83it/s]\n"
     ]
    },
    {
     "name": "stdout",
     "output_type": "stream",
     "text": [
      "Overall Acc: \t 0.590061031449\n",
      "Mean Acc : \t 0.253329254734\n",
      "FreqW Acc : \t 0.420009643477\n",
      "Mean IoU : \t 0.183795589049\n",
      "Epoch [27/50] Loss: 1.2104\n",
      "Epoch [27/50] Loss: 1.2300\n",
      "Epoch [27/50] Loss: 1.1783\n",
      "Epoch [27/50] Loss: 1.1109\n",
      "Epoch [27/50] Loss: 0.9889\n",
      "Epoch [27/50] Loss: 1.0606\n",
      "Epoch [27/50] Loss: 1.1035\n",
      "Epoch [27/50] Loss: 1.0798\n",
      "Epoch [27/50] Loss: 0.9527\n",
      "Epoch [27/50] Loss: 1.0473\n"
     ]
    },
    {
     "name": "stderr",
     "output_type": "stream",
     "text": [
      "1010it [04:24,  3.82it/s]\n"
     ]
    },
    {
     "name": "stdout",
     "output_type": "stream",
     "text": [
      "Overall Acc: \t 0.593100822229\n",
      "Mean Acc : \t 0.251120054146\n",
      "FreqW Acc : \t 0.424205635225\n",
      "Mean IoU : \t 0.185671512078\n",
      "Epoch [28/50] Loss: 1.5348\n",
      "Epoch [28/50] Loss: 0.9486\n",
      "Epoch [28/50] Loss: 0.9954\n",
      "Epoch [28/50] Loss: 0.7923\n",
      "Epoch [28/50] Loss: 0.8204\n",
      "Epoch [28/50] Loss: 1.2208\n",
      "Epoch [28/50] Loss: 0.8955\n",
      "Epoch [28/50] Loss: 1.2751\n",
      "Epoch [28/50] Loss: 1.0915\n",
      "Epoch [28/50] Loss: 0.9433\n"
     ]
    },
    {
     "name": "stderr",
     "output_type": "stream",
     "text": [
      "1010it [04:25,  3.81it/s]"
     ]
    },
    {
     "name": "stdout",
     "output_type": "stream",
     "text": [
      "Overall Acc: \t 0.590370750757\n",
      "Mean Acc : \t 0.252663710797\n",
      "FreqW Acc : \t 0.418132254534\n",
      "Mean IoU : \t 0.183808942558\n"
     ]
    },
    {
     "name": "stderr",
     "output_type": "stream",
     "text": [
      "\n"
     ]
    },
    {
     "name": "stdout",
     "output_type": "stream",
     "text": [
      "Epoch [29/50] Loss: 1.2036\n",
      "Epoch [29/50] Loss: 0.8831\n",
      "Epoch [29/50] Loss: 1.1398\n",
      "Epoch [29/50] Loss: 1.3526\n",
      "Epoch [29/50] Loss: 1.0758\n",
      "Epoch [29/50] Loss: 1.1599\n",
      "Epoch [29/50] Loss: 1.2213\n",
      "Epoch [29/50] Loss: 0.9161\n",
      "Epoch [29/50] Loss: 1.0527\n",
      "Epoch [29/50] Loss: 1.1233\n"
     ]
    },
    {
     "name": "stderr",
     "output_type": "stream",
     "text": [
      "1010it [04:23,  3.84it/s]\n"
     ]
    },
    {
     "name": "stdout",
     "output_type": "stream",
     "text": [
      "Overall Acc: \t 0.59258291465\n",
      "Mean Acc : \t 0.252196803553\n",
      "FreqW Acc : \t 0.42362565341\n",
      "Mean IoU : \t 0.185884494729\n",
      "Epoch [30/50] Loss: 0.7194\n",
      "Epoch [30/50] Loss: 1.0422\n",
      "Epoch [30/50] Loss: 0.9386\n",
      "Epoch [30/50] Loss: 1.2570\n",
      "Epoch [30/50] Loss: 1.1789\n",
      "Epoch [30/50] Loss: 1.3713\n",
      "Epoch [30/50] Loss: 0.9281\n",
      "Epoch [30/50] Loss: 0.9127\n",
      "Epoch [30/50] Loss: 0.8783\n",
      "Epoch [30/50] Loss: 1.2315\n"
     ]
    },
    {
     "name": "stderr",
     "output_type": "stream",
     "text": [
      "1010it [04:22,  3.84it/s]\n"
     ]
    },
    {
     "name": "stdout",
     "output_type": "stream",
     "text": [
      "Overall Acc: \t 0.59267736598\n",
      "Mean Acc : \t 0.256265907144\n",
      "FreqW Acc : \t 0.421487408405\n",
      "Mean IoU : \t 0.187654339208\n",
      "Epoch [31/50] Loss: 1.1382\n",
      "Epoch [31/50] Loss: 0.7445\n",
      "Epoch [31/50] Loss: 1.1282\n",
      "Epoch [31/50] Loss: 1.1364\n",
      "Epoch [31/50] Loss: 1.2142\n",
      "Epoch [31/50] Loss: 1.0764\n",
      "Epoch [31/50] Loss: 1.1263\n",
      "Epoch [31/50] Loss: 1.2675\n",
      "Epoch [31/50] Loss: 0.9896\n",
      "Epoch [31/50] Loss: 1.0384\n"
     ]
    },
    {
     "name": "stderr",
     "output_type": "stream",
     "text": [
      "1010it [04:25,  3.81it/s]\n"
     ]
    },
    {
     "name": "stdout",
     "output_type": "stream",
     "text": [
      "Overall Acc: \t 0.592949414101\n",
      "Mean Acc : \t 0.265940365578\n",
      "FreqW Acc : \t 0.424335601289\n",
      "Mean IoU : \t 0.192517642203\n",
      "Epoch [32/50] Loss: 0.8545\n",
      "Epoch [32/50] Loss: 0.9244\n",
      "Epoch [32/50] Loss: 1.0893\n",
      "Epoch [32/50] Loss: 1.0743\n",
      "Epoch [32/50] Loss: 1.4268\n",
      "Epoch [32/50] Loss: 1.0336\n",
      "Epoch [32/50] Loss: 0.6829\n",
      "Epoch [32/50] Loss: 1.2174\n",
      "Epoch [32/50] Loss: 0.8616\n",
      "Epoch [32/50] Loss: 1.0057\n"
     ]
    },
    {
     "name": "stderr",
     "output_type": "stream",
     "text": [
      "1010it [04:23,  3.83it/s]\n"
     ]
    },
    {
     "name": "stdout",
     "output_type": "stream",
     "text": [
      "Overall Acc: \t 0.591535292673\n",
      "Mean Acc : \t 0.261121043019\n",
      "FreqW Acc : \t 0.422174597386\n",
      "Mean IoU : \t 0.191175619785\n",
      "Epoch [33/50] Loss: 1.2093\n",
      "Epoch [33/50] Loss: 0.9072\n",
      "Epoch [33/50] Loss: 0.9611\n",
      "Epoch [33/50] Loss: 1.0093\n",
      "Epoch [33/50] Loss: 1.1169\n",
      "Epoch [33/50] Loss: 1.0766\n",
      "Epoch [33/50] Loss: 0.9413\n",
      "Epoch [33/50] Loss: 0.8971\n",
      "Epoch [33/50] Loss: 0.9201\n",
      "Epoch [33/50] Loss: 1.1104\n"
     ]
    },
    {
     "name": "stderr",
     "output_type": "stream",
     "text": [
      "1010it [04:22,  3.84it/s]\n"
     ]
    },
    {
     "name": "stdout",
     "output_type": "stream",
     "text": [
      "Overall Acc: \t 0.592557490628\n",
      "Mean Acc : \t 0.263104533142\n",
      "FreqW Acc : \t 0.422834575023\n",
      "Mean IoU : \t 0.192588756894\n",
      "Epoch [34/50] Loss: 1.0885\n",
      "Epoch [34/50] Loss: 0.9174\n",
      "Epoch [34/50] Loss: 1.0618\n",
      "Epoch [34/50] Loss: 0.7415\n",
      "Epoch [34/50] Loss: 1.1873\n",
      "Epoch [34/50] Loss: 0.8777\n",
      "Epoch [34/50] Loss: 1.4534\n",
      "Epoch [34/50] Loss: 1.0287\n",
      "Epoch [34/50] Loss: 1.0256\n",
      "Epoch [34/50] Loss: 0.9178\n"
     ]
    },
    {
     "name": "stderr",
     "output_type": "stream",
     "text": [
      "1010it [04:24,  3.81it/s]\n"
     ]
    },
    {
     "name": "stdout",
     "output_type": "stream",
     "text": [
      "Overall Acc: \t 0.590594449138\n",
      "Mean Acc : \t 0.264122465853\n",
      "FreqW Acc : \t 0.421837689817\n",
      "Mean IoU : \t 0.193458466815\n",
      "Epoch [35/50] Loss: 1.1440\n",
      "Epoch [35/50] Loss: 1.1109\n",
      "Epoch [35/50] Loss: 1.1816\n",
      "Epoch [35/50] Loss: 1.0054\n",
      "Epoch [35/50] Loss: 0.8669\n",
      "Epoch [35/50] Loss: 1.0658\n",
      "Epoch [35/50] Loss: 1.1609\n",
      "Epoch [35/50] Loss: 1.2419\n",
      "Epoch [35/50] Loss: 0.8801\n",
      "Epoch [35/50] Loss: 1.0759\n"
     ]
    },
    {
     "name": "stderr",
     "output_type": "stream",
     "text": [
      "1010it [04:23,  3.83it/s]\n"
     ]
    },
    {
     "name": "stdout",
     "output_type": "stream",
     "text": [
      "Overall Acc: \t 0.592516954935\n",
      "Mean Acc : \t 0.264004456798\n",
      "FreqW Acc : \t 0.426236017692\n",
      "Mean IoU : \t 0.194227953603\n",
      "Epoch [36/50] Loss: 0.9586\n",
      "Epoch [36/50] Loss: 0.7568\n",
      "Epoch [36/50] Loss: 0.9338\n",
      "Epoch [36/50] Loss: 1.3455\n",
      "Epoch [36/50] Loss: 1.1827\n",
      "Epoch [36/50] Loss: 0.9598\n",
      "Epoch [36/50] Loss: 1.1308\n",
      "Epoch [36/50] Loss: 1.0993\n",
      "Epoch [36/50] Loss: 0.8356\n",
      "Epoch [36/50] Loss: 0.8070\n"
     ]
    },
    {
     "name": "stderr",
     "output_type": "stream",
     "text": [
      "1010it [04:23,  3.83it/s]\n"
     ]
    },
    {
     "name": "stdout",
     "output_type": "stream",
     "text": [
      "Overall Acc: \t 0.594010232276\n",
      "Mean Acc : \t 0.265465871232\n",
      "FreqW Acc : \t 0.426044059839\n",
      "Mean IoU : \t 0.195932555408\n",
      "Epoch [37/50] Loss: 1.0421\n",
      "Epoch [37/50] Loss: 0.7763\n",
      "Epoch [37/50] Loss: 0.8398\n",
      "Epoch [37/50] Loss: 0.9603\n",
      "Epoch [37/50] Loss: 1.0185\n",
      "Epoch [37/50] Loss: 0.9750\n",
      "Epoch [37/50] Loss: 1.0389\n",
      "Epoch [37/50] Loss: 1.5173\n",
      "Epoch [37/50] Loss: 0.8889\n",
      "Epoch [37/50] Loss: 1.0866\n"
     ]
    },
    {
     "name": "stderr",
     "output_type": "stream",
     "text": [
      "1010it [04:25,  3.80it/s]"
     ]
    },
    {
     "name": "stdout",
     "output_type": "stream",
     "text": [
      "Overall Acc: \t 0.592618180374\n",
      "Mean Acc : \t 0.267335560272\n",
      "FreqW Acc : \t 0.422932943802\n",
      "Mean IoU : \t 0.195836853142\n"
     ]
    },
    {
     "name": "stderr",
     "output_type": "stream",
     "text": [
      "\n"
     ]
    },
    {
     "name": "stdout",
     "output_type": "stream",
     "text": [
      "Epoch [38/50] Loss: 0.9160\n",
      "Epoch [38/50] Loss: 0.7802\n",
      "Epoch [38/50] Loss: 0.7627\n",
      "Epoch [38/50] Loss: 1.0241\n",
      "Epoch [38/50] Loss: 0.6426\n",
      "Epoch [38/50] Loss: 0.9947\n",
      "Epoch [38/50] Loss: 1.0356\n",
      "Epoch [38/50] Loss: 1.1113\n",
      "Epoch [38/50] Loss: 0.8772\n",
      "Epoch [38/50] Loss: 1.5598\n"
     ]
    },
    {
     "name": "stderr",
     "output_type": "stream",
     "text": [
      "1010it [04:24,  3.83it/s]\n"
     ]
    },
    {
     "name": "stdout",
     "output_type": "stream",
     "text": [
      "Overall Acc: \t 0.592507659314\n",
      "Mean Acc : \t 0.272410866599\n",
      "FreqW Acc : \t 0.423201441221\n",
      "Mean IoU : \t 0.197656777056\n",
      "Epoch [39/50] Loss: 0.8627\n",
      "Epoch [39/50] Loss: 0.8099\n",
      "Epoch [39/50] Loss: 1.0074\n",
      "Epoch [39/50] Loss: 1.3785\n",
      "Epoch [39/50] Loss: 0.7836\n",
      "Epoch [39/50] Loss: 0.9150\n",
      "Epoch [39/50] Loss: 1.1124\n",
      "Epoch [39/50] Loss: 1.0004\n",
      "Epoch [39/50] Loss: 0.9484\n",
      "Epoch [39/50] Loss: 0.6674\n"
     ]
    },
    {
     "name": "stderr",
     "output_type": "stream",
     "text": [
      "1010it [04:24,  3.83it/s]\n"
     ]
    },
    {
     "name": "stdout",
     "output_type": "stream",
     "text": [
      "Overall Acc: \t 0.589094123037\n",
      "Mean Acc : \t 0.281644864187\n",
      "FreqW Acc : \t 0.422750515944\n",
      "Mean IoU : \t 0.202602738396\n",
      "Epoch [40/50] Loss: 1.0230\n",
      "Epoch [40/50] Loss: 0.8231\n",
      "Epoch [40/50] Loss: 0.9326\n",
      "Epoch [40/50] Loss: 0.9481\n",
      "Epoch [40/50] Loss: 0.8043\n",
      "Epoch [40/50] Loss: 0.9298\n",
      "Epoch [40/50] Loss: 0.8570\n",
      "Epoch [40/50] Loss: 1.0198\n",
      "Epoch [40/50] Loss: 1.0806\n",
      "Epoch [40/50] Loss: 0.9616\n"
     ]
    },
    {
     "name": "stderr",
     "output_type": "stream",
     "text": [
      "1010it [04:24,  3.82it/s]"
     ]
    },
    {
     "name": "stdout",
     "output_type": "stream",
     "text": [
      "Overall Acc: \t 0.591432180774\n",
      "Mean Acc : \t 0.274376655636\n",
      "FreqW Acc : \t 0.425027646935\n",
      "Mean IoU : \t 0.200936058509\n"
     ]
    },
    {
     "name": "stderr",
     "output_type": "stream",
     "text": [
      "\n"
     ]
    },
    {
     "name": "stdout",
     "output_type": "stream",
     "text": [
      "Epoch [41/50] Loss: 1.0747\n",
      "Epoch [41/50] Loss: 1.0770\n",
      "Epoch [41/50] Loss: 0.8805\n",
      "Epoch [41/50] Loss: 0.7967\n",
      "Epoch [41/50] Loss: 1.0869\n",
      "Epoch [41/50] Loss: 1.0003\n",
      "Epoch [41/50] Loss: 0.7996\n",
      "Epoch [41/50] Loss: 0.7448\n",
      "Epoch [41/50] Loss: 1.2550\n",
      "Epoch [41/50] Loss: 1.1008\n"
     ]
    },
    {
     "name": "stderr",
     "output_type": "stream",
     "text": [
      "1010it [04:24,  3.82it/s]"
     ]
    },
    {
     "name": "stdout",
     "output_type": "stream",
     "text": [
      "Overall Acc: \t 0.590205812465\n",
      "Mean Acc : \t 0.275367271469\n",
      "FreqW Acc : \t 0.426845924572\n",
      "Mean IoU : \t 0.200702677607\n"
     ]
    },
    {
     "name": "stderr",
     "output_type": "stream",
     "text": [
      "\n"
     ]
    },
    {
     "name": "stdout",
     "output_type": "stream",
     "text": [
      "Epoch [42/50] Loss: 0.9165\n",
      "Epoch [42/50] Loss: 0.8750\n",
      "Epoch [42/50] Loss: 0.8809\n",
      "Epoch [42/50] Loss: 1.1827\n",
      "Epoch [42/50] Loss: 0.7382\n",
      "Epoch [42/50] Loss: 1.2350\n",
      "Epoch [42/50] Loss: 0.8479\n",
      "Epoch [42/50] Loss: 1.1087\n",
      "Epoch [42/50] Loss: 0.6106\n",
      "Epoch [42/50] Loss: 0.9738\n"
     ]
    },
    {
     "name": "stderr",
     "output_type": "stream",
     "text": [
      "1010it [04:22,  3.84it/s]\n"
     ]
    },
    {
     "name": "stdout",
     "output_type": "stream",
     "text": [
      "Overall Acc: \t 0.590028418117\n",
      "Mean Acc : \t 0.269331534396\n",
      "FreqW Acc : \t 0.426239139441\n",
      "Mean IoU : \t 0.198078706591\n",
      "Epoch [43/50] Loss: 1.0780\n",
      "Epoch [43/50] Loss: 0.9338\n",
      "Epoch [43/50] Loss: 1.2199\n",
      "Epoch [43/50] Loss: 0.9098\n",
      "Epoch [43/50] Loss: 0.9738\n",
      "Epoch [43/50] Loss: 0.8664\n",
      "Epoch [43/50] Loss: 1.1417\n",
      "Epoch [43/50] Loss: 0.6300\n",
      "Epoch [43/50] Loss: 0.9029\n",
      "Epoch [43/50] Loss: 1.0088\n"
     ]
    },
    {
     "name": "stderr",
     "output_type": "stream",
     "text": [
      "1010it [04:23,  3.83it/s]\n"
     ]
    },
    {
     "name": "stdout",
     "output_type": "stream",
     "text": [
      "Overall Acc: \t 0.591144545176\n",
      "Mean Acc : \t 0.27497922345\n",
      "FreqW Acc : \t 0.427544022098\n",
      "Mean IoU : \t 0.200826443387\n",
      "Epoch [44/50] Loss: 0.9463\n",
      "Epoch [44/50] Loss: 1.0633\n",
      "Epoch [44/50] Loss: 1.0380\n",
      "Epoch [44/50] Loss: 0.8082\n",
      "Epoch [44/50] Loss: 0.6583\n",
      "Epoch [44/50] Loss: 1.0235\n",
      "Epoch [44/50] Loss: 0.8911\n",
      "Epoch [44/50] Loss: 0.7370\n",
      "Epoch [44/50] Loss: 0.7886\n",
      "Epoch [44/50] Loss: 0.7309\n"
     ]
    },
    {
     "name": "stderr",
     "output_type": "stream",
     "text": [
      "1010it [04:23,  3.83it/s]\n"
     ]
    },
    {
     "name": "stdout",
     "output_type": "stream",
     "text": [
      "Overall Acc: \t 0.589211688345\n",
      "Mean Acc : \t 0.2750545494\n",
      "FreqW Acc : \t 0.4237036343\n",
      "Mean IoU : \t 0.200891834326\n",
      "Epoch [45/50] Loss: 0.6829\n",
      "Epoch [45/50] Loss: 0.7043\n",
      "Epoch [45/50] Loss: 1.1628\n",
      "Epoch [45/50] Loss: 0.8638\n",
      "Epoch [45/50] Loss: 1.0775\n",
      "Epoch [45/50] Loss: 1.1210\n",
      "Epoch [45/50] Loss: 0.7950\n",
      "Epoch [45/50] Loss: 0.7125\n",
      "Epoch [45/50] Loss: 0.9644\n",
      "Epoch [45/50] Loss: 0.9110\n"
     ]
    },
    {
     "name": "stderr",
     "output_type": "stream",
     "text": [
      "1010it [04:24,  3.82it/s]\n"
     ]
    },
    {
     "name": "stdout",
     "output_type": "stream",
     "text": [
      "Overall Acc: \t 0.590621052359\n",
      "Mean Acc : \t 0.268664114367\n",
      "FreqW Acc : \t 0.42315119162\n",
      "Mean IoU : \t 0.199100745501\n",
      "Epoch [46/50] Loss: 0.7788\n",
      "Epoch [46/50] Loss: 1.2200\n",
      "Epoch [46/50] Loss: 0.7716\n",
      "Epoch [46/50] Loss: 1.0586\n",
      "Epoch [46/50] Loss: 0.8329\n",
      "Epoch [46/50] Loss: 0.6127\n",
      "Epoch [46/50] Loss: 0.8722\n",
      "Epoch [46/50] Loss: 1.1379\n",
      "Epoch [46/50] Loss: 0.9172\n",
      "Epoch [46/50] Loss: 0.7180\n"
     ]
    },
    {
     "name": "stderr",
     "output_type": "stream",
     "text": [
      "1010it [04:23,  3.83it/s]"
     ]
    },
    {
     "name": "stdout",
     "output_type": "stream",
     "text": [
      "Overall Acc: \t 0.591749817285\n",
      "Mean Acc : \t 0.26692224753\n",
      "FreqW Acc : \t 0.42576222309\n",
      "Mean IoU : \t 0.198714504625\n"
     ]
    },
    {
     "name": "stderr",
     "output_type": "stream",
     "text": [
      "\n"
     ]
    },
    {
     "name": "stdout",
     "output_type": "stream",
     "text": [
      "Epoch [47/50] Loss: 0.8512\n",
      "Epoch [47/50] Loss: 0.9321\n",
      "Epoch [47/50] Loss: 1.0738\n",
      "Epoch [47/50] Loss: 1.2362\n",
      "Epoch [47/50] Loss: 0.7575\n",
      "Epoch [47/50] Loss: 1.0725\n",
      "Epoch [47/50] Loss: 0.9250\n",
      "Epoch [47/50] Loss: 0.7001\n",
      "Epoch [47/50] Loss: 0.8186\n",
      "Epoch [47/50] Loss: 0.9879\n"
     ]
    },
    {
     "name": "stderr",
     "output_type": "stream",
     "text": [
      "1010it [04:25,  3.81it/s]"
     ]
    },
    {
     "name": "stdout",
     "output_type": "stream",
     "text": [
      "Overall Acc: \t 0.589610757287\n",
      "Mean Acc : \t 0.274664507032\n",
      "FreqW Acc : \t 0.421582289227\n",
      "Mean IoU : \t 0.199483470906\n"
     ]
    },
    {
     "name": "stderr",
     "output_type": "stream",
     "text": [
      "\n"
     ]
    },
    {
     "name": "stdout",
     "output_type": "stream",
     "text": [
      "Epoch [48/50] Loss: 1.1666\n",
      "Epoch [48/50] Loss: 1.0823\n",
      "Epoch [48/50] Loss: 0.7631\n",
      "Epoch [48/50] Loss: 0.7565\n",
      "Epoch [48/50] Loss: 1.0541\n",
      "Epoch [48/50] Loss: 0.7722\n",
      "Epoch [48/50] Loss: 1.1834\n",
      "Epoch [48/50] Loss: 0.9895\n",
      "Epoch [48/50] Loss: 0.9268\n",
      "Epoch [48/50] Loss: 1.0826\n"
     ]
    },
    {
     "name": "stderr",
     "output_type": "stream",
     "text": [
      "1010it [04:21,  3.86it/s]"
     ]
    },
    {
     "name": "stdout",
     "output_type": "stream",
     "text": [
      "Overall Acc: \t 0.590670850792\n",
      "Mean Acc : \t 0.263953609076\n",
      "FreqW Acc : \t 0.420314996632\n",
      "Mean IoU : \t 0.196513169228\n"
     ]
    },
    {
     "name": "stderr",
     "output_type": "stream",
     "text": [
      "\n"
     ]
    },
    {
     "name": "stdout",
     "output_type": "stream",
     "text": [
      "Epoch [49/50] Loss: 0.6136\n",
      "Epoch [49/50] Loss: 0.7478\n",
      "Epoch [49/50] Loss: 1.0027\n",
      "Epoch [49/50] Loss: 0.6576\n",
      "Epoch [49/50] Loss: 1.1389\n",
      "Epoch [49/50] Loss: 0.7968\n",
      "Epoch [49/50] Loss: 0.6986\n",
      "Epoch [49/50] Loss: 1.0339\n",
      "Epoch [49/50] Loss: 0.8250\n",
      "Epoch [49/50] Loss: 1.3671\n"
     ]
    },
    {
     "name": "stderr",
     "output_type": "stream",
     "text": [
      "1010it [04:22,  3.84it/s]\n"
     ]
    },
    {
     "name": "stdout",
     "output_type": "stream",
     "text": [
      "Overall Acc: \t 0.590351910651\n",
      "Mean Acc : \t 0.286791375772\n",
      "FreqW Acc : \t 0.426659216895\n",
      "Mean IoU : \t 0.20674303596\n",
      "Epoch [50/50] Loss: 0.8164\n",
      "Epoch [50/50] Loss: 0.7194\n",
      "Epoch [50/50] Loss: 1.0200\n",
      "Epoch [50/50] Loss: 0.7666\n",
      "Epoch [50/50] Loss: 0.7531\n",
      "Epoch [50/50] Loss: 0.7824\n",
      "Epoch [50/50] Loss: 1.0318\n",
      "Epoch [50/50] Loss: 0.9835\n",
      "Epoch [50/50] Loss: 0.5997\n",
      "Epoch [50/50] Loss: 1.0236\n"
     ]
    },
    {
     "name": "stderr",
     "output_type": "stream",
     "text": [
      "1010it [04:22,  3.84it/s]"
     ]
    },
    {
     "name": "stdout",
     "output_type": "stream",
     "text": [
      "Overall Acc: \t 0.588148416998\n",
      "Mean Acc : \t 0.262835583698\n",
      "FreqW Acc : \t 0.422167697662\n",
      "Mean IoU : \t 0.197024376905\n"
     ]
    },
    {
     "name": "stderr",
     "output_type": "stream",
     "text": [
      "\n"
     ]
    }
   ],
   "source": [
    "from utils import *\n",
    "\n",
    "arg_str = '--gpu_idx 1 ' \\\n",
    "          '--arch FCN_RGB_mask2 ' \\\n",
    "          '--input_type RGB ' \\\n",
    "          '--dataset SUNRGBD ' \\\n",
    "          '--batch_size 5 ' \\\n",
    "          '--n_epoch 50'\n",
    "\n",
    "trainer = trainer(arg_str)\n",
    "trainer.model_init()\n",
    "trainer.training()"
   ]
  },
  {
   "cell_type": "code",
   "execution_count": null,
   "metadata": {},
   "outputs": [],
   "source": []
  }
 ],
 "metadata": {
  "kernelspec": {
   "display_name": "Python [conda env:pytorch]",
   "language": "python",
   "name": "conda-env-pytorch-py"
  },
  "language_info": {
   "codemirror_mode": {
    "name": "ipython",
    "version": 3
   },
   "file_extension": ".py",
   "mimetype": "text/x-python",
   "name": "python",
   "nbconvert_exporter": "python",
   "pygments_lexer": "ipython3",
   "version": "3.6.3"
  }
 },
 "nbformat": 4,
 "nbformat_minor": 2
}
