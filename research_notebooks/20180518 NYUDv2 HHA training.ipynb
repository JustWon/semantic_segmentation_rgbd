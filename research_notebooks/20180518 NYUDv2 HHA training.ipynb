{
 "cells": [
  {
   "cell_type": "markdown",
   "metadata": {},
   "source": [
    "## 2018년 05월 18일 01시 32분 11초에 추가 ##\n",
    "- HHA 이미지로 학습시키기"
   ]
  },
  {
   "cell_type": "code",
   "execution_count": 1,
   "metadata": {},
   "outputs": [],
   "source": [
    "%matplotlib inline\n",
    "import os\n",
    "import collections\n",
    "import torch\n",
    "import torchvision\n",
    "import numpy as np\n",
    "import scipy.misc as m\n",
    "import scipy.io as io\n",
    "import matplotlib.pyplot as plt\n",
    "\n",
    "from NYUDv2Loader_HHA import *\n",
    "\n",
    "os.environ['CUDA_VISIBLE_DEVICES'] = '2'\n",
    "data_path = '/home/dongwonshin/Desktop/Datasets/NYUDv2/'\n",
    "arg_string = '--arch fcn_hha --batch_size 3'"
   ]
  },
  {
   "cell_type": "markdown",
   "metadata": {},
   "source": [
    "# Argument setting"
   ]
  },
  {
   "cell_type": "code",
   "execution_count": 2,
   "metadata": {},
   "outputs": [],
   "source": [
    "import sys, os\n",
    "import torch\n",
    "import visdom\n",
    "import argparse\n",
    "import numpy as np\n",
    "import torch.nn as nn\n",
    "import torch.nn.functional as F\n",
    "import torchvision.models as models\n",
    "\n",
    "from torch.autograd import Variable\n",
    "from torch.utils import data\n",
    "from tqdm import tqdm\n",
    "\n",
    "from ptsemseg.models import get_model\n",
    "from ptsemseg.loader import get_loader, get_data_path\n",
    "from ptsemseg.metrics import runningScore\n",
    "from ptsemseg.loss import *\n",
    "from ptsemseg.augmentations import *\n",
    "\n",
    "\n",
    "parser = argparse.ArgumentParser(description='Hyperparams')\n",
    "parser.add_argument('--arch', nargs='?', type=str, default='fcn8s', help='Architecture to use [\\'fcn8s, unet, segnet etc\\']')\n",
    "parser.add_argument('--img_rows', nargs='?', type=int, default=256, help='Height of the input image')\n",
    "parser.add_argument('--img_cols', nargs='?', type=int, default=256, help='Width of the input image')\n",
    "\n",
    "parser.add_argument('--img_norm', dest='img_norm', action='store_true', help='Enable input image scales normalization [0, 1] | True by default')\n",
    "parser.add_argument('--no-img_norm', dest='img_norm', action='store_false', help='Disable input image scales normalization [0, 1] | True by default')\n",
    "parser.set_defaults(img_norm=True)\n",
    "\n",
    "parser.add_argument('--n_epoch', nargs='?', type=int, default=100, help='# of the epochs')\n",
    "parser.add_argument('--batch_size', nargs='?', type=int, default=1, help='Batch Size')\n",
    "parser.add_argument('--l_rate', nargs='?', type=float, default=1e-5, help='Learning Rate')\n",
    "parser.add_argument('--feature_scale', nargs='?', type=int, default=1, help='Divider for # of features to use')\n",
    "parser.add_argument('--resume', nargs='?', type=str, default=None, help='Path to previous saved model to restart from')\n",
    "\n",
    "parser.add_argument('--visdom', dest='visdom', action='store_true', help='Enable visualization(s) on visdom | False by default')\n",
    "parser.add_argument('--no-visdom', dest='visdom', action='store_false', help='Disable visualization(s) on visdom | False by default')\n",
    "parser.set_defaults(visdom=False)"
   ]
  },
  {
   "cell_type": "code",
   "execution_count": 3,
   "metadata": {},
   "outputs": [],
   "source": [
    "args = parser.parse_args(arg_string.split(' '))\n",
    "\n",
    "# Setup Augmentations\n",
    "data_aug= Compose([RandomRotate(10), RandomHorizontallyFlip()])\n",
    "\n",
    "# Setup Dataloader\n",
    "t_loader = NYUDv2Loader_HHA(data_path, is_transform=True)\n",
    "v_loader = NYUDv2Loader_HHA(data_path, is_transform=True, split='val')\n",
    "\n",
    "n_classes = t_loader.n_classes\n",
    "trainloader = data.DataLoader(t_loader, batch_size=args.batch_size, num_workers=16, shuffle=True)\n",
    "valloader = data.DataLoader(v_loader, batch_size=args.batch_size, num_workers=16)\n",
    "\n",
    "# Setup Metrics\n",
    "running_metrics = runningScore(n_classes)\n",
    "\n",
    "# Setup visdom for visualization\n",
    "if args.visdom:\n",
    "    vis = visdom.Visdom()\n",
    "\n",
    "    loss_window = vis.line(X=torch.zeros((1,)).cpu(),\n",
    "                       Y=torch.zeros((1)).cpu(),\n",
    "                       opts=dict(xlabel='minibatches',\n",
    "                                 ylabel='Loss',\n",
    "                                 title='Training Loss',\n",
    "                                 legend=['Loss']))\n",
    "\n",
    "# Setup Model\n",
    "model = get_model(args.arch, n_classes)\n",
    "\n",
    "model = torch.nn.DataParallel(model, device_ids=range(torch.cuda.device_count()))\n",
    "model.cuda()\n",
    "\n",
    "# Check if model has custom optimizer / loss\n",
    "if hasattr(model.module, 'optimizer'):\n",
    "    optimizer = model.module.optimizer\n",
    "else:\n",
    "    optimizer = torch.optim.SGD(model.parameters(), lr=args.l_rate, momentum=0.99, weight_decay=5e-4)\n",
    "\n",
    "if hasattr(model.module, 'loss'):\n",
    "    print('Using custom loss')\n",
    "    loss_fn = model.module.loss\n",
    "else:\n",
    "    loss_fn = cross_entropy2d\n",
    "\n",
    "if args.resume is not None:                                         \n",
    "    if os.path.isfile(args.resume):\n",
    "        print(\"Loading model and optimizer from checkpoint '{}'\".format(args.resume))\n",
    "        checkpoint = torch.load(args.resume)\n",
    "        model.load_state_dict(checkpoint['model_state'])\n",
    "        optimizer.load_state_dict(checkpoint['optimizer_state'])\n",
    "        print(\"Loaded checkpoint '{}' (epoch {})\"                    \n",
    "              .format(args.resume, checkpoint['epoch']))\n",
    "    else:\n",
    "        print(\"No checkpoint found at '{}'\".format(args.resume)) \n"
   ]
  },
  {
   "cell_type": "markdown",
   "metadata": {},
   "source": [
    "# Training"
   ]
  },
  {
   "cell_type": "code",
   "execution_count": null,
   "metadata": {},
   "outputs": [],
   "source": [
    "def training(args):\n",
    "    best_iou = -100.0 \n",
    "    for epoch in range(args.n_epoch):\n",
    "        model.train()\n",
    "        for i, (color_imgs, depth_imgs, label_imgs) in enumerate(trainloader):\n",
    "            color_imgs = Variable(color_imgs.cuda())\n",
    "            depth_imgs = Variable(depth_imgs.cuda())\n",
    "            label_imgs = Variable(label_imgs.cuda())\n",
    "\n",
    "            optimizer.zero_grad()\n",
    "            outputs = model(color_imgs,depth_imgs)\n",
    "\n",
    "            loss = loss_fn(input=outputs, target=label_imgs)\n",
    "\n",
    "            loss.backward()\n",
    "            optimizer.step()\n",
    "\n",
    "            if args.visdom:\n",
    "                vis.line(\n",
    "                    X=torch.ones((1, 1)).cpu() * i,\n",
    "                    Y=torch.Tensor([loss.data[0]]).unsqueeze(0).cpu(),\n",
    "                    win=loss_window,\n",
    "                    update='append')\n",
    "\n",
    "            if (i+1) % 20 == 0:\n",
    "                print(\"Epoch [%d/%d] Loss: %.4f\" % (epoch+1, args.n_epoch, loss.data[0]))\n",
    "\n",
    "        model.eval()\n",
    "        for i_val, (color_images_val, depth_images_val, label_images_val) in tqdm(enumerate(valloader)):\n",
    "            color_images_val = Variable(color_images_val.cuda(), volatile=True)\n",
    "            depth_images_val = Variable(depth_images_val.cuda(), volatile=True)\n",
    "            label_images_val = Variable(label_images_val.cuda(), volatile=True)\n",
    "\n",
    "            outputs = model(color_images_val, depth_images_val)\n",
    "            pred = outputs.data.max(1)[1].cpu().numpy()\n",
    "            gt = label_images_val.data.cpu().numpy()\n",
    "            running_metrics.update(gt, pred)\n",
    "\n",
    "        score, class_iou = running_metrics.get_scores()\n",
    "        for k, v in score.items():\n",
    "            print(k, v)\n",
    "        running_metrics.reset()\n",
    "\n",
    "        if score['Mean IoU : \\t'] >= best_iou:\n",
    "            best_iou = score['Mean IoU : \\t']\n",
    "            state = {'epoch': epoch+1,\n",
    "                     'model_state': model.state_dict(),\n",
    "                     'optimizer_state' : optimizer.state_dict(),}\n",
    "            torch.save(state, \"../model_weights/{}_{}_best_model.pkl\".format(args.arch, 'NYUDv2'))"
   ]
  },
  {
   "cell_type": "markdown",
   "metadata": {},
   "source": [
    "# Training.. fcn_masked_conv on NYUDv2(hha)"
   ]
  },
  {
   "cell_type": "markdown",
   "metadata": {},
   "source": [
    "결과가 별로 안좋네..?  \n",
    "그냥 뎁스 쓴거보다.. hha쓴게 더 안좋아.. 흠...  \n",
    "\n",
    "다시 renet이랑 masked conv 넣어서 학습..  hha로해서.. 학습"
   ]
  },
  {
   "cell_type": "code",
   "execution_count": null,
   "metadata": {},
   "outputs": [
    {
     "name": "stderr",
     "output_type": "stream",
     "text": [
      "/home/dongwonshin/.conda/envs/pytorch/lib/python3.6/site-packages/torch/nn/functional.py:1462: UserWarning: nn.functional.upsample_bilinear is deprecated. Use nn.functional.upsample instead.\n",
      "  warnings.warn(\"nn.functional.upsample_bilinear is deprecated. Use nn.functional.upsample instead.\")\n"
     ]
    },
    {
     "name": "stdout",
     "output_type": "stream",
     "text": [
      "Epoch [1/100] Loss: 2.4230\n",
      "Epoch [1/100] Loss: 2.1044\n",
      "Epoch [1/100] Loss: 1.9984\n",
      "Epoch [1/100] Loss: 2.1466\n",
      "Epoch [1/100] Loss: 1.9090\n",
      "Epoch [1/100] Loss: 1.7909\n",
      "Epoch [1/100] Loss: 1.9118\n",
      "Epoch [1/100] Loss: 1.9534\n",
      "Epoch [1/100] Loss: 1.9391\n",
      "Epoch [1/100] Loss: 1.7945\n",
      "Epoch [1/100] Loss: 1.9935\n",
      "Epoch [1/100] Loss: 1.4788\n",
      "Epoch [1/100] Loss: 1.5324\n"
     ]
    },
    {
     "name": "stderr",
     "output_type": "stream",
     "text": [
      "218it [00:56,  3.88it/s]\n"
     ]
    },
    {
     "name": "stdout",
     "output_type": "stream",
     "text": [
      "Overall Acc: \t 0.400300703603\n",
      "Mean Acc : \t 0.188284526431\n",
      "FreqW Acc : \t 0.212778934768\n",
      "Mean IoU : \t 0.107421430067\n",
      "Epoch [2/100] Loss: 1.7165\n",
      "Epoch [2/100] Loss: 1.8124\n",
      "Epoch [2/100] Loss: 1.8206\n",
      "Epoch [2/100] Loss: 1.5919\n",
      "Epoch [2/100] Loss: 1.7443\n",
      "Epoch [2/100] Loss: 1.8749\n",
      "Epoch [2/100] Loss: 1.6575\n",
      "Epoch [2/100] Loss: 1.5877\n",
      "Epoch [2/100] Loss: 1.5396\n",
      "Epoch [2/100] Loss: 1.4209\n",
      "Epoch [2/100] Loss: 1.4702\n",
      "Epoch [2/100] Loss: 1.4343\n",
      "Epoch [2/100] Loss: 1.4244\n"
     ]
    },
    {
     "name": "stderr",
     "output_type": "stream",
     "text": [
      "218it [00:57,  3.79it/s]\n"
     ]
    },
    {
     "name": "stdout",
     "output_type": "stream",
     "text": [
      "Overall Acc: \t 0.45094194978\n",
      "Mean Acc : \t 0.249840653245\n",
      "FreqW Acc : \t 0.268258499552\n",
      "Mean IoU : \t 0.15056477398\n",
      "Epoch [3/100] Loss: 1.7014\n",
      "Epoch [3/100] Loss: 1.4458\n",
      "Epoch [3/100] Loss: 1.3879\n",
      "Epoch [3/100] Loss: 1.3315\n",
      "Epoch [3/100] Loss: 1.4157\n",
      "Epoch [3/100] Loss: 1.4792\n",
      "Epoch [3/100] Loss: 1.4571\n",
      "Epoch [3/100] Loss: 1.6245\n",
      "Epoch [3/100] Loss: 1.2905\n",
      "Epoch [3/100] Loss: 1.2770\n",
      "Epoch [3/100] Loss: 1.2660\n",
      "Epoch [3/100] Loss: 2.0638\n",
      "Epoch [3/100] Loss: 1.2968\n"
     ]
    },
    {
     "name": "stderr",
     "output_type": "stream",
     "text": [
      "218it [00:57,  3.81it/s]\n"
     ]
    },
    {
     "name": "stdout",
     "output_type": "stream",
     "text": [
      "Overall Acc: \t 0.480385572956\n",
      "Mean Acc : \t 0.308306243682\n",
      "FreqW Acc : \t 0.311029938276\n",
      "Mean IoU : \t 0.209502427953\n",
      "Epoch [4/100] Loss: 1.6321\n",
      "Epoch [4/100] Loss: 1.2660\n",
      "Epoch [4/100] Loss: 1.4199\n",
      "Epoch [4/100] Loss: 1.3073\n",
      "Epoch [4/100] Loss: 1.4190\n",
      "Epoch [4/100] Loss: 1.3294\n",
      "Epoch [4/100] Loss: 1.7799\n",
      "Epoch [4/100] Loss: 1.4972\n",
      "Epoch [4/100] Loss: 1.3576\n",
      "Epoch [4/100] Loss: 1.3235\n",
      "Epoch [4/100] Loss: 1.6410\n",
      "Epoch [4/100] Loss: 1.2075\n",
      "Epoch [4/100] Loss: 1.3422\n"
     ]
    },
    {
     "name": "stderr",
     "output_type": "stream",
     "text": [
      "218it [00:57,  3.81it/s]"
     ]
    },
    {
     "name": "stdout",
     "output_type": "stream",
     "text": [
      "Overall Acc: \t 0.473370300355\n",
      "Mean Acc : \t 0.290574947256\n",
      "FreqW Acc : \t 0.299535603052\n",
      "Mean IoU : \t 0.196701206498\n"
     ]
    },
    {
     "name": "stderr",
     "output_type": "stream",
     "text": [
      "\n"
     ]
    },
    {
     "name": "stdout",
     "output_type": "stream",
     "text": [
      "Epoch [5/100] Loss: 1.4267\n",
      "Epoch [5/100] Loss: 1.3440\n",
      "Epoch [5/100] Loss: 1.1505\n",
      "Epoch [5/100] Loss: 1.3592\n",
      "Epoch [5/100] Loss: 1.4970\n",
      "Epoch [5/100] Loss: 1.1338\n",
      "Epoch [5/100] Loss: 1.3792\n",
      "Epoch [5/100] Loss: 1.0829\n",
      "Epoch [5/100] Loss: 1.4577\n",
      "Epoch [5/100] Loss: 1.1286\n",
      "Epoch [5/100] Loss: 1.2199\n",
      "Epoch [5/100] Loss: 1.2644\n",
      "Epoch [5/100] Loss: 1.3916\n"
     ]
    },
    {
     "name": "stderr",
     "output_type": "stream",
     "text": [
      "218it [00:56,  3.84it/s]\n"
     ]
    },
    {
     "name": "stdout",
     "output_type": "stream",
     "text": [
      "Overall Acc: \t 0.506234624865\n",
      "Mean Acc : \t 0.340944734019\n",
      "FreqW Acc : \t 0.333097325597\n",
      "Mean IoU : \t 0.230684134749\n",
      "Epoch [6/100] Loss: 1.3529\n",
      "Epoch [6/100] Loss: 1.4618\n",
      "Epoch [6/100] Loss: 1.5243\n",
      "Epoch [6/100] Loss: 1.0065\n",
      "Epoch [6/100] Loss: 1.2419\n",
      "Epoch [6/100] Loss: 1.2528\n",
      "Epoch [6/100] Loss: 1.1279\n",
      "Epoch [6/100] Loss: 1.5754\n",
      "Epoch [6/100] Loss: 1.1733\n",
      "Epoch [6/100] Loss: 1.1758\n",
      "Epoch [6/100] Loss: 1.0695\n",
      "Epoch [6/100] Loss: 1.3183\n",
      "Epoch [6/100] Loss: 1.1083\n"
     ]
    },
    {
     "name": "stderr",
     "output_type": "stream",
     "text": [
      "218it [00:56,  3.83it/s]\n"
     ]
    },
    {
     "name": "stdout",
     "output_type": "stream",
     "text": [
      "Overall Acc: \t 0.517609158982\n",
      "Mean Acc : \t 0.343814001711\n",
      "FreqW Acc : \t 0.344518763631\n",
      "Mean IoU : \t 0.240046243493\n",
      "Epoch [7/100] Loss: 1.4342\n",
      "Epoch [7/100] Loss: 1.1491\n",
      "Epoch [7/100] Loss: 1.0965\n",
      "Epoch [7/100] Loss: 1.2513\n",
      "Epoch [7/100] Loss: 1.3793\n",
      "Epoch [7/100] Loss: 1.1561\n",
      "Epoch [7/100] Loss: 1.2613\n",
      "Epoch [7/100] Loss: 1.1401\n",
      "Epoch [7/100] Loss: 1.0169\n",
      "Epoch [7/100] Loss: 1.1669\n",
      "Epoch [7/100] Loss: 1.0732\n",
      "Epoch [7/100] Loss: 1.0660\n",
      "Epoch [7/100] Loss: 1.1812\n"
     ]
    },
    {
     "name": "stderr",
     "output_type": "stream",
     "text": [
      "218it [00:56,  3.83it/s]\n"
     ]
    },
    {
     "name": "stdout",
     "output_type": "stream",
     "text": [
      "Overall Acc: \t 0.519774539493\n",
      "Mean Acc : \t 0.357137340082\n",
      "FreqW Acc : \t 0.348046444993\n",
      "Mean IoU : \t 0.248940422289\n",
      "Epoch [8/100] Loss: 0.8679\n",
      "Epoch [8/100] Loss: 1.0431\n",
      "Epoch [8/100] Loss: 1.0827\n",
      "Epoch [8/100] Loss: 1.0407\n",
      "Epoch [8/100] Loss: 1.2869\n",
      "Epoch [8/100] Loss: 1.1777\n",
      "Epoch [8/100] Loss: 1.0195\n",
      "Epoch [8/100] Loss: 1.3597\n",
      "Epoch [8/100] Loss: 1.0603\n",
      "Epoch [8/100] Loss: 1.1864\n",
      "Epoch [8/100] Loss: 1.0584\n",
      "Epoch [8/100] Loss: 1.2853\n",
      "Epoch [8/100] Loss: 1.1281\n"
     ]
    },
    {
     "name": "stderr",
     "output_type": "stream",
     "text": [
      "218it [00:56,  3.82it/s]"
     ]
    },
    {
     "name": "stdout",
     "output_type": "stream",
     "text": [
      "Overall Acc: \t 0.52460036096\n",
      "Mean Acc : \t 0.353164187786\n",
      "FreqW Acc : \t 0.347265078784\n",
      "Mean IoU : \t 0.245519748756\n"
     ]
    },
    {
     "name": "stderr",
     "output_type": "stream",
     "text": [
      "\n"
     ]
    },
    {
     "name": "stdout",
     "output_type": "stream",
     "text": [
      "Epoch [9/100] Loss: 1.0294\n",
      "Epoch [9/100] Loss: 0.8260\n",
      "Epoch [9/100] Loss: 0.9134\n",
      "Epoch [9/100] Loss: 1.0113\n",
      "Epoch [9/100] Loss: 0.9748\n",
      "Epoch [9/100] Loss: 0.9671\n",
      "Epoch [9/100] Loss: 0.9221\n",
      "Epoch [9/100] Loss: 0.9612\n",
      "Epoch [9/100] Loss: 1.1876\n",
      "Epoch [9/100] Loss: 0.9615\n",
      "Epoch [9/100] Loss: 0.6501\n",
      "Epoch [9/100] Loss: 1.0706\n",
      "Epoch [9/100] Loss: 1.1409\n"
     ]
    },
    {
     "name": "stderr",
     "output_type": "stream",
     "text": [
      "218it [00:57,  3.81it/s]\n"
     ]
    },
    {
     "name": "stdout",
     "output_type": "stream",
     "text": [
      "Overall Acc: \t 0.532794417168\n",
      "Mean Acc : \t 0.380640009352\n",
      "FreqW Acc : \t 0.357439301255\n",
      "Mean IoU : \t 0.266723237739\n",
      "Epoch [10/100] Loss: 1.1596\n",
      "Epoch [10/100] Loss: 0.9756\n",
      "Epoch [10/100] Loss: 1.2342\n",
      "Epoch [10/100] Loss: 1.2264\n",
      "Epoch [10/100] Loss: 1.0343\n",
      "Epoch [10/100] Loss: 1.2272\n",
      "Epoch [10/100] Loss: 1.2385\n",
      "Epoch [10/100] Loss: 0.9158\n",
      "Epoch [10/100] Loss: 1.0686\n",
      "Epoch [10/100] Loss: 1.2147\n",
      "Epoch [10/100] Loss: 0.9643\n",
      "Epoch [10/100] Loss: 1.0281\n",
      "Epoch [10/100] Loss: 0.9742\n"
     ]
    },
    {
     "name": "stderr",
     "output_type": "stream",
     "text": [
      "218it [00:56,  3.83it/s]"
     ]
    },
    {
     "name": "stdout",
     "output_type": "stream",
     "text": [
      "Overall Acc: \t 0.53322295987\n",
      "Mean Acc : \t 0.380326074735\n",
      "FreqW Acc : \t 0.364644556217\n",
      "Mean IoU : \t 0.265329579852\n"
     ]
    },
    {
     "name": "stderr",
     "output_type": "stream",
     "text": [
      "\n"
     ]
    },
    {
     "name": "stdout",
     "output_type": "stream",
     "text": [
      "Epoch [11/100] Loss: 1.1649\n",
      "Epoch [11/100] Loss: 1.0565\n",
      "Epoch [11/100] Loss: 0.9094\n",
      "Epoch [11/100] Loss: 0.8963\n",
      "Epoch [11/100] Loss: 0.7947\n",
      "Epoch [11/100] Loss: 1.0161\n",
      "Epoch [11/100] Loss: 1.0323\n",
      "Epoch [11/100] Loss: 1.0786\n",
      "Epoch [11/100] Loss: 1.0292\n",
      "Epoch [11/100] Loss: 0.9040\n",
      "Epoch [11/100] Loss: 1.0068\n",
      "Epoch [11/100] Loss: 0.8203\n",
      "Epoch [11/100] Loss: 0.7671\n"
     ]
    },
    {
     "name": "stderr",
     "output_type": "stream",
     "text": [
      "218it [00:56,  3.83it/s]"
     ]
    },
    {
     "name": "stdout",
     "output_type": "stream",
     "text": [
      "Overall Acc: \t 0.542834166547\n",
      "Mean Acc : \t 0.372219922234\n",
      "FreqW Acc : \t 0.367278841222\n",
      "Mean IoU : \t 0.266282735161\n"
     ]
    },
    {
     "name": "stderr",
     "output_type": "stream",
     "text": [
      "\n"
     ]
    },
    {
     "name": "stdout",
     "output_type": "stream",
     "text": [
      "Epoch [12/100] Loss: 0.8405\n",
      "Epoch [12/100] Loss: 0.9674\n",
      "Epoch [12/100] Loss: 1.1213\n",
      "Epoch [12/100] Loss: 0.8068\n",
      "Epoch [12/100] Loss: 0.7868\n",
      "Epoch [12/100] Loss: 0.9244\n",
      "Epoch [12/100] Loss: 0.5542\n",
      "Epoch [12/100] Loss: 1.1120\n",
      "Epoch [12/100] Loss: 0.9618\n",
      "Epoch [12/100] Loss: 1.0512\n",
      "Epoch [12/100] Loss: 0.8672\n",
      "Epoch [12/100] Loss: 0.7056\n",
      "Epoch [12/100] Loss: 0.9897\n"
     ]
    },
    {
     "name": "stderr",
     "output_type": "stream",
     "text": [
      "218it [00:56,  3.84it/s]\n"
     ]
    },
    {
     "name": "stdout",
     "output_type": "stream",
     "text": [
      "Overall Acc: \t 0.540546939706\n",
      "Mean Acc : \t 0.40005271203\n",
      "FreqW Acc : \t 0.374270867886\n",
      "Mean IoU : \t 0.289172566501\n",
      "Epoch [13/100] Loss: 0.8872\n",
      "Epoch [13/100] Loss: 0.8098\n",
      "Epoch [13/100] Loss: 0.9265\n",
      "Epoch [13/100] Loss: 0.7886\n",
      "Epoch [13/100] Loss: 1.2838\n",
      "Epoch [13/100] Loss: 0.7605\n",
      "Epoch [13/100] Loss: 0.8243\n",
      "Epoch [13/100] Loss: 0.9120\n",
      "Epoch [13/100] Loss: 0.8717\n",
      "Epoch [13/100] Loss: 0.9168\n",
      "Epoch [13/100] Loss: 0.8903\n",
      "Epoch [13/100] Loss: 0.9074\n",
      "Epoch [13/100] Loss: 0.9831\n"
     ]
    },
    {
     "name": "stderr",
     "output_type": "stream",
     "text": [
      "218it [00:56,  3.83it/s]"
     ]
    },
    {
     "name": "stdout",
     "output_type": "stream",
     "text": [
      "Overall Acc: \t 0.548927841886\n",
      "Mean Acc : \t 0.402810849162\n",
      "FreqW Acc : \t 0.375826425446\n",
      "Mean IoU : \t 0.286983357764\n"
     ]
    },
    {
     "name": "stderr",
     "output_type": "stream",
     "text": [
      "\n"
     ]
    },
    {
     "name": "stdout",
     "output_type": "stream",
     "text": [
      "Epoch [14/100] Loss: 0.9140\n",
      "Epoch [14/100] Loss: 0.6620\n",
      "Epoch [14/100] Loss: 0.9070\n",
      "Epoch [14/100] Loss: 1.0032\n",
      "Epoch [14/100] Loss: 0.8511\n",
      "Epoch [14/100] Loss: 0.8471\n",
      "Epoch [14/100] Loss: 0.8558\n",
      "Epoch [14/100] Loss: 1.0284\n",
      "Epoch [14/100] Loss: 1.0717\n",
      "Epoch [14/100] Loss: 0.8957\n",
      "Epoch [14/100] Loss: 0.8646\n",
      "Epoch [14/100] Loss: 0.9954\n",
      "Epoch [14/100] Loss: 0.7942\n"
     ]
    },
    {
     "name": "stderr",
     "output_type": "stream",
     "text": [
      "218it [00:57,  3.82it/s]"
     ]
    },
    {
     "name": "stdout",
     "output_type": "stream",
     "text": [
      "Overall Acc: \t 0.539124189682\n",
      "Mean Acc : \t 0.38079633949\n",
      "FreqW Acc : \t 0.36018624363\n",
      "Mean IoU : \t 0.267271043036\n"
     ]
    },
    {
     "name": "stderr",
     "output_type": "stream",
     "text": [
      "\n"
     ]
    },
    {
     "name": "stdout",
     "output_type": "stream",
     "text": [
      "Epoch [15/100] Loss: 0.7780\n",
      "Epoch [15/100] Loss: 0.9335\n",
      "Epoch [15/100] Loss: 0.9424\n",
      "Epoch [15/100] Loss: 0.7359\n",
      "Epoch [15/100] Loss: 1.0580\n",
      "Epoch [15/100] Loss: 0.9908\n",
      "Epoch [15/100] Loss: 0.6474\n",
      "Epoch [15/100] Loss: 0.6320\n",
      "Epoch [15/100] Loss: 1.0765\n",
      "Epoch [15/100] Loss: 0.7182\n",
      "Epoch [15/100] Loss: 0.8553\n",
      "Epoch [15/100] Loss: 0.6545\n",
      "Epoch [15/100] Loss: 0.8296\n"
     ]
    },
    {
     "name": "stderr",
     "output_type": "stream",
     "text": [
      "218it [00:57,  3.82it/s]"
     ]
    },
    {
     "name": "stdout",
     "output_type": "stream",
     "text": [
      "Overall Acc: \t 0.532045833732\n",
      "Mean Acc : \t 0.358699392015\n",
      "FreqW Acc : \t 0.352465810364\n",
      "Mean IoU : \t 0.254931959833\n"
     ]
    },
    {
     "name": "stderr",
     "output_type": "stream",
     "text": [
      "\n"
     ]
    },
    {
     "name": "stdout",
     "output_type": "stream",
     "text": [
      "Epoch [16/100] Loss: 0.5855\n",
      "Epoch [16/100] Loss: 0.8416\n",
      "Epoch [16/100] Loss: 0.9670\n",
      "Epoch [16/100] Loss: 0.9606\n",
      "Epoch [16/100] Loss: 0.8258\n",
      "Epoch [16/100] Loss: 0.7908\n",
      "Epoch [16/100] Loss: 1.0367\n",
      "Epoch [16/100] Loss: 0.7656\n",
      "Epoch [16/100] Loss: 0.9511\n",
      "Epoch [16/100] Loss: 0.9241\n",
      "Epoch [16/100] Loss: 0.7768\n",
      "Epoch [16/100] Loss: 0.9581\n",
      "Epoch [16/100] Loss: 0.7784\n"
     ]
    },
    {
     "name": "stderr",
     "output_type": "stream",
     "text": [
      "218it [00:57,  3.82it/s]"
     ]
    },
    {
     "name": "stdout",
     "output_type": "stream",
     "text": [
      "Overall Acc: \t 0.543463228092\n",
      "Mean Acc : \t 0.4031122303\n",
      "FreqW Acc : \t 0.36878288175\n",
      "Mean IoU : \t 0.285047894846\n"
     ]
    },
    {
     "name": "stderr",
     "output_type": "stream",
     "text": [
      "\n"
     ]
    },
    {
     "name": "stdout",
     "output_type": "stream",
     "text": [
      "Epoch [17/100] Loss: 0.8157\n",
      "Epoch [17/100] Loss: 0.7207\n",
      "Epoch [17/100] Loss: 0.8865\n",
      "Epoch [17/100] Loss: 1.0104\n",
      "Epoch [17/100] Loss: 0.9835\n",
      "Epoch [17/100] Loss: 0.6856\n",
      "Epoch [17/100] Loss: 0.6798\n",
      "Epoch [17/100] Loss: 0.8055\n",
      "Epoch [17/100] Loss: 0.8186\n",
      "Epoch [17/100] Loss: 0.8084\n",
      "Epoch [17/100] Loss: 0.8159\n",
      "Epoch [17/100] Loss: 0.7056\n",
      "Epoch [17/100] Loss: 0.7874\n"
     ]
    },
    {
     "name": "stderr",
     "output_type": "stream",
     "text": [
      "218it [00:57,  3.82it/s]"
     ]
    },
    {
     "name": "stdout",
     "output_type": "stream",
     "text": [
      "Overall Acc: \t 0.536033145387\n",
      "Mean Acc : \t 0.390607757082\n",
      "FreqW Acc : \t 0.369129810039\n",
      "Mean IoU : \t 0.279111356351\n"
     ]
    },
    {
     "name": "stderr",
     "output_type": "stream",
     "text": [
      "\n"
     ]
    },
    {
     "name": "stdout",
     "output_type": "stream",
     "text": [
      "Epoch [18/100] Loss: 0.6265\n",
      "Epoch [18/100] Loss: 0.8593\n",
      "Epoch [18/100] Loss: 0.5812\n",
      "Epoch [18/100] Loss: 0.8933\n",
      "Epoch [18/100] Loss: 0.6436\n",
      "Epoch [18/100] Loss: 0.6204\n",
      "Epoch [18/100] Loss: 0.8560\n",
      "Epoch [18/100] Loss: 0.8649\n",
      "Epoch [18/100] Loss: 0.8378\n",
      "Epoch [18/100] Loss: 0.7180\n",
      "Epoch [18/100] Loss: 0.5967\n",
      "Epoch [18/100] Loss: 0.7367\n",
      "Epoch [18/100] Loss: 0.7721\n"
     ]
    },
    {
     "name": "stderr",
     "output_type": "stream",
     "text": [
      "218it [00:56,  3.85it/s]"
     ]
    },
    {
     "name": "stdout",
     "output_type": "stream",
     "text": [
      "Overall Acc: \t 0.538910450911\n",
      "Mean Acc : \t 0.375944837981\n",
      "FreqW Acc : \t 0.36765693966\n",
      "Mean IoU : \t 0.274263488749\n"
     ]
    },
    {
     "name": "stderr",
     "output_type": "stream",
     "text": [
      "\n"
     ]
    },
    {
     "name": "stdout",
     "output_type": "stream",
     "text": [
      "Epoch [19/100] Loss: 0.6907\n",
      "Epoch [19/100] Loss: 0.8562\n",
      "Epoch [19/100] Loss: 0.7038\n",
      "Epoch [19/100] Loss: 0.7979\n",
      "Epoch [19/100] Loss: 0.7476\n",
      "Epoch [19/100] Loss: 0.6788\n",
      "Epoch [19/100] Loss: 0.8431\n",
      "Epoch [19/100] Loss: 0.8314\n",
      "Epoch [19/100] Loss: 0.7145\n",
      "Epoch [19/100] Loss: 0.8567\n",
      "Epoch [19/100] Loss: 0.8011\n",
      "Epoch [19/100] Loss: 0.6551\n",
      "Epoch [19/100] Loss: 0.8453\n"
     ]
    },
    {
     "name": "stderr",
     "output_type": "stream",
     "text": [
      "218it [00:57,  3.80it/s]\n"
     ]
    },
    {
     "name": "stdout",
     "output_type": "stream",
     "text": [
      "Overall Acc: \t 0.549990259262\n",
      "Mean Acc : \t 0.407934587921\n",
      "FreqW Acc : \t 0.37952703441\n",
      "Mean IoU : \t 0.294538060597\n",
      "Epoch [20/100] Loss: 0.6834\n",
      "Epoch [20/100] Loss: 0.6730\n",
      "Epoch [20/100] Loss: 0.8563\n",
      "Epoch [20/100] Loss: 0.6972\n",
      "Epoch [20/100] Loss: 0.8733\n",
      "Epoch [20/100] Loss: 0.6428\n",
      "Epoch [20/100] Loss: 0.6790\n",
      "Epoch [20/100] Loss: 0.7787\n",
      "Epoch [20/100] Loss: 0.7369\n",
      "Epoch [20/100] Loss: 0.6677\n",
      "Epoch [20/100] Loss: 0.8653\n",
      "Epoch [20/100] Loss: 0.5232\n",
      "Epoch [20/100] Loss: 0.6441\n"
     ]
    },
    {
     "name": "stderr",
     "output_type": "stream",
     "text": [
      "218it [00:56,  3.84it/s]"
     ]
    },
    {
     "name": "stdout",
     "output_type": "stream",
     "text": [
      "Overall Acc: \t 0.542765802195\n",
      "Mean Acc : \t 0.386749006055\n",
      "FreqW Acc : \t 0.37336159833\n",
      "Mean IoU : \t 0.283396064919\n"
     ]
    },
    {
     "name": "stderr",
     "output_type": "stream",
     "text": [
      "\n"
     ]
    },
    {
     "name": "stdout",
     "output_type": "stream",
     "text": [
      "Epoch [21/100] Loss: 0.8927\n",
      "Epoch [21/100] Loss: 0.8837\n",
      "Epoch [21/100] Loss: 0.9048\n",
      "Epoch [21/100] Loss: 0.6791\n",
      "Epoch [21/100] Loss: 0.7229\n",
      "Epoch [21/100] Loss: 0.8451\n",
      "Epoch [21/100] Loss: 0.7203\n",
      "Epoch [21/100] Loss: 0.6912\n",
      "Epoch [21/100] Loss: 0.7087\n",
      "Epoch [21/100] Loss: 0.7141\n",
      "Epoch [21/100] Loss: 0.7563\n",
      "Epoch [21/100] Loss: 0.6473\n",
      "Epoch [21/100] Loss: 0.6433\n"
     ]
    },
    {
     "name": "stderr",
     "output_type": "stream",
     "text": [
      "218it [00:57,  3.81it/s]"
     ]
    },
    {
     "name": "stdout",
     "output_type": "stream",
     "text": [
      "Overall Acc: \t 0.548124318099\n",
      "Mean Acc : \t 0.397076451915\n",
      "FreqW Acc : \t 0.377984482978\n",
      "Mean IoU : \t 0.288015292749\n"
     ]
    },
    {
     "name": "stderr",
     "output_type": "stream",
     "text": [
      "\n"
     ]
    },
    {
     "name": "stdout",
     "output_type": "stream",
     "text": [
      "Epoch [22/100] Loss: 0.7416\n",
      "Epoch [22/100] Loss: 0.6486\n",
      "Epoch [22/100] Loss: 0.5830\n",
      "Epoch [22/100] Loss: 0.7128\n",
      "Epoch [22/100] Loss: 0.5930\n",
      "Epoch [22/100] Loss: 0.6558\n",
      "Epoch [22/100] Loss: 0.7996\n",
      "Epoch [22/100] Loss: 0.6491\n",
      "Epoch [22/100] Loss: 0.9769\n",
      "Epoch [22/100] Loss: 0.6190\n",
      "Epoch [22/100] Loss: 0.7700\n",
      "Epoch [22/100] Loss: 0.5798\n",
      "Epoch [22/100] Loss: 0.7051\n"
     ]
    },
    {
     "name": "stderr",
     "output_type": "stream",
     "text": [
      "218it [00:56,  3.84it/s]"
     ]
    },
    {
     "name": "stdout",
     "output_type": "stream",
     "text": [
      "Overall Acc: \t 0.548664687659\n",
      "Mean Acc : \t 0.39871109144\n",
      "FreqW Acc : \t 0.377870794824\n",
      "Mean IoU : \t 0.287428918967\n"
     ]
    },
    {
     "name": "stderr",
     "output_type": "stream",
     "text": [
      "\n"
     ]
    },
    {
     "name": "stdout",
     "output_type": "stream",
     "text": [
      "Epoch [23/100] Loss: 0.6556\n",
      "Epoch [23/100] Loss: 0.7003\n",
      "Epoch [23/100] Loss: 0.8190\n",
      "Epoch [23/100] Loss: 0.6890\n",
      "Epoch [23/100] Loss: 0.7176\n",
      "Epoch [23/100] Loss: 0.7496\n",
      "Epoch [23/100] Loss: 0.8548\n",
      "Epoch [23/100] Loss: 0.7331\n",
      "Epoch [23/100] Loss: 0.6234\n",
      "Epoch [23/100] Loss: 0.5600\n",
      "Epoch [23/100] Loss: 0.7113\n",
      "Epoch [23/100] Loss: 0.6693\n",
      "Epoch [23/100] Loss: 0.6280\n"
     ]
    },
    {
     "name": "stderr",
     "output_type": "stream",
     "text": [
      "218it [00:57,  3.80it/s]\n"
     ]
    },
    {
     "name": "stdout",
     "output_type": "stream",
     "text": [
      "Overall Acc: \t 0.550758856755\n",
      "Mean Acc : \t 0.412914792181\n",
      "FreqW Acc : \t 0.383539278929\n",
      "Mean IoU : \t 0.299071760115\n",
      "Epoch [24/100] Loss: 0.5516\n",
      "Epoch [24/100] Loss: 0.7290\n",
      "Epoch [24/100] Loss: 0.4774\n",
      "Epoch [24/100] Loss: 0.6490\n",
      "Epoch [24/100] Loss: 0.8395\n",
      "Epoch [24/100] Loss: 0.7500\n",
      "Epoch [24/100] Loss: 0.3714\n",
      "Epoch [24/100] Loss: 0.6590\n",
      "Epoch [24/100] Loss: 0.7616\n",
      "Epoch [24/100] Loss: 0.7020\n",
      "Epoch [24/100] Loss: 0.5250\n",
      "Epoch [24/100] Loss: 0.5297\n",
      "Epoch [24/100] Loss: 0.8609\n"
     ]
    },
    {
     "name": "stderr",
     "output_type": "stream",
     "text": [
      "218it [00:57,  3.82it/s]"
     ]
    },
    {
     "name": "stdout",
     "output_type": "stream",
     "text": [
      "Overall Acc: \t 0.553580823737\n",
      "Mean Acc : \t 0.409675454531\n",
      "FreqW Acc : \t 0.385246626544\n",
      "Mean IoU : \t 0.297333015518\n"
     ]
    },
    {
     "name": "stderr",
     "output_type": "stream",
     "text": [
      "\n"
     ]
    },
    {
     "name": "stdout",
     "output_type": "stream",
     "text": [
      "Epoch [25/100] Loss: 0.6580\n",
      "Epoch [25/100] Loss: 0.7907\n",
      "Epoch [25/100] Loss: 0.6695\n",
      "Epoch [25/100] Loss: 0.5646\n",
      "Epoch [25/100] Loss: 0.5406\n",
      "Epoch [25/100] Loss: 0.8476\n",
      "Epoch [25/100] Loss: 0.7097\n",
      "Epoch [25/100] Loss: 0.5650\n",
      "Epoch [25/100] Loss: 0.6303\n",
      "Epoch [25/100] Loss: 0.6753\n",
      "Epoch [25/100] Loss: 0.7846\n",
      "Epoch [25/100] Loss: 0.6525\n",
      "Epoch [25/100] Loss: 0.7781\n"
     ]
    },
    {
     "name": "stderr",
     "output_type": "stream",
     "text": [
      "218it [00:58,  3.75it/s]"
     ]
    },
    {
     "name": "stdout",
     "output_type": "stream",
     "text": [
      "Overall Acc: \t 0.549285138331\n",
      "Mean Acc : \t 0.402159689831\n",
      "FreqW Acc : \t 0.376306384308\n",
      "Mean IoU : \t 0.288560445359\n"
     ]
    },
    {
     "name": "stderr",
     "output_type": "stream",
     "text": [
      "\n"
     ]
    },
    {
     "name": "stdout",
     "output_type": "stream",
     "text": [
      "Epoch [26/100] Loss: 0.5988\n",
      "Epoch [26/100] Loss: 0.5491\n",
      "Epoch [26/100] Loss: 0.6269\n",
      "Epoch [26/100] Loss: 0.5225\n",
      "Epoch [26/100] Loss: 0.8148\n",
      "Epoch [26/100] Loss: 0.5030\n",
      "Epoch [26/100] Loss: 0.6363\n",
      "Epoch [26/100] Loss: 0.7387\n",
      "Epoch [26/100] Loss: 0.6170\n",
      "Epoch [26/100] Loss: 0.6476\n",
      "Epoch [26/100] Loss: 0.6710\n",
      "Epoch [26/100] Loss: 0.4887\n",
      "Epoch [26/100] Loss: 0.6924\n"
     ]
    },
    {
     "name": "stderr",
     "output_type": "stream",
     "text": [
      "218it [00:58,  3.76it/s]\n"
     ]
    },
    {
     "name": "stdout",
     "output_type": "stream",
     "text": [
      "Overall Acc: \t 0.554436495564\n",
      "Mean Acc : \t 0.423727791953\n",
      "FreqW Acc : \t 0.389833970154\n",
      "Mean IoU : \t 0.305456613692\n",
      "Epoch [27/100] Loss: 0.6987\n",
      "Epoch [27/100] Loss: 0.4575\n",
      "Epoch [27/100] Loss: 0.7272\n",
      "Epoch [27/100] Loss: 0.7402\n",
      "Epoch [27/100] Loss: 0.6464\n",
      "Epoch [27/100] Loss: 0.6102\n",
      "Epoch [27/100] Loss: 0.6904\n",
      "Epoch [27/100] Loss: 0.6631\n",
      "Epoch [27/100] Loss: 0.6286\n",
      "Epoch [27/100] Loss: 0.4847\n",
      "Epoch [27/100] Loss: 0.4422\n",
      "Epoch [27/100] Loss: 0.8830\n",
      "Epoch [27/100] Loss: 0.5654\n"
     ]
    },
    {
     "name": "stderr",
     "output_type": "stream",
     "text": [
      "218it [00:57,  3.81it/s]"
     ]
    },
    {
     "name": "stdout",
     "output_type": "stream",
     "text": [
      "Overall Acc: \t 0.546842885926\n",
      "Mean Acc : \t 0.401493023236\n",
      "FreqW Acc : \t 0.378499632892\n",
      "Mean IoU : \t 0.29191156351\n"
     ]
    },
    {
     "name": "stderr",
     "output_type": "stream",
     "text": [
      "\n"
     ]
    },
    {
     "name": "stdout",
     "output_type": "stream",
     "text": [
      "Epoch [28/100] Loss: 0.4791\n",
      "Epoch [28/100] Loss: 0.4280\n",
      "Epoch [28/100] Loss: 0.6553\n",
      "Epoch [28/100] Loss: 0.4790\n",
      "Epoch [28/100] Loss: 0.5817\n",
      "Epoch [28/100] Loss: 0.6608\n",
      "Epoch [28/100] Loss: 0.7671\n",
      "Epoch [28/100] Loss: 0.5211\n",
      "Epoch [28/100] Loss: 0.6060\n",
      "Epoch [28/100] Loss: 0.4822\n",
      "Epoch [28/100] Loss: 0.6191\n",
      "Epoch [28/100] Loss: 0.4645\n",
      "Epoch [28/100] Loss: 0.4519\n"
     ]
    },
    {
     "name": "stderr",
     "output_type": "stream",
     "text": [
      "218it [00:56,  3.83it/s]"
     ]
    },
    {
     "name": "stdout",
     "output_type": "stream",
     "text": [
      "Overall Acc: \t 0.542762477303\n",
      "Mean Acc : \t 0.407497477812\n",
      "FreqW Acc : \t 0.372323290311\n",
      "Mean IoU : \t 0.282636286819\n"
     ]
    },
    {
     "name": "stderr",
     "output_type": "stream",
     "text": [
      "\n"
     ]
    },
    {
     "name": "stdout",
     "output_type": "stream",
     "text": [
      "Epoch [29/100] Loss: 0.6181\n",
      "Epoch [29/100] Loss: 0.6894\n",
      "Epoch [29/100] Loss: 0.6388\n",
      "Epoch [29/100] Loss: 0.6593\n",
      "Epoch [29/100] Loss: 0.6471\n",
      "Epoch [29/100] Loss: 0.6584\n",
      "Epoch [29/100] Loss: 0.6200\n",
      "Epoch [29/100] Loss: 0.6277\n",
      "Epoch [29/100] Loss: 0.5709\n",
      "Epoch [29/100] Loss: 0.6296\n",
      "Epoch [29/100] Loss: 0.7361\n",
      "Epoch [29/100] Loss: 0.8511\n",
      "Epoch [29/100] Loss: 0.6068\n"
     ]
    },
    {
     "name": "stderr",
     "output_type": "stream",
     "text": [
      "218it [00:57,  3.82it/s]\n"
     ]
    },
    {
     "name": "stdout",
     "output_type": "stream",
     "text": [
      "Overall Acc: \t 0.557203641652\n",
      "Mean Acc : \t 0.426085586426\n",
      "FreqW Acc : \t 0.390575376317\n",
      "Mean IoU : \t 0.308987851394\n",
      "Epoch [30/100] Loss: 0.7864\n",
      "Epoch [30/100] Loss: 0.5809\n",
      "Epoch [30/100] Loss: 0.4783\n",
      "Epoch [30/100] Loss: 0.6171\n",
      "Epoch [30/100] Loss: 0.6471\n",
      "Epoch [30/100] Loss: 0.5566\n",
      "Epoch [30/100] Loss: 0.8726\n",
      "Epoch [30/100] Loss: 0.4563\n",
      "Epoch [30/100] Loss: 0.5499\n",
      "Epoch [30/100] Loss: 0.5509\n",
      "Epoch [30/100] Loss: 0.5182\n",
      "Epoch [30/100] Loss: 0.6928\n",
      "Epoch [30/100] Loss: 0.5151\n"
     ]
    },
    {
     "name": "stderr",
     "output_type": "stream",
     "text": [
      "218it [00:56,  3.83it/s]"
     ]
    },
    {
     "name": "stdout",
     "output_type": "stream",
     "text": [
      "Overall Acc: \t 0.548422926223\n",
      "Mean Acc : \t 0.39541900751\n",
      "FreqW Acc : \t 0.381004362091\n",
      "Mean IoU : \t 0.286906425004\n"
     ]
    },
    {
     "name": "stderr",
     "output_type": "stream",
     "text": [
      "\n"
     ]
    },
    {
     "name": "stdout",
     "output_type": "stream",
     "text": [
      "Epoch [31/100] Loss: 0.6949\n",
      "Epoch [31/100] Loss: 0.7978\n",
      "Epoch [31/100] Loss: 0.7188\n",
      "Epoch [31/100] Loss: 0.5384\n",
      "Epoch [31/100] Loss: 0.7962\n",
      "Epoch [31/100] Loss: 0.5947\n",
      "Epoch [31/100] Loss: 0.5199\n",
      "Epoch [31/100] Loss: 0.6262\n",
      "Epoch [31/100] Loss: 0.6079\n",
      "Epoch [31/100] Loss: 0.6471\n",
      "Epoch [31/100] Loss: 0.6735\n",
      "Epoch [31/100] Loss: 0.6799\n",
      "Epoch [31/100] Loss: 0.5651\n"
     ]
    },
    {
     "name": "stderr",
     "output_type": "stream",
     "text": [
      "218it [00:56,  3.83it/s]\n"
     ]
    },
    {
     "name": "stdout",
     "output_type": "stream",
     "text": [
      "Overall Acc: \t 0.555311897737\n",
      "Mean Acc : \t 0.426436776272\n",
      "FreqW Acc : \t 0.389426388074\n",
      "Mean IoU : \t 0.309055705913\n",
      "Epoch [32/100] Loss: 0.6305\n",
      "Epoch [32/100] Loss: 0.5617\n",
      "Epoch [32/100] Loss: 0.5418\n",
      "Epoch [32/100] Loss: 0.4576\n",
      "Epoch [32/100] Loss: 0.4616\n",
      "Epoch [32/100] Loss: 0.5746\n",
      "Epoch [32/100] Loss: 0.6267\n",
      "Epoch [32/100] Loss: 0.6638\n",
      "Epoch [32/100] Loss: 0.5964\n",
      "Epoch [32/100] Loss: 0.6807\n",
      "Epoch [32/100] Loss: 0.7086\n",
      "Epoch [32/100] Loss: 0.3684\n",
      "Epoch [32/100] Loss: 0.4999\n"
     ]
    },
    {
     "name": "stderr",
     "output_type": "stream",
     "text": [
      "218it [00:56,  3.85it/s]"
     ]
    },
    {
     "name": "stdout",
     "output_type": "stream",
     "text": [
      "Overall Acc: \t 0.55401025739\n",
      "Mean Acc : \t 0.409427530595\n",
      "FreqW Acc : \t 0.383461800085\n",
      "Mean IoU : \t 0.299564850555\n"
     ]
    },
    {
     "name": "stderr",
     "output_type": "stream",
     "text": [
      "\n"
     ]
    },
    {
     "name": "stdout",
     "output_type": "stream",
     "text": [
      "Epoch [33/100] Loss: 0.5573\n",
      "Epoch [33/100] Loss: 0.6080\n",
      "Epoch [33/100] Loss: 0.6841\n",
      "Epoch [33/100] Loss: 0.7353\n",
      "Epoch [33/100] Loss: 0.6360\n",
      "Epoch [33/100] Loss: 0.6361\n",
      "Epoch [33/100] Loss: 0.6537\n",
      "Epoch [33/100] Loss: 0.4904\n",
      "Epoch [33/100] Loss: 0.6242\n",
      "Epoch [33/100] Loss: 0.5702\n",
      "Epoch [33/100] Loss: 0.7099\n",
      "Epoch [33/100] Loss: 0.5377\n",
      "Epoch [33/100] Loss: 0.6249\n"
     ]
    },
    {
     "name": "stderr",
     "output_type": "stream",
     "text": [
      "218it [00:56,  3.85it/s]"
     ]
    },
    {
     "name": "stdout",
     "output_type": "stream",
     "text": [
      "Overall Acc: \t 0.557988948219\n",
      "Mean Acc : \t 0.412896909588\n",
      "FreqW Acc : \t 0.389588220039\n",
      "Mean IoU : \t 0.302906067963\n"
     ]
    },
    {
     "name": "stderr",
     "output_type": "stream",
     "text": [
      "\n"
     ]
    },
    {
     "name": "stdout",
     "output_type": "stream",
     "text": [
      "Epoch [34/100] Loss: 0.5937\n",
      "Epoch [34/100] Loss: 0.4349\n",
      "Epoch [34/100] Loss: 0.5829\n",
      "Epoch [34/100] Loss: 0.5947\n",
      "Epoch [34/100] Loss: 0.4995\n",
      "Epoch [34/100] Loss: 0.5534\n",
      "Epoch [34/100] Loss: 0.4581\n",
      "Epoch [34/100] Loss: 0.6367\n",
      "Epoch [34/100] Loss: 0.6939\n",
      "Epoch [34/100] Loss: 0.6699\n",
      "Epoch [34/100] Loss: 0.6946\n",
      "Epoch [34/100] Loss: 0.6292\n",
      "Epoch [34/100] Loss: 0.4556\n"
     ]
    },
    {
     "name": "stderr",
     "output_type": "stream",
     "text": [
      "218it [00:57,  3.82it/s]"
     ]
    },
    {
     "name": "stdout",
     "output_type": "stream",
     "text": [
      "Overall Acc: \t 0.556670215541\n",
      "Mean Acc : \t 0.416766636455\n",
      "FreqW Acc : \t 0.391423491107\n",
      "Mean IoU : \t 0.302642898013\n"
     ]
    },
    {
     "name": "stderr",
     "output_type": "stream",
     "text": [
      "\n"
     ]
    },
    {
     "name": "stdout",
     "output_type": "stream",
     "text": [
      "Epoch [35/100] Loss: 0.4899\n",
      "Epoch [35/100] Loss: 0.5023\n",
      "Epoch [35/100] Loss: 0.6281\n",
      "Epoch [35/100] Loss: 0.6138\n",
      "Epoch [35/100] Loss: 0.4949\n",
      "Epoch [35/100] Loss: 0.6728\n",
      "Epoch [35/100] Loss: 0.5201\n",
      "Epoch [35/100] Loss: 0.4597\n",
      "Epoch [35/100] Loss: 0.5999\n",
      "Epoch [35/100] Loss: 0.5659\n",
      "Epoch [35/100] Loss: 0.5118\n",
      "Epoch [35/100] Loss: 0.4468\n",
      "Epoch [35/100] Loss: 0.5960\n"
     ]
    },
    {
     "name": "stderr",
     "output_type": "stream",
     "text": [
      "218it [00:57,  3.80it/s]\n"
     ]
    },
    {
     "name": "stdout",
     "output_type": "stream",
     "text": [
      "Overall Acc: \t 0.560820894854\n",
      "Mean Acc : \t 0.430950040524\n",
      "FreqW Acc : \t 0.398095116471\n",
      "Mean IoU : \t 0.314400733706\n",
      "Epoch [36/100] Loss: 0.6952\n",
      "Epoch [36/100] Loss: 0.5677\n",
      "Epoch [36/100] Loss: 0.5802\n",
      "Epoch [36/100] Loss: 0.6194\n",
      "Epoch [36/100] Loss: 0.6688\n",
      "Epoch [36/100] Loss: 0.5046\n",
      "Epoch [36/100] Loss: 0.7109\n",
      "Epoch [36/100] Loss: 0.6064\n",
      "Epoch [36/100] Loss: 0.6051\n",
      "Epoch [36/100] Loss: 0.6068\n",
      "Epoch [36/100] Loss: 0.5795\n",
      "Epoch [36/100] Loss: 0.5624\n",
      "Epoch [36/100] Loss: 0.5875\n"
     ]
    },
    {
     "name": "stderr",
     "output_type": "stream",
     "text": [
      "218it [00:56,  3.83it/s]"
     ]
    },
    {
     "name": "stdout",
     "output_type": "stream",
     "text": [
      "Overall Acc: \t 0.558491798269\n",
      "Mean Acc : \t 0.396967486152\n",
      "FreqW Acc : \t 0.383247450574\n",
      "Mean IoU : \t 0.291203419293\n"
     ]
    },
    {
     "name": "stderr",
     "output_type": "stream",
     "text": [
      "\n"
     ]
    },
    {
     "name": "stdout",
     "output_type": "stream",
     "text": [
      "Epoch [37/100] Loss: 0.5478\n",
      "Epoch [37/100] Loss: 0.6151\n",
      "Epoch [37/100] Loss: 0.4822\n",
      "Epoch [37/100] Loss: 0.6281\n",
      "Epoch [37/100] Loss: 0.6208\n",
      "Epoch [37/100] Loss: 0.6440\n",
      "Epoch [37/100] Loss: 0.5396\n",
      "Epoch [37/100] Loss: 0.4825\n",
      "Epoch [37/100] Loss: 0.6089\n",
      "Epoch [37/100] Loss: 0.7636\n",
      "Epoch [37/100] Loss: 0.6330\n",
      "Epoch [37/100] Loss: 0.4966\n",
      "Epoch [37/100] Loss: 0.4469\n"
     ]
    },
    {
     "name": "stderr",
     "output_type": "stream",
     "text": [
      "218it [00:57,  3.82it/s]"
     ]
    },
    {
     "name": "stdout",
     "output_type": "stream",
     "text": [
      "Overall Acc: \t 0.557210460667\n",
      "Mean Acc : \t 0.410182103334\n",
      "FreqW Acc : \t 0.388106371071\n",
      "Mean IoU : \t 0.30221950046\n"
     ]
    },
    {
     "name": "stderr",
     "output_type": "stream",
     "text": [
      "\n"
     ]
    },
    {
     "name": "stdout",
     "output_type": "stream",
     "text": [
      "Epoch [38/100] Loss: 0.4994\n",
      "Epoch [38/100] Loss: 0.5726\n",
      "Epoch [38/100] Loss: 0.6668\n",
      "Epoch [38/100] Loss: 0.5713\n",
      "Epoch [38/100] Loss: 0.4672\n",
      "Epoch [38/100] Loss: 0.6298\n",
      "Epoch [38/100] Loss: 0.3922\n",
      "Epoch [38/100] Loss: 0.4241\n",
      "Epoch [38/100] Loss: 0.5364\n",
      "Epoch [38/100] Loss: 0.6715\n",
      "Epoch [38/100] Loss: 0.7020\n",
      "Epoch [38/100] Loss: 0.4973\n",
      "Epoch [38/100] Loss: 0.4765\n"
     ]
    },
    {
     "name": "stderr",
     "output_type": "stream",
     "text": [
      "218it [00:57,  3.82it/s]"
     ]
    },
    {
     "name": "stdout",
     "output_type": "stream",
     "text": [
      "Overall Acc: \t 0.56159117968\n",
      "Mean Acc : \t 0.423922165879\n",
      "FreqW Acc : \t 0.393624825872\n",
      "Mean IoU : \t 0.306790743552\n"
     ]
    },
    {
     "name": "stderr",
     "output_type": "stream",
     "text": [
      "\n"
     ]
    },
    {
     "name": "stdout",
     "output_type": "stream",
     "text": [
      "Epoch [39/100] Loss: 0.4905\n",
      "Epoch [39/100] Loss: 0.5260\n",
      "Epoch [39/100] Loss: 0.5104\n",
      "Epoch [39/100] Loss: 0.6012\n",
      "Epoch [39/100] Loss: 0.5065\n",
      "Epoch [39/100] Loss: 0.5425\n",
      "Epoch [39/100] Loss: 0.4717\n",
      "Epoch [39/100] Loss: 0.4891\n",
      "Epoch [39/100] Loss: 0.4441\n",
      "Epoch [39/100] Loss: 0.5865\n",
      "Epoch [39/100] Loss: 0.5317\n",
      "Epoch [39/100] Loss: 0.4963\n",
      "Epoch [39/100] Loss: 0.3929\n"
     ]
    },
    {
     "name": "stderr",
     "output_type": "stream",
     "text": [
      "218it [00:57,  3.82it/s]"
     ]
    },
    {
     "name": "stdout",
     "output_type": "stream",
     "text": [
      "Overall Acc: \t 0.556102505216\n",
      "Mean Acc : \t 0.425547315525\n",
      "FreqW Acc : \t 0.385524367982\n",
      "Mean IoU : \t 0.308189782269\n"
     ]
    },
    {
     "name": "stderr",
     "output_type": "stream",
     "text": [
      "\n"
     ]
    },
    {
     "name": "stdout",
     "output_type": "stream",
     "text": [
      "Epoch [40/100] Loss: 0.6006\n",
      "Epoch [40/100] Loss: 0.6525\n",
      "Epoch [40/100] Loss: 0.4407\n",
      "Epoch [40/100] Loss: 0.5485\n",
      "Epoch [40/100] Loss: 0.5251\n",
      "Epoch [40/100] Loss: 0.4720\n",
      "Epoch [40/100] Loss: 0.6630\n",
      "Epoch [40/100] Loss: 0.7513\n",
      "Epoch [40/100] Loss: 0.5947\n",
      "Epoch [40/100] Loss: 0.5971\n",
      "Epoch [40/100] Loss: 0.5947\n",
      "Epoch [40/100] Loss: 0.6078\n",
      "Epoch [40/100] Loss: 0.5122\n"
     ]
    },
    {
     "name": "stderr",
     "output_type": "stream",
     "text": [
      "218it [00:56,  3.83it/s]"
     ]
    },
    {
     "name": "stdout",
     "output_type": "stream",
     "text": [
      "Overall Acc: \t 0.558052753289\n",
      "Mean Acc : \t 0.411867209803\n",
      "FreqW Acc : \t 0.387120614504\n",
      "Mean IoU : \t 0.301722223495\n"
     ]
    },
    {
     "name": "stderr",
     "output_type": "stream",
     "text": [
      "\n"
     ]
    },
    {
     "name": "stdout",
     "output_type": "stream",
     "text": [
      "Epoch [41/100] Loss: 0.5319\n",
      "Epoch [41/100] Loss: 0.5598\n",
      "Epoch [41/100] Loss: 0.5815\n",
      "Epoch [41/100] Loss: 0.7327\n",
      "Epoch [41/100] Loss: 0.5600\n",
      "Epoch [41/100] Loss: 0.6148\n",
      "Epoch [41/100] Loss: 0.7788\n",
      "Epoch [41/100] Loss: 0.5298\n",
      "Epoch [41/100] Loss: 0.5635\n",
      "Epoch [41/100] Loss: 0.6956\n",
      "Epoch [41/100] Loss: 0.4391\n",
      "Epoch [41/100] Loss: 0.5379\n",
      "Epoch [41/100] Loss: 0.5102\n"
     ]
    },
    {
     "name": "stderr",
     "output_type": "stream",
     "text": [
      "218it [00:56,  3.84it/s]"
     ]
    },
    {
     "name": "stdout",
     "output_type": "stream",
     "text": [
      "Overall Acc: \t 0.560304655645\n",
      "Mean Acc : \t 0.422874083462\n",
      "FreqW Acc : \t 0.395300895676\n",
      "Mean IoU : \t 0.311848505732\n"
     ]
    },
    {
     "name": "stderr",
     "output_type": "stream",
     "text": [
      "\n"
     ]
    },
    {
     "name": "stdout",
     "output_type": "stream",
     "text": [
      "Epoch [42/100] Loss: 0.5437\n",
      "Epoch [42/100] Loss: 0.4197\n",
      "Epoch [42/100] Loss: 0.4803\n",
      "Epoch [42/100] Loss: 0.3997\n",
      "Epoch [42/100] Loss: 0.4606\n",
      "Epoch [42/100] Loss: 0.4922\n",
      "Epoch [42/100] Loss: 0.5008\n",
      "Epoch [42/100] Loss: 0.5716\n",
      "Epoch [42/100] Loss: 0.4678\n",
      "Epoch [42/100] Loss: 0.4341\n",
      "Epoch [42/100] Loss: 0.5536\n",
      "Epoch [42/100] Loss: 0.7706\n",
      "Epoch [42/100] Loss: 0.4777\n"
     ]
    },
    {
     "name": "stderr",
     "output_type": "stream",
     "text": [
      "218it [00:57,  3.82it/s]"
     ]
    },
    {
     "name": "stdout",
     "output_type": "stream",
     "text": [
      "Overall Acc: \t 0.543558221442\n",
      "Mean Acc : \t 0.397254602409\n",
      "FreqW Acc : \t 0.37461766806\n",
      "Mean IoU : \t 0.293686448063\n"
     ]
    },
    {
     "name": "stderr",
     "output_type": "stream",
     "text": [
      "\n"
     ]
    },
    {
     "name": "stdout",
     "output_type": "stream",
     "text": [
      "Epoch [43/100] Loss: 0.5331\n",
      "Epoch [43/100] Loss: 0.5447\n",
      "Epoch [43/100] Loss: 0.6588\n",
      "Epoch [43/100] Loss: 0.4559\n",
      "Epoch [43/100] Loss: 0.6723\n",
      "Epoch [43/100] Loss: 0.4455\n",
      "Epoch [43/100] Loss: 0.4693\n",
      "Epoch [43/100] Loss: 0.5391\n",
      "Epoch [43/100] Loss: 0.5966\n",
      "Epoch [43/100] Loss: 0.5866\n",
      "Epoch [43/100] Loss: 0.4618\n",
      "Epoch [43/100] Loss: 0.5410\n",
      "Epoch [43/100] Loss: 0.6014\n"
     ]
    },
    {
     "name": "stderr",
     "output_type": "stream",
     "text": [
      "218it [00:56,  3.83it/s]"
     ]
    },
    {
     "name": "stdout",
     "output_type": "stream",
     "text": [
      "Overall Acc: \t 0.554902796692\n",
      "Mean Acc : \t 0.419030836563\n",
      "FreqW Acc : \t 0.39189047588\n",
      "Mean IoU : \t 0.303206141838\n"
     ]
    },
    {
     "name": "stderr",
     "output_type": "stream",
     "text": [
      "\n"
     ]
    },
    {
     "name": "stdout",
     "output_type": "stream",
     "text": [
      "Epoch [44/100] Loss: 0.7518\n",
      "Epoch [44/100] Loss: 0.5571\n",
      "Epoch [44/100] Loss: 0.5162\n",
      "Epoch [44/100] Loss: 0.4942\n",
      "Epoch [44/100] Loss: 0.5400\n",
      "Epoch [44/100] Loss: 0.6019\n",
      "Epoch [44/100] Loss: 0.5162\n",
      "Epoch [44/100] Loss: 0.5002\n",
      "Epoch [44/100] Loss: 0.3711\n",
      "Epoch [44/100] Loss: 0.4775\n",
      "Epoch [44/100] Loss: 0.4686\n",
      "Epoch [44/100] Loss: 0.4659\n",
      "Epoch [44/100] Loss: 0.7136\n"
     ]
    },
    {
     "name": "stderr",
     "output_type": "stream",
     "text": [
      "218it [00:56,  3.83it/s]"
     ]
    },
    {
     "name": "stdout",
     "output_type": "stream",
     "text": [
      "Overall Acc: \t 0.561941706884\n",
      "Mean Acc : \t 0.402372027457\n",
      "FreqW Acc : \t 0.392540953587\n",
      "Mean IoU : \t 0.294356931721\n"
     ]
    },
    {
     "name": "stderr",
     "output_type": "stream",
     "text": [
      "\n"
     ]
    },
    {
     "name": "stdout",
     "output_type": "stream",
     "text": [
      "Epoch [45/100] Loss: 0.4432\n",
      "Epoch [45/100] Loss: 0.4891\n",
      "Epoch [45/100] Loss: 0.4242\n",
      "Epoch [45/100] Loss: 0.5095\n",
      "Epoch [45/100] Loss: 0.2951\n",
      "Epoch [45/100] Loss: 0.6495\n",
      "Epoch [45/100] Loss: 0.5621\n",
      "Epoch [45/100] Loss: 0.6476\n",
      "Epoch [45/100] Loss: 0.4223\n",
      "Epoch [45/100] Loss: 0.6534\n",
      "Epoch [45/100] Loss: 0.5460\n",
      "Epoch [45/100] Loss: 0.3854\n",
      "Epoch [45/100] Loss: 0.5845\n"
     ]
    },
    {
     "name": "stderr",
     "output_type": "stream",
     "text": [
      "218it [00:56,  3.83it/s]"
     ]
    },
    {
     "name": "stdout",
     "output_type": "stream",
     "text": [
      "Overall Acc: \t 0.561870087323\n",
      "Mean Acc : \t 0.432874090425\n",
      "FreqW Acc : \t 0.395121888593\n",
      "Mean IoU : \t 0.305871875582\n"
     ]
    },
    {
     "name": "stderr",
     "output_type": "stream",
     "text": [
      "\n"
     ]
    },
    {
     "name": "stdout",
     "output_type": "stream",
     "text": [
      "Epoch [46/100] Loss: 0.5158\n",
      "Epoch [46/100] Loss: 0.4190\n",
      "Epoch [46/100] Loss: 0.5592\n",
      "Epoch [46/100] Loss: 0.5896\n",
      "Epoch [46/100] Loss: 0.4180\n",
      "Epoch [46/100] Loss: 0.4773\n",
      "Epoch [46/100] Loss: 0.3695\n",
      "Epoch [46/100] Loss: 0.4237\n",
      "Epoch [46/100] Loss: 0.6426\n",
      "Epoch [46/100] Loss: 0.3882\n",
      "Epoch [46/100] Loss: 0.5676\n",
      "Epoch [46/100] Loss: 0.4537\n",
      "Epoch [46/100] Loss: 0.5737\n"
     ]
    },
    {
     "name": "stderr",
     "output_type": "stream",
     "text": [
      "218it [00:57,  3.79it/s]"
     ]
    },
    {
     "name": "stdout",
     "output_type": "stream",
     "text": [
      "Overall Acc: \t 0.559820615125\n",
      "Mean Acc : \t 0.420540070978\n",
      "FreqW Acc : \t 0.389914157938\n",
      "Mean IoU : \t 0.307221900163\n"
     ]
    },
    {
     "name": "stderr",
     "output_type": "stream",
     "text": [
      "\n"
     ]
    },
    {
     "name": "stdout",
     "output_type": "stream",
     "text": [
      "Epoch [47/100] Loss: 0.5756\n",
      "Epoch [47/100] Loss: 0.5173\n",
      "Epoch [47/100] Loss: 0.5480\n",
      "Epoch [47/100] Loss: 0.4498\n",
      "Epoch [47/100] Loss: 0.4746\n",
      "Epoch [47/100] Loss: 0.7018\n",
      "Epoch [47/100] Loss: 0.5070\n",
      "Epoch [47/100] Loss: 0.4859\n",
      "Epoch [47/100] Loss: 0.4610\n",
      "Epoch [47/100] Loss: 0.5247\n",
      "Epoch [47/100] Loss: 0.4474\n",
      "Epoch [47/100] Loss: 0.5532\n",
      "Epoch [47/100] Loss: 0.3681\n"
     ]
    },
    {
     "name": "stderr",
     "output_type": "stream",
     "text": [
      "218it [00:56,  3.85it/s]"
     ]
    },
    {
     "name": "stdout",
     "output_type": "stream",
     "text": [
      "Overall Acc: \t 0.559418004587\n",
      "Mean Acc : \t 0.423201678388\n",
      "FreqW Acc : \t 0.39034791453\n",
      "Mean IoU : \t 0.30598330757\n"
     ]
    },
    {
     "name": "stderr",
     "output_type": "stream",
     "text": [
      "\n"
     ]
    },
    {
     "name": "stdout",
     "output_type": "stream",
     "text": [
      "Epoch [48/100] Loss: 0.5775\n",
      "Epoch [48/100] Loss: 0.4474\n",
      "Epoch [48/100] Loss: 0.4716\n",
      "Epoch [48/100] Loss: 0.6650\n",
      "Epoch [48/100] Loss: 0.4227\n",
      "Epoch [48/100] Loss: 0.5182\n",
      "Epoch [48/100] Loss: 0.6210\n",
      "Epoch [48/100] Loss: 0.5687\n",
      "Epoch [48/100] Loss: 0.6357\n",
      "Epoch [48/100] Loss: 0.5192\n",
      "Epoch [48/100] Loss: 0.6038\n",
      "Epoch [48/100] Loss: 0.5303\n",
      "Epoch [48/100] Loss: 0.4201\n"
     ]
    },
    {
     "name": "stderr",
     "output_type": "stream",
     "text": [
      "218it [00:56,  3.83it/s]"
     ]
    },
    {
     "name": "stdout",
     "output_type": "stream",
     "text": [
      "Overall Acc: \t 0.561561673754\n",
      "Mean Acc : \t 0.427945236288\n",
      "FreqW Acc : \t 0.390592233412\n",
      "Mean IoU : \t 0.310776373375\n"
     ]
    },
    {
     "name": "stderr",
     "output_type": "stream",
     "text": [
      "\n"
     ]
    },
    {
     "name": "stdout",
     "output_type": "stream",
     "text": [
      "Epoch [49/100] Loss: 0.5480\n",
      "Epoch [49/100] Loss: 0.4647\n",
      "Epoch [49/100] Loss: 0.6669\n",
      "Epoch [49/100] Loss: 0.4238\n",
      "Epoch [49/100] Loss: 0.6862\n",
      "Epoch [49/100] Loss: 0.4787\n",
      "Epoch [49/100] Loss: 0.4252\n",
      "Epoch [49/100] Loss: 0.5955\n",
      "Epoch [49/100] Loss: 0.5796\n",
      "Epoch [49/100] Loss: 0.4709\n",
      "Epoch [49/100] Loss: 0.4808\n",
      "Epoch [49/100] Loss: 0.4945\n",
      "Epoch [49/100] Loss: 0.6068\n"
     ]
    },
    {
     "name": "stderr",
     "output_type": "stream",
     "text": [
      "218it [00:57,  3.82it/s]"
     ]
    },
    {
     "name": "stdout",
     "output_type": "stream",
     "text": [
      "Overall Acc: \t 0.567698627437\n",
      "Mean Acc : \t 0.422441298486\n",
      "FreqW Acc : \t 0.401788336692\n",
      "Mean IoU : \t 0.312295086\n"
     ]
    },
    {
     "name": "stderr",
     "output_type": "stream",
     "text": [
      "\n"
     ]
    },
    {
     "name": "stdout",
     "output_type": "stream",
     "text": [
      "Epoch [50/100] Loss: 0.4609\n",
      "Epoch [50/100] Loss: 0.4943\n",
      "Epoch [50/100] Loss: 0.5707\n",
      "Epoch [50/100] Loss: 0.4307\n",
      "Epoch [50/100] Loss: 0.6168\n",
      "Epoch [50/100] Loss: 0.6976\n",
      "Epoch [50/100] Loss: 0.3923\n",
      "Epoch [50/100] Loss: 0.5451\n",
      "Epoch [50/100] Loss: 0.4599\n",
      "Epoch [50/100] Loss: 0.6895\n",
      "Epoch [50/100] Loss: 0.4685\n",
      "Epoch [50/100] Loss: 0.6391\n",
      "Epoch [50/100] Loss: 0.5286\n"
     ]
    },
    {
     "name": "stderr",
     "output_type": "stream",
     "text": [
      "218it [00:56,  3.84it/s]\n"
     ]
    },
    {
     "name": "stdout",
     "output_type": "stream",
     "text": [
      "Overall Acc: \t 0.568865311027\n",
      "Mean Acc : \t 0.430310332311\n",
      "FreqW Acc : \t 0.396252396505\n",
      "Mean IoU : \t 0.316270454441\n",
      "Epoch [51/100] Loss: 0.5540\n",
      "Epoch [51/100] Loss: 0.6737\n",
      "Epoch [51/100] Loss: 0.3456\n",
      "Epoch [51/100] Loss: 0.5306\n",
      "Epoch [51/100] Loss: 0.4556\n",
      "Epoch [51/100] Loss: 0.4812\n",
      "Epoch [51/100] Loss: 0.3700\n",
      "Epoch [51/100] Loss: 0.3756\n",
      "Epoch [51/100] Loss: 0.2829\n",
      "Epoch [51/100] Loss: 0.4519\n",
      "Epoch [51/100] Loss: 0.4504\n",
      "Epoch [51/100] Loss: 0.4153\n",
      "Epoch [51/100] Loss: 0.4816\n"
     ]
    },
    {
     "name": "stderr",
     "output_type": "stream",
     "text": [
      "218it [00:57,  3.78it/s]"
     ]
    },
    {
     "name": "stdout",
     "output_type": "stream",
     "text": [
      "Overall Acc: \t 0.563616486685\n",
      "Mean Acc : \t 0.437357627913\n",
      "FreqW Acc : \t 0.396624647223\n",
      "Mean IoU : \t 0.312979533497\n"
     ]
    },
    {
     "name": "stderr",
     "output_type": "stream",
     "text": [
      "\n"
     ]
    },
    {
     "name": "stdout",
     "output_type": "stream",
     "text": [
      "Epoch [52/100] Loss: 0.4895\n",
      "Epoch [52/100] Loss: 0.4602\n",
      "Epoch [52/100] Loss: 0.5189\n",
      "Epoch [52/100] Loss: 0.3673\n",
      "Epoch [52/100] Loss: 0.5433\n",
      "Epoch [52/100] Loss: 0.4262\n",
      "Epoch [52/100] Loss: 0.4374\n",
      "Epoch [52/100] Loss: 0.5064\n",
      "Epoch [52/100] Loss: 0.5131\n",
      "Epoch [52/100] Loss: 0.5016\n",
      "Epoch [52/100] Loss: 0.5650\n",
      "Epoch [52/100] Loss: 0.5190\n",
      "Epoch [52/100] Loss: 0.4817\n"
     ]
    },
    {
     "name": "stderr",
     "output_type": "stream",
     "text": [
      "218it [00:57,  3.81it/s]"
     ]
    },
    {
     "name": "stdout",
     "output_type": "stream",
     "text": [
      "Overall Acc: \t 0.560402774791\n",
      "Mean Acc : \t 0.427665219034\n",
      "FreqW Acc : \t 0.394775428316\n",
      "Mean IoU : \t 0.311419647479\n"
     ]
    },
    {
     "name": "stderr",
     "output_type": "stream",
     "text": [
      "\n"
     ]
    },
    {
     "name": "stdout",
     "output_type": "stream",
     "text": [
      "Epoch [53/100] Loss: 0.5380\n",
      "Epoch [53/100] Loss: 0.5531\n",
      "Epoch [53/100] Loss: 0.4735\n",
      "Epoch [53/100] Loss: 0.6005\n",
      "Epoch [53/100] Loss: 0.3939\n",
      "Epoch [53/100] Loss: 0.5150\n",
      "Epoch [53/100] Loss: 0.6268\n",
      "Epoch [53/100] Loss: 0.5133\n",
      "Epoch [53/100] Loss: 0.4510\n",
      "Epoch [53/100] Loss: 0.4368\n",
      "Epoch [53/100] Loss: 0.5367\n",
      "Epoch [53/100] Loss: 0.4553\n",
      "Epoch [53/100] Loss: 0.3953\n"
     ]
    },
    {
     "name": "stderr",
     "output_type": "stream",
     "text": [
      "218it [00:57,  3.80it/s]"
     ]
    },
    {
     "name": "stdout",
     "output_type": "stream",
     "text": [
      "Overall Acc: \t 0.557928174376\n",
      "Mean Acc : \t 0.430488708999\n",
      "FreqW Acc : \t 0.389340610108\n",
      "Mean IoU : \t 0.310074631771\n"
     ]
    },
    {
     "name": "stderr",
     "output_type": "stream",
     "text": [
      "\n"
     ]
    },
    {
     "name": "stdout",
     "output_type": "stream",
     "text": [
      "Epoch [54/100] Loss: 0.3728\n",
      "Epoch [54/100] Loss: 0.4385\n",
      "Epoch [54/100] Loss: 0.4099\n",
      "Epoch [54/100] Loss: 0.4218\n",
      "Epoch [54/100] Loss: 0.3852\n",
      "Epoch [54/100] Loss: 0.5108\n",
      "Epoch [54/100] Loss: 0.4455\n",
      "Epoch [54/100] Loss: 0.4608\n",
      "Epoch [54/100] Loss: 0.5037\n",
      "Epoch [54/100] Loss: 0.4961\n",
      "Epoch [54/100] Loss: 0.5639\n",
      "Epoch [54/100] Loss: 0.6469\n",
      "Epoch [54/100] Loss: 0.4972\n"
     ]
    },
    {
     "name": "stderr",
     "output_type": "stream",
     "text": [
      "218it [00:56,  3.84it/s]\n"
     ]
    },
    {
     "name": "stdout",
     "output_type": "stream",
     "text": [
      "Overall Acc: \t 0.563746172393\n",
      "Mean Acc : \t 0.445174303181\n",
      "FreqW Acc : \t 0.402108857745\n",
      "Mean IoU : \t 0.320687949481\n",
      "Epoch [55/100] Loss: 0.4175\n",
      "Epoch [55/100] Loss: 0.3858\n",
      "Epoch [55/100] Loss: 0.4747\n",
      "Epoch [55/100] Loss: 0.4787\n",
      "Epoch [55/100] Loss: 0.3914\n",
      "Epoch [55/100] Loss: 0.4523\n",
      "Epoch [55/100] Loss: 0.3601\n",
      "Epoch [55/100] Loss: 0.5242\n",
      "Epoch [55/100] Loss: 0.5256\n",
      "Epoch [55/100] Loss: 0.6257\n",
      "Epoch [55/100] Loss: 0.3854\n",
      "Epoch [55/100] Loss: 0.3691\n",
      "Epoch [55/100] Loss: 0.5885\n"
     ]
    },
    {
     "name": "stderr",
     "output_type": "stream",
     "text": [
      "218it [00:57,  3.80it/s]"
     ]
    },
    {
     "name": "stdout",
     "output_type": "stream",
     "text": [
      "Overall Acc: \t 0.560799561791\n",
      "Mean Acc : \t 0.415809493462\n",
      "FreqW Acc : \t 0.393623930277\n",
      "Mean IoU : \t 0.305469925681\n"
     ]
    },
    {
     "name": "stderr",
     "output_type": "stream",
     "text": [
      "\n"
     ]
    },
    {
     "name": "stdout",
     "output_type": "stream",
     "text": [
      "Epoch [56/100] Loss: 0.3202\n",
      "Epoch [56/100] Loss: 0.6576\n",
      "Epoch [56/100] Loss: 0.5150\n",
      "Epoch [56/100] Loss: 0.5423\n",
      "Epoch [56/100] Loss: 0.5994\n",
      "Epoch [56/100] Loss: 0.4594\n",
      "Epoch [56/100] Loss: 0.3373\n",
      "Epoch [56/100] Loss: 0.5487\n",
      "Epoch [56/100] Loss: 0.3810\n",
      "Epoch [56/100] Loss: 0.7242\n",
      "Epoch [56/100] Loss: 0.5388\n",
      "Epoch [56/100] Loss: 0.4790\n",
      "Epoch [56/100] Loss: 0.5377\n"
     ]
    },
    {
     "name": "stderr",
     "output_type": "stream",
     "text": [
      "218it [00:56,  3.84it/s]"
     ]
    },
    {
     "name": "stdout",
     "output_type": "stream",
     "text": [
      "Overall Acc: \t 0.571340399226\n",
      "Mean Acc : \t 0.439389287511\n",
      "FreqW Acc : \t 0.401036986939\n",
      "Mean IoU : \t 0.320500665353\n"
     ]
    },
    {
     "name": "stderr",
     "output_type": "stream",
     "text": [
      "\n"
     ]
    },
    {
     "name": "stdout",
     "output_type": "stream",
     "text": [
      "Epoch [57/100] Loss: 0.4655\n",
      "Epoch [57/100] Loss: 0.5042\n",
      "Epoch [57/100] Loss: 0.5384\n",
      "Epoch [57/100] Loss: 0.5136\n",
      "Epoch [57/100] Loss: 0.5381\n",
      "Epoch [57/100] Loss: 0.4897\n",
      "Epoch [57/100] Loss: 0.4026\n",
      "Epoch [57/100] Loss: 0.3529\n",
      "Epoch [57/100] Loss: 0.3911\n",
      "Epoch [57/100] Loss: 0.6120\n",
      "Epoch [57/100] Loss: 0.5245\n",
      "Epoch [57/100] Loss: 0.3681\n",
      "Epoch [57/100] Loss: 0.4902\n"
     ]
    },
    {
     "name": "stderr",
     "output_type": "stream",
     "text": [
      "218it [00:56,  3.83it/s]"
     ]
    },
    {
     "name": "stdout",
     "output_type": "stream",
     "text": [
      "Overall Acc: \t 0.565731431376\n",
      "Mean Acc : \t 0.434596524324\n",
      "FreqW Acc : \t 0.402429245234\n",
      "Mean IoU : \t 0.316083168131\n"
     ]
    },
    {
     "name": "stderr",
     "output_type": "stream",
     "text": [
      "\n"
     ]
    },
    {
     "name": "stdout",
     "output_type": "stream",
     "text": [
      "Epoch [58/100] Loss: 0.4330\n",
      "Epoch [58/100] Loss: 0.4004\n",
      "Epoch [58/100] Loss: 0.4684\n",
      "Epoch [58/100] Loss: 0.4334\n",
      "Epoch [58/100] Loss: 0.4741\n",
      "Epoch [58/100] Loss: 0.5292\n",
      "Epoch [58/100] Loss: 0.4061\n",
      "Epoch [58/100] Loss: 0.5069\n",
      "Epoch [58/100] Loss: 0.4506\n",
      "Epoch [58/100] Loss: 0.5291\n",
      "Epoch [58/100] Loss: 0.5095\n",
      "Epoch [58/100] Loss: 0.4809\n",
      "Epoch [58/100] Loss: 0.5372\n"
     ]
    },
    {
     "name": "stderr",
     "output_type": "stream",
     "text": [
      "218it [00:56,  3.83it/s]"
     ]
    },
    {
     "name": "stdout",
     "output_type": "stream",
     "text": [
      "Overall Acc: \t 0.563692063265\n",
      "Mean Acc : \t 0.424939700526\n",
      "FreqW Acc : \t 0.392273360396\n",
      "Mean IoU : \t 0.307105555284\n"
     ]
    },
    {
     "name": "stderr",
     "output_type": "stream",
     "text": [
      "\n"
     ]
    },
    {
     "name": "stdout",
     "output_type": "stream",
     "text": [
      "Epoch [59/100] Loss: 0.5152\n",
      "Epoch [59/100] Loss: 0.4704\n",
      "Epoch [59/100] Loss: 0.4705\n",
      "Epoch [59/100] Loss: 0.6252\n",
      "Epoch [59/100] Loss: 0.3520\n",
      "Epoch [59/100] Loss: 0.5122\n",
      "Epoch [59/100] Loss: 0.4902\n",
      "Epoch [59/100] Loss: 0.4031\n",
      "Epoch [59/100] Loss: 0.4593\n",
      "Epoch [59/100] Loss: 0.5166\n",
      "Epoch [59/100] Loss: 0.4819\n",
      "Epoch [59/100] Loss: 0.5451\n",
      "Epoch [59/100] Loss: 0.4773\n"
     ]
    },
    {
     "name": "stderr",
     "output_type": "stream",
     "text": [
      "218it [00:57,  3.82it/s]"
     ]
    },
    {
     "name": "stdout",
     "output_type": "stream",
     "text": [
      "Overall Acc: \t 0.561746931941\n",
      "Mean Acc : \t 0.421800783699\n",
      "FreqW Acc : \t 0.392930044223\n",
      "Mean IoU : \t 0.30657695208\n"
     ]
    },
    {
     "name": "stderr",
     "output_type": "stream",
     "text": [
      "\n"
     ]
    },
    {
     "name": "stdout",
     "output_type": "stream",
     "text": [
      "Epoch [60/100] Loss: 0.3545\n",
      "Epoch [60/100] Loss: 0.3756\n",
      "Epoch [60/100] Loss: 0.4911\n",
      "Epoch [60/100] Loss: 0.5643\n",
      "Epoch [60/100] Loss: 0.5985\n",
      "Epoch [60/100] Loss: 0.4106\n",
      "Epoch [60/100] Loss: 0.2958\n",
      "Epoch [60/100] Loss: 0.4897\n",
      "Epoch [60/100] Loss: 0.4394\n",
      "Epoch [60/100] Loss: 0.3338\n",
      "Epoch [60/100] Loss: 0.5733\n",
      "Epoch [60/100] Loss: 0.4293\n",
      "Epoch [60/100] Loss: 0.5476\n"
     ]
    },
    {
     "name": "stderr",
     "output_type": "stream",
     "text": [
      "218it [00:56,  3.83it/s]"
     ]
    },
    {
     "name": "stdout",
     "output_type": "stream",
     "text": [
      "Overall Acc: \t 0.557277749904\n",
      "Mean Acc : \t 0.410167627926\n",
      "FreqW Acc : \t 0.391168440211\n",
      "Mean IoU : \t 0.300279761937\n"
     ]
    },
    {
     "name": "stderr",
     "output_type": "stream",
     "text": [
      "\n"
     ]
    },
    {
     "name": "stdout",
     "output_type": "stream",
     "text": [
      "Epoch [61/100] Loss: 0.4128\n",
      "Epoch [61/100] Loss: 0.5013\n",
      "Epoch [61/100] Loss: 0.3444\n",
      "Epoch [61/100] Loss: 0.5456\n",
      "Epoch [61/100] Loss: 0.5174\n",
      "Epoch [61/100] Loss: 0.4451\n",
      "Epoch [61/100] Loss: 0.4597\n",
      "Epoch [61/100] Loss: 0.5171\n",
      "Epoch [61/100] Loss: 0.4889\n",
      "Epoch [61/100] Loss: 0.4997\n",
      "Epoch [61/100] Loss: 0.5492\n",
      "Epoch [61/100] Loss: 0.4042\n",
      "Epoch [61/100] Loss: 0.4749\n"
     ]
    },
    {
     "name": "stderr",
     "output_type": "stream",
     "text": [
      "218it [00:56,  3.84it/s]"
     ]
    },
    {
     "name": "stdout",
     "output_type": "stream",
     "text": [
      "Overall Acc: \t 0.561686645881\n",
      "Mean Acc : \t 0.414706526268\n",
      "FreqW Acc : \t 0.398222653431\n",
      "Mean IoU : \t 0.302525093382\n"
     ]
    },
    {
     "name": "stderr",
     "output_type": "stream",
     "text": [
      "\n"
     ]
    },
    {
     "name": "stdout",
     "output_type": "stream",
     "text": [
      "Epoch [62/100] Loss: 0.5335\n",
      "Epoch [62/100] Loss: 0.4552\n",
      "Epoch [62/100] Loss: 0.4274\n",
      "Epoch [62/100] Loss: 0.5240\n",
      "Epoch [62/100] Loss: 0.3618\n",
      "Epoch [62/100] Loss: 0.5208\n",
      "Epoch [62/100] Loss: 0.4620\n",
      "Epoch [62/100] Loss: 0.5598\n",
      "Epoch [62/100] Loss: 0.5308\n",
      "Epoch [62/100] Loss: 0.4611\n",
      "Epoch [62/100] Loss: 0.4453\n",
      "Epoch [62/100] Loss: 0.3970\n",
      "Epoch [62/100] Loss: 0.4133\n"
     ]
    },
    {
     "name": "stderr",
     "output_type": "stream",
     "text": [
      "218it [00:56,  3.83it/s]"
     ]
    },
    {
     "name": "stdout",
     "output_type": "stream",
     "text": [
      "Overall Acc: \t 0.560753610593\n",
      "Mean Acc : \t 0.413496668181\n",
      "FreqW Acc : \t 0.3899940204\n",
      "Mean IoU : \t 0.298246752882\n"
     ]
    },
    {
     "name": "stderr",
     "output_type": "stream",
     "text": [
      "\n"
     ]
    },
    {
     "name": "stdout",
     "output_type": "stream",
     "text": [
      "Epoch [63/100] Loss: 0.4145\n",
      "Epoch [63/100] Loss: 0.4786\n",
      "Epoch [63/100] Loss: 0.4750\n",
      "Epoch [63/100] Loss: 0.5590\n",
      "Epoch [63/100] Loss: 0.4074\n",
      "Epoch [63/100] Loss: 0.4315\n",
      "Epoch [63/100] Loss: 0.4206\n",
      "Epoch [63/100] Loss: 0.4597\n",
      "Epoch [63/100] Loss: 0.6009\n",
      "Epoch [63/100] Loss: 0.5279\n",
      "Epoch [63/100] Loss: 0.3516\n",
      "Epoch [63/100] Loss: 0.4127\n",
      "Epoch [63/100] Loss: 0.5220\n"
     ]
    },
    {
     "name": "stderr",
     "output_type": "stream",
     "text": [
      "218it [00:56,  3.83it/s]"
     ]
    },
    {
     "name": "stdout",
     "output_type": "stream",
     "text": [
      "Overall Acc: \t 0.564975720327\n",
      "Mean Acc : \t 0.422524199831\n",
      "FreqW Acc : \t 0.393831547841\n",
      "Mean IoU : \t 0.305502106599\n"
     ]
    },
    {
     "name": "stderr",
     "output_type": "stream",
     "text": [
      "\n"
     ]
    },
    {
     "name": "stdout",
     "output_type": "stream",
     "text": [
      "Epoch [64/100] Loss: 0.4331\n",
      "Epoch [64/100] Loss: 0.4737\n",
      "Epoch [64/100] Loss: 0.4289\n",
      "Epoch [64/100] Loss: 0.4514\n",
      "Epoch [64/100] Loss: 0.4272\n",
      "Epoch [64/100] Loss: 0.6822\n",
      "Epoch [64/100] Loss: 0.4689\n",
      "Epoch [64/100] Loss: 0.2963\n",
      "Epoch [64/100] Loss: 0.4673\n",
      "Epoch [64/100] Loss: 0.3987\n",
      "Epoch [64/100] Loss: 0.5230\n",
      "Epoch [64/100] Loss: 0.4964\n",
      "Epoch [64/100] Loss: 0.4518\n"
     ]
    },
    {
     "name": "stderr",
     "output_type": "stream",
     "text": [
      "218it [00:56,  3.83it/s]"
     ]
    },
    {
     "name": "stdout",
     "output_type": "stream",
     "text": [
      "Overall Acc: \t 0.563888664907\n",
      "Mean Acc : \t 0.413309443636\n",
      "FreqW Acc : \t 0.395110788789\n",
      "Mean IoU : \t 0.30232634982\n"
     ]
    },
    {
     "name": "stderr",
     "output_type": "stream",
     "text": [
      "\n"
     ]
    },
    {
     "name": "stdout",
     "output_type": "stream",
     "text": [
      "Epoch [65/100] Loss: 0.4110\n",
      "Epoch [65/100] Loss: 0.3956\n",
      "Epoch [65/100] Loss: 0.3706\n",
      "Epoch [65/100] Loss: 0.4229\n",
      "Epoch [65/100] Loss: 0.3985\n",
      "Epoch [65/100] Loss: 0.4555\n",
      "Epoch [65/100] Loss: 0.5579\n",
      "Epoch [65/100] Loss: 0.5799\n",
      "Epoch [65/100] Loss: 0.4050\n",
      "Epoch [65/100] Loss: 0.5308\n",
      "Epoch [65/100] Loss: 0.4490\n",
      "Epoch [65/100] Loss: 0.3032\n",
      "Epoch [65/100] Loss: 0.3571\n"
     ]
    },
    {
     "name": "stderr",
     "output_type": "stream",
     "text": [
      "218it [00:56,  3.84it/s]"
     ]
    },
    {
     "name": "stdout",
     "output_type": "stream",
     "text": [
      "Overall Acc: \t 0.560720053079\n",
      "Mean Acc : \t 0.404862371864\n",
      "FreqW Acc : \t 0.391236342534\n",
      "Mean IoU : \t 0.301975445436\n"
     ]
    },
    {
     "name": "stderr",
     "output_type": "stream",
     "text": [
      "\n"
     ]
    },
    {
     "name": "stdout",
     "output_type": "stream",
     "text": [
      "Epoch [66/100] Loss: 0.3623\n",
      "Epoch [66/100] Loss: 0.5171\n",
      "Epoch [66/100] Loss: 0.5291\n",
      "Epoch [66/100] Loss: 0.4556\n",
      "Epoch [66/100] Loss: 0.4276\n",
      "Epoch [66/100] Loss: 0.4215\n",
      "Epoch [66/100] Loss: 0.4367\n",
      "Epoch [66/100] Loss: 0.3658\n",
      "Epoch [66/100] Loss: 0.4771\n",
      "Epoch [66/100] Loss: 0.4561\n",
      "Epoch [66/100] Loss: 0.4575\n",
      "Epoch [66/100] Loss: 0.4680\n",
      "Epoch [66/100] Loss: 0.3860\n"
     ]
    },
    {
     "name": "stderr",
     "output_type": "stream",
     "text": [
      "218it [00:56,  3.84it/s]"
     ]
    },
    {
     "name": "stdout",
     "output_type": "stream",
     "text": [
      "Overall Acc: \t 0.556894725368\n",
      "Mean Acc : \t 0.420187161421\n",
      "FreqW Acc : \t 0.389076950946\n",
      "Mean IoU : \t 0.305621494802\n"
     ]
    },
    {
     "name": "stderr",
     "output_type": "stream",
     "text": [
      "\n"
     ]
    },
    {
     "name": "stdout",
     "output_type": "stream",
     "text": [
      "Epoch [67/100] Loss: 0.5417\n",
      "Epoch [67/100] Loss: 0.4402\n",
      "Epoch [67/100] Loss: 0.5462\n",
      "Epoch [67/100] Loss: 0.4482\n",
      "Epoch [67/100] Loss: 0.4641\n",
      "Epoch [67/100] Loss: 0.5268\n",
      "Epoch [67/100] Loss: 0.5197\n",
      "Epoch [67/100] Loss: 0.2901\n",
      "Epoch [67/100] Loss: 0.5136\n",
      "Epoch [67/100] Loss: 0.5129\n",
      "Epoch [67/100] Loss: 0.5875\n",
      "Epoch [67/100] Loss: 0.5496\n",
      "Epoch [67/100] Loss: 0.3174\n"
     ]
    },
    {
     "name": "stderr",
     "output_type": "stream",
     "text": [
      "218it [00:57,  3.82it/s]"
     ]
    },
    {
     "name": "stdout",
     "output_type": "stream",
     "text": [
      "Overall Acc: \t 0.567578463462\n",
      "Mean Acc : \t 0.431992300772\n",
      "FreqW Acc : \t 0.396623239362\n",
      "Mean IoU : \t 0.316318814731\n"
     ]
    },
    {
     "name": "stderr",
     "output_type": "stream",
     "text": [
      "\n"
     ]
    },
    {
     "name": "stdout",
     "output_type": "stream",
     "text": [
      "Epoch [68/100] Loss: 0.4345\n",
      "Epoch [68/100] Loss: 0.4721\n",
      "Epoch [68/100] Loss: 0.3865\n",
      "Epoch [68/100] Loss: 0.4311\n",
      "Epoch [68/100] Loss: 0.4156\n",
      "Epoch [68/100] Loss: 0.4657\n",
      "Epoch [68/100] Loss: 0.4430\n",
      "Epoch [68/100] Loss: 0.3772\n",
      "Epoch [68/100] Loss: 0.4629\n",
      "Epoch [68/100] Loss: 0.4331\n",
      "Epoch [68/100] Loss: 0.2865\n",
      "Epoch [68/100] Loss: 0.5336\n",
      "Epoch [68/100] Loss: 0.5313\n"
     ]
    },
    {
     "name": "stderr",
     "output_type": "stream",
     "text": [
      "218it [00:57,  3.81it/s]"
     ]
    },
    {
     "name": "stdout",
     "output_type": "stream",
     "text": [
      "Overall Acc: \t 0.560585534332\n",
      "Mean Acc : \t 0.411455188693\n",
      "FreqW Acc : \t 0.398079748134\n",
      "Mean IoU : \t 0.304430289656\n"
     ]
    },
    {
     "name": "stderr",
     "output_type": "stream",
     "text": [
      "\n"
     ]
    },
    {
     "name": "stdout",
     "output_type": "stream",
     "text": [
      "Epoch [69/100] Loss: 0.3202\n",
      "Epoch [69/100] Loss: 0.4257\n",
      "Epoch [69/100] Loss: 0.5833\n",
      "Epoch [69/100] Loss: 0.4944\n",
      "Epoch [69/100] Loss: 0.6270\n",
      "Epoch [69/100] Loss: 0.4281\n",
      "Epoch [69/100] Loss: 0.3501\n",
      "Epoch [69/100] Loss: 0.4257\n",
      "Epoch [69/100] Loss: 0.4570\n",
      "Epoch [69/100] Loss: 0.3706\n",
      "Epoch [69/100] Loss: 0.4677\n",
      "Epoch [69/100] Loss: 0.4913\n",
      "Epoch [69/100] Loss: 0.3078\n"
     ]
    },
    {
     "name": "stderr",
     "output_type": "stream",
     "text": [
      "218it [00:57,  3.82it/s]"
     ]
    },
    {
     "name": "stdout",
     "output_type": "stream",
     "text": [
      "Overall Acc: \t 0.565283392266\n",
      "Mean Acc : \t 0.420870159686\n",
      "FreqW Acc : \t 0.395829991595\n",
      "Mean IoU : \t 0.309180181045\n"
     ]
    },
    {
     "name": "stderr",
     "output_type": "stream",
     "text": [
      "\n"
     ]
    },
    {
     "name": "stdout",
     "output_type": "stream",
     "text": [
      "Epoch [70/100] Loss: 0.3333\n",
      "Epoch [70/100] Loss: 0.4410\n",
      "Epoch [70/100] Loss: 0.3310\n",
      "Epoch [70/100] Loss: 0.4881\n",
      "Epoch [70/100] Loss: 0.5499\n",
      "Epoch [70/100] Loss: 0.4557\n",
      "Epoch [70/100] Loss: 0.4154\n",
      "Epoch [70/100] Loss: 0.3853\n",
      "Epoch [70/100] Loss: 0.5029\n",
      "Epoch [70/100] Loss: 0.6025\n",
      "Epoch [70/100] Loss: 0.5723\n",
      "Epoch [70/100] Loss: 0.3048\n",
      "Epoch [70/100] Loss: 0.5049\n"
     ]
    },
    {
     "name": "stderr",
     "output_type": "stream",
     "text": [
      "218it [00:57,  3.76it/s]"
     ]
    },
    {
     "name": "stdout",
     "output_type": "stream",
     "text": [
      "Overall Acc: \t 0.559581631068\n",
      "Mean Acc : \t 0.403141787064\n",
      "FreqW Acc : \t 0.387640696945\n",
      "Mean IoU : \t 0.294079358881\n"
     ]
    },
    {
     "name": "stderr",
     "output_type": "stream",
     "text": [
      "\n"
     ]
    },
    {
     "name": "stdout",
     "output_type": "stream",
     "text": [
      "Epoch [71/100] Loss: 0.3286\n",
      "Epoch [71/100] Loss: 0.3811\n",
      "Epoch [71/100] Loss: 0.4403\n",
      "Epoch [71/100] Loss: 0.4207\n",
      "Epoch [71/100] Loss: 0.3433\n",
      "Epoch [71/100] Loss: 0.3925\n",
      "Epoch [71/100] Loss: 0.4270\n",
      "Epoch [71/100] Loss: 0.5144\n",
      "Epoch [71/100] Loss: 0.4150\n",
      "Epoch [71/100] Loss: 0.4927\n",
      "Epoch [71/100] Loss: 0.4513\n",
      "Epoch [71/100] Loss: 0.3141\n",
      "Epoch [71/100] Loss: 0.3867\n"
     ]
    },
    {
     "name": "stderr",
     "output_type": "stream",
     "text": [
      "218it [00:56,  3.84it/s]"
     ]
    },
    {
     "name": "stdout",
     "output_type": "stream",
     "text": [
      "Overall Acc: \t 0.563132555667\n",
      "Mean Acc : \t 0.413662958496\n",
      "FreqW Acc : \t 0.399534216397\n",
      "Mean IoU : \t 0.308303132765\n"
     ]
    },
    {
     "name": "stderr",
     "output_type": "stream",
     "text": [
      "\n"
     ]
    },
    {
     "name": "stdout",
     "output_type": "stream",
     "text": [
      "Epoch [72/100] Loss: 0.3481\n",
      "Epoch [72/100] Loss: 0.3691\n",
      "Epoch [72/100] Loss: 0.4918\n",
      "Epoch [72/100] Loss: 0.3794\n",
      "Epoch [72/100] Loss: 0.3822\n",
      "Epoch [72/100] Loss: 0.4921\n",
      "Epoch [72/100] Loss: 0.3931\n",
      "Epoch [72/100] Loss: 0.5085\n",
      "Epoch [72/100] Loss: 0.4842\n",
      "Epoch [72/100] Loss: 0.3681\n",
      "Epoch [72/100] Loss: 0.4445\n",
      "Epoch [72/100] Loss: 0.4440\n",
      "Epoch [72/100] Loss: 0.5705\n"
     ]
    },
    {
     "name": "stderr",
     "output_type": "stream",
     "text": [
      "218it [00:57,  3.82it/s]"
     ]
    },
    {
     "name": "stdout",
     "output_type": "stream",
     "text": [
      "Overall Acc: \t 0.570248331581\n",
      "Mean Acc : \t 0.427329348348\n",
      "FreqW Acc : \t 0.403845894685\n",
      "Mean IoU : \t 0.314113650878\n"
     ]
    },
    {
     "name": "stderr",
     "output_type": "stream",
     "text": [
      "\n"
     ]
    },
    {
     "name": "stdout",
     "output_type": "stream",
     "text": [
      "Epoch [73/100] Loss: 0.3771\n",
      "Epoch [73/100] Loss: 0.4645\n",
      "Epoch [73/100] Loss: 0.4378\n",
      "Epoch [73/100] Loss: 0.4006\n",
      "Epoch [73/100] Loss: 0.4222\n",
      "Epoch [73/100] Loss: 0.4383\n",
      "Epoch [73/100] Loss: 0.3285\n",
      "Epoch [73/100] Loss: 0.4553\n",
      "Epoch [73/100] Loss: 0.3481\n",
      "Epoch [73/100] Loss: 0.3536\n",
      "Epoch [73/100] Loss: 0.4612\n",
      "Epoch [73/100] Loss: 0.4218\n",
      "Epoch [73/100] Loss: 0.2742\n"
     ]
    },
    {
     "name": "stderr",
     "output_type": "stream",
     "text": [
      "218it [00:56,  3.85it/s]"
     ]
    },
    {
     "name": "stdout",
     "output_type": "stream",
     "text": [
      "Overall Acc: \t 0.561315781091\n",
      "Mean Acc : \t 0.424804507153\n",
      "FreqW Acc : \t 0.395545384826\n",
      "Mean IoU : \t 0.309073828035\n"
     ]
    },
    {
     "name": "stderr",
     "output_type": "stream",
     "text": [
      "\n"
     ]
    },
    {
     "name": "stdout",
     "output_type": "stream",
     "text": [
      "Epoch [74/100] Loss: 0.3575\n",
      "Epoch [74/100] Loss: 0.3566\n",
      "Epoch [74/100] Loss: 0.3969\n",
      "Epoch [74/100] Loss: 0.2960\n",
      "Epoch [74/100] Loss: 0.2625\n",
      "Epoch [74/100] Loss: 0.4191\n",
      "Epoch [74/100] Loss: 0.3407\n",
      "Epoch [74/100] Loss: 0.4770\n",
      "Epoch [74/100] Loss: 0.3818\n",
      "Epoch [74/100] Loss: 0.4155\n",
      "Epoch [74/100] Loss: 0.6214\n",
      "Epoch [74/100] Loss: 0.4028\n",
      "Epoch [74/100] Loss: 0.3964\n"
     ]
    },
    {
     "name": "stderr",
     "output_type": "stream",
     "text": [
      "218it [00:56,  3.85it/s]"
     ]
    },
    {
     "name": "stdout",
     "output_type": "stream",
     "text": [
      "Overall Acc: \t 0.565917918976\n",
      "Mean Acc : \t 0.420856734655\n",
      "FreqW Acc : \t 0.396622581179\n",
      "Mean IoU : \t 0.309543215096\n"
     ]
    },
    {
     "name": "stderr",
     "output_type": "stream",
     "text": [
      "\n"
     ]
    },
    {
     "name": "stdout",
     "output_type": "stream",
     "text": [
      "Epoch [75/100] Loss: 0.5130\n",
      "Epoch [75/100] Loss: 0.4771\n",
      "Epoch [75/100] Loss: 0.4125\n",
      "Epoch [75/100] Loss: 0.3167\n",
      "Epoch [75/100] Loss: 0.5762\n",
      "Epoch [75/100] Loss: 0.3737\n",
      "Epoch [75/100] Loss: 0.5677\n",
      "Epoch [75/100] Loss: 0.4163\n",
      "Epoch [75/100] Loss: 0.4309\n",
      "Epoch [75/100] Loss: 0.4767\n",
      "Epoch [75/100] Loss: 0.4815\n",
      "Epoch [75/100] Loss: 0.4672\n",
      "Epoch [75/100] Loss: 0.3534\n"
     ]
    },
    {
     "name": "stderr",
     "output_type": "stream",
     "text": [
      "218it [00:56,  3.83it/s]"
     ]
    },
    {
     "name": "stdout",
     "output_type": "stream",
     "text": [
      "Overall Acc: \t 0.557238060254\n",
      "Mean Acc : \t 0.410311862264\n",
      "FreqW Acc : \t 0.388033376138\n",
      "Mean IoU : \t 0.295927098223\n"
     ]
    },
    {
     "name": "stderr",
     "output_type": "stream",
     "text": [
      "\n"
     ]
    },
    {
     "name": "stdout",
     "output_type": "stream",
     "text": [
      "Epoch [76/100] Loss: 0.4036\n",
      "Epoch [76/100] Loss: 0.4703\n",
      "Epoch [76/100] Loss: 0.5003\n",
      "Epoch [76/100] Loss: 0.3984\n",
      "Epoch [76/100] Loss: 0.4835\n",
      "Epoch [76/100] Loss: 0.4844\n",
      "Epoch [76/100] Loss: 0.4723\n",
      "Epoch [76/100] Loss: 0.5217\n",
      "Epoch [76/100] Loss: 0.4021\n",
      "Epoch [76/100] Loss: 0.4819\n",
      "Epoch [76/100] Loss: 0.4478\n",
      "Epoch [76/100] Loss: 0.4814\n",
      "Epoch [76/100] Loss: 0.4231\n"
     ]
    },
    {
     "name": "stderr",
     "output_type": "stream",
     "text": [
      "218it [00:56,  3.85it/s]"
     ]
    },
    {
     "name": "stdout",
     "output_type": "stream",
     "text": [
      "Overall Acc: \t 0.563162942589\n",
      "Mean Acc : \t 0.409398410961\n",
      "FreqW Acc : \t 0.391766781479\n",
      "Mean IoU : \t 0.30084319396\n"
     ]
    },
    {
     "name": "stderr",
     "output_type": "stream",
     "text": [
      "\n"
     ]
    },
    {
     "name": "stdout",
     "output_type": "stream",
     "text": [
      "Epoch [77/100] Loss: 0.3983\n",
      "Epoch [77/100] Loss: 0.4384\n",
      "Epoch [77/100] Loss: 0.4414\n",
      "Epoch [77/100] Loss: 0.6164\n",
      "Epoch [77/100] Loss: 0.3560\n",
      "Epoch [77/100] Loss: 0.3630\n",
      "Epoch [77/100] Loss: 0.4082\n",
      "Epoch [77/100] Loss: 0.2673\n",
      "Epoch [77/100] Loss: 0.2677\n",
      "Epoch [77/100] Loss: 0.4741\n",
      "Epoch [77/100] Loss: 0.5413\n",
      "Epoch [77/100] Loss: 0.4217\n",
      "Epoch [77/100] Loss: 0.4642\n"
     ]
    },
    {
     "name": "stderr",
     "output_type": "stream",
     "text": [
      "218it [00:56,  3.85it/s]"
     ]
    },
    {
     "name": "stdout",
     "output_type": "stream",
     "text": [
      "Overall Acc: \t 0.562804441617\n",
      "Mean Acc : \t 0.417150250662\n",
      "FreqW Acc : \t 0.398734314863\n",
      "Mean IoU : \t 0.310927377081\n"
     ]
    },
    {
     "name": "stderr",
     "output_type": "stream",
     "text": [
      "\n"
     ]
    },
    {
     "name": "stdout",
     "output_type": "stream",
     "text": [
      "Epoch [78/100] Loss: 0.4625\n",
      "Epoch [78/100] Loss: 0.3392\n",
      "Epoch [78/100] Loss: 0.4877\n",
      "Epoch [78/100] Loss: 0.3550\n",
      "Epoch [78/100] Loss: 0.4003\n",
      "Epoch [78/100] Loss: 0.4511\n",
      "Epoch [78/100] Loss: 0.4285\n",
      "Epoch [78/100] Loss: 0.4984\n",
      "Epoch [78/100] Loss: 0.3928\n",
      "Epoch [78/100] Loss: 0.4078\n",
      "Epoch [78/100] Loss: 0.5769\n",
      "Epoch [78/100] Loss: 0.6380\n",
      "Epoch [78/100] Loss: 0.4050\n"
     ]
    },
    {
     "name": "stderr",
     "output_type": "stream",
     "text": [
      "218it [00:57,  3.79it/s]"
     ]
    },
    {
     "name": "stdout",
     "output_type": "stream",
     "text": [
      "Overall Acc: \t 0.563576811966\n",
      "Mean Acc : \t 0.42759871534\n",
      "FreqW Acc : \t 0.392565253736\n",
      "Mean IoU : \t 0.311348409936\n"
     ]
    },
    {
     "name": "stderr",
     "output_type": "stream",
     "text": [
      "\n"
     ]
    },
    {
     "name": "stdout",
     "output_type": "stream",
     "text": [
      "Epoch [79/100] Loss: 0.4827\n",
      "Epoch [79/100] Loss: 0.3836\n",
      "Epoch [79/100] Loss: 0.3933\n",
      "Epoch [79/100] Loss: 0.3977\n",
      "Epoch [79/100] Loss: 0.3896\n",
      "Epoch [79/100] Loss: 0.4221\n",
      "Epoch [79/100] Loss: 0.4339\n",
      "Epoch [79/100] Loss: 0.6738\n",
      "Epoch [79/100] Loss: 0.4780\n",
      "Epoch [79/100] Loss: 0.4692\n",
      "Epoch [79/100] Loss: 0.3910\n",
      "Epoch [79/100] Loss: 0.4298\n",
      "Epoch [79/100] Loss: 0.4015\n"
     ]
    },
    {
     "name": "stderr",
     "output_type": "stream",
     "text": [
      "218it [00:57,  3.79it/s]"
     ]
    },
    {
     "name": "stdout",
     "output_type": "stream",
     "text": [
      "Overall Acc: \t 0.570327083732\n",
      "Mean Acc : \t 0.433058463473\n",
      "FreqW Acc : \t 0.40437377702\n",
      "Mean IoU : \t 0.317697932096\n"
     ]
    },
    {
     "name": "stderr",
     "output_type": "stream",
     "text": [
      "\n"
     ]
    },
    {
     "name": "stdout",
     "output_type": "stream",
     "text": [
      "Epoch [80/100] Loss: 0.3691\n",
      "Epoch [80/100] Loss: 0.3471\n",
      "Epoch [80/100] Loss: 0.3631\n",
      "Epoch [80/100] Loss: 0.5127\n",
      "Epoch [80/100] Loss: 0.4755\n",
      "Epoch [80/100] Loss: 0.4541\n",
      "Epoch [80/100] Loss: 0.4942\n",
      "Epoch [80/100] Loss: 0.3299\n",
      "Epoch [80/100] Loss: 0.3197\n",
      "Epoch [80/100] Loss: 0.3025\n",
      "Epoch [80/100] Loss: 0.4563\n",
      "Epoch [80/100] Loss: 0.3873\n",
      "Epoch [80/100] Loss: 0.3053\n"
     ]
    },
    {
     "name": "stderr",
     "output_type": "stream",
     "text": [
      "218it [00:57,  3.79it/s]"
     ]
    },
    {
     "name": "stdout",
     "output_type": "stream",
     "text": [
      "Overall Acc: \t 0.561818198108\n",
      "Mean Acc : \t 0.412267550007\n",
      "FreqW Acc : \t 0.393641189313\n",
      "Mean IoU : \t 0.305329852221\n"
     ]
    },
    {
     "name": "stderr",
     "output_type": "stream",
     "text": [
      "\n"
     ]
    },
    {
     "name": "stdout",
     "output_type": "stream",
     "text": [
      "Epoch [81/100] Loss: 0.3741\n",
      "Epoch [81/100] Loss: 0.3144\n",
      "Epoch [81/100] Loss: 0.3247\n",
      "Epoch [81/100] Loss: 0.4438\n",
      "Epoch [81/100] Loss: 0.3663\n",
      "Epoch [81/100] Loss: 0.4267\n",
      "Epoch [81/100] Loss: 0.5779\n",
      "Epoch [81/100] Loss: 0.3263\n",
      "Epoch [81/100] Loss: 0.4116\n",
      "Epoch [81/100] Loss: 0.5134\n",
      "Epoch [81/100] Loss: 0.4650\n",
      "Epoch [81/100] Loss: 0.4044\n",
      "Epoch [81/100] Loss: 0.4760\n"
     ]
    },
    {
     "name": "stderr",
     "output_type": "stream",
     "text": [
      "56it [00:15,  3.67it/s]"
     ]
    }
   ],
   "source": [
    "training(args)"
   ]
  },
  {
   "cell_type": "code",
   "execution_count": null,
   "metadata": {},
   "outputs": [],
   "source": []
  }
 ],
 "metadata": {
  "kernelspec": {
   "display_name": "Python [conda env:pytorch]",
   "language": "python",
   "name": "conda-env-pytorch-py"
  },
  "language_info": {
   "codemirror_mode": {
    "name": "ipython",
    "version": 3
   },
   "file_extension": ".py",
   "mimetype": "text/x-python",
   "name": "python",
   "nbconvert_exporter": "python",
   "pygments_lexer": "ipython3",
   "version": "3.6.3"
  }
 },
 "nbformat": 4,
 "nbformat_minor": 2
}
