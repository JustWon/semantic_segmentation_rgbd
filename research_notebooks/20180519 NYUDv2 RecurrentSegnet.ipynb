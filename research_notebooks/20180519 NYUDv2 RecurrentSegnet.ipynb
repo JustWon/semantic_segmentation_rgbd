{
 "cells": [
  {
   "cell_type": "code",
   "execution_count": 1,
   "metadata": {},
   "outputs": [],
   "source": [
    "%matplotlib inline\n",
    "import os\n",
    "import collections\n",
    "import torch\n",
    "import torchvision\n",
    "import numpy as np\n",
    "import scipy.misc as m\n",
    "import scipy.io as io\n",
    "import matplotlib.pyplot as plt\n",
    "\n",
    "from NYUDv2Loader import *\n",
    "\n",
    "os.environ['CUDA_VISIBLE_DEVICES'] = '2'\n",
    "data_path = '/home/dongwonshin/Desktop/Datasets/NYUDv2/'\n",
    "arg_string = '--arch RecurrentSegnet --batch_size 3 --n_epoch 50'"
   ]
  },
  {
   "cell_type": "markdown",
   "metadata": {},
   "source": [
    "# Argument setting"
   ]
  },
  {
   "cell_type": "code",
   "execution_count": 2,
   "metadata": {},
   "outputs": [],
   "source": [
    "import sys, os\n",
    "import torch\n",
    "import visdom\n",
    "import argparse\n",
    "import numpy as np\n",
    "import torch.nn as nn\n",
    "import torch.nn.functional as F\n",
    "import torchvision.models as models\n",
    "\n",
    "from torch.autograd import Variable\n",
    "from torch.utils import data\n",
    "from tqdm import tqdm\n",
    "\n",
    "from ptsemseg.models import get_model\n",
    "from ptsemseg.loader import get_loader, get_data_path\n",
    "from ptsemseg.metrics import runningScore\n",
    "from ptsemseg.loss import *\n",
    "from ptsemseg.augmentations import *\n",
    "\n",
    "\n",
    "parser = argparse.ArgumentParser(description='Hyperparams')\n",
    "parser.add_argument('--arch', nargs='?', type=str, default='fcn8s', help='Architecture to use [\\'fcn8s, unet, segnet etc\\']')\n",
    "parser.add_argument('--img_rows', nargs='?', type=int, default=256, help='Height of the input image')\n",
    "parser.add_argument('--img_cols', nargs='?', type=int, default=256, help='Width of the input image')\n",
    "\n",
    "parser.add_argument('--img_norm', dest='img_norm', action='store_true', help='Enable input image scales normalization [0, 1] | True by default')\n",
    "parser.add_argument('--no-img_norm', dest='img_norm', action='store_false', help='Disable input image scales normalization [0, 1] | True by default')\n",
    "parser.set_defaults(img_norm=True)\n",
    "\n",
    "parser.add_argument('--n_epoch', nargs='?', type=int, default=10, help='# of the epochs')\n",
    "parser.add_argument('--batch_size', nargs='?', type=int, default=1, help='Batch Size')\n",
    "parser.add_argument('--l_rate', nargs='?', type=float, default=1e-5, help='Learning Rate')\n",
    "parser.add_argument('--feature_scale', nargs='?', type=int, default=1, help='Divider for # of features to use')\n",
    "parser.add_argument('--resume', nargs='?', type=str, default=None, help='Path to previous saved model to restart from')\n",
    "\n",
    "parser.add_argument('--visdom', dest='visdom', action='store_true', help='Enable visualization(s) on visdom | False by default')\n",
    "parser.add_argument('--no-visdom', dest='visdom', action='store_false', help='Disable visualization(s) on visdom | False by default')\n",
    "parser.set_defaults(visdom=False)"
   ]
  },
  {
   "cell_type": "markdown",
   "metadata": {},
   "source": [
    "# Model init"
   ]
  },
  {
   "cell_type": "code",
   "execution_count": 3,
   "metadata": {},
   "outputs": [],
   "source": [
    "args = parser.parse_args(arg_string.split(' '))\n",
    "\n",
    "# Setup Dataloader\n",
    "t_loader = NYUDv2Loader(data_path, is_transform=True)\n",
    "v_loader = NYUDv2Loader(data_path, is_transform=True, split='val')\n",
    "\n",
    "n_classes = t_loader.n_classes\n",
    "trainloader = data.DataLoader(t_loader, batch_size=args.batch_size, num_workers=16, shuffle=True)\n",
    "valloader = data.DataLoader(v_loader, batch_size=args.batch_size, num_workers=16)\n",
    "\n",
    "# Setup Metrics\n",
    "running_metrics = runningScore(n_classes)\n",
    "\n",
    "# Setup visdom for visualization\n",
    "if args.visdom:\n",
    "    vis = visdom.Visdom()\n",
    "\n",
    "    loss_window = vis.line(X=torch.zeros((1,)).cpu(),\n",
    "                       Y=torch.zeros((1)).cpu(),\n",
    "                       opts=dict(xlabel='minibatches',\n",
    "                                 ylabel='Loss',\n",
    "                                 title='Training Loss',\n",
    "                                 legend=['Loss']))\n",
    "\n",
    "# Setup Model\n",
    "model = get_model(args.arch, n_classes)\n",
    "\n",
    "model = torch.nn.DataParallel(model, device_ids=range(torch.cuda.device_count()))\n",
    "model.cuda()\n",
    "\n",
    "# Check if model has custom optimizer / loss\n",
    "if hasattr(model.module, 'optimizer'):\n",
    "    optimizer = model.module.optimizer\n",
    "else:\n",
    "    optimizer = torch.optim.SGD(model.parameters(), lr=args.l_rate, momentum=0.99, weight_decay=5e-4)\n",
    "\n",
    "if hasattr(model.module, 'loss'):\n",
    "    print('Using custom loss')\n",
    "    loss_fn = model.module.loss\n",
    "else:\n",
    "    loss_fn = cross_entropy2d\n",
    "\n",
    "if args.resume is not None:                                         \n",
    "    if os.path.isfile(args.resume):\n",
    "        print(\"Loading model and optimizer from checkpoint '{}'\".format(args.resume))\n",
    "        checkpoint = torch.load(args.resume)\n",
    "        model.load_state_dict(checkpoint['model_state'])\n",
    "        optimizer.load_state_dict(checkpoint['optimizer_state'])\n",
    "        print(\"Loaded checkpoint '{}' (epoch {})\"                    \n",
    "              .format(args.resume, checkpoint['epoch']))\n",
    "    else:\n",
    "        print(\"No checkpoint found at '{}'\".format(args.resume)) \n"
   ]
  },
  {
   "cell_type": "markdown",
   "metadata": {},
   "source": [
    "# Training"
   ]
  },
  {
   "cell_type": "code",
   "execution_count": null,
   "metadata": {},
   "outputs": [
    {
     "name": "stdout",
     "output_type": "stream",
     "text": [
      "Epoch [1/50] Loss: 2.6149\n",
      "Epoch [1/50] Loss: 2.6544\n"
     ]
    },
    {
     "name": "stderr",
     "output_type": "stream",
     "text": [
      "218it [00:29,  7.42it/s]\n"
     ]
    },
    {
     "name": "stdout",
     "output_type": "stream",
     "text": [
      "Overall Acc: \t 0.156668189746\n",
      "Mean Acc : \t 0.084685320527\n",
      "FreqW Acc : \t 0.0870345832956\n",
      "Mean IoU : \t 0.0408465968271\n",
      "Epoch [2/50] Loss: 2.5172\n",
      "Epoch [2/50] Loss: 2.5271\n"
     ]
    },
    {
     "name": "stderr",
     "output_type": "stream",
     "text": [
      "218it [00:29,  7.36it/s]\n"
     ]
    },
    {
     "name": "stdout",
     "output_type": "stream",
     "text": [
      "Overall Acc: \t 0.216477660511\n",
      "Mean Acc : \t 0.0970628441916\n",
      "FreqW Acc : \t 0.108996780255\n",
      "Mean IoU : \t 0.0466214067866\n",
      "Epoch [3/50] Loss: 2.4958\n",
      "Epoch [3/50] Loss: 2.5207\n"
     ]
    },
    {
     "name": "stderr",
     "output_type": "stream",
     "text": [
      "218it [00:29,  7.32it/s]\n"
     ]
    },
    {
     "name": "stdout",
     "output_type": "stream",
     "text": [
      "Overall Acc: \t 0.222765936584\n",
      "Mean Acc : \t 0.103240601082\n",
      "FreqW Acc : \t 0.12075845367\n",
      "Mean IoU : \t 0.0515171132422\n",
      "Epoch [4/50] Loss: 2.3988\n",
      "Epoch [4/50] Loss: 2.5458\n"
     ]
    },
    {
     "name": "stderr",
     "output_type": "stream",
     "text": [
      "218it [00:29,  7.41it/s]\n"
     ]
    },
    {
     "name": "stdout",
     "output_type": "stream",
     "text": [
      "Overall Acc: \t 0.240141118756\n",
      "Mean Acc : \t 0.106871269097\n",
      "FreqW Acc : \t 0.126093210672\n",
      "Mean IoU : \t 0.0533969770104\n",
      "Epoch [5/50] Loss: 2.5315\n",
      "Epoch [5/50] Loss: 2.3755\n"
     ]
    },
    {
     "name": "stderr",
     "output_type": "stream",
     "text": [
      "218it [00:29,  7.39it/s]\n"
     ]
    },
    {
     "name": "stdout",
     "output_type": "stream",
     "text": [
      "Overall Acc: \t 0.255875740635\n",
      "Mean Acc : \t 0.11038296406\n",
      "FreqW Acc : \t 0.134783366964\n",
      "Mean IoU : \t 0.0565322457547\n",
      "Epoch [6/50] Loss: 2.4305\n",
      "Epoch [6/50] Loss: 2.3820\n"
     ]
    },
    {
     "name": "stderr",
     "output_type": "stream",
     "text": [
      "218it [00:29,  7.30it/s]\n"
     ]
    },
    {
     "name": "stdout",
     "output_type": "stream",
     "text": [
      "Overall Acc: \t 0.272727222501\n",
      "Mean Acc : \t 0.116720093746\n",
      "FreqW Acc : \t 0.150640191606\n",
      "Mean IoU : \t 0.0625050004202\n",
      "Epoch [7/50] Loss: 2.3109\n",
      "Epoch [7/50] Loss: 2.3057\n"
     ]
    },
    {
     "name": "stderr",
     "output_type": "stream",
     "text": [
      "218it [00:29,  7.34it/s]\n"
     ]
    },
    {
     "name": "stdout",
     "output_type": "stream",
     "text": [
      "Overall Acc: \t 0.294803124602\n",
      "Mean Acc : \t 0.124914397456\n",
      "FreqW Acc : \t 0.167470720906\n",
      "Mean IoU : \t 0.0687745847732\n",
      "Epoch [8/50] Loss: 2.4028\n",
      "Epoch [8/50] Loss: 2.2912\n"
     ]
    },
    {
     "name": "stderr",
     "output_type": "stream",
     "text": [
      "218it [00:29,  7.39it/s]\n"
     ]
    },
    {
     "name": "stdout",
     "output_type": "stream",
     "text": [
      "Overall Acc: \t 0.311159486294\n",
      "Mean Acc : \t 0.130466031518\n",
      "FreqW Acc : \t 0.177392143471\n",
      "Mean IoU : \t 0.0725482976044\n",
      "Epoch [9/50] Loss: 2.3859\n",
      "Epoch [9/50] Loss: 2.3991\n"
     ]
    },
    {
     "name": "stderr",
     "output_type": "stream",
     "text": [
      "218it [00:29,  7.32it/s]\n"
     ]
    },
    {
     "name": "stdout",
     "output_type": "stream",
     "text": [
      "Overall Acc: \t 0.317765782285\n",
      "Mean Acc : \t 0.132250390673\n",
      "FreqW Acc : \t 0.179885341888\n",
      "Mean IoU : \t 0.0734542672947\n",
      "Epoch [10/50] Loss: 2.2707\n",
      "Epoch [10/50] Loss: 2.1223\n"
     ]
    },
    {
     "name": "stderr",
     "output_type": "stream",
     "text": [
      "218it [00:29,  7.37it/s]\n"
     ]
    },
    {
     "name": "stdout",
     "output_type": "stream",
     "text": [
      "Overall Acc: \t 0.321658414166\n",
      "Mean Acc : \t 0.133818033038\n",
      "FreqW Acc : \t 0.183737602849\n",
      "Mean IoU : \t 0.0751050272023\n",
      "Epoch [11/50] Loss: 2.0392\n",
      "Epoch [11/50] Loss: 2.3097\n"
     ]
    },
    {
     "name": "stderr",
     "output_type": "stream",
     "text": [
      "218it [00:29,  7.37it/s]\n"
     ]
    },
    {
     "name": "stdout",
     "output_type": "stream",
     "text": [
      "Overall Acc: \t 0.326477227478\n",
      "Mean Acc : \t 0.134772115313\n",
      "FreqW Acc : \t 0.186729819388\n",
      "Mean IoU : \t 0.0760577136259\n",
      "Epoch [12/50] Loss: 2.2926\n",
      "Epoch [12/50] Loss: 2.3511\n"
     ]
    },
    {
     "name": "stderr",
     "output_type": "stream",
     "text": [
      "218it [00:29,  7.36it/s]\n"
     ]
    },
    {
     "name": "stdout",
     "output_type": "stream",
     "text": [
      "Overall Acc: \t 0.3321646787\n",
      "Mean Acc : \t 0.135707552712\n",
      "FreqW Acc : \t 0.186862562117\n",
      "Mean IoU : \t 0.0764688100716\n",
      "Epoch [13/50] Loss: 2.3254\n",
      "Epoch [13/50] Loss: 2.3199\n"
     ]
    },
    {
     "name": "stderr",
     "output_type": "stream",
     "text": [
      "218it [00:29,  7.40it/s]\n"
     ]
    },
    {
     "name": "stdout",
     "output_type": "stream",
     "text": [
      "Overall Acc: \t 0.336551430301\n",
      "Mean Acc : \t 0.139285299088\n",
      "FreqW Acc : \t 0.194510809498\n",
      "Mean IoU : \t 0.0796663851349\n",
      "Epoch [14/50] Loss: 2.1684\n",
      "Epoch [14/50] Loss: 2.2823\n"
     ]
    },
    {
     "name": "stderr",
     "output_type": "stream",
     "text": [
      "218it [00:29,  7.28it/s]\n"
     ]
    },
    {
     "name": "stdout",
     "output_type": "stream",
     "text": [
      "Overall Acc: \t 0.342568080642\n",
      "Mean Acc : \t 0.142637350207\n",
      "FreqW Acc : \t 0.197314288065\n",
      "Mean IoU : \t 0.081524338663\n",
      "Epoch [15/50] Loss: 2.1639\n",
      "Epoch [15/50] Loss: 2.3122\n"
     ]
    },
    {
     "name": "stderr",
     "output_type": "stream",
     "text": [
      "218it [00:29,  7.28it/s]\n"
     ]
    },
    {
     "name": "stdout",
     "output_type": "stream",
     "text": [
      "Overall Acc: \t 0.349571049153\n",
      "Mean Acc : \t 0.147296308964\n",
      "FreqW Acc : \t 0.206719290882\n",
      "Mean IoU : \t 0.0855897493619\n",
      "Epoch [16/50] Loss: 2.2830\n",
      "Epoch [16/50] Loss: 2.2703\n"
     ]
    },
    {
     "name": "stderr",
     "output_type": "stream",
     "text": [
      "218it [00:29,  7.32it/s]\n"
     ]
    },
    {
     "name": "stdout",
     "output_type": "stream",
     "text": [
      "Overall Acc: \t 0.357822743454\n",
      "Mean Acc : \t 0.151682934197\n",
      "FreqW Acc : \t 0.206334458541\n",
      "Mean IoU : \t 0.0868140974854\n",
      "Epoch [17/50] Loss: 2.1897\n",
      "Epoch [17/50] Loss: 1.9763\n"
     ]
    },
    {
     "name": "stderr",
     "output_type": "stream",
     "text": [
      "218it [00:29,  7.36it/s]\n"
     ]
    },
    {
     "name": "stdout",
     "output_type": "stream",
     "text": [
      "Overall Acc: \t 0.365943268787\n",
      "Mean Acc : \t 0.15676580047\n",
      "FreqW Acc : \t 0.211833583515\n",
      "Mean IoU : \t 0.0897685946988\n",
      "Epoch [18/50] Loss: 2.0034\n",
      "Epoch [18/50] Loss: 2.1121\n"
     ]
    },
    {
     "name": "stderr",
     "output_type": "stream",
     "text": [
      "218it [00:29,  7.28it/s]\n"
     ]
    },
    {
     "name": "stdout",
     "output_type": "stream",
     "text": [
      "Overall Acc: \t 0.372573744903\n",
      "Mean Acc : \t 0.16100103662\n",
      "FreqW Acc : \t 0.212265316486\n",
      "Mean IoU : \t 0.0909579400604\n",
      "Epoch [19/50] Loss: 1.8738\n",
      "Epoch [19/50] Loss: 2.2054\n"
     ]
    },
    {
     "name": "stderr",
     "output_type": "stream",
     "text": [
      "218it [00:29,  7.36it/s]\n"
     ]
    },
    {
     "name": "stdout",
     "output_type": "stream",
     "text": [
      "Overall Acc: \t 0.383880054034\n",
      "Mean Acc : \t 0.16669344854\n",
      "FreqW Acc : \t 0.219071474816\n",
      "Mean IoU : \t 0.0944927510152\n",
      "Epoch [20/50] Loss: 2.1757\n",
      "Epoch [20/50] Loss: 1.9657\n"
     ]
    },
    {
     "name": "stderr",
     "output_type": "stream",
     "text": [
      "218it [00:29,  7.35it/s]\n"
     ]
    },
    {
     "name": "stdout",
     "output_type": "stream",
     "text": [
      "Overall Acc: \t 0.387490144782\n",
      "Mean Acc : \t 0.168942902635\n",
      "FreqW Acc : \t 0.222691321448\n",
      "Mean IoU : \t 0.0964443410326\n",
      "Epoch [21/50] Loss: 2.2005\n",
      "Epoch [21/50] Loss: 1.9877\n"
     ]
    },
    {
     "name": "stderr",
     "output_type": "stream",
     "text": [
      "218it [00:29,  7.34it/s]\n"
     ]
    },
    {
     "name": "stdout",
     "output_type": "stream",
     "text": [
      "Overall Acc: \t 0.394108909117\n",
      "Mean Acc : \t 0.172052021729\n",
      "FreqW Acc : \t 0.22309946743\n",
      "Mean IoU : \t 0.0970372520763\n",
      "Epoch [22/50] Loss: 2.1816\n",
      "Epoch [22/50] Loss: 2.0314\n"
     ]
    },
    {
     "name": "stderr",
     "output_type": "stream",
     "text": [
      "218it [00:29,  7.31it/s]\n"
     ]
    },
    {
     "name": "stdout",
     "output_type": "stream",
     "text": [
      "Overall Acc: \t 0.39601263857\n",
      "Mean Acc : \t 0.173310641048\n",
      "FreqW Acc : \t 0.22683549146\n",
      "Mean IoU : \t 0.0981562496683\n",
      "Epoch [23/50] Loss: 1.9110\n",
      "Epoch [23/50] Loss: 2.1921\n"
     ]
    },
    {
     "name": "stderr",
     "output_type": "stream",
     "text": [
      "218it [00:29,  7.29it/s]\n"
     ]
    },
    {
     "name": "stdout",
     "output_type": "stream",
     "text": [
      "Overall Acc: \t 0.400059300538\n",
      "Mean Acc : \t 0.175050198145\n",
      "FreqW Acc : \t 0.22791763259\n",
      "Mean IoU : \t 0.099506719699\n",
      "Epoch [24/50] Loss: 2.1901\n",
      "Epoch [24/50] Loss: 2.0321\n"
     ]
    },
    {
     "name": "stderr",
     "output_type": "stream",
     "text": [
      "218it [00:29,  7.31it/s]\n"
     ]
    },
    {
     "name": "stdout",
     "output_type": "stream",
     "text": [
      "Overall Acc: \t 0.403579783464\n",
      "Mean Acc : \t 0.178847915621\n",
      "FreqW Acc : \t 0.235558741237\n",
      "Mean IoU : \t 0.102376315001\n",
      "Epoch [25/50] Loss: 1.9764\n",
      "Epoch [25/50] Loss: 2.0062\n"
     ]
    },
    {
     "name": "stderr",
     "output_type": "stream",
     "text": [
      "218it [00:29,  7.35it/s]"
     ]
    },
    {
     "name": "stdout",
     "output_type": "stream",
     "text": [
      "Overall Acc: \t 0.40788193449\n",
      "Mean Acc : \t 0.179319547305\n",
      "FreqW Acc : \t 0.233181687388\n",
      "Mean IoU : \t 0.101690514413\n"
     ]
    },
    {
     "name": "stderr",
     "output_type": "stream",
     "text": [
      "\n"
     ]
    },
    {
     "name": "stdout",
     "output_type": "stream",
     "text": [
      "Epoch [26/50] Loss: 1.8165\n",
      "Epoch [26/50] Loss: 2.3798\n"
     ]
    },
    {
     "name": "stderr",
     "output_type": "stream",
     "text": [
      "218it [00:29,  7.40it/s]\n"
     ]
    },
    {
     "name": "stdout",
     "output_type": "stream",
     "text": [
      "Overall Acc: \t 0.410613457449\n",
      "Mean Acc : \t 0.181818242739\n",
      "FreqW Acc : \t 0.238798237617\n",
      "Mean IoU : \t 0.104147148549\n",
      "Epoch [27/50] Loss: 2.1433\n",
      "Epoch [27/50] Loss: 1.8515\n"
     ]
    },
    {
     "name": "stderr",
     "output_type": "stream",
     "text": [
      "218it [00:29,  7.27it/s]"
     ]
    },
    {
     "name": "stdout",
     "output_type": "stream",
     "text": [
      "Overall Acc: \t 0.410929655645\n",
      "Mean Acc : \t 0.181600419686\n",
      "FreqW Acc : \t 0.237620539099\n",
      "Mean IoU : \t 0.10366585425\n"
     ]
    },
    {
     "name": "stderr",
     "output_type": "stream",
     "text": [
      "\n"
     ]
    },
    {
     "name": "stdout",
     "output_type": "stream",
     "text": [
      "Epoch [28/50] Loss: 1.7702\n",
      "Epoch [28/50] Loss: 1.7916\n"
     ]
    },
    {
     "name": "stderr",
     "output_type": "stream",
     "text": [
      "218it [00:30,  7.12it/s]\n"
     ]
    },
    {
     "name": "stdout",
     "output_type": "stream",
     "text": [
      "Overall Acc: \t 0.415438213757\n",
      "Mean Acc : \t 0.185304801159\n",
      "FreqW Acc : \t 0.242481519947\n",
      "Mean IoU : \t 0.106236526557\n",
      "Epoch [29/50] Loss: 1.9415\n",
      "Epoch [29/50] Loss: 1.8394\n"
     ]
    },
    {
     "name": "stderr",
     "output_type": "stream",
     "text": [
      "218it [00:29,  7.32it/s]"
     ]
    },
    {
     "name": "stdout",
     "output_type": "stream",
     "text": [
      "Overall Acc: \t 0.416164836981\n",
      "Mean Acc : \t 0.184382714763\n",
      "FreqW Acc : \t 0.241376106843\n",
      "Mean IoU : \t 0.105101995706\n"
     ]
    },
    {
     "name": "stderr",
     "output_type": "stream",
     "text": [
      "\n"
     ]
    },
    {
     "name": "stdout",
     "output_type": "stream",
     "text": [
      "Epoch [30/50] Loss: 1.6435\n",
      "Epoch [30/50] Loss: 1.9042\n"
     ]
    },
    {
     "name": "stderr",
     "output_type": "stream",
     "text": [
      "218it [00:29,  7.30it/s]\n"
     ]
    },
    {
     "name": "stdout",
     "output_type": "stream",
     "text": [
      "Overall Acc: \t 0.41818931774\n",
      "Mean Acc : \t 0.185195790058\n",
      "FreqW Acc : \t 0.243012366448\n",
      "Mean IoU : \t 0.106394917543\n",
      "Epoch [31/50] Loss: 2.1440\n",
      "Epoch [31/50] Loss: 2.0485\n"
     ]
    },
    {
     "name": "stderr",
     "output_type": "stream",
     "text": [
      "218it [00:29,  7.30it/s]\n"
     ]
    },
    {
     "name": "stdout",
     "output_type": "stream",
     "text": [
      "Overall Acc: \t 0.418273579853\n",
      "Mean Acc : \t 0.186739637304\n",
      "FreqW Acc : \t 0.24404056617\n",
      "Mean IoU : \t 0.106536347191\n"
     ]
    }
   ],
   "source": [
    "best_iou = -100.0 \n",
    "for epoch in range(args.n_epoch):\n",
    "    \n",
    "    # train\n",
    "    model.train()\n",
    "    for i, (color_imgs, depth_imgs, label_imgs) in enumerate(trainloader):\n",
    "        color_imgs = Variable(color_imgs.cuda())\n",
    "#         depth_imgs = Variable(depth_imgs.cuda())\n",
    "        label_imgs = Variable(label_imgs.cuda())\n",
    "\n",
    "        optimizer.zero_grad()\n",
    "        outputs = model(color_imgs)\n",
    "\n",
    "        loss = loss_fn(input=outputs, target=label_imgs)\n",
    "\n",
    "        loss.backward()\n",
    "        optimizer.step()\n",
    "\n",
    "        if (i+1) % 100 == 0:\n",
    "            print(\"Epoch [%d/%d] Loss: %.4f\" % (epoch+1, args.n_epoch, loss.data[0]))\n",
    "\n",
    "    # eval\n",
    "    model.eval()\n",
    "    for i_val, (color_images_val, depth_images_val, label_images_val) in tqdm(enumerate(valloader)):\n",
    "        color_images_val = Variable(color_images_val.cuda(), volatile=True)\n",
    "#         depth_images_val = Variable(depth_images_val.cuda(), volatile=True)\n",
    "        label_images_val = Variable(label_images_val.cuda(), volatile=True)\n",
    "\n",
    "        outputs = model(color_images_val)\n",
    "        pred = outputs.data.max(1)[1].cpu().numpy()\n",
    "        gt = label_images_val.data.cpu().numpy()\n",
    "        running_metrics.update(gt, pred)\n",
    "\n",
    "    score, class_iou = running_metrics.get_scores()\n",
    "    for k, v in score.items():\n",
    "        print(k, v)\n",
    "    running_metrics.reset()\n",
    "\n",
    "    # model save\n",
    "    if score['Mean IoU : \\t'] >= best_iou:\n",
    "        best_iou = score['Mean IoU : \\t']\n",
    "        state = {'epoch': epoch+1,\n",
    "                 'model_state': model.state_dict(),\n",
    "                 'optimizer_state' : optimizer.state_dict(),}\n",
    "        torch.save(state, \"../model_weights/{}_{}_best_model.pkl\".format(args.arch, 'NYUDv2'))"
   ]
  },
  {
   "cell_type": "code",
   "execution_count": null,
   "metadata": {},
   "outputs": [],
   "source": []
  }
 ],
 "metadata": {
  "kernelspec": {
   "display_name": "Python [conda env:pytorch]",
   "language": "python",
   "name": "conda-env-pytorch-py"
  },
  "language_info": {
   "codemirror_mode": {
    "name": "ipython",
    "version": 3
   },
   "file_extension": ".py",
   "mimetype": "text/x-python",
   "name": "python",
   "nbconvert_exporter": "python",
   "pygments_lexer": "ipython3",
   "version": "3.6.3"
  }
 },
 "nbformat": 4,
 "nbformat_minor": 2
}
