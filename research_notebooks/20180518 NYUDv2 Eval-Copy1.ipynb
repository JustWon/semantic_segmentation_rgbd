{
 "cells": [
  {
   "cell_type": "code",
   "execution_count": 1,
   "metadata": {},
   "outputs": [],
   "source": [
    "%matplotlib inline\n",
    "import os\n",
    "import numpy as np\n",
    "import argparse\n",
    "from validate import *\n",
    "\n",
    "os.environ['CUDA_VISIBLE_DEVICES'] = '7'"
   ]
  },
  {
   "cell_type": "code",
   "execution_count": 2,
   "metadata": {},
   "outputs": [],
   "source": [
    "parser = argparse.ArgumentParser(description='Hyperparams')\n",
    "parser.add_argument('--model_path', nargs='?', type=str, default='fcn8s_pascal_1_26.pkl', help='Path to the saved model')\n",
    "parser.add_argument('--model_name', nargs='?', type=str, default='fcn8s', help='model name')\n",
    "parser.add_argument('--dataset', nargs='?', type=str, default='pascal', help='Dataset to use [\\'pascal, camvid, ade20k etc\\']')\n",
    "parser.add_argument('--img_rows', nargs='?', type=int, default=256, help='Height of the input image')\n",
    "parser.add_argument('--img_cols', nargs='?', type=int, default=256, help='Width of the input image')\n",
    "\n",
    "parser.add_argument('--img_norm', dest='img_norm', action='store_true', help='Enable input image scales normalization [0, 1] | True by default')\n",
    "parser.add_argument('--no-img_norm', dest='img_norm', action='store_false', help='Disable input image scales normalization [0, 1] | True by default')\n",
    "parser.set_defaults(img_norm=True)\n",
    "\n",
    "parser.add_argument('--eval_flip', dest='eval_flip', action='store_true', help='Enable evaluation with flipped image | True by default')\n",
    "parser.add_argument('--no-eval_flip', dest='eval_flip', action='store_false', help='Disable evaluation with flipped image | True by default')\n",
    "parser.set_defaults(eval_flip=True)\n",
    "\n",
    "parser.add_argument('--batch_size', nargs='?', type=int, default=1, help='Batch Size')\n",
    "parser.add_argument('--split', nargs='?', type=str, default='val', help='Split of dataset to test on')\n",
    "\n",
    "parser.add_argument('--measure_time', dest='measure_time', action='store_true', help='Enable evaluation with time (fps) measurement | True by default')\n",
    "parser.add_argument('--no-measure_time', dest='measure_time', action='store_false', help='Disable evaluation with time (fps) measurement | True by default')\n",
    "parser.set_defaults(measure_time=True)"
   ]
  },
  {
   "cell_type": "code",
   "execution_count": 3,
   "metadata": {},
   "outputs": [
    {
     "name": "stdout",
     "output_type": "stream",
     "text": [
      "FCN_RGB\n"
     ]
    },
    {
     "name": "stderr",
     "output_type": "stream",
     "text": [
      "/home/dongwonshin/.conda/envs/pytorch/lib/python3.6/site-packages/torch/nn/functional.py:1462: UserWarning: nn.functional.upsample_bilinear is deprecated. Use nn.functional.upsample instead.\n",
      "  warnings.warn(\"nn.functional.upsample_bilinear is deprecated. Use nn.functional.upsample instead.\")\n"
     ]
    },
    {
     "name": "stdout",
     "output_type": "stream",
     "text": [
      "..........................................................................................................................................................................................................................Overall Acc: \t 0.576334471163\n",
      "Mean Acc : \t 0.468214265835\n",
      "FreqW Acc : \t 0.410716455771\n",
      "Mean IoU : \t 0.330127568796\n",
      "0 0.34788432559\n",
      "1 0.400141050331\n",
      "2 0.107941712584\n",
      "3 0.378268384357\n",
      "4 0.283059004905\n",
      "5 0.612775777962\n",
      "6 0.341304656666\n",
      "7 0.262456052788\n",
      "8 0.341040888151\n",
      "9 0.307549579904\n",
      "10 0.185784708365\n",
      "11 0.0779561212663\n",
      "12 0.58274512903\n",
      "13 0.392878571251\n"
     ]
    }
   ],
   "source": [
    "validate(parser.parse_args('--model_path ../model_weights/FCN_RGB_NYUDv2_best_model.pkl --model_name FCN_RGB --dataset NYUDv2 --batch_size 3'.split(' ')))"
   ]
  },
  {
   "cell_type": "code",
   "execution_count": 4,
   "metadata": {},
   "outputs": [
    {
     "name": "stdout",
     "output_type": "stream",
     "text": [
      "FCN_RGB_mask\n"
     ]
    },
    {
     "name": "stderr",
     "output_type": "stream",
     "text": [
      "/home/dongwonshin/.conda/envs/pytorch/lib/python3.6/site-packages/torch/nn/functional.py:1462: UserWarning: nn.functional.upsample_bilinear is deprecated. Use nn.functional.upsample instead.\n",
      "  warnings.warn(\"nn.functional.upsample_bilinear is deprecated. Use nn.functional.upsample instead.\")\n"
     ]
    },
    {
     "name": "stdout",
     "output_type": "stream",
     "text": [
      "..........................................................................................................................................................................................................................Overall Acc: \t 0.547236009573\n",
      "Mean Acc : \t 0.42809009612\n",
      "FreqW Acc : \t 0.382150693831\n",
      "Mean IoU : \t 0.306914532511\n",
      "0 0.329157735514\n",
      "1 0.387093268169\n",
      "2 0.0945849092891\n",
      "3 0.36760580081\n",
      "4 0.214822998208\n",
      "5 0.583770353985\n",
      "6 0.307622115376\n",
      "7 0.234371750303\n",
      "8 0.348600542766\n",
      "9 0.27417269318\n",
      "10 0.126378748282\n",
      "11 0.131198267118\n",
      "12 0.556951902719\n",
      "13 0.340472369433\n"
     ]
    }
   ],
   "source": [
    "validate(parser.parse_args('--model_path ../model_weights/FCN_RGB_mask_NYUDv2_best_model.pkl --model_name FCN_RGB_mask --dataset NYUDv2 --batch_size 3'.split(' ')))"
   ]
  },
  {
   "cell_type": "code",
   "execution_count": 5,
   "metadata": {},
   "outputs": [
    {
     "name": "stdout",
     "output_type": "stream",
     "text": [
      "FCN_RGB_renet\n"
     ]
    },
    {
     "name": "stderr",
     "output_type": "stream",
     "text": [
      "/home/dongwonshin/.conda/envs/pytorch/lib/python3.6/site-packages/torch/nn/functional.py:1462: UserWarning: nn.functional.upsample_bilinear is deprecated. Use nn.functional.upsample instead.\n",
      "  warnings.warn(\"nn.functional.upsample_bilinear is deprecated. Use nn.functional.upsample instead.\")\n"
     ]
    },
    {
     "name": "stdout",
     "output_type": "stream",
     "text": [
      "..........................................................................................................................................................................................................................Overall Acc: \t 0.567805078722\n",
      "Mean Acc : \t 0.459938796014\n",
      "FreqW Acc : \t 0.401774752821\n",
      "Mean IoU : \t 0.318767884525\n",
      "0 0.342122858877\n",
      "1 0.406659552605\n",
      "2 0.0604786823949\n",
      "3 0.364296197279\n",
      "4 0.265367301154\n",
      "5 0.603570570837\n",
      "6 0.341070105849\n",
      "7 0.243411652441\n",
      "8 0.318716463899\n",
      "9 0.317512602233\n",
      "10 0.159859388171\n",
      "11 0.0869272941523\n",
      "12 0.573575912556\n",
      "13 0.379181800905\n"
     ]
    }
   ],
   "source": [
    "validate(parser.parse_args('--model_path ../model_weights/FCN_RGB_renet_NYUDv2_best_model.pkl --model_name FCN_RGB_renet --dataset NYUDv2 --batch_size 3'.split(' ')))"
   ]
  },
  {
   "cell_type": "code",
   "execution_count": 6,
   "metadata": {},
   "outputs": [
    {
     "name": "stdout",
     "output_type": "stream",
     "text": [
      "FCN_RGBD\n"
     ]
    },
    {
     "name": "stderr",
     "output_type": "stream",
     "text": [
      "/home/dongwonshin/.conda/envs/pytorch/lib/python3.6/site-packages/torch/nn/functional.py:1462: UserWarning: nn.functional.upsample_bilinear is deprecated. Use nn.functional.upsample instead.\n",
      "  warnings.warn(\"nn.functional.upsample_bilinear is deprecated. Use nn.functional.upsample instead.\")\n"
     ]
    },
    {
     "name": "stdout",
     "output_type": "stream",
     "text": [
      "..........................................................................................................................................................................................................................Overall Acc: \t 0.594224459058\n",
      "Mean Acc : \t 0.487527392633\n",
      "FreqW Acc : \t 0.428498215849\n",
      "Mean IoU : \t 0.349465411661\n",
      "0 0.360082710486\n",
      "1 0.433557558459\n",
      "2 0.134458616777\n",
      "3 0.41110950499\n",
      "4 0.298196638246\n",
      "5 0.672337891149\n",
      "6 0.365813562559\n",
      "7 0.244998228497\n",
      "8 0.359528347322\n",
      "9 0.336680096468\n",
      "10 0.202830444617\n",
      "11 0.0656221221411\n",
      "12 0.597137474737\n",
      "13 0.410162566811\n"
     ]
    }
   ],
   "source": [
    "validate(parser.parse_args('--model_path ../model_weights/FCN_RGBD_NYUDv2_best_model.pkl --model_name FCN_RGBD --dataset NYUDv2 --batch_size 3'.split(' ')))"
   ]
  },
  {
   "cell_type": "code",
   "execution_count": 7,
   "metadata": {},
   "outputs": [
    {
     "name": "stdout",
     "output_type": "stream",
     "text": [
      "FCN_RGBD_mask\n"
     ]
    },
    {
     "name": "stderr",
     "output_type": "stream",
     "text": [
      "/home/dongwonshin/.conda/envs/pytorch/lib/python3.6/site-packages/torch/nn/functional.py:1462: UserWarning: nn.functional.upsample_bilinear is deprecated. Use nn.functional.upsample instead.\n",
      "  warnings.warn(\"nn.functional.upsample_bilinear is deprecated. Use nn.functional.upsample instead.\")\n"
     ]
    },
    {
     "name": "stdout",
     "output_type": "stream",
     "text": [
      "..........................................................................................................................................................................................................................Overall Acc: \t 0.559455329981\n",
      "Mean Acc : \t 0.432801734463\n",
      "FreqW Acc : \t 0.393217552697\n",
      "Mean IoU : \t 0.312949681607\n",
      "0 0.332282199093\n",
      "1 0.425893904325\n",
      "2 0.130959053368\n",
      "3 0.381759014753\n",
      "4 0.248265205703\n",
      "5 0.630423397064\n",
      "6 0.303007488727\n",
      "7 0.222279282313\n",
      "8 0.342663140487\n",
      "9 0.264776071284\n",
      "10 0.137555220928\n",
      "11 0.0359352459971\n",
      "12 0.578463325702\n",
      "13 0.34703299276\n"
     ]
    }
   ],
   "source": [
    "validate(parser.parse_args('--model_path ../model_weights/FCN_RGBD_mask_NYUDv2_best_model.pkl --model_name FCN_RGBD_mask --dataset NYUDv2 --batch_size 3'.split(' ')))"
   ]
  },
  {
   "cell_type": "code",
   "execution_count": 8,
   "metadata": {},
   "outputs": [
    {
     "name": "stdout",
     "output_type": "stream",
     "text": [
      "FCN_RGBD_renet\n"
     ]
    },
    {
     "name": "stderr",
     "output_type": "stream",
     "text": [
      "/home/dongwonshin/.conda/envs/pytorch/lib/python3.6/site-packages/torch/nn/functional.py:1462: UserWarning: nn.functional.upsample_bilinear is deprecated. Use nn.functional.upsample instead.\n",
      "  warnings.warn(\"nn.functional.upsample_bilinear is deprecated. Use nn.functional.upsample instead.\")\n"
     ]
    },
    {
     "name": "stdout",
     "output_type": "stream",
     "text": [
      "..........................................................................................................................................................................................................................Overall Acc: \t 0.588800376091\n",
      "Mean Acc : \t 0.4748038501\n",
      "FreqW Acc : \t 0.421557183685\n",
      "Mean IoU : \t 0.338027093385\n",
      "0 0.351988744605\n",
      "1 0.431963971264\n",
      "2 0.0538554608172\n",
      "3 0.387382382722\n",
      "4 0.28336474202\n",
      "5 0.653233440278\n",
      "6 0.370827237983\n",
      "7 0.255991554591\n",
      "8 0.329112918554\n",
      "9 0.326575348093\n",
      "10 0.187396970816\n",
      "11 0.11524073366\n",
      "12 0.586835840407\n",
      "13 0.398609961583\n"
     ]
    }
   ],
   "source": [
    "validate(parser.parse_args('--model_path ../model_weights/FCN_RGBD_renet_NYUDv2_best_model.pkl --model_name FCN_RGBD_renet --dataset NYUDv2 --batch_size 3'.split(' ')))"
   ]
  },
  {
   "cell_type": "code",
   "execution_count": null,
   "metadata": {},
   "outputs": [],
   "source": []
  }
 ],
 "metadata": {
  "kernelspec": {
   "display_name": "Python [conda env:pytorch]",
   "language": "python",
   "name": "conda-env-pytorch-py"
  },
  "language_info": {
   "codemirror_mode": {
    "name": "ipython",
    "version": 3
   },
   "file_extension": ".py",
   "mimetype": "text/x-python",
   "name": "python",
   "nbconvert_exporter": "python",
   "pygments_lexer": "ipython3",
   "version": "3.6.3"
  }
 },
 "nbformat": 4,
 "nbformat_minor": 2
}
