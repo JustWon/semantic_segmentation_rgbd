{
 "cells": [
  {
   "cell_type": "markdown",
   "metadata": {},
   "source": [
    "## 2018년 05월 18일 16시 00분 24초에 추가 ##\n",
    "- Training FCN_RGB_renet on NYUDv2"
   ]
  },
  {
   "cell_type": "code",
   "execution_count": 1,
   "metadata": {},
   "outputs": [],
   "source": [
    "%matplotlib inline\n",
    "import os\n",
    "import collections\n",
    "import torch\n",
    "import torchvision\n",
    "import numpy as np\n",
    "import scipy.misc as m\n",
    "import scipy.io as io\n",
    "import matplotlib.pyplot as plt\n",
    "\n",
    "from NYUDv2Loader import *\n",
    "\n",
    "os.environ['CUDA_VISIBLE_DEVICES'] = '2'\n",
    "data_path = '/home/dongwonshin/Desktop/Datasets/NYUDv2/'\n",
    "arg_string = '--arch FCN_RGB_renet --batch_size 3 --n_epoch 50'"
   ]
  },
  {
   "cell_type": "markdown",
   "metadata": {},
   "source": [
    "# Argument setting"
   ]
  },
  {
   "cell_type": "code",
   "execution_count": 2,
   "metadata": {},
   "outputs": [],
   "source": [
    "import sys, os\n",
    "import torch\n",
    "import visdom\n",
    "import argparse\n",
    "import numpy as np\n",
    "import torch.nn as nn\n",
    "import torch.nn.functional as F\n",
    "import torchvision.models as models\n",
    "\n",
    "from torch.autograd import Variable\n",
    "from torch.utils import data\n",
    "from tqdm import tqdm\n",
    "\n",
    "from ptsemseg.models import get_model\n",
    "from ptsemseg.loader import get_loader, get_data_path\n",
    "from ptsemseg.metrics import runningScore\n",
    "from ptsemseg.loss import *\n",
    "from ptsemseg.augmentations import *\n",
    "\n",
    "\n",
    "parser = argparse.ArgumentParser(description='Hyperparams')\n",
    "parser.add_argument('--arch', nargs='?', type=str, default='fcn8s', help='Architecture to use [\\'fcn8s, unet, segnet etc\\']')\n",
    "parser.add_argument('--img_rows', nargs='?', type=int, default=256, help='Height of the input image')\n",
    "parser.add_argument('--img_cols', nargs='?', type=int, default=256, help='Width of the input image')\n",
    "\n",
    "parser.add_argument('--img_norm', dest='img_norm', action='store_true', help='Enable input image scales normalization [0, 1] | True by default')\n",
    "parser.add_argument('--no-img_norm', dest='img_norm', action='store_false', help='Disable input image scales normalization [0, 1] | True by default')\n",
    "parser.set_defaults(img_norm=True)\n",
    "\n",
    "parser.add_argument('--n_epoch', nargs='?', type=int, default=10, help='# of the epochs')\n",
    "parser.add_argument('--batch_size', nargs='?', type=int, default=1, help='Batch Size')\n",
    "parser.add_argument('--l_rate', nargs='?', type=float, default=1e-5, help='Learning Rate')\n",
    "parser.add_argument('--feature_scale', nargs='?', type=int, default=1, help='Divider for # of features to use')\n",
    "parser.add_argument('--resume', nargs='?', type=str, default=None, help='Path to previous saved model to restart from')\n",
    "\n",
    "parser.add_argument('--visdom', dest='visdom', action='store_true', help='Enable visualization(s) on visdom | False by default')\n",
    "parser.add_argument('--no-visdom', dest='visdom', action='store_false', help='Disable visualization(s) on visdom | False by default')\n",
    "parser.set_defaults(visdom=False)"
   ]
  },
  {
   "cell_type": "markdown",
   "metadata": {},
   "source": [
    "# Model init"
   ]
  },
  {
   "cell_type": "code",
   "execution_count": 3,
   "metadata": {},
   "outputs": [],
   "source": [
    "args = parser.parse_args(arg_string.split(' '))\n",
    "\n",
    "# Setup Dataloader\n",
    "t_loader = NYUDv2Loader(data_path, is_transform=True)\n",
    "v_loader = NYUDv2Loader(data_path, is_transform=True, split='val')\n",
    "\n",
    "n_classes = t_loader.n_classes\n",
    "trainloader = data.DataLoader(t_loader, batch_size=args.batch_size, num_workers=16, shuffle=True)\n",
    "valloader = data.DataLoader(v_loader, batch_size=args.batch_size, num_workers=16)\n",
    "\n",
    "# Setup Metrics\n",
    "running_metrics = runningScore(n_classes)\n",
    "\n",
    "# Setup visdom for visualization\n",
    "if args.visdom:\n",
    "    vis = visdom.Visdom()\n",
    "\n",
    "    loss_window = vis.line(X=torch.zeros((1,)).cpu(),\n",
    "                       Y=torch.zeros((1)).cpu(),\n",
    "                       opts=dict(xlabel='minibatches',\n",
    "                                 ylabel='Loss',\n",
    "                                 title='Training Loss',\n",
    "                                 legend=['Loss']))\n",
    "\n",
    "# Setup Model\n",
    "model = get_model(args.arch, n_classes)\n",
    "\n",
    "model = torch.nn.DataParallel(model, device_ids=range(torch.cuda.device_count()))\n",
    "model.cuda()\n",
    "\n",
    "# Check if model has custom optimizer / loss\n",
    "if hasattr(model.module, 'optimizer'):\n",
    "    optimizer = model.module.optimizer\n",
    "else:\n",
    "    optimizer = torch.optim.SGD(model.parameters(), lr=args.l_rate, momentum=0.99, weight_decay=5e-4)\n",
    "\n",
    "if hasattr(model.module, 'loss'):\n",
    "    print('Using custom loss')\n",
    "    loss_fn = model.module.loss\n",
    "else:\n",
    "    loss_fn = cross_entropy2d\n",
    "\n",
    "if args.resume is not None:                                         \n",
    "    if os.path.isfile(args.resume):\n",
    "        print(\"Loading model and optimizer from checkpoint '{}'\".format(args.resume))\n",
    "        checkpoint = torch.load(args.resume)\n",
    "        model.load_state_dict(checkpoint['model_state'])\n",
    "        optimizer.load_state_dict(checkpoint['optimizer_state'])\n",
    "        print(\"Loaded checkpoint '{}' (epoch {})\"                    \n",
    "              .format(args.resume, checkpoint['epoch']))\n",
    "    else:\n",
    "        print(\"No checkpoint found at '{}'\".format(args.resume)) \n"
   ]
  },
  {
   "cell_type": "markdown",
   "metadata": {},
   "source": [
    "# Training"
   ]
  },
  {
   "cell_type": "code",
   "execution_count": 4,
   "metadata": {},
   "outputs": [
    {
     "name": "stderr",
     "output_type": "stream",
     "text": [
      "/home/dongwonshin/.conda/envs/pytorch/lib/python3.6/site-packages/torch/nn/functional.py:1462: UserWarning: nn.functional.upsample_bilinear is deprecated. Use nn.functional.upsample instead.\n",
      "  warnings.warn(\"nn.functional.upsample_bilinear is deprecated. Use nn.functional.upsample instead.\")\n"
     ]
    },
    {
     "name": "stdout",
     "output_type": "stream",
     "text": [
      "Epoch [1/50] Loss: 2.3034\n",
      "Epoch [1/50] Loss: 2.1427\n"
     ]
    },
    {
     "name": "stderr",
     "output_type": "stream",
     "text": [
      "218it [00:28,  7.64it/s]\n"
     ]
    },
    {
     "name": "stdout",
     "output_type": "stream",
     "text": [
      "Overall Acc: \t 0.319229326938\n",
      "Mean Acc : \t 0.11866616034\n",
      "FreqW Acc : \t 0.151687672463\n",
      "Mean IoU : \t 0.0574785656339\n",
      "Epoch [2/50] Loss: 2.1133\n",
      "Epoch [2/50] Loss: 1.9454\n"
     ]
    },
    {
     "name": "stderr",
     "output_type": "stream",
     "text": [
      "218it [00:29,  7.49it/s]\n"
     ]
    },
    {
     "name": "stdout",
     "output_type": "stream",
     "text": [
      "Overall Acc: \t 0.398134322638\n",
      "Mean Acc : \t 0.172398091576\n",
      "FreqW Acc : \t 0.221705938404\n",
      "Mean IoU : \t 0.0988523130555\n",
      "Epoch [3/50] Loss: 1.6628\n",
      "Epoch [3/50] Loss: 1.5559\n"
     ]
    },
    {
     "name": "stderr",
     "output_type": "stream",
     "text": [
      "218it [00:28,  7.60it/s]\n"
     ]
    },
    {
     "name": "stdout",
     "output_type": "stream",
     "text": [
      "Overall Acc: \t 0.432002600185\n",
      "Mean Acc : \t 0.21661065282\n",
      "FreqW Acc : \t 0.254310626831\n",
      "Mean IoU : \t 0.130053869994\n",
      "Epoch [4/50] Loss: 1.6443\n",
      "Epoch [4/50] Loss: 1.5466\n"
     ]
    },
    {
     "name": "stderr",
     "output_type": "stream",
     "text": [
      "218it [00:28,  7.59it/s]\n"
     ]
    },
    {
     "name": "stdout",
     "output_type": "stream",
     "text": [
      "Overall Acc: \t 0.449311916651\n",
      "Mean Acc : \t 0.239205520492\n",
      "FreqW Acc : \t 0.271309466365\n",
      "Mean IoU : \t 0.149369926641\n",
      "Epoch [5/50] Loss: 1.5879\n",
      "Epoch [5/50] Loss: 1.4527\n"
     ]
    },
    {
     "name": "stderr",
     "output_type": "stream",
     "text": [
      "218it [00:28,  7.60it/s]\n"
     ]
    },
    {
     "name": "stdout",
     "output_type": "stream",
     "text": [
      "Overall Acc: \t 0.470579068712\n",
      "Mean Acc : \t 0.268128975832\n",
      "FreqW Acc : \t 0.293629780001\n",
      "Mean IoU : \t 0.173700618113\n",
      "Epoch [6/50] Loss: 1.3077\n",
      "Epoch [6/50] Loss: 1.4253\n"
     ]
    },
    {
     "name": "stderr",
     "output_type": "stream",
     "text": [
      "218it [00:28,  7.59it/s]\n"
     ]
    },
    {
     "name": "stdout",
     "output_type": "stream",
     "text": [
      "Overall Acc: \t 0.480249979095\n",
      "Mean Acc : \t 0.274995452578\n",
      "FreqW Acc : \t 0.304716321254\n",
      "Mean IoU : \t 0.18221448376\n",
      "Epoch [7/50] Loss: 1.4705\n",
      "Epoch [7/50] Loss: 1.4262\n"
     ]
    },
    {
     "name": "stderr",
     "output_type": "stream",
     "text": [
      "218it [00:29,  7.51it/s]\n"
     ]
    },
    {
     "name": "stdout",
     "output_type": "stream",
     "text": [
      "Overall Acc: \t 0.491268222198\n",
      "Mean Acc : \t 0.290755994925\n",
      "FreqW Acc : \t 0.314241961023\n",
      "Mean IoU : \t 0.190553317569\n",
      "Epoch [8/50] Loss: 1.1517\n",
      "Epoch [8/50] Loss: 1.2684\n"
     ]
    },
    {
     "name": "stderr",
     "output_type": "stream",
     "text": [
      "218it [00:28,  7.63it/s]\n"
     ]
    },
    {
     "name": "stdout",
     "output_type": "stream",
     "text": [
      "Overall Acc: \t 0.497671674909\n",
      "Mean Acc : \t 0.306849667092\n",
      "FreqW Acc : \t 0.322303561022\n",
      "Mean IoU : \t 0.201976863016\n",
      "Epoch [9/50] Loss: 1.3239\n",
      "Epoch [9/50] Loss: 1.5540\n"
     ]
    },
    {
     "name": "stderr",
     "output_type": "stream",
     "text": [
      "218it [00:28,  7.65it/s]\n"
     ]
    },
    {
     "name": "stdout",
     "output_type": "stream",
     "text": [
      "Overall Acc: \t 0.506061436831\n",
      "Mean Acc : \t 0.322273399884\n",
      "FreqW Acc : \t 0.334911253335\n",
      "Mean IoU : \t 0.213871536163\n",
      "Epoch [10/50] Loss: 1.1523\n",
      "Epoch [10/50] Loss: 1.5205\n"
     ]
    },
    {
     "name": "stderr",
     "output_type": "stream",
     "text": [
      "218it [00:28,  7.56it/s]\n"
     ]
    },
    {
     "name": "stdout",
     "output_type": "stream",
     "text": [
      "Overall Acc: \t 0.512043116081\n",
      "Mean Acc : \t 0.32228213918\n",
      "FreqW Acc : \t 0.335545043127\n",
      "Mean IoU : \t 0.216862752237\n",
      "Epoch [11/50] Loss: 1.3010\n",
      "Epoch [11/50] Loss: 1.1094\n"
     ]
    },
    {
     "name": "stderr",
     "output_type": "stream",
     "text": [
      "218it [00:28,  7.62it/s]\n"
     ]
    },
    {
     "name": "stdout",
     "output_type": "stream",
     "text": [
      "Overall Acc: \t 0.517988888491\n",
      "Mean Acc : \t 0.335150270246\n",
      "FreqW Acc : \t 0.343045317564\n",
      "Mean IoU : \t 0.228592922621\n",
      "Epoch [12/50] Loss: 1.1402\n",
      "Epoch [12/50] Loss: 1.4377\n"
     ]
    },
    {
     "name": "stderr",
     "output_type": "stream",
     "text": [
      "218it [00:28,  7.65it/s]\n"
     ]
    },
    {
     "name": "stdout",
     "output_type": "stream",
     "text": [
      "Overall Acc: \t 0.521896606819\n",
      "Mean Acc : \t 0.346320707664\n",
      "FreqW Acc : \t 0.347166631463\n",
      "Mean IoU : \t 0.237619859048\n",
      "Epoch [13/50] Loss: 1.1808\n",
      "Epoch [13/50] Loss: 0.9826\n"
     ]
    },
    {
     "name": "stderr",
     "output_type": "stream",
     "text": [
      "218it [00:28,  7.68it/s]\n"
     ]
    },
    {
     "name": "stdout",
     "output_type": "stream",
     "text": [
      "Overall Acc: \t 0.526956708716\n",
      "Mean Acc : \t 0.358685327854\n",
      "FreqW Acc : \t 0.353816883973\n",
      "Mean IoU : \t 0.245760641787\n",
      "Epoch [14/50] Loss: 1.2181\n",
      "Epoch [14/50] Loss: 1.2763\n"
     ]
    },
    {
     "name": "stderr",
     "output_type": "stream",
     "text": [
      "218it [00:29,  7.47it/s]\n"
     ]
    },
    {
     "name": "stdout",
     "output_type": "stream",
     "text": [
      "Overall Acc: \t 0.531945629062\n",
      "Mean Acc : \t 0.370930916603\n",
      "FreqW Acc : \t 0.360525909748\n",
      "Mean IoU : \t 0.254749380389\n",
      "Epoch [15/50] Loss: 1.6788\n",
      "Epoch [15/50] Loss: 1.2213\n"
     ]
    },
    {
     "name": "stderr",
     "output_type": "stream",
     "text": [
      "218it [00:29,  7.49it/s]"
     ]
    },
    {
     "name": "stdout",
     "output_type": "stream",
     "text": [
      "Overall Acc: \t 0.531054846776\n",
      "Mean Acc : \t 0.367709510562\n",
      "FreqW Acc : \t 0.358352187488\n",
      "Mean IoU : \t 0.254602658522\n"
     ]
    },
    {
     "name": "stderr",
     "output_type": "stream",
     "text": [
      "\n"
     ]
    },
    {
     "name": "stdout",
     "output_type": "stream",
     "text": [
      "Epoch [16/50] Loss: 1.3537\n",
      "Epoch [16/50] Loss: 1.0695\n"
     ]
    },
    {
     "name": "stderr",
     "output_type": "stream",
     "text": [
      "218it [00:28,  7.59it/s]\n"
     ]
    },
    {
     "name": "stdout",
     "output_type": "stream",
     "text": [
      "Overall Acc: \t 0.535455973058\n",
      "Mean Acc : \t 0.370991479587\n",
      "FreqW Acc : \t 0.360120977459\n",
      "Mean IoU : \t 0.259320630763\n",
      "Epoch [17/50] Loss: 0.9820\n",
      "Epoch [17/50] Loss: 1.1115\n"
     ]
    },
    {
     "name": "stderr",
     "output_type": "stream",
     "text": [
      "218it [00:29,  7.46it/s]\n"
     ]
    },
    {
     "name": "stdout",
     "output_type": "stream",
     "text": [
      "Overall Acc: \t 0.540128764892\n",
      "Mean Acc : \t 0.387604169084\n",
      "FreqW Acc : \t 0.370088286499\n",
      "Mean IoU : \t 0.270143903453\n",
      "Epoch [18/50] Loss: 0.9745\n",
      "Epoch [18/50] Loss: 1.3324\n"
     ]
    },
    {
     "name": "stderr",
     "output_type": "stream",
     "text": [
      "218it [00:28,  7.53it/s]\n"
     ]
    },
    {
     "name": "stdout",
     "output_type": "stream",
     "text": [
      "Overall Acc: \t 0.539797301064\n",
      "Mean Acc : \t 0.392950366492\n",
      "FreqW Acc : \t 0.368282666233\n",
      "Mean IoU : \t 0.270730090758\n",
      "Epoch [19/50] Loss: 1.4860\n",
      "Epoch [19/50] Loss: 1.2230\n"
     ]
    },
    {
     "name": "stderr",
     "output_type": "stream",
     "text": [
      "218it [00:28,  7.69it/s]\n"
     ]
    },
    {
     "name": "stdout",
     "output_type": "stream",
     "text": [
      "Overall Acc: \t 0.544136543546\n",
      "Mean Acc : \t 0.397292782768\n",
      "FreqW Acc : \t 0.371667113878\n",
      "Mean IoU : \t 0.276552684607\n",
      "Epoch [20/50] Loss: 1.1514\n",
      "Epoch [20/50] Loss: 1.2528\n"
     ]
    },
    {
     "name": "stderr",
     "output_type": "stream",
     "text": [
      "218it [00:28,  7.62it/s]\n"
     ]
    },
    {
     "name": "stdout",
     "output_type": "stream",
     "text": [
      "Overall Acc: \t 0.547133863723\n",
      "Mean Acc : \t 0.398771328223\n",
      "FreqW Acc : \t 0.378450712866\n",
      "Mean IoU : \t 0.282558434964\n",
      "Epoch [21/50] Loss: 1.4323\n",
      "Epoch [21/50] Loss: 1.1809\n"
     ]
    },
    {
     "name": "stderr",
     "output_type": "stream",
     "text": [
      "218it [00:28,  7.62it/s]"
     ]
    },
    {
     "name": "stdout",
     "output_type": "stream",
     "text": [
      "Overall Acc: \t 0.546800861884\n",
      "Mean Acc : \t 0.404334612355\n",
      "FreqW Acc : \t 0.37587273984\n",
      "Mean IoU : \t 0.279944296467\n"
     ]
    },
    {
     "name": "stderr",
     "output_type": "stream",
     "text": [
      "\n"
     ]
    },
    {
     "name": "stdout",
     "output_type": "stream",
     "text": [
      "Epoch [22/50] Loss: 1.3153\n",
      "Epoch [22/50] Loss: 1.1520\n"
     ]
    },
    {
     "name": "stderr",
     "output_type": "stream",
     "text": [
      "218it [00:28,  7.63it/s]\n"
     ]
    },
    {
     "name": "stdout",
     "output_type": "stream",
     "text": [
      "Overall Acc: \t 0.548852618701\n",
      "Mean Acc : \t 0.40262490033\n",
      "FreqW Acc : \t 0.381878658167\n",
      "Mean IoU : \t 0.283324428394\n",
      "Epoch [23/50] Loss: 1.0653\n",
      "Epoch [23/50] Loss: 1.1554\n"
     ]
    },
    {
     "name": "stderr",
     "output_type": "stream",
     "text": [
      "218it [00:28,  7.57it/s]\n"
     ]
    },
    {
     "name": "stdout",
     "output_type": "stream",
     "text": [
      "Overall Acc: \t 0.552242410487\n",
      "Mean Acc : \t 0.416832826696\n",
      "FreqW Acc : \t 0.385299765491\n",
      "Mean IoU : \t 0.290058227475\n",
      "Epoch [24/50] Loss: 1.2675\n",
      "Epoch [24/50] Loss: 1.3226\n"
     ]
    },
    {
     "name": "stderr",
     "output_type": "stream",
     "text": [
      "218it [00:28,  7.53it/s]"
     ]
    },
    {
     "name": "stdout",
     "output_type": "stream",
     "text": [
      "Overall Acc: \t 0.550930247953\n",
      "Mean Acc : \t 0.412101485111\n",
      "FreqW Acc : \t 0.378141780716\n",
      "Mean IoU : \t 0.286131472834\n"
     ]
    },
    {
     "name": "stderr",
     "output_type": "stream",
     "text": [
      "\n"
     ]
    },
    {
     "name": "stdout",
     "output_type": "stream",
     "text": [
      "Epoch [25/50] Loss: 1.1822\n",
      "Epoch [25/50] Loss: 1.4581\n"
     ]
    },
    {
     "name": "stderr",
     "output_type": "stream",
     "text": [
      "218it [00:28,  7.63it/s]\n"
     ]
    },
    {
     "name": "stdout",
     "output_type": "stream",
     "text": [
      "Overall Acc: \t 0.552180108587\n",
      "Mean Acc : \t 0.421746975292\n",
      "FreqW Acc : \t 0.385457642249\n",
      "Mean IoU : \t 0.294218506868\n",
      "Epoch [26/50] Loss: 1.0436\n",
      "Epoch [26/50] Loss: 1.1977\n"
     ]
    },
    {
     "name": "stderr",
     "output_type": "stream",
     "text": [
      "218it [00:28,  7.65it/s]"
     ]
    },
    {
     "name": "stdout",
     "output_type": "stream",
     "text": [
      "Overall Acc: \t 0.554454717762\n",
      "Mean Acc : \t 0.421166081258\n",
      "FreqW Acc : \t 0.384812042217\n",
      "Mean IoU : \t 0.292356896274\n"
     ]
    },
    {
     "name": "stderr",
     "output_type": "stream",
     "text": [
      "\n"
     ]
    },
    {
     "name": "stdout",
     "output_type": "stream",
     "text": [
      "Epoch [27/50] Loss: 0.9438\n",
      "Epoch [27/50] Loss: 1.1737\n"
     ]
    },
    {
     "name": "stderr",
     "output_type": "stream",
     "text": [
      "218it [00:28,  7.63it/s]"
     ]
    },
    {
     "name": "stdout",
     "output_type": "stream",
     "text": [
      "Overall Acc: \t 0.555653410901\n",
      "Mean Acc : \t 0.417896184115\n",
      "FreqW Acc : \t 0.386138013718\n",
      "Mean IoU : \t 0.291157302841\n"
     ]
    },
    {
     "name": "stderr",
     "output_type": "stream",
     "text": [
      "\n"
     ]
    },
    {
     "name": "stdout",
     "output_type": "stream",
     "text": [
      "Epoch [28/50] Loss: 1.0093\n",
      "Epoch [28/50] Loss: 0.9318\n"
     ]
    },
    {
     "name": "stderr",
     "output_type": "stream",
     "text": [
      "218it [00:28,  7.63it/s]"
     ]
    },
    {
     "name": "stdout",
     "output_type": "stream",
     "text": [
      "Overall Acc: \t 0.5565357615\n",
      "Mean Acc : \t 0.412994373116\n",
      "FreqW Acc : \t 0.386591707513\n",
      "Mean IoU : \t 0.292624196732\n"
     ]
    },
    {
     "name": "stderr",
     "output_type": "stream",
     "text": [
      "\n"
     ]
    },
    {
     "name": "stdout",
     "output_type": "stream",
     "text": [
      "Epoch [29/50] Loss: 1.0363\n",
      "Epoch [29/50] Loss: 1.2015\n"
     ]
    },
    {
     "name": "stderr",
     "output_type": "stream",
     "text": [
      "218it [00:28,  7.64it/s]\n"
     ]
    },
    {
     "name": "stdout",
     "output_type": "stream",
     "text": [
      "Overall Acc: \t 0.558994907142\n",
      "Mean Acc : \t 0.419156782158\n",
      "FreqW Acc : \t 0.389764747363\n",
      "Mean IoU : \t 0.296588083623\n",
      "Epoch [30/50] Loss: 0.9260\n",
      "Epoch [30/50] Loss: 0.9605\n"
     ]
    },
    {
     "name": "stderr",
     "output_type": "stream",
     "text": [
      "218it [00:28,  7.59it/s]"
     ]
    },
    {
     "name": "stdout",
     "output_type": "stream",
     "text": [
      "Overall Acc: \t 0.55693294669\n",
      "Mean Acc : \t 0.420971642305\n",
      "FreqW Acc : \t 0.385204211586\n",
      "Mean IoU : \t 0.293733271732\n"
     ]
    },
    {
     "name": "stderr",
     "output_type": "stream",
     "text": [
      "\n"
     ]
    },
    {
     "name": "stdout",
     "output_type": "stream",
     "text": [
      "Epoch [31/50] Loss: 0.8425\n",
      "Epoch [31/50] Loss: 1.2657\n"
     ]
    },
    {
     "name": "stderr",
     "output_type": "stream",
     "text": [
      "218it [00:28,  7.65it/s]\n"
     ]
    },
    {
     "name": "stdout",
     "output_type": "stream",
     "text": [
      "Overall Acc: \t 0.561351852184\n",
      "Mean Acc : \t 0.436164183951\n",
      "FreqW Acc : \t 0.395668199881\n",
      "Mean IoU : \t 0.305706557375\n",
      "Epoch [32/50] Loss: 1.0535\n",
      "Epoch [32/50] Loss: 1.1848\n"
     ]
    },
    {
     "name": "stderr",
     "output_type": "stream",
     "text": [
      "218it [00:28,  7.55it/s]"
     ]
    },
    {
     "name": "stdout",
     "output_type": "stream",
     "text": [
      "Overall Acc: \t 0.558468543936\n",
      "Mean Acc : \t 0.42912877178\n",
      "FreqW Acc : \t 0.394822488381\n",
      "Mean IoU : \t 0.301918538774\n"
     ]
    },
    {
     "name": "stderr",
     "output_type": "stream",
     "text": [
      "\n"
     ]
    },
    {
     "name": "stdout",
     "output_type": "stream",
     "text": [
      "Epoch [33/50] Loss: 1.1198\n",
      "Epoch [33/50] Loss: 1.0668\n"
     ]
    },
    {
     "name": "stderr",
     "output_type": "stream",
     "text": [
      "218it [00:28,  7.54it/s]"
     ]
    },
    {
     "name": "stdout",
     "output_type": "stream",
     "text": [
      "Overall Acc: \t 0.559003284077\n",
      "Mean Acc : \t 0.419737763199\n",
      "FreqW Acc : \t 0.387604066935\n",
      "Mean IoU : \t 0.296041993541\n"
     ]
    },
    {
     "name": "stderr",
     "output_type": "stream",
     "text": [
      "\n"
     ]
    },
    {
     "name": "stdout",
     "output_type": "stream",
     "text": [
      "Epoch [34/50] Loss: 0.8237\n",
      "Epoch [34/50] Loss: 1.0182\n"
     ]
    },
    {
     "name": "stderr",
     "output_type": "stream",
     "text": [
      "218it [00:30,  7.10it/s]"
     ]
    },
    {
     "name": "stdout",
     "output_type": "stream",
     "text": [
      "Overall Acc: \t 0.559828031425\n",
      "Mean Acc : \t 0.428353947996\n",
      "FreqW Acc : \t 0.388300159638\n",
      "Mean IoU : \t 0.298364592821\n"
     ]
    },
    {
     "name": "stderr",
     "output_type": "stream",
     "text": [
      "\n"
     ]
    },
    {
     "name": "stdout",
     "output_type": "stream",
     "text": [
      "Epoch [35/50] Loss: 0.9855\n",
      "Epoch [35/50] Loss: 1.2770\n"
     ]
    },
    {
     "name": "stderr",
     "output_type": "stream",
     "text": [
      "218it [00:28,  7.66it/s]"
     ]
    },
    {
     "name": "stdout",
     "output_type": "stream",
     "text": [
      "Overall Acc: \t 0.561692633673\n",
      "Mean Acc : \t 0.435732477577\n",
      "FreqW Acc : \t 0.396910508392\n",
      "Mean IoU : \t 0.305101130276\n"
     ]
    },
    {
     "name": "stderr",
     "output_type": "stream",
     "text": [
      "\n"
     ]
    },
    {
     "name": "stdout",
     "output_type": "stream",
     "text": [
      "Epoch [36/50] Loss: 1.0150\n",
      "Epoch [36/50] Loss: 1.1616\n"
     ]
    },
    {
     "name": "stderr",
     "output_type": "stream",
     "text": [
      "218it [00:28,  7.62it/s]"
     ]
    },
    {
     "name": "stdout",
     "output_type": "stream",
     "text": [
      "Overall Acc: \t 0.561049311927\n",
      "Mean Acc : \t 0.434827951058\n",
      "FreqW Acc : \t 0.39348092523\n",
      "Mean IoU : \t 0.301660240376\n"
     ]
    },
    {
     "name": "stderr",
     "output_type": "stream",
     "text": [
      "\n"
     ]
    },
    {
     "name": "stdout",
     "output_type": "stream",
     "text": [
      "Epoch [37/50] Loss: 0.8149\n",
      "Epoch [37/50] Loss: 0.9763\n"
     ]
    },
    {
     "name": "stderr",
     "output_type": "stream",
     "text": [
      "218it [00:28,  7.59it/s]"
     ]
    },
    {
     "name": "stdout",
     "output_type": "stream",
     "text": [
      "Overall Acc: \t 0.56349639737\n",
      "Mean Acc : \t 0.428579310179\n",
      "FreqW Acc : \t 0.394879589455\n",
      "Mean IoU : \t 0.304797823833\n"
     ]
    },
    {
     "name": "stderr",
     "output_type": "stream",
     "text": [
      "\n"
     ]
    },
    {
     "name": "stdout",
     "output_type": "stream",
     "text": [
      "Epoch [38/50] Loss: 0.9686\n",
      "Epoch [38/50] Loss: 0.8439\n"
     ]
    },
    {
     "name": "stderr",
     "output_type": "stream",
     "text": [
      "218it [00:28,  7.58it/s]\n"
     ]
    },
    {
     "name": "stdout",
     "output_type": "stream",
     "text": [
      "Overall Acc: \t 0.563326136038\n",
      "Mean Acc : \t 0.442960944428\n",
      "FreqW Acc : \t 0.396759478894\n",
      "Mean IoU : \t 0.309581617478\n",
      "Epoch [39/50] Loss: 0.8359\n",
      "Epoch [39/50] Loss: 0.9844\n"
     ]
    },
    {
     "name": "stderr",
     "output_type": "stream",
     "text": [
      "218it [00:28,  7.69it/s]"
     ]
    },
    {
     "name": "stdout",
     "output_type": "stream",
     "text": [
      "Overall Acc: \t 0.565097108738\n",
      "Mean Acc : \t 0.441197272914\n",
      "FreqW Acc : \t 0.396940550033\n",
      "Mean IoU : \t 0.307520236276\n"
     ]
    },
    {
     "name": "stderr",
     "output_type": "stream",
     "text": [
      "\n"
     ]
    },
    {
     "name": "stdout",
     "output_type": "stream",
     "text": [
      "Epoch [40/50] Loss: 0.9317\n",
      "Epoch [40/50] Loss: 0.8225\n"
     ]
    },
    {
     "name": "stderr",
     "output_type": "stream",
     "text": [
      "218it [00:29,  7.49it/s]"
     ]
    },
    {
     "name": "stdout",
     "output_type": "stream",
     "text": [
      "Overall Acc: \t 0.56479662414\n",
      "Mean Acc : \t 0.429235975404\n",
      "FreqW Acc : \t 0.393449084345\n",
      "Mean IoU : \t 0.303199578327\n"
     ]
    },
    {
     "name": "stderr",
     "output_type": "stream",
     "text": [
      "\n"
     ]
    },
    {
     "name": "stdout",
     "output_type": "stream",
     "text": [
      "Epoch [41/50] Loss: 0.8985\n",
      "Epoch [41/50] Loss: 1.0001\n"
     ]
    },
    {
     "name": "stderr",
     "output_type": "stream",
     "text": [
      "218it [00:28,  7.59it/s]\n"
     ]
    },
    {
     "name": "stdout",
     "output_type": "stream",
     "text": [
      "Overall Acc: \t 0.565984730385\n",
      "Mean Acc : \t 0.435043544657\n",
      "FreqW Acc : \t 0.398864875846\n",
      "Mean IoU : \t 0.309839714699\n",
      "Epoch [42/50] Loss: 0.7935\n",
      "Epoch [42/50] Loss: 0.9127\n"
     ]
    },
    {
     "name": "stderr",
     "output_type": "stream",
     "text": [
      "218it [00:28,  7.57it/s]\n"
     ]
    },
    {
     "name": "stdout",
     "output_type": "stream",
     "text": [
      "Overall Acc: \t 0.566444760011\n",
      "Mean Acc : \t 0.447940337946\n",
      "FreqW Acc : \t 0.402183997993\n",
      "Mean IoU : \t 0.313489351195\n",
      "Epoch [43/50] Loss: 0.9037\n",
      "Epoch [43/50] Loss: 0.8398\n"
     ]
    },
    {
     "name": "stderr",
     "output_type": "stream",
     "text": [
      "218it [00:28,  7.60it/s]\n"
     ]
    },
    {
     "name": "stdout",
     "output_type": "stream",
     "text": [
      "Overall Acc: \t 0.568570669876\n",
      "Mean Acc : \t 0.447706414234\n",
      "FreqW Acc : \t 0.400663371916\n",
      "Mean IoU : \t 0.313630331638\n",
      "Epoch [44/50] Loss: 0.9865\n",
      "Epoch [44/50] Loss: 0.9545\n"
     ]
    },
    {
     "name": "stderr",
     "output_type": "stream",
     "text": [
      "218it [00:28,  7.61it/s]"
     ]
    },
    {
     "name": "stdout",
     "output_type": "stream",
     "text": [
      "Overall Acc: \t 0.568025128815\n",
      "Mean Acc : \t 0.439218708746\n",
      "FreqW Acc : \t 0.400750161764\n",
      "Mean IoU : \t 0.31202623342\n"
     ]
    },
    {
     "name": "stderr",
     "output_type": "stream",
     "text": [
      "\n"
     ]
    },
    {
     "name": "stdout",
     "output_type": "stream",
     "text": [
      "Epoch [45/50] Loss: 1.0053\n",
      "Epoch [45/50] Loss: 0.9484\n"
     ]
    },
    {
     "name": "stderr",
     "output_type": "stream",
     "text": [
      "218it [00:28,  7.65it/s]\n"
     ]
    },
    {
     "name": "stdout",
     "output_type": "stream",
     "text": [
      "Overall Acc: \t 0.567431844698\n",
      "Mean Acc : \t 0.454311444086\n",
      "FreqW Acc : \t 0.402273747845\n",
      "Mean IoU : \t 0.316592297819\n",
      "Epoch [46/50] Loss: 0.8708\n",
      "Epoch [46/50] Loss: 0.9002\n"
     ]
    },
    {
     "name": "stderr",
     "output_type": "stream",
     "text": [
      "218it [00:28,  7.71it/s]"
     ]
    },
    {
     "name": "stdout",
     "output_type": "stream",
     "text": [
      "Overall Acc: \t 0.568024436958\n",
      "Mean Acc : \t 0.452689881399\n",
      "FreqW Acc : \t 0.402132944432\n",
      "Mean IoU : \t 0.315194599644\n"
     ]
    },
    {
     "name": "stderr",
     "output_type": "stream",
     "text": [
      "\n"
     ]
    },
    {
     "name": "stdout",
     "output_type": "stream",
     "text": [
      "Epoch [47/50] Loss: 0.9322\n",
      "Epoch [47/50] Loss: 1.0019\n"
     ]
    },
    {
     "name": "stderr",
     "output_type": "stream",
     "text": [
      "218it [00:28,  7.70it/s]\n"
     ]
    },
    {
     "name": "stdout",
     "output_type": "stream",
     "text": [
      "Overall Acc: \t 0.570399330442\n",
      "Mean Acc : \t 0.452000585374\n",
      "FreqW Acc : \t 0.404999924305\n",
      "Mean IoU : \t 0.317427063216\n",
      "Epoch [48/50] Loss: 1.0352\n",
      "Epoch [48/50] Loss: 0.6873\n"
     ]
    },
    {
     "name": "stderr",
     "output_type": "stream",
     "text": [
      "218it [00:28,  7.62it/s]"
     ]
    },
    {
     "name": "stdout",
     "output_type": "stream",
     "text": [
      "Overall Acc: \t 0.565951018572\n",
      "Mean Acc : \t 0.431052291729\n",
      "FreqW Acc : \t 0.395072023974\n",
      "Mean IoU : \t 0.306326126676\n"
     ]
    },
    {
     "name": "stderr",
     "output_type": "stream",
     "text": [
      "\n"
     ]
    },
    {
     "name": "stdout",
     "output_type": "stream",
     "text": [
      "Epoch [49/50] Loss: 1.1605\n",
      "Epoch [49/50] Loss: 0.9714\n"
     ]
    },
    {
     "name": "stderr",
     "output_type": "stream",
     "text": [
      "218it [00:28,  7.72it/s]"
     ]
    },
    {
     "name": "stdout",
     "output_type": "stream",
     "text": [
      "Overall Acc: \t 0.568470659324\n",
      "Mean Acc : \t 0.449499392533\n",
      "FreqW Acc : \t 0.403029073654\n",
      "Mean IoU : \t 0.316163598259\n"
     ]
    },
    {
     "name": "stderr",
     "output_type": "stream",
     "text": [
      "\n"
     ]
    },
    {
     "name": "stdout",
     "output_type": "stream",
     "text": [
      "Epoch [50/50] Loss: 1.1297\n",
      "Epoch [50/50] Loss: 0.9442\n"
     ]
    },
    {
     "name": "stderr",
     "output_type": "stream",
     "text": [
      "218it [00:28,  7.68it/s]\n"
     ]
    },
    {
     "name": "stdout",
     "output_type": "stream",
     "text": [
      "Overall Acc: \t 0.567805078722\n",
      "Mean Acc : \t 0.459938796014\n",
      "FreqW Acc : \t 0.401774752821\n",
      "Mean IoU : \t 0.318767884525\n"
     ]
    }
   ],
   "source": [
    "best_iou = -100.0 \n",
    "for epoch in range(args.n_epoch):\n",
    "    model.train()\n",
    "    for i, (color_imgs, depth_imgs, label_imgs) in enumerate(trainloader):\n",
    "        color_imgs = Variable(color_imgs.cuda())\n",
    "        depth_imgs = Variable(depth_imgs.cuda())\n",
    "        label_imgs = Variable(label_imgs.cuda())\n",
    "\n",
    "        optimizer.zero_grad()\n",
    "        outputs = model(color_imgs)\n",
    "\n",
    "        loss = loss_fn(input=outputs, target=label_imgs)\n",
    "\n",
    "        loss.backward()\n",
    "        optimizer.step()\n",
    "\n",
    "        if args.visdom:\n",
    "            vis.line(\n",
    "                X=torch.ones((1, 1)).cpu() * i,\n",
    "                Y=torch.Tensor([loss.data[0]]).unsqueeze(0).cpu(),\n",
    "                win=loss_window,\n",
    "                update='append')\n",
    "\n",
    "        if (i+1) % 100 == 0:\n",
    "            print(\"Epoch [%d/%d] Loss: %.4f\" % (epoch+1, args.n_epoch, loss.data[0]))\n",
    "\n",
    "    model.eval()\n",
    "    for i_val, (color_images_val, depth_images_val, label_images_val) in tqdm(enumerate(valloader)):\n",
    "        color_images_val = Variable(color_images_val.cuda(), volatile=True)\n",
    "        depth_images_val = Variable(depth_images_val.cuda(), volatile=True)\n",
    "        label_images_val = Variable(label_images_val.cuda(), volatile=True)\n",
    "\n",
    "        outputs = model(color_images_val)\n",
    "        pred = outputs.data.max(1)[1].cpu().numpy()\n",
    "        gt = label_images_val.data.cpu().numpy()\n",
    "        running_metrics.update(gt, pred)\n",
    "\n",
    "    score, class_iou = running_metrics.get_scores()\n",
    "    for k, v in score.items():\n",
    "        print(k, v)\n",
    "    running_metrics.reset()\n",
    "\n",
    "    if score['Mean IoU : \\t'] >= best_iou:\n",
    "        best_iou = score['Mean IoU : \\t']\n",
    "        state = {'epoch': epoch+1,\n",
    "                 'model_state': model.state_dict(),\n",
    "                 'optimizer_state' : optimizer.state_dict(),}\n",
    "        torch.save(state, \"../model_weights/{}_{}_best_model.pkl\".format(args.arch, 'NYUDv2'))"
   ]
  },
  {
   "cell_type": "markdown",
   "metadata": {},
   "source": [
    "# Training FCN_RGB_renet on NYUDv2"
   ]
  },
  {
   "cell_type": "markdown",
   "metadata": {},
   "source": [
    "# Second round"
   ]
  },
  {
   "cell_type": "code",
   "execution_count": 1,
   "metadata": {},
   "outputs": [
    {
     "name": "stdout",
     "output_type": "stream",
     "text": [
      "Loading model and optimizer from checkpoint '../model_weights/FCN_RGB_renet_NYUDv2_best_model.pkl'\n",
      "Loaded checkpoint '../model_weights/FCN_RGB_renet_NYUDv2_best_model.pkl' (epoch 50)\n"
     ]
    },
    {
     "name": "stderr",
     "output_type": "stream",
     "text": [
      "/home/dongwonshin/.conda/envs/pytorch/lib/python3.6/site-packages/torch/nn/functional.py:1462: UserWarning: nn.functional.upsample_bilinear is deprecated. Use nn.functional.upsample instead.\n",
      "  warnings.warn(\"nn.functional.upsample_bilinear is deprecated. Use nn.functional.upsample instead.\")\n"
     ]
    },
    {
     "name": "stdout",
     "output_type": "stream",
     "text": [
      "Epoch [1/50] Loss: 1.4621\n",
      "Epoch [1/50] Loss: 1.0218\n"
     ]
    },
    {
     "name": "stderr",
     "output_type": "stream",
     "text": [
      "218it [00:28,  7.57it/s]\n"
     ]
    },
    {
     "name": "stdout",
     "output_type": "stream",
     "text": [
      "Overall Acc: \t 0.569296292646\n",
      "Mean Acc : \t 0.451383578935\n",
      "FreqW Acc : \t 0.40032110087\n",
      "Mean IoU : \t 0.316303967225\n",
      "Epoch [2/50] Loss: 0.8557\n",
      "Epoch [2/50] Loss: 0.9636\n"
     ]
    },
    {
     "name": "stderr",
     "output_type": "stream",
     "text": [
      "218it [00:28,  7.66it/s]\n"
     ]
    },
    {
     "name": "stdout",
     "output_type": "stream",
     "text": [
      "Overall Acc: \t 0.569564807515\n",
      "Mean Acc : \t 0.447226832144\n",
      "FreqW Acc : \t 0.403887740261\n",
      "Mean IoU : \t 0.317613373177\n",
      "Epoch [3/50] Loss: 0.9354\n",
      "Epoch [3/50] Loss: 1.0242\n"
     ]
    },
    {
     "name": "stderr",
     "output_type": "stream",
     "text": [
      "218it [00:28,  7.54it/s]\n"
     ]
    },
    {
     "name": "stdout",
     "output_type": "stream",
     "text": [
      "Overall Acc: \t 0.571908617243\n",
      "Mean Acc : \t 0.454045895562\n",
      "FreqW Acc : \t 0.403889827157\n",
      "Mean IoU : \t 0.319394841044\n",
      "Epoch [4/50] Loss: 0.9082\n",
      "Epoch [4/50] Loss: 0.8665\n"
     ]
    },
    {
     "name": "stderr",
     "output_type": "stream",
     "text": [
      "218it [00:28,  7.66it/s]"
     ]
    },
    {
     "name": "stdout",
     "output_type": "stream",
     "text": [
      "Overall Acc: \t 0.571619197367\n",
      "Mean Acc : \t 0.445851888473\n",
      "FreqW Acc : \t 0.403564813807\n",
      "Mean IoU : \t 0.317511324487\n"
     ]
    },
    {
     "name": "stderr",
     "output_type": "stream",
     "text": [
      "\n"
     ]
    },
    {
     "name": "stdout",
     "output_type": "stream",
     "text": [
      "Epoch [5/50] Loss: 1.0289\n",
      "Epoch [5/50] Loss: 0.7472\n"
     ]
    },
    {
     "name": "stderr",
     "output_type": "stream",
     "text": [
      "218it [00:28,  7.53it/s]\n"
     ]
    },
    {
     "name": "stdout",
     "output_type": "stream",
     "text": [
      "Overall Acc: \t 0.571461026097\n",
      "Mean Acc : \t 0.454128748898\n",
      "FreqW Acc : \t 0.404622481414\n",
      "Mean IoU : \t 0.320996655436\n",
      "Epoch [6/50] Loss: 0.8331\n",
      "Epoch [6/50] Loss: 0.8324\n"
     ]
    },
    {
     "name": "stderr",
     "output_type": "stream",
     "text": [
      "218it [00:28,  7.58it/s]\n"
     ]
    },
    {
     "name": "stdout",
     "output_type": "stream",
     "text": [
      "Overall Acc: \t 0.572418654633\n",
      "Mean Acc : \t 0.467956075562\n",
      "FreqW Acc : \t 0.408879858447\n",
      "Mean IoU : \t 0.326376702098\n",
      "Epoch [7/50] Loss: 0.6907\n",
      "Epoch [7/50] Loss: 0.7501\n"
     ]
    },
    {
     "name": "stderr",
     "output_type": "stream",
     "text": [
      "218it [00:28,  7.62it/s]"
     ]
    },
    {
     "name": "stdout",
     "output_type": "stream",
     "text": [
      "Overall Acc: \t 0.572022300666\n",
      "Mean Acc : \t 0.459175222362\n",
      "FreqW Acc : \t 0.407420323637\n",
      "Mean IoU : \t 0.323046275659\n"
     ]
    },
    {
     "name": "stderr",
     "output_type": "stream",
     "text": [
      "\n"
     ]
    },
    {
     "name": "stdout",
     "output_type": "stream",
     "text": [
      "Epoch [8/50] Loss: 0.8466\n",
      "Epoch [8/50] Loss: 1.0066\n"
     ]
    },
    {
     "name": "stderr",
     "output_type": "stream",
     "text": [
      "218it [00:28,  7.75it/s]"
     ]
    },
    {
     "name": "stdout",
     "output_type": "stream",
     "text": [
      "Overall Acc: \t 0.571466033344\n",
      "Mean Acc : \t 0.448257371812\n",
      "FreqW Acc : \t 0.401517254207\n",
      "Mean IoU : \t 0.313474193645\n"
     ]
    },
    {
     "name": "stderr",
     "output_type": "stream",
     "text": [
      "\n"
     ]
    },
    {
     "name": "stdout",
     "output_type": "stream",
     "text": [
      "Epoch [9/50] Loss: 0.9327\n",
      "Epoch [9/50] Loss: 0.9919\n"
     ]
    },
    {
     "name": "stderr",
     "output_type": "stream",
     "text": [
      "218it [00:28,  7.60it/s]"
     ]
    },
    {
     "name": "stdout",
     "output_type": "stream",
     "text": [
      "Overall Acc: \t 0.572263260743\n",
      "Mean Acc : \t 0.456256598913\n",
      "FreqW Acc : \t 0.407716892217\n",
      "Mean IoU : \t 0.324301431251\n"
     ]
    },
    {
     "name": "stderr",
     "output_type": "stream",
     "text": [
      "\n"
     ]
    },
    {
     "name": "stdout",
     "output_type": "stream",
     "text": [
      "Epoch [10/50] Loss: 0.8050\n",
      "Epoch [10/50] Loss: 0.9044\n"
     ]
    },
    {
     "name": "stderr",
     "output_type": "stream",
     "text": [
      "218it [00:28,  7.66it/s]"
     ]
    },
    {
     "name": "stdout",
     "output_type": "stream",
     "text": [
      "Overall Acc: \t 0.570934503616\n",
      "Mean Acc : \t 0.447369271431\n",
      "FreqW Acc : \t 0.405119816613\n",
      "Mean IoU : \t 0.320245011102\n"
     ]
    },
    {
     "name": "stderr",
     "output_type": "stream",
     "text": [
      "\n"
     ]
    },
    {
     "name": "stdout",
     "output_type": "stream",
     "text": [
      "Epoch [11/50] Loss: 0.6847\n",
      "Epoch [11/50] Loss: 0.7515\n"
     ]
    },
    {
     "name": "stderr",
     "output_type": "stream",
     "text": [
      "218it [00:28,  7.53it/s]"
     ]
    },
    {
     "name": "stdout",
     "output_type": "stream",
     "text": [
      "Overall Acc: \t 0.572467179138\n",
      "Mean Acc : \t 0.463004087178\n",
      "FreqW Acc : \t 0.408769686567\n",
      "Mean IoU : \t 0.32578729569\n"
     ]
    },
    {
     "name": "stderr",
     "output_type": "stream",
     "text": [
      "\n"
     ]
    },
    {
     "name": "stdout",
     "output_type": "stream",
     "text": [
      "Epoch [12/50] Loss: 0.9846\n",
      "Epoch [12/50] Loss: 0.9694\n"
     ]
    },
    {
     "name": "stderr",
     "output_type": "stream",
     "text": [
      "218it [00:28,  7.54it/s]"
     ]
    },
    {
     "name": "stdout",
     "output_type": "stream",
     "text": [
      "Overall Acc: \t 0.572313238644\n",
      "Mean Acc : \t 0.462269374705\n",
      "FreqW Acc : \t 0.406111060158\n",
      "Mean IoU : \t 0.323789724912\n"
     ]
    },
    {
     "name": "stderr",
     "output_type": "stream",
     "text": [
      "\n"
     ]
    },
    {
     "name": "stdout",
     "output_type": "stream",
     "text": [
      "Epoch [13/50] Loss: 0.8791\n",
      "Epoch [13/50] Loss: 0.8207\n"
     ]
    },
    {
     "name": "stderr",
     "output_type": "stream",
     "text": [
      "218it [00:28,  7.57it/s]"
     ]
    },
    {
     "name": "stdout",
     "output_type": "stream",
     "text": [
      "Overall Acc: \t 0.573177815009\n",
      "Mean Acc : \t 0.453685653576\n",
      "FreqW Acc : \t 0.405025518155\n",
      "Mean IoU : \t 0.321749817251\n"
     ]
    },
    {
     "name": "stderr",
     "output_type": "stream",
     "text": [
      "\n"
     ]
    },
    {
     "name": "stdout",
     "output_type": "stream",
     "text": [
      "Epoch [14/50] Loss: 0.6305\n",
      "Epoch [14/50] Loss: 0.9096\n"
     ]
    },
    {
     "name": "stderr",
     "output_type": "stream",
     "text": [
      "218it [00:28,  7.52it/s]"
     ]
    },
    {
     "name": "stdout",
     "output_type": "stream",
     "text": [
      "Overall Acc: \t 0.571109010656\n",
      "Mean Acc : \t 0.467051249477\n",
      "FreqW Acc : \t 0.407918486138\n",
      "Mean IoU : \t 0.325977292358\n"
     ]
    },
    {
     "name": "stderr",
     "output_type": "stream",
     "text": [
      "\n"
     ]
    },
    {
     "name": "stdout",
     "output_type": "stream",
     "text": [
      "Epoch [15/50] Loss: 0.8165\n",
      "Epoch [15/50] Loss: 0.8700\n"
     ]
    },
    {
     "name": "stderr",
     "output_type": "stream",
     "text": [
      "218it [00:28,  7.60it/s]\n"
     ]
    },
    {
     "name": "stdout",
     "output_type": "stream",
     "text": [
      "Overall Acc: \t 0.573089650628\n",
      "Mean Acc : \t 0.474807293785\n",
      "FreqW Acc : \t 0.408790990926\n",
      "Mean IoU : \t 0.330944199592\n",
      "Epoch [16/50] Loss: 0.7564\n",
      "Epoch [16/50] Loss: 0.6182\n"
     ]
    },
    {
     "name": "stderr",
     "output_type": "stream",
     "text": [
      "218it [00:28,  7.65it/s]"
     ]
    },
    {
     "name": "stdout",
     "output_type": "stream",
     "text": [
      "Overall Acc: \t 0.571494718001\n",
      "Mean Acc : \t 0.456241199012\n",
      "FreqW Acc : \t 0.403877135246\n",
      "Mean IoU : \t 0.322234053199\n"
     ]
    },
    {
     "name": "stderr",
     "output_type": "stream",
     "text": [
      "\n"
     ]
    },
    {
     "name": "stdout",
     "output_type": "stream",
     "text": [
      "Epoch [17/50] Loss: 0.5392\n",
      "Epoch [17/50] Loss: 0.9965\n"
     ]
    },
    {
     "name": "stderr",
     "output_type": "stream",
     "text": [
      "218it [00:28,  7.63it/s]"
     ]
    },
    {
     "name": "stdout",
     "output_type": "stream",
     "text": [
      "Overall Acc: \t 0.573500891947\n",
      "Mean Acc : \t 0.465487914032\n",
      "FreqW Acc : \t 0.404776256779\n",
      "Mean IoU : \t 0.327008547674\n"
     ]
    },
    {
     "name": "stderr",
     "output_type": "stream",
     "text": [
      "\n"
     ]
    },
    {
     "name": "stdout",
     "output_type": "stream",
     "text": [
      "Epoch [18/50] Loss: 0.7583\n",
      "Epoch [18/50] Loss: 0.7228\n"
     ]
    },
    {
     "name": "stderr",
     "output_type": "stream",
     "text": [
      "218it [00:28,  7.58it/s]"
     ]
    },
    {
     "name": "stdout",
     "output_type": "stream",
     "text": [
      "Overall Acc: \t 0.570621540719\n",
      "Mean Acc : \t 0.463472358598\n",
      "FreqW Acc : \t 0.402332151477\n",
      "Mean IoU : \t 0.322068952254\n"
     ]
    },
    {
     "name": "stderr",
     "output_type": "stream",
     "text": [
      "\n"
     ]
    },
    {
     "name": "stdout",
     "output_type": "stream",
     "text": [
      "Epoch [19/50] Loss: 0.9695\n",
      "Epoch [19/50] Loss: 0.7673\n"
     ]
    },
    {
     "name": "stderr",
     "output_type": "stream",
     "text": [
      "218it [00:28,  7.53it/s]"
     ]
    },
    {
     "name": "stdout",
     "output_type": "stream",
     "text": [
      "Overall Acc: \t 0.571590711806\n",
      "Mean Acc : \t 0.461756250077\n",
      "FreqW Acc : \t 0.40368835697\n",
      "Mean IoU : \t 0.324536120297\n"
     ]
    },
    {
     "name": "stderr",
     "output_type": "stream",
     "text": [
      "\n"
     ]
    },
    {
     "name": "stdout",
     "output_type": "stream",
     "text": [
      "Epoch [20/50] Loss: 0.7414\n",
      "Epoch [20/50] Loss: 0.9503\n"
     ]
    },
    {
     "name": "stderr",
     "output_type": "stream",
     "text": [
      "218it [00:28,  7.58it/s]"
     ]
    },
    {
     "name": "stdout",
     "output_type": "stream",
     "text": [
      "Overall Acc: \t 0.573059348321\n",
      "Mean Acc : \t 0.466130501618\n",
      "FreqW Acc : \t 0.407187994795\n",
      "Mean IoU : \t 0.326432179494\n"
     ]
    },
    {
     "name": "stderr",
     "output_type": "stream",
     "text": [
      "\n"
     ]
    },
    {
     "name": "stdout",
     "output_type": "stream",
     "text": [
      "Epoch [21/50] Loss: 0.8005\n",
      "Epoch [21/50] Loss: 0.8458\n"
     ]
    },
    {
     "name": "stderr",
     "output_type": "stream",
     "text": [
      "218it [00:28,  7.55it/s]"
     ]
    },
    {
     "name": "stdout",
     "output_type": "stream",
     "text": [
      "Overall Acc: \t 0.572390348258\n",
      "Mean Acc : \t 0.449223555583\n",
      "FreqW Acc : \t 0.403780806484\n",
      "Mean IoU : \t 0.32193780689\n"
     ]
    },
    {
     "name": "stderr",
     "output_type": "stream",
     "text": [
      "\n"
     ]
    },
    {
     "name": "stdout",
     "output_type": "stream",
     "text": [
      "Epoch [22/50] Loss: 0.7211\n",
      "Epoch [22/50] Loss: 0.8264\n"
     ]
    },
    {
     "name": "stderr",
     "output_type": "stream",
     "text": [
      "218it [00:29,  7.51it/s]"
     ]
    },
    {
     "name": "stdout",
     "output_type": "stream",
     "text": [
      "Overall Acc: \t 0.573729513093\n",
      "Mean Acc : \t 0.455131483372\n",
      "FreqW Acc : \t 0.404832866296\n",
      "Mean IoU : \t 0.323030226488\n"
     ]
    },
    {
     "name": "stderr",
     "output_type": "stream",
     "text": [
      "\n"
     ]
    },
    {
     "name": "stdout",
     "output_type": "stream",
     "text": [
      "Epoch [23/50] Loss: 0.6597\n",
      "Epoch [23/50] Loss: 0.8114\n"
     ]
    },
    {
     "name": "stderr",
     "output_type": "stream",
     "text": [
      "218it [00:28,  7.66it/s]"
     ]
    },
    {
     "name": "stdout",
     "output_type": "stream",
     "text": [
      "Overall Acc: \t 0.57337772661\n",
      "Mean Acc : \t 0.462882956148\n",
      "FreqW Acc : \t 0.407575135551\n",
      "Mean IoU : \t 0.32672333432\n"
     ]
    },
    {
     "name": "stderr",
     "output_type": "stream",
     "text": [
      "\n"
     ]
    },
    {
     "name": "stdout",
     "output_type": "stream",
     "text": [
      "Epoch [24/50] Loss: 0.6037\n",
      "Epoch [24/50] Loss: 0.8506\n"
     ]
    },
    {
     "name": "stderr",
     "output_type": "stream",
     "text": [
      "218it [00:28,  7.52it/s]\n"
     ]
    },
    {
     "name": "stdout",
     "output_type": "stream",
     "text": [
      "Overall Acc: \t 0.575731431376\n",
      "Mean Acc : \t 0.470419503093\n",
      "FreqW Acc : \t 0.409104773363\n",
      "Mean IoU : \t 0.33292155455\n",
      "Epoch [25/50] Loss: 0.8918\n",
      "Epoch [25/50] Loss: 0.6353\n"
     ]
    },
    {
     "name": "stderr",
     "output_type": "stream",
     "text": [
      "218it [00:30,  7.13it/s]"
     ]
    },
    {
     "name": "stdout",
     "output_type": "stream",
     "text": [
      "Overall Acc: \t 0.574403445743\n",
      "Mean Acc : \t 0.460263258766\n",
      "FreqW Acc : \t 0.405045609822\n",
      "Mean IoU : \t 0.323957087764\n"
     ]
    },
    {
     "name": "stderr",
     "output_type": "stream",
     "text": [
      "\n"
     ]
    },
    {
     "name": "stdout",
     "output_type": "stream",
     "text": [
      "Epoch [26/50] Loss: 0.8247\n",
      "Epoch [26/50] Loss: 0.5073\n"
     ]
    },
    {
     "name": "stderr",
     "output_type": "stream",
     "text": [
      "218it [00:28,  7.70it/s]"
     ]
    },
    {
     "name": "stdout",
     "output_type": "stream",
     "text": [
      "Overall Acc: \t 0.573248593392\n",
      "Mean Acc : \t 0.463744854151\n",
      "FreqW Acc : \t 0.40722785466\n",
      "Mean IoU : \t 0.328027049953\n"
     ]
    },
    {
     "name": "stderr",
     "output_type": "stream",
     "text": [
      "\n"
     ]
    },
    {
     "name": "stdout",
     "output_type": "stream",
     "text": [
      "Epoch [27/50] Loss: 0.8711\n",
      "Epoch [27/50] Loss: 0.6070\n"
     ]
    },
    {
     "name": "stderr",
     "output_type": "stream",
     "text": [
      "218it [00:29,  7.41it/s]"
     ]
    },
    {
     "name": "stdout",
     "output_type": "stream",
     "text": [
      "Overall Acc: \t 0.576041308295\n",
      "Mean Acc : \t 0.469309998422\n",
      "FreqW Acc : \t 0.410107752287\n",
      "Mean IoU : \t 0.332364255984\n"
     ]
    },
    {
     "name": "stderr",
     "output_type": "stream",
     "text": [
      "\n"
     ]
    },
    {
     "name": "stdout",
     "output_type": "stream",
     "text": [
      "Epoch [28/50] Loss: 0.9180\n",
      "Epoch [28/50] Loss: 0.6620\n"
     ]
    },
    {
     "name": "stderr",
     "output_type": "stream",
     "text": [
      "218it [00:28,  7.59it/s]\n"
     ]
    },
    {
     "name": "stdout",
     "output_type": "stream",
     "text": [
      "Overall Acc: \t 0.576570936664\n",
      "Mean Acc : \t 0.47072821225\n",
      "FreqW Acc : \t 0.411759050303\n",
      "Mean IoU : \t 0.333695996923\n",
      "Epoch [29/50] Loss: 0.7985\n",
      "Epoch [29/50] Loss: 0.8593\n"
     ]
    },
    {
     "name": "stderr",
     "output_type": "stream",
     "text": [
      "218it [00:28,  7.54it/s]"
     ]
    },
    {
     "name": "stdout",
     "output_type": "stream",
     "text": [
      "Overall Acc: \t 0.575664415894\n",
      "Mean Acc : \t 0.473193434766\n",
      "FreqW Acc : \t 0.409282325484\n",
      "Mean IoU : \t 0.332007191598\n"
     ]
    },
    {
     "name": "stderr",
     "output_type": "stream",
     "text": [
      "\n"
     ]
    },
    {
     "name": "stdout",
     "output_type": "stream",
     "text": [
      "Epoch [30/50] Loss: 0.9954\n",
      "Epoch [30/50] Loss: 0.7204\n"
     ]
    },
    {
     "name": "stderr",
     "output_type": "stream",
     "text": [
      "218it [00:28,  7.71it/s]"
     ]
    },
    {
     "name": "stdout",
     "output_type": "stream",
     "text": [
      "Overall Acc: \t 0.575543968208\n",
      "Mean Acc : \t 0.468656439369\n",
      "FreqW Acc : \t 0.411094844057\n",
      "Mean IoU : \t 0.332661937677\n"
     ]
    },
    {
     "name": "stderr",
     "output_type": "stream",
     "text": [
      "\n"
     ]
    },
    {
     "name": "stdout",
     "output_type": "stream",
     "text": [
      "Epoch [31/50] Loss: 0.6965\n",
      "Epoch [31/50] Loss: 0.7101\n"
     ]
    },
    {
     "name": "stderr",
     "output_type": "stream",
     "text": [
      "218it [00:28,  7.61it/s]"
     ]
    },
    {
     "name": "stdout",
     "output_type": "stream",
     "text": [
      "Overall Acc: \t 0.576344714617\n",
      "Mean Acc : \t 0.461096036835\n",
      "FreqW Acc : \t 0.409230314043\n",
      "Mean IoU : \t 0.329039500583\n"
     ]
    },
    {
     "name": "stderr",
     "output_type": "stream",
     "text": [
      "\n"
     ]
    },
    {
     "name": "stdout",
     "output_type": "stream",
     "text": [
      "Epoch [32/50] Loss: 0.6792\n",
      "Epoch [32/50] Loss: 0.7621\n"
     ]
    },
    {
     "name": "stderr",
     "output_type": "stream",
     "text": [
      "218it [00:28,  7.53it/s]"
     ]
    },
    {
     "name": "stdout",
     "output_type": "stream",
     "text": [
      "Overall Acc: \t 0.574806145873\n",
      "Mean Acc : \t 0.468443120139\n",
      "FreqW Acc : \t 0.411042707345\n",
      "Mean IoU : \t 0.33224922993\n"
     ]
    },
    {
     "name": "stderr",
     "output_type": "stream",
     "text": [
      "\n"
     ]
    },
    {
     "name": "stdout",
     "output_type": "stream",
     "text": [
      "Epoch [33/50] Loss: 0.7137\n",
      "Epoch [33/50] Loss: 0.7949\n"
     ]
    },
    {
     "name": "stderr",
     "output_type": "stream",
     "text": [
      "218it [00:28,  7.63it/s]"
     ]
    },
    {
     "name": "stdout",
     "output_type": "stream",
     "text": [
      "Overall Acc: \t 0.573212368\n",
      "Mean Acc : \t 0.458671370526\n",
      "FreqW Acc : \t 0.402999183537\n",
      "Mean IoU : \t 0.325767366115\n"
     ]
    },
    {
     "name": "stderr",
     "output_type": "stream",
     "text": [
      "\n"
     ]
    },
    {
     "name": "stdout",
     "output_type": "stream",
     "text": [
      "Epoch [34/50] Loss: 0.8240\n",
      "Epoch [34/50] Loss: 0.5567\n"
     ]
    },
    {
     "name": "stderr",
     "output_type": "stream",
     "text": [
      "218it [00:29,  7.49it/s]"
     ]
    },
    {
     "name": "stdout",
     "output_type": "stream",
     "text": [
      "Overall Acc: \t 0.575438412852\n",
      "Mean Acc : \t 0.475378758843\n",
      "FreqW Acc : \t 0.409509921209\n",
      "Mean IoU : \t 0.333471128581\n"
     ]
    },
    {
     "name": "stderr",
     "output_type": "stream",
     "text": [
      "\n"
     ]
    },
    {
     "name": "stdout",
     "output_type": "stream",
     "text": [
      "Epoch [35/50] Loss: 0.7211\n",
      "Epoch [35/50] Loss: 0.7888\n"
     ]
    },
    {
     "name": "stderr",
     "output_type": "stream",
     "text": [
      "218it [00:28,  7.62it/s]"
     ]
    },
    {
     "name": "stdout",
     "output_type": "stream",
     "text": [
      "Overall Acc: \t 0.576324491511\n",
      "Mean Acc : \t 0.474070658056\n",
      "FreqW Acc : \t 0.411112078471\n",
      "Mean IoU : \t 0.332608041211\n"
     ]
    },
    {
     "name": "stderr",
     "output_type": "stream",
     "text": [
      "\n"
     ]
    },
    {
     "name": "stdout",
     "output_type": "stream",
     "text": [
      "Epoch [36/50] Loss: 0.9405\n",
      "Epoch [36/50] Loss: 0.6463\n"
     ]
    },
    {
     "name": "stderr",
     "output_type": "stream",
     "text": [
      "218it [00:28,  7.60it/s]"
     ]
    },
    {
     "name": "stdout",
     "output_type": "stream",
     "text": [
      "Overall Acc: \t 0.576760032413\n",
      "Mean Acc : \t 0.466715964902\n",
      "FreqW Acc : \t 0.41105339367\n",
      "Mean IoU : \t 0.33198214994\n"
     ]
    },
    {
     "name": "stderr",
     "output_type": "stream",
     "text": [
      "\n"
     ]
    },
    {
     "name": "stdout",
     "output_type": "stream",
     "text": [
      "Epoch [37/50] Loss: 0.8176\n",
      "Epoch [37/50] Loss: 0.6976\n"
     ]
    },
    {
     "name": "stderr",
     "output_type": "stream",
     "text": [
      "218it [00:28,  7.54it/s]"
     ]
    },
    {
     "name": "stdout",
     "output_type": "stream",
     "text": [
      "Overall Acc: \t 0.576490905326\n",
      "Mean Acc : \t 0.472005864882\n",
      "FreqW Acc : \t 0.410227342507\n",
      "Mean IoU : \t 0.333017523927\n"
     ]
    },
    {
     "name": "stderr",
     "output_type": "stream",
     "text": [
      "\n"
     ]
    },
    {
     "name": "stdout",
     "output_type": "stream",
     "text": [
      "Epoch [38/50] Loss: 0.5685\n",
      "Epoch [38/50] Loss: 0.7752\n"
     ]
    },
    {
     "name": "stderr",
     "output_type": "stream",
     "text": [
      "218it [00:28,  7.59it/s]"
     ]
    },
    {
     "name": "stdout",
     "output_type": "stream",
     "text": [
      "Overall Acc: \t 0.575989458899\n",
      "Mean Acc : \t 0.469931803577\n",
      "FreqW Acc : \t 0.410892440754\n",
      "Mean IoU : \t 0.333054905692\n"
     ]
    },
    {
     "name": "stderr",
     "output_type": "stream",
     "text": [
      "\n"
     ]
    },
    {
     "name": "stdout",
     "output_type": "stream",
     "text": [
      "Epoch [39/50] Loss: 0.8085\n",
      "Epoch [39/50] Loss: 0.6483\n"
     ]
    },
    {
     "name": "stderr",
     "output_type": "stream",
     "text": [
      "218it [00:29,  7.49it/s]"
     ]
    },
    {
     "name": "stdout",
     "output_type": "stream",
     "text": [
      "Overall Acc: \t 0.576299753918\n",
      "Mean Acc : \t 0.472923727627\n",
      "FreqW Acc : \t 0.410795161004\n",
      "Mean IoU : \t 0.333626404657\n"
     ]
    },
    {
     "name": "stderr",
     "output_type": "stream",
     "text": [
      "\n"
     ]
    },
    {
     "name": "stdout",
     "output_type": "stream",
     "text": [
      "Epoch [40/50] Loss: 0.7243\n",
      "Epoch [40/50] Loss: 0.7721\n"
     ]
    },
    {
     "name": "stderr",
     "output_type": "stream",
     "text": [
      "218it [00:28,  7.66it/s]"
     ]
    },
    {
     "name": "stdout",
     "output_type": "stream",
     "text": [
      "Overall Acc: \t 0.575393551701\n",
      "Mean Acc : \t 0.466856983911\n",
      "FreqW Acc : \t 0.410561653649\n",
      "Mean IoU : \t 0.331899376647\n"
     ]
    },
    {
     "name": "stderr",
     "output_type": "stream",
     "text": [
      "\n"
     ]
    },
    {
     "name": "stdout",
     "output_type": "stream",
     "text": [
      "Epoch [41/50] Loss: 0.6442\n",
      "Epoch [41/50] Loss: 0.5726\n"
     ]
    },
    {
     "name": "stderr",
     "output_type": "stream",
     "text": [
      "218it [00:28,  7.69it/s]"
     ]
    },
    {
     "name": "stdout",
     "output_type": "stream",
     "text": [
      "Overall Acc: \t 0.57687096832\n",
      "Mean Acc : \t 0.472634068443\n",
      "FreqW Acc : \t 0.408036116331\n",
      "Mean IoU : \t 0.332508246198\n"
     ]
    },
    {
     "name": "stderr",
     "output_type": "stream",
     "text": [
      "\n"
     ]
    },
    {
     "name": "stdout",
     "output_type": "stream",
     "text": [
      "Epoch [42/50] Loss: 0.6118\n",
      "Epoch [42/50] Loss: 0.7442\n"
     ]
    },
    {
     "name": "stderr",
     "output_type": "stream",
     "text": [
      "218it [00:28,  7.65it/s]\n"
     ]
    },
    {
     "name": "stdout",
     "output_type": "stream",
     "text": [
      "Overall Acc: \t 0.57513025313\n",
      "Mean Acc : \t 0.473584709443\n",
      "FreqW Acc : \t 0.412172631551\n",
      "Mean IoU : \t 0.334946022052\n",
      "Epoch [43/50] Loss: 0.7582\n",
      "Epoch [43/50] Loss: 0.7496\n"
     ]
    },
    {
     "name": "stderr",
     "output_type": "stream",
     "text": [
      "218it [00:29,  7.50it/s]"
     ]
    },
    {
     "name": "stdout",
     "output_type": "stream",
     "text": [
      "Overall Acc: \t 0.577716401671\n",
      "Mean Acc : \t 0.46588890755\n",
      "FreqW Acc : \t 0.411568459677\n",
      "Mean IoU : \t 0.331849590899\n"
     ]
    },
    {
     "name": "stderr",
     "output_type": "stream",
     "text": [
      "\n"
     ]
    },
    {
     "name": "stdout",
     "output_type": "stream",
     "text": [
      "Epoch [44/50] Loss: 0.6079\n",
      "Epoch [44/50] Loss: 0.6743\n"
     ]
    },
    {
     "name": "stderr",
     "output_type": "stream",
     "text": [
      "218it [00:28,  7.62it/s]\n"
     ]
    },
    {
     "name": "stdout",
     "output_type": "stream",
     "text": [
      "Overall Acc: \t 0.574977163768\n",
      "Mean Acc : \t 0.483448707411\n",
      "FreqW Acc : \t 0.413634043205\n",
      "Mean IoU : \t 0.336421024838\n",
      "Epoch [45/50] Loss: 0.7621\n",
      "Epoch [45/50] Loss: 0.6858\n"
     ]
    },
    {
     "name": "stderr",
     "output_type": "stream",
     "text": [
      "218it [00:28,  7.58it/s]"
     ]
    },
    {
     "name": "stdout",
     "output_type": "stream",
     "text": [
      "Overall Acc: \t 0.575053511842\n",
      "Mean Acc : \t 0.46610077201\n",
      "FreqW Acc : \t 0.408147480435\n",
      "Mean IoU : \t 0.329933547582\n"
     ]
    },
    {
     "name": "stderr",
     "output_type": "stream",
     "text": [
      "\n"
     ]
    },
    {
     "name": "stdout",
     "output_type": "stream",
     "text": [
      "Epoch [46/50] Loss: 0.6024\n",
      "Epoch [46/50] Loss: 0.6922\n"
     ]
    },
    {
     "name": "stderr",
     "output_type": "stream",
     "text": [
      "218it [00:28,  7.69it/s]"
     ]
    },
    {
     "name": "stdout",
     "output_type": "stream",
     "text": [
      "Overall Acc: \t 0.57706160208\n",
      "Mean Acc : \t 0.465855288565\n",
      "FreqW Acc : \t 0.409829181913\n",
      "Mean IoU : \t 0.331215606426\n"
     ]
    },
    {
     "name": "stderr",
     "output_type": "stream",
     "text": [
      "\n"
     ]
    },
    {
     "name": "stdout",
     "output_type": "stream",
     "text": [
      "Epoch [47/50] Loss: 0.6174\n",
      "Epoch [47/50] Loss: 0.4422\n"
     ]
    },
    {
     "name": "stderr",
     "output_type": "stream",
     "text": [
      "218it [00:28,  7.77it/s]"
     ]
    },
    {
     "name": "stdout",
     "output_type": "stream",
     "text": [
      "Overall Acc: \t 0.574937648326\n",
      "Mean Acc : \t 0.46559303848\n",
      "FreqW Acc : \t 0.413382611464\n",
      "Mean IoU : \t 0.331992631938\n"
     ]
    },
    {
     "name": "stderr",
     "output_type": "stream",
     "text": [
      "\n"
     ]
    },
    {
     "name": "stdout",
     "output_type": "stream",
     "text": [
      "Epoch [48/50] Loss: 0.8277\n",
      "Epoch [48/50] Loss: 0.7411\n"
     ]
    },
    {
     "name": "stderr",
     "output_type": "stream",
     "text": [
      "218it [00:28,  7.75it/s]"
     ]
    },
    {
     "name": "stdout",
     "output_type": "stream",
     "text": [
      "Overall Acc: \t 0.573803347589\n",
      "Mean Acc : \t 0.471919453942\n",
      "FreqW Acc : \t 0.409013640372\n",
      "Mean IoU : \t 0.331085899793\n"
     ]
    },
    {
     "name": "stderr",
     "output_type": "stream",
     "text": [
      "\n"
     ]
    },
    {
     "name": "stdout",
     "output_type": "stream",
     "text": [
      "Epoch [49/50] Loss: 0.7083\n",
      "Epoch [49/50] Loss: 0.6314\n"
     ]
    },
    {
     "name": "stderr",
     "output_type": "stream",
     "text": [
      "218it [00:28,  7.69it/s]"
     ]
    },
    {
     "name": "stdout",
     "output_type": "stream",
     "text": [
      "Overall Acc: \t 0.576637688344\n",
      "Mean Acc : \t 0.477684888984\n",
      "FreqW Acc : \t 0.412060388018\n",
      "Mean IoU : \t 0.336389114756\n"
     ]
    },
    {
     "name": "stderr",
     "output_type": "stream",
     "text": [
      "\n"
     ]
    },
    {
     "name": "stdout",
     "output_type": "stream",
     "text": [
      "Epoch [50/50] Loss: 0.5691\n",
      "Epoch [50/50] Loss: 0.6600\n"
     ]
    },
    {
     "name": "stderr",
     "output_type": "stream",
     "text": [
      "218it [00:28,  7.73it/s]"
     ]
    },
    {
     "name": "stdout",
     "output_type": "stream",
     "text": [
      "Overall Acc: \t 0.575497658639\n",
      "Mean Acc : \t 0.470790266902\n",
      "FreqW Acc : \t 0.410566942668\n",
      "Mean IoU : \t 0.333973961041\n"
     ]
    },
    {
     "name": "stderr",
     "output_type": "stream",
     "text": [
      "\n"
     ]
    }
   ],
   "source": [
    "from utils import *\n",
    "\n",
    "arg_str = '--gpu_idx 2 ' \\\n",
    "          '--arch FCN_RGB_renet ' \\\n",
    "          '--dataset NYUDv2 ' \\\n",
    "          '--batch_size 3 ' \\\n",
    "          '--n_epoch 50 ' \\\n",
    "          '--resume ../model_weights/FCN_RGB_renet_NYUDv2_best_model.pkl ' \\\n",
    "          '--visdom'\n",
    "\n",
    "trainer = trainer(arg_str)\n",
    "trainer.model_init()\n",
    "trainer.training()"
   ]
  },
  {
   "cell_type": "code",
   "execution_count": null,
   "metadata": {},
   "outputs": [],
   "source": []
  }
 ],
 "metadata": {
  "kernelspec": {
   "display_name": "Python [conda env:pytorch]",
   "language": "python",
   "name": "conda-env-pytorch-py"
  },
  "language_info": {
   "codemirror_mode": {
    "name": "ipython",
    "version": 3
   },
   "file_extension": ".py",
   "mimetype": "text/x-python",
   "name": "python",
   "nbconvert_exporter": "python",
   "pygments_lexer": "ipython3",
   "version": "3.6.3"
  }
 },
 "nbformat": 4,
 "nbformat_minor": 2
}
