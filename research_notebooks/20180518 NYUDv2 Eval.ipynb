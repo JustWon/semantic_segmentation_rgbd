{
 "cells": [
  {
   "cell_type": "code",
   "execution_count": 1,
   "metadata": {},
   "outputs": [],
   "source": [
    "%matplotlib inline\n",
    "import os\n",
    "import numpy as np\n",
    "import argparse\n",
    "from validate import *\n",
    "\n",
    "os.environ['CUDA_VISIBLE_DEVICES'] = '3'"
   ]
  },
  {
   "cell_type": "code",
   "execution_count": 2,
   "metadata": {},
   "outputs": [],
   "source": [
    "parser = argparse.ArgumentParser(description='Hyperparams')\n",
    "parser.add_argument('--model_path', nargs='?', type=str, default='fcn8s_pascal_1_26.pkl', help='Path to the saved model')\n",
    "parser.add_argument('--model_name', nargs='?', type=str, default='fcn8s', help='model name')\n",
    "parser.add_argument('--dataset', nargs='?', type=str, default='pascal', help='Dataset to use [\\'pascal, camvid, ade20k etc\\']')\n",
    "parser.add_argument('--img_rows', nargs='?', type=int, default=256, help='Height of the input image')\n",
    "parser.add_argument('--img_cols', nargs='?', type=int, default=256, help='Width of the input image')\n",
    "\n",
    "parser.add_argument('--img_norm', dest='img_norm', action='store_true', help='Enable input image scales normalization [0, 1] | True by default')\n",
    "parser.add_argument('--no-img_norm', dest='img_norm', action='store_false', help='Disable input image scales normalization [0, 1] | True by default')\n",
    "parser.set_defaults(img_norm=True)\n",
    "\n",
    "parser.add_argument('--eval_flip', dest='eval_flip', action='store_true', help='Enable evaluation with flipped image | True by default')\n",
    "parser.add_argument('--no-eval_flip', dest='eval_flip', action='store_false', help='Disable evaluation with flipped image | True by default')\n",
    "parser.set_defaults(eval_flip=True)\n",
    "\n",
    "parser.add_argument('--batch_size', nargs='?', type=int, default=1, help='Batch Size')\n",
    "parser.add_argument('--split', nargs='?', type=str, default='val', help='Split of dataset to test on')\n",
    "\n",
    "parser.add_argument('--measure_time', dest='measure_time', action='store_true', help='Enable evaluation with time (fps) measurement | True by default')\n",
    "parser.add_argument('--no-measure_time', dest='measure_time', action='store_false', help='Disable evaluation with time (fps) measurement | True by default')\n",
    "parser.set_defaults(measure_time=True)"
   ]
  },
  {
   "cell_type": "code",
   "execution_count": 4,
   "metadata": {},
   "outputs": [
    {
     "name": "stdout",
     "output_type": "stream",
     "text": [
      "fcn8s\n"
     ]
    },
    {
     "name": "stderr",
     "output_type": "stream",
     "text": [
      "/home/dongwonshin/.conda/envs/pytorch/lib/python3.6/site-packages/torch/nn/functional.py:1462: UserWarning: nn.functional.upsample_bilinear is deprecated. Use nn.functional.upsample instead.\n",
      "  warnings.warn(\"nn.functional.upsample_bilinear is deprecated. Use nn.functional.upsample instead.\")\n"
     ]
    },
    {
     "name": "stdout",
     "output_type": "stream",
     "text": [
      "..........................................................................................................................................................................................................................Overall Acc: \t 0.596920712283\n",
      "Mean Acc : \t 0.528241262894\n",
      "FreqW Acc : \t 0.431822636044\n",
      "Mean IoU : \t 0.368255075436\n",
      "0 0.336049084794\n",
      "1 0.435824239976\n",
      "2 0.169340867518\n",
      "3 0.385553900728\n",
      "4 0.313565527541\n",
      "5 0.656703122688\n",
      "6 0.371386475936\n",
      "7 0.282175606303\n",
      "8 0.384439591972\n",
      "9 0.370132259647\n",
      "10 0.228007505937\n",
      "11 0.208435602814\n",
      "12 0.596037315169\n",
      "13 0.417919955082\n"
     ]
    }
   ],
   "source": [
    "validate(parser.parse_args('--model_path ../model_weights/fcn8s_NYUDv2_best_model.pkl --model_name fcn8s --dataset NYUDv2 --batch_size 3'.split(' ')))"
   ]
  },
  {
   "cell_type": "code",
   "execution_count": 8,
   "metadata": {},
   "outputs": [
    {
     "name": "stdout",
     "output_type": "stream",
     "text": [
      "fcn8s_rgbd_renet_maskedconv\n"
     ]
    },
    {
     "name": "stderr",
     "output_type": "stream",
     "text": [
      "/home/dongwonshin/.conda/envs/pytorch/lib/python3.6/site-packages/torch/nn/functional.py:1462: UserWarning: nn.functional.upsample_bilinear is deprecated. Use nn.functional.upsample instead.\n",
      "  warnings.warn(\"nn.functional.upsample_bilinear is deprecated. Use nn.functional.upsample instead.\")\n"
     ]
    },
    {
     "name": "stdout",
     "output_type": "stream",
     "text": [
      "..........................................................................................................................................................................................................................Overall Acc: \t 0.590006993223\n",
      "Mean Acc : \t 0.495438805398\n",
      "FreqW Acc : \t 0.429534706009\n",
      "Mean IoU : \t 0.360442895378\n",
      "0 0.310663287949\n",
      "1 0.4867278905\n",
      "2 0.113547177139\n",
      "3 0.386097075644\n",
      "4 0.29514061566\n",
      "5 0.671880602362\n",
      "6 0.377434632099\n",
      "7 0.287828493644\n",
      "8 0.330080298146\n",
      "9 0.337754560785\n",
      "10 0.216042360712\n",
      "11 0.215612462176\n",
      "12 0.597877918684\n",
      "13 0.419513159797\n"
     ]
    }
   ],
   "source": [
    "validate(parser.parse_args('--model_path ../model_weights/fcn8s_rgbd_renet_maskedconv_NYUDv2_best_model.pkl --model_name fcn8s_rgbd_renet_maskedconv --dataset NYUDv2 --batch_size 3'.split(' ')))"
   ]
  },
  {
   "cell_type": "code",
   "execution_count": 3,
   "metadata": {},
   "outputs": [
    {
     "name": "stdout",
     "output_type": "stream",
     "text": [
      "fcn_hha\n"
     ]
    },
    {
     "name": "stderr",
     "output_type": "stream",
     "text": [
      "/home/dongwonshin/.conda/envs/pytorch/lib/python3.6/site-packages/torch/nn/functional.py:1462: UserWarning: nn.functional.upsample_bilinear is deprecated. Use nn.functional.upsample instead.\n",
      "  warnings.warn(\"nn.functional.upsample_bilinear is deprecated. Use nn.functional.upsample instead.\")\n"
     ]
    },
    {
     "name": "stdout",
     "output_type": "stream",
     "text": [
      "..........................................................................................................................................................................................................................Overall Acc: \t 0.563746172393\n",
      "Mean Acc : \t 0.445174303181\n",
      "FreqW Acc : \t 0.402108857745\n",
      "Mean IoU : \t 0.320687949481\n",
      "0 0.337077782172\n",
      "1 0.409204891426\n",
      "2 0.0934514492248\n",
      "3 0.405394630673\n",
      "4 0.243151641228\n",
      "5 0.716435211449\n",
      "6 0.326699175955\n",
      "7 0.242734272689\n",
      "8 0.307869946427\n",
      "9 0.278858469535\n",
      "10 0.139633374488\n",
      "11 0.146449694388\n",
      "12 0.571257268482\n",
      "13 0.271413484594\n"
     ]
    }
   ],
   "source": [
    "validate(parser.parse_args('--model_path ../model_weights/fcn_hha_NYUDv2_best_model.pkl --model_name fcn_hha --dataset NYUDv2_HHA --batch_size 3'.split(' ')))"
   ]
  },
  {
   "cell_type": "code",
   "execution_count": 4,
   "metadata": {},
   "outputs": [
    {
     "name": "stdout",
     "output_type": "stream",
     "text": [
      "fcn8s_rgbd_renet\n"
     ]
    },
    {
     "ename": "KeyError",
     "evalue": "'missing keys in state_dict: \"{\\'masked_conv.4.weight\\', \\'masked_conv.0.mask\\', \\'masked_conv.1.running_var\\', \\'masked_conv.0.weight\\', \\'masked_conv.4.running_mean\\', \\'masked_conv.4.bias\\', \\'masked_conv.6.bias\\', \\'masked_conv.1.weight\\', \\'masked_conv.1.bias\\', \\'masked_conv.3.weight\\', \\'masked_conv.6.weight\\', \\'masked_conv.4.running_var\\', \\'masked_conv.3.mask\\', \\'masked_conv.1.running_mean\\'}\"'",
     "output_type": "error",
     "traceback": [
      "\u001b[0;31m---------------------------------------------------------------------------\u001b[0m",
      "\u001b[0;31mKeyError\u001b[0m                                  Traceback (most recent call last)",
      "\u001b[0;32m<ipython-input-4-cb430a23abb7>\u001b[0m in \u001b[0;36m<module>\u001b[0;34m()\u001b[0m\n\u001b[0;32m----> 1\u001b[0;31m \u001b[0mvalidate\u001b[0m\u001b[0;34m(\u001b[0m\u001b[0mparser\u001b[0m\u001b[0;34m.\u001b[0m\u001b[0mparse_args\u001b[0m\u001b[0;34m(\u001b[0m\u001b[0;34m'--model_path ../model_weights/fcn8s_rgbd_renet_NYUDv2_best_model.pkl --model_name fcn8s_rgbd_renet --dataset NYUDv2 --batch_size 3'\u001b[0m\u001b[0;34m.\u001b[0m\u001b[0msplit\u001b[0m\u001b[0;34m(\u001b[0m\u001b[0;34m' '\u001b[0m\u001b[0;34m)\u001b[0m\u001b[0;34m)\u001b[0m\u001b[0;34m)\u001b[0m\u001b[0;34m\u001b[0m\u001b[0m\n\u001b[0m",
      "\u001b[0;32m~/Desktop/semantic_segmentation_rgbd/research_notebooks/validate.py\u001b[0m in \u001b[0;36mvalidate\u001b[0;34m(args)\u001b[0m\n\u001b[1;32m     57\u001b[0m     \u001b[0mmodel\u001b[0m \u001b[0;34m=\u001b[0m \u001b[0mget_model\u001b[0m\u001b[0;34m(\u001b[0m\u001b[0mmodel_name\u001b[0m\u001b[0;34m,\u001b[0m \u001b[0mn_classes\u001b[0m\u001b[0;34m)\u001b[0m\u001b[0;34m\u001b[0m\u001b[0m\n\u001b[1;32m     58\u001b[0m     \u001b[0mstate\u001b[0m \u001b[0;34m=\u001b[0m \u001b[0mconvert_state_dict\u001b[0m\u001b[0;34m(\u001b[0m\u001b[0mtorch\u001b[0m\u001b[0;34m.\u001b[0m\u001b[0mload\u001b[0m\u001b[0;34m(\u001b[0m\u001b[0margs\u001b[0m\u001b[0;34m.\u001b[0m\u001b[0mmodel_path\u001b[0m\u001b[0;34m)\u001b[0m\u001b[0;34m[\u001b[0m\u001b[0;34m'model_state'\u001b[0m\u001b[0;34m]\u001b[0m\u001b[0;34m)\u001b[0m\u001b[0;34m\u001b[0m\u001b[0m\n\u001b[0;32m---> 59\u001b[0;31m     \u001b[0mmodel\u001b[0m\u001b[0;34m.\u001b[0m\u001b[0mload_state_dict\u001b[0m\u001b[0;34m(\u001b[0m\u001b[0mstate\u001b[0m\u001b[0;34m)\u001b[0m\u001b[0;34m\u001b[0m\u001b[0m\n\u001b[0m\u001b[1;32m     60\u001b[0m     \u001b[0mmodel\u001b[0m\u001b[0;34m.\u001b[0m\u001b[0meval\u001b[0m\u001b[0;34m(\u001b[0m\u001b[0;34m)\u001b[0m\u001b[0;34m\u001b[0m\u001b[0m\n\u001b[1;32m     61\u001b[0m     \u001b[0mmodel\u001b[0m\u001b[0;34m.\u001b[0m\u001b[0mcuda\u001b[0m\u001b[0;34m(\u001b[0m\u001b[0;34m)\u001b[0m\u001b[0;34m\u001b[0m\u001b[0m\n",
      "\u001b[0;32m~/.conda/envs/pytorch/lib/python3.6/site-packages/torch/nn/modules/module.py\u001b[0m in \u001b[0;36mload_state_dict\u001b[0;34m(self, state_dict, strict)\u001b[0m\n\u001b[1;32m    524\u001b[0m             \u001b[0mmissing\u001b[0m \u001b[0;34m=\u001b[0m \u001b[0mset\u001b[0m\u001b[0;34m(\u001b[0m\u001b[0mown_state\u001b[0m\u001b[0;34m.\u001b[0m\u001b[0mkeys\u001b[0m\u001b[0;34m(\u001b[0m\u001b[0;34m)\u001b[0m\u001b[0;34m)\u001b[0m \u001b[0;34m-\u001b[0m \u001b[0mset\u001b[0m\u001b[0;34m(\u001b[0m\u001b[0mstate_dict\u001b[0m\u001b[0;34m.\u001b[0m\u001b[0mkeys\u001b[0m\u001b[0;34m(\u001b[0m\u001b[0;34m)\u001b[0m\u001b[0;34m)\u001b[0m\u001b[0;34m\u001b[0m\u001b[0m\n\u001b[1;32m    525\u001b[0m             \u001b[0;32mif\u001b[0m \u001b[0mlen\u001b[0m\u001b[0;34m(\u001b[0m\u001b[0mmissing\u001b[0m\u001b[0;34m)\u001b[0m \u001b[0;34m>\u001b[0m \u001b[0;36m0\u001b[0m\u001b[0;34m:\u001b[0m\u001b[0;34m\u001b[0m\u001b[0m\n\u001b[0;32m--> 526\u001b[0;31m                 \u001b[0;32mraise\u001b[0m \u001b[0mKeyError\u001b[0m\u001b[0;34m(\u001b[0m\u001b[0;34m'missing keys in state_dict: \"{}\"'\u001b[0m\u001b[0;34m.\u001b[0m\u001b[0mformat\u001b[0m\u001b[0;34m(\u001b[0m\u001b[0mmissing\u001b[0m\u001b[0;34m)\u001b[0m\u001b[0;34m)\u001b[0m\u001b[0;34m\u001b[0m\u001b[0m\n\u001b[0m\u001b[1;32m    527\u001b[0m \u001b[0;34m\u001b[0m\u001b[0m\n\u001b[1;32m    528\u001b[0m     \u001b[0;32mdef\u001b[0m \u001b[0mparameters\u001b[0m\u001b[0;34m(\u001b[0m\u001b[0mself\u001b[0m\u001b[0;34m)\u001b[0m\u001b[0;34m:\u001b[0m\u001b[0;34m\u001b[0m\u001b[0m\n",
      "\u001b[0;31mKeyError\u001b[0m: 'missing keys in state_dict: \"{\\'masked_conv.4.weight\\', \\'masked_conv.0.mask\\', \\'masked_conv.1.running_var\\', \\'masked_conv.0.weight\\', \\'masked_conv.4.running_mean\\', \\'masked_conv.4.bias\\', \\'masked_conv.6.bias\\', \\'masked_conv.1.weight\\', \\'masked_conv.1.bias\\', \\'masked_conv.3.weight\\', \\'masked_conv.6.weight\\', \\'masked_conv.4.running_var\\', \\'masked_conv.3.mask\\', \\'masked_conv.1.running_mean\\'}\"'"
     ]
    }
   ],
   "source": [
    "validate(parser.parse_args('--model_path ../model_weights/fcn8s_rgbd_renet_NYUDv2_best_model.pkl --model_name fcn8s_rgbd_renet --dataset NYUDv2 --batch_size 3'.split(' ')))"
   ]
  },
  {
   "cell_type": "code",
   "execution_count": 5,
   "metadata": {},
   "outputs": [
    {
     "name": "stdout",
     "output_type": "stream",
     "text": [
      "mynetwork20180516\n"
     ]
    },
    {
     "name": "stderr",
     "output_type": "stream",
     "text": [
      "/home/dongwonshin/.conda/envs/pytorch/lib/python3.6/site-packages/torch/nn/functional.py:1462: UserWarning: nn.functional.upsample_bilinear is deprecated. Use nn.functional.upsample instead.\n",
      "  warnings.warn(\"nn.functional.upsample_bilinear is deprecated. Use nn.functional.upsample instead.\")\n"
     ]
    },
    {
     "name": "stdout",
     "output_type": "stream",
     "text": [
      "..........................................................................................................................................................................................................................Overall Acc: \t 0.551668045402\n",
      "Mean Acc : \t 0.44334311218\n",
      "FreqW Acc : \t 0.398287439864\n",
      "Mean IoU : \t 0.332042831331\n",
      "0 0.300477597681\n",
      "1 0.460248241538\n",
      "2 0.0987303860014\n",
      "3 0.395467867448\n",
      "4 0.272407479377\n",
      "5 0.626782526206\n",
      "6 0.360302928535\n",
      "7 0.264442574513\n",
      "8 0.329100390275\n",
      "9 0.254792545315\n",
      "10 0.192953102528\n",
      "11 0.199502394811\n",
      "12 0.552714493569\n",
      "13 0.340677110836\n"
     ]
    }
   ],
   "source": [
    "validate(parser.parse_args('--model_path ../model_weights/mynetwork20180516_NYUDv2_best_model.pkl --model_name mynetwork20180516 --dataset NYUDv2 --batch_size 3'.split(' ')))"
   ]
  },
  {
   "cell_type": "code",
   "execution_count": null,
   "metadata": {},
   "outputs": [],
   "source": []
  }
 ],
 "metadata": {
  "kernelspec": {
   "display_name": "Python [conda env:pytorch]",
   "language": "python",
   "name": "conda-env-pytorch-py"
  },
  "language_info": {
   "codemirror_mode": {
    "name": "ipython",
    "version": 3
   },
   "file_extension": ".py",
   "mimetype": "text/x-python",
   "name": "python",
   "nbconvert_exporter": "python",
   "pygments_lexer": "ipython3",
   "version": "3.6.3"
  }
 },
 "nbformat": 4,
 "nbformat_minor": 2
}
