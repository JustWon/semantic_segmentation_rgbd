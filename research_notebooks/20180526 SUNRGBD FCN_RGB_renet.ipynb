{
 "cells": [
  {
   "cell_type": "markdown",
   "metadata": {},
   "source": [
    "#### ——————————————————————\n",
    "#### 2018년 05월 26일 17시 42분 43초에 추가\n",
    "#### ——————————————————————\n",
    "\n",
    "- Training FCN_RGB_renet on SUNRGBD"
   ]
  },
  {
   "cell_type": "code",
   "execution_count": 1,
   "metadata": {},
   "outputs": [
    {
     "name": "stderr",
     "output_type": "stream",
     "text": [
      "/home/dongwonshin/.conda/envs/pytorch/lib/python3.6/site-packages/torch/nn/functional.py:1462: UserWarning: nn.functional.upsample_bilinear is deprecated. Use nn.functional.upsample instead.\n",
      "  warnings.warn(\"nn.functional.upsample_bilinear is deprecated. Use nn.functional.upsample instead.\")\n"
     ]
    },
    {
     "name": "stdout",
     "output_type": "stream",
     "text": [
      "Epoch [1/50] Loss: 2.7643\n",
      "Epoch [1/50] Loss: 2.4366\n",
      "Epoch [1/50] Loss: 2.8739\n",
      "Epoch [1/50] Loss: 2.4778\n",
      "Epoch [1/50] Loss: 2.3400\n",
      "Epoch [1/50] Loss: 2.6429\n",
      "Epoch [1/50] Loss: 1.8929\n",
      "Epoch [1/50] Loss: 2.0301\n",
      "Epoch [1/50] Loss: 1.5622\n",
      "Epoch [1/50] Loss: 1.7919\n"
     ]
    },
    {
     "name": "stderr",
     "output_type": "stream",
     "text": [
      "1010it [03:37,  4.64it/s]\n"
     ]
    },
    {
     "name": "stdout",
     "output_type": "stream",
     "text": [
      "Overall Acc: \t 0.447648296048\n",
      "Mean Acc : \t 0.060579739795\n",
      "FreqW Acc : \t 0.252251557487\n",
      "Mean IoU : \t 0.035489023552\n",
      "Epoch [2/50] Loss: 1.4620\n",
      "Epoch [2/50] Loss: 2.1279\n",
      "Epoch [2/50] Loss: 1.7960\n",
      "Epoch [2/50] Loss: 1.3034\n",
      "Epoch [2/50] Loss: 1.8583\n",
      "Epoch [2/50] Loss: 1.8057\n",
      "Epoch [2/50] Loss: 1.9786\n",
      "Epoch [2/50] Loss: 2.2196\n",
      "Epoch [2/50] Loss: 1.6960\n",
      "Epoch [2/50] Loss: 1.9083\n"
     ]
    },
    {
     "name": "stderr",
     "output_type": "stream",
     "text": [
      "1010it [03:39,  4.60it/s]\n"
     ]
    },
    {
     "name": "stdout",
     "output_type": "stream",
     "text": [
      "Overall Acc: \t 0.478409364917\n",
      "Mean Acc : \t 0.0760143083922\n",
      "FreqW Acc : \t 0.287563497292\n",
      "Mean IoU : \t 0.0482896735045\n",
      "Epoch [3/50] Loss: 1.8764\n",
      "Epoch [3/50] Loss: 1.7497\n",
      "Epoch [3/50] Loss: 2.1064\n",
      "Epoch [3/50] Loss: 1.8980\n",
      "Epoch [3/50] Loss: 1.5543\n",
      "Epoch [3/50] Loss: 2.2551\n",
      "Epoch [3/50] Loss: 1.7033\n",
      "Epoch [3/50] Loss: 2.4695\n",
      "Epoch [3/50] Loss: 2.0242\n",
      "Epoch [3/50] Loss: 1.7464\n"
     ]
    },
    {
     "name": "stderr",
     "output_type": "stream",
     "text": [
      "1010it [03:37,  4.65it/s]\n"
     ]
    },
    {
     "name": "stdout",
     "output_type": "stream",
     "text": [
      "Overall Acc: \t 0.491780448738\n",
      "Mean Acc : \t 0.081637623083\n",
      "FreqW Acc : \t 0.30568270037\n",
      "Mean IoU : \t 0.0561243809886\n",
      "Epoch [4/50] Loss: 1.9216\n",
      "Epoch [4/50] Loss: 1.8492\n",
      "Epoch [4/50] Loss: 1.9863\n",
      "Epoch [4/50] Loss: 1.4596\n",
      "Epoch [4/50] Loss: 2.3039\n",
      "Epoch [4/50] Loss: 1.6427\n",
      "Epoch [4/50] Loss: 2.2222\n",
      "Epoch [4/50] Loss: 1.9825\n",
      "Epoch [4/50] Loss: 1.4760\n",
      "Epoch [4/50] Loss: 1.0894\n"
     ]
    },
    {
     "name": "stderr",
     "output_type": "stream",
     "text": [
      "1010it [03:40,  4.59it/s]\n"
     ]
    },
    {
     "name": "stdout",
     "output_type": "stream",
     "text": [
      "Overall Acc: \t 0.511655135789\n",
      "Mean Acc : \t 0.103003993029\n",
      "FreqW Acc : \t 0.330669112621\n",
      "Mean IoU : \t 0.0704785667137\n",
      "Epoch [5/50] Loss: 1.6480\n",
      "Epoch [5/50] Loss: 1.5077\n",
      "Epoch [5/50] Loss: 1.3629\n",
      "Epoch [5/50] Loss: 1.8168\n",
      "Epoch [5/50] Loss: 1.6604\n",
      "Epoch [5/50] Loss: 1.4314\n",
      "Epoch [5/50] Loss: 1.8703\n",
      "Epoch [5/50] Loss: 1.5875\n",
      "Epoch [5/50] Loss: 1.6561\n",
      "Epoch [5/50] Loss: 1.7556\n"
     ]
    },
    {
     "name": "stderr",
     "output_type": "stream",
     "text": [
      "1010it [03:38,  4.63it/s]\n"
     ]
    },
    {
     "name": "stdout",
     "output_type": "stream",
     "text": [
      "Overall Acc: \t 0.517303156282\n",
      "Mean Acc : \t 0.106313968626\n",
      "FreqW Acc : \t 0.336256335929\n",
      "Mean IoU : \t 0.0768078152917\n",
      "Epoch [6/50] Loss: 1.7419\n",
      "Epoch [6/50] Loss: 1.5727\n",
      "Epoch [6/50] Loss: 1.6443\n",
      "Epoch [6/50] Loss: 1.7315\n",
      "Epoch [6/50] Loss: 1.6967\n",
      "Epoch [6/50] Loss: 1.8214\n",
      "Epoch [6/50] Loss: 1.5397\n",
      "Epoch [6/50] Loss: 1.6866\n",
      "Epoch [6/50] Loss: 1.9583\n",
      "Epoch [6/50] Loss: 1.5076\n"
     ]
    },
    {
     "name": "stderr",
     "output_type": "stream",
     "text": [
      "1010it [03:38,  4.62it/s]\n"
     ]
    },
    {
     "name": "stdout",
     "output_type": "stream",
     "text": [
      "Overall Acc: \t 0.526302902777\n",
      "Mean Acc : \t 0.116678032888\n",
      "FreqW Acc : \t 0.345841367646\n",
      "Mean IoU : \t 0.0837378318194\n",
      "Epoch [7/50] Loss: 1.2227\n",
      "Epoch [7/50] Loss: 1.7400\n",
      "Epoch [7/50] Loss: 1.6200\n",
      "Epoch [7/50] Loss: 1.1453\n",
      "Epoch [7/50] Loss: 1.5986\n",
      "Epoch [7/50] Loss: 1.8411\n",
      "Epoch [7/50] Loss: 1.0805\n",
      "Epoch [7/50] Loss: 1.3862\n",
      "Epoch [7/50] Loss: 1.6874\n",
      "Epoch [7/50] Loss: 1.3561\n"
     ]
    },
    {
     "name": "stderr",
     "output_type": "stream",
     "text": [
      "1010it [03:38,  4.63it/s]\n"
     ]
    },
    {
     "name": "stdout",
     "output_type": "stream",
     "text": [
      "Overall Acc: \t 0.533280135918\n",
      "Mean Acc : \t 0.129044607729\n",
      "FreqW Acc : \t 0.349126377436\n",
      "Mean IoU : \t 0.0917427489447\n",
      "Epoch [8/50] Loss: 1.4549\n",
      "Epoch [8/50] Loss: 1.3065\n",
      "Epoch [8/50] Loss: 1.4496\n",
      "Epoch [8/50] Loss: 1.2396\n",
      "Epoch [8/50] Loss: 1.3216\n",
      "Epoch [8/50] Loss: 1.2571\n",
      "Epoch [8/50] Loss: 1.9308\n",
      "Epoch [8/50] Loss: 1.1605\n",
      "Epoch [8/50] Loss: 1.7293\n",
      "Epoch [8/50] Loss: 1.4008\n"
     ]
    },
    {
     "name": "stderr",
     "output_type": "stream",
     "text": [
      "1010it [03:37,  4.65it/s]\n"
     ]
    },
    {
     "name": "stdout",
     "output_type": "stream",
     "text": [
      "Overall Acc: \t 0.536609837525\n",
      "Mean Acc : \t 0.139542723516\n",
      "FreqW Acc : \t 0.353974846706\n",
      "Mean IoU : \t 0.099701189863\n",
      "Epoch [9/50] Loss: 1.4624\n",
      "Epoch [9/50] Loss: 1.1777\n",
      "Epoch [9/50] Loss: 1.5115\n",
      "Epoch [9/50] Loss: 1.3111\n",
      "Epoch [9/50] Loss: 1.7403\n",
      "Epoch [9/50] Loss: 1.4632\n",
      "Epoch [9/50] Loss: 1.4360\n",
      "Epoch [9/50] Loss: 1.7711\n",
      "Epoch [9/50] Loss: 1.3953\n",
      "Epoch [9/50] Loss: 1.6351\n"
     ]
    },
    {
     "name": "stderr",
     "output_type": "stream",
     "text": [
      "1010it [03:38,  4.62it/s]\n"
     ]
    },
    {
     "name": "stdout",
     "output_type": "stream",
     "text": [
      "Overall Acc: \t 0.541947014312\n",
      "Mean Acc : \t 0.144522852869\n",
      "FreqW Acc : \t 0.366135776848\n",
      "Mean IoU : \t 0.105463779781\n",
      "Epoch [10/50] Loss: 1.3634\n",
      "Epoch [10/50] Loss: 1.3269\n",
      "Epoch [10/50] Loss: 1.4785\n",
      "Epoch [10/50] Loss: 1.6795\n",
      "Epoch [10/50] Loss: 1.4099\n",
      "Epoch [10/50] Loss: 1.3569\n",
      "Epoch [10/50] Loss: 1.5849\n",
      "Epoch [10/50] Loss: 1.1381\n",
      "Epoch [10/50] Loss: 1.2237\n",
      "Epoch [10/50] Loss: 1.6120\n"
     ]
    },
    {
     "name": "stderr",
     "output_type": "stream",
     "text": [
      "1010it [03:38,  4.62it/s]\n"
     ]
    },
    {
     "name": "stdout",
     "output_type": "stream",
     "text": [
      "Overall Acc: \t 0.545655541836\n",
      "Mean Acc : \t 0.146127101489\n",
      "FreqW Acc : \t 0.36815236864\n",
      "Mean IoU : \t 0.10738185407\n",
      "Epoch [11/50] Loss: 1.4876\n",
      "Epoch [11/50] Loss: 1.4253\n",
      "Epoch [11/50] Loss: 1.3160\n",
      "Epoch [11/50] Loss: 1.4058\n",
      "Epoch [11/50] Loss: 1.5320\n",
      "Epoch [11/50] Loss: 1.5919\n",
      "Epoch [11/50] Loss: 1.1174\n",
      "Epoch [11/50] Loss: 1.6070\n",
      "Epoch [11/50] Loss: 1.5135\n",
      "Epoch [11/50] Loss: 1.4448\n"
     ]
    },
    {
     "name": "stderr",
     "output_type": "stream",
     "text": [
      "1010it [03:39,  4.60it/s]\n"
     ]
    },
    {
     "name": "stdout",
     "output_type": "stream",
     "text": [
      "Overall Acc: \t 0.549939454672\n",
      "Mean Acc : \t 0.165964742487\n",
      "FreqW Acc : \t 0.373324476959\n",
      "Mean IoU : \t 0.118316039295\n",
      "Epoch [12/50] Loss: 1.2329\n",
      "Epoch [12/50] Loss: 1.2316\n",
      "Epoch [12/50] Loss: 2.0120\n",
      "Epoch [12/50] Loss: 1.3531\n",
      "Epoch [12/50] Loss: 1.1577\n",
      "Epoch [12/50] Loss: 1.6867\n",
      "Epoch [12/50] Loss: 1.0748\n",
      "Epoch [12/50] Loss: 1.4718\n",
      "Epoch [12/50] Loss: 1.5067\n",
      "Epoch [12/50] Loss: 1.4740\n"
     ]
    },
    {
     "name": "stderr",
     "output_type": "stream",
     "text": [
      "1010it [03:39,  4.60it/s]"
     ]
    },
    {
     "name": "stdout",
     "output_type": "stream",
     "text": [
      "Overall Acc: \t 0.55209762943\n",
      "Mean Acc : \t 0.159891944988\n",
      "FreqW Acc : \t 0.374795613684\n",
      "Mean IoU : \t 0.117769271093\n"
     ]
    },
    {
     "name": "stderr",
     "output_type": "stream",
     "text": [
      "\n"
     ]
    },
    {
     "name": "stdout",
     "output_type": "stream",
     "text": [
      "Epoch [13/50] Loss: 1.2759\n",
      "Epoch [13/50] Loss: 1.6912\n",
      "Epoch [13/50] Loss: 1.1862\n",
      "Epoch [13/50] Loss: 1.3338\n",
      "Epoch [13/50] Loss: 1.2913\n",
      "Epoch [13/50] Loss: 1.4455\n",
      "Epoch [13/50] Loss: 1.7661\n",
      "Epoch [13/50] Loss: 1.1729\n",
      "Epoch [13/50] Loss: 1.5005\n",
      "Epoch [13/50] Loss: 1.2326\n"
     ]
    },
    {
     "name": "stderr",
     "output_type": "stream",
     "text": [
      "1010it [03:40,  4.57it/s]\n"
     ]
    },
    {
     "name": "stdout",
     "output_type": "stream",
     "text": [
      "Overall Acc: \t 0.554583006459\n",
      "Mean Acc : \t 0.163475047537\n",
      "FreqW Acc : \t 0.377799436901\n",
      "Mean IoU : \t 0.120616613423\n",
      "Epoch [14/50] Loss: 1.3872\n",
      "Epoch [14/50] Loss: 1.3229\n",
      "Epoch [14/50] Loss: 1.5025\n",
      "Epoch [14/50] Loss: 1.0647\n",
      "Epoch [14/50] Loss: 1.3490\n",
      "Epoch [14/50] Loss: 1.4420\n",
      "Epoch [14/50] Loss: 1.5890\n",
      "Epoch [14/50] Loss: 1.4197\n",
      "Epoch [14/50] Loss: 1.4220\n",
      "Epoch [14/50] Loss: 1.2572\n"
     ]
    },
    {
     "name": "stderr",
     "output_type": "stream",
     "text": [
      "1010it [03:37,  4.64it/s]\n"
     ]
    },
    {
     "name": "stdout",
     "output_type": "stream",
     "text": [
      "Overall Acc: \t 0.556222767529\n",
      "Mean Acc : \t 0.173580373741\n",
      "FreqW Acc : \t 0.378824853977\n",
      "Mean IoU : \t 0.125168978339\n",
      "Epoch [15/50] Loss: 1.3997\n",
      "Epoch [15/50] Loss: 1.6894\n",
      "Epoch [15/50] Loss: 1.4508\n",
      "Epoch [15/50] Loss: 1.1357\n",
      "Epoch [15/50] Loss: 1.1304\n",
      "Epoch [15/50] Loss: 1.2495\n",
      "Epoch [15/50] Loss: 1.0799\n",
      "Epoch [15/50] Loss: 1.4586\n",
      "Epoch [15/50] Loss: 1.3682\n",
      "Epoch [15/50] Loss: 1.3354\n"
     ]
    },
    {
     "name": "stderr",
     "output_type": "stream",
     "text": [
      "1010it [03:40,  4.58it/s]\n"
     ]
    },
    {
     "name": "stdout",
     "output_type": "stream",
     "text": [
      "Overall Acc: \t 0.556886765557\n",
      "Mean Acc : \t 0.176457263299\n",
      "FreqW Acc : \t 0.37819354513\n",
      "Mean IoU : \t 0.128058409249\n",
      "Epoch [16/50] Loss: 0.8319\n",
      "Epoch [16/50] Loss: 1.3328\n",
      "Epoch [16/50] Loss: 0.9132\n",
      "Epoch [16/50] Loss: 1.3471\n",
      "Epoch [16/50] Loss: 1.6090\n",
      "Epoch [16/50] Loss: 1.5209\n",
      "Epoch [16/50] Loss: 1.4866\n",
      "Epoch [16/50] Loss: 1.4416\n",
      "Epoch [16/50] Loss: 1.3259\n",
      "Epoch [16/50] Loss: 1.2212\n"
     ]
    },
    {
     "name": "stderr",
     "output_type": "stream",
     "text": [
      "1010it [03:39,  4.61it/s]\n"
     ]
    },
    {
     "name": "stdout",
     "output_type": "stream",
     "text": [
      "Overall Acc: \t 0.55973611859\n",
      "Mean Acc : \t 0.180238578347\n",
      "FreqW Acc : \t 0.384407542235\n",
      "Mean IoU : \t 0.131525752995\n",
      "Epoch [17/50] Loss: 1.5160\n",
      "Epoch [17/50] Loss: 1.3898\n",
      "Epoch [17/50] Loss: 1.7749\n",
      "Epoch [17/50] Loss: 1.6520\n",
      "Epoch [17/50] Loss: 0.9532\n",
      "Epoch [17/50] Loss: 1.2272\n",
      "Epoch [17/50] Loss: 1.0197\n",
      "Epoch [17/50] Loss: 1.6533\n",
      "Epoch [17/50] Loss: 1.3811\n",
      "Epoch [17/50] Loss: 1.0025\n"
     ]
    },
    {
     "name": "stderr",
     "output_type": "stream",
     "text": [
      "1010it [03:40,  4.58it/s]"
     ]
    },
    {
     "name": "stdout",
     "output_type": "stream",
     "text": [
      "Overall Acc: \t 0.560959866099\n",
      "Mean Acc : \t 0.175392155691\n",
      "FreqW Acc : \t 0.383633680452\n",
      "Mean IoU : \t 0.130295444106\n"
     ]
    },
    {
     "name": "stderr",
     "output_type": "stream",
     "text": [
      "\n"
     ]
    },
    {
     "name": "stdout",
     "output_type": "stream",
     "text": [
      "Epoch [18/50] Loss: 1.0402\n",
      "Epoch [18/50] Loss: 1.4177\n",
      "Epoch [18/50] Loss: 1.3564\n",
      "Epoch [18/50] Loss: 1.1044\n",
      "Epoch [18/50] Loss: 1.2754\n",
      "Epoch [18/50] Loss: 1.0840\n",
      "Epoch [18/50] Loss: 1.4911\n",
      "Epoch [18/50] Loss: 1.2374\n",
      "Epoch [18/50] Loss: 1.5685\n",
      "Epoch [18/50] Loss: 1.4654\n"
     ]
    },
    {
     "name": "stderr",
     "output_type": "stream",
     "text": [
      "1010it [03:38,  4.63it/s]\n"
     ]
    },
    {
     "name": "stdout",
     "output_type": "stream",
     "text": [
      "Overall Acc: \t 0.561962222047\n",
      "Mean Acc : \t 0.181461061737\n",
      "FreqW Acc : \t 0.385462125401\n",
      "Mean IoU : \t 0.133615556809\n",
      "Epoch [19/50] Loss: 1.3096\n",
      "Epoch [19/50] Loss: 1.1887\n",
      "Epoch [19/50] Loss: 1.1661\n",
      "Epoch [19/50] Loss: 1.3544\n",
      "Epoch [19/50] Loss: 1.8620\n",
      "Epoch [19/50] Loss: 1.4358\n",
      "Epoch [19/50] Loss: 1.3849\n",
      "Epoch [19/50] Loss: 1.3511\n",
      "Epoch [19/50] Loss: 0.8183\n",
      "Epoch [19/50] Loss: 0.9752\n"
     ]
    },
    {
     "name": "stderr",
     "output_type": "stream",
     "text": [
      "1010it [03:37,  4.64it/s]\n"
     ]
    },
    {
     "name": "stdout",
     "output_type": "stream",
     "text": [
      "Overall Acc: \t 0.566334304029\n",
      "Mean Acc : \t 0.197431338941\n",
      "FreqW Acc : \t 0.390336448642\n",
      "Mean IoU : \t 0.142635682125\n",
      "Epoch [20/50] Loss: 1.3041\n",
      "Epoch [20/50] Loss: 1.0389\n",
      "Epoch [20/50] Loss: 1.5133\n",
      "Epoch [20/50] Loss: 1.3313\n",
      "Epoch [20/50] Loss: 1.2892\n",
      "Epoch [20/50] Loss: 1.3654\n",
      "Epoch [20/50] Loss: 1.5824\n",
      "Epoch [20/50] Loss: 1.3912\n",
      "Epoch [20/50] Loss: 1.5126\n",
      "Epoch [20/50] Loss: 1.2139\n"
     ]
    },
    {
     "name": "stderr",
     "output_type": "stream",
     "text": [
      "1010it [03:38,  4.63it/s]"
     ]
    },
    {
     "name": "stdout",
     "output_type": "stream",
     "text": [
      "Overall Acc: \t 0.561068276979\n",
      "Mean Acc : \t 0.189380259525\n",
      "FreqW Acc : \t 0.392500971605\n",
      "Mean IoU : \t 0.139288226442\n"
     ]
    },
    {
     "name": "stderr",
     "output_type": "stream",
     "text": [
      "\n"
     ]
    },
    {
     "name": "stdout",
     "output_type": "stream",
     "text": [
      "Epoch [21/50] Loss: 1.5637\n",
      "Epoch [21/50] Loss: 1.4214\n",
      "Epoch [21/50] Loss: 1.4808\n",
      "Epoch [21/50] Loss: 0.8009\n",
      "Epoch [21/50] Loss: 0.8995\n",
      "Epoch [21/50] Loss: 1.2337\n",
      "Epoch [21/50] Loss: 1.4146\n",
      "Epoch [21/50] Loss: 1.0595\n",
      "Epoch [21/50] Loss: 1.2011\n",
      "Epoch [21/50] Loss: 1.3254\n"
     ]
    },
    {
     "name": "stderr",
     "output_type": "stream",
     "text": [
      "1010it [03:38,  4.63it/s]\n"
     ]
    },
    {
     "name": "stdout",
     "output_type": "stream",
     "text": [
      "Overall Acc: \t 0.566648651806\n",
      "Mean Acc : \t 0.197335896633\n",
      "FreqW Acc : \t 0.395247244028\n",
      "Mean IoU : \t 0.144026677533\n",
      "Epoch [22/50] Loss: 1.1883\n",
      "Epoch [22/50] Loss: 1.5023\n",
      "Epoch [22/50] Loss: 1.2891\n",
      "Epoch [22/50] Loss: 1.0358\n",
      "Epoch [22/50] Loss: 1.4295\n",
      "Epoch [22/50] Loss: 1.2957\n",
      "Epoch [22/50] Loss: 1.1505\n",
      "Epoch [22/50] Loss: 1.6191\n",
      "Epoch [22/50] Loss: 1.3315\n",
      "Epoch [22/50] Loss: 1.3035\n"
     ]
    },
    {
     "name": "stderr",
     "output_type": "stream",
     "text": [
      "1010it [03:40,  4.59it/s]\n"
     ]
    },
    {
     "name": "stdout",
     "output_type": "stream",
     "text": [
      "Overall Acc: \t 0.568124978724\n",
      "Mean Acc : \t 0.20078069152\n",
      "FreqW Acc : \t 0.395856341887\n",
      "Mean IoU : \t 0.146281391292\n",
      "Epoch [23/50] Loss: 0.9988\n",
      "Epoch [23/50] Loss: 1.2677\n",
      "Epoch [23/50] Loss: 1.3240\n",
      "Epoch [23/50] Loss: 1.1319\n",
      "Epoch [23/50] Loss: 1.3443\n",
      "Epoch [23/50] Loss: 0.9773\n",
      "Epoch [23/50] Loss: 0.9314\n",
      "Epoch [23/50] Loss: 1.0766\n",
      "Epoch [23/50] Loss: 1.1558\n",
      "Epoch [23/50] Loss: 1.1863\n"
     ]
    },
    {
     "name": "stderr",
     "output_type": "stream",
     "text": [
      "1010it [03:37,  4.63it/s]"
     ]
    },
    {
     "name": "stdout",
     "output_type": "stream",
     "text": [
      "Overall Acc: \t 0.568476197587\n",
      "Mean Acc : \t 0.193753713889\n",
      "FreqW Acc : \t 0.394525707103\n",
      "Mean IoU : \t 0.144591564286\n"
     ]
    },
    {
     "name": "stderr",
     "output_type": "stream",
     "text": [
      "\n"
     ]
    },
    {
     "name": "stdout",
     "output_type": "stream",
     "text": [
      "Epoch [24/50] Loss: 1.3302\n",
      "Epoch [24/50] Loss: 1.5461\n",
      "Epoch [24/50] Loss: 1.7440\n",
      "Epoch [24/50] Loss: 1.2296\n",
      "Epoch [24/50] Loss: 1.3612\n",
      "Epoch [24/50] Loss: 0.9834\n",
      "Epoch [24/50] Loss: 1.3673\n",
      "Epoch [24/50] Loss: 0.9744\n",
      "Epoch [24/50] Loss: 0.9815\n",
      "Epoch [24/50] Loss: 1.0426\n"
     ]
    },
    {
     "name": "stderr",
     "output_type": "stream",
     "text": [
      "1010it [03:40,  4.58it/s]\n"
     ]
    },
    {
     "name": "stdout",
     "output_type": "stream",
     "text": [
      "Overall Acc: \t 0.570171730453\n",
      "Mean Acc : \t 0.200450700881\n",
      "FreqW Acc : \t 0.399631815381\n",
      "Mean IoU : \t 0.148554188617\n",
      "Epoch [25/50] Loss: 1.2040\n",
      "Epoch [25/50] Loss: 1.2464\n",
      "Epoch [25/50] Loss: 1.5923\n",
      "Epoch [25/50] Loss: 1.0848\n",
      "Epoch [25/50] Loss: 1.0542\n",
      "Epoch [25/50] Loss: 1.3445\n",
      "Epoch [25/50] Loss: 1.0992\n",
      "Epoch [25/50] Loss: 1.4999\n",
      "Epoch [25/50] Loss: 1.1286\n",
      "Epoch [25/50] Loss: 1.2165\n"
     ]
    },
    {
     "name": "stderr",
     "output_type": "stream",
     "text": [
      "1010it [03:37,  4.65it/s]\n"
     ]
    },
    {
     "name": "stdout",
     "output_type": "stream",
     "text": [
      "Overall Acc: \t 0.569006536077\n",
      "Mean Acc : \t 0.220811928178\n",
      "FreqW Acc : \t 0.394908331661\n",
      "Mean IoU : \t 0.15699753904\n",
      "Epoch [26/50] Loss: 1.0969\n",
      "Epoch [26/50] Loss: 1.4880\n",
      "Epoch [26/50] Loss: 1.1261\n",
      "Epoch [26/50] Loss: 1.0202\n",
      "Epoch [26/50] Loss: 1.3677\n",
      "Epoch [26/50] Loss: 1.1285\n",
      "Epoch [26/50] Loss: 1.1530\n",
      "Epoch [26/50] Loss: 1.2794\n",
      "Epoch [26/50] Loss: 1.4828\n",
      "Epoch [26/50] Loss: 1.5259\n"
     ]
    },
    {
     "name": "stderr",
     "output_type": "stream",
     "text": [
      "1010it [03:40,  4.57it/s]"
     ]
    },
    {
     "name": "stdout",
     "output_type": "stream",
     "text": [
      "Overall Acc: \t 0.571026783872\n",
      "Mean Acc : \t 0.207987359777\n",
      "FreqW Acc : \t 0.399854441133\n",
      "Mean IoU : \t 0.151826037599\n"
     ]
    },
    {
     "name": "stderr",
     "output_type": "stream",
     "text": [
      "\n"
     ]
    },
    {
     "name": "stdout",
     "output_type": "stream",
     "text": [
      "Epoch [27/50] Loss: 1.4801\n",
      "Epoch [27/50] Loss: 1.8171\n",
      "Epoch [27/50] Loss: 1.4032\n",
      "Epoch [27/50] Loss: 1.3794\n",
      "Epoch [27/50] Loss: 1.2486\n",
      "Epoch [27/50] Loss: 1.1841\n",
      "Epoch [27/50] Loss: 1.2108\n",
      "Epoch [27/50] Loss: 1.2222\n",
      "Epoch [27/50] Loss: 1.2168\n",
      "Epoch [27/50] Loss: 1.2440\n"
     ]
    },
    {
     "name": "stderr",
     "output_type": "stream",
     "text": [
      "1010it [03:38,  4.61it/s]\n"
     ]
    },
    {
     "name": "stdout",
     "output_type": "stream",
     "text": [
      "Overall Acc: \t 0.572494405735\n",
      "Mean Acc : \t 0.220004052954\n",
      "FreqW Acc : \t 0.400459501997\n",
      "Mean IoU : \t 0.158763811099\n",
      "Epoch [28/50] Loss: 1.7108\n",
      "Epoch [28/50] Loss: 0.9474\n",
      "Epoch [28/50] Loss: 1.3910\n",
      "Epoch [28/50] Loss: 0.7155\n",
      "Epoch [28/50] Loss: 1.3057\n",
      "Epoch [28/50] Loss: 1.0953\n",
      "Epoch [28/50] Loss: 0.8323\n",
      "Epoch [28/50] Loss: 1.2726\n",
      "Epoch [28/50] Loss: 1.6107\n",
      "Epoch [28/50] Loss: 1.4781\n"
     ]
    },
    {
     "name": "stderr",
     "output_type": "stream",
     "text": [
      "1010it [03:39,  4.61it/s]"
     ]
    },
    {
     "name": "stdout",
     "output_type": "stream",
     "text": [
      "Overall Acc: \t 0.572498745368\n",
      "Mean Acc : \t 0.215285246602\n",
      "FreqW Acc : \t 0.401534080964\n",
      "Mean IoU : \t 0.155439597008\n"
     ]
    },
    {
     "name": "stderr",
     "output_type": "stream",
     "text": [
      "\n"
     ]
    },
    {
     "name": "stdout",
     "output_type": "stream",
     "text": [
      "Epoch [29/50] Loss: 0.9901\n",
      "Epoch [29/50] Loss: 1.4298\n",
      "Epoch [29/50] Loss: 1.5045\n",
      "Epoch [29/50] Loss: 0.9261\n",
      "Epoch [29/50] Loss: 1.2559\n",
      "Epoch [29/50] Loss: 1.2213\n",
      "Epoch [29/50] Loss: 1.7986\n",
      "Epoch [29/50] Loss: 0.9560\n",
      "Epoch [29/50] Loss: 1.5608\n",
      "Epoch [29/50] Loss: 1.3897\n"
     ]
    },
    {
     "name": "stderr",
     "output_type": "stream",
     "text": [
      "1010it [03:38,  4.63it/s]"
     ]
    },
    {
     "name": "stdout",
     "output_type": "stream",
     "text": [
      "Overall Acc: \t 0.573701514868\n",
      "Mean Acc : \t 0.209345119228\n",
      "FreqW Acc : \t 0.401600766878\n",
      "Mean IoU : \t 0.154501318488\n"
     ]
    },
    {
     "name": "stderr",
     "output_type": "stream",
     "text": [
      "\n"
     ]
    },
    {
     "name": "stdout",
     "output_type": "stream",
     "text": [
      "Epoch [30/50] Loss: 1.4284\n",
      "Epoch [30/50] Loss: 1.3091\n",
      "Epoch [30/50] Loss: 1.3672\n",
      "Epoch [30/50] Loss: 1.2999\n",
      "Epoch [30/50] Loss: 1.3272\n",
      "Epoch [30/50] Loss: 1.0533\n",
      "Epoch [30/50] Loss: 1.0837\n",
      "Epoch [30/50] Loss: 1.0325\n",
      "Epoch [30/50] Loss: 1.5148\n",
      "Epoch [30/50] Loss: 1.4448\n"
     ]
    },
    {
     "name": "stderr",
     "output_type": "stream",
     "text": [
      "1010it [03:37,  4.63it/s]\n"
     ]
    },
    {
     "name": "stdout",
     "output_type": "stream",
     "text": [
      "Overall Acc: \t 0.574185996763\n",
      "Mean Acc : \t 0.223432394434\n",
      "FreqW Acc : \t 0.402513019448\n",
      "Mean IoU : \t 0.162760671495\n",
      "Epoch [31/50] Loss: 0.9254\n",
      "Epoch [31/50] Loss: 1.0407\n",
      "Epoch [31/50] Loss: 1.3859\n",
      "Epoch [31/50] Loss: 1.0792\n",
      "Epoch [31/50] Loss: 1.6337\n",
      "Epoch [31/50] Loss: 1.4479\n",
      "Epoch [31/50] Loss: 1.0099\n",
      "Epoch [31/50] Loss: 0.9940\n",
      "Epoch [31/50] Loss: 1.0931\n",
      "Epoch [31/50] Loss: 1.5166\n"
     ]
    },
    {
     "name": "stderr",
     "output_type": "stream",
     "text": [
      "1010it [03:39,  4.61it/s]"
     ]
    },
    {
     "name": "stdout",
     "output_type": "stream",
     "text": [
      "Overall Acc: \t 0.572423172828\n",
      "Mean Acc : \t 0.208837194266\n",
      "FreqW Acc : \t 0.401610838129\n",
      "Mean IoU : \t 0.153446111012\n"
     ]
    },
    {
     "name": "stderr",
     "output_type": "stream",
     "text": [
      "\n"
     ]
    },
    {
     "name": "stdout",
     "output_type": "stream",
     "text": [
      "Epoch [32/50] Loss: 1.0014\n",
      "Epoch [32/50] Loss: 0.9027\n",
      "Epoch [32/50] Loss: 1.0083\n",
      "Epoch [32/50] Loss: 1.2962\n",
      "Epoch [32/50] Loss: 1.1066\n",
      "Epoch [32/50] Loss: 1.2117\n",
      "Epoch [32/50] Loss: 0.8999\n",
      "Epoch [32/50] Loss: 1.2476\n",
      "Epoch [32/50] Loss: 1.3462\n",
      "Epoch [32/50] Loss: 1.0337\n"
     ]
    },
    {
     "name": "stderr",
     "output_type": "stream",
     "text": [
      "1010it [03:39,  4.60it/s]"
     ]
    },
    {
     "name": "stdout",
     "output_type": "stream",
     "text": [
      "Overall Acc: \t 0.57566678839\n",
      "Mean Acc : \t 0.215270693328\n",
      "FreqW Acc : \t 0.403129184302\n",
      "Mean IoU : \t 0.15888309383\n"
     ]
    },
    {
     "name": "stderr",
     "output_type": "stream",
     "text": [
      "\n"
     ]
    },
    {
     "name": "stdout",
     "output_type": "stream",
     "text": [
      "Epoch [33/50] Loss: 1.0372\n",
      "Epoch [33/50] Loss: 1.0845\n",
      "Epoch [33/50] Loss: 1.0259\n",
      "Epoch [33/50] Loss: 1.2005\n",
      "Epoch [33/50] Loss: 1.2192\n",
      "Epoch [33/50] Loss: 1.0463\n",
      "Epoch [33/50] Loss: 1.2516\n",
      "Epoch [33/50] Loss: 1.1072\n",
      "Epoch [33/50] Loss: 1.2808\n",
      "Epoch [33/50] Loss: 1.1198\n"
     ]
    },
    {
     "name": "stderr",
     "output_type": "stream",
     "text": [
      "1010it [03:39,  4.61it/s]"
     ]
    },
    {
     "name": "stdout",
     "output_type": "stream",
     "text": [
      "Overall Acc: \t 0.576488109238\n",
      "Mean Acc : \t 0.218907506132\n",
      "FreqW Acc : \t 0.40115918498\n",
      "Mean IoU : \t 0.159632159818\n"
     ]
    },
    {
     "name": "stderr",
     "output_type": "stream",
     "text": [
      "\n"
     ]
    },
    {
     "name": "stdout",
     "output_type": "stream",
     "text": [
      "Epoch [34/50] Loss: 1.2201\n",
      "Epoch [34/50] Loss: 0.9643\n",
      "Epoch [34/50] Loss: 1.1165\n",
      "Epoch [34/50] Loss: 1.1051\n",
      "Epoch [34/50] Loss: 1.0660\n",
      "Epoch [34/50] Loss: 1.2668\n",
      "Epoch [34/50] Loss: 1.4603\n",
      "Epoch [34/50] Loss: 1.3727\n",
      "Epoch [34/50] Loss: 1.2788\n",
      "Epoch [34/50] Loss: 1.3944\n"
     ]
    },
    {
     "name": "stderr",
     "output_type": "stream",
     "text": [
      "1010it [03:38,  4.63it/s]\n"
     ]
    },
    {
     "name": "stdout",
     "output_type": "stream",
     "text": [
      "Overall Acc: \t 0.573838305827\n",
      "Mean Acc : \t 0.229598179188\n",
      "FreqW Acc : \t 0.404029416724\n",
      "Mean IoU : \t 0.164847847851\n",
      "Epoch [35/50] Loss: 1.0016\n",
      "Epoch [35/50] Loss: 1.2626\n",
      "Epoch [35/50] Loss: 1.2485\n",
      "Epoch [35/50] Loss: 0.9416\n",
      "Epoch [35/50] Loss: 0.9955\n",
      "Epoch [35/50] Loss: 1.3465\n",
      "Epoch [35/50] Loss: 0.8414\n",
      "Epoch [35/50] Loss: 1.3290\n",
      "Epoch [35/50] Loss: 1.3360\n",
      "Epoch [35/50] Loss: 1.2054\n"
     ]
    },
    {
     "name": "stderr",
     "output_type": "stream",
     "text": [
      "1010it [03:39,  4.60it/s]"
     ]
    },
    {
     "name": "stdout",
     "output_type": "stream",
     "text": [
      "Overall Acc: \t 0.575260966616\n",
      "Mean Acc : \t 0.226378955019\n",
      "FreqW Acc : \t 0.40542232898\n",
      "Mean IoU : \t 0.164420422851\n"
     ]
    },
    {
     "name": "stderr",
     "output_type": "stream",
     "text": [
      "\n"
     ]
    },
    {
     "name": "stdout",
     "output_type": "stream",
     "text": [
      "Epoch [36/50] Loss: 1.1272\n",
      "Epoch [36/50] Loss: 1.2646\n",
      "Epoch [36/50] Loss: 1.0375\n",
      "Epoch [36/50] Loss: 1.1279\n",
      "Epoch [36/50] Loss: 1.2027\n",
      "Epoch [36/50] Loss: 0.8799\n",
      "Epoch [36/50] Loss: 1.1133\n",
      "Epoch [36/50] Loss: 1.0574\n",
      "Epoch [36/50] Loss: 1.1736\n",
      "Epoch [36/50] Loss: 1.0588\n"
     ]
    },
    {
     "name": "stderr",
     "output_type": "stream",
     "text": [
      "1010it [03:38,  4.63it/s]"
     ]
    },
    {
     "name": "stdout",
     "output_type": "stream",
     "text": [
      "Overall Acc: \t 0.576112773853\n",
      "Mean Acc : \t 0.222042770802\n",
      "FreqW Acc : \t 0.403659539174\n",
      "Mean IoU : \t 0.163773270916\n"
     ]
    },
    {
     "name": "stderr",
     "output_type": "stream",
     "text": [
      "\n"
     ]
    },
    {
     "name": "stdout",
     "output_type": "stream",
     "text": [
      "Epoch [37/50] Loss: 0.9979\n",
      "Epoch [37/50] Loss: 1.0115\n",
      "Epoch [37/50] Loss: 0.9554\n",
      "Epoch [37/50] Loss: 1.0719\n",
      "Epoch [37/50] Loss: 1.0366\n",
      "Epoch [37/50] Loss: 1.1643\n",
      "Epoch [37/50] Loss: 1.3850\n",
      "Epoch [37/50] Loss: 1.2033\n",
      "Epoch [37/50] Loss: 0.9731\n",
      "Epoch [37/50] Loss: 1.4637\n"
     ]
    },
    {
     "name": "stderr",
     "output_type": "stream",
     "text": [
      "1010it [03:40,  4.58it/s]"
     ]
    },
    {
     "name": "stdout",
     "output_type": "stream",
     "text": [
      "Overall Acc: \t 0.576384099884\n",
      "Mean Acc : \t 0.214616571821\n",
      "FreqW Acc : \t 0.405859060227\n",
      "Mean IoU : \t 0.161121783102\n"
     ]
    },
    {
     "name": "stderr",
     "output_type": "stream",
     "text": [
      "\n"
     ]
    },
    {
     "name": "stdout",
     "output_type": "stream",
     "text": [
      "Epoch [38/50] Loss: 1.0536\n",
      "Epoch [38/50] Loss: 1.0573\n",
      "Epoch [38/50] Loss: 1.0224\n",
      "Epoch [38/50] Loss: 1.1789\n",
      "Epoch [38/50] Loss: 0.9041\n",
      "Epoch [38/50] Loss: 1.4836\n",
      "Epoch [38/50] Loss: 1.3046\n",
      "Epoch [38/50] Loss: 1.1630\n",
      "Epoch [38/50] Loss: 1.3060\n",
      "Epoch [38/50] Loss: 0.9474\n"
     ]
    },
    {
     "name": "stderr",
     "output_type": "stream",
     "text": [
      "1010it [03:37,  4.64it/s]\n"
     ]
    },
    {
     "name": "stdout",
     "output_type": "stream",
     "text": [
      "Overall Acc: \t 0.57751696783\n",
      "Mean Acc : \t 0.23664659142\n",
      "FreqW Acc : \t 0.409925532111\n",
      "Mean IoU : \t 0.170751389531\n",
      "Epoch [39/50] Loss: 0.9896\n",
      "Epoch [39/50] Loss: 0.8968\n",
      "Epoch [39/50] Loss: 1.1856\n",
      "Epoch [39/50] Loss: 0.9455\n",
      "Epoch [39/50] Loss: 1.0066\n",
      "Epoch [39/50] Loss: 1.2500\n",
      "Epoch [39/50] Loss: 0.9972\n",
      "Epoch [39/50] Loss: 1.0278\n",
      "Epoch [39/50] Loss: 0.8828\n",
      "Epoch [39/50] Loss: 1.3407\n"
     ]
    },
    {
     "name": "stderr",
     "output_type": "stream",
     "text": [
      "1010it [03:39,  4.60it/s]"
     ]
    },
    {
     "name": "stdout",
     "output_type": "stream",
     "text": [
      "Overall Acc: \t 0.577369965097\n",
      "Mean Acc : \t 0.230185392328\n",
      "FreqW Acc : \t 0.407534422018\n",
      "Mean IoU : \t 0.170435319859\n"
     ]
    },
    {
     "name": "stderr",
     "output_type": "stream",
     "text": [
      "\n"
     ]
    },
    {
     "name": "stdout",
     "output_type": "stream",
     "text": [
      "Epoch [40/50] Loss: 0.9606\n",
      "Epoch [40/50] Loss: 1.0317\n",
      "Epoch [40/50] Loss: 0.7320\n",
      "Epoch [40/50] Loss: 0.9350\n",
      "Epoch [40/50] Loss: 1.0353\n",
      "Epoch [40/50] Loss: 0.9696\n",
      "Epoch [40/50] Loss: 0.8510\n",
      "Epoch [40/50] Loss: 1.3219\n",
      "Epoch [40/50] Loss: 1.1124\n",
      "Epoch [40/50] Loss: 0.9948\n"
     ]
    },
    {
     "name": "stderr",
     "output_type": "stream",
     "text": [
      "1010it [03:38,  4.63it/s]"
     ]
    },
    {
     "name": "stdout",
     "output_type": "stream",
     "text": [
      "Overall Acc: \t 0.577137853721\n",
      "Mean Acc : \t 0.228711272265\n",
      "FreqW Acc : \t 0.405768673423\n",
      "Mean IoU : \t 0.165682647098\n"
     ]
    },
    {
     "name": "stderr",
     "output_type": "stream",
     "text": [
      "\n"
     ]
    },
    {
     "name": "stdout",
     "output_type": "stream",
     "text": [
      "Epoch [41/50] Loss: 0.9347\n",
      "Epoch [41/50] Loss: 0.9583\n",
      "Epoch [41/50] Loss: 1.1109\n",
      "Epoch [41/50] Loss: 0.7425\n",
      "Epoch [41/50] Loss: 1.1340\n",
      "Epoch [41/50] Loss: 0.9626\n",
      "Epoch [41/50] Loss: 1.0524\n",
      "Epoch [41/50] Loss: 0.9057\n",
      "Epoch [41/50] Loss: 0.9861\n",
      "Epoch [41/50] Loss: 0.9965\n"
     ]
    },
    {
     "name": "stderr",
     "output_type": "stream",
     "text": [
      "1010it [03:40,  4.59it/s]\n"
     ]
    },
    {
     "name": "stdout",
     "output_type": "stream",
     "text": [
      "Overall Acc: \t 0.577252446854\n",
      "Mean Acc : \t 0.239345866219\n",
      "FreqW Acc : \t 0.407301325833\n",
      "Mean IoU : \t 0.172907525212\n",
      "Epoch [42/50] Loss: 0.9661\n",
      "Epoch [42/50] Loss: 1.0854\n",
      "Epoch [42/50] Loss: 0.9336\n",
      "Epoch [42/50] Loss: 1.2187\n",
      "Epoch [42/50] Loss: 1.1413\n",
      "Epoch [42/50] Loss: 1.0176\n",
      "Epoch [42/50] Loss: 1.0835\n",
      "Epoch [42/50] Loss: 1.1638\n",
      "Epoch [42/50] Loss: 1.1047\n",
      "Epoch [42/50] Loss: 0.8510\n"
     ]
    },
    {
     "name": "stderr",
     "output_type": "stream",
     "text": [
      "1010it [03:39,  4.60it/s]"
     ]
    },
    {
     "name": "stdout",
     "output_type": "stream",
     "text": [
      "Overall Acc: \t 0.578840626831\n",
      "Mean Acc : \t 0.230648218034\n",
      "FreqW Acc : \t 0.409286166738\n",
      "Mean IoU : \t 0.17018647227\n"
     ]
    },
    {
     "name": "stderr",
     "output_type": "stream",
     "text": [
      "\n"
     ]
    },
    {
     "name": "stdout",
     "output_type": "stream",
     "text": [
      "Epoch [43/50] Loss: 1.2366\n",
      "Epoch [43/50] Loss: 1.2614\n",
      "Epoch [43/50] Loss: 0.9727\n",
      "Epoch [43/50] Loss: 1.4214\n",
      "Epoch [43/50] Loss: 1.0260\n",
      "Epoch [43/50] Loss: 1.3880\n",
      "Epoch [43/50] Loss: 0.7431\n",
      "Epoch [43/50] Loss: 1.2590\n",
      "Epoch [43/50] Loss: 1.1242\n",
      "Epoch [43/50] Loss: 0.8607\n"
     ]
    },
    {
     "name": "stderr",
     "output_type": "stream",
     "text": [
      "1010it [03:38,  4.63it/s]"
     ]
    },
    {
     "name": "stdout",
     "output_type": "stream",
     "text": [
      "Overall Acc: \t 0.57918991926\n",
      "Mean Acc : \t 0.23193137321\n",
      "FreqW Acc : \t 0.406005643095\n",
      "Mean IoU : \t 0.169933985926\n"
     ]
    },
    {
     "name": "stderr",
     "output_type": "stream",
     "text": [
      "\n"
     ]
    },
    {
     "name": "stdout",
     "output_type": "stream",
     "text": [
      "Epoch [44/50] Loss: 1.0523\n",
      "Epoch [44/50] Loss: 0.9069\n",
      "Epoch [44/50] Loss: 1.6062\n",
      "Epoch [44/50] Loss: 0.9940\n",
      "Epoch [44/50] Loss: 0.9049\n",
      "Epoch [44/50] Loss: 1.0548\n",
      "Epoch [44/50] Loss: 1.2406\n",
      "Epoch [44/50] Loss: 0.9928\n",
      "Epoch [44/50] Loss: 1.3557\n",
      "Epoch [44/50] Loss: 1.1226\n"
     ]
    },
    {
     "name": "stderr",
     "output_type": "stream",
     "text": [
      "1010it [03:39,  4.61it/s]"
     ]
    },
    {
     "name": "stdout",
     "output_type": "stream",
     "text": [
      "Overall Acc: \t 0.578539752483\n",
      "Mean Acc : \t 0.224647684495\n",
      "FreqW Acc : \t 0.411047433559\n",
      "Mean IoU : \t 0.168700659302\n"
     ]
    },
    {
     "name": "stderr",
     "output_type": "stream",
     "text": [
      "\n"
     ]
    },
    {
     "name": "stdout",
     "output_type": "stream",
     "text": [
      "Epoch [45/50] Loss: 1.2377\n",
      "Epoch [45/50] Loss: 1.0414\n",
      "Epoch [45/50] Loss: 1.1251\n",
      "Epoch [45/50] Loss: 1.0705\n",
      "Epoch [45/50] Loss: 0.8842\n",
      "Epoch [45/50] Loss: 1.0816\n",
      "Epoch [45/50] Loss: 0.8005\n",
      "Epoch [45/50] Loss: 0.8735\n",
      "Epoch [45/50] Loss: 0.7496\n",
      "Epoch [45/50] Loss: 1.1363\n"
     ]
    },
    {
     "name": "stderr",
     "output_type": "stream",
     "text": [
      "1010it [03:37,  4.65it/s]\n"
     ]
    },
    {
     "name": "stdout",
     "output_type": "stream",
     "text": [
      "Overall Acc: \t 0.571996641894\n",
      "Mean Acc : \t 0.253436070156\n",
      "FreqW Acc : \t 0.406985903073\n",
      "Mean IoU : \t 0.17929431747\n",
      "Epoch [46/50] Loss: 0.8592\n",
      "Epoch [46/50] Loss: 1.1527\n",
      "Epoch [46/50] Loss: 1.1416\n",
      "Epoch [46/50] Loss: 1.2591\n",
      "Epoch [46/50] Loss: 1.0381\n",
      "Epoch [46/50] Loss: 1.1499\n",
      "Epoch [46/50] Loss: 1.1340\n",
      "Epoch [46/50] Loss: 0.9905\n",
      "Epoch [46/50] Loss: 1.2186\n",
      "Epoch [46/50] Loss: 0.9316\n"
     ]
    },
    {
     "name": "stderr",
     "output_type": "stream",
     "text": [
      "1010it [03:39,  4.60it/s]"
     ]
    },
    {
     "name": "stdout",
     "output_type": "stream",
     "text": [
      "Overall Acc: \t 0.580355250318\n",
      "Mean Acc : \t 0.239180854373\n",
      "FreqW Acc : \t 0.411010412887\n",
      "Mean IoU : \t 0.175509275209\n"
     ]
    },
    {
     "name": "stderr",
     "output_type": "stream",
     "text": [
      "\n"
     ]
    },
    {
     "name": "stdout",
     "output_type": "stream",
     "text": [
      "Epoch [47/50] Loss: 0.9332\n",
      "Epoch [47/50] Loss: 0.9778\n",
      "Epoch [47/50] Loss: 0.8895\n",
      "Epoch [47/50] Loss: 1.0160\n",
      "Epoch [47/50] Loss: 1.0912\n",
      "Epoch [47/50] Loss: 0.7746\n",
      "Epoch [47/50] Loss: 1.0244\n",
      "Epoch [47/50] Loss: 1.0082\n",
      "Epoch [47/50] Loss: 1.0846\n",
      "Epoch [47/50] Loss: 1.1890\n"
     ]
    },
    {
     "name": "stderr",
     "output_type": "stream",
     "text": [
      "1010it [03:39,  4.61it/s]"
     ]
    },
    {
     "name": "stdout",
     "output_type": "stream",
     "text": [
      "Overall Acc: \t 0.5775344134\n",
      "Mean Acc : \t 0.243836544684\n",
      "FreqW Acc : \t 0.409927671003\n",
      "Mean IoU : \t 0.177434435559\n"
     ]
    },
    {
     "name": "stderr",
     "output_type": "stream",
     "text": [
      "\n"
     ]
    },
    {
     "name": "stdout",
     "output_type": "stream",
     "text": [
      "Epoch [48/50] Loss: 0.9774\n",
      "Epoch [48/50] Loss: 0.8249\n",
      "Epoch [48/50] Loss: 0.8546\n",
      "Epoch [48/50] Loss: 1.0199\n",
      "Epoch [48/50] Loss: 1.2078\n",
      "Epoch [48/50] Loss: 0.8294\n",
      "Epoch [48/50] Loss: 0.8202\n",
      "Epoch [48/50] Loss: 0.7717\n",
      "Epoch [48/50] Loss: 1.3491\n",
      "Epoch [48/50] Loss: 1.2491\n"
     ]
    },
    {
     "name": "stderr",
     "output_type": "stream",
     "text": [
      "1010it [03:41,  4.57it/s]"
     ]
    },
    {
     "name": "stdout",
     "output_type": "stream",
     "text": [
      "Overall Acc: \t 0.578890318241\n",
      "Mean Acc : \t 0.230354239462\n",
      "FreqW Acc : \t 0.403673328745\n",
      "Mean IoU : \t 0.171136943285\n"
     ]
    },
    {
     "name": "stderr",
     "output_type": "stream",
     "text": [
      "\n"
     ]
    },
    {
     "name": "stdout",
     "output_type": "stream",
     "text": [
      "Epoch [49/50] Loss: 0.7773\n",
      "Epoch [49/50] Loss: 0.9672\n",
      "Epoch [49/50] Loss: 1.1020\n",
      "Epoch [49/50] Loss: 0.8641\n",
      "Epoch [49/50] Loss: 0.9975\n",
      "Epoch [49/50] Loss: 0.8775\n",
      "Epoch [49/50] Loss: 1.0406\n",
      "Epoch [49/50] Loss: 1.0362\n",
      "Epoch [49/50] Loss: 0.9603\n",
      "Epoch [49/50] Loss: 1.1370\n"
     ]
    },
    {
     "name": "stderr",
     "output_type": "stream",
     "text": [
      "1010it [03:39,  4.59it/s]"
     ]
    },
    {
     "name": "stdout",
     "output_type": "stream",
     "text": [
      "Overall Acc: \t 0.57676811518\n",
      "Mean Acc : \t 0.243840094266\n",
      "FreqW Acc : \t 0.410248234738\n",
      "Mean IoU : \t 0.177475786934\n"
     ]
    },
    {
     "name": "stderr",
     "output_type": "stream",
     "text": [
      "\n"
     ]
    },
    {
     "name": "stdout",
     "output_type": "stream",
     "text": [
      "Epoch [50/50] Loss: 1.0040\n",
      "Epoch [50/50] Loss: 0.7866\n",
      "Epoch [50/50] Loss: 1.2508\n",
      "Epoch [50/50] Loss: 1.2259\n",
      "Epoch [50/50] Loss: 0.9840\n",
      "Epoch [50/50] Loss: 1.1938\n",
      "Epoch [50/50] Loss: 1.2872\n",
      "Epoch [50/50] Loss: 1.1351\n",
      "Epoch [50/50] Loss: 0.9922\n",
      "Epoch [50/50] Loss: 1.0259\n"
     ]
    },
    {
     "name": "stderr",
     "output_type": "stream",
     "text": [
      "1010it [03:40,  4.57it/s]\n"
     ]
    },
    {
     "name": "stdout",
     "output_type": "stream",
     "text": [
      "Overall Acc: \t 0.579176072536\n",
      "Mean Acc : \t 0.248450690441\n",
      "FreqW Acc : \t 0.412409761258\n",
      "Mean IoU : \t 0.181395332297\n"
     ]
    }
   ],
   "source": [
    "from utils import *\n",
    "\n",
    "arg_str = '--gpu_idx 0 ' \\\n",
    "          '--arch FCN_RGB_renet ' \\\n",
    "          '--input_type RGB ' \\\n",
    "          '--dataset SUNRGBD ' \\\n",
    "          '--batch_size 5 ' \\\n",
    "          '--n_epoch 50'\n",
    "\n",
    "trainer = trainer(arg_str)\n",
    "trainer.model_init()\n",
    "trainer.training()"
   ]
  },
  {
   "cell_type": "code",
   "execution_count": null,
   "metadata": {},
   "outputs": [],
   "source": []
  }
 ],
 "metadata": {
  "kernelspec": {
   "display_name": "Python [conda env:pytorch]",
   "language": "python",
   "name": "conda-env-pytorch-py"
  },
  "language_info": {
   "codemirror_mode": {
    "name": "ipython",
    "version": 3
   },
   "file_extension": ".py",
   "mimetype": "text/x-python",
   "name": "python",
   "nbconvert_exporter": "python",
   "pygments_lexer": "ipython3",
   "version": "3.6.3"
  }
 },
 "nbformat": 4,
 "nbformat_minor": 2
}
