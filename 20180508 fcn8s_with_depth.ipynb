{
 "cells": [
  {
   "cell_type": "code",
   "execution_count": 3,
   "metadata": {},
   "outputs": [],
   "source": [
    "%matplotlib inline\n",
    "import os\n",
    "import collections\n",
    "import torch\n",
    "import torchvision\n",
    "import numpy as np\n",
    "import scipy.misc as m\n",
    "import scipy.io as io\n",
    "import matplotlib.pyplot as plt\n",
    "\n",
    "from SUNRGBDLoader import *\n",
    "\n",
    "os.environ['CUDA_VISIBLE_DEVICES'] = '1'"
   ]
  },
  {
   "cell_type": "code",
   "execution_count": 4,
   "metadata": {},
   "outputs": [],
   "source": [
    "import sys, os\n",
    "import torch\n",
    "import visdom\n",
    "import argparse\n",
    "import numpy as np\n",
    "import torch.nn as nn\n",
    "import torch.nn.functional as F\n",
    "import torchvision.models as models\n",
    "\n",
    "from torch.autograd import Variable\n",
    "from torch.utils import data\n",
    "from tqdm import tqdm\n",
    "\n",
    "from ptsemseg.models import get_model\n",
    "from ptsemseg.loader import get_loader, get_data_path\n",
    "from ptsemseg.metrics import runningScore\n",
    "from ptsemseg.loss import *\n",
    "from ptsemseg.augmentations import *\n",
    "\n",
    "\n",
    "parser = argparse.ArgumentParser(description='Hyperparams')\n",
    "parser.add_argument('--arch', nargs='?', type=str, default='fcn8s', \n",
    "                    help='Architecture to use [\\'fcn8s, unet, segnet etc\\']')\n",
    "parser.add_argument('--img_rows', nargs='?', type=int, default=256, \n",
    "                    help='Height of the input image')\n",
    "parser.add_argument('--img_cols', nargs='?', type=int, default=256, \n",
    "                    help='Width of the input image')\n",
    "\n",
    "parser.add_argument('--img_norm', dest='img_norm', action='store_true', \n",
    "                    help='Enable input image scales normalization [0, 1] | True by default')\n",
    "parser.add_argument('--no-img_norm', dest='img_norm', action='store_false', \n",
    "                    help='Disable input image scales normalization [0, 1] | True by default')\n",
    "parser.set_defaults(img_norm=True)\n",
    "\n",
    "parser.add_argument('--n_epoch', nargs='?', type=int, default=100, \n",
    "                    help='# of the epochs')\n",
    "parser.add_argument('--batch_size', nargs='?', type=int, default=1, \n",
    "                    help='Batch Size')\n",
    "parser.add_argument('--l_rate', nargs='?', type=float, default=1e-5, \n",
    "                    help='Learning Rate')\n",
    "parser.add_argument('--feature_scale', nargs='?', type=int, default=1, \n",
    "                    help='Divider for # of features to use')\n",
    "parser.add_argument('--resume', nargs='?', type=str, default=None,    \n",
    "                    help='Path to previous saved model to restart from')\n",
    "\n",
    "parser.add_argument('--visdom', dest='visdom', action='store_true', \n",
    "                    help='Enable visualization(s) on visdom | False by default')\n",
    "parser.add_argument('--no-visdom', dest='visdom', action='store_false', \n",
    "                    help='Disable visualization(s) on visdom | False by default')\n",
    "parser.set_defaults(visdom=False)\n"
   ]
  },
  {
   "cell_type": "code",
   "execution_count": 5,
   "metadata": {},
   "outputs": [],
   "source": [
    "args = parser.parse_args('--arch fcn8s_with_rgbd --batch_size 3'.split(' '))\n",
    "\n",
    "# Setup Augmentations\n",
    "data_aug= Compose([RandomRotate(10),                                        \n",
    "                   RandomHorizontallyFlip()])\n",
    "\n",
    "# Setup Dataloader\n",
    "data_path = '/home/dongwonshin/Desktop/Datasets/SUNRGBD/SUNRGBD(renamed)/'\n",
    "t_loader = SUNRGBDLoader(data_path, is_transform=True)\n",
    "v_loader = SUNRGBDLoader(data_path, is_transform=True, split='val')\n",
    "\n",
    "n_classes = t_loader.n_classes\n",
    "trainloader = data.DataLoader(t_loader, batch_size=args.batch_size, num_workers=16, shuffle=True)\n",
    "valloader = data.DataLoader(v_loader, batch_size=args.batch_size, num_workers=16)\n",
    "\n",
    "# Setup Metrics\n",
    "running_metrics = runningScore(n_classes)\n",
    "\n",
    "# Setup visdom for visualization\n",
    "if args.visdom:\n",
    "    vis = visdom.Visdom()\n",
    "\n",
    "    loss_window = vis.line(X=torch.zeros((1,)).cpu(),\n",
    "                       Y=torch.zeros((1)).cpu(),\n",
    "                       opts=dict(xlabel='minibatches',\n",
    "                                 ylabel='Loss',\n",
    "                                 title='Training Loss',\n",
    "                                 legend=['Loss']))\n",
    "\n",
    "# Setup Model\n",
    "model = get_model(args.arch, n_classes)\n",
    "\n",
    "model = torch.nn.DataParallel(model, device_ids=range(torch.cuda.device_count()))\n",
    "model.cuda()\n",
    "\n",
    "# Check if model has custom optimizer / loss\n",
    "if hasattr(model.module, 'optimizer'):\n",
    "    optimizer = model.module.optimizer\n",
    "else:\n",
    "    optimizer = torch.optim.SGD(model.parameters(), lr=args.l_rate, momentum=0.99, weight_decay=5e-4)\n",
    "\n",
    "if hasattr(model.module, 'loss'):\n",
    "    print('Using custom loss')\n",
    "    loss_fn = model.module.loss\n",
    "else:\n",
    "    loss_fn = cross_entropy2d\n",
    "\n",
    "if args.resume is not None:                                         \n",
    "    if os.path.isfile(args.resume):\n",
    "        print(\"Loading model and optimizer from checkpoint '{}'\".format(args.resume))\n",
    "        checkpoint = torch.load(args.resume)\n",
    "        model.load_state_dict(checkpoint['model_state'])\n",
    "        optimizer.load_state_dict(checkpoint['optimizer_state'])\n",
    "        print(\"Loaded checkpoint '{}' (epoch {})\"                    \n",
    "              .format(args.resume, checkpoint['epoch']))\n",
    "    else:\n",
    "        print(\"No checkpoint found at '{}'\".format(args.resume)) \n"
   ]
  },
  {
   "cell_type": "markdown",
   "metadata": {},
   "source": [
    "# Training"
   ]
  },
  {
   "cell_type": "code",
   "execution_count": null,
   "metadata": {},
   "outputs": [
    {
     "name": "stderr",
     "output_type": "stream",
     "text": [
      "/home/dongwonshin/.conda/envs/pytorch/lib/python3.6/site-packages/torch/nn/functional.py:1462: UserWarning: nn.functional.upsample_bilinear is deprecated. Use nn.functional.upsample instead.\n",
      "  warnings.warn(\"nn.functional.upsample_bilinear is deprecated. Use nn.functional.upsample instead.\")\n"
     ]
    },
    {
     "name": "stdout",
     "output_type": "stream",
     "text": [
      "Epoch [1/100] Loss: 2.5653\n",
      "Epoch [1/100] Loss: 2.4659\n",
      "Epoch [1/100] Loss: 2.0926\n",
      "Epoch [1/100] Loss: 1.8335\n",
      "Epoch [1/100] Loss: 1.8200\n",
      "Epoch [1/100] Loss: 1.6252\n",
      "Epoch [1/100] Loss: 1.7734\n",
      "Epoch [1/100] Loss: 1.6339\n",
      "Epoch [1/100] Loss: 1.5437\n",
      "Epoch [1/100] Loss: 1.7697\n",
      "Epoch [1/100] Loss: 1.3772\n",
      "Epoch [1/100] Loss: 1.4250\n",
      "Epoch [1/100] Loss: 1.3441\n",
      "Epoch [1/100] Loss: 1.3537\n",
      "Epoch [1/100] Loss: 1.4647\n",
      "Epoch [1/100] Loss: 1.8065\n",
      "Epoch [1/100] Loss: 1.7502\n"
     ]
    },
    {
     "name": "stderr",
     "output_type": "stream",
     "text": [
      "1684it [07:56,  3.53it/s]\n",
      "/home/dongwonshin/Desktop/pytorch_dataloader/ptsemseg/metrics.py:32: RuntimeWarning: invalid value encountered in true_divide\n",
      "  acc_cls = np.diag(hist) / hist.sum(axis=1)\n",
      "/home/dongwonshin/Desktop/pytorch_dataloader/ptsemseg/metrics.py:34: RuntimeWarning: invalid value encountered in true_divide\n",
      "  iu = np.diag(hist) / (hist.sum(axis=1) + hist.sum(axis=0) - np.diag(hist))\n"
     ]
    },
    {
     "name": "stdout",
     "output_type": "stream",
     "text": [
      "Overall Acc: \t 0.50127780657\n",
      "Mean Acc : \t 0.237929880159\n",
      "FreqW Acc : \t 0.31817644532\n",
      "Mean IoU : \t 0.147252524509\n",
      "Epoch [2/100] Loss: 1.4518\n",
      "Epoch [2/100] Loss: 1.3407\n",
      "Epoch [2/100] Loss: 1.7499\n",
      "Epoch [2/100] Loss: 1.3083\n",
      "Epoch [2/100] Loss: 1.5426\n",
      "Epoch [2/100] Loss: 1.4805\n",
      "Epoch [2/100] Loss: 1.6745\n",
      "Epoch [2/100] Loss: 1.8208\n",
      "Epoch [2/100] Loss: 2.0018\n",
      "Epoch [2/100] Loss: 1.5259\n",
      "Epoch [2/100] Loss: 1.5382\n",
      "Epoch [2/100] Loss: 1.2382\n",
      "Epoch [2/100] Loss: 1.7711\n",
      "Epoch [2/100] Loss: 1.3658\n",
      "Epoch [2/100] Loss: 1.1755\n",
      "Epoch [2/100] Loss: 1.2492\n",
      "Epoch [2/100] Loss: 1.2845\n"
     ]
    },
    {
     "name": "stderr",
     "output_type": "stream",
     "text": [
      "1684it [07:56,  3.53it/s]\n"
     ]
    },
    {
     "name": "stdout",
     "output_type": "stream",
     "text": [
      "Overall Acc: \t 0.529214091507\n",
      "Mean Acc : \t 0.295678994726\n",
      "FreqW Acc : \t 0.347102604523\n",
      "Mean IoU : \t 0.186584563866\n",
      "Epoch [3/100] Loss: 1.1426\n",
      "Epoch [3/100] Loss: 1.1206\n",
      "Epoch [3/100] Loss: 1.5049\n",
      "Epoch [3/100] Loss: 1.0363\n",
      "Epoch [3/100] Loss: 1.4712\n",
      "Epoch [3/100] Loss: 1.5791\n",
      "Epoch [3/100] Loss: 1.5665\n",
      "Epoch [3/100] Loss: 1.2740\n",
      "Epoch [3/100] Loss: 1.1911\n",
      "Epoch [3/100] Loss: 1.3754\n",
      "Epoch [3/100] Loss: 1.5057\n",
      "Epoch [3/100] Loss: 1.6625\n",
      "Epoch [3/100] Loss: 1.2021\n",
      "Epoch [3/100] Loss: 1.5557\n",
      "Epoch [3/100] Loss: 1.4542\n",
      "Epoch [3/100] Loss: 1.3695\n",
      "Epoch [3/100] Loss: 1.8417\n"
     ]
    },
    {
     "name": "stderr",
     "output_type": "stream",
     "text": [
      "1684it [07:57,  3.53it/s]\n"
     ]
    },
    {
     "name": "stdout",
     "output_type": "stream",
     "text": [
      "Overall Acc: \t 0.55070054984\n",
      "Mean Acc : \t 0.312639196416\n",
      "FreqW Acc : \t 0.372791470468\n",
      "Mean IoU : \t 0.219601309721\n",
      "Epoch [4/100] Loss: 1.1316\n",
      "Epoch [4/100] Loss: 1.5714\n",
      "Epoch [4/100] Loss: 1.4394\n",
      "Epoch [4/100] Loss: 1.1080\n",
      "Epoch [4/100] Loss: 1.2396\n",
      "Epoch [4/100] Loss: 1.2984\n",
      "Epoch [4/100] Loss: 1.4088\n",
      "Epoch [4/100] Loss: 1.1221\n",
      "Epoch [4/100] Loss: 0.9292\n",
      "Epoch [4/100] Loss: 1.5811\n",
      "Epoch [4/100] Loss: 1.4180\n",
      "Epoch [4/100] Loss: 1.1569\n",
      "Epoch [4/100] Loss: 1.5397\n",
      "Epoch [4/100] Loss: 1.2614\n",
      "Epoch [4/100] Loss: 1.1688\n",
      "Epoch [4/100] Loss: 1.5535\n",
      "Epoch [4/100] Loss: 1.3917\n"
     ]
    },
    {
     "name": "stderr",
     "output_type": "stream",
     "text": [
      "1684it [07:57,  3.53it/s]\n"
     ]
    },
    {
     "name": "stdout",
     "output_type": "stream",
     "text": [
      "Overall Acc: \t 0.560635205884\n",
      "Mean Acc : \t 0.338233795218\n",
      "FreqW Acc : \t 0.382008960918\n",
      "Mean IoU : \t 0.237930706111\n",
      "Epoch [5/100] Loss: 1.0650\n",
      "Epoch [5/100] Loss: 1.5843\n",
      "Epoch [5/100] Loss: 1.0968\n",
      "Epoch [5/100] Loss: 1.0381\n",
      "Epoch [5/100] Loss: 1.4465\n",
      "Epoch [5/100] Loss: 1.0333\n",
      "Epoch [5/100] Loss: 1.1023\n",
      "Epoch [5/100] Loss: 1.3548\n",
      "Epoch [5/100] Loss: 1.2937\n",
      "Epoch [5/100] Loss: 1.0180\n",
      "Epoch [5/100] Loss: 0.9790\n",
      "Epoch [5/100] Loss: 1.1206\n",
      "Epoch [5/100] Loss: 1.0688\n",
      "Epoch [5/100] Loss: 1.1695\n",
      "Epoch [5/100] Loss: 1.0015\n",
      "Epoch [5/100] Loss: 1.1182\n",
      "Epoch [5/100] Loss: 1.5707\n"
     ]
    },
    {
     "name": "stderr",
     "output_type": "stream",
     "text": [
      "1684it [07:57,  3.53it/s]\n"
     ]
    },
    {
     "name": "stdout",
     "output_type": "stream",
     "text": [
      "Overall Acc: \t 0.573484002424\n",
      "Mean Acc : \t 0.359738923197\n",
      "FreqW Acc : \t 0.402700210673\n",
      "Mean IoU : \t 0.261324684642\n",
      "Epoch [6/100] Loss: 1.2462\n",
      "Epoch [6/100] Loss: 1.5405\n",
      "Epoch [6/100] Loss: 0.8703\n",
      "Epoch [6/100] Loss: 1.1924\n",
      "Epoch [6/100] Loss: 1.3888\n",
      "Epoch [6/100] Loss: 1.1602\n",
      "Epoch [6/100] Loss: 0.7612\n",
      "Epoch [6/100] Loss: 1.3125\n",
      "Epoch [6/100] Loss: 1.1210\n",
      "Epoch [6/100] Loss: 1.1465\n",
      "Epoch [6/100] Loss: 1.1377\n",
      "Epoch [6/100] Loss: 1.7804\n",
      "Epoch [6/100] Loss: 1.3015\n",
      "Epoch [6/100] Loss: 0.9406\n",
      "Epoch [6/100] Loss: 1.1332\n",
      "Epoch [6/100] Loss: 0.8967\n",
      "Epoch [6/100] Loss: 0.9170\n"
     ]
    },
    {
     "name": "stderr",
     "output_type": "stream",
     "text": [
      "1684it [07:58,  3.52it/s]\n"
     ]
    },
    {
     "name": "stdout",
     "output_type": "stream",
     "text": [
      "Overall Acc: \t 0.576010029909\n",
      "Mean Acc : \t 0.354961880244\n",
      "FreqW Acc : \t 0.404478064136\n",
      "Mean IoU : \t 0.2618139427\n",
      "Epoch [7/100] Loss: 1.2313\n",
      "Epoch [7/100] Loss: 1.1537\n",
      "Epoch [7/100] Loss: 0.8330\n",
      "Epoch [7/100] Loss: 1.5670\n",
      "Epoch [7/100] Loss: 0.8757\n",
      "Epoch [7/100] Loss: 1.3741\n",
      "Epoch [7/100] Loss: 0.9048\n",
      "Epoch [7/100] Loss: 1.3883\n",
      "Epoch [7/100] Loss: 1.1354\n",
      "Epoch [7/100] Loss: 1.3426\n",
      "Epoch [7/100] Loss: 1.1187\n",
      "Epoch [7/100] Loss: 1.1377\n",
      "Epoch [7/100] Loss: 1.3476\n",
      "Epoch [7/100] Loss: 0.9984\n",
      "Epoch [7/100] Loss: 1.4677\n",
      "Epoch [7/100] Loss: 0.9728\n",
      "Epoch [7/100] Loss: 0.9893\n"
     ]
    },
    {
     "name": "stderr",
     "output_type": "stream",
     "text": [
      "1684it [08:04,  3.48it/s]\n"
     ]
    },
    {
     "name": "stdout",
     "output_type": "stream",
     "text": [
      "Overall Acc: \t 0.580889981049\n",
      "Mean Acc : \t 0.402511757942\n",
      "FreqW Acc : \t 0.407805600502\n",
      "Mean IoU : \t 0.283153931393\n",
      "Epoch [8/100] Loss: 1.2029\n",
      "Epoch [8/100] Loss: 1.2101\n",
      "Epoch [8/100] Loss: 0.9147\n",
      "Epoch [8/100] Loss: 0.9984\n",
      "Epoch [8/100] Loss: 1.3752\n",
      "Epoch [8/100] Loss: 1.5392\n",
      "Epoch [8/100] Loss: 0.7763\n",
      "Epoch [8/100] Loss: 1.1313\n",
      "Epoch [8/100] Loss: 0.7381\n",
      "Epoch [8/100] Loss: 0.9758\n",
      "Epoch [8/100] Loss: 0.9052\n",
      "Epoch [8/100] Loss: 0.8127\n",
      "Epoch [8/100] Loss: 1.1197\n",
      "Epoch [8/100] Loss: 1.1693\n",
      "Epoch [8/100] Loss: 1.1357\n",
      "Epoch [8/100] Loss: 1.2807\n",
      "Epoch [8/100] Loss: 1.1062\n"
     ]
    },
    {
     "name": "stderr",
     "output_type": "stream",
     "text": [
      "1684it [08:03,  3.48it/s]\n"
     ]
    },
    {
     "name": "stdout",
     "output_type": "stream",
     "text": [
      "Overall Acc: \t 0.588454884102\n",
      "Mean Acc : \t 0.399834471535\n",
      "FreqW Acc : \t 0.419022741538\n",
      "Mean IoU : \t 0.290354129144\n",
      "Epoch [9/100] Loss: 1.2427\n",
      "Epoch [9/100] Loss: 1.0837\n",
      "Epoch [9/100] Loss: 1.0575\n",
      "Epoch [9/100] Loss: 1.3766\n",
      "Epoch [9/100] Loss: 1.4471\n",
      "Epoch [9/100] Loss: 1.4748\n",
      "Epoch [9/100] Loss: 1.0184\n",
      "Epoch [9/100] Loss: 0.9954\n",
      "Epoch [9/100] Loss: 1.1101\n",
      "Epoch [9/100] Loss: 1.2536\n",
      "Epoch [9/100] Loss: 1.0854\n",
      "Epoch [9/100] Loss: 1.1060\n",
      "Epoch [9/100] Loss: 0.9427\n",
      "Epoch [9/100] Loss: 0.8224\n",
      "Epoch [9/100] Loss: 1.3414\n",
      "Epoch [9/100] Loss: 1.8325\n",
      "Epoch [9/100] Loss: 1.0641\n"
     ]
    },
    {
     "name": "stderr",
     "output_type": "stream",
     "text": [
      "1684it [08:00,  3.50it/s]"
     ]
    },
    {
     "name": "stdout",
     "output_type": "stream",
     "text": [
      "Overall Acc: \t 0.590475434458\n",
      "Mean Acc : \t 0.390081904072\n",
      "FreqW Acc : \t 0.422215745598\n",
      "Mean IoU : \t 0.288540530559\n"
     ]
    },
    {
     "name": "stderr",
     "output_type": "stream",
     "text": [
      "\n"
     ]
    },
    {
     "name": "stdout",
     "output_type": "stream",
     "text": [
      "Epoch [10/100] Loss: 1.3543\n",
      "Epoch [10/100] Loss: 1.1877\n",
      "Epoch [10/100] Loss: 1.0021\n",
      "Epoch [10/100] Loss: 1.2859\n",
      "Epoch [10/100] Loss: 1.0986\n",
      "Epoch [10/100] Loss: 1.8622\n",
      "Epoch [10/100] Loss: 0.9194\n",
      "Epoch [10/100] Loss: 0.7582\n",
      "Epoch [10/100] Loss: 0.8837\n",
      "Epoch [10/100] Loss: 1.6312\n",
      "Epoch [10/100] Loss: 1.5328\n",
      "Epoch [10/100] Loss: 0.8781\n",
      "Epoch [10/100] Loss: 0.6033\n",
      "Epoch [10/100] Loss: 1.3589\n",
      "Epoch [10/100] Loss: 1.3126\n",
      "Epoch [10/100] Loss: 1.1493\n",
      "Epoch [10/100] Loss: 0.8868\n"
     ]
    },
    {
     "name": "stderr",
     "output_type": "stream",
     "text": [
      "1684it [08:02,  3.49it/s]\n"
     ]
    },
    {
     "name": "stdout",
     "output_type": "stream",
     "text": [
      "Overall Acc: \t 0.592934717925\n",
      "Mean Acc : \t 0.410173220075\n",
      "FreqW Acc : \t 0.422510436309\n",
      "Mean IoU : \t 0.296131537867\n",
      "Epoch [11/100] Loss: 1.0641\n",
      "Epoch [11/100] Loss: 0.8980\n",
      "Epoch [11/100] Loss: 0.8189\n",
      "Epoch [11/100] Loss: 0.9369\n",
      "Epoch [11/100] Loss: 1.0714\n",
      "Epoch [11/100] Loss: 0.8616\n",
      "Epoch [11/100] Loss: 1.1268\n",
      "Epoch [11/100] Loss: 1.4230\n",
      "Epoch [11/100] Loss: 0.8908\n",
      "Epoch [11/100] Loss: 1.7261\n",
      "Epoch [11/100] Loss: 0.9663\n",
      "Epoch [11/100] Loss: 1.4411\n",
      "Epoch [11/100] Loss: 0.8964\n",
      "Epoch [11/100] Loss: 1.0958\n",
      "Epoch [11/100] Loss: 1.1141\n",
      "Epoch [11/100] Loss: 1.0390\n",
      "Epoch [11/100] Loss: 1.0771\n"
     ]
    },
    {
     "name": "stderr",
     "output_type": "stream",
     "text": [
      "1684it [08:03,  3.48it/s]\n"
     ]
    },
    {
     "name": "stdout",
     "output_type": "stream",
     "text": [
      "Overall Acc: \t 0.594011833488\n",
      "Mean Acc : \t 0.419955871215\n",
      "FreqW Acc : \t 0.428473858792\n",
      "Mean IoU : \t 0.300741887957\n",
      "Epoch [12/100] Loss: 1.6778\n",
      "Epoch [12/100] Loss: 1.2493\n",
      "Epoch [12/100] Loss: 0.9551\n",
      "Epoch [12/100] Loss: 1.0653\n",
      "Epoch [12/100] Loss: 1.3020\n",
      "Epoch [12/100] Loss: 0.8971\n",
      "Epoch [12/100] Loss: 1.0721\n",
      "Epoch [12/100] Loss: 1.0051\n",
      "Epoch [12/100] Loss: 0.8891\n",
      "Epoch [12/100] Loss: 0.8216\n",
      "Epoch [12/100] Loss: 1.3491\n",
      "Epoch [12/100] Loss: 1.1578\n",
      "Epoch [12/100] Loss: 0.9978\n",
      "Epoch [12/100] Loss: 1.0878\n",
      "Epoch [12/100] Loss: 0.8868\n",
      "Epoch [12/100] Loss: 1.3057\n",
      "Epoch [12/100] Loss: 0.7276\n"
     ]
    },
    {
     "name": "stderr",
     "output_type": "stream",
     "text": [
      "1684it [08:00,  3.50it/s]\n"
     ]
    },
    {
     "name": "stdout",
     "output_type": "stream",
     "text": [
      "Overall Acc: \t 0.599160496597\n",
      "Mean Acc : \t 0.423223984276\n",
      "FreqW Acc : \t 0.431214513301\n",
      "Mean IoU : \t 0.307138253054\n",
      "Epoch [13/100] Loss: 1.2086\n",
      "Epoch [13/100] Loss: 0.9998\n",
      "Epoch [13/100] Loss: 0.7038\n",
      "Epoch [13/100] Loss: 0.9194\n",
      "Epoch [13/100] Loss: 1.4419\n",
      "Epoch [13/100] Loss: 1.2385\n",
      "Epoch [13/100] Loss: 0.9751\n",
      "Epoch [13/100] Loss: 0.8883\n",
      "Epoch [13/100] Loss: 1.3109\n",
      "Epoch [13/100] Loss: 0.7181\n",
      "Epoch [13/100] Loss: 0.9023\n",
      "Epoch [13/100] Loss: 0.8864\n",
      "Epoch [13/100] Loss: 1.1817\n",
      "Epoch [13/100] Loss: 0.9920\n",
      "Epoch [13/100] Loss: 1.3292\n",
      "Epoch [13/100] Loss: 1.1518\n",
      "Epoch [13/100] Loss: 1.0168\n"
     ]
    },
    {
     "name": "stderr",
     "output_type": "stream",
     "text": [
      "1684it [08:00,  3.50it/s]"
     ]
    },
    {
     "name": "stdout",
     "output_type": "stream",
     "text": [
      "Overall Acc: \t 0.601626478058\n",
      "Mean Acc : \t 0.417394846955\n",
      "FreqW Acc : \t 0.431224566625\n",
      "Mean IoU : \t 0.306105180425\n"
     ]
    },
    {
     "name": "stderr",
     "output_type": "stream",
     "text": [
      "\n"
     ]
    },
    {
     "name": "stdout",
     "output_type": "stream",
     "text": [
      "Epoch [14/100] Loss: 1.0028\n",
      "Epoch [14/100] Loss: 0.9638\n",
      "Epoch [14/100] Loss: 1.7454\n",
      "Epoch [14/100] Loss: 0.8997\n",
      "Epoch [14/100] Loss: 1.3528\n",
      "Epoch [14/100] Loss: 0.8126\n",
      "Epoch [14/100] Loss: 1.0464\n",
      "Epoch [14/100] Loss: 1.0958\n",
      "Epoch [14/100] Loss: 1.1702\n",
      "Epoch [14/100] Loss: 1.3068\n",
      "Epoch [14/100] Loss: 1.0376\n",
      "Epoch [14/100] Loss: 0.9099\n",
      "Epoch [14/100] Loss: 1.0484\n",
      "Epoch [14/100] Loss: 1.0316\n",
      "Epoch [14/100] Loss: 1.1836\n",
      "Epoch [14/100] Loss: 1.0194\n",
      "Epoch [14/100] Loss: 1.3219\n"
     ]
    },
    {
     "name": "stderr",
     "output_type": "stream",
     "text": [
      "1684it [08:04,  3.48it/s]\n"
     ]
    },
    {
     "name": "stdout",
     "output_type": "stream",
     "text": [
      "Overall Acc: \t 0.602790911845\n",
      "Mean Acc : \t 0.420745557325\n",
      "FreqW Acc : \t 0.437713358408\n",
      "Mean IoU : \t 0.310665381773\n",
      "Epoch [15/100] Loss: 1.1213\n",
      "Epoch [15/100] Loss: 0.8765\n",
      "Epoch [15/100] Loss: 1.5333\n",
      "Epoch [15/100] Loss: 0.6843\n",
      "Epoch [15/100] Loss: 1.1596\n",
      "Epoch [15/100] Loss: 1.0847\n",
      "Epoch [15/100] Loss: 0.9908\n",
      "Epoch [15/100] Loss: 1.0613\n",
      "Epoch [15/100] Loss: 1.1481\n",
      "Epoch [15/100] Loss: 0.7384\n",
      "Epoch [15/100] Loss: 1.1741\n",
      "Epoch [15/100] Loss: 1.0082\n",
      "Epoch [15/100] Loss: 0.8167\n",
      "Epoch [15/100] Loss: 0.9618\n",
      "Epoch [15/100] Loss: 0.9009\n",
      "Epoch [15/100] Loss: 0.8672\n",
      "Epoch [15/100] Loss: 1.0191\n"
     ]
    },
    {
     "name": "stderr",
     "output_type": "stream",
     "text": [
      "1684it [07:58,  3.52it/s]\n"
     ]
    },
    {
     "name": "stdout",
     "output_type": "stream",
     "text": [
      "Overall Acc: \t 0.605059402073\n",
      "Mean Acc : \t 0.42854198724\n",
      "FreqW Acc : \t 0.438760296392\n",
      "Mean IoU : \t 0.31201749944\n",
      "Epoch [16/100] Loss: 1.1298\n",
      "Epoch [16/100] Loss: 0.8491\n",
      "Epoch [16/100] Loss: 0.8521\n",
      "Epoch [16/100] Loss: 0.9887\n",
      "Epoch [16/100] Loss: 1.1105\n",
      "Epoch [16/100] Loss: 1.0330\n",
      "Epoch [16/100] Loss: 1.0564\n",
      "Epoch [16/100] Loss: 0.7250\n",
      "Epoch [16/100] Loss: 0.7878\n",
      "Epoch [16/100] Loss: 1.0268\n",
      "Epoch [16/100] Loss: 1.0032\n",
      "Epoch [16/100] Loss: 0.9427\n",
      "Epoch [16/100] Loss: 1.0129\n",
      "Epoch [16/100] Loss: 1.0326\n",
      "Epoch [16/100] Loss: 1.0939\n",
      "Epoch [16/100] Loss: 1.0669\n",
      "Epoch [16/100] Loss: 1.0843\n"
     ]
    },
    {
     "name": "stderr",
     "output_type": "stream",
     "text": [
      "1684it [07:58,  3.52it/s]\n"
     ]
    },
    {
     "name": "stdout",
     "output_type": "stream",
     "text": [
      "Overall Acc: \t 0.604242468544\n",
      "Mean Acc : \t 0.430215559233\n",
      "FreqW Acc : \t 0.438183293335\n",
      "Mean IoU : \t 0.316941237811\n",
      "Epoch [17/100] Loss: 0.9046\n",
      "Epoch [17/100] Loss: 1.0171\n",
      "Epoch [17/100] Loss: 1.6894\n",
      "Epoch [17/100] Loss: 1.1022\n",
      "Epoch [17/100] Loss: 1.1408\n",
      "Epoch [17/100] Loss: 0.7975\n",
      "Epoch [17/100] Loss: 1.1004\n",
      "Epoch [17/100] Loss: 0.5653\n",
      "Epoch [17/100] Loss: 0.8084\n",
      "Epoch [17/100] Loss: 1.1044\n",
      "Epoch [17/100] Loss: 0.9883\n",
      "Epoch [17/100] Loss: 0.8731\n",
      "Epoch [17/100] Loss: 0.6758\n",
      "Epoch [17/100] Loss: 1.1708\n",
      "Epoch [17/100] Loss: 0.7052\n",
      "Epoch [17/100] Loss: 0.9504\n",
      "Epoch [17/100] Loss: 1.0503\n"
     ]
    },
    {
     "name": "stderr",
     "output_type": "stream",
     "text": [
      "1684it [07:58,  3.52it/s]"
     ]
    },
    {
     "name": "stdout",
     "output_type": "stream",
     "text": [
      "Overall Acc: \t 0.603544471947\n",
      "Mean Acc : \t 0.428453513701\n",
      "FreqW Acc : \t 0.438523693694\n",
      "Mean IoU : \t 0.314877370711\n"
     ]
    },
    {
     "name": "stderr",
     "output_type": "stream",
     "text": [
      "\n"
     ]
    },
    {
     "name": "stdout",
     "output_type": "stream",
     "text": [
      "Epoch [18/100] Loss: 0.9002\n",
      "Epoch [18/100] Loss: 0.8767\n",
      "Epoch [18/100] Loss: 1.1009\n",
      "Epoch [18/100] Loss: 1.0305\n",
      "Epoch [18/100] Loss: 0.7432\n",
      "Epoch [18/100] Loss: 0.7867\n",
      "Epoch [18/100] Loss: 1.3922\n",
      "Epoch [18/100] Loss: 1.0578\n",
      "Epoch [18/100] Loss: 1.3307\n",
      "Epoch [18/100] Loss: 0.7319\n",
      "Epoch [18/100] Loss: 0.6376\n",
      "Epoch [18/100] Loss: 1.1304\n",
      "Epoch [18/100] Loss: 0.8682\n",
      "Epoch [18/100] Loss: 1.1533\n",
      "Epoch [18/100] Loss: 0.8540\n",
      "Epoch [18/100] Loss: 1.2324\n",
      "Epoch [18/100] Loss: 0.9083\n"
     ]
    },
    {
     "name": "stderr",
     "output_type": "stream",
     "text": [
      "1684it [07:58,  3.52it/s]\n"
     ]
    },
    {
     "name": "stdout",
     "output_type": "stream",
     "text": [
      "Overall Acc: \t 0.607468503764\n",
      "Mean Acc : \t 0.454829783729\n",
      "FreqW Acc : \t 0.445734811479\n",
      "Mean IoU : \t 0.329558628311\n",
      "Epoch [19/100] Loss: 0.8064\n",
      "Epoch [19/100] Loss: 1.0520\n",
      "Epoch [19/100] Loss: 1.0994\n",
      "Epoch [19/100] Loss: 0.9934\n",
      "Epoch [19/100] Loss: 1.3503\n",
      "Epoch [19/100] Loss: 0.7742\n",
      "Epoch [19/100] Loss: 1.6927\n",
      "Epoch [19/100] Loss: 1.4473\n",
      "Epoch [19/100] Loss: 1.2507\n",
      "Epoch [19/100] Loss: 1.0320\n",
      "Epoch [19/100] Loss: 1.0215\n",
      "Epoch [19/100] Loss: 0.9289\n",
      "Epoch [19/100] Loss: 1.0678\n",
      "Epoch [19/100] Loss: 0.8964\n",
      "Epoch [19/100] Loss: 0.7906\n",
      "Epoch [19/100] Loss: 0.9386\n",
      "Epoch [19/100] Loss: 1.0246\n"
     ]
    },
    {
     "name": "stderr",
     "output_type": "stream",
     "text": [
      "1684it [07:58,  3.52it/s]"
     ]
    },
    {
     "name": "stdout",
     "output_type": "stream",
     "text": [
      "Overall Acc: \t 0.609831878481\n",
      "Mean Acc : \t 0.440773951099\n",
      "FreqW Acc : \t 0.439666054651\n",
      "Mean IoU : \t 0.32248827166\n"
     ]
    },
    {
     "name": "stderr",
     "output_type": "stream",
     "text": [
      "\n"
     ]
    },
    {
     "name": "stdout",
     "output_type": "stream",
     "text": [
      "Epoch [20/100] Loss: 1.1385\n",
      "Epoch [20/100] Loss: 1.2039\n",
      "Epoch [20/100] Loss: 0.9538\n",
      "Epoch [20/100] Loss: 1.0070\n",
      "Epoch [20/100] Loss: 0.8760\n",
      "Epoch [20/100] Loss: 0.8949\n",
      "Epoch [20/100] Loss: 1.1921\n",
      "Epoch [20/100] Loss: 0.7506\n",
      "Epoch [20/100] Loss: 1.0654\n",
      "Epoch [20/100] Loss: 0.6940\n",
      "Epoch [20/100] Loss: 0.8115\n",
      "Epoch [20/100] Loss: 0.8506\n",
      "Epoch [20/100] Loss: 0.7651\n",
      "Epoch [20/100] Loss: 0.8060\n",
      "Epoch [20/100] Loss: 0.7584\n",
      "Epoch [20/100] Loss: 1.2262\n",
      "Epoch [20/100] Loss: 0.8916\n"
     ]
    },
    {
     "name": "stderr",
     "output_type": "stream",
     "text": [
      "1684it [07:58,  3.52it/s]"
     ]
    },
    {
     "name": "stdout",
     "output_type": "stream",
     "text": [
      "Overall Acc: \t 0.609071753171\n",
      "Mean Acc : \t 0.461091654752\n",
      "FreqW Acc : \t 0.441343597715\n",
      "Mean IoU : \t 0.328432735052\n"
     ]
    },
    {
     "name": "stderr",
     "output_type": "stream",
     "text": [
      "\n"
     ]
    },
    {
     "name": "stdout",
     "output_type": "stream",
     "text": [
      "Epoch [21/100] Loss: 1.0491\n",
      "Epoch [21/100] Loss: 0.9414\n",
      "Epoch [21/100] Loss: 0.8959\n",
      "Epoch [21/100] Loss: 0.6539\n",
      "Epoch [21/100] Loss: 0.7308\n",
      "Epoch [21/100] Loss: 1.0651\n",
      "Epoch [21/100] Loss: 0.6584\n",
      "Epoch [21/100] Loss: 1.3131\n",
      "Epoch [21/100] Loss: 0.8025\n",
      "Epoch [21/100] Loss: 0.8811\n",
      "Epoch [21/100] Loss: 0.7493\n",
      "Epoch [21/100] Loss: 0.9029\n",
      "Epoch [21/100] Loss: 1.2988\n",
      "Epoch [21/100] Loss: 1.6446\n",
      "Epoch [21/100] Loss: 1.0855\n",
      "Epoch [21/100] Loss: 1.5500\n",
      "Epoch [21/100] Loss: 0.8032\n"
     ]
    },
    {
     "name": "stderr",
     "output_type": "stream",
     "text": [
      "1684it [07:58,  3.52it/s]"
     ]
    },
    {
     "name": "stdout",
     "output_type": "stream",
     "text": [
      "Overall Acc: \t 0.611236250129\n",
      "Mean Acc : \t 0.458097490645\n",
      "FreqW Acc : \t 0.445634488461\n",
      "Mean IoU : \t 0.329211746638\n"
     ]
    },
    {
     "name": "stderr",
     "output_type": "stream",
     "text": [
      "\n"
     ]
    },
    {
     "name": "stdout",
     "output_type": "stream",
     "text": [
      "Epoch [22/100] Loss: 0.9741\n",
      "Epoch [22/100] Loss: 1.0286\n",
      "Epoch [22/100] Loss: 0.9756\n",
      "Epoch [22/100] Loss: 0.7810\n",
      "Epoch [22/100] Loss: 0.9535\n",
      "Epoch [22/100] Loss: 0.6607\n",
      "Epoch [22/100] Loss: 0.9516\n",
      "Epoch [22/100] Loss: 0.8195\n",
      "Epoch [22/100] Loss: 0.8981\n",
      "Epoch [22/100] Loss: 0.9248\n",
      "Epoch [22/100] Loss: 0.6899\n",
      "Epoch [22/100] Loss: 0.8132\n",
      "Epoch [22/100] Loss: 1.6894\n",
      "Epoch [22/100] Loss: 0.9908\n",
      "Epoch [22/100] Loss: 0.8822\n",
      "Epoch [22/100] Loss: 0.8688\n",
      "Epoch [22/100] Loss: 0.5951\n"
     ]
    },
    {
     "name": "stderr",
     "output_type": "stream",
     "text": [
      "1684it [07:58,  3.52it/s]\n"
     ]
    },
    {
     "name": "stdout",
     "output_type": "stream",
     "text": [
      "Overall Acc: \t 0.609119437139\n",
      "Mean Acc : \t 0.479417675495\n",
      "FreqW Acc : \t 0.438482042575\n",
      "Mean IoU : \t 0.335154570915\n",
      "Epoch [23/100] Loss: 1.0465\n",
      "Epoch [23/100] Loss: 0.9244\n",
      "Epoch [23/100] Loss: 0.8684\n",
      "Epoch [23/100] Loss: 0.6663\n",
      "Epoch [23/100] Loss: 1.5434\n",
      "Epoch [23/100] Loss: 1.3759\n",
      "Epoch [23/100] Loss: 1.3972\n",
      "Epoch [23/100] Loss: 0.9405\n",
      "Epoch [23/100] Loss: 0.9447\n",
      "Epoch [23/100] Loss: 1.0514\n",
      "Epoch [23/100] Loss: 1.0303\n",
      "Epoch [23/100] Loss: 0.8648\n",
      "Epoch [23/100] Loss: 0.9080\n",
      "Epoch [23/100] Loss: 1.2435\n",
      "Epoch [23/100] Loss: 0.8962\n",
      "Epoch [23/100] Loss: 1.1785\n",
      "Epoch [23/100] Loss: 1.1487\n"
     ]
    },
    {
     "name": "stderr",
     "output_type": "stream",
     "text": [
      "1684it [07:58,  3.52it/s]\n"
     ]
    },
    {
     "name": "stdout",
     "output_type": "stream",
     "text": [
      "Overall Acc: \t 0.613040251779\n",
      "Mean Acc : \t 0.468889657004\n",
      "FreqW Acc : \t 0.447480161335\n",
      "Mean IoU : \t 0.336171067464\n",
      "Epoch [24/100] Loss: 0.8004\n",
      "Epoch [24/100] Loss: 0.8287\n",
      "Epoch [24/100] Loss: 1.0770\n",
      "Epoch [24/100] Loss: 0.7040\n",
      "Epoch [24/100] Loss: 0.6972\n",
      "Epoch [24/100] Loss: 0.9970\n",
      "Epoch [24/100] Loss: 1.2209\n",
      "Epoch [24/100] Loss: 0.8091\n",
      "Epoch [24/100] Loss: 1.1081\n",
      "Epoch [24/100] Loss: 1.2197\n",
      "Epoch [24/100] Loss: 1.0929\n",
      "Epoch [24/100] Loss: 1.2205\n",
      "Epoch [24/100] Loss: 0.8571\n",
      "Epoch [24/100] Loss: 0.9593\n",
      "Epoch [24/100] Loss: 0.6873\n",
      "Epoch [24/100] Loss: 0.9315\n",
      "Epoch [24/100] Loss: 0.6461\n"
     ]
    },
    {
     "name": "stderr",
     "output_type": "stream",
     "text": [
      "1684it [07:58,  3.52it/s]"
     ]
    },
    {
     "name": "stdout",
     "output_type": "stream",
     "text": [
      "Overall Acc: \t 0.610857259437\n",
      "Mean Acc : \t 0.459078948844\n",
      "FreqW Acc : \t 0.444687471377\n",
      "Mean IoU : \t 0.33098928984\n"
     ]
    },
    {
     "name": "stderr",
     "output_type": "stream",
     "text": [
      "\n"
     ]
    },
    {
     "name": "stdout",
     "output_type": "stream",
     "text": [
      "Epoch [25/100] Loss: 1.0168\n",
      "Epoch [25/100] Loss: 0.9602\n",
      "Epoch [25/100] Loss: 0.7705\n",
      "Epoch [25/100] Loss: 0.7771\n",
      "Epoch [25/100] Loss: 1.1495\n",
      "Epoch [25/100] Loss: 1.0077\n",
      "Epoch [25/100] Loss: 1.0248\n",
      "Epoch [25/100] Loss: 1.0689\n",
      "Epoch [25/100] Loss: 0.7479\n",
      "Epoch [25/100] Loss: 1.0428\n",
      "Epoch [25/100] Loss: 0.6309\n",
      "Epoch [25/100] Loss: 1.2251\n",
      "Epoch [25/100] Loss: 0.8281\n",
      "Epoch [25/100] Loss: 0.9812\n",
      "Epoch [25/100] Loss: 1.0939\n",
      "Epoch [25/100] Loss: 0.7548\n",
      "Epoch [25/100] Loss: 0.9775\n"
     ]
    },
    {
     "name": "stderr",
     "output_type": "stream",
     "text": [
      "1684it [08:00,  3.50it/s]"
     ]
    },
    {
     "name": "stdout",
     "output_type": "stream",
     "text": [
      "Overall Acc: \t 0.613308435179\n",
      "Mean Acc : \t 0.43636293408\n",
      "FreqW Acc : \t 0.441747103759\n",
      "Mean IoU : \t 0.324398862162\n"
     ]
    },
    {
     "name": "stderr",
     "output_type": "stream",
     "text": [
      "\n"
     ]
    },
    {
     "name": "stdout",
     "output_type": "stream",
     "text": [
      "Epoch [26/100] Loss: 1.2195\n",
      "Epoch [26/100] Loss: 0.8447\n",
      "Epoch [26/100] Loss: 1.2380\n",
      "Epoch [26/100] Loss: 0.8536\n",
      "Epoch [26/100] Loss: 0.8753\n",
      "Epoch [26/100] Loss: 1.0490\n",
      "Epoch [26/100] Loss: 1.1164\n",
      "Epoch [26/100] Loss: 0.7407\n",
      "Epoch [26/100] Loss: 1.4301\n",
      "Epoch [26/100] Loss: 0.5837\n",
      "Epoch [26/100] Loss: 1.0390\n",
      "Epoch [26/100] Loss: 0.9194\n",
      "Epoch [26/100] Loss: 0.9486\n",
      "Epoch [26/100] Loss: 0.4769\n",
      "Epoch [26/100] Loss: 1.1117\n",
      "Epoch [26/100] Loss: 1.1513\n",
      "Epoch [26/100] Loss: 1.4271\n"
     ]
    },
    {
     "name": "stderr",
     "output_type": "stream",
     "text": [
      "1684it [08:00,  3.51it/s]\n"
     ]
    },
    {
     "name": "stdout",
     "output_type": "stream",
     "text": [
      "Overall Acc: \t 0.61386009179\n",
      "Mean Acc : \t 0.46953735161\n",
      "FreqW Acc : \t 0.450956956509\n",
      "Mean IoU : \t 0.337653723331\n",
      "Epoch [27/100] Loss: 1.0629\n",
      "Epoch [27/100] Loss: 1.2793\n",
      "Epoch [27/100] Loss: 0.5665\n",
      "Epoch [27/100] Loss: 0.8650\n",
      "Epoch [27/100] Loss: 1.0343\n",
      "Epoch [27/100] Loss: 0.8143\n",
      "Epoch [27/100] Loss: 0.7970\n",
      "Epoch [27/100] Loss: 1.0773\n",
      "Epoch [27/100] Loss: 0.7424\n",
      "Epoch [27/100] Loss: 0.9551\n",
      "Epoch [27/100] Loss: 0.7515\n",
      "Epoch [27/100] Loss: 0.6107\n",
      "Epoch [27/100] Loss: 0.8939\n",
      "Epoch [27/100] Loss: 1.1722\n",
      "Epoch [27/100] Loss: 0.9563\n",
      "Epoch [27/100] Loss: 1.0299\n",
      "Epoch [27/100] Loss: 0.8583\n"
     ]
    },
    {
     "name": "stderr",
     "output_type": "stream",
     "text": [
      "1684it [08:01,  3.50it/s]\n"
     ]
    },
    {
     "name": "stdout",
     "output_type": "stream",
     "text": [
      "Overall Acc: \t 0.616621544322\n",
      "Mean Acc : \t 0.473218455697\n",
      "FreqW Acc : \t 0.449123311656\n",
      "Mean IoU : \t 0.338784668737\n",
      "Epoch [28/100] Loss: 0.6710\n",
      "Epoch [28/100] Loss: 0.8773\n",
      "Epoch [28/100] Loss: 1.2413\n",
      "Epoch [28/100] Loss: 0.9433\n",
      "Epoch [28/100] Loss: 0.7118\n",
      "Epoch [28/100] Loss: 1.0181\n",
      "Epoch [28/100] Loss: 0.7467\n",
      "Epoch [28/100] Loss: 0.9872\n",
      "Epoch [28/100] Loss: 0.6373\n",
      "Epoch [28/100] Loss: 0.9935\n",
      "Epoch [28/100] Loss: 1.4626\n",
      "Epoch [28/100] Loss: 0.9216\n",
      "Epoch [28/100] Loss: 0.6505\n",
      "Epoch [28/100] Loss: 1.0937\n",
      "Epoch [28/100] Loss: 0.8530\n",
      "Epoch [28/100] Loss: 1.1445\n",
      "Epoch [28/100] Loss: 0.6784\n"
     ]
    },
    {
     "name": "stderr",
     "output_type": "stream",
     "text": [
      "1684it [07:59,  3.51it/s]"
     ]
    },
    {
     "name": "stdout",
     "output_type": "stream",
     "text": [
      "Overall Acc: \t 0.613259783029\n",
      "Mean Acc : \t 0.462963232473\n",
      "FreqW Acc : \t 0.449372960271\n",
      "Mean IoU : \t 0.337455452855\n"
     ]
    },
    {
     "name": "stderr",
     "output_type": "stream",
     "text": [
      "\n"
     ]
    },
    {
     "name": "stdout",
     "output_type": "stream",
     "text": [
      "Epoch [29/100] Loss: 0.8926\n",
      "Epoch [29/100] Loss: 0.8116\n",
      "Epoch [29/100] Loss: 0.9355\n",
      "Epoch [29/100] Loss: 0.8464\n",
      "Epoch [29/100] Loss: 0.9528\n",
      "Epoch [29/100] Loss: 1.2532\n",
      "Epoch [29/100] Loss: 0.9395\n",
      "Epoch [29/100] Loss: 0.9815\n",
      "Epoch [29/100] Loss: 0.9804\n",
      "Epoch [29/100] Loss: 0.7176\n",
      "Epoch [29/100] Loss: 0.9680\n",
      "Epoch [29/100] Loss: 0.7134\n",
      "Epoch [29/100] Loss: 1.0166\n",
      "Epoch [29/100] Loss: 1.2493\n",
      "Epoch [29/100] Loss: 1.0634\n",
      "Epoch [29/100] Loss: 0.8789\n",
      "Epoch [29/100] Loss: 0.8183\n"
     ]
    },
    {
     "name": "stderr",
     "output_type": "stream",
     "text": [
      "1684it [08:00,  3.51it/s]"
     ]
    },
    {
     "name": "stdout",
     "output_type": "stream",
     "text": [
      "Overall Acc: \t 0.614059915816\n",
      "Mean Acc : \t 0.455603769987\n",
      "FreqW Acc : \t 0.44785034783\n",
      "Mean IoU : \t 0.33463611085\n"
     ]
    },
    {
     "name": "stderr",
     "output_type": "stream",
     "text": [
      "\n"
     ]
    },
    {
     "name": "stdout",
     "output_type": "stream",
     "text": [
      "Epoch [30/100] Loss: 0.9027\n",
      "Epoch [30/100] Loss: 0.9596\n",
      "Epoch [30/100] Loss: 0.9923\n",
      "Epoch [30/100] Loss: 0.9092\n",
      "Epoch [30/100] Loss: 0.9082\n",
      "Epoch [30/100] Loss: 1.1028\n",
      "Epoch [30/100] Loss: 0.6867\n",
      "Epoch [30/100] Loss: 0.9202\n",
      "Epoch [30/100] Loss: 0.5938\n",
      "Epoch [30/100] Loss: 0.8221\n",
      "Epoch [30/100] Loss: 1.2271\n",
      "Epoch [30/100] Loss: 1.0304\n",
      "Epoch [30/100] Loss: 0.5486\n",
      "Epoch [30/100] Loss: 0.5863\n",
      "Epoch [30/100] Loss: 0.8328\n",
      "Epoch [30/100] Loss: 0.8840\n",
      "Epoch [30/100] Loss: 0.7085\n"
     ]
    },
    {
     "name": "stderr",
     "output_type": "stream",
     "text": [
      "1684it [07:59,  3.51it/s]"
     ]
    },
    {
     "name": "stdout",
     "output_type": "stream",
     "text": [
      "Overall Acc: \t 0.61733207895\n",
      "Mean Acc : \t 0.456721899838\n",
      "FreqW Acc : \t 0.452176890407\n",
      "Mean IoU : \t 0.336865105965\n"
     ]
    },
    {
     "name": "stderr",
     "output_type": "stream",
     "text": [
      "\n"
     ]
    },
    {
     "name": "stdout",
     "output_type": "stream",
     "text": [
      "Epoch [31/100] Loss: 0.8196\n",
      "Epoch [31/100] Loss: 0.8252\n",
      "Epoch [31/100] Loss: 0.6902\n",
      "Epoch [31/100] Loss: 0.9019\n",
      "Epoch [31/100] Loss: 1.2361\n",
      "Epoch [31/100] Loss: 1.0423\n",
      "Epoch [31/100] Loss: 0.7955\n",
      "Epoch [31/100] Loss: 0.9064\n",
      "Epoch [31/100] Loss: 1.0074\n",
      "Epoch [31/100] Loss: 0.8368\n",
      "Epoch [31/100] Loss: 0.7611\n",
      "Epoch [31/100] Loss: 1.3956\n",
      "Epoch [31/100] Loss: 0.9560\n",
      "Epoch [31/100] Loss: 0.7243\n",
      "Epoch [31/100] Loss: 0.8645\n",
      "Epoch [31/100] Loss: 0.7545\n",
      "Epoch [31/100] Loss: 0.8414\n"
     ]
    },
    {
     "name": "stderr",
     "output_type": "stream",
     "text": [
      "1684it [07:59,  3.51it/s]\n"
     ]
    },
    {
     "name": "stdout",
     "output_type": "stream",
     "text": [
      "Overall Acc: \t 0.617253315156\n",
      "Mean Acc : \t 0.471054426165\n",
      "FreqW Acc : \t 0.455256466606\n",
      "Mean IoU : \t 0.341739022967\n",
      "Epoch [32/100] Loss: 0.6525\n",
      "Epoch [32/100] Loss: 0.8430\n",
      "Epoch [32/100] Loss: 0.9381\n",
      "Epoch [32/100] Loss: 0.8808\n",
      "Epoch [32/100] Loss: 1.1442\n",
      "Epoch [32/100] Loss: 0.7830\n",
      "Epoch [32/100] Loss: 0.9889\n",
      "Epoch [32/100] Loss: 1.0292\n",
      "Epoch [32/100] Loss: 0.9995\n",
      "Epoch [32/100] Loss: 1.4850\n",
      "Epoch [32/100] Loss: 0.8694\n",
      "Epoch [32/100] Loss: 0.9709\n",
      "Epoch [32/100] Loss: 1.0108\n",
      "Epoch [32/100] Loss: 0.8780\n",
      "Epoch [32/100] Loss: 0.7305\n",
      "Epoch [32/100] Loss: 0.8145\n",
      "Epoch [32/100] Loss: 0.9605\n"
     ]
    },
    {
     "name": "stderr",
     "output_type": "stream",
     "text": [
      "1684it [08:00,  3.50it/s]\n"
     ]
    },
    {
     "name": "stdout",
     "output_type": "stream",
     "text": [
      "Overall Acc: \t 0.618514491801\n",
      "Mean Acc : \t 0.470900032869\n",
      "FreqW Acc : \t 0.455970311655\n",
      "Mean IoU : \t 0.343846355118\n",
      "Epoch [33/100] Loss: 0.8231\n",
      "Epoch [33/100] Loss: 1.0964\n",
      "Epoch [33/100] Loss: 0.7201\n",
      "Epoch [33/100] Loss: 0.7033\n",
      "Epoch [33/100] Loss: 0.7330\n",
      "Epoch [33/100] Loss: 0.8074\n",
      "Epoch [33/100] Loss: 0.9237\n",
      "Epoch [33/100] Loss: 0.7731\n",
      "Epoch [33/100] Loss: 1.0600\n",
      "Epoch [33/100] Loss: 0.7387\n",
      "Epoch [33/100] Loss: 1.1486\n",
      "Epoch [33/100] Loss: 0.9744\n",
      "Epoch [33/100] Loss: 0.9106\n",
      "Epoch [33/100] Loss: 0.6487\n",
      "Epoch [33/100] Loss: 1.2846\n",
      "Epoch [33/100] Loss: 0.7245\n",
      "Epoch [33/100] Loss: 0.4725\n"
     ]
    },
    {
     "name": "stderr",
     "output_type": "stream",
     "text": [
      "1684it [08:00,  3.50it/s]"
     ]
    },
    {
     "name": "stdout",
     "output_type": "stream",
     "text": [
      "Overall Acc: \t 0.617005417827\n",
      "Mean Acc : \t 0.469900106254\n",
      "FreqW Acc : \t 0.449571499223\n",
      "Mean IoU : \t 0.3411404628\n"
     ]
    },
    {
     "name": "stderr",
     "output_type": "stream",
     "text": [
      "\n"
     ]
    },
    {
     "name": "stdout",
     "output_type": "stream",
     "text": [
      "Epoch [34/100] Loss: 0.8605\n",
      "Epoch [34/100] Loss: 0.9364\n",
      "Epoch [34/100] Loss: 0.7605\n",
      "Epoch [34/100] Loss: 0.8493\n",
      "Epoch [34/100] Loss: 1.1247\n",
      "Epoch [34/100] Loss: 0.6743\n",
      "Epoch [34/100] Loss: 0.6359\n",
      "Epoch [34/100] Loss: 0.8651\n",
      "Epoch [34/100] Loss: 0.7521\n",
      "Epoch [34/100] Loss: 1.0548\n",
      "Epoch [34/100] Loss: 0.9516\n",
      "Epoch [34/100] Loss: 0.8936\n",
      "Epoch [34/100] Loss: 0.9372\n",
      "Epoch [34/100] Loss: 0.9146\n",
      "Epoch [34/100] Loss: 0.8970\n",
      "Epoch [34/100] Loss: 0.5691\n",
      "Epoch [34/100] Loss: 0.7123\n"
     ]
    },
    {
     "name": "stderr",
     "output_type": "stream",
     "text": [
      "1684it [08:00,  3.51it/s]\n"
     ]
    },
    {
     "name": "stdout",
     "output_type": "stream",
     "text": [
      "Overall Acc: \t 0.615278432472\n",
      "Mean Acc : \t 0.474906220255\n",
      "FreqW Acc : \t 0.454465452862\n",
      "Mean IoU : \t 0.344373084576\n",
      "Epoch [35/100] Loss: 0.6603\n",
      "Epoch [35/100] Loss: 0.8886\n",
      "Epoch [35/100] Loss: 0.7561\n",
      "Epoch [35/100] Loss: 0.9971\n",
      "Epoch [35/100] Loss: 0.9272\n",
      "Epoch [35/100] Loss: 0.5156\n",
      "Epoch [35/100] Loss: 0.9067\n",
      "Epoch [35/100] Loss: 0.9048\n",
      "Epoch [35/100] Loss: 0.9888\n",
      "Epoch [35/100] Loss: 0.5765\n",
      "Epoch [35/100] Loss: 1.0070\n",
      "Epoch [35/100] Loss: 0.6903\n",
      "Epoch [35/100] Loss: 0.9519\n",
      "Epoch [35/100] Loss: 0.5593\n",
      "Epoch [35/100] Loss: 0.8869\n",
      "Epoch [35/100] Loss: 0.7383\n",
      "Epoch [35/100] Loss: 0.8330\n"
     ]
    },
    {
     "name": "stderr",
     "output_type": "stream",
     "text": [
      "1684it [07:59,  3.51it/s]\n"
     ]
    },
    {
     "name": "stdout",
     "output_type": "stream",
     "text": [
      "Overall Acc: \t 0.61721441316\n",
      "Mean Acc : \t 0.480395096064\n",
      "FreqW Acc : \t 0.454082227006\n",
      "Mean IoU : \t 0.346528274294\n",
      "Epoch [36/100] Loss: 0.8129\n",
      "Epoch [36/100] Loss: 1.2882\n",
      "Epoch [36/100] Loss: 0.7898\n",
      "Epoch [36/100] Loss: 0.9261\n",
      "Epoch [36/100] Loss: 0.6779\n",
      "Epoch [36/100] Loss: 0.6199\n",
      "Epoch [36/100] Loss: 0.8602\n",
      "Epoch [36/100] Loss: 0.7412\n",
      "Epoch [36/100] Loss: 0.8284\n",
      "Epoch [36/100] Loss: 1.2132\n",
      "Epoch [36/100] Loss: 0.8734\n",
      "Epoch [36/100] Loss: 0.7354\n",
      "Epoch [36/100] Loss: 0.7853\n",
      "Epoch [36/100] Loss: 0.7523\n",
      "Epoch [36/100] Loss: 0.5248\n",
      "Epoch [36/100] Loss: 0.6497\n",
      "Epoch [36/100] Loss: 1.0181\n"
     ]
    },
    {
     "name": "stderr",
     "output_type": "stream",
     "text": [
      "1684it [07:59,  3.51it/s]"
     ]
    },
    {
     "name": "stdout",
     "output_type": "stream",
     "text": [
      "Overall Acc: \t 0.61958577055\n",
      "Mean Acc : \t 0.474757877362\n",
      "FreqW Acc : \t 0.454155171753\n",
      "Mean IoU : \t 0.344535313472\n"
     ]
    },
    {
     "name": "stderr",
     "output_type": "stream",
     "text": [
      "\n"
     ]
    },
    {
     "name": "stdout",
     "output_type": "stream",
     "text": [
      "Epoch [37/100] Loss: 0.9706\n",
      "Epoch [37/100] Loss: 0.7903\n",
      "Epoch [37/100] Loss: 0.6885\n",
      "Epoch [37/100] Loss: 0.7688\n",
      "Epoch [37/100] Loss: 0.8384\n",
      "Epoch [37/100] Loss: 0.8607\n",
      "Epoch [37/100] Loss: 1.0955\n",
      "Epoch [37/100] Loss: 0.9127\n",
      "Epoch [37/100] Loss: 0.9309\n",
      "Epoch [37/100] Loss: 0.5632\n",
      "Epoch [37/100] Loss: 0.9442\n",
      "Epoch [37/100] Loss: 1.1591\n",
      "Epoch [37/100] Loss: 0.8455\n",
      "Epoch [37/100] Loss: 0.7543\n",
      "Epoch [37/100] Loss: 0.8817\n",
      "Epoch [37/100] Loss: 0.9501\n",
      "Epoch [37/100] Loss: 0.7661\n"
     ]
    },
    {
     "name": "stderr",
     "output_type": "stream",
     "text": [
      "1684it [08:00,  3.51it/s]"
     ]
    },
    {
     "name": "stdout",
     "output_type": "stream",
     "text": [
      "Overall Acc: \t 0.611169644054\n",
      "Mean Acc : \t 0.481766752237\n",
      "FreqW Acc : \t 0.450459093727\n",
      "Mean IoU : \t 0.342482040488\n"
     ]
    },
    {
     "name": "stderr",
     "output_type": "stream",
     "text": [
      "\n"
     ]
    },
    {
     "name": "stdout",
     "output_type": "stream",
     "text": [
      "Epoch [38/100] Loss: 0.8193\n",
      "Epoch [38/100] Loss: 0.9587\n",
      "Epoch [38/100] Loss: 0.6263\n",
      "Epoch [38/100] Loss: 0.9241\n",
      "Epoch [38/100] Loss: 0.9048\n",
      "Epoch [38/100] Loss: 0.8193\n",
      "Epoch [38/100] Loss: 1.6646\n",
      "Epoch [38/100] Loss: 1.0197\n",
      "Epoch [38/100] Loss: 0.7034\n",
      "Epoch [38/100] Loss: 0.5939\n",
      "Epoch [38/100] Loss: 0.9366\n",
      "Epoch [38/100] Loss: 0.7768\n",
      "Epoch [38/100] Loss: 0.8779\n",
      "Epoch [38/100] Loss: 0.7876\n",
      "Epoch [38/100] Loss: 0.8396\n",
      "Epoch [38/100] Loss: 0.6119\n",
      "Epoch [38/100] Loss: 1.0250\n"
     ]
    },
    {
     "name": "stderr",
     "output_type": "stream",
     "text": [
      "1684it [08:00,  3.51it/s]\n"
     ]
    },
    {
     "name": "stdout",
     "output_type": "stream",
     "text": [
      "Overall Acc: \t 0.61727786265\n",
      "Mean Acc : \t 0.486336322506\n",
      "FreqW Acc : \t 0.450099419678\n",
      "Mean IoU : \t 0.348505551222\n",
      "Epoch [39/100] Loss: 0.9893\n",
      "Epoch [39/100] Loss: 1.0135\n",
      "Epoch [39/100] Loss: 0.6657\n",
      "Epoch [39/100] Loss: 0.8420\n",
      "Epoch [39/100] Loss: 0.7901\n",
      "Epoch [39/100] Loss: 0.9348\n",
      "Epoch [39/100] Loss: 0.8146\n",
      "Epoch [39/100] Loss: 0.8228\n",
      "Epoch [39/100] Loss: 1.0673\n",
      "Epoch [39/100] Loss: 0.8567\n",
      "Epoch [39/100] Loss: 0.8670\n",
      "Epoch [39/100] Loss: 1.0303\n",
      "Epoch [39/100] Loss: 0.9026\n",
      "Epoch [39/100] Loss: 0.7272\n",
      "Epoch [39/100] Loss: 0.6614\n",
      "Epoch [39/100] Loss: 0.6752\n",
      "Epoch [39/100] Loss: 0.5760\n"
     ]
    },
    {
     "name": "stderr",
     "output_type": "stream",
     "text": [
      "1684it [08:00,  3.50it/s]\n"
     ]
    },
    {
     "name": "stdout",
     "output_type": "stream",
     "text": [
      "Overall Acc: \t 0.619663321215\n",
      "Mean Acc : \t 0.491995043073\n",
      "FreqW Acc : \t 0.454432300429\n",
      "Mean IoU : \t 0.349178603099\n",
      "Epoch [40/100] Loss: 0.7313\n",
      "Epoch [40/100] Loss: 1.2534\n",
      "Epoch [40/100] Loss: 0.7372\n",
      "Epoch [40/100] Loss: 0.5822\n",
      "Epoch [40/100] Loss: 0.7141\n",
      "Epoch [40/100] Loss: 1.0661\n",
      "Epoch [40/100] Loss: 1.1018\n",
      "Epoch [40/100] Loss: 0.7777\n",
      "Epoch [40/100] Loss: 0.8597\n",
      "Epoch [40/100] Loss: 1.0383\n",
      "Epoch [40/100] Loss: 1.3324\n",
      "Epoch [40/100] Loss: 0.8004\n",
      "Epoch [40/100] Loss: 0.7125\n",
      "Epoch [40/100] Loss: 0.6964\n",
      "Epoch [40/100] Loss: 0.8195\n",
      "Epoch [40/100] Loss: 0.9667\n",
      "Epoch [40/100] Loss: 0.8894\n"
     ]
    },
    {
     "name": "stderr",
     "output_type": "stream",
     "text": [
      "1684it [08:01,  3.50it/s]"
     ]
    },
    {
     "name": "stdout",
     "output_type": "stream",
     "text": [
      "Overall Acc: \t 0.621186341662\n",
      "Mean Acc : \t 0.47279672592\n",
      "FreqW Acc : \t 0.454255423363\n",
      "Mean IoU : \t 0.34626347693\n"
     ]
    },
    {
     "name": "stderr",
     "output_type": "stream",
     "text": [
      "\n"
     ]
    },
    {
     "name": "stdout",
     "output_type": "stream",
     "text": [
      "Epoch [41/100] Loss: 0.6316\n",
      "Epoch [41/100] Loss: 0.7508\n",
      "Epoch [41/100] Loss: 0.8783\n",
      "Epoch [41/100] Loss: 0.6928\n",
      "Epoch [41/100] Loss: 0.9295\n",
      "Epoch [41/100] Loss: 0.8055\n",
      "Epoch [41/100] Loss: 1.0065\n",
      "Epoch [41/100] Loss: 0.7945\n",
      "Epoch [41/100] Loss: 0.4616\n",
      "Epoch [41/100] Loss: 0.9402\n",
      "Epoch [41/100] Loss: 0.9037\n",
      "Epoch [41/100] Loss: 0.5888\n",
      "Epoch [41/100] Loss: 0.6541\n",
      "Epoch [41/100] Loss: 0.7821\n",
      "Epoch [41/100] Loss: 0.5742\n",
      "Epoch [41/100] Loss: 0.8008\n",
      "Epoch [41/100] Loss: 1.2732\n"
     ]
    },
    {
     "name": "stderr",
     "output_type": "stream",
     "text": [
      "1684it [07:58,  3.52it/s]"
     ]
    },
    {
     "name": "stdout",
     "output_type": "stream",
     "text": [
      "Overall Acc: \t 0.618035228445\n",
      "Mean Acc : \t 0.484082206023\n",
      "FreqW Acc : \t 0.45129514418\n",
      "Mean IoU : \t 0.3485075682\n"
     ]
    },
    {
     "name": "stderr",
     "output_type": "stream",
     "text": [
      "\n"
     ]
    },
    {
     "name": "stdout",
     "output_type": "stream",
     "text": [
      "Epoch [42/100] Loss: 1.1019\n",
      "Epoch [42/100] Loss: 0.8609\n",
      "Epoch [42/100] Loss: 1.0200\n",
      "Epoch [42/100] Loss: 1.1195\n",
      "Epoch [42/100] Loss: 1.1333\n",
      "Epoch [42/100] Loss: 0.8483\n",
      "Epoch [42/100] Loss: 0.7055\n",
      "Epoch [42/100] Loss: 1.0333\n",
      "Epoch [42/100] Loss: 0.5886\n",
      "Epoch [42/100] Loss: 0.9491\n",
      "Epoch [42/100] Loss: 0.9739\n",
      "Epoch [42/100] Loss: 0.7142\n",
      "Epoch [42/100] Loss: 0.5804\n",
      "Epoch [42/100] Loss: 0.8288\n",
      "Epoch [42/100] Loss: 0.8307\n",
      "Epoch [42/100] Loss: 0.6795\n",
      "Epoch [42/100] Loss: 0.4623\n"
     ]
    },
    {
     "name": "stderr",
     "output_type": "stream",
     "text": [
      "111it [00:32,  3.42it/s]"
     ]
    }
   ],
   "source": [
    "best_iou = -100.0 \n",
    "for epoch in range(args.n_epoch):\n",
    "    model.train()\n",
    "    for i, (color_imgs, depth_imgs, label_imgs) in enumerate(trainloader):\n",
    "        images = Variable(color_imgs.cuda())\n",
    "        depth_images = Variable(depth_imgs.cuda())\n",
    "        labels = Variable(label_imgs.cuda())\n",
    "\n",
    "        optimizer.zero_grad()\n",
    "        outputs = model(images,depth_images)\n",
    "\n",
    "        loss = loss_fn(input=outputs, target=labels)\n",
    "\n",
    "        loss.backward()\n",
    "        optimizer.step()\n",
    "\n",
    "        if args.visdom:\n",
    "            vis.line(\n",
    "                X=torch.ones((1, 1)).cpu() * i,\n",
    "                Y=torch.Tensor([loss.data[0]]).unsqueeze(0).cpu(),\n",
    "                win=loss_window,\n",
    "                update='append')\n",
    "\n",
    "        if (i+1) % 100 == 0:\n",
    "            print(\"Epoch [%d/%d] Loss: %.4f\" % (epoch+1, args.n_epoch, loss.data[0]))\n",
    "\n",
    "    model.eval()\n",
    "    for i_val, (color_images_val, depth_images_val, label_images_val) in tqdm(enumerate(valloader)):\n",
    "        color_images_val = Variable(color_images_val.cuda(), volatile=True)\n",
    "        depth_images_val = Variable(depth_images_val.cuda(), volatile=True)\n",
    "        label_images_val = Variable(label_images_val.cuda(), volatile=True)\n",
    "\n",
    "        outputs = model(color_images_val, depth_images_val)\n",
    "        pred = outputs.data.max(1)[1].cpu().numpy()\n",
    "        gt = label_images_val.data.cpu().numpy()\n",
    "        running_metrics.update(gt, pred)\n",
    "\n",
    "    score, class_iou = running_metrics.get_scores()\n",
    "    for k, v in score.items():\n",
    "        print(k, v)\n",
    "    running_metrics.reset()\n",
    "\n",
    "    if score['Mean IoU : \\t'] >= best_iou:\n",
    "        best_iou = score['Mean IoU : \\t']\n",
    "        state = {'epoch': epoch+1,\n",
    "                 'model_state': model.state_dict(),\n",
    "                 'optimizer_state' : optimizer.state_dict(),}\n",
    "        torch.save(state, \"{}_{}_best_model.pkl\".format(args.arch, 'SUNRGBD'))"
   ]
  },
  {
   "cell_type": "code",
   "execution_count": null,
   "metadata": {},
   "outputs": [],
   "source": []
  }
 ],
 "metadata": {
  "kernelspec": {
   "display_name": "Python [conda env:pytorch]",
   "language": "python",
   "name": "conda-env-pytorch-py"
  },
  "language_info": {
   "codemirror_mode": {
    "name": "ipython",
    "version": 3
   },
   "file_extension": ".py",
   "mimetype": "text/x-python",
   "name": "python",
   "nbconvert_exporter": "python",
   "pygments_lexer": "ipython3",
   "version": "3.6.3"
  }
 },
 "nbformat": 4,
 "nbformat_minor": 2
}
