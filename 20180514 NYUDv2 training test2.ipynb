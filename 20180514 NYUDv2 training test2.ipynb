{
 "cells": [
  {
   "cell_type": "code",
   "execution_count": 2,
   "metadata": {},
   "outputs": [],
   "source": [
    "%matplotlib inline\n",
    "import os\n",
    "import collections\n",
    "import torch\n",
    "import torchvision\n",
    "import numpy as np\n",
    "import scipy.misc as m\n",
    "import scipy.io as io\n",
    "import matplotlib.pyplot as plt\n",
    "\n",
    "from NYUDv2Loader import *\n",
    "\n",
    "os.environ['CUDA_VISIBLE_DEVICES'] = '2'\n",
    "data_path = '/home/dongwonshin/Desktop/Datasets/NYUDv2/'\n",
    "arg_string = '--arch fcn8s --batch_size 3'"
   ]
  },
  {
   "cell_type": "markdown",
   "metadata": {},
   "source": [
    "# Argument setting"
   ]
  },
  {
   "cell_type": "code",
   "execution_count": 3,
   "metadata": {},
   "outputs": [],
   "source": [
    "import sys, os\n",
    "import torch\n",
    "import visdom\n",
    "import argparse\n",
    "import numpy as np\n",
    "import torch.nn as nn\n",
    "import torch.nn.functional as F\n",
    "import torchvision.models as models\n",
    "\n",
    "from torch.autograd import Variable\n",
    "from torch.utils import data\n",
    "from tqdm import tqdm\n",
    "\n",
    "from ptsemseg.models import get_model\n",
    "from ptsemseg.loader import get_loader, get_data_path\n",
    "from ptsemseg.metrics import runningScore\n",
    "from ptsemseg.loss import *\n",
    "from ptsemseg.augmentations import *\n",
    "\n",
    "\n",
    "parser = argparse.ArgumentParser(description='Hyperparams')\n",
    "parser.add_argument('--arch', nargs='?', type=str, default='fcn8s', help='Architecture to use [\\'fcn8s, unet, segnet etc\\']')\n",
    "parser.add_argument('--img_rows', nargs='?', type=int, default=256, help='Height of the input image')\n",
    "parser.add_argument('--img_cols', nargs='?', type=int, default=256, help='Width of the input image')\n",
    "\n",
    "parser.add_argument('--img_norm', dest='img_norm', action='store_true', help='Enable input image scales normalization [0, 1] | True by default')\n",
    "parser.add_argument('--no-img_norm', dest='img_norm', action='store_false', help='Disable input image scales normalization [0, 1] | True by default')\n",
    "parser.set_defaults(img_norm=True)\n",
    "\n",
    "parser.add_argument('--n_epoch', nargs='?', type=int, default=100, help='# of the epochs')\n",
    "parser.add_argument('--batch_size', nargs='?', type=int, default=1, help='Batch Size')\n",
    "parser.add_argument('--l_rate', nargs='?', type=float, default=1e-5, help='Learning Rate')\n",
    "parser.add_argument('--feature_scale', nargs='?', type=int, default=1, help='Divider for # of features to use')\n",
    "parser.add_argument('--resume', nargs='?', type=str, default=None, help='Path to previous saved model to restart from')\n",
    "\n",
    "parser.add_argument('--visdom', dest='visdom', action='store_true', help='Enable visualization(s) on visdom | False by default')\n",
    "parser.add_argument('--no-visdom', dest='visdom', action='store_false', help='Disable visualization(s) on visdom | False by default')\n",
    "parser.set_defaults(visdom=False)"
   ]
  },
  {
   "cell_type": "markdown",
   "metadata": {},
   "source": [
    "# Dataset 준비 & model construction"
   ]
  },
  {
   "cell_type": "code",
   "execution_count": 4,
   "metadata": {},
   "outputs": [],
   "source": [
    "args = parser.parse_args(arg_string.split(' '))\n",
    "\n",
    "# Setup Augmentations\n",
    "data_aug= Compose([RandomRotate(10), RandomHorizontallyFlip()])\n",
    "\n",
    "# Setup Dataloader\n",
    "t_loader = NYUDv2Loader(data_path, is_transform=True)\n",
    "v_loader = NYUDv2Loader(data_path, is_transform=True, split='val')\n",
    "\n",
    "n_classes = t_loader.n_classes\n",
    "trainloader = data.DataLoader(t_loader, batch_size=args.batch_size, num_workers=16, shuffle=True)\n",
    "valloader = data.DataLoader(v_loader, batch_size=args.batch_size, num_workers=16)\n",
    "\n",
    "# Setup Metrics\n",
    "running_metrics = runningScore(n_classes)\n",
    "\n",
    "# Setup visdom for visualization\n",
    "if args.visdom:\n",
    "    vis = visdom.Visdom()\n",
    "\n",
    "    loss_window = vis.line(X=torch.zeros((1,)).cpu(),\n",
    "                       Y=torch.zeros((1)).cpu(),\n",
    "                       opts=dict(xlabel='minibatches',\n",
    "                                 ylabel='Loss',\n",
    "                                 title='Training Loss',\n",
    "                                 legend=['Loss']))\n",
    "\n",
    "# Setup Model\n",
    "model = get_model(args.arch, n_classes)\n",
    "\n",
    "model = torch.nn.DataParallel(model, device_ids=range(torch.cuda.device_count()))\n",
    "model.cuda()\n",
    "\n",
    "# Check if model has custom optimizer / loss\n",
    "if hasattr(model.module, 'optimizer'):\n",
    "    optimizer = model.module.optimizer\n",
    "else:\n",
    "    optimizer = torch.optim.SGD(model.parameters(), lr=args.l_rate, momentum=0.99, weight_decay=5e-4)\n",
    "\n",
    "if hasattr(model.module, 'loss'):\n",
    "    print('Using custom loss')\n",
    "    loss_fn = model.module.loss\n",
    "else:\n",
    "    loss_fn = cross_entropy2d\n",
    "\n",
    "if args.resume is not None:                                         \n",
    "    if os.path.isfile(args.resume):\n",
    "        print(\"Loading model and optimizer from checkpoint '{}'\".format(args.resume))\n",
    "        checkpoint = torch.load(args.resume)\n",
    "        model.load_state_dict(checkpoint['model_state'])\n",
    "        optimizer.load_state_dict(checkpoint['optimizer_state'])\n",
    "        print(\"Loaded checkpoint '{}' (epoch {})\"                    \n",
    "              .format(args.resume, checkpoint['epoch']))\n",
    "    else:\n",
    "        print(\"No checkpoint found at '{}'\".format(args.resume)) \n"
   ]
  },
  {
   "cell_type": "markdown",
   "metadata": {},
   "source": [
    "# Training"
   ]
  },
  {
   "cell_type": "code",
   "execution_count": 5,
   "metadata": {},
   "outputs": [
    {
     "name": "stderr",
     "output_type": "stream",
     "text": [
      "/home/dongwonshin/.conda/envs/pytorch/lib/python3.6/site-packages/torch/nn/functional.py:1462: UserWarning: nn.functional.upsample_bilinear is deprecated. Use nn.functional.upsample instead.\n",
      "  warnings.warn(\"nn.functional.upsample_bilinear is deprecated. Use nn.functional.upsample instead.\")\n"
     ]
    },
    {
     "name": "stdout",
     "output_type": "stream",
     "text": [
      "Epoch [1/100] Loss: 2.7936\n",
      "Epoch [1/100] Loss: 2.8156\n",
      "Epoch [1/100] Loss: 2.6551\n",
      "Epoch [1/100] Loss: 2.5211\n",
      "Epoch [1/100] Loss: 2.3790\n",
      "Epoch [1/100] Loss: 1.9459\n",
      "Epoch [1/100] Loss: 2.5392\n",
      "Epoch [1/100] Loss: 2.7297\n",
      "Epoch [1/100] Loss: 2.1139\n",
      "Epoch [1/100] Loss: 2.4218\n",
      "Epoch [1/100] Loss: 1.9944\n",
      "Epoch [1/100] Loss: 2.2425\n",
      "Epoch [1/100] Loss: 2.0490\n"
     ]
    },
    {
     "name": "stderr",
     "output_type": "stream",
     "text": [
      "218it [01:08,  3.20it/s]\n"
     ]
    },
    {
     "name": "stdout",
     "output_type": "stream",
     "text": [
      "Overall Acc: \t 0.335966757056\n",
      "Mean Acc : \t 0.145075549985\n",
      "FreqW Acc : \t 0.16980500741\n",
      "Mean IoU : \t 0.0748124505935\n",
      "Epoch [2/100] Loss: 2.1909\n",
      "Epoch [2/100] Loss: 1.8949\n",
      "Epoch [2/100] Loss: 2.0182\n",
      "Epoch [2/100] Loss: 1.9253\n",
      "Epoch [2/100] Loss: 2.1469\n",
      "Epoch [2/100] Loss: 1.8366\n",
      "Epoch [2/100] Loss: 1.7473\n",
      "Epoch [2/100] Loss: 1.7338\n",
      "Epoch [2/100] Loss: 2.0354\n",
      "Epoch [2/100] Loss: 1.7261\n",
      "Epoch [2/100] Loss: 1.7209\n",
      "Epoch [2/100] Loss: 2.1460\n",
      "Epoch [2/100] Loss: 2.1233\n"
     ]
    },
    {
     "name": "stderr",
     "output_type": "stream",
     "text": [
      "218it [00:58,  3.70it/s]\n"
     ]
    },
    {
     "name": "stdout",
     "output_type": "stream",
     "text": [
      "Overall Acc: \t 0.377648251346\n",
      "Mean Acc : \t 0.165138276126\n",
      "FreqW Acc : \t 0.202064927294\n",
      "Mean IoU : \t 0.0920716689721\n",
      "Epoch [3/100] Loss: 1.5188\n",
      "Epoch [3/100] Loss: 1.6398\n",
      "Epoch [3/100] Loss: 1.6331\n",
      "Epoch [3/100] Loss: 1.7729\n",
      "Epoch [3/100] Loss: 1.6659\n",
      "Epoch [3/100] Loss: 2.2159\n",
      "Epoch [3/100] Loss: 2.0288\n",
      "Epoch [3/100] Loss: 1.9655\n",
      "Epoch [3/100] Loss: 1.5271\n",
      "Epoch [3/100] Loss: 1.7261\n",
      "Epoch [3/100] Loss: 1.8644\n",
      "Epoch [3/100] Loss: 1.7241\n",
      "Epoch [3/100] Loss: 1.9712\n"
     ]
    },
    {
     "name": "stderr",
     "output_type": "stream",
     "text": [
      "218it [00:35,  6.08it/s]\n"
     ]
    },
    {
     "name": "stdout",
     "output_type": "stream",
     "text": [
      "Overall Acc: \t 0.412190093216\n",
      "Mean Acc : \t 0.196686529324\n",
      "FreqW Acc : \t 0.234527531691\n",
      "Mean IoU : \t 0.116739765246\n",
      "Epoch [4/100] Loss: 1.9231\n",
      "Epoch [4/100] Loss: 1.7034\n",
      "Epoch [4/100] Loss: 1.8871\n",
      "Epoch [4/100] Loss: 1.6409\n",
      "Epoch [4/100] Loss: 1.7995\n",
      "Epoch [4/100] Loss: 1.9674\n",
      "Epoch [4/100] Loss: 1.7184\n",
      "Epoch [4/100] Loss: 1.5496\n",
      "Epoch [4/100] Loss: 1.5897\n",
      "Epoch [4/100] Loss: 1.6947\n",
      "Epoch [4/100] Loss: 1.5618\n",
      "Epoch [4/100] Loss: 1.7447\n",
      "Epoch [4/100] Loss: 1.5227\n"
     ]
    },
    {
     "name": "stderr",
     "output_type": "stream",
     "text": [
      "218it [00:36,  6.02it/s]\n"
     ]
    },
    {
     "name": "stdout",
     "output_type": "stream",
     "text": [
      "Overall Acc: \t 0.435504318377\n",
      "Mean Acc : \t 0.228108634906\n",
      "FreqW Acc : \t 0.255856222404\n",
      "Mean IoU : \t 0.138167612315\n",
      "Epoch [5/100] Loss: 1.5292\n",
      "Epoch [5/100] Loss: 1.9726\n",
      "Epoch [5/100] Loss: 1.5962\n",
      "Epoch [5/100] Loss: 1.7228\n",
      "Epoch [5/100] Loss: 1.8728\n",
      "Epoch [5/100] Loss: 1.5179\n",
      "Epoch [5/100] Loss: 1.4248\n",
      "Epoch [5/100] Loss: 1.8680\n",
      "Epoch [5/100] Loss: 1.6120\n",
      "Epoch [5/100] Loss: 1.7872\n",
      "Epoch [5/100] Loss: 1.4337\n",
      "Epoch [5/100] Loss: 1.6437\n",
      "Epoch [5/100] Loss: 1.4500\n"
     ]
    },
    {
     "name": "stderr",
     "output_type": "stream",
     "text": [
      "218it [00:36,  5.98it/s]\n"
     ]
    },
    {
     "name": "stdout",
     "output_type": "stream",
     "text": [
      "Overall Acc: \t 0.448320441912\n",
      "Mean Acc : \t 0.248960371891\n",
      "FreqW Acc : \t 0.275073499562\n",
      "Mean IoU : \t 0.154883451173\n",
      "Epoch [6/100] Loss: 1.7939\n",
      "Epoch [6/100] Loss: 1.5712\n",
      "Epoch [6/100] Loss: 1.8186\n",
      "Epoch [6/100] Loss: 1.5202\n",
      "Epoch [6/100] Loss: 1.2185\n",
      "Epoch [6/100] Loss: 1.4068\n",
      "Epoch [6/100] Loss: 1.2822\n",
      "Epoch [6/100] Loss: 1.5828\n",
      "Epoch [6/100] Loss: 1.8286\n",
      "Epoch [6/100] Loss: 1.4651\n",
      "Epoch [6/100] Loss: 1.4621\n",
      "Epoch [6/100] Loss: 1.5585\n",
      "Epoch [6/100] Loss: 1.3709\n"
     ]
    },
    {
     "name": "stderr",
     "output_type": "stream",
     "text": [
      "218it [00:36,  6.03it/s]\n"
     ]
    },
    {
     "name": "stdout",
     "output_type": "stream",
     "text": [
      "Overall Acc: \t 0.467271791977\n",
      "Mean Acc : \t 0.266934780529\n",
      "FreqW Acc : \t 0.290362781194\n",
      "Mean IoU : \t 0.172324668831\n",
      "Epoch [7/100] Loss: 1.5145\n",
      "Epoch [7/100] Loss: 1.3120\n",
      "Epoch [7/100] Loss: 1.4594\n",
      "Epoch [7/100] Loss: 1.8608\n",
      "Epoch [7/100] Loss: 1.2334\n",
      "Epoch [7/100] Loss: 1.6991\n",
      "Epoch [7/100] Loss: 0.9381\n",
      "Epoch [7/100] Loss: 1.5479\n",
      "Epoch [7/100] Loss: 1.6066\n",
      "Epoch [7/100] Loss: 1.6082\n",
      "Epoch [7/100] Loss: 1.6884\n",
      "Epoch [7/100] Loss: 1.7162\n",
      "Epoch [7/100] Loss: 1.3257\n"
     ]
    },
    {
     "name": "stderr",
     "output_type": "stream",
     "text": [
      "218it [00:36,  6.01it/s]\n"
     ]
    },
    {
     "name": "stdout",
     "output_type": "stream",
     "text": [
      "Overall Acc: \t 0.476986478442\n",
      "Mean Acc : \t 0.291983023387\n",
      "FreqW Acc : \t 0.30546013786\n",
      "Mean IoU : \t 0.190749501105\n",
      "Epoch [8/100] Loss: 1.4350\n",
      "Epoch [8/100] Loss: 1.4499\n",
      "Epoch [8/100] Loss: 1.6199\n",
      "Epoch [8/100] Loss: 1.6092\n",
      "Epoch [8/100] Loss: 1.6365\n",
      "Epoch [8/100] Loss: 1.4251\n",
      "Epoch [8/100] Loss: 1.9195\n",
      "Epoch [8/100] Loss: 1.3150\n",
      "Epoch [8/100] Loss: 1.6274\n",
      "Epoch [8/100] Loss: 1.4355\n",
      "Epoch [8/100] Loss: 1.6661\n",
      "Epoch [8/100] Loss: 1.4178\n",
      "Epoch [8/100] Loss: 1.4375\n"
     ]
    },
    {
     "name": "stderr",
     "output_type": "stream",
     "text": [
      "218it [00:36,  5.93it/s]\n"
     ]
    },
    {
     "name": "stdout",
     "output_type": "stream",
     "text": [
      "Overall Acc: \t 0.490414013722\n",
      "Mean Acc : \t 0.30632248393\n",
      "FreqW Acc : \t 0.313283911042\n",
      "Mean IoU : \t 0.201176484272\n",
      "Epoch [9/100] Loss: 1.3159\n",
      "Epoch [9/100] Loss: 1.4826\n",
      "Epoch [9/100] Loss: 1.3324\n",
      "Epoch [9/100] Loss: 1.5671\n",
      "Epoch [9/100] Loss: 1.1641\n",
      "Epoch [9/100] Loss: 1.5006\n",
      "Epoch [9/100] Loss: 1.4027\n",
      "Epoch [9/100] Loss: 1.4106\n",
      "Epoch [9/100] Loss: 1.6363\n",
      "Epoch [9/100] Loss: 1.5424\n",
      "Epoch [9/100] Loss: 1.3945\n",
      "Epoch [9/100] Loss: 1.4868\n",
      "Epoch [9/100] Loss: 1.3831\n"
     ]
    },
    {
     "name": "stderr",
     "output_type": "stream",
     "text": [
      "218it [00:36,  5.99it/s]\n"
     ]
    },
    {
     "name": "stdout",
     "output_type": "stream",
     "text": [
      "Overall Acc: \t 0.49418775086\n",
      "Mean Acc : \t 0.324231300857\n",
      "FreqW Acc : \t 0.320638422411\n",
      "Mean IoU : \t 0.214647524022\n",
      "Epoch [10/100] Loss: 1.2876\n",
      "Epoch [10/100] Loss: 1.2312\n",
      "Epoch [10/100] Loss: 1.5119\n",
      "Epoch [10/100] Loss: 1.3693\n",
      "Epoch [10/100] Loss: 1.4252\n",
      "Epoch [10/100] Loss: 1.2498\n",
      "Epoch [10/100] Loss: 1.2881\n",
      "Epoch [10/100] Loss: 1.4256\n",
      "Epoch [10/100] Loss: 1.5113\n",
      "Epoch [10/100] Loss: 0.9851\n",
      "Epoch [10/100] Loss: 1.5606\n",
      "Epoch [10/100] Loss: 1.6243\n",
      "Epoch [10/100] Loss: 1.1698\n"
     ]
    },
    {
     "name": "stderr",
     "output_type": "stream",
     "text": [
      "218it [00:36,  6.00it/s]\n"
     ]
    },
    {
     "name": "stdout",
     "output_type": "stream",
     "text": [
      "Overall Acc: \t 0.503981926128\n",
      "Mean Acc : \t 0.334366004556\n",
      "FreqW Acc : \t 0.327732213269\n",
      "Mean IoU : \t 0.222977816117\n",
      "Epoch [11/100] Loss: 1.5978\n",
      "Epoch [11/100] Loss: 1.4562\n",
      "Epoch [11/100] Loss: 1.3241\n",
      "Epoch [11/100] Loss: 1.0735\n",
      "Epoch [11/100] Loss: 1.0644\n",
      "Epoch [11/100] Loss: 1.2842\n",
      "Epoch [11/100] Loss: 1.3165\n",
      "Epoch [11/100] Loss: 1.3254\n",
      "Epoch [11/100] Loss: 1.4442\n",
      "Epoch [11/100] Loss: 1.6053\n",
      "Epoch [11/100] Loss: 1.4212\n",
      "Epoch [11/100] Loss: 1.2943\n",
      "Epoch [11/100] Loss: 1.7538\n"
     ]
    },
    {
     "name": "stderr",
     "output_type": "stream",
     "text": [
      "218it [00:36,  5.95it/s]\n"
     ]
    },
    {
     "name": "stdout",
     "output_type": "stream",
     "text": [
      "Overall Acc: \t 0.514557007956\n",
      "Mean Acc : \t 0.350050720257\n",
      "FreqW Acc : \t 0.340658055298\n",
      "Mean IoU : \t 0.23641678057\n",
      "Epoch [12/100] Loss: 1.6283\n",
      "Epoch [12/100] Loss: 1.3175\n",
      "Epoch [12/100] Loss: 1.1828\n",
      "Epoch [12/100] Loss: 1.4618\n",
      "Epoch [12/100] Loss: 1.3367\n",
      "Epoch [12/100] Loss: 1.1655\n",
      "Epoch [12/100] Loss: 1.4586\n",
      "Epoch [12/100] Loss: 1.3246\n",
      "Epoch [12/100] Loss: 1.5174\n",
      "Epoch [12/100] Loss: 1.4362\n",
      "Epoch [12/100] Loss: 1.2491\n",
      "Epoch [12/100] Loss: 1.5105\n",
      "Epoch [12/100] Loss: 1.2799\n"
     ]
    },
    {
     "name": "stderr",
     "output_type": "stream",
     "text": [
      "218it [00:36,  6.00it/s]\n"
     ]
    },
    {
     "name": "stdout",
     "output_type": "stream",
     "text": [
      "Overall Acc: \t 0.517896030438\n",
      "Mean Acc : \t 0.354990270175\n",
      "FreqW Acc : \t 0.33999906218\n",
      "Mean IoU : \t 0.240303879269\n",
      "Epoch [13/100] Loss: 1.1566\n",
      "Epoch [13/100] Loss: 1.1321\n",
      "Epoch [13/100] Loss: 1.2926\n",
      "Epoch [13/100] Loss: 1.5060\n",
      "Epoch [13/100] Loss: 1.4648\n",
      "Epoch [13/100] Loss: 1.4998\n",
      "Epoch [13/100] Loss: 1.4778\n",
      "Epoch [13/100] Loss: 1.0659\n",
      "Epoch [13/100] Loss: 1.1113\n",
      "Epoch [13/100] Loss: 1.0486\n",
      "Epoch [13/100] Loss: 1.3100\n",
      "Epoch [13/100] Loss: 1.2934\n",
      "Epoch [13/100] Loss: 1.5519\n"
     ]
    },
    {
     "name": "stderr",
     "output_type": "stream",
     "text": [
      "218it [00:36,  5.96it/s]\n"
     ]
    },
    {
     "name": "stdout",
     "output_type": "stream",
     "text": [
      "Overall Acc: \t 0.525582508083\n",
      "Mean Acc : \t 0.368088270278\n",
      "FreqW Acc : \t 0.350599128584\n",
      "Mean IoU : \t 0.253226736371\n",
      "Epoch [14/100] Loss: 1.2374\n",
      "Epoch [14/100] Loss: 1.3273\n",
      "Epoch [14/100] Loss: 1.3644\n",
      "Epoch [14/100] Loss: 1.4194\n",
      "Epoch [14/100] Loss: 1.5892\n",
      "Epoch [14/100] Loss: 1.3999\n",
      "Epoch [14/100] Loss: 1.0551\n",
      "Epoch [14/100] Loss: 1.3475\n",
      "Epoch [14/100] Loss: 1.6121\n",
      "Epoch [14/100] Loss: 1.3803\n",
      "Epoch [14/100] Loss: 1.3750\n",
      "Epoch [14/100] Loss: 1.4132\n",
      "Epoch [14/100] Loss: 0.9225\n"
     ]
    },
    {
     "name": "stderr",
     "output_type": "stream",
     "text": [
      "218it [00:36,  5.91it/s]\n"
     ]
    },
    {
     "name": "stdout",
     "output_type": "stream",
     "text": [
      "Overall Acc: \t 0.52847570639\n",
      "Mean Acc : \t 0.388013957929\n",
      "FreqW Acc : \t 0.354784748262\n",
      "Mean IoU : \t 0.259970854883\n",
      "Epoch [15/100] Loss: 1.2464\n",
      "Epoch [15/100] Loss: 1.5773\n",
      "Epoch [15/100] Loss: 1.2648\n",
      "Epoch [15/100] Loss: 1.2150\n",
      "Epoch [15/100] Loss: 1.3754\n",
      "Epoch [15/100] Loss: 1.2043\n",
      "Epoch [15/100] Loss: 1.1287\n",
      "Epoch [15/100] Loss: 1.2374\n",
      "Epoch [15/100] Loss: 1.0784\n",
      "Epoch [15/100] Loss: 1.2079\n",
      "Epoch [15/100] Loss: 1.1640\n",
      "Epoch [15/100] Loss: 1.6073\n",
      "Epoch [15/100] Loss: 1.1547\n"
     ]
    },
    {
     "name": "stderr",
     "output_type": "stream",
     "text": [
      "218it [00:36,  5.97it/s]\n"
     ]
    },
    {
     "name": "stdout",
     "output_type": "stream",
     "text": [
      "Overall Acc: \t 0.532698503002\n",
      "Mean Acc : \t 0.394312355501\n",
      "FreqW Acc : \t 0.360901561303\n",
      "Mean IoU : \t 0.269144000303\n",
      "Epoch [16/100] Loss: 1.3048\n",
      "Epoch [16/100] Loss: 1.0641\n",
      "Epoch [16/100] Loss: 1.3179\n",
      "Epoch [16/100] Loss: 1.2027\n",
      "Epoch [16/100] Loss: 1.3847\n",
      "Epoch [16/100] Loss: 1.5960\n",
      "Epoch [16/100] Loss: 1.3695\n",
      "Epoch [16/100] Loss: 1.0210\n",
      "Epoch [16/100] Loss: 1.2170\n",
      "Epoch [16/100] Loss: 1.1855\n",
      "Epoch [16/100] Loss: 1.5509\n",
      "Epoch [16/100] Loss: 0.9912\n",
      "Epoch [16/100] Loss: 1.2433\n"
     ]
    },
    {
     "name": "stderr",
     "output_type": "stream",
     "text": [
      "218it [00:36,  5.96it/s]"
     ]
    },
    {
     "name": "stdout",
     "output_type": "stream",
     "text": [
      "Overall Acc: \t 0.534150594698\n",
      "Mean Acc : \t 0.394217022809\n",
      "FreqW Acc : \t 0.36236500323\n",
      "Mean IoU : \t 0.269091471208\n"
     ]
    },
    {
     "name": "stderr",
     "output_type": "stream",
     "text": [
      "\n"
     ]
    },
    {
     "name": "stdout",
     "output_type": "stream",
     "text": [
      "Epoch [17/100] Loss: 1.2889\n",
      "Epoch [17/100] Loss: 1.0109\n",
      "Epoch [17/100] Loss: 1.2355\n",
      "Epoch [17/100] Loss: 1.1176\n",
      "Epoch [17/100] Loss: 1.3333\n",
      "Epoch [17/100] Loss: 1.1615\n",
      "Epoch [17/100] Loss: 1.2015\n",
      "Epoch [17/100] Loss: 1.5457\n",
      "Epoch [17/100] Loss: 1.3300\n",
      "Epoch [17/100] Loss: 1.6048\n",
      "Epoch [17/100] Loss: 1.3311\n",
      "Epoch [17/100] Loss: 1.2321\n",
      "Epoch [17/100] Loss: 1.2682\n"
     ]
    },
    {
     "name": "stderr",
     "output_type": "stream",
     "text": [
      "218it [00:36,  5.96it/s]\n"
     ]
    },
    {
     "name": "stdout",
     "output_type": "stream",
     "text": [
      "Overall Acc: \t 0.536158570456\n",
      "Mean Acc : \t 0.397536682921\n",
      "FreqW Acc : \t 0.358729901689\n",
      "Mean IoU : \t 0.269664769416\n",
      "Epoch [18/100] Loss: 1.0361\n",
      "Epoch [18/100] Loss: 1.2532\n",
      "Epoch [18/100] Loss: 1.2900\n",
      "Epoch [18/100] Loss: 1.3066\n",
      "Epoch [18/100] Loss: 1.1502\n",
      "Epoch [18/100] Loss: 1.5253\n",
      "Epoch [18/100] Loss: 1.3978\n",
      "Epoch [18/100] Loss: 1.0297\n",
      "Epoch [18/100] Loss: 1.1466\n",
      "Epoch [18/100] Loss: 1.2457\n",
      "Epoch [18/100] Loss: 1.2628\n",
      "Epoch [18/100] Loss: 1.1811\n",
      "Epoch [18/100] Loss: 1.3573\n"
     ]
    },
    {
     "name": "stderr",
     "output_type": "stream",
     "text": [
      "218it [00:36,  6.00it/s]\n"
     ]
    },
    {
     "name": "stdout",
     "output_type": "stream",
     "text": [
      "Overall Acc: \t 0.541831766453\n",
      "Mean Acc : \t 0.398962869831\n",
      "FreqW Acc : \t 0.367630540967\n",
      "Mean IoU : \t 0.275453339198\n",
      "Epoch [19/100] Loss: 1.5764\n",
      "Epoch [19/100] Loss: 1.3699\n",
      "Epoch [19/100] Loss: 1.0474\n",
      "Epoch [19/100] Loss: 1.2861\n",
      "Epoch [19/100] Loss: 1.2796\n",
      "Epoch [19/100] Loss: 1.4129\n",
      "Epoch [19/100] Loss: 1.2430\n",
      "Epoch [19/100] Loss: 0.9846\n",
      "Epoch [19/100] Loss: 1.2303\n",
      "Epoch [19/100] Loss: 1.2737\n",
      "Epoch [19/100] Loss: 1.3583\n",
      "Epoch [19/100] Loss: 0.9433\n",
      "Epoch [19/100] Loss: 1.4493\n"
     ]
    },
    {
     "name": "stderr",
     "output_type": "stream",
     "text": [
      "218it [00:36,  6.01it/s]\n"
     ]
    },
    {
     "name": "stdout",
     "output_type": "stream",
     "text": [
      "Overall Acc: \t 0.544152481126\n",
      "Mean Acc : \t 0.409343665949\n",
      "FreqW Acc : \t 0.371553423803\n",
      "Mean IoU : \t 0.280582162007\n",
      "Epoch [20/100] Loss: 1.3816\n",
      "Epoch [20/100] Loss: 1.3242\n",
      "Epoch [20/100] Loss: 0.9469\n",
      "Epoch [20/100] Loss: 1.2712\n",
      "Epoch [20/100] Loss: 1.1861\n",
      "Epoch [20/100] Loss: 1.2350\n",
      "Epoch [20/100] Loss: 1.3762\n",
      "Epoch [20/100] Loss: 1.3325\n",
      "Epoch [20/100] Loss: 1.1678\n",
      "Epoch [20/100] Loss: 1.9620\n",
      "Epoch [20/100] Loss: 1.4527\n",
      "Epoch [20/100] Loss: 1.2369\n",
      "Epoch [20/100] Loss: 1.1394\n"
     ]
    },
    {
     "name": "stderr",
     "output_type": "stream",
     "text": [
      "218it [00:36,  5.93it/s]\n"
     ]
    },
    {
     "name": "stdout",
     "output_type": "stream",
     "text": [
      "Overall Acc: \t 0.546946296031\n",
      "Mean Acc : \t 0.415036771129\n",
      "FreqW Acc : \t 0.37108447927\n",
      "Mean IoU : \t 0.283012918416\n",
      "Epoch [21/100] Loss: 1.2978\n",
      "Epoch [21/100] Loss: 1.1159\n",
      "Epoch [21/100] Loss: 1.3806\n",
      "Epoch [21/100] Loss: 1.5578\n",
      "Epoch [21/100] Loss: 0.9606\n",
      "Epoch [21/100] Loss: 1.1012\n",
      "Epoch [21/100] Loss: 1.3323\n",
      "Epoch [21/100] Loss: 1.1018\n",
      "Epoch [21/100] Loss: 1.3325\n",
      "Epoch [21/100] Loss: 1.1214\n",
      "Epoch [21/100] Loss: 1.3539\n",
      "Epoch [21/100] Loss: 1.0146\n",
      "Epoch [21/100] Loss: 1.0595\n"
     ]
    },
    {
     "name": "stderr",
     "output_type": "stream",
     "text": [
      "218it [00:36,  6.00it/s]\n"
     ]
    },
    {
     "name": "stdout",
     "output_type": "stream",
     "text": [
      "Overall Acc: \t 0.549585015689\n",
      "Mean Acc : \t 0.409497257169\n",
      "FreqW Acc : \t 0.373073894215\n",
      "Mean IoU : \t 0.284846822763\n",
      "Epoch [22/100] Loss: 1.0755\n",
      "Epoch [22/100] Loss: 1.3593\n",
      "Epoch [22/100] Loss: 1.4354\n",
      "Epoch [22/100] Loss: 1.2151\n",
      "Epoch [22/100] Loss: 1.2839\n",
      "Epoch [22/100] Loss: 1.8142\n",
      "Epoch [22/100] Loss: 1.1384\n",
      "Epoch [22/100] Loss: 1.1094\n",
      "Epoch [22/100] Loss: 1.3088\n",
      "Epoch [22/100] Loss: 1.2096\n",
      "Epoch [22/100] Loss: 1.0371\n",
      "Epoch [22/100] Loss: 1.0026\n",
      "Epoch [22/100] Loss: 1.2019\n"
     ]
    },
    {
     "name": "stderr",
     "output_type": "stream",
     "text": [
      "218it [00:36,  5.95it/s]\n"
     ]
    },
    {
     "name": "stdout",
     "output_type": "stream",
     "text": [
      "Overall Acc: \t 0.552872233571\n",
      "Mean Acc : \t 0.421357398042\n",
      "FreqW Acc : \t 0.377674500318\n",
      "Mean IoU : \t 0.288913207317\n",
      "Epoch [23/100] Loss: 1.0455\n",
      "Epoch [23/100] Loss: 1.2837\n",
      "Epoch [23/100] Loss: 1.1916\n",
      "Epoch [23/100] Loss: 1.0545\n",
      "Epoch [23/100] Loss: 0.9182\n",
      "Epoch [23/100] Loss: 1.0987\n",
      "Epoch [23/100] Loss: 1.0937\n",
      "Epoch [23/100] Loss: 1.0697\n",
      "Epoch [23/100] Loss: 0.9744\n",
      "Epoch [23/100] Loss: 0.9643\n",
      "Epoch [23/100] Loss: 1.2535\n",
      "Epoch [23/100] Loss: 0.9373\n",
      "Epoch [23/100] Loss: 0.9280\n"
     ]
    },
    {
     "name": "stderr",
     "output_type": "stream",
     "text": [
      "218it [00:35,  6.17it/s]\n"
     ]
    },
    {
     "name": "stdout",
     "output_type": "stream",
     "text": [
      "Overall Acc: \t 0.554447759381\n",
      "Mean Acc : \t 0.417075975641\n",
      "FreqW Acc : \t 0.380511542926\n",
      "Mean IoU : \t 0.291227917229\n",
      "Epoch [24/100] Loss: 1.2826\n",
      "Epoch [24/100] Loss: 1.0777\n",
      "Epoch [24/100] Loss: 1.0928\n",
      "Epoch [24/100] Loss: 1.2297\n",
      "Epoch [24/100] Loss: 1.3773\n",
      "Epoch [24/100] Loss: 1.2744\n",
      "Epoch [24/100] Loss: 1.2509\n",
      "Epoch [24/100] Loss: 1.2343\n",
      "Epoch [24/100] Loss: 1.2125\n",
      "Epoch [24/100] Loss: 1.1147\n",
      "Epoch [24/100] Loss: 1.0330\n",
      "Epoch [24/100] Loss: 1.1940\n",
      "Epoch [24/100] Loss: 1.3255\n"
     ]
    },
    {
     "name": "stderr",
     "output_type": "stream",
     "text": [
      "218it [00:41,  5.29it/s]\n"
     ]
    },
    {
     "name": "stdout",
     "output_type": "stream",
     "text": [
      "Overall Acc: \t 0.555517523374\n",
      "Mean Acc : \t 0.426926712816\n",
      "FreqW Acc : \t 0.383101837026\n",
      "Mean IoU : \t 0.296512621587\n",
      "Epoch [25/100] Loss: 0.8813\n",
      "Epoch [25/100] Loss: 1.0187\n",
      "Epoch [25/100] Loss: 1.2342\n",
      "Epoch [25/100] Loss: 1.0928\n",
      "Epoch [25/100] Loss: 1.5428\n",
      "Epoch [25/100] Loss: 0.8761\n",
      "Epoch [25/100] Loss: 1.1091\n",
      "Epoch [25/100] Loss: 1.1747\n",
      "Epoch [25/100] Loss: 1.2493\n",
      "Epoch [25/100] Loss: 1.0905\n",
      "Epoch [25/100] Loss: 1.0715\n",
      "Epoch [25/100] Loss: 1.3928\n",
      "Epoch [25/100] Loss: 1.0307\n"
     ]
    },
    {
     "name": "stderr",
     "output_type": "stream",
     "text": [
      "218it [00:41,  5.26it/s]\n"
     ]
    },
    {
     "name": "stdout",
     "output_type": "stream",
     "text": [
      "Overall Acc: \t 0.559207426454\n",
      "Mean Acc : \t 0.432340206763\n",
      "FreqW Acc : \t 0.389456063059\n",
      "Mean IoU : \t 0.301106735125\n",
      "Epoch [26/100] Loss: 0.9438\n",
      "Epoch [26/100] Loss: 1.5243\n",
      "Epoch [26/100] Loss: 1.1105\n",
      "Epoch [26/100] Loss: 1.1050\n",
      "Epoch [26/100] Loss: 1.0569\n",
      "Epoch [26/100] Loss: 0.9843\n",
      "Epoch [26/100] Loss: 1.1149\n",
      "Epoch [26/100] Loss: 1.0250\n",
      "Epoch [26/100] Loss: 1.3654\n",
      "Epoch [26/100] Loss: 1.2539\n",
      "Epoch [26/100] Loss: 1.4046\n",
      "Epoch [26/100] Loss: 1.1366\n",
      "Epoch [26/100] Loss: 1.1244\n"
     ]
    },
    {
     "name": "stderr",
     "output_type": "stream",
     "text": [
      "218it [00:50,  4.31it/s]\n"
     ]
    },
    {
     "name": "stdout",
     "output_type": "stream",
     "text": [
      "Overall Acc: \t 0.558155805022\n",
      "Mean Acc : \t 0.43228462854\n",
      "FreqW Acc : \t 0.389832042933\n",
      "Mean IoU : \t 0.301955340039\n",
      "Epoch [27/100] Loss: 1.2494\n",
      "Epoch [27/100] Loss: 1.0113\n",
      "Epoch [27/100] Loss: 0.8357\n",
      "Epoch [27/100] Loss: 1.2978\n",
      "Epoch [27/100] Loss: 1.1262\n",
      "Epoch [27/100] Loss: 0.9878\n",
      "Epoch [27/100] Loss: 1.1097\n",
      "Epoch [27/100] Loss: 0.8817\n",
      "Epoch [27/100] Loss: 1.1394\n",
      "Epoch [27/100] Loss: 0.8301\n",
      "Epoch [27/100] Loss: 1.3975\n",
      "Epoch [27/100] Loss: 1.1422\n",
      "Epoch [27/100] Loss: 1.3874\n"
     ]
    },
    {
     "name": "stderr",
     "output_type": "stream",
     "text": [
      "218it [00:35,  6.09it/s]\n"
     ]
    },
    {
     "name": "stdout",
     "output_type": "stream",
     "text": [
      "Overall Acc: \t 0.561222649282\n",
      "Mean Acc : \t 0.433559567866\n",
      "FreqW Acc : \t 0.389199686944\n",
      "Mean IoU : \t 0.302323457249\n",
      "Epoch [28/100] Loss: 1.1119\n",
      "Epoch [28/100] Loss: 0.9812\n",
      "Epoch [28/100] Loss: 1.1853\n",
      "Epoch [28/100] Loss: 1.0134\n",
      "Epoch [28/100] Loss: 1.0278\n",
      "Epoch [28/100] Loss: 1.0267\n",
      "Epoch [28/100] Loss: 1.1886\n",
      "Epoch [28/100] Loss: 0.9706\n",
      "Epoch [28/100] Loss: 1.0738\n",
      "Epoch [28/100] Loss: 1.0799\n",
      "Epoch [28/100] Loss: 1.1327\n",
      "Epoch [28/100] Loss: 0.9944\n",
      "Epoch [28/100] Loss: 0.9843\n"
     ]
    },
    {
     "name": "stderr",
     "output_type": "stream",
     "text": [
      "218it [00:35,  6.18it/s]\n"
     ]
    },
    {
     "name": "stdout",
     "output_type": "stream",
     "text": [
      "Overall Acc: \t 0.561681504245\n",
      "Mean Acc : \t 0.447847439461\n",
      "FreqW Acc : \t 0.394956040193\n",
      "Mean IoU : \t 0.309826245363\n",
      "Epoch [29/100] Loss: 0.8163\n",
      "Epoch [29/100] Loss: 1.0223\n",
      "Epoch [29/100] Loss: 1.3563\n",
      "Epoch [29/100] Loss: 1.2399\n",
      "Epoch [29/100] Loss: 1.1477\n",
      "Epoch [29/100] Loss: 1.2403\n",
      "Epoch [29/100] Loss: 1.1939\n",
      "Epoch [29/100] Loss: 1.0654\n",
      "Epoch [29/100] Loss: 1.3374\n",
      "Epoch [29/100] Loss: 1.2570\n",
      "Epoch [29/100] Loss: 1.2888\n",
      "Epoch [29/100] Loss: 1.0078\n",
      "Epoch [29/100] Loss: 1.1109\n"
     ]
    },
    {
     "name": "stderr",
     "output_type": "stream",
     "text": [
      "218it [00:35,  6.11it/s]"
     ]
    },
    {
     "name": "stdout",
     "output_type": "stream",
     "text": [
      "Overall Acc: \t 0.562871745787\n",
      "Mean Acc : \t 0.437742309295\n",
      "FreqW Acc : \t 0.390158975477\n",
      "Mean IoU : \t 0.305583491857\n"
     ]
    },
    {
     "name": "stderr",
     "output_type": "stream",
     "text": [
      "\n"
     ]
    },
    {
     "name": "stdout",
     "output_type": "stream",
     "text": [
      "Epoch [30/100] Loss: 1.2372\n",
      "Epoch [30/100] Loss: 1.1724\n",
      "Epoch [30/100] Loss: 1.1829\n",
      "Epoch [30/100] Loss: 1.0295\n",
      "Epoch [30/100] Loss: 0.9812\n",
      "Epoch [30/100] Loss: 0.8632\n",
      "Epoch [30/100] Loss: 0.9321\n",
      "Epoch [30/100] Loss: 1.0620\n",
      "Epoch [30/100] Loss: 0.8840\n",
      "Epoch [30/100] Loss: 1.1421\n",
      "Epoch [30/100] Loss: 1.0906\n",
      "Epoch [30/100] Loss: 0.9710\n",
      "Epoch [30/100] Loss: 1.0609\n"
     ]
    },
    {
     "name": "stderr",
     "output_type": "stream",
     "text": [
      "218it [00:35,  6.13it/s]"
     ]
    },
    {
     "name": "stdout",
     "output_type": "stream",
     "text": [
      "Overall Acc: \t 0.56785568875\n",
      "Mean Acc : \t 0.442568082182\n",
      "FreqW Acc : \t 0.395814230458\n",
      "Mean IoU : \t 0.308614604217\n"
     ]
    },
    {
     "name": "stderr",
     "output_type": "stream",
     "text": [
      "\n"
     ]
    },
    {
     "name": "stdout",
     "output_type": "stream",
     "text": [
      "Epoch [31/100] Loss: 0.9497\n",
      "Epoch [31/100] Loss: 1.0593\n",
      "Epoch [31/100] Loss: 1.0273\n",
      "Epoch [31/100] Loss: 1.0257\n",
      "Epoch [31/100] Loss: 1.3487\n",
      "Epoch [31/100] Loss: 1.2572\n",
      "Epoch [31/100] Loss: 0.9244\n",
      "Epoch [31/100] Loss: 1.0802\n",
      "Epoch [31/100] Loss: 1.2509\n",
      "Epoch [31/100] Loss: 1.1742\n",
      "Epoch [31/100] Loss: 1.0530\n",
      "Epoch [31/100] Loss: 1.1659\n",
      "Epoch [31/100] Loss: 1.1851\n"
     ]
    },
    {
     "name": "stderr",
     "output_type": "stream",
     "text": [
      "218it [00:35,  6.12it/s]"
     ]
    },
    {
     "name": "stdout",
     "output_type": "stream",
     "text": [
      "Overall Acc: \t 0.568371370492\n",
      "Mean Acc : \t 0.442460146053\n",
      "FreqW Acc : \t 0.394721501403\n",
      "Mean IoU : \t 0.30855209238\n"
     ]
    },
    {
     "name": "stderr",
     "output_type": "stream",
     "text": [
      "\n"
     ]
    },
    {
     "name": "stdout",
     "output_type": "stream",
     "text": [
      "Epoch [32/100] Loss: 0.7842\n",
      "Epoch [32/100] Loss: 0.9170\n",
      "Epoch [32/100] Loss: 1.1329\n",
      "Epoch [32/100] Loss: 1.5354\n",
      "Epoch [32/100] Loss: 1.2767\n",
      "Epoch [32/100] Loss: 1.0221\n",
      "Epoch [32/100] Loss: 0.8720\n",
      "Epoch [32/100] Loss: 1.1858\n",
      "Epoch [32/100] Loss: 1.0389\n",
      "Epoch [32/100] Loss: 1.1925\n",
      "Epoch [32/100] Loss: 1.0160\n",
      "Epoch [32/100] Loss: 1.2869\n",
      "Epoch [32/100] Loss: 1.1972\n"
     ]
    },
    {
     "name": "stderr",
     "output_type": "stream",
     "text": [
      "218it [00:35,  6.10it/s]"
     ]
    },
    {
     "name": "stdout",
     "output_type": "stream",
     "text": [
      "Overall Acc: \t 0.568020952791\n",
      "Mean Acc : \t 0.450450525148\n",
      "FreqW Acc : \t 0.395630446003\n",
      "Mean IoU : \t 0.309604877746\n"
     ]
    },
    {
     "name": "stderr",
     "output_type": "stream",
     "text": [
      "\n"
     ]
    },
    {
     "name": "stdout",
     "output_type": "stream",
     "text": [
      "Epoch [33/100] Loss: 1.1468\n",
      "Epoch [33/100] Loss: 0.9121\n",
      "Epoch [33/100] Loss: 0.9663\n",
      "Epoch [33/100] Loss: 0.8521\n",
      "Epoch [33/100] Loss: 1.0222\n",
      "Epoch [33/100] Loss: 1.1975\n",
      "Epoch [33/100] Loss: 1.2009\n",
      "Epoch [33/100] Loss: 1.1251\n",
      "Epoch [33/100] Loss: 1.3408\n",
      "Epoch [33/100] Loss: 0.9807\n",
      "Epoch [33/100] Loss: 1.0028\n",
      "Epoch [33/100] Loss: 0.9809\n",
      "Epoch [33/100] Loss: 0.7917\n"
     ]
    },
    {
     "name": "stderr",
     "output_type": "stream",
     "text": [
      "218it [00:36,  6.03it/s]\n"
     ]
    },
    {
     "name": "stdout",
     "output_type": "stream",
     "text": [
      "Overall Acc: \t 0.57186811628\n",
      "Mean Acc : \t 0.448386270884\n",
      "FreqW Acc : \t 0.400572872075\n",
      "Mean IoU : \t 0.315265313396\n",
      "Epoch [34/100] Loss: 0.8454\n",
      "Epoch [34/100] Loss: 0.8702\n",
      "Epoch [34/100] Loss: 1.0241\n",
      "Epoch [34/100] Loss: 1.0228\n",
      "Epoch [34/100] Loss: 1.0661\n",
      "Epoch [34/100] Loss: 0.9473\n",
      "Epoch [34/100] Loss: 1.3135\n",
      "Epoch [34/100] Loss: 1.1604\n",
      "Epoch [34/100] Loss: 1.1221\n",
      "Epoch [34/100] Loss: 1.0292\n",
      "Epoch [34/100] Loss: 1.0378\n",
      "Epoch [34/100] Loss: 0.9795\n",
      "Epoch [34/100] Loss: 1.2536\n"
     ]
    },
    {
     "name": "stderr",
     "output_type": "stream",
     "text": [
      "218it [00:35,  6.20it/s]\n"
     ]
    },
    {
     "name": "stdout",
     "output_type": "stream",
     "text": [
      "Overall Acc: \t 0.571950457123\n",
      "Mean Acc : \t 0.454481551826\n",
      "FreqW Acc : \t 0.400070488281\n",
      "Mean IoU : \t 0.31783169706\n",
      "Epoch [35/100] Loss: 1.1876\n",
      "Epoch [35/100] Loss: 1.0892\n",
      "Epoch [35/100] Loss: 1.2781\n",
      "Epoch [35/100] Loss: 1.0801\n",
      "Epoch [35/100] Loss: 1.0311\n",
      "Epoch [35/100] Loss: 0.9584\n",
      "Epoch [35/100] Loss: 1.1545\n",
      "Epoch [35/100] Loss: 1.2113\n",
      "Epoch [35/100] Loss: 1.1843\n",
      "Epoch [35/100] Loss: 1.2280\n",
      "Epoch [35/100] Loss: 1.3443\n",
      "Epoch [35/100] Loss: 1.2390\n",
      "Epoch [35/100] Loss: 0.8733\n"
     ]
    },
    {
     "name": "stderr",
     "output_type": "stream",
     "text": [
      "218it [00:35,  6.16it/s]"
     ]
    },
    {
     "name": "stdout",
     "output_type": "stream",
     "text": [
      "Overall Acc: \t 0.573965222031\n",
      "Mean Acc : \t 0.445837905652\n",
      "FreqW Acc : \t 0.401507140503\n",
      "Mean IoU : \t 0.316269895982\n"
     ]
    },
    {
     "name": "stderr",
     "output_type": "stream",
     "text": [
      "\n"
     ]
    },
    {
     "name": "stdout",
     "output_type": "stream",
     "text": [
      "Epoch [36/100] Loss: 0.7081\n",
      "Epoch [36/100] Loss: 1.1026\n",
      "Epoch [36/100] Loss: 0.8708\n",
      "Epoch [36/100] Loss: 1.0086\n",
      "Epoch [36/100] Loss: 0.9501\n",
      "Epoch [36/100] Loss: 0.9943\n",
      "Epoch [36/100] Loss: 0.9543\n",
      "Epoch [36/100] Loss: 0.9729\n",
      "Epoch [36/100] Loss: 0.9300\n",
      "Epoch [36/100] Loss: 1.0169\n",
      "Epoch [36/100] Loss: 1.0201\n",
      "Epoch [36/100] Loss: 1.3342\n",
      "Epoch [36/100] Loss: 1.0502\n"
     ]
    },
    {
     "name": "stderr",
     "output_type": "stream",
     "text": [
      "218it [00:35,  6.19it/s]\n"
     ]
    },
    {
     "name": "stdout",
     "output_type": "stream",
     "text": [
      "Overall Acc: \t 0.573416246576\n",
      "Mean Acc : \t 0.453220918736\n",
      "FreqW Acc : \t 0.403866241587\n",
      "Mean IoU : \t 0.320600011395\n",
      "Epoch [37/100] Loss: 1.1022\n",
      "Epoch [37/100] Loss: 0.9057\n",
      "Epoch [37/100] Loss: 0.7569\n",
      "Epoch [37/100] Loss: 1.2968\n",
      "Epoch [37/100] Loss: 0.9397\n",
      "Epoch [37/100] Loss: 1.3122\n",
      "Epoch [37/100] Loss: 0.8935\n",
      "Epoch [37/100] Loss: 1.0595\n",
      "Epoch [37/100] Loss: 0.7441\n",
      "Epoch [37/100] Loss: 1.2087\n",
      "Epoch [37/100] Loss: 1.1305\n",
      "Epoch [37/100] Loss: 0.9823\n",
      "Epoch [37/100] Loss: 1.1985\n"
     ]
    },
    {
     "name": "stderr",
     "output_type": "stream",
     "text": [
      "218it [00:35,  6.15it/s]\n"
     ]
    },
    {
     "name": "stdout",
     "output_type": "stream",
     "text": [
      "Overall Acc: \t 0.576014574772\n",
      "Mean Acc : \t 0.460715564778\n",
      "FreqW Acc : \t 0.403057842416\n",
      "Mean IoU : \t 0.322699995871\n",
      "Epoch [38/100] Loss: 0.8999\n",
      "Epoch [38/100] Loss: 0.8970\n",
      "Epoch [38/100] Loss: 0.7591\n",
      "Epoch [38/100] Loss: 1.0319\n",
      "Epoch [38/100] Loss: 1.2909\n",
      "Epoch [38/100] Loss: 1.0721\n",
      "Epoch [38/100] Loss: 1.0437\n",
      "Epoch [38/100] Loss: 0.9732\n",
      "Epoch [38/100] Loss: 1.0871\n",
      "Epoch [38/100] Loss: 0.9634\n",
      "Epoch [38/100] Loss: 0.9362\n",
      "Epoch [38/100] Loss: 1.2568\n",
      "Epoch [38/100] Loss: 1.1225\n"
     ]
    },
    {
     "name": "stderr",
     "output_type": "stream",
     "text": [
      "218it [00:34,  6.25it/s]"
     ]
    },
    {
     "name": "stdout",
     "output_type": "stream",
     "text": [
      "Overall Acc: \t 0.575789925578\n",
      "Mean Acc : \t 0.456145870612\n",
      "FreqW Acc : \t 0.403419150687\n",
      "Mean IoU : \t 0.321674606942\n"
     ]
    },
    {
     "name": "stderr",
     "output_type": "stream",
     "text": [
      "\n"
     ]
    },
    {
     "name": "stdout",
     "output_type": "stream",
     "text": [
      "Epoch [39/100] Loss: 0.8392\n",
      "Epoch [39/100] Loss: 1.0120\n",
      "Epoch [39/100] Loss: 0.9002\n",
      "Epoch [39/100] Loss: 1.0487\n",
      "Epoch [39/100] Loss: 1.0136\n",
      "Epoch [39/100] Loss: 1.0932\n",
      "Epoch [39/100] Loss: 0.9976\n",
      "Epoch [39/100] Loss: 0.9688\n",
      "Epoch [39/100] Loss: 0.8669\n",
      "Epoch [39/100] Loss: 1.0272\n",
      "Epoch [39/100] Loss: 1.1502\n",
      "Epoch [39/100] Loss: 0.6689\n",
      "Epoch [39/100] Loss: 1.2754\n"
     ]
    },
    {
     "name": "stderr",
     "output_type": "stream",
     "text": [
      "218it [00:34,  6.24it/s]\n"
     ]
    },
    {
     "name": "stdout",
     "output_type": "stream",
     "text": [
      "Overall Acc: \t 0.57532547106\n",
      "Mean Acc : \t 0.457626054537\n",
      "FreqW Acc : \t 0.406439176219\n",
      "Mean IoU : \t 0.323112590206\n",
      "Epoch [40/100] Loss: 1.2916\n",
      "Epoch [40/100] Loss: 0.8625\n",
      "Epoch [40/100] Loss: 1.0702\n",
      "Epoch [40/100] Loss: 1.0123\n",
      "Epoch [40/100] Loss: 0.9013\n",
      "Epoch [40/100] Loss: 1.0551\n",
      "Epoch [40/100] Loss: 1.0891\n",
      "Epoch [40/100] Loss: 0.9712\n",
      "Epoch [40/100] Loss: 1.0789\n",
      "Epoch [40/100] Loss: 0.8346\n",
      "Epoch [40/100] Loss: 1.3079\n",
      "Epoch [40/100] Loss: 0.9031\n",
      "Epoch [40/100] Loss: 1.0596\n"
     ]
    },
    {
     "name": "stderr",
     "output_type": "stream",
     "text": [
      "218it [00:34,  6.25it/s]\n"
     ]
    },
    {
     "name": "stdout",
     "output_type": "stream",
     "text": [
      "Overall Acc: \t 0.577453700385\n",
      "Mean Acc : \t 0.462323328725\n",
      "FreqW Acc : \t 0.410194958221\n",
      "Mean IoU : \t 0.329789853479\n",
      "Epoch [41/100] Loss: 0.9925\n",
      "Epoch [41/100] Loss: 1.1325\n",
      "Epoch [41/100] Loss: 0.9762\n",
      "Epoch [41/100] Loss: 1.0848\n",
      "Epoch [41/100] Loss: 0.8295\n",
      "Epoch [41/100] Loss: 1.0130\n",
      "Epoch [41/100] Loss: 1.0022\n",
      "Epoch [41/100] Loss: 1.0407\n",
      "Epoch [41/100] Loss: 1.1166\n",
      "Epoch [41/100] Loss: 0.9699\n",
      "Epoch [41/100] Loss: 0.8308\n",
      "Epoch [41/100] Loss: 1.1273\n",
      "Epoch [41/100] Loss: 0.9178\n"
     ]
    },
    {
     "name": "stderr",
     "output_type": "stream",
     "text": [
      "218it [00:34,  6.35it/s]\n"
     ]
    },
    {
     "name": "stdout",
     "output_type": "stream",
     "text": [
      "Overall Acc: \t 0.578882552681\n",
      "Mean Acc : \t 0.4628451189\n",
      "FreqW Acc : \t 0.411530242581\n",
      "Mean IoU : \t 0.330693867617\n",
      "Epoch [42/100] Loss: 0.7524\n",
      "Epoch [42/100] Loss: 0.8748\n",
      "Epoch [42/100] Loss: 1.0622\n",
      "Epoch [42/100] Loss: 0.9729\n",
      "Epoch [42/100] Loss: 1.0214\n",
      "Epoch [42/100] Loss: 0.9395\n",
      "Epoch [42/100] Loss: 0.7851\n",
      "Epoch [42/100] Loss: 1.1941\n",
      "Epoch [42/100] Loss: 1.0663\n",
      "Epoch [42/100] Loss: 0.8318\n",
      "Epoch [42/100] Loss: 1.0360\n",
      "Epoch [42/100] Loss: 0.6058\n",
      "Epoch [42/100] Loss: 1.1175\n"
     ]
    },
    {
     "name": "stderr",
     "output_type": "stream",
     "text": [
      "218it [00:34,  6.27it/s]"
     ]
    },
    {
     "name": "stdout",
     "output_type": "stream",
     "text": [
      "Overall Acc: \t 0.57942933311\n",
      "Mean Acc : \t 0.464379662042\n",
      "FreqW Acc : \t 0.411825734481\n",
      "Mean IoU : \t 0.330074518241\n"
     ]
    },
    {
     "name": "stderr",
     "output_type": "stream",
     "text": [
      "\n"
     ]
    },
    {
     "name": "stdout",
     "output_type": "stream",
     "text": [
      "Epoch [43/100] Loss: 0.7885\n",
      "Epoch [43/100] Loss: 1.1493\n",
      "Epoch [43/100] Loss: 1.0156\n",
      "Epoch [43/100] Loss: 0.9268\n",
      "Epoch [43/100] Loss: 0.9314\n",
      "Epoch [43/100] Loss: 1.1173\n",
      "Epoch [43/100] Loss: 0.9229\n",
      "Epoch [43/100] Loss: 0.9899\n",
      "Epoch [43/100] Loss: 1.0200\n",
      "Epoch [43/100] Loss: 0.8955\n",
      "Epoch [43/100] Loss: 1.1339\n",
      "Epoch [43/100] Loss: 0.9534\n",
      "Epoch [43/100] Loss: 0.8425\n"
     ]
    },
    {
     "name": "stderr",
     "output_type": "stream",
     "text": [
      "218it [00:35,  6.19it/s]\n"
     ]
    },
    {
     "name": "stdout",
     "output_type": "stream",
     "text": [
      "Overall Acc: \t 0.578890755407\n",
      "Mean Acc : \t 0.468518296203\n",
      "FreqW Acc : \t 0.412221103745\n",
      "Mean IoU : \t 0.332490094831\n",
      "Epoch [44/100] Loss: 1.0443\n",
      "Epoch [44/100] Loss: 0.9107\n",
      "Epoch [44/100] Loss: 0.9148\n",
      "Epoch [44/100] Loss: 0.8095\n",
      "Epoch [44/100] Loss: 0.9247\n",
      "Epoch [44/100] Loss: 1.1650\n",
      "Epoch [44/100] Loss: 0.7708\n",
      "Epoch [44/100] Loss: 1.0945\n",
      "Epoch [44/100] Loss: 1.0893\n",
      "Epoch [44/100] Loss: 1.0324\n",
      "Epoch [44/100] Loss: 1.0304\n",
      "Epoch [44/100] Loss: 1.2895\n",
      "Epoch [44/100] Loss: 0.8439\n"
     ]
    },
    {
     "name": "stderr",
     "output_type": "stream",
     "text": [
      "218it [00:34,  6.24it/s]\n"
     ]
    },
    {
     "name": "stdout",
     "output_type": "stream",
     "text": [
      "Overall Acc: \t 0.580080603737\n",
      "Mean Acc : \t 0.470836827622\n",
      "FreqW Acc : \t 0.412111212229\n",
      "Mean IoU : \t 0.333807765736\n",
      "Epoch [45/100] Loss: 1.5989\n",
      "Epoch [45/100] Loss: 1.0249\n",
      "Epoch [45/100] Loss: 0.8038\n",
      "Epoch [45/100] Loss: 1.3416\n",
      "Epoch [45/100] Loss: 0.9733\n",
      "Epoch [45/100] Loss: 0.6612\n",
      "Epoch [45/100] Loss: 0.9549\n",
      "Epoch [45/100] Loss: 1.1709\n",
      "Epoch [45/100] Loss: 0.9235\n",
      "Epoch [45/100] Loss: 1.0435\n",
      "Epoch [45/100] Loss: 1.0464\n",
      "Epoch [45/100] Loss: 1.1386\n",
      "Epoch [45/100] Loss: 0.8537\n"
     ]
    },
    {
     "name": "stderr",
     "output_type": "stream",
     "text": [
      "218it [00:35,  6.14it/s]\n"
     ]
    },
    {
     "name": "stdout",
     "output_type": "stream",
     "text": [
      "Overall Acc: \t 0.581121190311\n",
      "Mean Acc : \t 0.47900489196\n",
      "FreqW Acc : \t 0.411541963056\n",
      "Mean IoU : \t 0.334463554036\n",
      "Epoch [46/100] Loss: 0.7453\n",
      "Epoch [46/100] Loss: 1.1250\n",
      "Epoch [46/100] Loss: 0.9148\n",
      "Epoch [46/100] Loss: 0.8213\n",
      "Epoch [46/100] Loss: 1.1182\n",
      "Epoch [46/100] Loss: 1.1225\n",
      "Epoch [46/100] Loss: 0.7173\n",
      "Epoch [46/100] Loss: 1.0800\n",
      "Epoch [46/100] Loss: 1.1035\n",
      "Epoch [46/100] Loss: 1.0134\n",
      "Epoch [46/100] Loss: 0.9769\n",
      "Epoch [46/100] Loss: 0.8807\n",
      "Epoch [46/100] Loss: 0.8302\n"
     ]
    },
    {
     "name": "stderr",
     "output_type": "stream",
     "text": [
      "218it [00:34,  6.27it/s]"
     ]
    },
    {
     "name": "stdout",
     "output_type": "stream",
     "text": [
      "Overall Acc: \t 0.583719558327\n",
      "Mean Acc : \t 0.466574574594\n",
      "FreqW Acc : \t 0.411788516512\n",
      "Mean IoU : \t 0.333171831064\n"
     ]
    },
    {
     "name": "stderr",
     "output_type": "stream",
     "text": [
      "\n"
     ]
    },
    {
     "name": "stdout",
     "output_type": "stream",
     "text": [
      "Epoch [47/100] Loss: 0.7952\n",
      "Epoch [47/100] Loss: 0.8818\n",
      "Epoch [47/100] Loss: 1.0365\n",
      "Epoch [47/100] Loss: 0.7968\n",
      "Epoch [47/100] Loss: 1.1426\n",
      "Epoch [47/100] Loss: 0.8722\n",
      "Epoch [47/100] Loss: 0.8448\n",
      "Epoch [47/100] Loss: 0.9179\n",
      "Epoch [47/100] Loss: 0.9646\n",
      "Epoch [47/100] Loss: 1.0740\n",
      "Epoch [47/100] Loss: 0.8739\n",
      "Epoch [47/100] Loss: 1.1716\n",
      "Epoch [47/100] Loss: 0.8929\n"
     ]
    },
    {
     "name": "stderr",
     "output_type": "stream",
     "text": [
      "218it [00:35,  6.19it/s]\n"
     ]
    },
    {
     "name": "stdout",
     "output_type": "stream",
     "text": [
      "Overall Acc: \t 0.582806960173\n",
      "Mean Acc : \t 0.484803604187\n",
      "FreqW Acc : \t 0.417590910196\n",
      "Mean IoU : \t 0.341253915962\n",
      "Epoch [48/100] Loss: 0.9714\n",
      "Epoch [48/100] Loss: 1.3270\n",
      "Epoch [48/100] Loss: 1.0709\n",
      "Epoch [48/100] Loss: 1.0401\n",
      "Epoch [48/100] Loss: 0.7828\n",
      "Epoch [48/100] Loss: 0.9545\n",
      "Epoch [48/100] Loss: 1.0193\n",
      "Epoch [48/100] Loss: 0.9230\n",
      "Epoch [48/100] Loss: 0.9274\n",
      "Epoch [48/100] Loss: 1.0812\n",
      "Epoch [48/100] Loss: 1.0552\n",
      "Epoch [48/100] Loss: 1.0142\n",
      "Epoch [48/100] Loss: 0.9507\n"
     ]
    },
    {
     "name": "stderr",
     "output_type": "stream",
     "text": [
      "218it [00:34,  6.30it/s]"
     ]
    },
    {
     "name": "stdout",
     "output_type": "stream",
     "text": [
      "Overall Acc: \t 0.58332837586\n",
      "Mean Acc : \t 0.473038437515\n",
      "FreqW Acc : \t 0.413345231232\n",
      "Mean IoU : \t 0.336990658869\n"
     ]
    },
    {
     "name": "stderr",
     "output_type": "stream",
     "text": [
      "\n"
     ]
    },
    {
     "name": "stdout",
     "output_type": "stream",
     "text": [
      "Epoch [49/100] Loss: 1.1291\n",
      "Epoch [49/100] Loss: 0.8955\n",
      "Epoch [49/100] Loss: 0.9914\n",
      "Epoch [49/100] Loss: 1.2254\n",
      "Epoch [49/100] Loss: 1.0250\n",
      "Epoch [49/100] Loss: 1.2471\n",
      "Epoch [49/100] Loss: 0.8840\n",
      "Epoch [49/100] Loss: 0.9408\n",
      "Epoch [49/100] Loss: 0.9445\n",
      "Epoch [49/100] Loss: 0.9086\n",
      "Epoch [49/100] Loss: 0.7883\n",
      "Epoch [49/100] Loss: 0.9391\n",
      "Epoch [49/100] Loss: 1.1432\n"
     ]
    },
    {
     "name": "stderr",
     "output_type": "stream",
     "text": [
      "218it [00:35,  6.23it/s]"
     ]
    },
    {
     "name": "stdout",
     "output_type": "stream",
     "text": [
      "Overall Acc: \t 0.585070559378\n",
      "Mean Acc : \t 0.477686814471\n",
      "FreqW Acc : \t 0.417263137506\n",
      "Mean IoU : \t 0.339193121918\n"
     ]
    },
    {
     "name": "stderr",
     "output_type": "stream",
     "text": [
      "\n"
     ]
    },
    {
     "name": "stdout",
     "output_type": "stream",
     "text": [
      "Epoch [50/100] Loss: 1.0562\n",
      "Epoch [50/100] Loss: 0.8845\n",
      "Epoch [50/100] Loss: 0.9781\n",
      "Epoch [50/100] Loss: 0.8118\n",
      "Epoch [50/100] Loss: 0.9896\n",
      "Epoch [50/100] Loss: 1.0300\n",
      "Epoch [50/100] Loss: 0.7269\n",
      "Epoch [50/100] Loss: 1.0315\n",
      "Epoch [50/100] Loss: 0.8959\n",
      "Epoch [50/100] Loss: 0.7790\n",
      "Epoch [50/100] Loss: 1.1558\n",
      "Epoch [50/100] Loss: 0.8359\n",
      "Epoch [50/100] Loss: 0.9712\n"
     ]
    },
    {
     "name": "stderr",
     "output_type": "stream",
     "text": [
      "218it [00:34,  6.25it/s]\n"
     ]
    },
    {
     "name": "stdout",
     "output_type": "stream",
     "text": [
      "Overall Acc: \t 0.585106655358\n",
      "Mean Acc : \t 0.482650981468\n",
      "FreqW Acc : \t 0.417390128202\n",
      "Mean IoU : \t 0.342063010228\n",
      "Epoch [51/100] Loss: 0.9392\n",
      "Epoch [51/100] Loss: 1.0002\n",
      "Epoch [51/100] Loss: 0.8578\n",
      "Epoch [51/100] Loss: 0.9179\n",
      "Epoch [51/100] Loss: 0.8500\n",
      "Epoch [51/100] Loss: 1.0047\n",
      "Epoch [51/100] Loss: 1.0550\n",
      "Epoch [51/100] Loss: 0.9554\n",
      "Epoch [51/100] Loss: 0.8973\n",
      "Epoch [51/100] Loss: 0.9117\n",
      "Epoch [51/100] Loss: 1.2346\n",
      "Epoch [51/100] Loss: 1.1096\n",
      "Epoch [51/100] Loss: 0.8183\n"
     ]
    },
    {
     "name": "stderr",
     "output_type": "stream",
     "text": [
      "218it [00:34,  6.26it/s]"
     ]
    },
    {
     "name": "stdout",
     "output_type": "stream",
     "text": [
      "Overall Acc: \t 0.585909741136\n",
      "Mean Acc : \t 0.479725390317\n",
      "FreqW Acc : \t 0.41799588933\n",
      "Mean IoU : \t 0.340613165115\n"
     ]
    },
    {
     "name": "stderr",
     "output_type": "stream",
     "text": [
      "\n"
     ]
    },
    {
     "name": "stdout",
     "output_type": "stream",
     "text": [
      "Epoch [52/100] Loss: 1.1032\n",
      "Epoch [52/100] Loss: 0.8600\n",
      "Epoch [52/100] Loss: 0.9636\n",
      "Epoch [52/100] Loss: 0.9262\n",
      "Epoch [52/100] Loss: 1.0414\n",
      "Epoch [52/100] Loss: 0.8754\n",
      "Epoch [52/100] Loss: 1.2140\n",
      "Epoch [52/100] Loss: 1.1338\n",
      "Epoch [52/100] Loss: 0.9587\n",
      "Epoch [52/100] Loss: 1.1627\n",
      "Epoch [52/100] Loss: 0.9237\n",
      "Epoch [52/100] Loss: 0.8280\n",
      "Epoch [52/100] Loss: 0.7660\n"
     ]
    },
    {
     "name": "stderr",
     "output_type": "stream",
     "text": [
      "218it [00:34,  6.25it/s]"
     ]
    },
    {
     "name": "stdout",
     "output_type": "stream",
     "text": [
      "Overall Acc: \t 0.587264181559\n",
      "Mean Acc : \t 0.481696540609\n",
      "FreqW Acc : \t 0.416357620933\n",
      "Mean IoU : \t 0.341194540247\n"
     ]
    },
    {
     "name": "stderr",
     "output_type": "stream",
     "text": [
      "\n"
     ]
    },
    {
     "name": "stdout",
     "output_type": "stream",
     "text": [
      "Epoch [53/100] Loss: 0.8435\n",
      "Epoch [53/100] Loss: 0.8202\n",
      "Epoch [53/100] Loss: 0.8761\n",
      "Epoch [53/100] Loss: 0.8793\n",
      "Epoch [53/100] Loss: 1.0096\n",
      "Epoch [53/100] Loss: 0.9932\n",
      "Epoch [53/100] Loss: 0.8349\n",
      "Epoch [53/100] Loss: 1.0393\n",
      "Epoch [53/100] Loss: 1.1578\n",
      "Epoch [53/100] Loss: 1.0305\n",
      "Epoch [53/100] Loss: 0.9980\n",
      "Epoch [53/100] Loss: 0.7683\n",
      "Epoch [53/100] Loss: 0.7712\n"
     ]
    },
    {
     "name": "stderr",
     "output_type": "stream",
     "text": [
      "218it [00:34,  6.27it/s]\n"
     ]
    },
    {
     "name": "stdout",
     "output_type": "stream",
     "text": [
      "Overall Acc: \t 0.585905754253\n",
      "Mean Acc : \t 0.486461883554\n",
      "FreqW Acc : \t 0.419702447404\n",
      "Mean IoU : \t 0.343537769474\n",
      "Epoch [54/100] Loss: 0.9419\n",
      "Epoch [54/100] Loss: 0.7796\n",
      "Epoch [54/100] Loss: 1.1128\n",
      "Epoch [54/100] Loss: 0.9938\n",
      "Epoch [54/100] Loss: 0.6985\n",
      "Epoch [54/100] Loss: 0.6732\n",
      "Epoch [54/100] Loss: 1.0720\n",
      "Epoch [54/100] Loss: 0.7407\n",
      "Epoch [54/100] Loss: 0.9427\n",
      "Epoch [54/100] Loss: 0.8818\n",
      "Epoch [54/100] Loss: 0.7649\n",
      "Epoch [54/100] Loss: 0.8310\n",
      "Epoch [54/100] Loss: 0.8666\n"
     ]
    },
    {
     "name": "stderr",
     "output_type": "stream",
     "text": [
      "218it [00:34,  6.37it/s]\n"
     ]
    },
    {
     "name": "stdout",
     "output_type": "stream",
     "text": [
      "Overall Acc: \t 0.587460922568\n",
      "Mean Acc : \t 0.491854957949\n",
      "FreqW Acc : \t 0.419007731563\n",
      "Mean IoU : \t 0.345727175915\n",
      "Epoch [55/100] Loss: 0.9947\n",
      "Epoch [55/100] Loss: 0.8822\n",
      "Epoch [55/100] Loss: 1.0243\n",
      "Epoch [55/100] Loss: 0.7918\n",
      "Epoch [55/100] Loss: 0.9023\n",
      "Epoch [55/100] Loss: 0.8791\n",
      "Epoch [55/100] Loss: 0.9233\n",
      "Epoch [55/100] Loss: 1.0320\n",
      "Epoch [55/100] Loss: 1.0933\n",
      "Epoch [55/100] Loss: 1.1226\n",
      "Epoch [55/100] Loss: 0.9880\n",
      "Epoch [55/100] Loss: 1.0220\n",
      "Epoch [55/100] Loss: 1.0264\n"
     ]
    },
    {
     "name": "stderr",
     "output_type": "stream",
     "text": [
      "218it [00:34,  6.28it/s]\n"
     ]
    },
    {
     "name": "stdout",
     "output_type": "stream",
     "text": [
      "Overall Acc: \t 0.588405430723\n",
      "Mean Acc : \t 0.48871718925\n",
      "FreqW Acc : \t 0.418764238626\n",
      "Mean IoU : \t 0.345762108778\n",
      "Epoch [56/100] Loss: 0.7993\n",
      "Epoch [56/100] Loss: 0.9397\n",
      "Epoch [56/100] Loss: 0.8551\n",
      "Epoch [56/100] Loss: 0.7436\n",
      "Epoch [56/100] Loss: 0.8010\n",
      "Epoch [56/100] Loss: 1.0587\n",
      "Epoch [56/100] Loss: 0.5681\n",
      "Epoch [56/100] Loss: 1.1994\n",
      "Epoch [56/100] Loss: 0.8782\n",
      "Epoch [56/100] Loss: 0.8661\n",
      "Epoch [56/100] Loss: 0.7664\n",
      "Epoch [56/100] Loss: 0.8201\n",
      "Epoch [56/100] Loss: 0.8487\n"
     ]
    },
    {
     "name": "stderr",
     "output_type": "stream",
     "text": [
      "218it [00:34,  6.24it/s]"
     ]
    },
    {
     "name": "stdout",
     "output_type": "stream",
     "text": [
      "Overall Acc: \t 0.589132043992\n",
      "Mean Acc : \t 0.476102891669\n",
      "FreqW Acc : \t 0.417085719922\n",
      "Mean IoU : \t 0.341516828851\n"
     ]
    },
    {
     "name": "stderr",
     "output_type": "stream",
     "text": [
      "\n"
     ]
    },
    {
     "name": "stdout",
     "output_type": "stream",
     "text": [
      "Epoch [57/100] Loss: 0.9023\n",
      "Epoch [57/100] Loss: 0.9540\n",
      "Epoch [57/100] Loss: 1.0131\n",
      "Epoch [57/100] Loss: 0.8727\n",
      "Epoch [57/100] Loss: 0.8015\n",
      "Epoch [57/100] Loss: 1.1218\n",
      "Epoch [57/100] Loss: 1.0518\n",
      "Epoch [57/100] Loss: 1.0458\n",
      "Epoch [57/100] Loss: 1.1211\n",
      "Epoch [57/100] Loss: 0.6161\n",
      "Epoch [57/100] Loss: 1.1387\n",
      "Epoch [57/100] Loss: 1.0466\n",
      "Epoch [57/100] Loss: 0.7833\n"
     ]
    },
    {
     "name": "stderr",
     "output_type": "stream",
     "text": [
      "218it [00:34,  6.32it/s]\n"
     ]
    },
    {
     "name": "stdout",
     "output_type": "stream",
     "text": [
      "Overall Acc: \t 0.588266034141\n",
      "Mean Acc : \t 0.497929265837\n",
      "FreqW Acc : \t 0.422381107661\n",
      "Mean IoU : \t 0.350335649468\n",
      "Epoch [58/100] Loss: 0.6212\n",
      "Epoch [58/100] Loss: 0.7613\n",
      "Epoch [58/100] Loss: 0.8571\n",
      "Epoch [58/100] Loss: 0.8902\n",
      "Epoch [58/100] Loss: 0.8592\n",
      "Epoch [58/100] Loss: 1.1940\n",
      "Epoch [58/100] Loss: 0.8320\n",
      "Epoch [58/100] Loss: 0.8897\n",
      "Epoch [58/100] Loss: 0.9811\n",
      "Epoch [58/100] Loss: 0.9674\n",
      "Epoch [58/100] Loss: 0.7784\n",
      "Epoch [58/100] Loss: 0.7446\n",
      "Epoch [58/100] Loss: 1.0458\n"
     ]
    },
    {
     "name": "stderr",
     "output_type": "stream",
     "text": [
      "218it [00:34,  6.32it/s]"
     ]
    },
    {
     "name": "stdout",
     "output_type": "stream",
     "text": [
      "Overall Acc: \t 0.589837105194\n",
      "Mean Acc : \t 0.481432692586\n",
      "FreqW Acc : \t 0.418837382102\n",
      "Mean IoU : \t 0.343639273433\n"
     ]
    },
    {
     "name": "stderr",
     "output_type": "stream",
     "text": [
      "\n"
     ]
    },
    {
     "name": "stdout",
     "output_type": "stream",
     "text": [
      "Epoch [59/100] Loss: 0.7269\n",
      "Epoch [59/100] Loss: 0.6921\n",
      "Epoch [59/100] Loss: 0.8427\n",
      "Epoch [59/100] Loss: 1.0376\n",
      "Epoch [59/100] Loss: 0.9491\n",
      "Epoch [59/100] Loss: 0.8614\n",
      "Epoch [59/100] Loss: 0.8856\n",
      "Epoch [59/100] Loss: 0.8595\n",
      "Epoch [59/100] Loss: 1.1243\n",
      "Epoch [59/100] Loss: 0.7321\n",
      "Epoch [59/100] Loss: 0.7484\n",
      "Epoch [59/100] Loss: 0.8241\n",
      "Epoch [59/100] Loss: 0.6154\n"
     ]
    },
    {
     "name": "stderr",
     "output_type": "stream",
     "text": [
      "218it [00:34,  6.31it/s]"
     ]
    },
    {
     "name": "stdout",
     "output_type": "stream",
     "text": [
      "Overall Acc: \t 0.587771093153\n",
      "Mean Acc : \t 0.499395342102\n",
      "FreqW Acc : \t 0.421569055892\n",
      "Mean IoU : \t 0.349716931305\n"
     ]
    },
    {
     "name": "stderr",
     "output_type": "stream",
     "text": [
      "\n"
     ]
    },
    {
     "name": "stdout",
     "output_type": "stream",
     "text": [
      "Epoch [60/100] Loss: 0.8709\n",
      "Epoch [60/100] Loss: 0.9661\n",
      "Epoch [60/100] Loss: 0.7210\n",
      "Epoch [60/100] Loss: 0.7692\n",
      "Epoch [60/100] Loss: 1.0263\n",
      "Epoch [60/100] Loss: 0.8584\n",
      "Epoch [60/100] Loss: 0.9673\n",
      "Epoch [60/100] Loss: 0.7621\n",
      "Epoch [60/100] Loss: 0.9093\n",
      "Epoch [60/100] Loss: 0.7517\n",
      "Epoch [60/100] Loss: 0.6001\n",
      "Epoch [60/100] Loss: 0.6832\n",
      "Epoch [60/100] Loss: 0.8376\n"
     ]
    },
    {
     "name": "stderr",
     "output_type": "stream",
     "text": [
      "218it [00:34,  6.25it/s]"
     ]
    },
    {
     "name": "stdout",
     "output_type": "stream",
     "text": [
      "Overall Acc: \t 0.589420762057\n",
      "Mean Acc : \t 0.493530090373\n",
      "FreqW Acc : \t 0.422793727236\n",
      "Mean IoU : \t 0.349621636736\n"
     ]
    },
    {
     "name": "stderr",
     "output_type": "stream",
     "text": [
      "\n"
     ]
    },
    {
     "name": "stdout",
     "output_type": "stream",
     "text": [
      "Epoch [61/100] Loss: 0.9955\n",
      "Epoch [61/100] Loss: 0.9710\n",
      "Epoch [61/100] Loss: 0.8629\n",
      "Epoch [61/100] Loss: 0.9282\n",
      "Epoch [61/100] Loss: 0.9291\n",
      "Epoch [61/100] Loss: 0.8191\n",
      "Epoch [61/100] Loss: 1.1285\n",
      "Epoch [61/100] Loss: 0.8663\n",
      "Epoch [61/100] Loss: 0.6658\n",
      "Epoch [61/100] Loss: 0.9312\n",
      "Epoch [61/100] Loss: 0.9581\n",
      "Epoch [61/100] Loss: 0.8665\n",
      "Epoch [61/100] Loss: 0.7959\n"
     ]
    },
    {
     "name": "stderr",
     "output_type": "stream",
     "text": [
      "218it [00:34,  6.28it/s]"
     ]
    },
    {
     "name": "stdout",
     "output_type": "stream",
     "text": [
      "Overall Acc: \t 0.589026175061\n",
      "Mean Acc : \t 0.494751090199\n",
      "FreqW Acc : \t 0.422523196446\n",
      "Mean IoU : \t 0.350057214648\n"
     ]
    },
    {
     "name": "stderr",
     "output_type": "stream",
     "text": [
      "\n"
     ]
    },
    {
     "name": "stdout",
     "output_type": "stream",
     "text": [
      "Epoch [62/100] Loss: 0.9220\n",
      "Epoch [62/100] Loss: 0.8556\n",
      "Epoch [62/100] Loss: 0.7967\n",
      "Epoch [62/100] Loss: 0.9313\n",
      "Epoch [62/100] Loss: 0.7536\n",
      "Epoch [62/100] Loss: 0.7936\n",
      "Epoch [62/100] Loss: 1.0356\n",
      "Epoch [62/100] Loss: 0.6842\n",
      "Epoch [62/100] Loss: 0.8727\n",
      "Epoch [62/100] Loss: 0.8003\n",
      "Epoch [62/100] Loss: 0.8962\n",
      "Epoch [62/100] Loss: 0.7836\n",
      "Epoch [62/100] Loss: 0.7581\n"
     ]
    },
    {
     "name": "stderr",
     "output_type": "stream",
     "text": [
      "218it [00:35,  6.18it/s]"
     ]
    },
    {
     "name": "stdout",
     "output_type": "stream",
     "text": [
      "Overall Acc: \t 0.590040057977\n",
      "Mean Acc : \t 0.491160833592\n",
      "FreqW Acc : \t 0.419166136003\n",
      "Mean IoU : \t 0.347515715135\n"
     ]
    },
    {
     "name": "stderr",
     "output_type": "stream",
     "text": [
      "\n"
     ]
    },
    {
     "name": "stdout",
     "output_type": "stream",
     "text": [
      "Epoch [63/100] Loss: 1.0600\n",
      "Epoch [63/100] Loss: 0.7950\n",
      "Epoch [63/100] Loss: 0.9332\n",
      "Epoch [63/100] Loss: 0.6792\n",
      "Epoch [63/100] Loss: 0.8700\n",
      "Epoch [63/100] Loss: 0.9956\n",
      "Epoch [63/100] Loss: 0.9909\n",
      "Epoch [63/100] Loss: 0.7390\n",
      "Epoch [63/100] Loss: 0.9082\n",
      "Epoch [63/100] Loss: 0.8737\n",
      "Epoch [63/100] Loss: 0.9718\n",
      "Epoch [63/100] Loss: 0.7450\n",
      "Epoch [63/100] Loss: 1.1143\n"
     ]
    },
    {
     "name": "stderr",
     "output_type": "stream",
     "text": [
      "218it [00:34,  6.37it/s]"
     ]
    },
    {
     "name": "stdout",
     "output_type": "stream",
     "text": [
      "Overall Acc: \t 0.590108223234\n",
      "Mean Acc : \t 0.485730586743\n",
      "FreqW Acc : \t 0.42132807249\n",
      "Mean IoU : \t 0.348546133498\n"
     ]
    },
    {
     "name": "stderr",
     "output_type": "stream",
     "text": [
      "\n"
     ]
    },
    {
     "name": "stdout",
     "output_type": "stream",
     "text": [
      "Epoch [64/100] Loss: 0.8263\n",
      "Epoch [64/100] Loss: 0.5239\n",
      "Epoch [64/100] Loss: 0.9124\n",
      "Epoch [64/100] Loss: 0.8717\n",
      "Epoch [64/100] Loss: 1.0035\n",
      "Epoch [64/100] Loss: 0.9032\n",
      "Epoch [64/100] Loss: 0.8289\n",
      "Epoch [64/100] Loss: 0.8687\n",
      "Epoch [64/100] Loss: 0.7251\n",
      "Epoch [64/100] Loss: 0.9947\n",
      "Epoch [64/100] Loss: 1.0086\n",
      "Epoch [64/100] Loss: 0.9690\n",
      "Epoch [64/100] Loss: 1.0219\n"
     ]
    },
    {
     "name": "stderr",
     "output_type": "stream",
     "text": [
      "218it [00:34,  6.26it/s]\n"
     ]
    },
    {
     "name": "stdout",
     "output_type": "stream",
     "text": [
      "Overall Acc: \t 0.590051242156\n",
      "Mean Acc : \t 0.49159644769\n",
      "FreqW Acc : \t 0.424038822942\n",
      "Mean IoU : \t 0.351831597928\n",
      "Epoch [65/100] Loss: 0.9331\n",
      "Epoch [65/100] Loss: 0.7264\n",
      "Epoch [65/100] Loss: 0.8430\n",
      "Epoch [65/100] Loss: 0.9529\n",
      "Epoch [65/100] Loss: 0.6875\n",
      "Epoch [65/100] Loss: 0.7880\n",
      "Epoch [65/100] Loss: 0.9119\n",
      "Epoch [65/100] Loss: 0.9318\n",
      "Epoch [65/100] Loss: 0.7988\n",
      "Epoch [65/100] Loss: 0.8233\n",
      "Epoch [65/100] Loss: 0.8121\n",
      "Epoch [65/100] Loss: 0.9697\n",
      "Epoch [65/100] Loss: 0.8274\n"
     ]
    },
    {
     "name": "stderr",
     "output_type": "stream",
     "text": [
      "218it [00:35,  6.16it/s]"
     ]
    },
    {
     "name": "stdout",
     "output_type": "stream",
     "text": [
      "Overall Acc: \t 0.591600248471\n",
      "Mean Acc : \t 0.499318689558\n",
      "FreqW Acc : \t 0.423288668468\n",
      "Mean IoU : \t 0.351265066065\n"
     ]
    },
    {
     "name": "stderr",
     "output_type": "stream",
     "text": [
      "\n"
     ]
    },
    {
     "name": "stdout",
     "output_type": "stream",
     "text": [
      "Epoch [66/100] Loss: 1.1691\n",
      "Epoch [66/100] Loss: 0.9965\n",
      "Epoch [66/100] Loss: 0.8903\n",
      "Epoch [66/100] Loss: 0.6515\n",
      "Epoch [66/100] Loss: 0.8229\n",
      "Epoch [66/100] Loss: 0.9064\n",
      "Epoch [66/100] Loss: 0.8842\n",
      "Epoch [66/100] Loss: 0.9177\n",
      "Epoch [66/100] Loss: 0.7049\n",
      "Epoch [66/100] Loss: 0.8232\n",
      "Epoch [66/100] Loss: 0.9761\n",
      "Epoch [66/100] Loss: 0.7386\n",
      "Epoch [66/100] Loss: 0.8237\n"
     ]
    },
    {
     "name": "stderr",
     "output_type": "stream",
     "text": [
      "218it [00:34,  6.24it/s]\n"
     ]
    },
    {
     "name": "stdout",
     "output_type": "stream",
     "text": [
      "Overall Acc: \t 0.591790414357\n",
      "Mean Acc : \t 0.491825770512\n",
      "FreqW Acc : \t 0.424483027011\n",
      "Mean IoU : \t 0.35278569245\n",
      "Epoch [67/100] Loss: 0.6651\n",
      "Epoch [67/100] Loss: 0.7502\n",
      "Epoch [67/100] Loss: 0.6589\n",
      "Epoch [67/100] Loss: 1.0964\n",
      "Epoch [67/100] Loss: 0.9042\n",
      "Epoch [67/100] Loss: 0.9480\n",
      "Epoch [67/100] Loss: 1.1142\n",
      "Epoch [67/100] Loss: 0.9757\n",
      "Epoch [67/100] Loss: 0.7942\n",
      "Epoch [67/100] Loss: 0.8410\n",
      "Epoch [67/100] Loss: 0.8046\n",
      "Epoch [67/100] Loss: 0.8360\n",
      "Epoch [67/100] Loss: 0.9062\n"
     ]
    },
    {
     "name": "stderr",
     "output_type": "stream",
     "text": [
      "218it [00:34,  6.28it/s]\n"
     ]
    },
    {
     "name": "stdout",
     "output_type": "stream",
     "text": [
      "Overall Acc: \t 0.593206260751\n",
      "Mean Acc : \t 0.495797065728\n",
      "FreqW Acc : \t 0.425733651355\n",
      "Mean IoU : \t 0.35424593826\n",
      "Epoch [68/100] Loss: 0.9110\n",
      "Epoch [68/100] Loss: 0.9259\n",
      "Epoch [68/100] Loss: 0.6887\n",
      "Epoch [68/100] Loss: 0.9259\n",
      "Epoch [68/100] Loss: 0.8599\n",
      "Epoch [68/100] Loss: 0.8356\n",
      "Epoch [68/100] Loss: 0.8172\n",
      "Epoch [68/100] Loss: 0.6472\n",
      "Epoch [68/100] Loss: 0.7541\n",
      "Epoch [68/100] Loss: 0.9163\n",
      "Epoch [68/100] Loss: 0.8908\n",
      "Epoch [68/100] Loss: 0.9018\n",
      "Epoch [68/100] Loss: 0.7702\n"
     ]
    },
    {
     "name": "stderr",
     "output_type": "stream",
     "text": [
      "218it [00:34,  6.32it/s]\n"
     ]
    },
    {
     "name": "stdout",
     "output_type": "stream",
     "text": [
      "Overall Acc: \t 0.593059562349\n",
      "Mean Acc : \t 0.49869379952\n",
      "FreqW Acc : \t 0.427044854895\n",
      "Mean IoU : \t 0.356348115739\n",
      "Epoch [69/100] Loss: 0.9879\n",
      "Epoch [69/100] Loss: 0.8613\n",
      "Epoch [69/100] Loss: 0.9825\n",
      "Epoch [69/100] Loss: 0.8046\n",
      "Epoch [69/100] Loss: 0.8562\n",
      "Epoch [69/100] Loss: 0.5392\n",
      "Epoch [69/100] Loss: 0.8516\n",
      "Epoch [69/100] Loss: 0.8168\n",
      "Epoch [69/100] Loss: 0.7186\n",
      "Epoch [69/100] Loss: 0.8163\n",
      "Epoch [69/100] Loss: 0.7627\n",
      "Epoch [69/100] Loss: 0.6893\n",
      "Epoch [69/100] Loss: 0.8456\n"
     ]
    },
    {
     "name": "stderr",
     "output_type": "stream",
     "text": [
      "218it [00:34,  6.26it/s]"
     ]
    },
    {
     "name": "stdout",
     "output_type": "stream",
     "text": [
      "Overall Acc: \t 0.59118206868\n",
      "Mean Acc : \t 0.504027523711\n",
      "FreqW Acc : \t 0.426540268562\n",
      "Mean IoU : \t 0.35564233088\n"
     ]
    },
    {
     "name": "stderr",
     "output_type": "stream",
     "text": [
      "\n"
     ]
    },
    {
     "name": "stdout",
     "output_type": "stream",
     "text": [
      "Epoch [70/100] Loss: 1.0577\n",
      "Epoch [70/100] Loss: 0.7442\n",
      "Epoch [70/100] Loss: 0.6877\n",
      "Epoch [70/100] Loss: 0.9079\n",
      "Epoch [70/100] Loss: 0.9367\n",
      "Epoch [70/100] Loss: 0.5969\n",
      "Epoch [70/100] Loss: 0.6077\n",
      "Epoch [70/100] Loss: 1.0446\n",
      "Epoch [70/100] Loss: 0.8357\n",
      "Epoch [70/100] Loss: 0.7266\n",
      "Epoch [70/100] Loss: 0.5667\n",
      "Epoch [70/100] Loss: 0.8813\n",
      "Epoch [70/100] Loss: 0.6765\n"
     ]
    },
    {
     "name": "stderr",
     "output_type": "stream",
     "text": [
      "218it [00:34,  6.26it/s]"
     ]
    },
    {
     "name": "stdout",
     "output_type": "stream",
     "text": [
      "Overall Acc: \t 0.595040082863\n",
      "Mean Acc : \t 0.496990442424\n",
      "FreqW Acc : \t 0.425569812524\n",
      "Mean IoU : \t 0.353750008617\n"
     ]
    },
    {
     "name": "stderr",
     "output_type": "stream",
     "text": [
      "\n"
     ]
    },
    {
     "name": "stdout",
     "output_type": "stream",
     "text": [
      "Epoch [71/100] Loss: 0.5970\n",
      "Epoch [71/100] Loss: 0.8430\n",
      "Epoch [71/100] Loss: 0.9503\n",
      "Epoch [71/100] Loss: 0.7570\n",
      "Epoch [71/100] Loss: 0.9126\n",
      "Epoch [71/100] Loss: 0.9199\n",
      "Epoch [71/100] Loss: 0.8069\n",
      "Epoch [71/100] Loss: 0.8657\n",
      "Epoch [71/100] Loss: 0.7419\n",
      "Epoch [71/100] Loss: 0.6442\n",
      "Epoch [71/100] Loss: 0.6236\n",
      "Epoch [71/100] Loss: 0.9580\n",
      "Epoch [71/100] Loss: 0.7493\n"
     ]
    },
    {
     "name": "stderr",
     "output_type": "stream",
     "text": [
      "218it [00:34,  6.26it/s]\n"
     ]
    },
    {
     "name": "stdout",
     "output_type": "stream",
     "text": [
      "Overall Acc: \t 0.593271399759\n",
      "Mean Acc : \t 0.507307618409\n",
      "FreqW Acc : \t 0.428496519088\n",
      "Mean IoU : \t 0.358039464222\n",
      "Epoch [72/100] Loss: 0.8582\n",
      "Epoch [72/100] Loss: 0.5808\n",
      "Epoch [72/100] Loss: 0.8460\n",
      "Epoch [72/100] Loss: 0.6012\n",
      "Epoch [72/100] Loss: 0.8250\n",
      "Epoch [72/100] Loss: 0.9121\n",
      "Epoch [72/100] Loss: 0.7053\n",
      "Epoch [72/100] Loss: 0.7204\n",
      "Epoch [72/100] Loss: 0.6846\n",
      "Epoch [72/100] Loss: 0.8802\n",
      "Epoch [72/100] Loss: 0.7952\n",
      "Epoch [72/100] Loss: 0.9972\n",
      "Epoch [72/100] Loss: 0.8856\n"
     ]
    },
    {
     "name": "stderr",
     "output_type": "stream",
     "text": [
      "218it [00:34,  6.25it/s]"
     ]
    },
    {
     "name": "stdout",
     "output_type": "stream",
     "text": [
      "Overall Acc: \t 0.593927135098\n",
      "Mean Acc : \t 0.497344289869\n",
      "FreqW Acc : \t 0.426453394958\n",
      "Mean IoU : \t 0.355183707791\n"
     ]
    },
    {
     "name": "stderr",
     "output_type": "stream",
     "text": [
      "\n"
     ]
    },
    {
     "name": "stdout",
     "output_type": "stream",
     "text": [
      "Epoch [73/100] Loss: 0.8150\n",
      "Epoch [73/100] Loss: 0.7943\n",
      "Epoch [73/100] Loss: 0.7641\n",
      "Epoch [73/100] Loss: 0.9285\n",
      "Epoch [73/100] Loss: 0.8579\n",
      "Epoch [73/100] Loss: 0.7789\n",
      "Epoch [73/100] Loss: 0.6389\n",
      "Epoch [73/100] Loss: 1.0841\n",
      "Epoch [73/100] Loss: 0.7213\n",
      "Epoch [73/100] Loss: 0.9691\n",
      "Epoch [73/100] Loss: 0.9012\n",
      "Epoch [73/100] Loss: 0.8788\n",
      "Epoch [73/100] Loss: 0.9330\n"
     ]
    },
    {
     "name": "stderr",
     "output_type": "stream",
     "text": [
      "218it [00:34,  6.24it/s]"
     ]
    },
    {
     "name": "stdout",
     "output_type": "stream",
     "text": [
      "Overall Acc: \t 0.593892014685\n",
      "Mean Acc : \t 0.490063164324\n",
      "FreqW Acc : \t 0.423247595138\n",
      "Mean IoU : \t 0.352021835986\n"
     ]
    },
    {
     "name": "stderr",
     "output_type": "stream",
     "text": [
      "\n"
     ]
    },
    {
     "name": "stdout",
     "output_type": "stream",
     "text": [
      "Epoch [74/100] Loss: 0.8446\n",
      "Epoch [74/100] Loss: 0.6878\n",
      "Epoch [74/100] Loss: 1.0037\n",
      "Epoch [74/100] Loss: 0.7842\n",
      "Epoch [74/100] Loss: 0.7013\n",
      "Epoch [74/100] Loss: 0.6943\n",
      "Epoch [74/100] Loss: 0.8671\n",
      "Epoch [74/100] Loss: 0.7402\n",
      "Epoch [74/100] Loss: 0.7394\n",
      "Epoch [74/100] Loss: 1.0444\n",
      "Epoch [74/100] Loss: 0.7872\n",
      "Epoch [74/100] Loss: 0.5287\n",
      "Epoch [74/100] Loss: 1.1159\n"
     ]
    },
    {
     "name": "stderr",
     "output_type": "stream",
     "text": [
      "218it [00:34,  6.27it/s]"
     ]
    },
    {
     "name": "stdout",
     "output_type": "stream",
     "text": [
      "Overall Acc: \t 0.593053579535\n",
      "Mean Acc : \t 0.505780029901\n",
      "FreqW Acc : \t 0.425971191919\n",
      "Mean IoU : \t 0.355296622806\n"
     ]
    },
    {
     "name": "stderr",
     "output_type": "stream",
     "text": [
      "\n"
     ]
    },
    {
     "name": "stdout",
     "output_type": "stream",
     "text": [
      "Epoch [75/100] Loss: 0.9113\n",
      "Epoch [75/100] Loss: 0.6035\n",
      "Epoch [75/100] Loss: 0.6396\n",
      "Epoch [75/100] Loss: 0.6928\n",
      "Epoch [75/100] Loss: 0.9665\n",
      "Epoch [75/100] Loss: 0.9056\n",
      "Epoch [75/100] Loss: 0.7487\n",
      "Epoch [75/100] Loss: 0.7005\n",
      "Epoch [75/100] Loss: 0.9538\n",
      "Epoch [75/100] Loss: 0.8484\n",
      "Epoch [75/100] Loss: 0.7142\n",
      "Epoch [75/100] Loss: 0.7203\n",
      "Epoch [75/100] Loss: 0.7708\n"
     ]
    },
    {
     "name": "stderr",
     "output_type": "stream",
     "text": [
      "218it [00:35,  6.17it/s]\n"
     ]
    },
    {
     "name": "stdout",
     "output_type": "stream",
     "text": [
      "Overall Acc: \t 0.594749358913\n",
      "Mean Acc : \t 0.503385829892\n",
      "FreqW Acc : \t 0.428822424583\n",
      "Mean IoU : \t 0.359607525882\n",
      "Epoch [76/100] Loss: 0.8013\n",
      "Epoch [76/100] Loss: 0.7097\n",
      "Epoch [76/100] Loss: 0.7421\n",
      "Epoch [76/100] Loss: 0.7544\n",
      "Epoch [76/100] Loss: 0.8394\n",
      "Epoch [76/100] Loss: 1.0201\n",
      "Epoch [76/100] Loss: 0.9392\n",
      "Epoch [76/100] Loss: 0.6897\n",
      "Epoch [76/100] Loss: 0.8870\n",
      "Epoch [76/100] Loss: 0.9507\n",
      "Epoch [76/100] Loss: 1.0217\n",
      "Epoch [76/100] Loss: 0.9192\n",
      "Epoch [76/100] Loss: 0.8228\n"
     ]
    },
    {
     "name": "stderr",
     "output_type": "stream",
     "text": [
      "218it [00:35,  6.23it/s]"
     ]
    },
    {
     "name": "stdout",
     "output_type": "stream",
     "text": [
      "Overall Acc: \t 0.593503231317\n",
      "Mean Acc : \t 0.504487371233\n",
      "FreqW Acc : \t 0.42884364169\n",
      "Mean IoU : \t 0.358743385269\n"
     ]
    },
    {
     "name": "stderr",
     "output_type": "stream",
     "text": [
      "\n"
     ]
    },
    {
     "name": "stdout",
     "output_type": "stream",
     "text": [
      "Epoch [77/100] Loss: 0.6163\n",
      "Epoch [77/100] Loss: 0.7065\n",
      "Epoch [77/100] Loss: 0.8628\n",
      "Epoch [77/100] Loss: 0.8387\n",
      "Epoch [77/100] Loss: 0.8715\n",
      "Epoch [77/100] Loss: 0.6459\n",
      "Epoch [77/100] Loss: 0.5946\n",
      "Epoch [77/100] Loss: 1.0363\n",
      "Epoch [77/100] Loss: 0.7540\n",
      "Epoch [77/100] Loss: 0.7521\n",
      "Epoch [77/100] Loss: 0.6628\n",
      "Epoch [77/100] Loss: 0.6102\n",
      "Epoch [77/100] Loss: 0.8297\n"
     ]
    },
    {
     "name": "stderr",
     "output_type": "stream",
     "text": [
      "218it [00:34,  6.24it/s]"
     ]
    },
    {
     "name": "stdout",
     "output_type": "stream",
     "text": [
      "Overall Acc: \t 0.596507231142\n",
      "Mean Acc : \t 0.499047736135\n",
      "FreqW Acc : \t 0.425899725021\n",
      "Mean IoU : \t 0.356948777449\n"
     ]
    },
    {
     "name": "stderr",
     "output_type": "stream",
     "text": [
      "\n"
     ]
    },
    {
     "name": "stdout",
     "output_type": "stream",
     "text": [
      "Epoch [78/100] Loss: 0.8412\n",
      "Epoch [78/100] Loss: 0.8065\n",
      "Epoch [78/100] Loss: 0.7787\n",
      "Epoch [78/100] Loss: 0.9045\n",
      "Epoch [78/100] Loss: 1.0291\n",
      "Epoch [78/100] Loss: 0.6082\n",
      "Epoch [78/100] Loss: 0.7236\n",
      "Epoch [78/100] Loss: 0.7371\n",
      "Epoch [78/100] Loss: 0.5927\n",
      "Epoch [78/100] Loss: 0.9941\n",
      "Epoch [78/100] Loss: 0.8342\n",
      "Epoch [78/100] Loss: 0.7347\n",
      "Epoch [78/100] Loss: 0.8645\n"
     ]
    },
    {
     "name": "stderr",
     "output_type": "stream",
     "text": [
      "218it [00:35,  6.21it/s]"
     ]
    },
    {
     "name": "stdout",
     "output_type": "stream",
     "text": [
      "Overall Acc: \t 0.596797696268\n",
      "Mean Acc : \t 0.5071395612\n",
      "FreqW Acc : \t 0.42964429869\n",
      "Mean IoU : \t 0.359302391517\n"
     ]
    },
    {
     "name": "stderr",
     "output_type": "stream",
     "text": [
      "\n"
     ]
    },
    {
     "name": "stdout",
     "output_type": "stream",
     "text": [
      "Epoch [79/100] Loss: 1.0282\n",
      "Epoch [79/100] Loss: 0.7442\n",
      "Epoch [79/100] Loss: 0.5746\n",
      "Epoch [79/100] Loss: 1.0470\n",
      "Epoch [79/100] Loss: 0.8919\n",
      "Epoch [79/100] Loss: 0.6180\n",
      "Epoch [79/100] Loss: 0.9106\n",
      "Epoch [79/100] Loss: 0.7740\n",
      "Epoch [79/100] Loss: 0.7197\n",
      "Epoch [79/100] Loss: 1.0251\n",
      "Epoch [79/100] Loss: 0.9321\n",
      "Epoch [79/100] Loss: 0.8311\n",
      "Epoch [79/100] Loss: 0.7594\n"
     ]
    },
    {
     "name": "stderr",
     "output_type": "stream",
     "text": [
      "218it [00:34,  6.23it/s]\n"
     ]
    },
    {
     "name": "stdout",
     "output_type": "stream",
     "text": [
      "Overall Acc: \t 0.595996332664\n",
      "Mean Acc : \t 0.502828280363\n",
      "FreqW Acc : \t 0.42857880401\n",
      "Mean IoU : \t 0.360393971432\n",
      "Epoch [80/100] Loss: 0.7832\n",
      "Epoch [80/100] Loss: 0.8372\n",
      "Epoch [80/100] Loss: 0.5963\n",
      "Epoch [80/100] Loss: 0.7585\n",
      "Epoch [80/100] Loss: 0.5546\n",
      "Epoch [80/100] Loss: 0.8074\n",
      "Epoch [80/100] Loss: 1.0366\n",
      "Epoch [80/100] Loss: 0.7942\n",
      "Epoch [80/100] Loss: 0.9109\n",
      "Epoch [80/100] Loss: 0.7484\n",
      "Epoch [80/100] Loss: 0.8634\n",
      "Epoch [80/100] Loss: 0.6061\n",
      "Epoch [80/100] Loss: 0.8241\n"
     ]
    },
    {
     "name": "stderr",
     "output_type": "stream",
     "text": [
      "218it [00:34,  6.33it/s]"
     ]
    },
    {
     "name": "stdout",
     "output_type": "stream",
     "text": [
      "Overall Acc: \t 0.595641997762\n",
      "Mean Acc : \t 0.508308658717\n",
      "FreqW Acc : \t 0.426581892285\n",
      "Mean IoU : \t 0.359355013285\n"
     ]
    },
    {
     "name": "stderr",
     "output_type": "stream",
     "text": [
      "\n"
     ]
    },
    {
     "name": "stdout",
     "output_type": "stream",
     "text": [
      "Epoch [81/100] Loss: 0.7275\n",
      "Epoch [81/100] Loss: 0.7495\n",
      "Epoch [81/100] Loss: 0.7408\n",
      "Epoch [81/100] Loss: 0.8056\n",
      "Epoch [81/100] Loss: 0.7496\n",
      "Epoch [81/100] Loss: 0.4929\n",
      "Epoch [81/100] Loss: 0.5925\n",
      "Epoch [81/100] Loss: 0.8793\n",
      "Epoch [81/100] Loss: 0.7430\n",
      "Epoch [81/100] Loss: 0.6600\n",
      "Epoch [81/100] Loss: 0.7994\n",
      "Epoch [81/100] Loss: 0.6275\n",
      "Epoch [81/100] Loss: 0.8106\n"
     ]
    },
    {
     "name": "stderr",
     "output_type": "stream",
     "text": [
      "218it [00:34,  6.28it/s]"
     ]
    },
    {
     "name": "stdout",
     "output_type": "stream",
     "text": [
      "Overall Acc: \t 0.595588719857\n",
      "Mean Acc : \t 0.494008406694\n",
      "FreqW Acc : \t 0.42802268655\n",
      "Mean IoU : \t 0.356058042585\n"
     ]
    },
    {
     "name": "stderr",
     "output_type": "stream",
     "text": [
      "\n"
     ]
    },
    {
     "name": "stdout",
     "output_type": "stream",
     "text": [
      "Epoch [82/100] Loss: 0.5689\n",
      "Epoch [82/100] Loss: 0.7749\n",
      "Epoch [82/100] Loss: 1.0379\n",
      "Epoch [82/100] Loss: 0.6617\n",
      "Epoch [82/100] Loss: 0.7806\n",
      "Epoch [82/100] Loss: 0.6845\n",
      "Epoch [82/100] Loss: 0.8490\n",
      "Epoch [82/100] Loss: 0.9486\n",
      "Epoch [82/100] Loss: 0.7198\n",
      "Epoch [82/100] Loss: 0.9788\n",
      "Epoch [82/100] Loss: 0.7813\n",
      "Epoch [82/100] Loss: 0.9786\n",
      "Epoch [82/100] Loss: 0.9079\n"
     ]
    },
    {
     "name": "stderr",
     "output_type": "stream",
     "text": [
      "218it [00:34,  6.30it/s]"
     ]
    },
    {
     "name": "stdout",
     "output_type": "stream",
     "text": [
      "Overall Acc: \t 0.595480775357\n",
      "Mean Acc : \t 0.501010949244\n",
      "FreqW Acc : \t 0.429786257932\n",
      "Mean IoU : \t 0.359239992795\n"
     ]
    },
    {
     "name": "stderr",
     "output_type": "stream",
     "text": [
      "\n"
     ]
    },
    {
     "name": "stdout",
     "output_type": "stream",
     "text": [
      "Epoch [83/100] Loss: 0.4505\n",
      "Epoch [83/100] Loss: 0.8076\n",
      "Epoch [83/100] Loss: 0.7849\n",
      "Epoch [83/100] Loss: 0.8592\n",
      "Epoch [83/100] Loss: 0.7277\n",
      "Epoch [83/100] Loss: 0.7024\n",
      "Epoch [83/100] Loss: 0.7010\n",
      "Epoch [83/100] Loss: 0.8991\n",
      "Epoch [83/100] Loss: 0.7909\n",
      "Epoch [83/100] Loss: 0.6572\n",
      "Epoch [83/100] Loss: 0.7137\n",
      "Epoch [83/100] Loss: 0.7328\n",
      "Epoch [83/100] Loss: 0.6013\n"
     ]
    },
    {
     "name": "stderr",
     "output_type": "stream",
     "text": [
      "218it [00:34,  6.26it/s]\n"
     ]
    },
    {
     "name": "stdout",
     "output_type": "stream",
     "text": [
      "Overall Acc: \t 0.595525512073\n",
      "Mean Acc : \t 0.512103654401\n",
      "FreqW Acc : \t 0.427758855542\n",
      "Mean IoU : \t 0.362251651261\n",
      "Epoch [84/100] Loss: 0.6242\n",
      "Epoch [84/100] Loss: 0.7459\n",
      "Epoch [84/100] Loss: 0.8646\n",
      "Epoch [84/100] Loss: 0.6240\n",
      "Epoch [84/100] Loss: 0.7429\n",
      "Epoch [84/100] Loss: 0.9232\n",
      "Epoch [84/100] Loss: 0.7086\n",
      "Epoch [84/100] Loss: 0.8074\n",
      "Epoch [84/100] Loss: 0.6629\n",
      "Epoch [84/100] Loss: 0.6687\n",
      "Epoch [84/100] Loss: 0.4925\n",
      "Epoch [84/100] Loss: 0.6357\n",
      "Epoch [84/100] Loss: 0.5517\n"
     ]
    },
    {
     "name": "stderr",
     "output_type": "stream",
     "text": [
      "218it [00:34,  6.31it/s]"
     ]
    },
    {
     "name": "stdout",
     "output_type": "stream",
     "text": [
      "Overall Acc: \t 0.597498153391\n",
      "Mean Acc : \t 0.500923211011\n",
      "FreqW Acc : \t 0.430048405922\n",
      "Mean IoU : \t 0.360806457458\n"
     ]
    },
    {
     "name": "stderr",
     "output_type": "stream",
     "text": [
      "\n"
     ]
    },
    {
     "name": "stdout",
     "output_type": "stream",
     "text": [
      "Epoch [85/100] Loss: 0.6965\n",
      "Epoch [85/100] Loss: 0.6825\n",
      "Epoch [85/100] Loss: 0.8039\n",
      "Epoch [85/100] Loss: 0.9885\n",
      "Epoch [85/100] Loss: 0.8632\n",
      "Epoch [85/100] Loss: 0.3483\n",
      "Epoch [85/100] Loss: 0.9124\n",
      "Epoch [85/100] Loss: 0.8253\n",
      "Epoch [85/100] Loss: 0.5897\n",
      "Epoch [85/100] Loss: 0.7416\n",
      "Epoch [85/100] Loss: 0.7576\n",
      "Epoch [85/100] Loss: 0.7749\n",
      "Epoch [85/100] Loss: 0.7509\n"
     ]
    },
    {
     "name": "stderr",
     "output_type": "stream",
     "text": [
      "218it [00:34,  6.28it/s]\n"
     ]
    },
    {
     "name": "stdout",
     "output_type": "stream",
     "text": [
      "Overall Acc: \t 0.595826180834\n",
      "Mean Acc : \t 0.509168768854\n",
      "FreqW Acc : \t 0.431323545077\n",
      "Mean IoU : \t 0.362445419754\n",
      "Epoch [86/100] Loss: 0.5916\n",
      "Epoch [86/100] Loss: 0.7667\n",
      "Epoch [86/100] Loss: 0.8253\n",
      "Epoch [86/100] Loss: 0.9502\n",
      "Epoch [86/100] Loss: 0.8999\n",
      "Epoch [86/100] Loss: 0.8152\n",
      "Epoch [86/100] Loss: 0.7658\n",
      "Epoch [86/100] Loss: 0.7103\n",
      "Epoch [86/100] Loss: 0.6347\n",
      "Epoch [86/100] Loss: 0.8553\n",
      "Epoch [86/100] Loss: 0.7483\n",
      "Epoch [86/100] Loss: 0.8345\n",
      "Epoch [86/100] Loss: 0.8555\n"
     ]
    },
    {
     "name": "stderr",
     "output_type": "stream",
     "text": [
      "218it [00:34,  6.33it/s]"
     ]
    },
    {
     "name": "stdout",
     "output_type": "stream",
     "text": [
      "Overall Acc: \t 0.597322357209\n",
      "Mean Acc : \t 0.500987172635\n",
      "FreqW Acc : \t 0.430633365179\n",
      "Mean IoU : \t 0.361449609815\n"
     ]
    },
    {
     "name": "stderr",
     "output_type": "stream",
     "text": [
      "\n"
     ]
    },
    {
     "name": "stdout",
     "output_type": "stream",
     "text": [
      "Epoch [87/100] Loss: 0.9506\n",
      "Epoch [87/100] Loss: 0.7053\n",
      "Epoch [87/100] Loss: 0.8397\n",
      "Epoch [87/100] Loss: 0.6263\n",
      "Epoch [87/100] Loss: 0.8313\n",
      "Epoch [87/100] Loss: 0.8451\n",
      "Epoch [87/100] Loss: 0.7696\n",
      "Epoch [87/100] Loss: 0.7346\n",
      "Epoch [87/100] Loss: 0.7071\n",
      "Epoch [87/100] Loss: 0.9242\n",
      "Epoch [87/100] Loss: 0.6619\n",
      "Epoch [87/100] Loss: 0.7383\n",
      "Epoch [87/100] Loss: 0.6507\n"
     ]
    },
    {
     "name": "stderr",
     "output_type": "stream",
     "text": [
      "218it [00:34,  6.27it/s]\n"
     ]
    },
    {
     "name": "stdout",
     "output_type": "stream",
     "text": [
      "Overall Acc: \t 0.596721870819\n",
      "Mean Acc : \t 0.509740000856\n",
      "FreqW Acc : \t 0.431383194324\n",
      "Mean IoU : \t 0.364156877072\n",
      "Epoch [88/100] Loss: 0.8640\n",
      "Epoch [88/100] Loss: 0.8355\n",
      "Epoch [88/100] Loss: 0.6696\n",
      "Epoch [88/100] Loss: 0.7455\n",
      "Epoch [88/100] Loss: 0.4942\n",
      "Epoch [88/100] Loss: 0.9000\n",
      "Epoch [88/100] Loss: 0.6523\n",
      "Epoch [88/100] Loss: 0.6447\n",
      "Epoch [88/100] Loss: 0.7929\n",
      "Epoch [88/100] Loss: 0.6643\n",
      "Epoch [88/100] Loss: 0.9564\n",
      "Epoch [88/100] Loss: 0.8441\n",
      "Epoch [88/100] Loss: 0.6387\n"
     ]
    },
    {
     "name": "stderr",
     "output_type": "stream",
     "text": [
      "218it [00:34,  6.27it/s]"
     ]
    },
    {
     "name": "stdout",
     "output_type": "stream",
     "text": [
      "Overall Acc: \t 0.597637893412\n",
      "Mean Acc : \t 0.512480509198\n",
      "FreqW Acc : \t 0.430643835486\n",
      "Mean IoU : \t 0.363227837391\n"
     ]
    },
    {
     "name": "stderr",
     "output_type": "stream",
     "text": [
      "\n"
     ]
    },
    {
     "name": "stdout",
     "output_type": "stream",
     "text": [
      "Epoch [89/100] Loss: 0.5977\n",
      "Epoch [89/100] Loss: 0.6085\n",
      "Epoch [89/100] Loss: 0.7947\n",
      "Epoch [89/100] Loss: 0.6548\n",
      "Epoch [89/100] Loss: 0.5802\n",
      "Epoch [89/100] Loss: 0.5205\n",
      "Epoch [89/100] Loss: 0.7101\n",
      "Epoch [89/100] Loss: 0.7130\n",
      "Epoch [89/100] Loss: 0.7269\n",
      "Epoch [89/100] Loss: 0.7663\n",
      "Epoch [89/100] Loss: 0.7708\n",
      "Epoch [89/100] Loss: 0.6647\n",
      "Epoch [89/100] Loss: 0.8421\n"
     ]
    },
    {
     "name": "stderr",
     "output_type": "stream",
     "text": [
      "218it [00:34,  6.26it/s]"
     ]
    },
    {
     "name": "stdout",
     "output_type": "stream",
     "text": [
      "Overall Acc: \t 0.595723656704\n",
      "Mean Acc : \t 0.491345734576\n",
      "FreqW Acc : \t 0.427772614615\n",
      "Mean IoU : \t 0.357122654255\n"
     ]
    },
    {
     "name": "stderr",
     "output_type": "stream",
     "text": [
      "\n"
     ]
    },
    {
     "name": "stdout",
     "output_type": "stream",
     "text": [
      "Epoch [90/100] Loss: 0.8017\n",
      "Epoch [90/100] Loss: 0.6479\n",
      "Epoch [90/100] Loss: 0.6314\n",
      "Epoch [90/100] Loss: 0.6811\n",
      "Epoch [90/100] Loss: 0.8551\n",
      "Epoch [90/100] Loss: 0.7410\n",
      "Epoch [90/100] Loss: 0.7040\n",
      "Epoch [90/100] Loss: 0.4716\n",
      "Epoch [90/100] Loss: 0.7293\n",
      "Epoch [90/100] Loss: 0.9781\n",
      "Epoch [90/100] Loss: 0.6139\n",
      "Epoch [90/100] Loss: 0.6967\n",
      "Epoch [90/100] Loss: 0.5903\n"
     ]
    },
    {
     "name": "stderr",
     "output_type": "stream",
     "text": [
      "218it [00:34,  6.30it/s]\n"
     ]
    },
    {
     "name": "stdout",
     "output_type": "stream",
     "text": [
      "Overall Acc: \t 0.598281892082\n",
      "Mean Acc : \t 0.515415248279\n",
      "FreqW Acc : \t 0.430760276698\n",
      "Mean IoU : \t 0.36511188043\n",
      "Epoch [91/100] Loss: 0.6258\n",
      "Epoch [91/100] Loss: 0.6963\n",
      "Epoch [91/100] Loss: 0.7239\n",
      "Epoch [91/100] Loss: 0.5415\n",
      "Epoch [91/100] Loss: 0.7275\n",
      "Epoch [91/100] Loss: 0.7414\n",
      "Epoch [91/100] Loss: 0.8523\n",
      "Epoch [91/100] Loss: 0.7409\n",
      "Epoch [91/100] Loss: 0.8053\n",
      "Epoch [91/100] Loss: 0.9315\n",
      "Epoch [91/100] Loss: 0.7856\n",
      "Epoch [91/100] Loss: 0.5547\n",
      "Epoch [91/100] Loss: 0.6017\n"
     ]
    },
    {
     "name": "stderr",
     "output_type": "stream",
     "text": [
      "218it [00:34,  6.27it/s]"
     ]
    },
    {
     "name": "stdout",
     "output_type": "stream",
     "text": [
      "Overall Acc: \t 0.597629038648\n",
      "Mean Acc : \t 0.512469010685\n",
      "FreqW Acc : \t 0.430208867185\n",
      "Mean IoU : \t 0.363178287101\n"
     ]
    },
    {
     "name": "stderr",
     "output_type": "stream",
     "text": [
      "\n"
     ]
    },
    {
     "name": "stdout",
     "output_type": "stream",
     "text": [
      "Epoch [92/100] Loss: 0.7783\n",
      "Epoch [92/100] Loss: 0.7282\n",
      "Epoch [92/100] Loss: 0.7349\n",
      "Epoch [92/100] Loss: 0.7227\n",
      "Epoch [92/100] Loss: 0.6287\n",
      "Epoch [92/100] Loss: 0.8338\n",
      "Epoch [92/100] Loss: 0.7872\n",
      "Epoch [92/100] Loss: 0.8374\n",
      "Epoch [92/100] Loss: 0.9540\n",
      "Epoch [92/100] Loss: 0.9354\n",
      "Epoch [92/100] Loss: 0.8328\n",
      "Epoch [92/100] Loss: 0.6804\n",
      "Epoch [92/100] Loss: 0.8023\n"
     ]
    },
    {
     "name": "stderr",
     "output_type": "stream",
     "text": [
      "218it [00:34,  6.29it/s]"
     ]
    },
    {
     "name": "stdout",
     "output_type": "stream",
     "text": [
      "Overall Acc: \t 0.599852689379\n",
      "Mean Acc : \t 0.50461834118\n",
      "FreqW Acc : \t 0.430772918093\n",
      "Mean IoU : \t 0.361909893671\n"
     ]
    },
    {
     "name": "stderr",
     "output_type": "stream",
     "text": [
      "\n"
     ]
    },
    {
     "name": "stdout",
     "output_type": "stream",
     "text": [
      "Epoch [93/100] Loss: 0.7393\n",
      "Epoch [93/100] Loss: 0.8531\n",
      "Epoch [93/100] Loss: 0.7497\n",
      "Epoch [93/100] Loss: 0.7731\n",
      "Epoch [93/100] Loss: 0.8598\n",
      "Epoch [93/100] Loss: 0.9867\n",
      "Epoch [93/100] Loss: 0.7845\n",
      "Epoch [93/100] Loss: 0.8282\n",
      "Epoch [93/100] Loss: 0.7424\n",
      "Epoch [93/100] Loss: 0.7201\n",
      "Epoch [93/100] Loss: 0.5676\n",
      "Epoch [93/100] Loss: 0.8239\n",
      "Epoch [93/100] Loss: 0.7363\n"
     ]
    },
    {
     "name": "stderr",
     "output_type": "stream",
     "text": [
      "218it [00:35,  6.21it/s]"
     ]
    },
    {
     "name": "stdout",
     "output_type": "stream",
     "text": [
      "Overall Acc: \t 0.598594322399\n",
      "Mean Acc : \t 0.505968987412\n",
      "FreqW Acc : \t 0.43159622867\n",
      "Mean IoU : \t 0.362033511555\n"
     ]
    },
    {
     "name": "stderr",
     "output_type": "stream",
     "text": [
      "\n"
     ]
    },
    {
     "name": "stdout",
     "output_type": "stream",
     "text": [
      "Epoch [94/100] Loss: 0.8505\n",
      "Epoch [94/100] Loss: 0.6212\n",
      "Epoch [94/100] Loss: 0.7644\n",
      "Epoch [94/100] Loss: 0.8154\n",
      "Epoch [94/100] Loss: 0.7129\n",
      "Epoch [94/100] Loss: 0.8525\n",
      "Epoch [94/100] Loss: 0.7827\n",
      "Epoch [94/100] Loss: 0.6817\n",
      "Epoch [94/100] Loss: 0.7034\n",
      "Epoch [94/100] Loss: 0.8532\n",
      "Epoch [94/100] Loss: 0.9031\n",
      "Epoch [94/100] Loss: 0.7407\n",
      "Epoch [94/100] Loss: 0.7053\n"
     ]
    },
    {
     "name": "stderr",
     "output_type": "stream",
     "text": [
      "218it [00:34,  6.27it/s]\n"
     ]
    },
    {
     "name": "stdout",
     "output_type": "stream",
     "text": [
      "Overall Acc: \t 0.596812688145\n",
      "Mean Acc : \t 0.513774944273\n",
      "FreqW Acc : \t 0.43305440214\n",
      "Mean IoU : \t 0.365889460474\n",
      "Epoch [95/100] Loss: 0.8808\n",
      "Epoch [95/100] Loss: 0.7035\n",
      "Epoch [95/100] Loss: 0.6751\n",
      "Epoch [95/100] Loss: 0.5403\n",
      "Epoch [95/100] Loss: 0.8720\n",
      "Epoch [95/100] Loss: 0.5968\n",
      "Epoch [95/100] Loss: 0.6069\n",
      "Epoch [95/100] Loss: 0.5326\n",
      "Epoch [95/100] Loss: 1.0260\n",
      "Epoch [95/100] Loss: 0.9557\n",
      "Epoch [95/100] Loss: 0.5837\n",
      "Epoch [95/100] Loss: 0.8631\n",
      "Epoch [95/100] Loss: 0.9433\n"
     ]
    },
    {
     "name": "stderr",
     "output_type": "stream",
     "text": [
      "218it [00:34,  6.27it/s]\n"
     ]
    },
    {
     "name": "stdout",
     "output_type": "stream",
     "text": [
      "Overall Acc: \t 0.596920712283\n",
      "Mean Acc : \t 0.528241262894\n",
      "FreqW Acc : \t 0.431822636044\n",
      "Mean IoU : \t 0.368255075436\n",
      "Epoch [96/100] Loss: 0.8027\n",
      "Epoch [96/100] Loss: 0.6138\n",
      "Epoch [96/100] Loss: 0.7262\n",
      "Epoch [96/100] Loss: 0.5177\n",
      "Epoch [96/100] Loss: 0.6084\n",
      "Epoch [96/100] Loss: 0.7570\n",
      "Epoch [96/100] Loss: 0.7309\n",
      "Epoch [96/100] Loss: 0.7390\n",
      "Epoch [96/100] Loss: 0.7401\n",
      "Epoch [96/100] Loss: 0.8507\n",
      "Epoch [96/100] Loss: 0.6539\n",
      "Epoch [96/100] Loss: 0.5933\n",
      "Epoch [96/100] Loss: 0.7389\n"
     ]
    },
    {
     "name": "stderr",
     "output_type": "stream",
     "text": [
      "218it [00:34,  6.34it/s]"
     ]
    },
    {
     "name": "stdout",
     "output_type": "stream",
     "text": [
      "Overall Acc: \t 0.596015963462\n",
      "Mean Acc : \t 0.516826410743\n",
      "FreqW Acc : \t 0.433063077572\n",
      "Mean IoU : \t 0.366314506219\n"
     ]
    },
    {
     "name": "stderr",
     "output_type": "stream",
     "text": [
      "\n"
     ]
    },
    {
     "name": "stdout",
     "output_type": "stream",
     "text": [
      "Epoch [97/100] Loss: 0.6510\n",
      "Epoch [97/100] Loss: 0.6668\n",
      "Epoch [97/100] Loss: 0.7833\n",
      "Epoch [97/100] Loss: 0.8466\n",
      "Epoch [97/100] Loss: 0.8892\n",
      "Epoch [97/100] Loss: 0.7643\n",
      "Epoch [97/100] Loss: 1.0552\n",
      "Epoch [97/100] Loss: 0.7032\n",
      "Epoch [97/100] Loss: 0.7647\n",
      "Epoch [97/100] Loss: 0.5332\n",
      "Epoch [97/100] Loss: 0.5860\n",
      "Epoch [97/100] Loss: 0.5272\n",
      "Epoch [97/100] Loss: 0.6263\n"
     ]
    },
    {
     "name": "stderr",
     "output_type": "stream",
     "text": [
      "218it [00:34,  6.25it/s]"
     ]
    },
    {
     "name": "stdout",
     "output_type": "stream",
     "text": [
      "Overall Acc: \t 0.599437087873\n",
      "Mean Acc : \t 0.511328062314\n",
      "FreqW Acc : \t 0.431814170762\n",
      "Mean IoU : \t 0.364750011742\n"
     ]
    },
    {
     "name": "stderr",
     "output_type": "stream",
     "text": [
      "\n"
     ]
    },
    {
     "name": "stdout",
     "output_type": "stream",
     "text": [
      "Epoch [98/100] Loss: 0.8802\n",
      "Epoch [98/100] Loss: 0.8599\n",
      "Epoch [98/100] Loss: 0.7147\n",
      "Epoch [98/100] Loss: 0.6506\n",
      "Epoch [98/100] Loss: 0.8866\n",
      "Epoch [98/100] Loss: 0.8117\n",
      "Epoch [98/100] Loss: 0.5252\n",
      "Epoch [98/100] Loss: 0.8143\n",
      "Epoch [98/100] Loss: 0.5451\n",
      "Epoch [98/100] Loss: 0.8418\n",
      "Epoch [98/100] Loss: 0.7540\n",
      "Epoch [98/100] Loss: 0.9082\n",
      "Epoch [98/100] Loss: 0.6577\n"
     ]
    },
    {
     "name": "stderr",
     "output_type": "stream",
     "text": [
      "218it [00:34,  6.26it/s]"
     ]
    },
    {
     "name": "stdout",
     "output_type": "stream",
     "text": [
      "Overall Acc: \t 0.60017302378\n",
      "Mean Acc : \t 0.500775628103\n",
      "FreqW Acc : \t 0.430221878871\n",
      "Mean IoU : \t 0.36296428232\n"
     ]
    },
    {
     "name": "stderr",
     "output_type": "stream",
     "text": [
      "\n"
     ]
    },
    {
     "name": "stdout",
     "output_type": "stream",
     "text": [
      "Epoch [99/100] Loss: 0.5614\n",
      "Epoch [99/100] Loss: 0.8684\n",
      "Epoch [99/100] Loss: 0.9107\n",
      "Epoch [99/100] Loss: 0.6800\n",
      "Epoch [99/100] Loss: 0.4413\n",
      "Epoch [99/100] Loss: 0.6325\n",
      "Epoch [99/100] Loss: 0.9161\n",
      "Epoch [99/100] Loss: 0.8230\n",
      "Epoch [99/100] Loss: 0.7779\n",
      "Epoch [99/100] Loss: 0.7190\n",
      "Epoch [99/100] Loss: 0.6076\n",
      "Epoch [99/100] Loss: 0.6057\n",
      "Epoch [99/100] Loss: 0.6189\n"
     ]
    },
    {
     "name": "stderr",
     "output_type": "stream",
     "text": [
      "218it [00:34,  6.25it/s]"
     ]
    },
    {
     "name": "stdout",
     "output_type": "stream",
     "text": [
      "Overall Acc: \t 0.599800715549\n",
      "Mean Acc : \t 0.505951961136\n",
      "FreqW Acc : \t 0.430052386071\n",
      "Mean IoU : \t 0.363473902171\n"
     ]
    },
    {
     "name": "stderr",
     "output_type": "stream",
     "text": [
      "\n"
     ]
    },
    {
     "name": "stdout",
     "output_type": "stream",
     "text": [
      "Epoch [100/100] Loss: 0.7881\n",
      "Epoch [100/100] Loss: 0.6669\n",
      "Epoch [100/100] Loss: 0.7951\n",
      "Epoch [100/100] Loss: 0.7428\n",
      "Epoch [100/100] Loss: 0.7578\n",
      "Epoch [100/100] Loss: 0.4829\n",
      "Epoch [100/100] Loss: 0.5849\n",
      "Epoch [100/100] Loss: 0.7058\n",
      "Epoch [100/100] Loss: 0.4504\n",
      "Epoch [100/100] Loss: 0.7626\n",
      "Epoch [100/100] Loss: 0.6827\n",
      "Epoch [100/100] Loss: 0.4132\n",
      "Epoch [100/100] Loss: 0.7904\n"
     ]
    },
    {
     "name": "stderr",
     "output_type": "stream",
     "text": [
      "218it [00:35,  6.19it/s]\n"
     ]
    },
    {
     "name": "stdout",
     "output_type": "stream",
     "text": [
      "Overall Acc: \t 0.598664035622\n",
      "Mean Acc : \t 0.512863527706\n",
      "FreqW Acc : \t 0.432337197094\n",
      "Mean IoU : \t 0.365292490432\n"
     ]
    }
   ],
   "source": [
    "best_iou = -100.0 \n",
    "for epoch in range(args.n_epoch):\n",
    "    model.train()\n",
    "    for i, (color_imgs, depth_imgs, label_imgs) in enumerate(trainloader):\n",
    "        images = Variable(color_imgs.cuda())\n",
    "        depth_images = Variable(depth_imgs.cuda())\n",
    "        labels = Variable(label_imgs.cuda())\n",
    "\n",
    "        optimizer.zero_grad()\n",
    "        outputs = model(images)\n",
    "\n",
    "        loss = loss_fn(input=outputs, target=labels)\n",
    "\n",
    "        loss.backward()\n",
    "        optimizer.step()\n",
    "\n",
    "        if args.visdom:\n",
    "            vis.line(\n",
    "                X=torch.ones((1, 1)).cpu() * i,\n",
    "                Y=torch.Tensor([loss.data[0]]).unsqueeze(0).cpu(),\n",
    "                win=loss_window,\n",
    "                update='append')\n",
    "\n",
    "        if (i+1) % 20 == 0:\n",
    "            print(\"Epoch [%d/%d] Loss: %.4f\" % (epoch+1, args.n_epoch, loss.data[0]))\n",
    "\n",
    "    model.eval()\n",
    "    for i_val, (color_images_val, depth_images_val, label_images_val) in tqdm(enumerate(valloader)):\n",
    "        color_images_val = Variable(color_images_val.cuda(), volatile=True)\n",
    "        depth_images_val = Variable(depth_images_val.cuda(), volatile=True)\n",
    "        label_images_val = Variable(label_images_val.cuda(), volatile=True)\n",
    "\n",
    "        outputs = model(color_images_val)\n",
    "        pred = outputs.data.max(1)[1].cpu().numpy()\n",
    "        gt = label_images_val.data.cpu().numpy()\n",
    "        running_metrics.update(gt, pred)\n",
    "\n",
    "    score, class_iou = running_metrics.get_scores()\n",
    "    for k, v in score.items():\n",
    "        print(k, v)\n",
    "    running_metrics.reset()\n",
    "\n",
    "    if score['Mean IoU : \\t'] >= best_iou:\n",
    "        best_iou = score['Mean IoU : \\t']\n",
    "        state = {'epoch': epoch+1,\n",
    "                 'model_state': model.state_dict(),\n",
    "                 'optimizer_state' : optimizer.state_dict(),}\n",
    "        torch.save(state, \"{}_{}_best_model.pkl\".format(args.arch, 'NYUDv2'))"
   ]
  },
  {
   "cell_type": "markdown",
   "metadata": {},
   "source": [
    "# Training.. NYUDv2 FCN8s"
   ]
  },
  {
   "cell_type": "code",
   "execution_count": null,
   "metadata": {},
   "outputs": [],
   "source": []
  }
 ],
 "metadata": {
  "kernelspec": {
   "display_name": "Python [conda env:pytorch]",
   "language": "python",
   "name": "conda-env-pytorch-py"
  },
  "language_info": {
   "codemirror_mode": {
    "name": "ipython",
    "version": 3
   },
   "file_extension": ".py",
   "mimetype": "text/x-python",
   "name": "python",
   "nbconvert_exporter": "python",
   "pygments_lexer": "ipython3",
   "version": "3.6.3"
  }
 },
 "nbformat": 4,
 "nbformat_minor": 2
}
