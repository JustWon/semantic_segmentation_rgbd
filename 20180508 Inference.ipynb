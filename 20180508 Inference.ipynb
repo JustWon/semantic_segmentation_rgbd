{
 "cells": [
  {
   "cell_type": "code",
   "execution_count": 1,
   "metadata": {},
   "outputs": [],
   "source": [
    "%matplotlib inline\n",
    "import os\n",
    "import collections\n",
    "import torch\n",
    "import torchvision\n",
    "import numpy as np\n",
    "import scipy.misc as m\n",
    "import scipy.io as io\n",
    "import matplotlib.pyplot as plt\n",
    "\n",
    "from SUNRGBDLoader import *\n",
    "\n",
    "os.environ['CUDA_VISIBLE_DEVICES'] = '3'"
   ]
  },
  {
   "cell_type": "code",
   "execution_count": 51,
   "metadata": {},
   "outputs": [],
   "source": [
    "import sys, os\n",
    "import torch\n",
    "import visdom\n",
    "import argparse\n",
    "import timeit\n",
    "import numpy as np\n",
    "import scipy.misc as misc\n",
    "import torch.nn as nn\n",
    "import torch.nn.functional as F\n",
    "import torchvision.models as models\n",
    "\n",
    "from torch.autograd import Variable\n",
    "from torch.utils import data\n",
    "from tqdm import tqdm\n",
    "\n",
    "from ptsemseg.models import get_model\n",
    "from ptsemseg.loader import get_loader, get_data_path\n",
    "from ptsemseg.utils import convert_state_dict\n",
    "\n",
    "def test(args):\n",
    "    model_file_name = os.path.split(args.model_path)[1]\n",
    "    model_name = model_file_name[:model_file_name.find('_')]\n",
    "    \n",
    "    img = misc.imread(args.color_img_path)\n",
    "\n",
    "    data_path = '/home/dongwonshin/Desktop/Datasets/SUNRGBD/SUNRGBD(meta)/'\n",
    "    loader = SUNRGBDLoader(data_path, is_transform=True, img_norm=args.img_norm)\n",
    "    n_classes = loader.n_classes\n",
    "    \n",
    "    resized_img = misc.imresize(img, (loader.img_size[0], loader.img_size[1]), interp='bicubic')\n",
    "\n",
    "    orig_size = img.shape[:-1]\n",
    "    if model_name in ['pspnet', 'icnet', 'icnetBN']:\n",
    "        img = misc.imresize(img, (orig_size[0]//2*2+1, orig_size[1]//2*2+1)) # uint8 with RGB mode, resize width and height which are odd numbers\n",
    "    else:\n",
    "        img = misc.imresize(img, (loader.img_size[0], loader.img_size[1]))\n",
    "    img = img[:, :, ::-1]\n",
    "    img = img.astype(np.float64)\n",
    "    img -= loader.mean\n",
    "    if args.img_norm:\n",
    "        img = img.astype(float) / 255.0\n",
    "    # NHWC -> NCHW\n",
    "    img = img.transpose(2, 0, 1)\n",
    "    img = np.expand_dims(img, 0)\n",
    "    img = torch.from_numpy(img).float()\n",
    "\n",
    "    # Setup Model\n",
    "    model = get_model(model_name, n_classes, version=args.dataset)\n",
    "    state = convert_state_dict(torch.load(args.model_path)['model_state'])\n",
    "    model.load_state_dict(state)\n",
    "    model.eval()\n",
    "\n",
    "    if torch.cuda.is_available():\n",
    "        model.cuda(0)\n",
    "        images = Variable(img.cuda(0), volatile=True)\n",
    "    else:\n",
    "        images = Variable(img, volatile=True)\n",
    "\n",
    "    outputs = model(images)\n",
    "    #outputs = F.softmax(outputs, dim=1)\n",
    "\n",
    "    pred = np.squeeze(outputs.data.max(1)[1].cpu().numpy(), axis=0)\n",
    "    if model_name in ['pspnet', 'icnet', 'icnetBN']:\n",
    "        pred = pred.astype(np.float32)\n",
    "        pred = misc.imresize(pred, orig_size, 'nearest', mode='F') # float32 with F mode, resize back to orig_size\n",
    "    decoded = loader.decode_segmap(pred)\n",
    "    print('Classes found: ', np.unique(pred))\n",
    "    misc.imsave(args.out_path, decoded)\n",
    "    plt.imshow(decoded)\n",
    "    print(\"Segmentation Mask Saved at: {}\".format(args.out_path))"
   ]
  },
  {
   "cell_type": "code",
   "execution_count": 47,
   "metadata": {},
   "outputs": [],
   "source": [
    "def transform(color_img, depth_img):\n",
    "    color_img = m.imresize(color_img, (480, 640)) # uint8 with RGB mode\n",
    "    color_img = color_img[:, :, ::-1] # RGB -> BGR\n",
    "    color_img = color_img.astype(np.float64)\n",
    "    color_img -= np.array([104.00699, 116.66877, 122.67892])\n",
    "    color_img = color_img.astype(float) / 255.0\n",
    "    # NHWC -> NCHW\n",
    "    color_img = color_img.transpose(2, 0, 1)\n",
    "    color_img = np.expand_dims(color_img, 0)\n",
    "\n",
    "    depth_img = m.imresize(depth_img, (480,640))\n",
    "    depth_img = depth_img.astype(np.float64)\n",
    "    depth_img = depth_img[np.newaxis,:]\n",
    "    depth_img -= 123.901\n",
    "    depth_img = depth_img.astype(float) / 255.0\n",
    "    depth_img = np.expand_dims(depth_img, 0)\n",
    "\n",
    "    color_img = torch.from_numpy(color_img).float()\n",
    "    depth_img = torch.from_numpy(depth_img).float()\n",
    "    \n",
    "    return color_img, depth_img\n",
    "    \n",
    "def rgbd_test(args):\n",
    "    model_file_name = os.path.split(args.model_path)[1]\n",
    "    model_name = 'fcn8s_with_rgbd'\n",
    "\n",
    "    color_img = misc.imread(args.color_img_path)\n",
    "    depth_img = misc.imread(args.depth_img_path)\n",
    "\n",
    "    data_path = '/home/dongwonshin/Desktop/Datasets/SUNRGBD/SUNRGBD(meta)/'\n",
    "    loader = SUNRGBDLoader(data_path, is_transform=True, img_norm=args.img_norm)\n",
    "    n_classes = loader.n_classes\n",
    "\n",
    "    color_img, depth_img = transform(color_img, depth_img)\n",
    "\n",
    "    # Setup Model\n",
    "    model = get_model(model_name, n_classes, version=args.dataset)\n",
    "    state = convert_state_dict(torch.load(args.model_path)['model_state'])\n",
    "    model.load_state_dict(state)\n",
    "    model.eval()\n",
    "\n",
    "    model.cuda()\n",
    "    color_img = Variable(color_img.cuda(), volatile=True)\n",
    "    depth_img = Variable(depth_img.cuda(), volatile=True)\n",
    "\n",
    "    outputs = model(color_img,depth_img)\n",
    "    #outputs = F.softmax(outputs, dim=1)\n",
    "\n",
    "    pred = np.squeeze(outputs.data.max(1)[1].cpu().numpy(), axis=0)\n",
    "    decoded = loader.decode_segmap(pred)\n",
    "    print('Classes found: ', np.unique(pred))\n",
    "    misc.imsave(args.out_path, decoded)\n",
    "    plt.imshow(decoded)\n",
    "    print(\"Segmentation Mask Saved at: {}\".format(args.out_path))"
   ]
  },
  {
   "cell_type": "code",
   "execution_count": 43,
   "metadata": {},
   "outputs": [
    {
     "data": {
      "text/plain": [
       "_StoreAction(option_strings=['--out_path'], dest='out_path', nargs='?', const=None, default=None, type=<class 'str'>, choices=None, help='Path of the output segmap', metavar=None)"
      ]
     },
     "execution_count": 43,
     "metadata": {},
     "output_type": "execute_result"
    }
   ],
   "source": [
    "parser = argparse.ArgumentParser(description='Params')\n",
    "parser.add_argument('--model_path', nargs='?', type=str, default='fcn8s_pascal_1_26.pkl', \n",
    "                    help='Path to the saved model')\n",
    "parser.add_argument('--dataset', nargs='?', type=str, default='pascal', \n",
    "                    help='Dataset to use [\\'pascal, camvid, ade20k etc\\']')\n",
    "\n",
    "parser.add_argument('--img_norm', dest='img_norm', action='store_true', \n",
    "                    help='Enable input image scales normalization [0, 1] | True by default')\n",
    "parser.add_argument('--no-img_norm', dest='img_norm', action='store_false', \n",
    "                    help='Disable input image scales normalization [0, 1] | True by default')\n",
    "parser.set_defaults(img_norm=True)\n",
    "\n",
    "parser.add_argument('--dcrf', dest='dcrf', action='store_true', \n",
    "                    help='Enable DenseCRF based post-processing | False by default')\n",
    "parser.add_argument('--no-dcrf', dest='dcrf', action='store_false', \n",
    "                    help='Disable DenseCRF based post-processing | False by default')\n",
    "parser.set_defaults(dcrf=False)\n",
    "\n",
    "parser.add_argument('--color_img_path', nargs='?', type=str, default=None, help='Path of the input color image')\n",
    "parser.add_argument('--depth_img_path', nargs='?', type=str, default=None, help='Path of the input depth image')\n",
    "parser.add_argument('--out_path', nargs='?', type=str, default=None, help='Path of the output segmap')"
   ]
  },
  {
   "cell_type": "code",
   "execution_count": 60,
   "metadata": {},
   "outputs": [
    {
     "name": "stderr",
     "output_type": "stream",
     "text": [
      "/home/dongwonshin/.conda/envs/pytorch/lib/python3.6/site-packages/torch/nn/functional.py:1462: UserWarning: nn.functional.upsample_bilinear is deprecated. Use nn.functional.upsample instead.\n",
      "  warnings.warn(\"nn.functional.upsample_bilinear is deprecated. Use nn.functional.upsample instead.\")\n"
     ]
    },
    {
     "name": "stdout",
     "output_type": "stream",
     "text": [
      "Classes found:  [ 0  1  3  5  6  7 12]\n",
      "Segmentation Mask Saved at: output.png\n"
     ]
    },
    {
     "data": {
      "image/png": "[encoded data removed]",
      "text/plain": [
       "<matplotlib.figure.Figure at 0x7f0a4874bba8>"
      ]
     },
     "metadata": {},
     "output_type": "display_data"
    }
   ],
   "source": [
    "args = parser.parse_args('--model_path fcn8s_SUNRGBD_best_model.pkl --color_img_path test_color.jpg --out_path output.png'.split(' '))\n",
    "test(args)"
   ]
  },
  {
   "cell_type": "code",
   "execution_count": 61,
   "metadata": {},
   "outputs": [
    {
     "name": "stderr",
     "output_type": "stream",
     "text": [
      "/home/dongwonshin/.conda/envs/pytorch/lib/python3.6/site-packages/torch/nn/functional.py:1462: UserWarning: nn.functional.upsample_bilinear is deprecated. Use nn.functional.upsample instead.\n",
      "  warnings.warn(\"nn.functional.upsample_bilinear is deprecated. Use nn.functional.upsample instead.\")\n"
     ]
    },
    {
     "name": "stdout",
     "output_type": "stream",
     "text": [
      "Classes found:  [ 0  1  3  4  5  6  7 12]\n",
      "Segmentation Mask Saved at: output.png\n"
     ]
    },
    {
     "data": {
      "image/png": "[encoded data removed]",
      "text/plain": [
       "<matplotlib.figure.Figure at 0x7f0a48a13048>"
      ]
     },
     "metadata": {},
     "output_type": "display_data"
    }
   ],
   "source": [
    "args = parser.parse_args('--model_path fcn8s_with_rgbd_SUNRGBD_best_model.pkl --color_img_path test_color.jpg --depth_img_path test_depth.png --out_path output.png'.split(' '))\n",
    "rgbd_test(args)"
   ]
  },
  {
   "cell_type": "code",
   "execution_count": null,
   "metadata": {},
   "outputs": [],
   "source": []
  }
 ],
 "metadata": {
  "kernelspec": {
   "display_name": "Python [conda env:pytorch]",
   "language": "python",
   "name": "conda-env-pytorch-py"
  },
  "language_info": {
   "codemirror_mode": {
    "name": "ipython",
    "version": 3
   },
   "file_extension": ".py",
   "mimetype": "text/x-python",
   "name": "python",
   "nbconvert_exporter": "python",
   "pygments_lexer": "ipython3",
   "version": "3.6.3"
  }
 },
 "nbformat": 4,
 "nbformat_minor": 2
}
