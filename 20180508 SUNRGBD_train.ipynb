{
 "cells": [
  {
   "cell_type": "code",
   "execution_count": 1,
   "metadata": {},
   "outputs": [],
   "source": [
    "%matplotlib inline\n",
    "import os\n",
    "import collections\n",
    "import torch\n",
    "import torchvision\n",
    "import numpy as np\n",
    "import scipy.misc as m\n",
    "import scipy.io as io\n",
    "import matplotlib.pyplot as plt\n",
    "\n",
    "from SUNRGBDLoader import *\n",
    "\n",
    "os.environ['CUDA_VISIBLE_DEVICES'] = '1'\n",
    "data_path = '/home/dongwonshin/Desktop/Datasets/SUNRGBD/SUNRGBD(light)/'"
   ]
  },
  {
   "cell_type": "code",
   "execution_count": 2,
   "metadata": {},
   "outputs": [],
   "source": [
    "import sys, os\n",
    "import torch\n",
    "import visdom\n",
    "import argparse\n",
    "import numpy as np\n",
    "import torch.nn as nn\n",
    "import torch.nn.functional as F\n",
    "import torchvision.models as models\n",
    "\n",
    "from torch.autograd import Variable\n",
    "from torch.utils import data\n",
    "from tqdm import tqdm\n",
    "\n",
    "from ptsemseg.models import get_model\n",
    "from ptsemseg.loader import get_loader, get_data_path\n",
    "from ptsemseg.metrics import runningScore\n",
    "from ptsemseg.loss import *\n",
    "from ptsemseg.augmentations import *\n",
    "\n",
    "\n",
    "parser = argparse.ArgumentParser(description='Hyperparams')\n",
    "parser.add_argument('--arch', nargs='?', type=str, default='fcn8s', \n",
    "                    help='Architecture to use [\\'fcn8s, unet, segnet etc\\']')\n",
    "parser.add_argument('--img_rows', nargs='?', type=int, default=256, \n",
    "                    help='Height of the input image')\n",
    "parser.add_argument('--img_cols', nargs='?', type=int, default=256, \n",
    "                    help='Width of the input image')\n",
    "\n",
    "parser.add_argument('--img_norm', dest='img_norm', action='store_true', \n",
    "                    help='Enable input image scales normalization [0, 1] | True by default')\n",
    "parser.add_argument('--no-img_norm', dest='img_norm', action='store_false', \n",
    "                    help='Disable input image scales normalization [0, 1] | True by default')\n",
    "parser.set_defaults(img_norm=True)\n",
    "\n",
    "parser.add_argument('--n_epoch', nargs='?', type=int, default=100, \n",
    "                    help='# of the epochs')\n",
    "parser.add_argument('--batch_size', nargs='?', type=int, default=1, \n",
    "                    help='Batch Size')\n",
    "parser.add_argument('--l_rate', nargs='?', type=float, default=1e-5, \n",
    "                    help='Learning Rate')\n",
    "parser.add_argument('--feature_scale', nargs='?', type=int, default=1, \n",
    "                    help='Divider for # of features to use')\n",
    "parser.add_argument('--resume', nargs='?', type=str, default=None,    \n",
    "                    help='Path to previous saved model to restart from')\n",
    "\n",
    "parser.add_argument('--visdom', dest='visdom', action='store_true', \n",
    "                    help='Enable visualization(s) on visdom | False by default')\n",
    "parser.add_argument('--no-visdom', dest='visdom', action='store_false', \n",
    "                    help='Disable visualization(s) on visdom | False by default')\n",
    "parser.set_defaults(visdom=False)\n"
   ]
  },
  {
   "cell_type": "code",
   "execution_count": 3,
   "metadata": {},
   "outputs": [],
   "source": [
    "args = parser.parse_args('--arch fcn8s --batch_size 3'.split(' '))\n",
    "\n",
    "# Setup Augmentations\n",
    "data_aug= Compose([RandomRotate(10),                                        \n",
    "                   RandomHorizontallyFlip()])\n",
    "\n",
    "# Setup Dataloader\n",
    "t_loader = SUNRGBDLoader(data_path, is_transform=True)\n",
    "v_loader = SUNRGBDLoader(data_path, is_transform=True, split='val')\n",
    "\n",
    "n_classes = t_loader.n_classes\n",
    "trainloader = data.DataLoader(t_loader, batch_size=args.batch_size, num_workers=16, shuffle=True)\n",
    "valloader = data.DataLoader(v_loader, batch_size=args.batch_size, num_workers=16)\n",
    "\n",
    "# Setup Metrics\n",
    "running_metrics = runningScore(n_classes)\n",
    "\n",
    "# Setup visdom for visualization\n",
    "if args.visdom:\n",
    "    vis = visdom.Visdom()\n",
    "\n",
    "    loss_window = vis.line(X=torch.zeros((1,)).cpu(),\n",
    "                       Y=torch.zeros((1)).cpu(),\n",
    "                       opts=dict(xlabel='minibatches',\n",
    "                                 ylabel='Loss',\n",
    "                                 title='Training Loss',\n",
    "                                 legend=['Loss']))\n",
    "\n",
    "# Setup Model\n",
    "model = get_model(args.arch, n_classes)\n",
    "\n",
    "model = torch.nn.DataParallel(model, device_ids=range(torch.cuda.device_count()))\n",
    "model.cuda()\n",
    "\n",
    "# Check if model has custom optimizer / loss\n",
    "if hasattr(model.module, 'optimizer'):\n",
    "    optimizer = model.module.optimizer\n",
    "else:\n",
    "    optimizer = torch.optim.SGD(model.parameters(), lr=args.l_rate, momentum=0.99, weight_decay=5e-4)\n",
    "\n",
    "if hasattr(model.module, 'loss'):\n",
    "    print('Using custom loss')\n",
    "    loss_fn = model.module.loss\n",
    "else:\n",
    "    loss_fn = cross_entropy2d\n",
    "\n",
    "if args.resume is not None:                                         \n",
    "    if os.path.isfile(args.resume):\n",
    "        print(\"Loading model and optimizer from checkpoint '{}'\".format(args.resume))\n",
    "        checkpoint = torch.load(args.resume)\n",
    "        model.load_state_dict(checkpoint['model_state'])\n",
    "        optimizer.load_state_dict(checkpoint['optimizer_state'])\n",
    "        print(\"Loaded checkpoint '{}' (epoch {})\"                    \n",
    "              .format(args.resume, checkpoint['epoch']))\n",
    "    else:\n",
    "        print(\"No checkpoint found at '{}'\".format(args.resume)) \n"
   ]
  },
  {
   "cell_type": "markdown",
   "metadata": {},
   "source": [
    "# Training"
   ]
  },
  {
   "cell_type": "code",
   "execution_count": 4,
   "metadata": {},
   "outputs": [
    {
     "name": "stderr",
     "output_type": "stream",
     "text": [
      "/home/dongwonshin/.conda/envs/pytorch/lib/python3.6/site-packages/torch/nn/functional.py:1462: UserWarning: nn.functional.upsample_bilinear is deprecated. Use nn.functional.upsample instead.\n",
      "  warnings.warn(\"nn.functional.upsample_bilinear is deprecated. Use nn.functional.upsample instead.\")\n",
      "34it [00:05,  6.53it/s]\n",
      "/home/dongwonshin/Desktop/pytorch_dataloader/ptsemseg/metrics.py:32: RuntimeWarning: invalid value encountered in true_divide\n",
      "  acc_cls = np.diag(hist) / hist.sum(axis=1)\n"
     ]
    },
    {
     "name": "stdout",
     "output_type": "stream",
     "text": [
      "Overall Acc: \t 0.0803662760417\n",
      "Mean Acc : \t 0.0305001995634\n",
      "FreqW Acc : \t 0.045001084247\n",
      "Mean IoU : \t 0.00904644702284\n"
     ]
    },
    {
     "name": "stderr",
     "output_type": "stream",
     "text": [
      "34it [00:05,  6.48it/s]\n"
     ]
    },
    {
     "name": "stdout",
     "output_type": "stream",
     "text": [
      "Overall Acc: \t 0.250760709635\n",
      "Mean Acc : \t 0.031542331407\n",
      "FreqW Acc : \t 0.0901940687861\n",
      "Mean IoU : \t 0.0113596419677\n"
     ]
    },
    {
     "name": "stderr",
     "output_type": "stream",
     "text": [
      "34it [00:05,  6.45it/s]\n"
     ]
    },
    {
     "name": "stdout",
     "output_type": "stream",
     "text": [
      "Overall Acc: \t 0.283253515625\n",
      "Mean Acc : \t 0.034946218269\n",
      "FreqW Acc : \t 0.118222232513\n",
      "Mean IoU : \t 0.0142712547629\n"
     ]
    },
    {
     "name": "stderr",
     "output_type": "stream",
     "text": [
      "34it [00:05,  6.40it/s]\n"
     ]
    },
    {
     "name": "stdout",
     "output_type": "stream",
     "text": [
      "Overall Acc: \t 0.290424186198\n",
      "Mean Acc : \t 0.0467739491853\n",
      "FreqW Acc : \t 0.141056101205\n",
      "Mean IoU : \t 0.0197791270722\n"
     ]
    },
    {
     "name": "stderr",
     "output_type": "stream",
     "text": [
      "34it [00:05,  6.15it/s]\n"
     ]
    },
    {
     "name": "stdout",
     "output_type": "stream",
     "text": [
      "Overall Acc: \t 0.306995898438\n",
      "Mean Acc : \t 0.0479300288719\n",
      "FreqW Acc : \t 0.151200128425\n",
      "Mean IoU : \t 0.0208737220051\n"
     ]
    },
    {
     "name": "stderr",
     "output_type": "stream",
     "text": [
      "34it [00:05,  6.31it/s]\n"
     ]
    },
    {
     "name": "stdout",
     "output_type": "stream",
     "text": [
      "Overall Acc: \t 0.334046354167\n",
      "Mean Acc : \t 0.0461630336062\n",
      "FreqW Acc : \t 0.171481237848\n",
      "Mean IoU : \t 0.022972971074\n"
     ]
    },
    {
     "name": "stderr",
     "output_type": "stream",
     "text": [
      "34it [00:05,  6.04it/s]\n"
     ]
    },
    {
     "name": "stdout",
     "output_type": "stream",
     "text": [
      "Overall Acc: \t 0.357367578125\n",
      "Mean Acc : \t 0.0516113899178\n",
      "FreqW Acc : \t 0.195391262636\n",
      "Mean IoU : \t 0.0267318031892\n"
     ]
    },
    {
     "name": "stderr",
     "output_type": "stream",
     "text": [
      "34it [00:05,  6.17it/s]\n"
     ]
    },
    {
     "name": "stdout",
     "output_type": "stream",
     "text": [
      "Overall Acc: \t 0.370965852865\n",
      "Mean Acc : \t 0.0581189588925\n",
      "FreqW Acc : \t 0.204139175078\n",
      "Mean IoU : \t 0.0289127798134\n"
     ]
    },
    {
     "name": "stderr",
     "output_type": "stream",
     "text": [
      "34it [00:05,  6.15it/s]\n"
     ]
    },
    {
     "name": "stdout",
     "output_type": "stream",
     "text": [
      "Overall Acc: \t 0.378621191406\n",
      "Mean Acc : \t 0.0594246485948\n",
      "FreqW Acc : \t 0.210395390375\n",
      "Mean IoU : \t 0.0300564709784\n"
     ]
    },
    {
     "name": "stderr",
     "output_type": "stream",
     "text": [
      "34it [00:05,  6.15it/s]\n"
     ]
    },
    {
     "name": "stdout",
     "output_type": "stream",
     "text": [
      "Overall Acc: \t 0.387503417969\n",
      "Mean Acc : \t 0.0587412556566\n",
      "FreqW Acc : \t 0.218047270754\n",
      "Mean IoU : \t 0.0307257721436\n"
     ]
    },
    {
     "name": "stderr",
     "output_type": "stream",
     "text": [
      "34it [00:05,  6.24it/s]\n",
      "/home/dongwonshin/Desktop/pytorch_dataloader/ptsemseg/metrics.py:34: RuntimeWarning: invalid value encountered in true_divide\n",
      "  iu = np.diag(hist) / (hist.sum(axis=1) + hist.sum(axis=0) - np.diag(hist))\n"
     ]
    },
    {
     "name": "stdout",
     "output_type": "stream",
     "text": [
      "Overall Acc: \t 0.391679166667\n",
      "Mean Acc : \t 0.0588258413606\n",
      "FreqW Acc : \t 0.219801211493\n",
      "Mean IoU : \t 0.0317352036509\n"
     ]
    },
    {
     "name": "stderr",
     "output_type": "stream",
     "text": [
      "34it [00:05,  6.11it/s]\n"
     ]
    },
    {
     "name": "stdout",
     "output_type": "stream",
     "text": [
      "Overall Acc: \t 0.397583138021\n",
      "Mean Acc : \t 0.0610960383203\n",
      "FreqW Acc : \t 0.223580021809\n",
      "Mean IoU : \t 0.0319482786061\n"
     ]
    },
    {
     "name": "stderr",
     "output_type": "stream",
     "text": [
      "34it [00:05,  6.01it/s]\n"
     ]
    },
    {
     "name": "stdout",
     "output_type": "stream",
     "text": [
      "Overall Acc: \t 0.400161360677\n",
      "Mean Acc : \t 0.0628360616319\n",
      "FreqW Acc : \t 0.224428480032\n",
      "Mean IoU : \t 0.0326963349915\n"
     ]
    },
    {
     "name": "stderr",
     "output_type": "stream",
     "text": [
      "34it [00:05,  6.24it/s]\n"
     ]
    },
    {
     "name": "stdout",
     "output_type": "stream",
     "text": [
      "Overall Acc: \t 0.40207718099\n",
      "Mean Acc : \t 0.0631921015629\n",
      "FreqW Acc : \t 0.228064572968\n",
      "Mean IoU : \t 0.0343549236348\n"
     ]
    },
    {
     "name": "stderr",
     "output_type": "stream",
     "text": [
      "34it [00:05,  6.01it/s]\n"
     ]
    },
    {
     "name": "stdout",
     "output_type": "stream",
     "text": [
      "Overall Acc: \t 0.404901367188\n",
      "Mean Acc : \t 0.0638617561853\n",
      "FreqW Acc : \t 0.230610874036\n",
      "Mean IoU : \t 0.0350332562115\n"
     ]
    },
    {
     "name": "stderr",
     "output_type": "stream",
     "text": [
      "34it [00:05,  6.24it/s]\n"
     ]
    },
    {
     "name": "stdout",
     "output_type": "stream",
     "text": [
      "Overall Acc: \t 0.408709635417\n",
      "Mean Acc : \t 0.0656577369918\n",
      "FreqW Acc : \t 0.231991375598\n",
      "Mean IoU : \t 0.0367472499084\n"
     ]
    },
    {
     "name": "stderr",
     "output_type": "stream",
     "text": [
      "34it [00:05,  6.11it/s]\n"
     ]
    },
    {
     "name": "stdout",
     "output_type": "stream",
     "text": [
      "Overall Acc: \t 0.409528808594\n",
      "Mean Acc : \t 0.066435506879\n",
      "FreqW Acc : \t 0.231920890158\n",
      "Mean IoU : \t 0.0370165806437\n"
     ]
    },
    {
     "name": "stderr",
     "output_type": "stream",
     "text": [
      "34it [00:05,  6.21it/s]\n"
     ]
    },
    {
     "name": "stdout",
     "output_type": "stream",
     "text": [
      "Overall Acc: \t 0.412703938802\n",
      "Mean Acc : \t 0.065708037172\n",
      "FreqW Acc : \t 0.238492457672\n",
      "Mean IoU : \t 0.0389056935404\n"
     ]
    },
    {
     "name": "stderr",
     "output_type": "stream",
     "text": [
      "34it [00:05,  6.17it/s]\n"
     ]
    },
    {
     "name": "stdout",
     "output_type": "stream",
     "text": [
      "Overall Acc: \t 0.414692089844\n",
      "Mean Acc : \t 0.0664788371451\n",
      "FreqW Acc : \t 0.240873540276\n",
      "Mean IoU : \t 0.0396959975102\n"
     ]
    },
    {
     "name": "stderr",
     "output_type": "stream",
     "text": [
      "34it [00:05,  6.11it/s]\n"
     ]
    },
    {
     "name": "stdout",
     "output_type": "stream",
     "text": [
      "Overall Acc: \t 0.414001660156\n",
      "Mean Acc : \t 0.068220894009\n",
      "FreqW Acc : \t 0.238559239645\n",
      "Mean IoU : \t 0.0401005507663\n"
     ]
    },
    {
     "name": "stderr",
     "output_type": "stream",
     "text": [
      "34it [00:05,  6.13it/s]\n"
     ]
    },
    {
     "name": "stdout",
     "output_type": "stream",
     "text": [
      "Overall Acc: \t 0.418389420573\n",
      "Mean Acc : \t 0.0676176366129\n",
      "FreqW Acc : \t 0.243504030268\n",
      "Mean IoU : \t 0.0404864253404\n"
     ]
    },
    {
     "name": "stderr",
     "output_type": "stream",
     "text": [
      "34it [00:05,  6.04it/s]"
     ]
    },
    {
     "name": "stdout",
     "output_type": "stream",
     "text": [
      "Overall Acc: \t 0.418418294271\n",
      "Mean Acc : \t 0.0679131933701\n",
      "FreqW Acc : \t 0.241692728889\n",
      "Mean IoU : \t 0.040349223795\n"
     ]
    },
    {
     "name": "stderr",
     "output_type": "stream",
     "text": [
      "\n",
      "34it [00:05,  6.14it/s]\n"
     ]
    },
    {
     "name": "stdout",
     "output_type": "stream",
     "text": [
      "Overall Acc: \t 0.421117903646\n",
      "Mean Acc : \t 0.0699473397668\n",
      "FreqW Acc : \t 0.244039153922\n",
      "Mean IoU : \t 0.0414576748389\n"
     ]
    },
    {
     "name": "stderr",
     "output_type": "stream",
     "text": [
      "34it [00:05,  6.13it/s]\n"
     ]
    },
    {
     "name": "stdout",
     "output_type": "stream",
     "text": [
      "Overall Acc: \t 0.424187402344\n",
      "Mean Acc : \t 0.0716135173919\n",
      "FreqW Acc : \t 0.247423406032\n",
      "Mean IoU : \t 0.0416214752436\n"
     ]
    },
    {
     "name": "stderr",
     "output_type": "stream",
     "text": [
      "34it [00:05,  6.09it/s]\n"
     ]
    },
    {
     "name": "stdout",
     "output_type": "stream",
     "text": [
      "Overall Acc: \t 0.424319986979\n",
      "Mean Acc : \t 0.071582194018\n",
      "FreqW Acc : \t 0.247464313785\n",
      "Mean IoU : \t 0.0417687726348\n"
     ]
    },
    {
     "name": "stderr",
     "output_type": "stream",
     "text": [
      "34it [00:05,  6.10it/s]\n"
     ]
    },
    {
     "name": "stdout",
     "output_type": "stream",
     "text": [
      "Overall Acc: \t 0.4255265625\n",
      "Mean Acc : \t 0.0717001516303\n",
      "FreqW Acc : \t 0.247924223448\n",
      "Mean IoU : \t 0.0428688308255\n"
     ]
    },
    {
     "name": "stderr",
     "output_type": "stream",
     "text": [
      "34it [00:05,  6.06it/s]\n"
     ]
    },
    {
     "name": "stdout",
     "output_type": "stream",
     "text": [
      "Overall Acc: \t 0.427693424479\n",
      "Mean Acc : \t 0.0723152958934\n",
      "FreqW Acc : \t 0.249864452376\n",
      "Mean IoU : \t 0.0433141956291\n"
     ]
    },
    {
     "name": "stderr",
     "output_type": "stream",
     "text": [
      "34it [00:05,  6.01it/s]\n"
     ]
    },
    {
     "name": "stdout",
     "output_type": "stream",
     "text": [
      "Overall Acc: \t 0.428230078125\n",
      "Mean Acc : \t 0.0730964788412\n",
      "FreqW Acc : \t 0.251535068712\n",
      "Mean IoU : \t 0.0439950712186\n"
     ]
    },
    {
     "name": "stderr",
     "output_type": "stream",
     "text": [
      "34it [00:05,  6.08it/s]\n"
     ]
    },
    {
     "name": "stdout",
     "output_type": "stream",
     "text": [
      "Overall Acc: \t 0.428325097656\n",
      "Mean Acc : \t 0.0726687890423\n",
      "FreqW Acc : \t 0.252272770568\n",
      "Mean IoU : \t 0.0440846671765\n"
     ]
    },
    {
     "name": "stderr",
     "output_type": "stream",
     "text": [
      "34it [00:05,  6.17it/s]\n"
     ]
    },
    {
     "name": "stdout",
     "output_type": "stream",
     "text": [
      "Overall Acc: \t 0.430308626302\n",
      "Mean Acc : \t 0.0745063168318\n",
      "FreqW Acc : \t 0.25142061831\n",
      "Mean IoU : \t 0.0445052557733\n"
     ]
    },
    {
     "name": "stderr",
     "output_type": "stream",
     "text": [
      "34it [00:05,  6.20it/s]\n"
     ]
    },
    {
     "name": "stdout",
     "output_type": "stream",
     "text": [
      "Overall Acc: \t 0.430401692708\n",
      "Mean Acc : \t 0.0746769284916\n",
      "FreqW Acc : \t 0.252400777465\n",
      "Mean IoU : \t 0.0448589951187\n"
     ]
    },
    {
     "name": "stderr",
     "output_type": "stream",
     "text": [
      "34it [00:05,  5.94it/s]\n"
     ]
    },
    {
     "name": "stdout",
     "output_type": "stream",
     "text": [
      "Overall Acc: \t 0.432157096354\n",
      "Mean Acc : \t 0.0750493567822\n",
      "FreqW Acc : \t 0.25646087121\n",
      "Mean IoU : \t 0.0456705092843\n"
     ]
    },
    {
     "name": "stderr",
     "output_type": "stream",
     "text": [
      "34it [00:05,  6.16it/s]\n"
     ]
    },
    {
     "name": "stdout",
     "output_type": "stream",
     "text": [
      "Overall Acc: \t 0.431648730469\n",
      "Mean Acc : \t 0.0769834670702\n",
      "FreqW Acc : \t 0.254677026137\n",
      "Mean IoU : \t 0.0463723485674\n"
     ]
    },
    {
     "name": "stderr",
     "output_type": "stream",
     "text": [
      "34it [00:05,  6.14it/s]"
     ]
    },
    {
     "name": "stdout",
     "output_type": "stream",
     "text": [
      "Overall Acc: \t 0.431919173177\n",
      "Mean Acc : \t 0.0757792488919\n",
      "FreqW Acc : \t 0.255739398958\n",
      "Mean IoU : \t 0.0459955868724\n"
     ]
    },
    {
     "name": "stderr",
     "output_type": "stream",
     "text": [
      "\n",
      "34it [00:05,  6.15it/s]"
     ]
    },
    {
     "name": "stdout",
     "output_type": "stream",
     "text": [
      "Overall Acc: \t 0.434403450521\n",
      "Mean Acc : \t 0.0743922721785\n",
      "FreqW Acc : \t 0.258122091724\n",
      "Mean IoU : \t 0.0456389747186\n"
     ]
    },
    {
     "name": "stderr",
     "output_type": "stream",
     "text": [
      "\n",
      "34it [00:05,  6.15it/s]"
     ]
    },
    {
     "name": "stdout",
     "output_type": "stream",
     "text": [
      "Overall Acc: \t 0.432201236979\n",
      "Mean Acc : \t 0.0768165315659\n",
      "FreqW Acc : \t 0.253625306634\n",
      "Mean IoU : \t 0.0462011943266\n"
     ]
    },
    {
     "name": "stderr",
     "output_type": "stream",
     "text": [
      "\n",
      "34it [00:05,  6.06it/s]\n"
     ]
    },
    {
     "name": "stdout",
     "output_type": "stream",
     "text": [
      "Overall Acc: \t 0.43261311849\n",
      "Mean Acc : \t 0.0767975352594\n",
      "FreqW Acc : \t 0.256975898361\n",
      "Mean IoU : \t 0.046956445823\n"
     ]
    },
    {
     "name": "stderr",
     "output_type": "stream",
     "text": [
      "34it [00:05,  6.05it/s]"
     ]
    },
    {
     "name": "stdout",
     "output_type": "stream",
     "text": [
      "Overall Acc: \t 0.435002083333\n",
      "Mean Acc : \t 0.0752371404028\n",
      "FreqW Acc : \t 0.260659135701\n",
      "Mean IoU : \t 0.0468482042055\n"
     ]
    },
    {
     "name": "stderr",
     "output_type": "stream",
     "text": [
      "\n",
      "34it [00:05,  6.15it/s]"
     ]
    },
    {
     "name": "stdout",
     "output_type": "stream",
     "text": [
      "Overall Acc: \t 0.432183235677\n",
      "Mean Acc : \t 0.0763819634914\n",
      "FreqW Acc : \t 0.2526417411\n",
      "Mean IoU : \t 0.0458825368584\n"
     ]
    },
    {
     "name": "stderr",
     "output_type": "stream",
     "text": [
      "\n",
      "34it [00:05,  6.03it/s]\n"
     ]
    },
    {
     "name": "stdout",
     "output_type": "stream",
     "text": [
      "Overall Acc: \t 0.434808496094\n",
      "Mean Acc : \t 0.0802098914723\n",
      "FreqW Acc : \t 0.256013906632\n",
      "Mean IoU : \t 0.0483107423597\n"
     ]
    },
    {
     "name": "stderr",
     "output_type": "stream",
     "text": [
      "34it [00:05,  5.98it/s]\n"
     ]
    },
    {
     "name": "stdout",
     "output_type": "stream",
     "text": [
      "Overall Acc: \t 0.43635608724\n",
      "Mean Acc : \t 0.078445785545\n",
      "FreqW Acc : \t 0.262478441754\n",
      "Mean IoU : \t 0.0486519544505\n"
     ]
    },
    {
     "name": "stderr",
     "output_type": "stream",
     "text": [
      "34it [00:05,  5.90it/s]"
     ]
    },
    {
     "name": "stdout",
     "output_type": "stream",
     "text": [
      "Overall Acc: \t 0.435221354167\n",
      "Mean Acc : \t 0.0780153128658\n",
      "FreqW Acc : \t 0.260656377801\n",
      "Mean IoU : \t 0.0484893810418\n"
     ]
    },
    {
     "name": "stderr",
     "output_type": "stream",
     "text": [
      "\n",
      "34it [00:05,  6.06it/s]\n"
     ]
    },
    {
     "name": "stdout",
     "output_type": "stream",
     "text": [
      "Overall Acc: \t 0.437279980469\n",
      "Mean Acc : \t 0.0821170082128\n",
      "FreqW Acc : \t 0.258730630249\n",
      "Mean IoU : \t 0.0502410462388\n"
     ]
    },
    {
     "name": "stderr",
     "output_type": "stream",
     "text": [
      "34it [00:05,  5.81it/s]"
     ]
    },
    {
     "name": "stdout",
     "output_type": "stream",
     "text": [
      "Overall Acc: \t 0.437820182292\n",
      "Mean Acc : \t 0.0798522031042\n",
      "FreqW Acc : \t 0.261080009307\n",
      "Mean IoU : \t 0.0494998793824\n"
     ]
    },
    {
     "name": "stderr",
     "output_type": "stream",
     "text": [
      "\n",
      "34it [00:05,  6.05it/s]\n"
     ]
    },
    {
     "name": "stdout",
     "output_type": "stream",
     "text": [
      "Overall Acc: \t 0.439871907552\n",
      "Mean Acc : \t 0.0803524730951\n",
      "FreqW Acc : \t 0.26416092282\n",
      "Mean IoU : \t 0.0503265450418\n"
     ]
    },
    {
     "name": "stderr",
     "output_type": "stream",
     "text": [
      "34it [00:05,  5.94it/s]"
     ]
    },
    {
     "name": "stdout",
     "output_type": "stream",
     "text": [
      "Overall Acc: \t 0.437608333333\n",
      "Mean Acc : \t 0.0806772915161\n",
      "FreqW Acc : \t 0.258407297028\n",
      "Mean IoU : \t 0.0494772154568\n"
     ]
    },
    {
     "name": "stderr",
     "output_type": "stream",
     "text": [
      "\n",
      "34it [00:05,  5.99it/s]\n"
     ]
    },
    {
     "name": "stdout",
     "output_type": "stream",
     "text": [
      "Overall Acc: \t 0.441197916667\n",
      "Mean Acc : \t 0.082534762557\n",
      "FreqW Acc : \t 0.264338613701\n",
      "Mean IoU : \t 0.0520267472566\n"
     ]
    },
    {
     "name": "stderr",
     "output_type": "stream",
     "text": [
      "34it [00:05,  6.06it/s]\n"
     ]
    },
    {
     "name": "stdout",
     "output_type": "stream",
     "text": [
      "Overall Acc: \t 0.43871468099\n",
      "Mean Acc : \t 0.0837859592196\n",
      "FreqW Acc : \t 0.26269243947\n",
      "Mean IoU : \t 0.052626849867\n"
     ]
    },
    {
     "name": "stderr",
     "output_type": "stream",
     "text": [
      "34it [00:05,  6.00it/s]\n"
     ]
    },
    {
     "name": "stdout",
     "output_type": "stream",
     "text": [
      "Overall Acc: \t 0.441337597656\n",
      "Mean Acc : \t 0.0880383669559\n",
      "FreqW Acc : \t 0.264938535363\n",
      "Mean IoU : \t 0.056026902521\n"
     ]
    },
    {
     "name": "stderr",
     "output_type": "stream",
     "text": [
      "34it [00:05,  5.97it/s]"
     ]
    },
    {
     "name": "stdout",
     "output_type": "stream",
     "text": [
      "Overall Acc: \t 0.43819625651\n",
      "Mean Acc : \t 0.0861561716433\n",
      "FreqW Acc : \t 0.260089096611\n",
      "Mean IoU : \t 0.0537043544565\n"
     ]
    },
    {
     "name": "stderr",
     "output_type": "stream",
     "text": [
      "\n",
      "34it [00:05,  6.06it/s]"
     ]
    },
    {
     "name": "stdout",
     "output_type": "stream",
     "text": [
      "Overall Acc: \t 0.440924088542\n",
      "Mean Acc : \t 0.0867967343053\n",
      "FreqW Acc : \t 0.266360424429\n",
      "Mean IoU : \t 0.0555242020732\n"
     ]
    },
    {
     "name": "stderr",
     "output_type": "stream",
     "text": [
      "\n",
      "34it [00:05,  6.01it/s]"
     ]
    },
    {
     "name": "stdout",
     "output_type": "stream",
     "text": [
      "Overall Acc: \t 0.441846940104\n",
      "Mean Acc : \t 0.0867358743476\n",
      "FreqW Acc : \t 0.266275680133\n",
      "Mean IoU : \t 0.0556542250037\n"
     ]
    },
    {
     "name": "stderr",
     "output_type": "stream",
     "text": [
      "\n",
      "34it [00:05,  5.97it/s]\n"
     ]
    },
    {
     "name": "stdout",
     "output_type": "stream",
     "text": [
      "Overall Acc: \t 0.440530696615\n",
      "Mean Acc : \t 0.0896443677948\n",
      "FreqW Acc : \t 0.261622018908\n",
      "Mean IoU : \t 0.0565103658274\n"
     ]
    },
    {
     "name": "stderr",
     "output_type": "stream",
     "text": [
      "34it [00:05,  6.07it/s]\n"
     ]
    },
    {
     "name": "stdout",
     "output_type": "stream",
     "text": [
      "Overall Acc: \t 0.442106315104\n",
      "Mean Acc : \t 0.0877232142006\n",
      "FreqW Acc : \t 0.267228592096\n",
      "Mean IoU : \t 0.0568733052346\n"
     ]
    },
    {
     "name": "stderr",
     "output_type": "stream",
     "text": [
      "34it [00:05,  6.08it/s]\n"
     ]
    },
    {
     "name": "stdout",
     "output_type": "stream",
     "text": [
      "Overall Acc: \t 0.440776920573\n",
      "Mean Acc : \t 0.0895445559009\n",
      "FreqW Acc : \t 0.265892645654\n",
      "Mean IoU : \t 0.0573730872376\n"
     ]
    },
    {
     "name": "stderr",
     "output_type": "stream",
     "text": [
      "34it [00:05,  6.01it/s]\n"
     ]
    },
    {
     "name": "stdout",
     "output_type": "stream",
     "text": [
      "Overall Acc: \t 0.442769759115\n",
      "Mean Acc : \t 0.0952854427942\n",
      "FreqW Acc : \t 0.265634521078\n",
      "Mean IoU : \t 0.06050904182\n"
     ]
    },
    {
     "name": "stderr",
     "output_type": "stream",
     "text": [
      "34it [00:05,  6.00it/s]"
     ]
    },
    {
     "name": "stdout",
     "output_type": "stream",
     "text": [
      "Overall Acc: \t 0.440117740885\n",
      "Mean Acc : \t 0.0921662908048\n",
      "FreqW Acc : \t 0.262179046095\n",
      "Mean IoU : \t 0.0584358646931\n"
     ]
    },
    {
     "name": "stderr",
     "output_type": "stream",
     "text": [
      "\n",
      "34it [00:05,  6.02it/s]"
     ]
    },
    {
     "name": "stdout",
     "output_type": "stream",
     "text": [
      "Overall Acc: \t 0.441955371094\n",
      "Mean Acc : \t 0.0883818698659\n",
      "FreqW Acc : \t 0.268244010088\n",
      "Mean IoU : \t 0.0581360249744\n"
     ]
    },
    {
     "name": "stderr",
     "output_type": "stream",
     "text": [
      "\n",
      "34it [00:05,  5.85it/s]\n"
     ]
    },
    {
     "name": "stdout",
     "output_type": "stream",
     "text": [
      "Overall Acc: \t 0.444353645833\n",
      "Mean Acc : \t 0.093537065164\n",
      "FreqW Acc : \t 0.268557662462\n",
      "Mean IoU : \t 0.0607411308217\n"
     ]
    },
    {
     "name": "stderr",
     "output_type": "stream",
     "text": [
      "34it [00:05,  6.02it/s]\n"
     ]
    },
    {
     "name": "stdout",
     "output_type": "stream",
     "text": [
      "Overall Acc: \t 0.442025716146\n",
      "Mean Acc : \t 0.0966847561123\n",
      "FreqW Acc : \t 0.264397416904\n",
      "Mean IoU : \t 0.0611729944143\n"
     ]
    },
    {
     "name": "stderr",
     "output_type": "stream",
     "text": [
      "34it [00:05,  5.97it/s]"
     ]
    },
    {
     "name": "stdout",
     "output_type": "stream",
     "text": [
      "Overall Acc: \t 0.443893359375\n",
      "Mean Acc : \t 0.0922279001063\n",
      "FreqW Acc : \t 0.268478921412\n",
      "Mean IoU : \t 0.0594164393104\n"
     ]
    },
    {
     "name": "stderr",
     "output_type": "stream",
     "text": [
      "\n",
      "34it [00:05,  5.96it/s]"
     ]
    },
    {
     "name": "stdout",
     "output_type": "stream",
     "text": [
      "Overall Acc: \t 0.443607845052\n",
      "Mean Acc : \t 0.0946678879264\n",
      "FreqW Acc : \t 0.268809402322\n",
      "Mean IoU : \t 0.061153475679\n"
     ]
    },
    {
     "name": "stderr",
     "output_type": "stream",
     "text": [
      "\n",
      "34it [00:05,  6.03it/s]\n"
     ]
    },
    {
     "name": "stdout",
     "output_type": "stream",
     "text": [
      "Overall Acc: \t 0.442349739583\n",
      "Mean Acc : \t 0.101937141078\n",
      "FreqW Acc : \t 0.266006521877\n",
      "Mean IoU : \t 0.063472182301\n"
     ]
    },
    {
     "name": "stderr",
     "output_type": "stream",
     "text": [
      "34it [00:05,  6.05it/s]\n"
     ]
    },
    {
     "name": "stdout",
     "output_type": "stream",
     "text": [
      "Overall Acc: \t 0.445743033854\n",
      "Mean Acc : \t 0.0978045561316\n",
      "FreqW Acc : \t 0.271159620639\n",
      "Mean IoU : \t 0.0634965367116\n"
     ]
    },
    {
     "name": "stderr",
     "output_type": "stream",
     "text": [
      "34it [00:05,  6.15it/s]"
     ]
    },
    {
     "name": "stdout",
     "output_type": "stream",
     "text": [
      "Overall Acc: \t 0.441962434896\n",
      "Mean Acc : \t 0.097268962908\n",
      "FreqW Acc : \t 0.265438744959\n",
      "Mean IoU : \t 0.0620993266938\n"
     ]
    },
    {
     "name": "stderr",
     "output_type": "stream",
     "text": [
      "\n",
      "34it [00:05,  6.01it/s]"
     ]
    },
    {
     "name": "stdout",
     "output_type": "stream",
     "text": [
      "Overall Acc: \t 0.442409147135\n",
      "Mean Acc : \t 0.0993618188725\n",
      "FreqW Acc : \t 0.267293608779\n",
      "Mean IoU : \t 0.0633267015084\n"
     ]
    },
    {
     "name": "stderr",
     "output_type": "stream",
     "text": [
      "\n",
      "34it [00:05,  6.08it/s]\n"
     ]
    },
    {
     "name": "stdout",
     "output_type": "stream",
     "text": [
      "Overall Acc: \t 0.441300911458\n",
      "Mean Acc : \t 0.099757937766\n",
      "FreqW Acc : \t 0.269199851512\n",
      "Mean IoU : \t 0.0640064887087\n"
     ]
    },
    {
     "name": "stderr",
     "output_type": "stream",
     "text": [
      "34it [00:05,  6.05it/s]\n"
     ]
    },
    {
     "name": "stdout",
     "output_type": "stream",
     "text": [
      "Overall Acc: \t 0.443534602865\n",
      "Mean Acc : \t 0.100381455354\n",
      "FreqW Acc : \t 0.269098287792\n",
      "Mean IoU : \t 0.0640523272588\n"
     ]
    },
    {
     "name": "stderr",
     "output_type": "stream",
     "text": [
      "34it [00:05,  5.87it/s]\n"
     ]
    },
    {
     "name": "stdout",
     "output_type": "stream",
     "text": [
      "Overall Acc: \t 0.445353027344\n",
      "Mean Acc : \t 0.101386752285\n",
      "FreqW Acc : \t 0.268296093793\n",
      "Mean IoU : \t 0.064443990647\n"
     ]
    },
    {
     "name": "stderr",
     "output_type": "stream",
     "text": [
      "34it [00:05,  5.93it/s]"
     ]
    },
    {
     "name": "stdout",
     "output_type": "stream",
     "text": [
      "Overall Acc: \t 0.447418489583\n",
      "Mean Acc : \t 0.0995925771167\n",
      "FreqW Acc : \t 0.270742022807\n",
      "Mean IoU : \t 0.063931271523\n"
     ]
    },
    {
     "name": "stderr",
     "output_type": "stream",
     "text": [
      "\n",
      "34it [00:05,  5.95it/s]"
     ]
    },
    {
     "name": "stdout",
     "output_type": "stream",
     "text": [
      "Overall Acc: \t 0.443520670573\n",
      "Mean Acc : \t 0.099335155391\n",
      "FreqW Acc : \t 0.268899865755\n",
      "Mean IoU : \t 0.0643722160271\n"
     ]
    },
    {
     "name": "stderr",
     "output_type": "stream",
     "text": [
      "\n",
      "34it [00:05,  6.12it/s]\n"
     ]
    },
    {
     "name": "stdout",
     "output_type": "stream",
     "text": [
      "Overall Acc: \t 0.443700813802\n",
      "Mean Acc : \t 0.106546023886\n",
      "FreqW Acc : \t 0.27101515023\n",
      "Mean IoU : \t 0.0664643845113\n"
     ]
    },
    {
     "name": "stderr",
     "output_type": "stream",
     "text": [
      "34it [00:05,  6.20it/s]"
     ]
    },
    {
     "name": "stdout",
     "output_type": "stream",
     "text": [
      "Overall Acc: \t 0.44509313151\n",
      "Mean Acc : \t 0.104247948144\n",
      "FreqW Acc : \t 0.270905137529\n",
      "Mean IoU : \t 0.0650967975997\n"
     ]
    },
    {
     "name": "stderr",
     "output_type": "stream",
     "text": [
      "\n",
      "34it [00:05,  6.00it/s]"
     ]
    },
    {
     "name": "stdout",
     "output_type": "stream",
     "text": [
      "Overall Acc: \t 0.4437140625\n",
      "Mean Acc : \t 0.102186427993\n",
      "FreqW Acc : \t 0.266957738129\n",
      "Mean IoU : \t 0.0645375962277\n"
     ]
    },
    {
     "name": "stderr",
     "output_type": "stream",
     "text": [
      "\n",
      "34it [00:05,  5.97it/s]\n"
     ]
    },
    {
     "name": "stdout",
     "output_type": "stream",
     "text": [
      "Overall Acc: \t 0.444134602865\n",
      "Mean Acc : \t 0.105171362199\n",
      "FreqW Acc : \t 0.270299188241\n",
      "Mean IoU : \t 0.06706332788\n"
     ]
    },
    {
     "name": "stderr",
     "output_type": "stream",
     "text": [
      "34it [00:05,  6.08it/s]"
     ]
    },
    {
     "name": "stdout",
     "output_type": "stream",
     "text": [
      "Overall Acc: \t 0.448886686198\n",
      "Mean Acc : \t 0.105707718728\n",
      "FreqW Acc : \t 0.272621746407\n",
      "Mean IoU : \t 0.0662859935308\n"
     ]
    },
    {
     "name": "stderr",
     "output_type": "stream",
     "text": [
      "\n",
      "34it [00:05,  6.05it/s]"
     ]
    },
    {
     "name": "stdout",
     "output_type": "stream",
     "text": [
      "Overall Acc: \t 0.443931998698\n",
      "Mean Acc : \t 0.101810618634\n",
      "FreqW Acc : \t 0.267527119399\n",
      "Mean IoU : \t 0.0640805019426\n"
     ]
    },
    {
     "name": "stderr",
     "output_type": "stream",
     "text": [
      "\n",
      "34it [00:05,  5.94it/s]"
     ]
    },
    {
     "name": "stdout",
     "output_type": "stream",
     "text": [
      "Overall Acc: \t 0.444032291667\n",
      "Mean Acc : \t 0.103347180239\n",
      "FreqW Acc : \t 0.270721756221\n",
      "Mean IoU : \t 0.0657388987493\n"
     ]
    },
    {
     "name": "stderr",
     "output_type": "stream",
     "text": [
      "\n",
      "34it [00:05,  6.06it/s]"
     ]
    },
    {
     "name": "stdout",
     "output_type": "stream",
     "text": [
      "Overall Acc: \t 0.445756380208\n",
      "Mean Acc : \t 0.103768242836\n",
      "FreqW Acc : \t 0.272710026386\n",
      "Mean IoU : \t 0.0657268824707\n"
     ]
    },
    {
     "name": "stderr",
     "output_type": "stream",
     "text": [
      "\n",
      "34it [00:05,  5.97it/s]"
     ]
    },
    {
     "name": "stdout",
     "output_type": "stream",
     "text": [
      "Overall Acc: \t 0.445884244792\n",
      "Mean Acc : \t 0.104597300694\n",
      "FreqW Acc : \t 0.271102563173\n",
      "Mean IoU : \t 0.0650356791924\n"
     ]
    },
    {
     "name": "stderr",
     "output_type": "stream",
     "text": [
      "\n",
      "34it [00:05,  6.16it/s]"
     ]
    },
    {
     "name": "stdout",
     "output_type": "stream",
     "text": [
      "Overall Acc: \t 0.44556031901\n",
      "Mean Acc : \t 0.105517535364\n",
      "FreqW Acc : \t 0.270532406606\n",
      "Mean IoU : \t 0.0665133534065\n"
     ]
    },
    {
     "name": "stderr",
     "output_type": "stream",
     "text": [
      "\n",
      "34it [00:05,  6.16it/s]\n"
     ]
    },
    {
     "name": "stdout",
     "output_type": "stream",
     "text": [
      "Overall Acc: \t 0.445480957031\n",
      "Mean Acc : \t 0.104802501528\n",
      "FreqW Acc : \t 0.271504273908\n",
      "Mean IoU : \t 0.0672644551447\n"
     ]
    },
    {
     "name": "stderr",
     "output_type": "stream",
     "text": [
      "34it [00:05,  5.92it/s]"
     ]
    },
    {
     "name": "stdout",
     "output_type": "stream",
     "text": [
      "Overall Acc: \t 0.441287402344\n",
      "Mean Acc : \t 0.104894884967\n",
      "FreqW Acc : \t 0.265576357049\n",
      "Mean IoU : \t 0.065633396512\n"
     ]
    },
    {
     "name": "stderr",
     "output_type": "stream",
     "text": [
      "\n",
      "34it [00:05,  6.17it/s]\n"
     ]
    },
    {
     "name": "stdout",
     "output_type": "stream",
     "text": [
      "Overall Acc: \t 0.447938151042\n",
      "Mean Acc : \t 0.10606967031\n",
      "FreqW Acc : \t 0.273682793802\n",
      "Mean IoU : \t 0.0679167195998\n"
     ]
    },
    {
     "name": "stderr",
     "output_type": "stream",
     "text": [
      "34it [00:05,  6.06it/s]"
     ]
    },
    {
     "name": "stdout",
     "output_type": "stream",
     "text": [
      "Overall Acc: \t 0.443498958333\n",
      "Mean Acc : \t 0.107760347357\n",
      "FreqW Acc : \t 0.269386905169\n",
      "Mean IoU : \t 0.0669291741097\n"
     ]
    },
    {
     "name": "stderr",
     "output_type": "stream",
     "text": [
      "\n",
      "34it [00:05,  6.12it/s]"
     ]
    },
    {
     "name": "stdout",
     "output_type": "stream",
     "text": [
      "Overall Acc: \t 0.44784078776\n",
      "Mean Acc : \t 0.105979878268\n",
      "FreqW Acc : \t 0.275346496509\n",
      "Mean IoU : \t 0.0674538405307\n"
     ]
    },
    {
     "name": "stderr",
     "output_type": "stream",
     "text": [
      "\n",
      "34it [00:05,  6.03it/s]"
     ]
    },
    {
     "name": "stdout",
     "output_type": "stream",
     "text": [
      "Overall Acc: \t 0.441202799479\n",
      "Mean Acc : \t 0.104528261704\n",
      "FreqW Acc : \t 0.266607433778\n",
      "Mean IoU : \t 0.0655885526414\n"
     ]
    },
    {
     "name": "stderr",
     "output_type": "stream",
     "text": [
      "\n",
      "34it [00:05,  6.09it/s]"
     ]
    },
    {
     "name": "stdout",
     "output_type": "stream",
     "text": [
      "Overall Acc: \t 0.446837630208\n",
      "Mean Acc : \t 0.108118535057\n",
      "FreqW Acc : \t 0.271216523498\n",
      "Mean IoU : \t 0.0672929871687\n"
     ]
    },
    {
     "name": "stderr",
     "output_type": "stream",
     "text": [
      "\n",
      "34it [00:05,  6.13it/s]"
     ]
    },
    {
     "name": "stdout",
     "output_type": "stream",
     "text": [
      "Overall Acc: \t 0.441539550781\n",
      "Mean Acc : \t 0.107441341771\n",
      "FreqW Acc : \t 0.269605480846\n",
      "Mean IoU : \t 0.0669672582516\n"
     ]
    },
    {
     "name": "stderr",
     "output_type": "stream",
     "text": [
      "\n",
      "34it [00:05,  5.97it/s]\n"
     ]
    },
    {
     "name": "stdout",
     "output_type": "stream",
     "text": [
      "Overall Acc: \t 0.445184798177\n",
      "Mean Acc : \t 0.109840556898\n",
      "FreqW Acc : \t 0.272452282564\n",
      "Mean IoU : \t 0.068959232565\n"
     ]
    },
    {
     "name": "stderr",
     "output_type": "stream",
     "text": [
      "34it [00:05,  6.07it/s]"
     ]
    },
    {
     "name": "stdout",
     "output_type": "stream",
     "text": [
      "Overall Acc: \t 0.444541113281\n",
      "Mean Acc : \t 0.10742149306\n",
      "FreqW Acc : \t 0.269967337479\n",
      "Mean IoU : \t 0.0675642433875\n"
     ]
    },
    {
     "name": "stderr",
     "output_type": "stream",
     "text": [
      "\n",
      "34it [00:05,  6.12it/s]"
     ]
    },
    {
     "name": "stdout",
     "output_type": "stream",
     "text": [
      "Overall Acc: \t 0.440753841146\n",
      "Mean Acc : \t 0.107289959806\n",
      "FreqW Acc : \t 0.269042397141\n",
      "Mean IoU : \t 0.0671322757627\n"
     ]
    },
    {
     "name": "stderr",
     "output_type": "stream",
     "text": [
      "\n",
      "34it [00:05,  6.12it/s]\n"
     ]
    },
    {
     "name": "stdout",
     "output_type": "stream",
     "text": [
      "Overall Acc: \t 0.445161197917\n",
      "Mean Acc : \t 0.110860377695\n",
      "FreqW Acc : \t 0.274486704978\n",
      "Mean IoU : \t 0.0690084238464\n"
     ]
    },
    {
     "name": "stderr",
     "output_type": "stream",
     "text": [
      "34it [00:05,  6.00it/s]"
     ]
    },
    {
     "name": "stdout",
     "output_type": "stream",
     "text": [
      "Overall Acc: \t 0.440394108073\n",
      "Mean Acc : \t 0.104835421757\n",
      "FreqW Acc : \t 0.266234856182\n",
      "Mean IoU : \t 0.0658339864372\n"
     ]
    },
    {
     "name": "stderr",
     "output_type": "stream",
     "text": [
      "\n",
      "34it [00:05,  6.14it/s]"
     ]
    },
    {
     "name": "stdout",
     "output_type": "stream",
     "text": [
      "Overall Acc: \t 0.441903645833\n",
      "Mean Acc : \t 0.108820192588\n",
      "FreqW Acc : \t 0.268935413253\n",
      "Mean IoU : \t 0.0680147951093\n"
     ]
    },
    {
     "name": "stderr",
     "output_type": "stream",
     "text": [
      "\n",
      "34it [00:05,  6.08it/s]"
     ]
    },
    {
     "name": "stdout",
     "output_type": "stream",
     "text": [
      "Overall Acc: \t 0.441311686198\n",
      "Mean Acc : \t 0.110178174137\n",
      "FreqW Acc : \t 0.267888820492\n",
      "Mean IoU : \t 0.067690810085\n"
     ]
    },
    {
     "name": "stderr",
     "output_type": "stream",
     "text": [
      "\n",
      "34it [00:05,  6.19it/s]"
     ]
    },
    {
     "name": "stdout",
     "output_type": "stream",
     "text": [
      "Overall Acc: \t 0.445604296875\n",
      "Mean Acc : \t 0.108738671566\n",
      "FreqW Acc : \t 0.27272623538\n",
      "Mean IoU : \t 0.0684599740795\n"
     ]
    },
    {
     "name": "stderr",
     "output_type": "stream",
     "text": [
      "\n",
      "34it [00:05,  6.08it/s]\n"
     ]
    },
    {
     "name": "stdout",
     "output_type": "stream",
     "text": [
      "Overall Acc: \t 0.443769335938\n",
      "Mean Acc : \t 0.112586674332\n",
      "FreqW Acc : \t 0.271471241235\n",
      "Mean IoU : \t 0.0692458058204\n"
     ]
    },
    {
     "name": "stderr",
     "output_type": "stream",
     "text": [
      "34it [00:05,  6.07it/s]"
     ]
    },
    {
     "name": "stdout",
     "output_type": "stream",
     "text": [
      "Overall Acc: \t 0.443517643229\n",
      "Mean Acc : \t 0.109606764347\n",
      "FreqW Acc : \t 0.271404688618\n",
      "Mean IoU : \t 0.0684150549783\n"
     ]
    },
    {
     "name": "stderr",
     "output_type": "stream",
     "text": [
      "\n",
      "34it [00:05,  6.07it/s]"
     ]
    },
    {
     "name": "stdout",
     "output_type": "stream",
     "text": [
      "Overall Acc: \t 0.44482750651\n",
      "Mean Acc : \t 0.107645848602\n",
      "FreqW Acc : \t 0.272838182305\n",
      "Mean IoU : \t 0.0684739781532\n"
     ]
    },
    {
     "name": "stderr",
     "output_type": "stream",
     "text": [
      "\n"
     ]
    }
   ],
   "source": [
    "best_iou = -100.0 \n",
    "for epoch in range(args.n_epoch):\n",
    "    model.train()\n",
    "    for i, (color_imgs, depth_imgs, label_imgs) in enumerate(trainloader):\n",
    "        images = Variable(color_imgs.cuda())\n",
    "        labels = Variable(label_imgs.cuda())\n",
    "\n",
    "        optimizer.zero_grad()\n",
    "        outputs = model(images)\n",
    "\n",
    "        loss = loss_fn(input=outputs, target=labels)\n",
    "\n",
    "        loss.backward()\n",
    "        optimizer.step()\n",
    "\n",
    "        if args.visdom:\n",
    "            vis.line(\n",
    "                X=torch.ones((1, 1)).cpu() * i,\n",
    "                Y=torch.Tensor([loss.data[0]]).unsqueeze(0).cpu(),\n",
    "                win=loss_window,\n",
    "                update='append')\n",
    "\n",
    "        if (i+1) % 100 == 0:\n",
    "            print(\"Epoch [%d/%d] Loss: %.4f\" % (epoch+1, args.n_epoch, loss.data[0]))\n",
    "\n",
    "    model.eval()\n",
    "    for i_val, (color_images_val, depth_images_val, label_images_val) in tqdm(enumerate(valloader)):\n",
    "        images_val = Variable(color_images_val.cuda(), volatile=True)\n",
    "        labels_val = Variable(label_images_val.cuda(), volatile=True)\n",
    "\n",
    "        outputs = model(images_val)\n",
    "        pred = outputs.data.max(1)[1].cpu().numpy()\n",
    "        gt = labels_val.data.cpu().numpy()\n",
    "        running_metrics.update(gt, pred)\n",
    "\n",
    "    score, class_iou = running_metrics.get_scores()\n",
    "    for k, v in score.items():\n",
    "        print(k, v)\n",
    "    running_metrics.reset()\n",
    "\n",
    "    if score['Mean IoU : \\t'] >= best_iou:\n",
    "        best_iou = score['Mean IoU : \\t']\n",
    "        state = {'epoch': epoch+1,\n",
    "                 'model_state': model.state_dict(),\n",
    "                 'optimizer_state' : optimizer.state_dict(),}\n",
    "        torch.save(state, \"{}_{}_best_model.pkl\".format(args.arch, 'SUNRGBD'))"
   ]
  },
  {
   "cell_type": "code",
   "execution_count": null,
   "metadata": {},
   "outputs": [],
   "source": []
  }
 ],
 "metadata": {
  "kernelspec": {
   "display_name": "Python [conda env:pytorch]",
   "language": "python",
   "name": "conda-env-pytorch-py"
  },
  "language_info": {
   "codemirror_mode": {
    "name": "ipython",
    "version": 3
   },
   "file_extension": ".py",
   "mimetype": "text/x-python",
   "name": "python",
   "nbconvert_exporter": "python",
   "pygments_lexer": "ipython3",
   "version": "3.6.3"
  }
 },
 "nbformat": 4,
 "nbformat_minor": 2
}
