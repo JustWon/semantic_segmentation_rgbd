{
 "cells": [
  {
   "cell_type": "code",
   "execution_count": 1,
   "metadata": {},
   "outputs": [],
   "source": [
    "%matplotlib inline\n",
    "import os\n",
    "import collections\n",
    "import torch\n",
    "import torchvision\n",
    "import numpy as np\n",
    "import scipy.misc as m\n",
    "import scipy.io as io\n",
    "import matplotlib.pyplot as plt\n",
    "\n",
    "from SUNRGBDLoader import *\n",
    "\n",
    "os.environ['CUDA_VISIBLE_DEVICES'] = '1'\n",
    "data_path = '/home/dongwonshin/Desktop/Datasets/SUNRGBD/SUNRGBD(light)/'"
   ]
  },
  {
   "cell_type": "code",
   "execution_count": 2,
   "metadata": {},
   "outputs": [],
   "source": [
    "import sys, os\n",
    "import torch\n",
    "import visdom\n",
    "import argparse\n",
    "import numpy as np\n",
    "import torch.nn as nn\n",
    "import torch.nn.functional as F\n",
    "import torchvision.models as models\n",
    "\n",
    "from torch.autograd import Variable\n",
    "from torch.utils import data\n",
    "from tqdm import tqdm\n",
    "\n",
    "from ptsemseg.models import get_model\n",
    "from ptsemseg.loader import get_loader, get_data_path\n",
    "from ptsemseg.metrics import runningScore\n",
    "from ptsemseg.loss import *\n",
    "from ptsemseg.augmentations import *\n",
    "\n",
    "\n",
    "parser = argparse.ArgumentParser(description='Hyperparams')\n",
    "parser.add_argument('--arch', nargs='?', type=str, default='fcn8s', \n",
    "                    help='Architecture to use [\\'fcn8s, unet, segnet etc\\']')\n",
    "parser.add_argument('--img_rows', nargs='?', type=int, default=256, \n",
    "                    help='Height of the input image')\n",
    "parser.add_argument('--img_cols', nargs='?', type=int, default=256, \n",
    "                    help='Width of the input image')\n",
    "\n",
    "parser.add_argument('--img_norm', dest='img_norm', action='store_true', \n",
    "                    help='Enable input image scales normalization [0, 1] | True by default')\n",
    "parser.add_argument('--no-img_norm', dest='img_norm', action='store_false', \n",
    "                    help='Disable input image scales normalization [0, 1] | True by default')\n",
    "parser.set_defaults(img_norm=True)\n",
    "\n",
    "parser.add_argument('--n_epoch', nargs='?', type=int, default=100, \n",
    "                    help='# of the epochs')\n",
    "parser.add_argument('--batch_size', nargs='?', type=int, default=1, \n",
    "                    help='Batch Size')\n",
    "parser.add_argument('--l_rate', nargs='?', type=float, default=1e-5, \n",
    "                    help='Learning Rate')\n",
    "parser.add_argument('--feature_scale', nargs='?', type=int, default=1, \n",
    "                    help='Divider for # of features to use')\n",
    "parser.add_argument('--resume', nargs='?', type=str, default=None,    \n",
    "                    help='Path to previous saved model to restart from')\n",
    "\n",
    "parser.add_argument('--visdom', dest='visdom', action='store_true', \n",
    "                    help='Enable visualization(s) on visdom | False by default')\n",
    "parser.add_argument('--no-visdom', dest='visdom', action='store_false', \n",
    "                    help='Disable visualization(s) on visdom | False by default')\n",
    "parser.set_defaults(visdom=False)\n"
   ]
  },
  {
   "cell_type": "code",
   "execution_count": 3,
   "metadata": {},
   "outputs": [],
   "source": [
    "args = parser.parse_args('--arch fcn8s --batch_size 3'.split(' '))\n",
    "\n",
    "# Setup Augmentations\n",
    "data_aug= Compose([RandomRotate(10),                                        \n",
    "                   RandomHorizontallyFlip()])\n",
    "\n",
    "# Setup Dataloader\n",
    "t_loader = SUNRGBDLoader(data_path, is_transform=True)\n",
    "v_loader = SUNRGBDLoader(data_path, is_transform=True, split='val')\n",
    "\n",
    "n_classes = t_loader.n_classes\n",
    "trainloader = data.DataLoader(t_loader, batch_size=args.batch_size, num_workers=16, shuffle=True)\n",
    "valloader = data.DataLoader(v_loader, batch_size=args.batch_size, num_workers=16)\n",
    "\n",
    "# Setup Metrics\n",
    "running_metrics = runningScore(n_classes)\n",
    "\n",
    "# Setup visdom for visualization\n",
    "if args.visdom:\n",
    "    vis = visdom.Visdom()\n",
    "\n",
    "    loss_window = vis.line(X=torch.zeros((1,)).cpu(),\n",
    "                       Y=torch.zeros((1)).cpu(),\n",
    "                       opts=dict(xlabel='minibatches',\n",
    "                                 ylabel='Loss',\n",
    "                                 title='Training Loss',\n",
    "                                 legend=['Loss']))\n",
    "\n",
    "# Setup Model\n",
    "model = get_model(args.arch, n_classes)\n",
    "\n",
    "model = torch.nn.DataParallel(model, device_ids=range(torch.cuda.device_count()))\n",
    "model.cuda()\n",
    "\n",
    "# Check if model has custom optimizer / loss\n",
    "if hasattr(model.module, 'optimizer'):\n",
    "    optimizer = model.module.optimizer\n",
    "else:\n",
    "    optimizer = torch.optim.SGD(model.parameters(), lr=args.l_rate, momentum=0.99, weight_decay=5e-4)\n",
    "\n",
    "if hasattr(model.module, 'loss'):\n",
    "    print('Using custom loss')\n",
    "    loss_fn = model.module.loss\n",
    "else:\n",
    "    loss_fn = cross_entropy2d\n",
    "\n",
    "if args.resume is not None:                                         \n",
    "    if os.path.isfile(args.resume):\n",
    "        print(\"Loading model and optimizer from checkpoint '{}'\".format(args.resume))\n",
    "        checkpoint = torch.load(args.resume)\n",
    "        model.load_state_dict(checkpoint['model_state'])\n",
    "        optimizer.load_state_dict(checkpoint['optimizer_state'])\n",
    "        print(\"Loaded checkpoint '{}' (epoch {})\"                    \n",
    "              .format(args.resume, checkpoint['epoch']))\n",
    "    else:\n",
    "        print(\"No checkpoint found at '{}'\".format(args.resume)) \n"
   ]
  },
  {
   "cell_type": "markdown",
   "metadata": {},
   "source": [
    "# Training"
   ]
  },
  {
   "cell_type": "code",
   "execution_count": 4,
   "metadata": {},
   "outputs": [
    {
     "name": "stderr",
     "output_type": "stream",
     "text": [
      "/home/dongwonshin/.conda/envs/pytorch/lib/python3.6/site-packages/torch/nn/functional.py:1462: UserWarning: nn.functional.upsample_bilinear is deprecated. Use nn.functional.upsample instead.\n",
      "  warnings.warn(\"nn.functional.upsample_bilinear is deprecated. Use nn.functional.upsample instead.\")\n"
     ]
    },
    {
     "name": "stdout",
     "output_type": "stream",
     "text": [
      "Epoch [1/100] Loss: 2.1738\n",
      "Epoch [1/100] Loss: 1.6145\n",
      "Epoch [1/100] Loss: 2.0959\n",
      "Epoch [1/100] Loss: 1.8102\n",
      "Epoch [1/100] Loss: 2.2141\n",
      "Epoch [1/100] Loss: 1.4044\n",
      "Epoch [1/100] Loss: 1.4795\n",
      "Epoch [1/100] Loss: 1.2107\n",
      "Epoch [1/100] Loss: 1.3179\n",
      "Epoch [1/100] Loss: 1.7291\n",
      "Epoch [1/100] Loss: 2.1705\n",
      "Epoch [1/100] Loss: 1.9341\n",
      "Epoch [1/100] Loss: 1.8625\n",
      "Epoch [1/100] Loss: 1.3608\n",
      "Epoch [1/100] Loss: 2.0170\n",
      "Epoch [1/100] Loss: 1.6972\n",
      "Epoch [1/100] Loss: 1.9461\n"
     ]
    },
    {
     "name": "stderr",
     "output_type": "stream",
     "text": [
      "1684it [04:21,  6.44it/s]\n",
      "/home/dongwonshin/Desktop/pytorch_dataloader/ptsemseg/metrics.py:32: RuntimeWarning: invalid value encountered in true_divide\n",
      "  acc_cls = np.diag(hist) / hist.sum(axis=1)\n",
      "/home/dongwonshin/Desktop/pytorch_dataloader/ptsemseg/metrics.py:34: RuntimeWarning: invalid value encountered in true_divide\n",
      "  iu = np.diag(hist) / (hist.sum(axis=1) + hist.sum(axis=0) - np.diag(hist))\n"
     ]
    },
    {
     "name": "stdout",
     "output_type": "stream",
     "text": [
      "Overall Acc: \t 0.492017198458\n",
      "Mean Acc : \t 0.225777864058\n",
      "FreqW Acc : \t 0.315880659269\n",
      "Mean IoU : \t 0.103356510389\n",
      "Epoch [2/100] Loss: 1.3524\n",
      "Epoch [2/100] Loss: 1.4308\n",
      "Epoch [2/100] Loss: 1.2934\n",
      "Epoch [2/100] Loss: 1.7678\n",
      "Epoch [2/100] Loss: 1.6518\n",
      "Epoch [2/100] Loss: 1.6118\n",
      "Epoch [2/100] Loss: 2.3659\n",
      "Epoch [2/100] Loss: 2.0719\n",
      "Epoch [2/100] Loss: 1.9691\n",
      "Epoch [2/100] Loss: 1.0573\n",
      "Epoch [2/100] Loss: 1.7942\n",
      "Epoch [2/100] Loss: 1.1056\n",
      "Epoch [2/100] Loss: 1.3248\n",
      "Epoch [2/100] Loss: 1.4217\n",
      "Epoch [2/100] Loss: 1.8286\n",
      "Epoch [2/100] Loss: 1.7365\n",
      "Epoch [2/100] Loss: 1.8156\n"
     ]
    },
    {
     "name": "stderr",
     "output_type": "stream",
     "text": [
      "1684it [04:20,  6.47it/s]\n"
     ]
    },
    {
     "name": "stdout",
     "output_type": "stream",
     "text": [
      "Overall Acc: \t 0.518737799737\n",
      "Mean Acc : \t 0.288728680805\n",
      "FreqW Acc : \t 0.337482304678\n",
      "Mean IoU : \t 0.193181980879\n",
      "Epoch [3/100] Loss: 1.4281\n",
      "Epoch [3/100] Loss: 1.6934\n",
      "Epoch [3/100] Loss: 1.2904\n",
      "Epoch [3/100] Loss: 1.7969\n",
      "Epoch [3/100] Loss: 1.3772\n",
      "Epoch [3/100] Loss: 1.3072\n",
      "Epoch [3/100] Loss: 1.5365\n",
      "Epoch [3/100] Loss: 1.5938\n",
      "Epoch [3/100] Loss: 1.1537\n",
      "Epoch [3/100] Loss: 1.9487\n",
      "Epoch [3/100] Loss: 0.9948\n",
      "Epoch [3/100] Loss: 1.3218\n",
      "Epoch [3/100] Loss: 1.1978\n",
      "Epoch [3/100] Loss: 1.3797\n",
      "Epoch [3/100] Loss: 0.9955\n",
      "Epoch [3/100] Loss: 1.7424\n",
      "Epoch [3/100] Loss: 0.8920\n"
     ]
    },
    {
     "name": "stderr",
     "output_type": "stream",
     "text": [
      "1684it [04:23,  6.40it/s]\n"
     ]
    },
    {
     "name": "stdout",
     "output_type": "stream",
     "text": [
      "Overall Acc: \t 0.547118619792\n",
      "Mean Acc : \t 0.319167924466\n",
      "FreqW Acc : \t 0.373264882777\n",
      "Mean IoU : \t 0.223545032472\n",
      "Epoch [4/100] Loss: 1.3143\n",
      "Epoch [4/100] Loss: 1.0148\n",
      "Epoch [4/100] Loss: 1.5045\n",
      "Epoch [4/100] Loss: 1.1723\n",
      "Epoch [4/100] Loss: 1.3294\n",
      "Epoch [4/100] Loss: 1.2957\n",
      "Epoch [4/100] Loss: 1.0676\n",
      "Epoch [4/100] Loss: 1.1519\n",
      "Epoch [4/100] Loss: 0.8835\n",
      "Epoch [4/100] Loss: 1.3532\n",
      "Epoch [4/100] Loss: 1.2146\n",
      "Epoch [4/100] Loss: 1.1053\n",
      "Epoch [4/100] Loss: 1.2250\n",
      "Epoch [4/100] Loss: 1.4091\n",
      "Epoch [4/100] Loss: 1.4347\n",
      "Epoch [4/100] Loss: 0.8436\n",
      "Epoch [4/100] Loss: 1.3318\n"
     ]
    },
    {
     "name": "stderr",
     "output_type": "stream",
     "text": [
      "1684it [04:19,  6.48it/s]\n"
     ]
    },
    {
     "name": "stdout",
     "output_type": "stream",
     "text": [
      "Overall Acc: \t 0.55645209687\n",
      "Mean Acc : \t 0.355322869473\n",
      "FreqW Acc : \t 0.386769267288\n",
      "Mean IoU : \t 0.247891290955\n",
      "Epoch [5/100] Loss: 1.6411\n",
      "Epoch [5/100] Loss: 1.3993\n",
      "Epoch [5/100] Loss: 1.4410\n",
      "Epoch [5/100] Loss: 1.4471\n",
      "Epoch [5/100] Loss: 1.0551\n",
      "Epoch [5/100] Loss: 1.0651\n",
      "Epoch [5/100] Loss: 0.8676\n",
      "Epoch [5/100] Loss: 1.2057\n",
      "Epoch [5/100] Loss: 1.3355\n",
      "Epoch [5/100] Loss: 1.3750\n",
      "Epoch [5/100] Loss: 1.0159\n",
      "Epoch [5/100] Loss: 1.1109\n",
      "Epoch [5/100] Loss: 1.3450\n",
      "Epoch [5/100] Loss: 1.5257\n",
      "Epoch [5/100] Loss: 1.0719\n",
      "Epoch [5/100] Loss: 1.2363\n",
      "Epoch [5/100] Loss: 1.6331\n"
     ]
    },
    {
     "name": "stderr",
     "output_type": "stream",
     "text": [
      "1684it [04:22,  6.42it/s]\n"
     ]
    },
    {
     "name": "stdout",
     "output_type": "stream",
     "text": [
      "Overall Acc: \t 0.566348380131\n",
      "Mean Acc : \t 0.364668516326\n",
      "FreqW Acc : \t 0.397232233533\n",
      "Mean IoU : \t 0.26120300643\n",
      "Epoch [6/100] Loss: 1.6394\n",
      "Epoch [6/100] Loss: 1.3662\n",
      "Epoch [6/100] Loss: 1.4121\n",
      "Epoch [6/100] Loss: 0.8147\n",
      "Epoch [6/100] Loss: 1.2091\n",
      "Epoch [6/100] Loss: 0.9416\n",
      "Epoch [6/100] Loss: 1.0937\n",
      "Epoch [6/100] Loss: 1.2919\n",
      "Epoch [6/100] Loss: 1.0536\n",
      "Epoch [6/100] Loss: 1.2236\n",
      "Epoch [6/100] Loss: 1.0231\n",
      "Epoch [6/100] Loss: 1.4211\n",
      "Epoch [6/100] Loss: 1.1726\n",
      "Epoch [6/100] Loss: 1.0610\n",
      "Epoch [6/100] Loss: 1.7497\n",
      "Epoch [6/100] Loss: 1.2382\n",
      "Epoch [6/100] Loss: 1.0457\n"
     ]
    },
    {
     "name": "stderr",
     "output_type": "stream",
     "text": [
      "1684it [04:21,  6.44it/s]\n"
     ]
    },
    {
     "name": "stdout",
     "output_type": "stream",
     "text": [
      "Overall Acc: \t 0.574865952455\n",
      "Mean Acc : \t 0.376121247954\n",
      "FreqW Acc : \t 0.403969370752\n",
      "Mean IoU : \t 0.270949350463\n",
      "Epoch [7/100] Loss: 1.3620\n",
      "Epoch [7/100] Loss: 1.4941\n",
      "Epoch [7/100] Loss: 1.1705\n",
      "Epoch [7/100] Loss: 1.0527\n",
      "Epoch [7/100] Loss: 1.3646\n",
      "Epoch [7/100] Loss: 1.2153\n",
      "Epoch [7/100] Loss: 1.0843\n",
      "Epoch [7/100] Loss: 1.1901\n",
      "Epoch [7/100] Loss: 0.9270\n",
      "Epoch [7/100] Loss: 1.2762\n",
      "Epoch [7/100] Loss: 1.2618\n",
      "Epoch [7/100] Loss: 1.0024\n",
      "Epoch [7/100] Loss: 1.1802\n",
      "Epoch [7/100] Loss: 1.3655\n",
      "Epoch [7/100] Loss: 1.3832\n",
      "Epoch [7/100] Loss: 1.0637\n",
      "Epoch [7/100] Loss: 1.2342\n"
     ]
    },
    {
     "name": "stderr",
     "output_type": "stream",
     "text": [
      "1684it [04:20,  6.46it/s]\n"
     ]
    },
    {
     "name": "stdout",
     "output_type": "stream",
     "text": [
      "Overall Acc: \t 0.580636342306\n",
      "Mean Acc : \t 0.386203778615\n",
      "FreqW Acc : \t 0.407784827791\n",
      "Mean IoU : \t 0.279016024253\n",
      "Epoch [8/100] Loss: 1.2903\n",
      "Epoch [8/100] Loss: 1.2400\n",
      "Epoch [8/100] Loss: 1.1025\n",
      "Epoch [8/100] Loss: 1.4828\n",
      "Epoch [8/100] Loss: 0.9356\n",
      "Epoch [8/100] Loss: 0.9813\n",
      "Epoch [8/100] Loss: 1.1023\n",
      "Epoch [8/100] Loss: 1.0233\n",
      "Epoch [8/100] Loss: 1.2824\n",
      "Epoch [8/100] Loss: 1.3036\n",
      "Epoch [8/100] Loss: 0.9444\n",
      "Epoch [8/100] Loss: 1.5585\n",
      "Epoch [8/100] Loss: 1.1599\n",
      "Epoch [8/100] Loss: 1.0355\n",
      "Epoch [8/100] Loss: 0.7420\n",
      "Epoch [8/100] Loss: 0.7129\n",
      "Epoch [8/100] Loss: 1.5097\n"
     ]
    },
    {
     "name": "stderr",
     "output_type": "stream",
     "text": [
      "1684it [04:23,  6.40it/s]\n"
     ]
    },
    {
     "name": "stdout",
     "output_type": "stream",
     "text": [
      "Overall Acc: \t 0.583881431131\n",
      "Mean Acc : \t 0.404963711912\n",
      "FreqW Acc : \t 0.413390012955\n",
      "Mean IoU : \t 0.290488710975\n",
      "Epoch [9/100] Loss: 1.1282\n",
      "Epoch [9/100] Loss: 1.2137\n",
      "Epoch [9/100] Loss: 1.2296\n",
      "Epoch [9/100] Loss: 1.1753\n",
      "Epoch [9/100] Loss: 1.1440\n",
      "Epoch [9/100] Loss: 0.7511\n",
      "Epoch [9/100] Loss: 1.1209\n",
      "Epoch [9/100] Loss: 1.3405\n",
      "Epoch [9/100] Loss: 1.2541\n",
      "Epoch [9/100] Loss: 1.0690\n",
      "Epoch [9/100] Loss: 0.8879\n",
      "Epoch [9/100] Loss: 1.1557\n",
      "Epoch [9/100] Loss: 0.8479\n",
      "Epoch [9/100] Loss: 0.9141\n",
      "Epoch [9/100] Loss: 1.3886\n",
      "Epoch [9/100] Loss: 1.2734\n",
      "Epoch [9/100] Loss: 0.8998\n"
     ]
    },
    {
     "name": "stderr",
     "output_type": "stream",
     "text": [
      "1684it [04:23,  6.38it/s]"
     ]
    },
    {
     "name": "stdout",
     "output_type": "stream",
     "text": [
      "Overall Acc: \t 0.585892966172\n",
      "Mean Acc : \t 0.396309505556\n",
      "FreqW Acc : \t 0.416034512419\n",
      "Mean IoU : \t 0.28720316666\n"
     ]
    },
    {
     "name": "stderr",
     "output_type": "stream",
     "text": [
      "\n"
     ]
    },
    {
     "name": "stdout",
     "output_type": "stream",
     "text": [
      "Epoch [10/100] Loss: 1.3715\n",
      "Epoch [10/100] Loss: 1.1264\n",
      "Epoch [10/100] Loss: 1.1053\n",
      "Epoch [10/100] Loss: 1.1377\n",
      "Epoch [10/100] Loss: 1.0546\n",
      "Epoch [10/100] Loss: 0.7843\n",
      "Epoch [10/100] Loss: 1.1169\n",
      "Epoch [10/100] Loss: 1.4604\n",
      "Epoch [10/100] Loss: 1.0141\n",
      "Epoch [10/100] Loss: 0.9585\n",
      "Epoch [10/100] Loss: 1.3288\n",
      "Epoch [10/100] Loss: 1.0702\n",
      "Epoch [10/100] Loss: 1.0529\n",
      "Epoch [10/100] Loss: 1.2163\n",
      "Epoch [10/100] Loss: 1.0229\n",
      "Epoch [10/100] Loss: 0.9652\n",
      "Epoch [10/100] Loss: 1.8783\n"
     ]
    },
    {
     "name": "stderr",
     "output_type": "stream",
     "text": [
      "1684it [04:23,  6.38it/s]\n"
     ]
    },
    {
     "name": "stdout",
     "output_type": "stream",
     "text": [
      "Overall Acc: \t 0.591110655167\n",
      "Mean Acc : \t 0.428029473819\n",
      "FreqW Acc : \t 0.4214751246\n",
      "Mean IoU : \t 0.302398810858\n",
      "Epoch [11/100] Loss: 1.8031\n",
      "Epoch [11/100] Loss: 1.2122\n",
      "Epoch [11/100] Loss: 1.2399\n",
      "Epoch [11/100] Loss: 1.1957\n",
      "Epoch [11/100] Loss: 1.1667\n",
      "Epoch [11/100] Loss: 1.1921\n",
      "Epoch [11/100] Loss: 1.3528\n",
      "Epoch [11/100] Loss: 1.3555\n",
      "Epoch [11/100] Loss: 0.9145\n",
      "Epoch [11/100] Loss: 1.0732\n",
      "Epoch [11/100] Loss: 1.1069\n",
      "Epoch [11/100] Loss: 1.3077\n",
      "Epoch [11/100] Loss: 1.1695\n",
      "Epoch [11/100] Loss: 0.7240\n",
      "Epoch [11/100] Loss: 0.9276\n",
      "Epoch [11/100] Loss: 1.2313\n",
      "Epoch [11/100] Loss: 1.0256\n"
     ]
    },
    {
     "name": "stderr",
     "output_type": "stream",
     "text": [
      "1684it [04:23,  6.40it/s]"
     ]
    },
    {
     "name": "stdout",
     "output_type": "stream",
     "text": [
      "Overall Acc: \t 0.59358396117\n",
      "Mean Acc : \t 0.417556519349\n",
      "FreqW Acc : \t 0.421527222537\n",
      "Mean IoU : \t 0.302240765717\n"
     ]
    },
    {
     "name": "stderr",
     "output_type": "stream",
     "text": [
      "\n"
     ]
    },
    {
     "name": "stdout",
     "output_type": "stream",
     "text": [
      "Epoch [12/100] Loss: 1.2921\n",
      "Epoch [12/100] Loss: 1.1185\n",
      "Epoch [12/100] Loss: 1.4760\n",
      "Epoch [12/100] Loss: 1.4855\n",
      "Epoch [12/100] Loss: 1.2311\n",
      "Epoch [12/100] Loss: 1.0016\n",
      "Epoch [12/100] Loss: 1.0391\n",
      "Epoch [12/100] Loss: 1.1970\n",
      "Epoch [12/100] Loss: 1.4037\n",
      "Epoch [12/100] Loss: 1.4204\n",
      "Epoch [12/100] Loss: 1.1893\n",
      "Epoch [12/100] Loss: 0.7270\n",
      "Epoch [12/100] Loss: 1.3339\n",
      "Epoch [12/100] Loss: 1.0614\n",
      "Epoch [12/100] Loss: 1.7734\n",
      "Epoch [12/100] Loss: 1.0166\n",
      "Epoch [12/100] Loss: 1.4207\n"
     ]
    },
    {
     "name": "stderr",
     "output_type": "stream",
     "text": [
      "1684it [04:23,  6.40it/s]\n"
     ]
    },
    {
     "name": "stdout",
     "output_type": "stream",
     "text": [
      "Overall Acc: \t 0.594089228161\n",
      "Mean Acc : \t 0.413053025812\n",
      "FreqW Acc : \t 0.428603649845\n",
      "Mean IoU : \t 0.303609310026\n",
      "Epoch [13/100] Loss: 0.8530\n",
      "Epoch [13/100] Loss: 1.0613\n",
      "Epoch [13/100] Loss: 1.1295\n",
      "Epoch [13/100] Loss: 1.1118\n",
      "Epoch [13/100] Loss: 0.9852\n",
      "Epoch [13/100] Loss: 0.9104\n",
      "Epoch [13/100] Loss: 1.0015\n",
      "Epoch [13/100] Loss: 1.1800\n",
      "Epoch [13/100] Loss: 1.0071\n",
      "Epoch [13/100] Loss: 1.3107\n",
      "Epoch [13/100] Loss: 0.7729\n",
      "Epoch [13/100] Loss: 1.1785\n",
      "Epoch [13/100] Loss: 1.0996\n",
      "Epoch [13/100] Loss: 1.1481\n",
      "Epoch [13/100] Loss: 1.2682\n",
      "Epoch [13/100] Loss: 1.4779\n",
      "Epoch [13/100] Loss: 1.0372\n"
     ]
    },
    {
     "name": "stderr",
     "output_type": "stream",
     "text": [
      "1684it [04:20,  6.46it/s]\n"
     ]
    },
    {
     "name": "stdout",
     "output_type": "stream",
     "text": [
      "Overall Acc: \t 0.593456856565\n",
      "Mean Acc : \t 0.44389473938\n",
      "FreqW Acc : \t 0.427369046144\n",
      "Mean IoU : \t 0.314246431698\n",
      "Epoch [14/100] Loss: 0.7244\n",
      "Epoch [14/100] Loss: 1.2784\n",
      "Epoch [14/100] Loss: 1.1520\n",
      "Epoch [14/100] Loss: 1.2771\n",
      "Epoch [14/100] Loss: 1.7348\n",
      "Epoch [14/100] Loss: 1.2972\n",
      "Epoch [14/100] Loss: 1.1483\n",
      "Epoch [14/100] Loss: 1.2249\n",
      "Epoch [14/100] Loss: 0.9536\n",
      "Epoch [14/100] Loss: 1.0855\n",
      "Epoch [14/100] Loss: 1.1477\n",
      "Epoch [14/100] Loss: 1.2146\n",
      "Epoch [14/100] Loss: 0.9327\n",
      "Epoch [14/100] Loss: 1.3338\n",
      "Epoch [14/100] Loss: 1.1398\n",
      "Epoch [14/100] Loss: 1.2896\n",
      "Epoch [14/100] Loss: 1.1688\n"
     ]
    },
    {
     "name": "stderr",
     "output_type": "stream",
     "text": [
      "1684it [04:22,  6.42it/s]"
     ]
    },
    {
     "name": "stdout",
     "output_type": "stream",
     "text": [
      "Overall Acc: \t 0.600226701088\n",
      "Mean Acc : \t 0.428712444359\n",
      "FreqW Acc : \t 0.432180431258\n",
      "Mean IoU : \t 0.31248575835\n"
     ]
    },
    {
     "name": "stderr",
     "output_type": "stream",
     "text": [
      "\n"
     ]
    },
    {
     "name": "stdout",
     "output_type": "stream",
     "text": [
      "Epoch [15/100] Loss: 1.0895\n",
      "Epoch [15/100] Loss: 1.2137\n",
      "Epoch [15/100] Loss: 0.9139\n",
      "Epoch [15/100] Loss: 1.2960\n",
      "Epoch [15/100] Loss: 1.4111\n",
      "Epoch [15/100] Loss: 1.3200\n",
      "Epoch [15/100] Loss: 0.9546\n",
      "Epoch [15/100] Loss: 0.8968\n",
      "Epoch [15/100] Loss: 1.1810\n",
      "Epoch [15/100] Loss: 0.9844\n",
      "Epoch [15/100] Loss: 1.0617\n",
      "Epoch [15/100] Loss: 1.0655\n",
      "Epoch [15/100] Loss: 0.8401\n",
      "Epoch [15/100] Loss: 1.2227\n",
      "Epoch [15/100] Loss: 0.9576\n",
      "Epoch [15/100] Loss: 1.2413\n",
      "Epoch [15/100] Loss: 1.2663\n"
     ]
    },
    {
     "name": "stderr",
     "output_type": "stream",
     "text": [
      "1684it [04:24,  6.36it/s]\n"
     ]
    },
    {
     "name": "stdout",
     "output_type": "stream",
     "text": [
      "Overall Acc: \t 0.601564957843\n",
      "Mean Acc : \t 0.442209623084\n",
      "FreqW Acc : \t 0.430737707344\n",
      "Mean IoU : \t 0.317405022428\n",
      "Epoch [16/100] Loss: 0.9257\n",
      "Epoch [16/100] Loss: 0.9869\n",
      "Epoch [16/100] Loss: 1.3290\n",
      "Epoch [16/100] Loss: 1.2594\n",
      "Epoch [16/100] Loss: 0.8325\n",
      "Epoch [16/100] Loss: 0.8648\n",
      "Epoch [16/100] Loss: 2.2166\n",
      "Epoch [16/100] Loss: 1.0637\n",
      "Epoch [16/100] Loss: 0.8511\n",
      "Epoch [16/100] Loss: 1.2762\n",
      "Epoch [16/100] Loss: 1.0551\n",
      "Epoch [16/100] Loss: 1.2149\n",
      "Epoch [16/100] Loss: 1.0283\n",
      "Epoch [16/100] Loss: 0.9436\n",
      "Epoch [16/100] Loss: 1.1822\n",
      "Epoch [16/100] Loss: 1.0409\n",
      "Epoch [16/100] Loss: 0.9153\n"
     ]
    },
    {
     "name": "stderr",
     "output_type": "stream",
     "text": [
      "1684it [04:21,  6.44it/s]"
     ]
    },
    {
     "name": "stdout",
     "output_type": "stream",
     "text": [
      "Overall Acc: \t 0.603705392043\n",
      "Mean Acc : \t 0.420793937165\n",
      "FreqW Acc : \t 0.433876393795\n",
      "Mean IoU : \t 0.309940732541\n"
     ]
    },
    {
     "name": "stderr",
     "output_type": "stream",
     "text": [
      "\n"
     ]
    },
    {
     "name": "stdout",
     "output_type": "stream",
     "text": [
      "Epoch [17/100] Loss: 1.3941\n",
      "Epoch [17/100] Loss: 0.8040\n",
      "Epoch [17/100] Loss: 0.8071\n",
      "Epoch [17/100] Loss: 1.0884\n",
      "Epoch [17/100] Loss: 0.9156\n",
      "Epoch [17/100] Loss: 1.0638\n",
      "Epoch [17/100] Loss: 1.4876\n",
      "Epoch [17/100] Loss: 1.2453\n",
      "Epoch [17/100] Loss: 0.6440\n",
      "Epoch [17/100] Loss: 1.0079\n",
      "Epoch [17/100] Loss: 1.3038\n",
      "Epoch [17/100] Loss: 0.7545\n",
      "Epoch [17/100] Loss: 0.7730\n",
      "Epoch [17/100] Loss: 1.1985\n",
      "Epoch [17/100] Loss: 1.3784\n",
      "Epoch [17/100] Loss: 0.9749\n",
      "Epoch [17/100] Loss: 0.8798\n"
     ]
    },
    {
     "name": "stderr",
     "output_type": "stream",
     "text": [
      "1684it [04:24,  6.38it/s]\n"
     ]
    },
    {
     "name": "stdout",
     "output_type": "stream",
     "text": [
      "Overall Acc: \t 0.604227704079\n",
      "Mean Acc : \t 0.444378875794\n",
      "FreqW Acc : \t 0.437361997218\n",
      "Mean IoU : \t 0.321410493275\n",
      "Epoch [18/100] Loss: 1.2075\n",
      "Epoch [18/100] Loss: 0.9120\n",
      "Epoch [18/100] Loss: 0.8541\n",
      "Epoch [18/100] Loss: 1.1326\n",
      "Epoch [18/100] Loss: 0.8973\n",
      "Epoch [18/100] Loss: 0.9606\n",
      "Epoch [18/100] Loss: 1.0530\n",
      "Epoch [18/100] Loss: 0.8805\n",
      "Epoch [18/100] Loss: 1.1025\n",
      "Epoch [18/100] Loss: 0.7057\n",
      "Epoch [18/100] Loss: 0.9285\n",
      "Epoch [18/100] Loss: 1.1054\n",
      "Epoch [18/100] Loss: 1.2857\n",
      "Epoch [18/100] Loss: 1.2941\n",
      "Epoch [18/100] Loss: 1.0686\n",
      "Epoch [18/100] Loss: 1.2924\n",
      "Epoch [18/100] Loss: 0.8781\n"
     ]
    },
    {
     "name": "stderr",
     "output_type": "stream",
     "text": [
      "1684it [04:20,  6.47it/s]\n"
     ]
    },
    {
     "name": "stdout",
     "output_type": "stream",
     "text": [
      "Overall Acc: \t 0.608000834751\n",
      "Mean Acc : \t 0.446500389403\n",
      "FreqW Acc : \t 0.440177401756\n",
      "Mean IoU : \t 0.323435901447\n",
      "Epoch [19/100] Loss: 0.8400\n",
      "Epoch [19/100] Loss: 1.1659\n",
      "Epoch [19/100] Loss: 1.0548\n",
      "Epoch [19/100] Loss: 1.0571\n",
      "Epoch [19/100] Loss: 1.1651\n",
      "Epoch [19/100] Loss: 0.9842\n",
      "Epoch [19/100] Loss: 0.6945\n",
      "Epoch [19/100] Loss: 0.6860\n",
      "Epoch [19/100] Loss: 0.9813\n",
      "Epoch [19/100] Loss: 0.9939\n",
      "Epoch [19/100] Loss: 0.7614\n",
      "Epoch [19/100] Loss: 0.8054\n",
      "Epoch [19/100] Loss: 0.7971\n",
      "Epoch [19/100] Loss: 1.3095\n",
      "Epoch [19/100] Loss: 1.0350\n",
      "Epoch [19/100] Loss: 1.1062\n",
      "Epoch [19/100] Loss: 1.1310\n"
     ]
    },
    {
     "name": "stderr",
     "output_type": "stream",
     "text": [
      "1684it [04:22,  6.42it/s]\n"
     ]
    },
    {
     "name": "stdout",
     "output_type": "stream",
     "text": [
      "Overall Acc: \t 0.606372824489\n",
      "Mean Acc : \t 0.442315598922\n",
      "FreqW Acc : \t 0.440128978076\n",
      "Mean IoU : \t 0.32372364726\n",
      "Epoch [20/100] Loss: 1.3221\n",
      "Epoch [20/100] Loss: 1.1303\n",
      "Epoch [20/100] Loss: 0.7198\n",
      "Epoch [20/100] Loss: 1.3358\n",
      "Epoch [20/100] Loss: 1.3234\n",
      "Epoch [20/100] Loss: 0.9164\n",
      "Epoch [20/100] Loss: 0.7598\n",
      "Epoch [20/100] Loss: 1.0797\n",
      "Epoch [20/100] Loss: 1.0656\n",
      "Epoch [20/100] Loss: 0.8532\n",
      "Epoch [20/100] Loss: 0.8422\n",
      "Epoch [20/100] Loss: 0.6015\n",
      "Epoch [20/100] Loss: 0.8340\n",
      "Epoch [20/100] Loss: 0.9811\n",
      "Epoch [20/100] Loss: 0.7435\n",
      "Epoch [20/100] Loss: 0.7112\n",
      "Epoch [20/100] Loss: 0.6380\n"
     ]
    },
    {
     "name": "stderr",
     "output_type": "stream",
     "text": [
      "1684it [04:21,  6.44it/s]\n"
     ]
    },
    {
     "name": "stdout",
     "output_type": "stream",
     "text": [
      "Overall Acc: \t 0.605816297313\n",
      "Mean Acc : \t 0.451279821988\n",
      "FreqW Acc : \t 0.437116352389\n",
      "Mean IoU : \t 0.326570495916\n",
      "Epoch [21/100] Loss: 0.8758\n",
      "Epoch [21/100] Loss: 1.3785\n",
      "Epoch [21/100] Loss: 0.7542\n",
      "Epoch [21/100] Loss: 0.8838\n",
      "Epoch [21/100] Loss: 0.7371\n",
      "Epoch [21/100] Loss: 0.8172\n",
      "Epoch [21/100] Loss: 0.8641\n",
      "Epoch [21/100] Loss: 0.7981\n",
      "Epoch [21/100] Loss: 0.8239\n",
      "Epoch [21/100] Loss: 0.9247\n",
      "Epoch [21/100] Loss: 0.9053\n",
      "Epoch [21/100] Loss: 1.0378\n",
      "Epoch [21/100] Loss: 0.8226\n",
      "Epoch [21/100] Loss: 0.9627\n",
      "Epoch [21/100] Loss: 0.9097\n",
      "Epoch [21/100] Loss: 1.0738\n",
      "Epoch [21/100] Loss: 1.0318\n"
     ]
    },
    {
     "name": "stderr",
     "output_type": "stream",
     "text": [
      "1684it [04:22,  6.42it/s]\n"
     ]
    },
    {
     "name": "stdout",
     "output_type": "stream",
     "text": [
      "Overall Acc: \t 0.608081621932\n",
      "Mean Acc : \t 0.459831653017\n",
      "FreqW Acc : \t 0.442318279175\n",
      "Mean IoU : \t 0.329028310483\n",
      "Epoch [22/100] Loss: 1.0866\n",
      "Epoch [22/100] Loss: 0.8034\n",
      "Epoch [22/100] Loss: 1.3229\n",
      "Epoch [22/100] Loss: 0.9495\n",
      "Epoch [22/100] Loss: 1.1471\n",
      "Epoch [22/100] Loss: 1.0547\n",
      "Epoch [22/100] Loss: 0.7951\n",
      "Epoch [22/100] Loss: 0.8232\n",
      "Epoch [22/100] Loss: 1.3036\n",
      "Epoch [22/100] Loss: 0.7078\n",
      "Epoch [22/100] Loss: 1.1692\n",
      "Epoch [22/100] Loss: 0.8941\n",
      "Epoch [22/100] Loss: 1.2526\n",
      "Epoch [22/100] Loss: 1.2239\n",
      "Epoch [22/100] Loss: 0.8666\n",
      "Epoch [22/100] Loss: 0.9075\n",
      "Epoch [22/100] Loss: 0.9213\n"
     ]
    },
    {
     "name": "stderr",
     "output_type": "stream",
     "text": [
      "1684it [04:22,  6.41it/s]\n"
     ]
    },
    {
     "name": "stdout",
     "output_type": "stream",
     "text": [
      "Overall Acc: \t 0.609295665094\n",
      "Mean Acc : \t 0.472149644057\n",
      "FreqW Acc : \t 0.443730891113\n",
      "Mean IoU : \t 0.333695853058\n",
      "Epoch [23/100] Loss: 0.8717\n",
      "Epoch [23/100] Loss: 0.8355\n",
      "Epoch [23/100] Loss: 0.8334\n",
      "Epoch [23/100] Loss: 0.6291\n",
      "Epoch [23/100] Loss: 1.0553\n",
      "Epoch [23/100] Loss: 0.8819\n",
      "Epoch [23/100] Loss: 1.0779\n",
      "Epoch [23/100] Loss: 1.3748\n",
      "Epoch [23/100] Loss: 1.0270\n",
      "Epoch [23/100] Loss: 0.9099\n",
      "Epoch [23/100] Loss: 0.9135\n",
      "Epoch [23/100] Loss: 0.7973\n",
      "Epoch [23/100] Loss: 0.8207\n",
      "Epoch [23/100] Loss: 0.9302\n",
      "Epoch [23/100] Loss: 0.8270\n",
      "Epoch [23/100] Loss: 1.4229\n",
      "Epoch [23/100] Loss: 1.1267\n"
     ]
    },
    {
     "name": "stderr",
     "output_type": "stream",
     "text": [
      "1684it [04:20,  6.47it/s]"
     ]
    },
    {
     "name": "stdout",
     "output_type": "stream",
     "text": [
      "Overall Acc: \t 0.611290570209\n",
      "Mean Acc : \t 0.449804859024\n",
      "FreqW Acc : \t 0.443537686884\n",
      "Mean IoU : \t 0.328001511683\n"
     ]
    },
    {
     "name": "stderr",
     "output_type": "stream",
     "text": [
      "\n"
     ]
    },
    {
     "name": "stdout",
     "output_type": "stream",
     "text": [
      "Epoch [24/100] Loss: 1.3119\n",
      "Epoch [24/100] Loss: 1.0048\n",
      "Epoch [24/100] Loss: 0.7844\n",
      "Epoch [24/100] Loss: 0.8406\n",
      "Epoch [24/100] Loss: 1.1731\n",
      "Epoch [24/100] Loss: 0.9583\n",
      "Epoch [24/100] Loss: 1.1919\n",
      "Epoch [24/100] Loss: 0.8628\n",
      "Epoch [24/100] Loss: 0.6682\n",
      "Epoch [24/100] Loss: 0.9862\n",
      "Epoch [24/100] Loss: 0.9565\n",
      "Epoch [24/100] Loss: 0.9497\n",
      "Epoch [24/100] Loss: 1.0351\n",
      "Epoch [24/100] Loss: 0.9237\n",
      "Epoch [24/100] Loss: 1.0834\n",
      "Epoch [24/100] Loss: 0.8728\n",
      "Epoch [24/100] Loss: 1.1744\n"
     ]
    },
    {
     "name": "stderr",
     "output_type": "stream",
     "text": [
      "1684it [04:23,  6.39it/s]"
     ]
    },
    {
     "name": "stdout",
     "output_type": "stream",
     "text": [
      "Overall Acc: \t 0.608925919193\n",
      "Mean Acc : \t 0.460071756268\n",
      "FreqW Acc : \t 0.443276867629\n",
      "Mean IoU : \t 0.331228917667\n"
     ]
    },
    {
     "name": "stderr",
     "output_type": "stream",
     "text": [
      "\n"
     ]
    },
    {
     "name": "stdout",
     "output_type": "stream",
     "text": [
      "Epoch [25/100] Loss: 1.1460\n",
      "Epoch [25/100] Loss: 1.2624\n",
      "Epoch [25/100] Loss: 0.9294\n",
      "Epoch [25/100] Loss: 0.8756\n",
      "Epoch [25/100] Loss: 0.9404\n",
      "Epoch [25/100] Loss: 0.9551\n",
      "Epoch [25/100] Loss: 1.7148\n",
      "Epoch [25/100] Loss: 1.0452\n",
      "Epoch [25/100] Loss: 0.9942\n",
      "Epoch [25/100] Loss: 0.9062\n",
      "Epoch [25/100] Loss: 0.8290\n",
      "Epoch [25/100] Loss: 1.3642\n",
      "Epoch [25/100] Loss: 0.6992\n",
      "Epoch [25/100] Loss: 0.6571\n",
      "Epoch [25/100] Loss: 1.0521\n",
      "Epoch [25/100] Loss: 1.2345\n",
      "Epoch [25/100] Loss: 1.0267\n"
     ]
    },
    {
     "name": "stderr",
     "output_type": "stream",
     "text": [
      "1684it [04:21,  6.44it/s]\n"
     ]
    },
    {
     "name": "stdout",
     "output_type": "stream",
     "text": [
      "Overall Acc: \t 0.609130743992\n",
      "Mean Acc : \t 0.469479037446\n",
      "FreqW Acc : \t 0.447506209503\n",
      "Mean IoU : \t 0.337630854842\n",
      "Epoch [26/100] Loss: 1.0007\n",
      "Epoch [26/100] Loss: 1.0075\n",
      "Epoch [26/100] Loss: 0.8708\n",
      "Epoch [26/100] Loss: 1.0129\n",
      "Epoch [26/100] Loss: 0.8413\n",
      "Epoch [26/100] Loss: 0.8526\n",
      "Epoch [26/100] Loss: 1.0813\n",
      "Epoch [26/100] Loss: 0.6449\n",
      "Epoch [26/100] Loss: 0.8310\n",
      "Epoch [26/100] Loss: 1.1465\n",
      "Epoch [26/100] Loss: 1.0601\n",
      "Epoch [26/100] Loss: 0.9811\n",
      "Epoch [26/100] Loss: 0.9562\n",
      "Epoch [26/100] Loss: 0.9712\n",
      "Epoch [26/100] Loss: 0.5613\n",
      "Epoch [26/100] Loss: 1.1629\n",
      "Epoch [26/100] Loss: 1.3691\n"
     ]
    },
    {
     "name": "stderr",
     "output_type": "stream",
     "text": [
      "1684it [04:22,  6.42it/s]"
     ]
    },
    {
     "name": "stdout",
     "output_type": "stream",
     "text": [
      "Overall Acc: \t 0.614902412077\n",
      "Mean Acc : \t 0.466267696058\n",
      "FreqW Acc : \t 0.447606337156\n",
      "Mean IoU : \t 0.33554692218\n"
     ]
    },
    {
     "name": "stderr",
     "output_type": "stream",
     "text": [
      "\n"
     ]
    },
    {
     "name": "stdout",
     "output_type": "stream",
     "text": [
      "Epoch [27/100] Loss: 1.0054\n",
      "Epoch [27/100] Loss: 0.9633\n",
      "Epoch [27/100] Loss: 0.8817\n",
      "Epoch [27/100] Loss: 1.2248\n",
      "Epoch [27/100] Loss: 0.7996\n",
      "Epoch [27/100] Loss: 0.9603\n",
      "Epoch [27/100] Loss: 0.9238\n",
      "Epoch [27/100] Loss: 0.6966\n",
      "Epoch [27/100] Loss: 1.0923\n",
      "Epoch [27/100] Loss: 1.4508\n",
      "Epoch [27/100] Loss: 1.4072\n",
      "Epoch [27/100] Loss: 0.9610\n",
      "Epoch [27/100] Loss: 1.0336\n",
      "Epoch [27/100] Loss: 0.9540\n",
      "Epoch [27/100] Loss: 0.6501\n",
      "Epoch [27/100] Loss: 1.0026\n",
      "Epoch [27/100] Loss: 1.0067\n"
     ]
    },
    {
     "name": "stderr",
     "output_type": "stream",
     "text": [
      "1684it [04:21,  6.43it/s]"
     ]
    },
    {
     "name": "stdout",
     "output_type": "stream",
     "text": [
      "Overall Acc: \t 0.605854347153\n",
      "Mean Acc : \t 0.477169323921\n",
      "FreqW Acc : \t 0.444057161332\n",
      "Mean IoU : \t 0.337210836362\n"
     ]
    },
    {
     "name": "stderr",
     "output_type": "stream",
     "text": [
      "\n"
     ]
    },
    {
     "name": "stdout",
     "output_type": "stream",
     "text": [
      "Epoch [28/100] Loss: 0.9278\n",
      "Epoch [28/100] Loss: 0.6857\n",
      "Epoch [28/100] Loss: 1.3109\n",
      "Epoch [28/100] Loss: 0.7832\n",
      "Epoch [28/100] Loss: 1.2199\n",
      "Epoch [28/100] Loss: 1.6220\n",
      "Epoch [28/100] Loss: 1.1588\n",
      "Epoch [28/100] Loss: 1.0071\n",
      "Epoch [28/100] Loss: 0.9586\n",
      "Epoch [28/100] Loss: 0.7001\n",
      "Epoch [28/100] Loss: 1.1067\n",
      "Epoch [28/100] Loss: 0.9545\n",
      "Epoch [28/100] Loss: 1.1298\n",
      "Epoch [28/100] Loss: 1.4127\n",
      "Epoch [28/100] Loss: 1.0077\n",
      "Epoch [28/100] Loss: 1.1818\n",
      "Epoch [28/100] Loss: 0.9282\n"
     ]
    },
    {
     "name": "stderr",
     "output_type": "stream",
     "text": [
      "1684it [04:19,  6.48it/s]\n"
     ]
    },
    {
     "name": "stdout",
     "output_type": "stream",
     "text": [
      "Overall Acc: \t 0.609494852259\n",
      "Mean Acc : \t 0.478219104904\n",
      "FreqW Acc : \t 0.447991196492\n",
      "Mean IoU : \t 0.339344211226\n",
      "Epoch [29/100] Loss: 0.9026\n",
      "Epoch [29/100] Loss: 0.8585\n",
      "Epoch [29/100] Loss: 0.7680\n",
      "Epoch [29/100] Loss: 1.1340\n",
      "Epoch [29/100] Loss: 0.7605\n",
      "Epoch [29/100] Loss: 0.7720\n",
      "Epoch [29/100] Loss: 0.9710\n",
      "Epoch [29/100] Loss: 1.5849\n",
      "Epoch [29/100] Loss: 1.3237\n",
      "Epoch [29/100] Loss: 1.0474\n",
      "Epoch [29/100] Loss: 1.2532\n",
      "Epoch [29/100] Loss: 0.9126\n",
      "Epoch [29/100] Loss: 0.6951\n",
      "Epoch [29/100] Loss: 1.1936\n",
      "Epoch [29/100] Loss: 0.7651\n",
      "Epoch [29/100] Loss: 0.8130\n",
      "Epoch [29/100] Loss: 0.8293\n"
     ]
    },
    {
     "name": "stderr",
     "output_type": "stream",
     "text": [
      "1684it [04:20,  6.48it/s]"
     ]
    },
    {
     "name": "stdout",
     "output_type": "stream",
     "text": [
      "Overall Acc: \t 0.610191617033\n",
      "Mean Acc : \t 0.472474443246\n",
      "FreqW Acc : \t 0.448667597973\n",
      "Mean IoU : \t 0.338291991684\n"
     ]
    },
    {
     "name": "stderr",
     "output_type": "stream",
     "text": [
      "\n"
     ]
    },
    {
     "name": "stdout",
     "output_type": "stream",
     "text": [
      "Epoch [30/100] Loss: 0.7405\n",
      "Epoch [30/100] Loss: 0.7812\n",
      "Epoch [30/100] Loss: 1.0944\n",
      "Epoch [30/100] Loss: 0.6245\n",
      "Epoch [30/100] Loss: 0.7469\n",
      "Epoch [30/100] Loss: 0.9676\n",
      "Epoch [30/100] Loss: 0.8502\n",
      "Epoch [30/100] Loss: 0.8926\n",
      "Epoch [30/100] Loss: 0.7854\n",
      "Epoch [30/100] Loss: 0.5024\n",
      "Epoch [30/100] Loss: 0.7717\n",
      "Epoch [30/100] Loss: 0.9101\n",
      "Epoch [30/100] Loss: 0.7295\n",
      "Epoch [30/100] Loss: 0.9422\n",
      "Epoch [30/100] Loss: 0.9054\n",
      "Epoch [30/100] Loss: 0.8095\n",
      "Epoch [30/100] Loss: 1.1886\n"
     ]
    },
    {
     "name": "stderr",
     "output_type": "stream",
     "text": [
      "1684it [04:19,  6.49it/s]"
     ]
    },
    {
     "name": "stdout",
     "output_type": "stream",
     "text": [
      "Overall Acc: \t 0.612718315542\n",
      "Mean Acc : \t 0.482382135746\n",
      "FreqW Acc : \t 0.444910824824\n",
      "Mean IoU : \t 0.339224979265\n"
     ]
    },
    {
     "name": "stderr",
     "output_type": "stream",
     "text": [
      "\n"
     ]
    },
    {
     "name": "stdout",
     "output_type": "stream",
     "text": [
      "Epoch [31/100] Loss: 0.8696\n",
      "Epoch [31/100] Loss: 0.9553\n",
      "Epoch [31/100] Loss: 0.8029\n",
      "Epoch [31/100] Loss: 0.7951\n",
      "Epoch [31/100] Loss: 0.8941\n",
      "Epoch [31/100] Loss: 0.8501\n",
      "Epoch [31/100] Loss: 1.0365\n",
      "Epoch [31/100] Loss: 0.9005\n",
      "Epoch [31/100] Loss: 1.0202\n",
      "Epoch [31/100] Loss: 0.8012\n",
      "Epoch [31/100] Loss: 0.9227\n",
      "Epoch [31/100] Loss: 1.0683\n",
      "Epoch [31/100] Loss: 1.0019\n",
      "Epoch [31/100] Loss: 1.1643\n",
      "Epoch [31/100] Loss: 1.1800\n",
      "Epoch [31/100] Loss: 0.7519\n",
      "Epoch [31/100] Loss: 0.8841\n"
     ]
    },
    {
     "name": "stderr",
     "output_type": "stream",
     "text": [
      "1684it [04:20,  6.47it/s]\n"
     ]
    },
    {
     "name": "stdout",
     "output_type": "stream",
     "text": [
      "Overall Acc: \t 0.61723899933\n",
      "Mean Acc : \t 0.468453132021\n",
      "FreqW Acc : \t 0.452618092348\n",
      "Mean IoU : \t 0.341352381684\n",
      "Epoch [32/100] Loss: 0.5970\n",
      "Epoch [32/100] Loss: 1.1454\n",
      "Epoch [32/100] Loss: 0.9271\n",
      "Epoch [32/100] Loss: 1.0827\n",
      "Epoch [32/100] Loss: 0.6480\n",
      "Epoch [32/100] Loss: 0.6799\n",
      "Epoch [32/100] Loss: 1.0824\n",
      "Epoch [32/100] Loss: 0.9072\n",
      "Epoch [32/100] Loss: 0.8302\n",
      "Epoch [32/100] Loss: 1.1165\n",
      "Epoch [32/100] Loss: 0.9383\n",
      "Epoch [32/100] Loss: 1.0082\n",
      "Epoch [32/100] Loss: 1.1660\n",
      "Epoch [32/100] Loss: 1.2465\n",
      "Epoch [32/100] Loss: 0.6047\n",
      "Epoch [32/100] Loss: 0.8550\n",
      "Epoch [32/100] Loss: 0.8470\n"
     ]
    },
    {
     "name": "stderr",
     "output_type": "stream",
     "text": [
      "1684it [04:22,  6.41it/s]"
     ]
    },
    {
     "name": "stdout",
     "output_type": "stream",
     "text": [
      "Overall Acc: \t 0.616262726898\n",
      "Mean Acc : \t 0.466588240809\n",
      "FreqW Acc : \t 0.447410168034\n",
      "Mean IoU : \t 0.338202442567\n"
     ]
    },
    {
     "name": "stderr",
     "output_type": "stream",
     "text": [
      "\n"
     ]
    },
    {
     "name": "stdout",
     "output_type": "stream",
     "text": [
      "Epoch [33/100] Loss: 0.9242\n",
      "Epoch [33/100] Loss: 0.7101\n",
      "Epoch [33/100] Loss: 1.0488\n",
      "Epoch [33/100] Loss: 0.7143\n",
      "Epoch [33/100] Loss: 1.1652\n",
      "Epoch [33/100] Loss: 0.9590\n",
      "Epoch [33/100] Loss: 0.7411\n",
      "Epoch [33/100] Loss: 0.8153\n",
      "Epoch [33/100] Loss: 0.7269\n",
      "Epoch [33/100] Loss: 0.6999\n",
      "Epoch [33/100] Loss: 0.9951\n",
      "Epoch [33/100] Loss: 0.8665\n",
      "Epoch [33/100] Loss: 0.7453\n",
      "Epoch [33/100] Loss: 1.3881\n",
      "Epoch [33/100] Loss: 0.8319\n",
      "Epoch [33/100] Loss: 0.8068\n",
      "Epoch [33/100] Loss: 0.9581\n"
     ]
    },
    {
     "name": "stderr",
     "output_type": "stream",
     "text": [
      "1684it [04:23,  6.39it/s]\n"
     ]
    },
    {
     "name": "stdout",
     "output_type": "stream",
     "text": [
      "Overall Acc: \t 0.616747832225\n",
      "Mean Acc : \t 0.472750706209\n",
      "FreqW Acc : \t 0.449109634298\n",
      "Mean IoU : \t 0.342390048184\n",
      "Epoch [34/100] Loss: 0.8529\n",
      "Epoch [34/100] Loss: 0.8581\n",
      "Epoch [34/100] Loss: 1.0272\n",
      "Epoch [34/100] Loss: 0.8414\n",
      "Epoch [34/100] Loss: 0.8119\n",
      "Epoch [34/100] Loss: 1.0254\n",
      "Epoch [34/100] Loss: 0.9396\n",
      "Epoch [34/100] Loss: 0.6180\n",
      "Epoch [34/100] Loss: 0.8627\n",
      "Epoch [34/100] Loss: 0.6503\n",
      "Epoch [34/100] Loss: 1.0766\n",
      "Epoch [34/100] Loss: 0.7239\n",
      "Epoch [34/100] Loss: 0.8340\n",
      "Epoch [34/100] Loss: 0.8132\n",
      "Epoch [34/100] Loss: 0.7104\n",
      "Epoch [34/100] Loss: 0.8758\n",
      "Epoch [34/100] Loss: 0.7443\n"
     ]
    },
    {
     "name": "stderr",
     "output_type": "stream",
     "text": [
      "1684it [04:25,  6.35it/s]"
     ]
    },
    {
     "name": "stdout",
     "output_type": "stream",
     "text": [
      "Overall Acc: \t 0.617353616827\n",
      "Mean Acc : \t 0.458969042423\n",
      "FreqW Acc : \t 0.448796217975\n",
      "Mean IoU : \t 0.337453305222\n"
     ]
    },
    {
     "name": "stderr",
     "output_type": "stream",
     "text": [
      "\n"
     ]
    },
    {
     "name": "stdout",
     "output_type": "stream",
     "text": [
      "Epoch [35/100] Loss: 0.6080\n",
      "Epoch [35/100] Loss: 0.9335\n",
      "Epoch [35/100] Loss: 0.9662\n",
      "Epoch [35/100] Loss: 0.8425\n",
      "Epoch [35/100] Loss: 1.1162\n",
      "Epoch [35/100] Loss: 1.1293\n",
      "Epoch [35/100] Loss: 0.7280\n",
      "Epoch [35/100] Loss: 1.0113\n",
      "Epoch [35/100] Loss: 1.1028\n",
      "Epoch [35/100] Loss: 0.9936\n",
      "Epoch [35/100] Loss: 0.5650\n",
      "Epoch [35/100] Loss: 0.8263\n",
      "Epoch [35/100] Loss: 0.5579\n",
      "Epoch [35/100] Loss: 0.8275\n",
      "Epoch [35/100] Loss: 0.9984\n",
      "Epoch [35/100] Loss: 0.7093\n",
      "Epoch [35/100] Loss: 1.2681\n"
     ]
    },
    {
     "name": "stderr",
     "output_type": "stream",
     "text": [
      "1684it [04:23,  6.39it/s]"
     ]
    },
    {
     "name": "stdout",
     "output_type": "stream",
     "text": [
      "Overall Acc: \t 0.614737024933\n",
      "Mean Acc : \t 0.48878011455\n",
      "FreqW Acc : \t 0.447388177791\n",
      "Mean IoU : \t 0.342120654787\n"
     ]
    },
    {
     "name": "stderr",
     "output_type": "stream",
     "text": [
      "\n"
     ]
    },
    {
     "name": "stdout",
     "output_type": "stream",
     "text": [
      "Epoch [36/100] Loss: 0.8493\n",
      "Epoch [36/100] Loss: 0.8130\n",
      "Epoch [36/100] Loss: 0.8620\n",
      "Epoch [36/100] Loss: 0.8108\n",
      "Epoch [36/100] Loss: 0.9652\n",
      "Epoch [36/100] Loss: 1.0352\n",
      "Epoch [36/100] Loss: 0.9462\n",
      "Epoch [36/100] Loss: 0.8877\n",
      "Epoch [36/100] Loss: 1.2725\n",
      "Epoch [36/100] Loss: 1.0011\n",
      "Epoch [36/100] Loss: 0.6015\n",
      "Epoch [36/100] Loss: 0.6866\n",
      "Epoch [36/100] Loss: 0.6866\n",
      "Epoch [36/100] Loss: 0.5847\n",
      "Epoch [36/100] Loss: 0.6122\n",
      "Epoch [36/100] Loss: 0.9485\n",
      "Epoch [36/100] Loss: 1.2996\n"
     ]
    },
    {
     "name": "stderr",
     "output_type": "stream",
     "text": [
      "1684it [04:23,  6.38it/s]"
     ]
    },
    {
     "name": "stdout",
     "output_type": "stream",
     "text": [
      "Overall Acc: \t 0.616726053269\n",
      "Mean Acc : \t 0.461096260253\n",
      "FreqW Acc : \t 0.453706822976\n",
      "Mean IoU : \t 0.34039089077\n"
     ]
    },
    {
     "name": "stderr",
     "output_type": "stream",
     "text": [
      "\n"
     ]
    },
    {
     "name": "stdout",
     "output_type": "stream",
     "text": [
      "Epoch [37/100] Loss: 0.9826\n",
      "Epoch [37/100] Loss: 0.9683\n",
      "Epoch [37/100] Loss: 1.0167\n",
      "Epoch [37/100] Loss: 0.7282\n",
      "Epoch [37/100] Loss: 0.8169\n",
      "Epoch [37/100] Loss: 0.6778\n",
      "Epoch [37/100] Loss: 0.9268\n",
      "Epoch [37/100] Loss: 1.1007\n",
      "Epoch [37/100] Loss: 0.7841\n",
      "Epoch [37/100] Loss: 0.8059\n",
      "Epoch [37/100] Loss: 0.9019\n",
      "Epoch [37/100] Loss: 0.8878\n",
      "Epoch [37/100] Loss: 0.9335\n",
      "Epoch [37/100] Loss: 0.9100\n",
      "Epoch [37/100] Loss: 1.0593\n",
      "Epoch [37/100] Loss: 0.5816\n",
      "Epoch [37/100] Loss: 0.7652\n"
     ]
    },
    {
     "name": "stderr",
     "output_type": "stream",
     "text": [
      "1684it [04:21,  6.43it/s]\n"
     ]
    },
    {
     "name": "stdout",
     "output_type": "stream",
     "text": [
      "Overall Acc: \t 0.617055339186\n",
      "Mean Acc : \t 0.476137426369\n",
      "FreqW Acc : \t 0.449814091504\n",
      "Mean IoU : \t 0.34353982696\n",
      "Epoch [38/100] Loss: 0.8150\n",
      "Epoch [38/100] Loss: 0.8594\n",
      "Epoch [38/100] Loss: 0.7535\n",
      "Epoch [38/100] Loss: 0.6293\n",
      "Epoch [38/100] Loss: 0.7338\n",
      "Epoch [38/100] Loss: 0.8854\n",
      "Epoch [38/100] Loss: 0.6920\n",
      "Epoch [38/100] Loss: 0.9197\n",
      "Epoch [38/100] Loss: 0.9618\n",
      "Epoch [38/100] Loss: 0.6143\n",
      "Epoch [38/100] Loss: 0.9581\n",
      "Epoch [38/100] Loss: 0.6874\n",
      "Epoch [38/100] Loss: 0.7283\n",
      "Epoch [38/100] Loss: 0.6860\n",
      "Epoch [38/100] Loss: 0.7182\n",
      "Epoch [38/100] Loss: 0.8878\n",
      "Epoch [38/100] Loss: 0.4928\n"
     ]
    },
    {
     "name": "stderr",
     "output_type": "stream",
     "text": [
      "1684it [04:21,  6.44it/s]"
     ]
    },
    {
     "name": "stdout",
     "output_type": "stream",
     "text": [
      "Overall Acc: \t 0.614374468209\n",
      "Mean Acc : \t 0.481031381048\n",
      "FreqW Acc : \t 0.450536026149\n",
      "Mean IoU : \t 0.343220737143\n"
     ]
    },
    {
     "name": "stderr",
     "output_type": "stream",
     "text": [
      "\n"
     ]
    },
    {
     "name": "stdout",
     "output_type": "stream",
     "text": [
      "Epoch [39/100] Loss: 0.7496\n",
      "Epoch [39/100] Loss: 0.8617\n",
      "Epoch [39/100] Loss: 1.1235\n",
      "Epoch [39/100] Loss: 0.6049\n",
      "Epoch [39/100] Loss: 1.0788\n",
      "Epoch [39/100] Loss: 0.8475\n",
      "Epoch [39/100] Loss: 1.0073\n",
      "Epoch [39/100] Loss: 0.6964\n",
      "Epoch [39/100] Loss: 1.0676\n",
      "Epoch [39/100] Loss: 1.3626\n",
      "Epoch [39/100] Loss: 0.7937\n",
      "Epoch [39/100] Loss: 0.6964\n",
      "Epoch [39/100] Loss: 1.2388\n",
      "Epoch [39/100] Loss: 0.6345\n",
      "Epoch [39/100] Loss: 0.8107\n",
      "Epoch [39/100] Loss: 1.0661\n",
      "Epoch [39/100] Loss: 0.9708\n"
     ]
    },
    {
     "name": "stderr",
     "output_type": "stream",
     "text": [
      "1684it [04:22,  6.41it/s]"
     ]
    },
    {
     "name": "stdout",
     "output_type": "stream",
     "text": [
      "Overall Acc: \t 0.616604301387\n",
      "Mean Acc : \t 0.480000297594\n",
      "FreqW Acc : \t 0.450517034115\n",
      "Mean IoU : \t 0.343433815708\n"
     ]
    },
    {
     "name": "stderr",
     "output_type": "stream",
     "text": [
      "\n"
     ]
    },
    {
     "name": "stdout",
     "output_type": "stream",
     "text": [
      "Epoch [40/100] Loss: 0.7239\n",
      "Epoch [40/100] Loss: 0.6307\n",
      "Epoch [40/100] Loss: 0.8094\n",
      "Epoch [40/100] Loss: 0.5462\n",
      "Epoch [40/100] Loss: 0.7520\n",
      "Epoch [40/100] Loss: 0.7176\n",
      "Epoch [40/100] Loss: 0.7586\n",
      "Epoch [40/100] Loss: 0.9961\n",
      "Epoch [40/100] Loss: 0.8287\n",
      "Epoch [40/100] Loss: 0.8892\n",
      "Epoch [40/100] Loss: 0.8609\n",
      "Epoch [40/100] Loss: 0.8663\n",
      "Epoch [40/100] Loss: 0.9588\n",
      "Epoch [40/100] Loss: 1.0504\n",
      "Epoch [40/100] Loss: 1.1734\n",
      "Epoch [40/100] Loss: 0.7947\n",
      "Epoch [40/100] Loss: 0.8019\n"
     ]
    },
    {
     "name": "stderr",
     "output_type": "stream",
     "text": [
      "1684it [04:22,  6.41it/s]\n"
     ]
    },
    {
     "name": "stdout",
     "output_type": "stream",
     "text": [
      "Overall Acc: \t 0.616914531766\n",
      "Mean Acc : \t 0.48509224152\n",
      "FreqW Acc : \t 0.45218049681\n",
      "Mean IoU : \t 0.346452444769\n",
      "Epoch [41/100] Loss: 0.7779\n",
      "Epoch [41/100] Loss: 0.6592\n",
      "Epoch [41/100] Loss: 0.6899\n",
      "Epoch [41/100] Loss: 0.8981\n",
      "Epoch [41/100] Loss: 0.9324\n",
      "Epoch [41/100] Loss: 0.8240\n",
      "Epoch [41/100] Loss: 0.8936\n",
      "Epoch [41/100] Loss: 0.7205\n",
      "Epoch [41/100] Loss: 1.0882\n",
      "Epoch [41/100] Loss: 0.7636\n",
      "Epoch [41/100] Loss: 0.5855\n",
      "Epoch [41/100] Loss: 1.0106\n",
      "Epoch [41/100] Loss: 0.9159\n",
      "Epoch [41/100] Loss: 0.8007\n",
      "Epoch [41/100] Loss: 0.7735\n",
      "Epoch [41/100] Loss: 0.8448\n",
      "Epoch [41/100] Loss: 0.8565\n"
     ]
    },
    {
     "name": "stderr",
     "output_type": "stream",
     "text": [
      "1684it [04:23,  6.39it/s]"
     ]
    },
    {
     "name": "stdout",
     "output_type": "stream",
     "text": [
      "Overall Acc: \t 0.618726161561\n",
      "Mean Acc : \t 0.471198101357\n",
      "FreqW Acc : \t 0.452722296029\n",
      "Mean IoU : \t 0.345345897698\n"
     ]
    },
    {
     "name": "stderr",
     "output_type": "stream",
     "text": [
      "\n"
     ]
    },
    {
     "name": "stdout",
     "output_type": "stream",
     "text": [
      "Epoch [42/100] Loss: 1.0192\n",
      "Epoch [42/100] Loss: 0.5816\n",
      "Epoch [42/100] Loss: 1.0900\n",
      "Epoch [42/100] Loss: 0.9218\n",
      "Epoch [42/100] Loss: 0.7271\n",
      "Epoch [42/100] Loss: 0.8582\n",
      "Epoch [42/100] Loss: 0.7801\n",
      "Epoch [42/100] Loss: 0.8742\n",
      "Epoch [42/100] Loss: 0.9232\n",
      "Epoch [42/100] Loss: 1.1930\n",
      "Epoch [42/100] Loss: 0.7465\n",
      "Epoch [42/100] Loss: 0.7403\n",
      "Epoch [42/100] Loss: 0.7055\n",
      "Epoch [42/100] Loss: 0.9359\n",
      "Epoch [42/100] Loss: 0.8182\n",
      "Epoch [42/100] Loss: 0.9300\n",
      "Epoch [42/100] Loss: 1.1061\n"
     ]
    },
    {
     "name": "stderr",
     "output_type": "stream",
     "text": [
      "1684it [04:23,  6.40it/s]"
     ]
    },
    {
     "name": "stdout",
     "output_type": "stream",
     "text": [
      "Overall Acc: \t 0.615652134901\n",
      "Mean Acc : \t 0.475066525738\n",
      "FreqW Acc : \t 0.452731031494\n",
      "Mean IoU : \t 0.344390258516\n"
     ]
    },
    {
     "name": "stderr",
     "output_type": "stream",
     "text": [
      "\n"
     ]
    },
    {
     "name": "stdout",
     "output_type": "stream",
     "text": [
      "Epoch [43/100] Loss: 0.9105\n",
      "Epoch [43/100] Loss: 0.7538\n",
      "Epoch [43/100] Loss: 0.5176\n",
      "Epoch [43/100] Loss: 0.8954\n",
      "Epoch [43/100] Loss: 0.9286\n",
      "Epoch [43/100] Loss: 0.9944\n",
      "Epoch [43/100] Loss: 0.8789\n",
      "Epoch [43/100] Loss: 0.6167\n",
      "Epoch [43/100] Loss: 1.0413\n",
      "Epoch [43/100] Loss: 1.0122\n",
      "Epoch [43/100] Loss: 1.0631\n",
      "Epoch [43/100] Loss: 0.9176\n",
      "Epoch [43/100] Loss: 0.9009\n",
      "Epoch [43/100] Loss: 1.0964\n",
      "Epoch [43/100] Loss: 1.0717\n",
      "Epoch [43/100] Loss: 0.5071\n",
      "Epoch [43/100] Loss: 1.0700\n"
     ]
    },
    {
     "name": "stderr",
     "output_type": "stream",
     "text": [
      "1684it [04:22,  6.41it/s]"
     ]
    },
    {
     "name": "stdout",
     "output_type": "stream",
     "text": [
      "Overall Acc: \t 0.619211894725\n",
      "Mean Acc : \t 0.4710829627\n",
      "FreqW Acc : \t 0.454181855072\n",
      "Mean IoU : \t 0.346251549955\n"
     ]
    },
    {
     "name": "stderr",
     "output_type": "stream",
     "text": [
      "\n"
     ]
    },
    {
     "name": "stdout",
     "output_type": "stream",
     "text": [
      "Epoch [44/100] Loss: 0.9774\n",
      "Epoch [44/100] Loss: 0.7003\n",
      "Epoch [44/100] Loss: 0.8289\n",
      "Epoch [44/100] Loss: 0.6730\n",
      "Epoch [44/100] Loss: 0.6815\n",
      "Epoch [44/100] Loss: 0.6695\n",
      "Epoch [44/100] Loss: 1.0062\n",
      "Epoch [44/100] Loss: 1.0755\n",
      "Epoch [44/100] Loss: 1.0579\n",
      "Epoch [44/100] Loss: 0.6920\n",
      "Epoch [44/100] Loss: 0.5549\n",
      "Epoch [44/100] Loss: 0.7507\n",
      "Epoch [44/100] Loss: 0.8560\n",
      "Epoch [44/100] Loss: 0.6934\n",
      "Epoch [44/100] Loss: 0.4584\n",
      "Epoch [44/100] Loss: 1.5740\n",
      "Epoch [44/100] Loss: 0.7594\n"
     ]
    },
    {
     "name": "stderr",
     "output_type": "stream",
     "text": [
      "1684it [04:21,  6.43it/s]\n"
     ]
    },
    {
     "name": "stdout",
     "output_type": "stream",
     "text": [
      "Overall Acc: \t 0.615273866156\n",
      "Mean Acc : \t 0.487951332828\n",
      "FreqW Acc : \t 0.450359146486\n",
      "Mean IoU : \t 0.347832932434\n",
      "Epoch [45/100] Loss: 0.7766\n",
      "Epoch [45/100] Loss: 0.8044\n",
      "Epoch [45/100] Loss: 0.7873\n",
      "Epoch [45/100] Loss: 0.8075\n",
      "Epoch [45/100] Loss: 0.7487\n",
      "Epoch [45/100] Loss: 0.9463\n",
      "Epoch [45/100] Loss: 0.8824\n",
      "Epoch [45/100] Loss: 0.9825\n",
      "Epoch [45/100] Loss: 0.6041\n",
      "Epoch [45/100] Loss: 0.9820\n",
      "Epoch [45/100] Loss: 0.5136\n",
      "Epoch [45/100] Loss: 0.6298\n",
      "Epoch [45/100] Loss: 1.0321\n",
      "Epoch [45/100] Loss: 0.7553\n",
      "Epoch [45/100] Loss: 0.5755\n",
      "Epoch [45/100] Loss: 0.7829\n",
      "Epoch [45/100] Loss: 0.8583\n"
     ]
    },
    {
     "name": "stderr",
     "output_type": "stream",
     "text": [
      "1684it [04:22,  6.41it/s]"
     ]
    },
    {
     "name": "stdout",
     "output_type": "stream",
     "text": [
      "Overall Acc: \t 0.612712440053\n",
      "Mean Acc : \t 0.47846055074\n",
      "FreqW Acc : \t 0.447674461658\n",
      "Mean IoU : \t 0.340449377262\n"
     ]
    },
    {
     "name": "stderr",
     "output_type": "stream",
     "text": [
      "\n"
     ]
    },
    {
     "name": "stdout",
     "output_type": "stream",
     "text": [
      "Epoch [46/100] Loss: 0.8689\n",
      "Epoch [46/100] Loss: 0.8127\n",
      "Epoch [46/100] Loss: 0.7302\n",
      "Epoch [46/100] Loss: 1.4237\n",
      "Epoch [46/100] Loss: 0.9290\n",
      "Epoch [46/100] Loss: 0.6636\n",
      "Epoch [46/100] Loss: 0.7829\n",
      "Epoch [46/100] Loss: 0.9350\n",
      "Epoch [46/100] Loss: 1.0064\n",
      "Epoch [46/100] Loss: 1.0011\n",
      "Epoch [46/100] Loss: 0.8277\n",
      "Epoch [46/100] Loss: 1.1247\n",
      "Epoch [46/100] Loss: 0.8862\n",
      "Epoch [46/100] Loss: 0.6984\n",
      "Epoch [46/100] Loss: 0.6633\n",
      "Epoch [46/100] Loss: 0.7733\n",
      "Epoch [46/100] Loss: 0.5994\n"
     ]
    },
    {
     "name": "stderr",
     "output_type": "stream",
     "text": [
      "1684it [04:20,  6.47it/s]"
     ]
    },
    {
     "name": "stdout",
     "output_type": "stream",
     "text": [
      "Overall Acc: \t 0.616487431673\n",
      "Mean Acc : \t 0.480883617931\n",
      "FreqW Acc : \t 0.453597562548\n",
      "Mean IoU : \t 0.346474583269\n"
     ]
    },
    {
     "name": "stderr",
     "output_type": "stream",
     "text": [
      "\n"
     ]
    },
    {
     "name": "stdout",
     "output_type": "stream",
     "text": [
      "Epoch [47/100] Loss: 0.6958\n",
      "Epoch [47/100] Loss: 1.0871\n",
      "Epoch [47/100] Loss: 0.8373\n",
      "Epoch [47/100] Loss: 0.8215\n",
      "Epoch [47/100] Loss: 1.0321\n",
      "Epoch [47/100] Loss: 0.9157\n",
      "Epoch [47/100] Loss: 1.3248\n",
      "Epoch [47/100] Loss: 0.7525\n",
      "Epoch [47/100] Loss: 0.7829\n",
      "Epoch [47/100] Loss: 0.7252\n",
      "Epoch [47/100] Loss: 0.8490\n",
      "Epoch [47/100] Loss: 0.8931\n",
      "Epoch [47/100] Loss: 0.5886\n",
      "Epoch [47/100] Loss: 0.5588\n",
      "Epoch [47/100] Loss: 0.5361\n",
      "Epoch [47/100] Loss: 0.5645\n",
      "Epoch [47/100] Loss: 1.0385\n"
     ]
    },
    {
     "name": "stderr",
     "output_type": "stream",
     "text": [
      "1684it [04:20,  6.47it/s]"
     ]
    },
    {
     "name": "stdout",
     "output_type": "stream",
     "text": [
      "Overall Acc: \t 0.614973913212\n",
      "Mean Acc : \t 0.488076845532\n",
      "FreqW Acc : \t 0.447921974167\n",
      "Mean IoU : \t 0.344357308673\n"
     ]
    },
    {
     "name": "stderr",
     "output_type": "stream",
     "text": [
      "\n"
     ]
    },
    {
     "name": "stdout",
     "output_type": "stream",
     "text": [
      "Epoch [48/100] Loss: 0.8531\n",
      "Epoch [48/100] Loss: 0.6956\n",
      "Epoch [48/100] Loss: 0.8128\n",
      "Epoch [48/100] Loss: 0.8327\n",
      "Epoch [48/100] Loss: 0.8748\n",
      "Epoch [48/100] Loss: 0.8444\n",
      "Epoch [48/100] Loss: 0.8071\n",
      "Epoch [48/100] Loss: 0.6605\n",
      "Epoch [48/100] Loss: 0.8176\n",
      "Epoch [48/100] Loss: 0.8895\n",
      "Epoch [48/100] Loss: 1.0285\n",
      "Epoch [48/100] Loss: 0.7725\n",
      "Epoch [48/100] Loss: 1.0413\n",
      "Epoch [48/100] Loss: 1.1103\n",
      "Epoch [48/100] Loss: 0.7661\n",
      "Epoch [48/100] Loss: 1.0945\n",
      "Epoch [48/100] Loss: 0.7987\n"
     ]
    },
    {
     "name": "stderr",
     "output_type": "stream",
     "text": [
      "1684it [04:20,  6.45it/s]\n"
     ]
    },
    {
     "name": "stdout",
     "output_type": "stream",
     "text": [
      "Overall Acc: \t 0.614011660736\n",
      "Mean Acc : \t 0.501246523799\n",
      "FreqW Acc : \t 0.448257244151\n",
      "Mean IoU : \t 0.349393485524\n",
      "Epoch [49/100] Loss: 0.8151\n",
      "Epoch [49/100] Loss: 0.7071\n",
      "Epoch [49/100] Loss: 0.8426\n",
      "Epoch [49/100] Loss: 0.7258\n",
      "Epoch [49/100] Loss: 0.7953\n",
      "Epoch [49/100] Loss: 0.8349\n",
      "Epoch [49/100] Loss: 1.1455\n",
      "Epoch [49/100] Loss: 1.1400\n",
      "Epoch [49/100] Loss: 0.9205\n",
      "Epoch [49/100] Loss: 0.6674\n",
      "Epoch [49/100] Loss: 0.7642\n",
      "Epoch [49/100] Loss: 0.5829\n",
      "Epoch [49/100] Loss: 0.7438\n",
      "Epoch [49/100] Loss: 1.0694\n",
      "Epoch [49/100] Loss: 0.8655\n",
      "Epoch [49/100] Loss: 1.1536\n",
      "Epoch [49/100] Loss: 0.8223\n"
     ]
    },
    {
     "name": "stderr",
     "output_type": "stream",
     "text": [
      "1684it [04:21,  6.43it/s]"
     ]
    },
    {
     "name": "stdout",
     "output_type": "stream",
     "text": [
      "Overall Acc: \t 0.618539562062\n",
      "Mean Acc : \t 0.472435483499\n",
      "FreqW Acc : \t 0.454871585077\n",
      "Mean IoU : \t 0.348214837793\n"
     ]
    },
    {
     "name": "stderr",
     "output_type": "stream",
     "text": [
      "\n"
     ]
    },
    {
     "name": "stdout",
     "output_type": "stream",
     "text": [
      "Epoch [50/100] Loss: 0.7306\n",
      "Epoch [50/100] Loss: 0.6005\n",
      "Epoch [50/100] Loss: 0.7006\n",
      "Epoch [50/100] Loss: 0.7468\n",
      "Epoch [50/100] Loss: 0.6174\n",
      "Epoch [50/100] Loss: 0.5368\n",
      "Epoch [50/100] Loss: 0.6915\n",
      "Epoch [50/100] Loss: 0.6450\n",
      "Epoch [50/100] Loss: 0.7512\n",
      "Epoch [50/100] Loss: 0.8218\n",
      "Epoch [50/100] Loss: 0.7922\n",
      "Epoch [50/100] Loss: 0.8167\n",
      "Epoch [50/100] Loss: 0.9597\n",
      "Epoch [50/100] Loss: 0.8511\n",
      "Epoch [50/100] Loss: 0.6697\n",
      "Epoch [50/100] Loss: 0.6922\n",
      "Epoch [50/100] Loss: 0.6056\n"
     ]
    },
    {
     "name": "stderr",
     "output_type": "stream",
     "text": [
      "1684it [04:24,  6.37it/s]"
     ]
    },
    {
     "name": "stdout",
     "output_type": "stream",
     "text": [
      "Overall Acc: \t 0.615750016115\n",
      "Mean Acc : \t 0.485016698023\n",
      "FreqW Acc : \t 0.451538473319\n",
      "Mean IoU : \t 0.349260600564\n"
     ]
    },
    {
     "name": "stderr",
     "output_type": "stream",
     "text": [
      "\n"
     ]
    },
    {
     "name": "stdout",
     "output_type": "stream",
     "text": [
      "Epoch [51/100] Loss: 0.5499\n",
      "Epoch [51/100] Loss: 1.0192\n",
      "Epoch [51/100] Loss: 0.5995\n",
      "Epoch [51/100] Loss: 0.9595\n",
      "Epoch [51/100] Loss: 0.7193\n",
      "Epoch [51/100] Loss: 0.5980\n",
      "Epoch [51/100] Loss: 0.5712\n",
      "Epoch [51/100] Loss: 0.6159\n",
      "Epoch [51/100] Loss: 0.6204\n",
      "Epoch [51/100] Loss: 0.8202\n",
      "Epoch [51/100] Loss: 0.8925\n",
      "Epoch [51/100] Loss: 0.9485\n",
      "Epoch [51/100] Loss: 0.8075\n",
      "Epoch [51/100] Loss: 0.5282\n",
      "Epoch [51/100] Loss: 0.6416\n",
      "Epoch [51/100] Loss: 0.6805\n",
      "Epoch [51/100] Loss: 0.7766\n"
     ]
    },
    {
     "name": "stderr",
     "output_type": "stream",
     "text": [
      "1684it [04:20,  6.46it/s]\n"
     ]
    },
    {
     "name": "stdout",
     "output_type": "stream",
     "text": [
      "Overall Acc: \t 0.61457482467\n",
      "Mean Acc : \t 0.504696657106\n",
      "FreqW Acc : \t 0.453215908436\n",
      "Mean IoU : \t 0.355781724636\n",
      "Epoch [52/100] Loss: 0.7501\n",
      "Epoch [52/100] Loss: 0.6183\n",
      "Epoch [52/100] Loss: 0.6309\n",
      "Epoch [52/100] Loss: 0.5791\n",
      "Epoch [52/100] Loss: 0.6177\n",
      "Epoch [52/100] Loss: 0.6784\n",
      "Epoch [52/100] Loss: 0.8059\n",
      "Epoch [52/100] Loss: 0.7316\n",
      "Epoch [52/100] Loss: 0.7746\n",
      "Epoch [52/100] Loss: 0.7603\n",
      "Epoch [52/100] Loss: 0.6806\n",
      "Epoch [52/100] Loss: 0.9127\n",
      "Epoch [52/100] Loss: 0.2798\n",
      "Epoch [52/100] Loss: 0.6625\n",
      "Epoch [52/100] Loss: 0.8335\n",
      "Epoch [52/100] Loss: 0.7349\n",
      "Epoch [52/100] Loss: 0.6452\n"
     ]
    },
    {
     "name": "stderr",
     "output_type": "stream",
     "text": [
      "1684it [04:19,  6.49it/s]"
     ]
    },
    {
     "name": "stdout",
     "output_type": "stream",
     "text": [
      "Overall Acc: \t 0.619227122009\n",
      "Mean Acc : \t 0.477912406434\n",
      "FreqW Acc : \t 0.454814294647\n",
      "Mean IoU : \t 0.348392203573\n"
     ]
    },
    {
     "name": "stderr",
     "output_type": "stream",
     "text": [
      "\n"
     ]
    },
    {
     "name": "stdout",
     "output_type": "stream",
     "text": [
      "Epoch [53/100] Loss: 0.7677\n",
      "Epoch [53/100] Loss: 0.6715\n",
      "Epoch [53/100] Loss: 0.8870\n",
      "Epoch [53/100] Loss: 0.8493\n",
      "Epoch [53/100] Loss: 0.6625\n",
      "Epoch [53/100] Loss: 0.7073\n",
      "Epoch [53/100] Loss: 0.6609\n",
      "Epoch [53/100] Loss: 0.8891\n",
      "Epoch [53/100] Loss: 0.7660\n",
      "Epoch [53/100] Loss: 0.5437\n",
      "Epoch [53/100] Loss: 0.5551\n",
      "Epoch [53/100] Loss: 0.9342\n",
      "Epoch [53/100] Loss: 0.6977\n",
      "Epoch [53/100] Loss: 0.6606\n",
      "Epoch [53/100] Loss: 0.3945\n",
      "Epoch [53/100] Loss: 0.7164\n",
      "Epoch [53/100] Loss: 0.8008\n"
     ]
    },
    {
     "name": "stderr",
     "output_type": "stream",
     "text": [
      "1684it [04:21,  6.45it/s]"
     ]
    },
    {
     "name": "stdout",
     "output_type": "stream",
     "text": [
      "Overall Acc: \t 0.617403424737\n",
      "Mean Acc : \t 0.472072433464\n",
      "FreqW Acc : \t 0.452887601169\n",
      "Mean IoU : \t 0.347839706809\n"
     ]
    },
    {
     "name": "stderr",
     "output_type": "stream",
     "text": [
      "\n"
     ]
    },
    {
     "name": "stdout",
     "output_type": "stream",
     "text": [
      "Epoch [54/100] Loss: 0.6207\n",
      "Epoch [54/100] Loss: 0.8392\n",
      "Epoch [54/100] Loss: 0.9591\n",
      "Epoch [54/100] Loss: 0.6817\n",
      "Epoch [54/100] Loss: 0.6629\n",
      "Epoch [54/100] Loss: 0.7371\n",
      "Epoch [54/100] Loss: 0.9277\n",
      "Epoch [54/100] Loss: 0.4619\n",
      "Epoch [54/100] Loss: 0.8838\n",
      "Epoch [54/100] Loss: 0.6643\n",
      "Epoch [54/100] Loss: 0.6127\n",
      "Epoch [54/100] Loss: 0.6899\n",
      "Epoch [54/100] Loss: 0.6686\n",
      "Epoch [54/100] Loss: 1.2350\n",
      "Epoch [54/100] Loss: 0.4380\n",
      "Epoch [54/100] Loss: 0.8288\n",
      "Epoch [54/100] Loss: 0.5472\n"
     ]
    },
    {
     "name": "stderr",
     "output_type": "stream",
     "text": [
      "1684it [04:26,  6.33it/s]"
     ]
    },
    {
     "name": "stdout",
     "output_type": "stream",
     "text": [
      "Overall Acc: \t 0.613527579672\n",
      "Mean Acc : \t 0.480893157264\n",
      "FreqW Acc : \t 0.453574948715\n",
      "Mean IoU : \t 0.349196065828\n"
     ]
    },
    {
     "name": "stderr",
     "output_type": "stream",
     "text": [
      "\n"
     ]
    },
    {
     "name": "stdout",
     "output_type": "stream",
     "text": [
      "Epoch [55/100] Loss: 0.5669\n",
      "Epoch [55/100] Loss: 0.6367\n",
      "Epoch [55/100] Loss: 0.8870\n",
      "Epoch [55/100] Loss: 0.3939\n",
      "Epoch [55/100] Loss: 0.7314\n",
      "Epoch [55/100] Loss: 0.8193\n",
      "Epoch [55/100] Loss: 1.0915\n",
      "Epoch [55/100] Loss: 0.8937\n",
      "Epoch [55/100] Loss: 0.6881\n",
      "Epoch [55/100] Loss: 0.7998\n",
      "Epoch [55/100] Loss: 1.0139\n",
      "Epoch [55/100] Loss: 0.7101\n",
      "Epoch [55/100] Loss: 0.6694\n",
      "Epoch [55/100] Loss: 0.8016\n",
      "Epoch [55/100] Loss: 0.6180\n",
      "Epoch [55/100] Loss: 0.7037\n",
      "Epoch [55/100] Loss: 0.9385\n"
     ]
    },
    {
     "name": "stderr",
     "output_type": "stream",
     "text": [
      "1684it [04:24,  6.38it/s]"
     ]
    },
    {
     "name": "stdout",
     "output_type": "stream",
     "text": [
      "Overall Acc: \t 0.616496118889\n",
      "Mean Acc : \t 0.48111908029\n",
      "FreqW Acc : \t 0.447652502414\n",
      "Mean IoU : \t 0.346753745066\n"
     ]
    },
    {
     "name": "stderr",
     "output_type": "stream",
     "text": [
      "\n"
     ]
    },
    {
     "name": "stdout",
     "output_type": "stream",
     "text": [
      "Epoch [56/100] Loss: 0.5886\n",
      "Epoch [56/100] Loss: 1.0065\n",
      "Epoch [56/100] Loss: 0.6551\n",
      "Epoch [56/100] Loss: 0.8952\n",
      "Epoch [56/100] Loss: 0.8787\n",
      "Epoch [56/100] Loss: 0.7119\n",
      "Epoch [56/100] Loss: 0.5481\n",
      "Epoch [56/100] Loss: 0.9054\n",
      "Epoch [56/100] Loss: 0.6177\n",
      "Epoch [56/100] Loss: 0.7886\n",
      "Epoch [56/100] Loss: 0.9536\n",
      "Epoch [56/100] Loss: 0.7379\n",
      "Epoch [56/100] Loss: 0.8420\n",
      "Epoch [56/100] Loss: 0.7234\n",
      "Epoch [56/100] Loss: 0.9052\n",
      "Epoch [56/100] Loss: 1.1461\n",
      "Epoch [56/100] Loss: 0.7330\n"
     ]
    },
    {
     "name": "stderr",
     "output_type": "stream",
     "text": [
      "1684it [04:22,  6.41it/s]"
     ]
    },
    {
     "name": "stdout",
     "output_type": "stream",
     "text": [
      "Overall Acc: \t 0.616024895575\n",
      "Mean Acc : \t 0.480733212736\n",
      "FreqW Acc : \t 0.45255381134\n",
      "Mean IoU : \t 0.35088992928\n"
     ]
    },
    {
     "name": "stderr",
     "output_type": "stream",
     "text": [
      "\n"
     ]
    },
    {
     "name": "stdout",
     "output_type": "stream",
     "text": [
      "Epoch [57/100] Loss: 0.8198\n",
      "Epoch [57/100] Loss: 0.5727\n",
      "Epoch [57/100] Loss: 0.6927\n",
      "Epoch [57/100] Loss: 0.6182\n",
      "Epoch [57/100] Loss: 0.7295\n",
      "Epoch [57/100] Loss: 0.8595\n",
      "Epoch [57/100] Loss: 0.7331\n",
      "Epoch [57/100] Loss: 0.6905\n",
      "Epoch [57/100] Loss: 0.5252\n",
      "Epoch [57/100] Loss: 0.9124\n",
      "Epoch [57/100] Loss: 0.6539\n",
      "Epoch [57/100] Loss: 0.8538\n",
      "Epoch [57/100] Loss: 1.1664\n",
      "Epoch [57/100] Loss: 0.6983\n",
      "Epoch [57/100] Loss: 0.8402\n",
      "Epoch [57/100] Loss: 0.6513\n",
      "Epoch [57/100] Loss: 0.7952\n"
     ]
    },
    {
     "name": "stderr",
     "output_type": "stream",
     "text": [
      "1684it [04:22,  6.41it/s]"
     ]
    },
    {
     "name": "stdout",
     "output_type": "stream",
     "text": [
      "Overall Acc: \t 0.61399440362\n",
      "Mean Acc : \t 0.485712770925\n",
      "FreqW Acc : \t 0.454260456744\n",
      "Mean IoU : \t 0.350900072573\n"
     ]
    },
    {
     "name": "stderr",
     "output_type": "stream",
     "text": [
      "\n"
     ]
    },
    {
     "name": "stdout",
     "output_type": "stream",
     "text": [
      "Epoch [58/100] Loss: 0.5380\n",
      "Epoch [58/100] Loss: 0.7258\n",
      "Epoch [58/100] Loss: 0.5188\n",
      "Epoch [58/100] Loss: 0.7167\n",
      "Epoch [58/100] Loss: 0.8507\n",
      "Epoch [58/100] Loss: 0.7188\n",
      "Epoch [58/100] Loss: 0.5863\n",
      "Epoch [58/100] Loss: 0.7840\n",
      "Epoch [58/100] Loss: 0.9354\n",
      "Epoch [58/100] Loss: 1.0573\n",
      "Epoch [58/100] Loss: 0.6302\n",
      "Epoch [58/100] Loss: 0.8166\n",
      "Epoch [58/100] Loss: 0.6646\n",
      "Epoch [58/100] Loss: 0.6500\n",
      "Epoch [58/100] Loss: 0.6652\n",
      "Epoch [58/100] Loss: 0.7352\n",
      "Epoch [58/100] Loss: 0.8110\n"
     ]
    },
    {
     "name": "stderr",
     "output_type": "stream",
     "text": [
      "1684it [04:24,  6.37it/s]"
     ]
    },
    {
     "name": "stdout",
     "output_type": "stream",
     "text": [
      "Overall Acc: \t 0.616749453383\n",
      "Mean Acc : \t 0.485717546426\n",
      "FreqW Acc : \t 0.452505834266\n",
      "Mean IoU : \t 0.351089381001\n"
     ]
    },
    {
     "name": "stderr",
     "output_type": "stream",
     "text": [
      "\n"
     ]
    },
    {
     "name": "stdout",
     "output_type": "stream",
     "text": [
      "Epoch [59/100] Loss: 0.6720\n",
      "Epoch [59/100] Loss: 0.7851\n",
      "Epoch [59/100] Loss: 0.7006\n",
      "Epoch [59/100] Loss: 0.5276\n",
      "Epoch [59/100] Loss: 0.6048\n",
      "Epoch [59/100] Loss: 0.6407\n",
      "Epoch [59/100] Loss: 0.7892\n",
      "Epoch [59/100] Loss: 0.5431\n",
      "Epoch [59/100] Loss: 0.8053\n",
      "Epoch [59/100] Loss: 0.5456\n",
      "Epoch [59/100] Loss: 0.5766\n",
      "Epoch [59/100] Loss: 0.7320\n",
      "Epoch [59/100] Loss: 0.4929\n",
      "Epoch [59/100] Loss: 0.7018\n",
      "Epoch [59/100] Loss: 0.5069\n",
      "Epoch [59/100] Loss: 0.5605\n",
      "Epoch [59/100] Loss: 0.7969\n"
     ]
    },
    {
     "name": "stderr",
     "output_type": "stream",
     "text": [
      "1684it [04:24,  6.37it/s]"
     ]
    },
    {
     "name": "stdout",
     "output_type": "stream",
     "text": [
      "Overall Acc: \t 0.617699572633\n",
      "Mean Acc : \t 0.480265988812\n",
      "FreqW Acc : \t 0.455832811658\n",
      "Mean IoU : \t 0.350091608094\n"
     ]
    },
    {
     "name": "stderr",
     "output_type": "stream",
     "text": [
      "\n"
     ]
    },
    {
     "name": "stdout",
     "output_type": "stream",
     "text": [
      "Epoch [60/100] Loss: 0.7222\n",
      "Epoch [60/100] Loss: 0.8195\n",
      "Epoch [60/100] Loss: 0.4745\n",
      "Epoch [60/100] Loss: 0.4625\n",
      "Epoch [60/100] Loss: 0.8387\n",
      "Epoch [60/100] Loss: 0.7513\n",
      "Epoch [60/100] Loss: 0.8657\n",
      "Epoch [60/100] Loss: 0.7177\n",
      "Epoch [60/100] Loss: 0.8020\n",
      "Epoch [60/100] Loss: 0.5868\n",
      "Epoch [60/100] Loss: 0.8827\n",
      "Epoch [60/100] Loss: 0.8214\n",
      "Epoch [60/100] Loss: 0.5859\n",
      "Epoch [60/100] Loss: 0.7922\n",
      "Epoch [60/100] Loss: 1.1278\n",
      "Epoch [60/100] Loss: 0.7324\n",
      "Epoch [60/100] Loss: 0.8180\n"
     ]
    },
    {
     "name": "stderr",
     "output_type": "stream",
     "text": [
      "1684it [04:23,  6.39it/s]"
     ]
    },
    {
     "name": "stdout",
     "output_type": "stream",
     "text": [
      "Overall Acc: \t 0.617814695493\n",
      "Mean Acc : \t 0.493252966807\n",
      "FreqW Acc : \t 0.451841706501\n",
      "Mean IoU : \t 0.352935922561\n"
     ]
    },
    {
     "name": "stderr",
     "output_type": "stream",
     "text": [
      "\n"
     ]
    },
    {
     "name": "stdout",
     "output_type": "stream",
     "text": [
      "Epoch [61/100] Loss: 0.4795\n",
      "Epoch [61/100] Loss: 0.5814\n",
      "Epoch [61/100] Loss: 0.8165\n",
      "Epoch [61/100] Loss: 0.5861\n",
      "Epoch [61/100] Loss: 0.5240\n",
      "Epoch [61/100] Loss: 0.6855\n",
      "Epoch [61/100] Loss: 0.6906\n",
      "Epoch [61/100] Loss: 0.8383\n",
      "Epoch [61/100] Loss: 0.7106\n",
      "Epoch [61/100] Loss: 0.7671\n",
      "Epoch [61/100] Loss: 0.6458\n",
      "Epoch [61/100] Loss: 0.8173\n",
      "Epoch [61/100] Loss: 0.5864\n",
      "Epoch [61/100] Loss: 0.5649\n",
      "Epoch [61/100] Loss: 0.9814\n",
      "Epoch [61/100] Loss: 0.8110\n",
      "Epoch [61/100] Loss: 0.8602\n"
     ]
    },
    {
     "name": "stderr",
     "output_type": "stream",
     "text": [
      "1684it [04:23,  6.40it/s]"
     ]
    },
    {
     "name": "stdout",
     "output_type": "stream",
     "text": [
      "Overall Acc: \t 0.613495801104\n",
      "Mean Acc : \t 0.476004100993\n",
      "FreqW Acc : \t 0.453602308806\n",
      "Mean IoU : \t 0.348758808582\n"
     ]
    },
    {
     "name": "stderr",
     "output_type": "stream",
     "text": [
      "\n"
     ]
    },
    {
     "name": "stdout",
     "output_type": "stream",
     "text": [
      "Epoch [62/100] Loss: 0.5370\n",
      "Epoch [62/100] Loss: 0.5687\n",
      "Epoch [62/100] Loss: 0.8368\n",
      "Epoch [62/100] Loss: 0.8761\n",
      "Epoch [62/100] Loss: 0.6786\n",
      "Epoch [62/100] Loss: 0.4968\n",
      "Epoch [62/100] Loss: 0.4988\n",
      "Epoch [62/100] Loss: 0.6724\n",
      "Epoch [62/100] Loss: 0.8382\n",
      "Epoch [62/100] Loss: 0.6807\n",
      "Epoch [62/100] Loss: 0.8372\n",
      "Epoch [62/100] Loss: 0.5791\n",
      "Epoch [62/100] Loss: 0.5096\n",
      "Epoch [62/100] Loss: 0.8191\n",
      "Epoch [62/100] Loss: 0.7358\n",
      "Epoch [62/100] Loss: 0.5794\n",
      "Epoch [62/100] Loss: 0.5852\n"
     ]
    },
    {
     "name": "stderr",
     "output_type": "stream",
     "text": [
      "1684it [04:23,  6.39it/s]"
     ]
    },
    {
     "name": "stdout",
     "output_type": "stream",
     "text": [
      "Overall Acc: \t 0.616211217255\n",
      "Mean Acc : \t 0.479882388198\n",
      "FreqW Acc : \t 0.455043235443\n",
      "Mean IoU : \t 0.351412289452\n"
     ]
    },
    {
     "name": "stderr",
     "output_type": "stream",
     "text": [
      "\n"
     ]
    },
    {
     "name": "stdout",
     "output_type": "stream",
     "text": [
      "Epoch [63/100] Loss: 0.5017\n",
      "Epoch [63/100] Loss: 0.6106\n",
      "Epoch [63/100] Loss: 0.6259\n",
      "Epoch [63/100] Loss: 0.4632\n",
      "Epoch [63/100] Loss: 0.7311\n",
      "Epoch [63/100] Loss: 0.6751\n",
      "Epoch [63/100] Loss: 0.5802\n",
      "Epoch [63/100] Loss: 0.7254\n",
      "Epoch [63/100] Loss: 0.7678\n",
      "Epoch [63/100] Loss: 0.7182\n",
      "Epoch [63/100] Loss: 0.4575\n",
      "Epoch [63/100] Loss: 0.5925\n",
      "Epoch [63/100] Loss: 0.7609\n",
      "Epoch [63/100] Loss: 0.7900\n",
      "Epoch [63/100] Loss: 0.5156\n",
      "Epoch [63/100] Loss: 0.6783\n",
      "Epoch [63/100] Loss: 0.7185\n"
     ]
    },
    {
     "name": "stderr",
     "output_type": "stream",
     "text": [
      "1684it [04:23,  6.40it/s]"
     ]
    },
    {
     "name": "stdout",
     "output_type": "stream",
     "text": [
      "Overall Acc: \t 0.616496258767\n",
      "Mean Acc : \t 0.482629889561\n",
      "FreqW Acc : \t 0.452350872659\n",
      "Mean IoU : \t 0.349849794767\n"
     ]
    },
    {
     "name": "stderr",
     "output_type": "stream",
     "text": [
      "\n"
     ]
    },
    {
     "name": "stdout",
     "output_type": "stream",
     "text": [
      "Epoch [64/100] Loss: 0.6209\n",
      "Epoch [64/100] Loss: 0.5972\n",
      "Epoch [64/100] Loss: 0.8592\n",
      "Epoch [64/100] Loss: 0.6793\n",
      "Epoch [64/100] Loss: 0.6510\n",
      "Epoch [64/100] Loss: 0.5743\n",
      "Epoch [64/100] Loss: 0.7535\n",
      "Epoch [64/100] Loss: 1.0020\n",
      "Epoch [64/100] Loss: 0.8571\n",
      "Epoch [64/100] Loss: 0.6667\n",
      "Epoch [64/100] Loss: 0.8685\n",
      "Epoch [64/100] Loss: 0.6436\n",
      "Epoch [64/100] Loss: 0.7856\n",
      "Epoch [64/100] Loss: 0.5977\n",
      "Epoch [64/100] Loss: 0.5043\n",
      "Epoch [64/100] Loss: 0.4803\n",
      "Epoch [64/100] Loss: 0.4811\n"
     ]
    },
    {
     "name": "stderr",
     "output_type": "stream",
     "text": [
      "1684it [04:23,  6.39it/s]"
     ]
    },
    {
     "name": "stdout",
     "output_type": "stream",
     "text": [
      "Overall Acc: \t 0.618159920328\n",
      "Mean Acc : \t 0.458365949748\n",
      "FreqW Acc : \t 0.452349200061\n",
      "Mean IoU : \t 0.341317099098\n"
     ]
    },
    {
     "name": "stderr",
     "output_type": "stream",
     "text": [
      "\n"
     ]
    },
    {
     "name": "stdout",
     "output_type": "stream",
     "text": [
      "Epoch [65/100] Loss: 0.5948\n",
      "Epoch [65/100] Loss: 0.7371\n",
      "Epoch [65/100] Loss: 0.6022\n",
      "Epoch [65/100] Loss: 0.5246\n",
      "Epoch [65/100] Loss: 0.6923\n",
      "Epoch [65/100] Loss: 0.7774\n",
      "Epoch [65/100] Loss: 0.8461\n",
      "Epoch [65/100] Loss: 0.3988\n",
      "Epoch [65/100] Loss: 0.5767\n",
      "Epoch [65/100] Loss: 0.4882\n",
      "Epoch [65/100] Loss: 0.6568\n",
      "Epoch [65/100] Loss: 0.5405\n",
      "Epoch [65/100] Loss: 0.7922\n",
      "Epoch [65/100] Loss: 0.5177\n",
      "Epoch [65/100] Loss: 0.5783\n",
      "Epoch [65/100] Loss: 0.5603\n",
      "Epoch [65/100] Loss: 0.4721\n"
     ]
    },
    {
     "name": "stderr",
     "output_type": "stream",
     "text": [
      "1684it [04:23,  6.40it/s]"
     ]
    },
    {
     "name": "stdout",
     "output_type": "stream",
     "text": [
      "Overall Acc: \t 0.616164051542\n",
      "Mean Acc : \t 0.465641597387\n",
      "FreqW Acc : \t 0.451986498232\n",
      "Mean IoU : \t 0.343411469799\n"
     ]
    },
    {
     "name": "stderr",
     "output_type": "stream",
     "text": [
      "\n"
     ]
    },
    {
     "name": "stdout",
     "output_type": "stream",
     "text": [
      "Epoch [66/100] Loss: 0.5949\n",
      "Epoch [66/100] Loss: 0.8978\n",
      "Epoch [66/100] Loss: 0.6244\n",
      "Epoch [66/100] Loss: 0.4688\n",
      "Epoch [66/100] Loss: 0.6901\n",
      "Epoch [66/100] Loss: 0.6079\n",
      "Epoch [66/100] Loss: 0.4735\n",
      "Epoch [66/100] Loss: 0.8909\n",
      "Epoch [66/100] Loss: 0.8659\n",
      "Epoch [66/100] Loss: 0.7454\n",
      "Epoch [66/100] Loss: 0.3799\n",
      "Epoch [66/100] Loss: 0.4080\n",
      "Epoch [66/100] Loss: 0.7982\n",
      "Epoch [66/100] Loss: 0.7454\n",
      "Epoch [66/100] Loss: 0.6032\n",
      "Epoch [66/100] Loss: 0.7430\n",
      "Epoch [66/100] Loss: 0.7196\n"
     ]
    },
    {
     "name": "stderr",
     "output_type": "stream",
     "text": [
      "1684it [04:21,  6.44it/s]"
     ]
    },
    {
     "name": "stdout",
     "output_type": "stream",
     "text": [
      "Overall Acc: \t 0.612291901944\n",
      "Mean Acc : \t 0.475093806397\n",
      "FreqW Acc : \t 0.451959490023\n",
      "Mean IoU : \t 0.347330673689\n"
     ]
    },
    {
     "name": "stderr",
     "output_type": "stream",
     "text": [
      "\n"
     ]
    },
    {
     "name": "stdout",
     "output_type": "stream",
     "text": [
      "Epoch [67/100] Loss: 0.6665\n",
      "Epoch [67/100] Loss: 0.9346\n",
      "Epoch [67/100] Loss: 0.8268\n",
      "Epoch [67/100] Loss: 0.5900\n",
      "Epoch [67/100] Loss: 0.6852\n",
      "Epoch [67/100] Loss: 0.5698\n",
      "Epoch [67/100] Loss: 0.5872\n",
      "Epoch [67/100] Loss: 0.5743\n",
      "Epoch [67/100] Loss: 0.6968\n",
      "Epoch [67/100] Loss: 1.0791\n",
      "Epoch [67/100] Loss: 0.6837\n",
      "Epoch [67/100] Loss: 0.5522\n",
      "Epoch [67/100] Loss: 0.7563\n",
      "Epoch [67/100] Loss: 0.5448\n",
      "Epoch [67/100] Loss: 0.5943\n",
      "Epoch [67/100] Loss: 0.8256\n",
      "Epoch [67/100] Loss: 0.7340\n"
     ]
    },
    {
     "name": "stderr",
     "output_type": "stream",
     "text": [
      "1684it [04:21,  6.44it/s]"
     ]
    },
    {
     "name": "stdout",
     "output_type": "stream",
     "text": [
      "Overall Acc: \t 0.61617854721\n",
      "Mean Acc : \t 0.481680487677\n",
      "FreqW Acc : \t 0.453745516873\n",
      "Mean IoU : \t 0.351177081961\n"
     ]
    },
    {
     "name": "stderr",
     "output_type": "stream",
     "text": [
      "\n"
     ]
    },
    {
     "name": "stdout",
     "output_type": "stream",
     "text": [
      "Epoch [68/100] Loss: 0.4973\n",
      "Epoch [68/100] Loss: 0.5669\n",
      "Epoch [68/100] Loss: 0.6706\n",
      "Epoch [68/100] Loss: 0.5871\n",
      "Epoch [68/100] Loss: 0.6323\n",
      "Epoch [68/100] Loss: 0.6564\n",
      "Epoch [68/100] Loss: 0.6622\n",
      "Epoch [68/100] Loss: 0.8194\n",
      "Epoch [68/100] Loss: 1.2165\n",
      "Epoch [68/100] Loss: 0.4121\n",
      "Epoch [68/100] Loss: 0.5383\n",
      "Epoch [68/100] Loss: 0.7182\n",
      "Epoch [68/100] Loss: 0.6145\n",
      "Epoch [68/100] Loss: 0.7848\n",
      "Epoch [68/100] Loss: 0.7233\n",
      "Epoch [68/100] Loss: 0.5777\n",
      "Epoch [68/100] Loss: 0.6554\n"
     ]
    },
    {
     "name": "stderr",
     "output_type": "stream",
     "text": [
      "1684it [04:22,  6.42it/s]"
     ]
    },
    {
     "name": "stdout",
     "output_type": "stream",
     "text": [
      "Overall Acc: \t 0.615789754796\n",
      "Mean Acc : \t 0.485709175689\n",
      "FreqW Acc : \t 0.453269594057\n",
      "Mean IoU : \t 0.353444394427\n"
     ]
    },
    {
     "name": "stderr",
     "output_type": "stream",
     "text": [
      "\n"
     ]
    },
    {
     "name": "stdout",
     "output_type": "stream",
     "text": [
      "Epoch [69/100] Loss: 0.5646\n",
      "Epoch [69/100] Loss: 0.5897\n",
      "Epoch [69/100] Loss: 0.6330\n",
      "Epoch [69/100] Loss: 0.8281\n",
      "Epoch [69/100] Loss: 0.5960\n",
      "Epoch [69/100] Loss: 0.8610\n",
      "Epoch [69/100] Loss: 0.7470\n",
      "Epoch [69/100] Loss: 0.7809\n",
      "Epoch [69/100] Loss: 0.5265\n",
      "Epoch [69/100] Loss: 0.6561\n",
      "Epoch [69/100] Loss: 0.7313\n",
      "Epoch [69/100] Loss: 0.5225\n",
      "Epoch [69/100] Loss: 0.7654\n",
      "Epoch [69/100] Loss: 0.7821\n",
      "Epoch [69/100] Loss: 0.3916\n",
      "Epoch [69/100] Loss: 0.8052\n",
      "Epoch [69/100] Loss: 0.4860\n"
     ]
    },
    {
     "name": "stderr",
     "output_type": "stream",
     "text": [
      "1684it [04:22,  6.42it/s]"
     ]
    },
    {
     "name": "stdout",
     "output_type": "stream",
     "text": [
      "Overall Acc: \t 0.61455276596\n",
      "Mean Acc : \t 0.499482978678\n",
      "FreqW Acc : \t 0.451055847042\n",
      "Mean IoU : \t 0.354345138989\n"
     ]
    },
    {
     "name": "stderr",
     "output_type": "stream",
     "text": [
      "\n"
     ]
    },
    {
     "name": "stdout",
     "output_type": "stream",
     "text": [
      "Epoch [70/100] Loss: 0.6291\n",
      "Epoch [70/100] Loss: 0.5166\n",
      "Epoch [70/100] Loss: 0.7645\n",
      "Epoch [70/100] Loss: 0.4898\n",
      "Epoch [70/100] Loss: 0.7718\n",
      "Epoch [70/100] Loss: 0.5559\n",
      "Epoch [70/100] Loss: 0.4305\n",
      "Epoch [70/100] Loss: 0.4916\n",
      "Epoch [70/100] Loss: 0.4433\n",
      "Epoch [70/100] Loss: 0.7438\n",
      "Epoch [70/100] Loss: 0.4628\n",
      "Epoch [70/100] Loss: 0.6592\n",
      "Epoch [70/100] Loss: 0.9714\n",
      "Epoch [70/100] Loss: 0.8461\n",
      "Epoch [70/100] Loss: 0.6105\n",
      "Epoch [70/100] Loss: 0.8181\n",
      "Epoch [70/100] Loss: 0.5910\n"
     ]
    },
    {
     "name": "stderr",
     "output_type": "stream",
     "text": [
      "1684it [04:21,  6.43it/s]"
     ]
    },
    {
     "name": "stdout",
     "output_type": "stream",
     "text": [
      "Overall Acc: \t 0.616027203873\n",
      "Mean Acc : \t 0.488006529022\n",
      "FreqW Acc : \t 0.453861796837\n",
      "Mean IoU : \t 0.35291717543\n"
     ]
    },
    {
     "name": "stderr",
     "output_type": "stream",
     "text": [
      "\n"
     ]
    },
    {
     "name": "stdout",
     "output_type": "stream",
     "text": [
      "Epoch [71/100] Loss: 0.6215\n",
      "Epoch [71/100] Loss: 0.7129\n",
      "Epoch [71/100] Loss: 0.4980\n",
      "Epoch [71/100] Loss: 0.7331\n",
      "Epoch [71/100] Loss: 0.5809\n",
      "Epoch [71/100] Loss: 0.4202\n",
      "Epoch [71/100] Loss: 0.4941\n",
      "Epoch [71/100] Loss: 0.5213\n",
      "Epoch [71/100] Loss: 0.7150\n",
      "Epoch [71/100] Loss: 0.8412\n",
      "Epoch [71/100] Loss: 0.6480\n",
      "Epoch [71/100] Loss: 0.9317\n",
      "Epoch [71/100] Loss: 0.5705\n",
      "Epoch [71/100] Loss: 0.4506\n",
      "Epoch [71/100] Loss: 0.5057\n",
      "Epoch [71/100] Loss: 0.6907\n",
      "Epoch [71/100] Loss: 0.7689\n"
     ]
    },
    {
     "name": "stderr",
     "output_type": "stream",
     "text": [
      "1684it [04:19,  6.48it/s]"
     ]
    },
    {
     "name": "stdout",
     "output_type": "stream",
     "text": [
      "Overall Acc: \t 0.606967438892\n",
      "Mean Acc : \t 0.498036176467\n",
      "FreqW Acc : \t 0.450177665863\n",
      "Mean IoU : \t 0.353051857946\n"
     ]
    },
    {
     "name": "stderr",
     "output_type": "stream",
     "text": [
      "\n"
     ]
    },
    {
     "name": "stdout",
     "output_type": "stream",
     "text": [
      "Epoch [72/100] Loss: 0.6720\n",
      "Epoch [72/100] Loss: 0.6318\n",
      "Epoch [72/100] Loss: 0.5143\n",
      "Epoch [72/100] Loss: 0.4519\n",
      "Epoch [72/100] Loss: 0.6971\n",
      "Epoch [72/100] Loss: 0.5216\n",
      "Epoch [72/100] Loss: 0.5202\n",
      "Epoch [72/100] Loss: 0.7177\n",
      "Epoch [72/100] Loss: 0.5874\n",
      "Epoch [72/100] Loss: 0.5534\n",
      "Epoch [72/100] Loss: 0.5413\n",
      "Epoch [72/100] Loss: 0.5919\n",
      "Epoch [72/100] Loss: 0.5039\n",
      "Epoch [72/100] Loss: 0.6643\n",
      "Epoch [72/100] Loss: 0.6581\n",
      "Epoch [72/100] Loss: 0.8321\n",
      "Epoch [72/100] Loss: 0.8702\n"
     ]
    },
    {
     "name": "stderr",
     "output_type": "stream",
     "text": [
      "1684it [04:21,  6.44it/s]"
     ]
    },
    {
     "name": "stdout",
     "output_type": "stream",
     "text": [
      "Overall Acc: \t 0.61091924505\n",
      "Mean Acc : \t 0.469918075341\n",
      "FreqW Acc : \t 0.452777978095\n",
      "Mean IoU : \t 0.3480252478\n"
     ]
    },
    {
     "name": "stderr",
     "output_type": "stream",
     "text": [
      "\n"
     ]
    },
    {
     "name": "stdout",
     "output_type": "stream",
     "text": [
      "Epoch [73/100] Loss: 0.6240\n",
      "Epoch [73/100] Loss: 0.4445\n",
      "Epoch [73/100] Loss: 0.7875\n",
      "Epoch [73/100] Loss: 0.4787\n",
      "Epoch [73/100] Loss: 0.5670\n",
      "Epoch [73/100] Loss: 0.6598\n",
      "Epoch [73/100] Loss: 0.6753\n",
      "Epoch [73/100] Loss: 0.6193\n",
      "Epoch [73/100] Loss: 0.6918\n",
      "Epoch [73/100] Loss: 0.6777\n",
      "Epoch [73/100] Loss: 0.6195\n",
      "Epoch [73/100] Loss: 0.4948\n",
      "Epoch [73/100] Loss: 0.6167\n",
      "Epoch [73/100] Loss: 0.3925\n",
      "Epoch [73/100] Loss: 0.7045\n",
      "Epoch [73/100] Loss: 0.5988\n",
      "Epoch [73/100] Loss: 0.6790\n"
     ]
    },
    {
     "name": "stderr",
     "output_type": "stream",
     "text": [
      "1684it [04:20,  6.45it/s]"
     ]
    },
    {
     "name": "stdout",
     "output_type": "stream",
     "text": [
      "Overall Acc: \t 0.615165074515\n",
      "Mean Acc : \t 0.4813883128\n",
      "FreqW Acc : \t 0.45363234307\n",
      "Mean IoU : \t 0.350144578121\n"
     ]
    },
    {
     "name": "stderr",
     "output_type": "stream",
     "text": [
      "\n"
     ]
    },
    {
     "name": "stdout",
     "output_type": "stream",
     "text": [
      "Epoch [74/100] Loss: 0.6990\n",
      "Epoch [74/100] Loss: 0.6243\n",
      "Epoch [74/100] Loss: 0.5731\n",
      "Epoch [74/100] Loss: 0.6064\n",
      "Epoch [74/100] Loss: 0.5273\n",
      "Epoch [74/100] Loss: 0.3731\n",
      "Epoch [74/100] Loss: 0.7806\n",
      "Epoch [74/100] Loss: 0.9134\n",
      "Epoch [74/100] Loss: 0.8086\n",
      "Epoch [74/100] Loss: 0.6349\n",
      "Epoch [74/100] Loss: 0.9098\n",
      "Epoch [74/100] Loss: 0.8640\n",
      "Epoch [74/100] Loss: 0.6633\n",
      "Epoch [74/100] Loss: 0.7583\n",
      "Epoch [74/100] Loss: 0.7267\n",
      "Epoch [74/100] Loss: 0.7055\n",
      "Epoch [74/100] Loss: 0.8123\n"
     ]
    },
    {
     "name": "stderr",
     "output_type": "stream",
     "text": [
      "1684it [04:21,  6.44it/s]"
     ]
    },
    {
     "name": "stdout",
     "output_type": "stream",
     "text": [
      "Overall Acc: \t 0.609606412438\n",
      "Mean Acc : \t 0.462893167755\n",
      "FreqW Acc : \t 0.453030276006\n",
      "Mean IoU : \t 0.343244026056\n"
     ]
    },
    {
     "name": "stderr",
     "output_type": "stream",
     "text": [
      "\n"
     ]
    },
    {
     "name": "stdout",
     "output_type": "stream",
     "text": [
      "Epoch [75/100] Loss: 0.5598\n",
      "Epoch [75/100] Loss: 0.5434\n",
      "Epoch [75/100] Loss: 0.3588\n",
      "Epoch [75/100] Loss: 0.6522\n",
      "Epoch [75/100] Loss: 0.5166\n",
      "Epoch [75/100] Loss: 0.4607\n",
      "Epoch [75/100] Loss: 0.4823\n",
      "Epoch [75/100] Loss: 0.5602\n",
      "Epoch [75/100] Loss: 0.6065\n",
      "Epoch [75/100] Loss: 0.4961\n",
      "Epoch [75/100] Loss: 0.6458\n",
      "Epoch [75/100] Loss: 0.6566\n",
      "Epoch [75/100] Loss: 0.7611\n",
      "Epoch [75/100] Loss: 0.4926\n",
      "Epoch [75/100] Loss: 0.6453\n",
      "Epoch [75/100] Loss: 0.5480\n",
      "Epoch [75/100] Loss: 0.7679\n"
     ]
    },
    {
     "name": "stderr",
     "output_type": "stream",
     "text": [
      "1684it [04:21,  6.44it/s]"
     ]
    },
    {
     "name": "stdout",
     "output_type": "stream",
     "text": [
      "Overall Acc: \t 0.6149459745\n",
      "Mean Acc : \t 0.473252572647\n",
      "FreqW Acc : \t 0.451142816079\n",
      "Mean IoU : \t 0.346922911843\n"
     ]
    },
    {
     "name": "stderr",
     "output_type": "stream",
     "text": [
      "\n"
     ]
    },
    {
     "name": "stdout",
     "output_type": "stream",
     "text": [
      "Epoch [76/100] Loss: 0.5747\n",
      "Epoch [76/100] Loss: 0.7881\n",
      "Epoch [76/100] Loss: 0.6483\n",
      "Epoch [76/100] Loss: 0.6133\n",
      "Epoch [76/100] Loss: 0.4572\n",
      "Epoch [76/100] Loss: 0.6814\n",
      "Epoch [76/100] Loss: 0.5649\n",
      "Epoch [76/100] Loss: 0.7161\n",
      "Epoch [76/100] Loss: 0.4928\n",
      "Epoch [76/100] Loss: 0.5394\n",
      "Epoch [76/100] Loss: 0.5109\n",
      "Epoch [76/100] Loss: 0.5529\n",
      "Epoch [76/100] Loss: 0.6393\n",
      "Epoch [76/100] Loss: 0.5219\n",
      "Epoch [76/100] Loss: 0.5910\n",
      "Epoch [76/100] Loss: 0.3792\n",
      "Epoch [76/100] Loss: 0.4010\n"
     ]
    },
    {
     "name": "stderr",
     "output_type": "stream",
     "text": [
      "1684it [04:22,  6.42it/s]"
     ]
    },
    {
     "name": "stdout",
     "output_type": "stream",
     "text": [
      "Overall Acc: \t 0.609499803398\n",
      "Mean Acc : \t 0.459127454447\n",
      "FreqW Acc : \t 0.450596128625\n",
      "Mean IoU : \t 0.343108594541\n"
     ]
    },
    {
     "name": "stderr",
     "output_type": "stream",
     "text": [
      "\n"
     ]
    },
    {
     "name": "stdout",
     "output_type": "stream",
     "text": [
      "Epoch [77/100] Loss: 0.5952\n",
      "Epoch [77/100] Loss: 0.5196\n",
      "Epoch [77/100] Loss: 0.5679\n",
      "Epoch [77/100] Loss: 0.5666\n",
      "Epoch [77/100] Loss: 0.7033\n",
      "Epoch [77/100] Loss: 0.4725\n",
      "Epoch [77/100] Loss: 0.5810\n",
      "Epoch [77/100] Loss: 0.5291\n",
      "Epoch [77/100] Loss: 0.5384\n",
      "Epoch [77/100] Loss: 0.5014\n",
      "Epoch [77/100] Loss: 0.4514\n",
      "Epoch [77/100] Loss: 0.5462\n",
      "Epoch [77/100] Loss: 0.7871\n",
      "Epoch [77/100] Loss: 0.5463\n",
      "Epoch [77/100] Loss: 0.8057\n",
      "Epoch [77/100] Loss: 0.6760\n",
      "Epoch [77/100] Loss: 0.6294\n"
     ]
    },
    {
     "name": "stderr",
     "output_type": "stream",
     "text": [
      "1684it [04:21,  6.45it/s]"
     ]
    },
    {
     "name": "stdout",
     "output_type": "stream",
     "text": [
      "Overall Acc: \t 0.609051178321\n",
      "Mean Acc : \t 0.500854419197\n",
      "FreqW Acc : \t 0.447042386941\n",
      "Mean IoU : \t 0.352783820849\n"
     ]
    },
    {
     "name": "stderr",
     "output_type": "stream",
     "text": [
      "\n"
     ]
    },
    {
     "name": "stdout",
     "output_type": "stream",
     "text": [
      "Epoch [78/100] Loss: 0.6385\n",
      "Epoch [78/100] Loss: 0.5748\n",
      "Epoch [78/100] Loss: 0.6342\n",
      "Epoch [78/100] Loss: 0.5803\n",
      "Epoch [78/100] Loss: 0.5795\n",
      "Epoch [78/100] Loss: 0.6597\n",
      "Epoch [78/100] Loss: 0.6655\n",
      "Epoch [78/100] Loss: 0.4400\n",
      "Epoch [78/100] Loss: 0.4453\n",
      "Epoch [78/100] Loss: 0.5416\n",
      "Epoch [78/100] Loss: 0.7547\n",
      "Epoch [78/100] Loss: 0.6795\n",
      "Epoch [78/100] Loss: 0.4827\n",
      "Epoch [78/100] Loss: 0.7289\n",
      "Epoch [78/100] Loss: 0.5910\n",
      "Epoch [78/100] Loss: 0.4985\n",
      "Epoch [78/100] Loss: 0.6760\n"
     ]
    },
    {
     "name": "stderr",
     "output_type": "stream",
     "text": [
      "1684it [04:21,  6.44it/s]"
     ]
    },
    {
     "name": "stdout",
     "output_type": "stream",
     "text": [
      "Overall Acc: \t 0.61427006562\n",
      "Mean Acc : \t 0.481208357118\n",
      "FreqW Acc : \t 0.450569665642\n",
      "Mean IoU : \t 0.349904327374\n"
     ]
    },
    {
     "name": "stderr",
     "output_type": "stream",
     "text": [
      "\n"
     ]
    },
    {
     "name": "stdout",
     "output_type": "stream",
     "text": [
      "Epoch [79/100] Loss: 0.8799\n",
      "Epoch [79/100] Loss: 0.6832\n",
      "Epoch [79/100] Loss: 0.3363\n",
      "Epoch [79/100] Loss: 0.3296\n",
      "Epoch [79/100] Loss: 0.7584\n",
      "Epoch [79/100] Loss: 0.7402\n",
      "Epoch [79/100] Loss: 0.5901\n",
      "Epoch [79/100] Loss: 0.8212\n",
      "Epoch [79/100] Loss: 0.5244\n",
      "Epoch [79/100] Loss: 0.8428\n",
      "Epoch [79/100] Loss: 0.5526\n",
      "Epoch [79/100] Loss: 0.4599\n",
      "Epoch [79/100] Loss: 0.6467\n",
      "Epoch [79/100] Loss: 0.6521\n",
      "Epoch [79/100] Loss: 0.5903\n",
      "Epoch [79/100] Loss: 0.5346\n",
      "Epoch [79/100] Loss: 0.4968\n"
     ]
    },
    {
     "name": "stderr",
     "output_type": "stream",
     "text": [
      "1684it [04:24,  6.37it/s]"
     ]
    },
    {
     "name": "stdout",
     "output_type": "stream",
     "text": [
      "Overall Acc: \t 0.614685905915\n",
      "Mean Acc : \t 0.473993556589\n",
      "FreqW Acc : \t 0.452565982322\n",
      "Mean IoU : \t 0.348508133722\n"
     ]
    },
    {
     "name": "stderr",
     "output_type": "stream",
     "text": [
      "\n"
     ]
    },
    {
     "name": "stdout",
     "output_type": "stream",
     "text": [
      "Epoch [80/100] Loss: 1.0329\n",
      "Epoch [80/100] Loss: 0.7091\n",
      "Epoch [80/100] Loss: 0.5243\n",
      "Epoch [80/100] Loss: 0.6392\n",
      "Epoch [80/100] Loss: 0.8619\n",
      "Epoch [80/100] Loss: 0.5613\n",
      "Epoch [80/100] Loss: 0.5771\n",
      "Epoch [80/100] Loss: 0.6009\n",
      "Epoch [80/100] Loss: 0.6817\n",
      "Epoch [80/100] Loss: 0.5379\n",
      "Epoch [80/100] Loss: 0.6164\n",
      "Epoch [80/100] Loss: 0.7225\n",
      "Epoch [80/100] Loss: 0.4828\n",
      "Epoch [80/100] Loss: 0.6737\n",
      "Epoch [80/100] Loss: 0.4481\n",
      "Epoch [80/100] Loss: 0.7105\n",
      "Epoch [80/100] Loss: 0.8413\n"
     ]
    },
    {
     "name": "stderr",
     "output_type": "stream",
     "text": [
      "1684it [04:21,  6.43it/s]"
     ]
    },
    {
     "name": "stdout",
     "output_type": "stream",
     "text": [
      "Overall Acc: \t 0.610364335809\n",
      "Mean Acc : \t 0.485655309232\n",
      "FreqW Acc : \t 0.451929387007\n",
      "Mean IoU : \t 0.350594174789\n"
     ]
    },
    {
     "name": "stderr",
     "output_type": "stream",
     "text": [
      "\n"
     ]
    },
    {
     "name": "stdout",
     "output_type": "stream",
     "text": [
      "Epoch [81/100] Loss: 0.5375\n",
      "Epoch [81/100] Loss: 0.7943\n",
      "Epoch [81/100] Loss: 0.6372\n",
      "Epoch [81/100] Loss: 0.5405\n",
      "Epoch [81/100] Loss: 0.4034\n",
      "Epoch [81/100] Loss: 0.7097\n",
      "Epoch [81/100] Loss: 0.6501\n",
      "Epoch [81/100] Loss: 0.6810\n",
      "Epoch [81/100] Loss: 0.6862\n",
      "Epoch [81/100] Loss: 0.6832\n",
      "Epoch [81/100] Loss: 0.3800\n",
      "Epoch [81/100] Loss: 0.5217\n",
      "Epoch [81/100] Loss: 0.4975\n",
      "Epoch [81/100] Loss: 0.4455\n",
      "Epoch [81/100] Loss: 0.4936\n",
      "Epoch [81/100] Loss: 0.3890\n",
      "Epoch [81/100] Loss: 0.5027\n"
     ]
    },
    {
     "name": "stderr",
     "output_type": "stream",
     "text": [
      "1684it [04:23,  6.40it/s]"
     ]
    },
    {
     "name": "stdout",
     "output_type": "stream",
     "text": [
      "Overall Acc: \t 0.613038253532\n",
      "Mean Acc : \t 0.475276473964\n",
      "FreqW Acc : \t 0.449926005223\n",
      "Mean IoU : \t 0.346962481588\n"
     ]
    },
    {
     "name": "stderr",
     "output_type": "stream",
     "text": [
      "\n"
     ]
    },
    {
     "name": "stdout",
     "output_type": "stream",
     "text": [
      "Epoch [82/100] Loss: 0.5535\n",
      "Epoch [82/100] Loss: 0.5162\n",
      "Epoch [82/100] Loss: 0.5166\n",
      "Epoch [82/100] Loss: 0.6455\n",
      "Epoch [82/100] Loss: 0.5073\n",
      "Epoch [82/100] Loss: 0.5159\n",
      "Epoch [82/100] Loss: 0.5740\n",
      "Epoch [82/100] Loss: 0.5771\n",
      "Epoch [82/100] Loss: 0.6138\n",
      "Epoch [82/100] Loss: 0.6512\n",
      "Epoch [82/100] Loss: 0.8904\n",
      "Epoch [82/100] Loss: 0.4110\n",
      "Epoch [82/100] Loss: 0.7236\n",
      "Epoch [82/100] Loss: 0.5401\n",
      "Epoch [82/100] Loss: 0.4199\n",
      "Epoch [82/100] Loss: 0.7785\n",
      "Epoch [82/100] Loss: 0.5354\n"
     ]
    },
    {
     "name": "stderr",
     "output_type": "stream",
     "text": [
      "1684it [04:22,  6.42it/s]"
     ]
    },
    {
     "name": "stdout",
     "output_type": "stream",
     "text": [
      "Overall Acc: \t 0.609357640393\n",
      "Mean Acc : \t 0.493900177162\n",
      "FreqW Acc : \t 0.449460812909\n",
      "Mean IoU : \t 0.351544937634\n"
     ]
    },
    {
     "name": "stderr",
     "output_type": "stream",
     "text": [
      "\n"
     ]
    },
    {
     "name": "stdout",
     "output_type": "stream",
     "text": [
      "Epoch [83/100] Loss: 0.5113\n",
      "Epoch [83/100] Loss: 0.7005\n",
      "Epoch [83/100] Loss: 0.5759\n",
      "Epoch [83/100] Loss: 0.5144\n",
      "Epoch [83/100] Loss: 0.3860\n",
      "Epoch [83/100] Loss: 0.5558\n",
      "Epoch [83/100] Loss: 0.4746\n",
      "Epoch [83/100] Loss: 0.6083\n",
      "Epoch [83/100] Loss: 0.5944\n",
      "Epoch [83/100] Loss: 0.6958\n",
      "Epoch [83/100] Loss: 0.5446\n",
      "Epoch [83/100] Loss: 0.6330\n",
      "Epoch [83/100] Loss: 0.6071\n",
      "Epoch [83/100] Loss: 0.6232\n",
      "Epoch [83/100] Loss: 0.5991\n",
      "Epoch [83/100] Loss: 0.6550\n",
      "Epoch [83/100] Loss: 0.6217\n"
     ]
    },
    {
     "name": "stderr",
     "output_type": "stream",
     "text": [
      "1684it [04:24,  6.38it/s]"
     ]
    },
    {
     "name": "stdout",
     "output_type": "stream",
     "text": [
      "Overall Acc: \t 0.617529693946\n",
      "Mean Acc : \t 0.472656335438\n",
      "FreqW Acc : \t 0.452028899038\n",
      "Mean IoU : \t 0.348838362544\n"
     ]
    },
    {
     "name": "stderr",
     "output_type": "stream",
     "text": [
      "\n"
     ]
    },
    {
     "name": "stdout",
     "output_type": "stream",
     "text": [
      "Epoch [84/100] Loss: 0.5406\n",
      "Epoch [84/100] Loss: 0.4758\n",
      "Epoch [84/100] Loss: 0.7852\n",
      "Epoch [84/100] Loss: 0.5024\n",
      "Epoch [84/100] Loss: 0.7827\n",
      "Epoch [84/100] Loss: 0.4347\n",
      "Epoch [84/100] Loss: 0.4122\n",
      "Epoch [84/100] Loss: 0.6744\n",
      "Epoch [84/100] Loss: 0.4767\n",
      "Epoch [84/100] Loss: 0.6248\n",
      "Epoch [84/100] Loss: 0.5155\n",
      "Epoch [84/100] Loss: 0.7000\n",
      "Epoch [84/100] Loss: 0.6451\n",
      "Epoch [84/100] Loss: 0.4968\n",
      "Epoch [84/100] Loss: 0.5743\n",
      "Epoch [84/100] Loss: 0.6554\n",
      "Epoch [84/100] Loss: 0.6905\n"
     ]
    },
    {
     "name": "stderr",
     "output_type": "stream",
     "text": [
      "1684it [04:23,  6.38it/s]"
     ]
    },
    {
     "name": "stdout",
     "output_type": "stream",
     "text": [
      "Overall Acc: \t 0.61224960164\n",
      "Mean Acc : \t 0.475455793758\n",
      "FreqW Acc : \t 0.448229883678\n",
      "Mean IoU : \t 0.347576317282\n"
     ]
    },
    {
     "name": "stderr",
     "output_type": "stream",
     "text": [
      "\n"
     ]
    },
    {
     "name": "stdout",
     "output_type": "stream",
     "text": [
      "Epoch [85/100] Loss: 0.6923\n",
      "Epoch [85/100] Loss: 0.5843\n",
      "Epoch [85/100] Loss: 0.6857\n",
      "Epoch [85/100] Loss: 0.6405\n",
      "Epoch [85/100] Loss: 0.4824\n",
      "Epoch [85/100] Loss: 0.4574\n",
      "Epoch [85/100] Loss: 0.4033\n",
      "Epoch [85/100] Loss: 0.5275\n",
      "Epoch [85/100] Loss: 0.7649\n",
      "Epoch [85/100] Loss: 0.4365\n",
      "Epoch [85/100] Loss: 0.4724\n",
      "Epoch [85/100] Loss: 0.4885\n",
      "Epoch [85/100] Loss: 0.5571\n",
      "Epoch [85/100] Loss: 0.6634\n",
      "Epoch [85/100] Loss: 0.4791\n",
      "Epoch [85/100] Loss: 0.4271\n",
      "Epoch [85/100] Loss: 0.4214\n"
     ]
    },
    {
     "name": "stderr",
     "output_type": "stream",
     "text": [
      "1684it [04:21,  6.43it/s]"
     ]
    },
    {
     "name": "stdout",
     "output_type": "stream",
     "text": [
      "Overall Acc: \t 0.611946909808\n",
      "Mean Acc : \t 0.460764513947\n",
      "FreqW Acc : \t 0.451240640361\n",
      "Mean IoU : \t 0.343168992469\n"
     ]
    },
    {
     "name": "stderr",
     "output_type": "stream",
     "text": [
      "\n"
     ]
    },
    {
     "name": "stdout",
     "output_type": "stream",
     "text": [
      "Epoch [86/100] Loss: 0.5605\n",
      "Epoch [86/100] Loss: 0.4795\n",
      "Epoch [86/100] Loss: 0.5080\n",
      "Epoch [86/100] Loss: 0.4974\n",
      "Epoch [86/100] Loss: 0.6621\n",
      "Epoch [86/100] Loss: 0.7416\n",
      "Epoch [86/100] Loss: 0.4550\n",
      "Epoch [86/100] Loss: 0.5181\n",
      "Epoch [86/100] Loss: 0.5054\n",
      "Epoch [86/100] Loss: 0.8182\n",
      "Epoch [86/100] Loss: 0.4480\n",
      "Epoch [86/100] Loss: 0.5340\n",
      "Epoch [86/100] Loss: 0.5969\n",
      "Epoch [86/100] Loss: 0.6050\n",
      "Epoch [86/100] Loss: 0.6656\n",
      "Epoch [86/100] Loss: 0.4574\n",
      "Epoch [86/100] Loss: 0.5536\n"
     ]
    },
    {
     "name": "stderr",
     "output_type": "stream",
     "text": [
      "1684it [04:20,  6.45it/s]"
     ]
    },
    {
     "name": "stdout",
     "output_type": "stream",
     "text": [
      "Overall Acc: \t 0.613224407617\n",
      "Mean Acc : \t 0.474380980624\n",
      "FreqW Acc : \t 0.45142559309\n",
      "Mean IoU : \t 0.348881657198\n"
     ]
    },
    {
     "name": "stderr",
     "output_type": "stream",
     "text": [
      "\n"
     ]
    },
    {
     "name": "stdout",
     "output_type": "stream",
     "text": [
      "Epoch [87/100] Loss: 0.7039\n",
      "Epoch [87/100] Loss: 0.6614\n",
      "Epoch [87/100] Loss: 0.6036\n",
      "Epoch [87/100] Loss: 0.6094\n",
      "Epoch [87/100] Loss: 0.4552\n",
      "Epoch [87/100] Loss: 0.6184\n",
      "Epoch [87/100] Loss: 0.5269\n",
      "Epoch [87/100] Loss: 0.5645\n",
      "Epoch [87/100] Loss: 0.5729\n",
      "Epoch [87/100] Loss: 0.3975\n",
      "Epoch [87/100] Loss: 0.5128\n",
      "Epoch [87/100] Loss: 0.5042\n",
      "Epoch [87/100] Loss: 0.6434\n",
      "Epoch [87/100] Loss: 0.5478\n",
      "Epoch [87/100] Loss: 0.5378\n",
      "Epoch [87/100] Loss: 0.6712\n",
      "Epoch [87/100] Loss: 0.7664\n"
     ]
    },
    {
     "name": "stderr",
     "output_type": "stream",
     "text": [
      "1684it [04:22,  6.42it/s]"
     ]
    },
    {
     "name": "stdout",
     "output_type": "stream",
     "text": [
      "Overall Acc: \t 0.614914970735\n",
      "Mean Acc : \t 0.471309869031\n",
      "FreqW Acc : \t 0.451606444159\n",
      "Mean IoU : \t 0.346917114968\n"
     ]
    },
    {
     "name": "stderr",
     "output_type": "stream",
     "text": [
      "\n"
     ]
    },
    {
     "name": "stdout",
     "output_type": "stream",
     "text": [
      "Epoch [88/100] Loss: 0.4083\n",
      "Epoch [88/100] Loss: 0.4824\n",
      "Epoch [88/100] Loss: 0.4648\n",
      "Epoch [88/100] Loss: 0.4617\n",
      "Epoch [88/100] Loss: 0.5367\n",
      "Epoch [88/100] Loss: 0.4919\n",
      "Epoch [88/100] Loss: 0.5542\n",
      "Epoch [88/100] Loss: 0.5242\n",
      "Epoch [88/100] Loss: 0.3238\n",
      "Epoch [88/100] Loss: 0.3996\n",
      "Epoch [88/100] Loss: 0.4897\n",
      "Epoch [88/100] Loss: 0.4651\n",
      "Epoch [88/100] Loss: 0.7122\n",
      "Epoch [88/100] Loss: 0.5976\n",
      "Epoch [88/100] Loss: 0.4486\n",
      "Epoch [88/100] Loss: 0.6468\n",
      "Epoch [88/100] Loss: 0.6088\n"
     ]
    },
    {
     "name": "stderr",
     "output_type": "stream",
     "text": [
      "1684it [04:21,  6.43it/s]"
     ]
    },
    {
     "name": "stdout",
     "output_type": "stream",
     "text": [
      "Overall Acc: \t 0.602946931724\n",
      "Mean Acc : \t 0.49986998615\n",
      "FreqW Acc : \t 0.447327670977\n",
      "Mean IoU : \t 0.35117353599\n"
     ]
    },
    {
     "name": "stderr",
     "output_type": "stream",
     "text": [
      "\n"
     ]
    },
    {
     "name": "stdout",
     "output_type": "stream",
     "text": [
      "Epoch [89/100] Loss: 0.5672\n",
      "Epoch [89/100] Loss: 0.4379\n",
      "Epoch [89/100] Loss: 0.4227\n",
      "Epoch [89/100] Loss: 0.5952\n",
      "Epoch [89/100] Loss: 0.6433\n",
      "Epoch [89/100] Loss: 0.4892\n",
      "Epoch [89/100] Loss: 0.4269\n",
      "Epoch [89/100] Loss: 0.5128\n",
      "Epoch [89/100] Loss: 0.4429\n",
      "Epoch [89/100] Loss: 0.3736\n",
      "Epoch [89/100] Loss: 0.5099\n",
      "Epoch [89/100] Loss: 0.6753\n",
      "Epoch [89/100] Loss: 0.5086\n",
      "Epoch [89/100] Loss: 0.6037\n",
      "Epoch [89/100] Loss: 0.3054\n",
      "Epoch [89/100] Loss: 0.6370\n",
      "Epoch [89/100] Loss: 0.5399\n"
     ]
    },
    {
     "name": "stderr",
     "output_type": "stream",
     "text": [
      "1684it [04:22,  6.41it/s]"
     ]
    },
    {
     "name": "stdout",
     "output_type": "stream",
     "text": [
      "Overall Acc: \t 0.610377812371\n",
      "Mean Acc : \t 0.475231236563\n",
      "FreqW Acc : \t 0.448111208225\n",
      "Mean IoU : \t 0.346822491053\n"
     ]
    },
    {
     "name": "stderr",
     "output_type": "stream",
     "text": [
      "\n"
     ]
    },
    {
     "name": "stdout",
     "output_type": "stream",
     "text": [
      "Epoch [90/100] Loss: 0.2865\n",
      "Epoch [90/100] Loss: 0.4800\n",
      "Epoch [90/100] Loss: 0.5901\n",
      "Epoch [90/100] Loss: 0.5798\n",
      "Epoch [90/100] Loss: 0.3955\n",
      "Epoch [90/100] Loss: 0.4760\n",
      "Epoch [90/100] Loss: 0.3918\n",
      "Epoch [90/100] Loss: 0.5967\n",
      "Epoch [90/100] Loss: 0.5004\n",
      "Epoch [90/100] Loss: 0.7471\n",
      "Epoch [90/100] Loss: 0.7038\n",
      "Epoch [90/100] Loss: 0.4388\n",
      "Epoch [90/100] Loss: 0.8511\n",
      "Epoch [90/100] Loss: 0.4647\n",
      "Epoch [90/100] Loss: 0.5516\n",
      "Epoch [90/100] Loss: 0.6178\n",
      "Epoch [90/100] Loss: 0.5376\n"
     ]
    },
    {
     "name": "stderr",
     "output_type": "stream",
     "text": [
      "1684it [04:23,  6.40it/s]"
     ]
    },
    {
     "name": "stdout",
     "output_type": "stream",
     "text": [
      "Overall Acc: \t 0.609475292002\n",
      "Mean Acc : \t 0.476644684703\n",
      "FreqW Acc : \t 0.450054281559\n",
      "Mean IoU : \t 0.348876177138\n"
     ]
    },
    {
     "name": "stderr",
     "output_type": "stream",
     "text": [
      "\n"
     ]
    },
    {
     "name": "stdout",
     "output_type": "stream",
     "text": [
      "Epoch [91/100] Loss: 0.4827\n",
      "Epoch [91/100] Loss: 0.6318\n",
      "Epoch [91/100] Loss: 0.3562\n",
      "Epoch [91/100] Loss: 0.4092\n",
      "Epoch [91/100] Loss: 0.6728\n",
      "Epoch [91/100] Loss: 0.4068\n",
      "Epoch [91/100] Loss: 0.5114\n",
      "Epoch [91/100] Loss: 0.4214\n",
      "Epoch [91/100] Loss: 0.3705\n",
      "Epoch [91/100] Loss: 0.5089\n",
      "Epoch [91/100] Loss: 0.6665\n",
      "Epoch [91/100] Loss: 0.5510\n",
      "Epoch [91/100] Loss: 0.4760\n",
      "Epoch [91/100] Loss: 0.5846\n",
      "Epoch [91/100] Loss: 0.4860\n",
      "Epoch [91/100] Loss: 0.4987\n",
      "Epoch [91/100] Loss: 0.5550\n"
     ]
    },
    {
     "name": "stderr",
     "output_type": "stream",
     "text": [
      "1684it [04:20,  6.46it/s]"
     ]
    },
    {
     "name": "stdout",
     "output_type": "stream",
     "text": [
      "Overall Acc: \t 0.612945501367\n",
      "Mean Acc : \t 0.497726513877\n",
      "FreqW Acc : \t 0.450390319187\n",
      "Mean IoU : \t 0.354690760221\n"
     ]
    },
    {
     "name": "stderr",
     "output_type": "stream",
     "text": [
      "\n"
     ]
    },
    {
     "name": "stdout",
     "output_type": "stream",
     "text": [
      "Epoch [92/100] Loss: 0.5239\n",
      "Epoch [92/100] Loss: 0.6212\n",
      "Epoch [92/100] Loss: 0.6714\n",
      "Epoch [92/100] Loss: 0.5503\n",
      "Epoch [92/100] Loss: 0.5079\n",
      "Epoch [92/100] Loss: 0.4920\n",
      "Epoch [92/100] Loss: 0.6937\n",
      "Epoch [92/100] Loss: 0.4672\n",
      "Epoch [92/100] Loss: 0.6489\n",
      "Epoch [92/100] Loss: 0.3853\n",
      "Epoch [92/100] Loss: 0.3836\n",
      "Epoch [92/100] Loss: 0.4287\n",
      "Epoch [92/100] Loss: 0.4866\n",
      "Epoch [92/100] Loss: 0.5361\n",
      "Epoch [92/100] Loss: 0.6469\n",
      "Epoch [92/100] Loss: 0.6755\n",
      "Epoch [92/100] Loss: 0.6445\n"
     ]
    },
    {
     "name": "stderr",
     "output_type": "stream",
     "text": [
      "1684it [04:21,  6.45it/s]"
     ]
    },
    {
     "name": "stdout",
     "output_type": "stream",
     "text": [
      "Overall Acc: \t 0.609087345942\n",
      "Mean Acc : \t 0.490387238751\n",
      "FreqW Acc : \t 0.449516490612\n",
      "Mean IoU : \t 0.352352958246\n"
     ]
    },
    {
     "name": "stderr",
     "output_type": "stream",
     "text": [
      "\n"
     ]
    },
    {
     "name": "stdout",
     "output_type": "stream",
     "text": [
      "Epoch [93/100] Loss: 0.5080\n",
      "Epoch [93/100] Loss: 0.5824\n",
      "Epoch [93/100] Loss: 0.6357\n",
      "Epoch [93/100] Loss: 0.6662\n",
      "Epoch [93/100] Loss: 0.4709\n",
      "Epoch [93/100] Loss: 0.4969\n",
      "Epoch [93/100] Loss: 0.5502\n",
      "Epoch [93/100] Loss: 0.5089\n",
      "Epoch [93/100] Loss: 0.5129\n",
      "Epoch [93/100] Loss: 0.6042\n",
      "Epoch [93/100] Loss: 0.5043\n",
      "Epoch [93/100] Loss: 0.5830\n",
      "Epoch [93/100] Loss: 0.5942\n",
      "Epoch [93/100] Loss: 0.5218\n",
      "Epoch [93/100] Loss: 0.6818\n",
      "Epoch [93/100] Loss: 0.6403\n",
      "Epoch [93/100] Loss: 0.5778\n"
     ]
    },
    {
     "name": "stderr",
     "output_type": "stream",
     "text": [
      "1684it [04:21,  6.45it/s]"
     ]
    },
    {
     "name": "stdout",
     "output_type": "stream",
     "text": [
      "Overall Acc: \t 0.610603426671\n",
      "Mean Acc : \t 0.470215034954\n",
      "FreqW Acc : \t 0.446441526094\n",
      "Mean IoU : \t 0.345905394012\n"
     ]
    },
    {
     "name": "stderr",
     "output_type": "stream",
     "text": [
      "\n"
     ]
    },
    {
     "name": "stdout",
     "output_type": "stream",
     "text": [
      "Epoch [94/100] Loss: 0.4476\n",
      "Epoch [94/100] Loss: 0.5270\n",
      "Epoch [94/100] Loss: 0.4340\n",
      "Epoch [94/100] Loss: 0.4880\n",
      "Epoch [94/100] Loss: 0.6063\n",
      "Epoch [94/100] Loss: 0.4809\n",
      "Epoch [94/100] Loss: 0.5071\n",
      "Epoch [94/100] Loss: 0.4797\n",
      "Epoch [94/100] Loss: 0.6766\n",
      "Epoch [94/100] Loss: 0.5431\n",
      "Epoch [94/100] Loss: 0.3499\n",
      "Epoch [94/100] Loss: 0.4961\n",
      "Epoch [94/100] Loss: 0.5243\n",
      "Epoch [94/100] Loss: 0.4915\n",
      "Epoch [94/100] Loss: 0.4521\n",
      "Epoch [94/100] Loss: 0.6331\n",
      "Epoch [94/100] Loss: 0.5532\n"
     ]
    },
    {
     "name": "stderr",
     "output_type": "stream",
     "text": [
      "1684it [04:23,  6.40it/s]"
     ]
    },
    {
     "name": "stdout",
     "output_type": "stream",
     "text": [
      "Overall Acc: \t 0.609035865305\n",
      "Mean Acc : \t 0.478442792927\n",
      "FreqW Acc : \t 0.447732022088\n",
      "Mean IoU : \t 0.347483544521\n"
     ]
    },
    {
     "name": "stderr",
     "output_type": "stream",
     "text": [
      "\n"
     ]
    },
    {
     "name": "stdout",
     "output_type": "stream",
     "text": [
      "Epoch [95/100] Loss: 0.4513\n",
      "Epoch [95/100] Loss: 0.6618\n",
      "Epoch [95/100] Loss: 0.3342\n",
      "Epoch [95/100] Loss: 0.4858\n",
      "Epoch [95/100] Loss: 0.4787\n",
      "Epoch [95/100] Loss: 0.5465\n",
      "Epoch [95/100] Loss: 0.4945\n",
      "Epoch [95/100] Loss: 0.4882\n",
      "Epoch [95/100] Loss: 0.5121\n",
      "Epoch [95/100] Loss: 0.4731\n",
      "Epoch [95/100] Loss: 0.5159\n",
      "Epoch [95/100] Loss: 0.4605\n",
      "Epoch [95/100] Loss: 0.5193\n",
      "Epoch [95/100] Loss: 0.4836\n",
      "Epoch [95/100] Loss: 0.5162\n",
      "Epoch [95/100] Loss: 0.4933\n",
      "Epoch [95/100] Loss: 0.4571\n"
     ]
    },
    {
     "name": "stderr",
     "output_type": "stream",
     "text": [
      "1684it [04:23,  6.40it/s]"
     ]
    },
    {
     "name": "stdout",
     "output_type": "stream",
     "text": [
      "Overall Acc: \t 0.609751229244\n",
      "Mean Acc : \t 0.493617359834\n",
      "FreqW Acc : \t 0.450930743314\n",
      "Mean IoU : \t 0.353363171136\n"
     ]
    },
    {
     "name": "stderr",
     "output_type": "stream",
     "text": [
      "\n"
     ]
    },
    {
     "name": "stdout",
     "output_type": "stream",
     "text": [
      "Epoch [96/100] Loss: 0.3139\n",
      "Epoch [96/100] Loss: 0.4710\n",
      "Epoch [96/100] Loss: 0.3640\n",
      "Epoch [96/100] Loss: 0.5268\n",
      "Epoch [96/100] Loss: 0.7057\n",
      "Epoch [96/100] Loss: 0.7785\n",
      "Epoch [96/100] Loss: 0.4935\n",
      "Epoch [96/100] Loss: 0.6761\n",
      "Epoch [96/100] Loss: 0.6688\n",
      "Epoch [96/100] Loss: 0.4998\n",
      "Epoch [96/100] Loss: 0.4584\n",
      "Epoch [96/100] Loss: 0.4999\n",
      "Epoch [96/100] Loss: 0.3749\n",
      "Epoch [96/100] Loss: 0.6053\n",
      "Epoch [96/100] Loss: 0.3885\n",
      "Epoch [96/100] Loss: 0.5706\n",
      "Epoch [96/100] Loss: 0.5616\n"
     ]
    },
    {
     "name": "stderr",
     "output_type": "stream",
     "text": [
      "1684it [04:23,  6.39it/s]"
     ]
    },
    {
     "name": "stdout",
     "output_type": "stream",
     "text": [
      "Overall Acc: \t 0.610809599964\n",
      "Mean Acc : \t 0.49831709868\n",
      "FreqW Acc : \t 0.449671708834\n",
      "Mean IoU : \t 0.353265941007\n"
     ]
    },
    {
     "name": "stderr",
     "output_type": "stream",
     "text": [
      "\n"
     ]
    },
    {
     "name": "stdout",
     "output_type": "stream",
     "text": [
      "Epoch [97/100] Loss: 0.4686\n",
      "Epoch [97/100] Loss: 0.4697\n",
      "Epoch [97/100] Loss: 0.5800\n",
      "Epoch [97/100] Loss: 0.4789\n",
      "Epoch [97/100] Loss: 0.7312\n",
      "Epoch [97/100] Loss: 0.5620\n",
      "Epoch [97/100] Loss: 0.6083\n",
      "Epoch [97/100] Loss: 0.5098\n",
      "Epoch [97/100] Loss: 0.4424\n",
      "Epoch [97/100] Loss: 0.5326\n",
      "Epoch [97/100] Loss: 0.5391\n",
      "Epoch [97/100] Loss: 0.6553\n",
      "Epoch [97/100] Loss: 0.7238\n",
      "Epoch [97/100] Loss: 0.5243\n",
      "Epoch [97/100] Loss: 0.3857\n",
      "Epoch [97/100] Loss: 0.5508\n",
      "Epoch [97/100] Loss: 0.6058\n"
     ]
    },
    {
     "name": "stderr",
     "output_type": "stream",
     "text": [
      "1684it [04:21,  6.45it/s]"
     ]
    },
    {
     "name": "stdout",
     "output_type": "stream",
     "text": [
      "Overall Acc: \t 0.610338154265\n",
      "Mean Acc : \t 0.496132414533\n",
      "FreqW Acc : \t 0.449713668718\n",
      "Mean IoU : \t 0.353712968627\n"
     ]
    },
    {
     "name": "stderr",
     "output_type": "stream",
     "text": [
      "\n"
     ]
    },
    {
     "name": "stdout",
     "output_type": "stream",
     "text": [
      "Epoch [98/100] Loss: 0.5004\n",
      "Epoch [98/100] Loss: 0.5489\n",
      "Epoch [98/100] Loss: 0.6620\n",
      "Epoch [98/100] Loss: 0.4586\n",
      "Epoch [98/100] Loss: 0.6414\n",
      "Epoch [98/100] Loss: 0.4921\n",
      "Epoch [98/100] Loss: 0.3768\n",
      "Epoch [98/100] Loss: 0.4099\n",
      "Epoch [98/100] Loss: 0.5287\n",
      "Epoch [98/100] Loss: 0.5331\n",
      "Epoch [98/100] Loss: 0.4473\n",
      "Epoch [98/100] Loss: 0.5555\n",
      "Epoch [98/100] Loss: 0.5715\n",
      "Epoch [98/100] Loss: 0.4549\n",
      "Epoch [98/100] Loss: 0.5153\n",
      "Epoch [98/100] Loss: 0.4207\n",
      "Epoch [98/100] Loss: 0.7780\n"
     ]
    },
    {
     "name": "stderr",
     "output_type": "stream",
     "text": [
      "1684it [04:21,  6.43it/s]"
     ]
    },
    {
     "name": "stdout",
     "output_type": "stream",
     "text": [
      "Overall Acc: \t 0.612079395498\n",
      "Mean Acc : \t 0.482627653125\n",
      "FreqW Acc : \t 0.451221986108\n",
      "Mean IoU : \t 0.350473393444\n"
     ]
    },
    {
     "name": "stderr",
     "output_type": "stream",
     "text": [
      "\n"
     ]
    },
    {
     "name": "stdout",
     "output_type": "stream",
     "text": [
      "Epoch [99/100] Loss: 0.6671\n",
      "Epoch [99/100] Loss: 0.5122\n",
      "Epoch [99/100] Loss: 0.6849\n",
      "Epoch [99/100] Loss: 0.6504\n",
      "Epoch [99/100] Loss: 0.4167\n",
      "Epoch [99/100] Loss: 0.7142\n",
      "Epoch [99/100] Loss: 0.4562\n",
      "Epoch [99/100] Loss: 0.3922\n",
      "Epoch [99/100] Loss: 0.5426\n",
      "Epoch [99/100] Loss: 0.4373\n",
      "Epoch [99/100] Loss: 0.4761\n",
      "Epoch [99/100] Loss: 0.5153\n",
      "Epoch [99/100] Loss: 0.5193\n",
      "Epoch [99/100] Loss: 0.4136\n",
      "Epoch [99/100] Loss: 0.4484\n",
      "Epoch [99/100] Loss: 0.4304\n",
      "Epoch [99/100] Loss: 0.7049\n"
     ]
    },
    {
     "name": "stderr",
     "output_type": "stream",
     "text": [
      "1684it [04:23,  6.40it/s]"
     ]
    },
    {
     "name": "stdout",
     "output_type": "stream",
     "text": [
      "Overall Acc: \t 0.606840062913\n",
      "Mean Acc : \t 0.482655110434\n",
      "FreqW Acc : \t 0.449271737603\n",
      "Mean IoU : \t 0.349501348666\n"
     ]
    },
    {
     "name": "stderr",
     "output_type": "stream",
     "text": [
      "\n"
     ]
    },
    {
     "name": "stdout",
     "output_type": "stream",
     "text": [
      "Epoch [100/100] Loss: 0.4589\n",
      "Epoch [100/100] Loss: 0.5350\n",
      "Epoch [100/100] Loss: 0.5531\n",
      "Epoch [100/100] Loss: 0.4395\n",
      "Epoch [100/100] Loss: 0.6416\n",
      "Epoch [100/100] Loss: 0.4749\n",
      "Epoch [100/100] Loss: 0.7546\n",
      "Epoch [100/100] Loss: 0.4787\n",
      "Epoch [100/100] Loss: 0.4291\n",
      "Epoch [100/100] Loss: 0.5355\n",
      "Epoch [100/100] Loss: 0.5804\n",
      "Epoch [100/100] Loss: 0.4129\n",
      "Epoch [100/100] Loss: 0.3153\n",
      "Epoch [100/100] Loss: 0.4434\n",
      "Epoch [100/100] Loss: 0.5629\n",
      "Epoch [100/100] Loss: 0.5142\n",
      "Epoch [100/100] Loss: 0.4616\n"
     ]
    },
    {
     "name": "stderr",
     "output_type": "stream",
     "text": [
      "1684it [04:22,  6.42it/s]"
     ]
    },
    {
     "name": "stdout",
     "output_type": "stream",
     "text": [
      "Overall Acc: \t 0.611921064099\n",
      "Mean Acc : \t 0.481770210601\n",
      "FreqW Acc : \t 0.452715669358\n",
      "Mean IoU : \t 0.351468629201\n"
     ]
    },
    {
     "name": "stderr",
     "output_type": "stream",
     "text": [
      "\n"
     ]
    }
   ],
   "source": [
    "best_iou = -100.0 \n",
    "for epoch in range(args.n_epoch):\n",
    "    model.train()\n",
    "    for i, (color_imgs, depth_imgs, label_imgs) in enumerate(trainloader):\n",
    "        images = Variable(color_imgs.cuda())\n",
    "        labels = Variable(label_imgs.cuda())\n",
    "\n",
    "        optimizer.zero_grad()\n",
    "        outputs = model(images)\n",
    "\n",
    "        loss = loss_fn(input=outputs, target=labels)\n",
    "\n",
    "        loss.backward()\n",
    "        optimizer.step()\n",
    "\n",
    "        if args.visdom:\n",
    "            vis.line(\n",
    "                X=torch.ones((1, 1)).cpu() * i,\n",
    "                Y=torch.Tensor([loss.data[0]]).unsqueeze(0).cpu(),\n",
    "                win=loss_window,\n",
    "                update='append')\n",
    "\n",
    "        if (i+1) % 100 == 0:\n",
    "            print(\"Epoch [%d/%d] Loss: %.4f\" % (epoch+1, args.n_epoch, loss.data[0]))\n",
    "\n",
    "    model.eval()\n",
    "    for i_val, (color_images_val, depth_images_val, label_images_val) in tqdm(enumerate(valloader)):\n",
    "        images_val = Variable(color_images_val.cuda(), volatile=True)\n",
    "        labels_val = Variable(label_images_val.cuda(), volatile=True)\n",
    "\n",
    "        outputs = model(images_val)\n",
    "        pred = outputs.data.max(1)[1].cpu().numpy()\n",
    "        gt = labels_val.data.cpu().numpy()\n",
    "        running_metrics.update(gt, pred)\n",
    "\n",
    "    score, class_iou = running_metrics.get_scores()\n",
    "    for k, v in score.items():\n",
    "        print(k, v)\n",
    "    running_metrics.reset()\n",
    "\n",
    "    if score['Mean IoU : \\t'] >= best_iou:\n",
    "        best_iou = score['Mean IoU : \\t']\n",
    "        state = {'epoch': epoch+1,\n",
    "                 'model_state': model.state_dict(),\n",
    "                 'optimizer_state' : optimizer.state_dict(),}\n",
    "        torch.save(state, \"{}_{}_best_model.pkl\".format(args.arch, 'SUNRGBD'))"
   ]
  },
  {
   "cell_type": "code",
   "execution_count": null,
   "metadata": {},
   "outputs": [],
   "source": []
  }
 ],
 "metadata": {
  "kernelspec": {
   "display_name": "Python [conda env:pytorch]",
   "language": "python",
   "name": "conda-env-pytorch-py"
  },
  "language_info": {
   "codemirror_mode": {
    "name": "ipython",
    "version": 3
   },
   "file_extension": ".py",
   "mimetype": "text/x-python",
   "name": "python",
   "nbconvert_exporter": "python",
   "pygments_lexer": "ipython3",
   "version": "3.6.3"
  }
 },
 "nbformat": 4,
 "nbformat_minor": 2
}
