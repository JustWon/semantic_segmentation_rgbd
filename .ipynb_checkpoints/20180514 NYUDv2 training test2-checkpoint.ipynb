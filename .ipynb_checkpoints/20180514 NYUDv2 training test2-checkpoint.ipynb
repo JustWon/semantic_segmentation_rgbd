{
 "cells": [
  {
   "cell_type": "code",
   "execution_count": 2,
   "metadata": {},
   "outputs": [],
   "source": [
    "%matplotlib inline\n",
    "import os\n",
    "import collections\n",
    "import torch\n",
    "import torchvision\n",
    "import numpy as np\n",
    "import scipy.misc as m\n",
    "import scipy.io as io\n",
    "import matplotlib.pyplot as plt\n",
    "\n",
    "from NYUDv2Loader import *\n",
    "\n",
    "os.environ['CUDA_VISIBLE_DEVICES'] = '2'\n",
    "data_path = '/home/dongwonshin/Desktop/Datasets/NYUDv2/'\n",
    "arg_string = '--arch fcn8s --batch_size 3'"
   ]
  },
  {
   "cell_type": "markdown",
   "metadata": {},
   "source": [
    "# Argument setting"
   ]
  },
  {
   "cell_type": "code",
   "execution_count": null,
   "metadata": {},
   "outputs": [],
   "source": [
    "import sys, os\n",
    "import torch\n",
    "import visdom\n",
    "import argparse\n",
    "import numpy as np\n",
    "import torch.nn as nn\n",
    "import torch.nn.functional as F\n",
    "import torchvision.models as models\n",
    "\n",
    "from torch.autograd import Variable\n",
    "from torch.utils import data\n",
    "from tqdm import tqdm\n",
    "\n",
    "from ptsemseg.models import get_model\n",
    "from ptsemseg.loader import get_loader, get_data_path\n",
    "from ptsemseg.metrics import runningScore\n",
    "from ptsemseg.loss import *\n",
    "from ptsemseg.augmentations import *\n",
    "\n",
    "\n",
    "parser = argparse.ArgumentParser(description='Hyperparams')\n",
    "parser.add_argument('--arch', nargs='?', type=str, default='fcn8s', help='Architecture to use [\\'fcn8s, unet, segnet etc\\']')\n",
    "parser.add_argument('--img_rows', nargs='?', type=int, default=256, help='Height of the input image')\n",
    "parser.add_argument('--img_cols', nargs='?', type=int, default=256, help='Width of the input image')\n",
    "\n",
    "parser.add_argument('--img_norm', dest='img_norm', action='store_true', help='Enable input image scales normalization [0, 1] | True by default')\n",
    "parser.add_argument('--no-img_norm', dest='img_norm', action='store_false', help='Disable input image scales normalization [0, 1] | True by default')\n",
    "parser.set_defaults(img_norm=True)\n",
    "\n",
    "parser.add_argument('--n_epoch', nargs='?', type=int, default=100, help='# of the epochs')\n",
    "parser.add_argument('--batch_size', nargs='?', type=int, default=1, help='Batch Size')\n",
    "parser.add_argument('--l_rate', nargs='?', type=float, default=1e-5, help='Learning Rate')\n",
    "parser.add_argument('--feature_scale', nargs='?', type=int, default=1, help='Divider for # of features to use')\n",
    "parser.add_argument('--resume', nargs='?', type=str, default=None, help='Path to previous saved model to restart from')\n",
    "\n",
    "parser.add_argument('--visdom', dest='visdom', action='store_true', help='Enable visualization(s) on visdom | False by default')\n",
    "parser.add_argument('--no-visdom', dest='visdom', action='store_false', help='Disable visualization(s) on visdom | False by default')\n",
    "parser.set_defaults(visdom=False)"
   ]
  },
  {
   "cell_type": "markdown",
   "metadata": {},
   "source": [
    "# Dataset 준비 & model construction"
   ]
  },
  {
   "cell_type": "code",
   "execution_count": null,
   "metadata": {},
   "outputs": [],
   "source": [
    "args = parser.parse_args(arg_string.split(' '))\n",
    "\n",
    "# Setup Augmentations\n",
    "data_aug= Compose([RandomRotate(10), RandomHorizontallyFlip()])\n",
    "\n",
    "# Setup Dataloader\n",
    "t_loader = NYUDv2Loader(data_path, is_transform=True)\n",
    "v_loader = NYUDv2Loader(data_path, is_transform=True, split='val')\n",
    "\n",
    "n_classes = t_loader.n_classes\n",
    "trainloader = data.DataLoader(t_loader, batch_size=args.batch_size, num_workers=16, shuffle=True)\n",
    "valloader = data.DataLoader(v_loader, batch_size=args.batch_size, num_workers=16)\n",
    "\n",
    "# Setup Metrics\n",
    "running_metrics = runningScore(n_classes)\n",
    "\n",
    "# Setup visdom for visualization\n",
    "if args.visdom:\n",
    "    vis = visdom.Visdom()\n",
    "\n",
    "    loss_window = vis.line(X=torch.zeros((1,)).cpu(),\n",
    "                       Y=torch.zeros((1)).cpu(),\n",
    "                       opts=dict(xlabel='minibatches',\n",
    "                                 ylabel='Loss',\n",
    "                                 title='Training Loss',\n",
    "                                 legend=['Loss']))\n",
    "\n",
    "# Setup Model\n",
    "model = get_model(args.arch, n_classes)\n",
    "\n",
    "model = torch.nn.DataParallel(model, device_ids=range(torch.cuda.device_count()))\n",
    "model.cuda()\n",
    "\n",
    "# Check if model has custom optimizer / loss\n",
    "if hasattr(model.module, 'optimizer'):\n",
    "    optimizer = model.module.optimizer\n",
    "else:\n",
    "    optimizer = torch.optim.SGD(model.parameters(), lr=args.l_rate, momentum=0.99, weight_decay=5e-4)\n",
    "\n",
    "if hasattr(model.module, 'loss'):\n",
    "    print('Using custom loss')\n",
    "    loss_fn = model.module.loss\n",
    "else:\n",
    "    loss_fn = cross_entropy2d\n",
    "\n",
    "if args.resume is not None:                                         \n",
    "    if os.path.isfile(args.resume):\n",
    "        print(\"Loading model and optimizer from checkpoint '{}'\".format(args.resume))\n",
    "        checkpoint = torch.load(args.resume)\n",
    "        model.load_state_dict(checkpoint['model_state'])\n",
    "        optimizer.load_state_dict(checkpoint['optimizer_state'])\n",
    "        print(\"Loaded checkpoint '{}' (epoch {})\"                    \n",
    "              .format(args.resume, checkpoint['epoch']))\n",
    "    else:\n",
    "        print(\"No checkpoint found at '{}'\".format(args.resume)) \n"
   ]
  },
  {
   "cell_type": "markdown",
   "metadata": {},
   "source": [
    "# Training"
   ]
  },
  {
   "cell_type": "code",
   "execution_count": null,
   "metadata": {},
   "outputs": [
    {
     "name": "stderr",
     "output_type": "stream",
     "text": [
      "/home/dongwonshin/.conda/envs/pytorch/lib/python3.6/site-packages/torch/nn/functional.py:1462: UserWarning: nn.functional.upsample_bilinear is deprecated. Use nn.functional.upsample instead.\n",
      "  warnings.warn(\"nn.functional.upsample_bilinear is deprecated. Use nn.functional.upsample instead.\")\n"
     ]
    },
    {
     "name": "stdout",
     "output_type": "stream",
     "text": [
      "Epoch [1/100] Loss: 2.8223\n",
      "Epoch [1/100] Loss: 2.7707\n",
      "Epoch [1/100] Loss: 2.2866\n",
      "Epoch [1/100] Loss: 2.6855\n",
      "Epoch [1/100] Loss: 2.2286\n",
      "Epoch [1/100] Loss: 2.2721\n",
      "Epoch [1/100] Loss: 2.0192\n",
      "Epoch [1/100] Loss: 2.0519\n",
      "Epoch [1/100] Loss: 2.1019\n",
      "Epoch [1/100] Loss: 1.9484\n",
      "Epoch [1/100] Loss: 1.7170\n",
      "Epoch [1/100] Loss: 2.1335\n",
      "Epoch [1/100] Loss: 2.0073\n"
     ]
    },
    {
     "name": "stderr",
     "output_type": "stream",
     "text": [
      "218it [01:09,  3.12it/s]\n"
     ]
    },
    {
     "name": "stdout",
     "output_type": "stream",
     "text": [
      "Overall Acc: \t 0.34535749554\n",
      "Mean Acc : \t 0.148755437557\n",
      "FreqW Acc : \t 0.175323779791\n",
      "Mean IoU : \t 0.0765410621489\n",
      "Epoch [2/100] Loss: 2.0023\n",
      "Epoch [2/100] Loss: 2.2467\n",
      "Epoch [2/100] Loss: 1.7664\n",
      "Epoch [2/100] Loss: 2.0660\n",
      "Epoch [2/100] Loss: 1.8743\n",
      "Epoch [2/100] Loss: 2.1356\n",
      "Epoch [2/100] Loss: 1.8393\n",
      "Epoch [2/100] Loss: 1.8988\n",
      "Epoch [2/100] Loss: 1.8578\n",
      "Epoch [2/100] Loss: 1.8351\n",
      "Epoch [2/100] Loss: 2.0277\n",
      "Epoch [2/100] Loss: 1.7773\n",
      "Epoch [2/100] Loss: 1.8238\n"
     ]
    },
    {
     "name": "stderr",
     "output_type": "stream",
     "text": [
      "218it [01:10,  3.09it/s]\n"
     ]
    },
    {
     "name": "stdout",
     "output_type": "stream",
     "text": [
      "Overall Acc: \t 0.38472464123\n",
      "Mean Acc : \t 0.170219727469\n",
      "FreqW Acc : \t 0.217634482429\n",
      "Mean IoU : \t 0.0991177622536\n",
      "Epoch [3/100] Loss: 1.7351\n",
      "Epoch [3/100] Loss: 1.7483\n",
      "Epoch [3/100] Loss: 2.0667\n",
      "Epoch [3/100] Loss: 1.6060\n",
      "Epoch [3/100] Loss: 1.7909\n",
      "Epoch [3/100] Loss: 1.6755\n",
      "Epoch [3/100] Loss: 1.7433\n",
      "Epoch [3/100] Loss: 1.7195\n",
      "Epoch [3/100] Loss: 1.7841\n",
      "Epoch [3/100] Loss: 1.8623\n",
      "Epoch [3/100] Loss: 1.8680\n",
      "Epoch [3/100] Loss: 1.7580\n",
      "Epoch [3/100] Loss: 1.7716\n"
     ]
    },
    {
     "name": "stderr",
     "output_type": "stream",
     "text": [
      "218it [01:10,  3.07it/s]\n"
     ]
    },
    {
     "name": "stdout",
     "output_type": "stream",
     "text": [
      "Overall Acc: \t 0.41972901635\n",
      "Mean Acc : \t 0.205904484406\n",
      "FreqW Acc : \t 0.242796405842\n",
      "Mean IoU : \t 0.121682437797\n",
      "Epoch [4/100] Loss: 1.6742\n",
      "Epoch [4/100] Loss: 1.5536\n",
      "Epoch [4/100] Loss: 1.4812\n",
      "Epoch [4/100] Loss: 1.5132\n",
      "Epoch [4/100] Loss: 1.6414\n",
      "Epoch [4/100] Loss: 1.6000\n",
      "Epoch [4/100] Loss: 2.0642\n",
      "Epoch [4/100] Loss: 1.6660\n",
      "Epoch [4/100] Loss: 1.5205\n",
      "Epoch [4/100] Loss: 1.4977\n",
      "Epoch [4/100] Loss: 1.7578\n",
      "Epoch [4/100] Loss: 1.6732\n",
      "Epoch [4/100] Loss: 1.9923\n"
     ]
    },
    {
     "name": "stderr",
     "output_type": "stream",
     "text": [
      "218it [01:11,  3.05it/s]\n"
     ]
    },
    {
     "name": "stdout",
     "output_type": "stream",
     "text": [
      "Overall Acc: \t 0.443160249825\n",
      "Mean Acc : \t 0.235922690259\n",
      "FreqW Acc : \t 0.267442665654\n",
      "Mean IoU : \t 0.145968057772\n",
      "Epoch [5/100] Loss: 1.6311\n",
      "Epoch [5/100] Loss: 1.7194\n",
      "Epoch [5/100] Loss: 1.4746\n",
      "Epoch [5/100] Loss: 1.5417\n",
      "Epoch [5/100] Loss: 1.2758\n",
      "Epoch [5/100] Loss: 1.3241\n",
      "Epoch [5/100] Loss: 1.3959\n",
      "Epoch [5/100] Loss: 1.3835\n",
      "Epoch [5/100] Loss: 1.5792\n",
      "Epoch [5/100] Loss: 1.5264\n",
      "Epoch [5/100] Loss: 1.4831\n",
      "Epoch [5/100] Loss: 1.6235\n",
      "Epoch [5/100] Loss: 1.7546\n"
     ]
    },
    {
     "name": "stderr",
     "output_type": "stream",
     "text": [
      "218it [01:11,  3.04it/s]\n"
     ]
    },
    {
     "name": "stdout",
     "output_type": "stream",
     "text": [
      "Overall Acc: \t 0.453301094825\n",
      "Mean Acc : \t 0.247615944633\n",
      "FreqW Acc : \t 0.272060357504\n",
      "Mean IoU : \t 0.151805814289\n",
      "Epoch [6/100] Loss: 1.8825\n",
      "Epoch [6/100] Loss: 1.6359\n",
      "Epoch [6/100] Loss: 1.9251\n",
      "Epoch [6/100] Loss: 1.4764\n",
      "Epoch [6/100] Loss: 1.4282\n",
      "Epoch [6/100] Loss: 1.7852\n",
      "Epoch [6/100] Loss: 1.3910\n",
      "Epoch [6/100] Loss: 1.6879\n",
      "Epoch [6/100] Loss: 1.5521\n",
      "Epoch [6/100] Loss: 1.3879\n",
      "Epoch [6/100] Loss: 1.7041\n",
      "Epoch [6/100] Loss: 1.6501\n",
      "Epoch [6/100] Loss: 1.4465\n"
     ]
    },
    {
     "name": "stderr",
     "output_type": "stream",
     "text": [
      "218it [01:11,  3.05it/s]\n"
     ]
    },
    {
     "name": "stdout",
     "output_type": "stream",
     "text": [
      "Overall Acc: \t 0.468737128488\n",
      "Mean Acc : \t 0.282656711922\n",
      "FreqW Acc : \t 0.292841938961\n",
      "Mean IoU : \t 0.181479617416\n",
      "Epoch [7/100] Loss: 1.4750\n",
      "Epoch [7/100] Loss: 1.5449\n",
      "Epoch [7/100] Loss: 1.3802\n",
      "Epoch [7/100] Loss: 1.5064\n",
      "Epoch [7/100] Loss: 1.6115\n",
      "Epoch [7/100] Loss: 1.7490\n",
      "Epoch [7/100] Loss: 1.6469\n",
      "Epoch [7/100] Loss: 1.6533\n",
      "Epoch [7/100] Loss: 1.7591\n",
      "Epoch [7/100] Loss: 1.5488\n",
      "Epoch [7/100] Loss: 1.4800\n",
      "Epoch [7/100] Loss: 1.5863\n",
      "Epoch [7/100] Loss: 1.5623\n"
     ]
    },
    {
     "name": "stderr",
     "output_type": "stream",
     "text": [
      "218it [01:11,  3.04it/s]\n"
     ]
    },
    {
     "name": "stdout",
     "output_type": "stream",
     "text": [
      "Overall Acc: \t 0.485094301494\n",
      "Mean Acc : \t 0.302997523887\n",
      "FreqW Acc : \t 0.309683145282\n",
      "Mean IoU : \t 0.20004357992\n",
      "Epoch [8/100] Loss: 1.6307\n",
      "Epoch [8/100] Loss: 1.2992\n",
      "Epoch [8/100] Loss: 1.4320\n",
      "Epoch [8/100] Loss: 1.6055\n",
      "Epoch [8/100] Loss: 1.4078\n",
      "Epoch [8/100] Loss: 1.5726\n",
      "Epoch [8/100] Loss: 1.6345\n",
      "Epoch [8/100] Loss: 1.2700\n",
      "Epoch [8/100] Loss: 1.4608\n",
      "Epoch [8/100] Loss: 1.3781\n",
      "Epoch [8/100] Loss: 1.5806\n",
      "Epoch [8/100] Loss: 1.5398\n",
      "Epoch [8/100] Loss: 1.6307\n"
     ]
    },
    {
     "name": "stderr",
     "output_type": "stream",
     "text": [
      "218it [01:11,  3.04it/s]\n"
     ]
    },
    {
     "name": "stdout",
     "output_type": "stream",
     "text": [
      "Overall Acc: \t 0.499608220247\n",
      "Mean Acc : \t 0.321107518702\n",
      "FreqW Acc : \t 0.32076341504\n",
      "Mean IoU : \t 0.21526069011\n",
      "Epoch [9/100] Loss: 1.2524\n",
      "Epoch [9/100] Loss: 1.3671\n",
      "Epoch [9/100] Loss: 1.2102\n",
      "Epoch [9/100] Loss: 1.3590\n",
      "Epoch [9/100] Loss: 1.6888\n",
      "Epoch [9/100] Loss: 2.0692\n",
      "Epoch [9/100] Loss: 1.7319\n",
      "Epoch [9/100] Loss: 1.4999\n",
      "Epoch [9/100] Loss: 1.0859\n",
      "Epoch [9/100] Loss: 1.5251\n",
      "Epoch [9/100] Loss: 1.3614\n",
      "Epoch [9/100] Loss: 1.1834\n",
      "Epoch [9/100] Loss: 1.2080\n"
     ]
    },
    {
     "name": "stderr",
     "output_type": "stream",
     "text": [
      "218it [01:11,  3.07it/s]\n"
     ]
    },
    {
     "name": "stdout",
     "output_type": "stream",
     "text": [
      "Overall Acc: \t 0.504011626171\n",
      "Mean Acc : \t 0.325045150277\n",
      "FreqW Acc : \t 0.330761981546\n",
      "Mean IoU : \t 0.221418087976\n",
      "Epoch [10/100] Loss: 1.4069\n",
      "Epoch [10/100] Loss: 1.5504\n",
      "Epoch [10/100] Loss: 1.4821\n",
      "Epoch [10/100] Loss: 1.0400\n",
      "Epoch [10/100] Loss: 1.4464\n",
      "Epoch [10/100] Loss: 1.4482\n",
      "Epoch [10/100] Loss: 1.8135\n",
      "Epoch [10/100] Loss: 1.0456\n",
      "Epoch [10/100] Loss: 1.2626\n",
      "Epoch [10/100] Loss: 1.3130\n",
      "Epoch [10/100] Loss: 1.6059\n",
      "Epoch [10/100] Loss: 1.4089\n",
      "Epoch [10/100] Loss: 1.1815\n"
     ]
    },
    {
     "name": "stderr",
     "output_type": "stream",
     "text": [
      "218it [01:11,  3.05it/s]\n"
     ]
    },
    {
     "name": "stdout",
     "output_type": "stream",
     "text": [
      "Overall Acc: \t 0.515852725217\n",
      "Mean Acc : \t 0.349110994\n",
      "FreqW Acc : \t 0.3412173707\n",
      "Mean IoU : \t 0.23779808084\n",
      "Epoch [11/100] Loss: 1.3130\n",
      "Epoch [11/100] Loss: 1.3871\n",
      "Epoch [11/100] Loss: 1.6470\n",
      "Epoch [11/100] Loss: 1.3096\n",
      "Epoch [11/100] Loss: 1.1949\n",
      "Epoch [11/100] Loss: 1.6572\n",
      "Epoch [11/100] Loss: 1.6382\n",
      "Epoch [11/100] Loss: 1.3772\n",
      "Epoch [11/100] Loss: 1.2069\n",
      "Epoch [11/100] Loss: 1.3397\n",
      "Epoch [11/100] Loss: 1.3042\n",
      "Epoch [11/100] Loss: 1.4985\n",
      "Epoch [11/100] Loss: 1.2690\n"
     ]
    },
    {
     "name": "stderr",
     "output_type": "stream",
     "text": [
      "218it [01:11,  3.04it/s]\n"
     ]
    },
    {
     "name": "stdout",
     "output_type": "stream",
     "text": [
      "Overall Acc: \t 0.521798198984\n",
      "Mean Acc : \t 0.361632514882\n",
      "FreqW Acc : \t 0.349673274913\n",
      "Mean IoU : \t 0.249651098056\n",
      "Epoch [12/100] Loss: 1.4482\n",
      "Epoch [12/100] Loss: 1.3262\n",
      "Epoch [12/100] Loss: 1.1898\n",
      "Epoch [12/100] Loss: 1.6979\n",
      "Epoch [12/100] Loss: 1.0110\n",
      "Epoch [12/100] Loss: 1.6499\n",
      "Epoch [12/100] Loss: 1.3692\n",
      "Epoch [12/100] Loss: 1.5638\n",
      "Epoch [12/100] Loss: 1.3350\n",
      "Epoch [12/100] Loss: 1.6023\n",
      "Epoch [12/100] Loss: 1.9383\n",
      "Epoch [12/100] Loss: 1.2984\n",
      "Epoch [12/100] Loss: 1.3308\n"
     ]
    },
    {
     "name": "stderr",
     "output_type": "stream",
     "text": [
      "218it [01:11,  3.04it/s]"
     ]
    },
    {
     "name": "stdout",
     "output_type": "stream",
     "text": [
      "Overall Acc: \t 0.523965645109\n",
      "Mean Acc : \t 0.352666306838\n",
      "FreqW Acc : \t 0.347256615329\n",
      "Mean IoU : \t 0.244445404027\n"
     ]
    },
    {
     "name": "stderr",
     "output_type": "stream",
     "text": [
      "\n"
     ]
    },
    {
     "name": "stdout",
     "output_type": "stream",
     "text": [
      "Epoch [13/100] Loss: 1.0632\n",
      "Epoch [13/100] Loss: 1.1770\n",
      "Epoch [13/100] Loss: 1.3590\n",
      "Epoch [13/100] Loss: 1.3313\n",
      "Epoch [13/100] Loss: 1.4503\n",
      "Epoch [13/100] Loss: 1.3562\n",
      "Epoch [13/100] Loss: 1.4797\n",
      "Epoch [13/100] Loss: 1.2401\n",
      "Epoch [13/100] Loss: 1.8031\n",
      "Epoch [13/100] Loss: 1.2321\n",
      "Epoch [13/100] Loss: 1.1918\n",
      "Epoch [13/100] Loss: 1.2494\n",
      "Epoch [13/100] Loss: 1.3682\n"
     ]
    },
    {
     "name": "stderr",
     "output_type": "stream",
     "text": [
      "218it [01:11,  3.04it/s]\n"
     ]
    },
    {
     "name": "stdout",
     "output_type": "stream",
     "text": [
      "Overall Acc: \t 0.530057727685\n",
      "Mean Acc : \t 0.372655877053\n",
      "FreqW Acc : \t 0.351217836679\n",
      "Mean IoU : \t 0.25357418145\n",
      "Epoch [14/100] Loss: 1.2805\n",
      "Epoch [14/100] Loss: 1.3278\n",
      "Epoch [14/100] Loss: 1.2821\n",
      "Epoch [14/100] Loss: 1.4612\n",
      "Epoch [14/100] Loss: 1.3846\n",
      "Epoch [14/100] Loss: 1.5522\n",
      "Epoch [14/100] Loss: 1.3711\n",
      "Epoch [14/100] Loss: 1.2950\n",
      "Epoch [14/100] Loss: 1.6120\n",
      "Epoch [14/100] Loss: 0.9766\n",
      "Epoch [14/100] Loss: 1.2241\n",
      "Epoch [14/100] Loss: 1.1125\n",
      "Epoch [14/100] Loss: 1.2198\n"
     ]
    },
    {
     "name": "stderr",
     "output_type": "stream",
     "text": [
      "218it [01:11,  3.05it/s]\n"
     ]
    },
    {
     "name": "stdout",
     "output_type": "stream",
     "text": [
      "Overall Acc: \t 0.534332010345\n",
      "Mean Acc : \t 0.378587542262\n",
      "FreqW Acc : \t 0.359290804424\n",
      "Mean IoU : \t 0.261446684783\n",
      "Epoch [15/100] Loss: 1.6128\n",
      "Epoch [15/100] Loss: 1.5607\n",
      "Epoch [15/100] Loss: 1.3420\n",
      "Epoch [15/100] Loss: 1.2568\n",
      "Epoch [15/100] Loss: 1.3905\n",
      "Epoch [15/100] Loss: 1.1932\n",
      "Epoch [15/100] Loss: 1.2905\n",
      "Epoch [15/100] Loss: 1.2346\n",
      "Epoch [15/100] Loss: 1.3233\n",
      "Epoch [15/100] Loss: 1.5609\n",
      "Epoch [15/100] Loss: 0.9851\n",
      "Epoch [15/100] Loss: 1.0614\n",
      "Epoch [15/100] Loss: 1.1138\n"
     ]
    },
    {
     "name": "stderr",
     "output_type": "stream",
     "text": [
      "218it [01:11,  3.05it/s]\n"
     ]
    },
    {
     "name": "stdout",
     "output_type": "stream",
     "text": [
      "Overall Acc: \t 0.539048951564\n",
      "Mean Acc : \t 0.383915719917\n",
      "FreqW Acc : \t 0.366106188189\n",
      "Mean IoU : \t 0.267910152756\n",
      "Epoch [16/100] Loss: 1.1935\n",
      "Epoch [16/100] Loss: 1.3729\n",
      "Epoch [16/100] Loss: 1.5367\n",
      "Epoch [16/100] Loss: 1.4267\n",
      "Epoch [16/100] Loss: 0.9676\n",
      "Epoch [16/100] Loss: 0.9279\n",
      "Epoch [16/100] Loss: 1.4451\n",
      "Epoch [16/100] Loss: 0.8235\n",
      "Epoch [16/100] Loss: 1.1482\n",
      "Epoch [16/100] Loss: 1.4135\n",
      "Epoch [16/100] Loss: 1.2251\n",
      "Epoch [16/100] Loss: 1.0053\n",
      "Epoch [16/100] Loss: 1.5096\n"
     ]
    },
    {
     "name": "stderr",
     "output_type": "stream",
     "text": [
      "218it [02:09,  1.68it/s]\n"
     ]
    },
    {
     "name": "stdout",
     "output_type": "stream",
     "text": [
      "Overall Acc: \t 0.541687054027\n",
      "Mean Acc : \t 0.404587814572\n",
      "FreqW Acc : \t 0.367860661474\n",
      "Mean IoU : \t 0.277000816107\n",
      "Epoch [17/100] Loss: 1.1856\n",
      "Epoch [17/100] Loss: 1.1477\n",
      "Epoch [17/100] Loss: 1.0401\n",
      "Epoch [17/100] Loss: 1.3285\n",
      "Epoch [17/100] Loss: 1.6320\n",
      "Epoch [17/100] Loss: 1.3527\n",
      "Epoch [17/100] Loss: 1.2015\n",
      "Epoch [17/100] Loss: 1.5148\n",
      "Epoch [17/100] Loss: 1.1982\n",
      "Epoch [17/100] Loss: 1.2609\n",
      "Epoch [17/100] Loss: 1.3984\n",
      "Epoch [17/100] Loss: 1.0227\n",
      "Epoch [17/100] Loss: 1.1045\n"
     ]
    },
    {
     "name": "stderr",
     "output_type": "stream",
     "text": [
      "24it [00:19,  1.24it/s]"
     ]
    }
   ],
   "source": [
    "best_iou = -100.0 \n",
    "for epoch in range(args.n_epoch):\n",
    "    model.train()\n",
    "    for i, (color_imgs, depth_imgs, label_imgs) in enumerate(trainloader):\n",
    "        images = Variable(color_imgs.cuda())\n",
    "        depth_images = Variable(depth_imgs.cuda())\n",
    "        labels = Variable(label_imgs.cuda())\n",
    "\n",
    "        optimizer.zero_grad()\n",
    "        outputs = model(images)\n",
    "\n",
    "        loss = loss_fn(input=outputs, target=labels)\n",
    "\n",
    "        loss.backward()\n",
    "        optimizer.step()\n",
    "\n",
    "        if args.visdom:\n",
    "            vis.line(\n",
    "                X=torch.ones((1, 1)).cpu() * i,\n",
    "                Y=torch.Tensor([loss.data[0]]).unsqueeze(0).cpu(),\n",
    "                win=loss_window,\n",
    "                update='append')\n",
    "\n",
    "        if (i+1) % 20 == 0:\n",
    "            print(\"Epoch [%d/%d] Loss: %.4f\" % (epoch+1, args.n_epoch, loss.data[0]))\n",
    "\n",
    "    model.eval()\n",
    "    for i_val, (color_images_val, depth_images_val, label_images_val) in tqdm(enumerate(valloader)):\n",
    "        color_images_val = Variable(color_images_val.cuda(), volatile=True)\n",
    "        depth_images_val = Variable(depth_images_val.cuda(), volatile=True)\n",
    "        label_images_val = Variable(label_images_val.cuda(), volatile=True)\n",
    "\n",
    "        outputs = model(color_images_val)\n",
    "        pred = outputs.data.max(1)[1].cpu().numpy()\n",
    "        gt = label_images_val.data.cpu().numpy()\n",
    "        running_metrics.update(gt, pred)\n",
    "\n",
    "    score, class_iou = running_metrics.get_scores()\n",
    "    for k, v in score.items():\n",
    "        print(k, v)\n",
    "    running_metrics.reset()\n",
    "\n",
    "    if score['Mean IoU : \\t'] >= best_iou:\n",
    "        best_iou = score['Mean IoU : \\t']\n",
    "        state = {'epoch': epoch+1,\n",
    "                 'model_state': model.state_dict(),\n",
    "                 'optimizer_state' : optimizer.state_dict(),}\n",
    "        torch.save(state, \"{}_{}_best_model.pkl\".format(args.arch, 'NYUDv2'))"
   ]
  },
  {
   "cell_type": "code",
   "execution_count": null,
   "metadata": {},
   "outputs": [],
   "source": []
  }
 ],
 "metadata": {
  "kernelspec": {
   "display_name": "Python [conda env:pytorch]",
   "language": "python",
   "name": "conda-env-pytorch-py"
  },
  "language_info": {
   "codemirror_mode": {
    "name": "ipython",
    "version": 3
   },
   "file_extension": ".py",
   "mimetype": "text/x-python",
   "name": "python",
   "nbconvert_exporter": "python",
   "pygments_lexer": "ipython3",
   "version": "3.6.3"
  }
 },
 "nbformat": 4,
 "nbformat_minor": 2
}
